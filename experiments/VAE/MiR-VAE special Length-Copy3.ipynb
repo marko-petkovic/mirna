{
 "cells": [
  {
   "cell_type": "code",
   "execution_count": 1,
   "metadata": {
    "executionInfo": {
     "elapsed": 6,
     "status": "ok",
     "timestamp": 1647023261840,
     "user": {
      "displayName": "Marko Petkovic",
      "photoUrl": "https://lh3.googleusercontent.com/a-/AOh14Gijd0e9r3I1vRZVN6DEwl16XpJxxS1oSAKunOnfZQ=s64",
      "userId": "11987583535390684770"
     },
     "user_tz": -60
    },
    "id": "UuXEtFCubCjx"
   },
   "outputs": [],
   "source": [
    "link = 'D:/users/Marko/downloads/mirna/'"
   ]
  },
  {
   "cell_type": "markdown",
   "metadata": {
    "id": "MgMR4QspjvRl"
   },
   "source": [
    "# Imports"
   ]
  },
  {
   "cell_type": "code",
   "execution_count": 2,
   "metadata": {
    "executionInfo": {
     "elapsed": 5,
     "status": "ok",
     "timestamp": 1647023261840,
     "user": {
      "displayName": "Marko Petkovic",
      "photoUrl": "https://lh3.googleusercontent.com/a-/AOh14Gijd0e9r3I1vRZVN6DEwl16XpJxxS1oSAKunOnfZQ=s64",
      "userId": "11987583535390684770"
     },
     "user_tz": -60
    },
    "id": "aXljY6Cp4zU-"
   },
   "outputs": [],
   "source": [
    "%load_ext tensorboard"
   ]
  },
  {
   "cell_type": "code",
   "execution_count": 3,
   "metadata": {
    "colab": {
     "base_uri": "https://localhost:8080/"
    },
    "executionInfo": {
     "elapsed": 31000,
     "status": "ok",
     "timestamp": 1647023292835,
     "user": {
      "displayName": "Marko Petkovic",
      "photoUrl": "https://lh3.googleusercontent.com/a-/AOh14Gijd0e9r3I1vRZVN6DEwl16XpJxxS1oSAKunOnfZQ=s64",
      "userId": "11987583535390684770"
     },
     "user_tz": -60
    },
    "id": "VgKU5wNzDK4F",
    "outputId": "2edd95bf-9577-4772-eeca-95c5d32cf026"
   },
   "outputs": [],
   "source": [
    "import sys\n",
    "#sys.path.insert(0,'/content/drive/MyDrive/Marko/master')\n",
    "sys.path.insert(0, link)\n",
    "import numpy as np\n",
    "import matplotlib.pyplot as plt\n",
    "\n",
    "#import tensorflow as tf\n",
    "\n",
    "import torch\n",
    "import torch.optim as optim\n",
    "import torch.nn as nn\n",
    "import torch.distributions as dist\n",
    "\n",
    "from torch.nn import functional as F\n",
    "from torchinfo import summary\n",
    "from torch.utils.tensorboard import SummaryWriter\n",
    "from torch.utils.data import Dataset, DataLoader\n",
    "\n",
    "from sklearn.preprocessing import OneHotEncoder\n",
    "\n",
    "from tqdm import tqdm\n",
    "from tqdm import trange\n",
    "\n",
    "import datetime\n",
    "\n",
    "\n",
    "writer = SummaryWriter(f\"{link}/saved_models/SPECIALVAE/tensorboard\")"
   ]
  },
  {
   "cell_type": "code",
   "execution_count": 4,
   "metadata": {
    "executionInfo": {
     "elapsed": 6,
     "status": "ok",
     "timestamp": 1647023292836,
     "user": {
      "displayName": "Marko Petkovic",
      "photoUrl": "https://lh3.googleusercontent.com/a-/AOh14Gijd0e9r3I1vRZVN6DEwl16XpJxxS1oSAKunOnfZQ=s64",
      "userId": "11987583535390684770"
     },
     "user_tz": -60
    },
    "id": "HuLsYxyh6_ZM"
   },
   "outputs": [],
   "source": [
    "DEVICE = torch.device(\"cuda\" if torch.cuda.is_available() else \"cpu\")"
   ]
  },
  {
   "cell_type": "code",
   "execution_count": 5,
   "metadata": {},
   "outputs": [
    {
     "data": {
      "text/plain": [
       "device(type='cuda')"
      ]
     },
     "execution_count": 5,
     "metadata": {},
     "output_type": "execute_result"
    }
   ],
   "source": [
    "DEVICE"
   ]
  },
  {
   "cell_type": "markdown",
   "metadata": {
    "id": "axFkNf0cjx2V"
   },
   "source": [
    "# Model Classes"
   ]
  },
  {
   "cell_type": "code",
   "execution_count": 6,
   "metadata": {
    "executionInfo": {
     "elapsed": 6,
     "status": "ok",
     "timestamp": 1647023292836,
     "user": {
      "displayName": "Marko Petkovic",
      "photoUrl": "https://lh3.googleusercontent.com/a-/AOh14Gijd0e9r3I1vRZVN6DEwl16XpJxxS1oSAKunOnfZQ=s64",
      "userId": "11987583535390684770"
     },
     "user_tz": -60
    },
    "id": "ae7NZhZGj7Zi"
   },
   "outputs": [],
   "source": [
    "class diva_args:\n",
    "\n",
    "    def __init__(self, z_dim=64, d_dim=45, x_dim=7500, y_dim=2,\n",
    "                 beta=10, rec_alpha = 1, rec_beta = 1, \n",
    "                 rec_gamma = 1, warmup = 1, prewarmup = 1):\n",
    "\n",
    "        self.z_dim = z_dim\n",
    "        self.d_dim = d_dim\n",
    "        self.x_dim = x_dim\n",
    "        self.y_dim = y_dim\n",
    "        \n",
    "        self.beta = beta\n",
    "        self.rec_alpha = rec_alpha\n",
    "        self.rec_beta = rec_beta\n",
    "        self.rec_gamma = rec_gamma\n",
    "        self.warmup = warmup\n",
    "        self.prewarmup = prewarmup\n"
   ]
  },
  {
   "cell_type": "markdown",
   "metadata": {
    "id": "tb1vH-a1j7Rf"
   },
   "source": [
    "## Dataset Class"
   ]
  },
  {
   "cell_type": "code",
   "execution_count": 7,
   "metadata": {
    "executionInfo": {
     "elapsed": 328,
     "status": "ok",
     "timestamp": 1647023293159,
     "user": {
      "displayName": "Marko Petkovic",
      "photoUrl": "https://lh3.googleusercontent.com/a-/AOh14Gijd0e9r3I1vRZVN6DEwl16XpJxxS1oSAKunOnfZQ=s64",
      "userId": "11987583535390684770"
     },
     "user_tz": -60
    },
    "id": "D6ouvuZX3WPs"
   },
   "outputs": [],
   "source": [
    "class MicroRNADataset(Dataset):\n",
    "\n",
    "    def __init__(self, ds='train', create_encodings=False, use_subset=False):\n",
    "        \n",
    "        # loading images\n",
    "        self.images = np.load(f'{link}/data/modmirbase_{ds}_images.npz')['arr_0']/255\n",
    "        \n",
    "        \n",
    "        # loading labels\n",
    "        print('Loading Labels! (~10s)')     \n",
    "        ohe = OneHotEncoder(categories='auto', sparse=False)\n",
    "        labels = np.load(f'{link}/data/modmirbase_{ds}_labels.npz')['arr_0']\n",
    "        self.labels = ohe.fit_transform(labels)\n",
    "        \n",
    "        # loading encoded images\n",
    "        print(\"loading encodings\")\n",
    "        if create_encodings:\n",
    "            x_len, x_col, x_bar = self.get_encoded_values(self.images, ds)\n",
    "        else:\n",
    "            x_len = np.load(f'{link}/data/modmirbase_{ds}_images_len2.npz')\n",
    "            x_bar = np.load(f'{link}/data/modmirbase_{ds}_images_bar2.npz')\n",
    "            x_col = np.load(f'{link}/data/modmirbase_{ds}_images_col2.npz')\n",
    "        \n",
    "        self.x_len = x_len\n",
    "        self.x_bar = x_bar\n",
    "        self.x_col = x_col\n",
    "        \n",
    "\n",
    "        # loading names\n",
    "        print('Loading Names! (~5s)')\n",
    "        names =  np.load(f'{link}/data/modmirbase_{ds}_names.npz')['arr_0']\n",
    "        names = [i.decode('utf-8') for i in names]\n",
    "        self.species = ['mmu', 'prd', 'hsa', 'ptr', 'efu', 'cbn', 'gma', 'pma',\n",
    "                        'cel', 'gga', 'ipu', 'ptc', 'mdo', 'cgr', 'bta', 'cin', \n",
    "                        'ppy', 'ssc', 'ath', 'cfa', 'osa', 'mtr', 'gra', 'mml',\n",
    "                        'stu', 'bdi', 'rno', 'oan', 'dre', 'aca', 'eca', 'chi',\n",
    "                        'bmo', 'ggo', 'aly', 'dps', 'mdm', 'ame', 'ppc', 'ssa',\n",
    "                        'ppt', 'tca', 'dme', 'sbi']\n",
    "        # assigning a species label to each observation from species\n",
    "        # with more than 200 observations from past research\n",
    "        self.names = []\n",
    "        for i in names:\n",
    "            append = False\n",
    "            for j in self.species:\n",
    "                if j in i.lower():\n",
    "                    self.names.append(j)\n",
    "                    append = True\n",
    "                    break\n",
    "            if not append:\n",
    "                if 'random' in i.lower() or i.isdigit():\n",
    "                    self.names.append('hsa')\n",
    "                else:\n",
    "                    self.names.append('notfound')\n",
    "        \n",
    "        # performing one hot encoding\n",
    "        ohe = OneHotEncoder(categories='auto', sparse=False)\n",
    "        \n",
    "       \n",
    "        \n",
    "        self.names_ohe = ohe.fit_transform(np.array(self.names).reshape(-1,1))\n",
    "          \n",
    "        if use_subset:    \n",
    "            idxes = [i == 'hsa' and np.random.choice([True, False]) for i in self.names]\n",
    "            self.names_ohe = self.names_ohe[idxes]\n",
    "            self.labels = self.labels[idxes]\n",
    "            self.images = self.images[idxes]\n",
    "            self.x_len = self.x_len[idxes]\n",
    "            self.x_col = self.x_col[idxes]\n",
    "            self.x_bar = self.x_bar[idxes]\n",
    "\n",
    "    \n",
    "    def __len__(self):\n",
    "        return(self.images.shape[0])\n",
    "\n",
    "    def __getitem__(self, idx):\n",
    "        d = self.names_ohe[idx]\n",
    "        y = self.labels[idx]\n",
    "        x = self.images[idx]\n",
    "        x = np.transpose(x, (2,0,1))\n",
    "        x_len = self.x_len[idx]\n",
    "        x_col = self.x_col[idx]\n",
    "        x_bar = self.x_bar[idx]\n",
    "        return (x, y, d, x_len, x_col, x_bar)\n",
    "\n",
    "\n",
    "    def get_encoded_values(self, x, ds):\n",
    "        \"\"\"\n",
    "        given an image or batch of images\n",
    "        returns length of strand, length of bars and colors of bars\n",
    "        \"\"\"\n",
    "        n = x.shape[0]\n",
    "        x = np.transpose(x, (0,3,1,2))\n",
    "        out_len = np.zeros((n), dtype=np.uint8)\n",
    "        out_col = np.zeros((n,5,200), dtype=np.uint8)\n",
    "        out_bar = np.zeros((n,2,100), dtype=np.uint8)\n",
    "\n",
    "        for i in range(n):\n",
    "            if i % 100 == 0:\n",
    "                print(f'at {i} out of {n}')\n",
    "            rna_len = 0\n",
    "            broke = False\n",
    "            for j in range(100):\n",
    "                if (x[i,:,12,j] == np.array([1,1,1])).all():\n",
    "                    out_len[i] = rna_len\n",
    "                    broke = True\n",
    "                    break\n",
    "                else:\n",
    "                    rna_len += 1\n",
    "                    # check color of bars\n",
    "                    out_col[i, self.get_color(x[i,:,12,j]) ,2*j] = 1 \n",
    "                    out_col[i, self.get_color(x[i,:,13,j]), 2*j+1] = 1\n",
    "                    # check length of bars\n",
    "                    len1 = 0\n",
    "                    # loop until white pixel\n",
    "                    while not (x[i,:,12-len1,j] == np.array([1.,1.,1.])).all():\n",
    "                        len1 += 1\n",
    "                        if 13-len1 == 0:\n",
    "                            break\n",
    "                    out_bar[i, 0, j] = len1\n",
    "\n",
    "                    len2 = 0\n",
    "                    while not (x[i,:,13+len2,j] == np.array([1.,1.,1.])).all():\n",
    "                        len2 += 1\n",
    "                        if 13+len2 == 25:\n",
    "                            break\n",
    "                    out_bar[i, 1, j] = len2\n",
    "            if not broke:\n",
    "                out_len[i] = rna_len\n",
    "\n",
    "\n",
    "        with open(f'{link}/data/modmirbase_{ds}_images_len2.npz', 'wb') as f:\n",
    "            np.save(f, out_len)\n",
    "        with open(f'{link}/data/modmirbase_{ds}_images_col2.npz', 'wb') as f:\n",
    "            np.save(f, out_col)\n",
    "        with open(f'{link}/data/modmirbase_{ds}_images_bar2.npz', 'wb') as f:\n",
    "            np.save(f, out_bar)\n",
    "        \n",
    "\n",
    "        return out_len, out_bar, out_col\n",
    "\n",
    "    def get_color(self, pixel):\n",
    "        \"\"\"\n",
    "        returns the encoded value for a pixel\n",
    "        \"\"\"\n",
    "        if (pixel == np.array([0,0,0])).all():  \n",
    "            return 0 # black\n",
    "        elif (pixel == np.array([1,0,0])).all():  \n",
    "            return 1 # red\n",
    "        elif (pixel == np.array([0,0,1])).all():  \n",
    "            return 2 # blue\n",
    "        elif (pixel == np.array([0,1,0])).all():  \n",
    "            return 3 # green\n",
    "        elif (pixel == np.array([1,1,0])).all():  \n",
    "            return 4 # yellow\n",
    "        else:\n",
    "            print(\"Something wrong!\")\n"
   ]
  },
  {
   "cell_type": "markdown",
   "metadata": {
    "id": "Xxj-WGXMj-Ne"
   },
   "source": [
    "## Decoder classes"
   ]
  },
  {
   "cell_type": "code",
   "execution_count": 16,
   "metadata": {
    "executionInfo": {
     "elapsed": 5,
     "status": "ok",
     "timestamp": 1647023293160,
     "user": {
      "displayName": "Marko Petkovic",
      "photoUrl": "https://lh3.googleusercontent.com/a-/AOh14Gijd0e9r3I1vRZVN6DEwl16XpJxxS1oSAKunOnfZQ=s64",
      "userId": "11987583535390684770"
     },
     "user_tz": -60
    },
    "id": "RKizJuchX9uG"
   },
   "outputs": [],
   "source": [
    "# Decoders\n",
    "class px(nn.Module):\n",
    "    def __init__(self, d_dim, x_dim, y_dim, z_dim):\n",
    "        super(px, self).__init__()\n",
    "\n",
    "        self.fc1 = nn.Sequential(nn.Linear(z_dim, 1600, bias=False),  \n",
    "                                 nn.ReLU())\n",
    "        \n",
    "        self.fc2 = nn.Sequential(nn.Linear(1600, 1000, bias=False),  \n",
    "                                 nn.ReLU())\n",
    "        # Predicting length and color of each bar\n",
    "        self.up1 = nn.Upsample(scale_factor=5)\n",
    "        self.de1 = nn.Sequential(nn.ConvTranspose1d(50,100,kernel_size = 5,\n",
    "                                                    stride = 1, padding = 2),\n",
    "                                 nn.ReLU(),)\n",
    "        self.up2 = nn.Upsample(scale_factor=2)\n",
    "        self.de2 = nn.Sequential(\n",
    "                                 nn.ConvTranspose1d(100,100,kernel_size = 5,\n",
    "                                                    stride = 1, padding = 2),\n",
    "                                 nn.ReLU(),\n",
    "                                 )\n",
    "        # Predicting color of each bar\n",
    "        self.color_bar = nn.Sequential(nn.Conv1d(100,5, kernel_size = 15, padding = 'same', padding_mode='reflect'),\n",
    "                                      nn.Softmax(dim=1))\n",
    "        \n",
    "        # Predicting the length of each bar\n",
    "        self.length_bar = nn.Sequential(nn.Conv1d(5, 2, kernel_size = 9, padding = 4, padding_mode='reflect', stride=2), nn.Softplus())\n",
    "        \n",
    "        #self.length_bar_scale = nn.Sequential(nn.Conv1d(100, 1, kernel_size = 3, padding = 'same', bias=False), nn.Sigmoid())\n",
    "        # Predicting length of the RNA strand\n",
    "        self.length_RNA = nn.Sequential(nn.Linear(1000,400), nn.ReLU(),nn.Linear(400,1), nn.Softplus())\n",
    "        #self.length_RNA_scale = nn.Sequential(nn.Linear(400,1, bias=False), nn.Sigmoid())\n",
    "        \n",
    "    def forward(self, z):\n",
    "        \n",
    "        h = self.fc1(z)\n",
    "        h = self.fc2(h)\n",
    "        \n",
    "        len_RNA = self.length_RNA(h)\n",
    "        \n",
    "        len_RNA_sc = nn.Parameter(torch.tensor([1.])).to(DEVICE)\n",
    "        #len_RNA_sc = torch.exp(self.length_RNA_scale(h))\n",
    "        \n",
    "        h = h.view(-1, 50, 20)\n",
    "        h = self.up1(h)\n",
    "        h = self.de1(h)\n",
    "        h = self.up2(h)\n",
    "        h = self.de2(h)\n",
    "        \n",
    "        #len_bar_sc = torch.exp(self.length_bar_scale(h))\n",
    "        \n",
    "        \n",
    "        col_bar = self.color_bar(h)\n",
    "        \n",
    "        len_bar = self.length_bar(col_bar)\n",
    "        len_bar_sc = nn.Parameter(torch.tensor([1.])).to(DEVICE)\n",
    "        \n",
    "        \n",
    "        return len_RNA, len_RNA_sc, len_bar, len_bar_sc, col_bar\n",
    "\n",
    "    def reconstruct_image(self, len_RNA, var_RNA, len_bar, var_bar ,col_bar, sample=False):\n",
    "        \"\"\"\n",
    "        reconstructs RNA image given output from decoder\n",
    "        even indexes of len_bar and col_bar   -> top\n",
    "        uneven indexes of len_bar and col_bar -> bottom\n",
    "        function does not support sampling yet\n",
    "        color reconstructions: 0: black\n",
    "                               1: red\n",
    "                               2: blue\n",
    "                               3: green\n",
    "                               4: yellow\n",
    "        \"\"\"\n",
    "        color_dict = {\n",
    "                  0: np.array([0,0,0]), # black\n",
    "                  1: np.array([1,0,0]), # red\n",
    "                  3: np.array([0,1,0]), # green\n",
    "                  2: np.array([0,0,1]), # blue\n",
    "                  4: np.array([1,1,0])  # yellow\n",
    "                  }\n",
    "    \n",
    "        \n",
    "        len_RNA = len_RNA.cpu().numpy()\n",
    "        var_RNA = var_RNA.cpu().numpy()\n",
    "        #.reshape((100,))\n",
    "        len_bar = len_bar.cpu().numpy()\n",
    "        var_bar = var_bar.cpu().numpy()\n",
    "        col_bar = col_bar.cpu().numpy()\n",
    "        n = len_RNA.shape[0]\n",
    "        output = np.ones((n,25,100,3))\n",
    "\n",
    "        for i in range(n):\n",
    "            if sample:\n",
    "                limit = int(np.round(np.random.normal(loc=len_RNA[i], scale=var_RNA[i])))\n",
    "            else:\n",
    "                limit = int(np.round(len_RNA[i]))\n",
    "            limit = min(100, limit)\n",
    "            for j in range(limit):\n",
    "                if sample:\n",
    "                    _len_bar_1 = int(np.round(np.random.normal(loc=len_bar[i,0,j], scale=var_bar[i,0,j])))\n",
    "                    _len_bar_2 = int(np.round(np.random.normal(loc=len_bar[i,1,j], scale=var_bar[i,1,j])))\n",
    "                    _col_bar_1 = np.random.choice(np.arange(5), p = col_bar[i, :, 2*j])\n",
    "                    _col_bar_2 = np.random.choice(np.arange(5), p = col_bar[i,:, 2*j+1])\n",
    "                else:\n",
    "                    _len_bar_1 = int(np.round(len_bar[i,0,j])) \n",
    "                    _len_bar_2 = int(np.round(len_bar[i,1,j]))\n",
    "                    _col_bar_1 = np.argmax(col_bar[i,:, 2*j])\n",
    "                    _col_bar_2 = np.argmax(col_bar[i,:, 2*j+1])\n",
    "                \n",
    "                h1 = max(0,13-_len_bar_1)\n",
    "                # paint upper bar\n",
    "                output[i, h1:13, j] = color_dict[_col_bar_1]\n",
    "                h2 = min(25,13+_len_bar_2)\n",
    "                # paint lower bar\n",
    "                output[i, 13:h2, j] = color_dict[_col_bar_2]\n",
    "        \n",
    "        \n",
    "        return output\n"
   ]
  },
  {
   "cell_type": "code",
   "execution_count": 17,
   "metadata": {},
   "outputs": [
    {
     "data": {
      "text/plain": [
       "3"
      ]
     },
     "execution_count": 17,
     "metadata": {},
     "output_type": "execute_result"
    }
   ],
   "source": [
    "int(np.round(3.7, 0))\n",
    "int(3.7)"
   ]
  },
  {
   "cell_type": "code",
   "execution_count": 18,
   "metadata": {
    "executionInfo": {
     "elapsed": 4,
     "status": "ok",
     "timestamp": 1647023293160,
     "user": {
      "displayName": "Marko Petkovic",
      "photoUrl": "https://lh3.googleusercontent.com/a-/AOh14Gijd0e9r3I1vRZVN6DEwl16XpJxxS1oSAKunOnfZQ=s64",
      "userId": "11987583535390684770"
     },
     "user_tz": -60
    },
    "id": "1y8G2S1zxzTH"
   },
   "outputs": [],
   "source": [
    "# pzy_ = pzy(45, 7500, 2, 32,32,32)\n",
    "# summary(pzy_, (1,2))\n",
    "# pzy_ = px(45, 7500, 2, 32,32,32)\n",
    "# summary(pzy_, [(1,32),(1,32),(1,32)])"
   ]
  },
  {
   "cell_type": "markdown",
   "metadata": {
    "id": "YmNnZWXvkCDP"
   },
   "source": [
    "## Endcoder Classes"
   ]
  },
  {
   "cell_type": "code",
   "execution_count": 19,
   "metadata": {
    "executionInfo": {
     "elapsed": 5,
     "status": "ok",
     "timestamp": 1647013220008,
     "user": {
      "displayName": "Marko Petkovic",
      "photoUrl": "https://lh3.googleusercontent.com/a-/AOh14Gijd0e9r3I1vRZVN6DEwl16XpJxxS1oSAKunOnfZQ=s64",
      "userId": "11987583535390684770"
     },
     "user_tz": -60
    },
    "id": "tt82wvITwg4j"
   },
   "outputs": [],
   "source": [
    "#pzy_.reconstruct_image(torch.zeros((1,100)), torch.zeros((1,13,200)), torch.zeros(1,5,200)).shape"
   ]
  },
  {
   "cell_type": "code",
   "execution_count": 20,
   "metadata": {
    "executionInfo": {
     "elapsed": 313,
     "status": "ok",
     "timestamp": 1647023293469,
     "user": {
      "displayName": "Marko Petkovic",
      "photoUrl": "https://lh3.googleusercontent.com/a-/AOh14Gijd0e9r3I1vRZVN6DEwl16XpJxxS1oSAKunOnfZQ=s64",
      "userId": "11987583535390684770"
     },
     "user_tz": -60
    },
    "id": "78ZFH8gYl_-z"
   },
   "outputs": [],
   "source": [
    "class qz(nn.Module):\n",
    "    def __init__(self, d_dim, x_dim, y_dim, z_dim):\n",
    "        super(qz, self).__init__()\n",
    "\n",
    "        self.encoder = nn.Sequential(\n",
    "            nn.Conv2d(3, 64, kernel_size=5, stride=1, padding = 'same',bias=False),\n",
    "            nn.ReLU(),\n",
    "            nn.MaxPool2d(2, 2),\n",
    "            nn.Conv2d(64, 128, kernel_size=3, stride=1, padding = 'same', bias=False),\n",
    "            nn.ReLU(), \n",
    "            nn.MaxPool2d(2, 2),\n",
    "            nn.Conv2d(128, 256, kernel_size=3, stride=1, bias=False),\n",
    "            nn.ReLU(), \n",
    "            nn.MaxPool2d(2, 2),\n",
    "        )\n",
    "\n",
    "        self.fc11 = nn.Sequential(nn.Linear(5632, z_dim))\n",
    "        self.fc12 = nn.Sequential(nn.Linear(5632, z_dim), nn.Softplus())\n",
    "\n",
    "        torch.nn.init.xavier_uniform_(self.encoder[0].weight)\n",
    "        torch.nn.init.xavier_uniform_(self.encoder[3].weight)\n",
    "        torch.nn.init.xavier_uniform_(self.fc11[0].weight)\n",
    "        self.fc11[0].bias.data.zero_()\n",
    "        torch.nn.init.xavier_uniform_(self.fc12[0].weight)\n",
    "        self.fc12[0].bias.data.zero_()\n",
    "\n",
    "    def forward(self, x):\n",
    "        h = self.encoder(x)\n",
    "        h = h.view(-1, 5632)\n",
    "        z_loc = self.fc11(h)\n",
    "        z_scale = self.fc12(h) + 1e-7\n",
    "\n",
    "        return z_loc, z_scale\n",
    "\n",
    "\n"
   ]
  },
  {
   "cell_type": "code",
   "execution_count": 21,
   "metadata": {},
   "outputs": [
    {
     "data": {
      "text/plain": [
       "==========================================================================================\n",
       "Layer (type:depth-idx)                   Output Shape              Param #\n",
       "==========================================================================================\n",
       "qz                                       --                        --\n",
       "├─Sequential: 1-1                        [1, 256, 2, 11]           --\n",
       "│    └─Conv2d: 2-1                       [1, 64, 25, 100]          4,800\n",
       "│    └─ReLU: 2-2                         [1, 64, 25, 100]          --\n",
       "│    └─MaxPool2d: 2-3                    [1, 64, 12, 50]           --\n",
       "│    └─Conv2d: 2-4                       [1, 128, 12, 50]          73,728\n",
       "│    └─ReLU: 2-5                         [1, 128, 12, 50]          --\n",
       "│    └─MaxPool2d: 2-6                    [1, 128, 6, 25]           --\n",
       "│    └─Conv2d: 2-7                       [1, 256, 4, 23]           294,912\n",
       "│    └─ReLU: 2-8                         [1, 256, 4, 23]           --\n",
       "│    └─MaxPool2d: 2-9                    [1, 256, 2, 11]           --\n",
       "├─Sequential: 1-2                        [1, 10]                   --\n",
       "│    └─Linear: 2-10                      [1, 10]                   56,330\n",
       "├─Sequential: 1-3                        [1, 10]                   --\n",
       "│    └─Linear: 2-11                      [1, 10]                   56,330\n",
       "│    └─Softplus: 2-12                    [1, 10]                   --\n",
       "==========================================================================================\n",
       "Total params: 486,100\n",
       "Trainable params: 486,100\n",
       "Non-trainable params: 0\n",
       "Total mult-adds (M): 83.48\n",
       "==========================================================================================\n",
       "Input size (MB): 0.03\n",
       "Forward/backward pass size (MB): 2.08\n",
       "Params size (MB): 1.94\n",
       "Estimated Total Size (MB): 4.06\n",
       "=========================================================================================="
      ]
     },
     "execution_count": 21,
     "metadata": {},
     "output_type": "execute_result"
    }
   ],
   "source": [
    "enc = qz(128,10,10,10)\n",
    "summary(enc, (1,3,25,100))"
   ]
  },
  {
   "cell_type": "markdown",
   "metadata": {
    "id": "vn_gJdNSkH_V"
   },
   "source": [
    "## Full model class"
   ]
  },
  {
   "cell_type": "code",
   "execution_count": 22,
   "metadata": {
    "executionInfo": {
     "elapsed": 10,
     "status": "ok",
     "timestamp": 1647023293470,
     "user": {
      "displayName": "Marko Petkovic",
      "photoUrl": "https://lh3.googleusercontent.com/a-/AOh14Gijd0e9r3I1vRZVN6DEwl16XpJxxS1oSAKunOnfZQ=s64",
      "userId": "11987583535390684770"
     },
     "user_tz": -60
    },
    "id": "BgR5BnQN1WWG"
   },
   "outputs": [],
   "source": [
    "class StampDIVA(nn.Module):\n",
    "    def __init__(self, args):\n",
    "        super(StampDIVA, self).__init__()\n",
    "        self.z_dim = args.z_dim\n",
    "        self.d_dim = args.d_dim\n",
    "        self.x_dim = args.x_dim\n",
    "        self.y_dim = args.y_dim\n",
    "\n",
    "        self.px = px(self.d_dim, self.x_dim, self.y_dim, self.z_dim)\n",
    "        \n",
    "        self.qz = qz(self.d_dim, self.x_dim, self.y_dim, self.z_dim)\n",
    "        \n",
    "\n",
    "        self.beta = args.beta\n",
    "        \n",
    "        self.rec_alpha = args.rec_alpha\n",
    "        self.rec_beta = args.rec_beta\n",
    "        self.rec_gamma = args.rec_gamma\n",
    "\n",
    "        self.warmup = args.warmup\n",
    "        self.prewarmup = args.prewarmup\n",
    "\n",
    "        self.cuda()\n",
    "\n",
    "    def forward(self, d, x, y):\n",
    "        # Encode\n",
    "        zd_q_loc, zd_q_scale = self.qz(x)\n",
    "        \n",
    "        # Reparameterization trick\n",
    "        qz = dist.Normal(zd_q_loc, zd_q_scale)\n",
    "        z_q = qz.rsample()\n",
    "        \n",
    "        \n",
    "        # Decode\n",
    "        x_len, x_len_scale, x_bar, x_bar_scale, x_col = self.px(z_q)\n",
    "        z_p_loc, z_p_scale = torch.zeros(z_q.size()[0], self.z_dim).cuda(),\\\n",
    "                        torch.ones(z_q.size()[0], self.z_dim).cuda()\n",
    "        pz = dist.Normal(z_p_loc, z_p_scale)\n",
    "\n",
    "        # Reparameterization trick\n",
    "        pz = dist.Normal(z_p_loc, z_p_scale)\n",
    "        \n",
    "        return x_len, x_len_scale, x_bar, x_bar_scale, x_col, qz, pz, z_q\n",
    "\n",
    "    def loss_function(self, d, x, y, out_len, out_bar, out_col):\n",
    "        \n",
    "        x_len, x_len_scale, x_bar, x_bar_scale, x_col, qz, pz, z_q = self.forward(d, x, y)\n",
    "        mask = 1 - F.one_hot(torch.round(out_len).to(torch.int64)*2-1, 200).cumsum(dim=1)[:,None,:]\n",
    "        mask1 = (1 - F.one_hot(torch.round(out_len).to(torch.int64)-1, 100).cumsum(dim=1)[:,None,:]).repeat(1,2,1)\n",
    "\n",
    "        \n",
    "        #x_bar = mask.repeat(1,1,1)*x_bar\n",
    "        \n",
    "        #x_bar_scale = mask.repeat(1,1,1)*x_bar_scale\n",
    "        x_col = mask.repeat(1,5,1)*x_col\n",
    "        \n",
    "        \n",
    "        dist_len = dist.Normal(x_len, x_len_scale+1e-7)\n",
    "        log_len = dist_len.log_prob(out_len[:,None]).mean()\n",
    "        \n",
    "       # dist_bar = dist.Normal(x_bar, x_bar_scale+1e-7)\n",
    "        #log_bar = dist_bar.log_prob(out_bar)*mask1\n",
    "        #log_bar = (log_bar).sum(dim=(1,2)).mean()\n",
    "        \n",
    "        mse_bar = ((((x_bar - out_bar)**2)*mask1).sum(dim=(1,2))/(mask1.sum(dim=(1,2)))).sum()#.detach().item()\n",
    "        \n",
    "        max_bar = torch.argmax(x_col, dim=1)\n",
    "        #acc_bar = (((max_bar==out_col)*mask).sum(dim=(1,2))/mask.sum(dim=(1,2))).sum().detach().item()/5\n",
    "        acc_bar = (max_bar==torch.argmax(out_col, dim=1)).sum().float()\n",
    "        \n",
    "        CE_len = -log_len\n",
    "        CE_bar = mse_bar#-log_bar\n",
    "        CE_col = F.cross_entropy(x_col, out_col, reduction='sum')\n",
    "\n",
    "        KL_z = torch.sum(pz.log_prob(z_q) - qz.log_prob(z_q))\n",
    "          \n",
    "        return self.rec_alpha * CE_len \\\n",
    "                  + self.rec_beta * CE_bar \\\n",
    "                  + self.rec_gamma * CE_col \\\n",
    "                  - self.beta * KL_z, \\\n",
    "                  CE_bar, CE_len, CE_col, mse_bar, acc_bar"
   ]
  },
  {
   "cell_type": "code",
   "execution_count": 23,
   "metadata": {},
   "outputs": [
    {
     "data": {
      "text/plain": [
       "==========================================================================================\n",
       "Layer (type:depth-idx)                   Output Shape              Param #\n",
       "==========================================================================================\n",
       "StampDIVA                                --                        --\n",
       "├─qz: 1-1                                [1, 1600]                 --\n",
       "│    └─Sequential: 2-1                   [1, 256, 2, 11]           --\n",
       "│    │    └─Conv2d: 3-1                  [1, 64, 25, 100]          4,800\n",
       "│    │    └─ReLU: 3-2                    [1, 64, 25, 100]          --\n",
       "│    │    └─MaxPool2d: 3-3               [1, 64, 12, 50]           --\n",
       "│    │    └─Conv2d: 3-4                  [1, 128, 12, 50]          73,728\n",
       "│    │    └─ReLU: 3-5                    [1, 128, 12, 50]          --\n",
       "│    │    └─MaxPool2d: 3-6               [1, 128, 6, 25]           --\n",
       "│    │    └─Conv2d: 3-7                  [1, 256, 4, 23]           294,912\n",
       "│    │    └─ReLU: 3-8                    [1, 256, 4, 23]           --\n",
       "│    │    └─MaxPool2d: 3-9               [1, 256, 2, 11]           --\n",
       "│    └─Sequential: 2-2                   [1, 1600]                 --\n",
       "│    │    └─Linear: 3-10                 [1, 1600]                 9,012,800\n",
       "│    └─Sequential: 2-3                   [1, 1600]                 --\n",
       "│    │    └─Linear: 3-11                 [1, 1600]                 9,012,800\n",
       "│    │    └─Softplus: 3-12               [1, 1600]                 --\n",
       "├─px: 1-2                                [1, 1]                    --\n",
       "│    └─Sequential: 2-4                   [1, 1600]                 --\n",
       "│    │    └─Linear: 3-13                 [1, 1600]                 2,560,000\n",
       "│    │    └─ReLU: 3-14                   [1, 1600]                 --\n",
       "│    └─Sequential: 2-5                   [1, 1000]                 --\n",
       "│    │    └─Linear: 3-15                 [1, 1000]                 1,600,000\n",
       "│    │    └─ReLU: 3-16                   [1, 1000]                 --\n",
       "│    └─Sequential: 2-6                   [1, 1]                    --\n",
       "│    │    └─Linear: 3-17                 [1, 400]                  400,400\n",
       "│    │    └─ReLU: 3-18                   [1, 400]                  --\n",
       "│    │    └─Linear: 3-19                 [1, 1]                    401\n",
       "│    │    └─Softplus: 3-20               [1, 1]                    --\n",
       "│    └─Upsample: 2-7                     [1, 50, 100]              --\n",
       "│    └─Sequential: 2-8                   [1, 100, 100]             --\n",
       "│    │    └─ConvTranspose1d: 3-21        [1, 100, 100]             25,100\n",
       "│    │    └─ReLU: 3-22                   [1, 100, 100]             --\n",
       "│    └─Upsample: 2-9                     [1, 100, 200]             --\n",
       "│    └─Sequential: 2-10                  [1, 100, 200]             --\n",
       "│    │    └─ConvTranspose1d: 3-23        [1, 100, 200]             50,100\n",
       "│    │    └─ReLU: 3-24                   [1, 100, 200]             --\n",
       "│    └─Sequential: 2-11                  [1, 5, 200]               --\n",
       "│    │    └─Conv1d: 3-25                 [1, 5, 200]               7,505\n",
       "│    │    └─Softmax: 3-26                [1, 5, 200]               --\n",
       "│    └─Sequential: 2-12                  [1, 2, 100]               --\n",
       "│    │    └─Conv1d: 3-27                 [1, 2, 100]               92\n",
       "│    │    └─Softplus: 3-28               [1, 2, 100]               --\n",
       "==========================================================================================\n",
       "Total params: 23,042,638\n",
       "Trainable params: 23,042,638\n",
       "Non-trainable params: 0\n",
       "Total mult-adds (M): 120.00\n",
       "==========================================================================================\n",
       "Input size (MB): 0.03\n",
       "Forward/backward pass size (MB): 2.38\n",
       "Params size (MB): 92.17\n",
       "Estimated Total Size (MB): 94.58\n",
       "=========================================================================================="
      ]
     },
     "execution_count": 23,
     "metadata": {},
     "output_type": "execute_result"
    }
   ],
   "source": [
    "default_args = diva_args(z_dim=1600, rec_alpha = 10, rec_beta = 10, rec_gamma = 10, \n",
    "                         beta=1, warmup=1, prewarmup=0)\n",
    "enc = StampDIVA(default_args)\n",
    "summary(enc,[ (1,1),(1,3,25,100),(1,1)])"
   ]
  },
  {
   "cell_type": "markdown",
   "metadata": {
    "id": "LdOsLfYJjBBe"
   },
   "source": [
    "# Training the model"
   ]
  },
  {
   "cell_type": "markdown",
   "metadata": {
    "id": "rH1E5J-ps3GD"
   },
   "source": [
    "## Loading dataset"
   ]
  },
  {
   "cell_type": "code",
   "execution_count": 24,
   "metadata": {
    "colab": {
     "base_uri": "https://localhost:8080/"
    },
    "executionInfo": {
     "elapsed": 16152,
     "status": "ok",
     "timestamp": 1647023309618,
     "user": {
      "displayName": "Marko Petkovic",
      "photoUrl": "https://lh3.googleusercontent.com/a-/AOh14Gijd0e9r3I1vRZVN6DEwl16XpJxxS1oSAKunOnfZQ=s64",
      "userId": "11987583535390684770"
     },
     "user_tz": -60
    },
    "id": "myflmDPxjV40",
    "outputId": "0befed1a-e175-47eb-e1c0-f9f28da53d7c"
   },
   "outputs": [
    {
     "name": "stdout",
     "output_type": "stream",
     "text": [
      "Loading Labels! (~10s)\n",
      "loading encodings\n",
      "Loading Names! (~5s)\n"
     ]
    }
   ],
   "source": [
    "RNA_dataset = MicroRNADataset(create_encodings=False)"
   ]
  },
  {
   "cell_type": "code",
   "execution_count": 25,
   "metadata": {
    "colab": {
     "base_uri": "https://localhost:8080/"
    },
    "executionInfo": {
     "elapsed": 7139,
     "status": "ok",
     "timestamp": 1647023316754,
     "user": {
      "displayName": "Marko Petkovic",
      "photoUrl": "https://lh3.googleusercontent.com/a-/AOh14Gijd0e9r3I1vRZVN6DEwl16XpJxxS1oSAKunOnfZQ=s64",
      "userId": "11987583535390684770"
     },
     "user_tz": -60
    },
    "id": "ut2P5RSaMoDR",
    "outputId": "eafab284-1376-4f62-c8c9-bb8e87351bd4"
   },
   "outputs": [
    {
     "name": "stdout",
     "output_type": "stream",
     "text": [
      "Loading Labels! (~10s)\n",
      "loading encodings\n",
      "Loading Names! (~5s)\n"
     ]
    }
   ],
   "source": [
    "RNA_dataset_test = MicroRNADataset('test', create_encodings=False)"
   ]
  },
  {
   "cell_type": "code",
   "execution_count": 26,
   "metadata": {},
   "outputs": [
    {
     "data": {
      "text/plain": [
       "34721"
      ]
     },
     "execution_count": 26,
     "metadata": {},
     "output_type": "execute_result"
    }
   ],
   "source": [
    "len(RNA_dataset)"
   ]
  },
  {
   "cell_type": "code",
   "execution_count": 27,
   "metadata": {
    "executionInfo": {
     "elapsed": 12,
     "status": "ok",
     "timestamp": 1647023316754,
     "user": {
      "displayName": "Marko Petkovic",
      "photoUrl": "https://lh3.googleusercontent.com/a-/AOh14Gijd0e9r3I1vRZVN6DEwl16XpJxxS1oSAKunOnfZQ=s64",
      "userId": "11987583535390684770"
     },
     "user_tz": -60
    },
    "id": "eVGq463Y2m20"
   },
   "outputs": [],
   "source": [
    "def train_single_epoch(train_loader, model, optimizer, epoch):\n",
    "    model.train()\n",
    "    train_loss = 0\n",
    "    epoch_bar_loss = 0\n",
    "    epoch_col_loss = 0\n",
    "    epoch_len_loss = 0\n",
    "    no_batches = 0\n",
    "    train_corr = 0\n",
    "    mse_bar = 0\n",
    "    acc_bar = 0\n",
    "    pbar = tqdm(enumerate(train_loader), unit=\"batch\", \n",
    "                                     desc=f'Epoch {epoch}')\n",
    "    for batch_idx, (x, y, d, x_len, x_col, x_bar) in pbar:\n",
    "        # To device\n",
    "        x, y, d , x_len, x_bar, x_col = x.to(DEVICE), y.to(DEVICE), d.to(DEVICE), x_len.to(DEVICE), x_bar.to(DEVICE), x_col.to(DEVICE)\n",
    "\n",
    "        optimizer.zero_grad()\n",
    "        loss, bar_loss, len_loss, col_loss, mse, acc = model.loss_function(d.float(), x.float(), y.float(), x_len.float(), x_bar.float(), x_col.float())\n",
    "      \n",
    "        loss.backward()\n",
    "        optimizer.step()\n",
    "        pbar.set_postfix(loss=loss.item()/x.shape[0])\n",
    "        train_loss += loss\n",
    "        epoch_bar_loss += bar_loss\n",
    "        epoch_col_loss += col_loss\n",
    "        epoch_len_loss += len_loss\n",
    "        mse_bar += mse\n",
    "        acc_bar += acc\n",
    "        no_batches += 1\n",
    "\n",
    "    train_loss /= len(train_loader.dataset)\n",
    "    epoch_bar_loss /= len(train_loader.dataset)\n",
    "    epoch_len_loss /= len(train_loader.dataset)\n",
    "    epoch_col_loss /= len(train_loader.dataset)\n",
    "    acc_bar /= len(train_loader.dataset)\n",
    "    mse_bar /= len(train_loader.dataset)\n",
    "    \n",
    "    return train_loss, epoch_bar_loss, epoch_len_loss, epoch_col_loss, mse_bar, acc_bar"
   ]
  },
  {
   "cell_type": "code",
   "execution_count": 28,
   "metadata": {
    "executionInfo": {
     "elapsed": 12,
     "status": "ok",
     "timestamp": 1647023316755,
     "user": {
      "displayName": "Marko Petkovic",
      "photoUrl": "https://lh3.googleusercontent.com/a-/AOh14Gijd0e9r3I1vRZVN6DEwl16XpJxxS1oSAKunOnfZQ=s64",
      "userId": "11987583535390684770"
     },
     "user_tz": -60
    },
    "id": "dT7E0C3nM3qh"
   },
   "outputs": [],
   "source": [
    "def test_single_epoch(test_loader, model, epoch):\n",
    "    model.eval()\n",
    "    test_loss = 0\n",
    "    epoch_bar_loss = 0\n",
    "    epoch_col_loss = 0\n",
    "    epoch_len_loss = 0\n",
    "    mse_bar = 0\n",
    "    acc_bar = 0        \n",
    "    with torch.no_grad():\n",
    "        for batch_idx, (x,y,d,x_len,x_col,x_bar) in enumerate(test_loader):\n",
    "            x, y, d, x_len, x_bar, x_col = x.to(DEVICE), y.to(DEVICE), d.to(DEVICE), x_len.to(DEVICE), x_bar.to(DEVICE), x_col.to(DEVICE)\n",
    "            loss, bar_loss, len_loss, col_loss, mse, acc = model.loss_function(d.float(), x.float(), y.float(),x_len.float(),x_bar.float(),x_col.float())\n",
    "            test_loss += loss\n",
    "            epoch_bar_loss += bar_loss\n",
    "            epoch_col_loss += col_loss\n",
    "            epoch_len_loss += len_loss\n",
    "            mse_bar += mse\n",
    "            acc_bar += acc\n",
    "    test_loss /= len(test_loader.dataset)\n",
    "    epoch_bar_loss /= len(test_loader.dataset)\n",
    "    epoch_len_loss /= len(test_loader.dataset)\n",
    "    epoch_col_loss /= len(test_loader.dataset)\n",
    "    acc_bar /= len(test_loader.dataset)\n",
    "    mse_bar /= len(test_loader.dataset)\n",
    "    \n",
    "    return test_loss, epoch_bar_loss, epoch_len_loss, epoch_col_loss, mse_bar, acc_bar\n",
    "  "
   ]
  },
  {
   "cell_type": "code",
   "execution_count": 34,
   "metadata": {
    "executionInfo": {
     "elapsed": 11,
     "status": "ok",
     "timestamp": 1647023316755,
     "user": {
      "displayName": "Marko Petkovic",
      "photoUrl": "https://lh3.googleusercontent.com/a-/AOh14Gijd0e9r3I1vRZVN6DEwl16XpJxxS1oSAKunOnfZQ=s64",
      "userId": "11987583535390684770"
     },
     "user_tz": -60
    },
    "id": "npLjVGs0jHYn"
   },
   "outputs": [],
   "source": [
    "def train(args, train_loader, test_loader, diva, optimizer, end_epoch, start_epoch=0,\n",
    "          save_folder='sd_1.0.0',save_interval=5,save_model_interval=50):\n",
    "    \n",
    "    epoch_loss_sup = []\n",
    "    test_loss = []\n",
    "    \n",
    "    for epoch in range(start_epoch+1, end_epoch+1):\n",
    "        diva.beta = min([args.beta, args.beta * (epoch - args.prewarmup * 1.) / (args.warmup)])\n",
    "        if epoch< args.prewarmup:\n",
    "            diva.beta = args.beta/args.prewarmup\n",
    "        train_loss, avg_loss_bar, avg_loss_len, avg_loss_col, mtr, atr = train_single_epoch(train_loader, diva, optimizer, epoch)\n",
    "        str_loss_sup = train_loss\n",
    "        epoch_loss_sup.append(train_loss)\n",
    "        str_print = \"epoch {}: avg train loss {:.2f}\".format(epoch, str_loss_sup)\n",
    "        str_print += \", bar train loss {:.3f}\".format(avg_loss_bar)\n",
    "        str_print += \", len train loss {:.3f}\".format(avg_loss_len)\n",
    "        str_print += \", col train loss {:.3f}\".format(avg_loss_col)\n",
    "        print(str_print)\n",
    "\n",
    "        rec_loss_train = diva.rec_alpha * avg_loss_len + diva.rec_beta * avg_loss_bar + diva.rec_gamma * avg_loss_col\n",
    "        dis_loss_train = train_loss - rec_loss_train\n",
    "\n",
    "        test_lss, avg_loss_bar_test, avg_loss_len_test, avg_loss_col_test, mte, ate = test_single_epoch(test_loader, diva, epoch)\n",
    "        test_loss.append(test_lss)\n",
    "       \n",
    "        str_print = \"epoch {}: avg test  loss {:.2f}\".format(epoch, test_lss)\n",
    "        str_print += \", bar  test loss {:.3f}\".format(avg_loss_bar_test)\n",
    "        str_print += \", len  test loss {:.3f}\".format(avg_loss_len_test)\n",
    "        str_print += \", col  test loss {:.3f}\".format(avg_loss_col_test)\n",
    "        print(str_print)\n",
    "\n",
    "        rec_loss_test = diva.rec_alpha * avg_loss_len_test + diva.rec_beta * avg_loss_bar_test + diva.rec_gamma * avg_loss_col_test\n",
    "        dis_loss_test = test_lss - rec_loss_test\n",
    "\n",
    "        if writer is not None:\n",
    "            \n",
    "            writer.add_scalars(\"Total_Loss\", {'train': train_loss, 'test': test_lss} ,epoch)\n",
    "            writer.add_scalars(\"Reconstruction_vs_Disentanglement\",{'rec':rec_loss_train, 'dis':dis_loss_train}, epoch)\n",
    "            writer.add_scalars(\"bar_mse\",{'train': mtr, 'test':mte}, epoch)\n",
    "            writer.add_scalars(\"bar_acc\",{'train': atr, 'test':ate}, epoch)\n",
    "\n",
    "        if epoch % save_interval == 0:\n",
    "            save_reconstructions(epoch, test_loader, diva, name=save_folder)\n",
    "            save_reconstructions(epoch, train_loader, diva, name=save_folder, estr='tr')\n",
    "        \n",
    "        if epoch % save_model_interval == 0:\n",
    "            torch.save(diva.state_dict(), f'{link}/saved_models/{save_folder}/checkpoints/{epoch}.pth')\n",
    "            \n",
    "\n",
    "    if writer is not None:\n",
    "        writer.flush()\n",
    "\n",
    "    epoch_loss_sup = [i.cpu().detach().numpy() for i in epoch_loss_sup]\n",
    "    test_loss = [i.cpu().detach().numpy() for i in test_loss]\n",
    "    return epoch_loss_sup, test_loss"
   ]
  },
  {
   "cell_type": "code",
   "execution_count": 35,
   "metadata": {
    "executionInfo": {
     "elapsed": 9,
     "status": "ok",
     "timestamp": 1647023317082,
     "user": {
      "displayName": "Marko Petkovic",
      "photoUrl": "https://lh3.googleusercontent.com/a-/AOh14Gijd0e9r3I1vRZVN6DEwl16XpJxxS1oSAKunOnfZQ=s64",
      "userId": "11987583535390684770"
     },
     "user_tz": -60
    },
    "id": "XxN8U8YK0Qi1"
   },
   "outputs": [],
   "source": [
    "def save_reconstructions(epoch, test_loader, diva, name='diva', estr=''):\n",
    "    a = next(enumerate(test_loader))\n",
    "    with torch.no_grad():\n",
    "        diva.eval()\n",
    "        d = a[1][2][:10].to(DEVICE).float()\n",
    "        x = a[1][0][:10].to(DEVICE).float()\n",
    "        y = a[1][1][:10].to(DEVICE).float()\n",
    "        x_1, x_1var, x_2, x_2var, x_3, _, _, _ = diva(d,x,y)\n",
    "        out = diva.px.reconstruct_image(x_1, x_1var, x_2, x_2var, x_3)\n",
    "\n",
    "    plt.figure(figsize=(80,20))\n",
    "    fig, ax = plt.subplots(nrows=10, ncols=2)\n",
    "\n",
    "    ax[0,0].set_title(\"Original\")\n",
    "    ax[0,1].set_title(\"Reconstructed\")\n",
    "\n",
    "    for i in range(10):\n",
    "        ax[i, 1].imshow(out[i])\n",
    "        ax[i, 0].imshow(x[i].cpu().permute(1,2,0))\n",
    "        ax[i, 0].xaxis.set_visible(False)\n",
    "        ax[i, 0].yaxis.set_visible(False)\n",
    "        ax[i, 1].xaxis.set_visible(False)\n",
    "        ax[i, 1].yaxis.set_visible(False)\n",
    "    fig.tight_layout(pad=0.1)\n",
    "    plt.savefig(f'{link}/saved_models/{name}/reconstructions/e{epoch}{estr}.png')\n",
    "    plt.close('all')"
   ]
  },
  {
   "cell_type": "code",
   "execution_count": 36,
   "metadata": {
    "colab": {
     "base_uri": "https://localhost:8080/"
    },
    "executionInfo": {
     "elapsed": 8,
     "status": "ok",
     "timestamp": 1647023317082,
     "user": {
      "displayName": "Marko Petkovic",
      "photoUrl": "https://lh3.googleusercontent.com/a-/AOh14Gijd0e9r3I1vRZVN6DEwl16XpJxxS1oSAKunOnfZQ=s64",
      "userId": "11987583535390684770"
     },
     "user_tz": -60
    },
    "id": "YVAD-Mjwh7yq",
    "outputId": "f330c11c-e358-41af-9ef4-bc36c146f907"
   },
   "outputs": [
    {
     "data": {
      "text/plain": [
       "device(type='cuda')"
      ]
     },
     "execution_count": 36,
     "metadata": {},
     "output_type": "execute_result"
    }
   ],
   "source": [
    "DEVICE"
   ]
  },
  {
   "cell_type": "markdown",
   "metadata": {
    "id": "nI4-NzHxjmci"
   },
   "source": [
    "## Model Training"
   ]
  },
  {
   "cell_type": "code",
   "execution_count": 37,
   "metadata": {
    "executionInfo": {
     "elapsed": 4,
     "status": "ok",
     "timestamp": 1647023317083,
     "user": {
      "displayName": "Marko Petkovic",
      "photoUrl": "https://lh3.googleusercontent.com/a-/AOh14Gijd0e9r3I1vRZVN6DEwl16XpJxxS1oSAKunOnfZQ=s64",
      "userId": "11987583535390684770"
     },
     "user_tz": -60
    },
    "id": "sJE0HTJE1ayP"
   },
   "outputs": [],
   "source": [
    "default_args = diva_args(z_dim=2048, rec_alpha = 100, rec_beta = 10, rec_gamma = 5, \n",
    "                         beta=1, warmup=1, prewarmup=0)"
   ]
  },
  {
   "cell_type": "code",
   "execution_count": 38,
   "metadata": {
    "colab": {
     "base_uri": "https://localhost:8080/",
     "height": 0
    },
    "executionInfo": {
     "elapsed": 1182,
     "status": "error",
     "timestamp": 1647023318262,
     "user": {
      "displayName": "Marko Petkovic",
      "photoUrl": "https://lh3.googleusercontent.com/a-/AOh14Gijd0e9r3I1vRZVN6DEwl16XpJxxS1oSAKunOnfZQ=s64",
      "userId": "11987583535390684770"
     },
     "user_tz": -60
    },
    "id": "kxIMSeUD1949",
    "outputId": "45991358-df3b-4e61-9d8a-c48b71b9fa49"
   },
   "outputs": [],
   "source": [
    "diva = StampDIVA(default_args).to(DEVICE)"
   ]
  },
  {
   "cell_type": "code",
   "execution_count": 39,
   "metadata": {
    "executionInfo": {
     "elapsed": 6,
     "status": "aborted",
     "timestamp": 1647023318259,
     "user": {
      "displayName": "Marko Petkovic",
      "photoUrl": "https://lh3.googleusercontent.com/a-/AOh14Gijd0e9r3I1vRZVN6DEwl16XpJxxS1oSAKunOnfZQ=s64",
      "userId": "11987583535390684770"
     },
     "user_tz": -60
    },
    "id": "PUHyoMi7iwJC"
   },
   "outputs": [],
   "source": [
    "#diva.load_state_dict(torch.load(f'{link}/saved_models/VAE10/checkpoints/905.pth'))"
   ]
  },
  {
   "cell_type": "code",
   "execution_count": 40,
   "metadata": {
    "executionInfo": {
     "elapsed": 6,
     "status": "aborted",
     "timestamp": 1647023318260,
     "user": {
      "displayName": "Marko Petkovic",
      "photoUrl": "https://lh3.googleusercontent.com/a-/AOh14Gijd0e9r3I1vRZVN6DEwl16XpJxxS1oSAKunOnfZQ=s64",
      "userId": "11987583535390684770"
     },
     "user_tz": -60
    },
    "id": "48B39rFl79Yh"
   },
   "outputs": [],
   "source": [
    "train_loader = DataLoader(RNA_dataset, batch_size=64, shuffle=True)\n",
    "test_loader = DataLoader(RNA_dataset_test, batch_size=64)"
   ]
  },
  {
   "cell_type": "code",
   "execution_count": 42,
   "metadata": {
    "executionInfo": {
     "elapsed": 7,
     "status": "aborted",
     "timestamp": 1647023318261,
     "user": {
      "displayName": "Marko Petkovic",
      "photoUrl": "https://lh3.googleusercontent.com/a-/AOh14Gijd0e9r3I1vRZVN6DEwl16XpJxxS1oSAKunOnfZQ=s64",
      "userId": "11987583535390684770"
     },
     "user_tz": -60
    },
    "id": "J6y2Ek2677z1"
   },
   "outputs": [],
   "source": [
    "optimizer = optim.Adam(diva.parameters(),lr=0.001, betas=(0.5,0.5))\n",
    "#optimizer = optim.SGD(diva.parameters(), lr=0.00001, momentum=0.1, nesterov=True)"
   ]
  },
  {
   "cell_type": "code",
   "execution_count": 46,
   "metadata": {},
   "outputs": [
    {
     "data": {
      "text/plain": [
       "34721"
      ]
     },
     "execution_count": 46,
     "metadata": {},
     "output_type": "execute_result"
    }
   ],
   "source": [
    "len(RNA_dataset)"
   ]
  },
  {
   "cell_type": "code",
   "execution_count": 44,
   "metadata": {},
   "outputs": [],
   "source": [
    "writer.flush()"
   ]
  },
  {
   "cell_type": "code",
   "execution_count": 45,
   "metadata": {
    "executionInfo": {
     "elapsed": 7,
     "status": "aborted",
     "timestamp": 1647023318261,
     "user": {
      "displayName": "Marko Petkovic",
      "photoUrl": "https://lh3.googleusercontent.com/a-/AOh14Gijd0e9r3I1vRZVN6DEwl16XpJxxS1oSAKunOnfZQ=s64",
      "userId": "11987583535390684770"
     },
     "user_tz": -60
    },
    "id": "vQGakzXN6V-Y",
    "scrolled": true
   },
   "outputs": [
    {
     "data": {
      "text/html": [
       "\n",
       "      <iframe id=\"tensorboard-frame-3e4250a774578a2\" width=\"100%\" height=\"800\" frameborder=\"0\">\n",
       "      </iframe>\n",
       "      <script>\n",
       "        (function() {\n",
       "          const frame = document.getElementById(\"tensorboard-frame-3e4250a774578a2\");\n",
       "          const url = new URL(\"/\", window.location);\n",
       "          const port = 6006;\n",
       "          if (port) {\n",
       "            url.port = port;\n",
       "          }\n",
       "          frame.src = url;\n",
       "        })();\n",
       "      </script>\n",
       "    "
      ],
      "text/plain": [
       "<IPython.core.display.HTML object>"
      ]
     },
     "metadata": {},
     "output_type": "display_data"
    }
   ],
   "source": [
    "%tensorboard --logdir=\"D:/users/Marko/downloads/mirna/saved_models/SPECIALVAE/tensorboard/\""
   ]
  },
  {
   "cell_type": "code",
   "execution_count": 47,
   "metadata": {
    "executionInfo": {
     "elapsed": 8,
     "status": "aborted",
     "timestamp": 1647023318262,
     "user": {
      "displayName": "Marko Petkovic",
      "photoUrl": "https://lh3.googleusercontent.com/a-/AOh14Gijd0e9r3I1vRZVN6DEwl16XpJxxS1oSAKunOnfZQ=s64",
      "userId": "11987583535390684770"
     },
     "user_tz": -60
    },
    "id": "0m47XoL87oLs",
    "scrolled": true
   },
   "outputs": [
    {
     "name": "stderr",
     "output_type": "stream",
     "text": [
      "Epoch 1: 543batch [00:32, 16.51batch/s, loss=1.1e+3] \n"
     ]
    },
    {
     "name": "stdout",
     "output_type": "stream",
     "text": [
      "epoch 1: avg train loss 1256.90, bar train loss 17.120, len train loss 2.150, col train loss 169.816\n",
      "epoch 1: avg test  loss 1054.07, bar  test loss 11.190, len  test loss 0.854, col  test loss 169.463\n"
     ]
    },
    {
     "name": "stderr",
     "output_type": "stream",
     "text": [
      "Epoch 2: 543batch [00:28, 19.36batch/s, loss=1.12e+3]\n"
     ]
    },
    {
     "name": "stdout",
     "output_type": "stream",
     "text": [
      "epoch 2: avg train loss 1030.73, bar train loss 10.741, len train loss 0.670, col train loss 169.471\n"
     ]
    },
    {
     "name": "stderr",
     "output_type": "stream",
     "text": [
      "Epoch 3: 2batch [00:00, 19.42batch/s, loss=1.03e+3]"
     ]
    },
    {
     "name": "stdout",
     "output_type": "stream",
     "text": [
      "epoch 2: avg test  loss 1094.96, bar  test loss 10.648, len  test loss 1.254, col  test loss 169.339\n"
     ]
    },
    {
     "name": "stderr",
     "output_type": "stream",
     "text": [
      "Epoch 3: 543batch [00:28, 18.89batch/s, loss=1.04e+3]\n"
     ]
    },
    {
     "name": "stdout",
     "output_type": "stream",
     "text": [
      "epoch 3: avg train loss 1009.17, bar train loss 10.560, len train loss 0.481, col train loss 169.357\n"
     ]
    },
    {
     "name": "stderr",
     "output_type": "stream",
     "text": [
      "Epoch 4: 2batch [00:00, 19.23batch/s, loss=1.01e+3]"
     ]
    },
    {
     "name": "stdout",
     "output_type": "stream",
     "text": [
      "epoch 3: avg test  loss 1017.93, bar  test loss 10.581, len  test loss 0.582, col  test loss 169.298\n"
     ]
    },
    {
     "name": "stderr",
     "output_type": "stream",
     "text": [
      "Epoch 4: 543batch [00:28, 19.13batch/s, loss=1.02e+3]\n"
     ]
    },
    {
     "name": "stdout",
     "output_type": "stream",
     "text": [
      "epoch 4: avg train loss 1000.52, bar train loss 10.476, len train loss 0.406, col train loss 169.314\n"
     ]
    },
    {
     "name": "stderr",
     "output_type": "stream",
     "text": [
      "Epoch 5: 2batch [00:00, 19.61batch/s, loss=976]    "
     ]
    },
    {
     "name": "stdout",
     "output_type": "stream",
     "text": [
      "epoch 4: avg test  loss 989.01, bar  test loss 10.415, len  test loss 0.293, col  test loss 169.261\n"
     ]
    },
    {
     "name": "stderr",
     "output_type": "stream",
     "text": [
      "Epoch 5: 543batch [00:28, 18.99batch/s, loss=1.03e+3]\n"
     ]
    },
    {
     "name": "stdout",
     "output_type": "stream",
     "text": [
      "epoch 5: avg train loss 993.12, bar train loss 10.219, len train loss 0.358, col train loss 169.171\n",
      "epoch 5: avg test  loss 979.56, bar  test loss 9.916, len  test loss 0.255, col  test loss 169.031\n"
     ]
    },
    {
     "name": "stderr",
     "output_type": "stream",
     "text": [
      "Epoch 6: 543batch [00:28, 19.09batch/s, loss=1.19e+3]\n"
     ]
    },
    {
     "name": "stdout",
     "output_type": "stream",
     "text": [
      "epoch 6: avg train loss 980.23, bar train loss 9.200, len train loss 0.327, col train loss 168.865\n"
     ]
    },
    {
     "name": "stderr",
     "output_type": "stream",
     "text": [
      "Epoch 7: 2batch [00:00, 19.80batch/s, loss=1.02e+3]"
     ]
    },
    {
     "name": "stdout",
     "output_type": "stream",
     "text": [
      "epoch 6: avg test  loss 979.72, bar  test loss 8.799, len  test loss 0.345, col  test loss 168.452\n"
     ]
    },
    {
     "name": "stderr",
     "output_type": "stream",
     "text": [
      "Epoch 7: 543batch [00:27, 19.51batch/s, loss=941]    \n"
     ]
    },
    {
     "name": "stdout",
     "output_type": "stream",
     "text": [
      "epoch 7: avg train loss 968.53, bar train loss 8.702, len train loss 0.286, col train loss 167.916\n"
     ]
    },
    {
     "name": "stderr",
     "output_type": "stream",
     "text": [
      "Epoch 8: 2batch [00:00, 19.42batch/s, loss=977]"
     ]
    },
    {
     "name": "stdout",
     "output_type": "stream",
     "text": [
      "epoch 7: avg test  loss 965.68, bar  test loss 8.511, len  test loss 0.296, col  test loss 167.449\n"
     ]
    },
    {
     "name": "stderr",
     "output_type": "stream",
     "text": [
      "Epoch 8: 543batch [00:27, 19.51batch/s, loss=1.05e+3]\n"
     ]
    },
    {
     "name": "stdout",
     "output_type": "stream",
     "text": [
      "epoch 8: avg train loss 962.30, bar train loss 8.384, len train loss 0.274, col train loss 167.328\n"
     ]
    },
    {
     "name": "stderr",
     "output_type": "stream",
     "text": [
      "Epoch 9: 2batch [00:00, 19.42batch/s, loss=1.01e+3]"
     ]
    },
    {
     "name": "stdout",
     "output_type": "stream",
     "text": [
      "epoch 8: avg test  loss 953.56, bar  test loss 8.073, len  test loss 0.237, col  test loss 166.815\n"
     ]
    },
    {
     "name": "stderr",
     "output_type": "stream",
     "text": [
      "Epoch 9: 543batch [00:27, 19.54batch/s, loss=991]    \n"
     ]
    },
    {
     "name": "stdout",
     "output_type": "stream",
     "text": [
      "epoch 9: avg train loss 951.64, bar train loss 7.829, len train loss 0.255, col train loss 166.316\n"
     ]
    },
    {
     "name": "stderr",
     "output_type": "stream",
     "text": [
      "Epoch 10: 2batch [00:00, 19.61batch/s, loss=888]"
     ]
    },
    {
     "name": "stdout",
     "output_type": "stream",
     "text": [
      "epoch 9: avg test  loss 947.74, bar  test loss 7.532, len  test loss 0.251, col  test loss 165.866\n"
     ]
    },
    {
     "name": "stderr",
     "output_type": "stream",
     "text": [
      "Epoch 10: 543batch [00:27, 19.52batch/s, loss=1.07e+3]\n"
     ]
    },
    {
     "name": "stdout",
     "output_type": "stream",
     "text": [
      "epoch 10: avg train loss 944.08, bar train loss 7.399, len train loss 0.247, col train loss 165.552\n",
      "epoch 10: avg test  loss 940.17, bar  test loss 7.222, len  test loss 0.248, col  test loss 165.254\n"
     ]
    },
    {
     "name": "stderr",
     "output_type": "stream",
     "text": [
      "Epoch 11: 543batch [00:28, 19.25batch/s, loss=936]    \n"
     ]
    },
    {
     "name": "stdout",
     "output_type": "stream",
     "text": [
      "epoch 11: avg train loss 937.29, bar train loss 7.076, len train loss 0.240, col train loss 164.782\n"
     ]
    },
    {
     "name": "stderr",
     "output_type": "stream",
     "text": [
      "Epoch 12: 2batch [00:00, 19.61batch/s, loss=952]"
     ]
    },
    {
     "name": "stdout",
     "output_type": "stream",
     "text": [
      "epoch 11: avg test  loss 931.12, bar  test loss 6.948, len  test loss 0.203, col  test loss 164.566\n"
     ]
    },
    {
     "name": "stderr",
     "output_type": "stream",
     "text": [
      "Epoch 12: 543batch [00:28, 18.98batch/s, loss=913]    \n"
     ]
    },
    {
     "name": "stdout",
     "output_type": "stream",
     "text": [
      "epoch 12: avg train loss 930.31, bar train loss 6.751, len train loss 0.228, col train loss 164.093\n"
     ]
    },
    {
     "name": "stderr",
     "output_type": "stream",
     "text": [
      "Epoch 13: 2batch [00:00, 19.80batch/s, loss=924]"
     ]
    },
    {
     "name": "stdout",
     "output_type": "stream",
     "text": [
      "epoch 12: avg test  loss 938.55, bar  test loss 6.634, len  test loss 0.343, col  test loss 163.772\n"
     ]
    },
    {
     "name": "stderr",
     "output_type": "stream",
     "text": [
      "Epoch 13: 543batch [00:27, 19.51batch/s, loss=966]    \n"
     ]
    },
    {
     "name": "stdout",
     "output_type": "stream",
     "text": [
      "epoch 13: avg train loss 926.94, bar train loss 6.551, len train loss 0.226, col train loss 163.734\n"
     ]
    },
    {
     "name": "stderr",
     "output_type": "stream",
     "text": [
      "Epoch 14: 2batch [00:00, 19.42batch/s, loss=943]"
     ]
    },
    {
     "name": "stdout",
     "output_type": "stream",
     "text": [
      "epoch 13: avg test  loss 923.84, bar  test loss 6.453, len  test loss 0.202, col  test loss 163.579\n"
     ]
    },
    {
     "name": "stderr",
     "output_type": "stream",
     "text": [
      "Epoch 14: 543batch [00:27, 19.51batch/s, loss=976]    \n"
     ]
    },
    {
     "name": "stdout",
     "output_type": "stream",
     "text": [
      "epoch 14: avg train loss 923.78, bar train loss 6.410, len train loss 0.216, col train loss 163.476\n"
     ]
    },
    {
     "name": "stderr",
     "output_type": "stream",
     "text": [
      "Epoch 15: 2batch [00:00, 19.42batch/s, loss=890]"
     ]
    },
    {
     "name": "stdout",
     "output_type": "stream",
     "text": [
      "epoch 14: avg test  loss 922.55, bar  test loss 6.435, len  test loss 0.216, col  test loss 163.360\n"
     ]
    },
    {
     "name": "stderr",
     "output_type": "stream",
     "text": [
      "Epoch 15: 543batch [00:27, 19.52batch/s, loss=992]    \n"
     ]
    },
    {
     "name": "stdout",
     "output_type": "stream",
     "text": [
      "epoch 15: avg train loss 921.83, bar train loss 6.291, len train loss 0.212, col train loss 163.306\n",
      "epoch 15: avg test  loss 917.28, bar  test loss 6.216, len  test loss 0.182, col  test loss 163.245\n"
     ]
    },
    {
     "name": "stderr",
     "output_type": "stream",
     "text": [
      "Epoch 16: 543batch [00:28, 19.28batch/s, loss=917]    \n"
     ]
    },
    {
     "name": "stdout",
     "output_type": "stream",
     "text": [
      "epoch 16: avg train loss 920.48, bar train loss 6.199, len train loss 0.213, col train loss 163.162\n"
     ]
    },
    {
     "name": "stderr",
     "output_type": "stream",
     "text": [
      "Epoch 17: 2batch [00:00, 18.52batch/s, loss=916]"
     ]
    },
    {
     "name": "stdout",
     "output_type": "stream",
     "text": [
      "epoch 16: avg test  loss 917.97, bar  test loss 6.059, len  test loss 0.191, col  test loss 162.993\n"
     ]
    },
    {
     "name": "stderr",
     "output_type": "stream",
     "text": [
      "Epoch 17: 543batch [00:28, 18.75batch/s, loss=931]    \n"
     ]
    },
    {
     "name": "stdout",
     "output_type": "stream",
     "text": [
      "epoch 17: avg train loss 918.62, bar train loss 6.121, len train loss 0.206, col train loss 163.045\n"
     ]
    },
    {
     "name": "stderr",
     "output_type": "stream",
     "text": [
      "Epoch 18: 2batch [00:00, 19.61batch/s, loss=959]"
     ]
    },
    {
     "name": "stdout",
     "output_type": "stream",
     "text": [
      "epoch 17: avg test  loss 915.47, bar  test loss 6.091, len  test loss 0.174, col  test loss 163.005\n"
     ]
    },
    {
     "name": "stderr",
     "output_type": "stream",
     "text": [
      "Epoch 18: 543batch [00:28, 19.00batch/s, loss=980]   \n"
     ]
    },
    {
     "name": "stdout",
     "output_type": "stream",
     "text": [
      "epoch 18: avg train loss 916.98, bar train loss 6.054, len train loss 0.199, col train loss 162.945\n"
     ]
    },
    {
     "name": "stderr",
     "output_type": "stream",
     "text": [
      "Epoch 19: 2batch [00:00, 19.80batch/s, loss=895]"
     ]
    },
    {
     "name": "stdout",
     "output_type": "stream",
     "text": [
      "epoch 18: avg test  loss 913.93, bar  test loss 5.938, len  test loss 0.185, col  test loss 162.824\n"
     ]
    },
    {
     "name": "stderr",
     "output_type": "stream",
     "text": [
      "Epoch 19: 543batch [00:28, 19.06batch/s, loss=952]    \n"
     ]
    },
    {
     "name": "stdout",
     "output_type": "stream",
     "text": [
      "epoch 19: avg train loss 915.76, bar train loss 5.996, len train loss 0.197, col train loss 162.861\n"
     ]
    },
    {
     "name": "stderr",
     "output_type": "stream",
     "text": [
      "Epoch 20: 2batch [00:00, 19.61batch/s, loss=916]"
     ]
    },
    {
     "name": "stdout",
     "output_type": "stream",
     "text": [
      "epoch 19: avg test  loss 918.24, bar  test loss 5.958, len  test loss 0.221, col  test loss 162.755\n"
     ]
    },
    {
     "name": "stderr",
     "output_type": "stream",
     "text": [
      "Epoch 20: 543batch [00:28, 19.22batch/s, loss=878]    \n"
     ]
    },
    {
     "name": "stdout",
     "output_type": "stream",
     "text": [
      "epoch 20: avg train loss 914.67, bar train loss 5.934, len train loss 0.195, col train loss 162.764\n",
      "epoch 20: avg test  loss 912.03, bar  test loss 5.972, len  test loss 0.167, col  test loss 162.818\n"
     ]
    },
    {
     "name": "stderr",
     "output_type": "stream",
     "text": [
      "Epoch 21: 543batch [00:28, 19.02batch/s, loss=865]    \n"
     ]
    },
    {
     "name": "stdout",
     "output_type": "stream",
     "text": [
      "epoch 21: avg train loss 913.70, bar train loss 5.900, len train loss 0.190, col train loss 162.735\n"
     ]
    },
    {
     "name": "stderr",
     "output_type": "stream",
     "text": [
      "Epoch 22: 2batch [00:00, 18.69batch/s, loss=886]"
     ]
    },
    {
     "name": "stdout",
     "output_type": "stream",
     "text": [
      "epoch 21: avg test  loss 912.80, bar  test loss 5.910, len  test loss 0.173, col  test loss 162.758\n"
     ]
    },
    {
     "name": "stderr",
     "output_type": "stream",
     "text": [
      "Epoch 22: 543batch [00:28, 19.01batch/s, loss=873]    \n"
     ]
    },
    {
     "name": "stdout",
     "output_type": "stream",
     "text": [
      "epoch 22: avg train loss 912.96, bar train loss 5.858, len train loss 0.187, col train loss 162.701\n"
     ]
    },
    {
     "name": "stderr",
     "output_type": "stream",
     "text": [
      "Epoch 23: 2batch [00:00, 19.61batch/s, loss=839]"
     ]
    },
    {
     "name": "stdout",
     "output_type": "stream",
     "text": [
      "epoch 22: avg test  loss 911.76, bar  test loss 5.812, len  test loss 0.186, col  test loss 162.731\n"
     ]
    },
    {
     "name": "stderr",
     "output_type": "stream",
     "text": [
      "Epoch 23: 543batch [00:28, 19.00batch/s, loss=928]    \n"
     ]
    },
    {
     "name": "stdout",
     "output_type": "stream",
     "text": [
      "epoch 23: avg train loss 911.32, bar train loss 5.804, len train loss 0.181, col train loss 162.622\n"
     ]
    },
    {
     "name": "stderr",
     "output_type": "stream",
     "text": [
      "Epoch 24: 2batch [00:00, 19.42batch/s, loss=863]"
     ]
    },
    {
     "name": "stdout",
     "output_type": "stream",
     "text": [
      "epoch 23: avg test  loss 920.49, bar  test loss 5.731, len  test loss 0.265, col  test loss 162.598\n"
     ]
    },
    {
     "name": "stderr",
     "output_type": "stream",
     "text": [
      "Epoch 24: 543batch [00:28, 19.34batch/s, loss=934]\n"
     ]
    },
    {
     "name": "stdout",
     "output_type": "stream",
     "text": [
      "epoch 24: avg train loss 911.39, bar train loss 5.767, len train loss 0.186, col train loss 162.564\n"
     ]
    },
    {
     "name": "stderr",
     "output_type": "stream",
     "text": [
      "Epoch 25: 2batch [00:00, 19.05batch/s, loss=922]"
     ]
    },
    {
     "name": "stdout",
     "output_type": "stream",
     "text": [
      "epoch 24: avg test  loss 912.09, bar  test loss 5.782, len  test loss 0.185, col  test loss 162.797\n"
     ]
    },
    {
     "name": "stderr",
     "output_type": "stream",
     "text": [
      "Epoch 25: 543batch [00:28, 19.00batch/s, loss=851]    \n"
     ]
    },
    {
     "name": "stdout",
     "output_type": "stream",
     "text": [
      "epoch 25: avg train loss 910.37, bar train loss 5.741, len train loss 0.178, col train loss 162.529\n",
      "epoch 25: avg test  loss 909.13, bar  test loss 5.595, len  test loss 0.170, col  test loss 162.503\n"
     ]
    },
    {
     "name": "stderr",
     "output_type": "stream",
     "text": [
      "Epoch 26: 543batch [00:30, 17.80batch/s, loss=916]\n"
     ]
    },
    {
     "name": "stdout",
     "output_type": "stream",
     "text": [
      "epoch 26: avg train loss 910.11, bar train loss 5.728, len train loss 0.178, col train loss 162.511\n"
     ]
    },
    {
     "name": "stderr",
     "output_type": "stream",
     "text": [
      "Epoch 27: 2batch [00:00, 17.86batch/s, loss=892]"
     ]
    },
    {
     "name": "stdout",
     "output_type": "stream",
     "text": [
      "epoch 26: avg test  loss 908.72, bar  test loss 5.564, len  test loss 0.171, col  test loss 162.452\n"
     ]
    },
    {
     "name": "stderr",
     "output_type": "stream",
     "text": [
      "Epoch 27: 543batch [00:28, 18.83batch/s, loss=925] \n"
     ]
    },
    {
     "name": "stdout",
     "output_type": "stream",
     "text": [
      "epoch 27: avg train loss 909.51, bar train loss 5.708, len train loss 0.176, col train loss 162.469\n"
     ]
    },
    {
     "name": "stderr",
     "output_type": "stream",
     "text": [
      "Epoch 28: 2batch [00:00, 19.05batch/s, loss=880]"
     ]
    },
    {
     "name": "stdout",
     "output_type": "stream",
     "text": [
      "epoch 27: avg test  loss 908.16, bar  test loss 5.787, len  test loss 0.160, col  test loss 162.651\n"
     ]
    },
    {
     "name": "stderr",
     "output_type": "stream",
     "text": [
      "Epoch 28: 543batch [00:28, 19.31batch/s, loss=957]    \n"
     ]
    },
    {
     "name": "stdout",
     "output_type": "stream",
     "text": [
      "epoch 28: avg train loss 908.60, bar train loss 5.695, len train loss 0.170, col train loss 162.430\n"
     ]
    },
    {
     "name": "stderr",
     "output_type": "stream",
     "text": [
      "Epoch 29: 2batch [00:00, 19.05batch/s, loss=884]"
     ]
    },
    {
     "name": "stdout",
     "output_type": "stream",
     "text": [
      "epoch 28: avg test  loss 906.39, bar  test loss 5.609, len  test loss 0.149, col  test loss 162.316\n"
     ]
    },
    {
     "name": "stderr",
     "output_type": "stream",
     "text": [
      "Epoch 29: 543batch [00:28, 19.33batch/s, loss=986] \n"
     ]
    },
    {
     "name": "stdout",
     "output_type": "stream",
     "text": [
      "epoch 29: avg train loss 908.50, bar train loss 5.678, len train loss 0.170, col train loss 162.411\n"
     ]
    },
    {
     "name": "stderr",
     "output_type": "stream",
     "text": [
      "Epoch 30: 2batch [00:00, 19.23batch/s, loss=902]"
     ]
    },
    {
     "name": "stdout",
     "output_type": "stream",
     "text": [
      "epoch 29: avg test  loss 913.79, bar  test loss 5.688, len  test loss 0.218, col  test loss 162.331\n"
     ]
    },
    {
     "name": "stderr",
     "output_type": "stream",
     "text": [
      "Epoch 30: 543batch [00:28, 19.23batch/s, loss=892]    \n"
     ]
    },
    {
     "name": "stdout",
     "output_type": "stream",
     "text": [
      "epoch 30: avg train loss 908.05, bar train loss 5.654, len train loss 0.168, col train loss 162.390\n",
      "epoch 30: avg test  loss 908.47, bar  test loss 5.605, len  test loss 0.168, col  test loss 162.451\n"
     ]
    },
    {
     "name": "stderr",
     "output_type": "stream",
     "text": [
      "Epoch 31: 543batch [00:28, 19.06batch/s, loss=982]    \n"
     ]
    },
    {
     "name": "stdout",
     "output_type": "stream",
     "text": [
      "epoch 31: avg train loss 907.79, bar train loss 5.640, len train loss 0.167, col train loss 162.405\n"
     ]
    },
    {
     "name": "stderr",
     "output_type": "stream",
     "text": [
      "Epoch 32: 2batch [00:00, 19.23batch/s, loss=865]"
     ]
    },
    {
     "name": "stdout",
     "output_type": "stream",
     "text": [
      "epoch 31: avg test  loss 917.55, bar  test loss 5.704, len  test loss 0.207, col  test loss 162.643\n"
     ]
    },
    {
     "name": "stderr",
     "output_type": "stream",
     "text": [
      "Epoch 32: 543batch [00:28, 18.99batch/s, loss=972]    \n"
     ]
    },
    {
     "name": "stdout",
     "output_type": "stream",
     "text": [
      "epoch 32: avg train loss 907.45, bar train loss 5.617, len train loss 0.167, col train loss 162.369\n"
     ]
    },
    {
     "name": "stderr",
     "output_type": "stream",
     "text": [
      "Epoch 33: 2batch [00:00, 19.05batch/s, loss=894]"
     ]
    },
    {
     "name": "stdout",
     "output_type": "stream",
     "text": [
      "epoch 32: avg test  loss 905.82, bar  test loss 5.641, len  test loss 0.158, col  test loss 162.382\n"
     ]
    },
    {
     "name": "stderr",
     "output_type": "stream",
     "text": [
      "Epoch 33: 543batch [00:28, 19.33batch/s, loss=864] \n"
     ]
    },
    {
     "name": "stdout",
     "output_type": "stream",
     "text": [
      "epoch 33: avg train loss 906.75, bar train loss 5.592, len train loss 0.163, col train loss 162.347\n"
     ]
    },
    {
     "name": "stderr",
     "output_type": "stream",
     "text": [
      "Epoch 34: 2batch [00:00, 18.69batch/s, loss=895]"
     ]
    },
    {
     "name": "stdout",
     "output_type": "stream",
     "text": [
      "epoch 33: avg test  loss 906.41, bar  test loss 5.623, len  test loss 0.158, col  test loss 162.419\n"
     ]
    },
    {
     "name": "stderr",
     "output_type": "stream",
     "text": [
      "Epoch 34: 543batch [00:28, 19.39batch/s, loss=936]   \n"
     ]
    },
    {
     "name": "stdout",
     "output_type": "stream",
     "text": [
      "epoch 34: avg train loss 906.82, bar train loss 5.607, len train loss 0.165, col train loss 162.302\n"
     ]
    },
    {
     "name": "stderr",
     "output_type": "stream",
     "text": [
      "Epoch 35: 2batch [00:00, 19.23batch/s, loss=914]"
     ]
    },
    {
     "name": "stdout",
     "output_type": "stream",
     "text": [
      "epoch 34: avg test  loss 905.78, bar  test loss 5.585, len  test loss 0.156, col  test loss 162.393\n"
     ]
    },
    {
     "name": "stderr",
     "output_type": "stream",
     "text": [
      "Epoch 35: 543batch [00:28, 19.15batch/s, loss=916]\n"
     ]
    },
    {
     "name": "stdout",
     "output_type": "stream",
     "text": [
      "epoch 35: avg train loss 906.52, bar train loss 5.592, len train loss 0.163, col train loss 162.294\n",
      "epoch 35: avg test  loss 916.23, bar  test loss 5.652, len  test loss 0.261, col  test loss 162.637\n"
     ]
    },
    {
     "name": "stderr",
     "output_type": "stream",
     "text": [
      "Epoch 36: 543batch [00:28, 19.25batch/s, loss=889]    \n"
     ]
    },
    {
     "name": "stdout",
     "output_type": "stream",
     "text": [
      "epoch 36: avg train loss 906.38, bar train loss 5.574, len train loss 0.162, col train loss 162.330\n"
     ]
    },
    {
     "name": "stderr",
     "output_type": "stream",
     "text": [
      "Epoch 37: 2batch [00:00, 19.23batch/s, loss=898]"
     ]
    },
    {
     "name": "stdout",
     "output_type": "stream",
     "text": [
      "epoch 36: avg test  loss 905.44, bar  test loss 5.523, len  test loss 0.158, col  test loss 162.326\n"
     ]
    },
    {
     "name": "stderr",
     "output_type": "stream",
     "text": [
      "Epoch 37: 543batch [00:27, 19.42batch/s, loss=969]    \n"
     ]
    },
    {
     "name": "stdout",
     "output_type": "stream",
     "text": [
      "epoch 37: avg train loss 906.39, bar train loss 5.566, len train loss 0.162, col train loss 162.287\n"
     ]
    },
    {
     "name": "stderr",
     "output_type": "stream",
     "text": [
      "Epoch 38: 2batch [00:00, 19.42batch/s, loss=898]"
     ]
    },
    {
     "name": "stdout",
     "output_type": "stream",
     "text": [
      "epoch 37: avg test  loss 906.77, bar  test loss 5.474, len  test loss 0.159, col  test loss 162.306\n"
     ]
    },
    {
     "name": "stderr",
     "output_type": "stream",
     "text": [
      "Epoch 38: 543batch [00:28, 19.10batch/s, loss=854]\n"
     ]
    },
    {
     "name": "stdout",
     "output_type": "stream",
     "text": [
      "epoch 38: avg train loss 905.59, bar train loss 5.554, len train loss 0.157, col train loss 162.264\n"
     ]
    },
    {
     "name": "stderr",
     "output_type": "stream",
     "text": [
      "Epoch 39: 2batch [00:00, 19.80batch/s, loss=885]"
     ]
    },
    {
     "name": "stdout",
     "output_type": "stream",
     "text": [
      "epoch 38: avg test  loss 903.67, bar  test loss 5.375, len  test loss 0.151, col  test loss 162.247\n"
     ]
    },
    {
     "name": "stderr",
     "output_type": "stream",
     "text": [
      "Epoch 39: 543batch [00:27, 19.42batch/s, loss=870] \n"
     ]
    },
    {
     "name": "stdout",
     "output_type": "stream",
     "text": [
      "epoch 39: avg train loss 905.65, bar train loss 5.560, len train loss 0.158, col train loss 162.264\n"
     ]
    },
    {
     "name": "stderr",
     "output_type": "stream",
     "text": [
      "Epoch 40: 2batch [00:00, 19.05batch/s, loss=949]"
     ]
    },
    {
     "name": "stdout",
     "output_type": "stream",
     "text": [
      "epoch 39: avg test  loss 905.66, bar  test loss 5.550, len  test loss 0.155, col  test loss 162.260\n"
     ]
    },
    {
     "name": "stderr",
     "output_type": "stream",
     "text": [
      "Epoch 40: 543batch [00:28, 19.19batch/s, loss=954]    \n"
     ]
    },
    {
     "name": "stdout",
     "output_type": "stream",
     "text": [
      "epoch 40: avg train loss 906.05, bar train loss 5.562, len train loss 0.160, col train loss 162.253\n",
      "epoch 40: avg test  loss 906.56, bar  test loss 5.548, len  test loss 0.178, col  test loss 162.216\n"
     ]
    },
    {
     "name": "stderr",
     "output_type": "stream",
     "text": [
      "Epoch 41: 543batch [00:27, 19.45batch/s, loss=905]    \n"
     ]
    },
    {
     "name": "stdout",
     "output_type": "stream",
     "text": [
      "epoch 41: avg train loss 905.46, bar train loss 5.545, len train loss 0.157, col train loss 162.265\n"
     ]
    },
    {
     "name": "stderr",
     "output_type": "stream",
     "text": [
      "Epoch 42: 0batch [00:00, ?batch/s, loss=867]"
     ]
    },
    {
     "name": "stdout",
     "output_type": "stream",
     "text": [
      "epoch 41: avg test  loss 909.11, bar  test loss 5.747, len  test loss 0.187, col  test loss 162.629\n"
     ]
    },
    {
     "name": "stderr",
     "output_type": "stream",
     "text": [
      "Epoch 42: 543batch [00:28, 19.30batch/s, loss=965] \n"
     ]
    },
    {
     "name": "stdout",
     "output_type": "stream",
     "text": [
      "epoch 42: avg train loss 905.05, bar train loss 5.547, len train loss 0.154, col train loss 162.215\n"
     ]
    },
    {
     "name": "stderr",
     "output_type": "stream",
     "text": [
      "Epoch 43: 2batch [00:00, 17.86batch/s, loss=942]"
     ]
    },
    {
     "name": "stdout",
     "output_type": "stream",
     "text": [
      "epoch 42: avg test  loss 903.97, bar  test loss 5.574, len  test loss 0.142, col  test loss 162.359\n"
     ]
    },
    {
     "name": "stderr",
     "output_type": "stream",
     "text": [
      "Epoch 43: 543batch [00:28, 19.06batch/s, loss=902]\n"
     ]
    },
    {
     "name": "stdout",
     "output_type": "stream",
     "text": [
      "epoch 43: avg train loss 904.82, bar train loss 5.523, len train loss 0.153, col train loss 162.221\n"
     ]
    },
    {
     "name": "stderr",
     "output_type": "stream",
     "text": [
      "Epoch 44: 2batch [00:00, 18.87batch/s, loss=985]"
     ]
    },
    {
     "name": "stdout",
     "output_type": "stream",
     "text": [
      "epoch 43: avg test  loss 907.49, bar  test loss 5.737, len  test loss 0.167, col  test loss 162.608\n"
     ]
    },
    {
     "name": "stderr",
     "output_type": "stream",
     "text": [
      "Epoch 44: 543batch [00:28, 19.22batch/s, loss=920] \n"
     ]
    },
    {
     "name": "stdout",
     "output_type": "stream",
     "text": [
      "epoch 44: avg train loss 904.57, bar train loss 5.524, len train loss 0.151, col train loss 162.242\n"
     ]
    },
    {
     "name": "stderr",
     "output_type": "stream",
     "text": [
      "Epoch 45: 2batch [00:00, 19.42batch/s, loss=906]"
     ]
    },
    {
     "name": "stdout",
     "output_type": "stream",
     "text": [
      "epoch 44: avg test  loss 902.14, bar  test loss 5.451, len  test loss 0.140, col  test loss 162.216\n"
     ]
    },
    {
     "name": "stderr",
     "output_type": "stream",
     "text": [
      "Epoch 45: 543batch [00:28, 19.38batch/s, loss=1.01e+3]\n"
     ]
    },
    {
     "name": "stdout",
     "output_type": "stream",
     "text": [
      "epoch 45: avg train loss 904.64, bar train loss 5.531, len train loss 0.150, col train loss 162.243\n",
      "epoch 45: avg test  loss 902.22, bar  test loss 5.488, len  test loss 0.129, col  test loss 162.160\n"
     ]
    },
    {
     "name": "stderr",
     "output_type": "stream",
     "text": [
      "Epoch 46: 543batch [00:28, 19.35batch/s, loss=904]    \n"
     ]
    },
    {
     "name": "stdout",
     "output_type": "stream",
     "text": [
      "epoch 46: avg train loss 904.70, bar train loss 5.529, len train loss 0.147, col train loss 162.246\n"
     ]
    },
    {
     "name": "stderr",
     "output_type": "stream",
     "text": [
      "Epoch 47: 2batch [00:00, 19.23batch/s, loss=932]"
     ]
    },
    {
     "name": "stdout",
     "output_type": "stream",
     "text": [
      "epoch 46: avg test  loss 903.19, bar  test loss 5.456, len  test loss 0.137, col  test loss 162.227\n"
     ]
    },
    {
     "name": "stderr",
     "output_type": "stream",
     "text": [
      "Epoch 47: 543batch [00:27, 19.42batch/s, loss=896]    \n"
     ]
    },
    {
     "name": "stdout",
     "output_type": "stream",
     "text": [
      "epoch 47: avg train loss 903.95, bar train loss 5.542, len train loss 0.141, col train loss 162.240\n"
     ]
    },
    {
     "name": "stderr",
     "output_type": "stream",
     "text": [
      "Epoch 48: 2batch [00:00, 19.61batch/s, loss=920]"
     ]
    },
    {
     "name": "stdout",
     "output_type": "stream",
     "text": [
      "epoch 47: avg test  loss 903.55, bar  test loss 5.601, len  test loss 0.143, col  test loss 162.262\n"
     ]
    },
    {
     "name": "stderr",
     "output_type": "stream",
     "text": [
      "Epoch 48: 543batch [00:27, 19.40batch/s, loss=853] \n"
     ]
    },
    {
     "name": "stdout",
     "output_type": "stream",
     "text": [
      "epoch 48: avg train loss 903.19, bar train loss 5.541, len train loss 0.136, col train loss 162.228\n"
     ]
    },
    {
     "name": "stderr",
     "output_type": "stream",
     "text": [
      "Epoch 49: 2batch [00:00, 19.23batch/s, loss=930]"
     ]
    },
    {
     "name": "stdout",
     "output_type": "stream",
     "text": [
      "epoch 48: avg test  loss 901.70, bar  test loss 5.514, len  test loss 0.122, col  test loss 162.451\n"
     ]
    },
    {
     "name": "stderr",
     "output_type": "stream",
     "text": [
      "Epoch 49: 543batch [00:28, 19.35batch/s, loss=921]    \n"
     ]
    },
    {
     "name": "stdout",
     "output_type": "stream",
     "text": [
      "epoch 49: avg train loss 902.15, bar train loss 5.520, len train loss 0.128, col train loss 162.222\n"
     ]
    },
    {
     "name": "stderr",
     "output_type": "stream",
     "text": [
      "Epoch 50: 2batch [00:00, 19.42batch/s, loss=915]"
     ]
    },
    {
     "name": "stdout",
     "output_type": "stream",
     "text": [
      "epoch 49: avg test  loss 900.96, bar  test loss 5.456, len  test loss 0.121, col  test loss 162.063\n"
     ]
    },
    {
     "name": "stderr",
     "output_type": "stream",
     "text": [
      "Epoch 50: 543batch [00:27, 19.40batch/s, loss=934] \n"
     ]
    },
    {
     "name": "stdout",
     "output_type": "stream",
     "text": [
      "epoch 50: avg train loss 901.64, bar train loss 5.518, len train loss 0.125, col train loss 162.228\n",
      "epoch 50: avg test  loss 902.17, bar  test loss 5.526, len  test loss 0.131, col  test loss 162.262\n"
     ]
    },
    {
     "name": "stderr",
     "output_type": "stream",
     "text": [
      "Epoch 51: 543batch [00:28, 19.37batch/s, loss=900] \n"
     ]
    },
    {
     "name": "stdout",
     "output_type": "stream",
     "text": [
      "epoch 51: avg train loss 900.58, bar train loss 5.526, len train loss 0.116, col train loss 162.210\n"
     ]
    },
    {
     "name": "stderr",
     "output_type": "stream",
     "text": [
      "Epoch 52: 2batch [00:00, 19.61batch/s, loss=863]"
     ]
    },
    {
     "name": "stdout",
     "output_type": "stream",
     "text": [
      "epoch 51: avg test  loss 899.89, bar  test loss 5.574, len  test loss 0.119, col  test loss 162.381\n"
     ]
    },
    {
     "name": "stderr",
     "output_type": "stream",
     "text": [
      "Epoch 52: 543batch [00:28, 19.27batch/s, loss=921]\n"
     ]
    },
    {
     "name": "stdout",
     "output_type": "stream",
     "text": [
      "epoch 52: avg train loss 900.22, bar train loss 5.539, len train loss 0.112, col train loss 162.285\n"
     ]
    },
    {
     "name": "stderr",
     "output_type": "stream",
     "text": [
      "Epoch 53: 2batch [00:00, 19.61batch/s, loss=869]"
     ]
    },
    {
     "name": "stdout",
     "output_type": "stream",
     "text": [
      "epoch 52: avg test  loss 902.24, bar  test loss 5.614, len  test loss 0.131, col  test loss 162.338\n"
     ]
    },
    {
     "name": "stderr",
     "output_type": "stream",
     "text": [
      "Epoch 53: 543batch [00:27, 19.44batch/s, loss=885] \n"
     ]
    },
    {
     "name": "stdout",
     "output_type": "stream",
     "text": [
      "epoch 53: avg train loss 898.90, bar train loss 5.533, len train loss 0.106, col train loss 162.253\n"
     ]
    },
    {
     "name": "stderr",
     "output_type": "stream",
     "text": [
      "Epoch 54: 2batch [00:00, 19.23batch/s, loss=862]"
     ]
    },
    {
     "name": "stdout",
     "output_type": "stream",
     "text": [
      "epoch 53: avg test  loss 897.20, bar  test loss 5.518, len  test loss 0.097, col  test loss 162.234\n"
     ]
    },
    {
     "name": "stderr",
     "output_type": "stream",
     "text": [
      "Epoch 54: 543batch [00:27, 19.40batch/s, loss=945]\n"
     ]
    },
    {
     "name": "stdout",
     "output_type": "stream",
     "text": [
      "epoch 54: avg train loss 898.49, bar train loss 5.520, len train loss 0.101, col train loss 162.288\n"
     ]
    },
    {
     "name": "stderr",
     "output_type": "stream",
     "text": [
      "Epoch 55: 2batch [00:00, 19.42batch/s, loss=867]"
     ]
    },
    {
     "name": "stdout",
     "output_type": "stream",
     "text": [
      "epoch 54: avg test  loss 897.71, bar  test loss 5.488, len  test loss 0.098, col  test loss 162.225\n"
     ]
    },
    {
     "name": "stderr",
     "output_type": "stream",
     "text": [
      "Epoch 55: 543batch [00:27, 19.43batch/s, loss=882] \n"
     ]
    },
    {
     "name": "stdout",
     "output_type": "stream",
     "text": [
      "epoch 55: avg train loss 897.88, bar train loss 5.531, len train loss 0.099, col train loss 162.268\n",
      "epoch 55: avg test  loss 902.83, bar  test loss 5.594, len  test loss 0.143, col  test loss 162.191\n"
     ]
    },
    {
     "name": "stderr",
     "output_type": "stream",
     "text": [
      "Epoch 56: 543batch [00:28, 19.34batch/s, loss=948] \n"
     ]
    },
    {
     "name": "stdout",
     "output_type": "stream",
     "text": [
      "epoch 56: avg train loss 897.05, bar train loss 5.537, len train loss 0.093, col train loss 162.242\n"
     ]
    },
    {
     "name": "stderr",
     "output_type": "stream",
     "text": [
      "Epoch 57: 2batch [00:00, 19.42batch/s, loss=889]"
     ]
    },
    {
     "name": "stdout",
     "output_type": "stream",
     "text": [
      "epoch 56: avg test  loss 896.07, bar  test loss 5.519, len  test loss 0.084, col  test loss 162.231\n"
     ]
    },
    {
     "name": "stderr",
     "output_type": "stream",
     "text": [
      "Epoch 57: 543batch [00:28, 19.37batch/s, loss=852] \n"
     ]
    },
    {
     "name": "stdout",
     "output_type": "stream",
     "text": [
      "epoch 57: avg train loss 897.16, bar train loss 5.541, len train loss 0.095, col train loss 162.266\n"
     ]
    },
    {
     "name": "stderr",
     "output_type": "stream",
     "text": [
      "Epoch 58: 2batch [00:00, 19.61batch/s, loss=953]"
     ]
    },
    {
     "name": "stdout",
     "output_type": "stream",
     "text": [
      "epoch 57: avg test  loss 896.10, bar  test loss 5.437, len  test loss 0.092, col  test loss 162.071\n"
     ]
    },
    {
     "name": "stderr",
     "output_type": "stream",
     "text": [
      "Epoch 58: 543batch [00:28, 19.33batch/s, loss=945]\n"
     ]
    },
    {
     "name": "stdout",
     "output_type": "stream",
     "text": [
      "epoch 58: avg train loss 896.75, bar train loss 5.537, len train loss 0.092, col train loss 162.280\n"
     ]
    },
    {
     "name": "stderr",
     "output_type": "stream",
     "text": [
      "Epoch 59: 2batch [00:00, 19.23batch/s, loss=866]"
     ]
    },
    {
     "name": "stdout",
     "output_type": "stream",
     "text": [
      "epoch 58: avg test  loss 896.74, bar  test loss 5.522, len  test loss 0.086, col  test loss 162.486\n"
     ]
    },
    {
     "name": "stderr",
     "output_type": "stream",
     "text": [
      "Epoch 59: 543batch [00:28, 19.33batch/s, loss=974]    \n"
     ]
    },
    {
     "name": "stdout",
     "output_type": "stream",
     "text": [
      "epoch 59: avg train loss 896.39, bar train loss 5.543, len train loss 0.089, col train loss 162.279\n"
     ]
    },
    {
     "name": "stderr",
     "output_type": "stream",
     "text": [
      "Epoch 60: 2batch [00:00, 19.05batch/s, loss=884]"
     ]
    },
    {
     "name": "stdout",
     "output_type": "stream",
     "text": [
      "epoch 59: avg test  loss 894.70, bar  test loss 5.450, len  test loss 0.076, col  test loss 162.242\n"
     ]
    },
    {
     "name": "stderr",
     "output_type": "stream",
     "text": [
      "Epoch 60: 543batch [00:28, 19.33batch/s, loss=867] \n"
     ]
    },
    {
     "name": "stdout",
     "output_type": "stream",
     "text": [
      "epoch 60: avg train loss 895.98, bar train loss 5.551, len train loss 0.085, col train loss 162.301\n",
      "epoch 60: avg test  loss 894.05, bar  test loss 5.435, len  test loss 0.078, col  test loss 162.145\n"
     ]
    },
    {
     "name": "stderr",
     "output_type": "stream",
     "text": [
      "Epoch 61: 543batch [00:28, 19.29batch/s, loss=880]\n"
     ]
    },
    {
     "name": "stdout",
     "output_type": "stream",
     "text": [
      "epoch 61: avg train loss 895.92, bar train loss 5.548, len train loss 0.085, col train loss 162.304\n"
     ]
    },
    {
     "name": "stderr",
     "output_type": "stream",
     "text": [
      "Epoch 62: 2batch [00:00, 19.61batch/s, loss=886]"
     ]
    },
    {
     "name": "stdout",
     "output_type": "stream",
     "text": [
      "epoch 61: avg test  loss 895.13, bar  test loss 5.582, len  test loss 0.082, col  test loss 162.444\n"
     ]
    },
    {
     "name": "stderr",
     "output_type": "stream",
     "text": [
      "Epoch 62: 543batch [00:28, 19.28batch/s, loss=886]\n"
     ]
    },
    {
     "name": "stdout",
     "output_type": "stream",
     "text": [
      "epoch 62: avg train loss 896.10, bar train loss 5.558, len train loss 0.085, col train loss 162.336\n"
     ]
    },
    {
     "name": "stderr",
     "output_type": "stream",
     "text": [
      "Epoch 63: 2batch [00:00, 19.80batch/s, loss=935]"
     ]
    },
    {
     "name": "stdout",
     "output_type": "stream",
     "text": [
      "epoch 62: avg test  loss 893.82, bar  test loss 5.442, len  test loss 0.072, col  test loss 162.262\n"
     ]
    },
    {
     "name": "stderr",
     "output_type": "stream",
     "text": [
      "Epoch 63: 543batch [00:28, 19.35batch/s, loss=885]    \n"
     ]
    },
    {
     "name": "stdout",
     "output_type": "stream",
     "text": [
      "epoch 63: avg train loss 895.98, bar train loss 5.580, len train loss 0.083, col train loss 162.346\n"
     ]
    },
    {
     "name": "stderr",
     "output_type": "stream",
     "text": [
      "Epoch 64: 2batch [00:00, 19.05batch/s, loss=911]"
     ]
    },
    {
     "name": "stdout",
     "output_type": "stream",
     "text": [
      "epoch 63: avg test  loss 893.92, bar  test loss 5.508, len  test loss 0.073, col  test loss 162.344\n"
     ]
    },
    {
     "name": "stderr",
     "output_type": "stream",
     "text": [
      "Epoch 64: 543batch [00:28, 19.34batch/s, loss=970]\n"
     ]
    },
    {
     "name": "stdout",
     "output_type": "stream",
     "text": [
      "epoch 64: avg train loss 895.54, bar train loss 5.550, len train loss 0.082, col train loss 162.320\n"
     ]
    },
    {
     "name": "stderr",
     "output_type": "stream",
     "text": [
      "Epoch 65: 2batch [00:00, 19.42batch/s, loss=889]"
     ]
    },
    {
     "name": "stdout",
     "output_type": "stream",
     "text": [
      "epoch 64: avg test  loss 895.06, bar  test loss 5.547, len  test loss 0.085, col  test loss 162.215\n"
     ]
    },
    {
     "name": "stderr",
     "output_type": "stream",
     "text": [
      "Epoch 65: 543batch [00:28, 19.29batch/s, loss=879]    \n"
     ]
    },
    {
     "name": "stdout",
     "output_type": "stream",
     "text": [
      "epoch 65: avg train loss 895.59, bar train loss 5.559, len train loss 0.082, col train loss 162.331\n",
      "epoch 65: avg test  loss 900.18, bar  test loss 5.650, len  test loss 0.084, col  test loss 162.753\n"
     ]
    },
    {
     "name": "stderr",
     "output_type": "stream",
     "text": [
      "Epoch 66: 543batch [00:28, 19.31batch/s, loss=972]    \n"
     ]
    },
    {
     "name": "stdout",
     "output_type": "stream",
     "text": [
      "epoch 66: avg train loss 895.23, bar train loss 5.537, len train loss 0.082, col train loss 162.352\n"
     ]
    },
    {
     "name": "stderr",
     "output_type": "stream",
     "text": [
      "Epoch 67: 2batch [00:00, 19.23batch/s, loss=915]"
     ]
    },
    {
     "name": "stdout",
     "output_type": "stream",
     "text": [
      "epoch 66: avg test  loss 901.14, bar  test loss 5.538, len  test loss 0.132, col  test loss 162.145\n"
     ]
    },
    {
     "name": "stderr",
     "output_type": "stream",
     "text": [
      "Epoch 67: 543batch [00:28, 19.33batch/s, loss=858]\n"
     ]
    },
    {
     "name": "stdout",
     "output_type": "stream",
     "text": [
      "epoch 67: avg train loss 895.31, bar train loss 5.560, len train loss 0.080, col train loss 162.349\n"
     ]
    },
    {
     "name": "stderr",
     "output_type": "stream",
     "text": [
      "Epoch 68: 2batch [00:00, 19.42batch/s, loss=871]"
     ]
    },
    {
     "name": "stdout",
     "output_type": "stream",
     "text": [
      "epoch 67: avg test  loss 896.14, bar  test loss 5.734, len  test loss 0.078, col  test loss 162.642\n"
     ]
    },
    {
     "name": "stderr",
     "output_type": "stream",
     "text": [
      "Epoch 68: 543batch [00:28, 19.16batch/s, loss=918]    \n"
     ]
    },
    {
     "name": "stdout",
     "output_type": "stream",
     "text": [
      "epoch 68: avg train loss 895.62, bar train loss 5.572, len train loss 0.082, col train loss 162.353\n"
     ]
    },
    {
     "name": "stderr",
     "output_type": "stream",
     "text": [
      "Epoch 69: 2batch [00:00, 18.02batch/s, loss=884]"
     ]
    },
    {
     "name": "stdout",
     "output_type": "stream",
     "text": [
      "epoch 68: avg test  loss 896.74, bar  test loss 5.503, len  test loss 0.096, col  test loss 162.229\n"
     ]
    },
    {
     "name": "stderr",
     "output_type": "stream",
     "text": [
      "Epoch 69: 543batch [00:28, 19.28batch/s, loss=968]    \n"
     ]
    },
    {
     "name": "stdout",
     "output_type": "stream",
     "text": [
      "epoch 69: avg train loss 895.11, bar train loss 5.546, len train loss 0.078, col train loss 162.328\n"
     ]
    },
    {
     "name": "stderr",
     "output_type": "stream",
     "text": [
      "Epoch 70: 2batch [00:00, 19.61batch/s, loss=950]"
     ]
    },
    {
     "name": "stdout",
     "output_type": "stream",
     "text": [
      "epoch 69: avg test  loss 894.07, bar  test loss 5.512, len  test loss 0.073, col  test loss 162.431\n"
     ]
    },
    {
     "name": "stderr",
     "output_type": "stream",
     "text": [
      "Epoch 70: 543batch [00:28, 19.30batch/s, loss=930]    \n"
     ]
    },
    {
     "name": "stdout",
     "output_type": "stream",
     "text": [
      "epoch 70: avg train loss 896.21, bar train loss 5.575, len train loss 0.083, col train loss 162.409\n",
      "epoch 70: avg test  loss 896.89, bar  test loss 5.601, len  test loss 0.095, col  test loss 162.621\n"
     ]
    },
    {
     "name": "stderr",
     "output_type": "stream",
     "text": [
      "Epoch 71: 543batch [00:28, 19.18batch/s, loss=865]    \n"
     ]
    },
    {
     "name": "stdout",
     "output_type": "stream",
     "text": [
      "epoch 71: avg train loss 895.08, bar train loss 5.581, len train loss 0.077, col train loss 162.354\n"
     ]
    },
    {
     "name": "stderr",
     "output_type": "stream",
     "text": [
      "Epoch 72: 2batch [00:00, 19.42batch/s, loss=883]"
     ]
    },
    {
     "name": "stdout",
     "output_type": "stream",
     "text": [
      "epoch 71: avg test  loss 894.41, bar  test loss 5.566, len  test loss 0.071, col  test loss 162.493\n"
     ]
    },
    {
     "name": "stderr",
     "output_type": "stream",
     "text": [
      "Epoch 72: 543batch [00:28, 19.25batch/s, loss=891]\n"
     ]
    },
    {
     "name": "stdout",
     "output_type": "stream",
     "text": [
      "epoch 72: avg train loss 895.05, bar train loss 5.583, len train loss 0.075, col train loss 162.367\n"
     ]
    },
    {
     "name": "stderr",
     "output_type": "stream",
     "text": [
      "Epoch 73: 2batch [00:00, 19.42batch/s, loss=862]"
     ]
    },
    {
     "name": "stdout",
     "output_type": "stream",
     "text": [
      "epoch 72: avg test  loss 892.34, bar  test loss 5.468, len  test loss 0.062, col  test loss 162.263\n"
     ]
    },
    {
     "name": "stderr",
     "output_type": "stream",
     "text": [
      "Epoch 73: 543batch [00:28, 19.23batch/s, loss=977]\n"
     ]
    },
    {
     "name": "stdout",
     "output_type": "stream",
     "text": [
      "epoch 73: avg train loss 894.89, bar train loss 5.567, len train loss 0.074, col train loss 162.373\n"
     ]
    },
    {
     "name": "stderr",
     "output_type": "stream",
     "text": [
      "Epoch 74: 2batch [00:00, 19.80batch/s, loss=902]"
     ]
    },
    {
     "name": "stdout",
     "output_type": "stream",
     "text": [
      "epoch 73: avg test  loss 893.01, bar  test loss 5.481, len  test loss 0.064, col  test loss 162.249\n"
     ]
    },
    {
     "name": "stderr",
     "output_type": "stream",
     "text": [
      "Epoch 74: 543batch [00:28, 19.21batch/s, loss=924]\n"
     ]
    },
    {
     "name": "stdout",
     "output_type": "stream",
     "text": [
      "epoch 74: avg train loss 894.75, bar train loss 5.574, len train loss 0.072, col train loss 162.401\n"
     ]
    },
    {
     "name": "stderr",
     "output_type": "stream",
     "text": [
      "Epoch 75: 2batch [00:00, 19.42batch/s, loss=888]"
     ]
    },
    {
     "name": "stdout",
     "output_type": "stream",
     "text": [
      "epoch 74: avg test  loss 894.27, bar  test loss 5.484, len  test loss 0.069, col  test loss 162.276\n"
     ]
    },
    {
     "name": "stderr",
     "output_type": "stream",
     "text": [
      "Epoch 75: 543batch [00:28, 18.93batch/s, loss=822]\n"
     ]
    },
    {
     "name": "stdout",
     "output_type": "stream",
     "text": [
      "epoch 75: avg train loss 894.84, bar train loss 5.579, len train loss 0.073, col train loss 162.386\n",
      "epoch 75: avg test  loss 894.47, bar  test loss 5.528, len  test loss 0.076, col  test loss 162.281\n"
     ]
    },
    {
     "name": "stderr",
     "output_type": "stream",
     "text": [
      "Epoch 76: 543batch [00:28, 19.22batch/s, loss=915]\n"
     ]
    },
    {
     "name": "stdout",
     "output_type": "stream",
     "text": [
      "epoch 76: avg train loss 895.00, bar train loss 5.583, len train loss 0.073, col train loss 162.416\n"
     ]
    },
    {
     "name": "stderr",
     "output_type": "stream",
     "text": [
      "Epoch 77: 2batch [00:00, 18.87batch/s, loss=905]"
     ]
    },
    {
     "name": "stdout",
     "output_type": "stream",
     "text": [
      "epoch 76: avg test  loss 896.85, bar  test loss 5.662, len  test loss 0.082, col  test loss 162.658\n"
     ]
    },
    {
     "name": "stderr",
     "output_type": "stream",
     "text": [
      "Epoch 77: 543batch [00:28, 19.28batch/s, loss=857]\n"
     ]
    },
    {
     "name": "stdout",
     "output_type": "stream",
     "text": [
      "epoch 77: avg train loss 895.42, bar train loss 5.586, len train loss 0.073, col train loss 162.427\n"
     ]
    },
    {
     "name": "stderr",
     "output_type": "stream",
     "text": [
      "Epoch 78: 2batch [00:00, 18.87batch/s, loss=899]"
     ]
    },
    {
     "name": "stdout",
     "output_type": "stream",
     "text": [
      "epoch 77: avg test  loss 899.33, bar  test loss 5.817, len  test loss 0.102, col  test loss 162.729\n"
     ]
    },
    {
     "name": "stderr",
     "output_type": "stream",
     "text": [
      "Epoch 78: 543batch [00:28, 19.24batch/s, loss=867]\n"
     ]
    },
    {
     "name": "stdout",
     "output_type": "stream",
     "text": [
      "epoch 78: avg train loss 895.30, bar train loss 5.593, len train loss 0.072, col train loss 162.441\n"
     ]
    },
    {
     "name": "stderr",
     "output_type": "stream",
     "text": [
      "Epoch 79: 2batch [00:00, 18.87batch/s, loss=861]"
     ]
    },
    {
     "name": "stdout",
     "output_type": "stream",
     "text": [
      "epoch 78: avg test  loss 895.34, bar  test loss 5.513, len  test loss 0.082, col  test loss 162.367\n"
     ]
    },
    {
     "name": "stderr",
     "output_type": "stream",
     "text": [
      "Epoch 79: 543batch [00:28, 19.26batch/s, loss=1.06e+3]\n"
     ]
    },
    {
     "name": "stdout",
     "output_type": "stream",
     "text": [
      "epoch 79: avg train loss 895.22, bar train loss 5.598, len train loss 0.072, col train loss 162.425\n"
     ]
    },
    {
     "name": "stderr",
     "output_type": "stream",
     "text": [
      "Epoch 80: 2batch [00:00, 19.61batch/s, loss=867]"
     ]
    },
    {
     "name": "stdout",
     "output_type": "stream",
     "text": [
      "epoch 79: avg test  loss 896.82, bar  test loss 5.660, len  test loss 0.092, col  test loss 162.539\n"
     ]
    },
    {
     "name": "stderr",
     "output_type": "stream",
     "text": [
      "Epoch 80: 543batch [00:28, 19.16batch/s, loss=895]\n"
     ]
    },
    {
     "name": "stdout",
     "output_type": "stream",
     "text": [
      "epoch 80: avg train loss 895.05, bar train loss 5.610, len train loss 0.071, col train loss 162.443\n",
      "epoch 80: avg test  loss 894.97, bar  test loss 5.566, len  test loss 0.074, col  test loss 162.536\n"
     ]
    },
    {
     "name": "stderr",
     "output_type": "stream",
     "text": [
      "Epoch 81: 543batch [00:28, 19.20batch/s, loss=877]\n"
     ]
    },
    {
     "name": "stdout",
     "output_type": "stream",
     "text": [
      "epoch 81: avg train loss 895.31, bar train loss 5.612, len train loss 0.070, col train loss 162.453\n"
     ]
    },
    {
     "name": "stderr",
     "output_type": "stream",
     "text": [
      "Epoch 82: 2batch [00:00, 18.69batch/s, loss=889]"
     ]
    },
    {
     "name": "stdout",
     "output_type": "stream",
     "text": [
      "epoch 81: avg test  loss 895.05, bar  test loss 5.607, len  test loss 0.073, col  test loss 162.480\n"
     ]
    },
    {
     "name": "stderr",
     "output_type": "stream",
     "text": [
      "Epoch 82: 543batch [00:28, 19.19batch/s, loss=824]    \n"
     ]
    },
    {
     "name": "stdout",
     "output_type": "stream",
     "text": [
      "epoch 82: avg train loss 895.78, bar train loss 5.609, len train loss 0.073, col train loss 162.458\n"
     ]
    },
    {
     "name": "stderr",
     "output_type": "stream",
     "text": [
      "Epoch 83: 2batch [00:00, 19.23batch/s, loss=895]"
     ]
    },
    {
     "name": "stdout",
     "output_type": "stream",
     "text": [
      "epoch 82: avg test  loss 900.76, bar  test loss 5.651, len  test loss 0.089, col  test loss 162.683\n"
     ]
    },
    {
     "name": "stderr",
     "output_type": "stream",
     "text": [
      "Epoch 83: 543batch [00:28, 19.19batch/s, loss=909] \n"
     ]
    },
    {
     "name": "stdout",
     "output_type": "stream",
     "text": [
      "epoch 83: avg train loss 894.67, bar train loss 5.622, len train loss 0.067, col train loss 162.475\n"
     ]
    },
    {
     "name": "stderr",
     "output_type": "stream",
     "text": [
      "Epoch 84: 2batch [00:00, 19.42batch/s, loss=911]"
     ]
    },
    {
     "name": "stdout",
     "output_type": "stream",
     "text": [
      "epoch 83: avg test  loss 895.60, bar  test loss 5.679, len  test loss 0.071, col  test loss 162.580\n"
     ]
    },
    {
     "name": "stderr",
     "output_type": "stream",
     "text": [
      "Epoch 84: 543batch [00:28, 19.15batch/s, loss=959]    \n"
     ]
    },
    {
     "name": "stdout",
     "output_type": "stream",
     "text": [
      "epoch 84: avg train loss 895.04, bar train loss 5.615, len train loss 0.069, col train loss 162.459\n"
     ]
    },
    {
     "name": "stderr",
     "output_type": "stream",
     "text": [
      "Epoch 85: 2batch [00:00, 19.61batch/s, loss=895]"
     ]
    },
    {
     "name": "stdout",
     "output_type": "stream",
     "text": [
      "epoch 84: avg test  loss 892.72, bar  test loss 5.672, len  test loss 0.058, col  test loss 162.372\n"
     ]
    },
    {
     "name": "stderr",
     "output_type": "stream",
     "text": [
      "Epoch 85: 543batch [00:28, 19.18batch/s, loss=950]    \n"
     ]
    },
    {
     "name": "stdout",
     "output_type": "stream",
     "text": [
      "epoch 85: avg train loss 895.34, bar train loss 5.616, len train loss 0.068, col train loss 162.492\n",
      "epoch 85: avg test  loss 894.86, bar  test loss 5.602, len  test loss 0.061, col  test loss 162.587\n"
     ]
    },
    {
     "name": "stderr",
     "output_type": "stream",
     "text": [
      "Epoch 86: 543batch [00:28, 19.15batch/s, loss=813]\n"
     ]
    },
    {
     "name": "stdout",
     "output_type": "stream",
     "text": [
      "epoch 86: avg train loss 895.17, bar train loss 5.638, len train loss 0.067, col train loss 162.504\n"
     ]
    },
    {
     "name": "stderr",
     "output_type": "stream",
     "text": [
      "Epoch 87: 2batch [00:00, 18.52batch/s, loss=867]"
     ]
    },
    {
     "name": "stdout",
     "output_type": "stream",
     "text": [
      "epoch 86: avg test  loss 894.14, bar  test loss 5.577, len  test loss 0.068, col  test loss 162.551\n"
     ]
    },
    {
     "name": "stderr",
     "output_type": "stream",
     "text": [
      "Epoch 87: 543batch [00:28, 19.18batch/s, loss=858] \n"
     ]
    },
    {
     "name": "stdout",
     "output_type": "stream",
     "text": [
      "epoch 87: avg train loss 895.43, bar train loss 5.654, len train loss 0.066, col train loss 162.500\n"
     ]
    },
    {
     "name": "stderr",
     "output_type": "stream",
     "text": [
      "Epoch 88: 2batch [00:00, 19.05batch/s, loss=856]"
     ]
    },
    {
     "name": "stdout",
     "output_type": "stream",
     "text": [
      "epoch 87: avg test  loss 895.53, bar  test loss 5.703, len  test loss 0.061, col  test loss 162.757\n"
     ]
    },
    {
     "name": "stderr",
     "output_type": "stream",
     "text": [
      "Epoch 88: 543batch [00:28, 19.16batch/s, loss=881]\n"
     ]
    },
    {
     "name": "stdout",
     "output_type": "stream",
     "text": [
      "epoch 88: avg train loss 895.83, bar train loss 5.665, len train loss 0.068, col train loss 162.480\n"
     ]
    },
    {
     "name": "stderr",
     "output_type": "stream",
     "text": [
      "Epoch 89: 2batch [00:00, 18.87batch/s, loss=920]"
     ]
    },
    {
     "name": "stdout",
     "output_type": "stream",
     "text": [
      "epoch 88: avg test  loss 894.28, bar  test loss 5.658, len  test loss 0.060, col  test loss 162.631\n"
     ]
    },
    {
     "name": "stderr",
     "output_type": "stream",
     "text": [
      "Epoch 89: 543batch [00:28, 19.17batch/s, loss=849]\n"
     ]
    },
    {
     "name": "stdout",
     "output_type": "stream",
     "text": [
      "epoch 89: avg train loss 895.33, bar train loss 5.646, len train loss 0.066, col train loss 162.469\n"
     ]
    },
    {
     "name": "stderr",
     "output_type": "stream",
     "text": [
      "Epoch 90: 2batch [00:00, 19.42batch/s, loss=897]"
     ]
    },
    {
     "name": "stdout",
     "output_type": "stream",
     "text": [
      "epoch 89: avg test  loss 897.02, bar  test loss 5.706, len  test loss 0.065, col  test loss 162.159\n"
     ]
    },
    {
     "name": "stderr",
     "output_type": "stream",
     "text": [
      "Epoch 90: 543batch [00:28, 19.16batch/s, loss=862]\n"
     ]
    },
    {
     "name": "stdout",
     "output_type": "stream",
     "text": [
      "epoch 90: avg train loss 895.36, bar train loss 5.679, len train loss 0.066, col train loss 162.483\n",
      "epoch 90: avg test  loss 894.66, bar  test loss 5.534, len  test loss 0.064, col  test loss 162.248\n"
     ]
    },
    {
     "name": "stderr",
     "output_type": "stream",
     "text": [
      "Epoch 91: 543batch [00:28, 19.13batch/s, loss=840]\n"
     ]
    },
    {
     "name": "stdout",
     "output_type": "stream",
     "text": [
      "epoch 91: avg train loss 895.31, bar train loss 5.648, len train loss 0.066, col train loss 162.501\n"
     ]
    },
    {
     "name": "stderr",
     "output_type": "stream",
     "text": [
      "Epoch 92: 2batch [00:00, 18.69batch/s, loss=899]"
     ]
    },
    {
     "name": "stdout",
     "output_type": "stream",
     "text": [
      "epoch 91: avg test  loss 899.24, bar  test loss 5.602, len  test loss 0.099, col  test loss 162.707\n"
     ]
    },
    {
     "name": "stderr",
     "output_type": "stream",
     "text": [
      "Epoch 92: 543batch [00:28, 19.20batch/s, loss=924]    \n"
     ]
    },
    {
     "name": "stdout",
     "output_type": "stream",
     "text": [
      "epoch 92: avg train loss 895.57, bar train loss 5.655, len train loss 0.065, col train loss 162.481\n"
     ]
    },
    {
     "name": "stderr",
     "output_type": "stream",
     "text": [
      "Epoch 93: 2batch [00:00, 19.23batch/s, loss=902]"
     ]
    },
    {
     "name": "stdout",
     "output_type": "stream",
     "text": [
      "epoch 92: avg test  loss 894.83, bar  test loss 5.614, len  test loss 0.060, col  test loss 162.231\n"
     ]
    },
    {
     "name": "stderr",
     "output_type": "stream",
     "text": [
      "Epoch 93: 543batch [00:28, 19.01batch/s, loss=926]    \n"
     ]
    },
    {
     "name": "stdout",
     "output_type": "stream",
     "text": [
      "epoch 93: avg train loss 895.37, bar train loss 5.663, len train loss 0.065, col train loss 162.493\n"
     ]
    },
    {
     "name": "stderr",
     "output_type": "stream",
     "text": [
      "Epoch 94: 2batch [00:00, 18.69batch/s, loss=889]"
     ]
    },
    {
     "name": "stdout",
     "output_type": "stream",
     "text": [
      "epoch 93: avg test  loss 894.69, bar  test loss 5.529, len  test loss 0.062, col  test loss 162.272\n"
     ]
    },
    {
     "name": "stderr",
     "output_type": "stream",
     "text": [
      "Epoch 94: 543batch [00:28, 19.13batch/s, loss=873]    \n"
     ]
    },
    {
     "name": "stdout",
     "output_type": "stream",
     "text": [
      "epoch 94: avg train loss 896.24, bar train loss 5.676, len train loss 0.067, col train loss 162.479\n"
     ]
    },
    {
     "name": "stderr",
     "output_type": "stream",
     "text": [
      "Epoch 95: 2batch [00:00, 19.23batch/s, loss=913]"
     ]
    },
    {
     "name": "stdout",
     "output_type": "stream",
     "text": [
      "epoch 94: avg test  loss 895.69, bar  test loss 5.571, len  test loss 0.066, col  test loss 162.193\n"
     ]
    },
    {
     "name": "stderr",
     "output_type": "stream",
     "text": [
      "Epoch 95: 543batch [00:28, 19.09batch/s, loss=925]\n"
     ]
    },
    {
     "name": "stdout",
     "output_type": "stream",
     "text": [
      "epoch 95: avg train loss 895.54, bar train loss 5.677, len train loss 0.065, col train loss 162.470\n",
      "epoch 95: avg test  loss 895.20, bar  test loss 5.559, len  test loss 0.074, col  test loss 162.268\n"
     ]
    },
    {
     "name": "stderr",
     "output_type": "stream",
     "text": [
      "Epoch 96: 543batch [00:28, 19.12batch/s, loss=865]\n"
     ]
    },
    {
     "name": "stdout",
     "output_type": "stream",
     "text": [
      "epoch 96: avg train loss 895.36, bar train loss 5.646, len train loss 0.064, col train loss 162.524\n"
     ]
    },
    {
     "name": "stderr",
     "output_type": "stream",
     "text": [
      "Epoch 97: 2batch [00:00, 18.87batch/s, loss=912]"
     ]
    },
    {
     "name": "stdout",
     "output_type": "stream",
     "text": [
      "epoch 96: avg test  loss 898.45, bar  test loss 5.632, len  test loss 0.105, col  test loss 162.481\n"
     ]
    },
    {
     "name": "stderr",
     "output_type": "stream",
     "text": [
      "Epoch 97: 543batch [00:28, 19.04batch/s, loss=922]\n"
     ]
    },
    {
     "name": "stdout",
     "output_type": "stream",
     "text": [
      "epoch 97: avg train loss 895.21, bar train loss 5.668, len train loss 0.064, col train loss 162.468\n"
     ]
    },
    {
     "name": "stderr",
     "output_type": "stream",
     "text": [
      "Epoch 98: 2batch [00:00, 18.87batch/s, loss=908]"
     ]
    },
    {
     "name": "stdout",
     "output_type": "stream",
     "text": [
      "epoch 97: avg test  loss 895.77, bar  test loss 5.651, len  test loss 0.071, col  test loss 162.507\n"
     ]
    },
    {
     "name": "stderr",
     "output_type": "stream",
     "text": [
      "Epoch 98: 543batch [00:28, 19.11batch/s, loss=880]    \n"
     ]
    },
    {
     "name": "stdout",
     "output_type": "stream",
     "text": [
      "epoch 98: avg train loss 895.54, bar train loss 5.687, len train loss 0.065, col train loss 162.517\n"
     ]
    },
    {
     "name": "stderr",
     "output_type": "stream",
     "text": [
      "Epoch 99: 2batch [00:00, 18.87batch/s, loss=865]"
     ]
    },
    {
     "name": "stdout",
     "output_type": "stream",
     "text": [
      "epoch 98: avg test  loss 897.08, bar  test loss 5.771, len  test loss 0.069, col  test loss 162.603\n"
     ]
    },
    {
     "name": "stderr",
     "output_type": "stream",
     "text": [
      "Epoch 99: 543batch [00:28, 19.11batch/s, loss=841]    \n"
     ]
    },
    {
     "name": "stdout",
     "output_type": "stream",
     "text": [
      "epoch 99: avg train loss 895.34, bar train loss 5.666, len train loss 0.064, col train loss 162.492\n"
     ]
    },
    {
     "name": "stderr",
     "output_type": "stream",
     "text": [
      "Epoch 100: 2batch [00:00, 19.42batch/s, loss=919]"
     ]
    },
    {
     "name": "stdout",
     "output_type": "stream",
     "text": [
      "epoch 99: avg test  loss 894.94, bar  test loss 5.673, len  test loss 0.059, col  test loss 162.342\n"
     ]
    },
    {
     "name": "stderr",
     "output_type": "stream",
     "text": [
      "Epoch 100: 543batch [00:28, 19.09batch/s, loss=882]    \n"
     ]
    },
    {
     "name": "stdout",
     "output_type": "stream",
     "text": [
      "epoch 100: avg train loss 895.28, bar train loss 5.664, len train loss 0.064, col train loss 162.468\n",
      "epoch 100: avg test  loss 894.48, bar  test loss 5.656, len  test loss 0.066, col  test loss 162.463\n"
     ]
    },
    {
     "name": "stderr",
     "output_type": "stream",
     "text": [
      "Epoch 101: 543batch [00:28, 19.09batch/s, loss=843]    \n"
     ]
    },
    {
     "name": "stdout",
     "output_type": "stream",
     "text": [
      "epoch 101: avg train loss 896.43, bar train loss 5.692, len train loss 0.067, col train loss 162.522\n"
     ]
    },
    {
     "name": "stderr",
     "output_type": "stream",
     "text": [
      "Epoch 102: 2batch [00:00, 19.05batch/s, loss=928]"
     ]
    },
    {
     "name": "stdout",
     "output_type": "stream",
     "text": [
      "epoch 101: avg test  loss 894.64, bar  test loss 5.669, len  test loss 0.063, col  test loss 162.449\n"
     ]
    },
    {
     "name": "stderr",
     "output_type": "stream",
     "text": [
      "Epoch 102: 543batch [00:28, 19.11batch/s, loss=841]    \n"
     ]
    },
    {
     "name": "stdout",
     "output_type": "stream",
     "text": [
      "epoch 102: avg train loss 895.62, bar train loss 5.695, len train loss 0.062, col train loss 162.539\n"
     ]
    },
    {
     "name": "stderr",
     "output_type": "stream",
     "text": [
      "Epoch 103: 2batch [00:00, 19.05batch/s, loss=834]"
     ]
    },
    {
     "name": "stdout",
     "output_type": "stream",
     "text": [
      "epoch 102: avg test  loss 896.20, bar  test loss 5.691, len  test loss 0.075, col  test loss 162.754\n"
     ]
    },
    {
     "name": "stderr",
     "output_type": "stream",
     "text": [
      "Epoch 103: 543batch [00:28, 19.05batch/s, loss=935]\n"
     ]
    },
    {
     "name": "stdout",
     "output_type": "stream",
     "text": [
      "epoch 103: avg train loss 895.72, bar train loss 5.702, len train loss 0.062, col train loss 162.549\n"
     ]
    },
    {
     "name": "stderr",
     "output_type": "stream",
     "text": [
      "Epoch 104: 2batch [00:00, 19.23batch/s, loss=919]"
     ]
    },
    {
     "name": "stdout",
     "output_type": "stream",
     "text": [
      "epoch 103: avg test  loss 896.95, bar  test loss 5.732, len  test loss 0.069, col  test loss 162.727\n"
     ]
    },
    {
     "name": "stderr",
     "output_type": "stream",
     "text": [
      "Epoch 104: 543batch [00:28, 19.10batch/s, loss=863]    \n"
     ]
    },
    {
     "name": "stdout",
     "output_type": "stream",
     "text": [
      "epoch 104: avg train loss 895.51, bar train loss 5.707, len train loss 0.062, col train loss 162.524\n"
     ]
    },
    {
     "name": "stderr",
     "output_type": "stream",
     "text": [
      "Epoch 105: 2batch [00:00, 19.05batch/s, loss=909]"
     ]
    },
    {
     "name": "stdout",
     "output_type": "stream",
     "text": [
      "epoch 104: avg test  loss 898.31, bar  test loss 5.709, len  test loss 0.091, col  test loss 162.659\n"
     ]
    },
    {
     "name": "stderr",
     "output_type": "stream",
     "text": [
      "Epoch 105: 543batch [00:28, 19.08batch/s, loss=860]\n"
     ]
    },
    {
     "name": "stdout",
     "output_type": "stream",
     "text": [
      "epoch 105: avg train loss 896.02, bar train loss 5.708, len train loss 0.063, col train loss 162.508\n",
      "epoch 105: avg test  loss 895.60, bar  test loss 5.704, len  test loss 0.065, col  test loss 162.697\n"
     ]
    },
    {
     "name": "stderr",
     "output_type": "stream",
     "text": [
      "Epoch 106: 543batch [00:28, 19.08batch/s, loss=948]\n"
     ]
    },
    {
     "name": "stdout",
     "output_type": "stream",
     "text": [
      "epoch 106: avg train loss 895.82, bar train loss 5.712, len train loss 0.064, col train loss 162.494\n"
     ]
    },
    {
     "name": "stderr",
     "output_type": "stream",
     "text": [
      "Epoch 107: 2batch [00:00, 19.23batch/s, loss=924]"
     ]
    },
    {
     "name": "stdout",
     "output_type": "stream",
     "text": [
      "epoch 106: avg test  loss 895.40, bar  test loss 5.725, len  test loss 0.065, col  test loss 162.467\n"
     ]
    },
    {
     "name": "stderr",
     "output_type": "stream",
     "text": [
      "Epoch 107: 543batch [00:28, 18.96batch/s, loss=912]\n"
     ]
    },
    {
     "name": "stdout",
     "output_type": "stream",
     "text": [
      "epoch 107: avg train loss 895.69, bar train loss 5.713, len train loss 0.063, col train loss 162.527\n"
     ]
    },
    {
     "name": "stderr",
     "output_type": "stream",
     "text": [
      "Epoch 108: 2batch [00:00, 19.23batch/s, loss=890]"
     ]
    },
    {
     "name": "stdout",
     "output_type": "stream",
     "text": [
      "epoch 107: avg test  loss 894.68, bar  test loss 5.687, len  test loss 0.059, col  test loss 162.224\n"
     ]
    },
    {
     "name": "stderr",
     "output_type": "stream",
     "text": [
      "Epoch 108: 543batch [00:28, 19.10batch/s, loss=932]    \n"
     ]
    },
    {
     "name": "stdout",
     "output_type": "stream",
     "text": [
      "epoch 108: avg train loss 895.81, bar train loss 5.727, len train loss 0.063, col train loss 162.523\n"
     ]
    },
    {
     "name": "stderr",
     "output_type": "stream",
     "text": [
      "Epoch 109: 2batch [00:00, 19.23batch/s, loss=949]"
     ]
    },
    {
     "name": "stdout",
     "output_type": "stream",
     "text": [
      "epoch 108: avg test  loss 895.18, bar  test loss 5.713, len  test loss 0.069, col  test loss 162.309\n"
     ]
    },
    {
     "name": "stderr",
     "output_type": "stream",
     "text": [
      "Epoch 109: 543batch [00:28, 19.08batch/s, loss=797]\n"
     ]
    },
    {
     "name": "stdout",
     "output_type": "stream",
     "text": [
      "epoch 109: avg train loss 896.02, bar train loss 5.725, len train loss 0.062, col train loss 162.527\n"
     ]
    },
    {
     "name": "stderr",
     "output_type": "stream",
     "text": [
      "Epoch 110: 2batch [00:00, 18.87batch/s, loss=941]"
     ]
    },
    {
     "name": "stdout",
     "output_type": "stream",
     "text": [
      "epoch 109: avg test  loss 895.27, bar  test loss 5.698, len  test loss 0.054, col  test loss 162.705\n"
     ]
    },
    {
     "name": "stderr",
     "output_type": "stream",
     "text": [
      "Epoch 110: 543batch [00:28, 19.05batch/s, loss=859]\n"
     ]
    },
    {
     "name": "stdout",
     "output_type": "stream",
     "text": [
      "epoch 110: avg train loss 895.97, bar train loss 5.712, len train loss 0.062, col train loss 162.563\n",
      "epoch 110: avg test  loss 897.02, bar  test loss 5.746, len  test loss 0.069, col  test loss 162.810\n"
     ]
    },
    {
     "name": "stderr",
     "output_type": "stream",
     "text": [
      "Epoch 111: 543batch [00:28, 19.06batch/s, loss=868]   \n"
     ]
    },
    {
     "name": "stdout",
     "output_type": "stream",
     "text": [
      "epoch 111: avg train loss 895.66, bar train loss 5.693, len train loss 0.062, col train loss 162.484\n"
     ]
    },
    {
     "name": "stderr",
     "output_type": "stream",
     "text": [
      "Epoch 112: 2batch [00:00, 19.61batch/s, loss=948]"
     ]
    },
    {
     "name": "stdout",
     "output_type": "stream",
     "text": [
      "epoch 111: avg test  loss 898.34, bar  test loss 5.860, len  test loss 0.075, col  test loss 162.550\n"
     ]
    },
    {
     "name": "stderr",
     "output_type": "stream",
     "text": [
      "Epoch 112: 543batch [00:28, 18.94batch/s, loss=865] \n"
     ]
    },
    {
     "name": "stdout",
     "output_type": "stream",
     "text": [
      "epoch 112: avg train loss 895.81, bar train loss 5.686, len train loss 0.063, col train loss 162.538\n"
     ]
    },
    {
     "name": "stderr",
     "output_type": "stream",
     "text": [
      "Epoch 113: 2batch [00:00, 19.42batch/s, loss=886]"
     ]
    },
    {
     "name": "stdout",
     "output_type": "stream",
     "text": [
      "epoch 112: avg test  loss 894.93, bar  test loss 5.612, len  test loss 0.055, col  test loss 162.434\n"
     ]
    },
    {
     "name": "stderr",
     "output_type": "stream",
     "text": [
      "Epoch 113: 543batch [00:28, 19.07batch/s, loss=960]    \n"
     ]
    },
    {
     "name": "stdout",
     "output_type": "stream",
     "text": [
      "epoch 113: avg train loss 896.07, bar train loss 5.709, len train loss 0.063, col train loss 162.535\n"
     ]
    },
    {
     "name": "stderr",
     "output_type": "stream",
     "text": [
      "Epoch 114: 2batch [00:00, 19.23batch/s, loss=831]"
     ]
    },
    {
     "name": "stdout",
     "output_type": "stream",
     "text": [
      "epoch 113: avg test  loss 896.45, bar  test loss 5.792, len  test loss 0.060, col  test loss 162.678\n"
     ]
    },
    {
     "name": "stderr",
     "output_type": "stream",
     "text": [
      "Epoch 114: 543batch [00:28, 19.04batch/s, loss=944]    \n"
     ]
    },
    {
     "name": "stdout",
     "output_type": "stream",
     "text": [
      "epoch 114: avg train loss 896.22, bar train loss 5.710, len train loss 0.063, col train loss 162.591\n"
     ]
    },
    {
     "name": "stderr",
     "output_type": "stream",
     "text": [
      "Epoch 115: 2batch [00:00, 18.52batch/s, loss=899]"
     ]
    },
    {
     "name": "stdout",
     "output_type": "stream",
     "text": [
      "epoch 114: avg test  loss 896.61, bar  test loss 5.703, len  test loss 0.068, col  test loss 162.477\n"
     ]
    },
    {
     "name": "stderr",
     "output_type": "stream",
     "text": [
      "Epoch 115: 543batch [00:28, 19.05batch/s, loss=921]\n"
     ]
    },
    {
     "name": "stdout",
     "output_type": "stream",
     "text": [
      "epoch 115: avg train loss 896.37, bar train loss 5.728, len train loss 0.063, col train loss 162.587\n",
      "epoch 115: avg test  loss 898.19, bar  test loss 5.706, len  test loss 0.058, col  test loss 162.503\n"
     ]
    },
    {
     "name": "stderr",
     "output_type": "stream",
     "text": [
      "Epoch 116: 543batch [00:28, 18.77batch/s, loss=931]\n"
     ]
    },
    {
     "name": "stdout",
     "output_type": "stream",
     "text": [
      "epoch 116: avg train loss 895.88, bar train loss 5.699, len train loss 0.061, col train loss 162.589\n"
     ]
    },
    {
     "name": "stderr",
     "output_type": "stream",
     "text": [
      "Epoch 117: 2batch [00:00, 19.23batch/s, loss=898]"
     ]
    },
    {
     "name": "stdout",
     "output_type": "stream",
     "text": [
      "epoch 116: avg test  loss 899.10, bar  test loss 5.880, len  test loss 0.073, col  test loss 162.949\n"
     ]
    },
    {
     "name": "stderr",
     "output_type": "stream",
     "text": [
      "Epoch 117: 543batch [00:28, 19.04batch/s, loss=911]    \n"
     ]
    },
    {
     "name": "stdout",
     "output_type": "stream",
     "text": [
      "epoch 117: avg train loss 896.56, bar train loss 5.739, len train loss 0.063, col train loss 162.569\n"
     ]
    },
    {
     "name": "stderr",
     "output_type": "stream",
     "text": [
      "Epoch 118: 2batch [00:00, 19.05batch/s, loss=893]"
     ]
    },
    {
     "name": "stdout",
     "output_type": "stream",
     "text": [
      "epoch 117: avg test  loss 896.47, bar  test loss 5.716, len  test loss 0.060, col  test loss 162.351\n"
     ]
    },
    {
     "name": "stderr",
     "output_type": "stream",
     "text": [
      "Epoch 118: 543batch [00:28, 18.74batch/s, loss=871]\n"
     ]
    },
    {
     "name": "stdout",
     "output_type": "stream",
     "text": [
      "epoch 118: avg train loss 896.01, bar train loss 5.720, len train loss 0.061, col train loss 162.576\n"
     ]
    },
    {
     "name": "stderr",
     "output_type": "stream",
     "text": [
      "Epoch 119: 2batch [00:00, 19.05batch/s, loss=861]"
     ]
    },
    {
     "name": "stdout",
     "output_type": "stream",
     "text": [
      "epoch 118: avg test  loss 895.33, bar  test loss 5.688, len  test loss 0.053, col  test loss 162.642\n"
     ]
    },
    {
     "name": "stderr",
     "output_type": "stream",
     "text": [
      "Epoch 119: 543batch [00:38, 14.18batch/s, loss=826]    \n"
     ]
    },
    {
     "name": "stdout",
     "output_type": "stream",
     "text": [
      "epoch 119: avg train loss 896.58, bar train loss 5.758, len train loss 0.061, col train loss 162.604\n",
      "epoch 119: avg test  loss 899.42, bar  test loss 5.782, len  test loss 0.102, col  test loss 162.663\n"
     ]
    },
    {
     "name": "stderr",
     "output_type": "stream",
     "text": [
      "Epoch 120: 543batch [00:28, 18.84batch/s, loss=921]\n"
     ]
    },
    {
     "name": "stdout",
     "output_type": "stream",
     "text": [
      "epoch 120: avg train loss 896.78, bar train loss 5.727, len train loss 0.062, col train loss 162.621\n",
      "epoch 120: avg test  loss 897.21, bar  test loss 5.807, len  test loss 0.058, col  test loss 162.782\n"
     ]
    },
    {
     "name": "stderr",
     "output_type": "stream",
     "text": [
      "Epoch 121: 543batch [00:28, 18.83batch/s, loss=929]\n"
     ]
    },
    {
     "name": "stdout",
     "output_type": "stream",
     "text": [
      "epoch 121: avg train loss 897.19, bar train loss 5.764, len train loss 0.063, col train loss 162.623\n"
     ]
    },
    {
     "name": "stderr",
     "output_type": "stream",
     "text": [
      "Epoch 122: 2batch [00:00, 18.69batch/s, loss=858]"
     ]
    },
    {
     "name": "stdout",
     "output_type": "stream",
     "text": [
      "epoch 121: avg test  loss 896.39, bar  test loss 5.707, len  test loss 0.053, col  test loss 162.550\n"
     ]
    },
    {
     "name": "stderr",
     "output_type": "stream",
     "text": [
      "Epoch 122: 543batch [00:28, 18.95batch/s, loss=976]\n"
     ]
    },
    {
     "name": "stdout",
     "output_type": "stream",
     "text": [
      "epoch 122: avg train loss 896.58, bar train loss 5.742, len train loss 0.061, col train loss 162.575\n"
     ]
    },
    {
     "name": "stderr",
     "output_type": "stream",
     "text": [
      "Epoch 123: 2batch [00:00, 18.69batch/s, loss=919]"
     ]
    },
    {
     "name": "stdout",
     "output_type": "stream",
     "text": [
      "epoch 122: avg test  loss 896.34, bar  test loss 5.797, len  test loss 0.050, col  test loss 162.804\n"
     ]
    },
    {
     "name": "stderr",
     "output_type": "stream",
     "text": [
      "Epoch 123: 543batch [00:28, 18.85batch/s, loss=886]    \n"
     ]
    },
    {
     "name": "stdout",
     "output_type": "stream",
     "text": [
      "epoch 123: avg train loss 897.08, bar train loss 5.745, len train loss 0.062, col train loss 162.686\n"
     ]
    },
    {
     "name": "stderr",
     "output_type": "stream",
     "text": [
      "Epoch 124: 2batch [00:00, 19.61batch/s, loss=868]"
     ]
    },
    {
     "name": "stdout",
     "output_type": "stream",
     "text": [
      "epoch 123: avg test  loss 898.88, bar  test loss 5.748, len  test loss 0.085, col  test loss 162.575\n"
     ]
    },
    {
     "name": "stderr",
     "output_type": "stream",
     "text": [
      "Epoch 124: 543batch [00:28, 18.94batch/s, loss=834]    \n"
     ]
    },
    {
     "name": "stdout",
     "output_type": "stream",
     "text": [
      "epoch 124: avg train loss 897.16, bar train loss 5.765, len train loss 0.061, col train loss 162.663\n"
     ]
    },
    {
     "name": "stderr",
     "output_type": "stream",
     "text": [
      "Epoch 125: 2batch [00:00, 18.87batch/s, loss=898]"
     ]
    },
    {
     "name": "stdout",
     "output_type": "stream",
     "text": [
      "epoch 124: avg test  loss 894.79, bar  test loss 5.656, len  test loss 0.054, col  test loss 162.484\n"
     ]
    },
    {
     "name": "stderr",
     "output_type": "stream",
     "text": [
      "Epoch 125: 543batch [00:29, 18.72batch/s, loss=921]\n"
     ]
    },
    {
     "name": "stdout",
     "output_type": "stream",
     "text": [
      "epoch 125: avg train loss 896.76, bar train loss 5.757, len train loss 0.061, col train loss 162.614\n",
      "epoch 125: avg test  loss 896.54, bar  test loss 5.777, len  test loss 0.053, col  test loss 162.768\n"
     ]
    },
    {
     "name": "stderr",
     "output_type": "stream",
     "text": [
      "Epoch 126: 543batch [00:28, 18.94batch/s, loss=913]\n"
     ]
    },
    {
     "name": "stdout",
     "output_type": "stream",
     "text": [
      "epoch 126: avg train loss 897.86, bar train loss 5.779, len train loss 0.065, col train loss 162.673\n"
     ]
    },
    {
     "name": "stderr",
     "output_type": "stream",
     "text": [
      "Epoch 127: 2batch [00:00, 19.61batch/s, loss=907]"
     ]
    },
    {
     "name": "stdout",
     "output_type": "stream",
     "text": [
      "epoch 126: avg test  loss 897.36, bar  test loss 5.788, len  test loss 0.060, col  test loss 162.593\n"
     ]
    },
    {
     "name": "stderr",
     "output_type": "stream",
     "text": [
      "Epoch 127: 543batch [00:28, 19.05batch/s, loss=928]    \n"
     ]
    },
    {
     "name": "stdout",
     "output_type": "stream",
     "text": [
      "epoch 127: avg train loss 897.70, bar train loss 5.771, len train loss 0.064, col train loss 162.689\n"
     ]
    },
    {
     "name": "stderr",
     "output_type": "stream",
     "text": [
      "Epoch 128: 2batch [00:00, 19.23batch/s, loss=855]"
     ]
    },
    {
     "name": "stdout",
     "output_type": "stream",
     "text": [
      "epoch 127: avg test  loss 898.02, bar  test loss 5.664, len  test loss 0.074, col  test loss 162.405\n"
     ]
    },
    {
     "name": "stderr",
     "output_type": "stream",
     "text": [
      "Epoch 128: 543batch [00:28, 18.96batch/s, loss=867]    \n"
     ]
    },
    {
     "name": "stdout",
     "output_type": "stream",
     "text": [
      "epoch 128: avg train loss 897.69, bar train loss 5.791, len train loss 0.062, col train loss 162.686\n"
     ]
    },
    {
     "name": "stderr",
     "output_type": "stream",
     "text": [
      "Epoch 129: 2batch [00:00, 18.69batch/s, loss=911]"
     ]
    },
    {
     "name": "stdout",
     "output_type": "stream",
     "text": [
      "epoch 128: avg test  loss 896.98, bar  test loss 5.703, len  test loss 0.063, col  test loss 162.742\n"
     ]
    },
    {
     "name": "stderr",
     "output_type": "stream",
     "text": [
      "Epoch 129: 543batch [00:28, 19.00batch/s, loss=878]\n"
     ]
    },
    {
     "name": "stdout",
     "output_type": "stream",
     "text": [
      "epoch 129: avg train loss 897.63, bar train loss 5.801, len train loss 0.062, col train loss 162.687\n"
     ]
    },
    {
     "name": "stderr",
     "output_type": "stream",
     "text": [
      "Epoch 130: 2batch [00:00, 19.23batch/s, loss=890]"
     ]
    },
    {
     "name": "stdout",
     "output_type": "stream",
     "text": [
      "epoch 129: avg test  loss 898.21, bar  test loss 5.793, len  test loss 0.076, col  test loss 162.638\n"
     ]
    },
    {
     "name": "stderr",
     "output_type": "stream",
     "text": [
      "Epoch 130: 543batch [00:28, 18.88batch/s, loss=892]\n"
     ]
    },
    {
     "name": "stdout",
     "output_type": "stream",
     "text": [
      "epoch 130: avg train loss 897.31, bar train loss 5.779, len train loss 0.061, col train loss 162.634\n",
      "epoch 130: avg test  loss 895.83, bar  test loss 5.650, len  test loss 0.053, col  test loss 162.596\n"
     ]
    },
    {
     "name": "stderr",
     "output_type": "stream",
     "text": [
      "Epoch 131: 543batch [00:28, 18.92batch/s, loss=923]\n"
     ]
    },
    {
     "name": "stdout",
     "output_type": "stream",
     "text": [
      "epoch 131: avg train loss 897.47, bar train loss 5.766, len train loss 0.064, col train loss 162.641\n"
     ]
    },
    {
     "name": "stderr",
     "output_type": "stream",
     "text": [
      "Epoch 132: 2batch [00:00, 19.23batch/s, loss=889]"
     ]
    },
    {
     "name": "stdout",
     "output_type": "stream",
     "text": [
      "epoch 131: avg test  loss 898.15, bar  test loss 5.879, len  test loss 0.051, col  test loss 162.999\n"
     ]
    },
    {
     "name": "stderr",
     "output_type": "stream",
     "text": [
      "Epoch 132: 543batch [00:28, 18.86batch/s, loss=945]\n"
     ]
    },
    {
     "name": "stdout",
     "output_type": "stream",
     "text": [
      "epoch 132: avg train loss 897.74, bar train loss 5.806, len train loss 0.062, col train loss 162.662\n"
     ]
    },
    {
     "name": "stderr",
     "output_type": "stream",
     "text": [
      "Epoch 133: 2batch [00:00, 19.23batch/s, loss=912]"
     ]
    },
    {
     "name": "stdout",
     "output_type": "stream",
     "text": [
      "epoch 132: avg test  loss 896.45, bar  test loss 5.691, len  test loss 0.065, col  test loss 162.569\n"
     ]
    },
    {
     "name": "stderr",
     "output_type": "stream",
     "text": [
      "Epoch 133: 543batch [00:28, 19.00batch/s, loss=884]    \n"
     ]
    },
    {
     "name": "stdout",
     "output_type": "stream",
     "text": [
      "epoch 133: avg train loss 898.03, bar train loss 5.812, len train loss 0.063, col train loss 162.682\n"
     ]
    },
    {
     "name": "stderr",
     "output_type": "stream",
     "text": [
      "Epoch 134: 2batch [00:00, 19.23batch/s, loss=893]"
     ]
    },
    {
     "name": "stdout",
     "output_type": "stream",
     "text": [
      "epoch 133: avg test  loss 898.11, bar  test loss 5.803, len  test loss 0.068, col  test loss 162.419\n"
     ]
    },
    {
     "name": "stderr",
     "output_type": "stream",
     "text": [
      "Epoch 134: 543batch [00:28, 18.81batch/s, loss=919]   \n"
     ]
    },
    {
     "name": "stdout",
     "output_type": "stream",
     "text": [
      "epoch 134: avg train loss 898.30, bar train loss 5.823, len train loss 0.062, col train loss 162.688\n"
     ]
    },
    {
     "name": "stderr",
     "output_type": "stream",
     "text": [
      "Epoch 135: 2batch [00:00, 19.23batch/s, loss=902]"
     ]
    },
    {
     "name": "stdout",
     "output_type": "stream",
     "text": [
      "epoch 134: avg test  loss 897.60, bar  test loss 5.809, len  test loss 0.060, col  test loss 162.530\n"
     ]
    },
    {
     "name": "stderr",
     "output_type": "stream",
     "text": [
      "Epoch 135: 543batch [00:28, 18.91batch/s, loss=848]    \n"
     ]
    },
    {
     "name": "stdout",
     "output_type": "stream",
     "text": [
      "epoch 135: avg train loss 898.08, bar train loss 5.821, len train loss 0.061, col train loss 162.719\n",
      "epoch 135: avg test  loss 897.01, bar  test loss 5.839, len  test loss 0.056, col  test loss 162.933\n"
     ]
    },
    {
     "name": "stderr",
     "output_type": "stream",
     "text": [
      "Epoch 136: 543batch [00:28, 18.87batch/s, loss=850]\n"
     ]
    },
    {
     "name": "stdout",
     "output_type": "stream",
     "text": [
      "epoch 136: avg train loss 897.85, bar train loss 5.824, len train loss 0.059, col train loss 162.704\n"
     ]
    },
    {
     "name": "stderr",
     "output_type": "stream",
     "text": [
      "Epoch 137: 2batch [00:00, 18.69batch/s, loss=971]"
     ]
    },
    {
     "name": "stdout",
     "output_type": "stream",
     "text": [
      "epoch 136: avg test  loss 896.12, bar  test loss 5.771, len  test loss 0.058, col  test loss 162.450\n"
     ]
    },
    {
     "name": "stderr",
     "output_type": "stream",
     "text": [
      "Epoch 137: 543batch [00:28, 18.96batch/s, loss=941]\n"
     ]
    },
    {
     "name": "stdout",
     "output_type": "stream",
     "text": [
      "epoch 137: avg train loss 897.93, bar train loss 5.795, len train loss 0.061, col train loss 162.663\n"
     ]
    },
    {
     "name": "stderr",
     "output_type": "stream",
     "text": [
      "Epoch 138: 2batch [00:00, 19.05batch/s, loss=926]"
     ]
    },
    {
     "name": "stdout",
     "output_type": "stream",
     "text": [
      "epoch 137: avg test  loss 899.01, bar  test loss 5.922, len  test loss 0.060, col  test loss 162.571\n"
     ]
    },
    {
     "name": "stderr",
     "output_type": "stream",
     "text": [
      "Epoch 138: 543batch [00:28, 18.95batch/s, loss=889]    \n"
     ]
    },
    {
     "name": "stdout",
     "output_type": "stream",
     "text": [
      "epoch 138: avg train loss 898.23, bar train loss 5.818, len train loss 0.060, col train loss 162.685\n"
     ]
    },
    {
     "name": "stderr",
     "output_type": "stream",
     "text": [
      "Epoch 139: 2batch [00:00, 19.05batch/s, loss=896]"
     ]
    },
    {
     "name": "stdout",
     "output_type": "stream",
     "text": [
      "epoch 138: avg test  loss 896.67, bar  test loss 5.841, len  test loss 0.049, col  test loss 162.611\n"
     ]
    },
    {
     "name": "stderr",
     "output_type": "stream",
     "text": [
      "Epoch 139: 543batch [00:28, 18.93batch/s, loss=859] \n"
     ]
    },
    {
     "name": "stdout",
     "output_type": "stream",
     "text": [
      "epoch 139: avg train loss 897.80, bar train loss 5.810, len train loss 0.059, col train loss 162.619\n"
     ]
    },
    {
     "name": "stderr",
     "output_type": "stream",
     "text": [
      "Epoch 140: 2batch [00:00, 13.16batch/s, loss=881]"
     ]
    },
    {
     "name": "stdout",
     "output_type": "stream",
     "text": [
      "epoch 139: avg test  loss 897.83, bar  test loss 5.888, len  test loss 0.060, col  test loss 163.020\n"
     ]
    },
    {
     "name": "stderr",
     "output_type": "stream",
     "text": [
      "Epoch 140: 543batch [00:28, 18.92batch/s, loss=905]    \n"
     ]
    },
    {
     "name": "stdout",
     "output_type": "stream",
     "text": [
      "epoch 140: avg train loss 898.20, bar train loss 5.804, len train loss 0.061, col train loss 162.717\n",
      "epoch 140: avg test  loss 906.69, bar  test loss 5.954, len  test loss 0.121, col  test loss 163.420\n"
     ]
    },
    {
     "name": "stderr",
     "output_type": "stream",
     "text": [
      "Epoch 141: 543batch [00:28, 18.88batch/s, loss=884]\n"
     ]
    },
    {
     "name": "stdout",
     "output_type": "stream",
     "text": [
      "epoch 141: avg train loss 898.17, bar train loss 5.798, len train loss 0.062, col train loss 162.679\n"
     ]
    },
    {
     "name": "stderr",
     "output_type": "stream",
     "text": [
      "Epoch 142: 2batch [00:00, 19.23batch/s, loss=881]"
     ]
    },
    {
     "name": "stdout",
     "output_type": "stream",
     "text": [
      "epoch 141: avg test  loss 898.12, bar  test loss 5.855, len  test loss 0.056, col  test loss 162.679\n"
     ]
    },
    {
     "name": "stderr",
     "output_type": "stream",
     "text": [
      "Epoch 142: 543batch [00:28, 18.90batch/s, loss=814] \n"
     ]
    },
    {
     "name": "stdout",
     "output_type": "stream",
     "text": [
      "epoch 142: avg train loss 897.68, bar train loss 5.808, len train loss 0.058, col train loss 162.671\n"
     ]
    },
    {
     "name": "stderr",
     "output_type": "stream",
     "text": [
      "Epoch 143: 2batch [00:00, 19.05batch/s, loss=876]"
     ]
    },
    {
     "name": "stdout",
     "output_type": "stream",
     "text": [
      "epoch 142: avg test  loss 896.20, bar  test loss 5.637, len  test loss 0.058, col  test loss 162.459\n"
     ]
    },
    {
     "name": "stderr",
     "output_type": "stream",
     "text": [
      "Epoch 143: 543batch [00:28, 18.91batch/s, loss=840]    \n"
     ]
    },
    {
     "name": "stdout",
     "output_type": "stream",
     "text": [
      "epoch 143: avg train loss 898.14, bar train loss 5.812, len train loss 0.061, col train loss 162.632\n"
     ]
    },
    {
     "name": "stderr",
     "output_type": "stream",
     "text": [
      "Epoch 144: 2batch [00:00, 19.05batch/s, loss=839]"
     ]
    },
    {
     "name": "stdout",
     "output_type": "stream",
     "text": [
      "epoch 143: avg test  loss 900.55, bar  test loss 5.717, len  test loss 0.078, col  test loss 162.299\n"
     ]
    },
    {
     "name": "stderr",
     "output_type": "stream",
     "text": [
      "Epoch 144: 543batch [00:28, 18.88batch/s, loss=855]\n"
     ]
    },
    {
     "name": "stdout",
     "output_type": "stream",
     "text": [
      "epoch 144: avg train loss 898.55, bar train loss 5.795, len train loss 0.065, col train loss 162.666\n"
     ]
    },
    {
     "name": "stderr",
     "output_type": "stream",
     "text": [
      "Epoch 145: 2batch [00:00, 19.05batch/s, loss=868]"
     ]
    },
    {
     "name": "stdout",
     "output_type": "stream",
     "text": [
      "epoch 144: avg test  loss 903.31, bar  test loss 6.247, len  test loss 0.066, col  test loss 163.016\n"
     ]
    },
    {
     "name": "stderr",
     "output_type": "stream",
     "text": [
      "Epoch 145: 543batch [00:28, 18.90batch/s, loss=914]\n"
     ]
    },
    {
     "name": "stdout",
     "output_type": "stream",
     "text": [
      "epoch 145: avg train loss 897.67, bar train loss 5.784, len train loss 0.061, col train loss 162.642\n",
      "epoch 145: avg test  loss 897.62, bar  test loss 5.756, len  test loss 0.063, col  test loss 162.912\n"
     ]
    },
    {
     "name": "stderr",
     "output_type": "stream",
     "text": [
      "Epoch 146: 543batch [00:29, 18.53batch/s, loss=922]    \n"
     ]
    },
    {
     "name": "stdout",
     "output_type": "stream",
     "text": [
      "epoch 146: avg train loss 898.19, bar train loss 5.761, len train loss 0.066, col train loss 162.660\n"
     ]
    },
    {
     "name": "stderr",
     "output_type": "stream",
     "text": [
      "Epoch 147: 2batch [00:00, 18.52batch/s, loss=938]"
     ]
    },
    {
     "name": "stdout",
     "output_type": "stream",
     "text": [
      "epoch 146: avg test  loss 898.97, bar  test loss 5.804, len  test loss 0.057, col  test loss 162.994\n"
     ]
    },
    {
     "name": "stderr",
     "output_type": "stream",
     "text": [
      "Epoch 147: 543batch [00:28, 18.84batch/s, loss=896] \n"
     ]
    },
    {
     "name": "stdout",
     "output_type": "stream",
     "text": [
      "epoch 147: avg train loss 897.62, bar train loss 5.788, len train loss 0.059, col train loss 162.679\n"
     ]
    },
    {
     "name": "stderr",
     "output_type": "stream",
     "text": [
      "Epoch 148: 2batch [00:00, 18.69batch/s, loss=898]"
     ]
    },
    {
     "name": "stdout",
     "output_type": "stream",
     "text": [
      "epoch 147: avg test  loss 897.95, bar  test loss 5.887, len  test loss 0.052, col  test loss 162.515\n"
     ]
    },
    {
     "name": "stderr",
     "output_type": "stream",
     "text": [
      "Epoch 148: 543batch [00:28, 18.89batch/s, loss=867]    \n"
     ]
    },
    {
     "name": "stdout",
     "output_type": "stream",
     "text": [
      "epoch 148: avg train loss 898.30, bar train loss 5.817, len train loss 0.060, col train loss 162.722\n"
     ]
    },
    {
     "name": "stderr",
     "output_type": "stream",
     "text": [
      "Epoch 149: 2batch [00:00, 19.05batch/s, loss=930]"
     ]
    },
    {
     "name": "stdout",
     "output_type": "stream",
     "text": [
      "epoch 148: avg test  loss 897.27, bar  test loss 5.835, len  test loss 0.061, col  test loss 162.992\n"
     ]
    },
    {
     "name": "stderr",
     "output_type": "stream",
     "text": [
      "Epoch 149: 543batch [00:28, 18.83batch/s, loss=813]    \n"
     ]
    },
    {
     "name": "stdout",
     "output_type": "stream",
     "text": [
      "epoch 149: avg train loss 897.81, bar train loss 5.790, len train loss 0.060, col train loss 162.673\n"
     ]
    },
    {
     "name": "stderr",
     "output_type": "stream",
     "text": [
      "Epoch 150: 2batch [00:00, 18.87batch/s, loss=839]"
     ]
    },
    {
     "name": "stdout",
     "output_type": "stream",
     "text": [
      "epoch 149: avg test  loss 898.97, bar  test loss 5.811, len  test loss 0.060, col  test loss 162.593\n"
     ]
    },
    {
     "name": "stderr",
     "output_type": "stream",
     "text": [
      "Epoch 150: 543batch [00:28, 18.88batch/s, loss=949]\n"
     ]
    },
    {
     "name": "stdout",
     "output_type": "stream",
     "text": [
      "epoch 150: avg train loss 897.93, bar train loss 5.791, len train loss 0.062, col train loss 162.666\n",
      "epoch 150: avg test  loss 895.92, bar  test loss 5.671, len  test loss 0.051, col  test loss 162.246\n"
     ]
    },
    {
     "name": "stderr",
     "output_type": "stream",
     "text": [
      "Epoch 151: 543batch [00:28, 18.89batch/s, loss=871]    \n"
     ]
    },
    {
     "name": "stdout",
     "output_type": "stream",
     "text": [
      "epoch 151: avg train loss 897.74, bar train loss 5.777, len train loss 0.063, col train loss 162.616\n"
     ]
    },
    {
     "name": "stderr",
     "output_type": "stream",
     "text": [
      "Epoch 152: 2batch [00:00, 18.87batch/s, loss=858]"
     ]
    },
    {
     "name": "stdout",
     "output_type": "stream",
     "text": [
      "epoch 151: avg test  loss 897.48, bar  test loss 5.671, len  test loss 0.077, col  test loss 162.418\n"
     ]
    },
    {
     "name": "stderr",
     "output_type": "stream",
     "text": [
      "Epoch 152: 543batch [00:28, 18.88batch/s, loss=872]\n"
     ]
    },
    {
     "name": "stdout",
     "output_type": "stream",
     "text": [
      "epoch 152: avg train loss 897.15, bar train loss 5.776, len train loss 0.059, col train loss 162.592\n"
     ]
    },
    {
     "name": "stderr",
     "output_type": "stream",
     "text": [
      "Epoch 153: 2batch [00:00, 18.87batch/s, loss=876]"
     ]
    },
    {
     "name": "stdout",
     "output_type": "stream",
     "text": [
      "epoch 152: avg test  loss 897.71, bar  test loss 5.841, len  test loss 0.075, col  test loss 162.719\n"
     ]
    },
    {
     "name": "stderr",
     "output_type": "stream",
     "text": [
      "Epoch 153: 543batch [00:28, 18.83batch/s, loss=885]\n"
     ]
    },
    {
     "name": "stdout",
     "output_type": "stream",
     "text": [
      "epoch 153: avg train loss 897.69, bar train loss 5.804, len train loss 0.061, col train loss 162.636\n"
     ]
    },
    {
     "name": "stderr",
     "output_type": "stream",
     "text": [
      "Epoch 154: 2batch [00:00, 19.42batch/s, loss=895]"
     ]
    },
    {
     "name": "stdout",
     "output_type": "stream",
     "text": [
      "epoch 153: avg test  loss 896.04, bar  test loss 5.805, len  test loss 0.051, col  test loss 162.769\n"
     ]
    },
    {
     "name": "stderr",
     "output_type": "stream",
     "text": [
      "Epoch 154: 543batch [00:28, 18.88batch/s, loss=874]\n"
     ]
    },
    {
     "name": "stdout",
     "output_type": "stream",
     "text": [
      "epoch 154: avg train loss 897.42, bar train loss 5.790, len train loss 0.059, col train loss 162.638\n"
     ]
    },
    {
     "name": "stderr",
     "output_type": "stream",
     "text": [
      "Epoch 155: 2batch [00:00, 18.87batch/s, loss=846]"
     ]
    },
    {
     "name": "stdout",
     "output_type": "stream",
     "text": [
      "epoch 154: avg test  loss 900.80, bar  test loss 6.018, len  test loss 0.052, col  test loss 163.363\n"
     ]
    },
    {
     "name": "stderr",
     "output_type": "stream",
     "text": [
      "Epoch 155: 543batch [00:28, 18.86batch/s, loss=831]\n"
     ]
    },
    {
     "name": "stdout",
     "output_type": "stream",
     "text": [
      "epoch 155: avg train loss 897.39, bar train loss 5.776, len train loss 0.060, col train loss 162.622\n",
      "epoch 155: avg test  loss 897.05, bar  test loss 5.739, len  test loss 0.054, col  test loss 162.955\n"
     ]
    },
    {
     "name": "stderr",
     "output_type": "stream",
     "text": [
      "Epoch 156: 543batch [00:28, 18.79batch/s, loss=918]   \n"
     ]
    },
    {
     "name": "stdout",
     "output_type": "stream",
     "text": [
      "epoch 156: avg train loss 897.39, bar train loss 5.772, len train loss 0.058, col train loss 162.640\n"
     ]
    },
    {
     "name": "stderr",
     "output_type": "stream",
     "text": [
      "Epoch 157: 2batch [00:00, 18.87batch/s, loss=930]"
     ]
    },
    {
     "name": "stdout",
     "output_type": "stream",
     "text": [
      "epoch 156: avg test  loss 896.67, bar  test loss 5.603, len  test loss 0.060, col  test loss 162.322\n"
     ]
    },
    {
     "name": "stderr",
     "output_type": "stream",
     "text": [
      "Epoch 157: 543batch [00:28, 18.79batch/s, loss=946]\n"
     ]
    },
    {
     "name": "stdout",
     "output_type": "stream",
     "text": [
      "epoch 157: avg train loss 897.06, bar train loss 5.776, len train loss 0.058, col train loss 162.636\n"
     ]
    },
    {
     "name": "stderr",
     "output_type": "stream",
     "text": [
      "Epoch 158: 2batch [00:00, 18.87batch/s, loss=905]"
     ]
    },
    {
     "name": "stdout",
     "output_type": "stream",
     "text": [
      "epoch 157: avg test  loss 895.61, bar  test loss 5.791, len  test loss 0.049, col  test loss 162.569\n"
     ]
    },
    {
     "name": "stderr",
     "output_type": "stream",
     "text": [
      "Epoch 158: 543batch [00:28, 18.80batch/s, loss=884]\n"
     ]
    },
    {
     "name": "stdout",
     "output_type": "stream",
     "text": [
      "epoch 158: avg train loss 897.02, bar train loss 5.778, len train loss 0.058, col train loss 162.658\n"
     ]
    },
    {
     "name": "stderr",
     "output_type": "stream",
     "text": [
      "Epoch 159: 2batch [00:00, 18.87batch/s, loss=879]"
     ]
    },
    {
     "name": "stdout",
     "output_type": "stream",
     "text": [
      "epoch 158: avg test  loss 896.86, bar  test loss 5.701, len  test loss 0.058, col  test loss 162.435\n"
     ]
    },
    {
     "name": "stderr",
     "output_type": "stream",
     "text": [
      "Epoch 159: 543batch [00:28, 18.80batch/s, loss=860] \n"
     ]
    },
    {
     "name": "stdout",
     "output_type": "stream",
     "text": [
      "epoch 159: avg train loss 896.87, bar train loss 5.776, len train loss 0.056, col train loss 162.639\n"
     ]
    },
    {
     "name": "stderr",
     "output_type": "stream",
     "text": [
      "Epoch 160: 2batch [00:00, 18.87batch/s, loss=893]"
     ]
    },
    {
     "name": "stdout",
     "output_type": "stream",
     "text": [
      "epoch 159: avg test  loss 896.67, bar  test loss 5.835, len  test loss 0.053, col  test loss 162.707\n"
     ]
    },
    {
     "name": "stderr",
     "output_type": "stream",
     "text": [
      "Epoch 160: 543batch [00:28, 18.80batch/s, loss=906]    \n"
     ]
    },
    {
     "name": "stdout",
     "output_type": "stream",
     "text": [
      "epoch 160: avg train loss 896.93, bar train loss 5.768, len train loss 0.056, col train loss 162.665\n",
      "epoch 160: avg test  loss 898.49, bar  test loss 5.781, len  test loss 0.051, col  test loss 162.708\n"
     ]
    },
    {
     "name": "stderr",
     "output_type": "stream",
     "text": [
      "Epoch 161: 543batch [00:28, 18.78batch/s, loss=825]\n"
     ]
    },
    {
     "name": "stdout",
     "output_type": "stream",
     "text": [
      "epoch 161: avg train loss 897.43, bar train loss 5.788, len train loss 0.057, col train loss 162.678\n"
     ]
    },
    {
     "name": "stderr",
     "output_type": "stream",
     "text": [
      "Epoch 162: 2batch [00:00, 18.69batch/s, loss=879]"
     ]
    },
    {
     "name": "stdout",
     "output_type": "stream",
     "text": [
      "epoch 161: avg test  loss 899.48, bar  test loss 5.615, len  test loss 0.075, col  test loss 162.494\n"
     ]
    },
    {
     "name": "stderr",
     "output_type": "stream",
     "text": [
      "Epoch 162: 543batch [00:28, 18.79batch/s, loss=951]\n"
     ]
    },
    {
     "name": "stdout",
     "output_type": "stream",
     "text": [
      "epoch 162: avg train loss 897.00, bar train loss 5.795, len train loss 0.056, col train loss 162.641\n"
     ]
    },
    {
     "name": "stderr",
     "output_type": "stream",
     "text": [
      "Epoch 163: 2batch [00:00, 19.12batch/s, loss=879]"
     ]
    },
    {
     "name": "stdout",
     "output_type": "stream",
     "text": [
      "epoch 162: avg test  loss 903.07, bar  test loss 5.898, len  test loss 0.084, col  test loss 163.152\n"
     ]
    },
    {
     "name": "stderr",
     "output_type": "stream",
     "text": [
      "Epoch 163: 543batch [00:28, 18.78batch/s, loss=995]\n"
     ]
    },
    {
     "name": "stdout",
     "output_type": "stream",
     "text": [
      "epoch 163: avg train loss 897.38, bar train loss 5.800, len train loss 0.056, col train loss 162.669\n"
     ]
    },
    {
     "name": "stderr",
     "output_type": "stream",
     "text": [
      "Epoch 164: 2batch [00:00, 18.52batch/s, loss=903]"
     ]
    },
    {
     "name": "stdout",
     "output_type": "stream",
     "text": [
      "epoch 163: avg test  loss 896.79, bar  test loss 5.768, len  test loss 0.061, col  test loss 162.554\n"
     ]
    },
    {
     "name": "stderr",
     "output_type": "stream",
     "text": [
      "Epoch 164: 543batch [00:28, 18.76batch/s, loss=883]\n"
     ]
    },
    {
     "name": "stdout",
     "output_type": "stream",
     "text": [
      "epoch 164: avg train loss 897.24, bar train loss 5.795, len train loss 0.057, col train loss 162.723\n"
     ]
    },
    {
     "name": "stderr",
     "output_type": "stream",
     "text": [
      "Epoch 165: 2batch [00:00, 18.69batch/s, loss=884]"
     ]
    },
    {
     "name": "stdout",
     "output_type": "stream",
     "text": [
      "epoch 164: avg test  loss 896.83, bar  test loss 5.709, len  test loss 0.052, col  test loss 162.680\n"
     ]
    },
    {
     "name": "stderr",
     "output_type": "stream",
     "text": [
      "Epoch 165: 543batch [00:29, 18.70batch/s, loss=847]    \n"
     ]
    },
    {
     "name": "stdout",
     "output_type": "stream",
     "text": [
      "epoch 165: avg train loss 897.39, bar train loss 5.802, len train loss 0.058, col train loss 162.678\n",
      "epoch 165: avg test  loss 895.65, bar  test loss 5.626, len  test loss 0.054, col  test loss 162.461\n"
     ]
    },
    {
     "name": "stderr",
     "output_type": "stream",
     "text": [
      "Epoch 166: 543batch [00:29, 18.64batch/s, loss=915]\n"
     ]
    },
    {
     "name": "stdout",
     "output_type": "stream",
     "text": [
      "epoch 166: avg train loss 897.45, bar train loss 5.794, len train loss 0.058, col train loss 162.661\n"
     ]
    },
    {
     "name": "stderr",
     "output_type": "stream",
     "text": [
      "Epoch 167: 2batch [00:00, 19.05batch/s, loss=925]"
     ]
    },
    {
     "name": "stdout",
     "output_type": "stream",
     "text": [
      "epoch 166: avg test  loss 895.31, bar  test loss 5.788, len  test loss 0.048, col  test loss 162.535\n"
     ]
    },
    {
     "name": "stderr",
     "output_type": "stream",
     "text": [
      "Epoch 167: 543batch [00:29, 18.71batch/s, loss=844]\n"
     ]
    },
    {
     "name": "stdout",
     "output_type": "stream",
     "text": [
      "epoch 167: avg train loss 897.44, bar train loss 5.800, len train loss 0.056, col train loss 162.710\n"
     ]
    },
    {
     "name": "stderr",
     "output_type": "stream",
     "text": [
      "Epoch 168: 2batch [00:00, 18.87batch/s, loss=927]"
     ]
    },
    {
     "name": "stdout",
     "output_type": "stream",
     "text": [
      "epoch 167: avg test  loss 898.96, bar  test loss 5.684, len  test loss 0.068, col  test loss 162.496\n"
     ]
    },
    {
     "name": "stderr",
     "output_type": "stream",
     "text": [
      "Epoch 168: 543batch [00:29, 18.71batch/s, loss=926]\n"
     ]
    },
    {
     "name": "stdout",
     "output_type": "stream",
     "text": [
      "epoch 168: avg train loss 897.46, bar train loss 5.798, len train loss 0.058, col train loss 162.664\n"
     ]
    },
    {
     "name": "stderr",
     "output_type": "stream",
     "text": [
      "Epoch 169: 2batch [00:00, 19.05batch/s, loss=894]"
     ]
    },
    {
     "name": "stdout",
     "output_type": "stream",
     "text": [
      "epoch 168: avg test  loss 897.24, bar  test loss 5.770, len  test loss 0.063, col  test loss 162.423\n"
     ]
    },
    {
     "name": "stderr",
     "output_type": "stream",
     "text": [
      "Epoch 169: 543batch [00:29, 18.51batch/s, loss=900]    \n"
     ]
    },
    {
     "name": "stdout",
     "output_type": "stream",
     "text": [
      "epoch 169: avg train loss 898.69, bar train loss 5.825, len train loss 0.061, col train loss 162.697\n"
     ]
    },
    {
     "name": "stderr",
     "output_type": "stream",
     "text": [
      "Epoch 170: 2batch [00:00, 19.42batch/s, loss=856]"
     ]
    },
    {
     "name": "stdout",
     "output_type": "stream",
     "text": [
      "epoch 169: avg test  loss 901.89, bar  test loss 5.955, len  test loss 0.057, col  test loss 162.802\n"
     ]
    },
    {
     "name": "stderr",
     "output_type": "stream",
     "text": [
      "Epoch 170: 543batch [00:29, 18.72batch/s, loss=920]\n"
     ]
    },
    {
     "name": "stdout",
     "output_type": "stream",
     "text": [
      "epoch 170: avg train loss 897.45, bar train loss 5.804, len train loss 0.057, col train loss 162.634\n",
      "epoch 170: avg test  loss 902.23, bar  test loss 6.009, len  test loss 0.066, col  test loss 163.580\n"
     ]
    },
    {
     "name": "stderr",
     "output_type": "stream",
     "text": [
      "Epoch 171: 543batch [00:29, 18.69batch/s, loss=917]\n"
     ]
    },
    {
     "name": "stdout",
     "output_type": "stream",
     "text": [
      "epoch 171: avg train loss 898.03, bar train loss 5.815, len train loss 0.060, col train loss 162.685\n"
     ]
    },
    {
     "name": "stderr",
     "output_type": "stream",
     "text": [
      "Epoch 172: 2batch [00:00, 19.23batch/s, loss=902]"
     ]
    },
    {
     "name": "stdout",
     "output_type": "stream",
     "text": [
      "epoch 171: avg test  loss 899.42, bar  test loss 5.805, len  test loss 0.075, col  test loss 162.561\n"
     ]
    },
    {
     "name": "stderr",
     "output_type": "stream",
     "text": [
      "Epoch 172: 543batch [00:28, 18.75batch/s, loss=907]\n"
     ]
    },
    {
     "name": "stdout",
     "output_type": "stream",
     "text": [
      "epoch 172: avg train loss 898.34, bar train loss 5.828, len train loss 0.059, col train loss 162.715\n"
     ]
    },
    {
     "name": "stderr",
     "output_type": "stream",
     "text": [
      "Epoch 173: 2batch [00:00, 19.23batch/s, loss=845]"
     ]
    },
    {
     "name": "stdout",
     "output_type": "stream",
     "text": [
      "epoch 172: avg test  loss 897.10, bar  test loss 5.712, len  test loss 0.050, col  test loss 162.565\n"
     ]
    },
    {
     "name": "stderr",
     "output_type": "stream",
     "text": [
      "Epoch 173: 543batch [00:29, 18.55batch/s, loss=911]    \n"
     ]
    },
    {
     "name": "stdout",
     "output_type": "stream",
     "text": [
      "epoch 173: avg train loss 897.75, bar train loss 5.800, len train loss 0.058, col train loss 162.736\n"
     ]
    },
    {
     "name": "stderr",
     "output_type": "stream",
     "text": [
      "Epoch 174: 2batch [00:00, 18.52batch/s, loss=866]"
     ]
    },
    {
     "name": "stdout",
     "output_type": "stream",
     "text": [
      "epoch 173: avg test  loss 898.31, bar  test loss 5.803, len  test loss 0.056, col  test loss 162.515\n"
     ]
    },
    {
     "name": "stderr",
     "output_type": "stream",
     "text": [
      "Epoch 174: 543batch [00:29, 18.68batch/s, loss=860]\n"
     ]
    },
    {
     "name": "stdout",
     "output_type": "stream",
     "text": [
      "epoch 174: avg train loss 897.89, bar train loss 5.799, len train loss 0.057, col train loss 162.719\n"
     ]
    },
    {
     "name": "stderr",
     "output_type": "stream",
     "text": [
      "Epoch 175: 2batch [00:00, 18.87batch/s, loss=918]"
     ]
    },
    {
     "name": "stdout",
     "output_type": "stream",
     "text": [
      "epoch 174: avg test  loss 897.16, bar  test loss 5.885, len  test loss 0.048, col  test loss 162.798\n"
     ]
    },
    {
     "name": "stderr",
     "output_type": "stream",
     "text": [
      "Epoch 175: 543batch [00:29, 18.72batch/s, loss=906]\n"
     ]
    },
    {
     "name": "stdout",
     "output_type": "stream",
     "text": [
      "epoch 175: avg train loss 897.76, bar train loss 5.826, len train loss 0.055, col train loss 162.712\n",
      "epoch 175: avg test  loss 899.01, bar  test loss 5.887, len  test loss 0.055, col  test loss 162.463\n"
     ]
    },
    {
     "name": "stderr",
     "output_type": "stream",
     "text": [
      "Epoch 176: 543batch [00:29, 18.69batch/s, loss=928]\n"
     ]
    },
    {
     "name": "stdout",
     "output_type": "stream",
     "text": [
      "epoch 176: avg train loss 897.48, bar train loss 5.803, len train loss 0.055, col train loss 162.674\n"
     ]
    },
    {
     "name": "stderr",
     "output_type": "stream",
     "text": [
      "Epoch 177: 2batch [00:00, 18.87batch/s, loss=942]"
     ]
    },
    {
     "name": "stdout",
     "output_type": "stream",
     "text": [
      "epoch 176: avg test  loss 899.20, bar  test loss 5.892, len  test loss 0.054, col  test loss 163.252\n"
     ]
    },
    {
     "name": "stderr",
     "output_type": "stream",
     "text": [
      "Epoch 177: 543batch [00:29, 18.71batch/s, loss=929]\n"
     ]
    },
    {
     "name": "stdout",
     "output_type": "stream",
     "text": [
      "epoch 177: avg train loss 898.15, bar train loss 5.834, len train loss 0.057, col train loss 162.673\n"
     ]
    },
    {
     "name": "stderr",
     "output_type": "stream",
     "text": [
      "Epoch 178: 2batch [00:00, 18.18batch/s, loss=864]"
     ]
    },
    {
     "name": "stdout",
     "output_type": "stream",
     "text": [
      "epoch 177: avg test  loss 899.61, bar  test loss 5.890, len  test loss 0.077, col  test loss 162.656\n"
     ]
    },
    {
     "name": "stderr",
     "output_type": "stream",
     "text": [
      "Epoch 178: 543batch [00:29, 18.66batch/s, loss=881]    \n"
     ]
    },
    {
     "name": "stdout",
     "output_type": "stream",
     "text": [
      "epoch 178: avg train loss 898.15, bar train loss 5.838, len train loss 0.057, col train loss 162.706\n"
     ]
    },
    {
     "name": "stderr",
     "output_type": "stream",
     "text": [
      "Epoch 179: 2batch [00:00, 19.05batch/s, loss=910]"
     ]
    },
    {
     "name": "stdout",
     "output_type": "stream",
     "text": [
      "epoch 178: avg test  loss 898.66, bar  test loss 5.935, len  test loss 0.048, col  test loss 162.866\n"
     ]
    },
    {
     "name": "stderr",
     "output_type": "stream",
     "text": [
      "Epoch 179: 543batch [00:29, 18.67batch/s, loss=926]    \n"
     ]
    },
    {
     "name": "stdout",
     "output_type": "stream",
     "text": [
      "epoch 179: avg train loss 898.51, bar train loss 5.828, len train loss 0.059, col train loss 162.713\n"
     ]
    },
    {
     "name": "stderr",
     "output_type": "stream",
     "text": [
      "Epoch 180: 2batch [00:00, 18.87batch/s, loss=932]"
     ]
    },
    {
     "name": "stdout",
     "output_type": "stream",
     "text": [
      "epoch 179: avg test  loss 901.51, bar  test loss 5.931, len  test loss 0.079, col  test loss 162.746\n"
     ]
    },
    {
     "name": "stderr",
     "output_type": "stream",
     "text": [
      "Epoch 180: 543batch [00:29, 18.54batch/s, loss=839] \n"
     ]
    },
    {
     "name": "stdout",
     "output_type": "stream",
     "text": [
      "epoch 180: avg train loss 898.43, bar train loss 5.833, len train loss 0.059, col train loss 162.742\n",
      "epoch 180: avg test  loss 895.52, bar  test loss 5.678, len  test loss 0.049, col  test loss 162.753\n"
     ]
    },
    {
     "name": "stderr",
     "output_type": "stream",
     "text": [
      "Epoch 181: 543batch [00:29, 18.60batch/s, loss=961] \n"
     ]
    },
    {
     "name": "stdout",
     "output_type": "stream",
     "text": [
      "epoch 181: avg train loss 897.79, bar train loss 5.823, len train loss 0.056, col train loss 162.712\n"
     ]
    },
    {
     "name": "stderr",
     "output_type": "stream",
     "text": [
      "Epoch 182: 2batch [00:00, 17.39batch/s, loss=930]"
     ]
    },
    {
     "name": "stdout",
     "output_type": "stream",
     "text": [
      "epoch 181: avg test  loss 898.55, bar  test loss 5.759, len  test loss 0.051, col  test loss 162.896\n"
     ]
    },
    {
     "name": "stderr",
     "output_type": "stream",
     "text": [
      "Epoch 182: 543batch [00:29, 18.30batch/s, loss=882]\n"
     ]
    },
    {
     "name": "stdout",
     "output_type": "stream",
     "text": [
      "epoch 182: avg train loss 897.26, bar train loss 5.800, len train loss 0.054, col train loss 162.728\n"
     ]
    },
    {
     "name": "stderr",
     "output_type": "stream",
     "text": [
      "Epoch 183: 2batch [00:00, 18.52batch/s, loss=882]"
     ]
    },
    {
     "name": "stdout",
     "output_type": "stream",
     "text": [
      "epoch 182: avg test  loss 896.97, bar  test loss 5.775, len  test loss 0.048, col  test loss 162.941\n"
     ]
    },
    {
     "name": "stderr",
     "output_type": "stream",
     "text": [
      "Epoch 183: 543batch [00:29, 18.60batch/s, loss=901]\n"
     ]
    },
    {
     "name": "stdout",
     "output_type": "stream",
     "text": [
      "epoch 183: avg train loss 898.57, bar train loss 5.837, len train loss 0.057, col train loss 162.774\n"
     ]
    },
    {
     "name": "stderr",
     "output_type": "stream",
     "text": [
      "Epoch 184: 2batch [00:00, 18.69batch/s, loss=888]"
     ]
    },
    {
     "name": "stdout",
     "output_type": "stream",
     "text": [
      "epoch 183: avg test  loss 896.50, bar  test loss 5.682, len  test loss 0.060, col  test loss 162.707\n"
     ]
    },
    {
     "name": "stderr",
     "output_type": "stream",
     "text": [
      "Epoch 184: 543batch [00:29, 18.59batch/s, loss=915]\n"
     ]
    },
    {
     "name": "stdout",
     "output_type": "stream",
     "text": [
      "epoch 184: avg train loss 898.21, bar train loss 5.792, len train loss 0.057, col train loss 162.699\n"
     ]
    },
    {
     "name": "stderr",
     "output_type": "stream",
     "text": [
      "Epoch 185: 2batch [00:00, 18.69batch/s, loss=934]"
     ]
    },
    {
     "name": "stdout",
     "output_type": "stream",
     "text": [
      "epoch 184: avg test  loss 904.43, bar  test loss 5.900, len  test loss 0.115, col  test loss 162.609\n"
     ]
    },
    {
     "name": "stderr",
     "output_type": "stream",
     "text": [
      "Epoch 185: 543batch [00:29, 18.46batch/s, loss=878]\n"
     ]
    },
    {
     "name": "stdout",
     "output_type": "stream",
     "text": [
      "epoch 185: avg train loss 898.51, bar train loss 5.837, len train loss 0.057, col train loss 162.737\n",
      "epoch 185: avg test  loss 899.27, bar  test loss 5.907, len  test loss 0.059, col  test loss 162.688\n"
     ]
    },
    {
     "name": "stderr",
     "output_type": "stream",
     "text": [
      "Epoch 186: 543batch [00:29, 18.54batch/s, loss=890]   \n"
     ]
    },
    {
     "name": "stdout",
     "output_type": "stream",
     "text": [
      "epoch 186: avg train loss 898.37, bar train loss 5.818, len train loss 0.056, col train loss 162.786\n"
     ]
    },
    {
     "name": "stderr",
     "output_type": "stream",
     "text": [
      "Epoch 187: 2batch [00:00, 18.52batch/s, loss=884]"
     ]
    },
    {
     "name": "stdout",
     "output_type": "stream",
     "text": [
      "epoch 186: avg test  loss 900.90, bar  test loss 5.761, len  test loss 0.078, col  test loss 162.856\n"
     ]
    },
    {
     "name": "stderr",
     "output_type": "stream",
     "text": [
      "Epoch 187: 543batch [00:29, 18.50batch/s, loss=891]    \n"
     ]
    },
    {
     "name": "stdout",
     "output_type": "stream",
     "text": [
      "epoch 187: avg train loss 897.95, bar train loss 5.820, len train loss 0.056, col train loss 162.713\n"
     ]
    },
    {
     "name": "stderr",
     "output_type": "stream",
     "text": [
      "Epoch 188: 2batch [00:00, 19.23batch/s, loss=900]"
     ]
    },
    {
     "name": "stdout",
     "output_type": "stream",
     "text": [
      "epoch 187: avg test  loss 897.61, bar  test loss 5.781, len  test loss 0.056, col  test loss 162.954\n"
     ]
    },
    {
     "name": "stderr",
     "output_type": "stream",
     "text": [
      "Epoch 188: 543batch [00:29, 18.57batch/s, loss=955]    \n"
     ]
    },
    {
     "name": "stdout",
     "output_type": "stream",
     "text": [
      "epoch 188: avg train loss 898.38, bar train loss 5.798, len train loss 0.057, col train loss 162.731\n"
     ]
    },
    {
     "name": "stderr",
     "output_type": "stream",
     "text": [
      "Epoch 189: 2batch [00:00, 18.18batch/s, loss=969]"
     ]
    },
    {
     "name": "stdout",
     "output_type": "stream",
     "text": [
      "epoch 188: avg test  loss 903.36, bar  test loss 5.884, len  test loss 0.082, col  test loss 162.659\n"
     ]
    },
    {
     "name": "stderr",
     "output_type": "stream",
     "text": [
      "Epoch 189: 543batch [00:29, 18.59batch/s, loss=867]    \n"
     ]
    },
    {
     "name": "stdout",
     "output_type": "stream",
     "text": [
      "epoch 189: avg train loss 898.31, bar train loss 5.836, len train loss 0.057, col train loss 162.786\n"
     ]
    },
    {
     "name": "stderr",
     "output_type": "stream",
     "text": [
      "Epoch 190: 2batch [00:00, 18.87batch/s, loss=968]"
     ]
    },
    {
     "name": "stdout",
     "output_type": "stream",
     "text": [
      "epoch 189: avg test  loss 896.88, bar  test loss 5.888, len  test loss 0.045, col  test loss 162.760\n"
     ]
    },
    {
     "name": "stderr",
     "output_type": "stream",
     "text": [
      "Epoch 190: 543batch [00:29, 18.56batch/s, loss=936]    \n"
     ]
    },
    {
     "name": "stdout",
     "output_type": "stream",
     "text": [
      "epoch 190: avg train loss 897.79, bar train loss 5.817, len train loss 0.053, col train loss 162.743\n",
      "epoch 190: avg test  loss 896.01, bar  test loss 5.794, len  test loss 0.046, col  test loss 162.832\n"
     ]
    },
    {
     "name": "stderr",
     "output_type": "stream",
     "text": [
      "Epoch 191: 543batch [00:29, 18.62batch/s, loss=927]\n"
     ]
    },
    {
     "name": "stdout",
     "output_type": "stream",
     "text": [
      "epoch 191: avg train loss 897.55, bar train loss 5.786, len train loss 0.055, col train loss 162.681\n"
     ]
    },
    {
     "name": "stderr",
     "output_type": "stream",
     "text": [
      "Epoch 192: 2batch [00:00, 18.87batch/s, loss=928]"
     ]
    },
    {
     "name": "stdout",
     "output_type": "stream",
     "text": [
      "epoch 191: avg test  loss 897.86, bar  test loss 5.770, len  test loss 0.059, col  test loss 162.598\n"
     ]
    },
    {
     "name": "stderr",
     "output_type": "stream",
     "text": [
      "Epoch 192: 543batch [00:29, 18.70batch/s, loss=922]    \n"
     ]
    },
    {
     "name": "stdout",
     "output_type": "stream",
     "text": [
      "epoch 192: avg train loss 898.20, bar train loss 5.812, len train loss 0.056, col train loss 162.755\n"
     ]
    },
    {
     "name": "stderr",
     "output_type": "stream",
     "text": [
      "Epoch 193: 2batch [00:00, 19.05batch/s, loss=889]"
     ]
    },
    {
     "name": "stdout",
     "output_type": "stream",
     "text": [
      "epoch 192: avg test  loss 895.15, bar  test loss 5.717, len  test loss 0.048, col  test loss 162.841\n"
     ]
    },
    {
     "name": "stderr",
     "output_type": "stream",
     "text": [
      "Epoch 193: 543batch [00:29, 18.65batch/s, loss=929]\n"
     ]
    },
    {
     "name": "stdout",
     "output_type": "stream",
     "text": [
      "epoch 193: avg train loss 897.73, bar train loss 5.801, len train loss 0.055, col train loss 162.694\n"
     ]
    },
    {
     "name": "stderr",
     "output_type": "stream",
     "text": [
      "Epoch 194: 2batch [00:00, 18.69batch/s, loss=900]"
     ]
    },
    {
     "name": "stdout",
     "output_type": "stream",
     "text": [
      "epoch 193: avg test  loss 897.36, bar  test loss 5.817, len  test loss 0.050, col  test loss 162.570\n"
     ]
    },
    {
     "name": "stderr",
     "output_type": "stream",
     "text": [
      "Epoch 194: 543batch [00:29, 18.62batch/s, loss=963]    \n"
     ]
    },
    {
     "name": "stdout",
     "output_type": "stream",
     "text": [
      "epoch 194: avg train loss 897.59, bar train loss 5.811, len train loss 0.055, col train loss 162.736\n"
     ]
    },
    {
     "name": "stderr",
     "output_type": "stream",
     "text": [
      "Epoch 195: 2batch [00:00, 18.69batch/s, loss=890]"
     ]
    },
    {
     "name": "stdout",
     "output_type": "stream",
     "text": [
      "epoch 194: avg test  loss 895.65, bar  test loss 5.752, len  test loss 0.047, col  test loss 162.884\n"
     ]
    },
    {
     "name": "stderr",
     "output_type": "stream",
     "text": [
      "Epoch 195: 543batch [00:29, 18.60batch/s, loss=881]\n"
     ]
    },
    {
     "name": "stdout",
     "output_type": "stream",
     "text": [
      "epoch 195: avg train loss 897.19, bar train loss 5.798, len train loss 0.052, col train loss 162.745\n",
      "epoch 195: avg test  loss 895.84, bar  test loss 5.747, len  test loss 0.052, col  test loss 162.718\n"
     ]
    },
    {
     "name": "stderr",
     "output_type": "stream",
     "text": [
      "Epoch 196: 543batch [00:29, 18.57batch/s, loss=916]   \n"
     ]
    },
    {
     "name": "stdout",
     "output_type": "stream",
     "text": [
      "epoch 196: avg train loss 897.95, bar train loss 5.797, len train loss 0.055, col train loss 162.731\n"
     ]
    },
    {
     "name": "stderr",
     "output_type": "stream",
     "text": [
      "Epoch 197: 2batch [00:00, 18.52batch/s, loss=950]"
     ]
    },
    {
     "name": "stdout",
     "output_type": "stream",
     "text": [
      "epoch 196: avg test  loss 901.62, bar  test loss 5.814, len  test loss 0.053, col  test loss 162.979\n"
     ]
    },
    {
     "name": "stderr",
     "output_type": "stream",
     "text": [
      "Epoch 197: 543batch [00:29, 18.56batch/s, loss=868]    \n"
     ]
    },
    {
     "name": "stdout",
     "output_type": "stream",
     "text": [
      "epoch 197: avg train loss 897.71, bar train loss 5.791, len train loss 0.056, col train loss 162.719\n"
     ]
    },
    {
     "name": "stderr",
     "output_type": "stream",
     "text": [
      "Epoch 198: 2batch [00:00, 18.87batch/s, loss=827]"
     ]
    },
    {
     "name": "stdout",
     "output_type": "stream",
     "text": [
      "epoch 197: avg test  loss 897.35, bar  test loss 5.704, len  test loss 0.047, col  test loss 162.570\n"
     ]
    },
    {
     "name": "stderr",
     "output_type": "stream",
     "text": [
      "Epoch 198: 543batch [00:29, 18.52batch/s, loss=965]\n"
     ]
    },
    {
     "name": "stdout",
     "output_type": "stream",
     "text": [
      "epoch 198: avg train loss 897.53, bar train loss 5.804, len train loss 0.054, col train loss 162.688\n"
     ]
    },
    {
     "name": "stderr",
     "output_type": "stream",
     "text": [
      "Epoch 199: 2batch [00:00, 19.05batch/s, loss=841]"
     ]
    },
    {
     "name": "stdout",
     "output_type": "stream",
     "text": [
      "epoch 198: avg test  loss 895.89, bar  test loss 5.770, len  test loss 0.046, col  test loss 162.602\n"
     ]
    },
    {
     "name": "stderr",
     "output_type": "stream",
     "text": [
      "Epoch 199: 543batch [00:30, 18.09batch/s, loss=819] \n"
     ]
    },
    {
     "name": "stdout",
     "output_type": "stream",
     "text": [
      "epoch 199: avg train loss 897.36, bar train loss 5.791, len train loss 0.053, col train loss 162.716\n"
     ]
    },
    {
     "name": "stderr",
     "output_type": "stream",
     "text": [
      "Epoch 200: 2batch [00:00, 17.86batch/s, loss=858]"
     ]
    },
    {
     "name": "stdout",
     "output_type": "stream",
     "text": [
      "epoch 199: avg test  loss 899.16, bar  test loss 5.817, len  test loss 0.070, col  test loss 162.613\n"
     ]
    },
    {
     "name": "stderr",
     "output_type": "stream",
     "text": [
      "Epoch 200: 543batch [00:29, 18.32batch/s, loss=963]    \n"
     ]
    },
    {
     "name": "stdout",
     "output_type": "stream",
     "text": [
      "epoch 200: avg train loss 898.30, bar train loss 5.804, len train loss 0.060, col train loss 162.744\n",
      "epoch 200: avg test  loss 896.41, bar  test loss 5.753, len  test loss 0.049, col  test loss 162.662\n"
     ]
    },
    {
     "name": "stderr",
     "output_type": "stream",
     "text": [
      "Epoch 201: 543batch [00:29, 18.43batch/s, loss=887]    \n"
     ]
    },
    {
     "name": "stdout",
     "output_type": "stream",
     "text": [
      "epoch 201: avg train loss 897.29, bar train loss 5.801, len train loss 0.052, col train loss 162.720\n"
     ]
    },
    {
     "name": "stderr",
     "output_type": "stream",
     "text": [
      "Epoch 202: 2batch [00:00, 19.05batch/s, loss=843]"
     ]
    },
    {
     "name": "stdout",
     "output_type": "stream",
     "text": [
      "epoch 201: avg test  loss 899.19, bar  test loss 5.650, len  test loss 0.085, col  test loss 162.490\n"
     ]
    },
    {
     "name": "stderr",
     "output_type": "stream",
     "text": [
      "Epoch 202: 543batch [00:29, 18.54batch/s, loss=893]\n"
     ]
    },
    {
     "name": "stdout",
     "output_type": "stream",
     "text": [
      "epoch 202: avg train loss 898.23, bar train loss 5.794, len train loss 0.058, col train loss 162.726\n"
     ]
    },
    {
     "name": "stderr",
     "output_type": "stream",
     "text": [
      "Epoch 203: 2batch [00:00, 18.87batch/s, loss=911]"
     ]
    },
    {
     "name": "stdout",
     "output_type": "stream",
     "text": [
      "epoch 202: avg test  loss 900.30, bar  test loss 6.019, len  test loss 0.049, col  test loss 162.589\n"
     ]
    },
    {
     "name": "stderr",
     "output_type": "stream",
     "text": [
      "Epoch 203: 543batch [00:29, 18.53batch/s, loss=873]\n"
     ]
    },
    {
     "name": "stdout",
     "output_type": "stream",
     "text": [
      "epoch 203: avg train loss 898.10, bar train loss 5.804, len train loss 0.057, col train loss 162.704\n"
     ]
    },
    {
     "name": "stderr",
     "output_type": "stream",
     "text": [
      "Epoch 204: 2batch [00:00, 18.69batch/s, loss=957]"
     ]
    },
    {
     "name": "stdout",
     "output_type": "stream",
     "text": [
      "epoch 203: avg test  loss 902.63, bar  test loss 5.790, len  test loss 0.051, col  test loss 162.762\n"
     ]
    },
    {
     "name": "stderr",
     "output_type": "stream",
     "text": [
      "Epoch 204: 543batch [00:29, 18.50batch/s, loss=835]    \n"
     ]
    },
    {
     "name": "stdout",
     "output_type": "stream",
     "text": [
      "epoch 204: avg train loss 897.46, bar train loss 5.795, len train loss 0.054, col train loss 162.687\n"
     ]
    },
    {
     "name": "stderr",
     "output_type": "stream",
     "text": [
      "Epoch 205: 2batch [00:00, 18.35batch/s, loss=900]"
     ]
    },
    {
     "name": "stdout",
     "output_type": "stream",
     "text": [
      "epoch 204: avg test  loss 896.12, bar  test loss 5.858, len  test loss 0.048, col  test loss 162.989\n"
     ]
    },
    {
     "name": "stderr",
     "output_type": "stream",
     "text": [
      "Epoch 205: 543batch [00:29, 18.49batch/s, loss=994]    \n"
     ]
    },
    {
     "name": "stdout",
     "output_type": "stream",
     "text": [
      "epoch 205: avg train loss 896.84, bar train loss 5.789, len train loss 0.052, col train loss 162.687\n",
      "epoch 205: avg test  loss 899.39, bar  test loss 5.792, len  test loss 0.070, col  test loss 162.778\n"
     ]
    },
    {
     "name": "stderr",
     "output_type": "stream",
     "text": [
      "Epoch 206: 543batch [00:29, 18.24batch/s, loss=853]\n"
     ]
    },
    {
     "name": "stdout",
     "output_type": "stream",
     "text": [
      "epoch 206: avg train loss 896.85, bar train loss 5.780, len train loss 0.051, col train loss 162.697\n"
     ]
    },
    {
     "name": "stderr",
     "output_type": "stream",
     "text": [
      "Epoch 207: 2batch [00:00, 18.02batch/s, loss=900]"
     ]
    },
    {
     "name": "stdout",
     "output_type": "stream",
     "text": [
      "epoch 206: avg test  loss 898.87, bar  test loss 6.038, len  test loss 0.058, col  test loss 162.668\n"
     ]
    },
    {
     "name": "stderr",
     "output_type": "stream",
     "text": [
      "Epoch 207: 543batch [00:29, 18.49batch/s, loss=873]    \n"
     ]
    },
    {
     "name": "stdout",
     "output_type": "stream",
     "text": [
      "epoch 207: avg train loss 896.39, bar train loss 5.775, len train loss 0.050, col train loss 162.724\n"
     ]
    },
    {
     "name": "stderr",
     "output_type": "stream",
     "text": [
      "Epoch 208: 2batch [00:00, 18.35batch/s, loss=848]"
     ]
    },
    {
     "name": "stdout",
     "output_type": "stream",
     "text": [
      "epoch 207: avg test  loss 895.50, bar  test loss 5.746, len  test loss 0.048, col  test loss 162.816\n"
     ]
    },
    {
     "name": "stderr",
     "output_type": "stream",
     "text": [
      "Epoch 208: 543batch [00:29, 18.48batch/s, loss=867]\n"
     ]
    },
    {
     "name": "stdout",
     "output_type": "stream",
     "text": [
      "epoch 208: avg train loss 897.41, bar train loss 5.829, len train loss 0.051, col train loss 162.780\n"
     ]
    },
    {
     "name": "stderr",
     "output_type": "stream",
     "text": [
      "Epoch 209: 2batch [00:00, 18.52batch/s, loss=893]"
     ]
    },
    {
     "name": "stdout",
     "output_type": "stream",
     "text": [
      "epoch 208: avg test  loss 898.21, bar  test loss 5.796, len  test loss 0.063, col  test loss 162.958\n"
     ]
    },
    {
     "name": "stderr",
     "output_type": "stream",
     "text": [
      "Epoch 209: 543batch [00:29, 18.45batch/s, loss=854] \n"
     ]
    },
    {
     "name": "stdout",
     "output_type": "stream",
     "text": [
      "epoch 209: avg train loss 897.31, bar train loss 5.799, len train loss 0.052, col train loss 162.720\n"
     ]
    },
    {
     "name": "stderr",
     "output_type": "stream",
     "text": [
      "Epoch 210: 2batch [00:00, 18.69batch/s, loss=904]"
     ]
    },
    {
     "name": "stdout",
     "output_type": "stream",
     "text": [
      "epoch 209: avg test  loss 899.10, bar  test loss 5.794, len  test loss 0.052, col  test loss 163.052\n"
     ]
    },
    {
     "name": "stderr",
     "output_type": "stream",
     "text": [
      "Epoch 210: 543batch [00:29, 18.44batch/s, loss=956]\n"
     ]
    },
    {
     "name": "stdout",
     "output_type": "stream",
     "text": [
      "epoch 210: avg train loss 897.16, bar train loss 5.817, len train loss 0.051, col train loss 162.739\n",
      "epoch 210: avg test  loss 896.19, bar  test loss 5.743, len  test loss 0.046, col  test loss 162.618\n"
     ]
    },
    {
     "name": "stderr",
     "output_type": "stream",
     "text": [
      "Epoch 211: 543batch [00:29, 18.41batch/s, loss=925]\n"
     ]
    },
    {
     "name": "stdout",
     "output_type": "stream",
     "text": [
      "epoch 211: avg train loss 896.77, bar train loss 5.808, len train loss 0.050, col train loss 162.723\n"
     ]
    },
    {
     "name": "stderr",
     "output_type": "stream",
     "text": [
      "Epoch 212: 2batch [00:00, 18.87batch/s, loss=963]"
     ]
    },
    {
     "name": "stdout",
     "output_type": "stream",
     "text": [
      "epoch 211: avg test  loss 900.55, bar  test loss 5.803, len  test loss 0.059, col  test loss 162.772\n"
     ]
    },
    {
     "name": "stderr",
     "output_type": "stream",
     "text": [
      "Epoch 212: 543batch [00:29, 18.44batch/s, loss=934]    \n"
     ]
    },
    {
     "name": "stdout",
     "output_type": "stream",
     "text": [
      "epoch 212: avg train loss 897.04, bar train loss 5.803, len train loss 0.049, col train loss 162.756\n"
     ]
    },
    {
     "name": "stderr",
     "output_type": "stream",
     "text": [
      "Epoch 213: 2batch [00:00, 13.16batch/s, loss=965]"
     ]
    },
    {
     "name": "stdout",
     "output_type": "stream",
     "text": [
      "epoch 212: avg test  loss 898.49, bar  test loss 5.663, len  test loss 0.049, col  test loss 162.862\n"
     ]
    },
    {
     "name": "stderr",
     "output_type": "stream",
     "text": [
      "Epoch 213: 543batch [00:29, 18.42batch/s, loss=880]\n"
     ]
    },
    {
     "name": "stdout",
     "output_type": "stream",
     "text": [
      "epoch 213: avg train loss 896.99, bar train loss 5.796, len train loss 0.049, col train loss 162.761\n"
     ]
    },
    {
     "name": "stderr",
     "output_type": "stream",
     "text": [
      "Epoch 214: 2batch [00:00, 18.52batch/s, loss=914]"
     ]
    },
    {
     "name": "stdout",
     "output_type": "stream",
     "text": [
      "epoch 213: avg test  loss 898.91, bar  test loss 5.903, len  test loss 0.066, col  test loss 162.676\n"
     ]
    },
    {
     "name": "stderr",
     "output_type": "stream",
     "text": [
      "Epoch 214: 543batch [00:29, 18.42batch/s, loss=801]\n"
     ]
    },
    {
     "name": "stdout",
     "output_type": "stream",
     "text": [
      "epoch 214: avg train loss 896.75, bar train loss 5.807, len train loss 0.049, col train loss 162.761\n"
     ]
    },
    {
     "name": "stderr",
     "output_type": "stream",
     "text": [
      "Epoch 215: 2batch [00:00, 19.05batch/s, loss=927]"
     ]
    },
    {
     "name": "stdout",
     "output_type": "stream",
     "text": [
      "epoch 214: avg test  loss 897.45, bar  test loss 5.923, len  test loss 0.053, col  test loss 162.548\n"
     ]
    },
    {
     "name": "stderr",
     "output_type": "stream",
     "text": [
      "Epoch 215: 543batch [00:29, 18.38batch/s, loss=917]    \n"
     ]
    },
    {
     "name": "stdout",
     "output_type": "stream",
     "text": [
      "epoch 215: avg train loss 897.01, bar train loss 5.796, len train loss 0.052, col train loss 162.745\n",
      "epoch 215: avg test  loss 907.54, bar  test loss 6.203, len  test loss 0.070, col  test loss 163.323\n"
     ]
    },
    {
     "name": "stderr",
     "output_type": "stream",
     "text": [
      "Epoch 216: 543batch [00:29, 18.38batch/s, loss=846]   \n"
     ]
    },
    {
     "name": "stdout",
     "output_type": "stream",
     "text": [
      "epoch 216: avg train loss 898.37, bar train loss 5.836, len train loss 0.057, col train loss 162.747\n"
     ]
    },
    {
     "name": "stderr",
     "output_type": "stream",
     "text": [
      "Epoch 217: 2batch [00:00, 18.52batch/s, loss=814]"
     ]
    },
    {
     "name": "stdout",
     "output_type": "stream",
     "text": [
      "epoch 216: avg test  loss 898.47, bar  test loss 5.909, len  test loss 0.046, col  test loss 163.111\n"
     ]
    },
    {
     "name": "stderr",
     "output_type": "stream",
     "text": [
      "Epoch 217: 543batch [00:29, 18.35batch/s, loss=904]   \n"
     ]
    },
    {
     "name": "stdout",
     "output_type": "stream",
     "text": [
      "epoch 217: avg train loss 897.55, bar train loss 5.807, len train loss 0.051, col train loss 162.756\n"
     ]
    },
    {
     "name": "stderr",
     "output_type": "stream",
     "text": [
      "Epoch 218: 2batch [00:00, 18.52batch/s, loss=900]"
     ]
    },
    {
     "name": "stdout",
     "output_type": "stream",
     "text": [
      "epoch 217: avg test  loss 895.12, bar  test loss 5.683, len  test loss 0.045, col  test loss 162.701\n"
     ]
    },
    {
     "name": "stderr",
     "output_type": "stream",
     "text": [
      "Epoch 218: 543batch [00:29, 18.36batch/s, loss=951]\n"
     ]
    },
    {
     "name": "stdout",
     "output_type": "stream",
     "text": [
      "epoch 218: avg train loss 896.73, bar train loss 5.825, len train loss 0.048, col train loss 162.783\n"
     ]
    },
    {
     "name": "stderr",
     "output_type": "stream",
     "text": [
      "Epoch 219: 2batch [00:00, 18.69batch/s, loss=888]"
     ]
    },
    {
     "name": "stdout",
     "output_type": "stream",
     "text": [
      "epoch 218: avg test  loss 898.78, bar  test loss 5.833, len  test loss 0.057, col  test loss 163.107\n"
     ]
    },
    {
     "name": "stderr",
     "output_type": "stream",
     "text": [
      "Epoch 219: 543batch [00:29, 18.34batch/s, loss=900]\n"
     ]
    },
    {
     "name": "stdout",
     "output_type": "stream",
     "text": [
      "epoch 219: avg train loss 896.74, bar train loss 5.804, len train loss 0.049, col train loss 162.775\n"
     ]
    },
    {
     "name": "stderr",
     "output_type": "stream",
     "text": [
      "Epoch 220: 2batch [00:00, 18.69batch/s, loss=901]"
     ]
    },
    {
     "name": "stdout",
     "output_type": "stream",
     "text": [
      "epoch 219: avg test  loss 899.29, bar  test loss 6.000, len  test loss 0.046, col  test loss 162.535\n"
     ]
    },
    {
     "name": "stderr",
     "output_type": "stream",
     "text": [
      "Epoch 220: 543batch [00:29, 18.34batch/s, loss=878]\n"
     ]
    },
    {
     "name": "stdout",
     "output_type": "stream",
     "text": [
      "epoch 220: avg train loss 897.83, bar train loss 5.797, len train loss 0.053, col train loss 162.698\n",
      "epoch 220: avg test  loss 899.44, bar  test loss 5.776, len  test loss 0.060, col  test loss 162.756\n"
     ]
    },
    {
     "name": "stderr",
     "output_type": "stream",
     "text": [
      "Epoch 221: 543batch [00:29, 18.20batch/s, loss=893]    \n"
     ]
    },
    {
     "name": "stdout",
     "output_type": "stream",
     "text": [
      "epoch 221: avg train loss 896.45, bar train loss 5.795, len train loss 0.049, col train loss 162.720\n"
     ]
    },
    {
     "name": "stderr",
     "output_type": "stream",
     "text": [
      "Epoch 222: 2batch [00:00, 18.35batch/s, loss=939]"
     ]
    },
    {
     "name": "stdout",
     "output_type": "stream",
     "text": [
      "epoch 221: avg test  loss 896.04, bar  test loss 5.770, len  test loss 0.053, col  test loss 162.632\n"
     ]
    },
    {
     "name": "stderr",
     "output_type": "stream",
     "text": [
      "Epoch 222: 543batch [00:29, 18.32batch/s, loss=895]\n"
     ]
    },
    {
     "name": "stdout",
     "output_type": "stream",
     "text": [
      "epoch 222: avg train loss 896.06, bar train loss 5.764, len train loss 0.048, col train loss 162.698\n"
     ]
    },
    {
     "name": "stderr",
     "output_type": "stream",
     "text": [
      "Epoch 223: 2batch [00:00, 18.52batch/s, loss=850]"
     ]
    },
    {
     "name": "stdout",
     "output_type": "stream",
     "text": [
      "epoch 222: avg test  loss 894.77, bar  test loss 5.784, len  test loss 0.043, col  test loss 162.782\n"
     ]
    },
    {
     "name": "stderr",
     "output_type": "stream",
     "text": [
      "Epoch 223: 543batch [00:29, 18.29batch/s, loss=897]    \n"
     ]
    },
    {
     "name": "stdout",
     "output_type": "stream",
     "text": [
      "epoch 223: avg train loss 897.05, bar train loss 5.794, len train loss 0.052, col train loss 162.742\n"
     ]
    },
    {
     "name": "stderr",
     "output_type": "stream",
     "text": [
      "Epoch 224: 2batch [00:00, 18.69batch/s, loss=931]"
     ]
    },
    {
     "name": "stdout",
     "output_type": "stream",
     "text": [
      "epoch 223: avg test  loss 896.94, bar  test loss 5.763, len  test loss 0.048, col  test loss 162.582\n"
     ]
    },
    {
     "name": "stderr",
     "output_type": "stream",
     "text": [
      "Epoch 224: 543batch [00:29, 18.31batch/s, loss=964]\n"
     ]
    },
    {
     "name": "stdout",
     "output_type": "stream",
     "text": [
      "epoch 224: avg train loss 897.43, bar train loss 5.790, len train loss 0.054, col train loss 162.720\n"
     ]
    },
    {
     "name": "stderr",
     "output_type": "stream",
     "text": [
      "Epoch 225: 2batch [00:00, 18.69batch/s, loss=938]"
     ]
    },
    {
     "name": "stdout",
     "output_type": "stream",
     "text": [
      "epoch 224: avg test  loss 909.03, bar  test loss 5.943, len  test loss 0.095, col  test loss 162.971\n"
     ]
    },
    {
     "name": "stderr",
     "output_type": "stream",
     "text": [
      "Epoch 225: 543batch [00:29, 18.27batch/s, loss=916]    \n"
     ]
    },
    {
     "name": "stdout",
     "output_type": "stream",
     "text": [
      "epoch 225: avg train loss 901.41, bar train loss 5.796, len train loss 0.072, col train loss 162.709\n",
      "epoch 225: avg test  loss 898.06, bar  test loss 5.888, len  test loss 0.044, col  test loss 162.929\n"
     ]
    },
    {
     "name": "stderr",
     "output_type": "stream",
     "text": [
      "Epoch 226: 543batch [00:29, 18.12batch/s, loss=920]\n"
     ]
    },
    {
     "name": "stdout",
     "output_type": "stream",
     "text": [
      "epoch 226: avg train loss 896.70, bar train loss 5.796, len train loss 0.051, col train loss 162.686\n"
     ]
    },
    {
     "name": "stderr",
     "output_type": "stream",
     "text": [
      "Epoch 227: 2batch [00:00, 18.18batch/s, loss=941]"
     ]
    },
    {
     "name": "stdout",
     "output_type": "stream",
     "text": [
      "epoch 226: avg test  loss 894.21, bar  test loss 5.685, len  test loss 0.048, col  test loss 162.582\n"
     ]
    },
    {
     "name": "stderr",
     "output_type": "stream",
     "text": [
      "Epoch 227: 543batch [00:29, 18.24batch/s, loss=837]    \n"
     ]
    },
    {
     "name": "stdout",
     "output_type": "stream",
     "text": [
      "epoch 227: avg train loss 896.07, bar train loss 5.797, len train loss 0.049, col train loss 162.651\n"
     ]
    },
    {
     "name": "stderr",
     "output_type": "stream",
     "text": [
      "Epoch 228: 2batch [00:00, 17.86batch/s, loss=952]"
     ]
    },
    {
     "name": "stdout",
     "output_type": "stream",
     "text": [
      "epoch 227: avg test  loss 899.35, bar  test loss 5.908, len  test loss 0.053, col  test loss 162.739\n"
     ]
    },
    {
     "name": "stderr",
     "output_type": "stream",
     "text": [
      "Epoch 228: 543batch [00:29, 18.26batch/s, loss=959]    \n"
     ]
    },
    {
     "name": "stdout",
     "output_type": "stream",
     "text": [
      "epoch 228: avg train loss 895.95, bar train loss 5.789, len train loss 0.049, col train loss 162.638\n"
     ]
    },
    {
     "name": "stderr",
     "output_type": "stream",
     "text": [
      "Epoch 229: 2batch [00:00, 18.69batch/s, loss=850]"
     ]
    },
    {
     "name": "stdout",
     "output_type": "stream",
     "text": [
      "epoch 228: avg test  loss 896.36, bar  test loss 5.744, len  test loss 0.049, col  test loss 162.498\n"
     ]
    },
    {
     "name": "stderr",
     "output_type": "stream",
     "text": [
      "Epoch 229: 543batch [00:29, 18.26batch/s, loss=845]    \n"
     ]
    },
    {
     "name": "stdout",
     "output_type": "stream",
     "text": [
      "epoch 229: avg train loss 895.76, bar train loss 5.777, len train loss 0.048, col train loss 162.616\n"
     ]
    },
    {
     "name": "stderr",
     "output_type": "stream",
     "text": [
      "Epoch 230: 2batch [00:00, 18.69batch/s, loss=899]"
     ]
    },
    {
     "name": "stdout",
     "output_type": "stream",
     "text": [
      "epoch 229: avg test  loss 896.94, bar  test loss 5.782, len  test loss 0.060, col  test loss 162.590\n"
     ]
    },
    {
     "name": "stderr",
     "output_type": "stream",
     "text": [
      "Epoch 230: 543batch [00:29, 18.25batch/s, loss=874]    \n"
     ]
    },
    {
     "name": "stdout",
     "output_type": "stream",
     "text": [
      "epoch 230: avg train loss 902.80, bar train loss 5.795, len train loss 0.083, col train loss 162.671\n",
      "epoch 230: avg test  loss 895.84, bar  test loss 5.779, len  test loss 0.042, col  test loss 162.520\n"
     ]
    },
    {
     "name": "stderr",
     "output_type": "stream",
     "text": [
      "Epoch 231: 543batch [00:30, 17.92batch/s, loss=867]    \n"
     ]
    },
    {
     "name": "stdout",
     "output_type": "stream",
     "text": [
      "epoch 231: avg train loss 895.80, bar train loss 5.787, len train loss 0.048, col train loss 162.613\n"
     ]
    },
    {
     "name": "stderr",
     "output_type": "stream",
     "text": [
      "Epoch 232: 2batch [00:00, 18.02batch/s, loss=904]"
     ]
    },
    {
     "name": "stdout",
     "output_type": "stream",
     "text": [
      "epoch 231: avg test  loss 895.45, bar  test loss 5.727, len  test loss 0.046, col  test loss 162.687\n"
     ]
    },
    {
     "name": "stderr",
     "output_type": "stream",
     "text": [
      "Epoch 232: 543batch [00:29, 18.20batch/s, loss=941]\n"
     ]
    },
    {
     "name": "stdout",
     "output_type": "stream",
     "text": [
      "epoch 232: avg train loss 896.31, bar train loss 5.801, len train loss 0.049, col train loss 162.605\n"
     ]
    },
    {
     "name": "stderr",
     "output_type": "stream",
     "text": [
      "Epoch 233: 2batch [00:00, 18.69batch/s, loss=858]"
     ]
    },
    {
     "name": "stdout",
     "output_type": "stream",
     "text": [
      "epoch 232: avg test  loss 896.44, bar  test loss 5.679, len  test loss 0.046, col  test loss 162.618\n"
     ]
    },
    {
     "name": "stderr",
     "output_type": "stream",
     "text": [
      "Epoch 233: 543batch [00:29, 18.25batch/s, loss=999] \n"
     ]
    },
    {
     "name": "stdout",
     "output_type": "stream",
     "text": [
      "epoch 233: avg train loss 895.49, bar train loss 5.772, len train loss 0.048, col train loss 162.568\n"
     ]
    },
    {
     "name": "stderr",
     "output_type": "stream",
     "text": [
      "Epoch 234: 2batch [00:00, 18.35batch/s, loss=849]"
     ]
    },
    {
     "name": "stdout",
     "output_type": "stream",
     "text": [
      "epoch 233: avg test  loss 894.15, bar  test loss 5.742, len  test loss 0.045, col  test loss 162.613\n"
     ]
    },
    {
     "name": "stderr",
     "output_type": "stream",
     "text": [
      "Epoch 234: 543batch [00:29, 18.22batch/s, loss=928]   \n"
     ]
    },
    {
     "name": "stdout",
     "output_type": "stream",
     "text": [
      "epoch 234: avg train loss 895.58, bar train loss 5.765, len train loss 0.049, col train loss 162.588\n"
     ]
    },
    {
     "name": "stderr",
     "output_type": "stream",
     "text": [
      "Epoch 235: 2batch [00:00, 18.02batch/s, loss=873]"
     ]
    },
    {
     "name": "stdout",
     "output_type": "stream",
     "text": [
      "epoch 234: avg test  loss 895.11, bar  test loss 5.667, len  test loss 0.042, col  test loss 162.452\n"
     ]
    },
    {
     "name": "stderr",
     "output_type": "stream",
     "text": [
      "Epoch 235: 543batch [00:30, 18.08batch/s, loss=868]  \n"
     ]
    },
    {
     "name": "stdout",
     "output_type": "stream",
     "text": [
      "epoch 235: avg train loss 896.01, bar train loss 5.795, len train loss 0.051, col train loss 162.577\n",
      "epoch 235: avg test  loss 896.80, bar  test loss 5.828, len  test loss 0.045, col  test loss 162.511\n"
     ]
    },
    {
     "name": "stderr",
     "output_type": "stream",
     "text": [
      "Epoch 236: 543batch [00:29, 18.21batch/s, loss=867]    \n"
     ]
    },
    {
     "name": "stdout",
     "output_type": "stream",
     "text": [
      "epoch 236: avg train loss 895.42, bar train loss 5.763, len train loss 0.049, col train loss 162.556\n"
     ]
    },
    {
     "name": "stderr",
     "output_type": "stream",
     "text": [
      "Epoch 237: 2batch [00:00, 18.69batch/s, loss=892]"
     ]
    },
    {
     "name": "stdout",
     "output_type": "stream",
     "text": [
      "epoch 236: avg test  loss 895.87, bar  test loss 5.799, len  test loss 0.042, col  test loss 162.657\n"
     ]
    },
    {
     "name": "stderr",
     "output_type": "stream",
     "text": [
      "Epoch 237: 543batch [00:29, 18.26batch/s, loss=926]    \n"
     ]
    },
    {
     "name": "stdout",
     "output_type": "stream",
     "text": [
      "epoch 237: avg train loss 895.12, bar train loss 5.762, len train loss 0.047, col train loss 162.553\n"
     ]
    },
    {
     "name": "stderr",
     "output_type": "stream",
     "text": [
      "Epoch 238: 2batch [00:00, 18.52batch/s, loss=900]"
     ]
    },
    {
     "name": "stdout",
     "output_type": "stream",
     "text": [
      "epoch 237: avg test  loss 898.73, bar  test loss 5.959, len  test loss 0.048, col  test loss 162.362\n"
     ]
    },
    {
     "name": "stderr",
     "output_type": "stream",
     "text": [
      "Epoch 238: 543batch [00:29, 18.21batch/s, loss=891] \n"
     ]
    },
    {
     "name": "stdout",
     "output_type": "stream",
     "text": [
      "epoch 238: avg train loss 895.49, bar train loss 5.765, len train loss 0.047, col train loss 162.583\n"
     ]
    },
    {
     "name": "stderr",
     "output_type": "stream",
     "text": [
      "Epoch 239: 2batch [00:00, 18.18batch/s, loss=880]"
     ]
    },
    {
     "name": "stdout",
     "output_type": "stream",
     "text": [
      "epoch 238: avg test  loss 895.95, bar  test loss 5.855, len  test loss 0.052, col  test loss 162.428\n"
     ]
    },
    {
     "name": "stderr",
     "output_type": "stream",
     "text": [
      "Epoch 239: 543batch [00:29, 18.18batch/s, loss=912]\n"
     ]
    },
    {
     "name": "stdout",
     "output_type": "stream",
     "text": [
      "epoch 239: avg train loss 894.78, bar train loss 5.740, len train loss 0.046, col train loss 162.537\n"
     ]
    },
    {
     "name": "stderr",
     "output_type": "stream",
     "text": [
      "Epoch 240: 2batch [00:00, 17.70batch/s, loss=861]"
     ]
    },
    {
     "name": "stdout",
     "output_type": "stream",
     "text": [
      "epoch 239: avg test  loss 893.71, bar  test loss 5.684, len  test loss 0.045, col  test loss 162.653\n"
     ]
    },
    {
     "name": "stderr",
     "output_type": "stream",
     "text": [
      "Epoch 240: 543batch [00:30, 17.96batch/s, loss=922]\n"
     ]
    },
    {
     "name": "stdout",
     "output_type": "stream",
     "text": [
      "epoch 240: avg train loss 895.28, bar train loss 5.761, len train loss 0.046, col train loss 162.561\n",
      "epoch 240: avg test  loss 892.74, bar  test loss 5.653, len  test loss 0.047, col  test loss 162.383\n"
     ]
    },
    {
     "name": "stderr",
     "output_type": "stream",
     "text": [
      "Epoch 241: 543batch [00:29, 18.17batch/s, loss=976]\n"
     ]
    },
    {
     "name": "stdout",
     "output_type": "stream",
     "text": [
      "epoch 241: avg train loss 895.13, bar train loss 5.759, len train loss 0.047, col train loss 162.520\n"
     ]
    },
    {
     "name": "stderr",
     "output_type": "stream",
     "text": [
      "Epoch 242: 2batch [00:00, 18.35batch/s, loss=863]"
     ]
    },
    {
     "name": "stdout",
     "output_type": "stream",
     "text": [
      "epoch 241: avg test  loss 895.91, bar  test loss 5.717, len  test loss 0.044, col  test loss 162.880\n"
     ]
    },
    {
     "name": "stderr",
     "output_type": "stream",
     "text": [
      "Epoch 242: 543batch [00:29, 18.22batch/s, loss=879]\n"
     ]
    },
    {
     "name": "stdout",
     "output_type": "stream",
     "text": [
      "epoch 242: avg train loss 894.60, bar train loss 5.751, len train loss 0.046, col train loss 162.500\n"
     ]
    },
    {
     "name": "stderr",
     "output_type": "stream",
     "text": [
      "Epoch 243: 2batch [00:00, 17.70batch/s, loss=828]"
     ]
    },
    {
     "name": "stdout",
     "output_type": "stream",
     "text": [
      "epoch 242: avg test  loss 893.62, bar  test loss 5.663, len  test loss 0.038, col  test loss 162.692\n"
     ]
    },
    {
     "name": "stderr",
     "output_type": "stream",
     "text": [
      "Epoch 243: 543batch [00:29, 18.16batch/s, loss=954]\n"
     ]
    },
    {
     "name": "stdout",
     "output_type": "stream",
     "text": [
      "epoch 243: avg train loss 894.98, bar train loss 5.745, len train loss 0.046, col train loss 162.569\n"
     ]
    },
    {
     "name": "stderr",
     "output_type": "stream",
     "text": [
      "Epoch 244: 2batch [00:00, 18.69batch/s, loss=876]"
     ]
    },
    {
     "name": "stdout",
     "output_type": "stream",
     "text": [
      "epoch 243: avg test  loss 896.17, bar  test loss 5.780, len  test loss 0.054, col  test loss 162.647\n"
     ]
    },
    {
     "name": "stderr",
     "output_type": "stream",
     "text": [
      "Epoch 244: 543batch [00:29, 18.17batch/s, loss=895]    \n"
     ]
    },
    {
     "name": "stdout",
     "output_type": "stream",
     "text": [
      "epoch 244: avg train loss 900.79, bar train loss 5.883, len train loss 0.062, col train loss 162.858\n"
     ]
    },
    {
     "name": "stderr",
     "output_type": "stream",
     "text": [
      "Epoch 245: 2batch [00:00, 18.18batch/s, loss=928]"
     ]
    },
    {
     "name": "stdout",
     "output_type": "stream",
     "text": [
      "epoch 244: avg test  loss 894.19, bar  test loss 5.579, len  test loss 0.048, col  test loss 162.452\n"
     ]
    },
    {
     "name": "stderr",
     "output_type": "stream",
     "text": [
      "Epoch 245: 543batch [00:29, 18.15batch/s, loss=954]\n"
     ]
    },
    {
     "name": "stdout",
     "output_type": "stream",
     "text": [
      "epoch 245: avg train loss 895.02, bar train loss 5.732, len train loss 0.046, col train loss 162.582\n",
      "epoch 245: avg test  loss 896.24, bar  test loss 5.804, len  test loss 0.052, col  test loss 162.458\n"
     ]
    },
    {
     "name": "stderr",
     "output_type": "stream",
     "text": [
      "Epoch 246: 543batch [00:29, 18.13batch/s, loss=873]\n"
     ]
    },
    {
     "name": "stdout",
     "output_type": "stream",
     "text": [
      "epoch 246: avg train loss 895.26, bar train loss 5.767, len train loss 0.046, col train loss 162.586\n"
     ]
    },
    {
     "name": "stderr",
     "output_type": "stream",
     "text": [
      "Epoch 247: 2batch [00:00, 18.87batch/s, loss=939]"
     ]
    },
    {
     "name": "stdout",
     "output_type": "stream",
     "text": [
      "epoch 246: avg test  loss 893.15, bar  test loss 5.679, len  test loss 0.043, col  test loss 162.343\n"
     ]
    },
    {
     "name": "stderr",
     "output_type": "stream",
     "text": [
      "Epoch 247: 543batch [00:30, 18.09batch/s, loss=857]\n"
     ]
    },
    {
     "name": "stdout",
     "output_type": "stream",
     "text": [
      "epoch 247: avg train loss 894.75, bar train loss 5.737, len train loss 0.045, col train loss 162.589\n"
     ]
    },
    {
     "name": "stderr",
     "output_type": "stream",
     "text": [
      "Epoch 248: 2batch [00:00, 18.02batch/s, loss=919]"
     ]
    },
    {
     "name": "stdout",
     "output_type": "stream",
     "text": [
      "epoch 247: avg test  loss 897.01, bar  test loss 5.903, len  test loss 0.048, col  test loss 162.745\n"
     ]
    },
    {
     "name": "stderr",
     "output_type": "stream",
     "text": [
      "Epoch 248: 543batch [00:29, 18.14batch/s, loss=867]\n"
     ]
    },
    {
     "name": "stdout",
     "output_type": "stream",
     "text": [
      "epoch 248: avg train loss 894.72, bar train loss 5.748, len train loss 0.046, col train loss 162.515\n"
     ]
    },
    {
     "name": "stderr",
     "output_type": "stream",
     "text": [
      "Epoch 249: 2batch [00:00, 18.52batch/s, loss=921]"
     ]
    },
    {
     "name": "stdout",
     "output_type": "stream",
     "text": [
      "epoch 248: avg test  loss 893.12, bar  test loss 5.619, len  test loss 0.044, col  test loss 162.408\n"
     ]
    },
    {
     "name": "stderr",
     "output_type": "stream",
     "text": [
      "Epoch 249: 543batch [00:29, 18.11batch/s, loss=877]\n"
     ]
    },
    {
     "name": "stdout",
     "output_type": "stream",
     "text": [
      "epoch 249: avg train loss 894.74, bar train loss 5.731, len train loss 0.047, col train loss 162.504\n"
     ]
    },
    {
     "name": "stderr",
     "output_type": "stream",
     "text": [
      "Epoch 250: 2batch [00:00, 18.02batch/s, loss=857]"
     ]
    },
    {
     "name": "stdout",
     "output_type": "stream",
     "text": [
      "epoch 249: avg test  loss 893.83, bar  test loss 5.671, len  test loss 0.044, col  test loss 162.432\n"
     ]
    },
    {
     "name": "stderr",
     "output_type": "stream",
     "text": [
      "Epoch 250: 543batch [00:30, 18.10batch/s, loss=797] \n"
     ]
    },
    {
     "name": "stdout",
     "output_type": "stream",
     "text": [
      "epoch 250: avg train loss 894.65, bar train loss 5.742, len train loss 0.046, col train loss 162.533\n",
      "epoch 250: avg test  loss 893.63, bar  test loss 5.630, len  test loss 0.046, col  test loss 162.695\n"
     ]
    },
    {
     "name": "stderr",
     "output_type": "stream",
     "text": [
      "Epoch 251: 543batch [00:30, 18.08batch/s, loss=883]    \n"
     ]
    },
    {
     "name": "stdout",
     "output_type": "stream",
     "text": [
      "epoch 251: avg train loss 894.72, bar train loss 5.733, len train loss 0.047, col train loss 162.525\n"
     ]
    },
    {
     "name": "stderr",
     "output_type": "stream",
     "text": [
      "Epoch 252: 2batch [00:00, 18.18batch/s, loss=932]"
     ]
    },
    {
     "name": "stdout",
     "output_type": "stream",
     "text": [
      "epoch 251: avg test  loss 893.61, bar  test loss 5.757, len  test loss 0.044, col  test loss 162.365\n"
     ]
    },
    {
     "name": "stderr",
     "output_type": "stream",
     "text": [
      "Epoch 252: 543batch [00:30, 18.10batch/s, loss=898]\n"
     ]
    },
    {
     "name": "stdout",
     "output_type": "stream",
     "text": [
      "epoch 252: avg train loss 894.61, bar train loss 5.735, len train loss 0.045, col train loss 162.541\n"
     ]
    },
    {
     "name": "stderr",
     "output_type": "stream",
     "text": [
      "Epoch 253: 2batch [00:00, 18.52batch/s, loss=910]"
     ]
    },
    {
     "name": "stdout",
     "output_type": "stream",
     "text": [
      "epoch 252: avg test  loss 895.14, bar  test loss 5.734, len  test loss 0.042, col  test loss 162.726\n"
     ]
    },
    {
     "name": "stderr",
     "output_type": "stream",
     "text": [
      "Epoch 253: 543batch [00:30, 18.06batch/s, loss=879]   \n"
     ]
    },
    {
     "name": "stdout",
     "output_type": "stream",
     "text": [
      "epoch 253: avg train loss 894.50, bar train loss 5.724, len train loss 0.046, col train loss 162.505\n"
     ]
    },
    {
     "name": "stderr",
     "output_type": "stream",
     "text": [
      "Epoch 254: 2batch [00:00, 18.35batch/s, loss=899]"
     ]
    },
    {
     "name": "stdout",
     "output_type": "stream",
     "text": [
      "epoch 253: avg test  loss 892.45, bar  test loss 5.614, len  test loss 0.046, col  test loss 162.438\n"
     ]
    },
    {
     "name": "stderr",
     "output_type": "stream",
     "text": [
      "Epoch 254: 543batch [00:30, 18.02batch/s, loss=875]    \n"
     ]
    },
    {
     "name": "stdout",
     "output_type": "stream",
     "text": [
      "epoch 254: avg train loss 894.26, bar train loss 5.736, len train loss 0.044, col train loss 162.495\n"
     ]
    },
    {
     "name": "stderr",
     "output_type": "stream",
     "text": [
      "Epoch 255: 2batch [00:00, 18.02batch/s, loss=857]"
     ]
    },
    {
     "name": "stdout",
     "output_type": "stream",
     "text": [
      "epoch 254: avg test  loss 894.58, bar  test loss 5.646, len  test loss 0.054, col  test loss 162.545\n"
     ]
    },
    {
     "name": "stderr",
     "output_type": "stream",
     "text": [
      "Epoch 255: 543batch [00:30, 18.04batch/s, loss=860]    \n"
     ]
    },
    {
     "name": "stdout",
     "output_type": "stream",
     "text": [
      "epoch 255: avg train loss 894.66, bar train loss 5.733, len train loss 0.047, col train loss 162.515\n",
      "epoch 255: avg test  loss 894.63, bar  test loss 5.811, len  test loss 0.046, col  test loss 162.628\n"
     ]
    },
    {
     "name": "stderr",
     "output_type": "stream",
     "text": [
      "Epoch 256: 543batch [00:30, 17.97batch/s, loss=914]\n"
     ]
    },
    {
     "name": "stdout",
     "output_type": "stream",
     "text": [
      "epoch 256: avg train loss 894.22, bar train loss 5.729, len train loss 0.045, col train loss 162.478\n"
     ]
    },
    {
     "name": "stderr",
     "output_type": "stream",
     "text": [
      "Epoch 257: 2batch [00:00, 18.02batch/s, loss=898]"
     ]
    },
    {
     "name": "stdout",
     "output_type": "stream",
     "text": [
      "epoch 256: avg test  loss 897.18, bar  test loss 5.949, len  test loss 0.046, col  test loss 163.083\n"
     ]
    },
    {
     "name": "stderr",
     "output_type": "stream",
     "text": [
      "Epoch 257: 543batch [00:30, 18.00batch/s, loss=843]    \n"
     ]
    },
    {
     "name": "stdout",
     "output_type": "stream",
     "text": [
      "epoch 257: avg train loss 894.71, bar train loss 5.732, len train loss 0.048, col train loss 162.460\n"
     ]
    },
    {
     "name": "stderr",
     "output_type": "stream",
     "text": [
      "Epoch 258: 2batch [00:00, 18.18batch/s, loss=895]"
     ]
    },
    {
     "name": "stdout",
     "output_type": "stream",
     "text": [
      "epoch 257: avg test  loss 895.47, bar  test loss 5.796, len  test loss 0.044, col  test loss 162.352\n"
     ]
    },
    {
     "name": "stderr",
     "output_type": "stream",
     "text": [
      "Epoch 258: 543batch [00:30, 18.01batch/s, loss=997]    \n"
     ]
    },
    {
     "name": "stdout",
     "output_type": "stream",
     "text": [
      "epoch 258: avg train loss 894.47, bar train loss 5.734, len train loss 0.044, col train loss 162.523\n"
     ]
    },
    {
     "name": "stderr",
     "output_type": "stream",
     "text": [
      "Epoch 259: 2batch [00:00, 17.86batch/s, loss=854]"
     ]
    },
    {
     "name": "stdout",
     "output_type": "stream",
     "text": [
      "epoch 258: avg test  loss 894.92, bar  test loss 5.804, len  test loss 0.042, col  test loss 162.751\n"
     ]
    },
    {
     "name": "stderr",
     "output_type": "stream",
     "text": [
      "Epoch 259: 543batch [00:30, 17.97batch/s, loss=897]   \n"
     ]
    },
    {
     "name": "stdout",
     "output_type": "stream",
     "text": [
      "epoch 259: avg train loss 894.24, bar train loss 5.725, len train loss 0.044, col train loss 162.502\n"
     ]
    },
    {
     "name": "stderr",
     "output_type": "stream",
     "text": [
      "Epoch 260: 2batch [00:00, 18.18batch/s, loss=854]"
     ]
    },
    {
     "name": "stdout",
     "output_type": "stream",
     "text": [
      "epoch 259: avg test  loss 894.45, bar  test loss 5.948, len  test loss 0.039, col  test loss 162.777\n"
     ]
    },
    {
     "name": "stderr",
     "output_type": "stream",
     "text": [
      "Epoch 260: 543batch [00:30, 17.98batch/s, loss=873] \n"
     ]
    },
    {
     "name": "stdout",
     "output_type": "stream",
     "text": [
      "epoch 260: avg train loss 894.31, bar train loss 5.716, len train loss 0.045, col train loss 162.464\n",
      "epoch 260: avg test  loss 894.30, bar  test loss 5.737, len  test loss 0.045, col  test loss 162.425\n"
     ]
    },
    {
     "name": "stderr",
     "output_type": "stream",
     "text": [
      "Epoch 261: 543batch [00:30, 17.87batch/s, loss=945]\n"
     ]
    },
    {
     "name": "stdout",
     "output_type": "stream",
     "text": [
      "epoch 261: avg train loss 894.30, bar train loss 5.706, len train loss 0.045, col train loss 162.439\n"
     ]
    },
    {
     "name": "stderr",
     "output_type": "stream",
     "text": [
      "Epoch 262: 2batch [00:00, 18.35batch/s, loss=908]"
     ]
    },
    {
     "name": "stdout",
     "output_type": "stream",
     "text": [
      "epoch 261: avg test  loss 895.46, bar  test loss 5.813, len  test loss 0.043, col  test loss 162.499\n"
     ]
    },
    {
     "name": "stderr",
     "output_type": "stream",
     "text": [
      "Epoch 262: 543batch [00:30, 17.98batch/s, loss=925]    \n"
     ]
    },
    {
     "name": "stdout",
     "output_type": "stream",
     "text": [
      "epoch 262: avg train loss 894.07, bar train loss 5.701, len train loss 0.045, col train loss 162.471\n"
     ]
    },
    {
     "name": "stderr",
     "output_type": "stream",
     "text": [
      "Epoch 263: 2batch [00:00, 17.54batch/s, loss=925]"
     ]
    },
    {
     "name": "stdout",
     "output_type": "stream",
     "text": [
      "epoch 262: avg test  loss 894.74, bar  test loss 5.662, len  test loss 0.053, col  test loss 162.732\n"
     ]
    },
    {
     "name": "stderr",
     "output_type": "stream",
     "text": [
      "Epoch 263: 543batch [00:30, 17.92batch/s, loss=925]    \n"
     ]
    },
    {
     "name": "stdout",
     "output_type": "stream",
     "text": [
      "epoch 263: avg train loss 902.05, bar train loss 5.845, len train loss 0.071, col train loss 162.705\n"
     ]
    },
    {
     "name": "stderr",
     "output_type": "stream",
     "text": [
      "Epoch 264: 2batch [00:00, 18.35batch/s, loss=906]"
     ]
    },
    {
     "name": "stdout",
     "output_type": "stream",
     "text": [
      "epoch 263: avg test  loss 894.82, bar  test loss 5.692, len  test loss 0.054, col  test loss 162.445\n"
     ]
    },
    {
     "name": "stderr",
     "output_type": "stream",
     "text": [
      "Epoch 264: 543batch [00:30, 17.90batch/s, loss=932]    \n"
     ]
    },
    {
     "name": "stdout",
     "output_type": "stream",
     "text": [
      "epoch 264: avg train loss 896.72, bar train loss 5.770, len train loss 0.051, col train loss 162.586\n"
     ]
    },
    {
     "name": "stderr",
     "output_type": "stream",
     "text": [
      "Epoch 265: 2batch [00:00, 18.35batch/s, loss=881]"
     ]
    },
    {
     "name": "stdout",
     "output_type": "stream",
     "text": [
      "epoch 264: avg test  loss 895.89, bar  test loss 5.743, len  test loss 0.048, col  test loss 162.369\n"
     ]
    },
    {
     "name": "stderr",
     "output_type": "stream",
     "text": [
      "Epoch 265: 543batch [00:30, 17.91batch/s, loss=875]\n"
     ]
    },
    {
     "name": "stdout",
     "output_type": "stream",
     "text": [
      "epoch 265: avg train loss 894.16, bar train loss 5.704, len train loss 0.045, col train loss 162.446\n",
      "epoch 265: avg test  loss 895.12, bar  test loss 5.650, len  test loss 0.050, col  test loss 162.393\n"
     ]
    },
    {
     "name": "stderr",
     "output_type": "stream",
     "text": [
      "Epoch 266: 543batch [00:30, 17.87batch/s, loss=908]\n"
     ]
    },
    {
     "name": "stdout",
     "output_type": "stream",
     "text": [
      "epoch 266: avg train loss 894.03, bar train loss 5.710, len train loss 0.044, col train loss 162.469\n"
     ]
    },
    {
     "name": "stderr",
     "output_type": "stream",
     "text": [
      "Epoch 267: 2batch [00:00, 18.18batch/s, loss=838]"
     ]
    },
    {
     "name": "stdout",
     "output_type": "stream",
     "text": [
      "epoch 266: avg test  loss 894.62, bar  test loss 5.610, len  test loss 0.040, col  test loss 162.530\n"
     ]
    },
    {
     "name": "stderr",
     "output_type": "stream",
     "text": [
      "Epoch 267: 543batch [00:30, 17.91batch/s, loss=930] \n"
     ]
    },
    {
     "name": "stdout",
     "output_type": "stream",
     "text": [
      "epoch 267: avg train loss 893.96, bar train loss 5.713, len train loss 0.044, col train loss 162.441\n"
     ]
    },
    {
     "name": "stderr",
     "output_type": "stream",
     "text": [
      "Epoch 268: 2batch [00:00, 18.02batch/s, loss=892]"
     ]
    },
    {
     "name": "stdout",
     "output_type": "stream",
     "text": [
      "epoch 267: avg test  loss 953.60, bar  test loss 5.731, len  test loss 0.273, col  test loss 162.689\n"
     ]
    },
    {
     "name": "stderr",
     "output_type": "stream",
     "text": [
      "Epoch 268: 543batch [00:30, 17.90batch/s, loss=872]    \n"
     ]
    },
    {
     "name": "stdout",
     "output_type": "stream",
     "text": [
      "epoch 268: avg train loss 898.78, bar train loss 5.710, len train loss 0.059, col train loss 162.444\n"
     ]
    },
    {
     "name": "stderr",
     "output_type": "stream",
     "text": [
      "Epoch 269: 2batch [00:00, 18.52batch/s, loss=864]"
     ]
    },
    {
     "name": "stdout",
     "output_type": "stream",
     "text": [
      "epoch 268: avg test  loss 895.47, bar  test loss 5.958, len  test loss 0.040, col  test loss 162.406\n"
     ]
    },
    {
     "name": "stderr",
     "output_type": "stream",
     "text": [
      "Epoch 269: 543batch [00:30, 17.88batch/s, loss=815]\n"
     ]
    },
    {
     "name": "stdout",
     "output_type": "stream",
     "text": [
      "epoch 269: avg train loss 894.05, bar train loss 5.705, len train loss 0.044, col train loss 162.456\n"
     ]
    },
    {
     "name": "stderr",
     "output_type": "stream",
     "text": [
      "Epoch 270: 2batch [00:00, 17.86batch/s, loss=943]"
     ]
    },
    {
     "name": "stdout",
     "output_type": "stream",
     "text": [
      "epoch 269: avg test  loss 892.78, bar  test loss 5.554, len  test loss 0.041, col  test loss 162.181\n"
     ]
    },
    {
     "name": "stderr",
     "output_type": "stream",
     "text": [
      "Epoch 270: 543batch [00:30, 17.78batch/s, loss=852]\n"
     ]
    },
    {
     "name": "stdout",
     "output_type": "stream",
     "text": [
      "epoch 270: avg train loss 893.62, bar train loss 5.695, len train loss 0.044, col train loss 162.436\n",
      "epoch 270: avg test  loss 893.70, bar  test loss 5.745, len  test loss 0.043, col  test loss 162.507\n"
     ]
    },
    {
     "name": "stderr",
     "output_type": "stream",
     "text": [
      "Epoch 271: 543batch [00:30, 17.82batch/s, loss=916]\n"
     ]
    },
    {
     "name": "stdout",
     "output_type": "stream",
     "text": [
      "epoch 271: avg train loss 893.59, bar train loss 5.704, len train loss 0.043, col train loss 162.428\n"
     ]
    },
    {
     "name": "stderr",
     "output_type": "stream",
     "text": [
      "Epoch 272: 2batch [00:00, 17.86batch/s, loss=936]"
     ]
    },
    {
     "name": "stdout",
     "output_type": "stream",
     "text": [
      "epoch 271: avg test  loss 894.22, bar  test loss 5.756, len  test loss 0.042, col  test loss 162.387\n"
     ]
    },
    {
     "name": "stderr",
     "output_type": "stream",
     "text": [
      "Epoch 272: 543batch [00:30, 17.85batch/s, loss=851]\n"
     ]
    },
    {
     "name": "stdout",
     "output_type": "stream",
     "text": [
      "epoch 272: avg train loss 893.98, bar train loss 5.721, len train loss 0.044, col train loss 162.442\n"
     ]
    },
    {
     "name": "stderr",
     "output_type": "stream",
     "text": [
      "Epoch 273: 2batch [00:00, 18.02batch/s, loss=867]"
     ]
    },
    {
     "name": "stdout",
     "output_type": "stream",
     "text": [
      "epoch 272: avg test  loss 893.61, bar  test loss 5.731, len  test loss 0.042, col  test loss 162.368\n"
     ]
    },
    {
     "name": "stderr",
     "output_type": "stream",
     "text": [
      "Epoch 273: 543batch [00:30, 17.85batch/s, loss=953]    \n"
     ]
    },
    {
     "name": "stdout",
     "output_type": "stream",
     "text": [
      "epoch 273: avg train loss 896.39, bar train loss 5.751, len train loss 0.056, col train loss 162.474\n"
     ]
    },
    {
     "name": "stderr",
     "output_type": "stream",
     "text": [
      "Epoch 274: 2batch [00:00, 18.35batch/s, loss=856]"
     ]
    },
    {
     "name": "stdout",
     "output_type": "stream",
     "text": [
      "epoch 273: avg test  loss 899.35, bar  test loss 5.901, len  test loss 0.048, col  test loss 162.641\n"
     ]
    },
    {
     "name": "stderr",
     "output_type": "stream",
     "text": [
      "Epoch 274: 543batch [00:30, 17.85batch/s, loss=933]   \n"
     ]
    },
    {
     "name": "stdout",
     "output_type": "stream",
     "text": [
      "epoch 274: avg train loss 894.62, bar train loss 5.738, len train loss 0.045, col train loss 162.484\n"
     ]
    },
    {
     "name": "stderr",
     "output_type": "stream",
     "text": [
      "Epoch 275: 2batch [00:00, 17.54batch/s, loss=920]"
     ]
    },
    {
     "name": "stdout",
     "output_type": "stream",
     "text": [
      "epoch 274: avg test  loss 895.53, bar  test loss 5.781, len  test loss 0.044, col  test loss 162.294\n"
     ]
    },
    {
     "name": "stderr",
     "output_type": "stream",
     "text": [
      "Epoch 275: 543batch [00:30, 17.81batch/s, loss=884]    \n"
     ]
    },
    {
     "name": "stdout",
     "output_type": "stream",
     "text": [
      "epoch 275: avg train loss 894.14, bar train loss 5.692, len train loss 0.047, col train loss 162.444\n",
      "epoch 275: avg test  loss 894.20, bar  test loss 5.760, len  test loss 0.044, col  test loss 162.229\n"
     ]
    },
    {
     "name": "stderr",
     "output_type": "stream",
     "text": [
      "Epoch 276: 543batch [00:30, 17.73batch/s, loss=827] \n"
     ]
    },
    {
     "name": "stdout",
     "output_type": "stream",
     "text": [
      "epoch 276: avg train loss 893.85, bar train loss 5.694, len train loss 0.044, col train loss 162.431\n"
     ]
    },
    {
     "name": "stderr",
     "output_type": "stream",
     "text": [
      "Epoch 277: 2batch [00:00, 17.70batch/s, loss=900]"
     ]
    },
    {
     "name": "stdout",
     "output_type": "stream",
     "text": [
      "epoch 276: avg test  loss 894.71, bar  test loss 5.780, len  test loss 0.044, col  test loss 162.411\n"
     ]
    },
    {
     "name": "stderr",
     "output_type": "stream",
     "text": [
      "Epoch 277: 543batch [00:30, 17.79batch/s, loss=916]    \n"
     ]
    },
    {
     "name": "stdout",
     "output_type": "stream",
     "text": [
      "epoch 277: avg train loss 895.03, bar train loss 5.718, len train loss 0.054, col train loss 162.417\n"
     ]
    },
    {
     "name": "stderr",
     "output_type": "stream",
     "text": [
      "Epoch 278: 2batch [00:00, 17.39batch/s, loss=890]"
     ]
    },
    {
     "name": "stdout",
     "output_type": "stream",
     "text": [
      "epoch 277: avg test  loss 894.42, bar  test loss 5.621, len  test loss 0.049, col  test loss 162.578\n"
     ]
    },
    {
     "name": "stderr",
     "output_type": "stream",
     "text": [
      "Epoch 278: 543batch [00:30, 17.79batch/s, loss=894]\n"
     ]
    },
    {
     "name": "stdout",
     "output_type": "stream",
     "text": [
      "epoch 278: avg train loss 893.91, bar train loss 5.688, len train loss 0.044, col train loss 162.438\n"
     ]
    },
    {
     "name": "stderr",
     "output_type": "stream",
     "text": [
      "Epoch 279: 2batch [00:00, 17.70batch/s, loss=892]"
     ]
    },
    {
     "name": "stdout",
     "output_type": "stream",
     "text": [
      "epoch 278: avg test  loss 892.16, bar  test loss 5.608, len  test loss 0.044, col  test loss 162.397\n"
     ]
    },
    {
     "name": "stderr",
     "output_type": "stream",
     "text": [
      "Epoch 279: 543batch [00:30, 17.77batch/s, loss=863]\n"
     ]
    },
    {
     "name": "stdout",
     "output_type": "stream",
     "text": [
      "epoch 279: avg train loss 893.96, bar train loss 5.703, len train loss 0.044, col train loss 162.437\n"
     ]
    },
    {
     "name": "stderr",
     "output_type": "stream",
     "text": [
      "Epoch 280: 2batch [00:00, 18.68batch/s, loss=876]"
     ]
    },
    {
     "name": "stdout",
     "output_type": "stream",
     "text": [
      "epoch 279: avg test  loss 895.96, bar  test loss 5.904, len  test loss 0.047, col  test loss 162.480\n"
     ]
    },
    {
     "name": "stderr",
     "output_type": "stream",
     "text": [
      "Epoch 280: 543batch [00:30, 17.77batch/s, loss=915]\n"
     ]
    },
    {
     "name": "stdout",
     "output_type": "stream",
     "text": [
      "epoch 280: avg train loss 893.48, bar train loss 5.689, len train loss 0.043, col train loss 162.410\n",
      "epoch 280: avg test  loss 895.35, bar  test loss 5.859, len  test loss 0.049, col  test loss 162.347\n"
     ]
    },
    {
     "name": "stderr",
     "output_type": "stream",
     "text": [
      "Epoch 281: 543batch [00:30, 17.65batch/s, loss=888]    \n"
     ]
    },
    {
     "name": "stdout",
     "output_type": "stream",
     "text": [
      "epoch 281: avg train loss 897.80, bar train loss 5.758, len train loss 0.058, col train loss 162.529\n"
     ]
    },
    {
     "name": "stderr",
     "output_type": "stream",
     "text": [
      "Epoch 282: 2batch [00:00, 17.86batch/s, loss=908]"
     ]
    },
    {
     "name": "stdout",
     "output_type": "stream",
     "text": [
      "epoch 281: avg test  loss 893.91, bar  test loss 5.604, len  test loss 0.046, col  test loss 162.316\n"
     ]
    },
    {
     "name": "stderr",
     "output_type": "stream",
     "text": [
      "Epoch 282: 543batch [00:30, 17.73batch/s, loss=852]    \n"
     ]
    },
    {
     "name": "stdout",
     "output_type": "stream",
     "text": [
      "epoch 282: avg train loss 893.92, bar train loss 5.676, len train loss 0.047, col train loss 162.405\n"
     ]
    },
    {
     "name": "stderr",
     "output_type": "stream",
     "text": [
      "Epoch 283: 2batch [00:00, 18.35batch/s, loss=948]"
     ]
    },
    {
     "name": "stdout",
     "output_type": "stream",
     "text": [
      "epoch 282: avg test  loss 892.79, bar  test loss 5.653, len  test loss 0.043, col  test loss 162.506\n"
     ]
    },
    {
     "name": "stderr",
     "output_type": "stream",
     "text": [
      "Epoch 283: 543batch [00:30, 17.72batch/s, loss=925]    \n"
     ]
    },
    {
     "name": "stdout",
     "output_type": "stream",
     "text": [
      "epoch 283: avg train loss 893.83, bar train loss 5.669, len train loss 0.047, col train loss 162.405\n"
     ]
    },
    {
     "name": "stderr",
     "output_type": "stream",
     "text": [
      "Epoch 284: 2batch [00:00, 17.70batch/s, loss=854]"
     ]
    },
    {
     "name": "stdout",
     "output_type": "stream",
     "text": [
      "epoch 283: avg test  loss 893.65, bar  test loss 5.604, len  test loss 0.040, col  test loss 162.488\n"
     ]
    },
    {
     "name": "stderr",
     "output_type": "stream",
     "text": [
      "Epoch 284: 543batch [00:30, 17.65batch/s, loss=818]    \n"
     ]
    },
    {
     "name": "stdout",
     "output_type": "stream",
     "text": [
      "epoch 284: avg train loss 893.69, bar train loss 5.684, len train loss 0.046, col train loss 162.406\n"
     ]
    },
    {
     "name": "stderr",
     "output_type": "stream",
     "text": [
      "Epoch 285: 2batch [00:00, 18.18batch/s, loss=899]"
     ]
    },
    {
     "name": "stdout",
     "output_type": "stream",
     "text": [
      "epoch 284: avg test  loss 892.61, bar  test loss 5.569, len  test loss 0.043, col  test loss 162.315\n"
     ]
    },
    {
     "name": "stderr",
     "output_type": "stream",
     "text": [
      "Epoch 285: 543batch [00:31, 17.37batch/s, loss=894]\n"
     ]
    },
    {
     "name": "stdout",
     "output_type": "stream",
     "text": [
      "epoch 285: avg train loss 893.38, bar train loss 5.663, len train loss 0.043, col train loss 162.403\n",
      "epoch 285: avg test  loss 897.76, bar  test loss 5.922, len  test loss 0.052, col  test loss 162.543\n"
     ]
    },
    {
     "name": "stderr",
     "output_type": "stream",
     "text": [
      "Epoch 286: 543batch [00:31, 17.46batch/s, loss=870]\n"
     ]
    },
    {
     "name": "stdout",
     "output_type": "stream",
     "text": [
      "epoch 286: avg train loss 893.53, bar train loss 5.682, len train loss 0.044, col train loss 162.396\n"
     ]
    },
    {
     "name": "stderr",
     "output_type": "stream",
     "text": [
      "Epoch 287: 2batch [00:00, 18.18batch/s, loss=903]"
     ]
    },
    {
     "name": "stdout",
     "output_type": "stream",
     "text": [
      "epoch 286: avg test  loss 892.50, bar  test loss 5.527, len  test loss 0.046, col  test loss 162.233\n"
     ]
    },
    {
     "name": "stderr",
     "output_type": "stream",
     "text": [
      "Epoch 287: 543batch [00:30, 17.66batch/s, loss=884] \n"
     ]
    },
    {
     "name": "stdout",
     "output_type": "stream",
     "text": [
      "epoch 287: avg train loss 893.73, bar train loss 5.696, len train loss 0.043, col train loss 162.426\n"
     ]
    },
    {
     "name": "stderr",
     "output_type": "stream",
     "text": [
      "Epoch 288: 2batch [00:00, 18.18batch/s, loss=875]"
     ]
    },
    {
     "name": "stdout",
     "output_type": "stream",
     "text": [
      "epoch 287: avg test  loss 895.26, bar  test loss 5.688, len  test loss 0.044, col  test loss 162.754\n"
     ]
    },
    {
     "name": "stderr",
     "output_type": "stream",
     "text": [
      "Epoch 288: 543batch [00:30, 17.65batch/s, loss=800]   \n"
     ]
    },
    {
     "name": "stdout",
     "output_type": "stream",
     "text": [
      "epoch 288: avg train loss 897.07, bar train loss 5.708, len train loss 0.057, col train loss 162.384\n"
     ]
    },
    {
     "name": "stderr",
     "output_type": "stream",
     "text": [
      "Epoch 289: 2batch [00:00, 17.54batch/s, loss=942]"
     ]
    },
    {
     "name": "stdout",
     "output_type": "stream",
     "text": [
      "epoch 288: avg test  loss 893.39, bar  test loss 5.730, len  test loss 0.044, col  test loss 162.147\n"
     ]
    },
    {
     "name": "stderr",
     "output_type": "stream",
     "text": [
      "Epoch 289: 543batch [00:30, 17.64batch/s, loss=938]    \n"
     ]
    },
    {
     "name": "stdout",
     "output_type": "stream",
     "text": [
      "epoch 289: avg train loss 894.93, bar train loss 5.692, len train loss 0.055, col train loss 162.378\n"
     ]
    },
    {
     "name": "stderr",
     "output_type": "stream",
     "text": [
      "Epoch 290: 2batch [00:00, 18.02batch/s, loss=834]"
     ]
    },
    {
     "name": "stdout",
     "output_type": "stream",
     "text": [
      "epoch 289: avg test  loss 893.63, bar  test loss 5.752, len  test loss 0.042, col  test loss 162.401\n"
     ]
    },
    {
     "name": "stderr",
     "output_type": "stream",
     "text": [
      "Epoch 290: 543batch [00:30, 17.64batch/s, loss=860]\n"
     ]
    },
    {
     "name": "stdout",
     "output_type": "stream",
     "text": [
      "epoch 290: avg train loss 893.42, bar train loss 5.665, len train loss 0.045, col train loss 162.372\n",
      "epoch 290: avg test  loss 892.47, bar  test loss 5.569, len  test loss 0.044, col  test loss 162.291\n"
     ]
    },
    {
     "name": "stderr",
     "output_type": "stream",
     "text": [
      "Epoch 291: 543batch [00:31, 17.50batch/s, loss=925]    \n"
     ]
    },
    {
     "name": "stdout",
     "output_type": "stream",
     "text": [
      "epoch 291: avg train loss 895.18, bar train loss 5.720, len train loss 0.049, col train loss 162.427\n"
     ]
    },
    {
     "name": "stderr",
     "output_type": "stream",
     "text": [
      "Epoch 292: 2batch [00:00, 17.70batch/s, loss=909]"
     ]
    },
    {
     "name": "stdout",
     "output_type": "stream",
     "text": [
      "epoch 291: avg test  loss 893.07, bar  test loss 5.551, len  test loss 0.044, col  test loss 162.388\n"
     ]
    },
    {
     "name": "stderr",
     "output_type": "stream",
     "text": [
      "Epoch 292: 543batch [00:30, 17.64batch/s, loss=979]    \n"
     ]
    },
    {
     "name": "stdout",
     "output_type": "stream",
     "text": [
      "epoch 292: avg train loss 894.23, bar train loss 5.682, len train loss 0.051, col train loss 162.399\n"
     ]
    },
    {
     "name": "stderr",
     "output_type": "stream",
     "text": [
      "Epoch 293: 2batch [00:00, 17.86batch/s, loss=921]"
     ]
    },
    {
     "name": "stdout",
     "output_type": "stream",
     "text": [
      "epoch 292: avg test  loss 895.58, bar  test loss 5.807, len  test loss 0.056, col  test loss 162.433\n"
     ]
    },
    {
     "name": "stderr",
     "output_type": "stream",
     "text": [
      "Epoch 293: 543batch [00:30, 17.63batch/s, loss=947]    \n"
     ]
    },
    {
     "name": "stdout",
     "output_type": "stream",
     "text": [
      "epoch 293: avg train loss 893.15, bar train loss 5.675, len train loss 0.043, col train loss 162.393\n"
     ]
    },
    {
     "name": "stderr",
     "output_type": "stream",
     "text": [
      "Epoch 294: 2batch [00:00, 18.02batch/s, loss=901]"
     ]
    },
    {
     "name": "stdout",
     "output_type": "stream",
     "text": [
      "epoch 293: avg test  loss 892.45, bar  test loss 5.672, len  test loss 0.040, col  test loss 162.431\n"
     ]
    },
    {
     "name": "stderr",
     "output_type": "stream",
     "text": [
      "Epoch 294: 543batch [00:30, 17.56batch/s, loss=871]   \n"
     ]
    },
    {
     "name": "stdout",
     "output_type": "stream",
     "text": [
      "epoch 294: avg train loss 893.56, bar train loss 5.687, len train loss 0.045, col train loss 162.387\n"
     ]
    },
    {
     "name": "stderr",
     "output_type": "stream",
     "text": [
      "Epoch 295: 2batch [00:00, 18.02batch/s, loss=926]"
     ]
    },
    {
     "name": "stdout",
     "output_type": "stream",
     "text": [
      "epoch 294: avg test  loss 893.95, bar  test loss 5.761, len  test loss 0.041, col  test loss 162.084\n"
     ]
    },
    {
     "name": "stderr",
     "output_type": "stream",
     "text": [
      "Epoch 295: 543batch [00:30, 17.52batch/s, loss=884]\n"
     ]
    },
    {
     "name": "stdout",
     "output_type": "stream",
     "text": [
      "epoch 295: avg train loss 893.54, bar train loss 5.684, len train loss 0.043, col train loss 162.395\n",
      "epoch 295: avg test  loss 894.23, bar  test loss 5.766, len  test loss 0.043, col  test loss 162.671\n"
     ]
    },
    {
     "name": "stderr",
     "output_type": "stream",
     "text": [
      "Epoch 296: 543batch [00:31, 17.49batch/s, loss=952]    \n"
     ]
    },
    {
     "name": "stdout",
     "output_type": "stream",
     "text": [
      "epoch 296: avg train loss 896.09, bar train loss 5.715, len train loss 0.051, col train loss 162.422\n"
     ]
    },
    {
     "name": "stderr",
     "output_type": "stream",
     "text": [
      "Epoch 297: 2batch [00:00, 18.18batch/s, loss=844]"
     ]
    },
    {
     "name": "stdout",
     "output_type": "stream",
     "text": [
      "epoch 296: avg test  loss 893.32, bar  test loss 5.644, len  test loss 0.041, col  test loss 162.431\n"
     ]
    },
    {
     "name": "stderr",
     "output_type": "stream",
     "text": [
      "Epoch 297: 543batch [00:30, 17.53batch/s, loss=932]\n"
     ]
    },
    {
     "name": "stdout",
     "output_type": "stream",
     "text": [
      "epoch 297: avg train loss 893.26, bar train loss 5.684, len train loss 0.042, col train loss 162.383\n"
     ]
    },
    {
     "name": "stderr",
     "output_type": "stream",
     "text": [
      "Epoch 298: 2batch [00:00, 17.86batch/s, loss=852]"
     ]
    },
    {
     "name": "stdout",
     "output_type": "stream",
     "text": [
      "epoch 297: avg test  loss 894.06, bar  test loss 5.753, len  test loss 0.044, col  test loss 162.268\n"
     ]
    },
    {
     "name": "stderr",
     "output_type": "stream",
     "text": [
      "Epoch 298: 543batch [00:31, 17.49batch/s, loss=922]\n"
     ]
    },
    {
     "name": "stdout",
     "output_type": "stream",
     "text": [
      "epoch 298: avg train loss 893.32, bar train loss 5.685, len train loss 0.043, col train loss 162.380\n"
     ]
    },
    {
     "name": "stderr",
     "output_type": "stream",
     "text": [
      "Epoch 299: 2batch [00:00, 15.27batch/s, loss=848]"
     ]
    },
    {
     "name": "stdout",
     "output_type": "stream",
     "text": [
      "epoch 298: avg test  loss 894.24, bar  test loss 5.559, len  test loss 0.052, col  test loss 162.270\n"
     ]
    },
    {
     "name": "stderr",
     "output_type": "stream",
     "text": [
      "Epoch 299: 543batch [00:31, 17.48batch/s, loss=1.04e+3]\n"
     ]
    },
    {
     "name": "stdout",
     "output_type": "stream",
     "text": [
      "epoch 299: avg train loss 896.19, bar train loss 5.682, len train loss 0.053, col train loss 162.377\n"
     ]
    },
    {
     "name": "stderr",
     "output_type": "stream",
     "text": [
      "Epoch 300: 2batch [00:00, 17.54batch/s, loss=959]"
     ]
    },
    {
     "name": "stdout",
     "output_type": "stream",
     "text": [
      "epoch 299: avg test  loss 917.37, bar  test loss 5.786, len  test loss 0.126, col  test loss 162.376\n"
     ]
    },
    {
     "name": "stderr",
     "output_type": "stream",
     "text": [
      "Epoch 300: 543batch [00:31, 17.44batch/s, loss=901]\n"
     ]
    },
    {
     "name": "stdout",
     "output_type": "stream",
     "text": [
      "epoch 300: avg train loss 893.35, bar train loss 5.675, len train loss 0.042, col train loss 162.410\n",
      "epoch 300: avg test  loss 895.96, bar  test loss 5.730, len  test loss 0.053, col  test loss 162.276\n"
     ]
    },
    {
     "name": "stderr",
     "output_type": "stream",
     "text": [
      "Epoch 301: 543batch [00:31, 17.34batch/s, loss=919]   \n"
     ]
    },
    {
     "name": "stdout",
     "output_type": "stream",
     "text": [
      "epoch 301: avg train loss 893.33, bar train loss 5.670, len train loss 0.043, col train loss 162.376\n"
     ]
    },
    {
     "name": "stderr",
     "output_type": "stream",
     "text": [
      "Epoch 302: 2batch [00:00, 17.54batch/s, loss=885]"
     ]
    },
    {
     "name": "stdout",
     "output_type": "stream",
     "text": [
      "epoch 301: avg test  loss 897.10, bar  test loss 5.784, len  test loss 0.052, col  test loss 162.277\n"
     ]
    },
    {
     "name": "stderr",
     "output_type": "stream",
     "text": [
      "Epoch 302: 543batch [00:31, 17.42batch/s, loss=923]    \n"
     ]
    },
    {
     "name": "stdout",
     "output_type": "stream",
     "text": [
      "epoch 302: avg train loss 893.68, bar train loss 5.686, len train loss 0.043, col train loss 162.390\n"
     ]
    },
    {
     "name": "stderr",
     "output_type": "stream",
     "text": [
      "Epoch 303: 2batch [00:00, 18.35batch/s, loss=909]"
     ]
    },
    {
     "name": "stdout",
     "output_type": "stream",
     "text": [
      "epoch 302: avg test  loss 895.45, bar  test loss 5.791, len  test loss 0.044, col  test loss 162.447\n"
     ]
    },
    {
     "name": "stderr",
     "output_type": "stream",
     "text": [
      "Epoch 303: 543batch [00:31, 17.37batch/s, loss=913]    \n"
     ]
    },
    {
     "name": "stdout",
     "output_type": "stream",
     "text": [
      "epoch 303: avg train loss 896.21, bar train loss 5.698, len train loss 0.054, col train loss 162.416\n"
     ]
    },
    {
     "name": "stderr",
     "output_type": "stream",
     "text": [
      "Epoch 304: 2batch [00:00, 16.53batch/s, loss=871]"
     ]
    },
    {
     "name": "stdout",
     "output_type": "stream",
     "text": [
      "epoch 303: avg test  loss 893.62, bar  test loss 5.537, len  test loss 0.044, col  test loss 162.122\n"
     ]
    },
    {
     "name": "stderr",
     "output_type": "stream",
     "text": [
      "Epoch 304: 543batch [00:31, 17.40batch/s, loss=908]\n"
     ]
    },
    {
     "name": "stdout",
     "output_type": "stream",
     "text": [
      "epoch 304: avg train loss 893.75, bar train loss 5.679, len train loss 0.045, col train loss 162.396\n"
     ]
    },
    {
     "name": "stderr",
     "output_type": "stream",
     "text": [
      "Epoch 305: 2batch [00:00, 17.70batch/s, loss=920]"
     ]
    },
    {
     "name": "stdout",
     "output_type": "stream",
     "text": [
      "epoch 304: avg test  loss 892.79, bar  test loss 5.665, len  test loss 0.044, col  test loss 162.332\n"
     ]
    },
    {
     "name": "stderr",
     "output_type": "stream",
     "text": [
      "Epoch 305: 543batch [00:31, 17.39batch/s, loss=850]    \n"
     ]
    },
    {
     "name": "stdout",
     "output_type": "stream",
     "text": [
      "epoch 305: avg train loss 894.54, bar train loss 5.687, len train loss 0.047, col train loss 162.441\n",
      "epoch 305: avg test  loss 893.12, bar  test loss 5.695, len  test loss 0.041, col  test loss 162.489\n"
     ]
    },
    {
     "name": "stderr",
     "output_type": "stream",
     "text": [
      "Epoch 306: 543batch [00:31, 17.38batch/s, loss=937]    \n"
     ]
    },
    {
     "name": "stdout",
     "output_type": "stream",
     "text": [
      "epoch 306: avg train loss 895.65, bar train loss 5.690, len train loss 0.058, col train loss 162.425\n"
     ]
    },
    {
     "name": "stderr",
     "output_type": "stream",
     "text": [
      "Epoch 307: 2batch [00:00, 15.50batch/s, loss=888]"
     ]
    },
    {
     "name": "stdout",
     "output_type": "stream",
     "text": [
      "epoch 306: avg test  loss 897.42, bar  test loss 5.853, len  test loss 0.038, col  test loss 162.392\n"
     ]
    },
    {
     "name": "stderr",
     "output_type": "stream",
     "text": [
      "Epoch 307: 543batch [00:31, 17.33batch/s, loss=939]    \n"
     ]
    },
    {
     "name": "stdout",
     "output_type": "stream",
     "text": [
      "epoch 307: avg train loss 893.61, bar train loss 5.700, len train loss 0.044, col train loss 162.385\n"
     ]
    },
    {
     "name": "stderr",
     "output_type": "stream",
     "text": [
      "Epoch 308: 2batch [00:00, 17.24batch/s, loss=928]"
     ]
    },
    {
     "name": "stdout",
     "output_type": "stream",
     "text": [
      "epoch 307: avg test  loss 894.99, bar  test loss 5.616, len  test loss 0.049, col  test loss 162.348\n"
     ]
    },
    {
     "name": "stderr",
     "output_type": "stream",
     "text": [
      "Epoch 308: 543batch [00:31, 17.36batch/s, loss=918]    \n"
     ]
    },
    {
     "name": "stdout",
     "output_type": "stream",
     "text": [
      "epoch 308: avg train loss 894.78, bar train loss 5.705, len train loss 0.051, col train loss 162.399\n"
     ]
    },
    {
     "name": "stderr",
     "output_type": "stream",
     "text": [
      "Epoch 309: 2batch [00:00, 17.54batch/s, loss=904]"
     ]
    },
    {
     "name": "stdout",
     "output_type": "stream",
     "text": [
      "epoch 308: avg test  loss 894.36, bar  test loss 5.612, len  test loss 0.060, col  test loss 162.482\n"
     ]
    },
    {
     "name": "stderr",
     "output_type": "stream",
     "text": [
      "Epoch 309: 543batch [00:31, 17.37batch/s, loss=946]    \n"
     ]
    },
    {
     "name": "stdout",
     "output_type": "stream",
     "text": [
      "epoch 309: avg train loss 895.85, bar train loss 5.678, len train loss 0.066, col train loss 162.370\n"
     ]
    },
    {
     "name": "stderr",
     "output_type": "stream",
     "text": [
      "Epoch 310: 2batch [00:00, 18.02batch/s, loss=931]"
     ]
    },
    {
     "name": "stdout",
     "output_type": "stream",
     "text": [
      "epoch 309: avg test  loss 894.17, bar  test loss 5.648, len  test loss 0.058, col  test loss 162.299\n"
     ]
    },
    {
     "name": "stderr",
     "output_type": "stream",
     "text": [
      "Epoch 310: 543batch [00:31, 17.35batch/s, loss=795]    \n"
     ]
    },
    {
     "name": "stdout",
     "output_type": "stream",
     "text": [
      "epoch 310: avg train loss 893.86, bar train loss 5.714, len train loss 0.045, col train loss 162.420\n",
      "epoch 310: avg test  loss 892.88, bar  test loss 5.585, len  test loss 0.043, col  test loss 162.388\n"
     ]
    },
    {
     "name": "stderr",
     "output_type": "stream",
     "text": [
      "Epoch 311: 543batch [00:31, 17.18batch/s, loss=851]\n"
     ]
    },
    {
     "name": "stdout",
     "output_type": "stream",
     "text": [
      "epoch 311: avg train loss 893.37, bar train loss 5.691, len train loss 0.043, col train loss 162.365\n"
     ]
    },
    {
     "name": "stderr",
     "output_type": "stream",
     "text": [
      "Epoch 312: 2batch [00:00, 17.54batch/s, loss=953]"
     ]
    },
    {
     "name": "stdout",
     "output_type": "stream",
     "text": [
      "epoch 311: avg test  loss 896.36, bar  test loss 5.920, len  test loss 0.057, col  test loss 162.472\n"
     ]
    },
    {
     "name": "stderr",
     "output_type": "stream",
     "text": [
      "Epoch 312: 543batch [00:31, 17.34batch/s, loss=904]\n"
     ]
    },
    {
     "name": "stdout",
     "output_type": "stream",
     "text": [
      "epoch 312: avg train loss 893.56, bar train loss 5.687, len train loss 0.043, col train loss 162.403\n"
     ]
    },
    {
     "name": "stderr",
     "output_type": "stream",
     "text": [
      "Epoch 313: 2batch [00:00, 18.02batch/s, loss=880]"
     ]
    },
    {
     "name": "stdout",
     "output_type": "stream",
     "text": [
      "epoch 312: avg test  loss 894.89, bar  test loss 5.823, len  test loss 0.042, col  test loss 162.370\n"
     ]
    },
    {
     "name": "stderr",
     "output_type": "stream",
     "text": [
      "Epoch 313: 543batch [00:31, 17.25batch/s, loss=896]\n"
     ]
    },
    {
     "name": "stdout",
     "output_type": "stream",
     "text": [
      "epoch 313: avg train loss 894.92, bar train loss 5.694, len train loss 0.048, col train loss 162.384\n"
     ]
    },
    {
     "name": "stderr",
     "output_type": "stream",
     "text": [
      "Epoch 314: 2batch [00:00, 18.18batch/s, loss=878]"
     ]
    },
    {
     "name": "stdout",
     "output_type": "stream",
     "text": [
      "epoch 313: avg test  loss 892.13, bar  test loss 5.552, len  test loss 0.042, col  test loss 162.341\n"
     ]
    },
    {
     "name": "stderr",
     "output_type": "stream",
     "text": [
      "Epoch 314: 543batch [00:31, 17.26batch/s, loss=868]\n"
     ]
    },
    {
     "name": "stdout",
     "output_type": "stream",
     "text": [
      "epoch 314: avg train loss 894.08, bar train loss 5.690, len train loss 0.044, col train loss 162.400\n"
     ]
    },
    {
     "name": "stderr",
     "output_type": "stream",
     "text": [
      "Epoch 315: 2batch [00:00, 17.86batch/s, loss=953]"
     ]
    },
    {
     "name": "stdout",
     "output_type": "stream",
     "text": [
      "epoch 314: avg test  loss 895.43, bar  test loss 5.660, len  test loss 0.045, col  test loss 162.421\n"
     ]
    },
    {
     "name": "stderr",
     "output_type": "stream",
     "text": [
      "Epoch 315: 543batch [00:31, 17.25batch/s, loss=925]\n"
     ]
    },
    {
     "name": "stdout",
     "output_type": "stream",
     "text": [
      "epoch 315: avg train loss 895.51, bar train loss 5.746, len train loss 0.047, col train loss 162.427\n",
      "epoch 315: avg test  loss 896.14, bar  test loss 5.646, len  test loss 0.056, col  test loss 162.562\n"
     ]
    },
    {
     "name": "stderr",
     "output_type": "stream",
     "text": [
      "Epoch 316: 543batch [00:32, 16.85batch/s, loss=821]\n"
     ]
    },
    {
     "name": "stdout",
     "output_type": "stream",
     "text": [
      "epoch 316: avg train loss 894.30, bar train loss 5.733, len train loss 0.045, col train loss 162.411\n"
     ]
    },
    {
     "name": "stderr",
     "output_type": "stream",
     "text": [
      "Epoch 317: 2batch [00:00, 17.70batch/s, loss=843]"
     ]
    },
    {
     "name": "stdout",
     "output_type": "stream",
     "text": [
      "epoch 316: avg test  loss 899.51, bar  test loss 5.737, len  test loss 0.045, col  test loss 162.824\n"
     ]
    },
    {
     "name": "stderr",
     "output_type": "stream",
     "text": [
      "Epoch 317: 543batch [00:31, 17.28batch/s, loss=975]\n"
     ]
    },
    {
     "name": "stdout",
     "output_type": "stream",
     "text": [
      "epoch 317: avg train loss 894.04, bar train loss 5.723, len train loss 0.045, col train loss 162.401\n"
     ]
    },
    {
     "name": "stderr",
     "output_type": "stream",
     "text": [
      "Epoch 318: 2batch [00:00, 17.39batch/s, loss=857]"
     ]
    },
    {
     "name": "stdout",
     "output_type": "stream",
     "text": [
      "epoch 317: avg test  loss 896.26, bar  test loss 5.743, len  test loss 0.039, col  test loss 162.288\n"
     ]
    },
    {
     "name": "stderr",
     "output_type": "stream",
     "text": [
      "Epoch 318: 543batch [00:31, 17.24batch/s, loss=883] \n"
     ]
    },
    {
     "name": "stdout",
     "output_type": "stream",
     "text": [
      "epoch 318: avg train loss 894.14, bar train loss 5.724, len train loss 0.043, col train loss 162.415\n"
     ]
    },
    {
     "name": "stderr",
     "output_type": "stream",
     "text": [
      "Epoch 319: 2batch [00:00, 17.54batch/s, loss=925]"
     ]
    },
    {
     "name": "stdout",
     "output_type": "stream",
     "text": [
      "epoch 318: avg test  loss 895.13, bar  test loss 5.629, len  test loss 0.042, col  test loss 162.333\n"
     ]
    },
    {
     "name": "stderr",
     "output_type": "stream",
     "text": [
      "Epoch 319: 543batch [00:31, 17.19batch/s, loss=945]\n"
     ]
    },
    {
     "name": "stdout",
     "output_type": "stream",
     "text": [
      "epoch 319: avg train loss 894.68, bar train loss 5.732, len train loss 0.044, col train loss 162.415\n"
     ]
    },
    {
     "name": "stderr",
     "output_type": "stream",
     "text": [
      "Epoch 320: 2batch [00:00, 17.86batch/s, loss=934]"
     ]
    },
    {
     "name": "stdout",
     "output_type": "stream",
     "text": [
      "epoch 319: avg test  loss 906.07, bar  test loss 5.749, len  test loss 0.038, col  test loss 162.477\n"
     ]
    },
    {
     "name": "stderr",
     "output_type": "stream",
     "text": [
      "Epoch 320: 543batch [00:31, 17.16batch/s, loss=892]   \n"
     ]
    },
    {
     "name": "stdout",
     "output_type": "stream",
     "text": [
      "epoch 320: avg train loss 895.14, bar train loss 5.722, len train loss 0.050, col train loss 162.404\n",
      "epoch 320: avg test  loss 905.19, bar  test loss 5.662, len  test loss 0.041, col  test loss 162.321\n"
     ]
    },
    {
     "name": "stderr",
     "output_type": "stream",
     "text": [
      "Epoch 321: 543batch [00:31, 17.14batch/s, loss=888]    \n"
     ]
    },
    {
     "name": "stdout",
     "output_type": "stream",
     "text": [
      "epoch 321: avg train loss 896.80, bar train loss 5.733, len train loss 0.063, col train loss 162.417\n"
     ]
    },
    {
     "name": "stderr",
     "output_type": "stream",
     "text": [
      "Epoch 322: 2batch [00:00, 15.15batch/s, loss=861]"
     ]
    },
    {
     "name": "stdout",
     "output_type": "stream",
     "text": [
      "epoch 321: avg test  loss 896.67, bar  test loss 5.695, len  test loss 0.045, col  test loss 162.610\n"
     ]
    },
    {
     "name": "stderr",
     "output_type": "stream",
     "text": [
      "Epoch 322: 543batch [00:31, 17.17batch/s, loss=887] \n"
     ]
    },
    {
     "name": "stdout",
     "output_type": "stream",
     "text": [
      "epoch 322: avg train loss 893.96, bar train loss 5.740, len train loss 0.042, col train loss 162.424\n"
     ]
    },
    {
     "name": "stderr",
     "output_type": "stream",
     "text": [
      "Epoch 323: 1batch [00:00,  7.63batch/s, loss=874]"
     ]
    },
    {
     "name": "stdout",
     "output_type": "stream",
     "text": [
      "epoch 322: avg test  loss 896.87, bar  test loss 5.681, len  test loss 0.049, col  test loss 162.504\n"
     ]
    },
    {
     "name": "stderr",
     "output_type": "stream",
     "text": [
      "Epoch 323: 543batch [00:32, 16.52batch/s, loss=848]    \n"
     ]
    },
    {
     "name": "stdout",
     "output_type": "stream",
     "text": [
      "epoch 323: avg train loss 894.19, bar train loss 5.719, len train loss 0.043, col train loss 162.384\n"
     ]
    },
    {
     "name": "stderr",
     "output_type": "stream",
     "text": [
      "Epoch 324: 2batch [00:00, 17.54batch/s, loss=883]"
     ]
    },
    {
     "name": "stdout",
     "output_type": "stream",
     "text": [
      "epoch 323: avg test  loss 896.65, bar  test loss 5.708, len  test loss 0.043, col  test loss 162.514\n"
     ]
    },
    {
     "name": "stderr",
     "output_type": "stream",
     "text": [
      "Epoch 324: 543batch [00:31, 17.13batch/s, loss=927]    \n"
     ]
    },
    {
     "name": "stdout",
     "output_type": "stream",
     "text": [
      "epoch 324: avg train loss 894.03, bar train loss 5.723, len train loss 0.045, col train loss 162.389\n"
     ]
    },
    {
     "name": "stderr",
     "output_type": "stream",
     "text": [
      "Epoch 325: 2batch [00:00, 17.86batch/s, loss=892]"
     ]
    },
    {
     "name": "stdout",
     "output_type": "stream",
     "text": [
      "epoch 324: avg test  loss 898.91, bar  test loss 5.682, len  test loss 0.051, col  test loss 162.440\n"
     ]
    },
    {
     "name": "stderr",
     "output_type": "stream",
     "text": [
      "Epoch 325: 543batch [00:31, 17.12batch/s, loss=891]    \n"
     ]
    },
    {
     "name": "stdout",
     "output_type": "stream",
     "text": [
      "epoch 325: avg train loss 893.89, bar train loss 5.735, len train loss 0.041, col train loss 162.426\n",
      "epoch 325: avg test  loss 892.82, bar  test loss 5.647, len  test loss 0.045, col  test loss 162.347\n"
     ]
    },
    {
     "name": "stderr",
     "output_type": "stream",
     "text": [
      "Epoch 326: 543batch [00:31, 17.11batch/s, loss=866]   \n"
     ]
    },
    {
     "name": "stdout",
     "output_type": "stream",
     "text": [
      "epoch 326: avg train loss 893.96, bar train loss 5.733, len train loss 0.042, col train loss 162.385\n"
     ]
    },
    {
     "name": "stderr",
     "output_type": "stream",
     "text": [
      "Epoch 327: 2batch [00:00, 17.54batch/s, loss=827]"
     ]
    },
    {
     "name": "stdout",
     "output_type": "stream",
     "text": [
      "epoch 326: avg test  loss 895.09, bar  test loss 5.644, len  test loss 0.055, col  test loss 162.265\n"
     ]
    },
    {
     "name": "stderr",
     "output_type": "stream",
     "text": [
      "Epoch 327: 543batch [00:31, 17.07batch/s, loss=880]    \n"
     ]
    },
    {
     "name": "stdout",
     "output_type": "stream",
     "text": [
      "epoch 327: avg train loss 895.86, bar train loss 5.738, len train loss 0.054, col train loss 162.382\n"
     ]
    },
    {
     "name": "stderr",
     "output_type": "stream",
     "text": [
      "Epoch 328: 2batch [00:00, 17.39batch/s, loss=906]"
     ]
    },
    {
     "name": "stdout",
     "output_type": "stream",
     "text": [
      "epoch 327: avg test  loss 902.05, bar  test loss 5.836, len  test loss 0.055, col  test loss 162.393\n"
     ]
    },
    {
     "name": "stderr",
     "output_type": "stream",
     "text": [
      "Epoch 328: 543batch [00:31, 17.12batch/s, loss=875]   \n"
     ]
    },
    {
     "name": "stdout",
     "output_type": "stream",
     "text": [
      "epoch 328: avg train loss 895.61, bar train loss 5.737, len train loss 0.054, col train loss 162.442\n"
     ]
    },
    {
     "name": "stderr",
     "output_type": "stream",
     "text": [
      "Epoch 329: 1batch [00:00,  6.90batch/s, loss=882]"
     ]
    },
    {
     "name": "stdout",
     "output_type": "stream",
     "text": [
      "epoch 328: avg test  loss 899.80, bar  test loss 5.893, len  test loss 0.069, col  test loss 162.475\n"
     ]
    },
    {
     "name": "stderr",
     "output_type": "stream",
     "text": [
      "Epoch 329: 543batch [00:32, 16.84batch/s, loss=928]    \n"
     ]
    },
    {
     "name": "stdout",
     "output_type": "stream",
     "text": [
      "epoch 329: avg train loss 895.69, bar train loss 5.738, len train loss 0.055, col train loss 162.407\n"
     ]
    },
    {
     "name": "stderr",
     "output_type": "stream",
     "text": [
      "Epoch 330: 2batch [00:00, 17.09batch/s, loss=922]"
     ]
    },
    {
     "name": "stdout",
     "output_type": "stream",
     "text": [
      "epoch 329: avg test  loss 902.15, bar  test loss 5.806, len  test loss 0.042, col  test loss 162.566\n"
     ]
    },
    {
     "name": "stderr",
     "output_type": "stream",
     "text": [
      "Epoch 330: 543batch [00:31, 17.10batch/s, loss=862]    \n"
     ]
    },
    {
     "name": "stdout",
     "output_type": "stream",
     "text": [
      "epoch 330: avg train loss 896.22, bar train loss 5.733, len train loss 0.057, col train loss 162.444\n",
      "epoch 330: avg test  loss 903.02, bar  test loss 5.649, len  test loss 0.041, col  test loss 162.180\n"
     ]
    },
    {
     "name": "stderr",
     "output_type": "stream",
     "text": [
      "Epoch 331: 543batch [00:31, 17.08batch/s, loss=829] \n"
     ]
    },
    {
     "name": "stdout",
     "output_type": "stream",
     "text": [
      "epoch 331: avg train loss 894.35, bar train loss 5.704, len train loss 0.044, col train loss 162.403\n"
     ]
    },
    {
     "name": "stderr",
     "output_type": "stream",
     "text": [
      "Epoch 332: 2batch [00:00, 18.18batch/s, loss=834]"
     ]
    },
    {
     "name": "stdout",
     "output_type": "stream",
     "text": [
      "epoch 331: avg test  loss 896.34, bar  test loss 5.673, len  test loss 0.039, col  test loss 162.264\n"
     ]
    },
    {
     "name": "stderr",
     "output_type": "stream",
     "text": [
      "Epoch 332: 543batch [00:32, 16.90batch/s, loss=883]    \n"
     ]
    },
    {
     "name": "stdout",
     "output_type": "stream",
     "text": [
      "epoch 332: avg train loss 895.78, bar train loss 5.721, len train loss 0.059, col train loss 162.443\n"
     ]
    },
    {
     "name": "stderr",
     "output_type": "stream",
     "text": [
      "Epoch 333: 2batch [00:00, 18.02batch/s, loss=883]"
     ]
    },
    {
     "name": "stdout",
     "output_type": "stream",
     "text": [
      "epoch 332: avg test  loss 898.95, bar  test loss 5.854, len  test loss 0.047, col  test loss 162.564\n"
     ]
    },
    {
     "name": "stderr",
     "output_type": "stream",
     "text": [
      "Epoch 333: 543batch [00:31, 16.99batch/s, loss=826]    \n"
     ]
    },
    {
     "name": "stdout",
     "output_type": "stream",
     "text": [
      "epoch 333: avg train loss 895.62, bar train loss 5.718, len train loss 0.058, col train loss 162.379\n"
     ]
    },
    {
     "name": "stderr",
     "output_type": "stream",
     "text": [
      "Epoch 334: 1batch [00:00,  9.26batch/s, loss=877]"
     ]
    },
    {
     "name": "stdout",
     "output_type": "stream",
     "text": [
      "epoch 333: avg test  loss 903.13, bar  test loss 5.721, len  test loss 0.042, col  test loss 162.303\n"
     ]
    },
    {
     "name": "stderr",
     "output_type": "stream",
     "text": [
      "Epoch 334: 543batch [00:31, 17.09batch/s, loss=919]    \n"
     ]
    },
    {
     "name": "stdout",
     "output_type": "stream",
     "text": [
      "epoch 334: avg train loss 897.37, bar train loss 5.738, len train loss 0.068, col train loss 162.417\n"
     ]
    },
    {
     "name": "stderr",
     "output_type": "stream",
     "text": [
      "Epoch 335: 2batch [00:00, 17.39batch/s, loss=898]"
     ]
    },
    {
     "name": "stdout",
     "output_type": "stream",
     "text": [
      "epoch 334: avg test  loss 903.62, bar  test loss 5.828, len  test loss 0.037, col  test loss 162.362\n"
     ]
    },
    {
     "name": "stderr",
     "output_type": "stream",
     "text": [
      "Epoch 335: 543batch [00:31, 17.06batch/s, loss=924]    \n"
     ]
    },
    {
     "name": "stdout",
     "output_type": "stream",
     "text": [
      "epoch 335: avg train loss 894.28, bar train loss 5.718, len train loss 0.044, col train loss 162.388\n",
      "epoch 335: avg test  loss 895.18, bar  test loss 5.534, len  test loss 0.041, col  test loss 162.239\n"
     ]
    },
    {
     "name": "stderr",
     "output_type": "stream",
     "text": [
      "Epoch 336: 543batch [00:31, 17.08batch/s, loss=882]    \n"
     ]
    },
    {
     "name": "stdout",
     "output_type": "stream",
     "text": [
      "epoch 336: avg train loss 894.89, bar train loss 5.741, len train loss 0.050, col train loss 162.378\n"
     ]
    },
    {
     "name": "stderr",
     "output_type": "stream",
     "text": [
      "Epoch 337: 2batch [00:00, 16.81batch/s, loss=846]"
     ]
    },
    {
     "name": "stdout",
     "output_type": "stream",
     "text": [
      "epoch 336: avg test  loss 902.19, bar  test loss 5.695, len  test loss 0.046, col  test loss 162.450\n"
     ]
    },
    {
     "name": "stderr",
     "output_type": "stream",
     "text": [
      "Epoch 337: 543batch [00:34, 15.70batch/s, loss=891]    \n"
     ]
    },
    {
     "name": "stdout",
     "output_type": "stream",
     "text": [
      "epoch 337: avg train loss 894.36, bar train loss 5.709, len train loss 0.045, col train loss 162.358\n"
     ]
    },
    {
     "name": "stderr",
     "output_type": "stream",
     "text": [
      "Epoch 338: 2batch [00:00, 17.24batch/s, loss=903]"
     ]
    },
    {
     "name": "stdout",
     "output_type": "stream",
     "text": [
      "epoch 337: avg test  loss 903.81, bar  test loss 5.706, len  test loss 0.039, col  test loss 162.285\n"
     ]
    },
    {
     "name": "stderr",
     "output_type": "stream",
     "text": [
      "Epoch 338: 543batch [00:31, 17.09batch/s, loss=839]   \n"
     ]
    },
    {
     "name": "stdout",
     "output_type": "stream",
     "text": [
      "epoch 338: avg train loss 895.64, bar train loss 5.721, len train loss 0.056, col train loss 162.401\n"
     ]
    },
    {
     "name": "stderr",
     "output_type": "stream",
     "text": [
      "Epoch 339: 2batch [00:00, 16.53batch/s, loss=887]"
     ]
    },
    {
     "name": "stdout",
     "output_type": "stream",
     "text": [
      "epoch 338: avg test  loss 901.35, bar  test loss 5.688, len  test loss 0.042, col  test loss 162.230\n"
     ]
    },
    {
     "name": "stderr",
     "output_type": "stream",
     "text": [
      "Epoch 339: 543batch [00:31, 17.08batch/s, loss=976]    \n"
     ]
    },
    {
     "name": "stdout",
     "output_type": "stream",
     "text": [
      "epoch 339: avg train loss 895.30, bar train loss 5.742, len train loss 0.050, col train loss 162.411\n"
     ]
    },
    {
     "name": "stderr",
     "output_type": "stream",
     "text": [
      "Epoch 340: 2batch [00:00, 17.24batch/s, loss=864]"
     ]
    },
    {
     "name": "stdout",
     "output_type": "stream",
     "text": [
      "epoch 339: avg test  loss 906.01, bar  test loss 5.603, len  test loss 0.040, col  test loss 162.362\n"
     ]
    },
    {
     "name": "stderr",
     "output_type": "stream",
     "text": [
      "Epoch 340: 543batch [00:32, 16.93batch/s, loss=887]    \n"
     ]
    },
    {
     "name": "stdout",
     "output_type": "stream",
     "text": [
      "epoch 340: avg train loss 893.80, bar train loss 5.705, len train loss 0.043, col train loss 162.377\n",
      "epoch 340: avg test  loss 933.04, bar  test loss 5.709, len  test loss 0.074, col  test loss 162.434\n"
     ]
    },
    {
     "name": "stderr",
     "output_type": "stream",
     "text": [
      "Epoch 341: 543batch [00:32, 16.94batch/s, loss=877]  \n"
     ]
    },
    {
     "name": "stdout",
     "output_type": "stream",
     "text": [
      "epoch 341: avg train loss 895.40, bar train loss 5.726, len train loss 0.051, col train loss 162.458\n"
     ]
    },
    {
     "name": "stderr",
     "output_type": "stream",
     "text": [
      "Epoch 342: 2batch [00:00, 17.70batch/s, loss=894]"
     ]
    },
    {
     "name": "stdout",
     "output_type": "stream",
     "text": [
      "epoch 341: avg test  loss 926.17, bar  test loss 5.911, len  test loss 0.071, col  test loss 162.586\n"
     ]
    },
    {
     "name": "stderr",
     "output_type": "stream",
     "text": [
      "Epoch 342: 543batch [00:31, 17.09batch/s, loss=965]    \n"
     ]
    },
    {
     "name": "stdout",
     "output_type": "stream",
     "text": [
      "epoch 342: avg train loss 895.44, bar train loss 5.725, len train loss 0.051, col train loss 162.453\n"
     ]
    },
    {
     "name": "stderr",
     "output_type": "stream",
     "text": [
      "Epoch 343: 2batch [00:00, 16.81batch/s, loss=911]"
     ]
    },
    {
     "name": "stdout",
     "output_type": "stream",
     "text": [
      "epoch 342: avg test  loss 922.07, bar  test loss 5.920, len  test loss 0.056, col  test loss 162.241\n"
     ]
    },
    {
     "name": "stderr",
     "output_type": "stream",
     "text": [
      "Epoch 343: 543batch [00:31, 17.05batch/s, loss=911]    \n"
     ]
    },
    {
     "name": "stdout",
     "output_type": "stream",
     "text": [
      "epoch 343: avg train loss 895.29, bar train loss 5.737, len train loss 0.052, col train loss 162.436\n"
     ]
    },
    {
     "name": "stderr",
     "output_type": "stream",
     "text": [
      "Epoch 344: 2batch [00:00, 16.95batch/s, loss=891]"
     ]
    },
    {
     "name": "stdout",
     "output_type": "stream",
     "text": [
      "epoch 343: avg test  loss 925.73, bar  test loss 5.839, len  test loss 0.052, col  test loss 162.280\n"
     ]
    },
    {
     "name": "stderr",
     "output_type": "stream",
     "text": [
      "Epoch 344: 543batch [00:33, 16.43batch/s, loss=933]\n"
     ]
    },
    {
     "name": "stdout",
     "output_type": "stream",
     "text": [
      "epoch 344: avg train loss 894.41, bar train loss 5.703, len train loss 0.043, col train loss 162.445\n"
     ]
    },
    {
     "name": "stderr",
     "output_type": "stream",
     "text": [
      "Epoch 345: 2batch [00:00, 17.24batch/s, loss=896]"
     ]
    },
    {
     "name": "stdout",
     "output_type": "stream",
     "text": [
      "epoch 344: avg test  loss 912.83, bar  test loss 5.665, len  test loss 0.071, col  test loss 162.497\n"
     ]
    },
    {
     "name": "stderr",
     "output_type": "stream",
     "text": [
      "Epoch 345: 543batch [00:32, 16.90batch/s, loss=863]\n"
     ]
    },
    {
     "name": "stdout",
     "output_type": "stream",
     "text": [
      "epoch 345: avg train loss 894.17, bar train loss 5.726, len train loss 0.042, col train loss 162.398\n",
      "epoch 345: avg test  loss 918.75, bar  test loss 5.827, len  test loss 0.050, col  test loss 162.139\n"
     ]
    },
    {
     "name": "stderr",
     "output_type": "stream",
     "text": [
      "Epoch 346: 543batch [00:32, 16.75batch/s, loss=891]\n"
     ]
    },
    {
     "name": "stdout",
     "output_type": "stream",
     "text": [
      "epoch 346: avg train loss 894.12, bar train loss 5.715, len train loss 0.043, col train loss 162.422\n"
     ]
    },
    {
     "name": "stderr",
     "output_type": "stream",
     "text": [
      "Epoch 347: 2batch [00:00, 17.39batch/s, loss=949]"
     ]
    },
    {
     "name": "stdout",
     "output_type": "stream",
     "text": [
      "epoch 346: avg test  loss 935.53, bar  test loss 5.824, len  test loss 0.084, col  test loss 162.390\n"
     ]
    },
    {
     "name": "stderr",
     "output_type": "stream",
     "text": [
      "Epoch 347: 543batch [00:32, 16.88batch/s, loss=952]    \n"
     ]
    },
    {
     "name": "stdout",
     "output_type": "stream",
     "text": [
      "epoch 347: avg train loss 895.32, bar train loss 5.702, len train loss 0.055, col train loss 162.403\n"
     ]
    },
    {
     "name": "stderr",
     "output_type": "stream",
     "text": [
      "Epoch 348: 2batch [00:00, 17.54batch/s, loss=839]"
     ]
    },
    {
     "name": "stdout",
     "output_type": "stream",
     "text": [
      "epoch 347: avg test  loss 932.28, bar  test loss 5.740, len  test loss 0.041, col  test loss 162.262\n"
     ]
    },
    {
     "name": "stderr",
     "output_type": "stream",
     "text": [
      "Epoch 348: 543batch [00:31, 16.98batch/s, loss=929]    \n"
     ]
    },
    {
     "name": "stdout",
     "output_type": "stream",
     "text": [
      "epoch 348: avg train loss 895.49, bar train loss 5.723, len train loss 0.050, col train loss 162.382\n"
     ]
    },
    {
     "name": "stderr",
     "output_type": "stream",
     "text": [
      "Epoch 349: 2batch [00:00, 16.81batch/s, loss=945]"
     ]
    },
    {
     "name": "stdout",
     "output_type": "stream",
     "text": [
      "epoch 348: avg test  loss 925.44, bar  test loss 5.594, len  test loss 0.036, col  test loss 162.448\n"
     ]
    },
    {
     "name": "stderr",
     "output_type": "stream",
     "text": [
      "Epoch 349: 543batch [00:31, 16.99batch/s, loss=2.6e+3]\n"
     ]
    },
    {
     "name": "stdout",
     "output_type": "stream",
     "text": [
      "epoch 349: avg train loss 896.73, bar train loss 5.721, len train loss 0.065, col train loss 162.411\n"
     ]
    },
    {
     "name": "stderr",
     "output_type": "stream",
     "text": [
      "Epoch 350: 2batch [00:00, 17.70batch/s, loss=917]"
     ]
    },
    {
     "name": "stdout",
     "output_type": "stream",
     "text": [
      "epoch 349: avg test  loss 943.08, bar  test loss 5.885, len  test loss 0.253, col  test loss 162.420\n"
     ]
    },
    {
     "name": "stderr",
     "output_type": "stream",
     "text": [
      "Epoch 350: 543batch [00:32, 16.95batch/s, loss=925]   \n"
     ]
    },
    {
     "name": "stdout",
     "output_type": "stream",
     "text": [
      "epoch 350: avg train loss 894.17, bar train loss 5.728, len train loss 0.042, col train loss 162.427\n",
      "epoch 350: avg test  loss 920.91, bar  test loss 5.705, len  test loss 0.037, col  test loss 162.600\n"
     ]
    },
    {
     "name": "stderr",
     "output_type": "stream",
     "text": [
      "Epoch 351: 543batch [00:32, 16.85batch/s, loss=883]   \n"
     ]
    },
    {
     "name": "stdout",
     "output_type": "stream",
     "text": [
      "epoch 351: avg train loss 895.46, bar train loss 5.741, len train loss 0.051, col train loss 162.435\n"
     ]
    },
    {
     "name": "stderr",
     "output_type": "stream",
     "text": [
      "Epoch 352: 2batch [00:00, 17.54batch/s, loss=874]"
     ]
    },
    {
     "name": "stdout",
     "output_type": "stream",
     "text": [
      "epoch 351: avg test  loss 951.46, bar  test loss 5.776, len  test loss 0.128, col  test loss 162.340\n"
     ]
    },
    {
     "name": "stderr",
     "output_type": "stream",
     "text": [
      "Epoch 352: 543batch [00:32, 16.89batch/s, loss=823]    \n"
     ]
    },
    {
     "name": "stdout",
     "output_type": "stream",
     "text": [
      "epoch 352: avg train loss 894.84, bar train loss 5.720, len train loss 0.046, col train loss 162.451\n"
     ]
    },
    {
     "name": "stderr",
     "output_type": "stream",
     "text": [
      "Epoch 353: 2batch [00:00, 17.09batch/s, loss=874]"
     ]
    },
    {
     "name": "stdout",
     "output_type": "stream",
     "text": [
      "epoch 352: avg test  loss 922.14, bar  test loss 5.721, len  test loss 0.111, col  test loss 162.209\n"
     ]
    },
    {
     "name": "stderr",
     "output_type": "stream",
     "text": [
      "Epoch 353: 543batch [00:32, 16.66batch/s, loss=895]\n"
     ]
    },
    {
     "name": "stdout",
     "output_type": "stream",
     "text": [
      "epoch 353: avg train loss 894.94, bar train loss 5.739, len train loss 0.045, col train loss 162.421\n"
     ]
    },
    {
     "name": "stderr",
     "output_type": "stream",
     "text": [
      "Epoch 354: 2batch [00:00, 17.24batch/s, loss=914]"
     ]
    },
    {
     "name": "stdout",
     "output_type": "stream",
     "text": [
      "epoch 353: avg test  loss 939.55, bar  test loss 5.834, len  test loss 0.084, col  test loss 162.287\n"
     ]
    },
    {
     "name": "stderr",
     "output_type": "stream",
     "text": [
      "Epoch 354: 543batch [00:32, 16.58batch/s, loss=894]    \n"
     ]
    },
    {
     "name": "stdout",
     "output_type": "stream",
     "text": [
      "epoch 354: avg train loss 894.82, bar train loss 5.737, len train loss 0.045, col train loss 162.405\n"
     ]
    },
    {
     "name": "stderr",
     "output_type": "stream",
     "text": [
      "Epoch 355: 2batch [00:00, 17.24batch/s, loss=921]"
     ]
    },
    {
     "name": "stdout",
     "output_type": "stream",
     "text": [
      "epoch 354: avg test  loss 946.39, bar  test loss 5.667, len  test loss 0.242, col  test loss 162.439\n"
     ]
    },
    {
     "name": "stderr",
     "output_type": "stream",
     "text": [
      "Epoch 355: 543batch [00:32, 16.87batch/s, loss=929]    \n"
     ]
    },
    {
     "name": "stdout",
     "output_type": "stream",
     "text": [
      "epoch 355: avg train loss 897.85, bar train loss 5.744, len train loss 0.070, col train loss 162.404\n",
      "epoch 355: avg test  loss 914.76, bar  test loss 5.666, len  test loss 0.042, col  test loss 162.398\n"
     ]
    },
    {
     "name": "stderr",
     "output_type": "stream",
     "text": [
      "Epoch 356: 543batch [00:32, 16.85batch/s, loss=909]    \n"
     ]
    },
    {
     "name": "stdout",
     "output_type": "stream",
     "text": [
      "epoch 356: avg train loss 896.88, bar train loss 5.761, len train loss 0.059, col train loss 162.437\n"
     ]
    },
    {
     "name": "stderr",
     "output_type": "stream",
     "text": [
      "Epoch 357: 2batch [00:00, 17.24batch/s, loss=857]"
     ]
    },
    {
     "name": "stdout",
     "output_type": "stream",
     "text": [
      "epoch 356: avg test  loss 922.20, bar  test loss 5.533, len  test loss 0.036, col  test loss 162.268\n"
     ]
    },
    {
     "name": "stderr",
     "output_type": "stream",
     "text": [
      "Epoch 357: 543batch [00:32, 16.84batch/s, loss=877]    \n"
     ]
    },
    {
     "name": "stdout",
     "output_type": "stream",
     "text": [
      "epoch 357: avg train loss 895.94, bar train loss 5.751, len train loss 0.055, col train loss 162.396\n"
     ]
    },
    {
     "name": "stderr",
     "output_type": "stream",
     "text": [
      "Epoch 358: 2batch [00:00, 17.24batch/s, loss=888]"
     ]
    },
    {
     "name": "stdout",
     "output_type": "stream",
     "text": [
      "epoch 357: avg test  loss 919.64, bar  test loss 5.653, len  test loss 0.038, col  test loss 162.553\n"
     ]
    },
    {
     "name": "stderr",
     "output_type": "stream",
     "text": [
      "Epoch 358: 543batch [00:32, 16.82batch/s, loss=902]    \n"
     ]
    },
    {
     "name": "stdout",
     "output_type": "stream",
     "text": [
      "epoch 358: avg train loss 896.07, bar train loss 5.722, len train loss 0.054, col train loss 162.407\n"
     ]
    },
    {
     "name": "stderr",
     "output_type": "stream",
     "text": [
      "Epoch 359: 2batch [00:00, 17.09batch/s, loss=879]"
     ]
    },
    {
     "name": "stdout",
     "output_type": "stream",
     "text": [
      "epoch 358: avg test  loss 929.89, bar  test loss 5.678, len  test loss 0.092, col  test loss 162.394\n"
     ]
    },
    {
     "name": "stderr",
     "output_type": "stream",
     "text": [
      "Epoch 359: 543batch [00:32, 16.82batch/s, loss=848]    \n"
     ]
    },
    {
     "name": "stdout",
     "output_type": "stream",
     "text": [
      "epoch 359: avg train loss 894.89, bar train loss 5.711, len train loss 0.048, col train loss 162.408\n"
     ]
    },
    {
     "name": "stderr",
     "output_type": "stream",
     "text": [
      "Epoch 360: 2batch [00:00, 17.39batch/s, loss=862]"
     ]
    },
    {
     "name": "stdout",
     "output_type": "stream",
     "text": [
      "epoch 359: avg test  loss 911.36, bar  test loss 5.669, len  test loss 0.036, col  test loss 162.593\n"
     ]
    },
    {
     "name": "stderr",
     "output_type": "stream",
     "text": [
      "Epoch 360: 543batch [00:32, 16.76batch/s, loss=872]\n"
     ]
    },
    {
     "name": "stdout",
     "output_type": "stream",
     "text": [
      "epoch 360: avg train loss 894.12, bar train loss 5.712, len train loss 0.042, col train loss 162.384\n",
      "epoch 360: avg test  loss 948.31, bar  test loss 5.821, len  test loss 0.146, col  test loss 162.586\n"
     ]
    },
    {
     "name": "stderr",
     "output_type": "stream",
     "text": [
      "Epoch 361: 543batch [00:32, 16.72batch/s, loss=885]\n"
     ]
    },
    {
     "name": "stdout",
     "output_type": "stream",
     "text": [
      "epoch 361: avg train loss 894.48, bar train loss 5.719, len train loss 0.044, col train loss 162.389\n"
     ]
    },
    {
     "name": "stderr",
     "output_type": "stream",
     "text": [
      "Epoch 362: 2batch [00:00, 16.53batch/s, loss=954]"
     ]
    },
    {
     "name": "stdout",
     "output_type": "stream",
     "text": [
      "epoch 361: avg test  loss 924.77, bar  test loss 5.848, len  test loss 0.036, col  test loss 162.422\n"
     ]
    },
    {
     "name": "stderr",
     "output_type": "stream",
     "text": [
      "Epoch 362: 543batch [00:32, 16.74batch/s, loss=929]    \n"
     ]
    },
    {
     "name": "stdout",
     "output_type": "stream",
     "text": [
      "epoch 362: avg train loss 894.29, bar train loss 5.717, len train loss 0.044, col train loss 162.421\n"
     ]
    },
    {
     "name": "stderr",
     "output_type": "stream",
     "text": [
      "Epoch 363: 2batch [00:00, 17.54batch/s, loss=971]"
     ]
    },
    {
     "name": "stdout",
     "output_type": "stream",
     "text": [
      "epoch 362: avg test  loss 945.43, bar  test loss 6.025, len  test loss 0.050, col  test loss 163.217\n"
     ]
    },
    {
     "name": "stderr",
     "output_type": "stream",
     "text": [
      "Epoch 363: 543batch [00:32, 16.72batch/s, loss=1.02e+3]\n"
     ]
    },
    {
     "name": "stdout",
     "output_type": "stream",
     "text": [
      "epoch 363: avg train loss 894.45, bar train loss 5.744, len train loss 0.042, col train loss 162.422\n"
     ]
    },
    {
     "name": "stderr",
     "output_type": "stream",
     "text": [
      "Epoch 364: 2batch [00:00, 17.54batch/s, loss=883]"
     ]
    },
    {
     "name": "stdout",
     "output_type": "stream",
     "text": [
      "epoch 363: avg test  loss 959.48, bar  test loss 5.651, len  test loss 0.184, col  test loss 162.533\n"
     ]
    },
    {
     "name": "stderr",
     "output_type": "stream",
     "text": [
      "Epoch 364: 543batch [00:32, 16.69batch/s, loss=893]\n"
     ]
    },
    {
     "name": "stdout",
     "output_type": "stream",
     "text": [
      "epoch 364: avg train loss 894.13, bar train loss 5.707, len train loss 0.042, col train loss 162.429\n"
     ]
    },
    {
     "name": "stderr",
     "output_type": "stream",
     "text": [
      "Epoch 365: 2batch [00:00, 16.95batch/s, loss=941]"
     ]
    },
    {
     "name": "stdout",
     "output_type": "stream",
     "text": [
      "epoch 364: avg test  loss 949.11, bar  test loss 5.706, len  test loss 0.060, col  test loss 162.325\n"
     ]
    },
    {
     "name": "stderr",
     "output_type": "stream",
     "text": [
      "Epoch 365: 543batch [00:32, 16.63batch/s, loss=1.14e+3]\n"
     ]
    },
    {
     "name": "stdout",
     "output_type": "stream",
     "text": [
      "epoch 365: avg train loss 897.15, bar train loss 5.738, len train loss 0.062, col train loss 162.415\n",
      "epoch 365: avg test  loss 927.38, bar  test loss 5.680, len  test loss 0.072, col  test loss 162.504\n"
     ]
    },
    {
     "name": "stderr",
     "output_type": "stream",
     "text": [
      "Epoch 366: 543batch [00:32, 16.65batch/s, loss=950]    \n"
     ]
    },
    {
     "name": "stdout",
     "output_type": "stream",
     "text": [
      "epoch 366: avg train loss 897.27, bar train loss 5.728, len train loss 0.064, col train loss 162.412\n"
     ]
    },
    {
     "name": "stderr",
     "output_type": "stream",
     "text": [
      "Epoch 367: 2batch [00:00, 17.39batch/s, loss=926]"
     ]
    },
    {
     "name": "stdout",
     "output_type": "stream",
     "text": [
      "epoch 366: avg test  loss 931.79, bar  test loss 5.780, len  test loss 0.048, col  test loss 162.584\n"
     ]
    },
    {
     "name": "stderr",
     "output_type": "stream",
     "text": [
      "Epoch 367: 543batch [00:32, 16.64batch/s, loss=981]\n"
     ]
    },
    {
     "name": "stdout",
     "output_type": "stream",
     "text": [
      "epoch 367: avg train loss 894.45, bar train loss 5.727, len train loss 0.044, col train loss 162.400\n"
     ]
    },
    {
     "name": "stderr",
     "output_type": "stream",
     "text": [
      "Epoch 368: 2batch [00:00, 17.09batch/s, loss=962]"
     ]
    },
    {
     "name": "stdout",
     "output_type": "stream",
     "text": [
      "epoch 367: avg test  loss 946.04, bar  test loss 5.839, len  test loss 0.055, col  test loss 162.842\n"
     ]
    },
    {
     "name": "stderr",
     "output_type": "stream",
     "text": [
      "Epoch 368: 543batch [00:32, 16.53batch/s, loss=896]    \n"
     ]
    },
    {
     "name": "stdout",
     "output_type": "stream",
     "text": [
      "epoch 368: avg train loss 896.23, bar train loss 5.744, len train loss 0.055, col train loss 162.366\n"
     ]
    },
    {
     "name": "stderr",
     "output_type": "stream",
     "text": [
      "\r",
      "Epoch 369: 0batch [00:00, ?batch/s]"
     ]
    },
    {
     "name": "stdout",
     "output_type": "stream",
     "text": [
      "epoch 368: avg test  loss 922.36, bar  test loss 5.795, len  test loss 0.050, col  test loss 162.284\n"
     ]
    },
    {
     "name": "stderr",
     "output_type": "stream",
     "text": [
      "Epoch 369: 543batch [00:32, 16.47batch/s, loss=937]    \n"
     ]
    },
    {
     "name": "stdout",
     "output_type": "stream",
     "text": [
      "epoch 369: avg train loss 896.76, bar train loss 5.752, len train loss 0.058, col train loss 162.426\n"
     ]
    },
    {
     "name": "stderr",
     "output_type": "stream",
     "text": [
      "Epoch 370: 2batch [00:00, 16.95batch/s, loss=880]"
     ]
    },
    {
     "name": "stdout",
     "output_type": "stream",
     "text": [
      "epoch 369: avg test  loss 923.19, bar  test loss 5.782, len  test loss 0.054, col  test loss 162.547\n"
     ]
    },
    {
     "name": "stderr",
     "output_type": "stream",
     "text": [
      "Epoch 370: 543batch [00:32, 16.56batch/s, loss=978]   \n"
     ]
    },
    {
     "name": "stdout",
     "output_type": "stream",
     "text": [
      "epoch 370: avg train loss 894.72, bar train loss 5.723, len train loss 0.046, col train loss 162.405\n",
      "epoch 370: avg test  loss 932.98, bar  test loss 5.544, len  test loss 0.061, col  test loss 162.423\n"
     ]
    },
    {
     "name": "stderr",
     "output_type": "stream",
     "text": [
      "Epoch 371: 543batch [00:32, 16.52batch/s, loss=882]\n"
     ]
    },
    {
     "name": "stdout",
     "output_type": "stream",
     "text": [
      "epoch 371: avg train loss 894.25, bar train loss 5.722, len train loss 0.043, col train loss 162.379\n"
     ]
    },
    {
     "name": "stderr",
     "output_type": "stream",
     "text": [
      "Epoch 372: 2batch [00:00, 17.24batch/s, loss=928]"
     ]
    },
    {
     "name": "stdout",
     "output_type": "stream",
     "text": [
      "epoch 371: avg test  loss 942.83, bar  test loss 5.685, len  test loss 0.038, col  test loss 162.409\n"
     ]
    },
    {
     "name": "stderr",
     "output_type": "stream",
     "text": [
      "Epoch 372: 543batch [00:32, 16.57batch/s, loss=835]\n"
     ]
    },
    {
     "name": "stdout",
     "output_type": "stream",
     "text": [
      "epoch 372: avg train loss 894.39, bar train loss 5.727, len train loss 0.042, col train loss 162.420\n"
     ]
    },
    {
     "name": "stderr",
     "output_type": "stream",
     "text": [
      "Epoch 373: 2batch [00:00, 17.70batch/s, loss=903]"
     ]
    },
    {
     "name": "stdout",
     "output_type": "stream",
     "text": [
      "epoch 372: avg test  loss 961.52, bar  test loss 5.787, len  test loss 0.044, col  test loss 162.327\n"
     ]
    },
    {
     "name": "stderr",
     "output_type": "stream",
     "text": [
      "Epoch 373: 543batch [00:32, 16.53batch/s, loss=953]    \n"
     ]
    },
    {
     "name": "stdout",
     "output_type": "stream",
     "text": [
      "epoch 373: avg train loss 894.94, bar train loss 5.715, len train loss 0.046, col train loss 162.421\n"
     ]
    },
    {
     "name": "stderr",
     "output_type": "stream",
     "text": [
      "Epoch 374: 2batch [00:00, 17.24batch/s, loss=892]"
     ]
    },
    {
     "name": "stdout",
     "output_type": "stream",
     "text": [
      "epoch 373: avg test  loss 949.65, bar  test loss 5.697, len  test loss 0.040, col  test loss 162.446\n"
     ]
    },
    {
     "name": "stderr",
     "output_type": "stream",
     "text": [
      "Epoch 374: 543batch [00:32, 16.49batch/s, loss=910]\n"
     ]
    },
    {
     "name": "stdout",
     "output_type": "stream",
     "text": [
      "epoch 374: avg train loss 894.56, bar train loss 5.715, len train loss 0.043, col train loss 162.387\n"
     ]
    },
    {
     "name": "stderr",
     "output_type": "stream",
     "text": [
      "Epoch 375: 2batch [00:00, 17.86batch/s, loss=869]"
     ]
    },
    {
     "name": "stdout",
     "output_type": "stream",
     "text": [
      "epoch 374: avg test  loss 918.70, bar  test loss 5.795, len  test loss 0.047, col  test loss 162.844\n"
     ]
    },
    {
     "name": "stderr",
     "output_type": "stream",
     "text": [
      "Epoch 375: 543batch [00:32, 16.47batch/s, loss=889]\n"
     ]
    },
    {
     "name": "stdout",
     "output_type": "stream",
     "text": [
      "epoch 375: avg train loss 894.83, bar train loss 5.740, len train loss 0.042, col train loss 162.398\n",
      "epoch 375: avg test  loss 925.07, bar  test loss 5.662, len  test loss 0.048, col  test loss 162.309\n"
     ]
    },
    {
     "name": "stderr",
     "output_type": "stream",
     "text": [
      "Epoch 376: 543batch [00:33, 16.41batch/s, loss=891]    \n"
     ]
    },
    {
     "name": "stdout",
     "output_type": "stream",
     "text": [
      "epoch 376: avg train loss 896.22, bar train loss 5.734, len train loss 0.053, col train loss 162.453\n"
     ]
    },
    {
     "name": "stderr",
     "output_type": "stream",
     "text": [
      "Epoch 377: 2batch [00:00, 17.09batch/s, loss=840]"
     ]
    },
    {
     "name": "stdout",
     "output_type": "stream",
     "text": [
      "epoch 376: avg test  loss 930.99, bar  test loss 5.584, len  test loss 0.058, col  test loss 162.497\n"
     ]
    },
    {
     "name": "stderr",
     "output_type": "stream",
     "text": [
      "Epoch 377: 543batch [00:33, 16.38batch/s, loss=861]    \n"
     ]
    },
    {
     "name": "stdout",
     "output_type": "stream",
     "text": [
      "epoch 377: avg train loss 896.94, bar train loss 5.747, len train loss 0.060, col train loss 162.453\n"
     ]
    },
    {
     "name": "stderr",
     "output_type": "stream",
     "text": [
      "Epoch 378: 2batch [00:00, 16.95batch/s, loss=888]"
     ]
    },
    {
     "name": "stdout",
     "output_type": "stream",
     "text": [
      "epoch 377: avg test  loss 922.93, bar  test loss 5.714, len  test loss 0.052, col  test loss 162.432\n"
     ]
    },
    {
     "name": "stderr",
     "output_type": "stream",
     "text": [
      "Epoch 378: 543batch [00:33, 16.43batch/s, loss=856]    \n"
     ]
    },
    {
     "name": "stdout",
     "output_type": "stream",
     "text": [
      "epoch 378: avg train loss 896.35, bar train loss 5.728, len train loss 0.055, col train loss 162.453\n"
     ]
    },
    {
     "name": "stderr",
     "output_type": "stream",
     "text": [
      "Epoch 379: 2batch [00:00, 16.67batch/s, loss=894]"
     ]
    },
    {
     "name": "stdout",
     "output_type": "stream",
     "text": [
      "epoch 378: avg test  loss 933.38, bar  test loss 5.672, len  test loss 0.041, col  test loss 162.359\n"
     ]
    },
    {
     "name": "stderr",
     "output_type": "stream",
     "text": [
      "Epoch 379: 543batch [00:33, 16.37batch/s, loss=913]    \n"
     ]
    },
    {
     "name": "stdout",
     "output_type": "stream",
     "text": [
      "epoch 379: avg train loss 894.17, bar train loss 5.720, len train loss 0.041, col train loss 162.420\n"
     ]
    },
    {
     "name": "stderr",
     "output_type": "stream",
     "text": [
      "Epoch 380: 2batch [00:00, 16.67batch/s, loss=839]"
     ]
    },
    {
     "name": "stdout",
     "output_type": "stream",
     "text": [
      "epoch 379: avg test  loss 941.73, bar  test loss 5.686, len  test loss 0.047, col  test loss 162.367\n"
     ]
    },
    {
     "name": "stderr",
     "output_type": "stream",
     "text": [
      "Epoch 380: 543batch [00:33, 16.36batch/s, loss=916]    \n"
     ]
    },
    {
     "name": "stdout",
     "output_type": "stream",
     "text": [
      "epoch 380: avg train loss 895.68, bar train loss 5.747, len train loss 0.048, col train loss 162.434\n",
      "epoch 380: avg test  loss 941.29, bar  test loss 5.705, len  test loss 0.053, col  test loss 162.555\n"
     ]
    },
    {
     "name": "stderr",
     "output_type": "stream",
     "text": [
      "Epoch 381: 543batch [00:33, 16.36batch/s, loss=893]    \n"
     ]
    },
    {
     "name": "stdout",
     "output_type": "stream",
     "text": [
      "epoch 381: avg train loss 897.56, bar train loss 5.732, len train loss 0.065, col train loss 162.417\n"
     ]
    },
    {
     "name": "stderr",
     "output_type": "stream",
     "text": [
      "Epoch 382: 2batch [00:00, 16.81batch/s, loss=893]"
     ]
    },
    {
     "name": "stdout",
     "output_type": "stream",
     "text": [
      "epoch 381: avg test  loss 933.47, bar  test loss 5.703, len  test loss 0.053, col  test loss 162.356\n"
     ]
    },
    {
     "name": "stderr",
     "output_type": "stream",
     "text": [
      "Epoch 382: 543batch [00:33, 16.28batch/s, loss=873]    \n"
     ]
    },
    {
     "name": "stdout",
     "output_type": "stream",
     "text": [
      "epoch 382: avg train loss 897.08, bar train loss 5.744, len train loss 0.060, col train loss 162.441\n"
     ]
    },
    {
     "name": "stderr",
     "output_type": "stream",
     "text": [
      "Epoch 383: 2batch [00:00, 16.95batch/s, loss=884]"
     ]
    },
    {
     "name": "stdout",
     "output_type": "stream",
     "text": [
      "epoch 382: avg test  loss 924.44, bar  test loss 5.673, len  test loss 0.051, col  test loss 162.583\n"
     ]
    },
    {
     "name": "stderr",
     "output_type": "stream",
     "text": [
      "Epoch 383: 543batch [00:33, 16.14batch/s, loss=857]    \n"
     ]
    },
    {
     "name": "stdout",
     "output_type": "stream",
     "text": [
      "epoch 383: avg train loss 896.30, bar train loss 5.755, len train loss 0.053, col train loss 162.387\n"
     ]
    },
    {
     "name": "stderr",
     "output_type": "stream",
     "text": [
      "Epoch 384: 2batch [00:00, 17.24batch/s, loss=873]"
     ]
    },
    {
     "name": "stdout",
     "output_type": "stream",
     "text": [
      "epoch 383: avg test  loss 950.26, bar  test loss 5.783, len  test loss 0.053, col  test loss 162.410\n"
     ]
    },
    {
     "name": "stderr",
     "output_type": "stream",
     "text": [
      "Epoch 384: 543batch [00:33, 16.30batch/s, loss=964]    \n"
     ]
    },
    {
     "name": "stdout",
     "output_type": "stream",
     "text": [
      "epoch 384: avg train loss 895.58, bar train loss 5.743, len train loss 0.049, col train loss 162.403\n"
     ]
    },
    {
     "name": "stderr",
     "output_type": "stream",
     "text": [
      "Epoch 385: 2batch [00:00, 17.39batch/s, loss=962]"
     ]
    },
    {
     "name": "stdout",
     "output_type": "stream",
     "text": [
      "epoch 384: avg test  loss 993.62, bar  test loss 6.306, len  test loss 0.507, col  test loss 163.221\n"
     ]
    },
    {
     "name": "stderr",
     "output_type": "stream",
     "text": [
      "Epoch 385: 543batch [00:33, 16.26batch/s, loss=946]    \n"
     ]
    },
    {
     "name": "stdout",
     "output_type": "stream",
     "text": [
      "epoch 385: avg train loss 897.99, bar train loss 5.764, len train loss 0.066, col train loss 162.445\n",
      "epoch 385: avg test  loss 966.20, bar  test loss 5.785, len  test loss 0.046, col  test loss 162.682\n"
     ]
    },
    {
     "name": "stderr",
     "output_type": "stream",
     "text": [
      "Epoch 386: 543batch [00:33, 16.22batch/s, loss=857]    \n"
     ]
    },
    {
     "name": "stdout",
     "output_type": "stream",
     "text": [
      "epoch 386: avg train loss 895.68, bar train loss 5.748, len train loss 0.050, col train loss 162.454\n"
     ]
    },
    {
     "name": "stderr",
     "output_type": "stream",
     "text": [
      "Epoch 387: 2batch [00:00, 17.09batch/s, loss=916]"
     ]
    },
    {
     "name": "stdout",
     "output_type": "stream",
     "text": [
      "epoch 386: avg test  loss 966.02, bar  test loss 5.721, len  test loss 0.039, col  test loss 162.288\n"
     ]
    },
    {
     "name": "stderr",
     "output_type": "stream",
     "text": [
      "Epoch 387: 543batch [00:33, 16.23batch/s, loss=853]\n"
     ]
    },
    {
     "name": "stdout",
     "output_type": "stream",
     "text": [
      "epoch 387: avg train loss 894.61, bar train loss 5.736, len train loss 0.042, col train loss 162.434\n"
     ]
    },
    {
     "name": "stderr",
     "output_type": "stream",
     "text": [
      "Epoch 388: 2batch [00:00, 17.09batch/s, loss=885]"
     ]
    },
    {
     "name": "stdout",
     "output_type": "stream",
     "text": [
      "epoch 387: avg test  loss 932.22, bar  test loss 5.760, len  test loss 0.040, col  test loss 162.348\n"
     ]
    },
    {
     "name": "stderr",
     "output_type": "stream",
     "text": [
      "Epoch 388: 543batch [00:33, 16.25batch/s, loss=847]    \n"
     ]
    },
    {
     "name": "stdout",
     "output_type": "stream",
     "text": [
      "epoch 388: avg train loss 895.80, bar train loss 5.744, len train loss 0.051, col train loss 162.410\n"
     ]
    },
    {
     "name": "stderr",
     "output_type": "stream",
     "text": [
      "Epoch 389: 2batch [00:00, 16.81batch/s, loss=850]"
     ]
    },
    {
     "name": "stdout",
     "output_type": "stream",
     "text": [
      "epoch 388: avg test  loss 935.53, bar  test loss 5.653, len  test loss 0.064, col  test loss 162.381\n"
     ]
    },
    {
     "name": "stderr",
     "output_type": "stream",
     "text": [
      "Epoch 389: 543batch [00:33, 16.20batch/s, loss=920]    \n"
     ]
    },
    {
     "name": "stdout",
     "output_type": "stream",
     "text": [
      "epoch 389: avg train loss 896.36, bar train loss 5.777, len train loss 0.051, col train loss 162.466\n"
     ]
    },
    {
     "name": "stderr",
     "output_type": "stream",
     "text": [
      "Epoch 390: 2batch [00:00, 16.39batch/s, loss=851]"
     ]
    },
    {
     "name": "stdout",
     "output_type": "stream",
     "text": [
      "epoch 389: avg test  loss 995.14, bar  test loss 5.688, len  test loss 0.500, col  test loss 162.231\n"
     ]
    },
    {
     "name": "stderr",
     "output_type": "stream",
     "text": [
      "Epoch 390: 543batch [00:33, 16.16batch/s, loss=887]    \n"
     ]
    },
    {
     "name": "stdout",
     "output_type": "stream",
     "text": [
      "epoch 390: avg train loss 895.17, bar train loss 5.755, len train loss 0.043, col train loss 162.468\n",
      "epoch 390: avg test  loss 956.18, bar  test loss 5.664, len  test loss 0.065, col  test loss 162.110\n"
     ]
    },
    {
     "name": "stderr",
     "output_type": "stream",
     "text": [
      "Epoch 391: 543batch [00:33, 16.13batch/s, loss=878]    \n"
     ]
    },
    {
     "name": "stdout",
     "output_type": "stream",
     "text": [
      "epoch 391: avg train loss 896.06, bar train loss 5.749, len train loss 0.051, col train loss 162.457\n"
     ]
    },
    {
     "name": "stderr",
     "output_type": "stream",
     "text": [
      "Epoch 392: 2batch [00:00, 16.81batch/s, loss=841]"
     ]
    },
    {
     "name": "stdout",
     "output_type": "stream",
     "text": [
      "epoch 391: avg test  loss 994.62, bar  test loss 5.763, len  test loss 0.200, col  test loss 162.247\n"
     ]
    },
    {
     "name": "stderr",
     "output_type": "stream",
     "text": [
      "Epoch 392: 543batch [00:33, 16.21batch/s, loss=827]    \n"
     ]
    },
    {
     "name": "stdout",
     "output_type": "stream",
     "text": [
      "epoch 392: avg train loss 895.97, bar train loss 5.740, len train loss 0.051, col train loss 162.419\n"
     ]
    },
    {
     "name": "stderr",
     "output_type": "stream",
     "text": [
      "Epoch 393: 2batch [00:00, 17.54batch/s, loss=889]"
     ]
    },
    {
     "name": "stdout",
     "output_type": "stream",
     "text": [
      "epoch 392: avg test  loss 982.49, bar  test loss 5.758, len  test loss 0.061, col  test loss 162.229\n"
     ]
    },
    {
     "name": "stderr",
     "output_type": "stream",
     "text": [
      "Epoch 393: 543batch [00:33, 16.14batch/s, loss=870]    \n"
     ]
    },
    {
     "name": "stdout",
     "output_type": "stream",
     "text": [
      "epoch 393: avg train loss 896.50, bar train loss 5.758, len train loss 0.051, col train loss 162.457\n"
     ]
    },
    {
     "name": "stderr",
     "output_type": "stream",
     "text": [
      "Epoch 394: 2batch [00:00, 16.53batch/s, loss=811]"
     ]
    },
    {
     "name": "stdout",
     "output_type": "stream",
     "text": [
      "epoch 393: avg test  loss 1004.31, bar  test loss 5.694, len  test loss 0.284, col  test loss 162.331\n"
     ]
    },
    {
     "name": "stderr",
     "output_type": "stream",
     "text": [
      "Epoch 394: 543batch [00:33, 16.06batch/s, loss=913]    \n"
     ]
    },
    {
     "name": "stdout",
     "output_type": "stream",
     "text": [
      "epoch 394: avg train loss 895.58, bar train loss 5.737, len train loss 0.048, col train loss 162.442\n"
     ]
    },
    {
     "name": "stderr",
     "output_type": "stream",
     "text": [
      "Epoch 395: 2batch [00:00, 16.95batch/s, loss=853]"
     ]
    },
    {
     "name": "stdout",
     "output_type": "stream",
     "text": [
      "epoch 394: avg test  loss 960.33, bar  test loss 5.645, len  test loss 0.053, col  test loss 162.489\n"
     ]
    },
    {
     "name": "stderr",
     "output_type": "stream",
     "text": [
      "Epoch 395: 543batch [00:33, 16.03batch/s, loss=896]    \n"
     ]
    },
    {
     "name": "stdout",
     "output_type": "stream",
     "text": [
      "epoch 395: avg train loss 895.33, bar train loss 5.760, len train loss 0.046, col train loss 162.435\n",
      "epoch 395: avg test  loss 985.37, bar  test loss 5.803, len  test loss 0.113, col  test loss 162.363\n"
     ]
    },
    {
     "name": "stderr",
     "output_type": "stream",
     "text": [
      "Epoch 396: 543batch [00:33, 16.03batch/s, loss=809]    \n"
     ]
    },
    {
     "name": "stdout",
     "output_type": "stream",
     "text": [
      "epoch 396: avg train loss 896.26, bar train loss 5.767, len train loss 0.051, col train loss 162.428\n"
     ]
    },
    {
     "name": "stderr",
     "output_type": "stream",
     "text": [
      "Epoch 397: 2batch [00:00, 16.53batch/s, loss=893]"
     ]
    },
    {
     "name": "stdout",
     "output_type": "stream",
     "text": [
      "epoch 396: avg test  loss 938.83, bar  test loss 5.573, len  test loss 0.141, col  test loss 162.296\n"
     ]
    },
    {
     "name": "stderr",
     "output_type": "stream",
     "text": [
      "Epoch 397: 543batch [00:33, 16.06batch/s, loss=895]   \n"
     ]
    },
    {
     "name": "stdout",
     "output_type": "stream",
     "text": [
      "epoch 397: avg train loss 896.54, bar train loss 5.769, len train loss 0.052, col train loss 162.462\n"
     ]
    },
    {
     "name": "stderr",
     "output_type": "stream",
     "text": [
      "Epoch 398: 2batch [00:00, 16.39batch/s, loss=907]"
     ]
    },
    {
     "name": "stdout",
     "output_type": "stream",
     "text": [
      "epoch 397: avg test  loss 952.17, bar  test loss 5.772, len  test loss 0.047, col  test loss 162.555\n"
     ]
    },
    {
     "name": "stderr",
     "output_type": "stream",
     "text": [
      "Epoch 398: 543batch [00:33, 16.05batch/s, loss=969]    \n"
     ]
    },
    {
     "name": "stdout",
     "output_type": "stream",
     "text": [
      "epoch 398: avg train loss 896.42, bar train loss 5.778, len train loss 0.050, col train loss 162.450\n"
     ]
    },
    {
     "name": "stderr",
     "output_type": "stream",
     "text": [
      "Epoch 399: 2batch [00:00, 17.39batch/s, loss=888]"
     ]
    },
    {
     "name": "stdout",
     "output_type": "stream",
     "text": [
      "epoch 398: avg test  loss 976.52, bar  test loss 5.629, len  test loss 0.082, col  test loss 162.274\n"
     ]
    },
    {
     "name": "stderr",
     "output_type": "stream",
     "text": [
      "Epoch 399: 543batch [00:33, 16.01batch/s, loss=973]\n"
     ]
    },
    {
     "name": "stdout",
     "output_type": "stream",
     "text": [
      "epoch 399: avg train loss 894.90, bar train loss 5.746, len train loss 0.041, col train loss 162.454\n"
     ]
    },
    {
     "name": "stderr",
     "output_type": "stream",
     "text": [
      "Epoch 400: 2batch [00:00, 16.67batch/s, loss=863]"
     ]
    },
    {
     "name": "stdout",
     "output_type": "stream",
     "text": [
      "epoch 399: avg test  loss 979.51, bar  test loss 5.728, len  test loss 0.042, col  test loss 162.419\n"
     ]
    },
    {
     "name": "stderr",
     "output_type": "stream",
     "text": [
      "Epoch 400: 543batch [00:34, 15.97batch/s, loss=860]\n"
     ]
    },
    {
     "name": "stdout",
     "output_type": "stream",
     "text": [
      "epoch 400: avg train loss 894.68, bar train loss 5.749, len train loss 0.041, col train loss 162.437\n",
      "epoch 400: avg test  loss 996.42, bar  test loss 5.791, len  test loss 0.095, col  test loss 162.494\n"
     ]
    },
    {
     "name": "stderr",
     "output_type": "stream",
     "text": [
      "Epoch 401: 543batch [00:33, 16.00batch/s, loss=860]    \n"
     ]
    },
    {
     "name": "stdout",
     "output_type": "stream",
     "text": [
      "epoch 401: avg train loss 895.00, bar train loss 5.773, len train loss 0.041, col train loss 162.458\n"
     ]
    },
    {
     "name": "stderr",
     "output_type": "stream",
     "text": [
      "Epoch 402: 2batch [00:00, 17.24batch/s, loss=856]"
     ]
    },
    {
     "name": "stdout",
     "output_type": "stream",
     "text": [
      "epoch 401: avg test  loss 959.13, bar  test loss 5.846, len  test loss 0.041, col  test loss 162.503\n"
     ]
    },
    {
     "name": "stderr",
     "output_type": "stream",
     "text": [
      "Epoch 402: 543batch [00:33, 16.06batch/s, loss=869]    \n"
     ]
    },
    {
     "name": "stdout",
     "output_type": "stream",
     "text": [
      "epoch 402: avg train loss 897.88, bar train loss 5.745, len train loss 0.064, col train loss 162.476\n"
     ]
    },
    {
     "name": "stderr",
     "output_type": "stream",
     "text": [
      "Epoch 403: 2batch [00:00, 16.95batch/s, loss=897]"
     ]
    },
    {
     "name": "stdout",
     "output_type": "stream",
     "text": [
      "epoch 402: avg test  loss 1106.66, bar  test loss 6.250, len  test loss 1.330, col  test loss 163.271\n"
     ]
    },
    {
     "name": "stderr",
     "output_type": "stream",
     "text": [
      "Epoch 403: 543batch [00:33, 15.99batch/s, loss=931]    \n"
     ]
    },
    {
     "name": "stdout",
     "output_type": "stream",
     "text": [
      "epoch 403: avg train loss 895.88, bar train loss 5.755, len train loss 0.050, col train loss 162.436\n"
     ]
    },
    {
     "name": "stderr",
     "output_type": "stream",
     "text": [
      "Epoch 404: 2batch [00:00, 16.95batch/s, loss=884]"
     ]
    },
    {
     "name": "stdout",
     "output_type": "stream",
     "text": [
      "epoch 403: avg test  loss 968.72, bar  test loss 5.595, len  test loss 0.278, col  test loss 162.186\n"
     ]
    },
    {
     "name": "stderr",
     "output_type": "stream",
     "text": [
      "Epoch 404: 543batch [00:33, 15.97batch/s, loss=889]    \n"
     ]
    },
    {
     "name": "stdout",
     "output_type": "stream",
     "text": [
      "epoch 404: avg train loss 896.09, bar train loss 5.741, len train loss 0.052, col train loss 162.443\n"
     ]
    },
    {
     "name": "stderr",
     "output_type": "stream",
     "text": [
      "Epoch 405: 2batch [00:00, 16.95batch/s, loss=896]"
     ]
    },
    {
     "name": "stdout",
     "output_type": "stream",
     "text": [
      "epoch 404: avg test  loss 932.14, bar  test loss 5.640, len  test loss 0.045, col  test loss 162.760\n"
     ]
    },
    {
     "name": "stderr",
     "output_type": "stream",
     "text": [
      "Epoch 405: 543batch [00:34, 15.94batch/s, loss=844]\n"
     ]
    },
    {
     "name": "stdout",
     "output_type": "stream",
     "text": [
      "epoch 405: avg train loss 895.02, bar train loss 5.739, len train loss 0.042, col train loss 162.478\n",
      "epoch 405: avg test  loss 964.79, bar  test loss 5.767, len  test loss 0.044, col  test loss 162.840\n"
     ]
    },
    {
     "name": "stderr",
     "output_type": "stream",
     "text": [
      "Epoch 406: 543batch [00:34, 15.89batch/s, loss=907] \n"
     ]
    },
    {
     "name": "stdout",
     "output_type": "stream",
     "text": [
      "epoch 406: avg train loss 895.20, bar train loss 5.749, len train loss 0.042, col train loss 162.501\n"
     ]
    },
    {
     "name": "stderr",
     "output_type": "stream",
     "text": [
      "Epoch 407: 2batch [00:00, 16.13batch/s, loss=941]"
     ]
    },
    {
     "name": "stdout",
     "output_type": "stream",
     "text": [
      "epoch 406: avg test  loss 982.00, bar  test loss 5.755, len  test loss 0.044, col  test loss 162.426\n"
     ]
    },
    {
     "name": "stderr",
     "output_type": "stream",
     "text": [
      "Epoch 407: 543batch [00:34, 15.96batch/s, loss=910]    \n"
     ]
    },
    {
     "name": "stdout",
     "output_type": "stream",
     "text": [
      "epoch 407: avg train loss 897.02, bar train loss 5.754, len train loss 0.056, col train loss 162.516\n"
     ]
    },
    {
     "name": "stderr",
     "output_type": "stream",
     "text": [
      "Epoch 408: 2batch [00:00, 16.13batch/s, loss=889]"
     ]
    },
    {
     "name": "stdout",
     "output_type": "stream",
     "text": [
      "epoch 407: avg test  loss 950.28, bar  test loss 5.759, len  test loss 0.050, col  test loss 162.399\n"
     ]
    },
    {
     "name": "stderr",
     "output_type": "stream",
     "text": [
      "Epoch 408: 543batch [00:34, 15.93batch/s, loss=856]    \n"
     ]
    },
    {
     "name": "stdout",
     "output_type": "stream",
     "text": [
      "epoch 408: avg train loss 922.56, bar train loss 5.790, len train loss 0.049, col train loss 162.532\n"
     ]
    },
    {
     "name": "stderr",
     "output_type": "stream",
     "text": [
      "Epoch 409: 2batch [00:00, 16.81batch/s, loss=864]"
     ]
    },
    {
     "name": "stdout",
     "output_type": "stream",
     "text": [
      "epoch 408: avg test  loss 926.02, bar  test loss 5.674, len  test loss 0.054, col  test loss 162.176\n"
     ]
    },
    {
     "name": "stderr",
     "output_type": "stream",
     "text": [
      "Epoch 409: 543batch [00:34, 15.88batch/s, loss=936]    \n"
     ]
    },
    {
     "name": "stdout",
     "output_type": "stream",
     "text": [
      "epoch 409: avg train loss 1025.59, bar train loss 5.824, len train loss 0.105, col train loss 162.530\n"
     ]
    },
    {
     "name": "stderr",
     "output_type": "stream",
     "text": [
      "Epoch 410: 2batch [00:00, 17.09batch/s, loss=848]"
     ]
    },
    {
     "name": "stdout",
     "output_type": "stream",
     "text": [
      "epoch 409: avg test  loss 943.06, bar  test loss 5.771, len  test loss 0.073, col  test loss 162.267\n"
     ]
    },
    {
     "name": "stderr",
     "output_type": "stream",
     "text": [
      "Epoch 410: 543batch [00:34, 15.89batch/s, loss=925]    \n"
     ]
    },
    {
     "name": "stdout",
     "output_type": "stream",
     "text": [
      "epoch 410: avg train loss 896.06, bar train loss 5.757, len train loss 0.049, col train loss 162.457\n",
      "epoch 410: avg test  loss 972.37, bar  test loss 5.765, len  test loss 0.040, col  test loss 162.284\n"
     ]
    },
    {
     "name": "stderr",
     "output_type": "stream",
     "text": [
      "Epoch 411: 543batch [00:34, 15.82batch/s, loss=915]    \n"
     ]
    },
    {
     "name": "stdout",
     "output_type": "stream",
     "text": [
      "epoch 411: avg train loss 898.85, bar train loss 5.762, len train loss 0.068, col train loss 162.472\n"
     ]
    },
    {
     "name": "stderr",
     "output_type": "stream",
     "text": [
      "Epoch 412: 2batch [00:00, 16.39batch/s, loss=908]"
     ]
    },
    {
     "name": "stdout",
     "output_type": "stream",
     "text": [
      "epoch 411: avg test  loss 945.75, bar  test loss 5.880, len  test loss 0.042, col  test loss 162.443\n"
     ]
    },
    {
     "name": "stderr",
     "output_type": "stream",
     "text": [
      "Epoch 412: 543batch [00:34, 15.80batch/s, loss=833]    \n"
     ]
    },
    {
     "name": "stdout",
     "output_type": "stream",
     "text": [
      "epoch 412: avg train loss 895.47, bar train loss 5.740, len train loss 0.047, col train loss 162.445\n"
     ]
    },
    {
     "name": "stderr",
     "output_type": "stream",
     "text": [
      "Epoch 413: 2batch [00:00, 16.67batch/s, loss=926]"
     ]
    },
    {
     "name": "stdout",
     "output_type": "stream",
     "text": [
      "epoch 412: avg test  loss 1003.97, bar  test loss 5.758, len  test loss 0.045, col  test loss 162.998\n"
     ]
    },
    {
     "name": "stderr",
     "output_type": "stream",
     "text": [
      "Epoch 413: 543batch [00:34, 15.79batch/s, loss=900]\n"
     ]
    },
    {
     "name": "stdout",
     "output_type": "stream",
     "text": [
      "epoch 413: avg train loss 894.98, bar train loss 5.753, len train loss 0.042, col train loss 162.477\n"
     ]
    },
    {
     "name": "stderr",
     "output_type": "stream",
     "text": [
      "Epoch 414: 2batch [00:00, 16.67batch/s, loss=860]"
     ]
    },
    {
     "name": "stdout",
     "output_type": "stream",
     "text": [
      "epoch 413: avg test  loss 1013.54, bar  test loss 5.559, len  test loss 0.040, col  test loss 162.304\n"
     ]
    },
    {
     "name": "stderr",
     "output_type": "stream",
     "text": [
      "Epoch 414: 543batch [00:34, 15.79batch/s, loss=913]    \n"
     ]
    },
    {
     "name": "stdout",
     "output_type": "stream",
     "text": [
      "epoch 414: avg train loss 895.67, bar train loss 5.755, len train loss 0.043, col train loss 162.478\n"
     ]
    },
    {
     "name": "stderr",
     "output_type": "stream",
     "text": [
      "Epoch 415: 2batch [00:00, 16.67batch/s, loss=909]"
     ]
    },
    {
     "name": "stdout",
     "output_type": "stream",
     "text": [
      "epoch 414: avg test  loss 990.95, bar  test loss 5.652, len  test loss 0.249, col  test loss 162.144\n"
     ]
    },
    {
     "name": "stderr",
     "output_type": "stream",
     "text": [
      "Epoch 415: 543batch [00:34, 15.74batch/s, loss=968]    \n"
     ]
    },
    {
     "name": "stdout",
     "output_type": "stream",
     "text": [
      "epoch 415: avg train loss 896.19, bar train loss 5.740, len train loss 0.053, col train loss 162.449\n",
      "epoch 415: avg test  loss 973.10, bar  test loss 5.699, len  test loss 0.083, col  test loss 162.410\n"
     ]
    },
    {
     "name": "stderr",
     "output_type": "stream",
     "text": [
      "Epoch 416: 543batch [00:34, 15.73batch/s, loss=892]\n"
     ]
    },
    {
     "name": "stdout",
     "output_type": "stream",
     "text": [
      "epoch 416: avg train loss 894.68, bar train loss 5.718, len train loss 0.042, col train loss 162.423\n"
     ]
    },
    {
     "name": "stderr",
     "output_type": "stream",
     "text": [
      "Epoch 417: 2batch [00:00, 16.13batch/s, loss=868]"
     ]
    },
    {
     "name": "stdout",
     "output_type": "stream",
     "text": [
      "epoch 416: avg test  loss 973.58, bar  test loss 5.936, len  test loss 0.062, col  test loss 162.308\n"
     ]
    },
    {
     "name": "stderr",
     "output_type": "stream",
     "text": [
      "Epoch 417: 543batch [00:34, 15.74batch/s, loss=825]    \n"
     ]
    },
    {
     "name": "stdout",
     "output_type": "stream",
     "text": [
      "epoch 417: avg train loss 895.22, bar train loss 5.752, len train loss 0.044, col train loss 162.504\n"
     ]
    },
    {
     "name": "stderr",
     "output_type": "stream",
     "text": [
      "Epoch 418: 2batch [00:00, 16.13batch/s, loss=865]"
     ]
    },
    {
     "name": "stdout",
     "output_type": "stream",
     "text": [
      "epoch 417: avg test  loss 1008.08, bar  test loss 5.720, len  test loss 0.128, col  test loss 162.196\n"
     ]
    },
    {
     "name": "stderr",
     "output_type": "stream",
     "text": [
      "Epoch 418: 543batch [00:34, 15.64batch/s, loss=927]\n"
     ]
    },
    {
     "name": "stdout",
     "output_type": "stream",
     "text": [
      "epoch 418: avg train loss 895.21, bar train loss 5.756, len train loss 0.042, col train loss 162.475\n"
     ]
    },
    {
     "name": "stderr",
     "output_type": "stream",
     "text": [
      "Epoch 419: 2batch [00:00, 16.53batch/s, loss=882]"
     ]
    },
    {
     "name": "stdout",
     "output_type": "stream",
     "text": [
      "epoch 418: avg test  loss 992.87, bar  test loss 5.960, len  test loss 0.104, col  test loss 162.630\n"
     ]
    },
    {
     "name": "stderr",
     "output_type": "stream",
     "text": [
      "Epoch 419: 543batch [00:34, 15.67batch/s, loss=936]    \n"
     ]
    },
    {
     "name": "stdout",
     "output_type": "stream",
     "text": [
      "epoch 419: avg train loss 902.99, bar train loss 5.789, len train loss 0.046, col train loss 162.466\n"
     ]
    },
    {
     "name": "stderr",
     "output_type": "stream",
     "text": [
      "Epoch 420: 2batch [00:00, 16.13batch/s, loss=868]"
     ]
    },
    {
     "name": "stdout",
     "output_type": "stream",
     "text": [
      "epoch 419: avg test  loss 998.66, bar  test loss 5.575, len  test loss 0.102, col  test loss 162.287\n"
     ]
    },
    {
     "name": "stderr",
     "output_type": "stream",
     "text": [
      "Epoch 420: 543batch [00:34, 15.69batch/s, loss=900]\n"
     ]
    },
    {
     "name": "stdout",
     "output_type": "stream",
     "text": [
      "epoch 420: avg train loss 895.44, bar train loss 5.776, len train loss 0.043, col train loss 162.478\n",
      "epoch 420: avg test  loss 1002.90, bar  test loss 5.744, len  test loss 0.145, col  test loss 162.202\n"
     ]
    },
    {
     "name": "stderr",
     "output_type": "stream",
     "text": [
      "Epoch 421: 543batch [00:34, 15.60batch/s, loss=924]\n"
     ]
    },
    {
     "name": "stdout",
     "output_type": "stream",
     "text": [
      "epoch 421: avg train loss 895.54, bar train loss 5.792, len train loss 0.043, col train loss 162.447\n"
     ]
    },
    {
     "name": "stderr",
     "output_type": "stream",
     "text": [
      "Epoch 422: 2batch [00:00, 16.53batch/s, loss=888]"
     ]
    },
    {
     "name": "stdout",
     "output_type": "stream",
     "text": [
      "epoch 421: avg test  loss 962.64, bar  test loss 5.623, len  test loss 0.050, col  test loss 162.354\n"
     ]
    },
    {
     "name": "stderr",
     "output_type": "stream",
     "text": [
      "Epoch 422: 543batch [00:34, 15.67batch/s, loss=961]   \n"
     ]
    },
    {
     "name": "stdout",
     "output_type": "stream",
     "text": [
      "epoch 422: avg train loss 895.19, bar train loss 5.744, len train loss 0.043, col train loss 162.437\n"
     ]
    },
    {
     "name": "stderr",
     "output_type": "stream",
     "text": [
      "Epoch 423: 2batch [00:00, 17.39batch/s, loss=916]"
     ]
    },
    {
     "name": "stdout",
     "output_type": "stream",
     "text": [
      "epoch 422: avg test  loss 1038.32, bar  test loss 5.855, len  test loss 0.402, col  test loss 162.484\n"
     ]
    },
    {
     "name": "stderr",
     "output_type": "stream",
     "text": [
      "Epoch 423: 543batch [00:34, 15.62batch/s, loss=886]    \n"
     ]
    },
    {
     "name": "stdout",
     "output_type": "stream",
     "text": [
      "epoch 423: avg train loss 895.81, bar train loss 5.749, len train loss 0.046, col train loss 162.458\n"
     ]
    },
    {
     "name": "stderr",
     "output_type": "stream",
     "text": [
      "Epoch 424: 2batch [00:00, 16.39batch/s, loss=847]"
     ]
    },
    {
     "name": "stdout",
     "output_type": "stream",
     "text": [
      "epoch 423: avg test  loss 967.81, bar  test loss 5.823, len  test loss 0.063, col  test loss 162.844\n"
     ]
    },
    {
     "name": "stderr",
     "output_type": "stream",
     "text": [
      "Epoch 424: 543batch [00:34, 15.61batch/s, loss=856]    \n"
     ]
    },
    {
     "name": "stdout",
     "output_type": "stream",
     "text": [
      "epoch 424: avg train loss 895.73, bar train loss 5.749, len train loss 0.045, col train loss 162.480\n"
     ]
    },
    {
     "name": "stderr",
     "output_type": "stream",
     "text": [
      "Epoch 425: 2batch [00:00, 16.00batch/s, loss=923]"
     ]
    },
    {
     "name": "stdout",
     "output_type": "stream",
     "text": [
      "epoch 424: avg test  loss 1006.44, bar  test loss 5.754, len  test loss 0.061, col  test loss 162.711\n"
     ]
    },
    {
     "name": "stderr",
     "output_type": "stream",
     "text": [
      "Epoch 425: 543batch [00:34, 15.60batch/s, loss=923]    \n"
     ]
    },
    {
     "name": "stdout",
     "output_type": "stream",
     "text": [
      "epoch 425: avg train loss 897.46, bar train loss 5.794, len train loss 0.055, col train loss 162.502\n",
      "epoch 425: avg test  loss 995.90, bar  test loss 5.669, len  test loss 0.056, col  test loss 162.523\n"
     ]
    },
    {
     "name": "stderr",
     "output_type": "stream",
     "text": [
      "Epoch 426: 543batch [00:35, 15.27batch/s, loss=937]\n"
     ]
    },
    {
     "name": "stdout",
     "output_type": "stream",
     "text": [
      "epoch 426: avg train loss 895.45, bar train loss 5.746, len train loss 0.043, col train loss 162.482\n"
     ]
    },
    {
     "name": "stderr",
     "output_type": "stream",
     "text": [
      "Epoch 427: 2batch [00:00, 15.50batch/s, loss=894]"
     ]
    },
    {
     "name": "stdout",
     "output_type": "stream",
     "text": [
      "epoch 426: avg test  loss 992.62, bar  test loss 5.715, len  test loss 0.038, col  test loss 162.748\n"
     ]
    },
    {
     "name": "stderr",
     "output_type": "stream",
     "text": [
      "Epoch 427: 543batch [00:35, 15.51batch/s, loss=916]    \n"
     ]
    },
    {
     "name": "stdout",
     "output_type": "stream",
     "text": [
      "epoch 427: avg train loss 963.57, bar train loss 5.798, len train loss 0.062, col train loss 162.499\n"
     ]
    },
    {
     "name": "stderr",
     "output_type": "stream",
     "text": [
      "Epoch 428: 2batch [00:00, 16.67batch/s, loss=892]"
     ]
    },
    {
     "name": "stdout",
     "output_type": "stream",
     "text": [
      "epoch 427: avg test  loss 971.64, bar  test loss 5.709, len  test loss 0.044, col  test loss 162.249\n"
     ]
    },
    {
     "name": "stderr",
     "output_type": "stream",
     "text": [
      "Epoch 428: 543batch [00:34, 15.57batch/s, loss=833] \n"
     ]
    },
    {
     "name": "stdout",
     "output_type": "stream",
     "text": [
      "epoch 428: avg train loss 895.18, bar train loss 5.729, len train loss 0.042, col train loss 162.472\n"
     ]
    },
    {
     "name": "stderr",
     "output_type": "stream",
     "text": [
      "Epoch 429: 2batch [00:00, 16.66batch/s, loss=877]"
     ]
    },
    {
     "name": "stdout",
     "output_type": "stream",
     "text": [
      "epoch 428: avg test  loss 953.64, bar  test loss 5.712, len  test loss 0.043, col  test loss 162.214\n"
     ]
    },
    {
     "name": "stderr",
     "output_type": "stream",
     "text": [
      "Epoch 429: 543batch [00:34, 15.57batch/s, loss=870]    \n"
     ]
    },
    {
     "name": "stdout",
     "output_type": "stream",
     "text": [
      "epoch 429: avg train loss 898.43, bar train loss 5.789, len train loss 0.066, col train loss 162.524\n"
     ]
    },
    {
     "name": "stderr",
     "output_type": "stream",
     "text": [
      "Epoch 430: 2batch [00:00, 16.13batch/s, loss=873]"
     ]
    },
    {
     "name": "stdout",
     "output_type": "stream",
     "text": [
      "epoch 429: avg test  loss 965.39, bar  test loss 5.678, len  test loss 0.048, col  test loss 162.375\n"
     ]
    },
    {
     "name": "stderr",
     "output_type": "stream",
     "text": [
      "Epoch 430: 543batch [00:34, 15.54batch/s, loss=819] \n"
     ]
    },
    {
     "name": "stdout",
     "output_type": "stream",
     "text": [
      "epoch 430: avg train loss 895.21, bar train loss 5.742, len train loss 0.041, col train loss 162.486\n",
      "epoch 430: avg test  loss 1004.51, bar  test loss 5.694, len  test loss 0.045, col  test loss 162.462\n"
     ]
    },
    {
     "name": "stderr",
     "output_type": "stream",
     "text": [
      "Epoch 431: 543batch [00:35, 15.48batch/s, loss=912]    \n"
     ]
    },
    {
     "name": "stdout",
     "output_type": "stream",
     "text": [
      "epoch 431: avg train loss 896.67, bar train loss 5.756, len train loss 0.054, col train loss 162.478\n"
     ]
    },
    {
     "name": "stderr",
     "output_type": "stream",
     "text": [
      "Epoch 432: 2batch [00:00, 16.53batch/s, loss=863]"
     ]
    },
    {
     "name": "stdout",
     "output_type": "stream",
     "text": [
      "epoch 431: avg test  loss 953.25, bar  test loss 5.690, len  test loss 0.054, col  test loss 162.355\n"
     ]
    },
    {
     "name": "stderr",
     "output_type": "stream",
     "text": [
      "Epoch 432: 543batch [00:35, 15.51batch/s, loss=914]    \n"
     ]
    },
    {
     "name": "stdout",
     "output_type": "stream",
     "text": [
      "epoch 432: avg train loss 895.29, bar train loss 5.744, len train loss 0.042, col train loss 162.514\n"
     ]
    },
    {
     "name": "stderr",
     "output_type": "stream",
     "text": [
      "Epoch 433: 0batch [00:00, ?batch/s, loss=950]"
     ]
    },
    {
     "name": "stdout",
     "output_type": "stream",
     "text": [
      "epoch 432: avg test  loss 963.47, bar  test loss 5.984, len  test loss 0.060, col  test loss 163.497\n"
     ]
    },
    {
     "name": "stderr",
     "output_type": "stream",
     "text": [
      "Epoch 433: 543batch [00:36, 14.89batch/s, loss=937]    \n"
     ]
    },
    {
     "name": "stdout",
     "output_type": "stream",
     "text": [
      "epoch 433: avg train loss 896.07, bar train loss 5.768, len train loss 0.045, col train loss 162.488\n"
     ]
    },
    {
     "name": "stderr",
     "output_type": "stream",
     "text": [
      "\r",
      "Epoch 434: 0batch [00:00, ?batch/s]"
     ]
    },
    {
     "name": "stdout",
     "output_type": "stream",
     "text": [
      "epoch 433: avg test  loss 959.55, bar  test loss 5.778, len  test loss 0.038, col  test loss 163.206\n"
     ]
    },
    {
     "name": "stderr",
     "output_type": "stream",
     "text": [
      "Epoch 434: 543batch [00:37, 14.63batch/s, loss=939]    \n"
     ]
    },
    {
     "name": "stdout",
     "output_type": "stream",
     "text": [
      "epoch 434: avg train loss 897.64, bar train loss 5.785, len train loss 0.056, col train loss 162.496\n"
     ]
    },
    {
     "name": "stderr",
     "output_type": "stream",
     "text": [
      "Epoch 435: 2batch [00:00, 16.13batch/s, loss=865]"
     ]
    },
    {
     "name": "stdout",
     "output_type": "stream",
     "text": [
      "epoch 434: avg test  loss 979.19, bar  test loss 5.699, len  test loss 0.065, col  test loss 162.201\n"
     ]
    },
    {
     "name": "stderr",
     "output_type": "stream",
     "text": [
      "Epoch 435: 543batch [00:35, 15.42batch/s, loss=908]   \n"
     ]
    },
    {
     "name": "stdout",
     "output_type": "stream",
     "text": [
      "epoch 435: avg train loss 895.21, bar train loss 5.736, len train loss 0.042, col train loss 162.433\n",
      "epoch 435: avg test  loss 1000.88, bar  test loss 5.918, len  test loss 0.095, col  test loss 162.232\n"
     ]
    },
    {
     "name": "stderr",
     "output_type": "stream",
     "text": [
      "Epoch 436: 543batch [00:35, 15.40batch/s, loss=858]    \n"
     ]
    },
    {
     "name": "stdout",
     "output_type": "stream",
     "text": [
      "epoch 436: avg train loss 895.38, bar train loss 5.763, len train loss 0.042, col train loss 162.457\n"
     ]
    },
    {
     "name": "stderr",
     "output_type": "stream",
     "text": [
      "Epoch 437: 2batch [00:00, 16.00batch/s, loss=890]"
     ]
    },
    {
     "name": "stdout",
     "output_type": "stream",
     "text": [
      "epoch 436: avg test  loss 1009.36, bar  test loss 5.671, len  test loss 0.094, col  test loss 162.314\n"
     ]
    },
    {
     "name": "stderr",
     "output_type": "stream",
     "text": [
      "Epoch 437: 543batch [00:35, 15.43batch/s, loss=849]    \n"
     ]
    },
    {
     "name": "stdout",
     "output_type": "stream",
     "text": [
      "epoch 437: avg train loss 898.67, bar train loss 5.761, len train loss 0.070, col train loss 162.484\n"
     ]
    },
    {
     "name": "stderr",
     "output_type": "stream",
     "text": [
      "Epoch 438: 2batch [00:00, 16.26batch/s, loss=895]"
     ]
    },
    {
     "name": "stdout",
     "output_type": "stream",
     "text": [
      "epoch 437: avg test  loss 1037.33, bar  test loss 5.879, len  test loss 0.065, col  test loss 162.525\n"
     ]
    },
    {
     "name": "stderr",
     "output_type": "stream",
     "text": [
      "Epoch 438: 543batch [00:35, 15.41batch/s, loss=883]    \n"
     ]
    },
    {
     "name": "stdout",
     "output_type": "stream",
     "text": [
      "epoch 438: avg train loss 896.95, bar train loss 5.767, len train loss 0.055, col train loss 162.495\n"
     ]
    },
    {
     "name": "stderr",
     "output_type": "stream",
     "text": [
      "Epoch 439: 2batch [00:00, 15.63batch/s, loss=859]"
     ]
    },
    {
     "name": "stdout",
     "output_type": "stream",
     "text": [
      "epoch 438: avg test  loss 997.52, bar  test loss 5.593, len  test loss 0.056, col  test loss 162.806\n"
     ]
    },
    {
     "name": "stderr",
     "output_type": "stream",
     "text": [
      "Epoch 439: 543batch [00:35, 15.37batch/s, loss=824]    \n"
     ]
    },
    {
     "name": "stdout",
     "output_type": "stream",
     "text": [
      "epoch 439: avg train loss 898.76, bar train loss 5.756, len train loss 0.070, col train loss 162.491\n"
     ]
    },
    {
     "name": "stderr",
     "output_type": "stream",
     "text": [
      "Epoch 440: 2batch [00:00, 16.39batch/s, loss=840]"
     ]
    },
    {
     "name": "stdout",
     "output_type": "stream",
     "text": [
      "epoch 439: avg test  loss 1007.11, bar  test loss 5.645, len  test loss 0.051, col  test loss 162.217\n"
     ]
    },
    {
     "name": "stderr",
     "output_type": "stream",
     "text": [
      "Epoch 440: 543batch [00:35, 15.35batch/s, loss=905]    \n"
     ]
    },
    {
     "name": "stdout",
     "output_type": "stream",
     "text": [
      "epoch 440: avg train loss 895.48, bar train loss 5.750, len train loss 0.043, col train loss 162.484\n",
      "epoch 440: avg test  loss 1044.89, bar  test loss 5.645, len  test loss 0.244, col  test loss 162.561\n"
     ]
    },
    {
     "name": "stderr",
     "output_type": "stream",
     "text": [
      "Epoch 441: 543batch [00:35, 15.27batch/s, loss=1e+3]   \n"
     ]
    },
    {
     "name": "stdout",
     "output_type": "stream",
     "text": [
      "epoch 441: avg train loss 896.54, bar train loss 5.762, len train loss 0.045, col train loss 162.501\n"
     ]
    },
    {
     "name": "stderr",
     "output_type": "stream",
     "text": [
      "Epoch 442: 2batch [00:00, 17.09batch/s, loss=920]"
     ]
    },
    {
     "name": "stdout",
     "output_type": "stream",
     "text": [
      "epoch 441: avg test  loss 1047.17, bar  test loss 5.640, len  test loss 0.045, col  test loss 162.596\n"
     ]
    },
    {
     "name": "stderr",
     "output_type": "stream",
     "text": [
      "Epoch 442: 543batch [00:35, 15.31batch/s, loss=957]    \n"
     ]
    },
    {
     "name": "stdout",
     "output_type": "stream",
     "text": [
      "epoch 442: avg train loss 895.76, bar train loss 5.746, len train loss 0.045, col train loss 162.521\n"
     ]
    },
    {
     "name": "stderr",
     "output_type": "stream",
     "text": [
      "Epoch 443: 2batch [00:00, 16.26batch/s, loss=921]"
     ]
    },
    {
     "name": "stdout",
     "output_type": "stream",
     "text": [
      "epoch 442: avg test  loss 1055.32, bar  test loss 5.939, len  test loss 0.233, col  test loss 162.446\n"
     ]
    },
    {
     "name": "stderr",
     "output_type": "stream",
     "text": [
      "Epoch 443: 543batch [00:35, 15.34batch/s, loss=835]   \n"
     ]
    },
    {
     "name": "stdout",
     "output_type": "stream",
     "text": [
      "epoch 443: avg train loss 905.02, bar train loss 5.814, len train loss 0.047, col train loss 162.518\n"
     ]
    },
    {
     "name": "stderr",
     "output_type": "stream",
     "text": [
      "Epoch 444: 2batch [00:00, 16.00batch/s, loss=897]"
     ]
    },
    {
     "name": "stdout",
     "output_type": "stream",
     "text": [
      "epoch 443: avg test  loss 1132.54, bar  test loss 6.037, len  test loss 0.413, col  test loss 162.325\n"
     ]
    },
    {
     "name": "stderr",
     "output_type": "stream",
     "text": [
      "Epoch 444: 543batch [00:35, 15.29batch/s, loss=900]    \n"
     ]
    },
    {
     "name": "stdout",
     "output_type": "stream",
     "text": [
      "epoch 444: avg train loss 1246.12, bar train loss 5.802, len train loss 0.273, col train loss 162.474\n"
     ]
    },
    {
     "name": "stderr",
     "output_type": "stream",
     "text": [
      "Epoch 445: 1batch [00:00,  8.70batch/s, loss=851]"
     ]
    },
    {
     "name": "stdout",
     "output_type": "stream",
     "text": [
      "epoch 444: avg test  loss 1011.90, bar  test loss 5.742, len  test loss 0.059, col  test loss 162.443\n"
     ]
    },
    {
     "name": "stderr",
     "output_type": "stream",
     "text": [
      "Epoch 445: 543batch [00:36, 14.84batch/s, loss=841]\n"
     ]
    },
    {
     "name": "stdout",
     "output_type": "stream",
     "text": [
      "epoch 445: avg train loss 896.05, bar train loss 5.769, len train loss 0.043, col train loss 162.508\n",
      "epoch 445: avg test  loss 1022.80, bar  test loss 5.621, len  test loss 0.049, col  test loss 162.233\n"
     ]
    },
    {
     "name": "stderr",
     "output_type": "stream",
     "text": [
      "Epoch 446: 543batch [00:35, 15.24batch/s, loss=899]    \n"
     ]
    },
    {
     "name": "stdout",
     "output_type": "stream",
     "text": [
      "epoch 446: avg train loss 910.13, bar train loss 5.781, len train loss 0.045, col train loss 162.500\n"
     ]
    },
    {
     "name": "stderr",
     "output_type": "stream",
     "text": [
      "Epoch 447: 2batch [00:00, 16.26batch/s, loss=885]"
     ]
    },
    {
     "name": "stdout",
     "output_type": "stream",
     "text": [
      "epoch 446: avg test  loss 1008.16, bar  test loss 5.774, len  test loss 0.051, col  test loss 162.831\n"
     ]
    },
    {
     "name": "stderr",
     "output_type": "stream",
     "text": [
      "Epoch 447: 543batch [00:35, 15.23batch/s, loss=914]\n"
     ]
    },
    {
     "name": "stdout",
     "output_type": "stream",
     "text": [
      "epoch 447: avg train loss 895.62, bar train loss 5.780, len train loss 0.041, col train loss 162.515\n"
     ]
    },
    {
     "name": "stderr",
     "output_type": "stream",
     "text": [
      "Epoch 448: 2batch [00:00, 16.53batch/s, loss=937]"
     ]
    },
    {
     "name": "stdout",
     "output_type": "stream",
     "text": [
      "epoch 447: avg test  loss 1030.34, bar  test loss 5.720, len  test loss 0.111, col  test loss 162.740\n"
     ]
    },
    {
     "name": "stderr",
     "output_type": "stream",
     "text": [
      "Epoch 448: 543batch [00:35, 15.18batch/s, loss=861]    \n"
     ]
    },
    {
     "name": "stdout",
     "output_type": "stream",
     "text": [
      "epoch 448: avg train loss 928.17, bar train loss 5.807, len train loss 0.063, col train loss 162.547\n"
     ]
    },
    {
     "name": "stderr",
     "output_type": "stream",
     "text": [
      "Epoch 449: 2batch [00:00, 15.75batch/s, loss=909]"
     ]
    },
    {
     "name": "stdout",
     "output_type": "stream",
     "text": [
      "epoch 448: avg test  loss 1038.22, bar  test loss 6.167, len  test loss 0.054, col  test loss 162.302\n"
     ]
    },
    {
     "name": "stderr",
     "output_type": "stream",
     "text": [
      "Epoch 449: 543batch [00:35, 15.16batch/s, loss=916]   \n"
     ]
    },
    {
     "name": "stdout",
     "output_type": "stream",
     "text": [
      "epoch 449: avg train loss 897.30, bar train loss 5.763, len train loss 0.056, col train loss 162.445\n"
     ]
    },
    {
     "name": "stderr",
     "output_type": "stream",
     "text": [
      "Epoch 450: 2batch [00:00, 15.75batch/s, loss=904]"
     ]
    },
    {
     "name": "stdout",
     "output_type": "stream",
     "text": [
      "epoch 449: avg test  loss 1006.21, bar  test loss 5.813, len  test loss 0.036, col  test loss 162.304\n"
     ]
    },
    {
     "name": "stderr",
     "output_type": "stream",
     "text": [
      "Epoch 450: 543batch [00:35, 15.20batch/s, loss=981]    \n"
     ]
    },
    {
     "name": "stdout",
     "output_type": "stream",
     "text": [
      "epoch 450: avg train loss 934.51, bar train loss 5.781, len train loss 0.047, col train loss 162.513\n",
      "epoch 450: avg test  loss 984.74, bar  test loss 5.681, len  test loss 0.040, col  test loss 162.387\n"
     ]
    },
    {
     "name": "stderr",
     "output_type": "stream",
     "text": [
      "Epoch 451: 543batch [00:35, 15.20batch/s, loss=914]    \n"
     ]
    },
    {
     "name": "stdout",
     "output_type": "stream",
     "text": [
      "epoch 451: avg train loss 895.55, bar train loss 5.752, len train loss 0.042, col train loss 162.487\n"
     ]
    },
    {
     "name": "stderr",
     "output_type": "stream",
     "text": [
      "Epoch 452: 2batch [00:00, 16.13batch/s, loss=916]"
     ]
    },
    {
     "name": "stdout",
     "output_type": "stream",
     "text": [
      "epoch 451: avg test  loss 1006.23, bar  test loss 5.751, len  test loss 0.168, col  test loss 162.282\n"
     ]
    },
    {
     "name": "stderr",
     "output_type": "stream",
     "text": [
      "Epoch 452: 543batch [00:35, 15.19batch/s, loss=933]    \n"
     ]
    },
    {
     "name": "stdout",
     "output_type": "stream",
     "text": [
      "epoch 452: avg train loss 896.17, bar train loss 5.760, len train loss 0.045, col train loss 162.496\n"
     ]
    },
    {
     "name": "stderr",
     "output_type": "stream",
     "text": [
      "Epoch 453: 2batch [00:00, 16.39batch/s, loss=949]"
     ]
    },
    {
     "name": "stdout",
     "output_type": "stream",
     "text": [
      "epoch 452: avg test  loss 1004.77, bar  test loss 5.771, len  test loss 0.046, col  test loss 162.407\n"
     ]
    },
    {
     "name": "stderr",
     "output_type": "stream",
     "text": [
      "Epoch 453: 543batch [00:35, 15.16batch/s, loss=914]   \n"
     ]
    },
    {
     "name": "stdout",
     "output_type": "stream",
     "text": [
      "epoch 453: avg train loss 896.09, bar train loss 5.753, len train loss 0.046, col train loss 162.481\n"
     ]
    },
    {
     "name": "stderr",
     "output_type": "stream",
     "text": [
      "Epoch 454: 2batch [00:00, 15.50batch/s, loss=931]"
     ]
    },
    {
     "name": "stdout",
     "output_type": "stream",
     "text": [
      "epoch 453: avg test  loss 1047.04, bar  test loss 5.900, len  test loss 0.332, col  test loss 162.521\n"
     ]
    },
    {
     "name": "stderr",
     "output_type": "stream",
     "text": [
      "Epoch 454: 543batch [00:35, 15.14batch/s, loss=896]   \n"
     ]
    },
    {
     "name": "stdout",
     "output_type": "stream",
     "text": [
      "epoch 454: avg train loss 896.30, bar train loss 5.759, len train loss 0.045, col train loss 162.519\n"
     ]
    },
    {
     "name": "stderr",
     "output_type": "stream",
     "text": [
      "Epoch 455: 2batch [00:00, 16.13batch/s, loss=894]"
     ]
    },
    {
     "name": "stdout",
     "output_type": "stream",
     "text": [
      "epoch 454: avg test  loss 977.79, bar  test loss 5.737, len  test loss 0.142, col  test loss 162.687\n"
     ]
    },
    {
     "name": "stderr",
     "output_type": "stream",
     "text": [
      "Epoch 455: 543batch [00:35, 15.16batch/s, loss=947]    \n"
     ]
    },
    {
     "name": "stdout",
     "output_type": "stream",
     "text": [
      "epoch 455: avg train loss 899.43, bar train loss 5.801, len train loss 0.071, col train loss 162.560\n",
      "epoch 455: avg test  loss 979.47, bar  test loss 5.716, len  test loss 0.057, col  test loss 162.318\n"
     ]
    },
    {
     "name": "stderr",
     "output_type": "stream",
     "text": [
      "Epoch 456: 543batch [00:35, 15.13batch/s, loss=904]    \n"
     ]
    },
    {
     "name": "stdout",
     "output_type": "stream",
     "text": [
      "epoch 456: avg train loss 896.52, bar train loss 5.751, len train loss 0.047, col train loss 162.529\n"
     ]
    },
    {
     "name": "stderr",
     "output_type": "stream",
     "text": [
      "Epoch 457: 2batch [00:00, 16.00batch/s, loss=899]"
     ]
    },
    {
     "name": "stdout",
     "output_type": "stream",
     "text": [
      "epoch 456: avg test  loss 1004.34, bar  test loss 5.742, len  test loss 0.124, col  test loss 162.364\n"
     ]
    },
    {
     "name": "stderr",
     "output_type": "stream",
     "text": [
      "Epoch 457: 543batch [00:35, 15.11batch/s, loss=881]    \n"
     ]
    },
    {
     "name": "stdout",
     "output_type": "stream",
     "text": [
      "epoch 457: avg train loss 897.40, bar train loss 5.778, len train loss 0.056, col train loss 162.530\n"
     ]
    },
    {
     "name": "stderr",
     "output_type": "stream",
     "text": [
      "Epoch 458: 2batch [00:00, 15.38batch/s, loss=917]"
     ]
    },
    {
     "name": "stdout",
     "output_type": "stream",
     "text": [
      "epoch 457: avg test  loss 996.22, bar  test loss 5.901, len  test loss 0.176, col  test loss 162.955\n"
     ]
    },
    {
     "name": "stderr",
     "output_type": "stream",
     "text": [
      "Epoch 458: 543batch [00:35, 15.12batch/s, loss=821]   \n"
     ]
    },
    {
     "name": "stdout",
     "output_type": "stream",
     "text": [
      "epoch 458: avg train loss 897.51, bar train loss 5.794, len train loss 0.055, col train loss 162.550\n"
     ]
    },
    {
     "name": "stderr",
     "output_type": "stream",
     "text": [
      "Epoch 459: 2batch [00:00, 16.13batch/s, loss=921]"
     ]
    },
    {
     "name": "stdout",
     "output_type": "stream",
     "text": [
      "epoch 458: avg test  loss 1052.94, bar  test loss 5.697, len  test loss 0.541, col  test loss 162.571\n"
     ]
    },
    {
     "name": "stderr",
     "output_type": "stream",
     "text": [
      "Epoch 459: 543batch [00:36, 15.08batch/s, loss=918]    \n"
     ]
    },
    {
     "name": "stdout",
     "output_type": "stream",
     "text": [
      "epoch 459: avg train loss 896.68, bar train loss 5.785, len train loss 0.047, col train loss 162.539\n"
     ]
    },
    {
     "name": "stderr",
     "output_type": "stream",
     "text": [
      "Epoch 460: 2batch [00:00, 15.62batch/s, loss=914]"
     ]
    },
    {
     "name": "stdout",
     "output_type": "stream",
     "text": [
      "epoch 459: avg test  loss 1069.92, bar  test loss 5.909, len  test loss 0.287, col  test loss 162.911\n"
     ]
    },
    {
     "name": "stderr",
     "output_type": "stream",
     "text": [
      "Epoch 460: 543batch [00:36, 15.05batch/s, loss=887]    \n"
     ]
    },
    {
     "name": "stdout",
     "output_type": "stream",
     "text": [
      "epoch 460: avg train loss 917.68, bar train loss 5.849, len train loss 0.077, col train loss 162.574\n",
      "epoch 460: avg test  loss 1031.83, bar  test loss 5.887, len  test loss 0.042, col  test loss 162.459\n"
     ]
    },
    {
     "name": "stderr",
     "output_type": "stream",
     "text": [
      "Epoch 461: 543batch [00:36, 14.99batch/s, loss=980]    \n"
     ]
    },
    {
     "name": "stdout",
     "output_type": "stream",
     "text": [
      "epoch 461: avg train loss 896.26, bar train loss 5.789, len train loss 0.043, col train loss 162.526\n"
     ]
    },
    {
     "name": "stderr",
     "output_type": "stream",
     "text": [
      "Epoch 462: 2batch [00:00, 16.26batch/s, loss=885]"
     ]
    },
    {
     "name": "stdout",
     "output_type": "stream",
     "text": [
      "epoch 461: avg test  loss 1050.95, bar  test loss 5.684, len  test loss 0.061, col  test loss 162.353\n"
     ]
    },
    {
     "name": "stderr",
     "output_type": "stream",
     "text": [
      "Epoch 462: 543batch [00:36, 15.01batch/s, loss=882]    \n"
     ]
    },
    {
     "name": "stdout",
     "output_type": "stream",
     "text": [
      "epoch 462: avg train loss 898.93, bar train loss 5.810, len train loss 0.059, col train loss 162.605\n"
     ]
    },
    {
     "name": "stderr",
     "output_type": "stream",
     "text": [
      "Epoch 463: 2batch [00:00, 16.00batch/s, loss=980]"
     ]
    },
    {
     "name": "stdout",
     "output_type": "stream",
     "text": [
      "epoch 462: avg test  loss 1041.12, bar  test loss 5.775, len  test loss 0.060, col  test loss 162.478\n"
     ]
    },
    {
     "name": "stderr",
     "output_type": "stream",
     "text": [
      "Epoch 463: 543batch [00:36, 14.98batch/s, loss=881]    \n"
     ]
    },
    {
     "name": "stdout",
     "output_type": "stream",
     "text": [
      "epoch 463: avg train loss 902.06, bar train loss 5.833, len train loss 0.089, col train loss 162.578\n"
     ]
    },
    {
     "name": "stderr",
     "output_type": "stream",
     "text": [
      "Epoch 464: 2batch [00:00, 15.87batch/s, loss=905]"
     ]
    },
    {
     "name": "stdout",
     "output_type": "stream",
     "text": [
      "epoch 463: avg test  loss 1050.12, bar  test loss 5.681, len  test loss 0.061, col  test loss 162.625\n"
     ]
    },
    {
     "name": "stderr",
     "output_type": "stream",
     "text": [
      "Epoch 464: 543batch [00:36, 15.03batch/s, loss=929]    \n"
     ]
    },
    {
     "name": "stdout",
     "output_type": "stream",
     "text": [
      "epoch 464: avg train loss 899.37, bar train loss 5.802, len train loss 0.066, col train loss 162.587\n"
     ]
    },
    {
     "name": "stderr",
     "output_type": "stream",
     "text": [
      "Epoch 465: 2batch [00:00, 15.87batch/s, loss=879]"
     ]
    },
    {
     "name": "stdout",
     "output_type": "stream",
     "text": [
      "epoch 464: avg test  loss 1019.95, bar  test loss 5.782, len  test loss 0.246, col  test loss 162.424\n"
     ]
    },
    {
     "name": "stderr",
     "output_type": "stream",
     "text": [
      "Epoch 465: 543batch [00:36, 15.00batch/s, loss=765]    \n"
     ]
    },
    {
     "name": "stdout",
     "output_type": "stream",
     "text": [
      "epoch 465: avg train loss 898.08, bar train loss 5.807, len train loss 0.058, col train loss 162.531\n",
      "epoch 465: avg test  loss 1029.38, bar  test loss 5.676, len  test loss 0.178, col  test loss 162.338\n"
     ]
    },
    {
     "name": "stderr",
     "output_type": "stream",
     "text": [
      "Epoch 466: 543batch [00:36, 14.92batch/s, loss=859]\n"
     ]
    },
    {
     "name": "stdout",
     "output_type": "stream",
     "text": [
      "epoch 466: avg train loss 896.02, bar train loss 5.771, len train loss 0.044, col train loss 162.536\n"
     ]
    },
    {
     "name": "stderr",
     "output_type": "stream",
     "text": [
      "Epoch 467: 2batch [00:00, 15.62batch/s, loss=942]"
     ]
    },
    {
     "name": "stdout",
     "output_type": "stream",
     "text": [
      "epoch 466: avg test  loss 1023.71, bar  test loss 5.737, len  test loss 0.052, col  test loss 162.785\n"
     ]
    },
    {
     "name": "stderr",
     "output_type": "stream",
     "text": [
      "Epoch 467: 543batch [00:37, 14.61batch/s, loss=936]    \n"
     ]
    },
    {
     "name": "stdout",
     "output_type": "stream",
     "text": [
      "epoch 467: avg train loss 897.89, bar train loss 5.798, len train loss 0.052, col train loss 162.595\n"
     ]
    },
    {
     "name": "stderr",
     "output_type": "stream",
     "text": [
      "Epoch 468: 2batch [00:00, 15.27batch/s, loss=921]"
     ]
    },
    {
     "name": "stdout",
     "output_type": "stream",
     "text": [
      "epoch 467: avg test  loss 1116.66, bar  test loss 5.832, len  test loss 0.106, col  test loss 162.780\n"
     ]
    },
    {
     "name": "stderr",
     "output_type": "stream",
     "text": [
      "Epoch 468: 543batch [00:36, 15.00batch/s, loss=920]    \n"
     ]
    },
    {
     "name": "stdout",
     "output_type": "stream",
     "text": [
      "epoch 468: avg train loss 895.94, bar train loss 5.778, len train loss 0.042, col train loss 162.568\n"
     ]
    },
    {
     "name": "stderr",
     "output_type": "stream",
     "text": [
      "Epoch 469: 2batch [00:00, 15.38batch/s, loss=874]"
     ]
    },
    {
     "name": "stdout",
     "output_type": "stream",
     "text": [
      "epoch 468: avg test  loss 1126.78, bar  test loss 5.755, len  test loss 0.056, col  test loss 162.331\n"
     ]
    },
    {
     "name": "stderr",
     "output_type": "stream",
     "text": [
      "Epoch 469: 543batch [00:36, 14.96batch/s, loss=876]    \n"
     ]
    },
    {
     "name": "stdout",
     "output_type": "stream",
     "text": [
      "epoch 469: avg train loss 899.63, bar train loss 5.809, len train loss 0.062, col train loss 162.626\n"
     ]
    },
    {
     "name": "stderr",
     "output_type": "stream",
     "text": [
      "Epoch 470: 2batch [00:00, 15.62batch/s, loss=861]"
     ]
    },
    {
     "name": "stdout",
     "output_type": "stream",
     "text": [
      "epoch 469: avg test  loss 1277.65, bar  test loss 5.735, len  test loss 0.078, col  test loss 162.401\n"
     ]
    },
    {
     "name": "stderr",
     "output_type": "stream",
     "text": [
      "Epoch 470: 543batch [00:36, 14.69batch/s, loss=877]    \n"
     ]
    },
    {
     "name": "stdout",
     "output_type": "stream",
     "text": [
      "epoch 470: avg train loss 898.99, bar train loss 5.801, len train loss 0.066, col train loss 162.588\n",
      "epoch 470: avg test  loss 1477.28, bar  test loss 5.991, len  test loss 0.390, col  test loss 162.550\n"
     ]
    },
    {
     "name": "stderr",
     "output_type": "stream",
     "text": [
      "Epoch 471: 543batch [00:36, 14.89batch/s, loss=895]    \n"
     ]
    },
    {
     "name": "stdout",
     "output_type": "stream",
     "text": [
      "epoch 471: avg train loss 898.49, bar train loss 5.833, len train loss 0.056, col train loss 162.610\n"
     ]
    },
    {
     "name": "stderr",
     "output_type": "stream",
     "text": [
      "Epoch 472: 2batch [00:00, 16.00batch/s, loss=909]"
     ]
    },
    {
     "name": "stdout",
     "output_type": "stream",
     "text": [
      "epoch 471: avg test  loss 1228.51, bar  test loss 6.008, len  test loss 0.049, col  test loss 162.618\n"
     ]
    },
    {
     "name": "stderr",
     "output_type": "stream",
     "text": [
      "Epoch 472: 543batch [00:36, 14.79batch/s, loss=924]    \n"
     ]
    },
    {
     "name": "stdout",
     "output_type": "stream",
     "text": [
      "epoch 472: avg train loss 896.78, bar train loss 5.792, len train loss 0.046, col train loss 162.522\n"
     ]
    },
    {
     "name": "stderr",
     "output_type": "stream",
     "text": [
      "Epoch 473: 2batch [00:00, 15.27batch/s, loss=870]"
     ]
    },
    {
     "name": "stdout",
     "output_type": "stream",
     "text": [
      "epoch 472: avg test  loss 1385.13, bar  test loss 5.960, len  test loss 0.615, col  test loss 162.355\n"
     ]
    },
    {
     "name": "stderr",
     "output_type": "stream",
     "text": [
      "Epoch 473: 543batch [00:36, 14.82batch/s, loss=840]    \n"
     ]
    },
    {
     "name": "stdout",
     "output_type": "stream",
     "text": [
      "epoch 473: avg train loss 898.95, bar train loss 5.821, len train loss 0.059, col train loss 162.595\n"
     ]
    },
    {
     "name": "stderr",
     "output_type": "stream",
     "text": [
      "Epoch 474: 2batch [00:00, 15.50batch/s, loss=884]"
     ]
    },
    {
     "name": "stdout",
     "output_type": "stream",
     "text": [
      "epoch 473: avg test  loss 1283.04, bar  test loss 5.698, len  test loss 0.054, col  test loss 162.614\n"
     ]
    },
    {
     "name": "stderr",
     "output_type": "stream",
     "text": [
      "Epoch 474: 543batch [00:37, 14.65batch/s, loss=922]    \n"
     ]
    },
    {
     "name": "stdout",
     "output_type": "stream",
     "text": [
      "epoch 474: avg train loss 897.39, bar train loss 5.837, len train loss 0.048, col train loss 162.607\n"
     ]
    },
    {
     "name": "stderr",
     "output_type": "stream",
     "text": [
      "Epoch 475: 2batch [00:00, 15.15batch/s, loss=892]"
     ]
    },
    {
     "name": "stdout",
     "output_type": "stream",
     "text": [
      "epoch 474: avg test  loss 1264.41, bar  test loss 5.765, len  test loss 0.305, col  test loss 162.698\n"
     ]
    },
    {
     "name": "stderr",
     "output_type": "stream",
     "text": [
      "Epoch 475: 543batch [00:36, 14.86batch/s, loss=838]    \n"
     ]
    },
    {
     "name": "stdout",
     "output_type": "stream",
     "text": [
      "epoch 475: avg train loss 896.98, bar train loss 5.818, len train loss 0.047, col train loss 162.601\n",
      "epoch 475: avg test  loss 1248.91, bar  test loss 5.946, len  test loss 0.080, col  test loss 162.522\n"
     ]
    },
    {
     "name": "stderr",
     "output_type": "stream",
     "text": [
      "Epoch 476: 543batch [00:36, 14.91batch/s, loss=992]    \n"
     ]
    },
    {
     "name": "stdout",
     "output_type": "stream",
     "text": [
      "epoch 476: avg train loss 901.30, bar train loss 5.816, len train loss 0.084, col train loss 162.578\n"
     ]
    },
    {
     "name": "stderr",
     "output_type": "stream",
     "text": [
      "Epoch 477: 2batch [00:00, 15.50batch/s, loss=887]"
     ]
    },
    {
     "name": "stdout",
     "output_type": "stream",
     "text": [
      "epoch 476: avg test  loss 1184.34, bar  test loss 5.688, len  test loss 0.138, col  test loss 162.398\n"
     ]
    },
    {
     "name": "stderr",
     "output_type": "stream",
     "text": [
      "Epoch 477: 543batch [00:36, 14.85batch/s, loss=975]    \n"
     ]
    },
    {
     "name": "stdout",
     "output_type": "stream",
     "text": [
      "epoch 477: avg train loss 899.41, bar train loss 5.848, len train loss 0.062, col train loss 162.674\n"
     ]
    },
    {
     "name": "stderr",
     "output_type": "stream",
     "text": [
      "Epoch 478: 2batch [00:00, 15.75batch/s, loss=855]"
     ]
    },
    {
     "name": "stdout",
     "output_type": "stream",
     "text": [
      "epoch 477: avg test  loss 1243.32, bar  test loss 5.756, len  test loss 0.250, col  test loss 162.686\n"
     ]
    },
    {
     "name": "stderr",
     "output_type": "stream",
     "text": [
      "Epoch 478: 543batch [00:36, 14.89batch/s, loss=869]    \n"
     ]
    },
    {
     "name": "stdout",
     "output_type": "stream",
     "text": [
      "epoch 478: avg train loss 898.41, bar train loss 5.824, len train loss 0.060, col train loss 162.579\n"
     ]
    },
    {
     "name": "stderr",
     "output_type": "stream",
     "text": [
      "Epoch 479: 2batch [00:00, 15.87batch/s, loss=854]"
     ]
    },
    {
     "name": "stdout",
     "output_type": "stream",
     "text": [
      "epoch 478: avg test  loss 1230.21, bar  test loss 5.896, len  test loss 0.038, col  test loss 162.593\n"
     ]
    },
    {
     "name": "stderr",
     "output_type": "stream",
     "text": [
      "Epoch 479: 543batch [00:36, 14.87batch/s, loss=840]\n"
     ]
    },
    {
     "name": "stdout",
     "output_type": "stream",
     "text": [
      "epoch 479: avg train loss 896.12, bar train loss 5.812, len train loss 0.043, col train loss 162.562\n"
     ]
    },
    {
     "name": "stderr",
     "output_type": "stream",
     "text": [
      "Epoch 480: 2batch [00:00, 13.99batch/s, loss=886]"
     ]
    },
    {
     "name": "stdout",
     "output_type": "stream",
     "text": [
      "epoch 479: avg test  loss 1229.49, bar  test loss 5.842, len  test loss 0.139, col  test loss 163.068\n"
     ]
    },
    {
     "name": "stderr",
     "output_type": "stream",
     "text": [
      "Epoch 480: 543batch [00:36, 14.83batch/s, loss=866]    \n"
     ]
    },
    {
     "name": "stdout",
     "output_type": "stream",
     "text": [
      "epoch 480: avg train loss 897.26, bar train loss 5.805, len train loss 0.049, col train loss 162.599\n",
      "epoch 480: avg test  loss 1307.70, bar  test loss 5.715, len  test loss 0.661, col  test loss 162.783\n"
     ]
    },
    {
     "name": "stderr",
     "output_type": "stream",
     "text": [
      "Epoch 481: 543batch [00:36, 14.87batch/s, loss=855]    \n"
     ]
    },
    {
     "name": "stdout",
     "output_type": "stream",
     "text": [
      "epoch 481: avg train loss 899.24, bar train loss 5.807, len train loss 0.069, col train loss 162.638\n"
     ]
    },
    {
     "name": "stderr",
     "output_type": "stream",
     "text": [
      "Epoch 482: 2batch [00:00, 16.00batch/s, loss=865]"
     ]
    },
    {
     "name": "stdout",
     "output_type": "stream",
     "text": [
      "epoch 481: avg test  loss 1265.28, bar  test loss 5.924, len  test loss 0.232, col  test loss 162.715\n"
     ]
    },
    {
     "name": "stderr",
     "output_type": "stream",
     "text": [
      "Epoch 482: 543batch [00:36, 14.89batch/s, loss=832]\n"
     ]
    },
    {
     "name": "stdout",
     "output_type": "stream",
     "text": [
      "epoch 482: avg train loss 896.33, bar train loss 5.786, len train loss 0.044, col train loss 162.573\n"
     ]
    },
    {
     "name": "stderr",
     "output_type": "stream",
     "text": [
      "Epoch 483: 2batch [00:00, 15.87batch/s, loss=870]"
     ]
    },
    {
     "name": "stdout",
     "output_type": "stream",
     "text": [
      "epoch 482: avg test  loss 1231.95, bar  test loss 5.801, len  test loss 0.123, col  test loss 162.611\n"
     ]
    },
    {
     "name": "stderr",
     "output_type": "stream",
     "text": [
      "Epoch 483: 543batch [00:36, 14.89batch/s, loss=961]    \n"
     ]
    },
    {
     "name": "stdout",
     "output_type": "stream",
     "text": [
      "epoch 483: avg train loss 899.88, bar train loss 5.806, len train loss 0.064, col train loss 162.593\n"
     ]
    },
    {
     "name": "stderr",
     "output_type": "stream",
     "text": [
      "Epoch 484: 2batch [00:00, 15.75batch/s, loss=848]"
     ]
    },
    {
     "name": "stdout",
     "output_type": "stream",
     "text": [
      "epoch 483: avg test  loss 1424.06, bar  test loss 5.805, len  test loss 0.745, col  test loss 162.508\n"
     ]
    },
    {
     "name": "stderr",
     "output_type": "stream",
     "text": [
      "Epoch 484: 543batch [00:36, 14.80batch/s, loss=861]   \n"
     ]
    },
    {
     "name": "stdout",
     "output_type": "stream",
     "text": [
      "epoch 484: avg train loss 897.01, bar train loss 5.828, len train loss 0.044, col train loss 162.607\n"
     ]
    },
    {
     "name": "stderr",
     "output_type": "stream",
     "text": [
      "Epoch 485: 1batch [00:00,  7.87batch/s, loss=929]"
     ]
    },
    {
     "name": "stdout",
     "output_type": "stream",
     "text": [
      "epoch 484: avg test  loss 1498.18, bar  test loss 5.734, len  test loss 2.044, col  test loss 162.458\n"
     ]
    },
    {
     "name": "stderr",
     "output_type": "stream",
     "text": [
      "Epoch 485: 543batch [00:36, 14.74batch/s, loss=859]    \n"
     ]
    },
    {
     "name": "stdout",
     "output_type": "stream",
     "text": [
      "epoch 485: avg train loss 900.43, bar train loss 5.852, len train loss 0.073, col train loss 162.669\n",
      "epoch 485: avg test  loss 1232.96, bar  test loss 5.784, len  test loss 0.463, col  test loss 163.121\n"
     ]
    },
    {
     "name": "stderr",
     "output_type": "stream",
     "text": [
      "Epoch 486: 543batch [00:36, 14.85batch/s, loss=952]    \n"
     ]
    },
    {
     "name": "stdout",
     "output_type": "stream",
     "text": [
      "epoch 486: avg train loss 896.59, bar train loss 5.767, len train loss 0.044, col train loss 162.532\n"
     ]
    },
    {
     "name": "stderr",
     "output_type": "stream",
     "text": [
      "Epoch 487: 2batch [00:00, 15.27batch/s, loss=875]"
     ]
    },
    {
     "name": "stdout",
     "output_type": "stream",
     "text": [
      "epoch 486: avg test  loss 1300.31, bar  test loss 5.756, len  test loss 0.130, col  test loss 162.469\n"
     ]
    },
    {
     "name": "stderr",
     "output_type": "stream",
     "text": [
      "Epoch 487: 543batch [00:36, 14.83batch/s, loss=897]    \n"
     ]
    },
    {
     "name": "stdout",
     "output_type": "stream",
     "text": [
      "epoch 487: avg train loss 896.92, bar train loss 5.799, len train loss 0.046, col train loss 162.592\n"
     ]
    },
    {
     "name": "stderr",
     "output_type": "stream",
     "text": [
      "Epoch 488: 2batch [00:00, 15.75batch/s, loss=933]"
     ]
    },
    {
     "name": "stdout",
     "output_type": "stream",
     "text": [
      "epoch 487: avg test  loss 1327.88, bar  test loss 5.588, len  test loss 0.612, col  test loss 162.361\n"
     ]
    },
    {
     "name": "stderr",
     "output_type": "stream",
     "text": [
      "Epoch 488: 543batch [00:36, 14.79batch/s, loss=921] \n"
     ]
    },
    {
     "name": "stdout",
     "output_type": "stream",
     "text": [
      "epoch 488: avg train loss 896.65, bar train loss 5.802, len train loss 0.043, col train loss 162.583\n"
     ]
    },
    {
     "name": "stderr",
     "output_type": "stream",
     "text": [
      "Epoch 489: 2batch [00:00, 15.38batch/s, loss=899]"
     ]
    },
    {
     "name": "stdout",
     "output_type": "stream",
     "text": [
      "epoch 488: avg test  loss 1296.37, bar  test loss 5.651, len  test loss 0.128, col  test loss 162.707\n"
     ]
    },
    {
     "name": "stderr",
     "output_type": "stream",
     "text": [
      "Epoch 489: 543batch [00:36, 14.77batch/s, loss=961]    \n"
     ]
    },
    {
     "name": "stdout",
     "output_type": "stream",
     "text": [
      "epoch 489: avg train loss 897.97, bar train loss 5.802, len train loss 0.055, col train loss 162.603\n"
     ]
    },
    {
     "name": "stderr",
     "output_type": "stream",
     "text": [
      "Epoch 490: 2batch [00:00, 15.75batch/s, loss=974]"
     ]
    },
    {
     "name": "stdout",
     "output_type": "stream",
     "text": [
      "epoch 489: avg test  loss 1266.82, bar  test loss 5.853, len  test loss 0.405, col  test loss 162.377\n"
     ]
    },
    {
     "name": "stderr",
     "output_type": "stream",
     "text": [
      "Epoch 490: 543batch [00:36, 14.77batch/s, loss=861]    \n"
     ]
    },
    {
     "name": "stdout",
     "output_type": "stream",
     "text": [
      "epoch 490: avg train loss 935.45, bar train loss 5.968, len train loss 0.097, col train loss 162.784\n",
      "epoch 490: avg test  loss 1083.89, bar  test loss 6.170, len  test loss 0.148, col  test loss 163.034\n"
     ]
    },
    {
     "name": "stderr",
     "output_type": "stream",
     "text": [
      "Epoch 491: 543batch [00:36, 14.77batch/s, loss=920]    \n"
     ]
    },
    {
     "name": "stdout",
     "output_type": "stream",
     "text": [
      "epoch 491: avg train loss 896.79, bar train loss 5.805, len train loss 0.043, col train loss 162.592\n"
     ]
    },
    {
     "name": "stderr",
     "output_type": "stream",
     "text": [
      "Epoch 492: 2batch [00:00, 16.00batch/s, loss=846]"
     ]
    },
    {
     "name": "stdout",
     "output_type": "stream",
     "text": [
      "epoch 491: avg test  loss 1128.82, bar  test loss 5.908, len  test loss 0.048, col  test loss 162.434\n"
     ]
    },
    {
     "name": "stderr",
     "output_type": "stream",
     "text": [
      "Epoch 492: 543batch [00:36, 14.77batch/s, loss=833]    \n"
     ]
    },
    {
     "name": "stdout",
     "output_type": "stream",
     "text": [
      "epoch 492: avg train loss 897.88, bar train loss 5.814, len train loss 0.052, col train loss 162.603\n"
     ]
    },
    {
     "name": "stderr",
     "output_type": "stream",
     "text": [
      "Epoch 493: 2batch [00:00, 16.13batch/s, loss=895]"
     ]
    },
    {
     "name": "stdout",
     "output_type": "stream",
     "text": [
      "epoch 492: avg test  loss 1196.66, bar  test loss 5.801, len  test loss 0.042, col  test loss 162.571\n"
     ]
    },
    {
     "name": "stderr",
     "output_type": "stream",
     "text": [
      "Epoch 493: 543batch [00:36, 14.76batch/s, loss=917]    \n"
     ]
    },
    {
     "name": "stdout",
     "output_type": "stream",
     "text": [
      "epoch 493: avg train loss 898.04, bar train loss 5.802, len train loss 0.050, col train loss 162.572\n"
     ]
    },
    {
     "name": "stderr",
     "output_type": "stream",
     "text": [
      "Epoch 494: 2batch [00:00, 15.62batch/s, loss=877]"
     ]
    },
    {
     "name": "stdout",
     "output_type": "stream",
     "text": [
      "epoch 493: avg test  loss 1148.49, bar  test loss 5.920, len  test loss 0.041, col  test loss 162.806\n"
     ]
    },
    {
     "name": "stderr",
     "output_type": "stream",
     "text": [
      "Epoch 494: 543batch [00:36, 14.72batch/s, loss=923]    \n"
     ]
    },
    {
     "name": "stdout",
     "output_type": "stream",
     "text": [
      "epoch 494: avg train loss 897.20, bar train loss 5.825, len train loss 0.045, col train loss 162.629\n"
     ]
    },
    {
     "name": "stderr",
     "output_type": "stream",
     "text": [
      "Epoch 495: 2batch [00:00, 15.75batch/s, loss=871]"
     ]
    },
    {
     "name": "stdout",
     "output_type": "stream",
     "text": [
      "epoch 494: avg test  loss 1108.70, bar  test loss 5.944, len  test loss 0.157, col  test loss 163.100\n"
     ]
    },
    {
     "name": "stderr",
     "output_type": "stream",
     "text": [
      "Epoch 495: 543batch [00:36, 14.72batch/s, loss=909]    \n"
     ]
    },
    {
     "name": "stdout",
     "output_type": "stream",
     "text": [
      "epoch 495: avg train loss 900.35, bar train loss 5.861, len train loss 0.056, col train loss 162.667\n",
      "epoch 495: avg test  loss 991.31, bar  test loss 5.983, len  test loss 0.111, col  test loss 162.854\n"
     ]
    },
    {
     "name": "stderr",
     "output_type": "stream",
     "text": [
      "Epoch 496: 543batch [00:37, 14.67batch/s, loss=942]\n"
     ]
    },
    {
     "name": "stdout",
     "output_type": "stream",
     "text": [
      "epoch 496: avg train loss 896.40, bar train loss 5.814, len train loss 0.043, col train loss 162.574\n"
     ]
    },
    {
     "name": "stderr",
     "output_type": "stream",
     "text": [
      "Epoch 497: 2batch [00:00, 15.27batch/s, loss=877]"
     ]
    },
    {
     "name": "stdout",
     "output_type": "stream",
     "text": [
      "epoch 496: avg test  loss 973.95, bar  test loss 5.790, len  test loss 0.039, col  test loss 162.535\n"
     ]
    },
    {
     "name": "stderr",
     "output_type": "stream",
     "text": [
      "Epoch 497: 543batch [00:37, 14.65batch/s, loss=877]    \n"
     ]
    },
    {
     "name": "stdout",
     "output_type": "stream",
     "text": [
      "epoch 497: avg train loss 902.48, bar train loss 5.897, len train loss 0.067, col train loss 162.711\n"
     ]
    },
    {
     "name": "stderr",
     "output_type": "stream",
     "text": [
      "Epoch 498: 2batch [00:00, 15.27batch/s, loss=905]"
     ]
    },
    {
     "name": "stdout",
     "output_type": "stream",
     "text": [
      "epoch 497: avg test  loss 1032.63, bar  test loss 5.850, len  test loss 0.105, col  test loss 162.408\n"
     ]
    },
    {
     "name": "stderr",
     "output_type": "stream",
     "text": [
      "Epoch 498: 543batch [00:36, 14.68batch/s, loss=867]    \n"
     ]
    },
    {
     "name": "stdout",
     "output_type": "stream",
     "text": [
      "epoch 498: avg train loss 898.60, bar train loss 5.823, len train loss 0.050, col train loss 162.608\n"
     ]
    },
    {
     "name": "stderr",
     "output_type": "stream",
     "text": [
      "Epoch 499: 2batch [00:00, 15.50batch/s, loss=856]"
     ]
    },
    {
     "name": "stdout",
     "output_type": "stream",
     "text": [
      "epoch 498: avg test  loss 1192.22, bar  test loss 5.834, len  test loss 0.060, col  test loss 162.760\n"
     ]
    },
    {
     "name": "stderr",
     "output_type": "stream",
     "text": [
      "Epoch 499: 543batch [00:37, 14.66batch/s, loss=939]    \n"
     ]
    },
    {
     "name": "stdout",
     "output_type": "stream",
     "text": [
      "epoch 499: avg train loss 898.87, bar train loss 5.835, len train loss 0.056, col train loss 162.636\n"
     ]
    },
    {
     "name": "stderr",
     "output_type": "stream",
     "text": [
      "Epoch 500: 2batch [00:00, 15.50batch/s, loss=902]"
     ]
    },
    {
     "name": "stdout",
     "output_type": "stream",
     "text": [
      "epoch 499: avg test  loss 1164.72, bar  test loss 6.066, len  test loss 0.056, col  test loss 163.084\n"
     ]
    },
    {
     "name": "stderr",
     "output_type": "stream",
     "text": [
      "Epoch 500: 543batch [00:37, 14.58batch/s, loss=849]\n"
     ]
    },
    {
     "name": "stdout",
     "output_type": "stream",
     "text": [
      "epoch 500: avg train loss 897.26, bar train loss 5.830, len train loss 0.044, col train loss 162.614\n",
      "epoch 500: avg test  loss 1230.08, bar  test loss 5.804, len  test loss 0.071, col  test loss 162.534\n"
     ]
    }
   ],
   "source": [
    "lss, lss_t = train(default_args, train_loader, test_loader, diva, optimizer, 500, 0, save_folder=\"SPECIALVAE\",save_interval=5)"
   ]
  },
  {
   "cell_type": "code",
   "execution_count": null,
   "metadata": {
    "colab": {
     "base_uri": "https://localhost:8080/",
     "height": 1000
    },
    "executionInfo": {
     "elapsed": 4182003,
     "status": "ok",
     "timestamp": 1647010362327,
     "user": {
      "displayName": "Marko Petkovic",
      "photoUrl": "https://lh3.googleusercontent.com/a-/AOh14Gijd0e9r3I1vRZVN6DEwl16XpJxxS1oSAKunOnfZQ=s64",
      "userId": "11987583535390684770"
     },
     "user_tz": -60
    },
    "id": "NprX9l7G73MJ",
    "outputId": "e970b2ef-1d7d-4702-dd1f-3bb4b59c0326"
   },
   "outputs": [],
   "source": [
    "lss2, lss_t2 = train(default_args, train_loader, test_loader, diva, optimizer, 3500, 2000, save_folder=\"VAE10\")"
   ]
  },
  {
   "cell_type": "code",
   "execution_count": null,
   "metadata": {},
   "outputs": [],
   "source": [
    "lss, lss_t = train(default_args, train_loader, test_loader, diva, optimizer, 5600, 2200, save_folder=\"VAE4\")"
   ]
  },
  {
   "cell_type": "code",
   "execution_count": null,
   "metadata": {
    "id": "c4r_UyPUGXqT"
   },
   "outputs": [],
   "source": [
    "def plot_loss_acc(lss, lss_t):\n",
    "    fig,ax = plt.subplots()\n",
    "    ax.plot(lss, label=\"train loss\")\n",
    "    ax.plot(lss_t, label = \"test loss\")\n",
    "    #ax1 = ax.twinx()\n",
    "    #ax1.plot(yacc, label = \"train accuracy\", ls='--')\n",
    "    #ax1.plot(yacc_t, label = \"test accuracy\", ls='--')\n",
    "\n",
    "    lines, labels = ax.get_legend_handles_labels()\n",
    "    #lines2, labels2 = ax1.get_legend_handles_labels()\n",
    "\n",
    "    ax.legend(lines, labels)"
   ]
  },
  {
   "cell_type": "code",
   "execution_count": null,
   "metadata": {
    "colab": {
     "base_uri": "https://localhost:8080/",
     "height": 266
    },
    "executionInfo": {
     "elapsed": 857,
     "status": "ok",
     "timestamp": 1645822416415,
     "user": {
      "displayName": "Marko Petkovic",
      "photoUrl": "https://lh3.googleusercontent.com/a-/AOh14Gijd0e9r3I1vRZVN6DEwl16XpJxxS1oSAKunOnfZQ=s64",
      "userId": "11987583535390684770"
     },
     "user_tz": -60
    },
    "id": "fTFZZmoguwtU",
    "outputId": "540c8c1f-99d7-4931-c102-7c96747243aa"
   },
   "outputs": [],
   "source": [
    "plot_loss_acc(lss, lss_t)"
   ]
  },
  {
   "cell_type": "code",
   "execution_count": null,
   "metadata": {
    "colab": {
     "base_uri": "https://localhost:8080/",
     "height": 265
    },
    "executionInfo": {
     "elapsed": 557,
     "status": "ok",
     "timestamp": 1645623855467,
     "user": {
      "displayName": "Marko Petkovic",
      "photoUrl": "https://lh3.googleusercontent.com/a/default-user=s64",
      "userId": "04006351469182865246"
     },
     "user_tz": -60
    },
    "id": "mq2FG26TznE1",
    "outputId": "152eddd3-a440-4b25-c437-498efb0a7ffe"
   },
   "outputs": [],
   "source": [
    "plot_loss_acc(lss3, lss_t3, yacc3, yacc_t3)"
   ]
  },
  {
   "cell_type": "code",
   "execution_count": null,
   "metadata": {
    "id": "9FyP02qPdgso"
   },
   "outputs": [],
   "source": [
    "def plot_change_latent_var(diva, lat_space=\"y\", var_idx=[0,1,2,3,4,5,6,7], step = 5):\n",
    "    a = next(enumerate(test_loader))\n",
    "    with torch.no_grad():\n",
    "        diva.eval()\n",
    "        d = a[1][2][:len(var_idx)].to(DEVICE).float()\n",
    "        x = a[1][0][:len(var_idx)].to(DEVICE).float()\n",
    "        y = a[1][1][:len(var_idx)].to(DEVICE).float()\n",
    "\n",
    "        zx, zx_sc = diva.qzx(x)\n",
    "        zy, zy_sc = diva.qzy(x)\n",
    "        zd, zd_sc =  diva.qzd(x)\n",
    "\n",
    "        print(torch.max(zy), torch.min(zy), \"sdmax:\", torch.max(zy_sc))\n",
    "\n",
    "        out = change(zx, zy, zd, var_idx, lat_space, diva, step)\n",
    "    \n",
    "    fig, ax = plt.subplots(ncols=out.shape[0],nrows=len(var_idx),figsize=(10*4*out.shape[0],10*len(var_idx)))\n",
    "    for i in range(out.shape[0]):\n",
    "      for j in range(len(var_idx)):\n",
    "        ax[j,i].imshow(out[i,j])"
   ]
  },
  {
   "cell_type": "code",
   "execution_count": null,
   "metadata": {
    "id": "x6kJu1APenFe"
   },
   "outputs": [],
   "source": [
    "def change(zx, zy, zd, idx, lat = \"y\", model=diva, step = 2):\n",
    "    \n",
    "    dif = np.arange(-30,15,step)\n",
    "    print(torch.max(zy), torch.min(zy))\n",
    "    out = np.zeros((dif.shape[0], len(idx), 25, 100 ,3))  \n",
    "    #print(zy.shape, dif.shape[0])\n",
    "    for i in range(dif.shape[0]):\n",
    "      for j in range(len(idx)):\n",
    "        if lat == \"y\":\n",
    "            zy[j,idx] = dif[i]\n",
    "        elif lat == \"x\":\n",
    "            zx[j,idx] = dif[i]\n",
    "        elif lat == \"d\":\n",
    "            zd[j,idx] = dif[i]\n",
    "        len_, bar, col = model.px(zd[j],zx[j],zy[j])\n",
    "        out[i,j] = model.px.reconstruct_image(len_[None,:], bar, col)\n",
    "    \n",
    "    return out\n",
    "\n"
   ]
  },
  {
   "cell_type": "code",
   "execution_count": null,
   "metadata": {
    "colab": {
     "base_uri": "https://localhost:8080/",
     "height": 243
    },
    "executionInfo": {
     "elapsed": 33513,
     "status": "ok",
     "timestamp": 1645623900042,
     "user": {
      "displayName": "Marko Petkovic",
      "photoUrl": "https://lh3.googleusercontent.com/a/default-user=s64",
      "userId": "04006351469182865246"
     },
     "user_tz": -60
    },
    "id": "4U1JHmTKh0cE",
    "outputId": "b0a1850e-9f0d-4163-813b-8686f4bb05fc"
   },
   "outputs": [],
   "source": [
    "plot_change_latent_var(diva)"
   ]
  },
  {
   "cell_type": "code",
   "execution_count": null,
   "metadata": {
    "id": "cpZoRZMGHcui"
   },
   "outputs": [],
   "source": [
    "fig,ax = plt.subplots()\n",
    "ax.plot(np.arange(50,120), [i.cpu().detach().numpy() for i in lss2], label=\"train loss\")\n",
    "ax.plot(np.arange(50,120), [i.cpu().detach().numpy() for i in lss_t2], label = \"testloss\")\n",
    "ax1 = ax.twinx()\n",
    "ax1.plot(np.arange(50,120), yacc2, label = \"train\")\n",
    "ax1.plot(np.arange(50,120), yacc_t2, label = \"test\")\n",
    "\n",
    "plt.legend()"
   ]
  },
  {
   "cell_type": "code",
   "execution_count": null,
   "metadata": {
    "colab": {
     "base_uri": "https://localhost:8080/",
     "height": 283
    },
    "executionInfo": {
     "elapsed": 681,
     "status": "ok",
     "timestamp": 1645563980004,
     "user": {
      "displayName": "Marko Petkovic",
      "photoUrl": "https://lh3.googleusercontent.com/a-/AOh14Gijd0e9r3I1vRZVN6DEwl16XpJxxS1oSAKunOnfZQ=s64",
      "userId": "11987583535390684770"
     },
     "user_tz": -60
    },
    "id": "OQMW85JXM6oO",
    "outputId": "dd28a6c2-0024-498e-d571-c705ee67fbd6"
   },
   "outputs": [],
   "source": [
    "fig,ax = plt.subplots()\n",
    "ax.plot(np.arange(120,180), [i.cpu().detach().numpy() for i in lss3], label=\"train loss\")\n",
    "ax.plot(np.arange(120,180), [i.cpu().detach().numpy() for i in lss_t3], label = \"testloss\")\n",
    "ax1 = ax.twinx()\n",
    "ax1.plot(np.arange(120,180), yacc3, label = \"train\",c='green')\n",
    "ax1.plot(np.arange(120,180), yacc_t3, label = \"test\")\n",
    "\n",
    "plt.legend()"
   ]
  },
  {
   "cell_type": "markdown",
   "metadata": {
    "id": "whsgNltzXDhK"
   },
   "source": [
    "# Model Evaluation"
   ]
  },
  {
   "cell_type": "markdown",
   "metadata": {
    "id": "VfcwhSNIjqIE"
   },
   "source": [
    "## Sampling from trained model"
   ]
  },
  {
   "cell_type": "code",
   "execution_count": null,
   "metadata": {
    "id": "4NWGV4Xd7bn8"
   },
   "outputs": [],
   "source": []
  },
  {
   "cell_type": "code",
   "execution_count": null,
   "metadata": {
    "id": "3z5XA4QI1Mb1"
   },
   "outputs": [],
   "source": [
    "def plot_latent_space(lat_space=\"y\"):\n",
    "    '''\n",
    "    lat_space: y, d, x\n",
    "    '''\n",
    "\n",
    "    "
   ]
  },
  {
   "cell_type": "code",
   "execution_count": null,
   "metadata": {
    "colab": {
     "base_uri": "https://localhost:8080/",
     "height": 336
    },
    "executionInfo": {
     "elapsed": 1897,
     "status": "ok",
     "timestamp": 1645556291755,
     "user": {
      "displayName": "Marko Petkovic",
      "photoUrl": "https://lh3.googleusercontent.com/a-/AOh14Gijd0e9r3I1vRZVN6DEwl16XpJxxS1oSAKunOnfZQ=s64",
      "userId": "11987583535390684770"
     },
     "user_tz": -60
    },
    "id": "USZ7nIDugT1S",
    "outputId": "174d53bb-845f-458b-ca85-9d749c9c0865"
   },
   "outputs": [],
   "source": [
    "plot(x, out, 0)"
   ]
  },
  {
   "cell_type": "code",
   "execution_count": null,
   "metadata": {
    "colab": {
     "base_uri": "https://localhost:8080/",
     "height": 230
    },
    "executionInfo": {
     "elapsed": 1646,
     "status": "ok",
     "timestamp": 1645550689935,
     "user": {
      "displayName": "Marko Petkovic",
      "photoUrl": "https://lh3.googleusercontent.com/a-/AOh14Gijd0e9r3I1vRZVN6DEwl16XpJxxS1oSAKunOnfZQ=s64",
      "userId": "11987583535390684770"
     },
     "user_tz": -60
    },
    "id": "OE3qVVFFLaPm",
    "outputId": "93953e16-3bda-464b-b765-3aedb9fbe428"
   },
   "outputs": [],
   "source": [
    "fig, ax = plt.subplots(nrows=3, ncols=3)\n",
    "for i in range(9):\n",
    "  ax[i//3, i%3].imshow(x[i].cpu().permute(1,2,0))\n",
    "  \n",
    "plt.savefig('divastamporg.png')"
   ]
  },
  {
   "cell_type": "code",
   "execution_count": null,
   "metadata": {
    "id": "RRQU05xQEx28"
   },
   "outputs": [],
   "source": []
  }
 ],
 "metadata": {
  "accelerator": "GPU",
  "colab": {
   "collapsed_sections": [],
   "name": "StampVAE (Beta)",
   "provenance": []
  },
  "kernelspec": {
   "display_name": "Python 3",
   "language": "python",
   "name": "python3"
  },
  "language_info": {
   "codemirror_mode": {
    "name": "ipython",
    "version": 3
   },
   "file_extension": ".py",
   "mimetype": "text/x-python",
   "name": "python",
   "nbconvert_exporter": "python",
   "pygments_lexer": "ipython3",
   "version": "3.7.6"
  }
 },
 "nbformat": 4,
 "nbformat_minor": 1
}
