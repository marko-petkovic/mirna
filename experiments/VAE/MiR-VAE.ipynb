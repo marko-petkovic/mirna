{
 "cells": [
  {
   "cell_type": "code",
   "execution_count": 1,
   "metadata": {
    "executionInfo": {
     "elapsed": 6,
     "status": "ok",
     "timestamp": 1647023261840,
     "user": {
      "displayName": "Marko Petkovic",
      "photoUrl": "https://lh3.googleusercontent.com/a-/AOh14Gijd0e9r3I1vRZVN6DEwl16XpJxxS1oSAKunOnfZQ=s64",
      "userId": "11987583535390684770"
     },
     "user_tz": -60
    },
    "id": "UuXEtFCubCjx"
   },
   "outputs": [],
   "source": [
    "link = 'D:/users/Marko/downloads/mirna/'\n"
   ]
  },
  {
   "cell_type": "markdown",
   "metadata": {
    "id": "MgMR4QspjvRl"
   },
   "source": [
    "# Imports"
   ]
  },
  {
   "cell_type": "code",
   "execution_count": 2,
   "metadata": {
    "executionInfo": {
     "elapsed": 5,
     "status": "ok",
     "timestamp": 1647023261840,
     "user": {
      "displayName": "Marko Petkovic",
      "photoUrl": "https://lh3.googleusercontent.com/a-/AOh14Gijd0e9r3I1vRZVN6DEwl16XpJxxS1oSAKunOnfZQ=s64",
      "userId": "11987583535390684770"
     },
     "user_tz": -60
    },
    "id": "aXljY6Cp4zU-"
   },
   "outputs": [],
   "source": [
    "%load_ext tensorboard"
   ]
  },
  {
   "cell_type": "code",
   "execution_count": 2,
   "metadata": {
    "colab": {
     "base_uri": "https://localhost:8080/"
    },
    "executionInfo": {
     "elapsed": 31000,
     "status": "ok",
     "timestamp": 1647023292835,
     "user": {
      "displayName": "Marko Petkovic",
      "photoUrl": "https://lh3.googleusercontent.com/a-/AOh14Gijd0e9r3I1vRZVN6DEwl16XpJxxS1oSAKunOnfZQ=s64",
      "userId": "11987583535390684770"
     },
     "user_tz": -60
    },
    "id": "VgKU5wNzDK4F",
    "outputId": "2edd95bf-9577-4772-eeca-95c5d32cf026"
   },
   "outputs": [],
   "source": [
    "import sys\n",
    "#sys.path.insert(0,'/content/drive/MyDrive/Marko/master')\n",
    "sys.path.insert(0, link)\n",
    "import numpy as np\n",
    "import matplotlib.pyplot as plt\n",
    "\n",
    "#import tensorflow as tf\n",
    "\n",
    "import torch\n",
    "import torch.optim as optim\n",
    "import torch.nn as nn\n",
    "import torch.distributions as dist\n",
    "\n",
    "from torch.nn import functional as F\n",
    "from torchinfo import summary\n",
    "from torch.utils.tensorboard import SummaryWriter\n",
    "from torch.utils.data import Dataset, DataLoader\n",
    "\n",
    "from sklearn.preprocessing import OneHotEncoder\n",
    "\n",
    "from tqdm import tqdm\n",
    "from tqdm import trange\n",
    "\n",
    "import datetime\n",
    "\n",
    "\n",
    "writer = SummaryWriter(f\"{link}/saved_models/VAE1/tensorboard\")"
   ]
  },
  {
   "cell_type": "code",
   "execution_count": 3,
   "metadata": {
    "executionInfo": {
     "elapsed": 6,
     "status": "ok",
     "timestamp": 1647023292836,
     "user": {
      "displayName": "Marko Petkovic",
      "photoUrl": "https://lh3.googleusercontent.com/a-/AOh14Gijd0e9r3I1vRZVN6DEwl16XpJxxS1oSAKunOnfZQ=s64",
      "userId": "11987583535390684770"
     },
     "user_tz": -60
    },
    "id": "HuLsYxyh6_ZM"
   },
   "outputs": [],
   "source": [
    "DEVICE = torch.device(\"cuda\" if torch.cuda.is_available() else \"cpu\")"
   ]
  },
  {
   "cell_type": "code",
   "execution_count": 4,
   "metadata": {},
   "outputs": [
    {
     "data": {
      "text/plain": [
       "device(type='cuda')"
      ]
     },
     "execution_count": 4,
     "metadata": {},
     "output_type": "execute_result"
    }
   ],
   "source": [
    "DEVICE"
   ]
  },
  {
   "cell_type": "markdown",
   "metadata": {
    "id": "axFkNf0cjx2V"
   },
   "source": [
    "# Model Classes"
   ]
  },
  {
   "cell_type": "code",
   "execution_count": 5,
   "metadata": {
    "executionInfo": {
     "elapsed": 6,
     "status": "ok",
     "timestamp": 1647023292836,
     "user": {
      "displayName": "Marko Petkovic",
      "photoUrl": "https://lh3.googleusercontent.com/a-/AOh14Gijd0e9r3I1vRZVN6DEwl16XpJxxS1oSAKunOnfZQ=s64",
      "userId": "11987583535390684770"
     },
     "user_tz": -60
    },
    "id": "ae7NZhZGj7Zi"
   },
   "outputs": [],
   "source": [
    "class diva_args:\n",
    "\n",
    "    def __init__(self, z_dim=64, d_dim=45, x_dim=7500, y_dim=2,\n",
    "                 beta=10, rec_alpha = 1, rec_beta = 1, \n",
    "                 rec_gamma = 1, warmup = 1, prewarmup = 1):\n",
    "\n",
    "        self.z_dim = z_dim\n",
    "        self.d_dim = d_dim\n",
    "        self.x_dim = x_dim\n",
    "        self.y_dim = y_dim\n",
    "        \n",
    "        self.beta = beta\n",
    "        self.rec_alpha = rec_alpha\n",
    "        self.rec_beta = rec_beta\n",
    "        self.rec_gamma = rec_gamma\n",
    "        self.warmup = warmup\n",
    "        self.prewarmup = prewarmup\n"
   ]
  },
  {
   "cell_type": "markdown",
   "metadata": {
    "id": "tb1vH-a1j7Rf"
   },
   "source": [
    "## Dataset Class"
   ]
  },
  {
   "cell_type": "code",
   "execution_count": 6,
   "metadata": {
    "executionInfo": {
     "elapsed": 328,
     "status": "ok",
     "timestamp": 1647023293159,
     "user": {
      "displayName": "Marko Petkovic",
      "photoUrl": "https://lh3.googleusercontent.com/a-/AOh14Gijd0e9r3I1vRZVN6DEwl16XpJxxS1oSAKunOnfZQ=s64",
      "userId": "11987583535390684770"
     },
     "user_tz": -60
    },
    "id": "D6ouvuZX3WPs"
   },
   "outputs": [],
   "source": [
    "class MicroRNADataset(Dataset):\n",
    "\n",
    "    def __init__(self, ds='train', create_encodings=False):\n",
    "        \n",
    "        # loading images\n",
    "        self.images = np.load(f'{link}/data/modmirbase_{ds}_images.npz')['arr_0']/255\n",
    "        \n",
    "        \n",
    "        # loading labels\n",
    "        print('Loading Labels! (~10s)')     \n",
    "        ohe = OneHotEncoder(categories='auto', sparse=False)\n",
    "        labels = np.load(f'{link}/data/modmirbase_{ds}_labels.npz')['arr_0']\n",
    "        self.labels = ohe.fit_transform(labels)\n",
    "        \n",
    "        # loading encoded images\n",
    "        print(\"loading encodings\")\n",
    "        if create_encodings:\n",
    "            x_len, x_col, x_bar = self.get_encoded_values(self.images, ds)\n",
    "        else:\n",
    "            x_len = np.load(f'{link}/data/modmirbase_{ds}_images_len.npz')\n",
    "            x_bar = np.load(f'{link}/data/modmirbase_{ds}_images_bar.npz')\n",
    "            x_col = np.load(f'{link}/data/modmirbase_{ds}_images_col.npz')\n",
    "        \n",
    "        self.x_len = x_len\n",
    "        self.x_bar = x_bar\n",
    "        self.x_col = x_col\n",
    "        \n",
    "\n",
    "        # loading names\n",
    "        print('Loading Names! (~5s)')\n",
    "        names =  np.load(f'{link}/data/modmirbase_{ds}_names.npz')['arr_0']\n",
    "        names = [i.decode('utf-8') for i in names]\n",
    "        self.species = ['mmu', 'prd', 'hsa', 'ptr', 'efu', 'cbn', 'gma', 'pma',\n",
    "                        'cel', 'gga', 'ipu', 'ptc', 'mdo', 'cgr', 'bta', 'cin', \n",
    "                        'ppy', 'ssc', 'ath', 'cfa', 'osa', 'mtr', 'gra', 'mml',\n",
    "                        'stu', 'bdi', 'rno', 'oan', 'dre', 'aca', 'eca', 'chi',\n",
    "                        'bmo', 'ggo', 'aly', 'dps', 'mdm', 'ame', 'ppc', 'ssa',\n",
    "                        'ppt', 'tca', 'dme', 'sbi']\n",
    "        # assigning a species label to each observation from species\n",
    "        # with more than 200 observations from past research\n",
    "        self.names = []\n",
    "        for i in names:\n",
    "            append = False\n",
    "            for j in self.species:\n",
    "                if j in i.lower():\n",
    "                    self.names.append(j)\n",
    "                    append = True\n",
    "                    break\n",
    "            if not append:\n",
    "                if 'random' in i.lower() or i.isdigit():\n",
    "                    self.names.append('hsa')\n",
    "                else:\n",
    "                    self.names.append('notfound')\n",
    "        \n",
    "        # performing one hot encoding\n",
    "        ohe = OneHotEncoder(categories='auto', sparse=False)\n",
    "        self.names_ohe = ohe.fit_transform(np.array(self.names).reshape(-1,1))\n",
    "      \n",
    "    def __len__(self):\n",
    "        return(self.images.shape[0])\n",
    "\n",
    "    def __getitem__(self, idx):\n",
    "        d = self.names_ohe[idx]\n",
    "        y = self.labels[idx]\n",
    "        x = self.images[idx]\n",
    "        x = np.transpose(x, (2,0,1))\n",
    "        x_len = self.x_len[idx]\n",
    "        x_col = self.x_col[idx]\n",
    "        x_bar = self.x_bar[idx]\n",
    "        return (x, y, d, x_len, x_col, x_bar)\n",
    "\n",
    "\n",
    "    def get_encoded_values(self, x, ds):\n",
    "        \"\"\"\n",
    "        given an image or batch of images\n",
    "        returns length of strand, length of bars and colors of bars\n",
    "        \"\"\"\n",
    "        n = x.shape[0]\n",
    "        print(x.shape, \"x\")\n",
    "        x = np.transpose(x, (0,3,1,2))\n",
    "        out_len = np.zeros((n,100), dtype=np.uint8)\n",
    "        out_col = np.zeros((n,5,200), dtype=np.uint8)\n",
    "        out_bar = np.zeros((n,13,200), dtype=np.uint8)\n",
    "\n",
    "        for i in range(n):\n",
    "            if i % 100 == 0:\n",
    "                print(f'at {i} out of {n}')\n",
    "            rna_len = 0\n",
    "            broke = False\n",
    "            for j in range(100):\n",
    "                #print(x[i,:,12,j])\n",
    "                if (x[i,:,12,j] == np.array([1,1,1])).all():\n",
    "                    out_len[i,rna_len-1] = 1\n",
    "                    broke = True\n",
    "                    break\n",
    "                else:\n",
    "                    rna_len += 1\n",
    "                    # check color of bars\n",
    "                    out_col[i, self.get_color(x[i,:,12,j]) ,2*j] = 1 \n",
    "                    out_col[i, self.get_color(x[i,:,13,j]), 2*j+1] = 1\n",
    "                    # check length of bars\n",
    "                    len1 = 0\n",
    "                    # loop until white pixel\n",
    "                    while not (x[i,:,12-len1,j] == np.array([1.,1.,1.])).all():\n",
    "                        len1 += 1\n",
    "                        if 13-len1 == 0:\n",
    "                            break\n",
    "                    out_bar[i, len1-1, 2*j] = 1\n",
    "\n",
    "                    len2 = 0\n",
    "                    while not (x[i,:,13+len2,j] == np.array([1.,1.,1.])).all():\n",
    "                        len2 += 1\n",
    "                        if 13+len2 == 25:\n",
    "                            break\n",
    "                    out_bar[i, len2-1, 2*j+1] = 1\n",
    "            if not broke:\n",
    "                out_len[i, rna_len-1] = 1\n",
    "\n",
    "\n",
    "        with open(f'{link}/data/modmirbase_{ds}_images_len.npz', 'wb') as f:\n",
    "            np.save(f, out_len)\n",
    "        with open(f'{link}/data/modmirbase_{ds}_images_col.npz', 'wb') as f:\n",
    "            np.save(f, out_col)\n",
    "        with open(f'{link}/data/modmirbase_{ds}_images_bar.npz', 'wb') as f:\n",
    "            np.save(f, out_bar)\n",
    "        \n",
    "\n",
    "        return out_len, out_bar, out_col\n",
    "\n",
    "    def get_color(self, pixel):\n",
    "        \"\"\"\n",
    "        returns the encoded value for a pixel\n",
    "        \"\"\"\n",
    "        if (pixel == np.array([0,0,0])).all():  \n",
    "            return 0 # black\n",
    "        elif (pixel == np.array([1,0,0])).all():  \n",
    "            return 1 # red\n",
    "        elif (pixel == np.array([0,0,1])).all():  \n",
    "            return 2 # blue\n",
    "        elif (pixel == np.array([0,1,0])).all():  \n",
    "            return 3 # green\n",
    "        elif (pixel == np.array([1,1,0])).all():  \n",
    "            return 4 # yellow\n",
    "        else:\n",
    "            print(\"Something wrong!\")\n"
   ]
  },
  {
   "cell_type": "markdown",
   "metadata": {
    "id": "Xxj-WGXMj-Ne"
   },
   "source": [
    "## Decoder classes"
   ]
  },
  {
   "cell_type": "code",
   "execution_count": 8,
   "metadata": {
    "executionInfo": {
     "elapsed": 5,
     "status": "ok",
     "timestamp": 1647023293160,
     "user": {
      "displayName": "Marko Petkovic",
      "photoUrl": "https://lh3.googleusercontent.com/a-/AOh14Gijd0e9r3I1vRZVN6DEwl16XpJxxS1oSAKunOnfZQ=s64",
      "userId": "11987583535390684770"
     },
     "user_tz": -60
    },
    "id": "RKizJuchX9uG"
   },
   "outputs": [],
   "source": [
    "# Decoders\n",
    "class px(nn.Module):\n",
    "    def __init__(self, d_dim, x_dim, y_dim, z_dim):\n",
    "        super(px, self).__init__()\n",
    "\n",
    "        self.fc1 = nn.Sequential(nn.Linear(z_dim, 200, bias=False),  \n",
    "                                 nn.ReLU())\n",
    "        \n",
    "        # Predicting length and color of each bar\n",
    "        self.up1 = nn.Upsample(scale_factor=5)\n",
    "        self.de1 = nn.Sequential(nn.ConvTranspose1d(5,25,kernel_size = 5,\n",
    "                                                    stride = 1, padding = 2,\n",
    "                                                    bias=False),\n",
    "                                 nn.ReLU()\n",
    "                                 )\n",
    "        # Predicting color of each bar\n",
    "        self.color_bar = nn.Sequential(nn.Conv1d(25,5, kernel_size = 3, padding = 'same'),\n",
    "                                      nn.Softmax(dim=1))\n",
    "        \n",
    "        # Predicting the length of each bar\n",
    "        self.length_bar = nn.Sequential(nn.Conv1d(25, 13, kernel_size = 3, padding = 'same'),\n",
    "                                        nn.Softmax(dim=1))\n",
    "\n",
    "        # Predicting length of the RNA strand\n",
    "        self.length_RNA = nn.Sequential(nn.Linear(200,100), nn.Softmax())\n",
    "        \n",
    "    def forward(self, z):\n",
    "        \n",
    "        h = self.fc1(z)\n",
    "        len_RNA = self.length_RNA(h)\n",
    "        \n",
    "        h = h.view(-1, 5, 40)\n",
    "        h = self.up1(h)\n",
    "        h = self.de1(h)\n",
    "        \n",
    "        len_bar = self.length_bar(h)\n",
    "        col_bar = self.color_bar(h)\n",
    "        \n",
    "        return len_RNA, len_bar, col_bar\n",
    "\n",
    "    def reconstruct_image(self, len_RNA, len_bar, col_bar, sample=False):\n",
    "        \"\"\"\n",
    "        reconstructs RNA image given output from decoder\n",
    "        even indexes of len_bar and col_bar   -> top\n",
    "        uneven indexes of len_bar and col_bar -> bottom\n",
    "        function does not support sampling yet\n",
    "        color reconstructions: 0: black\n",
    "                               1: red\n",
    "                               2: blue\n",
    "                               3: green\n",
    "                               4: yellow\n",
    "        \"\"\"\n",
    "        color_dict = {\n",
    "                  0: np.array([0,0,0]), # black\n",
    "                  1: np.array([1,0,0]), # red\n",
    "                  3: np.array([0,1,0]), # green\n",
    "                  2: np.array([0,0,1]), # blue\n",
    "                  4: np.array([1,1,0])  # yellow\n",
    "                  }\n",
    "    \n",
    "        \n",
    "        len_RNA = len_RNA.cpu().numpy()#.reshape((100,))\n",
    "        len_bar = len_bar.cpu().numpy()\n",
    "        col_bar = col_bar.cpu().numpy()\n",
    "        n = len_RNA.shape[0]\n",
    "        output = np.ones((n,25,100,3))\n",
    "\n",
    "        for i in range(n):\n",
    "            if sample:\n",
    "                limit = np.random.choice(np.arange(100), p = len_RNA[i])\n",
    "            else:\n",
    "                limit = np.argmax(len_RNA[i])\n",
    "\n",
    "            for j in range(limit+1):\n",
    "                if sample:\n",
    "                    _len_bar_1 = np.random.choice(np.arange(1,14), p = len_bar[i, :,2*j]) \n",
    "                    _len_bar_2 = np.random.choice(np.arange(1,14), p = len_bar[i, :, 2*j+1])\n",
    "                    _col_bar_1 = np.random.choice(np.arange(5), p = col_bar[i, :, 2*j])\n",
    "                    _col_bar_2 = np.random.choice(np.arange(5), p = col_bar[i,:, 2*j+1])\n",
    "                else:\n",
    "                    _len_bar_1 = np.argmax(len_bar[i,:, 2*j]) + 1 \n",
    "                    _len_bar_2 = np.argmax(len_bar[i,:, 2*j + 1]) + 1\n",
    "                    _col_bar_1 = np.argmax(col_bar[i,:, 2*j])\n",
    "                    _col_bar_2 = np.argmax(col_bar[i,:, 2*j+1])\n",
    "                \n",
    "                h1 = 13-_len_bar_1\n",
    "                # paint upper bar\n",
    "                output[i, h1:13, j] = color_dict[_col_bar_1]\n",
    "        \n",
    "                # paint lower bar\n",
    "                output[i, 13:13+_len_bar_2, j] = color_dict[_col_bar_2]\n",
    "        \n",
    "        \n",
    "        return output\n"
   ]
  },
  {
   "cell_type": "code",
   "execution_count": 9,
   "metadata": {
    "executionInfo": {
     "elapsed": 4,
     "status": "ok",
     "timestamp": 1647023293160,
     "user": {
      "displayName": "Marko Petkovic",
      "photoUrl": "https://lh3.googleusercontent.com/a-/AOh14Gijd0e9r3I1vRZVN6DEwl16XpJxxS1oSAKunOnfZQ=s64",
      "userId": "11987583535390684770"
     },
     "user_tz": -60
    },
    "id": "1y8G2S1zxzTH"
   },
   "outputs": [],
   "source": [
    "# pzy_ = pzy(45, 7500, 2, 32,32,32)\n",
    "# summary(pzy_, (1,2))\n",
    "# pzy_ = px(45, 7500, 2, 32,32,32)\n",
    "# summary(pzy_, [(1,32),(1,32),(1,32)])"
   ]
  },
  {
   "cell_type": "markdown",
   "metadata": {
    "id": "YmNnZWXvkCDP"
   },
   "source": [
    "## Endcoder Classes"
   ]
  },
  {
   "cell_type": "code",
   "execution_count": 10,
   "metadata": {
    "executionInfo": {
     "elapsed": 5,
     "status": "ok",
     "timestamp": 1647013220008,
     "user": {
      "displayName": "Marko Petkovic",
      "photoUrl": "https://lh3.googleusercontent.com/a-/AOh14Gijd0e9r3I1vRZVN6DEwl16XpJxxS1oSAKunOnfZQ=s64",
      "userId": "11987583535390684770"
     },
     "user_tz": -60
    },
    "id": "tt82wvITwg4j"
   },
   "outputs": [],
   "source": [
    "#pzy_.reconstruct_image(torch.zeros((1,100)), torch.zeros((1,13,200)), torch.zeros(1,5,200)).shape"
   ]
  },
  {
   "cell_type": "code",
   "execution_count": 11,
   "metadata": {
    "executionInfo": {
     "elapsed": 313,
     "status": "ok",
     "timestamp": 1647023293469,
     "user": {
      "displayName": "Marko Petkovic",
      "photoUrl": "https://lh3.googleusercontent.com/a-/AOh14Gijd0e9r3I1vRZVN6DEwl16XpJxxS1oSAKunOnfZQ=s64",
      "userId": "11987583535390684770"
     },
     "user_tz": -60
    },
    "id": "78ZFH8gYl_-z"
   },
   "outputs": [],
   "source": [
    "class qz(nn.Module):\n",
    "    def __init__(self, d_dim, x_dim, y_dim, z_dim):\n",
    "        super(qz, self).__init__()\n",
    "\n",
    "        self.encoder = nn.Sequential(\n",
    "            nn.Conv2d(3, 32, kernel_size=5, stride=1, bias=False),\n",
    "            nn.ReLU(),\n",
    "            nn.MaxPool2d(2, 2),\n",
    "            nn.Conv2d(32, 64, kernel_size=5, stride=1, bias=False),\n",
    "            nn.ReLU(), \n",
    "            nn.MaxPool2d(2, 2),\n",
    "        )\n",
    "\n",
    "        self.fc11 = nn.Sequential(nn.Linear(4224, z_dim))\n",
    "        self.fc12 = nn.Sequential(nn.Linear(4224, z_dim), nn.Softplus())\n",
    "\n",
    "        torch.nn.init.xavier_uniform_(self.encoder[0].weight)\n",
    "        torch.nn.init.xavier_uniform_(self.encoder[3].weight)\n",
    "        torch.nn.init.xavier_uniform_(self.fc11[0].weight)\n",
    "        self.fc11[0].bias.data.zero_()\n",
    "        torch.nn.init.xavier_uniform_(self.fc12[0].weight)\n",
    "        self.fc12[0].bias.data.zero_()\n",
    "\n",
    "    def forward(self, x):\n",
    "        h = self.encoder(x)\n",
    "        h = h.view(-1, 4224)\n",
    "        z_loc = self.fc11(h)\n",
    "        z_scale = self.fc12(h) + 1e-7\n",
    "\n",
    "        return z_loc, z_scale\n",
    "\n",
    "\n"
   ]
  },
  {
   "cell_type": "markdown",
   "metadata": {
    "id": "vn_gJdNSkH_V"
   },
   "source": [
    "## Full model class"
   ]
  },
  {
   "cell_type": "code",
   "execution_count": 34,
   "metadata": {
    "executionInfo": {
     "elapsed": 10,
     "status": "ok",
     "timestamp": 1647023293470,
     "user": {
      "displayName": "Marko Petkovic",
      "photoUrl": "https://lh3.googleusercontent.com/a-/AOh14Gijd0e9r3I1vRZVN6DEwl16XpJxxS1oSAKunOnfZQ=s64",
      "userId": "11987583535390684770"
     },
     "user_tz": -60
    },
    "id": "BgR5BnQN1WWG"
   },
   "outputs": [],
   "source": [
    "class StampDIVA(nn.Module):\n",
    "    def __init__(self, args):\n",
    "        super(StampDIVA, self).__init__()\n",
    "        self.z_dim = args.z_dim\n",
    "        self.d_dim = args.d_dim\n",
    "        self.x_dim = args.x_dim\n",
    "        self.y_dim = args.y_dim\n",
    "\n",
    "        self.px = px(self.d_dim, self.x_dim, self.y_dim, self.z_dim)\n",
    "        \n",
    "        self.qz = qz(self.d_dim, self.x_dim, self.y_dim, self.z_dim)\n",
    "        \n",
    "\n",
    "        self.beta = args.beta\n",
    "        \n",
    "        self.rec_alpha = args.rec_alpha\n",
    "        self.rec_beta = args.rec_beta\n",
    "        self.rec_gamma = args.rec_gamma\n",
    "\n",
    "        self.warmup = args.warmup\n",
    "        self.prewarmup = args.prewarmup\n",
    "\n",
    "        self.cuda()\n",
    "\n",
    "    def forward(self, d, x, y):\n",
    "        # Encode\n",
    "        zd_q_loc, zd_q_scale = self.qz(x)\n",
    "        \n",
    "        # Reparameterization trick\n",
    "        qz = dist.Normal(zd_q_loc, zd_q_scale)\n",
    "        z_q = qz.rsample()\n",
    "        \n",
    "        \n",
    "        # Decode\n",
    "        x_len, x_bar, x_col = self.px(z_q)\n",
    "        \n",
    "        z_p_loc, z_p_scale = torch.zeros(z_q.size()[0], self.z_dim).cuda(),\\\n",
    "                        torch.ones(z_q.size()[0], self.z_dim).cuda()\n",
    "        pz = dist.Normal(z_p_loc, z_p_scale)\n",
    "\n",
    "        # Reparameterization trick\n",
    "        pz = dist.Normal(z_p_loc, z_p_scale)\n",
    "        \n",
    "        return x_len, x_bar, x_col, qz, pz, z_q\n",
    "\n",
    "    def loss_function(self, d, x, y, out_len, out_bar, out_col):\n",
    "        x_len, x_bar, x_col, qz, pz, z_q = self.forward(d, x, y)\n",
    "          \n",
    "          #print(x_len.shape, x_bar.shape)\n",
    "\n",
    "\n",
    "        mask = 1 - F.one_hot(torch.argmax(out_len, dim =1)*2+2, 200).cumsum(dim=1)[:,None,:]\n",
    "         # print(mask.shape)\n",
    "          \n",
    "        x_bar = mask.repeat(1,13,1)*x_bar\n",
    "        x_col = mask.repeat(1,5,1)*x_col\n",
    "        CE_len = F.cross_entropy(x_len, out_len, reduction='sum')\n",
    "        CE_bar = F.cross_entropy(x_bar, out_bar, reduction='sum')\n",
    "        CE_col = F.cross_entropy(x_col, out_col, reduction='sum')\n",
    "\n",
    "        KL_z = torch.sum(pz.log_prob(z_q) - qz.log_prob(z_q))\n",
    "          \n",
    "        return self.rec_alpha * CE_len \\\n",
    "                  + self.rec_beta * CE_bar \\\n",
    "                  + self.rec_gamma * CE_col \\\n",
    "                  - self.beta * KL_z, \\\n",
    "                  CE_bar, CE_len, CE_col "
   ]
  },
  {
   "cell_type": "code",
   "execution_count": 35,
   "metadata": {
    "executionInfo": {
     "elapsed": 9,
     "status": "ok",
     "timestamp": 1647023293470,
     "user": {
      "displayName": "Marko Petkovic",
      "photoUrl": "https://lh3.googleusercontent.com/a-/AOh14Gijd0e9r3I1vRZVN6DEwl16XpJxxS1oSAKunOnfZQ=s64",
      "userId": "11987583535390684770"
     },
     "user_tz": -60
    },
    "id": "g7jIbjazb08Y"
   },
   "outputs": [],
   "source": [
    "w = torch.zeros((5,100))\n",
    "w[0,55] = 1\n",
    "w[1,66] = 1\n",
    "w[2,15] = 1\n",
    "w[3,35] = 1\n",
    "w[4,45] = 1"
   ]
  },
  {
   "cell_type": "code",
   "execution_count": 36,
   "metadata": {
    "executionInfo": {
     "elapsed": 9,
     "status": "ok",
     "timestamp": 1647023293470,
     "user": {
      "displayName": "Marko Petkovic",
      "photoUrl": "https://lh3.googleusercontent.com/a-/AOh14Gijd0e9r3I1vRZVN6DEwl16XpJxxS1oSAKunOnfZQ=s64",
      "userId": "11987583535390684770"
     },
     "user_tz": -60
    },
    "id": "dVXsu2w9t1aQ"
   },
   "outputs": [],
   "source": [
    "x = torch.argmax(w, dim =1)*2+2"
   ]
  },
  {
   "cell_type": "code",
   "execution_count": 37,
   "metadata": {
    "executionInfo": {
     "elapsed": 10,
     "status": "ok",
     "timestamp": 1647023293471,
     "user": {
      "displayName": "Marko Petkovic",
      "photoUrl": "https://lh3.googleusercontent.com/a-/AOh14Gijd0e9r3I1vRZVN6DEwl16XpJxxS1oSAKunOnfZQ=s64",
      "userId": "11987583535390684770"
     },
     "user_tz": -60
    },
    "id": "B_XiwRh6uBP3"
   },
   "outputs": [],
   "source": [
    "r = F.one_hot(x,200)\n",
    "b = 1-r.cumsum(dim=1)"
   ]
  },
  {
   "cell_type": "code",
   "execution_count": 38,
   "metadata": {
    "executionInfo": {
     "elapsed": 9,
     "status": "ok",
     "timestamp": 1647023293471,
     "user": {
      "displayName": "Marko Petkovic",
      "photoUrl": "https://lh3.googleusercontent.com/a-/AOh14Gijd0e9r3I1vRZVN6DEwl16XpJxxS1oSAKunOnfZQ=s64",
      "userId": "11987583535390684770"
     },
     "user_tz": -60
    },
    "id": "bUYICFD-u_g9"
   },
   "outputs": [],
   "source": [
    "out = torch.randn((5,6,200))"
   ]
  },
  {
   "cell_type": "code",
   "execution_count": 39,
   "metadata": {
    "colab": {
     "base_uri": "https://localhost:8080/"
    },
    "executionInfo": {
     "elapsed": 9,
     "status": "ok",
     "timestamp": 1647023293471,
     "user": {
      "displayName": "Marko Petkovic",
      "photoUrl": "https://lh3.googleusercontent.com/a-/AOh14Gijd0e9r3I1vRZVN6DEwl16XpJxxS1oSAKunOnfZQ=s64",
      "userId": "11987583535390684770"
     },
     "user_tz": -60
    },
    "id": "aDHLC1jGvIOA",
    "outputId": "a7f06a9c-a4ac-483a-8f3c-27d1d9116e38"
   },
   "outputs": [
    {
     "data": {
      "text/plain": [
       "torch.Size([5, 200])"
      ]
     },
     "execution_count": 39,
     "metadata": {},
     "output_type": "execute_result"
    }
   ],
   "source": [
    "b.shape"
   ]
  },
  {
   "cell_type": "code",
   "execution_count": 40,
   "metadata": {
    "executionInfo": {
     "elapsed": 9,
     "status": "ok",
     "timestamp": 1647023293472,
     "user": {
      "displayName": "Marko Petkovic",
      "photoUrl": "https://lh3.googleusercontent.com/a-/AOh14Gijd0e9r3I1vRZVN6DEwl16XpJxxS1oSAKunOnfZQ=s64",
      "userId": "11987583535390684770"
     },
     "user_tz": -60
    },
    "id": "pbEEKNdUupi6"
   },
   "outputs": [],
   "source": [
    "b = b[:,None,:]"
   ]
  },
  {
   "cell_type": "code",
   "execution_count": 41,
   "metadata": {
    "colab": {
     "base_uri": "https://localhost:8080/"
    },
    "executionInfo": {
     "elapsed": 9,
     "status": "ok",
     "timestamp": 1647023293472,
     "user": {
      "displayName": "Marko Petkovic",
      "photoUrl": "https://lh3.googleusercontent.com/a-/AOh14Gijd0e9r3I1vRZVN6DEwl16XpJxxS1oSAKunOnfZQ=s64",
      "userId": "11987583535390684770"
     },
     "user_tz": -60
    },
    "id": "v51m0XZcvyIp",
    "outputId": "78596414-95cb-407b-f02c-4994beb0dec6"
   },
   "outputs": [
    {
     "data": {
      "text/plain": [
       "torch.Size([5, 1, 200])"
      ]
     },
     "execution_count": 41,
     "metadata": {},
     "output_type": "execute_result"
    }
   ],
   "source": [
    "b.shape"
   ]
  },
  {
   "cell_type": "markdown",
   "metadata": {
    "id": "LdOsLfYJjBBe"
   },
   "source": [
    "# Training the model"
   ]
  },
  {
   "cell_type": "markdown",
   "metadata": {
    "id": "rH1E5J-ps3GD"
   },
   "source": [
    "## Loading dataset"
   ]
  },
  {
   "cell_type": "code",
   "execution_count": 7,
   "metadata": {
    "colab": {
     "base_uri": "https://localhost:8080/"
    },
    "executionInfo": {
     "elapsed": 16152,
     "status": "ok",
     "timestamp": 1647023309618,
     "user": {
      "displayName": "Marko Petkovic",
      "photoUrl": "https://lh3.googleusercontent.com/a-/AOh14Gijd0e9r3I1vRZVN6DEwl16XpJxxS1oSAKunOnfZQ=s64",
      "userId": "11987583535390684770"
     },
     "user_tz": -60
    },
    "id": "myflmDPxjV40",
    "outputId": "0befed1a-e175-47eb-e1c0-f9f28da53d7c"
   },
   "outputs": [
    {
     "name": "stdout",
     "output_type": "stream",
     "text": [
      "Loading Labels! (~10s)\n",
      "loading encodings\n",
      "(34721, 25, 100, 3) x\n",
      "at 0 out of 34721\n",
      "at 100 out of 34721\n",
      "at 200 out of 34721\n",
      "at 300 out of 34721\n",
      "at 400 out of 34721\n",
      "at 500 out of 34721\n",
      "at 600 out of 34721\n",
      "at 700 out of 34721\n",
      "at 800 out of 34721\n",
      "at 900 out of 34721\n",
      "at 1000 out of 34721\n",
      "at 1100 out of 34721\n",
      "at 1200 out of 34721\n",
      "at 1300 out of 34721\n",
      "at 1400 out of 34721\n",
      "at 1500 out of 34721\n",
      "at 1600 out of 34721\n",
      "at 1700 out of 34721\n",
      "at 1800 out of 34721\n",
      "at 1900 out of 34721\n",
      "at 2000 out of 34721\n",
      "at 2100 out of 34721\n",
      "at 2200 out of 34721\n",
      "at 2300 out of 34721\n",
      "at 2400 out of 34721\n",
      "at 2500 out of 34721\n",
      "at 2600 out of 34721\n",
      "at 2700 out of 34721\n",
      "at 2800 out of 34721\n",
      "at 2900 out of 34721\n",
      "at 3000 out of 34721\n",
      "at 3100 out of 34721\n",
      "at 3200 out of 34721\n",
      "at 3300 out of 34721\n",
      "at 3400 out of 34721\n",
      "at 3500 out of 34721\n",
      "at 3600 out of 34721\n",
      "at 3700 out of 34721\n",
      "at 3800 out of 34721\n",
      "at 3900 out of 34721\n",
      "at 4000 out of 34721\n",
      "at 4100 out of 34721\n",
      "at 4200 out of 34721\n",
      "at 4300 out of 34721\n",
      "at 4400 out of 34721\n",
      "at 4500 out of 34721\n",
      "at 4600 out of 34721\n",
      "at 4700 out of 34721\n",
      "at 4800 out of 34721\n",
      "at 4900 out of 34721\n",
      "at 5000 out of 34721\n",
      "at 5100 out of 34721\n",
      "at 5200 out of 34721\n",
      "at 5300 out of 34721\n",
      "at 5400 out of 34721\n",
      "at 5500 out of 34721\n",
      "at 5600 out of 34721\n",
      "at 5700 out of 34721\n",
      "at 5800 out of 34721\n",
      "at 5900 out of 34721\n",
      "at 6000 out of 34721\n",
      "at 6100 out of 34721\n",
      "at 6200 out of 34721\n",
      "at 6300 out of 34721\n",
      "at 6400 out of 34721\n",
      "at 6500 out of 34721\n",
      "at 6600 out of 34721\n",
      "at 6700 out of 34721\n",
      "at 6800 out of 34721\n",
      "at 6900 out of 34721\n",
      "at 7000 out of 34721\n",
      "at 7100 out of 34721\n",
      "at 7200 out of 34721\n",
      "at 7300 out of 34721\n",
      "at 7400 out of 34721\n",
      "at 7500 out of 34721\n",
      "at 7600 out of 34721\n",
      "at 7700 out of 34721\n",
      "at 7800 out of 34721\n",
      "at 7900 out of 34721\n",
      "at 8000 out of 34721\n",
      "at 8100 out of 34721\n",
      "at 8200 out of 34721\n",
      "at 8300 out of 34721\n",
      "at 8400 out of 34721\n",
      "at 8500 out of 34721\n",
      "at 8600 out of 34721\n",
      "at 8700 out of 34721\n",
      "at 8800 out of 34721\n",
      "at 8900 out of 34721\n",
      "at 9000 out of 34721\n",
      "at 9100 out of 34721\n",
      "at 9200 out of 34721\n",
      "at 9300 out of 34721\n",
      "at 9400 out of 34721\n",
      "at 9500 out of 34721\n",
      "at 9600 out of 34721\n",
      "at 9700 out of 34721\n",
      "at 9800 out of 34721\n",
      "at 9900 out of 34721\n",
      "at 10000 out of 34721\n",
      "at 10100 out of 34721\n",
      "at 10200 out of 34721\n",
      "at 10300 out of 34721\n",
      "at 10400 out of 34721\n",
      "at 10500 out of 34721\n",
      "at 10600 out of 34721\n",
      "at 10700 out of 34721\n",
      "at 10800 out of 34721\n",
      "at 10900 out of 34721\n",
      "at 11000 out of 34721\n",
      "at 11100 out of 34721\n",
      "at 11200 out of 34721\n",
      "at 11300 out of 34721\n",
      "at 11400 out of 34721\n",
      "at 11500 out of 34721\n",
      "at 11600 out of 34721\n",
      "at 11700 out of 34721\n",
      "at 11800 out of 34721\n",
      "at 11900 out of 34721\n",
      "at 12000 out of 34721\n",
      "at 12100 out of 34721\n",
      "at 12200 out of 34721\n",
      "at 12300 out of 34721\n",
      "at 12400 out of 34721\n",
      "at 12500 out of 34721\n",
      "at 12600 out of 34721\n",
      "at 12700 out of 34721\n",
      "at 12800 out of 34721\n",
      "at 12900 out of 34721\n",
      "at 13000 out of 34721\n",
      "at 13100 out of 34721\n",
      "at 13200 out of 34721\n",
      "at 13300 out of 34721\n",
      "at 13400 out of 34721\n",
      "at 13500 out of 34721\n",
      "at 13600 out of 34721\n",
      "at 13700 out of 34721\n",
      "at 13800 out of 34721\n",
      "at 13900 out of 34721\n",
      "at 14000 out of 34721\n",
      "at 14100 out of 34721\n",
      "at 14200 out of 34721\n",
      "at 14300 out of 34721\n",
      "at 14400 out of 34721\n",
      "at 14500 out of 34721\n",
      "at 14600 out of 34721\n",
      "at 14700 out of 34721\n",
      "at 14800 out of 34721\n",
      "at 14900 out of 34721\n",
      "at 15000 out of 34721\n",
      "at 15100 out of 34721\n",
      "at 15200 out of 34721\n",
      "at 15300 out of 34721\n",
      "at 15400 out of 34721\n",
      "at 15500 out of 34721\n",
      "at 15600 out of 34721\n",
      "at 15700 out of 34721\n",
      "at 15800 out of 34721\n",
      "at 15900 out of 34721\n",
      "at 16000 out of 34721\n",
      "at 16100 out of 34721\n",
      "at 16200 out of 34721\n",
      "at 16300 out of 34721\n",
      "at 16400 out of 34721\n",
      "at 16500 out of 34721\n",
      "at 16600 out of 34721\n",
      "at 16700 out of 34721\n",
      "at 16800 out of 34721\n",
      "at 16900 out of 34721\n",
      "at 17000 out of 34721\n",
      "at 17100 out of 34721\n",
      "at 17200 out of 34721\n",
      "at 17300 out of 34721\n",
      "at 17400 out of 34721\n",
      "at 17500 out of 34721\n",
      "at 17600 out of 34721\n",
      "at 17700 out of 34721\n",
      "at 17800 out of 34721\n",
      "at 17900 out of 34721\n",
      "at 18000 out of 34721\n",
      "at 18100 out of 34721\n",
      "at 18200 out of 34721\n",
      "at 18300 out of 34721\n",
      "at 18400 out of 34721\n",
      "at 18500 out of 34721\n",
      "at 18600 out of 34721\n",
      "at 18700 out of 34721\n",
      "at 18800 out of 34721\n",
      "at 18900 out of 34721\n",
      "at 19000 out of 34721\n",
      "at 19100 out of 34721\n",
      "at 19200 out of 34721\n",
      "at 19300 out of 34721\n",
      "at 19400 out of 34721\n",
      "at 19500 out of 34721\n",
      "at 19600 out of 34721\n",
      "at 19700 out of 34721\n",
      "at 19800 out of 34721\n",
      "at 19900 out of 34721\n",
      "at 20000 out of 34721\n",
      "at 20100 out of 34721\n",
      "at 20200 out of 34721\n",
      "at 20300 out of 34721\n",
      "at 20400 out of 34721\n",
      "at 20500 out of 34721\n",
      "at 20600 out of 34721\n",
      "at 20700 out of 34721\n",
      "at 20800 out of 34721\n",
      "at 20900 out of 34721\n",
      "at 21000 out of 34721\n",
      "at 21100 out of 34721\n",
      "at 21200 out of 34721\n",
      "at 21300 out of 34721\n",
      "at 21400 out of 34721\n",
      "at 21500 out of 34721\n",
      "at 21600 out of 34721\n",
      "at 21700 out of 34721\n",
      "at 21800 out of 34721\n",
      "at 21900 out of 34721\n",
      "at 22000 out of 34721\n",
      "at 22100 out of 34721\n",
      "at 22200 out of 34721\n",
      "at 22300 out of 34721\n",
      "at 22400 out of 34721\n",
      "at 22500 out of 34721\n",
      "at 22600 out of 34721\n",
      "at 22700 out of 34721\n",
      "at 22800 out of 34721\n",
      "at 22900 out of 34721\n",
      "at 23000 out of 34721\n",
      "at 23100 out of 34721\n",
      "at 23200 out of 34721\n",
      "at 23300 out of 34721\n",
      "at 23400 out of 34721\n",
      "at 23500 out of 34721\n",
      "at 23600 out of 34721\n",
      "at 23700 out of 34721\n",
      "at 23800 out of 34721\n",
      "at 23900 out of 34721\n",
      "at 24000 out of 34721\n",
      "at 24100 out of 34721\n",
      "at 24200 out of 34721\n",
      "at 24300 out of 34721\n",
      "at 24400 out of 34721\n",
      "at 24500 out of 34721\n",
      "at 24600 out of 34721\n",
      "at 24700 out of 34721\n",
      "at 24800 out of 34721\n",
      "at 24900 out of 34721\n",
      "at 25000 out of 34721\n",
      "at 25100 out of 34721\n",
      "at 25200 out of 34721\n",
      "at 25300 out of 34721\n",
      "at 25400 out of 34721\n",
      "at 25500 out of 34721\n",
      "at 25600 out of 34721\n",
      "at 25700 out of 34721\n",
      "at 25800 out of 34721\n",
      "at 25900 out of 34721\n",
      "at 26000 out of 34721\n",
      "at 26100 out of 34721\n",
      "at 26200 out of 34721\n",
      "at 26300 out of 34721\n",
      "at 26400 out of 34721\n",
      "at 26500 out of 34721\n",
      "at 26600 out of 34721\n",
      "at 26700 out of 34721\n",
      "at 26800 out of 34721\n",
      "at 26900 out of 34721\n",
      "at 27000 out of 34721\n",
      "at 27100 out of 34721\n",
      "at 27200 out of 34721\n",
      "at 27300 out of 34721\n",
      "at 27400 out of 34721\n",
      "at 27500 out of 34721\n",
      "at 27600 out of 34721\n",
      "at 27700 out of 34721\n",
      "at 27800 out of 34721\n",
      "at 27900 out of 34721\n",
      "at 28000 out of 34721\n",
      "at 28100 out of 34721\n",
      "at 28200 out of 34721\n",
      "at 28300 out of 34721\n",
      "at 28400 out of 34721\n",
      "at 28500 out of 34721\n",
      "at 28600 out of 34721\n",
      "at 28700 out of 34721\n",
      "at 28800 out of 34721\n",
      "at 28900 out of 34721\n",
      "at 29000 out of 34721\n",
      "at 29100 out of 34721\n",
      "at 29200 out of 34721\n",
      "at 29300 out of 34721\n",
      "at 29400 out of 34721\n",
      "at 29500 out of 34721\n",
      "at 29600 out of 34721\n",
      "at 29700 out of 34721\n",
      "at 29800 out of 34721\n",
      "at 29900 out of 34721\n",
      "at 30000 out of 34721\n",
      "at 30100 out of 34721\n",
      "at 30200 out of 34721\n",
      "at 30300 out of 34721\n",
      "at 30400 out of 34721\n",
      "at 30500 out of 34721\n",
      "at 30600 out of 34721\n",
      "at 30700 out of 34721\n",
      "at 30800 out of 34721\n",
      "at 30900 out of 34721\n",
      "at 31000 out of 34721\n",
      "at 31100 out of 34721\n",
      "at 31200 out of 34721\n",
      "at 31300 out of 34721\n",
      "at 31400 out of 34721\n",
      "at 31500 out of 34721\n",
      "at 31600 out of 34721\n",
      "at 31700 out of 34721\n",
      "at 31800 out of 34721\n",
      "at 31900 out of 34721\n",
      "at 32000 out of 34721\n",
      "at 32100 out of 34721\n",
      "at 32200 out of 34721\n",
      "at 32300 out of 34721\n",
      "at 32400 out of 34721\n",
      "at 32500 out of 34721\n",
      "at 32600 out of 34721\n",
      "at 32700 out of 34721\n",
      "at 32800 out of 34721\n",
      "at 32900 out of 34721\n",
      "at 33000 out of 34721\n",
      "at 33100 out of 34721\n",
      "at 33200 out of 34721\n",
      "at 33300 out of 34721\n",
      "at 33400 out of 34721\n",
      "at 33500 out of 34721\n",
      "at 33600 out of 34721\n",
      "at 33700 out of 34721\n",
      "at 33800 out of 34721\n",
      "at 33900 out of 34721\n",
      "at 34000 out of 34721\n",
      "at 34100 out of 34721\n",
      "at 34200 out of 34721\n",
      "at 34300 out of 34721\n",
      "at 34400 out of 34721\n",
      "at 34500 out of 34721\n",
      "at 34600 out of 34721\n",
      "at 34700 out of 34721\n",
      "Loading Names! (~5s)\n"
     ]
    }
   ],
   "source": [
    "RNA_dataset = MicroRNADataset(create_encodings=False)"
   ]
  },
  {
   "cell_type": "code",
   "execution_count": 8,
   "metadata": {
    "colab": {
     "base_uri": "https://localhost:8080/"
    },
    "executionInfo": {
     "elapsed": 7139,
     "status": "ok",
     "timestamp": 1647023316754,
     "user": {
      "displayName": "Marko Petkovic",
      "photoUrl": "https://lh3.googleusercontent.com/a-/AOh14Gijd0e9r3I1vRZVN6DEwl16XpJxxS1oSAKunOnfZQ=s64",
      "userId": "11987583535390684770"
     },
     "user_tz": -60
    },
    "id": "ut2P5RSaMoDR",
    "outputId": "eafab284-1376-4f62-c8c9-bb8e87351bd4"
   },
   "outputs": [
    {
     "name": "stdout",
     "output_type": "stream",
     "text": [
      "Loading Labels! (~10s)\n",
      "loading encodings\n",
      "(14881, 25, 100, 3) x\n",
      "at 0 out of 14881\n",
      "at 100 out of 14881\n",
      "at 200 out of 14881\n",
      "at 300 out of 14881\n",
      "at 400 out of 14881\n",
      "at 500 out of 14881\n",
      "at 600 out of 14881\n",
      "at 700 out of 14881\n",
      "at 800 out of 14881\n",
      "at 900 out of 14881\n",
      "at 1000 out of 14881\n",
      "at 1100 out of 14881\n",
      "at 1200 out of 14881\n",
      "at 1300 out of 14881\n",
      "at 1400 out of 14881\n",
      "at 1500 out of 14881\n",
      "at 1600 out of 14881\n",
      "at 1700 out of 14881\n",
      "at 1800 out of 14881\n",
      "at 1900 out of 14881\n",
      "at 2000 out of 14881\n",
      "at 2100 out of 14881\n",
      "at 2200 out of 14881\n",
      "at 2300 out of 14881\n",
      "at 2400 out of 14881\n",
      "at 2500 out of 14881\n",
      "at 2600 out of 14881\n",
      "at 2700 out of 14881\n",
      "at 2800 out of 14881\n",
      "at 2900 out of 14881\n",
      "at 3000 out of 14881\n",
      "at 3100 out of 14881\n",
      "at 3200 out of 14881\n",
      "at 3300 out of 14881\n",
      "at 3400 out of 14881\n",
      "at 3500 out of 14881\n",
      "at 3600 out of 14881\n",
      "at 3700 out of 14881\n",
      "at 3800 out of 14881\n",
      "at 3900 out of 14881\n",
      "at 4000 out of 14881\n",
      "at 4100 out of 14881\n",
      "at 4200 out of 14881\n",
      "at 4300 out of 14881\n",
      "at 4400 out of 14881\n",
      "at 4500 out of 14881\n",
      "at 4600 out of 14881\n",
      "at 4700 out of 14881\n",
      "at 4800 out of 14881\n",
      "at 4900 out of 14881\n",
      "at 5000 out of 14881\n",
      "at 5100 out of 14881\n",
      "at 5200 out of 14881\n",
      "at 5300 out of 14881\n",
      "at 5400 out of 14881\n",
      "at 5500 out of 14881\n",
      "at 5600 out of 14881\n",
      "at 5700 out of 14881\n",
      "at 5800 out of 14881\n",
      "at 5900 out of 14881\n",
      "at 6000 out of 14881\n",
      "at 6100 out of 14881\n",
      "at 6200 out of 14881\n",
      "at 6300 out of 14881\n",
      "at 6400 out of 14881\n",
      "at 6500 out of 14881\n",
      "at 6600 out of 14881\n",
      "at 6700 out of 14881\n",
      "at 6800 out of 14881\n",
      "at 6900 out of 14881\n",
      "at 7000 out of 14881\n",
      "at 7100 out of 14881\n",
      "at 7200 out of 14881\n",
      "at 7300 out of 14881\n",
      "at 7400 out of 14881\n",
      "at 7500 out of 14881\n",
      "at 7600 out of 14881\n",
      "at 7700 out of 14881\n",
      "at 7800 out of 14881\n",
      "at 7900 out of 14881\n",
      "at 8000 out of 14881\n",
      "at 8100 out of 14881\n",
      "at 8200 out of 14881\n",
      "at 8300 out of 14881\n",
      "at 8400 out of 14881\n",
      "at 8500 out of 14881\n",
      "at 8600 out of 14881\n",
      "at 8700 out of 14881\n",
      "at 8800 out of 14881\n",
      "at 8900 out of 14881\n",
      "at 9000 out of 14881\n",
      "at 9100 out of 14881\n",
      "at 9200 out of 14881\n",
      "at 9300 out of 14881\n",
      "at 9400 out of 14881\n",
      "at 9500 out of 14881\n",
      "at 9600 out of 14881\n",
      "at 9700 out of 14881\n",
      "at 9800 out of 14881\n",
      "at 9900 out of 14881\n",
      "at 10000 out of 14881\n",
      "at 10100 out of 14881\n",
      "at 10200 out of 14881\n",
      "at 10300 out of 14881\n",
      "at 10400 out of 14881\n",
      "at 10500 out of 14881\n",
      "at 10600 out of 14881\n",
      "at 10700 out of 14881\n",
      "at 10800 out of 14881\n",
      "at 10900 out of 14881\n",
      "at 11000 out of 14881\n",
      "at 11100 out of 14881\n",
      "at 11200 out of 14881\n",
      "at 11300 out of 14881\n",
      "at 11400 out of 14881\n",
      "at 11500 out of 14881\n",
      "at 11600 out of 14881\n",
      "at 11700 out of 14881\n",
      "at 11800 out of 14881\n",
      "at 11900 out of 14881\n",
      "at 12000 out of 14881\n",
      "at 12100 out of 14881\n",
      "at 12200 out of 14881\n",
      "at 12300 out of 14881\n",
      "at 12400 out of 14881\n",
      "at 12500 out of 14881\n",
      "at 12600 out of 14881\n",
      "at 12700 out of 14881\n",
      "at 12800 out of 14881\n",
      "at 12900 out of 14881\n",
      "at 13000 out of 14881\n",
      "at 13100 out of 14881\n",
      "at 13200 out of 14881\n",
      "at 13300 out of 14881\n",
      "at 13400 out of 14881\n",
      "at 13500 out of 14881\n",
      "at 13600 out of 14881\n",
      "at 13700 out of 14881\n",
      "at 13800 out of 14881\n",
      "at 13900 out of 14881\n",
      "at 14000 out of 14881\n",
      "at 14100 out of 14881\n",
      "at 14200 out of 14881\n",
      "at 14300 out of 14881\n",
      "at 14400 out of 14881\n",
      "at 14500 out of 14881\n",
      "at 14600 out of 14881\n",
      "at 14700 out of 14881\n",
      "at 14800 out of 14881\n",
      "Loading Names! (~5s)\n"
     ]
    }
   ],
   "source": [
    "RNA_dataset_test = MicroRNADataset('test', create_encodings=False)"
   ]
  },
  {
   "cell_type": "markdown",
   "metadata": {
    "id": "YdYaqWvbjN26"
   },
   "source": [
    "## Training functions"
   ]
  },
  {
   "cell_type": "code",
   "execution_count": 44,
   "metadata": {
    "executionInfo": {
     "elapsed": 12,
     "status": "ok",
     "timestamp": 1647023316754,
     "user": {
      "displayName": "Marko Petkovic",
      "photoUrl": "https://lh3.googleusercontent.com/a-/AOh14Gijd0e9r3I1vRZVN6DEwl16XpJxxS1oSAKunOnfZQ=s64",
      "userId": "11987583535390684770"
     },
     "user_tz": -60
    },
    "id": "eVGq463Y2m20"
   },
   "outputs": [],
   "source": [
    "def train_single_epoch(train_loader, model, optimizer, epoch):\n",
    "    model.train()\n",
    "    train_loss = 0\n",
    "    epoch_bar_loss = 0\n",
    "    epoch_col_loss = 0\n",
    "    epoch_len_loss = 0\n",
    "    no_batches = 0\n",
    "    train_corr = 0\n",
    "    pbar = tqdm(enumerate(train_loader), unit=\"batch\", \n",
    "                                     desc=f'Epoch {epoch}')\n",
    "    for batch_idx, (x, y, d, x_len, x_col, x_bar) in pbar:\n",
    "        # To device\n",
    "        x, y, d , x_len, x_bar, x_col = x.to(DEVICE), y.to(DEVICE), d.to(DEVICE), x_len.to(DEVICE), x_bar.to(DEVICE), x_col.to(DEVICE)\n",
    "\n",
    "        optimizer.zero_grad()\n",
    "        loss, bar_loss, len_loss, col_loss = model.loss_function(d.float(), x.float(), y.float(), x_len.float(), x_bar.float(), x_col.float())\n",
    "      \n",
    "        loss.backward()\n",
    "        optimizer.step()\n",
    "        pbar.set_postfix(loss=loss.item()/x.shape[0])\n",
    "        train_loss += loss\n",
    "        epoch_bar_loss += bar_loss\n",
    "        epoch_col_loss += col_loss\n",
    "        epoch_len_loss += len_loss\n",
    "        no_batches += 1\n",
    "\n",
    "    train_loss /= len(train_loader.dataset)\n",
    "    epoch_bar_loss /= len(train_loader.dataset)\n",
    "    epoch_len_loss /= len(train_loader.dataset)\n",
    "    epoch_col_loss /= len(train_loader.dataset)\n",
    "    \n",
    "\n",
    "    return train_loss, epoch_bar_loss, epoch_len_loss, epoch_col_loss"
   ]
  },
  {
   "cell_type": "code",
   "execution_count": 45,
   "metadata": {
    "executionInfo": {
     "elapsed": 12,
     "status": "ok",
     "timestamp": 1647023316755,
     "user": {
      "displayName": "Marko Petkovic",
      "photoUrl": "https://lh3.googleusercontent.com/a-/AOh14Gijd0e9r3I1vRZVN6DEwl16XpJxxS1oSAKunOnfZQ=s64",
      "userId": "11987583535390684770"
     },
     "user_tz": -60
    },
    "id": "dT7E0C3nM3qh"
   },
   "outputs": [],
   "source": [
    "def test_single_epoch(test_loader, model, epoch):\n",
    "    model.eval()\n",
    "    test_loss = 0\n",
    "    epoch_bar_loss = 0\n",
    "    epoch_col_loss = 0\n",
    "    epoch_len_loss = 0\n",
    "        \n",
    "    with torch.no_grad():\n",
    "        for batch_idx, (x,y,d,x_len,x_col,x_bar) in enumerate(test_loader):\n",
    "            x, y, d, x_len, x_bar, x_col = x.to(DEVICE), y.to(DEVICE), d.to(DEVICE), x_len.to(DEVICE), x_bar.to(DEVICE), x_col.to(DEVICE)\n",
    "            loss, bar_loss, len_loss, col_loss = model.loss_function(d.float(), x.float(), y.float(),x_len.float(),x_bar.float(),x_col.float())\n",
    "            test_loss += loss\n",
    "            epoch_bar_loss += bar_loss\n",
    "            epoch_col_loss += col_loss\n",
    "            epoch_len_loss += len_loss\n",
    "    test_loss /= len(test_loader.dataset)\n",
    "    epoch_bar_loss /= len(train_loader.dataset)\n",
    "    epoch_len_loss /= len(train_loader.dataset)\n",
    "    epoch_col_loss /= len(train_loader.dataset)\n",
    "  \n",
    "    return test_loss, epoch_bar_loss, epoch_len_loss, epoch_col_loss\n",
    "  "
   ]
  },
  {
   "cell_type": "code",
   "execution_count": 46,
   "metadata": {
    "executionInfo": {
     "elapsed": 11,
     "status": "ok",
     "timestamp": 1647023316755,
     "user": {
      "displayName": "Marko Petkovic",
      "photoUrl": "https://lh3.googleusercontent.com/a-/AOh14Gijd0e9r3I1vRZVN6DEwl16XpJxxS1oSAKunOnfZQ=s64",
      "userId": "11987583535390684770"
     },
     "user_tz": -60
    },
    "id": "npLjVGs0jHYn"
   },
   "outputs": [],
   "source": [
    "def train(args, train_loader, test_loader, diva, optimizer, end_epoch, start_epoch=0, save_folder='sd_1.0.0',save_interval=5):\n",
    "    \n",
    "    epoch_loss_sup = []\n",
    "    test_loss = []\n",
    "    \n",
    "    for epoch in range(start_epoch+1, end_epoch+1):\n",
    "        diva.beta = min([args.beta, args.beta * (epoch - args.prewarmup * 1.) / (args.warmup)])\n",
    "        if epoch< args.prewarmup:\n",
    "            diva.beta = args.beta/args.prewarmup\n",
    "        train_loss, avg_loss_bar, avg_loss_len, avg_loss_col = train_single_epoch(train_loader, diva, optimizer, epoch)\n",
    "        str_loss_sup = train_loss\n",
    "        epoch_loss_sup.append(train_loss)\n",
    "        str_print = \"epoch {}: avg train loss {:.2f}\".format(epoch, str_loss_sup)\n",
    "        str_print += \", bar train loss {:.3f}\".format(avg_loss_bar)\n",
    "        str_print += \", len train loss {:.3f}\".format(avg_loss_len)\n",
    "        str_print += \", col train loss {:.3f}\".format(avg_loss_col)\n",
    "        print(str_print)\n",
    "\n",
    "        rec_loss_train = diva.rec_alpha * avg_loss_len + diva.rec_beta * avg_loss_bar + diva.rec_gamma * avg_loss_col\n",
    "        dis_loss_train = train_loss - rec_loss_train\n",
    "\n",
    "        test_lss, avg_loss_bar_test, avg_loss_len_test, avg_loss_col_test = test_single_epoch(test_loader, diva, epoch)\n",
    "        test_loss.append(test_lss)\n",
    "       \n",
    "        str_print = \"epoch {}: avg test  loss {:.2f}\".format(epoch, test_lss)\n",
    "        str_print += \", bar  test loss {:.3f}\".format(avg_loss_bar_test)\n",
    "        str_print += \", len  test loss {:.3f}\".format(avg_loss_len_test)\n",
    "        str_print += \", col  test loss {:.3f}\".format(avg_loss_col_test)\n",
    "        print(str_print)\n",
    "\n",
    "        rec_loss_test = diva.rec_alpha * avg_loss_len_test + diva.rec_beta * avg_loss_bar_test + diva.rec_gamma * avg_loss_col_test\n",
    "        dis_loss_test = test_lss - rec_loss_test\n",
    "\n",
    "        if writer is not None:\n",
    "            \n",
    "            writer.add_scalars(\"Total_Loss\", {'train': train_loss, 'test': test_lss} ,epoch)\n",
    "            writer.add_scalars(\"Reconstruction_vs_Disentanglement\",{'rec':rec_loss_train, 'dis':dis_loss_train}, epoch)\n",
    "\n",
    "\n",
    "        if epoch % save_interval == 0:\n",
    "            torch.save(diva.state_dict(), f'{link}/saved_models/{save_folder}/checkpoints/{epoch}.pth')\n",
    "            save_reconstructions(epoch, test_loader, diva, name=save_folder)\n",
    "\n",
    "\n",
    "    if writer is not None:\n",
    "        writer.flush()\n",
    "\n",
    "    epoch_loss_sup = [i.cpu().detach().numpy() for i in epoch_loss_sup]\n",
    "    test_loss = [i.cpu().detach().numpy() for i in test_loss]\n",
    "    return epoch_loss_sup, test_loss"
   ]
  },
  {
   "cell_type": "code",
   "execution_count": 47,
   "metadata": {
    "executionInfo": {
     "elapsed": 9,
     "status": "ok",
     "timestamp": 1647023317082,
     "user": {
      "displayName": "Marko Petkovic",
      "photoUrl": "https://lh3.googleusercontent.com/a-/AOh14Gijd0e9r3I1vRZVN6DEwl16XpJxxS1oSAKunOnfZQ=s64",
      "userId": "11987583535390684770"
     },
     "user_tz": -60
    },
    "id": "XxN8U8YK0Qi1"
   },
   "outputs": [],
   "source": [
    "def save_reconstructions(epoch, test_loader, diva, name='diva'):\n",
    "    a = next(enumerate(test_loader))\n",
    "    with torch.no_grad():\n",
    "        diva.eval()\n",
    "        d = a[1][2][:10].to(DEVICE).float()\n",
    "        x = a[1][0][:10].to(DEVICE).float()\n",
    "        y = a[1][1][:10].to(DEVICE).float()\n",
    "        x_1, x_2, x_3, _, _, _ = diva(d,x,y)\n",
    "        out = diva.px.reconstruct_image(x_1, x_2, x_3)\n",
    "\n",
    "    plt.figure(figsize=(80,20))\n",
    "    fig, ax = plt.subplots(nrows=10, ncols=2)\n",
    "\n",
    "    ax[0,0].set_title(\"Original\")\n",
    "    ax[0,1].set_title(\"Reconstructed\")\n",
    "\n",
    "    for i in range(10):\n",
    "        ax[i, 1].imshow(out[i])\n",
    "        ax[i, 0].imshow(x[i].cpu().permute(1,2,0))\n",
    "        ax[i, 0].xaxis.set_visible(False)\n",
    "        ax[i, 0].yaxis.set_visible(False)\n",
    "        ax[i, 1].xaxis.set_visible(False)\n",
    "        ax[i, 1].yaxis.set_visible(False)\n",
    "    fig.tight_layout(pad=0.1)\n",
    "    plt.savefig(f'{link}/saved_models/{name}/reconstructions/e{epoch}.png')\n",
    "    plt.close(fig)"
   ]
  },
  {
   "cell_type": "code",
   "execution_count": 48,
   "metadata": {
    "colab": {
     "base_uri": "https://localhost:8080/"
    },
    "executionInfo": {
     "elapsed": 8,
     "status": "ok",
     "timestamp": 1647023317082,
     "user": {
      "displayName": "Marko Petkovic",
      "photoUrl": "https://lh3.googleusercontent.com/a-/AOh14Gijd0e9r3I1vRZVN6DEwl16XpJxxS1oSAKunOnfZQ=s64",
      "userId": "11987583535390684770"
     },
     "user_tz": -60
    },
    "id": "YVAD-Mjwh7yq",
    "outputId": "f330c11c-e358-41af-9ef4-bc36c146f907"
   },
   "outputs": [
    {
     "data": {
      "text/plain": [
       "device(type='cuda')"
      ]
     },
     "execution_count": 48,
     "metadata": {},
     "output_type": "execute_result"
    }
   ],
   "source": [
    "DEVICE"
   ]
  },
  {
   "cell_type": "markdown",
   "metadata": {
    "id": "nI4-NzHxjmci"
   },
   "source": [
    "## Model Training"
   ]
  },
  {
   "cell_type": "code",
   "execution_count": 49,
   "metadata": {
    "executionInfo": {
     "elapsed": 4,
     "status": "ok",
     "timestamp": 1647023317083,
     "user": {
      "displayName": "Marko Petkovic",
      "photoUrl": "https://lh3.googleusercontent.com/a-/AOh14Gijd0e9r3I1vRZVN6DEwl16XpJxxS1oSAKunOnfZQ=s64",
      "userId": "11987583535390684770"
     },
     "user_tz": -60
    },
    "id": "sJE0HTJE1ayP"
   },
   "outputs": [],
   "source": [
    "default_args = diva_args(z_dim=128, rec_alpha = 380, rec_beta = 200, rec_gamma = 180, \n",
    "                         beta=60, warmup=50, prewarmup=200)"
   ]
  },
  {
   "cell_type": "code",
   "execution_count": 50,
   "metadata": {
    "colab": {
     "base_uri": "https://localhost:8080/",
     "height": 0
    },
    "executionInfo": {
     "elapsed": 1182,
     "status": "error",
     "timestamp": 1647023318262,
     "user": {
      "displayName": "Marko Petkovic",
      "photoUrl": "https://lh3.googleusercontent.com/a-/AOh14Gijd0e9r3I1vRZVN6DEwl16XpJxxS1oSAKunOnfZQ=s64",
      "userId": "11987583535390684770"
     },
     "user_tz": -60
    },
    "id": "kxIMSeUD1949",
    "outputId": "45991358-df3b-4e61-9d8a-c48b71b9fa49"
   },
   "outputs": [],
   "source": [
    "diva = StampDIVA(default_args).to(DEVICE)"
   ]
  },
  {
   "cell_type": "code",
   "execution_count": 51,
   "metadata": {
    "executionInfo": {
     "elapsed": 6,
     "status": "aborted",
     "timestamp": 1647023318259,
     "user": {
      "displayName": "Marko Petkovic",
      "photoUrl": "https://lh3.googleusercontent.com/a-/AOh14Gijd0e9r3I1vRZVN6DEwl16XpJxxS1oSAKunOnfZQ=s64",
      "userId": "11987583535390684770"
     },
     "user_tz": -60
    },
    "id": "PUHyoMi7iwJC"
   },
   "outputs": [
    {
     "data": {
      "text/plain": [
       "<All keys matched successfully>"
      ]
     },
     "execution_count": 51,
     "metadata": {},
     "output_type": "execute_result"
    }
   ],
   "source": [
    "diva.load_state_dict(torch.load(f'{link}/saved_models/VAE1/checkpoints/1400.pth'))"
   ]
  },
  {
   "cell_type": "code",
   "execution_count": 52,
   "metadata": {
    "executionInfo": {
     "elapsed": 6,
     "status": "aborted",
     "timestamp": 1647023318260,
     "user": {
      "displayName": "Marko Petkovic",
      "photoUrl": "https://lh3.googleusercontent.com/a-/AOh14Gijd0e9r3I1vRZVN6DEwl16XpJxxS1oSAKunOnfZQ=s64",
      "userId": "11987583535390684770"
     },
     "user_tz": -60
    },
    "id": "48B39rFl79Yh"
   },
   "outputs": [],
   "source": [
    "train_loader = DataLoader(RNA_dataset, batch_size=128, shuffle=True)\n",
    "test_loader = DataLoader(RNA_dataset_test, batch_size=128)"
   ]
  },
  {
   "cell_type": "code",
   "execution_count": 53,
   "metadata": {
    "executionInfo": {
     "elapsed": 7,
     "status": "aborted",
     "timestamp": 1647023318261,
     "user": {
      "displayName": "Marko Petkovic",
      "photoUrl": "https://lh3.googleusercontent.com/a-/AOh14Gijd0e9r3I1vRZVN6DEwl16XpJxxS1oSAKunOnfZQ=s64",
      "userId": "11987583535390684770"
     },
     "user_tz": -60
    },
    "id": "J6y2Ek2677z1"
   },
   "outputs": [],
   "source": [
    "optimizer = optim.Adam(diva.parameters(), lr=0.0005)"
   ]
  },
  {
   "cell_type": "code",
   "execution_count": 54,
   "metadata": {
    "executionInfo": {
     "elapsed": 7,
     "status": "aborted",
     "timestamp": 1647023318261,
     "user": {
      "displayName": "Marko Petkovic",
      "photoUrl": "https://lh3.googleusercontent.com/a-/AOh14Gijd0e9r3I1vRZVN6DEwl16XpJxxS1oSAKunOnfZQ=s64",
      "userId": "11987583535390684770"
     },
     "user_tz": -60
    },
    "id": "vQGakzXN6V-Y"
   },
   "outputs": [
    {
     "data": {
      "text/plain": [
       "Reusing TensorBoard on port 6006 (pid 8760), started 9:16:16 ago. (Use '!kill 8760' to kill it.)"
      ]
     },
     "metadata": {},
     "output_type": "display_data"
    },
    {
     "data": {
      "text/html": [
       "\n",
       "      <iframe id=\"tensorboard-frame-d6da99b06a523e5\" width=\"100%\" height=\"800\" frameborder=\"0\">\n",
       "      </iframe>\n",
       "      <script>\n",
       "        (function() {\n",
       "          const frame = document.getElementById(\"tensorboard-frame-d6da99b06a523e5\");\n",
       "          const url = new URL(\"/\", window.location);\n",
       "          const port = 6006;\n",
       "          if (port) {\n",
       "            url.port = port;\n",
       "          }\n",
       "          frame.src = url;\n",
       "        })();\n",
       "      </script>\n",
       "    "
      ],
      "text/plain": [
       "<IPython.core.display.HTML object>"
      ]
     },
     "metadata": {},
     "output_type": "display_data"
    }
   ],
   "source": [
    "%tensorboard --logdir=\"D:/users/Marko/downloads/mirna/saved_models/VAE1/tensorboard/\""
   ]
  },
  {
   "cell_type": "code",
   "execution_count": 55,
   "metadata": {
    "executionInfo": {
     "elapsed": 8,
     "status": "aborted",
     "timestamp": 1647023318262,
     "user": {
      "displayName": "Marko Petkovic",
      "photoUrl": "https://lh3.googleusercontent.com/a-/AOh14Gijd0e9r3I1vRZVN6DEwl16XpJxxS1oSAKunOnfZQ=s64",
      "userId": "11987583535390684770"
     },
     "user_tz": -60
    },
    "id": "0m47XoL87oLs"
   },
   "outputs": [
    {
     "name": "stderr",
     "output_type": "stream",
     "text": [
      "Epoch 1401: 0batch [00:00, ?batch/s]D:\\Users\\Marko\\Anaconda3\\lib\\site-packages\\torch\\nn\\modules\\container.py:141: UserWarning: Implicit dimension choice for softmax has been deprecated. Change the call to include dim=X as an argument.\n",
      "  input = module(input)\n",
      "Epoch 1401: 272batch [00:15, 17.78batch/s, loss=7.26e+4]\n"
     ]
    },
    {
     "name": "stdout",
     "output_type": "stream",
     "text": [
      "epoch 1401: avg train loss 73074.91, bar train loss 210.389, len train loss 4.296, col train loss 135.965\n",
      "epoch 1401: avg test  loss 73439.99, bar  test loss 90.507, len  test loss 1.847, col  test loss 58.740\n"
     ]
    },
    {
     "name": "stderr",
     "output_type": "stream",
     "text": [
      "Epoch 1402: 272batch [00:07, 37.76batch/s, loss=7.93e+4]\n"
     ]
    },
    {
     "name": "stdout",
     "output_type": "stream",
     "text": [
      "epoch 1402: avg train loss 73068.05, bar train loss 210.376, len train loss 4.298, col train loss 135.958\n"
     ]
    },
    {
     "name": "stderr",
     "output_type": "stream",
     "text": [
      "Epoch 1403: 4batch [00:00, 35.09batch/s, loss=7.02e+4]"
     ]
    },
    {
     "name": "stdout",
     "output_type": "stream",
     "text": [
      "epoch 1402: avg test  loss 73495.93, bar  test loss 90.650, len  test loss 1.847, col  test loss 58.773\n"
     ]
    },
    {
     "name": "stderr",
     "output_type": "stream",
     "text": [
      "Epoch 1403: 272batch [00:07, 38.25batch/s, loss=7.33e+4]\n"
     ]
    },
    {
     "name": "stdout",
     "output_type": "stream",
     "text": [
      "epoch 1403: avg train loss 73062.13, bar train loss 210.343, len train loss 4.296, col train loss 135.971\n"
     ]
    },
    {
     "name": "stderr",
     "output_type": "stream",
     "text": [
      "Epoch 1404: 4batch [00:00, 36.36batch/s, loss=7.28e+4]"
     ]
    },
    {
     "name": "stdout",
     "output_type": "stream",
     "text": [
      "epoch 1403: avg test  loss 73429.86, bar  test loss 90.538, len  test loss 1.841, col  test loss 58.757\n"
     ]
    },
    {
     "name": "stderr",
     "output_type": "stream",
     "text": [
      "Epoch 1404: 272batch [00:07, 38.34batch/s, loss=7.34e+4]\n"
     ]
    },
    {
     "name": "stdout",
     "output_type": "stream",
     "text": [
      "epoch 1404: avg train loss 73068.29, bar train loss 210.349, len train loss 4.296, col train loss 135.922\n"
     ]
    },
    {
     "name": "stderr",
     "output_type": "stream",
     "text": [
      "Epoch 1405: 4batch [00:00, 36.70batch/s, loss=7.04e+4]"
     ]
    },
    {
     "name": "stdout",
     "output_type": "stream",
     "text": [
      "epoch 1404: avg test  loss 73454.97, bar  test loss 90.492, len  test loss 1.842, col  test loss 58.740\n"
     ]
    },
    {
     "name": "stderr",
     "output_type": "stream",
     "text": [
      "Epoch 1405: 272batch [00:07, 38.16batch/s, loss=7.25e+4]\n"
     ]
    },
    {
     "name": "stdout",
     "output_type": "stream",
     "text": [
      "epoch 1405: avg train loss 73066.52, bar train loss 210.308, len train loss 4.294, col train loss 135.931\n",
      "epoch 1405: avg test  loss 73470.48, bar  test loss 90.570, len  test loss 1.844, col  test loss 58.778\n"
     ]
    },
    {
     "name": "stderr",
     "output_type": "stream",
     "text": [
      "Epoch 1406: 272batch [00:07, 37.91batch/s, loss=6.59e+4]\n"
     ]
    },
    {
     "name": "stdout",
     "output_type": "stream",
     "text": [
      "epoch 1406: avg train loss 73062.40, bar train loss 210.363, len train loss 4.296, col train loss 135.915\n"
     ]
    },
    {
     "name": "stderr",
     "output_type": "stream",
     "text": [
      "Epoch 1407: 4batch [00:00, 34.48batch/s, loss=7.35e+4]"
     ]
    },
    {
     "name": "stdout",
     "output_type": "stream",
     "text": [
      "epoch 1406: avg test  loss 73463.15, bar  test loss 90.545, len  test loss 1.840, col  test loss 58.758\n"
     ]
    },
    {
     "name": "stderr",
     "output_type": "stream",
     "text": [
      "Epoch 1407: 272batch [00:07, 38.47batch/s, loss=7.5e+4] \n"
     ]
    },
    {
     "name": "stdout",
     "output_type": "stream",
     "text": [
      "epoch 1407: avg train loss 73065.84, bar train loss 210.341, len train loss 4.294, col train loss 135.946\n"
     ]
    },
    {
     "name": "stderr",
     "output_type": "stream",
     "text": [
      "Epoch 1408: 4batch [00:00, 37.04batch/s, loss=7.13e+4]"
     ]
    },
    {
     "name": "stdout",
     "output_type": "stream",
     "text": [
      "epoch 1407: avg test  loss 73486.88, bar  test loss 90.630, len  test loss 1.840, col  test loss 58.747\n"
     ]
    },
    {
     "name": "stderr",
     "output_type": "stream",
     "text": [
      "Epoch 1408: 272batch [00:06, 39.06batch/s, loss=6.82e+4]\n"
     ]
    },
    {
     "name": "stdout",
     "output_type": "stream",
     "text": [
      "epoch 1408: avg train loss 73060.59, bar train loss 210.353, len train loss 4.295, col train loss 135.900\n"
     ]
    },
    {
     "name": "stderr",
     "output_type": "stream",
     "text": [
      "Epoch 1409: 4batch [00:00, 35.71batch/s, loss=7.43e+4]"
     ]
    },
    {
     "name": "stdout",
     "output_type": "stream",
     "text": [
      "epoch 1408: avg test  loss 73480.80, bar  test loss 90.439, len  test loss 1.842, col  test loss 58.662\n"
     ]
    },
    {
     "name": "stderr",
     "output_type": "stream",
     "text": [
      "Epoch 1409: 272batch [00:07, 38.68batch/s, loss=7.52e+4]\n"
     ]
    },
    {
     "name": "stdout",
     "output_type": "stream",
     "text": [
      "epoch 1409: avg train loss 73062.96, bar train loss 210.373, len train loss 4.296, col train loss 135.900\n"
     ]
    },
    {
     "name": "stderr",
     "output_type": "stream",
     "text": [
      "Epoch 1410: 4batch [00:00, 37.74batch/s, loss=7.41e+4]"
     ]
    },
    {
     "name": "stdout",
     "output_type": "stream",
     "text": [
      "epoch 1409: avg test  loss 73466.84, bar  test loss 90.654, len  test loss 1.845, col  test loss 58.814\n"
     ]
    },
    {
     "name": "stderr",
     "output_type": "stream",
     "text": [
      "Epoch 1410: 272batch [00:07, 38.13batch/s, loss=7.17e+4]\n"
     ]
    },
    {
     "name": "stdout",
     "output_type": "stream",
     "text": [
      "epoch 1410: avg train loss 73060.45, bar train loss 210.342, len train loss 4.296, col train loss 135.947\n",
      "epoch 1410: avg test  loss 73454.01, bar  test loss 90.523, len  test loss 1.845, col  test loss 58.805\n"
     ]
    },
    {
     "name": "stderr",
     "output_type": "stream",
     "text": [
      "Epoch 1411: 272batch [00:07, 36.87batch/s, loss=7.58e+4]\n"
     ]
    },
    {
     "name": "stdout",
     "output_type": "stream",
     "text": [
      "epoch 1411: avg train loss 73062.38, bar train loss 210.348, len train loss 4.295, col train loss 135.928\n"
     ]
    },
    {
     "name": "stderr",
     "output_type": "stream",
     "text": [
      "Epoch 1412: 4batch [00:00, 33.90batch/s, loss=7.26e+4]"
     ]
    },
    {
     "name": "stdout",
     "output_type": "stream",
     "text": [
      "epoch 1411: avg test  loss 73452.24, bar  test loss 90.581, len  test loss 1.843, col  test loss 58.844\n"
     ]
    },
    {
     "name": "stderr",
     "output_type": "stream",
     "text": [
      "Epoch 1412: 272batch [00:07, 37.75batch/s, loss=7.04e+4]\n"
     ]
    },
    {
     "name": "stdout",
     "output_type": "stream",
     "text": [
      "epoch 1412: avg train loss 73065.29, bar train loss 210.358, len train loss 4.297, col train loss 135.931\n"
     ]
    },
    {
     "name": "stderr",
     "output_type": "stream",
     "text": [
      "Epoch 1413: 4batch [00:00, 35.09batch/s, loss=7e+4]  "
     ]
    },
    {
     "name": "stdout",
     "output_type": "stream",
     "text": [
      "epoch 1412: avg test  loss 73433.91, bar  test loss 90.414, len  test loss 1.847, col  test loss 58.654\n"
     ]
    },
    {
     "name": "stderr",
     "output_type": "stream",
     "text": [
      "Epoch 1413: 272batch [00:07, 37.58batch/s, loss=6.99e+4]\n"
     ]
    },
    {
     "name": "stdout",
     "output_type": "stream",
     "text": [
      "epoch 1413: avg train loss 73061.36, bar train loss 210.328, len train loss 4.296, col train loss 135.922\n"
     ]
    },
    {
     "name": "stderr",
     "output_type": "stream",
     "text": [
      "Epoch 1414: 4batch [00:00, 37.38batch/s, loss=7.29e+4]"
     ]
    },
    {
     "name": "stdout",
     "output_type": "stream",
     "text": [
      "epoch 1413: avg test  loss 73463.01, bar  test loss 90.469, len  test loss 1.844, col  test loss 58.752\n"
     ]
    },
    {
     "name": "stderr",
     "output_type": "stream",
     "text": [
      "Epoch 1414: 272batch [00:07, 38.16batch/s, loss=7.3e+4] \n"
     ]
    },
    {
     "name": "stdout",
     "output_type": "stream",
     "text": [
      "epoch 1414: avg train loss 73065.55, bar train loss 210.352, len train loss 4.294, col train loss 135.949\n"
     ]
    },
    {
     "name": "stderr",
     "output_type": "stream",
     "text": [
      "Epoch 1415: 4batch [00:00, 34.48batch/s, loss=7e+4]   "
     ]
    },
    {
     "name": "stdout",
     "output_type": "stream",
     "text": [
      "epoch 1414: avg test  loss 73443.98, bar  test loss 90.557, len  test loss 1.842, col  test loss 58.689\n"
     ]
    },
    {
     "name": "stderr",
     "output_type": "stream",
     "text": [
      "Epoch 1415: 272batch [00:06, 38.94batch/s, loss=6.9e+4] \n"
     ]
    },
    {
     "name": "stdout",
     "output_type": "stream",
     "text": [
      "epoch 1415: avg train loss 73060.88, bar train loss 210.328, len train loss 4.296, col train loss 135.920\n",
      "epoch 1415: avg test  loss 73453.10, bar  test loss 90.674, len  test loss 1.844, col  test loss 58.898\n"
     ]
    },
    {
     "name": "stderr",
     "output_type": "stream",
     "text": [
      "Epoch 1416: 272batch [00:06, 39.62batch/s, loss=7.36e+4]\n"
     ]
    },
    {
     "name": "stdout",
     "output_type": "stream",
     "text": [
      "epoch 1416: avg train loss 73051.78, bar train loss 210.303, len train loss 4.297, col train loss 135.906\n"
     ]
    },
    {
     "name": "stderr",
     "output_type": "stream",
     "text": [
      "Epoch 1417: 4batch [00:00, 37.74batch/s, loss=7.3e+4] "
     ]
    },
    {
     "name": "stdout",
     "output_type": "stream",
     "text": [
      "epoch 1416: avg test  loss 73515.17, bar  test loss 90.565, len  test loss 1.847, col  test loss 58.764\n"
     ]
    },
    {
     "name": "stderr",
     "output_type": "stream",
     "text": [
      "Epoch 1417: 272batch [00:07, 38.14batch/s, loss=7.22e+4]\n"
     ]
    },
    {
     "name": "stdout",
     "output_type": "stream",
     "text": [
      "epoch 1417: avg train loss 73057.62, bar train loss 210.356, len train loss 4.299, col train loss 135.922\n"
     ]
    },
    {
     "name": "stderr",
     "output_type": "stream",
     "text": [
      "Epoch 1418: 4batch [00:00, 37.04batch/s, loss=7.08e+4]"
     ]
    },
    {
     "name": "stdout",
     "output_type": "stream",
     "text": [
      "epoch 1417: avg test  loss 73418.86, bar  test loss 90.701, len  test loss 1.846, col  test loss 58.821\n"
     ]
    },
    {
     "name": "stderr",
     "output_type": "stream",
     "text": [
      "Epoch 1418: 272batch [00:07, 38.40batch/s, loss=7.91e+4]\n"
     ]
    },
    {
     "name": "stdout",
     "output_type": "stream",
     "text": [
      "epoch 1418: avg train loss 73056.50, bar train loss 210.345, len train loss 4.295, col train loss 135.925\n"
     ]
    },
    {
     "name": "stderr",
     "output_type": "stream",
     "text": [
      "Epoch 1419: 4batch [00:00, 35.71batch/s, loss=7.12e+4]"
     ]
    },
    {
     "name": "stdout",
     "output_type": "stream",
     "text": [
      "epoch 1418: avg test  loss 73432.69, bar  test loss 90.436, len  test loss 1.843, col  test loss 58.683\n"
     ]
    },
    {
     "name": "stderr",
     "output_type": "stream",
     "text": [
      "Epoch 1419: 272batch [00:07, 37.08batch/s, loss=7.57e+4]\n"
     ]
    },
    {
     "name": "stdout",
     "output_type": "stream",
     "text": [
      "epoch 1419: avg train loss 73056.37, bar train loss 210.330, len train loss 4.297, col train loss 135.933\n"
     ]
    },
    {
     "name": "stderr",
     "output_type": "stream",
     "text": [
      "Epoch 1420: 4batch [00:00, 34.78batch/s, loss=7.37e+4]"
     ]
    },
    {
     "name": "stdout",
     "output_type": "stream",
     "text": [
      "epoch 1419: avg test  loss 73443.33, bar  test loss 90.518, len  test loss 1.843, col  test loss 58.639\n"
     ]
    },
    {
     "name": "stderr",
     "output_type": "stream",
     "text": [
      "Epoch 1420: 272batch [00:07, 37.58batch/s, loss=6.92e+4]\n"
     ]
    },
    {
     "name": "stdout",
     "output_type": "stream",
     "text": [
      "epoch 1420: avg train loss 73057.75, bar train loss 210.319, len train loss 4.297, col train loss 135.873\n",
      "epoch 1420: avg test  loss 73433.61, bar  test loss 90.431, len  test loss 1.843, col  test loss 58.577\n"
     ]
    },
    {
     "name": "stderr",
     "output_type": "stream",
     "text": [
      "Epoch 1421: 272batch [00:07, 38.30batch/s, loss=7.06e+4]\n"
     ]
    },
    {
     "name": "stdout",
     "output_type": "stream",
     "text": [
      "epoch 1421: avg train loss 73055.95, bar train loss 210.323, len train loss 4.295, col train loss 135.921\n"
     ]
    },
    {
     "name": "stderr",
     "output_type": "stream",
     "text": [
      "Epoch 1422: 4batch [00:00, 37.38batch/s, loss=7.04e+4]"
     ]
    },
    {
     "name": "stdout",
     "output_type": "stream",
     "text": [
      "epoch 1421: avg test  loss 73514.67, bar  test loss 90.592, len  test loss 1.846, col  test loss 58.735\n"
     ]
    },
    {
     "name": "stderr",
     "output_type": "stream",
     "text": [
      "Epoch 1422: 272batch [00:07, 38.60batch/s, loss=7.53e+4]\n"
     ]
    },
    {
     "name": "stdout",
     "output_type": "stream",
     "text": [
      "epoch 1422: avg train loss 73062.10, bar train loss 210.366, len train loss 4.297, col train loss 135.886\n"
     ]
    },
    {
     "name": "stderr",
     "output_type": "stream",
     "text": [
      "Epoch 1423: 4batch [00:00, 36.70batch/s, loss=7.17e+4]"
     ]
    },
    {
     "name": "stdout",
     "output_type": "stream",
     "text": [
      "epoch 1422: avg test  loss 73458.11, bar  test loss 90.435, len  test loss 1.846, col  test loss 58.637\n"
     ]
    },
    {
     "name": "stderr",
     "output_type": "stream",
     "text": [
      "Epoch 1423: 272batch [00:07, 37.97batch/s, loss=7.06e+4]\n"
     ]
    },
    {
     "name": "stdout",
     "output_type": "stream",
     "text": [
      "epoch 1423: avg train loss 73056.09, bar train loss 210.326, len train loss 4.296, col train loss 135.913\n"
     ]
    },
    {
     "name": "stderr",
     "output_type": "stream",
     "text": [
      "Epoch 1424: 4batch [00:00, 34.48batch/s, loss=7.45e+4]"
     ]
    },
    {
     "name": "stdout",
     "output_type": "stream",
     "text": [
      "epoch 1423: avg test  loss 73490.49, bar  test loss 90.503, len  test loss 1.845, col  test loss 58.683\n"
     ]
    },
    {
     "name": "stderr",
     "output_type": "stream",
     "text": [
      "Epoch 1424: 272batch [00:07, 38.42batch/s, loss=7.87e+4]\n"
     ]
    },
    {
     "name": "stdout",
     "output_type": "stream",
     "text": [
      "epoch 1424: avg train loss 73049.91, bar train loss 210.289, len train loss 4.294, col train loss 135.880\n"
     ]
    },
    {
     "name": "stderr",
     "output_type": "stream",
     "text": [
      "Epoch 1425: 4batch [00:00, 37.04batch/s, loss=7.17e+4]"
     ]
    },
    {
     "name": "stdout",
     "output_type": "stream",
     "text": [
      "epoch 1424: avg test  loss 73430.34, bar  test loss 90.724, len  test loss 1.844, col  test loss 58.813\n"
     ]
    },
    {
     "name": "stderr",
     "output_type": "stream",
     "text": [
      "Epoch 1425: 272batch [00:07, 38.75batch/s, loss=7.07e+4]\n"
     ]
    },
    {
     "name": "stdout",
     "output_type": "stream",
     "text": [
      "epoch 1425: avg train loss 73050.00, bar train loss 210.342, len train loss 4.295, col train loss 135.870\n",
      "epoch 1425: avg test  loss 73467.75, bar  test loss 90.516, len  test loss 1.842, col  test loss 58.619\n"
     ]
    },
    {
     "name": "stderr",
     "output_type": "stream",
     "text": [
      "Epoch 1426: 272batch [00:06, 39.20batch/s, loss=6.7e+4] \n"
     ]
    },
    {
     "name": "stdout",
     "output_type": "stream",
     "text": [
      "epoch 1426: avg train loss 73061.45, bar train loss 210.362, len train loss 4.296, col train loss 135.911\n"
     ]
    },
    {
     "name": "stderr",
     "output_type": "stream",
     "text": [
      "Epoch 1427: 4batch [00:00, 37.04batch/s, loss=7.41e+4]"
     ]
    },
    {
     "name": "stdout",
     "output_type": "stream",
     "text": [
      "epoch 1426: avg test  loss 73463.98, bar  test loss 90.285, len  test loss 1.843, col  test loss 58.571\n"
     ]
    },
    {
     "name": "stderr",
     "output_type": "stream",
     "text": [
      "Epoch 1427: 272batch [00:07, 38.72batch/s, loss=7.76e+4]\n"
     ]
    },
    {
     "name": "stdout",
     "output_type": "stream",
     "text": [
      "epoch 1427: avg train loss 73051.45, bar train loss 210.326, len train loss 4.296, col train loss 135.888\n"
     ]
    },
    {
     "name": "stderr",
     "output_type": "stream",
     "text": [
      "Epoch 1428: 4batch [00:00, 37.04batch/s, loss=7.08e+4]"
     ]
    },
    {
     "name": "stdout",
     "output_type": "stream",
     "text": [
      "epoch 1427: avg test  loss 73446.89, bar  test loss 90.641, len  test loss 1.843, col  test loss 58.920\n"
     ]
    },
    {
     "name": "stderr",
     "output_type": "stream",
     "text": [
      "Epoch 1428: 272batch [00:07, 38.59batch/s, loss=7.05e+4]\n"
     ]
    },
    {
     "name": "stdout",
     "output_type": "stream",
     "text": [
      "epoch 1428: avg train loss 73051.12, bar train loss 210.304, len train loss 4.294, col train loss 135.870\n"
     ]
    },
    {
     "name": "stderr",
     "output_type": "stream",
     "text": [
      "Epoch 1429: 4batch [00:00, 37.74batch/s, loss=7.08e+4]"
     ]
    },
    {
     "name": "stdout",
     "output_type": "stream",
     "text": [
      "epoch 1428: avg test  loss 73447.39, bar  test loss 90.524, len  test loss 1.844, col  test loss 58.712\n"
     ]
    },
    {
     "name": "stderr",
     "output_type": "stream",
     "text": [
      "Epoch 1429: 272batch [00:07, 38.77batch/s, loss=6.98e+4]\n"
     ]
    },
    {
     "name": "stdout",
     "output_type": "stream",
     "text": [
      "epoch 1429: avg train loss 73046.06, bar train loss 210.295, len train loss 4.296, col train loss 135.875\n"
     ]
    },
    {
     "name": "stderr",
     "output_type": "stream",
     "text": [
      "Epoch 1430: 4batch [00:00, 35.72batch/s, loss=7.36e+4]"
     ]
    },
    {
     "name": "stdout",
     "output_type": "stream",
     "text": [
      "epoch 1429: avg test  loss 73440.45, bar  test loss 90.647, len  test loss 1.841, col  test loss 58.904\n"
     ]
    },
    {
     "name": "stderr",
     "output_type": "stream",
     "text": [
      "Epoch 1430: 272batch [00:07, 38.45batch/s, loss=8.24e+4]\n"
     ]
    },
    {
     "name": "stdout",
     "output_type": "stream",
     "text": [
      "epoch 1430: avg train loss 73049.48, bar train loss 210.354, len train loss 4.294, col train loss 135.893\n",
      "epoch 1430: avg test  loss 73452.54, bar  test loss 90.569, len  test loss 1.843, col  test loss 58.774\n"
     ]
    },
    {
     "name": "stderr",
     "output_type": "stream",
     "text": [
      "Epoch 1431: 272batch [00:06, 39.02batch/s, loss=75152.0]\n"
     ]
    },
    {
     "name": "stdout",
     "output_type": "stream",
     "text": [
      "epoch 1431: avg train loss 73042.67, bar train loss 210.294, len train loss 4.292, col train loss 135.859\n"
     ]
    },
    {
     "name": "stderr",
     "output_type": "stream",
     "text": [
      "Epoch 1432: 4batch [00:00, 36.04batch/s, loss=7.32e+4]"
     ]
    },
    {
     "name": "stdout",
     "output_type": "stream",
     "text": [
      "epoch 1431: avg test  loss 73510.36, bar  test loss 90.747, len  test loss 1.844, col  test loss 58.827\n"
     ]
    },
    {
     "name": "stderr",
     "output_type": "stream",
     "text": [
      "Epoch 1432: 272batch [00:06, 39.20batch/s, loss=7.52e+4]\n"
     ]
    },
    {
     "name": "stdout",
     "output_type": "stream",
     "text": [
      "epoch 1432: avg train loss 73059.56, bar train loss 210.333, len train loss 4.295, col train loss 135.865\n"
     ]
    },
    {
     "name": "stderr",
     "output_type": "stream",
     "text": [
      "Epoch 1433: 4batch [00:00, 37.74batch/s, loss=7.37e+4]"
     ]
    },
    {
     "name": "stdout",
     "output_type": "stream",
     "text": [
      "epoch 1432: avg test  loss 73426.03, bar  test loss 90.482, len  test loss 1.844, col  test loss 58.743\n"
     ]
    },
    {
     "name": "stderr",
     "output_type": "stream",
     "text": [
      "Epoch 1433: 272batch [00:06, 38.90batch/s, loss=6.75e+4]\n"
     ]
    },
    {
     "name": "stdout",
     "output_type": "stream",
     "text": [
      "epoch 1433: avg train loss 73050.34, bar train loss 210.304, len train loss 4.294, col train loss 135.895\n"
     ]
    },
    {
     "name": "stderr",
     "output_type": "stream",
     "text": [
      "Epoch 1434: 4batch [00:00, 36.70batch/s, loss=7.46e+4]"
     ]
    },
    {
     "name": "stdout",
     "output_type": "stream",
     "text": [
      "epoch 1433: avg test  loss 73475.41, bar  test loss 90.555, len  test loss 1.840, col  test loss 58.778\n"
     ]
    },
    {
     "name": "stderr",
     "output_type": "stream",
     "text": [
      "Epoch 1434: 272batch [00:07, 38.76batch/s, loss=6.99e+4]\n"
     ]
    },
    {
     "name": "stdout",
     "output_type": "stream",
     "text": [
      "epoch 1434: avg train loss 73051.40, bar train loss 210.298, len train loss 4.290, col train loss 135.889\n"
     ]
    },
    {
     "name": "stderr",
     "output_type": "stream",
     "text": [
      "Epoch 1435: 4batch [00:00, 38.10batch/s, loss=7.58e+4]"
     ]
    },
    {
     "name": "stdout",
     "output_type": "stream",
     "text": [
      "epoch 1434: avg test  loss 73484.36, bar  test loss 90.438, len  test loss 1.838, col  test loss 58.550\n"
     ]
    },
    {
     "name": "stderr",
     "output_type": "stream",
     "text": [
      "Epoch 1435: 272batch [00:06, 39.05batch/s, loss=7.92e+4]\n"
     ]
    },
    {
     "name": "stdout",
     "output_type": "stream",
     "text": [
      "epoch 1435: avg train loss 73049.66, bar train loss 210.300, len train loss 4.295, col train loss 135.859\n",
      "epoch 1435: avg test  loss 73452.90, bar  test loss 90.562, len  test loss 1.839, col  test loss 58.713\n"
     ]
    },
    {
     "name": "stderr",
     "output_type": "stream",
     "text": [
      "Epoch 1436: 272batch [00:06, 39.01batch/s, loss=8.15e+4]\n"
     ]
    },
    {
     "name": "stdout",
     "output_type": "stream",
     "text": [
      "epoch 1436: avg train loss 73048.45, bar train loss 210.307, len train loss 4.290, col train loss 135.891\n"
     ]
    },
    {
     "name": "stderr",
     "output_type": "stream",
     "text": [
      "Epoch 1437: 4batch [00:00, 35.40batch/s, loss=7.23e+4]"
     ]
    },
    {
     "name": "stdout",
     "output_type": "stream",
     "text": [
      "epoch 1436: avg test  loss 73425.49, bar  test loss 90.574, len  test loss 1.844, col  test loss 58.805\n"
     ]
    },
    {
     "name": "stderr",
     "output_type": "stream",
     "text": [
      "Epoch 1437: 272batch [00:07, 38.12batch/s, loss=6.81e+4]\n"
     ]
    },
    {
     "name": "stdout",
     "output_type": "stream",
     "text": [
      "epoch 1437: avg train loss 73046.02, bar train loss 210.327, len train loss 4.293, col train loss 135.873\n"
     ]
    },
    {
     "name": "stderr",
     "output_type": "stream",
     "text": [
      "Epoch 1438: 4batch [00:00, 36.70batch/s, loss=7.23e+4]"
     ]
    },
    {
     "name": "stdout",
     "output_type": "stream",
     "text": [
      "epoch 1437: avg test  loss 73437.11, bar  test loss 90.579, len  test loss 1.842, col  test loss 58.724\n"
     ]
    },
    {
     "name": "stderr",
     "output_type": "stream",
     "text": [
      "Epoch 1438: 272batch [00:07, 38.41batch/s, loss=7.06e+4]\n"
     ]
    },
    {
     "name": "stdout",
     "output_type": "stream",
     "text": [
      "epoch 1438: avg train loss 73048.24, bar train loss 210.312, len train loss 4.294, col train loss 135.867\n"
     ]
    },
    {
     "name": "stderr",
     "output_type": "stream",
     "text": [
      "Epoch 1439: 4batch [00:00, 31.75batch/s, loss=7.42e+4]"
     ]
    },
    {
     "name": "stdout",
     "output_type": "stream",
     "text": [
      "epoch 1438: avg test  loss 73458.95, bar  test loss 90.413, len  test loss 1.844, col  test loss 58.591\n"
     ]
    },
    {
     "name": "stderr",
     "output_type": "stream",
     "text": [
      "Epoch 1439: 272batch [00:07, 38.71batch/s, loss=7.84e+4]\n"
     ]
    },
    {
     "name": "stdout",
     "output_type": "stream",
     "text": [
      "epoch 1439: avg train loss 73040.88, bar train loss 210.276, len train loss 4.292, col train loss 135.856\n"
     ]
    },
    {
     "name": "stderr",
     "output_type": "stream",
     "text": [
      "Epoch 1440: 4batch [00:00, 37.38batch/s, loss=7.12e+4]"
     ]
    },
    {
     "name": "stdout",
     "output_type": "stream",
     "text": [
      "epoch 1439: avg test  loss 73471.06, bar  test loss 90.542, len  test loss 1.841, col  test loss 58.883\n"
     ]
    },
    {
     "name": "stderr",
     "output_type": "stream",
     "text": [
      "Epoch 1440: 272batch [00:06, 38.86batch/s, loss=6.94e+4]\n"
     ]
    },
    {
     "name": "stdout",
     "output_type": "stream",
     "text": [
      "epoch 1440: avg train loss 73034.43, bar train loss 210.247, len train loss 4.293, col train loss 135.839\n",
      "epoch 1440: avg test  loss 73443.17, bar  test loss 90.530, len  test loss 1.841, col  test loss 58.756\n"
     ]
    },
    {
     "name": "stderr",
     "output_type": "stream",
     "text": [
      "Epoch 1441: 272batch [00:07, 38.85batch/s, loss=7.64e+4]\n"
     ]
    },
    {
     "name": "stdout",
     "output_type": "stream",
     "text": [
      "epoch 1441: avg train loss 73053.51, bar train loss 210.346, len train loss 4.290, col train loss 135.887\n"
     ]
    },
    {
     "name": "stderr",
     "output_type": "stream",
     "text": [
      "Epoch 1442: 4batch [00:00, 38.46batch/s, loss=7.5e+4] "
     ]
    },
    {
     "name": "stdout",
     "output_type": "stream",
     "text": [
      "epoch 1441: avg test  loss 73409.72, bar  test loss 90.410, len  test loss 1.842, col  test loss 58.531\n"
     ]
    },
    {
     "name": "stderr",
     "output_type": "stream",
     "text": [
      "Epoch 1442: 272batch [00:06, 38.90batch/s, loss=8.01e+4]\n"
     ]
    },
    {
     "name": "stdout",
     "output_type": "stream",
     "text": [
      "epoch 1442: avg train loss 73042.95, bar train loss 210.293, len train loss 4.292, col train loss 135.841\n"
     ]
    },
    {
     "name": "stderr",
     "output_type": "stream",
     "text": [
      "Epoch 1443: 4batch [00:00, 37.74batch/s, loss=7.03e+4]"
     ]
    },
    {
     "name": "stdout",
     "output_type": "stream",
     "text": [
      "epoch 1442: avg test  loss 73445.68, bar  test loss 90.478, len  test loss 1.840, col  test loss 58.748\n"
     ]
    },
    {
     "name": "stderr",
     "output_type": "stream",
     "text": [
      "Epoch 1443: 272batch [00:07, 38.81batch/s, loss=8.19e+4]\n"
     ]
    },
    {
     "name": "stdout",
     "output_type": "stream",
     "text": [
      "epoch 1443: avg train loss 73041.23, bar train loss 210.282, len train loss 4.291, col train loss 135.878\n"
     ]
    },
    {
     "name": "stderr",
     "output_type": "stream",
     "text": [
      "Epoch 1444: 4batch [00:00, 36.70batch/s, loss=7.55e+4]"
     ]
    },
    {
     "name": "stdout",
     "output_type": "stream",
     "text": [
      "epoch 1443: avg test  loss 73444.83, bar  test loss 90.519, len  test loss 1.842, col  test loss 58.708\n"
     ]
    },
    {
     "name": "stderr",
     "output_type": "stream",
     "text": [
      "Epoch 1444: 272batch [00:07, 38.72batch/s, loss=6.76e+4]\n"
     ]
    },
    {
     "name": "stdout",
     "output_type": "stream",
     "text": [
      "epoch 1444: avg train loss 73047.69, bar train loss 210.276, len train loss 4.294, col train loss 135.830\n"
     ]
    },
    {
     "name": "stderr",
     "output_type": "stream",
     "text": [
      "Epoch 1445: 4batch [00:00, 36.36batch/s, loss=6.95e+4]"
     ]
    },
    {
     "name": "stdout",
     "output_type": "stream",
     "text": [
      "epoch 1444: avg test  loss 73466.03, bar  test loss 90.603, len  test loss 1.843, col  test loss 58.932\n"
     ]
    },
    {
     "name": "stderr",
     "output_type": "stream",
     "text": [
      "Epoch 1445: 272batch [00:07, 37.04batch/s, loss=7.51e+4]\n"
     ]
    },
    {
     "name": "stdout",
     "output_type": "stream",
     "text": [
      "epoch 1445: avg train loss 73040.31, bar train loss 210.246, len train loss 4.291, col train loss 135.818\n",
      "epoch 1445: avg test  loss 73423.48, bar  test loss 90.457, len  test loss 1.839, col  test loss 58.694\n"
     ]
    },
    {
     "name": "stderr",
     "output_type": "stream",
     "text": [
      "Epoch 1446: 272batch [00:07, 37.68batch/s, loss=7.27e+4]\n"
     ]
    },
    {
     "name": "stdout",
     "output_type": "stream",
     "text": [
      "epoch 1446: avg train loss 73034.16, bar train loss 210.244, len train loss 4.293, col train loss 135.800\n"
     ]
    },
    {
     "name": "stderr",
     "output_type": "stream",
     "text": [
      "Epoch 1447: 4batch [00:00, 36.36batch/s, loss=7.47e+4]"
     ]
    },
    {
     "name": "stdout",
     "output_type": "stream",
     "text": [
      "epoch 1446: avg test  loss 73419.61, bar  test loss 90.405, len  test loss 1.838, col  test loss 58.587\n"
     ]
    },
    {
     "name": "stderr",
     "output_type": "stream",
     "text": [
      "Epoch 1447: 272batch [00:06, 38.91batch/s, loss=7.33e+4]\n"
     ]
    },
    {
     "name": "stdout",
     "output_type": "stream",
     "text": [
      "epoch 1447: avg train loss 73049.83, bar train loss 210.265, len train loss 4.292, col train loss 135.846\n"
     ]
    },
    {
     "name": "stderr",
     "output_type": "stream",
     "text": [
      "Epoch 1448: 4batch [00:00, 37.04batch/s, loss=7.39e+4]"
     ]
    },
    {
     "name": "stdout",
     "output_type": "stream",
     "text": [
      "epoch 1447: avg test  loss 73516.97, bar  test loss 90.546, len  test loss 1.841, col  test loss 58.747\n"
     ]
    },
    {
     "name": "stderr",
     "output_type": "stream",
     "text": [
      "Epoch 1448: 272batch [00:06, 39.09batch/s, loss=7.17e+4]\n"
     ]
    },
    {
     "name": "stdout",
     "output_type": "stream",
     "text": [
      "epoch 1448: avg train loss 73043.51, bar train loss 210.288, len train loss 4.294, col train loss 135.854\n"
     ]
    },
    {
     "name": "stderr",
     "output_type": "stream",
     "text": [
      "Epoch 1449: 4batch [00:00, 37.38batch/s, loss=7.18e+4]"
     ]
    },
    {
     "name": "stdout",
     "output_type": "stream",
     "text": [
      "epoch 1448: avg test  loss 73434.55, bar  test loss 90.630, len  test loss 1.840, col  test loss 58.766\n"
     ]
    },
    {
     "name": "stderr",
     "output_type": "stream",
     "text": [
      "Epoch 1449: 272batch [00:07, 38.71batch/s, loss=7.61e+4]\n"
     ]
    },
    {
     "name": "stdout",
     "output_type": "stream",
     "text": [
      "epoch 1449: avg train loss 73038.64, bar train loss 210.275, len train loss 4.292, col train loss 135.839\n"
     ]
    },
    {
     "name": "stderr",
     "output_type": "stream",
     "text": [
      "Epoch 1450: 4batch [00:00, 36.04batch/s, loss=6.96e+4]"
     ]
    },
    {
     "name": "stdout",
     "output_type": "stream",
     "text": [
      "epoch 1449: avg test  loss 73425.92, bar  test loss 90.469, len  test loss 1.839, col  test loss 58.629\n"
     ]
    },
    {
     "name": "stderr",
     "output_type": "stream",
     "text": [
      "Epoch 1450: 272batch [00:07, 38.80batch/s, loss=7.25e+4]\n"
     ]
    },
    {
     "name": "stdout",
     "output_type": "stream",
     "text": [
      "epoch 1450: avg train loss 73036.87, bar train loss 210.268, len train loss 4.292, col train loss 135.823\n",
      "epoch 1450: avg test  loss 73416.82, bar  test loss 90.493, len  test loss 1.839, col  test loss 58.774\n"
     ]
    },
    {
     "name": "stderr",
     "output_type": "stream",
     "text": [
      "Epoch 1451: 272batch [00:07, 38.80batch/s, loss=7.73e+4]\n"
     ]
    },
    {
     "name": "stdout",
     "output_type": "stream",
     "text": [
      "epoch 1451: avg train loss 73037.69, bar train loss 210.273, len train loss 4.292, col train loss 135.841\n"
     ]
    },
    {
     "name": "stderr",
     "output_type": "stream",
     "text": [
      "Epoch 1452: 4batch [00:00, 37.38batch/s, loss=7.07e+4]"
     ]
    },
    {
     "name": "stdout",
     "output_type": "stream",
     "text": [
      "epoch 1451: avg test  loss 73436.30, bar  test loss 90.376, len  test loss 1.839, col  test loss 58.549\n"
     ]
    },
    {
     "name": "stderr",
     "output_type": "stream",
     "text": [
      "Epoch 1452: 272batch [00:07, 38.76batch/s, loss=8.31e+4]\n"
     ]
    },
    {
     "name": "stdout",
     "output_type": "stream",
     "text": [
      "epoch 1452: avg train loss 73048.90, bar train loss 210.266, len train loss 4.289, col train loss 135.854\n"
     ]
    },
    {
     "name": "stderr",
     "output_type": "stream",
     "text": [
      "Epoch 1453: 4batch [00:00, 37.74batch/s, loss=7.22e+4]"
     ]
    },
    {
     "name": "stdout",
     "output_type": "stream",
     "text": [
      "epoch 1452: avg test  loss 73436.12, bar  test loss 90.671, len  test loss 1.838, col  test loss 58.973\n"
     ]
    },
    {
     "name": "stderr",
     "output_type": "stream",
     "text": [
      "Epoch 1453: 272batch [00:07, 38.76batch/s, loss=7.25e+4]\n"
     ]
    },
    {
     "name": "stdout",
     "output_type": "stream",
     "text": [
      "epoch 1453: avg train loss 73045.24, bar train loss 210.275, len train loss 4.290, col train loss 135.830\n"
     ]
    },
    {
     "name": "stderr",
     "output_type": "stream",
     "text": [
      "Epoch 1454: 4batch [00:00, 37.04batch/s, loss=7.3e+4] "
     ]
    },
    {
     "name": "stdout",
     "output_type": "stream",
     "text": [
      "epoch 1453: avg test  loss 73444.44, bar  test loss 90.301, len  test loss 1.840, col  test loss 58.517\n"
     ]
    },
    {
     "name": "stderr",
     "output_type": "stream",
     "text": [
      "Epoch 1454: 272batch [00:07, 36.94batch/s, loss=7.46e+4]\n"
     ]
    },
    {
     "name": "stdout",
     "output_type": "stream",
     "text": [
      "epoch 1454: avg train loss 73038.29, bar train loss 210.240, len train loss 4.290, col train loss 135.809\n"
     ]
    },
    {
     "name": "stderr",
     "output_type": "stream",
     "text": [
      "Epoch 1455: 4batch [00:00, 33.06batch/s, loss=7.33e+4]"
     ]
    },
    {
     "name": "stdout",
     "output_type": "stream",
     "text": [
      "epoch 1454: avg test  loss 73412.69, bar  test loss 90.399, len  test loss 1.842, col  test loss 58.690\n"
     ]
    },
    {
     "name": "stderr",
     "output_type": "stream",
     "text": [
      "Epoch 1455: 272batch [00:07, 37.50batch/s, loss=7.54e+4]\n"
     ]
    },
    {
     "name": "stdout",
     "output_type": "stream",
     "text": [
      "epoch 1455: avg train loss 73038.91, bar train loss 210.244, len train loss 4.291, col train loss 135.839\n",
      "epoch 1455: avg test  loss 73416.53, bar  test loss 90.486, len  test loss 1.844, col  test loss 58.650\n"
     ]
    },
    {
     "name": "stderr",
     "output_type": "stream",
     "text": [
      "Epoch 1456: 272batch [00:07, 37.60batch/s, loss=6.4e+4] \n"
     ]
    },
    {
     "name": "stdout",
     "output_type": "stream",
     "text": [
      "epoch 1456: avg train loss 73033.55, bar train loss 210.265, len train loss 4.292, col train loss 135.837\n"
     ]
    },
    {
     "name": "stderr",
     "output_type": "stream",
     "text": [
      "Epoch 1457: 4batch [00:00, 34.19batch/s, loss=7.45e+4]"
     ]
    },
    {
     "name": "stdout",
     "output_type": "stream",
     "text": [
      "epoch 1456: avg test  loss 73430.52, bar  test loss 90.453, len  test loss 1.843, col  test loss 58.612\n"
     ]
    },
    {
     "name": "stderr",
     "output_type": "stream",
     "text": [
      "Epoch 1457: 272batch [00:07, 36.75batch/s, loss=7.12e+4]\n"
     ]
    },
    {
     "name": "stdout",
     "output_type": "stream",
     "text": [
      "epoch 1457: avg train loss 73036.94, bar train loss 210.248, len train loss 4.289, col train loss 135.841\n"
     ]
    },
    {
     "name": "stderr",
     "output_type": "stream",
     "text": [
      "Epoch 1458: 4batch [00:00, 35.09batch/s, loss=7.43e+4]"
     ]
    },
    {
     "name": "stdout",
     "output_type": "stream",
     "text": [
      "epoch 1457: avg test  loss 73412.47, bar  test loss 90.515, len  test loss 1.840, col  test loss 58.681\n"
     ]
    },
    {
     "name": "stderr",
     "output_type": "stream",
     "text": [
      "Epoch 1458: 272batch [00:07, 36.43batch/s, loss=7.25e+4]\n"
     ]
    },
    {
     "name": "stdout",
     "output_type": "stream",
     "text": [
      "epoch 1458: avg train loss 73037.16, bar train loss 210.226, len train loss 4.288, col train loss 135.832\n"
     ]
    },
    {
     "name": "stderr",
     "output_type": "stream",
     "text": [
      "Epoch 1459: 4batch [00:00, 35.71batch/s, loss=7.52e+4]"
     ]
    },
    {
     "name": "stdout",
     "output_type": "stream",
     "text": [
      "epoch 1458: avg test  loss 73415.52, bar  test loss 90.446, len  test loss 1.841, col  test loss 58.607\n"
     ]
    },
    {
     "name": "stderr",
     "output_type": "stream",
     "text": [
      "Epoch 1459: 272batch [00:07, 37.29batch/s, loss=7.77e+4]\n"
     ]
    },
    {
     "name": "stdout",
     "output_type": "stream",
     "text": [
      "epoch 1459: avg train loss 73044.84, bar train loss 210.271, len train loss 4.295, col train loss 135.832\n"
     ]
    },
    {
     "name": "stderr",
     "output_type": "stream",
     "text": [
      "Epoch 1460: 4batch [00:00, 35.40batch/s, loss=7.14e+4]"
     ]
    },
    {
     "name": "stdout",
     "output_type": "stream",
     "text": [
      "epoch 1459: avg test  loss 73443.07, bar  test loss 90.705, len  test loss 1.838, col  test loss 58.794\n"
     ]
    },
    {
     "name": "stderr",
     "output_type": "stream",
     "text": [
      "Epoch 1460: 272batch [00:07, 37.49batch/s, loss=8.11e+4]\n"
     ]
    },
    {
     "name": "stdout",
     "output_type": "stream",
     "text": [
      "epoch 1460: avg train loss 73038.14, bar train loss 210.270, len train loss 4.290, col train loss 135.845\n",
      "epoch 1460: avg test  loss 73421.54, bar  test loss 90.502, len  test loss 1.844, col  test loss 58.711\n"
     ]
    },
    {
     "name": "stderr",
     "output_type": "stream",
     "text": [
      "Epoch 1461: 272batch [00:07, 36.10batch/s, loss=6.88e+4]\n"
     ]
    },
    {
     "name": "stdout",
     "output_type": "stream",
     "text": [
      "epoch 1461: avg train loss 73038.96, bar train loss 210.236, len train loss 4.291, col train loss 135.845\n"
     ]
    },
    {
     "name": "stderr",
     "output_type": "stream",
     "text": [
      "Epoch 1462: 4batch [00:00, 34.48batch/s, loss=7.32e+4]"
     ]
    },
    {
     "name": "stdout",
     "output_type": "stream",
     "text": [
      "epoch 1461: avg test  loss 73439.42, bar  test loss 90.652, len  test loss 1.843, col  test loss 58.873\n"
     ]
    },
    {
     "name": "stderr",
     "output_type": "stream",
     "text": [
      "Epoch 1462: 272batch [00:07, 37.18batch/s, loss=7.29e+4]\n"
     ]
    },
    {
     "name": "stdout",
     "output_type": "stream",
     "text": [
      "epoch 1462: avg train loss 73027.62, bar train loss 210.236, len train loss 4.289, col train loss 135.823\n"
     ]
    },
    {
     "name": "stderr",
     "output_type": "stream",
     "text": [
      "Epoch 1463: 4batch [00:00, 35.40batch/s, loss=7.44e+4]"
     ]
    },
    {
     "name": "stdout",
     "output_type": "stream",
     "text": [
      "epoch 1462: avg test  loss 73444.73, bar  test loss 90.573, len  test loss 1.834, col  test loss 58.763\n"
     ]
    },
    {
     "name": "stderr",
     "output_type": "stream",
     "text": [
      "Epoch 1463: 272batch [00:07, 37.41batch/s, loss=7.17e+4]\n"
     ]
    },
    {
     "name": "stdout",
     "output_type": "stream",
     "text": [
      "epoch 1463: avg train loss 73031.89, bar train loss 210.240, len train loss 4.290, col train loss 135.801\n"
     ]
    },
    {
     "name": "stderr",
     "output_type": "stream",
     "text": [
      "Epoch 1464: 4batch [00:00, 35.09batch/s, loss=72637.5]"
     ]
    },
    {
     "name": "stdout",
     "output_type": "stream",
     "text": [
      "epoch 1463: avg test  loss 73430.30, bar  test loss 90.431, len  test loss 1.840, col  test loss 58.755\n"
     ]
    },
    {
     "name": "stderr",
     "output_type": "stream",
     "text": [
      "Epoch 1464: 272batch [00:07, 37.20batch/s, loss=6.57e+4]\n"
     ]
    },
    {
     "name": "stdout",
     "output_type": "stream",
     "text": [
      "epoch 1464: avg train loss 73043.32, bar train loss 210.272, len train loss 4.291, col train loss 135.844\n"
     ]
    },
    {
     "name": "stderr",
     "output_type": "stream",
     "text": [
      "Epoch 1465: 4batch [00:00, 35.40batch/s, loss=7.52e+4]"
     ]
    },
    {
     "name": "stdout",
     "output_type": "stream",
     "text": [
      "epoch 1464: avg test  loss 73542.19, bar  test loss 90.790, len  test loss 1.844, col  test loss 58.964\n"
     ]
    },
    {
     "name": "stderr",
     "output_type": "stream",
     "text": [
      "Epoch 1465: 272batch [00:07, 37.24batch/s, loss=6.93e+4]\n"
     ]
    },
    {
     "name": "stdout",
     "output_type": "stream",
     "text": [
      "epoch 1465: avg train loss 73035.75, bar train loss 210.252, len train loss 4.288, col train loss 135.834\n",
      "epoch 1465: avg test  loss 73475.16, bar  test loss 90.478, len  test loss 1.840, col  test loss 58.726\n"
     ]
    },
    {
     "name": "stderr",
     "output_type": "stream",
     "text": [
      "Epoch 1466: 272batch [00:07, 37.02batch/s, loss=6.79e+4]\n"
     ]
    },
    {
     "name": "stdout",
     "output_type": "stream",
     "text": [
      "epoch 1466: avg train loss 73038.34, bar train loss 210.263, len train loss 4.290, col train loss 135.837\n"
     ]
    },
    {
     "name": "stderr",
     "output_type": "stream",
     "text": [
      "Epoch 1467: 4batch [00:00, 34.78batch/s, loss=7.36e+4]"
     ]
    },
    {
     "name": "stdout",
     "output_type": "stream",
     "text": [
      "epoch 1466: avg test  loss 73455.04, bar  test loss 90.476, len  test loss 1.853, col  test loss 58.643\n"
     ]
    },
    {
     "name": "stderr",
     "output_type": "stream",
     "text": [
      "Epoch 1467: 272batch [00:07, 37.06batch/s, loss=7.13e+4]\n"
     ]
    },
    {
     "name": "stdout",
     "output_type": "stream",
     "text": [
      "epoch 1467: avg train loss 73032.02, bar train loss 210.228, len train loss 4.292, col train loss 135.805\n"
     ]
    },
    {
     "name": "stderr",
     "output_type": "stream",
     "text": [
      "Epoch 1468: 4batch [00:00, 35.40batch/s, loss=7.09e+4]"
     ]
    },
    {
     "name": "stdout",
     "output_type": "stream",
     "text": [
      "epoch 1467: avg test  loss 73426.30, bar  test loss 90.441, len  test loss 1.841, col  test loss 58.617\n"
     ]
    },
    {
     "name": "stderr",
     "output_type": "stream",
     "text": [
      "Epoch 1468: 272batch [00:07, 37.17batch/s, loss=7.35e+4]\n"
     ]
    },
    {
     "name": "stdout",
     "output_type": "stream",
     "text": [
      "epoch 1468: avg train loss 73035.58, bar train loss 210.284, len train loss 4.290, col train loss 135.818\n"
     ]
    },
    {
     "name": "stderr",
     "output_type": "stream",
     "text": [
      "Epoch 1469: 4batch [00:00, 35.71batch/s, loss=7.11e+4]"
     ]
    },
    {
     "name": "stdout",
     "output_type": "stream",
     "text": [
      "epoch 1468: avg test  loss 73426.30, bar  test loss 90.613, len  test loss 1.839, col  test loss 58.757\n"
     ]
    },
    {
     "name": "stderr",
     "output_type": "stream",
     "text": [
      "Epoch 1469: 272batch [00:07, 37.01batch/s, loss=7.07e+4]\n"
     ]
    },
    {
     "name": "stdout",
     "output_type": "stream",
     "text": [
      "epoch 1469: avg train loss 73035.41, bar train loss 210.244, len train loss 4.288, col train loss 135.806\n"
     ]
    },
    {
     "name": "stderr",
     "output_type": "stream",
     "text": [
      "Epoch 1470: 4batch [00:00, 32.79batch/s, loss=7e+4]   "
     ]
    },
    {
     "name": "stdout",
     "output_type": "stream",
     "text": [
      "epoch 1469: avg test  loss 73474.60, bar  test loss 90.630, len  test loss 1.843, col  test loss 58.710\n"
     ]
    },
    {
     "name": "stderr",
     "output_type": "stream",
     "text": [
      "Epoch 1470: 272batch [00:07, 36.79batch/s, loss=7.64e+4]\n"
     ]
    },
    {
     "name": "stdout",
     "output_type": "stream",
     "text": [
      "epoch 1470: avg train loss 73031.13, bar train loss 210.241, len train loss 4.289, col train loss 135.828\n",
      "epoch 1470: avg test  loss 73457.34, bar  test loss 90.386, len  test loss 1.839, col  test loss 58.625\n"
     ]
    },
    {
     "name": "stderr",
     "output_type": "stream",
     "text": [
      "Epoch 1471: 272batch [00:07, 37.09batch/s, loss=7e+4]   \n"
     ]
    },
    {
     "name": "stdout",
     "output_type": "stream",
     "text": [
      "epoch 1471: avg train loss 73029.48, bar train loss 210.249, len train loss 4.287, col train loss 135.815\n"
     ]
    },
    {
     "name": "stderr",
     "output_type": "stream",
     "text": [
      "Epoch 1472: 4batch [00:00, 34.78batch/s, loss=7.53e+4]"
     ]
    },
    {
     "name": "stdout",
     "output_type": "stream",
     "text": [
      "epoch 1471: avg test  loss 73429.86, bar  test loss 90.520, len  test loss 1.838, col  test loss 58.634\n"
     ]
    },
    {
     "name": "stderr",
     "output_type": "stream",
     "text": [
      "Epoch 1472: 272batch [00:07, 36.84batch/s, loss=7.53e+4]\n"
     ]
    },
    {
     "name": "stdout",
     "output_type": "stream",
     "text": [
      "epoch 1472: avg train loss 73031.16, bar train loss 210.204, len train loss 4.287, col train loss 135.802\n"
     ]
    },
    {
     "name": "stderr",
     "output_type": "stream",
     "text": [
      "Epoch 1473: 4batch [00:00, 34.48batch/s, loss=7.32e+4]"
     ]
    },
    {
     "name": "stdout",
     "output_type": "stream",
     "text": [
      "epoch 1472: avg test  loss 73448.66, bar  test loss 90.536, len  test loss 1.842, col  test loss 58.590\n"
     ]
    },
    {
     "name": "stderr",
     "output_type": "stream",
     "text": [
      "Epoch 1473: 272batch [00:07, 36.86batch/s, loss=7.01e+4]\n"
     ]
    },
    {
     "name": "stdout",
     "output_type": "stream",
     "text": [
      "epoch 1473: avg train loss 73031.39, bar train loss 210.242, len train loss 4.289, col train loss 135.835\n"
     ]
    },
    {
     "name": "stderr",
     "output_type": "stream",
     "text": [
      "Epoch 1474: 4batch [00:00, 36.36batch/s, loss=7.47e+4]"
     ]
    },
    {
     "name": "stdout",
     "output_type": "stream",
     "text": [
      "epoch 1473: avg test  loss 73428.72, bar  test loss 90.467, len  test loss 1.840, col  test loss 58.623\n"
     ]
    },
    {
     "name": "stderr",
     "output_type": "stream",
     "text": [
      "Epoch 1474: 272batch [00:07, 36.96batch/s, loss=7.8e+4] \n"
     ]
    },
    {
     "name": "stdout",
     "output_type": "stream",
     "text": [
      "epoch 1474: avg train loss 73026.41, bar train loss 210.203, len train loss 4.288, col train loss 135.796\n"
     ]
    },
    {
     "name": "stderr",
     "output_type": "stream",
     "text": [
      "Epoch 1475: 4batch [00:00, 35.40batch/s, loss=7.87e+4]"
     ]
    },
    {
     "name": "stdout",
     "output_type": "stream",
     "text": [
      "epoch 1474: avg test  loss 73408.90, bar  test loss 90.495, len  test loss 1.838, col  test loss 58.731\n"
     ]
    },
    {
     "name": "stderr",
     "output_type": "stream",
     "text": [
      "Epoch 1475: 272batch [00:07, 36.71batch/s, loss=7.17e+4]\n"
     ]
    },
    {
     "name": "stdout",
     "output_type": "stream",
     "text": [
      "epoch 1475: avg train loss 73022.94, bar train loss 210.208, len train loss 4.288, col train loss 135.781\n",
      "epoch 1475: avg test  loss 73457.38, bar  test loss 90.641, len  test loss 1.839, col  test loss 58.735\n"
     ]
    },
    {
     "name": "stderr",
     "output_type": "stream",
     "text": [
      "Epoch 1476: 272batch [00:07, 36.97batch/s, loss=6.64e+4]\n"
     ]
    },
    {
     "name": "stdout",
     "output_type": "stream",
     "text": [
      "epoch 1476: avg train loss 73025.34, bar train loss 210.230, len train loss 4.286, col train loss 135.764\n"
     ]
    },
    {
     "name": "stderr",
     "output_type": "stream",
     "text": [
      "Epoch 1477: 4batch [00:00, 34.48batch/s, loss=7.33e+4]"
     ]
    },
    {
     "name": "stdout",
     "output_type": "stream",
     "text": [
      "epoch 1476: avg test  loss 73447.34, bar  test loss 90.460, len  test loss 1.837, col  test loss 58.677\n"
     ]
    },
    {
     "name": "stderr",
     "output_type": "stream",
     "text": [
      "Epoch 1477: 272batch [00:07, 36.82batch/s, loss=6.56e+4]\n"
     ]
    },
    {
     "name": "stdout",
     "output_type": "stream",
     "text": [
      "epoch 1477: avg train loss 73034.19, bar train loss 210.254, len train loss 4.289, col train loss 135.782\n"
     ]
    },
    {
     "name": "stderr",
     "output_type": "stream",
     "text": [
      "Epoch 1478: 4batch [00:00, 34.78batch/s, loss=7.33e+4]"
     ]
    },
    {
     "name": "stdout",
     "output_type": "stream",
     "text": [
      "epoch 1477: avg test  loss 73493.22, bar  test loss 90.607, len  test loss 1.836, col  test loss 58.811\n"
     ]
    },
    {
     "name": "stderr",
     "output_type": "stream",
     "text": [
      "Epoch 1478: 272batch [00:07, 36.45batch/s, loss=6.62e+4]\n"
     ]
    },
    {
     "name": "stdout",
     "output_type": "stream",
     "text": [
      "epoch 1478: avg train loss 73024.32, bar train loss 210.180, len train loss 4.287, col train loss 135.787\n"
     ]
    },
    {
     "name": "stderr",
     "output_type": "stream",
     "text": [
      "Epoch 1479: 4batch [00:00, 34.48batch/s, loss=7.44e+4]"
     ]
    },
    {
     "name": "stdout",
     "output_type": "stream",
     "text": [
      "epoch 1478: avg test  loss 73396.10, bar  test loss 90.459, len  test loss 1.840, col  test loss 58.714\n"
     ]
    },
    {
     "name": "stderr",
     "output_type": "stream",
     "text": [
      "Epoch 1479: 272batch [00:07, 36.64batch/s, loss=7.7e+4] \n"
     ]
    },
    {
     "name": "stdout",
     "output_type": "stream",
     "text": [
      "epoch 1479: avg train loss 73027.27, bar train loss 210.245, len train loss 4.288, col train loss 135.805\n"
     ]
    },
    {
     "name": "stderr",
     "output_type": "stream",
     "text": [
      "Epoch 1480: 4batch [00:00, 34.19batch/s, loss=7.41e+4]"
     ]
    },
    {
     "name": "stdout",
     "output_type": "stream",
     "text": [
      "epoch 1479: avg test  loss 73439.13, bar  test loss 90.654, len  test loss 1.841, col  test loss 58.740\n"
     ]
    },
    {
     "name": "stderr",
     "output_type": "stream",
     "text": [
      "Epoch 1480: 272batch [00:07, 36.16batch/s, loss=7.38e+4]\n"
     ]
    },
    {
     "name": "stdout",
     "output_type": "stream",
     "text": [
      "epoch 1480: avg train loss 73030.12, bar train loss 210.242, len train loss 4.286, col train loss 135.786\n",
      "epoch 1480: avg test  loss 73446.22, bar  test loss 90.494, len  test loss 1.832, col  test loss 58.691\n"
     ]
    },
    {
     "name": "stderr",
     "output_type": "stream",
     "text": [
      "Epoch 1481: 272batch [00:07, 36.63batch/s, loss=7.24e+4]\n"
     ]
    },
    {
     "name": "stdout",
     "output_type": "stream",
     "text": [
      "epoch 1481: avg train loss 73026.30, bar train loss 210.208, len train loss 4.287, col train loss 135.791\n"
     ]
    },
    {
     "name": "stderr",
     "output_type": "stream",
     "text": [
      "Epoch 1482: 4batch [00:00, 33.06batch/s, loss=7.15e+4]"
     ]
    },
    {
     "name": "stdout",
     "output_type": "stream",
     "text": [
      "epoch 1481: avg test  loss 73407.59, bar  test loss 90.504, len  test loss 1.839, col  test loss 58.722\n"
     ]
    },
    {
     "name": "stderr",
     "output_type": "stream",
     "text": [
      "Epoch 1482: 272batch [00:08, 33.59batch/s, loss=8.1e+4] \n"
     ]
    },
    {
     "name": "stdout",
     "output_type": "stream",
     "text": [
      "epoch 1482: avg train loss 73023.88, bar train loss 210.230, len train loss 4.285, col train loss 135.831\n"
     ]
    },
    {
     "name": "stderr",
     "output_type": "stream",
     "text": [
      "Epoch 1483: 4batch [00:00, 35.09batch/s, loss=7.2e+4] "
     ]
    },
    {
     "name": "stdout",
     "output_type": "stream",
     "text": [
      "epoch 1482: avg test  loss 73410.60, bar  test loss 90.565, len  test loss 1.840, col  test loss 58.724\n"
     ]
    },
    {
     "name": "stderr",
     "output_type": "stream",
     "text": [
      "Epoch 1483: 272batch [00:07, 37.31batch/s, loss=7.8e+4] \n"
     ]
    },
    {
     "name": "stdout",
     "output_type": "stream",
     "text": [
      "epoch 1483: avg train loss 73029.88, bar train loss 210.248, len train loss 4.286, col train loss 135.808\n"
     ]
    },
    {
     "name": "stderr",
     "output_type": "stream",
     "text": [
      "Epoch 1484: 4batch [00:00, 34.19batch/s, loss=7.58e+4]"
     ]
    },
    {
     "name": "stdout",
     "output_type": "stream",
     "text": [
      "epoch 1483: avg test  loss 73510.15, bar  test loss 90.619, len  test loss 1.836, col  test loss 58.815\n"
     ]
    },
    {
     "name": "stderr",
     "output_type": "stream",
     "text": [
      "Epoch 1484: 272batch [00:07, 37.32batch/s, loss=7.57e+4]\n"
     ]
    },
    {
     "name": "stdout",
     "output_type": "stream",
     "text": [
      "epoch 1484: avg train loss 73023.87, bar train loss 210.231, len train loss 4.284, col train loss 135.789\n"
     ]
    },
    {
     "name": "stderr",
     "output_type": "stream",
     "text": [
      "Epoch 1485: 4batch [00:00, 36.04batch/s, loss=7.23e+4]"
     ]
    },
    {
     "name": "stdout",
     "output_type": "stream",
     "text": [
      "epoch 1484: avg test  loss 73414.11, bar  test loss 90.484, len  test loss 1.842, col  test loss 58.674\n"
     ]
    },
    {
     "name": "stderr",
     "output_type": "stream",
     "text": [
      "Epoch 1485: 272batch [00:07, 37.13batch/s, loss=7.32e+4]\n"
     ]
    },
    {
     "name": "stdout",
     "output_type": "stream",
     "text": [
      "epoch 1485: avg train loss 73021.95, bar train loss 210.233, len train loss 4.287, col train loss 135.773\n",
      "epoch 1485: avg test  loss 73399.94, bar  test loss 90.521, len  test loss 1.836, col  test loss 58.632\n"
     ]
    },
    {
     "name": "stderr",
     "output_type": "stream",
     "text": [
      "Epoch 1486: 272batch [00:07, 37.16batch/s, loss=7.69e+4]\n"
     ]
    },
    {
     "name": "stdout",
     "output_type": "stream",
     "text": [
      "epoch 1486: avg train loss 73022.61, bar train loss 210.213, len train loss 4.285, col train loss 135.814\n"
     ]
    },
    {
     "name": "stderr",
     "output_type": "stream",
     "text": [
      "Epoch 1487: 4batch [00:00, 35.71batch/s, loss=6.99e+4]"
     ]
    },
    {
     "name": "stdout",
     "output_type": "stream",
     "text": [
      "epoch 1486: avg test  loss 73424.86, bar  test loss 90.451, len  test loss 1.838, col  test loss 58.733\n"
     ]
    },
    {
     "name": "stderr",
     "output_type": "stream",
     "text": [
      "Epoch 1487: 272batch [00:07, 37.20batch/s, loss=8.32e+4]\n"
     ]
    },
    {
     "name": "stdout",
     "output_type": "stream",
     "text": [
      "epoch 1487: avg train loss 73024.98, bar train loss 210.242, len train loss 4.283, col train loss 135.775\n"
     ]
    },
    {
     "name": "stderr",
     "output_type": "stream",
     "text": [
      "Epoch 1488: 4batch [00:00, 35.71batch/s, loss=7.11e+4]"
     ]
    },
    {
     "name": "stdout",
     "output_type": "stream",
     "text": [
      "epoch 1487: avg test  loss 73445.33, bar  test loss 90.595, len  test loss 1.836, col  test loss 58.803\n"
     ]
    },
    {
     "name": "stderr",
     "output_type": "stream",
     "text": [
      "Epoch 1488: 272batch [00:07, 37.00batch/s, loss=7.52e+4]\n"
     ]
    },
    {
     "name": "stdout",
     "output_type": "stream",
     "text": [
      "epoch 1488: avg train loss 73013.91, bar train loss 210.188, len train loss 4.285, col train loss 135.780\n"
     ]
    },
    {
     "name": "stderr",
     "output_type": "stream",
     "text": [
      "Epoch 1489: 4batch [00:00, 35.09batch/s, loss=7.61e+4]"
     ]
    },
    {
     "name": "stdout",
     "output_type": "stream",
     "text": [
      "epoch 1488: avg test  loss 73513.82, bar  test loss 90.580, len  test loss 1.847, col  test loss 58.734\n"
     ]
    },
    {
     "name": "stderr",
     "output_type": "stream",
     "text": [
      "Epoch 1489: 272batch [00:07, 36.74batch/s, loss=7.94e+4]\n"
     ]
    },
    {
     "name": "stdout",
     "output_type": "stream",
     "text": [
      "epoch 1489: avg train loss 73027.89, bar train loss 210.221, len train loss 4.283, col train loss 135.805\n"
     ]
    },
    {
     "name": "stderr",
     "output_type": "stream",
     "text": [
      "Epoch 1490: 4batch [00:00, 34.78batch/s, loss=7.33e+4]"
     ]
    },
    {
     "name": "stdout",
     "output_type": "stream",
     "text": [
      "epoch 1489: avg test  loss 73463.12, bar  test loss 90.616, len  test loss 1.837, col  test loss 58.774\n"
     ]
    },
    {
     "name": "stderr",
     "output_type": "stream",
     "text": [
      "Epoch 1490: 272batch [00:07, 36.05batch/s, loss=7.05e+4]\n"
     ]
    },
    {
     "name": "stdout",
     "output_type": "stream",
     "text": [
      "epoch 1490: avg train loss 73019.49, bar train loss 210.208, len train loss 4.282, col train loss 135.744\n",
      "epoch 1490: avg test  loss 73419.12, bar  test loss 90.505, len  test loss 1.833, col  test loss 58.652\n"
     ]
    },
    {
     "name": "stderr",
     "output_type": "stream",
     "text": [
      "Epoch 1491: 272batch [00:07, 36.34batch/s, loss=6.84e+4]\n"
     ]
    },
    {
     "name": "stdout",
     "output_type": "stream",
     "text": [
      "epoch 1491: avg train loss 73016.28, bar train loss 210.192, len train loss 4.283, col train loss 135.765\n"
     ]
    },
    {
     "name": "stderr",
     "output_type": "stream",
     "text": [
      "Epoch 1492: 4batch [00:00, 35.09batch/s, loss=7.15e+4]"
     ]
    },
    {
     "name": "stdout",
     "output_type": "stream",
     "text": [
      "epoch 1491: avg test  loss 73480.98, bar  test loss 90.532, len  test loss 1.835, col  test loss 58.732\n"
     ]
    },
    {
     "name": "stderr",
     "output_type": "stream",
     "text": [
      "Epoch 1492: 272batch [00:07, 36.59batch/s, loss=6.95e+4]\n"
     ]
    },
    {
     "name": "stdout",
     "output_type": "stream",
     "text": [
      "epoch 1492: avg train loss 73010.95, bar train loss 210.184, len train loss 4.283, col train loss 135.726\n"
     ]
    },
    {
     "name": "stderr",
     "output_type": "stream",
     "text": [
      "Epoch 1493: 4batch [00:00, 34.78batch/s, loss=7.46e+4]"
     ]
    },
    {
     "name": "stdout",
     "output_type": "stream",
     "text": [
      "epoch 1492: avg test  loss 73462.02, bar  test loss 90.525, len  test loss 1.833, col  test loss 58.730\n"
     ]
    },
    {
     "name": "stderr",
     "output_type": "stream",
     "text": [
      "Epoch 1493: 272batch [00:07, 36.25batch/s, loss=7.92e+4]\n"
     ]
    },
    {
     "name": "stdout",
     "output_type": "stream",
     "text": [
      "epoch 1493: avg train loss 73016.54, bar train loss 210.210, len train loss 4.283, col train loss 135.773\n"
     ]
    },
    {
     "name": "stderr",
     "output_type": "stream",
     "text": [
      "Epoch 1494: 4batch [00:00, 33.33batch/s, loss=7.49e+4]"
     ]
    },
    {
     "name": "stdout",
     "output_type": "stream",
     "text": [
      "epoch 1493: avg test  loss 73409.20, bar  test loss 90.401, len  test loss 1.838, col  test loss 58.562\n"
     ]
    },
    {
     "name": "stderr",
     "output_type": "stream",
     "text": [
      "Epoch 1494: 272batch [00:07, 36.42batch/s, loss=7.31e+4]\n"
     ]
    },
    {
     "name": "stdout",
     "output_type": "stream",
     "text": [
      "epoch 1494: avg train loss 73012.47, bar train loss 210.178, len train loss 4.283, col train loss 135.768\n"
     ]
    },
    {
     "name": "stderr",
     "output_type": "stream",
     "text": [
      "Epoch 1495: 4batch [00:00, 34.78batch/s, loss=7.43e+4]"
     ]
    },
    {
     "name": "stdout",
     "output_type": "stream",
     "text": [
      "epoch 1494: avg test  loss 73443.79, bar  test loss 90.491, len  test loss 1.836, col  test loss 58.725\n"
     ]
    },
    {
     "name": "stderr",
     "output_type": "stream",
     "text": [
      "Epoch 1495: 272batch [00:07, 36.39batch/s, loss=7.61e+4]\n"
     ]
    },
    {
     "name": "stdout",
     "output_type": "stream",
     "text": [
      "epoch 1495: avg train loss 73019.81, bar train loss 210.177, len train loss 4.282, col train loss 135.746\n",
      "epoch 1495: avg test  loss 73427.89, bar  test loss 90.359, len  test loss 1.833, col  test loss 58.572\n"
     ]
    },
    {
     "name": "stderr",
     "output_type": "stream",
     "text": [
      "Epoch 1496: 272batch [00:07, 36.54batch/s, loss=7.38e+4]\n"
     ]
    },
    {
     "name": "stdout",
     "output_type": "stream",
     "text": [
      "epoch 1496: avg train loss 73014.19, bar train loss 210.187, len train loss 4.282, col train loss 135.728\n"
     ]
    },
    {
     "name": "stderr",
     "output_type": "stream",
     "text": [
      "Epoch 1497: 4batch [00:00, 32.26batch/s, loss=7.28e+4]"
     ]
    },
    {
     "name": "stdout",
     "output_type": "stream",
     "text": [
      "epoch 1496: avg test  loss 73447.67, bar  test loss 90.641, len  test loss 1.835, col  test loss 58.889\n"
     ]
    },
    {
     "name": "stderr",
     "output_type": "stream",
     "text": [
      "Epoch 1497: 272batch [00:07, 36.37batch/s, loss=7.52e+4]\n"
     ]
    },
    {
     "name": "stdout",
     "output_type": "stream",
     "text": [
      "epoch 1497: avg train loss 73026.75, bar train loss 210.237, len train loss 4.282, col train loss 135.777\n"
     ]
    },
    {
     "name": "stderr",
     "output_type": "stream",
     "text": [
      "Epoch 1498: 4batch [00:00, 34.19batch/s, loss=7.5e+4] "
     ]
    },
    {
     "name": "stdout",
     "output_type": "stream",
     "text": [
      "epoch 1497: avg test  loss 73415.34, bar  test loss 90.623, len  test loss 1.839, col  test loss 58.797\n"
     ]
    },
    {
     "name": "stderr",
     "output_type": "stream",
     "text": [
      "Epoch 1498: 272batch [00:07, 36.44batch/s, loss=7.26e+4]\n"
     ]
    },
    {
     "name": "stdout",
     "output_type": "stream",
     "text": [
      "epoch 1498: avg train loss 73019.73, bar train loss 210.236, len train loss 4.283, col train loss 135.775\n"
     ]
    },
    {
     "name": "stderr",
     "output_type": "stream",
     "text": [
      "Epoch 1499: 4batch [00:00, 33.90batch/s, loss=6.82e+4]"
     ]
    },
    {
     "name": "stdout",
     "output_type": "stream",
     "text": [
      "epoch 1498: avg test  loss 73394.76, bar  test loss 90.607, len  test loss 1.842, col  test loss 58.842\n"
     ]
    },
    {
     "name": "stderr",
     "output_type": "stream",
     "text": [
      "Epoch 1499: 272batch [00:07, 36.28batch/s, loss=7.29e+4]\n"
     ]
    },
    {
     "name": "stdout",
     "output_type": "stream",
     "text": [
      "epoch 1499: avg train loss 73009.84, bar train loss 210.162, len train loss 4.282, col train loss 135.703\n"
     ]
    },
    {
     "name": "stderr",
     "output_type": "stream",
     "text": [
      "Epoch 1500: 4batch [00:00, 34.78batch/s, loss=7.42e+4]"
     ]
    },
    {
     "name": "stdout",
     "output_type": "stream",
     "text": [
      "epoch 1499: avg test  loss 73445.35, bar  test loss 90.466, len  test loss 1.834, col  test loss 58.719\n"
     ]
    },
    {
     "name": "stderr",
     "output_type": "stream",
     "text": [
      "Epoch 1500: 272batch [00:07, 36.18batch/s, loss=7.45e+4]\n"
     ]
    },
    {
     "name": "stdout",
     "output_type": "stream",
     "text": [
      "epoch 1500: avg train loss 73014.88, bar train loss 210.184, len train loss 4.283, col train loss 135.727\n",
      "epoch 1500: avg test  loss 73417.44, bar  test loss 90.531, len  test loss 1.838, col  test loss 58.652\n"
     ]
    },
    {
     "name": "stderr",
     "output_type": "stream",
     "text": [
      "D:\\Users\\Marko\\Anaconda3\\lib\\site-packages\\ipykernel_launcher.py:12: RuntimeWarning: More than 20 figures have been opened. Figures created through the pyplot interface (`matplotlib.pyplot.figure`) are retained until explicitly closed and may consume too much memory. (To control this warning, see the rcParam `figure.max_open_warning`).\n",
      "  if sys.path[0] == '':\n",
      "Epoch 1501: 272batch [00:07, 35.71batch/s, loss=7.29e+4]\n"
     ]
    },
    {
     "name": "stdout",
     "output_type": "stream",
     "text": [
      "epoch 1501: avg train loss 73020.48, bar train loss 210.192, len train loss 4.283, col train loss 135.763\n"
     ]
    },
    {
     "name": "stderr",
     "output_type": "stream",
     "text": [
      "Epoch 1502: 4batch [00:00, 34.48batch/s, loss=7.43e+4]"
     ]
    },
    {
     "name": "stdout",
     "output_type": "stream",
     "text": [
      "epoch 1501: avg test  loss 73438.38, bar  test loss 90.494, len  test loss 1.841, col  test loss 58.605\n"
     ]
    },
    {
     "name": "stderr",
     "output_type": "stream",
     "text": [
      "Epoch 1502: 272batch [00:07, 36.10batch/s, loss=7.3e+4] \n"
     ]
    },
    {
     "name": "stdout",
     "output_type": "stream",
     "text": [
      "epoch 1502: avg train loss 73012.27, bar train loss 210.208, len train loss 4.279, col train loss 135.725\n"
     ]
    },
    {
     "name": "stderr",
     "output_type": "stream",
     "text": [
      "Epoch 1503: 4batch [00:00, 34.78batch/s, loss=7.09e+4]"
     ]
    },
    {
     "name": "stdout",
     "output_type": "stream",
     "text": [
      "epoch 1502: avg test  loss 73439.52, bar  test loss 90.418, len  test loss 1.836, col  test loss 58.649\n"
     ]
    },
    {
     "name": "stderr",
     "output_type": "stream",
     "text": [
      "Epoch 1503: 272batch [00:07, 36.19batch/s, loss=6.97e+4]\n"
     ]
    },
    {
     "name": "stdout",
     "output_type": "stream",
     "text": [
      "epoch 1503: avg train loss 73006.03, bar train loss 210.173, len train loss 4.279, col train loss 135.719\n"
     ]
    },
    {
     "name": "stderr",
     "output_type": "stream",
     "text": [
      "Epoch 1504: 4batch [00:00, 34.78batch/s, loss=7.05e+4]"
     ]
    },
    {
     "name": "stdout",
     "output_type": "stream",
     "text": [
      "epoch 1503: avg test  loss 73434.56, bar  test loss 90.515, len  test loss 1.845, col  test loss 58.703\n"
     ]
    },
    {
     "name": "stderr",
     "output_type": "stream",
     "text": [
      "Epoch 1504: 272batch [00:07, 36.00batch/s, loss=6.89e+4]\n"
     ]
    },
    {
     "name": "stdout",
     "output_type": "stream",
     "text": [
      "epoch 1504: avg train loss 73011.52, bar train loss 210.186, len train loss 4.281, col train loss 135.765\n"
     ]
    },
    {
     "name": "stderr",
     "output_type": "stream",
     "text": [
      "Epoch 1505: 4batch [00:00, 34.78batch/s, loss=7.26e+4]"
     ]
    },
    {
     "name": "stdout",
     "output_type": "stream",
     "text": [
      "epoch 1504: avg test  loss 73395.92, bar  test loss 90.503, len  test loss 1.840, col  test loss 58.692\n"
     ]
    },
    {
     "name": "stderr",
     "output_type": "stream",
     "text": [
      "Epoch 1505: 272batch [00:07, 36.03batch/s, loss=6.6e+4] \n"
     ]
    },
    {
     "name": "stdout",
     "output_type": "stream",
     "text": [
      "epoch 1505: avg train loss 73014.45, bar train loss 210.174, len train loss 4.284, col train loss 135.758\n",
      "epoch 1505: avg test  loss 73414.95, bar  test loss 90.643, len  test loss 1.836, col  test loss 58.836\n"
     ]
    },
    {
     "name": "stderr",
     "output_type": "stream",
     "text": [
      "D:\\Users\\Marko\\Anaconda3\\lib\\site-packages\\ipykernel_launcher.py:11: RuntimeWarning: More than 20 figures have been opened. Figures created through the pyplot interface (`matplotlib.pyplot.figure`) are retained until explicitly closed and may consume too much memory. (To control this warning, see the rcParam `figure.max_open_warning`).\n",
      "  # This is added back by InteractiveShellApp.init_path()\n",
      "Epoch 1506: 272batch [00:07, 36.09batch/s, loss=6.7e+4] \n"
     ]
    },
    {
     "name": "stdout",
     "output_type": "stream",
     "text": [
      "epoch 1506: avg train loss 73010.95, bar train loss 210.146, len train loss 4.282, col train loss 135.755\n"
     ]
    },
    {
     "name": "stderr",
     "output_type": "stream",
     "text": [
      "Epoch 1507: 4batch [00:00, 34.78batch/s, loss=7.33e+4]"
     ]
    },
    {
     "name": "stdout",
     "output_type": "stream",
     "text": [
      "epoch 1506: avg test  loss 73398.68, bar  test loss 90.466, len  test loss 1.840, col  test loss 58.686\n"
     ]
    },
    {
     "name": "stderr",
     "output_type": "stream",
     "text": [
      "Epoch 1507: 272batch [00:07, 36.01batch/s, loss=6.94e+4]\n"
     ]
    },
    {
     "name": "stdout",
     "output_type": "stream",
     "text": [
      "epoch 1507: avg train loss 73016.23, bar train loss 210.169, len train loss 4.281, col train loss 135.734\n"
     ]
    },
    {
     "name": "stderr",
     "output_type": "stream",
     "text": [
      "Epoch 1508: 4batch [00:00, 34.19batch/s, loss=7.32e+4]"
     ]
    },
    {
     "name": "stdout",
     "output_type": "stream",
     "text": [
      "epoch 1507: avg test  loss 73429.74, bar  test loss 90.458, len  test loss 1.838, col  test loss 58.635\n"
     ]
    },
    {
     "name": "stderr",
     "output_type": "stream",
     "text": [
      "Epoch 1508: 272batch [00:07, 35.90batch/s, loss=6.97e+4]\n"
     ]
    },
    {
     "name": "stdout",
     "output_type": "stream",
     "text": [
      "epoch 1508: avg train loss 73018.89, bar train loss 210.188, len train loss 4.283, col train loss 135.762\n"
     ]
    },
    {
     "name": "stderr",
     "output_type": "stream",
     "text": [
      "Epoch 1509: 4batch [00:00, 33.61batch/s, loss=7.49e+4]"
     ]
    },
    {
     "name": "stdout",
     "output_type": "stream",
     "text": [
      "epoch 1508: avg test  loss 73445.78, bar  test loss 90.550, len  test loss 1.834, col  test loss 58.658\n"
     ]
    },
    {
     "name": "stderr",
     "output_type": "stream",
     "text": [
      "Epoch 1509: 272batch [00:07, 35.89batch/s, loss=7.44e+4]\n"
     ]
    },
    {
     "name": "stdout",
     "output_type": "stream",
     "text": [
      "epoch 1509: avg train loss 73019.64, bar train loss 210.206, len train loss 4.281, col train loss 135.735\n"
     ]
    },
    {
     "name": "stderr",
     "output_type": "stream",
     "text": [
      "Epoch 1510: 4batch [00:00, 34.19batch/s, loss=7.41e+4]"
     ]
    },
    {
     "name": "stdout",
     "output_type": "stream",
     "text": [
      "epoch 1509: avg test  loss 73427.70, bar  test loss 90.521, len  test loss 1.836, col  test loss 58.826\n"
     ]
    },
    {
     "name": "stderr",
     "output_type": "stream",
     "text": [
      "Epoch 1510: 272batch [00:07, 35.99batch/s, loss=7.12e+4]\n"
     ]
    },
    {
     "name": "stdout",
     "output_type": "stream",
     "text": [
      "epoch 1510: avg train loss 73005.23, bar train loss 210.162, len train loss 4.280, col train loss 135.700\n",
      "epoch 1510: avg test  loss 73362.43, bar  test loss 90.405, len  test loss 1.835, col  test loss 58.531\n"
     ]
    },
    {
     "name": "stderr",
     "output_type": "stream",
     "text": [
      "Epoch 1511: 272batch [00:07, 35.82batch/s, loss=6.84e+4]\n"
     ]
    },
    {
     "name": "stdout",
     "output_type": "stream",
     "text": [
      "epoch 1511: avg train loss 73010.31, bar train loss 210.163, len train loss 4.282, col train loss 135.705\n"
     ]
    },
    {
     "name": "stderr",
     "output_type": "stream",
     "text": [
      "Epoch 1512: 4batch [00:00, 32.26batch/s, loss=7.29e+4]"
     ]
    },
    {
     "name": "stdout",
     "output_type": "stream",
     "text": [
      "epoch 1511: avg test  loss 73402.68, bar  test loss 90.500, len  test loss 1.836, col  test loss 58.617\n"
     ]
    },
    {
     "name": "stderr",
     "output_type": "stream",
     "text": [
      "Epoch 1512: 272batch [00:07, 35.76batch/s, loss=6.77e+4]\n"
     ]
    },
    {
     "name": "stdout",
     "output_type": "stream",
     "text": [
      "epoch 1512: avg train loss 73004.50, bar train loss 210.124, len train loss 4.282, col train loss 135.706\n"
     ]
    },
    {
     "name": "stderr",
     "output_type": "stream",
     "text": [
      "Epoch 1513: 4batch [00:00, 33.61batch/s, loss=7.37e+4]"
     ]
    },
    {
     "name": "stdout",
     "output_type": "stream",
     "text": [
      "epoch 1512: avg test  loss 73413.26, bar  test loss 90.468, len  test loss 1.837, col  test loss 58.640\n"
     ]
    },
    {
     "name": "stderr",
     "output_type": "stream",
     "text": [
      "Epoch 1513: 272batch [00:07, 35.63batch/s, loss=6.83e+4]\n"
     ]
    },
    {
     "name": "stdout",
     "output_type": "stream",
     "text": [
      "epoch 1513: avg train loss 73004.33, bar train loss 210.149, len train loss 4.283, col train loss 135.718\n"
     ]
    },
    {
     "name": "stderr",
     "output_type": "stream",
     "text": [
      "Epoch 1514: 4batch [00:00, 34.19batch/s, loss=7.26e+4]"
     ]
    },
    {
     "name": "stdout",
     "output_type": "stream",
     "text": [
      "epoch 1513: avg test  loss 73421.43, bar  test loss 90.480, len  test loss 1.835, col  test loss 58.685\n"
     ]
    },
    {
     "name": "stderr",
     "output_type": "stream",
     "text": [
      "Epoch 1514: 272batch [00:07, 35.58batch/s, loss=7.21e+4]\n"
     ]
    },
    {
     "name": "stdout",
     "output_type": "stream",
     "text": [
      "epoch 1514: avg train loss 73007.84, bar train loss 210.172, len train loss 4.279, col train loss 135.721\n"
     ]
    },
    {
     "name": "stderr",
     "output_type": "stream",
     "text": [
      "Epoch 1515: 4batch [00:00, 33.90batch/s, loss=7.44e+4]"
     ]
    },
    {
     "name": "stdout",
     "output_type": "stream",
     "text": [
      "epoch 1514: avg test  loss 73447.42, bar  test loss 90.672, len  test loss 1.838, col  test loss 58.659\n"
     ]
    },
    {
     "name": "stderr",
     "output_type": "stream",
     "text": [
      "Epoch 1515: 272batch [00:07, 35.62batch/s, loss=6.98e+4]\n"
     ]
    },
    {
     "name": "stdout",
     "output_type": "stream",
     "text": [
      "epoch 1515: avg train loss 73014.22, bar train loss 210.158, len train loss 4.280, col train loss 135.753\n",
      "epoch 1515: avg test  loss 73419.94, bar  test loss 90.746, len  test loss 1.836, col  test loss 58.888\n"
     ]
    },
    {
     "name": "stderr",
     "output_type": "stream",
     "text": [
      "Epoch 1516: 272batch [00:07, 35.60batch/s, loss=7.22e+4]\n"
     ]
    },
    {
     "name": "stdout",
     "output_type": "stream",
     "text": [
      "epoch 1516: avg train loss 73010.86, bar train loss 210.179, len train loss 4.280, col train loss 135.716\n"
     ]
    },
    {
     "name": "stderr",
     "output_type": "stream",
     "text": [
      "Epoch 1517: 4batch [00:00, 33.33batch/s, loss=7.28e+4]"
     ]
    },
    {
     "name": "stdout",
     "output_type": "stream",
     "text": [
      "epoch 1516: avg test  loss 73438.76, bar  test loss 90.551, len  test loss 1.841, col  test loss 58.788\n"
     ]
    },
    {
     "name": "stderr",
     "output_type": "stream",
     "text": [
      "Epoch 1517: 272batch [00:07, 35.50batch/s, loss=7.04e+4]\n"
     ]
    },
    {
     "name": "stdout",
     "output_type": "stream",
     "text": [
      "epoch 1517: avg train loss 73003.95, bar train loss 210.142, len train loss 4.279, col train loss 135.722\n"
     ]
    },
    {
     "name": "stderr",
     "output_type": "stream",
     "text": [
      "Epoch 1518: 4batch [00:00, 33.61batch/s, loss=7.29e+4]"
     ]
    },
    {
     "name": "stdout",
     "output_type": "stream",
     "text": [
      "epoch 1517: avg test  loss 73380.13, bar  test loss 90.304, len  test loss 1.835, col  test loss 58.590\n"
     ]
    },
    {
     "name": "stderr",
     "output_type": "stream",
     "text": [
      "Epoch 1518: 272batch [00:07, 35.55batch/s, loss=7.38e+4]\n"
     ]
    },
    {
     "name": "stdout",
     "output_type": "stream",
     "text": [
      "epoch 1518: avg train loss 72995.66, bar train loss 210.136, len train loss 4.279, col train loss 135.669\n"
     ]
    },
    {
     "name": "stderr",
     "output_type": "stream",
     "text": [
      "Epoch 1519: 4batch [00:00, 33.61batch/s, loss=7.81e+4]"
     ]
    },
    {
     "name": "stdout",
     "output_type": "stream",
     "text": [
      "epoch 1518: avg test  loss 73437.59, bar  test loss 90.381, len  test loss 1.833, col  test loss 58.592\n"
     ]
    },
    {
     "name": "stderr",
     "output_type": "stream",
     "text": [
      "Epoch 1519: 272batch [00:07, 35.49batch/s, loss=7.23e+4]\n"
     ]
    },
    {
     "name": "stdout",
     "output_type": "stream",
     "text": [
      "epoch 1519: avg train loss 73010.42, bar train loss 210.162, len train loss 4.280, col train loss 135.714\n"
     ]
    },
    {
     "name": "stderr",
     "output_type": "stream",
     "text": [
      "Epoch 1520: 4batch [00:00, 33.06batch/s, loss=7.42e+4]"
     ]
    },
    {
     "name": "stdout",
     "output_type": "stream",
     "text": [
      "epoch 1519: avg test  loss 73395.99, bar  test loss 90.443, len  test loss 1.842, col  test loss 58.715\n"
     ]
    },
    {
     "name": "stderr",
     "output_type": "stream",
     "text": [
      "Epoch 1520: 272batch [00:07, 35.31batch/s, loss=6.9e+4] \n"
     ]
    },
    {
     "name": "stdout",
     "output_type": "stream",
     "text": [
      "epoch 1520: avg train loss 73005.16, bar train loss 210.146, len train loss 4.279, col train loss 135.699\n",
      "epoch 1520: avg test  loss 73412.93, bar  test loss 90.465, len  test loss 1.837, col  test loss 58.794\n"
     ]
    },
    {
     "name": "stderr",
     "output_type": "stream",
     "text": [
      "Epoch 1521: 272batch [00:07, 34.94batch/s, loss=7.55e+4]\n"
     ]
    },
    {
     "name": "stdout",
     "output_type": "stream",
     "text": [
      "epoch 1521: avg train loss 73002.96, bar train loss 210.130, len train loss 4.280, col train loss 135.737\n"
     ]
    },
    {
     "name": "stderr",
     "output_type": "stream",
     "text": [
      "Epoch 1522: 4batch [00:00, 30.53batch/s, loss=7.4e+4] "
     ]
    },
    {
     "name": "stdout",
     "output_type": "stream",
     "text": [
      "epoch 1521: avg test  loss 73383.81, bar  test loss 90.490, len  test loss 1.836, col  test loss 58.739\n"
     ]
    },
    {
     "name": "stderr",
     "output_type": "stream",
     "text": [
      "Epoch 1522: 272batch [00:07, 35.15batch/s, loss=7.34e+4]\n"
     ]
    },
    {
     "name": "stdout",
     "output_type": "stream",
     "text": [
      "epoch 1522: avg train loss 73005.86, bar train loss 210.120, len train loss 4.280, col train loss 135.709\n"
     ]
    },
    {
     "name": "stderr",
     "output_type": "stream",
     "text": [
      "Epoch 1523: 4batch [00:00, 33.61batch/s, loss=6.9e+4] "
     ]
    },
    {
     "name": "stdout",
     "output_type": "stream",
     "text": [
      "epoch 1522: avg test  loss 73388.01, bar  test loss 90.443, len  test loss 1.841, col  test loss 58.667\n"
     ]
    },
    {
     "name": "stderr",
     "output_type": "stream",
     "text": [
      "Epoch 1523: 272batch [00:07, 35.27batch/s, loss=6.9e+4] \n"
     ]
    },
    {
     "name": "stdout",
     "output_type": "stream",
     "text": [
      "epoch 1523: avg train loss 73007.12, bar train loss 210.153, len train loss 4.283, col train loss 135.728\n"
     ]
    },
    {
     "name": "stderr",
     "output_type": "stream",
     "text": [
      "Epoch 1524: 4batch [00:00, 34.48batch/s, loss=7.31e+4]"
     ]
    },
    {
     "name": "stdout",
     "output_type": "stream",
     "text": [
      "epoch 1523: avg test  loss 73383.03, bar  test loss 90.481, len  test loss 1.832, col  test loss 58.752\n"
     ]
    },
    {
     "name": "stderr",
     "output_type": "stream",
     "text": [
      "Epoch 1524: 272batch [00:07, 35.22batch/s, loss=7.49e+4]\n"
     ]
    },
    {
     "name": "stdout",
     "output_type": "stream",
     "text": [
      "epoch 1524: avg train loss 73006.67, bar train loss 210.142, len train loss 4.279, col train loss 135.711\n"
     ]
    },
    {
     "name": "stderr",
     "output_type": "stream",
     "text": [
      "Epoch 1525: 4batch [00:00, 33.61batch/s, loss=7.39e+4]"
     ]
    },
    {
     "name": "stdout",
     "output_type": "stream",
     "text": [
      "epoch 1524: avg test  loss 73403.50, bar  test loss 90.444, len  test loss 1.832, col  test loss 58.626\n"
     ]
    },
    {
     "name": "stderr",
     "output_type": "stream",
     "text": [
      "Epoch 1525: 272batch [00:07, 35.24batch/s, loss=7.9e+4] \n"
     ]
    },
    {
     "name": "stdout",
     "output_type": "stream",
     "text": [
      "epoch 1525: avg train loss 72999.92, bar train loss 210.114, len train loss 4.279, col train loss 135.702\n",
      "epoch 1525: avg test  loss 73394.48, bar  test loss 90.343, len  test loss 1.836, col  test loss 58.497\n"
     ]
    },
    {
     "name": "stderr",
     "output_type": "stream",
     "text": [
      "Epoch 1526: 272batch [00:07, 35.02batch/s, loss=6.97e+4]\n"
     ]
    },
    {
     "name": "stdout",
     "output_type": "stream",
     "text": [
      "epoch 1526: avg train loss 73002.16, bar train loss 210.125, len train loss 4.279, col train loss 135.701\n"
     ]
    },
    {
     "name": "stderr",
     "output_type": "stream",
     "text": [
      "Epoch 1527: 4batch [00:00, 33.90batch/s, loss=7.36e+4]"
     ]
    },
    {
     "name": "stdout",
     "output_type": "stream",
     "text": [
      "epoch 1526: avg test  loss 73390.12, bar  test loss 90.358, len  test loss 1.836, col  test loss 58.479\n"
     ]
    },
    {
     "name": "stderr",
     "output_type": "stream",
     "text": [
      "Epoch 1527: 272batch [00:07, 35.17batch/s, loss=8.19e+4]\n"
     ]
    },
    {
     "name": "stdout",
     "output_type": "stream",
     "text": [
      "epoch 1527: avg train loss 73002.55, bar train loss 210.126, len train loss 4.278, col train loss 135.698\n"
     ]
    },
    {
     "name": "stderr",
     "output_type": "stream",
     "text": [
      "Epoch 1528: 4batch [00:00, 32.00batch/s, loss=7.07e+4]"
     ]
    },
    {
     "name": "stdout",
     "output_type": "stream",
     "text": [
      "epoch 1527: avg test  loss 73434.47, bar  test loss 90.499, len  test loss 1.833, col  test loss 58.641\n"
     ]
    },
    {
     "name": "stderr",
     "output_type": "stream",
     "text": [
      "Epoch 1528: 272batch [00:07, 34.86batch/s, loss=7.17e+4]\n"
     ]
    },
    {
     "name": "stdout",
     "output_type": "stream",
     "text": [
      "epoch 1528: avg train loss 73000.62, bar train loss 210.131, len train loss 4.277, col train loss 135.700\n"
     ]
    },
    {
     "name": "stderr",
     "output_type": "stream",
     "text": [
      "Epoch 1529: 4batch [00:00, 33.33batch/s, loss=7.53e+4]"
     ]
    },
    {
     "name": "stdout",
     "output_type": "stream",
     "text": [
      "epoch 1528: avg test  loss 73429.02, bar  test loss 90.430, len  test loss 1.839, col  test loss 58.583\n"
     ]
    },
    {
     "name": "stderr",
     "output_type": "stream",
     "text": [
      "Epoch 1529: 272batch [00:07, 35.01batch/s, loss=6.8e+4] \n"
     ]
    },
    {
     "name": "stdout",
     "output_type": "stream",
     "text": [
      "epoch 1529: avg train loss 73001.09, bar train loss 210.106, len train loss 4.278, col train loss 135.695\n"
     ]
    },
    {
     "name": "stderr",
     "output_type": "stream",
     "text": [
      "Epoch 1530: 4batch [00:00, 33.33batch/s, loss=7.44e+4]"
     ]
    },
    {
     "name": "stdout",
     "output_type": "stream",
     "text": [
      "epoch 1529: avg test  loss 73425.50, bar  test loss 90.499, len  test loss 1.833, col  test loss 58.641\n"
     ]
    },
    {
     "name": "stderr",
     "output_type": "stream",
     "text": [
      "Epoch 1530: 272batch [00:07, 34.90batch/s, loss=7.24e+4]\n"
     ]
    },
    {
     "name": "stdout",
     "output_type": "stream",
     "text": [
      "epoch 1530: avg train loss 73006.87, bar train loss 210.114, len train loss 4.280, col train loss 135.702\n",
      "epoch 1530: avg test  loss 73391.36, bar  test loss 90.537, len  test loss 1.833, col  test loss 58.655\n"
     ]
    },
    {
     "name": "stderr",
     "output_type": "stream",
     "text": [
      "Epoch 1531: 272batch [00:07, 34.67batch/s, loss=6.57e+4]\n"
     ]
    },
    {
     "name": "stdout",
     "output_type": "stream",
     "text": [
      "epoch 1531: avg train loss 73003.77, bar train loss 210.135, len train loss 4.278, col train loss 135.659\n"
     ]
    },
    {
     "name": "stderr",
     "output_type": "stream",
     "text": [
      "Epoch 1532: 4batch [00:00, 32.26batch/s, loss=7.62e+4]"
     ]
    },
    {
     "name": "stdout",
     "output_type": "stream",
     "text": [
      "epoch 1531: avg test  loss 73404.21, bar  test loss 90.446, len  test loss 1.837, col  test loss 58.597\n"
     ]
    },
    {
     "name": "stderr",
     "output_type": "stream",
     "text": [
      "Epoch 1532: 272batch [00:07, 34.83batch/s, loss=80380.0]\n"
     ]
    },
    {
     "name": "stdout",
     "output_type": "stream",
     "text": [
      "epoch 1532: avg train loss 72998.14, bar train loss 210.112, len train loss 4.278, col train loss 135.674\n"
     ]
    },
    {
     "name": "stderr",
     "output_type": "stream",
     "text": [
      "Epoch 1533: 4batch [00:00, 33.33batch/s, loss=76327.0]"
     ]
    },
    {
     "name": "stdout",
     "output_type": "stream",
     "text": [
      "epoch 1532: avg test  loss 73427.29, bar  test loss 90.604, len  test loss 1.834, col  test loss 58.719\n"
     ]
    },
    {
     "name": "stderr",
     "output_type": "stream",
     "text": [
      "Epoch 1533: 272batch [00:07, 34.96batch/s, loss=6.99e+4]\n"
     ]
    },
    {
     "name": "stdout",
     "output_type": "stream",
     "text": [
      "epoch 1533: avg train loss 72998.59, bar train loss 210.125, len train loss 4.281, col train loss 135.731\n"
     ]
    },
    {
     "name": "stderr",
     "output_type": "stream",
     "text": [
      "Epoch 1534: 4batch [00:00, 32.26batch/s, loss=7.15e+4]"
     ]
    },
    {
     "name": "stdout",
     "output_type": "stream",
     "text": [
      "epoch 1533: avg test  loss 73395.29, bar  test loss 90.670, len  test loss 1.831, col  test loss 58.834\n"
     ]
    },
    {
     "name": "stderr",
     "output_type": "stream",
     "text": [
      "Epoch 1534: 272batch [00:07, 34.69batch/s, loss=7.33e+4]\n"
     ]
    },
    {
     "name": "stdout",
     "output_type": "stream",
     "text": [
      "epoch 1534: avg train loss 73007.17, bar train loss 210.144, len train loss 4.278, col train loss 135.716\n"
     ]
    },
    {
     "name": "stderr",
     "output_type": "stream",
     "text": [
      "Epoch 1535: 4batch [00:00, 32.26batch/s, loss=6.87e+4]"
     ]
    },
    {
     "name": "stdout",
     "output_type": "stream",
     "text": [
      "epoch 1534: avg test  loss 73413.25, bar  test loss 90.451, len  test loss 1.834, col  test loss 58.724\n"
     ]
    },
    {
     "name": "stderr",
     "output_type": "stream",
     "text": [
      "Epoch 1535: 272batch [00:07, 34.83batch/s, loss=6.67e+4]\n"
     ]
    },
    {
     "name": "stdout",
     "output_type": "stream",
     "text": [
      "epoch 1535: avg train loss 73003.49, bar train loss 210.146, len train loss 4.277, col train loss 135.737\n",
      "epoch 1535: avg test  loss 73396.58, bar  test loss 90.496, len  test loss 1.832, col  test loss 58.715\n"
     ]
    },
    {
     "name": "stderr",
     "output_type": "stream",
     "text": [
      "Epoch 1536: 272batch [00:07, 34.88batch/s, loss=7.5e+4] \n"
     ]
    },
    {
     "name": "stdout",
     "output_type": "stream",
     "text": [
      "epoch 1536: avg train loss 72996.52, bar train loss 210.166, len train loss 4.276, col train loss 135.693\n"
     ]
    },
    {
     "name": "stderr",
     "output_type": "stream",
     "text": [
      "Epoch 1537: 4batch [00:00, 32.52batch/s, loss=7.07e+4]"
     ]
    },
    {
     "name": "stdout",
     "output_type": "stream",
     "text": [
      "epoch 1536: avg test  loss 73427.92, bar  test loss 90.475, len  test loss 1.832, col  test loss 58.589\n"
     ]
    },
    {
     "name": "stderr",
     "output_type": "stream",
     "text": [
      "Epoch 1537: 272batch [00:07, 34.80batch/s, loss=72916.0]\n"
     ]
    },
    {
     "name": "stdout",
     "output_type": "stream",
     "text": [
      "epoch 1537: avg train loss 72999.44, bar train loss 210.106, len train loss 4.275, col train loss 135.678\n"
     ]
    },
    {
     "name": "stderr",
     "output_type": "stream",
     "text": [
      "Epoch 1538: 4batch [00:00, 33.06batch/s, loss=7.34e+4]"
     ]
    },
    {
     "name": "stdout",
     "output_type": "stream",
     "text": [
      "epoch 1537: avg test  loss 73416.52, bar  test loss 90.531, len  test loss 1.836, col  test loss 58.747\n"
     ]
    },
    {
     "name": "stderr",
     "output_type": "stream",
     "text": [
      "Epoch 1538: 272batch [00:07, 34.69batch/s, loss=7.43e+4]\n"
     ]
    },
    {
     "name": "stdout",
     "output_type": "stream",
     "text": [
      "epoch 1538: avg train loss 72994.70, bar train loss 210.090, len train loss 4.278, col train loss 135.649\n"
     ]
    },
    {
     "name": "stderr",
     "output_type": "stream",
     "text": [
      "Epoch 1539: 4batch [00:00, 31.25batch/s, loss=6.89e+4]"
     ]
    },
    {
     "name": "stdout",
     "output_type": "stream",
     "text": [
      "epoch 1538: avg test  loss 73384.27, bar  test loss 90.451, len  test loss 1.839, col  test loss 58.660\n"
     ]
    },
    {
     "name": "stderr",
     "output_type": "stream",
     "text": [
      "Epoch 1539: 272batch [00:07, 34.58batch/s, loss=7.84e+4]\n"
     ]
    },
    {
     "name": "stdout",
     "output_type": "stream",
     "text": [
      "epoch 1539: avg train loss 72992.96, bar train loss 210.144, len train loss 4.278, col train loss 135.674\n"
     ]
    },
    {
     "name": "stderr",
     "output_type": "stream",
     "text": [
      "Epoch 1540: 4batch [00:00, 33.61batch/s, loss=7.45e+4]"
     ]
    },
    {
     "name": "stdout",
     "output_type": "stream",
     "text": [
      "epoch 1539: avg test  loss 73420.05, bar  test loss 90.638, len  test loss 1.837, col  test loss 58.704\n"
     ]
    },
    {
     "name": "stderr",
     "output_type": "stream",
     "text": [
      "Epoch 1540: 272batch [00:07, 34.51batch/s, loss=7.17e+4]\n"
     ]
    },
    {
     "name": "stdout",
     "output_type": "stream",
     "text": [
      "epoch 1540: avg train loss 72998.88, bar train loss 210.134, len train loss 4.279, col train loss 135.691\n",
      "epoch 1540: avg test  loss 73393.77, bar  test loss 90.513, len  test loss 1.838, col  test loss 58.733\n"
     ]
    },
    {
     "name": "stderr",
     "output_type": "stream",
     "text": [
      "Epoch 1541: 272batch [00:07, 34.64batch/s, loss=6.98e+4]\n"
     ]
    },
    {
     "name": "stdout",
     "output_type": "stream",
     "text": [
      "epoch 1541: avg train loss 72998.92, bar train loss 210.093, len train loss 4.280, col train loss 135.668\n"
     ]
    },
    {
     "name": "stderr",
     "output_type": "stream",
     "text": [
      "Epoch 1542: 4batch [00:00, 32.52batch/s, loss=7.45e+4]"
     ]
    },
    {
     "name": "stdout",
     "output_type": "stream",
     "text": [
      "epoch 1541: avg test  loss 73434.03, bar  test loss 90.347, len  test loss 1.833, col  test loss 58.620\n"
     ]
    },
    {
     "name": "stderr",
     "output_type": "stream",
     "text": [
      "Epoch 1542: 272batch [00:07, 34.33batch/s, loss=7.85e+4]\n"
     ]
    },
    {
     "name": "stdout",
     "output_type": "stream",
     "text": [
      "epoch 1542: avg train loss 72998.76, bar train loss 210.148, len train loss 4.277, col train loss 135.672\n"
     ]
    },
    {
     "name": "stderr",
     "output_type": "stream",
     "text": [
      "Epoch 1543: 3batch [00:00, 29.13batch/s, loss=7.18e+4]"
     ]
    },
    {
     "name": "stdout",
     "output_type": "stream",
     "text": [
      "epoch 1542: avg test  loss 73457.70, bar  test loss 90.497, len  test loss 1.833, col  test loss 58.585\n"
     ]
    },
    {
     "name": "stderr",
     "output_type": "stream",
     "text": [
      "Epoch 1543: 272batch [00:07, 34.33batch/s, loss=7.25e+4]\n"
     ]
    },
    {
     "name": "stdout",
     "output_type": "stream",
     "text": [
      "epoch 1543: avg train loss 72997.34, bar train loss 210.180, len train loss 4.279, col train loss 135.656\n"
     ]
    },
    {
     "name": "stderr",
     "output_type": "stream",
     "text": [
      "Epoch 1544: 4batch [00:00, 31.75batch/s, loss=7.56e+4]"
     ]
    },
    {
     "name": "stdout",
     "output_type": "stream",
     "text": [
      "epoch 1543: avg test  loss 73419.00, bar  test loss 90.622, len  test loss 1.834, col  test loss 58.716\n"
     ]
    },
    {
     "name": "stderr",
     "output_type": "stream",
     "text": [
      "Epoch 1544: 272batch [00:07, 34.32batch/s, loss=6.92e+4]\n"
     ]
    },
    {
     "name": "stdout",
     "output_type": "stream",
     "text": [
      "epoch 1544: avg train loss 72996.19, bar train loss 210.135, len train loss 4.275, col train loss 135.682\n"
     ]
    },
    {
     "name": "stderr",
     "output_type": "stream",
     "text": [
      "Epoch 1545: 4batch [00:00, 32.00batch/s, loss=75767.5]"
     ]
    },
    {
     "name": "stdout",
     "output_type": "stream",
     "text": [
      "epoch 1544: avg test  loss 73385.35, bar  test loss 90.591, len  test loss 1.836, col  test loss 58.770\n"
     ]
    },
    {
     "name": "stderr",
     "output_type": "stream",
     "text": [
      "Epoch 1545: 272batch [00:07, 34.25batch/s, loss=7e+4]   \n"
     ]
    },
    {
     "name": "stdout",
     "output_type": "stream",
     "text": [
      "epoch 1545: avg train loss 73001.41, bar train loss 210.175, len train loss 4.276, col train loss 135.722\n",
      "epoch 1545: avg test  loss 73398.01, bar  test loss 90.449, len  test loss 1.834, col  test loss 58.522\n"
     ]
    },
    {
     "name": "stderr",
     "output_type": "stream",
     "text": [
      "Epoch 1546: 272batch [00:07, 34.19batch/s, loss=6.97e+4]\n"
     ]
    },
    {
     "name": "stdout",
     "output_type": "stream",
     "text": [
      "epoch 1546: avg train loss 72992.16, bar train loss 210.085, len train loss 4.277, col train loss 135.661\n"
     ]
    },
    {
     "name": "stderr",
     "output_type": "stream",
     "text": [
      "Epoch 1547: 4batch [00:00, 31.50batch/s, loss=7.39e+4]"
     ]
    },
    {
     "name": "stdout",
     "output_type": "stream",
     "text": [
      "epoch 1546: avg test  loss 73397.25, bar  test loss 90.466, len  test loss 1.836, col  test loss 58.686\n"
     ]
    },
    {
     "name": "stderr",
     "output_type": "stream",
     "text": [
      "Epoch 1547: 272batch [00:07, 34.23batch/s, loss=6.74e+4]\n"
     ]
    },
    {
     "name": "stdout",
     "output_type": "stream",
     "text": [
      "epoch 1547: avg train loss 72992.33, bar train loss 210.109, len train loss 4.278, col train loss 135.679\n"
     ]
    },
    {
     "name": "stderr",
     "output_type": "stream",
     "text": [
      "Epoch 1548: 4batch [00:00, 32.00batch/s, loss=7.13e+4]"
     ]
    },
    {
     "name": "stdout",
     "output_type": "stream",
     "text": [
      "epoch 1547: avg test  loss 73371.21, bar  test loss 90.316, len  test loss 1.836, col  test loss 58.555\n"
     ]
    },
    {
     "name": "stderr",
     "output_type": "stream",
     "text": [
      "Epoch 1548: 272batch [00:07, 34.27batch/s, loss=8.04e+4]\n"
     ]
    },
    {
     "name": "stdout",
     "output_type": "stream",
     "text": [
      "epoch 1548: avg train loss 72998.22, bar train loss 210.100, len train loss 4.275, col train loss 135.672\n"
     ]
    },
    {
     "name": "stderr",
     "output_type": "stream",
     "text": [
      "Epoch 1549: 4batch [00:00, 33.61batch/s, loss=7.21e+4]"
     ]
    },
    {
     "name": "stdout",
     "output_type": "stream",
     "text": [
      "epoch 1548: avg test  loss 73391.30, bar  test loss 90.668, len  test loss 1.840, col  test loss 58.767\n"
     ]
    },
    {
     "name": "stderr",
     "output_type": "stream",
     "text": [
      "Epoch 1549: 272batch [00:07, 34.24batch/s, loss=7.06e+4]\n"
     ]
    },
    {
     "name": "stdout",
     "output_type": "stream",
     "text": [
      "epoch 1549: avg train loss 72989.23, bar train loss 210.071, len train loss 4.275, col train loss 135.663\n"
     ]
    },
    {
     "name": "stderr",
     "output_type": "stream",
     "text": [
      "Epoch 1550: 4batch [00:00, 33.33batch/s, loss=7.77e+4]"
     ]
    },
    {
     "name": "stdout",
     "output_type": "stream",
     "text": [
      "epoch 1549: avg test  loss 73395.17, bar  test loss 90.448, len  test loss 1.832, col  test loss 58.587\n"
     ]
    },
    {
     "name": "stderr",
     "output_type": "stream",
     "text": [
      "Epoch 1550: 272batch [00:07, 34.25batch/s, loss=6.71e+4]\n"
     ]
    },
    {
     "name": "stdout",
     "output_type": "stream",
     "text": [
      "epoch 1550: avg train loss 72990.55, bar train loss 210.099, len train loss 4.277, col train loss 135.677\n",
      "epoch 1550: avg test  loss 73416.48, bar  test loss 90.484, len  test loss 1.834, col  test loss 58.667\n"
     ]
    },
    {
     "name": "stderr",
     "output_type": "stream",
     "text": [
      "Epoch 1551: 272batch [00:08, 33.88batch/s, loss=6.99e+4]\n"
     ]
    },
    {
     "name": "stdout",
     "output_type": "stream",
     "text": [
      "epoch 1551: avg train loss 72996.16, bar train loss 210.104, len train loss 4.275, col train loss 135.666\n"
     ]
    },
    {
     "name": "stderr",
     "output_type": "stream",
     "text": [
      "Epoch 1552: 4batch [00:00, 32.79batch/s, loss=7.01e+4]"
     ]
    },
    {
     "name": "stdout",
     "output_type": "stream",
     "text": [
      "epoch 1551: avg test  loss 73394.99, bar  test loss 90.232, len  test loss 1.830, col  test loss 58.479\n"
     ]
    },
    {
     "name": "stderr",
     "output_type": "stream",
     "text": [
      "Epoch 1552: 272batch [00:07, 34.22batch/s, loss=7.22e+4]\n"
     ]
    },
    {
     "name": "stdout",
     "output_type": "stream",
     "text": [
      "epoch 1552: avg train loss 72991.65, bar train loss 210.090, len train loss 4.278, col train loss 135.669\n"
     ]
    },
    {
     "name": "stderr",
     "output_type": "stream",
     "text": [
      "Epoch 1553: 4batch [00:00, 32.26batch/s, loss=6.95e+4]"
     ]
    },
    {
     "name": "stdout",
     "output_type": "stream",
     "text": [
      "epoch 1552: avg test  loss 73400.67, bar  test loss 90.568, len  test loss 1.833, col  test loss 58.685\n"
     ]
    },
    {
     "name": "stderr",
     "output_type": "stream",
     "text": [
      "Epoch 1553: 272batch [00:07, 34.52batch/s, loss=6.63e+4]\n"
     ]
    },
    {
     "name": "stdout",
     "output_type": "stream",
     "text": [
      "epoch 1553: avg train loss 72995.20, bar train loss 210.129, len train loss 4.280, col train loss 135.670\n"
     ]
    },
    {
     "name": "stderr",
     "output_type": "stream",
     "text": [
      "Epoch 1554: 4batch [00:00, 31.25batch/s, loss=6.98e+4]"
     ]
    },
    {
     "name": "stdout",
     "output_type": "stream",
     "text": [
      "epoch 1553: avg test  loss 73405.12, bar  test loss 90.417, len  test loss 1.837, col  test loss 58.701\n"
     ]
    },
    {
     "name": "stderr",
     "output_type": "stream",
     "text": [
      "Epoch 1554: 272batch [00:07, 34.22batch/s, loss=7.39e+4]\n"
     ]
    },
    {
     "name": "stdout",
     "output_type": "stream",
     "text": [
      "epoch 1554: avg train loss 72999.16, bar train loss 210.118, len train loss 4.275, col train loss 135.667\n"
     ]
    },
    {
     "name": "stderr",
     "output_type": "stream",
     "text": [
      "Epoch 1555: 4batch [00:00, 32.79batch/s, loss=7e+4]   "
     ]
    },
    {
     "name": "stdout",
     "output_type": "stream",
     "text": [
      "epoch 1554: avg test  loss 73390.62, bar  test loss 90.360, len  test loss 1.833, col  test loss 58.661\n"
     ]
    },
    {
     "name": "stderr",
     "output_type": "stream",
     "text": [
      "Epoch 1555: 272batch [00:07, 34.15batch/s, loss=7.26e+4]\n"
     ]
    },
    {
     "name": "stdout",
     "output_type": "stream",
     "text": [
      "epoch 1555: avg train loss 72987.74, bar train loss 210.100, len train loss 4.275, col train loss 135.629\n",
      "epoch 1555: avg test  loss 73362.34, bar  test loss 90.505, len  test loss 1.837, col  test loss 58.741\n"
     ]
    },
    {
     "name": "stderr",
     "output_type": "stream",
     "text": [
      "Epoch 1556: 272batch [00:07, 34.12batch/s, loss=7.08e+4]\n"
     ]
    },
    {
     "name": "stdout",
     "output_type": "stream",
     "text": [
      "epoch 1556: avg train loss 72991.36, bar train loss 210.118, len train loss 4.275, col train loss 135.655\n"
     ]
    },
    {
     "name": "stderr",
     "output_type": "stream",
     "text": [
      "Epoch 1557: 4batch [00:00, 32.52batch/s, loss=6.96e+4]"
     ]
    },
    {
     "name": "stdout",
     "output_type": "stream",
     "text": [
      "epoch 1556: avg test  loss 73395.46, bar  test loss 90.355, len  test loss 1.838, col  test loss 58.539\n"
     ]
    },
    {
     "name": "stderr",
     "output_type": "stream",
     "text": [
      "Epoch 1557: 272batch [00:08, 33.86batch/s, loss=7.82e+4]\n"
     ]
    },
    {
     "name": "stdout",
     "output_type": "stream",
     "text": [
      "epoch 1557: avg train loss 72987.98, bar train loss 210.110, len train loss 4.275, col train loss 135.665\n"
     ]
    },
    {
     "name": "stderr",
     "output_type": "stream",
     "text": [
      "Epoch 1558: 4batch [00:00, 32.79batch/s, loss=7.28e+4]"
     ]
    },
    {
     "name": "stdout",
     "output_type": "stream",
     "text": [
      "epoch 1557: avg test  loss 73424.63, bar  test loss 90.545, len  test loss 1.834, col  test loss 58.595\n"
     ]
    },
    {
     "name": "stderr",
     "output_type": "stream",
     "text": [
      "Epoch 1558: 272batch [00:08, 33.94batch/s, loss=7.31e+4]\n"
     ]
    },
    {
     "name": "stdout",
     "output_type": "stream",
     "text": [
      "epoch 1558: avg train loss 72992.80, bar train loss 210.095, len train loss 4.275, col train loss 135.667\n"
     ]
    },
    {
     "name": "stderr",
     "output_type": "stream",
     "text": [
      "Epoch 1559: 4batch [00:00, 32.79batch/s, loss=7.65e+4]"
     ]
    },
    {
     "name": "stdout",
     "output_type": "stream",
     "text": [
      "epoch 1558: avg test  loss 73376.55, bar  test loss 90.474, len  test loss 1.832, col  test loss 58.633\n"
     ]
    },
    {
     "name": "stderr",
     "output_type": "stream",
     "text": [
      "Epoch 1559: 272batch [00:08, 33.99batch/s, loss=7.83e+4]\n"
     ]
    },
    {
     "name": "stdout",
     "output_type": "stream",
     "text": [
      "epoch 1559: avg train loss 72993.09, bar train loss 210.097, len train loss 4.276, col train loss 135.660\n"
     ]
    },
    {
     "name": "stderr",
     "output_type": "stream",
     "text": [
      "Epoch 1560: 4batch [00:00, 31.75batch/s, loss=7.31e+4]"
     ]
    },
    {
     "name": "stdout",
     "output_type": "stream",
     "text": [
      "epoch 1559: avg test  loss 73418.50, bar  test loss 90.476, len  test loss 1.834, col  test loss 58.737\n"
     ]
    },
    {
     "name": "stderr",
     "output_type": "stream",
     "text": [
      "Epoch 1560: 272batch [00:08, 33.84batch/s, loss=6.65e+4]\n"
     ]
    },
    {
     "name": "stdout",
     "output_type": "stream",
     "text": [
      "epoch 1560: avg train loss 72988.90, bar train loss 210.085, len train loss 4.277, col train loss 135.639\n",
      "epoch 1560: avg test  loss 73406.44, bar  test loss 90.510, len  test loss 1.838, col  test loss 58.594\n"
     ]
    },
    {
     "name": "stderr",
     "output_type": "stream",
     "text": [
      "Epoch 1561: 272batch [00:08, 33.94batch/s, loss=6.64e+4]\n"
     ]
    },
    {
     "name": "stdout",
     "output_type": "stream",
     "text": [
      "epoch 1561: avg train loss 72991.38, bar train loss 210.101, len train loss 4.274, col train loss 135.658\n"
     ]
    },
    {
     "name": "stderr",
     "output_type": "stream",
     "text": [
      "Epoch 1562: 4batch [00:00, 31.50batch/s, loss=7.32e+4]"
     ]
    },
    {
     "name": "stdout",
     "output_type": "stream",
     "text": [
      "epoch 1561: avg test  loss 73380.45, bar  test loss 90.431, len  test loss 1.827, col  test loss 58.587\n"
     ]
    },
    {
     "name": "stderr",
     "output_type": "stream",
     "text": [
      "Epoch 1562: 272batch [00:08, 33.88batch/s, loss=7.72e+4]\n"
     ]
    },
    {
     "name": "stdout",
     "output_type": "stream",
     "text": [
      "epoch 1562: avg train loss 72991.41, bar train loss 210.120, len train loss 4.273, col train loss 135.658\n"
     ]
    },
    {
     "name": "stderr",
     "output_type": "stream",
     "text": [
      "Epoch 1563: 4batch [00:00, 32.79batch/s, loss=7.58e+4]"
     ]
    },
    {
     "name": "stdout",
     "output_type": "stream",
     "text": [
      "epoch 1562: avg test  loss 73381.75, bar  test loss 90.418, len  test loss 1.833, col  test loss 58.627\n"
     ]
    },
    {
     "name": "stderr",
     "output_type": "stream",
     "text": [
      "Epoch 1563: 272batch [00:08, 33.86batch/s, loss=7.26e+4]\n"
     ]
    },
    {
     "name": "stdout",
     "output_type": "stream",
     "text": [
      "epoch 1563: avg train loss 72988.38, bar train loss 210.078, len train loss 4.273, col train loss 135.655\n"
     ]
    },
    {
     "name": "stderr",
     "output_type": "stream",
     "text": [
      "Epoch 1564: 4batch [00:00, 33.06batch/s, loss=7.23e+4]"
     ]
    },
    {
     "name": "stdout",
     "output_type": "stream",
     "text": [
      "epoch 1563: avg test  loss 73364.38, bar  test loss 90.477, len  test loss 1.839, col  test loss 58.672\n"
     ]
    },
    {
     "name": "stderr",
     "output_type": "stream",
     "text": [
      "Epoch 1564: 272batch [00:08, 33.82batch/s, loss=7.33e+4]\n"
     ]
    },
    {
     "name": "stdout",
     "output_type": "stream",
     "text": [
      "epoch 1564: avg train loss 72983.82, bar train loss 210.099, len train loss 4.275, col train loss 135.659\n"
     ]
    },
    {
     "name": "stderr",
     "output_type": "stream",
     "text": [
      "Epoch 1565: 4batch [00:00, 32.00batch/s, loss=7.16e+4]"
     ]
    },
    {
     "name": "stdout",
     "output_type": "stream",
     "text": [
      "epoch 1564: avg test  loss 73413.80, bar  test loss 90.217, len  test loss 1.835, col  test loss 58.448\n"
     ]
    },
    {
     "name": "stderr",
     "output_type": "stream",
     "text": [
      "Epoch 1565: 272batch [00:08, 33.60batch/s, loss=6.81e+4]\n"
     ]
    },
    {
     "name": "stdout",
     "output_type": "stream",
     "text": [
      "epoch 1565: avg train loss 72998.42, bar train loss 210.106, len train loss 4.275, col train loss 135.668\n",
      "epoch 1565: avg test  loss 73356.61, bar  test loss 90.326, len  test loss 1.831, col  test loss 58.583\n"
     ]
    },
    {
     "name": "stderr",
     "output_type": "stream",
     "text": [
      "Epoch 1566: 272batch [00:08, 33.73batch/s, loss=7.89e+4]\n"
     ]
    },
    {
     "name": "stdout",
     "output_type": "stream",
     "text": [
      "epoch 1566: avg train loss 72979.05, bar train loss 210.045, len train loss 4.276, col train loss 135.653\n"
     ]
    },
    {
     "name": "stderr",
     "output_type": "stream",
     "text": [
      "Epoch 1567: 4batch [00:00, 31.25batch/s, loss=7.27e+4]"
     ]
    },
    {
     "name": "stdout",
     "output_type": "stream",
     "text": [
      "epoch 1566: avg test  loss 73377.08, bar  test loss 90.280, len  test loss 1.831, col  test loss 58.560\n"
     ]
    },
    {
     "name": "stderr",
     "output_type": "stream",
     "text": [
      "Epoch 1567: 272batch [00:08, 33.74batch/s, loss=7.42e+4]\n"
     ]
    },
    {
     "name": "stdout",
     "output_type": "stream",
     "text": [
      "epoch 1567: avg train loss 72983.23, bar train loss 210.027, len train loss 4.273, col train loss 135.650\n"
     ]
    },
    {
     "name": "stderr",
     "output_type": "stream",
     "text": [
      "Epoch 1568: 4batch [00:00, 32.26batch/s, loss=7.32e+4]"
     ]
    },
    {
     "name": "stdout",
     "output_type": "stream",
     "text": [
      "epoch 1567: avg test  loss 73392.48, bar  test loss 90.436, len  test loss 1.837, col  test loss 58.565\n"
     ]
    },
    {
     "name": "stderr",
     "output_type": "stream",
     "text": [
      "Epoch 1568: 272batch [00:08, 33.78batch/s, loss=8.29e+4]\n"
     ]
    },
    {
     "name": "stdout",
     "output_type": "stream",
     "text": [
      "epoch 1568: avg train loss 72984.27, bar train loss 210.075, len train loss 4.274, col train loss 135.622\n"
     ]
    },
    {
     "name": "stderr",
     "output_type": "stream",
     "text": [
      "Epoch 1569: 4batch [00:00, 31.75batch/s, loss=7.58e+4]"
     ]
    },
    {
     "name": "stdout",
     "output_type": "stream",
     "text": [
      "epoch 1568: avg test  loss 73389.52, bar  test loss 90.455, len  test loss 1.839, col  test loss 58.530\n"
     ]
    },
    {
     "name": "stderr",
     "output_type": "stream",
     "text": [
      "Epoch 1569: 272batch [00:08, 33.64batch/s, loss=6.73e+4]\n"
     ]
    },
    {
     "name": "stdout",
     "output_type": "stream",
     "text": [
      "epoch 1569: avg train loss 72993.30, bar train loss 210.079, len train loss 4.274, col train loss 135.638\n"
     ]
    },
    {
     "name": "stderr",
     "output_type": "stream",
     "text": [
      "Epoch 1570: 4batch [00:00, 33.61batch/s, loss=6.95e+4]"
     ]
    },
    {
     "name": "stdout",
     "output_type": "stream",
     "text": [
      "epoch 1569: avg test  loss 73413.09, bar  test loss 90.629, len  test loss 1.835, col  test loss 58.710\n"
     ]
    },
    {
     "name": "stderr",
     "output_type": "stream",
     "text": [
      "Epoch 1570: 272batch [00:08, 33.57batch/s, loss=7.81e+4]\n"
     ]
    },
    {
     "name": "stdout",
     "output_type": "stream",
     "text": [
      "epoch 1570: avg train loss 72984.77, bar train loss 210.094, len train loss 4.274, col train loss 135.612\n",
      "epoch 1570: avg test  loss 73389.59, bar  test loss 90.508, len  test loss 1.833, col  test loss 58.599\n"
     ]
    },
    {
     "name": "stderr",
     "output_type": "stream",
     "text": [
      "Epoch 1571: 272batch [00:08, 33.81batch/s, loss=7.12e+4]\n"
     ]
    },
    {
     "name": "stdout",
     "output_type": "stream",
     "text": [
      "epoch 1571: avg train loss 72985.35, bar train loss 210.051, len train loss 4.273, col train loss 135.639\n"
     ]
    },
    {
     "name": "stderr",
     "output_type": "stream",
     "text": [
      "Epoch 1572: 3batch [00:00, 28.85batch/s, loss=6.91e+4]"
     ]
    },
    {
     "name": "stdout",
     "output_type": "stream",
     "text": [
      "epoch 1571: avg test  loss 73360.99, bar  test loss 90.439, len  test loss 1.831, col  test loss 58.644\n"
     ]
    },
    {
     "name": "stderr",
     "output_type": "stream",
     "text": [
      "Epoch 1572: 272batch [00:08, 33.66batch/s, loss=7.4e+4] \n"
     ]
    },
    {
     "name": "stdout",
     "output_type": "stream",
     "text": [
      "epoch 1572: avg train loss 72979.45, bar train loss 210.041, len train loss 4.273, col train loss 135.620\n"
     ]
    },
    {
     "name": "stderr",
     "output_type": "stream",
     "text": [
      "Epoch 1573: 4batch [00:00, 32.26batch/s, loss=6.97e+4]"
     ]
    },
    {
     "name": "stdout",
     "output_type": "stream",
     "text": [
      "epoch 1572: avg test  loss 73391.26, bar  test loss 90.634, len  test loss 1.834, col  test loss 58.738\n"
     ]
    },
    {
     "name": "stderr",
     "output_type": "stream",
     "text": [
      "Epoch 1573: 272batch [00:08, 33.04batch/s, loss=8.45e+4]\n"
     ]
    },
    {
     "name": "stdout",
     "output_type": "stream",
     "text": [
      "epoch 1573: avg train loss 72982.84, bar train loss 210.064, len train loss 4.275, col train loss 135.631\n"
     ]
    },
    {
     "name": "stderr",
     "output_type": "stream",
     "text": [
      "Epoch 1574: 4batch [00:00, 32.00batch/s, loss=7.16e+4]"
     ]
    },
    {
     "name": "stdout",
     "output_type": "stream",
     "text": [
      "epoch 1573: avg test  loss 73380.71, bar  test loss 90.429, len  test loss 1.832, col  test loss 58.572\n"
     ]
    },
    {
     "name": "stderr",
     "output_type": "stream",
     "text": [
      "Epoch 1574: 272batch [00:08, 33.44batch/s, loss=7.64e+4]\n"
     ]
    },
    {
     "name": "stdout",
     "output_type": "stream",
     "text": [
      "epoch 1574: avg train loss 72979.74, bar train loss 210.075, len train loss 4.273, col train loss 135.606\n"
     ]
    },
    {
     "name": "stderr",
     "output_type": "stream",
     "text": [
      "Epoch 1575: 4batch [00:00, 32.79batch/s, loss=6.82e+4]"
     ]
    },
    {
     "name": "stdout",
     "output_type": "stream",
     "text": [
      "epoch 1574: avg test  loss 73371.09, bar  test loss 90.416, len  test loss 1.839, col  test loss 58.629\n"
     ]
    },
    {
     "name": "stderr",
     "output_type": "stream",
     "text": [
      "Epoch 1575: 272batch [00:08, 33.53batch/s, loss=6.5e+4] \n"
     ]
    },
    {
     "name": "stdout",
     "output_type": "stream",
     "text": [
      "epoch 1575: avg train loss 72991.64, bar train loss 210.047, len train loss 4.276, col train loss 135.622\n",
      "epoch 1575: avg test  loss 73370.34, bar  test loss 90.435, len  test loss 1.838, col  test loss 58.746\n"
     ]
    },
    {
     "name": "stderr",
     "output_type": "stream",
     "text": [
      "Epoch 1576: 272batch [00:08, 33.63batch/s, loss=6.89e+4]\n"
     ]
    },
    {
     "name": "stdout",
     "output_type": "stream",
     "text": [
      "epoch 1576: avg train loss 72978.78, bar train loss 210.063, len train loss 4.274, col train loss 135.610\n"
     ]
    },
    {
     "name": "stderr",
     "output_type": "stream",
     "text": [
      "Epoch 1577: 4batch [00:00, 32.52batch/s, loss=7.17e+4]"
     ]
    },
    {
     "name": "stdout",
     "output_type": "stream",
     "text": [
      "epoch 1576: avg test  loss 73393.40, bar  test loss 90.396, len  test loss 1.836, col  test loss 58.550\n"
     ]
    },
    {
     "name": "stderr",
     "output_type": "stream",
     "text": [
      "Epoch 1577: 272batch [00:08, 33.49batch/s, loss=7.04e+4]\n"
     ]
    },
    {
     "name": "stdout",
     "output_type": "stream",
     "text": [
      "epoch 1577: avg train loss 72990.97, bar train loss 210.099, len train loss 4.274, col train loss 135.655\n"
     ]
    },
    {
     "name": "stderr",
     "output_type": "stream",
     "text": [
      "Epoch 1578: 4batch [00:00, 31.75batch/s, loss=7.33e+4]"
     ]
    },
    {
     "name": "stdout",
     "output_type": "stream",
     "text": [
      "epoch 1577: avg test  loss 73410.03, bar  test loss 90.395, len  test loss 1.834, col  test loss 58.657\n"
     ]
    },
    {
     "name": "stderr",
     "output_type": "stream",
     "text": [
      "Epoch 1578: 272batch [00:08, 33.14batch/s, loss=7.55e+4]\n"
     ]
    },
    {
     "name": "stdout",
     "output_type": "stream",
     "text": [
      "epoch 1578: avg train loss 72978.15, bar train loss 210.014, len train loss 4.274, col train loss 135.646\n"
     ]
    },
    {
     "name": "stderr",
     "output_type": "stream",
     "text": [
      "Epoch 1579: 4batch [00:00, 31.50batch/s, loss=7.35e+4]"
     ]
    },
    {
     "name": "stdout",
     "output_type": "stream",
     "text": [
      "epoch 1578: avg test  loss 73354.92, bar  test loss 90.385, len  test loss 1.831, col  test loss 58.583\n"
     ]
    },
    {
     "name": "stderr",
     "output_type": "stream",
     "text": [
      "Epoch 1579: 272batch [00:08, 32.11batch/s, loss=7.85e+4]\n"
     ]
    },
    {
     "name": "stdout",
     "output_type": "stream",
     "text": [
      "epoch 1579: avg train loss 72973.97, bar train loss 210.027, len train loss 4.274, col train loss 135.596\n"
     ]
    },
    {
     "name": "stderr",
     "output_type": "stream",
     "text": [
      "Epoch 1580: 4batch [00:00, 32.00batch/s, loss=7.6e+4] "
     ]
    },
    {
     "name": "stdout",
     "output_type": "stream",
     "text": [
      "epoch 1579: avg test  loss 73375.10, bar  test loss 90.418, len  test loss 1.837, col  test loss 58.642\n"
     ]
    },
    {
     "name": "stderr",
     "output_type": "stream",
     "text": [
      "Epoch 1580: 272batch [00:08, 33.03batch/s, loss=7.28e+4]\n"
     ]
    },
    {
     "name": "stdout",
     "output_type": "stream",
     "text": [
      "epoch 1580: avg train loss 72977.62, bar train loss 210.045, len train loss 4.275, col train loss 135.607\n",
      "epoch 1580: avg test  loss 73383.01, bar  test loss 90.329, len  test loss 1.834, col  test loss 58.553\n"
     ]
    },
    {
     "name": "stderr",
     "output_type": "stream",
     "text": [
      "Epoch 1581: 272batch [00:08, 33.26batch/s, loss=7.38e+4]\n"
     ]
    },
    {
     "name": "stdout",
     "output_type": "stream",
     "text": [
      "epoch 1581: avg train loss 72980.91, bar train loss 210.059, len train loss 4.274, col train loss 135.578\n"
     ]
    },
    {
     "name": "stderr",
     "output_type": "stream",
     "text": [
      "Epoch 1582: 3batch [00:00, 29.70batch/s, loss=7.26e+4]"
     ]
    },
    {
     "name": "stdout",
     "output_type": "stream",
     "text": [
      "epoch 1581: avg test  loss 73337.80, bar  test loss 90.367, len  test loss 1.833, col  test loss 58.593\n"
     ]
    },
    {
     "name": "stderr",
     "output_type": "stream",
     "text": [
      "Epoch 1582: 272batch [00:08, 33.03batch/s, loss=7.32e+4]\n"
     ]
    },
    {
     "name": "stdout",
     "output_type": "stream",
     "text": [
      "epoch 1582: avg train loss 72982.09, bar train loss 210.051, len train loss 4.275, col train loss 135.616\n"
     ]
    },
    {
     "name": "stderr",
     "output_type": "stream",
     "text": [
      "Epoch 1583: 4batch [00:00, 32.00batch/s, loss=7.36e+4]"
     ]
    },
    {
     "name": "stdout",
     "output_type": "stream",
     "text": [
      "epoch 1582: avg test  loss 73403.20, bar  test loss 90.408, len  test loss 1.833, col  test loss 58.669\n"
     ]
    },
    {
     "name": "stderr",
     "output_type": "stream",
     "text": [
      "Epoch 1583: 272batch [00:08, 33.09batch/s, loss=6.98e+4]\n"
     ]
    },
    {
     "name": "stdout",
     "output_type": "stream",
     "text": [
      "epoch 1583: avg train loss 72981.23, bar train loss 210.053, len train loss 4.272, col train loss 135.608\n"
     ]
    },
    {
     "name": "stderr",
     "output_type": "stream",
     "text": [
      "Epoch 1584: 3batch [00:00, 29.13batch/s, loss=7.15e+4]"
     ]
    },
    {
     "name": "stdout",
     "output_type": "stream",
     "text": [
      "epoch 1583: avg test  loss 73389.00, bar  test loss 90.453, len  test loss 1.828, col  test loss 58.626\n"
     ]
    },
    {
     "name": "stderr",
     "output_type": "stream",
     "text": [
      "Epoch 1584: 272batch [00:08, 32.85batch/s, loss=7.63e+4]\n"
     ]
    },
    {
     "name": "stdout",
     "output_type": "stream",
     "text": [
      "epoch 1584: avg train loss 72986.35, bar train loss 210.034, len train loss 4.272, col train loss 135.652\n"
     ]
    },
    {
     "name": "stderr",
     "output_type": "stream",
     "text": [
      "Epoch 1585: 4batch [00:00, 32.26batch/s, loss=7.34e+4]"
     ]
    },
    {
     "name": "stdout",
     "output_type": "stream",
     "text": [
      "epoch 1584: avg test  loss 73380.38, bar  test loss 90.422, len  test loss 1.833, col  test loss 58.683\n"
     ]
    },
    {
     "name": "stderr",
     "output_type": "stream",
     "text": [
      "Epoch 1585: 272batch [00:08, 33.02batch/s, loss=7.47e+4]\n"
     ]
    },
    {
     "name": "stdout",
     "output_type": "stream",
     "text": [
      "epoch 1585: avg train loss 72983.89, bar train loss 210.082, len train loss 4.272, col train loss 135.649\n",
      "epoch 1585: avg test  loss 73407.48, bar  test loss 90.434, len  test loss 1.827, col  test loss 58.549\n"
     ]
    },
    {
     "name": "stderr",
     "output_type": "stream",
     "text": [
      "Epoch 1586: 272batch [00:08, 33.06batch/s, loss=8.15e+4]\n"
     ]
    },
    {
     "name": "stdout",
     "output_type": "stream",
     "text": [
      "epoch 1586: avg train loss 72972.32, bar train loss 210.045, len train loss 4.273, col train loss 135.599\n"
     ]
    },
    {
     "name": "stderr",
     "output_type": "stream",
     "text": [
      "Epoch 1587: 4batch [00:00, 31.25batch/s, loss=7.57e+4]"
     ]
    },
    {
     "name": "stdout",
     "output_type": "stream",
     "text": [
      "epoch 1586: avg test  loss 73436.30, bar  test loss 90.688, len  test loss 1.840, col  test loss 58.775\n"
     ]
    },
    {
     "name": "stderr",
     "output_type": "stream",
     "text": [
      "Epoch 1587: 272batch [00:08, 33.21batch/s, loss=7.2e+4] \n"
     ]
    },
    {
     "name": "stdout",
     "output_type": "stream",
     "text": [
      "epoch 1587: avg train loss 72981.29, bar train loss 210.087, len train loss 4.274, col train loss 135.646\n"
     ]
    },
    {
     "name": "stderr",
     "output_type": "stream",
     "text": [
      "Epoch 1588: 4batch [00:00, 30.77batch/s, loss=7.14e+4]"
     ]
    },
    {
     "name": "stdout",
     "output_type": "stream",
     "text": [
      "epoch 1587: avg test  loss 73367.62, bar  test loss 90.272, len  test loss 1.835, col  test loss 58.582\n"
     ]
    },
    {
     "name": "stderr",
     "output_type": "stream",
     "text": [
      "Epoch 1588: 272batch [00:08, 32.94batch/s, loss=7.43e+4]\n"
     ]
    },
    {
     "name": "stdout",
     "output_type": "stream",
     "text": [
      "epoch 1588: avg train loss 72987.34, bar train loss 210.058, len train loss 4.275, col train loss 135.655\n"
     ]
    },
    {
     "name": "stderr",
     "output_type": "stream",
     "text": [
      "Epoch 1589: 4batch [00:00, 30.77batch/s, loss=71114.5]"
     ]
    },
    {
     "name": "stdout",
     "output_type": "stream",
     "text": [
      "epoch 1588: avg test  loss 73349.48, bar  test loss 90.469, len  test loss 1.835, col  test loss 58.575\n"
     ]
    },
    {
     "name": "stderr",
     "output_type": "stream",
     "text": [
      "Epoch 1589: 272batch [00:08, 32.88batch/s, loss=7.13e+4]\n"
     ]
    },
    {
     "name": "stdout",
     "output_type": "stream",
     "text": [
      "epoch 1589: avg train loss 72980.05, bar train loss 210.071, len train loss 4.271, col train loss 135.605\n"
     ]
    },
    {
     "name": "stderr",
     "output_type": "stream",
     "text": [
      "Epoch 1590: 4batch [00:00, 30.77batch/s, loss=7.35e+4]"
     ]
    },
    {
     "name": "stdout",
     "output_type": "stream",
     "text": [
      "epoch 1589: avg test  loss 73376.93, bar  test loss 90.426, len  test loss 1.833, col  test loss 58.557\n"
     ]
    },
    {
     "name": "stderr",
     "output_type": "stream",
     "text": [
      "Epoch 1590: 272batch [00:08, 32.63batch/s, loss=7.92e+4]\n"
     ]
    },
    {
     "name": "stdout",
     "output_type": "stream",
     "text": [
      "epoch 1590: avg train loss 72982.01, bar train loss 210.067, len train loss 4.271, col train loss 135.604\n",
      "epoch 1590: avg test  loss 73374.90, bar  test loss 90.364, len  test loss 1.832, col  test loss 58.645\n"
     ]
    },
    {
     "name": "stderr",
     "output_type": "stream",
     "text": [
      "Epoch 1591: 272batch [00:08, 32.86batch/s, loss=6.98e+4]\n"
     ]
    },
    {
     "name": "stdout",
     "output_type": "stream",
     "text": [
      "epoch 1591: avg train loss 72974.44, bar train loss 210.054, len train loss 4.274, col train loss 135.624\n"
     ]
    },
    {
     "name": "stderr",
     "output_type": "stream",
     "text": [
      "Epoch 1592: 4batch [00:00, 32.26batch/s, loss=7.23e+4]"
     ]
    },
    {
     "name": "stdout",
     "output_type": "stream",
     "text": [
      "epoch 1591: avg test  loss 73409.26, bar  test loss 90.428, len  test loss 1.835, col  test loss 58.530\n"
     ]
    },
    {
     "name": "stderr",
     "output_type": "stream",
     "text": [
      "Epoch 1592: 272batch [00:08, 33.10batch/s, loss=7.51e+4]\n"
     ]
    },
    {
     "name": "stdout",
     "output_type": "stream",
     "text": [
      "epoch 1592: avg train loss 72979.64, bar train loss 210.072, len train loss 4.271, col train loss 135.611\n"
     ]
    },
    {
     "name": "stderr",
     "output_type": "stream",
     "text": [
      "Epoch 1593: 4batch [00:00, 31.01batch/s, loss=7.14e+4]"
     ]
    },
    {
     "name": "stdout",
     "output_type": "stream",
     "text": [
      "epoch 1592: avg test  loss 73379.50, bar  test loss 90.505, len  test loss 1.839, col  test loss 58.622\n"
     ]
    },
    {
     "name": "stderr",
     "output_type": "stream",
     "text": [
      "Epoch 1593: 272batch [00:08, 32.83batch/s, loss=7.58e+4]\n"
     ]
    },
    {
     "name": "stdout",
     "output_type": "stream",
     "text": [
      "epoch 1593: avg train loss 72978.17, bar train loss 210.051, len train loss 4.275, col train loss 135.617\n"
     ]
    },
    {
     "name": "stderr",
     "output_type": "stream",
     "text": [
      "Epoch 1594: 4batch [00:00, 31.25batch/s, loss=7.2e+4] "
     ]
    },
    {
     "name": "stdout",
     "output_type": "stream",
     "text": [
      "epoch 1593: avg test  loss 73378.18, bar  test loss 90.334, len  test loss 1.836, col  test loss 58.625\n"
     ]
    },
    {
     "name": "stderr",
     "output_type": "stream",
     "text": [
      "Epoch 1594: 272batch [00:08, 32.95batch/s, loss=8.15e+4]\n"
     ]
    },
    {
     "name": "stdout",
     "output_type": "stream",
     "text": [
      "epoch 1594: avg train loss 72974.03, bar train loss 210.011, len train loss 4.271, col train loss 135.572\n"
     ]
    },
    {
     "name": "stderr",
     "output_type": "stream",
     "text": [
      "Epoch 1595: 4batch [00:00, 30.77batch/s, loss=7.57e+4]"
     ]
    },
    {
     "name": "stdout",
     "output_type": "stream",
     "text": [
      "epoch 1594: avg test  loss 73376.00, bar  test loss 90.405, len  test loss 1.839, col  test loss 58.591\n"
     ]
    },
    {
     "name": "stderr",
     "output_type": "stream",
     "text": [
      "Epoch 1595: 272batch [00:08, 32.67batch/s, loss=7.61e+4]\n"
     ]
    },
    {
     "name": "stdout",
     "output_type": "stream",
     "text": [
      "epoch 1595: avg train loss 72972.02, bar train loss 210.039, len train loss 4.274, col train loss 135.616\n",
      "epoch 1595: avg test  loss 73389.54, bar  test loss 90.409, len  test loss 1.832, col  test loss 58.575\n"
     ]
    },
    {
     "name": "stderr",
     "output_type": "stream",
     "text": [
      "Epoch 1596: 272batch [00:08, 32.61batch/s, loss=7.61e+4]\n"
     ]
    },
    {
     "name": "stdout",
     "output_type": "stream",
     "text": [
      "epoch 1596: avg train loss 72973.38, bar train loss 210.063, len train loss 4.272, col train loss 135.586\n"
     ]
    },
    {
     "name": "stderr",
     "output_type": "stream",
     "text": [
      "Epoch 1597: 4batch [00:00, 30.30batch/s, loss=7.48e+4]"
     ]
    },
    {
     "name": "stdout",
     "output_type": "stream",
     "text": [
      "epoch 1596: avg test  loss 73421.99, bar  test loss 90.535, len  test loss 1.831, col  test loss 58.708\n"
     ]
    },
    {
     "name": "stderr",
     "output_type": "stream",
     "text": [
      "Epoch 1597: 272batch [00:08, 32.75batch/s, loss=8.17e+4]\n"
     ]
    },
    {
     "name": "stdout",
     "output_type": "stream",
     "text": [
      "epoch 1597: avg train loss 72967.12, bar train loss 210.037, len train loss 4.270, col train loss 135.542\n"
     ]
    },
    {
     "name": "stderr",
     "output_type": "stream",
     "text": [
      "Epoch 1598: 4batch [00:00, 32.00batch/s, loss=7.24e+4]"
     ]
    },
    {
     "name": "stdout",
     "output_type": "stream",
     "text": [
      "epoch 1597: avg test  loss 73387.41, bar  test loss 90.411, len  test loss 1.833, col  test loss 58.563\n"
     ]
    },
    {
     "name": "stderr",
     "output_type": "stream",
     "text": [
      "Epoch 1598: 272batch [00:08, 32.64batch/s, loss=6.85e+4]\n"
     ]
    },
    {
     "name": "stdout",
     "output_type": "stream",
     "text": [
      "epoch 1598: avg train loss 72974.01, bar train loss 210.032, len train loss 4.274, col train loss 135.584\n"
     ]
    },
    {
     "name": "stderr",
     "output_type": "stream",
     "text": [
      "Epoch 1599: 4batch [00:00, 31.50batch/s, loss=7.52e+4]"
     ]
    },
    {
     "name": "stdout",
     "output_type": "stream",
     "text": [
      "epoch 1598: avg test  loss 73415.02, bar  test loss 90.436, len  test loss 1.834, col  test loss 58.668\n"
     ]
    },
    {
     "name": "stderr",
     "output_type": "stream",
     "text": [
      "Epoch 1599: 272batch [00:08, 32.54batch/s, loss=6.97e+4]\n"
     ]
    },
    {
     "name": "stdout",
     "output_type": "stream",
     "text": [
      "epoch 1599: avg train loss 72971.48, bar train loss 210.033, len train loss 4.272, col train loss 135.585\n"
     ]
    },
    {
     "name": "stderr",
     "output_type": "stream",
     "text": [
      "Epoch 1600: 4batch [00:00, 30.77batch/s, loss=7.46e+4]"
     ]
    },
    {
     "name": "stdout",
     "output_type": "stream",
     "text": [
      "epoch 1599: avg test  loss 73385.48, bar  test loss 90.429, len  test loss 1.833, col  test loss 58.569\n"
     ]
    },
    {
     "name": "stderr",
     "output_type": "stream",
     "text": [
      "Epoch 1600: 272batch [00:08, 32.52batch/s, loss=8.07e+4]\n"
     ]
    },
    {
     "name": "stdout",
     "output_type": "stream",
     "text": [
      "epoch 1600: avg train loss 72971.13, bar train loss 210.042, len train loss 4.271, col train loss 135.591\n",
      "epoch 1600: avg test  loss 73361.12, bar  test loss 90.467, len  test loss 1.835, col  test loss 58.601\n"
     ]
    },
    {
     "name": "stderr",
     "output_type": "stream",
     "text": [
      "Epoch 1601: 272batch [00:08, 32.59batch/s, loss=7.46e+4]\n"
     ]
    },
    {
     "name": "stdout",
     "output_type": "stream",
     "text": [
      "epoch 1601: avg train loss 72974.11, bar train loss 210.075, len train loss 4.274, col train loss 135.599\n"
     ]
    },
    {
     "name": "stderr",
     "output_type": "stream",
     "text": [
      "Epoch 1602: 4batch [00:00, 32.00batch/s, loss=7.46e+4]"
     ]
    },
    {
     "name": "stdout",
     "output_type": "stream",
     "text": [
      "epoch 1601: avg test  loss 73396.39, bar  test loss 90.467, len  test loss 1.832, col  test loss 58.574\n"
     ]
    },
    {
     "name": "stderr",
     "output_type": "stream",
     "text": [
      "Epoch 1602: 272batch [00:08, 32.34batch/s, loss=7.47e+4]\n"
     ]
    },
    {
     "name": "stdout",
     "output_type": "stream",
     "text": [
      "epoch 1602: avg train loss 72974.34, bar train loss 210.055, len train loss 4.272, col train loss 135.614\n"
     ]
    },
    {
     "name": "stderr",
     "output_type": "stream",
     "text": [
      "Epoch 1603: 3batch [00:00, 27.03batch/s, loss=7.42e+4]"
     ]
    },
    {
     "name": "stdout",
     "output_type": "stream",
     "text": [
      "epoch 1602: avg test  loss 73365.20, bar  test loss 90.387, len  test loss 1.835, col  test loss 58.595\n"
     ]
    },
    {
     "name": "stderr",
     "output_type": "stream",
     "text": [
      "Epoch 1603: 272batch [00:08, 32.02batch/s, loss=6.77e+4]\n"
     ]
    },
    {
     "name": "stdout",
     "output_type": "stream",
     "text": [
      "epoch 1603: avg train loss 72963.43, bar train loss 210.005, len train loss 4.273, col train loss 135.532\n"
     ]
    },
    {
     "name": "stderr",
     "output_type": "stream",
     "text": [
      "Epoch 1604: 3batch [00:00, 29.70batch/s, loss=7.11e+4]"
     ]
    },
    {
     "name": "stdout",
     "output_type": "stream",
     "text": [
      "epoch 1603: avg test  loss 73359.51, bar  test loss 90.301, len  test loss 1.831, col  test loss 58.577\n"
     ]
    },
    {
     "name": "stderr",
     "output_type": "stream",
     "text": [
      "Epoch 1604: 272batch [00:08, 32.43batch/s, loss=6.94e+4]\n"
     ]
    },
    {
     "name": "stdout",
     "output_type": "stream",
     "text": [
      "epoch 1604: avg train loss 72971.03, bar train loss 210.011, len train loss 4.273, col train loss 135.554\n"
     ]
    },
    {
     "name": "stderr",
     "output_type": "stream",
     "text": [
      "Epoch 1605: 3batch [00:00, 29.70batch/s, loss=7.08e+4]"
     ]
    },
    {
     "name": "stdout",
     "output_type": "stream",
     "text": [
      "epoch 1604: avg test  loss 73392.08, bar  test loss 90.375, len  test loss 1.837, col  test loss 58.633\n"
     ]
    },
    {
     "name": "stderr",
     "output_type": "stream",
     "text": [
      "Epoch 1605: 272batch [00:08, 32.20batch/s, loss=7.45e+4]\n"
     ]
    },
    {
     "name": "stdout",
     "output_type": "stream",
     "text": [
      "epoch 1605: avg train loss 72984.79, bar train loss 210.077, len train loss 4.271, col train loss 135.610\n",
      "epoch 1605: avg test  loss 73408.16, bar  test loss 90.366, len  test loss 1.833, col  test loss 58.581\n"
     ]
    },
    {
     "name": "stderr",
     "output_type": "stream",
     "text": [
      "Epoch 1606: 272batch [00:08, 32.19batch/s, loss=6.94e+4]\n"
     ]
    },
    {
     "name": "stdout",
     "output_type": "stream",
     "text": [
      "epoch 1606: avg train loss 72965.77, bar train loss 210.005, len train loss 4.271, col train loss 135.524\n"
     ]
    },
    {
     "name": "stderr",
     "output_type": "stream",
     "text": [
      "Epoch 1607: 4batch [00:00, 30.53batch/s, loss=7.23e+4]"
     ]
    },
    {
     "name": "stdout",
     "output_type": "stream",
     "text": [
      "epoch 1606: avg test  loss 73405.10, bar  test loss 90.529, len  test loss 1.834, col  test loss 58.690\n"
     ]
    },
    {
     "name": "stderr",
     "output_type": "stream",
     "text": [
      "Epoch 1607: 272batch [00:08, 31.70batch/s, loss=7.15e+4]\n"
     ]
    },
    {
     "name": "stdout",
     "output_type": "stream",
     "text": [
      "epoch 1607: avg train loss 72970.81, bar train loss 210.023, len train loss 4.272, col train loss 135.578\n"
     ]
    },
    {
     "name": "stderr",
     "output_type": "stream",
     "text": [
      "Epoch 1608: 3batch [00:00, 30.00batch/s, loss=7.23e+4]"
     ]
    },
    {
     "name": "stdout",
     "output_type": "stream",
     "text": [
      "epoch 1607: avg test  loss 73356.92, bar  test loss 90.542, len  test loss 1.833, col  test loss 58.667\n"
     ]
    },
    {
     "name": "stderr",
     "output_type": "stream",
     "text": [
      "Epoch 1608: 272batch [00:08, 31.96batch/s, loss=7.33e+4]\n"
     ]
    },
    {
     "name": "stdout",
     "output_type": "stream",
     "text": [
      "epoch 1608: avg train loss 72969.20, bar train loss 210.051, len train loss 4.272, col train loss 135.607\n"
     ]
    },
    {
     "name": "stderr",
     "output_type": "stream",
     "text": [
      "Epoch 1609: 4batch [00:00, 30.77batch/s, loss=7.47e+4]"
     ]
    },
    {
     "name": "stdout",
     "output_type": "stream",
     "text": [
      "epoch 1608: avg test  loss 73353.22, bar  test loss 90.415, len  test loss 1.830, col  test loss 58.574\n"
     ]
    },
    {
     "name": "stderr",
     "output_type": "stream",
     "text": [
      "Epoch 1609: 272batch [00:08, 31.94batch/s, loss=7.35e+4]\n"
     ]
    },
    {
     "name": "stdout",
     "output_type": "stream",
     "text": [
      "epoch 1609: avg train loss 72965.06, bar train loss 210.017, len train loss 4.272, col train loss 135.588\n"
     ]
    },
    {
     "name": "stderr",
     "output_type": "stream",
     "text": [
      "Epoch 1610: 3batch [00:00, 29.13batch/s, loss=7.13e+4]"
     ]
    },
    {
     "name": "stdout",
     "output_type": "stream",
     "text": [
      "epoch 1609: avg test  loss 73347.15, bar  test loss 90.332, len  test loss 1.833, col  test loss 58.576\n"
     ]
    },
    {
     "name": "stderr",
     "output_type": "stream",
     "text": [
      "Epoch 1610: 272batch [00:08, 32.11batch/s, loss=7.46e+4]\n"
     ]
    },
    {
     "name": "stdout",
     "output_type": "stream",
     "text": [
      "epoch 1610: avg train loss 72972.62, bar train loss 210.013, len train loss 4.272, col train loss 135.580\n",
      "epoch 1610: avg test  loss 73380.97, bar  test loss 90.352, len  test loss 1.826, col  test loss 58.452\n"
     ]
    },
    {
     "name": "stderr",
     "output_type": "stream",
     "text": [
      "Epoch 1611: 272batch [00:08, 32.02batch/s, loss=7.06e+4]\n"
     ]
    },
    {
     "name": "stdout",
     "output_type": "stream",
     "text": [
      "epoch 1611: avg train loss 72955.27, bar train loss 209.999, len train loss 4.271, col train loss 135.522\n"
     ]
    },
    {
     "name": "stderr",
     "output_type": "stream",
     "text": [
      "Epoch 1612: 4batch [00:00, 31.01batch/s, loss=7.36e+4]"
     ]
    },
    {
     "name": "stdout",
     "output_type": "stream",
     "text": [
      "epoch 1611: avg test  loss 73423.88, bar  test loss 90.573, len  test loss 1.831, col  test loss 58.679\n"
     ]
    },
    {
     "name": "stderr",
     "output_type": "stream",
     "text": [
      "Epoch 1612: 272batch [00:08, 32.03batch/s, loss=7.42e+4]\n"
     ]
    },
    {
     "name": "stdout",
     "output_type": "stream",
     "text": [
      "epoch 1612: avg train loss 72969.84, bar train loss 210.056, len train loss 4.272, col train loss 135.613\n"
     ]
    },
    {
     "name": "stderr",
     "output_type": "stream",
     "text": [
      "Epoch 1613: 3batch [00:00, 29.70batch/s, loss=7.43e+4]"
     ]
    },
    {
     "name": "stdout",
     "output_type": "stream",
     "text": [
      "epoch 1612: avg test  loss 73393.94, bar  test loss 90.525, len  test loss 1.832, col  test loss 58.640\n"
     ]
    },
    {
     "name": "stderr",
     "output_type": "stream",
     "text": [
      "Epoch 1613: 272batch [00:08, 32.09batch/s, loss=7.45e+4]\n"
     ]
    },
    {
     "name": "stdout",
     "output_type": "stream",
     "text": [
      "epoch 1613: avg train loss 72974.37, bar train loss 209.992, len train loss 4.274, col train loss 135.572\n"
     ]
    },
    {
     "name": "stderr",
     "output_type": "stream",
     "text": [
      "Epoch 1614: 3batch [00:00, 28.57batch/s, loss=7.26e+4]"
     ]
    },
    {
     "name": "stdout",
     "output_type": "stream",
     "text": [
      "epoch 1613: avg test  loss 73359.41, bar  test loss 90.373, len  test loss 1.832, col  test loss 58.621\n"
     ]
    },
    {
     "name": "stderr",
     "output_type": "stream",
     "text": [
      "Epoch 1614: 272batch [00:08, 31.76batch/s, loss=7.31e+4]\n"
     ]
    },
    {
     "name": "stdout",
     "output_type": "stream",
     "text": [
      "epoch 1614: avg train loss 72960.66, bar train loss 209.979, len train loss 4.270, col train loss 135.557\n"
     ]
    },
    {
     "name": "stderr",
     "output_type": "stream",
     "text": [
      "Epoch 1615: 3batch [00:00, 29.70batch/s, loss=7.5e+4] "
     ]
    },
    {
     "name": "stdout",
     "output_type": "stream",
     "text": [
      "epoch 1614: avg test  loss 73361.02, bar  test loss 90.402, len  test loss 1.832, col  test loss 58.560\n"
     ]
    },
    {
     "name": "stderr",
     "output_type": "stream",
     "text": [
      "Epoch 1615: 272batch [00:08, 31.91batch/s, loss=7.72e+4]\n"
     ]
    },
    {
     "name": "stdout",
     "output_type": "stream",
     "text": [
      "epoch 1615: avg train loss 72967.25, bar train loss 209.997, len train loss 4.271, col train loss 135.601\n",
      "epoch 1615: avg test  loss 73406.70, bar  test loss 90.380, len  test loss 1.833, col  test loss 58.587\n"
     ]
    },
    {
     "name": "stderr",
     "output_type": "stream",
     "text": [
      "Epoch 1616: 272batch [00:08, 31.92batch/s, loss=8.39e+4]\n"
     ]
    },
    {
     "name": "stdout",
     "output_type": "stream",
     "text": [
      "epoch 1616: avg train loss 72966.45, bar train loss 209.995, len train loss 4.271, col train loss 135.606\n"
     ]
    },
    {
     "name": "stderr",
     "output_type": "stream",
     "text": [
      "Epoch 1617: 3batch [00:00, 29.70batch/s, loss=7.05e+4]"
     ]
    },
    {
     "name": "stdout",
     "output_type": "stream",
     "text": [
      "epoch 1616: avg test  loss 73365.46, bar  test loss 90.441, len  test loss 1.830, col  test loss 58.660\n"
     ]
    },
    {
     "name": "stderr",
     "output_type": "stream",
     "text": [
      "Epoch 1617: 272batch [00:08, 31.60batch/s, loss=7.19e+4]\n"
     ]
    },
    {
     "name": "stdout",
     "output_type": "stream",
     "text": [
      "epoch 1617: avg train loss 72969.38, bar train loss 210.012, len train loss 4.270, col train loss 135.541\n"
     ]
    },
    {
     "name": "stderr",
     "output_type": "stream",
     "text": [
      "Epoch 1618: 4batch [00:00, 30.53batch/s, loss=7.13e+4]"
     ]
    },
    {
     "name": "stdout",
     "output_type": "stream",
     "text": [
      "epoch 1617: avg test  loss 73350.57, bar  test loss 90.281, len  test loss 1.830, col  test loss 58.548\n"
     ]
    },
    {
     "name": "stderr",
     "output_type": "stream",
     "text": [
      "Epoch 1618: 272batch [00:08, 31.73batch/s, loss=6.86e+4]\n"
     ]
    },
    {
     "name": "stdout",
     "output_type": "stream",
     "text": [
      "epoch 1618: avg train loss 72973.67, bar train loss 210.013, len train loss 4.272, col train loss 135.581\n"
     ]
    },
    {
     "name": "stderr",
     "output_type": "stream",
     "text": [
      "Epoch 1619: 4batch [00:00, 31.25batch/s, loss=7.33e+4]"
     ]
    },
    {
     "name": "stdout",
     "output_type": "stream",
     "text": [
      "epoch 1618: avg test  loss 73416.55, bar  test loss 90.627, len  test loss 1.836, col  test loss 58.745\n"
     ]
    },
    {
     "name": "stderr",
     "output_type": "stream",
     "text": [
      "Epoch 1619: 272batch [00:08, 31.85batch/s, loss=7.23e+4]\n"
     ]
    },
    {
     "name": "stdout",
     "output_type": "stream",
     "text": [
      "epoch 1619: avg train loss 72959.05, bar train loss 209.977, len train loss 4.272, col train loss 135.531\n"
     ]
    },
    {
     "name": "stderr",
     "output_type": "stream",
     "text": [
      "Epoch 1620: 4batch [00:00, 30.53batch/s, loss=7.13e+4]"
     ]
    },
    {
     "name": "stdout",
     "output_type": "stream",
     "text": [
      "epoch 1619: avg test  loss 73380.95, bar  test loss 90.559, len  test loss 1.840, col  test loss 58.784\n"
     ]
    },
    {
     "name": "stderr",
     "output_type": "stream",
     "text": [
      "Epoch 1620: 272batch [00:08, 31.76batch/s, loss=7.46e+4]\n"
     ]
    },
    {
     "name": "stdout",
     "output_type": "stream",
     "text": [
      "epoch 1620: avg train loss 72967.09, bar train loss 210.018, len train loss 4.269, col train loss 135.580\n",
      "epoch 1620: avg test  loss 73408.16, bar  test loss 90.735, len  test loss 1.833, col  test loss 58.837\n"
     ]
    },
    {
     "name": "stderr",
     "output_type": "stream",
     "text": [
      "Epoch 1621: 272batch [00:08, 31.65batch/s, loss=7.15e+4]\n"
     ]
    },
    {
     "name": "stdout",
     "output_type": "stream",
     "text": [
      "epoch 1621: avg train loss 72964.90, bar train loss 210.000, len train loss 4.273, col train loss 135.557\n"
     ]
    },
    {
     "name": "stderr",
     "output_type": "stream",
     "text": [
      "Epoch 1622: 4batch [00:00, 30.53batch/s, loss=7.29e+4]"
     ]
    },
    {
     "name": "stdout",
     "output_type": "stream",
     "text": [
      "epoch 1621: avg test  loss 73387.21, bar  test loss 90.519, len  test loss 1.834, col  test loss 58.711\n"
     ]
    },
    {
     "name": "stderr",
     "output_type": "stream",
     "text": [
      "Epoch 1622: 272batch [00:08, 31.72batch/s, loss=7.12e+4]\n"
     ]
    },
    {
     "name": "stdout",
     "output_type": "stream",
     "text": [
      "epoch 1622: avg train loss 72962.23, bar train loss 210.016, len train loss 4.271, col train loss 135.524\n"
     ]
    },
    {
     "name": "stderr",
     "output_type": "stream",
     "text": [
      "Epoch 1623: 3batch [00:00, 28.85batch/s, loss=6.95e+4]"
     ]
    },
    {
     "name": "stdout",
     "output_type": "stream",
     "text": [
      "epoch 1622: avg test  loss 73330.72, bar  test loss 90.389, len  test loss 1.836, col  test loss 58.588\n"
     ]
    },
    {
     "name": "stderr",
     "output_type": "stream",
     "text": [
      "Epoch 1623: 272batch [00:08, 31.57batch/s, loss=7.16e+4]\n"
     ]
    },
    {
     "name": "stdout",
     "output_type": "stream",
     "text": [
      "epoch 1623: avg train loss 72967.58, bar train loss 210.038, len train loss 4.269, col train loss 135.572\n"
     ]
    },
    {
     "name": "stderr",
     "output_type": "stream",
     "text": [
      "Epoch 1624: 3batch [00:00, 29.41batch/s, loss=7.28e+4]"
     ]
    },
    {
     "name": "stdout",
     "output_type": "stream",
     "text": [
      "epoch 1623: avg test  loss 73395.38, bar  test loss 90.566, len  test loss 1.833, col  test loss 58.730\n"
     ]
    },
    {
     "name": "stderr",
     "output_type": "stream",
     "text": [
      "Epoch 1624: 272batch [00:08, 31.75batch/s, loss=7.84e+4]\n"
     ]
    },
    {
     "name": "stdout",
     "output_type": "stream",
     "text": [
      "epoch 1624: avg train loss 72972.32, bar train loss 210.014, len train loss 4.270, col train loss 135.607\n"
     ]
    },
    {
     "name": "stderr",
     "output_type": "stream",
     "text": [
      "Epoch 1625: 3batch [00:00, 29.13batch/s, loss=7.34e+4]"
     ]
    },
    {
     "name": "stdout",
     "output_type": "stream",
     "text": [
      "epoch 1624: avg test  loss 73408.84, bar  test loss 90.376, len  test loss 1.835, col  test loss 58.601\n"
     ]
    },
    {
     "name": "stderr",
     "output_type": "stream",
     "text": [
      "Epoch 1625: 272batch [00:08, 31.74batch/s, loss=7.06e+4]\n"
     ]
    },
    {
     "name": "stdout",
     "output_type": "stream",
     "text": [
      "epoch 1625: avg train loss 72958.66, bar train loss 209.978, len train loss 4.272, col train loss 135.517\n",
      "epoch 1625: avg test  loss 73358.34, bar  test loss 90.251, len  test loss 1.832, col  test loss 58.380\n"
     ]
    },
    {
     "name": "stderr",
     "output_type": "stream",
     "text": [
      "Epoch 1626: 272batch [00:08, 31.51batch/s, loss=7.09e+4]\n"
     ]
    },
    {
     "name": "stdout",
     "output_type": "stream",
     "text": [
      "epoch 1626: avg train loss 72958.05, bar train loss 209.959, len train loss 4.270, col train loss 135.534\n"
     ]
    },
    {
     "name": "stderr",
     "output_type": "stream",
     "text": [
      "Epoch 1627: 3batch [00:00, 29.70batch/s, loss=7.42e+4]"
     ]
    },
    {
     "name": "stdout",
     "output_type": "stream",
     "text": [
      "epoch 1626: avg test  loss 73372.00, bar  test loss 90.541, len  test loss 1.833, col  test loss 58.825\n"
     ]
    },
    {
     "name": "stderr",
     "output_type": "stream",
     "text": [
      "Epoch 1627: 272batch [00:08, 31.77batch/s, loss=7.33e+4]\n"
     ]
    },
    {
     "name": "stdout",
     "output_type": "stream",
     "text": [
      "epoch 1627: avg train loss 72964.61, bar train loss 209.958, len train loss 4.271, col train loss 135.533\n"
     ]
    },
    {
     "name": "stderr",
     "output_type": "stream",
     "text": [
      "Epoch 1628: 4batch [00:00, 31.01batch/s, loss=7.17e+4]"
     ]
    },
    {
     "name": "stdout",
     "output_type": "stream",
     "text": [
      "epoch 1627: avg test  loss 73355.30, bar  test loss 90.474, len  test loss 1.831, col  test loss 58.618\n"
     ]
    },
    {
     "name": "stderr",
     "output_type": "stream",
     "text": [
      "Epoch 1628: 272batch [00:08, 31.68batch/s, loss=6.91e+4]\n"
     ]
    },
    {
     "name": "stdout",
     "output_type": "stream",
     "text": [
      "epoch 1628: avg train loss 72957.05, bar train loss 210.003, len train loss 4.270, col train loss 135.567\n"
     ]
    },
    {
     "name": "stderr",
     "output_type": "stream",
     "text": [
      "Epoch 1629: 3batch [00:00, 30.00batch/s, loss=7.49e+4]"
     ]
    },
    {
     "name": "stdout",
     "output_type": "stream",
     "text": [
      "epoch 1628: avg test  loss 73391.70, bar  test loss 90.268, len  test loss 1.826, col  test loss 58.485\n"
     ]
    },
    {
     "name": "stderr",
     "output_type": "stream",
     "text": [
      "Epoch 1629: 272batch [00:08, 31.62batch/s, loss=7.7e+4] \n"
     ]
    },
    {
     "name": "stdout",
     "output_type": "stream",
     "text": [
      "epoch 1629: avg train loss 72961.68, bar train loss 209.985, len train loss 4.270, col train loss 135.544\n"
     ]
    },
    {
     "name": "stderr",
     "output_type": "stream",
     "text": [
      "Epoch 1630: 3batch [00:00, 29.71batch/s, loss=7.2e+4] "
     ]
    },
    {
     "name": "stdout",
     "output_type": "stream",
     "text": [
      "epoch 1629: avg test  loss 73336.41, bar  test loss 90.247, len  test loss 1.828, col  test loss 58.562\n"
     ]
    },
    {
     "name": "stderr",
     "output_type": "stream",
     "text": [
      "Epoch 1630: 272batch [00:08, 31.45batch/s, loss=7.26e+4]\n"
     ]
    },
    {
     "name": "stdout",
     "output_type": "stream",
     "text": [
      "epoch 1630: avg train loss 72957.69, bar train loss 209.964, len train loss 4.272, col train loss 135.552\n",
      "epoch 1630: avg test  loss 73445.70, bar  test loss 90.702, len  test loss 1.840, col  test loss 58.669\n"
     ]
    },
    {
     "name": "stderr",
     "output_type": "stream",
     "text": [
      "Epoch 1631: 272batch [00:08, 31.51batch/s, loss=7.22e+4]\n"
     ]
    },
    {
     "name": "stdout",
     "output_type": "stream",
     "text": [
      "epoch 1631: avg train loss 72963.89, bar train loss 209.997, len train loss 4.271, col train loss 135.537\n"
     ]
    },
    {
     "name": "stderr",
     "output_type": "stream",
     "text": [
      "Epoch 1632: 3batch [00:00, 28.57batch/s, loss=7.39e+4]"
     ]
    },
    {
     "name": "stdout",
     "output_type": "stream",
     "text": [
      "epoch 1631: avg test  loss 73358.89, bar  test loss 90.456, len  test loss 1.837, col  test loss 58.582\n"
     ]
    },
    {
     "name": "stderr",
     "output_type": "stream",
     "text": [
      "Epoch 1632: 272batch [00:08, 31.39batch/s, loss=7.23e+4]\n"
     ]
    },
    {
     "name": "stdout",
     "output_type": "stream",
     "text": [
      "epoch 1632: avg train loss 72954.35, bar train loss 209.981, len train loss 4.268, col train loss 135.534\n"
     ]
    },
    {
     "name": "stderr",
     "output_type": "stream",
     "text": [
      "Epoch 1633: 3batch [00:00, 30.00batch/s, loss=7.47e+4]"
     ]
    },
    {
     "name": "stdout",
     "output_type": "stream",
     "text": [
      "epoch 1632: avg test  loss 73405.52, bar  test loss 90.406, len  test loss 1.830, col  test loss 58.621\n"
     ]
    },
    {
     "name": "stderr",
     "output_type": "stream",
     "text": [
      "Epoch 1633: 272batch [00:08, 31.26batch/s, loss=6.85e+4]\n"
     ]
    },
    {
     "name": "stdout",
     "output_type": "stream",
     "text": [
      "epoch 1633: avg train loss 72961.88, bar train loss 210.019, len train loss 4.273, col train loss 135.598\n"
     ]
    },
    {
     "name": "stderr",
     "output_type": "stream",
     "text": [
      "Epoch 1634: 3batch [00:00, 28.85batch/s, loss=7.49e+4]"
     ]
    },
    {
     "name": "stdout",
     "output_type": "stream",
     "text": [
      "epoch 1633: avg test  loss 73379.48, bar  test loss 90.531, len  test loss 1.830, col  test loss 58.662\n"
     ]
    },
    {
     "name": "stderr",
     "output_type": "stream",
     "text": [
      "Epoch 1634: 272batch [00:08, 31.00batch/s, loss=7.06e+4]\n"
     ]
    },
    {
     "name": "stdout",
     "output_type": "stream",
     "text": [
      "epoch 1634: avg train loss 72962.53, bar train loss 210.010, len train loss 4.271, col train loss 135.538\n"
     ]
    },
    {
     "name": "stderr",
     "output_type": "stream",
     "text": [
      "Epoch 1635: 3batch [00:00, 27.52batch/s, loss=7.19e+4]"
     ]
    },
    {
     "name": "stdout",
     "output_type": "stream",
     "text": [
      "epoch 1634: avg test  loss 73364.99, bar  test loss 90.400, len  test loss 1.828, col  test loss 58.542\n"
     ]
    },
    {
     "name": "stderr",
     "output_type": "stream",
     "text": [
      "Epoch 1635: 272batch [00:08, 31.25batch/s, loss=7.31e+4]\n"
     ]
    },
    {
     "name": "stdout",
     "output_type": "stream",
     "text": [
      "epoch 1635: avg train loss 72957.91, bar train loss 209.996, len train loss 4.270, col train loss 135.535\n",
      "epoch 1635: avg test  loss 73359.93, bar  test loss 90.270, len  test loss 1.831, col  test loss 58.459\n"
     ]
    },
    {
     "name": "stderr",
     "output_type": "stream",
     "text": [
      "Epoch 1636: 272batch [00:08, 31.34batch/s, loss=6.67e+4]\n"
     ]
    },
    {
     "name": "stdout",
     "output_type": "stream",
     "text": [
      "epoch 1636: avg train loss 72957.20, bar train loss 209.987, len train loss 4.270, col train loss 135.538\n"
     ]
    },
    {
     "name": "stderr",
     "output_type": "stream",
     "text": [
      "Epoch 1637: 4batch [00:00, 30.30batch/s, loss=7.19e+4]"
     ]
    },
    {
     "name": "stdout",
     "output_type": "stream",
     "text": [
      "epoch 1636: avg test  loss 73354.48, bar  test loss 90.308, len  test loss 1.835, col  test loss 58.537\n"
     ]
    },
    {
     "name": "stderr",
     "output_type": "stream",
     "text": [
      "Epoch 1637: 272batch [00:08, 31.28batch/s, loss=7.41e+4]\n"
     ]
    },
    {
     "name": "stdout",
     "output_type": "stream",
     "text": [
      "epoch 1637: avg train loss 72954.99, bar train loss 209.972, len train loss 4.271, col train loss 135.513\n"
     ]
    },
    {
     "name": "stderr",
     "output_type": "stream",
     "text": [
      "Epoch 1638: 3batch [00:00, 27.78batch/s, loss=7.23e+4]"
     ]
    },
    {
     "name": "stdout",
     "output_type": "stream",
     "text": [
      "epoch 1637: avg test  loss 73345.29, bar  test loss 90.531, len  test loss 1.837, col  test loss 58.600\n"
     ]
    },
    {
     "name": "stderr",
     "output_type": "stream",
     "text": [
      "Epoch 1638: 272batch [00:08, 31.25batch/s, loss=7.22e+4]\n"
     ]
    },
    {
     "name": "stdout",
     "output_type": "stream",
     "text": [
      "epoch 1638: avg train loss 72951.95, bar train loss 209.956, len train loss 4.271, col train loss 135.525\n"
     ]
    },
    {
     "name": "stderr",
     "output_type": "stream",
     "text": [
      "Epoch 1639: 3batch [00:00, 29.13batch/s, loss=7.23e+4]"
     ]
    },
    {
     "name": "stdout",
     "output_type": "stream",
     "text": [
      "epoch 1638: avg test  loss 73348.98, bar  test loss 90.417, len  test loss 1.833, col  test loss 58.585\n"
     ]
    },
    {
     "name": "stderr",
     "output_type": "stream",
     "text": [
      "Epoch 1639: 272batch [00:08, 31.31batch/s, loss=7.18e+4]\n"
     ]
    },
    {
     "name": "stdout",
     "output_type": "stream",
     "text": [
      "epoch 1639: avg train loss 72955.14, bar train loss 209.966, len train loss 4.273, col train loss 135.547\n"
     ]
    },
    {
     "name": "stderr",
     "output_type": "stream",
     "text": [
      "Epoch 1640: 3batch [00:00, 29.70batch/s, loss=7.27e+4]"
     ]
    },
    {
     "name": "stdout",
     "output_type": "stream",
     "text": [
      "epoch 1639: avg test  loss 73399.27, bar  test loss 90.482, len  test loss 1.826, col  test loss 58.671\n"
     ]
    },
    {
     "name": "stderr",
     "output_type": "stream",
     "text": [
      "Epoch 1640: 272batch [00:08, 31.16batch/s, loss=7.36e+4]\n"
     ]
    },
    {
     "name": "stdout",
     "output_type": "stream",
     "text": [
      "epoch 1640: avg train loss 72958.73, bar train loss 209.994, len train loss 4.269, col train loss 135.527\n",
      "epoch 1640: avg test  loss 73365.53, bar  test loss 90.292, len  test loss 1.827, col  test loss 58.517\n"
     ]
    },
    {
     "name": "stderr",
     "output_type": "stream",
     "text": [
      "Epoch 1641: 272batch [00:08, 31.19batch/s, loss=6.87e+4]\n"
     ]
    },
    {
     "name": "stdout",
     "output_type": "stream",
     "text": [
      "epoch 1641: avg train loss 72960.38, bar train loss 210.012, len train loss 4.270, col train loss 135.549\n"
     ]
    },
    {
     "name": "stderr",
     "output_type": "stream",
     "text": [
      "Epoch 1642: 4batch [00:00, 30.77batch/s, loss=7.45e+4]"
     ]
    },
    {
     "name": "stdout",
     "output_type": "stream",
     "text": [
      "epoch 1641: avg test  loss 73376.12, bar  test loss 90.421, len  test loss 1.836, col  test loss 58.653\n"
     ]
    },
    {
     "name": "stderr",
     "output_type": "stream",
     "text": [
      "Epoch 1642: 272batch [00:08, 31.13batch/s, loss=6.84e+4]\n"
     ]
    },
    {
     "name": "stdout",
     "output_type": "stream",
     "text": [
      "epoch 1642: avg train loss 72965.36, bar train loss 209.981, len train loss 4.270, col train loss 135.515\n"
     ]
    },
    {
     "name": "stderr",
     "output_type": "stream",
     "text": [
      "Epoch 1643: 3batch [00:00, 29.42batch/s, loss=7.39e+4]"
     ]
    },
    {
     "name": "stdout",
     "output_type": "stream",
     "text": [
      "epoch 1642: avg test  loss 73347.05, bar  test loss 90.491, len  test loss 1.833, col  test loss 58.653\n"
     ]
    },
    {
     "name": "stderr",
     "output_type": "stream",
     "text": [
      "Epoch 1643: 272batch [00:08, 31.09batch/s, loss=7.23e+4]\n"
     ]
    },
    {
     "name": "stdout",
     "output_type": "stream",
     "text": [
      "epoch 1643: avg train loss 72952.70, bar train loss 209.948, len train loss 4.272, col train loss 135.525\n"
     ]
    },
    {
     "name": "stderr",
     "output_type": "stream",
     "text": [
      "Epoch 1644: 3batch [00:00, 29.71batch/s, loss=7.73e+4]"
     ]
    },
    {
     "name": "stdout",
     "output_type": "stream",
     "text": [
      "epoch 1643: avg test  loss 73337.11, bar  test loss 90.317, len  test loss 1.835, col  test loss 58.614\n"
     ]
    },
    {
     "name": "stderr",
     "output_type": "stream",
     "text": [
      "Epoch 1644: 272batch [00:08, 30.88batch/s, loss=7.44e+4]\n"
     ]
    },
    {
     "name": "stdout",
     "output_type": "stream",
     "text": [
      "epoch 1644: avg train loss 72950.72, bar train loss 209.949, len train loss 4.270, col train loss 135.537\n"
     ]
    },
    {
     "name": "stderr",
     "output_type": "stream",
     "text": [
      "Epoch 1645: 3batch [00:00, 29.13batch/s, loss=7.19e+4]"
     ]
    },
    {
     "name": "stdout",
     "output_type": "stream",
     "text": [
      "epoch 1644: avg test  loss 73377.77, bar  test loss 90.447, len  test loss 1.835, col  test loss 58.660\n"
     ]
    },
    {
     "name": "stderr",
     "output_type": "stream",
     "text": [
      "Epoch 1645: 272batch [00:08, 31.06batch/s, loss=7.09e+4]\n"
     ]
    },
    {
     "name": "stdout",
     "output_type": "stream",
     "text": [
      "epoch 1645: avg train loss 72952.66, bar train loss 209.910, len train loss 4.269, col train loss 135.530\n",
      "epoch 1645: avg test  loss 73368.44, bar  test loss 90.425, len  test loss 1.830, col  test loss 58.499\n"
     ]
    },
    {
     "name": "stderr",
     "output_type": "stream",
     "text": [
      "Epoch 1646: 272batch [00:08, 31.11batch/s, loss=7.35e+4]\n"
     ]
    },
    {
     "name": "stdout",
     "output_type": "stream",
     "text": [
      "epoch 1646: avg train loss 72959.05, bar train loss 209.975, len train loss 4.269, col train loss 135.502\n"
     ]
    },
    {
     "name": "stderr",
     "output_type": "stream",
     "text": [
      "Epoch 1647: 3batch [00:00, 29.13batch/s, loss=7.14e+4]"
     ]
    },
    {
     "name": "stdout",
     "output_type": "stream",
     "text": [
      "epoch 1646: avg test  loss 73366.05, bar  test loss 90.426, len  test loss 1.831, col  test loss 58.574\n"
     ]
    },
    {
     "name": "stderr",
     "output_type": "stream",
     "text": [
      "Epoch 1647: 272batch [00:08, 31.22batch/s, loss=7.51e+4]\n"
     ]
    },
    {
     "name": "stdout",
     "output_type": "stream",
     "text": [
      "epoch 1647: avg train loss 72955.81, bar train loss 209.996, len train loss 4.269, col train loss 135.523\n"
     ]
    },
    {
     "name": "stderr",
     "output_type": "stream",
     "text": [
      "Epoch 1648: 3batch [00:00, 29.41batch/s, loss=7.51e+4]"
     ]
    },
    {
     "name": "stdout",
     "output_type": "stream",
     "text": [
      "epoch 1647: avg test  loss 73383.42, bar  test loss 90.274, len  test loss 1.839, col  test loss 58.485\n"
     ]
    },
    {
     "name": "stderr",
     "output_type": "stream",
     "text": [
      "Epoch 1648: 272batch [00:08, 31.77batch/s, loss=7.57e+4]\n"
     ]
    },
    {
     "name": "stdout",
     "output_type": "stream",
     "text": [
      "epoch 1648: avg train loss 72950.24, bar train loss 209.942, len train loss 4.271, col train loss 135.543\n"
     ]
    },
    {
     "name": "stderr",
     "output_type": "stream",
     "text": [
      "Epoch 1649: 3batch [00:00, 27.78batch/s, loss=7.16e+4]"
     ]
    },
    {
     "name": "stdout",
     "output_type": "stream",
     "text": [
      "epoch 1648: avg test  loss 73359.39, bar  test loss 90.240, len  test loss 1.833, col  test loss 58.489\n"
     ]
    },
    {
     "name": "stderr",
     "output_type": "stream",
     "text": [
      "Epoch 1649: 272batch [00:08, 31.05batch/s, loss=7.18e+4]\n"
     ]
    },
    {
     "name": "stdout",
     "output_type": "stream",
     "text": [
      "epoch 1649: avg train loss 72951.41, bar train loss 209.919, len train loss 4.270, col train loss 135.520\n"
     ]
    },
    {
     "name": "stderr",
     "output_type": "stream",
     "text": [
      "Epoch 1650: 3batch [00:00, 28.30batch/s, loss=7.6e+4] "
     ]
    },
    {
     "name": "stdout",
     "output_type": "stream",
     "text": [
      "epoch 1649: avg test  loss 73335.90, bar  test loss 90.404, len  test loss 1.831, col  test loss 58.603\n"
     ]
    },
    {
     "name": "stderr",
     "output_type": "stream",
     "text": [
      "Epoch 1650: 272batch [00:08, 31.79batch/s, loss=7.09e+4]\n"
     ]
    },
    {
     "name": "stdout",
     "output_type": "stream",
     "text": [
      "epoch 1650: avg train loss 72950.49, bar train loss 209.932, len train loss 4.269, col train loss 135.475\n",
      "epoch 1650: avg test  loss 73432.89, bar  test loss 90.418, len  test loss 1.829, col  test loss 58.750\n"
     ]
    },
    {
     "name": "stderr",
     "output_type": "stream",
     "text": [
      "Epoch 1651: 272batch [00:08, 31.86batch/s, loss=8.3e+4] \n"
     ]
    },
    {
     "name": "stdout",
     "output_type": "stream",
     "text": [
      "epoch 1651: avg train loss 72958.50, bar train loss 209.967, len train loss 4.269, col train loss 135.587\n"
     ]
    },
    {
     "name": "stderr",
     "output_type": "stream",
     "text": [
      "Epoch 1652: 4batch [00:00, 30.77batch/s, loss=7.03e+4]"
     ]
    },
    {
     "name": "stdout",
     "output_type": "stream",
     "text": [
      "epoch 1651: avg test  loss 73384.37, bar  test loss 90.201, len  test loss 1.830, col  test loss 58.538\n"
     ]
    },
    {
     "name": "stderr",
     "output_type": "stream",
     "text": [
      "Epoch 1652: 272batch [00:08, 31.20batch/s, loss=7.08e+4]\n"
     ]
    },
    {
     "name": "stdout",
     "output_type": "stream",
     "text": [
      "epoch 1652: avg train loss 72953.45, bar train loss 209.970, len train loss 4.270, col train loss 135.545\n"
     ]
    },
    {
     "name": "stderr",
     "output_type": "stream",
     "text": [
      "Epoch 1653: 3batch [00:00, 30.00batch/s, loss=7.27e+4]"
     ]
    },
    {
     "name": "stdout",
     "output_type": "stream",
     "text": [
      "epoch 1652: avg test  loss 73359.75, bar  test loss 90.353, len  test loss 1.834, col  test loss 58.497\n"
     ]
    },
    {
     "name": "stderr",
     "output_type": "stream",
     "text": [
      "Epoch 1653: 272batch [00:08, 31.52batch/s, loss=7.01e+4]\n"
     ]
    },
    {
     "name": "stdout",
     "output_type": "stream",
     "text": [
      "epoch 1653: avg train loss 72951.89, bar train loss 209.973, len train loss 4.272, col train loss 135.510\n"
     ]
    },
    {
     "name": "stderr",
     "output_type": "stream",
     "text": [
      "Epoch 1654: 3batch [00:00, 28.85batch/s, loss=7.26e+4]"
     ]
    },
    {
     "name": "stdout",
     "output_type": "stream",
     "text": [
      "epoch 1653: avg test  loss 73361.47, bar  test loss 90.407, len  test loss 1.830, col  test loss 58.618\n"
     ]
    },
    {
     "name": "stderr",
     "output_type": "stream",
     "text": [
      "Epoch 1654: 272batch [00:08, 31.81batch/s, loss=7.74e+4]\n"
     ]
    },
    {
     "name": "stdout",
     "output_type": "stream",
     "text": [
      "epoch 1654: avg train loss 72949.62, bar train loss 209.961, len train loss 4.272, col train loss 135.512\n"
     ]
    },
    {
     "name": "stderr",
     "output_type": "stream",
     "text": [
      "Epoch 1655: 3batch [00:00, 27.52batch/s, loss=7.6e+4] "
     ]
    },
    {
     "name": "stdout",
     "output_type": "stream",
     "text": [
      "epoch 1654: avg test  loss 73382.95, bar  test loss 90.301, len  test loss 1.834, col  test loss 58.603\n"
     ]
    },
    {
     "name": "stderr",
     "output_type": "stream",
     "text": [
      "Epoch 1655: 272batch [00:08, 31.43batch/s, loss=7.17e+4]\n"
     ]
    },
    {
     "name": "stdout",
     "output_type": "stream",
     "text": [
      "epoch 1655: avg train loss 72954.06, bar train loss 209.918, len train loss 4.270, col train loss 135.501\n",
      "epoch 1655: avg test  loss 73320.73, bar  test loss 90.379, len  test loss 1.826, col  test loss 58.578\n"
     ]
    },
    {
     "name": "stderr",
     "output_type": "stream",
     "text": [
      "Epoch 1656: 272batch [00:08, 32.05batch/s, loss=7e+4]   \n"
     ]
    },
    {
     "name": "stdout",
     "output_type": "stream",
     "text": [
      "epoch 1656: avg train loss 72944.29, bar train loss 209.925, len train loss 4.268, col train loss 135.482\n"
     ]
    },
    {
     "name": "stderr",
     "output_type": "stream",
     "text": [
      "Epoch 1657: 3batch [00:00, 29.70batch/s, loss=7.18e+4]"
     ]
    },
    {
     "name": "stdout",
     "output_type": "stream",
     "text": [
      "epoch 1656: avg test  loss 73331.91, bar  test loss 90.382, len  test loss 1.831, col  test loss 58.506\n"
     ]
    },
    {
     "name": "stderr",
     "output_type": "stream",
     "text": [
      "Epoch 1657: 272batch [00:08, 32.28batch/s, loss=6.8e+4] \n"
     ]
    },
    {
     "name": "stdout",
     "output_type": "stream",
     "text": [
      "epoch 1657: avg train loss 72945.93, bar train loss 209.949, len train loss 4.271, col train loss 135.497\n"
     ]
    },
    {
     "name": "stderr",
     "output_type": "stream",
     "text": [
      "Epoch 1658: 4batch [00:00, 32.00batch/s, loss=7.18e+4]"
     ]
    },
    {
     "name": "stdout",
     "output_type": "stream",
     "text": [
      "epoch 1657: avg test  loss 73357.81, bar  test loss 90.258, len  test loss 1.829, col  test loss 58.558\n"
     ]
    },
    {
     "name": "stderr",
     "output_type": "stream",
     "text": [
      "Epoch 1658: 272batch [00:08, 32.50batch/s, loss=7.35e+4]\n"
     ]
    },
    {
     "name": "stdout",
     "output_type": "stream",
     "text": [
      "epoch 1658: avg train loss 72952.89, bar train loss 209.962, len train loss 4.270, col train loss 135.488\n"
     ]
    },
    {
     "name": "stderr",
     "output_type": "stream",
     "text": [
      "Epoch 1659: 4batch [00:00, 30.77batch/s, loss=7.25e+4]"
     ]
    },
    {
     "name": "stdout",
     "output_type": "stream",
     "text": [
      "epoch 1658: avg test  loss 73392.04, bar  test loss 90.491, len  test loss 1.829, col  test loss 58.575\n"
     ]
    },
    {
     "name": "stderr",
     "output_type": "stream",
     "text": [
      "Epoch 1659: 272batch [00:08, 32.49batch/s, loss=7.91e+4]\n"
     ]
    },
    {
     "name": "stdout",
     "output_type": "stream",
     "text": [
      "epoch 1659: avg train loss 72954.74, bar train loss 209.963, len train loss 4.270, col train loss 135.531\n"
     ]
    },
    {
     "name": "stderr",
     "output_type": "stream",
     "text": [
      "Epoch 1660: 4batch [00:00, 30.77batch/s, loss=7.42e+4]"
     ]
    },
    {
     "name": "stdout",
     "output_type": "stream",
     "text": [
      "epoch 1659: avg test  loss 73344.84, bar  test loss 90.336, len  test loss 1.832, col  test loss 58.580\n"
     ]
    },
    {
     "name": "stderr",
     "output_type": "stream",
     "text": [
      "Epoch 1660: 272batch [00:08, 32.36batch/s, loss=6.93e+4]\n"
     ]
    },
    {
     "name": "stdout",
     "output_type": "stream",
     "text": [
      "epoch 1660: avg train loss 72944.41, bar train loss 209.960, len train loss 4.272, col train loss 135.502\n",
      "epoch 1660: avg test  loss 73337.12, bar  test loss 90.371, len  test loss 1.830, col  test loss 58.629\n"
     ]
    },
    {
     "name": "stderr",
     "output_type": "stream",
     "text": [
      "Epoch 1661: 272batch [00:08, 32.00batch/s, loss=6.88e+4]\n"
     ]
    },
    {
     "name": "stdout",
     "output_type": "stream",
     "text": [
      "epoch 1661: avg train loss 72956.50, bar train loss 209.943, len train loss 4.269, col train loss 135.497\n"
     ]
    },
    {
     "name": "stderr",
     "output_type": "stream",
     "text": [
      "Epoch 1662: 3batch [00:00, 29.70batch/s, loss=7.42e+4]"
     ]
    },
    {
     "name": "stdout",
     "output_type": "stream",
     "text": [
      "epoch 1661: avg test  loss 73349.15, bar  test loss 90.306, len  test loss 1.835, col  test loss 58.488\n"
     ]
    },
    {
     "name": "stderr",
     "output_type": "stream",
     "text": [
      "Epoch 1662: 272batch [00:08, 32.13batch/s, loss=7.26e+4]\n"
     ]
    },
    {
     "name": "stdout",
     "output_type": "stream",
     "text": [
      "epoch 1662: avg train loss 72948.00, bar train loss 209.957, len train loss 4.269, col train loss 135.504\n"
     ]
    },
    {
     "name": "stderr",
     "output_type": "stream",
     "text": [
      "Epoch 1663: 3batch [00:00, 29.71batch/s, loss=72297.0]"
     ]
    },
    {
     "name": "stdout",
     "output_type": "stream",
     "text": [
      "epoch 1662: avg test  loss 73356.17, bar  test loss 90.419, len  test loss 1.829, col  test loss 58.602\n"
     ]
    },
    {
     "name": "stderr",
     "output_type": "stream",
     "text": [
      "Epoch 1663: 272batch [00:08, 32.21batch/s, loss=7.25e+4]\n"
     ]
    },
    {
     "name": "stdout",
     "output_type": "stream",
     "text": [
      "epoch 1663: avg train loss 72941.68, bar train loss 209.928, len train loss 4.268, col train loss 135.463\n"
     ]
    },
    {
     "name": "stderr",
     "output_type": "stream",
     "text": [
      "Epoch 1664: 3batch [00:00, 29.70batch/s, loss=7.15e+4]"
     ]
    },
    {
     "name": "stdout",
     "output_type": "stream",
     "text": [
      "epoch 1663: avg test  loss 73368.67, bar  test loss 90.413, len  test loss 1.838, col  test loss 58.687\n"
     ]
    },
    {
     "name": "stderr",
     "output_type": "stream",
     "text": [
      "Epoch 1664: 272batch [00:08, 32.05batch/s, loss=6.48e+4]\n"
     ]
    },
    {
     "name": "stdout",
     "output_type": "stream",
     "text": [
      "epoch 1664: avg train loss 72951.78, bar train loss 209.934, len train loss 4.271, col train loss 135.518\n"
     ]
    },
    {
     "name": "stderr",
     "output_type": "stream",
     "text": [
      "Epoch 1665: 3batch [00:00, 29.41batch/s, loss=7.35e+4]"
     ]
    },
    {
     "name": "stdout",
     "output_type": "stream",
     "text": [
      "epoch 1664: avg test  loss 73339.58, bar  test loss 90.220, len  test loss 1.829, col  test loss 58.467\n"
     ]
    },
    {
     "name": "stderr",
     "output_type": "stream",
     "text": [
      "Epoch 1665: 272batch [00:08, 31.35batch/s, loss=7.4e+4] \n"
     ]
    },
    {
     "name": "stdout",
     "output_type": "stream",
     "text": [
      "epoch 1665: avg train loss 72944.80, bar train loss 209.958, len train loss 4.269, col train loss 135.468\n",
      "epoch 1665: avg test  loss 73348.27, bar  test loss 90.336, len  test loss 1.826, col  test loss 58.490\n"
     ]
    },
    {
     "name": "stderr",
     "output_type": "stream",
     "text": [
      "Epoch 1666: 272batch [00:08, 31.72batch/s, loss=7.34e+4]\n"
     ]
    },
    {
     "name": "stdout",
     "output_type": "stream",
     "text": [
      "epoch 1666: avg train loss 72947.88, bar train loss 209.939, len train loss 4.270, col train loss 135.471\n"
     ]
    },
    {
     "name": "stderr",
     "output_type": "stream",
     "text": [
      "Epoch 1667: 3batch [00:00, 29.70batch/s, loss=7.62e+4]"
     ]
    },
    {
     "name": "stdout",
     "output_type": "stream",
     "text": [
      "epoch 1666: avg test  loss 73329.18, bar  test loss 90.340, len  test loss 1.831, col  test loss 58.521\n"
     ]
    },
    {
     "name": "stderr",
     "output_type": "stream",
     "text": [
      "Epoch 1667: 272batch [00:08, 31.53batch/s, loss=6.44e+4]\n"
     ]
    },
    {
     "name": "stdout",
     "output_type": "stream",
     "text": [
      "epoch 1667: avg train loss 72936.98, bar train loss 209.900, len train loss 4.268, col train loss 135.481\n"
     ]
    },
    {
     "name": "stderr",
     "output_type": "stream",
     "text": [
      "Epoch 1668: 3batch [00:00, 28.85batch/s, loss=7.31e+4]"
     ]
    },
    {
     "name": "stdout",
     "output_type": "stream",
     "text": [
      "epoch 1667: avg test  loss 73349.24, bar  test loss 90.386, len  test loss 1.831, col  test loss 58.588\n"
     ]
    },
    {
     "name": "stderr",
     "output_type": "stream",
     "text": [
      "Epoch 1668: 272batch [00:08, 31.98batch/s, loss=8.22e+4]\n"
     ]
    },
    {
     "name": "stdout",
     "output_type": "stream",
     "text": [
      "epoch 1668: avg train loss 72947.20, bar train loss 209.925, len train loss 4.268, col train loss 135.494\n"
     ]
    },
    {
     "name": "stderr",
     "output_type": "stream",
     "text": [
      "Epoch 1669: 3batch [00:00, 29.41batch/s, loss=7.47e+4]"
     ]
    },
    {
     "name": "stdout",
     "output_type": "stream",
     "text": [
      "epoch 1668: avg test  loss 73366.89, bar  test loss 90.347, len  test loss 1.828, col  test loss 58.592\n"
     ]
    },
    {
     "name": "stderr",
     "output_type": "stream",
     "text": [
      "Epoch 1669: 272batch [00:08, 31.96batch/s, loss=6.64e+4]\n"
     ]
    },
    {
     "name": "stdout",
     "output_type": "stream",
     "text": [
      "epoch 1669: avg train loss 72954.52, bar train loss 209.948, len train loss 4.269, col train loss 135.503\n"
     ]
    },
    {
     "name": "stderr",
     "output_type": "stream",
     "text": [
      "Epoch 1670: 4batch [00:00, 30.53batch/s, loss=7.34e+4]"
     ]
    },
    {
     "name": "stdout",
     "output_type": "stream",
     "text": [
      "epoch 1669: avg test  loss 73367.77, bar  test loss 90.487, len  test loss 1.835, col  test loss 58.752\n"
     ]
    },
    {
     "name": "stderr",
     "output_type": "stream",
     "text": [
      "Epoch 1670: 272batch [00:08, 31.92batch/s, loss=6.72e+4]\n"
     ]
    },
    {
     "name": "stdout",
     "output_type": "stream",
     "text": [
      "epoch 1670: avg train loss 72944.76, bar train loss 209.925, len train loss 4.269, col train loss 135.500\n",
      "epoch 1670: avg test  loss 73444.49, bar  test loss 90.598, len  test loss 1.831, col  test loss 58.688\n"
     ]
    },
    {
     "name": "stderr",
     "output_type": "stream",
     "text": [
      "Epoch 1671: 272batch [00:08, 31.98batch/s, loss=6.98e+4]\n"
     ]
    },
    {
     "name": "stdout",
     "output_type": "stream",
     "text": [
      "epoch 1671: avg train loss 72947.82, bar train loss 209.931, len train loss 4.270, col train loss 135.492\n"
     ]
    },
    {
     "name": "stderr",
     "output_type": "stream",
     "text": [
      "Epoch 1672: 3batch [00:00, 30.00batch/s, loss=7.12e+4]"
     ]
    },
    {
     "name": "stdout",
     "output_type": "stream",
     "text": [
      "epoch 1671: avg test  loss 73357.38, bar  test loss 90.442, len  test loss 1.837, col  test loss 58.627\n"
     ]
    },
    {
     "name": "stderr",
     "output_type": "stream",
     "text": [
      "Epoch 1672: 272batch [00:08, 31.77batch/s, loss=7.06e+4]\n"
     ]
    },
    {
     "name": "stdout",
     "output_type": "stream",
     "text": [
      "epoch 1672: avg train loss 72941.99, bar train loss 209.916, len train loss 4.272, col train loss 135.467\n"
     ]
    },
    {
     "name": "stderr",
     "output_type": "stream",
     "text": [
      "Epoch 1673: 4batch [00:00, 31.75batch/s, loss=7.65e+4]"
     ]
    },
    {
     "name": "stdout",
     "output_type": "stream",
     "text": [
      "epoch 1672: avg test  loss 73345.48, bar  test loss 90.541, len  test loss 1.832, col  test loss 58.632\n"
     ]
    },
    {
     "name": "stderr",
     "output_type": "stream",
     "text": [
      "Epoch 1673: 272batch [00:08, 32.00batch/s, loss=8.33e+4]\n"
     ]
    },
    {
     "name": "stdout",
     "output_type": "stream",
     "text": [
      "epoch 1673: avg train loss 72946.84, bar train loss 209.971, len train loss 4.269, col train loss 135.505\n"
     ]
    },
    {
     "name": "stderr",
     "output_type": "stream",
     "text": [
      "Epoch 1674: 4batch [00:00, 31.75batch/s, loss=7.27e+4]"
     ]
    },
    {
     "name": "stdout",
     "output_type": "stream",
     "text": [
      "epoch 1673: avg test  loss 73347.53, bar  test loss 90.338, len  test loss 1.830, col  test loss 58.549\n"
     ]
    },
    {
     "name": "stderr",
     "output_type": "stream",
     "text": [
      "Epoch 1674: 272batch [00:08, 31.99batch/s, loss=6.92e+4]\n"
     ]
    },
    {
     "name": "stdout",
     "output_type": "stream",
     "text": [
      "epoch 1674: avg train loss 72945.60, bar train loss 209.952, len train loss 4.270, col train loss 135.498\n"
     ]
    },
    {
     "name": "stderr",
     "output_type": "stream",
     "text": [
      "Epoch 1675: 3batch [00:00, 29.70batch/s, loss=7.17e+4]"
     ]
    },
    {
     "name": "stdout",
     "output_type": "stream",
     "text": [
      "epoch 1674: avg test  loss 73363.87, bar  test loss 90.344, len  test loss 1.836, col  test loss 58.473\n"
     ]
    },
    {
     "name": "stderr",
     "output_type": "stream",
     "text": [
      "Epoch 1675: 272batch [00:08, 32.37batch/s, loss=7.12e+4]\n"
     ]
    },
    {
     "name": "stdout",
     "output_type": "stream",
     "text": [
      "epoch 1675: avg train loss 72948.80, bar train loss 209.932, len train loss 4.269, col train loss 135.498\n",
      "epoch 1675: avg test  loss 73324.32, bar  test loss 90.357, len  test loss 1.829, col  test loss 58.632\n"
     ]
    },
    {
     "name": "stderr",
     "output_type": "stream",
     "text": [
      "Epoch 1676: 272batch [00:08, 31.88batch/s, loss=6.44e+4]\n"
     ]
    },
    {
     "name": "stdout",
     "output_type": "stream",
     "text": [
      "epoch 1676: avg train loss 72934.05, bar train loss 209.907, len train loss 4.270, col train loss 135.474\n"
     ]
    },
    {
     "name": "stderr",
     "output_type": "stream",
     "text": [
      "Epoch 1677: 3batch [00:00, 29.13batch/s, loss=7.11e+4]"
     ]
    },
    {
     "name": "stdout",
     "output_type": "stream",
     "text": [
      "epoch 1676: avg test  loss 73364.60, bar  test loss 90.459, len  test loss 1.835, col  test loss 58.612\n"
     ]
    },
    {
     "name": "stderr",
     "output_type": "stream",
     "text": [
      "Epoch 1677: 272batch [00:08, 32.60batch/s, loss=7.76e+4]\n"
     ]
    },
    {
     "name": "stdout",
     "output_type": "stream",
     "text": [
      "epoch 1677: avg train loss 72947.70, bar train loss 209.955, len train loss 4.272, col train loss 135.480\n"
     ]
    },
    {
     "name": "stderr",
     "output_type": "stream",
     "text": [
      "Epoch 1678: 4batch [00:00, 32.00batch/s, loss=7.28e+4]"
     ]
    },
    {
     "name": "stdout",
     "output_type": "stream",
     "text": [
      "epoch 1677: avg test  loss 73332.33, bar  test loss 90.356, len  test loss 1.830, col  test loss 58.519\n"
     ]
    },
    {
     "name": "stderr",
     "output_type": "stream",
     "text": [
      "Epoch 1678: 272batch [00:08, 32.74batch/s, loss=6.93e+4]\n"
     ]
    },
    {
     "name": "stdout",
     "output_type": "stream",
     "text": [
      "epoch 1678: avg train loss 72945.22, bar train loss 209.949, len train loss 4.269, col train loss 135.476\n"
     ]
    },
    {
     "name": "stderr",
     "output_type": "stream",
     "text": [
      "Epoch 1679: 3batch [00:00, 30.00batch/s, loss=7.38e+4]"
     ]
    },
    {
     "name": "stdout",
     "output_type": "stream",
     "text": [
      "epoch 1678: avg test  loss 73387.23, bar  test loss 90.526, len  test loss 1.837, col  test loss 58.644\n"
     ]
    },
    {
     "name": "stderr",
     "output_type": "stream",
     "text": [
      "Epoch 1679: 272batch [00:08, 32.37batch/s, loss=8.01e+4]\n"
     ]
    },
    {
     "name": "stdout",
     "output_type": "stream",
     "text": [
      "epoch 1679: avg train loss 72935.89, bar train loss 209.912, len train loss 4.268, col train loss 135.469\n"
     ]
    },
    {
     "name": "stderr",
     "output_type": "stream",
     "text": [
      "Epoch 1680: 4batch [00:00, 31.25batch/s, loss=7.43e+4]"
     ]
    },
    {
     "name": "stdout",
     "output_type": "stream",
     "text": [
      "epoch 1679: avg test  loss 73389.40, bar  test loss 90.496, len  test loss 1.831, col  test loss 58.683\n"
     ]
    },
    {
     "name": "stderr",
     "output_type": "stream",
     "text": [
      "Epoch 1680: 272batch [00:08, 32.60batch/s, loss=6.74e+4]\n"
     ]
    },
    {
     "name": "stdout",
     "output_type": "stream",
     "text": [
      "epoch 1680: avg train loss 72949.20, bar train loss 209.958, len train loss 4.268, col train loss 135.470\n",
      "epoch 1680: avg test  loss 73339.81, bar  test loss 90.586, len  test loss 1.834, col  test loss 58.611\n"
     ]
    },
    {
     "name": "stderr",
     "output_type": "stream",
     "text": [
      "Epoch 1681: 272batch [00:08, 32.59batch/s, loss=7.26e+4]\n"
     ]
    },
    {
     "name": "stdout",
     "output_type": "stream",
     "text": [
      "epoch 1681: avg train loss 72941.70, bar train loss 209.928, len train loss 4.270, col train loss 135.452\n"
     ]
    },
    {
     "name": "stderr",
     "output_type": "stream",
     "text": [
      "Epoch 1682: 4batch [00:00, 32.26batch/s, loss=7.23e+4]"
     ]
    },
    {
     "name": "stdout",
     "output_type": "stream",
     "text": [
      "epoch 1681: avg test  loss 73319.52, bar  test loss 90.482, len  test loss 1.833, col  test loss 58.677\n"
     ]
    },
    {
     "name": "stderr",
     "output_type": "stream",
     "text": [
      "Epoch 1682: 272batch [00:08, 32.59batch/s, loss=6.89e+4]\n"
     ]
    },
    {
     "name": "stdout",
     "output_type": "stream",
     "text": [
      "epoch 1682: avg train loss 72940.66, bar train loss 209.935, len train loss 4.267, col train loss 135.467\n"
     ]
    },
    {
     "name": "stderr",
     "output_type": "stream",
     "text": [
      "Epoch 1683: 4batch [00:00, 30.30batch/s, loss=7e+4]   "
     ]
    },
    {
     "name": "stdout",
     "output_type": "stream",
     "text": [
      "epoch 1682: avg test  loss 73359.26, bar  test loss 90.603, len  test loss 1.839, col  test loss 58.783\n"
     ]
    },
    {
     "name": "stderr",
     "output_type": "stream",
     "text": [
      "Epoch 1683: 272batch [00:08, 31.88batch/s, loss=7.66e+4]\n"
     ]
    },
    {
     "name": "stdout",
     "output_type": "stream",
     "text": [
      "epoch 1683: avg train loss 72932.01, bar train loss 209.926, len train loss 4.266, col train loss 135.413\n"
     ]
    },
    {
     "name": "stderr",
     "output_type": "stream",
     "text": [
      "Epoch 1684: 3batch [00:00, 28.04batch/s, loss=7.28e+4]"
     ]
    },
    {
     "name": "stdout",
     "output_type": "stream",
     "text": [
      "epoch 1683: avg test  loss 73369.36, bar  test loss 90.434, len  test loss 1.834, col  test loss 58.569\n"
     ]
    },
    {
     "name": "stderr",
     "output_type": "stream",
     "text": [
      "Epoch 1684: 272batch [00:09, 30.17batch/s, loss=6.8e+4] \n"
     ]
    },
    {
     "name": "stdout",
     "output_type": "stream",
     "text": [
      "epoch 1684: avg train loss 72934.48, bar train loss 209.909, len train loss 4.268, col train loss 135.435\n"
     ]
    },
    {
     "name": "stderr",
     "output_type": "stream",
     "text": [
      "Epoch 1685: 3batch [00:00, 28.04batch/s, loss=7.39e+4]"
     ]
    },
    {
     "name": "stdout",
     "output_type": "stream",
     "text": [
      "epoch 1684: avg test  loss 73368.97, bar  test loss 90.478, len  test loss 1.830, col  test loss 58.666\n"
     ]
    },
    {
     "name": "stderr",
     "output_type": "stream",
     "text": [
      "Epoch 1685: 272batch [00:09, 29.95batch/s, loss=7.16e+4]\n"
     ]
    },
    {
     "name": "stdout",
     "output_type": "stream",
     "text": [
      "epoch 1685: avg train loss 72937.59, bar train loss 209.944, len train loss 4.268, col train loss 135.482\n",
      "epoch 1685: avg test  loss 73374.91, bar  test loss 90.268, len  test loss 1.834, col  test loss 58.597\n"
     ]
    },
    {
     "name": "stderr",
     "output_type": "stream",
     "text": [
      "Epoch 1686: 272batch [00:09, 29.73batch/s, loss=7.56e+4]\n"
     ]
    },
    {
     "name": "stdout",
     "output_type": "stream",
     "text": [
      "epoch 1686: avg train loss 72938.93, bar train loss 209.883, len train loss 4.269, col train loss 135.473\n"
     ]
    },
    {
     "name": "stderr",
     "output_type": "stream",
     "text": [
      "Epoch 1687: 3batch [00:00, 27.78batch/s, loss=7.05e+4]"
     ]
    },
    {
     "name": "stdout",
     "output_type": "stream",
     "text": [
      "epoch 1686: avg test  loss 73339.68, bar  test loss 90.450, len  test loss 1.836, col  test loss 58.629\n"
     ]
    },
    {
     "name": "stderr",
     "output_type": "stream",
     "text": [
      "Epoch 1687: 272batch [00:08, 30.34batch/s, loss=7.51e+4]\n"
     ]
    },
    {
     "name": "stdout",
     "output_type": "stream",
     "text": [
      "epoch 1687: avg train loss 72931.86, bar train loss 209.911, len train loss 4.270, col train loss 135.444\n"
     ]
    },
    {
     "name": "stderr",
     "output_type": "stream",
     "text": [
      "Epoch 1688: 3batch [00:00, 28.30batch/s, loss=7.66e+4]"
     ]
    },
    {
     "name": "stdout",
     "output_type": "stream",
     "text": [
      "epoch 1687: avg test  loss 73342.25, bar  test loss 90.274, len  test loss 1.830, col  test loss 58.464\n"
     ]
    },
    {
     "name": "stderr",
     "output_type": "stream",
     "text": [
      "Epoch 1688: 272batch [00:08, 30.78batch/s, loss=72430.5]\n"
     ]
    },
    {
     "name": "stdout",
     "output_type": "stream",
     "text": [
      "epoch 1688: avg train loss 72935.38, bar train loss 209.876, len train loss 4.271, col train loss 135.436\n"
     ]
    },
    {
     "name": "stderr",
     "output_type": "stream",
     "text": [
      "Epoch 1689: 3batch [00:00, 27.78batch/s, loss=7.07e+4]"
     ]
    },
    {
     "name": "stdout",
     "output_type": "stream",
     "text": [
      "epoch 1688: avg test  loss 73349.92, bar  test loss 90.348, len  test loss 1.833, col  test loss 58.617\n"
     ]
    },
    {
     "name": "stderr",
     "output_type": "stream",
     "text": [
      "Epoch 1689: 272batch [00:08, 31.71batch/s, loss=7.02e+4]\n"
     ]
    },
    {
     "name": "stdout",
     "output_type": "stream",
     "text": [
      "epoch 1689: avg train loss 72938.51, bar train loss 209.919, len train loss 4.268, col train loss 135.446\n"
     ]
    },
    {
     "name": "stderr",
     "output_type": "stream",
     "text": [
      "Epoch 1690: 4batch [00:00, 30.30batch/s, loss=6.71e+4]"
     ]
    },
    {
     "name": "stdout",
     "output_type": "stream",
     "text": [
      "epoch 1689: avg test  loss 73360.68, bar  test loss 90.565, len  test loss 1.834, col  test loss 58.700\n"
     ]
    },
    {
     "name": "stderr",
     "output_type": "stream",
     "text": [
      "Epoch 1690: 272batch [00:08, 30.83batch/s, loss=6.75e+4]\n"
     ]
    },
    {
     "name": "stdout",
     "output_type": "stream",
     "text": [
      "epoch 1690: avg train loss 72940.10, bar train loss 209.940, len train loss 4.270, col train loss 135.478\n",
      "epoch 1690: avg test  loss 73340.75, bar  test loss 90.392, len  test loss 1.834, col  test loss 58.611\n"
     ]
    },
    {
     "name": "stderr",
     "output_type": "stream",
     "text": [
      "Epoch 1691: 272batch [00:08, 31.26batch/s, loss=7.27e+4]\n"
     ]
    },
    {
     "name": "stdout",
     "output_type": "stream",
     "text": [
      "epoch 1691: avg train loss 72930.73, bar train loss 209.900, len train loss 4.269, col train loss 135.430\n"
     ]
    },
    {
     "name": "stderr",
     "output_type": "stream",
     "text": [
      "Epoch 1692: 3batch [00:00, 30.00batch/s, loss=7.32e+4]"
     ]
    },
    {
     "name": "stdout",
     "output_type": "stream",
     "text": [
      "epoch 1691: avg test  loss 73334.34, bar  test loss 90.368, len  test loss 1.831, col  test loss 58.521\n"
     ]
    },
    {
     "name": "stderr",
     "output_type": "stream",
     "text": [
      "Epoch 1692: 272batch [00:08, 31.30batch/s, loss=6.59e+4]\n"
     ]
    },
    {
     "name": "stdout",
     "output_type": "stream",
     "text": [
      "epoch 1692: avg train loss 72933.01, bar train loss 209.898, len train loss 4.269, col train loss 135.456\n"
     ]
    },
    {
     "name": "stderr",
     "output_type": "stream",
     "text": [
      "Epoch 1693: 3batch [00:00, 29.70batch/s, loss=7.68e+4]"
     ]
    },
    {
     "name": "stdout",
     "output_type": "stream",
     "text": [
      "epoch 1692: avg test  loss 73335.72, bar  test loss 90.409, len  test loss 1.829, col  test loss 58.595\n"
     ]
    },
    {
     "name": "stderr",
     "output_type": "stream",
     "text": [
      "Epoch 1693: 272batch [00:08, 31.26batch/s, loss=7.84e+4]\n"
     ]
    },
    {
     "name": "stdout",
     "output_type": "stream",
     "text": [
      "epoch 1693: avg train loss 72928.62, bar train loss 209.858, len train loss 4.267, col train loss 135.430\n"
     ]
    },
    {
     "name": "stderr",
     "output_type": "stream",
     "text": [
      "Epoch 1694: 4batch [00:00, 30.77batch/s, loss=7.54e+4]"
     ]
    },
    {
     "name": "stdout",
     "output_type": "stream",
     "text": [
      "epoch 1693: avg test  loss 73409.60, bar  test loss 90.380, len  test loss 1.826, col  test loss 58.555\n"
     ]
    },
    {
     "name": "stderr",
     "output_type": "stream",
     "text": [
      "Epoch 1694: 272batch [00:08, 31.04batch/s, loss=7.88e+4]\n"
     ]
    },
    {
     "name": "stdout",
     "output_type": "stream",
     "text": [
      "epoch 1694: avg train loss 72935.98, bar train loss 209.906, len train loss 4.269, col train loss 135.445\n"
     ]
    },
    {
     "name": "stderr",
     "output_type": "stream",
     "text": [
      "Epoch 1695: 3batch [00:00, 29.13batch/s, loss=7.09e+4]"
     ]
    },
    {
     "name": "stdout",
     "output_type": "stream",
     "text": [
      "epoch 1694: avg test  loss 73336.09, bar  test loss 90.356, len  test loss 1.832, col  test loss 58.592\n"
     ]
    },
    {
     "name": "stderr",
     "output_type": "stream",
     "text": [
      "Epoch 1695: 272batch [00:08, 30.95batch/s, loss=7.43e+4]\n"
     ]
    },
    {
     "name": "stdout",
     "output_type": "stream",
     "text": [
      "epoch 1695: avg train loss 72934.12, bar train loss 209.908, len train loss 4.269, col train loss 135.427\n",
      "epoch 1695: avg test  loss 73381.37, bar  test loss 90.490, len  test loss 1.831, col  test loss 58.702\n"
     ]
    },
    {
     "name": "stderr",
     "output_type": "stream",
     "text": [
      "Epoch 1696: 272batch [00:08, 30.68batch/s, loss=7.31e+4]\n"
     ]
    },
    {
     "name": "stdout",
     "output_type": "stream",
     "text": [
      "epoch 1696: avg train loss 72933.42, bar train loss 209.918, len train loss 4.268, col train loss 135.477\n"
     ]
    },
    {
     "name": "stderr",
     "output_type": "stream",
     "text": [
      "Epoch 1697: 3batch [00:00, 29.13batch/s, loss=7.22e+4]"
     ]
    },
    {
     "name": "stdout",
     "output_type": "stream",
     "text": [
      "epoch 1696: avg test  loss 73349.05, bar  test loss 90.399, len  test loss 1.830, col  test loss 58.590\n"
     ]
    },
    {
     "name": "stderr",
     "output_type": "stream",
     "text": [
      "Epoch 1697: 272batch [00:08, 30.53batch/s, loss=6.86e+4]\n"
     ]
    },
    {
     "name": "stdout",
     "output_type": "stream",
     "text": [
      "epoch 1697: avg train loss 72937.76, bar train loss 209.920, len train loss 4.268, col train loss 135.448\n"
     ]
    },
    {
     "name": "stderr",
     "output_type": "stream",
     "text": [
      "Epoch 1698: 3batch [00:00, 29.41batch/s, loss=6.99e+4]"
     ]
    },
    {
     "name": "stdout",
     "output_type": "stream",
     "text": [
      "epoch 1697: avg test  loss 73332.27, bar  test loss 90.468, len  test loss 1.837, col  test loss 58.561\n"
     ]
    },
    {
     "name": "stderr",
     "output_type": "stream",
     "text": [
      "Epoch 1698: 272batch [00:09, 30.06batch/s, loss=7.4e+4] \n"
     ]
    },
    {
     "name": "stdout",
     "output_type": "stream",
     "text": [
      "epoch 1698: avg train loss 72937.39, bar train loss 209.877, len train loss 4.266, col train loss 135.450\n"
     ]
    },
    {
     "name": "stderr",
     "output_type": "stream",
     "text": [
      "Epoch 1699: 3batch [00:00, 29.13batch/s, loss=7.24e+4]"
     ]
    },
    {
     "name": "stdout",
     "output_type": "stream",
     "text": [
      "epoch 1698: avg test  loss 73331.06, bar  test loss 90.421, len  test loss 1.835, col  test loss 58.681\n"
     ]
    },
    {
     "name": "stderr",
     "output_type": "stream",
     "text": [
      "Epoch 1699: 272batch [00:09, 30.10batch/s, loss=7.51e+4]\n"
     ]
    },
    {
     "name": "stdout",
     "output_type": "stream",
     "text": [
      "epoch 1699: avg train loss 72929.90, bar train loss 209.858, len train loss 4.269, col train loss 135.414\n"
     ]
    },
    {
     "name": "stderr",
     "output_type": "stream",
     "text": [
      "Epoch 1700: 3batch [00:00, 28.30batch/s, loss=7.29e+4]"
     ]
    },
    {
     "name": "stdout",
     "output_type": "stream",
     "text": [
      "epoch 1699: avg test  loss 73346.98, bar  test loss 90.510, len  test loss 1.834, col  test loss 58.624\n"
     ]
    },
    {
     "name": "stderr",
     "output_type": "stream",
     "text": [
      "Epoch 1700: 272batch [00:09, 29.39batch/s, loss=7.27e+4]\n"
     ]
    },
    {
     "name": "stdout",
     "output_type": "stream",
     "text": [
      "epoch 1700: avg train loss 72931.71, bar train loss 209.901, len train loss 4.268, col train loss 135.464\n",
      "epoch 1700: avg test  loss 73316.09, bar  test loss 90.404, len  test loss 1.835, col  test loss 58.579\n"
     ]
    },
    {
     "name": "stderr",
     "output_type": "stream",
     "text": [
      "Epoch 1701: 272batch [00:09, 28.53batch/s, loss=7.17e+4]\n"
     ]
    },
    {
     "name": "stdout",
     "output_type": "stream",
     "text": [
      "epoch 1701: avg train loss 72930.41, bar train loss 209.871, len train loss 4.269, col train loss 135.406\n"
     ]
    },
    {
     "name": "stderr",
     "output_type": "stream",
     "text": [
      "Epoch 1702: 3batch [00:00, 28.57batch/s, loss=7.1e+4] "
     ]
    },
    {
     "name": "stdout",
     "output_type": "stream",
     "text": [
      "epoch 1701: avg test  loss 73351.66, bar  test loss 90.321, len  test loss 1.828, col  test loss 58.480\n"
     ]
    },
    {
     "name": "stderr",
     "output_type": "stream",
     "text": [
      "Epoch 1702: 272batch [00:09, 28.32batch/s, loss=7.49e+4]\n"
     ]
    },
    {
     "name": "stdout",
     "output_type": "stream",
     "text": [
      "epoch 1702: avg train loss 72935.58, bar train loss 209.901, len train loss 4.271, col train loss 135.438\n"
     ]
    },
    {
     "name": "stderr",
     "output_type": "stream",
     "text": [
      "Epoch 1703: 3batch [00:00, 25.86batch/s, loss=7.24e+4]"
     ]
    },
    {
     "name": "stdout",
     "output_type": "stream",
     "text": [
      "epoch 1702: avg test  loss 73355.35, bar  test loss 90.369, len  test loss 1.834, col  test loss 58.661\n"
     ]
    },
    {
     "name": "stderr",
     "output_type": "stream",
     "text": [
      "Epoch 1703: 272batch [00:10, 26.59batch/s, loss=7.59e+4]\n"
     ]
    },
    {
     "name": "stdout",
     "output_type": "stream",
     "text": [
      "epoch 1703: avg train loss 72916.56, bar train loss 209.864, len train loss 4.266, col train loss 135.402\n"
     ]
    },
    {
     "name": "stderr",
     "output_type": "stream",
     "text": [
      "Epoch 1704: 3batch [00:00, 24.00batch/s, loss=7.15e+4]"
     ]
    },
    {
     "name": "stdout",
     "output_type": "stream",
     "text": [
      "epoch 1703: avg test  loss 73313.66, bar  test loss 90.327, len  test loss 1.833, col  test loss 58.443\n"
     ]
    },
    {
     "name": "stderr",
     "output_type": "stream",
     "text": [
      "Epoch 1704: 272batch [00:09, 27.60batch/s, loss=7.9e+4] \n"
     ]
    },
    {
     "name": "stdout",
     "output_type": "stream",
     "text": [
      "epoch 1704: avg train loss 72932.62, bar train loss 209.914, len train loss 4.269, col train loss 135.453\n"
     ]
    },
    {
     "name": "stderr",
     "output_type": "stream",
     "text": [
      "Epoch 1705: 3batch [00:00, 28.04batch/s, loss=6.91e+4]"
     ]
    },
    {
     "name": "stdout",
     "output_type": "stream",
     "text": [
      "epoch 1704: avg test  loss 73333.82, bar  test loss 90.477, len  test loss 1.831, col  test loss 58.706\n"
     ]
    },
    {
     "name": "stderr",
     "output_type": "stream",
     "text": [
      "Epoch 1705: 272batch [00:09, 27.83batch/s, loss=68830.0]\n"
     ]
    },
    {
     "name": "stdout",
     "output_type": "stream",
     "text": [
      "epoch 1705: avg train loss 72946.18, bar train loss 209.915, len train loss 4.271, col train loss 135.461\n",
      "epoch 1705: avg test  loss 73337.33, bar  test loss 90.270, len  test loss 1.831, col  test loss 58.549\n"
     ]
    },
    {
     "name": "stderr",
     "output_type": "stream",
     "text": [
      "Epoch 1706: 272batch [00:09, 27.54batch/s, loss=7e+4]   \n"
     ]
    },
    {
     "name": "stdout",
     "output_type": "stream",
     "text": [
      "epoch 1706: avg train loss 72930.24, bar train loss 209.872, len train loss 4.269, col train loss 135.439\n"
     ]
    },
    {
     "name": "stderr",
     "output_type": "stream",
     "text": [
      "Epoch 1707: 3batch [00:00, 27.27batch/s, loss=7.06e+4]"
     ]
    },
    {
     "name": "stdout",
     "output_type": "stream",
     "text": [
      "epoch 1706: avg test  loss 73309.83, bar  test loss 90.335, len  test loss 1.832, col  test loss 58.488\n"
     ]
    },
    {
     "name": "stderr",
     "output_type": "stream",
     "text": [
      "Epoch 1707: 272batch [00:10, 26.98batch/s, loss=7.42e+4]\n"
     ]
    },
    {
     "name": "stdout",
     "output_type": "stream",
     "text": [
      "epoch 1707: avg train loss 72929.95, bar train loss 209.861, len train loss 4.271, col train loss 135.432\n"
     ]
    },
    {
     "name": "stderr",
     "output_type": "stream",
     "text": [
      "Epoch 1708: 3batch [00:00, 25.00batch/s, loss=7.15e+4]"
     ]
    },
    {
     "name": "stdout",
     "output_type": "stream",
     "text": [
      "epoch 1707: avg test  loss 73330.10, bar  test loss 90.348, len  test loss 1.832, col  test loss 58.496\n"
     ]
    },
    {
     "name": "stderr",
     "output_type": "stream",
     "text": [
      "Epoch 1708: 272batch [00:10, 26.37batch/s, loss=6.94e+4]\n"
     ]
    },
    {
     "name": "stdout",
     "output_type": "stream",
     "text": [
      "epoch 1708: avg train loss 72932.41, bar train loss 209.897, len train loss 4.269, col train loss 135.458\n"
     ]
    },
    {
     "name": "stderr",
     "output_type": "stream",
     "text": [
      "Epoch 1709: 3batch [00:00, 20.69batch/s, loss=7.5e+4]"
     ]
    },
    {
     "name": "stdout",
     "output_type": "stream",
     "text": [
      "epoch 1708: avg test  loss 73347.88, bar  test loss 90.299, len  test loss 1.835, col  test loss 58.524\n"
     ]
    },
    {
     "name": "stderr",
     "output_type": "stream",
     "text": [
      "Epoch 1709: 272batch [00:11, 23.91batch/s, loss=6.89e+4]\n"
     ]
    },
    {
     "name": "stdout",
     "output_type": "stream",
     "text": [
      "epoch 1709: avg train loss 72921.88, bar train loss 209.907, len train loss 4.272, col train loss 135.431\n"
     ]
    },
    {
     "name": "stderr",
     "output_type": "stream",
     "text": [
      "Epoch 1710: 3batch [00:00, 26.32batch/s, loss=7.39e+4]"
     ]
    },
    {
     "name": "stdout",
     "output_type": "stream",
     "text": [
      "epoch 1709: avg test  loss 73354.35, bar  test loss 90.310, len  test loss 1.830, col  test loss 58.388\n"
     ]
    },
    {
     "name": "stderr",
     "output_type": "stream",
     "text": [
      "Epoch 1710: 272batch [00:11, 23.85batch/s, loss=7.77e+4]\n"
     ]
    },
    {
     "name": "stdout",
     "output_type": "stream",
     "text": [
      "epoch 1710: avg train loss 72935.12, bar train loss 209.868, len train loss 4.271, col train loss 135.417\n",
      "epoch 1710: avg test  loss 73372.80, bar  test loss 90.335, len  test loss 1.829, col  test loss 58.490\n"
     ]
    },
    {
     "name": "stderr",
     "output_type": "stream",
     "text": [
      "Epoch 1711: 272batch [00:11, 24.31batch/s, loss=7.06e+4]\n"
     ]
    },
    {
     "name": "stdout",
     "output_type": "stream",
     "text": [
      "epoch 1711: avg train loss 72927.86, bar train loss 209.871, len train loss 4.271, col train loss 135.423\n"
     ]
    },
    {
     "name": "stderr",
     "output_type": "stream",
     "text": [
      "Epoch 1712: 3batch [00:00, 24.79batch/s, loss=7.11e+4]"
     ]
    },
    {
     "name": "stdout",
     "output_type": "stream",
     "text": [
      "epoch 1711: avg test  loss 73343.47, bar  test loss 90.331, len  test loss 1.829, col  test loss 58.510\n"
     ]
    },
    {
     "name": "stderr",
     "output_type": "stream",
     "text": [
      "Epoch 1712: 272batch [00:11, 24.29batch/s, loss=7.11e+4]\n"
     ]
    },
    {
     "name": "stdout",
     "output_type": "stream",
     "text": [
      "epoch 1712: avg train loss 72929.55, bar train loss 209.868, len train loss 4.269, col train loss 135.417\n"
     ]
    },
    {
     "name": "stderr",
     "output_type": "stream",
     "text": [
      "Epoch 1713: 3batch [00:00, 21.13batch/s, loss=7.32e+4]"
     ]
    },
    {
     "name": "stdout",
     "output_type": "stream",
     "text": [
      "epoch 1712: avg test  loss 73333.37, bar  test loss 90.329, len  test loss 1.835, col  test loss 58.599\n"
     ]
    },
    {
     "name": "stderr",
     "output_type": "stream",
     "text": [
      "Epoch 1713: 272batch [00:11, 22.87batch/s, loss=7.07e+4]\n"
     ]
    },
    {
     "name": "stdout",
     "output_type": "stream",
     "text": [
      "epoch 1713: avg train loss 72926.84, bar train loss 209.900, len train loss 4.270, col train loss 135.439\n"
     ]
    },
    {
     "name": "stderr",
     "output_type": "stream",
     "text": [
      "Epoch 1714: 3batch [00:00, 23.62batch/s, loss=7.29e+4]"
     ]
    },
    {
     "name": "stdout",
     "output_type": "stream",
     "text": [
      "epoch 1713: avg test  loss 73319.07, bar  test loss 90.321, len  test loss 1.828, col  test loss 58.627\n"
     ]
    },
    {
     "name": "stderr",
     "output_type": "stream",
     "text": [
      "Epoch 1714: 272batch [00:11, 23.64batch/s, loss=70554.5]\n"
     ]
    },
    {
     "name": "stdout",
     "output_type": "stream",
     "text": [
      "epoch 1714: avg train loss 72928.92, bar train loss 209.873, len train loss 4.268, col train loss 135.409\n"
     ]
    },
    {
     "name": "stderr",
     "output_type": "stream",
     "text": [
      "Epoch 1715: 3batch [00:00, 24.19batch/s, loss=7.41e+4]"
     ]
    },
    {
     "name": "stdout",
     "output_type": "stream",
     "text": [
      "epoch 1714: avg test  loss 73339.93, bar  test loss 90.254, len  test loss 1.833, col  test loss 58.454\n"
     ]
    },
    {
     "name": "stderr",
     "output_type": "stream",
     "text": [
      "Epoch 1715: 272batch [00:11, 23.82batch/s, loss=7.63e+4]\n"
     ]
    },
    {
     "name": "stdout",
     "output_type": "stream",
     "text": [
      "epoch 1715: avg train loss 72920.68, bar train loss 209.901, len train loss 4.270, col train loss 135.413\n",
      "epoch 1715: avg test  loss 73334.55, bar  test loss 90.270, len  test loss 1.837, col  test loss 58.546\n"
     ]
    },
    {
     "name": "stderr",
     "output_type": "stream",
     "text": [
      "Epoch 1716: 272batch [00:11, 23.19batch/s, loss=7.04e+4]\n"
     ]
    },
    {
     "name": "stdout",
     "output_type": "stream",
     "text": [
      "epoch 1716: avg train loss 72928.39, bar train loss 209.922, len train loss 4.268, col train loss 135.416\n"
     ]
    },
    {
     "name": "stderr",
     "output_type": "stream",
     "text": [
      "Epoch 1717: 3batch [00:00, 22.06batch/s, loss=7.18e+4]"
     ]
    },
    {
     "name": "stdout",
     "output_type": "stream",
     "text": [
      "epoch 1716: avg test  loss 73317.62, bar  test loss 90.449, len  test loss 1.832, col  test loss 58.564\n"
     ]
    },
    {
     "name": "stderr",
     "output_type": "stream",
     "text": [
      "Epoch 1717: 272batch [00:11, 23.40batch/s, loss=7.33e+4]\n"
     ]
    },
    {
     "name": "stdout",
     "output_type": "stream",
     "text": [
      "epoch 1717: avg train loss 72925.42, bar train loss 209.863, len train loss 4.271, col train loss 135.395\n"
     ]
    },
    {
     "name": "stderr",
     "output_type": "stream",
     "text": [
      "Epoch 1718: 3batch [00:00, 23.44batch/s, loss=7.32e+4]"
     ]
    },
    {
     "name": "stdout",
     "output_type": "stream",
     "text": [
      "epoch 1717: avg test  loss 73446.40, bar  test loss 90.534, len  test loss 1.828, col  test loss 58.628\n"
     ]
    },
    {
     "name": "stderr",
     "output_type": "stream",
     "text": [
      "Epoch 1718: 272batch [00:11, 23.09batch/s, loss=7.16e+4]\n"
     ]
    },
    {
     "name": "stdout",
     "output_type": "stream",
     "text": [
      "epoch 1718: avg train loss 72933.48, bar train loss 209.887, len train loss 4.269, col train loss 135.436\n"
     ]
    },
    {
     "name": "stderr",
     "output_type": "stream",
     "text": [
      "Epoch 1719: 3batch [00:00, 22.39batch/s, loss=7.07e+4]"
     ]
    },
    {
     "name": "stdout",
     "output_type": "stream",
     "text": [
      "epoch 1718: avg test  loss 73386.23, bar  test loss 90.502, len  test loss 1.833, col  test loss 58.563\n"
     ]
    },
    {
     "name": "stderr",
     "output_type": "stream",
     "text": [
      "Epoch 1719: 272batch [00:12, 22.62batch/s, loss=7.15e+4]\n"
     ]
    },
    {
     "name": "stdout",
     "output_type": "stream",
     "text": [
      "epoch 1719: avg train loss 72926.70, bar train loss 209.872, len train loss 4.270, col train loss 135.410\n"
     ]
    },
    {
     "name": "stderr",
     "output_type": "stream",
     "text": [
      "Epoch 1720: 3batch [00:00, 22.06batch/s, loss=7.34e+4]"
     ]
    },
    {
     "name": "stdout",
     "output_type": "stream",
     "text": [
      "epoch 1719: avg test  loss 73345.36, bar  test loss 90.342, len  test loss 1.830, col  test loss 58.549\n"
     ]
    },
    {
     "name": "stderr",
     "output_type": "stream",
     "text": [
      "Epoch 1720: 272batch [00:12, 22.26batch/s, loss=7.37e+4]\n"
     ]
    },
    {
     "name": "stdout",
     "output_type": "stream",
     "text": [
      "epoch 1720: avg train loss 72923.51, bar train loss 209.870, len train loss 4.269, col train loss 135.402\n",
      "epoch 1720: avg test  loss 73336.53, bar  test loss 90.290, len  test loss 1.830, col  test loss 58.506\n"
     ]
    },
    {
     "name": "stderr",
     "output_type": "stream",
     "text": [
      "Epoch 1721: 272batch [00:12, 21.91batch/s, loss=7.05e+4]\n"
     ]
    },
    {
     "name": "stdout",
     "output_type": "stream",
     "text": [
      "epoch 1721: avg train loss 72925.46, bar train loss 209.866, len train loss 4.267, col train loss 135.418\n"
     ]
    },
    {
     "name": "stderr",
     "output_type": "stream",
     "text": [
      "Epoch 1722: 3batch [00:00, 23.26batch/s, loss=7.07e+4]"
     ]
    },
    {
     "name": "stdout",
     "output_type": "stream",
     "text": [
      "epoch 1721: avg test  loss 73330.08, bar  test loss 90.254, len  test loss 1.840, col  test loss 58.487\n"
     ]
    },
    {
     "name": "stderr",
     "output_type": "stream",
     "text": [
      "Epoch 1722: 272batch [00:12, 22.14batch/s, loss=7.41e+4]\n"
     ]
    },
    {
     "name": "stdout",
     "output_type": "stream",
     "text": [
      "epoch 1722: avg train loss 72924.34, bar train loss 209.861, len train loss 4.268, col train loss 135.373\n"
     ]
    },
    {
     "name": "stderr",
     "output_type": "stream",
     "text": [
      "Epoch 1723: 3batch [00:00, 22.39batch/s, loss=7.85e+4]"
     ]
    },
    {
     "name": "stdout",
     "output_type": "stream",
     "text": [
      "epoch 1722: avg test  loss 73388.10, bar  test loss 90.354, len  test loss 1.829, col  test loss 58.534\n"
     ]
    },
    {
     "name": "stderr",
     "output_type": "stream",
     "text": [
      "Epoch 1723: 272batch [00:12, 22.32batch/s, loss=70277.0]\n"
     ]
    },
    {
     "name": "stdout",
     "output_type": "stream",
     "text": [
      "epoch 1723: avg train loss 72933.29, bar train loss 209.869, len train loss 4.270, col train loss 135.475\n"
     ]
    },
    {
     "name": "stderr",
     "output_type": "stream",
     "text": [
      "Epoch 1724: 3batch [00:00, 22.06batch/s, loss=7.36e+4]"
     ]
    },
    {
     "name": "stdout",
     "output_type": "stream",
     "text": [
      "epoch 1723: avg test  loss 73336.45, bar  test loss 90.374, len  test loss 1.838, col  test loss 58.530\n"
     ]
    },
    {
     "name": "stderr",
     "output_type": "stream",
     "text": [
      "Epoch 1724: 272batch [00:12, 22.27batch/s, loss=7.14e+4]\n"
     ]
    },
    {
     "name": "stdout",
     "output_type": "stream",
     "text": [
      "epoch 1724: avg train loss 72924.91, bar train loss 209.879, len train loss 4.271, col train loss 135.403\n"
     ]
    },
    {
     "name": "stderr",
     "output_type": "stream",
     "text": [
      "Epoch 1725: 3batch [00:00, 20.00batch/s, loss=7.35e+4]"
     ]
    },
    {
     "name": "stdout",
     "output_type": "stream",
     "text": [
      "epoch 1724: avg test  loss 73319.18, bar  test loss 90.265, len  test loss 1.832, col  test loss 58.373\n"
     ]
    },
    {
     "name": "stderr",
     "output_type": "stream",
     "text": [
      "Epoch 1725: 272batch [00:12, 22.09batch/s, loss=7.13e+4]\n"
     ]
    },
    {
     "name": "stdout",
     "output_type": "stream",
     "text": [
      "epoch 1725: avg train loss 72926.45, bar train loss 209.875, len train loss 4.267, col train loss 135.364\n",
      "epoch 1725: avg test  loss 73331.65, bar  test loss 90.540, len  test loss 1.832, col  test loss 58.707\n"
     ]
    },
    {
     "name": "stderr",
     "output_type": "stream",
     "text": [
      "Epoch 1726: 272batch [00:12, 22.31batch/s, loss=7.28e+4]\n"
     ]
    },
    {
     "name": "stdout",
     "output_type": "stream",
     "text": [
      "epoch 1726: avg train loss 72921.66, bar train loss 209.873, len train loss 4.267, col train loss 135.398\n"
     ]
    },
    {
     "name": "stderr",
     "output_type": "stream",
     "text": [
      "Epoch 1727: 3batch [00:00, 22.39batch/s, loss=7.03e+4]"
     ]
    },
    {
     "name": "stdout",
     "output_type": "stream",
     "text": [
      "epoch 1726: avg test  loss 73338.33, bar  test loss 90.287, len  test loss 1.828, col  test loss 58.473\n"
     ]
    },
    {
     "name": "stderr",
     "output_type": "stream",
     "text": [
      "Epoch 1727: 272batch [00:12, 22.07batch/s, loss=6.98e+4]\n"
     ]
    },
    {
     "name": "stdout",
     "output_type": "stream",
     "text": [
      "epoch 1727: avg train loss 72925.20, bar train loss 209.855, len train loss 4.266, col train loss 135.404\n"
     ]
    },
    {
     "name": "stderr",
     "output_type": "stream",
     "text": [
      "Epoch 1728: 3batch [00:00, 22.73batch/s, loss=7.28e+4]"
     ]
    },
    {
     "name": "stdout",
     "output_type": "stream",
     "text": [
      "epoch 1727: avg test  loss 73334.52, bar  test loss 90.485, len  test loss 1.828, col  test loss 58.639\n"
     ]
    },
    {
     "name": "stderr",
     "output_type": "stream",
     "text": [
      "Epoch 1728: 272batch [00:12, 22.41batch/s, loss=7.29e+4]\n"
     ]
    },
    {
     "name": "stdout",
     "output_type": "stream",
     "text": [
      "epoch 1728: avg train loss 72914.76, bar train loss 209.845, len train loss 4.265, col train loss 135.365\n"
     ]
    },
    {
     "name": "stderr",
     "output_type": "stream",
     "text": [
      "Epoch 1729: 3batch [00:00, 21.90batch/s, loss=7.02e+4]"
     ]
    },
    {
     "name": "stdout",
     "output_type": "stream",
     "text": [
      "epoch 1728: avg test  loss 73352.22, bar  test loss 90.382, len  test loss 1.833, col  test loss 58.481\n"
     ]
    },
    {
     "name": "stderr",
     "output_type": "stream",
     "text": [
      "Epoch 1729: 272batch [00:12, 22.05batch/s, loss=7.32e+4]\n"
     ]
    },
    {
     "name": "stdout",
     "output_type": "stream",
     "text": [
      "epoch 1729: avg train loss 72928.46, bar train loss 209.872, len train loss 4.266, col train loss 135.433\n"
     ]
    },
    {
     "name": "stderr",
     "output_type": "stream",
     "text": [
      "Epoch 1730: 3batch [00:00, 22.22batch/s, loss=6.88e+4]"
     ]
    },
    {
     "name": "stdout",
     "output_type": "stream",
     "text": [
      "epoch 1729: avg test  loss 73360.25, bar  test loss 90.215, len  test loss 1.830, col  test loss 58.494\n"
     ]
    },
    {
     "name": "stderr",
     "output_type": "stream",
     "text": [
      "Epoch 1730: 272batch [00:12, 21.78batch/s, loss=7.56e+4]\n"
     ]
    },
    {
     "name": "stdout",
     "output_type": "stream",
     "text": [
      "epoch 1730: avg train loss 72922.35, bar train loss 209.854, len train loss 4.267, col train loss 135.411\n",
      "epoch 1730: avg test  loss 73346.98, bar  test loss 90.347, len  test loss 1.831, col  test loss 58.529\n"
     ]
    },
    {
     "name": "stderr",
     "output_type": "stream",
     "text": [
      "Epoch 1731: 272batch [00:12, 21.99batch/s, loss=7.27e+4]\n"
     ]
    },
    {
     "name": "stdout",
     "output_type": "stream",
     "text": [
      "epoch 1731: avg train loss 72936.62, bar train loss 209.881, len train loss 4.266, col train loss 135.440\n"
     ]
    },
    {
     "name": "stderr",
     "output_type": "stream",
     "text": [
      "Epoch 1732: 3batch [00:00, 21.90batch/s, loss=6.98e+4]"
     ]
    },
    {
     "name": "stdout",
     "output_type": "stream",
     "text": [
      "epoch 1731: avg test  loss 73349.88, bar  test loss 90.316, len  test loss 1.830, col  test loss 58.499\n"
     ]
    },
    {
     "name": "stderr",
     "output_type": "stream",
     "text": [
      "Epoch 1732: 272batch [00:12, 21.87batch/s, loss=6.58e+4]\n"
     ]
    },
    {
     "name": "stdout",
     "output_type": "stream",
     "text": [
      "epoch 1732: avg train loss 72923.96, bar train loss 209.845, len train loss 4.268, col train loss 135.436\n"
     ]
    },
    {
     "name": "stderr",
     "output_type": "stream",
     "text": [
      "Epoch 1733: 3batch [00:00, 22.90batch/s, loss=7.24e+4]"
     ]
    },
    {
     "name": "stdout",
     "output_type": "stream",
     "text": [
      "epoch 1732: avg test  loss 73324.42, bar  test loss 90.316, len  test loss 1.827, col  test loss 58.414\n"
     ]
    },
    {
     "name": "stderr",
     "output_type": "stream",
     "text": [
      "Epoch 1733: 272batch [00:12, 21.65batch/s, loss=7.48e+4]\n"
     ]
    },
    {
     "name": "stdout",
     "output_type": "stream",
     "text": [
      "epoch 1733: avg train loss 72919.70, bar train loss 209.839, len train loss 4.264, col train loss 135.389\n"
     ]
    },
    {
     "name": "stderr",
     "output_type": "stream",
     "text": [
      "Epoch 1734: 2batch [00:00, 19.80batch/s, loss=7.16e+4]"
     ]
    },
    {
     "name": "stdout",
     "output_type": "stream",
     "text": [
      "epoch 1733: avg test  loss 73347.83, bar  test loss 90.372, len  test loss 1.829, col  test loss 58.380\n"
     ]
    },
    {
     "name": "stderr",
     "output_type": "stream",
     "text": [
      "Epoch 1734: 272batch [00:12, 21.52batch/s, loss=7.2e+4] \n"
     ]
    },
    {
     "name": "stdout",
     "output_type": "stream",
     "text": [
      "epoch 1734: avg train loss 72922.16, bar train loss 209.853, len train loss 4.270, col train loss 135.421\n"
     ]
    },
    {
     "name": "stderr",
     "output_type": "stream",
     "text": [
      "Epoch 1735: 3batch [00:00, 23.26batch/s, loss=7.41e+4]"
     ]
    },
    {
     "name": "stdout",
     "output_type": "stream",
     "text": [
      "epoch 1734: avg test  loss 73347.61, bar  test loss 90.311, len  test loss 1.832, col  test loss 58.543\n"
     ]
    },
    {
     "name": "stderr",
     "output_type": "stream",
     "text": [
      "Epoch 1735: 272batch [00:12, 21.80batch/s, loss=7.29e+4]\n"
     ]
    },
    {
     "name": "stdout",
     "output_type": "stream",
     "text": [
      "epoch 1735: avg train loss 72921.63, bar train loss 209.866, len train loss 4.269, col train loss 135.408\n",
      "epoch 1735: avg test  loss 73354.67, bar  test loss 90.423, len  test loss 1.835, col  test loss 58.578\n"
     ]
    },
    {
     "name": "stderr",
     "output_type": "stream",
     "text": [
      "Epoch 1736: 272batch [00:12, 21.78batch/s, loss=7.27e+4]\n"
     ]
    },
    {
     "name": "stdout",
     "output_type": "stream",
     "text": [
      "epoch 1736: avg train loss 72917.25, bar train loss 209.848, len train loss 4.266, col train loss 135.390\n"
     ]
    },
    {
     "name": "stderr",
     "output_type": "stream",
     "text": [
      "Epoch 1737: 3batch [00:00, 22.73batch/s, loss=6.87e+4]"
     ]
    },
    {
     "name": "stdout",
     "output_type": "stream",
     "text": [
      "epoch 1736: avg test  loss 73379.02, bar  test loss 90.287, len  test loss 1.834, col  test loss 58.413\n"
     ]
    },
    {
     "name": "stderr",
     "output_type": "stream",
     "text": [
      "Epoch 1737: 272batch [00:12, 21.75batch/s, loss=7.95e+4]\n"
     ]
    },
    {
     "name": "stdout",
     "output_type": "stream",
     "text": [
      "epoch 1737: avg train loss 72921.68, bar train loss 209.849, len train loss 4.265, col train loss 135.388\n"
     ]
    },
    {
     "name": "stderr",
     "output_type": "stream",
     "text": [
      "Epoch 1738: 3batch [00:00, 22.39batch/s, loss=7.5e+4]"
     ]
    },
    {
     "name": "stdout",
     "output_type": "stream",
     "text": [
      "epoch 1737: avg test  loss 73332.52, bar  test loss 90.385, len  test loss 1.829, col  test loss 58.466\n"
     ]
    },
    {
     "name": "stderr",
     "output_type": "stream",
     "text": [
      "Epoch 1738: 272batch [00:12, 21.47batch/s, loss=7.11e+4]\n"
     ]
    },
    {
     "name": "stdout",
     "output_type": "stream",
     "text": [
      "epoch 1738: avg train loss 72920.59, bar train loss 209.874, len train loss 4.265, col train loss 135.404\n"
     ]
    },
    {
     "name": "stderr",
     "output_type": "stream",
     "text": [
      "Epoch 1739: 3batch [00:00, 23.26batch/s, loss=7.35e+4]"
     ]
    },
    {
     "name": "stdout",
     "output_type": "stream",
     "text": [
      "epoch 1738: avg test  loss 73320.93, bar  test loss 90.137, len  test loss 1.828, col  test loss 58.379\n"
     ]
    },
    {
     "name": "stderr",
     "output_type": "stream",
     "text": [
      "Epoch 1739: 272batch [00:12, 21.64batch/s, loss=7.74e+4]\n"
     ]
    },
    {
     "name": "stdout",
     "output_type": "stream",
     "text": [
      "epoch 1739: avg train loss 72916.83, bar train loss 209.844, len train loss 4.266, col train loss 135.407\n"
     ]
    },
    {
     "name": "stderr",
     "output_type": "stream",
     "text": [
      "Epoch 1740: 3batch [00:00, 21.13batch/s, loss=7.18e+4]"
     ]
    },
    {
     "name": "stdout",
     "output_type": "stream",
     "text": [
      "epoch 1739: avg test  loss 73320.34, bar  test loss 90.313, len  test loss 1.832, col  test loss 58.437\n"
     ]
    },
    {
     "name": "stderr",
     "output_type": "stream",
     "text": [
      "Epoch 1740: 272batch [00:12, 21.83batch/s, loss=7.17e+4]\n"
     ]
    },
    {
     "name": "stdout",
     "output_type": "stream",
     "text": [
      "epoch 1740: avg train loss 72925.62, bar train loss 209.873, len train loss 4.267, col train loss 135.387\n",
      "epoch 1740: avg test  loss 73347.62, bar  test loss 90.383, len  test loss 1.829, col  test loss 58.501\n"
     ]
    },
    {
     "name": "stderr",
     "output_type": "stream",
     "text": [
      "Epoch 1741: 272batch [00:12, 21.49batch/s, loss=7.85e+4]\n"
     ]
    },
    {
     "name": "stdout",
     "output_type": "stream",
     "text": [
      "epoch 1741: avg train loss 72920.34, bar train loss 209.876, len train loss 4.269, col train loss 135.357\n"
     ]
    },
    {
     "name": "stderr",
     "output_type": "stream",
     "text": [
      "Epoch 1742: 3batch [00:00, 22.90batch/s, loss=7.36e+4]"
     ]
    },
    {
     "name": "stdout",
     "output_type": "stream",
     "text": [
      "epoch 1741: avg test  loss 73306.34, bar  test loss 90.382, len  test loss 1.834, col  test loss 58.488\n"
     ]
    },
    {
     "name": "stderr",
     "output_type": "stream",
     "text": [
      "Epoch 1742: 272batch [00:12, 21.75batch/s, loss=6.8e+4] \n"
     ]
    },
    {
     "name": "stdout",
     "output_type": "stream",
     "text": [
      "epoch 1742: avg train loss 72912.39, bar train loss 209.851, len train loss 4.267, col train loss 135.379\n"
     ]
    },
    {
     "name": "stderr",
     "output_type": "stream",
     "text": [
      "Epoch 1743: 3batch [00:00, 23.08batch/s, loss=7.07e+4]"
     ]
    },
    {
     "name": "stdout",
     "output_type": "stream",
     "text": [
      "epoch 1742: avg test  loss 73369.16, bar  test loss 90.445, len  test loss 1.836, col  test loss 58.519\n"
     ]
    },
    {
     "name": "stderr",
     "output_type": "stream",
     "text": [
      "Epoch 1743: 272batch [00:12, 21.89batch/s, loss=7.36e+4]\n"
     ]
    },
    {
     "name": "stdout",
     "output_type": "stream",
     "text": [
      "epoch 1743: avg train loss 72920.36, bar train loss 209.854, len train loss 4.269, col train loss 135.402\n"
     ]
    },
    {
     "name": "stderr",
     "output_type": "stream",
     "text": [
      "Epoch 1744: 3batch [00:00, 20.41batch/s, loss=7.25e+4]"
     ]
    },
    {
     "name": "stdout",
     "output_type": "stream",
     "text": [
      "epoch 1743: avg test  loss 73362.32, bar  test loss 90.382, len  test loss 1.829, col  test loss 58.651\n"
     ]
    },
    {
     "name": "stderr",
     "output_type": "stream",
     "text": [
      "Epoch 1744: 272batch [00:12, 21.97batch/s, loss=6.9e+4] \n"
     ]
    },
    {
     "name": "stdout",
     "output_type": "stream",
     "text": [
      "epoch 1744: avg train loss 72929.68, bar train loss 209.875, len train loss 4.269, col train loss 135.429\n"
     ]
    },
    {
     "name": "stderr",
     "output_type": "stream",
     "text": [
      "Epoch 1745: 3batch [00:00, 22.90batch/s, loss=7.24e+4]"
     ]
    },
    {
     "name": "stdout",
     "output_type": "stream",
     "text": [
      "epoch 1744: avg test  loss 73312.92, bar  test loss 90.196, len  test loss 1.832, col  test loss 58.473\n"
     ]
    },
    {
     "name": "stderr",
     "output_type": "stream",
     "text": [
      "Epoch 1745: 272batch [00:12, 21.75batch/s, loss=8.26e+4]\n"
     ]
    },
    {
     "name": "stdout",
     "output_type": "stream",
     "text": [
      "epoch 1745: avg train loss 72913.29, bar train loss 209.844, len train loss 4.266, col train loss 135.417\n",
      "epoch 1745: avg test  loss 73295.70, bar  test loss 90.302, len  test loss 1.831, col  test loss 58.463\n"
     ]
    },
    {
     "name": "stderr",
     "output_type": "stream",
     "text": [
      "Epoch 1746: 272batch [00:12, 21.82batch/s, loss=7.81e+4]\n"
     ]
    },
    {
     "name": "stdout",
     "output_type": "stream",
     "text": [
      "epoch 1746: avg train loss 72909.04, bar train loss 209.806, len train loss 4.265, col train loss 135.346\n"
     ]
    },
    {
     "name": "stderr",
     "output_type": "stream",
     "text": [
      "Epoch 1747: 3batch [00:00, 22.22batch/s, loss=7.19e+4]"
     ]
    },
    {
     "name": "stdout",
     "output_type": "stream",
     "text": [
      "epoch 1746: avg test  loss 73315.13, bar  test loss 90.386, len  test loss 1.835, col  test loss 58.597\n"
     ]
    },
    {
     "name": "stderr",
     "output_type": "stream",
     "text": [
      "Epoch 1747: 272batch [00:12, 21.81batch/s, loss=7.4e+4] \n"
     ]
    },
    {
     "name": "stdout",
     "output_type": "stream",
     "text": [
      "epoch 1747: avg train loss 72904.89, bar train loss 209.822, len train loss 4.266, col train loss 135.328\n"
     ]
    },
    {
     "name": "stderr",
     "output_type": "stream",
     "text": [
      "Epoch 1748: 3batch [00:00, 21.28batch/s, loss=7.23e+4]"
     ]
    },
    {
     "name": "stdout",
     "output_type": "stream",
     "text": [
      "epoch 1747: avg test  loss 73319.64, bar  test loss 90.304, len  test loss 1.829, col  test loss 58.428\n"
     ]
    },
    {
     "name": "stderr",
     "output_type": "stream",
     "text": [
      "Epoch 1748: 272batch [00:12, 21.08batch/s, loss=6.97e+4]\n"
     ]
    },
    {
     "name": "stdout",
     "output_type": "stream",
     "text": [
      "epoch 1748: avg train loss 72918.45, bar train loss 209.888, len train loss 4.268, col train loss 135.357\n"
     ]
    },
    {
     "name": "stderr",
     "output_type": "stream",
     "text": [
      "Epoch 1749: 3batch [00:00, 22.22batch/s, loss=7.23e+4]"
     ]
    },
    {
     "name": "stdout",
     "output_type": "stream",
     "text": [
      "epoch 1748: avg test  loss 73319.81, bar  test loss 90.270, len  test loss 1.834, col  test loss 58.473\n"
     ]
    },
    {
     "name": "stderr",
     "output_type": "stream",
     "text": [
      "Epoch 1749: 272batch [00:12, 21.50batch/s, loss=6.87e+4]\n"
     ]
    },
    {
     "name": "stdout",
     "output_type": "stream",
     "text": [
      "epoch 1749: avg train loss 72909.72, bar train loss 209.833, len train loss 4.266, col train loss 135.359\n"
     ]
    },
    {
     "name": "stderr",
     "output_type": "stream",
     "text": [
      "Epoch 1750: 0batch [00:00, ?batch/s, loss=7.57e+4]"
     ]
    },
    {
     "name": "stdout",
     "output_type": "stream",
     "text": [
      "epoch 1749: avg test  loss 73331.88, bar  test loss 90.411, len  test loss 1.837, col  test loss 58.619\n"
     ]
    },
    {
     "name": "stderr",
     "output_type": "stream",
     "text": [
      "Epoch 1750: 272batch [00:12, 21.46batch/s, loss=7.73e+4]\n"
     ]
    },
    {
     "name": "stdout",
     "output_type": "stream",
     "text": [
      "epoch 1750: avg train loss 72916.83, bar train loss 209.850, len train loss 4.269, col train loss 135.379\n",
      "epoch 1750: avg test  loss 73281.47, bar  test loss 90.319, len  test loss 1.829, col  test loss 58.504\n"
     ]
    },
    {
     "name": "stderr",
     "output_type": "stream",
     "text": [
      "Epoch 1751: 272batch [00:12, 21.74batch/s, loss=7.3e+4] \n"
     ]
    },
    {
     "name": "stdout",
     "output_type": "stream",
     "text": [
      "epoch 1751: avg train loss 72906.42, bar train loss 209.830, len train loss 4.266, col train loss 135.336\n"
     ]
    },
    {
     "name": "stderr",
     "output_type": "stream",
     "text": [
      "Epoch 1752: 3batch [00:00, 22.56batch/s, loss=7.27e+4]"
     ]
    },
    {
     "name": "stdout",
     "output_type": "stream",
     "text": [
      "epoch 1751: avg test  loss 73342.37, bar  test loss 90.314, len  test loss 1.825, col  test loss 58.523\n"
     ]
    },
    {
     "name": "stderr",
     "output_type": "stream",
     "text": [
      "Epoch 1752: 272batch [00:12, 21.72batch/s, loss=7.12e+4]\n"
     ]
    },
    {
     "name": "stdout",
     "output_type": "stream",
     "text": [
      "epoch 1752: avg train loss 72908.01, bar train loss 209.827, len train loss 4.264, col train loss 135.330\n"
     ]
    },
    {
     "name": "stderr",
     "output_type": "stream",
     "text": [
      "Epoch 1753: 3batch [00:00, 22.73batch/s, loss=7.12e+4]"
     ]
    },
    {
     "name": "stdout",
     "output_type": "stream",
     "text": [
      "epoch 1752: avg test  loss 73312.48, bar  test loss 90.422, len  test loss 1.837, col  test loss 58.529\n"
     ]
    },
    {
     "name": "stderr",
     "output_type": "stream",
     "text": [
      "Epoch 1753: 272batch [00:12, 21.77batch/s, loss=6.81e+4]\n"
     ]
    },
    {
     "name": "stdout",
     "output_type": "stream",
     "text": [
      "epoch 1753: avg train loss 72921.46, bar train loss 209.842, len train loss 4.269, col train loss 135.409\n"
     ]
    },
    {
     "name": "stderr",
     "output_type": "stream",
     "text": [
      "Epoch 1754: 3batch [00:00, 21.58batch/s, loss=7.16e+4]"
     ]
    },
    {
     "name": "stdout",
     "output_type": "stream",
     "text": [
      "epoch 1753: avg test  loss 73344.45, bar  test loss 90.428, len  test loss 1.833, col  test loss 58.515\n"
     ]
    },
    {
     "name": "stderr",
     "output_type": "stream",
     "text": [
      "Epoch 1754: 272batch [00:12, 21.51batch/s, loss=6.96e+4]\n"
     ]
    },
    {
     "name": "stdout",
     "output_type": "stream",
     "text": [
      "epoch 1754: avg train loss 72916.15, bar train loss 209.821, len train loss 4.266, col train loss 135.372\n"
     ]
    },
    {
     "name": "stderr",
     "output_type": "stream",
     "text": [
      "Epoch 1755: 3batch [00:00, 21.90batch/s, loss=7.27e+4]"
     ]
    },
    {
     "name": "stdout",
     "output_type": "stream",
     "text": [
      "epoch 1754: avg test  loss 73339.84, bar  test loss 90.273, len  test loss 1.830, col  test loss 58.444\n"
     ]
    },
    {
     "name": "stderr",
     "output_type": "stream",
     "text": [
      "Epoch 1755: 272batch [00:12, 21.70batch/s, loss=7.02e+4]\n"
     ]
    },
    {
     "name": "stdout",
     "output_type": "stream",
     "text": [
      "epoch 1755: avg train loss 72921.73, bar train loss 209.836, len train loss 4.270, col train loss 135.365\n",
      "epoch 1755: avg test  loss 73320.23, bar  test loss 90.263, len  test loss 1.831, col  test loss 58.537\n"
     ]
    },
    {
     "name": "stderr",
     "output_type": "stream",
     "text": [
      "Epoch 1756: 272batch [00:12, 21.38batch/s, loss=7.86e+4]\n"
     ]
    },
    {
     "name": "stdout",
     "output_type": "stream",
     "text": [
      "epoch 1756: avg train loss 72916.02, bar train loss 209.842, len train loss 4.266, col train loss 135.381\n"
     ]
    },
    {
     "name": "stderr",
     "output_type": "stream",
     "text": [
      "Epoch 1757: 3batch [00:00, 22.90batch/s, loss=7.04e+4]"
     ]
    },
    {
     "name": "stdout",
     "output_type": "stream",
     "text": [
      "epoch 1756: avg test  loss 73314.19, bar  test loss 90.161, len  test loss 1.827, col  test loss 58.449\n"
     ]
    },
    {
     "name": "stderr",
     "output_type": "stream",
     "text": [
      "Epoch 1757: 272batch [00:12, 21.54batch/s, loss=7.28e+4]\n"
     ]
    },
    {
     "name": "stdout",
     "output_type": "stream",
     "text": [
      "epoch 1757: avg train loss 72913.12, bar train loss 209.824, len train loss 4.263, col train loss 135.338\n"
     ]
    },
    {
     "name": "stderr",
     "output_type": "stream",
     "text": [
      "Epoch 1758: 3batch [00:00, 21.43batch/s, loss=7.23e+4]"
     ]
    },
    {
     "name": "stdout",
     "output_type": "stream",
     "text": [
      "epoch 1757: avg test  loss 73402.38, bar  test loss 90.446, len  test loss 1.825, col  test loss 58.633\n"
     ]
    },
    {
     "name": "stderr",
     "output_type": "stream",
     "text": [
      "Epoch 1758: 272batch [00:12, 21.35batch/s, loss=7.44e+4]\n"
     ]
    },
    {
     "name": "stdout",
     "output_type": "stream",
     "text": [
      "epoch 1758: avg train loss 72916.72, bar train loss 209.866, len train loss 4.270, col train loss 135.366\n"
     ]
    },
    {
     "name": "stderr",
     "output_type": "stream",
     "text": [
      "Epoch 1759: 3batch [00:00, 22.39batch/s, loss=7.13e+4]"
     ]
    },
    {
     "name": "stdout",
     "output_type": "stream",
     "text": [
      "epoch 1758: avg test  loss 73337.46, bar  test loss 90.367, len  test loss 1.830, col  test loss 58.518\n"
     ]
    },
    {
     "name": "stderr",
     "output_type": "stream",
     "text": [
      "Epoch 1759: 272batch [00:12, 21.38batch/s, loss=7.34e+4]\n"
     ]
    },
    {
     "name": "stdout",
     "output_type": "stream",
     "text": [
      "epoch 1759: avg train loss 72913.89, bar train loss 209.830, len train loss 4.270, col train loss 135.328\n"
     ]
    },
    {
     "name": "stderr",
     "output_type": "stream",
     "text": [
      "Epoch 1760: 3batch [00:00, 21.58batch/s, loss=6.82e+4]"
     ]
    },
    {
     "name": "stdout",
     "output_type": "stream",
     "text": [
      "epoch 1759: avg test  loss 73325.89, bar  test loss 90.411, len  test loss 1.832, col  test loss 58.453\n"
     ]
    },
    {
     "name": "stderr",
     "output_type": "stream",
     "text": [
      "Epoch 1760: 272batch [00:12, 21.51batch/s, loss=7.75e+4]\n"
     ]
    },
    {
     "name": "stdout",
     "output_type": "stream",
     "text": [
      "epoch 1760: avg train loss 72911.37, bar train loss 209.833, len train loss 4.267, col train loss 135.347\n",
      "epoch 1760: avg test  loss 73356.61, bar  test loss 90.599, len  test loss 1.838, col  test loss 58.674\n"
     ]
    },
    {
     "name": "stderr",
     "output_type": "stream",
     "text": [
      "Epoch 1761: 272batch [00:12, 21.23batch/s, loss=7.05e+4]\n"
     ]
    },
    {
     "name": "stdout",
     "output_type": "stream",
     "text": [
      "epoch 1761: avg train loss 72909.91, bar train loss 209.818, len train loss 4.266, col train loss 135.350\n"
     ]
    },
    {
     "name": "stderr",
     "output_type": "stream",
     "text": [
      "Epoch 1762: 3batch [00:00, 21.90batch/s, loss=7.15e+4]"
     ]
    },
    {
     "name": "stdout",
     "output_type": "stream",
     "text": [
      "epoch 1761: avg test  loss 73354.18, bar  test loss 90.400, len  test loss 1.829, col  test loss 58.660\n"
     ]
    },
    {
     "name": "stderr",
     "output_type": "stream",
     "text": [
      "Epoch 1762: 272batch [00:12, 21.44batch/s, loss=7.03e+4]\n"
     ]
    },
    {
     "name": "stdout",
     "output_type": "stream",
     "text": [
      "epoch 1762: avg train loss 72907.83, bar train loss 209.821, len train loss 4.269, col train loss 135.338\n"
     ]
    },
    {
     "name": "stderr",
     "output_type": "stream",
     "text": [
      "Epoch 1763: 3batch [00:00, 21.90batch/s, loss=7.36e+4]"
     ]
    },
    {
     "name": "stdout",
     "output_type": "stream",
     "text": [
      "epoch 1762: avg test  loss 73336.35, bar  test loss 90.388, len  test loss 1.834, col  test loss 58.688\n"
     ]
    },
    {
     "name": "stderr",
     "output_type": "stream",
     "text": [
      "Epoch 1763: 272batch [00:12, 21.40batch/s, loss=7.09e+4]\n"
     ]
    },
    {
     "name": "stdout",
     "output_type": "stream",
     "text": [
      "epoch 1763: avg train loss 72913.49, bar train loss 209.822, len train loss 4.266, col train loss 135.395\n"
     ]
    },
    {
     "name": "stderr",
     "output_type": "stream",
     "text": [
      "Epoch 1764: 3batch [00:00, 22.39batch/s, loss=7.32e+4]"
     ]
    },
    {
     "name": "stdout",
     "output_type": "stream",
     "text": [
      "epoch 1763: avg test  loss 73315.82, bar  test loss 90.355, len  test loss 1.834, col  test loss 58.560\n"
     ]
    },
    {
     "name": "stderr",
     "output_type": "stream",
     "text": [
      "Epoch 1764: 272batch [00:12, 21.31batch/s, loss=6.96e+4]\n"
     ]
    },
    {
     "name": "stdout",
     "output_type": "stream",
     "text": [
      "epoch 1764: avg train loss 72910.95, bar train loss 209.856, len train loss 4.269, col train loss 135.351\n"
     ]
    },
    {
     "name": "stderr",
     "output_type": "stream",
     "text": [
      "Epoch 1765: 3batch [00:00, 21.13batch/s, loss=7.86e+4]"
     ]
    },
    {
     "name": "stdout",
     "output_type": "stream",
     "text": [
      "epoch 1764: avg test  loss 73322.74, bar  test loss 90.310, len  test loss 1.828, col  test loss 58.336\n"
     ]
    },
    {
     "name": "stderr",
     "output_type": "stream",
     "text": [
      "Epoch 1765: 272batch [00:12, 21.32batch/s, loss=6.71e+4]\n"
     ]
    },
    {
     "name": "stdout",
     "output_type": "stream",
     "text": [
      "epoch 1765: avg train loss 72912.41, bar train loss 209.827, len train loss 4.271, col train loss 135.329\n",
      "epoch 1765: avg test  loss 73354.47, bar  test loss 90.461, len  test loss 1.831, col  test loss 58.643\n"
     ]
    },
    {
     "name": "stderr",
     "output_type": "stream",
     "text": [
      "Epoch 1766: 272batch [00:12, 21.16batch/s, loss=7.15e+4]\n"
     ]
    },
    {
     "name": "stdout",
     "output_type": "stream",
     "text": [
      "epoch 1766: avg train loss 72912.62, bar train loss 209.830, len train loss 4.267, col train loss 135.380\n"
     ]
    },
    {
     "name": "stderr",
     "output_type": "stream",
     "text": [
      "Epoch 1767: 3batch [00:00, 22.39batch/s, loss=6.9e+4]"
     ]
    },
    {
     "name": "stdout",
     "output_type": "stream",
     "text": [
      "epoch 1766: avg test  loss 73305.19, bar  test loss 90.322, len  test loss 1.832, col  test loss 58.528\n"
     ]
    },
    {
     "name": "stderr",
     "output_type": "stream",
     "text": [
      "Epoch 1767: 272batch [00:12, 21.02batch/s, loss=7.23e+4]\n"
     ]
    },
    {
     "name": "stdout",
     "output_type": "stream",
     "text": [
      "epoch 1767: avg train loss 72911.92, bar train loss 209.823, len train loss 4.268, col train loss 135.335\n"
     ]
    },
    {
     "name": "stderr",
     "output_type": "stream",
     "text": [
      "Epoch 1768: 3batch [00:00, 21.74batch/s, loss=7.52e+4]"
     ]
    },
    {
     "name": "stdout",
     "output_type": "stream",
     "text": [
      "epoch 1767: avg test  loss 73347.42, bar  test loss 90.413, len  test loss 1.837, col  test loss 58.564\n"
     ]
    },
    {
     "name": "stderr",
     "output_type": "stream",
     "text": [
      "Epoch 1768: 272batch [00:12, 21.49batch/s, loss=7.53e+4]\n"
     ]
    },
    {
     "name": "stdout",
     "output_type": "stream",
     "text": [
      "epoch 1768: avg train loss 72901.65, bar train loss 209.833, len train loss 4.266, col train loss 135.352\n"
     ]
    },
    {
     "name": "stderr",
     "output_type": "stream",
     "text": [
      "Epoch 1769: 3batch [00:00, 21.90batch/s, loss=7.3e+4]"
     ]
    },
    {
     "name": "stdout",
     "output_type": "stream",
     "text": [
      "epoch 1768: avg test  loss 73327.57, bar  test loss 90.140, len  test loss 1.828, col  test loss 58.318\n"
     ]
    },
    {
     "name": "stderr",
     "output_type": "stream",
     "text": [
      "Epoch 1769: 272batch [00:12, 21.46batch/s, loss=6.4e+4] \n"
     ]
    },
    {
     "name": "stdout",
     "output_type": "stream",
     "text": [
      "epoch 1769: avg train loss 72906.05, bar train loss 209.787, len train loss 4.270, col train loss 135.365\n"
     ]
    },
    {
     "name": "stderr",
     "output_type": "stream",
     "text": [
      "Epoch 1770: 3batch [00:00, 21.28batch/s, loss=71789.0]"
     ]
    },
    {
     "name": "stdout",
     "output_type": "stream",
     "text": [
      "epoch 1769: avg test  loss 73296.61, bar  test loss 90.189, len  test loss 1.830, col  test loss 58.335\n"
     ]
    },
    {
     "name": "stderr",
     "output_type": "stream",
     "text": [
      "Epoch 1770: 272batch [00:12, 21.41batch/s, loss=7.3e+4] \n"
     ]
    },
    {
     "name": "stdout",
     "output_type": "stream",
     "text": [
      "epoch 1770: avg train loss 72910.10, bar train loss 209.817, len train loss 4.272, col train loss 135.342\n",
      "epoch 1770: avg test  loss 73295.48, bar  test loss 90.353, len  test loss 1.828, col  test loss 58.514\n"
     ]
    },
    {
     "name": "stderr",
     "output_type": "stream",
     "text": [
      "Epoch 1771: 272batch [00:12, 21.16batch/s, loss=7.62e+4]\n"
     ]
    },
    {
     "name": "stdout",
     "output_type": "stream",
     "text": [
      "epoch 1771: avg train loss 72919.93, bar train loss 209.845, len train loss 4.265, col train loss 135.345\n"
     ]
    },
    {
     "name": "stderr",
     "output_type": "stream",
     "text": [
      "Epoch 1772: 3batch [00:00, 22.56batch/s, loss=6.93e+4]"
     ]
    },
    {
     "name": "stdout",
     "output_type": "stream",
     "text": [
      "epoch 1771: avg test  loss 73309.52, bar  test loss 90.153, len  test loss 1.829, col  test loss 58.296\n"
     ]
    },
    {
     "name": "stderr",
     "output_type": "stream",
     "text": [
      "Epoch 1772: 272batch [00:12, 21.50batch/s, loss=7.2e+4] \n"
     ]
    },
    {
     "name": "stdout",
     "output_type": "stream",
     "text": [
      "epoch 1772: avg train loss 72907.92, bar train loss 209.805, len train loss 4.269, col train loss 135.341\n"
     ]
    },
    {
     "name": "stderr",
     "output_type": "stream",
     "text": [
      "Epoch 1773: 3batch [00:00, 21.12batch/s, loss=7.08e+4]"
     ]
    },
    {
     "name": "stdout",
     "output_type": "stream",
     "text": [
      "epoch 1772: avg test  loss 73346.99, bar  test loss 90.374, len  test loss 1.834, col  test loss 58.533\n"
     ]
    },
    {
     "name": "stderr",
     "output_type": "stream",
     "text": [
      "Epoch 1773: 272batch [00:12, 21.14batch/s, loss=7.55e+4]\n"
     ]
    },
    {
     "name": "stdout",
     "output_type": "stream",
     "text": [
      "epoch 1773: avg train loss 72915.02, bar train loss 209.859, len train loss 4.267, col train loss 135.386\n"
     ]
    },
    {
     "name": "stderr",
     "output_type": "stream",
     "text": [
      "Epoch 1774: 3batch [00:00, 21.58batch/s, loss=7.09e+4]"
     ]
    },
    {
     "name": "stdout",
     "output_type": "stream",
     "text": [
      "epoch 1773: avg test  loss 73323.80, bar  test loss 90.226, len  test loss 1.826, col  test loss 58.438\n"
     ]
    },
    {
     "name": "stderr",
     "output_type": "stream",
     "text": [
      "Epoch 1774: 272batch [00:12, 21.42batch/s, loss=7.45e+4]\n"
     ]
    },
    {
     "name": "stdout",
     "output_type": "stream",
     "text": [
      "epoch 1774: avg train loss 72908.23, bar train loss 209.800, len train loss 4.266, col train loss 135.331\n"
     ]
    },
    {
     "name": "stderr",
     "output_type": "stream",
     "text": [
      "Epoch 1775: 3batch [00:00, 22.39batch/s, loss=7.71e+4]"
     ]
    },
    {
     "name": "stdout",
     "output_type": "stream",
     "text": [
      "epoch 1774: avg test  loss 73314.36, bar  test loss 90.364, len  test loss 1.833, col  test loss 58.483\n"
     ]
    },
    {
     "name": "stderr",
     "output_type": "stream",
     "text": [
      "Epoch 1775: 272batch [00:12, 21.34batch/s, loss=6.63e+4]\n"
     ]
    },
    {
     "name": "stdout",
     "output_type": "stream",
     "text": [
      "epoch 1775: avg train loss 72904.09, bar train loss 209.788, len train loss 4.269, col train loss 135.315\n",
      "epoch 1775: avg test  loss 73340.11, bar  test loss 90.356, len  test loss 1.831, col  test loss 58.499\n"
     ]
    },
    {
     "name": "stderr",
     "output_type": "stream",
     "text": [
      "Epoch 1776: 272batch [00:13, 20.78batch/s, loss=8.04e+4]\n"
     ]
    },
    {
     "name": "stdout",
     "output_type": "stream",
     "text": [
      "epoch 1776: avg train loss 72898.19, bar train loss 209.773, len train loss 4.269, col train loss 135.308\n"
     ]
    },
    {
     "name": "stderr",
     "output_type": "stream",
     "text": [
      "Epoch 1777: 3batch [00:00, 21.13batch/s, loss=7.28e+4]"
     ]
    },
    {
     "name": "stdout",
     "output_type": "stream",
     "text": [
      "epoch 1776: avg test  loss 73351.64, bar  test loss 90.399, len  test loss 1.828, col  test loss 58.559\n"
     ]
    },
    {
     "name": "stderr",
     "output_type": "stream",
     "text": [
      "Epoch 1777: 272batch [00:12, 21.37batch/s, loss=74110.5]\n"
     ]
    },
    {
     "name": "stdout",
     "output_type": "stream",
     "text": [
      "epoch 1777: avg train loss 72910.33, bar train loss 209.803, len train loss 4.269, col train loss 135.310\n"
     ]
    },
    {
     "name": "stderr",
     "output_type": "stream",
     "text": [
      "Epoch 1778: 3batch [00:00, 21.28batch/s, loss=6.89e+4]"
     ]
    },
    {
     "name": "stdout",
     "output_type": "stream",
     "text": [
      "epoch 1777: avg test  loss 73301.12, bar  test loss 90.210, len  test loss 1.835, col  test loss 58.412\n"
     ]
    },
    {
     "name": "stderr",
     "output_type": "stream",
     "text": [
      "Epoch 1778: 272batch [00:12, 21.03batch/s, loss=6.94e+4]\n"
     ]
    },
    {
     "name": "stdout",
     "output_type": "stream",
     "text": [
      "epoch 1778: avg train loss 72903.49, bar train loss 209.790, len train loss 4.270, col train loss 135.296\n"
     ]
    },
    {
     "name": "stderr",
     "output_type": "stream",
     "text": [
      "Epoch 1779: 3batch [00:00, 21.43batch/s, loss=7.43e+4]"
     ]
    },
    {
     "name": "stdout",
     "output_type": "stream",
     "text": [
      "epoch 1778: avg test  loss 73382.73, bar  test loss 90.402, len  test loss 1.837, col  test loss 58.513\n"
     ]
    },
    {
     "name": "stderr",
     "output_type": "stream",
     "text": [
      "Epoch 1779: 272batch [00:12, 21.34batch/s, loss=7.63e+4]\n"
     ]
    },
    {
     "name": "stdout",
     "output_type": "stream",
     "text": [
      "epoch 1779: avg train loss 72898.49, bar train loss 209.761, len train loss 4.269, col train loss 135.290\n"
     ]
    },
    {
     "name": "stderr",
     "output_type": "stream",
     "text": [
      "Epoch 1780: 3batch [00:00, 21.90batch/s, loss=7.19e+4]"
     ]
    },
    {
     "name": "stdout",
     "output_type": "stream",
     "text": [
      "epoch 1779: avg test  loss 73304.09, bar  test loss 90.257, len  test loss 1.830, col  test loss 58.414\n"
     ]
    },
    {
     "name": "stderr",
     "output_type": "stream",
     "text": [
      "Epoch 1780: 272batch [00:12, 21.35batch/s, loss=7.48e+4]\n"
     ]
    },
    {
     "name": "stdout",
     "output_type": "stream",
     "text": [
      "epoch 1780: avg train loss 72915.73, bar train loss 209.813, len train loss 4.268, col train loss 135.349\n",
      "epoch 1780: avg test  loss 73325.58, bar  test loss 90.367, len  test loss 1.833, col  test loss 58.574\n"
     ]
    },
    {
     "name": "stderr",
     "output_type": "stream",
     "text": [
      "Epoch 1781: 272batch [00:12, 21.21batch/s, loss=6.94e+4]\n"
     ]
    },
    {
     "name": "stdout",
     "output_type": "stream",
     "text": [
      "epoch 1781: avg train loss 72918.23, bar train loss 209.819, len train loss 4.267, col train loss 135.339\n"
     ]
    },
    {
     "name": "stderr",
     "output_type": "stream",
     "text": [
      "Epoch 1782: 3batch [00:00, 21.43batch/s, loss=7.52e+4]"
     ]
    },
    {
     "name": "stdout",
     "output_type": "stream",
     "text": [
      "epoch 1781: avg test  loss 73377.14, bar  test loss 90.252, len  test loss 1.832, col  test loss 58.670\n"
     ]
    },
    {
     "name": "stderr",
     "output_type": "stream",
     "text": [
      "Epoch 1782: 272batch [00:12, 21.22batch/s, loss=7.76e+4]\n"
     ]
    },
    {
     "name": "stdout",
     "output_type": "stream",
     "text": [
      "epoch 1782: avg train loss 72913.14, bar train loss 209.788, len train loss 4.266, col train loss 135.342\n"
     ]
    },
    {
     "name": "stderr",
     "output_type": "stream",
     "text": [
      "Epoch 1783: 3batch [00:00, 22.06batch/s, loss=7.62e+4]"
     ]
    },
    {
     "name": "stdout",
     "output_type": "stream",
     "text": [
      "epoch 1782: avg test  loss 73328.96, bar  test loss 90.377, len  test loss 1.825, col  test loss 58.540\n"
     ]
    },
    {
     "name": "stderr",
     "output_type": "stream",
     "text": [
      "Epoch 1783: 272batch [00:12, 21.30batch/s, loss=7.97e+4]\n"
     ]
    },
    {
     "name": "stdout",
     "output_type": "stream",
     "text": [
      "epoch 1783: avg train loss 72904.24, bar train loss 209.793, len train loss 4.267, col train loss 135.328\n"
     ]
    },
    {
     "name": "stderr",
     "output_type": "stream",
     "text": [
      "Epoch 1784: 3batch [00:00, 20.98batch/s, loss=7.06e+4]"
     ]
    },
    {
     "name": "stdout",
     "output_type": "stream",
     "text": [
      "epoch 1783: avg test  loss 73282.95, bar  test loss 90.325, len  test loss 1.832, col  test loss 58.541\n"
     ]
    },
    {
     "name": "stderr",
     "output_type": "stream",
     "text": [
      "Epoch 1784: 272batch [00:12, 20.96batch/s, loss=6.78e+4]\n"
     ]
    },
    {
     "name": "stdout",
     "output_type": "stream",
     "text": [
      "epoch 1784: avg train loss 72906.87, bar train loss 209.816, len train loss 4.264, col train loss 135.333\n"
     ]
    },
    {
     "name": "stderr",
     "output_type": "stream",
     "text": [
      "Epoch 1785: 3batch [00:00, 19.87batch/s, loss=7.05e+4]"
     ]
    },
    {
     "name": "stdout",
     "output_type": "stream",
     "text": [
      "epoch 1784: avg test  loss 73307.82, bar  test loss 90.351, len  test loss 1.834, col  test loss 58.609\n"
     ]
    },
    {
     "name": "stderr",
     "output_type": "stream",
     "text": [
      "Epoch 1785: 272batch [00:13, 20.86batch/s, loss=7.62e+4]\n"
     ]
    },
    {
     "name": "stdout",
     "output_type": "stream",
     "text": [
      "epoch 1785: avg train loss 72897.93, bar train loss 209.781, len train loss 4.268, col train loss 135.266\n",
      "epoch 1785: avg test  loss 73310.53, bar  test loss 90.290, len  test loss 1.829, col  test loss 58.447\n"
     ]
    },
    {
     "name": "stderr",
     "output_type": "stream",
     "text": [
      "Epoch 1786: 272batch [00:12, 20.97batch/s, loss=7.3e+4] \n"
     ]
    },
    {
     "name": "stdout",
     "output_type": "stream",
     "text": [
      "epoch 1786: avg train loss 72906.67, bar train loss 209.822, len train loss 4.267, col train loss 135.325\n"
     ]
    },
    {
     "name": "stderr",
     "output_type": "stream",
     "text": [
      "Epoch 1787: 3batch [00:00, 21.74batch/s, loss=7.52e+4]"
     ]
    },
    {
     "name": "stdout",
     "output_type": "stream",
     "text": [
      "epoch 1786: avg test  loss 73355.77, bar  test loss 90.325, len  test loss 1.831, col  test loss 58.547\n"
     ]
    },
    {
     "name": "stderr",
     "output_type": "stream",
     "text": [
      "Epoch 1787: 272batch [00:12, 21.29batch/s, loss=7.45e+4]\n"
     ]
    },
    {
     "name": "stdout",
     "output_type": "stream",
     "text": [
      "epoch 1787: avg train loss 72901.09, bar train loss 209.802, len train loss 4.268, col train loss 135.299\n"
     ]
    },
    {
     "name": "stderr",
     "output_type": "stream",
     "text": [
      "Epoch 1788: 3batch [00:00, 20.41batch/s, loss=7.27e+4]"
     ]
    },
    {
     "name": "stdout",
     "output_type": "stream",
     "text": [
      "epoch 1787: avg test  loss 73323.26, bar  test loss 90.247, len  test loss 1.832, col  test loss 58.390\n"
     ]
    },
    {
     "name": "stderr",
     "output_type": "stream",
     "text": [
      "Epoch 1788: 272batch [00:12, 21.20batch/s, loss=7.69e+4]\n"
     ]
    },
    {
     "name": "stdout",
     "output_type": "stream",
     "text": [
      "epoch 1788: avg train loss 72908.29, bar train loss 209.764, len train loss 4.268, col train loss 135.330\n"
     ]
    },
    {
     "name": "stderr",
     "output_type": "stream",
     "text": [
      "Epoch 1789: 3batch [00:00, 21.28batch/s, loss=7.15e+4]"
     ]
    },
    {
     "name": "stdout",
     "output_type": "stream",
     "text": [
      "epoch 1788: avg test  loss 73305.46, bar  test loss 90.292, len  test loss 1.832, col  test loss 58.574\n"
     ]
    },
    {
     "name": "stderr",
     "output_type": "stream",
     "text": [
      "Epoch 1789: 272batch [00:12, 20.98batch/s, loss=8.22e+4]\n"
     ]
    },
    {
     "name": "stdout",
     "output_type": "stream",
     "text": [
      "epoch 1789: avg train loss 72900.07, bar train loss 209.764, len train loss 4.266, col train loss 135.300\n"
     ]
    },
    {
     "name": "stderr",
     "output_type": "stream",
     "text": [
      "Epoch 1790: 3batch [00:00, 21.28batch/s, loss=7.16e+4]"
     ]
    },
    {
     "name": "stdout",
     "output_type": "stream",
     "text": [
      "epoch 1789: avg test  loss 73286.95, bar  test loss 90.343, len  test loss 1.832, col  test loss 58.541\n"
     ]
    },
    {
     "name": "stderr",
     "output_type": "stream",
     "text": [
      "Epoch 1790: 272batch [00:13, 20.82batch/s, loss=6.97e+4]\n"
     ]
    },
    {
     "name": "stdout",
     "output_type": "stream",
     "text": [
      "epoch 1790: avg train loss 72899.62, bar train loss 209.783, len train loss 4.265, col train loss 135.305\n",
      "epoch 1790: avg test  loss 73312.66, bar  test loss 90.254, len  test loss 1.835, col  test loss 58.493\n"
     ]
    },
    {
     "name": "stderr",
     "output_type": "stream",
     "text": [
      "Epoch 1791: 272batch [00:12, 21.03batch/s, loss=7e+4]   \n"
     ]
    },
    {
     "name": "stdout",
     "output_type": "stream",
     "text": [
      "epoch 1791: avg train loss 72901.36, bar train loss 209.764, len train loss 4.265, col train loss 135.291\n"
     ]
    },
    {
     "name": "stderr",
     "output_type": "stream",
     "text": [
      "Epoch 1792: 3batch [00:00, 20.83batch/s, loss=7.45e+4]"
     ]
    },
    {
     "name": "stdout",
     "output_type": "stream",
     "text": [
      "epoch 1791: avg test  loss 73309.69, bar  test loss 90.428, len  test loss 1.837, col  test loss 58.659\n"
     ]
    },
    {
     "name": "stderr",
     "output_type": "stream",
     "text": [
      "Epoch 1792: 272batch [00:13, 20.36batch/s, loss=7.15e+4]\n"
     ]
    },
    {
     "name": "stdout",
     "output_type": "stream",
     "text": [
      "epoch 1792: avg train loss 72897.03, bar train loss 209.814, len train loss 4.265, col train loss 135.338\n"
     ]
    },
    {
     "name": "stderr",
     "output_type": "stream",
     "text": [
      "Epoch 1793: 3batch [00:00, 20.83batch/s, loss=7.28e+4]"
     ]
    },
    {
     "name": "stdout",
     "output_type": "stream",
     "text": [
      "epoch 1792: avg test  loss 73351.69, bar  test loss 90.368, len  test loss 1.833, col  test loss 58.592\n"
     ]
    },
    {
     "name": "stderr",
     "output_type": "stream",
     "text": [
      "Epoch 1793: 272batch [00:13, 20.61batch/s, loss=7.49e+4]\n"
     ]
    },
    {
     "name": "stdout",
     "output_type": "stream",
     "text": [
      "epoch 1793: avg train loss 72906.88, bar train loss 209.799, len train loss 4.268, col train loss 135.334\n"
     ]
    },
    {
     "name": "stderr",
     "output_type": "stream",
     "text": [
      "Epoch 1794: 3batch [00:00, 20.83batch/s, loss=7.09e+4]"
     ]
    },
    {
     "name": "stdout",
     "output_type": "stream",
     "text": [
      "epoch 1793: avg test  loss 73326.30, bar  test loss 90.424, len  test loss 1.833, col  test loss 58.557\n"
     ]
    },
    {
     "name": "stderr",
     "output_type": "stream",
     "text": [
      "Epoch 1794: 272batch [00:13, 19.95batch/s, loss=6.85e+4]\n"
     ]
    },
    {
     "name": "stdout",
     "output_type": "stream",
     "text": [
      "epoch 1794: avg train loss 72906.39, bar train loss 209.777, len train loss 4.268, col train loss 135.336\n"
     ]
    },
    {
     "name": "stderr",
     "output_type": "stream",
     "text": [
      "Epoch 1795: 3batch [00:00, 21.58batch/s, loss=7.1e+4]"
     ]
    },
    {
     "name": "stdout",
     "output_type": "stream",
     "text": [
      "epoch 1794: avg test  loss 73307.82, bar  test loss 90.155, len  test loss 1.831, col  test loss 58.429\n"
     ]
    },
    {
     "name": "stderr",
     "output_type": "stream",
     "text": [
      "Epoch 1795: 272batch [00:13, 20.78batch/s, loss=6.34e+4]\n"
     ]
    },
    {
     "name": "stdout",
     "output_type": "stream",
     "text": [
      "epoch 1795: avg train loss 72898.82, bar train loss 209.766, len train loss 4.266, col train loss 135.304\n",
      "epoch 1795: avg test  loss 73302.10, bar  test loss 90.286, len  test loss 1.831, col  test loss 58.449\n"
     ]
    },
    {
     "name": "stderr",
     "output_type": "stream",
     "text": [
      "Epoch 1796: 272batch [00:13, 20.71batch/s, loss=7.77e+4]\n"
     ]
    },
    {
     "name": "stdout",
     "output_type": "stream",
     "text": [
      "epoch 1796: avg train loss 72911.01, bar train loss 209.797, len train loss 4.268, col train loss 135.318\n"
     ]
    },
    {
     "name": "stderr",
     "output_type": "stream",
     "text": [
      "Epoch 1797: 3batch [00:00, 20.55batch/s, loss=7.29e+4]"
     ]
    },
    {
     "name": "stdout",
     "output_type": "stream",
     "text": [
      "epoch 1796: avg test  loss 73303.73, bar  test loss 90.442, len  test loss 1.835, col  test loss 58.711\n"
     ]
    },
    {
     "name": "stderr",
     "output_type": "stream",
     "text": [
      "Epoch 1797: 272batch [00:13, 20.15batch/s, loss=7.53e+4]\n"
     ]
    },
    {
     "name": "stdout",
     "output_type": "stream",
     "text": [
      "epoch 1797: avg train loss 72899.59, bar train loss 209.778, len train loss 4.266, col train loss 135.290\n"
     ]
    },
    {
     "name": "stderr",
     "output_type": "stream",
     "text": [
      "Epoch 1798: 0batch [00:00, ?batch/s, loss=7.41e+4]"
     ]
    },
    {
     "name": "stdout",
     "output_type": "stream",
     "text": [
      "epoch 1797: avg test  loss 73391.90, bar  test loss 90.503, len  test loss 1.832, col  test loss 58.645\n"
     ]
    },
    {
     "name": "stderr",
     "output_type": "stream",
     "text": [
      "Epoch 1798: 272batch [00:13, 19.92batch/s, loss=7.34e+4]\n"
     ]
    },
    {
     "name": "stdout",
     "output_type": "stream",
     "text": [
      "epoch 1798: avg train loss 72902.01, bar train loss 209.789, len train loss 4.268, col train loss 135.280\n"
     ]
    },
    {
     "name": "stderr",
     "output_type": "stream",
     "text": [
      "Epoch 1799: 3batch [00:00, 20.69batch/s, loss=7.57e+4]"
     ]
    },
    {
     "name": "stdout",
     "output_type": "stream",
     "text": [
      "epoch 1798: avg test  loss 73346.36, bar  test loss 90.431, len  test loss 1.839, col  test loss 58.640\n"
     ]
    },
    {
     "name": "stderr",
     "output_type": "stream",
     "text": [
      "Epoch 1799: 272batch [00:14, 19.20batch/s, loss=6.82e+4]\n"
     ]
    },
    {
     "name": "stdout",
     "output_type": "stream",
     "text": [
      "epoch 1799: avg train loss 72899.70, bar train loss 209.795, len train loss 4.268, col train loss 135.316\n"
     ]
    },
    {
     "name": "stderr",
     "output_type": "stream",
     "text": [
      "Epoch 1800: 2batch [00:00, 19.80batch/s, loss=7.66e+4]"
     ]
    },
    {
     "name": "stdout",
     "output_type": "stream",
     "text": [
      "epoch 1799: avg test  loss 73300.40, bar  test loss 90.348, len  test loss 1.835, col  test loss 58.517\n"
     ]
    },
    {
     "name": "stderr",
     "output_type": "stream",
     "text": [
      "Epoch 1800: 272batch [00:13, 20.10batch/s, loss=8.27e+4]\n"
     ]
    },
    {
     "name": "stdout",
     "output_type": "stream",
     "text": [
      "epoch 1800: avg train loss 72900.16, bar train loss 209.784, len train loss 4.270, col train loss 135.308\n",
      "epoch 1800: avg test  loss 73391.27, bar  test loss 90.474, len  test loss 1.830, col  test loss 58.516\n"
     ]
    },
    {
     "data": {
      "text/plain": [
       "<Figure size 5760x1440 with 0 Axes>"
      ]
     },
     "metadata": {},
     "output_type": "display_data"
    },
    {
     "data": {
      "text/plain": [
       "<Figure size 5760x1440 with 0 Axes>"
      ]
     },
     "metadata": {},
     "output_type": "display_data"
    },
    {
     "data": {
      "text/plain": [
       "<Figure size 5760x1440 with 0 Axes>"
      ]
     },
     "metadata": {},
     "output_type": "display_data"
    },
    {
     "data": {
      "text/plain": [
       "<Figure size 5760x1440 with 0 Axes>"
      ]
     },
     "metadata": {},
     "output_type": "display_data"
    },
    {
     "data": {
      "text/plain": [
       "<Figure size 5760x1440 with 0 Axes>"
      ]
     },
     "metadata": {},
     "output_type": "display_data"
    },
    {
     "data": {
      "text/plain": [
       "<Figure size 5760x1440 with 0 Axes>"
      ]
     },
     "metadata": {},
     "output_type": "display_data"
    },
    {
     "data": {
      "text/plain": [
       "<Figure size 5760x1440 with 0 Axes>"
      ]
     },
     "metadata": {},
     "output_type": "display_data"
    },
    {
     "data": {
      "text/plain": [
       "<Figure size 5760x1440 with 0 Axes>"
      ]
     },
     "metadata": {},
     "output_type": "display_data"
    },
    {
     "data": {
      "text/plain": [
       "<Figure size 5760x1440 with 0 Axes>"
      ]
     },
     "metadata": {},
     "output_type": "display_data"
    },
    {
     "data": {
      "text/plain": [
       "<Figure size 5760x1440 with 0 Axes>"
      ]
     },
     "metadata": {},
     "output_type": "display_data"
    },
    {
     "data": {
      "text/plain": [
       "<Figure size 5760x1440 with 0 Axes>"
      ]
     },
     "metadata": {},
     "output_type": "display_data"
    },
    {
     "data": {
      "text/plain": [
       "<Figure size 5760x1440 with 0 Axes>"
      ]
     },
     "metadata": {},
     "output_type": "display_data"
    },
    {
     "data": {
      "text/plain": [
       "<Figure size 5760x1440 with 0 Axes>"
      ]
     },
     "metadata": {},
     "output_type": "display_data"
    },
    {
     "data": {
      "text/plain": [
       "<Figure size 5760x1440 with 0 Axes>"
      ]
     },
     "metadata": {},
     "output_type": "display_data"
    },
    {
     "data": {
      "text/plain": [
       "<Figure size 5760x1440 with 0 Axes>"
      ]
     },
     "metadata": {},
     "output_type": "display_data"
    },
    {
     "data": {
      "text/plain": [
       "<Figure size 5760x1440 with 0 Axes>"
      ]
     },
     "metadata": {},
     "output_type": "display_data"
    },
    {
     "data": {
      "text/plain": [
       "<Figure size 5760x1440 with 0 Axes>"
      ]
     },
     "metadata": {},
     "output_type": "display_data"
    },
    {
     "data": {
      "text/plain": [
       "<Figure size 5760x1440 with 0 Axes>"
      ]
     },
     "metadata": {},
     "output_type": "display_data"
    },
    {
     "data": {
      "text/plain": [
       "<Figure size 5760x1440 with 0 Axes>"
      ]
     },
     "metadata": {},
     "output_type": "display_data"
    },
    {
     "data": {
      "text/plain": [
       "<Figure size 5760x1440 with 0 Axes>"
      ]
     },
     "metadata": {},
     "output_type": "display_data"
    },
    {
     "data": {
      "text/plain": [
       "<Figure size 5760x1440 with 0 Axes>"
      ]
     },
     "metadata": {},
     "output_type": "display_data"
    },
    {
     "data": {
      "text/plain": [
       "<Figure size 5760x1440 with 0 Axes>"
      ]
     },
     "metadata": {},
     "output_type": "display_data"
    },
    {
     "data": {
      "text/plain": [
       "<Figure size 5760x1440 with 0 Axes>"
      ]
     },
     "metadata": {},
     "output_type": "display_data"
    },
    {
     "data": {
      "text/plain": [
       "<Figure size 5760x1440 with 0 Axes>"
      ]
     },
     "metadata": {},
     "output_type": "display_data"
    },
    {
     "data": {
      "text/plain": [
       "<Figure size 5760x1440 with 0 Axes>"
      ]
     },
     "metadata": {},
     "output_type": "display_data"
    },
    {
     "data": {
      "text/plain": [
       "<Figure size 5760x1440 with 0 Axes>"
      ]
     },
     "metadata": {},
     "output_type": "display_data"
    },
    {
     "data": {
      "text/plain": [
       "<Figure size 5760x1440 with 0 Axes>"
      ]
     },
     "metadata": {},
     "output_type": "display_data"
    },
    {
     "data": {
      "text/plain": [
       "<Figure size 5760x1440 with 0 Axes>"
      ]
     },
     "metadata": {},
     "output_type": "display_data"
    },
    {
     "data": {
      "text/plain": [
       "<Figure size 5760x1440 with 0 Axes>"
      ]
     },
     "metadata": {},
     "output_type": "display_data"
    },
    {
     "data": {
      "text/plain": [
       "<Figure size 5760x1440 with 0 Axes>"
      ]
     },
     "metadata": {},
     "output_type": "display_data"
    },
    {
     "data": {
      "text/plain": [
       "<Figure size 5760x1440 with 0 Axes>"
      ]
     },
     "metadata": {},
     "output_type": "display_data"
    },
    {
     "data": {
      "text/plain": [
       "<Figure size 5760x1440 with 0 Axes>"
      ]
     },
     "metadata": {},
     "output_type": "display_data"
    },
    {
     "data": {
      "text/plain": [
       "<Figure size 5760x1440 with 0 Axes>"
      ]
     },
     "metadata": {},
     "output_type": "display_data"
    },
    {
     "data": {
      "text/plain": [
       "<Figure size 5760x1440 with 0 Axes>"
      ]
     },
     "metadata": {},
     "output_type": "display_data"
    },
    {
     "data": {
      "text/plain": [
       "<Figure size 5760x1440 with 0 Axes>"
      ]
     },
     "metadata": {},
     "output_type": "display_data"
    },
    {
     "data": {
      "text/plain": [
       "<Figure size 5760x1440 with 0 Axes>"
      ]
     },
     "metadata": {},
     "output_type": "display_data"
    },
    {
     "data": {
      "text/plain": [
       "<Figure size 5760x1440 with 0 Axes>"
      ]
     },
     "metadata": {},
     "output_type": "display_data"
    },
    {
     "data": {
      "text/plain": [
       "<Figure size 5760x1440 with 0 Axes>"
      ]
     },
     "metadata": {},
     "output_type": "display_data"
    },
    {
     "data": {
      "text/plain": [
       "<Figure size 5760x1440 with 0 Axes>"
      ]
     },
     "metadata": {},
     "output_type": "display_data"
    },
    {
     "data": {
      "text/plain": [
       "<Figure size 5760x1440 with 0 Axes>"
      ]
     },
     "metadata": {},
     "output_type": "display_data"
    },
    {
     "data": {
      "text/plain": [
       "<Figure size 5760x1440 with 0 Axes>"
      ]
     },
     "metadata": {},
     "output_type": "display_data"
    },
    {
     "data": {
      "text/plain": [
       "<Figure size 5760x1440 with 0 Axes>"
      ]
     },
     "metadata": {},
     "output_type": "display_data"
    },
    {
     "data": {
      "text/plain": [
       "<Figure size 5760x1440 with 0 Axes>"
      ]
     },
     "metadata": {},
     "output_type": "display_data"
    },
    {
     "data": {
      "text/plain": [
       "<Figure size 5760x1440 with 0 Axes>"
      ]
     },
     "metadata": {},
     "output_type": "display_data"
    },
    {
     "data": {
      "text/plain": [
       "<Figure size 5760x1440 with 0 Axes>"
      ]
     },
     "metadata": {},
     "output_type": "display_data"
    },
    {
     "data": {
      "text/plain": [
       "<Figure size 5760x1440 with 0 Axes>"
      ]
     },
     "metadata": {},
     "output_type": "display_data"
    },
    {
     "data": {
      "text/plain": [
       "<Figure size 5760x1440 with 0 Axes>"
      ]
     },
     "metadata": {},
     "output_type": "display_data"
    },
    {
     "data": {
      "text/plain": [
       "<Figure size 5760x1440 with 0 Axes>"
      ]
     },
     "metadata": {},
     "output_type": "display_data"
    },
    {
     "data": {
      "text/plain": [
       "<Figure size 5760x1440 with 0 Axes>"
      ]
     },
     "metadata": {},
     "output_type": "display_data"
    },
    {
     "data": {
      "text/plain": [
       "<Figure size 5760x1440 with 0 Axes>"
      ]
     },
     "metadata": {},
     "output_type": "display_data"
    },
    {
     "data": {
      "text/plain": [
       "<Figure size 5760x1440 with 0 Axes>"
      ]
     },
     "metadata": {},
     "output_type": "display_data"
    },
    {
     "data": {
      "text/plain": [
       "<Figure size 5760x1440 with 0 Axes>"
      ]
     },
     "metadata": {},
     "output_type": "display_data"
    },
    {
     "data": {
      "text/plain": [
       "<Figure size 5760x1440 with 0 Axes>"
      ]
     },
     "metadata": {},
     "output_type": "display_data"
    },
    {
     "data": {
      "text/plain": [
       "<Figure size 5760x1440 with 0 Axes>"
      ]
     },
     "metadata": {},
     "output_type": "display_data"
    },
    {
     "data": {
      "text/plain": [
       "<Figure size 5760x1440 with 0 Axes>"
      ]
     },
     "metadata": {},
     "output_type": "display_data"
    },
    {
     "data": {
      "text/plain": [
       "<Figure size 5760x1440 with 0 Axes>"
      ]
     },
     "metadata": {},
     "output_type": "display_data"
    },
    {
     "data": {
      "text/plain": [
       "<Figure size 5760x1440 with 0 Axes>"
      ]
     },
     "metadata": {},
     "output_type": "display_data"
    },
    {
     "data": {
      "text/plain": [
       "<Figure size 5760x1440 with 0 Axes>"
      ]
     },
     "metadata": {},
     "output_type": "display_data"
    },
    {
     "data": {
      "text/plain": [
       "<Figure size 5760x1440 with 0 Axes>"
      ]
     },
     "metadata": {},
     "output_type": "display_data"
    },
    {
     "data": {
      "text/plain": [
       "<Figure size 5760x1440 with 0 Axes>"
      ]
     },
     "metadata": {},
     "output_type": "display_data"
    },
    {
     "data": {
      "text/plain": [
       "<Figure size 5760x1440 with 0 Axes>"
      ]
     },
     "metadata": {},
     "output_type": "display_data"
    },
    {
     "data": {
      "text/plain": [
       "<Figure size 5760x1440 with 0 Axes>"
      ]
     },
     "metadata": {},
     "output_type": "display_data"
    },
    {
     "data": {
      "text/plain": [
       "<Figure size 5760x1440 with 0 Axes>"
      ]
     },
     "metadata": {},
     "output_type": "display_data"
    },
    {
     "data": {
      "text/plain": [
       "<Figure size 5760x1440 with 0 Axes>"
      ]
     },
     "metadata": {},
     "output_type": "display_data"
    },
    {
     "data": {
      "text/plain": [
       "<Figure size 5760x1440 with 0 Axes>"
      ]
     },
     "metadata": {},
     "output_type": "display_data"
    },
    {
     "data": {
      "text/plain": [
       "<Figure size 5760x1440 with 0 Axes>"
      ]
     },
     "metadata": {},
     "output_type": "display_data"
    },
    {
     "data": {
      "text/plain": [
       "<Figure size 5760x1440 with 0 Axes>"
      ]
     },
     "metadata": {},
     "output_type": "display_data"
    },
    {
     "data": {
      "text/plain": [
       "<Figure size 5760x1440 with 0 Axes>"
      ]
     },
     "metadata": {},
     "output_type": "display_data"
    },
    {
     "data": {
      "text/plain": [
       "<Figure size 5760x1440 with 0 Axes>"
      ]
     },
     "metadata": {},
     "output_type": "display_data"
    },
    {
     "data": {
      "text/plain": [
       "<Figure size 5760x1440 with 0 Axes>"
      ]
     },
     "metadata": {},
     "output_type": "display_data"
    },
    {
     "data": {
      "text/plain": [
       "<Figure size 5760x1440 with 0 Axes>"
      ]
     },
     "metadata": {},
     "output_type": "display_data"
    },
    {
     "data": {
      "text/plain": [
       "<Figure size 5760x1440 with 0 Axes>"
      ]
     },
     "metadata": {},
     "output_type": "display_data"
    },
    {
     "data": {
      "text/plain": [
       "<Figure size 5760x1440 with 0 Axes>"
      ]
     },
     "metadata": {},
     "output_type": "display_data"
    },
    {
     "data": {
      "text/plain": [
       "<Figure size 5760x1440 with 0 Axes>"
      ]
     },
     "metadata": {},
     "output_type": "display_data"
    },
    {
     "data": {
      "text/plain": [
       "<Figure size 5760x1440 with 0 Axes>"
      ]
     },
     "metadata": {},
     "output_type": "display_data"
    },
    {
     "data": {
      "text/plain": [
       "<Figure size 5760x1440 with 0 Axes>"
      ]
     },
     "metadata": {},
     "output_type": "display_data"
    },
    {
     "data": {
      "text/plain": [
       "<Figure size 5760x1440 with 0 Axes>"
      ]
     },
     "metadata": {},
     "output_type": "display_data"
    },
    {
     "data": {
      "text/plain": [
       "<Figure size 5760x1440 with 0 Axes>"
      ]
     },
     "metadata": {},
     "output_type": "display_data"
    },
    {
     "data": {
      "text/plain": [
       "<Figure size 5760x1440 with 0 Axes>"
      ]
     },
     "metadata": {},
     "output_type": "display_data"
    },
    {
     "data": {
      "text/plain": [
       "<Figure size 5760x1440 with 0 Axes>"
      ]
     },
     "metadata": {},
     "output_type": "display_data"
    }
   ],
   "source": [
    "lss, lss_t = train(default_args, train_loader, test_loader, diva, optimizer, 1800, 1400, save_folder=\"VAE1\")"
   ]
  },
  {
   "cell_type": "code",
   "execution_count": 56,
   "metadata": {
    "colab": {
     "base_uri": "https://localhost:8080/",
     "height": 1000
    },
    "executionInfo": {
     "elapsed": 4182003,
     "status": "ok",
     "timestamp": 1647010362327,
     "user": {
      "displayName": "Marko Petkovic",
      "photoUrl": "https://lh3.googleusercontent.com/a-/AOh14Gijd0e9r3I1vRZVN6DEwl16XpJxxS1oSAKunOnfZQ=s64",
      "userId": "11987583535390684770"
     },
     "user_tz": -60
    },
    "id": "NprX9l7G73MJ",
    "outputId": "e970b2ef-1d7d-4702-dd1f-3bb4b59c0326"
   },
   "outputs": [
    {
     "name": "stderr",
     "output_type": "stream",
     "text": [
      "Epoch 1801: 272batch [00:07, 36.51batch/s, loss=7.27e+4]\n"
     ]
    },
    {
     "name": "stdout",
     "output_type": "stream",
     "text": [
      "epoch 1801: avg train loss 72893.23, bar train loss 209.763, len train loss 4.265, col train loss 135.302\n"
     ]
    },
    {
     "name": "stderr",
     "output_type": "stream",
     "text": [
      "Epoch 1802: 4batch [00:00, 35.09batch/s, loss=7.35e+4]"
     ]
    },
    {
     "name": "stdout",
     "output_type": "stream",
     "text": [
      "epoch 1801: avg test  loss 73328.48, bar  test loss 90.404, len  test loss 1.831, col  test loss 58.565\n"
     ]
    },
    {
     "name": "stderr",
     "output_type": "stream",
     "text": [
      "Epoch 1802: 272batch [00:07, 37.00batch/s, loss=8.48e+4]\n"
     ]
    },
    {
     "name": "stdout",
     "output_type": "stream",
     "text": [
      "epoch 1802: avg train loss 72906.02, bar train loss 209.793, len train loss 4.266, col train loss 135.315\n"
     ]
    },
    {
     "name": "stderr",
     "output_type": "stream",
     "text": [
      "Epoch 1803: 4batch [00:00, 34.19batch/s, loss=6.98e+4]"
     ]
    },
    {
     "name": "stdout",
     "output_type": "stream",
     "text": [
      "epoch 1802: avg test  loss 73309.69, bar  test loss 90.382, len  test loss 1.836, col  test loss 58.486\n"
     ]
    },
    {
     "name": "stderr",
     "output_type": "stream",
     "text": [
      "Epoch 1803: 272batch [00:07, 36.38batch/s, loss=7.04e+4]\n"
     ]
    },
    {
     "name": "stdout",
     "output_type": "stream",
     "text": [
      "epoch 1803: avg train loss 72894.05, bar train loss 209.767, len train loss 4.266, col train loss 135.313\n"
     ]
    },
    {
     "name": "stderr",
     "output_type": "stream",
     "text": [
      "Epoch 1804: 4batch [00:00, 36.04batch/s, loss=7.4e+4] "
     ]
    },
    {
     "name": "stdout",
     "output_type": "stream",
     "text": [
      "epoch 1803: avg test  loss 73294.13, bar  test loss 90.298, len  test loss 1.831, col  test loss 58.497\n"
     ]
    },
    {
     "name": "stderr",
     "output_type": "stream",
     "text": [
      "Epoch 1804: 272batch [00:07, 36.90batch/s, loss=7.11e+4]\n"
     ]
    },
    {
     "name": "stdout",
     "output_type": "stream",
     "text": [
      "epoch 1804: avg train loss 72889.46, bar train loss 209.767, len train loss 4.266, col train loss 135.289\n"
     ]
    },
    {
     "name": "stderr",
     "output_type": "stream",
     "text": [
      "Epoch 1805: 4batch [00:00, 36.04batch/s, loss=7.36e+4]"
     ]
    },
    {
     "name": "stdout",
     "output_type": "stream",
     "text": [
      "epoch 1804: avg test  loss 73328.82, bar  test loss 90.296, len  test loss 1.832, col  test loss 58.526\n"
     ]
    },
    {
     "name": "stderr",
     "output_type": "stream",
     "text": [
      "Epoch 1805: 272batch [00:07, 36.91batch/s, loss=7.14e+4]\n"
     ]
    },
    {
     "name": "stdout",
     "output_type": "stream",
     "text": [
      "epoch 1805: avg train loss 72904.09, bar train loss 209.782, len train loss 4.264, col train loss 135.314\n",
      "epoch 1805: avg test  loss 73382.79, bar  test loss 90.486, len  test loss 1.834, col  test loss 58.822\n"
     ]
    },
    {
     "name": "stderr",
     "output_type": "stream",
     "text": [
      "Epoch 1806: 272batch [00:07, 36.69batch/s, loss=7.66e+4]\n"
     ]
    },
    {
     "name": "stdout",
     "output_type": "stream",
     "text": [
      "epoch 1806: avg train loss 72897.27, bar train loss 209.788, len train loss 4.263, col train loss 135.316\n"
     ]
    },
    {
     "name": "stderr",
     "output_type": "stream",
     "text": [
      "Epoch 1807: 4batch [00:00, 34.78batch/s, loss=7.37e+4]"
     ]
    },
    {
     "name": "stdout",
     "output_type": "stream",
     "text": [
      "epoch 1806: avg test  loss 73348.77, bar  test loss 90.300, len  test loss 1.827, col  test loss 58.479\n"
     ]
    },
    {
     "name": "stderr",
     "output_type": "stream",
     "text": [
      "Epoch 1807: 272batch [00:07, 37.10batch/s, loss=7.37e+4]\n"
     ]
    },
    {
     "name": "stdout",
     "output_type": "stream",
     "text": [
      "epoch 1807: avg train loss 72897.03, bar train loss 209.800, len train loss 4.267, col train loss 135.307\n"
     ]
    },
    {
     "name": "stderr",
     "output_type": "stream",
     "text": [
      "Epoch 1808: 4batch [00:00, 35.09batch/s, loss=7.34e+4]"
     ]
    },
    {
     "name": "stdout",
     "output_type": "stream",
     "text": [
      "epoch 1807: avg test  loss 73329.85, bar  test loss 90.238, len  test loss 1.831, col  test loss 58.487\n"
     ]
    },
    {
     "name": "stderr",
     "output_type": "stream",
     "text": [
      "Epoch 1808: 272batch [00:07, 36.99batch/s, loss=7.33e+4]\n"
     ]
    },
    {
     "name": "stdout",
     "output_type": "stream",
     "text": [
      "epoch 1808: avg train loss 72894.68, bar train loss 209.753, len train loss 4.267, col train loss 135.305\n"
     ]
    },
    {
     "name": "stderr",
     "output_type": "stream",
     "text": [
      "Epoch 1809: 4batch [00:00, 35.71batch/s, loss=7.5e+4] "
     ]
    },
    {
     "name": "stdout",
     "output_type": "stream",
     "text": [
      "epoch 1808: avg test  loss 73306.23, bar  test loss 90.218, len  test loss 1.834, col  test loss 58.457\n"
     ]
    },
    {
     "name": "stderr",
     "output_type": "stream",
     "text": [
      "Epoch 1809: 272batch [00:07, 37.08batch/s, loss=7.03e+4]\n"
     ]
    },
    {
     "name": "stdout",
     "output_type": "stream",
     "text": [
      "epoch 1809: avg train loss 72894.74, bar train loss 209.766, len train loss 4.267, col train loss 135.270\n"
     ]
    },
    {
     "name": "stderr",
     "output_type": "stream",
     "text": [
      "Epoch 1810: 4batch [00:00, 36.04batch/s, loss=7.34e+4]"
     ]
    },
    {
     "name": "stdout",
     "output_type": "stream",
     "text": [
      "epoch 1809: avg test  loss 73336.38, bar  test loss 90.476, len  test loss 1.836, col  test loss 58.771\n"
     ]
    },
    {
     "name": "stderr",
     "output_type": "stream",
     "text": [
      "Epoch 1810: 272batch [00:07, 36.99batch/s, loss=7.1e+4] \n"
     ]
    },
    {
     "name": "stdout",
     "output_type": "stream",
     "text": [
      "epoch 1810: avg train loss 72898.96, bar train loss 209.796, len train loss 4.266, col train loss 135.273\n",
      "epoch 1810: avg test  loss 73329.73, bar  test loss 90.233, len  test loss 1.823, col  test loss 58.497\n"
     ]
    },
    {
     "name": "stderr",
     "output_type": "stream",
     "text": [
      "Epoch 1811: 272batch [00:07, 37.24batch/s, loss=6.79e+4]\n"
     ]
    },
    {
     "name": "stdout",
     "output_type": "stream",
     "text": [
      "epoch 1811: avg train loss 72905.48, bar train loss 209.779, len train loss 4.266, col train loss 135.289\n"
     ]
    },
    {
     "name": "stderr",
     "output_type": "stream",
     "text": [
      "Epoch 1812: 4batch [00:00, 36.36batch/s, loss=7.74e+4]"
     ]
    },
    {
     "name": "stdout",
     "output_type": "stream",
     "text": [
      "epoch 1811: avg test  loss 73333.30, bar  test loss 90.263, len  test loss 1.834, col  test loss 58.344\n"
     ]
    },
    {
     "name": "stderr",
     "output_type": "stream",
     "text": [
      "Epoch 1812: 272batch [00:07, 37.18batch/s, loss=8.66e+4]\n"
     ]
    },
    {
     "name": "stdout",
     "output_type": "stream",
     "text": [
      "epoch 1812: avg train loss 72892.55, bar train loss 209.757, len train loss 4.265, col train loss 135.310\n"
     ]
    },
    {
     "name": "stderr",
     "output_type": "stream",
     "text": [
      "Epoch 1813: 4batch [00:00, 35.71batch/s, loss=7.08e+4]"
     ]
    },
    {
     "name": "stdout",
     "output_type": "stream",
     "text": [
      "epoch 1812: avg test  loss 73290.79, bar  test loss 90.251, len  test loss 1.830, col  test loss 58.425\n"
     ]
    },
    {
     "name": "stderr",
     "output_type": "stream",
     "text": [
      "Epoch 1813: 272batch [00:07, 37.31batch/s, loss=6.95e+4]\n"
     ]
    },
    {
     "name": "stdout",
     "output_type": "stream",
     "text": [
      "epoch 1813: avg train loss 72898.20, bar train loss 209.784, len train loss 4.265, col train loss 135.295\n"
     ]
    },
    {
     "name": "stderr",
     "output_type": "stream",
     "text": [
      "Epoch 1814: 4batch [00:00, 33.90batch/s, loss=7.43e+4]"
     ]
    },
    {
     "name": "stdout",
     "output_type": "stream",
     "text": [
      "epoch 1813: avg test  loss 73306.14, bar  test loss 90.268, len  test loss 1.833, col  test loss 58.537\n"
     ]
    },
    {
     "name": "stderr",
     "output_type": "stream",
     "text": [
      "Epoch 1814: 272batch [00:07, 37.23batch/s, loss=7.3e+4] \n"
     ]
    },
    {
     "name": "stdout",
     "output_type": "stream",
     "text": [
      "epoch 1814: avg train loss 72893.49, bar train loss 209.772, len train loss 4.265, col train loss 135.285\n"
     ]
    },
    {
     "name": "stderr",
     "output_type": "stream",
     "text": [
      "Epoch 1815: 4batch [00:00, 34.19batch/s, loss=6.77e+4]"
     ]
    },
    {
     "name": "stdout",
     "output_type": "stream",
     "text": [
      "epoch 1814: avg test  loss 73327.23, bar  test loss 90.402, len  test loss 1.835, col  test loss 58.562\n"
     ]
    },
    {
     "name": "stderr",
     "output_type": "stream",
     "text": [
      "Epoch 1815: 272batch [00:07, 37.09batch/s, loss=7.33e+4]\n"
     ]
    },
    {
     "name": "stdout",
     "output_type": "stream",
     "text": [
      "epoch 1815: avg train loss 72891.52, bar train loss 209.748, len train loss 4.268, col train loss 135.251\n",
      "epoch 1815: avg test  loss 73319.92, bar  test loss 90.392, len  test loss 1.833, col  test loss 58.525\n"
     ]
    },
    {
     "name": "stderr",
     "output_type": "stream",
     "text": [
      "Epoch 1816: 272batch [00:07, 37.02batch/s, loss=6.96e+4]\n"
     ]
    },
    {
     "name": "stdout",
     "output_type": "stream",
     "text": [
      "epoch 1816: avg train loss 72891.41, bar train loss 209.759, len train loss 4.265, col train loss 135.300\n"
     ]
    },
    {
     "name": "stderr",
     "output_type": "stream",
     "text": [
      "Epoch 1817: 4batch [00:00, 36.36batch/s, loss=7.51e+4]"
     ]
    },
    {
     "name": "stdout",
     "output_type": "stream",
     "text": [
      "epoch 1816: avg test  loss 73289.21, bar  test loss 90.218, len  test loss 1.831, col  test loss 58.393\n"
     ]
    },
    {
     "name": "stderr",
     "output_type": "stream",
     "text": [
      "Epoch 1817: 272batch [00:07, 37.33batch/s, loss=7.54e+4]\n"
     ]
    },
    {
     "name": "stdout",
     "output_type": "stream",
     "text": [
      "epoch 1817: avg train loss 72897.92, bar train loss 209.738, len train loss 4.269, col train loss 135.294\n"
     ]
    },
    {
     "name": "stderr",
     "output_type": "stream",
     "text": [
      "Epoch 1818: 4batch [00:00, 35.72batch/s, loss=7.23e+4]"
     ]
    },
    {
     "name": "stdout",
     "output_type": "stream",
     "text": [
      "epoch 1817: avg test  loss 73297.05, bar  test loss 90.338, len  test loss 1.827, col  test loss 58.503\n"
     ]
    },
    {
     "name": "stderr",
     "output_type": "stream",
     "text": [
      "Epoch 1818: 272batch [00:07, 37.37batch/s, loss=6.85e+4]\n"
     ]
    },
    {
     "name": "stdout",
     "output_type": "stream",
     "text": [
      "epoch 1818: avg train loss 72889.89, bar train loss 209.745, len train loss 4.265, col train loss 135.260\n"
     ]
    },
    {
     "name": "stderr",
     "output_type": "stream",
     "text": [
      "Epoch 1819: 4batch [00:00, 33.61batch/s, loss=6.99e+4]"
     ]
    },
    {
     "name": "stdout",
     "output_type": "stream",
     "text": [
      "epoch 1818: avg test  loss 73282.62, bar  test loss 90.330, len  test loss 1.828, col  test loss 58.594\n"
     ]
    },
    {
     "name": "stderr",
     "output_type": "stream",
     "text": [
      "Epoch 1819: 272batch [00:07, 37.31batch/s, loss=6.67e+4]\n"
     ]
    },
    {
     "name": "stdout",
     "output_type": "stream",
     "text": [
      "epoch 1819: avg train loss 72890.41, bar train loss 209.729, len train loss 4.265, col train loss 135.266\n"
     ]
    },
    {
     "name": "stderr",
     "output_type": "stream",
     "text": [
      "Epoch 1820: 4batch [00:00, 33.90batch/s, loss=7.37e+4]"
     ]
    },
    {
     "name": "stdout",
     "output_type": "stream",
     "text": [
      "epoch 1819: avg test  loss 73316.23, bar  test loss 90.521, len  test loss 1.831, col  test loss 58.690\n"
     ]
    },
    {
     "name": "stderr",
     "output_type": "stream",
     "text": [
      "Epoch 1820: 272batch [00:07, 37.13batch/s, loss=6.88e+4]\n"
     ]
    },
    {
     "name": "stdout",
     "output_type": "stream",
     "text": [
      "epoch 1820: avg train loss 72890.22, bar train loss 209.746, len train loss 4.265, col train loss 135.244\n",
      "epoch 1820: avg test  loss 73292.29, bar  test loss 90.288, len  test loss 1.825, col  test loss 58.474\n"
     ]
    },
    {
     "name": "stderr",
     "output_type": "stream",
     "text": [
      "Epoch 1821: 272batch [00:07, 37.11batch/s, loss=7.15e+4]\n"
     ]
    },
    {
     "name": "stdout",
     "output_type": "stream",
     "text": [
      "epoch 1821: avg train loss 72903.07, bar train loss 209.769, len train loss 4.265, col train loss 135.304\n"
     ]
    },
    {
     "name": "stderr",
     "output_type": "stream",
     "text": [
      "Epoch 1822: 4batch [00:00, 34.78batch/s, loss=7.12e+4]"
     ]
    },
    {
     "name": "stdout",
     "output_type": "stream",
     "text": [
      "epoch 1821: avg test  loss 73316.81, bar  test loss 90.389, len  test loss 1.833, col  test loss 58.463\n"
     ]
    },
    {
     "name": "stderr",
     "output_type": "stream",
     "text": [
      "Epoch 1822: 272batch [00:07, 37.21batch/s, loss=6.72e+4]\n"
     ]
    },
    {
     "name": "stdout",
     "output_type": "stream",
     "text": [
      "epoch 1822: avg train loss 72890.30, bar train loss 209.726, len train loss 4.266, col train loss 135.297\n"
     ]
    },
    {
     "name": "stderr",
     "output_type": "stream",
     "text": [
      "Epoch 1823: 4batch [00:00, 36.36batch/s, loss=7.56e+4]"
     ]
    },
    {
     "name": "stdout",
     "output_type": "stream",
     "text": [
      "epoch 1822: avg test  loss 73300.55, bar  test loss 90.227, len  test loss 1.831, col  test loss 58.381\n"
     ]
    },
    {
     "name": "stderr",
     "output_type": "stream",
     "text": [
      "Epoch 1823: 272batch [00:07, 36.97batch/s, loss=7.3e+4] \n"
     ]
    },
    {
     "name": "stdout",
     "output_type": "stream",
     "text": [
      "epoch 1823: avg train loss 72888.96, bar train loss 209.719, len train loss 4.268, col train loss 135.283\n"
     ]
    },
    {
     "name": "stderr",
     "output_type": "stream",
     "text": [
      "Epoch 1824: 4batch [00:00, 35.71batch/s, loss=72819.5]"
     ]
    },
    {
     "name": "stdout",
     "output_type": "stream",
     "text": [
      "epoch 1823: avg test  loss 73299.16, bar  test loss 90.342, len  test loss 1.825, col  test loss 58.513\n"
     ]
    },
    {
     "name": "stderr",
     "output_type": "stream",
     "text": [
      "Epoch 1824: 272batch [00:07, 37.24batch/s, loss=7.96e+4]\n"
     ]
    },
    {
     "name": "stdout",
     "output_type": "stream",
     "text": [
      "epoch 1824: avg train loss 72888.08, bar train loss 209.766, len train loss 4.263, col train loss 135.284\n"
     ]
    },
    {
     "name": "stderr",
     "output_type": "stream",
     "text": [
      "Epoch 1825: 4batch [00:00, 34.78batch/s, loss=7.33e+4]"
     ]
    },
    {
     "name": "stdout",
     "output_type": "stream",
     "text": [
      "epoch 1824: avg test  loss 73299.64, bar  test loss 90.302, len  test loss 1.827, col  test loss 58.543\n"
     ]
    },
    {
     "name": "stderr",
     "output_type": "stream",
     "text": [
      "Epoch 1825: 272batch [00:07, 37.10batch/s, loss=7.21e+4]\n"
     ]
    },
    {
     "name": "stdout",
     "output_type": "stream",
     "text": [
      "epoch 1825: avg train loss 72895.14, bar train loss 209.738, len train loss 4.267, col train loss 135.310\n",
      "epoch 1825: avg test  loss 73356.42, bar  test loss 90.090, len  test loss 1.829, col  test loss 58.299\n"
     ]
    },
    {
     "name": "stderr",
     "output_type": "stream",
     "text": [
      "Epoch 1826: 272batch [00:07, 36.92batch/s, loss=6.95e+4]\n"
     ]
    },
    {
     "name": "stdout",
     "output_type": "stream",
     "text": [
      "epoch 1826: avg train loss 72896.10, bar train loss 209.777, len train loss 4.265, col train loss 135.259\n"
     ]
    },
    {
     "name": "stderr",
     "output_type": "stream",
     "text": [
      "Epoch 1827: 4batch [00:00, 34.48batch/s, loss=7.26e+4]"
     ]
    },
    {
     "name": "stdout",
     "output_type": "stream",
     "text": [
      "epoch 1826: avg test  loss 73333.12, bar  test loss 90.483, len  test loss 1.833, col  test loss 58.507\n"
     ]
    },
    {
     "name": "stderr",
     "output_type": "stream",
     "text": [
      "Epoch 1827: 272batch [00:07, 37.15batch/s, loss=7.8e+4] \n"
     ]
    },
    {
     "name": "stdout",
     "output_type": "stream",
     "text": [
      "epoch 1827: avg train loss 72896.23, bar train loss 209.762, len train loss 4.264, col train loss 135.310\n"
     ]
    },
    {
     "name": "stderr",
     "output_type": "stream",
     "text": [
      "Epoch 1828: 4batch [00:00, 32.52batch/s, loss=7.19e+4]"
     ]
    },
    {
     "name": "stdout",
     "output_type": "stream",
     "text": [
      "epoch 1827: avg test  loss 73286.73, bar  test loss 90.353, len  test loss 1.833, col  test loss 58.545\n"
     ]
    },
    {
     "name": "stderr",
     "output_type": "stream",
     "text": [
      "Epoch 1828: 272batch [00:07, 37.09batch/s, loss=6.81e+4]\n"
     ]
    },
    {
     "name": "stdout",
     "output_type": "stream",
     "text": [
      "epoch 1828: avg train loss 72890.09, bar train loss 209.753, len train loss 4.265, col train loss 135.305\n"
     ]
    },
    {
     "name": "stderr",
     "output_type": "stream",
     "text": [
      "Epoch 1829: 4batch [00:00, 34.48batch/s, loss=7.05e+4]"
     ]
    },
    {
     "name": "stdout",
     "output_type": "stream",
     "text": [
      "epoch 1828: avg test  loss 73326.65, bar  test loss 90.456, len  test loss 1.822, col  test loss 58.522\n"
     ]
    },
    {
     "name": "stderr",
     "output_type": "stream",
     "text": [
      "Epoch 1829: 272batch [00:07, 36.62batch/s, loss=7.19e+4]\n"
     ]
    },
    {
     "name": "stdout",
     "output_type": "stream",
     "text": [
      "epoch 1829: avg train loss 72895.07, bar train loss 209.759, len train loss 4.267, col train loss 135.306\n"
     ]
    },
    {
     "name": "stderr",
     "output_type": "stream",
     "text": [
      "Epoch 1830: 4batch [00:00, 35.40batch/s, loss=7.08e+4]"
     ]
    },
    {
     "name": "stdout",
     "output_type": "stream",
     "text": [
      "epoch 1829: avg test  loss 73314.55, bar  test loss 90.315, len  test loss 1.828, col  test loss 58.608\n"
     ]
    },
    {
     "name": "stderr",
     "output_type": "stream",
     "text": [
      "Epoch 1830: 272batch [00:07, 37.14batch/s, loss=7.16e+4]\n"
     ]
    },
    {
     "name": "stdout",
     "output_type": "stream",
     "text": [
      "epoch 1830: avg train loss 72890.21, bar train loss 209.754, len train loss 4.267, col train loss 135.297\n",
      "epoch 1830: avg test  loss 73301.11, bar  test loss 90.259, len  test loss 1.834, col  test loss 58.407\n"
     ]
    },
    {
     "name": "stderr",
     "output_type": "stream",
     "text": [
      "Epoch 1831: 272batch [00:07, 37.00batch/s, loss=6.68e+4]\n"
     ]
    },
    {
     "name": "stdout",
     "output_type": "stream",
     "text": [
      "epoch 1831: avg train loss 72889.81, bar train loss 209.751, len train loss 4.266, col train loss 135.281\n"
     ]
    },
    {
     "name": "stderr",
     "output_type": "stream",
     "text": [
      "Epoch 1832: 4batch [00:00, 35.09batch/s, loss=7.31e+4]"
     ]
    },
    {
     "name": "stdout",
     "output_type": "stream",
     "text": [
      "epoch 1831: avg test  loss 73318.92, bar  test loss 90.477, len  test loss 1.837, col  test loss 58.641\n"
     ]
    },
    {
     "name": "stderr",
     "output_type": "stream",
     "text": [
      "Epoch 1832: 272batch [00:07, 37.12batch/s, loss=7e+4]   \n"
     ]
    },
    {
     "name": "stdout",
     "output_type": "stream",
     "text": [
      "epoch 1832: avg train loss 72884.74, bar train loss 209.736, len train loss 4.265, col train loss 135.244\n"
     ]
    },
    {
     "name": "stderr",
     "output_type": "stream",
     "text": [
      "Epoch 1833: 4batch [00:00, 36.36batch/s, loss=7.22e+4]"
     ]
    },
    {
     "name": "stdout",
     "output_type": "stream",
     "text": [
      "epoch 1832: avg test  loss 73280.80, bar  test loss 90.266, len  test loss 1.830, col  test loss 58.560\n"
     ]
    },
    {
     "name": "stderr",
     "output_type": "stream",
     "text": [
      "Epoch 1833: 272batch [00:07, 37.19batch/s, loss=7.52e+4]\n"
     ]
    },
    {
     "name": "stdout",
     "output_type": "stream",
     "text": [
      "epoch 1833: avg train loss 72888.86, bar train loss 209.774, len train loss 4.267, col train loss 135.274\n"
     ]
    },
    {
     "name": "stderr",
     "output_type": "stream",
     "text": [
      "Epoch 1834: 4batch [00:00, 35.09batch/s, loss=7.53e+4]"
     ]
    },
    {
     "name": "stdout",
     "output_type": "stream",
     "text": [
      "epoch 1833: avg test  loss 73366.62, bar  test loss 90.530, len  test loss 1.837, col  test loss 58.571\n"
     ]
    },
    {
     "name": "stderr",
     "output_type": "stream",
     "text": [
      "Epoch 1834: 272batch [00:07, 37.23batch/s, loss=7.19e+4]\n"
     ]
    },
    {
     "name": "stdout",
     "output_type": "stream",
     "text": [
      "epoch 1834: avg train loss 72897.51, bar train loss 209.768, len train loss 4.270, col train loss 135.263\n"
     ]
    },
    {
     "name": "stderr",
     "output_type": "stream",
     "text": [
      "Epoch 1835: 4batch [00:00, 33.33batch/s, loss=7.64e+4]"
     ]
    },
    {
     "name": "stdout",
     "output_type": "stream",
     "text": [
      "epoch 1834: avg test  loss 73274.38, bar  test loss 90.344, len  test loss 1.834, col  test loss 58.498\n"
     ]
    },
    {
     "name": "stderr",
     "output_type": "stream",
     "text": [
      "Epoch 1835: 272batch [00:07, 36.10batch/s, loss=6.99e+4]\n"
     ]
    },
    {
     "name": "stdout",
     "output_type": "stream",
     "text": [
      "epoch 1835: avg train loss 72893.39, bar train loss 209.743, len train loss 4.270, col train loss 135.298\n",
      "epoch 1835: avg test  loss 73326.05, bar  test loss 90.364, len  test loss 1.831, col  test loss 58.496\n"
     ]
    },
    {
     "name": "stderr",
     "output_type": "stream",
     "text": [
      "Epoch 1836: 272batch [00:07, 37.04batch/s, loss=6.82e+4]\n"
     ]
    },
    {
     "name": "stdout",
     "output_type": "stream",
     "text": [
      "epoch 1836: avg train loss 72883.91, bar train loss 209.730, len train loss 4.267, col train loss 135.239\n"
     ]
    },
    {
     "name": "stderr",
     "output_type": "stream",
     "text": [
      "Epoch 1837: 4batch [00:00, 34.19batch/s, loss=7.57e+4]"
     ]
    },
    {
     "name": "stdout",
     "output_type": "stream",
     "text": [
      "epoch 1836: avg test  loss 73299.63, bar  test loss 90.346, len  test loss 1.832, col  test loss 58.629\n"
     ]
    },
    {
     "name": "stderr",
     "output_type": "stream",
     "text": [
      "Epoch 1837: 272batch [00:07, 37.37batch/s, loss=6.96e+4]\n"
     ]
    },
    {
     "name": "stdout",
     "output_type": "stream",
     "text": [
      "epoch 1837: avg train loss 72886.69, bar train loss 209.763, len train loss 4.265, col train loss 135.270\n"
     ]
    },
    {
     "name": "stderr",
     "output_type": "stream",
     "text": [
      "Epoch 1838: 4batch [00:00, 35.09batch/s, loss=6.92e+4]"
     ]
    },
    {
     "name": "stdout",
     "output_type": "stream",
     "text": [
      "epoch 1837: avg test  loss 73325.48, bar  test loss 90.252, len  test loss 1.830, col  test loss 58.424\n"
     ]
    },
    {
     "name": "stderr",
     "output_type": "stream",
     "text": [
      "Epoch 1838: 272batch [00:07, 37.08batch/s, loss=6.96e+4]\n"
     ]
    },
    {
     "name": "stdout",
     "output_type": "stream",
     "text": [
      "epoch 1838: avg train loss 72886.78, bar train loss 209.727, len train loss 4.268, col train loss 135.233\n"
     ]
    },
    {
     "name": "stderr",
     "output_type": "stream",
     "text": [
      "Epoch 1839: 4batch [00:00, 35.09batch/s, loss=7.51e+4]"
     ]
    },
    {
     "name": "stdout",
     "output_type": "stream",
     "text": [
      "epoch 1838: avg test  loss 73314.61, bar  test loss 90.255, len  test loss 1.831, col  test loss 58.529\n"
     ]
    },
    {
     "name": "stderr",
     "output_type": "stream",
     "text": [
      "Epoch 1839: 272batch [00:07, 37.14batch/s, loss=7.16e+4]\n"
     ]
    },
    {
     "name": "stdout",
     "output_type": "stream",
     "text": [
      "epoch 1839: avg train loss 72889.70, bar train loss 209.785, len train loss 4.266, col train loss 135.260\n"
     ]
    },
    {
     "name": "stderr",
     "output_type": "stream",
     "text": [
      "Epoch 1840: 4batch [00:00, 34.19batch/s, loss=7.15e+4]"
     ]
    },
    {
     "name": "stdout",
     "output_type": "stream",
     "text": [
      "epoch 1839: avg test  loss 73306.39, bar  test loss 90.145, len  test loss 1.831, col  test loss 58.322\n"
     ]
    },
    {
     "name": "stderr",
     "output_type": "stream",
     "text": [
      "Epoch 1840: 272batch [00:07, 37.16batch/s, loss=7.06e+4]\n"
     ]
    },
    {
     "name": "stdout",
     "output_type": "stream",
     "text": [
      "epoch 1840: avg train loss 72890.38, bar train loss 209.753, len train loss 4.267, col train loss 135.281\n",
      "epoch 1840: avg test  loss 73304.56, bar  test loss 90.257, len  test loss 1.825, col  test loss 58.429\n"
     ]
    },
    {
     "name": "stderr",
     "output_type": "stream",
     "text": [
      "Epoch 1841: 272batch [00:07, 36.99batch/s, loss=6.89e+4]\n"
     ]
    },
    {
     "name": "stdout",
     "output_type": "stream",
     "text": [
      "epoch 1841: avg train loss 72886.13, bar train loss 209.763, len train loss 4.264, col train loss 135.212\n"
     ]
    },
    {
     "name": "stderr",
     "output_type": "stream",
     "text": [
      "Epoch 1842: 4batch [00:00, 34.19batch/s, loss=7.07e+4]"
     ]
    },
    {
     "name": "stdout",
     "output_type": "stream",
     "text": [
      "epoch 1841: avg test  loss 73358.50, bar  test loss 90.236, len  test loss 1.831, col  test loss 58.481\n"
     ]
    },
    {
     "name": "stderr",
     "output_type": "stream",
     "text": [
      "Epoch 1842: 272batch [00:07, 36.92batch/s, loss=6.93e+4]\n"
     ]
    },
    {
     "name": "stdout",
     "output_type": "stream",
     "text": [
      "epoch 1842: avg train loss 72894.28, bar train loss 209.763, len train loss 4.269, col train loss 135.305\n"
     ]
    },
    {
     "name": "stderr",
     "output_type": "stream",
     "text": [
      "Epoch 1843: 4batch [00:00, 36.36batch/s, loss=7.2e+4] "
     ]
    },
    {
     "name": "stdout",
     "output_type": "stream",
     "text": [
      "epoch 1842: avg test  loss 73319.55, bar  test loss 90.299, len  test loss 1.832, col  test loss 58.426\n"
     ]
    },
    {
     "name": "stderr",
     "output_type": "stream",
     "text": [
      "Epoch 1843: 272batch [00:07, 37.03batch/s, loss=7.94e+4]\n"
     ]
    },
    {
     "name": "stdout",
     "output_type": "stream",
     "text": [
      "epoch 1843: avg train loss 72880.09, bar train loss 209.725, len train loss 4.270, col train loss 135.229\n"
     ]
    },
    {
     "name": "stderr",
     "output_type": "stream",
     "text": [
      "Epoch 1844: 4batch [00:00, 34.48batch/s, loss=7.07e+4]"
     ]
    },
    {
     "name": "stdout",
     "output_type": "stream",
     "text": [
      "epoch 1843: avg test  loss 73345.98, bar  test loss 90.335, len  test loss 1.834, col  test loss 58.390\n"
     ]
    },
    {
     "name": "stderr",
     "output_type": "stream",
     "text": [
      "Epoch 1844: 272batch [00:07, 37.07batch/s, loss=7.55e+4]\n"
     ]
    },
    {
     "name": "stdout",
     "output_type": "stream",
     "text": [
      "epoch 1844: avg train loss 72889.70, bar train loss 209.748, len train loss 4.266, col train loss 135.272\n"
     ]
    },
    {
     "name": "stderr",
     "output_type": "stream",
     "text": [
      "Epoch 1845: 4batch [00:00, 36.04batch/s, loss=7.53e+4]"
     ]
    },
    {
     "name": "stdout",
     "output_type": "stream",
     "text": [
      "epoch 1844: avg test  loss 73323.73, bar  test loss 90.257, len  test loss 1.831, col  test loss 58.500\n"
     ]
    },
    {
     "name": "stderr",
     "output_type": "stream",
     "text": [
      "Epoch 1845: 272batch [00:07, 37.07batch/s, loss=6.9e+4] \n"
     ]
    },
    {
     "name": "stdout",
     "output_type": "stream",
     "text": [
      "epoch 1845: avg train loss 72879.36, bar train loss 209.739, len train loss 4.267, col train loss 135.243\n",
      "epoch 1845: avg test  loss 73301.68, bar  test loss 90.328, len  test loss 1.831, col  test loss 58.537\n"
     ]
    },
    {
     "name": "stderr",
     "output_type": "stream",
     "text": [
      "Epoch 1846: 272batch [00:07, 36.82batch/s, loss=7.57e+4]\n"
     ]
    },
    {
     "name": "stdout",
     "output_type": "stream",
     "text": [
      "epoch 1846: avg train loss 72888.07, bar train loss 209.732, len train loss 4.268, col train loss 135.288\n"
     ]
    },
    {
     "name": "stderr",
     "output_type": "stream",
     "text": [
      "Epoch 1847: 4batch [00:00, 35.40batch/s, loss=7.31e+4]"
     ]
    },
    {
     "name": "stdout",
     "output_type": "stream",
     "text": [
      "epoch 1846: avg test  loss 73347.09, bar  test loss 90.326, len  test loss 1.823, col  test loss 58.532\n"
     ]
    },
    {
     "name": "stderr",
     "output_type": "stream",
     "text": [
      "Epoch 1847: 272batch [00:07, 37.08batch/s, loss=7.45e+4]\n"
     ]
    },
    {
     "name": "stdout",
     "output_type": "stream",
     "text": [
      "epoch 1847: avg train loss 72883.66, bar train loss 209.717, len train loss 4.264, col train loss 135.230\n"
     ]
    },
    {
     "name": "stderr",
     "output_type": "stream",
     "text": [
      "Epoch 1848: 4batch [00:00, 35.40batch/s, loss=7.57e+4]"
     ]
    },
    {
     "name": "stdout",
     "output_type": "stream",
     "text": [
      "epoch 1847: avg test  loss 73289.56, bar  test loss 90.238, len  test loss 1.831, col  test loss 58.407\n"
     ]
    },
    {
     "name": "stderr",
     "output_type": "stream",
     "text": [
      "Epoch 1848: 272batch [00:07, 37.01batch/s, loss=7.59e+4]\n"
     ]
    },
    {
     "name": "stdout",
     "output_type": "stream",
     "text": [
      "epoch 1848: avg train loss 72884.23, bar train loss 209.725, len train loss 4.263, col train loss 135.212\n"
     ]
    },
    {
     "name": "stderr",
     "output_type": "stream",
     "text": [
      "Epoch 1849: 4batch [00:00, 34.48batch/s, loss=7.46e+4]"
     ]
    },
    {
     "name": "stdout",
     "output_type": "stream",
     "text": [
      "epoch 1848: avg test  loss 73288.27, bar  test loss 90.220, len  test loss 1.829, col  test loss 58.471\n"
     ]
    },
    {
     "name": "stderr",
     "output_type": "stream",
     "text": [
      "Epoch 1849: 272batch [00:07, 36.99batch/s, loss=7.65e+4]\n"
     ]
    },
    {
     "name": "stdout",
     "output_type": "stream",
     "text": [
      "epoch 1849: avg train loss 72881.84, bar train loss 209.734, len train loss 4.264, col train loss 135.234\n"
     ]
    },
    {
     "name": "stderr",
     "output_type": "stream",
     "text": [
      "Epoch 1850: 4batch [00:00, 33.61batch/s, loss=7.61e+4]"
     ]
    },
    {
     "name": "stdout",
     "output_type": "stream",
     "text": [
      "epoch 1849: avg test  loss 73299.27, bar  test loss 90.353, len  test loss 1.833, col  test loss 58.586\n"
     ]
    },
    {
     "name": "stderr",
     "output_type": "stream",
     "text": [
      "Epoch 1850: 272batch [00:07, 37.15batch/s, loss=6.42e+4]\n"
     ]
    },
    {
     "name": "stdout",
     "output_type": "stream",
     "text": [
      "epoch 1850: avg train loss 72880.23, bar train loss 209.727, len train loss 4.263, col train loss 135.218\n",
      "epoch 1850: avg test  loss 73278.41, bar  test loss 90.238, len  test loss 1.832, col  test loss 58.463\n"
     ]
    },
    {
     "name": "stderr",
     "output_type": "stream",
     "text": [
      "Epoch 1851: 272batch [00:07, 36.98batch/s, loss=7.52e+4]\n"
     ]
    },
    {
     "name": "stdout",
     "output_type": "stream",
     "text": [
      "epoch 1851: avg train loss 72886.37, bar train loss 209.751, len train loss 4.266, col train loss 135.278\n"
     ]
    },
    {
     "name": "stderr",
     "output_type": "stream",
     "text": [
      "Epoch 1852: 4batch [00:00, 35.09batch/s, loss=7.36e+4]"
     ]
    },
    {
     "name": "stdout",
     "output_type": "stream",
     "text": [
      "epoch 1851: avg test  loss 73302.63, bar  test loss 90.336, len  test loss 1.830, col  test loss 58.511\n"
     ]
    },
    {
     "name": "stderr",
     "output_type": "stream",
     "text": [
      "Epoch 1852: 272batch [00:07, 36.95batch/s, loss=7.83e+4]\n"
     ]
    },
    {
     "name": "stdout",
     "output_type": "stream",
     "text": [
      "epoch 1852: avg train loss 72882.43, bar train loss 209.752, len train loss 4.265, col train loss 135.268\n"
     ]
    },
    {
     "name": "stderr",
     "output_type": "stream",
     "text": [
      "Epoch 1853: 4batch [00:00, 35.40batch/s, loss=7.05e+4]"
     ]
    },
    {
     "name": "stdout",
     "output_type": "stream",
     "text": [
      "epoch 1852: avg test  loss 73313.51, bar  test loss 90.327, len  test loss 1.829, col  test loss 58.431\n"
     ]
    },
    {
     "name": "stderr",
     "output_type": "stream",
     "text": [
      "Epoch 1853: 272batch [00:07, 36.86batch/s, loss=7.33e+4]\n"
     ]
    },
    {
     "name": "stdout",
     "output_type": "stream",
     "text": [
      "epoch 1853: avg train loss 72875.48, bar train loss 209.719, len train loss 4.268, col train loss 135.199\n"
     ]
    },
    {
     "name": "stderr",
     "output_type": "stream",
     "text": [
      "Epoch 1854: 4batch [00:00, 34.48batch/s, loss=7.2e+4] "
     ]
    },
    {
     "name": "stdout",
     "output_type": "stream",
     "text": [
      "epoch 1853: avg test  loss 73283.36, bar  test loss 90.333, len  test loss 1.834, col  test loss 58.504\n"
     ]
    },
    {
     "name": "stderr",
     "output_type": "stream",
     "text": [
      "Epoch 1854: 272batch [00:07, 37.06batch/s, loss=7.21e+4]\n"
     ]
    },
    {
     "name": "stdout",
     "output_type": "stream",
     "text": [
      "epoch 1854: avg train loss 72885.84, bar train loss 209.724, len train loss 4.268, col train loss 135.246\n"
     ]
    },
    {
     "name": "stderr",
     "output_type": "stream",
     "text": [
      "Epoch 1855: 4batch [00:00, 35.40batch/s, loss=7.1e+4] "
     ]
    },
    {
     "name": "stdout",
     "output_type": "stream",
     "text": [
      "epoch 1854: avg test  loss 73283.91, bar  test loss 90.384, len  test loss 1.838, col  test loss 58.582\n"
     ]
    },
    {
     "name": "stderr",
     "output_type": "stream",
     "text": [
      "Epoch 1855: 272batch [00:07, 36.77batch/s, loss=8.03e+4]\n"
     ]
    },
    {
     "name": "stdout",
     "output_type": "stream",
     "text": [
      "epoch 1855: avg train loss 72888.03, bar train loss 209.728, len train loss 4.268, col train loss 135.247\n",
      "epoch 1855: avg test  loss 73296.12, bar  test loss 90.321, len  test loss 1.833, col  test loss 58.441\n"
     ]
    },
    {
     "name": "stderr",
     "output_type": "stream",
     "text": [
      "Epoch 1856: 272batch [00:07, 36.89batch/s, loss=7.63e+4]\n"
     ]
    },
    {
     "name": "stdout",
     "output_type": "stream",
     "text": [
      "epoch 1856: avg train loss 72884.05, bar train loss 209.732, len train loss 4.266, col train loss 135.225\n"
     ]
    },
    {
     "name": "stderr",
     "output_type": "stream",
     "text": [
      "Epoch 1857: 4batch [00:00, 33.33batch/s, loss=7.21e+4]"
     ]
    },
    {
     "name": "stdout",
     "output_type": "stream",
     "text": [
      "epoch 1856: avg test  loss 73288.96, bar  test loss 90.260, len  test loss 1.830, col  test loss 58.313\n"
     ]
    },
    {
     "name": "stderr",
     "output_type": "stream",
     "text": [
      "Epoch 1857: 272batch [00:07, 36.82batch/s, loss=7.2e+4] \n"
     ]
    },
    {
     "name": "stdout",
     "output_type": "stream",
     "text": [
      "epoch 1857: avg train loss 72887.46, bar train loss 209.735, len train loss 4.266, col train loss 135.238\n"
     ]
    },
    {
     "name": "stderr",
     "output_type": "stream",
     "text": [
      "Epoch 1858: 4batch [00:00, 35.40batch/s, loss=7.47e+4]"
     ]
    },
    {
     "name": "stdout",
     "output_type": "stream",
     "text": [
      "epoch 1857: avg test  loss 73312.56, bar  test loss 90.319, len  test loss 1.826, col  test loss 58.461\n"
     ]
    },
    {
     "name": "stderr",
     "output_type": "stream",
     "text": [
      "Epoch 1858: 272batch [00:07, 36.81batch/s, loss=7.12e+4]\n"
     ]
    },
    {
     "name": "stdout",
     "output_type": "stream",
     "text": [
      "epoch 1858: avg train loss 72876.52, bar train loss 209.717, len train loss 4.265, col train loss 135.240\n"
     ]
    },
    {
     "name": "stderr",
     "output_type": "stream",
     "text": [
      "Epoch 1859: 4batch [00:00, 33.90batch/s, loss=7.2e+4] "
     ]
    },
    {
     "name": "stdout",
     "output_type": "stream",
     "text": [
      "epoch 1858: avg test  loss 73268.02, bar  test loss 90.345, len  test loss 1.828, col  test loss 58.489\n"
     ]
    },
    {
     "name": "stderr",
     "output_type": "stream",
     "text": [
      "Epoch 1859: 272batch [00:07, 36.93batch/s, loss=7.64e+4]\n"
     ]
    },
    {
     "name": "stdout",
     "output_type": "stream",
     "text": [
      "epoch 1859: avg train loss 72880.71, bar train loss 209.726, len train loss 4.263, col train loss 135.245\n"
     ]
    },
    {
     "name": "stderr",
     "output_type": "stream",
     "text": [
      "Epoch 1860: 4batch [00:00, 33.33batch/s, loss=7.58e+4]"
     ]
    },
    {
     "name": "stdout",
     "output_type": "stream",
     "text": [
      "epoch 1859: avg test  loss 73300.55, bar  test loss 90.463, len  test loss 1.831, col  test loss 58.652\n"
     ]
    },
    {
     "name": "stderr",
     "output_type": "stream",
     "text": [
      "Epoch 1860: 272batch [00:07, 36.71batch/s, loss=7.13e+4]\n"
     ]
    },
    {
     "name": "stdout",
     "output_type": "stream",
     "text": [
      "epoch 1860: avg train loss 72878.55, bar train loss 209.718, len train loss 4.264, col train loss 135.236\n",
      "epoch 1860: avg test  loss 73285.24, bar  test loss 89.979, len  test loss 1.829, col  test loss 58.248\n"
     ]
    },
    {
     "name": "stderr",
     "output_type": "stream",
     "text": [
      "Epoch 1861: 272batch [00:07, 36.65batch/s, loss=7.11e+4]\n"
     ]
    },
    {
     "name": "stdout",
     "output_type": "stream",
     "text": [
      "epoch 1861: avg train loss 72885.34, bar train loss 209.750, len train loss 4.265, col train loss 135.236\n"
     ]
    },
    {
     "name": "stderr",
     "output_type": "stream",
     "text": [
      "Epoch 1862: 4batch [00:00, 33.61batch/s, loss=7.24e+4]"
     ]
    },
    {
     "name": "stdout",
     "output_type": "stream",
     "text": [
      "epoch 1861: avg test  loss 73311.87, bar  test loss 90.180, len  test loss 1.825, col  test loss 58.383\n"
     ]
    },
    {
     "name": "stderr",
     "output_type": "stream",
     "text": [
      "Epoch 1862: 272batch [00:07, 36.65batch/s, loss=7.26e+4]\n"
     ]
    },
    {
     "name": "stdout",
     "output_type": "stream",
     "text": [
      "epoch 1862: avg train loss 72873.35, bar train loss 209.696, len train loss 4.264, col train loss 135.238\n"
     ]
    },
    {
     "name": "stderr",
     "output_type": "stream",
     "text": [
      "Epoch 1863: 4batch [00:00, 33.90batch/s, loss=7.02e+4]"
     ]
    },
    {
     "name": "stdout",
     "output_type": "stream",
     "text": [
      "epoch 1862: avg test  loss 73287.45, bar  test loss 90.268, len  test loss 1.827, col  test loss 58.481\n"
     ]
    },
    {
     "name": "stderr",
     "output_type": "stream",
     "text": [
      "Epoch 1863: 272batch [00:07, 36.81batch/s, loss=7.09e+4]\n"
     ]
    },
    {
     "name": "stdout",
     "output_type": "stream",
     "text": [
      "epoch 1863: avg train loss 72878.46, bar train loss 209.750, len train loss 4.265, col train loss 135.217\n"
     ]
    },
    {
     "name": "stderr",
     "output_type": "stream",
     "text": [
      "Epoch 1864: 4batch [00:00, 33.61batch/s, loss=7.41e+4]"
     ]
    },
    {
     "name": "stdout",
     "output_type": "stream",
     "text": [
      "epoch 1863: avg test  loss 73360.92, bar  test loss 90.400, len  test loss 1.834, col  test loss 58.495\n"
     ]
    },
    {
     "name": "stderr",
     "output_type": "stream",
     "text": [
      "Epoch 1864: 272batch [00:07, 36.61batch/s, loss=7.08e+4]\n"
     ]
    },
    {
     "name": "stdout",
     "output_type": "stream",
     "text": [
      "epoch 1864: avg train loss 72876.69, bar train loss 209.720, len train loss 4.266, col train loss 135.226\n"
     ]
    },
    {
     "name": "stderr",
     "output_type": "stream",
     "text": [
      "Epoch 1865: 4batch [00:00, 33.61batch/s, loss=7.41e+4]"
     ]
    },
    {
     "name": "stdout",
     "output_type": "stream",
     "text": [
      "epoch 1864: avg test  loss 73290.25, bar  test loss 90.284, len  test loss 1.829, col  test loss 58.452\n"
     ]
    },
    {
     "name": "stderr",
     "output_type": "stream",
     "text": [
      "Epoch 1865: 272batch [00:07, 36.48batch/s, loss=7.38e+4]\n"
     ]
    },
    {
     "name": "stdout",
     "output_type": "stream",
     "text": [
      "epoch 1865: avg train loss 72883.28, bar train loss 209.727, len train loss 4.264, col train loss 135.230\n",
      "epoch 1865: avg test  loss 73254.26, bar  test loss 90.193, len  test loss 1.829, col  test loss 58.467\n"
     ]
    },
    {
     "name": "stderr",
     "output_type": "stream",
     "text": [
      "Epoch 1866: 272batch [00:07, 34.35batch/s, loss=81296.5]\n"
     ]
    },
    {
     "name": "stdout",
     "output_type": "stream",
     "text": [
      "epoch 1866: avg train loss 72877.09, bar train loss 209.706, len train loss 4.266, col train loss 135.215\n"
     ]
    },
    {
     "name": "stderr",
     "output_type": "stream",
     "text": [
      "Epoch 1867: 4batch [00:00, 34.78batch/s, loss=7.19e+4]"
     ]
    },
    {
     "name": "stdout",
     "output_type": "stream",
     "text": [
      "epoch 1866: avg test  loss 73322.50, bar  test loss 90.326, len  test loss 1.830, col  test loss 58.495\n"
     ]
    },
    {
     "name": "stderr",
     "output_type": "stream",
     "text": [
      "Epoch 1867: 272batch [00:07, 36.32batch/s, loss=7.42e+4]\n"
     ]
    },
    {
     "name": "stdout",
     "output_type": "stream",
     "text": [
      "epoch 1867: avg train loss 72876.27, bar train loss 209.706, len train loss 4.266, col train loss 135.216\n"
     ]
    },
    {
     "name": "stderr",
     "output_type": "stream",
     "text": [
      "Epoch 1868: 4batch [00:00, 35.40batch/s, loss=7.07e+4]"
     ]
    },
    {
     "name": "stdout",
     "output_type": "stream",
     "text": [
      "epoch 1867: avg test  loss 73285.74, bar  test loss 90.232, len  test loss 1.831, col  test loss 58.559\n"
     ]
    },
    {
     "name": "stderr",
     "output_type": "stream",
     "text": [
      "Epoch 1868: 272batch [00:07, 36.31batch/s, loss=6.77e+4]\n"
     ]
    },
    {
     "name": "stdout",
     "output_type": "stream",
     "text": [
      "epoch 1868: avg train loss 72880.05, bar train loss 209.684, len train loss 4.267, col train loss 135.239\n"
     ]
    },
    {
     "name": "stderr",
     "output_type": "stream",
     "text": [
      "Epoch 1869: 4batch [00:00, 33.33batch/s, loss=7.78e+4]"
     ]
    },
    {
     "name": "stdout",
     "output_type": "stream",
     "text": [
      "epoch 1868: avg test  loss 73327.99, bar  test loss 90.417, len  test loss 1.831, col  test loss 58.598\n"
     ]
    },
    {
     "name": "stderr",
     "output_type": "stream",
     "text": [
      "Epoch 1869: 272batch [00:07, 36.18batch/s, loss=7.69e+4]\n"
     ]
    },
    {
     "name": "stdout",
     "output_type": "stream",
     "text": [
      "epoch 1869: avg train loss 72882.62, bar train loss 209.706, len train loss 4.266, col train loss 135.216\n"
     ]
    },
    {
     "name": "stderr",
     "output_type": "stream",
     "text": [
      "Epoch 1870: 4batch [00:00, 35.71batch/s, loss=7.63e+4]"
     ]
    },
    {
     "name": "stdout",
     "output_type": "stream",
     "text": [
      "epoch 1869: avg test  loss 73304.83, bar  test loss 90.305, len  test loss 1.834, col  test loss 58.462\n"
     ]
    },
    {
     "name": "stderr",
     "output_type": "stream",
     "text": [
      "Epoch 1870: 272batch [00:07, 36.26batch/s, loss=6.69e+4]\n"
     ]
    },
    {
     "name": "stdout",
     "output_type": "stream",
     "text": [
      "epoch 1870: avg train loss 72881.70, bar train loss 209.741, len train loss 4.268, col train loss 135.247\n",
      "epoch 1870: avg test  loss 73291.83, bar  test loss 90.350, len  test loss 1.831, col  test loss 58.569\n"
     ]
    },
    {
     "name": "stderr",
     "output_type": "stream",
     "text": [
      "Epoch 1871: 272batch [00:07, 36.16batch/s, loss=8.1e+4] \n"
     ]
    },
    {
     "name": "stdout",
     "output_type": "stream",
     "text": [
      "epoch 1871: avg train loss 72885.50, bar train loss 209.726, len train loss 4.265, col train loss 135.223\n"
     ]
    },
    {
     "name": "stderr",
     "output_type": "stream",
     "text": [
      "Epoch 1872: 4batch [00:00, 32.79batch/s, loss=7.28e+4]"
     ]
    },
    {
     "name": "stdout",
     "output_type": "stream",
     "text": [
      "epoch 1871: avg test  loss 73301.57, bar  test loss 90.166, len  test loss 1.830, col  test loss 58.454\n"
     ]
    },
    {
     "name": "stderr",
     "output_type": "stream",
     "text": [
      "Epoch 1872: 272batch [00:07, 36.10batch/s, loss=7.26e+4]\n"
     ]
    },
    {
     "name": "stdout",
     "output_type": "stream",
     "text": [
      "epoch 1872: avg train loss 72870.94, bar train loss 209.687, len train loss 4.266, col train loss 135.198\n"
     ]
    },
    {
     "name": "stderr",
     "output_type": "stream",
     "text": [
      "Epoch 1873: 4batch [00:00, 34.48batch/s, loss=7.02e+4]"
     ]
    },
    {
     "name": "stdout",
     "output_type": "stream",
     "text": [
      "epoch 1872: avg test  loss 73276.79, bar  test loss 90.259, len  test loss 1.830, col  test loss 58.391\n"
     ]
    },
    {
     "name": "stderr",
     "output_type": "stream",
     "text": [
      "Epoch 1873: 272batch [00:07, 35.84batch/s, loss=7.44e+4]\n"
     ]
    },
    {
     "name": "stdout",
     "output_type": "stream",
     "text": [
      "epoch 1873: avg train loss 72872.36, bar train loss 209.666, len train loss 4.266, col train loss 135.165\n"
     ]
    },
    {
     "name": "stderr",
     "output_type": "stream",
     "text": [
      "Epoch 1874: 4batch [00:00, 34.48batch/s, loss=8.19e+4]"
     ]
    },
    {
     "name": "stdout",
     "output_type": "stream",
     "text": [
      "epoch 1873: avg test  loss 73283.00, bar  test loss 90.298, len  test loss 1.830, col  test loss 58.518\n"
     ]
    },
    {
     "name": "stderr",
     "output_type": "stream",
     "text": [
      "Epoch 1874: 272batch [00:07, 35.66batch/s, loss=7.83e+4]\n"
     ]
    },
    {
     "name": "stdout",
     "output_type": "stream",
     "text": [
      "epoch 1874: avg train loss 72876.27, bar train loss 209.694, len train loss 4.262, col train loss 135.230\n"
     ]
    },
    {
     "name": "stderr",
     "output_type": "stream",
     "text": [
      "Epoch 1875: 4batch [00:00, 33.90batch/s, loss=7.35e+4]"
     ]
    },
    {
     "name": "stdout",
     "output_type": "stream",
     "text": [
      "epoch 1874: avg test  loss 73285.14, bar  test loss 90.353, len  test loss 1.832, col  test loss 58.585\n"
     ]
    },
    {
     "name": "stderr",
     "output_type": "stream",
     "text": [
      "Epoch 1875: 272batch [00:07, 35.94batch/s, loss=7.21e+4]\n"
     ]
    },
    {
     "name": "stdout",
     "output_type": "stream",
     "text": [
      "epoch 1875: avg train loss 72883.02, bar train loss 209.706, len train loss 4.264, col train loss 135.234\n",
      "epoch 1875: avg test  loss 73301.86, bar  test loss 90.210, len  test loss 1.832, col  test loss 58.471\n"
     ]
    },
    {
     "name": "stderr",
     "output_type": "stream",
     "text": [
      "Epoch 1876: 272batch [00:07, 34.12batch/s, loss=7.29e+4]\n"
     ]
    },
    {
     "name": "stdout",
     "output_type": "stream",
     "text": [
      "epoch 1876: avg train loss 72870.06, bar train loss 209.689, len train loss 4.265, col train loss 135.207\n"
     ]
    },
    {
     "name": "stderr",
     "output_type": "stream",
     "text": [
      "Epoch 1877: 4batch [00:00, 30.08batch/s, loss=7.3e+4] "
     ]
    },
    {
     "name": "stdout",
     "output_type": "stream",
     "text": [
      "epoch 1876: avg test  loss 73284.00, bar  test loss 90.269, len  test loss 1.831, col  test loss 58.389\n"
     ]
    },
    {
     "name": "stderr",
     "output_type": "stream",
     "text": [
      "Epoch 1877: 272batch [00:07, 34.47batch/s, loss=7.3e+4] \n"
     ]
    },
    {
     "name": "stdout",
     "output_type": "stream",
     "text": [
      "epoch 1877: avg train loss 72881.72, bar train loss 209.739, len train loss 4.264, col train loss 135.243\n"
     ]
    },
    {
     "name": "stderr",
     "output_type": "stream",
     "text": [
      "Epoch 1878: 4batch [00:00, 30.77batch/s, loss=7.26e+4]"
     ]
    },
    {
     "name": "stdout",
     "output_type": "stream",
     "text": [
      "epoch 1877: avg test  loss 73318.94, bar  test loss 90.365, len  test loss 1.829, col  test loss 58.493\n"
     ]
    },
    {
     "name": "stderr",
     "output_type": "stream",
     "text": [
      "Epoch 1878: 272batch [00:07, 34.43batch/s, loss=6.97e+4]\n"
     ]
    },
    {
     "name": "stdout",
     "output_type": "stream",
     "text": [
      "epoch 1878: avg train loss 72876.97, bar train loss 209.710, len train loss 4.265, col train loss 135.222\n"
     ]
    },
    {
     "name": "stderr",
     "output_type": "stream",
     "text": [
      "Epoch 1879: 4batch [00:00, 33.61batch/s, loss=7.65e+4]"
     ]
    },
    {
     "name": "stdout",
     "output_type": "stream",
     "text": [
      "epoch 1878: avg test  loss 73295.27, bar  test loss 90.404, len  test loss 1.830, col  test loss 58.472\n"
     ]
    },
    {
     "name": "stderr",
     "output_type": "stream",
     "text": [
      "Epoch 1879: 272batch [00:07, 34.30batch/s, loss=7.38e+4]\n"
     ]
    },
    {
     "name": "stdout",
     "output_type": "stream",
     "text": [
      "epoch 1879: avg train loss 72876.09, bar train loss 209.672, len train loss 4.265, col train loss 135.222\n"
     ]
    },
    {
     "name": "stderr",
     "output_type": "stream",
     "text": [
      "Epoch 1880: 4batch [00:00, 32.52batch/s, loss=6.99e+4]"
     ]
    },
    {
     "name": "stdout",
     "output_type": "stream",
     "text": [
      "epoch 1879: avg test  loss 73341.30, bar  test loss 90.404, len  test loss 1.826, col  test loss 58.528\n"
     ]
    },
    {
     "name": "stderr",
     "output_type": "stream",
     "text": [
      "Epoch 1880: 272batch [00:07, 34.40batch/s, loss=7.37e+4]\n"
     ]
    },
    {
     "name": "stdout",
     "output_type": "stream",
     "text": [
      "epoch 1880: avg train loss 72884.27, bar train loss 209.726, len train loss 4.263, col train loss 135.225\n",
      "epoch 1880: avg test  loss 73265.55, bar  test loss 90.369, len  test loss 1.831, col  test loss 58.553\n"
     ]
    },
    {
     "name": "stderr",
     "output_type": "stream",
     "text": [
      "Epoch 1881: 272batch [00:07, 34.06batch/s, loss=7.06e+4]\n"
     ]
    },
    {
     "name": "stdout",
     "output_type": "stream",
     "text": [
      "epoch 1881: avg train loss 72877.36, bar train loss 209.672, len train loss 4.264, col train loss 135.193\n"
     ]
    },
    {
     "name": "stderr",
     "output_type": "stream",
     "text": [
      "Epoch 1882: 4batch [00:00, 32.79batch/s, loss=7.01e+4]"
     ]
    },
    {
     "name": "stdout",
     "output_type": "stream",
     "text": [
      "epoch 1881: avg test  loss 73297.08, bar  test loss 90.323, len  test loss 1.828, col  test loss 58.499\n"
     ]
    },
    {
     "name": "stderr",
     "output_type": "stream",
     "text": [
      "Epoch 1882: 272batch [00:07, 34.25batch/s, loss=7.73e+4]\n"
     ]
    },
    {
     "name": "stdout",
     "output_type": "stream",
     "text": [
      "epoch 1882: avg train loss 72874.75, bar train loss 209.714, len train loss 4.263, col train loss 135.201\n"
     ]
    },
    {
     "name": "stderr",
     "output_type": "stream",
     "text": [
      "Epoch 1883: 4batch [00:00, 32.52batch/s, loss=7.33e+4]"
     ]
    },
    {
     "name": "stdout",
     "output_type": "stream",
     "text": [
      "epoch 1882: avg test  loss 73308.08, bar  test loss 90.283, len  test loss 1.826, col  test loss 58.379\n"
     ]
    },
    {
     "name": "stderr",
     "output_type": "stream",
     "text": [
      "Epoch 1883: 272batch [00:07, 34.06batch/s, loss=7.52e+4]\n"
     ]
    },
    {
     "name": "stdout",
     "output_type": "stream",
     "text": [
      "epoch 1883: avg train loss 72864.41, bar train loss 209.669, len train loss 4.265, col train loss 135.145\n"
     ]
    },
    {
     "name": "stderr",
     "output_type": "stream",
     "text": [
      "Epoch 1884: 4batch [00:00, 31.01batch/s, loss=7.44e+4]"
     ]
    },
    {
     "name": "stdout",
     "output_type": "stream",
     "text": [
      "epoch 1883: avg test  loss 73318.19, bar  test loss 90.390, len  test loss 1.833, col  test loss 58.557\n"
     ]
    },
    {
     "name": "stderr",
     "output_type": "stream",
     "text": [
      "Epoch 1884: 272batch [00:07, 34.10batch/s, loss=8.07e+4]\n"
     ]
    },
    {
     "name": "stdout",
     "output_type": "stream",
     "text": [
      "epoch 1884: avg train loss 72876.26, bar train loss 209.691, len train loss 4.264, col train loss 135.202\n"
     ]
    },
    {
     "name": "stderr",
     "output_type": "stream",
     "text": [
      "Epoch 1885: 4batch [00:00, 31.75batch/s, loss=7.19e+4]"
     ]
    },
    {
     "name": "stdout",
     "output_type": "stream",
     "text": [
      "epoch 1884: avg test  loss 73313.20, bar  test loss 90.260, len  test loss 1.826, col  test loss 58.573\n"
     ]
    },
    {
     "name": "stderr",
     "output_type": "stream",
     "text": [
      "Epoch 1885: 272batch [00:07, 34.21batch/s, loss=6.94e+4]\n"
     ]
    },
    {
     "name": "stdout",
     "output_type": "stream",
     "text": [
      "epoch 1885: avg train loss 72874.89, bar train loss 209.709, len train loss 4.263, col train loss 135.184\n",
      "epoch 1885: avg test  loss 73322.77, bar  test loss 90.370, len  test loss 1.835, col  test loss 58.572\n"
     ]
    },
    {
     "name": "stderr",
     "output_type": "stream",
     "text": [
      "Epoch 1886: 272batch [00:07, 34.24batch/s, loss=7.31e+4]\n"
     ]
    },
    {
     "name": "stdout",
     "output_type": "stream",
     "text": [
      "epoch 1886: avg train loss 72873.80, bar train loss 209.692, len train loss 4.263, col train loss 135.213\n"
     ]
    },
    {
     "name": "stderr",
     "output_type": "stream",
     "text": [
      "Epoch 1887: 4batch [00:00, 34.19batch/s, loss=7.2e+4]"
     ]
    },
    {
     "name": "stdout",
     "output_type": "stream",
     "text": [
      "epoch 1886: avg test  loss 73290.06, bar  test loss 90.219, len  test loss 1.822, col  test loss 58.447\n"
     ]
    },
    {
     "name": "stderr",
     "output_type": "stream",
     "text": [
      "Epoch 1887: 272batch [00:07, 34.40batch/s, loss=7.12e+4]\n"
     ]
    },
    {
     "name": "stdout",
     "output_type": "stream",
     "text": [
      "epoch 1887: avg train loss 72872.20, bar train loss 209.699, len train loss 4.268, col train loss 135.204\n"
     ]
    },
    {
     "name": "stderr",
     "output_type": "stream",
     "text": [
      "Epoch 1888: 4batch [00:00, 32.79batch/s, loss=7.55e+4]"
     ]
    },
    {
     "name": "stdout",
     "output_type": "stream",
     "text": [
      "epoch 1887: avg test  loss 73279.45, bar  test loss 90.319, len  test loss 1.829, col  test loss 58.482\n"
     ]
    },
    {
     "name": "stderr",
     "output_type": "stream",
     "text": [
      "Epoch 1888: 272batch [00:07, 34.24batch/s, loss=6.87e+4]\n"
     ]
    },
    {
     "name": "stdout",
     "output_type": "stream",
     "text": [
      "epoch 1888: avg train loss 72864.56, bar train loss 209.670, len train loss 4.263, col train loss 135.170\n"
     ]
    },
    {
     "name": "stderr",
     "output_type": "stream",
     "text": [
      "Epoch 1889: 4batch [00:00, 34.19batch/s, loss=6.96e+4]"
     ]
    },
    {
     "name": "stdout",
     "output_type": "stream",
     "text": [
      "epoch 1888: avg test  loss 73300.29, bar  test loss 90.400, len  test loss 1.845, col  test loss 58.574\n"
     ]
    },
    {
     "name": "stderr",
     "output_type": "stream",
     "text": [
      "Epoch 1889: 272batch [00:07, 34.18batch/s, loss=6.92e+4]\n"
     ]
    },
    {
     "name": "stdout",
     "output_type": "stream",
     "text": [
      "epoch 1889: avg train loss 72874.93, bar train loss 209.685, len train loss 4.265, col train loss 135.188\n"
     ]
    },
    {
     "name": "stderr",
     "output_type": "stream",
     "text": [
      "Epoch 1890: 3batch [00:00, 29.41batch/s, loss=7.19e+4]"
     ]
    },
    {
     "name": "stdout",
     "output_type": "stream",
     "text": [
      "epoch 1889: avg test  loss 73270.96, bar  test loss 90.199, len  test loss 1.829, col  test loss 58.431\n"
     ]
    },
    {
     "name": "stderr",
     "output_type": "stream",
     "text": [
      "Epoch 1890: 272batch [00:08, 33.17batch/s, loss=7.65e+4]\n"
     ]
    },
    {
     "name": "stdout",
     "output_type": "stream",
     "text": [
      "epoch 1890: avg train loss 72874.80, bar train loss 209.692, len train loss 4.265, col train loss 135.219\n",
      "epoch 1890: avg test  loss 73261.35, bar  test loss 90.297, len  test loss 1.833, col  test loss 58.522\n"
     ]
    },
    {
     "name": "stderr",
     "output_type": "stream",
     "text": [
      "Epoch 1891: 272batch [00:08, 33.64batch/s, loss=7.44e+4]\n"
     ]
    },
    {
     "name": "stdout",
     "output_type": "stream",
     "text": [
      "epoch 1891: avg train loss 72870.74, bar train loss 209.700, len train loss 4.267, col train loss 135.219\n"
     ]
    },
    {
     "name": "stderr",
     "output_type": "stream",
     "text": [
      "Epoch 1892: 4batch [00:00, 31.25batch/s, loss=7.33e+4]"
     ]
    },
    {
     "name": "stdout",
     "output_type": "stream",
     "text": [
      "epoch 1891: avg test  loss 73291.38, bar  test loss 90.340, len  test loss 1.835, col  test loss 58.520\n"
     ]
    },
    {
     "name": "stderr",
     "output_type": "stream",
     "text": [
      "Epoch 1892: 272batch [00:08, 33.56batch/s, loss=7.51e+4]\n"
     ]
    },
    {
     "name": "stdout",
     "output_type": "stream",
     "text": [
      "epoch 1892: avg train loss 72868.66, bar train loss 209.663, len train loss 4.266, col train loss 135.193\n"
     ]
    },
    {
     "name": "stderr",
     "output_type": "stream",
     "text": [
      "Epoch 1893: 4batch [00:00, 32.52batch/s, loss=7.18e+4]"
     ]
    },
    {
     "name": "stdout",
     "output_type": "stream",
     "text": [
      "epoch 1892: avg test  loss 73409.34, bar  test loss 90.269, len  test loss 1.827, col  test loss 58.470\n"
     ]
    },
    {
     "name": "stderr",
     "output_type": "stream",
     "text": [
      "Epoch 1893: 272batch [00:08, 33.59batch/s, loss=7.31e+4]\n"
     ]
    },
    {
     "name": "stdout",
     "output_type": "stream",
     "text": [
      "epoch 1893: avg train loss 72868.24, bar train loss 209.704, len train loss 4.265, col train loss 135.183\n"
     ]
    },
    {
     "name": "stderr",
     "output_type": "stream",
     "text": [
      "Epoch 1894: 4batch [00:00, 30.53batch/s, loss=7.51e+4]"
     ]
    },
    {
     "name": "stdout",
     "output_type": "stream",
     "text": [
      "epoch 1893: avg test  loss 73297.12, bar  test loss 90.243, len  test loss 1.832, col  test loss 58.555\n"
     ]
    },
    {
     "name": "stderr",
     "output_type": "stream",
     "text": [
      "Epoch 1894: 272batch [00:08, 33.40batch/s, loss=7.6e+4] \n"
     ]
    },
    {
     "name": "stdout",
     "output_type": "stream",
     "text": [
      "epoch 1894: avg train loss 72868.13, bar train loss 209.671, len train loss 4.265, col train loss 135.160\n"
     ]
    },
    {
     "name": "stderr",
     "output_type": "stream",
     "text": [
      "Epoch 1895: 4batch [00:00, 33.33batch/s, loss=7.29e+4]"
     ]
    },
    {
     "name": "stdout",
     "output_type": "stream",
     "text": [
      "epoch 1894: avg test  loss 73291.34, bar  test loss 90.426, len  test loss 1.833, col  test loss 58.489\n"
     ]
    },
    {
     "name": "stderr",
     "output_type": "stream",
     "text": [
      "Epoch 1895: 272batch [00:08, 33.44batch/s, loss=6.93e+4]\n"
     ]
    },
    {
     "name": "stdout",
     "output_type": "stream",
     "text": [
      "epoch 1895: avg train loss 72865.83, bar train loss 209.676, len train loss 4.266, col train loss 135.190\n",
      "epoch 1895: avg test  loss 73281.22, bar  test loss 90.325, len  test loss 1.831, col  test loss 58.418\n"
     ]
    },
    {
     "name": "stderr",
     "output_type": "stream",
     "text": [
      "Epoch 1896: 272batch [00:08, 32.97batch/s, loss=7.11e+4]\n"
     ]
    },
    {
     "name": "stdout",
     "output_type": "stream",
     "text": [
      "epoch 1896: avg train loss 72869.63, bar train loss 209.691, len train loss 4.265, col train loss 135.199\n"
     ]
    },
    {
     "name": "stderr",
     "output_type": "stream",
     "text": [
      "Epoch 1897: 4batch [00:00, 32.00batch/s, loss=7.28e+4]"
     ]
    },
    {
     "name": "stdout",
     "output_type": "stream",
     "text": [
      "epoch 1896: avg test  loss 73273.41, bar  test loss 90.273, len  test loss 1.832, col  test loss 58.397\n"
     ]
    },
    {
     "name": "stderr",
     "output_type": "stream",
     "text": [
      "Epoch 1897: 272batch [00:08, 33.22batch/s, loss=7.53e+4]\n"
     ]
    },
    {
     "name": "stdout",
     "output_type": "stream",
     "text": [
      "epoch 1897: avg train loss 72861.63, bar train loss 209.681, len train loss 4.265, col train loss 135.140\n"
     ]
    },
    {
     "name": "stderr",
     "output_type": "stream",
     "text": [
      "Epoch 1898: 4batch [00:00, 31.75batch/s, loss=7.41e+4]"
     ]
    },
    {
     "name": "stdout",
     "output_type": "stream",
     "text": [
      "epoch 1897: avg test  loss 73296.48, bar  test loss 90.416, len  test loss 1.831, col  test loss 58.590\n"
     ]
    },
    {
     "name": "stderr",
     "output_type": "stream",
     "text": [
      "Epoch 1898: 272batch [00:08, 33.31batch/s, loss=6.91e+4]\n"
     ]
    },
    {
     "name": "stdout",
     "output_type": "stream",
     "text": [
      "epoch 1898: avg train loss 72859.62, bar train loss 209.657, len train loss 4.264, col train loss 135.175\n"
     ]
    },
    {
     "name": "stderr",
     "output_type": "stream",
     "text": [
      "Epoch 1899: 4batch [00:00, 32.78batch/s, loss=7.58e+4]"
     ]
    },
    {
     "name": "stdout",
     "output_type": "stream",
     "text": [
      "epoch 1898: avg test  loss 73279.78, bar  test loss 90.351, len  test loss 1.834, col  test loss 58.437\n"
     ]
    },
    {
     "name": "stderr",
     "output_type": "stream",
     "text": [
      "Epoch 1899: 272batch [00:08, 33.24batch/s, loss=8.21e+4]\n"
     ]
    },
    {
     "name": "stdout",
     "output_type": "stream",
     "text": [
      "epoch 1899: avg train loss 72871.90, bar train loss 209.680, len train loss 4.267, col train loss 135.174\n"
     ]
    },
    {
     "name": "stderr",
     "output_type": "stream",
     "text": [
      "Epoch 1900: 4batch [00:00, 31.01batch/s, loss=7.38e+4]"
     ]
    },
    {
     "name": "stdout",
     "output_type": "stream",
     "text": [
      "epoch 1899: avg test  loss 73277.52, bar  test loss 90.309, len  test loss 1.834, col  test loss 58.508\n"
     ]
    },
    {
     "name": "stderr",
     "output_type": "stream",
     "text": [
      "Epoch 1900: 272batch [00:08, 33.10batch/s, loss=7.62e+4]\n"
     ]
    },
    {
     "name": "stdout",
     "output_type": "stream",
     "text": [
      "epoch 1900: avg train loss 72867.58, bar train loss 209.675, len train loss 4.267, col train loss 135.161\n",
      "epoch 1900: avg test  loss 73294.39, bar  test loss 90.292, len  test loss 1.835, col  test loss 58.420\n"
     ]
    },
    {
     "name": "stderr",
     "output_type": "stream",
     "text": [
      "D:\\Users\\Marko\\Anaconda3\\lib\\site-packages\\ipykernel_launcher.py:12: RuntimeWarning: More than 20 figures have been opened. Figures created through the pyplot interface (`matplotlib.pyplot.figure`) are retained until explicitly closed and may consume too much memory. (To control this warning, see the rcParam `figure.max_open_warning`).\n",
      "  if sys.path[0] == '':\n",
      "Epoch 1901: 272batch [00:08, 33.00batch/s, loss=6.83e+4]\n"
     ]
    },
    {
     "name": "stdout",
     "output_type": "stream",
     "text": [
      "epoch 1901: avg train loss 72865.17, bar train loss 209.682, len train loss 4.265, col train loss 135.203\n"
     ]
    },
    {
     "name": "stderr",
     "output_type": "stream",
     "text": [
      "Epoch 1902: 4batch [00:00, 31.50batch/s, loss=7.12e+4]"
     ]
    },
    {
     "name": "stdout",
     "output_type": "stream",
     "text": [
      "epoch 1901: avg test  loss 73293.11, bar  test loss 90.326, len  test loss 1.833, col  test loss 58.484\n"
     ]
    },
    {
     "name": "stderr",
     "output_type": "stream",
     "text": [
      "Epoch 1902: 272batch [00:08, 32.95batch/s, loss=7.94e+4]\n"
     ]
    },
    {
     "name": "stdout",
     "output_type": "stream",
     "text": [
      "epoch 1902: avg train loss 72862.23, bar train loss 209.668, len train loss 4.264, col train loss 135.175\n"
     ]
    },
    {
     "name": "stderr",
     "output_type": "stream",
     "text": [
      "Epoch 1903: 3batch [00:00, 29.41batch/s, loss=7.21e+4]"
     ]
    },
    {
     "name": "stdout",
     "output_type": "stream",
     "text": [
      "epoch 1902: avg test  loss 73285.95, bar  test loss 90.311, len  test loss 1.825, col  test loss 58.473\n"
     ]
    },
    {
     "name": "stderr",
     "output_type": "stream",
     "text": [
      "Epoch 1903: 272batch [00:08, 33.00batch/s, loss=7.34e+4]\n"
     ]
    },
    {
     "name": "stdout",
     "output_type": "stream",
     "text": [
      "epoch 1903: avg train loss 72861.72, bar train loss 209.683, len train loss 4.263, col train loss 135.187\n"
     ]
    },
    {
     "name": "stderr",
     "output_type": "stream",
     "text": [
      "Epoch 1904: 4batch [00:00, 30.77batch/s, loss=7.14e+4]"
     ]
    },
    {
     "name": "stdout",
     "output_type": "stream",
     "text": [
      "epoch 1903: avg test  loss 73288.12, bar  test loss 90.330, len  test loss 1.830, col  test loss 58.666\n"
     ]
    },
    {
     "name": "stderr",
     "output_type": "stream",
     "text": [
      "Epoch 1904: 272batch [00:08, 32.87batch/s, loss=8.08e+4]\n"
     ]
    },
    {
     "name": "stdout",
     "output_type": "stream",
     "text": [
      "epoch 1904: avg train loss 72873.19, bar train loss 209.660, len train loss 4.264, col train loss 135.187\n"
     ]
    },
    {
     "name": "stderr",
     "output_type": "stream",
     "text": [
      "Epoch 1905: 4batch [00:00, 32.52batch/s, loss=7.34e+4]"
     ]
    },
    {
     "name": "stdout",
     "output_type": "stream",
     "text": [
      "epoch 1904: avg test  loss 73288.71, bar  test loss 90.228, len  test loss 1.827, col  test loss 58.481\n"
     ]
    },
    {
     "name": "stderr",
     "output_type": "stream",
     "text": [
      "Epoch 1905: 272batch [00:08, 32.61batch/s, loss=7.35e+4]\n"
     ]
    },
    {
     "name": "stdout",
     "output_type": "stream",
     "text": [
      "epoch 1905: avg train loss 72856.79, bar train loss 209.660, len train loss 4.263, col train loss 135.154\n",
      "epoch 1905: avg test  loss 73295.91, bar  test loss 90.339, len  test loss 1.832, col  test loss 58.421\n"
     ]
    },
    {
     "name": "stderr",
     "output_type": "stream",
     "text": [
      "D:\\Users\\Marko\\Anaconda3\\lib\\site-packages\\ipykernel_launcher.py:11: RuntimeWarning: More than 20 figures have been opened. Figures created through the pyplot interface (`matplotlib.pyplot.figure`) are retained until explicitly closed and may consume too much memory. (To control this warning, see the rcParam `figure.max_open_warning`).\n",
      "  # This is added back by InteractiveShellApp.init_path()\n",
      "Epoch 1906: 272batch [00:08, 32.70batch/s, loss=7.41e+4]\n"
     ]
    },
    {
     "name": "stdout",
     "output_type": "stream",
     "text": [
      "epoch 1906: avg train loss 72872.16, bar train loss 209.688, len train loss 4.263, col train loss 135.201\n"
     ]
    },
    {
     "name": "stderr",
     "output_type": "stream",
     "text": [
      "Epoch 1907: 4batch [00:00, 30.53batch/s, loss=7.02e+4]"
     ]
    },
    {
     "name": "stdout",
     "output_type": "stream",
     "text": [
      "epoch 1906: avg test  loss 73295.80, bar  test loss 90.288, len  test loss 1.829, col  test loss 58.445\n"
     ]
    },
    {
     "name": "stderr",
     "output_type": "stream",
     "text": [
      "Epoch 1907: 272batch [00:08, 32.96batch/s, loss=6.92e+4]\n"
     ]
    },
    {
     "name": "stdout",
     "output_type": "stream",
     "text": [
      "epoch 1907: avg train loss 72869.78, bar train loss 209.678, len train loss 4.265, col train loss 135.216\n"
     ]
    },
    {
     "name": "stderr",
     "output_type": "stream",
     "text": [
      "Epoch 1908: 4batch [00:00, 33.06batch/s, loss=7.2e+4] "
     ]
    },
    {
     "name": "stdout",
     "output_type": "stream",
     "text": [
      "epoch 1907: avg test  loss 73266.34, bar  test loss 90.234, len  test loss 1.829, col  test loss 58.488\n"
     ]
    },
    {
     "name": "stderr",
     "output_type": "stream",
     "text": [
      "Epoch 1908: 272batch [00:08, 32.75batch/s, loss=7.22e+4]\n"
     ]
    },
    {
     "name": "stdout",
     "output_type": "stream",
     "text": [
      "epoch 1908: avg train loss 72867.30, bar train loss 209.660, len train loss 4.265, col train loss 135.172\n"
     ]
    },
    {
     "name": "stderr",
     "output_type": "stream",
     "text": [
      "Epoch 1909: 4batch [00:00, 31.50batch/s, loss=7.66e+4]"
     ]
    },
    {
     "name": "stdout",
     "output_type": "stream",
     "text": [
      "epoch 1908: avg test  loss 73271.62, bar  test loss 90.173, len  test loss 1.827, col  test loss 58.279\n"
     ]
    },
    {
     "name": "stderr",
     "output_type": "stream",
     "text": [
      "Epoch 1909: 272batch [00:08, 32.88batch/s, loss=7.31e+4]\n"
     ]
    },
    {
     "name": "stdout",
     "output_type": "stream",
     "text": [
      "epoch 1909: avg train loss 72866.49, bar train loss 209.672, len train loss 4.263, col train loss 135.190\n"
     ]
    },
    {
     "name": "stderr",
     "output_type": "stream",
     "text": [
      "Epoch 1910: 4batch [00:00, 32.00batch/s, loss=7.22e+4]"
     ]
    },
    {
     "name": "stdout",
     "output_type": "stream",
     "text": [
      "epoch 1909: avg test  loss 73373.66, bar  test loss 90.442, len  test loss 1.834, col  test loss 58.530\n"
     ]
    },
    {
     "name": "stderr",
     "output_type": "stream",
     "text": [
      "Epoch 1910: 272batch [00:08, 32.64batch/s, loss=6.94e+4]\n"
     ]
    },
    {
     "name": "stdout",
     "output_type": "stream",
     "text": [
      "epoch 1910: avg train loss 72869.41, bar train loss 209.709, len train loss 4.265, col train loss 135.185\n",
      "epoch 1910: avg test  loss 73243.77, bar  test loss 90.219, len  test loss 1.829, col  test loss 58.421\n"
     ]
    },
    {
     "name": "stderr",
     "output_type": "stream",
     "text": [
      "Epoch 1911: 272batch [00:08, 32.43batch/s, loss=7.2e+4] \n"
     ]
    },
    {
     "name": "stdout",
     "output_type": "stream",
     "text": [
      "epoch 1911: avg train loss 72873.45, bar train loss 209.675, len train loss 4.267, col train loss 135.178\n"
     ]
    },
    {
     "name": "stderr",
     "output_type": "stream",
     "text": [
      "Epoch 1912: 4batch [00:00, 30.07batch/s, loss=7.6e+4] "
     ]
    },
    {
     "name": "stdout",
     "output_type": "stream",
     "text": [
      "epoch 1911: avg test  loss 73317.15, bar  test loss 90.249, len  test loss 1.837, col  test loss 58.523\n"
     ]
    },
    {
     "name": "stderr",
     "output_type": "stream",
     "text": [
      "Epoch 1912: 272batch [00:08, 32.47batch/s, loss=7.51e+4]\n"
     ]
    },
    {
     "name": "stdout",
     "output_type": "stream",
     "text": [
      "epoch 1912: avg train loss 72865.38, bar train loss 209.684, len train loss 4.267, col train loss 135.182\n"
     ]
    },
    {
     "name": "stderr",
     "output_type": "stream",
     "text": [
      "Epoch 1913: 4batch [00:00, 31.01batch/s, loss=6.95e+4]"
     ]
    },
    {
     "name": "stdout",
     "output_type": "stream",
     "text": [
      "epoch 1912: avg test  loss 73244.55, bar  test loss 90.238, len  test loss 1.829, col  test loss 58.432\n"
     ]
    },
    {
     "name": "stderr",
     "output_type": "stream",
     "text": [
      "Epoch 1913: 272batch [00:08, 32.24batch/s, loss=7.29e+4]\n"
     ]
    },
    {
     "name": "stdout",
     "output_type": "stream",
     "text": [
      "epoch 1913: avg train loss 72867.08, bar train loss 209.684, len train loss 4.268, col train loss 135.150\n"
     ]
    },
    {
     "name": "stderr",
     "output_type": "stream",
     "text": [
      "Epoch 1914: 4batch [00:00, 32.26batch/s, loss=7.25e+4]"
     ]
    },
    {
     "name": "stdout",
     "output_type": "stream",
     "text": [
      "epoch 1913: avg test  loss 73292.35, bar  test loss 90.213, len  test loss 1.832, col  test loss 58.413\n"
     ]
    },
    {
     "name": "stderr",
     "output_type": "stream",
     "text": [
      "Epoch 1914: 272batch [00:08, 32.42batch/s, loss=7.24e+4]\n"
     ]
    },
    {
     "name": "stdout",
     "output_type": "stream",
     "text": [
      "epoch 1914: avg train loss 72863.92, bar train loss 209.687, len train loss 4.266, col train loss 135.158\n"
     ]
    },
    {
     "name": "stderr",
     "output_type": "stream",
     "text": [
      "Epoch 1915: 3batch [00:00, 29.13batch/s, loss=7.55e+4]"
     ]
    },
    {
     "name": "stdout",
     "output_type": "stream",
     "text": [
      "epoch 1914: avg test  loss 73257.48, bar  test loss 90.296, len  test loss 1.829, col  test loss 58.487\n"
     ]
    },
    {
     "name": "stderr",
     "output_type": "stream",
     "text": [
      "Epoch 1915: 272batch [00:08, 32.31batch/s, loss=7.39e+4]\n"
     ]
    },
    {
     "name": "stdout",
     "output_type": "stream",
     "text": [
      "epoch 1915: avg train loss 72874.08, bar train loss 209.704, len train loss 4.265, col train loss 135.169\n",
      "epoch 1915: avg test  loss 73307.28, bar  test loss 90.409, len  test loss 1.830, col  test loss 58.536\n"
     ]
    },
    {
     "name": "stderr",
     "output_type": "stream",
     "text": [
      "Epoch 1916: 272batch [00:08, 32.31batch/s, loss=6.96e+4]\n"
     ]
    },
    {
     "name": "stdout",
     "output_type": "stream",
     "text": [
      "epoch 1916: avg train loss 72866.05, bar train loss 209.671, len train loss 4.266, col train loss 135.147\n"
     ]
    },
    {
     "name": "stderr",
     "output_type": "stream",
     "text": [
      "Epoch 1917: 4batch [00:00, 29.85batch/s, loss=7.11e+4]"
     ]
    },
    {
     "name": "stdout",
     "output_type": "stream",
     "text": [
      "epoch 1916: avg test  loss 73281.36, bar  test loss 90.323, len  test loss 1.825, col  test loss 58.437\n"
     ]
    },
    {
     "name": "stderr",
     "output_type": "stream",
     "text": [
      "Epoch 1917: 272batch [00:08, 32.28batch/s, loss=7.51e+4]\n"
     ]
    },
    {
     "name": "stdout",
     "output_type": "stream",
     "text": [
      "epoch 1917: avg train loss 72866.01, bar train loss 209.690, len train loss 4.267, col train loss 135.160\n"
     ]
    },
    {
     "name": "stderr",
     "output_type": "stream",
     "text": [
      "Epoch 1918: 4batch [00:00, 31.01batch/s, loss=7.29e+4]"
     ]
    },
    {
     "name": "stdout",
     "output_type": "stream",
     "text": [
      "epoch 1917: avg test  loss 73267.99, bar  test loss 90.145, len  test loss 1.828, col  test loss 58.379\n"
     ]
    },
    {
     "name": "stderr",
     "output_type": "stream",
     "text": [
      "Epoch 1918: 272batch [00:08, 32.22batch/s, loss=6.69e+4]\n"
     ]
    },
    {
     "name": "stdout",
     "output_type": "stream",
     "text": [
      "epoch 1918: avg train loss 72862.02, bar train loss 209.631, len train loss 4.265, col train loss 135.176\n"
     ]
    },
    {
     "name": "stderr",
     "output_type": "stream",
     "text": [
      "Epoch 1919: 3batch [00:00, 29.70batch/s, loss=7.02e+4]"
     ]
    },
    {
     "name": "stdout",
     "output_type": "stream",
     "text": [
      "epoch 1918: avg test  loss 73260.37, bar  test loss 90.335, len  test loss 1.834, col  test loss 58.475\n"
     ]
    },
    {
     "name": "stderr",
     "output_type": "stream",
     "text": [
      "Epoch 1919: 272batch [00:08, 32.11batch/s, loss=6.98e+4]\n"
     ]
    },
    {
     "name": "stdout",
     "output_type": "stream",
     "text": [
      "epoch 1919: avg train loss 72857.04, bar train loss 209.653, len train loss 4.266, col train loss 135.143\n"
     ]
    },
    {
     "name": "stderr",
     "output_type": "stream",
     "text": [
      "Epoch 1920: 3batch [00:00, 30.00batch/s, loss=7.39e+4]"
     ]
    },
    {
     "name": "stdout",
     "output_type": "stream",
     "text": [
      "epoch 1919: avg test  loss 73283.39, bar  test loss 90.348, len  test loss 1.832, col  test loss 58.485\n"
     ]
    },
    {
     "name": "stderr",
     "output_type": "stream",
     "text": [
      "Epoch 1920: 272batch [00:08, 31.58batch/s, loss=7.45e+4]\n"
     ]
    },
    {
     "name": "stdout",
     "output_type": "stream",
     "text": [
      "epoch 1920: avg train loss 72858.21, bar train loss 209.633, len train loss 4.266, col train loss 135.199\n",
      "epoch 1920: avg test  loss 73299.22, bar  test loss 90.301, len  test loss 1.836, col  test loss 58.516\n"
     ]
    },
    {
     "name": "stderr",
     "output_type": "stream",
     "text": [
      "Epoch 1921: 272batch [00:08, 32.35batch/s, loss=6.72e+4]\n"
     ]
    },
    {
     "name": "stdout",
     "output_type": "stream",
     "text": [
      "epoch 1921: avg train loss 72870.43, bar train loss 209.684, len train loss 4.266, col train loss 135.200\n"
     ]
    },
    {
     "name": "stderr",
     "output_type": "stream",
     "text": [
      "Epoch 1922: 4batch [00:00, 29.63batch/s, loss=7.28e+4]"
     ]
    },
    {
     "name": "stdout",
     "output_type": "stream",
     "text": [
      "epoch 1921: avg test  loss 73298.70, bar  test loss 90.306, len  test loss 1.834, col  test loss 58.526\n"
     ]
    },
    {
     "name": "stderr",
     "output_type": "stream",
     "text": [
      "Epoch 1922: 272batch [00:08, 32.20batch/s, loss=7.16e+4]\n"
     ]
    },
    {
     "name": "stdout",
     "output_type": "stream",
     "text": [
      "epoch 1922: avg train loss 72862.73, bar train loss 209.679, len train loss 4.265, col train loss 135.177\n"
     ]
    },
    {
     "name": "stderr",
     "output_type": "stream",
     "text": [
      "Epoch 1923: 4batch [00:00, 30.53batch/s, loss=6.97e+4]"
     ]
    },
    {
     "name": "stdout",
     "output_type": "stream",
     "text": [
      "epoch 1922: avg test  loss 73319.41, bar  test loss 90.238, len  test loss 1.829, col  test loss 58.416\n"
     ]
    },
    {
     "name": "stderr",
     "output_type": "stream",
     "text": [
      "Epoch 1923: 272batch [00:08, 31.80batch/s, loss=7.32e+4]\n"
     ]
    },
    {
     "name": "stdout",
     "output_type": "stream",
     "text": [
      "epoch 1923: avg train loss 72864.55, bar train loss 209.647, len train loss 4.263, col train loss 135.125\n"
     ]
    },
    {
     "name": "stderr",
     "output_type": "stream",
     "text": [
      "Epoch 1924: 3batch [00:00, 29.13batch/s, loss=7.33e+4]"
     ]
    },
    {
     "name": "stdout",
     "output_type": "stream",
     "text": [
      "epoch 1923: avg test  loss 73299.38, bar  test loss 90.316, len  test loss 1.834, col  test loss 58.498\n"
     ]
    },
    {
     "name": "stderr",
     "output_type": "stream",
     "text": [
      "Epoch 1924: 272batch [00:08, 31.64batch/s, loss=7.31e+4]\n"
     ]
    },
    {
     "name": "stdout",
     "output_type": "stream",
     "text": [
      "epoch 1924: avg train loss 72859.51, bar train loss 209.646, len train loss 4.265, col train loss 135.138\n"
     ]
    },
    {
     "name": "stderr",
     "output_type": "stream",
     "text": [
      "Epoch 1925: 4batch [00:00, 31.50batch/s, loss=6.94e+4]"
     ]
    },
    {
     "name": "stdout",
     "output_type": "stream",
     "text": [
      "epoch 1924: avg test  loss 73272.12, bar  test loss 90.445, len  test loss 1.830, col  test loss 58.569\n"
     ]
    },
    {
     "name": "stderr",
     "output_type": "stream",
     "text": [
      "Epoch 1925: 272batch [00:08, 31.76batch/s, loss=7e+4]   \n"
     ]
    },
    {
     "name": "stdout",
     "output_type": "stream",
     "text": [
      "epoch 1925: avg train loss 72862.59, bar train loss 209.690, len train loss 4.267, col train loss 135.148\n",
      "epoch 1925: avg test  loss 73274.30, bar  test loss 90.397, len  test loss 1.835, col  test loss 58.564\n"
     ]
    },
    {
     "name": "stderr",
     "output_type": "stream",
     "text": [
      "Epoch 1926: 272batch [00:08, 31.74batch/s, loss=7.7e+4] \n"
     ]
    },
    {
     "name": "stdout",
     "output_type": "stream",
     "text": [
      "epoch 1926: avg train loss 72861.12, bar train loss 209.689, len train loss 4.267, col train loss 135.185\n"
     ]
    },
    {
     "name": "stderr",
     "output_type": "stream",
     "text": [
      "Epoch 1927: 3batch [00:00, 28.57batch/s, loss=7.16e+4]"
     ]
    },
    {
     "name": "stdout",
     "output_type": "stream",
     "text": [
      "epoch 1926: avg test  loss 73281.79, bar  test loss 90.305, len  test loss 1.827, col  test loss 58.624\n"
     ]
    },
    {
     "name": "stderr",
     "output_type": "stream",
     "text": [
      "Epoch 1927: 272batch [00:08, 31.76batch/s, loss=7.52e+4]\n"
     ]
    },
    {
     "name": "stdout",
     "output_type": "stream",
     "text": [
      "epoch 1927: avg train loss 72855.15, bar train loss 209.624, len train loss 4.262, col train loss 135.133\n"
     ]
    },
    {
     "name": "stderr",
     "output_type": "stream",
     "text": [
      "Epoch 1928: 3batch [00:00, 29.70batch/s, loss=7.06e+4]"
     ]
    },
    {
     "name": "stdout",
     "output_type": "stream",
     "text": [
      "epoch 1927: avg test  loss 73268.44, bar  test loss 90.296, len  test loss 1.826, col  test loss 58.476\n"
     ]
    },
    {
     "name": "stderr",
     "output_type": "stream",
     "text": [
      "Epoch 1928: 272batch [00:08, 31.47batch/s, loss=7.65e+4]\n"
     ]
    },
    {
     "name": "stdout",
     "output_type": "stream",
     "text": [
      "epoch 1928: avg train loss 72862.62, bar train loss 209.657, len train loss 4.263, col train loss 135.155\n"
     ]
    },
    {
     "name": "stderr",
     "output_type": "stream",
     "text": [
      "Epoch 1929: 4batch [00:00, 31.50batch/s, loss=7.52e+4]"
     ]
    },
    {
     "name": "stdout",
     "output_type": "stream",
     "text": [
      "epoch 1928: avg test  loss 73288.20, bar  test loss 90.371, len  test loss 1.832, col  test loss 58.466\n"
     ]
    },
    {
     "name": "stderr",
     "output_type": "stream",
     "text": [
      "Epoch 1929: 272batch [00:08, 31.67batch/s, loss=7.24e+4]\n"
     ]
    },
    {
     "name": "stdout",
     "output_type": "stream",
     "text": [
      "epoch 1929: avg train loss 72874.12, bar train loss 209.682, len train loss 4.267, col train loss 135.172\n"
     ]
    },
    {
     "name": "stderr",
     "output_type": "stream",
     "text": [
      "Epoch 1930: 4batch [00:00, 31.25batch/s, loss=7.32e+4]"
     ]
    },
    {
     "name": "stdout",
     "output_type": "stream",
     "text": [
      "epoch 1929: avg test  loss 73263.25, bar  test loss 90.151, len  test loss 1.829, col  test loss 58.383\n"
     ]
    },
    {
     "name": "stderr",
     "output_type": "stream",
     "text": [
      "Epoch 1930: 272batch [00:08, 31.52batch/s, loss=7.36e+4]\n"
     ]
    },
    {
     "name": "stdout",
     "output_type": "stream",
     "text": [
      "epoch 1930: avg train loss 72858.97, bar train loss 209.667, len train loss 4.264, col train loss 135.153\n",
      "epoch 1930: avg test  loss 73322.63, bar  test loss 90.258, len  test loss 1.823, col  test loss 58.471\n"
     ]
    },
    {
     "name": "stderr",
     "output_type": "stream",
     "text": [
      "Epoch 1931: 272batch [00:08, 30.77batch/s, loss=6.79e+4]\n"
     ]
    },
    {
     "name": "stdout",
     "output_type": "stream",
     "text": [
      "epoch 1931: avg train loss 72866.36, bar train loss 209.666, len train loss 4.266, col train loss 135.184\n"
     ]
    },
    {
     "name": "stderr",
     "output_type": "stream",
     "text": [
      "Epoch 1932: 4batch [00:00, 30.30batch/s, loss=6.94e+4]"
     ]
    },
    {
     "name": "stdout",
     "output_type": "stream",
     "text": [
      "epoch 1931: avg test  loss 73350.28, bar  test loss 90.409, len  test loss 1.830, col  test loss 58.616\n"
     ]
    },
    {
     "name": "stderr",
     "output_type": "stream",
     "text": [
      "Epoch 1932: 272batch [00:08, 31.81batch/s, loss=6.71e+4]\n"
     ]
    },
    {
     "name": "stdout",
     "output_type": "stream",
     "text": [
      "epoch 1932: avg train loss 72855.70, bar train loss 209.614, len train loss 4.265, col train loss 135.131\n"
     ]
    },
    {
     "name": "stderr",
     "output_type": "stream",
     "text": [
      "Epoch 1933: 3batch [00:00, 28.85batch/s, loss=7.21e+4]"
     ]
    },
    {
     "name": "stdout",
     "output_type": "stream",
     "text": [
      "epoch 1932: avg test  loss 73283.55, bar  test loss 90.329, len  test loss 1.832, col  test loss 58.393\n"
     ]
    },
    {
     "name": "stderr",
     "output_type": "stream",
     "text": [
      "Epoch 1933: 272batch [00:08, 31.56batch/s, loss=7.33e+4]\n"
     ]
    },
    {
     "name": "stdout",
     "output_type": "stream",
     "text": [
      "epoch 1933: avg train loss 72851.16, bar train loss 209.643, len train loss 4.263, col train loss 135.098\n"
     ]
    },
    {
     "name": "stderr",
     "output_type": "stream",
     "text": [
      "Epoch 1934: 3batch [00:00, 29.13batch/s, loss=7.31e+4]"
     ]
    },
    {
     "name": "stdout",
     "output_type": "stream",
     "text": [
      "epoch 1933: avg test  loss 73256.73, bar  test loss 90.323, len  test loss 1.830, col  test loss 58.441\n"
     ]
    },
    {
     "name": "stderr",
     "output_type": "stream",
     "text": [
      "Epoch 1934: 272batch [00:08, 31.44batch/s, loss=7.32e+4]\n"
     ]
    },
    {
     "name": "stdout",
     "output_type": "stream",
     "text": [
      "epoch 1934: avg train loss 72859.98, bar train loss 209.657, len train loss 4.264, col train loss 135.136\n"
     ]
    },
    {
     "name": "stderr",
     "output_type": "stream",
     "text": [
      "Epoch 1935: 4batch [00:00, 30.77batch/s, loss=7.63e+4]"
     ]
    },
    {
     "name": "stdout",
     "output_type": "stream",
     "text": [
      "epoch 1934: avg test  loss 73284.76, bar  test loss 90.217, len  test loss 1.833, col  test loss 58.500\n"
     ]
    },
    {
     "name": "stderr",
     "output_type": "stream",
     "text": [
      "Epoch 1935: 272batch [00:08, 31.20batch/s, loss=7.93e+4]\n"
     ]
    },
    {
     "name": "stdout",
     "output_type": "stream",
     "text": [
      "epoch 1935: avg train loss 72851.73, bar train loss 209.639, len train loss 4.262, col train loss 135.155\n",
      "epoch 1935: avg test  loss 73269.05, bar  test loss 90.244, len  test loss 1.838, col  test loss 58.379\n"
     ]
    },
    {
     "name": "stderr",
     "output_type": "stream",
     "text": [
      "Epoch 1936: 272batch [00:08, 31.17batch/s, loss=7.73e+4]\n"
     ]
    },
    {
     "name": "stdout",
     "output_type": "stream",
     "text": [
      "epoch 1936: avg train loss 72857.05, bar train loss 209.638, len train loss 4.266, col train loss 135.118\n"
     ]
    },
    {
     "name": "stderr",
     "output_type": "stream",
     "text": [
      "Epoch 1937: 4batch [00:00, 30.54batch/s, loss=7.24e+4]"
     ]
    },
    {
     "name": "stdout",
     "output_type": "stream",
     "text": [
      "epoch 1936: avg test  loss 73283.18, bar  test loss 90.210, len  test loss 1.827, col  test loss 58.453\n"
     ]
    },
    {
     "name": "stderr",
     "output_type": "stream",
     "text": [
      "Epoch 1937: 272batch [00:08, 31.30batch/s, loss=7.29e+4]\n"
     ]
    },
    {
     "name": "stdout",
     "output_type": "stream",
     "text": [
      "epoch 1937: avg train loss 72858.10, bar train loss 209.649, len train loss 4.266, col train loss 135.131\n"
     ]
    },
    {
     "name": "stderr",
     "output_type": "stream",
     "text": [
      "Epoch 1938: 3batch [00:00, 28.57batch/s, loss=7.45e+4]"
     ]
    },
    {
     "name": "stdout",
     "output_type": "stream",
     "text": [
      "epoch 1937: avg test  loss 73281.09, bar  test loss 90.266, len  test loss 1.830, col  test loss 58.467\n"
     ]
    },
    {
     "name": "stderr",
     "output_type": "stream",
     "text": [
      "Epoch 1938: 272batch [00:08, 31.23batch/s, loss=7.77e+4]\n"
     ]
    },
    {
     "name": "stdout",
     "output_type": "stream",
     "text": [
      "epoch 1938: avg train loss 72857.96, bar train loss 209.631, len train loss 4.267, col train loss 135.109\n"
     ]
    },
    {
     "name": "stderr",
     "output_type": "stream",
     "text": [
      "Epoch 1939: 3batch [00:00, 28.04batch/s, loss=7.31e+4]"
     ]
    },
    {
     "name": "stdout",
     "output_type": "stream",
     "text": [
      "epoch 1938: avg test  loss 73269.36, bar  test loss 90.334, len  test loss 1.828, col  test loss 58.461\n"
     ]
    },
    {
     "name": "stderr",
     "output_type": "stream",
     "text": [
      "Epoch 1939: 272batch [00:08, 31.15batch/s, loss=7.39e+4]\n"
     ]
    },
    {
     "name": "stdout",
     "output_type": "stream",
     "text": [
      "epoch 1939: avg train loss 72854.77, bar train loss 209.676, len train loss 4.267, col train loss 135.144\n"
     ]
    },
    {
     "name": "stderr",
     "output_type": "stream",
     "text": [
      "Epoch 1940: 3batch [00:00, 28.57batch/s, loss=7.56e+4]"
     ]
    },
    {
     "name": "stdout",
     "output_type": "stream",
     "text": [
      "epoch 1939: avg test  loss 73291.01, bar  test loss 90.104, len  test loss 1.829, col  test loss 58.324\n"
     ]
    },
    {
     "name": "stderr",
     "output_type": "stream",
     "text": [
      "Epoch 1940: 272batch [00:08, 30.55batch/s, loss=7.71e+4]\n"
     ]
    },
    {
     "name": "stdout",
     "output_type": "stream",
     "text": [
      "epoch 1940: avg train loss 72852.61, bar train loss 209.605, len train loss 4.264, col train loss 135.132\n",
      "epoch 1940: avg test  loss 73265.16, bar  test loss 90.420, len  test loss 1.830, col  test loss 58.519\n"
     ]
    },
    {
     "name": "stderr",
     "output_type": "stream",
     "text": [
      "Epoch 1941: 272batch [00:08, 30.84batch/s, loss=7e+4]   \n"
     ]
    },
    {
     "name": "stdout",
     "output_type": "stream",
     "text": [
      "epoch 1941: avg train loss 72859.36, bar train loss 209.661, len train loss 4.267, col train loss 135.147\n"
     ]
    },
    {
     "name": "stderr",
     "output_type": "stream",
     "text": [
      "Epoch 1942: 3batch [00:00, 29.41batch/s, loss=7.43e+4]"
     ]
    },
    {
     "name": "stdout",
     "output_type": "stream",
     "text": [
      "epoch 1941: avg test  loss 73278.94, bar  test loss 90.155, len  test loss 1.828, col  test loss 58.374\n"
     ]
    },
    {
     "name": "stderr",
     "output_type": "stream",
     "text": [
      "Epoch 1942: 272batch [00:08, 30.93batch/s, loss=6.77e+4]\n"
     ]
    },
    {
     "name": "stdout",
     "output_type": "stream",
     "text": [
      "epoch 1942: avg train loss 72851.87, bar train loss 209.637, len train loss 4.265, col train loss 135.102\n"
     ]
    },
    {
     "name": "stderr",
     "output_type": "stream",
     "text": [
      "Epoch 1943: 3batch [00:00, 29.41batch/s, loss=7.23e+4]"
     ]
    },
    {
     "name": "stdout",
     "output_type": "stream",
     "text": [
      "epoch 1942: avg test  loss 73286.17, bar  test loss 90.320, len  test loss 1.837, col  test loss 58.507\n"
     ]
    },
    {
     "name": "stderr",
     "output_type": "stream",
     "text": [
      "Epoch 1943: 272batch [00:08, 31.09batch/s, loss=6.55e+4]\n"
     ]
    },
    {
     "name": "stdout",
     "output_type": "stream",
     "text": [
      "epoch 1943: avg train loss 72856.07, bar train loss 209.622, len train loss 4.265, col train loss 135.132\n"
     ]
    },
    {
     "name": "stderr",
     "output_type": "stream",
     "text": [
      "Epoch 1944: 3batch [00:00, 28.85batch/s, loss=7.37e+4]"
     ]
    },
    {
     "name": "stdout",
     "output_type": "stream",
     "text": [
      "epoch 1943: avg test  loss 73278.91, bar  test loss 90.138, len  test loss 1.828, col  test loss 58.345\n"
     ]
    },
    {
     "name": "stderr",
     "output_type": "stream",
     "text": [
      "Epoch 1944: 272batch [00:08, 30.84batch/s, loss=6.98e+4]\n"
     ]
    },
    {
     "name": "stdout",
     "output_type": "stream",
     "text": [
      "epoch 1944: avg train loss 72852.77, bar train loss 209.665, len train loss 4.263, col train loss 135.110\n"
     ]
    },
    {
     "name": "stderr",
     "output_type": "stream",
     "text": [
      "Epoch 1945: 4batch [00:00, 30.53batch/s, loss=7.57e+4]"
     ]
    },
    {
     "name": "stdout",
     "output_type": "stream",
     "text": [
      "epoch 1944: avg test  loss 73270.26, bar  test loss 90.265, len  test loss 1.833, col  test loss 58.406\n"
     ]
    },
    {
     "name": "stderr",
     "output_type": "stream",
     "text": [
      "Epoch 1945: 272batch [00:08, 31.14batch/s, loss=8.02e+4]\n"
     ]
    },
    {
     "name": "stdout",
     "output_type": "stream",
     "text": [
      "epoch 1945: avg train loss 72852.85, bar train loss 209.642, len train loss 4.265, col train loss 135.116\n",
      "epoch 1945: avg test  loss 73307.20, bar  test loss 90.294, len  test loss 1.831, col  test loss 58.472\n"
     ]
    },
    {
     "name": "stderr",
     "output_type": "stream",
     "text": [
      "Epoch 1946: 272batch [00:08, 31.14batch/s, loss=7.28e+4]\n"
     ]
    },
    {
     "name": "stdout",
     "output_type": "stream",
     "text": [
      "epoch 1946: avg train loss 72858.73, bar train loss 209.657, len train loss 4.263, col train loss 135.117\n"
     ]
    },
    {
     "name": "stderr",
     "output_type": "stream",
     "text": [
      "Epoch 1947: 3batch [00:00, 29.41batch/s, loss=7.56e+4]"
     ]
    },
    {
     "name": "stdout",
     "output_type": "stream",
     "text": [
      "epoch 1946: avg test  loss 73306.99, bar  test loss 90.348, len  test loss 1.835, col  test loss 58.511\n"
     ]
    },
    {
     "name": "stderr",
     "output_type": "stream",
     "text": [
      "Epoch 1947: 272batch [00:08, 31.00batch/s, loss=6.79e+4]\n"
     ]
    },
    {
     "name": "stdout",
     "output_type": "stream",
     "text": [
      "epoch 1947: avg train loss 72851.89, bar train loss 209.640, len train loss 4.265, col train loss 135.145\n"
     ]
    },
    {
     "name": "stderr",
     "output_type": "stream",
     "text": [
      "Epoch 1948: 4batch [00:00, 31.01batch/s, loss=7.72e+4]"
     ]
    },
    {
     "name": "stdout",
     "output_type": "stream",
     "text": [
      "epoch 1947: avg test  loss 73282.84, bar  test loss 90.203, len  test loss 1.832, col  test loss 58.432\n"
     ]
    },
    {
     "name": "stderr",
     "output_type": "stream",
     "text": [
      "Epoch 1948: 272batch [00:08, 31.25batch/s, loss=7.79e+4]\n"
     ]
    },
    {
     "name": "stdout",
     "output_type": "stream",
     "text": [
      "epoch 1948: avg train loss 72856.19, bar train loss 209.652, len train loss 4.268, col train loss 135.100\n"
     ]
    },
    {
     "name": "stderr",
     "output_type": "stream",
     "text": [
      "Epoch 1949: 3batch [00:00, 30.00batch/s, loss=6.88e+4]"
     ]
    },
    {
     "name": "stdout",
     "output_type": "stream",
     "text": [
      "epoch 1948: avg test  loss 73299.87, bar  test loss 90.265, len  test loss 1.828, col  test loss 58.301\n"
     ]
    },
    {
     "name": "stderr",
     "output_type": "stream",
     "text": [
      "Epoch 1949: 272batch [00:08, 31.13batch/s, loss=7.54e+4]\n"
     ]
    },
    {
     "name": "stdout",
     "output_type": "stream",
     "text": [
      "epoch 1949: avg train loss 72854.70, bar train loss 209.606, len train loss 4.266, col train loss 135.125\n"
     ]
    },
    {
     "name": "stderr",
     "output_type": "stream",
     "text": [
      "Epoch 1950: 4batch [00:00, 30.30batch/s, loss=7.52e+4]"
     ]
    },
    {
     "name": "stdout",
     "output_type": "stream",
     "text": [
      "epoch 1949: avg test  loss 73274.72, bar  test loss 90.397, len  test loss 1.833, col  test loss 58.547\n"
     ]
    },
    {
     "name": "stderr",
     "output_type": "stream",
     "text": [
      "Epoch 1950: 272batch [00:08, 31.28batch/s, loss=7.12e+4]\n"
     ]
    },
    {
     "name": "stdout",
     "output_type": "stream",
     "text": [
      "epoch 1950: avg train loss 72852.26, bar train loss 209.612, len train loss 4.263, col train loss 135.097\n",
      "epoch 1950: avg test  loss 73293.09, bar  test loss 90.459, len  test loss 1.830, col  test loss 58.500\n"
     ]
    },
    {
     "name": "stderr",
     "output_type": "stream",
     "text": [
      "Epoch 1951: 272batch [00:08, 30.80batch/s, loss=7.32e+4]\n"
     ]
    },
    {
     "name": "stdout",
     "output_type": "stream",
     "text": [
      "epoch 1951: avg train loss 72848.54, bar train loss 209.639, len train loss 4.266, col train loss 135.094\n"
     ]
    },
    {
     "name": "stderr",
     "output_type": "stream",
     "text": [
      "Epoch 1952: 4batch [00:00, 30.53batch/s, loss=7.49e+4]"
     ]
    },
    {
     "name": "stdout",
     "output_type": "stream",
     "text": [
      "epoch 1951: avg test  loss 73281.31, bar  test loss 90.111, len  test loss 1.828, col  test loss 58.280\n"
     ]
    },
    {
     "name": "stderr",
     "output_type": "stream",
     "text": [
      "Epoch 1952: 272batch [00:08, 31.21batch/s, loss=7.35e+4]\n"
     ]
    },
    {
     "name": "stdout",
     "output_type": "stream",
     "text": [
      "epoch 1952: avg train loss 72862.44, bar train loss 209.658, len train loss 4.264, col train loss 135.150\n"
     ]
    },
    {
     "name": "stderr",
     "output_type": "stream",
     "text": [
      "Epoch 1953: 3batch [00:00, 29.41batch/s, loss=7.26e+4]"
     ]
    },
    {
     "name": "stdout",
     "output_type": "stream",
     "text": [
      "epoch 1952: avg test  loss 73297.07, bar  test loss 90.361, len  test loss 1.831, col  test loss 58.517\n"
     ]
    },
    {
     "name": "stderr",
     "output_type": "stream",
     "text": [
      "Epoch 1953: 272batch [00:08, 31.42batch/s, loss=7.45e+4]\n"
     ]
    },
    {
     "name": "stdout",
     "output_type": "stream",
     "text": [
      "epoch 1953: avg train loss 72853.56, bar train loss 209.629, len train loss 4.264, col train loss 135.134\n"
     ]
    },
    {
     "name": "stderr",
     "output_type": "stream",
     "text": [
      "Epoch 1954: 4batch [00:00, 29.41batch/s, loss=6.96e+4]"
     ]
    },
    {
     "name": "stdout",
     "output_type": "stream",
     "text": [
      "epoch 1953: avg test  loss 73282.28, bar  test loss 90.408, len  test loss 1.828, col  test loss 58.437\n"
     ]
    },
    {
     "name": "stderr",
     "output_type": "stream",
     "text": [
      "Epoch 1954: 272batch [00:08, 31.19batch/s, loss=7.33e+4]\n"
     ]
    },
    {
     "name": "stdout",
     "output_type": "stream",
     "text": [
      "epoch 1954: avg train loss 72844.41, bar train loss 209.633, len train loss 4.263, col train loss 135.100\n"
     ]
    },
    {
     "name": "stderr",
     "output_type": "stream",
     "text": [
      "Epoch 1955: 3batch [00:00, 28.85batch/s, loss=7e+4]   "
     ]
    },
    {
     "name": "stdout",
     "output_type": "stream",
     "text": [
      "epoch 1954: avg test  loss 73314.36, bar  test loss 90.356, len  test loss 1.828, col  test loss 58.599\n"
     ]
    },
    {
     "name": "stderr",
     "output_type": "stream",
     "text": [
      "Epoch 1955: 272batch [00:08, 31.00batch/s, loss=7.15e+4]\n"
     ]
    },
    {
     "name": "stdout",
     "output_type": "stream",
     "text": [
      "epoch 1955: avg train loss 72855.56, bar train loss 209.639, len train loss 4.263, col train loss 135.133\n",
      "epoch 1955: avg test  loss 73290.16, bar  test loss 90.165, len  test loss 1.830, col  test loss 58.472\n"
     ]
    },
    {
     "name": "stderr",
     "output_type": "stream",
     "text": [
      "Epoch 1956: 272batch [00:08, 30.84batch/s, loss=7.77e+4]\n"
     ]
    },
    {
     "name": "stdout",
     "output_type": "stream",
     "text": [
      "epoch 1956: avg train loss 72849.68, bar train loss 209.658, len train loss 4.265, col train loss 135.114\n"
     ]
    },
    {
     "name": "stderr",
     "output_type": "stream",
     "text": [
      "Epoch 1957: 3batch [00:00, 29.13batch/s, loss=7.31e+4]"
     ]
    },
    {
     "name": "stdout",
     "output_type": "stream",
     "text": [
      "epoch 1956: avg test  loss 73294.12, bar  test loss 90.311, len  test loss 1.830, col  test loss 58.470\n"
     ]
    },
    {
     "name": "stderr",
     "output_type": "stream",
     "text": [
      "Epoch 1957: 272batch [00:08, 31.15batch/s, loss=6.7e+4] \n"
     ]
    },
    {
     "name": "stdout",
     "output_type": "stream",
     "text": [
      "epoch 1957: avg train loss 72853.21, bar train loss 209.625, len train loss 4.264, col train loss 135.110\n"
     ]
    },
    {
     "name": "stderr",
     "output_type": "stream",
     "text": [
      "Epoch 1958: 3batch [00:00, 28.85batch/s, loss=7.17e+4]"
     ]
    },
    {
     "name": "stdout",
     "output_type": "stream",
     "text": [
      "epoch 1957: avg test  loss 73253.02, bar  test loss 90.282, len  test loss 1.826, col  test loss 58.449\n"
     ]
    },
    {
     "name": "stderr",
     "output_type": "stream",
     "text": [
      "Epoch 1958: 272batch [00:08, 31.12batch/s, loss=7.74e+4]\n"
     ]
    },
    {
     "name": "stdout",
     "output_type": "stream",
     "text": [
      "epoch 1958: avg train loss 72858.77, bar train loss 209.667, len train loss 4.264, col train loss 135.134\n"
     ]
    },
    {
     "name": "stderr",
     "output_type": "stream",
     "text": [
      "Epoch 1959: 4batch [00:00, 30.08batch/s, loss=7.54e+4]"
     ]
    },
    {
     "name": "stdout",
     "output_type": "stream",
     "text": [
      "epoch 1958: avg test  loss 73254.10, bar  test loss 90.207, len  test loss 1.829, col  test loss 58.462\n"
     ]
    },
    {
     "name": "stderr",
     "output_type": "stream",
     "text": [
      "Epoch 1959: 272batch [00:08, 31.13batch/s, loss=8.03e+4]\n"
     ]
    },
    {
     "name": "stdout",
     "output_type": "stream",
     "text": [
      "epoch 1959: avg train loss 72844.77, bar train loss 209.602, len train loss 4.265, col train loss 135.081\n"
     ]
    },
    {
     "name": "stderr",
     "output_type": "stream",
     "text": [
      "Epoch 1960: 3batch [00:00, 28.57batch/s, loss=7.27e+4]"
     ]
    },
    {
     "name": "stdout",
     "output_type": "stream",
     "text": [
      "epoch 1959: avg test  loss 73237.40, bar  test loss 90.175, len  test loss 1.832, col  test loss 58.400\n"
     ]
    },
    {
     "name": "stderr",
     "output_type": "stream",
     "text": [
      "Epoch 1960: 272batch [00:09, 30.14batch/s, loss=7.5e+4] \n"
     ]
    },
    {
     "name": "stdout",
     "output_type": "stream",
     "text": [
      "epoch 1960: avg train loss 72853.35, bar train loss 209.649, len train loss 4.264, col train loss 135.112\n",
      "epoch 1960: avg test  loss 73252.12, bar  test loss 90.131, len  test loss 1.823, col  test loss 58.347\n"
     ]
    },
    {
     "name": "stderr",
     "output_type": "stream",
     "text": [
      "Epoch 1961: 272batch [00:08, 30.29batch/s, loss=6.91e+4]\n"
     ]
    },
    {
     "name": "stdout",
     "output_type": "stream",
     "text": [
      "epoch 1961: avg train loss 72852.70, bar train loss 209.624, len train loss 4.263, col train loss 135.146\n"
     ]
    },
    {
     "name": "stderr",
     "output_type": "stream",
     "text": [
      "Epoch 1962: 3batch [00:00, 29.41batch/s, loss=6.98e+4]"
     ]
    },
    {
     "name": "stdout",
     "output_type": "stream",
     "text": [
      "epoch 1961: avg test  loss 73275.86, bar  test loss 90.329, len  test loss 1.835, col  test loss 58.521\n"
     ]
    },
    {
     "name": "stderr",
     "output_type": "stream",
     "text": [
      "Epoch 1962: 272batch [00:08, 31.00batch/s, loss=7.5e+4] \n"
     ]
    },
    {
     "name": "stdout",
     "output_type": "stream",
     "text": [
      "epoch 1962: avg train loss 72849.80, bar train loss 209.616, len train loss 4.264, col train loss 135.104\n"
     ]
    },
    {
     "name": "stderr",
     "output_type": "stream",
     "text": [
      "Epoch 1963: 3batch [00:00, 29.70batch/s, loss=7.26e+4]"
     ]
    },
    {
     "name": "stdout",
     "output_type": "stream",
     "text": [
      "epoch 1962: avg test  loss 73240.45, bar  test loss 90.057, len  test loss 1.828, col  test loss 58.255\n"
     ]
    },
    {
     "name": "stderr",
     "output_type": "stream",
     "text": [
      "Epoch 1963: 272batch [00:08, 31.15batch/s, loss=7.63e+4]\n"
     ]
    },
    {
     "name": "stdout",
     "output_type": "stream",
     "text": [
      "epoch 1963: avg train loss 72855.73, bar train loss 209.620, len train loss 4.264, col train loss 135.113\n"
     ]
    },
    {
     "name": "stderr",
     "output_type": "stream",
     "text": [
      "Epoch 1964: 3batch [00:00, 29.70batch/s, loss=7.21e+4]"
     ]
    },
    {
     "name": "stdout",
     "output_type": "stream",
     "text": [
      "epoch 1963: avg test  loss 73280.56, bar  test loss 90.164, len  test loss 1.833, col  test loss 58.424\n"
     ]
    },
    {
     "name": "stderr",
     "output_type": "stream",
     "text": [
      "Epoch 1964: 272batch [00:08, 31.28batch/s, loss=7.11e+4]\n"
     ]
    },
    {
     "name": "stdout",
     "output_type": "stream",
     "text": [
      "epoch 1964: avg train loss 72842.95, bar train loss 209.560, len train loss 4.268, col train loss 135.055\n"
     ]
    },
    {
     "name": "stderr",
     "output_type": "stream",
     "text": [
      "Epoch 1965: 3batch [00:00, 28.57batch/s, loss=7.08e+4]"
     ]
    },
    {
     "name": "stdout",
     "output_type": "stream",
     "text": [
      "epoch 1964: avg test  loss 73286.15, bar  test loss 90.339, len  test loss 1.830, col  test loss 58.423\n"
     ]
    },
    {
     "name": "stderr",
     "output_type": "stream",
     "text": [
      "Epoch 1965: 272batch [00:08, 31.06batch/s, loss=74233.0]\n"
     ]
    },
    {
     "name": "stdout",
     "output_type": "stream",
     "text": [
      "epoch 1965: avg train loss 72849.81, bar train loss 209.593, len train loss 4.264, col train loss 135.116\n",
      "epoch 1965: avg test  loss 73306.02, bar  test loss 90.122, len  test loss 1.826, col  test loss 58.177\n"
     ]
    },
    {
     "name": "stderr",
     "output_type": "stream",
     "text": [
      "Epoch 1966: 272batch [00:08, 30.88batch/s, loss=7.16e+4]\n"
     ]
    },
    {
     "name": "stdout",
     "output_type": "stream",
     "text": [
      "epoch 1966: avg train loss 72859.88, bar train loss 209.631, len train loss 4.267, col train loss 135.081\n"
     ]
    },
    {
     "name": "stderr",
     "output_type": "stream",
     "text": [
      "Epoch 1967: 3batch [00:00, 29.41batch/s, loss=7.38e+4]"
     ]
    },
    {
     "name": "stdout",
     "output_type": "stream",
     "text": [
      "epoch 1966: avg test  loss 73274.49, bar  test loss 90.232, len  test loss 1.831, col  test loss 58.558\n"
     ]
    },
    {
     "name": "stderr",
     "output_type": "stream",
     "text": [
      "Epoch 1967: 272batch [00:08, 31.02batch/s, loss=8.04e+4]\n"
     ]
    },
    {
     "name": "stdout",
     "output_type": "stream",
     "text": [
      "epoch 1967: avg train loss 72845.67, bar train loss 209.580, len train loss 4.267, col train loss 135.098\n"
     ]
    },
    {
     "name": "stderr",
     "output_type": "stream",
     "text": [
      "Epoch 1968: 3batch [00:00, 29.13batch/s, loss=7.05e+4]"
     ]
    },
    {
     "name": "stdout",
     "output_type": "stream",
     "text": [
      "epoch 1967: avg test  loss 73277.09, bar  test loss 90.256, len  test loss 1.832, col  test loss 58.563\n"
     ]
    },
    {
     "name": "stderr",
     "output_type": "stream",
     "text": [
      "Epoch 1968: 272batch [00:08, 30.95batch/s, loss=7.27e+4]\n"
     ]
    },
    {
     "name": "stdout",
     "output_type": "stream",
     "text": [
      "epoch 1968: avg train loss 72850.09, bar train loss 209.632, len train loss 4.263, col train loss 135.134\n"
     ]
    },
    {
     "name": "stderr",
     "output_type": "stream",
     "text": [
      "Epoch 1969: 3batch [00:00, 28.57batch/s, loss=7.12e+4]"
     ]
    },
    {
     "name": "stdout",
     "output_type": "stream",
     "text": [
      "epoch 1968: avg test  loss 73264.63, bar  test loss 90.369, len  test loss 1.831, col  test loss 58.542\n"
     ]
    },
    {
     "name": "stderr",
     "output_type": "stream",
     "text": [
      "Epoch 1969: 272batch [00:08, 30.78batch/s, loss=6.92e+4]\n"
     ]
    },
    {
     "name": "stdout",
     "output_type": "stream",
     "text": [
      "epoch 1969: avg train loss 72846.18, bar train loss 209.605, len train loss 4.264, col train loss 135.123\n"
     ]
    },
    {
     "name": "stderr",
     "output_type": "stream",
     "text": [
      "Epoch 1970: 4batch [00:00, 30.08batch/s, loss=7e+4]   "
     ]
    },
    {
     "name": "stdout",
     "output_type": "stream",
     "text": [
      "epoch 1969: avg test  loss 73270.88, bar  test loss 90.198, len  test loss 1.829, col  test loss 58.320\n"
     ]
    },
    {
     "name": "stderr",
     "output_type": "stream",
     "text": [
      "Epoch 1970: 272batch [00:08, 30.91batch/s, loss=7.38e+4]\n"
     ]
    },
    {
     "name": "stdout",
     "output_type": "stream",
     "text": [
      "epoch 1970: avg train loss 72842.33, bar train loss 209.591, len train loss 4.264, col train loss 135.072\n",
      "epoch 1970: avg test  loss 73233.64, bar  test loss 90.190, len  test loss 1.829, col  test loss 58.306\n"
     ]
    },
    {
     "name": "stderr",
     "output_type": "stream",
     "text": [
      "Epoch 1971: 272batch [00:08, 30.75batch/s, loss=7.58e+4]\n"
     ]
    },
    {
     "name": "stdout",
     "output_type": "stream",
     "text": [
      "epoch 1971: avg train loss 72855.39, bar train loss 209.634, len train loss 4.265, col train loss 135.124\n"
     ]
    },
    {
     "name": "stderr",
     "output_type": "stream",
     "text": [
      "Epoch 1972: 3batch [00:00, 29.70batch/s, loss=7.32e+4]"
     ]
    },
    {
     "name": "stdout",
     "output_type": "stream",
     "text": [
      "epoch 1971: avg test  loss 73268.86, bar  test loss 90.236, len  test loss 1.833, col  test loss 58.416\n"
     ]
    },
    {
     "name": "stderr",
     "output_type": "stream",
     "text": [
      "Epoch 1972: 272batch [00:08, 30.94batch/s, loss=7.61e+4]\n"
     ]
    },
    {
     "name": "stdout",
     "output_type": "stream",
     "text": [
      "epoch 1972: avg train loss 72863.12, bar train loss 209.644, len train loss 4.261, col train loss 135.143\n"
     ]
    },
    {
     "name": "stderr",
     "output_type": "stream",
     "text": [
      "Epoch 1973: 4batch [00:00, 30.77batch/s, loss=7.27e+4]"
     ]
    },
    {
     "name": "stdout",
     "output_type": "stream",
     "text": [
      "epoch 1972: avg test  loss 73314.42, bar  test loss 90.333, len  test loss 1.835, col  test loss 58.541\n"
     ]
    },
    {
     "name": "stderr",
     "output_type": "stream",
     "text": [
      "Epoch 1973: 272batch [00:08, 30.72batch/s, loss=6.75e+4]\n"
     ]
    },
    {
     "name": "stdout",
     "output_type": "stream",
     "text": [
      "epoch 1973: avg train loss 72844.12, bar train loss 209.602, len train loss 4.265, col train loss 135.065\n"
     ]
    },
    {
     "name": "stderr",
     "output_type": "stream",
     "text": [
      "Epoch 1974: 3batch [00:00, 29.41batch/s, loss=7.39e+4]"
     ]
    },
    {
     "name": "stdout",
     "output_type": "stream",
     "text": [
      "epoch 1973: avg test  loss 73272.84, bar  test loss 90.221, len  test loss 1.835, col  test loss 58.429\n"
     ]
    },
    {
     "name": "stderr",
     "output_type": "stream",
     "text": [
      "Epoch 1974: 272batch [00:08, 30.86batch/s, loss=8.17e+4]\n"
     ]
    },
    {
     "name": "stdout",
     "output_type": "stream",
     "text": [
      "epoch 1974: avg train loss 72855.21, bar train loss 209.640, len train loss 4.266, col train loss 135.140\n"
     ]
    },
    {
     "name": "stderr",
     "output_type": "stream",
     "text": [
      "Epoch 1975: 4batch [00:00, 29.63batch/s, loss=7.68e+4]"
     ]
    },
    {
     "name": "stdout",
     "output_type": "stream",
     "text": [
      "epoch 1974: avg test  loss 73250.08, bar  test loss 90.114, len  test loss 1.828, col  test loss 58.276\n"
     ]
    },
    {
     "name": "stderr",
     "output_type": "stream",
     "text": [
      "Epoch 1975: 272batch [00:08, 31.00batch/s, loss=7.05e+4]\n"
     ]
    },
    {
     "name": "stdout",
     "output_type": "stream",
     "text": [
      "epoch 1975: avg train loss 72840.60, bar train loss 209.595, len train loss 4.267, col train loss 135.070\n",
      "epoch 1975: avg test  loss 73269.86, bar  test loss 90.208, len  test loss 1.829, col  test loss 58.515\n"
     ]
    },
    {
     "name": "stderr",
     "output_type": "stream",
     "text": [
      "Epoch 1976: 272batch [00:08, 30.70batch/s, loss=7.05e+4]\n"
     ]
    },
    {
     "name": "stdout",
     "output_type": "stream",
     "text": [
      "epoch 1976: avg train loss 72842.51, bar train loss 209.612, len train loss 4.262, col train loss 135.110\n"
     ]
    },
    {
     "name": "stderr",
     "output_type": "stream",
     "text": [
      "Epoch 1977: 3batch [00:00, 28.85batch/s, loss=7.19e+4]"
     ]
    },
    {
     "name": "stdout",
     "output_type": "stream",
     "text": [
      "epoch 1976: avg test  loss 73275.34, bar  test loss 90.216, len  test loss 1.829, col  test loss 58.397\n"
     ]
    },
    {
     "name": "stderr",
     "output_type": "stream",
     "text": [
      "Epoch 1977: 272batch [00:08, 30.79batch/s, loss=7.03e+4]\n"
     ]
    },
    {
     "name": "stdout",
     "output_type": "stream",
     "text": [
      "epoch 1977: avg train loss 72839.10, bar train loss 209.597, len train loss 4.263, col train loss 135.063\n"
     ]
    },
    {
     "name": "stderr",
     "output_type": "stream",
     "text": [
      "Epoch 1978: 3batch [00:00, 29.70batch/s, loss=7.12e+4]"
     ]
    },
    {
     "name": "stdout",
     "output_type": "stream",
     "text": [
      "epoch 1977: avg test  loss 73274.55, bar  test loss 90.113, len  test loss 1.829, col  test loss 58.205\n"
     ]
    },
    {
     "name": "stderr",
     "output_type": "stream",
     "text": [
      "Epoch 1978: 272batch [00:08, 30.90batch/s, loss=8.26e+4]\n"
     ]
    },
    {
     "name": "stdout",
     "output_type": "stream",
     "text": [
      "epoch 1978: avg train loss 72846.46, bar train loss 209.589, len train loss 4.267, col train loss 135.106\n"
     ]
    },
    {
     "name": "stderr",
     "output_type": "stream",
     "text": [
      "Epoch 1979: 3batch [00:00, 29.70batch/s, loss=7.67e+4]"
     ]
    },
    {
     "name": "stdout",
     "output_type": "stream",
     "text": [
      "epoch 1978: avg test  loss 73276.59, bar  test loss 90.142, len  test loss 1.826, col  test loss 58.421\n"
     ]
    },
    {
     "name": "stderr",
     "output_type": "stream",
     "text": [
      "Epoch 1979: 272batch [00:08, 30.74batch/s, loss=7.19e+4]\n"
     ]
    },
    {
     "name": "stdout",
     "output_type": "stream",
     "text": [
      "epoch 1979: avg train loss 72842.89, bar train loss 209.598, len train loss 4.264, col train loss 135.078\n"
     ]
    },
    {
     "name": "stderr",
     "output_type": "stream",
     "text": [
      "Epoch 1980: 4batch [00:00, 30.54batch/s, loss=7.24e+4]"
     ]
    },
    {
     "name": "stdout",
     "output_type": "stream",
     "text": [
      "epoch 1979: avg test  loss 73285.50, bar  test loss 90.014, len  test loss 1.829, col  test loss 58.384\n"
     ]
    },
    {
     "name": "stderr",
     "output_type": "stream",
     "text": [
      "Epoch 1980: 272batch [00:08, 30.75batch/s, loss=7.47e+4]\n"
     ]
    },
    {
     "name": "stdout",
     "output_type": "stream",
     "text": [
      "epoch 1980: avg train loss 72843.19, bar train loss 209.610, len train loss 4.266, col train loss 135.108\n",
      "epoch 1980: avg test  loss 73284.89, bar  test loss 90.154, len  test loss 1.833, col  test loss 58.289\n"
     ]
    },
    {
     "name": "stderr",
     "output_type": "stream",
     "text": [
      "Epoch 1981: 272batch [00:08, 30.74batch/s, loss=7.02e+4]\n"
     ]
    },
    {
     "name": "stdout",
     "output_type": "stream",
     "text": [
      "epoch 1981: avg train loss 72860.23, bar train loss 209.639, len train loss 4.270, col train loss 135.147\n"
     ]
    },
    {
     "name": "stderr",
     "output_type": "stream",
     "text": [
      "Epoch 1982: 3batch [00:00, 29.70batch/s, loss=7.73e+4]"
     ]
    },
    {
     "name": "stdout",
     "output_type": "stream",
     "text": [
      "epoch 1981: avg test  loss 73285.91, bar  test loss 90.184, len  test loss 1.832, col  test loss 58.367\n"
     ]
    },
    {
     "name": "stderr",
     "output_type": "stream",
     "text": [
      "Epoch 1982: 272batch [00:08, 30.81batch/s, loss=7.25e+4]\n"
     ]
    },
    {
     "name": "stdout",
     "output_type": "stream",
     "text": [
      "epoch 1982: avg train loss 72854.50, bar train loss 209.619, len train loss 4.265, col train loss 135.111\n"
     ]
    },
    {
     "name": "stderr",
     "output_type": "stream",
     "text": [
      "Epoch 1983: 3batch [00:00, 28.30batch/s, loss=7.63e+4]"
     ]
    },
    {
     "name": "stdout",
     "output_type": "stream",
     "text": [
      "epoch 1982: avg test  loss 73255.15, bar  test loss 90.313, len  test loss 1.827, col  test loss 58.508\n"
     ]
    },
    {
     "name": "stderr",
     "output_type": "stream",
     "text": [
      "Epoch 1983: 272batch [00:08, 30.75batch/s, loss=7.12e+4]\n"
     ]
    },
    {
     "name": "stdout",
     "output_type": "stream",
     "text": [
      "epoch 1983: avg train loss 72844.68, bar train loss 209.585, len train loss 4.264, col train loss 135.105\n"
     ]
    },
    {
     "name": "stderr",
     "output_type": "stream",
     "text": [
      "Epoch 1984: 3batch [00:00, 29.70batch/s, loss=7.07e+4]"
     ]
    },
    {
     "name": "stdout",
     "output_type": "stream",
     "text": [
      "epoch 1983: avg test  loss 73274.86, bar  test loss 90.038, len  test loss 1.826, col  test loss 58.260\n"
     ]
    },
    {
     "name": "stderr",
     "output_type": "stream",
     "text": [
      "Epoch 1984: 272batch [00:08, 30.66batch/s, loss=7.02e+4]\n"
     ]
    },
    {
     "name": "stdout",
     "output_type": "stream",
     "text": [
      "epoch 1984: avg train loss 72847.83, bar train loss 209.622, len train loss 4.262, col train loss 135.107\n"
     ]
    },
    {
     "name": "stderr",
     "output_type": "stream",
     "text": [
      "Epoch 1985: 3batch [00:00, 28.30batch/s, loss=7.21e+4]"
     ]
    },
    {
     "name": "stdout",
     "output_type": "stream",
     "text": [
      "epoch 1984: avg test  loss 73247.04, bar  test loss 90.144, len  test loss 1.829, col  test loss 58.275\n"
     ]
    },
    {
     "name": "stderr",
     "output_type": "stream",
     "text": [
      "Epoch 1985: 272batch [00:08, 30.69batch/s, loss=7.17e+4]\n"
     ]
    },
    {
     "name": "stdout",
     "output_type": "stream",
     "text": [
      "epoch 1985: avg train loss 72848.27, bar train loss 209.618, len train loss 4.266, col train loss 135.106\n",
      "epoch 1985: avg test  loss 73227.67, bar  test loss 90.260, len  test loss 1.824, col  test loss 58.382\n"
     ]
    },
    {
     "name": "stderr",
     "output_type": "stream",
     "text": [
      "Epoch 1986: 272batch [00:08, 30.58batch/s, loss=7.19e+4]\n"
     ]
    },
    {
     "name": "stdout",
     "output_type": "stream",
     "text": [
      "epoch 1986: avg train loss 72835.91, bar train loss 209.590, len train loss 4.263, col train loss 135.063\n"
     ]
    },
    {
     "name": "stderr",
     "output_type": "stream",
     "text": [
      "Epoch 1987: 3batch [00:00, 29.70batch/s, loss=7.28e+4]"
     ]
    },
    {
     "name": "stdout",
     "output_type": "stream",
     "text": [
      "epoch 1986: avg test  loss 73302.14, bar  test loss 90.153, len  test loss 1.827, col  test loss 58.268\n"
     ]
    },
    {
     "name": "stderr",
     "output_type": "stream",
     "text": [
      "Epoch 1987: 272batch [00:08, 30.80batch/s, loss=7.03e+4]\n"
     ]
    },
    {
     "name": "stdout",
     "output_type": "stream",
     "text": [
      "epoch 1987: avg train loss 72842.79, bar train loss 209.582, len train loss 4.263, col train loss 135.057\n"
     ]
    },
    {
     "name": "stderr",
     "output_type": "stream",
     "text": [
      "Epoch 1988: 3batch [00:00, 29.41batch/s, loss=7.42e+4]"
     ]
    },
    {
     "name": "stdout",
     "output_type": "stream",
     "text": [
      "epoch 1987: avg test  loss 73229.73, bar  test loss 90.346, len  test loss 1.827, col  test loss 58.520\n"
     ]
    },
    {
     "name": "stderr",
     "output_type": "stream",
     "text": [
      "Epoch 1988: 272batch [00:08, 30.65batch/s, loss=6.78e+4]\n"
     ]
    },
    {
     "name": "stdout",
     "output_type": "stream",
     "text": [
      "epoch 1988: avg train loss 72853.80, bar train loss 209.617, len train loss 4.266, col train loss 135.128\n"
     ]
    },
    {
     "name": "stderr",
     "output_type": "stream",
     "text": [
      "Epoch 1989: 3batch [00:00, 28.85batch/s, loss=7.06e+4]"
     ]
    },
    {
     "name": "stdout",
     "output_type": "stream",
     "text": [
      "epoch 1988: avg test  loss 73279.40, bar  test loss 90.199, len  test loss 1.828, col  test loss 58.346\n"
     ]
    },
    {
     "name": "stderr",
     "output_type": "stream",
     "text": [
      "Epoch 1989: 272batch [00:08, 30.48batch/s, loss=7.03e+4]\n"
     ]
    },
    {
     "name": "stdout",
     "output_type": "stream",
     "text": [
      "epoch 1989: avg train loss 72844.50, bar train loss 209.594, len train loss 4.265, col train loss 135.073\n"
     ]
    },
    {
     "name": "stderr",
     "output_type": "stream",
     "text": [
      "Epoch 1990: 3batch [00:00, 29.70batch/s, loss=7.27e+4]"
     ]
    },
    {
     "name": "stdout",
     "output_type": "stream",
     "text": [
      "epoch 1989: avg test  loss 73303.06, bar  test loss 90.245, len  test loss 1.828, col  test loss 58.368\n"
     ]
    },
    {
     "name": "stderr",
     "output_type": "stream",
     "text": [
      "Epoch 1990: 272batch [00:08, 30.55batch/s, loss=6.58e+4]\n"
     ]
    },
    {
     "name": "stdout",
     "output_type": "stream",
     "text": [
      "epoch 1990: avg train loss 72833.47, bar train loss 209.573, len train loss 4.264, col train loss 135.067\n",
      "epoch 1990: avg test  loss 73261.23, bar  test loss 90.260, len  test loss 1.833, col  test loss 58.438\n"
     ]
    },
    {
     "name": "stderr",
     "output_type": "stream",
     "text": [
      "Epoch 1991: 272batch [00:08, 30.31batch/s, loss=6.98e+4]\n"
     ]
    },
    {
     "name": "stdout",
     "output_type": "stream",
     "text": [
      "epoch 1991: avg train loss 72842.75, bar train loss 209.571, len train loss 4.265, col train loss 135.062\n"
     ]
    },
    {
     "name": "stderr",
     "output_type": "stream",
     "text": [
      "Epoch 1992: 3batch [00:00, 27.78batch/s, loss=7.39e+4]"
     ]
    },
    {
     "name": "stdout",
     "output_type": "stream",
     "text": [
      "epoch 1991: avg test  loss 73265.77, bar  test loss 90.290, len  test loss 1.825, col  test loss 58.444\n"
     ]
    },
    {
     "name": "stderr",
     "output_type": "stream",
     "text": [
      "Epoch 1992: 272batch [00:08, 30.46batch/s, loss=7.51e+4]\n"
     ]
    },
    {
     "name": "stdout",
     "output_type": "stream",
     "text": [
      "epoch 1992: avg train loss 72845.95, bar train loss 209.601, len train loss 4.265, col train loss 135.078\n"
     ]
    },
    {
     "name": "stderr",
     "output_type": "stream",
     "text": [
      "Epoch 1993: 3batch [00:00, 28.85batch/s, loss=7.15e+4]"
     ]
    },
    {
     "name": "stdout",
     "output_type": "stream",
     "text": [
      "epoch 1992: avg test  loss 73271.50, bar  test loss 90.258, len  test loss 1.829, col  test loss 58.483\n"
     ]
    },
    {
     "name": "stderr",
     "output_type": "stream",
     "text": [
      "Epoch 1993: 272batch [00:08, 30.60batch/s, loss=6.38e+4]\n"
     ]
    },
    {
     "name": "stdout",
     "output_type": "stream",
     "text": [
      "epoch 1993: avg train loss 72844.77, bar train loss 209.601, len train loss 4.263, col train loss 135.116\n"
     ]
    },
    {
     "name": "stderr",
     "output_type": "stream",
     "text": [
      "Epoch 1994: 3batch [00:00, 29.13batch/s, loss=7.24e+4]"
     ]
    },
    {
     "name": "stdout",
     "output_type": "stream",
     "text": [
      "epoch 1993: avg test  loss 73294.55, bar  test loss 90.203, len  test loss 1.830, col  test loss 58.484\n"
     ]
    },
    {
     "name": "stderr",
     "output_type": "stream",
     "text": [
      "Epoch 1994: 272batch [00:08, 30.53batch/s, loss=6.89e+4]\n"
     ]
    },
    {
     "name": "stdout",
     "output_type": "stream",
     "text": [
      "epoch 1994: avg train loss 72850.97, bar train loss 209.644, len train loss 4.263, col train loss 135.111\n"
     ]
    },
    {
     "name": "stderr",
     "output_type": "stream",
     "text": [
      "Epoch 1995: 3batch [00:00, 29.13batch/s, loss=7.52e+4]"
     ]
    },
    {
     "name": "stdout",
     "output_type": "stream",
     "text": [
      "epoch 1994: avg test  loss 73271.55, bar  test loss 90.143, len  test loss 1.829, col  test loss 58.347\n"
     ]
    },
    {
     "name": "stderr",
     "output_type": "stream",
     "text": [
      "Epoch 1995: 272batch [00:08, 30.54batch/s, loss=7.3e+4] \n"
     ]
    },
    {
     "name": "stdout",
     "output_type": "stream",
     "text": [
      "epoch 1995: avg train loss 72833.82, bar train loss 209.583, len train loss 4.265, col train loss 135.050\n",
      "epoch 1995: avg test  loss 73265.71, bar  test loss 90.241, len  test loss 1.825, col  test loss 58.388\n"
     ]
    },
    {
     "name": "stderr",
     "output_type": "stream",
     "text": [
      "Epoch 1996: 272batch [00:08, 30.38batch/s, loss=7.19e+4]\n"
     ]
    },
    {
     "name": "stdout",
     "output_type": "stream",
     "text": [
      "epoch 1996: avg train loss 72842.80, bar train loss 209.606, len train loss 4.263, col train loss 135.065\n"
     ]
    },
    {
     "name": "stderr",
     "output_type": "stream",
     "text": [
      "Epoch 1997: 3batch [00:00, 28.85batch/s, loss=6.99e+4]"
     ]
    },
    {
     "name": "stdout",
     "output_type": "stream",
     "text": [
      "epoch 1996: avg test  loss 73303.82, bar  test loss 90.237, len  test loss 1.834, col  test loss 58.366\n"
     ]
    },
    {
     "name": "stderr",
     "output_type": "stream",
     "text": [
      "Epoch 1997: 272batch [00:08, 30.57batch/s, loss=8.15e+4]\n"
     ]
    },
    {
     "name": "stdout",
     "output_type": "stream",
     "text": [
      "epoch 1997: avg train loss 72839.59, bar train loss 209.592, len train loss 4.263, col train loss 135.078\n"
     ]
    },
    {
     "name": "stderr",
     "output_type": "stream",
     "text": [
      "Epoch 1998: 4batch [00:00, 30.53batch/s, loss=7.36e+4]"
     ]
    },
    {
     "name": "stdout",
     "output_type": "stream",
     "text": [
      "epoch 1997: avg test  loss 73242.18, bar  test loss 90.123, len  test loss 1.826, col  test loss 58.353\n"
     ]
    },
    {
     "name": "stderr",
     "output_type": "stream",
     "text": [
      "Epoch 1998: 272batch [00:08, 30.51batch/s, loss=7.4e+4] \n"
     ]
    },
    {
     "name": "stdout",
     "output_type": "stream",
     "text": [
      "epoch 1998: avg train loss 72846.65, bar train loss 209.605, len train loss 4.264, col train loss 135.076\n"
     ]
    },
    {
     "name": "stderr",
     "output_type": "stream",
     "text": [
      "Epoch 1999: 3batch [00:00, 28.85batch/s, loss=7.55e+4]"
     ]
    },
    {
     "name": "stdout",
     "output_type": "stream",
     "text": [
      "epoch 1998: avg test  loss 73255.79, bar  test loss 90.345, len  test loss 1.832, col  test loss 58.408\n"
     ]
    },
    {
     "name": "stderr",
     "output_type": "stream",
     "text": [
      "Epoch 1999: 272batch [00:08, 30.37batch/s, loss=7.52e+4]\n"
     ]
    },
    {
     "name": "stdout",
     "output_type": "stream",
     "text": [
      "epoch 1999: avg train loss 72837.91, bar train loss 209.583, len train loss 4.267, col train loss 135.062\n"
     ]
    },
    {
     "name": "stderr",
     "output_type": "stream",
     "text": [
      "Epoch 2000: 3batch [00:00, 26.55batch/s, loss=7.35e+4]"
     ]
    },
    {
     "name": "stdout",
     "output_type": "stream",
     "text": [
      "epoch 1999: avg test  loss 73262.44, bar  test loss 90.263, len  test loss 1.825, col  test loss 58.333\n"
     ]
    },
    {
     "name": "stderr",
     "output_type": "stream",
     "text": [
      "Epoch 2000: 272batch [00:09, 29.96batch/s, loss=7.46e+4]\n"
     ]
    },
    {
     "name": "stdout",
     "output_type": "stream",
     "text": [
      "epoch 2000: avg train loss 72836.16, bar train loss 209.594, len train loss 4.264, col train loss 135.077\n",
      "epoch 2000: avg test  loss 73293.62, bar  test loss 90.309, len  test loss 1.828, col  test loss 58.392\n"
     ]
    },
    {
     "name": "stderr",
     "output_type": "stream",
     "text": [
      "Epoch 2001: 272batch [00:08, 30.43batch/s, loss=6.93e+4]\n"
     ]
    },
    {
     "name": "stdout",
     "output_type": "stream",
     "text": [
      "epoch 2001: avg train loss 72841.19, bar train loss 209.616, len train loss 4.262, col train loss 135.075\n"
     ]
    },
    {
     "name": "stderr",
     "output_type": "stream",
     "text": [
      "Epoch 2002: 3batch [00:00, 28.85batch/s, loss=7.47e+4]"
     ]
    },
    {
     "name": "stdout",
     "output_type": "stream",
     "text": [
      "epoch 2001: avg test  loss 73287.00, bar  test loss 90.263, len  test loss 1.827, col  test loss 58.448\n"
     ]
    },
    {
     "name": "stderr",
     "output_type": "stream",
     "text": [
      "Epoch 2002: 272batch [00:08, 30.41batch/s, loss=7.3e+4] \n"
     ]
    },
    {
     "name": "stdout",
     "output_type": "stream",
     "text": [
      "epoch 2002: avg train loss 72841.58, bar train loss 209.598, len train loss 4.263, col train loss 135.044\n"
     ]
    },
    {
     "name": "stderr",
     "output_type": "stream",
     "text": [
      "Epoch 2003: 3batch [00:00, 29.13batch/s, loss=7.21e+4]"
     ]
    },
    {
     "name": "stdout",
     "output_type": "stream",
     "text": [
      "epoch 2002: avg test  loss 73257.74, bar  test loss 90.390, len  test loss 1.837, col  test loss 58.464\n"
     ]
    },
    {
     "name": "stderr",
     "output_type": "stream",
     "text": [
      "Epoch 2003: 272batch [00:08, 30.35batch/s, loss=7.44e+4]\n"
     ]
    },
    {
     "name": "stdout",
     "output_type": "stream",
     "text": [
      "epoch 2003: avg train loss 72841.01, bar train loss 209.581, len train loss 4.265, col train loss 135.073\n"
     ]
    },
    {
     "name": "stderr",
     "output_type": "stream",
     "text": [
      "Epoch 2004: 3batch [00:00, 27.27batch/s, loss=7.24e+4]"
     ]
    },
    {
     "name": "stdout",
     "output_type": "stream",
     "text": [
      "epoch 2003: avg test  loss 73251.38, bar  test loss 90.187, len  test loss 1.833, col  test loss 58.402\n"
     ]
    },
    {
     "name": "stderr",
     "output_type": "stream",
     "text": [
      "Epoch 2004: 272batch [00:08, 30.26batch/s, loss=6.4e+4] \n"
     ]
    },
    {
     "name": "stdout",
     "output_type": "stream",
     "text": [
      "epoch 2004: avg train loss 72841.59, bar train loss 209.595, len train loss 4.265, col train loss 135.079\n"
     ]
    },
    {
     "name": "stderr",
     "output_type": "stream",
     "text": [
      "Epoch 2005: 3batch [00:00, 28.30batch/s, loss=7.55e+4]"
     ]
    },
    {
     "name": "stdout",
     "output_type": "stream",
     "text": [
      "epoch 2004: avg test  loss 73255.81, bar  test loss 90.114, len  test loss 1.828, col  test loss 58.249\n"
     ]
    },
    {
     "name": "stderr",
     "output_type": "stream",
     "text": [
      "Epoch 2005: 272batch [00:08, 30.39batch/s, loss=7.12e+4]\n"
     ]
    },
    {
     "name": "stdout",
     "output_type": "stream",
     "text": [
      "epoch 2005: avg train loss 72844.32, bar train loss 209.613, len train loss 4.264, col train loss 135.058\n",
      "epoch 2005: avg test  loss 73260.79, bar  test loss 90.140, len  test loss 1.825, col  test loss 58.283\n"
     ]
    },
    {
     "name": "stderr",
     "output_type": "stream",
     "text": [
      "Epoch 2006: 272batch [00:08, 30.39batch/s, loss=7.28e+4]\n"
     ]
    },
    {
     "name": "stdout",
     "output_type": "stream",
     "text": [
      "epoch 2006: avg train loss 72834.70, bar train loss 209.583, len train loss 4.260, col train loss 135.056\n"
     ]
    },
    {
     "name": "stderr",
     "output_type": "stream",
     "text": [
      "Epoch 2007: 3batch [00:00, 28.57batch/s, loss=7.54e+4]"
     ]
    },
    {
     "name": "stdout",
     "output_type": "stream",
     "text": [
      "epoch 2006: avg test  loss 73294.70, bar  test loss 90.253, len  test loss 1.836, col  test loss 58.469\n"
     ]
    },
    {
     "name": "stderr",
     "output_type": "stream",
     "text": [
      "Epoch 2007: 272batch [00:08, 30.29batch/s, loss=7.52e+4]\n"
     ]
    },
    {
     "name": "stdout",
     "output_type": "stream",
     "text": [
      "epoch 2007: avg train loss 72839.05, bar train loss 209.562, len train loss 4.266, col train loss 135.038\n"
     ]
    },
    {
     "name": "stderr",
     "output_type": "stream",
     "text": [
      "Epoch 2008: 3batch [00:00, 28.04batch/s, loss=7.63e+4]"
     ]
    },
    {
     "name": "stdout",
     "output_type": "stream",
     "text": [
      "epoch 2007: avg test  loss 73272.49, bar  test loss 90.239, len  test loss 1.830, col  test loss 58.387\n"
     ]
    },
    {
     "name": "stderr",
     "output_type": "stream",
     "text": [
      "Epoch 2008: 272batch [00:08, 30.31batch/s, loss=7.38e+4]\n"
     ]
    },
    {
     "name": "stdout",
     "output_type": "stream",
     "text": [
      "epoch 2008: avg train loss 72846.57, bar train loss 209.613, len train loss 4.264, col train loss 135.054\n"
     ]
    },
    {
     "name": "stderr",
     "output_type": "stream",
     "text": [
      "Epoch 2009: 3batch [00:00, 28.57batch/s, loss=7.13e+4]"
     ]
    },
    {
     "name": "stdout",
     "output_type": "stream",
     "text": [
      "epoch 2008: avg test  loss 73252.49, bar  test loss 90.324, len  test loss 1.828, col  test loss 58.466\n"
     ]
    },
    {
     "name": "stderr",
     "output_type": "stream",
     "text": [
      "Epoch 2009: 272batch [00:09, 29.78batch/s, loss=7.89e+4]\n"
     ]
    },
    {
     "name": "stdout",
     "output_type": "stream",
     "text": [
      "epoch 2009: avg train loss 72837.50, bar train loss 209.571, len train loss 4.262, col train loss 135.068\n"
     ]
    },
    {
     "name": "stderr",
     "output_type": "stream",
     "text": [
      "Epoch 2010: 3batch [00:00, 23.44batch/s, loss=7.11e+4]"
     ]
    },
    {
     "name": "stdout",
     "output_type": "stream",
     "text": [
      "epoch 2009: avg test  loss 73264.32, bar  test loss 90.286, len  test loss 1.829, col  test loss 58.481\n"
     ]
    },
    {
     "name": "stderr",
     "output_type": "stream",
     "text": [
      "Epoch 2010: 272batch [00:09, 30.14batch/s, loss=7.31e+4]\n"
     ]
    },
    {
     "name": "stdout",
     "output_type": "stream",
     "text": [
      "epoch 2010: avg train loss 72838.64, bar train loss 209.563, len train loss 4.264, col train loss 135.064\n",
      "epoch 2010: avg test  loss 73237.39, bar  test loss 90.320, len  test loss 1.835, col  test loss 58.511\n"
     ]
    },
    {
     "name": "stderr",
     "output_type": "stream",
     "text": [
      "Epoch 2011: 272batch [00:08, 30.47batch/s, loss=6.94e+4]\n"
     ]
    },
    {
     "name": "stdout",
     "output_type": "stream",
     "text": [
      "epoch 2011: avg train loss 72836.87, bar train loss 209.589, len train loss 4.265, col train loss 135.067\n"
     ]
    },
    {
     "name": "stderr",
     "output_type": "stream",
     "text": [
      "Epoch 2012: 3batch [00:00, 29.41batch/s, loss=7.1e+4] "
     ]
    },
    {
     "name": "stdout",
     "output_type": "stream",
     "text": [
      "epoch 2011: avg test  loss 73291.23, bar  test loss 90.255, len  test loss 1.832, col  test loss 58.428\n"
     ]
    },
    {
     "name": "stderr",
     "output_type": "stream",
     "text": [
      "Epoch 2012: 272batch [00:08, 30.48batch/s, loss=8.05e+4]\n"
     ]
    },
    {
     "name": "stdout",
     "output_type": "stream",
     "text": [
      "epoch 2012: avg train loss 72835.32, bar train loss 209.587, len train loss 4.262, col train loss 135.079\n"
     ]
    },
    {
     "name": "stderr",
     "output_type": "stream",
     "text": [
      "Epoch 2013: 3batch [00:00, 27.27batch/s, loss=7.32e+4]"
     ]
    },
    {
     "name": "stdout",
     "output_type": "stream",
     "text": [
      "epoch 2012: avg test  loss 73248.14, bar  test loss 90.291, len  test loss 1.836, col  test loss 58.605\n"
     ]
    },
    {
     "name": "stderr",
     "output_type": "stream",
     "text": [
      "Epoch 2013: 272batch [00:08, 30.51batch/s, loss=7.55e+4]\n"
     ]
    },
    {
     "name": "stdout",
     "output_type": "stream",
     "text": [
      "epoch 2013: avg train loss 72835.82, bar train loss 209.572, len train loss 4.267, col train loss 135.048\n"
     ]
    },
    {
     "name": "stderr",
     "output_type": "stream",
     "text": [
      "Epoch 2014: 3batch [00:00, 28.04batch/s, loss=7.33e+4]"
     ]
    },
    {
     "name": "stdout",
     "output_type": "stream",
     "text": [
      "epoch 2013: avg test  loss 73241.80, bar  test loss 90.235, len  test loss 1.829, col  test loss 58.453\n"
     ]
    },
    {
     "name": "stderr",
     "output_type": "stream",
     "text": [
      "Epoch 2014: 272batch [00:08, 30.33batch/s, loss=6.87e+4]\n"
     ]
    },
    {
     "name": "stdout",
     "output_type": "stream",
     "text": [
      "epoch 2014: avg train loss 72835.59, bar train loss 209.549, len train loss 4.265, col train loss 135.032\n"
     ]
    },
    {
     "name": "stderr",
     "output_type": "stream",
     "text": [
      "Epoch 2015: 3batch [00:00, 27.03batch/s, loss=7.22e+4]"
     ]
    },
    {
     "name": "stdout",
     "output_type": "stream",
     "text": [
      "epoch 2014: avg test  loss 73300.04, bar  test loss 90.154, len  test loss 1.826, col  test loss 58.421\n"
     ]
    },
    {
     "name": "stderr",
     "output_type": "stream",
     "text": [
      "Epoch 2015: 272batch [00:09, 30.01batch/s, loss=7.66e+4]\n"
     ]
    },
    {
     "name": "stdout",
     "output_type": "stream",
     "text": [
      "epoch 2015: avg train loss 72828.65, bar train loss 209.554, len train loss 4.266, col train loss 135.032\n",
      "epoch 2015: avg test  loss 73260.09, bar  test loss 90.236, len  test loss 1.828, col  test loss 58.470\n"
     ]
    },
    {
     "name": "stderr",
     "output_type": "stream",
     "text": [
      "Epoch 2016: 272batch [00:08, 30.36batch/s, loss=7.59e+4]\n"
     ]
    },
    {
     "name": "stdout",
     "output_type": "stream",
     "text": [
      "epoch 2016: avg train loss 72830.91, bar train loss 209.551, len train loss 4.263, col train loss 135.041\n"
     ]
    },
    {
     "name": "stderr",
     "output_type": "stream",
     "text": [
      "Epoch 2017: 3batch [00:00, 28.04batch/s, loss=7.2e+4] "
     ]
    },
    {
     "name": "stdout",
     "output_type": "stream",
     "text": [
      "epoch 2016: avg test  loss 73235.98, bar  test loss 90.205, len  test loss 1.827, col  test loss 58.295\n"
     ]
    },
    {
     "name": "stderr",
     "output_type": "stream",
     "text": [
      "Epoch 2017: 272batch [00:09, 29.79batch/s, loss=7.06e+4]\n"
     ]
    },
    {
     "name": "stdout",
     "output_type": "stream",
     "text": [
      "epoch 2017: avg train loss 72827.48, bar train loss 209.567, len train loss 4.262, col train loss 135.037\n"
     ]
    },
    {
     "name": "stderr",
     "output_type": "stream",
     "text": [
      "Epoch 2018: 3batch [00:00, 27.52batch/s, loss=7.22e+4]"
     ]
    },
    {
     "name": "stdout",
     "output_type": "stream",
     "text": [
      "epoch 2017: avg test  loss 73256.70, bar  test loss 90.222, len  test loss 1.829, col  test loss 58.538\n"
     ]
    },
    {
     "name": "stderr",
     "output_type": "stream",
     "text": [
      "Epoch 2018: 272batch [00:09, 29.80batch/s, loss=6.9e+4] \n"
     ]
    },
    {
     "name": "stdout",
     "output_type": "stream",
     "text": [
      "epoch 2018: avg train loss 72842.30, bar train loss 209.592, len train loss 4.265, col train loss 135.052\n"
     ]
    },
    {
     "name": "stderr",
     "output_type": "stream",
     "text": [
      "Epoch 2019: 3batch [00:00, 27.03batch/s, loss=6.93e+4]"
     ]
    },
    {
     "name": "stdout",
     "output_type": "stream",
     "text": [
      "epoch 2018: avg test  loss 73344.41, bar  test loss 90.298, len  test loss 1.827, col  test loss 58.385\n"
     ]
    },
    {
     "name": "stderr",
     "output_type": "stream",
     "text": [
      "Epoch 2019: 272batch [00:09, 29.85batch/s, loss=6.25e+4]\n"
     ]
    },
    {
     "name": "stdout",
     "output_type": "stream",
     "text": [
      "epoch 2019: avg train loss 72845.71, bar train loss 209.598, len train loss 4.261, col train loss 135.088\n"
     ]
    },
    {
     "name": "stderr",
     "output_type": "stream",
     "text": [
      "Epoch 2020: 3batch [00:00, 29.70batch/s, loss=7.27e+4]"
     ]
    },
    {
     "name": "stdout",
     "output_type": "stream",
     "text": [
      "epoch 2019: avg test  loss 73233.48, bar  test loss 90.249, len  test loss 1.828, col  test loss 58.497\n"
     ]
    },
    {
     "name": "stderr",
     "output_type": "stream",
     "text": [
      "Epoch 2020: 272batch [00:09, 29.92batch/s, loss=7.12e+4]\n"
     ]
    },
    {
     "name": "stdout",
     "output_type": "stream",
     "text": [
      "epoch 2020: avg train loss 72828.22, bar train loss 209.578, len train loss 4.265, col train loss 135.040\n",
      "epoch 2020: avg test  loss 73265.76, bar  test loss 90.183, len  test loss 1.834, col  test loss 58.338\n"
     ]
    },
    {
     "name": "stderr",
     "output_type": "stream",
     "text": [
      "Epoch 2021: 272batch [00:09, 29.74batch/s, loss=7.05e+4]\n"
     ]
    },
    {
     "name": "stdout",
     "output_type": "stream",
     "text": [
      "epoch 2021: avg train loss 72830.83, bar train loss 209.547, len train loss 4.265, col train loss 135.031\n"
     ]
    },
    {
     "name": "stderr",
     "output_type": "stream",
     "text": [
      "Epoch 2022: 3batch [00:00, 27.78batch/s, loss=7.21e+4]"
     ]
    },
    {
     "name": "stdout",
     "output_type": "stream",
     "text": [
      "epoch 2021: avg test  loss 73269.31, bar  test loss 90.273, len  test loss 1.836, col  test loss 58.393\n"
     ]
    },
    {
     "name": "stderr",
     "output_type": "stream",
     "text": [
      "Epoch 2022: 272batch [00:09, 29.94batch/s, loss=7.38e+4]\n"
     ]
    },
    {
     "name": "stdout",
     "output_type": "stream",
     "text": [
      "epoch 2022: avg train loss 72831.09, bar train loss 209.558, len train loss 4.261, col train loss 135.054\n"
     ]
    },
    {
     "name": "stderr",
     "output_type": "stream",
     "text": [
      "Epoch 2023: 3batch [00:00, 27.03batch/s, loss=7.57e+4]"
     ]
    },
    {
     "name": "stdout",
     "output_type": "stream",
     "text": [
      "epoch 2022: avg test  loss 73320.24, bar  test loss 90.573, len  test loss 1.830, col  test loss 58.758\n"
     ]
    },
    {
     "name": "stderr",
     "output_type": "stream",
     "text": [
      "Epoch 2023: 272batch [00:09, 29.86batch/s, loss=6.82e+4]\n"
     ]
    },
    {
     "name": "stdout",
     "output_type": "stream",
     "text": [
      "epoch 2023: avg train loss 72834.26, bar train loss 209.545, len train loss 4.265, col train loss 135.014\n"
     ]
    },
    {
     "name": "stderr",
     "output_type": "stream",
     "text": [
      "Epoch 2024: 3batch [00:00, 27.52batch/s, loss=7.34e+4]"
     ]
    },
    {
     "name": "stdout",
     "output_type": "stream",
     "text": [
      "epoch 2023: avg test  loss 73287.74, bar  test loss 90.321, len  test loss 1.833, col  test loss 58.409\n"
     ]
    },
    {
     "name": "stderr",
     "output_type": "stream",
     "text": [
      "Epoch 2024: 272batch [00:09, 29.80batch/s, loss=7.37e+4]\n"
     ]
    },
    {
     "name": "stdout",
     "output_type": "stream",
     "text": [
      "epoch 2024: avg train loss 72831.64, bar train loss 209.597, len train loss 4.262, col train loss 135.041\n"
     ]
    },
    {
     "name": "stderr",
     "output_type": "stream",
     "text": [
      "Epoch 2025: 3batch [00:00, 27.78batch/s, loss=7.2e+4] "
     ]
    },
    {
     "name": "stdout",
     "output_type": "stream",
     "text": [
      "epoch 2024: avg test  loss 73247.86, bar  test loss 90.253, len  test loss 1.822, col  test loss 58.347\n"
     ]
    },
    {
     "name": "stderr",
     "output_type": "stream",
     "text": [
      "Epoch 2025: 272batch [00:09, 29.88batch/s, loss=7.26e+4]\n"
     ]
    },
    {
     "name": "stdout",
     "output_type": "stream",
     "text": [
      "epoch 2025: avg train loss 72834.54, bar train loss 209.557, len train loss 4.263, col train loss 135.062\n",
      "epoch 2025: avg test  loss 73252.54, bar  test loss 90.207, len  test loss 1.824, col  test loss 58.405\n"
     ]
    },
    {
     "name": "stderr",
     "output_type": "stream",
     "text": [
      "Epoch 2026: 272batch [00:09, 29.91batch/s, loss=7.12e+4]\n"
     ]
    },
    {
     "name": "stdout",
     "output_type": "stream",
     "text": [
      "epoch 2026: avg train loss 72841.28, bar train loss 209.557, len train loss 4.261, col train loss 135.060\n"
     ]
    },
    {
     "name": "stderr",
     "output_type": "stream",
     "text": [
      "Epoch 2027: 3batch [00:00, 28.85batch/s, loss=7.03e+4]"
     ]
    },
    {
     "name": "stdout",
     "output_type": "stream",
     "text": [
      "epoch 2026: avg test  loss 73242.26, bar  test loss 90.240, len  test loss 1.834, col  test loss 58.327\n"
     ]
    },
    {
     "name": "stderr",
     "output_type": "stream",
     "text": [
      "Epoch 2027: 272batch [00:09, 29.88batch/s, loss=6.72e+4]\n"
     ]
    },
    {
     "name": "stdout",
     "output_type": "stream",
     "text": [
      "epoch 2027: avg train loss 72840.52, bar train loss 209.575, len train loss 4.262, col train loss 135.057\n"
     ]
    },
    {
     "name": "stderr",
     "output_type": "stream",
     "text": [
      "Epoch 2028: 3batch [00:00, 27.03batch/s, loss=7.17e+4]"
     ]
    },
    {
     "name": "stdout",
     "output_type": "stream",
     "text": [
      "epoch 2027: avg test  loss 73277.26, bar  test loss 90.341, len  test loss 1.825, col  test loss 58.501\n"
     ]
    },
    {
     "name": "stderr",
     "output_type": "stream",
     "text": [
      "Epoch 2028: 272batch [00:09, 29.47batch/s, loss=7.11e+4]\n"
     ]
    },
    {
     "name": "stdout",
     "output_type": "stream",
     "text": [
      "epoch 2028: avg train loss 72831.20, bar train loss 209.521, len train loss 4.260, col train loss 135.035\n"
     ]
    },
    {
     "name": "stderr",
     "output_type": "stream",
     "text": [
      "Epoch 2029: 3batch [00:00, 28.85batch/s, loss=7.03e+4]"
     ]
    },
    {
     "name": "stdout",
     "output_type": "stream",
     "text": [
      "epoch 2028: avg test  loss 73252.82, bar  test loss 90.349, len  test loss 1.829, col  test loss 58.539\n"
     ]
    },
    {
     "name": "stderr",
     "output_type": "stream",
     "text": [
      "Epoch 2029: 272batch [00:09, 29.59batch/s, loss=7.02e+4]\n"
     ]
    },
    {
     "name": "stdout",
     "output_type": "stream",
     "text": [
      "epoch 2029: avg train loss 72827.06, bar train loss 209.551, len train loss 4.261, col train loss 134.998\n"
     ]
    },
    {
     "name": "stderr",
     "output_type": "stream",
     "text": [
      "Epoch 2030: 3batch [00:00, 27.52batch/s, loss=7.42e+4]"
     ]
    },
    {
     "name": "stdout",
     "output_type": "stream",
     "text": [
      "epoch 2029: avg test  loss 73310.42, bar  test loss 90.412, len  test loss 1.822, col  test loss 58.484\n"
     ]
    },
    {
     "name": "stderr",
     "output_type": "stream",
     "text": [
      "Epoch 2030: 272batch [00:09, 29.62batch/s, loss=6.89e+4]\n"
     ]
    },
    {
     "name": "stdout",
     "output_type": "stream",
     "text": [
      "epoch 2030: avg train loss 72836.65, bar train loss 209.570, len train loss 4.262, col train loss 135.064\n",
      "epoch 2030: avg test  loss 73228.89, bar  test loss 90.272, len  test loss 1.826, col  test loss 58.370\n"
     ]
    },
    {
     "name": "stderr",
     "output_type": "stream",
     "text": [
      "Epoch 2031: 272batch [00:09, 29.49batch/s, loss=7.18e+4]\n"
     ]
    },
    {
     "name": "stdout",
     "output_type": "stream",
     "text": [
      "epoch 2031: avg train loss 72815.16, bar train loss 209.526, len train loss 4.263, col train loss 135.008\n"
     ]
    },
    {
     "name": "stderr",
     "output_type": "stream",
     "text": [
      "Epoch 2032: 3batch [00:00, 27.27batch/s, loss=7.16e+4]"
     ]
    },
    {
     "name": "stdout",
     "output_type": "stream",
     "text": [
      "epoch 2031: avg test  loss 73257.56, bar  test loss 90.309, len  test loss 1.828, col  test loss 58.447\n"
     ]
    },
    {
     "name": "stderr",
     "output_type": "stream",
     "text": [
      "Epoch 2032: 272batch [00:09, 29.66batch/s, loss=8.17e+4]\n"
     ]
    },
    {
     "name": "stdout",
     "output_type": "stream",
     "text": [
      "epoch 2032: avg train loss 72839.31, bar train loss 209.579, len train loss 4.261, col train loss 135.088\n"
     ]
    },
    {
     "name": "stderr",
     "output_type": "stream",
     "text": [
      "Epoch 2033: 3batch [00:00, 29.13batch/s, loss=7.42e+4]"
     ]
    },
    {
     "name": "stdout",
     "output_type": "stream",
     "text": [
      "epoch 2032: avg test  loss 73231.43, bar  test loss 90.196, len  test loss 1.825, col  test loss 58.286\n"
     ]
    },
    {
     "name": "stderr",
     "output_type": "stream",
     "text": [
      "Epoch 2033: 272batch [00:09, 29.79batch/s, loss=7.88e+4]\n"
     ]
    },
    {
     "name": "stdout",
     "output_type": "stream",
     "text": [
      "epoch 2033: avg train loss 72829.32, bar train loss 209.574, len train loss 4.262, col train loss 135.026\n"
     ]
    },
    {
     "name": "stderr",
     "output_type": "stream",
     "text": [
      "Epoch 2034: 3batch [00:00, 28.31batch/s, loss=7.18e+4]"
     ]
    },
    {
     "name": "stdout",
     "output_type": "stream",
     "text": [
      "epoch 2033: avg test  loss 73242.53, bar  test loss 90.283, len  test loss 1.826, col  test loss 58.509\n"
     ]
    },
    {
     "name": "stderr",
     "output_type": "stream",
     "text": [
      "Epoch 2034: 272batch [00:09, 29.49batch/s, loss=7.21e+4]\n"
     ]
    },
    {
     "name": "stdout",
     "output_type": "stream",
     "text": [
      "epoch 2034: avg train loss 72835.47, bar train loss 209.556, len train loss 4.265, col train loss 135.060\n"
     ]
    },
    {
     "name": "stderr",
     "output_type": "stream",
     "text": [
      "Epoch 2035: 3batch [00:00, 27.78batch/s, loss=7.13e+4]"
     ]
    },
    {
     "name": "stdout",
     "output_type": "stream",
     "text": [
      "epoch 2034: avg test  loss 73252.14, bar  test loss 90.270, len  test loss 1.830, col  test loss 58.383\n"
     ]
    },
    {
     "name": "stderr",
     "output_type": "stream",
     "text": [
      "Epoch 2035: 272batch [00:09, 29.60batch/s, loss=6.88e+4]\n"
     ]
    },
    {
     "name": "stdout",
     "output_type": "stream",
     "text": [
      "epoch 2035: avg train loss 72820.12, bar train loss 209.540, len train loss 4.264, col train loss 134.985\n",
      "epoch 2035: avg test  loss 73216.43, bar  test loss 90.192, len  test loss 1.830, col  test loss 58.341\n"
     ]
    },
    {
     "name": "stderr",
     "output_type": "stream",
     "text": [
      "Epoch 2036: 272batch [00:09, 29.91batch/s, loss=7.64e+4]\n"
     ]
    },
    {
     "name": "stdout",
     "output_type": "stream",
     "text": [
      "epoch 2036: avg train loss 72829.38, bar train loss 209.597, len train loss 4.263, col train loss 135.026\n"
     ]
    },
    {
     "name": "stderr",
     "output_type": "stream",
     "text": [
      "Epoch 2037: 3batch [00:00, 28.04batch/s, loss=7.13e+4]"
     ]
    },
    {
     "name": "stdout",
     "output_type": "stream",
     "text": [
      "epoch 2036: avg test  loss 73291.45, bar  test loss 90.231, len  test loss 1.831, col  test loss 58.371\n"
     ]
    },
    {
     "name": "stderr",
     "output_type": "stream",
     "text": [
      "Epoch 2037: 272batch [00:09, 29.46batch/s, loss=7.21e+4]\n"
     ]
    },
    {
     "name": "stdout",
     "output_type": "stream",
     "text": [
      "epoch 2037: avg train loss 72824.04, bar train loss 209.541, len train loss 4.260, col train loss 135.033\n"
     ]
    },
    {
     "name": "stderr",
     "output_type": "stream",
     "text": [
      "Epoch 2038: 3batch [00:00, 29.13batch/s, loss=7.53e+4]"
     ]
    },
    {
     "name": "stdout",
     "output_type": "stream",
     "text": [
      "epoch 2037: avg test  loss 73275.05, bar  test loss 90.239, len  test loss 1.830, col  test loss 58.459\n"
     ]
    },
    {
     "name": "stderr",
     "output_type": "stream",
     "text": [
      "Epoch 2038: 272batch [00:09, 29.69batch/s, loss=7.66e+4]\n"
     ]
    },
    {
     "name": "stdout",
     "output_type": "stream",
     "text": [
      "epoch 2038: avg train loss 72829.31, bar train loss 209.584, len train loss 4.264, col train loss 135.015\n"
     ]
    },
    {
     "name": "stderr",
     "output_type": "stream",
     "text": [
      "Epoch 2039: 3batch [00:00, 29.41batch/s, loss=7.32e+4]"
     ]
    },
    {
     "name": "stdout",
     "output_type": "stream",
     "text": [
      "epoch 2038: avg test  loss 73323.77, bar  test loss 90.244, len  test loss 1.829, col  test loss 58.461\n"
     ]
    },
    {
     "name": "stderr",
     "output_type": "stream",
     "text": [
      "Epoch 2039: 272batch [00:09, 29.56batch/s, loss=7.23e+4]\n"
     ]
    },
    {
     "name": "stdout",
     "output_type": "stream",
     "text": [
      "epoch 2039: avg train loss 72829.01, bar train loss 209.525, len train loss 4.262, col train loss 135.027\n"
     ]
    },
    {
     "name": "stderr",
     "output_type": "stream",
     "text": [
      "Epoch 2040: 3batch [00:00, 27.78batch/s, loss=7.53e+4]"
     ]
    },
    {
     "name": "stdout",
     "output_type": "stream",
     "text": [
      "epoch 2039: avg test  loss 73264.03, bar  test loss 90.260, len  test loss 1.828, col  test loss 58.417\n"
     ]
    },
    {
     "name": "stderr",
     "output_type": "stream",
     "text": [
      "Epoch 2040: 272batch [00:09, 29.61batch/s, loss=7.31e+4]\n"
     ]
    },
    {
     "name": "stdout",
     "output_type": "stream",
     "text": [
      "epoch 2040: avg train loss 72825.95, bar train loss 209.531, len train loss 4.263, col train loss 134.990\n",
      "epoch 2040: avg test  loss 73221.35, bar  test loss 90.172, len  test loss 1.833, col  test loss 58.388\n"
     ]
    },
    {
     "name": "stderr",
     "output_type": "stream",
     "text": [
      "Epoch 2041: 272batch [00:09, 29.60batch/s, loss=7.31e+4]\n"
     ]
    },
    {
     "name": "stdout",
     "output_type": "stream",
     "text": [
      "epoch 2041: avg train loss 72821.95, bar train loss 209.551, len train loss 4.265, col train loss 135.007\n"
     ]
    },
    {
     "name": "stderr",
     "output_type": "stream",
     "text": [
      "Epoch 2042: 3batch [00:00, 25.21batch/s, loss=6.98e+4]"
     ]
    },
    {
     "name": "stdout",
     "output_type": "stream",
     "text": [
      "epoch 2041: avg test  loss 73237.63, bar  test loss 90.210, len  test loss 1.831, col  test loss 58.360\n"
     ]
    },
    {
     "name": "stderr",
     "output_type": "stream",
     "text": [
      "Epoch 2042: 272batch [00:09, 29.61batch/s, loss=8.53e+4]\n"
     ]
    },
    {
     "name": "stdout",
     "output_type": "stream",
     "text": [
      "epoch 2042: avg train loss 72827.55, bar train loss 209.551, len train loss 4.264, col train loss 135.045\n"
     ]
    },
    {
     "name": "stderr",
     "output_type": "stream",
     "text": [
      "Epoch 2043: 3batch [00:00, 28.85batch/s, loss=7.38e+4]"
     ]
    },
    {
     "name": "stdout",
     "output_type": "stream",
     "text": [
      "epoch 2042: avg test  loss 73268.22, bar  test loss 90.233, len  test loss 1.829, col  test loss 58.346\n"
     ]
    },
    {
     "name": "stderr",
     "output_type": "stream",
     "text": [
      "Epoch 2043: 272batch [00:09, 28.95batch/s, loss=7.49e+4]\n"
     ]
    },
    {
     "name": "stdout",
     "output_type": "stream",
     "text": [
      "epoch 2043: avg train loss 72827.61, bar train loss 209.566, len train loss 4.262, col train loss 135.068\n"
     ]
    },
    {
     "name": "stderr",
     "output_type": "stream",
     "text": [
      "Epoch 2044: 3batch [00:00, 27.52batch/s, loss=7.49e+4]"
     ]
    },
    {
     "name": "stdout",
     "output_type": "stream",
     "text": [
      "epoch 2043: avg test  loss 73287.13, bar  test loss 90.322, len  test loss 1.825, col  test loss 58.348\n"
     ]
    },
    {
     "name": "stderr",
     "output_type": "stream",
     "text": [
      "Epoch 2044: 272batch [00:09, 29.09batch/s, loss=7.41e+4]\n"
     ]
    },
    {
     "name": "stdout",
     "output_type": "stream",
     "text": [
      "epoch 2044: avg train loss 72822.18, bar train loss 209.559, len train loss 4.260, col train loss 134.997\n"
     ]
    },
    {
     "name": "stderr",
     "output_type": "stream",
     "text": [
      "Epoch 2045: 3batch [00:00, 27.78batch/s, loss=7.21e+4]"
     ]
    },
    {
     "name": "stdout",
     "output_type": "stream",
     "text": [
      "epoch 2044: avg test  loss 73327.44, bar  test loss 90.286, len  test loss 1.826, col  test loss 58.420\n"
     ]
    },
    {
     "name": "stderr",
     "output_type": "stream",
     "text": [
      "Epoch 2045: 272batch [00:09, 29.07batch/s, loss=8.13e+4]\n"
     ]
    },
    {
     "name": "stdout",
     "output_type": "stream",
     "text": [
      "epoch 2045: avg train loss 72827.76, bar train loss 209.533, len train loss 4.261, col train loss 135.021\n",
      "epoch 2045: avg test  loss 73220.70, bar  test loss 90.272, len  test loss 1.828, col  test loss 58.451\n"
     ]
    },
    {
     "name": "stderr",
     "output_type": "stream",
     "text": [
      "Epoch 2046: 272batch [00:09, 29.51batch/s, loss=6.98e+4]\n"
     ]
    },
    {
     "name": "stdout",
     "output_type": "stream",
     "text": [
      "epoch 2046: avg train loss 72821.84, bar train loss 209.532, len train loss 4.265, col train loss 134.980\n"
     ]
    },
    {
     "name": "stderr",
     "output_type": "stream",
     "text": [
      "Epoch 2047: 3batch [00:00, 28.30batch/s, loss=7.48e+4]"
     ]
    },
    {
     "name": "stdout",
     "output_type": "stream",
     "text": [
      "epoch 2046: avg test  loss 73292.65, bar  test loss 90.251, len  test loss 1.837, col  test loss 58.414\n"
     ]
    },
    {
     "name": "stderr",
     "output_type": "stream",
     "text": [
      "Epoch 2047: 272batch [00:09, 29.51batch/s, loss=6.98e+4]\n"
     ]
    },
    {
     "name": "stdout",
     "output_type": "stream",
     "text": [
      "epoch 2047: avg train loss 72836.34, bar train loss 209.573, len train loss 4.264, col train loss 135.031\n"
     ]
    },
    {
     "name": "stderr",
     "output_type": "stream",
     "text": [
      "Epoch 2048: 3batch [00:00, 28.30batch/s, loss=7.3e+4] "
     ]
    },
    {
     "name": "stdout",
     "output_type": "stream",
     "text": [
      "epoch 2047: avg test  loss 73243.73, bar  test loss 90.222, len  test loss 1.833, col  test loss 58.319\n"
     ]
    },
    {
     "name": "stderr",
     "output_type": "stream",
     "text": [
      "Epoch 2048: 272batch [00:09, 29.51batch/s, loss=7.32e+4]\n"
     ]
    },
    {
     "name": "stdout",
     "output_type": "stream",
     "text": [
      "epoch 2048: avg train loss 72827.14, bar train loss 209.533, len train loss 4.263, col train loss 134.994\n"
     ]
    },
    {
     "name": "stderr",
     "output_type": "stream",
     "text": [
      "Epoch 2049: 3batch [00:00, 28.04batch/s, loss=7.23e+4]"
     ]
    },
    {
     "name": "stdout",
     "output_type": "stream",
     "text": [
      "epoch 2048: avg test  loss 73222.14, bar  test loss 90.285, len  test loss 1.828, col  test loss 58.384\n"
     ]
    },
    {
     "name": "stderr",
     "output_type": "stream",
     "text": [
      "Epoch 2049: 272batch [00:09, 29.44batch/s, loss=7.49e+4]\n"
     ]
    },
    {
     "name": "stdout",
     "output_type": "stream",
     "text": [
      "epoch 2049: avg train loss 72817.70, bar train loss 209.520, len train loss 4.262, col train loss 134.993\n"
     ]
    },
    {
     "name": "stderr",
     "output_type": "stream",
     "text": [
      "Epoch 2050: 3batch [00:00, 26.79batch/s, loss=7.75e+4]"
     ]
    },
    {
     "name": "stdout",
     "output_type": "stream",
     "text": [
      "epoch 2049: avg test  loss 73257.92, bar  test loss 90.206, len  test loss 1.830, col  test loss 58.361\n"
     ]
    },
    {
     "name": "stderr",
     "output_type": "stream",
     "text": [
      "Epoch 2050: 272batch [00:09, 28.97batch/s, loss=6.46e+4]\n"
     ]
    },
    {
     "name": "stdout",
     "output_type": "stream",
     "text": [
      "epoch 2050: avg train loss 72830.69, bar train loss 209.571, len train loss 4.264, col train loss 135.034\n",
      "epoch 2050: avg test  loss 73263.70, bar  test loss 90.316, len  test loss 1.826, col  test loss 58.507\n"
     ]
    },
    {
     "name": "stderr",
     "output_type": "stream",
     "text": [
      "Epoch 2051: 272batch [00:09, 29.40batch/s, loss=8.26e+4]\n"
     ]
    },
    {
     "name": "stdout",
     "output_type": "stream",
     "text": [
      "epoch 2051: avg train loss 72838.15, bar train loss 209.572, len train loss 4.264, col train loss 135.053\n"
     ]
    },
    {
     "name": "stderr",
     "output_type": "stream",
     "text": [
      "Epoch 2052: 3batch [00:00, 27.52batch/s, loss=6.97e+4]"
     ]
    },
    {
     "name": "stdout",
     "output_type": "stream",
     "text": [
      "epoch 2051: avg test  loss 73244.61, bar  test loss 90.266, len  test loss 1.827, col  test loss 58.404\n"
     ]
    },
    {
     "name": "stderr",
     "output_type": "stream",
     "text": [
      "Epoch 2052: 272batch [00:09, 29.41batch/s, loss=7.85e+4]\n"
     ]
    },
    {
     "name": "stdout",
     "output_type": "stream",
     "text": [
      "epoch 2052: avg train loss 72820.75, bar train loss 209.538, len train loss 4.263, col train loss 135.017\n"
     ]
    },
    {
     "name": "stderr",
     "output_type": "stream",
     "text": [
      "Epoch 2053: 3batch [00:00, 27.27batch/s, loss=7.42e+4]"
     ]
    },
    {
     "name": "stdout",
     "output_type": "stream",
     "text": [
      "epoch 2052: avg test  loss 73235.09, bar  test loss 90.234, len  test loss 1.830, col  test loss 58.380\n"
     ]
    },
    {
     "name": "stderr",
     "output_type": "stream",
     "text": [
      "Epoch 2053: 272batch [00:09, 29.30batch/s, loss=6.8e+4] \n"
     ]
    },
    {
     "name": "stdout",
     "output_type": "stream",
     "text": [
      "epoch 2053: avg train loss 72817.83, bar train loss 209.524, len train loss 4.263, col train loss 134.979\n"
     ]
    },
    {
     "name": "stderr",
     "output_type": "stream",
     "text": [
      "Epoch 2054: 0batch [00:00, ?batch/s, loss=7.03e+4]"
     ]
    },
    {
     "name": "stdout",
     "output_type": "stream",
     "text": [
      "epoch 2053: avg test  loss 73269.63, bar  test loss 90.186, len  test loss 1.829, col  test loss 58.362\n"
     ]
    },
    {
     "name": "stderr",
     "output_type": "stream",
     "text": [
      "Epoch 2054: 272batch [00:09, 29.29batch/s, loss=7.26e+4]\n"
     ]
    },
    {
     "name": "stdout",
     "output_type": "stream",
     "text": [
      "epoch 2054: avg train loss 72823.52, bar train loss 209.516, len train loss 4.264, col train loss 134.986\n"
     ]
    },
    {
     "name": "stderr",
     "output_type": "stream",
     "text": [
      "Epoch 2055: 3batch [00:00, 27.52batch/s, loss=7.24e+4]"
     ]
    },
    {
     "name": "stdout",
     "output_type": "stream",
     "text": [
      "epoch 2054: avg test  loss 73248.85, bar  test loss 90.164, len  test loss 1.828, col  test loss 58.420\n"
     ]
    },
    {
     "name": "stderr",
     "output_type": "stream",
     "text": [
      "Epoch 2055: 272batch [00:09, 29.15batch/s, loss=7.32e+4]\n"
     ]
    },
    {
     "name": "stdout",
     "output_type": "stream",
     "text": [
      "epoch 2055: avg train loss 72825.55, bar train loss 209.552, len train loss 4.264, col train loss 134.993\n",
      "epoch 2055: avg test  loss 73236.17, bar  test loss 90.214, len  test loss 1.826, col  test loss 58.469\n"
     ]
    },
    {
     "name": "stderr",
     "output_type": "stream",
     "text": [
      "Epoch 2056: 272batch [00:09, 29.39batch/s, loss=6.67e+4]\n"
     ]
    },
    {
     "name": "stdout",
     "output_type": "stream",
     "text": [
      "epoch 2056: avg train loss 72827.56, bar train loss 209.586, len train loss 4.264, col train loss 135.013\n"
     ]
    },
    {
     "name": "stderr",
     "output_type": "stream",
     "text": [
      "Epoch 2057: 3batch [00:00, 28.04batch/s, loss=7.6e+4] "
     ]
    },
    {
     "name": "stdout",
     "output_type": "stream",
     "text": [
      "epoch 2056: avg test  loss 73288.12, bar  test loss 90.150, len  test loss 1.828, col  test loss 58.347\n"
     ]
    },
    {
     "name": "stderr",
     "output_type": "stream",
     "text": [
      "Epoch 2057: 272batch [00:09, 29.33batch/s, loss=6.91e+4]\n"
     ]
    },
    {
     "name": "stdout",
     "output_type": "stream",
     "text": [
      "epoch 2057: avg train loss 72837.60, bar train loss 209.552, len train loss 4.264, col train loss 135.033\n"
     ]
    },
    {
     "name": "stderr",
     "output_type": "stream",
     "text": [
      "Epoch 2058: 3batch [00:00, 28.30batch/s, loss=6.97e+4]"
     ]
    },
    {
     "name": "stdout",
     "output_type": "stream",
     "text": [
      "epoch 2057: avg test  loss 73254.64, bar  test loss 90.181, len  test loss 1.829, col  test loss 58.287\n"
     ]
    },
    {
     "name": "stderr",
     "output_type": "stream",
     "text": [
      "Epoch 2058: 272batch [00:09, 29.16batch/s, loss=8.44e+4]\n"
     ]
    },
    {
     "name": "stdout",
     "output_type": "stream",
     "text": [
      "epoch 2058: avg train loss 72824.59, bar train loss 209.511, len train loss 4.263, col train loss 134.991\n"
     ]
    },
    {
     "name": "stderr",
     "output_type": "stream",
     "text": [
      "Epoch 2059: 3batch [00:00, 28.04batch/s, loss=7.62e+4]"
     ]
    },
    {
     "name": "stdout",
     "output_type": "stream",
     "text": [
      "epoch 2058: avg test  loss 73241.15, bar  test loss 90.125, len  test loss 1.833, col  test loss 58.320\n"
     ]
    },
    {
     "name": "stderr",
     "output_type": "stream",
     "text": [
      "Epoch 2059: 272batch [00:09, 28.76batch/s, loss=6.86e+4]\n"
     ]
    },
    {
     "name": "stdout",
     "output_type": "stream",
     "text": [
      "epoch 2059: avg train loss 72813.35, bar train loss 209.519, len train loss 4.265, col train loss 135.035\n"
     ]
    },
    {
     "name": "stderr",
     "output_type": "stream",
     "text": [
      "Epoch 2060: 3batch [00:00, 22.39batch/s, loss=7.32e+4]"
     ]
    },
    {
     "name": "stdout",
     "output_type": "stream",
     "text": [
      "epoch 2059: avg test  loss 73286.86, bar  test loss 90.381, len  test loss 1.842, col  test loss 58.464\n"
     ]
    },
    {
     "name": "stderr",
     "output_type": "stream",
     "text": [
      "Epoch 2060: 272batch [00:09, 28.97batch/s, loss=7.4e+4] \n"
     ]
    },
    {
     "name": "stdout",
     "output_type": "stream",
     "text": [
      "epoch 2060: avg train loss 72827.82, bar train loss 209.557, len train loss 4.262, col train loss 135.027\n",
      "epoch 2060: avg test  loss 73267.91, bar  test loss 90.142, len  test loss 1.828, col  test loss 58.295\n"
     ]
    },
    {
     "name": "stderr",
     "output_type": "stream",
     "text": [
      "Epoch 2061: 272batch [00:09, 29.25batch/s, loss=7.28e+4]\n"
     ]
    },
    {
     "name": "stdout",
     "output_type": "stream",
     "text": [
      "epoch 2061: avg train loss 72826.08, bar train loss 209.544, len train loss 4.262, col train loss 135.024\n"
     ]
    },
    {
     "name": "stderr",
     "output_type": "stream",
     "text": [
      "Epoch 2062: 3batch [00:00, 26.08batch/s, loss=7.31e+4]"
     ]
    },
    {
     "name": "stdout",
     "output_type": "stream",
     "text": [
      "epoch 2061: avg test  loss 73222.20, bar  test loss 90.212, len  test loss 1.825, col  test loss 58.324\n"
     ]
    },
    {
     "name": "stderr",
     "output_type": "stream",
     "text": [
      "Epoch 2062: 272batch [00:09, 29.24batch/s, loss=7.08e+4]\n"
     ]
    },
    {
     "name": "stdout",
     "output_type": "stream",
     "text": [
      "epoch 2062: avg train loss 72822.20, bar train loss 209.525, len train loss 4.262, col train loss 134.989\n"
     ]
    },
    {
     "name": "stderr",
     "output_type": "stream",
     "text": [
      "Epoch 2063: 3batch [00:00, 29.13batch/s, loss=7.33e+4]"
     ]
    },
    {
     "name": "stdout",
     "output_type": "stream",
     "text": [
      "epoch 2062: avg test  loss 73306.12, bar  test loss 90.418, len  test loss 1.828, col  test loss 58.487\n"
     ]
    },
    {
     "name": "stderr",
     "output_type": "stream",
     "text": [
      "Epoch 2063: 272batch [00:09, 29.38batch/s, loss=7.14e+4]\n"
     ]
    },
    {
     "name": "stdout",
     "output_type": "stream",
     "text": [
      "epoch 2063: avg train loss 72822.71, bar train loss 209.515, len train loss 4.262, col train loss 135.010\n"
     ]
    },
    {
     "name": "stderr",
     "output_type": "stream",
     "text": [
      "Epoch 2064: 3batch [00:00, 27.78batch/s, loss=7.44e+4]"
     ]
    },
    {
     "name": "stdout",
     "output_type": "stream",
     "text": [
      "epoch 2063: avg test  loss 73244.15, bar  test loss 90.351, len  test loss 1.826, col  test loss 58.587\n"
     ]
    },
    {
     "name": "stderr",
     "output_type": "stream",
     "text": [
      "Epoch 2064: 272batch [00:09, 29.25batch/s, loss=7.15e+4]\n"
     ]
    },
    {
     "name": "stdout",
     "output_type": "stream",
     "text": [
      "epoch 2064: avg train loss 72836.96, bar train loss 209.590, len train loss 4.262, col train loss 135.072\n"
     ]
    },
    {
     "name": "stderr",
     "output_type": "stream",
     "text": [
      "Epoch 2065: 3batch [00:00, 27.52batch/s, loss=7.41e+4]"
     ]
    },
    {
     "name": "stdout",
     "output_type": "stream",
     "text": [
      "epoch 2064: avg test  loss 73257.64, bar  test loss 90.206, len  test loss 1.830, col  test loss 58.376\n"
     ]
    },
    {
     "name": "stderr",
     "output_type": "stream",
     "text": [
      "Epoch 2065: 272batch [00:09, 29.26batch/s, loss=7.77e+4]\n"
     ]
    },
    {
     "name": "stdout",
     "output_type": "stream",
     "text": [
      "epoch 2065: avg train loss 72825.41, bar train loss 209.530, len train loss 4.263, col train loss 135.004\n",
      "epoch 2065: avg test  loss 73290.67, bar  test loss 90.329, len  test loss 1.830, col  test loss 58.215\n"
     ]
    },
    {
     "name": "stderr",
     "output_type": "stream",
     "text": [
      "Epoch 2066: 272batch [00:09, 29.29batch/s, loss=6.84e+4]\n"
     ]
    },
    {
     "name": "stdout",
     "output_type": "stream",
     "text": [
      "epoch 2066: avg train loss 72824.55, bar train loss 209.548, len train loss 4.261, col train loss 134.980\n"
     ]
    },
    {
     "name": "stderr",
     "output_type": "stream",
     "text": [
      "Epoch 2067: 3batch [00:00, 27.03batch/s, loss=7.38e+4]"
     ]
    },
    {
     "name": "stdout",
     "output_type": "stream",
     "text": [
      "epoch 2066: avg test  loss 73258.34, bar  test loss 90.194, len  test loss 1.831, col  test loss 58.408\n"
     ]
    },
    {
     "name": "stderr",
     "output_type": "stream",
     "text": [
      "Epoch 2067: 272batch [00:09, 28.99batch/s, loss=7.15e+4]\n"
     ]
    },
    {
     "name": "stdout",
     "output_type": "stream",
     "text": [
      "epoch 2067: avg train loss 72825.29, bar train loss 209.536, len train loss 4.262, col train loss 135.001\n"
     ]
    },
    {
     "name": "stderr",
     "output_type": "stream",
     "text": [
      "Epoch 2068: 3batch [00:00, 28.03batch/s, loss=6.95e+4]"
     ]
    },
    {
     "name": "stdout",
     "output_type": "stream",
     "text": [
      "epoch 2067: avg test  loss 73252.52, bar  test loss 90.138, len  test loss 1.831, col  test loss 58.325\n"
     ]
    },
    {
     "name": "stderr",
     "output_type": "stream",
     "text": [
      "Epoch 2068: 272batch [00:09, 29.12batch/s, loss=6.83e+4]\n"
     ]
    },
    {
     "name": "stdout",
     "output_type": "stream",
     "text": [
      "epoch 2068: avg train loss 72816.53, bar train loss 209.524, len train loss 4.261, col train loss 134.966\n"
     ]
    },
    {
     "name": "stderr",
     "output_type": "stream",
     "text": [
      "Epoch 2069: 3batch [00:00, 27.02batch/s, loss=7.49e+4]"
     ]
    },
    {
     "name": "stdout",
     "output_type": "stream",
     "text": [
      "epoch 2068: avg test  loss 73237.52, bar  test loss 90.104, len  test loss 1.832, col  test loss 58.344\n"
     ]
    },
    {
     "name": "stderr",
     "output_type": "stream",
     "text": [
      "Epoch 2069: 272batch [00:09, 29.11batch/s, loss=8.01e+4]\n"
     ]
    },
    {
     "name": "stdout",
     "output_type": "stream",
     "text": [
      "epoch 2069: avg train loss 72814.15, bar train loss 209.508, len train loss 4.262, col train loss 135.022\n"
     ]
    },
    {
     "name": "stderr",
     "output_type": "stream",
     "text": [
      "Epoch 2070: 3batch [00:00, 27.03batch/s, loss=7.53e+4]"
     ]
    },
    {
     "name": "stdout",
     "output_type": "stream",
     "text": [
      "epoch 2069: avg test  loss 73221.28, bar  test loss 90.299, len  test loss 1.824, col  test loss 58.465\n"
     ]
    },
    {
     "name": "stderr",
     "output_type": "stream",
     "text": [
      "Epoch 2070: 272batch [00:09, 28.98batch/s, loss=6.86e+4]\n"
     ]
    },
    {
     "name": "stdout",
     "output_type": "stream",
     "text": [
      "epoch 2070: avg train loss 72819.57, bar train loss 209.514, len train loss 4.261, col train loss 134.988\n",
      "epoch 2070: avg test  loss 73257.80, bar  test loss 90.148, len  test loss 1.830, col  test loss 58.274\n"
     ]
    },
    {
     "name": "stderr",
     "output_type": "stream",
     "text": [
      "Epoch 2071: 272batch [00:09, 29.00batch/s, loss=7.45e+4]\n"
     ]
    },
    {
     "name": "stdout",
     "output_type": "stream",
     "text": [
      "epoch 2071: avg train loss 72825.57, bar train loss 209.529, len train loss 4.263, col train loss 134.994\n"
     ]
    },
    {
     "name": "stderr",
     "output_type": "stream",
     "text": [
      "Epoch 2072: 3batch [00:00, 28.30batch/s, loss=7.55e+4]"
     ]
    },
    {
     "name": "stdout",
     "output_type": "stream",
     "text": [
      "epoch 2071: avg test  loss 73248.78, bar  test loss 90.226, len  test loss 1.829, col  test loss 58.379\n"
     ]
    },
    {
     "name": "stderr",
     "output_type": "stream",
     "text": [
      "Epoch 2072: 272batch [00:09, 29.13batch/s, loss=7.62e+4]\n"
     ]
    },
    {
     "name": "stdout",
     "output_type": "stream",
     "text": [
      "epoch 2072: avg train loss 72828.74, bar train loss 209.515, len train loss 4.260, col train loss 135.039\n"
     ]
    },
    {
     "name": "stderr",
     "output_type": "stream",
     "text": [
      "Epoch 2073: 3batch [00:00, 28.04batch/s, loss=7.37e+4]"
     ]
    },
    {
     "name": "stdout",
     "output_type": "stream",
     "text": [
      "epoch 2072: avg test  loss 73229.72, bar  test loss 90.252, len  test loss 1.832, col  test loss 58.417\n"
     ]
    },
    {
     "name": "stderr",
     "output_type": "stream",
     "text": [
      "Epoch 2073: 272batch [00:09, 29.30batch/s, loss=7.77e+4]\n"
     ]
    },
    {
     "name": "stdout",
     "output_type": "stream",
     "text": [
      "epoch 2073: avg train loss 72821.55, bar train loss 209.520, len train loss 4.265, col train loss 135.035\n"
     ]
    },
    {
     "name": "stderr",
     "output_type": "stream",
     "text": [
      "Epoch 2074: 3batch [00:00, 28.04batch/s, loss=7.36e+4]"
     ]
    },
    {
     "name": "stdout",
     "output_type": "stream",
     "text": [
      "epoch 2073: avg test  loss 73269.30, bar  test loss 90.225, len  test loss 1.826, col  test loss 58.428\n"
     ]
    },
    {
     "name": "stderr",
     "output_type": "stream",
     "text": [
      "Epoch 2074: 272batch [00:09, 29.73batch/s, loss=7.01e+4]\n"
     ]
    },
    {
     "name": "stdout",
     "output_type": "stream",
     "text": [
      "epoch 2074: avg train loss 72824.71, bar train loss 209.521, len train loss 4.262, col train loss 135.026\n"
     ]
    },
    {
     "name": "stderr",
     "output_type": "stream",
     "text": [
      "Epoch 2075: 3batch [00:00, 28.30batch/s, loss=7.12e+4]"
     ]
    },
    {
     "name": "stdout",
     "output_type": "stream",
     "text": [
      "epoch 2074: avg test  loss 73263.09, bar  test loss 90.013, len  test loss 1.827, col  test loss 58.297\n"
     ]
    },
    {
     "name": "stderr",
     "output_type": "stream",
     "text": [
      "Epoch 2075: 272batch [00:09, 29.28batch/s, loss=7.34e+4]\n"
     ]
    },
    {
     "name": "stdout",
     "output_type": "stream",
     "text": [
      "epoch 2075: avg train loss 72816.90, bar train loss 209.498, len train loss 4.262, col train loss 134.968\n",
      "epoch 2075: avg test  loss 73264.67, bar  test loss 90.164, len  test loss 1.826, col  test loss 58.254\n"
     ]
    },
    {
     "name": "stderr",
     "output_type": "stream",
     "text": [
      "Epoch 2076: 272batch [00:09, 29.16batch/s, loss=7.31e+4]\n"
     ]
    },
    {
     "name": "stdout",
     "output_type": "stream",
     "text": [
      "epoch 2076: avg train loss 72829.59, bar train loss 209.533, len train loss 4.261, col train loss 135.016\n"
     ]
    },
    {
     "name": "stderr",
     "output_type": "stream",
     "text": [
      "Epoch 2077: 3batch [00:00, 28.30batch/s, loss=7.6e+4] "
     ]
    },
    {
     "name": "stdout",
     "output_type": "stream",
     "text": [
      "epoch 2076: avg test  loss 73243.50, bar  test loss 90.240, len  test loss 1.831, col  test loss 58.503\n"
     ]
    },
    {
     "name": "stderr",
     "output_type": "stream",
     "text": [
      "Epoch 2077: 272batch [00:09, 29.82batch/s, loss=7.55e+4]\n"
     ]
    },
    {
     "name": "stdout",
     "output_type": "stream",
     "text": [
      "epoch 2077: avg train loss 72818.95, bar train loss 209.510, len train loss 4.264, col train loss 134.998\n"
     ]
    },
    {
     "name": "stderr",
     "output_type": "stream",
     "text": [
      "Epoch 2078: 3batch [00:00, 27.53batch/s, loss=7.5e+4] "
     ]
    },
    {
     "name": "stdout",
     "output_type": "stream",
     "text": [
      "epoch 2077: avg test  loss 73318.95, bar  test loss 90.264, len  test loss 1.829, col  test loss 58.416\n"
     ]
    },
    {
     "name": "stderr",
     "output_type": "stream",
     "text": [
      "Epoch 2078: 272batch [00:09, 29.82batch/s, loss=7.18e+4]\n"
     ]
    },
    {
     "name": "stdout",
     "output_type": "stream",
     "text": [
      "epoch 2078: avg train loss 72817.91, bar train loss 209.478, len train loss 4.262, col train loss 134.985\n"
     ]
    },
    {
     "name": "stderr",
     "output_type": "stream",
     "text": [
      "Epoch 2079: 3batch [00:00, 28.04batch/s, loss=7.62e+4]"
     ]
    },
    {
     "name": "stdout",
     "output_type": "stream",
     "text": [
      "epoch 2078: avg test  loss 73233.36, bar  test loss 90.194, len  test loss 1.828, col  test loss 58.381\n"
     ]
    },
    {
     "name": "stderr",
     "output_type": "stream",
     "text": [
      "Epoch 2079: 272batch [00:09, 29.08batch/s, loss=7.25e+4]\n"
     ]
    },
    {
     "name": "stdout",
     "output_type": "stream",
     "text": [
      "epoch 2079: avg train loss 72816.75, bar train loss 209.494, len train loss 4.264, col train loss 134.999\n"
     ]
    },
    {
     "name": "stderr",
     "output_type": "stream",
     "text": [
      "Epoch 2080: 3batch [00:00, 27.52batch/s, loss=7.31e+4]"
     ]
    },
    {
     "name": "stdout",
     "output_type": "stream",
     "text": [
      "epoch 2079: avg test  loss 73239.41, bar  test loss 90.185, len  test loss 1.827, col  test loss 58.455\n"
     ]
    },
    {
     "name": "stderr",
     "output_type": "stream",
     "text": [
      "Epoch 2080: 272batch [00:09, 29.27batch/s, loss=8.03e+4]\n"
     ]
    },
    {
     "name": "stdout",
     "output_type": "stream",
     "text": [
      "epoch 2080: avg train loss 72814.38, bar train loss 209.463, len train loss 4.261, col train loss 134.972\n",
      "epoch 2080: avg test  loss 73251.04, bar  test loss 90.218, len  test loss 1.830, col  test loss 58.305\n"
     ]
    },
    {
     "name": "stderr",
     "output_type": "stream",
     "text": [
      "Epoch 2081: 272batch [00:09, 29.80batch/s, loss=8.32e+4]\n"
     ]
    },
    {
     "name": "stdout",
     "output_type": "stream",
     "text": [
      "epoch 2081: avg train loss 72825.27, bar train loss 209.540, len train loss 4.267, col train loss 135.040\n"
     ]
    },
    {
     "name": "stderr",
     "output_type": "stream",
     "text": [
      "Epoch 2082: 3batch [00:00, 28.30batch/s, loss=7.37e+4]"
     ]
    },
    {
     "name": "stdout",
     "output_type": "stream",
     "text": [
      "epoch 2081: avg test  loss 73280.62, bar  test loss 90.085, len  test loss 1.829, col  test loss 58.326\n"
     ]
    },
    {
     "name": "stderr",
     "output_type": "stream",
     "text": [
      "Epoch 2082: 272batch [00:09, 30.05batch/s, loss=7.93e+4]\n"
     ]
    },
    {
     "name": "stdout",
     "output_type": "stream",
     "text": [
      "epoch 2082: avg train loss 72813.86, bar train loss 209.509, len train loss 4.260, col train loss 134.984\n"
     ]
    },
    {
     "name": "stderr",
     "output_type": "stream",
     "text": [
      "Epoch 2083: 3batch [00:00, 28.30batch/s, loss=7.31e+4]"
     ]
    },
    {
     "name": "stdout",
     "output_type": "stream",
     "text": [
      "epoch 2082: avg test  loss 73257.38, bar  test loss 90.135, len  test loss 1.830, col  test loss 58.456\n"
     ]
    },
    {
     "name": "stderr",
     "output_type": "stream",
     "text": [
      "Epoch 2083: 272batch [00:09, 30.06batch/s, loss=7.03e+4]\n"
     ]
    },
    {
     "name": "stdout",
     "output_type": "stream",
     "text": [
      "epoch 2083: avg train loss 72818.74, bar train loss 209.526, len train loss 4.263, col train loss 134.992\n"
     ]
    },
    {
     "name": "stderr",
     "output_type": "stream",
     "text": [
      "Epoch 2084: 3batch [00:00, 27.27batch/s, loss=7.27e+4]"
     ]
    },
    {
     "name": "stdout",
     "output_type": "stream",
     "text": [
      "epoch 2083: avg test  loss 73228.71, bar  test loss 90.325, len  test loss 1.828, col  test loss 58.515\n"
     ]
    },
    {
     "name": "stderr",
     "output_type": "stream",
     "text": [
      "Epoch 2084: 272batch [00:09, 29.87batch/s, loss=7.32e+4]\n"
     ]
    },
    {
     "name": "stdout",
     "output_type": "stream",
     "text": [
      "epoch 2084: avg train loss 72819.23, bar train loss 209.502, len train loss 4.264, col train loss 135.028\n"
     ]
    },
    {
     "name": "stderr",
     "output_type": "stream",
     "text": [
      "Epoch 2085: 3batch [00:00, 28.30batch/s, loss=6.92e+4]"
     ]
    },
    {
     "name": "stdout",
     "output_type": "stream",
     "text": [
      "epoch 2084: avg test  loss 73263.09, bar  test loss 90.315, len  test loss 1.827, col  test loss 58.543\n"
     ]
    },
    {
     "name": "stderr",
     "output_type": "stream",
     "text": [
      "Epoch 2085: 272batch [00:09, 29.75batch/s, loss=7.49e+4]\n"
     ]
    },
    {
     "name": "stdout",
     "output_type": "stream",
     "text": [
      "epoch 2085: avg train loss 72819.87, bar train loss 209.500, len train loss 4.265, col train loss 134.991\n",
      "epoch 2085: avg test  loss 73236.45, bar  test loss 90.185, len  test loss 1.830, col  test loss 58.360\n"
     ]
    },
    {
     "name": "stderr",
     "output_type": "stream",
     "text": [
      "Epoch 2086: 272batch [00:09, 29.09batch/s, loss=6.97e+4]\n"
     ]
    },
    {
     "name": "stdout",
     "output_type": "stream",
     "text": [
      "epoch 2086: avg train loss 72822.14, bar train loss 209.518, len train loss 4.263, col train loss 134.996\n"
     ]
    },
    {
     "name": "stderr",
     "output_type": "stream",
     "text": [
      "Epoch 2087: 3batch [00:00, 28.30batch/s, loss=7.48e+4]"
     ]
    },
    {
     "name": "stdout",
     "output_type": "stream",
     "text": [
      "epoch 2086: avg test  loss 73250.83, bar  test loss 90.255, len  test loss 1.832, col  test loss 58.470\n"
     ]
    },
    {
     "name": "stderr",
     "output_type": "stream",
     "text": [
      "Epoch 2087: 272batch [00:09, 29.57batch/s, loss=7.18e+4]\n"
     ]
    },
    {
     "name": "stdout",
     "output_type": "stream",
     "text": [
      "epoch 2087: avg train loss 72814.37, bar train loss 209.497, len train loss 4.266, col train loss 135.003\n"
     ]
    },
    {
     "name": "stderr",
     "output_type": "stream",
     "text": [
      "Epoch 2088: 3batch [00:00, 27.78batch/s, loss=7.35e+4]"
     ]
    },
    {
     "name": "stdout",
     "output_type": "stream",
     "text": [
      "epoch 2087: avg test  loss 73242.21, bar  test loss 90.171, len  test loss 1.822, col  test loss 58.463\n"
     ]
    },
    {
     "name": "stderr",
     "output_type": "stream",
     "text": [
      "Epoch 2088: 272batch [00:09, 29.31batch/s, loss=7.03e+4]\n"
     ]
    },
    {
     "name": "stdout",
     "output_type": "stream",
     "text": [
      "epoch 2088: avg train loss 72813.27, bar train loss 209.524, len train loss 4.265, col train loss 134.994\n"
     ]
    },
    {
     "name": "stderr",
     "output_type": "stream",
     "text": [
      "Epoch 2089: 3batch [00:00, 27.02batch/s, loss=7.5e+4] "
     ]
    },
    {
     "name": "stdout",
     "output_type": "stream",
     "text": [
      "epoch 2088: avg test  loss 73221.20, bar  test loss 90.201, len  test loss 1.835, col  test loss 58.307\n"
     ]
    },
    {
     "name": "stderr",
     "output_type": "stream",
     "text": [
      "Epoch 2089: 272batch [00:09, 29.06batch/s, loss=7.09e+4]\n"
     ]
    },
    {
     "name": "stdout",
     "output_type": "stream",
     "text": [
      "epoch 2089: avg train loss 72809.39, bar train loss 209.475, len train loss 4.262, col train loss 134.960\n"
     ]
    },
    {
     "name": "stderr",
     "output_type": "stream",
     "text": [
      "Epoch 2090: 3batch [00:00, 27.27batch/s, loss=7.19e+4]"
     ]
    },
    {
     "name": "stdout",
     "output_type": "stream",
     "text": [
      "epoch 2089: avg test  loss 73264.28, bar  test loss 90.319, len  test loss 1.827, col  test loss 58.417\n"
     ]
    },
    {
     "name": "stderr",
     "output_type": "stream",
     "text": [
      "Epoch 2090: 272batch [00:09, 28.69batch/s, loss=78178.5]\n"
     ]
    },
    {
     "name": "stdout",
     "output_type": "stream",
     "text": [
      "epoch 2090: avg train loss 72802.76, bar train loss 209.499, len train loss 4.260, col train loss 134.938\n",
      "epoch 2090: avg test  loss 73249.51, bar  test loss 90.132, len  test loss 1.828, col  test loss 58.226\n"
     ]
    },
    {
     "name": "stderr",
     "output_type": "stream",
     "text": [
      "Epoch 2091: 272batch [00:09, 28.52batch/s, loss=7.82e+4]\n"
     ]
    },
    {
     "name": "stdout",
     "output_type": "stream",
     "text": [
      "epoch 2091: avg train loss 72819.28, bar train loss 209.517, len train loss 4.261, col train loss 134.974\n"
     ]
    },
    {
     "name": "stderr",
     "output_type": "stream",
     "text": [
      "Epoch 2092: 3batch [00:00, 28.04batch/s, loss=7.16e+4]"
     ]
    },
    {
     "name": "stdout",
     "output_type": "stream",
     "text": [
      "epoch 2091: avg test  loss 73236.63, bar  test loss 90.266, len  test loss 1.826, col  test loss 58.464\n"
     ]
    },
    {
     "name": "stderr",
     "output_type": "stream",
     "text": [
      "Epoch 2092: 272batch [00:09, 28.74batch/s, loss=7.38e+4]\n"
     ]
    },
    {
     "name": "stdout",
     "output_type": "stream",
     "text": [
      "epoch 2092: avg train loss 72824.98, bar train loss 209.533, len train loss 4.263, col train loss 135.029\n"
     ]
    },
    {
     "name": "stderr",
     "output_type": "stream",
     "text": [
      "Epoch 2093: 3batch [00:00, 25.86batch/s, loss=7.16e+4]"
     ]
    },
    {
     "name": "stdout",
     "output_type": "stream",
     "text": [
      "epoch 2092: avg test  loss 73380.91, bar  test loss 90.529, len  test loss 1.829, col  test loss 58.643\n"
     ]
    },
    {
     "name": "stderr",
     "output_type": "stream",
     "text": [
      "Epoch 2093: 272batch [00:09, 28.48batch/s, loss=6.35e+4]\n"
     ]
    },
    {
     "name": "stdout",
     "output_type": "stream",
     "text": [
      "epoch 2093: avg train loss 72818.77, bar train loss 209.532, len train loss 4.263, col train loss 135.015\n"
     ]
    },
    {
     "name": "stderr",
     "output_type": "stream",
     "text": [
      "Epoch 2094: 3batch [00:00, 27.52batch/s, loss=7.76e+4]"
     ]
    },
    {
     "name": "stdout",
     "output_type": "stream",
     "text": [
      "epoch 2093: avg test  loss 73252.54, bar  test loss 90.218, len  test loss 1.833, col  test loss 58.311\n"
     ]
    },
    {
     "name": "stderr",
     "output_type": "stream",
     "text": [
      "Epoch 2094: 272batch [00:09, 28.07batch/s, loss=7.21e+4]\n"
     ]
    },
    {
     "name": "stdout",
     "output_type": "stream",
     "text": [
      "epoch 2094: avg train loss 72814.92, bar train loss 209.504, len train loss 4.264, col train loss 134.939\n"
     ]
    },
    {
     "name": "stderr",
     "output_type": "stream",
     "text": [
      "Epoch 2095: 3batch [00:00, 27.52batch/s, loss=7.23e+4]"
     ]
    },
    {
     "name": "stdout",
     "output_type": "stream",
     "text": [
      "epoch 2094: avg test  loss 73253.77, bar  test loss 90.231, len  test loss 1.827, col  test loss 58.277\n"
     ]
    },
    {
     "name": "stderr",
     "output_type": "stream",
     "text": [
      "Epoch 2095: 272batch [00:09, 27.88batch/s, loss=6.59e+4]\n"
     ]
    },
    {
     "name": "stdout",
     "output_type": "stream",
     "text": [
      "epoch 2095: avg train loss 72821.81, bar train loss 209.508, len train loss 4.263, col train loss 134.959\n",
      "epoch 2095: avg test  loss 73238.54, bar  test loss 90.101, len  test loss 1.831, col  test loss 58.285\n"
     ]
    },
    {
     "name": "stderr",
     "output_type": "stream",
     "text": [
      "Epoch 2096: 272batch [00:10, 25.92batch/s, loss=7.75e+4]\n"
     ]
    },
    {
     "name": "stdout",
     "output_type": "stream",
     "text": [
      "epoch 2096: avg train loss 72820.15, bar train loss 209.507, len train loss 4.263, col train loss 134.970\n"
     ]
    },
    {
     "name": "stderr",
     "output_type": "stream",
     "text": [
      "Epoch 2097: 3batch [00:00, 26.79batch/s, loss=7.15e+4]"
     ]
    },
    {
     "name": "stdout",
     "output_type": "stream",
     "text": [
      "epoch 2096: avg test  loss 73230.95, bar  test loss 90.235, len  test loss 1.827, col  test loss 58.406\n"
     ]
    },
    {
     "name": "stderr",
     "output_type": "stream",
     "text": [
      "Epoch 2097: 272batch [00:09, 27.99batch/s, loss=7.23e+4]\n"
     ]
    },
    {
     "name": "stdout",
     "output_type": "stream",
     "text": [
      "epoch 2097: avg train loss 72807.95, bar train loss 209.500, len train loss 4.263, col train loss 134.968\n"
     ]
    },
    {
     "name": "stderr",
     "output_type": "stream",
     "text": [
      "Epoch 2098: 3batch [00:00, 27.03batch/s, loss=7.39e+4]"
     ]
    },
    {
     "name": "stdout",
     "output_type": "stream",
     "text": [
      "epoch 2097: avg test  loss 73214.97, bar  test loss 90.304, len  test loss 1.833, col  test loss 58.374\n"
     ]
    },
    {
     "name": "stderr",
     "output_type": "stream",
     "text": [
      "Epoch 2098: 272batch [00:09, 27.57batch/s, loss=7.13e+4]\n"
     ]
    },
    {
     "name": "stdout",
     "output_type": "stream",
     "text": [
      "epoch 2098: avg train loss 72809.90, bar train loss 209.490, len train loss 4.265, col train loss 134.951\n"
     ]
    },
    {
     "name": "stderr",
     "output_type": "stream",
     "text": [
      "Epoch 2099: 3batch [00:00, 26.09batch/s, loss=7.43e+4]"
     ]
    },
    {
     "name": "stdout",
     "output_type": "stream",
     "text": [
      "epoch 2098: avg test  loss 73235.26, bar  test loss 90.244, len  test loss 1.828, col  test loss 58.349\n"
     ]
    },
    {
     "name": "stderr",
     "output_type": "stream",
     "text": [
      "Epoch 2099: 272batch [00:09, 27.39batch/s, loss=7e+4]   \n"
     ]
    },
    {
     "name": "stdout",
     "output_type": "stream",
     "text": [
      "epoch 2099: avg train loss 72819.52, bar train loss 209.523, len train loss 4.263, col train loss 134.983\n"
     ]
    },
    {
     "name": "stderr",
     "output_type": "stream",
     "text": [
      "Epoch 2100: 3batch [00:00, 25.00batch/s, loss=7.13e+4]"
     ]
    },
    {
     "name": "stdout",
     "output_type": "stream",
     "text": [
      "epoch 2099: avg test  loss 73234.74, bar  test loss 90.215, len  test loss 1.827, col  test loss 58.425\n"
     ]
    },
    {
     "name": "stderr",
     "output_type": "stream",
     "text": [
      "Epoch 2100: 272batch [00:10, 27.01batch/s, loss=6.83e+4]\n"
     ]
    },
    {
     "name": "stdout",
     "output_type": "stream",
     "text": [
      "epoch 2100: avg train loss 72814.29, bar train loss 209.489, len train loss 4.262, col train loss 134.939\n",
      "epoch 2100: avg test  loss 73217.55, bar  test loss 90.182, len  test loss 1.830, col  test loss 58.367\n"
     ]
    },
    {
     "name": "stderr",
     "output_type": "stream",
     "text": [
      "Epoch 2101: 272batch [00:10, 26.45batch/s, loss=7.39e+4]\n"
     ]
    },
    {
     "name": "stdout",
     "output_type": "stream",
     "text": [
      "epoch 2101: avg train loss 72815.86, bar train loss 209.505, len train loss 4.263, col train loss 134.956\n"
     ]
    },
    {
     "name": "stderr",
     "output_type": "stream",
     "text": [
      "Epoch 2102: 3batch [00:00, 25.42batch/s, loss=7.05e+4]"
     ]
    },
    {
     "name": "stdout",
     "output_type": "stream",
     "text": [
      "epoch 2101: avg test  loss 73272.63, bar  test loss 90.090, len  test loss 1.826, col  test loss 58.282\n"
     ]
    },
    {
     "name": "stderr",
     "output_type": "stream",
     "text": [
      "Epoch 2102: 272batch [00:10, 26.52batch/s, loss=7.7e+4] \n"
     ]
    },
    {
     "name": "stdout",
     "output_type": "stream",
     "text": [
      "epoch 2102: avg train loss 72813.63, bar train loss 209.537, len train loss 4.262, col train loss 134.968\n"
     ]
    },
    {
     "name": "stderr",
     "output_type": "stream",
     "text": [
      "Epoch 2103: 3batch [00:00, 26.32batch/s, loss=7.51e+4]"
     ]
    },
    {
     "name": "stdout",
     "output_type": "stream",
     "text": [
      "epoch 2102: avg test  loss 73232.85, bar  test loss 90.190, len  test loss 1.824, col  test loss 58.348\n"
     ]
    },
    {
     "name": "stderr",
     "output_type": "stream",
     "text": [
      "Epoch 2103: 272batch [00:10, 26.12batch/s, loss=6.92e+4]\n"
     ]
    },
    {
     "name": "stdout",
     "output_type": "stream",
     "text": [
      "epoch 2103: avg train loss 72811.83, bar train loss 209.513, len train loss 4.264, col train loss 134.968\n"
     ]
    },
    {
     "name": "stderr",
     "output_type": "stream",
     "text": [
      "Epoch 2104: 3batch [00:00, 23.26batch/s, loss=7.7e+4]"
     ]
    },
    {
     "name": "stdout",
     "output_type": "stream",
     "text": [
      "epoch 2103: avg test  loss 73224.09, bar  test loss 90.175, len  test loss 1.832, col  test loss 58.328\n"
     ]
    },
    {
     "name": "stderr",
     "output_type": "stream",
     "text": [
      "Epoch 2104: 272batch [00:10, 25.46batch/s, loss=7.12e+4]\n"
     ]
    },
    {
     "name": "stdout",
     "output_type": "stream",
     "text": [
      "epoch 2104: avg train loss 72818.23, bar train loss 209.515, len train loss 4.263, col train loss 134.991\n"
     ]
    },
    {
     "name": "stderr",
     "output_type": "stream",
     "text": [
      "Epoch 2105: 3batch [00:00, 23.81batch/s, loss=7.38e+4]"
     ]
    },
    {
     "name": "stdout",
     "output_type": "stream",
     "text": [
      "epoch 2104: avg test  loss 73224.88, bar  test loss 90.364, len  test loss 1.827, col  test loss 58.446\n"
     ]
    },
    {
     "name": "stderr",
     "output_type": "stream",
     "text": [
      "Epoch 2105: 272batch [00:10, 24.87batch/s, loss=7.9e+4] \n"
     ]
    },
    {
     "name": "stdout",
     "output_type": "stream",
     "text": [
      "epoch 2105: avg train loss 72817.88, bar train loss 209.533, len train loss 4.263, col train loss 134.992\n",
      "epoch 2105: avg test  loss 73238.38, bar  test loss 90.177, len  test loss 1.832, col  test loss 58.273\n"
     ]
    },
    {
     "name": "stderr",
     "output_type": "stream",
     "text": [
      "Epoch 2106: 272batch [00:11, 24.15batch/s, loss=7.27e+4]\n"
     ]
    },
    {
     "name": "stdout",
     "output_type": "stream",
     "text": [
      "epoch 2106: avg train loss 72807.73, bar train loss 209.492, len train loss 4.264, col train loss 134.944\n"
     ]
    },
    {
     "name": "stderr",
     "output_type": "stream",
     "text": [
      "Epoch 2107: 3batch [00:00, 24.79batch/s, loss=7.53e+4]"
     ]
    },
    {
     "name": "stdout",
     "output_type": "stream",
     "text": [
      "epoch 2106: avg test  loss 73207.33, bar  test loss 90.175, len  test loss 1.832, col  test loss 58.388\n"
     ]
    },
    {
     "name": "stderr",
     "output_type": "stream",
     "text": [
      "Epoch 2107: 272batch [00:11, 24.13batch/s, loss=7.3e+4] \n"
     ]
    },
    {
     "name": "stdout",
     "output_type": "stream",
     "text": [
      "epoch 2107: avg train loss 72813.34, bar train loss 209.528, len train loss 4.263, col train loss 134.974\n"
     ]
    },
    {
     "name": "stderr",
     "output_type": "stream",
     "text": [
      "Epoch 2108: 3batch [00:00, 23.81batch/s, loss=7.48e+4]"
     ]
    },
    {
     "name": "stdout",
     "output_type": "stream",
     "text": [
      "epoch 2107: avg test  loss 73268.06, bar  test loss 90.304, len  test loss 1.831, col  test loss 58.456\n"
     ]
    },
    {
     "name": "stderr",
     "output_type": "stream",
     "text": [
      "Epoch 2108: 272batch [00:11, 23.54batch/s, loss=6.69e+4]\n"
     ]
    },
    {
     "name": "stdout",
     "output_type": "stream",
     "text": [
      "epoch 2108: avg train loss 72808.30, bar train loss 209.485, len train loss 4.264, col train loss 135.001\n"
     ]
    },
    {
     "name": "stderr",
     "output_type": "stream",
     "text": [
      "Epoch 2109: 3batch [00:00, 23.62batch/s, loss=7.1e+4]"
     ]
    },
    {
     "name": "stdout",
     "output_type": "stream",
     "text": [
      "epoch 2108: avg test  loss 73212.21, bar  test loss 90.045, len  test loss 1.828, col  test loss 58.209\n"
     ]
    },
    {
     "name": "stderr",
     "output_type": "stream",
     "text": [
      "Epoch 2109: 272batch [00:11, 23.59batch/s, loss=7.07e+4]\n"
     ]
    },
    {
     "name": "stdout",
     "output_type": "stream",
     "text": [
      "epoch 2109: avg train loss 72807.31, bar train loss 209.467, len train loss 4.262, col train loss 134.942\n"
     ]
    },
    {
     "name": "stderr",
     "output_type": "stream",
     "text": [
      "Epoch 2110: 3batch [00:00, 24.00batch/s, loss=7.16e+4]"
     ]
    },
    {
     "name": "stdout",
     "output_type": "stream",
     "text": [
      "epoch 2109: avg test  loss 73261.33, bar  test loss 90.320, len  test loss 1.829, col  test loss 58.557\n"
     ]
    },
    {
     "name": "stderr",
     "output_type": "stream",
     "text": [
      "Epoch 2110: 272batch [00:11, 23.30batch/s, loss=7.99e+4]\n"
     ]
    },
    {
     "name": "stdout",
     "output_type": "stream",
     "text": [
      "epoch 2110: avg train loss 72811.14, bar train loss 209.503, len train loss 4.263, col train loss 134.962\n",
      "epoch 2110: avg test  loss 73289.18, bar  test loss 90.366, len  test loss 1.828, col  test loss 58.592\n"
     ]
    },
    {
     "name": "stderr",
     "output_type": "stream",
     "text": [
      "Epoch 2111: 272batch [00:11, 22.81batch/s, loss=8.02e+4]\n"
     ]
    },
    {
     "name": "stdout",
     "output_type": "stream",
     "text": [
      "epoch 2111: avg train loss 72816.81, bar train loss 209.523, len train loss 4.265, col train loss 134.979\n"
     ]
    },
    {
     "name": "stderr",
     "output_type": "stream",
     "text": [
      "Epoch 2112: 3batch [00:00, 22.90batch/s, loss=75175.5]"
     ]
    },
    {
     "name": "stdout",
     "output_type": "stream",
     "text": [
      "epoch 2111: avg test  loss 73249.37, bar  test loss 90.289, len  test loss 1.829, col  test loss 58.445\n"
     ]
    },
    {
     "name": "stderr",
     "output_type": "stream",
     "text": [
      "Epoch 2112: 272batch [00:12, 22.57batch/s, loss=6.79e+4]\n"
     ]
    },
    {
     "name": "stdout",
     "output_type": "stream",
     "text": [
      "epoch 2112: avg train loss 72810.41, bar train loss 209.519, len train loss 4.263, col train loss 134.978\n"
     ]
    },
    {
     "name": "stderr",
     "output_type": "stream",
     "text": [
      "Epoch 2113: 2batch [00:00, 19.80batch/s, loss=7e+4]   "
     ]
    },
    {
     "name": "stdout",
     "output_type": "stream",
     "text": [
      "epoch 2112: avg test  loss 73250.49, bar  test loss 90.118, len  test loss 1.831, col  test loss 58.276\n"
     ]
    },
    {
     "name": "stderr",
     "output_type": "stream",
     "text": [
      "Epoch 2113: 272batch [00:12, 22.34batch/s, loss=6.98e+4]\n"
     ]
    },
    {
     "name": "stdout",
     "output_type": "stream",
     "text": [
      "epoch 2113: avg train loss 72814.45, bar train loss 209.502, len train loss 4.265, col train loss 134.979\n"
     ]
    },
    {
     "name": "stderr",
     "output_type": "stream",
     "text": [
      "Epoch 2114: 3batch [00:00, 22.73batch/s, loss=7.2e+4] "
     ]
    },
    {
     "name": "stdout",
     "output_type": "stream",
     "text": [
      "epoch 2113: avg test  loss 73280.94, bar  test loss 90.136, len  test loss 1.833, col  test loss 58.330\n"
     ]
    },
    {
     "name": "stderr",
     "output_type": "stream",
     "text": [
      "Epoch 2114: 272batch [00:12, 22.06batch/s, loss=7.38e+4]\n"
     ]
    },
    {
     "name": "stdout",
     "output_type": "stream",
     "text": [
      "epoch 2114: avg train loss 72810.55, bar train loss 209.494, len train loss 4.264, col train loss 134.953\n"
     ]
    },
    {
     "name": "stderr",
     "output_type": "stream",
     "text": [
      "Epoch 2115: 3batch [00:00, 22.56batch/s, loss=6.86e+4]"
     ]
    },
    {
     "name": "stdout",
     "output_type": "stream",
     "text": [
      "epoch 2114: avg test  loss 73236.27, bar  test loss 90.282, len  test loss 1.832, col  test loss 58.439\n"
     ]
    },
    {
     "name": "stderr",
     "output_type": "stream",
     "text": [
      "Epoch 2115: 272batch [00:12, 22.01batch/s, loss=7.06e+4]\n"
     ]
    },
    {
     "name": "stdout",
     "output_type": "stream",
     "text": [
      "epoch 2115: avg train loss 72808.04, bar train loss 209.481, len train loss 4.258, col train loss 134.927\n",
      "epoch 2115: avg test  loss 73276.53, bar  test loss 90.474, len  test loss 1.832, col  test loss 58.535\n"
     ]
    },
    {
     "name": "stderr",
     "output_type": "stream",
     "text": [
      "Epoch 2116: 272batch [00:12, 21.54batch/s, loss=6.8e+4] \n"
     ]
    },
    {
     "name": "stdout",
     "output_type": "stream",
     "text": [
      "epoch 2116: avg train loss 72817.60, bar train loss 209.501, len train loss 4.264, col train loss 134.943\n"
     ]
    },
    {
     "name": "stderr",
     "output_type": "stream",
     "text": [
      "Epoch 2117: 3batch [00:00, 22.56batch/s, loss=7.43e+4]"
     ]
    },
    {
     "name": "stdout",
     "output_type": "stream",
     "text": [
      "epoch 2116: avg test  loss 73285.91, bar  test loss 90.224, len  test loss 1.830, col  test loss 58.255\n"
     ]
    },
    {
     "name": "stderr",
     "output_type": "stream",
     "text": [
      "Epoch 2117: 272batch [00:12, 21.47batch/s, loss=67075.5]\n"
     ]
    },
    {
     "name": "stdout",
     "output_type": "stream",
     "text": [
      "epoch 2117: avg train loss 72808.59, bar train loss 209.499, len train loss 4.264, col train loss 134.964\n"
     ]
    },
    {
     "name": "stderr",
     "output_type": "stream",
     "text": [
      "Epoch 2118: 3batch [00:00, 20.98batch/s, loss=7.34e+4]"
     ]
    },
    {
     "name": "stdout",
     "output_type": "stream",
     "text": [
      "epoch 2117: avg test  loss 73291.38, bar  test loss 90.357, len  test loss 1.831, col  test loss 58.366\n"
     ]
    },
    {
     "name": "stderr",
     "output_type": "stream",
     "text": [
      "Epoch 2118: 272batch [00:12, 21.14batch/s, loss=7.41e+4]\n"
     ]
    },
    {
     "name": "stdout",
     "output_type": "stream",
     "text": [
      "epoch 2118: avg train loss 72806.98, bar train loss 209.501, len train loss 4.266, col train loss 134.927\n"
     ]
    },
    {
     "name": "stderr",
     "output_type": "stream",
     "text": [
      "Epoch 2119: 3batch [00:00, 20.83batch/s, loss=7.21e+4]"
     ]
    },
    {
     "name": "stdout",
     "output_type": "stream",
     "text": [
      "epoch 2118: avg test  loss 73213.77, bar  test loss 90.203, len  test loss 1.832, col  test loss 58.364\n"
     ]
    },
    {
     "name": "stderr",
     "output_type": "stream",
     "text": [
      "Epoch 2119: 272batch [00:12, 20.99batch/s, loss=7.06e+4]\n"
     ]
    },
    {
     "name": "stdout",
     "output_type": "stream",
     "text": [
      "epoch 2119: avg train loss 72811.04, bar train loss 209.474, len train loss 4.259, col train loss 134.923\n"
     ]
    },
    {
     "name": "stderr",
     "output_type": "stream",
     "text": [
      "Epoch 2120: 3batch [00:00, 21.43batch/s, loss=7.27e+4]"
     ]
    },
    {
     "name": "stdout",
     "output_type": "stream",
     "text": [
      "epoch 2119: avg test  loss 73231.39, bar  test loss 90.234, len  test loss 1.823, col  test loss 58.477\n"
     ]
    },
    {
     "name": "stderr",
     "output_type": "stream",
     "text": [
      "Epoch 2120: 272batch [00:13, 20.72batch/s, loss=7.81e+4]\n"
     ]
    },
    {
     "name": "stdout",
     "output_type": "stream",
     "text": [
      "epoch 2120: avg train loss 72814.44, bar train loss 209.466, len train loss 4.261, col train loss 134.969\n",
      "epoch 2120: avg test  loss 73277.05, bar  test loss 90.177, len  test loss 1.829, col  test loss 58.514\n"
     ]
    },
    {
     "name": "stderr",
     "output_type": "stream",
     "text": [
      "Epoch 2121: 272batch [00:13, 20.67batch/s, loss=7.29e+4]\n"
     ]
    },
    {
     "name": "stdout",
     "output_type": "stream",
     "text": [
      "epoch 2121: avg train loss 72803.72, bar train loss 209.458, len train loss 4.260, col train loss 134.955\n"
     ]
    },
    {
     "name": "stderr",
     "output_type": "stream",
     "text": [
      "Epoch 2122: 3batch [00:00, 22.06batch/s, loss=7.46e+4]"
     ]
    },
    {
     "name": "stdout",
     "output_type": "stream",
     "text": [
      "epoch 2121: avg test  loss 73234.48, bar  test loss 90.190, len  test loss 1.829, col  test loss 58.469\n"
     ]
    },
    {
     "name": "stderr",
     "output_type": "stream",
     "text": [
      "Epoch 2122: 272batch [00:13, 20.76batch/s, loss=6.97e+4]\n"
     ]
    },
    {
     "name": "stdout",
     "output_type": "stream",
     "text": [
      "epoch 2122: avg train loss 72803.79, bar train loss 209.458, len train loss 4.263, col train loss 134.940\n"
     ]
    },
    {
     "name": "stderr",
     "output_type": "stream",
     "text": [
      "Epoch 2123: 3batch [00:00, 21.43batch/s, loss=7.61e+4]"
     ]
    },
    {
     "name": "stdout",
     "output_type": "stream",
     "text": [
      "epoch 2122: avg test  loss 73245.05, bar  test loss 90.292, len  test loss 1.829, col  test loss 58.480\n"
     ]
    },
    {
     "name": "stderr",
     "output_type": "stream",
     "text": [
      "Epoch 2123: 272batch [00:13, 20.67batch/s, loss=6.93e+4]\n"
     ]
    },
    {
     "name": "stdout",
     "output_type": "stream",
     "text": [
      "epoch 2123: avg train loss 72807.31, bar train loss 209.511, len train loss 4.262, col train loss 134.948\n"
     ]
    },
    {
     "name": "stderr",
     "output_type": "stream",
     "text": [
      "Epoch 2124: 3batch [00:00, 20.69batch/s, loss=7.34e+4]"
     ]
    },
    {
     "name": "stdout",
     "output_type": "stream",
     "text": [
      "epoch 2123: avg test  loss 73239.71, bar  test loss 90.134, len  test loss 1.826, col  test loss 58.303\n"
     ]
    },
    {
     "name": "stderr",
     "output_type": "stream",
     "text": [
      "Epoch 2124: 272batch [00:13, 20.31batch/s, loss=7.61e+4]\n"
     ]
    },
    {
     "name": "stdout",
     "output_type": "stream",
     "text": [
      "epoch 2124: avg train loss 72807.59, bar train loss 209.495, len train loss 4.261, col train loss 134.944\n"
     ]
    },
    {
     "name": "stderr",
     "output_type": "stream",
     "text": [
      "Epoch 2125: 3batch [00:00, 22.06batch/s, loss=7.1e+4]"
     ]
    },
    {
     "name": "stdout",
     "output_type": "stream",
     "text": [
      "epoch 2124: avg test  loss 73283.46, bar  test loss 90.162, len  test loss 1.827, col  test loss 58.349\n"
     ]
    },
    {
     "name": "stderr",
     "output_type": "stream",
     "text": [
      "Epoch 2125: 272batch [00:13, 20.59batch/s, loss=6.88e+4]\n"
     ]
    },
    {
     "name": "stdout",
     "output_type": "stream",
     "text": [
      "epoch 2125: avg train loss 72805.67, bar train loss 209.479, len train loss 4.262, col train loss 134.942\n",
      "epoch 2125: avg test  loss 73234.84, bar  test loss 90.187, len  test loss 1.826, col  test loss 58.330\n"
     ]
    },
    {
     "name": "stderr",
     "output_type": "stream",
     "text": [
      "Epoch 2126: 272batch [00:13, 20.52batch/s, loss=7.22e+4]\n"
     ]
    },
    {
     "name": "stdout",
     "output_type": "stream",
     "text": [
      "epoch 2126: avg train loss 72811.22, bar train loss 209.535, len train loss 4.264, col train loss 134.971\n"
     ]
    },
    {
     "name": "stderr",
     "output_type": "stream",
     "text": [
      "Epoch 2127: 3batch [00:00, 21.43batch/s, loss=7.36e+4]"
     ]
    },
    {
     "name": "stdout",
     "output_type": "stream",
     "text": [
      "epoch 2126: avg test  loss 73245.70, bar  test loss 90.419, len  test loss 1.825, col  test loss 58.491\n"
     ]
    },
    {
     "name": "stderr",
     "output_type": "stream",
     "text": [
      "Epoch 2127: 272batch [00:13, 20.61batch/s, loss=8.05e+4]\n"
     ]
    },
    {
     "name": "stdout",
     "output_type": "stream",
     "text": [
      "epoch 2127: avg train loss 72807.24, bar train loss 209.480, len train loss 4.262, col train loss 134.931\n"
     ]
    },
    {
     "name": "stderr",
     "output_type": "stream",
     "text": [
      "Epoch 2128: 3batch [00:00, 20.69batch/s, loss=7.55e+4]"
     ]
    },
    {
     "name": "stdout",
     "output_type": "stream",
     "text": [
      "epoch 2127: avg test  loss 73241.92, bar  test loss 90.248, len  test loss 1.832, col  test loss 58.424\n"
     ]
    },
    {
     "name": "stderr",
     "output_type": "stream",
     "text": [
      "Epoch 2128: 272batch [00:13, 20.33batch/s, loss=6.76e+4]\n"
     ]
    },
    {
     "name": "stdout",
     "output_type": "stream",
     "text": [
      "epoch 2128: avg train loss 72803.38, bar train loss 209.452, len train loss 4.262, col train loss 134.951\n"
     ]
    },
    {
     "name": "stderr",
     "output_type": "stream",
     "text": [
      "Epoch 2129: 3batch [00:00, 21.13batch/s, loss=7.48e+4]"
     ]
    },
    {
     "name": "stdout",
     "output_type": "stream",
     "text": [
      "epoch 2128: avg test  loss 73222.45, bar  test loss 90.247, len  test loss 1.825, col  test loss 58.367\n"
     ]
    },
    {
     "name": "stderr",
     "output_type": "stream",
     "text": [
      "Epoch 2129: 272batch [00:13, 20.50batch/s, loss=7.35e+4]\n"
     ]
    },
    {
     "name": "stdout",
     "output_type": "stream",
     "text": [
      "epoch 2129: avg train loss 72809.72, bar train loss 209.499, len train loss 4.263, col train loss 134.982\n"
     ]
    },
    {
     "name": "stderr",
     "output_type": "stream",
     "text": [
      "Epoch 2130: 3batch [00:00, 20.98batch/s, loss=7.59e+4]"
     ]
    },
    {
     "name": "stdout",
     "output_type": "stream",
     "text": [
      "epoch 2129: avg test  loss 73260.88, bar  test loss 90.424, len  test loss 1.829, col  test loss 58.446\n"
     ]
    },
    {
     "name": "stderr",
     "output_type": "stream",
     "text": [
      "Epoch 2130: 272batch [00:13, 20.62batch/s, loss=7.1e+4] \n"
     ]
    },
    {
     "name": "stdout",
     "output_type": "stream",
     "text": [
      "epoch 2130: avg train loss 72807.73, bar train loss 209.489, len train loss 4.264, col train loss 134.954\n",
      "epoch 2130: avg test  loss 73218.38, bar  test loss 90.074, len  test loss 1.831, col  test loss 58.237\n"
     ]
    },
    {
     "name": "stderr",
     "output_type": "stream",
     "text": [
      "Epoch 2131: 272batch [00:13, 20.56batch/s, loss=6.67e+4]\n"
     ]
    },
    {
     "name": "stdout",
     "output_type": "stream",
     "text": [
      "epoch 2131: avg train loss 72805.98, bar train loss 209.493, len train loss 4.267, col train loss 134.927\n"
     ]
    },
    {
     "name": "stderr",
     "output_type": "stream",
     "text": [
      "Epoch 2132: 3batch [00:00, 21.13batch/s, loss=7.74e+4]"
     ]
    },
    {
     "name": "stdout",
     "output_type": "stream",
     "text": [
      "epoch 2131: avg test  loss 73303.55, bar  test loss 90.329, len  test loss 1.837, col  test loss 58.478\n"
     ]
    },
    {
     "name": "stderr",
     "output_type": "stream",
     "text": [
      "Epoch 2132: 272batch [00:13, 20.51batch/s, loss=7.69e+4]\n"
     ]
    },
    {
     "name": "stdout",
     "output_type": "stream",
     "text": [
      "epoch 2132: avg train loss 72808.29, bar train loss 209.472, len train loss 4.266, col train loss 134.917\n"
     ]
    },
    {
     "name": "stderr",
     "output_type": "stream",
     "text": [
      "Epoch 2133: 2batch [00:00, 18.18batch/s, loss=7.29e+4]"
     ]
    },
    {
     "name": "stdout",
     "output_type": "stream",
     "text": [
      "epoch 2132: avg test  loss 73210.55, bar  test loss 90.182, len  test loss 1.832, col  test loss 58.373\n"
     ]
    },
    {
     "name": "stderr",
     "output_type": "stream",
     "text": [
      "Epoch 2133: 272batch [00:13, 20.55batch/s, loss=6.96e+4]\n"
     ]
    },
    {
     "name": "stdout",
     "output_type": "stream",
     "text": [
      "epoch 2133: avg train loss 72804.97, bar train loss 209.501, len train loss 4.262, col train loss 134.930\n"
     ]
    },
    {
     "name": "stderr",
     "output_type": "stream",
     "text": [
      "Epoch 2134: 3batch [00:00, 20.69batch/s, loss=7.19e+4]"
     ]
    },
    {
     "name": "stdout",
     "output_type": "stream",
     "text": [
      "epoch 2133: avg test  loss 73206.09, bar  test loss 90.217, len  test loss 1.825, col  test loss 58.448\n"
     ]
    },
    {
     "name": "stderr",
     "output_type": "stream",
     "text": [
      "Epoch 2134: 272batch [00:13, 20.46batch/s, loss=6.73e+4]\n"
     ]
    },
    {
     "name": "stdout",
     "output_type": "stream",
     "text": [
      "epoch 2134: avg train loss 72807.55, bar train loss 209.461, len train loss 4.265, col train loss 134.952\n"
     ]
    },
    {
     "name": "stderr",
     "output_type": "stream",
     "text": [
      "Epoch 2135: 3batch [00:00, 20.27batch/s, loss=7.34e+4]"
     ]
    },
    {
     "name": "stdout",
     "output_type": "stream",
     "text": [
      "epoch 2134: avg test  loss 73223.38, bar  test loss 90.188, len  test loss 1.833, col  test loss 58.263\n"
     ]
    },
    {
     "name": "stderr",
     "output_type": "stream",
     "text": [
      "Epoch 2135: 272batch [00:13, 20.42batch/s, loss=7.48e+4]\n"
     ]
    },
    {
     "name": "stdout",
     "output_type": "stream",
     "text": [
      "epoch 2135: avg train loss 72802.16, bar train loss 209.454, len train loss 4.267, col train loss 134.908\n",
      "epoch 2135: avg test  loss 73255.97, bar  test loss 90.098, len  test loss 1.824, col  test loss 58.448\n"
     ]
    },
    {
     "name": "stderr",
     "output_type": "stream",
     "text": [
      "Epoch 2136: 272batch [00:13, 20.43batch/s, loss=7.07e+4]\n"
     ]
    },
    {
     "name": "stdout",
     "output_type": "stream",
     "text": [
      "epoch 2136: avg train loss 72807.91, bar train loss 209.509, len train loss 4.266, col train loss 134.965\n"
     ]
    },
    {
     "name": "stderr",
     "output_type": "stream",
     "text": [
      "Epoch 2137: 3batch [00:00, 20.55batch/s, loss=7.23e+4]"
     ]
    },
    {
     "name": "stdout",
     "output_type": "stream",
     "text": [
      "epoch 2136: avg test  loss 73235.88, bar  test loss 90.317, len  test loss 1.830, col  test loss 58.365\n"
     ]
    },
    {
     "name": "stderr",
     "output_type": "stream",
     "text": [
      "Epoch 2137: 272batch [00:13, 20.08batch/s, loss=7.24e+4]\n"
     ]
    },
    {
     "name": "stdout",
     "output_type": "stream",
     "text": [
      "epoch 2137: avg train loss 72796.91, bar train loss 209.474, len train loss 4.261, col train loss 134.892\n"
     ]
    },
    {
     "name": "stderr",
     "output_type": "stream",
     "text": [
      "Epoch 2138: 3batch [00:00, 20.83batch/s, loss=7.18e+4]"
     ]
    },
    {
     "name": "stdout",
     "output_type": "stream",
     "text": [
      "epoch 2137: avg test  loss 73258.66, bar  test loss 90.058, len  test loss 1.827, col  test loss 58.374\n"
     ]
    },
    {
     "name": "stderr",
     "output_type": "stream",
     "text": [
      "Epoch 2138: 272batch [00:13, 20.17batch/s, loss=7.09e+4]\n"
     ]
    },
    {
     "name": "stdout",
     "output_type": "stream",
     "text": [
      "epoch 2138: avg train loss 72798.34, bar train loss 209.466, len train loss 4.265, col train loss 134.892\n"
     ]
    },
    {
     "name": "stderr",
     "output_type": "stream",
     "text": [
      "Epoch 2139: 3batch [00:00, 22.22batch/s, loss=7.32e+4]"
     ]
    },
    {
     "name": "stdout",
     "output_type": "stream",
     "text": [
      "epoch 2138: avg test  loss 73285.32, bar  test loss 90.122, len  test loss 1.829, col  test loss 58.325\n"
     ]
    },
    {
     "name": "stderr",
     "output_type": "stream",
     "text": [
      "Epoch 2139: 272batch [00:13, 20.33batch/s, loss=7.28e+4]\n"
     ]
    },
    {
     "name": "stdout",
     "output_type": "stream",
     "text": [
      "epoch 2139: avg train loss 72808.58, bar train loss 209.476, len train loss 4.261, col train loss 134.949\n"
     ]
    },
    {
     "name": "stderr",
     "output_type": "stream",
     "text": [
      "Epoch 2140: 3batch [00:00, 20.55batch/s, loss=7.45e+4]"
     ]
    },
    {
     "name": "stdout",
     "output_type": "stream",
     "text": [
      "epoch 2139: avg test  loss 73261.11, bar  test loss 90.296, len  test loss 1.830, col  test loss 58.459\n"
     ]
    },
    {
     "name": "stderr",
     "output_type": "stream",
     "text": [
      "Epoch 2140: 272batch [00:13, 19.88batch/s, loss=7.77e+4]\n"
     ]
    },
    {
     "name": "stdout",
     "output_type": "stream",
     "text": [
      "epoch 2140: avg train loss 72805.09, bar train loss 209.481, len train loss 4.262, col train loss 134.941\n",
      "epoch 2140: avg test  loss 73192.99, bar  test loss 90.248, len  test loss 1.829, col  test loss 58.366\n"
     ]
    },
    {
     "name": "stderr",
     "output_type": "stream",
     "text": [
      "Epoch 2141: 272batch [00:13, 20.30batch/s, loss=6.99e+4]\n"
     ]
    },
    {
     "name": "stdout",
     "output_type": "stream",
     "text": [
      "epoch 2141: avg train loss 72801.45, bar train loss 209.477, len train loss 4.260, col train loss 134.940\n"
     ]
    },
    {
     "name": "stderr",
     "output_type": "stream",
     "text": [
      "Epoch 2142: 3batch [00:00, 20.55batch/s, loss=7.43e+4]"
     ]
    },
    {
     "name": "stdout",
     "output_type": "stream",
     "text": [
      "epoch 2141: avg test  loss 73231.53, bar  test loss 90.292, len  test loss 1.828, col  test loss 58.358\n"
     ]
    },
    {
     "name": "stderr",
     "output_type": "stream",
     "text": [
      "Epoch 2142: 272batch [00:13, 19.83batch/s, loss=6.63e+4]\n"
     ]
    },
    {
     "name": "stdout",
     "output_type": "stream",
     "text": [
      "epoch 2142: avg train loss 72804.23, bar train loss 209.479, len train loss 4.262, col train loss 134.951\n"
     ]
    },
    {
     "name": "stderr",
     "output_type": "stream",
     "text": [
      "Epoch 2143: 3batch [00:00, 20.98batch/s, loss=7.2e+4]"
     ]
    },
    {
     "name": "stdout",
     "output_type": "stream",
     "text": [
      "epoch 2142: avg test  loss 73231.87, bar  test loss 90.023, len  test loss 1.831, col  test loss 58.217\n"
     ]
    },
    {
     "name": "stderr",
     "output_type": "stream",
     "text": [
      "Epoch 2143: 272batch [00:13, 20.26batch/s, loss=7.92e+4]\n"
     ]
    },
    {
     "name": "stdout",
     "output_type": "stream",
     "text": [
      "epoch 2143: avg train loss 72795.27, bar train loss 209.434, len train loss 4.261, col train loss 134.878\n"
     ]
    },
    {
     "name": "stderr",
     "output_type": "stream",
     "text": [
      "Epoch 2144: 2batch [00:00, 19.61batch/s, loss=7.4e+4] "
     ]
    },
    {
     "name": "stdout",
     "output_type": "stream",
     "text": [
      "epoch 2143: avg test  loss 73207.38, bar  test loss 90.326, len  test loss 1.829, col  test loss 58.462\n"
     ]
    },
    {
     "name": "stderr",
     "output_type": "stream",
     "text": [
      "Epoch 2144: 272batch [00:13, 20.28batch/s, loss=7.33e+4]\n"
     ]
    },
    {
     "name": "stdout",
     "output_type": "stream",
     "text": [
      "epoch 2144: avg train loss 72805.94, bar train loss 209.455, len train loss 4.263, col train loss 134.918\n"
     ]
    },
    {
     "name": "stderr",
     "output_type": "stream",
     "text": [
      "Epoch 2145: 3batch [00:00, 19.87batch/s, loss=7.11e+4]"
     ]
    },
    {
     "name": "stdout",
     "output_type": "stream",
     "text": [
      "epoch 2144: avg test  loss 73260.11, bar  test loss 90.148, len  test loss 1.835, col  test loss 58.387\n"
     ]
    },
    {
     "name": "stderr",
     "output_type": "stream",
     "text": [
      "Epoch 2145: 272batch [00:13, 20.33batch/s, loss=7.67e+4]\n"
     ]
    },
    {
     "name": "stdout",
     "output_type": "stream",
     "text": [
      "epoch 2145: avg train loss 72805.48, bar train loss 209.471, len train loss 4.260, col train loss 134.958\n",
      "epoch 2145: avg test  loss 73233.98, bar  test loss 90.191, len  test loss 1.828, col  test loss 58.363\n"
     ]
    },
    {
     "name": "stderr",
     "output_type": "stream",
     "text": [
      "Epoch 2146: 272batch [00:13, 19.88batch/s, loss=7.57e+4]\n"
     ]
    },
    {
     "name": "stdout",
     "output_type": "stream",
     "text": [
      "epoch 2146: avg train loss 72807.91, bar train loss 209.427, len train loss 4.259, col train loss 134.957\n"
     ]
    },
    {
     "name": "stderr",
     "output_type": "stream",
     "text": [
      "Epoch 2147: 3batch [00:00, 20.68batch/s, loss=7.29e+4]"
     ]
    },
    {
     "name": "stdout",
     "output_type": "stream",
     "text": [
      "epoch 2146: avg test  loss 73236.85, bar  test loss 90.179, len  test loss 1.830, col  test loss 58.239\n"
     ]
    },
    {
     "name": "stderr",
     "output_type": "stream",
     "text": [
      "Epoch 2147: 272batch [00:13, 20.09batch/s, loss=7.43e+4]\n"
     ]
    },
    {
     "name": "stdout",
     "output_type": "stream",
     "text": [
      "epoch 2147: avg train loss 72800.00, bar train loss 209.441, len train loss 4.262, col train loss 134.904\n"
     ]
    },
    {
     "name": "stderr",
     "output_type": "stream",
     "text": [
      "Epoch 2148: 3batch [00:00, 20.27batch/s, loss=7.44e+4]"
     ]
    },
    {
     "name": "stdout",
     "output_type": "stream",
     "text": [
      "epoch 2147: avg test  loss 73253.50, bar  test loss 90.264, len  test loss 1.828, col  test loss 58.418\n"
     ]
    },
    {
     "name": "stderr",
     "output_type": "stream",
     "text": [
      "Epoch 2148: 272batch [00:13, 20.04batch/s, loss=8.92e+4]\n"
     ]
    },
    {
     "name": "stdout",
     "output_type": "stream",
     "text": [
      "epoch 2148: avg train loss 72804.94, bar train loss 209.472, len train loss 4.257, col train loss 134.919\n"
     ]
    },
    {
     "name": "stderr",
     "output_type": "stream",
     "text": [
      "Epoch 2149: 3batch [00:00, 20.55batch/s, loss=74803.5]"
     ]
    },
    {
     "name": "stdout",
     "output_type": "stream",
     "text": [
      "epoch 2148: avg test  loss 73284.00, bar  test loss 90.105, len  test loss 1.825, col  test loss 58.261\n"
     ]
    },
    {
     "name": "stderr",
     "output_type": "stream",
     "text": [
      "Epoch 2149: 272batch [00:13, 19.79batch/s, loss=6.98e+4]\n"
     ]
    },
    {
     "name": "stdout",
     "output_type": "stream",
     "text": [
      "epoch 2149: avg train loss 72805.11, bar train loss 209.473, len train loss 4.261, col train loss 134.927\n"
     ]
    },
    {
     "name": "stderr",
     "output_type": "stream",
     "text": [
      "Epoch 2150: 2batch [00:00, 19.80batch/s, loss=7.13e+4]"
     ]
    },
    {
     "name": "stdout",
     "output_type": "stream",
     "text": [
      "epoch 2149: avg test  loss 73220.87, bar  test loss 90.117, len  test loss 1.831, col  test loss 58.353\n"
     ]
    },
    {
     "name": "stderr",
     "output_type": "stream",
     "text": [
      "Epoch 2150: 272batch [00:13, 19.65batch/s, loss=6.84e+4]\n"
     ]
    },
    {
     "name": "stdout",
     "output_type": "stream",
     "text": [
      "epoch 2150: avg train loss 72802.80, bar train loss 209.496, len train loss 4.264, col train loss 134.925\n",
      "epoch 2150: avg test  loss 73202.30, bar  test loss 90.128, len  test loss 1.824, col  test loss 58.264\n"
     ]
    },
    {
     "name": "stderr",
     "output_type": "stream",
     "text": [
      "Epoch 2151: 272batch [00:13, 19.94batch/s, loss=7.42e+4]\n"
     ]
    },
    {
     "name": "stdout",
     "output_type": "stream",
     "text": [
      "epoch 2151: avg train loss 72791.77, bar train loss 209.434, len train loss 4.260, col train loss 134.894\n"
     ]
    },
    {
     "name": "stderr",
     "output_type": "stream",
     "text": [
      "Epoch 2152: 2batch [00:00, 20.00batch/s, loss=7.37e+4]"
     ]
    },
    {
     "name": "stdout",
     "output_type": "stream",
     "text": [
      "epoch 2151: avg test  loss 73272.71, bar  test loss 90.215, len  test loss 1.829, col  test loss 58.448\n"
     ]
    },
    {
     "name": "stderr",
     "output_type": "stream",
     "text": [
      "Epoch 2152: 272batch [00:13, 19.67batch/s, loss=7.52e+4]\n"
     ]
    },
    {
     "name": "stdout",
     "output_type": "stream",
     "text": [
      "epoch 2152: avg train loss 72801.83, bar train loss 209.459, len train loss 4.259, col train loss 134.932\n"
     ]
    },
    {
     "name": "stderr",
     "output_type": "stream",
     "text": [
      "Epoch 2153: 3batch [00:00, 20.55batch/s, loss=7.07e+4]"
     ]
    },
    {
     "name": "stdout",
     "output_type": "stream",
     "text": [
      "epoch 2152: avg test  loss 73246.14, bar  test loss 90.286, len  test loss 1.831, col  test loss 58.343\n"
     ]
    },
    {
     "name": "stderr",
     "output_type": "stream",
     "text": [
      "Epoch 2153: 272batch [00:13, 19.87batch/s, loss=7.13e+4]\n"
     ]
    },
    {
     "name": "stdout",
     "output_type": "stream",
     "text": [
      "epoch 2153: avg train loss 72791.16, bar train loss 209.455, len train loss 4.259, col train loss 134.900\n"
     ]
    },
    {
     "name": "stderr",
     "output_type": "stream",
     "text": [
      "Epoch 2154: 3batch [00:00, 19.74batch/s, loss=7.06e+4]"
     ]
    },
    {
     "name": "stdout",
     "output_type": "stream",
     "text": [
      "epoch 2153: avg test  loss 73249.45, bar  test loss 90.167, len  test loss 1.825, col  test loss 58.415\n"
     ]
    },
    {
     "name": "stderr",
     "output_type": "stream",
     "text": [
      "Epoch 2154: 272batch [00:13, 19.63batch/s, loss=8.12e+4]\n"
     ]
    },
    {
     "name": "stdout",
     "output_type": "stream",
     "text": [
      "epoch 2154: avg train loss 72797.37, bar train loss 209.423, len train loss 4.260, col train loss 134.900\n"
     ]
    },
    {
     "name": "stderr",
     "output_type": "stream",
     "text": [
      "Epoch 2155: 3batch [00:00, 20.55batch/s, loss=7.23e+4]"
     ]
    },
    {
     "name": "stdout",
     "output_type": "stream",
     "text": [
      "epoch 2154: avg test  loss 73230.84, bar  test loss 90.193, len  test loss 1.825, col  test loss 58.280\n"
     ]
    },
    {
     "name": "stderr",
     "output_type": "stream",
     "text": [
      "Epoch 2155: 272batch [00:14, 19.40batch/s, loss=7.4e+4] \n"
     ]
    },
    {
     "name": "stdout",
     "output_type": "stream",
     "text": [
      "epoch 2155: avg train loss 72808.34, bar train loss 209.495, len train loss 4.260, col train loss 134.942\n",
      "epoch 2155: avg test  loss 73257.15, bar  test loss 90.229, len  test loss 1.829, col  test loss 58.423\n"
     ]
    },
    {
     "name": "stderr",
     "output_type": "stream",
     "text": [
      "Epoch 2156: 272batch [00:13, 19.82batch/s, loss=6.92e+4]\n"
     ]
    },
    {
     "name": "stdout",
     "output_type": "stream",
     "text": [
      "epoch 2156: avg train loss 72790.82, bar train loss 209.447, len train loss 4.260, col train loss 134.904\n"
     ]
    },
    {
     "name": "stderr",
     "output_type": "stream",
     "text": [
      "Epoch 2157: 3batch [00:00, 20.27batch/s, loss=7.85e+4]"
     ]
    },
    {
     "name": "stdout",
     "output_type": "stream",
     "text": [
      "epoch 2156: avg test  loss 73218.25, bar  test loss 90.108, len  test loss 1.824, col  test loss 58.453\n"
     ]
    },
    {
     "name": "stderr",
     "output_type": "stream",
     "text": [
      "Epoch 2157: 272batch [00:14, 19.34batch/s, loss=7.48e+4]\n"
     ]
    },
    {
     "name": "stdout",
     "output_type": "stream",
     "text": [
      "epoch 2157: avg train loss 72798.23, bar train loss 209.427, len train loss 4.263, col train loss 134.908\n"
     ]
    },
    {
     "name": "stderr",
     "output_type": "stream",
     "text": [
      "Epoch 2158: 3batch [00:00, 20.97batch/s, loss=7.15e+4]"
     ]
    },
    {
     "name": "stdout",
     "output_type": "stream",
     "text": [
      "epoch 2157: avg test  loss 73216.03, bar  test loss 90.065, len  test loss 1.828, col  test loss 58.261\n"
     ]
    },
    {
     "name": "stderr",
     "output_type": "stream",
     "text": [
      "Epoch 2158: 272batch [00:13, 19.69batch/s, loss=7.84e+4]\n"
     ]
    },
    {
     "name": "stdout",
     "output_type": "stream",
     "text": [
      "epoch 2158: avg train loss 72797.29, bar train loss 209.475, len train loss 4.259, col train loss 134.942\n"
     ]
    },
    {
     "name": "stderr",
     "output_type": "stream",
     "text": [
      "Epoch 2159: 3batch [00:00, 20.55batch/s, loss=6.98e+4]"
     ]
    },
    {
     "name": "stdout",
     "output_type": "stream",
     "text": [
      "epoch 2158: avg test  loss 73278.38, bar  test loss 90.034, len  test loss 1.826, col  test loss 58.258\n"
     ]
    },
    {
     "name": "stderr",
     "output_type": "stream",
     "text": [
      "Epoch 2159: 272batch [00:13, 19.73batch/s, loss=7.75e+4]\n"
     ]
    },
    {
     "name": "stdout",
     "output_type": "stream",
     "text": [
      "epoch 2159: avg train loss 72793.70, bar train loss 209.447, len train loss 4.260, col train loss 134.884\n"
     ]
    },
    {
     "name": "stderr",
     "output_type": "stream",
     "text": [
      "Epoch 2160: 2batch [00:00, 15.63batch/s, loss=7.38e+4]"
     ]
    },
    {
     "name": "stdout",
     "output_type": "stream",
     "text": [
      "epoch 2159: avg test  loss 73235.91, bar  test loss 90.127, len  test loss 1.828, col  test loss 58.363\n"
     ]
    },
    {
     "name": "stderr",
     "output_type": "stream",
     "text": [
      "Epoch 2160: 272batch [00:14, 18.85batch/s, loss=6.88e+4]\n"
     ]
    },
    {
     "name": "stdout",
     "output_type": "stream",
     "text": [
      "epoch 2160: avg train loss 72806.74, bar train loss 209.462, len train loss 4.260, col train loss 134.951\n",
      "epoch 2160: avg test  loss 73213.53, bar  test loss 90.177, len  test loss 1.829, col  test loss 58.377\n"
     ]
    },
    {
     "name": "stderr",
     "output_type": "stream",
     "text": [
      "Epoch 2161: 272batch [00:13, 19.70batch/s, loss=7.23e+4]\n"
     ]
    },
    {
     "name": "stdout",
     "output_type": "stream",
     "text": [
      "epoch 2161: avg train loss 72798.52, bar train loss 209.421, len train loss 4.259, col train loss 134.958\n"
     ]
    },
    {
     "name": "stderr",
     "output_type": "stream",
     "text": [
      "Epoch 2162: 2batch [00:00, 19.80batch/s, loss=7.44e+4]"
     ]
    },
    {
     "name": "stdout",
     "output_type": "stream",
     "text": [
      "epoch 2161: avg test  loss 73240.43, bar  test loss 90.261, len  test loss 1.825, col  test loss 58.380\n"
     ]
    },
    {
     "name": "stderr",
     "output_type": "stream",
     "text": [
      "Epoch 2162: 272batch [00:13, 19.67batch/s, loss=7.46e+4]\n"
     ]
    },
    {
     "name": "stdout",
     "output_type": "stream",
     "text": [
      "epoch 2162: avg train loss 72797.95, bar train loss 209.457, len train loss 4.261, col train loss 134.902\n"
     ]
    },
    {
     "name": "stderr",
     "output_type": "stream",
     "text": [
      "Epoch 2163: 3batch [00:00, 20.69batch/s, loss=7.26e+4]"
     ]
    },
    {
     "name": "stdout",
     "output_type": "stream",
     "text": [
      "epoch 2162: avg test  loss 73233.90, bar  test loss 90.213, len  test loss 1.831, col  test loss 58.320\n"
     ]
    },
    {
     "name": "stderr",
     "output_type": "stream",
     "text": [
      "Epoch 2163: 272batch [00:13, 19.52batch/s, loss=7.62e+4]\n"
     ]
    },
    {
     "name": "stdout",
     "output_type": "stream",
     "text": [
      "epoch 2163: avg train loss 72796.66, bar train loss 209.465, len train loss 4.260, col train loss 134.911\n"
     ]
    },
    {
     "name": "stderr",
     "output_type": "stream",
     "text": [
      "Epoch 2164: 2batch [00:00, 19.23batch/s, loss=7.71e+4]"
     ]
    },
    {
     "name": "stdout",
     "output_type": "stream",
     "text": [
      "epoch 2163: avg test  loss 73222.82, bar  test loss 90.255, len  test loss 1.825, col  test loss 58.352\n"
     ]
    },
    {
     "name": "stderr",
     "output_type": "stream",
     "text": [
      "Epoch 2164: 272batch [00:14, 19.18batch/s, loss=7.61e+4]\n"
     ]
    },
    {
     "name": "stdout",
     "output_type": "stream",
     "text": [
      "epoch 2164: avg train loss 72800.81, bar train loss 209.435, len train loss 4.260, col train loss 134.929\n"
     ]
    },
    {
     "name": "stderr",
     "output_type": "stream",
     "text": [
      "Epoch 2165: 3batch [00:00, 20.69batch/s, loss=7.46e+4]"
     ]
    },
    {
     "name": "stdout",
     "output_type": "stream",
     "text": [
      "epoch 2164: avg test  loss 73187.24, bar  test loss 90.183, len  test loss 1.827, col  test loss 58.363\n"
     ]
    },
    {
     "name": "stderr",
     "output_type": "stream",
     "text": [
      "Epoch 2165: 272batch [00:13, 19.52batch/s, loss=7.21e+4]\n"
     ]
    },
    {
     "name": "stdout",
     "output_type": "stream",
     "text": [
      "epoch 2165: avg train loss 72799.22, bar train loss 209.470, len train loss 4.259, col train loss 134.925\n",
      "epoch 2165: avg test  loss 73214.95, bar  test loss 90.272, len  test loss 1.829, col  test loss 58.367\n"
     ]
    },
    {
     "name": "stderr",
     "output_type": "stream",
     "text": [
      "Epoch 2166: 272batch [00:13, 19.82batch/s, loss=7.47e+4]\n"
     ]
    },
    {
     "name": "stdout",
     "output_type": "stream",
     "text": [
      "epoch 2166: avg train loss 72799.73, bar train loss 209.412, len train loss 4.258, col train loss 134.875\n"
     ]
    },
    {
     "name": "stderr",
     "output_type": "stream",
     "text": [
      "Epoch 2167: 3batch [00:00, 20.27batch/s, loss=7.44e+4]"
     ]
    },
    {
     "name": "stdout",
     "output_type": "stream",
     "text": [
      "epoch 2166: avg test  loss 73241.50, bar  test loss 90.272, len  test loss 1.827, col  test loss 58.492\n"
     ]
    },
    {
     "name": "stderr",
     "output_type": "stream",
     "text": [
      "Epoch 2167: 272batch [00:14, 19.26batch/s, loss=7.69e+4]\n"
     ]
    },
    {
     "name": "stdout",
     "output_type": "stream",
     "text": [
      "epoch 2167: avg train loss 72794.47, bar train loss 209.452, len train loss 4.261, col train loss 134.908\n"
     ]
    },
    {
     "name": "stderr",
     "output_type": "stream",
     "text": [
      "Epoch 2168: 3batch [00:00, 20.41batch/s, loss=7.76e+4]"
     ]
    },
    {
     "name": "stdout",
     "output_type": "stream",
     "text": [
      "epoch 2167: avg test  loss 73196.24, bar  test loss 90.132, len  test loss 1.827, col  test loss 58.245\n"
     ]
    },
    {
     "name": "stderr",
     "output_type": "stream",
     "text": [
      "Epoch 2168: 272batch [00:13, 19.74batch/s, loss=7.37e+4]\n"
     ]
    },
    {
     "name": "stdout",
     "output_type": "stream",
     "text": [
      "epoch 2168: avg train loss 72793.25, bar train loss 209.445, len train loss 4.263, col train loss 134.856\n"
     ]
    },
    {
     "name": "stderr",
     "output_type": "stream",
     "text": [
      "Epoch 2169: 3batch [00:00, 20.13batch/s, loss=7.52e+4]"
     ]
    },
    {
     "name": "stdout",
     "output_type": "stream",
     "text": [
      "epoch 2168: avg test  loss 73232.38, bar  test loss 90.223, len  test loss 1.831, col  test loss 58.250\n"
     ]
    },
    {
     "name": "stderr",
     "output_type": "stream",
     "text": [
      "Epoch 2169: 272batch [00:13, 19.43batch/s, loss=7.05e+4]\n"
     ]
    },
    {
     "name": "stdout",
     "output_type": "stream",
     "text": [
      "epoch 2169: avg train loss 72789.94, bar train loss 209.415, len train loss 4.261, col train loss 134.874\n"
     ]
    },
    {
     "name": "stderr",
     "output_type": "stream",
     "text": [
      "Epoch 2170: 3batch [00:00, 20.27batch/s, loss=7.28e+4]"
     ]
    },
    {
     "name": "stdout",
     "output_type": "stream",
     "text": [
      "epoch 2169: avg test  loss 73230.23, bar  test loss 90.096, len  test loss 1.824, col  test loss 58.224\n"
     ]
    },
    {
     "name": "stderr",
     "output_type": "stream",
     "text": [
      "Epoch 2170: 272batch [00:13, 19.44batch/s, loss=6.88e+4]\n"
     ]
    },
    {
     "name": "stdout",
     "output_type": "stream",
     "text": [
      "epoch 2170: avg train loss 72793.39, bar train loss 209.440, len train loss 4.259, col train loss 134.899\n",
      "epoch 2170: avg test  loss 73197.70, bar  test loss 90.085, len  test loss 1.829, col  test loss 58.204\n"
     ]
    },
    {
     "name": "stderr",
     "output_type": "stream",
     "text": [
      "Epoch 2171: 272batch [00:14, 19.31batch/s, loss=7.61e+4]\n"
     ]
    },
    {
     "name": "stdout",
     "output_type": "stream",
     "text": [
      "epoch 2171: avg train loss 72793.45, bar train loss 209.402, len train loss 4.261, col train loss 134.866\n"
     ]
    },
    {
     "name": "stderr",
     "output_type": "stream",
     "text": [
      "Epoch 2172: 0batch [00:00, ?batch/s, loss=7.03e+4]"
     ]
    },
    {
     "name": "stdout",
     "output_type": "stream",
     "text": [
      "epoch 2171: avg test  loss 73264.14, bar  test loss 90.121, len  test loss 1.826, col  test loss 58.256\n"
     ]
    },
    {
     "name": "stderr",
     "output_type": "stream",
     "text": [
      "Epoch 2172: 272batch [00:14, 19.35batch/s, loss=7.93e+4]\n"
     ]
    },
    {
     "name": "stdout",
     "output_type": "stream",
     "text": [
      "epoch 2172: avg train loss 72798.43, bar train loss 209.413, len train loss 4.259, col train loss 134.899\n"
     ]
    },
    {
     "name": "stderr",
     "output_type": "stream",
     "text": [
      "Epoch 2173: 3batch [00:00, 20.41batch/s, loss=7.03e+4]"
     ]
    },
    {
     "name": "stdout",
     "output_type": "stream",
     "text": [
      "epoch 2172: avg test  loss 73227.20, bar  test loss 90.236, len  test loss 1.823, col  test loss 58.280\n"
     ]
    },
    {
     "name": "stderr",
     "output_type": "stream",
     "text": [
      "Epoch 2173: 272batch [00:14, 19.24batch/s, loss=7.12e+4]\n"
     ]
    },
    {
     "name": "stdout",
     "output_type": "stream",
     "text": [
      "epoch 2173: avg train loss 72789.94, bar train loss 209.440, len train loss 4.259, col train loss 134.890\n"
     ]
    },
    {
     "name": "stderr",
     "output_type": "stream",
     "text": [
      "Epoch 2174: 3batch [00:00, 20.55batch/s, loss=7.1e+4]"
     ]
    },
    {
     "name": "stdout",
     "output_type": "stream",
     "text": [
      "epoch 2173: avg test  loss 73267.27, bar  test loss 90.256, len  test loss 1.830, col  test loss 58.359\n"
     ]
    },
    {
     "name": "stderr",
     "output_type": "stream",
     "text": [
      "Epoch 2174: 272batch [00:14, 19.20batch/s, loss=78697.5]\n"
     ]
    },
    {
     "name": "stdout",
     "output_type": "stream",
     "text": [
      "epoch 2174: avg train loss 72798.86, bar train loss 209.477, len train loss 4.259, col train loss 134.875\n"
     ]
    },
    {
     "name": "stderr",
     "output_type": "stream",
     "text": [
      "Epoch 2175: 3batch [00:00, 20.69batch/s, loss=7.26e+4]"
     ]
    },
    {
     "name": "stdout",
     "output_type": "stream",
     "text": [
      "epoch 2174: avg test  loss 73222.65, bar  test loss 90.217, len  test loss 1.832, col  test loss 58.438\n"
     ]
    },
    {
     "name": "stderr",
     "output_type": "stream",
     "text": [
      "Epoch 2175: 272batch [00:14, 19.26batch/s, loss=6.36e+4]\n"
     ]
    },
    {
     "name": "stdout",
     "output_type": "stream",
     "text": [
      "epoch 2175: avg train loss 72802.07, bar train loss 209.442, len train loss 4.258, col train loss 134.924\n",
      "epoch 2175: avg test  loss 73215.14, bar  test loss 90.100, len  test loss 1.831, col  test loss 58.332\n"
     ]
    },
    {
     "name": "stderr",
     "output_type": "stream",
     "text": [
      "Epoch 2176: 272batch [00:14, 18.95batch/s, loss=7.58e+4]\n"
     ]
    },
    {
     "name": "stdout",
     "output_type": "stream",
     "text": [
      "epoch 2176: avg train loss 72792.76, bar train loss 209.452, len train loss 4.256, col train loss 134.871\n"
     ]
    },
    {
     "name": "stderr",
     "output_type": "stream",
     "text": [
      "Epoch 2177: 3batch [00:00, 20.55batch/s, loss=7.09e+4]"
     ]
    },
    {
     "name": "stdout",
     "output_type": "stream",
     "text": [
      "epoch 2176: avg test  loss 73199.90, bar  test loss 90.171, len  test loss 1.828, col  test loss 58.385\n"
     ]
    },
    {
     "name": "stderr",
     "output_type": "stream",
     "text": [
      "Epoch 2177: 272batch [00:14, 18.97batch/s, loss=7.05e+4]\n"
     ]
    },
    {
     "name": "stdout",
     "output_type": "stream",
     "text": [
      "epoch 2177: avg train loss 72790.78, bar train loss 209.455, len train loss 4.258, col train loss 134.893\n"
     ]
    },
    {
     "name": "stderr",
     "output_type": "stream",
     "text": [
      "Epoch 2178: 2batch [00:00, 19.42batch/s, loss=7.43e+4]"
     ]
    },
    {
     "name": "stdout",
     "output_type": "stream",
     "text": [
      "epoch 2177: avg test  loss 73224.01, bar  test loss 90.048, len  test loss 1.825, col  test loss 58.239\n"
     ]
    },
    {
     "name": "stderr",
     "output_type": "stream",
     "text": [
      "Epoch 2178: 272batch [00:14, 19.10batch/s, loss=7.11e+4]\n"
     ]
    },
    {
     "name": "stdout",
     "output_type": "stream",
     "text": [
      "epoch 2178: avg train loss 72794.56, bar train loss 209.456, len train loss 4.255, col train loss 134.873\n"
     ]
    },
    {
     "name": "stderr",
     "output_type": "stream",
     "text": [
      "Epoch 2179: 3batch [00:00, 20.41batch/s, loss=7.15e+4]"
     ]
    },
    {
     "name": "stdout",
     "output_type": "stream",
     "text": [
      "epoch 2178: avg test  loss 73181.66, bar  test loss 90.175, len  test loss 1.825, col  test loss 58.286\n"
     ]
    },
    {
     "name": "stderr",
     "output_type": "stream",
     "text": [
      "Epoch 2179: 272batch [00:14, 19.22batch/s, loss=6.9e+4] \n"
     ]
    },
    {
     "name": "stdout",
     "output_type": "stream",
     "text": [
      "epoch 2179: avg train loss 72802.81, bar train loss 209.445, len train loss 4.256, col train loss 134.879\n"
     ]
    },
    {
     "name": "stderr",
     "output_type": "stream",
     "text": [
      "Epoch 2180: 2batch [00:00, 18.35batch/s, loss=7.31e+4]"
     ]
    },
    {
     "name": "stdout",
     "output_type": "stream",
     "text": [
      "epoch 2179: avg test  loss 73212.54, bar  test loss 90.311, len  test loss 1.830, col  test loss 58.421\n"
     ]
    },
    {
     "name": "stderr",
     "output_type": "stream",
     "text": [
      "Epoch 2180: 272batch [00:14, 19.13batch/s, loss=7.32e+4]\n"
     ]
    },
    {
     "name": "stdout",
     "output_type": "stream",
     "text": [
      "epoch 2180: avg train loss 72786.64, bar train loss 209.453, len train loss 4.257, col train loss 134.922\n",
      "epoch 2180: avg test  loss 73322.98, bar  test loss 90.208, len  test loss 1.825, col  test loss 58.367\n"
     ]
    },
    {
     "name": "stderr",
     "output_type": "stream",
     "text": [
      "Epoch 2181: 272batch [00:14, 18.66batch/s, loss=7.64e+4]\n"
     ]
    },
    {
     "name": "stdout",
     "output_type": "stream",
     "text": [
      "epoch 2181: avg train loss 72805.22, bar train loss 209.438, len train loss 4.256, col train loss 134.954\n"
     ]
    },
    {
     "name": "stderr",
     "output_type": "stream",
     "text": [
      "Epoch 2182: 3batch [00:00, 21.74batch/s, loss=7.31e+4]"
     ]
    },
    {
     "name": "stdout",
     "output_type": "stream",
     "text": [
      "epoch 2181: avg test  loss 73228.77, bar  test loss 90.382, len  test loss 1.832, col  test loss 58.403\n"
     ]
    },
    {
     "name": "stderr",
     "output_type": "stream",
     "text": [
      "Epoch 2182: 272batch [00:14, 19.15batch/s, loss=8.61e+4]\n"
     ]
    },
    {
     "name": "stdout",
     "output_type": "stream",
     "text": [
      "epoch 2182: avg train loss 72790.20, bar train loss 209.428, len train loss 4.256, col train loss 134.889\n"
     ]
    },
    {
     "name": "stderr",
     "output_type": "stream",
     "text": [
      "Epoch 2183: 2batch [00:00, 19.23batch/s, loss=7.55e+4]"
     ]
    },
    {
     "name": "stdout",
     "output_type": "stream",
     "text": [
      "epoch 2182: avg test  loss 73222.38, bar  test loss 90.174, len  test loss 1.826, col  test loss 58.333\n"
     ]
    },
    {
     "name": "stderr",
     "output_type": "stream",
     "text": [
      "Epoch 2183: 272batch [00:14, 19.09batch/s, loss=7.56e+4]\n"
     ]
    },
    {
     "name": "stdout",
     "output_type": "stream",
     "text": [
      "epoch 2183: avg train loss 72793.19, bar train loss 209.409, len train loss 4.258, col train loss 134.854\n"
     ]
    },
    {
     "name": "stderr",
     "output_type": "stream",
     "text": [
      "Epoch 2184: 3batch [00:00, 20.55batch/s, loss=7.35e+4]"
     ]
    },
    {
     "name": "stdout",
     "output_type": "stream",
     "text": [
      "epoch 2183: avg test  loss 73196.30, bar  test loss 90.183, len  test loss 1.829, col  test loss 58.372\n"
     ]
    },
    {
     "name": "stderr",
     "output_type": "stream",
     "text": [
      "Epoch 2184: 272batch [00:14, 19.06batch/s, loss=7.02e+4]\n"
     ]
    },
    {
     "name": "stdout",
     "output_type": "stream",
     "text": [
      "epoch 2184: avg train loss 72790.69, bar train loss 209.448, len train loss 4.257, col train loss 134.898\n"
     ]
    },
    {
     "name": "stderr",
     "output_type": "stream",
     "text": [
      "Epoch 2185: 3batch [00:00, 20.69batch/s, loss=7.02e+4]"
     ]
    },
    {
     "name": "stdout",
     "output_type": "stream",
     "text": [
      "epoch 2184: avg test  loss 73183.84, bar  test loss 90.146, len  test loss 1.824, col  test loss 58.408\n"
     ]
    },
    {
     "name": "stderr",
     "output_type": "stream",
     "text": [
      "Epoch 2185: 272batch [00:14, 18.97batch/s, loss=8.08e+4]\n"
     ]
    },
    {
     "name": "stdout",
     "output_type": "stream",
     "text": [
      "epoch 2185: avg train loss 72800.30, bar train loss 209.408, len train loss 4.257, col train loss 134.915\n",
      "epoch 2185: avg test  loss 73219.51, bar  test loss 90.278, len  test loss 1.828, col  test loss 58.351\n"
     ]
    },
    {
     "name": "stderr",
     "output_type": "stream",
     "text": [
      "Epoch 2186: 272batch [00:14, 18.97batch/s, loss=7.11e+4]\n"
     ]
    },
    {
     "name": "stdout",
     "output_type": "stream",
     "text": [
      "epoch 2186: avg train loss 72785.36, bar train loss 209.385, len train loss 4.257, col train loss 134.846\n"
     ]
    },
    {
     "name": "stderr",
     "output_type": "stream",
     "text": [
      "Epoch 2187: 3batch [00:00, 19.61batch/s, loss=7.26e+4]"
     ]
    },
    {
     "name": "stdout",
     "output_type": "stream",
     "text": [
      "epoch 2186: avg test  loss 73213.26, bar  test loss 90.251, len  test loss 1.828, col  test loss 58.419\n"
     ]
    },
    {
     "name": "stderr",
     "output_type": "stream",
     "text": [
      "Epoch 2187: 272batch [00:14, 18.92batch/s, loss=7.54e+4]\n"
     ]
    },
    {
     "name": "stdout",
     "output_type": "stream",
     "text": [
      "epoch 2187: avg train loss 72777.44, bar train loss 209.382, len train loss 4.254, col train loss 134.852\n"
     ]
    },
    {
     "name": "stderr",
     "output_type": "stream",
     "text": [
      "Epoch 2188: 3batch [00:00, 21.13batch/s, loss=7.28e+4]"
     ]
    },
    {
     "name": "stdout",
     "output_type": "stream",
     "text": [
      "epoch 2187: avg test  loss 73214.10, bar  test loss 90.227, len  test loss 1.826, col  test loss 58.407\n"
     ]
    },
    {
     "name": "stderr",
     "output_type": "stream",
     "text": [
      "Epoch 2188: 272batch [00:14, 18.96batch/s, loss=7.16e+4]\n"
     ]
    },
    {
     "name": "stdout",
     "output_type": "stream",
     "text": [
      "epoch 2188: avg train loss 72795.02, bar train loss 209.452, len train loss 4.254, col train loss 134.916\n"
     ]
    },
    {
     "name": "stderr",
     "output_type": "stream",
     "text": [
      "Epoch 2189: 3batch [00:00, 21.13batch/s, loss=7.21e+4]"
     ]
    },
    {
     "name": "stdout",
     "output_type": "stream",
     "text": [
      "epoch 2188: avg test  loss 73344.08, bar  test loss 90.340, len  test loss 1.827, col  test loss 58.485\n"
     ]
    },
    {
     "name": "stderr",
     "output_type": "stream",
     "text": [
      "Epoch 2189: 272batch [00:14, 19.04batch/s, loss=7.69e+4]\n"
     ]
    },
    {
     "name": "stdout",
     "output_type": "stream",
     "text": [
      "epoch 2189: avg train loss 72782.86, bar train loss 209.416, len train loss 4.255, col train loss 134.871\n"
     ]
    },
    {
     "name": "stderr",
     "output_type": "stream",
     "text": [
      "Epoch 2190: 3batch [00:00, 19.87batch/s, loss=7.12e+4]"
     ]
    },
    {
     "name": "stdout",
     "output_type": "stream",
     "text": [
      "epoch 2189: avg test  loss 73212.92, bar  test loss 90.047, len  test loss 1.824, col  test loss 58.133\n"
     ]
    },
    {
     "name": "stderr",
     "output_type": "stream",
     "text": [
      "Epoch 2190: 272batch [00:14, 18.90batch/s, loss=6.93e+4]\n"
     ]
    },
    {
     "name": "stdout",
     "output_type": "stream",
     "text": [
      "epoch 2190: avg train loss 72794.07, bar train loss 209.439, len train loss 4.258, col train loss 134.909\n",
      "epoch 2190: avg test  loss 73203.31, bar  test loss 90.080, len  test loss 1.825, col  test loss 58.351\n"
     ]
    },
    {
     "name": "stderr",
     "output_type": "stream",
     "text": [
      "Epoch 2191: 272batch [00:14, 18.89batch/s, loss=6.87e+4]\n"
     ]
    },
    {
     "name": "stdout",
     "output_type": "stream",
     "text": [
      "epoch 2191: avg train loss 72787.50, bar train loss 209.420, len train loss 4.256, col train loss 134.842\n"
     ]
    },
    {
     "name": "stderr",
     "output_type": "stream",
     "text": [
      "Epoch 2192: 2batch [00:00, 18.35batch/s, loss=7.3e+4] "
     ]
    },
    {
     "name": "stdout",
     "output_type": "stream",
     "text": [
      "epoch 2191: avg test  loss 73255.54, bar  test loss 90.216, len  test loss 1.831, col  test loss 58.294\n"
     ]
    },
    {
     "name": "stderr",
     "output_type": "stream",
     "text": [
      "Epoch 2192: 272batch [00:14, 18.96batch/s, loss=7.23e+4]\n"
     ]
    },
    {
     "name": "stdout",
     "output_type": "stream",
     "text": [
      "epoch 2192: avg train loss 72787.80, bar train loss 209.409, len train loss 4.257, col train loss 134.866\n"
     ]
    },
    {
     "name": "stderr",
     "output_type": "stream",
     "text": [
      "Epoch 2193: 2batch [00:00, 19.80batch/s, loss=7.26e+4]"
     ]
    },
    {
     "name": "stdout",
     "output_type": "stream",
     "text": [
      "epoch 2192: avg test  loss 73213.14, bar  test loss 90.208, len  test loss 1.823, col  test loss 58.286\n"
     ]
    },
    {
     "name": "stderr",
     "output_type": "stream",
     "text": [
      "Epoch 2193: 272batch [00:14, 18.57batch/s, loss=7.01e+4]\n"
     ]
    },
    {
     "name": "stdout",
     "output_type": "stream",
     "text": [
      "epoch 2193: avg train loss 72781.90, bar train loss 209.383, len train loss 4.257, col train loss 134.850\n"
     ]
    },
    {
     "name": "stderr",
     "output_type": "stream",
     "text": [
      "Epoch 2194: 2batch [00:00, 19.61batch/s, loss=7.36e+4]"
     ]
    },
    {
     "name": "stdout",
     "output_type": "stream",
     "text": [
      "epoch 2193: avg test  loss 73212.09, bar  test loss 90.066, len  test loss 1.825, col  test loss 58.258\n"
     ]
    },
    {
     "name": "stderr",
     "output_type": "stream",
     "text": [
      "Epoch 2194: 272batch [00:14, 18.76batch/s, loss=7.29e+4]\n"
     ]
    },
    {
     "name": "stdout",
     "output_type": "stream",
     "text": [
      "epoch 2194: avg train loss 72789.89, bar train loss 209.416, len train loss 4.256, col train loss 134.860\n"
     ]
    },
    {
     "name": "stderr",
     "output_type": "stream",
     "text": [
      "Epoch 2195: 2batch [00:00, 19.80batch/s, loss=7.33e+4]"
     ]
    },
    {
     "name": "stdout",
     "output_type": "stream",
     "text": [
      "epoch 2194: avg test  loss 73202.48, bar  test loss 90.234, len  test loss 1.827, col  test loss 58.377\n"
     ]
    },
    {
     "name": "stderr",
     "output_type": "stream",
     "text": [
      "Epoch 2195: 272batch [00:14, 18.75batch/s, loss=7.05e+4]\n"
     ]
    },
    {
     "name": "stdout",
     "output_type": "stream",
     "text": [
      "epoch 2195: avg train loss 72798.82, bar train loss 209.467, len train loss 4.256, col train loss 134.907\n",
      "epoch 2195: avg test  loss 73213.66, bar  test loss 90.356, len  test loss 1.824, col  test loss 58.457\n"
     ]
    },
    {
     "name": "stderr",
     "output_type": "stream",
     "text": [
      "Epoch 2196: 272batch [00:14, 18.76batch/s, loss=7.48e+4]\n"
     ]
    },
    {
     "name": "stdout",
     "output_type": "stream",
     "text": [
      "epoch 2196: avg train loss 72791.22, bar train loss 209.432, len train loss 4.253, col train loss 134.894\n"
     ]
    },
    {
     "name": "stderr",
     "output_type": "stream",
     "text": [
      "Epoch 2197: 3batch [00:00, 20.55batch/s, loss=7.59e+4]"
     ]
    },
    {
     "name": "stdout",
     "output_type": "stream",
     "text": [
      "epoch 2196: avg test  loss 73236.04, bar  test loss 90.322, len  test loss 1.820, col  test loss 58.425\n"
     ]
    },
    {
     "name": "stderr",
     "output_type": "stream",
     "text": [
      "Epoch 2197: 272batch [00:14, 18.91batch/s, loss=6.84e+4]\n"
     ]
    },
    {
     "name": "stdout",
     "output_type": "stream",
     "text": [
      "epoch 2197: avg train loss 72784.38, bar train loss 209.429, len train loss 4.259, col train loss 134.871\n"
     ]
    },
    {
     "name": "stderr",
     "output_type": "stream",
     "text": [
      "Epoch 2198: 2batch [00:00, 19.05batch/s, loss=7.41e+4]"
     ]
    },
    {
     "name": "stdout",
     "output_type": "stream",
     "text": [
      "epoch 2197: avg test  loss 73194.59, bar  test loss 90.274, len  test loss 1.829, col  test loss 58.375\n"
     ]
    },
    {
     "name": "stderr",
     "output_type": "stream",
     "text": [
      "Epoch 2198: 272batch [00:14, 18.65batch/s, loss=7.7e+4] \n"
     ]
    },
    {
     "name": "stdout",
     "output_type": "stream",
     "text": [
      "epoch 2198: avg train loss 72795.75, bar train loss 209.432, len train loss 4.255, col train loss 134.901\n"
     ]
    },
    {
     "name": "stderr",
     "output_type": "stream",
     "text": [
      "Epoch 2199: 2batch [00:00, 19.23batch/s, loss=7.14e+4]"
     ]
    },
    {
     "name": "stdout",
     "output_type": "stream",
     "text": [
      "epoch 2198: avg test  loss 73234.89, bar  test loss 90.134, len  test loss 1.831, col  test loss 58.213\n"
     ]
    },
    {
     "name": "stderr",
     "output_type": "stream",
     "text": [
      "Epoch 2199: 272batch [00:14, 18.45batch/s, loss=7.2e+4] \n"
     ]
    },
    {
     "name": "stdout",
     "output_type": "stream",
     "text": [
      "epoch 2199: avg train loss 72779.41, bar train loss 209.412, len train loss 4.255, col train loss 134.811\n"
     ]
    },
    {
     "name": "stderr",
     "output_type": "stream",
     "text": [
      "Epoch 2200: 3batch [00:00, 20.41batch/s, loss=7.2e+4]"
     ]
    },
    {
     "name": "stdout",
     "output_type": "stream",
     "text": [
      "epoch 2199: avg test  loss 73211.32, bar  test loss 90.151, len  test loss 1.824, col  test loss 58.235\n"
     ]
    },
    {
     "name": "stderr",
     "output_type": "stream",
     "text": [
      "Epoch 2200: 272batch [00:14, 18.86batch/s, loss=7.14e+4]\n"
     ]
    },
    {
     "name": "stdout",
     "output_type": "stream",
     "text": [
      "epoch 2200: avg train loss 72783.33, bar train loss 209.396, len train loss 4.254, col train loss 134.803\n",
      "epoch 2200: avg test  loss 73188.26, bar  test loss 90.255, len  test loss 1.827, col  test loss 58.438\n"
     ]
    },
    {
     "data": {
      "text/plain": [
       "<Figure size 5760x1440 with 0 Axes>"
      ]
     },
     "metadata": {},
     "output_type": "display_data"
    },
    {
     "data": {
      "text/plain": [
       "<Figure size 5760x1440 with 0 Axes>"
      ]
     },
     "metadata": {},
     "output_type": "display_data"
    },
    {
     "data": {
      "text/plain": [
       "<Figure size 5760x1440 with 0 Axes>"
      ]
     },
     "metadata": {},
     "output_type": "display_data"
    },
    {
     "data": {
      "text/plain": [
       "<Figure size 5760x1440 with 0 Axes>"
      ]
     },
     "metadata": {},
     "output_type": "display_data"
    },
    {
     "data": {
      "text/plain": [
       "<Figure size 5760x1440 with 0 Axes>"
      ]
     },
     "metadata": {},
     "output_type": "display_data"
    },
    {
     "data": {
      "text/plain": [
       "<Figure size 5760x1440 with 0 Axes>"
      ]
     },
     "metadata": {},
     "output_type": "display_data"
    },
    {
     "data": {
      "text/plain": [
       "<Figure size 5760x1440 with 0 Axes>"
      ]
     },
     "metadata": {},
     "output_type": "display_data"
    },
    {
     "data": {
      "text/plain": [
       "<Figure size 5760x1440 with 0 Axes>"
      ]
     },
     "metadata": {},
     "output_type": "display_data"
    },
    {
     "data": {
      "text/plain": [
       "<Figure size 5760x1440 with 0 Axes>"
      ]
     },
     "metadata": {},
     "output_type": "display_data"
    },
    {
     "data": {
      "text/plain": [
       "<Figure size 5760x1440 with 0 Axes>"
      ]
     },
     "metadata": {},
     "output_type": "display_data"
    },
    {
     "data": {
      "text/plain": [
       "<Figure size 5760x1440 with 0 Axes>"
      ]
     },
     "metadata": {},
     "output_type": "display_data"
    },
    {
     "data": {
      "text/plain": [
       "<Figure size 5760x1440 with 0 Axes>"
      ]
     },
     "metadata": {},
     "output_type": "display_data"
    },
    {
     "data": {
      "text/plain": [
       "<Figure size 5760x1440 with 0 Axes>"
      ]
     },
     "metadata": {},
     "output_type": "display_data"
    },
    {
     "data": {
      "text/plain": [
       "<Figure size 5760x1440 with 0 Axes>"
      ]
     },
     "metadata": {},
     "output_type": "display_data"
    },
    {
     "data": {
      "text/plain": [
       "<Figure size 5760x1440 with 0 Axes>"
      ]
     },
     "metadata": {},
     "output_type": "display_data"
    },
    {
     "data": {
      "text/plain": [
       "<Figure size 5760x1440 with 0 Axes>"
      ]
     },
     "metadata": {},
     "output_type": "display_data"
    },
    {
     "data": {
      "text/plain": [
       "<Figure size 5760x1440 with 0 Axes>"
      ]
     },
     "metadata": {},
     "output_type": "display_data"
    },
    {
     "data": {
      "text/plain": [
       "<Figure size 5760x1440 with 0 Axes>"
      ]
     },
     "metadata": {},
     "output_type": "display_data"
    },
    {
     "data": {
      "text/plain": [
       "<Figure size 5760x1440 with 0 Axes>"
      ]
     },
     "metadata": {},
     "output_type": "display_data"
    },
    {
     "data": {
      "text/plain": [
       "<Figure size 5760x1440 with 0 Axes>"
      ]
     },
     "metadata": {},
     "output_type": "display_data"
    },
    {
     "data": {
      "text/plain": [
       "<Figure size 5760x1440 with 0 Axes>"
      ]
     },
     "metadata": {},
     "output_type": "display_data"
    },
    {
     "data": {
      "text/plain": [
       "<Figure size 5760x1440 with 0 Axes>"
      ]
     },
     "metadata": {},
     "output_type": "display_data"
    },
    {
     "data": {
      "text/plain": [
       "<Figure size 5760x1440 with 0 Axes>"
      ]
     },
     "metadata": {},
     "output_type": "display_data"
    },
    {
     "data": {
      "text/plain": [
       "<Figure size 5760x1440 with 0 Axes>"
      ]
     },
     "metadata": {},
     "output_type": "display_data"
    },
    {
     "data": {
      "text/plain": [
       "<Figure size 5760x1440 with 0 Axes>"
      ]
     },
     "metadata": {},
     "output_type": "display_data"
    },
    {
     "data": {
      "text/plain": [
       "<Figure size 5760x1440 with 0 Axes>"
      ]
     },
     "metadata": {},
     "output_type": "display_data"
    },
    {
     "data": {
      "text/plain": [
       "<Figure size 5760x1440 with 0 Axes>"
      ]
     },
     "metadata": {},
     "output_type": "display_data"
    },
    {
     "data": {
      "text/plain": [
       "<Figure size 5760x1440 with 0 Axes>"
      ]
     },
     "metadata": {},
     "output_type": "display_data"
    },
    {
     "data": {
      "text/plain": [
       "<Figure size 5760x1440 with 0 Axes>"
      ]
     },
     "metadata": {},
     "output_type": "display_data"
    },
    {
     "data": {
      "text/plain": [
       "<Figure size 5760x1440 with 0 Axes>"
      ]
     },
     "metadata": {},
     "output_type": "display_data"
    },
    {
     "data": {
      "text/plain": [
       "<Figure size 5760x1440 with 0 Axes>"
      ]
     },
     "metadata": {},
     "output_type": "display_data"
    },
    {
     "data": {
      "text/plain": [
       "<Figure size 5760x1440 with 0 Axes>"
      ]
     },
     "metadata": {},
     "output_type": "display_data"
    },
    {
     "data": {
      "text/plain": [
       "<Figure size 5760x1440 with 0 Axes>"
      ]
     },
     "metadata": {},
     "output_type": "display_data"
    },
    {
     "data": {
      "text/plain": [
       "<Figure size 5760x1440 with 0 Axes>"
      ]
     },
     "metadata": {},
     "output_type": "display_data"
    },
    {
     "data": {
      "text/plain": [
       "<Figure size 5760x1440 with 0 Axes>"
      ]
     },
     "metadata": {},
     "output_type": "display_data"
    },
    {
     "data": {
      "text/plain": [
       "<Figure size 5760x1440 with 0 Axes>"
      ]
     },
     "metadata": {},
     "output_type": "display_data"
    },
    {
     "data": {
      "text/plain": [
       "<Figure size 5760x1440 with 0 Axes>"
      ]
     },
     "metadata": {},
     "output_type": "display_data"
    },
    {
     "data": {
      "text/plain": [
       "<Figure size 5760x1440 with 0 Axes>"
      ]
     },
     "metadata": {},
     "output_type": "display_data"
    },
    {
     "data": {
      "text/plain": [
       "<Figure size 5760x1440 with 0 Axes>"
      ]
     },
     "metadata": {},
     "output_type": "display_data"
    },
    {
     "data": {
      "text/plain": [
       "<Figure size 5760x1440 with 0 Axes>"
      ]
     },
     "metadata": {},
     "output_type": "display_data"
    },
    {
     "data": {
      "text/plain": [
       "<Figure size 5760x1440 with 0 Axes>"
      ]
     },
     "metadata": {},
     "output_type": "display_data"
    },
    {
     "data": {
      "text/plain": [
       "<Figure size 5760x1440 with 0 Axes>"
      ]
     },
     "metadata": {},
     "output_type": "display_data"
    },
    {
     "data": {
      "text/plain": [
       "<Figure size 5760x1440 with 0 Axes>"
      ]
     },
     "metadata": {},
     "output_type": "display_data"
    },
    {
     "data": {
      "text/plain": [
       "<Figure size 5760x1440 with 0 Axes>"
      ]
     },
     "metadata": {},
     "output_type": "display_data"
    },
    {
     "data": {
      "text/plain": [
       "<Figure size 5760x1440 with 0 Axes>"
      ]
     },
     "metadata": {},
     "output_type": "display_data"
    },
    {
     "data": {
      "text/plain": [
       "<Figure size 5760x1440 with 0 Axes>"
      ]
     },
     "metadata": {},
     "output_type": "display_data"
    },
    {
     "data": {
      "text/plain": [
       "<Figure size 5760x1440 with 0 Axes>"
      ]
     },
     "metadata": {},
     "output_type": "display_data"
    },
    {
     "data": {
      "text/plain": [
       "<Figure size 5760x1440 with 0 Axes>"
      ]
     },
     "metadata": {},
     "output_type": "display_data"
    },
    {
     "data": {
      "text/plain": [
       "<Figure size 5760x1440 with 0 Axes>"
      ]
     },
     "metadata": {},
     "output_type": "display_data"
    },
    {
     "data": {
      "text/plain": [
       "<Figure size 5760x1440 with 0 Axes>"
      ]
     },
     "metadata": {},
     "output_type": "display_data"
    },
    {
     "data": {
      "text/plain": [
       "<Figure size 5760x1440 with 0 Axes>"
      ]
     },
     "metadata": {},
     "output_type": "display_data"
    },
    {
     "data": {
      "text/plain": [
       "<Figure size 5760x1440 with 0 Axes>"
      ]
     },
     "metadata": {},
     "output_type": "display_data"
    },
    {
     "data": {
      "text/plain": [
       "<Figure size 5760x1440 with 0 Axes>"
      ]
     },
     "metadata": {},
     "output_type": "display_data"
    },
    {
     "data": {
      "text/plain": [
       "<Figure size 5760x1440 with 0 Axes>"
      ]
     },
     "metadata": {},
     "output_type": "display_data"
    },
    {
     "data": {
      "text/plain": [
       "<Figure size 5760x1440 with 0 Axes>"
      ]
     },
     "metadata": {},
     "output_type": "display_data"
    },
    {
     "data": {
      "text/plain": [
       "<Figure size 5760x1440 with 0 Axes>"
      ]
     },
     "metadata": {},
     "output_type": "display_data"
    },
    {
     "data": {
      "text/plain": [
       "<Figure size 5760x1440 with 0 Axes>"
      ]
     },
     "metadata": {},
     "output_type": "display_data"
    },
    {
     "data": {
      "text/plain": [
       "<Figure size 5760x1440 with 0 Axes>"
      ]
     },
     "metadata": {},
     "output_type": "display_data"
    },
    {
     "data": {
      "text/plain": [
       "<Figure size 5760x1440 with 0 Axes>"
      ]
     },
     "metadata": {},
     "output_type": "display_data"
    },
    {
     "data": {
      "text/plain": [
       "<Figure size 5760x1440 with 0 Axes>"
      ]
     },
     "metadata": {},
     "output_type": "display_data"
    },
    {
     "data": {
      "text/plain": [
       "<Figure size 5760x1440 with 0 Axes>"
      ]
     },
     "metadata": {},
     "output_type": "display_data"
    },
    {
     "data": {
      "text/plain": [
       "<Figure size 5760x1440 with 0 Axes>"
      ]
     },
     "metadata": {},
     "output_type": "display_data"
    },
    {
     "data": {
      "text/plain": [
       "<Figure size 5760x1440 with 0 Axes>"
      ]
     },
     "metadata": {},
     "output_type": "display_data"
    },
    {
     "data": {
      "text/plain": [
       "<Figure size 5760x1440 with 0 Axes>"
      ]
     },
     "metadata": {},
     "output_type": "display_data"
    },
    {
     "data": {
      "text/plain": [
       "<Figure size 5760x1440 with 0 Axes>"
      ]
     },
     "metadata": {},
     "output_type": "display_data"
    },
    {
     "data": {
      "text/plain": [
       "<Figure size 5760x1440 with 0 Axes>"
      ]
     },
     "metadata": {},
     "output_type": "display_data"
    },
    {
     "data": {
      "text/plain": [
       "<Figure size 5760x1440 with 0 Axes>"
      ]
     },
     "metadata": {},
     "output_type": "display_data"
    },
    {
     "data": {
      "text/plain": [
       "<Figure size 5760x1440 with 0 Axes>"
      ]
     },
     "metadata": {},
     "output_type": "display_data"
    },
    {
     "data": {
      "text/plain": [
       "<Figure size 5760x1440 with 0 Axes>"
      ]
     },
     "metadata": {},
     "output_type": "display_data"
    },
    {
     "data": {
      "text/plain": [
       "<Figure size 5760x1440 with 0 Axes>"
      ]
     },
     "metadata": {},
     "output_type": "display_data"
    },
    {
     "data": {
      "text/plain": [
       "<Figure size 5760x1440 with 0 Axes>"
      ]
     },
     "metadata": {},
     "output_type": "display_data"
    },
    {
     "data": {
      "text/plain": [
       "<Figure size 5760x1440 with 0 Axes>"
      ]
     },
     "metadata": {},
     "output_type": "display_data"
    },
    {
     "data": {
      "text/plain": [
       "<Figure size 5760x1440 with 0 Axes>"
      ]
     },
     "metadata": {},
     "output_type": "display_data"
    },
    {
     "data": {
      "text/plain": [
       "<Figure size 5760x1440 with 0 Axes>"
      ]
     },
     "metadata": {},
     "output_type": "display_data"
    },
    {
     "data": {
      "text/plain": [
       "<Figure size 5760x1440 with 0 Axes>"
      ]
     },
     "metadata": {},
     "output_type": "display_data"
    },
    {
     "data": {
      "text/plain": [
       "<Figure size 5760x1440 with 0 Axes>"
      ]
     },
     "metadata": {},
     "output_type": "display_data"
    },
    {
     "data": {
      "text/plain": [
       "<Figure size 5760x1440 with 0 Axes>"
      ]
     },
     "metadata": {},
     "output_type": "display_data"
    },
    {
     "data": {
      "text/plain": [
       "<Figure size 5760x1440 with 0 Axes>"
      ]
     },
     "metadata": {},
     "output_type": "display_data"
    },
    {
     "data": {
      "text/plain": [
       "<Figure size 5760x1440 with 0 Axes>"
      ]
     },
     "metadata": {},
     "output_type": "display_data"
    },
    {
     "data": {
      "text/plain": [
       "<Figure size 5760x1440 with 0 Axes>"
      ]
     },
     "metadata": {},
     "output_type": "display_data"
    }
   ],
   "source": [
    "lss, lss_t = train(default_args, train_loader, test_loader, diva, optimizer, 2200, 1800, save_folder=\"VAE1\")"
   ]
  },
  {
   "cell_type": "code",
   "execution_count": 57,
   "metadata": {},
   "outputs": [
    {
     "name": "stderr",
     "output_type": "stream",
     "text": [
      "Epoch 2201: 272batch [00:49,  5.51batch/s, loss=6.84e+4]\n"
     ]
    },
    {
     "name": "stdout",
     "output_type": "stream",
     "text": [
      "epoch 2201: avg train loss 72793.14, bar train loss 209.439, len train loss 4.255, col train loss 134.908\n"
     ]
    },
    {
     "name": "stderr",
     "output_type": "stream",
     "text": [
      "Epoch 2202: 4batch [00:00, 35.40batch/s, loss=7.2e+4] "
     ]
    },
    {
     "name": "stdout",
     "output_type": "stream",
     "text": [
      "epoch 2201: avg test  loss 73228.16, bar  test loss 90.255, len  test loss 1.827, col  test loss 58.331\n"
     ]
    },
    {
     "name": "stderr",
     "output_type": "stream",
     "text": [
      "Epoch 2202: 272batch [00:08, 30.67batch/s, loss=7.02e+4]\n"
     ]
    },
    {
     "name": "stdout",
     "output_type": "stream",
     "text": [
      "epoch 2202: avg train loss 72791.09, bar train loss 209.440, len train loss 4.253, col train loss 134.870\n"
     ]
    },
    {
     "name": "stderr",
     "output_type": "stream",
     "text": [
      "Epoch 2203: 4batch [00:00, 36.36batch/s, loss=7.49e+4]"
     ]
    },
    {
     "name": "stdout",
     "output_type": "stream",
     "text": [
      "epoch 2202: avg test  loss 73202.65, bar  test loss 90.053, len  test loss 1.822, col  test loss 58.149\n"
     ]
    },
    {
     "name": "stderr",
     "output_type": "stream",
     "text": [
      "Epoch 2203: 272batch [00:07, 34.09batch/s, loss=6.72e+4]\n"
     ]
    },
    {
     "name": "stdout",
     "output_type": "stream",
     "text": [
      "epoch 2203: avg train loss 72788.41, bar train loss 209.404, len train loss 4.253, col train loss 134.862\n"
     ]
    },
    {
     "name": "stderr",
     "output_type": "stream",
     "text": [
      "Epoch 2204: 4batch [00:00, 33.61batch/s, loss=7.18e+4]"
     ]
    },
    {
     "name": "stdout",
     "output_type": "stream",
     "text": [
      "epoch 2203: avg test  loss 73184.84, bar  test loss 90.138, len  test loss 1.823, col  test loss 58.357\n"
     ]
    },
    {
     "name": "stderr",
     "output_type": "stream",
     "text": [
      "Epoch 2204: 272batch [00:07, 35.88batch/s, loss=6.94e+4]\n"
     ]
    },
    {
     "name": "stdout",
     "output_type": "stream",
     "text": [
      "epoch 2204: avg train loss 72778.25, bar train loss 209.394, len train loss 4.255, col train loss 134.843\n"
     ]
    },
    {
     "name": "stderr",
     "output_type": "stream",
     "text": [
      "Epoch 2205: 4batch [00:00, 33.90batch/s, loss=7.09e+4]"
     ]
    },
    {
     "name": "stdout",
     "output_type": "stream",
     "text": [
      "epoch 2204: avg test  loss 73242.62, bar  test loss 90.145, len  test loss 1.822, col  test loss 58.299\n"
     ]
    },
    {
     "name": "stderr",
     "output_type": "stream",
     "text": [
      "Epoch 2205: 272batch [00:08, 33.71batch/s, loss=7.29e+4]\n"
     ]
    },
    {
     "name": "stdout",
     "output_type": "stream",
     "text": [
      "epoch 2205: avg train loss 72791.06, bar train loss 209.403, len train loss 4.256, col train loss 134.845\n",
      "epoch 2205: avg test  loss 73203.21, bar  test loss 90.114, len  test loss 1.822, col  test loss 58.244\n"
     ]
    },
    {
     "name": "stderr",
     "output_type": "stream",
     "text": [
      "Epoch 2206: 272batch [00:08, 32.91batch/s, loss=7.85e+4]\n"
     ]
    },
    {
     "name": "stdout",
     "output_type": "stream",
     "text": [
      "epoch 2206: avg train loss 72779.04, bar train loss 209.395, len train loss 4.257, col train loss 134.843\n"
     ]
    },
    {
     "name": "stderr",
     "output_type": "stream",
     "text": [
      "Epoch 2207: 4batch [00:00, 35.71batch/s, loss=7.26e+4]"
     ]
    },
    {
     "name": "stdout",
     "output_type": "stream",
     "text": [
      "epoch 2206: avg test  loss 73207.80, bar  test loss 90.227, len  test loss 1.830, col  test loss 58.356\n"
     ]
    },
    {
     "name": "stderr",
     "output_type": "stream",
     "text": [
      "Epoch 2207: 272batch [00:07, 36.29batch/s, loss=7.24e+4]\n"
     ]
    },
    {
     "name": "stdout",
     "output_type": "stream",
     "text": [
      "epoch 2207: avg train loss 72787.62, bar train loss 209.426, len train loss 4.255, col train loss 134.896\n"
     ]
    },
    {
     "name": "stderr",
     "output_type": "stream",
     "text": [
      "Epoch 2208: 4batch [00:00, 33.90batch/s, loss=7.42e+4]"
     ]
    },
    {
     "name": "stdout",
     "output_type": "stream",
     "text": [
      "epoch 2207: avg test  loss 73217.59, bar  test loss 90.192, len  test loss 1.822, col  test loss 58.341\n"
     ]
    },
    {
     "name": "stderr",
     "output_type": "stream",
     "text": [
      "Epoch 2208: 272batch [00:07, 36.11batch/s, loss=7.27e+4]\n"
     ]
    },
    {
     "name": "stdout",
     "output_type": "stream",
     "text": [
      "epoch 2208: avg train loss 72779.05, bar train loss 209.397, len train loss 4.255, col train loss 134.838\n"
     ]
    },
    {
     "name": "stderr",
     "output_type": "stream",
     "text": [
      "Epoch 2209: 4batch [00:00, 35.09batch/s, loss=7.47e+4]"
     ]
    },
    {
     "name": "stdout",
     "output_type": "stream",
     "text": [
      "epoch 2208: avg test  loss 73190.15, bar  test loss 90.074, len  test loss 1.828, col  test loss 58.233\n"
     ]
    },
    {
     "name": "stderr",
     "output_type": "stream",
     "text": [
      "Epoch 2209: 272batch [00:07, 38.12batch/s, loss=6.53e+4]\n"
     ]
    },
    {
     "name": "stdout",
     "output_type": "stream",
     "text": [
      "epoch 2209: avg train loss 72785.30, bar train loss 209.406, len train loss 4.255, col train loss 134.867\n"
     ]
    },
    {
     "name": "stderr",
     "output_type": "stream",
     "text": [
      "Epoch 2210: 4batch [00:00, 37.04batch/s, loss=7.12e+4]"
     ]
    },
    {
     "name": "stdout",
     "output_type": "stream",
     "text": [
      "epoch 2209: avg test  loss 73219.73, bar  test loss 90.143, len  test loss 1.830, col  test loss 58.283\n"
     ]
    },
    {
     "name": "stderr",
     "output_type": "stream",
     "text": [
      "Epoch 2210: 272batch [00:07, 37.97batch/s, loss=7.38e+4]\n"
     ]
    },
    {
     "name": "stdout",
     "output_type": "stream",
     "text": [
      "epoch 2210: avg train loss 72794.05, bar train loss 209.468, len train loss 4.254, col train loss 134.916\n",
      "epoch 2210: avg test  loss 73190.92, bar  test loss 90.132, len  test loss 1.824, col  test loss 58.275\n"
     ]
    },
    {
     "name": "stderr",
     "output_type": "stream",
     "text": [
      "Epoch 2211: 272batch [00:07, 37.05batch/s, loss=6.98e+4]\n"
     ]
    },
    {
     "name": "stdout",
     "output_type": "stream",
     "text": [
      "epoch 2211: avg train loss 72784.57, bar train loss 209.446, len train loss 4.250, col train loss 134.884\n"
     ]
    },
    {
     "name": "stderr",
     "output_type": "stream",
     "text": [
      "Epoch 2212: 4batch [00:00, 32.26batch/s, loss=7.43e+4]"
     ]
    },
    {
     "name": "stdout",
     "output_type": "stream",
     "text": [
      "epoch 2211: avg test  loss 73179.89, bar  test loss 90.185, len  test loss 1.825, col  test loss 58.312\n"
     ]
    },
    {
     "name": "stderr",
     "output_type": "stream",
     "text": [
      "Epoch 2212: 272batch [00:07, 36.59batch/s, loss=7.43e+4]\n"
     ]
    },
    {
     "name": "stdout",
     "output_type": "stream",
     "text": [
      "epoch 2212: avg train loss 72789.72, bar train loss 209.426, len train loss 4.253, col train loss 134.868\n"
     ]
    },
    {
     "name": "stderr",
     "output_type": "stream",
     "text": [
      "Epoch 2213: 4batch [00:00, 33.06batch/s, loss=7.24e+4]"
     ]
    },
    {
     "name": "stdout",
     "output_type": "stream",
     "text": [
      "epoch 2212: avg test  loss 73244.89, bar  test loss 90.187, len  test loss 1.825, col  test loss 58.348\n"
     ]
    },
    {
     "name": "stderr",
     "output_type": "stream",
     "text": [
      "Epoch 2213: 272batch [00:07, 35.83batch/s, loss=7.13e+4]\n"
     ]
    },
    {
     "name": "stdout",
     "output_type": "stream",
     "text": [
      "epoch 2213: avg train loss 72785.76, bar train loss 209.422, len train loss 4.255, col train loss 134.858\n"
     ]
    },
    {
     "name": "stderr",
     "output_type": "stream",
     "text": [
      "Epoch 2214: 2batch [00:00, 19.80batch/s, loss=7.35e+4]"
     ]
    },
    {
     "name": "stdout",
     "output_type": "stream",
     "text": [
      "epoch 2213: avg test  loss 73195.38, bar  test loss 90.161, len  test loss 1.823, col  test loss 58.333\n"
     ]
    },
    {
     "name": "stderr",
     "output_type": "stream",
     "text": [
      "Epoch 2214: 272batch [00:07, 35.81batch/s, loss=7.46e+4]\n"
     ]
    },
    {
     "name": "stdout",
     "output_type": "stream",
     "text": [
      "epoch 2214: avg train loss 72774.73, bar train loss 209.384, len train loss 4.253, col train loss 134.797\n"
     ]
    },
    {
     "name": "stderr",
     "output_type": "stream",
     "text": [
      "Epoch 2215: 4batch [00:00, 31.50batch/s, loss=7.48e+4]"
     ]
    },
    {
     "name": "stdout",
     "output_type": "stream",
     "text": [
      "epoch 2214: avg test  loss 73228.82, bar  test loss 90.095, len  test loss 1.819, col  test loss 58.159\n"
     ]
    },
    {
     "name": "stderr",
     "output_type": "stream",
     "text": [
      "Epoch 2215: 272batch [00:07, 35.86batch/s, loss=6.51e+4]\n"
     ]
    },
    {
     "name": "stdout",
     "output_type": "stream",
     "text": [
      "epoch 2215: avg train loss 72786.96, bar train loss 209.356, len train loss 4.254, col train loss 134.863\n",
      "epoch 2215: avg test  loss 73198.19, bar  test loss 90.132, len  test loss 1.826, col  test loss 58.299\n"
     ]
    },
    {
     "name": "stderr",
     "output_type": "stream",
     "text": [
      "Epoch 2216: 272batch [00:07, 35.26batch/s, loss=7.44e+4]\n"
     ]
    },
    {
     "name": "stdout",
     "output_type": "stream",
     "text": [
      "epoch 2216: avg train loss 72787.07, bar train loss 209.397, len train loss 4.252, col train loss 134.855\n"
     ]
    },
    {
     "name": "stderr",
     "output_type": "stream",
     "text": [
      "Epoch 2217: 4batch [00:00, 33.33batch/s, loss=7.17e+4]"
     ]
    },
    {
     "name": "stdout",
     "output_type": "stream",
     "text": [
      "epoch 2216: avg test  loss 73196.98, bar  test loss 90.153, len  test loss 1.827, col  test loss 58.328\n"
     ]
    },
    {
     "name": "stderr",
     "output_type": "stream",
     "text": [
      "Epoch 2217: 272batch [00:07, 37.00batch/s, loss=7.03e+4]\n"
     ]
    },
    {
     "name": "stdout",
     "output_type": "stream",
     "text": [
      "epoch 2217: avg train loss 72774.67, bar train loss 209.369, len train loss 4.255, col train loss 134.828\n"
     ]
    },
    {
     "name": "stderr",
     "output_type": "stream",
     "text": [
      "Epoch 2218: 4batch [00:00, 36.36batch/s, loss=7.06e+4]"
     ]
    },
    {
     "name": "stdout",
     "output_type": "stream",
     "text": [
      "epoch 2217: avg test  loss 73214.65, bar  test loss 90.189, len  test loss 1.826, col  test loss 58.308\n"
     ]
    },
    {
     "name": "stderr",
     "output_type": "stream",
     "text": [
      "Epoch 2218: 272batch [00:07, 37.11batch/s, loss=7.74e+4]\n"
     ]
    },
    {
     "name": "stdout",
     "output_type": "stream",
     "text": [
      "epoch 2218: avg train loss 72783.91, bar train loss 209.405, len train loss 4.253, col train loss 134.832\n"
     ]
    },
    {
     "name": "stderr",
     "output_type": "stream",
     "text": [
      "Epoch 2219: 4batch [00:00, 33.90batch/s, loss=7.32e+4]"
     ]
    },
    {
     "name": "stdout",
     "output_type": "stream",
     "text": [
      "epoch 2218: avg test  loss 73223.31, bar  test loss 90.184, len  test loss 1.822, col  test loss 58.258\n"
     ]
    },
    {
     "name": "stderr",
     "output_type": "stream",
     "text": [
      "Epoch 2219: 272batch [00:07, 37.58batch/s, loss=69694.0]\n"
     ]
    },
    {
     "name": "stdout",
     "output_type": "stream",
     "text": [
      "epoch 2219: avg train loss 72782.08, bar train loss 209.425, len train loss 4.251, col train loss 134.887\n"
     ]
    },
    {
     "name": "stderr",
     "output_type": "stream",
     "text": [
      "Epoch 2220: 4batch [00:00, 36.36batch/s, loss=7.04e+4]"
     ]
    },
    {
     "name": "stdout",
     "output_type": "stream",
     "text": [
      "epoch 2219: avg test  loss 73224.65, bar  test loss 90.318, len  test loss 1.829, col  test loss 58.355\n"
     ]
    },
    {
     "name": "stderr",
     "output_type": "stream",
     "text": [
      "Epoch 2220: 272batch [00:07, 38.31batch/s, loss=6.84e+4]\n"
     ]
    },
    {
     "name": "stdout",
     "output_type": "stream",
     "text": [
      "epoch 2220: avg train loss 72786.30, bar train loss 209.413, len train loss 4.253, col train loss 134.859\n",
      "epoch 2220: avg test  loss 73206.64, bar  test loss 90.103, len  test loss 1.823, col  test loss 58.423\n"
     ]
    },
    {
     "name": "stderr",
     "output_type": "stream",
     "text": [
      "Epoch 2221: 272batch [00:07, 38.18batch/s, loss=7.43e+4]\n"
     ]
    },
    {
     "name": "stdout",
     "output_type": "stream",
     "text": [
      "epoch 2221: avg train loss 72786.84, bar train loss 209.398, len train loss 4.254, col train loss 134.854\n"
     ]
    },
    {
     "name": "stderr",
     "output_type": "stream",
     "text": [
      "Epoch 2222: 4batch [00:00, 34.78batch/s, loss=7.4e+4] "
     ]
    },
    {
     "name": "stdout",
     "output_type": "stream",
     "text": [
      "epoch 2221: avg test  loss 73211.38, bar  test loss 89.960, len  test loss 1.821, col  test loss 58.167\n"
     ]
    },
    {
     "name": "stderr",
     "output_type": "stream",
     "text": [
      "Epoch 2222: 272batch [00:07, 36.91batch/s, loss=8.07e+4]\n"
     ]
    },
    {
     "name": "stdout",
     "output_type": "stream",
     "text": [
      "epoch 2222: avg train loss 72784.65, bar train loss 209.406, len train loss 4.248, col train loss 134.848\n"
     ]
    },
    {
     "name": "stderr",
     "output_type": "stream",
     "text": [
      "Epoch 2223: 4batch [00:00, 32.00batch/s, loss=7.56e+4]"
     ]
    },
    {
     "name": "stdout",
     "output_type": "stream",
     "text": [
      "epoch 2222: avg test  loss 73184.74, bar  test loss 90.216, len  test loss 1.825, col  test loss 58.365\n"
     ]
    },
    {
     "name": "stderr",
     "output_type": "stream",
     "text": [
      "Epoch 2223: 272batch [00:07, 37.40batch/s, loss=7.8e+4] \n"
     ]
    },
    {
     "name": "stdout",
     "output_type": "stream",
     "text": [
      "epoch 2223: avg train loss 72772.41, bar train loss 209.390, len train loss 4.253, col train loss 134.837\n"
     ]
    },
    {
     "name": "stderr",
     "output_type": "stream",
     "text": [
      "Epoch 2224: 4batch [00:00, 32.52batch/s, loss=7.12e+4]"
     ]
    },
    {
     "name": "stdout",
     "output_type": "stream",
     "text": [
      "epoch 2223: avg test  loss 73208.79, bar  test loss 90.126, len  test loss 1.824, col  test loss 58.292\n"
     ]
    },
    {
     "name": "stderr",
     "output_type": "stream",
     "text": [
      "Epoch 2224: 272batch [00:07, 37.31batch/s, loss=7.37e+4]\n"
     ]
    },
    {
     "name": "stdout",
     "output_type": "stream",
     "text": [
      "epoch 2224: avg train loss 72788.69, bar train loss 209.417, len train loss 4.253, col train loss 134.873\n"
     ]
    },
    {
     "name": "stderr",
     "output_type": "stream",
     "text": [
      "Epoch 2225: 4batch [00:00, 36.70batch/s, loss=7.16e+4]"
     ]
    },
    {
     "name": "stdout",
     "output_type": "stream",
     "text": [
      "epoch 2224: avg test  loss 73212.59, bar  test loss 90.294, len  test loss 1.828, col  test loss 58.380\n"
     ]
    },
    {
     "name": "stderr",
     "output_type": "stream",
     "text": [
      "Epoch 2225: 272batch [00:07, 38.43batch/s, loss=7.49e+4]\n"
     ]
    },
    {
     "name": "stdout",
     "output_type": "stream",
     "text": [
      "epoch 2225: avg train loss 72779.73, bar train loss 209.412, len train loss 4.252, col train loss 134.814\n",
      "epoch 2225: avg test  loss 73185.27, bar  test loss 90.195, len  test loss 1.829, col  test loss 58.295\n"
     ]
    },
    {
     "name": "stderr",
     "output_type": "stream",
     "text": [
      "Epoch 2226: 272batch [00:07, 38.39batch/s, loss=7.58e+4]\n"
     ]
    },
    {
     "name": "stdout",
     "output_type": "stream",
     "text": [
      "epoch 2226: avg train loss 72779.69, bar train loss 209.407, len train loss 4.249, col train loss 134.842\n"
     ]
    },
    {
     "name": "stderr",
     "output_type": "stream",
     "text": [
      "Epoch 2227: 4batch [00:00, 33.61batch/s, loss=7e+4]   "
     ]
    },
    {
     "name": "stdout",
     "output_type": "stream",
     "text": [
      "epoch 2226: avg test  loss 73193.59, bar  test loss 90.213, len  test loss 1.826, col  test loss 58.320\n"
     ]
    },
    {
     "name": "stderr",
     "output_type": "stream",
     "text": [
      "Epoch 2227: 272batch [00:07, 38.01batch/s, loss=6.47e+4]\n"
     ]
    },
    {
     "name": "stdout",
     "output_type": "stream",
     "text": [
      "epoch 2227: avg train loss 72778.95, bar train loss 209.392, len train loss 4.254, col train loss 134.833\n"
     ]
    },
    {
     "name": "stderr",
     "output_type": "stream",
     "text": [
      "Epoch 2228: 4batch [00:00, 36.36batch/s, loss=7.41e+4]"
     ]
    },
    {
     "name": "stdout",
     "output_type": "stream",
     "text": [
      "epoch 2227: avg test  loss 73209.98, bar  test loss 90.077, len  test loss 1.824, col  test loss 58.396\n"
     ]
    },
    {
     "name": "stderr",
     "output_type": "stream",
     "text": [
      "Epoch 2228: 272batch [00:06, 38.94batch/s, loss=8.13e+4]\n"
     ]
    },
    {
     "name": "stdout",
     "output_type": "stream",
     "text": [
      "epoch 2228: avg train loss 72779.60, bar train loss 209.368, len train loss 4.252, col train loss 134.809\n"
     ]
    },
    {
     "name": "stderr",
     "output_type": "stream",
     "text": [
      "Epoch 2229: 4batch [00:00, 36.70batch/s, loss=7.68e+4]"
     ]
    },
    {
     "name": "stdout",
     "output_type": "stream",
     "text": [
      "epoch 2228: avg test  loss 73224.38, bar  test loss 90.333, len  test loss 1.828, col  test loss 58.441\n"
     ]
    },
    {
     "name": "stderr",
     "output_type": "stream",
     "text": [
      "Epoch 2229: 272batch [00:07, 38.47batch/s, loss=7.64e+4]\n"
     ]
    },
    {
     "name": "stdout",
     "output_type": "stream",
     "text": [
      "epoch 2229: avg train loss 72780.15, bar train loss 209.399, len train loss 4.251, col train loss 134.836\n"
     ]
    },
    {
     "name": "stderr",
     "output_type": "stream",
     "text": [
      "Epoch 2230: 4batch [00:00, 35.71batch/s, loss=70226.5]"
     ]
    },
    {
     "name": "stdout",
     "output_type": "stream",
     "text": [
      "epoch 2229: avg test  loss 73216.74, bar  test loss 90.131, len  test loss 1.821, col  test loss 58.340\n"
     ]
    },
    {
     "name": "stderr",
     "output_type": "stream",
     "text": [
      "Epoch 2230: 272batch [00:07, 36.57batch/s, loss=69456.0]\n"
     ]
    },
    {
     "name": "stdout",
     "output_type": "stream",
     "text": [
      "epoch 2230: avg train loss 72779.23, bar train loss 209.377, len train loss 4.253, col train loss 134.841\n",
      "epoch 2230: avg test  loss 73184.15, bar  test loss 90.103, len  test loss 1.827, col  test loss 58.255\n"
     ]
    },
    {
     "name": "stderr",
     "output_type": "stream",
     "text": [
      "Epoch 2231: 272batch [00:07, 36.71batch/s, loss=7.24e+4]\n"
     ]
    },
    {
     "name": "stdout",
     "output_type": "stream",
     "text": [
      "epoch 2231: avg train loss 72776.11, bar train loss 209.371, len train loss 4.252, col train loss 134.810\n"
     ]
    },
    {
     "name": "stderr",
     "output_type": "stream",
     "text": [
      "Epoch 2232: 4batch [00:00, 35.09batch/s, loss=7.14e+4]"
     ]
    },
    {
     "name": "stdout",
     "output_type": "stream",
     "text": [
      "epoch 2231: avg test  loss 73196.09, bar  test loss 90.182, len  test loss 1.821, col  test loss 58.235\n"
     ]
    },
    {
     "name": "stderr",
     "output_type": "stream",
     "text": [
      "Epoch 2232: 272batch [00:07, 37.15batch/s, loss=7.57e+4]\n"
     ]
    },
    {
     "name": "stdout",
     "output_type": "stream",
     "text": [
      "epoch 2232: avg train loss 72778.92, bar train loss 209.360, len train loss 4.252, col train loss 134.836\n"
     ]
    },
    {
     "name": "stderr",
     "output_type": "stream",
     "text": [
      "Epoch 2233: 4batch [00:00, 34.19batch/s, loss=6.94e+4]"
     ]
    },
    {
     "name": "stdout",
     "output_type": "stream",
     "text": [
      "epoch 2232: avg test  loss 73198.90, bar  test loss 90.073, len  test loss 1.823, col  test loss 58.343\n"
     ]
    },
    {
     "name": "stderr",
     "output_type": "stream",
     "text": [
      "Epoch 2233: 272batch [00:07, 36.88batch/s, loss=7.36e+4]\n"
     ]
    },
    {
     "name": "stdout",
     "output_type": "stream",
     "text": [
      "epoch 2233: avg train loss 72780.64, bar train loss 209.392, len train loss 4.252, col train loss 134.837\n"
     ]
    },
    {
     "name": "stderr",
     "output_type": "stream",
     "text": [
      "Epoch 2234: 4batch [00:00, 37.04batch/s, loss=7.32e+4]"
     ]
    },
    {
     "name": "stdout",
     "output_type": "stream",
     "text": [
      "epoch 2233: avg test  loss 73238.85, bar  test loss 90.216, len  test loss 1.823, col  test loss 58.214\n"
     ]
    },
    {
     "name": "stderr",
     "output_type": "stream",
     "text": [
      "Epoch 2234: 272batch [00:07, 37.98batch/s, loss=7.04e+4]\n"
     ]
    },
    {
     "name": "stdout",
     "output_type": "stream",
     "text": [
      "epoch 2234: avg train loss 72781.70, bar train loss 209.383, len train loss 4.254, col train loss 134.849\n"
     ]
    },
    {
     "name": "stderr",
     "output_type": "stream",
     "text": [
      "Epoch 2235: 4batch [00:00, 36.04batch/s, loss=7.26e+4]"
     ]
    },
    {
     "name": "stdout",
     "output_type": "stream",
     "text": [
      "epoch 2234: avg test  loss 73222.96, bar  test loss 90.167, len  test loss 1.826, col  test loss 58.327\n"
     ]
    },
    {
     "name": "stderr",
     "output_type": "stream",
     "text": [
      "Epoch 2235: 272batch [00:07, 37.86batch/s, loss=8.06e+4]\n"
     ]
    },
    {
     "name": "stdout",
     "output_type": "stream",
     "text": [
      "epoch 2235: avg train loss 72778.65, bar train loss 209.397, len train loss 4.250, col train loss 134.831\n",
      "epoch 2235: avg test  loss 73193.46, bar  test loss 90.194, len  test loss 1.823, col  test loss 58.330\n"
     ]
    },
    {
     "name": "stderr",
     "output_type": "stream",
     "text": [
      "Epoch 2236: 272batch [00:07, 37.15batch/s, loss=6.86e+4]\n"
     ]
    },
    {
     "name": "stdout",
     "output_type": "stream",
     "text": [
      "epoch 2236: avg train loss 72787.57, bar train loss 209.409, len train loss 4.253, col train loss 134.893\n"
     ]
    },
    {
     "name": "stderr",
     "output_type": "stream",
     "text": [
      "Epoch 2237: 4batch [00:00, 33.33batch/s, loss=7.38e+4]"
     ]
    },
    {
     "name": "stdout",
     "output_type": "stream",
     "text": [
      "epoch 2236: avg test  loss 73224.09, bar  test loss 90.144, len  test loss 1.822, col  test loss 58.276\n"
     ]
    },
    {
     "name": "stderr",
     "output_type": "stream",
     "text": [
      "Epoch 2237: 272batch [00:07, 37.43batch/s, loss=7.03e+4]\n"
     ]
    },
    {
     "name": "stdout",
     "output_type": "stream",
     "text": [
      "epoch 2237: avg train loss 72783.98, bar train loss 209.402, len train loss 4.246, col train loss 134.866\n"
     ]
    },
    {
     "name": "stderr",
     "output_type": "stream",
     "text": [
      "Epoch 2238: 4batch [00:00, 36.04batch/s, loss=7.39e+4]"
     ]
    },
    {
     "name": "stdout",
     "output_type": "stream",
     "text": [
      "epoch 2237: avg test  loss 73211.09, bar  test loss 90.133, len  test loss 1.822, col  test loss 58.255\n"
     ]
    },
    {
     "name": "stderr",
     "output_type": "stream",
     "text": [
      "Epoch 2238: 272batch [00:07, 37.22batch/s, loss=6.67e+4]\n"
     ]
    },
    {
     "name": "stdout",
     "output_type": "stream",
     "text": [
      "epoch 2238: avg train loss 72779.31, bar train loss 209.403, len train loss 4.248, col train loss 134.856\n"
     ]
    },
    {
     "name": "stderr",
     "output_type": "stream",
     "text": [
      "Epoch 2239: 4batch [00:00, 35.71batch/s, loss=7.36e+4]"
     ]
    },
    {
     "name": "stdout",
     "output_type": "stream",
     "text": [
      "epoch 2238: avg test  loss 73262.42, bar  test loss 90.333, len  test loss 1.824, col  test loss 58.367\n"
     ]
    },
    {
     "name": "stderr",
     "output_type": "stream",
     "text": [
      "Epoch 2239: 272batch [00:07, 36.60batch/s, loss=6.68e+4]\n"
     ]
    },
    {
     "name": "stdout",
     "output_type": "stream",
     "text": [
      "epoch 2239: avg train loss 72771.85, bar train loss 209.408, len train loss 4.252, col train loss 134.817\n"
     ]
    },
    {
     "name": "stderr",
     "output_type": "stream",
     "text": [
      "Epoch 2240: 4batch [00:00, 34.78batch/s, loss=8.01e+4]"
     ]
    },
    {
     "name": "stdout",
     "output_type": "stream",
     "text": [
      "epoch 2239: avg test  loss 73191.41, bar  test loss 90.235, len  test loss 1.823, col  test loss 58.338\n"
     ]
    },
    {
     "name": "stderr",
     "output_type": "stream",
     "text": [
      "Epoch 2240: 272batch [00:07, 37.44batch/s, loss=7.15e+4]\n"
     ]
    },
    {
     "name": "stdout",
     "output_type": "stream",
     "text": [
      "epoch 2240: avg train loss 72786.91, bar train loss 209.402, len train loss 4.249, col train loss 134.858\n",
      "epoch 2240: avg test  loss 73219.66, bar  test loss 90.006, len  test loss 1.817, col  test loss 58.152\n"
     ]
    },
    {
     "name": "stderr",
     "output_type": "stream",
     "text": [
      "Epoch 2241: 272batch [00:07, 36.11batch/s, loss=7.69e+4]\n"
     ]
    },
    {
     "name": "stdout",
     "output_type": "stream",
     "text": [
      "epoch 2241: avg train loss 72778.20, bar train loss 209.374, len train loss 4.250, col train loss 134.821\n"
     ]
    },
    {
     "name": "stderr",
     "output_type": "stream",
     "text": [
      "Epoch 2242: 4batch [00:00, 35.71batch/s, loss=7.36e+4]"
     ]
    },
    {
     "name": "stdout",
     "output_type": "stream",
     "text": [
      "epoch 2241: avg test  loss 73198.37, bar  test loss 90.161, len  test loss 1.820, col  test loss 58.277\n"
     ]
    },
    {
     "name": "stderr",
     "output_type": "stream",
     "text": [
      "Epoch 2242: 272batch [00:07, 37.03batch/s, loss=7.06e+4]\n"
     ]
    },
    {
     "name": "stdout",
     "output_type": "stream",
     "text": [
      "epoch 2242: avg train loss 72777.73, bar train loss 209.409, len train loss 4.250, col train loss 134.811\n"
     ]
    },
    {
     "name": "stderr",
     "output_type": "stream",
     "text": [
      "Epoch 2243: 4batch [00:00, 35.09batch/s, loss=7.32e+4]"
     ]
    },
    {
     "name": "stdout",
     "output_type": "stream",
     "text": [
      "epoch 2242: avg test  loss 73212.70, bar  test loss 90.086, len  test loss 1.820, col  test loss 58.293\n"
     ]
    },
    {
     "name": "stderr",
     "output_type": "stream",
     "text": [
      "Epoch 2243: 272batch [00:07, 37.09batch/s, loss=7.03e+4]\n"
     ]
    },
    {
     "name": "stdout",
     "output_type": "stream",
     "text": [
      "epoch 2243: avg train loss 72769.23, bar train loss 209.375, len train loss 4.250, col train loss 134.810\n"
     ]
    },
    {
     "name": "stderr",
     "output_type": "stream",
     "text": [
      "Epoch 2244: 4batch [00:00, 37.74batch/s, loss=7.25e+4]"
     ]
    },
    {
     "name": "stdout",
     "output_type": "stream",
     "text": [
      "epoch 2243: avg test  loss 73191.01, bar  test loss 90.153, len  test loss 1.821, col  test loss 58.354\n"
     ]
    },
    {
     "name": "stderr",
     "output_type": "stream",
     "text": [
      "Epoch 2244: 272batch [00:07, 37.24batch/s, loss=7.01e+4]\n"
     ]
    },
    {
     "name": "stdout",
     "output_type": "stream",
     "text": [
      "epoch 2244: avg train loss 72776.66, bar train loss 209.404, len train loss 4.250, col train loss 134.850\n"
     ]
    },
    {
     "name": "stderr",
     "output_type": "stream",
     "text": [
      "Epoch 2245: 4batch [00:00, 36.70batch/s, loss=7.59e+4]"
     ]
    },
    {
     "name": "stdout",
     "output_type": "stream",
     "text": [
      "epoch 2244: avg test  loss 73193.86, bar  test loss 90.268, len  test loss 1.825, col  test loss 58.397\n"
     ]
    },
    {
     "name": "stderr",
     "output_type": "stream",
     "text": [
      "Epoch 2245: 272batch [00:07, 36.05batch/s, loss=8.29e+4]\n"
     ]
    },
    {
     "name": "stdout",
     "output_type": "stream",
     "text": [
      "epoch 2245: avg train loss 72772.68, bar train loss 209.363, len train loss 4.252, col train loss 134.819\n",
      "epoch 2245: avg test  loss 73198.93, bar  test loss 90.194, len  test loss 1.823, col  test loss 58.292\n"
     ]
    },
    {
     "name": "stderr",
     "output_type": "stream",
     "text": [
      "Epoch 2246: 272batch [00:07, 35.93batch/s, loss=7.9e+4] \n"
     ]
    },
    {
     "name": "stdout",
     "output_type": "stream",
     "text": [
      "epoch 2246: avg train loss 72784.34, bar train loss 209.392, len train loss 4.250, col train loss 134.841\n"
     ]
    },
    {
     "name": "stderr",
     "output_type": "stream",
     "text": [
      "Epoch 2247: 4batch [00:00, 36.36batch/s, loss=7.59e+4]"
     ]
    },
    {
     "name": "stdout",
     "output_type": "stream",
     "text": [
      "epoch 2246: avg test  loss 73188.55, bar  test loss 90.157, len  test loss 1.827, col  test loss 58.271\n"
     ]
    },
    {
     "name": "stderr",
     "output_type": "stream",
     "text": [
      "Epoch 2247: 272batch [00:07, 36.48batch/s, loss=7.75e+4]\n"
     ]
    },
    {
     "name": "stdout",
     "output_type": "stream",
     "text": [
      "epoch 2247: avg train loss 72773.73, bar train loss 209.382, len train loss 4.253, col train loss 134.851\n"
     ]
    },
    {
     "name": "stderr",
     "output_type": "stream",
     "text": [
      "Epoch 2248: 4batch [00:00, 36.03batch/s, loss=7.5e+4] "
     ]
    },
    {
     "name": "stdout",
     "output_type": "stream",
     "text": [
      "epoch 2247: avg test  loss 73241.15, bar  test loss 90.215, len  test loss 1.821, col  test loss 58.310\n"
     ]
    },
    {
     "name": "stderr",
     "output_type": "stream",
     "text": [
      "Epoch 2248: 272batch [00:07, 36.48batch/s, loss=7.36e+4]\n"
     ]
    },
    {
     "name": "stdout",
     "output_type": "stream",
     "text": [
      "epoch 2248: avg train loss 72761.99, bar train loss 209.356, len train loss 4.251, col train loss 134.806\n"
     ]
    },
    {
     "name": "stderr",
     "output_type": "stream",
     "text": [
      "Epoch 2249: 4batch [00:00, 36.70batch/s, loss=7.26e+4]"
     ]
    },
    {
     "name": "stdout",
     "output_type": "stream",
     "text": [
      "epoch 2248: avg test  loss 73213.12, bar  test loss 90.254, len  test loss 1.824, col  test loss 58.377\n"
     ]
    },
    {
     "name": "stderr",
     "output_type": "stream",
     "text": [
      "Epoch 2249: 272batch [00:07, 37.95batch/s, loss=6.64e+4]\n"
     ]
    },
    {
     "name": "stdout",
     "output_type": "stream",
     "text": [
      "epoch 2249: avg train loss 72776.24, bar train loss 209.410, len train loss 4.249, col train loss 134.838\n"
     ]
    },
    {
     "name": "stderr",
     "output_type": "stream",
     "text": [
      "Epoch 2250: 4batch [00:00, 37.38batch/s, loss=7.2e+4] "
     ]
    },
    {
     "name": "stdout",
     "output_type": "stream",
     "text": [
      "epoch 2249: avg test  loss 73196.86, bar  test loss 90.304, len  test loss 1.825, col  test loss 58.348\n"
     ]
    },
    {
     "name": "stderr",
     "output_type": "stream",
     "text": [
      "Epoch 2250: 272batch [00:07, 38.02batch/s, loss=8.03e+4]\n"
     ]
    },
    {
     "name": "stdout",
     "output_type": "stream",
     "text": [
      "epoch 2250: avg train loss 72774.47, bar train loss 209.382, len train loss 4.251, col train loss 134.815\n",
      "epoch 2250: avg test  loss 73214.08, bar  test loss 90.157, len  test loss 1.826, col  test loss 58.218\n"
     ]
    },
    {
     "name": "stderr",
     "output_type": "stream",
     "text": [
      "Epoch 2251: 272batch [00:07, 37.48batch/s, loss=7.11e+4]\n"
     ]
    },
    {
     "name": "stdout",
     "output_type": "stream",
     "text": [
      "epoch 2251: avg train loss 72768.23, bar train loss 209.357, len train loss 4.249, col train loss 134.792\n"
     ]
    },
    {
     "name": "stderr",
     "output_type": "stream",
     "text": [
      "Epoch 2252: 4batch [00:00, 36.36batch/s, loss=7.51e+4]"
     ]
    },
    {
     "name": "stdout",
     "output_type": "stream",
     "text": [
      "epoch 2251: avg test  loss 73206.95, bar  test loss 90.191, len  test loss 1.827, col  test loss 58.429\n"
     ]
    },
    {
     "name": "stderr",
     "output_type": "stream",
     "text": [
      "Epoch 2252: 272batch [00:07, 36.30batch/s, loss=7.25e+4]\n"
     ]
    },
    {
     "name": "stdout",
     "output_type": "stream",
     "text": [
      "epoch 2252: avg train loss 72777.00, bar train loss 209.361, len train loss 4.251, col train loss 134.837\n"
     ]
    },
    {
     "name": "stderr",
     "output_type": "stream",
     "text": [
      "Epoch 2253: 4batch [00:00, 37.38batch/s, loss=7.32e+4]"
     ]
    },
    {
     "name": "stdout",
     "output_type": "stream",
     "text": [
      "epoch 2252: avg test  loss 73256.37, bar  test loss 90.191, len  test loss 1.819, col  test loss 58.439\n"
     ]
    },
    {
     "name": "stderr",
     "output_type": "stream",
     "text": [
      "Epoch 2253: 272batch [00:07, 37.00batch/s, loss=6.72e+4]\n"
     ]
    },
    {
     "name": "stdout",
     "output_type": "stream",
     "text": [
      "epoch 2253: avg train loss 72774.45, bar train loss 209.368, len train loss 4.250, col train loss 134.853\n"
     ]
    },
    {
     "name": "stderr",
     "output_type": "stream",
     "text": [
      "Epoch 2254: 4batch [00:00, 33.61batch/s, loss=7.26e+4]"
     ]
    },
    {
     "name": "stdout",
     "output_type": "stream",
     "text": [
      "epoch 2253: avg test  loss 73210.29, bar  test loss 90.214, len  test loss 1.815, col  test loss 58.351\n"
     ]
    },
    {
     "name": "stderr",
     "output_type": "stream",
     "text": [
      "Epoch 2254: 272batch [00:07, 35.46batch/s, loss=80479.0]\n"
     ]
    },
    {
     "name": "stdout",
     "output_type": "stream",
     "text": [
      "epoch 2254: avg train loss 72774.87, bar train loss 209.402, len train loss 4.250, col train loss 134.823\n"
     ]
    },
    {
     "name": "stderr",
     "output_type": "stream",
     "text": [
      "Epoch 2255: 4batch [00:00, 34.49batch/s, loss=7.41e+4]"
     ]
    },
    {
     "name": "stdout",
     "output_type": "stream",
     "text": [
      "epoch 2254: avg test  loss 73194.96, bar  test loss 90.323, len  test loss 1.822, col  test loss 58.349\n"
     ]
    },
    {
     "name": "stderr",
     "output_type": "stream",
     "text": [
      "Epoch 2255: 272batch [00:07, 38.10batch/s, loss=7.01e+4]\n"
     ]
    },
    {
     "name": "stdout",
     "output_type": "stream",
     "text": [
      "epoch 2255: avg train loss 72780.79, bar train loss 209.404, len train loss 4.248, col train loss 134.850\n",
      "epoch 2255: avg test  loss 73186.83, bar  test loss 90.271, len  test loss 1.820, col  test loss 58.364\n"
     ]
    },
    {
     "name": "stderr",
     "output_type": "stream",
     "text": [
      "Epoch 2256: 272batch [00:07, 37.56batch/s, loss=7.24e+4]\n"
     ]
    },
    {
     "name": "stdout",
     "output_type": "stream",
     "text": [
      "epoch 2256: avg train loss 72761.77, bar train loss 209.345, len train loss 4.250, col train loss 134.825\n"
     ]
    },
    {
     "name": "stderr",
     "output_type": "stream",
     "text": [
      "Epoch 2257: 4batch [00:00, 36.37batch/s, loss=7.05e+4]"
     ]
    },
    {
     "name": "stdout",
     "output_type": "stream",
     "text": [
      "epoch 2256: avg test  loss 73223.02, bar  test loss 90.166, len  test loss 1.825, col  test loss 58.315\n"
     ]
    },
    {
     "name": "stderr",
     "output_type": "stream",
     "text": [
      "Epoch 2257: 272batch [00:07, 37.96batch/s, loss=7.12e+4]\n"
     ]
    },
    {
     "name": "stdout",
     "output_type": "stream",
     "text": [
      "epoch 2257: avg train loss 72772.39, bar train loss 209.348, len train loss 4.247, col train loss 134.804\n"
     ]
    },
    {
     "name": "stderr",
     "output_type": "stream",
     "text": [
      "Epoch 2258: 4batch [00:00, 35.09batch/s, loss=7.52e+4]"
     ]
    },
    {
     "name": "stdout",
     "output_type": "stream",
     "text": [
      "epoch 2257: avg test  loss 73206.97, bar  test loss 90.179, len  test loss 1.831, col  test loss 58.295\n"
     ]
    },
    {
     "name": "stderr",
     "output_type": "stream",
     "text": [
      "Epoch 2258: 272batch [00:07, 37.79batch/s, loss=7.21e+4]\n"
     ]
    },
    {
     "name": "stdout",
     "output_type": "stream",
     "text": [
      "epoch 2258: avg train loss 72774.68, bar train loss 209.378, len train loss 4.250, col train loss 134.795\n"
     ]
    },
    {
     "name": "stderr",
     "output_type": "stream",
     "text": [
      "Epoch 2259: 4batch [00:00, 33.90batch/s, loss=7.64e+4]"
     ]
    },
    {
     "name": "stdout",
     "output_type": "stream",
     "text": [
      "epoch 2258: avg test  loss 73204.09, bar  test loss 90.038, len  test loss 1.818, col  test loss 58.215\n"
     ]
    },
    {
     "name": "stderr",
     "output_type": "stream",
     "text": [
      "Epoch 2259: 272batch [00:07, 37.23batch/s, loss=6.99e+4]\n"
     ]
    },
    {
     "name": "stdout",
     "output_type": "stream",
     "text": [
      "epoch 2259: avg train loss 72765.48, bar train loss 209.344, len train loss 4.249, col train loss 134.790\n"
     ]
    },
    {
     "name": "stderr",
     "output_type": "stream",
     "text": [
      "Epoch 2260: 4batch [00:00, 35.71batch/s, loss=7.03e+4]"
     ]
    },
    {
     "name": "stdout",
     "output_type": "stream",
     "text": [
      "epoch 2259: avg test  loss 73208.66, bar  test loss 90.239, len  test loss 1.822, col  test loss 58.333\n"
     ]
    },
    {
     "name": "stderr",
     "output_type": "stream",
     "text": [
      "Epoch 2260: 272batch [00:07, 37.77batch/s, loss=6.98e+4]\n"
     ]
    },
    {
     "name": "stdout",
     "output_type": "stream",
     "text": [
      "epoch 2260: avg train loss 72768.54, bar train loss 209.380, len train loss 4.253, col train loss 134.829\n",
      "epoch 2260: avg test  loss 73206.76, bar  test loss 90.177, len  test loss 1.828, col  test loss 58.320\n"
     ]
    },
    {
     "name": "stderr",
     "output_type": "stream",
     "text": [
      "Epoch 2261: 272batch [00:07, 37.62batch/s, loss=7.56e+4]\n"
     ]
    },
    {
     "name": "stdout",
     "output_type": "stream",
     "text": [
      "epoch 2261: avg train loss 72769.78, bar train loss 209.370, len train loss 4.252, col train loss 134.797\n"
     ]
    },
    {
     "name": "stderr",
     "output_type": "stream",
     "text": [
      "Epoch 2262: 4batch [00:00, 35.71batch/s, loss=7.59e+4]"
     ]
    },
    {
     "name": "stdout",
     "output_type": "stream",
     "text": [
      "epoch 2261: avg test  loss 73215.16, bar  test loss 90.219, len  test loss 1.829, col  test loss 58.415\n"
     ]
    },
    {
     "name": "stderr",
     "output_type": "stream",
     "text": [
      "Epoch 2262: 272batch [00:07, 37.14batch/s, loss=7.59e+4]\n"
     ]
    },
    {
     "name": "stdout",
     "output_type": "stream",
     "text": [
      "epoch 2262: avg train loss 72765.22, bar train loss 209.375, len train loss 4.253, col train loss 134.782\n"
     ]
    },
    {
     "name": "stderr",
     "output_type": "stream",
     "text": [
      "Epoch 2263: 4batch [00:00, 36.04batch/s, loss=7.37e+4]"
     ]
    },
    {
     "name": "stdout",
     "output_type": "stream",
     "text": [
      "epoch 2262: avg test  loss 73202.20, bar  test loss 90.048, len  test loss 1.818, col  test loss 58.292\n"
     ]
    },
    {
     "name": "stderr",
     "output_type": "stream",
     "text": [
      "Epoch 2263: 272batch [00:07, 37.55batch/s, loss=6.5e+4] \n"
     ]
    },
    {
     "name": "stdout",
     "output_type": "stream",
     "text": [
      "epoch 2263: avg train loss 72769.34, bar train loss 209.352, len train loss 4.249, col train loss 134.769\n"
     ]
    },
    {
     "name": "stderr",
     "output_type": "stream",
     "text": [
      "Epoch 2264: 4batch [00:00, 35.71batch/s, loss=7.28e+4]"
     ]
    },
    {
     "name": "stdout",
     "output_type": "stream",
     "text": [
      "epoch 2263: avg test  loss 73210.83, bar  test loss 90.168, len  test loss 1.828, col  test loss 58.463\n"
     ]
    },
    {
     "name": "stderr",
     "output_type": "stream",
     "text": [
      "Epoch 2264: 272batch [00:07, 37.73batch/s, loss=7.74e+4]\n"
     ]
    },
    {
     "name": "stdout",
     "output_type": "stream",
     "text": [
      "epoch 2264: avg train loss 72776.78, bar train loss 209.372, len train loss 4.249, col train loss 134.834\n"
     ]
    },
    {
     "name": "stderr",
     "output_type": "stream",
     "text": [
      "Epoch 2265: 4batch [00:00, 36.36batch/s, loss=7.35e+4]"
     ]
    },
    {
     "name": "stdout",
     "output_type": "stream",
     "text": [
      "epoch 2264: avg test  loss 73167.43, bar  test loss 90.003, len  test loss 1.825, col  test loss 58.230\n"
     ]
    },
    {
     "name": "stderr",
     "output_type": "stream",
     "text": [
      "Epoch 2265: 272batch [00:07, 37.61batch/s, loss=7.65e+4]\n"
     ]
    },
    {
     "name": "stdout",
     "output_type": "stream",
     "text": [
      "epoch 2265: avg train loss 72761.00, bar train loss 209.347, len train loss 4.251, col train loss 134.769\n",
      "epoch 2265: avg test  loss 73223.32, bar  test loss 90.220, len  test loss 1.834, col  test loss 58.484\n"
     ]
    },
    {
     "name": "stderr",
     "output_type": "stream",
     "text": [
      "Epoch 2266: 272batch [00:07, 37.30batch/s, loss=7.4e+4] \n"
     ]
    },
    {
     "name": "stdout",
     "output_type": "stream",
     "text": [
      "epoch 2266: avg train loss 72778.16, bar train loss 209.382, len train loss 4.252, col train loss 134.808\n"
     ]
    },
    {
     "name": "stderr",
     "output_type": "stream",
     "text": [
      "Epoch 2267: 4batch [00:00, 37.39batch/s, loss=7.28e+4]"
     ]
    },
    {
     "name": "stdout",
     "output_type": "stream",
     "text": [
      "epoch 2266: avg test  loss 73207.62, bar  test loss 90.173, len  test loss 1.827, col  test loss 58.290\n"
     ]
    },
    {
     "name": "stderr",
     "output_type": "stream",
     "text": [
      "Epoch 2267: 272batch [00:07, 37.60batch/s, loss=7.5e+4] \n"
     ]
    },
    {
     "name": "stdout",
     "output_type": "stream",
     "text": [
      "epoch 2267: avg train loss 72769.82, bar train loss 209.361, len train loss 4.247, col train loss 134.794\n"
     ]
    },
    {
     "name": "stderr",
     "output_type": "stream",
     "text": [
      "Epoch 2268: 4batch [00:00, 35.09batch/s, loss=7.82e+4]"
     ]
    },
    {
     "name": "stdout",
     "output_type": "stream",
     "text": [
      "epoch 2267: avg test  loss 73314.75, bar  test loss 90.302, len  test loss 1.826, col  test loss 58.492\n"
     ]
    },
    {
     "name": "stderr",
     "output_type": "stream",
     "text": [
      "Epoch 2268: 272batch [00:07, 36.73batch/s, loss=6.92e+4]\n"
     ]
    },
    {
     "name": "stdout",
     "output_type": "stream",
     "text": [
      "epoch 2268: avg train loss 72774.05, bar train loss 209.393, len train loss 4.249, col train loss 134.828\n"
     ]
    },
    {
     "name": "stderr",
     "output_type": "stream",
     "text": [
      "Epoch 2269: 4batch [00:00, 35.71batch/s, loss=7.39e+4]"
     ]
    },
    {
     "name": "stdout",
     "output_type": "stream",
     "text": [
      "epoch 2268: avg test  loss 73220.02, bar  test loss 90.129, len  test loss 1.823, col  test loss 58.238\n"
     ]
    },
    {
     "name": "stderr",
     "output_type": "stream",
     "text": [
      "Epoch 2269: 272batch [00:07, 36.81batch/s, loss=6.85e+4]\n"
     ]
    },
    {
     "name": "stdout",
     "output_type": "stream",
     "text": [
      "epoch 2269: avg train loss 72765.42, bar train loss 209.351, len train loss 4.250, col train loss 134.769\n"
     ]
    },
    {
     "name": "stderr",
     "output_type": "stream",
     "text": [
      "Epoch 2270: 4batch [00:00, 36.70batch/s, loss=7.56e+4]"
     ]
    },
    {
     "name": "stdout",
     "output_type": "stream",
     "text": [
      "epoch 2269: avg test  loss 73215.43, bar  test loss 90.091, len  test loss 1.822, col  test loss 58.341\n"
     ]
    },
    {
     "name": "stderr",
     "output_type": "stream",
     "text": [
      "Epoch 2270: 272batch [00:07, 37.51batch/s, loss=7.25e+4]\n"
     ]
    },
    {
     "name": "stdout",
     "output_type": "stream",
     "text": [
      "epoch 2270: avg train loss 72769.55, bar train loss 209.381, len train loss 4.253, col train loss 134.823\n",
      "epoch 2270: avg test  loss 73215.23, bar  test loss 90.151, len  test loss 1.822, col  test loss 58.358\n"
     ]
    },
    {
     "name": "stderr",
     "output_type": "stream",
     "text": [
      "Epoch 2271: 272batch [00:07, 37.14batch/s, loss=7.14e+4]\n"
     ]
    },
    {
     "name": "stdout",
     "output_type": "stream",
     "text": [
      "epoch 2271: avg train loss 72764.38, bar train loss 209.349, len train loss 4.248, col train loss 134.781\n"
     ]
    },
    {
     "name": "stderr",
     "output_type": "stream",
     "text": [
      "Epoch 2272: 4batch [00:00, 33.06batch/s, loss=7.41e+4]"
     ]
    },
    {
     "name": "stdout",
     "output_type": "stream",
     "text": [
      "epoch 2271: avg test  loss 73212.44, bar  test loss 90.241, len  test loss 1.818, col  test loss 58.234\n"
     ]
    },
    {
     "name": "stderr",
     "output_type": "stream",
     "text": [
      "Epoch 2272: 272batch [00:07, 37.23batch/s, loss=7.58e+4]\n"
     ]
    },
    {
     "name": "stdout",
     "output_type": "stream",
     "text": [
      "epoch 2272: avg train loss 72771.85, bar train loss 209.348, len train loss 4.249, col train loss 134.776\n"
     ]
    },
    {
     "name": "stderr",
     "output_type": "stream",
     "text": [
      "Epoch 2273: 4batch [00:00, 36.03batch/s, loss=7.33e+4]"
     ]
    },
    {
     "name": "stdout",
     "output_type": "stream",
     "text": [
      "epoch 2272: avg test  loss 73220.30, bar  test loss 90.130, len  test loss 1.824, col  test loss 58.324\n"
     ]
    },
    {
     "name": "stderr",
     "output_type": "stream",
     "text": [
      "Epoch 2273: 272batch [00:07, 37.40batch/s, loss=7.74e+4]\n"
     ]
    },
    {
     "name": "stdout",
     "output_type": "stream",
     "text": [
      "epoch 2273: avg train loss 72770.02, bar train loss 209.368, len train loss 4.247, col train loss 134.810\n"
     ]
    },
    {
     "name": "stderr",
     "output_type": "stream",
     "text": [
      "Epoch 2274: 4batch [00:00, 35.40batch/s, loss=7.18e+4]"
     ]
    },
    {
     "name": "stdout",
     "output_type": "stream",
     "text": [
      "epoch 2273: avg test  loss 73227.92, bar  test loss 90.199, len  test loss 1.821, col  test loss 58.359\n"
     ]
    },
    {
     "name": "stderr",
     "output_type": "stream",
     "text": [
      "Epoch 2274: 272batch [00:07, 37.46batch/s, loss=7.97e+4]\n"
     ]
    },
    {
     "name": "stdout",
     "output_type": "stream",
     "text": [
      "epoch 2274: avg train loss 72764.81, bar train loss 209.345, len train loss 4.247, col train loss 134.777\n"
     ]
    },
    {
     "name": "stderr",
     "output_type": "stream",
     "text": [
      "Epoch 2275: 4batch [00:00, 35.71batch/s, loss=6.85e+4]"
     ]
    },
    {
     "name": "stdout",
     "output_type": "stream",
     "text": [
      "epoch 2274: avg test  loss 73170.73, bar  test loss 90.061, len  test loss 1.826, col  test loss 58.266\n"
     ]
    },
    {
     "name": "stderr",
     "output_type": "stream",
     "text": [
      "Epoch 2275: 272batch [00:07, 37.00batch/s, loss=7.45e+4]\n"
     ]
    },
    {
     "name": "stdout",
     "output_type": "stream",
     "text": [
      "epoch 2275: avg train loss 72766.10, bar train loss 209.324, len train loss 4.248, col train loss 134.797\n",
      "epoch 2275: avg test  loss 73193.46, bar  test loss 90.191, len  test loss 1.819, col  test loss 58.227\n"
     ]
    },
    {
     "name": "stderr",
     "output_type": "stream",
     "text": [
      "Epoch 2276: 272batch [00:07, 37.12batch/s, loss=7.94e+4]\n"
     ]
    },
    {
     "name": "stdout",
     "output_type": "stream",
     "text": [
      "epoch 2276: avg train loss 72772.91, bar train loss 209.369, len train loss 4.246, col train loss 134.795\n"
     ]
    },
    {
     "name": "stderr",
     "output_type": "stream",
     "text": [
      "Epoch 2277: 4batch [00:00, 36.04batch/s, loss=7.59e+4]"
     ]
    },
    {
     "name": "stdout",
     "output_type": "stream",
     "text": [
      "epoch 2276: avg test  loss 73186.42, bar  test loss 90.216, len  test loss 1.826, col  test loss 58.270\n"
     ]
    },
    {
     "name": "stderr",
     "output_type": "stream",
     "text": [
      "Epoch 2277: 272batch [00:07, 37.05batch/s, loss=6.6e+4] \n"
     ]
    },
    {
     "name": "stdout",
     "output_type": "stream",
     "text": [
      "epoch 2277: avg train loss 72771.65, bar train loss 209.352, len train loss 4.247, col train loss 134.801\n"
     ]
    },
    {
     "name": "stderr",
     "output_type": "stream",
     "text": [
      "Epoch 2278: 4batch [00:00, 35.40batch/s, loss=7.22e+4]"
     ]
    },
    {
     "name": "stdout",
     "output_type": "stream",
     "text": [
      "epoch 2277: avg test  loss 73211.00, bar  test loss 90.325, len  test loss 1.825, col  test loss 58.407\n"
     ]
    },
    {
     "name": "stderr",
     "output_type": "stream",
     "text": [
      "Epoch 2278: 272batch [00:07, 37.35batch/s, loss=7.07e+4]\n"
     ]
    },
    {
     "name": "stdout",
     "output_type": "stream",
     "text": [
      "epoch 2278: avg train loss 72774.38, bar train loss 209.367, len train loss 4.247, col train loss 134.847\n"
     ]
    },
    {
     "name": "stderr",
     "output_type": "stream",
     "text": [
      "Epoch 2279: 4batch [00:00, 36.36batch/s, loss=7.44e+4]"
     ]
    },
    {
     "name": "stdout",
     "output_type": "stream",
     "text": [
      "epoch 2278: avg test  loss 73249.34, bar  test loss 90.212, len  test loss 1.818, col  test loss 58.295\n"
     ]
    },
    {
     "name": "stderr",
     "output_type": "stream",
     "text": [
      "Epoch 2279: 272batch [00:07, 36.74batch/s, loss=7.19e+4]\n"
     ]
    },
    {
     "name": "stdout",
     "output_type": "stream",
     "text": [
      "epoch 2279: avg train loss 72763.02, bar train loss 209.352, len train loss 4.246, col train loss 134.769\n"
     ]
    },
    {
     "name": "stderr",
     "output_type": "stream",
     "text": [
      "Epoch 2280: 4batch [00:00, 36.70batch/s, loss=6.95e+4]"
     ]
    },
    {
     "name": "stdout",
     "output_type": "stream",
     "text": [
      "epoch 2279: avg test  loss 73196.73, bar  test loss 90.135, len  test loss 1.821, col  test loss 58.352\n"
     ]
    },
    {
     "name": "stderr",
     "output_type": "stream",
     "text": [
      "Epoch 2280: 272batch [00:07, 36.61batch/s, loss=6.55e+4]\n"
     ]
    },
    {
     "name": "stdout",
     "output_type": "stream",
     "text": [
      "epoch 2280: avg train loss 72776.99, bar train loss 209.339, len train loss 4.248, col train loss 134.817\n",
      "epoch 2280: avg test  loss 73244.29, bar  test loss 90.174, len  test loss 1.827, col  test loss 58.241\n"
     ]
    },
    {
     "name": "stderr",
     "output_type": "stream",
     "text": [
      "Epoch 2281: 272batch [00:07, 34.84batch/s, loss=6.89e+4]\n"
     ]
    },
    {
     "name": "stdout",
     "output_type": "stream",
     "text": [
      "epoch 2281: avg train loss 72761.49, bar train loss 209.325, len train loss 4.247, col train loss 134.808\n"
     ]
    },
    {
     "name": "stderr",
     "output_type": "stream",
     "text": [
      "Epoch 2282: 4batch [00:00, 32.79batch/s, loss=7.4e+4] "
     ]
    },
    {
     "name": "stdout",
     "output_type": "stream",
     "text": [
      "epoch 2281: avg test  loss 73207.36, bar  test loss 90.067, len  test loss 1.828, col  test loss 58.171\n"
     ]
    },
    {
     "name": "stderr",
     "output_type": "stream",
     "text": [
      "Epoch 2282: 272batch [00:07, 36.01batch/s, loss=7.71e+4]\n"
     ]
    },
    {
     "name": "stdout",
     "output_type": "stream",
     "text": [
      "epoch 2282: avg train loss 72765.52, bar train loss 209.354, len train loss 4.248, col train loss 134.787\n"
     ]
    },
    {
     "name": "stderr",
     "output_type": "stream",
     "text": [
      "Epoch 2283: 4batch [00:00, 33.90batch/s, loss=7.03e+4]"
     ]
    },
    {
     "name": "stdout",
     "output_type": "stream",
     "text": [
      "epoch 2282: avg test  loss 73178.09, bar  test loss 90.133, len  test loss 1.821, col  test loss 58.417\n"
     ]
    },
    {
     "name": "stderr",
     "output_type": "stream",
     "text": [
      "Epoch 2283: 272batch [00:07, 35.98batch/s, loss=7.47e+4]\n"
     ]
    },
    {
     "name": "stdout",
     "output_type": "stream",
     "text": [
      "epoch 2283: avg train loss 72762.11, bar train loss 209.317, len train loss 4.250, col train loss 134.782\n"
     ]
    },
    {
     "name": "stderr",
     "output_type": "stream",
     "text": [
      "Epoch 2284: 4batch [00:00, 33.90batch/s, loss=7.23e+4]"
     ]
    },
    {
     "name": "stdout",
     "output_type": "stream",
     "text": [
      "epoch 2283: avg test  loss 73214.21, bar  test loss 90.205, len  test loss 1.816, col  test loss 58.302\n"
     ]
    },
    {
     "name": "stderr",
     "output_type": "stream",
     "text": [
      "Epoch 2284: 272batch [00:07, 36.06batch/s, loss=7.23e+4]\n"
     ]
    },
    {
     "name": "stdout",
     "output_type": "stream",
     "text": [
      "epoch 2284: avg train loss 72771.35, bar train loss 209.357, len train loss 4.248, col train loss 134.810\n"
     ]
    },
    {
     "name": "stderr",
     "output_type": "stream",
     "text": [
      "Epoch 2285: 4batch [00:00, 33.90batch/s, loss=7.09e+4]"
     ]
    },
    {
     "name": "stdout",
     "output_type": "stream",
     "text": [
      "epoch 2284: avg test  loss 73232.76, bar  test loss 90.233, len  test loss 1.818, col  test loss 58.323\n"
     ]
    },
    {
     "name": "stderr",
     "output_type": "stream",
     "text": [
      "Epoch 2285: 272batch [00:07, 35.91batch/s, loss=6.81e+4]\n"
     ]
    },
    {
     "name": "stdout",
     "output_type": "stream",
     "text": [
      "epoch 2285: avg train loss 72760.27, bar train loss 209.355, len train loss 4.245, col train loss 134.769\n",
      "epoch 2285: avg test  loss 73182.30, bar  test loss 90.189, len  test loss 1.820, col  test loss 58.351\n"
     ]
    },
    {
     "name": "stderr",
     "output_type": "stream",
     "text": [
      "Epoch 2286: 272batch [00:07, 35.73batch/s, loss=7.3e+4] \n"
     ]
    },
    {
     "name": "stdout",
     "output_type": "stream",
     "text": [
      "epoch 2286: avg train loss 72753.92, bar train loss 209.330, len train loss 4.249, col train loss 134.767\n"
     ]
    },
    {
     "name": "stderr",
     "output_type": "stream",
     "text": [
      "Epoch 2287: 4batch [00:00, 34.48batch/s, loss=7.39e+4]"
     ]
    },
    {
     "name": "stdout",
     "output_type": "stream",
     "text": [
      "epoch 2286: avg test  loss 73246.04, bar  test loss 90.087, len  test loss 1.828, col  test loss 58.258\n"
     ]
    },
    {
     "name": "stderr",
     "output_type": "stream",
     "text": [
      "Epoch 2287: 272batch [00:07, 35.88batch/s, loss=7.25e+4]\n"
     ]
    },
    {
     "name": "stdout",
     "output_type": "stream",
     "text": [
      "epoch 2287: avg train loss 72767.25, bar train loss 209.361, len train loss 4.247, col train loss 134.782\n"
     ]
    },
    {
     "name": "stderr",
     "output_type": "stream",
     "text": [
      "Epoch 2288: 4batch [00:00, 34.79batch/s, loss=7.32e+4]"
     ]
    },
    {
     "name": "stdout",
     "output_type": "stream",
     "text": [
      "epoch 2287: avg test  loss 73181.59, bar  test loss 90.117, len  test loss 1.822, col  test loss 58.221\n"
     ]
    },
    {
     "name": "stderr",
     "output_type": "stream",
     "text": [
      "Epoch 2288: 272batch [00:07, 36.00batch/s, loss=7.78e+4]\n"
     ]
    },
    {
     "name": "stdout",
     "output_type": "stream",
     "text": [
      "epoch 2288: avg train loss 72762.94, bar train loss 209.363, len train loss 4.245, col train loss 134.747\n"
     ]
    },
    {
     "name": "stderr",
     "output_type": "stream",
     "text": [
      "Epoch 2289: 4batch [00:00, 34.48batch/s, loss=7.48e+4]"
     ]
    },
    {
     "name": "stdout",
     "output_type": "stream",
     "text": [
      "epoch 2288: avg test  loss 73200.39, bar  test loss 90.183, len  test loss 1.825, col  test loss 58.290\n"
     ]
    },
    {
     "name": "stderr",
     "output_type": "stream",
     "text": [
      "Epoch 2289: 272batch [00:07, 35.93batch/s, loss=7.75e+4]\n"
     ]
    },
    {
     "name": "stdout",
     "output_type": "stream",
     "text": [
      "epoch 2289: avg train loss 72764.69, bar train loss 209.352, len train loss 4.250, col train loss 134.775\n"
     ]
    },
    {
     "name": "stderr",
     "output_type": "stream",
     "text": [
      "Epoch 2290: 4batch [00:00, 35.40batch/s, loss=7.6e+4] "
     ]
    },
    {
     "name": "stdout",
     "output_type": "stream",
     "text": [
      "epoch 2289: avg test  loss 73195.76, bar  test loss 90.167, len  test loss 1.830, col  test loss 58.259\n"
     ]
    },
    {
     "name": "stderr",
     "output_type": "stream",
     "text": [
      "Epoch 2290: 272batch [00:07, 35.75batch/s, loss=7.29e+4]\n"
     ]
    },
    {
     "name": "stdout",
     "output_type": "stream",
     "text": [
      "epoch 2290: avg train loss 72768.57, bar train loss 209.387, len train loss 4.247, col train loss 134.805\n",
      "epoch 2290: avg test  loss 73198.45, bar  test loss 90.115, len  test loss 1.822, col  test loss 58.385\n"
     ]
    },
    {
     "name": "stderr",
     "output_type": "stream",
     "text": [
      "Epoch 2291: 272batch [00:07, 34.90batch/s, loss=7.71e+4]\n"
     ]
    },
    {
     "name": "stdout",
     "output_type": "stream",
     "text": [
      "epoch 2291: avg train loss 72760.77, bar train loss 209.390, len train loss 4.248, col train loss 134.774\n"
     ]
    },
    {
     "name": "stderr",
     "output_type": "stream",
     "text": [
      "Epoch 2292: 4batch [00:00, 32.79batch/s, loss=7.23e+4]"
     ]
    },
    {
     "name": "stdout",
     "output_type": "stream",
     "text": [
      "epoch 2291: avg test  loss 73210.70, bar  test loss 90.011, len  test loss 1.820, col  test loss 58.213\n"
     ]
    },
    {
     "name": "stderr",
     "output_type": "stream",
     "text": [
      "Epoch 2292: 272batch [00:07, 35.16batch/s, loss=7.38e+4]\n"
     ]
    },
    {
     "name": "stdout",
     "output_type": "stream",
     "text": [
      "epoch 2292: avg train loss 72768.17, bar train loss 209.379, len train loss 4.251, col train loss 134.772\n"
     ]
    },
    {
     "name": "stderr",
     "output_type": "stream",
     "text": [
      "Epoch 2293: 4batch [00:00, 34.48batch/s, loss=7.53e+4]"
     ]
    },
    {
     "name": "stdout",
     "output_type": "stream",
     "text": [
      "epoch 2292: avg test  loss 73189.96, bar  test loss 90.089, len  test loss 1.823, col  test loss 58.249\n"
     ]
    },
    {
     "name": "stderr",
     "output_type": "stream",
     "text": [
      "Epoch 2293: 272batch [00:07, 35.54batch/s, loss=8.03e+4]\n"
     ]
    },
    {
     "name": "stdout",
     "output_type": "stream",
     "text": [
      "epoch 2293: avg train loss 72768.70, bar train loss 209.382, len train loss 4.248, col train loss 134.815\n"
     ]
    },
    {
     "name": "stderr",
     "output_type": "stream",
     "text": [
      "Epoch 2294: 4batch [00:00, 33.90batch/s, loss=7.35e+4]"
     ]
    },
    {
     "name": "stdout",
     "output_type": "stream",
     "text": [
      "epoch 2293: avg test  loss 73222.51, bar  test loss 90.113, len  test loss 1.818, col  test loss 58.153\n"
     ]
    },
    {
     "name": "stderr",
     "output_type": "stream",
     "text": [
      "Epoch 2294: 272batch [00:07, 35.34batch/s, loss=7.55e+4]\n"
     ]
    },
    {
     "name": "stdout",
     "output_type": "stream",
     "text": [
      "epoch 2294: avg train loss 72760.21, bar train loss 209.334, len train loss 4.248, col train loss 134.764\n"
     ]
    },
    {
     "name": "stderr",
     "output_type": "stream",
     "text": [
      "Epoch 2295: 4batch [00:00, 34.19batch/s, loss=7.19e+4]"
     ]
    },
    {
     "name": "stdout",
     "output_type": "stream",
     "text": [
      "epoch 2294: avg test  loss 73195.93, bar  test loss 90.056, len  test loss 1.823, col  test loss 58.268\n"
     ]
    },
    {
     "name": "stderr",
     "output_type": "stream",
     "text": [
      "Epoch 2295: 272batch [00:07, 35.14batch/s, loss=7.27e+4]\n"
     ]
    },
    {
     "name": "stdout",
     "output_type": "stream",
     "text": [
      "epoch 2295: avg train loss 72757.30, bar train loss 209.309, len train loss 4.247, col train loss 134.770\n",
      "epoch 2295: avg test  loss 73200.76, bar  test loss 90.110, len  test loss 1.820, col  test loss 58.309\n"
     ]
    },
    {
     "name": "stderr",
     "output_type": "stream",
     "text": [
      "Epoch 2296: 272batch [00:07, 34.80batch/s, loss=6.88e+4]\n"
     ]
    },
    {
     "name": "stdout",
     "output_type": "stream",
     "text": [
      "epoch 2296: avg train loss 72768.84, bar train loss 209.360, len train loss 4.248, col train loss 134.796\n"
     ]
    },
    {
     "name": "stderr",
     "output_type": "stream",
     "text": [
      "Epoch 2297: 4batch [00:00, 33.62batch/s, loss=7.32e+4]"
     ]
    },
    {
     "name": "stdout",
     "output_type": "stream",
     "text": [
      "epoch 2296: avg test  loss 73185.37, bar  test loss 90.106, len  test loss 1.824, col  test loss 58.277\n"
     ]
    },
    {
     "name": "stderr",
     "output_type": "stream",
     "text": [
      "Epoch 2297: 272batch [00:07, 34.88batch/s, loss=6.72e+4]\n"
     ]
    },
    {
     "name": "stdout",
     "output_type": "stream",
     "text": [
      "epoch 2297: avg train loss 72768.04, bar train loss 209.344, len train loss 4.248, col train loss 134.789\n"
     ]
    },
    {
     "name": "stderr",
     "output_type": "stream",
     "text": [
      "Epoch 2298: 4batch [00:00, 34.49batch/s, loss=7.16e+4]"
     ]
    },
    {
     "name": "stdout",
     "output_type": "stream",
     "text": [
      "epoch 2297: avg test  loss 73229.32, bar  test loss 90.257, len  test loss 1.830, col  test loss 58.379\n"
     ]
    },
    {
     "name": "stderr",
     "output_type": "stream",
     "text": [
      "Epoch 2298: 272batch [00:07, 34.71batch/s, loss=7.53e+4]\n"
     ]
    },
    {
     "name": "stdout",
     "output_type": "stream",
     "text": [
      "epoch 2298: avg train loss 72766.59, bar train loss 209.368, len train loss 4.247, col train loss 134.806\n"
     ]
    },
    {
     "name": "stderr",
     "output_type": "stream",
     "text": [
      "Epoch 2299: 4batch [00:00, 33.33batch/s, loss=7.18e+4]"
     ]
    },
    {
     "name": "stdout",
     "output_type": "stream",
     "text": [
      "epoch 2298: avg test  loss 73214.95, bar  test loss 90.105, len  test loss 1.822, col  test loss 58.256\n"
     ]
    },
    {
     "name": "stderr",
     "output_type": "stream",
     "text": [
      "Epoch 2299: 272batch [00:07, 34.74batch/s, loss=6.43e+4]\n"
     ]
    },
    {
     "name": "stdout",
     "output_type": "stream",
     "text": [
      "epoch 2299: avg train loss 72768.30, bar train loss 209.341, len train loss 4.247, col train loss 134.736\n"
     ]
    },
    {
     "name": "stderr",
     "output_type": "stream",
     "text": [
      "Epoch 2300: 4batch [00:00, 33.33batch/s, loss=6.94e+4]"
     ]
    },
    {
     "name": "stdout",
     "output_type": "stream",
     "text": [
      "epoch 2299: avg test  loss 73196.91, bar  test loss 90.211, len  test loss 1.821, col  test loss 58.400\n"
     ]
    },
    {
     "name": "stderr",
     "output_type": "stream",
     "text": [
      "Epoch 2300: 272batch [00:07, 34.78batch/s, loss=7.69e+4]\n"
     ]
    },
    {
     "name": "stdout",
     "output_type": "stream",
     "text": [
      "epoch 2300: avg train loss 72769.65, bar train loss 209.363, len train loss 4.246, col train loss 134.782\n",
      "epoch 2300: avg test  loss 73192.22, bar  test loss 90.244, len  test loss 1.824, col  test loss 58.334\n"
     ]
    },
    {
     "name": "stderr",
     "output_type": "stream",
     "text": [
      "D:\\Users\\Marko\\Anaconda3\\lib\\site-packages\\ipykernel_launcher.py:12: RuntimeWarning: More than 20 figures have been opened. Figures created through the pyplot interface (`matplotlib.pyplot.figure`) are retained until explicitly closed and may consume too much memory. (To control this warning, see the rcParam `figure.max_open_warning`).\n",
      "  if sys.path[0] == '':\n",
      "Epoch 2301: 272batch [00:07, 34.53batch/s, loss=7.26e+4]\n"
     ]
    },
    {
     "name": "stdout",
     "output_type": "stream",
     "text": [
      "epoch 2301: avg train loss 72762.68, bar train loss 209.372, len train loss 4.248, col train loss 134.753\n"
     ]
    },
    {
     "name": "stderr",
     "output_type": "stream",
     "text": [
      "Epoch 2302: 4batch [00:00, 33.33batch/s, loss=7.15e+4]"
     ]
    },
    {
     "name": "stdout",
     "output_type": "stream",
     "text": [
      "epoch 2301: avg test  loss 73216.20, bar  test loss 90.213, len  test loss 1.816, col  test loss 58.372\n"
     ]
    },
    {
     "name": "stderr",
     "output_type": "stream",
     "text": [
      "Epoch 2302: 272batch [00:07, 34.50batch/s, loss=7.11e+4]\n"
     ]
    },
    {
     "name": "stdout",
     "output_type": "stream",
     "text": [
      "epoch 2302: avg train loss 72756.96, bar train loss 209.356, len train loss 4.246, col train loss 134.791\n"
     ]
    },
    {
     "name": "stderr",
     "output_type": "stream",
     "text": [
      "Epoch 2303: 4batch [00:00, 33.33batch/s, loss=7.13e+4]"
     ]
    },
    {
     "name": "stdout",
     "output_type": "stream",
     "text": [
      "epoch 2302: avg test  loss 73184.40, bar  test loss 90.213, len  test loss 1.818, col  test loss 58.391\n"
     ]
    },
    {
     "name": "stderr",
     "output_type": "stream",
     "text": [
      "Epoch 2303: 272batch [00:07, 34.39batch/s, loss=6.96e+4]\n"
     ]
    },
    {
     "name": "stdout",
     "output_type": "stream",
     "text": [
      "epoch 2303: avg train loss 72761.62, bar train loss 209.354, len train loss 4.249, col train loss 134.768\n"
     ]
    },
    {
     "name": "stderr",
     "output_type": "stream",
     "text": [
      "Epoch 2304: 4batch [00:00, 33.34batch/s, loss=7.27e+4]"
     ]
    },
    {
     "name": "stdout",
     "output_type": "stream",
     "text": [
      "epoch 2303: avg test  loss 73190.72, bar  test loss 90.094, len  test loss 1.820, col  test loss 58.249\n"
     ]
    },
    {
     "name": "stderr",
     "output_type": "stream",
     "text": [
      "Epoch 2304: 272batch [00:07, 34.26batch/s, loss=6.5e+4] \n"
     ]
    },
    {
     "name": "stdout",
     "output_type": "stream",
     "text": [
      "epoch 2304: avg train loss 72758.28, bar train loss 209.325, len train loss 4.249, col train loss 134.773\n"
     ]
    },
    {
     "name": "stderr",
     "output_type": "stream",
     "text": [
      "Epoch 2305: 4batch [00:00, 32.26batch/s, loss=7.01e+4]"
     ]
    },
    {
     "name": "stdout",
     "output_type": "stream",
     "text": [
      "epoch 2304: avg test  loss 73218.80, bar  test loss 90.354, len  test loss 1.820, col  test loss 58.478\n"
     ]
    },
    {
     "name": "stderr",
     "output_type": "stream",
     "text": [
      "Epoch 2305: 272batch [00:07, 34.17batch/s, loss=7.37e+4]\n"
     ]
    },
    {
     "name": "stdout",
     "output_type": "stream",
     "text": [
      "epoch 2305: avg train loss 72757.58, bar train loss 209.343, len train loss 4.249, col train loss 134.769\n",
      "epoch 2305: avg test  loss 73185.09, bar  test loss 90.183, len  test loss 1.831, col  test loss 58.387\n"
     ]
    },
    {
     "name": "stderr",
     "output_type": "stream",
     "text": [
      "D:\\Users\\Marko\\Anaconda3\\lib\\site-packages\\ipykernel_launcher.py:11: RuntimeWarning: More than 20 figures have been opened. Figures created through the pyplot interface (`matplotlib.pyplot.figure`) are retained until explicitly closed and may consume too much memory. (To control this warning, see the rcParam `figure.max_open_warning`).\n",
      "  # This is added back by InteractiveShellApp.init_path()\n",
      "Epoch 2306: 272batch [00:08, 33.99batch/s, loss=71293.0]\n"
     ]
    },
    {
     "name": "stdout",
     "output_type": "stream",
     "text": [
      "epoch 2306: avg train loss 72769.94, bar train loss 209.345, len train loss 4.248, col train loss 134.805\n"
     ]
    },
    {
     "name": "stderr",
     "output_type": "stream",
     "text": [
      "Epoch 2307: 4batch [00:00, 32.52batch/s, loss=7.24e+4]"
     ]
    },
    {
     "name": "stdout",
     "output_type": "stream",
     "text": [
      "epoch 2306: avg test  loss 73202.58, bar  test loss 90.254, len  test loss 1.825, col  test loss 58.344\n"
     ]
    },
    {
     "name": "stderr",
     "output_type": "stream",
     "text": [
      "Epoch 2307: 272batch [00:07, 34.00batch/s, loss=7.08e+4]\n"
     ]
    },
    {
     "name": "stdout",
     "output_type": "stream",
     "text": [
      "epoch 2307: avg train loss 72755.35, bar train loss 209.311, len train loss 4.245, col train loss 134.737\n"
     ]
    },
    {
     "name": "stderr",
     "output_type": "stream",
     "text": [
      "Epoch 2308: 4batch [00:00, 32.00batch/s, loss=7.05e+4]"
     ]
    },
    {
     "name": "stdout",
     "output_type": "stream",
     "text": [
      "epoch 2307: avg test  loss 73191.28, bar  test loss 90.098, len  test loss 1.820, col  test loss 58.218\n"
     ]
    },
    {
     "name": "stderr",
     "output_type": "stream",
     "text": [
      "Epoch 2308: 272batch [00:08, 33.86batch/s, loss=6.32e+4]\n"
     ]
    },
    {
     "name": "stdout",
     "output_type": "stream",
     "text": [
      "epoch 2308: avg train loss 72762.13, bar train loss 209.334, len train loss 4.249, col train loss 134.745\n"
     ]
    },
    {
     "name": "stderr",
     "output_type": "stream",
     "text": [
      "Epoch 2309: 4batch [00:00, 32.52batch/s, loss=7.26e+4]"
     ]
    },
    {
     "name": "stdout",
     "output_type": "stream",
     "text": [
      "epoch 2308: avg test  loss 73221.40, bar  test loss 89.989, len  test loss 1.825, col  test loss 58.125\n"
     ]
    },
    {
     "name": "stderr",
     "output_type": "stream",
     "text": [
      "Epoch 2309: 272batch [00:08, 33.28batch/s, loss=7.07e+4]\n"
     ]
    },
    {
     "name": "stdout",
     "output_type": "stream",
     "text": [
      "epoch 2309: avg train loss 72764.72, bar train loss 209.356, len train loss 4.249, col train loss 134.775\n"
     ]
    },
    {
     "name": "stderr",
     "output_type": "stream",
     "text": [
      "Epoch 2310: 4batch [00:00, 32.79batch/s, loss=7.24e+4]"
     ]
    },
    {
     "name": "stdout",
     "output_type": "stream",
     "text": [
      "epoch 2309: avg test  loss 73222.64, bar  test loss 90.087, len  test loss 1.822, col  test loss 58.308\n"
     ]
    },
    {
     "name": "stderr",
     "output_type": "stream",
     "text": [
      "Epoch 2310: 272batch [00:08, 33.79batch/s, loss=7.16e+4]\n"
     ]
    },
    {
     "name": "stdout",
     "output_type": "stream",
     "text": [
      "epoch 2310: avg train loss 72761.02, bar train loss 209.328, len train loss 4.248, col train loss 134.777\n",
      "epoch 2310: avg test  loss 73166.31, bar  test loss 90.203, len  test loss 1.820, col  test loss 58.300\n"
     ]
    },
    {
     "name": "stderr",
     "output_type": "stream",
     "text": [
      "Epoch 2311: 272batch [00:08, 33.58batch/s, loss=6.94e+4]\n"
     ]
    },
    {
     "name": "stdout",
     "output_type": "stream",
     "text": [
      "epoch 2311: avg train loss 72757.56, bar train loss 209.356, len train loss 4.244, col train loss 134.772\n"
     ]
    },
    {
     "name": "stderr",
     "output_type": "stream",
     "text": [
      "Epoch 2312: 4batch [00:00, 32.79batch/s, loss=7.02e+4]"
     ]
    },
    {
     "name": "stdout",
     "output_type": "stream",
     "text": [
      "epoch 2311: avg test  loss 73167.43, bar  test loss 90.134, len  test loss 1.821, col  test loss 58.242\n"
     ]
    },
    {
     "name": "stderr",
     "output_type": "stream",
     "text": [
      "Epoch 2312: 272batch [00:08, 33.56batch/s, loss=7.06e+4]\n"
     ]
    },
    {
     "name": "stdout",
     "output_type": "stream",
     "text": [
      "epoch 2312: avg train loss 72753.45, bar train loss 209.343, len train loss 4.247, col train loss 134.788\n"
     ]
    },
    {
     "name": "stderr",
     "output_type": "stream",
     "text": [
      "Epoch 2313: 4batch [00:00, 32.79batch/s, loss=7.49e+4]"
     ]
    },
    {
     "name": "stdout",
     "output_type": "stream",
     "text": [
      "epoch 2312: avg test  loss 73223.95, bar  test loss 90.185, len  test loss 1.819, col  test loss 58.363\n"
     ]
    },
    {
     "name": "stderr",
     "output_type": "stream",
     "text": [
      "Epoch 2313: 272batch [00:08, 33.45batch/s, loss=6.69e+4]\n"
     ]
    },
    {
     "name": "stdout",
     "output_type": "stream",
     "text": [
      "epoch 2313: avg train loss 72767.25, bar train loss 209.379, len train loss 4.245, col train loss 134.786\n"
     ]
    },
    {
     "name": "stderr",
     "output_type": "stream",
     "text": [
      "Epoch 2314: 4batch [00:00, 32.26batch/s, loss=6.95e+4]"
     ]
    },
    {
     "name": "stdout",
     "output_type": "stream",
     "text": [
      "epoch 2313: avg test  loss 73230.42, bar  test loss 90.223, len  test loss 1.827, col  test loss 58.410\n"
     ]
    },
    {
     "name": "stderr",
     "output_type": "stream",
     "text": [
      "Epoch 2314: 272batch [00:08, 33.33batch/s, loss=7.04e+4]\n"
     ]
    },
    {
     "name": "stdout",
     "output_type": "stream",
     "text": [
      "epoch 2314: avg train loss 72761.42, bar train loss 209.383, len train loss 4.248, col train loss 134.792\n"
     ]
    },
    {
     "name": "stderr",
     "output_type": "stream",
     "text": [
      "Epoch 2315: 4batch [00:00, 31.75batch/s, loss=7.04e+4]"
     ]
    },
    {
     "name": "stdout",
     "output_type": "stream",
     "text": [
      "epoch 2314: avg test  loss 73207.59, bar  test loss 90.109, len  test loss 1.817, col  test loss 58.225\n"
     ]
    },
    {
     "name": "stderr",
     "output_type": "stream",
     "text": [
      "Epoch 2315: 272batch [00:08, 33.13batch/s, loss=7.29e+4]\n"
     ]
    },
    {
     "name": "stdout",
     "output_type": "stream",
     "text": [
      "epoch 2315: avg train loss 72754.85, bar train loss 209.345, len train loss 4.249, col train loss 134.730\n",
      "epoch 2315: avg test  loss 73164.82, bar  test loss 90.085, len  test loss 1.822, col  test loss 58.321\n"
     ]
    },
    {
     "name": "stderr",
     "output_type": "stream",
     "text": [
      "Epoch 2316: 272batch [00:08, 32.42batch/s, loss=6.98e+4]\n"
     ]
    },
    {
     "name": "stdout",
     "output_type": "stream",
     "text": [
      "epoch 2316: avg train loss 72757.23, bar train loss 209.323, len train loss 4.249, col train loss 134.788\n"
     ]
    },
    {
     "name": "stderr",
     "output_type": "stream",
     "text": [
      "Epoch 2317: 4batch [00:00, 33.06batch/s, loss=7.34e+4]"
     ]
    },
    {
     "name": "stdout",
     "output_type": "stream",
     "text": [
      "epoch 2316: avg test  loss 73186.80, bar  test loss 90.251, len  test loss 1.821, col  test loss 58.356\n"
     ]
    },
    {
     "name": "stderr",
     "output_type": "stream",
     "text": [
      "Epoch 2317: 272batch [00:08, 33.05batch/s, loss=7.18e+4]\n"
     ]
    },
    {
     "name": "stdout",
     "output_type": "stream",
     "text": [
      "epoch 2317: avg train loss 72766.94, bar train loss 209.372, len train loss 4.245, col train loss 134.791\n"
     ]
    },
    {
     "name": "stderr",
     "output_type": "stream",
     "text": [
      "Epoch 2318: 4batch [00:00, 31.75batch/s, loss=7.06e+4]"
     ]
    },
    {
     "name": "stdout",
     "output_type": "stream",
     "text": [
      "epoch 2317: avg test  loss 73201.90, bar  test loss 90.273, len  test loss 1.822, col  test loss 58.465\n"
     ]
    },
    {
     "name": "stderr",
     "output_type": "stream",
     "text": [
      "Epoch 2318: 272batch [00:08, 33.19batch/s, loss=6.78e+4]\n"
     ]
    },
    {
     "name": "stdout",
     "output_type": "stream",
     "text": [
      "epoch 2318: avg train loss 72760.02, bar train loss 209.341, len train loss 4.249, col train loss 134.774\n"
     ]
    },
    {
     "name": "stderr",
     "output_type": "stream",
     "text": [
      "Epoch 2319: 4batch [00:00, 32.00batch/s, loss=7.24e+4]"
     ]
    },
    {
     "name": "stdout",
     "output_type": "stream",
     "text": [
      "epoch 2318: avg test  loss 73182.48, bar  test loss 90.128, len  test loss 1.828, col  test loss 58.261\n"
     ]
    },
    {
     "name": "stderr",
     "output_type": "stream",
     "text": [
      "Epoch 2319: 272batch [00:08, 32.49batch/s, loss=7.16e+4]\n"
     ]
    },
    {
     "name": "stdout",
     "output_type": "stream",
     "text": [
      "epoch 2319: avg train loss 72759.25, bar train loss 209.352, len train loss 4.248, col train loss 134.757\n"
     ]
    },
    {
     "name": "stderr",
     "output_type": "stream",
     "text": [
      "Epoch 2320: 4batch [00:00, 31.50batch/s, loss=7.14e+4]"
     ]
    },
    {
     "name": "stdout",
     "output_type": "stream",
     "text": [
      "epoch 2319: avg test  loss 73191.77, bar  test loss 90.239, len  test loss 1.821, col  test loss 58.404\n"
     ]
    },
    {
     "name": "stderr",
     "output_type": "stream",
     "text": [
      "Epoch 2320: 272batch [00:08, 31.26batch/s, loss=6.79e+4]\n"
     ]
    },
    {
     "name": "stdout",
     "output_type": "stream",
     "text": [
      "epoch 2320: avg train loss 72751.21, bar train loss 209.348, len train loss 4.245, col train loss 134.728\n",
      "epoch 2320: avg test  loss 73174.02, bar  test loss 90.191, len  test loss 1.817, col  test loss 58.182\n"
     ]
    },
    {
     "name": "stderr",
     "output_type": "stream",
     "text": [
      "Epoch 2321: 272batch [00:08, 32.62batch/s, loss=7.17e+4]\n"
     ]
    },
    {
     "name": "stdout",
     "output_type": "stream",
     "text": [
      "epoch 2321: avg train loss 72762.49, bar train loss 209.352, len train loss 4.243, col train loss 134.743\n"
     ]
    },
    {
     "name": "stderr",
     "output_type": "stream",
     "text": [
      "Epoch 2322: 4batch [00:00, 32.52batch/s, loss=7e+4]   "
     ]
    },
    {
     "name": "stdout",
     "output_type": "stream",
     "text": [
      "epoch 2321: avg test  loss 73191.28, bar  test loss 90.029, len  test loss 1.813, col  test loss 58.233\n"
     ]
    },
    {
     "name": "stderr",
     "output_type": "stream",
     "text": [
      "Epoch 2322: 272batch [00:08, 32.94batch/s, loss=7.57e+4]\n"
     ]
    },
    {
     "name": "stdout",
     "output_type": "stream",
     "text": [
      "epoch 2322: avg train loss 72755.93, bar train loss 209.326, len train loss 4.243, col train loss 134.739\n"
     ]
    },
    {
     "name": "stderr",
     "output_type": "stream",
     "text": [
      "Epoch 2323: 4batch [00:00, 31.50batch/s, loss=6.99e+4]"
     ]
    },
    {
     "name": "stdout",
     "output_type": "stream",
     "text": [
      "epoch 2322: avg test  loss 73205.72, bar  test loss 90.025, len  test loss 1.820, col  test loss 58.279\n"
     ]
    },
    {
     "name": "stderr",
     "output_type": "stream",
     "text": [
      "Epoch 2323: 272batch [00:08, 33.00batch/s, loss=6.85e+4]\n"
     ]
    },
    {
     "name": "stdout",
     "output_type": "stream",
     "text": [
      "epoch 2323: avg train loss 72760.26, bar train loss 209.323, len train loss 4.245, col train loss 134.799\n"
     ]
    },
    {
     "name": "stderr",
     "output_type": "stream",
     "text": [
      "Epoch 2324: 4batch [00:00, 31.01batch/s, loss=7.42e+4]"
     ]
    },
    {
     "name": "stdout",
     "output_type": "stream",
     "text": [
      "epoch 2323: avg test  loss 73220.74, bar  test loss 90.362, len  test loss 1.822, col  test loss 58.519\n"
     ]
    },
    {
     "name": "stderr",
     "output_type": "stream",
     "text": [
      "Epoch 2324: 272batch [00:08, 32.85batch/s, loss=6.87e+4]\n"
     ]
    },
    {
     "name": "stdout",
     "output_type": "stream",
     "text": [
      "epoch 2324: avg train loss 72757.50, bar train loss 209.319, len train loss 4.244, col train loss 134.779\n"
     ]
    },
    {
     "name": "stderr",
     "output_type": "stream",
     "text": [
      "Epoch 2325: 4batch [00:00, 32.79batch/s, loss=7.5e+4]"
     ]
    },
    {
     "name": "stdout",
     "output_type": "stream",
     "text": [
      "epoch 2324: avg test  loss 73210.08, bar  test loss 90.234, len  test loss 1.825, col  test loss 58.399\n"
     ]
    },
    {
     "name": "stderr",
     "output_type": "stream",
     "text": [
      "Epoch 2325: 272batch [00:08, 32.87batch/s, loss=6.85e+4]\n"
     ]
    },
    {
     "name": "stdout",
     "output_type": "stream",
     "text": [
      "epoch 2325: avg train loss 72753.09, bar train loss 209.327, len train loss 4.244, col train loss 134.745\n",
      "epoch 2325: avg test  loss 73222.09, bar  test loss 90.095, len  test loss 1.822, col  test loss 58.308\n"
     ]
    },
    {
     "name": "stderr",
     "output_type": "stream",
     "text": [
      "Epoch 2326: 272batch [00:08, 32.47batch/s, loss=7.54e+4]\n"
     ]
    },
    {
     "name": "stdout",
     "output_type": "stream",
     "text": [
      "epoch 2326: avg train loss 72745.88, bar train loss 209.294, len train loss 4.244, col train loss 134.720\n"
     ]
    },
    {
     "name": "stderr",
     "output_type": "stream",
     "text": [
      "Epoch 2327: 4batch [00:00, 31.75batch/s, loss=6.93e+4]"
     ]
    },
    {
     "name": "stdout",
     "output_type": "stream",
     "text": [
      "epoch 2326: avg test  loss 73195.99, bar  test loss 90.154, len  test loss 1.823, col  test loss 58.326\n"
     ]
    },
    {
     "name": "stderr",
     "output_type": "stream",
     "text": [
      "Epoch 2327: 272batch [00:08, 32.55batch/s, loss=7.27e+4]\n"
     ]
    },
    {
     "name": "stdout",
     "output_type": "stream",
     "text": [
      "epoch 2327: avg train loss 72759.61, bar train loss 209.357, len train loss 4.244, col train loss 134.790\n"
     ]
    },
    {
     "name": "stderr",
     "output_type": "stream",
     "text": [
      "Epoch 2328: 4batch [00:00, 31.25batch/s, loss=7.63e+4]"
     ]
    },
    {
     "name": "stdout",
     "output_type": "stream",
     "text": [
      "epoch 2327: avg test  loss 73187.14, bar  test loss 90.056, len  test loss 1.820, col  test loss 58.181\n"
     ]
    },
    {
     "name": "stderr",
     "output_type": "stream",
     "text": [
      "Epoch 2328: 272batch [00:08, 32.43batch/s, loss=7.15e+4]\n"
     ]
    },
    {
     "name": "stdout",
     "output_type": "stream",
     "text": [
      "epoch 2328: avg train loss 72750.62, bar train loss 209.341, len train loss 4.243, col train loss 134.751\n"
     ]
    },
    {
     "name": "stderr",
     "output_type": "stream",
     "text": [
      "Epoch 2329: 3batch [00:00, 29.70batch/s, loss=7.3e+4] "
     ]
    },
    {
     "name": "stdout",
     "output_type": "stream",
     "text": [
      "epoch 2328: avg test  loss 73187.62, bar  test loss 90.175, len  test loss 1.817, col  test loss 58.438\n"
     ]
    },
    {
     "name": "stderr",
     "output_type": "stream",
     "text": [
      "Epoch 2329: 272batch [00:08, 32.35batch/s, loss=6.93e+4]\n"
     ]
    },
    {
     "name": "stdout",
     "output_type": "stream",
     "text": [
      "epoch 2329: avg train loss 72750.73, bar train loss 209.298, len train loss 4.244, col train loss 134.768\n"
     ]
    },
    {
     "name": "stderr",
     "output_type": "stream",
     "text": [
      "Epoch 2330: 4batch [00:00, 32.00batch/s, loss=7.18e+4]"
     ]
    },
    {
     "name": "stdout",
     "output_type": "stream",
     "text": [
      "epoch 2329: avg test  loss 73183.90, bar  test loss 90.016, len  test loss 1.825, col  test loss 58.129\n"
     ]
    },
    {
     "name": "stderr",
     "output_type": "stream",
     "text": [
      "Epoch 2330: 272batch [00:08, 32.31batch/s, loss=7.22e+4]\n"
     ]
    },
    {
     "name": "stdout",
     "output_type": "stream",
     "text": [
      "epoch 2330: avg train loss 72757.89, bar train loss 209.304, len train loss 4.245, col train loss 134.735\n",
      "epoch 2330: avg test  loss 73168.23, bar  test loss 90.095, len  test loss 1.822, col  test loss 58.361\n"
     ]
    },
    {
     "name": "stderr",
     "output_type": "stream",
     "text": [
      "Epoch 2331: 272batch [00:08, 32.69batch/s, loss=6.54e+4]\n"
     ]
    },
    {
     "name": "stdout",
     "output_type": "stream",
     "text": [
      "epoch 2331: avg train loss 72754.45, bar train loss 209.329, len train loss 4.246, col train loss 134.757\n"
     ]
    },
    {
     "name": "stderr",
     "output_type": "stream",
     "text": [
      "Epoch 2332: 4batch [00:00, 31.50batch/s, loss=7.19e+4]"
     ]
    },
    {
     "name": "stdout",
     "output_type": "stream",
     "text": [
      "epoch 2331: avg test  loss 73205.60, bar  test loss 90.338, len  test loss 1.820, col  test loss 58.385\n"
     ]
    },
    {
     "name": "stderr",
     "output_type": "stream",
     "text": [
      "Epoch 2332: 272batch [00:08, 31.24batch/s, loss=7.22e+4]\n"
     ]
    },
    {
     "name": "stdout",
     "output_type": "stream",
     "text": [
      "epoch 2332: avg train loss 72757.73, bar train loss 209.360, len train loss 4.243, col train loss 134.783\n"
     ]
    },
    {
     "name": "stderr",
     "output_type": "stream",
     "text": [
      "Epoch 2333: 4batch [00:00, 30.77batch/s, loss=7.25e+4]"
     ]
    },
    {
     "name": "stdout",
     "output_type": "stream",
     "text": [
      "epoch 2332: avg test  loss 73226.38, bar  test loss 90.129, len  test loss 1.822, col  test loss 58.169\n"
     ]
    },
    {
     "name": "stderr",
     "output_type": "stream",
     "text": [
      "Epoch 2333: 272batch [00:08, 31.15batch/s, loss=7.26e+4]\n"
     ]
    },
    {
     "name": "stdout",
     "output_type": "stream",
     "text": [
      "epoch 2333: avg train loss 72756.32, bar train loss 209.327, len train loss 4.244, col train loss 134.707\n"
     ]
    },
    {
     "name": "stderr",
     "output_type": "stream",
     "text": [
      "Epoch 2334: 3batch [00:00, 29.41batch/s, loss=7.12e+4]"
     ]
    },
    {
     "name": "stdout",
     "output_type": "stream",
     "text": [
      "epoch 2333: avg test  loss 73185.77, bar  test loss 90.141, len  test loss 1.822, col  test loss 58.295\n"
     ]
    },
    {
     "name": "stderr",
     "output_type": "stream",
     "text": [
      "Epoch 2334: 272batch [00:08, 31.43batch/s, loss=6.99e+4]\n"
     ]
    },
    {
     "name": "stdout",
     "output_type": "stream",
     "text": [
      "epoch 2334: avg train loss 72753.09, bar train loss 209.330, len train loss 4.246, col train loss 134.756\n"
     ]
    },
    {
     "name": "stderr",
     "output_type": "stream",
     "text": [
      "Epoch 2335: 4batch [00:00, 31.25batch/s, loss=6.81e+4]"
     ]
    },
    {
     "name": "stdout",
     "output_type": "stream",
     "text": [
      "epoch 2334: avg test  loss 73210.83, bar  test loss 90.224, len  test loss 1.825, col  test loss 58.356\n"
     ]
    },
    {
     "name": "stderr",
     "output_type": "stream",
     "text": [
      "Epoch 2335: 272batch [00:08, 32.03batch/s, loss=6.48e+4]\n"
     ]
    },
    {
     "name": "stdout",
     "output_type": "stream",
     "text": [
      "epoch 2335: avg train loss 72751.70, bar train loss 209.317, len train loss 4.246, col train loss 134.733\n",
      "epoch 2335: avg test  loss 73198.23, bar  test loss 90.061, len  test loss 1.818, col  test loss 58.274\n"
     ]
    },
    {
     "name": "stderr",
     "output_type": "stream",
     "text": [
      "Epoch 2336: 272batch [00:08, 31.76batch/s, loss=7.62e+4]\n"
     ]
    },
    {
     "name": "stdout",
     "output_type": "stream",
     "text": [
      "epoch 2336: avg train loss 72759.98, bar train loss 209.346, len train loss 4.246, col train loss 134.752\n"
     ]
    },
    {
     "name": "stderr",
     "output_type": "stream",
     "text": [
      "Epoch 2337: 4batch [00:00, 30.77batch/s, loss=7.07e+4]"
     ]
    },
    {
     "name": "stdout",
     "output_type": "stream",
     "text": [
      "epoch 2336: avg test  loss 73179.73, bar  test loss 90.135, len  test loss 1.822, col  test loss 58.344\n"
     ]
    },
    {
     "name": "stderr",
     "output_type": "stream",
     "text": [
      "Epoch 2337: 272batch [00:08, 31.44batch/s, loss=6.5e+4] \n"
     ]
    },
    {
     "name": "stdout",
     "output_type": "stream",
     "text": [
      "epoch 2337: avg train loss 72756.20, bar train loss 209.339, len train loss 4.244, col train loss 134.745\n"
     ]
    },
    {
     "name": "stderr",
     "output_type": "stream",
     "text": [
      "Epoch 2338: 4batch [00:00, 30.30batch/s, loss=70494.5]"
     ]
    },
    {
     "name": "stdout",
     "output_type": "stream",
     "text": [
      "epoch 2337: avg test  loss 73206.49, bar  test loss 90.270, len  test loss 1.828, col  test loss 58.386\n"
     ]
    },
    {
     "name": "stderr",
     "output_type": "stream",
     "text": [
      "Epoch 2338: 272batch [00:08, 32.03batch/s, loss=6.71e+4]\n"
     ]
    },
    {
     "name": "stdout",
     "output_type": "stream",
     "text": [
      "epoch 2338: avg train loss 72756.03, bar train loss 209.347, len train loss 4.244, col train loss 134.765\n"
     ]
    },
    {
     "name": "stderr",
     "output_type": "stream",
     "text": [
      "Epoch 2339: 4batch [00:00, 30.77batch/s, loss=7.15e+4]"
     ]
    },
    {
     "name": "stdout",
     "output_type": "stream",
     "text": [
      "epoch 2338: avg test  loss 73168.18, bar  test loss 90.131, len  test loss 1.822, col  test loss 58.207\n"
     ]
    },
    {
     "name": "stderr",
     "output_type": "stream",
     "text": [
      "Epoch 2339: 272batch [00:08, 31.98batch/s, loss=7.04e+4]\n"
     ]
    },
    {
     "name": "stdout",
     "output_type": "stream",
     "text": [
      "epoch 2339: avg train loss 72758.70, bar train loss 209.328, len train loss 4.244, col train loss 134.738\n"
     ]
    },
    {
     "name": "stderr",
     "output_type": "stream",
     "text": [
      "Epoch 2340: 4batch [00:00, 31.01batch/s, loss=7.32e+4]"
     ]
    },
    {
     "name": "stdout",
     "output_type": "stream",
     "text": [
      "epoch 2339: avg test  loss 73202.31, bar  test loss 90.095, len  test loss 1.815, col  test loss 58.447\n"
     ]
    },
    {
     "name": "stderr",
     "output_type": "stream",
     "text": [
      "Epoch 2340: 272batch [00:08, 31.89batch/s, loss=6.87e+4]\n"
     ]
    },
    {
     "name": "stdout",
     "output_type": "stream",
     "text": [
      "epoch 2340: avg train loss 72748.58, bar train loss 209.310, len train loss 4.248, col train loss 134.744\n",
      "epoch 2340: avg test  loss 73186.99, bar  test loss 90.062, len  test loss 1.815, col  test loss 58.111\n"
     ]
    },
    {
     "name": "stderr",
     "output_type": "stream",
     "text": [
      "Epoch 2341: 272batch [00:08, 31.21batch/s, loss=7.62e+4]\n"
     ]
    },
    {
     "name": "stdout",
     "output_type": "stream",
     "text": [
      "epoch 2341: avg train loss 72754.88, bar train loss 209.314, len train loss 4.246, col train loss 134.743\n"
     ]
    },
    {
     "name": "stderr",
     "output_type": "stream",
     "text": [
      "Epoch 2342: 3batch [00:00, 29.70batch/s, loss=7.28e+4]"
     ]
    },
    {
     "name": "stdout",
     "output_type": "stream",
     "text": [
      "epoch 2341: avg test  loss 73238.95, bar  test loss 90.132, len  test loss 1.823, col  test loss 58.291\n"
     ]
    },
    {
     "name": "stderr",
     "output_type": "stream",
     "text": [
      "Epoch 2342: 272batch [00:08, 31.00batch/s, loss=8.09e+4]\n"
     ]
    },
    {
     "name": "stdout",
     "output_type": "stream",
     "text": [
      "epoch 2342: avg train loss 72755.65, bar train loss 209.314, len train loss 4.247, col train loss 134.740\n"
     ]
    },
    {
     "name": "stderr",
     "output_type": "stream",
     "text": [
      "Epoch 2343: 4batch [00:00, 30.77batch/s, loss=7.45e+4]"
     ]
    },
    {
     "name": "stdout",
     "output_type": "stream",
     "text": [
      "epoch 2342: avg test  loss 73220.55, bar  test loss 90.187, len  test loss 1.827, col  test loss 58.263\n"
     ]
    },
    {
     "name": "stderr",
     "output_type": "stream",
     "text": [
      "Epoch 2343: 272batch [00:08, 31.77batch/s, loss=7.78e+4]\n"
     ]
    },
    {
     "name": "stdout",
     "output_type": "stream",
     "text": [
      "epoch 2343: avg train loss 72746.79, bar train loss 209.281, len train loss 4.246, col train loss 134.727\n"
     ]
    },
    {
     "name": "stderr",
     "output_type": "stream",
     "text": [
      "Epoch 2344: 4batch [00:00, 31.25batch/s, loss=7.02e+4]"
     ]
    },
    {
     "name": "stdout",
     "output_type": "stream",
     "text": [
      "epoch 2343: avg test  loss 73164.06, bar  test loss 90.014, len  test loss 1.819, col  test loss 58.254\n"
     ]
    },
    {
     "name": "stderr",
     "output_type": "stream",
     "text": [
      "Epoch 2344: 272batch [00:08, 31.80batch/s, loss=7.54e+4]\n"
     ]
    },
    {
     "name": "stdout",
     "output_type": "stream",
     "text": [
      "epoch 2344: avg train loss 72749.16, bar train loss 209.292, len train loss 4.246, col train loss 134.716\n"
     ]
    },
    {
     "name": "stderr",
     "output_type": "stream",
     "text": [
      "Epoch 2345: 4batch [00:00, 30.08batch/s, loss=7.35e+4]"
     ]
    },
    {
     "name": "stdout",
     "output_type": "stream",
     "text": [
      "epoch 2344: avg test  loss 73192.64, bar  test loss 90.180, len  test loss 1.821, col  test loss 58.269\n"
     ]
    },
    {
     "name": "stderr",
     "output_type": "stream",
     "text": [
      "Epoch 2345: 272batch [00:08, 31.54batch/s, loss=7.7e+4] \n"
     ]
    },
    {
     "name": "stdout",
     "output_type": "stream",
     "text": [
      "epoch 2345: avg train loss 72747.84, bar train loss 209.296, len train loss 4.244, col train loss 134.711\n",
      "epoch 2345: avg test  loss 73211.36, bar  test loss 90.045, len  test loss 1.821, col  test loss 58.323\n"
     ]
    },
    {
     "name": "stderr",
     "output_type": "stream",
     "text": [
      "Epoch 2346: 272batch [00:08, 31.14batch/s, loss=7.07e+4]\n"
     ]
    },
    {
     "name": "stdout",
     "output_type": "stream",
     "text": [
      "epoch 2346: avg train loss 72750.19, bar train loss 209.315, len train loss 4.246, col train loss 134.737\n"
     ]
    },
    {
     "name": "stderr",
     "output_type": "stream",
     "text": [
      "Epoch 2347: 4batch [00:00, 31.25batch/s, loss=7.18e+4]"
     ]
    },
    {
     "name": "stdout",
     "output_type": "stream",
     "text": [
      "epoch 2346: avg test  loss 73174.26, bar  test loss 90.255, len  test loss 1.825, col  test loss 58.238\n"
     ]
    },
    {
     "name": "stderr",
     "output_type": "stream",
     "text": [
      "Epoch 2347: 272batch [00:08, 31.21batch/s, loss=8.27e+4]\n"
     ]
    },
    {
     "name": "stdout",
     "output_type": "stream",
     "text": [
      "epoch 2347: avg train loss 72769.85, bar train loss 209.338, len train loss 4.245, col train loss 134.748\n"
     ]
    },
    {
     "name": "stderr",
     "output_type": "stream",
     "text": [
      "Epoch 2348: 3batch [00:00, 29.70batch/s, loss=7.19e+4]"
     ]
    },
    {
     "name": "stdout",
     "output_type": "stream",
     "text": [
      "epoch 2347: avg test  loss 73178.79, bar  test loss 90.151, len  test loss 1.827, col  test loss 58.376\n"
     ]
    },
    {
     "name": "stderr",
     "output_type": "stream",
     "text": [
      "Epoch 2348: 272batch [00:08, 31.39batch/s, loss=6.61e+4]\n"
     ]
    },
    {
     "name": "stdout",
     "output_type": "stream",
     "text": [
      "epoch 2348: avg train loss 72753.76, bar train loss 209.294, len train loss 4.244, col train loss 134.775\n"
     ]
    },
    {
     "name": "stderr",
     "output_type": "stream",
     "text": [
      "Epoch 2349: 3batch [00:00, 28.30batch/s, loss=7.28e+4]"
     ]
    },
    {
     "name": "stdout",
     "output_type": "stream",
     "text": [
      "epoch 2348: avg test  loss 73204.27, bar  test loss 90.126, len  test loss 1.814, col  test loss 58.212\n"
     ]
    },
    {
     "name": "stderr",
     "output_type": "stream",
     "text": [
      "Epoch 2349: 272batch [00:08, 31.06batch/s, loss=7.54e+4]\n"
     ]
    },
    {
     "name": "stdout",
     "output_type": "stream",
     "text": [
      "epoch 2349: avg train loss 72749.73, bar train loss 209.305, len train loss 4.243, col train loss 134.759\n"
     ]
    },
    {
     "name": "stderr",
     "output_type": "stream",
     "text": [
      "Epoch 2350: 4batch [00:00, 30.77batch/s, loss=7.39e+4]"
     ]
    },
    {
     "name": "stdout",
     "output_type": "stream",
     "text": [
      "epoch 2349: avg test  loss 73158.49, bar  test loss 90.065, len  test loss 1.823, col  test loss 58.198\n"
     ]
    },
    {
     "name": "stderr",
     "output_type": "stream",
     "text": [
      "Epoch 2350: 272batch [00:08, 31.58batch/s, loss=6.88e+4]\n"
     ]
    },
    {
     "name": "stdout",
     "output_type": "stream",
     "text": [
      "epoch 2350: avg train loss 72751.32, bar train loss 209.322, len train loss 4.249, col train loss 134.740\n",
      "epoch 2350: avg test  loss 73173.12, bar  test loss 90.076, len  test loss 1.819, col  test loss 58.306\n"
     ]
    },
    {
     "name": "stderr",
     "output_type": "stream",
     "text": [
      "Epoch 2351: 272batch [00:08, 31.24batch/s, loss=6.76e+4]\n"
     ]
    },
    {
     "name": "stdout",
     "output_type": "stream",
     "text": [
      "epoch 2351: avg train loss 72744.91, bar train loss 209.281, len train loss 4.248, col train loss 134.709\n"
     ]
    },
    {
     "name": "stderr",
     "output_type": "stream",
     "text": [
      "Epoch 2352: 4batch [00:00, 30.54batch/s, loss=7.28e+4]"
     ]
    },
    {
     "name": "stdout",
     "output_type": "stream",
     "text": [
      "epoch 2351: avg test  loss 73217.86, bar  test loss 90.103, len  test loss 1.820, col  test loss 58.390\n"
     ]
    },
    {
     "name": "stderr",
     "output_type": "stream",
     "text": [
      "Epoch 2352: 272batch [00:08, 31.50batch/s, loss=7.91e+4]\n"
     ]
    },
    {
     "name": "stdout",
     "output_type": "stream",
     "text": [
      "epoch 2352: avg train loss 72749.86, bar train loss 209.317, len train loss 4.247, col train loss 134.742\n"
     ]
    },
    {
     "name": "stderr",
     "output_type": "stream",
     "text": [
      "Epoch 2353: 3batch [00:00, 29.41batch/s, loss=7.25e+4]"
     ]
    },
    {
     "name": "stdout",
     "output_type": "stream",
     "text": [
      "epoch 2352: avg test  loss 73203.59, bar  test loss 90.074, len  test loss 1.822, col  test loss 58.233\n"
     ]
    },
    {
     "name": "stderr",
     "output_type": "stream",
     "text": [
      "Epoch 2353: 272batch [00:08, 31.43batch/s, loss=7.16e+4]\n"
     ]
    },
    {
     "name": "stdout",
     "output_type": "stream",
     "text": [
      "epoch 2353: avg train loss 72748.03, bar train loss 209.287, len train loss 4.245, col train loss 134.709\n"
     ]
    },
    {
     "name": "stderr",
     "output_type": "stream",
     "text": [
      "Epoch 2354: 3batch [00:00, 27.27batch/s, loss=7.49e+4]"
     ]
    },
    {
     "name": "stdout",
     "output_type": "stream",
     "text": [
      "epoch 2353: avg test  loss 73162.46, bar  test loss 90.179, len  test loss 1.825, col  test loss 58.302\n"
     ]
    },
    {
     "name": "stderr",
     "output_type": "stream",
     "text": [
      "Epoch 2354: 272batch [00:08, 31.37batch/s, loss=7.55e+4]\n"
     ]
    },
    {
     "name": "stdout",
     "output_type": "stream",
     "text": [
      "epoch 2354: avg train loss 72741.03, bar train loss 209.288, len train loss 4.244, col train loss 134.715\n"
     ]
    },
    {
     "name": "stderr",
     "output_type": "stream",
     "text": [
      "Epoch 2355: 4batch [00:00, 30.53batch/s, loss=7.24e+4]"
     ]
    },
    {
     "name": "stdout",
     "output_type": "stream",
     "text": [
      "epoch 2354: avg test  loss 73175.25, bar  test loss 90.233, len  test loss 1.829, col  test loss 58.352\n"
     ]
    },
    {
     "name": "stderr",
     "output_type": "stream",
     "text": [
      "Epoch 2355: 272batch [00:08, 31.21batch/s, loss=7.01e+4]\n"
     ]
    },
    {
     "name": "stdout",
     "output_type": "stream",
     "text": [
      "epoch 2355: avg train loss 72750.96, bar train loss 209.311, len train loss 4.247, col train loss 134.749\n",
      "epoch 2355: avg test  loss 73200.92, bar  test loss 90.065, len  test loss 1.819, col  test loss 58.202\n"
     ]
    },
    {
     "name": "stderr",
     "output_type": "stream",
     "text": [
      "Epoch 2356: 272batch [00:08, 30.81batch/s, loss=7.14e+4]\n"
     ]
    },
    {
     "name": "stdout",
     "output_type": "stream",
     "text": [
      "epoch 2356: avg train loss 72742.30, bar train loss 209.283, len train loss 4.244, col train loss 134.757\n"
     ]
    },
    {
     "name": "stderr",
     "output_type": "stream",
     "text": [
      "Epoch 2357: 3batch [00:00, 29.41batch/s, loss=7.02e+4]"
     ]
    },
    {
     "name": "stdout",
     "output_type": "stream",
     "text": [
      "epoch 2356: avg test  loss 73194.33, bar  test loss 90.148, len  test loss 1.820, col  test loss 58.276\n"
     ]
    },
    {
     "name": "stderr",
     "output_type": "stream",
     "text": [
      "Epoch 2357: 272batch [00:08, 31.04batch/s, loss=7.44e+4]\n"
     ]
    },
    {
     "name": "stdout",
     "output_type": "stream",
     "text": [
      "epoch 2357: avg train loss 72748.69, bar train loss 209.291, len train loss 4.247, col train loss 134.756\n"
     ]
    },
    {
     "name": "stderr",
     "output_type": "stream",
     "text": [
      "Epoch 2358: 3batch [00:00, 28.04batch/s, loss=7.36e+4]"
     ]
    },
    {
     "name": "stdout",
     "output_type": "stream",
     "text": [
      "epoch 2357: avg test  loss 73180.34, bar  test loss 90.140, len  test loss 1.821, col  test loss 58.360\n"
     ]
    },
    {
     "name": "stderr",
     "output_type": "stream",
     "text": [
      "Epoch 2358: 272batch [00:08, 30.84batch/s, loss=7.69e+4]\n"
     ]
    },
    {
     "name": "stdout",
     "output_type": "stream",
     "text": [
      "epoch 2358: avg train loss 72742.34, bar train loss 209.271, len train loss 4.245, col train loss 134.694\n"
     ]
    },
    {
     "name": "stderr",
     "output_type": "stream",
     "text": [
      "Epoch 2359: 3batch [00:00, 29.13batch/s, loss=7.85e+4]"
     ]
    },
    {
     "name": "stdout",
     "output_type": "stream",
     "text": [
      "epoch 2358: avg test  loss 73141.19, bar  test loss 90.164, len  test loss 1.820, col  test loss 58.281\n"
     ]
    },
    {
     "name": "stderr",
     "output_type": "stream",
     "text": [
      "Epoch 2359: 272batch [00:08, 30.90batch/s, loss=6.85e+4]\n"
     ]
    },
    {
     "name": "stdout",
     "output_type": "stream",
     "text": [
      "epoch 2359: avg train loss 72747.01, bar train loss 209.257, len train loss 4.241, col train loss 134.698\n"
     ]
    },
    {
     "name": "stderr",
     "output_type": "stream",
     "text": [
      "Epoch 2360: 4batch [00:00, 30.07batch/s, loss=7.07e+4]"
     ]
    },
    {
     "name": "stdout",
     "output_type": "stream",
     "text": [
      "epoch 2359: avg test  loss 73263.34, bar  test loss 90.237, len  test loss 1.817, col  test loss 58.567\n"
     ]
    },
    {
     "name": "stderr",
     "output_type": "stream",
     "text": [
      "Epoch 2360: 272batch [00:08, 30.87batch/s, loss=6.76e+4]\n"
     ]
    },
    {
     "name": "stdout",
     "output_type": "stream",
     "text": [
      "epoch 2360: avg train loss 72747.85, bar train loss 209.305, len train loss 4.242, col train loss 134.749\n",
      "epoch 2360: avg test  loss 73180.73, bar  test loss 90.102, len  test loss 1.821, col  test loss 58.277\n"
     ]
    },
    {
     "name": "stderr",
     "output_type": "stream",
     "text": [
      "Epoch 2361: 272batch [00:08, 30.84batch/s, loss=6.51e+4]\n"
     ]
    },
    {
     "name": "stdout",
     "output_type": "stream",
     "text": [
      "epoch 2361: avg train loss 72753.06, bar train loss 209.318, len train loss 4.244, col train loss 134.710\n"
     ]
    },
    {
     "name": "stderr",
     "output_type": "stream",
     "text": [
      "Epoch 2362: 4batch [00:00, 30.30batch/s, loss=6.99e+4]"
     ]
    },
    {
     "name": "stdout",
     "output_type": "stream",
     "text": [
      "epoch 2361: avg test  loss 73170.41, bar  test loss 90.186, len  test loss 1.822, col  test loss 58.362\n"
     ]
    },
    {
     "name": "stderr",
     "output_type": "stream",
     "text": [
      "Epoch 2362: 272batch [00:08, 30.82batch/s, loss=6.7e+4] \n"
     ]
    },
    {
     "name": "stdout",
     "output_type": "stream",
     "text": [
      "epoch 2362: avg train loss 72751.81, bar train loss 209.340, len train loss 4.245, col train loss 134.797\n"
     ]
    },
    {
     "name": "stderr",
     "output_type": "stream",
     "text": [
      "Epoch 2363: 3batch [00:00, 28.04batch/s, loss=7.18e+4]"
     ]
    },
    {
     "name": "stdout",
     "output_type": "stream",
     "text": [
      "epoch 2362: avg test  loss 73154.05, bar  test loss 90.041, len  test loss 1.817, col  test loss 58.221\n"
     ]
    },
    {
     "name": "stderr",
     "output_type": "stream",
     "text": [
      "Epoch 2363: 272batch [00:08, 30.61batch/s, loss=7.12e+4]\n"
     ]
    },
    {
     "name": "stdout",
     "output_type": "stream",
     "text": [
      "epoch 2363: avg train loss 72747.16, bar train loss 209.296, len train loss 4.245, col train loss 134.711\n"
     ]
    },
    {
     "name": "stderr",
     "output_type": "stream",
     "text": [
      "Epoch 2364: 3batch [00:00, 29.70batch/s, loss=7.15e+4]"
     ]
    },
    {
     "name": "stdout",
     "output_type": "stream",
     "text": [
      "epoch 2363: avg test  loss 73198.93, bar  test loss 90.116, len  test loss 1.820, col  test loss 58.256\n"
     ]
    },
    {
     "name": "stderr",
     "output_type": "stream",
     "text": [
      "Epoch 2364: 272batch [00:08, 30.82batch/s, loss=7.4e+4] \n"
     ]
    },
    {
     "name": "stdout",
     "output_type": "stream",
     "text": [
      "epoch 2364: avg train loss 72732.08, bar train loss 209.239, len train loss 4.245, col train loss 134.723\n"
     ]
    },
    {
     "name": "stderr",
     "output_type": "stream",
     "text": [
      "Epoch 2365: 3batch [00:00, 29.13batch/s, loss=7.56e+4]"
     ]
    },
    {
     "name": "stdout",
     "output_type": "stream",
     "text": [
      "epoch 2364: avg test  loss 73220.43, bar  test loss 90.077, len  test loss 1.827, col  test loss 58.242\n"
     ]
    },
    {
     "name": "stderr",
     "output_type": "stream",
     "text": [
      "Epoch 2365: 272batch [00:08, 30.64batch/s, loss=6.75e+4]\n"
     ]
    },
    {
     "name": "stdout",
     "output_type": "stream",
     "text": [
      "epoch 2365: avg train loss 72753.29, bar train loss 209.301, len train loss 4.247, col train loss 134.698\n",
      "epoch 2365: avg test  loss 73185.02, bar  test loss 90.144, len  test loss 1.816, col  test loss 58.301\n"
     ]
    },
    {
     "name": "stderr",
     "output_type": "stream",
     "text": [
      "Epoch 2366: 272batch [00:08, 30.82batch/s, loss=7.33e+4]\n"
     ]
    },
    {
     "name": "stdout",
     "output_type": "stream",
     "text": [
      "epoch 2366: avg train loss 72734.52, bar train loss 209.278, len train loss 4.244, col train loss 134.692\n"
     ]
    },
    {
     "name": "stderr",
     "output_type": "stream",
     "text": [
      "Epoch 2367: 3batch [00:00, 29.70batch/s, loss=7.37e+4]"
     ]
    },
    {
     "name": "stdout",
     "output_type": "stream",
     "text": [
      "epoch 2366: avg test  loss 73192.82, bar  test loss 90.262, len  test loss 1.820, col  test loss 58.316\n"
     ]
    },
    {
     "name": "stderr",
     "output_type": "stream",
     "text": [
      "Epoch 2367: 272batch [00:08, 31.10batch/s, loss=7.85e+4]\n"
     ]
    },
    {
     "name": "stdout",
     "output_type": "stream",
     "text": [
      "epoch 2367: avg train loss 72738.52, bar train loss 209.269, len train loss 4.244, col train loss 134.686\n"
     ]
    },
    {
     "name": "stderr",
     "output_type": "stream",
     "text": [
      "Epoch 2368: 4batch [00:00, 31.01batch/s, loss=7.02e+4]"
     ]
    },
    {
     "name": "stdout",
     "output_type": "stream",
     "text": [
      "epoch 2367: avg test  loss 73188.98, bar  test loss 90.126, len  test loss 1.821, col  test loss 58.309\n"
     ]
    },
    {
     "name": "stderr",
     "output_type": "stream",
     "text": [
      "Epoch 2368: 272batch [00:08, 30.85batch/s, loss=7.48e+4]\n"
     ]
    },
    {
     "name": "stdout",
     "output_type": "stream",
     "text": [
      "epoch 2368: avg train loss 72750.98, bar train loss 209.283, len train loss 4.241, col train loss 134.748\n"
     ]
    },
    {
     "name": "stderr",
     "output_type": "stream",
     "text": [
      "Epoch 2369: 3batch [00:00, 29.13batch/s, loss=7.06e+4]"
     ]
    },
    {
     "name": "stdout",
     "output_type": "stream",
     "text": [
      "epoch 2368: avg test  loss 73157.38, bar  test loss 90.184, len  test loss 1.825, col  test loss 58.304\n"
     ]
    },
    {
     "name": "stderr",
     "output_type": "stream",
     "text": [
      "Epoch 2369: 272batch [00:08, 30.68batch/s, loss=6.83e+4]\n"
     ]
    },
    {
     "name": "stdout",
     "output_type": "stream",
     "text": [
      "epoch 2369: avg train loss 72743.29, bar train loss 209.285, len train loss 4.245, col train loss 134.733\n"
     ]
    },
    {
     "name": "stderr",
     "output_type": "stream",
     "text": [
      "Epoch 2370: 4batch [00:00, 30.30batch/s, loss=7.25e+4]"
     ]
    },
    {
     "name": "stdout",
     "output_type": "stream",
     "text": [
      "epoch 2369: avg test  loss 73168.98, bar  test loss 89.983, len  test loss 1.820, col  test loss 58.254\n"
     ]
    },
    {
     "name": "stderr",
     "output_type": "stream",
     "text": [
      "Epoch 2370: 272batch [00:08, 30.56batch/s, loss=7.89e+4]\n"
     ]
    },
    {
     "name": "stdout",
     "output_type": "stream",
     "text": [
      "epoch 2370: avg train loss 72744.71, bar train loss 209.272, len train loss 4.247, col train loss 134.740\n",
      "epoch 2370: avg test  loss 73162.02, bar  test loss 90.077, len  test loss 1.821, col  test loss 58.267\n"
     ]
    },
    {
     "name": "stderr",
     "output_type": "stream",
     "text": [
      "Epoch 2371: 272batch [00:08, 30.81batch/s, loss=7.54e+4]\n"
     ]
    },
    {
     "name": "stdout",
     "output_type": "stream",
     "text": [
      "epoch 2371: avg train loss 72747.30, bar train loss 209.301, len train loss 4.242, col train loss 134.747\n"
     ]
    },
    {
     "name": "stderr",
     "output_type": "stream",
     "text": [
      "Epoch 2372: 3batch [00:00, 28.85batch/s, loss=7.25e+4]"
     ]
    },
    {
     "name": "stdout",
     "output_type": "stream",
     "text": [
      "epoch 2371: avg test  loss 73209.08, bar  test loss 90.316, len  test loss 1.830, col  test loss 58.368\n"
     ]
    },
    {
     "name": "stderr",
     "output_type": "stream",
     "text": [
      "Epoch 2372: 272batch [00:08, 30.87batch/s, loss=7.15e+4]\n"
     ]
    },
    {
     "name": "stdout",
     "output_type": "stream",
     "text": [
      "epoch 2372: avg train loss 72744.22, bar train loss 209.279, len train loss 4.244, col train loss 134.706\n"
     ]
    },
    {
     "name": "stderr",
     "output_type": "stream",
     "text": [
      "Epoch 2373: 3batch [00:00, 28.85batch/s, loss=7.25e+4]"
     ]
    },
    {
     "name": "stdout",
     "output_type": "stream",
     "text": [
      "epoch 2372: avg test  loss 73171.65, bar  test loss 90.110, len  test loss 1.817, col  test loss 58.310\n"
     ]
    },
    {
     "name": "stderr",
     "output_type": "stream",
     "text": [
      "Epoch 2373: 272batch [00:08, 30.74batch/s, loss=7.7e+4] \n"
     ]
    },
    {
     "name": "stdout",
     "output_type": "stream",
     "text": [
      "epoch 2373: avg train loss 72757.74, bar train loss 209.372, len train loss 4.244, col train loss 134.764\n"
     ]
    },
    {
     "name": "stderr",
     "output_type": "stream",
     "text": [
      "Epoch 2374: 3batch [00:00, 29.13batch/s, loss=6.92e+4]"
     ]
    },
    {
     "name": "stdout",
     "output_type": "stream",
     "text": [
      "epoch 2373: avg test  loss 73277.05, bar  test loss 90.232, len  test loss 1.815, col  test loss 58.377\n"
     ]
    },
    {
     "name": "stderr",
     "output_type": "stream",
     "text": [
      "Epoch 2374: 272batch [00:08, 30.34batch/s, loss=7.27e+4]\n"
     ]
    },
    {
     "name": "stdout",
     "output_type": "stream",
     "text": [
      "epoch 2374: avg train loss 72747.14, bar train loss 209.316, len train loss 4.242, col train loss 134.730\n"
     ]
    },
    {
     "name": "stderr",
     "output_type": "stream",
     "text": [
      "Epoch 2375: 3batch [00:00, 28.85batch/s, loss=6.99e+4]"
     ]
    },
    {
     "name": "stdout",
     "output_type": "stream",
     "text": [
      "epoch 2374: avg test  loss 73179.90, bar  test loss 90.071, len  test loss 1.819, col  test loss 58.260\n"
     ]
    },
    {
     "name": "stderr",
     "output_type": "stream",
     "text": [
      "Epoch 2375: 272batch [00:08, 30.38batch/s, loss=7.51e+4]\n"
     ]
    },
    {
     "name": "stdout",
     "output_type": "stream",
     "text": [
      "epoch 2375: avg train loss 72744.80, bar train loss 209.268, len train loss 4.244, col train loss 134.765\n",
      "epoch 2375: avg test  loss 73190.89, bar  test loss 89.991, len  test loss 1.819, col  test loss 58.181\n"
     ]
    },
    {
     "name": "stderr",
     "output_type": "stream",
     "text": [
      "Epoch 2376: 272batch [00:08, 30.39batch/s, loss=6.74e+4]\n"
     ]
    },
    {
     "name": "stdout",
     "output_type": "stream",
     "text": [
      "epoch 2376: avg train loss 72752.40, bar train loss 209.313, len train loss 4.242, col train loss 134.747\n"
     ]
    },
    {
     "name": "stderr",
     "output_type": "stream",
     "text": [
      "Epoch 2377: 3batch [00:00, 29.41batch/s, loss=7.12e+4]"
     ]
    },
    {
     "name": "stdout",
     "output_type": "stream",
     "text": [
      "epoch 2376: avg test  loss 73214.40, bar  test loss 90.281, len  test loss 1.824, col  test loss 58.405\n"
     ]
    },
    {
     "name": "stderr",
     "output_type": "stream",
     "text": [
      "Epoch 2377: 272batch [00:08, 30.24batch/s, loss=7.52e+4]\n"
     ]
    },
    {
     "name": "stdout",
     "output_type": "stream",
     "text": [
      "epoch 2377: avg train loss 72748.65, bar train loss 209.303, len train loss 4.245, col train loss 134.728\n"
     ]
    },
    {
     "name": "stderr",
     "output_type": "stream",
     "text": [
      "Epoch 2378: 3batch [00:00, 29.13batch/s, loss=6.92e+4]"
     ]
    },
    {
     "name": "stdout",
     "output_type": "stream",
     "text": [
      "epoch 2377: avg test  loss 73183.30, bar  test loss 90.143, len  test loss 1.825, col  test loss 58.274\n"
     ]
    },
    {
     "name": "stderr",
     "output_type": "stream",
     "text": [
      "Epoch 2378: 272batch [00:08, 30.58batch/s, loss=8.25e+4]\n"
     ]
    },
    {
     "name": "stdout",
     "output_type": "stream",
     "text": [
      "epoch 2378: avg train loss 72738.23, bar train loss 209.300, len train loss 4.244, col train loss 134.708\n"
     ]
    },
    {
     "name": "stderr",
     "output_type": "stream",
     "text": [
      "Epoch 2379: 3batch [00:00, 28.85batch/s, loss=7.25e+4]"
     ]
    },
    {
     "name": "stdout",
     "output_type": "stream",
     "text": [
      "epoch 2378: avg test  loss 73182.62, bar  test loss 90.163, len  test loss 1.826, col  test loss 58.334\n"
     ]
    },
    {
     "name": "stderr",
     "output_type": "stream",
     "text": [
      "Epoch 2379: 272batch [00:08, 30.80batch/s, loss=7.57e+4]\n"
     ]
    },
    {
     "name": "stdout",
     "output_type": "stream",
     "text": [
      "epoch 2379: avg train loss 72745.98, bar train loss 209.304, len train loss 4.244, col train loss 134.696\n"
     ]
    },
    {
     "name": "stderr",
     "output_type": "stream",
     "text": [
      "Epoch 2380: 3batch [00:00, 28.58batch/s, loss=7.64e+4]"
     ]
    },
    {
     "name": "stdout",
     "output_type": "stream",
     "text": [
      "epoch 2379: avg test  loss 73158.01, bar  test loss 90.115, len  test loss 1.818, col  test loss 58.354\n"
     ]
    },
    {
     "name": "stderr",
     "output_type": "stream",
     "text": [
      "Epoch 2380: 272batch [00:08, 31.11batch/s, loss=7.3e+4] \n"
     ]
    },
    {
     "name": "stdout",
     "output_type": "stream",
     "text": [
      "epoch 2380: avg train loss 72741.96, bar train loss 209.326, len train loss 4.243, col train loss 134.719\n",
      "epoch 2380: avg test  loss 73183.80, bar  test loss 90.132, len  test loss 1.821, col  test loss 58.325\n"
     ]
    },
    {
     "name": "stderr",
     "output_type": "stream",
     "text": [
      "Epoch 2381: 272batch [00:08, 30.64batch/s, loss=7.32e+4]\n"
     ]
    },
    {
     "name": "stdout",
     "output_type": "stream",
     "text": [
      "epoch 2381: avg train loss 72743.62, bar train loss 209.302, len train loss 4.245, col train loss 134.768\n"
     ]
    },
    {
     "name": "stderr",
     "output_type": "stream",
     "text": [
      "Epoch 2382: 3batch [00:00, 30.00batch/s, loss=7.62e+4]"
     ]
    },
    {
     "name": "stdout",
     "output_type": "stream",
     "text": [
      "epoch 2381: avg test  loss 73168.55, bar  test loss 90.073, len  test loss 1.818, col  test loss 58.288\n"
     ]
    },
    {
     "name": "stderr",
     "output_type": "stream",
     "text": [
      "Epoch 2382: 272batch [00:08, 31.05batch/s, loss=7.36e+4]\n"
     ]
    },
    {
     "name": "stdout",
     "output_type": "stream",
     "text": [
      "epoch 2382: avg train loss 72738.78, bar train loss 209.269, len train loss 4.241, col train loss 134.694\n"
     ]
    },
    {
     "name": "stderr",
     "output_type": "stream",
     "text": [
      "Epoch 2383: 3batch [00:00, 29.41batch/s, loss=7.36e+4]"
     ]
    },
    {
     "name": "stdout",
     "output_type": "stream",
     "text": [
      "epoch 2382: avg test  loss 73219.80, bar  test loss 90.073, len  test loss 1.815, col  test loss 58.244\n"
     ]
    },
    {
     "name": "stderr",
     "output_type": "stream",
     "text": [
      "Epoch 2383: 272batch [00:08, 30.69batch/s, loss=7.22e+4]\n"
     ]
    },
    {
     "name": "stdout",
     "output_type": "stream",
     "text": [
      "epoch 2383: avg train loss 72744.84, bar train loss 209.289, len train loss 4.243, col train loss 134.706\n"
     ]
    },
    {
     "name": "stderr",
     "output_type": "stream",
     "text": [
      "Epoch 2384: 3batch [00:00, 29.41batch/s, loss=7.28e+4]"
     ]
    },
    {
     "name": "stdout",
     "output_type": "stream",
     "text": [
      "epoch 2383: avg test  loss 73234.73, bar  test loss 90.182, len  test loss 1.822, col  test loss 58.186\n"
     ]
    },
    {
     "name": "stderr",
     "output_type": "stream",
     "text": [
      "Epoch 2384: 272batch [00:08, 31.13batch/s, loss=7.34e+4]\n"
     ]
    },
    {
     "name": "stdout",
     "output_type": "stream",
     "text": [
      "epoch 2384: avg train loss 72734.78, bar train loss 209.267, len train loss 4.243, col train loss 134.644\n"
     ]
    },
    {
     "name": "stderr",
     "output_type": "stream",
     "text": [
      "Epoch 2385: 4batch [00:00, 30.77batch/s, loss=7.46e+4]"
     ]
    },
    {
     "name": "stdout",
     "output_type": "stream",
     "text": [
      "epoch 2384: avg test  loss 73167.80, bar  test loss 90.034, len  test loss 1.822, col  test loss 58.373\n"
     ]
    },
    {
     "name": "stderr",
     "output_type": "stream",
     "text": [
      "Epoch 2385: 272batch [00:08, 31.01batch/s, loss=6.62e+4]\n"
     ]
    },
    {
     "name": "stdout",
     "output_type": "stream",
     "text": [
      "epoch 2385: avg train loss 72747.05, bar train loss 209.278, len train loss 4.243, col train loss 134.711\n",
      "epoch 2385: avg test  loss 73244.25, bar  test loss 90.279, len  test loss 1.827, col  test loss 58.438\n"
     ]
    },
    {
     "name": "stderr",
     "output_type": "stream",
     "text": [
      "Epoch 2386: 272batch [00:08, 30.73batch/s, loss=6.99e+4]\n"
     ]
    },
    {
     "name": "stdout",
     "output_type": "stream",
     "text": [
      "epoch 2386: avg train loss 72747.72, bar train loss 209.300, len train loss 4.243, col train loss 134.709\n"
     ]
    },
    {
     "name": "stderr",
     "output_type": "stream",
     "text": [
      "Epoch 2387: 3batch [00:00, 29.41batch/s, loss=7.11e+4]"
     ]
    },
    {
     "name": "stdout",
     "output_type": "stream",
     "text": [
      "epoch 2386: avg test  loss 73170.14, bar  test loss 90.155, len  test loss 1.816, col  test loss 58.303\n"
     ]
    },
    {
     "name": "stderr",
     "output_type": "stream",
     "text": [
      "Epoch 2387: 272batch [00:08, 30.67batch/s, loss=6.69e+4]\n"
     ]
    },
    {
     "name": "stdout",
     "output_type": "stream",
     "text": [
      "epoch 2387: avg train loss 72750.12, bar train loss 209.312, len train loss 4.242, col train loss 134.736\n"
     ]
    },
    {
     "name": "stderr",
     "output_type": "stream",
     "text": [
      "Epoch 2388: 4batch [00:00, 30.77batch/s, loss=7.17e+4]"
     ]
    },
    {
     "name": "stdout",
     "output_type": "stream",
     "text": [
      "epoch 2387: avg test  loss 73162.87, bar  test loss 90.220, len  test loss 1.817, col  test loss 58.395\n"
     ]
    },
    {
     "name": "stderr",
     "output_type": "stream",
     "text": [
      "Epoch 2388: 272batch [00:08, 30.98batch/s, loss=7.71e+4]\n"
     ]
    },
    {
     "name": "stdout",
     "output_type": "stream",
     "text": [
      "epoch 2388: avg train loss 72741.07, bar train loss 209.275, len train loss 4.245, col train loss 134.682\n"
     ]
    },
    {
     "name": "stderr",
     "output_type": "stream",
     "text": [
      "Epoch 2389: 4batch [00:00, 30.30batch/s, loss=7.48e+4]"
     ]
    },
    {
     "name": "stdout",
     "output_type": "stream",
     "text": [
      "epoch 2388: avg test  loss 73181.06, bar  test loss 90.238, len  test loss 1.822, col  test loss 58.331\n"
     ]
    },
    {
     "name": "stderr",
     "output_type": "stream",
     "text": [
      "Epoch 2389: 272batch [00:08, 30.90batch/s, loss=7.03e+4]\n"
     ]
    },
    {
     "name": "stdout",
     "output_type": "stream",
     "text": [
      "epoch 2389: avg train loss 72738.22, bar train loss 209.262, len train loss 4.243, col train loss 134.682\n"
     ]
    },
    {
     "name": "stderr",
     "output_type": "stream",
     "text": [
      "Epoch 2390: 3batch [00:00, 27.27batch/s, loss=7.67e+4]"
     ]
    },
    {
     "name": "stdout",
     "output_type": "stream",
     "text": [
      "epoch 2389: avg test  loss 73206.73, bar  test loss 90.141, len  test loss 1.821, col  test loss 58.294\n"
     ]
    },
    {
     "name": "stderr",
     "output_type": "stream",
     "text": [
      "Epoch 2390: 272batch [00:08, 30.70batch/s, loss=7e+4]   \n"
     ]
    },
    {
     "name": "stdout",
     "output_type": "stream",
     "text": [
      "epoch 2390: avg train loss 72740.21, bar train loss 209.248, len train loss 4.244, col train loss 134.690\n",
      "epoch 2390: avg test  loss 73159.27, bar  test loss 90.150, len  test loss 1.816, col  test loss 58.344\n"
     ]
    },
    {
     "name": "stderr",
     "output_type": "stream",
     "text": [
      "Epoch 2391: 272batch [00:08, 30.96batch/s, loss=7.04e+4]\n"
     ]
    },
    {
     "name": "stdout",
     "output_type": "stream",
     "text": [
      "epoch 2391: avg train loss 72744.16, bar train loss 209.271, len train loss 4.245, col train loss 134.691\n"
     ]
    },
    {
     "name": "stderr",
     "output_type": "stream",
     "text": [
      "Epoch 2392: 4batch [00:00, 29.85batch/s, loss=7.6e+4] "
     ]
    },
    {
     "name": "stdout",
     "output_type": "stream",
     "text": [
      "epoch 2391: avg test  loss 73194.79, bar  test loss 90.168, len  test loss 1.820, col  test loss 58.464\n"
     ]
    },
    {
     "name": "stderr",
     "output_type": "stream",
     "text": [
      "Epoch 2392: 272batch [00:08, 30.87batch/s, loss=7.48e+4]\n"
     ]
    },
    {
     "name": "stdout",
     "output_type": "stream",
     "text": [
      "epoch 2392: avg train loss 72747.41, bar train loss 209.273, len train loss 4.245, col train loss 134.697\n"
     ]
    },
    {
     "name": "stderr",
     "output_type": "stream",
     "text": [
      "Epoch 2393: 3batch [00:00, 29.70batch/s, loss=7.29e+4]"
     ]
    },
    {
     "name": "stdout",
     "output_type": "stream",
     "text": [
      "epoch 2392: avg test  loss 73193.67, bar  test loss 90.152, len  test loss 1.824, col  test loss 58.352\n"
     ]
    },
    {
     "name": "stderr",
     "output_type": "stream",
     "text": [
      "Epoch 2393: 272batch [00:08, 30.76batch/s, loss=7.42e+4]\n"
     ]
    },
    {
     "name": "stdout",
     "output_type": "stream",
     "text": [
      "epoch 2393: avg train loss 72737.37, bar train loss 209.267, len train loss 4.244, col train loss 134.708\n"
     ]
    },
    {
     "name": "stderr",
     "output_type": "stream",
     "text": [
      "Epoch 2394: 3batch [00:00, 28.57batch/s, loss=7.28e+4]"
     ]
    },
    {
     "name": "stdout",
     "output_type": "stream",
     "text": [
      "epoch 2393: avg test  loss 73219.91, bar  test loss 90.084, len  test loss 1.825, col  test loss 58.295\n"
     ]
    },
    {
     "name": "stderr",
     "output_type": "stream",
     "text": [
      "Epoch 2394: 272batch [00:08, 30.74batch/s, loss=7.27e+4]\n"
     ]
    },
    {
     "name": "stdout",
     "output_type": "stream",
     "text": [
      "epoch 2394: avg train loss 72738.54, bar train loss 209.257, len train loss 4.243, col train loss 134.685\n"
     ]
    },
    {
     "name": "stderr",
     "output_type": "stream",
     "text": [
      "Epoch 2395: 3batch [00:00, 29.13batch/s, loss=7.23e+4]"
     ]
    },
    {
     "name": "stdout",
     "output_type": "stream",
     "text": [
      "epoch 2394: avg test  loss 73168.00, bar  test loss 90.132, len  test loss 1.820, col  test loss 58.319\n"
     ]
    },
    {
     "name": "stderr",
     "output_type": "stream",
     "text": [
      "Epoch 2395: 272batch [00:08, 30.98batch/s, loss=6.99e+4]\n"
     ]
    },
    {
     "name": "stdout",
     "output_type": "stream",
     "text": [
      "epoch 2395: avg train loss 72738.44, bar train loss 209.249, len train loss 4.246, col train loss 134.682\n",
      "epoch 2395: avg test  loss 73164.55, bar  test loss 90.074, len  test loss 1.816, col  test loss 58.133\n"
     ]
    },
    {
     "name": "stderr",
     "output_type": "stream",
     "text": [
      "Epoch 2396: 272batch [00:08, 30.57batch/s, loss=6.78e+4]\n"
     ]
    },
    {
     "name": "stdout",
     "output_type": "stream",
     "text": [
      "epoch 2396: avg train loss 72744.03, bar train loss 209.282, len train loss 4.241, col train loss 134.716\n"
     ]
    },
    {
     "name": "stderr",
     "output_type": "stream",
     "text": [
      "Epoch 2397: 3batch [00:00, 29.71batch/s, loss=7.39e+4]"
     ]
    },
    {
     "name": "stdout",
     "output_type": "stream",
     "text": [
      "epoch 2396: avg test  loss 73183.02, bar  test loss 90.092, len  test loss 1.821, col  test loss 58.264\n"
     ]
    },
    {
     "name": "stderr",
     "output_type": "stream",
     "text": [
      "Epoch 2397: 272batch [00:08, 30.38batch/s, loss=7.06e+4]\n"
     ]
    },
    {
     "name": "stdout",
     "output_type": "stream",
     "text": [
      "epoch 2397: avg train loss 72742.72, bar train loss 209.289, len train loss 4.247, col train loss 134.742\n"
     ]
    },
    {
     "name": "stderr",
     "output_type": "stream",
     "text": [
      "Epoch 2398: 3batch [00:00, 28.57batch/s, loss=7.08e+4]"
     ]
    },
    {
     "name": "stdout",
     "output_type": "stream",
     "text": [
      "epoch 2397: avg test  loss 73185.41, bar  test loss 89.988, len  test loss 1.823, col  test loss 58.175\n"
     ]
    },
    {
     "name": "stderr",
     "output_type": "stream",
     "text": [
      "Epoch 2398: 272batch [00:08, 30.64batch/s, loss=7.05e+4]\n"
     ]
    },
    {
     "name": "stdout",
     "output_type": "stream",
     "text": [
      "epoch 2398: avg train loss 72735.80, bar train loss 209.231, len train loss 4.244, col train loss 134.685\n"
     ]
    },
    {
     "name": "stderr",
     "output_type": "stream",
     "text": [
      "Epoch 2399: 4batch [00:00, 30.77batch/s, loss=7.43e+4]"
     ]
    },
    {
     "name": "stdout",
     "output_type": "stream",
     "text": [
      "epoch 2398: avg test  loss 73200.34, bar  test loss 90.152, len  test loss 1.820, col  test loss 58.328\n"
     ]
    },
    {
     "name": "stderr",
     "output_type": "stream",
     "text": [
      "Epoch 2399: 272batch [00:08, 30.80batch/s, loss=7.29e+4]\n"
     ]
    },
    {
     "name": "stdout",
     "output_type": "stream",
     "text": [
      "epoch 2399: avg train loss 72745.20, bar train loss 209.331, len train loss 4.247, col train loss 134.718\n"
     ]
    },
    {
     "name": "stderr",
     "output_type": "stream",
     "text": [
      "Epoch 2400: 3batch [00:00, 28.57batch/s, loss=7.11e+4]"
     ]
    },
    {
     "name": "stdout",
     "output_type": "stream",
     "text": [
      "epoch 2399: avg test  loss 73219.37, bar  test loss 90.056, len  test loss 1.818, col  test loss 58.228\n"
     ]
    },
    {
     "name": "stderr",
     "output_type": "stream",
     "text": [
      "Epoch 2400: 272batch [00:08, 30.82batch/s, loss=7.71e+4]\n"
     ]
    },
    {
     "name": "stdout",
     "output_type": "stream",
     "text": [
      "epoch 2400: avg train loss 72743.84, bar train loss 209.286, len train loss 4.243, col train loss 134.695\n",
      "epoch 2400: avg test  loss 73197.12, bar  test loss 90.143, len  test loss 1.822, col  test loss 58.311\n"
     ]
    },
    {
     "name": "stderr",
     "output_type": "stream",
     "text": [
      "Epoch 2401: 272batch [00:08, 30.73batch/s, loss=6.95e+4]\n"
     ]
    },
    {
     "name": "stdout",
     "output_type": "stream",
     "text": [
      "epoch 2401: avg train loss 72737.11, bar train loss 209.290, len train loss 4.243, col train loss 134.706\n"
     ]
    },
    {
     "name": "stderr",
     "output_type": "stream",
     "text": [
      "Epoch 2402: 3batch [00:00, 29.13batch/s, loss=7.4e+4] "
     ]
    },
    {
     "name": "stdout",
     "output_type": "stream",
     "text": [
      "epoch 2401: avg test  loss 73202.27, bar  test loss 90.125, len  test loss 1.821, col  test loss 58.414\n"
     ]
    },
    {
     "name": "stderr",
     "output_type": "stream",
     "text": [
      "Epoch 2402: 272batch [00:08, 30.94batch/s, loss=7.36e+4]\n"
     ]
    },
    {
     "name": "stdout",
     "output_type": "stream",
     "text": [
      "epoch 2402: avg train loss 72737.63, bar train loss 209.259, len train loss 4.245, col train loss 134.670\n"
     ]
    },
    {
     "name": "stderr",
     "output_type": "stream",
     "text": [
      "Epoch 2403: 3batch [00:00, 28.85batch/s, loss=7.39e+4]"
     ]
    },
    {
     "name": "stdout",
     "output_type": "stream",
     "text": [
      "epoch 2402: avg test  loss 73158.63, bar  test loss 90.241, len  test loss 1.827, col  test loss 58.216\n"
     ]
    },
    {
     "name": "stderr",
     "output_type": "stream",
     "text": [
      "Epoch 2403: 272batch [00:08, 30.73batch/s, loss=6.99e+4]\n"
     ]
    },
    {
     "name": "stdout",
     "output_type": "stream",
     "text": [
      "epoch 2403: avg train loss 72741.18, bar train loss 209.268, len train loss 4.242, col train loss 134.660\n"
     ]
    },
    {
     "name": "stderr",
     "output_type": "stream",
     "text": [
      "Epoch 2404: 3batch [00:00, 29.13batch/s, loss=7.1e+4] "
     ]
    },
    {
     "name": "stdout",
     "output_type": "stream",
     "text": [
      "epoch 2403: avg test  loss 73189.88, bar  test loss 90.158, len  test loss 1.820, col  test loss 58.326\n"
     ]
    },
    {
     "name": "stderr",
     "output_type": "stream",
     "text": [
      "Epoch 2404: 272batch [00:08, 30.82batch/s, loss=7.36e+4]\n"
     ]
    },
    {
     "name": "stdout",
     "output_type": "stream",
     "text": [
      "epoch 2404: avg train loss 72738.69, bar train loss 209.245, len train loss 4.240, col train loss 134.703\n"
     ]
    },
    {
     "name": "stderr",
     "output_type": "stream",
     "text": [
      "Epoch 2405: 3batch [00:00, 29.13batch/s, loss=7.27e+4]"
     ]
    },
    {
     "name": "stdout",
     "output_type": "stream",
     "text": [
      "epoch 2404: avg test  loss 73168.88, bar  test loss 90.059, len  test loss 1.818, col  test loss 58.214\n"
     ]
    },
    {
     "name": "stderr",
     "output_type": "stream",
     "text": [
      "Epoch 2405: 272batch [00:08, 30.80batch/s, loss=7.23e+4]\n"
     ]
    },
    {
     "name": "stdout",
     "output_type": "stream",
     "text": [
      "epoch 2405: avg train loss 72740.41, bar train loss 209.279, len train loss 4.243, col train loss 134.687\n",
      "epoch 2405: avg test  loss 73183.98, bar  test loss 90.105, len  test loss 1.817, col  test loss 58.263\n"
     ]
    },
    {
     "name": "stderr",
     "output_type": "stream",
     "text": [
      "Epoch 2406: 272batch [00:08, 30.50batch/s, loss=7.62e+4]\n"
     ]
    },
    {
     "name": "stdout",
     "output_type": "stream",
     "text": [
      "epoch 2406: avg train loss 72736.98, bar train loss 209.288, len train loss 4.240, col train loss 134.725\n"
     ]
    },
    {
     "name": "stderr",
     "output_type": "stream",
     "text": [
      "Epoch 2407: 4batch [00:00, 30.30batch/s, loss=7.1e+4] "
     ]
    },
    {
     "name": "stdout",
     "output_type": "stream",
     "text": [
      "epoch 2406: avg test  loss 73161.30, bar  test loss 90.178, len  test loss 1.824, col  test loss 58.374\n"
     ]
    },
    {
     "name": "stderr",
     "output_type": "stream",
     "text": [
      "Epoch 2407: 272batch [00:08, 30.74batch/s, loss=7.02e+4]\n"
     ]
    },
    {
     "name": "stdout",
     "output_type": "stream",
     "text": [
      "epoch 2407: avg train loss 72737.39, bar train loss 209.246, len train loss 4.241, col train loss 134.717\n"
     ]
    },
    {
     "name": "stderr",
     "output_type": "stream",
     "text": [
      "Epoch 2408: 3batch [00:00, 29.42batch/s, loss=7.52e+4]"
     ]
    },
    {
     "name": "stdout",
     "output_type": "stream",
     "text": [
      "epoch 2407: avg test  loss 73252.51, bar  test loss 90.252, len  test loss 1.818, col  test loss 58.428\n"
     ]
    },
    {
     "name": "stderr",
     "output_type": "stream",
     "text": [
      "Epoch 2408: 272batch [00:08, 30.76batch/s, loss=6.81e+4]\n"
     ]
    },
    {
     "name": "stdout",
     "output_type": "stream",
     "text": [
      "epoch 2408: avg train loss 72742.82, bar train loss 209.296, len train loss 4.244, col train loss 134.696\n"
     ]
    },
    {
     "name": "stderr",
     "output_type": "stream",
     "text": [
      "Epoch 2409: 3batch [00:00, 29.70batch/s, loss=7.13e+4]"
     ]
    },
    {
     "name": "stdout",
     "output_type": "stream",
     "text": [
      "epoch 2408: avg test  loss 73204.77, bar  test loss 90.287, len  test loss 1.819, col  test loss 58.442\n"
     ]
    },
    {
     "name": "stderr",
     "output_type": "stream",
     "text": [
      "Epoch 2409: 272batch [00:08, 30.72batch/s, loss=6.88e+4]\n"
     ]
    },
    {
     "name": "stdout",
     "output_type": "stream",
     "text": [
      "epoch 2409: avg train loss 72741.93, bar train loss 209.269, len train loss 4.245, col train loss 134.700\n"
     ]
    },
    {
     "name": "stderr",
     "output_type": "stream",
     "text": [
      "Epoch 2410: 3batch [00:00, 24.20batch/s, loss=7.5e+4]"
     ]
    },
    {
     "name": "stdout",
     "output_type": "stream",
     "text": [
      "epoch 2409: avg test  loss 73170.40, bar  test loss 90.125, len  test loss 1.824, col  test loss 58.144\n"
     ]
    },
    {
     "name": "stderr",
     "output_type": "stream",
     "text": [
      "Epoch 2410: 272batch [00:08, 30.55batch/s, loss=6.96e+4]\n"
     ]
    },
    {
     "name": "stdout",
     "output_type": "stream",
     "text": [
      "epoch 2410: avg train loss 72734.89, bar train loss 209.275, len train loss 4.243, col train loss 134.672\n",
      "epoch 2410: avg test  loss 73201.21, bar  test loss 90.011, len  test loss 1.822, col  test loss 58.134\n"
     ]
    },
    {
     "name": "stderr",
     "output_type": "stream",
     "text": [
      "Epoch 2411: 272batch [00:08, 30.37batch/s, loss=7.34e+4]\n"
     ]
    },
    {
     "name": "stdout",
     "output_type": "stream",
     "text": [
      "epoch 2411: avg train loss 72740.51, bar train loss 209.262, len train loss 4.241, col train loss 134.691\n"
     ]
    },
    {
     "name": "stderr",
     "output_type": "stream",
     "text": [
      "Epoch 2412: 3batch [00:00, 29.70batch/s, loss=6.98e+4]"
     ]
    },
    {
     "name": "stdout",
     "output_type": "stream",
     "text": [
      "epoch 2411: avg test  loss 73184.88, bar  test loss 90.140, len  test loss 1.814, col  test loss 58.426\n"
     ]
    },
    {
     "name": "stderr",
     "output_type": "stream",
     "text": [
      "Epoch 2412: 272batch [00:08, 30.55batch/s, loss=7.28e+4]\n"
     ]
    },
    {
     "name": "stdout",
     "output_type": "stream",
     "text": [
      "epoch 2412: avg train loss 72742.32, bar train loss 209.262, len train loss 4.241, col train loss 134.696\n"
     ]
    },
    {
     "name": "stderr",
     "output_type": "stream",
     "text": [
      "Epoch 2413: 3batch [00:00, 29.41batch/s, loss=7.29e+4]"
     ]
    },
    {
     "name": "stdout",
     "output_type": "stream",
     "text": [
      "epoch 2412: avg test  loss 73183.23, bar  test loss 90.148, len  test loss 1.823, col  test loss 58.318\n"
     ]
    },
    {
     "name": "stderr",
     "output_type": "stream",
     "text": [
      "Epoch 2413: 272batch [00:08, 30.60batch/s, loss=6.81e+4]\n"
     ]
    },
    {
     "name": "stdout",
     "output_type": "stream",
     "text": [
      "epoch 2413: avg train loss 72738.20, bar train loss 209.294, len train loss 4.242, col train loss 134.707\n"
     ]
    },
    {
     "name": "stderr",
     "output_type": "stream",
     "text": [
      "Epoch 2414: 3batch [00:00, 29.41batch/s, loss=7.24e+4]"
     ]
    },
    {
     "name": "stdout",
     "output_type": "stream",
     "text": [
      "epoch 2413: avg test  loss 73160.38, bar  test loss 90.045, len  test loss 1.819, col  test loss 58.117\n"
     ]
    },
    {
     "name": "stderr",
     "output_type": "stream",
     "text": [
      "Epoch 2414: 272batch [00:08, 30.48batch/s, loss=6.88e+4]\n"
     ]
    },
    {
     "name": "stdout",
     "output_type": "stream",
     "text": [
      "epoch 2414: avg train loss 72735.77, bar train loss 209.285, len train loss 4.242, col train loss 134.709\n"
     ]
    },
    {
     "name": "stderr",
     "output_type": "stream",
     "text": [
      "Epoch 2415: 3batch [00:00, 29.70batch/s, loss=7.47e+4]"
     ]
    },
    {
     "name": "stdout",
     "output_type": "stream",
     "text": [
      "epoch 2414: avg test  loss 73142.89, bar  test loss 90.080, len  test loss 1.820, col  test loss 58.441\n"
     ]
    },
    {
     "name": "stderr",
     "output_type": "stream",
     "text": [
      "Epoch 2415: 272batch [00:08, 30.52batch/s, loss=6.99e+4]\n"
     ]
    },
    {
     "name": "stdout",
     "output_type": "stream",
     "text": [
      "epoch 2415: avg train loss 72738.52, bar train loss 209.280, len train loss 4.240, col train loss 134.690\n",
      "epoch 2415: avg test  loss 73164.39, bar  test loss 90.180, len  test loss 1.821, col  test loss 58.326\n"
     ]
    },
    {
     "name": "stderr",
     "output_type": "stream",
     "text": [
      "Epoch 2416: 272batch [00:08, 30.42batch/s, loss=7.33e+4]\n"
     ]
    },
    {
     "name": "stdout",
     "output_type": "stream",
     "text": [
      "epoch 2416: avg train loss 72730.88, bar train loss 209.234, len train loss 4.242, col train loss 134.696\n"
     ]
    },
    {
     "name": "stderr",
     "output_type": "stream",
     "text": [
      "Epoch 2417: 3batch [00:00, 27.52batch/s, loss=7.44e+4]"
     ]
    },
    {
     "name": "stdout",
     "output_type": "stream",
     "text": [
      "epoch 2416: avg test  loss 73164.62, bar  test loss 90.212, len  test loss 1.822, col  test loss 58.274\n"
     ]
    },
    {
     "name": "stderr",
     "output_type": "stream",
     "text": [
      "Epoch 2417: 272batch [00:08, 30.53batch/s, loss=6.91e+4]\n"
     ]
    },
    {
     "name": "stdout",
     "output_type": "stream",
     "text": [
      "epoch 2417: avg train loss 72740.91, bar train loss 209.249, len train loss 4.240, col train loss 134.663\n"
     ]
    },
    {
     "name": "stderr",
     "output_type": "stream",
     "text": [
      "Epoch 2418: 3batch [00:00, 29.13batch/s, loss=7.44e+4]"
     ]
    },
    {
     "name": "stdout",
     "output_type": "stream",
     "text": [
      "epoch 2417: avg test  loss 73163.72, bar  test loss 90.132, len  test loss 1.820, col  test loss 58.243\n"
     ]
    },
    {
     "name": "stderr",
     "output_type": "stream",
     "text": [
      "Epoch 2418: 272batch [00:08, 30.35batch/s, loss=8.44e+4]\n"
     ]
    },
    {
     "name": "stdout",
     "output_type": "stream",
     "text": [
      "epoch 2418: avg train loss 72731.25, bar train loss 209.261, len train loss 4.243, col train loss 134.673\n"
     ]
    },
    {
     "name": "stderr",
     "output_type": "stream",
     "text": [
      "Epoch 2419: 3batch [00:00, 28.85batch/s, loss=7.44e+4]"
     ]
    },
    {
     "name": "stdout",
     "output_type": "stream",
     "text": [
      "epoch 2418: avg test  loss 73181.36, bar  test loss 90.100, len  test loss 1.821, col  test loss 58.303\n"
     ]
    },
    {
     "name": "stderr",
     "output_type": "stream",
     "text": [
      "Epoch 2419: 272batch [00:09, 30.19batch/s, loss=7.22e+4]\n"
     ]
    },
    {
     "name": "stdout",
     "output_type": "stream",
     "text": [
      "epoch 2419: avg train loss 72735.76, bar train loss 209.272, len train loss 4.245, col train loss 134.688\n"
     ]
    },
    {
     "name": "stderr",
     "output_type": "stream",
     "text": [
      "Epoch 2420: 3batch [00:00, 28.57batch/s, loss=6.85e+4]"
     ]
    },
    {
     "name": "stdout",
     "output_type": "stream",
     "text": [
      "epoch 2419: avg test  loss 73229.48, bar  test loss 90.121, len  test loss 1.821, col  test loss 58.181\n"
     ]
    },
    {
     "name": "stderr",
     "output_type": "stream",
     "text": [
      "Epoch 2420: 272batch [00:08, 30.47batch/s, loss=7.27e+4]\n"
     ]
    },
    {
     "name": "stdout",
     "output_type": "stream",
     "text": [
      "epoch 2420: avg train loss 72732.13, bar train loss 209.249, len train loss 4.243, col train loss 134.675\n",
      "epoch 2420: avg test  loss 73199.32, bar  test loss 90.042, len  test loss 1.819, col  test loss 58.269\n"
     ]
    },
    {
     "name": "stderr",
     "output_type": "stream",
     "text": [
      "Epoch 2421: 272batch [00:08, 30.25batch/s, loss=6.97e+4]\n"
     ]
    },
    {
     "name": "stdout",
     "output_type": "stream",
     "text": [
      "epoch 2421: avg train loss 72740.19, bar train loss 209.260, len train loss 4.243, col train loss 134.663\n"
     ]
    },
    {
     "name": "stderr",
     "output_type": "stream",
     "text": [
      "Epoch 2422: 3batch [00:00, 28.85batch/s, loss=7.38e+4]"
     ]
    },
    {
     "name": "stdout",
     "output_type": "stream",
     "text": [
      "epoch 2421: avg test  loss 73157.98, bar  test loss 89.999, len  test loss 1.819, col  test loss 58.198\n"
     ]
    },
    {
     "name": "stderr",
     "output_type": "stream",
     "text": [
      "Epoch 2422: 272batch [00:08, 30.33batch/s, loss=6.88e+4]\n"
     ]
    },
    {
     "name": "stdout",
     "output_type": "stream",
     "text": [
      "epoch 2422: avg train loss 72735.63, bar train loss 209.249, len train loss 4.243, col train loss 134.714\n"
     ]
    },
    {
     "name": "stderr",
     "output_type": "stream",
     "text": [
      "Epoch 2423: 3batch [00:00, 28.85batch/s, loss=7.6e+4] "
     ]
    },
    {
     "name": "stdout",
     "output_type": "stream",
     "text": [
      "epoch 2422: avg test  loss 73145.09, bar  test loss 90.171, len  test loss 1.822, col  test loss 58.276\n"
     ]
    },
    {
     "name": "stderr",
     "output_type": "stream",
     "text": [
      "Epoch 2423: 272batch [00:08, 30.43batch/s, loss=6.91e+4]\n"
     ]
    },
    {
     "name": "stdout",
     "output_type": "stream",
     "text": [
      "epoch 2423: avg train loss 72738.02, bar train loss 209.275, len train loss 4.243, col train loss 134.683\n"
     ]
    },
    {
     "name": "stderr",
     "output_type": "stream",
     "text": [
      "Epoch 2424: 3batch [00:00, 28.57batch/s, loss=7.1e+4] "
     ]
    },
    {
     "name": "stdout",
     "output_type": "stream",
     "text": [
      "epoch 2423: avg test  loss 73207.16, bar  test loss 90.097, len  test loss 1.823, col  test loss 58.327\n"
     ]
    },
    {
     "name": "stderr",
     "output_type": "stream",
     "text": [
      "Epoch 2424: 272batch [00:09, 30.15batch/s, loss=6.85e+4]\n"
     ]
    },
    {
     "name": "stdout",
     "output_type": "stream",
     "text": [
      "epoch 2424: avg train loss 72735.84, bar train loss 209.263, len train loss 4.242, col train loss 134.681\n"
     ]
    },
    {
     "name": "stderr",
     "output_type": "stream",
     "text": [
      "Epoch 2425: 3batch [00:00, 29.13batch/s, loss=7.21e+4]"
     ]
    },
    {
     "name": "stdout",
     "output_type": "stream",
     "text": [
      "epoch 2424: avg test  loss 73158.67, bar  test loss 89.979, len  test loss 1.817, col  test loss 58.227\n"
     ]
    },
    {
     "name": "stderr",
     "output_type": "stream",
     "text": [
      "Epoch 2425: 272batch [00:08, 30.37batch/s, loss=8.01e+4]\n"
     ]
    },
    {
     "name": "stdout",
     "output_type": "stream",
     "text": [
      "epoch 2425: avg train loss 72742.16, bar train loss 209.269, len train loss 4.239, col train loss 134.715\n",
      "epoch 2425: avg test  loss 73250.09, bar  test loss 90.201, len  test loss 1.819, col  test loss 58.365\n"
     ]
    },
    {
     "name": "stderr",
     "output_type": "stream",
     "text": [
      "Epoch 2426: 272batch [00:09, 30.01batch/s, loss=7.91e+4]\n"
     ]
    },
    {
     "name": "stdout",
     "output_type": "stream",
     "text": [
      "epoch 2426: avg train loss 72724.62, bar train loss 209.226, len train loss 4.242, col train loss 134.658\n"
     ]
    },
    {
     "name": "stderr",
     "output_type": "stream",
     "text": [
      "Epoch 2427: 3batch [00:00, 29.70batch/s, loss=7.16e+4]"
     ]
    },
    {
     "name": "stdout",
     "output_type": "stream",
     "text": [
      "epoch 2426: avg test  loss 73198.84, bar  test loss 90.133, len  test loss 1.827, col  test loss 58.302\n"
     ]
    },
    {
     "name": "stderr",
     "output_type": "stream",
     "text": [
      "Epoch 2427: 272batch [00:08, 30.29batch/s, loss=7.52e+4]\n"
     ]
    },
    {
     "name": "stdout",
     "output_type": "stream",
     "text": [
      "epoch 2427: avg train loss 72739.04, bar train loss 209.262, len train loss 4.242, col train loss 134.690\n"
     ]
    },
    {
     "name": "stderr",
     "output_type": "stream",
     "text": [
      "Epoch 2428: 3batch [00:00, 28.31batch/s, loss=6.96e+4]"
     ]
    },
    {
     "name": "stdout",
     "output_type": "stream",
     "text": [
      "epoch 2427: avg test  loss 73190.35, bar  test loss 90.167, len  test loss 1.823, col  test loss 58.290\n"
     ]
    },
    {
     "name": "stderr",
     "output_type": "stream",
     "text": [
      "Epoch 2428: 272batch [00:09, 29.82batch/s, loss=6.51e+4]\n"
     ]
    },
    {
     "name": "stdout",
     "output_type": "stream",
     "text": [
      "epoch 2428: avg train loss 72745.64, bar train loss 209.284, len train loss 4.241, col train loss 134.683\n"
     ]
    },
    {
     "name": "stderr",
     "output_type": "stream",
     "text": [
      "Epoch 2429: 3batch [00:00, 29.70batch/s, loss=7.22e+4]"
     ]
    },
    {
     "name": "stdout",
     "output_type": "stream",
     "text": [
      "epoch 2428: avg test  loss 73166.96, bar  test loss 89.967, len  test loss 1.817, col  test loss 58.127\n"
     ]
    },
    {
     "name": "stderr",
     "output_type": "stream",
     "text": [
      "Epoch 2429: 272batch [00:09, 30.11batch/s, loss=7.8e+4] \n"
     ]
    },
    {
     "name": "stdout",
     "output_type": "stream",
     "text": [
      "epoch 2429: avg train loss 72737.79, bar train loss 209.262, len train loss 4.240, col train loss 134.686\n"
     ]
    },
    {
     "name": "stderr",
     "output_type": "stream",
     "text": [
      "Epoch 2430: 3batch [00:00, 28.30batch/s, loss=7.34e+4]"
     ]
    },
    {
     "name": "stdout",
     "output_type": "stream",
     "text": [
      "epoch 2429: avg test  loss 73176.93, bar  test loss 90.162, len  test loss 1.818, col  test loss 58.351\n"
     ]
    },
    {
     "name": "stderr",
     "output_type": "stream",
     "text": [
      "Epoch 2430: 272batch [00:09, 29.98batch/s, loss=7.33e+4]\n"
     ]
    },
    {
     "name": "stdout",
     "output_type": "stream",
     "text": [
      "epoch 2430: avg train loss 72742.52, bar train loss 209.271, len train loss 4.243, col train loss 134.737\n",
      "epoch 2430: avg test  loss 73151.22, bar  test loss 90.110, len  test loss 1.827, col  test loss 58.209\n"
     ]
    },
    {
     "name": "stderr",
     "output_type": "stream",
     "text": [
      "Epoch 2431: 272batch [00:09, 30.05batch/s, loss=6.63e+4]\n"
     ]
    },
    {
     "name": "stdout",
     "output_type": "stream",
     "text": [
      "epoch 2431: avg train loss 72733.88, bar train loss 209.268, len train loss 4.245, col train loss 134.664\n"
     ]
    },
    {
     "name": "stderr",
     "output_type": "stream",
     "text": [
      "Epoch 2432: 3batch [00:00, 29.41batch/s, loss=7.15e+4]"
     ]
    },
    {
     "name": "stdout",
     "output_type": "stream",
     "text": [
      "epoch 2431: avg test  loss 73144.85, bar  test loss 90.073, len  test loss 1.819, col  test loss 58.272\n"
     ]
    },
    {
     "name": "stderr",
     "output_type": "stream",
     "text": [
      "Epoch 2432: 272batch [00:09, 29.39batch/s, loss=7.26e+4]\n"
     ]
    },
    {
     "name": "stdout",
     "output_type": "stream",
     "text": [
      "epoch 2432: avg train loss 72729.19, bar train loss 209.240, len train loss 4.245, col train loss 134.680\n"
     ]
    },
    {
     "name": "stderr",
     "output_type": "stream",
     "text": [
      "Epoch 2433: 3batch [00:00, 29.13batch/s, loss=7.46e+4]"
     ]
    },
    {
     "name": "stdout",
     "output_type": "stream",
     "text": [
      "epoch 2432: avg test  loss 73163.24, bar  test loss 90.064, len  test loss 1.821, col  test loss 58.225\n"
     ]
    },
    {
     "name": "stderr",
     "output_type": "stream",
     "text": [
      "Epoch 2433: 272batch [00:09, 30.16batch/s, loss=7.77e+4]\n"
     ]
    },
    {
     "name": "stdout",
     "output_type": "stream",
     "text": [
      "epoch 2433: avg train loss 72728.91, bar train loss 209.255, len train loss 4.244, col train loss 134.653\n"
     ]
    },
    {
     "name": "stderr",
     "output_type": "stream",
     "text": [
      "Epoch 2434: 3batch [00:00, 28.85batch/s, loss=7.06e+4]"
     ]
    },
    {
     "name": "stdout",
     "output_type": "stream",
     "text": [
      "epoch 2433: avg test  loss 73168.40, bar  test loss 89.980, len  test loss 1.820, col  test loss 58.158\n"
     ]
    },
    {
     "name": "stderr",
     "output_type": "stream",
     "text": [
      "Epoch 2434: 272batch [00:09, 30.03batch/s, loss=7.27e+4]\n"
     ]
    },
    {
     "name": "stdout",
     "output_type": "stream",
     "text": [
      "epoch 2434: avg train loss 72739.02, bar train loss 209.254, len train loss 4.243, col train loss 134.691\n"
     ]
    },
    {
     "name": "stderr",
     "output_type": "stream",
     "text": [
      "Epoch 2435: 3batch [00:00, 28.85batch/s, loss=7.19e+4]"
     ]
    },
    {
     "name": "stdout",
     "output_type": "stream",
     "text": [
      "epoch 2434: avg test  loss 73193.35, bar  test loss 90.025, len  test loss 1.820, col  test loss 58.310\n"
     ]
    },
    {
     "name": "stderr",
     "output_type": "stream",
     "text": [
      "Epoch 2435: 272batch [00:09, 30.13batch/s, loss=7.75e+4]\n"
     ]
    },
    {
     "name": "stdout",
     "output_type": "stream",
     "text": [
      "epoch 2435: avg train loss 72735.72, bar train loss 209.232, len train loss 4.241, col train loss 134.650\n",
      "epoch 2435: avg test  loss 73195.32, bar  test loss 90.165, len  test loss 1.824, col  test loss 58.123\n"
     ]
    },
    {
     "name": "stderr",
     "output_type": "stream",
     "text": [
      "Epoch 2436: 272batch [00:08, 30.26batch/s, loss=7.21e+4]\n"
     ]
    },
    {
     "name": "stdout",
     "output_type": "stream",
     "text": [
      "epoch 2436: avg train loss 72734.05, bar train loss 209.232, len train loss 4.245, col train loss 134.666\n"
     ]
    },
    {
     "name": "stderr",
     "output_type": "stream",
     "text": [
      "Epoch 2437: 3batch [00:00, 29.13batch/s, loss=7.3e+4] "
     ]
    },
    {
     "name": "stdout",
     "output_type": "stream",
     "text": [
      "epoch 2436: avg test  loss 73166.69, bar  test loss 90.165, len  test loss 1.821, col  test loss 58.247\n"
     ]
    },
    {
     "name": "stderr",
     "output_type": "stream",
     "text": [
      "Epoch 2437: 272batch [00:08, 30.39batch/s, loss=7.51e+4]\n"
     ]
    },
    {
     "name": "stdout",
     "output_type": "stream",
     "text": [
      "epoch 2437: avg train loss 72740.27, bar train loss 209.270, len train loss 4.244, col train loss 134.715\n"
     ]
    },
    {
     "name": "stderr",
     "output_type": "stream",
     "text": [
      "Epoch 2438: 3batch [00:00, 29.13batch/s, loss=6.95e+4]"
     ]
    },
    {
     "name": "stdout",
     "output_type": "stream",
     "text": [
      "epoch 2437: avg test  loss 73148.34, bar  test loss 90.131, len  test loss 1.821, col  test loss 58.282\n"
     ]
    },
    {
     "name": "stderr",
     "output_type": "stream",
     "text": [
      "Epoch 2438: 272batch [00:09, 29.84batch/s, loss=7.91e+4]\n"
     ]
    },
    {
     "name": "stdout",
     "output_type": "stream",
     "text": [
      "epoch 2438: avg train loss 72724.48, bar train loss 209.231, len train loss 4.242, col train loss 134.619\n"
     ]
    },
    {
     "name": "stderr",
     "output_type": "stream",
     "text": [
      "Epoch 2439: 3batch [00:00, 28.30batch/s, loss=7.28e+4]"
     ]
    },
    {
     "name": "stdout",
     "output_type": "stream",
     "text": [
      "epoch 2438: avg test  loss 73181.66, bar  test loss 90.170, len  test loss 1.824, col  test loss 58.261\n"
     ]
    },
    {
     "name": "stderr",
     "output_type": "stream",
     "text": [
      "Epoch 2439: 272batch [00:09, 30.05batch/s, loss=7.93e+4]\n"
     ]
    },
    {
     "name": "stdout",
     "output_type": "stream",
     "text": [
      "epoch 2439: avg train loss 72723.86, bar train loss 209.224, len train loss 4.246, col train loss 134.654\n"
     ]
    },
    {
     "name": "stderr",
     "output_type": "stream",
     "text": [
      "Epoch 2440: 3batch [00:00, 28.57batch/s, loss=7.5e+4] "
     ]
    },
    {
     "name": "stdout",
     "output_type": "stream",
     "text": [
      "epoch 2439: avg test  loss 73135.50, bar  test loss 90.138, len  test loss 1.819, col  test loss 58.262\n"
     ]
    },
    {
     "name": "stderr",
     "output_type": "stream",
     "text": [
      "Epoch 2440: 272batch [00:09, 30.15batch/s, loss=7e+4]   \n"
     ]
    },
    {
     "name": "stdout",
     "output_type": "stream",
     "text": [
      "epoch 2440: avg train loss 72732.42, bar train loss 209.263, len train loss 4.243, col train loss 134.662\n",
      "epoch 2440: avg test  loss 73169.00, bar  test loss 90.120, len  test loss 1.821, col  test loss 58.344\n"
     ]
    },
    {
     "name": "stderr",
     "output_type": "stream",
     "text": [
      "Epoch 2441: 272batch [00:09, 29.49batch/s, loss=7.1e+4] \n"
     ]
    },
    {
     "name": "stdout",
     "output_type": "stream",
     "text": [
      "epoch 2441: avg train loss 72717.64, bar train loss 209.235, len train loss 4.240, col train loss 134.669\n"
     ]
    },
    {
     "name": "stderr",
     "output_type": "stream",
     "text": [
      "Epoch 2442: 3batch [00:00, 28.04batch/s, loss=7.36e+4]"
     ]
    },
    {
     "name": "stdout",
     "output_type": "stream",
     "text": [
      "epoch 2441: avg test  loss 73132.29, bar  test loss 90.246, len  test loss 1.823, col  test loss 58.343\n"
     ]
    },
    {
     "name": "stderr",
     "output_type": "stream",
     "text": [
      "Epoch 2442: 272batch [00:09, 30.09batch/s, loss=7e+4]   \n"
     ]
    },
    {
     "name": "stdout",
     "output_type": "stream",
     "text": [
      "epoch 2442: avg train loss 72732.86, bar train loss 209.249, len train loss 4.243, col train loss 134.679\n"
     ]
    },
    {
     "name": "stderr",
     "output_type": "stream",
     "text": [
      "Epoch 2443: 3batch [00:00, 28.57batch/s, loss=7.16e+4]"
     ]
    },
    {
     "name": "stdout",
     "output_type": "stream",
     "text": [
      "epoch 2442: avg test  loss 73147.39, bar  test loss 89.967, len  test loss 1.823, col  test loss 58.233\n"
     ]
    },
    {
     "name": "stderr",
     "output_type": "stream",
     "text": [
      "Epoch 2443: 272batch [00:09, 29.90batch/s, loss=7.42e+4]\n"
     ]
    },
    {
     "name": "stdout",
     "output_type": "stream",
     "text": [
      "epoch 2443: avg train loss 72736.16, bar train loss 209.234, len train loss 4.244, col train loss 134.698\n"
     ]
    },
    {
     "name": "stderr",
     "output_type": "stream",
     "text": [
      "Epoch 2444: 3batch [00:00, 29.41batch/s, loss=7.51e+4]"
     ]
    },
    {
     "name": "stdout",
     "output_type": "stream",
     "text": [
      "epoch 2443: avg test  loss 73152.26, bar  test loss 89.920, len  test loss 1.819, col  test loss 58.100\n"
     ]
    },
    {
     "name": "stderr",
     "output_type": "stream",
     "text": [
      "Epoch 2444: 272batch [00:09, 30.15batch/s, loss=6.72e+4]\n"
     ]
    },
    {
     "name": "stdout",
     "output_type": "stream",
     "text": [
      "epoch 2444: avg train loss 72730.20, bar train loss 209.244, len train loss 4.242, col train loss 134.657\n"
     ]
    },
    {
     "name": "stderr",
     "output_type": "stream",
     "text": [
      "Epoch 2445: 3batch [00:00, 28.04batch/s, loss=7.26e+4]"
     ]
    },
    {
     "name": "stdout",
     "output_type": "stream",
     "text": [
      "epoch 2444: avg test  loss 73180.29, bar  test loss 90.118, len  test loss 1.821, col  test loss 58.227\n"
     ]
    },
    {
     "name": "stderr",
     "output_type": "stream",
     "text": [
      "Epoch 2445: 272batch [00:09, 30.10batch/s, loss=8.34e+4]\n"
     ]
    },
    {
     "name": "stdout",
     "output_type": "stream",
     "text": [
      "epoch 2445: avg train loss 72728.88, bar train loss 209.248, len train loss 4.242, col train loss 134.668\n",
      "epoch 2445: avg test  loss 73175.14, bar  test loss 90.166, len  test loss 1.820, col  test loss 58.265\n"
     ]
    },
    {
     "name": "stderr",
     "output_type": "stream",
     "text": [
      "Epoch 2446: 272batch [00:09, 29.31batch/s, loss=6.89e+4]\n"
     ]
    },
    {
     "name": "stdout",
     "output_type": "stream",
     "text": [
      "epoch 2446: avg train loss 72731.06, bar train loss 209.236, len train loss 4.240, col train loss 134.700\n"
     ]
    },
    {
     "name": "stderr",
     "output_type": "stream",
     "text": [
      "Epoch 2447: 3batch [00:00, 27.27batch/s, loss=7.52e+4]"
     ]
    },
    {
     "name": "stdout",
     "output_type": "stream",
     "text": [
      "epoch 2446: avg test  loss 73171.73, bar  test loss 90.207, len  test loss 1.825, col  test loss 58.214\n"
     ]
    },
    {
     "name": "stderr",
     "output_type": "stream",
     "text": [
      "Epoch 2447: 272batch [00:09, 29.94batch/s, loss=8.08e+4]\n"
     ]
    },
    {
     "name": "stdout",
     "output_type": "stream",
     "text": [
      "epoch 2447: avg train loss 72732.27, bar train loss 209.264, len train loss 4.243, col train loss 134.654\n"
     ]
    },
    {
     "name": "stderr",
     "output_type": "stream",
     "text": [
      "Epoch 2448: 3batch [00:00, 28.57batch/s, loss=7.36e+4]"
     ]
    },
    {
     "name": "stdout",
     "output_type": "stream",
     "text": [
      "epoch 2447: avg test  loss 73164.27, bar  test loss 90.182, len  test loss 1.820, col  test loss 58.234\n"
     ]
    },
    {
     "name": "stderr",
     "output_type": "stream",
     "text": [
      "Epoch 2448: 272batch [00:09, 30.11batch/s, loss=6.89e+4]\n"
     ]
    },
    {
     "name": "stdout",
     "output_type": "stream",
     "text": [
      "epoch 2448: avg train loss 72739.41, bar train loss 209.272, len train loss 4.242, col train loss 134.710\n"
     ]
    },
    {
     "name": "stderr",
     "output_type": "stream",
     "text": [
      "Epoch 2449: 3batch [00:00, 28.85batch/s, loss=7.08e+4]"
     ]
    },
    {
     "name": "stdout",
     "output_type": "stream",
     "text": [
      "epoch 2448: avg test  loss 73244.04, bar  test loss 90.296, len  test loss 1.818, col  test loss 58.375\n"
     ]
    },
    {
     "name": "stderr",
     "output_type": "stream",
     "text": [
      "Epoch 2449: 272batch [00:09, 29.92batch/s, loss=6.69e+4]\n"
     ]
    },
    {
     "name": "stdout",
     "output_type": "stream",
     "text": [
      "epoch 2449: avg train loss 72727.33, bar train loss 209.259, len train loss 4.241, col train loss 134.674\n"
     ]
    },
    {
     "name": "stderr",
     "output_type": "stream",
     "text": [
      "Epoch 2450: 3batch [00:00, 27.52batch/s, loss=6.94e+4]"
     ]
    },
    {
     "name": "stdout",
     "output_type": "stream",
     "text": [
      "epoch 2449: avg test  loss 73142.94, bar  test loss 90.009, len  test loss 1.820, col  test loss 58.118\n"
     ]
    },
    {
     "name": "stderr",
     "output_type": "stream",
     "text": [
      "Epoch 2450: 272batch [00:09, 29.73batch/s, loss=7.47e+4]\n"
     ]
    },
    {
     "name": "stdout",
     "output_type": "stream",
     "text": [
      "epoch 2450: avg train loss 72719.48, bar train loss 209.196, len train loss 4.241, col train loss 134.608\n",
      "epoch 2450: avg test  loss 73157.27, bar  test loss 90.082, len  test loss 1.820, col  test loss 58.174\n"
     ]
    },
    {
     "name": "stderr",
     "output_type": "stream",
     "text": [
      "Epoch 2451: 272batch [00:09, 29.54batch/s, loss=7.13e+4]\n"
     ]
    },
    {
     "name": "stdout",
     "output_type": "stream",
     "text": [
      "epoch 2451: avg train loss 72733.16, bar train loss 209.221, len train loss 4.241, col train loss 134.655\n"
     ]
    },
    {
     "name": "stderr",
     "output_type": "stream",
     "text": [
      "Epoch 2452: 3batch [00:00, 28.85batch/s, loss=6.95e+4]"
     ]
    },
    {
     "name": "stdout",
     "output_type": "stream",
     "text": [
      "epoch 2451: avg test  loss 73234.30, bar  test loss 90.347, len  test loss 1.815, col  test loss 58.341\n"
     ]
    },
    {
     "name": "stderr",
     "output_type": "stream",
     "text": [
      "Epoch 2452: 272batch [00:09, 29.93batch/s, loss=7.06e+4]\n"
     ]
    },
    {
     "name": "stdout",
     "output_type": "stream",
     "text": [
      "epoch 2452: avg train loss 72726.60, bar train loss 209.219, len train loss 4.238, col train loss 134.640\n"
     ]
    },
    {
     "name": "stderr",
     "output_type": "stream",
     "text": [
      "Epoch 2453: 3batch [00:00, 28.30batch/s, loss=7.22e+4]"
     ]
    },
    {
     "name": "stdout",
     "output_type": "stream",
     "text": [
      "epoch 2452: avg test  loss 73190.55, bar  test loss 90.110, len  test loss 1.827, col  test loss 58.275\n"
     ]
    },
    {
     "name": "stderr",
     "output_type": "stream",
     "text": [
      "Epoch 2453: 272batch [00:09, 29.76batch/s, loss=7.36e+4]\n"
     ]
    },
    {
     "name": "stdout",
     "output_type": "stream",
     "text": [
      "epoch 2453: avg train loss 72729.36, bar train loss 209.236, len train loss 4.243, col train loss 134.644\n"
     ]
    },
    {
     "name": "stderr",
     "output_type": "stream",
     "text": [
      "Epoch 2454: 3batch [00:00, 27.52batch/s, loss=6.94e+4]"
     ]
    },
    {
     "name": "stdout",
     "output_type": "stream",
     "text": [
      "epoch 2453: avg test  loss 73175.90, bar  test loss 90.013, len  test loss 1.816, col  test loss 58.072\n"
     ]
    },
    {
     "name": "stderr",
     "output_type": "stream",
     "text": [
      "Epoch 2454: 272batch [00:09, 29.61batch/s, loss=7.49e+4]\n"
     ]
    },
    {
     "name": "stdout",
     "output_type": "stream",
     "text": [
      "epoch 2454: avg train loss 72726.50, bar train loss 209.232, len train loss 4.239, col train loss 134.644\n"
     ]
    },
    {
     "name": "stderr",
     "output_type": "stream",
     "text": [
      "Epoch 2455: 3batch [00:00, 27.27batch/s, loss=7.55e+4]"
     ]
    },
    {
     "name": "stdout",
     "output_type": "stream",
     "text": [
      "epoch 2454: avg test  loss 73186.69, bar  test loss 90.042, len  test loss 1.815, col  test loss 58.349\n"
     ]
    },
    {
     "name": "stderr",
     "output_type": "stream",
     "text": [
      "Epoch 2455: 272batch [00:09, 29.71batch/s, loss=7.17e+4]\n"
     ]
    },
    {
     "name": "stdout",
     "output_type": "stream",
     "text": [
      "epoch 2455: avg train loss 72736.59, bar train loss 209.257, len train loss 4.238, col train loss 134.671\n",
      "epoch 2455: avg test  loss 73170.17, bar  test loss 90.326, len  test loss 1.821, col  test loss 58.441\n"
     ]
    },
    {
     "name": "stderr",
     "output_type": "stream",
     "text": [
      "Epoch 2456: 272batch [00:09, 29.55batch/s, loss=7.41e+4]\n"
     ]
    },
    {
     "name": "stdout",
     "output_type": "stream",
     "text": [
      "epoch 2456: avg train loss 72727.38, bar train loss 209.245, len train loss 4.241, col train loss 134.636\n"
     ]
    },
    {
     "name": "stderr",
     "output_type": "stream",
     "text": [
      "Epoch 2457: 3batch [00:00, 29.41batch/s, loss=7.31e+4]"
     ]
    },
    {
     "name": "stdout",
     "output_type": "stream",
     "text": [
      "epoch 2456: avg test  loss 73160.93, bar  test loss 90.190, len  test loss 1.816, col  test loss 58.249\n"
     ]
    },
    {
     "name": "stderr",
     "output_type": "stream",
     "text": [
      "Epoch 2457: 272batch [00:09, 29.64batch/s, loss=7.09e+4]\n"
     ]
    },
    {
     "name": "stdout",
     "output_type": "stream",
     "text": [
      "epoch 2457: avg train loss 72729.83, bar train loss 209.246, len train loss 4.243, col train loss 134.614\n"
     ]
    },
    {
     "name": "stderr",
     "output_type": "stream",
     "text": [
      "Epoch 2458: 3batch [00:00, 27.03batch/s, loss=7.26e+4]"
     ]
    },
    {
     "name": "stdout",
     "output_type": "stream",
     "text": [
      "epoch 2457: avg test  loss 73149.57, bar  test loss 90.140, len  test loss 1.817, col  test loss 58.225\n"
     ]
    },
    {
     "name": "stderr",
     "output_type": "stream",
     "text": [
      "Epoch 2458: 272batch [00:09, 29.59batch/s, loss=7.16e+4]\n"
     ]
    },
    {
     "name": "stdout",
     "output_type": "stream",
     "text": [
      "epoch 2458: avg train loss 72723.64, bar train loss 209.229, len train loss 4.244, col train loss 134.604\n"
     ]
    },
    {
     "name": "stderr",
     "output_type": "stream",
     "text": [
      "Epoch 2459: 3batch [00:00, 27.52batch/s, loss=7.06e+4]"
     ]
    },
    {
     "name": "stdout",
     "output_type": "stream",
     "text": [
      "epoch 2458: avg test  loss 73144.57, bar  test loss 90.201, len  test loss 1.818, col  test loss 58.396\n"
     ]
    },
    {
     "name": "stderr",
     "output_type": "stream",
     "text": [
      "Epoch 2459: 272batch [00:09, 29.80batch/s, loss=7.6e+4] \n"
     ]
    },
    {
     "name": "stdout",
     "output_type": "stream",
     "text": [
      "epoch 2459: avg train loss 72733.01, bar train loss 209.239, len train loss 4.242, col train loss 134.665\n"
     ]
    },
    {
     "name": "stderr",
     "output_type": "stream",
     "text": [
      "Epoch 2460: 3batch [00:00, 29.13batch/s, loss=7.05e+4]"
     ]
    },
    {
     "name": "stdout",
     "output_type": "stream",
     "text": [
      "epoch 2459: avg test  loss 73147.88, bar  test loss 90.025, len  test loss 1.816, col  test loss 58.307\n"
     ]
    },
    {
     "name": "stderr",
     "output_type": "stream",
     "text": [
      "Epoch 2460: 272batch [00:09, 29.78batch/s, loss=6.76e+4]\n"
     ]
    },
    {
     "name": "stdout",
     "output_type": "stream",
     "text": [
      "epoch 2460: avg train loss 72732.68, bar train loss 209.241, len train loss 4.241, col train loss 134.667\n",
      "epoch 2460: avg test  loss 73167.05, bar  test loss 90.071, len  test loss 1.827, col  test loss 58.238\n"
     ]
    },
    {
     "name": "stderr",
     "output_type": "stream",
     "text": [
      "Epoch 2461: 272batch [00:09, 29.83batch/s, loss=7.46e+4]\n"
     ]
    },
    {
     "name": "stdout",
     "output_type": "stream",
     "text": [
      "epoch 2461: avg train loss 72726.09, bar train loss 209.236, len train loss 4.242, col train loss 134.617\n"
     ]
    },
    {
     "name": "stderr",
     "output_type": "stream",
     "text": [
      "Epoch 2462: 3batch [00:00, 28.31batch/s, loss=7.19e+4]"
     ]
    },
    {
     "name": "stdout",
     "output_type": "stream",
     "text": [
      "epoch 2461: avg test  loss 73165.67, bar  test loss 90.162, len  test loss 1.829, col  test loss 58.205\n"
     ]
    },
    {
     "name": "stderr",
     "output_type": "stream",
     "text": [
      "Epoch 2462: 272batch [00:09, 29.67batch/s, loss=7.6e+4] \n"
     ]
    },
    {
     "name": "stdout",
     "output_type": "stream",
     "text": [
      "epoch 2462: avg train loss 72729.15, bar train loss 209.247, len train loss 4.240, col train loss 134.670\n"
     ]
    },
    {
     "name": "stderr",
     "output_type": "stream",
     "text": [
      "Epoch 2463: 3batch [00:00, 29.13batch/s, loss=7.27e+4]"
     ]
    },
    {
     "name": "stdout",
     "output_type": "stream",
     "text": [
      "epoch 2462: avg test  loss 73267.80, bar  test loss 90.287, len  test loss 1.824, col  test loss 58.346\n"
     ]
    },
    {
     "name": "stderr",
     "output_type": "stream",
     "text": [
      "Epoch 2463: 272batch [00:09, 29.86batch/s, loss=7.39e+4]\n"
     ]
    },
    {
     "name": "stdout",
     "output_type": "stream",
     "text": [
      "epoch 2463: avg train loss 72719.38, bar train loss 209.196, len train loss 4.244, col train loss 134.673\n"
     ]
    },
    {
     "name": "stderr",
     "output_type": "stream",
     "text": [
      "Epoch 2464: 3batch [00:00, 28.30batch/s, loss=7.14e+4]"
     ]
    },
    {
     "name": "stdout",
     "output_type": "stream",
     "text": [
      "epoch 2463: avg test  loss 73162.30, bar  test loss 90.162, len  test loss 1.822, col  test loss 58.317\n"
     ]
    },
    {
     "name": "stderr",
     "output_type": "stream",
     "text": [
      "Epoch 2464: 272batch [00:09, 29.71batch/s, loss=6.89e+4]\n"
     ]
    },
    {
     "name": "stdout",
     "output_type": "stream",
     "text": [
      "epoch 2464: avg train loss 72733.05, bar train loss 209.286, len train loss 4.240, col train loss 134.672\n"
     ]
    },
    {
     "name": "stderr",
     "output_type": "stream",
     "text": [
      "Epoch 2465: 3batch [00:00, 28.57batch/s, loss=7.52e+4]"
     ]
    },
    {
     "name": "stdout",
     "output_type": "stream",
     "text": [
      "epoch 2464: avg test  loss 73170.53, bar  test loss 90.100, len  test loss 1.816, col  test loss 58.294\n"
     ]
    },
    {
     "name": "stderr",
     "output_type": "stream",
     "text": [
      "Epoch 2465: 272batch [00:09, 29.13batch/s, loss=6.7e+4] \n"
     ]
    },
    {
     "name": "stdout",
     "output_type": "stream",
     "text": [
      "epoch 2465: avg train loss 72726.12, bar train loss 209.214, len train loss 4.238, col train loss 134.652\n",
      "epoch 2465: avg test  loss 73143.70, bar  test loss 90.058, len  test loss 1.818, col  test loss 58.350\n"
     ]
    },
    {
     "name": "stderr",
     "output_type": "stream",
     "text": [
      "Epoch 2466: 272batch [00:09, 28.98batch/s, loss=7.46e+4]\n"
     ]
    },
    {
     "name": "stdout",
     "output_type": "stream",
     "text": [
      "epoch 2466: avg train loss 72728.12, bar train loss 209.249, len train loss 4.239, col train loss 134.657\n"
     ]
    },
    {
     "name": "stderr",
     "output_type": "stream",
     "text": [
      "Epoch 2467: 3batch [00:00, 28.30batch/s, loss=7.13e+4]"
     ]
    },
    {
     "name": "stdout",
     "output_type": "stream",
     "text": [
      "epoch 2466: avg test  loss 73139.35, bar  test loss 90.051, len  test loss 1.824, col  test loss 58.168\n"
     ]
    },
    {
     "name": "stderr",
     "output_type": "stream",
     "text": [
      "Epoch 2467: 272batch [00:09, 29.69batch/s, loss=6.82e+4]\n"
     ]
    },
    {
     "name": "stdout",
     "output_type": "stream",
     "text": [
      "epoch 2467: avg train loss 72723.35, bar train loss 209.243, len train loss 4.237, col train loss 134.659\n"
     ]
    },
    {
     "name": "stderr",
     "output_type": "stream",
     "text": [
      "Epoch 2468: 3batch [00:00, 27.52batch/s, loss=7.25e+4]"
     ]
    },
    {
     "name": "stdout",
     "output_type": "stream",
     "text": [
      "epoch 2467: avg test  loss 73167.16, bar  test loss 90.157, len  test loss 1.821, col  test loss 58.354\n"
     ]
    },
    {
     "name": "stderr",
     "output_type": "stream",
     "text": [
      "Epoch 2468: 272batch [00:09, 29.70batch/s, loss=7.07e+4]\n"
     ]
    },
    {
     "name": "stdout",
     "output_type": "stream",
     "text": [
      "epoch 2468: avg train loss 72726.39, bar train loss 209.228, len train loss 4.240, col train loss 134.634\n"
     ]
    },
    {
     "name": "stderr",
     "output_type": "stream",
     "text": [
      "Epoch 2469: 3batch [00:00, 28.85batch/s, loss=7.27e+4]"
     ]
    },
    {
     "name": "stdout",
     "output_type": "stream",
     "text": [
      "epoch 2468: avg test  loss 73188.77, bar  test loss 90.261, len  test loss 1.821, col  test loss 58.389\n"
     ]
    },
    {
     "name": "stderr",
     "output_type": "stream",
     "text": [
      "Epoch 2469: 272batch [00:09, 29.74batch/s, loss=7.06e+4]\n"
     ]
    },
    {
     "name": "stdout",
     "output_type": "stream",
     "text": [
      "epoch 2469: avg train loss 72727.61, bar train loss 209.217, len train loss 4.238, col train loss 134.675\n"
     ]
    },
    {
     "name": "stderr",
     "output_type": "stream",
     "text": [
      "Epoch 2470: 3batch [00:00, 27.03batch/s, loss=7.41e+4]"
     ]
    },
    {
     "name": "stdout",
     "output_type": "stream",
     "text": [
      "epoch 2469: avg test  loss 73179.79, bar  test loss 90.044, len  test loss 1.818, col  test loss 58.271\n"
     ]
    },
    {
     "name": "stderr",
     "output_type": "stream",
     "text": [
      "Epoch 2470: 272batch [00:09, 29.47batch/s, loss=7.22e+4]\n"
     ]
    },
    {
     "name": "stdout",
     "output_type": "stream",
     "text": [
      "epoch 2470: avg train loss 72732.66, bar train loss 209.226, len train loss 4.240, col train loss 134.682\n",
      "epoch 2470: avg test  loss 73190.95, bar  test loss 90.088, len  test loss 1.818, col  test loss 58.214\n"
     ]
    },
    {
     "name": "stderr",
     "output_type": "stream",
     "text": [
      "Epoch 2471: 272batch [00:09, 29.50batch/s, loss=7.22e+4]\n"
     ]
    },
    {
     "name": "stdout",
     "output_type": "stream",
     "text": [
      "epoch 2471: avg train loss 72725.01, bar train loss 209.238, len train loss 4.242, col train loss 134.641\n"
     ]
    },
    {
     "name": "stderr",
     "output_type": "stream",
     "text": [
      "Epoch 2472: 3batch [00:00, 28.30batch/s, loss=7.24e+4]"
     ]
    },
    {
     "name": "stdout",
     "output_type": "stream",
     "text": [
      "epoch 2471: avg test  loss 73179.83, bar  test loss 90.250, len  test loss 1.824, col  test loss 58.387\n"
     ]
    },
    {
     "name": "stderr",
     "output_type": "stream",
     "text": [
      "Epoch 2472: 272batch [00:09, 29.55batch/s, loss=7.27e+4]\n"
     ]
    },
    {
     "name": "stdout",
     "output_type": "stream",
     "text": [
      "epoch 2472: avg train loss 72719.57, bar train loss 209.210, len train loss 4.240, col train loss 134.626\n"
     ]
    },
    {
     "name": "stderr",
     "output_type": "stream",
     "text": [
      "Epoch 2473: 3batch [00:00, 28.57batch/s, loss=7.28e+4]"
     ]
    },
    {
     "name": "stdout",
     "output_type": "stream",
     "text": [
      "epoch 2472: avg test  loss 73184.02, bar  test loss 89.909, len  test loss 1.818, col  test loss 58.068\n"
     ]
    },
    {
     "name": "stderr",
     "output_type": "stream",
     "text": [
      "Epoch 2473: 272batch [00:09, 29.61batch/s, loss=7.43e+4]\n"
     ]
    },
    {
     "name": "stdout",
     "output_type": "stream",
     "text": [
      "epoch 2473: avg train loss 72723.72, bar train loss 209.225, len train loss 4.240, col train loss 134.654\n"
     ]
    },
    {
     "name": "stderr",
     "output_type": "stream",
     "text": [
      "Epoch 2474: 3batch [00:00, 23.62batch/s, loss=6.89e+4]"
     ]
    },
    {
     "name": "stdout",
     "output_type": "stream",
     "text": [
      "epoch 2473: avg test  loss 73139.97, bar  test loss 90.102, len  test loss 1.825, col  test loss 58.304\n"
     ]
    },
    {
     "name": "stderr",
     "output_type": "stream",
     "text": [
      "Epoch 2474: 272batch [00:09, 29.38batch/s, loss=7.18e+4]\n"
     ]
    },
    {
     "name": "stdout",
     "output_type": "stream",
     "text": [
      "epoch 2474: avg train loss 72720.38, bar train loss 209.234, len train loss 4.243, col train loss 134.620\n"
     ]
    },
    {
     "name": "stderr",
     "output_type": "stream",
     "text": [
      "Epoch 2475: 3batch [00:00, 28.30batch/s, loss=7.11e+4]"
     ]
    },
    {
     "name": "stdout",
     "output_type": "stream",
     "text": [
      "epoch 2474: avg test  loss 73199.54, bar  test loss 90.206, len  test loss 1.837, col  test loss 58.217\n"
     ]
    },
    {
     "name": "stderr",
     "output_type": "stream",
     "text": [
      "Epoch 2475: 272batch [00:08, 30.38batch/s, loss=7.49e+4]\n"
     ]
    },
    {
     "name": "stdout",
     "output_type": "stream",
     "text": [
      "epoch 2475: avg train loss 72729.34, bar train loss 209.216, len train loss 4.243, col train loss 134.636\n",
      "epoch 2475: avg test  loss 73187.97, bar  test loss 90.136, len  test loss 1.822, col  test loss 58.278\n"
     ]
    },
    {
     "name": "stderr",
     "output_type": "stream",
     "text": [
      "Epoch 2476: 272batch [00:08, 30.24batch/s, loss=8.03e+4]\n"
     ]
    },
    {
     "name": "stdout",
     "output_type": "stream",
     "text": [
      "epoch 2476: avg train loss 72721.00, bar train loss 209.220, len train loss 4.243, col train loss 134.623\n"
     ]
    },
    {
     "name": "stderr",
     "output_type": "stream",
     "text": [
      "Epoch 2477: 3batch [00:00, 27.78batch/s, loss=7.4e+4] "
     ]
    },
    {
     "name": "stdout",
     "output_type": "stream",
     "text": [
      "epoch 2476: avg test  loss 73157.26, bar  test loss 90.014, len  test loss 1.821, col  test loss 58.134\n"
     ]
    },
    {
     "name": "stderr",
     "output_type": "stream",
     "text": [
      "Epoch 2477: 272batch [00:09, 29.18batch/s, loss=7.02e+4]\n"
     ]
    },
    {
     "name": "stdout",
     "output_type": "stream",
     "text": [
      "epoch 2477: avg train loss 72719.35, bar train loss 209.202, len train loss 4.243, col train loss 134.666\n"
     ]
    },
    {
     "name": "stderr",
     "output_type": "stream",
     "text": [
      "Epoch 2478: 3batch [00:00, 28.04batch/s, loss=7.08e+4]"
     ]
    },
    {
     "name": "stdout",
     "output_type": "stream",
     "text": [
      "epoch 2477: avg test  loss 73138.62, bar  test loss 90.150, len  test loss 1.821, col  test loss 58.374\n"
     ]
    },
    {
     "name": "stderr",
     "output_type": "stream",
     "text": [
      "Epoch 2478: 272batch [00:08, 30.83batch/s, loss=6.56e+4]\n"
     ]
    },
    {
     "name": "stdout",
     "output_type": "stream",
     "text": [
      "epoch 2478: avg train loss 72716.71, bar train loss 209.184, len train loss 4.239, col train loss 134.616\n"
     ]
    },
    {
     "name": "stderr",
     "output_type": "stream",
     "text": [
      "Epoch 2479: 3batch [00:00, 29.71batch/s, loss=7.51e+4]"
     ]
    },
    {
     "name": "stdout",
     "output_type": "stream",
     "text": [
      "epoch 2478: avg test  loss 73180.98, bar  test loss 90.054, len  test loss 1.813, col  test loss 58.200\n"
     ]
    },
    {
     "name": "stderr",
     "output_type": "stream",
     "text": [
      "Epoch 2479: 272batch [00:08, 31.18batch/s, loss=7.44e+4]\n"
     ]
    },
    {
     "name": "stdout",
     "output_type": "stream",
     "text": [
      "epoch 2479: avg train loss 72729.96, bar train loss 209.258, len train loss 4.239, col train loss 134.681\n"
     ]
    },
    {
     "name": "stderr",
     "output_type": "stream",
     "text": [
      "Epoch 2480: 3batch [00:00, 25.21batch/s, loss=7.37e+4]"
     ]
    },
    {
     "name": "stdout",
     "output_type": "stream",
     "text": [
      "epoch 2479: avg test  loss 73149.96, bar  test loss 90.199, len  test loss 1.818, col  test loss 58.433\n"
     ]
    },
    {
     "name": "stderr",
     "output_type": "stream",
     "text": [
      "Epoch 2480: 272batch [00:08, 30.26batch/s, loss=8.36e+4]\n"
     ]
    },
    {
     "name": "stdout",
     "output_type": "stream",
     "text": [
      "epoch 2480: avg train loss 72722.25, bar train loss 209.202, len train loss 4.241, col train loss 134.615\n",
      "epoch 2480: avg test  loss 73151.15, bar  test loss 90.109, len  test loss 1.821, col  test loss 58.246\n"
     ]
    },
    {
     "name": "stderr",
     "output_type": "stream",
     "text": [
      "Epoch 2481: 272batch [00:08, 30.37batch/s, loss=6.94e+4]\n"
     ]
    },
    {
     "name": "stdout",
     "output_type": "stream",
     "text": [
      "epoch 2481: avg train loss 72729.12, bar train loss 209.255, len train loss 4.240, col train loss 134.682\n"
     ]
    },
    {
     "name": "stderr",
     "output_type": "stream",
     "text": [
      "Epoch 2482: 3batch [00:00, 29.70batch/s, loss=7.23e+4]"
     ]
    },
    {
     "name": "stdout",
     "output_type": "stream",
     "text": [
      "epoch 2481: avg test  loss 73155.12, bar  test loss 90.081, len  test loss 1.821, col  test loss 58.275\n"
     ]
    },
    {
     "name": "stderr",
     "output_type": "stream",
     "text": [
      "Epoch 2482: 272batch [00:08, 31.16batch/s, loss=7.53e+4]\n"
     ]
    },
    {
     "name": "stdout",
     "output_type": "stream",
     "text": [
      "epoch 2482: avg train loss 72720.28, bar train loss 209.221, len train loss 4.242, col train loss 134.597\n"
     ]
    },
    {
     "name": "stderr",
     "output_type": "stream",
     "text": [
      "Epoch 2483: 3batch [00:00, 29.70batch/s, loss=7.84e+4]"
     ]
    },
    {
     "name": "stdout",
     "output_type": "stream",
     "text": [
      "epoch 2482: avg test  loss 73138.26, bar  test loss 90.071, len  test loss 1.818, col  test loss 58.153\n"
     ]
    },
    {
     "name": "stderr",
     "output_type": "stream",
     "text": [
      "Epoch 2483: 272batch [00:08, 31.06batch/s, loss=7.27e+4]\n"
     ]
    },
    {
     "name": "stdout",
     "output_type": "stream",
     "text": [
      "epoch 2483: avg train loss 72727.12, bar train loss 209.234, len train loss 4.241, col train loss 134.672\n"
     ]
    },
    {
     "name": "stderr",
     "output_type": "stream",
     "text": [
      "Epoch 2484: 3batch [00:00, 28.85batch/s, loss=7.19e+4]"
     ]
    },
    {
     "name": "stdout",
     "output_type": "stream",
     "text": [
      "epoch 2483: avg test  loss 73150.01, bar  test loss 90.149, len  test loss 1.815, col  test loss 58.286\n"
     ]
    },
    {
     "name": "stderr",
     "output_type": "stream",
     "text": [
      "Epoch 2484: 272batch [00:08, 30.94batch/s, loss=7.69e+4]\n"
     ]
    },
    {
     "name": "stdout",
     "output_type": "stream",
     "text": [
      "epoch 2484: avg train loss 72728.85, bar train loss 209.258, len train loss 4.241, col train loss 134.637\n"
     ]
    },
    {
     "name": "stderr",
     "output_type": "stream",
     "text": [
      "Epoch 2485: 3batch [00:00, 29.13batch/s, loss=7.57e+4]"
     ]
    },
    {
     "name": "stdout",
     "output_type": "stream",
     "text": [
      "epoch 2484: avg test  loss 73153.62, bar  test loss 90.143, len  test loss 1.826, col  test loss 58.302\n"
     ]
    },
    {
     "name": "stderr",
     "output_type": "stream",
     "text": [
      "Epoch 2485: 272batch [00:08, 30.79batch/s, loss=7.58e+4]\n"
     ]
    },
    {
     "name": "stdout",
     "output_type": "stream",
     "text": [
      "epoch 2485: avg train loss 72722.27, bar train loss 209.231, len train loss 4.242, col train loss 134.686\n",
      "epoch 2485: avg test  loss 73162.13, bar  test loss 90.049, len  test loss 1.822, col  test loss 58.367\n"
     ]
    },
    {
     "name": "stderr",
     "output_type": "stream",
     "text": [
      "Epoch 2486: 272batch [00:08, 30.25batch/s, loss=6.79e+4]\n"
     ]
    },
    {
     "name": "stdout",
     "output_type": "stream",
     "text": [
      "epoch 2486: avg train loss 72729.29, bar train loss 209.228, len train loss 4.238, col train loss 134.666\n"
     ]
    },
    {
     "name": "stderr",
     "output_type": "stream",
     "text": [
      "Epoch 2487: 3batch [00:00, 28.57batch/s, loss=7.32e+4]"
     ]
    },
    {
     "name": "stdout",
     "output_type": "stream",
     "text": [
      "epoch 2486: avg test  loss 73160.77, bar  test loss 89.969, len  test loss 1.820, col  test loss 58.118\n"
     ]
    },
    {
     "name": "stderr",
     "output_type": "stream",
     "text": [
      "Epoch 2487: 272batch [00:09, 29.34batch/s, loss=7.43e+4]\n"
     ]
    },
    {
     "name": "stdout",
     "output_type": "stream",
     "text": [
      "epoch 2487: avg train loss 72722.70, bar train loss 209.194, len train loss 4.240, col train loss 134.644\n"
     ]
    },
    {
     "name": "stderr",
     "output_type": "stream",
     "text": [
      "Epoch 2488: 3batch [00:00, 28.30batch/s, loss=7.11e+4]"
     ]
    },
    {
     "name": "stdout",
     "output_type": "stream",
     "text": [
      "epoch 2487: avg test  loss 73191.92, bar  test loss 90.033, len  test loss 1.817, col  test loss 58.276\n"
     ]
    },
    {
     "name": "stderr",
     "output_type": "stream",
     "text": [
      "Epoch 2488: 272batch [00:09, 29.44batch/s, loss=7.85e+4]\n"
     ]
    },
    {
     "name": "stdout",
     "output_type": "stream",
     "text": [
      "epoch 2488: avg train loss 72724.35, bar train loss 209.229, len train loss 4.242, col train loss 134.647\n"
     ]
    },
    {
     "name": "stderr",
     "output_type": "stream",
     "text": [
      "Epoch 2489: 3batch [00:00, 28.57batch/s, loss=7.17e+4]"
     ]
    },
    {
     "name": "stdout",
     "output_type": "stream",
     "text": [
      "epoch 2488: avg test  loss 73125.58, bar  test loss 90.106, len  test loss 1.819, col  test loss 58.250\n"
     ]
    },
    {
     "name": "stderr",
     "output_type": "stream",
     "text": [
      "Epoch 2489: 272batch [00:09, 29.81batch/s, loss=7.9e+4] \n"
     ]
    },
    {
     "name": "stdout",
     "output_type": "stream",
     "text": [
      "epoch 2489: avg train loss 72721.38, bar train loss 209.221, len train loss 4.239, col train loss 134.650\n"
     ]
    },
    {
     "name": "stderr",
     "output_type": "stream",
     "text": [
      "Epoch 2490: 3batch [00:00, 27.52batch/s, loss=7.52e+4]"
     ]
    },
    {
     "name": "stdout",
     "output_type": "stream",
     "text": [
      "epoch 2489: avg test  loss 73183.34, bar  test loss 90.196, len  test loss 1.816, col  test loss 58.328\n"
     ]
    },
    {
     "name": "stderr",
     "output_type": "stream",
     "text": [
      "Epoch 2490: 272batch [00:09, 27.49batch/s, loss=7.17e+4]\n"
     ]
    },
    {
     "name": "stdout",
     "output_type": "stream",
     "text": [
      "epoch 2490: avg train loss 72728.45, bar train loss 209.219, len train loss 4.240, col train loss 134.674\n",
      "epoch 2490: avg test  loss 73172.01, bar  test loss 90.157, len  test loss 1.824, col  test loss 58.273\n"
     ]
    },
    {
     "name": "stderr",
     "output_type": "stream",
     "text": [
      "Epoch 2491: 272batch [00:09, 28.51batch/s, loss=6.54e+4]\n"
     ]
    },
    {
     "name": "stdout",
     "output_type": "stream",
     "text": [
      "epoch 2491: avg train loss 72718.58, bar train loss 209.219, len train loss 4.243, col train loss 134.625\n"
     ]
    },
    {
     "name": "stderr",
     "output_type": "stream",
     "text": [
      "Epoch 2492: 3batch [00:00, 26.32batch/s, loss=7.55e+4]"
     ]
    },
    {
     "name": "stdout",
     "output_type": "stream",
     "text": [
      "epoch 2491: avg test  loss 73131.72, bar  test loss 90.012, len  test loss 1.816, col  test loss 58.285\n"
     ]
    },
    {
     "name": "stderr",
     "output_type": "stream",
     "text": [
      "Epoch 2492: 272batch [00:09, 28.15batch/s, loss=7.81e+4]\n"
     ]
    },
    {
     "name": "stdout",
     "output_type": "stream",
     "text": [
      "epoch 2492: avg train loss 72710.79, bar train loss 209.214, len train loss 4.244, col train loss 134.611\n"
     ]
    },
    {
     "name": "stderr",
     "output_type": "stream",
     "text": [
      "Epoch 2493: 3batch [00:00, 27.78batch/s, loss=7.12e+4]"
     ]
    },
    {
     "name": "stdout",
     "output_type": "stream",
     "text": [
      "epoch 2492: avg test  loss 73185.89, bar  test loss 89.996, len  test loss 1.823, col  test loss 58.139\n"
     ]
    },
    {
     "name": "stderr",
     "output_type": "stream",
     "text": [
      "Epoch 2493: 272batch [00:09, 28.41batch/s, loss=7.21e+4]\n"
     ]
    },
    {
     "name": "stdout",
     "output_type": "stream",
     "text": [
      "epoch 2493: avg train loss 72716.59, bar train loss 209.251, len train loss 4.241, col train loss 134.628\n"
     ]
    },
    {
     "name": "stderr",
     "output_type": "stream",
     "text": [
      "Epoch 2494: 3batch [00:00, 25.64batch/s, loss=7.57e+4]"
     ]
    },
    {
     "name": "stdout",
     "output_type": "stream",
     "text": [
      "epoch 2493: avg test  loss 73190.41, bar  test loss 89.851, len  test loss 1.817, col  test loss 58.096\n"
     ]
    },
    {
     "name": "stderr",
     "output_type": "stream",
     "text": [
      "Epoch 2494: 272batch [00:09, 28.59batch/s, loss=7.52e+4]\n"
     ]
    },
    {
     "name": "stdout",
     "output_type": "stream",
     "text": [
      "epoch 2494: avg train loss 72722.48, bar train loss 209.235, len train loss 4.244, col train loss 134.602\n"
     ]
    },
    {
     "name": "stderr",
     "output_type": "stream",
     "text": [
      "Epoch 2495: 3batch [00:00, 26.79batch/s, loss=7.15e+4]"
     ]
    },
    {
     "name": "stdout",
     "output_type": "stream",
     "text": [
      "epoch 2494: avg test  loss 73174.73, bar  test loss 90.187, len  test loss 1.816, col  test loss 58.269\n"
     ]
    },
    {
     "name": "stderr",
     "output_type": "stream",
     "text": [
      "Epoch 2495: 272batch [00:09, 28.16batch/s, loss=7.22e+4]\n"
     ]
    },
    {
     "name": "stdout",
     "output_type": "stream",
     "text": [
      "epoch 2495: avg train loss 72725.25, bar train loss 209.232, len train loss 4.241, col train loss 134.622\n",
      "epoch 2495: avg test  loss 73105.34, bar  test loss 90.031, len  test loss 1.821, col  test loss 58.171\n"
     ]
    },
    {
     "name": "stderr",
     "output_type": "stream",
     "text": [
      "Epoch 2496: 272batch [00:09, 27.49batch/s, loss=7.98e+4]\n"
     ]
    },
    {
     "name": "stdout",
     "output_type": "stream",
     "text": [
      "epoch 2496: avg train loss 72714.13, bar train loss 209.197, len train loss 4.239, col train loss 134.622\n"
     ]
    },
    {
     "name": "stderr",
     "output_type": "stream",
     "text": [
      "Epoch 2497: 3batch [00:00, 28.04batch/s, loss=7.29e+4]"
     ]
    },
    {
     "name": "stdout",
     "output_type": "stream",
     "text": [
      "epoch 2496: avg test  loss 73258.16, bar  test loss 90.154, len  test loss 1.823, col  test loss 58.282\n"
     ]
    },
    {
     "name": "stderr",
     "output_type": "stream",
     "text": [
      "Epoch 2497: 272batch [00:09, 27.80batch/s, loss=6.85e+4]\n"
     ]
    },
    {
     "name": "stdout",
     "output_type": "stream",
     "text": [
      "epoch 2497: avg train loss 72726.23, bar train loss 209.212, len train loss 4.242, col train loss 134.656\n"
     ]
    },
    {
     "name": "stderr",
     "output_type": "stream",
     "text": [
      "Epoch 2498: 3batch [00:00, 23.08batch/s, loss=7.02e+4]"
     ]
    },
    {
     "name": "stdout",
     "output_type": "stream",
     "text": [
      "epoch 2497: avg test  loss 73181.41, bar  test loss 90.031, len  test loss 1.816, col  test loss 58.303\n"
     ]
    },
    {
     "name": "stderr",
     "output_type": "stream",
     "text": [
      "Epoch 2498: 272batch [00:10, 26.98batch/s, loss=7.34e+4]\n"
     ]
    },
    {
     "name": "stdout",
     "output_type": "stream",
     "text": [
      "epoch 2498: avg train loss 72712.71, bar train loss 209.211, len train loss 4.240, col train loss 134.612\n"
     ]
    },
    {
     "name": "stderr",
     "output_type": "stream",
     "text": [
      "Epoch 2499: 3batch [00:00, 26.55batch/s, loss=71584.5]"
     ]
    },
    {
     "name": "stdout",
     "output_type": "stream",
     "text": [
      "epoch 2498: avg test  loss 73122.59, bar  test loss 90.014, len  test loss 1.821, col  test loss 58.240\n"
     ]
    },
    {
     "name": "stderr",
     "output_type": "stream",
     "text": [
      "Epoch 2499: 272batch [00:10, 26.61batch/s, loss=7.55e+4]\n"
     ]
    },
    {
     "name": "stdout",
     "output_type": "stream",
     "text": [
      "epoch 2499: avg train loss 72711.29, bar train loss 209.207, len train loss 4.246, col train loss 134.620\n"
     ]
    },
    {
     "name": "stderr",
     "output_type": "stream",
     "text": [
      "Epoch 2500: 3batch [00:00, 26.32batch/s, loss=7.32e+4]"
     ]
    },
    {
     "name": "stdout",
     "output_type": "stream",
     "text": [
      "epoch 2499: avg test  loss 73134.65, bar  test loss 90.235, len  test loss 1.818, col  test loss 58.402\n"
     ]
    },
    {
     "name": "stderr",
     "output_type": "stream",
     "text": [
      "Epoch 2500: 272batch [00:10, 26.31batch/s, loss=7.25e+4]\n"
     ]
    },
    {
     "name": "stdout",
     "output_type": "stream",
     "text": [
      "epoch 2500: avg train loss 72720.69, bar train loss 209.213, len train loss 4.242, col train loss 134.614\n",
      "epoch 2500: avg test  loss 73173.91, bar  test loss 90.171, len  test loss 1.818, col  test loss 58.133\n"
     ]
    },
    {
     "name": "stderr",
     "output_type": "stream",
     "text": [
      "Epoch 2501: 272batch [00:10, 25.84batch/s, loss=6.49e+4]\n"
     ]
    },
    {
     "name": "stdout",
     "output_type": "stream",
     "text": [
      "epoch 2501: avg train loss 72715.05, bar train loss 209.231, len train loss 4.242, col train loss 134.586\n"
     ]
    },
    {
     "name": "stderr",
     "output_type": "stream",
     "text": [
      "Epoch 2502: 3batch [00:00, 23.81batch/s, loss=7.34e+4]"
     ]
    },
    {
     "name": "stdout",
     "output_type": "stream",
     "text": [
      "epoch 2501: avg test  loss 73131.30, bar  test loss 90.045, len  test loss 1.817, col  test loss 58.135\n"
     ]
    },
    {
     "name": "stderr",
     "output_type": "stream",
     "text": [
      "Epoch 2502: 272batch [00:10, 24.77batch/s, loss=74937.5]\n"
     ]
    },
    {
     "name": "stdout",
     "output_type": "stream",
     "text": [
      "epoch 2502: avg train loss 72717.32, bar train loss 209.211, len train loss 4.243, col train loss 134.625\n"
     ]
    },
    {
     "name": "stderr",
     "output_type": "stream",
     "text": [
      "Epoch 2503: 3batch [00:00, 25.86batch/s, loss=7.32e+4]"
     ]
    },
    {
     "name": "stdout",
     "output_type": "stream",
     "text": [
      "epoch 2502: avg test  loss 73134.31, bar  test loss 90.068, len  test loss 1.821, col  test loss 58.201\n"
     ]
    },
    {
     "name": "stderr",
     "output_type": "stream",
     "text": [
      "Epoch 2503: 272batch [00:11, 24.62batch/s, loss=7.19e+4]\n"
     ]
    },
    {
     "name": "stdout",
     "output_type": "stream",
     "text": [
      "epoch 2503: avg train loss 72718.81, bar train loss 209.178, len train loss 4.241, col train loss 134.596\n"
     ]
    },
    {
     "name": "stderr",
     "output_type": "stream",
     "text": [
      "Epoch 2504: 3batch [00:00, 24.00batch/s, loss=7.05e+4]"
     ]
    },
    {
     "name": "stdout",
     "output_type": "stream",
     "text": [
      "epoch 2503: avg test  loss 73145.17, bar  test loss 90.132, len  test loss 1.824, col  test loss 58.283\n"
     ]
    },
    {
     "name": "stderr",
     "output_type": "stream",
     "text": [
      "Epoch 2504: 272batch [00:11, 24.35batch/s, loss=7.21e+4]\n"
     ]
    },
    {
     "name": "stdout",
     "output_type": "stream",
     "text": [
      "epoch 2504: avg train loss 72719.74, bar train loss 209.217, len train loss 4.240, col train loss 134.627\n"
     ]
    },
    {
     "name": "stderr",
     "output_type": "stream",
     "text": [
      "Epoch 2505: 3batch [00:00, 23.81batch/s, loss=7.21e+4]"
     ]
    },
    {
     "name": "stdout",
     "output_type": "stream",
     "text": [
      "epoch 2504: avg test  loss 73170.68, bar  test loss 89.980, len  test loss 1.814, col  test loss 58.146\n"
     ]
    },
    {
     "name": "stderr",
     "output_type": "stream",
     "text": [
      "Epoch 2505: 272batch [00:11, 24.31batch/s, loss=7.32e+4]\n"
     ]
    },
    {
     "name": "stdout",
     "output_type": "stream",
     "text": [
      "epoch 2505: avg train loss 72718.52, bar train loss 209.194, len train loss 4.239, col train loss 134.640\n",
      "epoch 2505: avg test  loss 73188.16, bar  test loss 90.114, len  test loss 1.826, col  test loss 58.341\n"
     ]
    },
    {
     "name": "stderr",
     "output_type": "stream",
     "text": [
      "Epoch 2506: 272batch [00:11, 23.80batch/s, loss=7.26e+4]\n"
     ]
    },
    {
     "name": "stdout",
     "output_type": "stream",
     "text": [
      "epoch 2506: avg train loss 72723.23, bar train loss 209.241, len train loss 4.238, col train loss 134.665\n"
     ]
    },
    {
     "name": "stderr",
     "output_type": "stream",
     "text": [
      "Epoch 2507: 3batch [00:00, 24.39batch/s, loss=7.5e+4] "
     ]
    },
    {
     "name": "stdout",
     "output_type": "stream",
     "text": [
      "epoch 2506: avg test  loss 73198.91, bar  test loss 90.048, len  test loss 1.815, col  test loss 58.215\n"
     ]
    },
    {
     "name": "stderr",
     "output_type": "stream",
     "text": [
      "Epoch 2507: 272batch [00:11, 23.73batch/s, loss=7.56e+4]\n"
     ]
    },
    {
     "name": "stdout",
     "output_type": "stream",
     "text": [
      "epoch 2507: avg train loss 72718.30, bar train loss 209.218, len train loss 4.239, col train loss 134.633\n"
     ]
    },
    {
     "name": "stderr",
     "output_type": "stream",
     "text": [
      "Epoch 2508: 3batch [00:00, 23.81batch/s, loss=7.31e+4]"
     ]
    },
    {
     "name": "stdout",
     "output_type": "stream",
     "text": [
      "epoch 2507: avg test  loss 73147.79, bar  test loss 90.070, len  test loss 1.822, col  test loss 58.279\n"
     ]
    },
    {
     "name": "stderr",
     "output_type": "stream",
     "text": [
      "Epoch 2508: 272batch [00:11, 22.95batch/s, loss=7.28e+4]\n"
     ]
    },
    {
     "name": "stdout",
     "output_type": "stream",
     "text": [
      "epoch 2508: avg train loss 72719.22, bar train loss 209.193, len train loss 4.242, col train loss 134.598\n"
     ]
    },
    {
     "name": "stderr",
     "output_type": "stream",
     "text": [
      "Epoch 2509: 3batch [00:00, 23.26batch/s, loss=7.09e+4]"
     ]
    },
    {
     "name": "stdout",
     "output_type": "stream",
     "text": [
      "epoch 2508: avg test  loss 73229.99, bar  test loss 90.205, len  test loss 1.816, col  test loss 58.417\n"
     ]
    },
    {
     "name": "stderr",
     "output_type": "stream",
     "text": [
      "Epoch 2509: 272batch [00:11, 22.75batch/s, loss=6.3e+4] \n"
     ]
    },
    {
     "name": "stdout",
     "output_type": "stream",
     "text": [
      "epoch 2509: avg train loss 72721.09, bar train loss 209.239, len train loss 4.240, col train loss 134.633\n"
     ]
    },
    {
     "name": "stderr",
     "output_type": "stream",
     "text": [
      "Epoch 2510: 3batch [00:00, 21.90batch/s, loss=7.16e+4]"
     ]
    },
    {
     "name": "stdout",
     "output_type": "stream",
     "text": [
      "epoch 2509: avg test  loss 73184.48, bar  test loss 90.106, len  test loss 1.813, col  test loss 58.191\n"
     ]
    },
    {
     "name": "stderr",
     "output_type": "stream",
     "text": [
      "Epoch 2510: 272batch [00:12, 22.36batch/s, loss=7.78e+4]\n"
     ]
    },
    {
     "name": "stdout",
     "output_type": "stream",
     "text": [
      "epoch 2510: avg train loss 72716.88, bar train loss 209.211, len train loss 4.240, col train loss 134.620\n",
      "epoch 2510: avg test  loss 73169.45, bar  test loss 90.050, len  test loss 1.818, col  test loss 58.202\n"
     ]
    },
    {
     "name": "stderr",
     "output_type": "stream",
     "text": [
      "Epoch 2511: 272batch [00:12, 22.03batch/s, loss=7.46e+4]\n"
     ]
    },
    {
     "name": "stdout",
     "output_type": "stream",
     "text": [
      "epoch 2511: avg train loss 72703.95, bar train loss 209.171, len train loss 4.241, col train loss 134.598\n"
     ]
    },
    {
     "name": "stderr",
     "output_type": "stream",
     "text": [
      "Epoch 2512: 2batch [00:00, 17.54batch/s, loss=7.6e+4]"
     ]
    },
    {
     "name": "stdout",
     "output_type": "stream",
     "text": [
      "epoch 2511: avg test  loss 73134.19, bar  test loss 90.160, len  test loss 1.816, col  test loss 58.329\n"
     ]
    },
    {
     "name": "stderr",
     "output_type": "stream",
     "text": [
      "Epoch 2512: 272batch [00:12, 22.23batch/s, loss=6.85e+4]\n"
     ]
    },
    {
     "name": "stdout",
     "output_type": "stream",
     "text": [
      "epoch 2512: avg train loss 72716.82, bar train loss 209.220, len train loss 4.244, col train loss 134.622\n"
     ]
    },
    {
     "name": "stderr",
     "output_type": "stream",
     "text": [
      "Epoch 2513: 3batch [00:00, 22.22batch/s, loss=7.41e+4]"
     ]
    },
    {
     "name": "stdout",
     "output_type": "stream",
     "text": [
      "epoch 2512: avg test  loss 73275.84, bar  test loss 90.373, len  test loss 1.825, col  test loss 58.361\n"
     ]
    },
    {
     "name": "stderr",
     "output_type": "stream",
     "text": [
      "Epoch 2513: 272batch [00:12, 21.93batch/s, loss=7.47e+4]\n"
     ]
    },
    {
     "name": "stdout",
     "output_type": "stream",
     "text": [
      "epoch 2513: avg train loss 72723.32, bar train loss 209.226, len train loss 4.239, col train loss 134.610\n"
     ]
    },
    {
     "name": "stderr",
     "output_type": "stream",
     "text": [
      "Epoch 2514: 3batch [00:00, 23.81batch/s, loss=7.11e+4]"
     ]
    },
    {
     "name": "stdout",
     "output_type": "stream",
     "text": [
      "epoch 2513: avg test  loss 73165.82, bar  test loss 90.155, len  test loss 1.830, col  test loss 58.139\n"
     ]
    },
    {
     "name": "stderr",
     "output_type": "stream",
     "text": [
      "Epoch 2514: 272batch [00:12, 21.74batch/s, loss=6.76e+4]\n"
     ]
    },
    {
     "name": "stdout",
     "output_type": "stream",
     "text": [
      "epoch 2514: avg train loss 72718.36, bar train loss 209.180, len train loss 4.244, col train loss 134.613\n"
     ]
    },
    {
     "name": "stderr",
     "output_type": "stream",
     "text": [
      "Epoch 2515: 2batch [00:00, 19.42batch/s, loss=7.05e+4]"
     ]
    },
    {
     "name": "stdout",
     "output_type": "stream",
     "text": [
      "epoch 2514: avg test  loss 73153.47, bar  test loss 90.053, len  test loss 1.820, col  test loss 58.269\n"
     ]
    },
    {
     "name": "stderr",
     "output_type": "stream",
     "text": [
      "Epoch 2515: 272batch [00:12, 21.39batch/s, loss=7.51e+4]\n"
     ]
    },
    {
     "name": "stdout",
     "output_type": "stream",
     "text": [
      "epoch 2515: avg train loss 72715.12, bar train loss 209.177, len train loss 4.242, col train loss 134.598\n",
      "epoch 2515: avg test  loss 73162.70, bar  test loss 89.963, len  test loss 1.817, col  test loss 58.181\n"
     ]
    },
    {
     "name": "stderr",
     "output_type": "stream",
     "text": [
      "Epoch 2516: 272batch [00:13, 20.89batch/s, loss=7.49e+4]\n"
     ]
    },
    {
     "name": "stdout",
     "output_type": "stream",
     "text": [
      "epoch 2516: avg train loss 72712.24, bar train loss 209.154, len train loss 4.239, col train loss 134.615\n"
     ]
    },
    {
     "name": "stderr",
     "output_type": "stream",
     "text": [
      "Epoch 2517: 3batch [00:00, 22.90batch/s, loss=7.34e+4]"
     ]
    },
    {
     "name": "stdout",
     "output_type": "stream",
     "text": [
      "epoch 2516: avg test  loss 73116.23, bar  test loss 89.937, len  test loss 1.818, col  test loss 58.121\n"
     ]
    },
    {
     "name": "stderr",
     "output_type": "stream",
     "text": [
      "Epoch 2517: 272batch [00:12, 21.50batch/s, loss=7.18e+4]\n"
     ]
    },
    {
     "name": "stdout",
     "output_type": "stream",
     "text": [
      "epoch 2517: avg train loss 72702.77, bar train loss 209.166, len train loss 4.242, col train loss 134.558\n"
     ]
    },
    {
     "name": "stderr",
     "output_type": "stream",
     "text": [
      "Epoch 2518: 3batch [00:00, 22.39batch/s, loss=7.41e+4]"
     ]
    },
    {
     "name": "stdout",
     "output_type": "stream",
     "text": [
      "epoch 2517: avg test  loss 73153.05, bar  test loss 89.914, len  test loss 1.819, col  test loss 58.090\n"
     ]
    },
    {
     "name": "stderr",
     "output_type": "stream",
     "text": [
      "Epoch 2518: 272batch [00:12, 21.32batch/s, loss=7.82e+4]\n"
     ]
    },
    {
     "name": "stdout",
     "output_type": "stream",
     "text": [
      "epoch 2518: avg train loss 72708.64, bar train loss 209.183, len train loss 4.242, col train loss 134.586\n"
     ]
    },
    {
     "name": "stderr",
     "output_type": "stream",
     "text": [
      "Epoch 2519: 3batch [00:00, 22.56batch/s, loss=7.26e+4]"
     ]
    },
    {
     "name": "stdout",
     "output_type": "stream",
     "text": [
      "epoch 2518: avg test  loss 73163.98, bar  test loss 89.881, len  test loss 1.817, col  test loss 58.071\n"
     ]
    },
    {
     "name": "stderr",
     "output_type": "stream",
     "text": [
      "Epoch 2519: 272batch [00:13, 20.83batch/s, loss=8.07e+4]\n"
     ]
    },
    {
     "name": "stdout",
     "output_type": "stream",
     "text": [
      "epoch 2519: avg train loss 72717.69, bar train loss 209.198, len train loss 4.242, col train loss 134.624\n"
     ]
    },
    {
     "name": "stderr",
     "output_type": "stream",
     "text": [
      "Epoch 2520: 2batch [00:00, 20.00batch/s, loss=7.63e+4]"
     ]
    },
    {
     "name": "stdout",
     "output_type": "stream",
     "text": [
      "epoch 2519: avg test  loss 73183.37, bar  test loss 90.265, len  test loss 1.824, col  test loss 58.359\n"
     ]
    },
    {
     "name": "stderr",
     "output_type": "stream",
     "text": [
      "Epoch 2520: 272batch [00:13, 20.15batch/s, loss=7.62e+4]\n"
     ]
    },
    {
     "name": "stdout",
     "output_type": "stream",
     "text": [
      "epoch 2520: avg train loss 72719.19, bar train loss 209.208, len train loss 4.242, col train loss 134.603\n",
      "epoch 2520: avg test  loss 73169.87, bar  test loss 90.131, len  test loss 1.823, col  test loss 58.330\n"
     ]
    },
    {
     "name": "stderr",
     "output_type": "stream",
     "text": [
      "Epoch 2521: 272batch [00:13, 19.82batch/s, loss=6.98e+4]\n"
     ]
    },
    {
     "name": "stdout",
     "output_type": "stream",
     "text": [
      "epoch 2521: avg train loss 72712.51, bar train loss 209.188, len train loss 4.240, col train loss 134.597\n"
     ]
    },
    {
     "name": "stderr",
     "output_type": "stream",
     "text": [
      "Epoch 2522: 3batch [00:00, 20.41batch/s, loss=7.44e+4]"
     ]
    },
    {
     "name": "stdout",
     "output_type": "stream",
     "text": [
      "epoch 2521: avg test  loss 73196.24, bar  test loss 90.135, len  test loss 1.817, col  test loss 58.196\n"
     ]
    },
    {
     "name": "stderr",
     "output_type": "stream",
     "text": [
      "Epoch 2522: 272batch [00:13, 20.60batch/s, loss=7.61e+4]\n"
     ]
    },
    {
     "name": "stdout",
     "output_type": "stream",
     "text": [
      "epoch 2522: avg train loss 72711.42, bar train loss 209.186, len train loss 4.241, col train loss 134.597\n"
     ]
    },
    {
     "name": "stderr",
     "output_type": "stream",
     "text": [
      "Epoch 2523: 3batch [00:00, 21.13batch/s, loss=7.24e+4]"
     ]
    },
    {
     "name": "stdout",
     "output_type": "stream",
     "text": [
      "epoch 2522: avg test  loss 73153.01, bar  test loss 90.016, len  test loss 1.820, col  test loss 58.223\n"
     ]
    },
    {
     "name": "stderr",
     "output_type": "stream",
     "text": [
      "Epoch 2523: 272batch [00:13, 20.64batch/s, loss=7.84e+4]\n"
     ]
    },
    {
     "name": "stdout",
     "output_type": "stream",
     "text": [
      "epoch 2523: avg train loss 72715.32, bar train loss 209.189, len train loss 4.241, col train loss 134.580\n"
     ]
    },
    {
     "name": "stderr",
     "output_type": "stream",
     "text": [
      "Epoch 2524: 3batch [00:00, 21.13batch/s, loss=7.25e+4]"
     ]
    },
    {
     "name": "stdout",
     "output_type": "stream",
     "text": [
      "epoch 2523: avg test  loss 73145.12, bar  test loss 90.165, len  test loss 1.818, col  test loss 58.297\n"
     ]
    },
    {
     "name": "stderr",
     "output_type": "stream",
     "text": [
      "Epoch 2524: 272batch [00:13, 19.99batch/s, loss=6.95e+4]\n"
     ]
    },
    {
     "name": "stdout",
     "output_type": "stream",
     "text": [
      "epoch 2524: avg train loss 72721.34, bar train loss 209.214, len train loss 4.237, col train loss 134.617\n"
     ]
    },
    {
     "name": "stderr",
     "output_type": "stream",
     "text": [
      "Epoch 2525: 3batch [00:00, 21.13batch/s, loss=7.32e+4]"
     ]
    },
    {
     "name": "stdout",
     "output_type": "stream",
     "text": [
      "epoch 2524: avg test  loss 73166.59, bar  test loss 90.219, len  test loss 1.819, col  test loss 58.211\n"
     ]
    },
    {
     "name": "stderr",
     "output_type": "stream",
     "text": [
      "Epoch 2525: 272batch [00:13, 20.02batch/s, loss=7.62e+4]\n"
     ]
    },
    {
     "name": "stdout",
     "output_type": "stream",
     "text": [
      "epoch 2525: avg train loss 72709.31, bar train loss 209.163, len train loss 4.240, col train loss 134.630\n",
      "epoch 2525: avg test  loss 73147.84, bar  test loss 90.138, len  test loss 1.825, col  test loss 58.219\n"
     ]
    },
    {
     "name": "stderr",
     "output_type": "stream",
     "text": [
      "Epoch 2526: 272batch [00:13, 20.24batch/s, loss=7.15e+4]\n"
     ]
    },
    {
     "name": "stdout",
     "output_type": "stream",
     "text": [
      "epoch 2526: avg train loss 72709.59, bar train loss 209.211, len train loss 4.243, col train loss 134.567\n"
     ]
    },
    {
     "name": "stderr",
     "output_type": "stream",
     "text": [
      "Epoch 2527: 3batch [00:00, 20.97batch/s, loss=7.39e+4]"
     ]
    },
    {
     "name": "stdout",
     "output_type": "stream",
     "text": [
      "epoch 2526: avg test  loss 73147.23, bar  test loss 90.250, len  test loss 1.823, col  test loss 58.433\n"
     ]
    },
    {
     "name": "stderr",
     "output_type": "stream",
     "text": [
      "Epoch 2527: 272batch [00:13, 20.04batch/s, loss=7.63e+4]\n"
     ]
    },
    {
     "name": "stdout",
     "output_type": "stream",
     "text": [
      "epoch 2527: avg train loss 72716.88, bar train loss 209.215, len train loss 4.239, col train loss 134.652\n"
     ]
    },
    {
     "name": "stderr",
     "output_type": "stream",
     "text": [
      "Epoch 2528: 3batch [00:00, 20.41batch/s, loss=7.06e+4]"
     ]
    },
    {
     "name": "stdout",
     "output_type": "stream",
     "text": [
      "epoch 2527: avg test  loss 73159.98, bar  test loss 90.061, len  test loss 1.821, col  test loss 58.301\n"
     ]
    },
    {
     "name": "stderr",
     "output_type": "stream",
     "text": [
      "Epoch 2528: 272batch [00:13, 20.41batch/s, loss=6.96e+4]\n"
     ]
    },
    {
     "name": "stdout",
     "output_type": "stream",
     "text": [
      "epoch 2528: avg train loss 72712.65, bar train loss 209.183, len train loss 4.239, col train loss 134.609\n"
     ]
    },
    {
     "name": "stderr",
     "output_type": "stream",
     "text": [
      "Epoch 2529: 2batch [00:00, 19.42batch/s, loss=7.16e+4]"
     ]
    },
    {
     "name": "stdout",
     "output_type": "stream",
     "text": [
      "epoch 2528: avg test  loss 73200.70, bar  test loss 89.979, len  test loss 1.809, col  test loss 58.141\n"
     ]
    },
    {
     "name": "stderr",
     "output_type": "stream",
     "text": [
      "Epoch 2529: 272batch [00:13, 19.94batch/s, loss=7.85e+4]\n"
     ]
    },
    {
     "name": "stdout",
     "output_type": "stream",
     "text": [
      "epoch 2529: avg train loss 72712.52, bar train loss 209.201, len train loss 4.240, col train loss 134.592\n"
     ]
    },
    {
     "name": "stderr",
     "output_type": "stream",
     "text": [
      "Epoch 2530: 3batch [00:00, 21.13batch/s, loss=6.94e+4]"
     ]
    },
    {
     "name": "stdout",
     "output_type": "stream",
     "text": [
      "epoch 2529: avg test  loss 73167.72, bar  test loss 90.041, len  test loss 1.817, col  test loss 58.225\n"
     ]
    },
    {
     "name": "stderr",
     "output_type": "stream",
     "text": [
      "Epoch 2530: 272batch [00:13, 19.85batch/s, loss=8.11e+4]\n"
     ]
    },
    {
     "name": "stdout",
     "output_type": "stream",
     "text": [
      "epoch 2530: avg train loss 72707.81, bar train loss 209.154, len train loss 4.240, col train loss 134.593\n",
      "epoch 2530: avg test  loss 73158.55, bar  test loss 89.903, len  test loss 1.818, col  test loss 58.187\n"
     ]
    },
    {
     "name": "stderr",
     "output_type": "stream",
     "text": [
      "Epoch 2531: 272batch [00:13, 19.55batch/s, loss=6.92e+4]\n"
     ]
    },
    {
     "name": "stdout",
     "output_type": "stream",
     "text": [
      "epoch 2531: avg train loss 72714.38, bar train loss 209.180, len train loss 4.242, col train loss 134.629\n"
     ]
    },
    {
     "name": "stderr",
     "output_type": "stream",
     "text": [
      "Epoch 2532: 3batch [00:00, 20.27batch/s, loss=7.05e+4]"
     ]
    },
    {
     "name": "stdout",
     "output_type": "stream",
     "text": [
      "epoch 2531: avg test  loss 73158.20, bar  test loss 89.990, len  test loss 1.815, col  test loss 58.244\n"
     ]
    },
    {
     "name": "stderr",
     "output_type": "stream",
     "text": [
      "Epoch 2532: 272batch [00:13, 19.91batch/s, loss=7e+4]   \n"
     ]
    },
    {
     "name": "stdout",
     "output_type": "stream",
     "text": [
      "epoch 2532: avg train loss 72714.18, bar train loss 209.196, len train loss 4.237, col train loss 134.587\n"
     ]
    },
    {
     "name": "stderr",
     "output_type": "stream",
     "text": [
      "Epoch 2533: 3batch [00:00, 20.98batch/s, loss=6.92e+4]"
     ]
    },
    {
     "name": "stdout",
     "output_type": "stream",
     "text": [
      "epoch 2532: avg test  loss 73171.73, bar  test loss 90.045, len  test loss 1.817, col  test loss 58.137\n"
     ]
    },
    {
     "name": "stderr",
     "output_type": "stream",
     "text": [
      "Epoch 2533: 272batch [00:13, 20.06batch/s, loss=7.68e+4]\n"
     ]
    },
    {
     "name": "stdout",
     "output_type": "stream",
     "text": [
      "epoch 2533: avg train loss 72705.08, bar train loss 209.192, len train loss 4.241, col train loss 134.596\n"
     ]
    },
    {
     "name": "stderr",
     "output_type": "stream",
     "text": [
      "Epoch 2534: 3batch [00:00, 21.13batch/s, loss=7.45e+4]"
     ]
    },
    {
     "name": "stdout",
     "output_type": "stream",
     "text": [
      "epoch 2533: avg test  loss 73126.77, bar  test loss 90.025, len  test loss 1.813, col  test loss 58.181\n"
     ]
    },
    {
     "name": "stderr",
     "output_type": "stream",
     "text": [
      "Epoch 2534: 272batch [00:13, 20.51batch/s, loss=7.26e+4]\n"
     ]
    },
    {
     "name": "stdout",
     "output_type": "stream",
     "text": [
      "epoch 2534: avg train loss 72704.95, bar train loss 209.155, len train loss 4.238, col train loss 134.560\n"
     ]
    },
    {
     "name": "stderr",
     "output_type": "stream",
     "text": [
      "Epoch 2535: 3batch [00:00, 22.22batch/s, loss=7.09e+4]"
     ]
    },
    {
     "name": "stdout",
     "output_type": "stream",
     "text": [
      "epoch 2534: avg test  loss 73143.81, bar  test loss 90.161, len  test loss 1.823, col  test loss 58.329\n"
     ]
    },
    {
     "name": "stderr",
     "output_type": "stream",
     "text": [
      "Epoch 2535: 272batch [00:13, 19.83batch/s, loss=7.63e+4]\n"
     ]
    },
    {
     "name": "stdout",
     "output_type": "stream",
     "text": [
      "epoch 2535: avg train loss 72711.36, bar train loss 209.203, len train loss 4.240, col train loss 134.613\n",
      "epoch 2535: avg test  loss 73230.99, bar  test loss 90.108, len  test loss 1.819, col  test loss 58.193\n"
     ]
    },
    {
     "name": "stderr",
     "output_type": "stream",
     "text": [
      "Epoch 2536: 272batch [00:13, 19.98batch/s, loss=7.33e+4]\n"
     ]
    },
    {
     "name": "stdout",
     "output_type": "stream",
     "text": [
      "epoch 2536: avg train loss 72712.88, bar train loss 209.209, len train loss 4.243, col train loss 134.630\n"
     ]
    },
    {
     "name": "stderr",
     "output_type": "stream",
     "text": [
      "Epoch 2537: 3batch [00:00, 20.41batch/s, loss=7.33e+4]"
     ]
    },
    {
     "name": "stdout",
     "output_type": "stream",
     "text": [
      "epoch 2536: avg test  loss 73169.06, bar  test loss 90.066, len  test loss 1.822, col  test loss 58.292\n"
     ]
    },
    {
     "name": "stderr",
     "output_type": "stream",
     "text": [
      "Epoch 2537: 272batch [00:13, 20.02batch/s, loss=7.13e+4]\n"
     ]
    },
    {
     "name": "stdout",
     "output_type": "stream",
     "text": [
      "epoch 2537: avg train loss 72708.63, bar train loss 209.156, len train loss 4.242, col train loss 134.590\n"
     ]
    },
    {
     "name": "stderr",
     "output_type": "stream",
     "text": [
      "Epoch 2538: 2batch [00:00, 19.61batch/s, loss=7.27e+4]"
     ]
    },
    {
     "name": "stdout",
     "output_type": "stream",
     "text": [
      "epoch 2537: avg test  loss 73155.52, bar  test loss 90.045, len  test loss 1.824, col  test loss 58.333\n"
     ]
    },
    {
     "name": "stderr",
     "output_type": "stream",
     "text": [
      "Epoch 2538: 272batch [00:13, 20.11batch/s, loss=7.03e+4]\n"
     ]
    },
    {
     "name": "stdout",
     "output_type": "stream",
     "text": [
      "epoch 2538: avg train loss 72699.92, bar train loss 209.154, len train loss 4.239, col train loss 134.584\n"
     ]
    },
    {
     "name": "stderr",
     "output_type": "stream",
     "text": [
      "Epoch 2539: 3batch [00:00, 20.00batch/s, loss=7.23e+4]"
     ]
    },
    {
     "name": "stdout",
     "output_type": "stream",
     "text": [
      "epoch 2538: avg test  loss 73249.59, bar  test loss 90.112, len  test loss 1.822, col  test loss 58.377\n"
     ]
    },
    {
     "name": "stderr",
     "output_type": "stream",
     "text": [
      "Epoch 2539: 272batch [00:13, 19.79batch/s, loss=6.8e+4] \n"
     ]
    },
    {
     "name": "stdout",
     "output_type": "stream",
     "text": [
      "epoch 2539: avg train loss 72725.05, bar train loss 209.184, len train loss 4.240, col train loss 134.605\n"
     ]
    },
    {
     "name": "stderr",
     "output_type": "stream",
     "text": [
      "Epoch 2540: 3batch [00:00, 20.27batch/s, loss=7.19e+4]"
     ]
    },
    {
     "name": "stdout",
     "output_type": "stream",
     "text": [
      "epoch 2539: avg test  loss 73193.06, bar  test loss 90.103, len  test loss 1.820, col  test loss 58.217\n"
     ]
    },
    {
     "name": "stderr",
     "output_type": "stream",
     "text": [
      "Epoch 2540: 272batch [00:14, 18.99batch/s, loss=7.79e+4]\n"
     ]
    },
    {
     "name": "stdout",
     "output_type": "stream",
     "text": [
      "epoch 2540: avg train loss 72705.64, bar train loss 209.170, len train loss 4.236, col train loss 134.572\n",
      "epoch 2540: avg test  loss 73130.22, bar  test loss 90.022, len  test loss 1.818, col  test loss 58.226\n"
     ]
    },
    {
     "name": "stderr",
     "output_type": "stream",
     "text": [
      "Epoch 2541: 272batch [00:13, 20.05batch/s, loss=7.56e+4]\n"
     ]
    },
    {
     "name": "stdout",
     "output_type": "stream",
     "text": [
      "epoch 2541: avg train loss 72714.41, bar train loss 209.187, len train loss 4.241, col train loss 134.576\n"
     ]
    },
    {
     "name": "stderr",
     "output_type": "stream",
     "text": [
      "Epoch 2542: 3batch [00:00, 20.98batch/s, loss=7.08e+4]"
     ]
    },
    {
     "name": "stdout",
     "output_type": "stream",
     "text": [
      "epoch 2541: avg test  loss 73161.47, bar  test loss 90.041, len  test loss 1.820, col  test loss 58.178\n"
     ]
    },
    {
     "name": "stderr",
     "output_type": "stream",
     "text": [
      "Epoch 2542: 272batch [00:13, 19.80batch/s, loss=7.34e+4]\n"
     ]
    },
    {
     "name": "stdout",
     "output_type": "stream",
     "text": [
      "epoch 2542: avg train loss 72718.73, bar train loss 209.206, len train loss 4.244, col train loss 134.601\n"
     ]
    },
    {
     "name": "stderr",
     "output_type": "stream",
     "text": [
      "Epoch 2543: 3batch [00:00, 20.41batch/s, loss=7e+4]"
     ]
    },
    {
     "name": "stdout",
     "output_type": "stream",
     "text": [
      "epoch 2542: avg test  loss 73140.55, bar  test loss 89.975, len  test loss 1.822, col  test loss 58.277\n"
     ]
    },
    {
     "name": "stderr",
     "output_type": "stream",
     "text": [
      "Epoch 2543: 272batch [00:13, 20.06batch/s, loss=8.41e+4]\n"
     ]
    },
    {
     "name": "stdout",
     "output_type": "stream",
     "text": [
      "epoch 2543: avg train loss 72707.39, bar train loss 209.162, len train loss 4.243, col train loss 134.593\n"
     ]
    },
    {
     "name": "stderr",
     "output_type": "stream",
     "text": [
      "Epoch 2544: 3batch [00:00, 20.55batch/s, loss=7.23e+4]"
     ]
    },
    {
     "name": "stdout",
     "output_type": "stream",
     "text": [
      "epoch 2543: avg test  loss 73183.23, bar  test loss 90.120, len  test loss 1.819, col  test loss 58.206\n"
     ]
    },
    {
     "name": "stderr",
     "output_type": "stream",
     "text": [
      "Epoch 2544: 272batch [00:13, 19.99batch/s, loss=6.99e+4]\n"
     ]
    },
    {
     "name": "stdout",
     "output_type": "stream",
     "text": [
      "epoch 2544: avg train loss 72710.73, bar train loss 209.195, len train loss 4.242, col train loss 134.592\n"
     ]
    },
    {
     "name": "stderr",
     "output_type": "stream",
     "text": [
      "Epoch 2545: 3batch [00:00, 21.28batch/s, loss=7.2e+4]"
     ]
    },
    {
     "name": "stdout",
     "output_type": "stream",
     "text": [
      "epoch 2544: avg test  loss 73155.06, bar  test loss 90.189, len  test loss 1.824, col  test loss 58.306\n"
     ]
    },
    {
     "name": "stderr",
     "output_type": "stream",
     "text": [
      "Epoch 2545: 272batch [00:14, 19.27batch/s, loss=7.11e+4]\n"
     ]
    },
    {
     "name": "stdout",
     "output_type": "stream",
     "text": [
      "epoch 2545: avg train loss 72707.38, bar train loss 209.192, len train loss 4.243, col train loss 134.606\n",
      "epoch 2545: avg test  loss 73135.27, bar  test loss 90.052, len  test loss 1.820, col  test loss 58.336\n"
     ]
    },
    {
     "name": "stderr",
     "output_type": "stream",
     "text": [
      "Epoch 2546: 272batch [00:13, 19.77batch/s, loss=7.55e+4]\n"
     ]
    },
    {
     "name": "stdout",
     "output_type": "stream",
     "text": [
      "epoch 2546: avg train loss 72719.60, bar train loss 209.210, len train loss 4.243, col train loss 134.622\n"
     ]
    },
    {
     "name": "stderr",
     "output_type": "stream",
     "text": [
      "Epoch 2547: 2batch [00:00, 18.52batch/s, loss=7.23e+4]"
     ]
    },
    {
     "name": "stdout",
     "output_type": "stream",
     "text": [
      "epoch 2546: avg test  loss 73182.06, bar  test loss 90.130, len  test loss 1.816, col  test loss 58.262\n"
     ]
    },
    {
     "name": "stderr",
     "output_type": "stream",
     "text": [
      "Epoch 2547: 272batch [00:13, 20.58batch/s, loss=6.91e+4]\n"
     ]
    },
    {
     "name": "stdout",
     "output_type": "stream",
     "text": [
      "epoch 2547: avg train loss 72707.69, bar train loss 209.168, len train loss 4.241, col train loss 134.603\n"
     ]
    },
    {
     "name": "stderr",
     "output_type": "stream",
     "text": [
      "Epoch 2548: 3batch [00:00, 19.23batch/s, loss=7.02e+4]"
     ]
    },
    {
     "name": "stdout",
     "output_type": "stream",
     "text": [
      "epoch 2547: avg test  loss 73141.09, bar  test loss 90.038, len  test loss 1.824, col  test loss 58.249\n"
     ]
    },
    {
     "name": "stderr",
     "output_type": "stream",
     "text": [
      "Epoch 2548: 272batch [00:13, 20.63batch/s, loss=7.35e+4]\n"
     ]
    },
    {
     "name": "stdout",
     "output_type": "stream",
     "text": [
      "epoch 2548: avg train loss 72715.16, bar train loss 209.188, len train loss 4.241, col train loss 134.610\n"
     ]
    },
    {
     "name": "stderr",
     "output_type": "stream",
     "text": [
      "Epoch 2549: 3batch [00:00, 22.22batch/s, loss=73651.0]"
     ]
    },
    {
     "name": "stdout",
     "output_type": "stream",
     "text": [
      "epoch 2548: avg test  loss 73142.23, bar  test loss 90.051, len  test loss 1.821, col  test loss 58.222\n"
     ]
    },
    {
     "name": "stderr",
     "output_type": "stream",
     "text": [
      "Epoch 2549: 272batch [00:13, 20.34batch/s, loss=6.81e+4]\n"
     ]
    },
    {
     "name": "stdout",
     "output_type": "stream",
     "text": [
      "epoch 2549: avg train loss 72702.24, bar train loss 209.197, len train loss 4.241, col train loss 134.596\n"
     ]
    },
    {
     "name": "stderr",
     "output_type": "stream",
     "text": [
      "Epoch 2550: 3batch [00:00, 21.58batch/s, loss=7.2e+4]"
     ]
    },
    {
     "name": "stdout",
     "output_type": "stream",
     "text": [
      "epoch 2549: avg test  loss 73192.55, bar  test loss 90.041, len  test loss 1.820, col  test loss 58.237\n"
     ]
    },
    {
     "name": "stderr",
     "output_type": "stream",
     "text": [
      "Epoch 2550: 272batch [00:13, 20.60batch/s, loss=7.35e+4]\n"
     ]
    },
    {
     "name": "stdout",
     "output_type": "stream",
     "text": [
      "epoch 2550: avg train loss 72715.39, bar train loss 209.180, len train loss 4.239, col train loss 134.587\n",
      "epoch 2550: avg test  loss 73124.80, bar  test loss 90.098, len  test loss 1.820, col  test loss 58.132\n"
     ]
    },
    {
     "name": "stderr",
     "output_type": "stream",
     "text": [
      "Epoch 2551: 272batch [00:13, 20.63batch/s, loss=7.44e+4]\n"
     ]
    },
    {
     "name": "stdout",
     "output_type": "stream",
     "text": [
      "epoch 2551: avg train loss 72700.16, bar train loss 209.179, len train loss 4.239, col train loss 134.563\n"
     ]
    },
    {
     "name": "stderr",
     "output_type": "stream",
     "text": [
      "Epoch 2552: 3batch [00:00, 20.55batch/s, loss=7.1e+4]"
     ]
    },
    {
     "name": "stdout",
     "output_type": "stream",
     "text": [
      "epoch 2551: avg test  loss 73191.53, bar  test loss 89.936, len  test loss 1.814, col  test loss 58.129\n"
     ]
    },
    {
     "name": "stderr",
     "output_type": "stream",
     "text": [
      "Epoch 2552: 272batch [00:13, 20.73batch/s, loss=7.56e+4]\n"
     ]
    },
    {
     "name": "stdout",
     "output_type": "stream",
     "text": [
      "epoch 2552: avg train loss 72711.18, bar train loss 209.156, len train loss 4.238, col train loss 134.627\n"
     ]
    },
    {
     "name": "stderr",
     "output_type": "stream",
     "text": [
      "Epoch 2553: 3batch [00:00, 20.98batch/s, loss=7.2e+4]"
     ]
    },
    {
     "name": "stdout",
     "output_type": "stream",
     "text": [
      "epoch 2552: avg test  loss 73138.54, bar  test loss 89.953, len  test loss 1.814, col  test loss 58.021\n"
     ]
    },
    {
     "name": "stderr",
     "output_type": "stream",
     "text": [
      "Epoch 2553: 272batch [00:13, 20.49batch/s, loss=7.46e+4]\n"
     ]
    },
    {
     "name": "stdout",
     "output_type": "stream",
     "text": [
      "epoch 2553: avg train loss 72705.36, bar train loss 209.187, len train loss 4.236, col train loss 134.543\n"
     ]
    },
    {
     "name": "stderr",
     "output_type": "stream",
     "text": [
      "Epoch 2554: 3batch [00:00, 20.98batch/s, loss=7.56e+4]"
     ]
    },
    {
     "name": "stdout",
     "output_type": "stream",
     "text": [
      "epoch 2553: avg test  loss 73160.98, bar  test loss 90.169, len  test loss 1.820, col  test loss 58.240\n"
     ]
    },
    {
     "name": "stderr",
     "output_type": "stream",
     "text": [
      "Epoch 2554: 272batch [00:13, 20.33batch/s, loss=7.64e+4]\n"
     ]
    },
    {
     "name": "stdout",
     "output_type": "stream",
     "text": [
      "epoch 2554: avg train loss 72711.43, bar train loss 209.195, len train loss 4.241, col train loss 134.607\n"
     ]
    },
    {
     "name": "stderr",
     "output_type": "stream",
     "text": [
      "Epoch 2555: 3batch [00:00, 21.13batch/s, loss=6.78e+4]"
     ]
    },
    {
     "name": "stdout",
     "output_type": "stream",
     "text": [
      "epoch 2554: avg test  loss 73146.04, bar  test loss 90.184, len  test loss 1.819, col  test loss 58.319\n"
     ]
    },
    {
     "name": "stderr",
     "output_type": "stream",
     "text": [
      "Epoch 2555: 272batch [00:13, 20.54batch/s, loss=7.12e+4]\n"
     ]
    },
    {
     "name": "stdout",
     "output_type": "stream",
     "text": [
      "epoch 2555: avg train loss 72704.23, bar train loss 209.217, len train loss 4.239, col train loss 134.622\n",
      "epoch 2555: avg test  loss 73145.05, bar  test loss 90.160, len  test loss 1.822, col  test loss 58.358\n"
     ]
    },
    {
     "name": "stderr",
     "output_type": "stream",
     "text": [
      "Epoch 2556: 272batch [00:13, 20.47batch/s, loss=7.29e+4]\n"
     ]
    },
    {
     "name": "stdout",
     "output_type": "stream",
     "text": [
      "epoch 2556: avg train loss 72703.56, bar train loss 209.186, len train loss 4.237, col train loss 134.584\n"
     ]
    },
    {
     "name": "stderr",
     "output_type": "stream",
     "text": [
      "Epoch 2557: 3batch [00:00, 21.43batch/s, loss=7.22e+4]"
     ]
    },
    {
     "name": "stdout",
     "output_type": "stream",
     "text": [
      "epoch 2556: avg test  loss 73136.96, bar  test loss 89.979, len  test loss 1.818, col  test loss 58.085\n"
     ]
    },
    {
     "name": "stderr",
     "output_type": "stream",
     "text": [
      "Epoch 2557: 272batch [00:13, 20.58batch/s, loss=7.01e+4]\n"
     ]
    },
    {
     "name": "stdout",
     "output_type": "stream",
     "text": [
      "epoch 2557: avg train loss 72700.94, bar train loss 209.173, len train loss 4.237, col train loss 134.581\n"
     ]
    },
    {
     "name": "stderr",
     "output_type": "stream",
     "text": [
      "Epoch 2558: 3batch [00:00, 21.13batch/s, loss=7.34e+4]"
     ]
    },
    {
     "name": "stdout",
     "output_type": "stream",
     "text": [
      "epoch 2557: avg test  loss 73178.43, bar  test loss 90.160, len  test loss 1.816, col  test loss 58.248\n"
     ]
    },
    {
     "name": "stderr",
     "output_type": "stream",
     "text": [
      "Epoch 2558: 272batch [00:13, 20.10batch/s, loss=6.93e+4]\n"
     ]
    },
    {
     "name": "stdout",
     "output_type": "stream",
     "text": [
      "epoch 2558: avg train loss 72706.86, bar train loss 209.176, len train loss 4.238, col train loss 134.583\n"
     ]
    },
    {
     "name": "stderr",
     "output_type": "stream",
     "text": [
      "Epoch 2559: 3batch [00:00, 20.69batch/s, loss=7.53e+4]"
     ]
    },
    {
     "name": "stdout",
     "output_type": "stream",
     "text": [
      "epoch 2558: avg test  loss 73186.98, bar  test loss 90.130, len  test loss 1.821, col  test loss 58.446\n"
     ]
    },
    {
     "name": "stderr",
     "output_type": "stream",
     "text": [
      "Epoch 2559: 272batch [00:13, 20.37batch/s, loss=6.94e+4]\n"
     ]
    },
    {
     "name": "stdout",
     "output_type": "stream",
     "text": [
      "epoch 2559: avg train loss 72712.30, bar train loss 209.166, len train loss 4.241, col train loss 134.595\n"
     ]
    },
    {
     "name": "stderr",
     "output_type": "stream",
     "text": [
      "Epoch 2560: 3batch [00:00, 21.43batch/s, loss=7.26e+4]"
     ]
    },
    {
     "name": "stdout",
     "output_type": "stream",
     "text": [
      "epoch 2559: avg test  loss 73130.77, bar  test loss 90.109, len  test loss 1.822, col  test loss 58.230\n"
     ]
    },
    {
     "name": "stderr",
     "output_type": "stream",
     "text": [
      "Epoch 2560: 272batch [00:13, 20.11batch/s, loss=7.04e+4]\n"
     ]
    },
    {
     "name": "stdout",
     "output_type": "stream",
     "text": [
      "epoch 2560: avg train loss 72704.26, bar train loss 209.164, len train loss 4.242, col train loss 134.578\n",
      "epoch 2560: avg test  loss 73161.99, bar  test loss 90.182, len  test loss 1.818, col  test loss 58.264\n"
     ]
    },
    {
     "name": "stderr",
     "output_type": "stream",
     "text": [
      "Epoch 2561: 272batch [00:13, 20.30batch/s, loss=7e+4]   \n"
     ]
    },
    {
     "name": "stdout",
     "output_type": "stream",
     "text": [
      "epoch 2561: avg train loss 72712.19, bar train loss 209.189, len train loss 4.244, col train loss 134.620\n"
     ]
    },
    {
     "name": "stderr",
     "output_type": "stream",
     "text": [
      "Epoch 2562: 3batch [00:00, 20.83batch/s, loss=7.08e+4]"
     ]
    },
    {
     "name": "stdout",
     "output_type": "stream",
     "text": [
      "epoch 2561: avg test  loss 73138.08, bar  test loss 90.075, len  test loss 1.814, col  test loss 58.209\n"
     ]
    },
    {
     "name": "stderr",
     "output_type": "stream",
     "text": [
      "Epoch 2562: 272batch [00:13, 20.57batch/s, loss=7.25e+4]\n"
     ]
    },
    {
     "name": "stdout",
     "output_type": "stream",
     "text": [
      "epoch 2562: avg train loss 72706.09, bar train loss 209.190, len train loss 4.241, col train loss 134.598\n"
     ]
    },
    {
     "name": "stderr",
     "output_type": "stream",
     "text": [
      "Epoch 2563: 3batch [00:00, 21.28batch/s, loss=7.46e+4]"
     ]
    },
    {
     "name": "stdout",
     "output_type": "stream",
     "text": [
      "epoch 2562: avg test  loss 73169.81, bar  test loss 90.063, len  test loss 1.813, col  test loss 58.065\n"
     ]
    },
    {
     "name": "stderr",
     "output_type": "stream",
     "text": [
      "Epoch 2563: 272batch [00:13, 20.33batch/s, loss=6.78e+4]\n"
     ]
    },
    {
     "name": "stdout",
     "output_type": "stream",
     "text": [
      "epoch 2563: avg train loss 72696.03, bar train loss 209.159, len train loss 4.240, col train loss 134.574\n"
     ]
    },
    {
     "name": "stderr",
     "output_type": "stream",
     "text": [
      "Epoch 2564: 3batch [00:00, 20.27batch/s, loss=7.49e+4]"
     ]
    },
    {
     "name": "stdout",
     "output_type": "stream",
     "text": [
      "epoch 2563: avg test  loss 73120.87, bar  test loss 90.040, len  test loss 1.827, col  test loss 58.204\n"
     ]
    },
    {
     "name": "stderr",
     "output_type": "stream",
     "text": [
      "Epoch 2564: 272batch [00:13, 20.51batch/s, loss=7.76e+4]\n"
     ]
    },
    {
     "name": "stdout",
     "output_type": "stream",
     "text": [
      "epoch 2564: avg train loss 72705.11, bar train loss 209.182, len train loss 4.240, col train loss 134.578\n"
     ]
    },
    {
     "name": "stderr",
     "output_type": "stream",
     "text": [
      "Epoch 2565: 3batch [00:00, 20.83batch/s, loss=7.45e+4]"
     ]
    },
    {
     "name": "stdout",
     "output_type": "stream",
     "text": [
      "epoch 2564: avg test  loss 73143.57, bar  test loss 90.208, len  test loss 1.822, col  test loss 58.183\n"
     ]
    },
    {
     "name": "stderr",
     "output_type": "stream",
     "text": [
      "Epoch 2565: 272batch [00:13, 20.52batch/s, loss=6.62e+4]\n"
     ]
    },
    {
     "name": "stdout",
     "output_type": "stream",
     "text": [
      "epoch 2565: avg train loss 72704.49, bar train loss 209.168, len train loss 4.242, col train loss 134.582\n",
      "epoch 2565: avg test  loss 73197.60, bar  test loss 90.098, len  test loss 1.813, col  test loss 58.185\n"
     ]
    },
    {
     "name": "stderr",
     "output_type": "stream",
     "text": [
      "Epoch 2566: 272batch [00:13, 20.23batch/s, loss=6.88e+4]\n"
     ]
    },
    {
     "name": "stdout",
     "output_type": "stream",
     "text": [
      "epoch 2566: avg train loss 72697.45, bar train loss 209.160, len train loss 4.238, col train loss 134.523\n"
     ]
    },
    {
     "name": "stderr",
     "output_type": "stream",
     "text": [
      "Epoch 2567: 3batch [00:00, 20.27batch/s, loss=7.6e+4]"
     ]
    },
    {
     "name": "stdout",
     "output_type": "stream",
     "text": [
      "epoch 2566: avg test  loss 73146.52, bar  test loss 90.093, len  test loss 1.813, col  test loss 58.250\n"
     ]
    },
    {
     "name": "stderr",
     "output_type": "stream",
     "text": [
      "Epoch 2567: 272batch [00:13, 20.48batch/s, loss=7.81e+4]\n"
     ]
    },
    {
     "name": "stdout",
     "output_type": "stream",
     "text": [
      "epoch 2567: avg train loss 72704.05, bar train loss 209.184, len train loss 4.239, col train loss 134.556\n"
     ]
    },
    {
     "name": "stderr",
     "output_type": "stream",
     "text": [
      "Epoch 2568: 3batch [00:00, 20.83batch/s, loss=7.21e+4]"
     ]
    },
    {
     "name": "stdout",
     "output_type": "stream",
     "text": [
      "epoch 2567: avg test  loss 73130.81, bar  test loss 90.022, len  test loss 1.819, col  test loss 58.130\n"
     ]
    },
    {
     "name": "stderr",
     "output_type": "stream",
     "text": [
      "Epoch 2568: 272batch [00:13, 20.41batch/s, loss=6.91e+4]\n"
     ]
    },
    {
     "name": "stdout",
     "output_type": "stream",
     "text": [
      "epoch 2568: avg train loss 72705.35, bar train loss 209.138, len train loss 4.242, col train loss 134.555\n"
     ]
    },
    {
     "name": "stderr",
     "output_type": "stream",
     "text": [
      "Epoch 2569: 3batch [00:00, 20.41batch/s, loss=7.46e+4]"
     ]
    },
    {
     "name": "stdout",
     "output_type": "stream",
     "text": [
      "epoch 2568: avg test  loss 73130.26, bar  test loss 90.059, len  test loss 1.817, col  test loss 58.114\n"
     ]
    },
    {
     "name": "stderr",
     "output_type": "stream",
     "text": [
      "Epoch 2569: 272batch [00:13, 20.48batch/s, loss=6.94e+4]\n"
     ]
    },
    {
     "name": "stdout",
     "output_type": "stream",
     "text": [
      "epoch 2569: avg train loss 72707.86, bar train loss 209.180, len train loss 4.240, col train loss 134.568\n"
     ]
    },
    {
     "name": "stderr",
     "output_type": "stream",
     "text": [
      "Epoch 2570: 3batch [00:00, 22.39batch/s, loss=7.61e+4]"
     ]
    },
    {
     "name": "stdout",
     "output_type": "stream",
     "text": [
      "epoch 2569: avg test  loss 73171.78, bar  test loss 89.925, len  test loss 1.820, col  test loss 58.174\n"
     ]
    },
    {
     "name": "stderr",
     "output_type": "stream",
     "text": [
      "Epoch 2570: 272batch [00:13, 20.44batch/s, loss=7.56e+4]\n"
     ]
    },
    {
     "name": "stdout",
     "output_type": "stream",
     "text": [
      "epoch 2570: avg train loss 72704.20, bar train loss 209.171, len train loss 4.242, col train loss 134.621\n",
      "epoch 2570: avg test  loss 73179.64, bar  test loss 90.020, len  test loss 1.824, col  test loss 58.133\n"
     ]
    },
    {
     "name": "stderr",
     "output_type": "stream",
     "text": [
      "Epoch 2571: 272batch [00:13, 20.32batch/s, loss=7.48e+4]\n"
     ]
    },
    {
     "name": "stdout",
     "output_type": "stream",
     "text": [
      "epoch 2571: avg train loss 72703.38, bar train loss 209.188, len train loss 4.240, col train loss 134.576\n"
     ]
    },
    {
     "name": "stderr",
     "output_type": "stream",
     "text": [
      "Epoch 2572: 3batch [00:00, 20.69batch/s, loss=7.12e+4]"
     ]
    },
    {
     "name": "stdout",
     "output_type": "stream",
     "text": [
      "epoch 2571: avg test  loss 73154.27, bar  test loss 89.968, len  test loss 1.822, col  test loss 58.177\n"
     ]
    },
    {
     "name": "stderr",
     "output_type": "stream",
     "text": [
      "Epoch 2572: 272batch [00:13, 20.22batch/s, loss=6.75e+4]\n"
     ]
    },
    {
     "name": "stdout",
     "output_type": "stream",
     "text": [
      "epoch 2572: avg train loss 72705.77, bar train loss 209.172, len train loss 4.241, col train loss 134.592\n"
     ]
    },
    {
     "name": "stderr",
     "output_type": "stream",
     "text": [
      "Epoch 2573: 3batch [00:00, 20.55batch/s, loss=6.89e+4]"
     ]
    },
    {
     "name": "stdout",
     "output_type": "stream",
     "text": [
      "epoch 2572: avg test  loss 73143.43, bar  test loss 90.104, len  test loss 1.817, col  test loss 58.248\n"
     ]
    },
    {
     "name": "stderr",
     "output_type": "stream",
     "text": [
      "Epoch 2573: 272batch [00:13, 20.28batch/s, loss=8.53e+4]\n"
     ]
    },
    {
     "name": "stdout",
     "output_type": "stream",
     "text": [
      "epoch 2573: avg train loss 72697.12, bar train loss 209.131, len train loss 4.242, col train loss 134.570\n"
     ]
    },
    {
     "name": "stderr",
     "output_type": "stream",
     "text": [
      "Epoch 2574: 3batch [00:00, 20.98batch/s, loss=7.45e+4]"
     ]
    },
    {
     "name": "stdout",
     "output_type": "stream",
     "text": [
      "epoch 2573: avg test  loss 73173.16, bar  test loss 90.114, len  test loss 1.814, col  test loss 58.293\n"
     ]
    },
    {
     "name": "stderr",
     "output_type": "stream",
     "text": [
      "Epoch 2574: 272batch [00:13, 20.28batch/s, loss=7.01e+4]\n"
     ]
    },
    {
     "name": "stdout",
     "output_type": "stream",
     "text": [
      "epoch 2574: avg train loss 72708.21, bar train loss 209.179, len train loss 4.239, col train loss 134.566\n"
     ]
    },
    {
     "name": "stderr",
     "output_type": "stream",
     "text": [
      "Epoch 2575: 3batch [00:00, 20.69batch/s, loss=7.14e+4]"
     ]
    },
    {
     "name": "stdout",
     "output_type": "stream",
     "text": [
      "epoch 2574: avg test  loss 73150.27, bar  test loss 89.900, len  test loss 1.817, col  test loss 58.070\n"
     ]
    },
    {
     "name": "stderr",
     "output_type": "stream",
     "text": [
      "Epoch 2575: 272batch [00:13, 20.09batch/s, loss=6.99e+4]\n"
     ]
    },
    {
     "name": "stdout",
     "output_type": "stream",
     "text": [
      "epoch 2575: avg train loss 72693.75, bar train loss 209.114, len train loss 4.240, col train loss 134.541\n",
      "epoch 2575: avg test  loss 73108.31, bar  test loss 90.072, len  test loss 1.821, col  test loss 58.287\n"
     ]
    },
    {
     "name": "stderr",
     "output_type": "stream",
     "text": [
      "Epoch 2576: 272batch [00:14, 19.04batch/s, loss=7.35e+4]\n"
     ]
    },
    {
     "name": "stdout",
     "output_type": "stream",
     "text": [
      "epoch 2576: avg train loss 72700.14, bar train loss 209.151, len train loss 4.241, col train loss 134.576\n"
     ]
    },
    {
     "name": "stderr",
     "output_type": "stream",
     "text": [
      "Epoch 2577: 3batch [00:00, 20.55batch/s, loss=7.14e+4]"
     ]
    },
    {
     "name": "stdout",
     "output_type": "stream",
     "text": [
      "epoch 2576: avg test  loss 73193.97, bar  test loss 90.023, len  test loss 1.822, col  test loss 58.137\n"
     ]
    },
    {
     "name": "stderr",
     "output_type": "stream",
     "text": [
      "Epoch 2577: 272batch [00:13, 19.76batch/s, loss=7.12e+4]\n"
     ]
    },
    {
     "name": "stdout",
     "output_type": "stream",
     "text": [
      "epoch 2577: avg train loss 72699.22, bar train loss 209.177, len train loss 4.244, col train loss 134.549\n"
     ]
    },
    {
     "name": "stderr",
     "output_type": "stream",
     "text": [
      "Epoch 2578: 3batch [00:00, 21.13batch/s, loss=7.19e+4]"
     ]
    },
    {
     "name": "stdout",
     "output_type": "stream",
     "text": [
      "epoch 2577: avg test  loss 73148.61, bar  test loss 90.093, len  test loss 1.826, col  test loss 58.345\n"
     ]
    },
    {
     "name": "stderr",
     "output_type": "stream",
     "text": [
      "Epoch 2578: 272batch [00:13, 19.50batch/s, loss=7.26e+4]\n"
     ]
    },
    {
     "name": "stdout",
     "output_type": "stream",
     "text": [
      "epoch 2578: avg train loss 72710.84, bar train loss 209.174, len train loss 4.243, col train loss 134.580\n"
     ]
    },
    {
     "name": "stderr",
     "output_type": "stream",
     "text": [
      "Epoch 2579: 3batch [00:00, 21.13batch/s, loss=7.35e+4]"
     ]
    },
    {
     "name": "stdout",
     "output_type": "stream",
     "text": [
      "epoch 2578: avg test  loss 73191.28, bar  test loss 90.274, len  test loss 1.824, col  test loss 58.314\n"
     ]
    },
    {
     "name": "stderr",
     "output_type": "stream",
     "text": [
      "Epoch 2579: 272batch [00:13, 19.75batch/s, loss=7.53e+4]\n"
     ]
    },
    {
     "name": "stdout",
     "output_type": "stream",
     "text": [
      "epoch 2579: avg train loss 72699.44, bar train loss 209.168, len train loss 4.242, col train loss 134.591\n"
     ]
    },
    {
     "name": "stderr",
     "output_type": "stream",
     "text": [
      "Epoch 2580: 3batch [00:00, 20.98batch/s, loss=6.7e+4]"
     ]
    },
    {
     "name": "stdout",
     "output_type": "stream",
     "text": [
      "epoch 2579: avg test  loss 73161.45, bar  test loss 90.076, len  test loss 1.823, col  test loss 58.226\n"
     ]
    },
    {
     "name": "stderr",
     "output_type": "stream",
     "text": [
      "Epoch 2580: 272batch [00:13, 19.90batch/s, loss=7.16e+4]\n"
     ]
    },
    {
     "name": "stdout",
     "output_type": "stream",
     "text": [
      "epoch 2580: avg train loss 72691.30, bar train loss 209.139, len train loss 4.243, col train loss 134.527\n",
      "epoch 2580: avg test  loss 73123.45, bar  test loss 90.109, len  test loss 1.819, col  test loss 58.215\n"
     ]
    },
    {
     "name": "stderr",
     "output_type": "stream",
     "text": [
      "Epoch 2581: 272batch [00:13, 19.79batch/s, loss=6.79e+4]\n"
     ]
    },
    {
     "name": "stdout",
     "output_type": "stream",
     "text": [
      "epoch 2581: avg train loss 72703.48, bar train loss 209.184, len train loss 4.243, col train loss 134.559\n"
     ]
    },
    {
     "name": "stderr",
     "output_type": "stream",
     "text": [
      "Epoch 2582: 3batch [00:00, 20.83batch/s, loss=7.56e+4]"
     ]
    },
    {
     "name": "stdout",
     "output_type": "stream",
     "text": [
      "epoch 2581: avg test  loss 73175.93, bar  test loss 90.219, len  test loss 1.824, col  test loss 58.270\n"
     ]
    },
    {
     "name": "stderr",
     "output_type": "stream",
     "text": [
      "Epoch 2582: 272batch [00:13, 20.01batch/s, loss=7.17e+4]\n"
     ]
    },
    {
     "name": "stdout",
     "output_type": "stream",
     "text": [
      "epoch 2582: avg train loss 72707.04, bar train loss 209.158, len train loss 4.239, col train loss 134.582\n"
     ]
    },
    {
     "name": "stderr",
     "output_type": "stream",
     "text": [
      "Epoch 2583: 3batch [00:00, 18.99batch/s, loss=7.35e+4]"
     ]
    },
    {
     "name": "stdout",
     "output_type": "stream",
     "text": [
      "epoch 2582: avg test  loss 73137.38, bar  test loss 90.070, len  test loss 1.820, col  test loss 58.241\n"
     ]
    },
    {
     "name": "stderr",
     "output_type": "stream",
     "text": [
      "Epoch 2583: 272batch [00:13, 19.52batch/s, loss=7.52e+4]\n"
     ]
    },
    {
     "name": "stdout",
     "output_type": "stream",
     "text": [
      "epoch 2583: avg train loss 72702.16, bar train loss 209.164, len train loss 4.241, col train loss 134.555\n"
     ]
    },
    {
     "name": "stderr",
     "output_type": "stream",
     "text": [
      "Epoch 2584: 3batch [00:00, 20.84batch/s, loss=7.41e+4]"
     ]
    },
    {
     "name": "stdout",
     "output_type": "stream",
     "text": [
      "epoch 2583: avg test  loss 73120.70, bar  test loss 90.024, len  test loss 1.819, col  test loss 58.163\n"
     ]
    },
    {
     "name": "stderr",
     "output_type": "stream",
     "text": [
      "Epoch 2584: 272batch [00:13, 19.61batch/s, loss=7.36e+4]\n"
     ]
    },
    {
     "name": "stdout",
     "output_type": "stream",
     "text": [
      "epoch 2584: avg train loss 72701.02, bar train loss 209.148, len train loss 4.237, col train loss 134.534\n"
     ]
    },
    {
     "name": "stderr",
     "output_type": "stream",
     "text": [
      "Epoch 2585: 2batch [00:00, 19.61batch/s, loss=7.27e+4]"
     ]
    },
    {
     "name": "stdout",
     "output_type": "stream",
     "text": [
      "epoch 2584: avg test  loss 73172.41, bar  test loss 90.020, len  test loss 1.813, col  test loss 58.186\n"
     ]
    },
    {
     "name": "stderr",
     "output_type": "stream",
     "text": [
      "Epoch 2585: 272batch [00:13, 19.55batch/s, loss=7.67e+4]\n"
     ]
    },
    {
     "name": "stdout",
     "output_type": "stream",
     "text": [
      "epoch 2585: avg train loss 72700.52, bar train loss 209.158, len train loss 4.237, col train loss 134.542\n",
      "epoch 2585: avg test  loss 73129.02, bar  test loss 90.113, len  test loss 1.816, col  test loss 58.214\n"
     ]
    },
    {
     "name": "stderr",
     "output_type": "stream",
     "text": [
      "Epoch 2586: 272batch [00:14, 19.40batch/s, loss=7.04e+4]\n"
     ]
    },
    {
     "name": "stdout",
     "output_type": "stream",
     "text": [
      "epoch 2586: avg train loss 72697.29, bar train loss 209.146, len train loss 4.239, col train loss 134.547\n"
     ]
    },
    {
     "name": "stderr",
     "output_type": "stream",
     "text": [
      "Epoch 2587: 3batch [00:00, 20.69batch/s, loss=7.12e+4]"
     ]
    },
    {
     "name": "stdout",
     "output_type": "stream",
     "text": [
      "epoch 2586: avg test  loss 73135.73, bar  test loss 90.220, len  test loss 1.823, col  test loss 58.349\n"
     ]
    },
    {
     "name": "stderr",
     "output_type": "stream",
     "text": [
      "Epoch 2587: 272batch [00:13, 19.59batch/s, loss=6.6e+4] \n"
     ]
    },
    {
     "name": "stdout",
     "output_type": "stream",
     "text": [
      "epoch 2587: avg train loss 72706.70, bar train loss 209.153, len train loss 4.239, col train loss 134.576\n"
     ]
    },
    {
     "name": "stderr",
     "output_type": "stream",
     "text": [
      "Epoch 2588: 3batch [00:00, 20.69batch/s, loss=7.46e+4]"
     ]
    },
    {
     "name": "stdout",
     "output_type": "stream",
     "text": [
      "epoch 2587: avg test  loss 73112.73, bar  test loss 90.136, len  test loss 1.819, col  test loss 58.222\n"
     ]
    },
    {
     "name": "stderr",
     "output_type": "stream",
     "text": [
      "Epoch 2588: 272batch [00:13, 19.54batch/s, loss=7.83e+4]\n"
     ]
    },
    {
     "name": "stdout",
     "output_type": "stream",
     "text": [
      "epoch 2588: avg train loss 72699.04, bar train loss 209.164, len train loss 4.236, col train loss 134.538\n"
     ]
    },
    {
     "name": "stderr",
     "output_type": "stream",
     "text": [
      "Epoch 2589: 3batch [00:00, 20.13batch/s, loss=7.38e+4]"
     ]
    },
    {
     "name": "stdout",
     "output_type": "stream",
     "text": [
      "epoch 2588: avg test  loss 73182.88, bar  test loss 90.119, len  test loss 1.828, col  test loss 58.357\n"
     ]
    },
    {
     "name": "stderr",
     "output_type": "stream",
     "text": [
      "Epoch 2589: 272batch [00:14, 19.42batch/s, loss=7.35e+4]\n"
     ]
    },
    {
     "name": "stdout",
     "output_type": "stream",
     "text": [
      "epoch 2589: avg train loss 72710.95, bar train loss 209.158, len train loss 4.242, col train loss 134.567\n"
     ]
    },
    {
     "name": "stderr",
     "output_type": "stream",
     "text": [
      "Epoch 2590: 3batch [00:00, 20.14batch/s, loss=7.51e+4]"
     ]
    },
    {
     "name": "stdout",
     "output_type": "stream",
     "text": [
      "epoch 2589: avg test  loss 73105.06, bar  test loss 89.934, len  test loss 1.821, col  test loss 58.119\n"
     ]
    },
    {
     "name": "stderr",
     "output_type": "stream",
     "text": [
      "Epoch 2590: 272batch [00:14, 19.40batch/s, loss=7.55e+4]\n"
     ]
    },
    {
     "name": "stdout",
     "output_type": "stream",
     "text": [
      "epoch 2590: avg train loss 72684.85, bar train loss 209.110, len train loss 4.240, col train loss 134.520\n",
      "epoch 2590: avg test  loss 73133.32, bar  test loss 90.026, len  test loss 1.819, col  test loss 58.107\n"
     ]
    },
    {
     "name": "stderr",
     "output_type": "stream",
     "text": [
      "Epoch 2591: 272batch [00:14, 19.16batch/s, loss=7.37e+4]\n"
     ]
    },
    {
     "name": "stdout",
     "output_type": "stream",
     "text": [
      "epoch 2591: avg train loss 72695.49, bar train loss 209.137, len train loss 4.238, col train loss 134.512\n"
     ]
    },
    {
     "name": "stderr",
     "output_type": "stream",
     "text": [
      "Epoch 2592: 3batch [00:00, 20.13batch/s, loss=7.18e+4]"
     ]
    },
    {
     "name": "stdout",
     "output_type": "stream",
     "text": [
      "epoch 2591: avg test  loss 73104.27, bar  test loss 90.057, len  test loss 1.822, col  test loss 58.233\n"
     ]
    },
    {
     "name": "stderr",
     "output_type": "stream",
     "text": [
      "Epoch 2592: 272batch [00:13, 19.47batch/s, loss=7.76e+4]\n"
     ]
    },
    {
     "name": "stdout",
     "output_type": "stream",
     "text": [
      "epoch 2592: avg train loss 72707.29, bar train loss 209.170, len train loss 4.241, col train loss 134.592\n"
     ]
    },
    {
     "name": "stderr",
     "output_type": "stream",
     "text": [
      "Epoch 2593: 3batch [00:00, 20.69batch/s, loss=7.34e+4]"
     ]
    },
    {
     "name": "stdout",
     "output_type": "stream",
     "text": [
      "epoch 2592: avg test  loss 73138.74, bar  test loss 90.104, len  test loss 1.823, col  test loss 58.291\n"
     ]
    },
    {
     "name": "stderr",
     "output_type": "stream",
     "text": [
      "Epoch 2593: 272batch [00:14, 19.42batch/s, loss=6.97e+4]\n"
     ]
    },
    {
     "name": "stdout",
     "output_type": "stream",
     "text": [
      "epoch 2593: avg train loss 72702.63, bar train loss 209.121, len train loss 4.240, col train loss 134.558\n"
     ]
    },
    {
     "name": "stderr",
     "output_type": "stream",
     "text": [
      "Epoch 2594: 3batch [00:00, 20.55batch/s, loss=7.16e+4]"
     ]
    },
    {
     "name": "stdout",
     "output_type": "stream",
     "text": [
      "epoch 2593: avg test  loss 73152.77, bar  test loss 90.133, len  test loss 1.823, col  test loss 58.157\n"
     ]
    },
    {
     "name": "stderr",
     "output_type": "stream",
     "text": [
      "Epoch 2594: 272batch [00:14, 19.40batch/s, loss=6.94e+4]\n"
     ]
    },
    {
     "name": "stdout",
     "output_type": "stream",
     "text": [
      "epoch 2594: avg train loss 72704.31, bar train loss 209.169, len train loss 4.239, col train loss 134.549\n"
     ]
    },
    {
     "name": "stderr",
     "output_type": "stream",
     "text": [
      "Epoch 2595: 3batch [00:00, 21.58batch/s, loss=7.19e+4]"
     ]
    },
    {
     "name": "stdout",
     "output_type": "stream",
     "text": [
      "epoch 2594: avg test  loss 73118.01, bar  test loss 90.134, len  test loss 1.819, col  test loss 58.149\n"
     ]
    },
    {
     "name": "stderr",
     "output_type": "stream",
     "text": [
      "Epoch 2595: 272batch [00:14, 19.41batch/s, loss=6.83e+4]\n"
     ]
    },
    {
     "name": "stdout",
     "output_type": "stream",
     "text": [
      "epoch 2595: avg train loss 72695.74, bar train loss 209.140, len train loss 4.240, col train loss 134.532\n",
      "epoch 2595: avg test  loss 73119.05, bar  test loss 90.073, len  test loss 1.821, col  test loss 58.157\n"
     ]
    },
    {
     "name": "stderr",
     "output_type": "stream",
     "text": [
      "Epoch 2596: 272batch [00:14, 19.16batch/s, loss=7.14e+4]\n"
     ]
    },
    {
     "name": "stdout",
     "output_type": "stream",
     "text": [
      "epoch 2596: avg train loss 72698.52, bar train loss 209.147, len train loss 4.239, col train loss 134.551\n"
     ]
    },
    {
     "name": "stderr",
     "output_type": "stream",
     "text": [
      "Epoch 2597: 3batch [00:00, 20.27batch/s, loss=7.51e+4]"
     ]
    },
    {
     "name": "stdout",
     "output_type": "stream",
     "text": [
      "epoch 2596: avg test  loss 73170.21, bar  test loss 90.120, len  test loss 1.828, col  test loss 58.282\n"
     ]
    },
    {
     "name": "stderr",
     "output_type": "stream",
     "text": [
      "Epoch 2597: 272batch [00:14, 19.32batch/s, loss=6.81e+4]\n"
     ]
    },
    {
     "name": "stdout",
     "output_type": "stream",
     "text": [
      "epoch 2597: avg train loss 72699.87, bar train loss 209.157, len train loss 4.242, col train loss 134.575\n"
     ]
    },
    {
     "name": "stderr",
     "output_type": "stream",
     "text": [
      "Epoch 2598: 2batch [00:00, 19.42batch/s, loss=7.57e+4]"
     ]
    },
    {
     "name": "stdout",
     "output_type": "stream",
     "text": [
      "epoch 2597: avg test  loss 73159.32, bar  test loss 90.130, len  test loss 1.820, col  test loss 58.370\n"
     ]
    },
    {
     "name": "stderr",
     "output_type": "stream",
     "text": [
      "Epoch 2598: 272batch [00:14, 19.33batch/s, loss=7.49e+4]\n"
     ]
    },
    {
     "name": "stdout",
     "output_type": "stream",
     "text": [
      "epoch 2598: avg train loss 72695.04, bar train loss 209.124, len train loss 4.239, col train loss 134.500\n"
     ]
    },
    {
     "name": "stderr",
     "output_type": "stream",
     "text": [
      "Epoch 2599: 3batch [00:00, 20.00batch/s, loss=6.95e+4]"
     ]
    },
    {
     "name": "stdout",
     "output_type": "stream",
     "text": [
      "epoch 2598: avg test  loss 73141.80, bar  test loss 90.068, len  test loss 1.818, col  test loss 58.232\n"
     ]
    },
    {
     "name": "stderr",
     "output_type": "stream",
     "text": [
      "Epoch 2599: 272batch [00:14, 19.35batch/s, loss=7.73e+4]\n"
     ]
    },
    {
     "name": "stdout",
     "output_type": "stream",
     "text": [
      "epoch 2599: avg train loss 72698.33, bar train loss 209.138, len train loss 4.241, col train loss 134.560\n"
     ]
    },
    {
     "name": "stderr",
     "output_type": "stream",
     "text": [
      "Epoch 2600: 2batch [00:00, 19.23batch/s, loss=7.48e+4]"
     ]
    },
    {
     "name": "stdout",
     "output_type": "stream",
     "text": [
      "epoch 2599: avg test  loss 73124.70, bar  test loss 90.105, len  test loss 1.827, col  test loss 58.305\n"
     ]
    },
    {
     "name": "stderr",
     "output_type": "stream",
     "text": [
      "Epoch 2600: 272batch [00:14, 18.90batch/s, loss=7.52e+4]\n"
     ]
    },
    {
     "name": "stdout",
     "output_type": "stream",
     "text": [
      "epoch 2600: avg train loss 72693.20, bar train loss 209.129, len train loss 4.241, col train loss 134.537\n",
      "epoch 2600: avg test  loss 73135.85, bar  test loss 90.124, len  test loss 1.819, col  test loss 58.334\n"
     ]
    },
    {
     "data": {
      "text/plain": [
       "<Figure size 5760x1440 with 0 Axes>"
      ]
     },
     "metadata": {},
     "output_type": "display_data"
    },
    {
     "data": {
      "text/plain": [
       "<Figure size 5760x1440 with 0 Axes>"
      ]
     },
     "metadata": {},
     "output_type": "display_data"
    },
    {
     "data": {
      "text/plain": [
       "<Figure size 5760x1440 with 0 Axes>"
      ]
     },
     "metadata": {},
     "output_type": "display_data"
    },
    {
     "data": {
      "text/plain": [
       "<Figure size 5760x1440 with 0 Axes>"
      ]
     },
     "metadata": {},
     "output_type": "display_data"
    },
    {
     "data": {
      "text/plain": [
       "<Figure size 5760x1440 with 0 Axes>"
      ]
     },
     "metadata": {},
     "output_type": "display_data"
    },
    {
     "data": {
      "text/plain": [
       "<Figure size 5760x1440 with 0 Axes>"
      ]
     },
     "metadata": {},
     "output_type": "display_data"
    },
    {
     "data": {
      "text/plain": [
       "<Figure size 5760x1440 with 0 Axes>"
      ]
     },
     "metadata": {},
     "output_type": "display_data"
    },
    {
     "data": {
      "text/plain": [
       "<Figure size 5760x1440 with 0 Axes>"
      ]
     },
     "metadata": {},
     "output_type": "display_data"
    },
    {
     "data": {
      "text/plain": [
       "<Figure size 5760x1440 with 0 Axes>"
      ]
     },
     "metadata": {},
     "output_type": "display_data"
    },
    {
     "data": {
      "text/plain": [
       "<Figure size 5760x1440 with 0 Axes>"
      ]
     },
     "metadata": {},
     "output_type": "display_data"
    },
    {
     "data": {
      "text/plain": [
       "<Figure size 5760x1440 with 0 Axes>"
      ]
     },
     "metadata": {},
     "output_type": "display_data"
    },
    {
     "data": {
      "text/plain": [
       "<Figure size 5760x1440 with 0 Axes>"
      ]
     },
     "metadata": {},
     "output_type": "display_data"
    },
    {
     "data": {
      "text/plain": [
       "<Figure size 5760x1440 with 0 Axes>"
      ]
     },
     "metadata": {},
     "output_type": "display_data"
    },
    {
     "data": {
      "text/plain": [
       "<Figure size 5760x1440 with 0 Axes>"
      ]
     },
     "metadata": {},
     "output_type": "display_data"
    },
    {
     "data": {
      "text/plain": [
       "<Figure size 5760x1440 with 0 Axes>"
      ]
     },
     "metadata": {},
     "output_type": "display_data"
    },
    {
     "data": {
      "text/plain": [
       "<Figure size 5760x1440 with 0 Axes>"
      ]
     },
     "metadata": {},
     "output_type": "display_data"
    },
    {
     "data": {
      "text/plain": [
       "<Figure size 5760x1440 with 0 Axes>"
      ]
     },
     "metadata": {},
     "output_type": "display_data"
    },
    {
     "data": {
      "text/plain": [
       "<Figure size 5760x1440 with 0 Axes>"
      ]
     },
     "metadata": {},
     "output_type": "display_data"
    },
    {
     "data": {
      "text/plain": [
       "<Figure size 5760x1440 with 0 Axes>"
      ]
     },
     "metadata": {},
     "output_type": "display_data"
    },
    {
     "data": {
      "text/plain": [
       "<Figure size 5760x1440 with 0 Axes>"
      ]
     },
     "metadata": {},
     "output_type": "display_data"
    },
    {
     "data": {
      "text/plain": [
       "<Figure size 5760x1440 with 0 Axes>"
      ]
     },
     "metadata": {},
     "output_type": "display_data"
    },
    {
     "data": {
      "text/plain": [
       "<Figure size 5760x1440 with 0 Axes>"
      ]
     },
     "metadata": {},
     "output_type": "display_data"
    },
    {
     "data": {
      "text/plain": [
       "<Figure size 5760x1440 with 0 Axes>"
      ]
     },
     "metadata": {},
     "output_type": "display_data"
    },
    {
     "data": {
      "text/plain": [
       "<Figure size 5760x1440 with 0 Axes>"
      ]
     },
     "metadata": {},
     "output_type": "display_data"
    },
    {
     "data": {
      "text/plain": [
       "<Figure size 5760x1440 with 0 Axes>"
      ]
     },
     "metadata": {},
     "output_type": "display_data"
    },
    {
     "data": {
      "text/plain": [
       "<Figure size 5760x1440 with 0 Axes>"
      ]
     },
     "metadata": {},
     "output_type": "display_data"
    },
    {
     "data": {
      "text/plain": [
       "<Figure size 5760x1440 with 0 Axes>"
      ]
     },
     "metadata": {},
     "output_type": "display_data"
    },
    {
     "data": {
      "text/plain": [
       "<Figure size 5760x1440 with 0 Axes>"
      ]
     },
     "metadata": {},
     "output_type": "display_data"
    },
    {
     "data": {
      "text/plain": [
       "<Figure size 5760x1440 with 0 Axes>"
      ]
     },
     "metadata": {},
     "output_type": "display_data"
    },
    {
     "data": {
      "text/plain": [
       "<Figure size 5760x1440 with 0 Axes>"
      ]
     },
     "metadata": {},
     "output_type": "display_data"
    },
    {
     "data": {
      "text/plain": [
       "<Figure size 5760x1440 with 0 Axes>"
      ]
     },
     "metadata": {},
     "output_type": "display_data"
    },
    {
     "data": {
      "text/plain": [
       "<Figure size 5760x1440 with 0 Axes>"
      ]
     },
     "metadata": {},
     "output_type": "display_data"
    },
    {
     "data": {
      "text/plain": [
       "<Figure size 5760x1440 with 0 Axes>"
      ]
     },
     "metadata": {},
     "output_type": "display_data"
    },
    {
     "data": {
      "text/plain": [
       "<Figure size 5760x1440 with 0 Axes>"
      ]
     },
     "metadata": {},
     "output_type": "display_data"
    },
    {
     "data": {
      "text/plain": [
       "<Figure size 5760x1440 with 0 Axes>"
      ]
     },
     "metadata": {},
     "output_type": "display_data"
    },
    {
     "data": {
      "text/plain": [
       "<Figure size 5760x1440 with 0 Axes>"
      ]
     },
     "metadata": {},
     "output_type": "display_data"
    },
    {
     "data": {
      "text/plain": [
       "<Figure size 5760x1440 with 0 Axes>"
      ]
     },
     "metadata": {},
     "output_type": "display_data"
    },
    {
     "data": {
      "text/plain": [
       "<Figure size 5760x1440 with 0 Axes>"
      ]
     },
     "metadata": {},
     "output_type": "display_data"
    },
    {
     "data": {
      "text/plain": [
       "<Figure size 5760x1440 with 0 Axes>"
      ]
     },
     "metadata": {},
     "output_type": "display_data"
    },
    {
     "data": {
      "text/plain": [
       "<Figure size 5760x1440 with 0 Axes>"
      ]
     },
     "metadata": {},
     "output_type": "display_data"
    },
    {
     "data": {
      "text/plain": [
       "<Figure size 5760x1440 with 0 Axes>"
      ]
     },
     "metadata": {},
     "output_type": "display_data"
    },
    {
     "data": {
      "text/plain": [
       "<Figure size 5760x1440 with 0 Axes>"
      ]
     },
     "metadata": {},
     "output_type": "display_data"
    },
    {
     "data": {
      "text/plain": [
       "<Figure size 5760x1440 with 0 Axes>"
      ]
     },
     "metadata": {},
     "output_type": "display_data"
    },
    {
     "data": {
      "text/plain": [
       "<Figure size 5760x1440 with 0 Axes>"
      ]
     },
     "metadata": {},
     "output_type": "display_data"
    },
    {
     "data": {
      "text/plain": [
       "<Figure size 5760x1440 with 0 Axes>"
      ]
     },
     "metadata": {},
     "output_type": "display_data"
    },
    {
     "data": {
      "text/plain": [
       "<Figure size 5760x1440 with 0 Axes>"
      ]
     },
     "metadata": {},
     "output_type": "display_data"
    },
    {
     "data": {
      "text/plain": [
       "<Figure size 5760x1440 with 0 Axes>"
      ]
     },
     "metadata": {},
     "output_type": "display_data"
    },
    {
     "data": {
      "text/plain": [
       "<Figure size 5760x1440 with 0 Axes>"
      ]
     },
     "metadata": {},
     "output_type": "display_data"
    },
    {
     "data": {
      "text/plain": [
       "<Figure size 5760x1440 with 0 Axes>"
      ]
     },
     "metadata": {},
     "output_type": "display_data"
    },
    {
     "data": {
      "text/plain": [
       "<Figure size 5760x1440 with 0 Axes>"
      ]
     },
     "metadata": {},
     "output_type": "display_data"
    },
    {
     "data": {
      "text/plain": [
       "<Figure size 5760x1440 with 0 Axes>"
      ]
     },
     "metadata": {},
     "output_type": "display_data"
    },
    {
     "data": {
      "text/plain": [
       "<Figure size 5760x1440 with 0 Axes>"
      ]
     },
     "metadata": {},
     "output_type": "display_data"
    },
    {
     "data": {
      "text/plain": [
       "<Figure size 5760x1440 with 0 Axes>"
      ]
     },
     "metadata": {},
     "output_type": "display_data"
    },
    {
     "data": {
      "text/plain": [
       "<Figure size 5760x1440 with 0 Axes>"
      ]
     },
     "metadata": {},
     "output_type": "display_data"
    },
    {
     "data": {
      "text/plain": [
       "<Figure size 5760x1440 with 0 Axes>"
      ]
     },
     "metadata": {},
     "output_type": "display_data"
    },
    {
     "data": {
      "text/plain": [
       "<Figure size 5760x1440 with 0 Axes>"
      ]
     },
     "metadata": {},
     "output_type": "display_data"
    },
    {
     "data": {
      "text/plain": [
       "<Figure size 5760x1440 with 0 Axes>"
      ]
     },
     "metadata": {},
     "output_type": "display_data"
    },
    {
     "data": {
      "text/plain": [
       "<Figure size 5760x1440 with 0 Axes>"
      ]
     },
     "metadata": {},
     "output_type": "display_data"
    },
    {
     "data": {
      "text/plain": [
       "<Figure size 5760x1440 with 0 Axes>"
      ]
     },
     "metadata": {},
     "output_type": "display_data"
    },
    {
     "data": {
      "text/plain": [
       "<Figure size 5760x1440 with 0 Axes>"
      ]
     },
     "metadata": {},
     "output_type": "display_data"
    },
    {
     "data": {
      "text/plain": [
       "<Figure size 5760x1440 with 0 Axes>"
      ]
     },
     "metadata": {},
     "output_type": "display_data"
    },
    {
     "data": {
      "text/plain": [
       "<Figure size 5760x1440 with 0 Axes>"
      ]
     },
     "metadata": {},
     "output_type": "display_data"
    },
    {
     "data": {
      "text/plain": [
       "<Figure size 5760x1440 with 0 Axes>"
      ]
     },
     "metadata": {},
     "output_type": "display_data"
    },
    {
     "data": {
      "text/plain": [
       "<Figure size 5760x1440 with 0 Axes>"
      ]
     },
     "metadata": {},
     "output_type": "display_data"
    },
    {
     "data": {
      "text/plain": [
       "<Figure size 5760x1440 with 0 Axes>"
      ]
     },
     "metadata": {},
     "output_type": "display_data"
    },
    {
     "data": {
      "text/plain": [
       "<Figure size 5760x1440 with 0 Axes>"
      ]
     },
     "metadata": {},
     "output_type": "display_data"
    },
    {
     "data": {
      "text/plain": [
       "<Figure size 5760x1440 with 0 Axes>"
      ]
     },
     "metadata": {},
     "output_type": "display_data"
    },
    {
     "data": {
      "text/plain": [
       "<Figure size 5760x1440 with 0 Axes>"
      ]
     },
     "metadata": {},
     "output_type": "display_data"
    },
    {
     "data": {
      "text/plain": [
       "<Figure size 5760x1440 with 0 Axes>"
      ]
     },
     "metadata": {},
     "output_type": "display_data"
    },
    {
     "data": {
      "text/plain": [
       "<Figure size 5760x1440 with 0 Axes>"
      ]
     },
     "metadata": {},
     "output_type": "display_data"
    },
    {
     "data": {
      "text/plain": [
       "<Figure size 5760x1440 with 0 Axes>"
      ]
     },
     "metadata": {},
     "output_type": "display_data"
    },
    {
     "data": {
      "text/plain": [
       "<Figure size 5760x1440 with 0 Axes>"
      ]
     },
     "metadata": {},
     "output_type": "display_data"
    },
    {
     "data": {
      "text/plain": [
       "<Figure size 5760x1440 with 0 Axes>"
      ]
     },
     "metadata": {},
     "output_type": "display_data"
    },
    {
     "data": {
      "text/plain": [
       "<Figure size 5760x1440 with 0 Axes>"
      ]
     },
     "metadata": {},
     "output_type": "display_data"
    },
    {
     "data": {
      "text/plain": [
       "<Figure size 5760x1440 with 0 Axes>"
      ]
     },
     "metadata": {},
     "output_type": "display_data"
    },
    {
     "data": {
      "text/plain": [
       "<Figure size 5760x1440 with 0 Axes>"
      ]
     },
     "metadata": {},
     "output_type": "display_data"
    },
    {
     "data": {
      "text/plain": [
       "<Figure size 5760x1440 with 0 Axes>"
      ]
     },
     "metadata": {},
     "output_type": "display_data"
    },
    {
     "data": {
      "text/plain": [
       "<Figure size 5760x1440 with 0 Axes>"
      ]
     },
     "metadata": {},
     "output_type": "display_data"
    },
    {
     "data": {
      "text/plain": [
       "<Figure size 5760x1440 with 0 Axes>"
      ]
     },
     "metadata": {},
     "output_type": "display_data"
    },
    {
     "data": {
      "text/plain": [
       "<Figure size 5760x1440 with 0 Axes>"
      ]
     },
     "metadata": {},
     "output_type": "display_data"
    }
   ],
   "source": [
    "lss, lss_t = train(default_args, train_loader, test_loader, diva, optimizer, 2600, 2200, save_folder=\"VAE1\")"
   ]
  },
  {
   "cell_type": "code",
   "execution_count": null,
   "metadata": {
    "id": "c4r_UyPUGXqT"
   },
   "outputs": [],
   "source": [
    "def plot_loss_acc(lss, lss_t, yacc, yacc_t):\n",
    "    fig,ax = plt.subplots()\n",
    "    ax.plot(lss, label=\"train loss\")\n",
    "    ax.plot(lss_t, label = \"test loss\")\n",
    "    ax1 = ax.twinx()\n",
    "    ax1.plot(yacc, label = \"train accuracy\", ls='--')\n",
    "    ax1.plot(yacc_t, label = \"test accuracy\", ls='--')\n",
    "\n",
    "    lines, labels = ax.get_legend_handles_labels()\n",
    "    lines2, labels2 = ax1.get_legend_handles_labels()\n",
    "\n",
    "    ax1.legend(lines + lines2, labels + labels2)"
   ]
  },
  {
   "cell_type": "code",
   "execution_count": null,
   "metadata": {
    "colab": {
     "base_uri": "https://localhost:8080/",
     "height": 266
    },
    "executionInfo": {
     "elapsed": 857,
     "status": "ok",
     "timestamp": 1645822416415,
     "user": {
      "displayName": "Marko Petkovic",
      "photoUrl": "https://lh3.googleusercontent.com/a-/AOh14Gijd0e9r3I1vRZVN6DEwl16XpJxxS1oSAKunOnfZQ=s64",
      "userId": "11987583535390684770"
     },
     "user_tz": -60
    },
    "id": "fTFZZmoguwtU",
    "outputId": "540c8c1f-99d7-4931-c102-7c96747243aa"
   },
   "outputs": [],
   "source": [
    "plot_loss_acc(lss+lss2, lss_t+lss_t2, yacc+yacc2, yacc_t+yacc_t2)"
   ]
  },
  {
   "cell_type": "code",
   "execution_count": null,
   "metadata": {
    "colab": {
     "base_uri": "https://localhost:8080/",
     "height": 265
    },
    "executionInfo": {
     "elapsed": 557,
     "status": "ok",
     "timestamp": 1645623855467,
     "user": {
      "displayName": "Marko Petkovic",
      "photoUrl": "https://lh3.googleusercontent.com/a/default-user=s64",
      "userId": "04006351469182865246"
     },
     "user_tz": -60
    },
    "id": "mq2FG26TznE1",
    "outputId": "152eddd3-a440-4b25-c437-498efb0a7ffe"
   },
   "outputs": [],
   "source": [
    "plot_loss_acc(lss3, lss_t3, yacc3, yacc_t3)"
   ]
  },
  {
   "cell_type": "code",
   "execution_count": null,
   "metadata": {
    "id": "9FyP02qPdgso"
   },
   "outputs": [],
   "source": [
    "def plot_change_latent_var(diva, lat_space=\"y\", var_idx=[0,1,2,3,4,5,6,7], step = 5):\n",
    "    a = next(enumerate(test_loader))\n",
    "    with torch.no_grad():\n",
    "        diva.eval()\n",
    "        d = a[1][2][:len(var_idx)].to(DEVICE).float()\n",
    "        x = a[1][0][:len(var_idx)].to(DEVICE).float()\n",
    "        y = a[1][1][:len(var_idx)].to(DEVICE).float()\n",
    "\n",
    "        zx, zx_sc = diva.qzx(x)\n",
    "        zy, zy_sc = diva.qzy(x)\n",
    "        zd, zd_sc =  diva.qzd(x)\n",
    "\n",
    "        print(torch.max(zy), torch.min(zy), \"sdmax:\", torch.max(zy_sc))\n",
    "\n",
    "        out = change(zx, zy, zd, var_idx, lat_space, diva, step)\n",
    "    \n",
    "    fig, ax = plt.subplots(ncols=out.shape[0],nrows=len(var_idx),figsize=(10*4*out.shape[0],10*len(var_idx)))\n",
    "    for i in range(out.shape[0]):\n",
    "      for j in range(len(var_idx)):\n",
    "        ax[j,i].imshow(out[i,j])"
   ]
  },
  {
   "cell_type": "code",
   "execution_count": null,
   "metadata": {
    "id": "x6kJu1APenFe"
   },
   "outputs": [],
   "source": [
    "def change(zx, zy, zd, idx, lat = \"y\", model=diva, step = 2):\n",
    "    \n",
    "    dif = np.arange(-30,15,step)\n",
    "    print(torch.max(zy), torch.min(zy))\n",
    "    out = np.zeros((dif.shape[0], len(idx), 25, 100 ,3))  \n",
    "    #print(zy.shape, dif.shape[0])\n",
    "    for i in range(dif.shape[0]):\n",
    "      for j in range(len(idx)):\n",
    "        if lat == \"y\":\n",
    "            zy[j,idx] = dif[i]\n",
    "        elif lat == \"x\":\n",
    "            zx[j,idx] = dif[i]\n",
    "        elif lat == \"d\":\n",
    "            zd[j,idx] = dif[i]\n",
    "        len_, bar, col = model.px(zd[j],zx[j],zy[j])\n",
    "        out[i,j] = model.px.reconstruct_image(len_[None,:], bar, col)\n",
    "    \n",
    "    return out\n",
    "\n"
   ]
  },
  {
   "cell_type": "code",
   "execution_count": null,
   "metadata": {
    "colab": {
     "base_uri": "https://localhost:8080/",
     "height": 243
    },
    "executionInfo": {
     "elapsed": 33513,
     "status": "ok",
     "timestamp": 1645623900042,
     "user": {
      "displayName": "Marko Petkovic",
      "photoUrl": "https://lh3.googleusercontent.com/a/default-user=s64",
      "userId": "04006351469182865246"
     },
     "user_tz": -60
    },
    "id": "4U1JHmTKh0cE",
    "outputId": "b0a1850e-9f0d-4163-813b-8686f4bb05fc"
   },
   "outputs": [],
   "source": [
    "plot_change_latent_var(diva)"
   ]
  },
  {
   "cell_type": "code",
   "execution_count": null,
   "metadata": {
    "id": "cpZoRZMGHcui"
   },
   "outputs": [],
   "source": [
    "fig,ax = plt.subplots()\n",
    "ax.plot(np.arange(50,120), [i.cpu().detach().numpy() for i in lss2], label=\"train loss\")\n",
    "ax.plot(np.arange(50,120), [i.cpu().detach().numpy() for i in lss_t2], label = \"testloss\")\n",
    "ax1 = ax.twinx()\n",
    "ax1.plot(np.arange(50,120), yacc2, label = \"train\")\n",
    "ax1.plot(np.arange(50,120), yacc_t2, label = \"test\")\n",
    "\n",
    "plt.legend()"
   ]
  },
  {
   "cell_type": "code",
   "execution_count": null,
   "metadata": {
    "colab": {
     "base_uri": "https://localhost:8080/",
     "height": 283
    },
    "executionInfo": {
     "elapsed": 681,
     "status": "ok",
     "timestamp": 1645563980004,
     "user": {
      "displayName": "Marko Petkovic",
      "photoUrl": "https://lh3.googleusercontent.com/a-/AOh14Gijd0e9r3I1vRZVN6DEwl16XpJxxS1oSAKunOnfZQ=s64",
      "userId": "11987583535390684770"
     },
     "user_tz": -60
    },
    "id": "OQMW85JXM6oO",
    "outputId": "dd28a6c2-0024-498e-d571-c705ee67fbd6"
   },
   "outputs": [],
   "source": [
    "fig,ax = plt.subplots()\n",
    "ax.plot(np.arange(120,180), [i.cpu().detach().numpy() for i in lss3], label=\"train loss\")\n",
    "ax.plot(np.arange(120,180), [i.cpu().detach().numpy() for i in lss_t3], label = \"testloss\")\n",
    "ax1 = ax.twinx()\n",
    "ax1.plot(np.arange(120,180), yacc3, label = \"train\",c='green')\n",
    "ax1.plot(np.arange(120,180), yacc_t3, label = \"test\")\n",
    "\n",
    "plt.legend()"
   ]
  },
  {
   "cell_type": "markdown",
   "metadata": {
    "id": "whsgNltzXDhK"
   },
   "source": [
    "# Model Evaluation"
   ]
  },
  {
   "cell_type": "markdown",
   "metadata": {
    "id": "VfcwhSNIjqIE"
   },
   "source": [
    "## Sampling from trained model"
   ]
  },
  {
   "cell_type": "code",
   "execution_count": null,
   "metadata": {
    "id": "4NWGV4Xd7bn8"
   },
   "outputs": [],
   "source": []
  },
  {
   "cell_type": "code",
   "execution_count": null,
   "metadata": {
    "id": "3z5XA4QI1Mb1"
   },
   "outputs": [],
   "source": [
    "def plot_latent_space(lat_space=\"y\"):\n",
    "    '''\n",
    "    lat_space: y, d, x\n",
    "    '''\n",
    "\n",
    "    "
   ]
  },
  {
   "cell_type": "code",
   "execution_count": null,
   "metadata": {
    "colab": {
     "base_uri": "https://localhost:8080/",
     "height": 336
    },
    "executionInfo": {
     "elapsed": 1897,
     "status": "ok",
     "timestamp": 1645556291755,
     "user": {
      "displayName": "Marko Petkovic",
      "photoUrl": "https://lh3.googleusercontent.com/a-/AOh14Gijd0e9r3I1vRZVN6DEwl16XpJxxS1oSAKunOnfZQ=s64",
      "userId": "11987583535390684770"
     },
     "user_tz": -60
    },
    "id": "USZ7nIDugT1S",
    "outputId": "174d53bb-845f-458b-ca85-9d749c9c0865"
   },
   "outputs": [],
   "source": [
    "plot(x, out, 0)"
   ]
  },
  {
   "cell_type": "code",
   "execution_count": null,
   "metadata": {
    "colab": {
     "base_uri": "https://localhost:8080/",
     "height": 230
    },
    "executionInfo": {
     "elapsed": 1646,
     "status": "ok",
     "timestamp": 1645550689935,
     "user": {
      "displayName": "Marko Petkovic",
      "photoUrl": "https://lh3.googleusercontent.com/a-/AOh14Gijd0e9r3I1vRZVN6DEwl16XpJxxS1oSAKunOnfZQ=s64",
      "userId": "11987583535390684770"
     },
     "user_tz": -60
    },
    "id": "OE3qVVFFLaPm",
    "outputId": "93953e16-3bda-464b-b765-3aedb9fbe428"
   },
   "outputs": [],
   "source": [
    "fig, ax = plt.subplots(nrows=3, ncols=3)\n",
    "for i in range(9):\n",
    "  ax[i//3, i%3].imshow(x[i].cpu().permute(1,2,0))\n",
    "  \n",
    "plt.savefig('divastamporg.png')"
   ]
  },
  {
   "cell_type": "code",
   "execution_count": null,
   "metadata": {
    "id": "RRQU05xQEx28"
   },
   "outputs": [],
   "source": []
  }
 ],
 "metadata": {
  "accelerator": "GPU",
  "colab": {
   "collapsed_sections": [],
   "name": "StampVAE (Beta)",
   "provenance": []
  },
  "kernelspec": {
   "display_name": "Python 3",
   "language": "python",
   "name": "python3"
  },
  "language_info": {
   "codemirror_mode": {
    "name": "ipython",
    "version": 3
   },
   "file_extension": ".py",
   "mimetype": "text/x-python",
   "name": "python",
   "nbconvert_exporter": "python",
   "pygments_lexer": "ipython3",
   "version": "3.7.6"
  }
 },
 "nbformat": 4,
 "nbformat_minor": 1
}
