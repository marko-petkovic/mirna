{
 "cells": [
  {
   "cell_type": "code",
   "execution_count": 1,
   "metadata": {
    "executionInfo": {
     "elapsed": 6,
     "status": "ok",
     "timestamp": 1647023261840,
     "user": {
      "displayName": "Marko Petkovic",
      "photoUrl": "https://lh3.googleusercontent.com/a-/AOh14Gijd0e9r3I1vRZVN6DEwl16XpJxxS1oSAKunOnfZQ=s64",
      "userId": "11987583535390684770"
     },
     "user_tz": -60
    },
    "id": "UuXEtFCubCjx"
   },
   "outputs": [],
   "source": [
    "link = 'D:/users/Marko/downloads/mirna/'"
   ]
  },
  {
   "cell_type": "markdown",
   "metadata": {
    "id": "MgMR4QspjvRl"
   },
   "source": [
    "# Imports"
   ]
  },
  {
   "cell_type": "code",
   "execution_count": 2,
   "metadata": {
    "executionInfo": {
     "elapsed": 5,
     "status": "ok",
     "timestamp": 1647023261840,
     "user": {
      "displayName": "Marko Petkovic",
      "photoUrl": "https://lh3.googleusercontent.com/a-/AOh14Gijd0e9r3I1vRZVN6DEwl16XpJxxS1oSAKunOnfZQ=s64",
      "userId": "11987583535390684770"
     },
     "user_tz": -60
    },
    "id": "aXljY6Cp4zU-"
   },
   "outputs": [],
   "source": [
    "%load_ext tensorboard"
   ]
  },
  {
   "cell_type": "code",
   "execution_count": 3,
   "metadata": {
    "colab": {
     "base_uri": "https://localhost:8080/"
    },
    "executionInfo": {
     "elapsed": 31000,
     "status": "ok",
     "timestamp": 1647023292835,
     "user": {
      "displayName": "Marko Petkovic",
      "photoUrl": "https://lh3.googleusercontent.com/a-/AOh14Gijd0e9r3I1vRZVN6DEwl16XpJxxS1oSAKunOnfZQ=s64",
      "userId": "11987583535390684770"
     },
     "user_tz": -60
    },
    "id": "VgKU5wNzDK4F",
    "outputId": "2edd95bf-9577-4772-eeca-95c5d32cf026"
   },
   "outputs": [],
   "source": [
    "import sys\n",
    "#sys.path.insert(0,'/content/drive/MyDrive/Marko/master')\n",
    "sys.path.insert(0, link)\n",
    "import numpy as np\n",
    "import matplotlib.pyplot as plt\n",
    "\n",
    "#import tensorflow as tf\n",
    "\n",
    "import torch\n",
    "import torch.optim as optim\n",
    "import torch.nn as nn\n",
    "import torch.distributions as dist\n",
    "\n",
    "from torch.nn import functional as F\n",
    "from torchinfo import summary\n",
    "from torch.utils.tensorboard import SummaryWriter\n",
    "from torch.utils.data import Dataset, DataLoader\n",
    "\n",
    "from sklearn.preprocessing import OneHotEncoder\n",
    "\n",
    "from tqdm import tqdm\n",
    "from tqdm import trange\n",
    "\n",
    "import datetime\n",
    "\n",
    "\n",
    "writer = SummaryWriter(f\"{link}/saved_models/VAE10/tensorboard\")"
   ]
  },
  {
   "cell_type": "code",
   "execution_count": 4,
   "metadata": {
    "executionInfo": {
     "elapsed": 6,
     "status": "ok",
     "timestamp": 1647023292836,
     "user": {
      "displayName": "Marko Petkovic",
      "photoUrl": "https://lh3.googleusercontent.com/a-/AOh14Gijd0e9r3I1vRZVN6DEwl16XpJxxS1oSAKunOnfZQ=s64",
      "userId": "11987583535390684770"
     },
     "user_tz": -60
    },
    "id": "HuLsYxyh6_ZM"
   },
   "outputs": [],
   "source": [
    "DEVICE = torch.device(\"cuda\" if torch.cuda.is_available() else \"cpu\")"
   ]
  },
  {
   "cell_type": "code",
   "execution_count": 5,
   "metadata": {},
   "outputs": [
    {
     "data": {
      "text/plain": [
       "device(type='cuda')"
      ]
     },
     "execution_count": 5,
     "metadata": {},
     "output_type": "execute_result"
    }
   ],
   "source": [
    "DEVICE"
   ]
  },
  {
   "cell_type": "markdown",
   "metadata": {
    "id": "axFkNf0cjx2V"
   },
   "source": [
    "# Model Classes"
   ]
  },
  {
   "cell_type": "code",
   "execution_count": 6,
   "metadata": {
    "executionInfo": {
     "elapsed": 6,
     "status": "ok",
     "timestamp": 1647023292836,
     "user": {
      "displayName": "Marko Petkovic",
      "photoUrl": "https://lh3.googleusercontent.com/a-/AOh14Gijd0e9r3I1vRZVN6DEwl16XpJxxS1oSAKunOnfZQ=s64",
      "userId": "11987583535390684770"
     },
     "user_tz": -60
    },
    "id": "ae7NZhZGj7Zi"
   },
   "outputs": [],
   "source": [
    "class diva_args:\n",
    "\n",
    "    def __init__(self, z_dim=64, d_dim=45, x_dim=7500, y_dim=2,\n",
    "                 beta=10, rec_alpha = 1, rec_beta = 1, \n",
    "                 rec_gamma = 1, warmup = 1, prewarmup = 1):\n",
    "\n",
    "        self.z_dim = z_dim\n",
    "        self.d_dim = d_dim\n",
    "        self.x_dim = x_dim\n",
    "        self.y_dim = y_dim\n",
    "        \n",
    "        self.beta = beta\n",
    "        self.rec_alpha = rec_alpha\n",
    "        self.rec_beta = rec_beta\n",
    "        self.rec_gamma = rec_gamma\n",
    "        self.warmup = warmup\n",
    "        self.prewarmup = prewarmup\n"
   ]
  },
  {
   "cell_type": "markdown",
   "metadata": {
    "id": "tb1vH-a1j7Rf"
   },
   "source": [
    "## Dataset Class"
   ]
  },
  {
   "cell_type": "code",
   "execution_count": 7,
   "metadata": {
    "executionInfo": {
     "elapsed": 328,
     "status": "ok",
     "timestamp": 1647023293159,
     "user": {
      "displayName": "Marko Petkovic",
      "photoUrl": "https://lh3.googleusercontent.com/a-/AOh14Gijd0e9r3I1vRZVN6DEwl16XpJxxS1oSAKunOnfZQ=s64",
      "userId": "11987583535390684770"
     },
     "user_tz": -60
    },
    "id": "D6ouvuZX3WPs"
   },
   "outputs": [],
   "source": [
    "class MicroRNADataset(Dataset):\n",
    "\n",
    "    def __init__(self, ds='train', create_encodings=False):\n",
    "        \n",
    "        # loading images\n",
    "        self.images = np.load(f'{link}/data/modmirbase_{ds}_images.npz')['arr_0']/255\n",
    "        \n",
    "        \n",
    "        # loading labels\n",
    "        print('Loading Labels! (~10s)')     \n",
    "        ohe = OneHotEncoder(categories='auto', sparse=False)\n",
    "        labels = np.load(f'{link}/data/modmirbase_{ds}_labels.npz')['arr_0']\n",
    "        self.labels = ohe.fit_transform(labels)\n",
    "        \n",
    "        # loading encoded images\n",
    "        print(\"loading encodings\")\n",
    "        if create_encodings:\n",
    "            x_len, x_col, x_bar = self.get_encoded_values(self.images, ds)\n",
    "        else:\n",
    "            x_len = np.load(f'{link}/data/modmirbase_{ds}_images_len2.npz')\n",
    "            x_bar = np.load(f'{link}/data/modmirbase_{ds}_images_bar2.npz')\n",
    "            x_col = np.load(f'{link}/data/modmirbase_{ds}_images_col2.npz')\n",
    "        \n",
    "        self.x_len = x_len\n",
    "        self.x_bar = x_bar\n",
    "        self.x_col = x_col\n",
    "        \n",
    "\n",
    "        # loading names\n",
    "        print('Loading Names! (~5s)')\n",
    "        names =  np.load(f'{link}/data/modmirbase_{ds}_names.npz')['arr_0']\n",
    "        names = [i.decode('utf-8') for i in names]\n",
    "        self.species = ['mmu', 'prd', 'hsa', 'ptr', 'efu', 'cbn', 'gma', 'pma',\n",
    "                        'cel', 'gga', 'ipu', 'ptc', 'mdo', 'cgr', 'bta', 'cin', \n",
    "                        'ppy', 'ssc', 'ath', 'cfa', 'osa', 'mtr', 'gra', 'mml',\n",
    "                        'stu', 'bdi', 'rno', 'oan', 'dre', 'aca', 'eca', 'chi',\n",
    "                        'bmo', 'ggo', 'aly', 'dps', 'mdm', 'ame', 'ppc', 'ssa',\n",
    "                        'ppt', 'tca', 'dme', 'sbi']\n",
    "        # assigning a species label to each observation from species\n",
    "        # with more than 200 observations from past research\n",
    "        self.names = []\n",
    "        for i in names:\n",
    "            append = False\n",
    "            for j in self.species:\n",
    "                if j in i.lower():\n",
    "                    self.names.append(j)\n",
    "                    append = True\n",
    "                    break\n",
    "            if not append:\n",
    "                if 'random' in i.lower() or i.isdigit():\n",
    "                    self.names.append('hsa')\n",
    "                else:\n",
    "                    self.names.append('notfound')\n",
    "        \n",
    "        # performing one hot encoding\n",
    "        ohe = OneHotEncoder(categories='auto', sparse=False)\n",
    "        self.names_ohe = ohe.fit_transform(np.array(self.names).reshape(-1,1))\n",
    "      \n",
    "    def __len__(self):\n",
    "        return(self.images.shape[0])\n",
    "\n",
    "    def __getitem__(self, idx):\n",
    "        d = self.names_ohe[idx]\n",
    "        y = self.labels[idx]\n",
    "        x = self.images[idx]\n",
    "        x = np.transpose(x, (2,0,1))\n",
    "        x_len = self.x_len[idx]\n",
    "        x_col = self.x_col[idx]\n",
    "        x_bar = self.x_bar[idx]\n",
    "        return (x, y, d, x_len, x_col, x_bar)\n",
    "\n",
    "\n",
    "    def get_encoded_values(self, x, ds):\n",
    "        \"\"\"\n",
    "        given an image or batch of images\n",
    "        returns length of strand, length of bars and colors of bars\n",
    "        \"\"\"\n",
    "        n = x.shape[0]\n",
    "        x = np.transpose(x, (0,3,1,2))\n",
    "        out_len = np.zeros((n), dtype=np.uint8)\n",
    "        out_col = np.zeros((n,5,200), dtype=np.uint8)\n",
    "        out_bar = np.zeros((n,2,100), dtype=np.uint8)\n",
    "\n",
    "        for i in range(n):\n",
    "            if i % 100 == 0:\n",
    "                print(f'at {i} out of {n}')\n",
    "            rna_len = 0\n",
    "            broke = False\n",
    "            for j in range(100):\n",
    "                if (x[i,:,12,j] == np.array([1,1,1])).all():\n",
    "                    out_len[i] = rna_len\n",
    "                    broke = True\n",
    "                    break\n",
    "                else:\n",
    "                    rna_len += 1\n",
    "                    # check color of bars\n",
    "                    out_col[i, self.get_color(x[i,:,12,j]) ,2*j] = 1 \n",
    "                    out_col[i, self.get_color(x[i,:,13,j]), 2*j+1] = 1\n",
    "                    # check length of bars\n",
    "                    len1 = 0\n",
    "                    # loop until white pixel\n",
    "                    while not (x[i,:,12-len1,j] == np.array([1.,1.,1.])).all():\n",
    "                        len1 += 1\n",
    "                        if 13-len1 == 0:\n",
    "                            break\n",
    "                    out_bar[i, 0, j] = len1\n",
    "\n",
    "                    len2 = 0\n",
    "                    while not (x[i,:,13+len2,j] == np.array([1.,1.,1.])).all():\n",
    "                        len2 += 1\n",
    "                        if 13+len2 == 25:\n",
    "                            break\n",
    "                    out_bar[i, 1, j] = len2\n",
    "            if not broke:\n",
    "                out_len[i] = rna_len\n",
    "\n",
    "\n",
    "        with open(f'{link}/data/modmirbase_{ds}_images_len2.npz', 'wb') as f:\n",
    "            np.save(f, out_len)\n",
    "        with open(f'{link}/data/modmirbase_{ds}_images_col2.npz', 'wb') as f:\n",
    "            np.save(f, out_col)\n",
    "        with open(f'{link}/data/modmirbase_{ds}_images_bar2.npz', 'wb') as f:\n",
    "            np.save(f, out_bar)\n",
    "        \n",
    "\n",
    "        return out_len, out_bar, out_col\n",
    "\n",
    "    def get_color(self, pixel):\n",
    "        \"\"\"\n",
    "        returns the encoded value for a pixel\n",
    "        \"\"\"\n",
    "        if (pixel == np.array([0,0,0])).all():  \n",
    "            return 0 # black\n",
    "        elif (pixel == np.array([1,0,0])).all():  \n",
    "            return 1 # red\n",
    "        elif (pixel == np.array([0,0,1])).all():  \n",
    "            return 2 # blue\n",
    "        elif (pixel == np.array([0,1,0])).all():  \n",
    "            return 3 # green\n",
    "        elif (pixel == np.array([1,1,0])).all():  \n",
    "            return 4 # yellow\n",
    "        else:\n",
    "            print(\"Something wrong!\")\n"
   ]
  },
  {
   "cell_type": "markdown",
   "metadata": {
    "id": "Xxj-WGXMj-Ne"
   },
   "source": [
    "## Decoder classes"
   ]
  },
  {
   "cell_type": "code",
   "execution_count": 8,
   "metadata": {
    "executionInfo": {
     "elapsed": 5,
     "status": "ok",
     "timestamp": 1647023293160,
     "user": {
      "displayName": "Marko Petkovic",
      "photoUrl": "https://lh3.googleusercontent.com/a-/AOh14Gijd0e9r3I1vRZVN6DEwl16XpJxxS1oSAKunOnfZQ=s64",
      "userId": "11987583535390684770"
     },
     "user_tz": -60
    },
    "id": "RKizJuchX9uG"
   },
   "outputs": [],
   "source": [
    "# Decoders\n",
    "class px(nn.Module):\n",
    "    def __init__(self, d_dim, x_dim, y_dim, z_dim):\n",
    "        super(px, self).__init__()\n",
    "\n",
    "        self.fc1 = nn.Sequential(nn.Linear(z_dim, 1600, bias=False),  \n",
    "                                 nn.ReLU())\n",
    "        \n",
    "        self.fc2 = nn.Sequential(nn.Linear(1600, 1000, bias=False),  \n",
    "                                 nn.ReLU())\n",
    "        # Predicting length and color of each bar\n",
    "        self.up1 = nn.Upsample(scale_factor=5)\n",
    "        self.de1 = nn.Sequential(nn.ConvTranspose1d(50,100,kernel_size = 5,\n",
    "                                                    stride = 1, padding = 2),\n",
    "                                 nn.ReLU(),)\n",
    "        self.up2 = nn.Upsample(scale_factor=2)\n",
    "        self.de2 = nn.Sequential(\n",
    "                                 nn.ConvTranspose1d(100,100,kernel_size = 5,\n",
    "                                                    stride = 1, padding = 2),\n",
    "                                 nn.ReLU(),\n",
    "                                 )\n",
    "        # Predicting color of each bar\n",
    "        self.color_bar = nn.Sequential(nn.Conv1d(100,5, kernel_size = 9, padding = 'same', padding_mode='reflect'),\n",
    "                                      nn.Softmax(dim=1))\n",
    "        \n",
    "        # Predicting the length of each bar\n",
    "        self.length_bar = nn.Sequential(nn.Conv1d(100, 2, kernel_size = 9, padding = 4, padding_mode='reflect', stride=2), nn.Softplus())\n",
    "        #self.length_bar_scale = nn.Sequential(nn.Conv1d(100, 1, kernel_size = 3, padding = 'same', bias=False), nn.Sigmoid())\n",
    "        # Predicting length of the RNA strand\n",
    "        self.length_RNA = nn.Sequential(nn.Linear(1000,400), nn.ReLU(),nn.Linear(400,1), nn.Softplus())\n",
    "        #self.length_RNA_scale = nn.Sequential(nn.Linear(400,1, bias=False), nn.Sigmoid())\n",
    "        \n",
    "    def forward(self, z):\n",
    "        \n",
    "        h = self.fc1(z)\n",
    "        h = self.fc2(h)\n",
    "        \n",
    "        len_RNA = self.length_RNA(h)\n",
    "        \n",
    "        len_RNA_sc = nn.Parameter(torch.tensor([1.])).to(DEVICE)\n",
    "        #len_RNA_sc = torch.exp(self.length_RNA_scale(h))\n",
    "        \n",
    "        h = h.view(-1, 50, 20)\n",
    "        h = self.up1(h)\n",
    "        h = self.de1(h)\n",
    "        h = self.up2(h)\n",
    "        h = self.de2(h)\n",
    "        len_bar = self.length_bar(h)\n",
    "        len_bar_sc = nn.Parameter(torch.tensor([1.])).to(DEVICE)\n",
    "        #len_bar_sc = torch.exp(self.length_bar_scale(h))\n",
    "        \n",
    "        \n",
    "        col_bar = self.color_bar(h)\n",
    "        \n",
    "        \n",
    "        return len_RNA, len_RNA_sc, len_bar, len_bar_sc, col_bar\n",
    "\n",
    "    def reconstruct_image(self, len_RNA, var_RNA, len_bar, var_bar ,col_bar, sample=False):\n",
    "        \"\"\"\n",
    "        reconstructs RNA image given output from decoder\n",
    "        even indexes of len_bar and col_bar   -> top\n",
    "        uneven indexes of len_bar and col_bar -> bottom\n",
    "        function does not support sampling yet\n",
    "        color reconstructions: 0: black\n",
    "                               1: red\n",
    "                               2: blue\n",
    "                               3: green\n",
    "                               4: yellow\n",
    "        \"\"\"\n",
    "        color_dict = {\n",
    "                  0: np.array([0,0,0]), # black\n",
    "                  1: np.array([1,0,0]), # red\n",
    "                  3: np.array([0,1,0]), # green\n",
    "                  2: np.array([0,0,1]), # blue\n",
    "                  4: np.array([1,1,0])  # yellow\n",
    "                  }\n",
    "    \n",
    "        \n",
    "        len_RNA = len_RNA.cpu().numpy()\n",
    "        var_RNA = var_RNA.cpu().numpy()\n",
    "        #.reshape((100,))\n",
    "        len_bar = len_bar.cpu().numpy()\n",
    "        var_bar = var_bar.cpu().numpy()\n",
    "        col_bar = col_bar.cpu().numpy()\n",
    "        n = len_RNA.shape[0]\n",
    "        output = np.ones((n,25,100,3))\n",
    "\n",
    "        for i in range(n):\n",
    "            if sample:\n",
    "                limit = int(np.round(np.random.normal(loc=len_RNA[i], scale=var_RNA[i])))\n",
    "            else:\n",
    "                limit = int(np.round(len_RNA[i]))\n",
    "            limit = min(100, limit)\n",
    "            for j in range(limit):\n",
    "                if sample:\n",
    "                    _len_bar_1 = int(np.round(np.random.normal(loc=len_bar[i,0,j], scale=var_bar[i,0,j])))\n",
    "                    _len_bar_2 = int(np.round(np.random.normal(loc=len_bar[i,1,j], scale=var_bar[i,1,j])))\n",
    "                    _col_bar_1 = np.random.choice(np.arange(5), p = col_bar[i, :, 2*j])\n",
    "                    _col_bar_2 = np.random.choice(np.arange(5), p = col_bar[i,:, 2*j+1])\n",
    "                else:\n",
    "                    _len_bar_1 = int(np.round(len_bar[i,0,j])) \n",
    "                    _len_bar_2 = int(np.round(len_bar[i,1,j]))\n",
    "                    _col_bar_1 = np.argmax(col_bar[i,:, 2*j])\n",
    "                    _col_bar_2 = np.argmax(col_bar[i,:, 2*j+1])\n",
    "                \n",
    "                h1 = max(0,13-_len_bar_1)\n",
    "                # paint upper bar\n",
    "                output[i, h1:13, j] = color_dict[_col_bar_1]\n",
    "                h2 = min(25,13+_len_bar_2)\n",
    "                # paint lower bar\n",
    "                output[i, 13:h2, j] = color_dict[_col_bar_2]\n",
    "        \n",
    "        \n",
    "        return output\n"
   ]
  },
  {
   "cell_type": "code",
   "execution_count": 9,
   "metadata": {},
   "outputs": [
    {
     "data": {
      "text/plain": [
       "3"
      ]
     },
     "execution_count": 9,
     "metadata": {},
     "output_type": "execute_result"
    }
   ],
   "source": [
    "int(np.round(3.7, 0))\n",
    "int(3.7)"
   ]
  },
  {
   "cell_type": "code",
   "execution_count": 10,
   "metadata": {
    "executionInfo": {
     "elapsed": 4,
     "status": "ok",
     "timestamp": 1647023293160,
     "user": {
      "displayName": "Marko Petkovic",
      "photoUrl": "https://lh3.googleusercontent.com/a-/AOh14Gijd0e9r3I1vRZVN6DEwl16XpJxxS1oSAKunOnfZQ=s64",
      "userId": "11987583535390684770"
     },
     "user_tz": -60
    },
    "id": "1y8G2S1zxzTH"
   },
   "outputs": [],
   "source": [
    "# pzy_ = pzy(45, 7500, 2, 32,32,32)\n",
    "# summary(pzy_, (1,2))\n",
    "# pzy_ = px(45, 7500, 2, 32,32,32)\n",
    "# summary(pzy_, [(1,32),(1,32),(1,32)])"
   ]
  },
  {
   "cell_type": "markdown",
   "metadata": {
    "id": "YmNnZWXvkCDP"
   },
   "source": [
    "## Endcoder Classes"
   ]
  },
  {
   "cell_type": "code",
   "execution_count": 11,
   "metadata": {
    "executionInfo": {
     "elapsed": 5,
     "status": "ok",
     "timestamp": 1647013220008,
     "user": {
      "displayName": "Marko Petkovic",
      "photoUrl": "https://lh3.googleusercontent.com/a-/AOh14Gijd0e9r3I1vRZVN6DEwl16XpJxxS1oSAKunOnfZQ=s64",
      "userId": "11987583535390684770"
     },
     "user_tz": -60
    },
    "id": "tt82wvITwg4j"
   },
   "outputs": [],
   "source": [
    "#pzy_.reconstruct_image(torch.zeros((1,100)), torch.zeros((1,13,200)), torch.zeros(1,5,200)).shape"
   ]
  },
  {
   "cell_type": "code",
   "execution_count": 12,
   "metadata": {
    "executionInfo": {
     "elapsed": 313,
     "status": "ok",
     "timestamp": 1647023293469,
     "user": {
      "displayName": "Marko Petkovic",
      "photoUrl": "https://lh3.googleusercontent.com/a-/AOh14Gijd0e9r3I1vRZVN6DEwl16XpJxxS1oSAKunOnfZQ=s64",
      "userId": "11987583535390684770"
     },
     "user_tz": -60
    },
    "id": "78ZFH8gYl_-z"
   },
   "outputs": [],
   "source": [
    "class qz(nn.Module):\n",
    "    def __init__(self, d_dim, x_dim, y_dim, z_dim):\n",
    "        super(qz, self).__init__()\n",
    "\n",
    "        self.encoder = nn.Sequential(\n",
    "            nn.Conv2d(3, 64, kernel_size=5, stride=1, padding = 'same',bias=False),\n",
    "            nn.ReLU(),\n",
    "            nn.MaxPool2d(2, 2),\n",
    "            nn.Conv2d(64, 128, kernel_size=3, stride=1, padding = 'same', bias=False),\n",
    "            nn.ReLU(), \n",
    "            nn.MaxPool2d(2, 2),\n",
    "            nn.Conv2d(128, 256, kernel_size=3, stride=1, bias=False),\n",
    "            nn.ReLU(), \n",
    "            nn.MaxPool2d(2, 2),\n",
    "        )\n",
    "\n",
    "        self.fc11 = nn.Sequential(nn.Linear(5632, z_dim))\n",
    "        self.fc12 = nn.Sequential(nn.Linear(5632, z_dim), nn.Softplus())\n",
    "\n",
    "        torch.nn.init.xavier_uniform_(self.encoder[0].weight)\n",
    "        torch.nn.init.xavier_uniform_(self.encoder[3].weight)\n",
    "        torch.nn.init.xavier_uniform_(self.fc11[0].weight)\n",
    "        self.fc11[0].bias.data.zero_()\n",
    "        torch.nn.init.xavier_uniform_(self.fc12[0].weight)\n",
    "        self.fc12[0].bias.data.zero_()\n",
    "\n",
    "    def forward(self, x):\n",
    "        h = self.encoder(x)\n",
    "        h = h.view(-1, 5632)\n",
    "        z_loc = self.fc11(h)\n",
    "        z_scale = self.fc12(h) + 1e-7\n",
    "\n",
    "        return z_loc, z_scale\n",
    "\n",
    "\n"
   ]
  },
  {
   "cell_type": "code",
   "execution_count": 13,
   "metadata": {},
   "outputs": [
    {
     "data": {
      "text/plain": [
       "==========================================================================================\n",
       "Layer (type:depth-idx)                   Output Shape              Param #\n",
       "==========================================================================================\n",
       "qz                                       --                        --\n",
       "├─Sequential: 1-1                        [1, 256, 2, 11]           --\n",
       "│    └─Conv2d: 2-1                       [1, 64, 25, 100]          4,800\n",
       "│    └─ReLU: 2-2                         [1, 64, 25, 100]          --\n",
       "│    └─MaxPool2d: 2-3                    [1, 64, 12, 50]           --\n",
       "│    └─Conv2d: 2-4                       [1, 128, 12, 50]          73,728\n",
       "│    └─ReLU: 2-5                         [1, 128, 12, 50]          --\n",
       "│    └─MaxPool2d: 2-6                    [1, 128, 6, 25]           --\n",
       "│    └─Conv2d: 2-7                       [1, 256, 4, 23]           294,912\n",
       "│    └─ReLU: 2-8                         [1, 256, 4, 23]           --\n",
       "│    └─MaxPool2d: 2-9                    [1, 256, 2, 11]           --\n",
       "├─Sequential: 1-2                        [1, 10]                   --\n",
       "│    └─Linear: 2-10                      [1, 10]                   56,330\n",
       "├─Sequential: 1-3                        [1, 10]                   --\n",
       "│    └─Linear: 2-11                      [1, 10]                   56,330\n",
       "│    └─Softplus: 2-12                    [1, 10]                   --\n",
       "==========================================================================================\n",
       "Total params: 486,100\n",
       "Trainable params: 486,100\n",
       "Non-trainable params: 0\n",
       "Total mult-adds (M): 83.48\n",
       "==========================================================================================\n",
       "Input size (MB): 0.03\n",
       "Forward/backward pass size (MB): 2.08\n",
       "Params size (MB): 1.94\n",
       "Estimated Total Size (MB): 4.06\n",
       "=========================================================================================="
      ]
     },
     "execution_count": 13,
     "metadata": {},
     "output_type": "execute_result"
    }
   ],
   "source": [
    "enc = qz(128,10,10,10)\n",
    "summary(enc, (1,3,25,100))"
   ]
  },
  {
   "cell_type": "markdown",
   "metadata": {
    "id": "vn_gJdNSkH_V"
   },
   "source": [
    "## Full model class"
   ]
  },
  {
   "cell_type": "code",
   "execution_count": 14,
   "metadata": {
    "executionInfo": {
     "elapsed": 10,
     "status": "ok",
     "timestamp": 1647023293470,
     "user": {
      "displayName": "Marko Petkovic",
      "photoUrl": "https://lh3.googleusercontent.com/a-/AOh14Gijd0e9r3I1vRZVN6DEwl16XpJxxS1oSAKunOnfZQ=s64",
      "userId": "11987583535390684770"
     },
     "user_tz": -60
    },
    "id": "BgR5BnQN1WWG"
   },
   "outputs": [],
   "source": [
    "class StampDIVA(nn.Module):\n",
    "    def __init__(self, args):\n",
    "        super(StampDIVA, self).__init__()\n",
    "        self.z_dim = args.z_dim\n",
    "        self.d_dim = args.d_dim\n",
    "        self.x_dim = args.x_dim\n",
    "        self.y_dim = args.y_dim\n",
    "\n",
    "        self.px = px(self.d_dim, self.x_dim, self.y_dim, self.z_dim)\n",
    "        \n",
    "        self.qz = qz(self.d_dim, self.x_dim, self.y_dim, self.z_dim)\n",
    "        \n",
    "\n",
    "        self.beta = args.beta\n",
    "        \n",
    "        self.rec_alpha = args.rec_alpha\n",
    "        self.rec_beta = args.rec_beta\n",
    "        self.rec_gamma = args.rec_gamma\n",
    "\n",
    "        self.warmup = args.warmup\n",
    "        self.prewarmup = args.prewarmup\n",
    "\n",
    "        self.cuda()\n",
    "\n",
    "    def forward(self, d, x, y):\n",
    "        # Encode\n",
    "        zd_q_loc, zd_q_scale = self.qz(x)\n",
    "        \n",
    "        # Reparameterization trick\n",
    "        qz = dist.Normal(zd_q_loc, zd_q_scale)\n",
    "        z_q = qz.rsample()\n",
    "        \n",
    "        \n",
    "        # Decode\n",
    "        x_len, x_len_scale, x_bar, x_bar_scale, x_col = self.px(z_q)\n",
    "        z_p_loc, z_p_scale = torch.zeros(z_q.size()[0], self.z_dim).cuda(),\\\n",
    "                        torch.ones(z_q.size()[0], self.z_dim).cuda()\n",
    "        pz = dist.Normal(z_p_loc, z_p_scale)\n",
    "\n",
    "        # Reparameterization trick\n",
    "        pz = dist.Normal(z_p_loc, z_p_scale)\n",
    "        \n",
    "        return x_len, x_len_scale, x_bar, x_bar_scale, x_col, qz, pz, z_q\n",
    "\n",
    "    def loss_function(self, d, x, y, out_len, out_bar, out_col):\n",
    "        \n",
    "        x_len, x_len_scale, x_bar, x_bar_scale, x_col, qz, pz, z_q = self.forward(d, x, y)\n",
    "        mask = 1 - F.one_hot(torch.round(out_len).to(torch.int64)*2-1, 200).cumsum(dim=1)[:,None,:]\n",
    "        mask1 = (1 - F.one_hot(torch.round(out_len).to(torch.int64)-1, 100).cumsum(dim=1)[:,None,:]).repeat(1,2,1)\n",
    "\n",
    "        \n",
    "        #x_bar = mask.repeat(1,1,1)*x_bar\n",
    "        \n",
    "        #x_bar_scale = mask.repeat(1,1,1)*x_bar_scale\n",
    "        x_col = mask.repeat(1,5,1)*x_col\n",
    "        \n",
    "        \n",
    "        dist_len = dist.Normal(x_len, x_len_scale+1e-7)\n",
    "        log_len = dist_len.log_prob(out_len[:,None]).mean()\n",
    "        \n",
    "        dist_bar = dist.Normal(x_bar, x_bar_scale+1e-7)\n",
    "        log_bar = dist_bar.log_prob(out_bar)*mask1\n",
    "        log_bar = (log_bar).sum(dim=(1,2)).mean()\n",
    "        \n",
    "        mse_bar = ((((x_bar - out_bar)**2)*mask1).sum(dim=(1,2))/mask1.sum(dim=(1,2))).sum().detach().item()\n",
    "        \n",
    "        max_bar = torch.argmax(x_col, dim=1)\n",
    "        #acc_bar = (((max_bar==out_col)*mask).sum(dim=(1,2))/mask.sum(dim=(1,2))).sum().detach().item()/5\n",
    "        acc_bar = (max_bar==torch.argmax(out_col, dim=1)).sum().float()\n",
    "        \n",
    "        CE_len = -log_len\n",
    "        CE_bar = -log_bar\n",
    "        CE_col = F.cross_entropy(x_col, out_col, reduction='sum')\n",
    "\n",
    "        KL_z = torch.sum(pz.log_prob(z_q) - qz.log_prob(z_q))\n",
    "          \n",
    "        return self.rec_alpha * CE_len \\\n",
    "                  + self.rec_beta * CE_bar \\\n",
    "                  + self.rec_gamma * CE_col \\\n",
    "                  - self.beta * KL_z, \\\n",
    "                  CE_bar, CE_len, CE_col, mse_bar, acc_bar"
   ]
  },
  {
   "cell_type": "code",
   "execution_count": 15,
   "metadata": {},
   "outputs": [
    {
     "data": {
      "text/plain": [
       "==========================================================================================\n",
       "Layer (type:depth-idx)                   Output Shape              Param #\n",
       "==========================================================================================\n",
       "StampDIVA                                --                        --\n",
       "├─qz: 1-1                                [1, 1600]                 --\n",
       "│    └─Sequential: 2-1                   [1, 256, 2, 11]           --\n",
       "│    │    └─Conv2d: 3-1                  [1, 64, 25, 100]          4,800\n",
       "│    │    └─ReLU: 3-2                    [1, 64, 25, 100]          --\n",
       "│    │    └─MaxPool2d: 3-3               [1, 64, 12, 50]           --\n",
       "│    │    └─Conv2d: 3-4                  [1, 128, 12, 50]          73,728\n",
       "│    │    └─ReLU: 3-5                    [1, 128, 12, 50]          --\n",
       "│    │    └─MaxPool2d: 3-6               [1, 128, 6, 25]           --\n",
       "│    │    └─Conv2d: 3-7                  [1, 256, 4, 23]           294,912\n",
       "│    │    └─ReLU: 3-8                    [1, 256, 4, 23]           --\n",
       "│    │    └─MaxPool2d: 3-9               [1, 256, 2, 11]           --\n",
       "│    └─Sequential: 2-2                   [1, 1600]                 --\n",
       "│    │    └─Linear: 3-10                 [1, 1600]                 9,012,800\n",
       "│    └─Sequential: 2-3                   [1, 1600]                 --\n",
       "│    │    └─Linear: 3-11                 [1, 1600]                 9,012,800\n",
       "│    │    └─Softplus: 3-12               [1, 1600]                 --\n",
       "├─px: 1-2                                [1, 1]                    --\n",
       "│    └─Sequential: 2-4                   [1, 1600]                 --\n",
       "│    │    └─Linear: 3-13                 [1, 1600]                 2,560,000\n",
       "│    │    └─ReLU: 3-14                   [1, 1600]                 --\n",
       "│    └─Sequential: 2-5                   [1, 1000]                 --\n",
       "│    │    └─Linear: 3-15                 [1, 1000]                 1,600,000\n",
       "│    │    └─ReLU: 3-16                   [1, 1000]                 --\n",
       "│    └─Sequential: 2-6                   [1, 1]                    --\n",
       "│    │    └─Linear: 3-17                 [1, 400]                  400,400\n",
       "│    │    └─ReLU: 3-18                   [1, 400]                  --\n",
       "│    │    └─Linear: 3-19                 [1, 1]                    401\n",
       "│    │    └─Softplus: 3-20               [1, 1]                    --\n",
       "│    └─Upsample: 2-7                     [1, 50, 100]              --\n",
       "│    └─Sequential: 2-8                   [1, 100, 100]             --\n",
       "│    │    └─ConvTranspose1d: 3-21        [1, 100, 100]             25,100\n",
       "│    │    └─ReLU: 3-22                   [1, 100, 100]             --\n",
       "│    └─Upsample: 2-9                     [1, 100, 200]             --\n",
       "│    └─Sequential: 2-10                  [1, 100, 200]             --\n",
       "│    │    └─ConvTranspose1d: 3-23        [1, 100, 200]             50,100\n",
       "│    │    └─ReLU: 3-24                   [1, 100, 200]             --\n",
       "│    └─Sequential: 2-11                  [1, 2, 100]               --\n",
       "│    │    └─Conv1d: 3-25                 [1, 2, 100]               1,802\n",
       "│    │    └─Softplus: 3-26               [1, 2, 100]               --\n",
       "│    └─Sequential: 2-12                  [1, 5, 200]               --\n",
       "│    │    └─Conv1d: 3-27                 [1, 5, 200]               4,505\n",
       "│    │    └─Softmax: 3-28                [1, 5, 200]               --\n",
       "==========================================================================================\n",
       "Total params: 23,041,348\n",
       "Trainable params: 23,041,348\n",
       "Non-trainable params: 0\n",
       "Total mult-adds (M): 119.57\n",
       "==========================================================================================\n",
       "Input size (MB): 0.03\n",
       "Forward/backward pass size (MB): 2.38\n",
       "Params size (MB): 92.17\n",
       "Estimated Total Size (MB): 94.58\n",
       "=========================================================================================="
      ]
     },
     "execution_count": 15,
     "metadata": {},
     "output_type": "execute_result"
    }
   ],
   "source": [
    "default_args = diva_args(z_dim=1600, rec_alpha = 10, rec_beta = 10, rec_gamma = 10, \n",
    "                         beta=1, warmup=1, prewarmup=0)\n",
    "enc = StampDIVA(default_args)\n",
    "summary(enc,[ (1,1),(1,3,25,100),(1,1)])"
   ]
  },
  {
   "cell_type": "markdown",
   "metadata": {
    "id": "LdOsLfYJjBBe"
   },
   "source": [
    "# Training the model"
   ]
  },
  {
   "cell_type": "markdown",
   "metadata": {
    "id": "rH1E5J-ps3GD"
   },
   "source": [
    "## Loading dataset"
   ]
  },
  {
   "cell_type": "code",
   "execution_count": 16,
   "metadata": {
    "colab": {
     "base_uri": "https://localhost:8080/"
    },
    "executionInfo": {
     "elapsed": 16152,
     "status": "ok",
     "timestamp": 1647023309618,
     "user": {
      "displayName": "Marko Petkovic",
      "photoUrl": "https://lh3.googleusercontent.com/a-/AOh14Gijd0e9r3I1vRZVN6DEwl16XpJxxS1oSAKunOnfZQ=s64",
      "userId": "11987583535390684770"
     },
     "user_tz": -60
    },
    "id": "myflmDPxjV40",
    "outputId": "0befed1a-e175-47eb-e1c0-f9f28da53d7c"
   },
   "outputs": [
    {
     "name": "stdout",
     "output_type": "stream",
     "text": [
      "Loading Labels! (~10s)\n",
      "loading encodings\n",
      "Loading Names! (~5s)\n"
     ]
    }
   ],
   "source": [
    "RNA_dataset = MicroRNADataset(create_encodings=False)"
   ]
  },
  {
   "cell_type": "code",
   "execution_count": 17,
   "metadata": {
    "colab": {
     "base_uri": "https://localhost:8080/"
    },
    "executionInfo": {
     "elapsed": 7139,
     "status": "ok",
     "timestamp": 1647023316754,
     "user": {
      "displayName": "Marko Petkovic",
      "photoUrl": "https://lh3.googleusercontent.com/a-/AOh14Gijd0e9r3I1vRZVN6DEwl16XpJxxS1oSAKunOnfZQ=s64",
      "userId": "11987583535390684770"
     },
     "user_tz": -60
    },
    "id": "ut2P5RSaMoDR",
    "outputId": "eafab284-1376-4f62-c8c9-bb8e87351bd4"
   },
   "outputs": [
    {
     "name": "stdout",
     "output_type": "stream",
     "text": [
      "Loading Labels! (~10s)\n",
      "loading encodings\n",
      "Loading Names! (~5s)\n"
     ]
    }
   ],
   "source": [
    "RNA_dataset_test = MicroRNADataset('test', create_encodings=False)"
   ]
  },
  {
   "cell_type": "code",
   "execution_count": 18,
   "metadata": {
    "executionInfo": {
     "elapsed": 12,
     "status": "ok",
     "timestamp": 1647023316754,
     "user": {
      "displayName": "Marko Petkovic",
      "photoUrl": "https://lh3.googleusercontent.com/a-/AOh14Gijd0e9r3I1vRZVN6DEwl16XpJxxS1oSAKunOnfZQ=s64",
      "userId": "11987583535390684770"
     },
     "user_tz": -60
    },
    "id": "eVGq463Y2m20"
   },
   "outputs": [],
   "source": [
    "def train_single_epoch(train_loader, model, optimizer, epoch):\n",
    "    model.train()\n",
    "    train_loss = 0\n",
    "    epoch_bar_loss = 0\n",
    "    epoch_col_loss = 0\n",
    "    epoch_len_loss = 0\n",
    "    no_batches = 0\n",
    "    train_corr = 0\n",
    "    mse_bar = 0\n",
    "    acc_bar = 0\n",
    "    pbar = tqdm(enumerate(train_loader), unit=\"batch\", \n",
    "                                     desc=f'Epoch {epoch}')\n",
    "    for batch_idx, (x, y, d, x_len, x_col, x_bar) in pbar:\n",
    "        # To device\n",
    "        x, y, d , x_len, x_bar, x_col = x.to(DEVICE), y.to(DEVICE), d.to(DEVICE), x_len.to(DEVICE), x_bar.to(DEVICE), x_col.to(DEVICE)\n",
    "\n",
    "        optimizer.zero_grad()\n",
    "        loss, bar_loss, len_loss, col_loss, mse, acc = model.loss_function(d.float(), x.float(), y.float(), x_len.float(), x_bar.float(), x_col.float())\n",
    "      \n",
    "        loss.backward()\n",
    "        optimizer.step()\n",
    "        pbar.set_postfix(loss=loss.item()/x.shape[0])\n",
    "        train_loss += loss\n",
    "        epoch_bar_loss += bar_loss\n",
    "        epoch_col_loss += col_loss\n",
    "        epoch_len_loss += len_loss\n",
    "        mse_bar += mse\n",
    "        acc_bar += acc\n",
    "        no_batches += 1\n",
    "\n",
    "    train_loss /= len(train_loader.dataset)\n",
    "    epoch_bar_loss /= len(train_loader.dataset)\n",
    "    epoch_len_loss /= len(train_loader.dataset)\n",
    "    epoch_col_loss /= len(train_loader.dataset)\n",
    "    acc_bar /= len(train_loader.dataset)\n",
    "    mse_bar /= len(train_loader.dataset)\n",
    "    \n",
    "    return train_loss, epoch_bar_loss, epoch_len_loss, epoch_col_loss, mse_bar, acc_bar"
   ]
  },
  {
   "cell_type": "code",
   "execution_count": 19,
   "metadata": {
    "executionInfo": {
     "elapsed": 12,
     "status": "ok",
     "timestamp": 1647023316755,
     "user": {
      "displayName": "Marko Petkovic",
      "photoUrl": "https://lh3.googleusercontent.com/a-/AOh14Gijd0e9r3I1vRZVN6DEwl16XpJxxS1oSAKunOnfZQ=s64",
      "userId": "11987583535390684770"
     },
     "user_tz": -60
    },
    "id": "dT7E0C3nM3qh"
   },
   "outputs": [],
   "source": [
    "def test_single_epoch(test_loader, model, epoch):\n",
    "    model.eval()\n",
    "    test_loss = 0\n",
    "    epoch_bar_loss = 0\n",
    "    epoch_col_loss = 0\n",
    "    epoch_len_loss = 0\n",
    "    mse_bar = 0\n",
    "    acc_bar = 0        \n",
    "    with torch.no_grad():\n",
    "        for batch_idx, (x,y,d,x_len,x_col,x_bar) in enumerate(test_loader):\n",
    "            x, y, d, x_len, x_bar, x_col = x.to(DEVICE), y.to(DEVICE), d.to(DEVICE), x_len.to(DEVICE), x_bar.to(DEVICE), x_col.to(DEVICE)\n",
    "            loss, bar_loss, len_loss, col_loss, mse, acc = model.loss_function(d.float(), x.float(), y.float(),x_len.float(),x_bar.float(),x_col.float())\n",
    "            test_loss += loss\n",
    "            epoch_bar_loss += bar_loss\n",
    "            epoch_col_loss += col_loss\n",
    "            epoch_len_loss += len_loss\n",
    "            mse_bar += mse\n",
    "            acc_bar += acc\n",
    "    test_loss /= len(test_loader.dataset)\n",
    "    epoch_bar_loss /= len(test_loader.dataset)\n",
    "    epoch_len_loss /= len(test_loader.dataset)\n",
    "    epoch_col_loss /= len(test_loader.dataset)\n",
    "    acc_bar /= len(test_loader.dataset)\n",
    "    mse_bar /= len(test_loader.dataset)\n",
    "    \n",
    "    return test_loss, epoch_bar_loss, epoch_len_loss, epoch_col_loss, mse_bar, acc_bar\n",
    "  "
   ]
  },
  {
   "cell_type": "code",
   "execution_count": 20,
   "metadata": {
    "executionInfo": {
     "elapsed": 11,
     "status": "ok",
     "timestamp": 1647023316755,
     "user": {
      "displayName": "Marko Petkovic",
      "photoUrl": "https://lh3.googleusercontent.com/a-/AOh14Gijd0e9r3I1vRZVN6DEwl16XpJxxS1oSAKunOnfZQ=s64",
      "userId": "11987583535390684770"
     },
     "user_tz": -60
    },
    "id": "npLjVGs0jHYn"
   },
   "outputs": [],
   "source": [
    "def train(args, train_loader, test_loader, diva, optimizer, end_epoch, start_epoch=0, save_folder='sd_1.0.0',save_interval=5):\n",
    "    \n",
    "    epoch_loss_sup = []\n",
    "    test_loss = []\n",
    "    \n",
    "    for epoch in range(start_epoch+1, end_epoch+1):\n",
    "        diva.beta = min([args.beta, args.beta * (epoch - args.prewarmup * 1.) / (args.warmup)])\n",
    "        if epoch< args.prewarmup:\n",
    "            diva.beta = args.beta/args.prewarmup\n",
    "        train_loss, avg_loss_bar, avg_loss_len, avg_loss_col, mtr, atr = train_single_epoch(train_loader, diva, optimizer, epoch)\n",
    "        str_loss_sup = train_loss\n",
    "        epoch_loss_sup.append(train_loss)\n",
    "        str_print = \"epoch {}: avg train loss {:.2f}\".format(epoch, str_loss_sup)\n",
    "        str_print += \", bar train loss {:.3f}\".format(avg_loss_bar)\n",
    "        str_print += \", len train loss {:.3f}\".format(avg_loss_len)\n",
    "        str_print += \", col train loss {:.3f}\".format(avg_loss_col)\n",
    "        print(str_print)\n",
    "\n",
    "        rec_loss_train = diva.rec_alpha * avg_loss_len + diva.rec_beta * avg_loss_bar + diva.rec_gamma * avg_loss_col\n",
    "        dis_loss_train = train_loss - rec_loss_train\n",
    "\n",
    "        test_lss, avg_loss_bar_test, avg_loss_len_test, avg_loss_col_test, mte, ate = test_single_epoch(test_loader, diva, epoch)\n",
    "        test_loss.append(test_lss)\n",
    "       \n",
    "        str_print = \"epoch {}: avg test  loss {:.2f}\".format(epoch, test_lss)\n",
    "        str_print += \", bar  test loss {:.3f}\".format(avg_loss_bar_test)\n",
    "        str_print += \", len  test loss {:.3f}\".format(avg_loss_len_test)\n",
    "        str_print += \", col  test loss {:.3f}\".format(avg_loss_col_test)\n",
    "        print(str_print)\n",
    "\n",
    "        rec_loss_test = diva.rec_alpha * avg_loss_len_test + diva.rec_beta * avg_loss_bar_test + diva.rec_gamma * avg_loss_col_test\n",
    "        dis_loss_test = test_lss - rec_loss_test\n",
    "\n",
    "        if writer is not None:\n",
    "            \n",
    "            writer.add_scalars(\"Total_Loss\", {'train': train_loss, 'test': test_lss} ,epoch)\n",
    "            writer.add_scalars(\"Reconstruction_vs_Disentanglement\",{'rec':rec_loss_train, 'dis':dis_loss_train}, epoch)\n",
    "            writer.add_scalars(\"bar_mse\",{'train': mtr, 'test':mte}, epoch)\n",
    "            writer.add_scalars(\"bar_acc\",{'train': atr, 'test':ate}, epoch)\n",
    "\n",
    "        if epoch % save_interval == 0:\n",
    "            torch.save(diva.state_dict(), f'{link}/saved_models/{save_folder}/checkpoints/{epoch}.pth')\n",
    "            save_reconstructions(epoch, test_loader, diva, name=save_folder)\n",
    "            save_reconstructions(epoch, train_loader, diva, name=save_folder, estr='tr')\n",
    "\n",
    "\n",
    "    if writer is not None:\n",
    "        writer.flush()\n",
    "\n",
    "    epoch_loss_sup = [i.cpu().detach().numpy() for i in epoch_loss_sup]\n",
    "    test_loss = [i.cpu().detach().numpy() for i in test_loss]\n",
    "    return epoch_loss_sup, test_loss"
   ]
  },
  {
   "cell_type": "code",
   "execution_count": 21,
   "metadata": {
    "executionInfo": {
     "elapsed": 9,
     "status": "ok",
     "timestamp": 1647023317082,
     "user": {
      "displayName": "Marko Petkovic",
      "photoUrl": "https://lh3.googleusercontent.com/a-/AOh14Gijd0e9r3I1vRZVN6DEwl16XpJxxS1oSAKunOnfZQ=s64",
      "userId": "11987583535390684770"
     },
     "user_tz": -60
    },
    "id": "XxN8U8YK0Qi1"
   },
   "outputs": [],
   "source": [
    "def save_reconstructions(epoch, test_loader, diva, name='diva', estr=''):\n",
    "    a = next(enumerate(test_loader))\n",
    "    with torch.no_grad():\n",
    "        diva.eval()\n",
    "        d = a[1][2][:10].to(DEVICE).float()\n",
    "        x = a[1][0][:10].to(DEVICE).float()\n",
    "        y = a[1][1][:10].to(DEVICE).float()\n",
    "        x_1, x_1var, x_2, x_2var, x_3, _, _, _ = diva(d,x,y)\n",
    "        out = diva.px.reconstruct_image(x_1, x_1var, x_2, x_2var, x_3)\n",
    "\n",
    "    plt.figure(figsize=(80,20))\n",
    "    fig, ax = plt.subplots(nrows=10, ncols=2)\n",
    "\n",
    "    ax[0,0].set_title(\"Original\")\n",
    "    ax[0,1].set_title(\"Reconstructed\")\n",
    "\n",
    "    for i in range(10):\n",
    "        ax[i, 1].imshow(out[i])\n",
    "        ax[i, 0].imshow(x[i].cpu().permute(1,2,0))\n",
    "        ax[i, 0].xaxis.set_visible(False)\n",
    "        ax[i, 0].yaxis.set_visible(False)\n",
    "        ax[i, 1].xaxis.set_visible(False)\n",
    "        ax[i, 1].yaxis.set_visible(False)\n",
    "    fig.tight_layout(pad=0.1)\n",
    "    plt.savefig(f'{link}/saved_models/{name}/reconstructions/e{epoch}{estr}.png')\n",
    "    plt.close('all')"
   ]
  },
  {
   "cell_type": "code",
   "execution_count": 22,
   "metadata": {
    "colab": {
     "base_uri": "https://localhost:8080/"
    },
    "executionInfo": {
     "elapsed": 8,
     "status": "ok",
     "timestamp": 1647023317082,
     "user": {
      "displayName": "Marko Petkovic",
      "photoUrl": "https://lh3.googleusercontent.com/a-/AOh14Gijd0e9r3I1vRZVN6DEwl16XpJxxS1oSAKunOnfZQ=s64",
      "userId": "11987583535390684770"
     },
     "user_tz": -60
    },
    "id": "YVAD-Mjwh7yq",
    "outputId": "f330c11c-e358-41af-9ef4-bc36c146f907"
   },
   "outputs": [
    {
     "data": {
      "text/plain": [
       "device(type='cuda')"
      ]
     },
     "execution_count": 22,
     "metadata": {},
     "output_type": "execute_result"
    }
   ],
   "source": [
    "DEVICE"
   ]
  },
  {
   "cell_type": "markdown",
   "metadata": {
    "id": "nI4-NzHxjmci"
   },
   "source": [
    "## Model Training"
   ]
  },
  {
   "cell_type": "code",
   "execution_count": 23,
   "metadata": {
    "executionInfo": {
     "elapsed": 4,
     "status": "ok",
     "timestamp": 1647023317083,
     "user": {
      "displayName": "Marko Petkovic",
      "photoUrl": "https://lh3.googleusercontent.com/a-/AOh14Gijd0e9r3I1vRZVN6DEwl16XpJxxS1oSAKunOnfZQ=s64",
      "userId": "11987583535390684770"
     },
     "user_tz": -60
    },
    "id": "sJE0HTJE1ayP"
   },
   "outputs": [],
   "source": [
    "default_args = diva_args(z_dim=1600, rec_alpha = 100, rec_beta = 10, rec_gamma = 10, \n",
    "                         beta=1, warmup=1, prewarmup=0)"
   ]
  },
  {
   "cell_type": "code",
   "execution_count": 24,
   "metadata": {
    "colab": {
     "base_uri": "https://localhost:8080/",
     "height": 0
    },
    "executionInfo": {
     "elapsed": 1182,
     "status": "error",
     "timestamp": 1647023318262,
     "user": {
      "displayName": "Marko Petkovic",
      "photoUrl": "https://lh3.googleusercontent.com/a-/AOh14Gijd0e9r3I1vRZVN6DEwl16XpJxxS1oSAKunOnfZQ=s64",
      "userId": "11987583535390684770"
     },
     "user_tz": -60
    },
    "id": "kxIMSeUD1949",
    "outputId": "45991358-df3b-4e61-9d8a-c48b71b9fa49"
   },
   "outputs": [],
   "source": [
    "diva = StampDIVA(default_args).to(DEVICE)"
   ]
  },
  {
   "cell_type": "code",
   "execution_count": 26,
   "metadata": {
    "executionInfo": {
     "elapsed": 6,
     "status": "aborted",
     "timestamp": 1647023318259,
     "user": {
      "displayName": "Marko Petkovic",
      "photoUrl": "https://lh3.googleusercontent.com/a-/AOh14Gijd0e9r3I1vRZVN6DEwl16XpJxxS1oSAKunOnfZQ=s64",
      "userId": "11987583535390684770"
     },
     "user_tz": -60
    },
    "id": "PUHyoMi7iwJC"
   },
   "outputs": [
    {
     "data": {
      "text/plain": [
       "<All keys matched successfully>"
      ]
     },
     "execution_count": 26,
     "metadata": {},
     "output_type": "execute_result"
    }
   ],
   "source": [
    "diva.load_state_dict(torch.load(f'{link}/saved_models/VAE10/checkpoints/905.pth'))"
   ]
  },
  {
   "cell_type": "code",
   "execution_count": 27,
   "metadata": {
    "executionInfo": {
     "elapsed": 6,
     "status": "aborted",
     "timestamp": 1647023318260,
     "user": {
      "displayName": "Marko Petkovic",
      "photoUrl": "https://lh3.googleusercontent.com/a-/AOh14Gijd0e9r3I1vRZVN6DEwl16XpJxxS1oSAKunOnfZQ=s64",
      "userId": "11987583535390684770"
     },
     "user_tz": -60
    },
    "id": "48B39rFl79Yh"
   },
   "outputs": [],
   "source": [
    "train_loader = DataLoader(RNA_dataset, batch_size=128, shuffle=True)\n",
    "test_loader = DataLoader(RNA_dataset_test, batch_size=128)"
   ]
  },
  {
   "cell_type": "code",
   "execution_count": 28,
   "metadata": {
    "executionInfo": {
     "elapsed": 7,
     "status": "aborted",
     "timestamp": 1647023318261,
     "user": {
      "displayName": "Marko Petkovic",
      "photoUrl": "https://lh3.googleusercontent.com/a-/AOh14Gijd0e9r3I1vRZVN6DEwl16XpJxxS1oSAKunOnfZQ=s64",
      "userId": "11987583535390684770"
     },
     "user_tz": -60
    },
    "id": "J6y2Ek2677z1"
   },
   "outputs": [],
   "source": [
    "optimizer = optim.Adam(diva.parameters(), lr=0.001)"
   ]
  },
  {
   "cell_type": "code",
   "execution_count": 29,
   "metadata": {},
   "outputs": [
    {
     "data": {
      "text/plain": [
       "(10, 100)"
      ]
     },
     "execution_count": 29,
     "metadata": {},
     "output_type": "execute_result"
    }
   ],
   "source": [
    "RNA_dataset.x_len.min(), RNA_dataset.x_len.max()"
   ]
  },
  {
   "cell_type": "code",
   "execution_count": 30,
   "metadata": {
    "executionInfo": {
     "elapsed": 7,
     "status": "aborted",
     "timestamp": 1647023318261,
     "user": {
      "displayName": "Marko Petkovic",
      "photoUrl": "https://lh3.googleusercontent.com/a-/AOh14Gijd0e9r3I1vRZVN6DEwl16XpJxxS1oSAKunOnfZQ=s64",
      "userId": "11987583535390684770"
     },
     "user_tz": -60
    },
    "id": "vQGakzXN6V-Y",
    "scrolled": false
   },
   "outputs": [
    {
     "data": {
      "text/plain": [
       "Reusing TensorBoard on port 6006 (pid 25540), started 10:38:13 ago. (Use '!kill 25540' to kill it.)"
      ]
     },
     "metadata": {},
     "output_type": "display_data"
    },
    {
     "data": {
      "text/html": [
       "\n",
       "      <iframe id=\"tensorboard-frame-eb1db1171c067b56\" width=\"100%\" height=\"800\" frameborder=\"0\">\n",
       "      </iframe>\n",
       "      <script>\n",
       "        (function() {\n",
       "          const frame = document.getElementById(\"tensorboard-frame-eb1db1171c067b56\");\n",
       "          const url = new URL(\"/\", window.location);\n",
       "          const port = 6006;\n",
       "          if (port) {\n",
       "            url.port = port;\n",
       "          }\n",
       "          frame.src = url;\n",
       "        })();\n",
       "      </script>\n",
       "    "
      ],
      "text/plain": [
       "<IPython.core.display.HTML object>"
      ]
     },
     "metadata": {},
     "output_type": "display_data"
    }
   ],
   "source": [
    "%tensorboard --logdir=\"D:/users/Marko/downloads/mirna/saved_models/VAE10/tensorboard/\""
   ]
  },
  {
   "cell_type": "code",
   "execution_count": 31,
   "metadata": {
    "executionInfo": {
     "elapsed": 8,
     "status": "aborted",
     "timestamp": 1647023318262,
     "user": {
      "displayName": "Marko Petkovic",
      "photoUrl": "https://lh3.googleusercontent.com/a-/AOh14Gijd0e9r3I1vRZVN6DEwl16XpJxxS1oSAKunOnfZQ=s64",
      "userId": "11987583535390684770"
     },
     "user_tz": -60
    },
    "id": "0m47XoL87oLs",
    "scrolled": true
   },
   "outputs": [
    {
     "name": "stderr",
     "output_type": "stream",
     "text": [
      "Epoch 909: 272batch [00:22, 11.84batch/s, loss=1.58e+3]\n"
     ]
    },
    {
     "name": "stdout",
     "output_type": "stream",
     "text": [
      "epoch 909: avg train loss 1686.52, bar train loss 3.958, len train loss 0.040, col train loss 160.847\n",
      "epoch 909: avg test  loss 1691.70, bar  test loss 3.914, len  test loss 0.042, col  test loss 160.226\n"
     ]
    },
    {
     "name": "stderr",
     "output_type": "stream",
     "text": [
      "Epoch 910: 272batch [00:19, 13.88batch/s, loss=1.59e+3]\n"
     ]
    },
    {
     "name": "stdout",
     "output_type": "stream",
     "text": [
      "epoch 910: avg train loss 1684.21, bar train loss 3.735, len train loss 0.042, col train loss 160.873\n",
      "epoch 910: avg test  loss 1695.67, bar  test loss 3.574, len  test loss 0.041, col  test loss 162.299\n"
     ]
    },
    {
     "name": "stderr",
     "output_type": "stream",
     "text": [
      "Epoch 911: 272batch [00:19, 14.01batch/s, loss=1.91e+3]\n"
     ]
    },
    {
     "name": "stdout",
     "output_type": "stream",
     "text": [
      "epoch 911: avg train loss 1684.06, bar train loss 3.654, len train loss 0.044, col train loss 161.095\n"
     ]
    },
    {
     "name": "stderr",
     "output_type": "stream",
     "text": [
      "Epoch 912: 2batch [00:00, 13.33batch/s, loss=1.62e+3]"
     ]
    },
    {
     "name": "stdout",
     "output_type": "stream",
     "text": [
      "epoch 911: avg test  loss 1695.76, bar  test loss 4.290, len  test loss 0.061, col  test loss 161.150\n"
     ]
    },
    {
     "name": "stderr",
     "output_type": "stream",
     "text": [
      "Epoch 912: 272batch [00:19, 14.14batch/s, loss=1.9e+3] \n"
     ]
    },
    {
     "name": "stdout",
     "output_type": "stream",
     "text": [
      "epoch 912: avg train loss 1691.45, bar train loss 3.892, len train loss 0.051, col train loss 161.524\n"
     ]
    },
    {
     "name": "stderr",
     "output_type": "stream",
     "text": [
      "Epoch 913: 2batch [00:00, 13.70batch/s, loss=1.66e+3]"
     ]
    },
    {
     "name": "stdout",
     "output_type": "stream",
     "text": [
      "epoch 912: avg test  loss 1694.97, bar  test loss 3.795, len  test loss 0.087, col  test loss 160.456\n"
     ]
    },
    {
     "name": "stderr",
     "output_type": "stream",
     "text": [
      "Epoch 913: 272batch [00:19, 14.03batch/s, loss=1.88e+3]\n"
     ]
    },
    {
     "name": "stdout",
     "output_type": "stream",
     "text": [
      "epoch 913: avg train loss 1701.38, bar train loss 4.087, len train loss 0.070, col train loss 161.382\n"
     ]
    },
    {
     "name": "stderr",
     "output_type": "stream",
     "text": [
      "Epoch 914: 2batch [00:00, 14.60batch/s, loss=1.69e+3]"
     ]
    },
    {
     "name": "stdout",
     "output_type": "stream",
     "text": [
      "epoch 913: avg test  loss 1698.37, bar  test loss 4.138, len  test loss 0.058, col  test loss 161.952\n"
     ]
    },
    {
     "name": "stderr",
     "output_type": "stream",
     "text": [
      "Epoch 914: 272batch [00:19, 14.11batch/s, loss=1.8e+3] \n"
     ]
    },
    {
     "name": "stdout",
     "output_type": "stream",
     "text": [
      "epoch 914: avg train loss 1700.18, bar train loss 3.995, len train loss 0.052, col train loss 161.947\n"
     ]
    },
    {
     "name": "stderr",
     "output_type": "stream",
     "text": [
      "Epoch 915: 2batch [00:00, 14.81batch/s, loss=1.67e+3]"
     ]
    },
    {
     "name": "stdout",
     "output_type": "stream",
     "text": [
      "epoch 914: avg test  loss 1698.29, bar  test loss 3.765, len  test loss 0.053, col  test loss 162.024\n"
     ]
    },
    {
     "name": "stderr",
     "output_type": "stream",
     "text": [
      "Epoch 915: 272batch [00:18, 14.52batch/s, loss=1.89e+3]\n"
     ]
    },
    {
     "name": "stdout",
     "output_type": "stream",
     "text": [
      "epoch 915: avg train loss 1689.12, bar train loss 3.753, len train loss 0.044, col train loss 161.229\n",
      "epoch 915: avg test  loss 1698.83, bar  test loss 4.219, len  test loss 0.038, col  test loss 161.773\n"
     ]
    },
    {
     "name": "stderr",
     "output_type": "stream",
     "text": [
      "Epoch 916: 272batch [00:18, 14.64batch/s, loss=1.88e+3]\n"
     ]
    },
    {
     "name": "stdout",
     "output_type": "stream",
     "text": [
      "epoch 916: avg train loss 1693.13, bar train loss 3.815, len train loss 0.040, col train loss 162.191\n"
     ]
    },
    {
     "name": "stderr",
     "output_type": "stream",
     "text": [
      "Epoch 917: 2batch [00:00, 14.81batch/s, loss=1.69e+3]"
     ]
    },
    {
     "name": "stdout",
     "output_type": "stream",
     "text": [
      "epoch 916: avg test  loss 1688.55, bar  test loss 3.782, len  test loss 0.039, col  test loss 161.974\n"
     ]
    },
    {
     "name": "stderr",
     "output_type": "stream",
     "text": [
      "Epoch 917: 272batch [00:18, 14.52batch/s, loss=1.7e+3] \n"
     ]
    },
    {
     "name": "stdout",
     "output_type": "stream",
     "text": [
      "epoch 917: avg train loss 1690.17, bar train loss 3.797, len train loss 0.039, col train loss 161.895\n"
     ]
    },
    {
     "name": "stderr",
     "output_type": "stream",
     "text": [
      "Epoch 918: 2batch [00:00, 14.39batch/s, loss=1.63e+3]"
     ]
    },
    {
     "name": "stdout",
     "output_type": "stream",
     "text": [
      "epoch 917: avg test  loss 1685.99, bar  test loss 3.842, len  test loss 0.035, col  test loss 161.176\n"
     ]
    },
    {
     "name": "stderr",
     "output_type": "stream",
     "text": [
      "Epoch 918: 272batch [00:18, 14.41batch/s, loss=1.76e+3]\n"
     ]
    },
    {
     "name": "stdout",
     "output_type": "stream",
     "text": [
      "epoch 918: avg train loss 1689.01, bar train loss 3.744, len train loss 0.038, col train loss 161.780\n"
     ]
    },
    {
     "name": "stderr",
     "output_type": "stream",
     "text": [
      "Epoch 919: 2batch [00:00, 13.99batch/s, loss=1.7e+3]"
     ]
    },
    {
     "name": "stdout",
     "output_type": "stream",
     "text": [
      "epoch 918: avg test  loss 1689.17, bar  test loss 3.752, len  test loss 0.037, col  test loss 162.049\n"
     ]
    },
    {
     "name": "stderr",
     "output_type": "stream",
     "text": [
      "Epoch 919: 272batch [00:19, 14.29batch/s, loss=1.85e+3]\n"
     ]
    },
    {
     "name": "stdout",
     "output_type": "stream",
     "text": [
      "epoch 919: avg train loss 1687.01, bar train loss 3.817, len train loss 0.039, col train loss 161.557\n"
     ]
    },
    {
     "name": "stderr",
     "output_type": "stream",
     "text": [
      "Epoch 920: 2batch [00:00, 13.42batch/s, loss=1.69e+3]"
     ]
    },
    {
     "name": "stdout",
     "output_type": "stream",
     "text": [
      "epoch 919: avg test  loss 1686.64, bar  test loss 3.660, len  test loss 0.038, col  test loss 161.348\n"
     ]
    },
    {
     "name": "stderr",
     "output_type": "stream",
     "text": [
      "Epoch 920: 272batch [00:18, 14.32batch/s, loss=1.59e+3]\n"
     ]
    },
    {
     "name": "stdout",
     "output_type": "stream",
     "text": [
      "epoch 920: avg train loss 1688.80, bar train loss 3.849, len train loss 0.041, col train loss 161.412\n",
      "epoch 920: avg test  loss 1687.76, bar  test loss 3.888, len  test loss 0.036, col  test loss 161.516\n"
     ]
    },
    {
     "name": "stderr",
     "output_type": "stream",
     "text": [
      "Epoch 921: 272batch [00:19, 14.32batch/s, loss=1.84e+3]\n"
     ]
    },
    {
     "name": "stdout",
     "output_type": "stream",
     "text": [
      "epoch 921: avg train loss 1685.56, bar train loss 3.929, len train loss 0.038, col train loss 160.842\n"
     ]
    },
    {
     "name": "stderr",
     "output_type": "stream",
     "text": [
      "Epoch 922: 2batch [00:00, 14.71batch/s, loss=1.65e+3]"
     ]
    },
    {
     "name": "stdout",
     "output_type": "stream",
     "text": [
      "epoch 921: avg test  loss 1683.99, bar  test loss 3.773, len  test loss 0.040, col  test loss 160.808\n"
     ]
    },
    {
     "name": "stderr",
     "output_type": "stream",
     "text": [
      "Epoch 922: 272batch [00:19, 13.95batch/s, loss=1.87e+3]\n"
     ]
    },
    {
     "name": "stdout",
     "output_type": "stream",
     "text": [
      "epoch 922: avg train loss 1687.33, bar train loss 3.673, len train loss 0.039, col train loss 161.265\n"
     ]
    },
    {
     "name": "stderr",
     "output_type": "stream",
     "text": [
      "Epoch 923: 2batch [00:00, 14.08batch/s, loss=1.63e+3]"
     ]
    },
    {
     "name": "stdout",
     "output_type": "stream",
     "text": [
      "epoch 922: avg test  loss 1685.80, bar  test loss 3.602, len  test loss 0.036, col  test loss 161.117\n"
     ]
    },
    {
     "name": "stderr",
     "output_type": "stream",
     "text": [
      "Epoch 923: 272batch [00:19, 13.78batch/s, loss=1.76e+3]\n"
     ]
    },
    {
     "name": "stdout",
     "output_type": "stream",
     "text": [
      "epoch 923: avg train loss 1687.94, bar train loss 3.723, len train loss 0.037, col train loss 161.236\n"
     ]
    },
    {
     "name": "stderr",
     "output_type": "stream",
     "text": [
      "Epoch 924: 2batch [00:00, 13.79batch/s, loss=1.67e+3]"
     ]
    },
    {
     "name": "stdout",
     "output_type": "stream",
     "text": [
      "epoch 923: avg test  loss 1682.89, bar  test loss 3.616, len  test loss 0.040, col  test loss 161.093\n"
     ]
    },
    {
     "name": "stderr",
     "output_type": "stream",
     "text": [
      "Epoch 924: 272batch [00:19, 14.14batch/s, loss=2.02e+3]\n"
     ]
    },
    {
     "name": "stdout",
     "output_type": "stream",
     "text": [
      "epoch 924: avg train loss 1684.46, bar train loss 3.699, len train loss 0.039, col train loss 161.245\n"
     ]
    },
    {
     "name": "stderr",
     "output_type": "stream",
     "text": [
      "Epoch 925: 2batch [00:00, 13.16batch/s, loss=1.65e+3]"
     ]
    },
    {
     "name": "stdout",
     "output_type": "stream",
     "text": [
      "epoch 924: avg test  loss 1692.01, bar  test loss 3.871, len  test loss 0.040, col  test loss 161.861\n"
     ]
    },
    {
     "name": "stderr",
     "output_type": "stream",
     "text": [
      "Epoch 925: 272batch [00:19, 14.27batch/s, loss=1.64e+3]\n"
     ]
    },
    {
     "name": "stdout",
     "output_type": "stream",
     "text": [
      "epoch 925: avg train loss 1688.96, bar train loss 3.891, len train loss 0.039, col train loss 161.354\n",
      "epoch 925: avg test  loss 1695.82, bar  test loss 4.148, len  test loss 0.038, col  test loss 161.585\n"
     ]
    },
    {
     "name": "stderr",
     "output_type": "stream",
     "text": [
      "Epoch 926: 272batch [00:18, 14.36batch/s, loss=1.79e+3]\n"
     ]
    },
    {
     "name": "stdout",
     "output_type": "stream",
     "text": [
      "epoch 926: avg train loss 1687.98, bar train loss 3.886, len train loss 0.039, col train loss 161.162\n"
     ]
    },
    {
     "name": "stderr",
     "output_type": "stream",
     "text": [
      "Epoch 927: 2batch [00:00, 14.49batch/s, loss=1.7e+3]"
     ]
    },
    {
     "name": "stdout",
     "output_type": "stream",
     "text": [
      "epoch 926: avg test  loss 1689.65, bar  test loss 3.965, len  test loss 0.046, col  test loss 161.155\n"
     ]
    },
    {
     "name": "stderr",
     "output_type": "stream",
     "text": [
      "Epoch 927: 272batch [00:18, 14.37batch/s, loss=1.96e+3]\n"
     ]
    },
    {
     "name": "stdout",
     "output_type": "stream",
     "text": [
      "epoch 927: avg train loss 1686.64, bar train loss 3.823, len train loss 0.052, col train loss 160.895\n"
     ]
    },
    {
     "name": "stderr",
     "output_type": "stream",
     "text": [
      "Epoch 928: 2batch [00:00, 14.60batch/s, loss=1.76e+3]"
     ]
    },
    {
     "name": "stdout",
     "output_type": "stream",
     "text": [
      "epoch 927: avg test  loss 1699.39, bar  test loss 4.228, len  test loss 0.046, col  test loss 161.099\n"
     ]
    },
    {
     "name": "stderr",
     "output_type": "stream",
     "text": [
      "Epoch 928: 272batch [00:18, 14.32batch/s, loss=1.89e+3]\n"
     ]
    },
    {
     "name": "stdout",
     "output_type": "stream",
     "text": [
      "epoch 928: avg train loss 1690.65, bar train loss 3.786, len train loss 0.046, col train loss 160.765\n"
     ]
    },
    {
     "name": "stderr",
     "output_type": "stream",
     "text": [
      "Epoch 929: 2batch [00:00, 14.39batch/s, loss=1.57e+3]"
     ]
    },
    {
     "name": "stdout",
     "output_type": "stream",
     "text": [
      "epoch 928: avg test  loss 1682.66, bar  test loss 3.766, len  test loss 0.047, col  test loss 160.158\n"
     ]
    },
    {
     "name": "stderr",
     "output_type": "stream",
     "text": [
      "Epoch 929: 272batch [00:19, 14.31batch/s, loss=1.79e+3]\n"
     ]
    },
    {
     "name": "stdout",
     "output_type": "stream",
     "text": [
      "epoch 929: avg train loss 1686.68, bar train loss 3.819, len train loss 0.049, col train loss 160.586\n"
     ]
    },
    {
     "name": "stderr",
     "output_type": "stream",
     "text": [
      "Epoch 930: 2batch [00:00, 13.99batch/s, loss=1.75e+3]"
     ]
    },
    {
     "name": "stdout",
     "output_type": "stream",
     "text": [
      "epoch 929: avg test  loss 1687.55, bar  test loss 3.802, len  test loss 0.036, col  test loss 160.842\n"
     ]
    },
    {
     "name": "stderr",
     "output_type": "stream",
     "text": [
      "Epoch 930: 272batch [00:19, 13.97batch/s, loss=1.69e+3]\n"
     ]
    },
    {
     "name": "stdout",
     "output_type": "stream",
     "text": [
      "epoch 930: avg train loss 1685.65, bar train loss 3.854, len train loss 0.040, col train loss 161.016\n",
      "epoch 930: avg test  loss 1685.61, bar  test loss 3.969, len  test loss 0.037, col  test loss 161.113\n"
     ]
    },
    {
     "name": "stderr",
     "output_type": "stream",
     "text": [
      "Epoch 931: 272batch [00:19, 13.91batch/s, loss=1.89e+3]\n"
     ]
    },
    {
     "name": "stdout",
     "output_type": "stream",
     "text": [
      "epoch 931: avg train loss 1683.98, bar train loss 3.801, len train loss 0.039, col train loss 160.960\n"
     ]
    },
    {
     "name": "stderr",
     "output_type": "stream",
     "text": [
      "Epoch 932: 2batch [00:00, 14.60batch/s, loss=1.64e+3]"
     ]
    },
    {
     "name": "stdout",
     "output_type": "stream",
     "text": [
      "epoch 931: avg test  loss 1685.90, bar  test loss 3.818, len  test loss 0.052, col  test loss 161.066\n"
     ]
    },
    {
     "name": "stderr",
     "output_type": "stream",
     "text": [
      "Epoch 932: 272batch [00:19, 14.16batch/s, loss=1.98e+3]\n"
     ]
    },
    {
     "name": "stdout",
     "output_type": "stream",
     "text": [
      "epoch 932: avg train loss 1688.46, bar train loss 3.826, len train loss 0.041, col train loss 161.277\n"
     ]
    },
    {
     "name": "stderr",
     "output_type": "stream",
     "text": [
      "Epoch 933: 2batch [00:00, 14.39batch/s, loss=1.66e+3]"
     ]
    },
    {
     "name": "stdout",
     "output_type": "stream",
     "text": [
      "epoch 932: avg test  loss 1710.41, bar  test loss 4.600, len  test loss 0.043, col  test loss 162.818\n"
     ]
    },
    {
     "name": "stderr",
     "output_type": "stream",
     "text": [
      "Epoch 933: 272batch [00:19, 14.25batch/s, loss=1.75e+3]\n"
     ]
    },
    {
     "name": "stdout",
     "output_type": "stream",
     "text": [
      "epoch 933: avg train loss 1687.99, bar train loss 3.942, len train loss 0.047, col train loss 160.901\n"
     ]
    },
    {
     "name": "stderr",
     "output_type": "stream",
     "text": [
      "Epoch 934: 2batch [00:00, 14.29batch/s, loss=1.69e+3]"
     ]
    },
    {
     "name": "stdout",
     "output_type": "stream",
     "text": [
      "epoch 933: avg test  loss 1682.27, bar  test loss 3.746, len  test loss 0.037, col  test loss 160.710\n"
     ]
    },
    {
     "name": "stderr",
     "output_type": "stream",
     "text": [
      "Epoch 934: 272batch [00:18, 14.33batch/s, loss=1.97e+3]\n"
     ]
    },
    {
     "name": "stdout",
     "output_type": "stream",
     "text": [
      "epoch 934: avg train loss 1691.00, bar train loss 4.095, len train loss 0.047, col train loss 161.014\n"
     ]
    },
    {
     "name": "stderr",
     "output_type": "stream",
     "text": [
      "Epoch 935: 2batch [00:00, 14.60batch/s, loss=1.71e+3]"
     ]
    },
    {
     "name": "stdout",
     "output_type": "stream",
     "text": [
      "epoch 934: avg test  loss 1690.84, bar  test loss 3.923, len  test loss 0.038, col  test loss 161.966\n"
     ]
    },
    {
     "name": "stderr",
     "output_type": "stream",
     "text": [
      "Epoch 935: 272batch [00:19, 14.26batch/s, loss=1.88e+3]\n"
     ]
    },
    {
     "name": "stdout",
     "output_type": "stream",
     "text": [
      "epoch 935: avg train loss 1694.26, bar train loss 3.931, len train loss 0.047, col train loss 161.296\n",
      "epoch 935: avg test  loss 1704.46, bar  test loss 3.958, len  test loss 0.041, col  test loss 161.384\n"
     ]
    },
    {
     "name": "stderr",
     "output_type": "stream",
     "text": [
      "Epoch 936: 272batch [00:19, 14.04batch/s, loss=1.64e+3]\n"
     ]
    },
    {
     "name": "stdout",
     "output_type": "stream",
     "text": [
      "epoch 936: avg train loss 1685.11, bar train loss 3.772, len train loss 0.038, col train loss 160.881\n"
     ]
    },
    {
     "name": "stderr",
     "output_type": "stream",
     "text": [
      "Epoch 937: 2batch [00:00, 14.08batch/s, loss=1.64e+3]"
     ]
    },
    {
     "name": "stdout",
     "output_type": "stream",
     "text": [
      "epoch 936: avg test  loss 1682.89, bar  test loss 3.772, len  test loss 0.035, col  test loss 160.977\n"
     ]
    },
    {
     "name": "stderr",
     "output_type": "stream",
     "text": [
      "Epoch 937: 272batch [00:19, 13.94batch/s, loss=1.8e+3] \n"
     ]
    },
    {
     "name": "stdout",
     "output_type": "stream",
     "text": [
      "epoch 937: avg train loss 1686.51, bar train loss 3.771, len train loss 0.039, col train loss 160.949\n"
     ]
    },
    {
     "name": "stderr",
     "output_type": "stream",
     "text": [
      "Epoch 938: 2batch [00:00, 14.49batch/s, loss=1.65e+3]"
     ]
    },
    {
     "name": "stdout",
     "output_type": "stream",
     "text": [
      "epoch 937: avg test  loss 1681.18, bar  test loss 3.775, len  test loss 0.040, col  test loss 159.867\n"
     ]
    },
    {
     "name": "stderr",
     "output_type": "stream",
     "text": [
      "Epoch 938: 272batch [00:19, 14.06batch/s, loss=1.91e+3]\n"
     ]
    },
    {
     "name": "stdout",
     "output_type": "stream",
     "text": [
      "epoch 938: avg train loss 1685.49, bar train loss 3.829, len train loss 0.039, col train loss 160.493\n"
     ]
    },
    {
     "name": "stderr",
     "output_type": "stream",
     "text": [
      "Epoch 939: 2batch [00:00, 14.71batch/s, loss=1.57e+3]"
     ]
    },
    {
     "name": "stdout",
     "output_type": "stream",
     "text": [
      "epoch 938: avg test  loss 1678.54, bar  test loss 3.727, len  test loss 0.038, col  test loss 160.038\n"
     ]
    },
    {
     "name": "stderr",
     "output_type": "stream",
     "text": [
      "Epoch 939: 272batch [00:18, 14.40batch/s, loss=1.72e+3]\n"
     ]
    },
    {
     "name": "stdout",
     "output_type": "stream",
     "text": [
      "epoch 939: avg train loss 1683.48, bar train loss 3.797, len train loss 0.038, col train loss 160.883\n"
     ]
    },
    {
     "name": "stderr",
     "output_type": "stream",
     "text": [
      "Epoch 940: 2batch [00:00, 14.49batch/s, loss=1.67e+3]"
     ]
    },
    {
     "name": "stdout",
     "output_type": "stream",
     "text": [
      "epoch 939: avg test  loss 1686.63, bar  test loss 3.741, len  test loss 0.046, col  test loss 161.096\n"
     ]
    },
    {
     "name": "stderr",
     "output_type": "stream",
     "text": [
      "Epoch 940: 272batch [00:18, 14.45batch/s, loss=2e+3]   \n"
     ]
    },
    {
     "name": "stdout",
     "output_type": "stream",
     "text": [
      "epoch 940: avg train loss 1679.96, bar train loss 3.740, len train loss 0.037, col train loss 160.547\n",
      "epoch 940: avg test  loss 1679.84, bar  test loss 3.882, len  test loss 0.041, col  test loss 160.433\n"
     ]
    },
    {
     "name": "stderr",
     "output_type": "stream",
     "text": [
      "Epoch 941: 272batch [00:18, 14.41batch/s, loss=1.86e+3]\n"
     ]
    },
    {
     "name": "stdout",
     "output_type": "stream",
     "text": [
      "epoch 941: avg train loss 1687.73, bar train loss 3.929, len train loss 0.043, col train loss 160.841\n"
     ]
    },
    {
     "name": "stderr",
     "output_type": "stream",
     "text": [
      "Epoch 942: 2batch [00:00, 14.29batch/s, loss=1.7e+3]"
     ]
    },
    {
     "name": "stdout",
     "output_type": "stream",
     "text": [
      "epoch 941: avg test  loss 1687.86, bar  test loss 3.952, len  test loss 0.041, col  test loss 161.068\n"
     ]
    },
    {
     "name": "stderr",
     "output_type": "stream",
     "text": [
      "Epoch 942: 272batch [00:18, 14.35batch/s, loss=1.89e+3]\n"
     ]
    },
    {
     "name": "stdout",
     "output_type": "stream",
     "text": [
      "epoch 942: avg train loss 1691.83, bar train loss 4.152, len train loss 0.043, col train loss 160.530\n"
     ]
    },
    {
     "name": "stderr",
     "output_type": "stream",
     "text": [
      "Epoch 943: 2batch [00:00, 14.60batch/s, loss=1.72e+3]"
     ]
    },
    {
     "name": "stdout",
     "output_type": "stream",
     "text": [
      "epoch 942: avg test  loss 1687.08, bar  test loss 4.051, len  test loss 0.052, col  test loss 160.747\n"
     ]
    },
    {
     "name": "stderr",
     "output_type": "stream",
     "text": [
      "Epoch 943: 272batch [00:18, 14.44batch/s, loss=1.63e+3]\n"
     ]
    },
    {
     "name": "stdout",
     "output_type": "stream",
     "text": [
      "epoch 943: avg train loss 1692.21, bar train loss 4.138, len train loss 0.038, col train loss 160.919\n"
     ]
    },
    {
     "name": "stderr",
     "output_type": "stream",
     "text": [
      "Epoch 944: 2batch [00:00, 14.49batch/s, loss=1.71e+3]"
     ]
    },
    {
     "name": "stdout",
     "output_type": "stream",
     "text": [
      "epoch 943: avg test  loss 1693.21, bar  test loss 3.816, len  test loss 0.036, col  test loss 161.584\n"
     ]
    },
    {
     "name": "stderr",
     "output_type": "stream",
     "text": [
      "Epoch 944: 272batch [00:18, 14.38batch/s, loss=1.74e+3]\n"
     ]
    },
    {
     "name": "stdout",
     "output_type": "stream",
     "text": [
      "epoch 944: avg train loss 1685.31, bar train loss 3.755, len train loss 0.037, col train loss 161.205\n"
     ]
    },
    {
     "name": "stderr",
     "output_type": "stream",
     "text": [
      "Epoch 945: 2batch [00:00, 14.49batch/s, loss=1.71e+3]"
     ]
    },
    {
     "name": "stdout",
     "output_type": "stream",
     "text": [
      "epoch 944: avg test  loss 1681.56, bar  test loss 3.707, len  test loss 0.039, col  test loss 160.808\n"
     ]
    },
    {
     "name": "stderr",
     "output_type": "stream",
     "text": [
      "Epoch 945: 272batch [00:19, 13.96batch/s, loss=1.78e+3]\n"
     ]
    },
    {
     "name": "stdout",
     "output_type": "stream",
     "text": [
      "epoch 945: avg train loss 1688.11, bar train loss 3.783, len train loss 0.037, col train loss 161.247\n",
      "epoch 945: avg test  loss 1686.12, bar  test loss 3.822, len  test loss 0.044, col  test loss 161.198\n"
     ]
    },
    {
     "name": "stderr",
     "output_type": "stream",
     "text": [
      "Epoch 946: 272batch [00:18, 14.45batch/s, loss=1.75e+3]\n"
     ]
    },
    {
     "name": "stdout",
     "output_type": "stream",
     "text": [
      "epoch 946: avg train loss 1687.91, bar train loss 3.807, len train loss 0.038, col train loss 161.432\n"
     ]
    },
    {
     "name": "stderr",
     "output_type": "stream",
     "text": [
      "Epoch 947: 2batch [00:00, 14.60batch/s, loss=1.72e+3]"
     ]
    },
    {
     "name": "stdout",
     "output_type": "stream",
     "text": [
      "epoch 946: avg test  loss 1694.64, bar  test loss 3.962, len  test loss 0.039, col  test loss 161.535\n"
     ]
    },
    {
     "name": "stderr",
     "output_type": "stream",
     "text": [
      "Epoch 947: 272batch [00:18, 14.37batch/s, loss=1.77e+3]\n"
     ]
    },
    {
     "name": "stdout",
     "output_type": "stream",
     "text": [
      "epoch 947: avg train loss 1697.02, bar train loss 4.100, len train loss 0.040, col train loss 162.119\n"
     ]
    },
    {
     "name": "stderr",
     "output_type": "stream",
     "text": [
      "Epoch 948: 2batch [00:00, 14.49batch/s, loss=1.61e+3]"
     ]
    },
    {
     "name": "stdout",
     "output_type": "stream",
     "text": [
      "epoch 947: avg test  loss 1694.29, bar  test loss 3.917, len  test loss 0.053, col  test loss 161.290\n"
     ]
    },
    {
     "name": "stderr",
     "output_type": "stream",
     "text": [
      "Epoch 948: 272batch [00:18, 14.36batch/s, loss=1.83e+3]\n"
     ]
    },
    {
     "name": "stdout",
     "output_type": "stream",
     "text": [
      "epoch 948: avg train loss 1687.83, bar train loss 4.064, len train loss 0.039, col train loss 161.214\n"
     ]
    },
    {
     "name": "stderr",
     "output_type": "stream",
     "text": [
      "Epoch 949: 2batch [00:00, 14.49batch/s, loss=1.65e+3]"
     ]
    },
    {
     "name": "stdout",
     "output_type": "stream",
     "text": [
      "epoch 948: avg test  loss 1690.07, bar  test loss 4.041, len  test loss 0.033, col  test loss 162.080\n"
     ]
    },
    {
     "name": "stderr",
     "output_type": "stream",
     "text": [
      "Epoch 949: 272batch [00:19, 14.24batch/s, loss=1.82e+3]\n"
     ]
    },
    {
     "name": "stdout",
     "output_type": "stream",
     "text": [
      "epoch 949: avg train loss 1689.06, bar train loss 3.985, len train loss 0.041, col train loss 161.214\n"
     ]
    },
    {
     "name": "stderr",
     "output_type": "stream",
     "text": [
      "Epoch 950: 2batch [00:00, 14.49batch/s, loss=1.64e+3]"
     ]
    },
    {
     "name": "stdout",
     "output_type": "stream",
     "text": [
      "epoch 949: avg test  loss 1689.00, bar  test loss 4.112, len  test loss 0.036, col  test loss 161.370\n"
     ]
    },
    {
     "name": "stderr",
     "output_type": "stream",
     "text": [
      "Epoch 950: 272batch [00:18, 14.35batch/s, loss=1.77e+3]\n"
     ]
    },
    {
     "name": "stdout",
     "output_type": "stream",
     "text": [
      "epoch 950: avg train loss 1687.60, bar train loss 3.824, len train loss 0.042, col train loss 161.064\n",
      "epoch 950: avg test  loss 1694.04, bar  test loss 3.876, len  test loss 0.036, col  test loss 162.410\n"
     ]
    },
    {
     "name": "stderr",
     "output_type": "stream",
     "text": [
      "Epoch 951: 272batch [00:19, 14.03batch/s, loss=1.86e+3]\n"
     ]
    },
    {
     "name": "stdout",
     "output_type": "stream",
     "text": [
      "epoch 951: avg train loss 1690.43, bar train loss 3.840, len train loss 0.049, col train loss 161.441\n"
     ]
    },
    {
     "name": "stderr",
     "output_type": "stream",
     "text": [
      "Epoch 952: 2batch [00:00, 14.49batch/s, loss=1.72e+3]"
     ]
    },
    {
     "name": "stdout",
     "output_type": "stream",
     "text": [
      "epoch 951: avg test  loss 1695.14, bar  test loss 4.018, len  test loss 0.061, col  test loss 162.238\n"
     ]
    },
    {
     "name": "stderr",
     "output_type": "stream",
     "text": [
      "Epoch 952: 272batch [00:18, 14.47batch/s, loss=1.97e+3]\n"
     ]
    },
    {
     "name": "stdout",
     "output_type": "stream",
     "text": [
      "epoch 952: avg train loss 1698.07, bar train loss 4.002, len train loss 0.056, col train loss 162.106\n"
     ]
    },
    {
     "name": "stderr",
     "output_type": "stream",
     "text": [
      "Epoch 953: 2batch [00:00, 14.49batch/s, loss=1.67e+3]"
     ]
    },
    {
     "name": "stdout",
     "output_type": "stream",
     "text": [
      "epoch 952: avg test  loss 1698.99, bar  test loss 3.789, len  test loss 0.056, col  test loss 162.922\n"
     ]
    },
    {
     "name": "stderr",
     "output_type": "stream",
     "text": [
      "Epoch 953: 272batch [00:18, 14.39batch/s, loss=1.83e+3]\n"
     ]
    },
    {
     "name": "stdout",
     "output_type": "stream",
     "text": [
      "epoch 953: avg train loss 1688.14, bar train loss 3.762, len train loss 0.036, col train loss 162.015\n"
     ]
    },
    {
     "name": "stderr",
     "output_type": "stream",
     "text": [
      "Epoch 954: 2batch [00:00, 14.29batch/s, loss=1.66e+3]"
     ]
    },
    {
     "name": "stdout",
     "output_type": "stream",
     "text": [
      "epoch 953: avg test  loss 1684.75, bar  test loss 3.780, len  test loss 0.035, col  test loss 161.576\n"
     ]
    },
    {
     "name": "stderr",
     "output_type": "stream",
     "text": [
      "Epoch 954: 272batch [00:19, 14.15batch/s, loss=1.96e+3]\n"
     ]
    },
    {
     "name": "stdout",
     "output_type": "stream",
     "text": [
      "epoch 954: avg train loss 1688.52, bar train loss 3.766, len train loss 0.035, col train loss 161.859\n"
     ]
    },
    {
     "name": "stderr",
     "output_type": "stream",
     "text": [
      "Epoch 955: 2batch [00:00, 14.60batch/s, loss=1.72e+3]"
     ]
    },
    {
     "name": "stdout",
     "output_type": "stream",
     "text": [
      "epoch 954: avg test  loss 1690.18, bar  test loss 3.788, len  test loss 0.038, col  test loss 162.407\n"
     ]
    },
    {
     "name": "stderr",
     "output_type": "stream",
     "text": [
      "Epoch 955: 272batch [00:19, 14.30batch/s, loss=1.75e+3]\n"
     ]
    },
    {
     "name": "stdout",
     "output_type": "stream",
     "text": [
      "epoch 955: avg train loss 1702.71, bar train loss 3.966, len train loss 0.046, col train loss 163.326\n",
      "epoch 955: avg test  loss 1711.67, bar  test loss 4.081, len  test loss 0.046, col  test loss 164.475\n"
     ]
    },
    {
     "name": "stderr",
     "output_type": "stream",
     "text": [
      "Epoch 956: 272batch [00:19, 13.97batch/s, loss=1.86e+3]\n"
     ]
    },
    {
     "name": "stdout",
     "output_type": "stream",
     "text": [
      "epoch 956: avg train loss 1692.47, bar train loss 3.885, len train loss 0.044, col train loss 161.557\n"
     ]
    },
    {
     "name": "stderr",
     "output_type": "stream",
     "text": [
      "Epoch 957: 2batch [00:00, 13.89batch/s, loss=1.67e+3]"
     ]
    },
    {
     "name": "stdout",
     "output_type": "stream",
     "text": [
      "epoch 956: avg test  loss 1698.20, bar  test loss 4.236, len  test loss 0.045, col  test loss 161.516\n"
     ]
    },
    {
     "name": "stderr",
     "output_type": "stream",
     "text": [
      "Epoch 957: 272batch [00:19, 13.98batch/s, loss=1.86e+3]\n"
     ]
    },
    {
     "name": "stdout",
     "output_type": "stream",
     "text": [
      "epoch 957: avg train loss 1696.52, bar train loss 4.272, len train loss 0.045, col train loss 161.277\n"
     ]
    },
    {
     "name": "stderr",
     "output_type": "stream",
     "text": [
      "Epoch 958: 2batch [00:00, 13.89batch/s, loss=1.68e+3]"
     ]
    },
    {
     "name": "stdout",
     "output_type": "stream",
     "text": [
      "epoch 957: avg test  loss 1692.69, bar  test loss 4.305, len  test loss 0.047, col  test loss 161.330\n"
     ]
    },
    {
     "name": "stderr",
     "output_type": "stream",
     "text": [
      "Epoch 958: 272batch [00:19, 13.91batch/s, loss=1.74e+3]\n"
     ]
    },
    {
     "name": "stdout",
     "output_type": "stream",
     "text": [
      "epoch 958: avg train loss 1685.74, bar train loss 3.891, len train loss 0.042, col train loss 160.968\n"
     ]
    },
    {
     "name": "stderr",
     "output_type": "stream",
     "text": [
      "Epoch 959: 2batch [00:00, 13.89batch/s, loss=1.67e+3]"
     ]
    },
    {
     "name": "stdout",
     "output_type": "stream",
     "text": [
      "epoch 958: avg test  loss 1682.41, bar  test loss 3.840, len  test loss 0.034, col  test loss 160.646\n"
     ]
    },
    {
     "name": "stderr",
     "output_type": "stream",
     "text": [
      "Epoch 959: 272batch [00:19, 13.96batch/s, loss=1.8e+3] \n"
     ]
    },
    {
     "name": "stdout",
     "output_type": "stream",
     "text": [
      "epoch 959: avg train loss 1690.08, bar train loss 3.881, len train loss 0.043, col train loss 161.338\n"
     ]
    },
    {
     "name": "stderr",
     "output_type": "stream",
     "text": [
      "Epoch 960: 2batch [00:00, 14.29batch/s, loss=1.67e+3]"
     ]
    },
    {
     "name": "stdout",
     "output_type": "stream",
     "text": [
      "epoch 959: avg test  loss 1686.77, bar  test loss 4.002, len  test loss 0.044, col  test loss 160.641\n"
     ]
    },
    {
     "name": "stderr",
     "output_type": "stream",
     "text": [
      "Epoch 960: 272batch [00:19, 13.92batch/s, loss=1.76e+3]\n"
     ]
    },
    {
     "name": "stdout",
     "output_type": "stream",
     "text": [
      "epoch 960: avg train loss 1687.39, bar train loss 4.003, len train loss 0.036, col train loss 161.022\n",
      "epoch 960: avg test  loss 1684.03, bar  test loss 3.668, len  test loss 0.036, col  test loss 160.852\n"
     ]
    },
    {
     "name": "stderr",
     "output_type": "stream",
     "text": [
      "Epoch 961: 272batch [00:19, 13.98batch/s, loss=1.76e+3]\n"
     ]
    },
    {
     "name": "stdout",
     "output_type": "stream",
     "text": [
      "epoch 961: avg train loss 1692.45, bar train loss 3.861, len train loss 0.039, col train loss 161.691\n"
     ]
    },
    {
     "name": "stderr",
     "output_type": "stream",
     "text": [
      "Epoch 962: 2batch [00:00, 14.18batch/s, loss=1.64e+3]"
     ]
    },
    {
     "name": "stdout",
     "output_type": "stream",
     "text": [
      "epoch 961: avg test  loss 1690.98, bar  test loss 3.830, len  test loss 0.041, col  test loss 161.922\n"
     ]
    },
    {
     "name": "stderr",
     "output_type": "stream",
     "text": [
      "Epoch 962: 272batch [00:19, 13.94batch/s, loss=1.81e+3]\n"
     ]
    },
    {
     "name": "stdout",
     "output_type": "stream",
     "text": [
      "epoch 962: avg train loss 1687.67, bar train loss 3.712, len train loss 0.039, col train loss 161.723\n"
     ]
    },
    {
     "name": "stderr",
     "output_type": "stream",
     "text": [
      "Epoch 963: 2batch [00:00, 14.18batch/s, loss=1.66e+3]"
     ]
    },
    {
     "name": "stdout",
     "output_type": "stream",
     "text": [
      "epoch 962: avg test  loss 1689.92, bar  test loss 3.976, len  test loss 0.033, col  test loss 161.853\n"
     ]
    },
    {
     "name": "stderr",
     "output_type": "stream",
     "text": [
      "Epoch 963: 272batch [00:19, 13.95batch/s, loss=1.96e+3]\n"
     ]
    },
    {
     "name": "stdout",
     "output_type": "stream",
     "text": [
      "epoch 963: avg train loss 1687.21, bar train loss 3.785, len train loss 0.033, col train loss 162.041\n"
     ]
    },
    {
     "name": "stderr",
     "output_type": "stream",
     "text": [
      "Epoch 964: 2batch [00:00, 13.33batch/s, loss=1.73e+3]"
     ]
    },
    {
     "name": "stdout",
     "output_type": "stream",
     "text": [
      "epoch 963: avg test  loss 1695.38, bar  test loss 4.199, len  test loss 0.033, col  test loss 162.095\n"
     ]
    },
    {
     "name": "stderr",
     "output_type": "stream",
     "text": [
      "Epoch 964: 272batch [00:19, 13.95batch/s, loss=1.72e+3]\n"
     ]
    },
    {
     "name": "stdout",
     "output_type": "stream",
     "text": [
      "epoch 964: avg train loss 1693.14, bar train loss 3.922, len train loss 0.039, col train loss 162.148\n"
     ]
    },
    {
     "name": "stderr",
     "output_type": "stream",
     "text": [
      "Epoch 965: 2batch [00:00, 13.51batch/s, loss=1.68e+3]"
     ]
    },
    {
     "name": "stdout",
     "output_type": "stream",
     "text": [
      "epoch 964: avg test  loss 1688.49, bar  test loss 3.974, len  test loss 0.033, col  test loss 161.854\n"
     ]
    },
    {
     "name": "stderr",
     "output_type": "stream",
     "text": [
      "Epoch 965: 272batch [00:19, 13.93batch/s, loss=1.77e+3]\n"
     ]
    },
    {
     "name": "stdout",
     "output_type": "stream",
     "text": [
      "epoch 965: avg train loss 1691.44, bar train loss 4.120, len train loss 0.039, col train loss 161.118\n",
      "epoch 965: avg test  loss 1694.81, bar  test loss 4.135, len  test loss 0.033, col  test loss 162.176\n"
     ]
    },
    {
     "name": "stderr",
     "output_type": "stream",
     "text": [
      "Epoch 966: 272batch [00:19, 13.96batch/s, loss=1.83e+3]\n"
     ]
    },
    {
     "name": "stdout",
     "output_type": "stream",
     "text": [
      "epoch 966: avg train loss 1693.30, bar train loss 4.001, len train loss 0.039, col train loss 161.781\n"
     ]
    },
    {
     "name": "stderr",
     "output_type": "stream",
     "text": [
      "Epoch 967: 2batch [00:00, 13.61batch/s, loss=1.65e+3]"
     ]
    },
    {
     "name": "stdout",
     "output_type": "stream",
     "text": [
      "epoch 966: avg test  loss 1692.10, bar  test loss 4.013, len  test loss 0.044, col  test loss 161.066\n"
     ]
    },
    {
     "name": "stderr",
     "output_type": "stream",
     "text": [
      "Epoch 967: 272batch [00:19, 13.93batch/s, loss=1.93e+3]\n"
     ]
    },
    {
     "name": "stdout",
     "output_type": "stream",
     "text": [
      "epoch 967: avg train loss 1688.73, bar train loss 3.888, len train loss 0.037, col train loss 161.759\n"
     ]
    },
    {
     "name": "stderr",
     "output_type": "stream",
     "text": [
      "Epoch 968: 2batch [00:00, 13.99batch/s, loss=1.69e+3]"
     ]
    },
    {
     "name": "stdout",
     "output_type": "stream",
     "text": [
      "epoch 967: avg test  loss 1686.85, bar  test loss 3.785, len  test loss 0.044, col  test loss 161.817\n"
     ]
    },
    {
     "name": "stderr",
     "output_type": "stream",
     "text": [
      "Epoch 968: 272batch [00:19, 13.90batch/s, loss=1.73e+3]\n"
     ]
    },
    {
     "name": "stdout",
     "output_type": "stream",
     "text": [
      "epoch 968: avg train loss 1683.70, bar train loss 3.665, len train loss 0.038, col train loss 161.426\n"
     ]
    },
    {
     "name": "stderr",
     "output_type": "stream",
     "text": [
      "Epoch 969: 2batch [00:00, 13.99batch/s, loss=1.69e+3]"
     ]
    },
    {
     "name": "stdout",
     "output_type": "stream",
     "text": [
      "epoch 968: avg test  loss 1681.06, bar  test loss 3.665, len  test loss 0.033, col  test loss 160.758\n"
     ]
    },
    {
     "name": "stderr",
     "output_type": "stream",
     "text": [
      "Epoch 969: 272batch [00:19, 13.94batch/s, loss=1.95e+3]\n"
     ]
    },
    {
     "name": "stdout",
     "output_type": "stream",
     "text": [
      "epoch 969: avg train loss 1683.30, bar train loss 3.624, len train loss 0.038, col train loss 161.228\n"
     ]
    },
    {
     "name": "stderr",
     "output_type": "stream",
     "text": [
      "Epoch 970: 2batch [00:00, 13.99batch/s, loss=1.63e+3]"
     ]
    },
    {
     "name": "stdout",
     "output_type": "stream",
     "text": [
      "epoch 969: avg test  loss 1686.21, bar  test loss 3.694, len  test loss 0.046, col  test loss 160.863\n"
     ]
    },
    {
     "name": "stderr",
     "output_type": "stream",
     "text": [
      "Epoch 970: 272batch [00:19, 13.93batch/s, loss=1.78e+3]\n"
     ]
    },
    {
     "name": "stdout",
     "output_type": "stream",
     "text": [
      "epoch 970: avg train loss 1691.42, bar train loss 3.687, len train loss 0.041, col train loss 161.507\n",
      "epoch 970: avg test  loss 1685.70, bar  test loss 3.826, len  test loss 0.038, col  test loss 161.304\n"
     ]
    },
    {
     "name": "stderr",
     "output_type": "stream",
     "text": [
      "Epoch 971: 272batch [00:19, 13.91batch/s, loss=1.81e+3]\n"
     ]
    },
    {
     "name": "stdout",
     "output_type": "stream",
     "text": [
      "epoch 971: avg train loss 1694.42, bar train loss 3.943, len train loss 0.040, col train loss 161.802\n"
     ]
    },
    {
     "name": "stderr",
     "output_type": "stream",
     "text": [
      "Epoch 972: 2batch [00:00, 14.08batch/s, loss=1.72e+3]"
     ]
    },
    {
     "name": "stdout",
     "output_type": "stream",
     "text": [
      "epoch 971: avg test  loss 1700.23, bar  test loss 3.782, len  test loss 0.039, col  test loss 162.876\n"
     ]
    },
    {
     "name": "stderr",
     "output_type": "stream",
     "text": [
      "Epoch 972: 272batch [00:19, 13.95batch/s, loss=1.73e+3]\n"
     ]
    },
    {
     "name": "stdout",
     "output_type": "stream",
     "text": [
      "epoch 972: avg train loss 1690.83, bar train loss 3.749, len train loss 0.044, col train loss 161.892\n"
     ]
    },
    {
     "name": "stderr",
     "output_type": "stream",
     "text": [
      "Epoch 973: 2batch [00:00, 14.18batch/s, loss=1.74e+3]"
     ]
    },
    {
     "name": "stdout",
     "output_type": "stream",
     "text": [
      "epoch 972: avg test  loss 1692.10, bar  test loss 3.666, len  test loss 0.045, col  test loss 162.228\n"
     ]
    },
    {
     "name": "stderr",
     "output_type": "stream",
     "text": [
      "Epoch 973: 272batch [00:19, 13.93batch/s, loss=1.71e+3]\n"
     ]
    },
    {
     "name": "stdout",
     "output_type": "stream",
     "text": [
      "epoch 973: avg train loss 1693.12, bar train loss 3.851, len train loss 0.055, col train loss 161.513\n"
     ]
    },
    {
     "name": "stderr",
     "output_type": "stream",
     "text": [
      "Epoch 974: 2batch [00:00, 13.99batch/s, loss=1.72e+3]"
     ]
    },
    {
     "name": "stdout",
     "output_type": "stream",
     "text": [
      "epoch 973: avg test  loss 1691.25, bar  test loss 3.892, len  test loss 0.033, col  test loss 161.709\n"
     ]
    },
    {
     "name": "stderr",
     "output_type": "stream",
     "text": [
      "Epoch 974: 272batch [00:19, 13.90batch/s, loss=1.73e+3]\n"
     ]
    },
    {
     "name": "stdout",
     "output_type": "stream",
     "text": [
      "epoch 974: avg train loss 1698.12, bar train loss 3.828, len train loss 0.043, col train loss 162.589\n"
     ]
    },
    {
     "name": "stderr",
     "output_type": "stream",
     "text": [
      "Epoch 975: 2batch [00:00, 13.99batch/s, loss=1.69e+3]"
     ]
    },
    {
     "name": "stdout",
     "output_type": "stream",
     "text": [
      "epoch 974: avg test  loss 1691.60, bar  test loss 3.856, len  test loss 0.034, col  test loss 162.445\n"
     ]
    },
    {
     "name": "stderr",
     "output_type": "stream",
     "text": [
      "Epoch 975: 272batch [00:19, 13.89batch/s, loss=1.92e+3]\n"
     ]
    },
    {
     "name": "stdout",
     "output_type": "stream",
     "text": [
      "epoch 975: avg train loss 1689.89, bar train loss 3.794, len train loss 0.037, col train loss 161.987\n",
      "epoch 975: avg test  loss 1686.68, bar  test loss 3.795, len  test loss 0.037, col  test loss 161.836\n"
     ]
    },
    {
     "name": "stderr",
     "output_type": "stream",
     "text": [
      "Epoch 976: 272batch [00:19, 13.90batch/s, loss=1.85e+3]\n"
     ]
    },
    {
     "name": "stdout",
     "output_type": "stream",
     "text": [
      "epoch 976: avg train loss 1691.81, bar train loss 4.005, len train loss 0.039, col train loss 161.661\n"
     ]
    },
    {
     "name": "stderr",
     "output_type": "stream",
     "text": [
      "Epoch 977: 2batch [00:00, 14.18batch/s, loss=1.67e+3]"
     ]
    },
    {
     "name": "stdout",
     "output_type": "stream",
     "text": [
      "epoch 976: avg test  loss 1688.64, bar  test loss 3.832, len  test loss 0.043, col  test loss 160.846\n"
     ]
    },
    {
     "name": "stderr",
     "output_type": "stream",
     "text": [
      "Epoch 977: 272batch [00:19, 13.90batch/s, loss=1.75e+3]\n"
     ]
    },
    {
     "name": "stdout",
     "output_type": "stream",
     "text": [
      "epoch 977: avg train loss 1693.01, bar train loss 4.041, len train loss 0.042, col train loss 161.409\n"
     ]
    },
    {
     "name": "stderr",
     "output_type": "stream",
     "text": [
      "Epoch 978: 2batch [00:00, 13.89batch/s, loss=1.65e+3]"
     ]
    },
    {
     "name": "stdout",
     "output_type": "stream",
     "text": [
      "epoch 977: avg test  loss 1688.75, bar  test loss 3.608, len  test loss 0.036, col  test loss 161.450\n"
     ]
    },
    {
     "name": "stderr",
     "output_type": "stream",
     "text": [
      "Epoch 978: 272batch [00:19, 13.88batch/s, loss=1.78e+3]\n"
     ]
    },
    {
     "name": "stdout",
     "output_type": "stream",
     "text": [
      "epoch 978: avg train loss 1692.60, bar train loss 3.769, len train loss 0.042, col train loss 161.587\n"
     ]
    },
    {
     "name": "stderr",
     "output_type": "stream",
     "text": [
      "Epoch 979: 2batch [00:00, 13.99batch/s, loss=1.75e+3]"
     ]
    },
    {
     "name": "stdout",
     "output_type": "stream",
     "text": [
      "epoch 978: avg test  loss 1689.71, bar  test loss 3.856, len  test loss 0.035, col  test loss 161.323\n"
     ]
    },
    {
     "name": "stderr",
     "output_type": "stream",
     "text": [
      "Epoch 979: 272batch [00:19, 13.86batch/s, loss=1.88e+3]\n"
     ]
    },
    {
     "name": "stdout",
     "output_type": "stream",
     "text": [
      "epoch 979: avg train loss 1694.86, bar train loss 3.868, len train loss 0.041, col train loss 162.039\n"
     ]
    },
    {
     "name": "stderr",
     "output_type": "stream",
     "text": [
      "Epoch 980: 2batch [00:00, 13.79batch/s, loss=1.67e+3]"
     ]
    },
    {
     "name": "stdout",
     "output_type": "stream",
     "text": [
      "epoch 979: avg test  loss 1687.28, bar  test loss 3.718, len  test loss 0.037, col  test loss 161.501\n"
     ]
    },
    {
     "name": "stderr",
     "output_type": "stream",
     "text": [
      "Epoch 980: 272batch [00:19, 13.87batch/s, loss=1.77e+3]\n"
     ]
    },
    {
     "name": "stdout",
     "output_type": "stream",
     "text": [
      "epoch 980: avg train loss 1690.31, bar train loss 3.757, len train loss 0.040, col train loss 161.570\n",
      "epoch 980: avg test  loss 1692.84, bar  test loss 3.896, len  test loss 0.050, col  test loss 161.571\n"
     ]
    },
    {
     "name": "stderr",
     "output_type": "stream",
     "text": [
      "Epoch 981: 272batch [00:19, 13.89batch/s, loss=1.89e+3]\n"
     ]
    },
    {
     "name": "stdout",
     "output_type": "stream",
     "text": [
      "epoch 981: avg train loss 1689.38, bar train loss 3.744, len train loss 0.039, col train loss 161.781\n"
     ]
    },
    {
     "name": "stderr",
     "output_type": "stream",
     "text": [
      "Epoch 982: 2batch [00:00, 13.99batch/s, loss=1.63e+3]"
     ]
    },
    {
     "name": "stdout",
     "output_type": "stream",
     "text": [
      "epoch 981: avg test  loss 1686.30, bar  test loss 3.825, len  test loss 0.036, col  test loss 161.265\n"
     ]
    },
    {
     "name": "stderr",
     "output_type": "stream",
     "text": [
      "Epoch 982: 272batch [00:19, 13.86batch/s, loss=1.79e+3]\n"
     ]
    },
    {
     "name": "stdout",
     "output_type": "stream",
     "text": [
      "epoch 982: avg train loss 1690.58, bar train loss 3.921, len train loss 0.038, col train loss 161.503\n"
     ]
    },
    {
     "name": "stderr",
     "output_type": "stream",
     "text": [
      "Epoch 983: 2batch [00:00, 13.61batch/s, loss=1.73e+3]"
     ]
    },
    {
     "name": "stdout",
     "output_type": "stream",
     "text": [
      "epoch 982: avg test  loss 1696.75, bar  test loss 3.867, len  test loss 0.047, col  test loss 162.041\n"
     ]
    },
    {
     "name": "stderr",
     "output_type": "stream",
     "text": [
      "Epoch 983: 272batch [00:19, 13.86batch/s, loss=1.69e+3]\n"
     ]
    },
    {
     "name": "stdout",
     "output_type": "stream",
     "text": [
      "epoch 983: avg train loss 1688.39, bar train loss 3.642, len train loss 0.035, col train loss 161.882\n"
     ]
    },
    {
     "name": "stderr",
     "output_type": "stream",
     "text": [
      "Epoch 984: 2batch [00:00, 13.61batch/s, loss=1.63e+3]"
     ]
    },
    {
     "name": "stdout",
     "output_type": "stream",
     "text": [
      "epoch 983: avg test  loss 1686.31, bar  test loss 3.621, len  test loss 0.035, col  test loss 161.419\n"
     ]
    },
    {
     "name": "stderr",
     "output_type": "stream",
     "text": [
      "Epoch 984: 272batch [00:19, 13.86batch/s, loss=1.91e+3]\n"
     ]
    },
    {
     "name": "stdout",
     "output_type": "stream",
     "text": [
      "epoch 984: avg train loss 1686.06, bar train loss 3.671, len train loss 0.036, col train loss 161.421\n"
     ]
    },
    {
     "name": "stderr",
     "output_type": "stream",
     "text": [
      "Epoch 985: 2batch [00:00, 14.08batch/s, loss=1.72e+3]"
     ]
    },
    {
     "name": "stdout",
     "output_type": "stream",
     "text": [
      "epoch 984: avg test  loss 1687.94, bar  test loss 4.006, len  test loss 0.037, col  test loss 161.319\n"
     ]
    },
    {
     "name": "stderr",
     "output_type": "stream",
     "text": [
      "Epoch 985: 272batch [00:19, 13.83batch/s, loss=1.77e+3]\n"
     ]
    },
    {
     "name": "stdout",
     "output_type": "stream",
     "text": [
      "epoch 985: avg train loss 1685.64, bar train loss 3.765, len train loss 0.036, col train loss 161.532\n",
      "epoch 985: avg test  loss 1687.40, bar  test loss 3.683, len  test loss 0.035, col  test loss 161.574\n"
     ]
    },
    {
     "name": "stderr",
     "output_type": "stream",
     "text": [
      "Epoch 986: 272batch [00:19, 13.94batch/s, loss=1.78e+3]\n"
     ]
    },
    {
     "name": "stdout",
     "output_type": "stream",
     "text": [
      "epoch 986: avg train loss 1685.36, bar train loss 3.731, len train loss 0.035, col train loss 161.657\n"
     ]
    },
    {
     "name": "stderr",
     "output_type": "stream",
     "text": [
      "Epoch 987: 2batch [00:00, 14.39batch/s, loss=1.62e+3]"
     ]
    },
    {
     "name": "stdout",
     "output_type": "stream",
     "text": [
      "epoch 986: avg test  loss 1688.01, bar  test loss 3.790, len  test loss 0.038, col  test loss 162.191\n"
     ]
    },
    {
     "name": "stderr",
     "output_type": "stream",
     "text": [
      "Epoch 987: 272batch [00:19, 13.89batch/s, loss=1.87e+3]\n"
     ]
    },
    {
     "name": "stdout",
     "output_type": "stream",
     "text": [
      "epoch 987: avg train loss 1686.97, bar train loss 3.787, len train loss 0.043, col train loss 161.615\n"
     ]
    },
    {
     "name": "stderr",
     "output_type": "stream",
     "text": [
      "Epoch 988: 2batch [00:00, 13.99batch/s, loss=1.58e+3]"
     ]
    },
    {
     "name": "stdout",
     "output_type": "stream",
     "text": [
      "epoch 987: avg test  loss 1685.49, bar  test loss 3.876, len  test loss 0.038, col  test loss 160.944\n"
     ]
    },
    {
     "name": "stderr",
     "output_type": "stream",
     "text": [
      "Epoch 988: 272batch [00:19, 13.84batch/s, loss=1.88e+3]\n"
     ]
    },
    {
     "name": "stdout",
     "output_type": "stream",
     "text": [
      "epoch 988: avg train loss 1697.68, bar train loss 4.070, len train loss 0.053, col train loss 161.781\n"
     ]
    },
    {
     "name": "stderr",
     "output_type": "stream",
     "text": [
      "Epoch 989: 2batch [00:00, 13.79batch/s, loss=1.65e+3]"
     ]
    },
    {
     "name": "stdout",
     "output_type": "stream",
     "text": [
      "epoch 988: avg test  loss 1685.02, bar  test loss 3.739, len  test loss 0.032, col  test loss 161.849\n"
     ]
    },
    {
     "name": "stderr",
     "output_type": "stream",
     "text": [
      "Epoch 989: 272batch [00:19, 13.67batch/s, loss=1.72e+3]\n"
     ]
    },
    {
     "name": "stdout",
     "output_type": "stream",
     "text": [
      "epoch 989: avg train loss 1685.45, bar train loss 3.725, len train loss 0.040, col train loss 161.243\n"
     ]
    },
    {
     "name": "stderr",
     "output_type": "stream",
     "text": [
      "Epoch 990: 2batch [00:00, 13.70batch/s, loss=1.68e+3]"
     ]
    },
    {
     "name": "stdout",
     "output_type": "stream",
     "text": [
      "epoch 989: avg test  loss 1687.19, bar  test loss 3.917, len  test loss 0.044, col  test loss 160.627\n"
     ]
    },
    {
     "name": "stderr",
     "output_type": "stream",
     "text": [
      "Epoch 990: 272batch [00:19, 13.77batch/s, loss=1.9e+3] \n"
     ]
    },
    {
     "name": "stdout",
     "output_type": "stream",
     "text": [
      "epoch 990: avg train loss 1691.25, bar train loss 3.928, len train loss 0.051, col train loss 161.485\n",
      "epoch 990: avg test  loss 1688.80, bar  test loss 3.920, len  test loss 0.045, col  test loss 161.005\n"
     ]
    },
    {
     "name": "stderr",
     "output_type": "stream",
     "text": [
      "Epoch 991: 272batch [00:19, 13.81batch/s, loss=1.83e+3]\n"
     ]
    },
    {
     "name": "stdout",
     "output_type": "stream",
     "text": [
      "epoch 991: avg train loss 1688.60, bar train loss 3.892, len train loss 0.038, col train loss 161.336\n"
     ]
    },
    {
     "name": "stderr",
     "output_type": "stream",
     "text": [
      "Epoch 992: 2batch [00:00, 13.79batch/s, loss=1.7e+3]"
     ]
    },
    {
     "name": "stdout",
     "output_type": "stream",
     "text": [
      "epoch 991: avg test  loss 1687.59, bar  test loss 3.760, len  test loss 0.041, col  test loss 161.559\n"
     ]
    },
    {
     "name": "stderr",
     "output_type": "stream",
     "text": [
      "Epoch 992: 272batch [00:19, 13.89batch/s, loss=1.71e+3]\n"
     ]
    },
    {
     "name": "stdout",
     "output_type": "stream",
     "text": [
      "epoch 992: avg train loss 1688.18, bar train loss 3.834, len train loss 0.040, col train loss 161.771\n"
     ]
    },
    {
     "name": "stderr",
     "output_type": "stream",
     "text": [
      "Epoch 993: 2batch [00:00, 13.79batch/s, loss=1.65e+3]"
     ]
    },
    {
     "name": "stdout",
     "output_type": "stream",
     "text": [
      "epoch 992: avg test  loss 1689.50, bar  test loss 3.927, len  test loss 0.034, col  test loss 161.652\n"
     ]
    },
    {
     "name": "stderr",
     "output_type": "stream",
     "text": [
      "Epoch 993: 272batch [00:19, 13.76batch/s, loss=1.8e+3] \n"
     ]
    },
    {
     "name": "stdout",
     "output_type": "stream",
     "text": [
      "epoch 993: avg train loss 1685.05, bar train loss 3.773, len train loss 0.035, col train loss 161.659\n"
     ]
    },
    {
     "name": "stderr",
     "output_type": "stream",
     "text": [
      "Epoch 994: 2batch [00:00, 13.70batch/s, loss=1.71e+3]"
     ]
    },
    {
     "name": "stdout",
     "output_type": "stream",
     "text": [
      "epoch 993: avg test  loss 1687.46, bar  test loss 3.900, len  test loss 0.034, col  test loss 161.860\n"
     ]
    },
    {
     "name": "stderr",
     "output_type": "stream",
     "text": [
      "Epoch 994: 272batch [00:19, 13.75batch/s, loss=1.92e+3]\n"
     ]
    },
    {
     "name": "stdout",
     "output_type": "stream",
     "text": [
      "epoch 994: avg train loss 1695.93, bar train loss 4.172, len train loss 0.045, col train loss 161.480\n"
     ]
    },
    {
     "name": "stderr",
     "output_type": "stream",
     "text": [
      "Epoch 995: 2batch [00:00, 13.99batch/s, loss=1.66e+3]"
     ]
    },
    {
     "name": "stdout",
     "output_type": "stream",
     "text": [
      "epoch 994: avg test  loss 1699.50, bar  test loss 4.495, len  test loss 0.050, col  test loss 161.083\n"
     ]
    },
    {
     "name": "stderr",
     "output_type": "stream",
     "text": [
      "Epoch 995: 272batch [00:19, 13.77batch/s, loss=1.87e+3]\n"
     ]
    },
    {
     "name": "stdout",
     "output_type": "stream",
     "text": [
      "epoch 995: avg train loss 1690.94, bar train loss 4.015, len train loss 0.043, col train loss 161.288\n",
      "epoch 995: avg test  loss 1684.57, bar  test loss 3.796, len  test loss 0.036, col  test loss 161.571\n"
     ]
    },
    {
     "name": "stderr",
     "output_type": "stream",
     "text": [
      "Epoch 996: 272batch [00:19, 13.78batch/s, loss=1.78e+3]\n"
     ]
    },
    {
     "name": "stdout",
     "output_type": "stream",
     "text": [
      "epoch 996: avg train loss 1690.30, bar train loss 3.742, len train loss 0.039, col train loss 162.133\n"
     ]
    },
    {
     "name": "stderr",
     "output_type": "stream",
     "text": [
      "Epoch 997: 2batch [00:00, 14.18batch/s, loss=1.73e+3]"
     ]
    },
    {
     "name": "stdout",
     "output_type": "stream",
     "text": [
      "epoch 996: avg test  loss 1692.23, bar  test loss 3.596, len  test loss 0.038, col  test loss 162.103\n"
     ]
    },
    {
     "name": "stderr",
     "output_type": "stream",
     "text": [
      "Epoch 997: 272batch [00:19, 13.75batch/s, loss=1.77e+3]\n"
     ]
    },
    {
     "name": "stdout",
     "output_type": "stream",
     "text": [
      "epoch 997: avg train loss 1694.07, bar train loss 3.840, len train loss 0.042, col train loss 162.390\n"
     ]
    },
    {
     "name": "stderr",
     "output_type": "stream",
     "text": [
      "Epoch 998: 2batch [00:00, 13.42batch/s, loss=1.76e+3]"
     ]
    },
    {
     "name": "stdout",
     "output_type": "stream",
     "text": [
      "epoch 997: avg test  loss 1691.68, bar  test loss 3.800, len  test loss 0.058, col  test loss 162.063\n"
     ]
    },
    {
     "name": "stderr",
     "output_type": "stream",
     "text": [
      "Epoch 998: 272batch [00:19, 13.74batch/s, loss=1.74e+3]\n"
     ]
    },
    {
     "name": "stdout",
     "output_type": "stream",
     "text": [
      "epoch 998: avg train loss 1687.40, bar train loss 3.784, len train loss 0.037, col train loss 161.694\n"
     ]
    },
    {
     "name": "stderr",
     "output_type": "stream",
     "text": [
      "Epoch 999: 2batch [00:00, 13.89batch/s, loss=1.72e+3]"
     ]
    },
    {
     "name": "stdout",
     "output_type": "stream",
     "text": [
      "epoch 998: avg test  loss 1688.48, bar  test loss 3.793, len  test loss 0.043, col  test loss 161.919\n"
     ]
    },
    {
     "name": "stderr",
     "output_type": "stream",
     "text": [
      "Epoch 999: 272batch [00:19, 13.74batch/s, loss=1.8e+3] \n"
     ]
    },
    {
     "name": "stdout",
     "output_type": "stream",
     "text": [
      "epoch 999: avg train loss 1693.80, bar train loss 3.872, len train loss 0.047, col train loss 162.434\n"
     ]
    },
    {
     "name": "stderr",
     "output_type": "stream",
     "text": [
      "Epoch 1000: 2batch [00:00, 13.70batch/s, loss=1.75e+3]"
     ]
    },
    {
     "name": "stdout",
     "output_type": "stream",
     "text": [
      "epoch 999: avg test  loss 1692.08, bar  test loss 3.860, len  test loss 0.037, col  test loss 162.641\n"
     ]
    },
    {
     "name": "stderr",
     "output_type": "stream",
     "text": [
      "Epoch 1000: 272batch [00:19, 13.70batch/s, loss=1.72e+3]\n"
     ]
    },
    {
     "name": "stdout",
     "output_type": "stream",
     "text": [
      "epoch 1000: avg train loss 1696.51, bar train loss 3.864, len train loss 0.053, col train loss 162.412\n",
      "epoch 1000: avg test  loss 1687.91, bar  test loss 3.793, len  test loss 0.037, col  test loss 162.063\n"
     ]
    },
    {
     "name": "stderr",
     "output_type": "stream",
     "text": [
      "Epoch 1001: 272batch [00:19, 13.78batch/s, loss=1.95e+3]\n"
     ]
    },
    {
     "name": "stdout",
     "output_type": "stream",
     "text": [
      "epoch 1001: avg train loss 1704.65, bar train loss 4.409, len train loss 0.052, col train loss 161.914\n"
     ]
    },
    {
     "name": "stderr",
     "output_type": "stream",
     "text": [
      "Epoch 1002: 2batch [00:00, 13.51batch/s, loss=1.66e+3]"
     ]
    },
    {
     "name": "stdout",
     "output_type": "stream",
     "text": [
      "epoch 1001: avg test  loss 1706.53, bar  test loss 4.550, len  test loss 0.044, col  test loss 161.495\n"
     ]
    },
    {
     "name": "stderr",
     "output_type": "stream",
     "text": [
      "Epoch 1002: 272batch [00:19, 13.70batch/s, loss=1.76e+3]\n"
     ]
    },
    {
     "name": "stdout",
     "output_type": "stream",
     "text": [
      "epoch 1002: avg train loss 1700.51, bar train loss 4.175, len train loss 0.035, col train loss 162.628\n"
     ]
    },
    {
     "name": "stderr",
     "output_type": "stream",
     "text": [
      "Epoch 1003: 2batch [00:00, 13.79batch/s, loss=1.72e+3]"
     ]
    },
    {
     "name": "stdout",
     "output_type": "stream",
     "text": [
      "epoch 1002: avg test  loss 1696.75, bar  test loss 3.946, len  test loss 0.045, col  test loss 163.083\n"
     ]
    },
    {
     "name": "stderr",
     "output_type": "stream",
     "text": [
      "Epoch 1003: 272batch [00:19, 13.71batch/s, loss=1.88e+3]\n"
     ]
    },
    {
     "name": "stdout",
     "output_type": "stream",
     "text": [
      "epoch 1003: avg train loss 1696.28, bar train loss 4.055, len train loss 0.036, col train loss 161.985\n"
     ]
    },
    {
     "name": "stderr",
     "output_type": "stream",
     "text": [
      "Epoch 1004: 2batch [00:00, 13.70batch/s, loss=1.71e+3]"
     ]
    },
    {
     "name": "stdout",
     "output_type": "stream",
     "text": [
      "epoch 1003: avg test  loss 1700.28, bar  test loss 3.908, len  test loss 0.034, col  test loss 162.144\n"
     ]
    },
    {
     "name": "stderr",
     "output_type": "stream",
     "text": [
      "Epoch 1004: 272batch [00:19, 13.66batch/s, loss=1.92e+3]\n"
     ]
    },
    {
     "name": "stdout",
     "output_type": "stream",
     "text": [
      "epoch 1004: avg train loss 1698.34, bar train loss 3.815, len train loss 0.042, col train loss 162.807\n"
     ]
    },
    {
     "name": "stderr",
     "output_type": "stream",
     "text": [
      "Epoch 1005: 2batch [00:00, 13.61batch/s, loss=1.71e+3]"
     ]
    },
    {
     "name": "stdout",
     "output_type": "stream",
     "text": [
      "epoch 1004: avg test  loss 1699.03, bar  test loss 3.842, len  test loss 0.051, col  test loss 162.593\n"
     ]
    },
    {
     "name": "stderr",
     "output_type": "stream",
     "text": [
      "Epoch 1005: 272batch [00:20, 13.54batch/s, loss=1.76e+3]\n"
     ]
    },
    {
     "name": "stdout",
     "output_type": "stream",
     "text": [
      "epoch 1005: avg train loss 1696.21, bar train loss 4.081, len train loss 0.042, col train loss 162.452\n",
      "epoch 1005: avg test  loss 1690.71, bar  test loss 3.869, len  test loss 0.031, col  test loss 162.443\n"
     ]
    },
    {
     "name": "stderr",
     "output_type": "stream",
     "text": [
      "Epoch 1006: 272batch [00:19, 13.68batch/s, loss=1.92e+3]\n"
     ]
    },
    {
     "name": "stdout",
     "output_type": "stream",
     "text": [
      "epoch 1006: avg train loss 1696.39, bar train loss 3.883, len train loss 0.040, col train loss 162.623\n"
     ]
    },
    {
     "name": "stderr",
     "output_type": "stream",
     "text": [
      "Epoch 1007: 2batch [00:00, 13.89batch/s, loss=1.6e+3]"
     ]
    },
    {
     "name": "stdout",
     "output_type": "stream",
     "text": [
      "epoch 1006: avg test  loss 1693.65, bar  test loss 3.847, len  test loss 0.035, col  test loss 162.207\n"
     ]
    },
    {
     "name": "stderr",
     "output_type": "stream",
     "text": [
      "Epoch 1007: 272batch [00:19, 13.70batch/s, loss=1.79e+3]\n"
     ]
    },
    {
     "name": "stdout",
     "output_type": "stream",
     "text": [
      "epoch 1007: avg train loss 1707.90, bar train loss 4.290, len train loss 0.049, col train loss 162.850\n"
     ]
    },
    {
     "name": "stderr",
     "output_type": "stream",
     "text": [
      "Epoch 1008: 2batch [00:00, 13.79batch/s, loss=1.65e+3]"
     ]
    },
    {
     "name": "stdout",
     "output_type": "stream",
     "text": [
      "epoch 1007: avg test  loss 1707.25, bar  test loss 4.418, len  test loss 0.036, col  test loss 163.351\n"
     ]
    },
    {
     "name": "stderr",
     "output_type": "stream",
     "text": [
      "Epoch 1008: 272batch [00:19, 13.68batch/s, loss=1.72e+3]\n"
     ]
    },
    {
     "name": "stdout",
     "output_type": "stream",
     "text": [
      "epoch 1008: avg train loss 1697.91, bar train loss 3.938, len train loss 0.038, col train loss 162.738\n"
     ]
    },
    {
     "name": "stderr",
     "output_type": "stream",
     "text": [
      "Epoch 1009: 2batch [00:00, 13.70batch/s, loss=1.65e+3]"
     ]
    },
    {
     "name": "stdout",
     "output_type": "stream",
     "text": [
      "epoch 1008: avg test  loss 1695.43, bar  test loss 3.796, len  test loss 0.038, col  test loss 162.650\n"
     ]
    },
    {
     "name": "stderr",
     "output_type": "stream",
     "text": [
      "Epoch 1009: 272batch [00:20, 13.59batch/s, loss=1.74e+3]\n"
     ]
    },
    {
     "name": "stdout",
     "output_type": "stream",
     "text": [
      "epoch 1009: avg train loss 1692.16, bar train loss 3.747, len train loss 0.038, col train loss 162.665\n"
     ]
    },
    {
     "name": "stderr",
     "output_type": "stream",
     "text": [
      "Epoch 1010: 2batch [00:00, 13.61batch/s, loss=1.65e+3]"
     ]
    },
    {
     "name": "stdout",
     "output_type": "stream",
     "text": [
      "epoch 1009: avg test  loss 1691.53, bar  test loss 3.744, len  test loss 0.038, col  test loss 162.866\n"
     ]
    },
    {
     "name": "stderr",
     "output_type": "stream",
     "text": [
      "Epoch 1010: 272batch [00:19, 13.62batch/s, loss=1.91e+3]\n"
     ]
    },
    {
     "name": "stdout",
     "output_type": "stream",
     "text": [
      "epoch 1010: avg train loss 1691.81, bar train loss 3.758, len train loss 0.035, col train loss 162.853\n",
      "epoch 1010: avg test  loss 1699.93, bar  test loss 4.007, len  test loss 0.032, col  test loss 163.452\n"
     ]
    },
    {
     "name": "stderr",
     "output_type": "stream",
     "text": [
      "Epoch 1011: 272batch [00:19, 13.66batch/s, loss=1.63e+3]\n"
     ]
    },
    {
     "name": "stdout",
     "output_type": "stream",
     "text": [
      "epoch 1011: avg train loss 1692.61, bar train loss 3.735, len train loss 0.035, col train loss 162.709\n"
     ]
    },
    {
     "name": "stderr",
     "output_type": "stream",
     "text": [
      "Epoch 1012: 2batch [00:00, 13.89batch/s, loss=1.76e+3]"
     ]
    },
    {
     "name": "stdout",
     "output_type": "stream",
     "text": [
      "epoch 1011: avg test  loss 1690.59, bar  test loss 3.838, len  test loss 0.031, col  test loss 162.617\n"
     ]
    },
    {
     "name": "stderr",
     "output_type": "stream",
     "text": [
      "Epoch 1012: 272batch [00:19, 13.63batch/s, loss=2.17e+3]\n"
     ]
    },
    {
     "name": "stdout",
     "output_type": "stream",
     "text": [
      "epoch 1012: avg train loss 1692.43, bar train loss 3.797, len train loss 0.036, col train loss 162.858\n"
     ]
    },
    {
     "name": "stderr",
     "output_type": "stream",
     "text": [
      "Epoch 1013: 2batch [00:00, 13.61batch/s, loss=1.76e+3]"
     ]
    },
    {
     "name": "stdout",
     "output_type": "stream",
     "text": [
      "epoch 1012: avg test  loss 1699.11, bar  test loss 3.995, len  test loss 0.031, col  test loss 163.732\n"
     ]
    },
    {
     "name": "stderr",
     "output_type": "stream",
     "text": [
      "Epoch 1013: 272batch [00:19, 13.64batch/s, loss=1.63e+3]\n"
     ]
    },
    {
     "name": "stdout",
     "output_type": "stream",
     "text": [
      "epoch 1013: avg train loss 1693.29, bar train loss 3.847, len train loss 0.033, col train loss 162.999\n"
     ]
    },
    {
     "name": "stderr",
     "output_type": "stream",
     "text": [
      "Epoch 1014: 2batch [00:00, 13.61batch/s, loss=1.64e+3]"
     ]
    },
    {
     "name": "stdout",
     "output_type": "stream",
     "text": [
      "epoch 1013: avg test  loss 1690.62, bar  test loss 3.773, len  test loss 0.033, col  test loss 162.827\n"
     ]
    },
    {
     "name": "stderr",
     "output_type": "stream",
     "text": [
      "Epoch 1014: 272batch [00:19, 13.60batch/s, loss=1.76e+3]\n"
     ]
    },
    {
     "name": "stdout",
     "output_type": "stream",
     "text": [
      "epoch 1014: avg train loss 1690.65, bar train loss 3.659, len train loss 0.035, col train loss 162.608\n"
     ]
    },
    {
     "name": "stderr",
     "output_type": "stream",
     "text": [
      "Epoch 1015: 2batch [00:00, 13.61batch/s, loss=1.73e+3]"
     ]
    },
    {
     "name": "stdout",
     "output_type": "stream",
     "text": [
      "epoch 1014: avg test  loss 1686.69, bar  test loss 3.569, len  test loss 0.035, col  test loss 162.292\n"
     ]
    },
    {
     "name": "stderr",
     "output_type": "stream",
     "text": [
      "Epoch 1015: 272batch [00:19, 13.62batch/s, loss=1.86e+3]\n"
     ]
    },
    {
     "name": "stdout",
     "output_type": "stream",
     "text": [
      "epoch 1015: avg train loss 1689.37, bar train loss 3.660, len train loss 0.038, col train loss 162.575\n",
      "epoch 1015: avg test  loss 1689.55, bar  test loss 3.704, len  test loss 0.039, col  test loss 162.234\n"
     ]
    },
    {
     "name": "stderr",
     "output_type": "stream",
     "text": [
      "Epoch 1016: 272batch [00:19, 13.62batch/s, loss=1.8e+3] \n"
     ]
    },
    {
     "name": "stdout",
     "output_type": "stream",
     "text": [
      "epoch 1016: avg train loss 1693.57, bar train loss 3.830, len train loss 0.041, col train loss 162.513\n"
     ]
    },
    {
     "name": "stderr",
     "output_type": "stream",
     "text": [
      "Epoch 1017: 2batch [00:00, 13.70batch/s, loss=1.71e+3]"
     ]
    },
    {
     "name": "stdout",
     "output_type": "stream",
     "text": [
      "epoch 1016: avg test  loss 1699.22, bar  test loss 3.965, len  test loss 0.032, col  test loss 163.027\n"
     ]
    },
    {
     "name": "stderr",
     "output_type": "stream",
     "text": [
      "Epoch 1017: 272batch [00:20, 13.59batch/s, loss=1.85e+3]\n"
     ]
    },
    {
     "name": "stdout",
     "output_type": "stream",
     "text": [
      "epoch 1017: avg train loss 1701.45, bar train loss 4.132, len train loss 0.036, col train loss 163.161\n"
     ]
    },
    {
     "name": "stderr",
     "output_type": "stream",
     "text": [
      "Epoch 1018: 2batch [00:00, 13.70batch/s, loss=1.66e+3]"
     ]
    },
    {
     "name": "stdout",
     "output_type": "stream",
     "text": [
      "epoch 1017: avg test  loss 1698.08, bar  test loss 4.041, len  test loss 0.038, col  test loss 162.930\n"
     ]
    },
    {
     "name": "stderr",
     "output_type": "stream",
     "text": [
      "Epoch 1018: 272batch [00:20, 13.58batch/s, loss=1.7e+3] \n"
     ]
    },
    {
     "name": "stdout",
     "output_type": "stream",
     "text": [
      "epoch 1018: avg train loss 1704.78, bar train loss 4.073, len train loss 0.044, col train loss 163.674\n"
     ]
    },
    {
     "name": "stderr",
     "output_type": "stream",
     "text": [
      "Epoch 1019: 2batch [00:00, 13.70batch/s, loss=1.67e+3]"
     ]
    },
    {
     "name": "stdout",
     "output_type": "stream",
     "text": [
      "epoch 1018: avg test  loss 1698.80, bar  test loss 3.910, len  test loss 0.036, col  test loss 163.621\n"
     ]
    },
    {
     "name": "stderr",
     "output_type": "stream",
     "text": [
      "Epoch 1019: 272batch [00:20, 13.53batch/s, loss=1.69e+3]\n"
     ]
    },
    {
     "name": "stdout",
     "output_type": "stream",
     "text": [
      "epoch 1019: avg train loss 1697.83, bar train loss 3.921, len train loss 0.037, col train loss 163.007\n"
     ]
    },
    {
     "name": "stderr",
     "output_type": "stream",
     "text": [
      "Epoch 1020: 2batch [00:00, 13.51batch/s, loss=1.71e+3]"
     ]
    },
    {
     "name": "stdout",
     "output_type": "stream",
     "text": [
      "epoch 1019: avg test  loss 1696.50, bar  test loss 3.896, len  test loss 0.031, col  test loss 163.400\n"
     ]
    },
    {
     "name": "stderr",
     "output_type": "stream",
     "text": [
      "Epoch 1020: 272batch [00:19, 13.62batch/s, loss=1.86e+3]\n"
     ]
    },
    {
     "name": "stdout",
     "output_type": "stream",
     "text": [
      "epoch 1020: avg train loss 1691.34, bar train loss 3.699, len train loss 0.033, col train loss 162.852\n",
      "epoch 1020: avg test  loss 1694.49, bar  test loss 3.699, len  test loss 0.057, col  test loss 162.623\n"
     ]
    },
    {
     "name": "stderr",
     "output_type": "stream",
     "text": [
      "Epoch 1021: 272batch [00:20, 13.60batch/s, loss=1.95e+3]\n"
     ]
    },
    {
     "name": "stdout",
     "output_type": "stream",
     "text": [
      "epoch 1021: avg train loss 1696.68, bar train loss 3.832, len train loss 0.037, col train loss 162.960\n"
     ]
    },
    {
     "name": "stderr",
     "output_type": "stream",
     "text": [
      "Epoch 1022: 2batch [00:00, 13.61batch/s, loss=1.78e+3]"
     ]
    },
    {
     "name": "stdout",
     "output_type": "stream",
     "text": [
      "epoch 1021: avg test  loss 1734.84, bar  test loss 4.366, len  test loss 0.070, col  test loss 165.786\n"
     ]
    },
    {
     "name": "stderr",
     "output_type": "stream",
     "text": [
      "Epoch 1022: 272batch [00:20, 13.60batch/s, loss=1.79e+3]\n"
     ]
    },
    {
     "name": "stdout",
     "output_type": "stream",
     "text": [
      "epoch 1022: avg train loss 1699.29, bar train loss 3.841, len train loss 0.037, col train loss 163.322\n"
     ]
    },
    {
     "name": "stderr",
     "output_type": "stream",
     "text": [
      "Epoch 1023: 2batch [00:00, 13.61batch/s, loss=1.83e+3]"
     ]
    },
    {
     "name": "stdout",
     "output_type": "stream",
     "text": [
      "epoch 1022: avg test  loss 1706.84, bar  test loss 3.950, len  test loss 0.034, col  test loss 164.515\n"
     ]
    },
    {
     "name": "stderr",
     "output_type": "stream",
     "text": [
      "Epoch 1023: 272batch [00:20, 13.56batch/s, loss=1.86e+3]\n"
     ]
    },
    {
     "name": "stdout",
     "output_type": "stream",
     "text": [
      "epoch 1023: avg train loss 1697.53, bar train loss 3.815, len train loss 0.039, col train loss 163.064\n"
     ]
    },
    {
     "name": "stderr",
     "output_type": "stream",
     "text": [
      "Epoch 1024: 2batch [00:00, 13.33batch/s, loss=1.74e+3]"
     ]
    },
    {
     "name": "stdout",
     "output_type": "stream",
     "text": [
      "epoch 1023: avg test  loss 1734.57, bar  test loss 4.576, len  test loss 0.053, col  test loss 166.732\n"
     ]
    },
    {
     "name": "stderr",
     "output_type": "stream",
     "text": [
      "Epoch 1024: 272batch [00:20, 13.52batch/s, loss=1.77e+3]\n"
     ]
    },
    {
     "name": "stdout",
     "output_type": "stream",
     "text": [
      "epoch 1024: avg train loss 1701.68, bar train loss 3.908, len train loss 0.044, col train loss 163.151\n"
     ]
    },
    {
     "name": "stderr",
     "output_type": "stream",
     "text": [
      "Epoch 1025: 2batch [00:00, 13.70batch/s, loss=1.71e+3]"
     ]
    },
    {
     "name": "stdout",
     "output_type": "stream",
     "text": [
      "epoch 1024: avg test  loss 1697.13, bar  test loss 3.986, len  test loss 0.038, col  test loss 162.651\n"
     ]
    },
    {
     "name": "stderr",
     "output_type": "stream",
     "text": [
      "Epoch 1025: 272batch [00:20, 13.52batch/s, loss=1.83e+3]\n"
     ]
    },
    {
     "name": "stdout",
     "output_type": "stream",
     "text": [
      "epoch 1025: avg train loss 1698.48, bar train loss 3.939, len train loss 0.041, col train loss 162.999\n",
      "epoch 1025: avg test  loss 1692.99, bar  test loss 3.790, len  test loss 0.031, col  test loss 162.401\n"
     ]
    },
    {
     "name": "stderr",
     "output_type": "stream",
     "text": [
      "Epoch 1026: 272batch [00:20, 13.52batch/s, loss=1.96e+3]\n"
     ]
    },
    {
     "name": "stdout",
     "output_type": "stream",
     "text": [
      "epoch 1026: avg train loss 1706.97, bar train loss 4.128, len train loss 0.040, col train loss 163.870\n"
     ]
    },
    {
     "name": "stderr",
     "output_type": "stream",
     "text": [
      "Epoch 1027: 2batch [00:00, 13.51batch/s, loss=1.71e+3]"
     ]
    },
    {
     "name": "stdout",
     "output_type": "stream",
     "text": [
      "epoch 1026: avg test  loss 1713.85, bar  test loss 4.483, len  test loss 0.054, col  test loss 162.494\n"
     ]
    },
    {
     "name": "stderr",
     "output_type": "stream",
     "text": [
      "Epoch 1027: 272batch [00:20, 13.55batch/s, loss=1.84e+3]\n"
     ]
    },
    {
     "name": "stdout",
     "output_type": "stream",
     "text": [
      "epoch 1027: avg train loss 1697.87, bar train loss 3.915, len train loss 0.037, col train loss 162.573\n"
     ]
    },
    {
     "name": "stderr",
     "output_type": "stream",
     "text": [
      "Epoch 1028: 2batch [00:00, 13.70batch/s, loss=1.74e+3]"
     ]
    },
    {
     "name": "stdout",
     "output_type": "stream",
     "text": [
      "epoch 1027: avg test  loss 1695.59, bar  test loss 3.881, len  test loss 0.034, col  test loss 163.080\n"
     ]
    },
    {
     "name": "stderr",
     "output_type": "stream",
     "text": [
      "Epoch 1028: 272batch [00:20, 13.53batch/s, loss=1.87e+3]\n"
     ]
    },
    {
     "name": "stdout",
     "output_type": "stream",
     "text": [
      "epoch 1028: avg train loss 1694.51, bar train loss 3.872, len train loss 0.039, col train loss 162.765\n"
     ]
    },
    {
     "name": "stderr",
     "output_type": "stream",
     "text": [
      "Epoch 1029: 2batch [00:00, 13.51batch/s, loss=1.65e+3]"
     ]
    },
    {
     "name": "stdout",
     "output_type": "stream",
     "text": [
      "epoch 1028: avg test  loss 1698.05, bar  test loss 4.092, len  test loss 0.049, col  test loss 163.170\n"
     ]
    },
    {
     "name": "stderr",
     "output_type": "stream",
     "text": [
      "Epoch 1029: 272batch [00:20, 13.51batch/s, loss=1.92e+3]\n"
     ]
    },
    {
     "name": "stdout",
     "output_type": "stream",
     "text": [
      "epoch 1029: avg train loss 1698.82, bar train loss 4.072, len train loss 0.037, col train loss 162.868\n"
     ]
    },
    {
     "name": "stderr",
     "output_type": "stream",
     "text": [
      "Epoch 1030: 2batch [00:00, 13.51batch/s, loss=1.71e+3]"
     ]
    },
    {
     "name": "stdout",
     "output_type": "stream",
     "text": [
      "epoch 1029: avg test  loss 1710.52, bar  test loss 4.987, len  test loss 0.042, col  test loss 163.175\n"
     ]
    },
    {
     "name": "stderr",
     "output_type": "stream",
     "text": [
      "Epoch 1030: 272batch [00:20, 13.55batch/s, loss=1.77e+3]\n"
     ]
    },
    {
     "name": "stdout",
     "output_type": "stream",
     "text": [
      "epoch 1030: avg train loss 1703.20, bar train loss 4.246, len train loss 0.045, col train loss 163.163\n",
      "epoch 1030: avg test  loss 1697.60, bar  test loss 4.060, len  test loss 0.038, col  test loss 163.047\n"
     ]
    },
    {
     "name": "stderr",
     "output_type": "stream",
     "text": [
      "Epoch 1031: 272batch [00:20, 13.52batch/s, loss=1.75e+3]\n"
     ]
    },
    {
     "name": "stdout",
     "output_type": "stream",
     "text": [
      "epoch 1031: avg train loss 1694.72, bar train loss 3.858, len train loss 0.036, col train loss 162.992\n"
     ]
    },
    {
     "name": "stderr",
     "output_type": "stream",
     "text": [
      "Epoch 1032: 2batch [00:00, 13.16batch/s, loss=1.64e+3]"
     ]
    },
    {
     "name": "stdout",
     "output_type": "stream",
     "text": [
      "epoch 1031: avg test  loss 1692.83, bar  test loss 3.780, len  test loss 0.037, col  test loss 163.020\n"
     ]
    },
    {
     "name": "stderr",
     "output_type": "stream",
     "text": [
      "Epoch 1032: 272batch [00:20, 13.47batch/s, loss=1.77e+3]\n"
     ]
    },
    {
     "name": "stdout",
     "output_type": "stream",
     "text": [
      "epoch 1032: avg train loss 1693.58, bar train loss 3.861, len train loss 0.038, col train loss 162.941\n"
     ]
    },
    {
     "name": "stderr",
     "output_type": "stream",
     "text": [
      "Epoch 1033: 2batch [00:00, 13.61batch/s, loss=1.64e+3]"
     ]
    },
    {
     "name": "stdout",
     "output_type": "stream",
     "text": [
      "epoch 1032: avg test  loss 1699.13, bar  test loss 3.994, len  test loss 0.037, col  test loss 163.563\n"
     ]
    },
    {
     "name": "stderr",
     "output_type": "stream",
     "text": [
      "Epoch 1033: 272batch [00:20, 13.51batch/s, loss=1.8e+3] \n"
     ]
    },
    {
     "name": "stdout",
     "output_type": "stream",
     "text": [
      "epoch 1033: avg train loss 1696.99, bar train loss 3.928, len train loss 0.037, col train loss 163.218\n"
     ]
    },
    {
     "name": "stderr",
     "output_type": "stream",
     "text": [
      "Epoch 1034: 2batch [00:00, 13.70batch/s, loss=1.72e+3]"
     ]
    },
    {
     "name": "stdout",
     "output_type": "stream",
     "text": [
      "epoch 1033: avg test  loss 1695.15, bar  test loss 3.942, len  test loss 0.035, col  test loss 163.336\n"
     ]
    },
    {
     "name": "stderr",
     "output_type": "stream",
     "text": [
      "Epoch 1034: 272batch [00:20, 13.48batch/s, loss=1.71e+3]\n"
     ]
    },
    {
     "name": "stdout",
     "output_type": "stream",
     "text": [
      "epoch 1034: avg train loss 1693.43, bar train loss 3.832, len train loss 0.040, col train loss 162.619\n"
     ]
    },
    {
     "name": "stderr",
     "output_type": "stream",
     "text": [
      "Epoch 1035: 2batch [00:00, 13.42batch/s, loss=1.68e+3]"
     ]
    },
    {
     "name": "stdout",
     "output_type": "stream",
     "text": [
      "epoch 1034: avg test  loss 1695.09, bar  test loss 3.792, len  test loss 0.031, col  test loss 162.882\n"
     ]
    },
    {
     "name": "stderr",
     "output_type": "stream",
     "text": [
      "Epoch 1035: 272batch [00:20, 13.46batch/s, loss=1.84e+3]\n"
     ]
    },
    {
     "name": "stdout",
     "output_type": "stream",
     "text": [
      "epoch 1035: avg train loss 1692.56, bar train loss 3.763, len train loss 0.033, col train loss 162.619\n",
      "epoch 1035: avg test  loss 1693.36, bar  test loss 3.808, len  test loss 0.041, col  test loss 162.565\n"
     ]
    },
    {
     "name": "stderr",
     "output_type": "stream",
     "text": [
      "Epoch 1036: 272batch [00:20, 13.47batch/s, loss=1.71e+3]\n"
     ]
    },
    {
     "name": "stdout",
     "output_type": "stream",
     "text": [
      "epoch 1036: avg train loss 1691.82, bar train loss 3.779, len train loss 0.035, col train loss 162.616\n"
     ]
    },
    {
     "name": "stderr",
     "output_type": "stream",
     "text": [
      "Epoch 1037: 2batch [00:00, 13.33batch/s, loss=1.65e+3]"
     ]
    },
    {
     "name": "stdout",
     "output_type": "stream",
     "text": [
      "epoch 1036: avg test  loss 1693.52, bar  test loss 3.891, len  test loss 0.033, col  test loss 162.803\n"
     ]
    },
    {
     "name": "stderr",
     "output_type": "stream",
     "text": [
      "Epoch 1037: 272batch [00:20, 13.44batch/s, loss=1.87e+3]\n"
     ]
    },
    {
     "name": "stdout",
     "output_type": "stream",
     "text": [
      "epoch 1037: avg train loss 1694.05, bar train loss 3.877, len train loss 0.036, col train loss 162.891\n"
     ]
    },
    {
     "name": "stderr",
     "output_type": "stream",
     "text": [
      "Epoch 1038: 2batch [00:00, 13.61batch/s, loss=1.75e+3]"
     ]
    },
    {
     "name": "stdout",
     "output_type": "stream",
     "text": [
      "epoch 1037: avg test  loss 1694.79, bar  test loss 3.997, len  test loss 0.032, col  test loss 163.193\n"
     ]
    },
    {
     "name": "stderr",
     "output_type": "stream",
     "text": [
      "Epoch 1038: 272batch [00:20, 13.45batch/s, loss=1.84e+3]\n"
     ]
    },
    {
     "name": "stdout",
     "output_type": "stream",
     "text": [
      "epoch 1038: avg train loss 1692.93, bar train loss 3.830, len train loss 0.034, col train loss 162.879\n"
     ]
    },
    {
     "name": "stderr",
     "output_type": "stream",
     "text": [
      "Epoch 1039: 2batch [00:00, 13.70batch/s, loss=1.73e+3]"
     ]
    },
    {
     "name": "stdout",
     "output_type": "stream",
     "text": [
      "epoch 1038: avg test  loss 1691.41, bar  test loss 3.699, len  test loss 0.032, col  test loss 162.596\n"
     ]
    },
    {
     "name": "stderr",
     "output_type": "stream",
     "text": [
      "Epoch 1039: 272batch [00:20, 13.44batch/s, loss=1.82e+3]\n"
     ]
    },
    {
     "name": "stdout",
     "output_type": "stream",
     "text": [
      "epoch 1039: avg train loss 1693.46, bar train loss 3.814, len train loss 0.034, col train loss 162.803\n"
     ]
    },
    {
     "name": "stderr",
     "output_type": "stream",
     "text": [
      "Epoch 1040: 2batch [00:00, 13.51batch/s, loss=1.65e+3]"
     ]
    },
    {
     "name": "stdout",
     "output_type": "stream",
     "text": [
      "epoch 1039: avg test  loss 1692.89, bar  test loss 3.777, len  test loss 0.042, col  test loss 162.775\n"
     ]
    },
    {
     "name": "stderr",
     "output_type": "stream",
     "text": [
      "Epoch 1040: 272batch [00:20, 13.43batch/s, loss=1.87e+3]\n"
     ]
    },
    {
     "name": "stdout",
     "output_type": "stream",
     "text": [
      "epoch 1040: avg train loss 1695.27, bar train loss 3.770, len train loss 0.042, col train loss 162.873\n",
      "epoch 1040: avg test  loss 1692.65, bar  test loss 3.928, len  test loss 0.034, col  test loss 162.638\n"
     ]
    },
    {
     "name": "stderr",
     "output_type": "stream",
     "text": [
      "Epoch 1041: 272batch [00:20, 13.45batch/s, loss=1.75e+3]\n"
     ]
    },
    {
     "name": "stdout",
     "output_type": "stream",
     "text": [
      "epoch 1041: avg train loss 1696.23, bar train loss 3.845, len train loss 0.036, col train loss 162.927\n"
     ]
    },
    {
     "name": "stderr",
     "output_type": "stream",
     "text": [
      "Epoch 1042: 2batch [00:00, 13.70batch/s, loss=1.62e+3]"
     ]
    },
    {
     "name": "stdout",
     "output_type": "stream",
     "text": [
      "epoch 1041: avg test  loss 1692.18, bar  test loss 3.755, len  test loss 0.036, col  test loss 162.641\n"
     ]
    },
    {
     "name": "stderr",
     "output_type": "stream",
     "text": [
      "Epoch 1042: 272batch [00:20, 13.39batch/s, loss=1.91e+3]\n"
     ]
    },
    {
     "name": "stdout",
     "output_type": "stream",
     "text": [
      "epoch 1042: avg train loss 1692.67, bar train loss 3.787, len train loss 0.035, col train loss 162.812\n"
     ]
    },
    {
     "name": "stderr",
     "output_type": "stream",
     "text": [
      "Epoch 1043: 2batch [00:00, 13.61batch/s, loss=1.71e+3]"
     ]
    },
    {
     "name": "stdout",
     "output_type": "stream",
     "text": [
      "epoch 1042: avg test  loss 1695.06, bar  test loss 3.871, len  test loss 0.034, col  test loss 162.843\n"
     ]
    },
    {
     "name": "stderr",
     "output_type": "stream",
     "text": [
      "Epoch 1043: 272batch [00:20, 13.36batch/s, loss=1.89e+3]\n"
     ]
    },
    {
     "name": "stdout",
     "output_type": "stream",
     "text": [
      "epoch 1043: avg train loss 1692.65, bar train loss 3.785, len train loss 0.034, col train loss 163.119\n"
     ]
    },
    {
     "name": "stderr",
     "output_type": "stream",
     "text": [
      "Epoch 1044: 2batch [00:00, 13.25batch/s, loss=1.73e+3]"
     ]
    },
    {
     "name": "stdout",
     "output_type": "stream",
     "text": [
      "epoch 1043: avg test  loss 1693.37, bar  test loss 3.930, len  test loss 0.034, col  test loss 162.755\n"
     ]
    },
    {
     "name": "stderr",
     "output_type": "stream",
     "text": [
      "Epoch 1044: 272batch [00:20, 13.34batch/s, loss=1.76e+3]\n"
     ]
    },
    {
     "name": "stdout",
     "output_type": "stream",
     "text": [
      "epoch 1044: avg train loss 1700.45, bar train loss 4.214, len train loss 0.042, col train loss 163.026\n"
     ]
    },
    {
     "name": "stderr",
     "output_type": "stream",
     "text": [
      "Epoch 1045: 2batch [00:00, 13.51batch/s, loss=1.69e+3]"
     ]
    },
    {
     "name": "stdout",
     "output_type": "stream",
     "text": [
      "epoch 1044: avg test  loss 1722.50, bar  test loss 5.947, len  test loss 0.057, col  test loss 163.178\n"
     ]
    },
    {
     "name": "stderr",
     "output_type": "stream",
     "text": [
      "Epoch 1045: 272batch [00:20, 13.42batch/s, loss=1.86e+3]\n"
     ]
    },
    {
     "name": "stdout",
     "output_type": "stream",
     "text": [
      "epoch 1045: avg train loss 1707.71, bar train loss 4.943, len train loss 0.040, col train loss 163.262\n",
      "epoch 1045: avg test  loss 1706.12, bar  test loss 4.308, len  test loss 0.051, col  test loss 162.954\n"
     ]
    },
    {
     "name": "stderr",
     "output_type": "stream",
     "text": [
      "Epoch 1046: 272batch [00:20, 13.42batch/s, loss=1.75e+3]\n"
     ]
    },
    {
     "name": "stdout",
     "output_type": "stream",
     "text": [
      "epoch 1046: avg train loss 1697.58, bar train loss 4.055, len train loss 0.033, col train loss 162.975\n"
     ]
    },
    {
     "name": "stderr",
     "output_type": "stream",
     "text": [
      "Epoch 1047: 2batch [00:00, 13.51batch/s, loss=1.66e+3]"
     ]
    },
    {
     "name": "stdout",
     "output_type": "stream",
     "text": [
      "epoch 1046: avg test  loss 1697.50, bar  test loss 3.950, len  test loss 0.053, col  test loss 162.540\n"
     ]
    },
    {
     "name": "stderr",
     "output_type": "stream",
     "text": [
      "Epoch 1047: 272batch [00:20, 13.35batch/s, loss=1.71e+3]\n"
     ]
    },
    {
     "name": "stdout",
     "output_type": "stream",
     "text": [
      "epoch 1047: avg train loss 1696.44, bar train loss 3.939, len train loss 0.037, col train loss 163.098\n"
     ]
    },
    {
     "name": "stderr",
     "output_type": "stream",
     "text": [
      "Epoch 1048: 2batch [00:00, 13.42batch/s, loss=1.71e+3]"
     ]
    },
    {
     "name": "stdout",
     "output_type": "stream",
     "text": [
      "epoch 1047: avg test  loss 1696.28, bar  test loss 3.929, len  test loss 0.044, col  test loss 163.035\n"
     ]
    },
    {
     "name": "stderr",
     "output_type": "stream",
     "text": [
      "Epoch 1048: 272batch [00:20, 13.36batch/s, loss=1.78e+3]\n"
     ]
    },
    {
     "name": "stdout",
     "output_type": "stream",
     "text": [
      "epoch 1048: avg train loss 1695.48, bar train loss 3.945, len train loss 0.037, col train loss 162.928\n"
     ]
    },
    {
     "name": "stderr",
     "output_type": "stream",
     "text": [
      "Epoch 1049: 2batch [00:00, 13.42batch/s, loss=1.69e+3]"
     ]
    },
    {
     "name": "stdout",
     "output_type": "stream",
     "text": [
      "epoch 1048: avg test  loss 1697.30, bar  test loss 3.911, len  test loss 0.036, col  test loss 162.872\n"
     ]
    },
    {
     "name": "stderr",
     "output_type": "stream",
     "text": [
      "Epoch 1049: 272batch [00:20, 13.35batch/s, loss=1.87e+3]\n"
     ]
    },
    {
     "name": "stdout",
     "output_type": "stream",
     "text": [
      "epoch 1049: avg train loss 1704.83, bar train loss 4.045, len train loss 0.041, col train loss 163.707\n"
     ]
    },
    {
     "name": "stderr",
     "output_type": "stream",
     "text": [
      "Epoch 1050: 2batch [00:00, 13.51batch/s, loss=1.8e+3]"
     ]
    },
    {
     "name": "stdout",
     "output_type": "stream",
     "text": [
      "epoch 1049: avg test  loss 1712.63, bar  test loss 4.178, len  test loss 0.033, col  test loss 164.835\n"
     ]
    },
    {
     "name": "stderr",
     "output_type": "stream",
     "text": [
      "Epoch 1050: 272batch [00:20, 13.33batch/s, loss=1.92e+3]\n"
     ]
    },
    {
     "name": "stdout",
     "output_type": "stream",
     "text": [
      "epoch 1050: avg train loss 1697.50, bar train loss 3.866, len train loss 0.033, col train loss 163.171\n",
      "epoch 1050: avg test  loss 1695.85, bar  test loss 3.891, len  test loss 0.030, col  test loss 163.192\n"
     ]
    },
    {
     "name": "stderr",
     "output_type": "stream",
     "text": [
      "Epoch 1051: 272batch [00:20, 13.38batch/s, loss=1.84e+3]\n"
     ]
    },
    {
     "name": "stdout",
     "output_type": "stream",
     "text": [
      "epoch 1051: avg train loss 1696.64, bar train loss 3.862, len train loss 0.035, col train loss 163.235\n"
     ]
    },
    {
     "name": "stderr",
     "output_type": "stream",
     "text": [
      "Epoch 1052: 2batch [00:00, 13.51batch/s, loss=1.69e+3]"
     ]
    },
    {
     "name": "stdout",
     "output_type": "stream",
     "text": [
      "epoch 1051: avg test  loss 1699.98, bar  test loss 4.044, len  test loss 0.036, col  test loss 163.351\n"
     ]
    },
    {
     "name": "stderr",
     "output_type": "stream",
     "text": [
      "Epoch 1052: 272batch [00:20, 13.31batch/s, loss=1.78e+3]\n"
     ]
    },
    {
     "name": "stdout",
     "output_type": "stream",
     "text": [
      "epoch 1052: avg train loss 1697.43, bar train loss 4.018, len train loss 0.039, col train loss 162.606\n"
     ]
    },
    {
     "name": "stderr",
     "output_type": "stream",
     "text": [
      "Epoch 1053: 2batch [00:00, 13.61batch/s, loss=1.76e+3]"
     ]
    },
    {
     "name": "stdout",
     "output_type": "stream",
     "text": [
      "epoch 1052: avg test  loss 1697.73, bar  test loss 3.956, len  test loss 0.071, col  test loss 162.627\n"
     ]
    },
    {
     "name": "stderr",
     "output_type": "stream",
     "text": [
      "Epoch 1053: 272batch [00:20, 13.31batch/s, loss=1.72e+3]\n"
     ]
    },
    {
     "name": "stdout",
     "output_type": "stream",
     "text": [
      "epoch 1053: avg train loss 1695.34, bar train loss 3.905, len train loss 0.039, col train loss 162.748\n"
     ]
    },
    {
     "name": "stderr",
     "output_type": "stream",
     "text": [
      "Epoch 1054: 2batch [00:00, 13.70batch/s, loss=1.69e+3]"
     ]
    },
    {
     "name": "stdout",
     "output_type": "stream",
     "text": [
      "epoch 1053: avg test  loss 1693.70, bar  test loss 3.834, len  test loss 0.040, col  test loss 162.326\n"
     ]
    },
    {
     "name": "stderr",
     "output_type": "stream",
     "text": [
      "Epoch 1054: 272batch [00:20, 13.29batch/s, loss=1.79e+3]\n"
     ]
    },
    {
     "name": "stdout",
     "output_type": "stream",
     "text": [
      "epoch 1054: avg train loss 1690.84, bar train loss 3.832, len train loss 0.033, col train loss 162.520\n"
     ]
    },
    {
     "name": "stderr",
     "output_type": "stream",
     "text": [
      "Epoch 1055: 2batch [00:00, 13.33batch/s, loss=1.74e+3]"
     ]
    },
    {
     "name": "stdout",
     "output_type": "stream",
     "text": [
      "epoch 1054: avg test  loss 1719.59, bar  test loss 3.808, len  test loss 0.116, col  test loss 162.676\n"
     ]
    },
    {
     "name": "stderr",
     "output_type": "stream",
     "text": [
      "Epoch 1055: 272batch [00:20, 13.34batch/s, loss=1.69e+3]\n"
     ]
    },
    {
     "name": "stdout",
     "output_type": "stream",
     "text": [
      "epoch 1055: avg train loss 1690.62, bar train loss 3.833, len train loss 0.031, col train loss 162.722\n",
      "epoch 1055: avg test  loss 1723.06, bar  test loss 4.080, len  test loss 0.071, col  test loss 163.651\n"
     ]
    },
    {
     "name": "stderr",
     "output_type": "stream",
     "text": [
      "Epoch 1056: 272batch [00:20, 13.31batch/s, loss=1.81e+3]\n"
     ]
    },
    {
     "name": "stdout",
     "output_type": "stream",
     "text": [
      "epoch 1056: avg train loss 1698.60, bar train loss 3.908, len train loss 0.035, col train loss 163.474\n"
     ]
    },
    {
     "name": "stderr",
     "output_type": "stream",
     "text": [
      "Epoch 1057: 2batch [00:00, 13.51batch/s, loss=1.71e+3]"
     ]
    },
    {
     "name": "stdout",
     "output_type": "stream",
     "text": [
      "epoch 1056: avg test  loss 1696.08, bar  test loss 3.750, len  test loss 0.042, col  test loss 162.453\n"
     ]
    },
    {
     "name": "stderr",
     "output_type": "stream",
     "text": [
      "Epoch 1057: 272batch [00:20, 13.29batch/s, loss=1.97e+3]\n"
     ]
    },
    {
     "name": "stdout",
     "output_type": "stream",
     "text": [
      "epoch 1057: avg train loss 1699.27, bar train loss 3.903, len train loss 0.054, col train loss 162.978\n"
     ]
    },
    {
     "name": "stderr",
     "output_type": "stream",
     "text": [
      "Epoch 1058: 2batch [00:00, 13.33batch/s, loss=1.75e+3]"
     ]
    },
    {
     "name": "stdout",
     "output_type": "stream",
     "text": [
      "epoch 1057: avg test  loss 1707.64, bar  test loss 3.842, len  test loss 0.086, col  test loss 162.569\n"
     ]
    },
    {
     "name": "stderr",
     "output_type": "stream",
     "text": [
      "Epoch 1058: 272batch [00:20, 13.35batch/s, loss=1.69e+3]\n"
     ]
    },
    {
     "name": "stdout",
     "output_type": "stream",
     "text": [
      "epoch 1058: avg train loss 1696.29, bar train loss 3.889, len train loss 0.037, col train loss 162.860\n"
     ]
    },
    {
     "name": "stderr",
     "output_type": "stream",
     "text": [
      "Epoch 1059: 2batch [00:00, 13.33batch/s, loss=1.68e+3]"
     ]
    },
    {
     "name": "stdout",
     "output_type": "stream",
     "text": [
      "epoch 1058: avg test  loss 1702.76, bar  test loss 3.747, len  test loss 0.062, col  test loss 162.523\n"
     ]
    },
    {
     "name": "stderr",
     "output_type": "stream",
     "text": [
      "Epoch 1059: 272batch [00:20, 13.30batch/s, loss=1.73e+3]\n"
     ]
    },
    {
     "name": "stdout",
     "output_type": "stream",
     "text": [
      "epoch 1059: avg train loss 1694.20, bar train loss 3.781, len train loss 0.042, col train loss 162.680\n"
     ]
    },
    {
     "name": "stderr",
     "output_type": "stream",
     "text": [
      "Epoch 1060: 2batch [00:00, 13.51batch/s, loss=1.73e+3]"
     ]
    },
    {
     "name": "stdout",
     "output_type": "stream",
     "text": [
      "epoch 1059: avg test  loss 1699.67, bar  test loss 3.758, len  test loss 0.042, col  test loss 162.692\n"
     ]
    },
    {
     "name": "stderr",
     "output_type": "stream",
     "text": [
      "Epoch 1060: 272batch [00:20, 13.31batch/s, loss=1.91e+3]\n"
     ]
    },
    {
     "name": "stdout",
     "output_type": "stream",
     "text": [
      "epoch 1060: avg train loss 1694.84, bar train loss 3.810, len train loss 0.037, col train loss 163.199\n",
      "epoch 1060: avg test  loss 1703.25, bar  test loss 3.740, len  test loss 0.045, col  test loss 163.215\n"
     ]
    },
    {
     "name": "stderr",
     "output_type": "stream",
     "text": [
      "Epoch 1061: 272batch [00:20, 13.31batch/s, loss=1.84e+3]\n"
     ]
    },
    {
     "name": "stdout",
     "output_type": "stream",
     "text": [
      "epoch 1061: avg train loss 1693.08, bar train loss 3.755, len train loss 0.035, col train loss 162.987\n"
     ]
    },
    {
     "name": "stderr",
     "output_type": "stream",
     "text": [
      "Epoch 1062: 2batch [00:00, 13.16batch/s, loss=1.7e+3]"
     ]
    },
    {
     "name": "stdout",
     "output_type": "stream",
     "text": [
      "epoch 1061: avg test  loss 1701.48, bar  test loss 3.756, len  test loss 0.041, col  test loss 163.315\n"
     ]
    },
    {
     "name": "stderr",
     "output_type": "stream",
     "text": [
      "Epoch 1062: 272batch [00:20, 13.28batch/s, loss=1.9e+3] \n"
     ]
    },
    {
     "name": "stdout",
     "output_type": "stream",
     "text": [
      "epoch 1062: avg train loss 1694.41, bar train loss 3.955, len train loss 0.036, col train loss 162.979\n"
     ]
    },
    {
     "name": "stderr",
     "output_type": "stream",
     "text": [
      "Epoch 1063: 2batch [00:00, 13.61batch/s, loss=1.67e+3]"
     ]
    },
    {
     "name": "stdout",
     "output_type": "stream",
     "text": [
      "epoch 1062: avg test  loss 1698.78, bar  test loss 4.038, len  test loss 0.058, col  test loss 162.586\n"
     ]
    },
    {
     "name": "stderr",
     "output_type": "stream",
     "text": [
      "Epoch 1063: 272batch [00:20, 13.29batch/s, loss=1.68e+3]\n"
     ]
    },
    {
     "name": "stdout",
     "output_type": "stream",
     "text": [
      "epoch 1063: avg train loss 1692.04, bar train loss 3.907, len train loss 0.035, col train loss 162.671\n"
     ]
    },
    {
     "name": "stderr",
     "output_type": "stream",
     "text": [
      "Epoch 1064: 2batch [00:00, 13.51batch/s, loss=1.64e+3]"
     ]
    },
    {
     "name": "stdout",
     "output_type": "stream",
     "text": [
      "epoch 1063: avg test  loss 1696.45, bar  test loss 3.862, len  test loss 0.045, col  test loss 163.114\n"
     ]
    },
    {
     "name": "stderr",
     "output_type": "stream",
     "text": [
      "Epoch 1064: 272batch [00:20, 13.28batch/s, loss=1.7e+3] \n"
     ]
    },
    {
     "name": "stdout",
     "output_type": "stream",
     "text": [
      "epoch 1064: avg train loss 1702.28, bar train loss 4.345, len train loss 0.039, col train loss 163.192\n"
     ]
    },
    {
     "name": "stderr",
     "output_type": "stream",
     "text": [
      "Epoch 1065: 2batch [00:00, 13.42batch/s, loss=1.69e+3]"
     ]
    },
    {
     "name": "stdout",
     "output_type": "stream",
     "text": [
      "epoch 1064: avg test  loss 1707.26, bar  test loss 3.981, len  test loss 0.070, col  test loss 163.099\n"
     ]
    },
    {
     "name": "stderr",
     "output_type": "stream",
     "text": [
      "Epoch 1065: 272batch [00:20, 13.26batch/s, loss=1.99e+3]\n"
     ]
    },
    {
     "name": "stdout",
     "output_type": "stream",
     "text": [
      "epoch 1065: avg train loss 1698.46, bar train loss 3.940, len train loss 0.041, col train loss 163.022\n",
      "epoch 1065: avg test  loss 1697.70, bar  test loss 3.790, len  test loss 0.038, col  test loss 163.271\n"
     ]
    },
    {
     "name": "stderr",
     "output_type": "stream",
     "text": [
      "Epoch 1066: 272batch [00:20, 13.25batch/s, loss=1.9e+3] \n"
     ]
    },
    {
     "name": "stdout",
     "output_type": "stream",
     "text": [
      "epoch 1066: avg train loss 1694.91, bar train loss 3.934, len train loss 0.032, col train loss 163.161\n"
     ]
    },
    {
     "name": "stderr",
     "output_type": "stream",
     "text": [
      "Epoch 1067: 2batch [00:00, 13.25batch/s, loss=1.73e+3]"
     ]
    },
    {
     "name": "stdout",
     "output_type": "stream",
     "text": [
      "epoch 1066: avg test  loss 1704.99, bar  test loss 4.075, len  test loss 0.047, col  test loss 163.617\n"
     ]
    },
    {
     "name": "stderr",
     "output_type": "stream",
     "text": [
      "Epoch 1067: 272batch [00:20, 13.22batch/s, loss=1.71e+3]\n"
     ]
    },
    {
     "name": "stdout",
     "output_type": "stream",
     "text": [
      "epoch 1067: avg train loss 1698.36, bar train loss 3.889, len train loss 0.036, col train loss 163.487\n"
     ]
    },
    {
     "name": "stderr",
     "output_type": "stream",
     "text": [
      "Epoch 1068: 2batch [00:00, 13.25batch/s, loss=1.65e+3]"
     ]
    },
    {
     "name": "stdout",
     "output_type": "stream",
     "text": [
      "epoch 1067: avg test  loss 1710.08, bar  test loss 3.852, len  test loss 0.087, col  test loss 163.190\n"
     ]
    },
    {
     "name": "stderr",
     "output_type": "stream",
     "text": [
      "Epoch 1068: 272batch [00:20, 13.22batch/s, loss=2.09e+3]\n"
     ]
    },
    {
     "name": "stdout",
     "output_type": "stream",
     "text": [
      "epoch 1068: avg train loss 1700.64, bar train loss 4.144, len train loss 0.035, col train loss 162.914\n"
     ]
    },
    {
     "name": "stderr",
     "output_type": "stream",
     "text": [
      "Epoch 1069: 2batch [00:00, 13.07batch/s, loss=1.68e+3]"
     ]
    },
    {
     "name": "stdout",
     "output_type": "stream",
     "text": [
      "epoch 1068: avg test  loss 1722.35, bar  test loss 4.603, len  test loss 0.054, col  test loss 163.773\n"
     ]
    },
    {
     "name": "stderr",
     "output_type": "stream",
     "text": [
      "Epoch 1069: 272batch [00:20, 13.12batch/s, loss=1.77e+3]\n"
     ]
    },
    {
     "name": "stdout",
     "output_type": "stream",
     "text": [
      "epoch 1069: avg train loss 1696.14, bar train loss 3.961, len train loss 0.031, col train loss 163.206\n"
     ]
    },
    {
     "name": "stderr",
     "output_type": "stream",
     "text": [
      "Epoch 1070: 2batch [00:00, 13.42batch/s, loss=1.74e+3]"
     ]
    },
    {
     "name": "stdout",
     "output_type": "stream",
     "text": [
      "epoch 1069: avg test  loss 1711.60, bar  test loss 3.991, len  test loss 0.074, col  test loss 162.880\n"
     ]
    },
    {
     "name": "stderr",
     "output_type": "stream",
     "text": [
      "Epoch 1070: 272batch [00:20, 13.23batch/s, loss=1.84e+3]\n"
     ]
    },
    {
     "name": "stdout",
     "output_type": "stream",
     "text": [
      "epoch 1070: avg train loss 1698.83, bar train loss 4.115, len train loss 0.040, col train loss 162.777\n",
      "epoch 1070: avg test  loss 1698.84, bar  test loss 4.069, len  test loss 0.044, col  test loss 162.855\n"
     ]
    },
    {
     "name": "stderr",
     "output_type": "stream",
     "text": [
      "Epoch 1071: 272batch [00:20, 13.22batch/s, loss=1.89e+3]\n"
     ]
    },
    {
     "name": "stdout",
     "output_type": "stream",
     "text": [
      "epoch 1071: avg train loss 1696.45, bar train loss 4.002, len train loss 0.042, col train loss 163.261\n"
     ]
    },
    {
     "name": "stderr",
     "output_type": "stream",
     "text": [
      "Epoch 1072: 2batch [00:00, 13.16batch/s, loss=1.7e+3]"
     ]
    },
    {
     "name": "stdout",
     "output_type": "stream",
     "text": [
      "epoch 1071: avg test  loss 1705.74, bar  test loss 3.852, len  test loss 0.137, col  test loss 162.814\n"
     ]
    },
    {
     "name": "stderr",
     "output_type": "stream",
     "text": [
      "Epoch 1072: 272batch [00:20, 13.16batch/s, loss=1.87e+3]\n"
     ]
    },
    {
     "name": "stdout",
     "output_type": "stream",
     "text": [
      "epoch 1072: avg train loss 1694.07, bar train loss 3.906, len train loss 0.044, col train loss 162.755\n"
     ]
    },
    {
     "name": "stderr",
     "output_type": "stream",
     "text": [
      "Epoch 1073: 2batch [00:00, 13.07batch/s, loss=1.65e+3]"
     ]
    },
    {
     "name": "stdout",
     "output_type": "stream",
     "text": [
      "epoch 1072: avg test  loss 1692.50, bar  test loss 3.908, len  test loss 0.048, col  test loss 162.783\n"
     ]
    },
    {
     "name": "stderr",
     "output_type": "stream",
     "text": [
      "Epoch 1073: 272batch [00:20, 13.15batch/s, loss=1.86e+3]\n"
     ]
    },
    {
     "name": "stdout",
     "output_type": "stream",
     "text": [
      "epoch 1073: avg train loss 1694.28, bar train loss 3.898, len train loss 0.038, col train loss 163.059\n"
     ]
    },
    {
     "name": "stderr",
     "output_type": "stream",
     "text": [
      "Epoch 1074: 2batch [00:00, 13.33batch/s, loss=1.61e+3]"
     ]
    },
    {
     "name": "stdout",
     "output_type": "stream",
     "text": [
      "epoch 1073: avg test  loss 1700.46, bar  test loss 3.999, len  test loss 0.039, col  test loss 163.882\n"
     ]
    },
    {
     "name": "stderr",
     "output_type": "stream",
     "text": [
      "Epoch 1074: 272batch [00:20, 13.16batch/s, loss=1.67e+3]\n"
     ]
    },
    {
     "name": "stdout",
     "output_type": "stream",
     "text": [
      "epoch 1074: avg train loss 1695.78, bar train loss 3.896, len train loss 0.032, col train loss 163.418\n"
     ]
    },
    {
     "name": "stderr",
     "output_type": "stream",
     "text": [
      "Epoch 1075: 2batch [00:00, 13.25batch/s, loss=1.7e+3]"
     ]
    },
    {
     "name": "stdout",
     "output_type": "stream",
     "text": [
      "epoch 1074: avg test  loss 1700.97, bar  test loss 4.020, len  test loss 0.043, col  test loss 163.361\n"
     ]
    },
    {
     "name": "stderr",
     "output_type": "stream",
     "text": [
      "Epoch 1075: 272batch [00:20, 13.14batch/s, loss=1.67e+3]\n"
     ]
    },
    {
     "name": "stdout",
     "output_type": "stream",
     "text": [
      "epoch 1075: avg train loss 1701.36, bar train loss 4.107, len train loss 0.043, col train loss 163.406\n",
      "epoch 1075: avg test  loss 1700.26, bar  test loss 3.901, len  test loss 0.034, col  test loss 162.302\n"
     ]
    },
    {
     "name": "stderr",
     "output_type": "stream",
     "text": [
      "Epoch 1076: 272batch [00:20, 13.20batch/s, loss=1.93e+3]\n"
     ]
    },
    {
     "name": "stdout",
     "output_type": "stream",
     "text": [
      "epoch 1076: avg train loss 1694.56, bar train loss 3.862, len train loss 0.035, col train loss 162.372\n"
     ]
    },
    {
     "name": "stderr",
     "output_type": "stream",
     "text": [
      "Epoch 1077: 2batch [00:00, 13.61batch/s, loss=1.83e+3]"
     ]
    },
    {
     "name": "stdout",
     "output_type": "stream",
     "text": [
      "epoch 1076: avg test  loss 1692.53, bar  test loss 3.970, len  test loss 0.034, col  test loss 162.517\n"
     ]
    },
    {
     "name": "stderr",
     "output_type": "stream",
     "text": [
      "Epoch 1077: 272batch [00:20, 13.15batch/s, loss=1.79e+3]\n"
     ]
    },
    {
     "name": "stdout",
     "output_type": "stream",
     "text": [
      "epoch 1077: avg train loss 1697.48, bar train loss 4.073, len train loss 0.038, col train loss 163.109\n"
     ]
    },
    {
     "name": "stderr",
     "output_type": "stream",
     "text": [
      "Epoch 1078: 2batch [00:00, 13.25batch/s, loss=1.7e+3]"
     ]
    },
    {
     "name": "stdout",
     "output_type": "stream",
     "text": [
      "epoch 1077: avg test  loss 1698.78, bar  test loss 3.817, len  test loss 0.049, col  test loss 162.790\n"
     ]
    },
    {
     "name": "stderr",
     "output_type": "stream",
     "text": [
      "Epoch 1078: 272batch [00:20, 13.14batch/s, loss=1.98e+3]\n"
     ]
    },
    {
     "name": "stdout",
     "output_type": "stream",
     "text": [
      "epoch 1078: avg train loss 1692.91, bar train loss 3.844, len train loss 0.034, col train loss 163.020\n"
     ]
    },
    {
     "name": "stderr",
     "output_type": "stream",
     "text": [
      "Epoch 1079: 2batch [00:00, 13.25batch/s, loss=1.71e+3]"
     ]
    },
    {
     "name": "stdout",
     "output_type": "stream",
     "text": [
      "epoch 1078: avg test  loss 1704.32, bar  test loss 4.039, len  test loss 0.038, col  test loss 163.202\n"
     ]
    },
    {
     "name": "stderr",
     "output_type": "stream",
     "text": [
      "Epoch 1079: 272batch [00:20, 13.17batch/s, loss=1.77e+3]\n"
     ]
    },
    {
     "name": "stdout",
     "output_type": "stream",
     "text": [
      "epoch 1079: avg train loss 1694.41, bar train loss 3.894, len train loss 0.046, col train loss 162.930\n"
     ]
    },
    {
     "name": "stderr",
     "output_type": "stream",
     "text": [
      "Epoch 1080: 2batch [00:00, 13.25batch/s, loss=1.66e+3]"
     ]
    },
    {
     "name": "stdout",
     "output_type": "stream",
     "text": [
      "epoch 1079: avg test  loss 1716.78, bar  test loss 4.261, len  test loss 0.063, col  test loss 162.670\n"
     ]
    },
    {
     "name": "stderr",
     "output_type": "stream",
     "text": [
      "Epoch 1080: 272batch [00:20, 13.05batch/s, loss=2e+3]   \n"
     ]
    },
    {
     "name": "stdout",
     "output_type": "stream",
     "text": [
      "epoch 1080: avg train loss 1702.74, bar train loss 4.073, len train loss 0.036, col train loss 163.734\n",
      "epoch 1080: avg test  loss 1738.84, bar  test loss 4.321, len  test loss 0.107, col  test loss 164.567\n"
     ]
    },
    {
     "name": "stderr",
     "output_type": "stream",
     "text": [
      "Epoch 1081: 272batch [00:20, 13.09batch/s, loss=1.91e+3]\n"
     ]
    },
    {
     "name": "stdout",
     "output_type": "stream",
     "text": [
      "epoch 1081: avg train loss 1704.74, bar train loss 4.077, len train loss 0.031, col train loss 163.957\n"
     ]
    },
    {
     "name": "stderr",
     "output_type": "stream",
     "text": [
      "Epoch 1082: 2batch [00:00, 12.82batch/s, loss=1.69e+3]"
     ]
    },
    {
     "name": "stdout",
     "output_type": "stream",
     "text": [
      "epoch 1081: avg test  loss 1708.52, bar  test loss 4.279, len  test loss 0.039, col  test loss 163.521\n"
     ]
    },
    {
     "name": "stderr",
     "output_type": "stream",
     "text": [
      "Epoch 1082: 272batch [00:20, 13.16batch/s, loss=2.11e+3]\n"
     ]
    },
    {
     "name": "stdout",
     "output_type": "stream",
     "text": [
      "epoch 1082: avg train loss 1700.13, bar train loss 4.066, len train loss 0.041, col train loss 162.653\n"
     ]
    },
    {
     "name": "stderr",
     "output_type": "stream",
     "text": [
      "Epoch 1083: 2batch [00:00, 13.51batch/s, loss=1.69e+3]"
     ]
    },
    {
     "name": "stdout",
     "output_type": "stream",
     "text": [
      "epoch 1082: avg test  loss 1712.98, bar  test loss 4.238, len  test loss 0.061, col  test loss 162.862\n"
     ]
    },
    {
     "name": "stderr",
     "output_type": "stream",
     "text": [
      "Epoch 1083: 272batch [00:20, 13.08batch/s, loss=1.87e+3]\n"
     ]
    },
    {
     "name": "stdout",
     "output_type": "stream",
     "text": [
      "epoch 1083: avg train loss 1699.42, bar train loss 4.046, len train loss 0.043, col train loss 162.901\n"
     ]
    },
    {
     "name": "stderr",
     "output_type": "stream",
     "text": [
      "Epoch 1084: 2batch [00:00, 13.25batch/s, loss=1.71e+3]"
     ]
    },
    {
     "name": "stdout",
     "output_type": "stream",
     "text": [
      "epoch 1083: avg test  loss 1704.06, bar  test loss 3.827, len  test loss 0.057, col  test loss 162.435\n"
     ]
    },
    {
     "name": "stderr",
     "output_type": "stream",
     "text": [
      "Epoch 1084: 272batch [00:20, 13.07batch/s, loss=1.81e+3]\n"
     ]
    },
    {
     "name": "stdout",
     "output_type": "stream",
     "text": [
      "epoch 1084: avg train loss 1697.14, bar train loss 3.894, len train loss 0.045, col train loss 162.550\n"
     ]
    },
    {
     "name": "stderr",
     "output_type": "stream",
     "text": [
      "Epoch 1085: 2batch [00:00, 13.16batch/s, loss=1.71e+3]"
     ]
    },
    {
     "name": "stdout",
     "output_type": "stream",
     "text": [
      "epoch 1084: avg test  loss 1730.92, bar  test loss 4.159, len  test loss 0.110, col  test loss 162.939\n"
     ]
    },
    {
     "name": "stderr",
     "output_type": "stream",
     "text": [
      "Epoch 1085: 272batch [00:20, 13.09batch/s, loss=1.92e+3]\n"
     ]
    },
    {
     "name": "stdout",
     "output_type": "stream",
     "text": [
      "epoch 1085: avg train loss 1711.75, bar train loss 4.291, len train loss 0.041, col train loss 164.488\n",
      "epoch 1085: avg test  loss 1721.63, bar  test loss 4.777, len  test loss 0.056, col  test loss 162.666\n"
     ]
    },
    {
     "name": "stderr",
     "output_type": "stream",
     "text": [
      "Epoch 1086: 272batch [00:20, 13.12batch/s, loss=1.85e+3]\n"
     ]
    },
    {
     "name": "stdout",
     "output_type": "stream",
     "text": [
      "epoch 1086: avg train loss 1700.15, bar train loss 4.147, len train loss 0.042, col train loss 163.081\n"
     ]
    },
    {
     "name": "stderr",
     "output_type": "stream",
     "text": [
      "Epoch 1087: 2batch [00:00, 12.99batch/s, loss=1.7e+3]"
     ]
    },
    {
     "name": "stdout",
     "output_type": "stream",
     "text": [
      "epoch 1086: avg test  loss 1705.86, bar  test loss 4.000, len  test loss 0.044, col  test loss 162.701\n"
     ]
    },
    {
     "name": "stderr",
     "output_type": "stream",
     "text": [
      "Epoch 1087: 272batch [00:20, 13.09batch/s, loss=1.84e+3]\n"
     ]
    },
    {
     "name": "stdout",
     "output_type": "stream",
     "text": [
      "epoch 1087: avg train loss 1708.19, bar train loss 4.120, len train loss 0.036, col train loss 163.864\n"
     ]
    },
    {
     "name": "stderr",
     "output_type": "stream",
     "text": [
      "Epoch 1088: 2batch [00:00, 12.99batch/s, loss=1.69e+3]"
     ]
    },
    {
     "name": "stdout",
     "output_type": "stream",
     "text": [
      "epoch 1087: avg test  loss 1728.24, bar  test loss 4.156, len  test loss 0.052, col  test loss 164.318\n"
     ]
    },
    {
     "name": "stderr",
     "output_type": "stream",
     "text": [
      "Epoch 1088: 272batch [00:20, 13.07batch/s, loss=1.71e+3]\n"
     ]
    },
    {
     "name": "stdout",
     "output_type": "stream",
     "text": [
      "epoch 1088: avg train loss 1708.35, bar train loss 4.138, len train loss 0.033, col train loss 164.469\n"
     ]
    },
    {
     "name": "stderr",
     "output_type": "stream",
     "text": [
      "Epoch 1089: 2batch [00:00, 13.33batch/s, loss=1.74e+3]"
     ]
    },
    {
     "name": "stdout",
     "output_type": "stream",
     "text": [
      "epoch 1088: avg test  loss 1726.42, bar  test loss 4.248, len  test loss 0.070, col  test loss 164.994\n"
     ]
    },
    {
     "name": "stderr",
     "output_type": "stream",
     "text": [
      "Epoch 1089: 272batch [00:20, 13.08batch/s, loss=1.85e+3]\n"
     ]
    },
    {
     "name": "stdout",
     "output_type": "stream",
     "text": [
      "epoch 1089: avg train loss 1704.64, bar train loss 4.038, len train loss 0.039, col train loss 163.493\n"
     ]
    },
    {
     "name": "stderr",
     "output_type": "stream",
     "text": [
      "Epoch 1090: 2batch [00:00, 13.24batch/s, loss=1.75e+3]"
     ]
    },
    {
     "name": "stdout",
     "output_type": "stream",
     "text": [
      "epoch 1089: avg test  loss 1710.15, bar  test loss 4.008, len  test loss 0.066, col  test loss 164.000\n"
     ]
    },
    {
     "name": "stderr",
     "output_type": "stream",
     "text": [
      "Epoch 1090: 272batch [00:20, 13.10batch/s, loss=1.98e+3]\n"
     ]
    },
    {
     "name": "stdout",
     "output_type": "stream",
     "text": [
      "epoch 1090: avg train loss 1707.85, bar train loss 4.056, len train loss 0.047, col train loss 163.594\n",
      "epoch 1090: avg test  loss 1716.79, bar  test loss 4.109, len  test loss 0.078, col  test loss 164.085\n"
     ]
    },
    {
     "name": "stderr",
     "output_type": "stream",
     "text": [
      "Epoch 1091: 272batch [00:20, 13.07batch/s, loss=1.89e+3]\n"
     ]
    },
    {
     "name": "stdout",
     "output_type": "stream",
     "text": [
      "epoch 1091: avg train loss 1701.98, bar train loss 4.056, len train loss 0.047, col train loss 163.092\n"
     ]
    },
    {
     "name": "stderr",
     "output_type": "stream",
     "text": [
      "Epoch 1092: 2batch [00:00, 13.33batch/s, loss=1.68e+3]"
     ]
    },
    {
     "name": "stdout",
     "output_type": "stream",
     "text": [
      "epoch 1091: avg test  loss 1708.07, bar  test loss 4.091, len  test loss 0.049, col  test loss 162.988\n"
     ]
    },
    {
     "name": "stderr",
     "output_type": "stream",
     "text": [
      "Epoch 1092: 272batch [00:20, 13.03batch/s, loss=1.81e+3]\n"
     ]
    },
    {
     "name": "stdout",
     "output_type": "stream",
     "text": [
      "epoch 1092: avg train loss 1701.47, bar train loss 4.081, len train loss 0.043, col train loss 163.195\n"
     ]
    },
    {
     "name": "stderr",
     "output_type": "stream",
     "text": [
      "Epoch 1093: 2batch [00:00, 13.07batch/s, loss=1.72e+3]"
     ]
    },
    {
     "name": "stdout",
     "output_type": "stream",
     "text": [
      "epoch 1092: avg test  loss 1717.63, bar  test loss 4.212, len  test loss 0.052, col  test loss 163.142\n"
     ]
    },
    {
     "name": "stderr",
     "output_type": "stream",
     "text": [
      "Epoch 1093: 272batch [00:20, 13.01batch/s, loss=1.7e+3] \n"
     ]
    },
    {
     "name": "stdout",
     "output_type": "stream",
     "text": [
      "epoch 1093: avg train loss 1697.32, bar train loss 3.946, len train loss 0.034, col train loss 162.978\n"
     ]
    },
    {
     "name": "stderr",
     "output_type": "stream",
     "text": [
      "Epoch 1094: 2batch [00:00, 13.33batch/s, loss=1.61e+3]"
     ]
    },
    {
     "name": "stdout",
     "output_type": "stream",
     "text": [
      "epoch 1093: avg test  loss 1712.75, bar  test loss 4.130, len  test loss 0.051, col  test loss 163.042\n"
     ]
    },
    {
     "name": "stderr",
     "output_type": "stream",
     "text": [
      "Epoch 1094: 272batch [00:20, 13.01batch/s, loss=1.65e+3]\n"
     ]
    },
    {
     "name": "stdout",
     "output_type": "stream",
     "text": [
      "epoch 1094: avg train loss 1700.13, bar train loss 4.199, len train loss 0.034, col train loss 162.895\n"
     ]
    },
    {
     "name": "stderr",
     "output_type": "stream",
     "text": [
      "Epoch 1095: 2batch [00:00, 13.33batch/s, loss=1.73e+3]"
     ]
    },
    {
     "name": "stdout",
     "output_type": "stream",
     "text": [
      "epoch 1094: avg test  loss 1738.22, bar  test loss 4.875, len  test loss 0.048, col  test loss 162.558\n"
     ]
    },
    {
     "name": "stderr",
     "output_type": "stream",
     "text": [
      "Epoch 1095: 272batch [00:20, 13.02batch/s, loss=1.83e+3]\n"
     ]
    },
    {
     "name": "stdout",
     "output_type": "stream",
     "text": [
      "epoch 1095: avg train loss 1696.10, bar train loss 4.006, len train loss 0.032, col train loss 163.064\n",
      "epoch 1095: avg test  loss 1741.83, bar  test loss 4.352, len  test loss 0.129, col  test loss 163.203\n"
     ]
    },
    {
     "name": "stderr",
     "output_type": "stream",
     "text": [
      "Epoch 1096: 272batch [00:20, 13.09batch/s, loss=1.78e+3]\n"
     ]
    },
    {
     "name": "stdout",
     "output_type": "stream",
     "text": [
      "epoch 1096: avg train loss 1697.77, bar train loss 3.992, len train loss 0.031, col train loss 163.468\n"
     ]
    },
    {
     "name": "stderr",
     "output_type": "stream",
     "text": [
      "Epoch 1097: 2batch [00:00, 12.99batch/s, loss=1.66e+3]"
     ]
    },
    {
     "name": "stdout",
     "output_type": "stream",
     "text": [
      "epoch 1096: avg test  loss 1710.27, bar  test loss 3.910, len  test loss 0.066, col  test loss 163.275\n"
     ]
    },
    {
     "name": "stderr",
     "output_type": "stream",
     "text": [
      "Epoch 1097: 272batch [00:20, 13.01batch/s, loss=1.89e+3]\n"
     ]
    },
    {
     "name": "stdout",
     "output_type": "stream",
     "text": [
      "epoch 1097: avg train loss 1692.31, bar train loss 3.918, len train loss 0.032, col train loss 163.069\n"
     ]
    },
    {
     "name": "stderr",
     "output_type": "stream",
     "text": [
      "Epoch 1098: 2batch [00:00, 12.74batch/s, loss=1.66e+3]"
     ]
    },
    {
     "name": "stdout",
     "output_type": "stream",
     "text": [
      "epoch 1097: avg test  loss 1705.32, bar  test loss 3.862, len  test loss 0.064, col  test loss 163.024\n"
     ]
    },
    {
     "name": "stderr",
     "output_type": "stream",
     "text": [
      "Epoch 1098: 272batch [00:20, 12.98batch/s, loss=1.7e+3] \n"
     ]
    },
    {
     "name": "stdout",
     "output_type": "stream",
     "text": [
      "epoch 1098: avg train loss 1697.36, bar train loss 3.996, len train loss 0.032, col train loss 163.606\n"
     ]
    },
    {
     "name": "stderr",
     "output_type": "stream",
     "text": [
      "Epoch 1099: 2batch [00:00, 12.99batch/s, loss=1.64e+3]"
     ]
    },
    {
     "name": "stdout",
     "output_type": "stream",
     "text": [
      "epoch 1098: avg test  loss 1711.51, bar  test loss 3.957, len  test loss 0.052, col  test loss 163.361\n"
     ]
    },
    {
     "name": "stderr",
     "output_type": "stream",
     "text": [
      "Epoch 1099: 272batch [00:20, 13.00batch/s, loss=1.75e+3]\n"
     ]
    },
    {
     "name": "stdout",
     "output_type": "stream",
     "text": [
      "epoch 1099: avg train loss 1698.49, bar train loss 4.002, len train loss 0.038, col train loss 163.552\n"
     ]
    },
    {
     "name": "stderr",
     "output_type": "stream",
     "text": [
      "Epoch 1100: 2batch [00:00, 13.07batch/s, loss=1.68e+3]"
     ]
    },
    {
     "name": "stdout",
     "output_type": "stream",
     "text": [
      "epoch 1099: avg test  loss 1705.56, bar  test loss 4.088, len  test loss 0.038, col  test loss 163.141\n"
     ]
    },
    {
     "name": "stderr",
     "output_type": "stream",
     "text": [
      "Epoch 1100: 272batch [00:20, 12.99batch/s, loss=2.03e+3]\n"
     ]
    },
    {
     "name": "stdout",
     "output_type": "stream",
     "text": [
      "epoch 1100: avg train loss 1694.57, bar train loss 4.057, len train loss 0.031, col train loss 163.036\n",
      "epoch 1100: avg test  loss 1709.29, bar  test loss 3.883, len  test loss 0.066, col  test loss 162.941\n"
     ]
    },
    {
     "name": "stderr",
     "output_type": "stream",
     "text": [
      "Epoch 1101: 272batch [00:20, 12.99batch/s, loss=1.89e+3]\n"
     ]
    },
    {
     "name": "stdout",
     "output_type": "stream",
     "text": [
      "epoch 1101: avg train loss 1695.83, bar train loss 3.943, len train loss 0.031, col train loss 163.271\n"
     ]
    },
    {
     "name": "stderr",
     "output_type": "stream",
     "text": [
      "Epoch 1102: 2batch [00:00, 13.24batch/s, loss=1.67e+3]"
     ]
    },
    {
     "name": "stdout",
     "output_type": "stream",
     "text": [
      "epoch 1101: avg test  loss 1715.69, bar  test loss 3.912, len  test loss 0.054, col  test loss 163.443\n"
     ]
    },
    {
     "name": "stderr",
     "output_type": "stream",
     "text": [
      "Epoch 1102: 272batch [00:20, 12.96batch/s, loss=1.98e+3]\n"
     ]
    },
    {
     "name": "stdout",
     "output_type": "stream",
     "text": [
      "epoch 1102: avg train loss 1697.54, bar train loss 3.921, len train loss 0.039, col train loss 163.101\n"
     ]
    },
    {
     "name": "stderr",
     "output_type": "stream",
     "text": [
      "Epoch 1103: 2batch [00:00, 13.07batch/s, loss=1.64e+3]"
     ]
    },
    {
     "name": "stdout",
     "output_type": "stream",
     "text": [
      "epoch 1102: avg test  loss 1713.26, bar  test loss 4.093, len  test loss 0.064, col  test loss 163.115\n"
     ]
    },
    {
     "name": "stderr",
     "output_type": "stream",
     "text": [
      "Epoch 1103: 272batch [00:20, 12.97batch/s, loss=1.97e+3]\n"
     ]
    },
    {
     "name": "stdout",
     "output_type": "stream",
     "text": [
      "epoch 1103: avg train loss 1700.52, bar train loss 4.104, len train loss 0.033, col train loss 163.316\n"
     ]
    },
    {
     "name": "stderr",
     "output_type": "stream",
     "text": [
      "Epoch 1104: 2batch [00:00, 13.16batch/s, loss=1.67e+3]"
     ]
    },
    {
     "name": "stdout",
     "output_type": "stream",
     "text": [
      "epoch 1103: avg test  loss 1726.60, bar  test loss 4.537, len  test loss 0.043, col  test loss 163.401\n"
     ]
    },
    {
     "name": "stderr",
     "output_type": "stream",
     "text": [
      "Epoch 1104: 272batch [00:21, 12.92batch/s, loss=1.88e+3]\n"
     ]
    },
    {
     "name": "stdout",
     "output_type": "stream",
     "text": [
      "epoch 1104: avg train loss 1706.54, bar train loss 4.149, len train loss 0.037, col train loss 163.954\n"
     ]
    },
    {
     "name": "stderr",
     "output_type": "stream",
     "text": [
      "Epoch 1105: 2batch [00:00, 13.42batch/s, loss=1.74e+3]"
     ]
    },
    {
     "name": "stdout",
     "output_type": "stream",
     "text": [
      "epoch 1104: avg test  loss 1717.19, bar  test loss 4.341, len  test loss 0.059, col  test loss 162.543\n"
     ]
    },
    {
     "name": "stderr",
     "output_type": "stream",
     "text": [
      "Epoch 1105: 272batch [00:20, 12.96batch/s, loss=1.91e+3]\n"
     ]
    },
    {
     "name": "stdout",
     "output_type": "stream",
     "text": [
      "epoch 1105: avg train loss 1704.74, bar train loss 4.304, len train loss 0.042, col train loss 163.491\n",
      "epoch 1105: avg test  loss 1719.53, bar  test loss 4.369, len  test loss 0.065, col  test loss 163.692\n"
     ]
    },
    {
     "name": "stderr",
     "output_type": "stream",
     "text": [
      "Epoch 1106: 272batch [00:20, 12.97batch/s, loss=1.78e+3]\n"
     ]
    },
    {
     "name": "stdout",
     "output_type": "stream",
     "text": [
      "epoch 1106: avg train loss 1713.02, bar train loss 4.823, len train loss 0.041, col train loss 163.370\n"
     ]
    },
    {
     "name": "stderr",
     "output_type": "stream",
     "text": [
      "Epoch 1107: 2batch [00:00, 12.74batch/s, loss=1.62e+3]"
     ]
    },
    {
     "name": "stdout",
     "output_type": "stream",
     "text": [
      "epoch 1106: avg test  loss 1714.85, bar  test loss 4.666, len  test loss 0.034, col  test loss 164.047\n"
     ]
    },
    {
     "name": "stderr",
     "output_type": "stream",
     "text": [
      "Epoch 1107: 272batch [00:21, 12.91batch/s, loss=1.97e+3]\n"
     ]
    },
    {
     "name": "stdout",
     "output_type": "stream",
     "text": [
      "epoch 1107: avg train loss 1715.28, bar train loss 4.752, len train loss 0.039, col train loss 164.222\n"
     ]
    },
    {
     "name": "stderr",
     "output_type": "stream",
     "text": [
      "Epoch 1108: 2batch [00:00, 12.99batch/s, loss=1.69e+3]"
     ]
    },
    {
     "name": "stdout",
     "output_type": "stream",
     "text": [
      "epoch 1107: avg test  loss 1735.17, bar  test loss 4.693, len  test loss 0.092, col  test loss 163.169\n"
     ]
    },
    {
     "name": "stderr",
     "output_type": "stream",
     "text": [
      "Epoch 1108: 272batch [00:21, 12.94batch/s, loss=1.75e+3]\n"
     ]
    },
    {
     "name": "stdout",
     "output_type": "stream",
     "text": [
      "epoch 1108: avg train loss 1707.21, bar train loss 4.523, len train loss 0.049, col train loss 163.370\n"
     ]
    },
    {
     "name": "stderr",
     "output_type": "stream",
     "text": [
      "Epoch 1109: 2batch [00:00, 12.74batch/s, loss=1.68e+3]"
     ]
    },
    {
     "name": "stdout",
     "output_type": "stream",
     "text": [
      "epoch 1108: avg test  loss 1737.51, bar  test loss 4.628, len  test loss 0.039, col  test loss 163.683\n"
     ]
    },
    {
     "name": "stderr",
     "output_type": "stream",
     "text": [
      "Epoch 1109: 272batch [00:21, 12.87batch/s, loss=1.77e+3]\n"
     ]
    },
    {
     "name": "stdout",
     "output_type": "stream",
     "text": [
      "epoch 1109: avg train loss 1706.35, bar train loss 4.567, len train loss 0.034, col train loss 163.161\n"
     ]
    },
    {
     "name": "stderr",
     "output_type": "stream",
     "text": [
      "Epoch 1110: 2batch [00:00, 13.07batch/s, loss=1.73e+3]"
     ]
    },
    {
     "name": "stdout",
     "output_type": "stream",
     "text": [
      "epoch 1109: avg test  loss 1739.75, bar  test loss 4.374, len  test loss 0.065, col  test loss 163.653\n"
     ]
    },
    {
     "name": "stderr",
     "output_type": "stream",
     "text": [
      "Epoch 1110: 272batch [00:21, 12.88batch/s, loss=1.75e+3]\n"
     ]
    },
    {
     "name": "stdout",
     "output_type": "stream",
     "text": [
      "epoch 1110: avg train loss 1704.92, bar train loss 4.252, len train loss 0.036, col train loss 163.784\n",
      "epoch 1110: avg test  loss 1754.32, bar  test loss 4.321, len  test loss 0.103, col  test loss 163.885\n"
     ]
    },
    {
     "name": "stderr",
     "output_type": "stream",
     "text": [
      "Epoch 1111: 272batch [00:21, 12.90batch/s, loss=1.83e+3]\n"
     ]
    },
    {
     "name": "stdout",
     "output_type": "stream",
     "text": [
      "epoch 1111: avg train loss 1702.62, bar train loss 4.210, len train loss 0.037, col train loss 163.241\n"
     ]
    },
    {
     "name": "stderr",
     "output_type": "stream",
     "text": [
      "Epoch 1112: 2batch [00:00, 12.90batch/s, loss=1.74e+3]"
     ]
    },
    {
     "name": "stdout",
     "output_type": "stream",
     "text": [
      "epoch 1111: avg test  loss 1762.12, bar  test loss 4.305, len  test loss 0.121, col  test loss 163.050\n"
     ]
    },
    {
     "name": "stderr",
     "output_type": "stream",
     "text": [
      "Epoch 1112: 272batch [00:21, 12.94batch/s, loss=1.81e+3]\n"
     ]
    },
    {
     "name": "stdout",
     "output_type": "stream",
     "text": [
      "epoch 1112: avg train loss 1701.52, bar train loss 4.167, len train loss 0.035, col train loss 163.040\n"
     ]
    },
    {
     "name": "stderr",
     "output_type": "stream",
     "text": [
      "Epoch 1113: 2batch [00:00, 13.16batch/s, loss=1.66e+3]"
     ]
    },
    {
     "name": "stdout",
     "output_type": "stream",
     "text": [
      "epoch 1112: avg test  loss 1778.93, bar  test loss 4.535, len  test loss 0.140, col  test loss 163.342\n"
     ]
    },
    {
     "name": "stderr",
     "output_type": "stream",
     "text": [
      "Epoch 1113: 272batch [00:21, 12.89batch/s, loss=1.71e+3]\n"
     ]
    },
    {
     "name": "stdout",
     "output_type": "stream",
     "text": [
      "epoch 1113: avg train loss 1700.20, bar train loss 4.100, len train loss 0.033, col train loss 163.573\n"
     ]
    },
    {
     "name": "stderr",
     "output_type": "stream",
     "text": [
      "Epoch 1114: 2batch [00:00, 13.07batch/s, loss=1.71e+3]"
     ]
    },
    {
     "name": "stdout",
     "output_type": "stream",
     "text": [
      "epoch 1113: avg test  loss 1771.48, bar  test loss 4.485, len  test loss 0.115, col  test loss 163.681\n"
     ]
    },
    {
     "name": "stderr",
     "output_type": "stream",
     "text": [
      "Epoch 1114: 272batch [00:21, 12.88batch/s, loss=1.67e+3]\n"
     ]
    },
    {
     "name": "stdout",
     "output_type": "stream",
     "text": [
      "epoch 1114: avg train loss 1701.90, bar train loss 4.132, len train loss 0.037, col train loss 163.696\n"
     ]
    },
    {
     "name": "stderr",
     "output_type": "stream",
     "text": [
      "Epoch 1115: 2batch [00:00, 12.74batch/s, loss=1.76e+3]"
     ]
    },
    {
     "name": "stdout",
     "output_type": "stream",
     "text": [
      "epoch 1114: avg test  loss 1752.34, bar  test loss 4.876, len  test loss 0.085, col  test loss 162.737\n"
     ]
    },
    {
     "name": "stderr",
     "output_type": "stream",
     "text": [
      "Epoch 1115: 272batch [00:21, 12.88batch/s, loss=1.76e+3]\n"
     ]
    },
    {
     "name": "stdout",
     "output_type": "stream",
     "text": [
      "epoch 1115: avg train loss 1700.70, bar train loss 4.321, len train loss 0.033, col train loss 163.238\n",
      "epoch 1115: avg test  loss 1739.66, bar  test loss 4.156, len  test loss 0.118, col  test loss 163.797\n"
     ]
    },
    {
     "name": "stderr",
     "output_type": "stream",
     "text": [
      "Epoch 1116: 272batch [00:21, 12.84batch/s, loss=2.04e+3]\n"
     ]
    },
    {
     "name": "stdout",
     "output_type": "stream",
     "text": [
      "epoch 1116: avg train loss 1703.56, bar train loss 4.371, len train loss 0.043, col train loss 163.396\n"
     ]
    },
    {
     "name": "stderr",
     "output_type": "stream",
     "text": [
      "Epoch 1117: 2batch [00:00, 12.66batch/s, loss=1.72e+3]"
     ]
    },
    {
     "name": "stdout",
     "output_type": "stream",
     "text": [
      "epoch 1116: avg test  loss 1763.59, bar  test loss 4.227, len  test loss 0.215, col  test loss 162.757\n"
     ]
    },
    {
     "name": "stderr",
     "output_type": "stream",
     "text": [
      "Epoch 1117: 272batch [00:21, 12.86batch/s, loss=1.74e+3]\n"
     ]
    },
    {
     "name": "stdout",
     "output_type": "stream",
     "text": [
      "epoch 1117: avg train loss 1696.46, bar train loss 4.068, len train loss 0.032, col train loss 162.980\n"
     ]
    },
    {
     "name": "stderr",
     "output_type": "stream",
     "text": [
      "Epoch 1118: 2batch [00:00, 13.07batch/s, loss=1.7e+3]"
     ]
    },
    {
     "name": "stdout",
     "output_type": "stream",
     "text": [
      "epoch 1117: avg test  loss 1771.22, bar  test loss 4.583, len  test loss 0.174, col  test loss 162.815\n"
     ]
    },
    {
     "name": "stderr",
     "output_type": "stream",
     "text": [
      "Epoch 1118: 272batch [00:20, 12.96batch/s, loss=1.76e+3]\n"
     ]
    },
    {
     "name": "stdout",
     "output_type": "stream",
     "text": [
      "epoch 1118: avg train loss 1699.41, bar train loss 3.956, len train loss 0.036, col train loss 163.449\n"
     ]
    },
    {
     "name": "stderr",
     "output_type": "stream",
     "text": [
      "Epoch 1119: 2batch [00:00, 13.16batch/s, loss=1.72e+3]"
     ]
    },
    {
     "name": "stdout",
     "output_type": "stream",
     "text": [
      "epoch 1118: avg test  loss 1740.87, bar  test loss 5.070, len  test loss 0.053, col  test loss 163.687\n"
     ]
    },
    {
     "name": "stderr",
     "output_type": "stream",
     "text": [
      "Epoch 1119: 272batch [00:21, 12.93batch/s, loss=1.82e+3]\n"
     ]
    },
    {
     "name": "stdout",
     "output_type": "stream",
     "text": [
      "epoch 1119: avg train loss 1707.20, bar train loss 4.163, len train loss 0.036, col train loss 164.518\n"
     ]
    },
    {
     "name": "stderr",
     "output_type": "stream",
     "text": [
      "Epoch 1120: 2batch [00:00, 13.24batch/s, loss=1.68e+3]"
     ]
    },
    {
     "name": "stdout",
     "output_type": "stream",
     "text": [
      "epoch 1119: avg test  loss 1787.74, bar  test loss 4.593, len  test loss 0.290, col  test loss 164.301\n"
     ]
    },
    {
     "name": "stderr",
     "output_type": "stream",
     "text": [
      "Epoch 1120: 272batch [00:21, 12.92batch/s, loss=1.79e+3]\n"
     ]
    },
    {
     "name": "stdout",
     "output_type": "stream",
     "text": [
      "epoch 1120: avg train loss 1714.38, bar train loss 4.255, len train loss 0.064, col train loss 163.776\n",
      "epoch 1120: avg test  loss 1745.01, bar  test loss 4.214, len  test loss 0.137, col  test loss 163.534\n"
     ]
    },
    {
     "name": "stderr",
     "output_type": "stream",
     "text": [
      "Epoch 1121: 272batch [00:21, 12.92batch/s, loss=1.96e+3]\n"
     ]
    },
    {
     "name": "stdout",
     "output_type": "stream",
     "text": [
      "epoch 1121: avg train loss 1715.83, bar train loss 4.382, len train loss 0.057, col train loss 164.167\n"
     ]
    },
    {
     "name": "stderr",
     "output_type": "stream",
     "text": [
      "Epoch 1122: 2batch [00:00, 12.99batch/s, loss=1.75e+3]"
     ]
    },
    {
     "name": "stdout",
     "output_type": "stream",
     "text": [
      "epoch 1121: avg test  loss 1743.97, bar  test loss 4.894, len  test loss 0.058, col  test loss 163.135\n"
     ]
    },
    {
     "name": "stderr",
     "output_type": "stream",
     "text": [
      "Epoch 1122: 272batch [00:21, 12.93batch/s, loss=1.77e+3]\n"
     ]
    },
    {
     "name": "stdout",
     "output_type": "stream",
     "text": [
      "epoch 1122: avg train loss 1707.61, bar train loss 4.253, len train loss 0.043, col train loss 163.760\n"
     ]
    },
    {
     "name": "stderr",
     "output_type": "stream",
     "text": [
      "Epoch 1123: 2batch [00:00, 12.99batch/s, loss=1.78e+3]"
     ]
    },
    {
     "name": "stdout",
     "output_type": "stream",
     "text": [
      "epoch 1122: avg test  loss 1746.74, bar  test loss 4.788, len  test loss 0.092, col  test loss 163.994\n"
     ]
    },
    {
     "name": "stderr",
     "output_type": "stream",
     "text": [
      "Epoch 1123: 272batch [00:21, 12.90batch/s, loss=1.7e+3] \n"
     ]
    },
    {
     "name": "stdout",
     "output_type": "stream",
     "text": [
      "epoch 1123: avg train loss 1704.03, bar train loss 4.254, len train loss 0.036, col train loss 163.762\n"
     ]
    },
    {
     "name": "stderr",
     "output_type": "stream",
     "text": [
      "Epoch 1124: 2batch [00:00, 12.90batch/s, loss=1.65e+3]"
     ]
    },
    {
     "name": "stdout",
     "output_type": "stream",
     "text": [
      "epoch 1123: avg test  loss 1747.59, bar  test loss 4.819, len  test loss 0.055, col  test loss 163.763\n"
     ]
    },
    {
     "name": "stderr",
     "output_type": "stream",
     "text": [
      "Epoch 1124: 272batch [00:21, 12.88batch/s, loss=1.7e+3] \n"
     ]
    },
    {
     "name": "stdout",
     "output_type": "stream",
     "text": [
      "epoch 1124: avg train loss 1715.82, bar train loss 4.347, len train loss 0.056, col train loss 164.174\n"
     ]
    },
    {
     "name": "stderr",
     "output_type": "stream",
     "text": [
      "Epoch 1125: 2batch [00:00, 13.16batch/s, loss=1.68e+3]"
     ]
    },
    {
     "name": "stdout",
     "output_type": "stream",
     "text": [
      "epoch 1124: avg test  loss 1734.16, bar  test loss 4.366, len  test loss 0.058, col  test loss 163.094\n"
     ]
    },
    {
     "name": "stderr",
     "output_type": "stream",
     "text": [
      "Epoch 1125: 272batch [00:21, 12.85batch/s, loss=1.73e+3]\n"
     ]
    },
    {
     "name": "stdout",
     "output_type": "stream",
     "text": [
      "epoch 1125: avg train loss 1706.83, bar train loss 4.518, len train loss 0.038, col train loss 163.329\n",
      "epoch 1125: avg test  loss 1759.19, bar  test loss 4.603, len  test loss 0.056, col  test loss 164.551\n"
     ]
    },
    {
     "name": "stderr",
     "output_type": "stream",
     "text": [
      "Epoch 1126: 272batch [00:21, 12.79batch/s, loss=1.75e+3]\n"
     ]
    },
    {
     "name": "stdout",
     "output_type": "stream",
     "text": [
      "epoch 1126: avg train loss 1708.53, bar train loss 4.300, len train loss 0.034, col train loss 163.987\n"
     ]
    },
    {
     "name": "stderr",
     "output_type": "stream",
     "text": [
      "Epoch 1127: 2batch [00:00, 13.07batch/s, loss=1.62e+3]"
     ]
    },
    {
     "name": "stdout",
     "output_type": "stream",
     "text": [
      "epoch 1126: avg test  loss 1778.88, bar  test loss 4.953, len  test loss 0.088, col  test loss 164.194\n"
     ]
    },
    {
     "name": "stderr",
     "output_type": "stream",
     "text": [
      "Epoch 1127: 272batch [00:21, 12.82batch/s, loss=1.88e+3]\n"
     ]
    },
    {
     "name": "stdout",
     "output_type": "stream",
     "text": [
      "epoch 1127: avg train loss 1708.94, bar train loss 4.564, len train loss 0.033, col train loss 163.828\n"
     ]
    },
    {
     "name": "stderr",
     "output_type": "stream",
     "text": [
      "Epoch 1128: 2batch [00:00, 12.99batch/s, loss=1.78e+3]"
     ]
    },
    {
     "name": "stdout",
     "output_type": "stream",
     "text": [
      "epoch 1127: avg test  loss 1812.59, bar  test loss 5.805, len  test loss 0.185, col  test loss 164.673\n"
     ]
    },
    {
     "name": "stderr",
     "output_type": "stream",
     "text": [
      "Epoch 1128: 272batch [00:21, 12.79batch/s, loss=1.9e+3] \n"
     ]
    },
    {
     "name": "stdout",
     "output_type": "stream",
     "text": [
      "epoch 1128: avg train loss 1720.66, bar train loss 5.121, len train loss 0.039, col train loss 164.049\n"
     ]
    },
    {
     "name": "stderr",
     "output_type": "stream",
     "text": [
      "Epoch 1129: 2batch [00:00, 13.16batch/s, loss=1.68e+3]"
     ]
    },
    {
     "name": "stdout",
     "output_type": "stream",
     "text": [
      "epoch 1128: avg test  loss 1760.06, bar  test loss 4.683, len  test loss 0.074, col  test loss 163.928\n"
     ]
    },
    {
     "name": "stderr",
     "output_type": "stream",
     "text": [
      "Epoch 1129: 272batch [00:21, 12.74batch/s, loss=1.77e+3]\n"
     ]
    },
    {
     "name": "stdout",
     "output_type": "stream",
     "text": [
      "epoch 1129: avg train loss 1713.08, bar train loss 4.827, len train loss 0.045, col train loss 163.711\n"
     ]
    },
    {
     "name": "stderr",
     "output_type": "stream",
     "text": [
      "Epoch 1130: 2batch [00:00, 12.99batch/s, loss=1.67e+3]"
     ]
    },
    {
     "name": "stdout",
     "output_type": "stream",
     "text": [
      "epoch 1129: avg test  loss 1833.74, bar  test loss 6.315, len  test loss 0.046, col  test loss 163.598\n"
     ]
    },
    {
     "name": "stderr",
     "output_type": "stream",
     "text": [
      "Epoch 1130: 272batch [00:21, 12.71batch/s, loss=1.77e+3]\n"
     ]
    },
    {
     "name": "stdout",
     "output_type": "stream",
     "text": [
      "epoch 1130: avg train loss 1709.26, bar train loss 4.810, len train loss 0.029, col train loss 163.538\n",
      "epoch 1130: avg test  loss 1861.27, bar  test loss 4.850, len  test loss 0.294, col  test loss 164.297\n"
     ]
    },
    {
     "name": "stderr",
     "output_type": "stream",
     "text": [
      "Epoch 1131: 272batch [00:21, 12.78batch/s, loss=1.78e+3]\n"
     ]
    },
    {
     "name": "stdout",
     "output_type": "stream",
     "text": [
      "epoch 1131: avg train loss 1710.11, bar train loss 4.329, len train loss 0.034, col train loss 164.128\n"
     ]
    },
    {
     "name": "stderr",
     "output_type": "stream",
     "text": [
      "Epoch 1132: 2batch [00:00, 13.07batch/s, loss=1.71e+3]"
     ]
    },
    {
     "name": "stdout",
     "output_type": "stream",
     "text": [
      "epoch 1131: avg test  loss 1891.10, bar  test loss 4.952, len  test loss 0.683, col  test loss 163.217\n"
     ]
    },
    {
     "name": "stderr",
     "output_type": "stream",
     "text": [
      "Epoch 1132: 272batch [00:21, 12.75batch/s, loss=1.58e+3]\n"
     ]
    },
    {
     "name": "stdout",
     "output_type": "stream",
     "text": [
      "epoch 1132: avg train loss 1705.10, bar train loss 4.252, len train loss 0.034, col train loss 163.334\n"
     ]
    },
    {
     "name": "stderr",
     "output_type": "stream",
     "text": [
      "Epoch 1133: 2batch [00:00, 13.16batch/s, loss=1.71e+3]"
     ]
    },
    {
     "name": "stdout",
     "output_type": "stream",
     "text": [
      "epoch 1132: avg test  loss 2007.15, bar  test loss 4.815, len  test loss 0.613, col  test loss 163.977\n"
     ]
    },
    {
     "name": "stderr",
     "output_type": "stream",
     "text": [
      "Epoch 1133: 272batch [00:21, 12.73batch/s, loss=1.82e+3]\n"
     ]
    },
    {
     "name": "stdout",
     "output_type": "stream",
     "text": [
      "epoch 1133: avg train loss 1701.88, bar train loss 4.105, len train loss 0.033, col train loss 163.385\n"
     ]
    },
    {
     "name": "stderr",
     "output_type": "stream",
     "text": [
      "Epoch 1134: 2batch [00:00, 13.16batch/s, loss=1.62e+3]"
     ]
    },
    {
     "name": "stdout",
     "output_type": "stream",
     "text": [
      "epoch 1133: avg test  loss 1901.25, bar  test loss 4.664, len  test loss 0.398, col  test loss 163.686\n"
     ]
    },
    {
     "name": "stderr",
     "output_type": "stream",
     "text": [
      "Epoch 1134: 272batch [00:21, 12.75batch/s, loss=1.89e+3]\n"
     ]
    },
    {
     "name": "stdout",
     "output_type": "stream",
     "text": [
      "epoch 1134: avg train loss 1727.25, bar train loss 5.277, len train loss 0.058, col train loss 163.773\n"
     ]
    },
    {
     "name": "stderr",
     "output_type": "stream",
     "text": [
      "Epoch 1135: 2batch [00:00, 12.90batch/s, loss=1.76e+3]"
     ]
    },
    {
     "name": "stdout",
     "output_type": "stream",
     "text": [
      "epoch 1134: avg test  loss 1842.43, bar  test loss 7.099, len  test loss 0.245, col  test loss 165.529\n"
     ]
    },
    {
     "name": "stderr",
     "output_type": "stream",
     "text": [
      "Epoch 1135: 272batch [00:21, 12.68batch/s, loss=1.85e+3]\n"
     ]
    },
    {
     "name": "stdout",
     "output_type": "stream",
     "text": [
      "epoch 1135: avg train loss 1733.94, bar train loss 5.589, len train loss 0.101, col train loss 164.835\n",
      "epoch 1135: avg test  loss 1866.78, bar  test loss 5.509, len  test loss 0.157, col  test loss 166.000\n"
     ]
    },
    {
     "name": "stderr",
     "output_type": "stream",
     "text": [
      "Epoch 1136: 272batch [00:21, 12.47batch/s, loss=1.82e+3]\n"
     ]
    },
    {
     "name": "stdout",
     "output_type": "stream",
     "text": [
      "epoch 1136: avg train loss 1732.84, bar train loss 4.967, len train loss 0.037, col train loss 165.582\n"
     ]
    },
    {
     "name": "stderr",
     "output_type": "stream",
     "text": [
      "Epoch 1137: 2batch [00:00, 12.66batch/s, loss=1.79e+3]"
     ]
    },
    {
     "name": "stdout",
     "output_type": "stream",
     "text": [
      "epoch 1136: avg test  loss 1842.37, bar  test loss 5.271, len  test loss 0.199, col  test loss 166.341\n"
     ]
    },
    {
     "name": "stderr",
     "output_type": "stream",
     "text": [
      "Epoch 1137: 272batch [00:21, 12.74batch/s, loss=1.77e+3]\n"
     ]
    },
    {
     "name": "stdout",
     "output_type": "stream",
     "text": [
      "epoch 1137: avg train loss 1717.86, bar train loss 5.295, len train loss 0.042, col train loss 163.494\n"
     ]
    },
    {
     "name": "stderr",
     "output_type": "stream",
     "text": [
      "Epoch 1138: 2batch [00:00, 12.99batch/s, loss=1.62e+3]"
     ]
    },
    {
     "name": "stdout",
     "output_type": "stream",
     "text": [
      "epoch 1137: avg test  loss 1930.09, bar  test loss 6.022, len  test loss 0.330, col  test loss 163.542\n"
     ]
    },
    {
     "name": "stderr",
     "output_type": "stream",
     "text": [
      "Epoch 1138: 272batch [00:21, 12.67batch/s, loss=1.96e+3]\n"
     ]
    },
    {
     "name": "stdout",
     "output_type": "stream",
     "text": [
      "epoch 1138: avg train loss 1722.93, bar train loss 5.609, len train loss 0.041, col train loss 163.925\n"
     ]
    },
    {
     "name": "stderr",
     "output_type": "stream",
     "text": [
      "Epoch 1139: 2batch [00:00, 12.90batch/s, loss=1.68e+3]"
     ]
    },
    {
     "name": "stdout",
     "output_type": "stream",
     "text": [
      "epoch 1138: avg test  loss 2034.59, bar  test loss 5.972, len  test loss 0.049, col  test loss 166.250\n"
     ]
    },
    {
     "name": "stderr",
     "output_type": "stream",
     "text": [
      "Epoch 1139: 272batch [00:21, 12.66batch/s, loss=1.78e+3]\n"
     ]
    },
    {
     "name": "stdout",
     "output_type": "stream",
     "text": [
      "epoch 1139: avg train loss 1731.03, bar train loss 4.583, len train loss 0.043, col train loss 166.004\n"
     ]
    },
    {
     "name": "stderr",
     "output_type": "stream",
     "text": [
      "Epoch 1140: 2batch [00:00, 12.82batch/s, loss=1.71e+3]"
     ]
    },
    {
     "name": "stdout",
     "output_type": "stream",
     "text": [
      "epoch 1139: avg test  loss 1884.82, bar  test loss 5.910, len  test loss 0.168, col  test loss 165.538\n"
     ]
    },
    {
     "name": "stderr",
     "output_type": "stream",
     "text": [
      "Epoch 1140: 272batch [00:21, 12.57batch/s, loss=2.1e+3] \n"
     ]
    },
    {
     "name": "stdout",
     "output_type": "stream",
     "text": [
      "epoch 1140: avg train loss 1726.62, bar train loss 4.612, len train loss 0.038, col train loss 165.452\n",
      "epoch 1140: avg test  loss 1871.31, bar  test loss 4.965, len  test loss 0.177, col  test loss 165.901\n"
     ]
    },
    {
     "name": "stderr",
     "output_type": "stream",
     "text": [
      "Epoch 1141: 272batch [00:21, 12.69batch/s, loss=1.87e+3]\n"
     ]
    },
    {
     "name": "stdout",
     "output_type": "stream",
     "text": [
      "epoch 1141: avg train loss 1725.10, bar train loss 4.552, len train loss 0.035, col train loss 165.909\n"
     ]
    },
    {
     "name": "stderr",
     "output_type": "stream",
     "text": [
      "Epoch 1142: 2batch [00:00, 12.99batch/s, loss=1.78e+3]"
     ]
    },
    {
     "name": "stdout",
     "output_type": "stream",
     "text": [
      "epoch 1141: avg test  loss 1859.81, bar  test loss 5.688, len  test loss 0.030, col  test loss 166.028\n"
     ]
    },
    {
     "name": "stderr",
     "output_type": "stream",
     "text": [
      "Epoch 1142: 272batch [00:21, 12.67batch/s, loss=1.9e+3] \n"
     ]
    },
    {
     "name": "stdout",
     "output_type": "stream",
     "text": [
      "epoch 1142: avg train loss 1734.36, bar train loss 5.123, len train loss 0.035, col train loss 166.384\n"
     ]
    },
    {
     "name": "stderr",
     "output_type": "stream",
     "text": [
      "Epoch 1143: 2batch [00:00, 12.50batch/s, loss=1.78e+3]"
     ]
    },
    {
     "name": "stdout",
     "output_type": "stream",
     "text": [
      "epoch 1142: avg test  loss 1888.43, bar  test loss 6.443, len  test loss 0.139, col  test loss 167.472\n"
     ]
    },
    {
     "name": "stderr",
     "output_type": "stream",
     "text": [
      "Epoch 1143: 272batch [00:21, 12.65batch/s, loss=2.06e+3]\n"
     ]
    },
    {
     "name": "stdout",
     "output_type": "stream",
     "text": [
      "epoch 1143: avg train loss 1730.65, bar train loss 4.546, len train loss 0.039, col train loss 166.606\n"
     ]
    },
    {
     "name": "stderr",
     "output_type": "stream",
     "text": [
      "Epoch 1144: 2batch [00:00, 12.99batch/s, loss=1.77e+3]"
     ]
    },
    {
     "name": "stdout",
     "output_type": "stream",
     "text": [
      "epoch 1143: avg test  loss 1838.90, bar  test loss 5.276, len  test loss 0.034, col  test loss 166.088\n"
     ]
    },
    {
     "name": "stderr",
     "output_type": "stream",
     "text": [
      "Epoch 1144: 272batch [00:21, 12.65batch/s, loss=1.89e+3]\n"
     ]
    },
    {
     "name": "stdout",
     "output_type": "stream",
     "text": [
      "epoch 1144: avg train loss 1724.47, bar train loss 4.387, len train loss 0.035, col train loss 165.936\n"
     ]
    },
    {
     "name": "stderr",
     "output_type": "stream",
     "text": [
      "Epoch 1145: 2batch [00:00, 12.90batch/s, loss=1.73e+3]"
     ]
    },
    {
     "name": "stdout",
     "output_type": "stream",
     "text": [
      "epoch 1144: avg test  loss 1847.73, bar  test loss 5.258, len  test loss 0.071, col  test loss 165.927\n"
     ]
    },
    {
     "name": "stderr",
     "output_type": "stream",
     "text": [
      "Epoch 1145: 272batch [00:21, 12.65batch/s, loss=1.93e+3]\n"
     ]
    },
    {
     "name": "stdout",
     "output_type": "stream",
     "text": [
      "epoch 1145: avg train loss 1725.88, bar train loss 4.597, len train loss 0.038, col train loss 165.695\n",
      "epoch 1145: avg test  loss 1851.41, bar  test loss 5.182, len  test loss 0.169, col  test loss 165.830\n"
     ]
    },
    {
     "name": "stderr",
     "output_type": "stream",
     "text": [
      "Epoch 1146: 272batch [00:21, 12.62batch/s, loss=1.94e+3]\n"
     ]
    },
    {
     "name": "stdout",
     "output_type": "stream",
     "text": [
      "epoch 1146: avg train loss 1728.31, bar train loss 4.862, len train loss 0.032, col train loss 165.870\n"
     ]
    },
    {
     "name": "stderr",
     "output_type": "stream",
     "text": [
      "Epoch 1147: 2batch [00:00, 13.24batch/s, loss=1.68e+3]"
     ]
    },
    {
     "name": "stdout",
     "output_type": "stream",
     "text": [
      "epoch 1146: avg test  loss 1956.82, bar  test loss 5.317, len  test loss 0.524, col  test loss 165.835\n"
     ]
    },
    {
     "name": "stderr",
     "output_type": "stream",
     "text": [
      "Epoch 1147: 272batch [00:21, 12.61batch/s, loss=1.62e+3]\n"
     ]
    },
    {
     "name": "stdout",
     "output_type": "stream",
     "text": [
      "epoch 1147: avg train loss 1723.24, bar train loss 4.407, len train loss 0.031, col train loss 165.961\n"
     ]
    },
    {
     "name": "stderr",
     "output_type": "stream",
     "text": [
      "Epoch 1148: 2batch [00:00, 12.58batch/s, loss=1.73e+3]"
     ]
    },
    {
     "name": "stdout",
     "output_type": "stream",
     "text": [
      "epoch 1147: avg test  loss 1987.57, bar  test loss 9.060, len  test loss 0.031, col  test loss 165.895\n"
     ]
    },
    {
     "name": "stderr",
     "output_type": "stream",
     "text": [
      "Epoch 1148: 272batch [00:21, 12.59batch/s, loss=1.8e+3] \n"
     ]
    },
    {
     "name": "stdout",
     "output_type": "stream",
     "text": [
      "epoch 1148: avg train loss 1723.68, bar train loss 4.505, len train loss 0.038, col train loss 165.779\n"
     ]
    },
    {
     "name": "stderr",
     "output_type": "stream",
     "text": [
      "Epoch 1149: 2batch [00:00, 13.16batch/s, loss=1.73e+3]"
     ]
    },
    {
     "name": "stdout",
     "output_type": "stream",
     "text": [
      "epoch 1148: avg test  loss 2060.51, bar  test loss 7.807, len  test loss 0.375, col  test loss 163.647\n"
     ]
    },
    {
     "name": "stderr",
     "output_type": "stream",
     "text": [
      "Epoch 1149: 272batch [00:21, 12.56batch/s, loss=1.88e+3]\n"
     ]
    },
    {
     "name": "stdout",
     "output_type": "stream",
     "text": [
      "epoch 1149: avg train loss 1717.05, bar train loss 5.042, len train loss 0.043, col train loss 163.936\n"
     ]
    },
    {
     "name": "stderr",
     "output_type": "stream",
     "text": [
      "Epoch 1150: 2batch [00:00, 12.82batch/s, loss=1.73e+3]"
     ]
    },
    {
     "name": "stdout",
     "output_type": "stream",
     "text": [
      "epoch 1149: avg test  loss 2097.18, bar  test loss 5.505, len  test loss 1.103, col  test loss 163.279\n"
     ]
    },
    {
     "name": "stderr",
     "output_type": "stream",
     "text": [
      "Epoch 1150: 272batch [00:21, 12.54batch/s, loss=1.77e+3]\n"
     ]
    },
    {
     "name": "stdout",
     "output_type": "stream",
     "text": [
      "epoch 1150: avg train loss 1732.48, bar train loss 5.376, len train loss 0.035, col train loss 165.234\n",
      "epoch 1150: avg test  loss 2030.10, bar  test loss 14.253, len  test loss 0.034, col  test loss 165.537\n"
     ]
    },
    {
     "name": "stderr",
     "output_type": "stream",
     "text": [
      "Epoch 1151: 272batch [00:21, 12.48batch/s, loss=1.95e+3]\n"
     ]
    },
    {
     "name": "stdout",
     "output_type": "stream",
     "text": [
      "epoch 1151: avg train loss 1740.19, bar train loss 5.647, len train loss 0.032, col train loss 166.389\n"
     ]
    },
    {
     "name": "stderr",
     "output_type": "stream",
     "text": [
      "Epoch 1152: 2batch [00:00, 12.42batch/s, loss=1.71e+3]"
     ]
    },
    {
     "name": "stdout",
     "output_type": "stream",
     "text": [
      "epoch 1151: avg test  loss 2135.83, bar  test loss 7.137, len  test loss 0.382, col  test loss 165.361\n"
     ]
    },
    {
     "name": "stderr",
     "output_type": "stream",
     "text": [
      "Epoch 1152: 272batch [00:21, 12.60batch/s, loss=1.83e+3]\n"
     ]
    },
    {
     "name": "stdout",
     "output_type": "stream",
     "text": [
      "epoch 1152: avg train loss 1754.48, bar train loss 5.116, len train loss 0.033, col train loss 169.064\n"
     ]
    },
    {
     "name": "stderr",
     "output_type": "stream",
     "text": [
      "Epoch 1153: 2batch [00:00, 12.42batch/s, loss=1.79e+3]"
     ]
    },
    {
     "name": "stdout",
     "output_type": "stream",
     "text": [
      "epoch 1152: avg test  loss 2166.89, bar  test loss 6.026, len  test loss 0.267, col  test loss 169.759\n"
     ]
    },
    {
     "name": "stderr",
     "output_type": "stream",
     "text": [
      "Epoch 1153: 272batch [00:21, 12.61batch/s, loss=1.87e+3]\n"
     ]
    },
    {
     "name": "stdout",
     "output_type": "stream",
     "text": [
      "epoch 1153: avg train loss 1752.47, bar train loss 4.959, len train loss 0.035, col train loss 169.059\n"
     ]
    },
    {
     "name": "stderr",
     "output_type": "stream",
     "text": [
      "Epoch 1154: 2batch [00:00, 12.74batch/s, loss=1.81e+3]"
     ]
    },
    {
     "name": "stdout",
     "output_type": "stream",
     "text": [
      "epoch 1153: avg test  loss 1868.50, bar  test loss 5.766, len  test loss 0.031, col  test loss 169.313\n"
     ]
    },
    {
     "name": "stderr",
     "output_type": "stream",
     "text": [
      "Epoch 1154: 272batch [00:21, 12.54batch/s, loss=1.75e+3]\n"
     ]
    },
    {
     "name": "stdout",
     "output_type": "stream",
     "text": [
      "epoch 1154: avg train loss 1748.66, bar train loss 4.755, len train loss 0.033, col train loss 168.829\n"
     ]
    },
    {
     "name": "stderr",
     "output_type": "stream",
     "text": [
      "Epoch 1155: 2batch [00:00, 12.66batch/s, loss=1.66e+3]"
     ]
    },
    {
     "name": "stdout",
     "output_type": "stream",
     "text": [
      "epoch 1154: avg test  loss 1971.39, bar  test loss 5.403, len  test loss 0.699, col  test loss 167.542\n"
     ]
    },
    {
     "name": "stderr",
     "output_type": "stream",
     "text": [
      "Epoch 1155: 272batch [00:21, 12.53batch/s, loss=1.75e+3]\n"
     ]
    },
    {
     "name": "stdout",
     "output_type": "stream",
     "text": [
      "epoch 1155: avg train loss 1743.87, bar train loss 5.007, len train loss 0.031, col train loss 167.948\n",
      "epoch 1155: avg test  loss 2215.62, bar  test loss 5.360, len  test loss 1.654, col  test loss 168.684\n"
     ]
    },
    {
     "name": "stderr",
     "output_type": "stream",
     "text": [
      "Epoch 1156: 272batch [00:21, 12.47batch/s, loss=2.13e+3]\n"
     ]
    },
    {
     "name": "stdout",
     "output_type": "stream",
     "text": [
      "epoch 1156: avg train loss 1754.50, bar train loss 4.970, len train loss 0.032, col train loss 169.395\n"
     ]
    },
    {
     "name": "stderr",
     "output_type": "stream",
     "text": [
      "Epoch 1157: 2batch [00:00, 12.74batch/s, loss=1.76e+3]"
     ]
    },
    {
     "name": "stdout",
     "output_type": "stream",
     "text": [
      "epoch 1156: avg test  loss 1958.62, bar  test loss 4.974, len  test loss 0.312, col  test loss 168.984\n"
     ]
    },
    {
     "name": "stderr",
     "output_type": "stream",
     "text": [
      "Epoch 1157: 272batch [00:21, 12.46batch/s, loss=1.88e+3]\n"
     ]
    },
    {
     "name": "stdout",
     "output_type": "stream",
     "text": [
      "epoch 1157: avg train loss 1749.37, bar train loss 4.753, len train loss 0.032, col train loss 168.780\n"
     ]
    },
    {
     "name": "stderr",
     "output_type": "stream",
     "text": [
      "Epoch 1158: 2batch [00:00, 13.07batch/s, loss=1.75e+3]"
     ]
    },
    {
     "name": "stdout",
     "output_type": "stream",
     "text": [
      "epoch 1157: avg test  loss 1992.82, bar  test loss 4.873, len  test loss 0.584, col  test loss 168.661\n"
     ]
    },
    {
     "name": "stderr",
     "output_type": "stream",
     "text": [
      "Epoch 1158: 272batch [00:21, 12.40batch/s, loss=1.89e+3]\n"
     ]
    },
    {
     "name": "stdout",
     "output_type": "stream",
     "text": [
      "epoch 1158: avg train loss 1746.55, bar train loss 4.683, len train loss 0.036, col train loss 168.531\n"
     ]
    },
    {
     "name": "stderr",
     "output_type": "stream",
     "text": [
      "Epoch 1159: 2batch [00:00, 12.90batch/s, loss=1.85e+3]"
     ]
    },
    {
     "name": "stdout",
     "output_type": "stream",
     "text": [
      "epoch 1158: avg test  loss 2210.28, bar  test loss 6.254, len  test loss 1.353, col  test loss 168.454\n"
     ]
    },
    {
     "name": "stderr",
     "output_type": "stream",
     "text": [
      "Epoch 1159: 272batch [00:21, 12.49batch/s, loss=1.85e+3]\n"
     ]
    },
    {
     "name": "stdout",
     "output_type": "stream",
     "text": [
      "epoch 1159: avg train loss 1746.26, bar train loss 4.728, len train loss 0.031, col train loss 168.513\n"
     ]
    },
    {
     "name": "stderr",
     "output_type": "stream",
     "text": [
      "Epoch 1160: 2batch [00:00, 12.66batch/s, loss=1.75e+3]"
     ]
    },
    {
     "name": "stdout",
     "output_type": "stream",
     "text": [
      "epoch 1159: avg test  loss 2002.60, bar  test loss 8.267, len  test loss 0.036, col  test loss 168.551\n"
     ]
    },
    {
     "name": "stderr",
     "output_type": "stream",
     "text": [
      "Epoch 1160: 272batch [00:21, 12.42batch/s, loss=2.09e+3]\n"
     ]
    },
    {
     "name": "stdout",
     "output_type": "stream",
     "text": [
      "epoch 1160: avg train loss 1745.17, bar train loss 4.732, len train loss 0.030, col train loss 168.656\n",
      "epoch 1160: avg test  loss 2077.18, bar  test loss 5.195, len  test loss 0.300, col  test loss 169.079\n"
     ]
    },
    {
     "name": "stderr",
     "output_type": "stream",
     "text": [
      "Epoch 1161: 272batch [00:21, 12.46batch/s, loss=1.88e+3]\n"
     ]
    },
    {
     "name": "stdout",
     "output_type": "stream",
     "text": [
      "epoch 1161: avg train loss 1751.03, bar train loss 4.779, len train loss 0.031, col train loss 169.211\n"
     ]
    },
    {
     "name": "stderr",
     "output_type": "stream",
     "text": [
      "Epoch 1162: 2batch [00:00, 12.99batch/s, loss=1.8e+3]"
     ]
    },
    {
     "name": "stdout",
     "output_type": "stream",
     "text": [
      "epoch 1161: avg test  loss 2110.38, bar  test loss 7.153, len  test loss 0.423, col  test loss 169.100\n"
     ]
    },
    {
     "name": "stderr",
     "output_type": "stream",
     "text": [
      "Epoch 1162: 272batch [00:21, 12.43batch/s, loss=1.93e+3]\n"
     ]
    },
    {
     "name": "stdout",
     "output_type": "stream",
     "text": [
      "epoch 1162: avg train loss 1753.20, bar train loss 4.840, len train loss 0.032, col train loss 169.401\n"
     ]
    },
    {
     "name": "stderr",
     "output_type": "stream",
     "text": [
      "Epoch 1163: 2batch [00:00, 12.58batch/s, loss=1.76e+3]"
     ]
    },
    {
     "name": "stdout",
     "output_type": "stream",
     "text": [
      "epoch 1162: avg test  loss 2350.70, bar  test loss 4.920, len  test loss 0.656, col  test loss 169.661\n"
     ]
    },
    {
     "name": "stderr",
     "output_type": "stream",
     "text": [
      "Epoch 1163: 272batch [00:21, 12.37batch/s, loss=1.82e+3]\n"
     ]
    },
    {
     "name": "stdout",
     "output_type": "stream",
     "text": [
      "epoch 1163: avg train loss 1754.24, bar train loss 4.788, len train loss 0.037, col train loss 169.551\n"
     ]
    },
    {
     "name": "stderr",
     "output_type": "stream",
     "text": [
      "Epoch 1164: 2batch [00:00, 12.66batch/s, loss=1.72e+3]"
     ]
    },
    {
     "name": "stdout",
     "output_type": "stream",
     "text": [
      "epoch 1163: avg test  loss 1965.99, bar  test loss 5.933, len  test loss 0.158, col  test loss 169.447\n"
     ]
    },
    {
     "name": "stderr",
     "output_type": "stream",
     "text": [
      "Epoch 1164: 272batch [00:21, 12.44batch/s, loss=1.81e+3]\n"
     ]
    },
    {
     "name": "stdout",
     "output_type": "stream",
     "text": [
      "epoch 1164: avg train loss 1749.66, bar train loss 4.721, len train loss 0.038, col train loss 168.935\n"
     ]
    },
    {
     "name": "stderr",
     "output_type": "stream",
     "text": [
      "Epoch 1165: 2batch [00:00, 12.42batch/s, loss=1.77e+3]"
     ]
    },
    {
     "name": "stdout",
     "output_type": "stream",
     "text": [
      "epoch 1164: avg test  loss 1903.24, bar  test loss 6.049, len  test loss 0.189, col  test loss 168.799\n"
     ]
    },
    {
     "name": "stderr",
     "output_type": "stream",
     "text": [
      "Epoch 1165: 272batch [00:21, 12.40batch/s, loss=1.91e+3]\n"
     ]
    },
    {
     "name": "stdout",
     "output_type": "stream",
     "text": [
      "epoch 1165: avg train loss 1746.61, bar train loss 4.736, len train loss 0.028, col train loss 168.844\n",
      "epoch 1165: avg test  loss 1999.43, bar  test loss 5.280, len  test loss 0.696, col  test loss 168.700\n"
     ]
    },
    {
     "name": "stderr",
     "output_type": "stream",
     "text": [
      "Epoch 1166: 272batch [00:21, 12.39batch/s, loss=1.78e+3]\n"
     ]
    },
    {
     "name": "stdout",
     "output_type": "stream",
     "text": [
      "epoch 1166: avg train loss 1743.17, bar train loss 4.619, len train loss 0.030, col train loss 168.400\n"
     ]
    },
    {
     "name": "stderr",
     "output_type": "stream",
     "text": [
      "Epoch 1167: 2batch [00:00, 12.99batch/s, loss=1.69e+3]"
     ]
    },
    {
     "name": "stdout",
     "output_type": "stream",
     "text": [
      "epoch 1166: avg test  loss 2005.72, bar  test loss 5.954, len  test loss 0.052, col  test loss 168.341\n"
     ]
    },
    {
     "name": "stderr",
     "output_type": "stream",
     "text": [
      "Epoch 1167: 272batch [00:21, 12.37batch/s, loss=1.76e+3]\n"
     ]
    },
    {
     "name": "stdout",
     "output_type": "stream",
     "text": [
      "epoch 1167: avg train loss 1746.67, bar train loss 4.752, len train loss 0.031, col train loss 168.637\n"
     ]
    },
    {
     "name": "stderr",
     "output_type": "stream",
     "text": [
      "Epoch 1168: 2batch [00:00, 12.50batch/s, loss=1.79e+3]"
     ]
    },
    {
     "name": "stdout",
     "output_type": "stream",
     "text": [
      "epoch 1167: avg test  loss 2443.86, bar  test loss 7.353, len  test loss 1.233, col  test loss 168.606\n"
     ]
    },
    {
     "name": "stderr",
     "output_type": "stream",
     "text": [
      "Epoch 1168: 272batch [00:22, 12.36batch/s, loss=1.99e+3]\n"
     ]
    },
    {
     "name": "stdout",
     "output_type": "stream",
     "text": [
      "epoch 1168: avg train loss 1745.33, bar train loss 4.767, len train loss 0.032, col train loss 168.635\n"
     ]
    },
    {
     "name": "stderr",
     "output_type": "stream",
     "text": [
      "Epoch 1169: 2batch [00:00, 12.66batch/s, loss=1.69e+3]"
     ]
    },
    {
     "name": "stdout",
     "output_type": "stream",
     "text": [
      "epoch 1168: avg test  loss 2907.79, bar  test loss 4.784, len  test loss 1.927, col  test loss 168.615\n"
     ]
    },
    {
     "name": "stderr",
     "output_type": "stream",
     "text": [
      "Epoch 1169: 272batch [00:22, 12.34batch/s, loss=1.87e+3]\n"
     ]
    },
    {
     "name": "stdout",
     "output_type": "stream",
     "text": [
      "epoch 1169: avg train loss 1744.30, bar train loss 4.669, len train loss 0.030, col train loss 168.713\n"
     ]
    },
    {
     "name": "stderr",
     "output_type": "stream",
     "text": [
      "Epoch 1170: 2batch [00:00, 12.74batch/s, loss=1.71e+3]"
     ]
    },
    {
     "name": "stdout",
     "output_type": "stream",
     "text": [
      "epoch 1169: avg test  loss 3067.23, bar  test loss 4.985, len  test loss 4.019, col  test loss 168.807\n"
     ]
    },
    {
     "name": "stderr",
     "output_type": "stream",
     "text": [
      "Epoch 1170: 272batch [00:22, 12.28batch/s, loss=1.87e+3]\n"
     ]
    },
    {
     "name": "stdout",
     "output_type": "stream",
     "text": [
      "epoch 1170: avg train loss 1743.28, bar train loss 4.653, len train loss 0.029, col train loss 168.581\n",
      "epoch 1170: avg test  loss 2806.10, bar  test loss 4.719, len  test loss 2.589, col  test loss 168.601\n"
     ]
    },
    {
     "name": "stderr",
     "output_type": "stream",
     "text": [
      "Epoch 1171: 272batch [00:21, 12.39batch/s, loss=1.84e+3]\n"
     ]
    },
    {
     "name": "stdout",
     "output_type": "stream",
     "text": [
      "epoch 1171: avg train loss 1742.96, bar train loss 4.630, len train loss 0.029, col train loss 168.576\n"
     ]
    },
    {
     "name": "stderr",
     "output_type": "stream",
     "text": [
      "Epoch 1172: 2batch [00:00, 12.58batch/s, loss=1.82e+3]"
     ]
    },
    {
     "name": "stdout",
     "output_type": "stream",
     "text": [
      "epoch 1171: avg test  loss 2973.84, bar  test loss 5.166, len  test loss 2.862, col  test loss 168.462\n"
     ]
    },
    {
     "name": "stderr",
     "output_type": "stream",
     "text": [
      "Epoch 1172: 272batch [00:22, 12.31batch/s, loss=1.87e+3]\n"
     ]
    },
    {
     "name": "stdout",
     "output_type": "stream",
     "text": [
      "epoch 1172: avg train loss 1742.98, bar train loss 4.618, len train loss 0.029, col train loss 168.594\n"
     ]
    },
    {
     "name": "stderr",
     "output_type": "stream",
     "text": [
      "Epoch 1173: 2batch [00:00, 12.74batch/s, loss=1.74e+3]"
     ]
    },
    {
     "name": "stdout",
     "output_type": "stream",
     "text": [
      "epoch 1172: avg test  loss 2952.71, bar  test loss 5.298, len  test loss 1.954, col  test loss 168.524\n"
     ]
    },
    {
     "name": "stderr",
     "output_type": "stream",
     "text": [
      "Epoch 1173: 272batch [00:22, 12.27batch/s, loss=1.84e+3]\n"
     ]
    },
    {
     "name": "stdout",
     "output_type": "stream",
     "text": [
      "epoch 1173: avg train loss 1743.56, bar train loss 4.592, len train loss 0.028, col train loss 168.683\n"
     ]
    },
    {
     "name": "stderr",
     "output_type": "stream",
     "text": [
      "Epoch 1174: 2batch [00:00, 12.58batch/s, loss=1.78e+3]"
     ]
    },
    {
     "name": "stdout",
     "output_type": "stream",
     "text": [
      "epoch 1173: avg test  loss 3120.88, bar  test loss 4.663, len  test loss 2.984, col  test loss 168.528\n"
     ]
    },
    {
     "name": "stderr",
     "output_type": "stream",
     "text": [
      "Epoch 1174: 272batch [00:22, 12.21batch/s, loss=1.82e+3]\n"
     ]
    },
    {
     "name": "stdout",
     "output_type": "stream",
     "text": [
      "epoch 1174: avg train loss 1742.58, bar train loss 4.603, len train loss 0.030, col train loss 168.570\n"
     ]
    },
    {
     "name": "stderr",
     "output_type": "stream",
     "text": [
      "Epoch 1175: 2batch [00:00, 12.50batch/s, loss=1.69e+3]"
     ]
    },
    {
     "name": "stdout",
     "output_type": "stream",
     "text": [
      "epoch 1174: avg test  loss 2517.66, bar  test loss 8.422, len  test loss 0.537, col  test loss 168.599\n"
     ]
    },
    {
     "name": "stderr",
     "output_type": "stream",
     "text": [
      "Epoch 1175: 272batch [00:22, 12.36batch/s, loss=1.82e+3]\n"
     ]
    },
    {
     "name": "stdout",
     "output_type": "stream",
     "text": [
      "epoch 1175: avg train loss 1744.10, bar train loss 4.540, len train loss 0.033, col train loss 168.693\n",
      "epoch 1175: avg test  loss 2588.99, bar  test loss 5.562, len  test loss 0.947, col  test loss 168.663\n"
     ]
    },
    {
     "name": "stderr",
     "output_type": "stream",
     "text": [
      "Epoch 1176: 272batch [00:22, 12.28batch/s, loss=1.92e+3]\n"
     ]
    },
    {
     "name": "stdout",
     "output_type": "stream",
     "text": [
      "epoch 1176: avg train loss 1742.28, bar train loss 4.520, len train loss 0.028, col train loss 168.626\n"
     ]
    },
    {
     "name": "stderr",
     "output_type": "stream",
     "text": [
      "Epoch 1177: 2batch [00:00, 12.27batch/s, loss=1.76e+3]"
     ]
    },
    {
     "name": "stdout",
     "output_type": "stream",
     "text": [
      "epoch 1176: avg test  loss 2262.59, bar  test loss 5.979, len  test loss 0.999, col  test loss 168.558\n"
     ]
    },
    {
     "name": "stderr",
     "output_type": "stream",
     "text": [
      "Epoch 1177: 272batch [00:22, 12.25batch/s, loss=1.66e+3]\n"
     ]
    },
    {
     "name": "stdout",
     "output_type": "stream",
     "text": [
      "epoch 1177: avg train loss 1741.31, bar train loss 4.505, len train loss 0.027, col train loss 168.646\n"
     ]
    },
    {
     "name": "stderr",
     "output_type": "stream",
     "text": [
      "Epoch 1178: 2batch [00:00, 12.19batch/s, loss=1.84e+3]"
     ]
    },
    {
     "name": "stdout",
     "output_type": "stream",
     "text": [
      "epoch 1177: avg test  loss 2693.92, bar  test loss 6.668, len  test loss 3.517, col  test loss 168.609\n"
     ]
    },
    {
     "name": "stderr",
     "output_type": "stream",
     "text": [
      "Epoch 1178: 272batch [00:22, 12.26batch/s, loss=1.94e+3]\n"
     ]
    },
    {
     "name": "stdout",
     "output_type": "stream",
     "text": [
      "epoch 1178: avg train loss 1742.59, bar train loss 4.543, len train loss 0.028, col train loss 168.737\n"
     ]
    },
    {
     "name": "stderr",
     "output_type": "stream",
     "text": [
      "Epoch 1179: 2batch [00:00, 12.12batch/s, loss=1.76e+3]"
     ]
    },
    {
     "name": "stdout",
     "output_type": "stream",
     "text": [
      "epoch 1178: avg test  loss 3479.36, bar  test loss 8.751, len  test loss 1.092, col  test loss 168.912\n"
     ]
    },
    {
     "name": "stderr",
     "output_type": "stream",
     "text": [
      "Epoch 1179: 272batch [00:22, 12.21batch/s, loss=1.85e+3]\n"
     ]
    },
    {
     "name": "stdout",
     "output_type": "stream",
     "text": [
      "epoch 1179: avg train loss 1745.65, bar train loss 4.599, len train loss 0.035, col train loss 168.900\n"
     ]
    },
    {
     "name": "stderr",
     "output_type": "stream",
     "text": [
      "Epoch 1180: 2batch [00:00, 12.58batch/s, loss=1.83e+3]"
     ]
    },
    {
     "name": "stdout",
     "output_type": "stream",
     "text": [
      "epoch 1179: avg test  loss 2052.95, bar  test loss 6.333, len  test loss 0.198, col  test loss 168.632\n"
     ]
    },
    {
     "name": "stderr",
     "output_type": "stream",
     "text": [
      "Epoch 1180: 272batch [00:22, 12.18batch/s, loss=2.03e+3]\n"
     ]
    },
    {
     "name": "stdout",
     "output_type": "stream",
     "text": [
      "epoch 1180: avg train loss 1741.53, bar train loss 4.572, len train loss 0.028, col train loss 168.551\n",
      "epoch 1180: avg test  loss 2335.02, bar  test loss 10.090, len  test loss 1.822, col  test loss 168.407\n"
     ]
    },
    {
     "name": "stderr",
     "output_type": "stream",
     "text": [
      "Epoch 1181: 272batch [00:22, 12.14batch/s, loss=1.85e+3]\n"
     ]
    },
    {
     "name": "stdout",
     "output_type": "stream",
     "text": [
      "epoch 1181: avg train loss 1746.34, bar train loss 4.627, len train loss 0.035, col train loss 168.823\n"
     ]
    },
    {
     "name": "stderr",
     "output_type": "stream",
     "text": [
      "Epoch 1182: 2batch [00:00, 12.58batch/s, loss=1.78e+3]"
     ]
    },
    {
     "name": "stdout",
     "output_type": "stream",
     "text": [
      "epoch 1181: avg test  loss 2198.24, bar  test loss 5.719, len  test loss 0.652, col  test loss 168.547\n"
     ]
    },
    {
     "name": "stderr",
     "output_type": "stream",
     "text": [
      "Epoch 1182: 272batch [00:22, 12.23batch/s, loss=1.82e+3]\n"
     ]
    },
    {
     "name": "stdout",
     "output_type": "stream",
     "text": [
      "epoch 1182: avg train loss 1744.98, bar train loss 4.517, len train loss 0.026, col train loss 168.992\n"
     ]
    },
    {
     "name": "stderr",
     "output_type": "stream",
     "text": [
      "Epoch 1183: 2batch [00:00, 12.58batch/s, loss=1.66e+3]"
     ]
    },
    {
     "name": "stdout",
     "output_type": "stream",
     "text": [
      "epoch 1182: avg test  loss 2898.65, bar  test loss 4.810, len  test loss 5.456, col  test loss 169.019\n"
     ]
    },
    {
     "name": "stderr",
     "output_type": "stream",
     "text": [
      "Epoch 1183: 272batch [00:22, 12.14batch/s, loss=1.91e+3]\n"
     ]
    },
    {
     "name": "stdout",
     "output_type": "stream",
     "text": [
      "epoch 1183: avg train loss 1744.09, bar train loss 4.460, len train loss 0.035, col train loss 168.756\n"
     ]
    },
    {
     "name": "stderr",
     "output_type": "stream",
     "text": [
      "Epoch 1184: 2batch [00:00, 12.27batch/s, loss=1.68e+3]"
     ]
    },
    {
     "name": "stdout",
     "output_type": "stream",
     "text": [
      "epoch 1183: avg test  loss 2403.78, bar  test loss 6.221, len  test loss 2.433, col  test loss 168.780\n"
     ]
    },
    {
     "name": "stderr",
     "output_type": "stream",
     "text": [
      "Epoch 1184: 272batch [00:22, 12.12batch/s, loss=1.92e+3]\n"
     ]
    },
    {
     "name": "stdout",
     "output_type": "stream",
     "text": [
      "epoch 1184: avg train loss 1743.78, bar train loss 4.456, len train loss 0.029, col train loss 168.896\n"
     ]
    },
    {
     "name": "stderr",
     "output_type": "stream",
     "text": [
      "Epoch 1185: 2batch [00:00, 12.27batch/s, loss=1.72e+3]"
     ]
    },
    {
     "name": "stdout",
     "output_type": "stream",
     "text": [
      "epoch 1184: avg test  loss 2312.33, bar  test loss 7.239, len  test loss 0.702, col  test loss 169.058\n"
     ]
    },
    {
     "name": "stderr",
     "output_type": "stream",
     "text": [
      "Epoch 1185: 272batch [00:22, 12.12batch/s, loss=1.85e+3]\n"
     ]
    },
    {
     "name": "stdout",
     "output_type": "stream",
     "text": [
      "epoch 1185: avg train loss 1746.48, bar train loss 4.497, len train loss 0.032, col train loss 169.111\n",
      "epoch 1185: avg test  loss 2384.31, bar  test loss 5.094, len  test loss 1.840, col  test loss 169.109\n"
     ]
    },
    {
     "name": "stderr",
     "output_type": "stream",
     "text": [
      "Epoch 1186: 272batch [00:22, 12.10batch/s, loss=1.8e+3] \n"
     ]
    },
    {
     "name": "stdout",
     "output_type": "stream",
     "text": [
      "epoch 1186: avg train loss 1744.23, bar train loss 4.469, len train loss 0.028, col train loss 169.023\n"
     ]
    },
    {
     "name": "stderr",
     "output_type": "stream",
     "text": [
      "Epoch 1187: 2batch [00:00, 12.27batch/s, loss=1.76e+3]"
     ]
    },
    {
     "name": "stdout",
     "output_type": "stream",
     "text": [
      "epoch 1186: avg test  loss 2649.44, bar  test loss 11.141, len  test loss 1.397, col  test loss 168.871\n"
     ]
    },
    {
     "name": "stderr",
     "output_type": "stream",
     "text": [
      "Epoch 1187: 272batch [00:22, 12.23batch/s, loss=1.93e+3]\n"
     ]
    },
    {
     "name": "stdout",
     "output_type": "stream",
     "text": [
      "epoch 1187: avg train loss 1740.82, bar train loss 4.428, len train loss 0.028, col train loss 168.649\n"
     ]
    },
    {
     "name": "stderr",
     "output_type": "stream",
     "text": [
      "Epoch 1188: 2batch [00:00, 12.42batch/s, loss=1.78e+3]"
     ]
    },
    {
     "name": "stdout",
     "output_type": "stream",
     "text": [
      "epoch 1187: avg test  loss 2368.04, bar  test loss 5.656, len  test loss 0.147, col  test loss 168.516\n"
     ]
    },
    {
     "name": "stderr",
     "output_type": "stream",
     "text": [
      "Epoch 1188: 272batch [00:22, 12.16batch/s, loss=2e+3]   \n"
     ]
    },
    {
     "name": "stdout",
     "output_type": "stream",
     "text": [
      "epoch 1188: avg train loss 1742.46, bar train loss 4.554, len train loss 0.032, col train loss 168.422\n"
     ]
    },
    {
     "name": "stderr",
     "output_type": "stream",
     "text": [
      "Epoch 1189: 2batch [00:00, 12.35batch/s, loss=1.73e+3]"
     ]
    },
    {
     "name": "stdout",
     "output_type": "stream",
     "text": [
      "epoch 1188: avg test  loss 2813.44, bar  test loss 8.048, len  test loss 2.501, col  test loss 168.622\n"
     ]
    },
    {
     "name": "stderr",
     "output_type": "stream",
     "text": [
      "Epoch 1189: 272batch [00:22, 12.14batch/s, loss=1.88e+3]\n"
     ]
    },
    {
     "name": "stdout",
     "output_type": "stream",
     "text": [
      "epoch 1189: avg train loss 1742.36, bar train loss 4.501, len train loss 0.027, col train loss 168.659\n"
     ]
    },
    {
     "name": "stderr",
     "output_type": "stream",
     "text": [
      "Epoch 1190: 2batch [00:00, 12.19batch/s, loss=1.76e+3]"
     ]
    },
    {
     "name": "stdout",
     "output_type": "stream",
     "text": [
      "epoch 1189: avg test  loss 2558.60, bar  test loss 9.137, len  test loss 0.555, col  test loss 168.553\n"
     ]
    },
    {
     "name": "stderr",
     "output_type": "stream",
     "text": [
      "Epoch 1190: 272batch [00:22, 12.06batch/s, loss=1.9e+3] \n"
     ]
    },
    {
     "name": "stdout",
     "output_type": "stream",
     "text": [
      "epoch 1190: avg train loss 1743.00, bar train loss 4.456, len train loss 0.030, col train loss 168.711\n",
      "epoch 1190: avg test  loss 2322.07, bar  test loss 5.987, len  test loss 0.694, col  test loss 168.864\n"
     ]
    },
    {
     "name": "stderr",
     "output_type": "stream",
     "text": [
      "Epoch 1191: 272batch [00:22, 12.10batch/s, loss=1.9e+3] \n"
     ]
    },
    {
     "name": "stdout",
     "output_type": "stream",
     "text": [
      "epoch 1191: avg train loss 1741.91, bar train loss 4.434, len train loss 0.027, col train loss 168.724\n"
     ]
    },
    {
     "name": "stderr",
     "output_type": "stream",
     "text": [
      "Epoch 1192: 2batch [00:00, 12.27batch/s, loss=1.79e+3]"
     ]
    },
    {
     "name": "stdout",
     "output_type": "stream",
     "text": [
      "epoch 1191: avg test  loss 2190.54, bar  test loss 4.789, len  test loss 0.103, col  test loss 168.678\n"
     ]
    },
    {
     "name": "stderr",
     "output_type": "stream",
     "text": [
      "Epoch 1192: 272batch [00:22, 12.07batch/s, loss=1.83e+3]\n"
     ]
    },
    {
     "name": "stdout",
     "output_type": "stream",
     "text": [
      "epoch 1192: avg train loss 1742.69, bar train loss 4.403, len train loss 0.027, col train loss 168.853\n"
     ]
    },
    {
     "name": "stderr",
     "output_type": "stream",
     "text": [
      "Epoch 1193: 2batch [00:00, 12.35batch/s, loss=1.75e+3]"
     ]
    },
    {
     "name": "stdout",
     "output_type": "stream",
     "text": [
      "epoch 1192: avg test  loss 2598.94, bar  test loss 14.207, len  test loss 0.308, col  test loss 168.773\n"
     ]
    },
    {
     "name": "stderr",
     "output_type": "stream",
     "text": [
      "Epoch 1193: 272batch [00:22, 12.08batch/s, loss=1.81e+3]\n"
     ]
    },
    {
     "name": "stdout",
     "output_type": "stream",
     "text": [
      "epoch 1193: avg train loss 1743.28, bar train loss 4.479, len train loss 0.026, col train loss 168.811\n"
     ]
    },
    {
     "name": "stderr",
     "output_type": "stream",
     "text": [
      "Epoch 1194: 2batch [00:00, 12.82batch/s, loss=1.69e+3]"
     ]
    },
    {
     "name": "stdout",
     "output_type": "stream",
     "text": [
      "epoch 1193: avg test  loss 2017.41, bar  test loss 5.175, len  test loss 0.456, col  test loss 168.778\n"
     ]
    },
    {
     "name": "stderr",
     "output_type": "stream",
     "text": [
      "Epoch 1194: 272batch [00:22, 12.03batch/s, loss=2e+3]   \n"
     ]
    },
    {
     "name": "stdout",
     "output_type": "stream",
     "text": [
      "epoch 1194: avg train loss 1743.46, bar train loss 4.477, len train loss 0.025, col train loss 168.863\n"
     ]
    },
    {
     "name": "stderr",
     "output_type": "stream",
     "text": [
      "Epoch 1195: 2batch [00:00, 12.20batch/s, loss=1.74e+3]"
     ]
    },
    {
     "name": "stdout",
     "output_type": "stream",
     "text": [
      "epoch 1194: avg test  loss 2055.02, bar  test loss 4.876, len  test loss 0.175, col  test loss 168.851\n"
     ]
    },
    {
     "name": "stderr",
     "output_type": "stream",
     "text": [
      "Epoch 1195: 272batch [00:22, 12.02batch/s, loss=1.86e+3]\n"
     ]
    },
    {
     "name": "stdout",
     "output_type": "stream",
     "text": [
      "epoch 1195: avg train loss 1745.22, bar train loss 4.484, len train loss 0.029, col train loss 168.978\n",
      "epoch 1195: avg test  loss 2174.24, bar  test loss 7.273, len  test loss 0.789, col  test loss 169.111\n"
     ]
    },
    {
     "name": "stderr",
     "output_type": "stream",
     "text": [
      "Epoch 1196: 272batch [00:22, 12.02batch/s, loss=1.84e+3]\n"
     ]
    },
    {
     "name": "stdout",
     "output_type": "stream",
     "text": [
      "epoch 1196: avg train loss 1744.97, bar train loss 4.496, len train loss 0.033, col train loss 168.864\n"
     ]
    },
    {
     "name": "stderr",
     "output_type": "stream",
     "text": [
      "Epoch 1197: 2batch [00:00, 12.50batch/s, loss=1.79e+3]"
     ]
    },
    {
     "name": "stdout",
     "output_type": "stream",
     "text": [
      "epoch 1196: avg test  loss 1931.23, bar  test loss 4.683, len  test loss 0.555, col  test loss 168.657\n"
     ]
    },
    {
     "name": "stderr",
     "output_type": "stream",
     "text": [
      "Epoch 1197: 272batch [00:22, 12.01batch/s, loss=1.75e+3]\n"
     ]
    },
    {
     "name": "stdout",
     "output_type": "stream",
     "text": [
      "epoch 1197: avg train loss 1741.70, bar train loss 4.363, len train loss 0.027, col train loss 168.793\n"
     ]
    },
    {
     "name": "stderr",
     "output_type": "stream",
     "text": [
      "Epoch 1198: 2batch [00:00, 12.19batch/s, loss=1.79e+3]"
     ]
    },
    {
     "name": "stdout",
     "output_type": "stream",
     "text": [
      "epoch 1197: avg test  loss 1888.92, bar  test loss 5.528, len  test loss 0.034, col  test loss 168.783\n"
     ]
    },
    {
     "name": "stderr",
     "output_type": "stream",
     "text": [
      "Epoch 1198: 272batch [00:22, 12.04batch/s, loss=1.74e+3]\n"
     ]
    },
    {
     "name": "stdout",
     "output_type": "stream",
     "text": [
      "epoch 1198: avg train loss 1742.40, bar train loss 4.363, len train loss 0.029, col train loss 168.813\n"
     ]
    },
    {
     "name": "stderr",
     "output_type": "stream",
     "text": [
      "Epoch 1199: 2batch [00:00, 12.35batch/s, loss=1.73e+3]"
     ]
    },
    {
     "name": "stdout",
     "output_type": "stream",
     "text": [
      "epoch 1198: avg test  loss 1927.20, bar  test loss 5.355, len  test loss 0.254, col  test loss 168.760\n"
     ]
    },
    {
     "name": "stderr",
     "output_type": "stream",
     "text": [
      "Epoch 1199: 272batch [00:22, 12.03batch/s, loss=1.96e+3]\n"
     ]
    },
    {
     "name": "stdout",
     "output_type": "stream",
     "text": [
      "epoch 1199: avg train loss 1742.23, bar train loss 4.395, len train loss 0.028, col train loss 168.705\n"
     ]
    },
    {
     "name": "stderr",
     "output_type": "stream",
     "text": [
      "Epoch 1200: 2batch [00:00, 12.27batch/s, loss=1.79e+3]"
     ]
    },
    {
     "name": "stdout",
     "output_type": "stream",
     "text": [
      "epoch 1199: avg test  loss 1864.60, bar  test loss 5.316, len  test loss 0.245, col  test loss 168.692\n"
     ]
    },
    {
     "name": "stderr",
     "output_type": "stream",
     "text": [
      "Epoch 1200: 272batch [00:22, 12.01batch/s, loss=1.9e+3] \n"
     ]
    },
    {
     "name": "stdout",
     "output_type": "stream",
     "text": [
      "epoch 1200: avg train loss 1740.67, bar train loss 4.350, len train loss 0.027, col train loss 168.674\n",
      "epoch 1200: avg test  loss 1977.90, bar  test loss 4.385, len  test loss 0.848, col  test loss 168.709\n"
     ]
    },
    {
     "name": "stderr",
     "output_type": "stream",
     "text": [
      "Epoch 1201: 272batch [00:22, 12.02batch/s, loss=1.71e+3]\n"
     ]
    },
    {
     "name": "stdout",
     "output_type": "stream",
     "text": [
      "epoch 1201: avg train loss 1741.00, bar train loss 4.315, len train loss 0.026, col train loss 168.779\n"
     ]
    },
    {
     "name": "stderr",
     "output_type": "stream",
     "text": [
      "Epoch 1202: 2batch [00:00, 12.82batch/s, loss=1.76e+3]"
     ]
    },
    {
     "name": "stdout",
     "output_type": "stream",
     "text": [
      "epoch 1201: avg test  loss 1956.02, bar  test loss 6.520, len  test loss 0.182, col  test loss 168.722\n"
     ]
    },
    {
     "name": "stderr",
     "output_type": "stream",
     "text": [
      "Epoch 1202: 272batch [00:22, 11.95batch/s, loss=1.83e+3]\n"
     ]
    },
    {
     "name": "stdout",
     "output_type": "stream",
     "text": [
      "epoch 1202: avg train loss 1741.15, bar train loss 4.319, len train loss 0.025, col train loss 168.804\n"
     ]
    },
    {
     "name": "stderr",
     "output_type": "stream",
     "text": [
      "Epoch 1203: 2batch [00:00, 12.05batch/s, loss=1.68e+3]"
     ]
    },
    {
     "name": "stdout",
     "output_type": "stream",
     "text": [
      "epoch 1202: avg test  loss 1887.83, bar  test loss 4.801, len  test loss 0.252, col  test loss 168.797\n"
     ]
    },
    {
     "name": "stderr",
     "output_type": "stream",
     "text": [
      "Epoch 1203: 272batch [00:22, 11.96batch/s, loss=1.89e+3]\n"
     ]
    },
    {
     "name": "stdout",
     "output_type": "stream",
     "text": [
      "epoch 1203: avg train loss 1743.54, bar train loss 4.369, len train loss 0.029, col train loss 168.924\n"
     ]
    },
    {
     "name": "stderr",
     "output_type": "stream",
     "text": [
      "Epoch 1204: 2batch [00:00, 12.42batch/s, loss=1.65e+3]"
     ]
    },
    {
     "name": "stdout",
     "output_type": "stream",
     "text": [
      "epoch 1203: avg test  loss 1854.24, bar  test loss 5.127, len  test loss 0.182, col  test loss 168.985\n"
     ]
    },
    {
     "name": "stderr",
     "output_type": "stream",
     "text": [
      "Epoch 1204: 272batch [00:22, 11.91batch/s, loss=1.84e+3]\n"
     ]
    },
    {
     "name": "stdout",
     "output_type": "stream",
     "text": [
      "epoch 1204: avg train loss 1741.96, bar train loss 4.323, len train loss 0.026, col train loss 168.891\n"
     ]
    },
    {
     "name": "stderr",
     "output_type": "stream",
     "text": [
      "Epoch 1205: 2batch [00:00, 12.50batch/s, loss=1.69e+3]"
     ]
    },
    {
     "name": "stdout",
     "output_type": "stream",
     "text": [
      "epoch 1204: avg test  loss 1884.33, bar  test loss 4.573, len  test loss 0.408, col  test loss 168.723\n"
     ]
    },
    {
     "name": "stderr",
     "output_type": "stream",
     "text": [
      "Epoch 1205: 272batch [00:22, 11.88batch/s, loss=1.99e+3]\n"
     ]
    },
    {
     "name": "stdout",
     "output_type": "stream",
     "text": [
      "epoch 1205: avg train loss 1740.83, bar train loss 4.331, len train loss 0.024, col train loss 168.793\n",
      "epoch 1205: avg test  loss 1869.25, bar  test loss 4.587, len  test loss 0.336, col  test loss 168.706\n"
     ]
    },
    {
     "name": "stderr",
     "output_type": "stream",
     "text": [
      "Epoch 1206: 272batch [00:22, 11.89batch/s, loss=1.68e+3]\n"
     ]
    },
    {
     "name": "stdout",
     "output_type": "stream",
     "text": [
      "epoch 1206: avg train loss 1740.15, bar train loss 4.291, len train loss 0.024, col train loss 168.753\n"
     ]
    },
    {
     "name": "stderr",
     "output_type": "stream",
     "text": [
      "Epoch 1207: 2batch [00:00, 12.50batch/s, loss=1.82e+3]"
     ]
    },
    {
     "name": "stdout",
     "output_type": "stream",
     "text": [
      "epoch 1206: avg test  loss 1889.41, bar  test loss 4.968, len  test loss 0.253, col  test loss 168.712\n"
     ]
    },
    {
     "name": "stderr",
     "output_type": "stream",
     "text": [
      "Epoch 1207: 272batch [00:22, 11.90batch/s, loss=1.97e+3]\n"
     ]
    },
    {
     "name": "stdout",
     "output_type": "stream",
     "text": [
      "epoch 1207: avg train loss 1741.57, bar train loss 4.301, len train loss 0.028, col train loss 168.812\n"
     ]
    },
    {
     "name": "stderr",
     "output_type": "stream",
     "text": [
      "Epoch 1208: 2batch [00:00, 12.42batch/s, loss=1.82e+3]"
     ]
    },
    {
     "name": "stdout",
     "output_type": "stream",
     "text": [
      "epoch 1207: avg test  loss 1843.89, bar  test loss 4.964, len  test loss 0.081, col  test loss 168.622\n"
     ]
    },
    {
     "name": "stderr",
     "output_type": "stream",
     "text": [
      "Epoch 1208: 272batch [00:22, 11.83batch/s, loss=1.9e+3] \n"
     ]
    },
    {
     "name": "stdout",
     "output_type": "stream",
     "text": [
      "epoch 1208: avg train loss 1741.46, bar train loss 4.321, len train loss 0.026, col train loss 168.735\n"
     ]
    },
    {
     "name": "stderr",
     "output_type": "stream",
     "text": [
      "Epoch 1209: 2batch [00:00, 12.05batch/s, loss=1.7e+3]"
     ]
    },
    {
     "name": "stdout",
     "output_type": "stream",
     "text": [
      "epoch 1208: avg test  loss 1850.51, bar  test loss 4.972, len  test loss 0.036, col  test loss 168.807\n"
     ]
    },
    {
     "name": "stderr",
     "output_type": "stream",
     "text": [
      "Epoch 1209: 272batch [00:22, 11.86batch/s, loss=1.83e+3]\n"
     ]
    },
    {
     "name": "stdout",
     "output_type": "stream",
     "text": [
      "epoch 1209: avg train loss 1740.27, bar train loss 4.240, len train loss 0.025, col train loss 168.751\n"
     ]
    },
    {
     "name": "stderr",
     "output_type": "stream",
     "text": [
      "Epoch 1210: 2batch [00:00, 12.27batch/s, loss=1.7e+3]"
     ]
    },
    {
     "name": "stdout",
     "output_type": "stream",
     "text": [
      "epoch 1209: avg test  loss 1836.41, bar  test loss 4.863, len  test loss 0.061, col  test loss 168.644\n"
     ]
    },
    {
     "name": "stderr",
     "output_type": "stream",
     "text": [
      "Epoch 1210: 272batch [00:22, 11.83batch/s, loss=1.82e+3]\n"
     ]
    },
    {
     "name": "stdout",
     "output_type": "stream",
     "text": [
      "epoch 1210: avg train loss 1740.21, bar train loss 4.264, len train loss 0.027, col train loss 168.698\n",
      "epoch 1210: avg test  loss 1824.95, bar  test loss 4.489, len  test loss 0.287, col  test loss 168.505\n"
     ]
    },
    {
     "name": "stderr",
     "output_type": "stream",
     "text": [
      "Epoch 1211: 272batch [00:22, 11.83batch/s, loss=1.91e+3]\n"
     ]
    },
    {
     "name": "stdout",
     "output_type": "stream",
     "text": [
      "epoch 1211: avg train loss 1748.03, bar train loss 4.544, len train loss 0.040, col train loss 168.900\n"
     ]
    },
    {
     "name": "stderr",
     "output_type": "stream",
     "text": [
      "Epoch 1212: 0batch [00:00, ?batch/s, loss=1.75e+3]"
     ]
    },
    {
     "name": "stdout",
     "output_type": "stream",
     "text": [
      "epoch 1211: avg test  loss 1909.83, bar  test loss 5.128, len  test loss 0.241, col  test loss 169.222\n"
     ]
    },
    {
     "name": "stderr",
     "output_type": "stream",
     "text": [
      "Epoch 1212: 272batch [00:23, 11.80batch/s, loss=1.9e+3] \n"
     ]
    },
    {
     "name": "stdout",
     "output_type": "stream",
     "text": [
      "epoch 1212: avg train loss 1744.45, bar train loss 4.313, len train loss 0.027, col train loss 169.044\n"
     ]
    },
    {
     "name": "stderr",
     "output_type": "stream",
     "text": [
      "Epoch 1213: 0batch [00:00, ?batch/s, loss=1.74e+3]"
     ]
    },
    {
     "name": "stdout",
     "output_type": "stream",
     "text": [
      "epoch 1212: avg test  loss 1890.02, bar  test loss 7.449, len  test loss 0.026, col  test loss 168.911\n"
     ]
    },
    {
     "name": "stderr",
     "output_type": "stream",
     "text": [
      "Epoch 1213: 272batch [00:22, 11.85batch/s, loss=1.84e+3]\n"
     ]
    },
    {
     "name": "stdout",
     "output_type": "stream",
     "text": [
      "epoch 1213: avg train loss 1741.80, bar train loss 4.257, len train loss 0.025, col train loss 168.919\n"
     ]
    },
    {
     "name": "stderr",
     "output_type": "stream",
     "text": [
      "Epoch 1214: 2batch [00:00, 12.35batch/s, loss=1.76e+3]"
     ]
    },
    {
     "name": "stdout",
     "output_type": "stream",
     "text": [
      "epoch 1213: avg test  loss 1946.35, bar  test loss 4.715, len  test loss 0.521, col  test loss 168.822\n"
     ]
    },
    {
     "name": "stderr",
     "output_type": "stream",
     "text": [
      "Epoch 1214: 272batch [00:23, 11.80batch/s, loss=1.91e+3]\n"
     ]
    },
    {
     "name": "stdout",
     "output_type": "stream",
     "text": [
      "epoch 1214: avg train loss 1741.97, bar train loss 4.370, len train loss 0.025, col train loss 168.854\n"
     ]
    },
    {
     "name": "stderr",
     "output_type": "stream",
     "text": [
      "Epoch 1215: 2batch [00:00, 11.98batch/s, loss=1.74e+3]"
     ]
    },
    {
     "name": "stdout",
     "output_type": "stream",
     "text": [
      "epoch 1214: avg test  loss 1954.26, bar  test loss 4.839, len  test loss 0.532, col  test loss 168.811\n"
     ]
    },
    {
     "name": "stderr",
     "output_type": "stream",
     "text": [
      "Epoch 1215: 272batch [00:22, 11.83batch/s, loss=1.8e+3] \n"
     ]
    },
    {
     "name": "stdout",
     "output_type": "stream",
     "text": [
      "epoch 1215: avg train loss 1740.61, bar train loss 4.337, len train loss 0.024, col train loss 168.711\n",
      "epoch 1215: avg test  loss 1873.09, bar  test loss 5.635, len  test loss 0.077, col  test loss 168.583\n"
     ]
    },
    {
     "name": "stderr",
     "output_type": "stream",
     "text": [
      "Epoch 1216: 272batch [00:23, 11.80batch/s, loss=1.84e+3]\n"
     ]
    },
    {
     "name": "stdout",
     "output_type": "stream",
     "text": [
      "epoch 1216: avg train loss 1740.03, bar train loss 4.350, len train loss 0.025, col train loss 168.641\n"
     ]
    },
    {
     "name": "stderr",
     "output_type": "stream",
     "text": [
      "Epoch 1217: 2batch [00:00, 12.19batch/s, loss=1.76e+3]"
     ]
    },
    {
     "name": "stdout",
     "output_type": "stream",
     "text": [
      "epoch 1216: avg test  loss 1830.00, bar  test loss 5.133, len  test loss 0.104, col  test loss 168.514\n"
     ]
    },
    {
     "name": "stderr",
     "output_type": "stream",
     "text": [
      "Epoch 1217: 272batch [00:23, 11.78batch/s, loss=2e+3]   \n"
     ]
    },
    {
     "name": "stdout",
     "output_type": "stream",
     "text": [
      "epoch 1217: avg train loss 1738.80, bar train loss 4.382, len train loss 0.025, col train loss 168.454\n"
     ]
    },
    {
     "name": "stderr",
     "output_type": "stream",
     "text": [
      "Epoch 1218: 2batch [00:00, 12.27batch/s, loss=1.75e+3]"
     ]
    },
    {
     "name": "stdout",
     "output_type": "stream",
     "text": [
      "epoch 1217: avg test  loss 1832.58, bar  test loss 5.053, len  test loss 0.093, col  test loss 168.256\n"
     ]
    },
    {
     "name": "stderr",
     "output_type": "stream",
     "text": [
      "Epoch 1218: 272batch [00:23, 11.78batch/s, loss=1.74e+3]\n"
     ]
    },
    {
     "name": "stdout",
     "output_type": "stream",
     "text": [
      "epoch 1218: avg train loss 1737.19, bar train loss 4.417, len train loss 0.025, col train loss 168.209\n"
     ]
    },
    {
     "name": "stderr",
     "output_type": "stream",
     "text": [
      "Epoch 1219: 2batch [00:00, 11.90batch/s, loss=1.79e+3]"
     ]
    },
    {
     "name": "stdout",
     "output_type": "stream",
     "text": [
      "epoch 1218: avg test  loss 1840.87, bar  test loss 4.453, len  test loss 0.150, col  test loss 168.599\n"
     ]
    },
    {
     "name": "stderr",
     "output_type": "stream",
     "text": [
      "Epoch 1219: 272batch [00:23, 11.63batch/s, loss=1.82e+3]\n"
     ]
    },
    {
     "name": "stdout",
     "output_type": "stream",
     "text": [
      "epoch 1219: avg train loss 1738.61, bar train loss 4.381, len train loss 0.026, col train loss 168.377\n"
     ]
    },
    {
     "name": "stderr",
     "output_type": "stream",
     "text": [
      "Epoch 1220: 1batch [00:00,  9.26batch/s, loss=1.76e+3]"
     ]
    },
    {
     "name": "stdout",
     "output_type": "stream",
     "text": [
      "epoch 1219: avg test  loss 1809.43, bar  test loss 4.628, len  test loss 0.098, col  test loss 167.911\n"
     ]
    },
    {
     "name": "stderr",
     "output_type": "stream",
     "text": [
      "Epoch 1220: 272batch [00:22, 11.83batch/s, loss=1.85e+3]\n"
     ]
    },
    {
     "name": "stdout",
     "output_type": "stream",
     "text": [
      "epoch 1220: avg train loss 1734.47, bar train loss 4.428, len train loss 0.025, col train loss 167.888\n",
      "epoch 1220: avg test  loss 1819.63, bar  test loss 4.830, len  test loss 0.216, col  test loss 167.720\n"
     ]
    },
    {
     "name": "stderr",
     "output_type": "stream",
     "text": [
      "Epoch 1221: 272batch [00:23, 11.70batch/s, loss=1.78e+3]\n"
     ]
    },
    {
     "name": "stdout",
     "output_type": "stream",
     "text": [
      "epoch 1221: avg train loss 1735.51, bar train loss 4.474, len train loss 0.026, col train loss 167.797\n"
     ]
    },
    {
     "name": "stderr",
     "output_type": "stream",
     "text": [
      "Epoch 1222: 2batch [00:00, 12.05batch/s, loss=1.84e+3]"
     ]
    },
    {
     "name": "stdout",
     "output_type": "stream",
     "text": [
      "epoch 1221: avg test  loss 1847.31, bar  test loss 5.294, len  test loss 0.141, col  test loss 167.623\n"
     ]
    },
    {
     "name": "stderr",
     "output_type": "stream",
     "text": [
      "Epoch 1222: 272batch [00:23, 11.73batch/s, loss=1.83e+3]\n"
     ]
    },
    {
     "name": "stdout",
     "output_type": "stream",
     "text": [
      "epoch 1222: avg train loss 1732.87, bar train loss 4.501, len train loss 0.024, col train loss 167.541\n"
     ]
    },
    {
     "name": "stderr",
     "output_type": "stream",
     "text": [
      "Epoch 1223: 2batch [00:00, 12.50batch/s, loss=1.7e+3]"
     ]
    },
    {
     "name": "stdout",
     "output_type": "stream",
     "text": [
      "epoch 1222: avg test  loss 1892.62, bar  test loss 5.421, len  test loss 0.105, col  test loss 167.368\n"
     ]
    },
    {
     "name": "stderr",
     "output_type": "stream",
     "text": [
      "Epoch 1223: 272batch [00:23, 11.70batch/s, loss=1.91e+3]\n"
     ]
    },
    {
     "name": "stdout",
     "output_type": "stream",
     "text": [
      "epoch 1223: avg train loss 1731.33, bar train loss 4.466, len train loss 0.027, col train loss 167.395\n"
     ]
    },
    {
     "name": "stderr",
     "output_type": "stream",
     "text": [
      "Epoch 1224: 2batch [00:00, 12.42batch/s, loss=1.73e+3]"
     ]
    },
    {
     "name": "stdout",
     "output_type": "stream",
     "text": [
      "epoch 1223: avg test  loss 1915.62, bar  test loss 5.574, len  test loss 0.138, col  test loss 167.204\n"
     ]
    },
    {
     "name": "stderr",
     "output_type": "stream",
     "text": [
      "Epoch 1224: 272batch [00:23, 11.70batch/s, loss=1.85e+3]\n"
     ]
    },
    {
     "name": "stdout",
     "output_type": "stream",
     "text": [
      "epoch 1224: avg train loss 1731.51, bar train loss 4.488, len train loss 0.029, col train loss 167.279\n"
     ]
    },
    {
     "name": "stderr",
     "output_type": "stream",
     "text": [
      "Epoch 1225: 0batch [00:00, ?batch/s, loss=1.64e+3]"
     ]
    },
    {
     "name": "stdout",
     "output_type": "stream",
     "text": [
      "epoch 1224: avg test  loss 1936.84, bar  test loss 4.752, len  test loss 0.351, col  test loss 167.116\n"
     ]
    },
    {
     "name": "stderr",
     "output_type": "stream",
     "text": [
      "Epoch 1225: 272batch [00:23, 11.64batch/s, loss=1.97e+3]\n"
     ]
    },
    {
     "name": "stdout",
     "output_type": "stream",
     "text": [
      "epoch 1225: avg train loss 1728.99, bar train loss 4.460, len train loss 0.025, col train loss 167.158\n",
      "epoch 1225: avg test  loss 1893.41, bar  test loss 5.559, len  test loss 0.085, col  test loss 167.039\n"
     ]
    },
    {
     "name": "stderr",
     "output_type": "stream",
     "text": [
      "Epoch 1226: 272batch [00:23, 11.68batch/s, loss=1.74e+3]\n"
     ]
    },
    {
     "name": "stdout",
     "output_type": "stream",
     "text": [
      "epoch 1226: avg train loss 1728.06, bar train loss 4.447, len train loss 0.026, col train loss 167.058\n"
     ]
    },
    {
     "name": "stderr",
     "output_type": "stream",
     "text": [
      "Epoch 1227: 2batch [00:00, 12.35batch/s, loss=1.78e+3]"
     ]
    },
    {
     "name": "stdout",
     "output_type": "stream",
     "text": [
      "epoch 1226: avg test  loss 2008.28, bar  test loss 4.676, len  test loss 0.962, col  test loss 166.994\n"
     ]
    },
    {
     "name": "stderr",
     "output_type": "stream",
     "text": [
      "Epoch 1227: 272batch [00:23, 11.69batch/s, loss=1.71e+3]\n"
     ]
    },
    {
     "name": "stdout",
     "output_type": "stream",
     "text": [
      "epoch 1227: avg train loss 1727.97, bar train loss 4.452, len train loss 0.025, col train loss 167.015\n"
     ]
    },
    {
     "name": "stderr",
     "output_type": "stream",
     "text": [
      "Epoch 1228: 2batch [00:00, 11.83batch/s, loss=1.79e+3]"
     ]
    },
    {
     "name": "stdout",
     "output_type": "stream",
     "text": [
      "epoch 1227: avg test  loss 1894.82, bar  test loss 5.348, len  test loss 0.117, col  test loss 166.955\n"
     ]
    },
    {
     "name": "stderr",
     "output_type": "stream",
     "text": [
      "Epoch 1228: 272batch [00:23, 11.62batch/s, loss=1.76e+3]\n"
     ]
    },
    {
     "name": "stdout",
     "output_type": "stream",
     "text": [
      "epoch 1228: avg train loss 1727.45, bar train loss 4.475, len train loss 0.027, col train loss 166.921\n"
     ]
    },
    {
     "name": "stderr",
     "output_type": "stream",
     "text": [
      "Epoch 1229: 0batch [00:00, ?batch/s, loss=1.69e+3]"
     ]
    },
    {
     "name": "stdout",
     "output_type": "stream",
     "text": [
      "epoch 1228: avg test  loss 2017.15, bar  test loss 6.952, len  test loss 0.049, col  test loss 166.804\n"
     ]
    },
    {
     "name": "stderr",
     "output_type": "stream",
     "text": [
      "Epoch 1229: 272batch [00:23, 11.61batch/s, loss=1.76e+3]\n"
     ]
    },
    {
     "name": "stdout",
     "output_type": "stream",
     "text": [
      "epoch 1229: avg train loss 1731.83, bar train loss 4.508, len train loss 0.033, col train loss 167.137\n"
     ]
    },
    {
     "name": "stderr",
     "output_type": "stream",
     "text": [
      "Epoch 1230: 2batch [00:00, 12.27batch/s, loss=1.72e+3]"
     ]
    },
    {
     "name": "stdout",
     "output_type": "stream",
     "text": [
      "epoch 1229: avg test  loss 2144.68, bar  test loss 5.990, len  test loss 0.778, col  test loss 167.309\n"
     ]
    },
    {
     "name": "stderr",
     "output_type": "stream",
     "text": [
      "Epoch 1230: 272batch [00:23, 11.58batch/s, loss=1.9e+3] \n"
     ]
    },
    {
     "name": "stdout",
     "output_type": "stream",
     "text": [
      "epoch 1230: avg train loss 1729.18, bar train loss 4.500, len train loss 0.027, col train loss 166.968\n",
      "epoch 1230: avg test  loss 1974.31, bar  test loss 5.074, len  test loss 0.360, col  test loss 166.801\n"
     ]
    },
    {
     "name": "stderr",
     "output_type": "stream",
     "text": [
      "Epoch 1231: 272batch [00:23, 11.63batch/s, loss=1.83e+3]\n"
     ]
    },
    {
     "name": "stdout",
     "output_type": "stream",
     "text": [
      "epoch 1231: avg train loss 1727.57, bar train loss 4.458, len train loss 0.027, col train loss 166.913\n"
     ]
    },
    {
     "name": "stderr",
     "output_type": "stream",
     "text": [
      "Epoch 1232: 2batch [00:00, 11.90batch/s, loss=1.74e+3]"
     ]
    },
    {
     "name": "stdout",
     "output_type": "stream",
     "text": [
      "epoch 1231: avg test  loss 2064.83, bar  test loss 6.309, len  test loss 0.310, col  test loss 166.761\n"
     ]
    },
    {
     "name": "stderr",
     "output_type": "stream",
     "text": [
      "Epoch 1232: 272batch [00:23, 11.62batch/s, loss=1.9e+3] \n"
     ]
    },
    {
     "name": "stdout",
     "output_type": "stream",
     "text": [
      "epoch 1232: avg train loss 1726.47, bar train loss 4.457, len train loss 0.026, col train loss 166.822\n"
     ]
    },
    {
     "name": "stderr",
     "output_type": "stream",
     "text": [
      "Epoch 1233: 2batch [00:00, 12.58batch/s, loss=1.72e+3]"
     ]
    },
    {
     "name": "stdout",
     "output_type": "stream",
     "text": [
      "epoch 1232: avg test  loss 2230.41, bar  test loss 4.886, len  test loss 1.490, col  test loss 166.661\n"
     ]
    },
    {
     "name": "stderr",
     "output_type": "stream",
     "text": [
      "Epoch 1233: 272batch [00:23, 11.57batch/s, loss=1.89e+3]\n"
     ]
    },
    {
     "name": "stdout",
     "output_type": "stream",
     "text": [
      "epoch 1233: avg train loss 1725.31, bar train loss 4.451, len train loss 0.025, col train loss 166.713\n"
     ]
    },
    {
     "name": "stderr",
     "output_type": "stream",
     "text": [
      "Epoch 1234: 2batch [00:00, 12.20batch/s, loss=1.68e+3]"
     ]
    },
    {
     "name": "stdout",
     "output_type": "stream",
     "text": [
      "epoch 1233: avg test  loss 2317.71, bar  test loss 5.720, len  test loss 0.925, col  test loss 166.660\n"
     ]
    },
    {
     "name": "stderr",
     "output_type": "stream",
     "text": [
      "Epoch 1234: 272batch [00:23, 11.56batch/s, loss=1.85e+3]\n"
     ]
    },
    {
     "name": "stdout",
     "output_type": "stream",
     "text": [
      "epoch 1234: avg train loss 1725.12, bar train loss 4.444, len train loss 0.025, col train loss 166.692\n"
     ]
    },
    {
     "name": "stderr",
     "output_type": "stream",
     "text": [
      "Epoch 1235: 2batch [00:00, 11.98batch/s, loss=1.71e+3]"
     ]
    },
    {
     "name": "stdout",
     "output_type": "stream",
     "text": [
      "epoch 1234: avg test  loss 2227.81, bar  test loss 11.274, len  test loss 0.025, col  test loss 166.575\n"
     ]
    },
    {
     "name": "stderr",
     "output_type": "stream",
     "text": [
      "Epoch 1235: 272batch [00:23, 11.54batch/s, loss=1.69e+3]\n"
     ]
    },
    {
     "name": "stdout",
     "output_type": "stream",
     "text": [
      "epoch 1235: avg train loss 1724.37, bar train loss 4.433, len train loss 0.025, col train loss 166.617\n",
      "epoch 1235: avg test  loss 2285.86, bar  test loss 8.326, len  test loss 0.355, col  test loss 166.537\n"
     ]
    },
    {
     "name": "stderr",
     "output_type": "stream",
     "text": [
      "Epoch 1236: 272batch [00:23, 11.56batch/s, loss=1.67e+3]\n"
     ]
    },
    {
     "name": "stdout",
     "output_type": "stream",
     "text": [
      "epoch 1236: avg train loss 1724.70, bar train loss 4.442, len train loss 0.025, col train loss 166.601\n"
     ]
    },
    {
     "name": "stderr",
     "output_type": "stream",
     "text": [
      "Epoch 1237: 2batch [00:00, 11.83batch/s, loss=1.75e+3]"
     ]
    },
    {
     "name": "stdout",
     "output_type": "stream",
     "text": [
      "epoch 1236: avg test  loss 2537.36, bar  test loss 5.574, len  test loss 2.340, col  test loss 166.643\n"
     ]
    },
    {
     "name": "stderr",
     "output_type": "stream",
     "text": [
      "Epoch 1237: 272batch [00:23, 11.52batch/s, loss=1.8e+3] \n"
     ]
    },
    {
     "name": "stdout",
     "output_type": "stream",
     "text": [
      "epoch 1237: avg train loss 1724.15, bar train loss 4.437, len train loss 0.025, col train loss 166.572\n"
     ]
    },
    {
     "name": "stderr",
     "output_type": "stream",
     "text": [
      "Epoch 1238: 0batch [00:00, ?batch/s, loss=1.72e+3]"
     ]
    },
    {
     "name": "stdout",
     "output_type": "stream",
     "text": [
      "epoch 1237: avg test  loss 2477.18, bar  test loss 5.665, len  test loss 1.578, col  test loss 166.548\n"
     ]
    },
    {
     "name": "stderr",
     "output_type": "stream",
     "text": [
      "Epoch 1238: 272batch [00:23, 11.52batch/s, loss=2.05e+3]\n"
     ]
    },
    {
     "name": "stdout",
     "output_type": "stream",
     "text": [
      "epoch 1238: avg train loss 1723.44, bar train loss 4.433, len train loss 0.025, col train loss 166.509\n"
     ]
    },
    {
     "name": "stderr",
     "output_type": "stream",
     "text": [
      "Epoch 1239: 0batch [00:00, ?batch/s, loss=1.78e+3]"
     ]
    },
    {
     "name": "stdout",
     "output_type": "stream",
     "text": [
      "epoch 1238: avg test  loss 2204.55, bar  test loss 8.555, len  test loss 0.130, col  test loss 166.404\n"
     ]
    },
    {
     "name": "stderr",
     "output_type": "stream",
     "text": [
      "Epoch 1239: 272batch [00:23, 11.51batch/s, loss=1.7e+3] \n"
     ]
    },
    {
     "name": "stdout",
     "output_type": "stream",
     "text": [
      "epoch 1239: avg train loss 1734.42, bar train loss 4.575, len train loss 0.063, col train loss 167.000\n"
     ]
    },
    {
     "name": "stderr",
     "output_type": "stream",
     "text": [
      "Epoch 1240: 2batch [00:00, 12.20batch/s, loss=1.69e+3]"
     ]
    },
    {
     "name": "stdout",
     "output_type": "stream",
     "text": [
      "epoch 1239: avg test  loss 2182.24, bar  test loss 5.734, len  test loss 1.229, col  test loss 166.673\n"
     ]
    },
    {
     "name": "stderr",
     "output_type": "stream",
     "text": [
      "Epoch 1240: 272batch [00:23, 11.46batch/s, loss=1.91e+3]\n"
     ]
    },
    {
     "name": "stdout",
     "output_type": "stream",
     "text": [
      "epoch 1240: avg train loss 1724.74, bar train loss 4.437, len train loss 0.025, col train loss 166.579\n",
      "epoch 1240: avg test  loss 2050.88, bar  test loss 6.622, len  test loss 0.328, col  test loss 166.535\n"
     ]
    },
    {
     "name": "stderr",
     "output_type": "stream",
     "text": [
      "Epoch 1241: 272batch [00:23, 11.55batch/s, loss=3.29e+3]\n"
     ]
    },
    {
     "name": "stdout",
     "output_type": "stream",
     "text": [
      "epoch 1241: avg train loss 2066.46, bar train loss 4.468, len train loss 3.354, col train loss 166.750\n"
     ]
    },
    {
     "name": "stderr",
     "output_type": "stream",
     "text": [
      "Epoch 1242: 2batch [00:00, 11.98batch/s, loss=1.99e+3]"
     ]
    },
    {
     "name": "stdout",
     "output_type": "stream",
     "text": [
      "epoch 1241: avg test  loss 2421.51, bar  test loss 5.409, len  test loss 3.746, col  test loss 166.548\n"
     ]
    },
    {
     "name": "stderr",
     "output_type": "stream",
     "text": [
      "Epoch 1242: 272batch [00:22, 11.87batch/s, loss=2.48e+4]\n"
     ]
    },
    {
     "name": "stdout",
     "output_type": "stream",
     "text": [
      "epoch 1242: avg train loss 4143.94, bar train loss 5.045, len train loss 4.585, col train loss 168.463\n"
     ]
    },
    {
     "name": "stderr",
     "output_type": "stream",
     "text": [
      "Epoch 1243: 0batch [00:00, ?batch/s, loss=1.54e+4]"
     ]
    },
    {
     "name": "stdout",
     "output_type": "stream",
     "text": [
      "epoch 1242: avg test  loss 20246.08, bar  test loss 6.750, len  test loss 3.650, col  test loss 173.056\n"
     ]
    },
    {
     "name": "stderr",
     "output_type": "stream",
     "text": [
      "Epoch 1243: 272batch [00:22, 11.87batch/s, loss=1.42e+5]\n"
     ]
    },
    {
     "name": "stdout",
     "output_type": "stream",
     "text": [
      "epoch 1243: avg train loss 354747.47, bar train loss 9.862, len train loss 1260.310, col train loss 175.913\n"
     ]
    },
    {
     "name": "stderr",
     "output_type": "stream",
     "text": [
      "Epoch 1244: 2batch [00:00, 12.35batch/s, loss=1.7e+5]"
     ]
    },
    {
     "name": "stdout",
     "output_type": "stream",
     "text": [
      "epoch 1243: avg test  loss 143378.53, bar  test loss 11.305, len  test loss 3.627, col  test loss 177.044\n"
     ]
    },
    {
     "name": "stderr",
     "output_type": "stream",
     "text": [
      "Epoch 1244: 272batch [00:22, 11.85batch/s, loss=7.9e+4] \n"
     ]
    },
    {
     "name": "stdout",
     "output_type": "stream",
     "text": [
      "epoch 1244: avg train loss 106565.54, bar train loss 12.209, len train loss 129.561, col train loss 177.687\n"
     ]
    },
    {
     "name": "stderr",
     "output_type": "stream",
     "text": [
      "Epoch 1245: 2batch [00:00, 12.74batch/s, loss=5.05e+4]"
     ]
    },
    {
     "name": "stdout",
     "output_type": "stream",
     "text": [
      "epoch 1244: avg test  loss 62235.92, bar  test loss 13.092, len  test loss 3.620, col  test loss 178.366\n"
     ]
    },
    {
     "name": "stderr",
     "output_type": "stream",
     "text": [
      "Epoch 1245: 272batch [00:23, 11.80batch/s, loss=2.16e+4]\n"
     ]
    },
    {
     "name": "stdout",
     "output_type": "stream",
     "text": [
      "epoch 1245: avg train loss 33694.46, bar train loss 12.598, len train loss 3.627, col train loss 177.977\n",
      "epoch 1245: avg test  loss 24671.88, bar  test loss 13.476, len  test loss 3.610, col  test loss 178.742\n"
     ]
    },
    {
     "name": "stderr",
     "output_type": "stream",
     "text": [
      "Epoch 1246: 272batch [00:23, 11.82batch/s, loss=1.66e+4]\n"
     ]
    },
    {
     "name": "stdout",
     "output_type": "stream",
     "text": [
      "epoch 1246: avg train loss 17833.92, bar train loss 12.826, len train loss 3.616, col train loss 178.262\n"
     ]
    },
    {
     "name": "stderr",
     "output_type": "stream",
     "text": [
      "Epoch 1247: 2batch [00:00, 11.90batch/s, loss=1.18e+4]"
     ]
    },
    {
     "name": "stdout",
     "output_type": "stream",
     "text": [
      "epoch 1246: avg test  loss 14498.00, bar  test loss 12.991, len  test loss 3.599, col  test loss 178.392\n"
     ]
    },
    {
     "name": "stderr",
     "output_type": "stream",
     "text": [
      "Epoch 1247: 272batch [00:23, 11.70batch/s, loss=5.46e+4]\n"
     ]
    },
    {
     "name": "stdout",
     "output_type": "stream",
     "text": [
      "epoch 1247: avg train loss 25204.73, bar train loss 13.203, len train loss 3.606, col train loss 179.042\n"
     ]
    },
    {
     "name": "stderr",
     "output_type": "stream",
     "text": [
      "Epoch 1248: 2batch [00:00, 12.42batch/s, loss=1.03e+5]"
     ]
    },
    {
     "name": "stdout",
     "output_type": "stream",
     "text": [
      "epoch 1247: avg test  loss 92325.18, bar  test loss 14.000, len  test loss 3.586, col  test loss 179.961\n"
     ]
    },
    {
     "name": "stderr",
     "output_type": "stream",
     "text": [
      "Epoch 1248: 272batch [00:23, 11.78batch/s, loss=4.3e+4] \n"
     ]
    },
    {
     "name": "stdout",
     "output_type": "stream",
     "text": [
      "epoch 1248: avg train loss 241779.61, bar train loss 14.906, len train loss 3.593, col train loss 180.228\n"
     ]
    },
    {
     "name": "stderr",
     "output_type": "stream",
     "text": [
      "Epoch 1249: 0batch [00:00, ?batch/s, loss=9.75e+4]"
     ]
    },
    {
     "name": "stdout",
     "output_type": "stream",
     "text": [
      "epoch 1248: avg test  loss 63524.98, bar  test loss 15.010, len  test loss 3.571, col  test loss 180.328\n"
     ]
    },
    {
     "name": "stderr",
     "output_type": "stream",
     "text": [
      "Epoch 1249: 272batch [00:23, 11.72batch/s, loss=8e+3]   \n"
     ]
    },
    {
     "name": "stdout",
     "output_type": "stream",
     "text": [
      "epoch 1249: avg train loss 18934.81, bar train loss 15.017, len train loss 3.578, col train loss 180.452\n"
     ]
    },
    {
     "name": "stderr",
     "output_type": "stream",
     "text": [
      "Epoch 1250: 2batch [00:00, 12.27batch/s, loss=8.29e+3]"
     ]
    },
    {
     "name": "stdout",
     "output_type": "stream",
     "text": [
      "epoch 1249: avg test  loss 8056.01, bar  test loss 15.055, len  test loss 3.555, col  test loss 180.358\n"
     ]
    },
    {
     "name": "stderr",
     "output_type": "stream",
     "text": [
      "Epoch 1250: 272batch [00:23, 11.71batch/s, loss=7.41e+3]\n"
     ]
    },
    {
     "name": "stdout",
     "output_type": "stream",
     "text": [
      "epoch 1250: avg train loss 6677.85, bar train loss 14.971, len train loss 3.559, col train loss 180.330\n",
      "epoch 1250: avg test  loss 5975.02, bar  test loss 15.055, len  test loss 3.537, col  test loss 180.315\n"
     ]
    },
    {
     "name": "stderr",
     "output_type": "stream",
     "text": [
      "Epoch 1251: 272batch [00:23, 11.67batch/s, loss=5.41e+3]\n"
     ]
    },
    {
     "name": "stdout",
     "output_type": "stream",
     "text": [
      "epoch 1251: avg train loss 5244.03, bar train loss 14.969, len train loss 3.541, col train loss 180.293\n"
     ]
    },
    {
     "name": "stderr",
     "output_type": "stream",
     "text": [
      "Epoch 1252: 0batch [00:00, ?batch/s, loss=4.29e+3]"
     ]
    },
    {
     "name": "stdout",
     "output_type": "stream",
     "text": [
      "epoch 1251: avg test  loss 4461.95, bar  test loss 15.055, len  test loss 3.516, col  test loss 180.251\n"
     ]
    },
    {
     "name": "stderr",
     "output_type": "stream",
     "text": [
      "Epoch 1252: 272batch [00:23, 11.72batch/s, loss=5.47e+3]\n"
     ]
    },
    {
     "name": "stdout",
     "output_type": "stream",
     "text": [
      "epoch 1252: avg train loss 4023.20, bar train loss 14.971, len train loss 3.520, col train loss 180.324\n"
     ]
    },
    {
     "name": "stderr",
     "output_type": "stream",
     "text": [
      "Epoch 1253: 2batch [00:00, 12.58batch/s, loss=3.58e+3]"
     ]
    },
    {
     "name": "stdout",
     "output_type": "stream",
     "text": [
      "epoch 1252: avg test  loss 3663.06, bar  test loss 15.055, len  test loss 3.493, col  test loss 180.296\n"
     ]
    },
    {
     "name": "stderr",
     "output_type": "stream",
     "text": [
      "Epoch 1253: 272batch [00:23, 11.72batch/s, loss=4.28e+3]\n"
     ]
    },
    {
     "name": "stdout",
     "output_type": "stream",
     "text": [
      "epoch 1253: avg train loss 3490.09, bar train loss 14.974, len train loss 3.493, col train loss 180.342\n"
     ]
    },
    {
     "name": "stderr",
     "output_type": "stream",
     "text": [
      "Epoch 1254: 2batch [00:00, 12.82batch/s, loss=4.31e+3]"
     ]
    },
    {
     "name": "stdout",
     "output_type": "stream",
     "text": [
      "epoch 1253: avg test  loss 3355.54, bar  test loss 15.055, len  test loss 3.468, col  test loss 180.320\n"
     ]
    },
    {
     "name": "stderr",
     "output_type": "stream",
     "text": [
      "Epoch 1254: 272batch [00:23, 11.77batch/s, loss=3.61e+3]\n"
     ]
    },
    {
     "name": "stdout",
     "output_type": "stream",
     "text": [
      "epoch 1254: avg train loss 3187.36, bar train loss 14.966, len train loss 3.465, col train loss 180.409\n"
     ]
    },
    {
     "name": "stderr",
     "output_type": "stream",
     "text": [
      "Epoch 1255: 2batch [00:00, 12.12batch/s, loss=3.01e+3]"
     ]
    },
    {
     "name": "stdout",
     "output_type": "stream",
     "text": [
      "epoch 1254: avg test  loss 3032.17, bar  test loss 15.055, len  test loss 3.440, col  test loss 180.319\n"
     ]
    },
    {
     "name": "stderr",
     "output_type": "stream",
     "text": [
      "Epoch 1255: 272batch [00:23, 11.65batch/s, loss=3.72e+3]\n"
     ]
    },
    {
     "name": "stdout",
     "output_type": "stream",
     "text": [
      "epoch 1255: avg train loss 2904.82, bar train loss 14.968, len train loss 3.437, col train loss 180.384\n",
      "epoch 1255: avg test  loss 2791.12, bar  test loss 15.055, len  test loss 3.410, col  test loss 180.308\n"
     ]
    },
    {
     "name": "stderr",
     "output_type": "stream",
     "text": [
      "Epoch 1256: 272batch [00:23, 11.62batch/s, loss=3.86e+3]\n"
     ]
    },
    {
     "name": "stdout",
     "output_type": "stream",
     "text": [
      "epoch 1256: avg train loss 2692.48, bar train loss 14.967, len train loss 3.408, col train loss 180.345\n"
     ]
    },
    {
     "name": "stderr",
     "output_type": "stream",
     "text": [
      "Epoch 1257: 0batch [00:00, ?batch/s, loss=2.69e+3]"
     ]
    },
    {
     "name": "stdout",
     "output_type": "stream",
     "text": [
      "epoch 1256: avg test  loss 2606.35, bar  test loss 15.055, len  test loss 3.377, col  test loss 180.228\n"
     ]
    },
    {
     "name": "stderr",
     "output_type": "stream",
     "text": [
      "Epoch 1257: 272batch [00:23, 11.67batch/s, loss=3.34e+3]\n"
     ]
    },
    {
     "name": "stdout",
     "output_type": "stream",
     "text": [
      "epoch 1257: avg train loss 2460.38, bar train loss 14.963, len train loss 3.372, col train loss 180.253\n"
     ]
    },
    {
     "name": "stderr",
     "output_type": "stream",
     "text": [
      "Epoch 1258: 2batch [00:00, 12.35batch/s, loss=2.17e+3]"
     ]
    },
    {
     "name": "stdout",
     "output_type": "stream",
     "text": [
      "epoch 1257: avg test  loss 2332.20, bar  test loss 15.047, len  test loss 3.342, col  test loss 180.229\n"
     ]
    },
    {
     "name": "stderr",
     "output_type": "stream",
     "text": [
      "Epoch 1258: 272batch [00:23, 11.62batch/s, loss=3.76e+3]\n"
     ]
    },
    {
     "name": "stdout",
     "output_type": "stream",
     "text": [
      "epoch 1258: avg train loss 2312.14, bar train loss 14.963, len train loss 3.338, col train loss 180.239\n"
     ]
    },
    {
     "name": "stderr",
     "output_type": "stream",
     "text": [
      "Epoch 1259: 0batch [00:00, ?batch/s, loss=2.3e+3]"
     ]
    },
    {
     "name": "stdout",
     "output_type": "stream",
     "text": [
      "epoch 1258: avg test  loss 2305.32, bar  test loss 15.045, len  test loss 3.305, col  test loss 180.186\n"
     ]
    },
    {
     "name": "stderr",
     "output_type": "stream",
     "text": [
      "Epoch 1259: 272batch [00:23, 11.61batch/s, loss=3.7e+3] \n"
     ]
    },
    {
     "name": "stdout",
     "output_type": "stream",
     "text": [
      "epoch 1259: avg train loss 2299.18, bar train loss 14.968, len train loss 3.300, col train loss 180.254\n"
     ]
    },
    {
     "name": "stderr",
     "output_type": "stream",
     "text": [
      "Epoch 1260: 2batch [00:00, 11.76batch/s, loss=2.39e+3]"
     ]
    },
    {
     "name": "stdout",
     "output_type": "stream",
     "text": [
      "epoch 1259: avg test  loss 2298.11, bar  test loss 15.052, len  test loss 3.266, col  test loss 180.177\n"
     ]
    },
    {
     "name": "stderr",
     "output_type": "stream",
     "text": [
      "Epoch 1260: 272batch [00:23, 11.58batch/s, loss=3.49e+3]\n"
     ]
    },
    {
     "name": "stdout",
     "output_type": "stream",
     "text": [
      "epoch 1260: avg train loss 2292.88, bar train loss 14.961, len train loss 3.260, col train loss 180.226\n",
      "epoch 1260: avg test  loss 2292.69, bar  test loss 15.051, len  test loss 3.226, col  test loss 180.179\n"
     ]
    },
    {
     "name": "stderr",
     "output_type": "stream",
     "text": [
      "Epoch 1261: 272batch [00:23, 11.60batch/s, loss=3.83e+3]\n"
     ]
    },
    {
     "name": "stdout",
     "output_type": "stream",
     "text": [
      "epoch 1261: avg train loss 2287.33, bar train loss 14.968, len train loss 3.220, col train loss 180.198\n"
     ]
    },
    {
     "name": "stderr",
     "output_type": "stream",
     "text": [
      "Epoch 1262: 2batch [00:00, 12.58batch/s, loss=2.28e+3]"
     ]
    },
    {
     "name": "stdout",
     "output_type": "stream",
     "text": [
      "epoch 1261: avg test  loss 2286.64, bar  test loss 15.050, len  test loss 3.184, col  test loss 180.102\n"
     ]
    },
    {
     "name": "stderr",
     "output_type": "stream",
     "text": [
      "Epoch 1262: 272batch [00:23, 11.55batch/s, loss=3.5e+3] \n"
     ]
    },
    {
     "name": "stdout",
     "output_type": "stream",
     "text": [
      "epoch 1262: avg train loss 2281.42, bar train loss 14.958, len train loss 3.177, col train loss 180.154\n"
     ]
    },
    {
     "name": "stderr",
     "output_type": "stream",
     "text": [
      "Epoch 1263: 0batch [00:00, ?batch/s, loss=2.31e+3]"
     ]
    },
    {
     "name": "stdout",
     "output_type": "stream",
     "text": [
      "epoch 1262: avg test  loss 2280.73, bar  test loss 15.049, len  test loss 3.141, col  test loss 180.037\n"
     ]
    },
    {
     "name": "stderr",
     "output_type": "stream",
     "text": [
      "Epoch 1263: 272batch [00:23, 11.57batch/s, loss=4.59e+3]\n"
     ]
    },
    {
     "name": "stdout",
     "output_type": "stream",
     "text": [
      "epoch 1263: avg train loss 2275.60, bar train loss 14.959, len train loss 3.140, col train loss 180.033\n"
     ]
    },
    {
     "name": "stderr",
     "output_type": "stream",
     "text": [
      "Epoch 1264: 0batch [00:00, ?batch/s, loss=2.22e+3]"
     ]
    },
    {
     "name": "stdout",
     "output_type": "stream",
     "text": [
      "epoch 1263: avg test  loss 2274.95, bar  test loss 15.045, len  test loss 3.098, col  test loss 179.954\n"
     ]
    },
    {
     "name": "stderr",
     "output_type": "stream",
     "text": [
      "Epoch 1264: 272batch [00:23, 11.55batch/s, loss=3.91e+3]\n"
     ]
    },
    {
     "name": "stdout",
     "output_type": "stream",
     "text": [
      "epoch 1264: avg train loss 2270.13, bar train loss 14.960, len train loss 3.092, col train loss 180.005\n"
     ]
    },
    {
     "name": "stderr",
     "output_type": "stream",
     "text": [
      "Epoch 1265: 0batch [00:00, ?batch/s, loss=2.28e+3]"
     ]
    },
    {
     "name": "stdout",
     "output_type": "stream",
     "text": [
      "epoch 1264: avg test  loss 2270.15, bar  test loss 15.047, len  test loss 3.053, col  test loss 179.957\n"
     ]
    },
    {
     "name": "stderr",
     "output_type": "stream",
     "text": [
      "Epoch 1265: 272batch [00:23, 11.54batch/s, loss=3.75e+3]\n"
     ]
    },
    {
     "name": "stdout",
     "output_type": "stream",
     "text": [
      "epoch 1265: avg train loss 2265.14, bar train loss 14.964, len train loss 3.047, col train loss 180.012\n",
      "epoch 1265: avg test  loss 2265.00, bar  test loss 15.047, len  test loss 3.009, col  test loss 179.947\n"
     ]
    },
    {
     "name": "stderr",
     "output_type": "stream",
     "text": [
      "Epoch 1266: 272batch [00:23, 11.57batch/s, loss=3.4e+3] \n"
     ]
    },
    {
     "name": "stdout",
     "output_type": "stream",
     "text": [
      "epoch 1266: avg train loss 2263.96, bar train loss 14.972, len train loss 3.000, col train loss 180.234\n"
     ]
    },
    {
     "name": "stderr",
     "output_type": "stream",
     "text": [
      "Epoch 1267: 2batch [00:00, 12.19batch/s, loss=2.31e+3]"
     ]
    },
    {
     "name": "stdout",
     "output_type": "stream",
     "text": [
      "epoch 1266: avg test  loss 2265.86, bar  test loss 15.054, len  test loss 2.965, col  test loss 180.267\n"
     ]
    },
    {
     "name": "stderr",
     "output_type": "stream",
     "text": [
      "Epoch 1267: 272batch [00:23, 11.51batch/s, loss=4.06e+3]\n"
     ]
    },
    {
     "name": "stdout",
     "output_type": "stream",
     "text": [
      "epoch 1267: avg train loss 2260.84, bar train loss 14.975, len train loss 2.959, col train loss 180.315\n"
     ]
    },
    {
     "name": "stderr",
     "output_type": "stream",
     "text": [
      "Epoch 1268: 2batch [00:00, 12.12batch/s, loss=2.21e+3]"
     ]
    },
    {
     "name": "stdout",
     "output_type": "stream",
     "text": [
      "epoch 1267: avg test  loss 2260.66, bar  test loss 15.054, len  test loss 2.920, col  test loss 180.278\n"
     ]
    },
    {
     "name": "stderr",
     "output_type": "stream",
     "text": [
      "Epoch 1268: 272batch [00:23, 11.40batch/s, loss=3.67e+3]\n"
     ]
    },
    {
     "name": "stdout",
     "output_type": "stream",
     "text": [
      "epoch 1268: avg train loss 2255.54, bar train loss 14.970, len train loss 2.914, col train loss 180.357\n"
     ]
    },
    {
     "name": "stderr",
     "output_type": "stream",
     "text": [
      "Epoch 1269: 0batch [00:00, ?batch/s, loss=2.25e+3]"
     ]
    },
    {
     "name": "stdout",
     "output_type": "stream",
     "text": [
      "epoch 1268: avg test  loss 2255.99, bar  test loss 15.054, len  test loss 2.876, col  test loss 180.363\n"
     ]
    },
    {
     "name": "stderr",
     "output_type": "stream",
     "text": [
      "Epoch 1269: 272batch [00:23, 11.41batch/s, loss=3.95e+3]\n"
     ]
    },
    {
     "name": "stdout",
     "output_type": "stream",
     "text": [
      "epoch 1269: avg train loss 2251.18, bar train loss 14.974, len train loss 2.871, col train loss 180.415\n"
     ]
    },
    {
     "name": "stderr",
     "output_type": "stream",
     "text": [
      "Epoch 1270: 0batch [00:00, ?batch/s, loss=2.21e+3]"
     ]
    },
    {
     "name": "stdout",
     "output_type": "stream",
     "text": [
      "epoch 1269: avg test  loss 2250.89, bar  test loss 15.054, len  test loss 2.832, col  test loss 180.359\n"
     ]
    },
    {
     "name": "stderr",
     "output_type": "stream",
     "text": [
      "Epoch 1270: 272batch [00:23, 11.49batch/s, loss=3.78e+3]\n"
     ]
    },
    {
     "name": "stdout",
     "output_type": "stream",
     "text": [
      "epoch 1270: avg train loss 2245.70, bar train loss 14.968, len train loss 2.826, col train loss 180.408\n",
      "epoch 1270: avg test  loss 2245.30, bar  test loss 15.054, len  test loss 2.788, col  test loss 180.364\n"
     ]
    },
    {
     "name": "stderr",
     "output_type": "stream",
     "text": [
      "Epoch 1271: 272batch [00:23, 11.47batch/s, loss=3.1e+3] \n"
     ]
    },
    {
     "name": "stdout",
     "output_type": "stream",
     "text": [
      "epoch 1271: avg train loss 2241.04, bar train loss 14.965, len train loss 2.779, col train loss 180.443\n"
     ]
    },
    {
     "name": "stderr",
     "output_type": "stream",
     "text": [
      "Epoch 1272: 2batch [00:00, 11.70batch/s, loss=2.22e+3]"
     ]
    },
    {
     "name": "stdout",
     "output_type": "stream",
     "text": [
      "epoch 1271: avg test  loss 2241.27, bar  test loss 15.055, len  test loss 2.744, col  test loss 180.404\n"
     ]
    },
    {
     "name": "stderr",
     "output_type": "stream",
     "text": [
      "Epoch 1272: 272batch [00:23, 11.39batch/s, loss=2.7e+3] \n"
     ]
    },
    {
     "name": "stdout",
     "output_type": "stream",
     "text": [
      "epoch 1272: avg train loss 2236.07, bar train loss 14.968, len train loss 2.734, col train loss 180.445\n"
     ]
    },
    {
     "name": "stderr",
     "output_type": "stream",
     "text": [
      "Epoch 1273: 0batch [00:00, ?batch/s, loss=2.2e+3]"
     ]
    },
    {
     "name": "stdout",
     "output_type": "stream",
     "text": [
      "epoch 1272: avg test  loss 2236.41, bar  test loss 15.055, len  test loss 2.701, col  test loss 180.404\n"
     ]
    },
    {
     "name": "stderr",
     "output_type": "stream",
     "text": [
      "Epoch 1273: 272batch [00:23, 11.43batch/s, loss=3.68e+3]\n"
     ]
    },
    {
     "name": "stdout",
     "output_type": "stream",
     "text": [
      "epoch 1273: avg train loss 2231.68, bar train loss 14.972, len train loss 2.696, col train loss 180.450\n"
     ]
    },
    {
     "name": "stderr",
     "output_type": "stream",
     "text": [
      "Epoch 1274: 1batch [00:00,  6.76batch/s, loss=2.19e+3]"
     ]
    },
    {
     "name": "stdout",
     "output_type": "stream",
     "text": [
      "epoch 1273: avg test  loss 2231.30, bar  test loss 15.054, len  test loss 2.659, col  test loss 180.402\n"
     ]
    },
    {
     "name": "stderr",
     "output_type": "stream",
     "text": [
      "Epoch 1274: 272batch [00:24, 11.29batch/s, loss=3.44e+3]\n"
     ]
    },
    {
     "name": "stdout",
     "output_type": "stream",
     "text": [
      "epoch 1274: avg train loss 2226.46, bar train loss 14.971, len train loss 2.653, col train loss 180.441\n"
     ]
    },
    {
     "name": "stderr",
     "output_type": "stream",
     "text": [
      "Epoch 1275: 0batch [00:00, ?batch/s, loss=2.19e+3]"
     ]
    },
    {
     "name": "stdout",
     "output_type": "stream",
     "text": [
      "epoch 1274: avg test  loss 2226.82, bar  test loss 15.054, len  test loss 2.616, col  test loss 180.399\n"
     ]
    },
    {
     "name": "stderr",
     "output_type": "stream",
     "text": [
      "Epoch 1275: 272batch [00:23, 11.44batch/s, loss=2710.0] \n"
     ]
    },
    {
     "name": "stdout",
     "output_type": "stream",
     "text": [
      "epoch 1275: avg train loss 2221.15, bar train loss 14.963, len train loss 2.608, col train loss 180.428\n",
      "epoch 1275: avg test  loss 2221.10, bar  test loss 15.054, len  test loss 2.575, col  test loss 180.389\n"
     ]
    },
    {
     "name": "stderr",
     "output_type": "stream",
     "text": [
      "Epoch 1276: 272batch [00:23, 11.46batch/s, loss=3.03e+3]\n"
     ]
    },
    {
     "name": "stdout",
     "output_type": "stream",
     "text": [
      "epoch 1276: avg train loss 2216.46, bar train loss 14.965, len train loss 2.568, col train loss 180.428\n"
     ]
    },
    {
     "name": "stderr",
     "output_type": "stream",
     "text": [
      "Epoch 1277: 0batch [00:00, ?batch/s, loss=2.26e+3]"
     ]
    },
    {
     "name": "stdout",
     "output_type": "stream",
     "text": [
      "epoch 1276: avg test  loss 2216.53, bar  test loss 15.053, len  test loss 2.534, col  test loss 180.388\n"
     ]
    },
    {
     "name": "stderr",
     "output_type": "stream",
     "text": [
      "Epoch 1277: 272batch [00:23, 11.47batch/s, loss=3.78e+3]\n"
     ]
    },
    {
     "name": "stdout",
     "output_type": "stream",
     "text": [
      "epoch 1277: avg train loss 2212.27, bar train loss 14.969, len train loss 2.531, col train loss 180.425\n"
     ]
    },
    {
     "name": "stderr",
     "output_type": "stream",
     "text": [
      "Epoch 1278: 2batch [00:00, 11.83batch/s, loss=2.16e+3]"
     ]
    },
    {
     "name": "stdout",
     "output_type": "stream",
     "text": [
      "epoch 1277: avg test  loss 2212.01, bar  test loss 15.054, len  test loss 2.493, col  test loss 180.388\n"
     ]
    },
    {
     "name": "stderr",
     "output_type": "stream",
     "text": [
      "Epoch 1278: 272batch [00:23, 11.42batch/s, loss=3.01e+3]\n"
     ]
    },
    {
     "name": "stdout",
     "output_type": "stream",
     "text": [
      "epoch 1278: avg train loss 2207.23, bar train loss 14.971, len train loss 2.486, col train loss 180.421\n"
     ]
    },
    {
     "name": "stderr",
     "output_type": "stream",
     "text": [
      "Epoch 1279: 2batch [00:00, 11.90batch/s, loss=2.08e+3]"
     ]
    },
    {
     "name": "stdout",
     "output_type": "stream",
     "text": [
      "epoch 1278: avg test  loss 2207.25, bar  test loss 15.052, len  test loss 2.453, col  test loss 180.371\n"
     ]
    },
    {
     "name": "stderr",
     "output_type": "stream",
     "text": [
      "Epoch 1279: 272batch [00:23, 11.44batch/s, loss=3.51e+3]\n"
     ]
    },
    {
     "name": "stdout",
     "output_type": "stream",
     "text": [
      "epoch 1279: avg train loss 2202.68, bar train loss 14.968, len train loss 2.449, col train loss 180.408\n"
     ]
    },
    {
     "name": "stderr",
     "output_type": "stream",
     "text": [
      "Epoch 1280: 0batch [00:00, ?batch/s, loss=2.22e+3]"
     ]
    },
    {
     "name": "stdout",
     "output_type": "stream",
     "text": [
      "epoch 1279: avg test  loss 2202.78, bar  test loss 15.052, len  test loss 2.413, col  test loss 180.358\n"
     ]
    },
    {
     "name": "stderr",
     "output_type": "stream",
     "text": [
      "Epoch 1280: 272batch [00:23, 11.38batch/s, loss=3.5e+3] \n"
     ]
    },
    {
     "name": "stdout",
     "output_type": "stream",
     "text": [
      "epoch 1280: avg train loss 2197.53, bar train loss 14.960, len train loss 2.411, col train loss 180.357\n",
      "epoch 1280: avg test  loss 2196.64, bar  test loss 15.048, len  test loss 2.374, col  test loss 180.272\n"
     ]
    },
    {
     "name": "stderr",
     "output_type": "stream",
     "text": [
      "Epoch 1281: 272batch [00:23, 11.43batch/s, loss=3.75e+3]\n"
     ]
    },
    {
     "name": "stdout",
     "output_type": "stream",
     "text": [
      "epoch 1281: avg train loss 2192.87, bar train loss 14.966, len train loss 2.372, col train loss 180.292\n"
     ]
    },
    {
     "name": "stderr",
     "output_type": "stream",
     "text": [
      "Epoch 1282: 0batch [00:00, ?batch/s, loss=2.27e+3]"
     ]
    },
    {
     "name": "stdout",
     "output_type": "stream",
     "text": [
      "epoch 1281: avg test  loss 2191.96, bar  test loss 15.046, len  test loss 2.335, col  test loss 180.192\n"
     ]
    },
    {
     "name": "stderr",
     "output_type": "stream",
     "text": [
      "Epoch 1282: 272batch [00:23, 11.36batch/s, loss=3.41e+3]\n"
     ]
    },
    {
     "name": "stdout",
     "output_type": "stream",
     "text": [
      "epoch 1282: avg train loss 2188.09, bar train loss 14.960, len train loss 2.333, col train loss 180.228\n"
     ]
    },
    {
     "name": "stderr",
     "output_type": "stream",
     "text": [
      "Epoch 1283: 0batch [00:00, ?batch/s, loss=2.1e+3]"
     ]
    },
    {
     "name": "stdout",
     "output_type": "stream",
     "text": [
      "epoch 1282: avg test  loss 2187.75, bar  test loss 15.048, len  test loss 2.297, col  test loss 180.200\n"
     ]
    },
    {
     "name": "stderr",
     "output_type": "stream",
     "text": [
      "Epoch 1283: 272batch [00:24, 11.30batch/s, loss=3.41e+3]\n"
     ]
    },
    {
     "name": "stdout",
     "output_type": "stream",
     "text": [
      "epoch 1283: avg train loss 2184.83, bar train loss 14.962, len train loss 2.295, col train loss 180.265\n"
     ]
    },
    {
     "name": "stderr",
     "output_type": "stream",
     "text": [
      "Epoch 1284: 0batch [00:00, ?batch/s, loss=2.2e+3] "
     ]
    },
    {
     "name": "stdout",
     "output_type": "stream",
     "text": [
      "epoch 1283: avg test  loss 2184.41, bar  test loss 15.049, len  test loss 2.260, col  test loss 180.228\n"
     ]
    },
    {
     "name": "stderr",
     "output_type": "stream",
     "text": [
      "Epoch 1284: 272batch [00:23, 11.37batch/s, loss=2.83e+3]\n"
     ]
    },
    {
     "name": "stdout",
     "output_type": "stream",
     "text": [
      "epoch 1284: avg train loss 2180.96, bar train loss 14.961, len train loss 2.255, col train loss 180.281\n"
     ]
    },
    {
     "name": "stderr",
     "output_type": "stream",
     "text": [
      "Epoch 1285: 0batch [00:00, ?batch/s, loss=2.26e+3]"
     ]
    },
    {
     "name": "stdout",
     "output_type": "stream",
     "text": [
      "epoch 1284: avg test  loss 2180.88, bar  test loss 15.050, len  test loss 2.223, col  test loss 180.236\n"
     ]
    },
    {
     "name": "stderr",
     "output_type": "stream",
     "text": [
      "Epoch 1285: 272batch [00:24, 11.31batch/s, loss=3.24e+3]\n"
     ]
    },
    {
     "name": "stdout",
     "output_type": "stream",
     "text": [
      "epoch 1285: avg train loss 2186.21, bar train loss 15.404, len train loss 2.220, col train loss 180.393\n",
      "epoch 1285: avg test  loss 2183.60, bar  test loss 15.056, len  test loss 2.186, col  test loss 180.413\n"
     ]
    },
    {
     "name": "stderr",
     "output_type": "stream",
     "text": [
      "Epoch 1286: 272batch [00:23, 11.40batch/s, loss=2.87e+3]\n"
     ]
    },
    {
     "name": "stdout",
     "output_type": "stream",
     "text": [
      "epoch 1286: avg train loss 2180.13, bar train loss 14.964, len train loss 2.183, col train loss 180.459\n"
     ]
    },
    {
     "name": "stderr",
     "output_type": "stream",
     "text": [
      "Epoch 1287: 2batch [00:00, 11.98batch/s, loss=2.15e+3]"
     ]
    },
    {
     "name": "stdout",
     "output_type": "stream",
     "text": [
      "epoch 1286: avg test  loss 2180.35, bar  test loss 15.056, len  test loss 2.151, col  test loss 180.418\n"
     ]
    },
    {
     "name": "stderr",
     "output_type": "stream",
     "text": [
      "Epoch 1287: 272batch [00:23, 11.34batch/s, loss=2.85e+3]\n"
     ]
    },
    {
     "name": "stdout",
     "output_type": "stream",
     "text": [
      "epoch 1287: avg train loss 2176.34, bar train loss 14.968, len train loss 2.147, col train loss 180.451\n"
     ]
    },
    {
     "name": "stderr",
     "output_type": "stream",
     "text": [
      "Epoch 1288: 0batch [00:00, ?batch/s, loss=2.09e+3]"
     ]
    },
    {
     "name": "stdout",
     "output_type": "stream",
     "text": [
      "epoch 1287: avg test  loss 2176.46, bar  test loss 15.056, len  test loss 2.115, col  test loss 180.412\n"
     ]
    },
    {
     "name": "stderr",
     "output_type": "stream",
     "text": [
      "Epoch 1288: 272batch [00:23, 11.34batch/s, loss=3.35e+3]\n"
     ]
    },
    {
     "name": "stdout",
     "output_type": "stream",
     "text": [
      "epoch 1288: avg train loss 2172.92, bar train loss 14.970, len train loss 2.114, col train loss 180.452\n"
     ]
    },
    {
     "name": "stderr",
     "output_type": "stream",
     "text": [
      "Epoch 1289: 0batch [00:00, ?batch/s, loss=2.28e+3]"
     ]
    },
    {
     "name": "stdout",
     "output_type": "stream",
     "text": [
      "epoch 1288: avg test  loss 2172.99, bar  test loss 15.055, len  test loss 2.081, col  test loss 180.410\n"
     ]
    },
    {
     "name": "stderr",
     "output_type": "stream",
     "text": [
      "Epoch 1289: 272batch [00:24, 11.31batch/s, loss=3.01e+3]\n"
     ]
    },
    {
     "name": "stdout",
     "output_type": "stream",
     "text": [
      "epoch 1289: avg train loss 2169.03, bar train loss 14.996, len train loss 2.078, col train loss 180.436\n"
     ]
    },
    {
     "name": "stderr",
     "output_type": "stream",
     "text": [
      "Epoch 1290: 2batch [00:00, 11.90batch/s, loss=2.21e+3]"
     ]
    },
    {
     "name": "stdout",
     "output_type": "stream",
     "text": [
      "epoch 1289: avg test  loss 2167.39, bar  test loss 15.055, len  test loss 2.046, col  test loss 180.333\n"
     ]
    },
    {
     "name": "stderr",
     "output_type": "stream",
     "text": [
      "Epoch 1290: 272batch [00:24, 11.33batch/s, loss=3.5e+3] \n"
     ]
    },
    {
     "name": "stdout",
     "output_type": "stream",
     "text": [
      "epoch 1290: avg train loss 2163.29, bar train loss 14.971, len train loss 2.047, col train loss 180.306\n",
      "epoch 1290: avg test  loss 2163.18, bar  test loss 15.055, len  test loss 2.013, col  test loss 180.234\n"
     ]
    },
    {
     "name": "stderr",
     "output_type": "stream",
     "text": [
      "Epoch 1291: 272batch [00:24, 11.32batch/s, loss=3.12e+3]\n"
     ]
    },
    {
     "name": "stdout",
     "output_type": "stream",
     "text": [
      "epoch 1291: avg train loss 2159.41, bar train loss 14.966, len train loss 2.012, col train loss 180.283\n"
     ]
    },
    {
     "name": "stderr",
     "output_type": "stream",
     "text": [
      "Epoch 1292: 2batch [00:00, 11.84batch/s, loss=2.16e+3]"
     ]
    },
    {
     "name": "stdout",
     "output_type": "stream",
     "text": [
      "epoch 1291: avg test  loss 2159.59, bar  test loss 15.055, len  test loss 1.980, col  test loss 180.239\n"
     ]
    },
    {
     "name": "stderr",
     "output_type": "stream",
     "text": [
      "Epoch 1292: 272batch [00:24, 11.31batch/s, loss=3.03e+3]\n"
     ]
    },
    {
     "name": "stdout",
     "output_type": "stream",
     "text": [
      "epoch 1292: avg train loss 2156.02, bar train loss 14.969, len train loss 1.979, col train loss 180.284\n"
     ]
    },
    {
     "name": "stderr",
     "output_type": "stream",
     "text": [
      "Epoch 1293: 2batch [00:00, 12.27batch/s, loss=2.09e+3]"
     ]
    },
    {
     "name": "stdout",
     "output_type": "stream",
     "text": [
      "epoch 1292: avg test  loss 2156.26, bar  test loss 15.055, len  test loss 1.947, col  test loss 180.239\n"
     ]
    },
    {
     "name": "stderr",
     "output_type": "stream",
     "text": [
      "Epoch 1293: 272batch [00:24, 11.26batch/s, loss=3.05e+3]\n"
     ]
    },
    {
     "name": "stdout",
     "output_type": "stream",
     "text": [
      "epoch 1293: avg train loss 2151.93, bar train loss 14.969, len train loss 1.947, col train loss 180.207\n"
     ]
    },
    {
     "name": "stderr",
     "output_type": "stream",
     "text": [
      "Epoch 1294: 2batch [00:00, 11.56batch/s, loss=2.01e+3]"
     ]
    },
    {
     "name": "stdout",
     "output_type": "stream",
     "text": [
      "epoch 1293: avg test  loss 2151.91, bar  test loss 15.055, len  test loss 1.915, col  test loss 180.127\n"
     ]
    },
    {
     "name": "stderr",
     "output_type": "stream",
     "text": [
      "Epoch 1294: 272batch [00:24, 11.26batch/s, loss=3.34e+3]\n"
     ]
    },
    {
     "name": "stdout",
     "output_type": "stream",
     "text": [
      "epoch 1294: avg train loss 2148.55, bar train loss 14.974, len train loss 1.916, col train loss 180.178\n"
     ]
    },
    {
     "name": "stderr",
     "output_type": "stream",
     "text": [
      "Epoch 1295: 0batch [00:00, ?batch/s, loss=2.1e+3] "
     ]
    },
    {
     "name": "stdout",
     "output_type": "stream",
     "text": [
      "epoch 1294: avg test  loss 2148.85, bar  test loss 15.055, len  test loss 1.883, col  test loss 180.135\n"
     ]
    },
    {
     "name": "stderr",
     "output_type": "stream",
     "text": [
      "Epoch 1295: 272batch [00:24, 11.28batch/s, loss=3.62e+3]\n"
     ]
    },
    {
     "name": "stdout",
     "output_type": "stream",
     "text": [
      "epoch 1295: avg train loss 2145.48, bar train loss 14.969, len train loss 1.887, col train loss 180.181\n",
      "epoch 1295: avg test  loss 2145.67, bar  test loss 15.055, len  test loss 1.853, col  test loss 180.134\n"
     ]
    },
    {
     "name": "stderr",
     "output_type": "stream",
     "text": [
      "Epoch 1296: 272batch [00:24, 11.31batch/s, loss=3.24e+3]\n"
     ]
    },
    {
     "name": "stdout",
     "output_type": "stream",
     "text": [
      "epoch 1296: avg train loss 2142.10, bar train loss 14.972, len train loss 1.854, col train loss 180.176\n"
     ]
    },
    {
     "name": "stderr",
     "output_type": "stream",
     "text": [
      "Epoch 1297: 0batch [00:00, ?batch/s, loss=2.19e+3]"
     ]
    },
    {
     "name": "stdout",
     "output_type": "stream",
     "text": [
      "epoch 1296: avg test  loss 2142.37, bar  test loss 15.055, len  test loss 1.822, col  test loss 180.106\n"
     ]
    },
    {
     "name": "stderr",
     "output_type": "stream",
     "text": [
      "Epoch 1297: 272batch [00:24, 11.25batch/s, loss=3.08e+3]\n"
     ]
    },
    {
     "name": "stdout",
     "output_type": "stream",
     "text": [
      "epoch 1297: avg train loss 2138.48, bar train loss 14.966, len train loss 1.824, col train loss 180.145\n"
     ]
    },
    {
     "name": "stderr",
     "output_type": "stream",
     "text": [
      "Epoch 1298: 0batch [00:00, ?batch/s, loss=2.05e+3]"
     ]
    },
    {
     "name": "stdout",
     "output_type": "stream",
     "text": [
      "epoch 1297: avg test  loss 2139.15, bar  test loss 15.054, len  test loss 1.792, col  test loss 180.094\n"
     ]
    },
    {
     "name": "stderr",
     "output_type": "stream",
     "text": [
      "Epoch 1298: 272batch [00:24, 11.20batch/s, loss=2.98e+3]\n"
     ]
    },
    {
     "name": "stdout",
     "output_type": "stream",
     "text": [
      "epoch 1298: avg train loss 2134.95, bar train loss 14.969, len train loss 1.793, col train loss 180.103\n"
     ]
    },
    {
     "name": "stderr",
     "output_type": "stream",
     "text": [
      "Epoch 1299: 0batch [00:00, ?batch/s, loss=2.03e+3]"
     ]
    },
    {
     "name": "stdout",
     "output_type": "stream",
     "text": [
      "epoch 1298: avg test  loss 2134.79, bar  test loss 15.054, len  test loss 1.763, col  test loss 179.989\n"
     ]
    },
    {
     "name": "stderr",
     "output_type": "stream",
     "text": [
      "Epoch 1299: 272batch [00:24, 10.95batch/s, loss=3.28e+3]\n"
     ]
    },
    {
     "name": "stdout",
     "output_type": "stream",
     "text": [
      "epoch 1299: avg train loss 2131.25, bar train loss 14.967, len train loss 1.766, col train loss 180.027\n"
     ]
    },
    {
     "name": "stderr",
     "output_type": "stream",
     "text": [
      "Epoch 1300: 0batch [00:00, ?batch/s, loss=2.21e+3]"
     ]
    },
    {
     "name": "stdout",
     "output_type": "stream",
     "text": [
      "epoch 1299: avg test  loss 2129.30, bar  test loss 15.054, len  test loss 1.734, col  test loss 179.709\n"
     ]
    },
    {
     "name": "stderr",
     "output_type": "stream",
     "text": [
      "Epoch 1300: 272batch [00:24, 11.10batch/s, loss=3.16e+3]\n"
     ]
    },
    {
     "name": "stdout",
     "output_type": "stream",
     "text": [
      "epoch 1300: avg train loss 2125.62, bar train loss 14.965, len train loss 1.737, col train loss 179.769\n",
      "epoch 1300: avg test  loss 2126.19, bar  test loss 15.054, len  test loss 1.706, col  test loss 179.704\n"
     ]
    },
    {
     "name": "stderr",
     "output_type": "stream",
     "text": [
      "Epoch 1301: 272batch [00:24, 11.16batch/s, loss=2.78e+3]\n"
     ]
    },
    {
     "name": "stdout",
     "output_type": "stream",
     "text": [
      "epoch 1301: avg train loss 2122.50, bar train loss 14.968, len train loss 1.707, col train loss 179.772\n"
     ]
    },
    {
     "name": "stderr",
     "output_type": "stream",
     "text": [
      "Epoch 1302: 0batch [00:00, ?batch/s, loss=2.14e+3]"
     ]
    },
    {
     "name": "stdout",
     "output_type": "stream",
     "text": [
      "epoch 1301: avg test  loss 2123.56, bar  test loss 15.054, len  test loss 1.678, col  test loss 179.707\n"
     ]
    },
    {
     "name": "stderr",
     "output_type": "stream",
     "text": [
      "Epoch 1302: 272batch [00:24, 11.26batch/s, loss=2.64e+3]\n"
     ]
    },
    {
     "name": "stdout",
     "output_type": "stream",
     "text": [
      "epoch 1302: avg train loss 2119.54, bar train loss 14.962, len train loss 1.680, col train loss 179.770\n"
     ]
    },
    {
     "name": "stderr",
     "output_type": "stream",
     "text": [
      "Epoch 1303: 0batch [00:00, ?batch/s, loss=2.06e+3]"
     ]
    },
    {
     "name": "stdout",
     "output_type": "stream",
     "text": [
      "epoch 1302: avg test  loss 2119.98, bar  test loss 15.053, len  test loss 1.651, col  test loss 179.708\n"
     ]
    },
    {
     "name": "stderr",
     "output_type": "stream",
     "text": [
      "Epoch 1303: 272batch [00:24, 11.18batch/s, loss=2.59e+3]\n"
     ]
    },
    {
     "name": "stdout",
     "output_type": "stream",
     "text": [
      "epoch 1303: avg train loss 2116.57, bar train loss 14.963, len train loss 1.652, col train loss 179.770\n"
     ]
    },
    {
     "name": "stderr",
     "output_type": "stream",
     "text": [
      "Epoch 1304: 0batch [00:00, ?batch/s, loss=2.23e+3]"
     ]
    },
    {
     "name": "stdout",
     "output_type": "stream",
     "text": [
      "epoch 1303: avg test  loss 2116.97, bar  test loss 15.053, len  test loss 1.625, col  test loss 179.715\n"
     ]
    },
    {
     "name": "stderr",
     "output_type": "stream",
     "text": [
      "Epoch 1304: 272batch [00:24, 11.19batch/s, loss=3.4e+3] \n"
     ]
    },
    {
     "name": "stdout",
     "output_type": "stream",
     "text": [
      "epoch 1304: avg train loss 2114.06, bar train loss 14.970, len train loss 1.629, col train loss 179.770\n"
     ]
    },
    {
     "name": "stderr",
     "output_type": "stream",
     "text": [
      "Epoch 1305: 0batch [00:00, ?batch/s, loss=1.99e+3]"
     ]
    },
    {
     "name": "stdout",
     "output_type": "stream",
     "text": [
      "epoch 1304: avg test  loss 2114.53, bar  test loss 15.046, len  test loss 1.598, col  test loss 179.709\n"
     ]
    },
    {
     "name": "stderr",
     "output_type": "stream",
     "text": [
      "Epoch 1305: 272batch [00:24, 11.22batch/s, loss=3.73e+3]\n"
     ]
    },
    {
     "name": "stdout",
     "output_type": "stream",
     "text": [
      "epoch 1305: avg train loss 2111.45, bar train loss 14.964, len train loss 1.605, col train loss 179.777\n",
      "epoch 1305: avg test  loss 2112.19, bar  test loss 15.041, len  test loss 1.573, col  test loss 179.715\n"
     ]
    },
    {
     "name": "stderr",
     "output_type": "stream",
     "text": [
      "Epoch 1306: 272batch [00:24, 11.14batch/s, loss=2.94e+3]\n"
     ]
    },
    {
     "name": "stdout",
     "output_type": "stream",
     "text": [
      "epoch 1306: avg train loss 2107.96, bar train loss 14.952, len train loss 1.576, col train loss 179.782\n"
     ]
    },
    {
     "name": "stderr",
     "output_type": "stream",
     "text": [
      "Epoch 1307: 0batch [00:00, ?batch/s, loss=2.09e+3]"
     ]
    },
    {
     "name": "stdout",
     "output_type": "stream",
     "text": [
      "epoch 1306: avg test  loss 2107.84, bar  test loss 15.034, len  test loss 1.548, col  test loss 179.718\n"
     ]
    },
    {
     "name": "stderr",
     "output_type": "stream",
     "text": [
      "Epoch 1307: 272batch [00:24, 11.17batch/s, loss=2.9e+3] \n"
     ]
    },
    {
     "name": "stdout",
     "output_type": "stream",
     "text": [
      "epoch 1307: avg train loss 2104.93, bar train loss 14.941, len train loss 1.552, col train loss 179.762\n"
     ]
    },
    {
     "name": "stderr",
     "output_type": "stream",
     "text": [
      "Epoch 1308: 0batch [00:00, ?batch/s, loss=2.13e+3]"
     ]
    },
    {
     "name": "stdout",
     "output_type": "stream",
     "text": [
      "epoch 1307: avg test  loss 2104.55, bar  test loss 15.044, len  test loss 1.523, col  test loss 179.567\n"
     ]
    },
    {
     "name": "stderr",
     "output_type": "stream",
     "text": [
      "Epoch 1308: 272batch [00:24, 11.11batch/s, loss=2.98e+3]\n"
     ]
    },
    {
     "name": "stdout",
     "output_type": "stream",
     "text": [
      "epoch 1308: avg train loss 1955279.50, bar train loss 28.369, len train loss 1.527, col train loss 179.614\n"
     ]
    },
    {
     "name": "stderr",
     "output_type": "stream",
     "text": [
      "Epoch 1309: 0batch [00:00, ?batch/s, loss=2.19e+3]"
     ]
    },
    {
     "name": "stdout",
     "output_type": "stream",
     "text": [
      "epoch 1308: avg test  loss 2127.01, bar  test loss 15.056, len  test loss 1.500, col  test loss 179.533\n"
     ]
    },
    {
     "name": "stderr",
     "output_type": "stream",
     "text": [
      "Epoch 1309: 272batch [00:24, 11.14batch/s, loss=2.84e+3]\n"
     ]
    },
    {
     "name": "stdout",
     "output_type": "stream",
     "text": [
      "epoch 1309: avg train loss 2123.76, bar train loss 14.970, len train loss 1.503, col train loss 179.607\n"
     ]
    },
    {
     "name": "stderr",
     "output_type": "stream",
     "text": [
      "Epoch 1310: 0batch [00:00, ?batch/s, loss=2.08e+3]"
     ]
    },
    {
     "name": "stdout",
     "output_type": "stream",
     "text": [
      "epoch 1309: avg test  loss 2121.75, bar  test loss 15.056, len  test loss 1.476, col  test loss 179.535\n"
     ]
    },
    {
     "name": "stderr",
     "output_type": "stream",
     "text": [
      "Epoch 1310: 272batch [00:24, 11.06batch/s, loss=3.22e+3]\n"
     ]
    },
    {
     "name": "stdout",
     "output_type": "stream",
     "text": [
      "epoch 1310: avg train loss 2119.05, bar train loss 14.968, len train loss 1.482, col train loss 179.605\n",
      "epoch 1310: avg test  loss 2116.26, bar  test loss 15.056, len  test loss 1.453, col  test loss 179.535\n"
     ]
    },
    {
     "name": "stderr",
     "output_type": "stream",
     "text": [
      "Epoch 1311: 272batch [00:24, 11.16batch/s, loss=2.87e+3]\n"
     ]
    },
    {
     "name": "stdout",
     "output_type": "stream",
     "text": [
      "epoch 1311: avg train loss 2113.73, bar train loss 14.966, len train loss 1.458, col train loss 179.604\n"
     ]
    },
    {
     "name": "stderr",
     "output_type": "stream",
     "text": [
      "Epoch 1312: 0batch [00:00, ?batch/s, loss=2.15e+3]"
     ]
    },
    {
     "name": "stdout",
     "output_type": "stream",
     "text": [
      "epoch 1311: avg test  loss 2110.85, bar  test loss 15.056, len  test loss 1.431, col  test loss 179.535\n"
     ]
    },
    {
     "name": "stderr",
     "output_type": "stream",
     "text": [
      "Epoch 1312: 272batch [00:24, 11.09batch/s, loss=3.09e+3]\n"
     ]
    },
    {
     "name": "stdout",
     "output_type": "stream",
     "text": [
      "epoch 1312: avg train loss 2108.94, bar train loss 14.969, len train loss 1.437, col train loss 179.608\n"
     ]
    },
    {
     "name": "stderr",
     "output_type": "stream",
     "text": [
      "Epoch 1313: 0batch [00:00, ?batch/s, loss=2.01e+3]"
     ]
    },
    {
     "name": "stdout",
     "output_type": "stream",
     "text": [
      "epoch 1312: avg test  loss 2105.46, bar  test loss 15.056, len  test loss 1.409, col  test loss 179.536\n"
     ]
    },
    {
     "name": "stderr",
     "output_type": "stream",
     "text": [
      "Epoch 1313: 272batch [00:24, 11.09batch/s, loss=2.81e+3]\n"
     ]
    },
    {
     "name": "stdout",
     "output_type": "stream",
     "text": [
      "epoch 1313: avg train loss 2103.89, bar train loss 14.966, len train loss 1.414, col train loss 179.606\n"
     ]
    },
    {
     "name": "stderr",
     "output_type": "stream",
     "text": [
      "Epoch 1314: 0batch [00:00, ?batch/s, loss=2e+3]"
     ]
    },
    {
     "name": "stdout",
     "output_type": "stream",
     "text": [
      "epoch 1313: avg test  loss 2100.18, bar  test loss 15.056, len  test loss 1.388, col  test loss 179.536\n"
     ]
    },
    {
     "name": "stderr",
     "output_type": "stream",
     "text": [
      "Epoch 1314: 272batch [00:24, 11.08batch/s, loss=2.74e+3]\n"
     ]
    },
    {
     "name": "stdout",
     "output_type": "stream",
     "text": [
      "epoch 1314: avg train loss 2099.18, bar train loss 14.968, len train loss 1.393, col train loss 179.603\n"
     ]
    },
    {
     "name": "stderr",
     "output_type": "stream",
     "text": [
      "Epoch 1315: 0batch [00:00, ?batch/s, loss=2.1e+3]"
     ]
    },
    {
     "name": "stdout",
     "output_type": "stream",
     "text": [
      "epoch 1314: avg test  loss 2095.41, bar  test loss 15.056, len  test loss 1.367, col  test loss 179.536\n"
     ]
    },
    {
     "name": "stderr",
     "output_type": "stream",
     "text": [
      "Epoch 1315: 272batch [00:24, 11.07batch/s, loss=2.89e+3]\n"
     ]
    },
    {
     "name": "stdout",
     "output_type": "stream",
     "text": [
      "epoch 1315: avg train loss 2094.84, bar train loss 14.971, len train loss 1.373, col train loss 179.604\n",
      "epoch 1315: avg test  loss 2090.91, bar  test loss 15.056, len  test loss 1.347, col  test loss 179.539\n"
     ]
    },
    {
     "name": "stderr",
     "output_type": "stream",
     "text": [
      "Epoch 1316: 272batch [00:24, 11.10batch/s, loss=2.86e+3]\n"
     ]
    },
    {
     "name": "stdout",
     "output_type": "stream",
     "text": [
      "epoch 1316: avg train loss 2090.76, bar train loss 14.970, len train loss 1.353, col train loss 179.610\n"
     ]
    },
    {
     "name": "stderr",
     "output_type": "stream",
     "text": [
      "Epoch 1317: 0batch [00:00, ?batch/s, loss=2.12e+3]"
     ]
    },
    {
     "name": "stdout",
     "output_type": "stream",
     "text": [
      "epoch 1316: avg test  loss 2087.08, bar  test loss 15.056, len  test loss 1.327, col  test loss 179.540\n"
     ]
    },
    {
     "name": "stderr",
     "output_type": "stream",
     "text": [
      "Epoch 1317: 272batch [00:24, 11.03batch/s, loss=3.21e+3]\n"
     ]
    },
    {
     "name": "stdout",
     "output_type": "stream",
     "text": [
      "epoch 1317: avg train loss 2087.34, bar train loss 14.974, len train loss 1.335, col train loss 179.611\n"
     ]
    },
    {
     "name": "stderr",
     "output_type": "stream",
     "text": [
      "Epoch 1318: 0batch [00:00, ?batch/s, loss=2.09e+3]"
     ]
    },
    {
     "name": "stdout",
     "output_type": "stream",
     "text": [
      "epoch 1317: avg test  loss 2083.35, bar  test loss 15.056, len  test loss 1.308, col  test loss 179.546\n"
     ]
    },
    {
     "name": "stderr",
     "output_type": "stream",
     "text": [
      "Epoch 1318: 272batch [00:24, 11.04batch/s, loss=2.76e+3]\n"
     ]
    },
    {
     "name": "stdout",
     "output_type": "stream",
     "text": [
      "epoch 1318: avg train loss 2083.72, bar train loss 14.970, len train loss 1.314, col train loss 179.615\n"
     ]
    },
    {
     "name": "stderr",
     "output_type": "stream",
     "text": [
      "Epoch 1319: 0batch [00:00, ?batch/s, loss=2.17e+3]"
     ]
    },
    {
     "name": "stdout",
     "output_type": "stream",
     "text": [
      "epoch 1318: avg test  loss 2079.86, bar  test loss 15.056, len  test loss 1.290, col  test loss 179.544\n"
     ]
    },
    {
     "name": "stderr",
     "output_type": "stream",
     "text": [
      "Epoch 1319: 272batch [00:24, 11.02batch/s, loss=2.29e+3]\n"
     ]
    },
    {
     "name": "stdout",
     "output_type": "stream",
     "text": [
      "epoch 1319: avg train loss 2080.26, bar train loss 14.967, len train loss 1.294, col train loss 179.621\n"
     ]
    },
    {
     "name": "stderr",
     "output_type": "stream",
     "text": [
      "Epoch 1320: 1batch [00:00,  7.69batch/s, loss=2.12e+3]"
     ]
    },
    {
     "name": "stdout",
     "output_type": "stream",
     "text": [
      "epoch 1319: avg test  loss 2077.22, bar  test loss 15.056, len  test loss 1.271, col  test loss 179.580\n"
     ]
    },
    {
     "name": "stderr",
     "output_type": "stream",
     "text": [
      "Epoch 1320: 272batch [00:24, 11.02batch/s, loss=2.82e+3]\n"
     ]
    },
    {
     "name": "stdout",
     "output_type": "stream",
     "text": [
      "epoch 1320: avg train loss 2077.87, bar train loss 14.972, len train loss 1.278, col train loss 179.639\n",
      "epoch 1320: avg test  loss 2074.55, bar  test loss 15.056, len  test loss 1.254, col  test loss 179.576\n"
     ]
    },
    {
     "name": "stderr",
     "output_type": "stream",
     "text": [
      "Epoch 1321: 272batch [00:25, 10.66batch/s, loss=2.59e+3]\n"
     ]
    },
    {
     "name": "stdout",
     "output_type": "stream",
     "text": [
      "epoch 1321: avg train loss 2075.27, bar train loss 14.966, len train loss 1.260, col train loss 179.648\n"
     ]
    },
    {
     "name": "stderr",
     "output_type": "stream",
     "text": [
      "Epoch 1322: 0batch [00:00, ?batch/s, loss=2.09e+3]"
     ]
    },
    {
     "name": "stdout",
     "output_type": "stream",
     "text": [
      "epoch 1321: avg test  loss 2072.27, bar  test loss 15.056, len  test loss 1.237, col  test loss 179.569\n"
     ]
    },
    {
     "name": "stderr",
     "output_type": "stream",
     "text": [
      "Epoch 1322: 272batch [00:24, 10.99batch/s, loss=3.01e+3]\n"
     ]
    },
    {
     "name": "stdout",
     "output_type": "stream",
     "text": [
      "epoch 1322: avg train loss 2073.02, bar train loss 14.974, len train loss 1.245, col train loss 179.637\n"
     ]
    },
    {
     "name": "stderr",
     "output_type": "stream",
     "text": [
      "Epoch 1323: 0batch [00:00, ?batch/s, loss=2.11e+3]"
     ]
    },
    {
     "name": "stdout",
     "output_type": "stream",
     "text": [
      "epoch 1322: avg test  loss 2069.96, bar  test loss 15.056, len  test loss 1.220, col  test loss 179.561\n"
     ]
    },
    {
     "name": "stderr",
     "output_type": "stream",
     "text": [
      "Epoch 1323: 272batch [00:24, 10.97batch/s, loss=3.04e+3]\n"
     ]
    },
    {
     "name": "stdout",
     "output_type": "stream",
     "text": [
      "epoch 1323: avg train loss 2070.85, bar train loss 14.971, len train loss 1.229, col train loss 179.639\n"
     ]
    },
    {
     "name": "stderr",
     "output_type": "stream",
     "text": [
      "Epoch 1324: 0batch [00:00, ?batch/s, loss=2.16e+3]"
     ]
    },
    {
     "name": "stdout",
     "output_type": "stream",
     "text": [
      "epoch 1323: avg test  loss 2068.04, bar  test loss 15.056, len  test loss 1.204, col  test loss 179.568\n"
     ]
    },
    {
     "name": "stderr",
     "output_type": "stream",
     "text": [
      "Epoch 1324: 272batch [00:24, 10.91batch/s, loss=2.76e+3]\n"
     ]
    },
    {
     "name": "stdout",
     "output_type": "stream",
     "text": [
      "epoch 1324: avg train loss 2070.18, bar train loss 14.967, len train loss 1.212, col train loss 179.646\n"
     ]
    },
    {
     "name": "stderr",
     "output_type": "stream",
     "text": [
      "Epoch 1325: 0batch [00:00, ?batch/s, loss=2.11e+3]"
     ]
    },
    {
     "name": "stdout",
     "output_type": "stream",
     "text": [
      "epoch 1324: avg test  loss 2067.87, bar  test loss 15.056, len  test loss 1.189, col  test loss 179.586\n"
     ]
    },
    {
     "name": "stderr",
     "output_type": "stream",
     "text": [
      "Epoch 1325: 272batch [00:25, 10.88batch/s, loss=2.56e+3]\n"
     ]
    },
    {
     "name": "stdout",
     "output_type": "stream",
     "text": [
      "epoch 1325: avg train loss 2068.13, bar train loss 14.970, len train loss 1.195, col train loss 179.649\n",
      "epoch 1325: avg test  loss 2065.78, bar  test loss 15.056, len  test loss 1.174, col  test loss 179.585\n"
     ]
    },
    {
     "name": "stderr",
     "output_type": "stream",
     "text": [
      "Epoch 1326: 272batch [00:24, 10.96batch/s, loss=2.47e+3]\n"
     ]
    },
    {
     "name": "stdout",
     "output_type": "stream",
     "text": [
      "epoch 1326: avg train loss 2066.05, bar train loss 14.965, len train loss 1.181, col train loss 179.646\n"
     ]
    },
    {
     "name": "stderr",
     "output_type": "stream",
     "text": [
      "Epoch 1327: 0batch [00:00, ?batch/s, loss=2.04e+3]"
     ]
    },
    {
     "name": "stdout",
     "output_type": "stream",
     "text": [
      "epoch 1326: avg test  loss 2063.70, bar  test loss 15.056, len  test loss 1.159, col  test loss 179.572\n"
     ]
    },
    {
     "name": "stderr",
     "output_type": "stream",
     "text": [
      "Epoch 1327: 272batch [00:24, 10.92batch/s, loss=3.15e+3]\n"
     ]
    },
    {
     "name": "stdout",
     "output_type": "stream",
     "text": [
      "epoch 1327: avg train loss 2064.39, bar train loss 14.977, len train loss 1.168, col train loss 179.639\n"
     ]
    },
    {
     "name": "stderr",
     "output_type": "stream",
     "text": [
      "Epoch 1328: 0batch [00:00, ?batch/s, loss=2.06e+3]"
     ]
    },
    {
     "name": "stdout",
     "output_type": "stream",
     "text": [
      "epoch 1327: avg test  loss 2062.06, bar  test loss 15.056, len  test loss 1.145, col  test loss 179.583\n"
     ]
    },
    {
     "name": "stderr",
     "output_type": "stream",
     "text": [
      "Epoch 1328: 272batch [00:24, 10.96batch/s, loss=2.8e+3] \n"
     ]
    },
    {
     "name": "stdout",
     "output_type": "stream",
     "text": [
      "epoch 1328: avg train loss 2062.42, bar train loss 14.966, len train loss 1.154, col train loss 179.635\n"
     ]
    },
    {
     "name": "stderr",
     "output_type": "stream",
     "text": [
      "Epoch 1329: 0batch [00:00, ?batch/s, loss=2.03e+3]"
     ]
    },
    {
     "name": "stdout",
     "output_type": "stream",
     "text": [
      "epoch 1328: avg test  loss 2060.31, bar  test loss 15.056, len  test loss 1.132, col  test loss 179.576\n"
     ]
    },
    {
     "name": "stderr",
     "output_type": "stream",
     "text": [
      "Epoch 1329: 272batch [00:24, 10.97batch/s, loss=2.72e+3]\n"
     ]
    },
    {
     "name": "stdout",
     "output_type": "stream",
     "text": [
      "epoch 1329: avg train loss 2060.68, bar train loss 14.972, len train loss 1.140, col train loss 179.620\n"
     ]
    },
    {
     "name": "stderr",
     "output_type": "stream",
     "text": [
      "Epoch 1330: 0batch [00:00, ?batch/s, loss=2.11e+3]"
     ]
    },
    {
     "name": "stdout",
     "output_type": "stream",
     "text": [
      "epoch 1329: avg test  loss 2058.72, bar  test loss 15.056, len  test loss 1.119, col  test loss 179.570\n"
     ]
    },
    {
     "name": "stderr",
     "output_type": "stream",
     "text": [
      "Epoch 1330: 272batch [00:24, 10.94batch/s, loss=2.32e+3]\n"
     ]
    },
    {
     "name": "stdout",
     "output_type": "stream",
     "text": [
      "epoch 1330: avg train loss 2058.91, bar train loss 14.963, len train loss 1.126, col train loss 179.614\n",
      "epoch 1330: avg test  loss 2057.15, bar  test loss 15.056, len  test loss 1.106, col  test loss 179.562\n"
     ]
    },
    {
     "name": "stderr",
     "output_type": "stream",
     "text": [
      "Epoch 1331: 272batch [00:24, 10.90batch/s, loss=2.63e+3]\n"
     ]
    },
    {
     "name": "stdout",
     "output_type": "stream",
     "text": [
      "epoch 1331: avg train loss 2057.65, bar train loss 14.971, len train loss 1.115, col train loss 179.613\n"
     ]
    },
    {
     "name": "stderr",
     "output_type": "stream",
     "text": [
      "Epoch 1332: 0batch [00:00, ?batch/s, loss=2e+3]"
     ]
    },
    {
     "name": "stdout",
     "output_type": "stream",
     "text": [
      "epoch 1331: avg test  loss 2056.76, bar  test loss 15.056, len  test loss 1.094, col  test loss 179.639\n"
     ]
    },
    {
     "name": "stderr",
     "output_type": "stream",
     "text": [
      "Epoch 1332: 272batch [00:25, 10.87batch/s, loss=2.94e+3]\n"
     ]
    },
    {
     "name": "stdout",
     "output_type": "stream",
     "text": [
      "epoch 1332: avg train loss 2059.13, bar train loss 14.971, len train loss 1.104, col train loss 179.763\n"
     ]
    },
    {
     "name": "stderr",
     "output_type": "stream",
     "text": [
      "Epoch 1333: 0batch [00:00, ?batch/s, loss=2.19e+3]"
     ]
    },
    {
     "name": "stdout",
     "output_type": "stream",
     "text": [
      "epoch 1332: avg test  loss 2058.19, bar  test loss 15.056, len  test loss 1.083, col  test loss 179.766\n"
     ]
    },
    {
     "name": "stderr",
     "output_type": "stream",
     "text": [
      "Epoch 1333: 272batch [00:24, 10.90batch/s, loss=3.01e+3]\n"
     ]
    },
    {
     "name": "stdout",
     "output_type": "stream",
     "text": [
      "epoch 1333: avg train loss 2060.37, bar train loss 14.972, len train loss 1.094, col train loss 180.008\n"
     ]
    },
    {
     "name": "stderr",
     "output_type": "stream",
     "text": [
      "Epoch 1334: 0batch [00:00, ?batch/s, loss=2.17e+3]"
     ]
    },
    {
     "name": "stdout",
     "output_type": "stream",
     "text": [
      "epoch 1333: avg test  loss 2059.29, bar  test loss 15.056, len  test loss 1.071, col  test loss 180.068\n"
     ]
    },
    {
     "name": "stderr",
     "output_type": "stream",
     "text": [
      "Epoch 1334: 272batch [00:25, 10.85batch/s, loss=2.72e+3]\n"
     ]
    },
    {
     "name": "stdout",
     "output_type": "stream",
     "text": [
      "epoch 1334: avg train loss 2060.23, bar train loss 14.969, len train loss 1.081, col train loss 180.151\n"
     ]
    },
    {
     "name": "stderr",
     "output_type": "stream",
     "text": [
      "Epoch 1335: 0batch [00:00, ?batch/s, loss=1.93e+3]"
     ]
    },
    {
     "name": "stdout",
     "output_type": "stream",
     "text": [
      "epoch 1334: avg test  loss 2058.80, bar  test loss 15.056, len  test loss 1.061, col  test loss 180.134\n"
     ]
    },
    {
     "name": "stderr",
     "output_type": "stream",
     "text": [
      "Epoch 1335: 272batch [00:24, 10.92batch/s, loss=2.87e+3]\n"
     ]
    },
    {
     "name": "stdout",
     "output_type": "stream",
     "text": [
      "epoch 1335: avg train loss 2059.01, bar train loss 14.974, len train loss 1.071, col train loss 180.153\n",
      "epoch 1335: avg test  loss 2056.16, bar  test loss 15.056, len  test loss 1.051, col  test loss 179.980\n"
     ]
    },
    {
     "name": "stderr",
     "output_type": "stream",
     "text": [
      "Epoch 1336: 272batch [00:24, 10.90batch/s, loss=3.36e+3]\n"
     ]
    },
    {
     "name": "stdout",
     "output_type": "stream",
     "text": [
      "epoch 1336: avg train loss 2056.80, bar train loss 14.974, len train loss 1.063, col train loss 179.984\n"
     ]
    },
    {
     "name": "stderr",
     "output_type": "stream",
     "text": [
      "Epoch 1337: 0batch [00:00, ?batch/s, loss=2.11e+3]"
     ]
    },
    {
     "name": "stdout",
     "output_type": "stream",
     "text": [
      "epoch 1336: avg test  loss 2054.69, bar  test loss 15.056, len  test loss 1.041, col  test loss 179.917\n"
     ]
    },
    {
     "name": "stderr",
     "output_type": "stream",
     "text": [
      "Epoch 1337: 272batch [00:25, 10.87batch/s, loss=2.58e+3]\n"
     ]
    },
    {
     "name": "stdout",
     "output_type": "stream",
     "text": [
      "epoch 1337: avg train loss 2055.07, bar train loss 14.968, len train loss 1.051, col train loss 179.959\n"
     ]
    },
    {
     "name": "stderr",
     "output_type": "stream",
     "text": [
      "Epoch 1338: 0batch [00:00, ?batch/s, loss=2.03e+3]"
     ]
    },
    {
     "name": "stdout",
     "output_type": "stream",
     "text": [
      "epoch 1337: avg test  loss 2053.67, bar  test loss 15.056, len  test loss 1.032, col  test loss 179.924\n"
     ]
    },
    {
     "name": "stderr",
     "output_type": "stream",
     "text": [
      "Epoch 1338: 272batch [00:25, 10.82batch/s, loss=3.02e+3]\n"
     ]
    },
    {
     "name": "stdout",
     "output_type": "stream",
     "text": [
      "epoch 1338: avg train loss 2054.37, bar train loss 14.975, len train loss 1.044, col train loss 179.966\n"
     ]
    },
    {
     "name": "stderr",
     "output_type": "stream",
     "text": [
      "Epoch 1339: 0batch [00:00, ?batch/s, loss=2.13e+3]"
     ]
    },
    {
     "name": "stdout",
     "output_type": "stream",
     "text": [
      "epoch 1338: avg test  loss 2052.53, bar  test loss 15.056, len  test loss 1.024, col  test loss 179.910\n"
     ]
    },
    {
     "name": "stderr",
     "output_type": "stream",
     "text": [
      "Epoch 1339: 272batch [00:25, 10.84batch/s, loss=2.96e+3]\n"
     ]
    },
    {
     "name": "stdout",
     "output_type": "stream",
     "text": [
      "epoch 1339: avg train loss 2053.45, bar train loss 14.972, len train loss 1.035, col train loss 179.980\n"
     ]
    },
    {
     "name": "stderr",
     "output_type": "stream",
     "text": [
      "Epoch 1340: 0batch [00:00, ?batch/s, loss=2.06e+3]"
     ]
    },
    {
     "name": "stdout",
     "output_type": "stream",
     "text": [
      "epoch 1339: avg test  loss 2051.70, bar  test loss 15.056, len  test loss 1.015, col  test loss 179.919\n"
     ]
    },
    {
     "name": "stderr",
     "output_type": "stream",
     "text": [
      "Epoch 1340: 272batch [00:25, 10.79batch/s, loss=2.96e+3]\n"
     ]
    },
    {
     "name": "stdout",
     "output_type": "stream",
     "text": [
      "epoch 1340: avg train loss 2052.40, bar train loss 14.973, len train loss 1.027, col train loss 179.960\n",
      "epoch 1340: avg test  loss 2051.01, bar  test loss 15.056, len  test loss 1.008, col  test loss 179.935\n"
     ]
    },
    {
     "name": "stderr",
     "output_type": "stream",
     "text": [
      "Epoch 1341: 272batch [00:25, 10.83batch/s, loss=2.91e+3]\n"
     ]
    },
    {
     "name": "stdout",
     "output_type": "stream",
     "text": [
      "epoch 1341: avg train loss 2051.73, bar train loss 14.973, len train loss 1.019, col train loss 179.917\n"
     ]
    },
    {
     "name": "stderr",
     "output_type": "stream",
     "text": [
      "Epoch 1342: 0batch [00:00, ?batch/s, loss=1.99e+3]"
     ]
    },
    {
     "name": "stdout",
     "output_type": "stream",
     "text": [
      "epoch 1341: avg test  loss 2050.31, bar  test loss 15.056, len  test loss 1.000, col  test loss 179.775\n"
     ]
    },
    {
     "name": "stderr",
     "output_type": "stream",
     "text": [
      "Epoch 1342: 272batch [00:25, 10.79batch/s, loss=2.75e+3]\n"
     ]
    },
    {
     "name": "stdout",
     "output_type": "stream",
     "text": [
      "epoch 1342: avg train loss 2050.66, bar train loss 14.969, len train loss 1.012, col train loss 179.787\n"
     ]
    },
    {
     "name": "stderr",
     "output_type": "stream",
     "text": [
      "Epoch 1343: 0batch [00:00, ?batch/s, loss=2.02e+3]"
     ]
    },
    {
     "name": "stdout",
     "output_type": "stream",
     "text": [
      "epoch 1342: avg test  loss 2048.65, bar  test loss 15.056, len  test loss 0.994, col  test loss 179.685\n"
     ]
    },
    {
     "name": "stderr",
     "output_type": "stream",
     "text": [
      "Epoch 1343: 272batch [00:25, 10.83batch/s, loss=2.78e+3]\n"
     ]
    },
    {
     "name": "stdout",
     "output_type": "stream",
     "text": [
      "epoch 1343: avg train loss 2049.88, bar train loss 14.967, len train loss 1.005, col train loss 179.784\n"
     ]
    },
    {
     "name": "stderr",
     "output_type": "stream",
     "text": [
      "Epoch 1344: 0batch [00:00, ?batch/s, loss=2.03e+3]"
     ]
    },
    {
     "name": "stdout",
     "output_type": "stream",
     "text": [
      "epoch 1343: avg test  loss 2048.51, bar  test loss 15.056, len  test loss 0.987, col  test loss 179.740\n"
     ]
    },
    {
     "name": "stderr",
     "output_type": "stream",
     "text": [
      "Epoch 1344: 272batch [00:25, 10.75batch/s, loss=2.99e+3]\n"
     ]
    },
    {
     "name": "stdout",
     "output_type": "stream",
     "text": [
      "epoch 1344: avg train loss 2050.07, bar train loss 14.971, len train loss 0.999, col train loss 179.844\n"
     ]
    },
    {
     "name": "stderr",
     "output_type": "stream",
     "text": [
      "Epoch 1345: 0batch [00:00, ?batch/s, loss=2.06e+3]"
     ]
    },
    {
     "name": "stdout",
     "output_type": "stream",
     "text": [
      "epoch 1344: avg test  loss 2051.00, bar  test loss 15.056, len  test loss 0.981, col  test loss 179.986\n"
     ]
    },
    {
     "name": "stderr",
     "output_type": "stream",
     "text": [
      "Epoch 1345: 272batch [00:25, 10.76batch/s, loss=2.81e+3]\n"
     ]
    },
    {
     "name": "stdout",
     "output_type": "stream",
     "text": [
      "epoch 1345: avg train loss 2051.72, bar train loss 14.967, len train loss 0.994, col train loss 180.025\n",
      "epoch 1345: avg test  loss 2050.10, bar  test loss 15.056, len  test loss 0.976, col  test loss 179.958\n"
     ]
    },
    {
     "name": "stderr",
     "output_type": "stream",
     "text": [
      "Epoch 1346: 272batch [00:25, 10.77batch/s, loss=2.96e+3]\n"
     ]
    },
    {
     "name": "stdout",
     "output_type": "stream",
     "text": [
      "epoch 1346: avg train loss 2051.19, bar train loss 14.967, len train loss 0.990, col train loss 180.018\n"
     ]
    },
    {
     "name": "stderr",
     "output_type": "stream",
     "text": [
      "Epoch 1347: 0batch [00:00, ?batch/s, loss=2.01e+3]"
     ]
    },
    {
     "name": "stdout",
     "output_type": "stream",
     "text": [
      "epoch 1346: avg test  loss 2049.88, bar  test loss 15.056, len  test loss 0.971, col  test loss 179.986\n"
     ]
    },
    {
     "name": "stderr",
     "output_type": "stream",
     "text": [
      "Epoch 1347: 272batch [00:25, 10.79batch/s, loss=3.2e+3] \n"
     ]
    },
    {
     "name": "stdout",
     "output_type": "stream",
     "text": [
      "epoch 1347: avg train loss 2050.73, bar train loss 14.969, len train loss 0.985, col train loss 180.017\n"
     ]
    },
    {
     "name": "stderr",
     "output_type": "stream",
     "text": [
      "Epoch 1348: 0batch [00:00, ?batch/s, loss=1.92e+3]"
     ]
    },
    {
     "name": "stdout",
     "output_type": "stream",
     "text": [
      "epoch 1347: avg test  loss 2049.30, bar  test loss 15.056, len  test loss 0.966, col  test loss 179.979\n"
     ]
    },
    {
     "name": "stderr",
     "output_type": "stream",
     "text": [
      "Epoch 1348: 272batch [00:25, 10.75batch/s, loss=2.87e+3]\n"
     ]
    },
    {
     "name": "stdout",
     "output_type": "stream",
     "text": [
      "epoch 1348: avg train loss 2049.95, bar train loss 14.973, len train loss 0.979, col train loss 180.001\n"
     ]
    },
    {
     "name": "stderr",
     "output_type": "stream",
     "text": [
      "Epoch 1349: 0batch [00:00, ?batch/s, loss=2.05e+3]"
     ]
    },
    {
     "name": "stdout",
     "output_type": "stream",
     "text": [
      "epoch 1348: avg test  loss 2048.69, bar  test loss 15.056, len  test loss 0.962, col  test loss 179.963\n"
     ]
    },
    {
     "name": "stderr",
     "output_type": "stream",
     "text": [
      "Epoch 1349: 272batch [00:25, 10.74batch/s, loss=3.01e+3]\n"
     ]
    },
    {
     "name": "stdout",
     "output_type": "stream",
     "text": [
      "epoch 1349: avg train loss 2049.76, bar train loss 14.976, len train loss 0.975, col train loss 180.023\n"
     ]
    },
    {
     "name": "stderr",
     "output_type": "stream",
     "text": [
      "Epoch 1350: 2batch [00:00, 11.83batch/s, loss=2.15e+3]"
     ]
    },
    {
     "name": "stdout",
     "output_type": "stream",
     "text": [
      "epoch 1349: avg test  loss 2048.12, bar  test loss 15.056, len  test loss 0.958, col  test loss 179.953\n"
     ]
    },
    {
     "name": "stderr",
     "output_type": "stream",
     "text": [
      "Epoch 1350: 272batch [00:25, 10.75batch/s, loss=2.49e+3]\n"
     ]
    },
    {
     "name": "stdout",
     "output_type": "stream",
     "text": [
      "epoch 1350: avg train loss 2048.96, bar train loss 14.964, len train loss 0.970, col train loss 180.006\n",
      "epoch 1350: avg test  loss 2048.09, bar  test loss 15.056, len  test loss 0.954, col  test loss 179.988\n"
     ]
    },
    {
     "name": "stderr",
     "output_type": "stream",
     "text": [
      "Epoch 1351: 272batch [00:25, 10.77batch/s, loss=2.58e+3]\n"
     ]
    },
    {
     "name": "stdout",
     "output_type": "stream",
     "text": [
      "epoch 1351: avg train loss 2048.67, bar train loss 14.965, len train loss 0.967, col train loss 180.014\n"
     ]
    },
    {
     "name": "stderr",
     "output_type": "stream",
     "text": [
      "Epoch 1352: 0batch [00:00, ?batch/s, loss=1.98e+3]"
     ]
    },
    {
     "name": "stdout",
     "output_type": "stream",
     "text": [
      "epoch 1351: avg test  loss 2047.40, bar  test loss 15.056, len  test loss 0.951, col  test loss 179.955\n"
     ]
    },
    {
     "name": "stderr",
     "output_type": "stream",
     "text": [
      "Epoch 1352: 272batch [00:25, 10.73batch/s, loss=3.11e+3]\n"
     ]
    },
    {
     "name": "stdout",
     "output_type": "stream",
     "text": [
      "epoch 1352: avg train loss 2048.52, bar train loss 14.973, len train loss 0.965, col train loss 180.013\n"
     ]
    },
    {
     "name": "stderr",
     "output_type": "stream",
     "text": [
      "Epoch 1353: 0batch [00:00, ?batch/s, loss=1.96e+3]"
     ]
    },
    {
     "name": "stdout",
     "output_type": "stream",
     "text": [
      "epoch 1352: avg test  loss 2047.24, bar  test loss 15.056, len  test loss 0.948, col  test loss 179.972\n"
     ]
    },
    {
     "name": "stderr",
     "output_type": "stream",
     "text": [
      "Epoch 1353: 272batch [00:25, 10.70batch/s, loss=3.09e+3]\n"
     ]
    },
    {
     "name": "stdout",
     "output_type": "stream",
     "text": [
      "epoch 1353: avg train loss 2048.21, bar train loss 14.977, len train loss 0.962, col train loss 180.019\n"
     ]
    },
    {
     "name": "stderr",
     "output_type": "stream",
     "text": [
      "Epoch 1354: 0batch [00:00, ?batch/s, loss=2.05e+3]"
     ]
    },
    {
     "name": "stdout",
     "output_type": "stream",
     "text": [
      "epoch 1353: avg test  loss 2046.69, bar  test loss 15.056, len  test loss 0.946, col  test loss 179.954\n"
     ]
    },
    {
     "name": "stderr",
     "output_type": "stream",
     "text": [
      "Epoch 1354: 272batch [00:25, 10.74batch/s, loss=2.66e+3]\n"
     ]
    },
    {
     "name": "stdout",
     "output_type": "stream",
     "text": [
      "epoch 1354: avg train loss 2047.48, bar train loss 14.970, len train loss 0.959, col train loss 179.991\n"
     ]
    },
    {
     "name": "stderr",
     "output_type": "stream",
     "text": [
      "\r",
      "Epoch 1355: 0batch [00:00, ?batch/s]"
     ]
    },
    {
     "name": "stdout",
     "output_type": "stream",
     "text": [
      "epoch 1354: avg test  loss 2046.57, bar  test loss 15.056, len  test loss 0.944, col  test loss 179.968\n"
     ]
    },
    {
     "name": "stderr",
     "output_type": "stream",
     "text": [
      "Epoch 1355: 272batch [00:25, 10.71batch/s, loss=2.97e+3]\n"
     ]
    },
    {
     "name": "stdout",
     "output_type": "stream",
     "text": [
      "epoch 1355: avg train loss 2047.24, bar train loss 14.971, len train loss 0.958, col train loss 179.982\n",
      "epoch 1355: avg test  loss 2046.05, bar  test loss 15.056, len  test loss 0.942, col  test loss 179.946\n"
     ]
    },
    {
     "name": "stderr",
     "output_type": "stream",
     "text": [
      "Epoch 1356: 272batch [00:25, 10.59batch/s, loss=2.89e+3]\n"
     ]
    },
    {
     "name": "stdout",
     "output_type": "stream",
     "text": [
      "epoch 1356: avg train loss 2046.98, bar train loss 14.974, len train loss 0.955, col train loss 179.988\n"
     ]
    },
    {
     "name": "stderr",
     "output_type": "stream",
     "text": [
      "Epoch 1357: 0batch [00:00, ?batch/s, loss=2e+3]"
     ]
    },
    {
     "name": "stdout",
     "output_type": "stream",
     "text": [
      "epoch 1356: avg test  loss 2045.54, bar  test loss 15.056, len  test loss 0.940, col  test loss 179.918\n"
     ]
    },
    {
     "name": "stderr",
     "output_type": "stream",
     "text": [
      "Epoch 1357: 272batch [00:25, 10.61batch/s, loss=2.65e+3]\n"
     ]
    },
    {
     "name": "stdout",
     "output_type": "stream",
     "text": [
      "epoch 1357: avg train loss 2046.71, bar train loss 14.967, len train loss 0.954, col train loss 179.992\n"
     ]
    },
    {
     "name": "stderr",
     "output_type": "stream",
     "text": [
      "Epoch 1358: 0batch [00:00, ?batch/s, loss=1.99e+3]"
     ]
    },
    {
     "name": "stdout",
     "output_type": "stream",
     "text": [
      "epoch 1357: avg test  loss 2045.50, bar  test loss 15.056, len  test loss 0.939, col  test loss 179.939\n"
     ]
    },
    {
     "name": "stderr",
     "output_type": "stream",
     "text": [
      "Epoch 1358: 272batch [00:25, 10.58batch/s, loss=3.39e+3]\n"
     ]
    },
    {
     "name": "stdout",
     "output_type": "stream",
     "text": [
      "epoch 1358: avg train loss 2046.67, bar train loss 14.970, len train loss 0.955, col train loss 179.978\n"
     ]
    },
    {
     "name": "stderr",
     "output_type": "stream",
     "text": [
      "Epoch 1359: 0batch [00:00, ?batch/s, loss=2.09e+3]"
     ]
    },
    {
     "name": "stdout",
     "output_type": "stream",
     "text": [
      "epoch 1358: avg test  loss 2045.25, bar  test loss 15.056, len  test loss 0.938, col  test loss 179.931\n"
     ]
    },
    {
     "name": "stderr",
     "output_type": "stream",
     "text": [
      "Epoch 1359: 272batch [00:28,  9.39batch/s, loss=3.25e+3]\n"
     ]
    },
    {
     "name": "stdout",
     "output_type": "stream",
     "text": [
      "epoch 1359: avg train loss 2046.41, bar train loss 14.974, len train loss 0.953, col train loss 179.983\n"
     ]
    },
    {
     "name": "stderr",
     "output_type": "stream",
     "text": [
      "Epoch 1360: 0batch [00:00, ?batch/s, loss=2.03e+3]"
     ]
    },
    {
     "name": "stdout",
     "output_type": "stream",
     "text": [
      "epoch 1359: avg test  loss 2045.02, bar  test loss 15.056, len  test loss 0.937, col  test loss 179.929\n"
     ]
    },
    {
     "name": "stderr",
     "output_type": "stream",
     "text": [
      "Epoch 1360: 272batch [00:26, 10.36batch/s, loss=2.45e+3]\n"
     ]
    },
    {
     "name": "stdout",
     "output_type": "stream",
     "text": [
      "epoch 1360: avg train loss 2046.00, bar train loss 14.963, len train loss 0.950, col train loss 179.991\n",
      "epoch 1360: avg test  loss 2045.07, bar  test loss 15.056, len  test loss 0.936, col  test loss 179.950\n"
     ]
    },
    {
     "name": "stderr",
     "output_type": "stream",
     "text": [
      "Epoch 1361: 272batch [00:25, 10.57batch/s, loss=3.04e+3]\n"
     ]
    },
    {
     "name": "stdout",
     "output_type": "stream",
     "text": [
      "epoch 1361: avg train loss 2045.92, bar train loss 14.973, len train loss 0.951, col train loss 179.974\n"
     ]
    },
    {
     "name": "stderr",
     "output_type": "stream",
     "text": [
      "Epoch 1362: 0batch [00:00, ?batch/s, loss=2.06e+3]"
     ]
    },
    {
     "name": "stdout",
     "output_type": "stream",
     "text": [
      "epoch 1361: avg test  loss 2044.62, bar  test loss 15.056, len  test loss 0.935, col  test loss 179.921\n"
     ]
    },
    {
     "name": "stderr",
     "output_type": "stream",
     "text": [
      "Epoch 1362: 272batch [00:25, 10.65batch/s, loss=2.89e+3]\n"
     ]
    },
    {
     "name": "stdout",
     "output_type": "stream",
     "text": [
      "epoch 1362: avg train loss 2045.63, bar train loss 14.973, len train loss 0.950, col train loss 179.968\n"
     ]
    },
    {
     "name": "stderr",
     "output_type": "stream",
     "text": [
      "Epoch 1363: 0batch [00:00, ?batch/s, loss=1.96e+3]"
     ]
    },
    {
     "name": "stdout",
     "output_type": "stream",
     "text": [
      "epoch 1362: avg test  loss 2044.47, bar  test loss 15.056, len  test loss 0.935, col  test loss 179.921\n"
     ]
    },
    {
     "name": "stderr",
     "output_type": "stream",
     "text": [
      "Epoch 1363: 272batch [00:25, 10.61batch/s, loss=2.86e+3]\n"
     ]
    },
    {
     "name": "stdout",
     "output_type": "stream",
     "text": [
      "epoch 1363: avg train loss 2045.40, bar train loss 14.974, len train loss 0.948, col train loss 179.967\n"
     ]
    },
    {
     "name": "stderr",
     "output_type": "stream",
     "text": [
      "Epoch 1364: 0batch [00:00, ?batch/s, loss=2.16e+3]"
     ]
    },
    {
     "name": "stdout",
     "output_type": "stream",
     "text": [
      "epoch 1363: avg test  loss 2044.26, bar  test loss 15.056, len  test loss 0.934, col  test loss 179.913\n"
     ]
    },
    {
     "name": "stderr",
     "output_type": "stream",
     "text": [
      "Epoch 1364: 272batch [00:25, 10.59batch/s, loss=2.51e+3]\n"
     ]
    },
    {
     "name": "stdout",
     "output_type": "stream",
     "text": [
      "epoch 1364: avg train loss 2044.90, bar train loss 14.966, len train loss 0.947, col train loss 179.949\n"
     ]
    },
    {
     "name": "stderr",
     "output_type": "stream",
     "text": [
      "Epoch 1365: 0batch [00:00, ?batch/s, loss=2.05e+3]"
     ]
    },
    {
     "name": "stdout",
     "output_type": "stream",
     "text": [
      "epoch 1364: avg test  loss 2044.12, bar  test loss 15.056, len  test loss 0.934, col  test loss 179.914\n"
     ]
    },
    {
     "name": "stderr",
     "output_type": "stream",
     "text": [
      "Epoch 1365: 272batch [00:25, 10.57batch/s, loss=2.7e+3] \n"
     ]
    },
    {
     "name": "stdout",
     "output_type": "stream",
     "text": [
      "epoch 1365: avg train loss 2044.90, bar train loss 14.966, len train loss 0.948, col train loss 179.955\n",
      "epoch 1365: avg test  loss 2044.01, bar  test loss 15.056, len  test loss 0.934, col  test loss 179.917\n"
     ]
    },
    {
     "name": "stderr",
     "output_type": "stream",
     "text": [
      "Epoch 1366: 272batch [00:25, 10.61batch/s, loss=2.77e+3]\n"
     ]
    },
    {
     "name": "stdout",
     "output_type": "stream",
     "text": [
      "epoch 1366: avg train loss 2044.74, bar train loss 14.972, len train loss 0.948, col train loss 179.940\n"
     ]
    },
    {
     "name": "stderr",
     "output_type": "stream",
     "text": [
      "Epoch 1367: 0batch [00:00, ?batch/s, loss=1.94e+3]"
     ]
    },
    {
     "name": "stdout",
     "output_type": "stream",
     "text": [
      "epoch 1366: avg test  loss 2043.84, bar  test loss 15.056, len  test loss 0.934, col  test loss 179.912\n"
     ]
    },
    {
     "name": "stderr",
     "output_type": "stream",
     "text": [
      "Epoch 1367: 272batch [00:25, 10.58batch/s, loss=3.34e+3]\n"
     ]
    },
    {
     "name": "stdout",
     "output_type": "stream",
     "text": [
      "epoch 1367: avg train loss 2044.85, bar train loss 14.975, len train loss 0.950, col train loss 179.937\n"
     ]
    },
    {
     "name": "stderr",
     "output_type": "stream",
     "text": [
      "Epoch 1368: 1batch [00:00,  9.90batch/s, loss=1.99e+3]"
     ]
    },
    {
     "name": "stdout",
     "output_type": "stream",
     "text": [
      "epoch 1367: avg test  loss 2043.50, bar  test loss 15.056, len  test loss 0.934, col  test loss 179.890\n"
     ]
    },
    {
     "name": "stderr",
     "output_type": "stream",
     "text": [
      "Epoch 1368: 272batch [00:25, 10.57batch/s, loss=2.89e+3]\n"
     ]
    },
    {
     "name": "stdout",
     "output_type": "stream",
     "text": [
      "epoch 1368: avg train loss 2044.42, bar train loss 14.968, len train loss 0.948, col train loss 179.928\n"
     ]
    },
    {
     "name": "stderr",
     "output_type": "stream",
     "text": [
      "Epoch 1369: 0batch [00:00, ?batch/s, loss=2.05e+3]"
     ]
    },
    {
     "name": "stdout",
     "output_type": "stream",
     "text": [
      "epoch 1368: avg test  loss 2043.34, bar  test loss 15.056, len  test loss 0.934, col  test loss 179.885\n"
     ]
    },
    {
     "name": "stderr",
     "output_type": "stream",
     "text": [
      "Epoch 1369: 272batch [00:25, 10.55batch/s, loss=3.25e+3]\n"
     ]
    },
    {
     "name": "stdout",
     "output_type": "stream",
     "text": [
      "epoch 1369: avg train loss 2044.65, bar train loss 14.973, len train loss 0.949, col train loss 179.948\n"
     ]
    },
    {
     "name": "stderr",
     "output_type": "stream",
     "text": [
      "Epoch 1370: 1batch [00:00,  9.90batch/s, loss=2.01e+3]"
     ]
    },
    {
     "name": "stdout",
     "output_type": "stream",
     "text": [
      "epoch 1369: avg test  loss 2043.14, bar  test loss 15.056, len  test loss 0.934, col  test loss 179.876\n"
     ]
    },
    {
     "name": "stderr",
     "output_type": "stream",
     "text": [
      "Epoch 1370: 272batch [00:25, 10.55batch/s, loss=2.42e+3]\n"
     ]
    },
    {
     "name": "stdout",
     "output_type": "stream",
     "text": [
      "epoch 1370: avg train loss 2043.98, bar train loss 14.964, len train loss 0.947, col train loss 179.925\n",
      "epoch 1370: avg test  loss 2043.01, bar  test loss 15.056, len  test loss 0.934, col  test loss 179.870\n"
     ]
    },
    {
     "name": "stderr",
     "output_type": "stream",
     "text": [
      "Epoch 1371: 272batch [00:25, 10.54batch/s, loss=3e+3]   \n"
     ]
    },
    {
     "name": "stdout",
     "output_type": "stream",
     "text": [
      "epoch 1371: avg train loss 2044.08, bar train loss 14.970, len train loss 0.948, col train loss 179.924\n"
     ]
    },
    {
     "name": "stderr",
     "output_type": "stream",
     "text": [
      "Epoch 1372: 0batch [00:00, ?batch/s, loss=2.07e+3]"
     ]
    },
    {
     "name": "stdout",
     "output_type": "stream",
     "text": [
      "epoch 1371: avg test  loss 2042.97, bar  test loss 15.056, len  test loss 0.934, col  test loss 179.875\n"
     ]
    },
    {
     "name": "stderr",
     "output_type": "stream",
     "text": [
      "Epoch 1372: 272batch [00:25, 10.52batch/s, loss=2.81e+3]\n"
     ]
    },
    {
     "name": "stdout",
     "output_type": "stream",
     "text": [
      "epoch 1372: avg train loss 2043.77, bar train loss 14.976, len train loss 0.947, col train loss 179.906\n"
     ]
    },
    {
     "name": "stderr",
     "output_type": "stream",
     "text": [
      "Epoch 1373: 0batch [00:00, ?batch/s, loss=1.98e+3]"
     ]
    },
    {
     "name": "stdout",
     "output_type": "stream",
     "text": [
      "epoch 1372: avg test  loss 2042.61, bar  test loss 15.056, len  test loss 0.934, col  test loss 179.845\n"
     ]
    },
    {
     "name": "stderr",
     "output_type": "stream",
     "text": [
      "Epoch 1373: 272batch [00:25, 10.51batch/s, loss=3.35e+3]\n"
     ]
    },
    {
     "name": "stdout",
     "output_type": "stream",
     "text": [
      "epoch 1373: avg train loss 2043.87, bar train loss 14.972, len train loss 0.950, col train loss 179.895\n"
     ]
    },
    {
     "name": "stderr",
     "output_type": "stream",
     "text": [
      "Epoch 1374: 0batch [00:00, ?batch/s, loss=2.08e+3]"
     ]
    },
    {
     "name": "stdout",
     "output_type": "stream",
     "text": [
      "epoch 1373: avg test  loss 2042.81, bar  test loss 15.056, len  test loss 0.934, col  test loss 179.871\n"
     ]
    },
    {
     "name": "stderr",
     "output_type": "stream",
     "text": [
      "Epoch 1374: 272batch [00:25, 10.54batch/s, loss=2.85e+3]\n"
     ]
    },
    {
     "name": "stdout",
     "output_type": "stream",
     "text": [
      "epoch 1374: avg train loss 2043.45, bar train loss 14.969, len train loss 0.948, col train loss 179.884\n"
     ]
    },
    {
     "name": "stderr",
     "output_type": "stream",
     "text": [
      "Epoch 1375: 0batch [00:00, ?batch/s, loss=2e+3]"
     ]
    },
    {
     "name": "stdout",
     "output_type": "stream",
     "text": [
      "epoch 1374: avg test  loss 2042.36, bar  test loss 15.056, len  test loss 0.934, col  test loss 179.830\n"
     ]
    },
    {
     "name": "stderr",
     "output_type": "stream",
     "text": [
      "Epoch 1375: 272batch [00:26, 10.35batch/s, loss=2.29e+3]\n"
     ]
    },
    {
     "name": "stdout",
     "output_type": "stream",
     "text": [
      "epoch 1375: avg train loss 2043.16, bar train loss 14.960, len train loss 0.946, col train loss 179.879\n",
      "epoch 1375: avg test  loss 2042.49, bar  test loss 15.056, len  test loss 0.934, col  test loss 179.847\n"
     ]
    },
    {
     "name": "stderr",
     "output_type": "stream",
     "text": [
      "Epoch 1376: 272batch [00:25, 10.49batch/s, loss=2.57e+3]\n"
     ]
    },
    {
     "name": "stdout",
     "output_type": "stream",
     "text": [
      "epoch 1376: avg train loss 2043.43, bar train loss 14.967, len train loss 0.946, col train loss 179.903\n"
     ]
    },
    {
     "name": "stderr",
     "output_type": "stream",
     "text": [
      "Epoch 1377: 1batch [00:00, 10.00batch/s, loss=2.04e+3]"
     ]
    },
    {
     "name": "stdout",
     "output_type": "stream",
     "text": [
      "epoch 1376: avg test  loss 2042.20, bar  test loss 15.056, len  test loss 0.934, col  test loss 179.821\n"
     ]
    },
    {
     "name": "stderr",
     "output_type": "stream",
     "text": [
      "Epoch 1377: 272batch [00:25, 10.48batch/s, loss=2.41e+3]\n"
     ]
    },
    {
     "name": "stdout",
     "output_type": "stream",
     "text": [
      "epoch 1377: avg train loss 2043.17, bar train loss 14.964, len train loss 0.946, col train loss 179.881\n"
     ]
    },
    {
     "name": "stderr",
     "output_type": "stream",
     "text": [
      "Epoch 1378: 0batch [00:00, ?batch/s, loss=2.04e+3]"
     ]
    },
    {
     "name": "stdout",
     "output_type": "stream",
     "text": [
      "epoch 1377: avg test  loss 2042.25, bar  test loss 15.056, len  test loss 0.934, col  test loss 179.829\n"
     ]
    },
    {
     "name": "stderr",
     "output_type": "stream",
     "text": [
      "Epoch 1378: 272batch [00:25, 10.49batch/s, loss=2.7e+3] \n"
     ]
    },
    {
     "name": "stdout",
     "output_type": "stream",
     "text": [
      "epoch 1378: avg train loss 2043.15, bar train loss 14.966, len train loss 0.947, col train loss 179.873\n"
     ]
    },
    {
     "name": "stderr",
     "output_type": "stream",
     "text": [
      "Epoch 1379: 0batch [00:00, ?batch/s, loss=1.99e+3]"
     ]
    },
    {
     "name": "stdout",
     "output_type": "stream",
     "text": [
      "epoch 1378: avg test  loss 2042.60, bar  test loss 15.056, len  test loss 0.934, col  test loss 179.865\n"
     ]
    },
    {
     "name": "stderr",
     "output_type": "stream",
     "text": [
      "Epoch 1379: 272batch [00:25, 10.47batch/s, loss=3e+3]   \n"
     ]
    },
    {
     "name": "stdout",
     "output_type": "stream",
     "text": [
      "epoch 1379: avg train loss 2043.29, bar train loss 14.965, len train loss 0.949, col train loss 179.869\n"
     ]
    },
    {
     "name": "stderr",
     "output_type": "stream",
     "text": [
      "Epoch 1380: 0batch [00:00, ?batch/s, loss=2.03e+3]"
     ]
    },
    {
     "name": "stdout",
     "output_type": "stream",
     "text": [
      "epoch 1379: avg test  loss 2042.12, bar  test loss 15.056, len  test loss 0.934, col  test loss 179.818\n"
     ]
    },
    {
     "name": "stderr",
     "output_type": "stream",
     "text": [
      "Epoch 1380: 272batch [00:26, 10.44batch/s, loss=2.61e+3]\n"
     ]
    },
    {
     "name": "stdout",
     "output_type": "stream",
     "text": [
      "epoch 1380: avg train loss 2043.12, bar train loss 14.968, len train loss 0.946, col train loss 179.879\n",
      "epoch 1380: avg test  loss 2042.07, bar  test loss 15.056, len  test loss 0.934, col  test loss 179.813\n"
     ]
    },
    {
     "name": "stderr",
     "output_type": "stream",
     "text": [
      "Epoch 1381: 272batch [00:26, 10.45batch/s, loss=3.13e+3]\n"
     ]
    },
    {
     "name": "stdout",
     "output_type": "stream",
     "text": [
      "epoch 1381: avg train loss 2043.29, bar train loss 14.974, len train loss 0.949, col train loss 179.867\n"
     ]
    },
    {
     "name": "stderr",
     "output_type": "stream",
     "text": [
      "Epoch 1382: 0batch [00:00, ?batch/s, loss=2e+3]"
     ]
    },
    {
     "name": "stdout",
     "output_type": "stream",
     "text": [
      "epoch 1381: avg test  loss 2042.26, bar  test loss 15.056, len  test loss 0.934, col  test loss 179.833\n"
     ]
    },
    {
     "name": "stderr",
     "output_type": "stream",
     "text": [
      "Epoch 1382: 272batch [00:25, 10.48batch/s, loss=2.97e+3]\n"
     ]
    },
    {
     "name": "stdout",
     "output_type": "stream",
     "text": [
      "epoch 1382: avg train loss 2043.23, bar train loss 14.970, len train loss 0.948, col train loss 179.873\n"
     ]
    },
    {
     "name": "stderr",
     "output_type": "stream",
     "text": [
      "Epoch 1383: 0batch [00:00, ?batch/s, loss=1.99e+3]"
     ]
    },
    {
     "name": "stdout",
     "output_type": "stream",
     "text": [
      "epoch 1382: avg test  loss 2041.96, bar  test loss 15.056, len  test loss 0.934, col  test loss 179.803\n"
     ]
    },
    {
     "name": "stderr",
     "output_type": "stream",
     "text": [
      "Epoch 1383: 272batch [00:26, 10.40batch/s, loss=3.07e+3]\n"
     ]
    },
    {
     "name": "stdout",
     "output_type": "stream",
     "text": [
      "epoch 1383: avg train loss 2043.69, bar train loss 14.972, len train loss 0.948, col train loss 179.906\n"
     ]
    },
    {
     "name": "stderr",
     "output_type": "stream",
     "text": [
      "Epoch 1384: 0batch [00:00, ?batch/s, loss=2.05e+3]"
     ]
    },
    {
     "name": "stdout",
     "output_type": "stream",
     "text": [
      "epoch 1383: avg test  loss 2042.61, bar  test loss 15.056, len  test loss 0.934, col  test loss 179.863\n"
     ]
    },
    {
     "name": "stderr",
     "output_type": "stream",
     "text": [
      "Epoch 1384: 272batch [00:26, 10.43batch/s, loss=3.13e+3]\n"
     ]
    },
    {
     "name": "stdout",
     "output_type": "stream",
     "text": [
      "epoch 1384: avg train loss 2043.78, bar train loss 14.971, len train loss 0.949, col train loss 179.917\n"
     ]
    },
    {
     "name": "stderr",
     "output_type": "stream",
     "text": [
      "Epoch 1385: 0batch [00:00, ?batch/s, loss=2.06e+3]"
     ]
    },
    {
     "name": "stdout",
     "output_type": "stream",
     "text": [
      "epoch 1384: avg test  loss 2042.62, bar  test loss 15.056, len  test loss 0.934, col  test loss 179.868\n"
     ]
    },
    {
     "name": "stderr",
     "output_type": "stream",
     "text": [
      "Epoch 1385: 272batch [00:26, 10.42batch/s, loss=2.35e+3]\n"
     ]
    },
    {
     "name": "stdout",
     "output_type": "stream",
     "text": [
      "epoch 1385: avg train loss 2043.22, bar train loss 14.964, len train loss 0.946, col train loss 179.893\n",
      "epoch 1385: avg test  loss 2042.26, bar  test loss 15.056, len  test loss 0.934, col  test loss 179.833\n"
     ]
    },
    {
     "name": "stderr",
     "output_type": "stream",
     "text": [
      "Epoch 1386: 272batch [00:26, 10.40batch/s, loss=2.61e+3]\n"
     ]
    },
    {
     "name": "stdout",
     "output_type": "stream",
     "text": [
      "epoch 1386: avg train loss 2043.11, bar train loss 14.970, len train loss 0.946, col train loss 179.873\n"
     ]
    },
    {
     "name": "stderr",
     "output_type": "stream",
     "text": [
      "Epoch 1387: 0batch [00:00, ?batch/s, loss=2.01e+3]"
     ]
    },
    {
     "name": "stdout",
     "output_type": "stream",
     "text": [
      "epoch 1386: avg test  loss 2042.24, bar  test loss 15.056, len  test loss 0.934, col  test loss 179.830\n"
     ]
    },
    {
     "name": "stderr",
     "output_type": "stream",
     "text": [
      "Epoch 1387: 272batch [00:26, 10.44batch/s, loss=2.58e+3]\n"
     ]
    },
    {
     "name": "stdout",
     "output_type": "stream",
     "text": [
      "epoch 1387: avg train loss 2043.34, bar train loss 14.966, len train loss 0.947, col train loss 179.890\n"
     ]
    },
    {
     "name": "stderr",
     "output_type": "stream",
     "text": [
      "Epoch 1388: 0batch [00:00, ?batch/s, loss=1.91e+3]"
     ]
    },
    {
     "name": "stdout",
     "output_type": "stream",
     "text": [
      "epoch 1387: avg test  loss 2042.13, bar  test loss 15.056, len  test loss 0.934, col  test loss 179.820\n"
     ]
    },
    {
     "name": "stderr",
     "output_type": "stream",
     "text": [
      "Epoch 1388: 272batch [00:26, 10.43batch/s, loss=3.01e+3]\n"
     ]
    },
    {
     "name": "stdout",
     "output_type": "stream",
     "text": [
      "epoch 1388: avg train loss 2043.52, bar train loss 14.974, len train loss 0.948, col train loss 179.893\n"
     ]
    },
    {
     "name": "stderr",
     "output_type": "stream",
     "text": [
      "Epoch 1389: 1batch [00:00,  8.55batch/s, loss=1.98e+3]"
     ]
    },
    {
     "name": "stdout",
     "output_type": "stream",
     "text": [
      "epoch 1388: avg test  loss 2042.37, bar  test loss 15.056, len  test loss 0.934, col  test loss 179.843\n"
     ]
    },
    {
     "name": "stderr",
     "output_type": "stream",
     "text": [
      "Epoch 1389: 272batch [00:27,  9.88batch/s, loss=2.87e+3]\n"
     ]
    },
    {
     "name": "stdout",
     "output_type": "stream",
     "text": [
      "epoch 1389: avg train loss 2043.24, bar train loss 14.971, len train loss 0.948, col train loss 179.873\n"
     ]
    },
    {
     "name": "stderr",
     "output_type": "stream",
     "text": [
      "Epoch 1390: 0batch [00:00, ?batch/s, loss=1.98e+3]"
     ]
    },
    {
     "name": "stdout",
     "output_type": "stream",
     "text": [
      "epoch 1389: avg test  loss 2042.17, bar  test loss 15.056, len  test loss 0.934, col  test loss 179.823\n"
     ]
    },
    {
     "name": "stderr",
     "output_type": "stream",
     "text": [
      "Epoch 1390: 272batch [00:26, 10.25batch/s, loss=2.54e+3]\n"
     ]
    },
    {
     "name": "stdout",
     "output_type": "stream",
     "text": [
      "epoch 1390: avg train loss 2043.25, bar train loss 14.965, len train loss 0.947, col train loss 179.885\n",
      "epoch 1390: avg test  loss 2042.45, bar  test loss 15.056, len  test loss 0.934, col  test loss 179.850\n"
     ]
    },
    {
     "name": "stderr",
     "output_type": "stream",
     "text": [
      "Epoch 1391: 272batch [00:26, 10.33batch/s, loss=2.87e+3]\n"
     ]
    },
    {
     "name": "stdout",
     "output_type": "stream",
     "text": [
      "epoch 1391: avg train loss 2043.22, bar train loss 14.970, len train loss 0.948, col train loss 179.868\n"
     ]
    },
    {
     "name": "stderr",
     "output_type": "stream",
     "text": [
      "Epoch 1392: 0batch [00:00, ?batch/s, loss=1.93e+3]"
     ]
    },
    {
     "name": "stdout",
     "output_type": "stream",
     "text": [
      "epoch 1391: avg test  loss 2042.24, bar  test loss 15.056, len  test loss 0.934, col  test loss 179.829\n"
     ]
    },
    {
     "name": "stderr",
     "output_type": "stream",
     "text": [
      "Epoch 1392: 272batch [00:26, 10.18batch/s, loss=2.85e+3]\n"
     ]
    },
    {
     "name": "stdout",
     "output_type": "stream",
     "text": [
      "epoch 1392: avg train loss 2043.23, bar train loss 14.969, len train loss 0.948, col train loss 179.871\n"
     ]
    },
    {
     "name": "stderr",
     "output_type": "stream",
     "text": [
      "Epoch 1393: 1batch [00:00,  9.80batch/s, loss=2.02e+3]"
     ]
    },
    {
     "name": "stdout",
     "output_type": "stream",
     "text": [
      "epoch 1392: avg test  loss 2042.47, bar  test loss 15.056, len  test loss 0.934, col  test loss 179.852\n"
     ]
    },
    {
     "name": "stderr",
     "output_type": "stream",
     "text": [
      "Epoch 1393: 272batch [00:26, 10.30batch/s, loss=2.77e+3]\n"
     ]
    },
    {
     "name": "stdout",
     "output_type": "stream",
     "text": [
      "epoch 1393: avg train loss 2043.21, bar train loss 14.969, len train loss 0.948, col train loss 179.870\n"
     ]
    },
    {
     "name": "stderr",
     "output_type": "stream",
     "text": [
      "Epoch 1394: 1batch [00:00,  9.90batch/s, loss=1.98e+3]"
     ]
    },
    {
     "name": "stdout",
     "output_type": "stream",
     "text": [
      "epoch 1393: avg test  loss 2042.46, bar  test loss 15.056, len  test loss 0.934, col  test loss 179.850\n"
     ]
    },
    {
     "name": "stderr",
     "output_type": "stream",
     "text": [
      "Epoch 1394: 272batch [00:26, 10.35batch/s, loss=2.56e+3]\n"
     ]
    },
    {
     "name": "stdout",
     "output_type": "stream",
     "text": [
      "epoch 1394: avg train loss 2043.10, bar train loss 14.967, len train loss 0.946, col train loss 179.877\n"
     ]
    },
    {
     "name": "stderr",
     "output_type": "stream",
     "text": [
      "Epoch 1395: 0batch [00:00, ?batch/s, loss=2e+3]"
     ]
    },
    {
     "name": "stdout",
     "output_type": "stream",
     "text": [
      "epoch 1394: avg test  loss 2042.10, bar  test loss 15.056, len  test loss 0.934, col  test loss 179.814\n"
     ]
    },
    {
     "name": "stderr",
     "output_type": "stream",
     "text": [
      "Epoch 1395: 272batch [00:26, 10.36batch/s, loss=2.59e+3]\n"
     ]
    },
    {
     "name": "stdout",
     "output_type": "stream",
     "text": [
      "epoch 1395: avg train loss 2043.20, bar train loss 14.966, len train loss 0.947, col train loss 179.880\n",
      "epoch 1395: avg test  loss 2042.03, bar  test loss 15.056, len  test loss 0.934, col  test loss 179.807\n"
     ]
    },
    {
     "name": "stderr",
     "output_type": "stream",
     "text": [
      "Epoch 1396: 272batch [00:26, 10.28batch/s, loss=2.86e+3]\n"
     ]
    },
    {
     "name": "stdout",
     "output_type": "stream",
     "text": [
      "epoch 1396: avg train loss 2043.32, bar train loss 14.974, len train loss 0.947, col train loss 179.883\n"
     ]
    },
    {
     "name": "stderr",
     "output_type": "stream",
     "text": [
      "Epoch 1397: 0batch [00:00, ?batch/s, loss=2.02e+3]"
     ]
    },
    {
     "name": "stdout",
     "output_type": "stream",
     "text": [
      "epoch 1396: avg test  loss 2042.31, bar  test loss 15.056, len  test loss 0.934, col  test loss 179.835\n"
     ]
    },
    {
     "name": "stderr",
     "output_type": "stream",
     "text": [
      "Epoch 1397: 272batch [00:26, 10.30batch/s, loss=2.46e+3]\n"
     ]
    },
    {
     "name": "stdout",
     "output_type": "stream",
     "text": [
      "epoch 1397: avg train loss 2046.16, bar train loss 14.968, len train loss 0.946, col train loss 180.072\n"
     ]
    },
    {
     "name": "stderr",
     "output_type": "stream",
     "text": [
      "Epoch 1398: 0batch [00:00, ?batch/s, loss=2.1e+3]"
     ]
    },
    {
     "name": "stdout",
     "output_type": "stream",
     "text": [
      "epoch 1397: avg test  loss 2045.84, bar  test loss 15.056, len  test loss 0.934, col  test loss 180.064\n"
     ]
    },
    {
     "name": "stderr",
     "output_type": "stream",
     "text": [
      "Epoch 1398: 272batch [00:26, 10.33batch/s, loss=3.13e+3]\n"
     ]
    },
    {
     "name": "stdout",
     "output_type": "stream",
     "text": [
      "epoch 1398: avg train loss 2046.99, bar train loss 14.970, len train loss 0.949, col train loss 180.115\n"
     ]
    },
    {
     "name": "stderr",
     "output_type": "stream",
     "text": [
      "Epoch 1399: 1batch [00:00, 10.00batch/s, loss=2.09e+3]"
     ]
    },
    {
     "name": "stdout",
     "output_type": "stream",
     "text": [
      "epoch 1398: avg test  loss 2045.86, bar  test loss 15.056, len  test loss 0.934, col  test loss 180.082\n"
     ]
    },
    {
     "name": "stderr",
     "output_type": "stream",
     "text": [
      "Epoch 1399: 272batch [00:26, 10.25batch/s, loss=2.36e+3]\n"
     ]
    },
    {
     "name": "stdout",
     "output_type": "stream",
     "text": [
      "epoch 1399: avg train loss 2046.43, bar train loss 14.966, len train loss 0.946, col train loss 180.110\n"
     ]
    },
    {
     "name": "stderr",
     "output_type": "stream",
     "text": [
      "Epoch 1400: 0batch [00:00, ?batch/s, loss=2.08e+3]"
     ]
    },
    {
     "name": "stdout",
     "output_type": "stream",
     "text": [
      "epoch 1399: avg test  loss 2045.52, bar  test loss 15.056, len  test loss 0.934, col  test loss 180.061\n"
     ]
    },
    {
     "name": "stderr",
     "output_type": "stream",
     "text": [
      "Epoch 1400: 272batch [00:27, 10.04batch/s, loss=2.55e+3]\n"
     ]
    },
    {
     "name": "stdout",
     "output_type": "stream",
     "text": [
      "epoch 1400: avg train loss 2046.46, bar train loss 14.964, len train loss 0.947, col train loss 180.117\n",
      "epoch 1400: avg test  loss 2045.26, bar  test loss 15.056, len  test loss 0.934, col  test loss 180.047\n"
     ]
    },
    {
     "name": "stderr",
     "output_type": "stream",
     "text": [
      "Epoch 1401: 272batch [00:26, 10.26batch/s, loss=2.63e+3]\n"
     ]
    },
    {
     "name": "stdout",
     "output_type": "stream",
     "text": [
      "epoch 1401: avg train loss 2046.08, bar train loss 14.975, len train loss 0.946, col train loss 180.091\n"
     ]
    },
    {
     "name": "stderr",
     "output_type": "stream",
     "text": [
      "Epoch 1402: 1batch [00:00,  9.90batch/s, loss=1.95e+3]"
     ]
    },
    {
     "name": "stdout",
     "output_type": "stream",
     "text": [
      "epoch 1401: avg test  loss 2045.31, bar  test loss 15.056, len  test loss 0.934, col  test loss 180.062\n"
     ]
    },
    {
     "name": "stderr",
     "output_type": "stream",
     "text": [
      "Epoch 1402: 272batch [00:27, 10.04batch/s, loss=2.64e+3]\n"
     ]
    },
    {
     "name": "stdout",
     "output_type": "stream",
     "text": [
      "epoch 1402: avg train loss 2046.30, bar train loss 14.966, len train loss 0.948, col train loss 180.114\n"
     ]
    },
    {
     "name": "stderr",
     "output_type": "stream",
     "text": [
      "Epoch 1403: 1batch [00:00,  9.90batch/s, loss=2.04e+3]"
     ]
    },
    {
     "name": "stdout",
     "output_type": "stream",
     "text": [
      "epoch 1402: avg test  loss 2045.07, bar  test loss 15.056, len  test loss 0.934, col  test loss 180.050\n"
     ]
    },
    {
     "name": "stderr",
     "output_type": "stream",
     "text": [
      "Epoch 1403: 272batch [00:27, 10.03batch/s, loss=2.61e+3]\n"
     ]
    },
    {
     "name": "stdout",
     "output_type": "stream",
     "text": [
      "epoch 1403: avg train loss 2046.10, bar train loss 14.971, len train loss 0.947, col train loss 180.105\n"
     ]
    },
    {
     "name": "stderr",
     "output_type": "stream",
     "text": [
      "Epoch 1404: 1batch [00:00,  9.43batch/s, loss=2.02e+3]"
     ]
    },
    {
     "name": "stdout",
     "output_type": "stream",
     "text": [
      "epoch 1403: avg test  loss 2045.16, bar  test loss 15.056, len  test loss 0.934, col  test loss 180.065\n"
     ]
    },
    {
     "name": "stderr",
     "output_type": "stream",
     "text": [
      "Epoch 1404: 272batch [00:26, 10.19batch/s, loss=2.69e+3]\n"
     ]
    },
    {
     "name": "stdout",
     "output_type": "stream",
     "text": [
      "epoch 1404: avg train loss 2046.03, bar train loss 14.966, len train loss 0.947, col train loss 180.113\n"
     ]
    },
    {
     "name": "stderr",
     "output_type": "stream",
     "text": [
      "Epoch 1405: 0batch [00:00, ?batch/s, loss=1.97e+3]"
     ]
    },
    {
     "name": "stdout",
     "output_type": "stream",
     "text": [
      "epoch 1404: avg test  loss 2044.84, bar  test loss 15.056, len  test loss 0.934, col  test loss 180.042\n"
     ]
    },
    {
     "name": "stderr",
     "output_type": "stream",
     "text": [
      "Epoch 1405: 272batch [00:26, 10.12batch/s, loss=2.71e+3]\n"
     ]
    },
    {
     "name": "stdout",
     "output_type": "stream",
     "text": [
      "epoch 1405: avg train loss 2045.90, bar train loss 14.971, len train loss 0.947, col train loss 180.103\n",
      "epoch 1405: avg test  loss 2044.80, bar  test loss 15.056, len  test loss 0.934, col  test loss 180.045\n"
     ]
    },
    {
     "name": "stderr",
     "output_type": "stream",
     "text": [
      "Epoch 1406: 272batch [00:26, 10.18batch/s, loss=3.07e+3]\n"
     ]
    },
    {
     "name": "stdout",
     "output_type": "stream",
     "text": [
      "epoch 1406: avg train loss 2045.98, bar train loss 14.971, len train loss 0.949, col train loss 180.098\n"
     ]
    },
    {
     "name": "stderr",
     "output_type": "stream",
     "text": [
      "Epoch 1407: 0batch [00:00, ?batch/s, loss=2.07e+3]"
     ]
    },
    {
     "name": "stdout",
     "output_type": "stream",
     "text": [
      "epoch 1406: avg test  loss 2044.79, bar  test loss 15.056, len  test loss 0.934, col  test loss 180.051\n"
     ]
    },
    {
     "name": "stderr",
     "output_type": "stream",
     "text": [
      "Epoch 1407: 272batch [00:26, 10.08batch/s, loss=3.03e+3]\n"
     ]
    },
    {
     "name": "stdout",
     "output_type": "stream",
     "text": [
      "epoch 1407: avg train loss 2045.81, bar train loss 14.972, len train loss 0.948, col train loss 180.091\n"
     ]
    },
    {
     "name": "stderr",
     "output_type": "stream",
     "text": [
      "Epoch 1408: 0batch [00:00, ?batch/s, loss=2.03e+3]"
     ]
    },
    {
     "name": "stdout",
     "output_type": "stream",
     "text": [
      "epoch 1407: avg test  loss 2044.71, bar  test loss 15.056, len  test loss 0.934, col  test loss 180.049\n"
     ]
    },
    {
     "name": "stderr",
     "output_type": "stream",
     "text": [
      "Epoch 1408: 272batch [00:26, 10.21batch/s, loss=2.86e+3]\n"
     ]
    },
    {
     "name": "stdout",
     "output_type": "stream",
     "text": [
      "epoch 1408: avg train loss 2045.56, bar train loss 14.969, len train loss 0.948, col train loss 180.083\n"
     ]
    },
    {
     "name": "stderr",
     "output_type": "stream",
     "text": [
      "Epoch 1409: 0batch [00:00, ?batch/s, loss=2.22e+3]"
     ]
    },
    {
     "name": "stdout",
     "output_type": "stream",
     "text": [
      "epoch 1408: avg test  loss 2044.47, bar  test loss 15.056, len  test loss 0.934, col  test loss 180.030\n"
     ]
    },
    {
     "name": "stderr",
     "output_type": "stream",
     "text": [
      "Epoch 1409: 272batch [00:26, 10.20batch/s, loss=2.58e+3]\n"
     ]
    },
    {
     "name": "stdout",
     "output_type": "stream",
     "text": [
      "epoch 1409: avg train loss 2045.30, bar train loss 14.968, len train loss 0.946, col train loss 180.076\n"
     ]
    },
    {
     "name": "stderr",
     "output_type": "stream",
     "text": [
      "Epoch 1410: 0batch [00:00, ?batch/s, loss=2.05e+3]"
     ]
    },
    {
     "name": "stdout",
     "output_type": "stream",
     "text": [
      "epoch 1409: avg test  loss 2044.45, bar  test loss 15.056, len  test loss 0.934, col  test loss 180.032\n"
     ]
    },
    {
     "name": "stderr",
     "output_type": "stream",
     "text": [
      "Epoch 1410: 272batch [00:26, 10.14batch/s, loss=2.72e+3]\n"
     ]
    },
    {
     "name": "stdout",
     "output_type": "stream",
     "text": [
      "epoch 1410: avg train loss 2045.52, bar train loss 14.966, len train loss 0.948, col train loss 180.087\n",
      "epoch 1410: avg test  loss 2044.58, bar  test loss 15.056, len  test loss 0.934, col  test loss 180.032\n"
     ]
    },
    {
     "name": "stderr",
     "output_type": "stream",
     "text": [
      "Epoch 1411: 272batch [00:26, 10.08batch/s, loss=2.57e+3]\n"
     ]
    },
    {
     "name": "stdout",
     "output_type": "stream",
     "text": [
      "epoch 1411: avg train loss 2045.57, bar train loss 14.966, len train loss 0.947, col train loss 180.093\n"
     ]
    },
    {
     "name": "stderr",
     "output_type": "stream",
     "text": [
      "Epoch 1412: 0batch [00:00, ?batch/s, loss=2.08e+3]"
     ]
    },
    {
     "name": "stdout",
     "output_type": "stream",
     "text": [
      "epoch 1411: avg test  loss 2044.37, bar  test loss 15.056, len  test loss 0.934, col  test loss 180.025\n"
     ]
    },
    {
     "name": "stderr",
     "output_type": "stream",
     "text": [
      "Epoch 1412: 272batch [00:26, 10.21batch/s, loss=2.49e+3]\n"
     ]
    },
    {
     "name": "stdout",
     "output_type": "stream",
     "text": [
      "epoch 1412: avg train loss 2045.30, bar train loss 14.966, len train loss 0.946, col train loss 180.082\n"
     ]
    },
    {
     "name": "stderr",
     "output_type": "stream",
     "text": [
      "Epoch 1413: 1batch [00:00,  9.43batch/s, loss=2.06e+3]"
     ]
    },
    {
     "name": "stdout",
     "output_type": "stream",
     "text": [
      "epoch 1412: avg test  loss 2044.49, bar  test loss 15.056, len  test loss 0.934, col  test loss 180.044\n"
     ]
    },
    {
     "name": "stderr",
     "output_type": "stream",
     "text": [
      "Epoch 1413: 272batch [00:27,  9.87batch/s, loss=2.84e+3]\n"
     ]
    },
    {
     "name": "stdout",
     "output_type": "stream",
     "text": [
      "epoch 1413: avg train loss 2045.33, bar train loss 14.975, len train loss 0.947, col train loss 180.074\n"
     ]
    },
    {
     "name": "stderr",
     "output_type": "stream",
     "text": [
      "Epoch 1414: 0batch [00:00, ?batch/s, loss=1.93e+3]"
     ]
    },
    {
     "name": "stdout",
     "output_type": "stream",
     "text": [
      "epoch 1413: avg test  loss 2044.35, bar  test loss 15.056, len  test loss 0.934, col  test loss 180.033\n"
     ]
    },
    {
     "name": "stderr",
     "output_type": "stream",
     "text": [
      "Epoch 1414: 272batch [00:26, 10.18batch/s, loss=2.93e+3]\n"
     ]
    },
    {
     "name": "stdout",
     "output_type": "stream",
     "text": [
      "epoch 1414: avg train loss 2045.36, bar train loss 14.967, len train loss 0.948, col train loss 180.076\n"
     ]
    },
    {
     "name": "stderr",
     "output_type": "stream",
     "text": [
      "Epoch 1415: 0batch [00:00, ?batch/s, loss=1.99e+3]"
     ]
    },
    {
     "name": "stdout",
     "output_type": "stream",
     "text": [
      "epoch 1414: avg test  loss 2044.26, bar  test loss 15.056, len  test loss 0.934, col  test loss 180.027\n"
     ]
    },
    {
     "name": "stderr",
     "output_type": "stream",
     "text": [
      "Epoch 1415: 272batch [00:27,  9.78batch/s, loss=3.11e+3]\n"
     ]
    },
    {
     "name": "stdout",
     "output_type": "stream",
     "text": [
      "epoch 1415: avg train loss 2046.44, bar train loss 14.970, len train loss 0.949, col train loss 180.095\n",
      "epoch 1415: avg test  loss 2046.66, bar  test loss 15.056, len  test loss 0.934, col  test loss 180.096\n"
     ]
    },
    {
     "name": "stderr",
     "output_type": "stream",
     "text": [
      "Epoch 1416: 272batch [00:27, 10.04batch/s, loss=2.84e+3]\n"
     ]
    },
    {
     "name": "stdout",
     "output_type": "stream",
     "text": [
      "epoch 1416: avg train loss 2047.55, bar train loss 14.968, len train loss 0.948, col train loss 180.130\n"
     ]
    },
    {
     "name": "stderr",
     "output_type": "stream",
     "text": [
      "Epoch 1417: 1batch [00:00,  9.62batch/s, loss=2.03e+3]"
     ]
    },
    {
     "name": "stdout",
     "output_type": "stream",
     "text": [
      "epoch 1416: avg test  loss 2046.68, bar  test loss 15.056, len  test loss 0.934, col  test loss 180.097\n"
     ]
    },
    {
     "name": "stderr",
     "output_type": "stream",
     "text": [
      "Epoch 1417: 272batch [00:26, 10.23batch/s, loss=2.83e+3]\n"
     ]
    },
    {
     "name": "stdout",
     "output_type": "stream",
     "text": [
      "epoch 1417: avg train loss 2047.59, bar train loss 14.965, len train loss 0.948, col train loss 180.130\n"
     ]
    },
    {
     "name": "stderr",
     "output_type": "stream",
     "text": [
      "Epoch 1418: 0batch [00:00, ?batch/s, loss=2.16e+3]"
     ]
    },
    {
     "name": "stdout",
     "output_type": "stream",
     "text": [
      "epoch 1417: avg test  loss 2046.55, bar  test loss 15.056, len  test loss 0.934, col  test loss 180.085\n"
     ]
    },
    {
     "name": "stderr",
     "output_type": "stream",
     "text": [
      "Epoch 1418: 272batch [00:27, 10.07batch/s, loss=2.96e+3]\n"
     ]
    },
    {
     "name": "stdout",
     "output_type": "stream",
     "text": [
      "epoch 1418: avg train loss 2047.50, bar train loss 14.969, len train loss 0.949, col train loss 180.116\n"
     ]
    },
    {
     "name": "stderr",
     "output_type": "stream",
     "text": [
      "Epoch 1419: 0batch [00:00, ?batch/s, loss=2.01e+3]"
     ]
    },
    {
     "name": "stdout",
     "output_type": "stream",
     "text": [
      "epoch 1418: avg test  loss 2046.58, bar  test loss 15.056, len  test loss 0.934, col  test loss 180.089\n"
     ]
    },
    {
     "name": "stderr",
     "output_type": "stream",
     "text": [
      "Epoch 1419: 272batch [00:28,  9.64batch/s, loss=2.94e+3]\n"
     ]
    },
    {
     "name": "stdout",
     "output_type": "stream",
     "text": [
      "epoch 1419: avg train loss 2047.59, bar train loss 14.976, len train loss 0.948, col train loss 180.129\n"
     ]
    },
    {
     "name": "stderr",
     "output_type": "stream",
     "text": [
      "Epoch 1420: 0batch [00:00, ?batch/s, loss=2.16e+3]"
     ]
    },
    {
     "name": "stdout",
     "output_type": "stream",
     "text": [
      "epoch 1419: avg test  loss 2046.48, bar  test loss 15.056, len  test loss 0.934, col  test loss 180.082\n"
     ]
    },
    {
     "name": "stderr",
     "output_type": "stream",
     "text": [
      "Epoch 1420: 272batch [00:27,  9.93batch/s, loss=2.8e+3] \n"
     ]
    },
    {
     "name": "stdout",
     "output_type": "stream",
     "text": [
      "epoch 1420: avg train loss 2047.46, bar train loss 14.965, len train loss 0.948, col train loss 180.122\n",
      "epoch 1420: avg test  loss 2046.67, bar  test loss 15.056, len  test loss 0.934, col  test loss 180.096\n"
     ]
    },
    {
     "name": "stderr",
     "output_type": "stream",
     "text": [
      "Epoch 1421: 272batch [00:27,  9.90batch/s, loss=2.75e+3]\n"
     ]
    },
    {
     "name": "stdout",
     "output_type": "stream",
     "text": [
      "epoch 1421: avg train loss 2047.56, bar train loss 14.967, len train loss 0.948, col train loss 180.134\n"
     ]
    },
    {
     "name": "stderr",
     "output_type": "stream",
     "text": [
      "Epoch 1422: 0batch [00:00, ?batch/s, loss=1.98e+3]"
     ]
    },
    {
     "name": "stdout",
     "output_type": "stream",
     "text": [
      "epoch 1421: avg test  loss 2046.73, bar  test loss 15.056, len  test loss 0.934, col  test loss 180.103\n"
     ]
    },
    {
     "name": "stderr",
     "output_type": "stream",
     "text": [
      "Epoch 1422: 272batch [00:26, 10.13batch/s, loss=2.83e+3]\n"
     ]
    },
    {
     "name": "stdout",
     "output_type": "stream",
     "text": [
      "epoch 1422: avg train loss 2047.43, bar train loss 14.969, len train loss 0.948, col train loss 180.119\n"
     ]
    },
    {
     "name": "stderr",
     "output_type": "stream",
     "text": [
      "Epoch 1423: 1batch [00:00,  8.85batch/s, loss=2.14e+3]"
     ]
    },
    {
     "name": "stdout",
     "output_type": "stream",
     "text": [
      "epoch 1422: avg test  loss 2046.71, bar  test loss 15.056, len  test loss 0.934, col  test loss 180.102\n"
     ]
    },
    {
     "name": "stderr",
     "output_type": "stream",
     "text": [
      "Epoch 1423: 272batch [00:26, 10.12batch/s, loss=2.56e+3]\n"
     ]
    },
    {
     "name": "stdout",
     "output_type": "stream",
     "text": [
      "epoch 1423: avg train loss 2047.35, bar train loss 14.966, len train loss 0.947, col train loss 180.118\n"
     ]
    },
    {
     "name": "stderr",
     "output_type": "stream",
     "text": [
      "Epoch 1424: 0batch [00:00, ?batch/s, loss=2.1e+3]"
     ]
    },
    {
     "name": "stdout",
     "output_type": "stream",
     "text": [
      "epoch 1423: avg test  loss 2046.50, bar  test loss 15.056, len  test loss 0.934, col  test loss 180.083\n"
     ]
    },
    {
     "name": "stderr",
     "output_type": "stream",
     "text": [
      "Epoch 1424: 272batch [00:27,  9.84batch/s, loss=2.66e+3]\n"
     ]
    },
    {
     "name": "stdout",
     "output_type": "stream",
     "text": [
      "epoch 1424: avg train loss 2047.22, bar train loss 14.970, len train loss 0.947, col train loss 180.111\n"
     ]
    },
    {
     "name": "stderr",
     "output_type": "stream",
     "text": [
      "Epoch 1425: 0batch [00:00, ?batch/s, loss=2.14e+3]"
     ]
    },
    {
     "name": "stdout",
     "output_type": "stream",
     "text": [
      "epoch 1424: avg test  loss 2046.63, bar  test loss 15.056, len  test loss 0.934, col  test loss 180.096\n"
     ]
    },
    {
     "name": "stderr",
     "output_type": "stream",
     "text": [
      "Epoch 1425: 272batch [00:28,  9.67batch/s, loss=2.75e+3]\n"
     ]
    },
    {
     "name": "stdout",
     "output_type": "stream",
     "text": [
      "epoch 1425: avg train loss 2047.45, bar train loss 14.968, len train loss 0.947, col train loss 180.125\n",
      "epoch 1425: avg test  loss 2046.66, bar  test loss 15.056, len  test loss 0.934, col  test loss 180.099\n"
     ]
    },
    {
     "name": "stderr",
     "output_type": "stream",
     "text": [
      "Epoch 1426: 272batch [00:28,  9.49batch/s, loss=2.59e+3]\n"
     ]
    },
    {
     "name": "stdout",
     "output_type": "stream",
     "text": [
      "epoch 1426: avg train loss 2047.54, bar train loss 14.966, len train loss 0.947, col train loss 180.122\n"
     ]
    },
    {
     "name": "stderr",
     "output_type": "stream",
     "text": [
      "Epoch 1427: 1batch [00:00, 10.00batch/s, loss=2.08e+3]"
     ]
    },
    {
     "name": "stdout",
     "output_type": "stream",
     "text": [
      "epoch 1426: avg test  loss 2046.58, bar  test loss 15.056, len  test loss 0.934, col  test loss 180.093\n"
     ]
    },
    {
     "name": "stderr",
     "output_type": "stream",
     "text": [
      "Epoch 1427: 272batch [00:28,  9.58batch/s, loss=2.62e+3]\n"
     ]
    },
    {
     "name": "stdout",
     "output_type": "stream",
     "text": [
      "epoch 1427: avg train loss 2047.21, bar train loss 14.972, len train loss 0.946, col train loss 180.111\n"
     ]
    },
    {
     "name": "stderr",
     "output_type": "stream",
     "text": [
      "Epoch 1428: 0batch [00:00, ?batch/s, loss=2.04e+3]"
     ]
    },
    {
     "name": "stdout",
     "output_type": "stream",
     "text": [
      "epoch 1427: avg test  loss 2046.55, bar  test loss 15.056, len  test loss 0.934, col  test loss 180.087\n"
     ]
    },
    {
     "name": "stderr",
     "output_type": "stream",
     "text": [
      "Epoch 1428: 272batch [00:27,  9.76batch/s, loss=3.19e+3]\n"
     ]
    },
    {
     "name": "stdout",
     "output_type": "stream",
     "text": [
      "epoch 1428: avg train loss 2047.53, bar train loss 14.973, len train loss 0.949, col train loss 180.120\n"
     ]
    },
    {
     "name": "stderr",
     "output_type": "stream",
     "text": [
      "Epoch 1429: 0batch [00:00, ?batch/s, loss=1.96e+3]"
     ]
    },
    {
     "name": "stdout",
     "output_type": "stream",
     "text": [
      "epoch 1428: avg test  loss 2046.48, bar  test loss 15.056, len  test loss 0.934, col  test loss 180.085\n"
     ]
    },
    {
     "name": "stderr",
     "output_type": "stream",
     "text": [
      "Epoch 1429: 272batch [00:28,  9.48batch/s, loss=2.63e+3]\n"
     ]
    },
    {
     "name": "stdout",
     "output_type": "stream",
     "text": [
      "epoch 1429: avg train loss 2047.30, bar train loss 14.969, len train loss 0.947, col train loss 180.120\n"
     ]
    },
    {
     "name": "stderr",
     "output_type": "stream",
     "text": [
      "Epoch 1430: 0batch [00:00, ?batch/s, loss=1.99e+3]"
     ]
    },
    {
     "name": "stdout",
     "output_type": "stream",
     "text": [
      "epoch 1429: avg test  loss 2046.53, bar  test loss 15.056, len  test loss 0.934, col  test loss 180.086\n"
     ]
    },
    {
     "name": "stderr",
     "output_type": "stream",
     "text": [
      "Epoch 1430: 272batch [00:28,  9.50batch/s, loss=2.55e+3]\n"
     ]
    },
    {
     "name": "stdout",
     "output_type": "stream",
     "text": [
      "epoch 1430: avg train loss 2047.39, bar train loss 14.966, len train loss 0.947, col train loss 180.129\n",
      "epoch 1430: avg test  loss 2046.45, bar  test loss 15.056, len  test loss 0.934, col  test loss 180.083\n"
     ]
    },
    {
     "name": "stderr",
     "output_type": "stream",
     "text": [
      "Epoch 1431: 272batch [00:28,  9.53batch/s, loss=2.72e+3]\n"
     ]
    },
    {
     "name": "stdout",
     "output_type": "stream",
     "text": [
      "epoch 1431: avg train loss 2047.39, bar train loss 14.969, len train loss 0.947, col train loss 180.124\n"
     ]
    },
    {
     "name": "stderr",
     "output_type": "stream",
     "text": [
      "Epoch 1432: 0batch [00:00, ?batch/s, loss=2.05e+3]"
     ]
    },
    {
     "name": "stdout",
     "output_type": "stream",
     "text": [
      "epoch 1431: avg test  loss 2046.46, bar  test loss 15.056, len  test loss 0.934, col  test loss 180.085\n"
     ]
    },
    {
     "name": "stderr",
     "output_type": "stream",
     "text": [
      "Epoch 1432: 272batch [00:28,  9.67batch/s, loss=2.66e+3]\n"
     ]
    },
    {
     "name": "stdout",
     "output_type": "stream",
     "text": [
      "epoch 1432: avg train loss 2047.23, bar train loss 14.961, len train loss 0.948, col train loss 180.115\n"
     ]
    },
    {
     "name": "stderr",
     "output_type": "stream",
     "text": [
      "Epoch 1433: 0batch [00:00, ?batch/s, loss=2.02e+3]"
     ]
    },
    {
     "name": "stdout",
     "output_type": "stream",
     "text": [
      "epoch 1432: avg test  loss 2046.59, bar  test loss 15.056, len  test loss 0.934, col  test loss 180.098\n"
     ]
    },
    {
     "name": "stderr",
     "output_type": "stream",
     "text": [
      "Epoch 1433: 272batch [00:28,  9.57batch/s, loss=2.88e+3]\n"
     ]
    },
    {
     "name": "stdout",
     "output_type": "stream",
     "text": [
      "epoch 1433: avg train loss 2047.37, bar train loss 14.968, len train loss 0.948, col train loss 180.121\n"
     ]
    },
    {
     "name": "stderr",
     "output_type": "stream",
     "text": [
      "Epoch 1434: 0batch [00:00, ?batch/s, loss=2.04e+3]"
     ]
    },
    {
     "name": "stdout",
     "output_type": "stream",
     "text": [
      "epoch 1433: avg test  loss 2046.55, bar  test loss 15.056, len  test loss 0.934, col  test loss 180.097\n"
     ]
    },
    {
     "name": "stderr",
     "output_type": "stream",
     "text": [
      "Epoch 1434: 272batch [00:28,  9.60batch/s, loss=2.77e+3]\n"
     ]
    },
    {
     "name": "stdout",
     "output_type": "stream",
     "text": [
      "epoch 1434: avg train loss 2047.35, bar train loss 14.971, len train loss 0.947, col train loss 180.124\n"
     ]
    },
    {
     "name": "stderr",
     "output_type": "stream",
     "text": [
      "\r",
      "Epoch 1435: 0batch [00:00, ?batch/s]"
     ]
    },
    {
     "name": "stdout",
     "output_type": "stream",
     "text": [
      "epoch 1434: avg test  loss 2046.52, bar  test loss 15.056, len  test loss 0.934, col  test loss 180.095\n"
     ]
    },
    {
     "name": "stderr",
     "output_type": "stream",
     "text": [
      "Epoch 1435: 272batch [00:28,  9.52batch/s, loss=2.62e+3]\n"
     ]
    },
    {
     "name": "stdout",
     "output_type": "stream",
     "text": [
      "epoch 1435: avg train loss 2047.40, bar train loss 14.968, len train loss 0.947, col train loss 180.135\n",
      "epoch 1435: avg test  loss 2046.42, bar  test loss 15.056, len  test loss 0.934, col  test loss 180.083\n"
     ]
    },
    {
     "name": "stderr",
     "output_type": "stream",
     "text": [
      "Epoch 1436: 272batch [00:27,  9.72batch/s, loss=2.63e+3]\n"
     ]
    },
    {
     "name": "stdout",
     "output_type": "stream",
     "text": [
      "epoch 1436: avg train loss 2047.21, bar train loss 14.971, len train loss 0.946, col train loss 180.123\n"
     ]
    },
    {
     "name": "stderr",
     "output_type": "stream",
     "text": [
      "Epoch 1437: 1batch [00:00,  7.63batch/s, loss=2.06e+3]"
     ]
    },
    {
     "name": "stdout",
     "output_type": "stream",
     "text": [
      "epoch 1436: avg test  loss 2046.17, bar  test loss 15.056, len  test loss 0.934, col  test loss 180.063\n"
     ]
    },
    {
     "name": "stderr",
     "output_type": "stream",
     "text": [
      "Epoch 1437: 272batch [00:28,  9.47batch/s, loss=2.76e+3]\n"
     ]
    },
    {
     "name": "stdout",
     "output_type": "stream",
     "text": [
      "epoch 1437: avg train loss 2046.95, bar train loss 14.970, len train loss 0.947, col train loss 180.095\n"
     ]
    },
    {
     "name": "stderr",
     "output_type": "stream",
     "text": [
      "Epoch 1438: 0batch [00:00, ?batch/s, loss=2.16e+3]"
     ]
    },
    {
     "name": "stdout",
     "output_type": "stream",
     "text": [
      "epoch 1437: avg test  loss 2046.17, bar  test loss 15.056, len  test loss 0.934, col  test loss 180.067\n"
     ]
    },
    {
     "name": "stderr",
     "output_type": "stream",
     "text": [
      "Epoch 1438: 272batch [00:28,  9.46batch/s, loss=2.71e+3]\n"
     ]
    },
    {
     "name": "stdout",
     "output_type": "stream",
     "text": [
      "epoch 1438: avg train loss 2047.05, bar train loss 14.970, len train loss 0.948, col train loss 180.097\n"
     ]
    },
    {
     "name": "stderr",
     "output_type": "stream",
     "text": [
      "Epoch 1439: 1batch [00:00, 10.00batch/s, loss=2.15e+3]"
     ]
    },
    {
     "name": "stdout",
     "output_type": "stream",
     "text": [
      "epoch 1438: avg test  loss 2045.97, bar  test loss 15.056, len  test loss 0.934, col  test loss 180.046\n"
     ]
    },
    {
     "name": "stderr",
     "output_type": "stream",
     "text": [
      "Epoch 1439: 272batch [00:28,  9.42batch/s, loss=3.04e+3]\n"
     ]
    },
    {
     "name": "stdout",
     "output_type": "stream",
     "text": [
      "epoch 1439: avg train loss 2047.03, bar train loss 14.970, len train loss 0.948, col train loss 180.090\n"
     ]
    },
    {
     "name": "stderr",
     "output_type": "stream",
     "text": [
      "Epoch 1440: 0batch [00:00, ?batch/s, loss=2.02e+3]"
     ]
    },
    {
     "name": "stdout",
     "output_type": "stream",
     "text": [
      "epoch 1439: avg test  loss 2046.22, bar  test loss 15.056, len  test loss 0.934, col  test loss 180.073\n"
     ]
    },
    {
     "name": "stderr",
     "output_type": "stream",
     "text": [
      "Epoch 1440: 272batch [00:28,  9.46batch/s, loss=2.81e+3]\n"
     ]
    },
    {
     "name": "stdout",
     "output_type": "stream",
     "text": [
      "epoch 1440: avg train loss 2046.96, bar train loss 14.969, len train loss 0.948, col train loss 180.094\n",
      "epoch 1440: avg test  loss 2045.98, bar  test loss 15.056, len  test loss 0.934, col  test loss 180.052\n"
     ]
    },
    {
     "name": "stderr",
     "output_type": "stream",
     "text": [
      "Epoch 1441: 272batch [00:28,  9.47batch/s, loss=2.7e+3] \n"
     ]
    },
    {
     "name": "stdout",
     "output_type": "stream",
     "text": [
      "epoch 1441: avg train loss 2046.77, bar train loss 14.968, len train loss 0.947, col train loss 180.085\n"
     ]
    },
    {
     "name": "stderr",
     "output_type": "stream",
     "text": [
      "Epoch 1442: 0batch [00:00, ?batch/s, loss=2e+3]"
     ]
    },
    {
     "name": "stdout",
     "output_type": "stream",
     "text": [
      "epoch 1441: avg test  loss 2045.99, bar  test loss 15.056, len  test loss 0.934, col  test loss 180.057\n"
     ]
    },
    {
     "name": "stderr",
     "output_type": "stream",
     "text": [
      "Epoch 1442: 272batch [00:28,  9.47batch/s, loss=2.64e+3]\n"
     ]
    },
    {
     "name": "stdout",
     "output_type": "stream",
     "text": [
      "epoch 1442: avg train loss 2046.77, bar train loss 14.971, len train loss 0.946, col train loss 180.095\n"
     ]
    },
    {
     "name": "stderr",
     "output_type": "stream",
     "text": [
      "\r",
      "Epoch 1443: 0batch [00:00, ?batch/s]"
     ]
    },
    {
     "name": "stdout",
     "output_type": "stream",
     "text": [
      "epoch 1442: avg test  loss 2045.89, bar  test loss 15.056, len  test loss 0.934, col  test loss 180.055\n"
     ]
    },
    {
     "name": "stderr",
     "output_type": "stream",
     "text": [
      "Epoch 1443: 272batch [00:29,  9.26batch/s, loss=2.84e+3]\n"
     ]
    },
    {
     "name": "stdout",
     "output_type": "stream",
     "text": [
      "epoch 1443: avg train loss 2046.82, bar train loss 14.968, len train loss 0.948, col train loss 180.094\n"
     ]
    },
    {
     "name": "stderr",
     "output_type": "stream",
     "text": [
      "Epoch 1444: 0batch [00:00, ?batch/s, loss=1.94e+3]"
     ]
    },
    {
     "name": "stdout",
     "output_type": "stream",
     "text": [
      "epoch 1443: avg test  loss 2045.83, bar  test loss 15.056, len  test loss 0.934, col  test loss 180.051\n"
     ]
    },
    {
     "name": "stderr",
     "output_type": "stream",
     "text": [
      "Epoch 1444: 272batch [00:28,  9.46batch/s, loss=2.67e+3]\n"
     ]
    },
    {
     "name": "stdout",
     "output_type": "stream",
     "text": [
      "epoch 1444: avg train loss 2046.62, bar train loss 14.967, len train loss 0.947, col train loss 180.084\n"
     ]
    },
    {
     "name": "stderr",
     "output_type": "stream",
     "text": [
      "Epoch 1445: 0batch [00:00, ?batch/s, loss=2.09e+3]"
     ]
    },
    {
     "name": "stdout",
     "output_type": "stream",
     "text": [
      "epoch 1444: avg test  loss 2045.83, bar  test loss 15.056, len  test loss 0.934, col  test loss 180.054\n"
     ]
    },
    {
     "name": "stderr",
     "output_type": "stream",
     "text": [
      "Epoch 1445: 272batch [00:28,  9.42batch/s, loss=2.67e+3]\n"
     ]
    },
    {
     "name": "stdout",
     "output_type": "stream",
     "text": [
      "epoch 1445: avg train loss 2046.53, bar train loss 14.970, len train loss 0.947, col train loss 180.079\n",
      "epoch 1445: avg test  loss 2045.67, bar  test loss 15.056, len  test loss 0.934, col  test loss 180.043\n"
     ]
    },
    {
     "name": "stderr",
     "output_type": "stream",
     "text": [
      "Epoch 1446: 272batch [00:28,  9.48batch/s, loss=3.01e+3]\n"
     ]
    },
    {
     "name": "stdout",
     "output_type": "stream",
     "text": [
      "epoch 1446: avg train loss 2046.68, bar train loss 14.973, len train loss 0.948, col train loss 180.084\n"
     ]
    },
    {
     "name": "stderr",
     "output_type": "stream",
     "text": [
      "Epoch 1447: 0batch [00:00, ?batch/s, loss=2e+3]"
     ]
    },
    {
     "name": "stdout",
     "output_type": "stream",
     "text": [
      "epoch 1446: avg test  loss 2045.76, bar  test loss 15.056, len  test loss 0.934, col  test loss 180.055\n"
     ]
    },
    {
     "name": "stderr",
     "output_type": "stream",
     "text": [
      "Epoch 1447: 272batch [00:29,  9.35batch/s, loss=2.8e+3] \n"
     ]
    },
    {
     "name": "stdout",
     "output_type": "stream",
     "text": [
      "epoch 1447: avg train loss 2046.45, bar train loss 14.970, len train loss 0.948, col train loss 180.073\n"
     ]
    },
    {
     "name": "stderr",
     "output_type": "stream",
     "text": [
      "Epoch 1448: 0batch [00:00, ?batch/s, loss=2.1e+3]"
     ]
    },
    {
     "name": "stdout",
     "output_type": "stream",
     "text": [
      "epoch 1447: avg test  loss 2045.61, bar  test loss 15.056, len  test loss 0.934, col  test loss 180.049\n"
     ]
    },
    {
     "name": "stderr",
     "output_type": "stream",
     "text": [
      "Epoch 1448: 272batch [00:28,  9.39batch/s, loss=2.82e+3]\n"
     ]
    },
    {
     "name": "stdout",
     "output_type": "stream",
     "text": [
      "epoch 1448: avg train loss 2046.36, bar train loss 14.970, len train loss 0.948, col train loss 180.066\n"
     ]
    },
    {
     "name": "stderr",
     "output_type": "stream",
     "text": [
      "Epoch 1449: 1batch [00:00,  9.62batch/s, loss=2.04e+3]"
     ]
    },
    {
     "name": "stdout",
     "output_type": "stream",
     "text": [
      "epoch 1448: avg test  loss 2045.47, bar  test loss 15.056, len  test loss 0.934, col  test loss 180.037\n"
     ]
    },
    {
     "name": "stderr",
     "output_type": "stream",
     "text": [
      "Epoch 1449: 272batch [00:28,  9.38batch/s, loss=2.41e+3]\n"
     ]
    },
    {
     "name": "stdout",
     "output_type": "stream",
     "text": [
      "epoch 1449: avg train loss 2046.21, bar train loss 14.966, len train loss 0.946, col train loss 180.075\n"
     ]
    },
    {
     "name": "stderr",
     "output_type": "stream",
     "text": [
      "Epoch 1450: 1batch [00:00,  9.62batch/s, loss=2.02e+3]"
     ]
    },
    {
     "name": "stdout",
     "output_type": "stream",
     "text": [
      "epoch 1449: avg test  loss 2045.51, bar  test loss 15.056, len  test loss 0.934, col  test loss 180.049\n"
     ]
    },
    {
     "name": "stderr",
     "output_type": "stream",
     "text": [
      "Epoch 1450: 272batch [00:29,  9.35batch/s, loss=2.75e+3]\n"
     ]
    },
    {
     "name": "stdout",
     "output_type": "stream",
     "text": [
      "epoch 1450: avg train loss 2046.35, bar train loss 14.965, len train loss 0.948, col train loss 180.083\n",
      "epoch 1450: avg test  loss 2045.25, bar  test loss 15.056, len  test loss 0.934, col  test loss 180.025\n"
     ]
    },
    {
     "name": "stderr",
     "output_type": "stream",
     "text": [
      "Epoch 1451: 272batch [00:29,  9.37batch/s, loss=2.55e+3]\n"
     ]
    },
    {
     "name": "stdout",
     "output_type": "stream",
     "text": [
      "epoch 1451: avg train loss 2046.15, bar train loss 14.968, len train loss 0.947, col train loss 180.074\n"
     ]
    },
    {
     "name": "stderr",
     "output_type": "stream",
     "text": [
      "Epoch 1452: 0batch [00:00, ?batch/s, loss=2.05e+3]"
     ]
    },
    {
     "name": "stdout",
     "output_type": "stream",
     "text": [
      "epoch 1451: avg test  loss 2045.39, bar  test loss 15.056, len  test loss 0.934, col  test loss 180.047\n"
     ]
    },
    {
     "name": "stderr",
     "output_type": "stream",
     "text": [
      "Epoch 1452: 272batch [00:29,  9.37batch/s, loss=2.53e+3]\n"
     ]
    },
    {
     "name": "stdout",
     "output_type": "stream",
     "text": [
      "epoch 1452: avg train loss 2046.00, bar train loss 14.967, len train loss 0.947, col train loss 180.065\n"
     ]
    },
    {
     "name": "stderr",
     "output_type": "stream",
     "text": [
      "Epoch 1453: 0batch [00:00, ?batch/s, loss=2.02e+3]"
     ]
    },
    {
     "name": "stdout",
     "output_type": "stream",
     "text": [
      "epoch 1452: avg test  loss 2044.95, bar  test loss 15.056, len  test loss 0.934, col  test loss 180.013\n"
     ]
    },
    {
     "name": "stderr",
     "output_type": "stream",
     "text": [
      "Epoch 1453: 272batch [00:29,  9.32batch/s, loss=2.61e+3]\n"
     ]
    },
    {
     "name": "stdout",
     "output_type": "stream",
     "text": [
      "epoch 1453: avg train loss 2045.93, bar train loss 14.965, len train loss 0.947, col train loss 180.070\n"
     ]
    },
    {
     "name": "stderr",
     "output_type": "stream",
     "text": [
      "Epoch 1454: 1batch [00:00,  8.62batch/s, loss=2.05e+3]"
     ]
    },
    {
     "name": "stdout",
     "output_type": "stream",
     "text": [
      "epoch 1453: avg test  loss 2045.14, bar  test loss 15.056, len  test loss 0.934, col  test loss 180.034\n"
     ]
    },
    {
     "name": "stderr",
     "output_type": "stream",
     "text": [
      "Epoch 1454: 272batch [00:29,  9.31batch/s, loss=2.69e+3]\n"
     ]
    },
    {
     "name": "stdout",
     "output_type": "stream",
     "text": [
      "epoch 1454: avg train loss 2045.80, bar train loss 14.971, len train loss 0.947, col train loss 180.054\n"
     ]
    },
    {
     "name": "stderr",
     "output_type": "stream",
     "text": [
      "Epoch 1455: 0batch [00:00, ?batch/s, loss=2.08e+3]"
     ]
    },
    {
     "name": "stdout",
     "output_type": "stream",
     "text": [
      "epoch 1454: avg test  loss 2044.91, bar  test loss 15.056, len  test loss 0.934, col  test loss 180.020\n"
     ]
    },
    {
     "name": "stderr",
     "output_type": "stream",
     "text": [
      "Epoch 1455: 272batch [00:29,  9.30batch/s, loss=2.96e+3]\n"
     ]
    },
    {
     "name": "stdout",
     "output_type": "stream",
     "text": [
      "epoch 1455: avg train loss 2045.88, bar train loss 14.971, len train loss 0.948, col train loss 180.062\n",
      "epoch 1455: avg test  loss 2044.85, bar  test loss 15.056, len  test loss 0.934, col  test loss 180.020\n"
     ]
    },
    {
     "name": "stderr",
     "output_type": "stream",
     "text": [
      "Epoch 1456: 272batch [00:29,  9.29batch/s, loss=3.1e+3] \n"
     ]
    },
    {
     "name": "stdout",
     "output_type": "stream",
     "text": [
      "epoch 1456: avg train loss 2045.73, bar train loss 14.977, len train loss 0.948, col train loss 180.048\n"
     ]
    },
    {
     "name": "stderr",
     "output_type": "stream",
     "text": [
      "Epoch 1457: 0batch [00:00, ?batch/s, loss=1.96e+3]"
     ]
    },
    {
     "name": "stdout",
     "output_type": "stream",
     "text": [
      "epoch 1456: avg test  loss 2044.73, bar  test loss 15.056, len  test loss 0.934, col  test loss 180.017\n"
     ]
    },
    {
     "name": "stderr",
     "output_type": "stream",
     "text": [
      "Epoch 1457: 272batch [00:29,  9.31batch/s, loss=2.55e+3]\n"
     ]
    },
    {
     "name": "stdout",
     "output_type": "stream",
     "text": [
      "epoch 1457: avg train loss 2045.34, bar train loss 14.966, len train loss 0.947, col train loss 180.040\n"
     ]
    },
    {
     "name": "stderr",
     "output_type": "stream",
     "text": [
      "Epoch 1458: 1batch [00:00,  9.71batch/s, loss=1.97e+3]"
     ]
    },
    {
     "name": "stdout",
     "output_type": "stream",
     "text": [
      "epoch 1457: avg test  loss 2044.78, bar  test loss 15.056, len  test loss 0.934, col  test loss 180.028\n"
     ]
    },
    {
     "name": "stderr",
     "output_type": "stream",
     "text": [
      "Epoch 1458: 272batch [00:29,  9.25batch/s, loss=2.6e+3] \n"
     ]
    },
    {
     "name": "stdout",
     "output_type": "stream",
     "text": [
      "epoch 1458: avg train loss 2045.16, bar train loss 14.970, len train loss 0.946, col train loss 180.027\n"
     ]
    },
    {
     "name": "stderr",
     "output_type": "stream",
     "text": [
      "Epoch 1459: 1batch [00:00,  9.90batch/s, loss=2.04e+3]"
     ]
    },
    {
     "name": "stdout",
     "output_type": "stream",
     "text": [
      "epoch 1458: avg test  loss 2044.15, bar  test loss 15.056, len  test loss 0.934, col  test loss 179.973\n"
     ]
    },
    {
     "name": "stderr",
     "output_type": "stream",
     "text": [
      "Epoch 1459: 272batch [00:29,  9.29batch/s, loss=2.61e+3]\n"
     ]
    },
    {
     "name": "stdout",
     "output_type": "stream",
     "text": [
      "epoch 1459: avg train loss 2043.86, bar train loss 14.967, len train loss 0.947, col train loss 179.909\n"
     ]
    },
    {
     "name": "stderr",
     "output_type": "stream",
     "text": [
      "Epoch 1460: 1batch [00:00,  9.35batch/s, loss=2.08e+3]"
     ]
    },
    {
     "name": "stdout",
     "output_type": "stream",
     "text": [
      "epoch 1459: avg test  loss 2042.59, bar  test loss 15.056, len  test loss 0.934, col  test loss 179.833\n"
     ]
    },
    {
     "name": "stderr",
     "output_type": "stream",
     "text": [
      "Epoch 1460: 272batch [00:29,  9.21batch/s, loss=2.73e+3]\n"
     ]
    },
    {
     "name": "stdout",
     "output_type": "stream",
     "text": [
      "epoch 1460: avg train loss 2043.75, bar train loss 14.970, len train loss 0.947, col train loss 179.899\n",
      "epoch 1460: avg test  loss 2042.42, bar  test loss 15.056, len  test loss 0.934, col  test loss 179.823\n"
     ]
    },
    {
     "name": "stderr",
     "output_type": "stream",
     "text": [
      "Epoch 1461: 272batch [00:29,  9.29batch/s, loss=2.63e+3]\n"
     ]
    },
    {
     "name": "stdout",
     "output_type": "stream",
     "text": [
      "epoch 1461: avg train loss 2042.59, bar train loss 14.967, len train loss 0.946, col train loss 179.756\n"
     ]
    },
    {
     "name": "stderr",
     "output_type": "stream",
     "text": [
      "Epoch 1462: 1batch [00:00,  9.90batch/s, loss=2.08e+3]"
     ]
    },
    {
     "name": "stdout",
     "output_type": "stream",
     "text": [
      "epoch 1461: avg test  loss 2041.45, bar  test loss 15.056, len  test loss 0.934, col  test loss 179.673\n"
     ]
    },
    {
     "name": "stderr",
     "output_type": "stream",
     "text": [
      "Epoch 1462: 272batch [00:29,  9.28batch/s, loss=2.48e+3]\n"
     ]
    },
    {
     "name": "stdout",
     "output_type": "stream",
     "text": [
      "epoch 1462: avg train loss 2042.45, bar train loss 14.965, len train loss 0.947, col train loss 179.738\n"
     ]
    },
    {
     "name": "stderr",
     "output_type": "stream",
     "text": [
      "Epoch 1463: 1batch [00:00,  9.90batch/s, loss=2.01e+3]"
     ]
    },
    {
     "name": "stdout",
     "output_type": "stream",
     "text": [
      "epoch 1462: avg test  loss 2041.21, bar  test loss 15.056, len  test loss 0.934, col  test loss 179.660\n"
     ]
    },
    {
     "name": "stderr",
     "output_type": "stream",
     "text": [
      "Epoch 1463: 272batch [00:29,  9.24batch/s, loss=2.77e+3]\n"
     ]
    },
    {
     "name": "stdout",
     "output_type": "stream",
     "text": [
      "epoch 1463: avg train loss 2042.28, bar train loss 14.963, len train loss 0.948, col train loss 179.723\n"
     ]
    },
    {
     "name": "stderr",
     "output_type": "stream",
     "text": [
      "Epoch 1464: 1batch [00:00,  9.71batch/s, loss=2.08e+3]"
     ]
    },
    {
     "name": "stdout",
     "output_type": "stream",
     "text": [
      "epoch 1463: avg test  loss 2040.98, bar  test loss 15.056, len  test loss 0.934, col  test loss 179.649\n"
     ]
    },
    {
     "name": "stderr",
     "output_type": "stream",
     "text": [
      "Epoch 1464: 272batch [00:29,  9.26batch/s, loss=2.4e+3] \n"
     ]
    },
    {
     "name": "stdout",
     "output_type": "stream",
     "text": [
      "epoch 1464: avg train loss 2042.23, bar train loss 14.964, len train loss 0.947, col train loss 179.739\n"
     ]
    },
    {
     "name": "stderr",
     "output_type": "stream",
     "text": [
      "Epoch 1465: 1batch [00:00,  7.58batch/s, loss=1.96e+3]"
     ]
    },
    {
     "name": "stdout",
     "output_type": "stream",
     "text": [
      "epoch 1464: avg test  loss 2041.29, bar  test loss 15.056, len  test loss 0.934, col  test loss 179.689\n"
     ]
    },
    {
     "name": "stderr",
     "output_type": "stream",
     "text": [
      "Epoch 1465: 272batch [00:29,  9.07batch/s, loss=2.67e+3]\n"
     ]
    },
    {
     "name": "stdout",
     "output_type": "stream",
     "text": [
      "epoch 1465: avg train loss 2042.20, bar train loss 14.969, len train loss 0.947, col train loss 179.738\n",
      "epoch 1465: avg test  loss 2041.14, bar  test loss 15.056, len  test loss 0.934, col  test loss 179.684\n"
     ]
    },
    {
     "name": "stderr",
     "output_type": "stream",
     "text": [
      "Epoch 1466: 272batch [00:29,  9.19batch/s, loss=2.56e+3]\n"
     ]
    },
    {
     "name": "stdout",
     "output_type": "stream",
     "text": [
      "epoch 1466: avg train loss 2042.32, bar train loss 14.966, len train loss 0.946, col train loss 179.765\n"
     ]
    },
    {
     "name": "stderr",
     "output_type": "stream",
     "text": [
      "\r",
      "Epoch 1467: 0batch [00:00, ?batch/s]"
     ]
    },
    {
     "name": "stdout",
     "output_type": "stream",
     "text": [
      "epoch 1466: avg test  loss 2041.47, bar  test loss 15.056, len  test loss 0.934, col  test loss 179.725\n"
     ]
    },
    {
     "name": "stderr",
     "output_type": "stream",
     "text": [
      "Epoch 1467: 272batch [00:29,  9.24batch/s, loss=3.01e+3]\n"
     ]
    },
    {
     "name": "stdout",
     "output_type": "stream",
     "text": [
      "epoch 1467: avg train loss 2042.49, bar train loss 14.970, len train loss 0.948, col train loss 179.770\n"
     ]
    },
    {
     "name": "stderr",
     "output_type": "stream",
     "text": [
      "Epoch 1468: 0batch [00:00, ?batch/s, loss=2.11e+3]"
     ]
    },
    {
     "name": "stdout",
     "output_type": "stream",
     "text": [
      "epoch 1467: avg test  loss 2041.30, bar  test loss 15.056, len  test loss 0.934, col  test loss 179.714\n"
     ]
    },
    {
     "name": "stderr",
     "output_type": "stream",
     "text": [
      "Epoch 1468: 272batch [00:29,  9.24batch/s, loss=2.97e+3]\n"
     ]
    },
    {
     "name": "stdout",
     "output_type": "stream",
     "text": [
      "epoch 1468: avg train loss 2042.63, bar train loss 14.974, len train loss 0.948, col train loss 179.791\n"
     ]
    },
    {
     "name": "stderr",
     "output_type": "stream",
     "text": [
      "Epoch 1469: 0batch [00:00, ?batch/s, loss=2.02e+3]"
     ]
    },
    {
     "name": "stdout",
     "output_type": "stream",
     "text": [
      "epoch 1468: avg test  loss 2041.43, bar  test loss 15.056, len  test loss 0.934, col  test loss 179.734\n"
     ]
    },
    {
     "name": "stderr",
     "output_type": "stream",
     "text": [
      "Epoch 1469: 272batch [00:29,  9.25batch/s, loss=2.64e+3]\n"
     ]
    },
    {
     "name": "stdout",
     "output_type": "stream",
     "text": [
      "epoch 1469: avg train loss 2042.31, bar train loss 14.968, len train loss 0.947, col train loss 179.772\n"
     ]
    },
    {
     "name": "stderr",
     "output_type": "stream",
     "text": [
      "Epoch 1470: 1batch [00:00,  9.80batch/s, loss=2.07e+3]"
     ]
    },
    {
     "name": "stdout",
     "output_type": "stream",
     "text": [
      "epoch 1469: avg test  loss 2041.13, bar  test loss 15.056, len  test loss 0.934, col  test loss 179.684\n"
     ]
    },
    {
     "name": "stderr",
     "output_type": "stream",
     "text": [
      "Epoch 1470: 272batch [00:29,  9.19batch/s, loss=3.01e+3]\n"
     ]
    },
    {
     "name": "stdout",
     "output_type": "stream",
     "text": [
      "epoch 1470: avg train loss 2042.50, bar train loss 14.969, len train loss 0.948, col train loss 179.765\n",
      "epoch 1470: avg test  loss 2041.46, bar  test loss 15.056, len  test loss 0.934, col  test loss 179.726\n"
     ]
    },
    {
     "name": "stderr",
     "output_type": "stream",
     "text": [
      "Epoch 1471: 272batch [00:29,  9.14batch/s, loss=2.74e+3]\n"
     ]
    },
    {
     "name": "stdout",
     "output_type": "stream",
     "text": [
      "epoch 1471: avg train loss 2043.82, bar train loss 14.967, len train loss 0.948, col train loss 179.892\n"
     ]
    },
    {
     "name": "stderr",
     "output_type": "stream",
     "text": [
      "Epoch 1472: 1batch [00:00,  9.90batch/s, loss=2.1e+3]"
     ]
    },
    {
     "name": "stdout",
     "output_type": "stream",
     "text": [
      "epoch 1471: avg test  loss 2044.28, bar  test loss 15.056, len  test loss 0.934, col  test loss 179.970\n"
     ]
    },
    {
     "name": "stderr",
     "output_type": "stream",
     "text": [
      "Epoch 1472: 272batch [00:29,  9.18batch/s, loss=2.62e+3]\n"
     ]
    },
    {
     "name": "stdout",
     "output_type": "stream",
     "text": [
      "epoch 1472: avg train loss 2045.08, bar train loss 14.971, len train loss 0.946, col train loss 180.009\n"
     ]
    },
    {
     "name": "stderr",
     "output_type": "stream",
     "text": [
      "Epoch 1473: 0batch [00:00, ?batch/s, loss=1.93e+3]"
     ]
    },
    {
     "name": "stdout",
     "output_type": "stream",
     "text": [
      "epoch 1472: avg test  loss 2042.90, bar  test loss 15.056, len  test loss 0.934, col  test loss 179.790\n"
     ]
    },
    {
     "name": "stderr",
     "output_type": "stream",
     "text": [
      "Epoch 1473: 272batch [00:29,  9.23batch/s, loss=2.71e+3]\n"
     ]
    },
    {
     "name": "stdout",
     "output_type": "stream",
     "text": [
      "epoch 1473: avg train loss 2043.85, bar train loss 14.970, len train loss 0.947, col train loss 179.837\n"
     ]
    },
    {
     "name": "stderr",
     "output_type": "stream",
     "text": [
      "Epoch 1474: 0batch [00:00, ?batch/s, loss=2.03e+3]"
     ]
    },
    {
     "name": "stdout",
     "output_type": "stream",
     "text": [
      "epoch 1473: avg test  loss 2042.73, bar  test loss 15.056, len  test loss 0.934, col  test loss 179.782\n"
     ]
    },
    {
     "name": "stderr",
     "output_type": "stream",
     "text": [
      "Epoch 1474: 272batch [00:29,  9.19batch/s, loss=2.55e+3]\n"
     ]
    },
    {
     "name": "stdout",
     "output_type": "stream",
     "text": [
      "epoch 1474: avg train loss 2046.87, bar train loss 15.299, len train loss 0.946, col train loss 179.817\n"
     ]
    },
    {
     "name": "stderr",
     "output_type": "stream",
     "text": [
      "Epoch 1475: 1batch [00:00,  9.43batch/s, loss=2.04e+3]"
     ]
    },
    {
     "name": "stdout",
     "output_type": "stream",
     "text": [
      "epoch 1474: avg test  loss 2042.77, bar  test loss 15.056, len  test loss 0.934, col  test loss 179.766\n"
     ]
    },
    {
     "name": "stderr",
     "output_type": "stream",
     "text": [
      "Epoch 1475: 272batch [00:29,  9.16batch/s, loss=3.02e+3]\n"
     ]
    },
    {
     "name": "stdout",
     "output_type": "stream",
     "text": [
      "epoch 1475: avg train loss 2045.77, bar train loss 14.973, len train loss 0.948, col train loss 179.970\n",
      "epoch 1475: avg test  loss 2044.51, bar  test loss 15.056, len  test loss 0.934, col  test loss 179.897\n"
     ]
    },
    {
     "name": "stderr",
     "output_type": "stream",
     "text": [
      "Epoch 1476: 272batch [00:29,  9.22batch/s, loss=2.69e+3]\n"
     ]
    },
    {
     "name": "stdout",
     "output_type": "stream",
     "text": [
      "epoch 1476: avg train loss 2045.47, bar train loss 14.974, len train loss 0.946, col train loss 179.949\n"
     ]
    },
    {
     "name": "stderr",
     "output_type": "stream",
     "text": [
      "Epoch 1477: 1batch [00:00,  9.09batch/s, loss=2.08e+3]"
     ]
    },
    {
     "name": "stdout",
     "output_type": "stream",
     "text": [
      "epoch 1476: avg test  loss 2044.68, bar  test loss 15.056, len  test loss 0.934, col  test loss 179.916\n"
     ]
    },
    {
     "name": "stderr",
     "output_type": "stream",
     "text": [
      "Epoch 1477: 272batch [00:29,  9.15batch/s, loss=2.4e+3] \n"
     ]
    },
    {
     "name": "stdout",
     "output_type": "stream",
     "text": [
      "epoch 1477: avg train loss 2045.41, bar train loss 14.965, len train loss 0.946, col train loss 179.959\n"
     ]
    },
    {
     "name": "stderr",
     "output_type": "stream",
     "text": [
      "Epoch 1478: 0batch [00:00, ?batch/s, loss=2.07e+3]"
     ]
    },
    {
     "name": "stdout",
     "output_type": "stream",
     "text": [
      "epoch 1477: avg test  loss 2044.90, bar  test loss 15.056, len  test loss 0.934, col  test loss 179.938\n"
     ]
    },
    {
     "name": "stderr",
     "output_type": "stream",
     "text": [
      "Epoch 1478: 272batch [00:29,  9.14batch/s, loss=2.69e+3]\n"
     ]
    },
    {
     "name": "stdout",
     "output_type": "stream",
     "text": [
      "epoch 1478: avg train loss 2045.86, bar train loss 14.968, len train loss 0.947, col train loss 179.987\n"
     ]
    },
    {
     "name": "stderr",
     "output_type": "stream",
     "text": [
      "Epoch 1479: 1batch [00:00,  9.43batch/s, loss=2.01e+3]"
     ]
    },
    {
     "name": "stdout",
     "output_type": "stream",
     "text": [
      "epoch 1478: avg test  loss 2044.65, bar  test loss 15.056, len  test loss 0.934, col  test loss 179.915\n"
     ]
    },
    {
     "name": "stderr",
     "output_type": "stream",
     "text": [
      "Epoch 1479: 272batch [00:29,  9.14batch/s, loss=2.82e+3]\n"
     ]
    },
    {
     "name": "stdout",
     "output_type": "stream",
     "text": [
      "epoch 1479: avg train loss 2045.41, bar train loss 14.966, len train loss 0.947, col train loss 179.939\n"
     ]
    },
    {
     "name": "stderr",
     "output_type": "stream",
     "text": [
      "Epoch 1480: 1batch [00:00,  9.52batch/s, loss=2.01e+3]"
     ]
    },
    {
     "name": "stdout",
     "output_type": "stream",
     "text": [
      "epoch 1479: avg test  loss 2044.70, bar  test loss 15.056, len  test loss 0.934, col  test loss 179.919\n"
     ]
    },
    {
     "name": "stderr",
     "output_type": "stream",
     "text": [
      "Epoch 1480: 272batch [00:29,  9.12batch/s, loss=2.58e+3]\n"
     ]
    },
    {
     "name": "stdout",
     "output_type": "stream",
     "text": [
      "epoch 1480: avg train loss 2045.48, bar train loss 14.965, len train loss 0.947, col train loss 179.953\n",
      "epoch 1480: avg test  loss 2044.90, bar  test loss 15.056, len  test loss 0.934, col  test loss 179.940\n"
     ]
    },
    {
     "name": "stderr",
     "output_type": "stream",
     "text": [
      "Epoch 1481: 272batch [00:29,  9.11batch/s, loss=2.68e+3]\n"
     ]
    },
    {
     "name": "stdout",
     "output_type": "stream",
     "text": [
      "epoch 1481: avg train loss 2045.59, bar train loss 14.964, len train loss 0.948, col train loss 179.961\n"
     ]
    },
    {
     "name": "stderr",
     "output_type": "stream",
     "text": [
      "Epoch 1482: 0batch [00:00, ?batch/s, loss=2e+3]"
     ]
    },
    {
     "name": "stdout",
     "output_type": "stream",
     "text": [
      "epoch 1481: avg test  loss 2044.75, bar  test loss 15.056, len  test loss 0.934, col  test loss 179.926\n"
     ]
    },
    {
     "name": "stderr",
     "output_type": "stream",
     "text": [
      "Epoch 1482: 272batch [00:29,  9.09batch/s, loss=2.8e+3] \n"
     ]
    },
    {
     "name": "stdout",
     "output_type": "stream",
     "text": [
      "epoch 1482: avg train loss 2047.36, bar train loss 14.966, len train loss 0.948, col train loss 180.076\n"
     ]
    },
    {
     "name": "stderr",
     "output_type": "stream",
     "text": [
      "Epoch 1483: 1batch [00:00,  9.43batch/s, loss=2.01e+3]"
     ]
    },
    {
     "name": "stdout",
     "output_type": "stream",
     "text": [
      "epoch 1482: avg test  loss 2047.82, bar  test loss 15.056, len  test loss 0.934, col  test loss 180.114\n"
     ]
    },
    {
     "name": "stderr",
     "output_type": "stream",
     "text": [
      "Epoch 1483: 272batch [00:29,  9.14batch/s, loss=2.99e+3]\n"
     ]
    },
    {
     "name": "stdout",
     "output_type": "stream",
     "text": [
      "epoch 1483: avg train loss 2048.96, bar train loss 14.970, len train loss 0.948, col train loss 180.166\n"
     ]
    },
    {
     "name": "stderr",
     "output_type": "stream",
     "text": [
      "Epoch 1484: 1batch [00:00,  8.47batch/s, loss=2.02e+3]"
     ]
    },
    {
     "name": "stdout",
     "output_type": "stream",
     "text": [
      "epoch 1483: avg test  loss 2047.90, bar  test loss 15.056, len  test loss 0.934, col  test loss 180.124\n"
     ]
    },
    {
     "name": "stderr",
     "output_type": "stream",
     "text": [
      "Epoch 1484: 272batch [00:30,  9.04batch/s, loss=2.67e+3]\n"
     ]
    },
    {
     "name": "stdout",
     "output_type": "stream",
     "text": [
      "epoch 1484: avg train loss 2048.73, bar train loss 14.970, len train loss 0.947, col train loss 180.160\n"
     ]
    },
    {
     "name": "stderr",
     "output_type": "stream",
     "text": [
      "Epoch 1485: 1batch [00:00,  9.35batch/s, loss=2.09e+3]"
     ]
    },
    {
     "name": "stdout",
     "output_type": "stream",
     "text": [
      "epoch 1484: avg test  loss 2048.18, bar  test loss 15.056, len  test loss 0.934, col  test loss 180.151\n"
     ]
    },
    {
     "name": "stderr",
     "output_type": "stream",
     "text": [
      "Epoch 1485: 272batch [00:29,  9.14batch/s, loss=2.86e+3]\n"
     ]
    },
    {
     "name": "stdout",
     "output_type": "stream",
     "text": [
      "epoch 1485: avg train loss 2048.71, bar train loss 14.966, len train loss 0.948, col train loss 180.152\n",
      "epoch 1485: avg test  loss 2048.02, bar  test loss 15.056, len  test loss 0.934, col  test loss 180.136\n"
     ]
    },
    {
     "name": "stderr",
     "output_type": "stream",
     "text": [
      "Epoch 1486: 272batch [00:29,  9.08batch/s, loss=2.38e+3]\n"
     ]
    },
    {
     "name": "stdout",
     "output_type": "stream",
     "text": [
      "epoch 1486: avg train loss 2048.77, bar train loss 14.963, len train loss 0.946, col train loss 180.172\n"
     ]
    },
    {
     "name": "stderr",
     "output_type": "stream",
     "text": [
      "Epoch 1487: 1batch [00:00,  9.52batch/s, loss=2.06e+3]"
     ]
    },
    {
     "name": "stdout",
     "output_type": "stream",
     "text": [
      "epoch 1486: avg test  loss 2048.48, bar  test loss 15.056, len  test loss 0.934, col  test loss 180.166\n"
     ]
    },
    {
     "name": "stderr",
     "output_type": "stream",
     "text": [
      "Epoch 1487: 272batch [00:30,  9.06batch/s, loss=2.64e+3]\n"
     ]
    },
    {
     "name": "stdout",
     "output_type": "stream",
     "text": [
      "epoch 1487: avg train loss 2049.02, bar train loss 14.971, len train loss 0.947, col train loss 180.174\n"
     ]
    },
    {
     "name": "stderr",
     "output_type": "stream",
     "text": [
      "Epoch 1488: 1batch [00:00,  9.17batch/s, loss=2.04e+3]"
     ]
    },
    {
     "name": "stdout",
     "output_type": "stream",
     "text": [
      "epoch 1487: avg test  loss 2048.39, bar  test loss 15.056, len  test loss 0.934, col  test loss 180.161\n"
     ]
    },
    {
     "name": "stderr",
     "output_type": "stream",
     "text": [
      "Epoch 1488: 272batch [00:29,  9.08batch/s, loss=2.75e+3]\n"
     ]
    },
    {
     "name": "stdout",
     "output_type": "stream",
     "text": [
      "epoch 1488: avg train loss 2049.10, bar train loss 14.974, len train loss 0.947, col train loss 180.180\n"
     ]
    },
    {
     "name": "stderr",
     "output_type": "stream",
     "text": [
      "Epoch 1489: 1batch [00:00,  8.93batch/s, loss=2.17e+3]"
     ]
    },
    {
     "name": "stdout",
     "output_type": "stream",
     "text": [
      "epoch 1488: avg test  loss 2048.33, bar  test loss 15.056, len  test loss 0.934, col  test loss 180.156\n"
     ]
    },
    {
     "name": "stderr",
     "output_type": "stream",
     "text": [
      "Epoch 1489: 272batch [00:30,  9.04batch/s, loss=2.68e+3]\n"
     ]
    },
    {
     "name": "stdout",
     "output_type": "stream",
     "text": [
      "epoch 1489: avg train loss 2049.07, bar train loss 14.969, len train loss 0.947, col train loss 180.181\n"
     ]
    },
    {
     "name": "stderr",
     "output_type": "stream",
     "text": [
      "Epoch 1490: 1batch [00:00,  9.62batch/s, loss=1.95e+3]"
     ]
    },
    {
     "name": "stdout",
     "output_type": "stream",
     "text": [
      "epoch 1489: avg test  loss 2048.31, bar  test loss 15.056, len  test loss 0.934, col  test loss 180.152\n"
     ]
    },
    {
     "name": "stderr",
     "output_type": "stream",
     "text": [
      "Epoch 1490: 272batch [00:30,  9.06batch/s, loss=2.78e+3]\n"
     ]
    },
    {
     "name": "stdout",
     "output_type": "stream",
     "text": [
      "epoch 1490: avg train loss 2049.12, bar train loss 14.971, len train loss 0.947, col train loss 180.179\n",
      "epoch 1490: avg test  loss 2048.46, bar  test loss 15.056, len  test loss 0.934, col  test loss 180.171\n"
     ]
    },
    {
     "name": "stderr",
     "output_type": "stream",
     "text": [
      "Epoch 1491: 272batch [00:30,  9.00batch/s, loss=2.74e+3]\n"
     ]
    },
    {
     "name": "stdout",
     "output_type": "stream",
     "text": [
      "epoch 1491: avg train loss 2049.10, bar train loss 14.966, len train loss 0.948, col train loss 180.184\n"
     ]
    },
    {
     "name": "stderr",
     "output_type": "stream",
     "text": [
      "Epoch 1492: 1batch [00:00, 10.00batch/s, loss=2.12e+3]"
     ]
    },
    {
     "name": "stdout",
     "output_type": "stream",
     "text": [
      "epoch 1491: avg test  loss 2048.42, bar  test loss 15.056, len  test loss 0.934, col  test loss 180.167\n"
     ]
    },
    {
     "name": "stderr",
     "output_type": "stream",
     "text": [
      "Epoch 1492: 272batch [00:30,  9.04batch/s, loss=2.9e+3] \n"
     ]
    },
    {
     "name": "stdout",
     "output_type": "stream",
     "text": [
      "epoch 1492: avg train loss 2049.04, bar train loss 14.970, len train loss 0.947, col train loss 180.179\n"
     ]
    },
    {
     "name": "stderr",
     "output_type": "stream",
     "text": [
      "Epoch 1493: 1batch [00:00,  9.35batch/s, loss=2061.75]"
     ]
    },
    {
     "name": "stdout",
     "output_type": "stream",
     "text": [
      "epoch 1492: avg test  loss 2048.22, bar  test loss 15.056, len  test loss 0.934, col  test loss 180.153\n"
     ]
    },
    {
     "name": "stderr",
     "output_type": "stream",
     "text": [
      "Epoch 1493: 272batch [00:30,  9.05batch/s, loss=2.84e+3]\n"
     ]
    },
    {
     "name": "stdout",
     "output_type": "stream",
     "text": [
      "epoch 1493: avg train loss 2049.10, bar train loss 14.971, len train loss 0.948, col train loss 180.180\n"
     ]
    },
    {
     "name": "stderr",
     "output_type": "stream",
     "text": [
      "Epoch 1494: 0batch [00:00, ?batch/s, loss=2.03e+3]"
     ]
    },
    {
     "name": "stdout",
     "output_type": "stream",
     "text": [
      "epoch 1493: avg test  loss 2048.23, bar  test loss 15.056, len  test loss 0.934, col  test loss 180.153\n"
     ]
    },
    {
     "name": "stderr",
     "output_type": "stream",
     "text": [
      "Epoch 1494: 272batch [00:30,  9.03batch/s, loss=2.35e+3]\n"
     ]
    },
    {
     "name": "stdout",
     "output_type": "stream",
     "text": [
      "epoch 1494: avg train loss 2048.94, bar train loss 14.965, len train loss 0.946, col train loss 180.191\n"
     ]
    },
    {
     "name": "stderr",
     "output_type": "stream",
     "text": [
      "Epoch 1495: 1batch [00:00,  9.62batch/s, loss=1.98e+3]"
     ]
    },
    {
     "name": "stdout",
     "output_type": "stream",
     "text": [
      "epoch 1494: avg test  loss 2048.19, bar  test loss 15.056, len  test loss 0.934, col  test loss 180.155\n"
     ]
    },
    {
     "name": "stderr",
     "output_type": "stream",
     "text": [
      "Epoch 1495: 272batch [00:30,  9.02batch/s, loss=2.7e+3] \n"
     ]
    },
    {
     "name": "stdout",
     "output_type": "stream",
     "text": [
      "epoch 1495: avg train loss 2048.98, bar train loss 14.972, len train loss 0.947, col train loss 180.185\n",
      "epoch 1495: avg test  loss 2048.36, bar  test loss 15.056, len  test loss 0.934, col  test loss 180.172\n"
     ]
    },
    {
     "name": "stderr",
     "output_type": "stream",
     "text": [
      "Epoch 1496: 272batch [00:30,  8.92batch/s, loss=2.44e+3]\n"
     ]
    },
    {
     "name": "stdout",
     "output_type": "stream",
     "text": [
      "epoch 1496: avg train loss 2049.00, bar train loss 14.972, len train loss 0.946, col train loss 180.193\n"
     ]
    },
    {
     "name": "stderr",
     "output_type": "stream",
     "text": [
      "Epoch 1497: 1batch [00:00,  9.62batch/s, loss=1.95e+3]"
     ]
    },
    {
     "name": "stdout",
     "output_type": "stream",
     "text": [
      "epoch 1496: avg test  loss 2048.26, bar  test loss 15.056, len  test loss 0.934, col  test loss 180.162\n"
     ]
    },
    {
     "name": "stderr",
     "output_type": "stream",
     "text": [
      "Epoch 1497: 272batch [00:30,  8.96batch/s, loss=2.68e+3]\n"
     ]
    },
    {
     "name": "stdout",
     "output_type": "stream",
     "text": [
      "epoch 1497: avg train loss 2048.88, bar train loss 14.969, len train loss 0.947, col train loss 180.185\n"
     ]
    },
    {
     "name": "stderr",
     "output_type": "stream",
     "text": [
      "Epoch 1498: 1batch [00:00,  9.52batch/s, loss=2.05e+3]"
     ]
    },
    {
     "name": "stdout",
     "output_type": "stream",
     "text": [
      "epoch 1497: avg test  loss 2048.05, bar  test loss 15.056, len  test loss 0.934, col  test loss 180.146\n"
     ]
    },
    {
     "name": "stderr",
     "output_type": "stream",
     "text": [
      "Epoch 1498: 272batch [00:30,  8.97batch/s, loss=2.77e+3]\n"
     ]
    },
    {
     "name": "stdout",
     "output_type": "stream",
     "text": [
      "epoch 1498: avg train loss 2048.90, bar train loss 14.966, len train loss 0.948, col train loss 180.180\n"
     ]
    },
    {
     "name": "stderr",
     "output_type": "stream",
     "text": [
      "Epoch 1499: 1batch [00:00,  9.90batch/s, loss=1.99e+3]"
     ]
    },
    {
     "name": "stdout",
     "output_type": "stream",
     "text": [
      "epoch 1498: avg test  loss 2048.06, bar  test loss 15.056, len  test loss 0.934, col  test loss 180.152\n"
     ]
    },
    {
     "name": "stderr",
     "output_type": "stream",
     "text": [
      "Epoch 1499: 272batch [00:30,  8.96batch/s, loss=2.63e+3]\n"
     ]
    },
    {
     "name": "stdout",
     "output_type": "stream",
     "text": [
      "epoch 1499: avg train loss 2048.71, bar train loss 14.966, len train loss 0.947, col train loss 180.173\n"
     ]
    },
    {
     "name": "stderr",
     "output_type": "stream",
     "text": [
      "Epoch 1500: 1batch [00:00,  9.90batch/s, loss=2.06e+3]"
     ]
    },
    {
     "name": "stdout",
     "output_type": "stream",
     "text": [
      "epoch 1499: avg test  loss 2047.98, bar  test loss 15.056, len  test loss 0.934, col  test loss 180.146\n"
     ]
    },
    {
     "name": "stderr",
     "output_type": "stream",
     "text": [
      "Epoch 1500: 272batch [00:30,  9.00batch/s, loss=2.63e+3]\n"
     ]
    },
    {
     "name": "stdout",
     "output_type": "stream",
     "text": [
      "epoch 1500: avg train loss 2048.75, bar train loss 14.968, len train loss 0.946, col train loss 180.187\n",
      "epoch 1500: avg test  loss 2047.78, bar  test loss 15.056, len  test loss 0.934, col  test loss 180.133\n"
     ]
    },
    {
     "name": "stderr",
     "output_type": "stream",
     "text": [
      "Epoch 1501: 272batch [00:30,  8.99batch/s, loss=2.63e+3]\n"
     ]
    },
    {
     "name": "stdout",
     "output_type": "stream",
     "text": [
      "epoch 1501: avg train loss 2048.62, bar train loss 14.970, len train loss 0.947, col train loss 180.172\n"
     ]
    },
    {
     "name": "stderr",
     "output_type": "stream",
     "text": [
      "Epoch 1502: 1batch [00:00,  9.35batch/s, loss=2.08e+3]"
     ]
    },
    {
     "name": "stdout",
     "output_type": "stream",
     "text": [
      "epoch 1501: avg test  loss 2047.84, bar  test loss 15.056, len  test loss 0.934, col  test loss 180.143\n"
     ]
    },
    {
     "name": "stderr",
     "output_type": "stream",
     "text": [
      "Epoch 1502: 272batch [00:30,  8.95batch/s, loss=3.11e+3]\n"
     ]
    },
    {
     "name": "stdout",
     "output_type": "stream",
     "text": [
      "epoch 1502: avg train loss 2048.95, bar train loss 14.975, len train loss 0.948, col train loss 180.180\n"
     ]
    },
    {
     "name": "stderr",
     "output_type": "stream",
     "text": [
      "Epoch 1503: 1batch [00:00,  9.09batch/s, loss=2.02e+3]"
     ]
    },
    {
     "name": "stdout",
     "output_type": "stream",
     "text": [
      "epoch 1502: avg test  loss 2049.53, bar  test loss 15.056, len  test loss 0.934, col  test loss 180.217\n"
     ]
    },
    {
     "name": "stderr",
     "output_type": "stream",
     "text": [
      "Epoch 1503: 272batch [00:30,  8.98batch/s, loss=2.68e+3]\n"
     ]
    },
    {
     "name": "stdout",
     "output_type": "stream",
     "text": [
      "epoch 1503: avg train loss 2050.52, bar train loss 14.971, len train loss 0.947, col train loss 180.269\n"
     ]
    },
    {
     "name": "stderr",
     "output_type": "stream",
     "text": [
      "Epoch 1504: 0batch [00:00, ?batch/s, loss=2.06e+3]"
     ]
    },
    {
     "name": "stdout",
     "output_type": "stream",
     "text": [
      "epoch 1503: avg test  loss 2049.60, bar  test loss 15.056, len  test loss 0.934, col  test loss 180.223\n"
     ]
    },
    {
     "name": "stderr",
     "output_type": "stream",
     "text": [
      "Epoch 1504: 272batch [00:30,  8.94batch/s, loss=3.19e+3]\n"
     ]
    },
    {
     "name": "stdout",
     "output_type": "stream",
     "text": [
      "epoch 1504: avg train loss 2050.71, bar train loss 14.973, len train loss 0.949, col train loss 180.269\n"
     ]
    },
    {
     "name": "stderr",
     "output_type": "stream",
     "text": [
      "Epoch 1505: 1batch [00:00,  9.35batch/s, loss=2.04e+3]"
     ]
    },
    {
     "name": "stdout",
     "output_type": "stream",
     "text": [
      "epoch 1504: avg test  loss 2049.52, bar  test loss 15.056, len  test loss 0.934, col  test loss 180.224\n"
     ]
    },
    {
     "name": "stderr",
     "output_type": "stream",
     "text": [
      "Epoch 1505: 272batch [00:30,  8.89batch/s, loss=3.17e+3]\n"
     ]
    },
    {
     "name": "stdout",
     "output_type": "stream",
     "text": [
      "epoch 1505: avg train loss 2050.51, bar train loss 14.969, len train loss 0.949, col train loss 180.259\n",
      "epoch 1505: avg test  loss 2049.58, bar  test loss 15.056, len  test loss 0.934, col  test loss 180.241\n"
     ]
    },
    {
     "name": "stderr",
     "output_type": "stream",
     "text": [
      "Epoch 1506: 272batch [00:30,  8.91batch/s, loss=2.75e+3]\n"
     ]
    },
    {
     "name": "stdout",
     "output_type": "stream",
     "text": [
      "epoch 1506: avg train loss 2050.22, bar train loss 14.967, len train loss 0.947, col train loss 180.262\n"
     ]
    },
    {
     "name": "stderr",
     "output_type": "stream",
     "text": [
      "Epoch 1507: 1batch [00:00,  9.26batch/s, loss=1.97e+3]"
     ]
    },
    {
     "name": "stdout",
     "output_type": "stream",
     "text": [
      "epoch 1506: avg test  loss 2049.38, bar  test loss 15.056, len  test loss 0.934, col  test loss 180.223\n"
     ]
    },
    {
     "name": "stderr",
     "output_type": "stream",
     "text": [
      "Epoch 1507: 272batch [00:30,  8.93batch/s, loss=2.54e+3]\n"
     ]
    },
    {
     "name": "stdout",
     "output_type": "stream",
     "text": [
      "epoch 1507: avg train loss 2050.04, bar train loss 14.962, len train loss 0.947, col train loss 180.260\n"
     ]
    },
    {
     "name": "stderr",
     "output_type": "stream",
     "text": [
      "Epoch 1508: 1batch [00:00,  9.52batch/s, loss=2.07e+3]"
     ]
    },
    {
     "name": "stdout",
     "output_type": "stream",
     "text": [
      "epoch 1507: avg test  loss 2049.18, bar  test loss 15.056, len  test loss 0.934, col  test loss 180.221\n"
     ]
    },
    {
     "name": "stderr",
     "output_type": "stream",
     "text": [
      "Epoch 1508: 272batch [00:30,  8.96batch/s, loss=2.45e+3]\n"
     ]
    },
    {
     "name": "stdout",
     "output_type": "stream",
     "text": [
      "epoch 1508: avg train loss 2049.81, bar train loss 14.963, len train loss 0.946, col train loss 180.254\n"
     ]
    },
    {
     "name": "stderr",
     "output_type": "stream",
     "text": [
      "Epoch 1509: 0batch [00:00, ?batch/s, loss=2.03e+3]"
     ]
    },
    {
     "name": "stdout",
     "output_type": "stream",
     "text": [
      "epoch 1508: avg test  loss 2049.25, bar  test loss 15.056, len  test loss 0.934, col  test loss 180.237\n"
     ]
    },
    {
     "name": "stderr",
     "output_type": "stream",
     "text": [
      "Epoch 1509: 272batch [00:30,  8.85batch/s, loss=2.73e+3]\n"
     ]
    },
    {
     "name": "stdout",
     "output_type": "stream",
     "text": [
      "epoch 1509: avg train loss 2049.85, bar train loss 14.966, len train loss 0.948, col train loss 180.256\n"
     ]
    },
    {
     "name": "stderr",
     "output_type": "stream",
     "text": [
      "Epoch 1510: 1batch [00:00,  9.52batch/s, loss=1.95e+3]"
     ]
    },
    {
     "name": "stdout",
     "output_type": "stream",
     "text": [
      "epoch 1509: avg test  loss 2049.06, bar  test loss 15.056, len  test loss 0.934, col  test loss 180.231\n"
     ]
    },
    {
     "name": "stderr",
     "output_type": "stream",
     "text": [
      "Epoch 1510: 272batch [00:30,  8.91batch/s, loss=2.73e+3]\n"
     ]
    },
    {
     "name": "stdout",
     "output_type": "stream",
     "text": [
      "epoch 1510: avg train loss 2049.61, bar train loss 14.968, len train loss 0.947, col train loss 180.248\n",
      "epoch 1510: avg test  loss 2048.75, bar  test loss 15.056, len  test loss 0.934, col  test loss 180.216\n"
     ]
    },
    {
     "name": "stderr",
     "output_type": "stream",
     "text": [
      "Epoch 1511: 272batch [00:30,  8.93batch/s, loss=2.98e+3]\n"
     ]
    },
    {
     "name": "stdout",
     "output_type": "stream",
     "text": [
      "epoch 1511: avg train loss 2049.61, bar train loss 14.978, len train loss 0.948, col train loss 180.246\n"
     ]
    },
    {
     "name": "stderr",
     "output_type": "stream",
     "text": [
      "Epoch 1512: 1batch [00:00,  9.90batch/s, loss=2.07e+3]"
     ]
    },
    {
     "name": "stdout",
     "output_type": "stream",
     "text": [
      "epoch 1511: avg test  loss 2048.51, bar  test loss 15.056, len  test loss 0.934, col  test loss 180.209\n"
     ]
    },
    {
     "name": "stderr",
     "output_type": "stream",
     "text": [
      "Epoch 1512: 272batch [00:30,  8.87batch/s, loss=2.56e+3]\n"
     ]
    },
    {
     "name": "stdout",
     "output_type": "stream",
     "text": [
      "epoch 1512: avg train loss 2049.20, bar train loss 14.970, len train loss 0.947, col train loss 180.236\n"
     ]
    },
    {
     "name": "stderr",
     "output_type": "stream",
     "text": [
      "Epoch 1513: 1batch [00:00,  9.17batch/s, loss=2.01e+3]"
     ]
    },
    {
     "name": "stdout",
     "output_type": "stream",
     "text": [
      "epoch 1512: avg test  loss 2048.42, bar  test loss 15.056, len  test loss 0.934, col  test loss 180.213\n"
     ]
    },
    {
     "name": "stderr",
     "output_type": "stream",
     "text": [
      "Epoch 1513: 272batch [00:30,  8.87batch/s, loss=2.67e+3]\n"
     ]
    },
    {
     "name": "stdout",
     "output_type": "stream",
     "text": [
      "epoch 1513: avg train loss 2049.07, bar train loss 14.972, len train loss 0.947, col train loss 180.239\n"
     ]
    },
    {
     "name": "stderr",
     "output_type": "stream",
     "text": [
      "Epoch 1514: 1batch [00:00,  9.43batch/s, loss=1.99e+3]"
     ]
    },
    {
     "name": "stdout",
     "output_type": "stream",
     "text": [
      "epoch 1513: avg test  loss 2048.26, bar  test loss 15.056, len  test loss 0.934, col  test loss 180.216\n"
     ]
    },
    {
     "name": "stderr",
     "output_type": "stream",
     "text": [
      "Epoch 1514: 272batch [00:30,  8.87batch/s, loss=2.77e+3]\n"
     ]
    },
    {
     "name": "stdout",
     "output_type": "stream",
     "text": [
      "epoch 1514: avg train loss 2048.91, bar train loss 14.969, len train loss 0.947, col train loss 180.236\n"
     ]
    },
    {
     "name": "stderr",
     "output_type": "stream",
     "text": [
      "Epoch 1515: 1batch [00:00,  9.62batch/s, loss=2.04e+3]"
     ]
    },
    {
     "name": "stdout",
     "output_type": "stream",
     "text": [
      "epoch 1514: avg test  loss 2047.98, bar  test loss 15.056, len  test loss 0.934, col  test loss 180.204\n"
     ]
    },
    {
     "name": "stderr",
     "output_type": "stream",
     "text": [
      "Epoch 1515: 272batch [00:30,  8.85batch/s, loss=2.67e+3]\n"
     ]
    },
    {
     "name": "stdout",
     "output_type": "stream",
     "text": [
      "epoch 1515: avg train loss 2048.67, bar train loss 14.971, len train loss 0.947, col train loss 180.232\n",
      "epoch 1515: avg test  loss 2047.53, bar  test loss 15.056, len  test loss 0.934, col  test loss 180.180\n"
     ]
    },
    {
     "name": "stderr",
     "output_type": "stream",
     "text": [
      "Epoch 1516: 272batch [00:30,  8.86batch/s, loss=2.47e+3]\n"
     ]
    },
    {
     "name": "stdout",
     "output_type": "stream",
     "text": [
      "epoch 1516: avg train loss 2048.32, bar train loss 14.968, len train loss 0.946, col train loss 180.223\n"
     ]
    },
    {
     "name": "stderr",
     "output_type": "stream",
     "text": [
      "Epoch 1517: 1batch [00:00,  9.35batch/s, loss=2.05e+3]"
     ]
    },
    {
     "name": "stdout",
     "output_type": "stream",
     "text": [
      "epoch 1516: avg test  loss 2047.28, bar  test loss 15.056, len  test loss 0.934, col  test loss 180.175\n"
     ]
    },
    {
     "name": "stderr",
     "output_type": "stream",
     "text": [
      "Epoch 1517: 272batch [00:30,  8.84batch/s, loss=2.92e+3]\n"
     ]
    },
    {
     "name": "stdout",
     "output_type": "stream",
     "text": [
      "epoch 1517: avg train loss 2048.15, bar train loss 14.972, len train loss 0.947, col train loss 180.215\n"
     ]
    },
    {
     "name": "stderr",
     "output_type": "stream",
     "text": [
      "Epoch 1518: 1batch [00:00,  9.71batch/s, loss=2.24e+3]"
     ]
    },
    {
     "name": "stdout",
     "output_type": "stream",
     "text": [
      "epoch 1517: avg test  loss 2047.20, bar  test loss 15.056, len  test loss 0.934, col  test loss 180.181\n"
     ]
    },
    {
     "name": "stderr",
     "output_type": "stream",
     "text": [
      "Epoch 1518: 272batch [00:30,  8.88batch/s, loss=2.74e+3]\n"
     ]
    },
    {
     "name": "stdout",
     "output_type": "stream",
     "text": [
      "epoch 1518: avg train loss 2047.81, bar train loss 14.975, len train loss 0.946, col train loss 180.204\n"
     ]
    },
    {
     "name": "stderr",
     "output_type": "stream",
     "text": [
      "Epoch 1519: 0batch [00:00, ?batch/s, loss=2.03e+3]"
     ]
    },
    {
     "name": "stdout",
     "output_type": "stream",
     "text": [
      "epoch 1518: avg test  loss 2046.95, bar  test loss 15.056, len  test loss 0.934, col  test loss 180.171\n"
     ]
    },
    {
     "name": "stderr",
     "output_type": "stream",
     "text": [
      "Epoch 1519: 272batch [00:30,  8.85batch/s, loss=2.37e+3]\n"
     ]
    },
    {
     "name": "stdout",
     "output_type": "stream",
     "text": [
      "epoch 1519: avg train loss 2047.63, bar train loss 14.962, len train loss 0.947, col train loss 180.208\n"
     ]
    },
    {
     "name": "stderr",
     "output_type": "stream",
     "text": [
      "Epoch 1520: 1batch [00:00,  9.80batch/s, loss=2.13e+3]"
     ]
    },
    {
     "name": "stdout",
     "output_type": "stream",
     "text": [
      "epoch 1519: avg test  loss 2046.48, bar  test loss 15.056, len  test loss 0.934, col  test loss 180.147\n"
     ]
    },
    {
     "name": "stderr",
     "output_type": "stream",
     "text": [
      "Epoch 1520: 272batch [00:30,  8.90batch/s, loss=2.92e+3]\n"
     ]
    },
    {
     "name": "stdout",
     "output_type": "stream",
     "text": [
      "epoch 1520: avg train loss 2047.30, bar train loss 14.974, len train loss 0.947, col train loss 180.180\n",
      "epoch 1520: avg test  loss 2046.24, bar  test loss 15.056, len  test loss 0.934, col  test loss 180.139\n"
     ]
    },
    {
     "name": "stderr",
     "output_type": "stream",
     "text": [
      "Epoch 1521: 272batch [00:30,  8.83batch/s, loss=2.89e+3]\n"
     ]
    },
    {
     "name": "stdout",
     "output_type": "stream",
     "text": [
      "epoch 1521: avg train loss 2047.00, bar train loss 14.965, len train loss 0.948, col train loss 180.166\n"
     ]
    },
    {
     "name": "stderr",
     "output_type": "stream",
     "text": [
      "Epoch 1522: 1batch [00:00,  9.52batch/s, loss=2.03e+3]"
     ]
    },
    {
     "name": "stdout",
     "output_type": "stream",
     "text": [
      "epoch 1521: avg test  loss 2045.88, bar  test loss 15.056, len  test loss 0.934, col  test loss 180.119\n"
     ]
    },
    {
     "name": "stderr",
     "output_type": "stream",
     "text": [
      "Epoch 1522: 272batch [00:30,  8.84batch/s, loss=2.99e+3]\n"
     ]
    },
    {
     "name": "stdout",
     "output_type": "stream",
     "text": [
      "epoch 1522: avg train loss 2046.76, bar train loss 14.971, len train loss 0.948, col train loss 180.153\n"
     ]
    },
    {
     "name": "stderr",
     "output_type": "stream",
     "text": [
      "Epoch 1523: 1batch [00:00,  8.85batch/s, loss=2.09e+3]"
     ]
    },
    {
     "name": "stdout",
     "output_type": "stream",
     "text": [
      "epoch 1522: avg test  loss 2045.40, bar  test loss 15.056, len  test loss 0.934, col  test loss 180.086\n"
     ]
    },
    {
     "name": "stderr",
     "output_type": "stream",
     "text": [
      "Epoch 1523: 272batch [00:30,  8.86batch/s, loss=3.15e+3]\n"
     ]
    },
    {
     "name": "stdout",
     "output_type": "stream",
     "text": [
      "epoch 1523: avg train loss 2046.45, bar train loss 14.977, len train loss 0.948, col train loss 180.137\n"
     ]
    },
    {
     "name": "stderr",
     "output_type": "stream",
     "text": [
      "Epoch 1524: 0batch [00:00, ?batch/s, loss=2.02e+3]"
     ]
    },
    {
     "name": "stdout",
     "output_type": "stream",
     "text": [
      "epoch 1523: avg test  loss 2045.27, bar  test loss 15.056, len  test loss 0.934, col  test loss 180.086\n"
     ]
    },
    {
     "name": "stderr",
     "output_type": "stream",
     "text": [
      "Epoch 1524: 272batch [00:30,  8.81batch/s, loss=2573.75]\n"
     ]
    },
    {
     "name": "stdout",
     "output_type": "stream",
     "text": [
      "epoch 1524: avg train loss 2045.73, bar train loss 14.968, len train loss 0.946, col train loss 180.103\n"
     ]
    },
    {
     "name": "stderr",
     "output_type": "stream",
     "text": [
      "Epoch 1525: 1batch [00:00,  9.26batch/s, loss=1.99e+3]"
     ]
    },
    {
     "name": "stdout",
     "output_type": "stream",
     "text": [
      "epoch 1524: avg test  loss 2044.86, bar  test loss 15.056, len  test loss 0.934, col  test loss 180.057\n"
     ]
    },
    {
     "name": "stderr",
     "output_type": "stream",
     "text": [
      "Epoch 1525: 272batch [00:30,  8.81batch/s, loss=3.35e+3]\n"
     ]
    },
    {
     "name": "stdout",
     "output_type": "stream",
     "text": [
      "epoch 1525: avg train loss 2046.01, bar train loss 14.973, len train loss 0.950, col train loss 180.098\n",
      "epoch 1525: avg test  loss 2044.60, bar  test loss 15.056, len  test loss 0.934, col  test loss 180.037\n"
     ]
    },
    {
     "name": "stderr",
     "output_type": "stream",
     "text": [
      "Epoch 1526: 272batch [00:30,  8.84batch/s, loss=3.19e+3]\n"
     ]
    },
    {
     "name": "stdout",
     "output_type": "stream",
     "text": [
      "epoch 1526: avg train loss 2045.69, bar train loss 14.974, len train loss 0.949, col train loss 180.080\n"
     ]
    },
    {
     "name": "stderr",
     "output_type": "stream",
     "text": [
      "Epoch 1527: 1batch [00:00,  9.62batch/s, loss=2.03e+3]"
     ]
    },
    {
     "name": "stdout",
     "output_type": "stream",
     "text": [
      "epoch 1526: avg test  loss 2044.44, bar  test loss 15.056, len  test loss 0.934, col  test loss 180.030\n"
     ]
    },
    {
     "name": "stderr",
     "output_type": "stream",
     "text": [
      "Epoch 1527: 272batch [00:30,  8.79batch/s, loss=3.25e+3]\n"
     ]
    },
    {
     "name": "stdout",
     "output_type": "stream",
     "text": [
      "epoch 1527: avg train loss 2045.39, bar train loss 14.973, len train loss 0.949, col train loss 180.059\n"
     ]
    },
    {
     "name": "stderr",
     "output_type": "stream",
     "text": [
      "Epoch 1528: 1batch [00:00,  8.93batch/s, loss=1.97e+3]"
     ]
    },
    {
     "name": "stdout",
     "output_type": "stream",
     "text": [
      "epoch 1527: avg test  loss 2043.86, bar  test loss 15.056, len  test loss 0.934, col  test loss 179.980\n"
     ]
    },
    {
     "name": "stderr",
     "output_type": "stream",
     "text": [
      "Epoch 1528: 272batch [00:31,  8.75batch/s, loss=2.7e+3] \n"
     ]
    },
    {
     "name": "stdout",
     "output_type": "stream",
     "text": [
      "epoch 1528: avg train loss 2044.75, bar train loss 14.973, len train loss 0.946, col train loss 180.025\n"
     ]
    },
    {
     "name": "stderr",
     "output_type": "stream",
     "text": [
      "Epoch 1529: 1batch [00:00,  9.26batch/s, loss=2.11e+3]"
     ]
    },
    {
     "name": "stdout",
     "output_type": "stream",
     "text": [
      "epoch 1528: avg test  loss 2043.87, bar  test loss 15.056, len  test loss 0.934, col  test loss 179.987\n"
     ]
    },
    {
     "name": "stderr",
     "output_type": "stream",
     "text": [
      "Epoch 1529: 272batch [00:31,  8.77batch/s, loss=2.46e+3]\n"
     ]
    },
    {
     "name": "stdout",
     "output_type": "stream",
     "text": [
      "epoch 1529: avg train loss 2044.50, bar train loss 14.963, len train loss 0.947, col train loss 180.008\n"
     ]
    },
    {
     "name": "stderr",
     "output_type": "stream",
     "text": [
      "Epoch 1530: 1batch [00:00,  9.80batch/s, loss=2.06e+3]"
     ]
    },
    {
     "name": "stdout",
     "output_type": "stream",
     "text": [
      "epoch 1529: avg test  loss 2043.42, bar  test loss 15.056, len  test loss 0.934, col  test loss 179.945\n"
     ]
    },
    {
     "name": "stderr",
     "output_type": "stream",
     "text": [
      "Epoch 1530: 272batch [00:31,  8.77batch/s, loss=2.55e+3]\n"
     ]
    },
    {
     "name": "stdout",
     "output_type": "stream",
     "text": [
      "epoch 1530: avg train loss 2044.24, bar train loss 14.967, len train loss 0.947, col train loss 179.986\n",
      "epoch 1530: avg test  loss 2043.16, bar  test loss 15.056, len  test loss 0.934, col  test loss 179.921\n"
     ]
    },
    {
     "name": "stderr",
     "output_type": "stream",
     "text": [
      "Epoch 1531: 272batch [00:31,  8.77batch/s, loss=2.56e+3]\n"
     ]
    },
    {
     "name": "stdout",
     "output_type": "stream",
     "text": [
      "epoch 1531: avg train loss 2044.37, bar train loss 14.963, len train loss 0.948, col train loss 179.995\n"
     ]
    },
    {
     "name": "stderr",
     "output_type": "stream",
     "text": [
      "Epoch 1532: 1batch [00:00,  9.01batch/s, loss=2.14e+3]"
     ]
    },
    {
     "name": "stdout",
     "output_type": "stream",
     "text": [
      "epoch 1531: avg test  loss 2042.89, bar  test loss 15.056, len  test loss 0.934, col  test loss 179.895\n"
     ]
    },
    {
     "name": "stderr",
     "output_type": "stream",
     "text": [
      "Epoch 1532: 272batch [00:31,  8.77batch/s, loss=2.89e+3]\n"
     ]
    },
    {
     "name": "stdout",
     "output_type": "stream",
     "text": [
      "epoch 1532: avg train loss 2044.09, bar train loss 14.965, len train loss 0.949, col train loss 179.956\n"
     ]
    },
    {
     "name": "stderr",
     "output_type": "stream",
     "text": [
      "Epoch 1533: 1batch [00:00,  9.90batch/s, loss=2.07e+3]"
     ]
    },
    {
     "name": "stdout",
     "output_type": "stream",
     "text": [
      "epoch 1532: avg test  loss 2042.89, bar  test loss 15.056, len  test loss 0.934, col  test loss 179.896\n"
     ]
    },
    {
     "name": "stderr",
     "output_type": "stream",
     "text": [
      "Epoch 1533: 272batch [00:30,  8.78batch/s, loss=2.93e+3]\n"
     ]
    },
    {
     "name": "stdout",
     "output_type": "stream",
     "text": [
      "epoch 1533: avg train loss 2044.25, bar train loss 14.971, len train loss 0.948, col train loss 179.961\n"
     ]
    },
    {
     "name": "stderr",
     "output_type": "stream",
     "text": [
      "Epoch 1534: 0batch [00:00, ?batch/s, loss=2.03e+3]"
     ]
    },
    {
     "name": "stdout",
     "output_type": "stream",
     "text": [
      "epoch 1533: avg test  loss 2047.13, bar  test loss 15.056, len  test loss 0.934, col  test loss 180.186\n"
     ]
    },
    {
     "name": "stderr",
     "output_type": "stream",
     "text": [
      "Epoch 1534: 272batch [00:31,  8.69batch/s, loss=2.6e+3] \n"
     ]
    },
    {
     "name": "stdout",
     "output_type": "stream",
     "text": [
      "epoch 1534: avg train loss 2048.06, bar train loss 14.962, len train loss 0.947, col train loss 180.232\n"
     ]
    },
    {
     "name": "stderr",
     "output_type": "stream",
     "text": [
      "Epoch 1535: 1batch [00:00,  9.52batch/s, loss=2.05e+3]"
     ]
    },
    {
     "name": "stdout",
     "output_type": "stream",
     "text": [
      "epoch 1534: avg test  loss 2047.15, bar  test loss 15.056, len  test loss 0.934, col  test loss 180.191\n"
     ]
    },
    {
     "name": "stderr",
     "output_type": "stream",
     "text": [
      "Epoch 1535: 272batch [00:31,  8.74batch/s, loss=2.43e+3]\n"
     ]
    },
    {
     "name": "stdout",
     "output_type": "stream",
     "text": [
      "epoch 1535: avg train loss 2047.74, bar train loss 14.971, len train loss 0.946, col train loss 180.217\n",
      "epoch 1535: avg test  loss 2046.73, bar  test loss 15.056, len  test loss 0.934, col  test loss 180.163\n"
     ]
    },
    {
     "name": "stderr",
     "output_type": "stream",
     "text": [
      "Epoch 1536: 272batch [00:31,  8.75batch/s, loss=2.71e+3]\n"
     ]
    },
    {
     "name": "stdout",
     "output_type": "stream",
     "text": [
      "epoch 1536: avg train loss 2047.71, bar train loss 14.967, len train loss 0.947, col train loss 180.220\n"
     ]
    },
    {
     "name": "stderr",
     "output_type": "stream",
     "text": [
      "Epoch 1537: 1batch [00:00,  9.80batch/s, loss=2.04e+3]"
     ]
    },
    {
     "name": "stdout",
     "output_type": "stream",
     "text": [
      "epoch 1536: avg test  loss 2046.88, bar  test loss 15.056, len  test loss 0.934, col  test loss 180.189\n"
     ]
    },
    {
     "name": "stderr",
     "output_type": "stream",
     "text": [
      "Epoch 1537: 272batch [00:31,  8.73batch/s, loss=2.87e+3]\n"
     ]
    },
    {
     "name": "stdout",
     "output_type": "stream",
     "text": [
      "epoch 1537: avg train loss 2047.58, bar train loss 14.969, len train loss 0.948, col train loss 180.213\n"
     ]
    },
    {
     "name": "stderr",
     "output_type": "stream",
     "text": [
      "Epoch 1538: 0batch [00:00, ?batch/s, loss=2.15e+3]"
     ]
    },
    {
     "name": "stdout",
     "output_type": "stream",
     "text": [
      "epoch 1537: avg test  loss 2046.43, bar  test loss 15.056, len  test loss 0.934, col  test loss 180.159\n"
     ]
    },
    {
     "name": "stderr",
     "output_type": "stream",
     "text": [
      "Epoch 1538: 272batch [00:31,  8.71batch/s, loss=2.49e+3]\n"
     ]
    },
    {
     "name": "stdout",
     "output_type": "stream",
     "text": [
      "epoch 1538: avg train loss 2047.22, bar train loss 14.969, len train loss 0.946, col train loss 180.203\n"
     ]
    },
    {
     "name": "stderr",
     "output_type": "stream",
     "text": [
      "Epoch 1539: 1batch [00:00,  9.09batch/s, loss=2.08e+3]"
     ]
    },
    {
     "name": "stdout",
     "output_type": "stream",
     "text": [
      "epoch 1538: avg test  loss 2046.41, bar  test loss 15.056, len  test loss 0.934, col  test loss 180.167\n"
     ]
    },
    {
     "name": "stderr",
     "output_type": "stream",
     "text": [
      "Epoch 1539: 272batch [00:31,  8.77batch/s, loss=2.91e+3]\n"
     ]
    },
    {
     "name": "stdout",
     "output_type": "stream",
     "text": [
      "epoch 1539: avg train loss 2047.26, bar train loss 14.971, len train loss 0.948, col train loss 180.200\n"
     ]
    },
    {
     "name": "stderr",
     "output_type": "stream",
     "text": [
      "Epoch 1540: 1batch [00:00,  9.80batch/s, loss=2.15e+3]"
     ]
    },
    {
     "name": "stdout",
     "output_type": "stream",
     "text": [
      "epoch 1539: avg test  loss 2046.12, bar  test loss 15.056, len  test loss 0.934, col  test loss 180.147\n"
     ]
    },
    {
     "name": "stderr",
     "output_type": "stream",
     "text": [
      "Epoch 1540: 272batch [00:31,  8.72batch/s, loss=2.94e+3]\n"
     ]
    },
    {
     "name": "stdout",
     "output_type": "stream",
     "text": [
      "epoch 1540: avg train loss 2046.89, bar train loss 14.978, len train loss 0.947, col train loss 180.170\n",
      "epoch 1540: avg test  loss 2046.06, bar  test loss 15.056, len  test loss 0.934, col  test loss 180.155\n"
     ]
    },
    {
     "name": "stderr",
     "output_type": "stream",
     "text": [
      "Epoch 1541: 272batch [00:31,  8.66batch/s, loss=2.59e+3]\n"
     ]
    },
    {
     "name": "stdout",
     "output_type": "stream",
     "text": [
      "epoch 1541: avg train loss 2046.73, bar train loss 14.967, len train loss 0.947, col train loss 180.184\n"
     ]
    },
    {
     "name": "stderr",
     "output_type": "stream",
     "text": [
      "Epoch 1542: 1batch [00:00,  9.71batch/s, loss=2.08e+3]"
     ]
    },
    {
     "name": "stdout",
     "output_type": "stream",
     "text": [
      "epoch 1541: avg test  loss 2045.50, bar  test loss 15.056, len  test loss 0.934, col  test loss 180.109\n"
     ]
    },
    {
     "name": "stderr",
     "output_type": "stream",
     "text": [
      "Epoch 1542: 272batch [00:31,  8.73batch/s, loss=2.91e+3]\n"
     ]
    },
    {
     "name": "stdout",
     "output_type": "stream",
     "text": [
      "epoch 1542: avg train loss 2046.58, bar train loss 14.970, len train loss 0.948, col train loss 180.162\n"
     ]
    },
    {
     "name": "stderr",
     "output_type": "stream",
     "text": [
      "Epoch 1543: 1batch [00:00,  9.35batch/s, loss=2.07e+3]"
     ]
    },
    {
     "name": "stdout",
     "output_type": "stream",
     "text": [
      "epoch 1542: avg test  loss 2045.39, bar  test loss 15.056, len  test loss 0.934, col  test loss 180.107\n"
     ]
    },
    {
     "name": "stderr",
     "output_type": "stream",
     "text": [
      "Epoch 1543: 272batch [00:31,  8.67batch/s, loss=2.83e+3]\n"
     ]
    },
    {
     "name": "stdout",
     "output_type": "stream",
     "text": [
      "epoch 1543: avg train loss 2046.35, bar train loss 14.972, len train loss 0.947, col train loss 180.156\n"
     ]
    },
    {
     "name": "stderr",
     "output_type": "stream",
     "text": [
      "Epoch 1544: 1batch [00:00,  9.26batch/s, loss=2.16e+3]"
     ]
    },
    {
     "name": "stdout",
     "output_type": "stream",
     "text": [
      "epoch 1543: avg test  loss 2045.48, bar  test loss 15.056, len  test loss 0.934, col  test loss 180.116\n"
     ]
    },
    {
     "name": "stderr",
     "output_type": "stream",
     "text": [
      "Epoch 1544: 272batch [00:31,  8.68batch/s, loss=2.9e+3] \n"
     ]
    },
    {
     "name": "stdout",
     "output_type": "stream",
     "text": [
      "epoch 1544: avg train loss 2046.59, bar train loss 14.971, len train loss 0.947, col train loss 180.172\n"
     ]
    },
    {
     "name": "stderr",
     "output_type": "stream",
     "text": [
      "Epoch 1545: 1batch [00:00,  9.43batch/s, loss=1.99e+3]"
     ]
    },
    {
     "name": "stdout",
     "output_type": "stream",
     "text": [
      "epoch 1544: avg test  loss 2045.48, bar  test loss 15.056, len  test loss 0.934, col  test loss 180.120\n"
     ]
    },
    {
     "name": "stderr",
     "output_type": "stream",
     "text": [
      "Epoch 1545: 272batch [00:31,  8.67batch/s, loss=2.8e+3] \n"
     ]
    },
    {
     "name": "stdout",
     "output_type": "stream",
     "text": [
      "epoch 1545: avg train loss 2046.17, bar train loss 14.966, len train loss 0.947, col train loss 180.145\n",
      "epoch 1545: avg test  loss 2045.25, bar  test loss 15.056, len  test loss 0.934, col  test loss 180.106\n"
     ]
    },
    {
     "name": "stderr",
     "output_type": "stream",
     "text": [
      "Epoch 1546: 272batch [00:31,  8.71batch/s, loss=2.82e+3]\n"
     ]
    },
    {
     "name": "stdout",
     "output_type": "stream",
     "text": [
      "epoch 1546: avg train loss 2045.91, bar train loss 14.965, len train loss 0.948, col train loss 180.122\n"
     ]
    },
    {
     "name": "stderr",
     "output_type": "stream",
     "text": [
      "Epoch 1547: 1batch [00:00,  9.43batch/s, loss=2.07e+3]"
     ]
    },
    {
     "name": "stdout",
     "output_type": "stream",
     "text": [
      "epoch 1546: avg test  loss 2045.09, bar  test loss 15.056, len  test loss 0.934, col  test loss 180.099\n"
     ]
    },
    {
     "name": "stderr",
     "output_type": "stream",
     "text": [
      "Epoch 1547: 272batch [00:31,  8.65batch/s, loss=2.57e+3]\n"
     ]
    },
    {
     "name": "stdout",
     "output_type": "stream",
     "text": [
      "epoch 1547: avg train loss 2045.78, bar train loss 14.968, len train loss 0.947, col train loss 180.128\n"
     ]
    },
    {
     "name": "stderr",
     "output_type": "stream",
     "text": [
      "Epoch 1548: 1batch [00:00,  9.62batch/s, loss=1.94e+3]"
     ]
    },
    {
     "name": "stdout",
     "output_type": "stream",
     "text": [
      "epoch 1547: avg test  loss 2044.77, bar  test loss 15.056, len  test loss 0.934, col  test loss 180.073\n"
     ]
    },
    {
     "name": "stderr",
     "output_type": "stream",
     "text": [
      "Epoch 1548: 272batch [00:31,  8.61batch/s, loss=2.77e+3]\n"
     ]
    },
    {
     "name": "stdout",
     "output_type": "stream",
     "text": [
      "epoch 1548: avg train loss 2045.52, bar train loss 14.972, len train loss 0.947, col train loss 180.096\n"
     ]
    },
    {
     "name": "stderr",
     "output_type": "stream",
     "text": [
      "Epoch 1549: 1batch [00:00,  9.26batch/s, loss=2.01e+3]"
     ]
    },
    {
     "name": "stdout",
     "output_type": "stream",
     "text": [
      "epoch 1548: avg test  loss 2044.50, bar  test loss 15.056, len  test loss 0.934, col  test loss 180.050\n"
     ]
    },
    {
     "name": "stderr",
     "output_type": "stream",
     "text": [
      "Epoch 1549: 272batch [00:31,  8.62batch/s, loss=2.53e+3]\n"
     ]
    },
    {
     "name": "stdout",
     "output_type": "stream",
     "text": [
      "epoch 1549: avg train loss 2044.95, bar train loss 14.963, len train loss 0.948, col train loss 180.049\n"
     ]
    },
    {
     "name": "stderr",
     "output_type": "stream",
     "text": [
      "Epoch 1550: 1batch [00:00,  9.35batch/s, loss=2.08e+3]"
     ]
    },
    {
     "name": "stdout",
     "output_type": "stream",
     "text": [
      "epoch 1549: avg test  loss 2043.74, bar  test loss 15.056, len  test loss 0.934, col  test loss 179.976\n"
     ]
    },
    {
     "name": "stderr",
     "output_type": "stream",
     "text": [
      "Epoch 1550: 272batch [00:31,  8.64batch/s, loss=3.3e+3] \n"
     ]
    },
    {
     "name": "stdout",
     "output_type": "stream",
     "text": [
      "epoch 1550: avg train loss 2045.15, bar train loss 14.981, len train loss 0.949, col train loss 180.040\n",
      "epoch 1550: avg test  loss 2043.61, bar  test loss 15.056, len  test loss 0.934, col  test loss 179.966\n"
     ]
    },
    {
     "name": "stderr",
     "output_type": "stream",
     "text": [
      "Epoch 1551: 272batch [00:31,  8.61batch/s, loss=2.48e+3]\n"
     ]
    },
    {
     "name": "stdout",
     "output_type": "stream",
     "text": [
      "epoch 1551: avg train loss 2044.79, bar train loss 14.965, len train loss 0.947, col train loss 180.045\n"
     ]
    },
    {
     "name": "stderr",
     "output_type": "stream",
     "text": [
      "Epoch 1552: 1batch [00:00,  9.35batch/s, loss=2.02e+3]"
     ]
    },
    {
     "name": "stdout",
     "output_type": "stream",
     "text": [
      "epoch 1551: avg test  loss 2043.48, bar  test loss 15.056, len  test loss 0.934, col  test loss 179.955\n"
     ]
    },
    {
     "name": "stderr",
     "output_type": "stream",
     "text": [
      "Epoch 1552: 272batch [00:31,  8.64batch/s, loss=2.77e+3]\n"
     ]
    },
    {
     "name": "stdout",
     "output_type": "stream",
     "text": [
      "epoch 1552: avg train loss 2044.73, bar train loss 14.974, len train loss 0.946, col train loss 180.032\n"
     ]
    },
    {
     "name": "stderr",
     "output_type": "stream",
     "text": [
      "Epoch 1553: 1batch [00:00,  9.35batch/s, loss=2.03e+3]"
     ]
    },
    {
     "name": "stdout",
     "output_type": "stream",
     "text": [
      "epoch 1552: avg test  loss 2043.31, bar  test loss 15.056, len  test loss 0.934, col  test loss 179.938\n"
     ]
    },
    {
     "name": "stderr",
     "output_type": "stream",
     "text": [
      "Epoch 1553: 272batch [00:31,  8.60batch/s, loss=3.35e+3]\n"
     ]
    },
    {
     "name": "stdout",
     "output_type": "stream",
     "text": [
      "epoch 1553: avg train loss 2044.91, bar train loss 14.973, len train loss 0.950, col train loss 180.010\n"
     ]
    },
    {
     "name": "stderr",
     "output_type": "stream",
     "text": [
      "Epoch 1554: 1batch [00:00,  9.09batch/s, loss=1.93e+3]"
     ]
    },
    {
     "name": "stdout",
     "output_type": "stream",
     "text": [
      "epoch 1553: avg test  loss 2044.79, bar  test loss 15.056, len  test loss 0.934, col  test loss 179.953\n"
     ]
    },
    {
     "name": "stderr",
     "output_type": "stream",
     "text": [
      "Epoch 1554: 272batch [00:31,  8.56batch/s, loss=2.63e+3]\n"
     ]
    },
    {
     "name": "stdout",
     "output_type": "stream",
     "text": [
      "epoch 1554: avg train loss 2045.17, bar train loss 14.970, len train loss 0.946, col train loss 179.879\n"
     ]
    },
    {
     "name": "stderr",
     "output_type": "stream",
     "text": [
      "Epoch 1555: 1batch [00:00,  9.35batch/s, loss=2.16e+3]"
     ]
    },
    {
     "name": "stdout",
     "output_type": "stream",
     "text": [
      "epoch 1554: avg test  loss 2043.87, bar  test loss 15.056, len  test loss 0.934, col  test loss 179.781\n"
     ]
    },
    {
     "name": "stderr",
     "output_type": "stream",
     "text": [
      "Epoch 1555: 272batch [00:31,  8.61batch/s, loss=2.66e+3]\n"
     ]
    },
    {
     "name": "stdout",
     "output_type": "stream",
     "text": [
      "epoch 1555: avg train loss 2044.93, bar train loss 14.970, len train loss 0.947, col train loss 179.833\n",
      "epoch 1555: avg test  loss 2043.72, bar  test loss 15.056, len  test loss 0.934, col  test loss 179.767\n"
     ]
    },
    {
     "name": "stderr",
     "output_type": "stream",
     "text": [
      "Epoch 1556: 272batch [00:31,  8.63batch/s, loss=2.73e+3]\n"
     ]
    },
    {
     "name": "stdout",
     "output_type": "stream",
     "text": [
      "epoch 1556: avg train loss 2044.92, bar train loss 14.968, len train loss 0.947, col train loss 179.840\n"
     ]
    },
    {
     "name": "stderr",
     "output_type": "stream",
     "text": [
      "Epoch 1557: 1batch [00:00,  9.71batch/s, loss=2.03e+3]"
     ]
    },
    {
     "name": "stdout",
     "output_type": "stream",
     "text": [
      "epoch 1556: avg test  loss 2043.63, bar  test loss 15.056, len  test loss 0.934, col  test loss 179.756\n"
     ]
    },
    {
     "name": "stderr",
     "output_type": "stream",
     "text": [
      "Epoch 1557: 272batch [00:31,  8.57batch/s, loss=2.36e+3]\n"
     ]
    },
    {
     "name": "stdout",
     "output_type": "stream",
     "text": [
      "epoch 1557: avg train loss 2044.74, bar train loss 14.964, len train loss 0.946, col train loss 179.835\n"
     ]
    },
    {
     "name": "stderr",
     "output_type": "stream",
     "text": [
      "Epoch 1558: 1batch [00:00,  9.62batch/s, loss=2.15e+3]"
     ]
    },
    {
     "name": "stdout",
     "output_type": "stream",
     "text": [
      "epoch 1557: avg test  loss 2043.58, bar  test loss 15.056, len  test loss 0.934, col  test loss 179.757\n"
     ]
    },
    {
     "name": "stderr",
     "output_type": "stream",
     "text": [
      "Epoch 1558: 272batch [00:31,  8.54batch/s, loss=2.68e+3]\n"
     ]
    },
    {
     "name": "stdout",
     "output_type": "stream",
     "text": [
      "epoch 1558: avg train loss 2044.89, bar train loss 14.967, len train loss 0.947, col train loss 179.838\n"
     ]
    },
    {
     "name": "stderr",
     "output_type": "stream",
     "text": [
      "Epoch 1559: 1batch [00:00,  9.52batch/s, loss=2.04e+3]"
     ]
    },
    {
     "name": "stdout",
     "output_type": "stream",
     "text": [
      "epoch 1558: avg test  loss 2043.68, bar  test loss 15.056, len  test loss 0.934, col  test loss 179.767\n"
     ]
    },
    {
     "name": "stderr",
     "output_type": "stream",
     "text": [
      "Epoch 1559: 272batch [00:31,  8.59batch/s, loss=2.69e+3]\n"
     ]
    },
    {
     "name": "stdout",
     "output_type": "stream",
     "text": [
      "epoch 1559: avg train loss 2045.08, bar train loss 14.969, len train loss 0.947, col train loss 179.859\n"
     ]
    },
    {
     "name": "stderr",
     "output_type": "stream",
     "text": [
      "Epoch 1560: 1batch [00:00,  9.35batch/s, loss=2.07e+3]"
     ]
    },
    {
     "name": "stdout",
     "output_type": "stream",
     "text": [
      "epoch 1559: avg test  loss 2043.40, bar  test loss 15.056, len  test loss 0.934, col  test loss 179.745\n"
     ]
    },
    {
     "name": "stderr",
     "output_type": "stream",
     "text": [
      "Epoch 1560: 272batch [00:31,  8.54batch/s, loss=2.96e+3]\n"
     ]
    },
    {
     "name": "stdout",
     "output_type": "stream",
     "text": [
      "epoch 1560: avg train loss 2045.09, bar train loss 14.973, len train loss 0.947, col train loss 179.858\n",
      "epoch 1560: avg test  loss 2043.74, bar  test loss 15.056, len  test loss 0.934, col  test loss 179.781\n"
     ]
    },
    {
     "name": "stderr",
     "output_type": "stream",
     "text": [
      "Epoch 1561: 272batch [00:31,  8.51batch/s, loss=2.65e+3]\n"
     ]
    },
    {
     "name": "stdout",
     "output_type": "stream",
     "text": [
      "epoch 1561: avg train loss 2045.15, bar train loss 14.967, len train loss 0.947, col train loss 179.878\n"
     ]
    },
    {
     "name": "stderr",
     "output_type": "stream",
     "text": [
      "Epoch 1562: 1batch [00:00,  9.35batch/s, loss=2.04e+3]"
     ]
    },
    {
     "name": "stdout",
     "output_type": "stream",
     "text": [
      "epoch 1561: avg test  loss 2044.30, bar  test loss 15.056, len  test loss 0.934, col  test loss 179.845\n"
     ]
    },
    {
     "name": "stderr",
     "output_type": "stream",
     "text": [
      "Epoch 1562: 272batch [00:31,  8.56batch/s, loss=2.69e+3]\n"
     ]
    },
    {
     "name": "stdout",
     "output_type": "stream",
     "text": [
      "epoch 1562: avg train loss 2045.44, bar train loss 14.973, len train loss 0.947, col train loss 179.907\n"
     ]
    },
    {
     "name": "stderr",
     "output_type": "stream",
     "text": [
      "Epoch 1563: 1batch [00:00,  8.85batch/s, loss=2.05e+3]"
     ]
    },
    {
     "name": "stdout",
     "output_type": "stream",
     "text": [
      "epoch 1562: avg test  loss 2044.26, bar  test loss 15.056, len  test loss 0.934, col  test loss 179.842\n"
     ]
    },
    {
     "name": "stderr",
     "output_type": "stream",
     "text": [
      "Epoch 1563: 272batch [00:31,  8.51batch/s, loss=2.61e+3]\n"
     ]
    },
    {
     "name": "stdout",
     "output_type": "stream",
     "text": [
      "epoch 1563: avg train loss 2045.63, bar train loss 14.974, len train loss 0.947, col train loss 179.931\n"
     ]
    },
    {
     "name": "stderr",
     "output_type": "stream",
     "text": [
      "Epoch 1564: 1batch [00:00,  9.52batch/s, loss=1.97e+3]"
     ]
    },
    {
     "name": "stdout",
     "output_type": "stream",
     "text": [
      "epoch 1563: avg test  loss 2044.31, bar  test loss 15.056, len  test loss 0.934, col  test loss 179.851\n"
     ]
    },
    {
     "name": "stderr",
     "output_type": "stream",
     "text": [
      "Epoch 1564: 272batch [00:32,  8.49batch/s, loss=2.67e+3]\n"
     ]
    },
    {
     "name": "stdout",
     "output_type": "stream",
     "text": [
      "epoch 1564: avg train loss 2046.00, bar train loss 14.967, len train loss 0.948, col train loss 179.970\n"
     ]
    },
    {
     "name": "stderr",
     "output_type": "stream",
     "text": [
      "Epoch 1565: 1batch [00:00,  9.80batch/s, loss=2.02e+3]"
     ]
    },
    {
     "name": "stdout",
     "output_type": "stream",
     "text": [
      "epoch 1564: avg test  loss 2044.97, bar  test loss 15.056, len  test loss 0.934, col  test loss 179.925\n"
     ]
    },
    {
     "name": "stderr",
     "output_type": "stream",
     "text": [
      "Epoch 1565: 272batch [00:31,  8.55batch/s, loss=2.73e+3]\n"
     ]
    },
    {
     "name": "stdout",
     "output_type": "stream",
     "text": [
      "epoch 1565: avg train loss 2046.05, bar train loss 14.970, len train loss 0.947, col train loss 179.982\n",
      "epoch 1565: avg test  loss 2044.85, bar  test loss 15.056, len  test loss 0.934, col  test loss 179.916\n"
     ]
    },
    {
     "name": "stderr",
     "output_type": "stream",
     "text": [
      "Epoch 1566: 272batch [00:31,  8.58batch/s, loss=2.56e+3]\n"
     ]
    },
    {
     "name": "stdout",
     "output_type": "stream",
     "text": [
      "epoch 1566: avg train loss 2045.89, bar train loss 14.969, len train loss 0.946, col train loss 179.986\n"
     ]
    },
    {
     "name": "stderr",
     "output_type": "stream",
     "text": [
      "Epoch 1567: 1batch [00:00,  9.09batch/s, loss=2.03e+3]"
     ]
    },
    {
     "name": "stdout",
     "output_type": "stream",
     "text": [
      "epoch 1566: avg test  loss 2044.85, bar  test loss 15.056, len  test loss 0.934, col  test loss 179.921\n"
     ]
    },
    {
     "name": "stderr",
     "output_type": "stream",
     "text": [
      "Epoch 1567: 272batch [00:31,  8.52batch/s, loss=2.65e+3]\n"
     ]
    },
    {
     "name": "stdout",
     "output_type": "stream",
     "text": [
      "epoch 1567: avg train loss 2045.84, bar train loss 14.966, len train loss 0.947, col train loss 179.978\n"
     ]
    },
    {
     "name": "stderr",
     "output_type": "stream",
     "text": [
      "Epoch 1568: 1batch [00:00,  9.52batch/s, loss=2.05e+3]"
     ]
    },
    {
     "name": "stdout",
     "output_type": "stream",
     "text": [
      "epoch 1567: avg test  loss 2044.94, bar  test loss 15.056, len  test loss 0.934, col  test loss 179.938\n"
     ]
    },
    {
     "name": "stderr",
     "output_type": "stream",
     "text": [
      "Epoch 1568: 272batch [00:32,  8.48batch/s, loss=2.89e+3]\n"
     ]
    },
    {
     "name": "stdout",
     "output_type": "stream",
     "text": [
      "epoch 1568: avg train loss 2045.87, bar train loss 14.973, len train loss 0.947, col train loss 179.977\n"
     ]
    },
    {
     "name": "stderr",
     "output_type": "stream",
     "text": [
      "Epoch 1569: 1batch [00:00,  9.43batch/s, loss=2.11e+3]"
     ]
    },
    {
     "name": "stdout",
     "output_type": "stream",
     "text": [
      "epoch 1568: avg test  loss 2044.49, bar  test loss 15.056, len  test loss 0.934, col  test loss 179.898\n"
     ]
    },
    {
     "name": "stderr",
     "output_type": "stream",
     "text": [
      "Epoch 1569: 272batch [00:32,  8.49batch/s, loss=2.9e+3] \n"
     ]
    },
    {
     "name": "stdout",
     "output_type": "stream",
     "text": [
      "epoch 1569: avg train loss 2045.69, bar train loss 14.964, len train loss 0.949, col train loss 179.960\n"
     ]
    },
    {
     "name": "stderr",
     "output_type": "stream",
     "text": [
      "Epoch 1570: 1batch [00:00,  9.09batch/s, loss=2.03e+3]"
     ]
    },
    {
     "name": "stdout",
     "output_type": "stream",
     "text": [
      "epoch 1569: avg test  loss 2044.28, bar  test loss 15.056, len  test loss 0.934, col  test loss 179.885\n"
     ]
    },
    {
     "name": "stderr",
     "output_type": "stream",
     "text": [
      "Epoch 1570: 272batch [00:32,  8.46batch/s, loss=2.54e+3]\n"
     ]
    },
    {
     "name": "stdout",
     "output_type": "stream",
     "text": [
      "epoch 1570: avg train loss 2045.67, bar train loss 14.966, len train loss 0.947, col train loss 179.983\n",
      "epoch 1570: avg test  loss 2044.45, bar  test loss 15.056, len  test loss 0.934, col  test loss 179.908\n"
     ]
    },
    {
     "name": "stderr",
     "output_type": "stream",
     "text": [
      "Epoch 1571: 272batch [00:31,  8.51batch/s, loss=2.53e+3]\n"
     ]
    },
    {
     "name": "stdout",
     "output_type": "stream",
     "text": [
      "epoch 1571: avg train loss 2045.45, bar train loss 14.968, len train loss 0.947, col train loss 179.967\n"
     ]
    },
    {
     "name": "stderr",
     "output_type": "stream",
     "text": [
      "Epoch 1572: 1batch [00:00,  9.35batch/s, loss=1.95e+3]"
     ]
    },
    {
     "name": "stdout",
     "output_type": "stream",
     "text": [
      "epoch 1571: avg test  loss 2044.43, bar  test loss 15.056, len  test loss 0.934, col  test loss 179.915\n"
     ]
    },
    {
     "name": "stderr",
     "output_type": "stream",
     "text": [
      "Epoch 1572: 272batch [00:32,  8.45batch/s, loss=2.83e+3]\n"
     ]
    },
    {
     "name": "stdout",
     "output_type": "stream",
     "text": [
      "epoch 1572: avg train loss 2045.14, bar train loss 14.968, len train loss 0.948, col train loss 179.876\n"
     ]
    },
    {
     "name": "stderr",
     "output_type": "stream",
     "text": [
      "Epoch 1573: 1batch [00:00,  9.62batch/s, loss=2.05e+3]"
     ]
    },
    {
     "name": "stdout",
     "output_type": "stream",
     "text": [
      "epoch 1572: avg test  loss 2043.76, bar  test loss 15.056, len  test loss 0.934, col  test loss 179.784\n"
     ]
    },
    {
     "name": "stderr",
     "output_type": "stream",
     "text": [
      "Epoch 1573: 272batch [00:31,  8.53batch/s, loss=2.6e+3] \n"
     ]
    },
    {
     "name": "stdout",
     "output_type": "stream",
     "text": [
      "epoch 1573: avg train loss 2044.82, bar train loss 14.972, len train loss 0.947, col train loss 179.843\n"
     ]
    },
    {
     "name": "stderr",
     "output_type": "stream",
     "text": [
      "Epoch 1574: 1batch [00:00,  9.26batch/s, loss=2e+3]"
     ]
    },
    {
     "name": "stdout",
     "output_type": "stream",
     "text": [
      "epoch 1573: avg test  loss 2043.49, bar  test loss 15.056, len  test loss 0.934, col  test loss 179.765\n"
     ]
    },
    {
     "name": "stderr",
     "output_type": "stream",
     "text": [
      "Epoch 1574: 272batch [00:32,  8.47batch/s, loss=2.77e+3]\n"
     ]
    },
    {
     "name": "stdout",
     "output_type": "stream",
     "text": [
      "epoch 1574: avg train loss 2044.93, bar train loss 14.968, len train loss 0.947, col train loss 179.866\n"
     ]
    },
    {
     "name": "stderr",
     "output_type": "stream",
     "text": [
      "Epoch 1575: 1batch [00:00,  9.62batch/s, loss=2.13e+3]"
     ]
    },
    {
     "name": "stdout",
     "output_type": "stream",
     "text": [
      "epoch 1574: avg test  loss 2043.67, bar  test loss 15.056, len  test loss 0.934, col  test loss 179.796\n"
     ]
    },
    {
     "name": "stderr",
     "output_type": "stream",
     "text": [
      "Epoch 1575: 272batch [00:32,  8.47batch/s, loss=2.87e+3]\n"
     ]
    },
    {
     "name": "stdout",
     "output_type": "stream",
     "text": [
      "epoch 1575: avg train loss 2044.85, bar train loss 14.969, len train loss 0.948, col train loss 179.855\n",
      "epoch 1575: avg test  loss 2043.72, bar  test loss 15.056, len  test loss 0.934, col  test loss 179.807\n"
     ]
    },
    {
     "name": "stderr",
     "output_type": "stream",
     "text": [
      "Epoch 1576: 272batch [00:33,  8.21batch/s, loss=2.42e+3]\n"
     ]
    },
    {
     "name": "stdout",
     "output_type": "stream",
     "text": [
      "epoch 1576: avg train loss 2044.71, bar train loss 14.965, len train loss 0.947, col train loss 179.869\n"
     ]
    },
    {
     "name": "stderr",
     "output_type": "stream",
     "text": [
      "Epoch 1577: 1batch [00:00,  9.17batch/s, loss=2.03e+3]"
     ]
    },
    {
     "name": "stdout",
     "output_type": "stream",
     "text": [
      "epoch 1576: avg test  loss 2043.54, bar  test loss 15.056, len  test loss 0.934, col  test loss 179.798\n"
     ]
    },
    {
     "name": "stderr",
     "output_type": "stream",
     "text": [
      "Epoch 1577: 272batch [00:32,  8.46batch/s, loss=2.78e+3]\n"
     ]
    },
    {
     "name": "stdout",
     "output_type": "stream",
     "text": [
      "epoch 1577: avg train loss 2044.87, bar train loss 14.965, len train loss 0.948, col train loss 179.882\n"
     ]
    },
    {
     "name": "stderr",
     "output_type": "stream",
     "text": [
      "Epoch 1578: 1batch [00:00,  9.71batch/s, loss=2.11e+3]"
     ]
    },
    {
     "name": "stdout",
     "output_type": "stream",
     "text": [
      "epoch 1577: avg test  loss 2043.49, bar  test loss 15.056, len  test loss 0.934, col  test loss 179.805\n"
     ]
    },
    {
     "name": "stderr",
     "output_type": "stream",
     "text": [
      "Epoch 1578: 272batch [00:32,  8.41batch/s, loss=2.51e+3]\n"
     ]
    },
    {
     "name": "stdout",
     "output_type": "stream",
     "text": [
      "epoch 1578: avg train loss 2044.62, bar train loss 14.970, len train loss 0.946, col train loss 179.883\n"
     ]
    },
    {
     "name": "stderr",
     "output_type": "stream",
     "text": [
      "Epoch 1579: 1batch [00:00,  9.26batch/s, loss=1.96e+3]"
     ]
    },
    {
     "name": "stdout",
     "output_type": "stream",
     "text": [
      "epoch 1578: avg test  loss 2043.46, bar  test loss 15.056, len  test loss 0.934, col  test loss 179.812\n"
     ]
    },
    {
     "name": "stderr",
     "output_type": "stream",
     "text": [
      "Epoch 1579: 272batch [00:32,  8.42batch/s, loss=2.44e+3]\n"
     ]
    },
    {
     "name": "stdout",
     "output_type": "stream",
     "text": [
      "epoch 1579: avg train loss 2044.54, bar train loss 14.965, len train loss 0.946, col train loss 179.890\n"
     ]
    },
    {
     "name": "stderr",
     "output_type": "stream",
     "text": [
      "Epoch 1580: 1batch [00:00,  8.40batch/s, loss=1.97e+3]"
     ]
    },
    {
     "name": "stdout",
     "output_type": "stream",
     "text": [
      "epoch 1579: avg test  loss 2043.45, bar  test loss 15.056, len  test loss 0.934, col  test loss 179.826\n"
     ]
    },
    {
     "name": "stderr",
     "output_type": "stream",
     "text": [
      "Epoch 1580: 272batch [00:32,  8.35batch/s, loss=2.69e+3]\n"
     ]
    },
    {
     "name": "stdout",
     "output_type": "stream",
     "text": [
      "epoch 1580: avg train loss 2044.59, bar train loss 14.967, len train loss 0.947, col train loss 179.895\n",
      "epoch 1580: avg test  loss 2043.67, bar  test loss 15.056, len  test loss 0.934, col  test loss 179.867\n"
     ]
    },
    {
     "name": "stderr",
     "output_type": "stream",
     "text": [
      "Epoch 1581: 272batch [00:32,  8.44batch/s, loss=2.84e+3]\n"
     ]
    },
    {
     "name": "stdout",
     "output_type": "stream",
     "text": [
      "epoch 1581: avg train loss 2045.34, bar train loss 14.971, len train loss 0.947, col train loss 179.988\n"
     ]
    },
    {
     "name": "stderr",
     "output_type": "stream",
     "text": [
      "Epoch 1582: 1batch [00:00,  9.62batch/s, loss=2.05e+3]"
     ]
    },
    {
     "name": "stdout",
     "output_type": "stream",
     "text": [
      "epoch 1581: avg test  loss 2044.27, bar  test loss 15.056, len  test loss 0.934, col  test loss 179.942\n"
     ]
    },
    {
     "name": "stderr",
     "output_type": "stream",
     "text": [
      "Epoch 1582: 272batch [00:32,  8.40batch/s, loss=3.19e+3]\n"
     ]
    },
    {
     "name": "stdout",
     "output_type": "stream",
     "text": [
      "epoch 1582: avg train loss 2045.37, bar train loss 14.979, len train loss 0.948, col train loss 179.987\n"
     ]
    },
    {
     "name": "stderr",
     "output_type": "stream",
     "text": [
      "Epoch 1583: 1batch [00:00,  9.35batch/s, loss=1.97e+3]"
     ]
    },
    {
     "name": "stdout",
     "output_type": "stream",
     "text": [
      "epoch 1582: avg test  loss 2044.12, bar  test loss 15.056, len  test loss 0.934, col  test loss 179.937\n"
     ]
    },
    {
     "name": "stderr",
     "output_type": "stream",
     "text": [
      "Epoch 1583: 272batch [00:32,  8.45batch/s, loss=2.99e+3]\n"
     ]
    },
    {
     "name": "stdout",
     "output_type": "stream",
     "text": [
      "epoch 1583: avg train loss 2045.23, bar train loss 14.972, len train loss 0.948, col train loss 179.989\n"
     ]
    },
    {
     "name": "stderr",
     "output_type": "stream",
     "text": [
      "Epoch 1584: 1batch [00:00,  9.43batch/s, loss=1.95e+3]"
     ]
    },
    {
     "name": "stdout",
     "output_type": "stream",
     "text": [
      "epoch 1583: avg test  loss 2044.24, bar  test loss 15.056, len  test loss 0.934, col  test loss 179.963\n"
     ]
    },
    {
     "name": "stderr",
     "output_type": "stream",
     "text": [
      "Epoch 1584: 272batch [00:32,  8.37batch/s, loss=3.06e+3]\n"
     ]
    },
    {
     "name": "stdout",
     "output_type": "stream",
     "text": [
      "epoch 1584: avg train loss 2045.13, bar train loss 14.969, len train loss 0.949, col train loss 179.992\n"
     ]
    },
    {
     "name": "stderr",
     "output_type": "stream",
     "text": [
      "Epoch 1585: 1batch [00:00,  9.09batch/s, loss=2.07e+3]"
     ]
    },
    {
     "name": "stdout",
     "output_type": "stream",
     "text": [
      "epoch 1584: avg test  loss 2043.99, bar  test loss 15.056, len  test loss 0.934, col  test loss 179.948\n"
     ]
    },
    {
     "name": "stderr",
     "output_type": "stream",
     "text": [
      "Epoch 1585: 272batch [00:32,  8.37batch/s, loss=2.67e+3]\n"
     ]
    },
    {
     "name": "stdout",
     "output_type": "stream",
     "text": [
      "epoch 1585: avg train loss 2044.80, bar train loss 14.966, len train loss 0.947, col train loss 179.990\n",
      "epoch 1585: avg test  loss 2043.81, bar  test loss 15.056, len  test loss 0.934, col  test loss 179.937\n"
     ]
    },
    {
     "name": "stderr",
     "output_type": "stream",
     "text": [
      "Epoch 1586: 272batch [00:32,  8.38batch/s, loss=3.17e+3]\n"
     ]
    },
    {
     "name": "stdout",
     "output_type": "stream",
     "text": [
      "epoch 1586: avg train loss 2044.90, bar train loss 14.976, len train loss 0.948, col train loss 179.970\n"
     ]
    },
    {
     "name": "stderr",
     "output_type": "stream",
     "text": [
      "Epoch 1587: 1batch [00:00,  8.77batch/s, loss=2.05e+3]"
     ]
    },
    {
     "name": "stdout",
     "output_type": "stream",
     "text": [
      "epoch 1586: avg test  loss 2044.22, bar  test loss 15.056, len  test loss 0.934, col  test loss 179.835\n"
     ]
    },
    {
     "name": "stderr",
     "output_type": "stream",
     "text": [
      "Epoch 1587: 272batch [00:32,  8.40batch/s, loss=2.99e+3]\n"
     ]
    },
    {
     "name": "stdout",
     "output_type": "stream",
     "text": [
      "epoch 1587: avg train loss 2045.52, bar train loss 14.973, len train loss 0.948, col train loss 179.898\n"
     ]
    },
    {
     "name": "stderr",
     "output_type": "stream",
     "text": [
      "Epoch 1588: 1batch [00:00,  9.62batch/s, loss=1.98e+3]"
     ]
    },
    {
     "name": "stdout",
     "output_type": "stream",
     "text": [
      "epoch 1587: avg test  loss 2044.24, bar  test loss 15.056, len  test loss 0.934, col  test loss 179.832\n"
     ]
    },
    {
     "name": "stderr",
     "output_type": "stream",
     "text": [
      "Epoch 1588: 272batch [00:32,  8.34batch/s, loss=2.93e+3]\n"
     ]
    },
    {
     "name": "stdout",
     "output_type": "stream",
     "text": [
      "epoch 1588: avg train loss 2045.66, bar train loss 14.968, len train loss 0.948, col train loss 179.915\n"
     ]
    },
    {
     "name": "stderr",
     "output_type": "stream",
     "text": [
      "Epoch 1589: 1batch [00:00,  9.90batch/s, loss=2.1e+3]"
     ]
    },
    {
     "name": "stdout",
     "output_type": "stream",
     "text": [
      "epoch 1588: avg test  loss 2044.23, bar  test loss 15.056, len  test loss 0.934, col  test loss 179.832\n"
     ]
    },
    {
     "name": "stderr",
     "output_type": "stream",
     "text": [
      "Epoch 1589: 272batch [00:32,  8.30batch/s, loss=2.72e+3]\n"
     ]
    },
    {
     "name": "stdout",
     "output_type": "stream",
     "text": [
      "epoch 1589: avg train loss 2045.36, bar train loss 14.969, len train loss 0.947, col train loss 179.895\n"
     ]
    },
    {
     "name": "stderr",
     "output_type": "stream",
     "text": [
      "Epoch 1590: 1batch [00:00,  9.52batch/s, loss=2.08e+3]"
     ]
    },
    {
     "name": "stdout",
     "output_type": "stream",
     "text": [
      "epoch 1589: avg test  loss 2044.12, bar  test loss 15.056, len  test loss 0.934, col  test loss 179.822\n"
     ]
    },
    {
     "name": "stderr",
     "output_type": "stream",
     "text": [
      "Epoch 1590: 272batch [00:32,  8.34batch/s, loss=2.5e+3] \n"
     ]
    },
    {
     "name": "stdout",
     "output_type": "stream",
     "text": [
      "epoch 1590: avg train loss 2045.31, bar train loss 14.966, len train loss 0.946, col train loss 179.903\n",
      "epoch 1590: avg test  loss 2044.06, bar  test loss 15.056, len  test loss 0.934, col  test loss 179.819\n"
     ]
    },
    {
     "name": "stderr",
     "output_type": "stream",
     "text": [
      "Epoch 1591: 272batch [00:32,  8.35batch/s, loss=2.93e+3]\n"
     ]
    },
    {
     "name": "stdout",
     "output_type": "stream",
     "text": [
      "epoch 1591: avg train loss 2045.49, bar train loss 14.968, len train loss 0.948, col train loss 179.899\n"
     ]
    },
    {
     "name": "stderr",
     "output_type": "stream",
     "text": [
      "Epoch 1592: 1batch [00:00,  8.33batch/s, loss=2.18e+3]"
     ]
    },
    {
     "name": "stdout",
     "output_type": "stream",
     "text": [
      "epoch 1591: avg test  loss 2044.19, bar  test loss 15.056, len  test loss 0.934, col  test loss 179.832\n"
     ]
    },
    {
     "name": "stderr",
     "output_type": "stream",
     "text": [
      "Epoch 1592: 272batch [00:32,  8.27batch/s, loss=2.69e+3]\n"
     ]
    },
    {
     "name": "stdout",
     "output_type": "stream",
     "text": [
      "epoch 1592: avg train loss 2045.39, bar train loss 14.965, len train loss 0.947, col train loss 179.905\n"
     ]
    },
    {
     "name": "stderr",
     "output_type": "stream",
     "text": [
      "Epoch 1593: 1batch [00:00,  8.55batch/s, loss=2.07e+3]"
     ]
    },
    {
     "name": "stdout",
     "output_type": "stream",
     "text": [
      "epoch 1592: avg test  loss 2044.26, bar  test loss 15.056, len  test loss 0.934, col  test loss 179.836\n"
     ]
    },
    {
     "name": "stderr",
     "output_type": "stream",
     "text": [
      "Epoch 1593: 272batch [00:33,  8.09batch/s, loss=2.78e+3]\n"
     ]
    },
    {
     "name": "stdout",
     "output_type": "stream",
     "text": [
      "epoch 1593: avg train loss 2045.46, bar train loss 14.970, len train loss 0.947, col train loss 179.908\n"
     ]
    },
    {
     "name": "stderr",
     "output_type": "stream",
     "text": [
      "Epoch 1594: 1batch [00:00,  8.33batch/s, loss=2.02e+3]"
     ]
    },
    {
     "name": "stdout",
     "output_type": "stream",
     "text": [
      "epoch 1593: avg test  loss 2044.11, bar  test loss 15.056, len  test loss 0.934, col  test loss 179.826\n"
     ]
    },
    {
     "name": "stderr",
     "output_type": "stream",
     "text": [
      "Epoch 1594: 272batch [00:33,  8.24batch/s, loss=3.28e+3]\n"
     ]
    },
    {
     "name": "stdout",
     "output_type": "stream",
     "text": [
      "epoch 1594: avg train loss 2045.65, bar train loss 14.975, len train loss 0.949, col train loss 179.902\n"
     ]
    },
    {
     "name": "stderr",
     "output_type": "stream",
     "text": [
      "Epoch 1595: 0batch [00:00, ?batch/s, loss=2.07e+3]"
     ]
    },
    {
     "name": "stdout",
     "output_type": "stream",
     "text": [
      "epoch 1594: avg test  loss 2044.25, bar  test loss 15.056, len  test loss 0.934, col  test loss 179.841\n"
     ]
    },
    {
     "name": "stderr",
     "output_type": "stream",
     "text": [
      "Epoch 1595: 272batch [00:32,  8.27batch/s, loss=2.41e+3]\n"
     ]
    },
    {
     "name": "stdout",
     "output_type": "stream",
     "text": [
      "epoch 1595: avg train loss 2045.21, bar train loss 14.968, len train loss 0.946, col train loss 179.899\n",
      "epoch 1595: avg test  loss 2044.23, bar  test loss 15.056, len  test loss 0.934, col  test loss 179.841\n"
     ]
    },
    {
     "name": "stderr",
     "output_type": "stream",
     "text": [
      "Epoch 1596: 272batch [00:33,  8.13batch/s, loss=2.89e+3]\n"
     ]
    },
    {
     "name": "stdout",
     "output_type": "stream",
     "text": [
      "epoch 1596: avg train loss 2045.34, bar train loss 14.973, len train loss 0.947, col train loss 179.897\n"
     ]
    },
    {
     "name": "stderr",
     "output_type": "stream",
     "text": [
      "Epoch 1597: 1batch [00:00,  9.62batch/s, loss=1.95e+3]"
     ]
    },
    {
     "name": "stdout",
     "output_type": "stream",
     "text": [
      "epoch 1596: avg test  loss 2044.01, bar  test loss 15.056, len  test loss 0.934, col  test loss 179.820\n"
     ]
    },
    {
     "name": "stderr",
     "output_type": "stream",
     "text": [
      "Epoch 1597: 272batch [00:32,  8.30batch/s, loss=2.8e+3] \n"
     ]
    },
    {
     "name": "stdout",
     "output_type": "stream",
     "text": [
      "epoch 1597: avg train loss 2045.70, bar train loss 14.969, len train loss 0.948, col train loss 179.934\n"
     ]
    },
    {
     "name": "stderr",
     "output_type": "stream",
     "text": [
      "Epoch 1598: 1batch [00:00,  9.01batch/s, loss=2e+3]"
     ]
    },
    {
     "name": "stdout",
     "output_type": "stream",
     "text": [
      "epoch 1597: avg test  loss 2045.27, bar  test loss 15.056, len  test loss 0.934, col  test loss 179.945\n"
     ]
    },
    {
     "name": "stderr",
     "output_type": "stream",
     "text": [
      "Epoch 1598: 272batch [00:32,  8.28batch/s, loss=2.81e+3]\n"
     ]
    },
    {
     "name": "stdout",
     "output_type": "stream",
     "text": [
      "epoch 1598: avg train loss 2046.29, bar train loss 14.970, len train loss 0.947, col train loss 179.997\n"
     ]
    },
    {
     "name": "stderr",
     "output_type": "stream",
     "text": [
      "Epoch 1599: 1batch [00:00,  8.55batch/s, loss=2.11e+3]"
     ]
    },
    {
     "name": "stdout",
     "output_type": "stream",
     "text": [
      "epoch 1598: avg test  loss 2045.17, bar  test loss 15.056, len  test loss 0.934, col  test loss 179.940\n"
     ]
    },
    {
     "name": "stderr",
     "output_type": "stream",
     "text": [
      "Epoch 1599: 272batch [00:32,  8.28batch/s, loss=2.7e+3] \n"
     ]
    },
    {
     "name": "stdout",
     "output_type": "stream",
     "text": [
      "epoch 1599: avg train loss 2046.60, bar train loss 14.970, len train loss 0.947, col train loss 179.953\n"
     ]
    },
    {
     "name": "stderr",
     "output_type": "stream",
     "text": [
      "Epoch 1600: 1batch [00:00,  9.26batch/s, loss=1.89e+3]"
     ]
    },
    {
     "name": "stdout",
     "output_type": "stream",
     "text": [
      "epoch 1599: avg test  loss 2045.45, bar  test loss 15.056, len  test loss 0.934, col  test loss 179.853\n"
     ]
    },
    {
     "name": "stderr",
     "output_type": "stream",
     "text": [
      "Epoch 1600: 272batch [00:32,  8.25batch/s, loss=2.72e+3]\n"
     ]
    },
    {
     "name": "stdout",
     "output_type": "stream",
     "text": [
      "epoch 1600: avg train loss 2046.69, bar train loss 14.970, len train loss 0.947, col train loss 179.924\n",
      "epoch 1600: avg test  loss 2045.43, bar  test loss 15.056, len  test loss 0.934, col  test loss 179.850\n"
     ]
    },
    {
     "name": "stderr",
     "output_type": "stream",
     "text": [
      "Epoch 1601: 272batch [00:32,  8.27batch/s, loss=2.8e+3] \n"
     ]
    },
    {
     "name": "stdout",
     "output_type": "stream",
     "text": [
      "epoch 1601: avg train loss 2046.69, bar train loss 14.972, len train loss 0.947, col train loss 179.926\n"
     ]
    },
    {
     "name": "stderr",
     "output_type": "stream",
     "text": [
      "Epoch 1602: 1batch [00:00,  8.33batch/s, loss=2.03e+3]"
     ]
    },
    {
     "name": "stdout",
     "output_type": "stream",
     "text": [
      "epoch 1601: avg test  loss 2045.57, bar  test loss 15.056, len  test loss 0.934, col  test loss 179.868\n"
     ]
    },
    {
     "name": "stderr",
     "output_type": "stream",
     "text": [
      "Epoch 1602: 272batch [00:33,  8.19batch/s, loss=2.38e+3]\n"
     ]
    },
    {
     "name": "stdout",
     "output_type": "stream",
     "text": [
      "epoch 1602: avg train loss 2046.50, bar train loss 14.965, len train loss 0.946, col train loss 179.928\n"
     ]
    },
    {
     "name": "stderr",
     "output_type": "stream",
     "text": [
      "Epoch 1603: 1batch [00:00,  8.70batch/s, loss=1.95e+3]"
     ]
    },
    {
     "name": "stdout",
     "output_type": "stream",
     "text": [
      "epoch 1602: avg test  loss 2045.44, bar  test loss 15.056, len  test loss 0.934, col  test loss 179.857\n"
     ]
    },
    {
     "name": "stderr",
     "output_type": "stream",
     "text": [
      "Epoch 1603: 272batch [00:33,  8.22batch/s, loss=2.62e+3]\n"
     ]
    },
    {
     "name": "stdout",
     "output_type": "stream",
     "text": [
      "epoch 1603: avg train loss 2046.56, bar train loss 14.969, len train loss 0.947, col train loss 179.923\n"
     ]
    },
    {
     "name": "stderr",
     "output_type": "stream",
     "text": [
      "Epoch 1604: 1batch [00:00,  9.17batch/s, loss=2.01e+3]"
     ]
    },
    {
     "name": "stdout",
     "output_type": "stream",
     "text": [
      "epoch 1603: avg test  loss 2045.32, bar  test loss 15.056, len  test loss 0.934, col  test loss 179.851\n"
     ]
    },
    {
     "name": "stderr",
     "output_type": "stream",
     "text": [
      "Epoch 1604: 272batch [00:33,  8.18batch/s, loss=2.72e+3]\n"
     ]
    },
    {
     "name": "stdout",
     "output_type": "stream",
     "text": [
      "epoch 1604: avg train loss 2046.62, bar train loss 14.971, len train loss 0.947, col train loss 179.931\n"
     ]
    },
    {
     "name": "stderr",
     "output_type": "stream",
     "text": [
      "Epoch 1605: 1batch [00:00,  9.35batch/s, loss=2.14e+3]"
     ]
    },
    {
     "name": "stdout",
     "output_type": "stream",
     "text": [
      "epoch 1604: avg test  loss 2045.41, bar  test loss 15.056, len  test loss 0.934, col  test loss 179.861\n"
     ]
    },
    {
     "name": "stderr",
     "output_type": "stream",
     "text": [
      "Epoch 1605: 272batch [00:33,  8.20batch/s, loss=2.79e+3]\n"
     ]
    },
    {
     "name": "stdout",
     "output_type": "stream",
     "text": [
      "epoch 1605: avg train loss 2046.62, bar train loss 14.968, len train loss 0.947, col train loss 179.939\n",
      "epoch 1605: avg test  loss 2045.54, bar  test loss 15.056, len  test loss 0.934, col  test loss 179.881\n"
     ]
    },
    {
     "name": "stderr",
     "output_type": "stream",
     "text": [
      "Epoch 1606: 272batch [00:33,  8.21batch/s, loss=2.99e+3]\n"
     ]
    },
    {
     "name": "stdout",
     "output_type": "stream",
     "text": [
      "epoch 1606: avg train loss 2046.71, bar train loss 14.973, len train loss 0.948, col train loss 179.943\n"
     ]
    },
    {
     "name": "stderr",
     "output_type": "stream",
     "text": [
      "Epoch 1607: 1batch [00:00,  8.33batch/s, loss=2.03e+3]"
     ]
    },
    {
     "name": "stdout",
     "output_type": "stream",
     "text": [
      "epoch 1606: avg test  loss 2045.36, bar  test loss 15.056, len  test loss 0.934, col  test loss 179.867\n"
     ]
    },
    {
     "name": "stderr",
     "output_type": "stream",
     "text": [
      "Epoch 1607: 272batch [00:32,  8.25batch/s, loss=2.51e+3]\n"
     ]
    },
    {
     "name": "stdout",
     "output_type": "stream",
     "text": [
      "epoch 1607: avg train loss 2046.50, bar train loss 14.964, len train loss 0.947, col train loss 179.940\n"
     ]
    },
    {
     "name": "stderr",
     "output_type": "stream",
     "text": [
      "Epoch 1608: 1batch [00:00,  8.77batch/s, loss=2.12e+3]"
     ]
    },
    {
     "name": "stdout",
     "output_type": "stream",
     "text": [
      "epoch 1607: avg test  loss 2045.16, bar  test loss 15.056, len  test loss 0.934, col  test loss 179.858\n"
     ]
    },
    {
     "name": "stderr",
     "output_type": "stream",
     "text": [
      "Epoch 1608: 272batch [00:33,  8.19batch/s, loss=2.74e+3]\n"
     ]
    },
    {
     "name": "stdout",
     "output_type": "stream",
     "text": [
      "epoch 1608: avg train loss 2046.49, bar train loss 14.970, len train loss 0.947, col train loss 179.940\n"
     ]
    },
    {
     "name": "stderr",
     "output_type": "stream",
     "text": [
      "Epoch 1609: 1batch [00:00,  9.62batch/s, loss=1.99e+3]"
     ]
    },
    {
     "name": "stdout",
     "output_type": "stream",
     "text": [
      "epoch 1608: avg test  loss 2045.05, bar  test loss 15.056, len  test loss 0.934, col  test loss 179.850\n"
     ]
    },
    {
     "name": "stderr",
     "output_type": "stream",
     "text": [
      "Epoch 1609: 272batch [00:33,  8.19batch/s, loss=2.46e+3]\n"
     ]
    },
    {
     "name": "stdout",
     "output_type": "stream",
     "text": [
      "epoch 1609: avg train loss 2046.28, bar train loss 14.966, len train loss 0.947, col train loss 179.932\n"
     ]
    },
    {
     "name": "stderr",
     "output_type": "stream",
     "text": [
      "Epoch 1610: 1batch [00:00,  8.85batch/s, loss=1.98e+3]"
     ]
    },
    {
     "name": "stdout",
     "output_type": "stream",
     "text": [
      "epoch 1609: avg test  loss 2045.06, bar  test loss 15.056, len  test loss 0.934, col  test loss 179.862\n"
     ]
    },
    {
     "name": "stderr",
     "output_type": "stream",
     "text": [
      "Epoch 1610: 272batch [00:33,  8.16batch/s, loss=2.56e+3]\n"
     ]
    },
    {
     "name": "stdout",
     "output_type": "stream",
     "text": [
      "epoch 1610: avg train loss 2046.18, bar train loss 14.966, len train loss 0.947, col train loss 179.934\n",
      "epoch 1610: avg test  loss 2045.12, bar  test loss 15.056, len  test loss 0.934, col  test loss 179.874\n"
     ]
    },
    {
     "name": "stderr",
     "output_type": "stream",
     "text": [
      "Epoch 1611: 272batch [00:33,  8.13batch/s, loss=2.72e+3]\n"
     ]
    },
    {
     "name": "stdout",
     "output_type": "stream",
     "text": [
      "epoch 1611: avg train loss 2046.11, bar train loss 14.967, len train loss 0.947, col train loss 179.928\n"
     ]
    },
    {
     "name": "stderr",
     "output_type": "stream",
     "text": [
      "Epoch 1612: 1batch [00:00,  8.77batch/s, loss=2.17e+3]"
     ]
    },
    {
     "name": "stdout",
     "output_type": "stream",
     "text": [
      "epoch 1611: avg test  loss 2044.85, bar  test loss 15.056, len  test loss 0.934, col  test loss 179.856\n"
     ]
    },
    {
     "name": "stderr",
     "output_type": "stream",
     "text": [
      "Epoch 1612: 272batch [00:33,  8.16batch/s, loss=3.32e+3]\n"
     ]
    },
    {
     "name": "stdout",
     "output_type": "stream",
     "text": [
      "epoch 1612: avg train loss 2046.36, bar train loss 14.975, len train loss 0.950, col train loss 179.931\n"
     ]
    },
    {
     "name": "stderr",
     "output_type": "stream",
     "text": [
      "Epoch 1613: 1batch [00:00,  9.09batch/s, loss=2.13e+3]"
     ]
    },
    {
     "name": "stdout",
     "output_type": "stream",
     "text": [
      "epoch 1612: avg test  loss 2044.82, bar  test loss 15.056, len  test loss 0.934, col  test loss 179.859\n"
     ]
    },
    {
     "name": "stderr",
     "output_type": "stream",
     "text": [
      "Epoch 1613: 272batch [00:33,  8.14batch/s, loss=2.45e+3]\n"
     ]
    },
    {
     "name": "stdout",
     "output_type": "stream",
     "text": [
      "epoch 1613: avg train loss 2045.45, bar train loss 14.963, len train loss 0.947, col train loss 179.884\n"
     ]
    },
    {
     "name": "stderr",
     "output_type": "stream",
     "text": [
      "Epoch 1614: 1batch [00:00,  8.06batch/s, loss=2.18e+3]"
     ]
    },
    {
     "name": "stdout",
     "output_type": "stream",
     "text": [
      "epoch 1613: avg test  loss 2044.11, bar  test loss 15.056, len  test loss 0.934, col  test loss 179.798\n"
     ]
    },
    {
     "name": "stderr",
     "output_type": "stream",
     "text": [
      "Epoch 1614: 272batch [00:33,  8.16batch/s, loss=2.39e+3]\n"
     ]
    },
    {
     "name": "stdout",
     "output_type": "stream",
     "text": [
      "epoch 1614: avg train loss 2045.15, bar train loss 14.964, len train loss 0.946, col train loss 179.872\n"
     ]
    },
    {
     "name": "stderr",
     "output_type": "stream",
     "text": [
      "Epoch 1615: 1batch [00:00,  8.20batch/s, loss=2.13e+3]"
     ]
    },
    {
     "name": "stdout",
     "output_type": "stream",
     "text": [
      "epoch 1614: avg test  loss 2044.07, bar  test loss 15.056, len  test loss 0.934, col  test loss 179.807\n"
     ]
    },
    {
     "name": "stderr",
     "output_type": "stream",
     "text": [
      "Epoch 1615: 272batch [00:33,  8.12batch/s, loss=2.65e+3]\n"
     ]
    },
    {
     "name": "stdout",
     "output_type": "stream",
     "text": [
      "epoch 1615: avg train loss 2045.64, bar train loss 14.967, len train loss 0.947, col train loss 179.910\n",
      "epoch 1615: avg test  loss 2044.71, bar  test loss 15.056, len  test loss 0.934, col  test loss 179.860\n"
     ]
    },
    {
     "name": "stderr",
     "output_type": "stream",
     "text": [
      "Epoch 1616: 272batch [00:33,  8.17batch/s, loss=2.86e+3]\n"
     ]
    },
    {
     "name": "stdout",
     "output_type": "stream",
     "text": [
      "epoch 1616: avg train loss 2045.92, bar train loss 14.972, len train loss 0.947, col train loss 179.935\n"
     ]
    },
    {
     "name": "stderr",
     "output_type": "stream",
     "text": [
      "Epoch 1617: 1batch [00:00,  8.85batch/s, loss=2.07e+3]"
     ]
    },
    {
     "name": "stdout",
     "output_type": "stream",
     "text": [
      "epoch 1616: avg test  loss 2044.59, bar  test loss 15.056, len  test loss 0.934, col  test loss 179.866\n"
     ]
    },
    {
     "name": "stderr",
     "output_type": "stream",
     "text": [
      "Epoch 1617: 272batch [00:33,  8.16batch/s, loss=3e+3]   \n"
     ]
    },
    {
     "name": "stdout",
     "output_type": "stream",
     "text": [
      "epoch 1617: avg train loss 2045.88, bar train loss 14.974, len train loss 0.947, col train loss 179.944\n"
     ]
    },
    {
     "name": "stderr",
     "output_type": "stream",
     "text": [
      "Epoch 1618: 1batch [00:00,  8.62batch/s, loss=2.09e+3]"
     ]
    },
    {
     "name": "stdout",
     "output_type": "stream",
     "text": [
      "epoch 1617: avg test  loss 2044.64, bar  test loss 15.056, len  test loss 0.934, col  test loss 179.885\n"
     ]
    },
    {
     "name": "stderr",
     "output_type": "stream",
     "text": [
      "Epoch 1618: 272batch [00:33,  8.11batch/s, loss=3.22e+3]\n"
     ]
    },
    {
     "name": "stdout",
     "output_type": "stream",
     "text": [
      "epoch 1618: avg train loss 2045.83, bar train loss 14.974, len train loss 0.949, col train loss 179.932\n"
     ]
    },
    {
     "name": "stderr",
     "output_type": "stream",
     "text": [
      "Epoch 1619: 1batch [00:00,  7.69batch/s, loss=2.06e+3]"
     ]
    },
    {
     "name": "stdout",
     "output_type": "stream",
     "text": [
      "epoch 1618: avg test  loss 2044.31, bar  test loss 15.056, len  test loss 0.934, col  test loss 179.864\n"
     ]
    },
    {
     "name": "stderr",
     "output_type": "stream",
     "text": [
      "Epoch 1619: 272batch [00:33,  8.06batch/s, loss=2.36e+3]\n"
     ]
    },
    {
     "name": "stdout",
     "output_type": "stream",
     "text": [
      "epoch 1619: avg train loss 2045.32, bar train loss 14.964, len train loss 0.946, col train loss 179.939\n"
     ]
    },
    {
     "name": "stderr",
     "output_type": "stream",
     "text": [
      "Epoch 1620: 1batch [00:00,  9.17batch/s, loss=2.06e+3]"
     ]
    },
    {
     "name": "stdout",
     "output_type": "stream",
     "text": [
      "epoch 1619: avg test  loss 2044.24, bar  test loss 15.056, len  test loss 0.934, col  test loss 179.878\n"
     ]
    },
    {
     "name": "stderr",
     "output_type": "stream",
     "text": [
      "Epoch 1620: 272batch [00:33,  8.07batch/s, loss=2.96e+3]\n"
     ]
    },
    {
     "name": "stdout",
     "output_type": "stream",
     "text": [
      "epoch 1620: avg train loss 2045.48, bar train loss 14.970, len train loss 0.948, col train loss 179.949\n",
      "epoch 1620: avg test  loss 2043.98, bar  test loss 15.056, len  test loss 0.934, col  test loss 179.864\n"
     ]
    },
    {
     "name": "stderr",
     "output_type": "stream",
     "text": [
      "Epoch 1621: 272batch [00:33,  8.06batch/s, loss=2.47e+3]\n"
     ]
    },
    {
     "name": "stdout",
     "output_type": "stream",
     "text": [
      "epoch 1621: avg train loss 2045.13, bar train loss 14.965, len train loss 0.946, col train loss 179.949\n"
     ]
    },
    {
     "name": "stderr",
     "output_type": "stream",
     "text": [
      "Epoch 1622: 1batch [00:00,  9.01batch/s, loss=2.03e+3]"
     ]
    },
    {
     "name": "stdout",
     "output_type": "stream",
     "text": [
      "epoch 1621: avg test  loss 2043.93, bar  test loss 15.056, len  test loss 0.934, col  test loss 179.878\n"
     ]
    },
    {
     "name": "stderr",
     "output_type": "stream",
     "text": [
      "Epoch 1622: 272batch [00:33,  8.11batch/s, loss=2.68e+3]\n"
     ]
    },
    {
     "name": "stdout",
     "output_type": "stream",
     "text": [
      "epoch 1622: avg train loss 2045.12, bar train loss 14.970, len train loss 0.947, col train loss 179.964\n"
     ]
    },
    {
     "name": "stderr",
     "output_type": "stream",
     "text": [
      "Epoch 1623: 1batch [00:00,  8.93batch/s, loss=2.12e+3]"
     ]
    },
    {
     "name": "stdout",
     "output_type": "stream",
     "text": [
      "epoch 1622: avg test  loss 2044.12, bar  test loss 15.056, len  test loss 0.934, col  test loss 179.926\n"
     ]
    },
    {
     "name": "stderr",
     "output_type": "stream",
     "text": [
      "Epoch 1623: 272batch [00:33,  8.05batch/s, loss=2.63e+3]\n"
     ]
    },
    {
     "name": "stdout",
     "output_type": "stream",
     "text": [
      "epoch 1623: avg train loss 2044.77, bar train loss 14.968, len train loss 0.947, col train loss 179.945\n"
     ]
    },
    {
     "name": "stderr",
     "output_type": "stream",
     "text": [
      "Epoch 1624: 1batch [00:00,  8.85batch/s, loss=2.06e+3]"
     ]
    },
    {
     "name": "stdout",
     "output_type": "stream",
     "text": [
      "epoch 1623: avg test  loss 2043.24, bar  test loss 15.056, len  test loss 0.934, col  test loss 179.842\n"
     ]
    },
    {
     "name": "stderr",
     "output_type": "stream",
     "text": [
      "Epoch 1624: 272batch [00:33,  8.01batch/s, loss=3.01e+3]\n"
     ]
    },
    {
     "name": "stdout",
     "output_type": "stream",
     "text": [
      "epoch 1624: avg train loss 2044.69, bar train loss 14.972, len train loss 0.948, col train loss 179.934\n"
     ]
    },
    {
     "name": "stderr",
     "output_type": "stream",
     "text": [
      "Epoch 1625: 1batch [00:00,  8.77batch/s, loss=1.94e+3]"
     ]
    },
    {
     "name": "stdout",
     "output_type": "stream",
     "text": [
      "epoch 1624: avg test  loss 2043.38, bar  test loss 15.056, len  test loss 0.934, col  test loss 179.871\n"
     ]
    },
    {
     "name": "stderr",
     "output_type": "stream",
     "text": [
      "Epoch 1625: 272batch [00:33,  8.09batch/s, loss=2.59e+3]\n"
     ]
    },
    {
     "name": "stdout",
     "output_type": "stream",
     "text": [
      "epoch 1625: avg train loss 2044.39, bar train loss 14.966, len train loss 0.947, col train loss 179.934\n",
      "epoch 1625: avg test  loss 2043.23, bar  test loss 15.056, len  test loss 0.934, col  test loss 179.869\n"
     ]
    },
    {
     "name": "stderr",
     "output_type": "stream",
     "text": [
      "Epoch 1626: 272batch [00:33,  8.03batch/s, loss=2.64e+3]\n"
     ]
    },
    {
     "name": "stdout",
     "output_type": "stream",
     "text": [
      "epoch 1626: avg train loss 2044.43, bar train loss 14.962, len train loss 0.948, col train loss 179.946\n"
     ]
    },
    {
     "name": "stderr",
     "output_type": "stream",
     "text": [
      "Epoch 1627: 1batch [00:00,  8.85batch/s, loss=2.03e+3]"
     ]
    },
    {
     "name": "stdout",
     "output_type": "stream",
     "text": [
      "epoch 1626: avg test  loss 2043.17, bar  test loss 15.056, len  test loss 0.934, col  test loss 179.877\n"
     ]
    },
    {
     "name": "stderr",
     "output_type": "stream",
     "text": [
      "Epoch 1627: 272batch [00:33,  8.00batch/s, loss=2.72e+3]\n"
     ]
    },
    {
     "name": "stdout",
     "output_type": "stream",
     "text": [
      "epoch 1627: avg train loss 2044.29, bar train loss 14.966, len train loss 0.948, col train loss 179.941\n"
     ]
    },
    {
     "name": "stderr",
     "output_type": "stream",
     "text": [
      "Epoch 1628: 1batch [00:00,  9.62batch/s, loss=1.99e+3]"
     ]
    },
    {
     "name": "stdout",
     "output_type": "stream",
     "text": [
      "epoch 1627: avg test  loss 2043.21, bar  test loss 15.056, len  test loss 0.934, col  test loss 179.890\n"
     ]
    },
    {
     "name": "stderr",
     "output_type": "stream",
     "text": [
      "Epoch 1628: 272batch [00:33,  8.09batch/s, loss=2.39e+3]\n"
     ]
    },
    {
     "name": "stdout",
     "output_type": "stream",
     "text": [
      "epoch 1628: avg train loss 2044.21, bar train loss 14.963, len train loss 0.946, col train loss 179.960\n"
     ]
    },
    {
     "name": "stderr",
     "output_type": "stream",
     "text": [
      "Epoch 1629: 1batch [00:00,  8.47batch/s, loss=2.13e+3]"
     ]
    },
    {
     "name": "stdout",
     "output_type": "stream",
     "text": [
      "epoch 1628: avg test  loss 2043.31, bar  test loss 15.056, len  test loss 0.934, col  test loss 179.910\n"
     ]
    },
    {
     "name": "stderr",
     "output_type": "stream",
     "text": [
      "Epoch 1629: 272batch [00:34,  7.93batch/s, loss=2.48e+3]\n"
     ]
    },
    {
     "name": "stdout",
     "output_type": "stream",
     "text": [
      "epoch 1629: avg train loss 2044.21, bar train loss 14.965, len train loss 0.946, col train loss 179.971\n"
     ]
    },
    {
     "name": "stderr",
     "output_type": "stream",
     "text": [
      "Epoch 1630: 1batch [00:00,  8.85batch/s, loss=2.07e+3]"
     ]
    },
    {
     "name": "stdout",
     "output_type": "stream",
     "text": [
      "epoch 1629: avg test  loss 2042.86, bar  test loss 15.056, len  test loss 0.934, col  test loss 179.845\n"
     ]
    },
    {
     "name": "stderr",
     "output_type": "stream",
     "text": [
      "Epoch 1630: 272batch [00:33,  8.02batch/s, loss=2.65e+3]\n"
     ]
    },
    {
     "name": "stdout",
     "output_type": "stream",
     "text": [
      "epoch 1630: avg train loss 2043.99, bar train loss 14.971, len train loss 0.947, col train loss 179.884\n",
      "epoch 1630: avg test  loss 2042.67, bar  test loss 15.056, len  test loss 0.934, col  test loss 179.797\n"
     ]
    },
    {
     "name": "stderr",
     "output_type": "stream",
     "text": [
      "Epoch 1631: 272batch [00:33,  8.02batch/s, loss=2.84e+3]\n"
     ]
    },
    {
     "name": "stdout",
     "output_type": "stream",
     "text": [
      "epoch 1631: avg train loss 2043.80, bar train loss 14.969, len train loss 0.947, col train loss 179.871\n"
     ]
    },
    {
     "name": "stderr",
     "output_type": "stream",
     "text": [
      "Epoch 1632: 1batch [00:00,  9.09batch/s, loss=2.06e+3]"
     ]
    },
    {
     "name": "stdout",
     "output_type": "stream",
     "text": [
      "epoch 1631: avg test  loss 2042.80, bar  test loss 15.056, len  test loss 0.934, col  test loss 179.833\n"
     ]
    },
    {
     "name": "stderr",
     "output_type": "stream",
     "text": [
      "Epoch 1632: 272batch [00:33,  8.00batch/s, loss=2.59e+3]\n"
     ]
    },
    {
     "name": "stdout",
     "output_type": "stream",
     "text": [
      "epoch 1632: avg train loss 2061.80, bar train loss 16.725, len train loss 0.947, col train loss 179.817\n"
     ]
    },
    {
     "name": "stderr",
     "output_type": "stream",
     "text": [
      "Epoch 1633: 1batch [00:00,  9.17batch/s, loss=1.94e+3]"
     ]
    },
    {
     "name": "stdout",
     "output_type": "stream",
     "text": [
      "epoch 1632: avg test  loss 2043.31, bar  test loss 15.056, len  test loss 0.934, col  test loss 179.728\n"
     ]
    },
    {
     "name": "stderr",
     "output_type": "stream",
     "text": [
      "Epoch 1633: 272batch [00:34,  7.99batch/s, loss=2.61e+3]\n"
     ]
    },
    {
     "name": "stdout",
     "output_type": "stream",
     "text": [
      "epoch 1633: avg train loss 2044.35, bar train loss 14.973, len train loss 0.946, col train loss 179.804\n"
     ]
    },
    {
     "name": "stderr",
     "output_type": "stream",
     "text": [
      "Epoch 1634: 1batch [00:00,  8.62batch/s, loss=2.07e+3]"
     ]
    },
    {
     "name": "stdout",
     "output_type": "stream",
     "text": [
      "epoch 1633: avg test  loss 2043.12, bar  test loss 15.056, len  test loss 0.934, col  test loss 179.744\n"
     ]
    },
    {
     "name": "stderr",
     "output_type": "stream",
     "text": [
      "Epoch 1634: 272batch [00:34,  7.95batch/s, loss=2.55e+3]\n"
     ]
    },
    {
     "name": "stdout",
     "output_type": "stream",
     "text": [
      "epoch 1634: avg train loss 2044.05, bar train loss 14.970, len train loss 0.946, col train loss 179.816\n"
     ]
    },
    {
     "name": "stderr",
     "output_type": "stream",
     "text": [
      "Epoch 1635: 1batch [00:00,  8.70batch/s, loss=2.02e+3]"
     ]
    },
    {
     "name": "stdout",
     "output_type": "stream",
     "text": [
      "epoch 1634: avg test  loss 2042.74, bar  test loss 15.056, len  test loss 0.934, col  test loss 179.738\n"
     ]
    },
    {
     "name": "stderr",
     "output_type": "stream",
     "text": [
      "Epoch 1635: 272batch [00:34,  7.95batch/s, loss=2.66e+3]\n"
     ]
    },
    {
     "name": "stdout",
     "output_type": "stream",
     "text": [
      "epoch 1635: avg train loss 2043.98, bar train loss 14.968, len train loss 0.947, col train loss 179.828\n",
      "epoch 1635: avg test  loss 2042.52, bar  test loss 15.056, len  test loss 0.934, col  test loss 179.745\n"
     ]
    },
    {
     "name": "stderr",
     "output_type": "stream",
     "text": [
      "Epoch 1636: 272batch [00:34,  7.96batch/s, loss=2.78e+3]\n"
     ]
    },
    {
     "name": "stdout",
     "output_type": "stream",
     "text": [
      "epoch 1636: avg train loss 2043.70, bar train loss 14.973, len train loss 0.947, col train loss 179.826\n"
     ]
    },
    {
     "name": "stderr",
     "output_type": "stream",
     "text": [
      "Epoch 1637: 1batch [00:00,  9.52batch/s, loss=1.98e+3]"
     ]
    },
    {
     "name": "stdout",
     "output_type": "stream",
     "text": [
      "epoch 1636: avg test  loss 2042.55, bar  test loss 15.056, len  test loss 0.934, col  test loss 179.772\n"
     ]
    },
    {
     "name": "stderr",
     "output_type": "stream",
     "text": [
      "Epoch 1637: 272batch [00:34,  8.00batch/s, loss=3.02e+3]\n"
     ]
    },
    {
     "name": "stdout",
     "output_type": "stream",
     "text": [
      "epoch 1637: avg train loss 2043.63, bar train loss 14.975, len train loss 0.948, col train loss 179.816\n"
     ]
    },
    {
     "name": "stderr",
     "output_type": "stream",
     "text": [
      "Epoch 1638: 1batch [00:00,  8.26batch/s, loss=1.97e+3]"
     ]
    },
    {
     "name": "stdout",
     "output_type": "stream",
     "text": [
      "epoch 1637: avg test  loss 2042.61, bar  test loss 15.056, len  test loss 0.934, col  test loss 179.724\n"
     ]
    },
    {
     "name": "stderr",
     "output_type": "stream",
     "text": [
      "Epoch 1638: 272batch [00:34,  7.93batch/s, loss=3.1e+3] \n"
     ]
    },
    {
     "name": "stdout",
     "output_type": "stream",
     "text": [
      "epoch 1638: avg train loss 2044.43, bar train loss 14.973, len train loss 0.949, col train loss 179.790\n"
     ]
    },
    {
     "name": "stderr",
     "output_type": "stream",
     "text": [
      "Epoch 1639: 1batch [00:00,  8.00batch/s, loss=2.07e+3]"
     ]
    },
    {
     "name": "stdout",
     "output_type": "stream",
     "text": [
      "epoch 1638: avg test  loss 2042.79, bar  test loss 15.056, len  test loss 0.934, col  test loss 179.714\n"
     ]
    },
    {
     "name": "stderr",
     "output_type": "stream",
     "text": [
      "Epoch 1639: 272batch [00:34,  7.93batch/s, loss=2.88e+3]\n"
     ]
    },
    {
     "name": "stdout",
     "output_type": "stream",
     "text": [
      "epoch 1639: avg train loss 2043.91, bar train loss 14.973, len train loss 0.948, col train loss 179.790\n"
     ]
    },
    {
     "name": "stderr",
     "output_type": "stream",
     "text": [
      "Epoch 1640: 1batch [00:00,  8.85batch/s, loss=2.02e+3]"
     ]
    },
    {
     "name": "stdout",
     "output_type": "stream",
     "text": [
      "epoch 1639: avg test  loss 2042.57, bar  test loss 15.056, len  test loss 0.934, col  test loss 179.737\n"
     ]
    },
    {
     "name": "stderr",
     "output_type": "stream",
     "text": [
      "Epoch 1640: 272batch [00:34,  7.91batch/s, loss=2.95e+3]\n"
     ]
    },
    {
     "name": "stdout",
     "output_type": "stream",
     "text": [
      "epoch 1640: avg train loss 2043.80, bar train loss 14.971, len train loss 0.949, col train loss 179.815\n",
      "epoch 1640: avg test  loss 2042.15, bar  test loss 15.056, len  test loss 0.934, col  test loss 179.735\n"
     ]
    },
    {
     "name": "stderr",
     "output_type": "stream",
     "text": [
      "Epoch 1641: 272batch [00:34,  7.92batch/s, loss=2.38e+3]\n"
     ]
    },
    {
     "name": "stdout",
     "output_type": "stream",
     "text": [
      "epoch 1641: avg train loss 2044.76, bar train loss 14.965, len train loss 0.946, col train loss 179.791\n"
     ]
    },
    {
     "name": "stderr",
     "output_type": "stream",
     "text": [
      "Epoch 1642: 1batch [00:00,  8.77batch/s, loss=2.01e+3]"
     ]
    },
    {
     "name": "stdout",
     "output_type": "stream",
     "text": [
      "epoch 1641: avg test  loss 2044.29, bar  test loss 15.056, len  test loss 0.934, col  test loss 179.709\n"
     ]
    },
    {
     "name": "stderr",
     "output_type": "stream",
     "text": [
      "Epoch 1642: 272batch [00:34,  7.89batch/s, loss=2.96e+3]\n"
     ]
    },
    {
     "name": "stdout",
     "output_type": "stream",
     "text": [
      "epoch 1642: avg train loss 2045.49, bar train loss 14.967, len train loss 0.948, col train loss 179.785\n"
     ]
    },
    {
     "name": "stderr",
     "output_type": "stream",
     "text": [
      "Epoch 1643: 1batch [00:00,  9.43batch/s, loss=2.09e+3]"
     ]
    },
    {
     "name": "stdout",
     "output_type": "stream",
     "text": [
      "epoch 1642: avg test  loss 2044.05, bar  test loss 15.056, len  test loss 0.934, col  test loss 179.714\n"
     ]
    },
    {
     "name": "stderr",
     "output_type": "stream",
     "text": [
      "Epoch 1643: 272batch [00:33,  8.03batch/s, loss=2.56e+3]\n"
     ]
    },
    {
     "name": "stdout",
     "output_type": "stream",
     "text": [
      "epoch 1643: avg train loss 2045.46, bar train loss 14.966, len train loss 0.947, col train loss 179.782\n"
     ]
    },
    {
     "name": "stderr",
     "output_type": "stream",
     "text": [
      "Epoch 1644: 1batch [00:00,  8.85batch/s, loss=2.14e+3]"
     ]
    },
    {
     "name": "stdout",
     "output_type": "stream",
     "text": [
      "epoch 1643: avg test  loss 2044.18, bar  test loss 15.056, len  test loss 0.934, col  test loss 179.711\n"
     ]
    },
    {
     "name": "stderr",
     "output_type": "stream",
     "text": [
      "Epoch 1644: 272batch [00:34,  7.94batch/s, loss=3.05e+3]\n"
     ]
    },
    {
     "name": "stdout",
     "output_type": "stream",
     "text": [
      "epoch 1644: avg train loss 2045.32, bar train loss 14.974, len train loss 0.948, col train loss 179.785\n"
     ]
    },
    {
     "name": "stderr",
     "output_type": "stream",
     "text": [
      "Epoch 1645: 1batch [00:00,  9.17batch/s, loss=2e+3]"
     ]
    },
    {
     "name": "stdout",
     "output_type": "stream",
     "text": [
      "epoch 1644: avg test  loss 2043.77, bar  test loss 15.056, len  test loss 0.934, col  test loss 179.710\n"
     ]
    },
    {
     "name": "stderr",
     "output_type": "stream",
     "text": [
      "Epoch 1645: 272batch [00:34,  7.89batch/s, loss=3.13e+3]\n"
     ]
    },
    {
     "name": "stdout",
     "output_type": "stream",
     "text": [
      "epoch 1645: avg train loss 2044.99, bar train loss 14.972, len train loss 0.948, col train loss 179.781\n",
      "epoch 1645: avg test  loss 2043.45, bar  test loss 15.056, len  test loss 0.934, col  test loss 179.707\n"
     ]
    },
    {
     "name": "stderr",
     "output_type": "stream",
     "text": [
      "Epoch 1646: 272batch [00:34,  7.89batch/s, loss=2.73e+3]\n"
     ]
    },
    {
     "name": "stdout",
     "output_type": "stream",
     "text": [
      "epoch 1646: avg train loss 2044.52, bar train loss 14.968, len train loss 0.948, col train loss 179.779\n"
     ]
    },
    {
     "name": "stderr",
     "output_type": "stream",
     "text": [
      "Epoch 1647: 1batch [00:00,  9.35batch/s, loss=2.06e+3]"
     ]
    },
    {
     "name": "stdout",
     "output_type": "stream",
     "text": [
      "epoch 1646: avg test  loss 2043.08, bar  test loss 15.056, len  test loss 0.934, col  test loss 179.709\n"
     ]
    },
    {
     "name": "stderr",
     "output_type": "stream",
     "text": [
      "Epoch 1647: 272batch [00:34,  7.93batch/s, loss=2.58e+3]\n"
     ]
    },
    {
     "name": "stdout",
     "output_type": "stream",
     "text": [
      "epoch 1647: avg train loss 2044.16, bar train loss 14.969, len train loss 0.947, col train loss 179.786\n"
     ]
    },
    {
     "name": "stderr",
     "output_type": "stream",
     "text": [
      "Epoch 1648: 1batch [00:00,  8.77batch/s, loss=2.13e+3]"
     ]
    },
    {
     "name": "stdout",
     "output_type": "stream",
     "text": [
      "epoch 1647: avg test  loss 2042.88, bar  test loss 15.056, len  test loss 0.934, col  test loss 179.718\n"
     ]
    },
    {
     "name": "stderr",
     "output_type": "stream",
     "text": [
      "Epoch 1648: 272batch [00:34,  7.91batch/s, loss=3.31e+3]\n"
     ]
    },
    {
     "name": "stdout",
     "output_type": "stream",
     "text": [
      "epoch 1648: avg train loss 2044.16, bar train loss 14.977, len train loss 0.949, col train loss 179.789\n"
     ]
    },
    {
     "name": "stderr",
     "output_type": "stream",
     "text": [
      "Epoch 1649: 1batch [00:00,  8.93batch/s, loss=2e+3]"
     ]
    },
    {
     "name": "stdout",
     "output_type": "stream",
     "text": [
      "epoch 1648: avg test  loss 2042.66, bar  test loss 15.056, len  test loss 0.934, col  test loss 179.730\n"
     ]
    },
    {
     "name": "stderr",
     "output_type": "stream",
     "text": [
      "Epoch 1649: 272batch [00:34,  7.86batch/s, loss=2.75e+3]\n"
     ]
    },
    {
     "name": "stdout",
     "output_type": "stream",
     "text": [
      "epoch 1649: avg train loss 2043.78, bar train loss 14.969, len train loss 0.948, col train loss 179.796\n"
     ]
    },
    {
     "name": "stderr",
     "output_type": "stream",
     "text": [
      "Epoch 1650: 1batch [00:00,  8.77batch/s, loss=2.11e+3]"
     ]
    },
    {
     "name": "stdout",
     "output_type": "stream",
     "text": [
      "epoch 1649: avg test  loss 2042.37, bar  test loss 15.056, len  test loss 0.934, col  test loss 179.727\n"
     ]
    },
    {
     "name": "stderr",
     "output_type": "stream",
     "text": [
      "Epoch 1650: 272batch [00:34,  7.87batch/s, loss=2.71e+3]\n"
     ]
    },
    {
     "name": "stdout",
     "output_type": "stream",
     "text": [
      "epoch 1650: avg train loss 2043.40, bar train loss 14.970, len train loss 0.947, col train loss 179.790\n",
      "epoch 1650: avg test  loss 2042.19, bar  test loss 15.056, len  test loss 0.934, col  test loss 179.736\n"
     ]
    },
    {
     "name": "stderr",
     "output_type": "stream",
     "text": [
      "Epoch 1651: 272batch [00:34,  7.87batch/s, loss=2.61e+3]\n"
     ]
    },
    {
     "name": "stdout",
     "output_type": "stream",
     "text": [
      "epoch 1651: avg train loss 2043.33, bar train loss 14.967, len train loss 0.947, col train loss 179.815\n"
     ]
    },
    {
     "name": "stderr",
     "output_type": "stream",
     "text": [
      "Epoch 1652: 1batch [00:00,  9.17batch/s, loss=1.98e+3]"
     ]
    },
    {
     "name": "stdout",
     "output_type": "stream",
     "text": [
      "epoch 1651: avg test  loss 2042.12, bar  test loss 15.056, len  test loss 0.934, col  test loss 179.754\n"
     ]
    },
    {
     "name": "stderr",
     "output_type": "stream",
     "text": [
      "Epoch 1652: 272batch [00:34,  7.87batch/s, loss=2.71e+3]\n"
     ]
    },
    {
     "name": "stdout",
     "output_type": "stream",
     "text": [
      "epoch 1652: avg train loss 2043.83, bar train loss 14.966, len train loss 0.948, col train loss 179.896\n"
     ]
    },
    {
     "name": "stderr",
     "output_type": "stream",
     "text": [
      "Epoch 1653: 1batch [00:00,  7.81batch/s, loss=2e+3]"
     ]
    },
    {
     "name": "stdout",
     "output_type": "stream",
     "text": [
      "epoch 1652: avg test  loss 2043.37, bar  test loss 15.056, len  test loss 0.934, col  test loss 179.914\n"
     ]
    },
    {
     "name": "stderr",
     "output_type": "stream",
     "text": [
      "Epoch 1653: 272batch [00:34,  7.87batch/s, loss=2.3e+3] \n"
     ]
    },
    {
     "name": "stdout",
     "output_type": "stream",
     "text": [
      "epoch 1653: avg train loss 2044.11, bar train loss 14.959, len train loss 0.947, col train loss 179.960\n"
     ]
    },
    {
     "name": "stderr",
     "output_type": "stream",
     "text": [
      "Epoch 1654: 1batch [00:00,  9.01batch/s, loss=2.1e+3]"
     ]
    },
    {
     "name": "stdout",
     "output_type": "stream",
     "text": [
      "epoch 1653: avg test  loss 2043.44, bar  test loss 15.056, len  test loss 0.934, col  test loss 179.932\n"
     ]
    },
    {
     "name": "stderr",
     "output_type": "stream",
     "text": [
      "Epoch 1654: 272batch [00:34,  7.84batch/s, loss=2.93e+3]\n"
     ]
    },
    {
     "name": "stdout",
     "output_type": "stream",
     "text": [
      "epoch 1654: avg train loss 2044.25, bar train loss 14.968, len train loss 0.948, col train loss 179.957\n"
     ]
    },
    {
     "name": "stderr",
     "output_type": "stream",
     "text": [
      "Epoch 1655: 1batch [00:00,  8.26batch/s, loss=1.97e+3]"
     ]
    },
    {
     "name": "stdout",
     "output_type": "stream",
     "text": [
      "epoch 1654: avg test  loss 2042.65, bar  test loss 15.056, len  test loss 0.934, col  test loss 179.828\n"
     ]
    },
    {
     "name": "stderr",
     "output_type": "stream",
     "text": [
      "Epoch 1655: 272batch [00:36,  7.44batch/s, loss=2.82e+3]\n"
     ]
    },
    {
     "name": "stdout",
     "output_type": "stream",
     "text": [
      "epoch 1655: avg train loss 2045.22, bar train loss 14.970, len train loss 0.948, col train loss 179.999\n",
      "epoch 1655: avg test  loss 2045.25, bar  test loss 15.056, len  test loss 0.934, col  test loss 180.042\n"
     ]
    },
    {
     "name": "stderr",
     "output_type": "stream",
     "text": [
      "Epoch 1656: 272batch [00:36,  7.50batch/s, loss=2.63e+3]\n"
     ]
    },
    {
     "name": "stdout",
     "output_type": "stream",
     "text": [
      "epoch 1656: avg train loss 2045.94, bar train loss 14.967, len train loss 0.947, col train loss 180.069\n"
     ]
    },
    {
     "name": "stderr",
     "output_type": "stream",
     "text": [
      "Epoch 1657: 1batch [00:00,  8.06batch/s, loss=2.07e+3]"
     ]
    },
    {
     "name": "stdout",
     "output_type": "stream",
     "text": [
      "epoch 1656: avg test  loss 2045.25, bar  test loss 15.056, len  test loss 0.934, col  test loss 180.050\n"
     ]
    },
    {
     "name": "stderr",
     "output_type": "stream",
     "text": [
      "Epoch 1657: 272batch [00:36,  7.54batch/s, loss=2.63e+3]\n"
     ]
    },
    {
     "name": "stdout",
     "output_type": "stream",
     "text": [
      "epoch 1657: avg train loss 2045.94, bar train loss 14.965, len train loss 0.947, col train loss 180.077\n"
     ]
    },
    {
     "name": "stderr",
     "output_type": "stream",
     "text": [
      "Epoch 1658: 1batch [00:00,  7.87batch/s, loss=2.11e+3]"
     ]
    },
    {
     "name": "stdout",
     "output_type": "stream",
     "text": [
      "epoch 1657: avg test  loss 2045.29, bar  test loss 15.056, len  test loss 0.934, col  test loss 180.050\n"
     ]
    },
    {
     "name": "stderr",
     "output_type": "stream",
     "text": [
      "Epoch 1658: 272batch [00:36,  7.50batch/s, loss=2.79e+3]\n"
     ]
    },
    {
     "name": "stdout",
     "output_type": "stream",
     "text": [
      "epoch 1658: avg train loss 2046.11, bar train loss 14.967, len train loss 0.948, col train loss 180.085\n"
     ]
    },
    {
     "name": "stderr",
     "output_type": "stream",
     "text": [
      "Epoch 1659: 0batch [00:00, ?batch/s, loss=2.17e+3]"
     ]
    },
    {
     "name": "stdout",
     "output_type": "stream",
     "text": [
      "epoch 1658: avg test  loss 2044.98, bar  test loss 15.056, len  test loss 0.934, col  test loss 180.028\n"
     ]
    },
    {
     "name": "stderr",
     "output_type": "stream",
     "text": [
      "Epoch 1659: 272batch [00:36,  7.49batch/s, loss=2.74e+3]\n"
     ]
    },
    {
     "name": "stdout",
     "output_type": "stream",
     "text": [
      "epoch 1659: avg train loss 2045.99, bar train loss 14.969, len train loss 0.947, col train loss 180.087\n"
     ]
    },
    {
     "name": "stderr",
     "output_type": "stream",
     "text": [
      "Epoch 1660: 1batch [00:00,  8.70batch/s, loss=1.97e+3]"
     ]
    },
    {
     "name": "stdout",
     "output_type": "stream",
     "text": [
      "epoch 1659: avg test  loss 2044.90, bar  test loss 15.056, len  test loss 0.934, col  test loss 180.029\n"
     ]
    },
    {
     "name": "stderr",
     "output_type": "stream",
     "text": [
      "Epoch 1660: 272batch [00:36,  7.50batch/s, loss=2.93e+3]\n"
     ]
    },
    {
     "name": "stdout",
     "output_type": "stream",
     "text": [
      "epoch 1660: avg train loss 2045.94, bar train loss 14.975, len train loss 0.947, col train loss 180.086\n",
      "epoch 1660: avg test  loss 2044.62, bar  test loss 15.056, len  test loss 0.934, col  test loss 180.013\n"
     ]
    },
    {
     "name": "stderr",
     "output_type": "stream",
     "text": [
      "Epoch 1661: 272batch [00:36,  7.47batch/s, loss=2.48e+3]\n"
     ]
    },
    {
     "name": "stdout",
     "output_type": "stream",
     "text": [
      "epoch 1661: avg train loss 2045.71, bar train loss 14.961, len train loss 0.947, col train loss 180.085\n"
     ]
    },
    {
     "name": "stderr",
     "output_type": "stream",
     "text": [
      "Epoch 1662: 1batch [00:00,  7.69batch/s, loss=1.9e+3]"
     ]
    },
    {
     "name": "stdout",
     "output_type": "stream",
     "text": [
      "epoch 1661: avg test  loss 2044.99, bar  test loss 15.056, len  test loss 0.934, col  test loss 180.058\n"
     ]
    },
    {
     "name": "stderr",
     "output_type": "stream",
     "text": [
      "Epoch 1662: 272batch [00:36,  7.49batch/s, loss=3.16e+3]\n"
     ]
    },
    {
     "name": "stdout",
     "output_type": "stream",
     "text": [
      "epoch 1662: avg train loss 2045.99, bar train loss 14.975, len train loss 0.948, col train loss 180.096\n"
     ]
    },
    {
     "name": "stderr",
     "output_type": "stream",
     "text": [
      "Epoch 1663: 1batch [00:00,  9.26batch/s, loss=2.1e+3]"
     ]
    },
    {
     "name": "stdout",
     "output_type": "stream",
     "text": [
      "epoch 1662: avg test  loss 2044.85, bar  test loss 15.056, len  test loss 0.934, col  test loss 180.051\n"
     ]
    },
    {
     "name": "stderr",
     "output_type": "stream",
     "text": [
      "Epoch 1663: 272batch [00:36,  7.48batch/s, loss=2.68e+3]\n"
     ]
    },
    {
     "name": "stdout",
     "output_type": "stream",
     "text": [
      "epoch 1663: avg train loss 2044.38, bar train loss 14.969, len train loss 0.947, col train loss 179.923\n"
     ]
    },
    {
     "name": "stderr",
     "output_type": "stream",
     "text": [
      "Epoch 1664: 1batch [00:00,  8.55batch/s, loss=2.05e+3]"
     ]
    },
    {
     "name": "stdout",
     "output_type": "stream",
     "text": [
      "epoch 1663: avg test  loss 2042.69, bar  test loss 15.056, len  test loss 0.934, col  test loss 179.773\n"
     ]
    },
    {
     "name": "stderr",
     "output_type": "stream",
     "text": [
      "Epoch 1664: 272batch [00:36,  7.48batch/s, loss=2.45e+3]\n"
     ]
    },
    {
     "name": "stdout",
     "output_type": "stream",
     "text": [
      "epoch 1664: avg train loss 2043.73, bar train loss 14.961, len train loss 0.947, col train loss 179.840\n"
     ]
    },
    {
     "name": "stderr",
     "output_type": "stream",
     "text": [
      "Epoch 1665: 1batch [00:00,  7.94batch/s, loss=2.07e+3]"
     ]
    },
    {
     "name": "stdout",
     "output_type": "stream",
     "text": [
      "epoch 1664: avg test  loss 2042.77, bar  test loss 15.056, len  test loss 0.934, col  test loss 179.784\n"
     ]
    },
    {
     "name": "stderr",
     "output_type": "stream",
     "text": [
      "Epoch 1665: 272batch [00:36,  7.44batch/s, loss=2.69e+3]\n"
     ]
    },
    {
     "name": "stdout",
     "output_type": "stream",
     "text": [
      "epoch 1665: avg train loss 2043.90, bar train loss 14.969, len train loss 0.947, col train loss 179.848\n",
      "epoch 1665: avg test  loss 2042.68, bar  test loss 15.056, len  test loss 0.934, col  test loss 179.778\n"
     ]
    },
    {
     "name": "stderr",
     "output_type": "stream",
     "text": [
      "Epoch 1666: 272batch [00:36,  7.39batch/s, loss=2.88e+3]\n"
     ]
    },
    {
     "name": "stdout",
     "output_type": "stream",
     "text": [
      "epoch 1666: avg train loss 2043.96, bar train loss 14.974, len train loss 0.947, col train loss 179.848\n"
     ]
    },
    {
     "name": "stderr",
     "output_type": "stream",
     "text": [
      "Epoch 1667: 1batch [00:00,  9.17batch/s, loss=2.04e+3]"
     ]
    },
    {
     "name": "stdout",
     "output_type": "stream",
     "text": [
      "epoch 1666: avg test  loss 2042.60, bar  test loss 15.056, len  test loss 0.934, col  test loss 179.771\n"
     ]
    },
    {
     "name": "stderr",
     "output_type": "stream",
     "text": [
      "Epoch 1667: 272batch [00:36,  7.47batch/s, loss=2.51e+3]\n"
     ]
    },
    {
     "name": "stdout",
     "output_type": "stream",
     "text": [
      "epoch 1667: avg train loss 2043.71, bar train loss 14.964, len train loss 0.946, col train loss 179.847\n"
     ]
    },
    {
     "name": "stderr",
     "output_type": "stream",
     "text": [
      "Epoch 1668: 1batch [00:00,  8.20batch/s, loss=2.01e+3]"
     ]
    },
    {
     "name": "stdout",
     "output_type": "stream",
     "text": [
      "epoch 1667: avg test  loss 2042.72, bar  test loss 15.056, len  test loss 0.934, col  test loss 179.787\n"
     ]
    },
    {
     "name": "stderr",
     "output_type": "stream",
     "text": [
      "Epoch 1668: 272batch [00:37,  7.28batch/s, loss=2.9e+3] \n"
     ]
    },
    {
     "name": "stdout",
     "output_type": "stream",
     "text": [
      "epoch 1668: avg train loss 2043.97, bar train loss 14.967, len train loss 0.948, col train loss 179.853\n"
     ]
    },
    {
     "name": "stderr",
     "output_type": "stream",
     "text": [
      "Epoch 1669: 1batch [00:00,  8.40batch/s, loss=1.96e+3]"
     ]
    },
    {
     "name": "stdout",
     "output_type": "stream",
     "text": [
      "epoch 1668: avg test  loss 2042.75, bar  test loss 15.056, len  test loss 0.934, col  test loss 179.791\n"
     ]
    },
    {
     "name": "stderr",
     "output_type": "stream",
     "text": [
      "Epoch 1669: 272batch [00:36,  7.45batch/s, loss=2.51e+3]\n"
     ]
    },
    {
     "name": "stdout",
     "output_type": "stream",
     "text": [
      "epoch 1669: avg train loss 2043.63, bar train loss 14.966, len train loss 0.946, col train loss 179.842\n"
     ]
    },
    {
     "name": "stderr",
     "output_type": "stream",
     "text": [
      "Epoch 1670: 1batch [00:00,  7.87batch/s, loss=1.98e+3]"
     ]
    },
    {
     "name": "stdout",
     "output_type": "stream",
     "text": [
      "epoch 1669: avg test  loss 2043.06, bar  test loss 15.056, len  test loss 0.934, col  test loss 179.823\n"
     ]
    },
    {
     "name": "stderr",
     "output_type": "stream",
     "text": [
      "Epoch 1670: 272batch [00:36,  7.36batch/s, loss=2.9e+3] \n"
     ]
    },
    {
     "name": "stdout",
     "output_type": "stream",
     "text": [
      "epoch 1670: avg train loss 2044.11, bar train loss 14.972, len train loss 0.947, col train loss 179.876\n",
      "epoch 1670: avg test  loss 2043.14, bar  test loss 15.056, len  test loss 0.934, col  test loss 179.835\n"
     ]
    },
    {
     "name": "stderr",
     "output_type": "stream",
     "text": [
      "Epoch 1671: 272batch [00:36,  7.48batch/s, loss=2.58e+3]\n"
     ]
    },
    {
     "name": "stdout",
     "output_type": "stream",
     "text": [
      "epoch 1671: avg train loss 2044.70, bar train loss 14.969, len train loss 0.947, col train loss 179.950\n"
     ]
    },
    {
     "name": "stderr",
     "output_type": "stream",
     "text": [
      "Epoch 1672: 1batch [00:00,  8.33batch/s, loss=2.01e+3]"
     ]
    },
    {
     "name": "stdout",
     "output_type": "stream",
     "text": [
      "epoch 1671: avg test  loss 2044.69, bar  test loss 15.056, len  test loss 0.934, col  test loss 179.994\n"
     ]
    },
    {
     "name": "stderr",
     "output_type": "stream",
     "text": [
      "Epoch 1672: 272batch [00:36,  7.46batch/s, loss=2.91e+3]\n"
     ]
    },
    {
     "name": "stdout",
     "output_type": "stream",
     "text": [
      "epoch 1672: avg train loss 2045.65, bar train loss 14.971, len train loss 0.947, col train loss 180.038\n"
     ]
    },
    {
     "name": "stderr",
     "output_type": "stream",
     "text": [
      "Epoch 1673: 1batch [00:00,  8.62batch/s, loss=1.96e+3]"
     ]
    },
    {
     "name": "stdout",
     "output_type": "stream",
     "text": [
      "epoch 1672: avg test  loss 2044.75, bar  test loss 15.056, len  test loss 0.934, col  test loss 180.001\n"
     ]
    },
    {
     "name": "stderr",
     "output_type": "stream",
     "text": [
      "Epoch 1673: 272batch [00:36,  7.41batch/s, loss=2.59e+3]\n"
     ]
    },
    {
     "name": "stdout",
     "output_type": "stream",
     "text": [
      "epoch 1673: avg train loss 2045.64, bar train loss 14.967, len train loss 0.946, col train loss 180.052\n"
     ]
    },
    {
     "name": "stderr",
     "output_type": "stream",
     "text": [
      "Epoch 1674: 1batch [00:00,  8.13batch/s, loss=1.98e+3]"
     ]
    },
    {
     "name": "stdout",
     "output_type": "stream",
     "text": [
      "epoch 1673: avg test  loss 2044.66, bar  test loss 15.056, len  test loss 0.934, col  test loss 179.998\n"
     ]
    },
    {
     "name": "stderr",
     "output_type": "stream",
     "text": [
      "Epoch 1674: 272batch [00:36,  7.46batch/s, loss=2.76e+3]\n"
     ]
    },
    {
     "name": "stdout",
     "output_type": "stream",
     "text": [
      "epoch 1674: avg train loss 2045.79, bar train loss 14.968, len train loss 0.947, col train loss 180.060\n"
     ]
    },
    {
     "name": "stderr",
     "output_type": "stream",
     "text": [
      "Epoch 1675: 1batch [00:00,  7.94batch/s, loss=2.07e+3]"
     ]
    },
    {
     "name": "stdout",
     "output_type": "stream",
     "text": [
      "epoch 1674: avg test  loss 2045.26, bar  test loss 15.056, len  test loss 0.934, col  test loss 180.049\n"
     ]
    },
    {
     "name": "stderr",
     "output_type": "stream",
     "text": [
      "Epoch 1675: 272batch [00:36,  7.43batch/s, loss=2.59e+3]\n"
     ]
    },
    {
     "name": "stdout",
     "output_type": "stream",
     "text": [
      "epoch 1675: avg train loss 2046.10, bar train loss 14.965, len train loss 0.947, col train loss 180.093\n",
      "epoch 1675: avg test  loss 2045.27, bar  test loss 15.056, len  test loss 0.934, col  test loss 180.054\n"
     ]
    },
    {
     "name": "stderr",
     "output_type": "stream",
     "text": [
      "Epoch 1676: 272batch [00:36,  7.40batch/s, loss=2.83e+3]\n"
     ]
    },
    {
     "name": "stdout",
     "output_type": "stream",
     "text": [
      "epoch 1676: avg train loss 2045.97, bar train loss 14.971, len train loss 0.947, col train loss 180.075\n"
     ]
    },
    {
     "name": "stderr",
     "output_type": "stream",
     "text": [
      "Epoch 1677: 1batch [00:00,  8.77batch/s, loss=2.09e+3]"
     ]
    },
    {
     "name": "stdout",
     "output_type": "stream",
     "text": [
      "epoch 1676: avg test  loss 2045.04, bar  test loss 15.056, len  test loss 0.934, col  test loss 180.036\n"
     ]
    },
    {
     "name": "stderr",
     "output_type": "stream",
     "text": [
      "Epoch 1677: 272batch [00:36,  7.39batch/s, loss=3.08e+3]\n"
     ]
    },
    {
     "name": "stdout",
     "output_type": "stream",
     "text": [
      "epoch 1677: avg train loss 2046.08, bar train loss 14.968, len train loss 0.948, col train loss 180.081\n"
     ]
    },
    {
     "name": "stderr",
     "output_type": "stream",
     "text": [
      "Epoch 1678: 1batch [00:00,  8.00batch/s, loss=2.12e+3]"
     ]
    },
    {
     "name": "stdout",
     "output_type": "stream",
     "text": [
      "epoch 1677: avg test  loss 2044.96, bar  test loss 15.056, len  test loss 0.934, col  test loss 180.033\n"
     ]
    },
    {
     "name": "stderr",
     "output_type": "stream",
     "text": [
      "Epoch 1678: 272batch [00:36,  7.40batch/s, loss=2.68e+3]\n"
     ]
    },
    {
     "name": "stdout",
     "output_type": "stream",
     "text": [
      "epoch 1678: avg train loss 2045.91, bar train loss 14.971, len train loss 0.947, col train loss 180.082\n"
     ]
    },
    {
     "name": "stderr",
     "output_type": "stream",
     "text": [
      "Epoch 1679: 1batch [00:00,  7.25batch/s, loss=2.11e+3]"
     ]
    },
    {
     "name": "stdout",
     "output_type": "stream",
     "text": [
      "epoch 1678: avg test  loss 2045.13, bar  test loss 15.056, len  test loss 0.934, col  test loss 180.055\n"
     ]
    },
    {
     "name": "stderr",
     "output_type": "stream",
     "text": [
      "Epoch 1679: 272batch [00:37,  7.35batch/s, loss=2.89e+3]\n"
     ]
    },
    {
     "name": "stdout",
     "output_type": "stream",
     "text": [
      "epoch 1679: avg train loss 2046.15, bar train loss 14.970, len train loss 0.947, col train loss 180.106\n"
     ]
    },
    {
     "name": "stderr",
     "output_type": "stream",
     "text": [
      "Epoch 1680: 1batch [00:00,  8.85batch/s, loss=2.09e+3]"
     ]
    },
    {
     "name": "stdout",
     "output_type": "stream",
     "text": [
      "epoch 1679: avg test  loss 2044.89, bar  test loss 15.056, len  test loss 0.934, col  test loss 180.037\n"
     ]
    },
    {
     "name": "stderr",
     "output_type": "stream",
     "text": [
      "Epoch 1680: 272batch [00:36,  7.35batch/s, loss=2.66e+3]\n"
     ]
    },
    {
     "name": "stdout",
     "output_type": "stream",
     "text": [
      "epoch 1680: avg train loss 2046.19, bar train loss 14.968, len train loss 0.947, col train loss 180.117\n",
      "epoch 1680: avg test  loss 2044.93, bar  test loss 15.056, len  test loss 0.934, col  test loss 180.047\n"
     ]
    },
    {
     "name": "stderr",
     "output_type": "stream",
     "text": [
      "Epoch 1681: 272batch [00:36,  7.37batch/s, loss=2.62e+3]\n"
     ]
    },
    {
     "name": "stdout",
     "output_type": "stream",
     "text": [
      "epoch 1681: avg train loss 2047.66, bar train loss 14.966, len train loss 0.947, col train loss 180.165\n"
     ]
    },
    {
     "name": "stderr",
     "output_type": "stream",
     "text": [
      "Epoch 1682: 1batch [00:00,  7.58batch/s, loss=2e+3]"
     ]
    },
    {
     "name": "stdout",
     "output_type": "stream",
     "text": [
      "epoch 1681: avg test  loss 2047.56, bar  test loss 15.056, len  test loss 0.934, col  test loss 180.156\n"
     ]
    },
    {
     "name": "stderr",
     "output_type": "stream",
     "text": [
      "Epoch 1682: 272batch [00:37,  7.28batch/s, loss=3.03e+3]\n"
     ]
    },
    {
     "name": "stdout",
     "output_type": "stream",
     "text": [
      "epoch 1682: avg train loss 2048.47, bar train loss 14.972, len train loss 0.948, col train loss 180.185\n"
     ]
    },
    {
     "name": "stderr",
     "output_type": "stream",
     "text": [
      "Epoch 1683: 1batch [00:00,  8.55batch/s, loss=2.05e+3]"
     ]
    },
    {
     "name": "stdout",
     "output_type": "stream",
     "text": [
      "epoch 1682: avg test  loss 2047.35, bar  test loss 15.056, len  test loss 0.934, col  test loss 180.140\n"
     ]
    },
    {
     "name": "stderr",
     "output_type": "stream",
     "text": [
      "Epoch 1683: 272batch [00:36,  7.36batch/s, loss=2.68e+3]\n"
     ]
    },
    {
     "name": "stdout",
     "output_type": "stream",
     "text": [
      "epoch 1683: avg train loss 2048.39, bar train loss 14.971, len train loss 0.947, col train loss 180.194\n"
     ]
    },
    {
     "name": "stderr",
     "output_type": "stream",
     "text": [
      "Epoch 1684: 1batch [00:00,  8.55batch/s, loss=1.99e+3]"
     ]
    },
    {
     "name": "stdout",
     "output_type": "stream",
     "text": [
      "epoch 1683: avg test  loss 2047.49, bar  test loss 15.056, len  test loss 0.934, col  test loss 180.157\n"
     ]
    },
    {
     "name": "stderr",
     "output_type": "stream",
     "text": [
      "Epoch 1684: 272batch [00:36,  7.37batch/s, loss=2.7e+3] \n"
     ]
    },
    {
     "name": "stdout",
     "output_type": "stream",
     "text": [
      "epoch 1684: avg train loss 2048.34, bar train loss 14.969, len train loss 0.947, col train loss 180.192\n"
     ]
    },
    {
     "name": "stderr",
     "output_type": "stream",
     "text": [
      "Epoch 1685: 1batch [00:00,  7.94batch/s, loss=2.1e+3]"
     ]
    },
    {
     "name": "stdout",
     "output_type": "stream",
     "text": [
      "epoch 1684: avg test  loss 2047.37, bar  test loss 15.056, len  test loss 0.934, col  test loss 180.149\n"
     ]
    },
    {
     "name": "stderr",
     "output_type": "stream",
     "text": [
      "Epoch 1685: 272batch [00:36,  7.41batch/s, loss=2.42e+3]\n"
     ]
    },
    {
     "name": "stdout",
     "output_type": "stream",
     "text": [
      "epoch 1685: avg train loss 2048.05, bar train loss 14.964, len train loss 0.946, col train loss 180.182\n",
      "epoch 1685: avg test  loss 2047.33, bar  test loss 15.056, len  test loss 0.934, col  test loss 180.150\n"
     ]
    },
    {
     "name": "stderr",
     "output_type": "stream",
     "text": [
      "Epoch 1686: 272batch [00:37,  7.33batch/s, loss=2.65e+3]\n"
     ]
    },
    {
     "name": "stdout",
     "output_type": "stream",
     "text": [
      "epoch 1686: avg train loss 2048.13, bar train loss 14.966, len train loss 0.947, col train loss 180.185\n"
     ]
    },
    {
     "name": "stderr",
     "output_type": "stream",
     "text": [
      "Epoch 1687: 1batch [00:00,  7.58batch/s, loss=1.99e+3]"
     ]
    },
    {
     "name": "stdout",
     "output_type": "stream",
     "text": [
      "epoch 1686: avg test  loss 2047.26, bar  test loss 15.056, len  test loss 0.934, col  test loss 180.146\n"
     ]
    },
    {
     "name": "stderr",
     "output_type": "stream",
     "text": [
      "Epoch 1687: 272batch [00:37,  7.23batch/s, loss=2.78e+3]\n"
     ]
    },
    {
     "name": "stdout",
     "output_type": "stream",
     "text": [
      "epoch 1687: avg train loss 2048.20, bar train loss 14.968, len train loss 0.948, col train loss 180.189\n"
     ]
    },
    {
     "name": "stderr",
     "output_type": "stream",
     "text": [
      "\r",
      "Epoch 1688: 0batch [00:00, ?batch/s]"
     ]
    },
    {
     "name": "stdout",
     "output_type": "stream",
     "text": [
      "epoch 1687: avg test  loss 2047.20, bar  test loss 15.056, len  test loss 0.934, col  test loss 180.147\n"
     ]
    },
    {
     "name": "stderr",
     "output_type": "stream",
     "text": [
      "Epoch 1688: 272batch [00:36,  7.36batch/s, loss=2.68e+3]\n"
     ]
    },
    {
     "name": "stdout",
     "output_type": "stream",
     "text": [
      "epoch 1688: avg train loss 2047.98, bar train loss 14.971, len train loss 0.947, col train loss 180.183\n"
     ]
    },
    {
     "name": "stderr",
     "output_type": "stream",
     "text": [
      "Epoch 1689: 1batch [00:00,  8.13batch/s, loss=2.06e+3]"
     ]
    },
    {
     "name": "stdout",
     "output_type": "stream",
     "text": [
      "epoch 1688: avg test  loss 2047.11, bar  test loss 15.056, len  test loss 0.934, col  test loss 180.146\n"
     ]
    },
    {
     "name": "stderr",
     "output_type": "stream",
     "text": [
      "Epoch 1689: 272batch [00:37,  7.28batch/s, loss=2.86e+3]\n"
     ]
    },
    {
     "name": "stdout",
     "output_type": "stream",
     "text": [
      "epoch 1689: avg train loss 2048.04, bar train loss 14.971, len train loss 0.947, col train loss 180.185\n"
     ]
    },
    {
     "name": "stderr",
     "output_type": "stream",
     "text": [
      "Epoch 1690: 1batch [00:00,  7.94batch/s, loss=2.04e+3]"
     ]
    },
    {
     "name": "stdout",
     "output_type": "stream",
     "text": [
      "epoch 1689: avg test  loss 2047.04, bar  test loss 15.056, len  test loss 0.934, col  test loss 180.147\n"
     ]
    },
    {
     "name": "stderr",
     "output_type": "stream",
     "text": [
      "Epoch 1690: 272batch [00:37,  7.29batch/s, loss=2.89e+3]\n"
     ]
    },
    {
     "name": "stdout",
     "output_type": "stream",
     "text": [
      "epoch 1690: avg train loss 2048.00, bar train loss 14.969, len train loss 0.948, col train loss 180.192\n",
      "epoch 1690: avg test  loss 2047.08, bar  test loss 15.056, len  test loss 0.934, col  test loss 180.156\n"
     ]
    },
    {
     "name": "stderr",
     "output_type": "stream",
     "text": [
      "Epoch 1691: 272batch [00:37,  7.30batch/s, loss=2.63e+3]\n"
     ]
    },
    {
     "name": "stdout",
     "output_type": "stream",
     "text": [
      "epoch 1691: avg train loss 2047.75, bar train loss 14.972, len train loss 0.946, col train loss 180.182\n"
     ]
    },
    {
     "name": "stderr",
     "output_type": "stream",
     "text": [
      "Epoch 1692: 1batch [00:00,  8.06batch/s, loss=2.08e+3]"
     ]
    },
    {
     "name": "stdout",
     "output_type": "stream",
     "text": [
      "epoch 1691: avg test  loss 2046.95, bar  test loss 15.056, len  test loss 0.934, col  test loss 180.150\n"
     ]
    },
    {
     "name": "stderr",
     "output_type": "stream",
     "text": [
      "Epoch 1692: 272batch [00:36,  7.37batch/s, loss=2.54e+3]\n"
     ]
    },
    {
     "name": "stdout",
     "output_type": "stream",
     "text": [
      "epoch 1692: avg train loss 2047.63, bar train loss 14.970, len train loss 0.946, col train loss 180.183\n"
     ]
    },
    {
     "name": "stderr",
     "output_type": "stream",
     "text": [
      "Epoch 1693: 1batch [00:00,  8.13batch/s, loss=1.93e+3]"
     ]
    },
    {
     "name": "stdout",
     "output_type": "stream",
     "text": [
      "epoch 1692: avg test  loss 2046.87, bar  test loss 15.056, len  test loss 0.934, col  test loss 180.153\n"
     ]
    },
    {
     "name": "stderr",
     "output_type": "stream",
     "text": [
      "Epoch 1693: 272batch [00:37,  7.31batch/s, loss=2.59e+3]\n"
     ]
    },
    {
     "name": "stdout",
     "output_type": "stream",
     "text": [
      "epoch 1693: avg train loss 2047.57, bar train loss 14.966, len train loss 0.947, col train loss 180.182\n"
     ]
    },
    {
     "name": "stderr",
     "output_type": "stream",
     "text": [
      "Epoch 1694: 1batch [00:00,  8.62batch/s, loss=2.07e+3]"
     ]
    },
    {
     "name": "stdout",
     "output_type": "stream",
     "text": [
      "epoch 1693: avg test  loss 2046.67, bar  test loss 15.056, len  test loss 0.934, col  test loss 180.138\n"
     ]
    },
    {
     "name": "stderr",
     "output_type": "stream",
     "text": [
      "Epoch 1694: 272batch [00:37,  7.30batch/s, loss=2.79e+3]\n"
     ]
    },
    {
     "name": "stdout",
     "output_type": "stream",
     "text": [
      "epoch 1694: avg train loss 2047.35, bar train loss 14.969, len train loss 0.948, col train loss 180.175\n"
     ]
    },
    {
     "name": "stderr",
     "output_type": "stream",
     "text": [
      "Epoch 1695: 1batch [00:00,  6.67batch/s, loss=2.01e+3]"
     ]
    },
    {
     "name": "stdout",
     "output_type": "stream",
     "text": [
      "epoch 1694: avg test  loss 2046.01, bar  test loss 15.056, len  test loss 0.934, col  test loss 180.110\n"
     ]
    },
    {
     "name": "stderr",
     "output_type": "stream",
     "text": [
      "Epoch 1695: 272batch [00:37,  7.20batch/s, loss=2.61e+3]\n"
     ]
    },
    {
     "name": "stdout",
     "output_type": "stream",
     "text": [
      "epoch 1695: avg train loss 2046.54, bar train loss 14.967, len train loss 0.947, col train loss 180.122\n",
      "epoch 1695: avg test  loss 2045.78, bar  test loss 15.056, len  test loss 0.934, col  test loss 180.090\n"
     ]
    },
    {
     "name": "stderr",
     "output_type": "stream",
     "text": [
      "Epoch 1696: 272batch [00:37,  7.29batch/s, loss=2.8e+3] \n"
     ]
    },
    {
     "name": "stdout",
     "output_type": "stream",
     "text": [
      "epoch 1696: avg train loss 2046.32, bar train loss 14.962, len train loss 0.948, col train loss 180.095\n"
     ]
    },
    {
     "name": "stderr",
     "output_type": "stream",
     "text": [
      "Epoch 1697: 1batch [00:00,  8.62batch/s, loss=2.02e+3]"
     ]
    },
    {
     "name": "stdout",
     "output_type": "stream",
     "text": [
      "epoch 1696: avg test  loss 2044.78, bar  test loss 15.056, len  test loss 0.934, col  test loss 179.927\n"
     ]
    },
    {
     "name": "stderr",
     "output_type": "stream",
     "text": [
      "Epoch 1697: 272batch [00:37,  7.30batch/s, loss=2.56e+3]\n"
     ]
    },
    {
     "name": "stdout",
     "output_type": "stream",
     "text": [
      "epoch 1697: avg train loss 2045.53, bar train loss 14.965, len train loss 0.947, col train loss 179.912\n"
     ]
    },
    {
     "name": "stderr",
     "output_type": "stream",
     "text": [
      "Epoch 1698: 1batch [00:00,  8.06batch/s, loss=1.92e+3]"
     ]
    },
    {
     "name": "stdout",
     "output_type": "stream",
     "text": [
      "epoch 1697: avg test  loss 2044.46, bar  test loss 15.056, len  test loss 0.934, col  test loss 179.851\n"
     ]
    },
    {
     "name": "stderr",
     "output_type": "stream",
     "text": [
      "Epoch 1698: 272batch [00:37,  7.28batch/s, loss=3.09e+3]\n"
     ]
    },
    {
     "name": "stdout",
     "output_type": "stream",
     "text": [
      "epoch 1698: avg train loss 2045.74, bar train loss 14.976, len train loss 0.948, col train loss 179.913\n"
     ]
    },
    {
     "name": "stderr",
     "output_type": "stream",
     "text": [
      "Epoch 1699: 1batch [00:00,  8.47batch/s, loss=1.98e+3]"
     ]
    },
    {
     "name": "stdout",
     "output_type": "stream",
     "text": [
      "epoch 1698: avg test  loss 2044.57, bar  test loss 15.056, len  test loss 0.934, col  test loss 179.863\n"
     ]
    },
    {
     "name": "stderr",
     "output_type": "stream",
     "text": [
      "Epoch 1699: 272batch [00:37,  7.32batch/s, loss=2.49e+3]\n"
     ]
    },
    {
     "name": "stdout",
     "output_type": "stream",
     "text": [
      "epoch 1699: avg train loss 2045.62, bar train loss 14.967, len train loss 0.947, col train loss 179.929\n"
     ]
    },
    {
     "name": "stderr",
     "output_type": "stream",
     "text": [
      "Epoch 1700: 1batch [00:00,  7.46batch/s, loss=1.94e+3]"
     ]
    },
    {
     "name": "stdout",
     "output_type": "stream",
     "text": [
      "epoch 1699: avg test  loss 2044.75, bar  test loss 15.056, len  test loss 0.934, col  test loss 179.883\n"
     ]
    },
    {
     "name": "stderr",
     "output_type": "stream",
     "text": [
      "Epoch 1700: 272batch [00:37,  7.28batch/s, loss=2.87e+3]\n"
     ]
    },
    {
     "name": "stdout",
     "output_type": "stream",
     "text": [
      "epoch 1700: avg train loss 2045.83, bar train loss 14.971, len train loss 0.947, col train loss 179.940\n",
      "epoch 1700: avg test  loss 2044.79, bar  test loss 15.056, len  test loss 0.934, col  test loss 179.893\n"
     ]
    },
    {
     "name": "stderr",
     "output_type": "stream",
     "text": [
      "Epoch 1701: 272batch [00:37,  7.29batch/s, loss=2.86e+3]\n"
     ]
    },
    {
     "name": "stdout",
     "output_type": "stream",
     "text": [
      "epoch 1701: avg train loss 2045.79, bar train loss 14.969, len train loss 0.948, col train loss 179.935\n"
     ]
    },
    {
     "name": "stderr",
     "output_type": "stream",
     "text": [
      "Epoch 1702: 1batch [00:00,  8.47batch/s, loss=2.14e+3]"
     ]
    },
    {
     "name": "stdout",
     "output_type": "stream",
     "text": [
      "epoch 1701: avg test  loss 2044.54, bar  test loss 15.056, len  test loss 0.934, col  test loss 179.869\n"
     ]
    },
    {
     "name": "stderr",
     "output_type": "stream",
     "text": [
      "Epoch 1702: 272batch [00:37,  7.27batch/s, loss=2.72e+3]\n"
     ]
    },
    {
     "name": "stdout",
     "output_type": "stream",
     "text": [
      "epoch 1702: avg train loss 2045.77, bar train loss 14.972, len train loss 0.947, col train loss 179.939\n"
     ]
    },
    {
     "name": "stderr",
     "output_type": "stream",
     "text": [
      "Epoch 1703: 1batch [00:00,  7.81batch/s, loss=2.1e+3]"
     ]
    },
    {
     "name": "stdout",
     "output_type": "stream",
     "text": [
      "epoch 1702: avg test  loss 2044.83, bar  test loss 15.056, len  test loss 0.934, col  test loss 179.903\n"
     ]
    },
    {
     "name": "stderr",
     "output_type": "stream",
     "text": [
      "Epoch 1703: 272batch [00:37,  7.23batch/s, loss=2.75e+3]\n"
     ]
    },
    {
     "name": "stdout",
     "output_type": "stream",
     "text": [
      "epoch 1703: avg train loss 2045.76, bar train loss 14.966, len train loss 0.948, col train loss 179.938\n"
     ]
    },
    {
     "name": "stderr",
     "output_type": "stream",
     "text": [
      "Epoch 1704: 1batch [00:00,  8.26batch/s, loss=2.01e+3]"
     ]
    },
    {
     "name": "stdout",
     "output_type": "stream",
     "text": [
      "epoch 1703: avg test  loss 2044.69, bar  test loss 15.056, len  test loss 0.934, col  test loss 179.890\n"
     ]
    },
    {
     "name": "stderr",
     "output_type": "stream",
     "text": [
      "Epoch 1704: 272batch [00:37,  7.29batch/s, loss=2.71e+3]\n"
     ]
    },
    {
     "name": "stdout",
     "output_type": "stream",
     "text": [
      "epoch 1704: avg train loss 2045.74, bar train loss 14.966, len train loss 0.947, col train loss 179.949\n"
     ]
    },
    {
     "name": "stderr",
     "output_type": "stream",
     "text": [
      "Epoch 1705: 0batch [00:00, ?batch/s, loss=2.04e+3]"
     ]
    },
    {
     "name": "stdout",
     "output_type": "stream",
     "text": [
      "epoch 1704: avg test  loss 2044.58, bar  test loss 15.056, len  test loss 0.934, col  test loss 179.887\n"
     ]
    },
    {
     "name": "stderr",
     "output_type": "stream",
     "text": [
      "Epoch 1705: 272batch [00:37,  7.25batch/s, loss=2.51e+3]\n"
     ]
    },
    {
     "name": "stdout",
     "output_type": "stream",
     "text": [
      "epoch 1705: avg train loss 2045.44, bar train loss 14.964, len train loss 0.946, col train loss 179.937\n",
      "epoch 1705: avg test  loss 2044.49, bar  test loss 15.056, len  test loss 0.934, col  test loss 179.879\n"
     ]
    },
    {
     "name": "stderr",
     "output_type": "stream",
     "text": [
      "Epoch 1706: 272batch [00:37,  7.26batch/s, loss=2.77e+3]\n"
     ]
    },
    {
     "name": "stdout",
     "output_type": "stream",
     "text": [
      "epoch 1706: avg train loss 2045.48, bar train loss 14.963, len train loss 0.949, col train loss 179.925\n"
     ]
    },
    {
     "name": "stderr",
     "output_type": "stream",
     "text": [
      "Epoch 1707: 0batch [00:00, ?batch/s, loss=2.05e+3]"
     ]
    },
    {
     "name": "stdout",
     "output_type": "stream",
     "text": [
      "epoch 1706: avg test  loss 2044.46, bar  test loss 15.056, len  test loss 0.934, col  test loss 179.884\n"
     ]
    },
    {
     "name": "stderr",
     "output_type": "stream",
     "text": [
      "Epoch 1707: 272batch [00:37,  7.27batch/s, loss=2.86e+3]\n"
     ]
    },
    {
     "name": "stdout",
     "output_type": "stream",
     "text": [
      "epoch 1707: avg train loss 2045.59, bar train loss 14.972, len train loss 0.947, col train loss 179.946\n"
     ]
    },
    {
     "name": "stderr",
     "output_type": "stream",
     "text": [
      "Epoch 1708: 1batch [00:00,  7.41batch/s, loss=2.09e+3]"
     ]
    },
    {
     "name": "stdout",
     "output_type": "stream",
     "text": [
      "epoch 1707: avg test  loss 2044.50, bar  test loss 15.056, len  test loss 0.934, col  test loss 179.894\n"
     ]
    },
    {
     "name": "stderr",
     "output_type": "stream",
     "text": [
      "Epoch 1708: 272batch [00:37,  7.23batch/s, loss=2.58e+3]\n"
     ]
    },
    {
     "name": "stdout",
     "output_type": "stream",
     "text": [
      "epoch 1708: avg train loss 2045.46, bar train loss 14.965, len train loss 0.947, col train loss 179.945\n"
     ]
    },
    {
     "name": "stderr",
     "output_type": "stream",
     "text": [
      "Epoch 1709: 1batch [00:00,  8.33batch/s, loss=2.06e+3]"
     ]
    },
    {
     "name": "stdout",
     "output_type": "stream",
     "text": [
      "epoch 1708: avg test  loss 2044.56, bar  test loss 15.056, len  test loss 0.934, col  test loss 179.901\n"
     ]
    },
    {
     "name": "stderr",
     "output_type": "stream",
     "text": [
      "Epoch 1709: 272batch [00:37,  7.25batch/s, loss=2.88e+3]\n"
     ]
    },
    {
     "name": "stdout",
     "output_type": "stream",
     "text": [
      "epoch 1709: avg train loss 2045.45, bar train loss 14.975, len train loss 0.947, col train loss 179.940\n"
     ]
    },
    {
     "name": "stderr",
     "output_type": "stream",
     "text": [
      "Epoch 1710: 1batch [00:00,  8.00batch/s, loss=2.03e+3]"
     ]
    },
    {
     "name": "stdout",
     "output_type": "stream",
     "text": [
      "epoch 1709: avg test  loss 2044.37, bar  test loss 15.056, len  test loss 0.934, col  test loss 179.891\n"
     ]
    },
    {
     "name": "stderr",
     "output_type": "stream",
     "text": [
      "Epoch 1710: 272batch [00:37,  7.23batch/s, loss=2.64e+3]\n"
     ]
    },
    {
     "name": "stdout",
     "output_type": "stream",
     "text": [
      "epoch 1710: avg train loss 2045.28, bar train loss 14.968, len train loss 0.947, col train loss 179.940\n",
      "epoch 1710: avg test  loss 2044.41, bar  test loss 15.056, len  test loss 0.934, col  test loss 179.903\n"
     ]
    },
    {
     "name": "stderr",
     "output_type": "stream",
     "text": [
      "Epoch 1711: 272batch [00:37,  7.27batch/s, loss=2.91e+3]\n"
     ]
    },
    {
     "name": "stdout",
     "output_type": "stream",
     "text": [
      "epoch 1711: avg train loss 2045.39, bar train loss 14.970, len train loss 0.948, col train loss 179.944\n"
     ]
    },
    {
     "name": "stderr",
     "output_type": "stream",
     "text": [
      "Epoch 1712: 1batch [00:00,  7.35batch/s, loss=1.95e+3]"
     ]
    },
    {
     "name": "stdout",
     "output_type": "stream",
     "text": [
      "epoch 1711: avg test  loss 2044.29, bar  test loss 15.056, len  test loss 0.934, col  test loss 179.899\n"
     ]
    },
    {
     "name": "stderr",
     "output_type": "stream",
     "text": [
      "Epoch 1712: 272batch [00:37,  7.22batch/s, loss=2.58e+3]\n"
     ]
    },
    {
     "name": "stdout",
     "output_type": "stream",
     "text": [
      "epoch 1712: avg train loss 2045.26, bar train loss 14.974, len train loss 0.946, col train loss 179.951\n"
     ]
    },
    {
     "name": "stderr",
     "output_type": "stream",
     "text": [
      "Epoch 1713: 1batch [00:00,  7.87batch/s, loss=2.1e+3]"
     ]
    },
    {
     "name": "stdout",
     "output_type": "stream",
     "text": [
      "epoch 1712: avg test  loss 2044.22, bar  test loss 15.056, len  test loss 0.934, col  test loss 179.897\n"
     ]
    },
    {
     "name": "stderr",
     "output_type": "stream",
     "text": [
      "Epoch 1713: 272batch [00:37,  7.22batch/s, loss=2.45e+3]\n"
     ]
    },
    {
     "name": "stdout",
     "output_type": "stream",
     "text": [
      "epoch 1713: avg train loss 2045.09, bar train loss 14.968, len train loss 0.946, col train loss 179.949\n"
     ]
    },
    {
     "name": "stderr",
     "output_type": "stream",
     "text": [
      "Epoch 1714: 1batch [00:00,  8.00batch/s, loss=2.03e+3]"
     ]
    },
    {
     "name": "stdout",
     "output_type": "stream",
     "text": [
      "epoch 1713: avg test  loss 2044.23, bar  test loss 15.056, len  test loss 0.934, col  test loss 179.907\n"
     ]
    },
    {
     "name": "stderr",
     "output_type": "stream",
     "text": [
      "Epoch 1714: 272batch [00:37,  7.23batch/s, loss=2.58e+3]\n"
     ]
    },
    {
     "name": "stdout",
     "output_type": "stream",
     "text": [
      "epoch 1714: avg train loss 2045.12, bar train loss 14.964, len train loss 0.947, col train loss 179.954\n"
     ]
    },
    {
     "name": "stderr",
     "output_type": "stream",
     "text": [
      "Epoch 1715: 1batch [00:00,  7.75batch/s, loss=1.96e+3]"
     ]
    },
    {
     "name": "stdout",
     "output_type": "stream",
     "text": [
      "epoch 1714: avg test  loss 2044.13, bar  test loss 15.056, len  test loss 0.934, col  test loss 179.902\n"
     ]
    },
    {
     "name": "stderr",
     "output_type": "stream",
     "text": [
      "Epoch 1715: 272batch [00:37,  7.18batch/s, loss=2.59e+3]\n"
     ]
    },
    {
     "name": "stdout",
     "output_type": "stream",
     "text": [
      "epoch 1715: avg train loss 2045.09, bar train loss 14.965, len train loss 0.948, col train loss 179.953\n",
      "epoch 1715: avg test  loss 2043.85, bar  test loss 15.056, len  test loss 0.934, col  test loss 179.884\n"
     ]
    },
    {
     "name": "stderr",
     "output_type": "stream",
     "text": [
      "Epoch 1716: 272batch [00:37,  7.21batch/s, loss=2.72e+3]\n"
     ]
    },
    {
     "name": "stdout",
     "output_type": "stream",
     "text": [
      "epoch 1716: avg train loss 2045.01, bar train loss 14.967, len train loss 0.947, col train loss 179.956\n"
     ]
    },
    {
     "name": "stderr",
     "output_type": "stream",
     "text": [
      "Epoch 1717: 1batch [00:00,  7.46batch/s, loss=2.02e+3]"
     ]
    },
    {
     "name": "stdout",
     "output_type": "stream",
     "text": [
      "epoch 1716: avg test  loss 2043.95, bar  test loss 15.056, len  test loss 0.934, col  test loss 179.901\n"
     ]
    },
    {
     "name": "stderr",
     "output_type": "stream",
     "text": [
      "Epoch 1717: 272batch [00:37,  7.27batch/s, loss=2.81e+3]\n"
     ]
    },
    {
     "name": "stdout",
     "output_type": "stream",
     "text": [
      "epoch 1717: avg train loss 2044.98, bar train loss 14.970, len train loss 0.947, col train loss 179.956\n"
     ]
    },
    {
     "name": "stderr",
     "output_type": "stream",
     "text": [
      "Epoch 1718: 1batch [00:00,  7.94batch/s, loss=2.06e+3]"
     ]
    },
    {
     "name": "stdout",
     "output_type": "stream",
     "text": [
      "epoch 1717: avg test  loss 2043.98, bar  test loss 15.056, len  test loss 0.934, col  test loss 179.916\n"
     ]
    },
    {
     "name": "stderr",
     "output_type": "stream",
     "text": [
      "Epoch 1718: 272batch [00:37,  7.19batch/s, loss=3.01e+3]\n"
     ]
    },
    {
     "name": "stdout",
     "output_type": "stream",
     "text": [
      "epoch 1718: avg train loss 2044.97, bar train loss 14.974, len train loss 0.948, col train loss 179.957\n"
     ]
    },
    {
     "name": "stderr",
     "output_type": "stream",
     "text": [
      "Epoch 1719: 1batch [00:00,  7.87batch/s, loss=2.07e+3]"
     ]
    },
    {
     "name": "stdout",
     "output_type": "stream",
     "text": [
      "epoch 1718: avg test  loss 2043.66, bar  test loss 15.056, len  test loss 0.934, col  test loss 179.891\n"
     ]
    },
    {
     "name": "stderr",
     "output_type": "stream",
     "text": [
      "Epoch 1719: 272batch [00:38,  7.15batch/s, loss=2.88e+3]\n"
     ]
    },
    {
     "name": "stdout",
     "output_type": "stream",
     "text": [
      "epoch 1719: avg train loss 2044.71, bar train loss 14.972, len train loss 0.948, col train loss 179.943\n"
     ]
    },
    {
     "name": "stderr",
     "output_type": "stream",
     "text": [
      "Epoch 1720: 1batch [00:00,  7.46batch/s, loss=2.09e+3]"
     ]
    },
    {
     "name": "stdout",
     "output_type": "stream",
     "text": [
      "epoch 1719: avg test  loss 2043.01, bar  test loss 15.056, len  test loss 0.934, col  test loss 179.836\n"
     ]
    },
    {
     "name": "stderr",
     "output_type": "stream",
     "text": [
      "Epoch 1720: 272batch [00:38,  7.15batch/s, loss=2.78e+3]\n"
     ]
    },
    {
     "name": "stdout",
     "output_type": "stream",
     "text": [
      "epoch 1720: avg train loss 2044.54, bar train loss 14.970, len train loss 0.948, col train loss 179.935\n",
      "epoch 1720: avg test  loss 2043.23, bar  test loss 15.056, len  test loss 0.934, col  test loss 179.865\n"
     ]
    },
    {
     "name": "stderr",
     "output_type": "stream",
     "text": [
      "Epoch 1721: 272batch [00:37,  7.20batch/s, loss=2.54e+3]\n"
     ]
    },
    {
     "name": "stdout",
     "output_type": "stream",
     "text": [
      "epoch 1721: avg train loss 2044.29, bar train loss 14.967, len train loss 0.947, col train loss 179.930\n"
     ]
    },
    {
     "name": "stderr",
     "output_type": "stream",
     "text": [
      "Epoch 1722: 1batch [00:00,  8.20batch/s, loss=2.11e+3]"
     ]
    },
    {
     "name": "stdout",
     "output_type": "stream",
     "text": [
      "epoch 1721: avg test  loss 2043.64, bar  test loss 15.056, len  test loss 0.934, col  test loss 179.913\n"
     ]
    },
    {
     "name": "stderr",
     "output_type": "stream",
     "text": [
      "Epoch 1722: 272batch [00:37,  7.18batch/s, loss=2.76e+3]\n"
     ]
    },
    {
     "name": "stdout",
     "output_type": "stream",
     "text": [
      "epoch 1722: avg train loss 2044.14, bar train loss 14.972, len train loss 0.947, col train loss 179.872\n"
     ]
    },
    {
     "name": "stderr",
     "output_type": "stream",
     "text": [
      "Epoch 1723: 0batch [00:00, ?batch/s, loss=2.05e+3]"
     ]
    },
    {
     "name": "stdout",
     "output_type": "stream",
     "text": [
      "epoch 1722: avg test  loss 2043.01, bar  test loss 15.056, len  test loss 0.934, col  test loss 179.807\n"
     ]
    },
    {
     "name": "stderr",
     "output_type": "stream",
     "text": [
      "Epoch 1723: 272batch [00:37,  7.17batch/s, loss=3.09e+3]\n"
     ]
    },
    {
     "name": "stdout",
     "output_type": "stream",
     "text": [
      "epoch 1723: avg train loss 2044.45, bar train loss 14.967, len train loss 0.950, col train loss 179.883\n"
     ]
    },
    {
     "name": "stderr",
     "output_type": "stream",
     "text": [
      "Epoch 1724: 1batch [00:00,  8.47batch/s, loss=2e+3]"
     ]
    },
    {
     "name": "stdout",
     "output_type": "stream",
     "text": [
      "epoch 1723: avg test  loss 2043.57, bar  test loss 15.056, len  test loss 0.934, col  test loss 179.868\n"
     ]
    },
    {
     "name": "stderr",
     "output_type": "stream",
     "text": [
      "Epoch 1724: 272batch [00:37,  7.16batch/s, loss=2.72e+3]\n"
     ]
    },
    {
     "name": "stdout",
     "output_type": "stream",
     "text": [
      "epoch 1724: avg train loss 2044.70, bar train loss 14.973, len train loss 0.947, col train loss 179.940\n"
     ]
    },
    {
     "name": "stderr",
     "output_type": "stream",
     "text": [
      "Epoch 1725: 1batch [00:00,  7.19batch/s, loss=1.96e+3]"
     ]
    },
    {
     "name": "stdout",
     "output_type": "stream",
     "text": [
      "epoch 1724: avg test  loss 2043.98, bar  test loss 15.056, len  test loss 0.934, col  test loss 179.931\n"
     ]
    },
    {
     "name": "stderr",
     "output_type": "stream",
     "text": [
      "Epoch 1725: 272batch [00:37,  7.17batch/s, loss=2.76e+3]\n"
     ]
    },
    {
     "name": "stdout",
     "output_type": "stream",
     "text": [
      "epoch 1725: avg train loss 2045.23, bar train loss 14.968, len train loss 0.947, col train loss 180.000\n",
      "epoch 1725: avg test  loss 2043.90, bar  test loss 15.056, len  test loss 0.934, col  test loss 179.923\n"
     ]
    },
    {
     "name": "stderr",
     "output_type": "stream",
     "text": [
      "Epoch 1726: 272batch [00:38,  7.13batch/s, loss=2.62e+3]\n"
     ]
    },
    {
     "name": "stdout",
     "output_type": "stream",
     "text": [
      "epoch 1726: avg train loss 2044.85, bar train loss 14.969, len train loss 0.946, col train loss 179.985\n"
     ]
    },
    {
     "name": "stderr",
     "output_type": "stream",
     "text": [
      "Epoch 1727: 1batch [00:00,  8.06batch/s, loss=1.98e+3]"
     ]
    },
    {
     "name": "stdout",
     "output_type": "stream",
     "text": [
      "epoch 1726: avg test  loss 2043.71, bar  test loss 15.056, len  test loss 0.934, col  test loss 179.919\n"
     ]
    },
    {
     "name": "stderr",
     "output_type": "stream",
     "text": [
      "Epoch 1727: 272batch [00:37,  7.19batch/s, loss=2.37e+3]\n"
     ]
    },
    {
     "name": "stdout",
     "output_type": "stream",
     "text": [
      "epoch 1727: avg train loss 2044.83, bar train loss 14.964, len train loss 0.946, col train loss 180.003\n"
     ]
    },
    {
     "name": "stderr",
     "output_type": "stream",
     "text": [
      "Epoch 1728: 1batch [00:00,  7.94batch/s, loss=2.08e+3]"
     ]
    },
    {
     "name": "stdout",
     "output_type": "stream",
     "text": [
      "epoch 1727: avg test  loss 2043.66, bar  test loss 15.056, len  test loss 0.934, col  test loss 179.928\n"
     ]
    },
    {
     "name": "stderr",
     "output_type": "stream",
     "text": [
      "Epoch 1728: 272batch [00:38,  7.11batch/s, loss=2.79e+3]\n"
     ]
    },
    {
     "name": "stdout",
     "output_type": "stream",
     "text": [
      "epoch 1728: avg train loss 2044.93, bar train loss 14.971, len train loss 0.948, col train loss 180.001\n"
     ]
    },
    {
     "name": "stderr",
     "output_type": "stream",
     "text": [
      "Epoch 1729: 1batch [00:00,  8.06batch/s, loss=2.09e+3]"
     ]
    },
    {
     "name": "stdout",
     "output_type": "stream",
     "text": [
      "epoch 1728: avg test  loss 2043.85, bar  test loss 15.056, len  test loss 0.934, col  test loss 179.958\n"
     ]
    },
    {
     "name": "stderr",
     "output_type": "stream",
     "text": [
      "Epoch 1729: 272batch [00:38,  7.14batch/s, loss=2.61e+3]\n"
     ]
    },
    {
     "name": "stdout",
     "output_type": "stream",
     "text": [
      "epoch 1729: avg train loss 2044.83, bar train loss 14.971, len train loss 0.947, col train loss 180.015\n"
     ]
    },
    {
     "name": "stderr",
     "output_type": "stream",
     "text": [
      "Epoch 1730: 1batch [00:00,  8.26batch/s, loss=2.08e+3]"
     ]
    },
    {
     "name": "stdout",
     "output_type": "stream",
     "text": [
      "epoch 1729: avg test  loss 2043.83, bar  test loss 15.056, len  test loss 0.934, col  test loss 179.965\n"
     ]
    },
    {
     "name": "stderr",
     "output_type": "stream",
     "text": [
      "Epoch 1730: 272batch [00:38,  7.11batch/s, loss=2.81e+3]\n"
     ]
    },
    {
     "name": "stdout",
     "output_type": "stream",
     "text": [
      "epoch 1730: avg train loss 2044.89, bar train loss 14.969, len train loss 0.948, col train loss 180.017\n",
      "epoch 1730: avg test  loss 2043.75, bar  test loss 15.056, len  test loss 0.934, col  test loss 179.964\n"
     ]
    },
    {
     "name": "stderr",
     "output_type": "stream",
     "text": [
      "Epoch 1731: 272batch [00:38,  7.14batch/s, loss=2.46e+3]\n"
     ]
    },
    {
     "name": "stdout",
     "output_type": "stream",
     "text": [
      "epoch 1731: avg train loss 2044.62, bar train loss 14.967, len train loss 0.946, col train loss 179.996\n"
     ]
    },
    {
     "name": "stderr",
     "output_type": "stream",
     "text": [
      "Epoch 1732: 1batch [00:00,  7.87batch/s, loss=2.04e+3]"
     ]
    },
    {
     "name": "stdout",
     "output_type": "stream",
     "text": [
      "epoch 1731: avg test  loss 2043.44, bar  test loss 15.056, len  test loss 0.934, col  test loss 179.868\n"
     ]
    },
    {
     "name": "stderr",
     "output_type": "stream",
     "text": [
      "Epoch 1732: 272batch [00:38,  7.08batch/s, loss=2.91e+3]\n"
     ]
    },
    {
     "name": "stdout",
     "output_type": "stream",
     "text": [
      "epoch 1732: avg train loss 2044.70, bar train loss 14.970, len train loss 0.948, col train loss 179.941\n"
     ]
    },
    {
     "name": "stderr",
     "output_type": "stream",
     "text": [
      "Epoch 1733: 1batch [00:00,  7.52batch/s, loss=2.07e+3]"
     ]
    },
    {
     "name": "stdout",
     "output_type": "stream",
     "text": [
      "epoch 1732: avg test  loss 2043.17, bar  test loss 15.056, len  test loss 0.934, col  test loss 179.864\n"
     ]
    },
    {
     "name": "stderr",
     "output_type": "stream",
     "text": [
      "Epoch 1733: 272batch [00:38,  7.11batch/s, loss=3.24e+3]\n"
     ]
    },
    {
     "name": "stdout",
     "output_type": "stream",
     "text": [
      "epoch 1733: avg train loss 2044.60, bar train loss 14.975, len train loss 0.948, col train loss 179.951\n"
     ]
    },
    {
     "name": "stderr",
     "output_type": "stream",
     "text": [
      "Epoch 1734: 1batch [00:00,  7.75batch/s, loss=2.06e+3]"
     ]
    },
    {
     "name": "stdout",
     "output_type": "stream",
     "text": [
      "epoch 1733: avg test  loss 2043.33, bar  test loss 15.056, len  test loss 0.934, col  test loss 179.896\n"
     ]
    },
    {
     "name": "stderr",
     "output_type": "stream",
     "text": [
      "Epoch 1734: 272batch [00:38,  7.08batch/s, loss=2.61e+3]\n"
     ]
    },
    {
     "name": "stdout",
     "output_type": "stream",
     "text": [
      "epoch 1734: avg train loss 2044.34, bar train loss 14.969, len train loss 0.947, col train loss 179.960\n"
     ]
    },
    {
     "name": "stderr",
     "output_type": "stream",
     "text": [
      "Epoch 1735: 1batch [00:00,  8.20batch/s, loss=2.08e+3]"
     ]
    },
    {
     "name": "stdout",
     "output_type": "stream",
     "text": [
      "epoch 1734: avg test  loss 2043.21, bar  test loss 15.056, len  test loss 0.934, col  test loss 179.897\n"
     ]
    },
    {
     "name": "stderr",
     "output_type": "stream",
     "text": [
      "Epoch 1735: 272batch [00:38,  7.07batch/s, loss=2.56e+3]\n"
     ]
    },
    {
     "name": "stdout",
     "output_type": "stream",
     "text": [
      "epoch 1735: avg train loss 2044.45, bar train loss 14.966, len train loss 0.947, col train loss 179.980\n",
      "epoch 1735: avg test  loss 2043.18, bar  test loss 15.056, len  test loss 0.934, col  test loss 179.903\n"
     ]
    },
    {
     "name": "stderr",
     "output_type": "stream",
     "text": [
      "Epoch 1736: 272batch [00:38,  7.12batch/s, loss=2.69e+3]\n"
     ]
    },
    {
     "name": "stdout",
     "output_type": "stream",
     "text": [
      "epoch 1736: avg train loss 2044.43, bar train loss 14.969, len train loss 0.947, col train loss 179.981\n"
     ]
    },
    {
     "name": "stderr",
     "output_type": "stream",
     "text": [
      "Epoch 1737: 1batch [00:00,  7.09batch/s, loss=2.05e+3]"
     ]
    },
    {
     "name": "stdout",
     "output_type": "stream",
     "text": [
      "epoch 1736: avg test  loss 2043.34, bar  test loss 15.056, len  test loss 0.934, col  test loss 179.927\n"
     ]
    },
    {
     "name": "stderr",
     "output_type": "stream",
     "text": [
      "Epoch 1737: 272batch [00:38,  7.09batch/s, loss=2.61e+3]\n"
     ]
    },
    {
     "name": "stdout",
     "output_type": "stream",
     "text": [
      "epoch 1737: avg train loss 2044.42, bar train loss 14.966, len train loss 0.947, col train loss 179.995\n"
     ]
    },
    {
     "name": "stderr",
     "output_type": "stream",
     "text": [
      "Epoch 1738: 1batch [00:00,  7.87batch/s, loss=2.12e+3]"
     ]
    },
    {
     "name": "stdout",
     "output_type": "stream",
     "text": [
      "epoch 1737: avg test  loss 2043.40, bar  test loss 15.056, len  test loss 0.934, col  test loss 179.938\n"
     ]
    },
    {
     "name": "stderr",
     "output_type": "stream",
     "text": [
      "Epoch 1738: 272batch [00:38,  7.07batch/s, loss=2.95e+3]\n"
     ]
    },
    {
     "name": "stdout",
     "output_type": "stream",
     "text": [
      "epoch 1738: avg train loss 2044.61, bar train loss 14.972, len train loss 0.948, col train loss 180.005\n"
     ]
    },
    {
     "name": "stderr",
     "output_type": "stream",
     "text": [
      "Epoch 1739: 0batch [00:00, ?batch/s, loss=1.97e+3]"
     ]
    },
    {
     "name": "stdout",
     "output_type": "stream",
     "text": [
      "epoch 1738: avg test  loss 2043.49, bar  test loss 15.056, len  test loss 0.934, col  test loss 179.949\n"
     ]
    },
    {
     "name": "stderr",
     "output_type": "stream",
     "text": [
      "Epoch 1739: 272batch [00:38,  7.04batch/s, loss=2.73e+3]\n"
     ]
    },
    {
     "name": "stdout",
     "output_type": "stream",
     "text": [
      "epoch 1739: avg train loss 2044.47, bar train loss 14.969, len train loss 0.947, col train loss 180.002\n"
     ]
    },
    {
     "name": "stderr",
     "output_type": "stream",
     "text": [
      "Epoch 1740: 1batch [00:00,  7.75batch/s, loss=2.09e+3]"
     ]
    },
    {
     "name": "stdout",
     "output_type": "stream",
     "text": [
      "epoch 1739: avg test  loss 2043.69, bar  test loss 15.056, len  test loss 0.934, col  test loss 179.973\n"
     ]
    },
    {
     "name": "stderr",
     "output_type": "stream",
     "text": [
      "Epoch 1740: 272batch [00:38,  7.09batch/s, loss=2.9e+3] \n"
     ]
    },
    {
     "name": "stdout",
     "output_type": "stream",
     "text": [
      "epoch 1740: avg train loss 2044.66, bar train loss 14.968, len train loss 0.948, col train loss 180.014\n",
      "epoch 1740: avg test  loss 2043.61, bar  test loss 15.056, len  test loss 0.934, col  test loss 179.967\n"
     ]
    },
    {
     "name": "stderr",
     "output_type": "stream",
     "text": [
      "Epoch 1741: 272batch [00:38,  7.07batch/s, loss=2.7e+3] \n"
     ]
    },
    {
     "name": "stdout",
     "output_type": "stream",
     "text": [
      "epoch 1741: avg train loss 2044.57, bar train loss 14.973, len train loss 0.947, col train loss 180.012\n"
     ]
    },
    {
     "name": "stderr",
     "output_type": "stream",
     "text": [
      "Epoch 1742: 0batch [00:00, ?batch/s, loss=2.07e+3]"
     ]
    },
    {
     "name": "stdout",
     "output_type": "stream",
     "text": [
      "epoch 1741: avg test  loss 2043.54, bar  test loss 15.056, len  test loss 0.934, col  test loss 179.960\n"
     ]
    },
    {
     "name": "stderr",
     "output_type": "stream",
     "text": [
      "Epoch 1742: 272batch [00:38,  7.05batch/s, loss=2.92e+3]\n"
     ]
    },
    {
     "name": "stdout",
     "output_type": "stream",
     "text": [
      "epoch 1742: avg train loss 2044.57, bar train loss 14.966, len train loss 0.948, col train loss 180.009\n"
     ]
    },
    {
     "name": "stderr",
     "output_type": "stream",
     "text": [
      "Epoch 1743: 1batch [00:00,  8.00batch/s, loss=2.04e+3]"
     ]
    },
    {
     "name": "stdout",
     "output_type": "stream",
     "text": [
      "epoch 1742: avg test  loss 2043.61, bar  test loss 15.056, len  test loss 0.934, col  test loss 179.967\n"
     ]
    },
    {
     "name": "stderr",
     "output_type": "stream",
     "text": [
      "Epoch 1743: 272batch [00:38,  7.03batch/s, loss=2.92e+3]\n"
     ]
    },
    {
     "name": "stdout",
     "output_type": "stream",
     "text": [
      "epoch 1743: avg train loss 2044.88, bar train loss 14.969, len train loss 0.948, col train loss 180.032\n"
     ]
    },
    {
     "name": "stderr",
     "output_type": "stream",
     "text": [
      "Epoch 1744: 1batch [00:00,  8.20batch/s, loss=2.08e+3]"
     ]
    },
    {
     "name": "stdout",
     "output_type": "stream",
     "text": [
      "epoch 1743: avg test  loss 2043.52, bar  test loss 15.056, len  test loss 0.934, col  test loss 179.958\n"
     ]
    },
    {
     "name": "stderr",
     "output_type": "stream",
     "text": [
      "Epoch 1744: 272batch [00:38,  7.04batch/s, loss=2.58e+3]\n"
     ]
    },
    {
     "name": "stdout",
     "output_type": "stream",
     "text": [
      "epoch 1744: avg train loss 2044.52, bar train loss 14.969, len train loss 0.947, col train loss 180.016\n"
     ]
    },
    {
     "name": "stderr",
     "output_type": "stream",
     "text": [
      "Epoch 1745: 1batch [00:00,  7.25batch/s, loss=2.04e+3]"
     ]
    },
    {
     "name": "stdout",
     "output_type": "stream",
     "text": [
      "epoch 1744: avg test  loss 2043.70, bar  test loss 15.056, len  test loss 0.934, col  test loss 179.976\n"
     ]
    },
    {
     "name": "stderr",
     "output_type": "stream",
     "text": [
      "Epoch 1745: 272batch [00:38,  7.08batch/s, loss=2.71e+3]\n"
     ]
    },
    {
     "name": "stdout",
     "output_type": "stream",
     "text": [
      "epoch 1745: avg train loss 2044.68, bar train loss 14.972, len train loss 0.947, col train loss 180.028\n",
      "epoch 1745: avg test  loss 2043.78, bar  test loss 15.056, len  test loss 0.934, col  test loss 179.985\n"
     ]
    },
    {
     "name": "stderr",
     "output_type": "stream",
     "text": [
      "Epoch 1746: 272batch [00:38,  7.04batch/s, loss=2.98e+3]\n"
     ]
    },
    {
     "name": "stdout",
     "output_type": "stream",
     "text": [
      "epoch 1746: avg train loss 2044.97, bar train loss 14.967, len train loss 0.948, col train loss 180.044\n"
     ]
    },
    {
     "name": "stderr",
     "output_type": "stream",
     "text": [
      "Epoch 1747: 1batch [00:00,  8.55batch/s, loss=2.04e+3]"
     ]
    },
    {
     "name": "stdout",
     "output_type": "stream",
     "text": [
      "epoch 1746: avg test  loss 2043.58, bar  test loss 15.056, len  test loss 0.934, col  test loss 179.965\n"
     ]
    },
    {
     "name": "stderr",
     "output_type": "stream",
     "text": [
      "Epoch 1747: 272batch [00:38,  7.07batch/s, loss=2.73e+3]\n"
     ]
    },
    {
     "name": "stdout",
     "output_type": "stream",
     "text": [
      "epoch 1747: avg train loss 2044.72, bar train loss 14.966, len train loss 0.948, col train loss 180.024\n"
     ]
    },
    {
     "name": "stderr",
     "output_type": "stream",
     "text": [
      "Epoch 1748: 1batch [00:00,  7.14batch/s, loss=1.96e+3]"
     ]
    },
    {
     "name": "stdout",
     "output_type": "stream",
     "text": [
      "epoch 1747: avg test  loss 2043.74, bar  test loss 15.056, len  test loss 0.934, col  test loss 179.979\n"
     ]
    },
    {
     "name": "stderr",
     "output_type": "stream",
     "text": [
      "Epoch 1748: 272batch [00:38,  7.04batch/s, loss=2.73e+3]\n"
     ]
    },
    {
     "name": "stdout",
     "output_type": "stream",
     "text": [
      "epoch 1748: avg train loss 2044.94, bar train loss 14.970, len train loss 0.947, col train loss 179.986\n"
     ]
    },
    {
     "name": "stderr",
     "output_type": "stream",
     "text": [
      "Epoch 1749: 1batch [00:00,  7.52batch/s, loss=2.12e+3]"
     ]
    },
    {
     "name": "stdout",
     "output_type": "stream",
     "text": [
      "epoch 1748: avg test  loss 2043.87, bar  test loss 15.056, len  test loss 0.934, col  test loss 179.873\n"
     ]
    },
    {
     "name": "stderr",
     "output_type": "stream",
     "text": [
      "Epoch 1749: 272batch [00:38,  7.04batch/s, loss=2.8e+3] \n"
     ]
    },
    {
     "name": "stdout",
     "output_type": "stream",
     "text": [
      "epoch 1749: avg train loss 2044.83, bar train loss 14.970, len train loss 0.948, col train loss 179.928\n"
     ]
    },
    {
     "name": "stderr",
     "output_type": "stream",
     "text": [
      "Epoch 1750: 1batch [00:00,  8.62batch/s, loss=2.03e+3]"
     ]
    },
    {
     "name": "stdout",
     "output_type": "stream",
     "text": [
      "epoch 1749: avg test  loss 2043.57, bar  test loss 15.056, len  test loss 0.934, col  test loss 179.874\n"
     ]
    },
    {
     "name": "stderr",
     "output_type": "stream",
     "text": [
      "Epoch 1750: 272batch [00:38,  7.02batch/s, loss=2.64e+3]\n"
     ]
    },
    {
     "name": "stdout",
     "output_type": "stream",
     "text": [
      "epoch 1750: avg train loss 2044.39, bar train loss 14.969, len train loss 0.946, col train loss 179.929\n",
      "epoch 1750: avg test  loss 2043.36, bar  test loss 15.056, len  test loss 0.934, col  test loss 179.879\n"
     ]
    },
    {
     "name": "stderr",
     "output_type": "stream",
     "text": [
      "Epoch 1751: 272batch [00:38,  7.05batch/s, loss=2.57e+3]\n"
     ]
    },
    {
     "name": "stdout",
     "output_type": "stream",
     "text": [
      "epoch 1751: avg train loss 2044.12, bar train loss 14.965, len train loss 0.947, col train loss 179.909\n"
     ]
    },
    {
     "name": "stderr",
     "output_type": "stream",
     "text": [
      "Epoch 1752: 1batch [00:00,  8.47batch/s, loss=2.18e+3]"
     ]
    },
    {
     "name": "stdout",
     "output_type": "stream",
     "text": [
      "epoch 1751: avg test  loss 2042.65, bar  test loss 15.056, len  test loss 0.934, col  test loss 179.816\n"
     ]
    },
    {
     "name": "stderr",
     "output_type": "stream",
     "text": [
      "Epoch 1752: 272batch [00:38,  7.06batch/s, loss=2.66e+3]\n"
     ]
    },
    {
     "name": "stdout",
     "output_type": "stream",
     "text": [
      "epoch 1752: avg train loss 2043.68, bar train loss 14.968, len train loss 0.947, col train loss 179.884\n"
     ]
    },
    {
     "name": "stderr",
     "output_type": "stream",
     "text": [
      "Epoch 1753: 1batch [00:00,  7.69batch/s, loss=1.98e+3]"
     ]
    },
    {
     "name": "stdout",
     "output_type": "stream",
     "text": [
      "epoch 1752: avg test  loss 2042.65, bar  test loss 15.056, len  test loss 0.934, col  test loss 179.835\n"
     ]
    },
    {
     "name": "stderr",
     "output_type": "stream",
     "text": [
      "Epoch 1753: 272batch [00:38,  6.99batch/s, loss=3.02e+3]\n"
     ]
    },
    {
     "name": "stdout",
     "output_type": "stream",
     "text": [
      "epoch 1753: avg train loss 2043.97, bar train loss 14.972, len train loss 0.948, col train loss 179.911\n"
     ]
    },
    {
     "name": "stderr",
     "output_type": "stream",
     "text": [
      "Epoch 1754: 1batch [00:00,  8.33batch/s, loss=1.95e+3]"
     ]
    },
    {
     "name": "stdout",
     "output_type": "stream",
     "text": [
      "epoch 1753: avg test  loss 2042.77, bar  test loss 15.056, len  test loss 0.934, col  test loss 179.859\n"
     ]
    },
    {
     "name": "stderr",
     "output_type": "stream",
     "text": [
      "Epoch 1754: 272batch [00:38,  7.04batch/s, loss=2.91e+3]\n"
     ]
    },
    {
     "name": "stdout",
     "output_type": "stream",
     "text": [
      "epoch 1754: avg train loss 2044.01, bar train loss 14.970, len train loss 0.948, col train loss 179.928\n"
     ]
    },
    {
     "name": "stderr",
     "output_type": "stream",
     "text": [
      "\r",
      "Epoch 1755: 0batch [00:00, ?batch/s]"
     ]
    },
    {
     "name": "stdout",
     "output_type": "stream",
     "text": [
      "epoch 1754: avg test  loss 2044.95, bar  test loss 15.056, len  test loss 0.934, col  test loss 180.022\n"
     ]
    },
    {
     "name": "stderr",
     "output_type": "stream",
     "text": [
      "Epoch 1755: 272batch [00:38,  7.00batch/s, loss=2.77e+3]\n"
     ]
    },
    {
     "name": "stdout",
     "output_type": "stream",
     "text": [
      "epoch 1755: avg train loss 2046.63, bar train loss 14.967, len train loss 0.948, col train loss 180.083\n",
      "epoch 1755: avg test  loss 2045.81, bar  test loss 15.056, len  test loss 0.934, col  test loss 180.053\n"
     ]
    },
    {
     "name": "stderr",
     "output_type": "stream",
     "text": [
      "Epoch 1756: 272batch [00:38,  7.04batch/s, loss=2.89e+3]\n"
     ]
    },
    {
     "name": "stdout",
     "output_type": "stream",
     "text": [
      "epoch 1756: avg train loss 2046.67, bar train loss 14.966, len train loss 0.948, col train loss 180.082\n"
     ]
    },
    {
     "name": "stderr",
     "output_type": "stream",
     "text": [
      "Epoch 1757: 1batch [00:00,  8.06batch/s, loss=2.08e+3]"
     ]
    },
    {
     "name": "stdout",
     "output_type": "stream",
     "text": [
      "epoch 1756: avg test  loss 2045.55, bar  test loss 15.056, len  test loss 0.934, col  test loss 180.033\n"
     ]
    },
    {
     "name": "stderr",
     "output_type": "stream",
     "text": [
      "Epoch 1757: 272batch [00:38,  7.04batch/s, loss=2.99e+3]\n"
     ]
    },
    {
     "name": "stdout",
     "output_type": "stream",
     "text": [
      "epoch 1757: avg train loss 2046.75, bar train loss 14.972, len train loss 0.947, col train loss 180.100\n"
     ]
    },
    {
     "name": "stderr",
     "output_type": "stream",
     "text": [
      "\r",
      "Epoch 1758: 0batch [00:00, ?batch/s]"
     ]
    },
    {
     "name": "stdout",
     "output_type": "stream",
     "text": [
      "epoch 1757: avg test  loss 2045.32, bar  test loss 15.056, len  test loss 0.934, col  test loss 180.013\n"
     ]
    },
    {
     "name": "stderr",
     "output_type": "stream",
     "text": [
      "Epoch 1758: 272batch [00:39,  6.93batch/s, loss=2.8e+3] \n"
     ]
    },
    {
     "name": "stdout",
     "output_type": "stream",
     "text": [
      "epoch 1758: avg train loss 2046.49, bar train loss 14.970, len train loss 0.947, col train loss 180.081\n"
     ]
    },
    {
     "name": "stderr",
     "output_type": "stream",
     "text": [
      "Epoch 1759: 1batch [00:00,  8.06batch/s, loss=2.08e+3]"
     ]
    },
    {
     "name": "stdout",
     "output_type": "stream",
     "text": [
      "epoch 1758: avg test  loss 2045.66, bar  test loss 15.056, len  test loss 0.934, col  test loss 180.052\n"
     ]
    },
    {
     "name": "stderr",
     "output_type": "stream",
     "text": [
      "Epoch 1759: 272batch [00:38,  6.99batch/s, loss=2.72e+3]\n"
     ]
    },
    {
     "name": "stdout",
     "output_type": "stream",
     "text": [
      "epoch 1759: avg train loss 2046.47, bar train loss 14.969, len train loss 0.947, col train loss 180.085\n"
     ]
    },
    {
     "name": "stderr",
     "output_type": "stream",
     "text": [
      "Epoch 1760: 1batch [00:00,  8.70batch/s, loss=2.06e+3]"
     ]
    },
    {
     "name": "stdout",
     "output_type": "stream",
     "text": [
      "epoch 1759: avg test  loss 2045.37, bar  test loss 15.056, len  test loss 0.934, col  test loss 180.028\n"
     ]
    },
    {
     "name": "stderr",
     "output_type": "stream",
     "text": [
      "Epoch 1760: 272batch [00:38,  7.02batch/s, loss=2.39e+3]\n"
     ]
    },
    {
     "name": "stdout",
     "output_type": "stream",
     "text": [
      "epoch 1760: avg train loss 2046.26, bar train loss 14.964, len train loss 0.946, col train loss 180.087\n",
      "epoch 1760: avg test  loss 2045.35, bar  test loss 15.056, len  test loss 0.934, col  test loss 180.031\n"
     ]
    },
    {
     "name": "stderr",
     "output_type": "stream",
     "text": [
      "Epoch 1761: 272batch [00:38,  7.01batch/s, loss=3.02e+3]\n"
     ]
    },
    {
     "name": "stdout",
     "output_type": "stream",
     "text": [
      "epoch 1761: avg train loss 2046.64, bar train loss 14.971, len train loss 0.948, col train loss 180.014\n"
     ]
    },
    {
     "name": "stderr",
     "output_type": "stream",
     "text": [
      "Epoch 1762: 1batch [00:00,  7.35batch/s, loss=2.1e+3]"
     ]
    },
    {
     "name": "stdout",
     "output_type": "stream",
     "text": [
      "epoch 1761: avg test  loss 2045.52, bar  test loss 15.056, len  test loss 0.934, col  test loss 179.943\n"
     ]
    },
    {
     "name": "stderr",
     "output_type": "stream",
     "text": [
      "Epoch 1762: 272batch [00:38,  7.02batch/s, loss=2.49e+3]\n"
     ]
    },
    {
     "name": "stdout",
     "output_type": "stream",
     "text": [
      "epoch 1762: avg train loss 2046.43, bar train loss 14.966, len train loss 0.946, col train loss 179.999\n"
     ]
    },
    {
     "name": "stderr",
     "output_type": "stream",
     "text": [
      "Epoch 1763: 1batch [00:00,  7.63batch/s, loss=1.93e+3]"
     ]
    },
    {
     "name": "stdout",
     "output_type": "stream",
     "text": [
      "epoch 1762: avg test  loss 2045.43, bar  test loss 15.056, len  test loss 0.934, col  test loss 179.937\n"
     ]
    },
    {
     "name": "stderr",
     "output_type": "stream",
     "text": [
      "Epoch 1763: 272batch [00:39,  6.92batch/s, loss=2.64e+3]\n"
     ]
    },
    {
     "name": "stdout",
     "output_type": "stream",
     "text": [
      "epoch 1763: avg train loss 2046.58, bar train loss 14.969, len train loss 0.946, col train loss 180.008\n"
     ]
    },
    {
     "name": "stderr",
     "output_type": "stream",
     "text": [
      "Epoch 1764: 1batch [00:00,  7.63batch/s, loss=2.04e+3]"
     ]
    },
    {
     "name": "stdout",
     "output_type": "stream",
     "text": [
      "epoch 1763: avg test  loss 2045.47, bar  test loss 15.056, len  test loss 0.934, col  test loss 179.940\n"
     ]
    },
    {
     "name": "stderr",
     "output_type": "stream",
     "text": [
      "Epoch 1764: 272batch [00:39,  6.93batch/s, loss=2.68e+3]\n"
     ]
    },
    {
     "name": "stdout",
     "output_type": "stream",
     "text": [
      "epoch 1764: avg train loss 2046.68, bar train loss 14.968, len train loss 0.947, col train loss 180.012\n"
     ]
    },
    {
     "name": "stderr",
     "output_type": "stream",
     "text": [
      "Epoch 1765: 1batch [00:00,  7.52batch/s, loss=2.05e+3]"
     ]
    },
    {
     "name": "stdout",
     "output_type": "stream",
     "text": [
      "epoch 1764: avg test  loss 2045.34, bar  test loss 15.056, len  test loss 0.934, col  test loss 179.931\n"
     ]
    },
    {
     "name": "stderr",
     "output_type": "stream",
     "text": [
      "Epoch 1765: 272batch [00:39,  6.95batch/s, loss=2.82e+3]\n"
     ]
    },
    {
     "name": "stdout",
     "output_type": "stream",
     "text": [
      "epoch 1765: avg train loss 2046.58, bar train loss 14.971, len train loss 0.947, col train loss 180.003\n",
      "epoch 1765: avg test  loss 2045.23, bar  test loss 15.056, len  test loss 0.934, col  test loss 179.923\n"
     ]
    },
    {
     "name": "stderr",
     "output_type": "stream",
     "text": [
      "Epoch 1766: 272batch [00:39,  6.92batch/s, loss=3.05e+3]\n"
     ]
    },
    {
     "name": "stdout",
     "output_type": "stream",
     "text": [
      "epoch 1766: avg train loss 2046.68, bar train loss 14.969, len train loss 0.949, col train loss 180.005\n"
     ]
    },
    {
     "name": "stderr",
     "output_type": "stream",
     "text": [
      "Epoch 1767: 1batch [00:00,  8.00batch/s, loss=2.05e+3]"
     ]
    },
    {
     "name": "stdout",
     "output_type": "stream",
     "text": [
      "epoch 1766: avg test  loss 2045.48, bar  test loss 15.056, len  test loss 0.934, col  test loss 179.950\n"
     ]
    },
    {
     "name": "stderr",
     "output_type": "stream",
     "text": [
      "Epoch 1767: 272batch [00:38,  7.00batch/s, loss=2.72e+3]\n"
     ]
    },
    {
     "name": "stdout",
     "output_type": "stream",
     "text": [
      "epoch 1767: avg train loss 2046.53, bar train loss 14.970, len train loss 0.947, col train loss 180.007\n"
     ]
    },
    {
     "name": "stderr",
     "output_type": "stream",
     "text": [
      "\r",
      "Epoch 1768: 0batch [00:00, ?batch/s]"
     ]
    },
    {
     "name": "stdout",
     "output_type": "stream",
     "text": [
      "epoch 1767: avg test  loss 2045.32, bar  test loss 15.056, len  test loss 0.934, col  test loss 179.937\n"
     ]
    },
    {
     "name": "stderr",
     "output_type": "stream",
     "text": [
      "Epoch 1768: 272batch [00:39,  6.86batch/s, loss=2.61e+3]\n"
     ]
    },
    {
     "name": "stdout",
     "output_type": "stream",
     "text": [
      "epoch 1768: avg train loss 2046.43, bar train loss 14.967, len train loss 0.947, col train loss 180.003\n"
     ]
    },
    {
     "name": "stderr",
     "output_type": "stream",
     "text": [
      "Epoch 1769: 1batch [00:00,  7.69batch/s, loss=2.01e+3]"
     ]
    },
    {
     "name": "stdout",
     "output_type": "stream",
     "text": [
      "epoch 1768: avg test  loss 2045.26, bar  test loss 15.056, len  test loss 0.934, col  test loss 179.938\n"
     ]
    },
    {
     "name": "stderr",
     "output_type": "stream",
     "text": [
      "Epoch 1769: 272batch [00:38,  6.98batch/s, loss=3.15e+3]\n"
     ]
    },
    {
     "name": "stdout",
     "output_type": "stream",
     "text": [
      "epoch 1769: avg train loss 2046.51, bar train loss 14.977, len train loss 0.948, col train loss 179.998\n"
     ]
    },
    {
     "name": "stderr",
     "output_type": "stream",
     "text": [
      "Epoch 1770: 1batch [00:00,  8.55batch/s, loss=1.96e+3]"
     ]
    },
    {
     "name": "stdout",
     "output_type": "stream",
     "text": [
      "epoch 1769: avg test  loss 2045.34, bar  test loss 15.056, len  test loss 0.934, col  test loss 179.950\n"
     ]
    },
    {
     "name": "stderr",
     "output_type": "stream",
     "text": [
      "Epoch 1770: 272batch [00:39,  6.97batch/s, loss=2.94e+3]\n"
     ]
    },
    {
     "name": "stdout",
     "output_type": "stream",
     "text": [
      "epoch 1770: avg train loss 2046.44, bar train loss 14.971, len train loss 0.948, col train loss 180.002\n",
      "epoch 1770: avg test  loss 2045.27, bar  test loss 15.056, len  test loss 0.934, col  test loss 179.946\n"
     ]
    },
    {
     "name": "stderr",
     "output_type": "stream",
     "text": [
      "Epoch 1771: 272batch [00:39,  6.95batch/s, loss=2.74e+3]\n"
     ]
    },
    {
     "name": "stdout",
     "output_type": "stream",
     "text": [
      "epoch 1771: avg train loss 2046.27, bar train loss 14.969, len train loss 0.947, col train loss 180.000\n"
     ]
    },
    {
     "name": "stderr",
     "output_type": "stream",
     "text": [
      "Epoch 1772: 1batch [00:00,  8.20batch/s, loss=2.01e+3]"
     ]
    },
    {
     "name": "stdout",
     "output_type": "stream",
     "text": [
      "epoch 1771: avg test  loss 2045.24, bar  test loss 15.056, len  test loss 0.934, col  test loss 179.948\n"
     ]
    },
    {
     "name": "stderr",
     "output_type": "stream",
     "text": [
      "Epoch 1772: 272batch [00:39,  6.94batch/s, loss=2.47e+3]\n"
     ]
    },
    {
     "name": "stdout",
     "output_type": "stream",
     "text": [
      "epoch 1772: avg train loss 2046.12, bar train loss 14.968, len train loss 0.946, col train loss 180.001\n"
     ]
    },
    {
     "name": "stderr",
     "output_type": "stream",
     "text": [
      "Epoch 1773: 1batch [00:00,  7.46batch/s, loss=2.07e+3]"
     ]
    },
    {
     "name": "stdout",
     "output_type": "stream",
     "text": [
      "epoch 1772: avg test  loss 2045.08, bar  test loss 15.056, len  test loss 0.934, col  test loss 179.938\n"
     ]
    },
    {
     "name": "stderr",
     "output_type": "stream",
     "text": [
      "Epoch 1773: 272batch [00:39,  6.96batch/s, loss=2.33e+3]\n"
     ]
    },
    {
     "name": "stdout",
     "output_type": "stream",
     "text": [
      "epoch 1773: avg train loss 2046.03, bar train loss 14.965, len train loss 0.947, col train loss 179.996\n"
     ]
    },
    {
     "name": "stderr",
     "output_type": "stream",
     "text": [
      "Epoch 1774: 1batch [00:00,  7.69batch/s, loss=2.08e+3]"
     ]
    },
    {
     "name": "stdout",
     "output_type": "stream",
     "text": [
      "epoch 1773: avg test  loss 2045.07, bar  test loss 15.056, len  test loss 0.934, col  test loss 179.939\n"
     ]
    },
    {
     "name": "stderr",
     "output_type": "stream",
     "text": [
      "Epoch 1774: 272batch [00:39,  6.93batch/s, loss=2.95e+3]\n"
     ]
    },
    {
     "name": "stdout",
     "output_type": "stream",
     "text": [
      "epoch 1774: avg train loss 2046.26, bar train loss 14.967, len train loss 0.949, col train loss 179.998\n"
     ]
    },
    {
     "name": "stderr",
     "output_type": "stream",
     "text": [
      "Epoch 1775: 1batch [00:00,  7.94batch/s, loss=2.05e+3]"
     ]
    },
    {
     "name": "stdout",
     "output_type": "stream",
     "text": [
      "epoch 1774: avg test  loss 2044.82, bar  test loss 15.056, len  test loss 0.934, col  test loss 179.922\n"
     ]
    },
    {
     "name": "stderr",
     "output_type": "stream",
     "text": [
      "Epoch 1775: 272batch [00:39,  6.91batch/s, loss=2.79e+3]\n"
     ]
    },
    {
     "name": "stdout",
     "output_type": "stream",
     "text": [
      "epoch 1775: avg train loss 2046.17, bar train loss 14.971, len train loss 0.947, col train loss 180.008\n",
      "epoch 1775: avg test  loss 2044.98, bar  test loss 15.056, len  test loss 0.934, col  test loss 179.946\n"
     ]
    },
    {
     "name": "stderr",
     "output_type": "stream",
     "text": [
      "Epoch 1776: 272batch [00:39,  6.90batch/s, loss=2.78e+3]\n"
     ]
    },
    {
     "name": "stdout",
     "output_type": "stream",
     "text": [
      "epoch 1776: avg train loss 2046.17, bar train loss 14.968, len train loss 0.948, col train loss 180.015\n"
     ]
    },
    {
     "name": "stderr",
     "output_type": "stream",
     "text": [
      "Epoch 1777: 1batch [00:00,  8.06batch/s, loss=2.07e+3]"
     ]
    },
    {
     "name": "stdout",
     "output_type": "stream",
     "text": [
      "epoch 1776: avg test  loss 2044.86, bar  test loss 15.056, len  test loss 0.934, col  test loss 179.942\n"
     ]
    },
    {
     "name": "stderr",
     "output_type": "stream",
     "text": [
      "Epoch 1777: 272batch [00:39,  6.93batch/s, loss=2.71e+3]\n"
     ]
    },
    {
     "name": "stdout",
     "output_type": "stream",
     "text": [
      "epoch 1777: avg train loss 2046.04, bar train loss 14.965, len train loss 0.948, col train loss 180.012\n"
     ]
    },
    {
     "name": "stderr",
     "output_type": "stream",
     "text": [
      "Epoch 1778: 1batch [00:00,  7.87batch/s, loss=2.12e+3]"
     ]
    },
    {
     "name": "stdout",
     "output_type": "stream",
     "text": [
      "epoch 1777: avg test  loss 2044.78, bar  test loss 15.056, len  test loss 0.934, col  test loss 179.941\n"
     ]
    },
    {
     "name": "stderr",
     "output_type": "stream",
     "text": [
      "Epoch 1778: 272batch [00:39,  6.92batch/s, loss=2.43e+3]\n"
     ]
    },
    {
     "name": "stdout",
     "output_type": "stream",
     "text": [
      "epoch 1778: avg train loss 2045.79, bar train loss 14.965, len train loss 0.946, col train loss 180.010\n"
     ]
    },
    {
     "name": "stderr",
     "output_type": "stream",
     "text": [
      "Epoch 1779: 1batch [00:00,  8.55batch/s, loss=2.02e+3]"
     ]
    },
    {
     "name": "stdout",
     "output_type": "stream",
     "text": [
      "epoch 1778: avg test  loss 2044.92, bar  test loss 15.056, len  test loss 0.934, col  test loss 179.964\n"
     ]
    },
    {
     "name": "stderr",
     "output_type": "stream",
     "text": [
      "Epoch 1779: 272batch [00:39,  6.91batch/s, loss=2.49e+3]\n"
     ]
    },
    {
     "name": "stdout",
     "output_type": "stream",
     "text": [
      "epoch 1779: avg train loss 2045.73, bar train loss 14.969, len train loss 0.946, col train loss 180.009\n"
     ]
    },
    {
     "name": "stderr",
     "output_type": "stream",
     "text": [
      "Epoch 1780: 1batch [00:00,  7.75batch/s, loss=2.03e+3]"
     ]
    },
    {
     "name": "stdout",
     "output_type": "stream",
     "text": [
      "epoch 1779: avg test  loss 2044.50, bar  test loss 15.056, len  test loss 0.934, col  test loss 179.932\n"
     ]
    },
    {
     "name": "stderr",
     "output_type": "stream",
     "text": [
      "Epoch 1780: 272batch [00:39,  6.92batch/s, loss=2.75e+3]\n"
     ]
    },
    {
     "name": "stdout",
     "output_type": "stream",
     "text": [
      "epoch 1780: avg train loss 2045.73, bar train loss 14.972, len train loss 0.947, col train loss 180.005\n",
      "epoch 1780: avg test  loss 2044.70, bar  test loss 15.056, len  test loss 0.934, col  test loss 179.961\n"
     ]
    },
    {
     "name": "stderr",
     "output_type": "stream",
     "text": [
      "Epoch 1781: 272batch [00:39,  6.94batch/s, loss=2.79e+3]\n"
     ]
    },
    {
     "name": "stdout",
     "output_type": "stream",
     "text": [
      "epoch 1781: avg train loss 2045.68, bar train loss 14.968, len train loss 0.947, col train loss 180.010\n"
     ]
    },
    {
     "name": "stderr",
     "output_type": "stream",
     "text": [
      "Epoch 1782: 1batch [00:00,  7.35batch/s, loss=2.19e+3]"
     ]
    },
    {
     "name": "stdout",
     "output_type": "stream",
     "text": [
      "epoch 1781: avg test  loss 2044.46, bar  test loss 15.056, len  test loss 0.934, col  test loss 179.945\n"
     ]
    },
    {
     "name": "stderr",
     "output_type": "stream",
     "text": [
      "Epoch 1782: 272batch [00:39,  6.91batch/s, loss=2.81e+3]\n"
     ]
    },
    {
     "name": "stdout",
     "output_type": "stream",
     "text": [
      "epoch 1782: avg train loss 2045.59, bar train loss 14.970, len train loss 0.948, col train loss 180.006\n"
     ]
    },
    {
     "name": "stderr",
     "output_type": "stream",
     "text": [
      "\r",
      "Epoch 1783: 0batch [00:00, ?batch/s]"
     ]
    },
    {
     "name": "stdout",
     "output_type": "stream",
     "text": [
      "epoch 1782: avg test  loss 2044.39, bar  test loss 15.056, len  test loss 0.934, col  test loss 179.947\n"
     ]
    },
    {
     "name": "stderr",
     "output_type": "stream",
     "text": [
      "Epoch 1783: 272batch [00:40,  6.78batch/s, loss=2.74e+3]\n"
     ]
    },
    {
     "name": "stdout",
     "output_type": "stream",
     "text": [
      "epoch 1783: avg train loss 2045.63, bar train loss 14.968, len train loss 0.948, col train loss 180.024\n"
     ]
    },
    {
     "name": "stderr",
     "output_type": "stream",
     "text": [
      "Epoch 1784: 1batch [00:00,  7.41batch/s, loss=2.17e+3]"
     ]
    },
    {
     "name": "stdout",
     "output_type": "stream",
     "text": [
      "epoch 1783: avg test  loss 2044.47, bar  test loss 15.056, len  test loss 0.934, col  test loss 179.967\n"
     ]
    },
    {
     "name": "stderr",
     "output_type": "stream",
     "text": [
      "Epoch 1784: 272batch [00:39,  6.89batch/s, loss=2.8e+3] \n"
     ]
    },
    {
     "name": "stdout",
     "output_type": "stream",
     "text": [
      "epoch 1784: avg train loss 2045.45, bar train loss 14.970, len train loss 0.948, col train loss 180.013\n"
     ]
    },
    {
     "name": "stderr",
     "output_type": "stream",
     "text": [
      "Epoch 1785: 1batch [00:00,  7.87batch/s, loss=2.06e+3]"
     ]
    },
    {
     "name": "stdout",
     "output_type": "stream",
     "text": [
      "epoch 1784: avg test  loss 2044.29, bar  test loss 15.056, len  test loss 0.934, col  test loss 179.957\n"
     ]
    },
    {
     "name": "stderr",
     "output_type": "stream",
     "text": [
      "Epoch 1785: 272batch [00:39,  6.87batch/s, loss=2.47e+3]\n"
     ]
    },
    {
     "name": "stdout",
     "output_type": "stream",
     "text": [
      "epoch 1785: avg train loss 2045.30, bar train loss 14.966, len train loss 0.946, col train loss 180.024\n",
      "epoch 1785: avg test  loss 2044.27, bar  test loss 15.056, len  test loss 0.934, col  test loss 179.966\n"
     ]
    },
    {
     "name": "stderr",
     "output_type": "stream",
     "text": [
      "Epoch 1786: 272batch [00:39,  6.90batch/s, loss=2.83e+3]\n"
     ]
    },
    {
     "name": "stdout",
     "output_type": "stream",
     "text": [
      "epoch 1786: avg train loss 2045.41, bar train loss 14.969, len train loss 0.948, col train loss 180.029\n"
     ]
    },
    {
     "name": "stderr",
     "output_type": "stream",
     "text": [
      "Epoch 1787: 0batch [00:00, ?batch/s, loss=2e+3]"
     ]
    },
    {
     "name": "stdout",
     "output_type": "stream",
     "text": [
      "epoch 1786: avg test  loss 2044.25, bar  test loss 15.056, len  test loss 0.934, col  test loss 179.972\n"
     ]
    },
    {
     "name": "stderr",
     "output_type": "stream",
     "text": [
      "Epoch 1787: 272batch [00:39,  6.90batch/s, loss=2.64e+3]\n"
     ]
    },
    {
     "name": "stdout",
     "output_type": "stream",
     "text": [
      "epoch 1787: avg train loss 2045.26, bar train loss 14.965, len train loss 0.947, col train loss 180.033\n"
     ]
    },
    {
     "name": "stderr",
     "output_type": "stream",
     "text": [
      "Epoch 1788: 1batch [00:00,  7.94batch/s, loss=2.05e+3]"
     ]
    },
    {
     "name": "stdout",
     "output_type": "stream",
     "text": [
      "epoch 1787: avg test  loss 2044.25, bar  test loss 15.056, len  test loss 0.934, col  test loss 179.982\n"
     ]
    },
    {
     "name": "stderr",
     "output_type": "stream",
     "text": [
      "Epoch 1788: 272batch [00:39,  6.90batch/s, loss=2.42e+3]\n"
     ]
    },
    {
     "name": "stdout",
     "output_type": "stream",
     "text": [
      "epoch 1788: avg train loss 2045.12, bar train loss 14.963, len train loss 0.947, col train loss 180.030\n"
     ]
    },
    {
     "name": "stderr",
     "output_type": "stream",
     "text": [
      "Epoch 1789: 1batch [00:00,  6.99batch/s, loss=2.06e+3]"
     ]
    },
    {
     "name": "stdout",
     "output_type": "stream",
     "text": [
      "epoch 1788: avg test  loss 2045.29, bar  test loss 15.056, len  test loss 0.934, col  test loss 180.058\n"
     ]
    },
    {
     "name": "stderr",
     "output_type": "stream",
     "text": [
      "Epoch 1789: 272batch [00:39,  6.86batch/s, loss=2.71e+3]\n"
     ]
    },
    {
     "name": "stdout",
     "output_type": "stream",
     "text": [
      "epoch 1789: avg train loss 2046.19, bar train loss 14.968, len train loss 0.947, col train loss 180.109\n"
     ]
    },
    {
     "name": "stderr",
     "output_type": "stream",
     "text": [
      "Epoch 1790: 1batch [00:00,  8.06batch/s, loss=2e+3]"
     ]
    },
    {
     "name": "stdout",
     "output_type": "stream",
     "text": [
      "epoch 1789: avg test  loss 2045.07, bar  test loss 15.056, len  test loss 0.934, col  test loss 180.047\n"
     ]
    },
    {
     "name": "stderr",
     "output_type": "stream",
     "text": [
      "Epoch 1790: 272batch [00:39,  6.87batch/s, loss=2.86e+3]\n"
     ]
    },
    {
     "name": "stdout",
     "output_type": "stream",
     "text": [
      "epoch 1790: avg train loss 2046.05, bar train loss 14.967, len train loss 0.948, col train loss 180.094\n",
      "epoch 1790: avg test  loss 2045.13, bar  test loss 15.056, len  test loss 0.934, col  test loss 180.062\n"
     ]
    },
    {
     "name": "stderr",
     "output_type": "stream",
     "text": [
      "Epoch 1791: 272batch [00:39,  6.87batch/s, loss=3.19e+3]\n"
     ]
    },
    {
     "name": "stdout",
     "output_type": "stream",
     "text": [
      "epoch 1791: avg train loss 2046.30, bar train loss 14.973, len train loss 0.949, col train loss 180.116\n"
     ]
    },
    {
     "name": "stderr",
     "output_type": "stream",
     "text": [
      "Epoch 1792: 1batch [00:00,  7.63batch/s, loss=1.96e+3]"
     ]
    },
    {
     "name": "stdout",
     "output_type": "stream",
     "text": [
      "epoch 1791: avg test  loss 2044.69, bar  test loss 15.056, len  test loss 0.934, col  test loss 180.030\n"
     ]
    },
    {
     "name": "stderr",
     "output_type": "stream",
     "text": [
      "Epoch 1792: 272batch [00:39,  6.83batch/s, loss=2.85e+3]\n"
     ]
    },
    {
     "name": "stdout",
     "output_type": "stream",
     "text": [
      "epoch 1792: avg train loss 2045.77, bar train loss 14.974, len train loss 0.947, col train loss 180.089\n"
     ]
    },
    {
     "name": "stderr",
     "output_type": "stream",
     "text": [
      "Epoch 1793: 1batch [00:00,  8.13batch/s, loss=2.01e+3]"
     ]
    },
    {
     "name": "stdout",
     "output_type": "stream",
     "text": [
      "epoch 1792: avg test  loss 2044.70, bar  test loss 15.056, len  test loss 0.934, col  test loss 180.039\n"
     ]
    },
    {
     "name": "stderr",
     "output_type": "stream",
     "text": [
      "Epoch 1793: 272batch [00:39,  6.85batch/s, loss=2.76e+3]\n"
     ]
    },
    {
     "name": "stdout",
     "output_type": "stream",
     "text": [
      "epoch 1793: avg train loss 2045.71, bar train loss 14.965, len train loss 0.947, col train loss 180.098\n"
     ]
    },
    {
     "name": "stderr",
     "output_type": "stream",
     "text": [
      "Epoch 1794: 1batch [00:00,  8.20batch/s, loss=2.09e+3]"
     ]
    },
    {
     "name": "stdout",
     "output_type": "stream",
     "text": [
      "epoch 1793: avg test  loss 2044.56, bar  test loss 15.056, len  test loss 0.934, col  test loss 180.034\n"
     ]
    },
    {
     "name": "stderr",
     "output_type": "stream",
     "text": [
      "Epoch 1794: 272batch [00:39,  6.88batch/s, loss=2.74e+3]\n"
     ]
    },
    {
     "name": "stdout",
     "output_type": "stream",
     "text": [
      "epoch 1794: avg train loss 2045.60, bar train loss 14.964, len train loss 0.948, col train loss 180.084\n"
     ]
    },
    {
     "name": "stderr",
     "output_type": "stream",
     "text": [
      "Epoch 1795: 1batch [00:00,  8.40batch/s, loss=2.11e+3]"
     ]
    },
    {
     "name": "stdout",
     "output_type": "stream",
     "text": [
      "epoch 1794: avg test  loss 2044.50, bar  test loss 15.056, len  test loss 0.934, col  test loss 180.032\n"
     ]
    },
    {
     "name": "stderr",
     "output_type": "stream",
     "text": [
      "Epoch 1795: 272batch [00:40,  6.68batch/s, loss=2.8e+3] \n"
     ]
    },
    {
     "name": "stdout",
     "output_type": "stream",
     "text": [
      "epoch 1795: avg train loss 2045.46, bar train loss 14.970, len train loss 0.947, col train loss 180.080\n",
      "epoch 1795: avg test  loss 2044.37, bar  test loss 15.056, len  test loss 0.934, col  test loss 180.026\n"
     ]
    },
    {
     "name": "stderr",
     "output_type": "stream",
     "text": [
      "Epoch 1796: 272batch [00:39,  6.87batch/s, loss=3.13e+3]\n"
     ]
    },
    {
     "name": "stdout",
     "output_type": "stream",
     "text": [
      "epoch 1796: avg train loss 2045.62, bar train loss 14.969, len train loss 0.949, col train loss 180.087\n"
     ]
    },
    {
     "name": "stderr",
     "output_type": "stream",
     "text": [
      "Epoch 1797: 1batch [00:00,  8.06batch/s, loss=2.07e+3]"
     ]
    },
    {
     "name": "stdout",
     "output_type": "stream",
     "text": [
      "epoch 1796: avg test  loss 2044.27, bar  test loss 15.056, len  test loss 0.934, col  test loss 180.020\n"
     ]
    },
    {
     "name": "stderr",
     "output_type": "stream",
     "text": [
      "Epoch 1797: 272batch [00:39,  6.84batch/s, loss=2.66e+3]\n"
     ]
    },
    {
     "name": "stdout",
     "output_type": "stream",
     "text": [
      "epoch 1797: avg train loss 2045.22, bar train loss 14.969, len train loss 0.947, col train loss 180.072\n"
     ]
    },
    {
     "name": "stderr",
     "output_type": "stream",
     "text": [
      "Epoch 1798: 1batch [00:00,  7.63batch/s, loss=1.93e+3]"
     ]
    },
    {
     "name": "stdout",
     "output_type": "stream",
     "text": [
      "epoch 1797: avg test  loss 2044.23, bar  test loss 15.056, len  test loss 0.934, col  test loss 180.021\n"
     ]
    },
    {
     "name": "stderr",
     "output_type": "stream",
     "text": [
      "Epoch 1798: 272batch [00:39,  6.83batch/s, loss=2.46e+3]\n"
     ]
    },
    {
     "name": "stdout",
     "output_type": "stream",
     "text": [
      "epoch 1798: avg train loss 2045.18, bar train loss 14.964, len train loss 0.947, col train loss 180.078\n"
     ]
    },
    {
     "name": "stderr",
     "output_type": "stream",
     "text": [
      "Epoch 1799: 1batch [00:00,  7.30batch/s, loss=2.04e+3]"
     ]
    },
    {
     "name": "stdout",
     "output_type": "stream",
     "text": [
      "epoch 1798: avg test  loss 2043.90, bar  test loss 15.056, len  test loss 0.934, col  test loss 179.991\n"
     ]
    },
    {
     "name": "stderr",
     "output_type": "stream",
     "text": [
      "Epoch 1799: 272batch [00:39,  6.82batch/s, loss=2.79e+3]\n"
     ]
    },
    {
     "name": "stdout",
     "output_type": "stream",
     "text": [
      "epoch 1799: avg train loss 2045.16, bar train loss 14.972, len train loss 0.947, col train loss 180.067\n"
     ]
    },
    {
     "name": "stderr",
     "output_type": "stream",
     "text": [
      "Epoch 1800: 1batch [00:00,  7.46batch/s, loss=2.05e+3]"
     ]
    },
    {
     "name": "stdout",
     "output_type": "stream",
     "text": [
      "epoch 1799: avg test  loss 2044.11, bar  test loss 15.056, len  test loss 0.934, col  test loss 180.015\n"
     ]
    },
    {
     "name": "stderr",
     "output_type": "stream",
     "text": [
      "Epoch 1800: 272batch [00:40,  6.79batch/s, loss=2.51e+3]\n"
     ]
    },
    {
     "name": "stdout",
     "output_type": "stream",
     "text": [
      "epoch 1800: avg train loss 2045.06, bar train loss 14.970, len train loss 0.947, col train loss 180.065\n",
      "epoch 1800: avg test  loss 2044.22, bar  test loss 15.056, len  test loss 0.934, col  test loss 180.027\n"
     ]
    },
    {
     "name": "stderr",
     "output_type": "stream",
     "text": [
      "Epoch 1801: 272batch [00:39,  6.84batch/s, loss=2.68e+3]\n"
     ]
    },
    {
     "name": "stdout",
     "output_type": "stream",
     "text": [
      "epoch 1801: avg train loss 2045.11, bar train loss 14.975, len train loss 0.947, col train loss 180.066\n"
     ]
    },
    {
     "name": "stderr",
     "output_type": "stream",
     "text": [
      "Epoch 1802: 1batch [00:00,  7.30batch/s, loss=2.15e+3]"
     ]
    },
    {
     "name": "stdout",
     "output_type": "stream",
     "text": [
      "epoch 1801: avg test  loss 2044.08, bar  test loss 15.056, len  test loss 0.934, col  test loss 180.015\n"
     ]
    },
    {
     "name": "stderr",
     "output_type": "stream",
     "text": [
      "Epoch 1802: 272batch [00:39,  6.82batch/s, loss=3.2e+3] \n"
     ]
    },
    {
     "name": "stdout",
     "output_type": "stream",
     "text": [
      "epoch 1802: avg train loss 2045.33, bar train loss 14.973, len train loss 0.949, col train loss 180.066\n"
     ]
    },
    {
     "name": "stderr",
     "output_type": "stream",
     "text": [
      "Epoch 1803: 0batch [00:00, ?batch/s, loss=2.1e+3]"
     ]
    },
    {
     "name": "stdout",
     "output_type": "stream",
     "text": [
      "epoch 1802: avg test  loss 2043.98, bar  test loss 15.056, len  test loss 0.934, col  test loss 180.005\n"
     ]
    },
    {
     "name": "stderr",
     "output_type": "stream",
     "text": [
      "Epoch 1803: 272batch [00:39,  6.81batch/s, loss=2.57e+3]\n"
     ]
    },
    {
     "name": "stdout",
     "output_type": "stream",
     "text": [
      "epoch 1803: avg train loss 2044.99, bar train loss 14.967, len train loss 0.947, col train loss 180.062\n"
     ]
    },
    {
     "name": "stderr",
     "output_type": "stream",
     "text": [
      "Epoch 1804: 1batch [00:00,  8.40batch/s, loss=1.97e+3]"
     ]
    },
    {
     "name": "stdout",
     "output_type": "stream",
     "text": [
      "epoch 1803: avg test  loss 2044.05, bar  test loss 15.056, len  test loss 0.934, col  test loss 180.012\n"
     ]
    },
    {
     "name": "stderr",
     "output_type": "stream",
     "text": [
      "Epoch 1804: 272batch [00:39,  6.83batch/s, loss=2.47e+3]\n"
     ]
    },
    {
     "name": "stdout",
     "output_type": "stream",
     "text": [
      "epoch 1804: avg train loss 2044.88, bar train loss 14.967, len train loss 0.946, col train loss 180.055\n"
     ]
    },
    {
     "name": "stderr",
     "output_type": "stream",
     "text": [
      "Epoch 1805: 1batch [00:00,  8.00batch/s, loss=2.18e+3]"
     ]
    },
    {
     "name": "stdout",
     "output_type": "stream",
     "text": [
      "epoch 1804: avg test  loss 2043.96, bar  test loss 15.056, len  test loss 0.934, col  test loss 180.003\n"
     ]
    },
    {
     "name": "stderr",
     "output_type": "stream",
     "text": [
      "Epoch 1805: 272batch [00:40,  6.79batch/s, loss=2.68e+3]\n"
     ]
    },
    {
     "name": "stdout",
     "output_type": "stream",
     "text": [
      "epoch 1805: avg train loss 2044.89, bar train loss 14.974, len train loss 0.946, col train loss 180.050\n",
      "epoch 1805: avg test  loss 2044.03, bar  test loss 15.056, len  test loss 0.934, col  test loss 180.010\n"
     ]
    },
    {
     "name": "stderr",
     "output_type": "stream",
     "text": [
      "Epoch 1806: 272batch [00:39,  6.81batch/s, loss=2.58e+3]\n"
     ]
    },
    {
     "name": "stdout",
     "output_type": "stream",
     "text": [
      "epoch 1806: avg train loss 2044.86, bar train loss 14.968, len train loss 0.947, col train loss 180.049\n"
     ]
    },
    {
     "name": "stderr",
     "output_type": "stream",
     "text": [
      "Epoch 1807: 1batch [00:00,  7.81batch/s, loss=2.06e+3]"
     ]
    },
    {
     "name": "stdout",
     "output_type": "stream",
     "text": [
      "epoch 1806: avg test  loss 2043.82, bar  test loss 15.056, len  test loss 0.934, col  test loss 179.989\n"
     ]
    },
    {
     "name": "stderr",
     "output_type": "stream",
     "text": [
      "Epoch 1807: 272batch [00:39,  6.81batch/s, loss=3.11e+3]\n"
     ]
    },
    {
     "name": "stdout",
     "output_type": "stream",
     "text": [
      "epoch 1807: avg train loss 2045.14, bar train loss 14.973, len train loss 0.949, col train loss 180.053\n"
     ]
    },
    {
     "name": "stderr",
     "output_type": "stream",
     "text": [
      "\r",
      "Epoch 1808: 0batch [00:00, ?batch/s]"
     ]
    },
    {
     "name": "stdout",
     "output_type": "stream",
     "text": [
      "epoch 1807: avg test  loss 2043.74, bar  test loss 15.056, len  test loss 0.934, col  test loss 179.982\n"
     ]
    },
    {
     "name": "stderr",
     "output_type": "stream",
     "text": [
      "Epoch 1808: 272batch [00:40,  6.78batch/s, loss=2.72e+3]\n"
     ]
    },
    {
     "name": "stdout",
     "output_type": "stream",
     "text": [
      "epoch 1808: avg train loss 2045.07, bar train loss 14.971, len train loss 0.947, col train loss 180.060\n"
     ]
    },
    {
     "name": "stderr",
     "output_type": "stream",
     "text": [
      "Epoch 1809: 1batch [00:00,  7.41batch/s, loss=2.03e+3]"
     ]
    },
    {
     "name": "stdout",
     "output_type": "stream",
     "text": [
      "epoch 1808: avg test  loss 2043.94, bar  test loss 15.056, len  test loss 0.934, col  test loss 180.001\n"
     ]
    },
    {
     "name": "stderr",
     "output_type": "stream",
     "text": [
      "Epoch 1809: 272batch [00:40,  6.80batch/s, loss=3.28e+3]\n"
     ]
    },
    {
     "name": "stdout",
     "output_type": "stream",
     "text": [
      "epoch 1809: avg train loss 2045.26, bar train loss 14.973, len train loss 0.949, col train loss 180.060\n"
     ]
    },
    {
     "name": "stderr",
     "output_type": "stream",
     "text": [
      "Epoch 1810: 1batch [00:00,  8.00batch/s, loss=2.11e+3]"
     ]
    },
    {
     "name": "stdout",
     "output_type": "stream",
     "text": [
      "epoch 1809: avg test  loss 2043.83, bar  test loss 15.056, len  test loss 0.934, col  test loss 179.990\n"
     ]
    },
    {
     "name": "stderr",
     "output_type": "stream",
     "text": [
      "Epoch 1810: 272batch [00:40,  6.78batch/s, loss=2.54e+3]\n"
     ]
    },
    {
     "name": "stdout",
     "output_type": "stream",
     "text": [
      "epoch 1810: avg train loss 2044.77, bar train loss 14.966, len train loss 0.946, col train loss 180.045\n",
      "epoch 1810: avg test  loss 2043.63, bar  test loss 15.056, len  test loss 0.934, col  test loss 179.953\n"
     ]
    },
    {
     "name": "stderr",
     "output_type": "stream",
     "text": [
      "Epoch 1811: 272batch [00:40,  6.74batch/s, loss=2.84e+3]\n"
     ]
    },
    {
     "name": "stdout",
     "output_type": "stream",
     "text": [
      "epoch 1811: avg train loss 2044.58, bar train loss 14.969, len train loss 0.947, col train loss 180.003\n"
     ]
    },
    {
     "name": "stderr",
     "output_type": "stream",
     "text": [
      "Epoch 1812: 1batch [00:00,  8.33batch/s, loss=2.01e+3]"
     ]
    },
    {
     "name": "stdout",
     "output_type": "stream",
     "text": [
      "epoch 1811: avg test  loss 2043.37, bar  test loss 15.056, len  test loss 0.934, col  test loss 179.941\n"
     ]
    },
    {
     "name": "stderr",
     "output_type": "stream",
     "text": [
      "Epoch 1812: 272batch [00:40,  6.79batch/s, loss=2.63e+3]\n"
     ]
    },
    {
     "name": "stdout",
     "output_type": "stream",
     "text": [
      "epoch 1812: avg train loss 2055.69, bar train loss 16.057, len train loss 0.947, col train loss 179.909\n"
     ]
    },
    {
     "name": "stderr",
     "output_type": "stream",
     "text": [
      "Epoch 1813: 1batch [00:00,  7.58batch/s, loss=2.07e+3]"
     ]
    },
    {
     "name": "stdout",
     "output_type": "stream",
     "text": [
      "epoch 1812: avg test  loss 2040.42, bar  test loss 14.931, len  test loss 0.934, col  test loss 179.463\n"
     ]
    },
    {
     "name": "stderr",
     "output_type": "stream",
     "text": [
      "Epoch 1813: 272batch [00:40,  6.80batch/s, loss=2.83e+3]\n"
     ]
    },
    {
     "name": "stdout",
     "output_type": "stream",
     "text": [
      "epoch 1813: avg train loss 2042.85, bar train loss 14.988, len train loss 0.948, col train loss 179.530\n"
     ]
    },
    {
     "name": "stderr",
     "output_type": "stream",
     "text": [
      "Epoch 1814: 1batch [00:00,  7.52batch/s, loss=2.06e+3]"
     ]
    },
    {
     "name": "stdout",
     "output_type": "stream",
     "text": [
      "epoch 1813: avg test  loss 2038.36, bar  test loss 14.814, len  test loss 0.934, col  test loss 179.362\n"
     ]
    },
    {
     "name": "stderr",
     "output_type": "stream",
     "text": [
      "Epoch 1814: 272batch [00:40,  6.76batch/s, loss=2.91e+3]\n"
     ]
    },
    {
     "name": "stdout",
     "output_type": "stream",
     "text": [
      "epoch 1814: avg train loss 2040.04, bar train loss 14.729, len train loss 0.948, col train loss 179.425\n"
     ]
    },
    {
     "name": "stderr",
     "output_type": "stream",
     "text": [
      "Epoch 1815: 1batch [00:00,  7.75batch/s, loss=1.91e+3]"
     ]
    },
    {
     "name": "stdout",
     "output_type": "stream",
     "text": [
      "epoch 1814: avg test  loss 2038.50, bar  test loss 14.790, len  test loss 0.934, col  test loss 179.312\n"
     ]
    },
    {
     "name": "stderr",
     "output_type": "stream",
     "text": [
      "Epoch 1815: 272batch [00:40,  6.75batch/s, loss=2.83e+3]\n"
     ]
    },
    {
     "name": "stdout",
     "output_type": "stream",
     "text": [
      "epoch 1815: avg train loss 2040.10, bar train loss 14.698, len train loss 0.948, col train loss 179.386\n",
      "epoch 1815: avg test  loss 2038.61, bar  test loss 14.779, len  test loss 0.934, col  test loss 179.282\n"
     ]
    },
    {
     "name": "stderr",
     "output_type": "stream",
     "text": [
      "Epoch 1816: 272batch [00:40,  6.76batch/s, loss=2.55e+3]\n"
     ]
    },
    {
     "name": "stdout",
     "output_type": "stream",
     "text": [
      "epoch 1816: avg train loss 2049.43, bar train loss 15.822, len train loss 0.947, col train loss 179.222\n"
     ]
    },
    {
     "name": "stderr",
     "output_type": "stream",
     "text": [
      "Epoch 1817: 1batch [00:00,  7.30batch/s, loss=2.03e+3]"
     ]
    },
    {
     "name": "stdout",
     "output_type": "stream",
     "text": [
      "epoch 1816: avg test  loss 2026.17, bar  test loss 14.254, len  test loss 0.934, col  test loss 178.686\n"
     ]
    },
    {
     "name": "stderr",
     "output_type": "stream",
     "text": [
      "Epoch 1817: 272batch [00:38,  7.01batch/s, loss=2.92e+3]\n"
     ]
    },
    {
     "name": "stdout",
     "output_type": "stream",
     "text": [
      "epoch 1817: avg train loss 2027.83, bar train loss 14.179, len train loss 0.948, col train loss 178.760\n"
     ]
    },
    {
     "name": "stderr",
     "output_type": "stream",
     "text": [
      "Epoch 1818: 1batch [00:00,  7.81batch/s, loss=2.02e+3]"
     ]
    },
    {
     "name": "stdout",
     "output_type": "stream",
     "text": [
      "epoch 1817: avg test  loss 2027.77, bar  test loss 14.267, len  test loss 0.934, col  test loss 178.678\n"
     ]
    },
    {
     "name": "stderr",
     "output_type": "stream",
     "text": [
      "Epoch 1818: 272batch [00:38,  6.99batch/s, loss=3.08e+3]\n"
     ]
    },
    {
     "name": "stdout",
     "output_type": "stream",
     "text": [
      "epoch 1818: avg train loss 2068.93, bar train loss 18.036, len train loss 0.949, col train loss 179.017\n"
     ]
    },
    {
     "name": "stderr",
     "output_type": "stream",
     "text": [
      "Epoch 1819: 0batch [00:00, ?batch/s, loss=2.14e+3]"
     ]
    },
    {
     "name": "stdout",
     "output_type": "stream",
     "text": [
      "epoch 1818: avg test  loss 2031.08, bar  test loss 14.476, len  test loss 0.934, col  test loss 178.962\n"
     ]
    },
    {
     "name": "stderr",
     "output_type": "stream",
     "text": [
      "Epoch 1819: 272batch [00:38,  7.05batch/s, loss=3.01e+3]\n"
     ]
    },
    {
     "name": "stdout",
     "output_type": "stream",
     "text": [
      "epoch 1819: avg train loss 2032.62, bar train loss 14.387, len train loss 0.948, col train loss 179.055\n"
     ]
    },
    {
     "name": "stderr",
     "output_type": "stream",
     "text": [
      "Epoch 1820: 1batch [00:00,  8.13batch/s, loss=2.1e+3]"
     ]
    },
    {
     "name": "stdout",
     "output_type": "stream",
     "text": [
      "epoch 1819: avg test  loss 2031.47, bar  test loss 14.476, len  test loss 0.934, col  test loss 178.993\n"
     ]
    },
    {
     "name": "stderr",
     "output_type": "stream",
     "text": [
      "Epoch 1820: 272batch [00:38,  6.98batch/s, loss=2.62e+3]\n"
     ]
    },
    {
     "name": "stdout",
     "output_type": "stream",
     "text": [
      "epoch 1820: avg train loss 2032.28, bar train loss 14.373, len train loss 0.947, col train loss 179.030\n",
      "epoch 1820: avg test  loss 2030.42, bar  test loss 14.423, len  test loss 0.934, col  test loss 178.922\n"
     ]
    },
    {
     "name": "stderr",
     "output_type": "stream",
     "text": [
      "Epoch 1821: 272batch [00:38,  7.06batch/s, loss=2.63e+3]\n"
     ]
    },
    {
     "name": "stdout",
     "output_type": "stream",
     "text": [
      "epoch 1821: avg train loss 2032.04, bar train loss 14.322, len train loss 0.947, col train loss 179.040\n"
     ]
    },
    {
     "name": "stderr",
     "output_type": "stream",
     "text": [
      "Epoch 1822: 1batch [00:00,  8.00batch/s, loss=1.97e+3]"
     ]
    },
    {
     "name": "stdout",
     "output_type": "stream",
     "text": [
      "epoch 1821: avg test  loss 2032.63, bar  test loss 14.406, len  test loss 0.934, col  test loss 179.131\n"
     ]
    },
    {
     "name": "stderr",
     "output_type": "stream",
     "text": [
      "Epoch 1822: 272batch [00:39,  6.96batch/s, loss=2.33e+3]\n"
     ]
    },
    {
     "name": "stdout",
     "output_type": "stream",
     "text": [
      "epoch 1822: avg train loss 2033.43, bar train loss 14.311, len train loss 0.946, col train loss 179.162\n"
     ]
    },
    {
     "name": "stderr",
     "output_type": "stream",
     "text": [
      "Epoch 1823: 1batch [00:00,  7.69batch/s, loss=2.03e+3]"
     ]
    },
    {
     "name": "stdout",
     "output_type": "stream",
     "text": [
      "epoch 1822: avg test  loss 2032.57, bar  test loss 14.410, len  test loss 0.934, col  test loss 179.090\n"
     ]
    },
    {
     "name": "stderr",
     "output_type": "stream",
     "text": [
      "Epoch 1823: 272batch [00:38,  7.02batch/s, loss=2.41e+3]\n"
     ]
    },
    {
     "name": "stdout",
     "output_type": "stream",
     "text": [
      "epoch 1823: avg train loss 2032.76, bar train loss 14.306, len train loss 0.946, col train loss 179.049\n"
     ]
    },
    {
     "name": "stderr",
     "output_type": "stream",
     "text": [
      "Epoch 1824: 1batch [00:00,  8.48batch/s, loss=1.99e+3]"
     ]
    },
    {
     "name": "stdout",
     "output_type": "stream",
     "text": [
      "epoch 1823: avg test  loss 2032.04, bar  test loss 14.394, len  test loss 0.934, col  test loss 178.983\n"
     ]
    },
    {
     "name": "stderr",
     "output_type": "stream",
     "text": [
      "Epoch 1824: 272batch [00:38,  7.00batch/s, loss=2.73e+3]\n"
     ]
    },
    {
     "name": "stdout",
     "output_type": "stream",
     "text": [
      "epoch 1824: avg train loss 3097.57, bar train loss 120.783, len train loss 0.948, col train loss 178.995\n"
     ]
    },
    {
     "name": "stderr",
     "output_type": "stream",
     "text": [
      "Epoch 1825: 1batch [00:00,  7.81batch/s, loss=2.01e+3]"
     ]
    },
    {
     "name": "stdout",
     "output_type": "stream",
     "text": [
      "epoch 1824: avg test  loss 2028.75, bar  test loss 14.249, len  test loss 0.934, col  test loss 178.811\n"
     ]
    },
    {
     "name": "stderr",
     "output_type": "stream",
     "text": [
      "Epoch 1825: 272batch [00:38,  7.01batch/s, loss=2.68e+3]\n"
     ]
    },
    {
     "name": "stdout",
     "output_type": "stream",
     "text": [
      "epoch 1825: avg train loss 2029.15, bar train loss 14.146, len train loss 0.948, col train loss 178.820\n",
      "epoch 1825: avg test  loss 2027.92, bar  test loss 14.246, len  test loss 0.934, col  test loss 178.737\n"
     ]
    },
    {
     "name": "stderr",
     "output_type": "stream",
     "text": [
      "Epoch 1826: 272batch [00:38,  7.04batch/s, loss=2.69e+3]\n"
     ]
    },
    {
     "name": "stdout",
     "output_type": "stream",
     "text": [
      "epoch 1826: avg train loss 2029.14, bar train loss 14.154, len train loss 0.947, col train loss 178.812\n"
     ]
    },
    {
     "name": "stderr",
     "output_type": "stream",
     "text": [
      "Epoch 1827: 1batch [00:00,  7.87batch/s, loss=2.13e+3]"
     ]
    },
    {
     "name": "stdout",
     "output_type": "stream",
     "text": [
      "epoch 1826: avg test  loss 2027.86, bar  test loss 14.248, len  test loss 0.934, col  test loss 178.721\n"
     ]
    },
    {
     "name": "stderr",
     "output_type": "stream",
     "text": [
      "Epoch 1827: 272batch [00:38,  7.02batch/s, loss=2.82e+3]\n"
     ]
    },
    {
     "name": "stdout",
     "output_type": "stream",
     "text": [
      "epoch 1827: avg train loss 2029.42, bar train loss 14.181, len train loss 0.947, col train loss 178.810\n"
     ]
    },
    {
     "name": "stderr",
     "output_type": "stream",
     "text": [
      "Epoch 1828: 1batch [00:00,  8.00batch/s, loss=2.14e+3]"
     ]
    },
    {
     "name": "stdout",
     "output_type": "stream",
     "text": [
      "epoch 1827: avg test  loss 2029.49, bar  test loss 14.319, len  test loss 0.934, col  test loss 178.812\n"
     ]
    },
    {
     "name": "stderr",
     "output_type": "stream",
     "text": [
      "Epoch 1828: 272batch [00:38,  7.00batch/s, loss=2.61e+3]\n"
     ]
    },
    {
     "name": "stdout",
     "output_type": "stream",
     "text": [
      "epoch 1828: avg train loss 2031.61, bar train loss 14.278, len train loss 0.947, col train loss 178.930\n"
     ]
    },
    {
     "name": "stderr",
     "output_type": "stream",
     "text": [
      "Epoch 1829: 1batch [00:00,  8.20batch/s, loss=1.91e+3]"
     ]
    },
    {
     "name": "stdout",
     "output_type": "stream",
     "text": [
      "epoch 1828: avg test  loss 2034.92, bar  test loss 14.738, len  test loss 0.934, col  test loss 178.933\n"
     ]
    },
    {
     "name": "stderr",
     "output_type": "stream",
     "text": [
      "Epoch 1829: 272batch [00:39,  6.96batch/s, loss=2.6e+3] \n"
     ]
    },
    {
     "name": "stdout",
     "output_type": "stream",
     "text": [
      "epoch 1829: avg train loss 2032.66, bar train loss 14.324, len train loss 0.948, col train loss 178.982\n"
     ]
    },
    {
     "name": "stderr",
     "output_type": "stream",
     "text": [
      "Epoch 1830: 1batch [00:00,  8.06batch/s, loss=2.02e+3]"
     ]
    },
    {
     "name": "stdout",
     "output_type": "stream",
     "text": [
      "epoch 1829: avg test  loss 2032.11, bar  test loss 14.417, len  test loss 0.934, col  test loss 178.975\n"
     ]
    },
    {
     "name": "stderr",
     "output_type": "stream",
     "text": [
      "Epoch 1830: 272batch [00:39,  6.96batch/s, loss=3.04e+3]\n"
     ]
    },
    {
     "name": "stdout",
     "output_type": "stream",
     "text": [
      "epoch 1830: avg train loss 2032.86, bar train loss 14.322, len train loss 0.948, col train loss 178.996\n",
      "epoch 1830: avg test  loss 2031.37, bar  test loss 14.400, len  test loss 0.934, col  test loss 178.913\n"
     ]
    },
    {
     "name": "stderr",
     "output_type": "stream",
     "text": [
      "Epoch 1831: 272batch [00:39,  6.94batch/s, loss=2.78e+3]\n"
     ]
    },
    {
     "name": "stdout",
     "output_type": "stream",
     "text": [
      "epoch 1831: avg train loss 2032.63, bar train loss 14.312, len train loss 0.948, col train loss 178.987\n"
     ]
    },
    {
     "name": "stderr",
     "output_type": "stream",
     "text": [
      "Epoch 1832: 1batch [00:00,  8.13batch/s, loss=2.05e+3]"
     ]
    },
    {
     "name": "stdout",
     "output_type": "stream",
     "text": [
      "epoch 1831: avg test  loss 2031.66, bar  test loss 14.403, len  test loss 0.934, col  test loss 178.941\n"
     ]
    },
    {
     "name": "stderr",
     "output_type": "stream",
     "text": [
      "Epoch 1832: 272batch [00:38,  7.01batch/s, loss=2.54e+3]\n"
     ]
    },
    {
     "name": "stdout",
     "output_type": "stream",
     "text": [
      "epoch 1832: avg train loss 2032.56, bar train loss 14.310, len train loss 0.947, col train loss 178.986\n"
     ]
    },
    {
     "name": "stderr",
     "output_type": "stream",
     "text": [
      "Epoch 1833: 1batch [00:00,  8.27batch/s, loss=1.93e+3]"
     ]
    },
    {
     "name": "stdout",
     "output_type": "stream",
     "text": [
      "epoch 1832: avg test  loss 2031.77, bar  test loss 14.404, len  test loss 0.934, col  test loss 178.943\n"
     ]
    },
    {
     "name": "stderr",
     "output_type": "stream",
     "text": [
      "Epoch 1833: 272batch [00:39,  6.97batch/s, loss=2.75e+3]\n"
     ]
    },
    {
     "name": "stdout",
     "output_type": "stream",
     "text": [
      "epoch 1833: avg train loss 2032.80, bar train loss 14.309, len train loss 0.948, col train loss 178.990\n"
     ]
    },
    {
     "name": "stderr",
     "output_type": "stream",
     "text": [
      "Epoch 1834: 1batch [00:00,  7.87batch/s, loss=1.93e+3]"
     ]
    },
    {
     "name": "stdout",
     "output_type": "stream",
     "text": [
      "epoch 1833: avg test  loss 2031.86, bar  test loss 14.405, len  test loss 0.934, col  test loss 178.938\n"
     ]
    },
    {
     "name": "stderr",
     "output_type": "stream",
     "text": [
      "Epoch 1834: 272batch [00:38,  6.98batch/s, loss=2.91e+3]\n"
     ]
    },
    {
     "name": "stdout",
     "output_type": "stream",
     "text": [
      "epoch 1834: avg train loss 2031.90, bar train loss 14.271, len train loss 0.947, col train loss 178.933\n"
     ]
    },
    {
     "name": "stderr",
     "output_type": "stream",
     "text": [
      "Epoch 1835: 0batch [00:00, ?batch/s, loss=2.04e+3]"
     ]
    },
    {
     "name": "stdout",
     "output_type": "stream",
     "text": [
      "epoch 1834: avg test  loss 2030.54, bar  test loss 14.338, len  test loss 0.934, col  test loss 178.861\n"
     ]
    },
    {
     "name": "stderr",
     "output_type": "stream",
     "text": [
      "Epoch 1835: 272batch [00:39,  6.94batch/s, loss=2.82e+3]\n"
     ]
    },
    {
     "name": "stdout",
     "output_type": "stream",
     "text": [
      "epoch 1835: avg train loss 2031.45, bar train loss 14.248, len train loss 0.948, col train loss 178.889\n",
      "epoch 1835: avg test  loss 2029.80, bar  test loss 14.295, len  test loss 0.934, col  test loss 178.815\n"
     ]
    },
    {
     "name": "stderr",
     "output_type": "stream",
     "text": [
      "Epoch 1836: 272batch [00:39,  6.94batch/s, loss=2.79e+3]\n"
     ]
    },
    {
     "name": "stdout",
     "output_type": "stream",
     "text": [
      "epoch 1836: avg train loss 2031.02, bar train loss 14.214, len train loss 0.947, col train loss 178.873\n"
     ]
    },
    {
     "name": "stderr",
     "output_type": "stream",
     "text": [
      "Epoch 1837: 1batch [00:00,  7.75batch/s, loss=2.1e+3]"
     ]
    },
    {
     "name": "stdout",
     "output_type": "stream",
     "text": [
      "epoch 1836: avg test  loss 2030.39, bar  test loss 14.301, len  test loss 0.934, col  test loss 178.857\n"
     ]
    },
    {
     "name": "stderr",
     "output_type": "stream",
     "text": [
      "Epoch 1837: 272batch [00:39,  6.96batch/s, loss=2.7e+3] \n"
     ]
    },
    {
     "name": "stdout",
     "output_type": "stream",
     "text": [
      "epoch 1837: avg train loss 2032.64, bar train loss 14.338, len train loss 0.948, col train loss 178.879\n"
     ]
    },
    {
     "name": "stderr",
     "output_type": "stream",
     "text": [
      "Epoch 1838: 1batch [00:00,  7.69batch/s, loss=2.04e+3]"
     ]
    },
    {
     "name": "stdout",
     "output_type": "stream",
     "text": [
      "epoch 1837: avg test  loss 2030.24, bar  test loss 14.287, len  test loss 0.934, col  test loss 178.808\n"
     ]
    },
    {
     "name": "stderr",
     "output_type": "stream",
     "text": [
      "Epoch 1838: 272batch [00:39,  6.95batch/s, loss=3.06e+3]\n"
     ]
    },
    {
     "name": "stdout",
     "output_type": "stream",
     "text": [
      "epoch 1838: avg train loss 2031.26, bar train loss 14.193, len train loss 0.948, col train loss 178.845\n"
     ]
    },
    {
     "name": "stderr",
     "output_type": "stream",
     "text": [
      "Epoch 1839: 1batch [00:00,  7.35batch/s, loss=2.08e+3]"
     ]
    },
    {
     "name": "stdout",
     "output_type": "stream",
     "text": [
      "epoch 1838: avg test  loss 2030.36, bar  test loss 14.280, len  test loss 0.934, col  test loss 178.798\n"
     ]
    },
    {
     "name": "stderr",
     "output_type": "stream",
     "text": [
      "Epoch 1839: 272batch [00:39,  6.95batch/s, loss=2.82e+3]\n"
     ]
    },
    {
     "name": "stdout",
     "output_type": "stream",
     "text": [
      "epoch 1839: avg train loss 2031.40, bar train loss 14.186, len train loss 0.948, col train loss 178.838\n"
     ]
    },
    {
     "name": "stderr",
     "output_type": "stream",
     "text": [
      "Epoch 1840: 0batch [00:00, ?batch/s, loss=1.98e+3]"
     ]
    },
    {
     "name": "stdout",
     "output_type": "stream",
     "text": [
      "epoch 1839: avg test  loss 2030.82, bar  test loss 14.279, len  test loss 0.934, col  test loss 178.808\n"
     ]
    },
    {
     "name": "stderr",
     "output_type": "stream",
     "text": [
      "Epoch 1840: 272batch [00:39,  6.93batch/s, loss=2.37e+3]\n"
     ]
    },
    {
     "name": "stdout",
     "output_type": "stream",
     "text": [
      "epoch 1840: avg train loss 2031.43, bar train loss 14.178, len train loss 0.946, col train loss 178.832\n",
      "epoch 1840: avg test  loss 2031.10, bar  test loss 14.275, len  test loss 0.934, col  test loss 178.803\n"
     ]
    },
    {
     "name": "stderr",
     "output_type": "stream",
     "text": [
      "Epoch 1841: 272batch [00:39,  6.95batch/s, loss=2.83e+3]\n"
     ]
    },
    {
     "name": "stdout",
     "output_type": "stream",
     "text": [
      "epoch 1841: avg train loss 2032.03, bar train loss 14.180, len train loss 0.947, col train loss 178.832\n"
     ]
    },
    {
     "name": "stderr",
     "output_type": "stream",
     "text": [
      "Epoch 1842: 1batch [00:00,  7.52batch/s, loss=1.92e+3]"
     ]
    },
    {
     "name": "stdout",
     "output_type": "stream",
     "text": [
      "epoch 1841: avg test  loss 2031.72, bar  test loss 14.284, len  test loss 0.934, col  test loss 178.800\n"
     ]
    },
    {
     "name": "stderr",
     "output_type": "stream",
     "text": [
      "Epoch 1842: 272batch [00:39,  6.83batch/s, loss=2.96e+3]\n"
     ]
    },
    {
     "name": "stdout",
     "output_type": "stream",
     "text": [
      "epoch 1842: avg train loss 2034.42, bar train loss 14.264, len train loss 0.948, col train loss 178.911\n"
     ]
    },
    {
     "name": "stderr",
     "output_type": "stream",
     "text": [
      "Epoch 1843: 1batch [00:00,  8.13batch/s, loss=2e+3]"
     ]
    },
    {
     "name": "stdout",
     "output_type": "stream",
     "text": [
      "epoch 1842: avg test  loss 2034.59, bar  test loss 14.397, len  test loss 0.934, col  test loss 178.927\n"
     ]
    },
    {
     "name": "stderr",
     "output_type": "stream",
     "text": [
      "Epoch 1843: 272batch [00:39,  6.93batch/s, loss=2.77e+3]\n"
     ]
    },
    {
     "name": "stdout",
     "output_type": "stream",
     "text": [
      "epoch 1843: avg train loss 2037.15, bar train loss 14.329, len train loss 0.947, col train loss 179.078\n"
     ]
    },
    {
     "name": "stderr",
     "output_type": "stream",
     "text": [
      "Epoch 1844: 1batch [00:00,  7.94batch/s, loss=1.99e+3]"
     ]
    },
    {
     "name": "stdout",
     "output_type": "stream",
     "text": [
      "epoch 1843: avg test  loss 2036.01, bar  test loss 14.431, len  test loss 0.934, col  test loss 178.974\n"
     ]
    },
    {
     "name": "stderr",
     "output_type": "stream",
     "text": [
      "Epoch 1844: 272batch [00:39,  6.91batch/s, loss=3.04e+3]\n"
     ]
    },
    {
     "name": "stdout",
     "output_type": "stream",
     "text": [
      "epoch 1844: avg train loss 2037.58, bar train loss 14.351, len train loss 0.949, col train loss 179.032\n"
     ]
    },
    {
     "name": "stderr",
     "output_type": "stream",
     "text": [
      "Epoch 1845: 1batch [00:00,  7.69batch/s, loss=1.99e+3]"
     ]
    },
    {
     "name": "stdout",
     "output_type": "stream",
     "text": [
      "epoch 1844: avg test  loss 2036.84, bar  test loss 14.453, len  test loss 0.934, col  test loss 178.978\n"
     ]
    },
    {
     "name": "stderr",
     "output_type": "stream",
     "text": [
      "Epoch 1845: 272batch [00:39,  6.90batch/s, loss=2.5e+3] \n"
     ]
    },
    {
     "name": "stdout",
     "output_type": "stream",
     "text": [
      "epoch 1845: avg train loss 2038.36, bar train loss 14.354, len train loss 0.946, col train loss 179.069\n",
      "epoch 1845: avg test  loss 2038.45, bar  test loss 14.451, len  test loss 0.934, col  test loss 179.052\n"
     ]
    },
    {
     "name": "stderr",
     "output_type": "stream",
     "text": [
      "Epoch 1846: 272batch [00:39,  6.95batch/s, loss=2.66e+3]\n"
     ]
    },
    {
     "name": "stdout",
     "output_type": "stream",
     "text": [
      "epoch 1846: avg train loss 2039.94, bar train loss 14.376, len train loss 0.947, col train loss 179.125\n"
     ]
    },
    {
     "name": "stderr",
     "output_type": "stream",
     "text": [
      "Epoch 1847: 1batch [00:00,  7.75batch/s, loss=2.03e+3]"
     ]
    },
    {
     "name": "stdout",
     "output_type": "stream",
     "text": [
      "epoch 1846: avg test  loss 2038.61, bar  test loss 14.501, len  test loss 0.934, col  test loss 178.964\n"
     ]
    },
    {
     "name": "stderr",
     "output_type": "stream",
     "text": [
      "Epoch 1847: 272batch [00:39,  6.91batch/s, loss=2.88e+3]\n"
     ]
    },
    {
     "name": "stdout",
     "output_type": "stream",
     "text": [
      "epoch 1847: avg train loss 2040.74, bar train loss 14.407, len train loss 0.947, col train loss 179.037\n"
     ]
    },
    {
     "name": "stderr",
     "output_type": "stream",
     "text": [
      "Epoch 1848: 1batch [00:00,  7.25batch/s, loss=2.02e+3]"
     ]
    },
    {
     "name": "stdout",
     "output_type": "stream",
     "text": [
      "epoch 1847: avg test  loss 2040.24, bar  test loss 14.504, len  test loss 0.934, col  test loss 178.987\n"
     ]
    },
    {
     "name": "stderr",
     "output_type": "stream",
     "text": [
      "Epoch 1848: 272batch [00:39,  6.90batch/s, loss=2.81e+3]\n"
     ]
    },
    {
     "name": "stdout",
     "output_type": "stream",
     "text": [
      "epoch 1848: avg train loss 2042.58, bar train loss 14.407, len train loss 0.947, col train loss 179.055\n"
     ]
    },
    {
     "name": "stderr",
     "output_type": "stream",
     "text": [
      "Epoch 1849: 1batch [00:00,  7.41batch/s, loss=2e+3]"
     ]
    },
    {
     "name": "stdout",
     "output_type": "stream",
     "text": [
      "epoch 1848: avg test  loss 2041.95, bar  test loss 14.504, len  test loss 0.934, col  test loss 178.983\n"
     ]
    },
    {
     "name": "stderr",
     "output_type": "stream",
     "text": [
      "Epoch 1849: 272batch [00:39,  6.88batch/s, loss=3.17e+3]\n"
     ]
    },
    {
     "name": "stdout",
     "output_type": "stream",
     "text": [
      "epoch 1849: avg train loss 2044.45, bar train loss 14.411, len train loss 0.949, col train loss 179.054\n"
     ]
    },
    {
     "name": "stderr",
     "output_type": "stream",
     "text": [
      "Epoch 1850: 1batch [00:00,  7.87batch/s, loss=2.09e+3]"
     ]
    },
    {
     "name": "stdout",
     "output_type": "stream",
     "text": [
      "epoch 1849: avg test  loss 2043.66, bar  test loss 14.504, len  test loss 0.934, col  test loss 178.979\n"
     ]
    },
    {
     "name": "stderr",
     "output_type": "stream",
     "text": [
      "Epoch 1850: 272batch [00:39,  6.85batch/s, loss=2.56e+3]\n"
     ]
    },
    {
     "name": "stdout",
     "output_type": "stream",
     "text": [
      "epoch 1850: avg train loss 2047.91, bar train loss 14.442, len train loss 0.946, col train loss 179.073\n",
      "epoch 1850: avg test  loss 2047.76, bar  test loss 14.552, len  test loss 0.934, col  test loss 179.005\n"
     ]
    },
    {
     "name": "stderr",
     "output_type": "stream",
     "text": [
      "Epoch 1851: 272batch [00:39,  6.87batch/s, loss=2.56e+3]\n"
     ]
    },
    {
     "name": "stdout",
     "output_type": "stream",
     "text": [
      "epoch 1851: avg train loss 2050.11, bar train loss 14.452, len train loss 0.947, col train loss 179.097\n"
     ]
    },
    {
     "name": "stderr",
     "output_type": "stream",
     "text": [
      "Epoch 1852: 1batch [00:00,  7.58batch/s, loss=2.07e+3]"
     ]
    },
    {
     "name": "stdout",
     "output_type": "stream",
     "text": [
      "epoch 1851: avg test  loss 2049.56, bar  test loss 14.552, len  test loss 0.934, col  test loss 179.034\n"
     ]
    },
    {
     "name": "stderr",
     "output_type": "stream",
     "text": [
      "Epoch 1852: 272batch [00:39,  6.89batch/s, loss=2.86e+3]\n"
     ]
    },
    {
     "name": "stdout",
     "output_type": "stream",
     "text": [
      "epoch 1852: avg train loss 2051.78, bar train loss 14.470, len train loss 0.947, col train loss 179.076\n"
     ]
    },
    {
     "name": "stderr",
     "output_type": "stream",
     "text": [
      "Epoch 1853: 1batch [00:00,  7.75batch/s, loss=1.99e+3]"
     ]
    },
    {
     "name": "stdout",
     "output_type": "stream",
     "text": [
      "epoch 1852: avg test  loss 2051.14, bar  test loss 14.596, len  test loss 0.934, col  test loss 178.970\n"
     ]
    },
    {
     "name": "stderr",
     "output_type": "stream",
     "text": [
      "Epoch 1853: 272batch [00:39,  6.90batch/s, loss=2.76e+3]\n"
     ]
    },
    {
     "name": "stdout",
     "output_type": "stream",
     "text": [
      "epoch 1853: avg train loss 2054.65, bar train loss 14.538, len train loss 0.947, col train loss 179.103\n"
     ]
    },
    {
     "name": "stderr",
     "output_type": "stream",
     "text": [
      "Epoch 1854: 1batch [00:00,  7.35batch/s, loss=2.07e+3]"
     ]
    },
    {
     "name": "stdout",
     "output_type": "stream",
     "text": [
      "epoch 1853: avg test  loss 2054.25, bar  test loss 14.633, len  test loss 0.934, col  test loss 179.012\n"
     ]
    },
    {
     "name": "stderr",
     "output_type": "stream",
     "text": [
      "Epoch 1854: 272batch [00:39,  6.88batch/s, loss=3.02e+3]\n"
     ]
    },
    {
     "name": "stdout",
     "output_type": "stream",
     "text": [
      "epoch 1854: avg train loss 2056.72, bar train loss 14.547, len train loss 0.948, col train loss 179.126\n"
     ]
    },
    {
     "name": "stderr",
     "output_type": "stream",
     "text": [
      "Epoch 1855: 1batch [00:00,  8.00batch/s, loss=2.1e+3]"
     ]
    },
    {
     "name": "stdout",
     "output_type": "stream",
     "text": [
      "epoch 1854: avg test  loss 2056.22, bar  test loss 14.668, len  test loss 0.934, col  test loss 179.055\n"
     ]
    },
    {
     "name": "stderr",
     "output_type": "stream",
     "text": [
      "Epoch 1855: 272batch [00:39,  6.84batch/s, loss=2.54e+3]\n"
     ]
    },
    {
     "name": "stdout",
     "output_type": "stream",
     "text": [
      "epoch 1855: avg train loss 2058.66, bar train loss 14.567, len train loss 0.947, col train loss 179.150\n",
      "epoch 1855: avg test  loss 2059.80, bar  test loss 14.670, len  test loss 0.934, col  test loss 179.079\n"
     ]
    },
    {
     "name": "stderr",
     "output_type": "stream",
     "text": [
      "Epoch 1856: 272batch [00:39,  6.86batch/s, loss=2.65e+3]\n"
     ]
    },
    {
     "name": "stdout",
     "output_type": "stream",
     "text": [
      "epoch 1856: avg train loss 2062.59, bar train loss 14.571, len train loss 0.947, col train loss 179.170\n"
     ]
    },
    {
     "name": "stderr",
     "output_type": "stream",
     "text": [
      "Epoch 1857: 1batch [00:00,  8.26batch/s, loss=2.02e+3]"
     ]
    },
    {
     "name": "stdout",
     "output_type": "stream",
     "text": [
      "epoch 1856: avg test  loss 2065.91, bar  test loss 14.684, len  test loss 0.934, col  test loss 179.090\n"
     ]
    },
    {
     "name": "stderr",
     "output_type": "stream",
     "text": [
      "Epoch 1857: 272batch [00:39,  6.85batch/s, loss=2.87e+3]\n"
     ]
    },
    {
     "name": "stdout",
     "output_type": "stream",
     "text": [
      "epoch 1857: avg train loss 2069.38, bar train loss 14.604, len train loss 0.947, col train loss 179.184\n"
     ]
    },
    {
     "name": "stderr",
     "output_type": "stream",
     "text": [
      "Epoch 1858: 0batch [00:00, ?batch/s, loss=2.1e+3]"
     ]
    },
    {
     "name": "stdout",
     "output_type": "stream",
     "text": [
      "epoch 1857: avg test  loss 2071.43, bar  test loss 14.704, len  test loss 0.934, col  test loss 179.102\n"
     ]
    },
    {
     "name": "stderr",
     "output_type": "stream",
     "text": [
      "Epoch 1858: 272batch [00:39,  6.86batch/s, loss=2.43e+3]\n"
     ]
    },
    {
     "name": "stdout",
     "output_type": "stream",
     "text": [
      "epoch 1858: avg train loss 2072.52, bar train loss 14.601, len train loss 0.947, col train loss 179.194\n"
     ]
    },
    {
     "name": "stderr",
     "output_type": "stream",
     "text": [
      "Epoch 1859: 1batch [00:00,  7.75batch/s, loss=2.06e+3]"
     ]
    },
    {
     "name": "stdout",
     "output_type": "stream",
     "text": [
      "epoch 1858: avg test  loss 2071.89, bar  test loss 14.704, len  test loss 0.934, col  test loss 179.125\n"
     ]
    },
    {
     "name": "stderr",
     "output_type": "stream",
     "text": [
      "Epoch 1859: 272batch [00:39,  6.84batch/s, loss=2.82e+3]\n"
     ]
    },
    {
     "name": "stdout",
     "output_type": "stream",
     "text": [
      "epoch 1859: avg train loss 2075.12, bar train loss 14.607, len train loss 0.947, col train loss 179.210\n"
     ]
    },
    {
     "name": "stderr",
     "output_type": "stream",
     "text": [
      "Epoch 1860: 1batch [00:00,  8.20batch/s, loss=2.07e+3]"
     ]
    },
    {
     "name": "stdout",
     "output_type": "stream",
     "text": [
      "epoch 1859: avg test  loss 2074.16, bar  test loss 14.703, len  test loss 0.934, col  test loss 179.125\n"
     ]
    },
    {
     "name": "stderr",
     "output_type": "stream",
     "text": [
      "Epoch 1860: 272batch [00:40,  6.79batch/s, loss=2.45e+3]\n"
     ]
    },
    {
     "name": "stdout",
     "output_type": "stream",
     "text": [
      "epoch 1860: avg train loss 2078.30, bar train loss 14.602, len train loss 0.946, col train loss 179.204\n",
      "epoch 1860: avg test  loss 2080.51, bar  test loss 14.699, len  test loss 0.934, col  test loss 179.123\n"
     ]
    },
    {
     "name": "stderr",
     "output_type": "stream",
     "text": [
      "Epoch 1861: 272batch [00:39,  6.84batch/s, loss=2.53e+3]\n"
     ]
    },
    {
     "name": "stdout",
     "output_type": "stream",
     "text": [
      "epoch 1861: avg train loss 2091.71, bar train loss 14.614, len train loss 0.947, col train loss 179.211\n"
     ]
    },
    {
     "name": "stderr",
     "output_type": "stream",
     "text": [
      "Epoch 1862: 1batch [00:00,  6.90batch/s, loss=2.13e+3]"
     ]
    },
    {
     "name": "stdout",
     "output_type": "stream",
     "text": [
      "epoch 1861: avg test  loss 2094.55, bar  test loss 14.734, len  test loss 0.934, col  test loss 179.147\n"
     ]
    },
    {
     "name": "stderr",
     "output_type": "stream",
     "text": [
      "Epoch 1862: 272batch [00:40,  6.79batch/s, loss=2.8e+3] \n"
     ]
    },
    {
     "name": "stdout",
     "output_type": "stream",
     "text": [
      "epoch 1862: avg train loss 2102.02, bar train loss 14.634, len train loss 0.947, col train loss 179.223\n"
     ]
    },
    {
     "name": "stderr",
     "output_type": "stream",
     "text": [
      "Epoch 1863: 0batch [00:00, ?batch/s, loss=2.07e+3]"
     ]
    },
    {
     "name": "stdout",
     "output_type": "stream",
     "text": [
      "epoch 1862: avg test  loss 2111.04, bar  test loss 14.730, len  test loss 0.934, col  test loss 179.139\n"
     ]
    },
    {
     "name": "stderr",
     "output_type": "stream",
     "text": [
      "Epoch 1863: 272batch [00:39,  6.85batch/s, loss=2.99e+3]\n"
     ]
    },
    {
     "name": "stdout",
     "output_type": "stream",
     "text": [
      "epoch 1863: avg train loss 2118.53, bar train loss 14.674, len train loss 0.947, col train loss 179.279\n"
     ]
    },
    {
     "name": "stderr",
     "output_type": "stream",
     "text": [
      "Epoch 1864: 1batch [00:00,  7.75batch/s, loss=2.04e+3]"
     ]
    },
    {
     "name": "stdout",
     "output_type": "stream",
     "text": [
      "epoch 1863: avg test  loss 2119.92, bar  test loss 14.786, len  test loss 0.934, col  test loss 179.223\n"
     ]
    },
    {
     "name": "stderr",
     "output_type": "stream",
     "text": [
      "Epoch 1864: 272batch [00:39,  6.81batch/s, loss=2.73e+3]\n"
     ]
    },
    {
     "name": "stdout",
     "output_type": "stream",
     "text": [
      "epoch 1864: avg train loss 2122.00, bar train loss 14.729, len train loss 0.946, col train loss 179.305\n"
     ]
    },
    {
     "name": "stderr",
     "output_type": "stream",
     "text": [
      "Epoch 1865: 1batch [00:00,  8.13batch/s, loss=2.09e+3]"
     ]
    },
    {
     "name": "stdout",
     "output_type": "stream",
     "text": [
      "epoch 1864: avg test  loss 2127.90, bar  test loss 14.852, len  test loss 0.934, col  test loss 179.224\n"
     ]
    },
    {
     "name": "stderr",
     "output_type": "stream",
     "text": [
      "Epoch 1865: 272batch [00:39,  6.82batch/s, loss=2.96e+3]\n"
     ]
    },
    {
     "name": "stdout",
     "output_type": "stream",
     "text": [
      "epoch 1865: avg train loss 2133.58, bar train loss 14.769, len train loss 0.948, col train loss 179.322\n",
      "epoch 1865: avg test  loss 2138.36, bar  test loss 14.866, len  test loss 0.934, col  test loss 179.244\n"
     ]
    },
    {
     "name": "stderr",
     "output_type": "stream",
     "text": [
      "Epoch 1866: 272batch [00:40,  6.80batch/s, loss=2.77e+3]\n"
     ]
    },
    {
     "name": "stdout",
     "output_type": "stream",
     "text": [
      "epoch 1866: avg train loss 2146.80, bar train loss 14.764, len train loss 0.947, col train loss 179.319\n"
     ]
    },
    {
     "name": "stderr",
     "output_type": "stream",
     "text": [
      "Epoch 1867: 0batch [00:00, ?batch/s, loss=2.19e+3]"
     ]
    },
    {
     "name": "stdout",
     "output_type": "stream",
     "text": [
      "epoch 1866: avg test  loss 2152.73, bar  test loss 14.858, len  test loss 0.934, col  test loss 179.270\n"
     ]
    },
    {
     "name": "stderr",
     "output_type": "stream",
     "text": [
      "Epoch 1867: 272batch [00:39,  6.84batch/s, loss=3e+3]   \n"
     ]
    },
    {
     "name": "stdout",
     "output_type": "stream",
     "text": [
      "epoch 1867: avg train loss 2158.05, bar train loss 14.731, len train loss 0.948, col train loss 179.230\n"
     ]
    },
    {
     "name": "stderr",
     "output_type": "stream",
     "text": [
      "Epoch 1868: 1batch [00:00,  7.87batch/s, loss=2.15e+3]"
     ]
    },
    {
     "name": "stdout",
     "output_type": "stream",
     "text": [
      "epoch 1867: avg test  loss 2166.45, bar  test loss 14.721, len  test loss 0.934, col  test loss 179.092\n"
     ]
    },
    {
     "name": "stderr",
     "output_type": "stream",
     "text": [
      "Epoch 1868: 272batch [00:39,  6.82batch/s, loss=3.29e+3]\n"
     ]
    },
    {
     "name": "stdout",
     "output_type": "stream",
     "text": [
      "epoch 1868: avg train loss 2173.74, bar train loss 14.627, len train loss 0.949, col train loss 179.174\n"
     ]
    },
    {
     "name": "stderr",
     "output_type": "stream",
     "text": [
      "Epoch 1869: 1batch [00:00,  7.63batch/s, loss=2.14e+3]"
     ]
    },
    {
     "name": "stdout",
     "output_type": "stream",
     "text": [
      "epoch 1868: avg test  loss 2172.37, bar  test loss 14.721, len  test loss 0.934, col  test loss 179.091\n"
     ]
    },
    {
     "name": "stderr",
     "output_type": "stream",
     "text": [
      "Epoch 1869: 272batch [00:40,  6.78batch/s, loss=2.93e+3]\n"
     ]
    },
    {
     "name": "stdout",
     "output_type": "stream",
     "text": [
      "epoch 1869: avg train loss 2180.14, bar train loss 14.639, len train loss 0.947, col train loss 179.168\n"
     ]
    },
    {
     "name": "stderr",
     "output_type": "stream",
     "text": [
      "Epoch 1870: 1batch [00:00,  8.00batch/s, loss=2.28e+3]"
     ]
    },
    {
     "name": "stdout",
     "output_type": "stream",
     "text": [
      "epoch 1869: avg test  loss 2190.70, bar  test loss 14.748, len  test loss 0.934, col  test loss 179.076\n"
     ]
    },
    {
     "name": "stderr",
     "output_type": "stream",
     "text": [
      "Epoch 1870: 272batch [00:40,  6.73batch/s, loss=2.87e+3]\n"
     ]
    },
    {
     "name": "stdout",
     "output_type": "stream",
     "text": [
      "epoch 1870: avg train loss 2204.54, bar train loss 14.652, len train loss 0.947, col train loss 179.173\n",
      "epoch 1870: avg test  loss 2201.90, bar  test loss 14.749, len  test loss 0.934, col  test loss 179.094\n"
     ]
    },
    {
     "name": "stderr",
     "output_type": "stream",
     "text": [
      "Epoch 1871: 272batch [00:39,  6.80batch/s, loss=3.07e+3]\n"
     ]
    },
    {
     "name": "stdout",
     "output_type": "stream",
     "text": [
      "epoch 1871: avg train loss 2217.10, bar train loss 14.674, len train loss 0.948, col train loss 179.201\n"
     ]
    },
    {
     "name": "stderr",
     "output_type": "stream",
     "text": [
      "Epoch 1872: 1batch [00:00,  7.81batch/s, loss=2.19e+3]"
     ]
    },
    {
     "name": "stdout",
     "output_type": "stream",
     "text": [
      "epoch 1871: avg test  loss 2230.29, bar  test loss 14.782, len  test loss 0.934, col  test loss 179.140\n"
     ]
    },
    {
     "name": "stderr",
     "output_type": "stream",
     "text": [
      "Epoch 1872: 272batch [00:39,  6.80batch/s, loss=2.95e+3]\n"
     ]
    },
    {
     "name": "stdout",
     "output_type": "stream",
     "text": [
      "epoch 1872: avg train loss 2231.90, bar train loss 14.692, len train loss 0.948, col train loss 179.242\n"
     ]
    },
    {
     "name": "stderr",
     "output_type": "stream",
     "text": [
      "Epoch 1873: 1batch [00:00,  8.26batch/s, loss=2.17e+3]"
     ]
    },
    {
     "name": "stdout",
     "output_type": "stream",
     "text": [
      "epoch 1872: avg test  loss 2232.61, bar  test loss 14.795, len  test loss 0.934, col  test loss 179.166\n"
     ]
    },
    {
     "name": "stderr",
     "output_type": "stream",
     "text": [
      "Epoch 1873: 272batch [00:40,  6.78batch/s, loss=3.02e+3]\n"
     ]
    },
    {
     "name": "stdout",
     "output_type": "stream",
     "text": [
      "epoch 1873: avg train loss 2236.58, bar train loss 14.713, len train loss 0.947, col train loss 179.251\n"
     ]
    },
    {
     "name": "stderr",
     "output_type": "stream",
     "text": [
      "Epoch 1874: 0batch [00:00, ?batch/s, loss=2.23e+3]"
     ]
    },
    {
     "name": "stdout",
     "output_type": "stream",
     "text": [
      "epoch 1873: avg test  loss 2242.91, bar  test loss 14.815, len  test loss 0.934, col  test loss 179.174\n"
     ]
    },
    {
     "name": "stderr",
     "output_type": "stream",
     "text": [
      "Epoch 1874: 272batch [00:40,  6.75batch/s, loss=2.99e+3]\n"
     ]
    },
    {
     "name": "stdout",
     "output_type": "stream",
     "text": [
      "epoch 1874: avg train loss 2247.30, bar train loss 14.720, len train loss 0.948, col train loss 179.269\n"
     ]
    },
    {
     "name": "stderr",
     "output_type": "stream",
     "text": [
      "Epoch 1875: 0batch [00:00, ?batch/s, loss=2.27e+3]"
     ]
    },
    {
     "name": "stdout",
     "output_type": "stream",
     "text": [
      "epoch 1874: avg test  loss 2243.54, bar  test loss 14.815, len  test loss 0.934, col  test loss 179.203\n"
     ]
    },
    {
     "name": "stderr",
     "output_type": "stream",
     "text": [
      "Epoch 1875: 272batch [00:40,  6.78batch/s, loss=3.16e+3]\n"
     ]
    },
    {
     "name": "stdout",
     "output_type": "stream",
     "text": [
      "epoch 1875: avg train loss 2246.77, bar train loss 14.719, len train loss 0.948, col train loss 179.269\n",
      "epoch 1875: avg test  loss 2261.54, bar  test loss 14.815, len  test loss 0.934, col  test loss 179.189\n"
     ]
    },
    {
     "name": "stderr",
     "output_type": "stream",
     "text": [
      "Epoch 1876: 272batch [00:40,  6.75batch/s, loss=3.67e+3]\n"
     ]
    },
    {
     "name": "stdout",
     "output_type": "stream",
     "text": [
      "epoch 1876: avg train loss 2256.24, bar train loss 14.724, len train loss 0.950, col train loss 179.264\n"
     ]
    },
    {
     "name": "stderr",
     "output_type": "stream",
     "text": [
      "Epoch 1877: 1batch [00:00,  7.41batch/s, loss=2.09e+3]"
     ]
    },
    {
     "name": "stdout",
     "output_type": "stream",
     "text": [
      "epoch 1876: avg test  loss 2259.23, bar  test loss 14.815, len  test loss 0.934, col  test loss 179.188\n"
     ]
    },
    {
     "name": "stderr",
     "output_type": "stream",
     "text": [
      "Epoch 1877: 272batch [00:40,  6.76batch/s, loss=2.82e+3]\n"
     ]
    },
    {
     "name": "stdout",
     "output_type": "stream",
     "text": [
      "epoch 1877: avg train loss 2265.87, bar train loss 14.720, len train loss 0.946, col train loss 179.260\n"
     ]
    },
    {
     "name": "stderr",
     "output_type": "stream",
     "text": [
      "Epoch 1878: 1batch [00:00,  7.94batch/s, loss=2.32e+3]"
     ]
    },
    {
     "name": "stdout",
     "output_type": "stream",
     "text": [
      "epoch 1877: avg test  loss 2271.75, bar  test loss 14.815, len  test loss 0.934, col  test loss 179.182\n"
     ]
    },
    {
     "name": "stderr",
     "output_type": "stream",
     "text": [
      "Epoch 1878: 272batch [00:40,  6.76batch/s, loss=3.02e+3]\n"
     ]
    },
    {
     "name": "stdout",
     "output_type": "stream",
     "text": [
      "epoch 1878: avg train loss 2279.49, bar train loss 14.722, len train loss 0.948, col train loss 179.257\n"
     ]
    },
    {
     "name": "stderr",
     "output_type": "stream",
     "text": [
      "Epoch 1879: 1batch [00:00,  8.33batch/s, loss=2.29e+3]"
     ]
    },
    {
     "name": "stdout",
     "output_type": "stream",
     "text": [
      "epoch 1878: avg test  loss 2279.18, bar  test loss 14.831, len  test loss 0.934, col  test loss 179.186\n"
     ]
    },
    {
     "name": "stderr",
     "output_type": "stream",
     "text": [
      "Epoch 1879: 272batch [00:40,  6.73batch/s, loss=3.17e+3]\n"
     ]
    },
    {
     "name": "stdout",
     "output_type": "stream",
     "text": [
      "epoch 1879: avg train loss 2285.81, bar train loss 14.737, len train loss 0.948, col train loss 179.262\n"
     ]
    },
    {
     "name": "stderr",
     "output_type": "stream",
     "text": [
      "Epoch 1880: 1batch [00:00,  7.04batch/s, loss=2.26e+3]"
     ]
    },
    {
     "name": "stdout",
     "output_type": "stream",
     "text": [
      "epoch 1879: avg test  loss 2295.18, bar  test loss 14.839, len  test loss 0.934, col  test loss 179.190\n"
     ]
    },
    {
     "name": "stderr",
     "output_type": "stream",
     "text": [
      "Epoch 1880: 272batch [00:40,  6.77batch/s, loss=2.77e+3]\n"
     ]
    },
    {
     "name": "stdout",
     "output_type": "stream",
     "text": [
      "epoch 1880: avg train loss 2310.47, bar train loss 14.739, len train loss 0.947, col train loss 179.273\n",
      "epoch 1880: avg test  loss 2306.57, bar  test loss 14.839, len  test loss 0.934, col  test loss 179.204\n"
     ]
    },
    {
     "name": "stderr",
     "output_type": "stream",
     "text": [
      "Epoch 1881: 272batch [00:40,  6.75batch/s, loss=3.42e+3]\n"
     ]
    },
    {
     "name": "stdout",
     "output_type": "stream",
     "text": [
      "epoch 1881: avg train loss 2316.56, bar train loss 14.753, len train loss 0.948, col train loss 179.281\n"
     ]
    },
    {
     "name": "stderr",
     "output_type": "stream",
     "text": [
      "Epoch 1882: 1batch [00:00,  7.14batch/s, loss=2.3e+3]"
     ]
    },
    {
     "name": "stdout",
     "output_type": "stream",
     "text": [
      "epoch 1881: avg test  loss 2318.10, bar  test loss 14.839, len  test loss 0.934, col  test loss 179.205\n"
     ]
    },
    {
     "name": "stderr",
     "output_type": "stream",
     "text": [
      "Epoch 1882: 272batch [00:40,  6.76batch/s, loss=3.06e+3]\n"
     ]
    },
    {
     "name": "stdout",
     "output_type": "stream",
     "text": [
      "epoch 1882: avg train loss 2332.10, bar train loss 14.740, len train loss 0.948, col train loss 179.285\n"
     ]
    },
    {
     "name": "stderr",
     "output_type": "stream",
     "text": [
      "Epoch 1883: 0batch [00:00, ?batch/s, loss=2.39e+3]"
     ]
    },
    {
     "name": "stdout",
     "output_type": "stream",
     "text": [
      "epoch 1882: avg test  loss 2334.86, bar  test loss 14.839, len  test loss 0.934, col  test loss 179.216\n"
     ]
    },
    {
     "name": "stderr",
     "output_type": "stream",
     "text": [
      "Epoch 1883: 272batch [00:40,  6.75batch/s, loss=2.73e+3]\n"
     ]
    },
    {
     "name": "stdout",
     "output_type": "stream",
     "text": [
      "epoch 1883: avg train loss 2339.93, bar train loss 14.737, len train loss 0.947, col train loss 179.296\n"
     ]
    },
    {
     "name": "stderr",
     "output_type": "stream",
     "text": [
      "Epoch 1884: 1batch [00:00,  7.41batch/s, loss=2.34e+3]"
     ]
    },
    {
     "name": "stdout",
     "output_type": "stream",
     "text": [
      "epoch 1883: avg test  loss 2345.58, bar  test loss 14.839, len  test loss 0.934, col  test loss 179.218\n"
     ]
    },
    {
     "name": "stderr",
     "output_type": "stream",
     "text": [
      "Epoch 1884: 272batch [00:40,  6.73batch/s, loss=2.61e+3]\n"
     ]
    },
    {
     "name": "stdout",
     "output_type": "stream",
     "text": [
      "epoch 1884: avg train loss 2345.44, bar train loss 14.740, len train loss 0.946, col train loss 179.299\n"
     ]
    },
    {
     "name": "stderr",
     "output_type": "stream",
     "text": [
      "Epoch 1885: 1batch [00:00,  7.76batch/s, loss=2.36e+3]"
     ]
    },
    {
     "name": "stdout",
     "output_type": "stream",
     "text": [
      "epoch 1884: avg test  loss 2344.57, bar  test loss 14.839, len  test loss 0.934, col  test loss 179.218\n"
     ]
    },
    {
     "name": "stderr",
     "output_type": "stream",
     "text": [
      "Epoch 1885: 272batch [00:40,  6.72batch/s, loss=3.21e+3]\n"
     ]
    },
    {
     "name": "stdout",
     "output_type": "stream",
     "text": [
      "epoch 1885: avg train loss 2346.08, bar train loss 14.770, len train loss 0.948, col train loss 179.322\n",
      "epoch 1885: avg test  loss 2347.48, bar  test loss 14.908, len  test loss 0.934, col  test loss 179.280\n"
     ]
    },
    {
     "name": "stderr",
     "output_type": "stream",
     "text": [
      "Epoch 1886: 272batch [00:40,  6.75batch/s, loss=3.02e+3]\n"
     ]
    },
    {
     "name": "stdout",
     "output_type": "stream",
     "text": [
      "epoch 1886: avg train loss 2335.56, bar train loss 14.817, len train loss 0.947, col train loss 179.370\n"
     ]
    },
    {
     "name": "stderr",
     "output_type": "stream",
     "text": [
      "Epoch 1887: 1batch [00:00,  7.46batch/s, loss=2.36e+3]"
     ]
    },
    {
     "name": "stdout",
     "output_type": "stream",
     "text": [
      "epoch 1886: avg test  loss 2336.92, bar  test loss 14.917, len  test loss 0.934, col  test loss 179.290\n"
     ]
    },
    {
     "name": "stderr",
     "output_type": "stream",
     "text": [
      "Epoch 1887: 272batch [00:40,  6.73batch/s, loss=2.91e+3]\n"
     ]
    },
    {
     "name": "stdout",
     "output_type": "stream",
     "text": [
      "epoch 1887: avg train loss 2342.72, bar train loss 14.821, len train loss 0.947, col train loss 179.385\n"
     ]
    },
    {
     "name": "stderr",
     "output_type": "stream",
     "text": [
      "Epoch 1888: 0batch [00:00, ?batch/s, loss=2.28e+3]"
     ]
    },
    {
     "name": "stdout",
     "output_type": "stream",
     "text": [
      "epoch 1887: avg test  loss 2341.74, bar  test loss 14.917, len  test loss 0.934, col  test loss 179.308\n"
     ]
    },
    {
     "name": "stderr",
     "output_type": "stream",
     "text": [
      "Epoch 1888: 272batch [00:40,  6.72batch/s, loss=3.05e+3]\n"
     ]
    },
    {
     "name": "stdout",
     "output_type": "stream",
     "text": [
      "epoch 1888: avg train loss 2345.82, bar train loss 14.821, len train loss 0.947, col train loss 179.398\n"
     ]
    },
    {
     "name": "stderr",
     "output_type": "stream",
     "text": [
      "Epoch 1889: 1batch [00:00,  7.35batch/s, loss=2.32e+3]"
     ]
    },
    {
     "name": "stdout",
     "output_type": "stream",
     "text": [
      "epoch 1888: avg test  loss 2342.79, bar  test loss 14.921, len  test loss 0.934, col  test loss 179.324\n"
     ]
    },
    {
     "name": "stderr",
     "output_type": "stream",
     "text": [
      "Epoch 1889: 272batch [00:40,  6.68batch/s, loss=3.23e+3]\n"
     ]
    },
    {
     "name": "stdout",
     "output_type": "stream",
     "text": [
      "epoch 1889: avg train loss 2352.17, bar train loss 14.826, len train loss 0.948, col train loss 179.414\n"
     ]
    },
    {
     "name": "stderr",
     "output_type": "stream",
     "text": [
      "Epoch 1890: 1batch [00:00,  8.00batch/s, loss=2.37e+3]"
     ]
    },
    {
     "name": "stdout",
     "output_type": "stream",
     "text": [
      "epoch 1889: avg test  loss 2350.99, bar  test loss 14.921, len  test loss 0.934, col  test loss 179.327\n"
     ]
    },
    {
     "name": "stderr",
     "output_type": "stream",
     "text": [
      "Epoch 1890: 272batch [00:40,  6.73batch/s, loss=2.98e+3]\n"
     ]
    },
    {
     "name": "stdout",
     "output_type": "stream",
     "text": [
      "epoch 1890: avg train loss 2356.72, bar train loss 14.824, len train loss 0.947, col train loss 179.415\n",
      "epoch 1890: avg test  loss 2357.09, bar  test loss 14.921, len  test loss 0.934, col  test loss 179.328\n"
     ]
    },
    {
     "name": "stderr",
     "output_type": "stream",
     "text": [
      "Epoch 1891: 272batch [00:40,  6.70batch/s, loss=3.33e+3]\n"
     ]
    },
    {
     "name": "stdout",
     "output_type": "stream",
     "text": [
      "epoch 1891: avg train loss 2355.34, bar train loss 14.829, len train loss 0.948, col train loss 179.420\n"
     ]
    },
    {
     "name": "stderr",
     "output_type": "stream",
     "text": [
      "Epoch 1892: 1batch [00:00,  7.46batch/s, loss=2.3e+3]"
     ]
    },
    {
     "name": "stdout",
     "output_type": "stream",
     "text": [
      "epoch 1891: avg test  loss 2343.41, bar  test loss 14.934, len  test loss 0.934, col  test loss 179.337\n"
     ]
    },
    {
     "name": "stderr",
     "output_type": "stream",
     "text": [
      "Epoch 1892: 272batch [00:40,  6.69batch/s, loss=3.25e+3]\n"
     ]
    },
    {
     "name": "stdout",
     "output_type": "stream",
     "text": [
      "epoch 1892: avg train loss 2335.64, bar train loss 14.841, len train loss 0.948, col train loss 179.426\n"
     ]
    },
    {
     "name": "stderr",
     "output_type": "stream",
     "text": [
      "Epoch 1893: 0batch [00:00, ?batch/s, loss=2.37e+3]"
     ]
    },
    {
     "name": "stdout",
     "output_type": "stream",
     "text": [
      "epoch 1892: avg test  loss 2338.63, bar  test loss 14.934, len  test loss 0.934, col  test loss 179.338\n"
     ]
    },
    {
     "name": "stderr",
     "output_type": "stream",
     "text": [
      "Epoch 1893: 272batch [00:40,  6.71batch/s, loss=3.44e+3]\n"
     ]
    },
    {
     "name": "stdout",
     "output_type": "stream",
     "text": [
      "epoch 1893: avg train loss 2340.19, bar train loss 14.841, len train loss 0.949, col train loss 179.424\n"
     ]
    },
    {
     "name": "stderr",
     "output_type": "stream",
     "text": [
      "Epoch 1894: 1batch [00:00,  7.94batch/s, loss=2.35e+3]"
     ]
    },
    {
     "name": "stdout",
     "output_type": "stream",
     "text": [
      "epoch 1893: avg test  loss 2329.31, bar  test loss 14.934, len  test loss 0.934, col  test loss 179.338\n"
     ]
    },
    {
     "name": "stderr",
     "output_type": "stream",
     "text": [
      "Epoch 1894: 272batch [00:40,  6.70batch/s, loss=3.09e+3]\n"
     ]
    },
    {
     "name": "stdout",
     "output_type": "stream",
     "text": [
      "epoch 1894: avg train loss 2335.77, bar train loss 14.839, len train loss 0.948, col train loss 179.425\n"
     ]
    },
    {
     "name": "stderr",
     "output_type": "stream",
     "text": [
      "Epoch 1895: 0batch [00:00, ?batch/s, loss=2.36e+3]"
     ]
    },
    {
     "name": "stdout",
     "output_type": "stream",
     "text": [
      "epoch 1894: avg test  loss 2334.44, bar  test loss 14.934, len  test loss 0.934, col  test loss 179.339\n"
     ]
    },
    {
     "name": "stderr",
     "output_type": "stream",
     "text": [
      "Epoch 1895: 272batch [00:42,  6.45batch/s, loss=3.24e+3]\n"
     ]
    },
    {
     "name": "stdout",
     "output_type": "stream",
     "text": [
      "epoch 1895: avg train loss 2332.42, bar train loss 14.845, len train loss 0.947, col train loss 179.424\n",
      "epoch 1895: avg test  loss 2334.45, bar  test loss 14.934, len  test loss 0.934, col  test loss 179.354\n"
     ]
    },
    {
     "name": "stderr",
     "output_type": "stream",
     "text": [
      "Epoch 1896: 272batch [00:41,  6.57batch/s, loss=2.99e+3]\n"
     ]
    },
    {
     "name": "stdout",
     "output_type": "stream",
     "text": [
      "epoch 1896: avg train loss 2340.65, bar train loss 14.839, len train loss 0.947, col train loss 179.430\n"
     ]
    },
    {
     "name": "stderr",
     "output_type": "stream",
     "text": [
      "Epoch 1897: 0batch [00:00, ?batch/s, loss=2.46e+3]"
     ]
    },
    {
     "name": "stdout",
     "output_type": "stream",
     "text": [
      "epoch 1896: avg test  loss 2340.30, bar  test loss 14.934, len  test loss 0.934, col  test loss 179.361\n"
     ]
    },
    {
     "name": "stderr",
     "output_type": "stream",
     "text": [
      "Epoch 1897: 272batch [00:41,  6.59batch/s, loss=3.15e+3]\n"
     ]
    },
    {
     "name": "stdout",
     "output_type": "stream",
     "text": [
      "epoch 1897: avg train loss 2343.79, bar train loss 14.840, len train loss 0.948, col train loss 179.436\n"
     ]
    },
    {
     "name": "stderr",
     "output_type": "stream",
     "text": [
      "Epoch 1898: 0batch [00:00, ?batch/s, loss=2.34e+3]"
     ]
    },
    {
     "name": "stdout",
     "output_type": "stream",
     "text": [
      "epoch 1897: avg test  loss 2352.56, bar  test loss 14.938, len  test loss 0.934, col  test loss 179.364\n"
     ]
    },
    {
     "name": "stderr",
     "output_type": "stream",
     "text": [
      "Epoch 1898: 272batch [00:43,  6.32batch/s, loss=3.07e+3]\n"
     ]
    },
    {
     "name": "stdout",
     "output_type": "stream",
     "text": [
      "epoch 1898: avg train loss 2350.31, bar train loss 14.853, len train loss 0.948, col train loss 179.447\n"
     ]
    },
    {
     "name": "stderr",
     "output_type": "stream",
     "text": [
      "Epoch 1899: 1batch [00:00,  8.06batch/s, loss=2.16e+3]"
     ]
    },
    {
     "name": "stdout",
     "output_type": "stream",
     "text": [
      "epoch 1898: avg test  loss 2340.60, bar  test loss 14.946, len  test loss 0.934, col  test loss 179.379\n"
     ]
    },
    {
     "name": "stderr",
     "output_type": "stream",
     "text": [
      "Epoch 1899: 272batch [00:40,  6.67batch/s, loss=3.19e+3]\n"
     ]
    },
    {
     "name": "stdout",
     "output_type": "stream",
     "text": [
      "epoch 1899: avg train loss 2337.84, bar train loss 14.861, len train loss 0.948, col train loss 179.453\n"
     ]
    },
    {
     "name": "stderr",
     "output_type": "stream",
     "text": [
      "Epoch 1900: 1batch [00:00,  8.40batch/s, loss=2.31e+3]"
     ]
    },
    {
     "name": "stdout",
     "output_type": "stream",
     "text": [
      "epoch 1899: avg test  loss 2337.41, bar  test loss 14.946, len  test loss 0.934, col  test loss 179.380\n"
     ]
    },
    {
     "name": "stderr",
     "output_type": "stream",
     "text": [
      "Epoch 1900: 272batch [00:40,  6.68batch/s, loss=2.78e+3]\n"
     ]
    },
    {
     "name": "stdout",
     "output_type": "stream",
     "text": [
      "epoch 1900: avg train loss 2336.92, bar train loss 14.855, len train loss 0.946, col train loss 179.457\n",
      "epoch 1900: avg test  loss 2335.82, bar  test loss 14.961, len  test loss 0.934, col  test loss 179.406\n"
     ]
    },
    {
     "name": "stderr",
     "output_type": "stream",
     "text": [
      "Epoch 1901: 272batch [00:40,  6.70batch/s, loss=3.07e+3]\n"
     ]
    },
    {
     "name": "stdout",
     "output_type": "stream",
     "text": [
      "epoch 1901: avg train loss 2337.50, bar train loss 14.875, len train loss 0.948, col train loss 179.481\n"
     ]
    },
    {
     "name": "stderr",
     "output_type": "stream",
     "text": [
      "Epoch 1902: 1batch [00:00,  7.25batch/s, loss=2.29e+3]"
     ]
    },
    {
     "name": "stdout",
     "output_type": "stream",
     "text": [
      "epoch 1901: avg test  loss 2338.61, bar  test loss 14.985, len  test loss 0.934, col  test loss 179.428\n"
     ]
    },
    {
     "name": "stderr",
     "output_type": "stream",
     "text": [
      "Epoch 1902: 272batch [00:40,  6.70batch/s, loss=2.66e+3]\n"
     ]
    },
    {
     "name": "stdout",
     "output_type": "stream",
     "text": [
      "epoch 1902: avg train loss 2342.04, bar train loss 14.890, len train loss 0.946, col train loss 179.503\n"
     ]
    },
    {
     "name": "stderr",
     "output_type": "stream",
     "text": [
      "Epoch 1903: 0batch [00:00, ?batch/s, loss=2.28e+3]"
     ]
    },
    {
     "name": "stdout",
     "output_type": "stream",
     "text": [
      "epoch 1902: avg test  loss 2338.67, bar  test loss 14.985, len  test loss 0.934, col  test loss 179.441\n"
     ]
    },
    {
     "name": "stderr",
     "output_type": "stream",
     "text": [
      "Epoch 1903: 272batch [00:40,  6.64batch/s, loss=2.74e+3]\n"
     ]
    },
    {
     "name": "stdout",
     "output_type": "stream",
     "text": [
      "epoch 1903: avg train loss 2336.52, bar train loss 14.896, len train loss 0.946, col train loss 179.511\n"
     ]
    },
    {
     "name": "stderr",
     "output_type": "stream",
     "text": [
      "Epoch 1904: 0batch [00:00, ?batch/s, loss=2.37e+3]"
     ]
    },
    {
     "name": "stdout",
     "output_type": "stream",
     "text": [
      "epoch 1903: avg test  loss 2334.36, bar  test loss 14.985, len  test loss 0.934, col  test loss 179.437\n"
     ]
    },
    {
     "name": "stderr",
     "output_type": "stream",
     "text": [
      "Epoch 1904: 272batch [00:40,  6.67batch/s, loss=2.52e+3]\n"
     ]
    },
    {
     "name": "stdout",
     "output_type": "stream",
     "text": [
      "epoch 1904: avg train loss 2335.67, bar train loss 14.888, len train loss 0.946, col train loss 179.503\n"
     ]
    },
    {
     "name": "stderr",
     "output_type": "stream",
     "text": [
      "Epoch 1905: 1batch [00:00,  7.69batch/s, loss=2.36e+3]"
     ]
    },
    {
     "name": "stdout",
     "output_type": "stream",
     "text": [
      "epoch 1904: avg test  loss 2332.46, bar  test loss 14.994, len  test loss 0.934, col  test loss 179.438\n"
     ]
    },
    {
     "name": "stderr",
     "output_type": "stream",
     "text": [
      "Epoch 1905: 272batch [00:40,  6.64batch/s, loss=3.04e+3]\n"
     ]
    },
    {
     "name": "stdout",
     "output_type": "stream",
     "text": [
      "epoch 1905: avg train loss 2325.65, bar train loss 14.903, len train loss 0.947, col train loss 179.510\n",
      "epoch 1905: avg test  loss 2339.34, bar  test loss 15.004, len  test loss 0.934, col  test loss 179.457\n"
     ]
    },
    {
     "name": "stderr",
     "output_type": "stream",
     "text": [
      "Epoch 1906: 272batch [00:40,  6.68batch/s, loss=3.34e+3]\n"
     ]
    },
    {
     "name": "stdout",
     "output_type": "stream",
     "text": [
      "epoch 1906: avg train loss 2330.72, bar train loss 14.958, len train loss 0.949, col train loss 179.611\n"
     ]
    },
    {
     "name": "stderr",
     "output_type": "stream",
     "text": [
      "Epoch 1907: 0batch [00:00, ?batch/s, loss=2.21e+3]"
     ]
    },
    {
     "name": "stdout",
     "output_type": "stream",
     "text": [
      "epoch 1906: avg test  loss 2323.62, bar  test loss 15.056, len  test loss 0.934, col  test loss 179.553\n"
     ]
    },
    {
     "name": "stderr",
     "output_type": "stream",
     "text": [
      "Epoch 1907: 272batch [00:41,  6.62batch/s, loss=3.02e+3]\n"
     ]
    },
    {
     "name": "stdout",
     "output_type": "stream",
     "text": [
      "epoch 1907: avg train loss 2320.82, bar train loss 14.967, len train loss 0.947, col train loss 179.634\n"
     ]
    },
    {
     "name": "stderr",
     "output_type": "stream",
     "text": [
      "Epoch 1908: 1batch [00:00,  7.94batch/s, loss=2.36e+3]"
     ]
    },
    {
     "name": "stdout",
     "output_type": "stream",
     "text": [
      "epoch 1907: avg test  loss 2316.07, bar  test loss 15.056, len  test loss 0.934, col  test loss 179.554\n"
     ]
    },
    {
     "name": "stderr",
     "output_type": "stream",
     "text": [
      "Epoch 1908: 272batch [00:40,  6.67batch/s, loss=2.81e+3]\n"
     ]
    },
    {
     "name": "stdout",
     "output_type": "stream",
     "text": [
      "epoch 1908: avg train loss 2311.12, bar train loss 14.946, len train loss 0.947, col train loss 179.577\n"
     ]
    },
    {
     "name": "stderr",
     "output_type": "stream",
     "text": [
      "Epoch 1909: 1batch [00:00,  7.25batch/s, loss=2.33e+3]"
     ]
    },
    {
     "name": "stdout",
     "output_type": "stream",
     "text": [
      "epoch 1908: avg test  loss 2303.38, bar  test loss 15.029, len  test loss 0.934, col  test loss 179.487\n"
     ]
    },
    {
     "name": "stderr",
     "output_type": "stream",
     "text": [
      "Epoch 1909: 272batch [00:40,  6.64batch/s, loss=2.79e+3]\n"
     ]
    },
    {
     "name": "stdout",
     "output_type": "stream",
     "text": [
      "epoch 1909: avg train loss 2297.20, bar train loss 14.961, len train loss 0.946, col train loss 179.594\n"
     ]
    },
    {
     "name": "stderr",
     "output_type": "stream",
     "text": [
      "Epoch 1910: 0batch [00:00, ?batch/s, loss=2.29e+3]"
     ]
    },
    {
     "name": "stdout",
     "output_type": "stream",
     "text": [
      "epoch 1909: avg test  loss 2288.51, bar  test loss 15.056, len  test loss 0.934, col  test loss 179.551\n"
     ]
    },
    {
     "name": "stderr",
     "output_type": "stream",
     "text": [
      "Epoch 1910: 272batch [00:41,  6.62batch/s, loss=3.46e+3]\n"
     ]
    },
    {
     "name": "stdout",
     "output_type": "stream",
     "text": [
      "epoch 1910: avg train loss 2286.21, bar train loss 14.971, len train loss 0.949, col train loss 179.602\n",
      "epoch 1910: avg test  loss 2280.18, bar  test loss 15.056, len  test loss 0.934, col  test loss 179.502\n"
     ]
    },
    {
     "name": "stderr",
     "output_type": "stream",
     "text": [
      "Epoch 1911: 272batch [00:41,  6.61batch/s, loss=2.96e+3]\n"
     ]
    },
    {
     "name": "stdout",
     "output_type": "stream",
     "text": [
      "epoch 1911: avg train loss 2277.09, bar train loss 14.969, len train loss 0.947, col train loss 179.572\n"
     ]
    },
    {
     "name": "stderr",
     "output_type": "stream",
     "text": [
      "Epoch 1912: 1batch [00:00,  7.58batch/s, loss=2.26e+3]"
     ]
    },
    {
     "name": "stdout",
     "output_type": "stream",
     "text": [
      "epoch 1911: avg test  loss 2271.00, bar  test loss 15.056, len  test loss 0.934, col  test loss 179.502\n"
     ]
    },
    {
     "name": "stderr",
     "output_type": "stream",
     "text": [
      "Epoch 1912: 272batch [00:41,  6.62batch/s, loss=2.77e+3]\n"
     ]
    },
    {
     "name": "stdout",
     "output_type": "stream",
     "text": [
      "epoch 1912: avg train loss 2267.35, bar train loss 14.971, len train loss 0.946, col train loss 179.572\n"
     ]
    },
    {
     "name": "stderr",
     "output_type": "stream",
     "text": [
      "Epoch 1913: 1batch [00:00,  8.40batch/s, loss=2.32e+3]"
     ]
    },
    {
     "name": "stdout",
     "output_type": "stream",
     "text": [
      "epoch 1912: avg test  loss 2261.17, bar  test loss 15.056, len  test loss 0.934, col  test loss 179.502\n"
     ]
    },
    {
     "name": "stderr",
     "output_type": "stream",
     "text": [
      "Epoch 1913: 272batch [00:40,  6.63batch/s, loss=3.29e+3]\n"
     ]
    },
    {
     "name": "stdout",
     "output_type": "stream",
     "text": [
      "epoch 1913: avg train loss 2257.30, bar train loss 14.971, len train loss 0.949, col train loss 179.572\n"
     ]
    },
    {
     "name": "stderr",
     "output_type": "stream",
     "text": [
      "Epoch 1914: 0batch [00:00, ?batch/s, loss=2.32e+3]"
     ]
    },
    {
     "name": "stdout",
     "output_type": "stream",
     "text": [
      "epoch 1913: avg test  loss 2250.20, bar  test loss 15.056, len  test loss 0.934, col  test loss 179.502\n"
     ]
    },
    {
     "name": "stderr",
     "output_type": "stream",
     "text": [
      "Epoch 1914: 272batch [00:41,  6.61batch/s, loss=2.88e+3]\n"
     ]
    },
    {
     "name": "stdout",
     "output_type": "stream",
     "text": [
      "epoch 1914: avg train loss 2245.63, bar train loss 14.970, len train loss 0.947, col train loss 179.572\n"
     ]
    },
    {
     "name": "stderr",
     "output_type": "stream",
     "text": [
      "\r",
      "Epoch 1915: 0batch [00:00, ?batch/s]"
     ]
    },
    {
     "name": "stdout",
     "output_type": "stream",
     "text": [
      "epoch 1914: avg test  loss 2238.29, bar  test loss 15.056, len  test loss 0.934, col  test loss 179.502\n"
     ]
    },
    {
     "name": "stderr",
     "output_type": "stream",
     "text": [
      "Epoch 1915: 272batch [00:41,  6.61batch/s, loss=2.47e+3]\n"
     ]
    },
    {
     "name": "stdout",
     "output_type": "stream",
     "text": [
      "epoch 1915: avg train loss 2233.26, bar train loss 14.961, len train loss 0.946, col train loss 179.572\n",
      "epoch 1915: avg test  loss 2225.91, bar  test loss 15.056, len  test loss 0.934, col  test loss 179.502\n"
     ]
    },
    {
     "name": "stderr",
     "output_type": "stream",
     "text": [
      "Epoch 1916: 272batch [00:41,  6.59batch/s, loss=2.95e+3]\n"
     ]
    },
    {
     "name": "stdout",
     "output_type": "stream",
     "text": [
      "epoch 1916: avg train loss 2220.68, bar train loss 14.973, len train loss 0.947, col train loss 179.572\n"
     ]
    },
    {
     "name": "stderr",
     "output_type": "stream",
     "text": [
      "Epoch 1917: 1batch [00:00,  8.26batch/s, loss=2.19e+3]"
     ]
    },
    {
     "name": "stdout",
     "output_type": "stream",
     "text": [
      "epoch 1916: avg test  loss 2212.29, bar  test loss 15.056, len  test loss 0.934, col  test loss 179.502\n"
     ]
    },
    {
     "name": "stderr",
     "output_type": "stream",
     "text": [
      "Epoch 1917: 272batch [00:41,  6.62batch/s, loss=2.73e+3]\n"
     ]
    },
    {
     "name": "stdout",
     "output_type": "stream",
     "text": [
      "epoch 1917: avg train loss 2206.33, bar train loss 14.966, len train loss 0.947, col train loss 179.572\n"
     ]
    },
    {
     "name": "stderr",
     "output_type": "stream",
     "text": [
      "Epoch 1918: 1batch [00:00,  8.26batch/s, loss=2.15e+3]"
     ]
    },
    {
     "name": "stdout",
     "output_type": "stream",
     "text": [
      "epoch 1917: avg test  loss 2198.15, bar  test loss 15.056, len  test loss 0.934, col  test loss 179.502\n"
     ]
    },
    {
     "name": "stderr",
     "output_type": "stream",
     "text": [
      "Epoch 1918: 272batch [00:42,  6.45batch/s, loss=2.93e+3]\n"
     ]
    },
    {
     "name": "stdout",
     "output_type": "stream",
     "text": [
      "epoch 1918: avg train loss 2191.91, bar train loss 14.969, len train loss 0.947, col train loss 179.572\n"
     ]
    },
    {
     "name": "stderr",
     "output_type": "stream",
     "text": [
      "\r",
      "Epoch 1919: 0batch [00:00, ?batch/s]"
     ]
    },
    {
     "name": "stdout",
     "output_type": "stream",
     "text": [
      "epoch 1918: avg test  loss 2183.27, bar  test loss 15.056, len  test loss 0.934, col  test loss 179.502\n"
     ]
    },
    {
     "name": "stderr",
     "output_type": "stream",
     "text": [
      "Epoch 1919: 272batch [00:42,  6.42batch/s, loss=2.88e+3]\n"
     ]
    },
    {
     "name": "stdout",
     "output_type": "stream",
     "text": [
      "epoch 1919: avg train loss 2177.10, bar train loss 14.966, len train loss 0.948, col train loss 179.572\n"
     ]
    },
    {
     "name": "stderr",
     "output_type": "stream",
     "text": [
      "Epoch 1920: 1batch [00:00,  7.35batch/s, loss=2.16e+3]"
     ]
    },
    {
     "name": "stdout",
     "output_type": "stream",
     "text": [
      "epoch 1919: avg test  loss 2168.30, bar  test loss 15.056, len  test loss 0.934, col  test loss 179.502\n"
     ]
    },
    {
     "name": "stderr",
     "output_type": "stream",
     "text": [
      "Epoch 1920: 272batch [00:41,  6.53batch/s, loss=2.74e+3]\n"
     ]
    },
    {
     "name": "stdout",
     "output_type": "stream",
     "text": [
      "epoch 1920: avg train loss 2161.65, bar train loss 14.975, len train loss 0.946, col train loss 179.572\n",
      "epoch 1920: avg test  loss 2152.89, bar  test loss 15.056, len  test loss 0.934, col  test loss 179.502\n"
     ]
    },
    {
     "name": "stderr",
     "output_type": "stream",
     "text": [
      "Epoch 1921: 272batch [00:41,  6.57batch/s, loss=2.98e+3]\n"
     ]
    },
    {
     "name": "stdout",
     "output_type": "stream",
     "text": [
      "epoch 1921: avg train loss 2146.40, bar train loss 14.968, len train loss 0.948, col train loss 179.572\n"
     ]
    },
    {
     "name": "stderr",
     "output_type": "stream",
     "text": [
      "Epoch 1922: 1batch [00:00,  7.30batch/s, loss=2.06e+3]"
     ]
    },
    {
     "name": "stdout",
     "output_type": "stream",
     "text": [
      "epoch 1921: avg test  loss 2137.16, bar  test loss 15.056, len  test loss 0.934, col  test loss 179.502\n"
     ]
    },
    {
     "name": "stderr",
     "output_type": "stream",
     "text": [
      "Epoch 1922: 272batch [00:41,  6.61batch/s, loss=2.68e+3]\n"
     ]
    },
    {
     "name": "stdout",
     "output_type": "stream",
     "text": [
      "epoch 1922: avg train loss 2131.12, bar train loss 14.965, len train loss 0.947, col train loss 179.572\n"
     ]
    },
    {
     "name": "stderr",
     "output_type": "stream",
     "text": [
      "Epoch 1923: 1batch [00:00,  7.75batch/s, loss=2.19e+3]"
     ]
    },
    {
     "name": "stdout",
     "output_type": "stream",
     "text": [
      "epoch 1922: avg test  loss 2122.33, bar  test loss 15.056, len  test loss 0.934, col  test loss 179.502\n"
     ]
    },
    {
     "name": "stderr",
     "output_type": "stream",
     "text": [
      "Epoch 1923: 272batch [00:41,  6.58batch/s, loss=2.79e+3]\n"
     ]
    },
    {
     "name": "stdout",
     "output_type": "stream",
     "text": [
      "epoch 1923: avg train loss 2116.37, bar train loss 14.968, len train loss 0.947, col train loss 179.572\n"
     ]
    },
    {
     "name": "stderr",
     "output_type": "stream",
     "text": [
      "Epoch 1924: 0batch [00:00, ?batch/s, loss=2.08e+3]"
     ]
    },
    {
     "name": "stdout",
     "output_type": "stream",
     "text": [
      "epoch 1923: avg test  loss 2108.16, bar  test loss 15.056, len  test loss 0.934, col  test loss 179.502\n"
     ]
    },
    {
     "name": "stderr",
     "output_type": "stream",
     "text": [
      "Epoch 1924: 272batch [00:41,  6.54batch/s, loss=2.71e+3]\n"
     ]
    },
    {
     "name": "stdout",
     "output_type": "stream",
     "text": [
      "epoch 1924: avg train loss 2102.59, bar train loss 14.970, len train loss 0.947, col train loss 179.572\n"
     ]
    },
    {
     "name": "stderr",
     "output_type": "stream",
     "text": [
      "Epoch 1925: 0batch [00:00, ?batch/s, loss=2.07e+3]"
     ]
    },
    {
     "name": "stdout",
     "output_type": "stream",
     "text": [
      "epoch 1924: avg test  loss 2094.71, bar  test loss 15.056, len  test loss 0.934, col  test loss 179.502\n"
     ]
    },
    {
     "name": "stderr",
     "output_type": "stream",
     "text": [
      "Epoch 1925: 272batch [00:41,  6.55batch/s, loss=2.39e+3]\n"
     ]
    },
    {
     "name": "stdout",
     "output_type": "stream",
     "text": [
      "epoch 1925: avg train loss 2089.77, bar train loss 14.964, len train loss 0.946, col train loss 179.572\n",
      "epoch 1925: avg test  loss 2082.66, bar  test loss 15.056, len  test loss 0.934, col  test loss 179.503\n"
     ]
    },
    {
     "name": "stderr",
     "output_type": "stream",
     "text": [
      "Epoch 1926: 272batch [00:41,  6.60batch/s, loss=2.83e+3]\n"
     ]
    },
    {
     "name": "stdout",
     "output_type": "stream",
     "text": [
      "epoch 1926: avg train loss 2078.54, bar train loss 14.967, len train loss 0.948, col train loss 179.572\n"
     ]
    },
    {
     "name": "stderr",
     "output_type": "stream",
     "text": [
      "Epoch 1927: 1batch [00:00,  7.25batch/s, loss=1.96e+3]"
     ]
    },
    {
     "name": "stdout",
     "output_type": "stream",
     "text": [
      "epoch 1926: avg test  loss 2072.20, bar  test loss 15.056, len  test loss 0.934, col  test loss 179.503\n"
     ]
    },
    {
     "name": "stderr",
     "output_type": "stream",
     "text": [
      "Epoch 1927: 272batch [00:41,  6.60batch/s, loss=2.62e+3]\n"
     ]
    },
    {
     "name": "stdout",
     "output_type": "stream",
     "text": [
      "epoch 1927: avg train loss 2068.70, bar train loss 14.965, len train loss 0.947, col train loss 179.573\n"
     ]
    },
    {
     "name": "stderr",
     "output_type": "stream",
     "text": [
      "Epoch 1928: 1batch [00:00,  7.19batch/s, loss=2.02e+3]"
     ]
    },
    {
     "name": "stdout",
     "output_type": "stream",
     "text": [
      "epoch 1927: avg test  loss 2063.25, bar  test loss 15.056, len  test loss 0.934, col  test loss 179.504\n"
     ]
    },
    {
     "name": "stderr",
     "output_type": "stream",
     "text": [
      "Epoch 1928: 272batch [00:41,  6.59batch/s, loss=2.66e+3]\n"
     ]
    },
    {
     "name": "stdout",
     "output_type": "stream",
     "text": [
      "epoch 1928: avg train loss 2060.60, bar train loss 14.970, len train loss 0.947, col train loss 179.573\n"
     ]
    },
    {
     "name": "stderr",
     "output_type": "stream",
     "text": [
      "Epoch 1929: 1batch [00:00,  7.25batch/s, loss=2.03e+3]"
     ]
    },
    {
     "name": "stdout",
     "output_type": "stream",
     "text": [
      "epoch 1928: avg test  loss 2055.91, bar  test loss 15.056, len  test loss 0.934, col  test loss 179.503\n"
     ]
    },
    {
     "name": "stderr",
     "output_type": "stream",
     "text": [
      "Epoch 1929: 272batch [00:41,  6.55batch/s, loss=2.45e+3]\n"
     ]
    },
    {
     "name": "stdout",
     "output_type": "stream",
     "text": [
      "epoch 1929: avg train loss 2054.19, bar train loss 14.970, len train loss 0.946, col train loss 179.574\n"
     ]
    },
    {
     "name": "stderr",
     "output_type": "stream",
     "text": [
      "Epoch 1930: 1batch [00:00,  7.87batch/s, loss=2.03e+3]"
     ]
    },
    {
     "name": "stdout",
     "output_type": "stream",
     "text": [
      "epoch 1929: avg test  loss 2050.30, bar  test loss 15.056, len  test loss 0.934, col  test loss 179.503\n"
     ]
    },
    {
     "name": "stderr",
     "output_type": "stream",
     "text": [
      "Epoch 1930: 272batch [00:41,  6.55batch/s, loss=2.58e+3]\n"
     ]
    },
    {
     "name": "stdout",
     "output_type": "stream",
     "text": [
      "epoch 1930: avg train loss 2049.23, bar train loss 14.970, len train loss 0.947, col train loss 179.574\n",
      "epoch 1930: avg test  loss 2046.22, bar  test loss 15.056, len  test loss 0.934, col  test loss 179.504\n"
     ]
    },
    {
     "name": "stderr",
     "output_type": "stream",
     "text": [
      "Epoch 1931: 244batch [00:40,  6.08batch/s, loss=1.91e+3]\n"
     ]
    },
    {
     "ename": "KeyboardInterrupt",
     "evalue": "",
     "output_type": "error",
     "traceback": [
      "\u001b[1;31m---------------------------------------------------------------------------\u001b[0m",
      "\u001b[1;31mKeyboardInterrupt\u001b[0m                         Traceback (most recent call last)",
      "\u001b[1;32m<ipython-input-31-0517666f51ae>\u001b[0m in \u001b[0;36m<module>\u001b[1;34m\u001b[0m\n\u001b[1;32m----> 1\u001b[1;33m \u001b[0mlss\u001b[0m\u001b[1;33m,\u001b[0m \u001b[0mlss_t\u001b[0m \u001b[1;33m=\u001b[0m \u001b[0mtrain\u001b[0m\u001b[1;33m(\u001b[0m\u001b[0mdefault_args\u001b[0m\u001b[1;33m,\u001b[0m \u001b[0mtrain_loader\u001b[0m\u001b[1;33m,\u001b[0m \u001b[0mtest_loader\u001b[0m\u001b[1;33m,\u001b[0m \u001b[0mdiva\u001b[0m\u001b[1;33m,\u001b[0m \u001b[0moptimizer\u001b[0m\u001b[1;33m,\u001b[0m \u001b[1;36m2000\u001b[0m\u001b[1;33m,\u001b[0m \u001b[1;36m908\u001b[0m\u001b[1;33m,\u001b[0m \u001b[0msave_folder\u001b[0m\u001b[1;33m=\u001b[0m\u001b[1;34m\"VAE10\"\u001b[0m\u001b[1;33m,\u001b[0m\u001b[0msave_interval\u001b[0m\u001b[1;33m=\u001b[0m\u001b[1;36m5\u001b[0m\u001b[1;33m)\u001b[0m\u001b[1;33m\u001b[0m\u001b[1;33m\u001b[0m\u001b[0m\n\u001b[0m",
      "\u001b[1;32m<ipython-input-20-678b6b337219>\u001b[0m in \u001b[0;36mtrain\u001b[1;34m(args, train_loader, test_loader, diva, optimizer, end_epoch, start_epoch, save_folder, save_interval)\u001b[0m\n\u001b[0;32m      8\u001b[0m         \u001b[1;32mif\u001b[0m \u001b[0mepoch\u001b[0m\u001b[1;33m<\u001b[0m \u001b[0margs\u001b[0m\u001b[1;33m.\u001b[0m\u001b[0mprewarmup\u001b[0m\u001b[1;33m:\u001b[0m\u001b[1;33m\u001b[0m\u001b[1;33m\u001b[0m\u001b[0m\n\u001b[0;32m      9\u001b[0m             \u001b[0mdiva\u001b[0m\u001b[1;33m.\u001b[0m\u001b[0mbeta\u001b[0m \u001b[1;33m=\u001b[0m \u001b[0margs\u001b[0m\u001b[1;33m.\u001b[0m\u001b[0mbeta\u001b[0m\u001b[1;33m/\u001b[0m\u001b[0margs\u001b[0m\u001b[1;33m.\u001b[0m\u001b[0mprewarmup\u001b[0m\u001b[1;33m\u001b[0m\u001b[1;33m\u001b[0m\u001b[0m\n\u001b[1;32m---> 10\u001b[1;33m         \u001b[0mtrain_loss\u001b[0m\u001b[1;33m,\u001b[0m \u001b[0mavg_loss_bar\u001b[0m\u001b[1;33m,\u001b[0m \u001b[0mavg_loss_len\u001b[0m\u001b[1;33m,\u001b[0m \u001b[0mavg_loss_col\u001b[0m\u001b[1;33m,\u001b[0m \u001b[0mmtr\u001b[0m\u001b[1;33m,\u001b[0m \u001b[0matr\u001b[0m \u001b[1;33m=\u001b[0m \u001b[0mtrain_single_epoch\u001b[0m\u001b[1;33m(\u001b[0m\u001b[0mtrain_loader\u001b[0m\u001b[1;33m,\u001b[0m \u001b[0mdiva\u001b[0m\u001b[1;33m,\u001b[0m \u001b[0moptimizer\u001b[0m\u001b[1;33m,\u001b[0m \u001b[0mepoch\u001b[0m\u001b[1;33m)\u001b[0m\u001b[1;33m\u001b[0m\u001b[1;33m\u001b[0m\u001b[0m\n\u001b[0m\u001b[0;32m     11\u001b[0m         \u001b[0mstr_loss_sup\u001b[0m \u001b[1;33m=\u001b[0m \u001b[0mtrain_loss\u001b[0m\u001b[1;33m\u001b[0m\u001b[1;33m\u001b[0m\u001b[0m\n\u001b[0;32m     12\u001b[0m         \u001b[0mepoch_loss_sup\u001b[0m\u001b[1;33m.\u001b[0m\u001b[0mappend\u001b[0m\u001b[1;33m(\u001b[0m\u001b[0mtrain_loss\u001b[0m\u001b[1;33m)\u001b[0m\u001b[1;33m\u001b[0m\u001b[1;33m\u001b[0m\u001b[0m\n",
      "\u001b[1;32m<ipython-input-18-3884de941f16>\u001b[0m in \u001b[0;36mtrain_single_epoch\u001b[1;34m(train_loader, model, optimizer, epoch)\u001b[0m\n\u001b[0;32m     23\u001b[0m         \u001b[0mtrain_loss\u001b[0m \u001b[1;33m+=\u001b[0m \u001b[0mloss\u001b[0m\u001b[1;33m\u001b[0m\u001b[1;33m\u001b[0m\u001b[0m\n\u001b[0;32m     24\u001b[0m         \u001b[0mepoch_bar_loss\u001b[0m \u001b[1;33m+=\u001b[0m \u001b[0mbar_loss\u001b[0m\u001b[1;33m\u001b[0m\u001b[1;33m\u001b[0m\u001b[0m\n\u001b[1;32m---> 25\u001b[1;33m         \u001b[0mepoch_col_loss\u001b[0m \u001b[1;33m+=\u001b[0m \u001b[0mcol_loss\u001b[0m\u001b[1;33m\u001b[0m\u001b[1;33m\u001b[0m\u001b[0m\n\u001b[0m\u001b[0;32m     26\u001b[0m         \u001b[0mepoch_len_loss\u001b[0m \u001b[1;33m+=\u001b[0m \u001b[0mlen_loss\u001b[0m\u001b[1;33m\u001b[0m\u001b[1;33m\u001b[0m\u001b[0m\n\u001b[0;32m     27\u001b[0m         \u001b[0mmse_bar\u001b[0m \u001b[1;33m+=\u001b[0m \u001b[0mmse\u001b[0m\u001b[1;33m\u001b[0m\u001b[1;33m\u001b[0m\u001b[0m\n",
      "\u001b[1;31mKeyboardInterrupt\u001b[0m: "
     ]
    }
   ],
   "source": [
    "lss, lss_t = train(default_args, train_loader, test_loader, diva, optimizer, 2000, 908, save_folder=\"VAE10\",save_interval=5)"
   ]
  },
  {
   "cell_type": "code",
   "execution_count": null,
   "metadata": {
    "colab": {
     "base_uri": "https://localhost:8080/",
     "height": 1000
    },
    "executionInfo": {
     "elapsed": 4182003,
     "status": "ok",
     "timestamp": 1647010362327,
     "user": {
      "displayName": "Marko Petkovic",
      "photoUrl": "https://lh3.googleusercontent.com/a-/AOh14Gijd0e9r3I1vRZVN6DEwl16XpJxxS1oSAKunOnfZQ=s64",
      "userId": "11987583535390684770"
     },
     "user_tz": -60
    },
    "id": "NprX9l7G73MJ",
    "outputId": "e970b2ef-1d7d-4702-dd1f-3bb4b59c0326"
   },
   "outputs": [],
   "source": [
    "lss2, lss_t2 = train(default_args, train_loader, test_loader, diva, optimizer, 3500, 2000, save_folder=\"VAE10\")"
   ]
  },
  {
   "cell_type": "code",
   "execution_count": null,
   "metadata": {},
   "outputs": [],
   "source": [
    "lss, lss_t = train(default_args, train_loader, test_loader, diva, optimizer, 5600, 2200, save_folder=\"VAE4\")"
   ]
  },
  {
   "cell_type": "code",
   "execution_count": null,
   "metadata": {
    "id": "c4r_UyPUGXqT"
   },
   "outputs": [],
   "source": [
    "def plot_loss_acc(lss, lss_t):\n",
    "    fig,ax = plt.subplots()\n",
    "    ax.plot(lss, label=\"train loss\")\n",
    "    ax.plot(lss_t, label = \"test loss\")\n",
    "    #ax1 = ax.twinx()\n",
    "    #ax1.plot(yacc, label = \"train accuracy\", ls='--')\n",
    "    #ax1.plot(yacc_t, label = \"test accuracy\", ls='--')\n",
    "\n",
    "    lines, labels = ax.get_legend_handles_labels()\n",
    "    #lines2, labels2 = ax1.get_legend_handles_labels()\n",
    "\n",
    "    ax.legend(lines, labels)"
   ]
  },
  {
   "cell_type": "code",
   "execution_count": null,
   "metadata": {
    "colab": {
     "base_uri": "https://localhost:8080/",
     "height": 266
    },
    "executionInfo": {
     "elapsed": 857,
     "status": "ok",
     "timestamp": 1645822416415,
     "user": {
      "displayName": "Marko Petkovic",
      "photoUrl": "https://lh3.googleusercontent.com/a-/AOh14Gijd0e9r3I1vRZVN6DEwl16XpJxxS1oSAKunOnfZQ=s64",
      "userId": "11987583535390684770"
     },
     "user_tz": -60
    },
    "id": "fTFZZmoguwtU",
    "outputId": "540c8c1f-99d7-4931-c102-7c96747243aa"
   },
   "outputs": [],
   "source": [
    "plot_loss_acc(lss, lss_t)"
   ]
  },
  {
   "cell_type": "code",
   "execution_count": null,
   "metadata": {
    "colab": {
     "base_uri": "https://localhost:8080/",
     "height": 265
    },
    "executionInfo": {
     "elapsed": 557,
     "status": "ok",
     "timestamp": 1645623855467,
     "user": {
      "displayName": "Marko Petkovic",
      "photoUrl": "https://lh3.googleusercontent.com/a/default-user=s64",
      "userId": "04006351469182865246"
     },
     "user_tz": -60
    },
    "id": "mq2FG26TznE1",
    "outputId": "152eddd3-a440-4b25-c437-498efb0a7ffe"
   },
   "outputs": [],
   "source": [
    "plot_loss_acc(lss3, lss_t3, yacc3, yacc_t3)"
   ]
  },
  {
   "cell_type": "code",
   "execution_count": null,
   "metadata": {
    "id": "9FyP02qPdgso"
   },
   "outputs": [],
   "source": [
    "def plot_change_latent_var(diva, lat_space=\"y\", var_idx=[0,1,2,3,4,5,6,7], step = 5):\n",
    "    a = next(enumerate(test_loader))\n",
    "    with torch.no_grad():\n",
    "        diva.eval()\n",
    "        d = a[1][2][:len(var_idx)].to(DEVICE).float()\n",
    "        x = a[1][0][:len(var_idx)].to(DEVICE).float()\n",
    "        y = a[1][1][:len(var_idx)].to(DEVICE).float()\n",
    "\n",
    "        zx, zx_sc = diva.qzx(x)\n",
    "        zy, zy_sc = diva.qzy(x)\n",
    "        zd, zd_sc =  diva.qzd(x)\n",
    "\n",
    "        print(torch.max(zy), torch.min(zy), \"sdmax:\", torch.max(zy_sc))\n",
    "\n",
    "        out = change(zx, zy, zd, var_idx, lat_space, diva, step)\n",
    "    \n",
    "    fig, ax = plt.subplots(ncols=out.shape[0],nrows=len(var_idx),figsize=(10*4*out.shape[0],10*len(var_idx)))\n",
    "    for i in range(out.shape[0]):\n",
    "      for j in range(len(var_idx)):\n",
    "        ax[j,i].imshow(out[i,j])"
   ]
  },
  {
   "cell_type": "code",
   "execution_count": null,
   "metadata": {
    "id": "x6kJu1APenFe"
   },
   "outputs": [],
   "source": [
    "def change(zx, zy, zd, idx, lat = \"y\", model=diva, step = 2):\n",
    "    \n",
    "    dif = np.arange(-30,15,step)\n",
    "    print(torch.max(zy), torch.min(zy))\n",
    "    out = np.zeros((dif.shape[0], len(idx), 25, 100 ,3))  \n",
    "    #print(zy.shape, dif.shape[0])\n",
    "    for i in range(dif.shape[0]):\n",
    "      for j in range(len(idx)):\n",
    "        if lat == \"y\":\n",
    "            zy[j,idx] = dif[i]\n",
    "        elif lat == \"x\":\n",
    "            zx[j,idx] = dif[i]\n",
    "        elif lat == \"d\":\n",
    "            zd[j,idx] = dif[i]\n",
    "        len_, bar, col = model.px(zd[j],zx[j],zy[j])\n",
    "        out[i,j] = model.px.reconstruct_image(len_[None,:], bar, col)\n",
    "    \n",
    "    return out\n",
    "\n"
   ]
  },
  {
   "cell_type": "code",
   "execution_count": null,
   "metadata": {
    "colab": {
     "base_uri": "https://localhost:8080/",
     "height": 243
    },
    "executionInfo": {
     "elapsed": 33513,
     "status": "ok",
     "timestamp": 1645623900042,
     "user": {
      "displayName": "Marko Petkovic",
      "photoUrl": "https://lh3.googleusercontent.com/a/default-user=s64",
      "userId": "04006351469182865246"
     },
     "user_tz": -60
    },
    "id": "4U1JHmTKh0cE",
    "outputId": "b0a1850e-9f0d-4163-813b-8686f4bb05fc"
   },
   "outputs": [],
   "source": [
    "plot_change_latent_var(diva)"
   ]
  },
  {
   "cell_type": "code",
   "execution_count": null,
   "metadata": {
    "id": "cpZoRZMGHcui"
   },
   "outputs": [],
   "source": [
    "fig,ax = plt.subplots()\n",
    "ax.plot(np.arange(50,120), [i.cpu().detach().numpy() for i in lss2], label=\"train loss\")\n",
    "ax.plot(np.arange(50,120), [i.cpu().detach().numpy() for i in lss_t2], label = \"testloss\")\n",
    "ax1 = ax.twinx()\n",
    "ax1.plot(np.arange(50,120), yacc2, label = \"train\")\n",
    "ax1.plot(np.arange(50,120), yacc_t2, label = \"test\")\n",
    "\n",
    "plt.legend()"
   ]
  },
  {
   "cell_type": "code",
   "execution_count": null,
   "metadata": {
    "colab": {
     "base_uri": "https://localhost:8080/",
     "height": 283
    },
    "executionInfo": {
     "elapsed": 681,
     "status": "ok",
     "timestamp": 1645563980004,
     "user": {
      "displayName": "Marko Petkovic",
      "photoUrl": "https://lh3.googleusercontent.com/a-/AOh14Gijd0e9r3I1vRZVN6DEwl16XpJxxS1oSAKunOnfZQ=s64",
      "userId": "11987583535390684770"
     },
     "user_tz": -60
    },
    "id": "OQMW85JXM6oO",
    "outputId": "dd28a6c2-0024-498e-d571-c705ee67fbd6"
   },
   "outputs": [],
   "source": [
    "fig,ax = plt.subplots()\n",
    "ax.plot(np.arange(120,180), [i.cpu().detach().numpy() for i in lss3], label=\"train loss\")\n",
    "ax.plot(np.arange(120,180), [i.cpu().detach().numpy() for i in lss_t3], label = \"testloss\")\n",
    "ax1 = ax.twinx()\n",
    "ax1.plot(np.arange(120,180), yacc3, label = \"train\",c='green')\n",
    "ax1.plot(np.arange(120,180), yacc_t3, label = \"test\")\n",
    "\n",
    "plt.legend()"
   ]
  },
  {
   "cell_type": "markdown",
   "metadata": {
    "id": "whsgNltzXDhK"
   },
   "source": [
    "# Model Evaluation"
   ]
  },
  {
   "cell_type": "markdown",
   "metadata": {
    "id": "VfcwhSNIjqIE"
   },
   "source": [
    "## Sampling from trained model"
   ]
  },
  {
   "cell_type": "code",
   "execution_count": null,
   "metadata": {
    "id": "4NWGV4Xd7bn8"
   },
   "outputs": [],
   "source": []
  },
  {
   "cell_type": "code",
   "execution_count": null,
   "metadata": {
    "id": "3z5XA4QI1Mb1"
   },
   "outputs": [],
   "source": [
    "def plot_latent_space(lat_space=\"y\"):\n",
    "    '''\n",
    "    lat_space: y, d, x\n",
    "    '''\n",
    "\n",
    "    "
   ]
  },
  {
   "cell_type": "code",
   "execution_count": null,
   "metadata": {
    "colab": {
     "base_uri": "https://localhost:8080/",
     "height": 336
    },
    "executionInfo": {
     "elapsed": 1897,
     "status": "ok",
     "timestamp": 1645556291755,
     "user": {
      "displayName": "Marko Petkovic",
      "photoUrl": "https://lh3.googleusercontent.com/a-/AOh14Gijd0e9r3I1vRZVN6DEwl16XpJxxS1oSAKunOnfZQ=s64",
      "userId": "11987583535390684770"
     },
     "user_tz": -60
    },
    "id": "USZ7nIDugT1S",
    "outputId": "174d53bb-845f-458b-ca85-9d749c9c0865"
   },
   "outputs": [],
   "source": [
    "plot(x, out, 0)"
   ]
  },
  {
   "cell_type": "code",
   "execution_count": null,
   "metadata": {
    "colab": {
     "base_uri": "https://localhost:8080/",
     "height": 230
    },
    "executionInfo": {
     "elapsed": 1646,
     "status": "ok",
     "timestamp": 1645550689935,
     "user": {
      "displayName": "Marko Petkovic",
      "photoUrl": "https://lh3.googleusercontent.com/a-/AOh14Gijd0e9r3I1vRZVN6DEwl16XpJxxS1oSAKunOnfZQ=s64",
      "userId": "11987583535390684770"
     },
     "user_tz": -60
    },
    "id": "OE3qVVFFLaPm",
    "outputId": "93953e16-3bda-464b-b765-3aedb9fbe428"
   },
   "outputs": [],
   "source": [
    "fig, ax = plt.subplots(nrows=3, ncols=3)\n",
    "for i in range(9):\n",
    "  ax[i//3, i%3].imshow(x[i].cpu().permute(1,2,0))\n",
    "  \n",
    "plt.savefig('divastamporg.png')"
   ]
  },
  {
   "cell_type": "code",
   "execution_count": null,
   "metadata": {
    "id": "RRQU05xQEx28"
   },
   "outputs": [],
   "source": []
  }
 ],
 "metadata": {
  "accelerator": "GPU",
  "colab": {
   "collapsed_sections": [],
   "name": "StampVAE (Beta)",
   "provenance": []
  },
  "kernelspec": {
   "display_name": "Python 3",
   "language": "python",
   "name": "python3"
  },
  "language_info": {
   "codemirror_mode": {
    "name": "ipython",
    "version": 3
   },
   "file_extension": ".py",
   "mimetype": "text/x-python",
   "name": "python",
   "nbconvert_exporter": "python",
   "pygments_lexer": "ipython3",
   "version": "3.7.6"
  }
 },
 "nbformat": 4,
 "nbformat_minor": 1
}
