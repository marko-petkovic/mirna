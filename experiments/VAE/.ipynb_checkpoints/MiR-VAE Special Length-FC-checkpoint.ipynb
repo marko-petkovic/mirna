{
 "cells": [
  {
   "cell_type": "code",
   "execution_count": 1,
   "metadata": {
    "executionInfo": {
     "elapsed": 6,
     "status": "ok",
     "timestamp": 1647023261840,
     "user": {
      "displayName": "Marko Petkovic",
      "photoUrl": "https://lh3.googleusercontent.com/a-/AOh14Gijd0e9r3I1vRZVN6DEwl16XpJxxS1oSAKunOnfZQ=s64",
      "userId": "11987583535390684770"
     },
     "user_tz": -60
    },
    "id": "UuXEtFCubCjx"
   },
   "outputs": [],
   "source": [
    "link = 'D:/users/Marko/downloads/mirna/'"
   ]
  },
  {
   "cell_type": "markdown",
   "metadata": {
    "id": "MgMR4QspjvRl"
   },
   "source": [
    "# Imports"
   ]
  },
  {
   "cell_type": "code",
   "execution_count": 2,
   "metadata": {
    "executionInfo": {
     "elapsed": 5,
     "status": "ok",
     "timestamp": 1647023261840,
     "user": {
      "displayName": "Marko Petkovic",
      "photoUrl": "https://lh3.googleusercontent.com/a-/AOh14Gijd0e9r3I1vRZVN6DEwl16XpJxxS1oSAKunOnfZQ=s64",
      "userId": "11987583535390684770"
     },
     "user_tz": -60
    },
    "id": "aXljY6Cp4zU-"
   },
   "outputs": [],
   "source": [
    "%load_ext tensorboard"
   ]
  },
  {
   "cell_type": "code",
   "execution_count": 3,
   "metadata": {
    "colab": {
     "base_uri": "https://localhost:8080/"
    },
    "executionInfo": {
     "elapsed": 31000,
     "status": "ok",
     "timestamp": 1647023292835,
     "user": {
      "displayName": "Marko Petkovic",
      "photoUrl": "https://lh3.googleusercontent.com/a-/AOh14Gijd0e9r3I1vRZVN6DEwl16XpJxxS1oSAKunOnfZQ=s64",
      "userId": "11987583535390684770"
     },
     "user_tz": -60
    },
    "id": "VgKU5wNzDK4F",
    "outputId": "2edd95bf-9577-4772-eeca-95c5d32cf026"
   },
   "outputs": [],
   "source": [
    "import sys\n",
    "#sys.path.insert(0,'/content/drive/MyDrive/Marko/master')\n",
    "sys.path.insert(0, link)\n",
    "import numpy as np\n",
    "import matplotlib.pyplot as plt\n",
    "\n",
    "#import tensorflow as tf\n",
    "\n",
    "import torch\n",
    "import torch.optim as optim\n",
    "import torch.nn as nn\n",
    "import torch.distributions as dist\n",
    "\n",
    "from torch.nn import functional as F\n",
    "from torchinfo import summary\n",
    "from torch.utils.tensorboard import SummaryWriter\n",
    "from torch.utils.data import Dataset, DataLoader\n",
    "\n",
    "from sklearn.preprocessing import OneHotEncoder\n",
    "\n",
    "from tqdm import tqdm\n",
    "from tqdm import trange\n",
    "\n",
    "import datetime\n",
    "\n",
    "\n",
    "writer = SummaryWriter(f\"{link}/saved_models/VAEFC/tensorboard\")"
   ]
  },
  {
   "cell_type": "code",
   "execution_count": 4,
   "metadata": {
    "executionInfo": {
     "elapsed": 6,
     "status": "ok",
     "timestamp": 1647023292836,
     "user": {
      "displayName": "Marko Petkovic",
      "photoUrl": "https://lh3.googleusercontent.com/a-/AOh14Gijd0e9r3I1vRZVN6DEwl16XpJxxS1oSAKunOnfZQ=s64",
      "userId": "11987583535390684770"
     },
     "user_tz": -60
    },
    "id": "HuLsYxyh6_ZM"
   },
   "outputs": [],
   "source": [
    "DEVICE = torch.device(\"cuda\" if torch.cuda.is_available() else \"cpu\")"
   ]
  },
  {
   "cell_type": "code",
   "execution_count": 5,
   "metadata": {},
   "outputs": [
    {
     "data": {
      "text/plain": [
       "device(type='cuda')"
      ]
     },
     "execution_count": 5,
     "metadata": {},
     "output_type": "execute_result"
    }
   ],
   "source": [
    "DEVICE"
   ]
  },
  {
   "cell_type": "markdown",
   "metadata": {
    "id": "axFkNf0cjx2V"
   },
   "source": [
    "# Model Classes"
   ]
  },
  {
   "cell_type": "code",
   "execution_count": 6,
   "metadata": {
    "executionInfo": {
     "elapsed": 6,
     "status": "ok",
     "timestamp": 1647023292836,
     "user": {
      "displayName": "Marko Petkovic",
      "photoUrl": "https://lh3.googleusercontent.com/a-/AOh14Gijd0e9r3I1vRZVN6DEwl16XpJxxS1oSAKunOnfZQ=s64",
      "userId": "11987583535390684770"
     },
     "user_tz": -60
    },
    "id": "ae7NZhZGj7Zi"
   },
   "outputs": [],
   "source": [
    "class diva_args:\n",
    "\n",
    "    def __init__(self, z_dim=64, d_dim=45, x_dim=7500, y_dim=2,\n",
    "                 beta=10, rec_alpha = 1, rec_beta = 1, \n",
    "                 rec_gamma = 1, warmup = 1, prewarmup = 1):\n",
    "\n",
    "        self.z_dim = z_dim\n",
    "        self.d_dim = d_dim\n",
    "        self.x_dim = x_dim\n",
    "        self.y_dim = y_dim\n",
    "        \n",
    "        self.beta = beta\n",
    "        self.rec_alpha = rec_alpha\n",
    "        self.rec_beta = rec_beta\n",
    "        self.rec_gamma = rec_gamma\n",
    "        self.warmup = warmup\n",
    "        self.prewarmup = prewarmup\n"
   ]
  },
  {
   "cell_type": "markdown",
   "metadata": {
    "id": "tb1vH-a1j7Rf"
   },
   "source": [
    "## Dataset Class"
   ]
  },
  {
   "cell_type": "code",
   "execution_count": 7,
   "metadata": {
    "executionInfo": {
     "elapsed": 328,
     "status": "ok",
     "timestamp": 1647023293159,
     "user": {
      "displayName": "Marko Petkovic",
      "photoUrl": "https://lh3.googleusercontent.com/a-/AOh14Gijd0e9r3I1vRZVN6DEwl16XpJxxS1oSAKunOnfZQ=s64",
      "userId": "11987583535390684770"
     },
     "user_tz": -60
    },
    "id": "D6ouvuZX3WPs"
   },
   "outputs": [],
   "source": [
    "class MicroRNADataset(Dataset):\n",
    "\n",
    "    def __init__(self, ds='train', create_encodings=False, use_subset=False):\n",
    "        \n",
    "        # loading images\n",
    "        self.images = np.load(f'{link}/data/modmirbase_{ds}_images.npz')['arr_0']/255\n",
    "        \n",
    "        \n",
    "        # loading labels\n",
    "        print('Loading Labels! (~10s)')     \n",
    "        ohe = OneHotEncoder(categories='auto', sparse=False)\n",
    "        labels = np.load(f'{link}/data/modmirbase_{ds}_labels.npz')['arr_0']\n",
    "        self.labels = ohe.fit_transform(labels)\n",
    "        \n",
    "        # loading encoded images\n",
    "        print(\"loading encodings\")\n",
    "        if create_encodings:\n",
    "            x_len, x_col, x_bar = self.get_encoded_values(self.images, ds)\n",
    "        else:\n",
    "            x_len = np.load(f'{link}/data/modmirbase_{ds}_images_len2.npz')\n",
    "            x_bar = np.load(f'{link}/data/modmirbase_{ds}_images_bar2.npz')\n",
    "            x_col = np.load(f'{link}/data/modmirbase_{ds}_images_col2.npz')\n",
    "        \n",
    "        self.x_len = x_len\n",
    "        self.x_bar = x_bar\n",
    "        self.x_col = x_col\n",
    "        \n",
    "\n",
    "        # loading names\n",
    "        print('Loading Names! (~5s)')\n",
    "        names =  np.load(f'{link}/data/modmirbase_{ds}_names.npz')['arr_0']\n",
    "        names = [i.decode('utf-8') for i in names]\n",
    "        self.species = ['mmu', 'prd', 'hsa', 'ptr', 'efu', 'cbn', 'gma', 'pma',\n",
    "                        'cel', 'gga', 'ipu', 'ptc', 'mdo', 'cgr', 'bta', 'cin', \n",
    "                        'ppy', 'ssc', 'ath', 'cfa', 'osa', 'mtr', 'gra', 'mml',\n",
    "                        'stu', 'bdi', 'rno', 'oan', 'dre', 'aca', 'eca', 'chi',\n",
    "                        'bmo', 'ggo', 'aly', 'dps', 'mdm', 'ame', 'ppc', 'ssa',\n",
    "                        'ppt', 'tca', 'dme', 'sbi']\n",
    "        # assigning a species label to each observation from species\n",
    "        # with more than 200 observations from past research\n",
    "        self.names = []\n",
    "        for i in names:\n",
    "            append = False\n",
    "            for j in self.species:\n",
    "                if j in i.lower():\n",
    "                    self.names.append(j)\n",
    "                    append = True\n",
    "                    break\n",
    "            if not append:\n",
    "                if 'random' in i.lower() or i.isdigit():\n",
    "                    self.names.append('hsa')\n",
    "                else:\n",
    "                    self.names.append('notfound')\n",
    "        \n",
    "        # performing one hot encoding\n",
    "        ohe = OneHotEncoder(categories='auto', sparse=False)\n",
    "        \n",
    "       \n",
    "        \n",
    "        self.names_ohe = ohe.fit_transform(np.array(self.names).reshape(-1,1))\n",
    "          \n",
    "        if use_subset:    \n",
    "            idxes = [i == 'hsa' and np.random.choice([True, False]) for i in self.names]\n",
    "            self.names_ohe = self.names_ohe[idxes]\n",
    "            self.labels = self.labels[idxes]\n",
    "            self.images = self.images[idxes]\n",
    "            self.x_len = self.x_len[idxes]\n",
    "            self.x_col = self.x_col[idxes]\n",
    "            self.x_bar = self.x_bar[idxes]\n",
    "\n",
    "    \n",
    "    def __len__(self):\n",
    "        return(self.images.shape[0])\n",
    "\n",
    "    def __getitem__(self, idx):\n",
    "        d = self.names_ohe[idx]\n",
    "        y = self.labels[idx]\n",
    "        x = self.images[idx]\n",
    "        x = np.transpose(x, (2,0,1))\n",
    "        x_len = self.x_len[idx]\n",
    "        x_col = self.x_col[idx]\n",
    "        x_bar = self.x_bar[idx]\n",
    "        return (x, y, d, x_len, x_col, x_bar)\n",
    "\n",
    "\n",
    "    def get_encoded_values(self, x, ds):\n",
    "        \"\"\"\n",
    "        given an image or batch of images\n",
    "        returns length of strand, length of bars and colors of bars\n",
    "        \"\"\"\n",
    "        n = x.shape[0]\n",
    "        x = np.transpose(x, (0,3,1,2))\n",
    "        out_len = np.zeros((n), dtype=np.uint8)\n",
    "        out_col = np.zeros((n,5,200), dtype=np.uint8)\n",
    "        out_bar = np.zeros((n,2,100), dtype=np.uint8)\n",
    "\n",
    "        for i in range(n):\n",
    "            if i % 100 == 0:\n",
    "                print(f'at {i} out of {n}')\n",
    "            rna_len = 0\n",
    "            broke = False\n",
    "            for j in range(100):\n",
    "                if (x[i,:,12,j] == np.array([1,1,1])).all():\n",
    "                    out_len[i] = rna_len\n",
    "                    broke = True\n",
    "                    break\n",
    "                else:\n",
    "                    rna_len += 1\n",
    "                    # check color of bars\n",
    "                    out_col[i, self.get_color(x[i,:,12,j]) ,2*j] = 1 \n",
    "                    out_col[i, self.get_color(x[i,:,13,j]), 2*j+1] = 1\n",
    "                    # check length of bars\n",
    "                    len1 = 0\n",
    "                    # loop until white pixel\n",
    "                    while not (x[i,:,12-len1,j] == np.array([1.,1.,1.])).all():\n",
    "                        len1 += 1\n",
    "                        if 13-len1 == 0:\n",
    "                            break\n",
    "                    out_bar[i, 0, j] = len1\n",
    "\n",
    "                    len2 = 0\n",
    "                    while not (x[i,:,13+len2,j] == np.array([1.,1.,1.])).all():\n",
    "                        len2 += 1\n",
    "                        if 13+len2 == 25:\n",
    "                            break\n",
    "                    out_bar[i, 1, j] = len2\n",
    "            if not broke:\n",
    "                out_len[i] = rna_len\n",
    "\n",
    "\n",
    "        with open(f'{link}/data/modmirbase_{ds}_images_len2.npz', 'wb') as f:\n",
    "            np.save(f, out_len)\n",
    "        with open(f'{link}/data/modmirbase_{ds}_images_col2.npz', 'wb') as f:\n",
    "            np.save(f, out_col)\n",
    "        with open(f'{link}/data/modmirbase_{ds}_images_bar2.npz', 'wb') as f:\n",
    "            np.save(f, out_bar)\n",
    "        \n",
    "\n",
    "        return out_len, out_bar, out_col\n",
    "\n",
    "    def get_color(self, pixel):\n",
    "        \"\"\"\n",
    "        returns the encoded value for a pixel\n",
    "        \"\"\"\n",
    "        if (pixel == np.array([0,0,0])).all():  \n",
    "            return 0 # black\n",
    "        elif (pixel == np.array([1,0,0])).all():  \n",
    "            return 1 # red\n",
    "        elif (pixel == np.array([0,0,1])).all():  \n",
    "            return 2 # blue\n",
    "        elif (pixel == np.array([0,1,0])).all():  \n",
    "            return 3 # green\n",
    "        elif (pixel == np.array([1,1,0])).all():  \n",
    "            return 4 # yellow\n",
    "        else:\n",
    "            print(\"Something wrong!\")\n"
   ]
  },
  {
   "cell_type": "markdown",
   "metadata": {
    "id": "Xxj-WGXMj-Ne"
   },
   "source": [
    "## Decoder classes"
   ]
  },
  {
   "cell_type": "code",
   "execution_count": 8,
   "metadata": {
    "executionInfo": {
     "elapsed": 5,
     "status": "ok",
     "timestamp": 1647023293160,
     "user": {
      "displayName": "Marko Petkovic",
      "photoUrl": "https://lh3.googleusercontent.com/a-/AOh14Gijd0e9r3I1vRZVN6DEwl16XpJxxS1oSAKunOnfZQ=s64",
      "userId": "11987583535390684770"
     },
     "user_tz": -60
    },
    "id": "RKizJuchX9uG"
   },
   "outputs": [],
   "source": [
    "# Decoders\n",
    "class px(nn.Module):\n",
    "    def __init__(self, d_dim, x_dim, y_dim, z_dim, dim1=2000, dim2=1600):\n",
    "        super(px, self).__init__()\n",
    "\n",
    "        self.fc1 = nn.Sequential(nn.Linear(z_dim, dim1, bias=False),  \n",
    "                                 nn.ReLU())\n",
    "        \n",
    "        self.fc2 = nn.Sequential(nn.Linear(dim1, dim2, bias=False),  \n",
    "                                 nn.ReLU())\n",
    "        \n",
    "        # Predicting length and color of each bar\n",
    "        \n",
    "        # Predicting color of each bar\n",
    "        self.color_bar_black = nn.Linear(dim2,200)\n",
    "        self.color_bar_reddd = nn.Linear(dim2,200)\n",
    "        self.color_bar_bluee = nn.Linear(dim2,200)\n",
    "        self.color_bar_green = nn.Linear(dim2,200)\n",
    "        self.color_bar_yelow = nn.Linear(dim2,200)\n",
    "        \n",
    "        # Predicting the length of each bar\n",
    "        self.length_bar_top = nn.Sequential(nn.Linear(dim2,100), nn.Softplus())\n",
    "        self.length_bar_bot = nn.Sequential(nn.Linear(dim2,100), nn.Softplus())\n",
    "        #self.length_bar_scale = nn.Sequential(nn.Conv1d(100, 1, kernel_size = 3, padding = 'same', bias=False), nn.Sigmoid())\n",
    "        \n",
    "        # Predicting length of the RNA strand\n",
    "        self.length_RNA = nn.Sequential(nn.Linear(dim2,400), nn.ReLU(),nn.Linear(400,1), nn.Softplus())\n",
    "        #self.length_RNA_scale = nn.Sequential(nn.Linear(400,1, bias=False), nn.Sigmoid())\n",
    "        \n",
    "    def forward(self, z):\n",
    "        \n",
    "        h = self.fc1(z)\n",
    "        h = self.fc2(h)\n",
    "        \n",
    "        len_RNA = self.length_RNA(h)\n",
    "        \n",
    "        len_RNA_sc = nn.Parameter(torch.tensor([1.])).to(DEVICE)\n",
    "        #len_RNA_sc = torch.exp(self.length_RNA_scale(h))\n",
    "        \n",
    "        \n",
    "        len_bar = torch.cat([self.length_bar_top(h)[:,None,:],self.length_bar_bot(h)[:,None,:]], dim=1) \n",
    "        len_bar_sc = nn.Parameter(torch.tensor([1.])).to(DEVICE)\n",
    "        #len_bar_sc = torch.exp(self.length_bar_scale(h))\n",
    "        \n",
    "        \n",
    "        black = self.color_bar_black(h)[:,None,:]\n",
    "        reddd = self.color_bar_reddd(h)[:,None,:]\n",
    "        bluee = self.color_bar_bluee(h)[:,None,:]\n",
    "        green = self.color_bar_green(h)[:,None,:]\n",
    "        yelow = self.color_bar_yelow(h)[:,None,:]\n",
    "        \n",
    "        col = torch.cat([black,reddd,bluee,green,yelow], dim=1)\n",
    "        \n",
    "        col_bar = nn.Softmax(dim=1)(col)\n",
    "        \n",
    "        return len_RNA, len_RNA_sc, len_bar, len_bar_sc, col_bar\n",
    "\n",
    "    def reconstruct_image(self, len_RNA, var_RNA, len_bar, var_bar ,col_bar, sample=False):\n",
    "        \"\"\"\n",
    "        reconstructs RNA image given output from decoder\n",
    "        even indexes of len_bar and col_bar   -> top\n",
    "        uneven indexes of len_bar and col_bar -> bottom\n",
    "        function does not support sampling yet\n",
    "        color reconstructions: 0: black\n",
    "                               1: red\n",
    "                               2: blue\n",
    "                               3: green\n",
    "                               4: yellow\n",
    "        \"\"\"\n",
    "        color_dict = {\n",
    "                  0: np.array([0,0,0]), # black\n",
    "                  1: np.array([1,0,0]), # red\n",
    "                  3: np.array([0,1,0]), # green\n",
    "                  2: np.array([0,0,1]), # blue\n",
    "                  4: np.array([1,1,0])  # yellow\n",
    "                  }\n",
    "    \n",
    "        \n",
    "        len_RNA = len_RNA.cpu().numpy()\n",
    "        var_RNA = var_RNA.cpu().numpy()\n",
    "        #.reshape((100,))\n",
    "        len_bar = len_bar.cpu().numpy()\n",
    "        var_bar = var_bar.cpu().numpy()\n",
    "        col_bar = col_bar.cpu().numpy()\n",
    "        n = len_RNA.shape[0]\n",
    "        output = np.ones((n,25,100,3))\n",
    "\n",
    "        for i in range(n):\n",
    "            if sample:\n",
    "                limit = int(np.round(np.random.normal(loc=len_RNA[i], scale=var_RNA[i])))\n",
    "            else:\n",
    "                limit = int(np.round(len_RNA[i]))\n",
    "            limit = min(100, limit)\n",
    "            for j in range(limit):\n",
    "                if sample:\n",
    "                    _len_bar_1 = int(np.round(np.random.normal(loc=len_bar[i,0,j], scale=var_bar[i,0,j])))\n",
    "                    _len_bar_2 = int(np.round(np.random.normal(loc=len_bar[i,1,j], scale=var_bar[i,1,j])))\n",
    "                    _col_bar_1 = np.random.choice(np.arange(5), p = col_bar[i, :, 2*j])\n",
    "                    _col_bar_2 = np.random.choice(np.arange(5), p = col_bar[i,:, 2*j+1])\n",
    "                else:\n",
    "                    _len_bar_1 = int(np.round(len_bar[i,0,j])) \n",
    "                    _len_bar_2 = int(np.round(len_bar[i,1,j]))\n",
    "                    _col_bar_1 = np.argmax(col_bar[i,:, 2*j])\n",
    "                    _col_bar_2 = np.argmax(col_bar[i,:, 2*j+1])\n",
    "                \n",
    "                h1 = max(0,13-_len_bar_1)\n",
    "                # paint upper bar\n",
    "                output[i, h1:13, j] = color_dict[_col_bar_1]\n",
    "                h2 = min(25,13+_len_bar_2)\n",
    "                # paint lower bar\n",
    "                output[i, 13:h2, j] = color_dict[_col_bar_2]\n",
    "        \n",
    "        \n",
    "        return output\n"
   ]
  },
  {
   "cell_type": "code",
   "execution_count": 9,
   "metadata": {},
   "outputs": [
    {
     "data": {
      "text/plain": [
       "3"
      ]
     },
     "execution_count": 9,
     "metadata": {},
     "output_type": "execute_result"
    }
   ],
   "source": [
    "int(np.round(3.7, 0))\n",
    "int(3.7)"
   ]
  },
  {
   "cell_type": "code",
   "execution_count": 10,
   "metadata": {
    "executionInfo": {
     "elapsed": 4,
     "status": "ok",
     "timestamp": 1647023293160,
     "user": {
      "displayName": "Marko Petkovic",
      "photoUrl": "https://lh3.googleusercontent.com/a-/AOh14Gijd0e9r3I1vRZVN6DEwl16XpJxxS1oSAKunOnfZQ=s64",
      "userId": "11987583535390684770"
     },
     "user_tz": -60
    },
    "id": "1y8G2S1zxzTH"
   },
   "outputs": [],
   "source": [
    "# pzy_ = pzy(45, 7500, 2, 32,32,32)\n",
    "# summary(pzy_, (1,2))\n",
    "# pzy_ = px(45, 7500, 2, 32,32,32)\n",
    "# summary(pzy_, [(1,32),(1,32),(1,32)])"
   ]
  },
  {
   "cell_type": "markdown",
   "metadata": {
    "id": "YmNnZWXvkCDP"
   },
   "source": [
    "## Endcoder Classes"
   ]
  },
  {
   "cell_type": "code",
   "execution_count": 11,
   "metadata": {
    "executionInfo": {
     "elapsed": 5,
     "status": "ok",
     "timestamp": 1647013220008,
     "user": {
      "displayName": "Marko Petkovic",
      "photoUrl": "https://lh3.googleusercontent.com/a-/AOh14Gijd0e9r3I1vRZVN6DEwl16XpJxxS1oSAKunOnfZQ=s64",
      "userId": "11987583535390684770"
     },
     "user_tz": -60
    },
    "id": "tt82wvITwg4j"
   },
   "outputs": [],
   "source": [
    "#pzy_.reconstruct_image(torch.zeros((1,100)), torch.zeros((1,13,200)), torch.zeros(1,5,200)).shape"
   ]
  },
  {
   "cell_type": "code",
   "execution_count": 12,
   "metadata": {
    "executionInfo": {
     "elapsed": 313,
     "status": "ok",
     "timestamp": 1647023293469,
     "user": {
      "displayName": "Marko Petkovic",
      "photoUrl": "https://lh3.googleusercontent.com/a-/AOh14Gijd0e9r3I1vRZVN6DEwl16XpJxxS1oSAKunOnfZQ=s64",
      "userId": "11987583535390684770"
     },
     "user_tz": -60
    },
    "id": "78ZFH8gYl_-z"
   },
   "outputs": [],
   "source": [
    "class qz(nn.Module):\n",
    "    def __init__(self, d_dim, x_dim, y_dim, z_dim):\n",
    "        super(qz, self).__init__()\n",
    "\n",
    "        self.encoder = nn.Sequential(\n",
    "            nn.Conv2d(3, 64, kernel_size=5, stride=1, padding = 'same',bias=False),\n",
    "            nn.ReLU(),\n",
    "            nn.MaxPool2d(2, 2),\n",
    "            nn.Conv2d(64, 128, kernel_size=3, stride=1, padding = 'same', bias=False),\n",
    "            nn.ReLU(), \n",
    "            nn.MaxPool2d(2, 2),\n",
    "            nn.Conv2d(128, 256, kernel_size=3, stride=1, bias=False),\n",
    "            nn.ReLU(), \n",
    "            nn.MaxPool2d(2, 2),\n",
    "        )\n",
    "\n",
    "        self.fc11 = nn.Sequential(nn.Linear(5632, z_dim))\n",
    "        self.fc12 = nn.Sequential(nn.Linear(5632, z_dim), nn.Softplus())\n",
    "\n",
    "        torch.nn.init.xavier_uniform_(self.encoder[0].weight)\n",
    "        torch.nn.init.xavier_uniform_(self.encoder[3].weight)\n",
    "        torch.nn.init.xavier_uniform_(self.fc11[0].weight)\n",
    "        self.fc11[0].bias.data.zero_()\n",
    "        torch.nn.init.xavier_uniform_(self.fc12[0].weight)\n",
    "        self.fc12[0].bias.data.zero_()\n",
    "\n",
    "    def forward(self, x):\n",
    "        h = self.encoder(x)\n",
    "        h = h.view(-1, 5632)\n",
    "        z_loc = self.fc11(h)\n",
    "        z_scale = self.fc12(h) + 1e-7\n",
    "\n",
    "        return z_loc, z_scale\n",
    "\n",
    "\n"
   ]
  },
  {
   "cell_type": "code",
   "execution_count": 13,
   "metadata": {},
   "outputs": [
    {
     "data": {
      "text/plain": [
       "==========================================================================================\n",
       "Layer (type:depth-idx)                   Output Shape              Param #\n",
       "==========================================================================================\n",
       "qz                                       --                        --\n",
       "├─Sequential: 1-1                        [1, 256, 2, 11]           --\n",
       "│    └─Conv2d: 2-1                       [1, 64, 25, 100]          4,800\n",
       "│    └─ReLU: 2-2                         [1, 64, 25, 100]          --\n",
       "│    └─MaxPool2d: 2-3                    [1, 64, 12, 50]           --\n",
       "│    └─Conv2d: 2-4                       [1, 128, 12, 50]          73,728\n",
       "│    └─ReLU: 2-5                         [1, 128, 12, 50]          --\n",
       "│    └─MaxPool2d: 2-6                    [1, 128, 6, 25]           --\n",
       "│    └─Conv2d: 2-7                       [1, 256, 4, 23]           294,912\n",
       "│    └─ReLU: 2-8                         [1, 256, 4, 23]           --\n",
       "│    └─MaxPool2d: 2-9                    [1, 256, 2, 11]           --\n",
       "├─Sequential: 1-2                        [1, 10]                   --\n",
       "│    └─Linear: 2-10                      [1, 10]                   56,330\n",
       "├─Sequential: 1-3                        [1, 10]                   --\n",
       "│    └─Linear: 2-11                      [1, 10]                   56,330\n",
       "│    └─Softplus: 2-12                    [1, 10]                   --\n",
       "==========================================================================================\n",
       "Total params: 486,100\n",
       "Trainable params: 486,100\n",
       "Non-trainable params: 0\n",
       "Total mult-adds (M): 83.48\n",
       "==========================================================================================\n",
       "Input size (MB): 0.03\n",
       "Forward/backward pass size (MB): 2.08\n",
       "Params size (MB): 1.94\n",
       "Estimated Total Size (MB): 4.06\n",
       "=========================================================================================="
      ]
     },
     "execution_count": 13,
     "metadata": {},
     "output_type": "execute_result"
    }
   ],
   "source": [
    "enc = qz(128,10,10,10)\n",
    "summary(enc, (1,3,25,100))"
   ]
  },
  {
   "cell_type": "markdown",
   "metadata": {
    "id": "vn_gJdNSkH_V"
   },
   "source": [
    "## Full model class"
   ]
  },
  {
   "cell_type": "code",
   "execution_count": 14,
   "metadata": {
    "executionInfo": {
     "elapsed": 10,
     "status": "ok",
     "timestamp": 1647023293470,
     "user": {
      "displayName": "Marko Petkovic",
      "photoUrl": "https://lh3.googleusercontent.com/a-/AOh14Gijd0e9r3I1vRZVN6DEwl16XpJxxS1oSAKunOnfZQ=s64",
      "userId": "11987583535390684770"
     },
     "user_tz": -60
    },
    "id": "BgR5BnQN1WWG"
   },
   "outputs": [],
   "source": [
    "class StampDIVA(nn.Module):\n",
    "    def __init__(self, args):\n",
    "        super(StampDIVA, self).__init__()\n",
    "        self.z_dim = args.z_dim\n",
    "        self.d_dim = args.d_dim\n",
    "        self.x_dim = args.x_dim\n",
    "        self.y_dim = args.y_dim\n",
    "\n",
    "        self.px = px(self.d_dim, self.x_dim, self.y_dim, self.z_dim)\n",
    "        \n",
    "        self.qz = qz(self.d_dim, self.x_dim, self.y_dim, self.z_dim)\n",
    "        \n",
    "\n",
    "        self.beta = args.beta\n",
    "        \n",
    "        self.rec_alpha = args.rec_alpha\n",
    "        self.rec_beta = args.rec_beta\n",
    "        self.rec_gamma = args.rec_gamma\n",
    "\n",
    "        self.warmup = args.warmup\n",
    "        self.prewarmup = args.prewarmup\n",
    "\n",
    "        self.cuda()\n",
    "\n",
    "    def forward(self, d, x, y):\n",
    "        # Encode\n",
    "        zd_q_loc, zd_q_scale = self.qz(x)\n",
    "        \n",
    "        # Reparameterization trick\n",
    "        qz = dist.Normal(zd_q_loc, zd_q_scale)\n",
    "        z_q = qz.rsample()\n",
    "        \n",
    "        \n",
    "        # Decode\n",
    "        x_len, x_len_scale, x_bar, x_bar_scale, x_col = self.px(z_q)\n",
    "        z_p_loc, z_p_scale = torch.zeros(z_q.size()[0], self.z_dim).cuda(),\\\n",
    "                        torch.ones(z_q.size()[0], self.z_dim).cuda()\n",
    "        pz = dist.Normal(z_p_loc, z_p_scale)\n",
    "\n",
    "        # Reparameterization trick\n",
    "        pz = dist.Normal(z_p_loc, z_p_scale)\n",
    "        \n",
    "        return x_len, x_len_scale, x_bar, x_bar_scale, x_col, qz, pz, z_q\n",
    "\n",
    "    def loss_function(self, d, x, y, out_len, out_bar, out_col):\n",
    "        \n",
    "        x_len, x_len_scale, x_bar, x_bar_scale, x_col, qz, pz, z_q = self.forward(d, x, y)\n",
    "        mask = 1 - F.one_hot(torch.round(out_len).to(torch.int64)*2-1, 200).cumsum(dim=1)[:,None,:]\n",
    "        mask1 = (1 - F.one_hot(torch.round(out_len).to(torch.int64)-1, 100).cumsum(dim=1)[:,None,:]).repeat(1,2,1)\n",
    "\n",
    "        \n",
    "        #x_bar = mask.repeat(1,1,1)*x_bar\n",
    "        \n",
    "        #x_bar_scale = mask.repeat(1,1,1)*x_bar_scale\n",
    "        x_col = mask.repeat(1,5,1)*x_col\n",
    "        \n",
    "        \n",
    "        dist_len = dist.Normal(x_len, x_len_scale+1e-7)\n",
    "        log_len = dist_len.log_prob(out_len[:,None]).mean()\n",
    "        \n",
    "       # dist_bar = dist.Normal(x_bar, x_bar_scale+1e-7)\n",
    "        #log_bar = dist_bar.log_prob(out_bar)*mask1\n",
    "        #log_bar = (log_bar).sum(dim=(1,2)).mean()\n",
    "        \n",
    "        mse_bar = ((((x_bar - out_bar)**2)*mask1).sum(dim=(1,2))/(mask1.sum(dim=(1,2)))).sum()#.detach().item()\n",
    "        \n",
    "        max_bar = torch.argmax(x_col, dim=1)\n",
    "        #acc_bar = (((max_bar==out_col)*mask).sum(dim=(1,2))/mask.sum(dim=(1,2))).sum().detach().item()/5\n",
    "        acc_bar = (max_bar==torch.argmax(out_col, dim=1)).sum().float()\n",
    "        \n",
    "        CE_len = -log_len\n",
    "        CE_bar = mse_bar#-log_bar\n",
    "        CE_col = F.cross_entropy(x_col, out_col, reduction='sum')\n",
    "\n",
    "        KL_z = torch.sum(pz.log_prob(z_q) - qz.log_prob(z_q))\n",
    "          \n",
    "        return self.rec_alpha * CE_len \\\n",
    "                  + self.rec_beta * CE_bar \\\n",
    "                  + self.rec_gamma * CE_col \\\n",
    "                  - self.beta * KL_z, \\\n",
    "                  CE_bar, CE_len, CE_col, mse_bar, acc_bar"
   ]
  },
  {
   "cell_type": "code",
   "execution_count": 15,
   "metadata": {},
   "outputs": [
    {
     "data": {
      "text/plain": [
       "==========================================================================================\n",
       "Layer (type:depth-idx)                   Output Shape              Param #\n",
       "==========================================================================================\n",
       "StampDIVA                                --                        --\n",
       "├─qz: 1-1                                [1, 1600]                 --\n",
       "│    └─Sequential: 2-1                   [1, 256, 2, 11]           --\n",
       "│    │    └─Conv2d: 3-1                  [1, 64, 25, 100]          4,800\n",
       "│    │    └─ReLU: 3-2                    [1, 64, 25, 100]          --\n",
       "│    │    └─MaxPool2d: 3-3               [1, 64, 12, 50]           --\n",
       "│    │    └─Conv2d: 3-4                  [1, 128, 12, 50]          73,728\n",
       "│    │    └─ReLU: 3-5                    [1, 128, 12, 50]          --\n",
       "│    │    └─MaxPool2d: 3-6               [1, 128, 6, 25]           --\n",
       "│    │    └─Conv2d: 3-7                  [1, 256, 4, 23]           294,912\n",
       "│    │    └─ReLU: 3-8                    [1, 256, 4, 23]           --\n",
       "│    │    └─MaxPool2d: 3-9               [1, 256, 2, 11]           --\n",
       "│    └─Sequential: 2-2                   [1, 1600]                 --\n",
       "│    │    └─Linear: 3-10                 [1, 1600]                 9,012,800\n",
       "│    └─Sequential: 2-3                   [1, 1600]                 --\n",
       "│    │    └─Linear: 3-11                 [1, 1600]                 9,012,800\n",
       "│    │    └─Softplus: 3-12               [1, 1600]                 --\n",
       "├─px: 1-2                                [1, 1]                    --\n",
       "│    └─Sequential: 2-4                   [1, 2000]                 --\n",
       "│    │    └─Linear: 3-13                 [1, 2000]                 3,200,000\n",
       "│    │    └─ReLU: 3-14                   [1, 2000]                 --\n",
       "│    └─Sequential: 2-5                   [1, 1600]                 --\n",
       "│    │    └─Linear: 3-15                 [1, 1600]                 3,200,000\n",
       "│    │    └─ReLU: 3-16                   [1, 1600]                 --\n",
       "│    └─Sequential: 2-6                   [1, 1]                    --\n",
       "│    │    └─Linear: 3-17                 [1, 400]                  640,400\n",
       "│    │    └─ReLU: 3-18                   [1, 400]                  --\n",
       "│    │    └─Linear: 3-19                 [1, 1]                    401\n",
       "│    │    └─Softplus: 3-20               [1, 1]                    --\n",
       "│    └─Sequential: 2-7                   [1, 100]                  --\n",
       "│    │    └─Linear: 3-21                 [1, 100]                  160,100\n",
       "│    │    └─Softplus: 3-22               [1, 100]                  --\n",
       "│    └─Sequential: 2-8                   [1, 100]                  --\n",
       "│    │    └─Linear: 3-23                 [1, 100]                  160,100\n",
       "│    │    └─Softplus: 3-24               [1, 100]                  --\n",
       "│    └─Linear: 2-9                       [1, 200]                  320,200\n",
       "│    └─Linear: 2-10                      [1, 200]                  320,200\n",
       "│    └─Linear: 2-11                      [1, 200]                  320,200\n",
       "│    └─Linear: 2-12                      [1, 200]                  320,200\n",
       "│    └─Linear: 2-13                      [1, 200]                  320,200\n",
       "==========================================================================================\n",
       "Total params: 27,361,041\n",
       "Trainable params: 27,361,041\n",
       "Non-trainable params: 0\n",
       "Total mult-adds (M): 110.36\n",
       "==========================================================================================\n",
       "Input size (MB): 0.03\n",
       "Forward/backward pass size (MB): 2.15\n",
       "Params size (MB): 109.44\n",
       "Estimated Total Size (MB): 111.62\n",
       "=========================================================================================="
      ]
     },
     "execution_count": 15,
     "metadata": {},
     "output_type": "execute_result"
    }
   ],
   "source": [
    "default_args = diva_args(z_dim=1600, rec_alpha = 10, rec_beta = 10, rec_gamma = 10, \n",
    "                         beta=1, warmup=1, prewarmup=0)\n",
    "enc = StampDIVA(default_args)\n",
    "summary(enc,[ (1,1),(1,3,25,100),(1,1)])"
   ]
  },
  {
   "cell_type": "markdown",
   "metadata": {
    "id": "LdOsLfYJjBBe"
   },
   "source": [
    "# Training the model"
   ]
  },
  {
   "cell_type": "markdown",
   "metadata": {
    "id": "rH1E5J-ps3GD"
   },
   "source": [
    "## Loading dataset"
   ]
  },
  {
   "cell_type": "code",
   "execution_count": 16,
   "metadata": {
    "colab": {
     "base_uri": "https://localhost:8080/"
    },
    "executionInfo": {
     "elapsed": 16152,
     "status": "ok",
     "timestamp": 1647023309618,
     "user": {
      "displayName": "Marko Petkovic",
      "photoUrl": "https://lh3.googleusercontent.com/a-/AOh14Gijd0e9r3I1vRZVN6DEwl16XpJxxS1oSAKunOnfZQ=s64",
      "userId": "11987583535390684770"
     },
     "user_tz": -60
    },
    "id": "myflmDPxjV40",
    "outputId": "0befed1a-e175-47eb-e1c0-f9f28da53d7c"
   },
   "outputs": [
    {
     "name": "stdout",
     "output_type": "stream",
     "text": [
      "Loading Labels! (~10s)\n",
      "loading encodings\n",
      "Loading Names! (~5s)\n"
     ]
    }
   ],
   "source": [
    "RNA_dataset = MicroRNADataset(create_encodings=False)"
   ]
  },
  {
   "cell_type": "code",
   "execution_count": 17,
   "metadata": {
    "colab": {
     "base_uri": "https://localhost:8080/"
    },
    "executionInfo": {
     "elapsed": 7139,
     "status": "ok",
     "timestamp": 1647023316754,
     "user": {
      "displayName": "Marko Petkovic",
      "photoUrl": "https://lh3.googleusercontent.com/a-/AOh14Gijd0e9r3I1vRZVN6DEwl16XpJxxS1oSAKunOnfZQ=s64",
      "userId": "11987583535390684770"
     },
     "user_tz": -60
    },
    "id": "ut2P5RSaMoDR",
    "outputId": "eafab284-1376-4f62-c8c9-bb8e87351bd4"
   },
   "outputs": [
    {
     "name": "stdout",
     "output_type": "stream",
     "text": [
      "Loading Labels! (~10s)\n",
      "loading encodings\n",
      "Loading Names! (~5s)\n"
     ]
    }
   ],
   "source": [
    "RNA_dataset_test = MicroRNADataset('test', create_encodings=False)"
   ]
  },
  {
   "cell_type": "code",
   "execution_count": 18,
   "metadata": {},
   "outputs": [
    {
     "data": {
      "text/plain": [
       "34721"
      ]
     },
     "execution_count": 18,
     "metadata": {},
     "output_type": "execute_result"
    }
   ],
   "source": [
    "len(RNA_dataset)"
   ]
  },
  {
   "cell_type": "code",
   "execution_count": 19,
   "metadata": {
    "executionInfo": {
     "elapsed": 12,
     "status": "ok",
     "timestamp": 1647023316754,
     "user": {
      "displayName": "Marko Petkovic",
      "photoUrl": "https://lh3.googleusercontent.com/a-/AOh14Gijd0e9r3I1vRZVN6DEwl16XpJxxS1oSAKunOnfZQ=s64",
      "userId": "11987583535390684770"
     },
     "user_tz": -60
    },
    "id": "eVGq463Y2m20"
   },
   "outputs": [],
   "source": [
    "def train_single_epoch(train_loader, model, optimizer, epoch):\n",
    "    model.train()\n",
    "    train_loss = 0\n",
    "    epoch_bar_loss = 0\n",
    "    epoch_col_loss = 0\n",
    "    epoch_len_loss = 0\n",
    "    no_batches = 0\n",
    "    train_corr = 0\n",
    "    mse_bar = 0\n",
    "    acc_bar = 0\n",
    "    pbar = tqdm(enumerate(train_loader), unit=\"batch\", \n",
    "                                     desc=f'Epoch {epoch}')\n",
    "    for batch_idx, (x, y, d, x_len, x_col, x_bar) in pbar:\n",
    "        # To device\n",
    "        x, y, d , x_len, x_bar, x_col = x.to(DEVICE), y.to(DEVICE), d.to(DEVICE), x_len.to(DEVICE), x_bar.to(DEVICE), x_col.to(DEVICE)\n",
    "\n",
    "        optimizer.zero_grad()\n",
    "        loss, bar_loss, len_loss, col_loss, mse, acc = model.loss_function(d.float(), x.float(), y.float(), x_len.float(), x_bar.float(), x_col.float())\n",
    "      \n",
    "        loss.backward()\n",
    "        optimizer.step()\n",
    "        pbar.set_postfix(loss=loss.item()/x.shape[0])\n",
    "        train_loss += loss\n",
    "        epoch_bar_loss += bar_loss\n",
    "        epoch_col_loss += col_loss\n",
    "        epoch_len_loss += len_loss\n",
    "        mse_bar += mse\n",
    "        acc_bar += acc\n",
    "        no_batches += 1\n",
    "\n",
    "    train_loss /= len(train_loader.dataset)\n",
    "    epoch_bar_loss /= len(train_loader.dataset)\n",
    "    epoch_len_loss /= len(train_loader.dataset)\n",
    "    epoch_col_loss /= len(train_loader.dataset)\n",
    "    acc_bar /= len(train_loader.dataset)\n",
    "    mse_bar /= len(train_loader.dataset)\n",
    "    \n",
    "    return train_loss, epoch_bar_loss, epoch_len_loss, epoch_col_loss, mse_bar, acc_bar"
   ]
  },
  {
   "cell_type": "code",
   "execution_count": 20,
   "metadata": {
    "executionInfo": {
     "elapsed": 12,
     "status": "ok",
     "timestamp": 1647023316755,
     "user": {
      "displayName": "Marko Petkovic",
      "photoUrl": "https://lh3.googleusercontent.com/a-/AOh14Gijd0e9r3I1vRZVN6DEwl16XpJxxS1oSAKunOnfZQ=s64",
      "userId": "11987583535390684770"
     },
     "user_tz": -60
    },
    "id": "dT7E0C3nM3qh"
   },
   "outputs": [],
   "source": [
    "def test_single_epoch(test_loader, model, epoch):\n",
    "    model.eval()\n",
    "    test_loss = 0\n",
    "    epoch_bar_loss = 0\n",
    "    epoch_col_loss = 0\n",
    "    epoch_len_loss = 0\n",
    "    mse_bar = 0\n",
    "    acc_bar = 0        \n",
    "    with torch.no_grad():\n",
    "        for batch_idx, (x,y,d,x_len,x_col,x_bar) in enumerate(test_loader):\n",
    "            x, y, d, x_len, x_bar, x_col = x.to(DEVICE), y.to(DEVICE), d.to(DEVICE), x_len.to(DEVICE), x_bar.to(DEVICE), x_col.to(DEVICE)\n",
    "            loss, bar_loss, len_loss, col_loss, mse, acc = model.loss_function(d.float(), x.float(), y.float(),x_len.float(),x_bar.float(),x_col.float())\n",
    "            test_loss += loss\n",
    "            epoch_bar_loss += bar_loss\n",
    "            epoch_col_loss += col_loss\n",
    "            epoch_len_loss += len_loss\n",
    "            mse_bar += mse\n",
    "            acc_bar += acc\n",
    "    test_loss /= len(test_loader.dataset)\n",
    "    epoch_bar_loss /= len(test_loader.dataset)\n",
    "    epoch_len_loss /= len(test_loader.dataset)\n",
    "    epoch_col_loss /= len(test_loader.dataset)\n",
    "    acc_bar /= len(test_loader.dataset)\n",
    "    mse_bar /= len(test_loader.dataset)\n",
    "    \n",
    "    return test_loss, epoch_bar_loss, epoch_len_loss, epoch_col_loss, mse_bar, acc_bar\n",
    "  "
   ]
  },
  {
   "cell_type": "code",
   "execution_count": 21,
   "metadata": {
    "executionInfo": {
     "elapsed": 11,
     "status": "ok",
     "timestamp": 1647023316755,
     "user": {
      "displayName": "Marko Petkovic",
      "photoUrl": "https://lh3.googleusercontent.com/a-/AOh14Gijd0e9r3I1vRZVN6DEwl16XpJxxS1oSAKunOnfZQ=s64",
      "userId": "11987583535390684770"
     },
     "user_tz": -60
    },
    "id": "npLjVGs0jHYn"
   },
   "outputs": [],
   "source": [
    "def train(args, train_loader, test_loader, diva, optimizer, end_epoch, start_epoch=0, save_folder='sd_1.0.0',save_interval=5):\n",
    "    \n",
    "    epoch_loss_sup = []\n",
    "    test_loss = []\n",
    "    \n",
    "    for epoch in range(start_epoch+1, end_epoch+1):\n",
    "        diva.beta = min([args.beta, args.beta * (epoch - args.prewarmup * 1.) / (args.warmup)])\n",
    "        if epoch< args.prewarmup:\n",
    "            diva.beta = args.beta/args.prewarmup\n",
    "        train_loss, avg_loss_bar, avg_loss_len, avg_loss_col, mtr, atr = train_single_epoch(train_loader, diva, optimizer, epoch)\n",
    "        str_loss_sup = train_loss\n",
    "        epoch_loss_sup.append(train_loss)\n",
    "        str_print = \"epoch {}: avg train loss {:.2f}\".format(epoch, str_loss_sup)\n",
    "        str_print += \", bar train loss {:.3f}\".format(avg_loss_bar)\n",
    "        str_print += \", len train loss {:.3f}\".format(avg_loss_len)\n",
    "        str_print += \", col train loss {:.3f}\".format(avg_loss_col)\n",
    "        print(str_print)\n",
    "\n",
    "        rec_loss_train = diva.rec_alpha * avg_loss_len + diva.rec_beta * avg_loss_bar + diva.rec_gamma * avg_loss_col\n",
    "        dis_loss_train = train_loss - rec_loss_train\n",
    "\n",
    "        test_lss, avg_loss_bar_test, avg_loss_len_test, avg_loss_col_test, mte, ate = test_single_epoch(test_loader, diva, epoch)\n",
    "        test_loss.append(test_lss)\n",
    "       \n",
    "        str_print = \"epoch {}: avg test  loss {:.2f}\".format(epoch, test_lss)\n",
    "        str_print += \", bar  test loss {:.3f}\".format(avg_loss_bar_test)\n",
    "        str_print += \", len  test loss {:.3f}\".format(avg_loss_len_test)\n",
    "        str_print += \", col  test loss {:.3f}\".format(avg_loss_col_test)\n",
    "        print(str_print)\n",
    "\n",
    "        rec_loss_test = diva.rec_alpha * avg_loss_len_test + diva.rec_beta * avg_loss_bar_test + diva.rec_gamma * avg_loss_col_test\n",
    "        dis_loss_test = test_lss - rec_loss_test\n",
    "\n",
    "        if writer is not None:\n",
    "            \n",
    "            writer.add_scalars(\"Total_Loss\", {'train': train_loss, 'test': test_lss} ,epoch)\n",
    "            writer.add_scalars(\"Reconstruction_vs_Disentanglement\",{'rec':rec_loss_train, 'dis':dis_loss_train}, epoch)\n",
    "            writer.add_scalars(\"bar_mse\",{'train': mtr, 'test':mte}, epoch)\n",
    "            writer.add_scalars(\"bar_acc\",{'train': atr, 'test':ate}, epoch)\n",
    "\n",
    "        if epoch % save_interval == 0:\n",
    "            save_reconstructions(epoch, test_loader, diva, name=save_folder)\n",
    "            save_reconstructions(epoch, train_loader, diva, name=save_folder, estr='tr')\n",
    "        \n",
    "        \n",
    "        if epoch % 50 == 0:\n",
    "            torch.save(diva.state_dict(), f'{link}/saved_models/{save_folder}/checkpoints/{epoch}.pth')\n",
    "\n",
    "    if writer is not None:\n",
    "        writer.flush()\n",
    "\n",
    "    epoch_loss_sup = [i.cpu().detach().numpy() for i in epoch_loss_sup]\n",
    "    test_loss = [i.cpu().detach().numpy() for i in test_loss]\n",
    "    return epoch_loss_sup, test_loss"
   ]
  },
  {
   "cell_type": "code",
   "execution_count": 22,
   "metadata": {
    "executionInfo": {
     "elapsed": 9,
     "status": "ok",
     "timestamp": 1647023317082,
     "user": {
      "displayName": "Marko Petkovic",
      "photoUrl": "https://lh3.googleusercontent.com/a-/AOh14Gijd0e9r3I1vRZVN6DEwl16XpJxxS1oSAKunOnfZQ=s64",
      "userId": "11987583535390684770"
     },
     "user_tz": -60
    },
    "id": "XxN8U8YK0Qi1"
   },
   "outputs": [],
   "source": [
    "def save_reconstructions(epoch, test_loader, diva, name='diva', estr=''):\n",
    "    a = next(enumerate(test_loader))\n",
    "    with torch.no_grad():\n",
    "        diva.eval()\n",
    "        d = a[1][2][:10].to(DEVICE).float()\n",
    "        x = a[1][0][:10].to(DEVICE).float()\n",
    "        y = a[1][1][:10].to(DEVICE).float()\n",
    "        x_1, x_1var, x_2, x_2var, x_3, _, _, _ = diva(d,x,y)\n",
    "        out = diva.px.reconstruct_image(x_1, x_1var, x_2, x_2var, x_3)\n",
    "\n",
    "    plt.figure(figsize=(80,20))\n",
    "    fig, ax = plt.subplots(nrows=10, ncols=2)\n",
    "\n",
    "    ax[0,0].set_title(\"Original\")\n",
    "    ax[0,1].set_title(\"Reconstructed\")\n",
    "\n",
    "    for i in range(10):\n",
    "        ax[i, 1].imshow(out[i])\n",
    "        ax[i, 0].imshow(x[i].cpu().permute(1,2,0))\n",
    "        ax[i, 0].xaxis.set_visible(False)\n",
    "        ax[i, 0].yaxis.set_visible(False)\n",
    "        ax[i, 1].xaxis.set_visible(False)\n",
    "        ax[i, 1].yaxis.set_visible(False)\n",
    "    fig.tight_layout(pad=0.1)\n",
    "    plt.savefig(f'{link}/saved_models/{name}/reconstructions/e{epoch}{estr}.png')\n",
    "    plt.close('all')"
   ]
  },
  {
   "cell_type": "code",
   "execution_count": 23,
   "metadata": {
    "colab": {
     "base_uri": "https://localhost:8080/"
    },
    "executionInfo": {
     "elapsed": 8,
     "status": "ok",
     "timestamp": 1647023317082,
     "user": {
      "displayName": "Marko Petkovic",
      "photoUrl": "https://lh3.googleusercontent.com/a-/AOh14Gijd0e9r3I1vRZVN6DEwl16XpJxxS1oSAKunOnfZQ=s64",
      "userId": "11987583535390684770"
     },
     "user_tz": -60
    },
    "id": "YVAD-Mjwh7yq",
    "outputId": "f330c11c-e358-41af-9ef4-bc36c146f907"
   },
   "outputs": [
    {
     "data": {
      "text/plain": [
       "device(type='cuda')"
      ]
     },
     "execution_count": 23,
     "metadata": {},
     "output_type": "execute_result"
    }
   ],
   "source": [
    "DEVICE"
   ]
  },
  {
   "cell_type": "markdown",
   "metadata": {
    "id": "nI4-NzHxjmci"
   },
   "source": [
    "## Model Training"
   ]
  },
  {
   "cell_type": "code",
   "execution_count": 24,
   "metadata": {
    "executionInfo": {
     "elapsed": 4,
     "status": "ok",
     "timestamp": 1647023317083,
     "user": {
      "displayName": "Marko Petkovic",
      "photoUrl": "https://lh3.googleusercontent.com/a-/AOh14Gijd0e9r3I1vRZVN6DEwl16XpJxxS1oSAKunOnfZQ=s64",
      "userId": "11987583535390684770"
     },
     "user_tz": -60
    },
    "id": "sJE0HTJE1ayP"
   },
   "outputs": [],
   "source": [
    "default_args = diva_args(z_dim=2048, rec_alpha = 100, rec_beta = 20, rec_gamma = 5, \n",
    "                         beta=1, warmup=1, prewarmup=0)"
   ]
  },
  {
   "cell_type": "code",
   "execution_count": 25,
   "metadata": {
    "colab": {
     "base_uri": "https://localhost:8080/",
     "height": 0
    },
    "executionInfo": {
     "elapsed": 1182,
     "status": "error",
     "timestamp": 1647023318262,
     "user": {
      "displayName": "Marko Petkovic",
      "photoUrl": "https://lh3.googleusercontent.com/a-/AOh14Gijd0e9r3I1vRZVN6DEwl16XpJxxS1oSAKunOnfZQ=s64",
      "userId": "11987583535390684770"
     },
     "user_tz": -60
    },
    "id": "kxIMSeUD1949",
    "outputId": "45991358-df3b-4e61-9d8a-c48b71b9fa49"
   },
   "outputs": [],
   "source": [
    "diva = StampDIVA(default_args).to(DEVICE)"
   ]
  },
  {
   "cell_type": "code",
   "execution_count": 26,
   "metadata": {
    "executionInfo": {
     "elapsed": 6,
     "status": "aborted",
     "timestamp": 1647023318259,
     "user": {
      "displayName": "Marko Petkovic",
      "photoUrl": "https://lh3.googleusercontent.com/a-/AOh14Gijd0e9r3I1vRZVN6DEwl16XpJxxS1oSAKunOnfZQ=s64",
      "userId": "11987583535390684770"
     },
     "user_tz": -60
    },
    "id": "PUHyoMi7iwJC"
   },
   "outputs": [],
   "source": [
    "#diva.load_state_dict(torch.load(f'{link}/saved_models/VAE10/checkpoints/905.pth'))"
   ]
  },
  {
   "cell_type": "code",
   "execution_count": 27,
   "metadata": {
    "executionInfo": {
     "elapsed": 6,
     "status": "aborted",
     "timestamp": 1647023318260,
     "user": {
      "displayName": "Marko Petkovic",
      "photoUrl": "https://lh3.googleusercontent.com/a-/AOh14Gijd0e9r3I1vRZVN6DEwl16XpJxxS1oSAKunOnfZQ=s64",
      "userId": "11987583535390684770"
     },
     "user_tz": -60
    },
    "id": "48B39rFl79Yh"
   },
   "outputs": [],
   "source": [
    "train_loader = DataLoader(RNA_dataset, batch_size=128, shuffle=True)\n",
    "test_loader = DataLoader(RNA_dataset_test, batch_size=128)"
   ]
  },
  {
   "cell_type": "code",
   "execution_count": 28,
   "metadata": {
    "executionInfo": {
     "elapsed": 7,
     "status": "aborted",
     "timestamp": 1647023318261,
     "user": {
      "displayName": "Marko Petkovic",
      "photoUrl": "https://lh3.googleusercontent.com/a-/AOh14Gijd0e9r3I1vRZVN6DEwl16XpJxxS1oSAKunOnfZQ=s64",
      "userId": "11987583535390684770"
     },
     "user_tz": -60
    },
    "id": "J6y2Ek2677z1"
   },
   "outputs": [],
   "source": [
    "#optimizer = optim.SGD(diva.parameters(), lr=0.00001, momentum=0.1, nesterov=True)\n",
    "optimizer = optim.Adam(diva.parameters(), lr=0.0001)"
   ]
  },
  {
   "cell_type": "code",
   "execution_count": 29,
   "metadata": {},
   "outputs": [
    {
     "data": {
      "text/plain": [
       "(10, 100)"
      ]
     },
     "execution_count": 29,
     "metadata": {},
     "output_type": "execute_result"
    }
   ],
   "source": [
    "RNA_dataset.x_len.min(), RNA_dataset.x_len.max()"
   ]
  },
  {
   "cell_type": "code",
   "execution_count": 30,
   "metadata": {},
   "outputs": [],
   "source": [
    "writer.flush()"
   ]
  },
  {
   "cell_type": "code",
   "execution_count": 31,
   "metadata": {
    "executionInfo": {
     "elapsed": 7,
     "status": "aborted",
     "timestamp": 1647023318261,
     "user": {
      "displayName": "Marko Petkovic",
      "photoUrl": "https://lh3.googleusercontent.com/a-/AOh14Gijd0e9r3I1vRZVN6DEwl16XpJxxS1oSAKunOnfZQ=s64",
      "userId": "11987583535390684770"
     },
     "user_tz": -60
    },
    "id": "vQGakzXN6V-Y",
    "scrolled": false
   },
   "outputs": [
    {
     "data": {
      "text/plain": [
       "Reusing TensorBoard on port 6006 (pid 29544), started 0:31:12 ago. (Use '!kill 29544' to kill it.)"
      ]
     },
     "metadata": {},
     "output_type": "display_data"
    },
    {
     "data": {
      "text/html": [
       "\n",
       "      <iframe id=\"tensorboard-frame-136a04907a7812c2\" width=\"100%\" height=\"800\" frameborder=\"0\">\n",
       "      </iframe>\n",
       "      <script>\n",
       "        (function() {\n",
       "          const frame = document.getElementById(\"tensorboard-frame-136a04907a7812c2\");\n",
       "          const url = new URL(\"/\", window.location);\n",
       "          const port = 6006;\n",
       "          if (port) {\n",
       "            url.port = port;\n",
       "          }\n",
       "          frame.src = url;\n",
       "        })();\n",
       "      </script>\n",
       "    "
      ],
      "text/plain": [
       "<IPython.core.display.HTML object>"
      ]
     },
     "metadata": {},
     "output_type": "display_data"
    }
   ],
   "source": [
    "%tensorboard --logdir=\"D:/users/Marko/downloads/mirna/saved_models/VAEFC/tensorboard/\""
   ]
  },
  {
   "cell_type": "code",
   "execution_count": null,
   "metadata": {
    "executionInfo": {
     "elapsed": 8,
     "status": "aborted",
     "timestamp": 1647023318262,
     "user": {
      "displayName": "Marko Petkovic",
      "photoUrl": "https://lh3.googleusercontent.com/a-/AOh14Gijd0e9r3I1vRZVN6DEwl16XpJxxS1oSAKunOnfZQ=s64",
      "userId": "11987583535390684770"
     },
     "user_tz": -60
    },
    "id": "0m47XoL87oLs",
    "scrolled": true
   },
   "outputs": [
    {
     "name": "stderr",
     "output_type": "stream",
     "text": [
      "Epoch 6: 272batch [00:18, 14.58batch/s, loss=1.13e+3]\n"
     ]
    },
    {
     "name": "stdout",
     "output_type": "stream",
     "text": [
      "epoch 6: avg train loss 1209.10, bar train loss 12.152, len train loss 0.945, col train loss 169.649\n",
      "epoch 6: avg test  loss 1079.04, bar  test loss 10.618, len  test loss 0.113, col  test loss 169.453\n"
     ]
    },
    {
     "name": "stderr",
     "output_type": "stream",
     "text": [
      "Epoch 7: 272batch [00:18, 14.69batch/s, loss=1.12e+3]\n"
     ]
    },
    {
     "name": "stdout",
     "output_type": "stream",
     "text": [
      "epoch 7: avg train loss 1069.61, bar train loss 10.121, len train loss 0.103, col train loss 169.476\n"
     ]
    },
    {
     "name": "stderr",
     "output_type": "stream",
     "text": [
      "Epoch 8: 2batch [00:00, 14.71batch/s, loss=1.12e+3]"
     ]
    },
    {
     "name": "stdout",
     "output_type": "stream",
     "text": [
      "epoch 7: avg test  loss 1065.86, bar  test loss 9.959, len  test loss 0.096, col  test loss 169.400\n"
     ]
    },
    {
     "name": "stderr",
     "output_type": "stream",
     "text": [
      "Epoch 8: 272batch [00:18, 14.70batch/s, loss=1e+3]   \n"
     ]
    },
    {
     "name": "stdout",
     "output_type": "stream",
     "text": [
      "epoch 8: avg train loss 1054.75, bar train loss 9.345, len train loss 0.095, col train loss 169.306\n"
     ]
    },
    {
     "name": "stderr",
     "output_type": "stream",
     "text": [
      "Epoch 9: 2batch [00:00, 14.81batch/s, loss=1.06e+3]"
     ]
    },
    {
     "name": "stdout",
     "output_type": "stream",
     "text": [
      "epoch 8: avg test  loss 1040.62, bar  test loss 8.647, len  test loss 0.087, col  test loss 169.019\n"
     ]
    },
    {
     "name": "stderr",
     "output_type": "stream",
     "text": [
      "Epoch 9: 272batch [00:18, 14.54batch/s, loss=985]    \n"
     ]
    },
    {
     "name": "stdout",
     "output_type": "stream",
     "text": [
      "epoch 9: avg train loss 1031.51, bar train loss 8.260, len train loss 0.091, col train loss 168.458\n"
     ]
    },
    {
     "name": "stderr",
     "output_type": "stream",
     "text": [
      "Epoch 10: 2batch [00:00, 14.81batch/s, loss=1.02e+3]"
     ]
    },
    {
     "name": "stdout",
     "output_type": "stream",
     "text": [
      "epoch 9: avg test  loss 1020.98, bar  test loss 7.848, len  test loss 0.091, col  test loss 167.702\n"
     ]
    },
    {
     "name": "stderr",
     "output_type": "stream",
     "text": [
      "Epoch 10: 272batch [00:18, 14.54batch/s, loss=1.04e+3]\n"
     ]
    },
    {
     "name": "stdout",
     "output_type": "stream",
     "text": [
      "epoch 10: avg train loss 1013.57, bar train loss 7.522, len train loss 0.091, col train loss 167.307\n",
      "epoch 10: avg test  loss 1008.23, bar  test loss 7.223, len  test loss 0.097, col  test loss 167.100\n"
     ]
    },
    {
     "name": "stderr",
     "output_type": "stream",
     "text": [
      "Epoch 11: 272batch [00:18, 14.65batch/s, loss=1.04e+3]\n"
     ]
    },
    {
     "name": "stdout",
     "output_type": "stream",
     "text": [
      "epoch 11: avg train loss 1002.50, bar train loss 6.996, len train loss 0.091, col train loss 166.804\n"
     ]
    },
    {
     "name": "stderr",
     "output_type": "stream",
     "text": [
      "Epoch 12: 2batch [00:00, 13.99batch/s, loss=1.03e+3]"
     ]
    },
    {
     "name": "stdout",
     "output_type": "stream",
     "text": [
      "epoch 11: avg test  loss 998.33, bar  test loss 6.836, len  test loss 0.097, col  test loss 166.545\n"
     ]
    },
    {
     "name": "stderr",
     "output_type": "stream",
     "text": [
      "Epoch 12: 272batch [00:18, 14.64batch/s, loss=1.08e+3]\n"
     ]
    },
    {
     "name": "stdout",
     "output_type": "stream",
     "text": [
      "epoch 12: avg train loss 994.69, bar train loss 6.659, len train loss 0.091, col train loss 166.338\n"
     ]
    },
    {
     "name": "stderr",
     "output_type": "stream",
     "text": [
      "Epoch 13: 2batch [00:00, 14.93batch/s, loss=1.02e+3]"
     ]
    },
    {
     "name": "stdout",
     "output_type": "stream",
     "text": [
      "epoch 12: avg test  loss 991.96, bar  test loss 6.437, len  test loss 0.111, col  test loss 166.113\n"
     ]
    },
    {
     "name": "stderr",
     "output_type": "stream",
     "text": [
      "Epoch 13: 272batch [00:18, 14.66batch/s, loss=1.09e+3]\n"
     ]
    },
    {
     "name": "stdout",
     "output_type": "stream",
     "text": [
      "epoch 13: avg train loss 986.89, bar train loss 6.309, len train loss 0.090, col train loss 165.890\n"
     ]
    },
    {
     "name": "stderr",
     "output_type": "stream",
     "text": [
      "Epoch 14: 2batch [00:00, 14.93batch/s, loss=995]"
     ]
    },
    {
     "name": "stdout",
     "output_type": "stream",
     "text": [
      "epoch 13: avg test  loss 983.25, bar  test loss 6.160, len  test loss 0.087, col  test loss 165.733\n"
     ]
    },
    {
     "name": "stderr",
     "output_type": "stream",
     "text": [
      "Epoch 14: 272batch [00:18, 14.67batch/s, loss=1.06e+3]\n"
     ]
    },
    {
     "name": "stdout",
     "output_type": "stream",
     "text": [
      "epoch 14: avg train loss 980.84, bar train loss 6.057, len train loss 0.089, col train loss 165.445\n"
     ]
    },
    {
     "name": "stderr",
     "output_type": "stream",
     "text": [
      "Epoch 15: 2batch [00:00, 14.49batch/s, loss=983]"
     ]
    },
    {
     "name": "stdout",
     "output_type": "stream",
     "text": [
      "epoch 14: avg test  loss 978.62, bar  test loss 5.933, len  test loss 0.089, col  test loss 165.368\n"
     ]
    },
    {
     "name": "stderr",
     "output_type": "stream",
     "text": [
      "Epoch 15: 272batch [00:18, 14.47batch/s, loss=1.08e+3]\n"
     ]
    },
    {
     "name": "stdout",
     "output_type": "stream",
     "text": [
      "epoch 15: avg train loss 975.28, bar train loss 5.813, len train loss 0.090, col train loss 165.043\n",
      "epoch 15: avg test  loss 972.66, bar  test loss 5.676, len  test loss 0.088, col  test loss 164.917\n"
     ]
    },
    {
     "name": "stderr",
     "output_type": "stream",
     "text": [
      "Epoch 16: 272batch [00:18, 14.48batch/s, loss=1.04e+3]\n"
     ]
    },
    {
     "name": "stdout",
     "output_type": "stream",
     "text": [
      "epoch 16: avg train loss 970.14, bar train loss 5.615, len train loss 0.089, col train loss 164.604\n"
     ]
    },
    {
     "name": "stderr",
     "output_type": "stream",
     "text": [
      "Epoch 17: 2batch [00:00, 14.93batch/s, loss=977]"
     ]
    },
    {
     "name": "stdout",
     "output_type": "stream",
     "text": [
      "epoch 16: avg test  loss 967.66, bar  test loss 5.534, len  test loss 0.085, col  test loss 164.506\n"
     ]
    },
    {
     "name": "stderr",
     "output_type": "stream",
     "text": [
      "Epoch 17: 272batch [00:18, 14.67batch/s, loss=987]    \n"
     ]
    },
    {
     "name": "stdout",
     "output_type": "stream",
     "text": [
      "epoch 17: avg train loss 965.63, bar train loss 5.454, len train loss 0.088, col train loss 164.197\n"
     ]
    },
    {
     "name": "stderr",
     "output_type": "stream",
     "text": [
      "Epoch 18: 2batch [00:00, 14.08batch/s, loss=969]"
     ]
    },
    {
     "name": "stdout",
     "output_type": "stream",
     "text": [
      "epoch 17: avg test  loss 965.18, bar  test loss 5.380, len  test loss 0.097, col  test loss 164.118\n"
     ]
    },
    {
     "name": "stderr",
     "output_type": "stream",
     "text": [
      "Epoch 18: 272batch [00:18, 14.41batch/s, loss=897]    \n"
     ]
    },
    {
     "name": "stdout",
     "output_type": "stream",
     "text": [
      "epoch 18: avg train loss 961.25, bar train loss 5.301, len train loss 0.087, col train loss 163.798\n"
     ]
    },
    {
     "name": "stderr",
     "output_type": "stream",
     "text": [
      "Epoch 19: 2batch [00:00, 14.81batch/s, loss=927]"
     ]
    },
    {
     "name": "stdout",
     "output_type": "stream",
     "text": [
      "epoch 18: avg test  loss 959.54, bar  test loss 5.216, len  test loss 0.086, col  test loss 163.782\n"
     ]
    },
    {
     "name": "stderr",
     "output_type": "stream",
     "text": [
      "Epoch 19: 272batch [00:18, 14.63batch/s, loss=920]    \n"
     ]
    },
    {
     "name": "stdout",
     "output_type": "stream",
     "text": [
      "epoch 19: avg train loss 957.68, bar train loss 5.150, len train loss 0.087, col train loss 163.530\n"
     ]
    },
    {
     "name": "stderr",
     "output_type": "stream",
     "text": [
      "Epoch 20: 2batch [00:00, 14.49batch/s, loss=943]"
     ]
    },
    {
     "name": "stdout",
     "output_type": "stream",
     "text": [
      "epoch 19: avg test  loss 957.09, bar  test loss 5.110, len  test loss 0.085, col  test loss 163.639\n"
     ]
    },
    {
     "name": "stderr",
     "output_type": "stream",
     "text": [
      "Epoch 20: 272batch [00:18, 14.60batch/s, loss=951]    \n"
     ]
    },
    {
     "name": "stdout",
     "output_type": "stream",
     "text": [
      "epoch 20: avg train loss 954.87, bar train loss 5.040, len train loss 0.088, col train loss 163.295\n",
      "epoch 20: avg test  loss 953.82, bar  test loss 4.987, len  test loss 0.088, col  test loss 163.403\n"
     ]
    },
    {
     "name": "stderr",
     "output_type": "stream",
     "text": [
      "Epoch 21: 272batch [00:19, 14.27batch/s, loss=972]    \n"
     ]
    },
    {
     "name": "stdout",
     "output_type": "stream",
     "text": [
      "epoch 21: avg train loss 952.14, bar train loss 4.935, len train loss 0.086, col train loss 163.107\n"
     ]
    },
    {
     "name": "stderr",
     "output_type": "stream",
     "text": [
      "Epoch 22: 2batch [00:00, 14.49batch/s, loss=932]"
     ]
    },
    {
     "name": "stdout",
     "output_type": "stream",
     "text": [
      "epoch 21: avg test  loss 954.05, bar  test loss 4.908, len  test loss 0.099, col  test loss 163.323\n"
     ]
    },
    {
     "name": "stderr",
     "output_type": "stream",
     "text": [
      "Epoch 22: 272batch [00:18, 14.62batch/s, loss=952]    \n"
     ]
    },
    {
     "name": "stdout",
     "output_type": "stream",
     "text": [
      "epoch 22: avg train loss 949.54, bar train loss 4.827, len train loss 0.085, col train loss 162.946\n"
     ]
    },
    {
     "name": "stderr",
     "output_type": "stream",
     "text": [
      "Epoch 23: 2batch [00:00, 14.60batch/s, loss=929]"
     ]
    },
    {
     "name": "stdout",
     "output_type": "stream",
     "text": [
      "epoch 22: avg test  loss 949.11, bar  test loss 4.741, len  test loss 0.086, col  test loss 163.084\n"
     ]
    },
    {
     "name": "stderr",
     "output_type": "stream",
     "text": [
      "Epoch 23: 272batch [00:18, 14.60batch/s, loss=887]    \n"
     ]
    },
    {
     "name": "stdout",
     "output_type": "stream",
     "text": [
      "epoch 23: avg train loss 947.32, bar train loss 4.733, len train loss 0.084, col train loss 162.803\n"
     ]
    },
    {
     "name": "stderr",
     "output_type": "stream",
     "text": [
      "Epoch 24: 2batch [00:00, 14.71batch/s, loss=964]"
     ]
    },
    {
     "name": "stdout",
     "output_type": "stream",
     "text": [
      "epoch 23: avg test  loss 946.62, bar  test loss 4.673, len  test loss 0.084, col  test loss 162.966\n"
     ]
    },
    {
     "name": "stderr",
     "output_type": "stream",
     "text": [
      "Epoch 24: 272batch [00:18, 14.32batch/s, loss=970]    \n"
     ]
    },
    {
     "name": "stdout",
     "output_type": "stream",
     "text": [
      "epoch 24: avg train loss 944.82, bar train loss 4.642, len train loss 0.083, col train loss 162.619\n"
     ]
    },
    {
     "name": "stderr",
     "output_type": "stream",
     "text": [
      "Epoch 25: 2batch [00:00, 14.71batch/s, loss=950]"
     ]
    },
    {
     "name": "stdout",
     "output_type": "stream",
     "text": [
      "epoch 24: avg test  loss 946.16, bar  test loss 4.642, len  test loss 0.088, col  test loss 162.861\n"
     ]
    },
    {
     "name": "stderr",
     "output_type": "stream",
     "text": [
      "Epoch 25: 272batch [00:18, 14.55batch/s, loss=924] \n"
     ]
    },
    {
     "name": "stdout",
     "output_type": "stream",
     "text": [
      "epoch 25: avg train loss 943.24, bar train loss 4.576, len train loss 0.085, col train loss 162.458\n",
      "epoch 25: avg test  loss 943.28, bar  test loss 4.517, len  test loss 0.082, col  test loss 162.636\n"
     ]
    },
    {
     "name": "stderr",
     "output_type": "stream",
     "text": [
      "Epoch 26: 272batch [00:18, 14.54batch/s, loss=1.01e+3]\n"
     ]
    },
    {
     "name": "stdout",
     "output_type": "stream",
     "text": [
      "epoch 26: avg train loss 941.04, bar train loss 4.504, len train loss 0.082, col train loss 162.264\n"
     ]
    },
    {
     "name": "stderr",
     "output_type": "stream",
     "text": [
      "Epoch 27: 2batch [00:00, 14.71batch/s, loss=957]"
     ]
    },
    {
     "name": "stdout",
     "output_type": "stream",
     "text": [
      "epoch 26: avg test  loss 941.54, bar  test loss 4.468, len  test loss 0.082, col  test loss 162.446\n"
     ]
    },
    {
     "name": "stderr",
     "output_type": "stream",
     "text": [
      "Epoch 27: 272batch [00:19, 14.13batch/s, loss=868]   \n"
     ]
    },
    {
     "name": "stdout",
     "output_type": "stream",
     "text": [
      "epoch 27: avg train loss 938.92, bar train loss 4.432, len train loss 0.083, col train loss 162.011\n"
     ]
    },
    {
     "name": "stderr",
     "output_type": "stream",
     "text": [
      "Epoch 28: 2batch [00:00, 14.29batch/s, loss=903]"
     ]
    },
    {
     "name": "stdout",
     "output_type": "stream",
     "text": [
      "epoch 27: avg test  loss 940.14, bar  test loss 4.473, len  test loss 0.081, col  test loss 162.270\n"
     ]
    },
    {
     "name": "stderr",
     "output_type": "stream",
     "text": [
      "Epoch 28: 272batch [00:18, 14.52batch/s, loss=948]\n"
     ]
    },
    {
     "name": "stdout",
     "output_type": "stream",
     "text": [
      "epoch 28: avg train loss 937.17, bar train loss 4.380, len train loss 0.081, col train loss 161.843\n"
     ]
    },
    {
     "name": "stderr",
     "output_type": "stream",
     "text": [
      "Epoch 29: 2batch [00:00, 14.49batch/s, loss=973]"
     ]
    },
    {
     "name": "stdout",
     "output_type": "stream",
     "text": [
      "epoch 28: avg test  loss 938.17, bar  test loss 4.363, len  test loss 0.089, col  test loss 162.096\n"
     ]
    },
    {
     "name": "stderr",
     "output_type": "stream",
     "text": [
      "Epoch 29: 272batch [00:18, 14.56batch/s, loss=924]    \n"
     ]
    },
    {
     "name": "stdout",
     "output_type": "stream",
     "text": [
      "epoch 29: avg train loss 935.48, bar train loss 4.325, len train loss 0.081, col train loss 161.675\n"
     ]
    },
    {
     "name": "stderr",
     "output_type": "stream",
     "text": [
      "Epoch 30: 2batch [00:00, 14.71batch/s, loss=946]"
     ]
    },
    {
     "name": "stdout",
     "output_type": "stream",
     "text": [
      "epoch 29: avg test  loss 936.07, bar  test loss 4.311, len  test loss 0.080, col  test loss 161.908\n"
     ]
    },
    {
     "name": "stderr",
     "output_type": "stream",
     "text": [
      "Epoch 30: 272batch [00:19, 14.25batch/s, loss=974]   \n"
     ]
    },
    {
     "name": "stdout",
     "output_type": "stream",
     "text": [
      "epoch 30: avg train loss 934.08, bar train loss 4.279, len train loss 0.081, col train loss 161.522\n",
      "epoch 30: avg test  loss 934.22, bar  test loss 4.265, len  test loss 0.078, col  test loss 161.761\n"
     ]
    },
    {
     "name": "stderr",
     "output_type": "stream",
     "text": [
      "Epoch 31: 272batch [00:18, 14.54batch/s, loss=932]   \n"
     ]
    },
    {
     "name": "stdout",
     "output_type": "stream",
     "text": [
      "epoch 31: avg train loss 932.11, bar train loss 4.222, len train loss 0.079, col train loss 161.338\n"
     ]
    },
    {
     "name": "stderr",
     "output_type": "stream",
     "text": [
      "Epoch 32: 2batch [00:00, 14.39batch/s, loss=951]"
     ]
    },
    {
     "name": "stdout",
     "output_type": "stream",
     "text": [
      "epoch 31: avg test  loss 934.13, bar  test loss 4.214, len  test loss 0.083, col  test loss 161.623\n"
     ]
    },
    {
     "name": "stderr",
     "output_type": "stream",
     "text": [
      "Epoch 32: 272batch [00:18, 14.55batch/s, loss=994]\n"
     ]
    },
    {
     "name": "stdout",
     "output_type": "stream",
     "text": [
      "epoch 32: avg train loss 931.15, bar train loss 4.179, len train loss 0.080, col train loss 161.221\n"
     ]
    },
    {
     "name": "stderr",
     "output_type": "stream",
     "text": [
      "Epoch 33: 2batch [00:00, 14.29batch/s, loss=945]"
     ]
    },
    {
     "name": "stdout",
     "output_type": "stream",
     "text": [
      "epoch 32: avg test  loss 933.05, bar  test loss 4.182, len  test loss 0.086, col  test loss 161.525\n"
     ]
    },
    {
     "name": "stderr",
     "output_type": "stream",
     "text": [
      "Epoch 33: 272batch [00:18, 14.55batch/s, loss=1.03e+3]\n"
     ]
    },
    {
     "name": "stdout",
     "output_type": "stream",
     "text": [
      "epoch 33: avg train loss 929.71, bar train loss 4.143, len train loss 0.079, col train loss 161.045\n"
     ]
    },
    {
     "name": "stderr",
     "output_type": "stream",
     "text": [
      "Epoch 34: 2batch [00:00, 14.71batch/s, loss=920]"
     ]
    },
    {
     "name": "stdout",
     "output_type": "stream",
     "text": [
      "epoch 33: avg test  loss 931.51, bar  test loss 4.154, len  test loss 0.079, col  test loss 161.396\n"
     ]
    },
    {
     "name": "stderr",
     "output_type": "stream",
     "text": [
      "Epoch 34: 272batch [00:19, 14.31batch/s, loss=932]   \n"
     ]
    },
    {
     "name": "stdout",
     "output_type": "stream",
     "text": [
      "epoch 34: avg train loss 928.30, bar train loss 4.102, len train loss 0.079, col train loss 160.897\n"
     ]
    },
    {
     "name": "stderr",
     "output_type": "stream",
     "text": [
      "Epoch 35: 2batch [00:00, 14.71batch/s, loss=928]"
     ]
    },
    {
     "name": "stdout",
     "output_type": "stream",
     "text": [
      "epoch 34: avg test  loss 930.08, bar  test loss 4.104, len  test loss 0.081, col  test loss 161.261\n"
     ]
    },
    {
     "name": "stderr",
     "output_type": "stream",
     "text": [
      "Epoch 35: 272batch [00:18, 14.55batch/s, loss=942]\n"
     ]
    },
    {
     "name": "stdout",
     "output_type": "stream",
     "text": [
      "epoch 35: avg train loss 926.95, bar train loss 4.065, len train loss 0.077, col train loss 160.761\n",
      "epoch 35: avg test  loss 928.71, bar  test loss 4.043, len  test loss 0.080, col  test loss 161.150\n"
     ]
    },
    {
     "name": "stderr",
     "output_type": "stream",
     "text": [
      "Epoch 36: 272batch [00:18, 14.53batch/s, loss=1.02e+3]\n"
     ]
    },
    {
     "name": "stdout",
     "output_type": "stream",
     "text": [
      "epoch 36: avg train loss 925.98, bar train loss 4.026, len train loss 0.078, col train loss 160.677\n"
     ]
    },
    {
     "name": "stderr",
     "output_type": "stream",
     "text": [
      "Epoch 37: 2batch [00:00, 14.81batch/s, loss=933]"
     ]
    },
    {
     "name": "stdout",
     "output_type": "stream",
     "text": [
      "epoch 36: avg test  loss 928.31, bar  test loss 4.015, len  test loss 0.083, col  test loss 161.071\n"
     ]
    },
    {
     "name": "stderr",
     "output_type": "stream",
     "text": [
      "Epoch 37: 272batch [00:18, 14.56batch/s, loss=927]\n"
     ]
    },
    {
     "name": "stdout",
     "output_type": "stream",
     "text": [
      "epoch 37: avg train loss 924.90, bar train loss 3.995, len train loss 0.076, col train loss 160.578\n"
     ]
    },
    {
     "name": "stderr",
     "output_type": "stream",
     "text": [
      "Epoch 38: 2batch [00:00, 14.71batch/s, loss=938]"
     ]
    },
    {
     "name": "stdout",
     "output_type": "stream",
     "text": [
      "epoch 37: avg test  loss 927.12, bar  test loss 4.022, len  test loss 0.076, col  test loss 161.025\n"
     ]
    },
    {
     "name": "stderr",
     "output_type": "stream",
     "text": [
      "Epoch 38: 272batch [00:18, 14.56batch/s, loss=928]\n"
     ]
    },
    {
     "name": "stdout",
     "output_type": "stream",
     "text": [
      "epoch 38: avg train loss 924.32, bar train loss 3.972, len train loss 0.077, col train loss 160.487\n"
     ]
    },
    {
     "name": "stderr",
     "output_type": "stream",
     "text": [
      "Epoch 39: 2batch [00:00, 14.18batch/s, loss=945]"
     ]
    },
    {
     "name": "stdout",
     "output_type": "stream",
     "text": [
      "epoch 38: avg test  loss 926.59, bar  test loss 4.011, len  test loss 0.077, col  test loss 160.943\n"
     ]
    },
    {
     "name": "stderr",
     "output_type": "stream",
     "text": [
      "Epoch 39: 272batch [00:18, 14.49batch/s, loss=945]\n"
     ]
    },
    {
     "name": "stdout",
     "output_type": "stream",
     "text": [
      "epoch 39: avg train loss 923.30, bar train loss 3.941, len train loss 0.077, col train loss 160.380\n"
     ]
    },
    {
     "name": "stderr",
     "output_type": "stream",
     "text": [
      "Epoch 40: 2batch [00:00, 14.60batch/s, loss=928]"
     ]
    },
    {
     "name": "stdout",
     "output_type": "stream",
     "text": [
      "epoch 39: avg test  loss 925.51, bar  test loss 3.964, len  test loss 0.078, col  test loss 160.799\n"
     ]
    },
    {
     "name": "stderr",
     "output_type": "stream",
     "text": [
      "Epoch 40: 272batch [00:18, 14.49batch/s, loss=898]\n"
     ]
    },
    {
     "name": "stdout",
     "output_type": "stream",
     "text": [
      "epoch 40: avg train loss 922.22, bar train loss 3.912, len train loss 0.075, col train loss 160.260\n",
      "epoch 40: avg test  loss 924.32, bar  test loss 3.917, len  test loss 0.072, col  test loss 160.718\n"
     ]
    },
    {
     "name": "stderr",
     "output_type": "stream",
     "text": [
      "Epoch 41: 272batch [00:18, 14.53batch/s, loss=939]\n"
     ]
    },
    {
     "name": "stdout",
     "output_type": "stream",
     "text": [
      "epoch 41: avg train loss 921.34, bar train loss 3.883, len train loss 0.076, col train loss 160.132\n"
     ]
    },
    {
     "name": "stderr",
     "output_type": "stream",
     "text": [
      "Epoch 42: 2batch [00:00, 13.79batch/s, loss=922]"
     ]
    },
    {
     "name": "stdout",
     "output_type": "stream",
     "text": [
      "epoch 41: avg test  loss 924.54, bar  test loss 3.937, len  test loss 0.078, col  test loss 160.628\n"
     ]
    },
    {
     "name": "stderr",
     "output_type": "stream",
     "text": [
      "Epoch 42: 272batch [00:19, 13.94batch/s, loss=889]\n"
     ]
    },
    {
     "name": "stdout",
     "output_type": "stream",
     "text": [
      "epoch 42: avg train loss 920.57, bar train loss 3.862, len train loss 0.075, col train loss 160.044\n"
     ]
    },
    {
     "name": "stderr",
     "output_type": "stream",
     "text": [
      "Epoch 43: 2batch [00:00, 14.49batch/s, loss=892]"
     ]
    },
    {
     "name": "stdout",
     "output_type": "stream",
     "text": [
      "epoch 42: avg test  loss 923.14, bar  test loss 3.851, len  test loss 0.075, col  test loss 160.534\n"
     ]
    },
    {
     "name": "stderr",
     "output_type": "stream",
     "text": [
      "Epoch 43: 272batch [00:18, 14.55batch/s, loss=985]\n"
     ]
    },
    {
     "name": "stdout",
     "output_type": "stream",
     "text": [
      "epoch 43: avg train loss 919.04, bar train loss 3.832, len train loss 0.075, col train loss 159.803\n"
     ]
    },
    {
     "name": "stderr",
     "output_type": "stream",
     "text": [
      "Epoch 44: 2batch [00:00, 14.29batch/s, loss=899]"
     ]
    },
    {
     "name": "stdout",
     "output_type": "stream",
     "text": [
      "epoch 43: avg test  loss 921.13, bar  test loss 3.846, len  test loss 0.073, col  test loss 160.250\n"
     ]
    },
    {
     "name": "stderr",
     "output_type": "stream",
     "text": [
      "Epoch 44: 272batch [00:18, 14.50batch/s, loss=1.08e+3]\n"
     ]
    },
    {
     "name": "stdout",
     "output_type": "stream",
     "text": [
      "epoch 44: avg train loss 917.34, bar train loss 3.805, len train loss 0.075, col train loss 159.540\n"
     ]
    },
    {
     "name": "stderr",
     "output_type": "stream",
     "text": [
      "Epoch 45: 2batch [00:00, 12.90batch/s, loss=913]"
     ]
    },
    {
     "name": "stdout",
     "output_type": "stream",
     "text": [
      "epoch 44: avg test  loss 921.48, bar  test loss 3.864, len  test loss 0.077, col  test loss 160.102\n"
     ]
    },
    {
     "name": "stderr",
     "output_type": "stream",
     "text": [
      "Epoch 45: 272batch [00:18, 14.35batch/s, loss=962]\n"
     ]
    },
    {
     "name": "stdout",
     "output_type": "stream",
     "text": [
      "epoch 45: avg train loss 916.35, bar train loss 3.785, len train loss 0.073, col train loss 159.396\n",
      "epoch 45: avg test  loss 919.63, bar  test loss 3.817, len  test loss 0.074, col  test loss 160.016\n"
     ]
    },
    {
     "name": "stderr",
     "output_type": "stream",
     "text": [
      "Epoch 46: 272batch [00:18, 14.48batch/s, loss=913]\n"
     ]
    },
    {
     "name": "stdout",
     "output_type": "stream",
     "text": [
      "epoch 46: avg train loss 915.65, bar train loss 3.769, len train loss 0.073, col train loss 159.266\n"
     ]
    },
    {
     "name": "stderr",
     "output_type": "stream",
     "text": [
      "Epoch 47: 2batch [00:00, 14.39batch/s, loss=937]"
     ]
    },
    {
     "name": "stdout",
     "output_type": "stream",
     "text": [
      "epoch 46: avg test  loss 918.72, bar  test loss 3.812, len  test loss 0.076, col  test loss 159.809\n"
     ]
    },
    {
     "name": "stderr",
     "output_type": "stream",
     "text": [
      "Epoch 47: 272batch [00:18, 14.55batch/s, loss=992]\n"
     ]
    },
    {
     "name": "stdout",
     "output_type": "stream",
     "text": [
      "epoch 47: avg train loss 914.28, bar train loss 3.744, len train loss 0.073, col train loss 159.060\n"
     ]
    },
    {
     "name": "stderr",
     "output_type": "stream",
     "text": [
      "Epoch 48: 2batch [00:00, 14.49batch/s, loss=904]"
     ]
    },
    {
     "name": "stdout",
     "output_type": "stream",
     "text": [
      "epoch 47: avg test  loss 917.49, bar  test loss 3.754, len  test loss 0.076, col  test loss 159.743\n"
     ]
    },
    {
     "name": "stderr",
     "output_type": "stream",
     "text": [
      "Epoch 48: 272batch [00:18, 14.53batch/s, loss=975]\n"
     ]
    },
    {
     "name": "stdout",
     "output_type": "stream",
     "text": [
      "epoch 48: avg train loss 913.54, bar train loss 3.725, len train loss 0.074, col train loss 158.927\n"
     ]
    },
    {
     "name": "stderr",
     "output_type": "stream",
     "text": [
      "Epoch 49: 2batch [00:00, 14.60batch/s, loss=893]"
     ]
    },
    {
     "name": "stdout",
     "output_type": "stream",
     "text": [
      "epoch 48: avg test  loss 918.14, bar  test loss 3.769, len  test loss 0.077, col  test loss 159.594\n"
     ]
    },
    {
     "name": "stderr",
     "output_type": "stream",
     "text": [
      "Epoch 49: 272batch [00:19, 14.27batch/s, loss=988]\n"
     ]
    },
    {
     "name": "stdout",
     "output_type": "stream",
     "text": [
      "epoch 49: avg train loss 912.71, bar train loss 3.711, len train loss 0.072, col train loss 158.798\n"
     ]
    },
    {
     "name": "stderr",
     "output_type": "stream",
     "text": [
      "Epoch 50: 2batch [00:00, 14.60batch/s, loss=910]"
     ]
    },
    {
     "name": "stdout",
     "output_type": "stream",
     "text": [
      "epoch 49: avg test  loss 915.79, bar  test loss 3.728, len  test loss 0.069, col  test loss 159.432\n"
     ]
    },
    {
     "name": "stderr",
     "output_type": "stream",
     "text": [
      "Epoch 50: 272batch [00:18, 14.52batch/s, loss=902]\n"
     ]
    },
    {
     "name": "stdout",
     "output_type": "stream",
     "text": [
      "epoch 50: avg train loss 911.90, bar train loss 3.689, len train loss 0.071, col train loss 158.698\n",
      "epoch 50: avg test  loss 915.50, bar  test loss 3.723, len  test loss 0.072, col  test loss 159.366\n"
     ]
    },
    {
     "name": "stderr",
     "output_type": "stream",
     "text": [
      "Epoch 51: 272batch [00:18, 14.50batch/s, loss=985]\n"
     ]
    },
    {
     "name": "stdout",
     "output_type": "stream",
     "text": [
      "epoch 51: avg train loss 911.19, bar train loss 3.672, len train loss 0.073, col train loss 158.564\n"
     ]
    },
    {
     "name": "stderr",
     "output_type": "stream",
     "text": [
      "Epoch 52: 2batch [00:00, 14.49batch/s, loss=888]"
     ]
    },
    {
     "name": "stdout",
     "output_type": "stream",
     "text": [
      "epoch 51: avg test  loss 914.55, bar  test loss 3.668, len  test loss 0.072, col  test loss 159.189\n"
     ]
    },
    {
     "name": "stderr",
     "output_type": "stream",
     "text": [
      "Epoch 52: 272batch [00:18, 14.48batch/s, loss=950]\n"
     ]
    },
    {
     "name": "stdout",
     "output_type": "stream",
     "text": [
      "epoch 52: avg train loss 910.28, bar train loss 3.653, len train loss 0.071, col train loss 158.460\n"
     ]
    },
    {
     "name": "stderr",
     "output_type": "stream",
     "text": [
      "Epoch 53: 2batch [00:00, 14.60batch/s, loss=883]"
     ]
    },
    {
     "name": "stdout",
     "output_type": "stream",
     "text": [
      "epoch 52: avg test  loss 913.71, bar  test loss 3.655, len  test loss 0.069, col  test loss 159.172\n"
     ]
    },
    {
     "name": "stderr",
     "output_type": "stream",
     "text": [
      "Epoch 53: 272batch [00:19, 14.31batch/s, loss=914]\n"
     ]
    },
    {
     "name": "stdout",
     "output_type": "stream",
     "text": [
      "epoch 53: avg train loss 909.24, bar train loss 3.637, len train loss 0.071, col train loss 158.298\n"
     ]
    },
    {
     "name": "stderr",
     "output_type": "stream",
     "text": [
      "Epoch 54: 2batch [00:00, 14.39batch/s, loss=923]"
     ]
    },
    {
     "name": "stdout",
     "output_type": "stream",
     "text": [
      "epoch 53: avg test  loss 913.09, bar  test loss 3.666, len  test loss 0.068, col  test loss 159.050\n"
     ]
    },
    {
     "name": "stderr",
     "output_type": "stream",
     "text": [
      "Epoch 54: 272batch [00:18, 14.50batch/s, loss=951]\n"
     ]
    },
    {
     "name": "stdout",
     "output_type": "stream",
     "text": [
      "epoch 54: avg train loss 908.59, bar train loss 3.627, len train loss 0.069, col train loss 158.206\n"
     ]
    },
    {
     "name": "stderr",
     "output_type": "stream",
     "text": [
      "Epoch 55: 2batch [00:00, 14.71batch/s, loss=885]"
     ]
    },
    {
     "name": "stdout",
     "output_type": "stream",
     "text": [
      "epoch 54: avg test  loss 912.31, bar  test loss 3.619, len  test loss 0.070, col  test loss 158.913\n"
     ]
    },
    {
     "name": "stderr",
     "output_type": "stream",
     "text": [
      "Epoch 55: 272batch [00:19, 14.23batch/s, loss=917]\n"
     ]
    },
    {
     "name": "stdout",
     "output_type": "stream",
     "text": [
      "epoch 55: avg train loss 907.82, bar train loss 3.600, len train loss 0.070, col train loss 158.080\n",
      "epoch 55: avg test  loss 913.22, bar  test loss 3.684, len  test loss 0.077, col  test loss 158.916\n"
     ]
    },
    {
     "name": "stderr",
     "output_type": "stream",
     "text": [
      "Epoch 56: 272batch [00:19, 14.10batch/s, loss=905]\n"
     ]
    },
    {
     "name": "stdout",
     "output_type": "stream",
     "text": [
      "epoch 56: avg train loss 907.13, bar train loss 3.590, len train loss 0.069, col train loss 157.971\n"
     ]
    },
    {
     "name": "stderr",
     "output_type": "stream",
     "text": [
      "Epoch 57: 2batch [00:00, 14.60batch/s, loss=921]"
     ]
    },
    {
     "name": "stdout",
     "output_type": "stream",
     "text": [
      "epoch 56: avg test  loss 911.52, bar  test loss 3.650, len  test loss 0.074, col  test loss 158.747\n"
     ]
    },
    {
     "name": "stderr",
     "output_type": "stream",
     "text": [
      "Epoch 57: 272batch [00:18, 14.46batch/s, loss=978]\n"
     ]
    },
    {
     "name": "stdout",
     "output_type": "stream",
     "text": [
      "epoch 57: avg train loss 906.57, bar train loss 3.581, len train loss 0.070, col train loss 157.847\n"
     ]
    },
    {
     "name": "stderr",
     "output_type": "stream",
     "text": [
      "Epoch 58: 2batch [00:00, 14.71batch/s, loss=949]"
     ]
    },
    {
     "name": "stdout",
     "output_type": "stream",
     "text": [
      "epoch 57: avg test  loss 911.53, bar  test loss 3.617, len  test loss 0.077, col  test loss 158.546\n"
     ]
    },
    {
     "name": "stderr",
     "output_type": "stream",
     "text": [
      "Epoch 58: 272batch [00:18, 14.40batch/s, loss=917]\n"
     ]
    },
    {
     "name": "stdout",
     "output_type": "stream",
     "text": [
      "epoch 58: avg train loss 905.55, bar train loss 3.559, len train loss 0.069, col train loss 157.700\n"
     ]
    },
    {
     "name": "stderr",
     "output_type": "stream",
     "text": [
      "Epoch 59: 2batch [00:00, 14.18batch/s, loss=878]"
     ]
    },
    {
     "name": "stdout",
     "output_type": "stream",
     "text": [
      "epoch 58: avg test  loss 909.89, bar  test loss 3.587, len  test loss 0.067, col  test loss 158.543\n"
     ]
    },
    {
     "name": "stderr",
     "output_type": "stream",
     "text": [
      "Epoch 59: 272batch [00:18, 14.55batch/s, loss=829]\n"
     ]
    },
    {
     "name": "stdout",
     "output_type": "stream",
     "text": [
      "epoch 59: avg train loss 904.63, bar train loss 3.542, len train loss 0.067, col train loss 157.600\n"
     ]
    },
    {
     "name": "stderr",
     "output_type": "stream",
     "text": [
      "Epoch 60: 2batch [00:00, 14.39batch/s, loss=905]"
     ]
    },
    {
     "name": "stdout",
     "output_type": "stream",
     "text": [
      "epoch 59: avg test  loss 909.49, bar  test loss 3.571, len  test loss 0.068, col  test loss 158.450\n"
     ]
    },
    {
     "name": "stderr",
     "output_type": "stream",
     "text": [
      "Epoch 60: 272batch [00:18, 14.54batch/s, loss=839]\n"
     ]
    },
    {
     "name": "stdout",
     "output_type": "stream",
     "text": [
      "epoch 60: avg train loss 904.22, bar train loss 3.537, len train loss 0.066, col train loss 157.515\n",
      "epoch 60: avg test  loss 909.27, bar  test loss 3.585, len  test loss 0.070, col  test loss 158.376\n"
     ]
    },
    {
     "name": "stderr",
     "output_type": "stream",
     "text": [
      "Epoch 61: 272batch [00:19, 14.12batch/s, loss=935]\n"
     ]
    },
    {
     "name": "stdout",
     "output_type": "stream",
     "text": [
      "epoch 61: avg train loss 903.52, bar train loss 3.522, len train loss 0.067, col train loss 157.410\n"
     ]
    },
    {
     "name": "stderr",
     "output_type": "stream",
     "text": [
      "Epoch 62: 2batch [00:00, 14.71batch/s, loss=929]"
     ]
    },
    {
     "name": "stdout",
     "output_type": "stream",
     "text": [
      "epoch 61: avg test  loss 908.97, bar  test loss 3.564, len  test loss 0.072, col  test loss 158.317\n"
     ]
    },
    {
     "name": "stderr",
     "output_type": "stream",
     "text": [
      "Epoch 62: 272batch [00:18, 14.53batch/s, loss=905]\n"
     ]
    },
    {
     "name": "stdout",
     "output_type": "stream",
     "text": [
      "epoch 62: avg train loss 902.52, bar train loss 3.506, len train loss 0.063, col train loss 157.322\n"
     ]
    },
    {
     "name": "stderr",
     "output_type": "stream",
     "text": [
      "Epoch 63: 2batch [00:00, 14.60batch/s, loss=910]"
     ]
    },
    {
     "name": "stdout",
     "output_type": "stream",
     "text": [
      "epoch 62: avg test  loss 907.37, bar  test loss 3.538, len  test loss 0.065, col  test loss 158.216\n"
     ]
    },
    {
     "name": "stderr",
     "output_type": "stream",
     "text": [
      "Epoch 63: 272batch [00:18, 14.56batch/s, loss=838]\n"
     ]
    },
    {
     "name": "stdout",
     "output_type": "stream",
     "text": [
      "epoch 63: avg train loss 901.69, bar train loss 3.499, len train loss 0.062, col train loss 157.193\n"
     ]
    },
    {
     "name": "stderr",
     "output_type": "stream",
     "text": [
      "Epoch 64: 2batch [00:00, 14.93batch/s, loss=903]"
     ]
    },
    {
     "name": "stdout",
     "output_type": "stream",
     "text": [
      "epoch 63: avg test  loss 906.91, bar  test loss 3.527, len  test loss 0.063, col  test loss 158.152\n"
     ]
    },
    {
     "name": "stderr",
     "output_type": "stream",
     "text": [
      "Epoch 64: 272batch [00:18, 14.35batch/s, loss=869]\n"
     ]
    },
    {
     "name": "stdout",
     "output_type": "stream",
     "text": [
      "epoch 64: avg train loss 900.60, bar train loss 3.485, len train loss 0.058, col train loss 157.102\n"
     ]
    },
    {
     "name": "stderr",
     "output_type": "stream",
     "text": [
      "Epoch 65: 2batch [00:00, 14.39batch/s, loss=922]"
     ]
    },
    {
     "name": "stdout",
     "output_type": "stream",
     "text": [
      "epoch 64: avg test  loss 905.54, bar  test loss 3.529, len  test loss 0.057, col  test loss 158.063\n"
     ]
    },
    {
     "name": "stderr",
     "output_type": "stream",
     "text": [
      "Epoch 65: 272batch [00:18, 14.36batch/s, loss=953]\n"
     ]
    },
    {
     "name": "stdout",
     "output_type": "stream",
     "text": [
      "epoch 65: avg train loss 899.63, bar train loss 3.472, len train loss 0.056, col train loss 156.962\n",
      "epoch 65: avg test  loss 904.71, bar  test loss 3.513, len  test loss 0.054, col  test loss 157.967\n"
     ]
    },
    {
     "name": "stderr",
     "output_type": "stream",
     "text": [
      "Epoch 66: 272batch [00:18, 14.42batch/s, loss=846]\n"
     ]
    },
    {
     "name": "stdout",
     "output_type": "stream",
     "text": [
      "epoch 66: avg train loss 898.45, bar train loss 3.464, len train loss 0.052, col train loss 156.861\n"
     ]
    },
    {
     "name": "stderr",
     "output_type": "stream",
     "text": [
      "Epoch 67: 2batch [00:00, 14.39batch/s, loss=881]"
     ]
    },
    {
     "name": "stdout",
     "output_type": "stream",
     "text": [
      "epoch 66: avg test  loss 904.76, bar  test loss 3.504, len  test loss 0.055, col  test loss 157.932\n"
     ]
    },
    {
     "name": "stderr",
     "output_type": "stream",
     "text": [
      "Epoch 67: 272batch [00:18, 14.47batch/s, loss=873]\n"
     ]
    },
    {
     "name": "stdout",
     "output_type": "stream",
     "text": [
      "epoch 67: avg train loss 897.78, bar train loss 3.450, len train loss 0.051, col train loss 156.786\n"
     ]
    },
    {
     "name": "stderr",
     "output_type": "stream",
     "text": [
      "Epoch 68: 2batch [00:00, 14.71batch/s, loss=906]"
     ]
    },
    {
     "name": "stdout",
     "output_type": "stream",
     "text": [
      "epoch 67: avg test  loss 903.49, bar  test loss 3.537, len  test loss 0.052, col  test loss 157.800\n"
     ]
    },
    {
     "name": "stderr",
     "output_type": "stream",
     "text": [
      "Epoch 68: 272batch [00:19, 14.28batch/s, loss=871]\n"
     ]
    },
    {
     "name": "stdout",
     "output_type": "stream",
     "text": [
      "epoch 68: avg train loss 896.59, bar train loss 3.448, len train loss 0.048, col train loss 156.601\n"
     ]
    },
    {
     "name": "stderr",
     "output_type": "stream",
     "text": [
      "Epoch 69: 2batch [00:00, 14.39batch/s, loss=889]"
     ]
    },
    {
     "name": "stdout",
     "output_type": "stream",
     "text": [
      "epoch 68: avg test  loss 901.95, bar  test loss 3.497, len  test loss 0.046, col  test loss 157.598\n"
     ]
    },
    {
     "name": "stderr",
     "output_type": "stream",
     "text": [
      "Epoch 69: 272batch [00:18, 14.46batch/s, loss=945]\n"
     ]
    },
    {
     "name": "stdout",
     "output_type": "stream",
     "text": [
      "epoch 69: avg train loss 895.29, bar train loss 3.438, len train loss 0.046, col train loss 156.425\n"
     ]
    },
    {
     "name": "stderr",
     "output_type": "stream",
     "text": [
      "Epoch 70: 2batch [00:00, 14.39batch/s, loss=894]"
     ]
    },
    {
     "name": "stdout",
     "output_type": "stream",
     "text": [
      "epoch 69: avg test  loss 901.99, bar  test loss 3.490, len  test loss 0.053, col  test loss 157.503\n"
     ]
    },
    {
     "name": "stderr",
     "output_type": "stream",
     "text": [
      "Epoch 70: 272batch [00:18, 14.48batch/s, loss=1e+3]\n"
     ]
    },
    {
     "name": "stdout",
     "output_type": "stream",
     "text": [
      "epoch 70: avg train loss 894.42, bar train loss 3.426, len train loss 0.044, col train loss 156.300\n",
      "epoch 70: avg test  loss 900.55, bar  test loss 3.470, len  test loss 0.042, col  test loss 157.429\n"
     ]
    },
    {
     "name": "stderr",
     "output_type": "stream",
     "text": [
      "Epoch 71: 272batch [00:19, 14.10batch/s, loss=913]\n"
     ]
    },
    {
     "name": "stdout",
     "output_type": "stream",
     "text": [
      "epoch 71: avg train loss 893.44, bar train loss 3.420, len train loss 0.041, col train loss 156.199\n"
     ]
    },
    {
     "name": "stderr",
     "output_type": "stream",
     "text": [
      "Epoch 72: 2batch [00:00, 14.81batch/s, loss=880]"
     ]
    },
    {
     "name": "stdout",
     "output_type": "stream",
     "text": [
      "epoch 71: avg test  loss 899.82, bar  test loss 3.501, len  test loss 0.041, col  test loss 157.286\n"
     ]
    },
    {
     "name": "stderr",
     "output_type": "stream",
     "text": [
      "Epoch 72: 272batch [00:18, 14.48batch/s, loss=838]\n"
     ]
    },
    {
     "name": "stdout",
     "output_type": "stream",
     "text": [
      "epoch 72: avg train loss 892.65, bar train loss 3.404, len train loss 0.040, col train loss 156.086\n"
     ]
    },
    {
     "name": "stderr",
     "output_type": "stream",
     "text": [
      "Epoch 73: 2batch [00:00, 14.49batch/s, loss=888]"
     ]
    },
    {
     "name": "stdout",
     "output_type": "stream",
     "text": [
      "epoch 72: avg test  loss 899.07, bar  test loss 3.475, len  test loss 0.042, col  test loss 157.199\n"
     ]
    },
    {
     "name": "stderr",
     "output_type": "stream",
     "text": [
      "Epoch 73: 272batch [00:18, 14.42batch/s, loss=936]\n"
     ]
    },
    {
     "name": "stdout",
     "output_type": "stream",
     "text": [
      "epoch 73: avg train loss 891.50, bar train loss 3.394, len train loss 0.038, col train loss 155.937\n"
     ]
    },
    {
     "name": "stderr",
     "output_type": "stream",
     "text": [
      "Epoch 74: 2batch [00:00, 13.89batch/s, loss=874]"
     ]
    },
    {
     "name": "stdout",
     "output_type": "stream",
     "text": [
      "epoch 73: avg test  loss 897.81, bar  test loss 3.420, len  test loss 0.038, col  test loss 157.092\n"
     ]
    },
    {
     "name": "stderr",
     "output_type": "stream",
     "text": [
      "Epoch 74: 272batch [00:19, 14.30batch/s, loss=943]\n"
     ]
    },
    {
     "name": "stdout",
     "output_type": "stream",
     "text": [
      "epoch 74: avg train loss 890.63, bar train loss 3.386, len train loss 0.038, col train loss 155.778\n"
     ]
    },
    {
     "name": "stderr",
     "output_type": "stream",
     "text": [
      "Epoch 75: 2batch [00:00, 14.60batch/s, loss=871]"
     ]
    },
    {
     "name": "stdout",
     "output_type": "stream",
     "text": [
      "epoch 74: avg test  loss 896.80, bar  test loss 3.432, len  test loss 0.036, col  test loss 156.921\n"
     ]
    },
    {
     "name": "stderr",
     "output_type": "stream",
     "text": [
      "Epoch 75: 272batch [00:19, 14.31batch/s, loss=825]\n"
     ]
    },
    {
     "name": "stdout",
     "output_type": "stream",
     "text": [
      "epoch 75: avg train loss 890.00, bar train loss 3.382, len train loss 0.037, col train loss 155.661\n",
      "epoch 75: avg test  loss 896.45, bar  test loss 3.413, len  test loss 0.035, col  test loss 156.821\n"
     ]
    },
    {
     "name": "stderr",
     "output_type": "stream",
     "text": [
      "Epoch 76: 272batch [00:19, 14.28batch/s, loss=865]\n"
     ]
    },
    {
     "name": "stdout",
     "output_type": "stream",
     "text": [
      "epoch 76: avg train loss 889.17, bar train loss 3.365, len train loss 0.035, col train loss 155.575\n"
     ]
    },
    {
     "name": "stderr",
     "output_type": "stream",
     "text": [
      "Epoch 77: 2batch [00:00, 14.18batch/s, loss=882]"
     ]
    },
    {
     "name": "stdout",
     "output_type": "stream",
     "text": [
      "epoch 76: avg test  loss 895.98, bar  test loss 3.424, len  test loss 0.037, col  test loss 156.798\n"
     ]
    },
    {
     "name": "stderr",
     "output_type": "stream",
     "text": [
      "Epoch 77: 272batch [00:18, 14.41batch/s, loss=967]\n"
     ]
    },
    {
     "name": "stdout",
     "output_type": "stream",
     "text": [
      "epoch 77: avg train loss 888.61, bar train loss 3.360, len train loss 0.036, col train loss 155.466\n"
     ]
    },
    {
     "name": "stderr",
     "output_type": "stream",
     "text": [
      "Epoch 78: 2batch [00:00, 14.71batch/s, loss=879]"
     ]
    },
    {
     "name": "stdout",
     "output_type": "stream",
     "text": [
      "epoch 77: avg test  loss 895.31, bar  test loss 3.415, len  test loss 0.034, col  test loss 156.673\n"
     ]
    },
    {
     "name": "stderr",
     "output_type": "stream",
     "text": [
      "Epoch 78: 272batch [00:18, 14.43batch/s, loss=885]\n"
     ]
    },
    {
     "name": "stdout",
     "output_type": "stream",
     "text": [
      "epoch 78: avg train loss 887.83, bar train loss 3.347, len train loss 0.035, col train loss 155.329\n"
     ]
    },
    {
     "name": "stderr",
     "output_type": "stream",
     "text": [
      "Epoch 79: 2batch [00:00, 13.70batch/s, loss=870]"
     ]
    },
    {
     "name": "stdout",
     "output_type": "stream",
     "text": [
      "epoch 78: avg test  loss 894.62, bar  test loss 3.417, len  test loss 0.033, col  test loss 156.565\n"
     ]
    },
    {
     "name": "stderr",
     "output_type": "stream",
     "text": [
      "Epoch 79: 272batch [00:19, 14.08batch/s, loss=917]\n"
     ]
    },
    {
     "name": "stdout",
     "output_type": "stream",
     "text": [
      "epoch 79: avg train loss 887.10, bar train loss 3.335, len train loss 0.034, col train loss 155.212\n"
     ]
    },
    {
     "name": "stderr",
     "output_type": "stream",
     "text": [
      "Epoch 80: 2batch [00:00, 14.08batch/s, loss=933]"
     ]
    },
    {
     "name": "stdout",
     "output_type": "stream",
     "text": [
      "epoch 79: avg test  loss 894.33, bar  test loss 3.428, len  test loss 0.034, col  test loss 156.489\n"
     ]
    },
    {
     "name": "stderr",
     "output_type": "stream",
     "text": [
      "Epoch 80: 272batch [00:18, 14.43batch/s, loss=863]\n"
     ]
    },
    {
     "name": "stdout",
     "output_type": "stream",
     "text": [
      "epoch 80: avg train loss 886.21, bar train loss 3.326, len train loss 0.033, col train loss 155.074\n",
      "epoch 80: avg test  loss 894.21, bar  test loss 3.389, len  test loss 0.039, col  test loss 156.386\n"
     ]
    },
    {
     "name": "stderr",
     "output_type": "stream",
     "text": [
      "Epoch 81: 272batch [00:19, 14.18batch/s, loss=855]\n"
     ]
    },
    {
     "name": "stdout",
     "output_type": "stream",
     "text": [
      "epoch 81: avg train loss 885.45, bar train loss 3.320, len train loss 0.033, col train loss 154.918\n"
     ]
    },
    {
     "name": "stderr",
     "output_type": "stream",
     "text": [
      "Epoch 82: 2batch [00:00, 14.49batch/s, loss=849]"
     ]
    },
    {
     "name": "stdout",
     "output_type": "stream",
     "text": [
      "epoch 81: avg test  loss 893.14, bar  test loss 3.355, len  test loss 0.032, col  test loss 156.275\n"
     ]
    },
    {
     "name": "stderr",
     "output_type": "stream",
     "text": [
      "Epoch 82: 272batch [00:19, 14.29batch/s, loss=888]\n"
     ]
    },
    {
     "name": "stdout",
     "output_type": "stream",
     "text": [
      "epoch 82: avg train loss 884.64, bar train loss 3.302, len train loss 0.033, col train loss 154.812\n"
     ]
    },
    {
     "name": "stderr",
     "output_type": "stream",
     "text": [
      "Epoch 83: 2batch [00:00, 14.29batch/s, loss=891]"
     ]
    },
    {
     "name": "stdout",
     "output_type": "stream",
     "text": [
      "epoch 82: avg test  loss 892.48, bar  test loss 3.336, len  test loss 0.032, col  test loss 156.195\n"
     ]
    },
    {
     "name": "stderr",
     "output_type": "stream",
     "text": [
      "Epoch 83: 272batch [00:19, 14.24batch/s, loss=892]\n"
     ]
    },
    {
     "name": "stdout",
     "output_type": "stream",
     "text": [
      "epoch 83: avg train loss 884.09, bar train loss 3.296, len train loss 0.032, col train loss 154.721\n"
     ]
    },
    {
     "name": "stderr",
     "output_type": "stream",
     "text": [
      "Epoch 84: 2batch [00:00, 13.89batch/s, loss=844]"
     ]
    },
    {
     "name": "stdout",
     "output_type": "stream",
     "text": [
      "epoch 83: avg test  loss 892.23, bar  test loss 3.364, len  test loss 0.031, col  test loss 156.084\n"
     ]
    },
    {
     "name": "stderr",
     "output_type": "stream",
     "text": [
      "Epoch 84: 272batch [00:19, 14.19batch/s, loss=937]\n"
     ]
    },
    {
     "name": "stdout",
     "output_type": "stream",
     "text": [
      "epoch 84: avg train loss 883.74, bar train loss 3.289, len train loss 0.031, col train loss 154.650\n"
     ]
    },
    {
     "name": "stderr",
     "output_type": "stream",
     "text": [
      "Epoch 85: 2batch [00:00, 13.89batch/s, loss=875]"
     ]
    },
    {
     "name": "stdout",
     "output_type": "stream",
     "text": [
      "epoch 84: avg test  loss 891.57, bar  test loss 3.323, len  test loss 0.034, col  test loss 156.023\n"
     ]
    },
    {
     "name": "stderr",
     "output_type": "stream",
     "text": [
      "Epoch 85: 272batch [00:19, 14.12batch/s, loss=811]\n"
     ]
    },
    {
     "name": "stdout",
     "output_type": "stream",
     "text": [
      "epoch 85: avg train loss 882.87, bar train loss 3.276, len train loss 0.032, col train loss 154.496\n",
      "epoch 85: avg test  loss 891.27, bar  test loss 3.352, len  test loss 0.031, col  test loss 155.968\n"
     ]
    },
    {
     "name": "stderr",
     "output_type": "stream",
     "text": [
      "Epoch 86: 272batch [00:18, 14.35batch/s, loss=845]\n"
     ]
    },
    {
     "name": "stdout",
     "output_type": "stream",
     "text": [
      "epoch 86: avg train loss 882.24, bar train loss 3.265, len train loss 0.032, col train loss 154.387\n"
     ]
    },
    {
     "name": "stderr",
     "output_type": "stream",
     "text": [
      "Epoch 87: 2batch [00:00, 14.71batch/s, loss=880]"
     ]
    },
    {
     "name": "stdout",
     "output_type": "stream",
     "text": [
      "epoch 86: avg test  loss 890.45, bar  test loss 3.335, len  test loss 0.031, col  test loss 155.832\n"
     ]
    },
    {
     "name": "stderr",
     "output_type": "stream",
     "text": [
      "Epoch 87: 272batch [00:18, 14.35batch/s, loss=795]\n"
     ]
    },
    {
     "name": "stdout",
     "output_type": "stream",
     "text": [
      "epoch 87: avg train loss 881.82, bar train loss 3.260, len train loss 0.031, col train loss 154.296\n"
     ]
    },
    {
     "name": "stderr",
     "output_type": "stream",
     "text": [
      "Epoch 88: 2batch [00:00, 14.08batch/s, loss=908]"
     ]
    },
    {
     "name": "stdout",
     "output_type": "stream",
     "text": [
      "epoch 87: avg test  loss 890.98, bar  test loss 3.300, len  test loss 0.038, col  test loss 155.800\n"
     ]
    },
    {
     "name": "stderr",
     "output_type": "stream",
     "text": [
      "Epoch 88: 272batch [00:18, 14.33batch/s, loss=824]\n"
     ]
    },
    {
     "name": "stdout",
     "output_type": "stream",
     "text": [
      "epoch 88: avg train loss 881.34, bar train loss 3.249, len train loss 0.031, col train loss 154.216\n"
     ]
    },
    {
     "name": "stderr",
     "output_type": "stream",
     "text": [
      "Epoch 89: 2batch [00:00, 14.39batch/s, loss=899]"
     ]
    },
    {
     "name": "stdout",
     "output_type": "stream",
     "text": [
      "epoch 88: avg test  loss 890.19, bar  test loss 3.300, len  test loss 0.033, col  test loss 155.809\n"
     ]
    },
    {
     "name": "stderr",
     "output_type": "stream",
     "text": [
      "Epoch 89: 272batch [00:18, 14.38batch/s, loss=904]\n"
     ]
    },
    {
     "name": "stdout",
     "output_type": "stream",
     "text": [
      "epoch 89: avg train loss 880.78, bar train loss 3.239, len train loss 0.031, col train loss 154.131\n"
     ]
    },
    {
     "name": "stderr",
     "output_type": "stream",
     "text": [
      "Epoch 90: 2batch [00:00, 14.49batch/s, loss=871]"
     ]
    },
    {
     "name": "stdout",
     "output_type": "stream",
     "text": [
      "epoch 89: avg test  loss 889.76, bar  test loss 3.296, len  test loss 0.031, col  test loss 155.684\n"
     ]
    },
    {
     "name": "stderr",
     "output_type": "stream",
     "text": [
      "Epoch 90: 272batch [00:18, 14.38batch/s, loss=955]\n"
     ]
    },
    {
     "name": "stdout",
     "output_type": "stream",
     "text": [
      "epoch 90: avg train loss 879.80, bar train loss 3.222, len train loss 0.030, col train loss 153.971\n",
      "epoch 90: avg test  loss 888.72, bar  test loss 3.305, len  test loss 0.033, col  test loss 155.415\n"
     ]
    },
    {
     "name": "stderr",
     "output_type": "stream",
     "text": [
      "Epoch 91: 272batch [00:19, 13.90batch/s, loss=906]\n"
     ]
    },
    {
     "name": "stdout",
     "output_type": "stream",
     "text": [
      "epoch 91: avg train loss 878.99, bar train loss 3.213, len train loss 0.030, col train loss 153.834\n"
     ]
    },
    {
     "name": "stderr",
     "output_type": "stream",
     "text": [
      "Epoch 92: 2batch [00:00, 14.39batch/s, loss=869]"
     ]
    },
    {
     "name": "stdout",
     "output_type": "stream",
     "text": [
      "epoch 91: avg test  loss 887.81, bar  test loss 3.298, len  test loss 0.030, col  test loss 155.337\n"
     ]
    },
    {
     "name": "stderr",
     "output_type": "stream",
     "text": [
      "Epoch 92: 272batch [00:18, 14.35batch/s, loss=859]\n"
     ]
    },
    {
     "name": "stdout",
     "output_type": "stream",
     "text": [
      "epoch 92: avg train loss 878.47, bar train loss 3.203, len train loss 0.030, col train loss 153.722\n"
     ]
    },
    {
     "name": "stderr",
     "output_type": "stream",
     "text": [
      "Epoch 93: 2batch [00:00, 14.39batch/s, loss=929]"
     ]
    },
    {
     "name": "stdout",
     "output_type": "stream",
     "text": [
      "epoch 92: avg test  loss 887.48, bar  test loss 3.258, len  test loss 0.030, col  test loss 155.373\n"
     ]
    },
    {
     "name": "stderr",
     "output_type": "stream",
     "text": [
      "Epoch 93: 272batch [00:18, 14.36batch/s, loss=893]\n"
     ]
    },
    {
     "name": "stdout",
     "output_type": "stream",
     "text": [
      "epoch 93: avg train loss 877.81, bar train loss 3.186, len train loss 0.030, col train loss 153.640\n"
     ]
    },
    {
     "name": "stderr",
     "output_type": "stream",
     "text": [
      "Epoch 94: 2batch [00:00, 13.99batch/s, loss=875]"
     ]
    },
    {
     "name": "stdout",
     "output_type": "stream",
     "text": [
      "epoch 93: avg test  loss 887.34, bar  test loss 3.279, len  test loss 0.031, col  test loss 155.323\n"
     ]
    },
    {
     "name": "stderr",
     "output_type": "stream",
     "text": [
      "Epoch 94: 272batch [00:19, 14.02batch/s, loss=860]\n"
     ]
    },
    {
     "name": "stdout",
     "output_type": "stream",
     "text": [
      "epoch 94: avg train loss 877.29, bar train loss 3.176, len train loss 0.031, col train loss 153.537\n"
     ]
    },
    {
     "name": "stderr",
     "output_type": "stream",
     "text": [
      "Epoch 95: 2batch [00:00, 14.71batch/s, loss=896]"
     ]
    },
    {
     "name": "stdout",
     "output_type": "stream",
     "text": [
      "epoch 94: avg test  loss 887.25, bar  test loss 3.254, len  test loss 0.030, col  test loss 155.270\n"
     ]
    },
    {
     "name": "stderr",
     "output_type": "stream",
     "text": [
      "Epoch 95: 272batch [00:18, 14.36batch/s, loss=919]\n"
     ]
    },
    {
     "name": "stdout",
     "output_type": "stream",
     "text": [
      "epoch 95: avg train loss 876.68, bar train loss 3.171, len train loss 0.029, col train loss 153.452\n",
      "epoch 95: avg test  loss 886.92, bar  test loss 3.216, len  test loss 0.032, col  test loss 155.128\n"
     ]
    },
    {
     "name": "stderr",
     "output_type": "stream",
     "text": [
      "Epoch 96: 272batch [00:19, 14.27batch/s, loss=888]\n"
     ]
    },
    {
     "name": "stdout",
     "output_type": "stream",
     "text": [
      "epoch 96: avg train loss 876.26, bar train loss 3.159, len train loss 0.029, col train loss 153.368\n"
     ]
    },
    {
     "name": "stderr",
     "output_type": "stream",
     "text": [
      "Epoch 97: 2batch [00:00, 14.49batch/s, loss=886]"
     ]
    },
    {
     "name": "stdout",
     "output_type": "stream",
     "text": [
      "epoch 96: avg test  loss 886.04, bar  test loss 3.217, len  test loss 0.030, col  test loss 155.166\n"
     ]
    },
    {
     "name": "stderr",
     "output_type": "stream",
     "text": [
      "Epoch 97: 272batch [00:18, 14.44batch/s, loss=835]\n"
     ]
    },
    {
     "name": "stdout",
     "output_type": "stream",
     "text": [
      "epoch 97: avg train loss 875.70, bar train loss 3.143, len train loss 0.030, col train loss 153.289\n"
     ]
    },
    {
     "name": "stderr",
     "output_type": "stream",
     "text": [
      "Epoch 98: 2batch [00:00, 14.60batch/s, loss=899]"
     ]
    },
    {
     "name": "stdout",
     "output_type": "stream",
     "text": [
      "epoch 97: avg test  loss 885.63, bar  test loss 3.220, len  test loss 0.032, col  test loss 154.992\n"
     ]
    },
    {
     "name": "stderr",
     "output_type": "stream",
     "text": [
      "Epoch 98: 272batch [00:19, 14.20batch/s, loss=915]\n"
     ]
    },
    {
     "name": "stdout",
     "output_type": "stream",
     "text": [
      "epoch 98: avg train loss 874.87, bar train loss 3.136, len train loss 0.029, col train loss 153.141\n"
     ]
    },
    {
     "name": "stderr",
     "output_type": "stream",
     "text": [
      "Epoch 99: 2batch [00:00, 13.79batch/s, loss=893]"
     ]
    },
    {
     "name": "stdout",
     "output_type": "stream",
     "text": [
      "epoch 98: avg test  loss 884.90, bar  test loss 3.208, len  test loss 0.029, col  test loss 154.939\n"
     ]
    },
    {
     "name": "stderr",
     "output_type": "stream",
     "text": [
      "Epoch 99: 272batch [00:19, 13.92batch/s, loss=890]\n"
     ]
    },
    {
     "name": "stdout",
     "output_type": "stream",
     "text": [
      "epoch 99: avg train loss 874.27, bar train loss 3.125, len train loss 0.029, col train loss 153.046\n"
     ]
    },
    {
     "name": "stderr",
     "output_type": "stream",
     "text": [
      "Epoch 100: 2batch [00:00, 13.89batch/s, loss=858]"
     ]
    },
    {
     "name": "stdout",
     "output_type": "stream",
     "text": [
      "epoch 99: avg test  loss 884.70, bar  test loss 3.207, len  test loss 0.033, col  test loss 154.901\n"
     ]
    },
    {
     "name": "stderr",
     "output_type": "stream",
     "text": [
      "Epoch 100: 272batch [00:19, 14.17batch/s, loss=837]\n"
     ]
    },
    {
     "name": "stdout",
     "output_type": "stream",
     "text": [
      "epoch 100: avg train loss 873.59, bar train loss 3.111, len train loss 0.028, col train loss 152.946\n",
      "epoch 100: avg test  loss 883.94, bar  test loss 3.200, len  test loss 0.030, col  test loss 154.767\n"
     ]
    },
    {
     "name": "stderr",
     "output_type": "stream",
     "text": [
      "Epoch 101: 272batch [00:19, 14.08batch/s, loss=882]\n"
     ]
    },
    {
     "name": "stdout",
     "output_type": "stream",
     "text": [
      "epoch 101: avg train loss 872.92, bar train loss 3.098, len train loss 0.029, col train loss 152.853\n"
     ]
    },
    {
     "name": "stderr",
     "output_type": "stream",
     "text": [
      "Epoch 102: 2batch [00:00, 14.29batch/s, loss=898]"
     ]
    },
    {
     "name": "stdout",
     "output_type": "stream",
     "text": [
      "epoch 101: avg test  loss 884.08, bar  test loss 3.156, len  test loss 0.029, col  test loss 154.770\n"
     ]
    },
    {
     "name": "stderr",
     "output_type": "stream",
     "text": [
      "Epoch 102: 272batch [00:19, 14.09batch/s, loss=978]\n"
     ]
    },
    {
     "name": "stdout",
     "output_type": "stream",
     "text": [
      "epoch 102: avg train loss 872.40, bar train loss 3.086, len train loss 0.029, col train loss 152.780\n"
     ]
    },
    {
     "name": "stderr",
     "output_type": "stream",
     "text": [
      "Epoch 103: 2batch [00:00, 13.79batch/s, loss=881]"
     ]
    },
    {
     "name": "stdout",
     "output_type": "stream",
     "text": [
      "epoch 102: avg test  loss 883.39, bar  test loss 3.164, len  test loss 0.030, col  test loss 154.707\n"
     ]
    },
    {
     "name": "stderr",
     "output_type": "stream",
     "text": [
      "Epoch 103: 272batch [00:19, 14.21batch/s, loss=946]\n"
     ]
    },
    {
     "name": "stdout",
     "output_type": "stream",
     "text": [
      "epoch 103: avg train loss 872.09, bar train loss 3.082, len train loss 0.029, col train loss 152.689\n"
     ]
    },
    {
     "name": "stderr",
     "output_type": "stream",
     "text": [
      "Epoch 104: 2batch [00:00, 14.08batch/s, loss=868]"
     ]
    },
    {
     "name": "stdout",
     "output_type": "stream",
     "text": [
      "epoch 103: avg test  loss 882.34, bar  test loss 3.145, len  test loss 0.029, col  test loss 154.548\n"
     ]
    },
    {
     "name": "stderr",
     "output_type": "stream",
     "text": [
      "Epoch 104: 272batch [00:19, 13.99batch/s, loss=806]\n"
     ]
    },
    {
     "name": "stdout",
     "output_type": "stream",
     "text": [
      "epoch 104: avg train loss 870.94, bar train loss 3.063, len train loss 0.028, col train loss 152.540\n"
     ]
    },
    {
     "name": "stderr",
     "output_type": "stream",
     "text": [
      "Epoch 105: 2batch [00:00, 14.08batch/s, loss=915]"
     ]
    },
    {
     "name": "stdout",
     "output_type": "stream",
     "text": [
      "epoch 104: avg test  loss 881.96, bar  test loss 3.130, len  test loss 0.028, col  test loss 154.436\n"
     ]
    },
    {
     "name": "stderr",
     "output_type": "stream",
     "text": [
      "Epoch 105: 272batch [00:18, 14.33batch/s, loss=915]\n"
     ]
    },
    {
     "name": "stdout",
     "output_type": "stream",
     "text": [
      "epoch 105: avg train loss 870.39, bar train loss 3.051, len train loss 0.029, col train loss 152.446\n",
      "epoch 105: avg test  loss 881.36, bar  test loss 3.130, len  test loss 0.028, col  test loss 154.418\n"
     ]
    },
    {
     "name": "stderr",
     "output_type": "stream",
     "text": [
      "Epoch 106: 272batch [00:19, 14.27batch/s, loss=880]\n"
     ]
    },
    {
     "name": "stdout",
     "output_type": "stream",
     "text": [
      "epoch 106: avg train loss 869.76, bar train loss 3.038, len train loss 0.028, col train loss 152.355\n"
     ]
    },
    {
     "name": "stderr",
     "output_type": "stream",
     "text": [
      "Epoch 107: 2batch [00:00, 14.29batch/s, loss=866]"
     ]
    },
    {
     "name": "stdout",
     "output_type": "stream",
     "text": [
      "epoch 106: avg test  loss 881.18, bar  test loss 3.119, len  test loss 0.029, col  test loss 154.334\n"
     ]
    },
    {
     "name": "stderr",
     "output_type": "stream",
     "text": [
      "Epoch 107: 272batch [00:18, 14.32batch/s, loss=910]\n"
     ]
    },
    {
     "name": "stdout",
     "output_type": "stream",
     "text": [
      "epoch 107: avg train loss 869.19, bar train loss 3.029, len train loss 0.028, col train loss 152.288\n"
     ]
    },
    {
     "name": "stderr",
     "output_type": "stream",
     "text": [
      "Epoch 108: 2batch [00:00, 14.29batch/s, loss=894]"
     ]
    },
    {
     "name": "stdout",
     "output_type": "stream",
     "text": [
      "epoch 107: avg test  loss 881.24, bar  test loss 3.128, len  test loss 0.034, col  test loss 154.350\n"
     ]
    },
    {
     "name": "stderr",
     "output_type": "stream",
     "text": [
      "Epoch 108: 272batch [00:18, 14.37batch/s, loss=869]\n"
     ]
    },
    {
     "name": "stdout",
     "output_type": "stream",
     "text": [
      "epoch 108: avg train loss 868.65, bar train loss 3.014, len train loss 0.029, col train loss 152.182\n"
     ]
    },
    {
     "name": "stderr",
     "output_type": "stream",
     "text": [
      "Epoch 109: 2batch [00:00, 14.39batch/s, loss=861]"
     ]
    },
    {
     "name": "stdout",
     "output_type": "stream",
     "text": [
      "epoch 108: avg test  loss 879.83, bar  test loss 3.093, len  test loss 0.028, col  test loss 154.247\n"
     ]
    },
    {
     "name": "stderr",
     "output_type": "stream",
     "text": [
      "Epoch 109: 272batch [00:19, 14.27batch/s, loss=834]\n"
     ]
    },
    {
     "name": "stdout",
     "output_type": "stream",
     "text": [
      "epoch 109: avg train loss 867.93, bar train loss 3.004, len train loss 0.028, col train loss 152.092\n"
     ]
    },
    {
     "name": "stderr",
     "output_type": "stream",
     "text": [
      "Epoch 110: 2batch [00:00, 14.08batch/s, loss=860]"
     ]
    },
    {
     "name": "stdout",
     "output_type": "stream",
     "text": [
      "epoch 109: avg test  loss 879.98, bar  test loss 3.094, len  test loss 0.028, col  test loss 154.187\n"
     ]
    },
    {
     "name": "stderr",
     "output_type": "stream",
     "text": [
      "Epoch 110: 272batch [00:19, 14.31batch/s, loss=903]\n"
     ]
    },
    {
     "name": "stdout",
     "output_type": "stream",
     "text": [
      "epoch 110: avg train loss 867.66, bar train loss 2.997, len train loss 0.028, col train loss 152.030\n",
      "epoch 110: avg test  loss 879.64, bar  test loss 3.074, len  test loss 0.031, col  test loss 154.127\n"
     ]
    },
    {
     "name": "stderr",
     "output_type": "stream",
     "text": [
      "Epoch 111: 272batch [00:19, 14.12batch/s, loss=833]\n"
     ]
    },
    {
     "name": "stdout",
     "output_type": "stream",
     "text": [
      "epoch 111: avg train loss 866.99, bar train loss 2.985, len train loss 0.028, col train loss 151.933\n"
     ]
    },
    {
     "name": "stderr",
     "output_type": "stream",
     "text": [
      "Epoch 112: 2batch [00:00, 13.51batch/s, loss=861]"
     ]
    },
    {
     "name": "stdout",
     "output_type": "stream",
     "text": [
      "epoch 111: avg test  loss 879.46, bar  test loss 3.084, len  test loss 0.033, col  test loss 154.008\n"
     ]
    },
    {
     "name": "stderr",
     "output_type": "stream",
     "text": [
      "Epoch 112: 272batch [00:19, 14.13batch/s, loss=859]\n"
     ]
    },
    {
     "name": "stdout",
     "output_type": "stream",
     "text": [
      "epoch 112: avg train loss 866.39, bar train loss 2.973, len train loss 0.028, col train loss 151.836\n"
     ]
    },
    {
     "name": "stderr",
     "output_type": "stream",
     "text": [
      "Epoch 113: 2batch [00:00, 14.39batch/s, loss=851]"
     ]
    },
    {
     "name": "stdout",
     "output_type": "stream",
     "text": [
      "epoch 112: avg test  loss 878.27, bar  test loss 3.060, len  test loss 0.028, col  test loss 153.994\n"
     ]
    },
    {
     "name": "stderr",
     "output_type": "stream",
     "text": [
      "Epoch 113: 272batch [00:19, 14.07batch/s, loss=857]\n"
     ]
    },
    {
     "name": "stdout",
     "output_type": "stream",
     "text": [
      "epoch 113: avg train loss 865.76, bar train loss 2.962, len train loss 0.029, col train loss 151.704\n"
     ]
    },
    {
     "name": "stderr",
     "output_type": "stream",
     "text": [
      "Epoch 114: 2batch [00:00, 14.49batch/s, loss=873]"
     ]
    },
    {
     "name": "stdout",
     "output_type": "stream",
     "text": [
      "epoch 113: avg test  loss 878.43, bar  test loss 3.046, len  test loss 0.030, col  test loss 153.851\n"
     ]
    },
    {
     "name": "stderr",
     "output_type": "stream",
     "text": [
      "Epoch 114: 272batch [00:18, 14.33batch/s, loss=921]\n"
     ]
    },
    {
     "name": "stdout",
     "output_type": "stream",
     "text": [
      "epoch 114: avg train loss 865.19, bar train loss 2.952, len train loss 0.028, col train loss 151.607\n"
     ]
    },
    {
     "name": "stderr",
     "output_type": "stream",
     "text": [
      "Epoch 115: 2batch [00:00, 14.18batch/s, loss=881]"
     ]
    },
    {
     "name": "stdout",
     "output_type": "stream",
     "text": [
      "epoch 114: avg test  loss 877.75, bar  test loss 3.055, len  test loss 0.029, col  test loss 153.957\n"
     ]
    },
    {
     "name": "stderr",
     "output_type": "stream",
     "text": [
      "Epoch 115: 272batch [00:19, 14.30batch/s, loss=827]\n"
     ]
    },
    {
     "name": "stdout",
     "output_type": "stream",
     "text": [
      "epoch 115: avg train loss 864.43, bar train loss 2.935, len train loss 0.028, col train loss 151.528\n",
      "epoch 115: avg test  loss 877.87, bar  test loss 3.037, len  test loss 0.029, col  test loss 153.801\n"
     ]
    },
    {
     "name": "stderr",
     "output_type": "stream",
     "text": [
      "Epoch 116: 272batch [00:19, 14.20batch/s, loss=855]\n"
     ]
    },
    {
     "name": "stdout",
     "output_type": "stream",
     "text": [
      "epoch 116: avg train loss 864.13, bar train loss 2.933, len train loss 0.028, col train loss 151.450\n"
     ]
    },
    {
     "name": "stderr",
     "output_type": "stream",
     "text": [
      "Epoch 117: 2batch [00:00, 14.18batch/s, loss=839]"
     ]
    },
    {
     "name": "stdout",
     "output_type": "stream",
     "text": [
      "epoch 116: avg test  loss 876.84, bar  test loss 3.012, len  test loss 0.028, col  test loss 153.778\n"
     ]
    },
    {
     "name": "stderr",
     "output_type": "stream",
     "text": [
      "Epoch 117: 272batch [00:19, 14.31batch/s, loss=942]\n"
     ]
    },
    {
     "name": "stdout",
     "output_type": "stream",
     "text": [
      "epoch 117: avg train loss 863.42, bar train loss 2.918, len train loss 0.028, col train loss 151.347\n"
     ]
    },
    {
     "name": "stderr",
     "output_type": "stream",
     "text": [
      "Epoch 118: 2batch [00:00, 13.89batch/s, loss=850]"
     ]
    },
    {
     "name": "stdout",
     "output_type": "stream",
     "text": [
      "epoch 117: avg test  loss 876.58, bar  test loss 3.027, len  test loss 0.028, col  test loss 153.783\n"
     ]
    },
    {
     "name": "stderr",
     "output_type": "stream",
     "text": [
      "Epoch 118: 272batch [00:19, 14.31batch/s, loss=989]\n"
     ]
    },
    {
     "name": "stdout",
     "output_type": "stream",
     "text": [
      "epoch 118: avg train loss 862.91, bar train loss 2.913, len train loss 0.027, col train loss 151.267\n"
     ]
    },
    {
     "name": "stderr",
     "output_type": "stream",
     "text": [
      "Epoch 119: 2batch [00:00, 14.39batch/s, loss=861]"
     ]
    },
    {
     "name": "stdout",
     "output_type": "stream",
     "text": [
      "epoch 118: avg test  loss 876.82, bar  test loss 3.002, len  test loss 0.031, col  test loss 153.645\n"
     ]
    },
    {
     "name": "stderr",
     "output_type": "stream",
     "text": [
      "Epoch 119: 272batch [00:19, 14.27batch/s, loss=849]\n"
     ]
    },
    {
     "name": "stdout",
     "output_type": "stream",
     "text": [
      "epoch 119: avg train loss 862.50, bar train loss 2.902, len train loss 0.028, col train loss 151.173\n"
     ]
    },
    {
     "name": "stderr",
     "output_type": "stream",
     "text": [
      "Epoch 120: 2batch [00:00, 13.79batch/s, loss=830]"
     ]
    },
    {
     "name": "stdout",
     "output_type": "stream",
     "text": [
      "epoch 119: avg test  loss 875.79, bar  test loss 2.986, len  test loss 0.027, col  test loss 153.508\n"
     ]
    },
    {
     "name": "stderr",
     "output_type": "stream",
     "text": [
      "Epoch 120: 272batch [00:19, 14.31batch/s, loss=877]\n"
     ]
    },
    {
     "name": "stdout",
     "output_type": "stream",
     "text": [
      "epoch 120: avg train loss 862.16, bar train loss 2.892, len train loss 0.028, col train loss 151.128\n",
      "epoch 120: avg test  loss 875.66, bar  test loss 2.971, len  test loss 0.029, col  test loss 153.531\n"
     ]
    },
    {
     "name": "stderr",
     "output_type": "stream",
     "text": [
      "Epoch 121: 272batch [00:19, 14.21batch/s, loss=870]\n"
     ]
    },
    {
     "name": "stdout",
     "output_type": "stream",
     "text": [
      "epoch 121: avg train loss 861.48, bar train loss 2.879, len train loss 0.028, col train loss 151.036\n"
     ]
    },
    {
     "name": "stderr",
     "output_type": "stream",
     "text": [
      "Epoch 122: 2batch [00:00, 14.18batch/s, loss=850]"
     ]
    },
    {
     "name": "stdout",
     "output_type": "stream",
     "text": [
      "epoch 121: avg test  loss 875.10, bar  test loss 2.969, len  test loss 0.029, col  test loss 153.460\n"
     ]
    },
    {
     "name": "stderr",
     "output_type": "stream",
     "text": [
      "Epoch 122: 272batch [00:19, 13.96batch/s, loss=900]\n"
     ]
    },
    {
     "name": "stdout",
     "output_type": "stream",
     "text": [
      "epoch 122: avg train loss 860.73, bar train loss 2.866, len train loss 0.027, col train loss 150.939\n"
     ]
    },
    {
     "name": "stderr",
     "output_type": "stream",
     "text": [
      "Epoch 123: 2batch [00:00, 14.49batch/s, loss=834]"
     ]
    },
    {
     "name": "stdout",
     "output_type": "stream",
     "text": [
      "epoch 122: avg test  loss 874.94, bar  test loss 2.983, len  test loss 0.028, col  test loss 153.378\n"
     ]
    },
    {
     "name": "stderr",
     "output_type": "stream",
     "text": [
      "Epoch 123: 272batch [00:19, 13.76batch/s, loss=812]\n"
     ]
    },
    {
     "name": "stdout",
     "output_type": "stream",
     "text": [
      "epoch 123: avg train loss 860.38, bar train loss 2.860, len train loss 0.028, col train loss 150.866\n"
     ]
    },
    {
     "name": "stderr",
     "output_type": "stream",
     "text": [
      "Epoch 124: 2batch [00:00, 13.99batch/s, loss=844]"
     ]
    },
    {
     "name": "stdout",
     "output_type": "stream",
     "text": [
      "epoch 123: avg test  loss 875.57, bar  test loss 2.975, len  test loss 0.037, col  test loss 153.386\n"
     ]
    },
    {
     "name": "stderr",
     "output_type": "stream",
     "text": [
      "Epoch 124: 272batch [00:19, 14.25batch/s, loss=873]\n"
     ]
    },
    {
     "name": "stdout",
     "output_type": "stream",
     "text": [
      "epoch 124: avg train loss 859.97, bar train loss 2.854, len train loss 0.028, col train loss 150.764\n"
     ]
    },
    {
     "name": "stderr",
     "output_type": "stream",
     "text": [
      "Epoch 125: 2batch [00:00, 14.60batch/s, loss=893]"
     ]
    },
    {
     "name": "stdout",
     "output_type": "stream",
     "text": [
      "epoch 124: avg test  loss 874.61, bar  test loss 2.954, len  test loss 0.032, col  test loss 153.282\n"
     ]
    },
    {
     "name": "stderr",
     "output_type": "stream",
     "text": [
      "Epoch 125: 272batch [00:18, 14.73batch/s, loss=929]\n"
     ]
    },
    {
     "name": "stdout",
     "output_type": "stream",
     "text": [
      "epoch 125: avg train loss 859.35, bar train loss 2.841, len train loss 0.028, col train loss 150.692\n",
      "epoch 125: avg test  loss 874.08, bar  test loss 2.948, len  test loss 0.030, col  test loss 153.307\n"
     ]
    },
    {
     "name": "stderr",
     "output_type": "stream",
     "text": [
      "Epoch 126: 272batch [00:18, 14.63batch/s, loss=923]\n"
     ]
    },
    {
     "name": "stdout",
     "output_type": "stream",
     "text": [
      "epoch 126: avg train loss 858.75, bar train loss 2.833, len train loss 0.028, col train loss 150.584\n"
     ]
    },
    {
     "name": "stderr",
     "output_type": "stream",
     "text": [
      "Epoch 127: 2batch [00:00, 14.18batch/s, loss=864]"
     ]
    },
    {
     "name": "stdout",
     "output_type": "stream",
     "text": [
      "epoch 126: avg test  loss 873.84, bar  test loss 2.971, len  test loss 0.028, col  test loss 153.238\n"
     ]
    },
    {
     "name": "stderr",
     "output_type": "stream",
     "text": [
      "Epoch 127: 272batch [00:18, 14.39batch/s, loss=905]\n"
     ]
    },
    {
     "name": "stdout",
     "output_type": "stream",
     "text": [
      "epoch 127: avg train loss 858.20, bar train loss 2.820, len train loss 0.028, col train loss 150.509\n"
     ]
    },
    {
     "name": "stderr",
     "output_type": "stream",
     "text": [
      "Epoch 128: 2batch [00:00, 13.79batch/s, loss=871]"
     ]
    },
    {
     "name": "stdout",
     "output_type": "stream",
     "text": [
      "epoch 127: avg test  loss 873.24, bar  test loss 2.928, len  test loss 0.029, col  test loss 153.127\n"
     ]
    },
    {
     "name": "stderr",
     "output_type": "stream",
     "text": [
      "Epoch 128: 272batch [00:18, 14.53batch/s, loss=826]\n"
     ]
    },
    {
     "name": "stdout",
     "output_type": "stream",
     "text": [
      "epoch 128: avg train loss 857.92, bar train loss 2.816, len train loss 0.027, col train loss 150.469\n"
     ]
    },
    {
     "name": "stderr",
     "output_type": "stream",
     "text": [
      "Epoch 129: 2batch [00:00, 14.60batch/s, loss=876]"
     ]
    },
    {
     "name": "stdout",
     "output_type": "stream",
     "text": [
      "epoch 128: avg test  loss 872.88, bar  test loss 2.909, len  test loss 0.028, col  test loss 153.097\n"
     ]
    },
    {
     "name": "stderr",
     "output_type": "stream",
     "text": [
      "Epoch 129: 272batch [00:18, 14.72batch/s, loss=857]\n"
     ]
    },
    {
     "name": "stdout",
     "output_type": "stream",
     "text": [
      "epoch 129: avg train loss 857.44, bar train loss 2.810, len train loss 0.028, col train loss 150.357\n"
     ]
    },
    {
     "name": "stderr",
     "output_type": "stream",
     "text": [
      "Epoch 130: 2batch [00:00, 14.60batch/s, loss=867]"
     ]
    },
    {
     "name": "stdout",
     "output_type": "stream",
     "text": [
      "epoch 129: avg test  loss 872.64, bar  test loss 2.934, len  test loss 0.028, col  test loss 153.053\n"
     ]
    },
    {
     "name": "stderr",
     "output_type": "stream",
     "text": [
      "Epoch 130: 272batch [00:18, 14.72batch/s, loss=834]\n"
     ]
    },
    {
     "name": "stdout",
     "output_type": "stream",
     "text": [
      "epoch 130: avg train loss 856.89, bar train loss 2.798, len train loss 0.027, col train loss 150.275\n",
      "epoch 130: avg test  loss 872.23, bar  test loss 2.895, len  test loss 0.027, col  test loss 153.051\n"
     ]
    },
    {
     "name": "stderr",
     "output_type": "stream",
     "text": [
      "Epoch 131: 272batch [00:18, 14.63batch/s, loss=832]\n"
     ]
    },
    {
     "name": "stdout",
     "output_type": "stream",
     "text": [
      "epoch 131: avg train loss 856.58, bar train loss 2.796, len train loss 0.028, col train loss 150.192\n"
     ]
    },
    {
     "name": "stderr",
     "output_type": "stream",
     "text": [
      "Epoch 132: 2batch [00:00, 14.29batch/s, loss=835]"
     ]
    },
    {
     "name": "stdout",
     "output_type": "stream",
     "text": [
      "epoch 131: avg test  loss 872.18, bar  test loss 2.871, len  test loss 0.030, col  test loss 152.928\n"
     ]
    },
    {
     "name": "stderr",
     "output_type": "stream",
     "text": [
      "Epoch 132: 272batch [00:18, 14.62batch/s, loss=819]\n"
     ]
    },
    {
     "name": "stdout",
     "output_type": "stream",
     "text": [
      "epoch 132: avg train loss 856.06, bar train loss 2.786, len train loss 0.027, col train loss 150.120\n"
     ]
    },
    {
     "name": "stderr",
     "output_type": "stream",
     "text": [
      "Epoch 133: 2batch [00:00, 14.60batch/s, loss=873]"
     ]
    },
    {
     "name": "stdout",
     "output_type": "stream",
     "text": [
      "epoch 132: avg test  loss 872.00, bar  test loss 2.884, len  test loss 0.028, col  test loss 152.908\n"
     ]
    },
    {
     "name": "stderr",
     "output_type": "stream",
     "text": [
      "Epoch 133: 272batch [00:18, 14.71batch/s, loss=891]\n"
     ]
    },
    {
     "name": "stdout",
     "output_type": "stream",
     "text": [
      "epoch 133: avg train loss 855.47, bar train loss 2.774, len train loss 0.027, col train loss 150.030\n"
     ]
    },
    {
     "name": "stderr",
     "output_type": "stream",
     "text": [
      "Epoch 134: 2batch [00:00, 14.60batch/s, loss=845]"
     ]
    },
    {
     "name": "stdout",
     "output_type": "stream",
     "text": [
      "epoch 133: avg test  loss 871.13, bar  test loss 2.886, len  test loss 0.028, col  test loss 152.748\n"
     ]
    },
    {
     "name": "stderr",
     "output_type": "stream",
     "text": [
      "Epoch 134: 272batch [00:18, 14.70batch/s, loss=809]\n"
     ]
    },
    {
     "name": "stdout",
     "output_type": "stream",
     "text": [
      "epoch 134: avg train loss 854.99, bar train loss 2.769, len train loss 0.028, col train loss 149.886\n"
     ]
    },
    {
     "name": "stderr",
     "output_type": "stream",
     "text": [
      "Epoch 135: 2batch [00:00, 14.81batch/s, loss=850]"
     ]
    },
    {
     "name": "stdout",
     "output_type": "stream",
     "text": [
      "epoch 134: avg test  loss 871.12, bar  test loss 2.882, len  test loss 0.030, col  test loss 152.706\n"
     ]
    },
    {
     "name": "stderr",
     "output_type": "stream",
     "text": [
      "Epoch 135: 272batch [00:18, 14.64batch/s, loss=843]\n"
     ]
    },
    {
     "name": "stdout",
     "output_type": "stream",
     "text": [
      "epoch 135: avg train loss 854.29, bar train loss 2.757, len train loss 0.028, col train loss 149.805\n",
      "epoch 135: avg test  loss 870.99, bar  test loss 2.895, len  test loss 0.032, col  test loss 152.789\n"
     ]
    },
    {
     "name": "stderr",
     "output_type": "stream",
     "text": [
      "Epoch 136: 272batch [00:18, 14.68batch/s, loss=925]\n"
     ]
    },
    {
     "name": "stdout",
     "output_type": "stream",
     "text": [
      "epoch 136: avg train loss 853.61, bar train loss 2.749, len train loss 0.027, col train loss 149.687\n"
     ]
    },
    {
     "name": "stderr",
     "output_type": "stream",
     "text": [
      "Epoch 137: 2batch [00:00, 14.49batch/s, loss=838]"
     ]
    },
    {
     "name": "stdout",
     "output_type": "stream",
     "text": [
      "epoch 136: avg test  loss 870.01, bar  test loss 2.847, len  test loss 0.028, col  test loss 152.601\n"
     ]
    },
    {
     "name": "stderr",
     "output_type": "stream",
     "text": [
      "Epoch 137: 272batch [00:18, 14.76batch/s, loss=891]\n"
     ]
    },
    {
     "name": "stdout",
     "output_type": "stream",
     "text": [
      "epoch 137: avg train loss 853.03, bar train loss 2.740, len train loss 0.027, col train loss 149.579\n"
     ]
    },
    {
     "name": "stderr",
     "output_type": "stream",
     "text": [
      "Epoch 138: 2batch [00:00, 14.81batch/s, loss=855]"
     ]
    },
    {
     "name": "stdout",
     "output_type": "stream",
     "text": [
      "epoch 137: avg test  loss 869.51, bar  test loss 2.856, len  test loss 0.028, col  test loss 152.325\n"
     ]
    },
    {
     "name": "stderr",
     "output_type": "stream",
     "text": [
      "Epoch 138: 272batch [00:18, 14.68batch/s, loss=941]\n"
     ]
    },
    {
     "name": "stdout",
     "output_type": "stream",
     "text": [
      "epoch 138: avg train loss 852.51, bar train loss 2.736, len train loss 0.027, col train loss 149.442\n"
     ]
    },
    {
     "name": "stderr",
     "output_type": "stream",
     "text": [
      "Epoch 139: 2batch [00:00, 14.49batch/s, loss=861]"
     ]
    },
    {
     "name": "stdout",
     "output_type": "stream",
     "text": [
      "epoch 138: avg test  loss 869.17, bar  test loss 2.858, len  test loss 0.030, col  test loss 152.369\n"
     ]
    },
    {
     "name": "stderr",
     "output_type": "stream",
     "text": [
      "Epoch 139: 272batch [00:18, 14.73batch/s, loss=835]\n"
     ]
    },
    {
     "name": "stdout",
     "output_type": "stream",
     "text": [
      "epoch 139: avg train loss 851.98, bar train loss 2.727, len train loss 0.027, col train loss 149.348\n"
     ]
    },
    {
     "name": "stderr",
     "output_type": "stream",
     "text": [
      "Epoch 140: 2batch [00:00, 14.49batch/s, loss=867]"
     ]
    },
    {
     "name": "stdout",
     "output_type": "stream",
     "text": [
      "epoch 139: avg test  loss 868.66, bar  test loss 2.862, len  test loss 0.027, col  test loss 152.226\n"
     ]
    },
    {
     "name": "stderr",
     "output_type": "stream",
     "text": [
      "Epoch 140: 272batch [00:18, 14.69batch/s, loss=869]\n"
     ]
    },
    {
     "name": "stdout",
     "output_type": "stream",
     "text": [
      "epoch 140: avg train loss 851.42, bar train loss 2.722, len train loss 0.028, col train loss 149.239\n",
      "epoch 140: avg test  loss 868.69, bar  test loss 2.855, len  test loss 0.027, col  test loss 152.345\n"
     ]
    },
    {
     "name": "stderr",
     "output_type": "stream",
     "text": [
      "Epoch 141: 272batch [00:18, 14.59batch/s, loss=871]\n"
     ]
    },
    {
     "name": "stdout",
     "output_type": "stream",
     "text": [
      "epoch 141: avg train loss 851.18, bar train loss 2.715, len train loss 0.027, col train loss 149.202\n"
     ]
    },
    {
     "name": "stderr",
     "output_type": "stream",
     "text": [
      "Epoch 142: 2batch [00:00, 14.71batch/s, loss=907]"
     ]
    },
    {
     "name": "stdout",
     "output_type": "stream",
     "text": [
      "epoch 141: avg test  loss 868.27, bar  test loss 2.818, len  test loss 0.027, col  test loss 152.112\n"
     ]
    },
    {
     "name": "stderr",
     "output_type": "stream",
     "text": [
      "Epoch 142: 272batch [00:18, 14.70batch/s, loss=825]\n"
     ]
    },
    {
     "name": "stdout",
     "output_type": "stream",
     "text": [
      "epoch 142: avg train loss 850.81, bar train loss 2.710, len train loss 0.027, col train loss 149.127\n"
     ]
    },
    {
     "name": "stderr",
     "output_type": "stream",
     "text": [
      "Epoch 143: 2batch [00:00, 14.71batch/s, loss=843]"
     ]
    },
    {
     "name": "stdout",
     "output_type": "stream",
     "text": [
      "epoch 142: avg test  loss 867.68, bar  test loss 2.851, len  test loss 0.029, col  test loss 152.175\n"
     ]
    },
    {
     "name": "stderr",
     "output_type": "stream",
     "text": [
      "Epoch 143: 272batch [00:18, 14.71batch/s, loss=906]\n"
     ]
    },
    {
     "name": "stdout",
     "output_type": "stream",
     "text": [
      "epoch 143: avg train loss 850.49, bar train loss 2.705, len train loss 0.027, col train loss 149.047\n"
     ]
    },
    {
     "name": "stderr",
     "output_type": "stream",
     "text": [
      "Epoch 144: 2batch [00:00, 14.60batch/s, loss=837]"
     ]
    },
    {
     "name": "stdout",
     "output_type": "stream",
     "text": [
      "epoch 143: avg test  loss 867.75, bar  test loss 2.822, len  test loss 0.027, col  test loss 152.065\n"
     ]
    },
    {
     "name": "stderr",
     "output_type": "stream",
     "text": [
      "Epoch 144: 272batch [00:18, 14.72batch/s, loss=895]\n"
     ]
    },
    {
     "name": "stdout",
     "output_type": "stream",
     "text": [
      "epoch 144: avg train loss 849.99, bar train loss 2.698, len train loss 0.027, col train loss 148.969\n"
     ]
    },
    {
     "name": "stderr",
     "output_type": "stream",
     "text": [
      "Epoch 145: 2batch [00:00, 14.93batch/s, loss=855]"
     ]
    },
    {
     "name": "stdout",
     "output_type": "stream",
     "text": [
      "epoch 144: avg test  loss 867.63, bar  test loss 2.815, len  test loss 0.028, col  test loss 152.021\n"
     ]
    },
    {
     "name": "stderr",
     "output_type": "stream",
     "text": [
      "Epoch 145: 272batch [00:18, 14.71batch/s, loss=882]\n"
     ]
    },
    {
     "name": "stdout",
     "output_type": "stream",
     "text": [
      "epoch 145: avg train loss 849.66, bar train loss 2.690, len train loss 0.028, col train loss 148.883\n",
      "epoch 145: avg test  loss 867.19, bar  test loss 2.831, len  test loss 0.028, col  test loss 152.010\n"
     ]
    },
    {
     "name": "stderr",
     "output_type": "stream",
     "text": [
      "Epoch 146: 272batch [00:18, 14.57batch/s, loss=826]\n"
     ]
    },
    {
     "name": "stdout",
     "output_type": "stream",
     "text": [
      "epoch 146: avg train loss 849.14, bar train loss 2.680, len train loss 0.027, col train loss 148.800\n"
     ]
    },
    {
     "name": "stderr",
     "output_type": "stream",
     "text": [
      "Epoch 147: 2batch [00:00, 14.71batch/s, loss=853]"
     ]
    },
    {
     "name": "stdout",
     "output_type": "stream",
     "text": [
      "epoch 146: avg test  loss 867.07, bar  test loss 2.802, len  test loss 0.029, col  test loss 151.992\n"
     ]
    },
    {
     "name": "stderr",
     "output_type": "stream",
     "text": [
      "Epoch 147: 272batch [00:18, 14.71batch/s, loss=843]\n"
     ]
    },
    {
     "name": "stdout",
     "output_type": "stream",
     "text": [
      "epoch 147: avg train loss 848.85, bar train loss 2.678, len train loss 0.027, col train loss 148.730\n"
     ]
    },
    {
     "name": "stderr",
     "output_type": "stream",
     "text": [
      "Epoch 148: 2batch [00:00, 14.81batch/s, loss=838]"
     ]
    },
    {
     "name": "stdout",
     "output_type": "stream",
     "text": [
      "epoch 147: avg test  loss 867.04, bar  test loss 2.821, len  test loss 0.028, col  test loss 151.899\n"
     ]
    },
    {
     "name": "stderr",
     "output_type": "stream",
     "text": [
      "Epoch 148: 272batch [00:18, 14.72batch/s, loss=878]\n"
     ]
    },
    {
     "name": "stdout",
     "output_type": "stream",
     "text": [
      "epoch 148: avg train loss 848.26, bar train loss 2.669, len train loss 0.027, col train loss 148.642\n"
     ]
    },
    {
     "name": "stderr",
     "output_type": "stream",
     "text": [
      "Epoch 149: 2batch [00:00, 14.18batch/s, loss=865]"
     ]
    },
    {
     "name": "stdout",
     "output_type": "stream",
     "text": [
      "epoch 148: avg test  loss 866.89, bar  test loss 2.774, len  test loss 0.029, col  test loss 151.808\n"
     ]
    },
    {
     "name": "stderr",
     "output_type": "stream",
     "text": [
      "Epoch 149: 272batch [00:18, 14.70batch/s, loss=867]\n"
     ]
    },
    {
     "name": "stdout",
     "output_type": "stream",
     "text": [
      "epoch 149: avg train loss 847.63, bar train loss 2.666, len train loss 0.027, col train loss 148.497\n"
     ]
    },
    {
     "name": "stderr",
     "output_type": "stream",
     "text": [
      "Epoch 150: 2batch [00:00, 14.81batch/s, loss=802]"
     ]
    },
    {
     "name": "stdout",
     "output_type": "stream",
     "text": [
      "epoch 149: avg test  loss 865.56, bar  test loss 2.802, len  test loss 0.028, col  test loss 151.716\n"
     ]
    },
    {
     "name": "stderr",
     "output_type": "stream",
     "text": [
      "Epoch 150: 272batch [00:18, 14.70batch/s, loss=876]\n"
     ]
    },
    {
     "name": "stdout",
     "output_type": "stream",
     "text": [
      "epoch 150: avg train loss 847.38, bar train loss 2.660, len train loss 0.027, col train loss 148.427\n",
      "epoch 150: avg test  loss 866.14, bar  test loss 2.795, len  test loss 0.029, col  test loss 151.697\n"
     ]
    },
    {
     "name": "stderr",
     "output_type": "stream",
     "text": [
      "Epoch 151: 272batch [00:18, 14.58batch/s, loss=894]\n"
     ]
    },
    {
     "name": "stdout",
     "output_type": "stream",
     "text": [
      "epoch 151: avg train loss 846.90, bar train loss 2.651, len train loss 0.027, col train loss 148.340\n"
     ]
    },
    {
     "name": "stderr",
     "output_type": "stream",
     "text": [
      "Epoch 152: 2batch [00:00, 14.60batch/s, loss=862]"
     ]
    },
    {
     "name": "stdout",
     "output_type": "stream",
     "text": [
      "epoch 151: avg test  loss 865.82, bar  test loss 2.756, len  test loss 0.029, col  test loss 151.625\n"
     ]
    },
    {
     "name": "stderr",
     "output_type": "stream",
     "text": [
      "Epoch 152: 272batch [00:18, 14.40batch/s, loss=813]\n"
     ]
    },
    {
     "name": "stdout",
     "output_type": "stream",
     "text": [
      "epoch 152: avg train loss 846.41, bar train loss 2.644, len train loss 0.027, col train loss 148.266\n"
     ]
    },
    {
     "name": "stderr",
     "output_type": "stream",
     "text": [
      "Epoch 153: 2batch [00:00, 14.49batch/s, loss=854]"
     ]
    },
    {
     "name": "stdout",
     "output_type": "stream",
     "text": [
      "epoch 152: avg test  loss 865.33, bar  test loss 2.747, len  test loss 0.027, col  test loss 151.475\n"
     ]
    },
    {
     "name": "stderr",
     "output_type": "stream",
     "text": [
      "Epoch 153: 272batch [00:18, 14.56batch/s, loss=802]\n"
     ]
    },
    {
     "name": "stdout",
     "output_type": "stream",
     "text": [
      "epoch 153: avg train loss 846.02, bar train loss 2.637, len train loss 0.027, col train loss 148.180\n"
     ]
    },
    {
     "name": "stderr",
     "output_type": "stream",
     "text": [
      "Epoch 154: 2batch [00:00, 14.50batch/s, loss=843]"
     ]
    },
    {
     "name": "stdout",
     "output_type": "stream",
     "text": [
      "epoch 153: avg test  loss 865.13, bar  test loss 2.753, len  test loss 0.028, col  test loss 151.527\n"
     ]
    },
    {
     "name": "stderr",
     "output_type": "stream",
     "text": [
      "Epoch 154: 272batch [00:18, 14.72batch/s, loss=814]\n"
     ]
    },
    {
     "name": "stdout",
     "output_type": "stream",
     "text": [
      "epoch 154: avg train loss 845.68, bar train loss 2.632, len train loss 0.027, col train loss 148.098\n"
     ]
    },
    {
     "name": "stderr",
     "output_type": "stream",
     "text": [
      "Epoch 155: 2batch [00:00, 14.93batch/s, loss=823]"
     ]
    },
    {
     "name": "stdout",
     "output_type": "stream",
     "text": [
      "epoch 154: avg test  loss 864.71, bar  test loss 2.765, len  test loss 0.028, col  test loss 151.414\n"
     ]
    },
    {
     "name": "stderr",
     "output_type": "stream",
     "text": [
      "Epoch 155: 272batch [00:19, 14.06batch/s, loss=872]\n"
     ]
    },
    {
     "name": "stdout",
     "output_type": "stream",
     "text": [
      "epoch 155: avg train loss 845.39, bar train loss 2.627, len train loss 0.027, col train loss 148.043\n",
      "epoch 155: avg test  loss 864.83, bar  test loss 2.777, len  test loss 0.029, col  test loss 151.461\n"
     ]
    },
    {
     "name": "stderr",
     "output_type": "stream",
     "text": [
      "Epoch 156: 272batch [00:18, 14.33batch/s, loss=787]\n"
     ]
    },
    {
     "name": "stdout",
     "output_type": "stream",
     "text": [
      "epoch 156: avg train loss 844.66, bar train loss 2.617, len train loss 0.027, col train loss 147.945\n"
     ]
    },
    {
     "name": "stderr",
     "output_type": "stream",
     "text": [
      "Epoch 157: 2batch [00:00, 14.71batch/s, loss=848]"
     ]
    },
    {
     "name": "stdout",
     "output_type": "stream",
     "text": [
      "epoch 156: avg test  loss 864.40, bar  test loss 2.764, len  test loss 0.030, col  test loss 151.454\n"
     ]
    },
    {
     "name": "stderr",
     "output_type": "stream",
     "text": [
      "Epoch 157: 272batch [00:18, 14.62batch/s, loss=876]\n"
     ]
    },
    {
     "name": "stdout",
     "output_type": "stream",
     "text": [
      "epoch 157: avg train loss 844.50, bar train loss 2.619, len train loss 0.027, col train loss 147.889\n"
     ]
    },
    {
     "name": "stderr",
     "output_type": "stream",
     "text": [
      "Epoch 158: 2batch [00:00, 13.70batch/s, loss=820]"
     ]
    },
    {
     "name": "stdout",
     "output_type": "stream",
     "text": [
      "epoch 157: avg test  loss 863.98, bar  test loss 2.740, len  test loss 0.028, col  test loss 151.330\n"
     ]
    },
    {
     "name": "stderr",
     "output_type": "stream",
     "text": [
      "Epoch 158: 272batch [00:18, 14.43batch/s, loss=868]\n"
     ]
    },
    {
     "name": "stdout",
     "output_type": "stream",
     "text": [
      "epoch 158: avg train loss 844.05, bar train loss 2.609, len train loss 0.027, col train loss 147.789\n"
     ]
    },
    {
     "name": "stderr",
     "output_type": "stream",
     "text": [
      "Epoch 159: 2batch [00:00, 14.71batch/s, loss=852]"
     ]
    },
    {
     "name": "stdout",
     "output_type": "stream",
     "text": [
      "epoch 158: avg test  loss 863.71, bar  test loss 2.740, len  test loss 0.028, col  test loss 151.201\n"
     ]
    },
    {
     "name": "stderr",
     "output_type": "stream",
     "text": [
      "Epoch 159: 272batch [00:18, 14.66batch/s, loss=885]\n"
     ]
    },
    {
     "name": "stdout",
     "output_type": "stream",
     "text": [
      "epoch 159: avg train loss 843.60, bar train loss 2.600, len train loss 0.027, col train loss 147.720\n"
     ]
    },
    {
     "name": "stderr",
     "output_type": "stream",
     "text": [
      "Epoch 160: 2batch [00:00, 14.71batch/s, loss=864]"
     ]
    },
    {
     "name": "stdout",
     "output_type": "stream",
     "text": [
      "epoch 159: avg test  loss 863.70, bar  test loss 2.738, len  test loss 0.028, col  test loss 151.244\n"
     ]
    },
    {
     "name": "stderr",
     "output_type": "stream",
     "text": [
      "Epoch 160: 272batch [00:18, 14.66batch/s, loss=865]\n"
     ]
    },
    {
     "name": "stdout",
     "output_type": "stream",
     "text": [
      "epoch 160: avg train loss 843.31, bar train loss 2.594, len train loss 0.027, col train loss 147.660\n",
      "epoch 160: avg test  loss 863.31, bar  test loss 2.763, len  test loss 0.028, col  test loss 151.193\n"
     ]
    },
    {
     "name": "stderr",
     "output_type": "stream",
     "text": [
      "Epoch 161: 272batch [00:18, 14.59batch/s, loss=845]\n"
     ]
    },
    {
     "name": "stdout",
     "output_type": "stream",
     "text": [
      "epoch 161: avg train loss 842.77, bar train loss 2.592, len train loss 0.026, col train loss 147.567\n"
     ]
    },
    {
     "name": "stderr",
     "output_type": "stream",
     "text": [
      "Epoch 162: 2batch [00:00, 14.71batch/s, loss=822]"
     ]
    },
    {
     "name": "stdout",
     "output_type": "stream",
     "text": [
      "epoch 161: avg test  loss 863.27, bar  test loss 2.711, len  test loss 0.030, col  test loss 151.117\n"
     ]
    },
    {
     "name": "stderr",
     "output_type": "stream",
     "text": [
      "Epoch 162: 272batch [00:18, 14.68batch/s, loss=790]\n"
     ]
    },
    {
     "name": "stdout",
     "output_type": "stream",
     "text": [
      "epoch 162: avg train loss 842.63, bar train loss 2.584, len train loss 0.026, col train loss 147.527\n"
     ]
    },
    {
     "name": "stderr",
     "output_type": "stream",
     "text": [
      "Epoch 163: 2batch [00:00, 14.71batch/s, loss=857]"
     ]
    },
    {
     "name": "stdout",
     "output_type": "stream",
     "text": [
      "epoch 162: avg test  loss 863.49, bar  test loss 2.767, len  test loss 0.032, col  test loss 151.119\n"
     ]
    },
    {
     "name": "stderr",
     "output_type": "stream",
     "text": [
      "Epoch 163: 272batch [00:18, 14.73batch/s, loss=812]\n"
     ]
    },
    {
     "name": "stdout",
     "output_type": "stream",
     "text": [
      "epoch 163: avg train loss 842.01, bar train loss 2.576, len train loss 0.027, col train loss 147.407\n"
     ]
    },
    {
     "name": "stderr",
     "output_type": "stream",
     "text": [
      "Epoch 164: 2batch [00:00, 14.18batch/s, loss=846]"
     ]
    },
    {
     "name": "stdout",
     "output_type": "stream",
     "text": [
      "epoch 163: avg test  loss 862.69, bar  test loss 2.751, len  test loss 0.028, col  test loss 151.115\n"
     ]
    },
    {
     "name": "stderr",
     "output_type": "stream",
     "text": [
      "Epoch 164: 272batch [00:18, 14.68batch/s, loss=792]\n"
     ]
    },
    {
     "name": "stdout",
     "output_type": "stream",
     "text": [
      "epoch 164: avg train loss 841.55, bar train loss 2.569, len train loss 0.027, col train loss 147.345\n"
     ]
    },
    {
     "name": "stderr",
     "output_type": "stream",
     "text": [
      "Epoch 165: 2batch [00:00, 14.81batch/s, loss=833]"
     ]
    },
    {
     "name": "stdout",
     "output_type": "stream",
     "text": [
      "epoch 164: avg test  loss 862.51, bar  test loss 2.689, len  test loss 0.027, col  test loss 150.940\n"
     ]
    },
    {
     "name": "stderr",
     "output_type": "stream",
     "text": [
      "Epoch 165: 272batch [00:18, 14.66batch/s, loss=822]\n"
     ]
    },
    {
     "name": "stdout",
     "output_type": "stream",
     "text": [
      "epoch 165: avg train loss 841.11, bar train loss 2.560, len train loss 0.026, col train loss 147.256\n",
      "epoch 165: avg test  loss 862.36, bar  test loss 2.721, len  test loss 0.029, col  test loss 150.952\n"
     ]
    },
    {
     "name": "stderr",
     "output_type": "stream",
     "text": [
      "Epoch 166: 272batch [00:18, 14.59batch/s, loss=858]\n"
     ]
    },
    {
     "name": "stdout",
     "output_type": "stream",
     "text": [
      "epoch 166: avg train loss 840.41, bar train loss 2.555, len train loss 0.026, col train loss 147.140\n"
     ]
    },
    {
     "name": "stderr",
     "output_type": "stream",
     "text": [
      "Epoch 167: 2batch [00:00, 14.60batch/s, loss=805]"
     ]
    },
    {
     "name": "stdout",
     "output_type": "stream",
     "text": [
      "epoch 166: avg test  loss 861.23, bar  test loss 2.706, len  test loss 0.029, col  test loss 150.819\n"
     ]
    },
    {
     "name": "stderr",
     "output_type": "stream",
     "text": [
      "Epoch 167: 272batch [00:18, 14.63batch/s, loss=840]\n"
     ]
    },
    {
     "name": "stdout",
     "output_type": "stream",
     "text": [
      "epoch 167: avg train loss 839.86, bar train loss 2.546, len train loss 0.026, col train loss 147.015\n"
     ]
    },
    {
     "name": "stderr",
     "output_type": "stream",
     "text": [
      "Epoch 168: 2batch [00:00, 14.60batch/s, loss=840]"
     ]
    },
    {
     "name": "stdout",
     "output_type": "stream",
     "text": [
      "epoch 167: avg test  loss 861.29, bar  test loss 2.710, len  test loss 0.028, col  test loss 150.742\n"
     ]
    },
    {
     "name": "stderr",
     "output_type": "stream",
     "text": [
      "Epoch 168: 272batch [00:18, 14.66batch/s, loss=878]\n"
     ]
    },
    {
     "name": "stdout",
     "output_type": "stream",
     "text": [
      "epoch 168: avg train loss 839.40, bar train loss 2.543, len train loss 0.026, col train loss 146.925\n"
     ]
    },
    {
     "name": "stderr",
     "output_type": "stream",
     "text": [
      "Epoch 169: 2batch [00:00, 14.39batch/s, loss=847]"
     ]
    },
    {
     "name": "stdout",
     "output_type": "stream",
     "text": [
      "epoch 168: avg test  loss 861.15, bar  test loss 2.681, len  test loss 0.028, col  test loss 150.744\n"
     ]
    },
    {
     "name": "stderr",
     "output_type": "stream",
     "text": [
      "Epoch 169: 272batch [00:18, 14.72batch/s, loss=853]\n"
     ]
    },
    {
     "name": "stdout",
     "output_type": "stream",
     "text": [
      "epoch 169: avg train loss 839.01, bar train loss 2.531, len train loss 0.026, col train loss 146.873\n"
     ]
    },
    {
     "name": "stderr",
     "output_type": "stream",
     "text": [
      "Epoch 170: 2batch [00:00, 14.60batch/s, loss=818]"
     ]
    },
    {
     "name": "stdout",
     "output_type": "stream",
     "text": [
      "epoch 169: avg test  loss 860.42, bar  test loss 2.685, len  test loss 0.028, col  test loss 150.672\n"
     ]
    },
    {
     "name": "stderr",
     "output_type": "stream",
     "text": [
      "Epoch 170: 272batch [00:18, 14.62batch/s, loss=890]\n"
     ]
    },
    {
     "name": "stdout",
     "output_type": "stream",
     "text": [
      "epoch 170: avg train loss 838.44, bar train loss 2.523, len train loss 0.026, col train loss 146.778\n",
      "epoch 170: avg test  loss 860.46, bar  test loss 2.689, len  test loss 0.029, col  test loss 150.700\n"
     ]
    },
    {
     "name": "stderr",
     "output_type": "stream",
     "text": [
      "Epoch 171: 272batch [00:18, 14.55batch/s, loss=941]\n"
     ]
    },
    {
     "name": "stdout",
     "output_type": "stream",
     "text": [
      "epoch 171: avg train loss 838.42, bar train loss 2.526, len train loss 0.027, col train loss 146.714\n"
     ]
    },
    {
     "name": "stderr",
     "output_type": "stream",
     "text": [
      "Epoch 172: 2batch [00:00, 14.49batch/s, loss=810]"
     ]
    },
    {
     "name": "stdout",
     "output_type": "stream",
     "text": [
      "epoch 171: avg test  loss 859.93, bar  test loss 2.657, len  test loss 0.027, col  test loss 150.550\n"
     ]
    },
    {
     "name": "stderr",
     "output_type": "stream",
     "text": [
      "Epoch 172: 272batch [00:18, 14.68batch/s, loss=832]\n"
     ]
    },
    {
     "name": "stdout",
     "output_type": "stream",
     "text": [
      "epoch 172: avg train loss 837.70, bar train loss 2.511, len train loss 0.026, col train loss 146.649\n"
     ]
    },
    {
     "name": "stderr",
     "output_type": "stream",
     "text": [
      "Epoch 173: 2batch [00:00, 14.93batch/s, loss=789]"
     ]
    },
    {
     "name": "stdout",
     "output_type": "stream",
     "text": [
      "epoch 172: avg test  loss 859.80, bar  test loss 2.657, len  test loss 0.029, col  test loss 150.503\n"
     ]
    },
    {
     "name": "stderr",
     "output_type": "stream",
     "text": [
      "Epoch 173: 272batch [00:18, 14.64batch/s, loss=878]\n"
     ]
    },
    {
     "name": "stdout",
     "output_type": "stream",
     "text": [
      "epoch 173: avg train loss 837.22, bar train loss 2.502, len train loss 0.026, col train loss 146.561\n"
     ]
    },
    {
     "name": "stderr",
     "output_type": "stream",
     "text": [
      "Epoch 174: 2batch [00:00, 14.49batch/s, loss=817]"
     ]
    },
    {
     "name": "stdout",
     "output_type": "stream",
     "text": [
      "epoch 173: avg test  loss 859.30, bar  test loss 2.660, len  test loss 0.027, col  test loss 150.522\n"
     ]
    },
    {
     "name": "stderr",
     "output_type": "stream",
     "text": [
      "Epoch 174: 272batch [00:18, 14.65batch/s, loss=881]\n"
     ]
    },
    {
     "name": "stdout",
     "output_type": "stream",
     "text": [
      "epoch 174: avg train loss 836.59, bar train loss 2.492, len train loss 0.025, col train loss 146.484\n"
     ]
    },
    {
     "name": "stderr",
     "output_type": "stream",
     "text": [
      "Epoch 175: 2batch [00:00, 14.60batch/s, loss=861]"
     ]
    },
    {
     "name": "stdout",
     "output_type": "stream",
     "text": [
      "epoch 174: avg test  loss 859.12, bar  test loss 2.653, len  test loss 0.028, col  test loss 150.432\n"
     ]
    },
    {
     "name": "stderr",
     "output_type": "stream",
     "text": [
      "Epoch 175: 272batch [00:18, 14.67batch/s, loss=866]\n"
     ]
    },
    {
     "name": "stdout",
     "output_type": "stream",
     "text": [
      "epoch 175: avg train loss 836.43, bar train loss 2.493, len train loss 0.026, col train loss 146.415\n",
      "epoch 175: avg test  loss 858.76, bar  test loss 2.642, len  test loss 0.027, col  test loss 150.384\n"
     ]
    },
    {
     "name": "stderr",
     "output_type": "stream",
     "text": [
      "Epoch 176: 272batch [00:18, 14.44batch/s, loss=860]\n"
     ]
    },
    {
     "name": "stdout",
     "output_type": "stream",
     "text": [
      "epoch 176: avg train loss 835.69, bar train loss 2.482, len train loss 0.025, col train loss 146.311\n"
     ]
    },
    {
     "name": "stderr",
     "output_type": "stream",
     "text": [
      "Epoch 177: 2batch [00:00, 14.39batch/s, loss=831]"
     ]
    },
    {
     "name": "stdout",
     "output_type": "stream",
     "text": [
      "epoch 176: avg test  loss 858.75, bar  test loss 2.634, len  test loss 0.027, col  test loss 150.317\n"
     ]
    },
    {
     "name": "stderr",
     "output_type": "stream",
     "text": [
      "Epoch 177: 272batch [00:18, 14.71batch/s, loss=792]\n"
     ]
    },
    {
     "name": "stdout",
     "output_type": "stream",
     "text": [
      "epoch 177: avg train loss 835.26, bar train loss 2.476, len train loss 0.025, col train loss 146.229\n"
     ]
    },
    {
     "name": "stderr",
     "output_type": "stream",
     "text": [
      "Epoch 178: 2batch [00:00, 14.49batch/s, loss=796]"
     ]
    },
    {
     "name": "stdout",
     "output_type": "stream",
     "text": [
      "epoch 177: avg test  loss 858.30, bar  test loss 2.618, len  test loss 0.026, col  test loss 150.274\n"
     ]
    },
    {
     "name": "stderr",
     "output_type": "stream",
     "text": [
      "Epoch 178: 272batch [00:18, 14.40batch/s, loss=837]\n"
     ]
    },
    {
     "name": "stdout",
     "output_type": "stream",
     "text": [
      "epoch 178: avg train loss 834.89, bar train loss 2.468, len train loss 0.026, col train loss 146.165\n"
     ]
    },
    {
     "name": "stderr",
     "output_type": "stream",
     "text": [
      "Epoch 179: 2batch [00:00, 14.18batch/s, loss=809]"
     ]
    },
    {
     "name": "stdout",
     "output_type": "stream",
     "text": [
      "epoch 178: avg test  loss 857.55, bar  test loss 2.605, len  test loss 0.026, col  test loss 150.188\n"
     ]
    },
    {
     "name": "stderr",
     "output_type": "stream",
     "text": [
      "Epoch 179: 272batch [00:18, 14.35batch/s, loss=861]\n"
     ]
    },
    {
     "name": "stdout",
     "output_type": "stream",
     "text": [
      "epoch 179: avg train loss 834.35, bar train loss 2.456, len train loss 0.025, col train loss 146.091\n"
     ]
    },
    {
     "name": "stderr",
     "output_type": "stream",
     "text": [
      "Epoch 180: 2batch [00:00, 14.60batch/s, loss=797]"
     ]
    },
    {
     "name": "stdout",
     "output_type": "stream",
     "text": [
      "epoch 179: avg test  loss 857.60, bar  test loss 2.600, len  test loss 0.028, col  test loss 150.033\n"
     ]
    },
    {
     "name": "stderr",
     "output_type": "stream",
     "text": [
      "Epoch 180: 272batch [00:19, 14.31batch/s, loss=844]\n"
     ]
    },
    {
     "name": "stdout",
     "output_type": "stream",
     "text": [
      "epoch 180: avg train loss 833.87, bar train loss 2.452, len train loss 0.026, col train loss 146.011\n",
      "epoch 180: avg test  loss 857.50, bar  test loss 2.592, len  test loss 0.030, col  test loss 150.134\n"
     ]
    },
    {
     "name": "stderr",
     "output_type": "stream",
     "text": [
      "Epoch 181: 272batch [00:19, 14.24batch/s, loss=837]\n"
     ]
    },
    {
     "name": "stdout",
     "output_type": "stream",
     "text": [
      "epoch 181: avg train loss 833.21, bar train loss 2.444, len train loss 0.025, col train loss 145.900\n"
     ]
    },
    {
     "name": "stderr",
     "output_type": "stream",
     "text": [
      "Epoch 182: 2batch [00:00, 14.29batch/s, loss=822]"
     ]
    },
    {
     "name": "stdout",
     "output_type": "stream",
     "text": [
      "epoch 181: avg test  loss 857.02, bar  test loss 2.625, len  test loss 0.027, col  test loss 150.109\n"
     ]
    },
    {
     "name": "stderr",
     "output_type": "stream",
     "text": [
      "Epoch 182: 272batch [00:18, 14.42batch/s, loss=863]\n"
     ]
    },
    {
     "name": "stdout",
     "output_type": "stream",
     "text": [
      "epoch 182: avg train loss 832.95, bar train loss 2.440, len train loss 0.025, col train loss 145.846\n"
     ]
    },
    {
     "name": "stderr",
     "output_type": "stream",
     "text": [
      "Epoch 183: 2batch [00:00, 14.71batch/s, loss=869]"
     ]
    },
    {
     "name": "stdout",
     "output_type": "stream",
     "text": [
      "epoch 182: avg test  loss 856.10, bar  test loss 2.591, len  test loss 0.026, col  test loss 150.060\n"
     ]
    },
    {
     "name": "stderr",
     "output_type": "stream",
     "text": [
      "Epoch 183: 272batch [00:18, 14.45batch/s, loss=820]\n"
     ]
    },
    {
     "name": "stdout",
     "output_type": "stream",
     "text": [
      "epoch 183: avg train loss 832.12, bar train loss 2.430, len train loss 0.026, col train loss 145.682\n"
     ]
    },
    {
     "name": "stderr",
     "output_type": "stream",
     "text": [
      "Epoch 184: 2batch [00:00, 14.60batch/s, loss=827]"
     ]
    },
    {
     "name": "stdout",
     "output_type": "stream",
     "text": [
      "epoch 183: avg test  loss 855.99, bar  test loss 2.592, len  test loss 0.026, col  test loss 149.905\n"
     ]
    },
    {
     "name": "stderr",
     "output_type": "stream",
     "text": [
      "Epoch 184: 272batch [00:18, 14.52batch/s, loss=839]\n"
     ]
    },
    {
     "name": "stdout",
     "output_type": "stream",
     "text": [
      "epoch 184: avg train loss 831.65, bar train loss 2.424, len train loss 0.026, col train loss 145.605\n"
     ]
    },
    {
     "name": "stderr",
     "output_type": "stream",
     "text": [
      "Epoch 185: 2batch [00:00, 14.49batch/s, loss=840]"
     ]
    },
    {
     "name": "stdout",
     "output_type": "stream",
     "text": [
      "epoch 184: avg test  loss 855.47, bar  test loss 2.571, len  test loss 0.027, col  test loss 149.750\n"
     ]
    },
    {
     "name": "stderr",
     "output_type": "stream",
     "text": [
      "Epoch 185: 272batch [00:18, 14.47batch/s, loss=818]\n"
     ]
    },
    {
     "name": "stdout",
     "output_type": "stream",
     "text": [
      "epoch 185: avg train loss 831.17, bar train loss 2.416, len train loss 0.025, col train loss 145.532\n",
      "epoch 185: avg test  loss 855.29, bar  test loss 2.589, len  test loss 0.027, col  test loss 149.803\n"
     ]
    },
    {
     "name": "stderr",
     "output_type": "stream",
     "text": [
      "Epoch 186: 272batch [00:19, 14.20batch/s, loss=775]\n"
     ]
    },
    {
     "name": "stdout",
     "output_type": "stream",
     "text": [
      "epoch 186: avg train loss 830.69, bar train loss 2.410, len train loss 0.025, col train loss 145.441\n"
     ]
    },
    {
     "name": "stderr",
     "output_type": "stream",
     "text": [
      "Epoch 187: 2batch [00:00, 14.08batch/s, loss=847]"
     ]
    },
    {
     "name": "stdout",
     "output_type": "stream",
     "text": [
      "epoch 186: avg test  loss 854.77, bar  test loss 2.559, len  test loss 0.027, col  test loss 149.694\n"
     ]
    },
    {
     "name": "stderr",
     "output_type": "stream",
     "text": [
      "Epoch 187: 272batch [00:18, 14.51batch/s, loss=852]\n"
     ]
    },
    {
     "name": "stdout",
     "output_type": "stream",
     "text": [
      "epoch 187: avg train loss 830.17, bar train loss 2.401, len train loss 0.025, col train loss 145.386\n"
     ]
    },
    {
     "name": "stderr",
     "output_type": "stream",
     "text": [
      "Epoch 188: 2batch [00:00, 14.29batch/s, loss=804]"
     ]
    },
    {
     "name": "stdout",
     "output_type": "stream",
     "text": [
      "epoch 187: avg test  loss 854.90, bar  test loss 2.566, len  test loss 0.027, col  test loss 149.790\n"
     ]
    },
    {
     "name": "stderr",
     "output_type": "stream",
     "text": [
      "Epoch 188: 272batch [00:18, 14.49batch/s, loss=830]\n"
     ]
    },
    {
     "name": "stdout",
     "output_type": "stream",
     "text": [
      "epoch 188: avg train loss 829.76, bar train loss 2.398, len train loss 0.025, col train loss 145.289\n"
     ]
    },
    {
     "name": "stderr",
     "output_type": "stream",
     "text": [
      "Epoch 189: 2batch [00:00, 14.29batch/s, loss=864]"
     ]
    },
    {
     "name": "stdout",
     "output_type": "stream",
     "text": [
      "epoch 188: avg test  loss 854.27, bar  test loss 2.553, len  test loss 0.026, col  test loss 149.614\n"
     ]
    },
    {
     "name": "stderr",
     "output_type": "stream",
     "text": [
      "Epoch 189: 272batch [00:18, 14.51batch/s, loss=820]\n"
     ]
    },
    {
     "name": "stdout",
     "output_type": "stream",
     "text": [
      "epoch 189: avg train loss 829.28, bar train loss 2.388, len train loss 0.025, col train loss 145.220\n"
     ]
    },
    {
     "name": "stderr",
     "output_type": "stream",
     "text": [
      "Epoch 190: 2batch [00:00, 14.60batch/s, loss=856]"
     ]
    },
    {
     "name": "stdout",
     "output_type": "stream",
     "text": [
      "epoch 189: avg test  loss 853.90, bar  test loss 2.533, len  test loss 0.026, col  test loss 149.543\n"
     ]
    },
    {
     "name": "stderr",
     "output_type": "stream",
     "text": [
      "Epoch 190: 272batch [00:18, 14.48batch/s, loss=769]\n"
     ]
    },
    {
     "name": "stdout",
     "output_type": "stream",
     "text": [
      "epoch 190: avg train loss 828.88, bar train loss 2.386, len train loss 0.025, col train loss 145.134\n",
      "epoch 190: avg test  loss 853.71, bar  test loss 2.577, len  test loss 0.028, col  test loss 149.657\n"
     ]
    },
    {
     "name": "stderr",
     "output_type": "stream",
     "text": [
      "Epoch 191: 272batch [00:18, 14.32batch/s, loss=817]\n"
     ]
    },
    {
     "name": "stdout",
     "output_type": "stream",
     "text": [
      "epoch 191: avg train loss 828.41, bar train loss 2.375, len train loss 0.025, col train loss 145.083\n"
     ]
    },
    {
     "name": "stderr",
     "output_type": "stream",
     "text": [
      "Epoch 192: 2batch [00:00, 13.89batch/s, loss=850]"
     ]
    },
    {
     "name": "stdout",
     "output_type": "stream",
     "text": [
      "epoch 191: avg test  loss 853.31, bar  test loss 2.538, len  test loss 0.028, col  test loss 149.436\n"
     ]
    },
    {
     "name": "stderr",
     "output_type": "stream",
     "text": [
      "Epoch 192: 272batch [00:18, 14.46batch/s, loss=775]\n"
     ]
    },
    {
     "name": "stdout",
     "output_type": "stream",
     "text": [
      "epoch 192: avg train loss 827.94, bar train loss 2.370, len train loss 0.025, col train loss 145.004\n"
     ]
    },
    {
     "name": "stderr",
     "output_type": "stream",
     "text": [
      "Epoch 193: 2batch [00:00, 14.71batch/s, loss=811]"
     ]
    },
    {
     "name": "stdout",
     "output_type": "stream",
     "text": [
      "epoch 192: avg test  loss 853.17, bar  test loss 2.539, len  test loss 0.027, col  test loss 149.498\n"
     ]
    },
    {
     "name": "stderr",
     "output_type": "stream",
     "text": [
      "Epoch 193: 272batch [00:18, 14.42batch/s, loss=866]\n"
     ]
    },
    {
     "name": "stdout",
     "output_type": "stream",
     "text": [
      "epoch 193: avg train loss 827.63, bar train loss 2.363, len train loss 0.025, col train loss 144.938\n"
     ]
    },
    {
     "name": "stderr",
     "output_type": "stream",
     "text": [
      "Epoch 194: 2batch [00:00, 14.60batch/s, loss=805]"
     ]
    },
    {
     "name": "stdout",
     "output_type": "stream",
     "text": [
      "epoch 193: avg test  loss 853.17, bar  test loss 2.513, len  test loss 0.026, col  test loss 149.457\n"
     ]
    },
    {
     "name": "stderr",
     "output_type": "stream",
     "text": [
      "Epoch 194: 272batch [00:18, 14.45batch/s, loss=964]\n"
     ]
    },
    {
     "name": "stdout",
     "output_type": "stream",
     "text": [
      "epoch 194: avg train loss 827.08, bar train loss 2.354, len train loss 0.025, col train loss 144.857\n"
     ]
    },
    {
     "name": "stderr",
     "output_type": "stream",
     "text": [
      "Epoch 195: 2batch [00:00, 14.29batch/s, loss=842]"
     ]
    },
    {
     "name": "stdout",
     "output_type": "stream",
     "text": [
      "epoch 194: avg test  loss 852.69, bar  test loss 2.537, len  test loss 0.030, col  test loss 149.405\n"
     ]
    },
    {
     "name": "stderr",
     "output_type": "stream",
     "text": [
      "Epoch 195: 272batch [00:18, 14.38batch/s, loss=787]\n"
     ]
    },
    {
     "name": "stdout",
     "output_type": "stream",
     "text": [
      "epoch 195: avg train loss 826.63, bar train loss 2.350, len train loss 0.025, col train loss 144.772\n",
      "epoch 195: avg test  loss 852.39, bar  test loss 2.521, len  test loss 0.026, col  test loss 149.385\n"
     ]
    },
    {
     "name": "stderr",
     "output_type": "stream",
     "text": [
      "Epoch 196: 272batch [00:19, 14.29batch/s, loss=874]\n"
     ]
    },
    {
     "name": "stdout",
     "output_type": "stream",
     "text": [
      "epoch 196: avg train loss 826.22, bar train loss 2.344, len train loss 0.025, col train loss 144.720\n"
     ]
    },
    {
     "name": "stderr",
     "output_type": "stream",
     "text": [
      "Epoch 197: 2batch [00:00, 12.99batch/s, loss=807]"
     ]
    },
    {
     "name": "stdout",
     "output_type": "stream",
     "text": [
      "epoch 196: avg test  loss 852.15, bar  test loss 2.505, len  test loss 0.027, col  test loss 149.186\n"
     ]
    },
    {
     "name": "stderr",
     "output_type": "stream",
     "text": [
      "Epoch 197: 272batch [00:19, 14.22batch/s, loss=747]\n"
     ]
    },
    {
     "name": "stdout",
     "output_type": "stream",
     "text": [
      "epoch 197: avg train loss 825.78, bar train loss 2.340, len train loss 0.024, col train loss 144.622\n"
     ]
    },
    {
     "name": "stderr",
     "output_type": "stream",
     "text": [
      "Epoch 198: 2batch [00:00, 13.99batch/s, loss=809]"
     ]
    },
    {
     "name": "stdout",
     "output_type": "stream",
     "text": [
      "epoch 197: avg test  loss 851.56, bar  test loss 2.533, len  test loss 0.027, col  test loss 149.411\n"
     ]
    },
    {
     "name": "stderr",
     "output_type": "stream",
     "text": [
      "Epoch 198: 272batch [00:19, 14.26batch/s, loss=867]\n"
     ]
    },
    {
     "name": "stdout",
     "output_type": "stream",
     "text": [
      "epoch 198: avg train loss 825.36, bar train loss 2.332, len train loss 0.025, col train loss 144.560\n"
     ]
    },
    {
     "name": "stderr",
     "output_type": "stream",
     "text": [
      "Epoch 199: 2batch [00:00, 14.39batch/s, loss=805]"
     ]
    },
    {
     "name": "stdout",
     "output_type": "stream",
     "text": [
      "epoch 198: avg test  loss 851.67, bar  test loss 2.502, len  test loss 0.028, col  test loss 149.299\n"
     ]
    },
    {
     "name": "stderr",
     "output_type": "stream",
     "text": [
      "Epoch 199: 272batch [00:19, 14.30batch/s, loss=841]\n"
     ]
    },
    {
     "name": "stdout",
     "output_type": "stream",
     "text": [
      "epoch 199: avg train loss 825.01, bar train loss 2.330, len train loss 0.025, col train loss 144.481\n"
     ]
    },
    {
     "name": "stderr",
     "output_type": "stream",
     "text": [
      "Epoch 200: 2batch [00:00, 14.08batch/s, loss=822]"
     ]
    },
    {
     "name": "stdout",
     "output_type": "stream",
     "text": [
      "epoch 199: avg test  loss 851.47, bar  test loss 2.505, len  test loss 0.027, col  test loss 149.170\n"
     ]
    },
    {
     "name": "stderr",
     "output_type": "stream",
     "text": [
      "Epoch 200: 272batch [00:18, 14.48batch/s, loss=771]\n"
     ]
    },
    {
     "name": "stdout",
     "output_type": "stream",
     "text": [
      "epoch 200: avg train loss 824.60, bar train loss 2.325, len train loss 0.025, col train loss 144.404\n",
      "epoch 200: avg test  loss 851.02, bar  test loss 2.488, len  test loss 0.027, col  test loss 149.113\n"
     ]
    },
    {
     "name": "stderr",
     "output_type": "stream",
     "text": [
      "Epoch 201: 272batch [00:19, 14.12batch/s, loss=849]\n"
     ]
    },
    {
     "name": "stdout",
     "output_type": "stream",
     "text": [
      "epoch 201: avg train loss 824.12, bar train loss 2.318, len train loss 0.025, col train loss 144.332\n"
     ]
    },
    {
     "name": "stderr",
     "output_type": "stream",
     "text": [
      "Epoch 202: 2batch [00:00, 14.60batch/s, loss=876]"
     ]
    },
    {
     "name": "stdout",
     "output_type": "stream",
     "text": [
      "epoch 201: avg test  loss 850.58, bar  test loss 2.492, len  test loss 0.025, col  test loss 149.053\n"
     ]
    },
    {
     "name": "stderr",
     "output_type": "stream",
     "text": [
      "Epoch 202: 272batch [00:18, 14.32batch/s, loss=741]\n"
     ]
    },
    {
     "name": "stdout",
     "output_type": "stream",
     "text": [
      "epoch 202: avg train loss 823.65, bar train loss 2.309, len train loss 0.025, col train loss 144.246\n"
     ]
    },
    {
     "name": "stderr",
     "output_type": "stream",
     "text": [
      "Epoch 203: 2batch [00:00, 14.49batch/s, loss=811]"
     ]
    },
    {
     "name": "stdout",
     "output_type": "stream",
     "text": [
      "epoch 202: avg test  loss 850.53, bar  test loss 2.482, len  test loss 0.029, col  test loss 149.092\n"
     ]
    },
    {
     "name": "stderr",
     "output_type": "stream",
     "text": [
      "Epoch 203: 272batch [00:18, 14.42batch/s, loss=778]\n"
     ]
    },
    {
     "name": "stdout",
     "output_type": "stream",
     "text": [
      "epoch 203: avg train loss 823.44, bar train loss 2.307, len train loss 0.024, col train loss 144.187\n"
     ]
    },
    {
     "name": "stderr",
     "output_type": "stream",
     "text": [
      "Epoch 204: 2batch [00:00, 14.08batch/s, loss=839]"
     ]
    },
    {
     "name": "stdout",
     "output_type": "stream",
     "text": [
      "epoch 203: avg test  loss 850.34, bar  test loss 2.501, len  test loss 0.026, col  test loss 148.987\n"
     ]
    },
    {
     "name": "stderr",
     "output_type": "stream",
     "text": [
      "Epoch 204: 272batch [00:18, 14.37batch/s, loss=903]\n"
     ]
    },
    {
     "name": "stdout",
     "output_type": "stream",
     "text": [
      "epoch 204: avg train loss 823.07, bar train loss 2.301, len train loss 0.025, col train loss 144.137\n"
     ]
    },
    {
     "name": "stderr",
     "output_type": "stream",
     "text": [
      "Epoch 205: 2batch [00:00, 14.29batch/s, loss=844]"
     ]
    },
    {
     "name": "stdout",
     "output_type": "stream",
     "text": [
      "epoch 204: avg test  loss 850.90, bar  test loss 2.463, len  test loss 0.029, col  test loss 148.957\n"
     ]
    },
    {
     "name": "stderr",
     "output_type": "stream",
     "text": [
      "Epoch 205: 272batch [00:18, 14.43batch/s, loss=831]\n"
     ]
    },
    {
     "name": "stdout",
     "output_type": "stream",
     "text": [
      "epoch 205: avg train loss 822.57, bar train loss 2.295, len train loss 0.024, col train loss 144.054\n",
      "epoch 205: avg test  loss 850.06, bar  test loss 2.481, len  test loss 0.027, col  test loss 148.925\n"
     ]
    },
    {
     "name": "stderr",
     "output_type": "stream",
     "text": [
      "Epoch 206: 272batch [00:19, 14.22batch/s, loss=863]\n"
     ]
    },
    {
     "name": "stdout",
     "output_type": "stream",
     "text": [
      "epoch 206: avg train loss 822.24, bar train loss 2.295, len train loss 0.025, col train loss 143.992\n"
     ]
    },
    {
     "name": "stderr",
     "output_type": "stream",
     "text": [
      "Epoch 207: 2batch [00:00, 14.60batch/s, loss=822]"
     ]
    },
    {
     "name": "stdout",
     "output_type": "stream",
     "text": [
      "epoch 206: avg test  loss 850.09, bar  test loss 2.470, len  test loss 0.027, col  test loss 148.888\n"
     ]
    },
    {
     "name": "stderr",
     "output_type": "stream",
     "text": [
      "Epoch 207: 272batch [00:18, 14.39batch/s, loss=851]\n"
     ]
    },
    {
     "name": "stdout",
     "output_type": "stream",
     "text": [
      "epoch 207: avg train loss 821.88, bar train loss 2.287, len train loss 0.025, col train loss 143.921\n"
     ]
    },
    {
     "name": "stderr",
     "output_type": "stream",
     "text": [
      "Epoch 208: 2batch [00:00, 14.39batch/s, loss=822]"
     ]
    },
    {
     "name": "stdout",
     "output_type": "stream",
     "text": [
      "epoch 207: avg test  loss 849.77, bar  test loss 2.462, len  test loss 0.026, col  test loss 148.917\n"
     ]
    },
    {
     "name": "stderr",
     "output_type": "stream",
     "text": [
      "Epoch 208: 272batch [00:18, 14.43batch/s, loss=929]\n"
     ]
    },
    {
     "name": "stdout",
     "output_type": "stream",
     "text": [
      "epoch 208: avg train loss 821.47, bar train loss 2.282, len train loss 0.024, col train loss 143.857\n"
     ]
    },
    {
     "name": "stderr",
     "output_type": "stream",
     "text": [
      "Epoch 209: 2batch [00:00, 14.18batch/s, loss=812]"
     ]
    },
    {
     "name": "stdout",
     "output_type": "stream",
     "text": [
      "epoch 208: avg test  loss 849.69, bar  test loss 2.468, len  test loss 0.026, col  test loss 148.953\n"
     ]
    },
    {
     "name": "stderr",
     "output_type": "stream",
     "text": [
      "Epoch 209: 272batch [00:18, 14.42batch/s, loss=780]\n"
     ]
    },
    {
     "name": "stdout",
     "output_type": "stream",
     "text": [
      "epoch 209: avg train loss 821.08, bar train loss 2.278, len train loss 0.025, col train loss 143.774\n"
     ]
    },
    {
     "name": "stderr",
     "output_type": "stream",
     "text": [
      "Epoch 210: 2batch [00:00, 14.29batch/s, loss=832]"
     ]
    },
    {
     "name": "stdout",
     "output_type": "stream",
     "text": [
      "epoch 209: avg test  loss 849.11, bar  test loss 2.461, len  test loss 0.025, col  test loss 148.747\n"
     ]
    },
    {
     "name": "stderr",
     "output_type": "stream",
     "text": [
      "Epoch 210: 272batch [00:18, 14.50batch/s, loss=852]\n"
     ]
    },
    {
     "name": "stdout",
     "output_type": "stream",
     "text": [
      "epoch 210: avg train loss 820.65, bar train loss 2.272, len train loss 0.025, col train loss 143.701\n",
      "epoch 210: avg test  loss 849.02, bar  test loss 2.450, len  test loss 0.025, col  test loss 148.795\n"
     ]
    },
    {
     "name": "stderr",
     "output_type": "stream",
     "text": [
      "Epoch 211: 272batch [00:19, 14.20batch/s, loss=828]\n"
     ]
    },
    {
     "name": "stdout",
     "output_type": "stream",
     "text": [
      "epoch 211: avg train loss 820.28, bar train loss 2.267, len train loss 0.025, col train loss 143.638\n"
     ]
    },
    {
     "name": "stderr",
     "output_type": "stream",
     "text": [
      "Epoch 212: 2batch [00:00, 14.49batch/s, loss=805]"
     ]
    },
    {
     "name": "stdout",
     "output_type": "stream",
     "text": [
      "epoch 211: avg test  loss 848.55, bar  test loss 2.467, len  test loss 0.026, col  test loss 148.716\n"
     ]
    },
    {
     "name": "stderr",
     "output_type": "stream",
     "text": [
      "Epoch 212: 272batch [00:18, 14.41batch/s, loss=845]\n"
     ]
    },
    {
     "name": "stdout",
     "output_type": "stream",
     "text": [
      "epoch 212: avg train loss 819.95, bar train loss 2.263, len train loss 0.024, col train loss 143.572\n"
     ]
    },
    {
     "name": "stderr",
     "output_type": "stream",
     "text": [
      "Epoch 213: 2batch [00:00, 14.49batch/s, loss=839]"
     ]
    },
    {
     "name": "stdout",
     "output_type": "stream",
     "text": [
      "epoch 212: avg test  loss 849.02, bar  test loss 2.455, len  test loss 0.028, col  test loss 148.720\n"
     ]
    },
    {
     "name": "stderr",
     "output_type": "stream",
     "text": [
      "Epoch 213: 272batch [00:18, 14.35batch/s, loss=822]\n"
     ]
    },
    {
     "name": "stdout",
     "output_type": "stream",
     "text": [
      "epoch 213: avg train loss 819.53, bar train loss 2.259, len train loss 0.024, col train loss 143.505\n"
     ]
    },
    {
     "name": "stderr",
     "output_type": "stream",
     "text": [
      "Epoch 214: 2batch [00:00, 14.29batch/s, loss=814]"
     ]
    },
    {
     "name": "stdout",
     "output_type": "stream",
     "text": [
      "epoch 213: avg test  loss 848.62, bar  test loss 2.451, len  test loss 0.028, col  test loss 148.739\n"
     ]
    },
    {
     "name": "stderr",
     "output_type": "stream",
     "text": [
      "Epoch 214: 272batch [00:18, 14.42batch/s, loss=858]\n"
     ]
    },
    {
     "name": "stdout",
     "output_type": "stream",
     "text": [
      "epoch 214: avg train loss 819.48, bar train loss 2.258, len train loss 0.025, col train loss 143.475\n"
     ]
    },
    {
     "name": "stderr",
     "output_type": "stream",
     "text": [
      "Epoch 215: 2batch [00:00, 14.18batch/s, loss=793]"
     ]
    },
    {
     "name": "stdout",
     "output_type": "stream",
     "text": [
      "epoch 214: avg test  loss 848.35, bar  test loss 2.440, len  test loss 0.026, col  test loss 148.528\n"
     ]
    },
    {
     "name": "stderr",
     "output_type": "stream",
     "text": [
      "Epoch 215: 272batch [00:18, 14.40batch/s, loss=875]\n"
     ]
    },
    {
     "name": "stdout",
     "output_type": "stream",
     "text": [
      "epoch 215: avg train loss 818.87, bar train loss 2.246, len train loss 0.024, col train loss 143.369\n",
      "epoch 215: avg test  loss 848.61, bar  test loss 2.441, len  test loss 0.027, col  test loss 148.506\n"
     ]
    },
    {
     "name": "stderr",
     "output_type": "stream",
     "text": [
      "Epoch 216: 272batch [00:19, 14.15batch/s, loss=782]\n"
     ]
    },
    {
     "name": "stdout",
     "output_type": "stream",
     "text": [
      "epoch 216: avg train loss 818.68, bar train loss 2.245, len train loss 0.024, col train loss 143.334\n"
     ]
    },
    {
     "name": "stderr",
     "output_type": "stream",
     "text": [
      "Epoch 217: 2batch [00:00, 14.39batch/s, loss=818]"
     ]
    },
    {
     "name": "stdout",
     "output_type": "stream",
     "text": [
      "epoch 216: avg test  loss 848.10, bar  test loss 2.446, len  test loss 0.026, col  test loss 148.515\n"
     ]
    },
    {
     "name": "stderr",
     "output_type": "stream",
     "text": [
      "Epoch 217: 272batch [00:18, 14.42batch/s, loss=840]\n"
     ]
    },
    {
     "name": "stdout",
     "output_type": "stream",
     "text": [
      "epoch 217: avg train loss 818.04, bar train loss 2.241, len train loss 0.024, col train loss 143.224\n"
     ]
    },
    {
     "name": "stderr",
     "output_type": "stream",
     "text": [
      "Epoch 218: 2batch [00:00, 14.60batch/s, loss=792]"
     ]
    },
    {
     "name": "stdout",
     "output_type": "stream",
     "text": [
      "epoch 217: avg test  loss 847.84, bar  test loss 2.432, len  test loss 0.026, col  test loss 148.412\n"
     ]
    },
    {
     "name": "stderr",
     "output_type": "stream",
     "text": [
      "Epoch 218: 272batch [00:18, 14.43batch/s, loss=804]\n"
     ]
    },
    {
     "name": "stdout",
     "output_type": "stream",
     "text": [
      "epoch 218: avg train loss 817.94, bar train loss 2.237, len train loss 0.024, col train loss 143.194\n"
     ]
    },
    {
     "name": "stderr",
     "output_type": "stream",
     "text": [
      "Epoch 219: 2batch [00:00, 14.29batch/s, loss=832]"
     ]
    },
    {
     "name": "stdout",
     "output_type": "stream",
     "text": [
      "epoch 218: avg test  loss 847.80, bar  test loss 2.429, len  test loss 0.026, col  test loss 148.403\n"
     ]
    },
    {
     "name": "stderr",
     "output_type": "stream",
     "text": [
      "Epoch 219: 272batch [00:18, 14.40batch/s, loss=791]\n"
     ]
    },
    {
     "name": "stdout",
     "output_type": "stream",
     "text": [
      "epoch 219: avg train loss 817.43, bar train loss 2.232, len train loss 0.024, col train loss 143.111\n"
     ]
    },
    {
     "name": "stderr",
     "output_type": "stream",
     "text": [
      "Epoch 220: 2batch [00:00, 14.71batch/s, loss=806]"
     ]
    },
    {
     "name": "stdout",
     "output_type": "stream",
     "text": [
      "epoch 219: avg test  loss 847.39, bar  test loss 2.431, len  test loss 0.027, col  test loss 148.487\n"
     ]
    },
    {
     "name": "stderr",
     "output_type": "stream",
     "text": [
      "Epoch 220: 272batch [00:18, 14.45batch/s, loss=834]\n"
     ]
    },
    {
     "name": "stdout",
     "output_type": "stream",
     "text": [
      "epoch 220: avg train loss 817.11, bar train loss 2.228, len train loss 0.024, col train loss 143.047\n",
      "epoch 220: avg test  loss 847.69, bar  test loss 2.429, len  test loss 0.026, col  test loss 148.434\n"
     ]
    },
    {
     "name": "stderr",
     "output_type": "stream",
     "text": [
      "Epoch 221: 272batch [00:19, 14.14batch/s, loss=852]\n"
     ]
    },
    {
     "name": "stdout",
     "output_type": "stream",
     "text": [
      "epoch 221: avg train loss 816.74, bar train loss 2.225, len train loss 0.024, col train loss 142.976\n",
      "epoch 221: avg test  loss 847.08, bar  test loss 2.416, len  test loss 0.025, col  test loss 148.364\n"
     ]
    },
    {
     "name": "stderr",
     "output_type": "stream",
     "text": [
      "Epoch 222: 272batch [00:18, 14.40batch/s, loss=756]\n"
     ]
    },
    {
     "name": "stdout",
     "output_type": "stream",
     "text": [
      "epoch 222: avg train loss 816.37, bar train loss 2.220, len train loss 0.024, col train loss 142.902\n"
     ]
    },
    {
     "name": "stderr",
     "output_type": "stream",
     "text": [
      "Epoch 223: 2batch [00:00, 14.29batch/s, loss=836]"
     ]
    },
    {
     "name": "stdout",
     "output_type": "stream",
     "text": [
      "epoch 222: avg test  loss 847.16, bar  test loss 2.424, len  test loss 0.026, col  test loss 148.324\n"
     ]
    },
    {
     "name": "stderr",
     "output_type": "stream",
     "text": [
      "Epoch 223: 272batch [00:19, 14.17batch/s, loss=757]\n"
     ]
    },
    {
     "name": "stdout",
     "output_type": "stream",
     "text": [
      "epoch 223: avg train loss 816.19, bar train loss 2.215, len train loss 0.024, col train loss 142.876\n"
     ]
    },
    {
     "name": "stderr",
     "output_type": "stream",
     "text": [
      "Epoch 224: 2batch [00:00, 14.29batch/s, loss=786]"
     ]
    },
    {
     "name": "stdout",
     "output_type": "stream",
     "text": [
      "epoch 223: avg test  loss 846.73, bar  test loss 2.426, len  test loss 0.026, col  test loss 148.244\n"
     ]
    },
    {
     "name": "stderr",
     "output_type": "stream",
     "text": [
      "Epoch 224: 272batch [00:18, 14.34batch/s, loss=779]\n"
     ]
    },
    {
     "name": "stdout",
     "output_type": "stream",
     "text": [
      "epoch 224: avg train loss 815.93, bar train loss 2.213, len train loss 0.024, col train loss 142.803\n"
     ]
    },
    {
     "name": "stderr",
     "output_type": "stream",
     "text": [
      "Epoch 225: 2batch [00:00, 14.39batch/s, loss=807]"
     ]
    },
    {
     "name": "stdout",
     "output_type": "stream",
     "text": [
      "epoch 224: avg test  loss 846.70, bar  test loss 2.432, len  test loss 0.026, col  test loss 148.237\n"
     ]
    },
    {
     "name": "stderr",
     "output_type": "stream",
     "text": [
      "Epoch 225: 272batch [00:19, 14.28batch/s, loss=840]\n"
     ]
    },
    {
     "name": "stdout",
     "output_type": "stream",
     "text": [
      "epoch 225: avg train loss 815.54, bar train loss 2.208, len train loss 0.024, col train loss 142.738\n",
      "epoch 225: avg test  loss 846.39, bar  test loss 2.399, len  test loss 0.026, col  test loss 148.224\n"
     ]
    },
    {
     "name": "stderr",
     "output_type": "stream",
     "text": [
      "Epoch 226: 272batch [00:19, 14.20batch/s, loss=798]\n"
     ]
    },
    {
     "name": "stdout",
     "output_type": "stream",
     "text": [
      "epoch 226: avg train loss 815.20, bar train loss 2.201, len train loss 0.024, col train loss 142.670\n"
     ]
    },
    {
     "name": "stderr",
     "output_type": "stream",
     "text": [
      "Epoch 227: 2batch [00:00, 14.39batch/s, loss=802]"
     ]
    },
    {
     "name": "stdout",
     "output_type": "stream",
     "text": [
      "epoch 226: avg test  loss 846.44, bar  test loss 2.405, len  test loss 0.026, col  test loss 148.265\n"
     ]
    },
    {
     "name": "stderr",
     "output_type": "stream",
     "text": [
      "Epoch 227: 272batch [00:18, 14.38batch/s, loss=796]\n"
     ]
    },
    {
     "name": "stdout",
     "output_type": "stream",
     "text": [
      "epoch 227: avg train loss 814.99, bar train loss 2.197, len train loss 0.025, col train loss 142.637\n"
     ]
    },
    {
     "name": "stderr",
     "output_type": "stream",
     "text": [
      "Epoch 228: 2batch [00:00, 14.49batch/s, loss=801]"
     ]
    },
    {
     "name": "stdout",
     "output_type": "stream",
     "text": [
      "epoch 227: avg test  loss 846.11, bar  test loss 2.406, len  test loss 0.026, col  test loss 148.194\n"
     ]
    },
    {
     "name": "stderr",
     "output_type": "stream",
     "text": [
      "Epoch 228: 272batch [00:18, 14.37batch/s, loss=884]\n"
     ]
    },
    {
     "name": "stdout",
     "output_type": "stream",
     "text": [
      "epoch 228: avg train loss 814.60, bar train loss 2.193, len train loss 0.024, col train loss 142.575\n"
     ]
    },
    {
     "name": "stderr",
     "output_type": "stream",
     "text": [
      "Epoch 229: 2batch [00:00, 14.49batch/s, loss=822]"
     ]
    },
    {
     "name": "stdout",
     "output_type": "stream",
     "text": [
      "epoch 228: avg test  loss 845.65, bar  test loss 2.393, len  test loss 0.026, col  test loss 148.136\n"
     ]
    },
    {
     "name": "stderr",
     "output_type": "stream",
     "text": [
      "Epoch 229: 272batch [00:18, 14.38batch/s, loss=883]\n"
     ]
    },
    {
     "name": "stdout",
     "output_type": "stream",
     "text": [
      "epoch 229: avg train loss 814.14, bar train loss 2.189, len train loss 0.024, col train loss 142.488\n"
     ]
    },
    {
     "name": "stderr",
     "output_type": "stream",
     "text": [
      "Epoch 230: 2batch [00:00, 14.60batch/s, loss=819]"
     ]
    },
    {
     "name": "stdout",
     "output_type": "stream",
     "text": [
      "epoch 229: avg test  loss 846.32, bar  test loss 2.379, len  test loss 0.027, col  test loss 148.095\n"
     ]
    },
    {
     "name": "stderr",
     "output_type": "stream",
     "text": [
      "Epoch 230: 272batch [00:18, 14.37batch/s, loss=809]\n"
     ]
    },
    {
     "name": "stdout",
     "output_type": "stream",
     "text": [
      "epoch 230: avg train loss 814.04, bar train loss 2.186, len train loss 0.025, col train loss 142.449\n",
      "epoch 230: avg test  loss 845.67, bar  test loss 2.390, len  test loss 0.029, col  test loss 148.079\n"
     ]
    },
    {
     "name": "stderr",
     "output_type": "stream",
     "text": [
      "Epoch 231: 272batch [00:19, 13.90batch/s, loss=846]\n"
     ]
    },
    {
     "name": "stdout",
     "output_type": "stream",
     "text": [
      "epoch 231: avg train loss 813.53, bar train loss 2.181, len train loss 0.024, col train loss 142.366\n"
     ]
    },
    {
     "name": "stderr",
     "output_type": "stream",
     "text": [
      "Epoch 232: 2batch [00:00, 14.49batch/s, loss=806]"
     ]
    },
    {
     "name": "stdout",
     "output_type": "stream",
     "text": [
      "epoch 231: avg test  loss 845.35, bar  test loss 2.387, len  test loss 0.025, col  test loss 148.202\n"
     ]
    },
    {
     "name": "stderr",
     "output_type": "stream",
     "text": [
      "Epoch 232: 272batch [00:18, 14.32batch/s, loss=805]\n"
     ]
    },
    {
     "name": "stdout",
     "output_type": "stream",
     "text": [
      "epoch 232: avg train loss 813.25, bar train loss 2.173, len train loss 0.024, col train loss 142.339\n"
     ]
    },
    {
     "name": "stderr",
     "output_type": "stream",
     "text": [
      "Epoch 233: 2batch [00:00, 14.49batch/s, loss=797]"
     ]
    },
    {
     "name": "stdout",
     "output_type": "stream",
     "text": [
      "epoch 232: avg test  loss 845.69, bar  test loss 2.392, len  test loss 0.029, col  test loss 148.095\n"
     ]
    },
    {
     "name": "stderr",
     "output_type": "stream",
     "text": [
      "Epoch 233: 272batch [00:19, 14.30batch/s, loss=763]\n"
     ]
    },
    {
     "name": "stdout",
     "output_type": "stream",
     "text": [
      "epoch 233: avg train loss 812.80, bar train loss 2.173, len train loss 0.024, col train loss 142.236\n"
     ]
    },
    {
     "name": "stderr",
     "output_type": "stream",
     "text": [
      "Epoch 234: 2batch [00:00, 14.29batch/s, loss=812]"
     ]
    },
    {
     "name": "stdout",
     "output_type": "stream",
     "text": [
      "epoch 233: avg test  loss 845.43, bar  test loss 2.395, len  test loss 0.027, col  test loss 147.956\n"
     ]
    },
    {
     "name": "stderr",
     "output_type": "stream",
     "text": [
      "Epoch 234: 272batch [00:19, 14.30batch/s, loss=798]\n"
     ]
    },
    {
     "name": "stdout",
     "output_type": "stream",
     "text": [
      "epoch 234: avg train loss 812.44, bar train loss 2.168, len train loss 0.024, col train loss 142.159\n"
     ]
    },
    {
     "name": "stderr",
     "output_type": "stream",
     "text": [
      "Epoch 235: 2batch [00:00, 14.39batch/s, loss=801]"
     ]
    },
    {
     "name": "stdout",
     "output_type": "stream",
     "text": [
      "epoch 234: avg test  loss 844.82, bar  test loss 2.374, len  test loss 0.025, col  test loss 148.025\n"
     ]
    },
    {
     "name": "stderr",
     "output_type": "stream",
     "text": [
      "Epoch 235: 272batch [00:19, 14.31batch/s, loss=801]\n"
     ]
    },
    {
     "name": "stdout",
     "output_type": "stream",
     "text": [
      "epoch 235: avg train loss 812.38, bar train loss 2.164, len train loss 0.024, col train loss 142.125\n",
      "epoch 235: avg test  loss 845.34, bar  test loss 2.365, len  test loss 0.026, col  test loss 147.984\n"
     ]
    },
    {
     "name": "stderr",
     "output_type": "stream",
     "text": [
      "Epoch 236: 272batch [00:19, 14.17batch/s, loss=800]\n"
     ]
    },
    {
     "name": "stdout",
     "output_type": "stream",
     "text": [
      "epoch 236: avg train loss 811.83, bar train loss 2.159, len train loss 0.024, col train loss 142.068\n"
     ]
    },
    {
     "name": "stderr",
     "output_type": "stream",
     "text": [
      "Epoch 237: 2batch [00:00, 13.79batch/s, loss=814]"
     ]
    },
    {
     "name": "stdout",
     "output_type": "stream",
     "text": [
      "epoch 236: avg test  loss 844.83, bar  test loss 2.374, len  test loss 0.026, col  test loss 147.934\n"
     ]
    },
    {
     "name": "stderr",
     "output_type": "stream",
     "text": [
      "Epoch 237: 272batch [00:18, 14.37batch/s, loss=806]\n"
     ]
    },
    {
     "name": "stdout",
     "output_type": "stream",
     "text": [
      "epoch 237: avg train loss 811.50, bar train loss 2.156, len train loss 0.024, col train loss 142.007\n"
     ]
    },
    {
     "name": "stderr",
     "output_type": "stream",
     "text": [
      "Epoch 238: 2batch [00:00, 14.08batch/s, loss=802]"
     ]
    },
    {
     "name": "stdout",
     "output_type": "stream",
     "text": [
      "epoch 237: avg test  loss 844.71, bar  test loss 2.365, len  test loss 0.026, col  test loss 147.917\n"
     ]
    },
    {
     "name": "stderr",
     "output_type": "stream",
     "text": [
      "Epoch 238: 272batch [00:18, 14.55batch/s, loss=791]\n"
     ]
    },
    {
     "name": "stdout",
     "output_type": "stream",
     "text": [
      "epoch 238: avg train loss 811.35, bar train loss 2.156, len train loss 0.024, col train loss 141.942\n"
     ]
    },
    {
     "name": "stderr",
     "output_type": "stream",
     "text": [
      "Epoch 239: 2batch [00:00, 14.18batch/s, loss=820]"
     ]
    },
    {
     "name": "stdout",
     "output_type": "stream",
     "text": [
      "epoch 238: avg test  loss 844.76, bar  test loss 2.357, len  test loss 0.026, col  test loss 147.795\n"
     ]
    },
    {
     "name": "stderr",
     "output_type": "stream",
     "text": [
      "Epoch 239: 272batch [00:18, 14.54batch/s, loss=804]\n"
     ]
    },
    {
     "name": "stdout",
     "output_type": "stream",
     "text": [
      "epoch 239: avg train loss 811.05, bar train loss 2.152, len train loss 0.024, col train loss 141.880\n"
     ]
    },
    {
     "name": "stderr",
     "output_type": "stream",
     "text": [
      "Epoch 240: 2batch [00:00, 14.29batch/s, loss=804]"
     ]
    },
    {
     "name": "stdout",
     "output_type": "stream",
     "text": [
      "epoch 239: avg test  loss 844.29, bar  test loss 2.360, len  test loss 0.025, col  test loss 147.829\n"
     ]
    },
    {
     "name": "stderr",
     "output_type": "stream",
     "text": [
      "Epoch 240: 272batch [00:18, 14.54batch/s, loss=803]\n"
     ]
    },
    {
     "name": "stdout",
     "output_type": "stream",
     "text": [
      "epoch 240: avg train loss 810.72, bar train loss 2.147, len train loss 0.024, col train loss 141.838\n",
      "epoch 240: avg test  loss 844.62, bar  test loss 2.356, len  test loss 0.027, col  test loss 147.819\n"
     ]
    },
    {
     "name": "stderr",
     "output_type": "stream",
     "text": [
      "Epoch 241: 272batch [00:18, 14.37batch/s, loss=834]\n"
     ]
    },
    {
     "name": "stdout",
     "output_type": "stream",
     "text": [
      "epoch 241: avg train loss 810.38, bar train loss 2.144, len train loss 0.024, col train loss 141.771\n"
     ]
    },
    {
     "name": "stderr",
     "output_type": "stream",
     "text": [
      "Epoch 242: 2batch [00:00, 14.08batch/s, loss=802]"
     ]
    },
    {
     "name": "stdout",
     "output_type": "stream",
     "text": [
      "epoch 241: avg test  loss 844.43, bar  test loss 2.349, len  test loss 0.027, col  test loss 147.791\n"
     ]
    },
    {
     "name": "stderr",
     "output_type": "stream",
     "text": [
      "Epoch 242: 272batch [00:18, 14.56batch/s, loss=756]\n"
     ]
    },
    {
     "name": "stdout",
     "output_type": "stream",
     "text": [
      "epoch 242: avg train loss 809.98, bar train loss 2.141, len train loss 0.024, col train loss 141.681\n"
     ]
    },
    {
     "name": "stderr",
     "output_type": "stream",
     "text": [
      "Epoch 243: 2batch [00:00, 14.60batch/s, loss=817]"
     ]
    },
    {
     "name": "stdout",
     "output_type": "stream",
     "text": [
      "epoch 242: avg test  loss 844.18, bar  test loss 2.360, len  test loss 0.027, col  test loss 147.763\n"
     ]
    },
    {
     "name": "stderr",
     "output_type": "stream",
     "text": [
      "Epoch 243: 272batch [00:18, 14.53batch/s, loss=800]\n"
     ]
    },
    {
     "name": "stdout",
     "output_type": "stream",
     "text": [
      "epoch 243: avg train loss 809.79, bar train loss 2.135, len train loss 0.024, col train loss 141.650\n"
     ]
    },
    {
     "name": "stderr",
     "output_type": "stream",
     "text": [
      "Epoch 244: 2batch [00:00, 14.39batch/s, loss=841]"
     ]
    },
    {
     "name": "stdout",
     "output_type": "stream",
     "text": [
      "epoch 243: avg test  loss 843.93, bar  test loss 2.356, len  test loss 0.026, col  test loss 147.737\n"
     ]
    },
    {
     "name": "stderr",
     "output_type": "stream",
     "text": [
      "Epoch 244: 272batch [00:18, 14.51batch/s, loss=824]\n"
     ]
    },
    {
     "name": "stdout",
     "output_type": "stream",
     "text": [
      "epoch 244: avg train loss 809.34, bar train loss 2.132, len train loss 0.024, col train loss 141.562\n"
     ]
    },
    {
     "name": "stderr",
     "output_type": "stream",
     "text": [
      "Epoch 245: 2batch [00:00, 14.39batch/s, loss=839]"
     ]
    },
    {
     "name": "stdout",
     "output_type": "stream",
     "text": [
      "epoch 244: avg test  loss 844.02, bar  test loss 2.348, len  test loss 0.026, col  test loss 147.685\n"
     ]
    },
    {
     "name": "stderr",
     "output_type": "stream",
     "text": [
      "Epoch 245: 272batch [00:18, 14.48batch/s, loss=765]\n"
     ]
    },
    {
     "name": "stdout",
     "output_type": "stream",
     "text": [
      "epoch 245: avg train loss 809.34, bar train loss 2.129, len train loss 0.024, col train loss 141.548\n",
      "epoch 245: avg test  loss 843.55, bar  test loss 2.338, len  test loss 0.026, col  test loss 147.602\n"
     ]
    },
    {
     "name": "stderr",
     "output_type": "stream",
     "text": [
      "Epoch 246: 272batch [00:19, 14.28batch/s, loss=789]\n"
     ]
    },
    {
     "name": "stdout",
     "output_type": "stream",
     "text": [
      "epoch 246: avg train loss 808.96, bar train loss 2.123, len train loss 0.023, col train loss 141.500\n"
     ]
    },
    {
     "name": "stderr",
     "output_type": "stream",
     "text": [
      "Epoch 247: 2batch [00:00, 14.29batch/s, loss=799]"
     ]
    },
    {
     "name": "stdout",
     "output_type": "stream",
     "text": [
      "epoch 246: avg test  loss 843.44, bar  test loss 2.341, len  test loss 0.026, col  test loss 147.655\n"
     ]
    },
    {
     "name": "stderr",
     "output_type": "stream",
     "text": [
      "Epoch 247: 272batch [00:18, 14.46batch/s, loss=768]\n"
     ]
    },
    {
     "name": "stdout",
     "output_type": "stream",
     "text": [
      "epoch 247: avg train loss 808.76, bar train loss 2.123, len train loss 0.023, col train loss 141.441\n"
     ]
    },
    {
     "name": "stderr",
     "output_type": "stream",
     "text": [
      "Epoch 248: 2batch [00:00, 14.60batch/s, loss=803]"
     ]
    },
    {
     "name": "stdout",
     "output_type": "stream",
     "text": [
      "epoch 247: avg test  loss 843.55, bar  test loss 2.339, len  test loss 0.026, col  test loss 147.697\n"
     ]
    },
    {
     "name": "stderr",
     "output_type": "stream",
     "text": [
      "Epoch 248: 272batch [00:18, 14.46batch/s, loss=965]\n"
     ]
    },
    {
     "name": "stdout",
     "output_type": "stream",
     "text": [
      "epoch 248: avg train loss 808.15, bar train loss 2.117, len train loss 0.024, col train loss 141.352\n"
     ]
    },
    {
     "name": "stderr",
     "output_type": "stream",
     "text": [
      "Epoch 249: 2batch [00:00, 14.18batch/s, loss=828]"
     ]
    },
    {
     "name": "stdout",
     "output_type": "stream",
     "text": [
      "epoch 248: avg test  loss 843.33, bar  test loss 2.337, len  test loss 0.026, col  test loss 147.615\n"
     ]
    },
    {
     "name": "stderr",
     "output_type": "stream",
     "text": [
      "Epoch 249: 272batch [00:18, 14.45batch/s, loss=770]\n"
     ]
    },
    {
     "name": "stdout",
     "output_type": "stream",
     "text": [
      "epoch 249: avg train loss 807.94, bar train loss 2.114, len train loss 0.024, col train loss 141.308\n"
     ]
    },
    {
     "name": "stderr",
     "output_type": "stream",
     "text": [
      "Epoch 250: 2batch [00:00, 14.29batch/s, loss=820]"
     ]
    },
    {
     "name": "stdout",
     "output_type": "stream",
     "text": [
      "epoch 249: avg test  loss 843.14, bar  test loss 2.328, len  test loss 0.026, col  test loss 147.569\n"
     ]
    },
    {
     "name": "stderr",
     "output_type": "stream",
     "text": [
      "Epoch 250: 272batch [00:18, 14.47batch/s, loss=762]\n"
     ]
    },
    {
     "name": "stdout",
     "output_type": "stream",
     "text": [
      "epoch 250: avg train loss 807.77, bar train loss 2.110, len train loss 0.024, col train loss 141.257\n",
      "epoch 250: avg test  loss 843.51, bar  test loss 2.335, len  test loss 0.028, col  test loss 147.518\n"
     ]
    },
    {
     "name": "stderr",
     "output_type": "stream",
     "text": [
      "Epoch 251: 272batch [00:18, 14.33batch/s, loss=807]\n"
     ]
    },
    {
     "name": "stdout",
     "output_type": "stream",
     "text": [
      "epoch 251: avg train loss 807.42, bar train loss 2.108, len train loss 0.024, col train loss 141.181\n"
     ]
    },
    {
     "name": "stderr",
     "output_type": "stream",
     "text": [
      "Epoch 252: 2batch [00:00, 14.29batch/s, loss=774]"
     ]
    },
    {
     "name": "stdout",
     "output_type": "stream",
     "text": [
      "epoch 251: avg test  loss 842.97, bar  test loss 2.327, len  test loss 0.027, col  test loss 147.476\n"
     ]
    },
    {
     "name": "stderr",
     "output_type": "stream",
     "text": [
      "Epoch 252: 272batch [00:18, 14.46batch/s, loss=824]\n"
     ]
    },
    {
     "name": "stdout",
     "output_type": "stream",
     "text": [
      "epoch 252: avg train loss 807.01, bar train loss 2.100, len train loss 0.024, col train loss 141.125\n"
     ]
    },
    {
     "name": "stderr",
     "output_type": "stream",
     "text": [
      "Epoch 253: 2batch [00:00, 14.49batch/s, loss=827]"
     ]
    },
    {
     "name": "stdout",
     "output_type": "stream",
     "text": [
      "epoch 252: avg test  loss 842.85, bar  test loss 2.322, len  test loss 0.026, col  test loss 147.501\n"
     ]
    },
    {
     "name": "stderr",
     "output_type": "stream",
     "text": [
      "Epoch 253: 272batch [00:18, 14.44batch/s, loss=809]\n"
     ]
    },
    {
     "name": "stdout",
     "output_type": "stream",
     "text": [
      "epoch 253: avg train loss 806.83, bar train loss 2.097, len train loss 0.024, col train loss 141.079\n"
     ]
    },
    {
     "name": "stderr",
     "output_type": "stream",
     "text": [
      "Epoch 254: 2batch [00:00, 14.29batch/s, loss=798]"
     ]
    },
    {
     "name": "stdout",
     "output_type": "stream",
     "text": [
      "epoch 253: avg test  loss 842.71, bar  test loss 2.329, len  test loss 0.026, col  test loss 147.479\n"
     ]
    },
    {
     "name": "stderr",
     "output_type": "stream",
     "text": [
      "Epoch 254: 272batch [00:18, 14.46batch/s, loss=822]\n"
     ]
    },
    {
     "name": "stdout",
     "output_type": "stream",
     "text": [
      "epoch 254: avg train loss 806.54, bar train loss 2.097, len train loss 0.023, col train loss 141.033\n"
     ]
    },
    {
     "name": "stderr",
     "output_type": "stream",
     "text": [
      "Epoch 255: 2batch [00:00, 13.89batch/s, loss=794]"
     ]
    },
    {
     "name": "stdout",
     "output_type": "stream",
     "text": [
      "epoch 254: avg test  loss 842.28, bar  test loss 2.318, len  test loss 0.026, col  test loss 147.381\n"
     ]
    },
    {
     "name": "stderr",
     "output_type": "stream",
     "text": [
      "Epoch 255: 272batch [00:18, 14.46batch/s, loss=772]\n"
     ]
    },
    {
     "name": "stdout",
     "output_type": "stream",
     "text": [
      "epoch 255: avg train loss 806.24, bar train loss 2.090, len train loss 0.024, col train loss 140.975\n",
      "epoch 255: avg test  loss 842.26, bar  test loss 2.344, len  test loss 0.027, col  test loss 147.434\n"
     ]
    },
    {
     "name": "stderr",
     "output_type": "stream",
     "text": [
      "Epoch 256: 272batch [00:19, 14.24batch/s, loss=844]\n"
     ]
    },
    {
     "name": "stdout",
     "output_type": "stream",
     "text": [
      "epoch 256: avg train loss 805.86, bar train loss 2.086, len train loss 0.023, col train loss 140.931\n"
     ]
    },
    {
     "name": "stderr",
     "output_type": "stream",
     "text": [
      "Epoch 257: 2batch [00:00, 14.93batch/s, loss=777]"
     ]
    },
    {
     "name": "stdout",
     "output_type": "stream",
     "text": [
      "epoch 256: avg test  loss 842.23, bar  test loss 2.329, len  test loss 0.026, col  test loss 147.390\n"
     ]
    },
    {
     "name": "stderr",
     "output_type": "stream",
     "text": [
      "Epoch 257: 272batch [00:18, 14.46batch/s, loss=754]\n"
     ]
    },
    {
     "name": "stdout",
     "output_type": "stream",
     "text": [
      "epoch 257: avg train loss 805.62, bar train loss 2.085, len train loss 0.023, col train loss 140.839\n"
     ]
    },
    {
     "name": "stderr",
     "output_type": "stream",
     "text": [
      "Epoch 258: 2batch [00:00, 14.60batch/s, loss=792]"
     ]
    },
    {
     "name": "stdout",
     "output_type": "stream",
     "text": [
      "epoch 257: avg test  loss 842.40, bar  test loss 2.315, len  test loss 0.028, col  test loss 147.437\n"
     ]
    },
    {
     "name": "stderr",
     "output_type": "stream",
     "text": [
      "Epoch 258: 272batch [00:18, 14.48batch/s, loss=855]\n"
     ]
    },
    {
     "name": "stdout",
     "output_type": "stream",
     "text": [
      "epoch 258: avg train loss 805.43, bar train loss 2.082, len train loss 0.024, col train loss 140.819\n"
     ]
    },
    {
     "name": "stderr",
     "output_type": "stream",
     "text": [
      "Epoch 259: 2batch [00:00, 14.29batch/s, loss=803]"
     ]
    },
    {
     "name": "stdout",
     "output_type": "stream",
     "text": [
      "epoch 258: avg test  loss 842.11, bar  test loss 2.317, len  test loss 0.026, col  test loss 147.349\n"
     ]
    },
    {
     "name": "stderr",
     "output_type": "stream",
     "text": [
      "Epoch 259: 272batch [00:18, 14.49batch/s, loss=839]\n"
     ]
    },
    {
     "name": "stdout",
     "output_type": "stream",
     "text": [
      "epoch 259: avg train loss 805.20, bar train loss 2.080, len train loss 0.024, col train loss 140.759\n"
     ]
    },
    {
     "name": "stderr",
     "output_type": "stream",
     "text": [
      "Epoch 260: 2batch [00:00, 14.60batch/s, loss=805]"
     ]
    },
    {
     "name": "stdout",
     "output_type": "stream",
     "text": [
      "epoch 259: avg test  loss 842.37, bar  test loss 2.307, len  test loss 0.026, col  test loss 147.401\n"
     ]
    },
    {
     "name": "stderr",
     "output_type": "stream",
     "text": [
      "Epoch 260: 272batch [00:18, 14.45batch/s, loss=791]\n"
     ]
    },
    {
     "name": "stdout",
     "output_type": "stream",
     "text": [
      "epoch 260: avg train loss 804.65, bar train loss 2.073, len train loss 0.023, col train loss 140.664\n",
      "epoch 260: avg test  loss 841.98, bar  test loss 2.299, len  test loss 0.026, col  test loss 147.254\n"
     ]
    },
    {
     "name": "stderr",
     "output_type": "stream",
     "text": [
      "Epoch 261: 272batch [00:19, 14.25batch/s, loss=835]\n"
     ]
    },
    {
     "name": "stdout",
     "output_type": "stream",
     "text": [
      "epoch 261: avg train loss 804.47, bar train loss 2.071, len train loss 0.023, col train loss 140.633\n"
     ]
    },
    {
     "name": "stderr",
     "output_type": "stream",
     "text": [
      "Epoch 262: 2batch [00:00, 14.29batch/s, loss=797]"
     ]
    },
    {
     "name": "stdout",
     "output_type": "stream",
     "text": [
      "epoch 261: avg test  loss 841.97, bar  test loss 2.322, len  test loss 0.027, col  test loss 147.313\n"
     ]
    },
    {
     "name": "stderr",
     "output_type": "stream",
     "text": [
      "Epoch 262: 272batch [00:18, 14.45batch/s, loss=878]\n"
     ]
    },
    {
     "name": "stdout",
     "output_type": "stream",
     "text": [
      "epoch 262: avg train loss 804.10, bar train loss 2.066, len train loss 0.023, col train loss 140.581\n"
     ]
    },
    {
     "name": "stderr",
     "output_type": "stream",
     "text": [
      "Epoch 263: 2batch [00:00, 14.39batch/s, loss=791]"
     ]
    },
    {
     "name": "stdout",
     "output_type": "stream",
     "text": [
      "epoch 262: avg test  loss 842.10, bar  test loss 2.300, len  test loss 0.027, col  test loss 147.352\n"
     ]
    },
    {
     "name": "stderr",
     "output_type": "stream",
     "text": [
      "Epoch 263: 272batch [00:18, 14.43batch/s, loss=846]\n"
     ]
    },
    {
     "name": "stdout",
     "output_type": "stream",
     "text": [
      "epoch 263: avg train loss 803.92, bar train loss 2.066, len train loss 0.023, col train loss 140.523\n"
     ]
    },
    {
     "name": "stderr",
     "output_type": "stream",
     "text": [
      "Epoch 264: 2batch [00:00, 14.49batch/s, loss=836]"
     ]
    },
    {
     "name": "stdout",
     "output_type": "stream",
     "text": [
      "epoch 263: avg test  loss 841.33, bar  test loss 2.322, len  test loss 0.026, col  test loss 147.306\n"
     ]
    },
    {
     "name": "stderr",
     "output_type": "stream",
     "text": [
      "Epoch 264: 272batch [00:18, 14.40batch/s, loss=854]\n"
     ]
    },
    {
     "name": "stdout",
     "output_type": "stream",
     "text": [
      "epoch 264: avg train loss 803.50, bar train loss 2.061, len train loss 0.023, col train loss 140.446\n"
     ]
    },
    {
     "name": "stderr",
     "output_type": "stream",
     "text": [
      "Epoch 265: 2batch [00:00, 14.29batch/s, loss=786]"
     ]
    },
    {
     "name": "stdout",
     "output_type": "stream",
     "text": [
      "epoch 264: avg test  loss 841.82, bar  test loss 2.286, len  test loss 0.026, col  test loss 147.226\n"
     ]
    },
    {
     "name": "stderr",
     "output_type": "stream",
     "text": [
      "Epoch 265: 272batch [00:18, 14.42batch/s, loss=838]\n"
     ]
    },
    {
     "name": "stdout",
     "output_type": "stream",
     "text": [
      "epoch 265: avg train loss 803.33, bar train loss 2.056, len train loss 0.023, col train loss 140.406\n",
      "epoch 265: avg test  loss 841.56, bar  test loss 2.288, len  test loss 0.026, col  test loss 147.174\n"
     ]
    },
    {
     "name": "stderr",
     "output_type": "stream",
     "text": [
      "Epoch 266: 272batch [00:19, 14.22batch/s, loss=862]\n"
     ]
    },
    {
     "name": "stdout",
     "output_type": "stream",
     "text": [
      "epoch 266: avg train loss 803.00, bar train loss 2.051, len train loss 0.023, col train loss 140.357\n"
     ]
    },
    {
     "name": "stderr",
     "output_type": "stream",
     "text": [
      "Epoch 267: 2batch [00:00, 14.49batch/s, loss=801]"
     ]
    },
    {
     "name": "stdout",
     "output_type": "stream",
     "text": [
      "epoch 266: avg test  loss 841.86, bar  test loss 2.286, len  test loss 0.029, col  test loss 147.191\n"
     ]
    },
    {
     "name": "stderr",
     "output_type": "stream",
     "text": [
      "Epoch 267: 272batch [00:18, 14.40batch/s, loss=762]\n"
     ]
    },
    {
     "name": "stdout",
     "output_type": "stream",
     "text": [
      "epoch 267: avg train loss 802.73, bar train loss 2.048, len train loss 0.023, col train loss 140.297\n"
     ]
    },
    {
     "name": "stderr",
     "output_type": "stream",
     "text": [
      "Epoch 268: 2batch [00:00, 14.29batch/s, loss=796]"
     ]
    },
    {
     "name": "stdout",
     "output_type": "stream",
     "text": [
      "epoch 267: avg test  loss 841.25, bar  test loss 2.295, len  test loss 0.025, col  test loss 147.173\n"
     ]
    },
    {
     "name": "stderr",
     "output_type": "stream",
     "text": [
      "Epoch 268: 272batch [00:18, 14.38batch/s, loss=829]\n"
     ]
    },
    {
     "name": "stdout",
     "output_type": "stream",
     "text": [
      "epoch 268: avg train loss 802.53, bar train loss 2.047, len train loss 0.023, col train loss 140.252\n"
     ]
    },
    {
     "name": "stderr",
     "output_type": "stream",
     "text": [
      "Epoch 269: 2batch [00:00, 14.08batch/s, loss=784]"
     ]
    },
    {
     "name": "stdout",
     "output_type": "stream",
     "text": [
      "epoch 268: avg test  loss 841.08, bar  test loss 2.281, len  test loss 0.026, col  test loss 147.117\n"
     ]
    },
    {
     "name": "stderr",
     "output_type": "stream",
     "text": [
      "Epoch 269: 272batch [00:18, 14.42batch/s, loss=794]\n"
     ]
    },
    {
     "name": "stdout",
     "output_type": "stream",
     "text": [
      "epoch 269: avg train loss 802.16, bar train loss 2.043, len train loss 0.023, col train loss 140.195\n"
     ]
    },
    {
     "name": "stderr",
     "output_type": "stream",
     "text": [
      "Epoch 270: 2batch [00:00, 14.29batch/s, loss=795]"
     ]
    },
    {
     "name": "stdout",
     "output_type": "stream",
     "text": [
      "epoch 269: avg test  loss 840.78, bar  test loss 2.283, len  test loss 0.027, col  test loss 147.173\n"
     ]
    },
    {
     "name": "stderr",
     "output_type": "stream",
     "text": [
      "Epoch 270: 272batch [00:18, 14.38batch/s, loss=821]\n"
     ]
    },
    {
     "name": "stdout",
     "output_type": "stream",
     "text": [
      "epoch 270: avg train loss 801.99, bar train loss 2.040, len train loss 0.023, col train loss 140.156\n",
      "epoch 270: avg test  loss 841.02, bar  test loss 2.274, len  test loss 0.025, col  test loss 147.001\n"
     ]
    },
    {
     "name": "stderr",
     "output_type": "stream",
     "text": [
      "Epoch 271: 272batch [00:19, 14.21batch/s, loss=783]\n"
     ]
    },
    {
     "name": "stdout",
     "output_type": "stream",
     "text": [
      "epoch 271: avg train loss 801.48, bar train loss 2.036, len train loss 0.023, col train loss 140.074\n"
     ]
    },
    {
     "name": "stderr",
     "output_type": "stream",
     "text": [
      "Epoch 272: 2batch [00:00, 14.49batch/s, loss=776]"
     ]
    },
    {
     "name": "stdout",
     "output_type": "stream",
     "text": [
      "epoch 271: avg test  loss 840.88, bar  test loss 2.290, len  test loss 0.025, col  test loss 147.098\n"
     ]
    },
    {
     "name": "stderr",
     "output_type": "stream",
     "text": [
      "Epoch 272: 272batch [00:18, 14.41batch/s, loss=820]\n"
     ]
    },
    {
     "name": "stdout",
     "output_type": "stream",
     "text": [
      "epoch 272: avg train loss 801.39, bar train loss 2.032, len train loss 0.023, col train loss 140.041\n"
     ]
    },
    {
     "name": "stderr",
     "output_type": "stream",
     "text": [
      "Epoch 273: 2batch [00:00, 14.39batch/s, loss=824]"
     ]
    },
    {
     "name": "stdout",
     "output_type": "stream",
     "text": [
      "epoch 272: avg test  loss 840.63, bar  test loss 2.270, len  test loss 0.027, col  test loss 147.049\n"
     ]
    },
    {
     "name": "stderr",
     "output_type": "stream",
     "text": [
      "Epoch 273: 272batch [00:18, 14.41batch/s, loss=873]\n"
     ]
    },
    {
     "name": "stdout",
     "output_type": "stream",
     "text": [
      "epoch 273: avg train loss 801.03, bar train loss 2.033, len train loss 0.023, col train loss 139.965\n"
     ]
    },
    {
     "name": "stderr",
     "output_type": "stream",
     "text": [
      "Epoch 274: 2batch [00:00, 14.60batch/s, loss=807]"
     ]
    },
    {
     "name": "stdout",
     "output_type": "stream",
     "text": [
      "epoch 273: avg test  loss 839.92, bar  test loss 2.269, len  test loss 0.025, col  test loss 147.022\n"
     ]
    },
    {
     "name": "stderr",
     "output_type": "stream",
     "text": [
      "Epoch 274: 272batch [00:18, 14.42batch/s, loss=795]\n"
     ]
    },
    {
     "name": "stdout",
     "output_type": "stream",
     "text": [
      "epoch 274: avg train loss 800.71, bar train loss 2.026, len train loss 0.023, col train loss 139.908\n"
     ]
    },
    {
     "name": "stderr",
     "output_type": "stream",
     "text": [
      "Epoch 275: 2batch [00:00, 14.18batch/s, loss=826]"
     ]
    },
    {
     "name": "stdout",
     "output_type": "stream",
     "text": [
      "epoch 274: avg test  loss 839.92, bar  test loss 2.290, len  test loss 0.026, col  test loss 147.060\n"
     ]
    },
    {
     "name": "stderr",
     "output_type": "stream",
     "text": [
      "Epoch 275: 272batch [00:18, 14.41batch/s, loss=887]\n"
     ]
    },
    {
     "name": "stdout",
     "output_type": "stream",
     "text": [
      "epoch 275: avg train loss 800.55, bar train loss 2.025, len train loss 0.023, col train loss 139.884\n",
      "epoch 275: avg test  loss 840.35, bar  test loss 2.268, len  test loss 0.026, col  test loss 146.947\n"
     ]
    },
    {
     "name": "stderr",
     "output_type": "stream",
     "text": [
      "Epoch 276: 272batch [00:19, 14.19batch/s, loss=835]\n"
     ]
    },
    {
     "name": "stdout",
     "output_type": "stream",
     "text": [
      "epoch 276: avg train loss 800.36, bar train loss 2.022, len train loss 0.023, col train loss 139.847\n"
     ]
    },
    {
     "name": "stderr",
     "output_type": "stream",
     "text": [
      "Epoch 277: 2batch [00:00, 14.29batch/s, loss=800]"
     ]
    },
    {
     "name": "stdout",
     "output_type": "stream",
     "text": [
      "epoch 276: avg test  loss 840.21, bar  test loss 2.246, len  test loss 0.025, col  test loss 146.898\n"
     ]
    },
    {
     "name": "stderr",
     "output_type": "stream",
     "text": [
      "Epoch 277: 272batch [00:18, 14.40batch/s, loss=825]\n"
     ]
    },
    {
     "name": "stdout",
     "output_type": "stream",
     "text": [
      "epoch 277: avg train loss 800.05, bar train loss 2.018, len train loss 0.023, col train loss 139.794\n"
     ]
    },
    {
     "name": "stderr",
     "output_type": "stream",
     "text": [
      "Epoch 278: 2batch [00:00, 14.18batch/s, loss=790]"
     ]
    },
    {
     "name": "stdout",
     "output_type": "stream",
     "text": [
      "epoch 277: avg test  loss 840.57, bar  test loss 2.269, len  test loss 0.026, col  test loss 146.913\n"
     ]
    },
    {
     "name": "stderr",
     "output_type": "stream",
     "text": [
      "Epoch 278: 272batch [00:18, 14.40batch/s, loss=800]\n"
     ]
    },
    {
     "name": "stdout",
     "output_type": "stream",
     "text": [
      "epoch 278: avg train loss 799.70, bar train loss 2.014, len train loss 0.023, col train loss 139.720\n"
     ]
    },
    {
     "name": "stderr",
     "output_type": "stream",
     "text": [
      "Epoch 279: 2batch [00:00, 14.18batch/s, loss=830]"
     ]
    },
    {
     "name": "stdout",
     "output_type": "stream",
     "text": [
      "epoch 278: avg test  loss 840.15, bar  test loss 2.267, len  test loss 0.027, col  test loss 146.842\n"
     ]
    },
    {
     "name": "stderr",
     "output_type": "stream",
     "text": [
      "Epoch 279: 272batch [00:18, 14.39batch/s, loss=802]\n"
     ]
    },
    {
     "name": "stdout",
     "output_type": "stream",
     "text": [
      "epoch 279: avg train loss 799.53, bar train loss 2.013, len train loss 0.023, col train loss 139.681\n"
     ]
    },
    {
     "name": "stderr",
     "output_type": "stream",
     "text": [
      "Epoch 280: 2batch [00:00, 13.79batch/s, loss=816]"
     ]
    },
    {
     "name": "stdout",
     "output_type": "stream",
     "text": [
      "epoch 279: avg test  loss 839.84, bar  test loss 2.261, len  test loss 0.025, col  test loss 146.960\n"
     ]
    },
    {
     "name": "stderr",
     "output_type": "stream",
     "text": [
      "Epoch 280: 272batch [00:18, 14.35batch/s, loss=795]\n"
     ]
    },
    {
     "name": "stdout",
     "output_type": "stream",
     "text": [
      "epoch 280: avg train loss 799.12, bar train loss 2.008, len train loss 0.023, col train loss 139.611\n",
      "epoch 280: avg test  loss 840.36, bar  test loss 2.239, len  test loss 0.026, col  test loss 146.866\n"
     ]
    },
    {
     "name": "stderr",
     "output_type": "stream",
     "text": [
      "Epoch 281: 272batch [00:19, 14.18batch/s, loss=763]\n"
     ]
    },
    {
     "name": "stdout",
     "output_type": "stream",
     "text": [
      "epoch 281: avg train loss 798.98, bar train loss 2.004, len train loss 0.023, col train loss 139.562\n"
     ]
    },
    {
     "name": "stderr",
     "output_type": "stream",
     "text": [
      "Epoch 282: 2batch [00:00, 14.18batch/s, loss=783]"
     ]
    },
    {
     "name": "stdout",
     "output_type": "stream",
     "text": [
      "epoch 281: avg test  loss 839.80, bar  test loss 2.266, len  test loss 0.025, col  test loss 146.835\n"
     ]
    },
    {
     "name": "stderr",
     "output_type": "stream",
     "text": [
      "Epoch 282: 272batch [00:18, 14.36batch/s, loss=765]\n"
     ]
    },
    {
     "name": "stdout",
     "output_type": "stream",
     "text": [
      "epoch 282: avg train loss 798.42, bar train loss 2.003, len train loss 0.023, col train loss 139.479\n"
     ]
    },
    {
     "name": "stderr",
     "output_type": "stream",
     "text": [
      "Epoch 283: 2batch [00:00, 14.29batch/s, loss=793]"
     ]
    },
    {
     "name": "stdout",
     "output_type": "stream",
     "text": [
      "epoch 282: avg test  loss 840.33, bar  test loss 2.260, len  test loss 0.025, col  test loss 146.822\n"
     ]
    },
    {
     "name": "stderr",
     "output_type": "stream",
     "text": [
      "Epoch 283: 272batch [00:18, 14.39batch/s, loss=776]\n"
     ]
    },
    {
     "name": "stdout",
     "output_type": "stream",
     "text": [
      "epoch 283: avg train loss 798.29, bar train loss 1.999, len train loss 0.023, col train loss 139.447\n"
     ]
    },
    {
     "name": "stderr",
     "output_type": "stream",
     "text": [
      "Epoch 284: 2batch [00:00, 13.99batch/s, loss=787]"
     ]
    },
    {
     "name": "stdout",
     "output_type": "stream",
     "text": [
      "epoch 283: avg test  loss 839.44, bar  test loss 2.270, len  test loss 0.026, col  test loss 146.833\n"
     ]
    },
    {
     "name": "stderr",
     "output_type": "stream",
     "text": [
      "Epoch 284: 272batch [00:18, 14.37batch/s, loss=788]\n"
     ]
    },
    {
     "name": "stdout",
     "output_type": "stream",
     "text": [
      "epoch 284: avg train loss 798.04, bar train loss 1.995, len train loss 0.023, col train loss 139.399\n"
     ]
    },
    {
     "name": "stderr",
     "output_type": "stream",
     "text": [
      "Epoch 285: 2batch [00:00, 14.39batch/s, loss=776]"
     ]
    },
    {
     "name": "stdout",
     "output_type": "stream",
     "text": [
      "epoch 284: avg test  loss 840.38, bar  test loss 2.270, len  test loss 0.034, col  test loss 146.895\n"
     ]
    },
    {
     "name": "stderr",
     "output_type": "stream",
     "text": [
      "Epoch 285: 272batch [00:18, 14.36batch/s, loss=751]\n"
     ]
    },
    {
     "name": "stdout",
     "output_type": "stream",
     "text": [
      "epoch 285: avg train loss 797.93, bar train loss 1.995, len train loss 0.023, col train loss 139.386\n",
      "epoch 285: avg test  loss 839.95, bar  test loss 2.252, len  test loss 0.025, col  test loss 146.806\n"
     ]
    },
    {
     "name": "stderr",
     "output_type": "stream",
     "text": [
      "Epoch 286: 272batch [00:19, 14.13batch/s, loss=878]\n"
     ]
    },
    {
     "name": "stdout",
     "output_type": "stream",
     "text": [
      "epoch 286: avg train loss 797.48, bar train loss 1.991, len train loss 0.023, col train loss 139.291\n"
     ]
    },
    {
     "name": "stderr",
     "output_type": "stream",
     "text": [
      "Epoch 287: 2batch [00:00, 14.29batch/s, loss=776]"
     ]
    },
    {
     "name": "stdout",
     "output_type": "stream",
     "text": [
      "epoch 286: avg test  loss 839.93, bar  test loss 2.263, len  test loss 0.026, col  test loss 146.832\n"
     ]
    },
    {
     "name": "stderr",
     "output_type": "stream",
     "text": [
      "Epoch 287: 272batch [00:18, 14.38batch/s, loss=807]\n"
     ]
    },
    {
     "name": "stdout",
     "output_type": "stream",
     "text": [
      "epoch 287: avg train loss 797.14, bar train loss 1.986, len train loss 0.022, col train loss 139.246\n"
     ]
    },
    {
     "name": "stderr",
     "output_type": "stream",
     "text": [
      "Epoch 288: 2batch [00:00, 13.99batch/s, loss=801]"
     ]
    },
    {
     "name": "stdout",
     "output_type": "stream",
     "text": [
      "epoch 287: avg test  loss 839.58, bar  test loss 2.243, len  test loss 0.026, col  test loss 146.743\n"
     ]
    },
    {
     "name": "stderr",
     "output_type": "stream",
     "text": [
      "Epoch 288: 272batch [00:18, 14.36batch/s, loss=836]\n"
     ]
    },
    {
     "name": "stdout",
     "output_type": "stream",
     "text": [
      "epoch 288: avg train loss 797.08, bar train loss 1.986, len train loss 0.023, col train loss 139.191\n"
     ]
    },
    {
     "name": "stderr",
     "output_type": "stream",
     "text": [
      "Epoch 289: 2batch [00:00, 14.39batch/s, loss=802]"
     ]
    },
    {
     "name": "stdout",
     "output_type": "stream",
     "text": [
      "epoch 288: avg test  loss 839.20, bar  test loss 2.246, len  test loss 0.026, col  test loss 146.774\n"
     ]
    },
    {
     "name": "stderr",
     "output_type": "stream",
     "text": [
      "Epoch 289: 272batch [00:18, 14.37batch/s, loss=811]\n"
     ]
    },
    {
     "name": "stdout",
     "output_type": "stream",
     "text": [
      "epoch 289: avg train loss 796.91, bar train loss 1.981, len train loss 0.023, col train loss 139.171\n"
     ]
    },
    {
     "name": "stderr",
     "output_type": "stream",
     "text": [
      "Epoch 290: 2batch [00:00, 14.39batch/s, loss=801]"
     ]
    },
    {
     "name": "stdout",
     "output_type": "stream",
     "text": [
      "epoch 289: avg test  loss 839.26, bar  test loss 2.229, len  test loss 0.026, col  test loss 146.650\n"
     ]
    },
    {
     "name": "stderr",
     "output_type": "stream",
     "text": [
      "Epoch 290: 272batch [00:18, 14.36batch/s, loss=777]\n"
     ]
    },
    {
     "name": "stdout",
     "output_type": "stream",
     "text": [
      "epoch 290: avg train loss 796.57, bar train loss 1.979, len train loss 0.023, col train loss 139.112\n",
      "epoch 290: avg test  loss 838.94, bar  test loss 2.243, len  test loss 0.026, col  test loss 146.749\n"
     ]
    },
    {
     "name": "stderr",
     "output_type": "stream",
     "text": [
      "Epoch 291: 272batch [00:19, 14.05batch/s, loss=860]\n"
     ]
    },
    {
     "name": "stdout",
     "output_type": "stream",
     "text": [
      "epoch 291: avg train loss 796.43, bar train loss 1.979, len train loss 0.023, col train loss 139.062\n"
     ]
    },
    {
     "name": "stderr",
     "output_type": "stream",
     "text": [
      "Epoch 292: 2batch [00:00, 14.08batch/s, loss=746]"
     ]
    },
    {
     "name": "stdout",
     "output_type": "stream",
     "text": [
      "epoch 291: avg test  loss 839.03, bar  test loss 2.242, len  test loss 0.025, col  test loss 146.698\n"
     ]
    },
    {
     "name": "stderr",
     "output_type": "stream",
     "text": [
      "Epoch 292: 272batch [00:18, 14.34batch/s, loss=855]\n"
     ]
    },
    {
     "name": "stdout",
     "output_type": "stream",
     "text": [
      "epoch 292: avg train loss 796.14, bar train loss 1.975, len train loss 0.023, col train loss 139.015\n"
     ]
    },
    {
     "name": "stderr",
     "output_type": "stream",
     "text": [
      "Epoch 293: 2batch [00:00, 13.89batch/s, loss=782]"
     ]
    },
    {
     "name": "stdout",
     "output_type": "stream",
     "text": [
      "epoch 292: avg test  loss 839.12, bar  test loss 2.241, len  test loss 0.028, col  test loss 146.666\n"
     ]
    },
    {
     "name": "stderr",
     "output_type": "stream",
     "text": [
      "Epoch 293: 272batch [00:18, 14.39batch/s, loss=852]\n"
     ]
    },
    {
     "name": "stdout",
     "output_type": "stream",
     "text": [
      "epoch 293: avg train loss 795.94, bar train loss 1.967, len train loss 0.023, col train loss 138.988\n"
     ]
    },
    {
     "name": "stderr",
     "output_type": "stream",
     "text": [
      "Epoch 294: 2batch [00:00, 14.29batch/s, loss=798]"
     ]
    },
    {
     "name": "stdout",
     "output_type": "stream",
     "text": [
      "epoch 293: avg test  loss 839.00, bar  test loss 2.229, len  test loss 0.026, col  test loss 146.585\n"
     ]
    },
    {
     "name": "stderr",
     "output_type": "stream",
     "text": [
      "Epoch 294: 272batch [00:18, 14.34batch/s, loss=846]\n"
     ]
    },
    {
     "name": "stdout",
     "output_type": "stream",
     "text": [
      "epoch 294: avg train loss 795.59, bar train loss 1.968, len train loss 0.023, col train loss 138.905\n"
     ]
    },
    {
     "name": "stderr",
     "output_type": "stream",
     "text": [
      "Epoch 295: 2batch [00:00, 14.29batch/s, loss=779]"
     ]
    },
    {
     "name": "stdout",
     "output_type": "stream",
     "text": [
      "epoch 294: avg test  loss 838.98, bar  test loss 2.226, len  test loss 0.025, col  test loss 146.608\n"
     ]
    },
    {
     "name": "stderr",
     "output_type": "stream",
     "text": [
      "Epoch 295: 272batch [00:19, 14.28batch/s, loss=842]\n"
     ]
    },
    {
     "name": "stdout",
     "output_type": "stream",
     "text": [
      "epoch 295: avg train loss 795.36, bar train loss 1.966, len train loss 0.023, col train loss 138.861\n",
      "epoch 295: avg test  loss 839.12, bar  test loss 2.219, len  test loss 0.027, col  test loss 146.589\n"
     ]
    },
    {
     "name": "stderr",
     "output_type": "stream",
     "text": [
      "Epoch 296: 272batch [00:19, 13.90batch/s, loss=764]\n"
     ]
    },
    {
     "name": "stdout",
     "output_type": "stream",
     "text": [
      "epoch 296: avg train loss 795.15, bar train loss 1.966, len train loss 0.023, col train loss 138.805\n"
     ]
    },
    {
     "name": "stderr",
     "output_type": "stream",
     "text": [
      "Epoch 297: 2batch [00:00, 14.29batch/s, loss=781]"
     ]
    },
    {
     "name": "stdout",
     "output_type": "stream",
     "text": [
      "epoch 296: avg test  loss 838.77, bar  test loss 2.243, len  test loss 0.026, col  test loss 146.676\n"
     ]
    },
    {
     "name": "stderr",
     "output_type": "stream",
     "text": [
      "Epoch 297: 272batch [00:18, 14.33batch/s, loss=801]\n"
     ]
    },
    {
     "name": "stdout",
     "output_type": "stream",
     "text": [
      "epoch 297: avg train loss 794.87, bar train loss 1.960, len train loss 0.023, col train loss 138.773\n"
     ]
    },
    {
     "name": "stderr",
     "output_type": "stream",
     "text": [
      "Epoch 298: 2batch [00:00, 14.18batch/s, loss=830]"
     ]
    },
    {
     "name": "stdout",
     "output_type": "stream",
     "text": [
      "epoch 297: avg test  loss 839.50, bar  test loss 2.217, len  test loss 0.028, col  test loss 146.535\n"
     ]
    },
    {
     "name": "stderr",
     "output_type": "stream",
     "text": [
      "Epoch 298: 272batch [00:18, 14.35batch/s, loss=811]\n"
     ]
    },
    {
     "name": "stdout",
     "output_type": "stream",
     "text": [
      "epoch 298: avg train loss 794.62, bar train loss 1.961, len train loss 0.023, col train loss 138.707\n"
     ]
    },
    {
     "name": "stderr",
     "output_type": "stream",
     "text": [
      "Epoch 299: 2batch [00:00, 13.99batch/s, loss=803]"
     ]
    },
    {
     "name": "stdout",
     "output_type": "stream",
     "text": [
      "epoch 298: avg test  loss 838.78, bar  test loss 2.241, len  test loss 0.025, col  test loss 146.691\n"
     ]
    },
    {
     "name": "stderr",
     "output_type": "stream",
     "text": [
      "Epoch 299: 272batch [00:18, 14.32batch/s, loss=771]\n"
     ]
    },
    {
     "name": "stdout",
     "output_type": "stream",
     "text": [
      "epoch 299: avg train loss 794.53, bar train loss 1.957, len train loss 0.022, col train loss 138.709\n"
     ]
    },
    {
     "name": "stderr",
     "output_type": "stream",
     "text": [
      "Epoch 300: 2batch [00:00, 13.79batch/s, loss=777]"
     ]
    },
    {
     "name": "stdout",
     "output_type": "stream",
     "text": [
      "epoch 299: avg test  loss 838.68, bar  test loss 2.235, len  test loss 0.025, col  test loss 146.542\n"
     ]
    },
    {
     "name": "stderr",
     "output_type": "stream",
     "text": [
      "Epoch 300: 272batch [00:18, 14.32batch/s, loss=761]\n"
     ]
    },
    {
     "name": "stdout",
     "output_type": "stream",
     "text": [
      "epoch 300: avg train loss 794.14, bar train loss 1.954, len train loss 0.023, col train loss 138.615\n",
      "epoch 300: avg test  loss 838.33, bar  test loss 2.214, len  test loss 0.025, col  test loss 146.534\n"
     ]
    },
    {
     "name": "stderr",
     "output_type": "stream",
     "text": [
      "Epoch 301: 272batch [00:19, 14.17batch/s, loss=817]\n"
     ]
    },
    {
     "name": "stdout",
     "output_type": "stream",
     "text": [
      "epoch 301: avg train loss 793.79, bar train loss 1.951, len train loss 0.023, col train loss 138.549\n"
     ]
    },
    {
     "name": "stderr",
     "output_type": "stream",
     "text": [
      "Epoch 302: 2batch [00:00, 14.39batch/s, loss=795]"
     ]
    },
    {
     "name": "stdout",
     "output_type": "stream",
     "text": [
      "epoch 301: avg test  loss 838.34, bar  test loss 2.232, len  test loss 0.025, col  test loss 146.556\n"
     ]
    },
    {
     "name": "stderr",
     "output_type": "stream",
     "text": [
      "Epoch 302: 272batch [00:18, 14.33batch/s, loss=799]\n"
     ]
    },
    {
     "name": "stdout",
     "output_type": "stream",
     "text": [
      "epoch 302: avg train loss 793.64, bar train loss 1.949, len train loss 0.022, col train loss 138.510\n"
     ]
    },
    {
     "name": "stderr",
     "output_type": "stream",
     "text": [
      "Epoch 303: 2batch [00:00, 14.49batch/s, loss=773]"
     ]
    },
    {
     "name": "stdout",
     "output_type": "stream",
     "text": [
      "epoch 302: avg test  loss 838.35, bar  test loss 2.229, len  test loss 0.026, col  test loss 146.566\n"
     ]
    },
    {
     "name": "stderr",
     "output_type": "stream",
     "text": [
      "Epoch 303: 272batch [00:18, 14.36batch/s, loss=782]\n"
     ]
    },
    {
     "name": "stdout",
     "output_type": "stream",
     "text": [
      "epoch 303: avg train loss 793.51, bar train loss 1.949, len train loss 0.022, col train loss 138.481\n"
     ]
    },
    {
     "name": "stderr",
     "output_type": "stream",
     "text": [
      "Epoch 304: 2batch [00:00, 14.39batch/s, loss=783]"
     ]
    },
    {
     "name": "stdout",
     "output_type": "stream",
     "text": [
      "epoch 303: avg test  loss 837.83, bar  test loss 2.227, len  test loss 0.026, col  test loss 146.526\n"
     ]
    },
    {
     "name": "stderr",
     "output_type": "stream",
     "text": [
      "Epoch 304: 272batch [00:19, 14.29batch/s, loss=833]\n"
     ]
    },
    {
     "name": "stdout",
     "output_type": "stream",
     "text": [
      "epoch 304: avg train loss 793.32, bar train loss 1.947, len train loss 0.022, col train loss 138.441\n"
     ]
    },
    {
     "name": "stderr",
     "output_type": "stream",
     "text": [
      "Epoch 305: 2batch [00:00, 14.39batch/s, loss=770]"
     ]
    },
    {
     "name": "stdout",
     "output_type": "stream",
     "text": [
      "epoch 304: avg test  loss 838.90, bar  test loss 2.226, len  test loss 0.027, col  test loss 146.389\n"
     ]
    },
    {
     "name": "stderr",
     "output_type": "stream",
     "text": [
      "Epoch 305: 272batch [00:18, 14.32batch/s, loss=829]\n"
     ]
    },
    {
     "name": "stdout",
     "output_type": "stream",
     "text": [
      "epoch 305: avg train loss 793.11, bar train loss 1.942, len train loss 0.023, col train loss 138.395\n",
      "epoch 305: avg test  loss 838.11, bar  test loss 2.214, len  test loss 0.027, col  test loss 146.439\n"
     ]
    },
    {
     "name": "stderr",
     "output_type": "stream",
     "text": [
      "Epoch 306: 272batch [00:19, 14.09batch/s, loss=798]\n"
     ]
    },
    {
     "name": "stdout",
     "output_type": "stream",
     "text": [
      "epoch 306: avg train loss 792.70, bar train loss 1.938, len train loss 0.023, col train loss 138.306\n"
     ]
    },
    {
     "name": "stderr",
     "output_type": "stream",
     "text": [
      "Epoch 307: 2batch [00:00, 14.08batch/s, loss=798]"
     ]
    },
    {
     "name": "stdout",
     "output_type": "stream",
     "text": [
      "epoch 306: avg test  loss 838.25, bar  test loss 2.217, len  test loss 0.025, col  test loss 146.491\n"
     ]
    },
    {
     "name": "stderr",
     "output_type": "stream",
     "text": [
      "Epoch 307: 272batch [00:18, 14.35batch/s, loss=854]\n"
     ]
    },
    {
     "name": "stdout",
     "output_type": "stream",
     "text": [
      "epoch 307: avg train loss 792.43, bar train loss 1.937, len train loss 0.022, col train loss 138.273\n"
     ]
    },
    {
     "name": "stderr",
     "output_type": "stream",
     "text": [
      "Epoch 308: 2batch [00:00, 14.49batch/s, loss=831]"
     ]
    },
    {
     "name": "stdout",
     "output_type": "stream",
     "text": [
      "epoch 307: avg test  loss 838.10, bar  test loss 2.209, len  test loss 0.027, col  test loss 146.419\n"
     ]
    },
    {
     "name": "stderr",
     "output_type": "stream",
     "text": [
      "Epoch 308: 272batch [00:19, 14.29batch/s, loss=749]\n"
     ]
    },
    {
     "name": "stdout",
     "output_type": "stream",
     "text": [
      "epoch 308: avg train loss 792.35, bar train loss 1.935, len train loss 0.023, col train loss 138.239\n"
     ]
    },
    {
     "name": "stderr",
     "output_type": "stream",
     "text": [
      "Epoch 309: 2batch [00:00, 14.18batch/s, loss=804]"
     ]
    },
    {
     "name": "stdout",
     "output_type": "stream",
     "text": [
      "epoch 308: avg test  loss 838.18, bar  test loss 2.212, len  test loss 0.025, col  test loss 146.382\n"
     ]
    },
    {
     "name": "stderr",
     "output_type": "stream",
     "text": [
      "Epoch 309: 272batch [00:19, 14.29batch/s, loss=753]\n"
     ]
    },
    {
     "name": "stdout",
     "output_type": "stream",
     "text": [
      "epoch 309: avg train loss 792.15, bar train loss 1.932, len train loss 0.023, col train loss 138.205\n"
     ]
    },
    {
     "name": "stderr",
     "output_type": "stream",
     "text": [
      "Epoch 310: 2batch [00:00, 14.18batch/s, loss=785]"
     ]
    },
    {
     "name": "stdout",
     "output_type": "stream",
     "text": [
      "epoch 309: avg test  loss 837.82, bar  test loss 2.215, len  test loss 0.025, col  test loss 146.417\n"
     ]
    },
    {
     "name": "stderr",
     "output_type": "stream",
     "text": [
      "Epoch 310: 272batch [00:19, 14.28batch/s, loss=799]\n"
     ]
    },
    {
     "name": "stdout",
     "output_type": "stream",
     "text": [
      "epoch 310: avg train loss 791.91, bar train loss 1.932, len train loss 0.022, col train loss 138.157\n",
      "epoch 310: avg test  loss 838.33, bar  test loss 2.211, len  test loss 0.030, col  test loss 146.431\n"
     ]
    },
    {
     "name": "stderr",
     "output_type": "stream",
     "text": [
      "Epoch 311: 272batch [00:19, 14.09batch/s, loss=692]\n"
     ]
    },
    {
     "name": "stdout",
     "output_type": "stream",
     "text": [
      "epoch 311: avg train loss 791.54, bar train loss 1.928, len train loss 0.022, col train loss 138.080\n"
     ]
    },
    {
     "name": "stderr",
     "output_type": "stream",
     "text": [
      "Epoch 312: 2batch [00:00, 14.39batch/s, loss=765]"
     ]
    },
    {
     "name": "stdout",
     "output_type": "stream",
     "text": [
      "epoch 311: avg test  loss 837.83, bar  test loss 2.206, len  test loss 0.025, col  test loss 146.365\n"
     ]
    },
    {
     "name": "stderr",
     "output_type": "stream",
     "text": [
      "Epoch 312: 272batch [00:18, 14.32batch/s, loss=803]\n"
     ]
    },
    {
     "name": "stdout",
     "output_type": "stream",
     "text": [
      "epoch 312: avg train loss 791.36, bar train loss 1.921, len train loss 0.022, col train loss 138.065\n"
     ]
    },
    {
     "name": "stderr",
     "output_type": "stream",
     "text": [
      "Epoch 313: 2batch [00:00, 13.89batch/s, loss=767]"
     ]
    },
    {
     "name": "stdout",
     "output_type": "stream",
     "text": [
      "epoch 312: avg test  loss 837.73, bar  test loss 2.196, len  test loss 0.025, col  test loss 146.370\n"
     ]
    },
    {
     "name": "stderr",
     "output_type": "stream",
     "text": [
      "Epoch 313: 272batch [00:18, 14.32batch/s, loss=789]\n"
     ]
    },
    {
     "name": "stdout",
     "output_type": "stream",
     "text": [
      "epoch 313: avg train loss 791.14, bar train loss 1.923, len train loss 0.022, col train loss 137.993\n"
     ]
    },
    {
     "name": "stderr",
     "output_type": "stream",
     "text": [
      "Epoch 314: 2batch [00:00, 13.99batch/s, loss=767]"
     ]
    },
    {
     "name": "stdout",
     "output_type": "stream",
     "text": [
      "epoch 313: avg test  loss 838.04, bar  test loss 2.205, len  test loss 0.029, col  test loss 146.337\n"
     ]
    },
    {
     "name": "stderr",
     "output_type": "stream",
     "text": [
      "Epoch 314: 272batch [00:19, 14.31batch/s, loss=745]\n"
     ]
    },
    {
     "name": "stdout",
     "output_type": "stream",
     "text": [
      "epoch 314: avg train loss 790.96, bar train loss 1.923, len train loss 0.022, col train loss 137.953\n"
     ]
    },
    {
     "name": "stderr",
     "output_type": "stream",
     "text": [
      "Epoch 315: 2batch [00:00, 13.89batch/s, loss=793]"
     ]
    },
    {
     "name": "stdout",
     "output_type": "stream",
     "text": [
      "epoch 314: avg test  loss 837.58, bar  test loss 2.205, len  test loss 0.026, col  test loss 146.381\n"
     ]
    },
    {
     "name": "stderr",
     "output_type": "stream",
     "text": [
      "Epoch 315: 272batch [00:18, 14.32batch/s, loss=757]\n"
     ]
    },
    {
     "name": "stdout",
     "output_type": "stream",
     "text": [
      "epoch 315: avg train loss 790.61, bar train loss 1.919, len train loss 0.022, col train loss 137.905\n",
      "epoch 315: avg test  loss 838.24, bar  test loss 2.202, len  test loss 0.026, col  test loss 146.294\n"
     ]
    },
    {
     "name": "stderr",
     "output_type": "stream",
     "text": [
      "Epoch 316: 272batch [00:19, 14.09batch/s, loss=783]\n"
     ]
    },
    {
     "name": "stdout",
     "output_type": "stream",
     "text": [
      "epoch 316: avg train loss 790.44, bar train loss 1.918, len train loss 0.022, col train loss 137.853\n"
     ]
    },
    {
     "name": "stderr",
     "output_type": "stream",
     "text": [
      "Epoch 317: 2batch [00:00, 13.25batch/s, loss=764]"
     ]
    },
    {
     "name": "stdout",
     "output_type": "stream",
     "text": [
      "epoch 316: avg test  loss 837.81, bar  test loss 2.206, len  test loss 0.026, col  test loss 146.308\n"
     ]
    },
    {
     "name": "stderr",
     "output_type": "stream",
     "text": [
      "Epoch 317: 272batch [00:19, 14.28batch/s, loss=795]\n"
     ]
    },
    {
     "name": "stdout",
     "output_type": "stream",
     "text": [
      "epoch 317: avg train loss 790.24, bar train loss 1.917, len train loss 0.022, col train loss 137.804\n"
     ]
    },
    {
     "name": "stderr",
     "output_type": "stream",
     "text": [
      "Epoch 318: 2batch [00:00, 14.49batch/s, loss=786]"
     ]
    },
    {
     "name": "stdout",
     "output_type": "stream",
     "text": [
      "epoch 317: avg test  loss 837.62, bar  test loss 2.201, len  test loss 0.027, col  test loss 146.260\n"
     ]
    },
    {
     "name": "stderr",
     "output_type": "stream",
     "text": [
      "Epoch 318: 272batch [00:18, 14.34batch/s, loss=843]\n"
     ]
    },
    {
     "name": "stdout",
     "output_type": "stream",
     "text": [
      "epoch 318: avg train loss 790.12, bar train loss 1.917, len train loss 0.023, col train loss 137.773\n"
     ]
    },
    {
     "name": "stderr",
     "output_type": "stream",
     "text": [
      "Epoch 319: 2batch [00:00, 14.39batch/s, loss=790]"
     ]
    },
    {
     "name": "stdout",
     "output_type": "stream",
     "text": [
      "epoch 318: avg test  loss 837.61, bar  test loss 2.205, len  test loss 0.026, col  test loss 146.258\n"
     ]
    },
    {
     "name": "stderr",
     "output_type": "stream",
     "text": [
      "Epoch 319: 272batch [00:18, 14.33batch/s, loss=832]\n"
     ]
    },
    {
     "name": "stdout",
     "output_type": "stream",
     "text": [
      "epoch 319: avg train loss 789.93, bar train loss 1.914, len train loss 0.022, col train loss 137.743\n"
     ]
    },
    {
     "name": "stderr",
     "output_type": "stream",
     "text": [
      "Epoch 320: 2batch [00:00, 14.29batch/s, loss=762]"
     ]
    },
    {
     "name": "stdout",
     "output_type": "stream",
     "text": [
      "epoch 319: avg test  loss 837.92, bar  test loss 2.187, len  test loss 0.026, col  test loss 146.298\n"
     ]
    },
    {
     "name": "stderr",
     "output_type": "stream",
     "text": [
      "Epoch 320: 272batch [00:19, 14.30batch/s, loss=750]\n"
     ]
    },
    {
     "name": "stdout",
     "output_type": "stream",
     "text": [
      "epoch 320: avg train loss 789.53, bar train loss 1.909, len train loss 0.023, col train loss 137.658\n",
      "epoch 320: avg test  loss 837.43, bar  test loss 2.197, len  test loss 0.027, col  test loss 146.192\n"
     ]
    },
    {
     "name": "stderr",
     "output_type": "stream",
     "text": [
      "Epoch 321: 272batch [00:20, 13.55batch/s, loss=757]\n"
     ]
    },
    {
     "name": "stdout",
     "output_type": "stream",
     "text": [
      "epoch 321: avg train loss 789.44, bar train loss 1.907, len train loss 0.022, col train loss 137.617\n"
     ]
    },
    {
     "name": "stderr",
     "output_type": "stream",
     "text": [
      "Epoch 322: 2batch [00:00, 14.29batch/s, loss=811]"
     ]
    },
    {
     "name": "stdout",
     "output_type": "stream",
     "text": [
      "epoch 321: avg test  loss 837.55, bar  test loss 2.213, len  test loss 0.027, col  test loss 146.340\n"
     ]
    },
    {
     "name": "stderr",
     "output_type": "stream",
     "text": [
      "Epoch 322: 272batch [00:19, 14.27batch/s, loss=881]\n"
     ]
    },
    {
     "name": "stdout",
     "output_type": "stream",
     "text": [
      "epoch 322: avg train loss 789.17, bar train loss 1.908, len train loss 0.022, col train loss 137.567\n"
     ]
    },
    {
     "name": "stderr",
     "output_type": "stream",
     "text": [
      "Epoch 323: 2batch [00:00, 14.18batch/s, loss=809]"
     ]
    },
    {
     "name": "stdout",
     "output_type": "stream",
     "text": [
      "epoch 322: avg test  loss 837.69, bar  test loss 2.204, len  test loss 0.026, col  test loss 146.257\n"
     ]
    },
    {
     "name": "stderr",
     "output_type": "stream",
     "text": [
      "Epoch 323: 272batch [00:19, 14.28batch/s, loss=807]\n"
     ]
    },
    {
     "name": "stdout",
     "output_type": "stream",
     "text": [
      "epoch 323: avg train loss 789.11, bar train loss 1.903, len train loss 0.022, col train loss 137.565\n"
     ]
    },
    {
     "name": "stderr",
     "output_type": "stream",
     "text": [
      "Epoch 324: 2batch [00:00, 14.18batch/s, loss=773]"
     ]
    },
    {
     "name": "stdout",
     "output_type": "stream",
     "text": [
      "epoch 323: avg test  loss 837.40, bar  test loss 2.198, len  test loss 0.026, col  test loss 146.128\n"
     ]
    },
    {
     "name": "stderr",
     "output_type": "stream",
     "text": [
      "Epoch 324: 272batch [00:19, 14.30batch/s, loss=755]\n"
     ]
    },
    {
     "name": "stdout",
     "output_type": "stream",
     "text": [
      "epoch 324: avg train loss 788.69, bar train loss 1.901, len train loss 0.022, col train loss 137.493\n"
     ]
    },
    {
     "name": "stderr",
     "output_type": "stream",
     "text": [
      "Epoch 325: 2batch [00:00, 13.99batch/s, loss=779]"
     ]
    },
    {
     "name": "stdout",
     "output_type": "stream",
     "text": [
      "epoch 324: avg test  loss 836.87, bar  test loss 2.195, len  test loss 0.026, col  test loss 146.195\n"
     ]
    },
    {
     "name": "stderr",
     "output_type": "stream",
     "text": [
      "Epoch 325: 272batch [00:19, 14.30batch/s, loss=832]\n"
     ]
    },
    {
     "name": "stdout",
     "output_type": "stream",
     "text": [
      "epoch 325: avg train loss 788.68, bar train loss 1.896, len train loss 0.023, col train loss 137.471\n",
      "epoch 325: avg test  loss 837.64, bar  test loss 2.196, len  test loss 0.026, col  test loss 146.206\n"
     ]
    },
    {
     "name": "stderr",
     "output_type": "stream",
     "text": [
      "Epoch 326: 272batch [00:19, 14.15batch/s, loss=750]\n"
     ]
    },
    {
     "name": "stdout",
     "output_type": "stream",
     "text": [
      "epoch 326: avg train loss 788.35, bar train loss 1.897, len train loss 0.022, col train loss 137.401\n"
     ]
    },
    {
     "name": "stderr",
     "output_type": "stream",
     "text": [
      "Epoch 327: 2batch [00:00, 14.39batch/s, loss=761]"
     ]
    },
    {
     "name": "stdout",
     "output_type": "stream",
     "text": [
      "epoch 326: avg test  loss 837.45, bar  test loss 2.193, len  test loss 0.027, col  test loss 146.186\n"
     ]
    },
    {
     "name": "stderr",
     "output_type": "stream",
     "text": [
      "Epoch 327: 272batch [00:19, 14.30batch/s, loss=709]\n"
     ]
    },
    {
     "name": "stdout",
     "output_type": "stream",
     "text": [
      "epoch 327: avg train loss 788.18, bar train loss 1.895, len train loss 0.022, col train loss 137.381\n"
     ]
    },
    {
     "name": "stderr",
     "output_type": "stream",
     "text": [
      "Epoch 328: 2batch [00:00, 14.39batch/s, loss=771]"
     ]
    },
    {
     "name": "stdout",
     "output_type": "stream",
     "text": [
      "epoch 327: avg test  loss 837.23, bar  test loss 2.192, len  test loss 0.025, col  test loss 146.159\n"
     ]
    },
    {
     "name": "stderr",
     "output_type": "stream",
     "text": [
      "Epoch 328: 272batch [00:19, 14.28batch/s, loss=791]\n"
     ]
    },
    {
     "name": "stdout",
     "output_type": "stream",
     "text": [
      "epoch 328: avg train loss 787.91, bar train loss 1.895, len train loss 0.022, col train loss 137.319\n"
     ]
    },
    {
     "name": "stderr",
     "output_type": "stream",
     "text": [
      "Epoch 329: 2batch [00:00, 14.29batch/s, loss=772]"
     ]
    },
    {
     "name": "stdout",
     "output_type": "stream",
     "text": [
      "epoch 328: avg test  loss 837.05, bar  test loss 2.178, len  test loss 0.025, col  test loss 146.176\n"
     ]
    },
    {
     "name": "stderr",
     "output_type": "stream",
     "text": [
      "Epoch 329: 272batch [00:19, 14.28batch/s, loss=787]\n"
     ]
    },
    {
     "name": "stdout",
     "output_type": "stream",
     "text": [
      "epoch 329: avg train loss 787.82, bar train loss 1.889, len train loss 0.022, col train loss 137.297\n"
     ]
    },
    {
     "name": "stderr",
     "output_type": "stream",
     "text": [
      "Epoch 330: 2batch [00:00, 14.39batch/s, loss=799]"
     ]
    },
    {
     "name": "stdout",
     "output_type": "stream",
     "text": [
      "epoch 329: avg test  loss 836.92, bar  test loss 2.198, len  test loss 0.028, col  test loss 146.109\n"
     ]
    },
    {
     "name": "stderr",
     "output_type": "stream",
     "text": [
      "Epoch 330: 272batch [00:19, 14.27batch/s, loss=727]\n"
     ]
    },
    {
     "name": "stdout",
     "output_type": "stream",
     "text": [
      "epoch 330: avg train loss 787.48, bar train loss 1.890, len train loss 0.022, col train loss 137.221\n",
      "epoch 330: avg test  loss 837.51, bar  test loss 2.185, len  test loss 0.027, col  test loss 146.080\n"
     ]
    },
    {
     "name": "stderr",
     "output_type": "stream",
     "text": [
      "Epoch 331: 272batch [00:19, 14.05batch/s, loss=865]\n"
     ]
    },
    {
     "name": "stdout",
     "output_type": "stream",
     "text": [
      "epoch 331: avg train loss 787.37, bar train loss 1.890, len train loss 0.022, col train loss 137.200\n"
     ]
    },
    {
     "name": "stderr",
     "output_type": "stream",
     "text": [
      "Epoch 332: 2batch [00:00, 13.79batch/s, loss=801]"
     ]
    },
    {
     "name": "stdout",
     "output_type": "stream",
     "text": [
      "epoch 331: avg test  loss 837.20, bar  test loss 2.193, len  test loss 0.027, col  test loss 146.063\n"
     ]
    },
    {
     "name": "stderr",
     "output_type": "stream",
     "text": [
      "Epoch 332: 272batch [00:19, 14.26batch/s, loss=765]\n"
     ]
    },
    {
     "name": "stdout",
     "output_type": "stream",
     "text": [
      "epoch 332: avg train loss 787.12, bar train loss 1.883, len train loss 0.022, col train loss 137.133\n"
     ]
    },
    {
     "name": "stderr",
     "output_type": "stream",
     "text": [
      "Epoch 333: 2batch [00:00, 14.60batch/s, loss=824]"
     ]
    },
    {
     "name": "stdout",
     "output_type": "stream",
     "text": [
      "epoch 332: avg test  loss 836.87, bar  test loss 2.201, len  test loss 0.027, col  test loss 146.098\n"
     ]
    },
    {
     "name": "stderr",
     "output_type": "stream",
     "text": [
      "Epoch 333: 272batch [00:19, 14.27batch/s, loss=819]\n"
     ]
    },
    {
     "name": "stdout",
     "output_type": "stream",
     "text": [
      "epoch 333: avg train loss 786.86, bar train loss 1.886, len train loss 0.022, col train loss 137.095\n"
     ]
    },
    {
     "name": "stderr",
     "output_type": "stream",
     "text": [
      "Epoch 334: 2batch [00:00, 14.18batch/s, loss=808]"
     ]
    },
    {
     "name": "stdout",
     "output_type": "stream",
     "text": [
      "epoch 333: avg test  loss 836.98, bar  test loss 2.182, len  test loss 0.026, col  test loss 146.048\n"
     ]
    },
    {
     "name": "stderr",
     "output_type": "stream",
     "text": [
      "Epoch 334: 272batch [00:19, 14.26batch/s, loss=820]\n"
     ]
    },
    {
     "name": "stdout",
     "output_type": "stream",
     "text": [
      "epoch 334: avg train loss 786.68, bar train loss 1.881, len train loss 0.022, col train loss 137.036\n"
     ]
    },
    {
     "name": "stderr",
     "output_type": "stream",
     "text": [
      "Epoch 335: 2batch [00:00, 13.99batch/s, loss=772]"
     ]
    },
    {
     "name": "stdout",
     "output_type": "stream",
     "text": [
      "epoch 334: avg test  loss 836.98, bar  test loss 2.203, len  test loss 0.027, col  test loss 146.132\n"
     ]
    },
    {
     "name": "stderr",
     "output_type": "stream",
     "text": [
      "Epoch 335: 272batch [00:19, 14.19batch/s, loss=769]\n"
     ]
    },
    {
     "name": "stdout",
     "output_type": "stream",
     "text": [
      "epoch 335: avg train loss 786.51, bar train loss 1.876, len train loss 0.022, col train loss 137.010\n",
      "epoch 335: avg test  loss 837.17, bar  test loss 2.168, len  test loss 0.025, col  test loss 145.904\n"
     ]
    },
    {
     "name": "stderr",
     "output_type": "stream",
     "text": [
      "Epoch 336: 272batch [00:19, 13.81batch/s, loss=800]\n"
     ]
    },
    {
     "name": "stdout",
     "output_type": "stream",
     "text": [
      "epoch 336: avg train loss 786.32, bar train loss 1.877, len train loss 0.022, col train loss 136.965\n"
     ]
    },
    {
     "name": "stderr",
     "output_type": "stream",
     "text": [
      "Epoch 337: 2batch [00:00, 14.18batch/s, loss=806]"
     ]
    },
    {
     "name": "stdout",
     "output_type": "stream",
     "text": [
      "epoch 336: avg test  loss 836.93, bar  test loss 2.161, len  test loss 0.026, col  test loss 146.025\n"
     ]
    },
    {
     "name": "stderr",
     "output_type": "stream",
     "text": [
      "Epoch 337: 272batch [00:19, 14.20batch/s, loss=814]\n"
     ]
    },
    {
     "name": "stdout",
     "output_type": "stream",
     "text": [
      "epoch 337: avg train loss 786.04, bar train loss 1.874, len train loss 0.022, col train loss 136.911\n"
     ]
    },
    {
     "name": "stderr",
     "output_type": "stream",
     "text": [
      "Epoch 338: 2batch [00:00, 13.99batch/s, loss=814]"
     ]
    },
    {
     "name": "stdout",
     "output_type": "stream",
     "text": [
      "epoch 337: avg test  loss 836.66, bar  test loss 2.191, len  test loss 0.027, col  test loss 146.114\n"
     ]
    },
    {
     "name": "stderr",
     "output_type": "stream",
     "text": [
      "Epoch 338: 272batch [00:19, 14.24batch/s, loss=852]\n"
     ]
    },
    {
     "name": "stdout",
     "output_type": "stream",
     "text": [
      "epoch 338: avg train loss 785.97, bar train loss 1.874, len train loss 0.022, col train loss 136.897\n"
     ]
    },
    {
     "name": "stderr",
     "output_type": "stream",
     "text": [
      "Epoch 339: 2batch [00:00, 13.70batch/s, loss=766]"
     ]
    },
    {
     "name": "stdout",
     "output_type": "stream",
     "text": [
      "epoch 338: avg test  loss 836.64, bar  test loss 2.177, len  test loss 0.025, col  test loss 145.949\n"
     ]
    },
    {
     "name": "stderr",
     "output_type": "stream",
     "text": [
      "Epoch 339: 272batch [00:19, 14.21batch/s, loss=768]\n"
     ]
    },
    {
     "name": "stdout",
     "output_type": "stream",
     "text": [
      "epoch 339: avg train loss 785.57, bar train loss 1.871, len train loss 0.022, col train loss 136.820\n"
     ]
    },
    {
     "name": "stderr",
     "output_type": "stream",
     "text": [
      "Epoch 340: 2batch [00:00, 13.70batch/s, loss=783]"
     ]
    },
    {
     "name": "stdout",
     "output_type": "stream",
     "text": [
      "epoch 339: avg test  loss 836.84, bar  test loss 2.178, len  test loss 0.027, col  test loss 145.956\n"
     ]
    },
    {
     "name": "stderr",
     "output_type": "stream",
     "text": [
      "Epoch 340: 272batch [00:19, 14.17batch/s, loss=823]\n"
     ]
    },
    {
     "name": "stdout",
     "output_type": "stream",
     "text": [
      "epoch 340: avg train loss 785.55, bar train loss 1.872, len train loss 0.022, col train loss 136.789\n",
      "epoch 340: avg test  loss 836.82, bar  test loss 2.182, len  test loss 0.025, col  test loss 145.880\n"
     ]
    },
    {
     "name": "stderr",
     "output_type": "stream",
     "text": [
      "Epoch 341: 272batch [00:19, 13.75batch/s, loss=748]\n"
     ]
    },
    {
     "name": "stdout",
     "output_type": "stream",
     "text": [
      "epoch 341: avg train loss 785.19, bar train loss 1.868, len train loss 0.022, col train loss 136.732\n"
     ]
    },
    {
     "name": "stderr",
     "output_type": "stream",
     "text": [
      "Epoch 342: 2batch [00:00, 14.49batch/s, loss=791]"
     ]
    },
    {
     "name": "stdout",
     "output_type": "stream",
     "text": [
      "epoch 341: avg test  loss 836.50, bar  test loss 2.173, len  test loss 0.026, col  test loss 145.971\n"
     ]
    },
    {
     "name": "stderr",
     "output_type": "stream",
     "text": [
      "Epoch 342: 272batch [00:19, 14.27batch/s, loss=789]\n"
     ]
    },
    {
     "name": "stdout",
     "output_type": "stream",
     "text": [
      "epoch 342: avg train loss 784.93, bar train loss 1.867, len train loss 0.022, col train loss 136.679\n"
     ]
    },
    {
     "name": "stderr",
     "output_type": "stream",
     "text": [
      "Epoch 343: 2batch [00:00, 13.89batch/s, loss=798]"
     ]
    },
    {
     "name": "stdout",
     "output_type": "stream",
     "text": [
      "epoch 342: avg test  loss 836.48, bar  test loss 2.180, len  test loss 0.025, col  test loss 145.905\n"
     ]
    },
    {
     "name": "stderr",
     "output_type": "stream",
     "text": [
      "Epoch 343: 272batch [00:19, 14.25batch/s, loss=797]\n"
     ]
    },
    {
     "name": "stdout",
     "output_type": "stream",
     "text": [
      "epoch 343: avg train loss 784.79, bar train loss 1.863, len train loss 0.022, col train loss 136.633\n"
     ]
    },
    {
     "name": "stderr",
     "output_type": "stream",
     "text": [
      "Epoch 344: 2batch [00:00, 14.08batch/s, loss=736]"
     ]
    },
    {
     "name": "stdout",
     "output_type": "stream",
     "text": [
      "epoch 343: avg test  loss 836.04, bar  test loss 2.178, len  test loss 0.025, col  test loss 145.901\n"
     ]
    },
    {
     "name": "stderr",
     "output_type": "stream",
     "text": [
      "Epoch 344: 272batch [00:19, 14.24batch/s, loss=810]\n"
     ]
    },
    {
     "name": "stdout",
     "output_type": "stream",
     "text": [
      "epoch 344: avg train loss 784.53, bar train loss 1.864, len train loss 0.022, col train loss 136.582\n"
     ]
    },
    {
     "name": "stderr",
     "output_type": "stream",
     "text": [
      "Epoch 345: 2batch [00:00, 13.51batch/s, loss=751]"
     ]
    },
    {
     "name": "stdout",
     "output_type": "stream",
     "text": [
      "epoch 344: avg test  loss 835.99, bar  test loss 2.177, len  test loss 0.025, col  test loss 145.820\n"
     ]
    },
    {
     "name": "stderr",
     "output_type": "stream",
     "text": [
      "Epoch 345: 272batch [00:19, 14.24batch/s, loss=832]\n"
     ]
    },
    {
     "name": "stdout",
     "output_type": "stream",
     "text": [
      "epoch 345: avg train loss 784.46, bar train loss 1.864, len train loss 0.022, col train loss 136.560\n",
      "epoch 345: avg test  loss 836.20, bar  test loss 2.162, len  test loss 0.026, col  test loss 145.884\n"
     ]
    },
    {
     "name": "stderr",
     "output_type": "stream",
     "text": [
      "Epoch 346: 272batch [00:19, 13.92batch/s, loss=792]\n"
     ]
    },
    {
     "name": "stdout",
     "output_type": "stream",
     "text": [
      "epoch 346: avg train loss 784.35, bar train loss 1.860, len train loss 0.022, col train loss 136.532\n"
     ]
    },
    {
     "name": "stderr",
     "output_type": "stream",
     "text": [
      "Epoch 347: 2batch [00:00, 14.29batch/s, loss=818]"
     ]
    },
    {
     "name": "stdout",
     "output_type": "stream",
     "text": [
      "epoch 346: avg test  loss 836.26, bar  test loss 2.174, len  test loss 0.026, col  test loss 145.834\n"
     ]
    },
    {
     "name": "stderr",
     "output_type": "stream",
     "text": [
      "Epoch 347: 272batch [00:19, 14.23batch/s, loss=831]\n"
     ]
    },
    {
     "name": "stdout",
     "output_type": "stream",
     "text": [
      "epoch 347: avg train loss 783.94, bar train loss 1.855, len train loss 0.022, col train loss 136.469\n"
     ]
    },
    {
     "name": "stderr",
     "output_type": "stream",
     "text": [
      "Epoch 348: 2batch [00:00, 14.49batch/s, loss=797]"
     ]
    },
    {
     "name": "stdout",
     "output_type": "stream",
     "text": [
      "epoch 347: avg test  loss 836.22, bar  test loss 2.166, len  test loss 0.025, col  test loss 145.821\n"
     ]
    },
    {
     "name": "stderr",
     "output_type": "stream",
     "text": [
      "Epoch 348: 272batch [00:19, 14.19batch/s, loss=841]\n"
     ]
    },
    {
     "name": "stdout",
     "output_type": "stream",
     "text": [
      "epoch 348: avg train loss 783.77, bar train loss 1.854, len train loss 0.022, col train loss 136.439\n"
     ]
    },
    {
     "name": "stderr",
     "output_type": "stream",
     "text": [
      "Epoch 349: 2batch [00:00, 13.89batch/s, loss=778]"
     ]
    },
    {
     "name": "stdout",
     "output_type": "stream",
     "text": [
      "epoch 348: avg test  loss 836.56, bar  test loss 2.162, len  test loss 0.025, col  test loss 145.803\n"
     ]
    },
    {
     "name": "stderr",
     "output_type": "stream",
     "text": [
      "Epoch 349: 272batch [00:19, 14.22batch/s, loss=741]\n"
     ]
    },
    {
     "name": "stdout",
     "output_type": "stream",
     "text": [
      "epoch 349: avg train loss 783.55, bar train loss 1.851, len train loss 0.022, col train loss 136.372\n"
     ]
    },
    {
     "name": "stderr",
     "output_type": "stream",
     "text": [
      "Epoch 350: 2batch [00:00, 14.60batch/s, loss=776]"
     ]
    },
    {
     "name": "stdout",
     "output_type": "stream",
     "text": [
      "epoch 349: avg test  loss 836.55, bar  test loss 2.158, len  test loss 0.027, col  test loss 145.742\n"
     ]
    },
    {
     "name": "stderr",
     "output_type": "stream",
     "text": [
      "Epoch 350: 272batch [00:19, 14.25batch/s, loss=819]\n"
     ]
    },
    {
     "name": "stdout",
     "output_type": "stream",
     "text": [
      "epoch 350: avg train loss 783.41, bar train loss 1.850, len train loss 0.022, col train loss 136.357\n",
      "epoch 350: avg test  loss 836.36, bar  test loss 2.167, len  test loss 0.025, col  test loss 145.773\n"
     ]
    },
    {
     "name": "stderr",
     "output_type": "stream",
     "text": [
      "Epoch 351: 272batch [00:19, 13.98batch/s, loss=771]\n"
     ]
    },
    {
     "name": "stdout",
     "output_type": "stream",
     "text": [
      "epoch 351: avg train loss 783.29, bar train loss 1.850, len train loss 0.022, col train loss 136.306\n"
     ]
    },
    {
     "name": "stderr",
     "output_type": "stream",
     "text": [
      "Epoch 352: 2batch [00:00, 14.29batch/s, loss=758]"
     ]
    },
    {
     "name": "stdout",
     "output_type": "stream",
     "text": [
      "epoch 351: avg test  loss 836.46, bar  test loss 2.163, len  test loss 0.030, col  test loss 145.682\n"
     ]
    },
    {
     "name": "stderr",
     "output_type": "stream",
     "text": [
      "Epoch 352: 272batch [00:19, 14.24batch/s, loss=769]\n"
     ]
    },
    {
     "name": "stdout",
     "output_type": "stream",
     "text": [
      "epoch 352: avg train loss 782.98, bar train loss 1.848, len train loss 0.022, col train loss 136.247\n"
     ]
    },
    {
     "name": "stderr",
     "output_type": "stream",
     "text": [
      "Epoch 353: 2batch [00:00, 13.89batch/s, loss=791]"
     ]
    },
    {
     "name": "stdout",
     "output_type": "stream",
     "text": [
      "epoch 352: avg test  loss 836.44, bar  test loss 2.182, len  test loss 0.030, col  test loss 145.795\n"
     ]
    },
    {
     "name": "stderr",
     "output_type": "stream",
     "text": [
      "Epoch 353: 272batch [00:19, 14.24batch/s, loss=765]\n"
     ]
    },
    {
     "name": "stdout",
     "output_type": "stream",
     "text": [
      "epoch 353: avg train loss 782.73, bar train loss 1.844, len train loss 0.022, col train loss 136.192\n"
     ]
    },
    {
     "name": "stderr",
     "output_type": "stream",
     "text": [
      "Epoch 354: 2batch [00:00, 14.29batch/s, loss=770]"
     ]
    },
    {
     "name": "stdout",
     "output_type": "stream",
     "text": [
      "epoch 353: avg test  loss 836.33, bar  test loss 2.171, len  test loss 0.026, col  test loss 145.829\n"
     ]
    },
    {
     "name": "stderr",
     "output_type": "stream",
     "text": [
      "Epoch 354: 272batch [00:19, 14.22batch/s, loss=792]\n"
     ]
    },
    {
     "name": "stdout",
     "output_type": "stream",
     "text": [
      "epoch 354: avg train loss 782.54, bar train loss 1.844, len train loss 0.022, col train loss 136.158\n"
     ]
    },
    {
     "name": "stderr",
     "output_type": "stream",
     "text": [
      "Epoch 355: 2batch [00:00, 13.89batch/s, loss=818]"
     ]
    },
    {
     "name": "stdout",
     "output_type": "stream",
     "text": [
      "epoch 354: avg test  loss 835.78, bar  test loss 2.169, len  test loss 0.025, col  test loss 145.674\n"
     ]
    },
    {
     "name": "stderr",
     "output_type": "stream",
     "text": [
      "Epoch 355: 272batch [00:19, 14.20batch/s, loss=729]\n"
     ]
    },
    {
     "name": "stdout",
     "output_type": "stream",
     "text": [
      "epoch 355: avg train loss 782.35, bar train loss 1.839, len train loss 0.022, col train loss 136.131\n",
      "epoch 355: avg test  loss 836.13, bar  test loss 2.146, len  test loss 0.026, col  test loss 145.757\n"
     ]
    },
    {
     "name": "stderr",
     "output_type": "stream",
     "text": [
      "Epoch 356: 272batch [00:19, 13.97batch/s, loss=726]\n"
     ]
    },
    {
     "name": "stdout",
     "output_type": "stream",
     "text": [
      "epoch 356: avg train loss 782.19, bar train loss 1.838, len train loss 0.022, col train loss 136.092\n"
     ]
    },
    {
     "name": "stderr",
     "output_type": "stream",
     "text": [
      "Epoch 357: 2batch [00:00, 13.79batch/s, loss=767]"
     ]
    },
    {
     "name": "stdout",
     "output_type": "stream",
     "text": [
      "epoch 356: avg test  loss 836.00, bar  test loss 2.161, len  test loss 0.026, col  test loss 145.595\n"
     ]
    },
    {
     "name": "stderr",
     "output_type": "stream",
     "text": [
      "Epoch 357: 272batch [00:19, 14.24batch/s, loss=818]\n"
     ]
    },
    {
     "name": "stdout",
     "output_type": "stream",
     "text": [
      "epoch 357: avg train loss 781.84, bar train loss 1.837, len train loss 0.022, col train loss 136.021\n"
     ]
    },
    {
     "name": "stderr",
     "output_type": "stream",
     "text": [
      "Epoch 358: 2batch [00:00, 14.49batch/s, loss=765]"
     ]
    },
    {
     "name": "stdout",
     "output_type": "stream",
     "text": [
      "epoch 357: avg test  loss 836.32, bar  test loss 2.179, len  test loss 0.027, col  test loss 145.658\n"
     ]
    },
    {
     "name": "stderr",
     "output_type": "stream",
     "text": [
      "Epoch 358: 272batch [00:19, 14.22batch/s, loss=720]\n"
     ]
    },
    {
     "name": "stdout",
     "output_type": "stream",
     "text": [
      "epoch 358: avg train loss 781.65, bar train loss 1.839, len train loss 0.022, col train loss 135.957\n"
     ]
    },
    {
     "name": "stderr",
     "output_type": "stream",
     "text": [
      "Epoch 359: 2batch [00:00, 14.29batch/s, loss=795]"
     ]
    },
    {
     "name": "stdout",
     "output_type": "stream",
     "text": [
      "epoch 358: avg test  loss 836.00, bar  test loss 2.152, len  test loss 0.028, col  test loss 145.665\n"
     ]
    },
    {
     "name": "stderr",
     "output_type": "stream",
     "text": [
      "Epoch 359: 272batch [00:19, 14.19batch/s, loss=820]\n"
     ]
    },
    {
     "name": "stdout",
     "output_type": "stream",
     "text": [
      "epoch 359: avg train loss 781.51, bar train loss 1.833, len train loss 0.022, col train loss 135.950\n"
     ]
    },
    {
     "name": "stderr",
     "output_type": "stream",
     "text": [
      "Epoch 360: 2batch [00:00, 13.70batch/s, loss=782]"
     ]
    },
    {
     "name": "stdout",
     "output_type": "stream",
     "text": [
      "epoch 359: avg test  loss 835.36, bar  test loss 2.167, len  test loss 0.028, col  test loss 145.662\n"
     ]
    },
    {
     "name": "stderr",
     "output_type": "stream",
     "text": [
      "Epoch 360: 272batch [00:19, 14.21batch/s, loss=757]\n"
     ]
    },
    {
     "name": "stdout",
     "output_type": "stream",
     "text": [
      "epoch 360: avg train loss 781.25, bar train loss 1.832, len train loss 0.022, col train loss 135.898\n",
      "epoch 360: avg test  loss 835.44, bar  test loss 2.151, len  test loss 0.026, col  test loss 145.646\n"
     ]
    },
    {
     "name": "stderr",
     "output_type": "stream",
     "text": [
      "Epoch 361: 272batch [00:19, 13.93batch/s, loss=846]\n"
     ]
    },
    {
     "name": "stdout",
     "output_type": "stream",
     "text": [
      "epoch 361: avg train loss 781.14, bar train loss 1.830, len train loss 0.022, col train loss 135.850\n"
     ]
    },
    {
     "name": "stderr",
     "output_type": "stream",
     "text": [
      "Epoch 362: 2batch [00:00, 14.18batch/s, loss=754]"
     ]
    },
    {
     "name": "stdout",
     "output_type": "stream",
     "text": [
      "epoch 361: avg test  loss 835.77, bar  test loss 2.156, len  test loss 0.025, col  test loss 145.587\n"
     ]
    },
    {
     "name": "stderr",
     "output_type": "stream",
     "text": [
      "Epoch 362: 272batch [00:19, 14.23batch/s, loss=869]\n"
     ]
    },
    {
     "name": "stdout",
     "output_type": "stream",
     "text": [
      "epoch 362: avg train loss 781.01, bar train loss 1.830, len train loss 0.022, col train loss 135.835\n"
     ]
    },
    {
     "name": "stderr",
     "output_type": "stream",
     "text": [
      "Epoch 363: 2batch [00:00, 14.29batch/s, loss=783]"
     ]
    },
    {
     "name": "stdout",
     "output_type": "stream",
     "text": [
      "epoch 362: avg test  loss 835.11, bar  test loss 2.155, len  test loss 0.025, col  test loss 145.579\n"
     ]
    },
    {
     "name": "stderr",
     "output_type": "stream",
     "text": [
      "Epoch 363: 272batch [00:19, 14.19batch/s, loss=816]\n"
     ]
    },
    {
     "name": "stdout",
     "output_type": "stream",
     "text": [
      "epoch 363: avg train loss 780.57, bar train loss 1.826, len train loss 0.021, col train loss 135.757\n"
     ]
    },
    {
     "name": "stderr",
     "output_type": "stream",
     "text": [
      "Epoch 364: 2batch [00:00, 14.29batch/s, loss=763]"
     ]
    },
    {
     "name": "stdout",
     "output_type": "stream",
     "text": [
      "epoch 363: avg test  loss 836.18, bar  test loss 2.150, len  test loss 0.029, col  test loss 145.580\n"
     ]
    },
    {
     "name": "stderr",
     "output_type": "stream",
     "text": [
      "Epoch 364: 272batch [00:19, 14.17batch/s, loss=773]\n"
     ]
    },
    {
     "name": "stdout",
     "output_type": "stream",
     "text": [
      "epoch 364: avg train loss 780.53, bar train loss 1.824, len train loss 0.022, col train loss 135.727\n"
     ]
    },
    {
     "name": "stderr",
     "output_type": "stream",
     "text": [
      "Epoch 365: 2batch [00:00, 14.18batch/s, loss=791]"
     ]
    },
    {
     "name": "stdout",
     "output_type": "stream",
     "text": [
      "epoch 364: avg test  loss 835.87, bar  test loss 2.144, len  test loss 0.025, col  test loss 145.534\n"
     ]
    },
    {
     "name": "stderr",
     "output_type": "stream",
     "text": [
      "Epoch 365: 272batch [00:19, 14.21batch/s, loss=832]\n"
     ]
    },
    {
     "name": "stdout",
     "output_type": "stream",
     "text": [
      "epoch 365: avg train loss 780.32, bar train loss 1.823, len train loss 0.022, col train loss 135.674\n",
      "epoch 365: avg test  loss 835.60, bar  test loss 2.148, len  test loss 0.025, col  test loss 145.551\n"
     ]
    },
    {
     "name": "stderr",
     "output_type": "stream",
     "text": [
      "Epoch 366: 272batch [00:19, 13.99batch/s, loss=770]\n"
     ]
    },
    {
     "name": "stdout",
     "output_type": "stream",
     "text": [
      "epoch 366: avg train loss 780.05, bar train loss 1.818, len train loss 0.022, col train loss 135.639\n"
     ]
    },
    {
     "name": "stderr",
     "output_type": "stream",
     "text": [
      "Epoch 367: 2batch [00:00, 14.60batch/s, loss=830]"
     ]
    },
    {
     "name": "stdout",
     "output_type": "stream",
     "text": [
      "epoch 366: avg test  loss 835.74, bar  test loss 2.148, len  test loss 0.027, col  test loss 145.503\n"
     ]
    },
    {
     "name": "stderr",
     "output_type": "stream",
     "text": [
      "Epoch 367: 272batch [00:19, 14.21batch/s, loss=761]\n"
     ]
    },
    {
     "name": "stdout",
     "output_type": "stream",
     "text": [
      "epoch 367: avg train loss 779.81, bar train loss 1.818, len train loss 0.022, col train loss 135.577\n"
     ]
    },
    {
     "name": "stderr",
     "output_type": "stream",
     "text": [
      "Epoch 368: 0batch [00:00, ?batch/s, loss=742]"
     ]
    },
    {
     "name": "stdout",
     "output_type": "stream",
     "text": [
      "epoch 367: avg test  loss 836.05, bar  test loss 2.148, len  test loss 0.026, col  test loss 145.500\n"
     ]
    },
    {
     "name": "stderr",
     "output_type": "stream",
     "text": [
      "Epoch 368: 272batch [00:19, 14.12batch/s, loss=821]\n"
     ]
    },
    {
     "name": "stdout",
     "output_type": "stream",
     "text": [
      "epoch 368: avg train loss 779.63, bar train loss 1.818, len train loss 0.022, col train loss 135.538\n"
     ]
    },
    {
     "name": "stderr",
     "output_type": "stream",
     "text": [
      "Epoch 369: 2batch [00:00, 14.08batch/s, loss=741]"
     ]
    },
    {
     "name": "stdout",
     "output_type": "stream",
     "text": [
      "epoch 368: avg test  loss 835.84, bar  test loss 2.147, len  test loss 0.027, col  test loss 145.555\n"
     ]
    },
    {
     "name": "stderr",
     "output_type": "stream",
     "text": [
      "Epoch 369: 272batch [00:19, 14.16batch/s, loss=758]\n"
     ]
    },
    {
     "name": "stdout",
     "output_type": "stream",
     "text": [
      "epoch 369: avg train loss 779.40, bar train loss 1.816, len train loss 0.022, col train loss 135.464\n"
     ]
    },
    {
     "name": "stderr",
     "output_type": "stream",
     "text": [
      "Epoch 370: 2batch [00:00, 13.99batch/s, loss=761]"
     ]
    },
    {
     "name": "stdout",
     "output_type": "stream",
     "text": [
      "epoch 369: avg test  loss 835.84, bar  test loss 2.148, len  test loss 0.027, col  test loss 145.446\n"
     ]
    },
    {
     "name": "stderr",
     "output_type": "stream",
     "text": [
      "Epoch 370: 272batch [00:19, 14.15batch/s, loss=787]\n"
     ]
    },
    {
     "name": "stdout",
     "output_type": "stream",
     "text": [
      "epoch 370: avg train loss 779.33, bar train loss 1.815, len train loss 0.021, col train loss 135.471\n",
      "epoch 370: avg test  loss 834.73, bar  test loss 2.153, len  test loss 0.026, col  test loss 145.451\n"
     ]
    },
    {
     "name": "stderr",
     "output_type": "stream",
     "text": [
      "Epoch 371: 272batch [00:19, 13.92batch/s, loss=748]\n"
     ]
    },
    {
     "name": "stdout",
     "output_type": "stream",
     "text": [
      "epoch 371: avg train loss 779.11, bar train loss 1.813, len train loss 0.022, col train loss 135.408\n"
     ]
    },
    {
     "name": "stderr",
     "output_type": "stream",
     "text": [
      "Epoch 372: 2batch [00:00, 13.99batch/s, loss=801]"
     ]
    },
    {
     "name": "stdout",
     "output_type": "stream",
     "text": [
      "epoch 371: avg test  loss 835.54, bar  test loss 2.149, len  test loss 0.025, col  test loss 145.489\n"
     ]
    },
    {
     "name": "stderr",
     "output_type": "stream",
     "text": [
      "Epoch 372: 272batch [00:19, 14.17batch/s, loss=794]\n"
     ]
    },
    {
     "name": "stdout",
     "output_type": "stream",
     "text": [
      "epoch 372: avg train loss 778.77, bar train loss 1.810, len train loss 0.021, col train loss 135.348\n"
     ]
    },
    {
     "name": "stderr",
     "output_type": "stream",
     "text": [
      "Epoch 373: 2batch [00:00, 14.08batch/s, loss=757]"
     ]
    },
    {
     "name": "stdout",
     "output_type": "stream",
     "text": [
      "epoch 372: avg test  loss 835.11, bar  test loss 2.144, len  test loss 0.026, col  test loss 145.467\n"
     ]
    },
    {
     "name": "stderr",
     "output_type": "stream",
     "text": [
      "Epoch 373: 272batch [00:19, 14.18batch/s, loss=835]\n"
     ]
    },
    {
     "name": "stdout",
     "output_type": "stream",
     "text": [
      "epoch 373: avg train loss 778.67, bar train loss 1.811, len train loss 0.021, col train loss 135.322\n"
     ]
    },
    {
     "name": "stderr",
     "output_type": "stream",
     "text": [
      "Epoch 374: 2batch [00:00, 14.18batch/s, loss=790]"
     ]
    },
    {
     "name": "stdout",
     "output_type": "stream",
     "text": [
      "epoch 373: avg test  loss 835.45, bar  test loss 2.160, len  test loss 0.026, col  test loss 145.481\n"
     ]
    },
    {
     "name": "stderr",
     "output_type": "stream",
     "text": [
      "Epoch 374: 272batch [00:19, 14.12batch/s, loss=837]\n"
     ]
    },
    {
     "name": "stdout",
     "output_type": "stream",
     "text": [
      "epoch 374: avg train loss 778.49, bar train loss 1.806, len train loss 0.022, col train loss 135.272\n"
     ]
    },
    {
     "name": "stderr",
     "output_type": "stream",
     "text": [
      "Epoch 375: 2batch [00:00, 14.08batch/s, loss=755]"
     ]
    },
    {
     "name": "stdout",
     "output_type": "stream",
     "text": [
      "epoch 374: avg test  loss 834.95, bar  test loss 2.144, len  test loss 0.025, col  test loss 145.393\n"
     ]
    },
    {
     "name": "stderr",
     "output_type": "stream",
     "text": [
      "Epoch 375: 272batch [00:19, 14.24batch/s, loss=771]\n"
     ]
    },
    {
     "name": "stdout",
     "output_type": "stream",
     "text": [
      "epoch 375: avg train loss 778.32, bar train loss 1.805, len train loss 0.021, col train loss 135.261\n",
      "epoch 375: avg test  loss 834.74, bar  test loss 2.153, len  test loss 0.026, col  test loss 145.410\n"
     ]
    },
    {
     "name": "stderr",
     "output_type": "stream",
     "text": [
      "Epoch 376: 272batch [00:19, 13.87batch/s, loss=748]\n"
     ]
    },
    {
     "name": "stdout",
     "output_type": "stream",
     "text": [
      "epoch 376: avg train loss 778.18, bar train loss 1.803, len train loss 0.021, col train loss 135.209\n"
     ]
    },
    {
     "name": "stderr",
     "output_type": "stream",
     "text": [
      "Epoch 377: 2batch [00:00, 14.18batch/s, loss=792]"
     ]
    },
    {
     "name": "stdout",
     "output_type": "stream",
     "text": [
      "epoch 376: avg test  loss 834.96, bar  test loss 2.144, len  test loss 0.026, col  test loss 145.434\n"
     ]
    },
    {
     "name": "stderr",
     "output_type": "stream",
     "text": [
      "Epoch 377: 272batch [00:19, 14.17batch/s, loss=825]\n"
     ]
    },
    {
     "name": "stdout",
     "output_type": "stream",
     "text": [
      "epoch 377: avg train loss 777.91, bar train loss 1.802, len train loss 0.022, col train loss 135.162\n"
     ]
    },
    {
     "name": "stderr",
     "output_type": "stream",
     "text": [
      "Epoch 378: 2batch [00:00, 14.18batch/s, loss=798]"
     ]
    },
    {
     "name": "stdout",
     "output_type": "stream",
     "text": [
      "epoch 377: avg test  loss 834.45, bar  test loss 2.146, len  test loss 0.025, col  test loss 145.345\n"
     ]
    },
    {
     "name": "stderr",
     "output_type": "stream",
     "text": [
      "Epoch 378: 272batch [00:19, 13.81batch/s, loss=808]\n"
     ]
    },
    {
     "name": "stdout",
     "output_type": "stream",
     "text": [
      "epoch 378: avg train loss 777.58, bar train loss 1.798, len train loss 0.022, col train loss 135.095\n"
     ]
    },
    {
     "name": "stderr",
     "output_type": "stream",
     "text": [
      "Epoch 379: 2batch [00:00, 13.79batch/s, loss=786]"
     ]
    },
    {
     "name": "stdout",
     "output_type": "stream",
     "text": [
      "epoch 378: avg test  loss 835.26, bar  test loss 2.143, len  test loss 0.025, col  test loss 145.381\n"
     ]
    },
    {
     "name": "stderr",
     "output_type": "stream",
     "text": [
      "Epoch 379: 272batch [00:19, 14.18batch/s, loss=819]\n"
     ]
    },
    {
     "name": "stdout",
     "output_type": "stream",
     "text": [
      "epoch 379: avg train loss 777.31, bar train loss 1.798, len train loss 0.021, col train loss 135.055\n"
     ]
    },
    {
     "name": "stderr",
     "output_type": "stream",
     "text": [
      "Epoch 380: 2batch [00:00, 14.08batch/s, loss=750]"
     ]
    },
    {
     "name": "stdout",
     "output_type": "stream",
     "text": [
      "epoch 379: avg test  loss 835.16, bar  test loss 2.147, len  test loss 0.025, col  test loss 145.417\n"
     ]
    },
    {
     "name": "stderr",
     "output_type": "stream",
     "text": [
      "Epoch 380: 272batch [00:19, 14.16batch/s, loss=819]\n"
     ]
    },
    {
     "name": "stdout",
     "output_type": "stream",
     "text": [
      "epoch 380: avg train loss 777.15, bar train loss 1.792, len train loss 0.021, col train loss 135.017\n",
      "epoch 380: avg test  loss 835.23, bar  test loss 2.137, len  test loss 0.025, col  test loss 145.395\n"
     ]
    },
    {
     "name": "stderr",
     "output_type": "stream",
     "text": [
      "Epoch 381: 272batch [00:19, 13.96batch/s, loss=758]\n"
     ]
    },
    {
     "name": "stdout",
     "output_type": "stream",
     "text": [
      "epoch 381: avg train loss 777.07, bar train loss 1.791, len train loss 0.021, col train loss 135.011\n"
     ]
    },
    {
     "name": "stderr",
     "output_type": "stream",
     "text": [
      "Epoch 382: 1batch [00:00,  7.46batch/s, loss=769]"
     ]
    },
    {
     "name": "stdout",
     "output_type": "stream",
     "text": [
      "epoch 381: avg test  loss 835.46, bar  test loss 2.130, len  test loss 0.027, col  test loss 145.347\n"
     ]
    },
    {
     "name": "stderr",
     "output_type": "stream",
     "text": [
      "Epoch 382: 272batch [00:19, 14.01batch/s, loss=827]\n"
     ]
    },
    {
     "name": "stdout",
     "output_type": "stream",
     "text": [
      "epoch 382: avg train loss 776.84, bar train loss 1.792, len train loss 0.021, col train loss 134.962\n"
     ]
    },
    {
     "name": "stderr",
     "output_type": "stream",
     "text": [
      "Epoch 383: 2batch [00:00, 14.08batch/s, loss=784]"
     ]
    },
    {
     "name": "stdout",
     "output_type": "stream",
     "text": [
      "epoch 382: avg test  loss 834.73, bar  test loss 2.134, len  test loss 0.026, col  test loss 145.235\n"
     ]
    },
    {
     "name": "stderr",
     "output_type": "stream",
     "text": [
      "Epoch 383: 272batch [00:19, 14.10batch/s, loss=819]\n"
     ]
    },
    {
     "name": "stdout",
     "output_type": "stream",
     "text": [
      "epoch 383: avg train loss 776.67, bar train loss 1.792, len train loss 0.021, col train loss 134.896\n"
     ]
    },
    {
     "name": "stderr",
     "output_type": "stream",
     "text": [
      "Epoch 384: 2batch [00:00, 14.49batch/s, loss=760]"
     ]
    },
    {
     "name": "stdout",
     "output_type": "stream",
     "text": [
      "epoch 383: avg test  loss 835.06, bar  test loss 2.132, len  test loss 0.025, col  test loss 145.255\n"
     ]
    },
    {
     "name": "stderr",
     "output_type": "stream",
     "text": [
      "Epoch 384: 272batch [00:19, 14.14batch/s, loss=763]\n"
     ]
    },
    {
     "name": "stdout",
     "output_type": "stream",
     "text": [
      "epoch 384: avg train loss 776.50, bar train loss 1.792, len train loss 0.022, col train loss 134.868\n"
     ]
    },
    {
     "name": "stderr",
     "output_type": "stream",
     "text": [
      "Epoch 385: 2batch [00:00, 12.42batch/s, loss=800]"
     ]
    },
    {
     "name": "stdout",
     "output_type": "stream",
     "text": [
      "epoch 384: avg test  loss 835.07, bar  test loss 2.140, len  test loss 0.026, col  test loss 145.272\n"
     ]
    },
    {
     "name": "stderr",
     "output_type": "stream",
     "text": [
      "Epoch 385: 272batch [00:19, 14.15batch/s, loss=733]\n"
     ]
    },
    {
     "name": "stdout",
     "output_type": "stream",
     "text": [
      "epoch 385: avg train loss 776.30, bar train loss 1.786, len train loss 0.022, col train loss 134.842\n",
      "epoch 385: avg test  loss 834.87, bar  test loss 2.147, len  test loss 0.026, col  test loss 145.333\n"
     ]
    },
    {
     "name": "stderr",
     "output_type": "stream",
     "text": [
      "Epoch 386: 272batch [00:19, 13.88batch/s, loss=763]\n"
     ]
    },
    {
     "name": "stdout",
     "output_type": "stream",
     "text": [
      "epoch 386: avg train loss 776.11, bar train loss 1.784, len train loss 0.021, col train loss 134.783\n"
     ]
    },
    {
     "name": "stderr",
     "output_type": "stream",
     "text": [
      "Epoch 387: 2batch [00:00, 13.99batch/s, loss=783]"
     ]
    },
    {
     "name": "stdout",
     "output_type": "stream",
     "text": [
      "epoch 386: avg test  loss 835.42, bar  test loss 2.135, len  test loss 0.026, col  test loss 145.269\n"
     ]
    },
    {
     "name": "stderr",
     "output_type": "stream",
     "text": [
      "Epoch 387: 272batch [00:19, 14.15batch/s, loss=764]\n"
     ]
    },
    {
     "name": "stdout",
     "output_type": "stream",
     "text": [
      "epoch 387: avg train loss 775.89, bar train loss 1.783, len train loss 0.021, col train loss 134.740\n"
     ]
    },
    {
     "name": "stderr",
     "output_type": "stream",
     "text": [
      "Epoch 388: 2batch [00:00, 14.08batch/s, loss=763]"
     ]
    },
    {
     "name": "stdout",
     "output_type": "stream",
     "text": [
      "epoch 387: avg test  loss 834.83, bar  test loss 2.138, len  test loss 0.026, col  test loss 145.284\n"
     ]
    },
    {
     "name": "stderr",
     "output_type": "stream",
     "text": [
      "Epoch 388: 272batch [00:19, 14.15batch/s, loss=766]\n"
     ]
    },
    {
     "name": "stdout",
     "output_type": "stream",
     "text": [
      "epoch 388: avg train loss 775.53, bar train loss 1.780, len train loss 0.021, col train loss 134.690\n"
     ]
    },
    {
     "name": "stderr",
     "output_type": "stream",
     "text": [
      "Epoch 389: 2batch [00:00, 13.99batch/s, loss=790]"
     ]
    },
    {
     "name": "stdout",
     "output_type": "stream",
     "text": [
      "epoch 388: avg test  loss 834.87, bar  test loss 2.133, len  test loss 0.025, col  test loss 145.258\n"
     ]
    },
    {
     "name": "stderr",
     "output_type": "stream",
     "text": [
      "Epoch 389: 272batch [00:19, 14.15batch/s, loss=825]\n"
     ]
    },
    {
     "name": "stdout",
     "output_type": "stream",
     "text": [
      "epoch 389: avg train loss 775.51, bar train loss 1.780, len train loss 0.021, col train loss 134.656\n"
     ]
    },
    {
     "name": "stderr",
     "output_type": "stream",
     "text": [
      "Epoch 390: 2batch [00:00, 14.18batch/s, loss=796]"
     ]
    },
    {
     "name": "stdout",
     "output_type": "stream",
     "text": [
      "epoch 389: avg test  loss 834.42, bar  test loss 2.129, len  test loss 0.026, col  test loss 145.249\n"
     ]
    },
    {
     "name": "stderr",
     "output_type": "stream",
     "text": [
      "Epoch 390: 272batch [00:19, 14.15batch/s, loss=823]\n"
     ]
    },
    {
     "name": "stdout",
     "output_type": "stream",
     "text": [
      "epoch 390: avg train loss 775.19, bar train loss 1.779, len train loss 0.021, col train loss 134.598\n",
      "epoch 390: avg test  loss 834.71, bar  test loss 2.132, len  test loss 0.025, col  test loss 145.225\n"
     ]
    },
    {
     "name": "stderr",
     "output_type": "stream",
     "text": [
      "Epoch 391: 272batch [00:19, 13.73batch/s, loss=733]\n"
     ]
    },
    {
     "name": "stdout",
     "output_type": "stream",
     "text": [
      "epoch 391: avg train loss 775.11, bar train loss 1.776, len train loss 0.021, col train loss 134.577\n"
     ]
    },
    {
     "name": "stderr",
     "output_type": "stream",
     "text": [
      "\r",
      "Epoch 392: 0batch [00:00, ?batch/s]"
     ]
    },
    {
     "name": "stdout",
     "output_type": "stream",
     "text": [
      "epoch 391: avg test  loss 834.15, bar  test loss 2.133, len  test loss 0.025, col  test loss 145.306\n"
     ]
    },
    {
     "name": "stderr",
     "output_type": "stream",
     "text": [
      "Epoch 392: 272batch [00:37,  7.29batch/s, loss=821]\n"
     ]
    },
    {
     "name": "stdout",
     "output_type": "stream",
     "text": [
      "epoch 392: avg train loss 774.83, bar train loss 1.776, len train loss 0.021, col train loss 134.526\n",
      "epoch 392: avg test  loss 834.92, bar  test loss 2.143, len  test loss 0.029, col  test loss 145.244\n"
     ]
    },
    {
     "name": "stderr",
     "output_type": "stream",
     "text": [
      "Epoch 393: 272batch [00:20, 13.35batch/s, loss=765]\n"
     ]
    },
    {
     "name": "stdout",
     "output_type": "stream",
     "text": [
      "epoch 393: avg train loss 774.79, bar train loss 1.776, len train loss 0.021, col train loss 134.498\n"
     ]
    },
    {
     "name": "stderr",
     "output_type": "stream",
     "text": [
      "Epoch 394: 2batch [00:00, 13.79batch/s, loss=792]"
     ]
    },
    {
     "name": "stdout",
     "output_type": "stream",
     "text": [
      "epoch 393: avg test  loss 834.79, bar  test loss 2.123, len  test loss 0.025, col  test loss 145.157\n"
     ]
    },
    {
     "name": "stderr",
     "output_type": "stream",
     "text": [
      "Epoch 394: 272batch [00:19, 14.04batch/s, loss=777]\n"
     ]
    },
    {
     "name": "stdout",
     "output_type": "stream",
     "text": [
      "epoch 394: avg train loss 774.44, bar train loss 1.772, len train loss 0.021, col train loss 134.428\n"
     ]
    },
    {
     "name": "stderr",
     "output_type": "stream",
     "text": [
      "Epoch 395: 2batch [00:00, 13.70batch/s, loss=779]"
     ]
    },
    {
     "name": "stdout",
     "output_type": "stream",
     "text": [
      "epoch 394: avg test  loss 834.69, bar  test loss 2.113, len  test loss 0.025, col  test loss 145.087\n"
     ]
    },
    {
     "name": "stderr",
     "output_type": "stream",
     "text": [
      "Epoch 395: 272batch [00:19, 14.04batch/s, loss=791]\n"
     ]
    },
    {
     "name": "stdout",
     "output_type": "stream",
     "text": [
      "epoch 395: avg train loss 774.43, bar train loss 1.775, len train loss 0.021, col train loss 134.423\n",
      "epoch 395: avg test  loss 834.63, bar  test loss 2.121, len  test loss 0.026, col  test loss 145.135\n"
     ]
    },
    {
     "name": "stderr",
     "output_type": "stream",
     "text": [
      "Epoch 396: 272batch [00:20, 13.44batch/s, loss=755]\n"
     ]
    },
    {
     "name": "stdout",
     "output_type": "stream",
     "text": [
      "epoch 396: avg train loss 774.04, bar train loss 1.768, len train loss 0.021, col train loss 134.359\n"
     ]
    },
    {
     "name": "stderr",
     "output_type": "stream",
     "text": [
      "Epoch 397: 2batch [00:00, 13.42batch/s, loss=747]"
     ]
    },
    {
     "name": "stdout",
     "output_type": "stream",
     "text": [
      "epoch 396: avg test  loss 834.68, bar  test loss 2.106, len  test loss 0.026, col  test loss 145.139\n"
     ]
    },
    {
     "name": "stderr",
     "output_type": "stream",
     "text": [
      "Epoch 397: 272batch [00:21, 12.66batch/s, loss=737]\n"
     ]
    },
    {
     "name": "stdout",
     "output_type": "stream",
     "text": [
      "epoch 397: avg train loss 773.91, bar train loss 1.769, len train loss 0.021, col train loss 134.322\n"
     ]
    },
    {
     "name": "stderr",
     "output_type": "stream",
     "text": [
      "Epoch 398: 1batch [00:00,  9.52batch/s, loss=745]"
     ]
    },
    {
     "name": "stdout",
     "output_type": "stream",
     "text": [
      "epoch 397: avg test  loss 834.64, bar  test loss 2.137, len  test loss 0.027, col  test loss 145.160\n"
     ]
    },
    {
     "name": "stderr",
     "output_type": "stream",
     "text": [
      "Epoch 398: 272batch [00:22, 12.30batch/s, loss=728]\n"
     ]
    },
    {
     "name": "stdout",
     "output_type": "stream",
     "text": [
      "epoch 398: avg train loss 773.75, bar train loss 1.768, len train loss 0.021, col train loss 134.290\n"
     ]
    },
    {
     "name": "stderr",
     "output_type": "stream",
     "text": [
      "Epoch 399: 2batch [00:00, 12.66batch/s, loss=806]"
     ]
    },
    {
     "name": "stdout",
     "output_type": "stream",
     "text": [
      "epoch 398: avg test  loss 834.70, bar  test loss 2.115, len  test loss 0.025, col  test loss 145.107\n"
     ]
    },
    {
     "name": "stderr",
     "output_type": "stream",
     "text": [
      "Epoch 399: 272batch [00:22, 12.29batch/s, loss=800]\n"
     ]
    },
    {
     "name": "stdout",
     "output_type": "stream",
     "text": [
      "epoch 399: avg train loss 773.61, bar train loss 1.766, len train loss 0.021, col train loss 134.259\n"
     ]
    },
    {
     "name": "stderr",
     "output_type": "stream",
     "text": [
      "Epoch 400: 0batch [00:00, ?batch/s, loss=753]"
     ]
    },
    {
     "name": "stdout",
     "output_type": "stream",
     "text": [
      "epoch 399: avg test  loss 834.74, bar  test loss 2.128, len  test loss 0.025, col  test loss 145.086\n"
     ]
    },
    {
     "name": "stderr",
     "output_type": "stream",
     "text": [
      "Epoch 400: 272batch [00:21, 12.60batch/s, loss=732]\n"
     ]
    },
    {
     "name": "stdout",
     "output_type": "stream",
     "text": [
      "epoch 400: avg train loss 773.41, bar train loss 1.763, len train loss 0.021, col train loss 134.220\n",
      "epoch 400: avg test  loss 834.60, bar  test loss 2.122, len  test loss 0.026, col  test loss 145.130\n"
     ]
    },
    {
     "name": "stderr",
     "output_type": "stream",
     "text": [
      "Epoch 401: 272batch [00:20, 13.08batch/s, loss=786]\n"
     ]
    },
    {
     "name": "stdout",
     "output_type": "stream",
     "text": [
      "epoch 401: avg train loss 773.27, bar train loss 1.762, len train loss 0.021, col train loss 134.171\n"
     ]
    },
    {
     "name": "stderr",
     "output_type": "stream",
     "text": [
      "Epoch 402: 0batch [00:00, ?batch/s, loss=758]"
     ]
    },
    {
     "name": "stdout",
     "output_type": "stream",
     "text": [
      "epoch 401: avg test  loss 834.64, bar  test loss 2.136, len  test loss 0.027, col  test loss 145.038\n"
     ]
    },
    {
     "name": "stderr",
     "output_type": "stream",
     "text": [
      "Epoch 402: 272batch [00:19, 14.00batch/s, loss=742]\n"
     ]
    },
    {
     "name": "stdout",
     "output_type": "stream",
     "text": [
      "epoch 402: avg train loss 772.95, bar train loss 1.761, len train loss 0.021, col train loss 134.111\n"
     ]
    },
    {
     "name": "stderr",
     "output_type": "stream",
     "text": [
      "Epoch 403: 1batch [00:00,  9.90batch/s, loss=794]"
     ]
    },
    {
     "name": "stdout",
     "output_type": "stream",
     "text": [
      "epoch 402: avg test  loss 834.08, bar  test loss 2.121, len  test loss 0.026, col  test loss 145.033\n"
     ]
    },
    {
     "name": "stderr",
     "output_type": "stream",
     "text": [
      "Epoch 403: 272batch [00:19, 13.85batch/s, loss=728]\n"
     ]
    },
    {
     "name": "stdout",
     "output_type": "stream",
     "text": [
      "epoch 403: avg train loss 772.75, bar train loss 1.758, len train loss 0.020, col train loss 134.088\n"
     ]
    },
    {
     "name": "stderr",
     "output_type": "stream",
     "text": [
      "Epoch 404: 2batch [00:00, 12.20batch/s, loss=764]"
     ]
    },
    {
     "name": "stdout",
     "output_type": "stream",
     "text": [
      "epoch 403: avg test  loss 834.02, bar  test loss 2.117, len  test loss 0.026, col  test loss 145.073\n"
     ]
    },
    {
     "name": "stderr",
     "output_type": "stream",
     "text": [
      "Epoch 404: 272batch [00:22, 12.29batch/s, loss=782]\n"
     ]
    },
    {
     "name": "stdout",
     "output_type": "stream",
     "text": [
      "epoch 404: avg train loss 772.55, bar train loss 1.759, len train loss 0.021, col train loss 134.043\n"
     ]
    },
    {
     "name": "stderr",
     "output_type": "stream",
     "text": [
      "Epoch 405: 2batch [00:00, 12.90batch/s, loss=776]"
     ]
    },
    {
     "name": "stdout",
     "output_type": "stream",
     "text": [
      "epoch 404: avg test  loss 834.52, bar  test loss 2.129, len  test loss 0.025, col  test loss 144.996\n"
     ]
    },
    {
     "name": "stderr",
     "output_type": "stream",
     "text": [
      "Epoch 405: 272batch [00:21, 12.84batch/s, loss=780]\n"
     ]
    },
    {
     "name": "stdout",
     "output_type": "stream",
     "text": [
      "epoch 405: avg train loss 772.36, bar train loss 1.755, len train loss 0.021, col train loss 134.002\n",
      "epoch 405: avg test  loss 834.18, bar  test loss 2.118, len  test loss 0.029, col  test loss 145.048\n"
     ]
    },
    {
     "name": "stderr",
     "output_type": "stream",
     "text": [
      "Epoch 406: 272batch [00:22, 12.00batch/s, loss=794]\n"
     ]
    },
    {
     "name": "stdout",
     "output_type": "stream",
     "text": [
      "epoch 406: avg train loss 772.39, bar train loss 1.757, len train loss 0.022, col train loss 133.973\n"
     ]
    },
    {
     "name": "stderr",
     "output_type": "stream",
     "text": [
      "Epoch 407: 0batch [00:00, ?batch/s, loss=765]"
     ]
    },
    {
     "name": "stdout",
     "output_type": "stream",
     "text": [
      "epoch 406: avg test  loss 834.22, bar  test loss 2.121, len  test loss 0.028, col  test loss 145.087\n"
     ]
    },
    {
     "name": "stderr",
     "output_type": "stream",
     "text": [
      "Epoch 407: 272batch [00:21, 12.71batch/s, loss=738]\n"
     ]
    },
    {
     "name": "stdout",
     "output_type": "stream",
     "text": [
      "epoch 407: avg train loss 771.87, bar train loss 1.754, len train loss 0.021, col train loss 133.889\n"
     ]
    },
    {
     "name": "stderr",
     "output_type": "stream",
     "text": [
      "Epoch 408: 2batch [00:00, 12.82batch/s, loss=788]"
     ]
    },
    {
     "name": "stdout",
     "output_type": "stream",
     "text": [
      "epoch 407: avg test  loss 834.01, bar  test loss 2.114, len  test loss 0.026, col  test loss 145.028\n"
     ]
    },
    {
     "name": "stderr",
     "output_type": "stream",
     "text": [
      "Epoch 408: 272batch [00:21, 12.74batch/s, loss=721]\n"
     ]
    },
    {
     "name": "stdout",
     "output_type": "stream",
     "text": [
      "epoch 408: avg train loss 771.80, bar train loss 1.749, len train loss 0.020, col train loss 133.874\n"
     ]
    },
    {
     "name": "stderr",
     "output_type": "stream",
     "text": [
      "Epoch 409: 2batch [00:00, 12.74batch/s, loss=769]"
     ]
    },
    {
     "name": "stdout",
     "output_type": "stream",
     "text": [
      "epoch 408: avg test  loss 834.03, bar  test loss 2.123, len  test loss 0.025, col  test loss 145.045\n"
     ]
    },
    {
     "name": "stderr",
     "output_type": "stream",
     "text": [
      "Epoch 409: 272batch [00:21, 12.42batch/s, loss=718]\n"
     ]
    },
    {
     "name": "stdout",
     "output_type": "stream",
     "text": [
      "epoch 409: avg train loss 771.77, bar train loss 1.751, len train loss 0.021, col train loss 133.843\n"
     ]
    },
    {
     "name": "stderr",
     "output_type": "stream",
     "text": [
      "Epoch 410: 2batch [00:00, 12.82batch/s, loss=789]"
     ]
    },
    {
     "name": "stdout",
     "output_type": "stream",
     "text": [
      "epoch 409: avg test  loss 834.08, bar  test loss 2.111, len  test loss 0.026, col  test loss 145.036\n"
     ]
    },
    {
     "name": "stderr",
     "output_type": "stream",
     "text": [
      "Epoch 410: 272batch [00:21, 12.84batch/s, loss=818]\n"
     ]
    },
    {
     "name": "stdout",
     "output_type": "stream",
     "text": [
      "epoch 410: avg train loss 771.59, bar train loss 1.748, len train loss 0.021, col train loss 133.826\n",
      "epoch 410: avg test  loss 834.37, bar  test loss 2.107, len  test loss 0.026, col  test loss 145.027\n"
     ]
    },
    {
     "name": "stderr",
     "output_type": "stream",
     "text": [
      "Epoch 411: 272batch [00:22, 12.11batch/s, loss=777]\n"
     ]
    },
    {
     "name": "stdout",
     "output_type": "stream",
     "text": [
      "epoch 411: avg train loss 771.39, bar train loss 1.746, len train loss 0.021, col train loss 133.780\n"
     ]
    },
    {
     "name": "stderr",
     "output_type": "stream",
     "text": [
      "Epoch 412: 1batch [00:00, 10.00batch/s, loss=755]"
     ]
    },
    {
     "name": "stdout",
     "output_type": "stream",
     "text": [
      "epoch 411: avg test  loss 834.11, bar  test loss 2.113, len  test loss 0.026, col  test loss 144.921\n"
     ]
    },
    {
     "name": "stderr",
     "output_type": "stream",
     "text": [
      "Epoch 412: 272batch [00:22, 12.29batch/s, loss=737]\n"
     ]
    },
    {
     "name": "stdout",
     "output_type": "stream",
     "text": [
      "epoch 412: avg train loss 771.20, bar train loss 1.746, len train loss 0.021, col train loss 133.739\n"
     ]
    },
    {
     "name": "stderr",
     "output_type": "stream",
     "text": [
      "Epoch 413: 2batch [00:00, 13.33batch/s, loss=760]"
     ]
    },
    {
     "name": "stdout",
     "output_type": "stream",
     "text": [
      "epoch 412: avg test  loss 834.15, bar  test loss 2.112, len  test loss 0.026, col  test loss 145.053\n"
     ]
    },
    {
     "name": "stderr",
     "output_type": "stream",
     "text": [
      "Epoch 413: 272batch [00:21, 12.85batch/s, loss=853]\n"
     ]
    },
    {
     "name": "stdout",
     "output_type": "stream",
     "text": [
      "epoch 413: avg train loss 771.08, bar train loss 1.742, len train loss 0.021, col train loss 133.713\n"
     ]
    },
    {
     "name": "stderr",
     "output_type": "stream",
     "text": [
      "Epoch 414: 2batch [00:00, 13.16batch/s, loss=753]"
     ]
    },
    {
     "name": "stdout",
     "output_type": "stream",
     "text": [
      "epoch 413: avg test  loss 833.99, bar  test loss 2.130, len  test loss 0.029, col  test loss 144.974\n"
     ]
    },
    {
     "name": "stderr",
     "output_type": "stream",
     "text": [
      "Epoch 414: 272batch [00:21, 12.78batch/s, loss=850]\n"
     ]
    },
    {
     "name": "stdout",
     "output_type": "stream",
     "text": [
      "epoch 414: avg train loss 770.85, bar train loss 1.742, len train loss 0.021, col train loss 133.661\n"
     ]
    },
    {
     "name": "stderr",
     "output_type": "stream",
     "text": [
      "Epoch 415: 2batch [00:00, 13.33batch/s, loss=762]"
     ]
    },
    {
     "name": "stdout",
     "output_type": "stream",
     "text": [
      "epoch 414: avg test  loss 834.15, bar  test loss 2.122, len  test loss 0.026, col  test loss 144.958\n"
     ]
    },
    {
     "name": "stderr",
     "output_type": "stream",
     "text": [
      "Epoch 415: 272batch [00:21, 12.85batch/s, loss=779]\n"
     ]
    },
    {
     "name": "stdout",
     "output_type": "stream",
     "text": [
      "epoch 415: avg train loss 770.53, bar train loss 1.740, len train loss 0.021, col train loss 133.598\n",
      "epoch 415: avg test  loss 834.09, bar  test loss 2.104, len  test loss 0.026, col  test loss 144.993\n"
     ]
    },
    {
     "name": "stderr",
     "output_type": "stream",
     "text": [
      "Epoch 416: 272batch [00:21, 12.57batch/s, loss=802]\n"
     ]
    },
    {
     "name": "stdout",
     "output_type": "stream",
     "text": [
      "epoch 416: avg train loss 770.48, bar train loss 1.739, len train loss 0.021, col train loss 133.572\n"
     ]
    },
    {
     "name": "stderr",
     "output_type": "stream",
     "text": [
      "Epoch 417: 2batch [00:00, 13.02batch/s, loss=763]"
     ]
    },
    {
     "name": "stdout",
     "output_type": "stream",
     "text": [
      "epoch 416: avg test  loss 834.08, bar  test loss 2.115, len  test loss 0.027, col  test loss 144.966\n"
     ]
    },
    {
     "name": "stderr",
     "output_type": "stream",
     "text": [
      "Epoch 417: 272batch [00:21, 12.85batch/s, loss=779]\n"
     ]
    },
    {
     "name": "stdout",
     "output_type": "stream",
     "text": [
      "epoch 417: avg train loss 770.09, bar train loss 1.741, len train loss 0.021, col train loss 133.496\n"
     ]
    },
    {
     "name": "stderr",
     "output_type": "stream",
     "text": [
      "Epoch 418: 1batch [00:00,  8.77batch/s, loss=785]"
     ]
    },
    {
     "name": "stdout",
     "output_type": "stream",
     "text": [
      "epoch 417: avg test  loss 834.12, bar  test loss 2.109, len  test loss 0.027, col  test loss 144.942\n"
     ]
    },
    {
     "name": "stderr",
     "output_type": "stream",
     "text": [
      "Epoch 418: 272batch [00:21, 12.59batch/s, loss=739]\n"
     ]
    },
    {
     "name": "stdout",
     "output_type": "stream",
     "text": [
      "epoch 418: avg train loss 770.24, bar train loss 1.738, len train loss 0.021, col train loss 133.512\n"
     ]
    },
    {
     "name": "stderr",
     "output_type": "stream",
     "text": [
      "Epoch 419: 2batch [00:00, 12.58batch/s, loss=773]"
     ]
    },
    {
     "name": "stdout",
     "output_type": "stream",
     "text": [
      "epoch 418: avg test  loss 834.02, bar  test loss 2.098, len  test loss 0.025, col  test loss 144.906\n"
     ]
    },
    {
     "name": "stderr",
     "output_type": "stream",
     "text": [
      "Epoch 419: 272batch [00:22, 12.30batch/s, loss=793]\n"
     ]
    },
    {
     "name": "stdout",
     "output_type": "stream",
     "text": [
      "epoch 419: avg train loss 769.91, bar train loss 1.737, len train loss 0.021, col train loss 133.457\n"
     ]
    },
    {
     "name": "stderr",
     "output_type": "stream",
     "text": [
      "Epoch 420: 2batch [00:00, 13.25batch/s, loss=772]"
     ]
    },
    {
     "name": "stdout",
     "output_type": "stream",
     "text": [
      "epoch 419: avg test  loss 834.37, bar  test loss 2.106, len  test loss 0.025, col  test loss 144.860\n"
     ]
    },
    {
     "name": "stderr",
     "output_type": "stream",
     "text": [
      "Epoch 420: 272batch [00:20, 13.41batch/s, loss=759]\n"
     ]
    },
    {
     "name": "stdout",
     "output_type": "stream",
     "text": [
      "epoch 420: avg train loss 769.81, bar train loss 1.733, len train loss 0.021, col train loss 133.432\n",
      "epoch 420: avg test  loss 834.03, bar  test loss 2.113, len  test loss 0.027, col  test loss 144.888\n"
     ]
    },
    {
     "name": "stderr",
     "output_type": "stream",
     "text": [
      "Epoch 421: 272batch [00:20, 13.40batch/s, loss=723]\n"
     ]
    },
    {
     "name": "stdout",
     "output_type": "stream",
     "text": [
      "epoch 421: avg train loss 769.64, bar train loss 1.730, len train loss 0.021, col train loss 133.405\n"
     ]
    },
    {
     "name": "stderr",
     "output_type": "stream",
     "text": [
      "Epoch 422: 2batch [00:00, 13.99batch/s, loss=756]"
     ]
    },
    {
     "name": "stdout",
     "output_type": "stream",
     "text": [
      "epoch 421: avg test  loss 833.93, bar  test loss 2.110, len  test loss 0.027, col  test loss 144.863\n"
     ]
    },
    {
     "name": "stderr",
     "output_type": "stream",
     "text": [
      "Epoch 422: 272batch [00:19, 13.95batch/s, loss=754]\n"
     ]
    },
    {
     "name": "stdout",
     "output_type": "stream",
     "text": [
      "epoch 422: avg train loss 769.34, bar train loss 1.729, len train loss 0.020, col train loss 133.349\n"
     ]
    },
    {
     "name": "stderr",
     "output_type": "stream",
     "text": [
      "Epoch 423: 2batch [00:00, 13.89batch/s, loss=783]"
     ]
    },
    {
     "name": "stdout",
     "output_type": "stream",
     "text": [
      "epoch 422: avg test  loss 834.20, bar  test loss 2.113, len  test loss 0.025, col  test loss 144.900\n"
     ]
    },
    {
     "name": "stderr",
     "output_type": "stream",
     "text": [
      "Epoch 423: 272batch [00:19, 13.93batch/s, loss=773]\n"
     ]
    },
    {
     "name": "stdout",
     "output_type": "stream",
     "text": [
      "epoch 423: avg train loss 769.20, bar train loss 1.731, len train loss 0.021, col train loss 133.302\n"
     ]
    },
    {
     "name": "stderr",
     "output_type": "stream",
     "text": [
      "Epoch 424: 2batch [00:00, 14.08batch/s, loss=775]"
     ]
    },
    {
     "name": "stdout",
     "output_type": "stream",
     "text": [
      "epoch 423: avg test  loss 834.13, bar  test loss 2.099, len  test loss 0.026, col  test loss 144.879\n"
     ]
    },
    {
     "name": "stderr",
     "output_type": "stream",
     "text": [
      "Epoch 424: 272batch [00:19, 13.94batch/s, loss=813]\n"
     ]
    },
    {
     "name": "stdout",
     "output_type": "stream",
     "text": [
      "epoch 424: avg train loss 768.89, bar train loss 1.725, len train loss 0.021, col train loss 133.252\n"
     ]
    },
    {
     "name": "stderr",
     "output_type": "stream",
     "text": [
      "Epoch 425: 2batch [00:00, 13.33batch/s, loss=777]"
     ]
    },
    {
     "name": "stdout",
     "output_type": "stream",
     "text": [
      "epoch 424: avg test  loss 834.09, bar  test loss 2.106, len  test loss 0.025, col  test loss 144.877\n"
     ]
    },
    {
     "name": "stderr",
     "output_type": "stream",
     "text": [
      "Epoch 425: 272batch [00:19, 13.89batch/s, loss=824]\n"
     ]
    },
    {
     "name": "stdout",
     "output_type": "stream",
     "text": [
      "epoch 425: avg train loss 768.82, bar train loss 1.726, len train loss 0.020, col train loss 133.232\n",
      "epoch 425: avg test  loss 834.34, bar  test loss 2.115, len  test loss 0.030, col  test loss 144.817\n"
     ]
    },
    {
     "name": "stderr",
     "output_type": "stream",
     "text": [
      "Epoch 426: 272batch [00:20, 13.38batch/s, loss=816]\n"
     ]
    },
    {
     "name": "stdout",
     "output_type": "stream",
     "text": [
      "epoch 426: avg train loss 768.67, bar train loss 1.729, len train loss 0.021, col train loss 133.175\n"
     ]
    },
    {
     "name": "stderr",
     "output_type": "stream",
     "text": [
      "Epoch 427: 2batch [00:00, 13.89batch/s, loss=767]"
     ]
    },
    {
     "name": "stdout",
     "output_type": "stream",
     "text": [
      "epoch 426: avg test  loss 834.10, bar  test loss 2.099, len  test loss 0.025, col  test loss 144.770\n"
     ]
    },
    {
     "name": "stderr",
     "output_type": "stream",
     "text": [
      "Epoch 427: 272batch [00:19, 13.98batch/s, loss=809]\n"
     ]
    },
    {
     "name": "stdout",
     "output_type": "stream",
     "text": [
      "epoch 427: avg train loss 768.51, bar train loss 1.724, len train loss 0.020, col train loss 133.175\n"
     ]
    },
    {
     "name": "stderr",
     "output_type": "stream",
     "text": [
      "Epoch 428: 2batch [00:00, 13.79batch/s, loss=756]"
     ]
    },
    {
     "name": "stdout",
     "output_type": "stream",
     "text": [
      "epoch 427: avg test  loss 833.91, bar  test loss 2.103, len  test loss 0.026, col  test loss 144.782\n"
     ]
    },
    {
     "name": "stderr",
     "output_type": "stream",
     "text": [
      "Epoch 428: 272batch [00:19, 13.87batch/s, loss=766]\n"
     ]
    },
    {
     "name": "stdout",
     "output_type": "stream",
     "text": [
      "epoch 428: avg train loss 768.29, bar train loss 1.723, len train loss 0.020, col train loss 133.112\n"
     ]
    },
    {
     "name": "stderr",
     "output_type": "stream",
     "text": [
      "Epoch 429: 2batch [00:00, 13.51batch/s, loss=789]"
     ]
    },
    {
     "name": "stdout",
     "output_type": "stream",
     "text": [
      "epoch 428: avg test  loss 833.76, bar  test loss 2.102, len  test loss 0.026, col  test loss 144.845\n"
     ]
    },
    {
     "name": "stderr",
     "output_type": "stream",
     "text": [
      "Epoch 429: 272batch [00:19, 13.96batch/s, loss=786]\n"
     ]
    },
    {
     "name": "stdout",
     "output_type": "stream",
     "text": [
      "epoch 429: avg train loss 768.11, bar train loss 1.719, len train loss 0.020, col train loss 133.082\n"
     ]
    },
    {
     "name": "stderr",
     "output_type": "stream",
     "text": [
      "Epoch 430: 2batch [00:00, 13.42batch/s, loss=773]"
     ]
    },
    {
     "name": "stdout",
     "output_type": "stream",
     "text": [
      "epoch 429: avg test  loss 833.57, bar  test loss 2.110, len  test loss 0.026, col  test loss 144.810\n"
     ]
    },
    {
     "name": "stderr",
     "output_type": "stream",
     "text": [
      "Epoch 430: 272batch [00:19, 13.84batch/s, loss=818]\n"
     ]
    },
    {
     "name": "stdout",
     "output_type": "stream",
     "text": [
      "epoch 430: avg train loss 768.10, bar train loss 1.722, len train loss 0.021, col train loss 133.064\n",
      "epoch 430: avg test  loss 833.55, bar  test loss 2.099, len  test loss 0.026, col  test loss 144.797\n"
     ]
    },
    {
     "name": "stderr",
     "output_type": "stream",
     "text": [
      "Epoch 431: 272batch [00:20, 13.36batch/s, loss=730]\n"
     ]
    },
    {
     "name": "stdout",
     "output_type": "stream",
     "text": [
      "epoch 431: avg train loss 767.81, bar train loss 1.717, len train loss 0.021, col train loss 133.012\n"
     ]
    },
    {
     "name": "stderr",
     "output_type": "stream",
     "text": [
      "Epoch 432: 2batch [00:00, 13.99batch/s, loss=778]"
     ]
    },
    {
     "name": "stdout",
     "output_type": "stream",
     "text": [
      "epoch 431: avg test  loss 834.32, bar  test loss 2.095, len  test loss 0.029, col  test loss 144.748\n"
     ]
    },
    {
     "name": "stderr",
     "output_type": "stream",
     "text": [
      "Epoch 432: 272batch [00:19, 14.06batch/s, loss=761]\n"
     ]
    },
    {
     "name": "stdout",
     "output_type": "stream",
     "text": [
      "epoch 432: avg train loss 767.45, bar train loss 1.715, len train loss 0.021, col train loss 132.942\n"
     ]
    },
    {
     "name": "stderr",
     "output_type": "stream",
     "text": [
      "Epoch 433: 1batch [00:00,  8.40batch/s, loss=761]"
     ]
    },
    {
     "name": "stdout",
     "output_type": "stream",
     "text": [
      "epoch 432: avg test  loss 833.97, bar  test loss 2.097, len  test loss 0.026, col  test loss 144.850\n"
     ]
    },
    {
     "name": "stderr",
     "output_type": "stream",
     "text": [
      "Epoch 433: 272batch [00:19, 13.96batch/s, loss=831]\n"
     ]
    },
    {
     "name": "stdout",
     "output_type": "stream",
     "text": [
      "epoch 433: avg train loss 767.41, bar train loss 1.717, len train loss 0.020, col train loss 132.930\n"
     ]
    },
    {
     "name": "stderr",
     "output_type": "stream",
     "text": [
      "Epoch 434: 2batch [00:00, 13.89batch/s, loss=781]"
     ]
    },
    {
     "name": "stdout",
     "output_type": "stream",
     "text": [
      "epoch 433: avg test  loss 834.10, bar  test loss 2.087, len  test loss 0.027, col  test loss 144.693\n"
     ]
    },
    {
     "name": "stderr",
     "output_type": "stream",
     "text": [
      "Epoch 434: 272batch [00:19, 14.01batch/s, loss=779]\n"
     ]
    },
    {
     "name": "stdout",
     "output_type": "stream",
     "text": [
      "epoch 434: avg train loss 767.22, bar train loss 1.714, len train loss 0.020, col train loss 132.883\n"
     ]
    },
    {
     "name": "stderr",
     "output_type": "stream",
     "text": [
      "Epoch 435: 2batch [00:00, 14.08batch/s, loss=755]"
     ]
    },
    {
     "name": "stdout",
     "output_type": "stream",
     "text": [
      "epoch 434: avg test  loss 833.78, bar  test loss 2.115, len  test loss 0.026, col  test loss 144.832\n"
     ]
    },
    {
     "name": "stderr",
     "output_type": "stream",
     "text": [
      "Epoch 435: 272batch [00:19, 14.04batch/s, loss=789]\n"
     ]
    },
    {
     "name": "stdout",
     "output_type": "stream",
     "text": [
      "epoch 435: avg train loss 767.17, bar train loss 1.715, len train loss 0.021, col train loss 132.866\n",
      "epoch 435: avg test  loss 834.08, bar  test loss 2.109, len  test loss 0.029, col  test loss 144.754\n"
     ]
    },
    {
     "name": "stderr",
     "output_type": "stream",
     "text": [
      "Epoch 436: 272batch [00:19, 13.70batch/s, loss=780]\n"
     ]
    },
    {
     "name": "stdout",
     "output_type": "stream",
     "text": [
      "epoch 436: avg train loss 766.84, bar train loss 1.713, len train loss 0.021, col train loss 132.806\n"
     ]
    },
    {
     "name": "stderr",
     "output_type": "stream",
     "text": [
      "Epoch 437: 2batch [00:00, 14.08batch/s, loss=770]"
     ]
    },
    {
     "name": "stdout",
     "output_type": "stream",
     "text": [
      "epoch 436: avg test  loss 833.83, bar  test loss 2.100, len  test loss 0.026, col  test loss 144.768\n"
     ]
    },
    {
     "name": "stderr",
     "output_type": "stream",
     "text": [
      "Epoch 437: 272batch [00:19, 14.08batch/s, loss=755]\n"
     ]
    },
    {
     "name": "stdout",
     "output_type": "stream",
     "text": [
      "epoch 437: avg train loss 766.71, bar train loss 1.708, len train loss 0.020, col train loss 132.774\n"
     ]
    },
    {
     "name": "stderr",
     "output_type": "stream",
     "text": [
      "Epoch 438: 2batch [00:00, 13.89batch/s, loss=782]"
     ]
    },
    {
     "name": "stdout",
     "output_type": "stream",
     "text": [
      "epoch 437: avg test  loss 833.18, bar  test loss 2.107, len  test loss 0.026, col  test loss 144.693\n"
     ]
    },
    {
     "name": "stderr",
     "output_type": "stream",
     "text": [
      "Epoch 438: 272batch [00:19, 14.02batch/s, loss=738]\n"
     ]
    },
    {
     "name": "stdout",
     "output_type": "stream",
     "text": [
      "epoch 438: avg train loss 766.45, bar train loss 1.710, len train loss 0.021, col train loss 132.714\n"
     ]
    },
    {
     "name": "stderr",
     "output_type": "stream",
     "text": [
      "Epoch 439: 2batch [00:00, 12.99batch/s, loss=754]"
     ]
    },
    {
     "name": "stdout",
     "output_type": "stream",
     "text": [
      "epoch 438: avg test  loss 833.34, bar  test loss 2.106, len  test loss 0.026, col  test loss 144.719\n"
     ]
    },
    {
     "name": "stderr",
     "output_type": "stream",
     "text": [
      "Epoch 439: 272batch [00:19, 13.99batch/s, loss=817]\n"
     ]
    },
    {
     "name": "stdout",
     "output_type": "stream",
     "text": [
      "epoch 439: avg train loss 766.30, bar train loss 1.707, len train loss 0.020, col train loss 132.684\n"
     ]
    },
    {
     "name": "stderr",
     "output_type": "stream",
     "text": [
      "Epoch 440: 2batch [00:00, 13.42batch/s, loss=779]"
     ]
    },
    {
     "name": "stdout",
     "output_type": "stream",
     "text": [
      "epoch 439: avg test  loss 834.10, bar  test loss 2.088, len  test loss 0.029, col  test loss 144.633\n"
     ]
    },
    {
     "name": "stderr",
     "output_type": "stream",
     "text": [
      "Epoch 440: 272batch [00:19, 14.01batch/s, loss=750]\n"
     ]
    },
    {
     "name": "stdout",
     "output_type": "stream",
     "text": [
      "epoch 440: avg train loss 766.28, bar train loss 1.708, len train loss 0.020, col train loss 132.677\n",
      "epoch 440: avg test  loss 833.41, bar  test loss 2.099, len  test loss 0.030, col  test loss 144.767\n"
     ]
    },
    {
     "name": "stderr",
     "output_type": "stream",
     "text": [
      "Epoch 441: 272batch [00:20, 13.55batch/s, loss=746]\n"
     ]
    },
    {
     "name": "stdout",
     "output_type": "stream",
     "text": [
      "epoch 441: avg train loss 766.05, bar train loss 1.707, len train loss 0.021, col train loss 132.633\n"
     ]
    },
    {
     "name": "stderr",
     "output_type": "stream",
     "text": [
      "Epoch 442: 2batch [00:00, 13.51batch/s, loss=809]"
     ]
    },
    {
     "name": "stdout",
     "output_type": "stream",
     "text": [
      "epoch 441: avg test  loss 833.58, bar  test loss 2.086, len  test loss 0.025, col  test loss 144.711\n"
     ]
    },
    {
     "name": "stderr",
     "output_type": "stream",
     "text": [
      "Epoch 442: 272batch [00:19, 13.98batch/s, loss=761]\n"
     ]
    },
    {
     "name": "stdout",
     "output_type": "stream",
     "text": [
      "epoch 442: avg train loss 765.99, bar train loss 1.705, len train loss 0.020, col train loss 132.614\n"
     ]
    },
    {
     "name": "stderr",
     "output_type": "stream",
     "text": [
      "Epoch 443: 2batch [00:00, 13.89batch/s, loss=716]"
     ]
    },
    {
     "name": "stdout",
     "output_type": "stream",
     "text": [
      "epoch 442: avg test  loss 834.08, bar  test loss 2.091, len  test loss 0.028, col  test loss 144.685\n"
     ]
    },
    {
     "name": "stderr",
     "output_type": "stream",
     "text": [
      "Epoch 443: 272batch [00:19, 13.96batch/s, loss=782]\n"
     ]
    },
    {
     "name": "stdout",
     "output_type": "stream",
     "text": [
      "epoch 443: avg train loss 765.82, bar train loss 1.702, len train loss 0.020, col train loss 132.584\n"
     ]
    },
    {
     "name": "stderr",
     "output_type": "stream",
     "text": [
      "Epoch 444: 2batch [00:00, 13.89batch/s, loss=799]"
     ]
    },
    {
     "name": "stdout",
     "output_type": "stream",
     "text": [
      "epoch 443: avg test  loss 833.86, bar  test loss 2.097, len  test loss 0.026, col  test loss 144.708\n"
     ]
    },
    {
     "name": "stderr",
     "output_type": "stream",
     "text": [
      "Epoch 444: 272batch [00:19, 13.98batch/s, loss=791]\n"
     ]
    },
    {
     "name": "stdout",
     "output_type": "stream",
     "text": [
      "epoch 444: avg train loss 765.47, bar train loss 1.700, len train loss 0.020, col train loss 132.512\n"
     ]
    },
    {
     "name": "stderr",
     "output_type": "stream",
     "text": [
      "Epoch 445: 2batch [00:00, 13.79batch/s, loss=787]"
     ]
    },
    {
     "name": "stdout",
     "output_type": "stream",
     "text": [
      "epoch 444: avg test  loss 833.08, bar  test loss 2.101, len  test loss 0.026, col  test loss 144.710\n"
     ]
    },
    {
     "name": "stderr",
     "output_type": "stream",
     "text": [
      "Epoch 445: 272batch [00:19, 13.99batch/s, loss=773]\n"
     ]
    },
    {
     "name": "stdout",
     "output_type": "stream",
     "text": [
      "epoch 445: avg train loss 765.42, bar train loss 1.700, len train loss 0.020, col train loss 132.502\n",
      "epoch 445: avg test  loss 833.33, bar  test loss 2.116, len  test loss 0.026, col  test loss 144.755\n"
     ]
    },
    {
     "name": "stderr",
     "output_type": "stream",
     "text": [
      "Epoch 446: 272batch [00:20, 13.31batch/s, loss=763]\n"
     ]
    },
    {
     "name": "stdout",
     "output_type": "stream",
     "text": [
      "epoch 446: avg train loss 765.17, bar train loss 1.699, len train loss 0.020, col train loss 132.456\n"
     ]
    },
    {
     "name": "stderr",
     "output_type": "stream",
     "text": [
      "Epoch 447: 2batch [00:00, 13.33batch/s, loss=772]"
     ]
    },
    {
     "name": "stdout",
     "output_type": "stream",
     "text": [
      "epoch 446: avg test  loss 833.77, bar  test loss 2.093, len  test loss 0.025, col  test loss 144.598\n"
     ]
    },
    {
     "name": "stderr",
     "output_type": "stream",
     "text": [
      "Epoch 447: 272batch [00:19, 14.00batch/s, loss=849]\n"
     ]
    },
    {
     "name": "stdout",
     "output_type": "stream",
     "text": [
      "epoch 447: avg train loss 765.02, bar train loss 1.698, len train loss 0.020, col train loss 132.431\n"
     ]
    },
    {
     "name": "stderr",
     "output_type": "stream",
     "text": [
      "Epoch 448: 2batch [00:00, 14.49batch/s, loss=746]"
     ]
    },
    {
     "name": "stdout",
     "output_type": "stream",
     "text": [
      "epoch 447: avg test  loss 833.88, bar  test loss 2.102, len  test loss 0.030, col  test loss 144.704\n"
     ]
    },
    {
     "name": "stderr",
     "output_type": "stream",
     "text": [
      "Epoch 448: 272batch [00:20, 13.58batch/s, loss=749]\n"
     ]
    },
    {
     "name": "stdout",
     "output_type": "stream",
     "text": [
      "epoch 448: avg train loss 764.89, bar train loss 1.695, len train loss 0.020, col train loss 132.397\n"
     ]
    },
    {
     "name": "stderr",
     "output_type": "stream",
     "text": [
      "Epoch 449: 2batch [00:00, 12.90batch/s, loss=754]"
     ]
    },
    {
     "name": "stdout",
     "output_type": "stream",
     "text": [
      "epoch 448: avg test  loss 833.74, bar  test loss 2.095, len  test loss 0.026, col  test loss 144.717\n"
     ]
    },
    {
     "name": "stderr",
     "output_type": "stream",
     "text": [
      "Epoch 449: 272batch [00:20, 12.98batch/s, loss=766]\n"
     ]
    },
    {
     "name": "stdout",
     "output_type": "stream",
     "text": [
      "epoch 449: avg train loss 764.67, bar train loss 1.693, len train loss 0.020, col train loss 132.348\n"
     ]
    },
    {
     "name": "stderr",
     "output_type": "stream",
     "text": [
      "Epoch 450: 2batch [00:00, 12.99batch/s, loss=759]"
     ]
    },
    {
     "name": "stdout",
     "output_type": "stream",
     "text": [
      "epoch 449: avg test  loss 833.32, bar  test loss 2.088, len  test loss 0.026, col  test loss 144.688\n"
     ]
    },
    {
     "name": "stderr",
     "output_type": "stream",
     "text": [
      "Epoch 450: 272batch [00:23, 11.82batch/s, loss=808]\n"
     ]
    },
    {
     "name": "stdout",
     "output_type": "stream",
     "text": [
      "epoch 450: avg train loss 764.58, bar train loss 1.695, len train loss 0.020, col train loss 132.319\n",
      "epoch 450: avg test  loss 833.80, bar  test loss 2.091, len  test loss 0.030, col  test loss 144.652\n"
     ]
    },
    {
     "name": "stderr",
     "output_type": "stream",
     "text": [
      "Epoch 451: 272batch [00:22, 12.01batch/s, loss=802]\n"
     ]
    },
    {
     "name": "stdout",
     "output_type": "stream",
     "text": [
      "epoch 451: avg train loss 764.46, bar train loss 1.694, len train loss 0.020, col train loss 132.280\n"
     ]
    },
    {
     "name": "stderr",
     "output_type": "stream",
     "text": [
      "\r",
      "Epoch 452: 0batch [00:00, ?batch/s]"
     ]
    },
    {
     "name": "stdout",
     "output_type": "stream",
     "text": [
      "epoch 451: avg test  loss 833.73, bar  test loss 2.091, len  test loss 0.026, col  test loss 144.609\n"
     ]
    },
    {
     "name": "stderr",
     "output_type": "stream",
     "text": [
      "Epoch 452: 272batch [00:21, 12.52batch/s, loss=749]\n"
     ]
    },
    {
     "name": "stdout",
     "output_type": "stream",
     "text": [
      "epoch 452: avg train loss 764.25, bar train loss 1.693, len train loss 0.020, col train loss 132.240\n"
     ]
    },
    {
     "name": "stderr",
     "output_type": "stream",
     "text": [
      "Epoch 453: 2batch [00:00, 13.25batch/s, loss=762]"
     ]
    },
    {
     "name": "stdout",
     "output_type": "stream",
     "text": [
      "epoch 452: avg test  loss 833.61, bar  test loss 2.098, len  test loss 0.027, col  test loss 144.594\n"
     ]
    },
    {
     "name": "stderr",
     "output_type": "stream",
     "text": [
      "Epoch 453: 272batch [00:21, 12.76batch/s, loss=785]\n"
     ]
    },
    {
     "name": "stdout",
     "output_type": "stream",
     "text": [
      "epoch 453: avg train loss 764.03, bar train loss 1.692, len train loss 0.020, col train loss 132.203\n"
     ]
    },
    {
     "name": "stderr",
     "output_type": "stream",
     "text": [
      "Epoch 454: 2batch [00:00, 12.90batch/s, loss=761]"
     ]
    },
    {
     "name": "stdout",
     "output_type": "stream",
     "text": [
      "epoch 453: avg test  loss 833.64, bar  test loss 2.089, len  test loss 0.027, col  test loss 144.588\n"
     ]
    },
    {
     "name": "stderr",
     "output_type": "stream",
     "text": [
      "Epoch 454: 272batch [00:21, 12.64batch/s, loss=747]\n"
     ]
    },
    {
     "name": "stdout",
     "output_type": "stream",
     "text": [
      "epoch 454: avg train loss 763.85, bar train loss 1.688, len train loss 0.020, col train loss 132.163\n"
     ]
    },
    {
     "name": "stderr",
     "output_type": "stream",
     "text": [
      "Epoch 455: 2batch [00:00, 12.99batch/s, loss=795]"
     ]
    },
    {
     "name": "stdout",
     "output_type": "stream",
     "text": [
      "epoch 454: avg test  loss 833.45, bar  test loss 2.093, len  test loss 0.026, col  test loss 144.599\n"
     ]
    },
    {
     "name": "stderr",
     "output_type": "stream",
     "text": [
      "Epoch 455: 272batch [00:21, 12.64batch/s, loss=793]\n"
     ]
    },
    {
     "name": "stdout",
     "output_type": "stream",
     "text": [
      "epoch 455: avg train loss 763.64, bar train loss 1.687, len train loss 0.020, col train loss 132.128\n",
      "epoch 455: avg test  loss 833.94, bar  test loss 2.085, len  test loss 0.026, col  test loss 144.576\n"
     ]
    },
    {
     "name": "stderr",
     "output_type": "stream",
     "text": [
      "Epoch 456: 272batch [00:24, 11.12batch/s, loss=685]\n"
     ]
    },
    {
     "name": "stdout",
     "output_type": "stream",
     "text": [
      "epoch 456: avg train loss 763.54, bar train loss 1.686, len train loss 0.020, col train loss 132.100\n"
     ]
    },
    {
     "name": "stderr",
     "output_type": "stream",
     "text": [
      "Epoch 457: 0batch [00:00, ?batch/s, loss=752]"
     ]
    },
    {
     "name": "stdout",
     "output_type": "stream",
     "text": [
      "epoch 456: avg test  loss 833.75, bar  test loss 2.082, len  test loss 0.026, col  test loss 144.608\n"
     ]
    },
    {
     "name": "stderr",
     "output_type": "stream",
     "text": [
      "Epoch 457: 272batch [00:22, 12.08batch/s, loss=752]\n"
     ]
    },
    {
     "name": "stdout",
     "output_type": "stream",
     "text": [
      "epoch 457: avg train loss 763.44, bar train loss 1.685, len train loss 0.020, col train loss 132.080\n"
     ]
    },
    {
     "name": "stderr",
     "output_type": "stream",
     "text": [
      "Epoch 458: 2batch [00:00, 13.24batch/s, loss=744]"
     ]
    },
    {
     "name": "stdout",
     "output_type": "stream",
     "text": [
      "epoch 457: avg test  loss 833.30, bar  test loss 2.093, len  test loss 0.026, col  test loss 144.519\n"
     ]
    },
    {
     "name": "stderr",
     "output_type": "stream",
     "text": [
      "Epoch 458: 272batch [00:21, 12.70batch/s, loss=740]\n"
     ]
    },
    {
     "name": "stdout",
     "output_type": "stream",
     "text": [
      "epoch 458: avg train loss 763.46, bar train loss 1.687, len train loss 0.020, col train loss 132.067\n"
     ]
    },
    {
     "name": "stderr",
     "output_type": "stream",
     "text": [
      "Epoch 459: 2batch [00:00, 12.86batch/s, loss=787]"
     ]
    },
    {
     "name": "stdout",
     "output_type": "stream",
     "text": [
      "epoch 458: avg test  loss 833.53, bar  test loss 2.088, len  test loss 0.026, col  test loss 144.566\n"
     ]
    },
    {
     "name": "stderr",
     "output_type": "stream",
     "text": [
      "Epoch 459: 272batch [00:21, 12.72batch/s, loss=742]\n"
     ]
    },
    {
     "name": "stdout",
     "output_type": "stream",
     "text": [
      "epoch 459: avg train loss 763.24, bar train loss 1.684, len train loss 0.020, col train loss 132.037\n"
     ]
    },
    {
     "name": "stderr",
     "output_type": "stream",
     "text": [
      "Epoch 460: 2batch [00:00, 12.58batch/s, loss=774]"
     ]
    },
    {
     "name": "stdout",
     "output_type": "stream",
     "text": [
      "epoch 459: avg test  loss 833.63, bar  test loss 2.080, len  test loss 0.027, col  test loss 144.674\n"
     ]
    },
    {
     "name": "stderr",
     "output_type": "stream",
     "text": [
      "Epoch 460: 272batch [00:21, 12.63batch/s, loss=785]\n"
     ]
    },
    {
     "name": "stdout",
     "output_type": "stream",
     "text": [
      "epoch 460: avg train loss 762.99, bar train loss 1.683, len train loss 0.020, col train loss 131.982\n",
      "epoch 460: avg test  loss 834.03, bar  test loss 2.082, len  test loss 0.025, col  test loss 144.554\n"
     ]
    },
    {
     "name": "stderr",
     "output_type": "stream",
     "text": [
      "Epoch 461: 272batch [00:22, 12.22batch/s, loss=780]\n"
     ]
    },
    {
     "name": "stdout",
     "output_type": "stream",
     "text": [
      "epoch 461: avg train loss 762.74, bar train loss 1.681, len train loss 0.020, col train loss 131.923\n"
     ]
    },
    {
     "name": "stderr",
     "output_type": "stream",
     "text": [
      "Epoch 462: 2batch [00:00, 12.50batch/s, loss=758]"
     ]
    },
    {
     "name": "stdout",
     "output_type": "stream",
     "text": [
      "epoch 461: avg test  loss 833.80, bar  test loss 2.101, len  test loss 0.026, col  test loss 144.609\n"
     ]
    },
    {
     "name": "stderr",
     "output_type": "stream",
     "text": [
      "Epoch 462: 272batch [00:21, 12.70batch/s, loss=797]\n"
     ]
    },
    {
     "name": "stdout",
     "output_type": "stream",
     "text": [
      "epoch 462: avg train loss 762.51, bar train loss 1.680, len train loss 0.020, col train loss 131.892\n"
     ]
    },
    {
     "name": "stderr",
     "output_type": "stream",
     "text": [
      "Epoch 463: 0batch [00:00, ?batch/s, loss=757]"
     ]
    },
    {
     "name": "stdout",
     "output_type": "stream",
     "text": [
      "epoch 462: avg test  loss 834.03, bar  test loss 2.090, len  test loss 0.026, col  test loss 144.501\n"
     ]
    },
    {
     "name": "stderr",
     "output_type": "stream",
     "text": [
      "Epoch 463: 272batch [00:21, 12.68batch/s, loss=712]\n"
     ]
    },
    {
     "name": "stdout",
     "output_type": "stream",
     "text": [
      "epoch 463: avg train loss 762.40, bar train loss 1.676, len train loss 0.020, col train loss 131.862\n"
     ]
    },
    {
     "name": "stderr",
     "output_type": "stream",
     "text": [
      "Epoch 464: 2batch [00:00, 12.99batch/s, loss=756]"
     ]
    },
    {
     "name": "stdout",
     "output_type": "stream",
     "text": [
      "epoch 463: avg test  loss 833.23, bar  test loss 2.094, len  test loss 0.025, col  test loss 144.515\n"
     ]
    },
    {
     "name": "stderr",
     "output_type": "stream",
     "text": [
      "Epoch 464: 272batch [00:21, 12.40batch/s, loss=741]\n"
     ]
    },
    {
     "name": "stdout",
     "output_type": "stream",
     "text": [
      "epoch 464: avg train loss 762.18, bar train loss 1.678, len train loss 0.020, col train loss 131.797\n"
     ]
    },
    {
     "name": "stderr",
     "output_type": "stream",
     "text": [
      "Epoch 465: 2batch [00:00, 13.07batch/s, loss=763]"
     ]
    },
    {
     "name": "stdout",
     "output_type": "stream",
     "text": [
      "epoch 464: avg test  loss 833.48, bar  test loss 2.075, len  test loss 0.025, col  test loss 144.485\n"
     ]
    },
    {
     "name": "stderr",
     "output_type": "stream",
     "text": [
      "Epoch 465: 272batch [00:21, 12.54batch/s, loss=696]\n"
     ]
    },
    {
     "name": "stdout",
     "output_type": "stream",
     "text": [
      "epoch 465: avg train loss 762.00, bar train loss 1.677, len train loss 0.020, col train loss 131.768\n",
      "epoch 465: avg test  loss 833.94, bar  test loss 2.094, len  test loss 0.029, col  test loss 144.600\n"
     ]
    },
    {
     "name": "stderr",
     "output_type": "stream",
     "text": [
      "Epoch 466: 272batch [00:22, 12.19batch/s, loss=743]\n"
     ]
    },
    {
     "name": "stdout",
     "output_type": "stream",
     "text": [
      "epoch 466: avg train loss 761.90, bar train loss 1.672, len train loss 0.020, col train loss 131.765\n"
     ]
    },
    {
     "name": "stderr",
     "output_type": "stream",
     "text": [
      "Epoch 467: 2batch [00:00, 13.16batch/s, loss=734]"
     ]
    },
    {
     "name": "stdout",
     "output_type": "stream",
     "text": [
      "epoch 466: avg test  loss 833.84, bar  test loss 2.076, len  test loss 0.026, col  test loss 144.446\n"
     ]
    },
    {
     "name": "stderr",
     "output_type": "stream",
     "text": [
      "Epoch 467: 272batch [00:22, 12.14batch/s, loss=822]\n"
     ]
    },
    {
     "name": "stdout",
     "output_type": "stream",
     "text": [
      "epoch 467: avg train loss 761.68, bar train loss 1.675, len train loss 0.020, col train loss 131.709\n"
     ]
    },
    {
     "name": "stderr",
     "output_type": "stream",
     "text": [
      "Epoch 468: 2batch [00:00, 12.66batch/s, loss=761]"
     ]
    },
    {
     "name": "stdout",
     "output_type": "stream",
     "text": [
      "epoch 467: avg test  loss 833.45, bar  test loss 2.084, len  test loss 0.026, col  test loss 144.523\n"
     ]
    },
    {
     "name": "stderr",
     "output_type": "stream",
     "text": [
      "Epoch 468: 272batch [00:21, 12.53batch/s, loss=766]\n"
     ]
    },
    {
     "name": "stdout",
     "output_type": "stream",
     "text": [
      "epoch 468: avg train loss 761.58, bar train loss 1.673, len train loss 0.020, col train loss 131.693\n"
     ]
    },
    {
     "name": "stderr",
     "output_type": "stream",
     "text": [
      "Epoch 469: 2batch [00:00, 12.82batch/s, loss=735]"
     ]
    },
    {
     "name": "stdout",
     "output_type": "stream",
     "text": [
      "epoch 468: avg test  loss 833.82, bar  test loss 2.093, len  test loss 0.026, col  test loss 144.518\n"
     ]
    },
    {
     "name": "stderr",
     "output_type": "stream",
     "text": [
      "Epoch 469: 272batch [00:21, 12.65batch/s, loss=739]\n"
     ]
    },
    {
     "name": "stdout",
     "output_type": "stream",
     "text": [
      "epoch 469: avg train loss 761.49, bar train loss 1.671, len train loss 0.020, col train loss 131.657\n"
     ]
    },
    {
     "name": "stderr",
     "output_type": "stream",
     "text": [
      "Epoch 470: 2batch [00:00, 12.74batch/s, loss=773]"
     ]
    },
    {
     "name": "stdout",
     "output_type": "stream",
     "text": [
      "epoch 469: avg test  loss 833.44, bar  test loss 2.090, len  test loss 0.026, col  test loss 144.449\n"
     ]
    },
    {
     "name": "stderr",
     "output_type": "stream",
     "text": [
      "Epoch 470: 272batch [00:21, 12.70batch/s, loss=781]\n"
     ]
    },
    {
     "name": "stdout",
     "output_type": "stream",
     "text": [
      "epoch 470: avg train loss 761.42, bar train loss 1.669, len train loss 0.020, col train loss 131.645\n",
      "epoch 470: avg test  loss 834.08, bar  test loss 2.098, len  test loss 0.031, col  test loss 144.560\n"
     ]
    },
    {
     "name": "stderr",
     "output_type": "stream",
     "text": [
      "Epoch 471: 272batch [00:22, 11.93batch/s, loss=783]\n"
     ]
    },
    {
     "name": "stdout",
     "output_type": "stream",
     "text": [
      "epoch 471: avg train loss 761.08, bar train loss 1.667, len train loss 0.020, col train loss 131.580\n"
     ]
    },
    {
     "name": "stderr",
     "output_type": "stream",
     "text": [
      "Epoch 472: 2batch [00:00, 12.99batch/s, loss=716]"
     ]
    },
    {
     "name": "stdout",
     "output_type": "stream",
     "text": [
      "epoch 471: avg test  loss 833.01, bar  test loss 2.088, len  test loss 0.026, col  test loss 144.482\n"
     ]
    },
    {
     "name": "stderr",
     "output_type": "stream",
     "text": [
      "Epoch 472: 272batch [00:21, 12.43batch/s, loss=780]\n"
     ]
    },
    {
     "name": "stdout",
     "output_type": "stream",
     "text": [
      "epoch 472: avg train loss 760.88, bar train loss 1.668, len train loss 0.020, col train loss 131.535\n"
     ]
    },
    {
     "name": "stderr",
     "output_type": "stream",
     "text": [
      "Epoch 473: 2batch [00:00, 12.58batch/s, loss=767]"
     ]
    },
    {
     "name": "stdout",
     "output_type": "stream",
     "text": [
      "epoch 472: avg test  loss 833.47, bar  test loss 2.075, len  test loss 0.026, col  test loss 144.446\n"
     ]
    },
    {
     "name": "stderr",
     "output_type": "stream",
     "text": [
      "Epoch 473: 272batch [00:20, 13.39batch/s, loss=759]\n"
     ]
    },
    {
     "name": "stdout",
     "output_type": "stream",
     "text": [
      "epoch 473: avg train loss 760.88, bar train loss 1.666, len train loss 0.020, col train loss 131.526\n"
     ]
    },
    {
     "name": "stderr",
     "output_type": "stream",
     "text": [
      "Epoch 474: 2batch [00:00, 12.35batch/s, loss=784]"
     ]
    },
    {
     "name": "stdout",
     "output_type": "stream",
     "text": [
      "epoch 473: avg test  loss 833.52, bar  test loss 2.081, len  test loss 0.027, col  test loss 144.482\n"
     ]
    },
    {
     "name": "stderr",
     "output_type": "stream",
     "text": [
      "Epoch 474: 272batch [00:21, 12.49batch/s, loss=743]\n"
     ]
    },
    {
     "name": "stdout",
     "output_type": "stream",
     "text": [
      "epoch 474: avg train loss 760.79, bar train loss 1.664, len train loss 0.020, col train loss 131.518\n"
     ]
    },
    {
     "name": "stderr",
     "output_type": "stream",
     "text": [
      "Epoch 475: 2batch [00:00, 12.20batch/s, loss=756]"
     ]
    },
    {
     "name": "stdout",
     "output_type": "stream",
     "text": [
      "epoch 474: avg test  loss 833.24, bar  test loss 2.075, len  test loss 0.026, col  test loss 144.472\n"
     ]
    },
    {
     "name": "stderr",
     "output_type": "stream",
     "text": [
      "Epoch 475: 272batch [00:21, 12.61batch/s, loss=686]\n"
     ]
    },
    {
     "name": "stdout",
     "output_type": "stream",
     "text": [
      "epoch 475: avg train loss 760.44, bar train loss 1.664, len train loss 0.020, col train loss 131.446\n",
      "epoch 475: avg test  loss 833.65, bar  test loss 2.084, len  test loss 0.026, col  test loss 144.451\n"
     ]
    },
    {
     "name": "stderr",
     "output_type": "stream",
     "text": [
      "Epoch 476: 272batch [00:22, 12.11batch/s, loss=738]\n"
     ]
    },
    {
     "name": "stdout",
     "output_type": "stream",
     "text": [
      "epoch 476: avg train loss 760.41, bar train loss 1.664, len train loss 0.020, col train loss 131.422\n"
     ]
    },
    {
     "name": "stderr",
     "output_type": "stream",
     "text": [
      "Epoch 477: 2batch [00:00, 12.12batch/s, loss=783]"
     ]
    },
    {
     "name": "stdout",
     "output_type": "stream",
     "text": [
      "epoch 476: avg test  loss 833.84, bar  test loss 2.083, len  test loss 0.026, col  test loss 144.524\n"
     ]
    },
    {
     "name": "stderr",
     "output_type": "stream",
     "text": [
      "Epoch 477: 272batch [00:22, 12.04batch/s, loss=697]\n"
     ]
    },
    {
     "name": "stdout",
     "output_type": "stream",
     "text": [
      "epoch 477: avg train loss 760.17, bar train loss 1.662, len train loss 0.020, col train loss 131.385\n"
     ]
    },
    {
     "name": "stderr",
     "output_type": "stream",
     "text": [
      "Epoch 478: 2batch [00:00, 12.20batch/s, loss=753]"
     ]
    },
    {
     "name": "stdout",
     "output_type": "stream",
     "text": [
      "epoch 477: avg test  loss 833.69, bar  test loss 2.077, len  test loss 0.027, col  test loss 144.492\n"
     ]
    },
    {
     "name": "stderr",
     "output_type": "stream",
     "text": [
      "Epoch 478: 272batch [00:21, 12.50batch/s, loss=712]\n"
     ]
    },
    {
     "name": "stdout",
     "output_type": "stream",
     "text": [
      "epoch 478: avg train loss 760.19, bar train loss 1.662, len train loss 0.020, col train loss 131.388\n"
     ]
    },
    {
     "name": "stderr",
     "output_type": "stream",
     "text": [
      "Epoch 479: 0batch [00:00, ?batch/s, loss=743]"
     ]
    },
    {
     "name": "stdout",
     "output_type": "stream",
     "text": [
      "epoch 478: avg test  loss 833.69, bar  test loss 2.104, len  test loss 0.028, col  test loss 144.503\n"
     ]
    },
    {
     "name": "stderr",
     "output_type": "stream",
     "text": [
      "Epoch 479: 272batch [00:22, 12.12batch/s, loss=756]\n"
     ]
    },
    {
     "name": "stdout",
     "output_type": "stream",
     "text": [
      "epoch 479: avg train loss 759.91, bar train loss 1.661, len train loss 0.020, col train loss 131.323\n"
     ]
    },
    {
     "name": "stderr",
     "output_type": "stream",
     "text": [
      "Epoch 480: 2batch [00:00, 12.66batch/s, loss=781]"
     ]
    },
    {
     "name": "stdout",
     "output_type": "stream",
     "text": [
      "epoch 479: avg test  loss 833.80, bar  test loss 2.079, len  test loss 0.026, col  test loss 144.527\n"
     ]
    },
    {
     "name": "stderr",
     "output_type": "stream",
     "text": [
      "Epoch 480: 272batch [00:21, 12.61batch/s, loss=770]\n"
     ]
    },
    {
     "name": "stdout",
     "output_type": "stream",
     "text": [
      "epoch 480: avg train loss 759.73, bar train loss 1.658, len train loss 0.020, col train loss 131.311\n",
      "epoch 480: avg test  loss 833.58, bar  test loss 2.099, len  test loss 0.027, col  test loss 144.449\n"
     ]
    },
    {
     "name": "stderr",
     "output_type": "stream",
     "text": [
      "Epoch 481: 272batch [00:21, 12.78batch/s, loss=747]\n"
     ]
    },
    {
     "name": "stdout",
     "output_type": "stream",
     "text": [
      "epoch 481: avg train loss 759.60, bar train loss 1.657, len train loss 0.020, col train loss 131.264\n"
     ]
    },
    {
     "name": "stderr",
     "output_type": "stream",
     "text": [
      "Epoch 482: 2batch [00:00, 13.07batch/s, loss=764]"
     ]
    },
    {
     "name": "stdout",
     "output_type": "stream",
     "text": [
      "epoch 481: avg test  loss 833.54, bar  test loss 2.080, len  test loss 0.028, col  test loss 144.478\n"
     ]
    },
    {
     "name": "stderr",
     "output_type": "stream",
     "text": [
      "Epoch 482: 272batch [00:20, 13.50batch/s, loss=725]\n"
     ]
    },
    {
     "name": "stdout",
     "output_type": "stream",
     "text": [
      "epoch 482: avg train loss 759.42, bar train loss 1.656, len train loss 0.020, col train loss 131.236\n"
     ]
    },
    {
     "name": "stderr",
     "output_type": "stream",
     "text": [
      "Epoch 483: 2batch [00:00, 13.42batch/s, loss=794]"
     ]
    },
    {
     "name": "stdout",
     "output_type": "stream",
     "text": [
      "epoch 482: avg test  loss 833.69, bar  test loss 2.076, len  test loss 0.026, col  test loss 144.356\n"
     ]
    },
    {
     "name": "stderr",
     "output_type": "stream",
     "text": [
      "Epoch 483: 272batch [00:20, 13.55batch/s, loss=777]\n"
     ]
    },
    {
     "name": "stdout",
     "output_type": "stream",
     "text": [
      "epoch 483: avg train loss 759.42, bar train loss 1.657, len train loss 0.019, col train loss 131.208\n"
     ]
    },
    {
     "name": "stderr",
     "output_type": "stream",
     "text": [
      "Epoch 484: 2batch [00:00, 12.90batch/s, loss=765]"
     ]
    },
    {
     "name": "stdout",
     "output_type": "stream",
     "text": [
      "epoch 483: avg test  loss 833.93, bar  test loss 2.115, len  test loss 0.032, col  test loss 144.438\n"
     ]
    },
    {
     "name": "stderr",
     "output_type": "stream",
     "text": [
      "Epoch 484: 272batch [00:19, 13.93batch/s, loss=704]\n"
     ]
    },
    {
     "name": "stdout",
     "output_type": "stream",
     "text": [
      "epoch 484: avg train loss 759.11, bar train loss 1.654, len train loss 0.020, col train loss 131.174\n"
     ]
    },
    {
     "name": "stderr",
     "output_type": "stream",
     "text": [
      "Epoch 485: 2batch [00:00, 13.16batch/s, loss=734]"
     ]
    },
    {
     "name": "stdout",
     "output_type": "stream",
     "text": [
      "epoch 484: avg test  loss 833.34, bar  test loss 2.087, len  test loss 0.026, col  test loss 144.524\n"
     ]
    },
    {
     "name": "stderr",
     "output_type": "stream",
     "text": [
      "Epoch 485: 272batch [00:19, 13.90batch/s, loss=736]\n"
     ]
    },
    {
     "name": "stdout",
     "output_type": "stream",
     "text": [
      "epoch 485: avg train loss 758.92, bar train loss 1.656, len train loss 0.020, col train loss 131.143\n",
      "epoch 485: avg test  loss 833.61, bar  test loss 2.085, len  test loss 0.027, col  test loss 144.496\n"
     ]
    },
    {
     "name": "stderr",
     "output_type": "stream",
     "text": [
      "Epoch 486: 272batch [00:22, 12.01batch/s, loss=823]\n"
     ]
    },
    {
     "name": "stdout",
     "output_type": "stream",
     "text": [
      "epoch 486: avg train loss 758.99, bar train loss 1.655, len train loss 0.020, col train loss 131.126\n"
     ]
    },
    {
     "name": "stderr",
     "output_type": "stream",
     "text": [
      "Epoch 487: 2batch [00:00, 12.42batch/s, loss=726]"
     ]
    },
    {
     "name": "stdout",
     "output_type": "stream",
     "text": [
      "epoch 486: avg test  loss 833.03, bar  test loss 2.093, len  test loss 0.028, col  test loss 144.443\n"
     ]
    },
    {
     "name": "stderr",
     "output_type": "stream",
     "text": [
      "Epoch 487: 272batch [00:21, 12.62batch/s, loss=767]\n"
     ]
    },
    {
     "name": "stdout",
     "output_type": "stream",
     "text": [
      "epoch 487: avg train loss 758.69, bar train loss 1.650, len train loss 0.020, col train loss 131.084\n"
     ]
    },
    {
     "name": "stderr",
     "output_type": "stream",
     "text": [
      "Epoch 488: 2batch [00:00, 12.82batch/s, loss=759]"
     ]
    },
    {
     "name": "stdout",
     "output_type": "stream",
     "text": [
      "epoch 487: avg test  loss 833.22, bar  test loss 2.073, len  test loss 0.026, col  test loss 144.422\n"
     ]
    },
    {
     "name": "stderr",
     "output_type": "stream",
     "text": [
      "Epoch 488: 272batch [00:21, 12.52batch/s, loss=787]\n"
     ]
    },
    {
     "name": "stdout",
     "output_type": "stream",
     "text": [
      "epoch 488: avg train loss 758.58, bar train loss 1.651, len train loss 0.020, col train loss 131.045\n"
     ]
    },
    {
     "name": "stderr",
     "output_type": "stream",
     "text": [
      "Epoch 489: 2batch [00:00, 12.90batch/s, loss=777]"
     ]
    },
    {
     "name": "stdout",
     "output_type": "stream",
     "text": [
      "epoch 488: avg test  loss 833.55, bar  test loss 2.082, len  test loss 0.029, col  test loss 144.371\n"
     ]
    },
    {
     "name": "stderr",
     "output_type": "stream",
     "text": [
      "Epoch 489: 272batch [00:21, 12.51batch/s, loss=784]\n"
     ]
    },
    {
     "name": "stdout",
     "output_type": "stream",
     "text": [
      "epoch 489: avg train loss 758.39, bar train loss 1.648, len train loss 0.020, col train loss 131.026\n"
     ]
    },
    {
     "name": "stderr",
     "output_type": "stream",
     "text": [
      "Epoch 490: 2batch [00:00, 12.35batch/s, loss=791]"
     ]
    },
    {
     "name": "stdout",
     "output_type": "stream",
     "text": [
      "epoch 489: avg test  loss 833.80, bar  test loss 2.084, len  test loss 0.028, col  test loss 144.350\n"
     ]
    },
    {
     "name": "stderr",
     "output_type": "stream",
     "text": [
      "Epoch 490: 272batch [00:21, 12.37batch/s, loss=766]\n"
     ]
    },
    {
     "name": "stdout",
     "output_type": "stream",
     "text": [
      "epoch 490: avg train loss 758.45, bar train loss 1.651, len train loss 0.020, col train loss 131.003\n",
      "epoch 490: avg test  loss 833.85, bar  test loss 2.076, len  test loss 0.025, col  test loss 144.362\n"
     ]
    },
    {
     "name": "stderr",
     "output_type": "stream",
     "text": [
      "Epoch 491: 272batch [00:23, 11.75batch/s, loss=751]\n"
     ]
    },
    {
     "name": "stdout",
     "output_type": "stream",
     "text": [
      "epoch 491: avg train loss 758.26, bar train loss 1.650, len train loss 0.019, col train loss 130.965\n"
     ]
    },
    {
     "name": "stderr",
     "output_type": "stream",
     "text": [
      "Epoch 492: 2batch [00:00, 12.50batch/s, loss=750]"
     ]
    },
    {
     "name": "stdout",
     "output_type": "stream",
     "text": [
      "epoch 491: avg test  loss 833.53, bar  test loss 2.077, len  test loss 0.027, col  test loss 144.399\n"
     ]
    },
    {
     "name": "stderr",
     "output_type": "stream",
     "text": [
      "Epoch 492: 272batch [00:22, 12.08batch/s, loss=779]\n"
     ]
    },
    {
     "name": "stdout",
     "output_type": "stream",
     "text": [
      "epoch 492: avg train loss 758.05, bar train loss 1.647, len train loss 0.020, col train loss 130.927\n"
     ]
    },
    {
     "name": "stderr",
     "output_type": "stream",
     "text": [
      "Epoch 493: 2batch [00:00, 11.56batch/s, loss=752]"
     ]
    },
    {
     "name": "stdout",
     "output_type": "stream",
     "text": [
      "epoch 492: avg test  loss 833.62, bar  test loss 2.072, len  test loss 0.027, col  test loss 144.403\n"
     ]
    },
    {
     "name": "stderr",
     "output_type": "stream",
     "text": [
      "Epoch 493: 272batch [00:22, 12.27batch/s, loss=823]\n"
     ]
    },
    {
     "name": "stdout",
     "output_type": "stream",
     "text": [
      "epoch 493: avg train loss 757.87, bar train loss 1.647, len train loss 0.020, col train loss 130.910\n"
     ]
    },
    {
     "name": "stderr",
     "output_type": "stream",
     "text": [
      "\r",
      "Epoch 494: 0batch [00:00, ?batch/s]"
     ]
    },
    {
     "name": "stdout",
     "output_type": "stream",
     "text": [
      "epoch 493: avg test  loss 834.27, bar  test loss 2.079, len  test loss 0.026, col  test loss 144.338\n"
     ]
    },
    {
     "name": "stderr",
     "output_type": "stream",
     "text": [
      "Epoch 494: 272batch [00:24, 11.03batch/s, loss=773]\n"
     ]
    },
    {
     "name": "stdout",
     "output_type": "stream",
     "text": [
      "epoch 494: avg train loss 757.75, bar train loss 1.643, len train loss 0.020, col train loss 130.864\n"
     ]
    },
    {
     "name": "stderr",
     "output_type": "stream",
     "text": [
      "Epoch 495: 2batch [00:00, 12.12batch/s, loss=760]"
     ]
    },
    {
     "name": "stdout",
     "output_type": "stream",
     "text": [
      "epoch 494: avg test  loss 833.55, bar  test loss 2.081, len  test loss 0.027, col  test loss 144.417\n"
     ]
    },
    {
     "name": "stderr",
     "output_type": "stream",
     "text": [
      "Epoch 495: 272batch [00:22, 11.87batch/s, loss=700]\n"
     ]
    },
    {
     "name": "stdout",
     "output_type": "stream",
     "text": [
      "epoch 495: avg train loss 757.55, bar train loss 1.643, len train loss 0.019, col train loss 130.845\n",
      "epoch 495: avg test  loss 833.40, bar  test loss 2.074, len  test loss 0.026, col  test loss 144.417\n"
     ]
    },
    {
     "name": "stderr",
     "output_type": "stream",
     "text": [
      "Epoch 496: 272batch [00:23, 11.78batch/s, loss=827]\n"
     ]
    },
    {
     "name": "stdout",
     "output_type": "stream",
     "text": [
      "epoch 496: avg train loss 757.58, bar train loss 1.643, len train loss 0.020, col train loss 130.827\n"
     ]
    },
    {
     "name": "stderr",
     "output_type": "stream",
     "text": [
      "Epoch 497: 2batch [00:00, 12.20batch/s, loss=779]"
     ]
    },
    {
     "name": "stdout",
     "output_type": "stream",
     "text": [
      "epoch 496: avg test  loss 833.58, bar  test loss 2.078, len  test loss 0.026, col  test loss 144.320\n"
     ]
    },
    {
     "name": "stderr",
     "output_type": "stream",
     "text": [
      "Epoch 497: 272batch [00:22, 12.26batch/s, loss=766]\n"
     ]
    },
    {
     "name": "stdout",
     "output_type": "stream",
     "text": [
      "epoch 497: avg train loss 757.43, bar train loss 1.643, len train loss 0.020, col train loss 130.794\n"
     ]
    },
    {
     "name": "stderr",
     "output_type": "stream",
     "text": [
      "Epoch 498: 2batch [00:00, 12.50batch/s, loss=742]"
     ]
    },
    {
     "name": "stdout",
     "output_type": "stream",
     "text": [
      "epoch 497: avg test  loss 833.79, bar  test loss 2.072, len  test loss 0.028, col  test loss 144.453\n"
     ]
    },
    {
     "name": "stderr",
     "output_type": "stream",
     "text": [
      "Epoch 498: 272batch [00:22, 12.00batch/s, loss=863]\n"
     ]
    },
    {
     "name": "stdout",
     "output_type": "stream",
     "text": [
      "epoch 498: avg train loss 757.15, bar train loss 1.644, len train loss 0.020, col train loss 130.729\n"
     ]
    },
    {
     "name": "stderr",
     "output_type": "stream",
     "text": [
      "Epoch 499: 2batch [00:00, 12.20batch/s, loss=750]"
     ]
    },
    {
     "name": "stdout",
     "output_type": "stream",
     "text": [
      "epoch 498: avg test  loss 833.58, bar  test loss 2.083, len  test loss 0.030, col  test loss 144.425\n"
     ]
    },
    {
     "name": "stderr",
     "output_type": "stream",
     "text": [
      "Epoch 499: 272batch [00:22, 12.24batch/s, loss=771]\n"
     ]
    },
    {
     "name": "stdout",
     "output_type": "stream",
     "text": [
      "epoch 499: avg train loss 757.08, bar train loss 1.639, len train loss 0.019, col train loss 130.715\n"
     ]
    },
    {
     "name": "stderr",
     "output_type": "stream",
     "text": [
      "\r",
      "Epoch 500: 0batch [00:00, ?batch/s]"
     ]
    },
    {
     "name": "stdout",
     "output_type": "stream",
     "text": [
      "epoch 499: avg test  loss 833.73, bar  test loss 2.080, len  test loss 0.025, col  test loss 144.371\n"
     ]
    },
    {
     "name": "stderr",
     "output_type": "stream",
     "text": [
      "Epoch 500: 272batch [00:22, 12.16batch/s, loss=803]\n"
     ]
    },
    {
     "name": "stdout",
     "output_type": "stream",
     "text": [
      "epoch 500: avg train loss 756.87, bar train loss 1.638, len train loss 0.019, col train loss 130.700\n",
      "epoch 500: avg test  loss 833.94, bar  test loss 2.074, len  test loss 0.025, col  test loss 144.305\n"
     ]
    }
   ],
   "source": [
    "lss, lss_t = train(default_args, train_loader, test_loader, diva, optimizer, 500, 5, save_folder=\"VAEFC\",save_interval=5)"
   ]
  },
  {
   "cell_type": "code",
   "execution_count": null,
   "metadata": {
    "colab": {
     "base_uri": "https://localhost:8080/",
     "height": 1000
    },
    "executionInfo": {
     "elapsed": 4182003,
     "status": "ok",
     "timestamp": 1647010362327,
     "user": {
      "displayName": "Marko Petkovic",
      "photoUrl": "https://lh3.googleusercontent.com/a-/AOh14Gijd0e9r3I1vRZVN6DEwl16XpJxxS1oSAKunOnfZQ=s64",
      "userId": "11987583535390684770"
     },
     "user_tz": -60
    },
    "id": "NprX9l7G73MJ",
    "outputId": "e970b2ef-1d7d-4702-dd1f-3bb4b59c0326"
   },
   "outputs": [],
   "source": [
    "lss2, lss_t2 = train(default_args, train_loader, test_loader, diva, optimizer, 1000, 500, save_folder=\"VAEFC\")"
   ]
  },
  {
   "cell_type": "code",
   "execution_count": null,
   "metadata": {},
   "outputs": [],
   "source": [
    "lss, lss_t = train(default_args, train_loader, test_loader, diva, optimizer, 5600, 2200, save_folder=\"VAE4\")"
   ]
  },
  {
   "cell_type": "code",
   "execution_count": null,
   "metadata": {
    "id": "c4r_UyPUGXqT"
   },
   "outputs": [],
   "source": [
    "def plot_loss_acc(lss, lss_t):\n",
    "    fig,ax = plt.subplots()\n",
    "    ax.plot(lss, label=\"train loss\")\n",
    "    ax.plot(lss_t, label = \"test loss\")\n",
    "    #ax1 = ax.twinx()\n",
    "    #ax1.plot(yacc, label = \"train accuracy\", ls='--')\n",
    "    #ax1.plot(yacc_t, label = \"test accuracy\", ls='--')\n",
    "\n",
    "    lines, labels = ax.get_legend_handles_labels()\n",
    "    #lines2, labels2 = ax1.get_legend_handles_labels()\n",
    "\n",
    "    ax.legend(lines, labels)"
   ]
  },
  {
   "cell_type": "code",
   "execution_count": null,
   "metadata": {
    "colab": {
     "base_uri": "https://localhost:8080/",
     "height": 266
    },
    "executionInfo": {
     "elapsed": 857,
     "status": "ok",
     "timestamp": 1645822416415,
     "user": {
      "displayName": "Marko Petkovic",
      "photoUrl": "https://lh3.googleusercontent.com/a-/AOh14Gijd0e9r3I1vRZVN6DEwl16XpJxxS1oSAKunOnfZQ=s64",
      "userId": "11987583535390684770"
     },
     "user_tz": -60
    },
    "id": "fTFZZmoguwtU",
    "outputId": "540c8c1f-99d7-4931-c102-7c96747243aa"
   },
   "outputs": [],
   "source": [
    "plot_loss_acc(lss, lss_t)"
   ]
  },
  {
   "cell_type": "code",
   "execution_count": null,
   "metadata": {
    "colab": {
     "base_uri": "https://localhost:8080/",
     "height": 265
    },
    "executionInfo": {
     "elapsed": 557,
     "status": "ok",
     "timestamp": 1645623855467,
     "user": {
      "displayName": "Marko Petkovic",
      "photoUrl": "https://lh3.googleusercontent.com/a/default-user=s64",
      "userId": "04006351469182865246"
     },
     "user_tz": -60
    },
    "id": "mq2FG26TznE1",
    "outputId": "152eddd3-a440-4b25-c437-498efb0a7ffe"
   },
   "outputs": [],
   "source": [
    "plot_loss_acc(lss3, lss_t3, yacc3, yacc_t3)"
   ]
  },
  {
   "cell_type": "code",
   "execution_count": null,
   "metadata": {
    "id": "9FyP02qPdgso"
   },
   "outputs": [],
   "source": [
    "def plot_change_latent_var(diva, lat_space=\"y\", var_idx=[0,1,2,3,4,5,6,7], step = 5):\n",
    "    a = next(enumerate(test_loader))\n",
    "    with torch.no_grad():\n",
    "        diva.eval()\n",
    "        d = a[1][2][:len(var_idx)].to(DEVICE).float()\n",
    "        x = a[1][0][:len(var_idx)].to(DEVICE).float()\n",
    "        y = a[1][1][:len(var_idx)].to(DEVICE).float()\n",
    "\n",
    "        zx, zx_sc = diva.qzx(x)\n",
    "        zy, zy_sc = diva.qzy(x)\n",
    "        zd, zd_sc =  diva.qzd(x)\n",
    "\n",
    "        print(torch.max(zy), torch.min(zy), \"sdmax:\", torch.max(zy_sc))\n",
    "\n",
    "        out = change(zx, zy, zd, var_idx, lat_space, diva, step)\n",
    "    \n",
    "    fig, ax = plt.subplots(ncols=out.shape[0],nrows=len(var_idx),figsize=(10*4*out.shape[0],10*len(var_idx)))\n",
    "    for i in range(out.shape[0]):\n",
    "      for j in range(len(var_idx)):\n",
    "        ax[j,i].imshow(out[i,j])"
   ]
  },
  {
   "cell_type": "code",
   "execution_count": null,
   "metadata": {
    "id": "x6kJu1APenFe"
   },
   "outputs": [],
   "source": [
    "def change(zx, zy, zd, idx, lat = \"y\", model=diva, step = 2):\n",
    "    \n",
    "    dif = np.arange(-30,15,step)\n",
    "    print(torch.max(zy), torch.min(zy))\n",
    "    out = np.zeros((dif.shape[0], len(idx), 25, 100 ,3))  \n",
    "    #print(zy.shape, dif.shape[0])\n",
    "    for i in range(dif.shape[0]):\n",
    "      for j in range(len(idx)):\n",
    "        if lat == \"y\":\n",
    "            zy[j,idx] = dif[i]\n",
    "        elif lat == \"x\":\n",
    "            zx[j,idx] = dif[i]\n",
    "        elif lat == \"d\":\n",
    "            zd[j,idx] = dif[i]\n",
    "        len_, bar, col = model.px(zd[j],zx[j],zy[j])\n",
    "        out[i,j] = model.px.reconstruct_image(len_[None,:], bar, col)\n",
    "    \n",
    "    return out\n",
    "\n"
   ]
  },
  {
   "cell_type": "code",
   "execution_count": null,
   "metadata": {
    "colab": {
     "base_uri": "https://localhost:8080/",
     "height": 243
    },
    "executionInfo": {
     "elapsed": 33513,
     "status": "ok",
     "timestamp": 1645623900042,
     "user": {
      "displayName": "Marko Petkovic",
      "photoUrl": "https://lh3.googleusercontent.com/a/default-user=s64",
      "userId": "04006351469182865246"
     },
     "user_tz": -60
    },
    "id": "4U1JHmTKh0cE",
    "outputId": "b0a1850e-9f0d-4163-813b-8686f4bb05fc"
   },
   "outputs": [],
   "source": [
    "plot_change_latent_var(diva)"
   ]
  },
  {
   "cell_type": "code",
   "execution_count": null,
   "metadata": {
    "id": "cpZoRZMGHcui"
   },
   "outputs": [],
   "source": [
    "fig,ax = plt.subplots()\n",
    "ax.plot(np.arange(50,120), [i.cpu().detach().numpy() for i in lss2], label=\"train loss\")\n",
    "ax.plot(np.arange(50,120), [i.cpu().detach().numpy() for i in lss_t2], label = \"testloss\")\n",
    "ax1 = ax.twinx()\n",
    "ax1.plot(np.arange(50,120), yacc2, label = \"train\")\n",
    "ax1.plot(np.arange(50,120), yacc_t2, label = \"test\")\n",
    "\n",
    "plt.legend()"
   ]
  },
  {
   "cell_type": "code",
   "execution_count": null,
   "metadata": {
    "colab": {
     "base_uri": "https://localhost:8080/",
     "height": 283
    },
    "executionInfo": {
     "elapsed": 681,
     "status": "ok",
     "timestamp": 1645563980004,
     "user": {
      "displayName": "Marko Petkovic",
      "photoUrl": "https://lh3.googleusercontent.com/a-/AOh14Gijd0e9r3I1vRZVN6DEwl16XpJxxS1oSAKunOnfZQ=s64",
      "userId": "11987583535390684770"
     },
     "user_tz": -60
    },
    "id": "OQMW85JXM6oO",
    "outputId": "dd28a6c2-0024-498e-d571-c705ee67fbd6"
   },
   "outputs": [],
   "source": [
    "fig,ax = plt.subplots()\n",
    "ax.plot(np.arange(120,180), [i.cpu().detach().numpy() for i in lss3], label=\"train loss\")\n",
    "ax.plot(np.arange(120,180), [i.cpu().detach().numpy() for i in lss_t3], label = \"testloss\")\n",
    "ax1 = ax.twinx()\n",
    "ax1.plot(np.arange(120,180), yacc3, label = \"train\",c='green')\n",
    "ax1.plot(np.arange(120,180), yacc_t3, label = \"test\")\n",
    "\n",
    "plt.legend()"
   ]
  },
  {
   "cell_type": "markdown",
   "metadata": {
    "id": "whsgNltzXDhK"
   },
   "source": [
    "# Model Evaluation"
   ]
  },
  {
   "cell_type": "markdown",
   "metadata": {
    "id": "VfcwhSNIjqIE"
   },
   "source": [
    "## Sampling from trained model"
   ]
  },
  {
   "cell_type": "code",
   "execution_count": null,
   "metadata": {
    "id": "4NWGV4Xd7bn8"
   },
   "outputs": [],
   "source": []
  },
  {
   "cell_type": "code",
   "execution_count": null,
   "metadata": {
    "id": "3z5XA4QI1Mb1"
   },
   "outputs": [],
   "source": [
    "def plot_latent_space(lat_space=\"y\"):\n",
    "    '''\n",
    "    lat_space: y, d, x\n",
    "    '''\n",
    "\n",
    "    "
   ]
  },
  {
   "cell_type": "code",
   "execution_count": null,
   "metadata": {
    "colab": {
     "base_uri": "https://localhost:8080/",
     "height": 336
    },
    "executionInfo": {
     "elapsed": 1897,
     "status": "ok",
     "timestamp": 1645556291755,
     "user": {
      "displayName": "Marko Petkovic",
      "photoUrl": "https://lh3.googleusercontent.com/a-/AOh14Gijd0e9r3I1vRZVN6DEwl16XpJxxS1oSAKunOnfZQ=s64",
      "userId": "11987583535390684770"
     },
     "user_tz": -60
    },
    "id": "USZ7nIDugT1S",
    "outputId": "174d53bb-845f-458b-ca85-9d749c9c0865"
   },
   "outputs": [],
   "source": [
    "plot(x, out, 0)"
   ]
  },
  {
   "cell_type": "code",
   "execution_count": null,
   "metadata": {
    "colab": {
     "base_uri": "https://localhost:8080/",
     "height": 230
    },
    "executionInfo": {
     "elapsed": 1646,
     "status": "ok",
     "timestamp": 1645550689935,
     "user": {
      "displayName": "Marko Petkovic",
      "photoUrl": "https://lh3.googleusercontent.com/a-/AOh14Gijd0e9r3I1vRZVN6DEwl16XpJxxS1oSAKunOnfZQ=s64",
      "userId": "11987583535390684770"
     },
     "user_tz": -60
    },
    "id": "OE3qVVFFLaPm",
    "outputId": "93953e16-3bda-464b-b765-3aedb9fbe428"
   },
   "outputs": [],
   "source": [
    "fig, ax = plt.subplots(nrows=3, ncols=3)\n",
    "for i in range(9):\n",
    "  ax[i//3, i%3].imshow(x[i].cpu().permute(1,2,0))\n",
    "  \n",
    "plt.savefig('divastamporg.png')"
   ]
  },
  {
   "cell_type": "code",
   "execution_count": null,
   "metadata": {
    "id": "RRQU05xQEx28"
   },
   "outputs": [],
   "source": []
  }
 ],
 "metadata": {
  "accelerator": "GPU",
  "colab": {
   "collapsed_sections": [],
   "name": "StampVAE (Beta)",
   "provenance": []
  },
  "kernelspec": {
   "display_name": "Python 3",
   "language": "python",
   "name": "python3"
  },
  "language_info": {
   "codemirror_mode": {
    "name": "ipython",
    "version": 3
   },
   "file_extension": ".py",
   "mimetype": "text/x-python",
   "name": "python",
   "nbconvert_exporter": "python",
   "pygments_lexer": "ipython3",
   "version": "3.7.6"
  }
 },
 "nbformat": 4,
 "nbformat_minor": 1
}
