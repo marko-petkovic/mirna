{
 "cells": [
  {
   "cell_type": "code",
   "execution_count": 2,
   "metadata": {
    "executionInfo": {
     "elapsed": 6,
     "status": "ok",
     "timestamp": 1647023261840,
     "user": {
      "displayName": "Marko Petkovic",
      "photoUrl": "https://lh3.googleusercontent.com/a-/AOh14Gijd0e9r3I1vRZVN6DEwl16XpJxxS1oSAKunOnfZQ=s64",
      "userId": "11987583535390684770"
     },
     "user_tz": -60
    },
    "id": "UuXEtFCubCjx"
   },
   "outputs": [],
   "source": [
    "link = 'D:/users/Marko/downloads/mirna/'\n"
   ]
  },
  {
   "cell_type": "markdown",
   "metadata": {
    "id": "MgMR4QspjvRl"
   },
   "source": [
    "# Imports"
   ]
  },
  {
   "cell_type": "code",
   "execution_count": 3,
   "metadata": {
    "executionInfo": {
     "elapsed": 5,
     "status": "ok",
     "timestamp": 1647023261840,
     "user": {
      "displayName": "Marko Petkovic",
      "photoUrl": "https://lh3.googleusercontent.com/a-/AOh14Gijd0e9r3I1vRZVN6DEwl16XpJxxS1oSAKunOnfZQ=s64",
      "userId": "11987583535390684770"
     },
     "user_tz": -60
    },
    "id": "aXljY6Cp4zU-"
   },
   "outputs": [],
   "source": [
    "%load_ext tensorboard"
   ]
  },
  {
   "cell_type": "code",
   "execution_count": null,
   "metadata": {
    "executionInfo": {
     "elapsed": 5,
     "status": "ok",
     "timestamp": 1647023261840,
     "user": {
      "displayName": "Marko Petkovic",
      "photoUrl": "https://lh3.googleusercontent.com/a-/AOh14Gijd0e9r3I1vRZVN6DEwl16XpJxxS1oSAKunOnfZQ=s64",
      "userId": "11987583535390684770"
     },
     "user_tz": -60
    },
    "id": "owW-m-7-QRrV"
   },
   "outputs": [],
   "source": []
  },
  {
   "cell_type": "code",
   "execution_count": 5,
   "metadata": {
    "colab": {
     "base_uri": "https://localhost:8080/"
    },
    "executionInfo": {
     "elapsed": 31000,
     "status": "ok",
     "timestamp": 1647023292835,
     "user": {
      "displayName": "Marko Petkovic",
      "photoUrl": "https://lh3.googleusercontent.com/a-/AOh14Gijd0e9r3I1vRZVN6DEwl16XpJxxS1oSAKunOnfZQ=s64",
      "userId": "11987583535390684770"
     },
     "user_tz": -60
    },
    "id": "VgKU5wNzDK4F",
    "outputId": "2edd95bf-9577-4772-eeca-95c5d32cf026"
   },
   "outputs": [],
   "source": [
    "import sys\n",
    "#sys.path.insert(0,'/content/drive/MyDrive/Marko/master')\n",
    "sys.path.insert(0, link)\n",
    "import numpy as np\n",
    "import matplotlib.pyplot as plt\n",
    "\n",
    "#import tensorflow as tf\n",
    "\n",
    "import torch\n",
    "import torch.optim as optim\n",
    "import torch.nn as nn\n",
    "import torch.distributions as dist\n",
    "\n",
    "from torch.nn import functional as F\n",
    "from torchinfo import summary\n",
    "from torch.utils.tensorboard import SummaryWriter\n",
    "from torch.utils.data import Dataset, DataLoader\n",
    "\n",
    "from sklearn.preprocessing import OneHotEncoder\n",
    "\n",
    "from tqdm import tqdm\n",
    "from tqdm import trange\n",
    "\n",
    "import datetime\n",
    "\n",
    "\n",
    "writer = SummaryWriter(f\"{link}/saved_models/VAE1/tensorboard\")"
   ]
  },
  {
   "cell_type": "code",
   "execution_count": 6,
   "metadata": {
    "executionInfo": {
     "elapsed": 6,
     "status": "ok",
     "timestamp": 1647023292836,
     "user": {
      "displayName": "Marko Petkovic",
      "photoUrl": "https://lh3.googleusercontent.com/a-/AOh14Gijd0e9r3I1vRZVN6DEwl16XpJxxS1oSAKunOnfZQ=s64",
      "userId": "11987583535390684770"
     },
     "user_tz": -60
    },
    "id": "HuLsYxyh6_ZM"
   },
   "outputs": [],
   "source": [
    "DEVICE = torch.device(\"cuda\" if torch.cuda.is_available() else \"cpu\")"
   ]
  },
  {
   "cell_type": "markdown",
   "metadata": {
    "id": "axFkNf0cjx2V"
   },
   "source": [
    "# Model Classes"
   ]
  },
  {
   "cell_type": "code",
   "execution_count": 8,
   "metadata": {
    "executionInfo": {
     "elapsed": 6,
     "status": "ok",
     "timestamp": 1647023292836,
     "user": {
      "displayName": "Marko Petkovic",
      "photoUrl": "https://lh3.googleusercontent.com/a-/AOh14Gijd0e9r3I1vRZVN6DEwl16XpJxxS1oSAKunOnfZQ=s64",
      "userId": "11987583535390684770"
     },
     "user_tz": -60
    },
    "id": "ae7NZhZGj7Zi"
   },
   "outputs": [],
   "source": [
    "class diva_args:\n",
    "\n",
    "    def __init__(self, z_dim=64, d_dim=45, x_dim=7500, y_dim=2,\n",
    "                 beta=10, rec_alpha = 1, rec_beta = 1, \n",
    "                 rec_gamma = 1, warmup = 1, prewarmup = 1):\n",
    "\n",
    "        self.z_dim = z_dim\n",
    "        self.d_dim = d_dim\n",
    "        self.x_dim = x_dim\n",
    "        self.y_dim = y_dim\n",
    "        \n",
    "        self.beta = beta\n",
    "        self.rec_alpha = rec_alpha\n",
    "        self.rec_beta = rec_beta\n",
    "        self.rec_gamma = rec_gamma\n",
    "        self.warmup = warmup\n",
    "        self.prewarmup = prewarmup\n"
   ]
  },
  {
   "cell_type": "markdown",
   "metadata": {
    "id": "tb1vH-a1j7Rf"
   },
   "source": [
    "## Dataset Class"
   ]
  },
  {
   "cell_type": "code",
   "execution_count": 9,
   "metadata": {
    "executionInfo": {
     "elapsed": 328,
     "status": "ok",
     "timestamp": 1647023293159,
     "user": {
      "displayName": "Marko Petkovic",
      "photoUrl": "https://lh3.googleusercontent.com/a-/AOh14Gijd0e9r3I1vRZVN6DEwl16XpJxxS1oSAKunOnfZQ=s64",
      "userId": "11987583535390684770"
     },
     "user_tz": -60
    },
    "id": "D6ouvuZX3WPs"
   },
   "outputs": [],
   "source": [
    "class MicroRNADataset(Dataset):\n",
    "\n",
    "    def __init__(self, ds='train', create_encodings=False):\n",
    "        \n",
    "        # loading images\n",
    "        self.images = np.load(f'{link}/data/modmirbase_{ds}_images.npz')['arr_0']/255\n",
    "        \n",
    "        \n",
    "        # loading labels\n",
    "        print('Loading Labels! (~10s)')     \n",
    "        ohe = OneHotEncoder(categories='auto', sparse=False)\n",
    "        labels = np.load(f'{link}/data/modmirbase_{ds}_labels.npz')['arr_0']\n",
    "        self.labels = ohe.fit_transform(labels)\n",
    "        \n",
    "        # loading encoded images\n",
    "        print(\"loading encodings\")\n",
    "        if create_encodings:\n",
    "            x_len, x_col, x_bar = self.get_encoded_values(self.images, ds)\n",
    "        else:\n",
    "            x_len = np.load(f'{link}/data/modmirbase_{ds}_images_len.npz')\n",
    "            x_bar = np.load(f'{link}/data/modmirbase_{ds}_images_bar.npz')\n",
    "            x_col = np.load(f'{link}/data/modmirbase_{ds}_images_col.npz')\n",
    "        \n",
    "        self.x_len = x_len\n",
    "        self.x_bar = x_bar\n",
    "        self.x_col = x_col\n",
    "        \n",
    "\n",
    "        # loading names\n",
    "        print('Loading Names! (~5s)')\n",
    "        names =  np.load(f'{link}/data/modmirbase_{ds}_names.npz')['arr_0']\n",
    "        names = [i.decode('utf-8') for i in names]\n",
    "        self.species = ['mmu', 'prd', 'hsa', 'ptr', 'efu', 'cbn', 'gma', 'pma',\n",
    "                        'cel', 'gga', 'ipu', 'ptc', 'mdo', 'cgr', 'bta', 'cin', \n",
    "                        'ppy', 'ssc', 'ath', 'cfa', 'osa', 'mtr', 'gra', 'mml',\n",
    "                        'stu', 'bdi', 'rno', 'oan', 'dre', 'aca', 'eca', 'chi',\n",
    "                        'bmo', 'ggo', 'aly', 'dps', 'mdm', 'ame', 'ppc', 'ssa',\n",
    "                        'ppt', 'tca', 'dme', 'sbi']\n",
    "        # assigning a species label to each observation from species\n",
    "        # with more than 200 observations from past research\n",
    "        self.names = []\n",
    "        for i in names:\n",
    "            append = False\n",
    "            for j in self.species:\n",
    "                if j in i.lower():\n",
    "                    self.names.append(j)\n",
    "                    append = True\n",
    "                    break\n",
    "            if not append:\n",
    "                if 'random' in i.lower() or i.isdigit():\n",
    "                    self.names.append('hsa')\n",
    "                else:\n",
    "                    self.names.append('notfound')\n",
    "        \n",
    "        # performing one hot encoding\n",
    "        ohe = OneHotEncoder(categories='auto', sparse=False)\n",
    "        self.names_ohe = ohe.fit_transform(np.array(self.names).reshape(-1,1))\n",
    "      \n",
    "    def __len__(self):\n",
    "        return(self.images.shape[0])\n",
    "\n",
    "    def __getitem__(self, idx):\n",
    "        d = self.names_ohe[idx]\n",
    "        y = self.labels[idx]\n",
    "        x = self.images[idx]\n",
    "        x = np.transpose(x, (2,0,1))\n",
    "        x_len = self.x_len[idx]\n",
    "        x_col = self.x_col[idx]\n",
    "        x_bar = self.x_bar[idx]\n",
    "        return (x, y, d, x_len, x_col, x_bar)\n",
    "\n",
    "\n",
    "    def get_encoded_values(self, x, ds):\n",
    "        \"\"\"\n",
    "        given an image or batch of images\n",
    "        returns length of strand, length of bars and colors of bars\n",
    "        \"\"\"\n",
    "        n = x.shape[0]\n",
    "        print(x.shape, \"x\")\n",
    "        x = np.transpose(x, (0,3,1,2))\n",
    "        out_len = np.zeros((n,100), dtype=np.uint8)\n",
    "        out_col = np.zeros((n,5,200), dtype=np.uint8)\n",
    "        out_bar = np.zeros((n,13,200), dtype=np.uint8)\n",
    "\n",
    "        for i in range(n):\n",
    "            if i % 100 == 0:\n",
    "                print(f'at {i} out of {n}')\n",
    "            rna_len = 0\n",
    "            for j in range(100):\n",
    "                #print(x[i,:,12,j])\n",
    "                if (x[i,:,12,j] == np.array([1,1,1])).all():\n",
    "                    out_len[i,rna_len-1] = 1\n",
    "                    break\n",
    "                else:\n",
    "                    rna_len += 1\n",
    "                    # check color of bars\n",
    "                    out_col[i, self.get_color(x[i,:,12,j]) ,2*j] = 1 \n",
    "                    out_col[i, self.get_color(x[i,:,13,j]), 2*j+1] = 1\n",
    "                    # check length of bars\n",
    "                    len1 = 0\n",
    "                    # loop until white pixel\n",
    "                    while not (x[i,:,12-len1,j] == np.array([1.,1.,1.])).all():\n",
    "                        len1 += 1\n",
    "                        if 13-len1 == 0:\n",
    "                            break\n",
    "                    out_bar[i, len1-1, 2*j] = 1\n",
    "\n",
    "                    len2 = 0\n",
    "                    while not (x[i,:,13+len2,j] == np.array([1.,1.,1.])).all():\n",
    "                        len2 += 1\n",
    "                        if 13+len2 == 25:\n",
    "                            break\n",
    "                    out_bar[i, len2-1, 2*j+1] = 1\n",
    "\n",
    "\n",
    "        with open(f'{link}/data/modmirbase_{ds}_images_len.npz', 'wb') as f:\n",
    "            np.save(f, out_len)\n",
    "        with open(f'{link}/data/modmirbase_{ds}_images_col.npz', 'wb') as f:\n",
    "            np.save(f, out_col)\n",
    "        with open(f'{link}/data/modmirbase_{ds}_images_bar.npz', 'wb') as f:\n",
    "            np.save(f, out_bar)\n",
    "        \n",
    "\n",
    "        return out_len, out_bar, out_col\n",
    "\n",
    "    def get_color(self, pixel):\n",
    "        \"\"\"\n",
    "        returns the encoded value for a pixel\n",
    "        \"\"\"\n",
    "        if (pixel == np.array([0,0,0])).all():  \n",
    "            return 0 # black\n",
    "        elif (pixel == np.array([1,0,0])).all():  \n",
    "            return 1 # red\n",
    "        elif (pixel == np.array([0,0,1])).all():  \n",
    "            return 2 # blue\n",
    "        elif (pixel == np.array([0,1,0])).all():  \n",
    "            return 3 # green\n",
    "        elif (pixel == np.array([1,1,0])).all():  \n",
    "            return 4 # yellow\n",
    "        else:\n",
    "            print(\"Something wrong!\")\n"
   ]
  },
  {
   "cell_type": "markdown",
   "metadata": {
    "id": "Xxj-WGXMj-Ne"
   },
   "source": [
    "## Decoder classes"
   ]
  },
  {
   "cell_type": "code",
   "execution_count": 10,
   "metadata": {
    "executionInfo": {
     "elapsed": 5,
     "status": "ok",
     "timestamp": 1647023293160,
     "user": {
      "displayName": "Marko Petkovic",
      "photoUrl": "https://lh3.googleusercontent.com/a-/AOh14Gijd0e9r3I1vRZVN6DEwl16XpJxxS1oSAKunOnfZQ=s64",
      "userId": "11987583535390684770"
     },
     "user_tz": -60
    },
    "id": "RKizJuchX9uG"
   },
   "outputs": [],
   "source": [
    "# Decoders\n",
    "class px(nn.Module):\n",
    "    def __init__(self, d_dim, x_dim, y_dim, z_dim):\n",
    "        super(px, self).__init__()\n",
    "\n",
    "        self.fc1 = nn.Sequential(nn.Linear(z_dim, 200, bias=False),  \n",
    "                                 nn.ReLU())\n",
    "        \n",
    "        # Predicting length and color of each bar\n",
    "        self.up1 = nn.Upsample(scale_factor=5)\n",
    "        self.de1 = nn.Sequential(nn.ConvTranspose1d(5,25,kernel_size = 5,\n",
    "                                                    stride = 1, padding = 2,\n",
    "                                                    bias=False),\n",
    "                                 nn.ReLU()\n",
    "                                 )\n",
    "        # Predicting color of each bar\n",
    "        self.color_bar = nn.Sequential(nn.Conv1d(25,5, kernel_size = 3, padding = 'same'),\n",
    "                                      nn.Softmax(dim=1))\n",
    "        \n",
    "        # Predicting the length of each bar\n",
    "        self.length_bar = nn.Sequential(nn.Conv1d(25, 13, kernel_size = 3, padding = 'same'),\n",
    "                                        nn.Softmax(dim=1))\n",
    "\n",
    "        # Predicting length of the RNA strand\n",
    "        self.length_RNA = nn.Sequential(nn.Linear(200,100), nn.Softmax())\n",
    "        \n",
    "    def forward(self, z):\n",
    "        \n",
    "        h = self.fc1(z)\n",
    "        len_RNA = self.length_RNA(h)\n",
    "        \n",
    "        h = h.view(-1, 5, 40)\n",
    "        h = self.up1(h)\n",
    "        h = self.de1(h)\n",
    "        \n",
    "        len_bar = self.length_bar(h)\n",
    "        col_bar = self.color_bar(h)\n",
    "        \n",
    "        return len_RNA, len_bar, col_bar\n",
    "\n",
    "    def reconstruct_image(self, len_RNA, len_bar, col_bar, sample=False):\n",
    "        \"\"\"\n",
    "        reconstructs RNA image given output from decoder\n",
    "        even indexes of len_bar and col_bar   -> top\n",
    "        uneven indexes of len_bar and col_bar -> bottom\n",
    "        function does not support sampling yet\n",
    "        color reconstructions: 0: black\n",
    "                               1: red\n",
    "                               2: blue\n",
    "                               3: green\n",
    "                               4: yellow\n",
    "        \"\"\"\n",
    "        color_dict = {\n",
    "                  0: np.array([0,0,0]), # black\n",
    "                  1: np.array([1,0,0]), # red\n",
    "                  3: np.array([0,1,0]), # green\n",
    "                  2: np.array([0,0,1]), # blue\n",
    "                  4: np.array([1,1,0])  # yellow\n",
    "                  }\n",
    "    \n",
    "        \n",
    "        len_RNA = len_RNA.cpu().numpy()#.reshape((100,))\n",
    "        len_bar = len_bar.cpu().numpy()\n",
    "        col_bar = col_bar.cpu().numpy()\n",
    "        n = len_RNA.shape[0]\n",
    "        output = np.ones((n,25,100,3))\n",
    "\n",
    "        for i in range(n):\n",
    "            if sample:\n",
    "                limit = np.random.choice(np.arange(100), p = len_RNA[i])\n",
    "            else:\n",
    "                limit = np.argmax(len_RNA[i])\n",
    "\n",
    "            for j in range(limit+1):\n",
    "                if sample:\n",
    "                    _len_bar_1 = np.random.choice(np.arange(1,14), p = len_bar[i, :,2*j]) \n",
    "                    _len_bar_2 = np.random.choice(np.arange(1,14), p = len_bar[i, :, 2*j+1])\n",
    "                    _col_bar_1 = np.random.choice(np.arange(5), p = col_bar[i, :, 2*j])\n",
    "                    _col_bar_2 = np.random.choice(np.arange(5), p = col_bar[i,:, 2*j+1])\n",
    "                else:\n",
    "                    _len_bar_1 = np.argmax(len_bar[i,:, 2*j]) + 1 \n",
    "                    _len_bar_2 = np.argmax(len_bar[i,:, 2*j + 1]) + 1\n",
    "                    _col_bar_1 = np.argmax(col_bar[i,:, 2*j])\n",
    "                    _col_bar_2 = np.argmax(col_bar[i,:, 2*j+1])\n",
    "                \n",
    "                h1 = 13-_len_bar_1\n",
    "                # paint upper bar\n",
    "                output[i, h1:13, j] = color_dict[_col_bar_1]\n",
    "        \n",
    "                # paint lower bar\n",
    "                output[i, 13:13+_len_bar_2, j] = color_dict[_col_bar_2]\n",
    "        \n",
    "        \n",
    "        return output\n"
   ]
  },
  {
   "cell_type": "code",
   "execution_count": 11,
   "metadata": {
    "executionInfo": {
     "elapsed": 4,
     "status": "ok",
     "timestamp": 1647023293160,
     "user": {
      "displayName": "Marko Petkovic",
      "photoUrl": "https://lh3.googleusercontent.com/a-/AOh14Gijd0e9r3I1vRZVN6DEwl16XpJxxS1oSAKunOnfZQ=s64",
      "userId": "11987583535390684770"
     },
     "user_tz": -60
    },
    "id": "1y8G2S1zxzTH"
   },
   "outputs": [],
   "source": [
    "# pzy_ = pzy(45, 7500, 2, 32,32,32)\n",
    "# summary(pzy_, (1,2))\n",
    "# pzy_ = px(45, 7500, 2, 32,32,32)\n",
    "# summary(pzy_, [(1,32),(1,32),(1,32)])"
   ]
  },
  {
   "cell_type": "markdown",
   "metadata": {
    "id": "YmNnZWXvkCDP"
   },
   "source": [
    "## Endcoder Classes"
   ]
  },
  {
   "cell_type": "code",
   "execution_count": 12,
   "metadata": {
    "executionInfo": {
     "elapsed": 5,
     "status": "ok",
     "timestamp": 1647013220008,
     "user": {
      "displayName": "Marko Petkovic",
      "photoUrl": "https://lh3.googleusercontent.com/a-/AOh14Gijd0e9r3I1vRZVN6DEwl16XpJxxS1oSAKunOnfZQ=s64",
      "userId": "11987583535390684770"
     },
     "user_tz": -60
    },
    "id": "tt82wvITwg4j"
   },
   "outputs": [],
   "source": [
    "#pzy_.reconstruct_image(torch.zeros((1,100)), torch.zeros((1,13,200)), torch.zeros(1,5,200)).shape"
   ]
  },
  {
   "cell_type": "code",
   "execution_count": 13,
   "metadata": {
    "executionInfo": {
     "elapsed": 313,
     "status": "ok",
     "timestamp": 1647023293469,
     "user": {
      "displayName": "Marko Petkovic",
      "photoUrl": "https://lh3.googleusercontent.com/a-/AOh14Gijd0e9r3I1vRZVN6DEwl16XpJxxS1oSAKunOnfZQ=s64",
      "userId": "11987583535390684770"
     },
     "user_tz": -60
    },
    "id": "78ZFH8gYl_-z"
   },
   "outputs": [],
   "source": [
    "class qz(nn.Module):\n",
    "    def __init__(self, d_dim, x_dim, y_dim, z_dim):\n",
    "        super(qz, self).__init__()\n",
    "\n",
    "        self.encoder = nn.Sequential(\n",
    "            nn.Conv2d(3, 32, kernel_size=5, stride=1, bias=False),\n",
    "            nn.ReLU(),\n",
    "            nn.MaxPool2d(2, 2),\n",
    "            nn.Conv2d(32, 64, kernel_size=5, stride=1, bias=False),\n",
    "            nn.ReLU(), \n",
    "            nn.MaxPool2d(2, 2),\n",
    "        )\n",
    "\n",
    "        self.fc11 = nn.Sequential(nn.Linear(4224, z_dim))\n",
    "        self.fc12 = nn.Sequential(nn.Linear(4224, z_dim), nn.Softplus())\n",
    "\n",
    "        torch.nn.init.xavier_uniform_(self.encoder[0].weight)\n",
    "        torch.nn.init.xavier_uniform_(self.encoder[3].weight)\n",
    "        torch.nn.init.xavier_uniform_(self.fc11[0].weight)\n",
    "        self.fc11[0].bias.data.zero_()\n",
    "        torch.nn.init.xavier_uniform_(self.fc12[0].weight)\n",
    "        self.fc12[0].bias.data.zero_()\n",
    "\n",
    "    def forward(self, x):\n",
    "        h = self.encoder(x)\n",
    "        h = h.view(-1, 4224)\n",
    "        z_loc = self.fc11(h)\n",
    "        z_scale = self.fc12(h) + 1e-7\n",
    "\n",
    "        return z_loc, z_scale\n",
    "\n",
    "\n"
   ]
  },
  {
   "cell_type": "markdown",
   "metadata": {
    "id": "vn_gJdNSkH_V"
   },
   "source": [
    "## Full model class"
   ]
  },
  {
   "cell_type": "code",
   "execution_count": 14,
   "metadata": {
    "executionInfo": {
     "elapsed": 10,
     "status": "ok",
     "timestamp": 1647023293470,
     "user": {
      "displayName": "Marko Petkovic",
      "photoUrl": "https://lh3.googleusercontent.com/a-/AOh14Gijd0e9r3I1vRZVN6DEwl16XpJxxS1oSAKunOnfZQ=s64",
      "userId": "11987583535390684770"
     },
     "user_tz": -60
    },
    "id": "BgR5BnQN1WWG"
   },
   "outputs": [],
   "source": [
    "class StampDIVA(nn.Module):\n",
    "    def __init__(self, args):\n",
    "        super(StampDIVA, self).__init__()\n",
    "        self.z_dim = args.z_dim\n",
    "        self.d_dim = args.d_dim\n",
    "        self.x_dim = args.x_dim\n",
    "        self.y_dim = args.y_dim\n",
    "\n",
    "        self.px = px(self.d_dim, self.x_dim, self.y_dim, self.z_dim)\n",
    "        \n",
    "        self.qz = qz(self.d_dim, self.x_dim, self.y_dim, self.z_dim)\n",
    "        \n",
    "\n",
    "        self.beta = args.beta\n",
    "        \n",
    "        self.rec_alpha = args.rec_alpha\n",
    "        self.rec_beta = args.rec_beta\n",
    "        self.rec_gamma = args.rec_gamma\n",
    "\n",
    "        self.warmup = args.warmup\n",
    "        self.prewarmup = args.prewarmup\n",
    "\n",
    "        self.cuda()\n",
    "\n",
    "    def forward(self, d, x, y):\n",
    "        # Encode\n",
    "        zd_q_loc, zd_q_scale = self.qz(x)\n",
    "        \n",
    "        # Reparameterization trick\n",
    "        qz = dist.Normal(zd_q_loc, zd_q_scale)\n",
    "        z_q = qz.rsample()\n",
    "        \n",
    "        \n",
    "        # Decode\n",
    "        x_len, x_bar, x_col = self.px(z_q)\n",
    "        \n",
    "        z_p_loc, z_p_scale = torch.zeros(z_q.size()[0], self.z_dim).cuda(),\\\n",
    "                        torch.ones(z_q.size()[0], self.z_dim).cuda()\n",
    "        pz = dist.Normal(z_p_loc, z_p_scale)\n",
    "\n",
    "        # Reparameterization trick\n",
    "        pz = dist.Normal(z_p_loc, z_p_scale)\n",
    "        \n",
    "        return x_len, x_bar, x_col, qz, pz, z_q\n",
    "\n",
    "    def loss_function(self, d, x, y, out_len, out_bar, out_col):\n",
    "        x_len, x_bar, x_col, qz, pz, z_q = self.forward(d, x, y)\n",
    "          \n",
    "          #print(x_len.shape, x_bar.shape)\n",
    "\n",
    "\n",
    "        mask = 1 - F.one_hot(torch.argmax(out_len, dim =1)*2+2, 200).cumsum(dim=1)[:,None,:]\n",
    "         # print(mask.shape)\n",
    "          \n",
    "        x_bar = mask.repeat(1,13,1)*x_bar\n",
    "        x_col = mask.repeat(1,5,1)*x_col\n",
    "        CE_len = F.cross_entropy(x_len, out_len, reduction='sum')\n",
    "        CE_bar = F.cross_entropy(x_bar, out_bar, reduction='sum')\n",
    "        CE_col = F.cross_entropy(x_col, out_col, reduction='sum')\n",
    "\n",
    "        KL_z = torch.sum(pz.log_prob(z_q) - qz.log_prob(z_q))\n",
    "          \n",
    "        return self.rec_alpha * CE_len \\\n",
    "                  + self.rec_beta * CE_bar \\\n",
    "                  + self.rec_gamma * CE_col \\\n",
    "                  - self.beta * KL_z, \\\n",
    "                  CE_bar, CE_len, CE_col "
   ]
  },
  {
   "cell_type": "code",
   "execution_count": 15,
   "metadata": {
    "executionInfo": {
     "elapsed": 9,
     "status": "ok",
     "timestamp": 1647023293470,
     "user": {
      "displayName": "Marko Petkovic",
      "photoUrl": "https://lh3.googleusercontent.com/a-/AOh14Gijd0e9r3I1vRZVN6DEwl16XpJxxS1oSAKunOnfZQ=s64",
      "userId": "11987583535390684770"
     },
     "user_tz": -60
    },
    "id": "g7jIbjazb08Y"
   },
   "outputs": [],
   "source": [
    "w = torch.zeros((5,100))\n",
    "w[0,55] = 1\n",
    "w[1,66] = 1\n",
    "w[2,15] = 1\n",
    "w[3,35] = 1\n",
    "w[4,45] = 1"
   ]
  },
  {
   "cell_type": "code",
   "execution_count": 16,
   "metadata": {
    "executionInfo": {
     "elapsed": 9,
     "status": "ok",
     "timestamp": 1647023293470,
     "user": {
      "displayName": "Marko Petkovic",
      "photoUrl": "https://lh3.googleusercontent.com/a-/AOh14Gijd0e9r3I1vRZVN6DEwl16XpJxxS1oSAKunOnfZQ=s64",
      "userId": "11987583535390684770"
     },
     "user_tz": -60
    },
    "id": "dVXsu2w9t1aQ"
   },
   "outputs": [],
   "source": [
    "x = torch.argmax(w, dim =1)*2+2"
   ]
  },
  {
   "cell_type": "code",
   "execution_count": 17,
   "metadata": {
    "executionInfo": {
     "elapsed": 10,
     "status": "ok",
     "timestamp": 1647023293471,
     "user": {
      "displayName": "Marko Petkovic",
      "photoUrl": "https://lh3.googleusercontent.com/a-/AOh14Gijd0e9r3I1vRZVN6DEwl16XpJxxS1oSAKunOnfZQ=s64",
      "userId": "11987583535390684770"
     },
     "user_tz": -60
    },
    "id": "B_XiwRh6uBP3"
   },
   "outputs": [],
   "source": [
    "r = F.one_hot(x,200)\n",
    "b = 1-r.cumsum(dim=1)"
   ]
  },
  {
   "cell_type": "code",
   "execution_count": 18,
   "metadata": {
    "executionInfo": {
     "elapsed": 9,
     "status": "ok",
     "timestamp": 1647023293471,
     "user": {
      "displayName": "Marko Petkovic",
      "photoUrl": "https://lh3.googleusercontent.com/a-/AOh14Gijd0e9r3I1vRZVN6DEwl16XpJxxS1oSAKunOnfZQ=s64",
      "userId": "11987583535390684770"
     },
     "user_tz": -60
    },
    "id": "bUYICFD-u_g9"
   },
   "outputs": [],
   "source": [
    "out = torch.randn((5,6,200))"
   ]
  },
  {
   "cell_type": "code",
   "execution_count": 19,
   "metadata": {
    "colab": {
     "base_uri": "https://localhost:8080/"
    },
    "executionInfo": {
     "elapsed": 9,
     "status": "ok",
     "timestamp": 1647023293471,
     "user": {
      "displayName": "Marko Petkovic",
      "photoUrl": "https://lh3.googleusercontent.com/a-/AOh14Gijd0e9r3I1vRZVN6DEwl16XpJxxS1oSAKunOnfZQ=s64",
      "userId": "11987583535390684770"
     },
     "user_tz": -60
    },
    "id": "aDHLC1jGvIOA",
    "outputId": "a7f06a9c-a4ac-483a-8f3c-27d1d9116e38"
   },
   "outputs": [
    {
     "data": {
      "text/plain": [
       "torch.Size([5, 200])"
      ]
     },
     "execution_count": 19,
     "metadata": {},
     "output_type": "execute_result"
    }
   ],
   "source": [
    "b.shape"
   ]
  },
  {
   "cell_type": "code",
   "execution_count": 20,
   "metadata": {
    "executionInfo": {
     "elapsed": 9,
     "status": "ok",
     "timestamp": 1647023293472,
     "user": {
      "displayName": "Marko Petkovic",
      "photoUrl": "https://lh3.googleusercontent.com/a-/AOh14Gijd0e9r3I1vRZVN6DEwl16XpJxxS1oSAKunOnfZQ=s64",
      "userId": "11987583535390684770"
     },
     "user_tz": -60
    },
    "id": "pbEEKNdUupi6"
   },
   "outputs": [],
   "source": [
    "b = b[:,None,:]"
   ]
  },
  {
   "cell_type": "code",
   "execution_count": 21,
   "metadata": {
    "colab": {
     "base_uri": "https://localhost:8080/"
    },
    "executionInfo": {
     "elapsed": 9,
     "status": "ok",
     "timestamp": 1647023293472,
     "user": {
      "displayName": "Marko Petkovic",
      "photoUrl": "https://lh3.googleusercontent.com/a-/AOh14Gijd0e9r3I1vRZVN6DEwl16XpJxxS1oSAKunOnfZQ=s64",
      "userId": "11987583535390684770"
     },
     "user_tz": -60
    },
    "id": "v51m0XZcvyIp",
    "outputId": "78596414-95cb-407b-f02c-4994beb0dec6"
   },
   "outputs": [
    {
     "data": {
      "text/plain": [
       "torch.Size([5, 1, 200])"
      ]
     },
     "execution_count": 21,
     "metadata": {},
     "output_type": "execute_result"
    }
   ],
   "source": [
    "b.shape"
   ]
  },
  {
   "cell_type": "markdown",
   "metadata": {
    "id": "LdOsLfYJjBBe"
   },
   "source": [
    "# Training the model"
   ]
  },
  {
   "cell_type": "markdown",
   "metadata": {
    "id": "rH1E5J-ps3GD"
   },
   "source": [
    "## Loading dataset"
   ]
  },
  {
   "cell_type": "code",
   "execution_count": 22,
   "metadata": {
    "colab": {
     "base_uri": "https://localhost:8080/"
    },
    "executionInfo": {
     "elapsed": 16152,
     "status": "ok",
     "timestamp": 1647023309618,
     "user": {
      "displayName": "Marko Petkovic",
      "photoUrl": "https://lh3.googleusercontent.com/a-/AOh14Gijd0e9r3I1vRZVN6DEwl16XpJxxS1oSAKunOnfZQ=s64",
      "userId": "11987583535390684770"
     },
     "user_tz": -60
    },
    "id": "myflmDPxjV40",
    "outputId": "0befed1a-e175-47eb-e1c0-f9f28da53d7c"
   },
   "outputs": [
    {
     "name": "stdout",
     "output_type": "stream",
     "text": [
      "Loading Labels! (~10s)\n",
      "loading encodings\n",
      "Loading Names! (~5s)\n"
     ]
    }
   ],
   "source": [
    "RNA_dataset = MicroRNADataset(create_encodings=False)"
   ]
  },
  {
   "cell_type": "code",
   "execution_count": 23,
   "metadata": {
    "colab": {
     "base_uri": "https://localhost:8080/"
    },
    "executionInfo": {
     "elapsed": 7139,
     "status": "ok",
     "timestamp": 1647023316754,
     "user": {
      "displayName": "Marko Petkovic",
      "photoUrl": "https://lh3.googleusercontent.com/a-/AOh14Gijd0e9r3I1vRZVN6DEwl16XpJxxS1oSAKunOnfZQ=s64",
      "userId": "11987583535390684770"
     },
     "user_tz": -60
    },
    "id": "ut2P5RSaMoDR",
    "outputId": "eafab284-1376-4f62-c8c9-bb8e87351bd4"
   },
   "outputs": [
    {
     "name": "stdout",
     "output_type": "stream",
     "text": [
      "Loading Labels! (~10s)\n",
      "loading encodings\n",
      "Loading Names! (~5s)\n"
     ]
    }
   ],
   "source": [
    "RNA_dataset_test = MicroRNADataset('test', create_encodings=False)"
   ]
  },
  {
   "cell_type": "markdown",
   "metadata": {
    "id": "YdYaqWvbjN26"
   },
   "source": [
    "## Training functions"
   ]
  },
  {
   "cell_type": "code",
   "execution_count": 24,
   "metadata": {
    "executionInfo": {
     "elapsed": 12,
     "status": "ok",
     "timestamp": 1647023316754,
     "user": {
      "displayName": "Marko Petkovic",
      "photoUrl": "https://lh3.googleusercontent.com/a-/AOh14Gijd0e9r3I1vRZVN6DEwl16XpJxxS1oSAKunOnfZQ=s64",
      "userId": "11987583535390684770"
     },
     "user_tz": -60
    },
    "id": "eVGq463Y2m20"
   },
   "outputs": [],
   "source": [
    "def train_single_epoch(train_loader, model, optimizer, epoch):\n",
    "    model.train()\n",
    "    train_loss = 0\n",
    "    epoch_bar_loss = 0\n",
    "    epoch_col_loss = 0\n",
    "    epoch_len_loss = 0\n",
    "    no_batches = 0\n",
    "    train_corr = 0\n",
    "    pbar = tqdm(enumerate(train_loader), unit=\"batch\", \n",
    "                                     desc=f'Epoch {epoch}')\n",
    "    for batch_idx, (x, y, d, x_len, x_col, x_bar) in pbar:\n",
    "        # To device\n",
    "        x, y, d , x_len, x_bar, x_col = x.to(DEVICE), y.to(DEVICE), d.to(DEVICE), x_len.to(DEVICE), x_bar.to(DEVICE), x_col.to(DEVICE)\n",
    "\n",
    "        optimizer.zero_grad()\n",
    "        loss, bar_loss, len_loss, col_loss = model.loss_function(d.float(), x.float(), y.float(), x_len.float(), x_bar.float(), x_col.float())\n",
    "      \n",
    "        loss.backward()\n",
    "        optimizer.step()\n",
    "        pbar.set_postfix(loss=loss.item()/x.shape[0])\n",
    "        train_loss += loss\n",
    "        epoch_bar_loss += bar_loss\n",
    "        epoch_col_loss += col_loss\n",
    "        epoch_len_loss += len_loss\n",
    "        no_batches += 1\n",
    "\n",
    "    train_loss /= len(train_loader.dataset)\n",
    "    epoch_bar_loss /= len(train_loader.dataset)\n",
    "    epoch_len_loss /= len(train_loader.dataset)\n",
    "    epoch_col_loss /= len(train_loader.dataset)\n",
    "    \n",
    "\n",
    "    return train_loss, epoch_bar_loss, epoch_len_loss, epoch_col_loss"
   ]
  },
  {
   "cell_type": "code",
   "execution_count": 25,
   "metadata": {
    "executionInfo": {
     "elapsed": 12,
     "status": "ok",
     "timestamp": 1647023316755,
     "user": {
      "displayName": "Marko Petkovic",
      "photoUrl": "https://lh3.googleusercontent.com/a-/AOh14Gijd0e9r3I1vRZVN6DEwl16XpJxxS1oSAKunOnfZQ=s64",
      "userId": "11987583535390684770"
     },
     "user_tz": -60
    },
    "id": "dT7E0C3nM3qh"
   },
   "outputs": [],
   "source": [
    "def test_single_epoch(test_loader, model, epoch):\n",
    "    model.eval()\n",
    "    test_loss = 0\n",
    "    epoch_bar_loss = 0\n",
    "    epoch_col_loss = 0\n",
    "    epoch_len_loss = 0\n",
    "        \n",
    "    with torch.no_grad():\n",
    "        for batch_idx, (x,y,d,x_len,x_col,x_bar) in enumerate(test_loader):\n",
    "            x, y, d, x_len, x_bar, x_col = x.to(DEVICE), y.to(DEVICE), d.to(DEVICE), x_len.to(DEVICE), x_bar.to(DEVICE), x_col.to(DEVICE)\n",
    "            loss, bar_loss, len_loss, col_loss = model.loss_function(d.float(), x.float(), y.float(),x_len.float(),x_bar.float(),x_col.float())\n",
    "            test_loss += loss\n",
    "            epoch_bar_loss += bar_loss\n",
    "            epoch_col_loss += col_loss\n",
    "            epoch_len_loss += len_loss\n",
    "    test_loss /= len(test_loader.dataset)\n",
    "    epoch_bar_loss /= len(train_loader.dataset)\n",
    "    epoch_len_loss /= len(train_loader.dataset)\n",
    "    epoch_col_loss /= len(train_loader.dataset)\n",
    "  \n",
    "    return test_loss, epoch_bar_loss, epoch_len_loss, epoch_col_loss\n",
    "  "
   ]
  },
  {
   "cell_type": "code",
   "execution_count": 26,
   "metadata": {
    "executionInfo": {
     "elapsed": 11,
     "status": "ok",
     "timestamp": 1647023316755,
     "user": {
      "displayName": "Marko Petkovic",
      "photoUrl": "https://lh3.googleusercontent.com/a-/AOh14Gijd0e9r3I1vRZVN6DEwl16XpJxxS1oSAKunOnfZQ=s64",
      "userId": "11987583535390684770"
     },
     "user_tz": -60
    },
    "id": "npLjVGs0jHYn"
   },
   "outputs": [],
   "source": [
    "def train(args, train_loader, test_loader, diva, optimizer, end_epoch, start_epoch=0, save_folder='sd_1.0.0',save_interval=5):\n",
    "    \n",
    "    epoch_loss_sup = []\n",
    "    test_loss = []\n",
    "    \n",
    "    for epoch in range(start_epoch+1, end_epoch+1):\n",
    "        diva.beta = min([args.beta, args.beta * (epoch - args.prewarmup * 1.) / (args.warmup)])\n",
    "        if epoch< args.prewarmup:\n",
    "            diva.beta = args.beta/args.prewarmup\n",
    "        train_loss, avg_loss_bar, avg_loss_len, avg_loss_col = train_single_epoch(train_loader, diva, optimizer, epoch)\n",
    "        str_loss_sup = train_loss\n",
    "        epoch_loss_sup.append(train_loss)\n",
    "        str_print = \"epoch {}: avg train loss {:.2f}\".format(epoch, str_loss_sup)\n",
    "        str_print += \", bar train loss {:.3f}\".format(avg_loss_bar)\n",
    "        str_print += \", len train loss {:.3f}\".format(avg_loss_len)\n",
    "        str_print += \", col train loss {:.3f}\".format(avg_loss_col)\n",
    "        print(str_print)\n",
    "\n",
    "        rec_loss_train = diva.rec_alpha * avg_loss_len + diva.rec_beta * avg_loss_bar + diva.rec_gamma * avg_loss_col\n",
    "        dis_loss_train = train_loss - rec_loss_train\n",
    "\n",
    "        test_lss, avg_loss_bar_test, avg_loss_len_test, avg_loss_col_test = test_single_epoch(test_loader, diva, epoch)\n",
    "        test_loss.append(test_lss)\n",
    "       \n",
    "        str_print = \"epoch {}: avg test  loss {:.2f}\".format(epoch, test_lss)\n",
    "        str_print += \", bar  test loss {:.3f}\".format(avg_loss_bar_test)\n",
    "        str_print += \", len  test loss {:.3f}\".format(avg_loss_len_test)\n",
    "        str_print += \", col  test loss {:.3f}\".format(avg_loss_col_test)\n",
    "        print(str_print)\n",
    "\n",
    "        rec_loss_test = diva.rec_alpha * avg_loss_len_test + diva.rec_beta * avg_loss_bar_test + diva.rec_gamma * avg_loss_col_test\n",
    "        dis_loss_test = test_lss - rec_loss_test\n",
    "\n",
    "        if writer is not None:\n",
    "            \n",
    "            writer.add_scalars(\"Total_Loss\", {'train': train_loss, 'test': test_lss} ,epoch)\n",
    "            writer.add_scalars(\"Reconstruction_vs_Disentanglement\",{'rec':rec_loss_train, 'dis':dis_loss_train}, epoch)\n",
    "\n",
    "\n",
    "        if epoch % save_interval == 0:\n",
    "            torch.save(diva.state_dict(), f'{link}/models/{save_folder}/{epoch}.pth')\n",
    "            save_reconstructions(epoch, test_loader, diva, name=save_folder)\n",
    "\n",
    "\n",
    "    if writer is not None:\n",
    "        writer.flush()\n",
    "\n",
    "    epoch_loss_sup = [i.cpu().detach().numpy() for i in epoch_loss_sup]\n",
    "    test_loss = [i.cpu().detach().numpy() for i in test_loss]\n",
    "    return epoch_loss_sup, test_loss"
   ]
  },
  {
   "cell_type": "code",
   "execution_count": 24,
   "metadata": {
    "executionInfo": {
     "elapsed": 9,
     "status": "ok",
     "timestamp": 1647023317082,
     "user": {
      "displayName": "Marko Petkovic",
      "photoUrl": "https://lh3.googleusercontent.com/a-/AOh14Gijd0e9r3I1vRZVN6DEwl16XpJxxS1oSAKunOnfZQ=s64",
      "userId": "11987583535390684770"
     },
     "user_tz": -60
    },
    "id": "XxN8U8YK0Qi1"
   },
   "outputs": [],
   "source": [
    "def save_reconstructions(epoch, test_loader, diva, name='diva'):\n",
    "    a = next(enumerate(test_loader))\n",
    "    with torch.no_grad():\n",
    "        diva.eval()\n",
    "        d = a[1][2][:10].to(DEVICE).float()\n",
    "        x = a[1][0][:10].to(DEVICE).float()\n",
    "        y = a[1][1][:10].to(DEVICE).float()\n",
    "        x_1, x_2, x_3, _, _, _ = diva(d,x,y)\n",
    "        out = diva.px.reconstruct_image(x_1, x_2, x_3)\n",
    "\n",
    "    plt.figure(figsize=(80,20))\n",
    "    fig, ax = plt.subplots(nrows=10, ncols=2)\n",
    "\n",
    "    ax[0,0].set_title(\"Original\")\n",
    "    ax[0,1].set_title(\"Reconstructed\")\n",
    "\n",
    "    for i in range(10):\n",
    "        ax[i, 1].imshow(out[i])\n",
    "        ax[i, 0].imshow(x[i].cpu().permute(1,2,0))\n",
    "        ax[i, 0].xaxis.set_visible(False)\n",
    "        ax[i, 0].yaxis.set_visible(False)\n",
    "        ax[i, 1].xaxis.set_visible(False)\n",
    "        ax[i, 1].yaxis.set_visible(False)\n",
    "    fig.tight_layout(pad=0.1)\n",
    "    plt.savefig(f'{link}/saved_models/{name}/reconstructions/e{epoch}.png')\n",
    "    plt.close(fig)"
   ]
  },
  {
   "cell_type": "code",
   "execution_count": 25,
   "metadata": {
    "colab": {
     "base_uri": "https://localhost:8080/"
    },
    "executionInfo": {
     "elapsed": 8,
     "status": "ok",
     "timestamp": 1647023317082,
     "user": {
      "displayName": "Marko Petkovic",
      "photoUrl": "https://lh3.googleusercontent.com/a-/AOh14Gijd0e9r3I1vRZVN6DEwl16XpJxxS1oSAKunOnfZQ=s64",
      "userId": "11987583535390684770"
     },
     "user_tz": -60
    },
    "id": "YVAD-Mjwh7yq",
    "outputId": "f330c11c-e358-41af-9ef4-bc36c146f907"
   },
   "outputs": [
    {
     "data": {
      "text/plain": [
       "device(type='cpu')"
      ]
     },
     "execution_count": 25,
     "metadata": {},
     "output_type": "execute_result"
    }
   ],
   "source": [
    "DEVICE"
   ]
  },
  {
   "cell_type": "markdown",
   "metadata": {
    "id": "nI4-NzHxjmci"
   },
   "source": [
    "## Model Training"
   ]
  },
  {
   "cell_type": "code",
   "execution_count": 26,
   "metadata": {
    "executionInfo": {
     "elapsed": 4,
     "status": "ok",
     "timestamp": 1647023317083,
     "user": {
      "displayName": "Marko Petkovic",
      "photoUrl": "https://lh3.googleusercontent.com/a-/AOh14Gijd0e9r3I1vRZVN6DEwl16XpJxxS1oSAKunOnfZQ=s64",
      "userId": "11987583535390684770"
     },
     "user_tz": -60
    },
    "id": "sJE0HTJE1ayP"
   },
   "outputs": [],
   "source": [
    "default_args = diva_args(z_dim=128, rec_alpha = 380, rec_beta = 200, rec_gamma = 180, \n",
    "                         beta=60, warmup=50, prewarmup=200)"
   ]
  },
  {
   "cell_type": "code",
   "execution_count": 27,
   "metadata": {
    "colab": {
     "base_uri": "https://localhost:8080/",
     "height": 0
    },
    "executionInfo": {
     "elapsed": 1182,
     "status": "error",
     "timestamp": 1647023318262,
     "user": {
      "displayName": "Marko Petkovic",
      "photoUrl": "https://lh3.googleusercontent.com/a-/AOh14Gijd0e9r3I1vRZVN6DEwl16XpJxxS1oSAKunOnfZQ=s64",
      "userId": "11987583535390684770"
     },
     "user_tz": -60
    },
    "id": "kxIMSeUD1949",
    "outputId": "45991358-df3b-4e61-9d8a-c48b71b9fa49"
   },
   "outputs": [
    {
     "ename": "RuntimeError",
     "evalue": "ignored",
     "output_type": "error",
     "traceback": [
      "\u001b[0;31m---------------------------------------------------------------------------\u001b[0m",
      "\u001b[0;31mRuntimeError\u001b[0m                              Traceback (most recent call last)",
      "\u001b[0;32m<ipython-input-27-5fe8cad93e61>\u001b[0m in \u001b[0;36m<module>\u001b[0;34m()\u001b[0m\n\u001b[0;32m----> 1\u001b[0;31m \u001b[0mdiva\u001b[0m \u001b[0;34m=\u001b[0m \u001b[0mStampDIVA\u001b[0m\u001b[0;34m(\u001b[0m\u001b[0mdefault_args\u001b[0m\u001b[0;34m)\u001b[0m\u001b[0;34m.\u001b[0m\u001b[0mto\u001b[0m\u001b[0;34m(\u001b[0m\u001b[0mDEVICE\u001b[0m\u001b[0;34m)\u001b[0m\u001b[0;34m\u001b[0m\u001b[0;34m\u001b[0m\u001b[0m\n\u001b[0m",
      "\u001b[0;32m<ipython-input-11-5c4caa9d616d>\u001b[0m in \u001b[0;36m__init__\u001b[0;34m(self, args)\u001b[0m\n\u001b[1;32m     21\u001b[0m         \u001b[0mself\u001b[0m\u001b[0;34m.\u001b[0m\u001b[0mprewarmup\u001b[0m \u001b[0;34m=\u001b[0m \u001b[0margs\u001b[0m\u001b[0;34m.\u001b[0m\u001b[0mprewarmup\u001b[0m\u001b[0;34m\u001b[0m\u001b[0;34m\u001b[0m\u001b[0m\n\u001b[1;32m     22\u001b[0m \u001b[0;34m\u001b[0m\u001b[0m\n\u001b[0;32m---> 23\u001b[0;31m         \u001b[0mself\u001b[0m\u001b[0;34m.\u001b[0m\u001b[0mcuda\u001b[0m\u001b[0;34m(\u001b[0m\u001b[0;34m)\u001b[0m\u001b[0;34m\u001b[0m\u001b[0;34m\u001b[0m\u001b[0m\n\u001b[0m\u001b[1;32m     24\u001b[0m \u001b[0;34m\u001b[0m\u001b[0m\n\u001b[1;32m     25\u001b[0m     \u001b[0;32mdef\u001b[0m \u001b[0mforward\u001b[0m\u001b[0;34m(\u001b[0m\u001b[0mself\u001b[0m\u001b[0;34m,\u001b[0m \u001b[0md\u001b[0m\u001b[0;34m,\u001b[0m \u001b[0mx\u001b[0m\u001b[0;34m,\u001b[0m \u001b[0my\u001b[0m\u001b[0;34m)\u001b[0m\u001b[0;34m:\u001b[0m\u001b[0;34m\u001b[0m\u001b[0;34m\u001b[0m\u001b[0m\n",
      "\u001b[0;32m/usr/local/lib/python3.7/dist-packages/torch/nn/modules/module.py\u001b[0m in \u001b[0;36mcuda\u001b[0;34m(self, device)\u001b[0m\n\u001b[1;32m    678\u001b[0m             \u001b[0mModule\u001b[0m\u001b[0;34m:\u001b[0m \u001b[0mself\u001b[0m\u001b[0;34m\u001b[0m\u001b[0;34m\u001b[0m\u001b[0m\n\u001b[1;32m    679\u001b[0m         \"\"\"\n\u001b[0;32m--> 680\u001b[0;31m         \u001b[0;32mreturn\u001b[0m \u001b[0mself\u001b[0m\u001b[0;34m.\u001b[0m\u001b[0m_apply\u001b[0m\u001b[0;34m(\u001b[0m\u001b[0;32mlambda\u001b[0m \u001b[0mt\u001b[0m\u001b[0;34m:\u001b[0m \u001b[0mt\u001b[0m\u001b[0;34m.\u001b[0m\u001b[0mcuda\u001b[0m\u001b[0;34m(\u001b[0m\u001b[0mdevice\u001b[0m\u001b[0;34m)\u001b[0m\u001b[0;34m)\u001b[0m\u001b[0;34m\u001b[0m\u001b[0;34m\u001b[0m\u001b[0m\n\u001b[0m\u001b[1;32m    681\u001b[0m \u001b[0;34m\u001b[0m\u001b[0m\n\u001b[1;32m    682\u001b[0m     \u001b[0;32mdef\u001b[0m \u001b[0mxpu\u001b[0m\u001b[0;34m(\u001b[0m\u001b[0mself\u001b[0m\u001b[0;34m:\u001b[0m \u001b[0mT\u001b[0m\u001b[0;34m,\u001b[0m \u001b[0mdevice\u001b[0m\u001b[0;34m:\u001b[0m \u001b[0mOptional\u001b[0m\u001b[0;34m[\u001b[0m\u001b[0mUnion\u001b[0m\u001b[0;34m[\u001b[0m\u001b[0mint\u001b[0m\u001b[0;34m,\u001b[0m \u001b[0mdevice\u001b[0m\u001b[0;34m]\u001b[0m\u001b[0;34m]\u001b[0m \u001b[0;34m=\u001b[0m \u001b[0;32mNone\u001b[0m\u001b[0;34m)\u001b[0m \u001b[0;34m->\u001b[0m \u001b[0mT\u001b[0m\u001b[0;34m:\u001b[0m\u001b[0;34m\u001b[0m\u001b[0;34m\u001b[0m\u001b[0m\n",
      "\u001b[0;32m/usr/local/lib/python3.7/dist-packages/torch/nn/modules/module.py\u001b[0m in \u001b[0;36m_apply\u001b[0;34m(self, fn)\u001b[0m\n\u001b[1;32m    568\u001b[0m     \u001b[0;32mdef\u001b[0m \u001b[0m_apply\u001b[0m\u001b[0;34m(\u001b[0m\u001b[0mself\u001b[0m\u001b[0;34m,\u001b[0m \u001b[0mfn\u001b[0m\u001b[0;34m)\u001b[0m\u001b[0;34m:\u001b[0m\u001b[0;34m\u001b[0m\u001b[0;34m\u001b[0m\u001b[0m\n\u001b[1;32m    569\u001b[0m         \u001b[0;32mfor\u001b[0m \u001b[0mmodule\u001b[0m \u001b[0;32min\u001b[0m \u001b[0mself\u001b[0m\u001b[0;34m.\u001b[0m\u001b[0mchildren\u001b[0m\u001b[0;34m(\u001b[0m\u001b[0;34m)\u001b[0m\u001b[0;34m:\u001b[0m\u001b[0;34m\u001b[0m\u001b[0;34m\u001b[0m\u001b[0m\n\u001b[0;32m--> 570\u001b[0;31m             \u001b[0mmodule\u001b[0m\u001b[0;34m.\u001b[0m\u001b[0m_apply\u001b[0m\u001b[0;34m(\u001b[0m\u001b[0mfn\u001b[0m\u001b[0;34m)\u001b[0m\u001b[0;34m\u001b[0m\u001b[0;34m\u001b[0m\u001b[0m\n\u001b[0m\u001b[1;32m    571\u001b[0m \u001b[0;34m\u001b[0m\u001b[0m\n\u001b[1;32m    572\u001b[0m         \u001b[0;32mdef\u001b[0m \u001b[0mcompute_should_use_set_data\u001b[0m\u001b[0;34m(\u001b[0m\u001b[0mtensor\u001b[0m\u001b[0;34m,\u001b[0m \u001b[0mtensor_applied\u001b[0m\u001b[0;34m)\u001b[0m\u001b[0;34m:\u001b[0m\u001b[0;34m\u001b[0m\u001b[0;34m\u001b[0m\u001b[0m\n",
      "\u001b[0;32m/usr/local/lib/python3.7/dist-packages/torch/nn/modules/module.py\u001b[0m in \u001b[0;36m_apply\u001b[0;34m(self, fn)\u001b[0m\n\u001b[1;32m    568\u001b[0m     \u001b[0;32mdef\u001b[0m \u001b[0m_apply\u001b[0m\u001b[0;34m(\u001b[0m\u001b[0mself\u001b[0m\u001b[0;34m,\u001b[0m \u001b[0mfn\u001b[0m\u001b[0;34m)\u001b[0m\u001b[0;34m:\u001b[0m\u001b[0;34m\u001b[0m\u001b[0;34m\u001b[0m\u001b[0m\n\u001b[1;32m    569\u001b[0m         \u001b[0;32mfor\u001b[0m \u001b[0mmodule\u001b[0m \u001b[0;32min\u001b[0m \u001b[0mself\u001b[0m\u001b[0;34m.\u001b[0m\u001b[0mchildren\u001b[0m\u001b[0;34m(\u001b[0m\u001b[0;34m)\u001b[0m\u001b[0;34m:\u001b[0m\u001b[0;34m\u001b[0m\u001b[0;34m\u001b[0m\u001b[0m\n\u001b[0;32m--> 570\u001b[0;31m             \u001b[0mmodule\u001b[0m\u001b[0;34m.\u001b[0m\u001b[0m_apply\u001b[0m\u001b[0;34m(\u001b[0m\u001b[0mfn\u001b[0m\u001b[0;34m)\u001b[0m\u001b[0;34m\u001b[0m\u001b[0;34m\u001b[0m\u001b[0m\n\u001b[0m\u001b[1;32m    571\u001b[0m \u001b[0;34m\u001b[0m\u001b[0m\n\u001b[1;32m    572\u001b[0m         \u001b[0;32mdef\u001b[0m \u001b[0mcompute_should_use_set_data\u001b[0m\u001b[0;34m(\u001b[0m\u001b[0mtensor\u001b[0m\u001b[0;34m,\u001b[0m \u001b[0mtensor_applied\u001b[0m\u001b[0;34m)\u001b[0m\u001b[0;34m:\u001b[0m\u001b[0;34m\u001b[0m\u001b[0;34m\u001b[0m\u001b[0m\n",
      "\u001b[0;32m/usr/local/lib/python3.7/dist-packages/torch/nn/modules/module.py\u001b[0m in \u001b[0;36m_apply\u001b[0;34m(self, fn)\u001b[0m\n\u001b[1;32m    568\u001b[0m     \u001b[0;32mdef\u001b[0m \u001b[0m_apply\u001b[0m\u001b[0;34m(\u001b[0m\u001b[0mself\u001b[0m\u001b[0;34m,\u001b[0m \u001b[0mfn\u001b[0m\u001b[0;34m)\u001b[0m\u001b[0;34m:\u001b[0m\u001b[0;34m\u001b[0m\u001b[0;34m\u001b[0m\u001b[0m\n\u001b[1;32m    569\u001b[0m         \u001b[0;32mfor\u001b[0m \u001b[0mmodule\u001b[0m \u001b[0;32min\u001b[0m \u001b[0mself\u001b[0m\u001b[0;34m.\u001b[0m\u001b[0mchildren\u001b[0m\u001b[0;34m(\u001b[0m\u001b[0;34m)\u001b[0m\u001b[0;34m:\u001b[0m\u001b[0;34m\u001b[0m\u001b[0;34m\u001b[0m\u001b[0m\n\u001b[0;32m--> 570\u001b[0;31m             \u001b[0mmodule\u001b[0m\u001b[0;34m.\u001b[0m\u001b[0m_apply\u001b[0m\u001b[0;34m(\u001b[0m\u001b[0mfn\u001b[0m\u001b[0;34m)\u001b[0m\u001b[0;34m\u001b[0m\u001b[0;34m\u001b[0m\u001b[0m\n\u001b[0m\u001b[1;32m    571\u001b[0m \u001b[0;34m\u001b[0m\u001b[0m\n\u001b[1;32m    572\u001b[0m         \u001b[0;32mdef\u001b[0m \u001b[0mcompute_should_use_set_data\u001b[0m\u001b[0;34m(\u001b[0m\u001b[0mtensor\u001b[0m\u001b[0;34m,\u001b[0m \u001b[0mtensor_applied\u001b[0m\u001b[0;34m)\u001b[0m\u001b[0;34m:\u001b[0m\u001b[0;34m\u001b[0m\u001b[0;34m\u001b[0m\u001b[0m\n",
      "\u001b[0;32m/usr/local/lib/python3.7/dist-packages/torch/nn/modules/module.py\u001b[0m in \u001b[0;36m_apply\u001b[0;34m(self, fn)\u001b[0m\n\u001b[1;32m    591\u001b[0m             \u001b[0;31m# `with torch.no_grad():`\u001b[0m\u001b[0;34m\u001b[0m\u001b[0;34m\u001b[0m\u001b[0;34m\u001b[0m\u001b[0m\n\u001b[1;32m    592\u001b[0m             \u001b[0;32mwith\u001b[0m \u001b[0mtorch\u001b[0m\u001b[0;34m.\u001b[0m\u001b[0mno_grad\u001b[0m\u001b[0;34m(\u001b[0m\u001b[0;34m)\u001b[0m\u001b[0;34m:\u001b[0m\u001b[0;34m\u001b[0m\u001b[0;34m\u001b[0m\u001b[0m\n\u001b[0;32m--> 593\u001b[0;31m                 \u001b[0mparam_applied\u001b[0m \u001b[0;34m=\u001b[0m \u001b[0mfn\u001b[0m\u001b[0;34m(\u001b[0m\u001b[0mparam\u001b[0m\u001b[0;34m)\u001b[0m\u001b[0;34m\u001b[0m\u001b[0;34m\u001b[0m\u001b[0m\n\u001b[0m\u001b[1;32m    594\u001b[0m             \u001b[0mshould_use_set_data\u001b[0m \u001b[0;34m=\u001b[0m \u001b[0mcompute_should_use_set_data\u001b[0m\u001b[0;34m(\u001b[0m\u001b[0mparam\u001b[0m\u001b[0;34m,\u001b[0m \u001b[0mparam_applied\u001b[0m\u001b[0;34m)\u001b[0m\u001b[0;34m\u001b[0m\u001b[0;34m\u001b[0m\u001b[0m\n\u001b[1;32m    595\u001b[0m             \u001b[0;32mif\u001b[0m \u001b[0mshould_use_set_data\u001b[0m\u001b[0;34m:\u001b[0m\u001b[0;34m\u001b[0m\u001b[0;34m\u001b[0m\u001b[0m\n",
      "\u001b[0;32m/usr/local/lib/python3.7/dist-packages/torch/nn/modules/module.py\u001b[0m in \u001b[0;36m<lambda>\u001b[0;34m(t)\u001b[0m\n\u001b[1;32m    678\u001b[0m             \u001b[0mModule\u001b[0m\u001b[0;34m:\u001b[0m \u001b[0mself\u001b[0m\u001b[0;34m\u001b[0m\u001b[0;34m\u001b[0m\u001b[0m\n\u001b[1;32m    679\u001b[0m         \"\"\"\n\u001b[0;32m--> 680\u001b[0;31m         \u001b[0;32mreturn\u001b[0m \u001b[0mself\u001b[0m\u001b[0;34m.\u001b[0m\u001b[0m_apply\u001b[0m\u001b[0;34m(\u001b[0m\u001b[0;32mlambda\u001b[0m \u001b[0mt\u001b[0m\u001b[0;34m:\u001b[0m \u001b[0mt\u001b[0m\u001b[0;34m.\u001b[0m\u001b[0mcuda\u001b[0m\u001b[0;34m(\u001b[0m\u001b[0mdevice\u001b[0m\u001b[0;34m)\u001b[0m\u001b[0;34m)\u001b[0m\u001b[0;34m\u001b[0m\u001b[0;34m\u001b[0m\u001b[0m\n\u001b[0m\u001b[1;32m    681\u001b[0m \u001b[0;34m\u001b[0m\u001b[0m\n\u001b[1;32m    682\u001b[0m     \u001b[0;32mdef\u001b[0m \u001b[0mxpu\u001b[0m\u001b[0;34m(\u001b[0m\u001b[0mself\u001b[0m\u001b[0;34m:\u001b[0m \u001b[0mT\u001b[0m\u001b[0;34m,\u001b[0m \u001b[0mdevice\u001b[0m\u001b[0;34m:\u001b[0m \u001b[0mOptional\u001b[0m\u001b[0;34m[\u001b[0m\u001b[0mUnion\u001b[0m\u001b[0;34m[\u001b[0m\u001b[0mint\u001b[0m\u001b[0;34m,\u001b[0m \u001b[0mdevice\u001b[0m\u001b[0;34m]\u001b[0m\u001b[0;34m]\u001b[0m \u001b[0;34m=\u001b[0m \u001b[0;32mNone\u001b[0m\u001b[0;34m)\u001b[0m \u001b[0;34m->\u001b[0m \u001b[0mT\u001b[0m\u001b[0;34m:\u001b[0m\u001b[0;34m\u001b[0m\u001b[0;34m\u001b[0m\u001b[0m\n",
      "\u001b[0;32m/usr/local/lib/python3.7/dist-packages/torch/cuda/__init__.py\u001b[0m in \u001b[0;36m_lazy_init\u001b[0;34m()\u001b[0m\n\u001b[1;32m    212\u001b[0m         \u001b[0;31m# This function throws if there's a driver initialization error, no GPUs\u001b[0m\u001b[0;34m\u001b[0m\u001b[0;34m\u001b[0m\u001b[0;34m\u001b[0m\u001b[0m\n\u001b[1;32m    213\u001b[0m         \u001b[0;31m# are found or any other error occurs\u001b[0m\u001b[0;34m\u001b[0m\u001b[0;34m\u001b[0m\u001b[0;34m\u001b[0m\u001b[0m\n\u001b[0;32m--> 214\u001b[0;31m         \u001b[0mtorch\u001b[0m\u001b[0;34m.\u001b[0m\u001b[0m_C\u001b[0m\u001b[0;34m.\u001b[0m\u001b[0m_cuda_init\u001b[0m\u001b[0;34m(\u001b[0m\u001b[0;34m)\u001b[0m\u001b[0;34m\u001b[0m\u001b[0;34m\u001b[0m\u001b[0m\n\u001b[0m\u001b[1;32m    215\u001b[0m         \u001b[0;31m# Some of the queued calls may reentrantly call _lazy_init();\u001b[0m\u001b[0;34m\u001b[0m\u001b[0;34m\u001b[0m\u001b[0;34m\u001b[0m\u001b[0m\n\u001b[1;32m    216\u001b[0m         \u001b[0;31m# we need to just return without initializing in that case.\u001b[0m\u001b[0;34m\u001b[0m\u001b[0;34m\u001b[0m\u001b[0;34m\u001b[0m\u001b[0m\n",
      "\u001b[0;31mRuntimeError\u001b[0m: No CUDA GPUs are available"
     ]
    }
   ],
   "source": [
    "diva = StampDIVA(default_args).to(DEVICE)"
   ]
  },
  {
   "cell_type": "code",
   "execution_count": null,
   "metadata": {
    "executionInfo": {
     "elapsed": 6,
     "status": "aborted",
     "timestamp": 1647023318259,
     "user": {
      "displayName": "Marko Petkovic",
      "photoUrl": "https://lh3.googleusercontent.com/a-/AOh14Gijd0e9r3I1vRZVN6DEwl16XpJxxS1oSAKunOnfZQ=s64",
      "userId": "11987583535390684770"
     },
     "user_tz": -60
    },
    "id": "PUHyoMi7iwJC"
   },
   "outputs": [],
   "source": [
    "diva.load_state_dict(torch.load(f'{link}/saved_models/VAE1/checkpoints/1400.pth'))"
   ]
  },
  {
   "cell_type": "code",
   "execution_count": null,
   "metadata": {
    "executionInfo": {
     "elapsed": 6,
     "status": "aborted",
     "timestamp": 1647023318260,
     "user": {
      "displayName": "Marko Petkovic",
      "photoUrl": "https://lh3.googleusercontent.com/a-/AOh14Gijd0e9r3I1vRZVN6DEwl16XpJxxS1oSAKunOnfZQ=s64",
      "userId": "11987583535390684770"
     },
     "user_tz": -60
    },
    "id": "48B39rFl79Yh"
   },
   "outputs": [],
   "source": [
    "train_loader = DataLoader(RNA_dataset, batch_size=128, shuffle=True)\n",
    "test_loader = DataLoader(RNA_dataset_test, batch_size=128)"
   ]
  },
  {
   "cell_type": "code",
   "execution_count": null,
   "metadata": {
    "executionInfo": {
     "elapsed": 7,
     "status": "aborted",
     "timestamp": 1647023318261,
     "user": {
      "displayName": "Marko Petkovic",
      "photoUrl": "https://lh3.googleusercontent.com/a-/AOh14Gijd0e9r3I1vRZVN6DEwl16XpJxxS1oSAKunOnfZQ=s64",
      "userId": "11987583535390684770"
     },
     "user_tz": -60
    },
    "id": "J6y2Ek2677z1"
   },
   "outputs": [],
   "source": [
    "optimizer = optim.Adam(diva.parameters(), lr=0.0005)"
   ]
  },
  {
   "cell_type": "code",
   "execution_count": null,
   "metadata": {
    "executionInfo": {
     "elapsed": 7,
     "status": "aborted",
     "timestamp": 1647023318261,
     "user": {
      "displayName": "Marko Petkovic",
      "photoUrl": "https://lh3.googleusercontent.com/a-/AOh14Gijd0e9r3I1vRZVN6DEwl16XpJxxS1oSAKunOnfZQ=s64",
      "userId": "11987583535390684770"
     },
     "user_tz": -60
    },
    "id": "vQGakzXN6V-Y"
   },
   "outputs": [],
   "source": [
    "%tensorboard --logdir=\"/content/drive/MyDrive/master/runs/vae1/\""
   ]
  },
  {
   "cell_type": "code",
   "execution_count": null,
   "metadata": {
    "executionInfo": {
     "elapsed": 8,
     "status": "aborted",
     "timestamp": 1647023318262,
     "user": {
      "displayName": "Marko Petkovic",
      "photoUrl": "https://lh3.googleusercontent.com/a-/AOh14Gijd0e9r3I1vRZVN6DEwl16XpJxxS1oSAKunOnfZQ=s64",
      "userId": "11987583535390684770"
     },
     "user_tz": -60
    },
    "id": "0m47XoL87oLs"
   },
   "outputs": [],
   "source": [
    "lss, lss_t = train(default_args, train_loader, test_loader, diva, optimizer, 1800, 1400, save_folder=\"VAE1\")"
   ]
  },
  {
   "cell_type": "code",
   "execution_count": 34,
   "metadata": {
    "colab": {
     "base_uri": "https://localhost:8080/",
     "height": 1000
    },
    "executionInfo": {
     "elapsed": 4182003,
     "status": "ok",
     "timestamp": 1647010362327,
     "user": {
      "displayName": "Marko Petkovic",
      "photoUrl": "https://lh3.googleusercontent.com/a-/AOh14Gijd0e9r3I1vRZVN6DEwl16XpJxxS1oSAKunOnfZQ=s64",
      "userId": "11987583535390684770"
     },
     "user_tz": -60
    },
    "id": "NprX9l7G73MJ",
    "outputId": "e970b2ef-1d7d-4702-dd1f-3bb4b59c0326"
   },
   "outputs": [
    {
     "name": "stderr",
     "output_type": "stream",
     "text": [
      "Epoch 701: 0batch [00:00, ?batch/s]/usr/local/lib/python3.7/dist-packages/torch/nn/modules/container.py:141: UserWarning: Implicit dimension choice for softmax has been deprecated. Change the call to include dim=X as an argument.\n",
      "  input = module(input)\n",
      "Epoch 701: 272batch [00:14, 18.26batch/s, loss=7.08e+4]\n"
     ]
    },
    {
     "name": "stdout",
     "output_type": "stream",
     "text": [
      "epoch 701: avg train loss 73809.92, bar train loss 213.008, len train loss 4.315, col train loss 139.459\n",
      "epoch 701: avg test  loss 74106.75, bar  test loss 91.681, len  test loss 1.853, col  test loss 60.292\n"
     ]
    },
    {
     "name": "stderr",
     "output_type": "stream",
     "text": [
      "Epoch 702: 272batch [00:11, 24.03batch/s, loss=7.36e+4]\n"
     ]
    },
    {
     "name": "stdout",
     "output_type": "stream",
     "text": [
      "epoch 702: avg train loss 73814.10, bar train loss 213.027, len train loss 4.314, col train loss 139.453\n",
      "epoch 702: avg test  loss 74102.36, bar  test loss 91.535, len  test loss 1.850, col  test loss 60.097\n"
     ]
    },
    {
     "name": "stderr",
     "output_type": "stream",
     "text": [
      "Epoch 703: 272batch [00:11, 24.12batch/s, loss=6.96e+4]\n"
     ]
    },
    {
     "name": "stdout",
     "output_type": "stream",
     "text": [
      "epoch 703: avg train loss 73796.11, bar train loss 212.975, len train loss 4.314, col train loss 139.380\n",
      "epoch 703: avg test  loss 74111.77, bar  test loss 91.548, len  test loss 1.850, col  test loss 60.074\n"
     ]
    },
    {
     "name": "stderr",
     "output_type": "stream",
     "text": [
      "Epoch 704: 272batch [00:11, 23.76batch/s, loss=7.23e+4]\n"
     ]
    },
    {
     "name": "stdout",
     "output_type": "stream",
     "text": [
      "epoch 704: avg train loss 73802.10, bar train loss 213.009, len train loss 4.315, col train loss 139.368\n",
      "epoch 704: avg test  loss 74095.20, bar  test loss 91.669, len  test loss 1.852, col  test loss 60.214\n"
     ]
    },
    {
     "name": "stderr",
     "output_type": "stream",
     "text": [
      "Epoch 705: 272batch [00:11, 23.31batch/s, loss=7.71e+4]\n"
     ]
    },
    {
     "name": "stdout",
     "output_type": "stream",
     "text": [
      "epoch 705: avg train loss 73790.77, bar train loss 212.968, len train loss 4.314, col train loss 139.350\n",
      "epoch 705: avg test  loss 74112.02, bar  test loss 91.772, len  test loss 1.855, col  test loss 60.248\n"
     ]
    },
    {
     "name": "stderr",
     "output_type": "stream",
     "text": [
      "Epoch 706: 272batch [00:11, 23.78batch/s, loss=7.14e+4]\n"
     ]
    },
    {
     "name": "stdout",
     "output_type": "stream",
     "text": [
      "epoch 706: avg train loss 73794.12, bar train loss 212.966, len train loss 4.314, col train loss 139.364\n",
      "epoch 706: avg test  loss 74095.47, bar  test loss 91.588, len  test loss 1.850, col  test loss 60.182\n"
     ]
    },
    {
     "name": "stderr",
     "output_type": "stream",
     "text": [
      "Epoch 707: 272batch [00:11, 23.87batch/s, loss=7.95e+4]\n"
     ]
    },
    {
     "name": "stdout",
     "output_type": "stream",
     "text": [
      "epoch 707: avg train loss 73778.83, bar train loss 212.913, len train loss 4.313, col train loss 139.316\n",
      "epoch 707: avg test  loss 74121.28, bar  test loss 91.491, len  test loss 1.853, col  test loss 60.041\n"
     ]
    },
    {
     "name": "stderr",
     "output_type": "stream",
     "text": [
      "Epoch 708: 272batch [00:11, 24.25batch/s, loss=7.34e+4]\n"
     ]
    },
    {
     "name": "stdout",
     "output_type": "stream",
     "text": [
      "epoch 708: avg train loss 73797.07, bar train loss 212.975, len train loss 4.314, col train loss 139.327\n",
      "epoch 708: avg test  loss 74096.79, bar  test loss 91.702, len  test loss 1.854, col  test loss 60.140\n"
     ]
    },
    {
     "name": "stderr",
     "output_type": "stream",
     "text": [
      "Epoch 709: 272batch [00:11, 24.38batch/s, loss=6.92e+4]\n"
     ]
    },
    {
     "name": "stdout",
     "output_type": "stream",
     "text": [
      "epoch 709: avg train loss 73779.05, bar train loss 212.911, len train loss 4.315, col train loss 139.267\n",
      "epoch 709: avg test  loss 74114.23, bar  test loss 91.667, len  test loss 1.852, col  test loss 60.110\n"
     ]
    },
    {
     "name": "stderr",
     "output_type": "stream",
     "text": [
      "Epoch 710: 272batch [00:11, 24.08batch/s, loss=7.01e+4]\n"
     ]
    },
    {
     "name": "stdout",
     "output_type": "stream",
     "text": [
      "epoch 710: avg train loss 73776.14, bar train loss 212.912, len train loss 4.313, col train loss 139.256\n",
      "epoch 710: avg test  loss 74128.36, bar  test loss 91.665, len  test loss 1.852, col  test loss 60.059\n"
     ]
    },
    {
     "name": "stderr",
     "output_type": "stream",
     "text": [
      "Epoch 711: 272batch [00:11, 23.36batch/s, loss=7.84e+4]\n"
     ]
    },
    {
     "name": "stdout",
     "output_type": "stream",
     "text": [
      "epoch 711: avg train loss 73767.17, bar train loss 212.877, len train loss 4.312, col train loss 139.236\n",
      "epoch 711: avg test  loss 74098.27, bar  test loss 91.394, len  test loss 1.850, col  test loss 59.907\n"
     ]
    },
    {
     "name": "stderr",
     "output_type": "stream",
     "text": [
      "Epoch 712: 272batch [00:11, 23.36batch/s, loss=7.31e+4]\n"
     ]
    },
    {
     "name": "stdout",
     "output_type": "stream",
     "text": [
      "epoch 712: avg train loss 73771.57, bar train loss 212.903, len train loss 4.315, col train loss 139.259\n",
      "epoch 712: avg test  loss 74099.34, bar  test loss 91.652, len  test loss 1.852, col  test loss 60.208\n"
     ]
    },
    {
     "name": "stderr",
     "output_type": "stream",
     "text": [
      "Epoch 713: 272batch [00:11, 23.35batch/s, loss=7.81e+4]\n"
     ]
    },
    {
     "name": "stdout",
     "output_type": "stream",
     "text": [
      "epoch 713: avg train loss 73779.30, bar train loss 212.928, len train loss 4.315, col train loss 139.239\n",
      "epoch 713: avg test  loss 74099.50, bar  test loss 91.452, len  test loss 1.851, col  test loss 59.988\n"
     ]
    },
    {
     "name": "stderr",
     "output_type": "stream",
     "text": [
      "Epoch 714: 272batch [00:11, 23.58batch/s, loss=7.41e+4]\n"
     ]
    },
    {
     "name": "stdout",
     "output_type": "stream",
     "text": [
      "epoch 714: avg train loss 73759.08, bar train loss 212.871, len train loss 4.312, col train loss 139.205\n",
      "epoch 714: avg test  loss 74087.43, bar  test loss 91.537, len  test loss 1.850, col  test loss 59.965\n"
     ]
    },
    {
     "name": "stderr",
     "output_type": "stream",
     "text": [
      "Epoch 715: 272batch [00:11, 24.16batch/s, loss=7.21e+4]\n"
     ]
    },
    {
     "name": "stdout",
     "output_type": "stream",
     "text": [
      "epoch 715: avg train loss 73759.14, bar train loss 212.864, len train loss 4.315, col train loss 139.196\n",
      "epoch 715: avg test  loss 74061.03, bar  test loss 91.568, len  test loss 1.850, col  test loss 60.137\n"
     ]
    },
    {
     "name": "stderr",
     "output_type": "stream",
     "text": [
      "Epoch 716: 272batch [00:11, 23.98batch/s, loss=7.02e+4]\n"
     ]
    },
    {
     "name": "stdout",
     "output_type": "stream",
     "text": [
      "epoch 716: avg train loss 73762.66, bar train loss 212.851, len train loss 4.314, col train loss 139.188\n",
      "epoch 716: avg test  loss 74061.34, bar  test loss 91.583, len  test loss 1.851, col  test loss 60.049\n"
     ]
    },
    {
     "name": "stderr",
     "output_type": "stream",
     "text": [
      "Epoch 717: 272batch [00:11, 23.97batch/s, loss=8.05e+4]\n"
     ]
    },
    {
     "name": "stdout",
     "output_type": "stream",
     "text": [
      "epoch 717: avg train loss 73750.10, bar train loss 212.843, len train loss 4.314, col train loss 139.141\n",
      "epoch 717: avg test  loss 74075.91, bar  test loss 91.486, len  test loss 1.855, col  test loss 59.979\n"
     ]
    },
    {
     "name": "stderr",
     "output_type": "stream",
     "text": [
      "Epoch 718: 272batch [00:11, 23.85batch/s, loss=7.19e+4]\n"
     ]
    },
    {
     "name": "stdout",
     "output_type": "stream",
     "text": [
      "epoch 718: avg train loss 73753.36, bar train loss 212.849, len train loss 4.313, col train loss 139.186\n",
      "epoch 718: avg test  loss 74098.45, bar  test loss 91.414, len  test loss 1.850, col  test loss 59.911\n"
     ]
    },
    {
     "name": "stderr",
     "output_type": "stream",
     "text": [
      "Epoch 719: 272batch [00:11, 24.04batch/s, loss=7.21e+4]\n"
     ]
    },
    {
     "name": "stdout",
     "output_type": "stream",
     "text": [
      "epoch 719: avg train loss 73743.97, bar train loss 212.838, len train loss 4.314, col train loss 139.115\n",
      "epoch 719: avg test  loss 74091.98, bar  test loss 91.551, len  test loss 1.855, col  test loss 59.996\n"
     ]
    },
    {
     "name": "stderr",
     "output_type": "stream",
     "text": [
      "Epoch 720: 272batch [00:11, 23.78batch/s, loss=7.51e+4]\n"
     ]
    },
    {
     "name": "stdout",
     "output_type": "stream",
     "text": [
      "epoch 720: avg train loss 73749.34, bar train loss 212.840, len train loss 4.315, col train loss 139.065\n",
      "epoch 720: avg test  loss 74055.47, bar  test loss 91.453, len  test loss 1.850, col  test loss 59.981\n"
     ]
    },
    {
     "name": "stderr",
     "output_type": "stream",
     "text": [
      "Epoch 721: 272batch [00:11, 23.33batch/s, loss=7.01e+4]\n"
     ]
    },
    {
     "name": "stdout",
     "output_type": "stream",
     "text": [
      "epoch 721: avg train loss 73742.38, bar train loss 212.799, len train loss 4.312, col train loss 139.073\n",
      "epoch 721: avg test  loss 74083.83, bar  test loss 91.431, len  test loss 1.854, col  test loss 59.979\n"
     ]
    },
    {
     "name": "stderr",
     "output_type": "stream",
     "text": [
      "Epoch 722: 272batch [00:11, 23.65batch/s, loss=7.62e+4]\n"
     ]
    },
    {
     "name": "stdout",
     "output_type": "stream",
     "text": [
      "epoch 722: avg train loss 73739.97, bar train loss 212.804, len train loss 4.313, col train loss 139.056\n",
      "epoch 722: avg test  loss 74077.85, bar  test loss 91.589, len  test loss 1.854, col  test loss 60.005\n"
     ]
    },
    {
     "name": "stderr",
     "output_type": "stream",
     "text": [
      "Epoch 723: 272batch [00:11, 23.70batch/s, loss=7.03e+4]\n"
     ]
    },
    {
     "name": "stdout",
     "output_type": "stream",
     "text": [
      "epoch 723: avg train loss 73737.60, bar train loss 212.815, len train loss 4.315, col train loss 139.045\n",
      "epoch 723: avg test  loss 74069.03, bar  test loss 91.582, len  test loss 1.853, col  test loss 60.075\n"
     ]
    },
    {
     "name": "stderr",
     "output_type": "stream",
     "text": [
      "Epoch 724: 272batch [00:11, 23.75batch/s, loss=7.66e+4]\n"
     ]
    },
    {
     "name": "stdout",
     "output_type": "stream",
     "text": [
      "epoch 724: avg train loss 73738.44, bar train loss 212.827, len train loss 4.317, col train loss 139.056\n",
      "epoch 724: avg test  loss 74090.77, bar  test loss 91.672, len  test loss 1.853, col  test loss 60.074\n"
     ]
    },
    {
     "name": "stderr",
     "output_type": "stream",
     "text": [
      "Epoch 725: 272batch [00:11, 23.70batch/s, loss=6.96e+4]\n"
     ]
    },
    {
     "name": "stdout",
     "output_type": "stream",
     "text": [
      "epoch 725: avg train loss 73740.12, bar train loss 212.796, len train loss 4.315, col train loss 139.022\n",
      "epoch 725: avg test  loss 74024.90, bar  test loss 91.448, len  test loss 1.850, col  test loss 60.015\n"
     ]
    },
    {
     "name": "stderr",
     "output_type": "stream",
     "text": [
      "Epoch 726: 272batch [00:11, 23.98batch/s, loss=6.87e+4]\n"
     ]
    },
    {
     "name": "stdout",
     "output_type": "stream",
     "text": [
      "epoch 726: avg train loss 73734.44, bar train loss 212.782, len train loss 4.313, col train loss 139.011\n",
      "epoch 726: avg test  loss 74067.05, bar  test loss 91.638, len  test loss 1.848, col  test loss 60.015\n"
     ]
    },
    {
     "name": "stderr",
     "output_type": "stream",
     "text": [
      "Epoch 727: 272batch [00:11, 23.85batch/s, loss=6.62e+4]\n"
     ]
    },
    {
     "name": "stdout",
     "output_type": "stream",
     "text": [
      "epoch 727: avg train loss 73723.87, bar train loss 212.768, len train loss 4.313, col train loss 138.975\n",
      "epoch 727: avg test  loss 74019.97, bar  test loss 91.456, len  test loss 1.850, col  test loss 59.862\n"
     ]
    },
    {
     "name": "stderr",
     "output_type": "stream",
     "text": [
      "Epoch 728: 272batch [00:11, 23.91batch/s, loss=6.94e+4]\n"
     ]
    },
    {
     "name": "stdout",
     "output_type": "stream",
     "text": [
      "epoch 728: avg train loss 73715.02, bar train loss 212.743, len train loss 4.314, col train loss 138.942\n",
      "epoch 728: avg test  loss 74061.02, bar  test loss 91.519, len  test loss 1.851, col  test loss 60.003\n"
     ]
    },
    {
     "name": "stderr",
     "output_type": "stream",
     "text": [
      "Epoch 729: 272batch [00:11, 23.90batch/s, loss=7.35e+4]\n"
     ]
    },
    {
     "name": "stdout",
     "output_type": "stream",
     "text": [
      "epoch 729: avg train loss 73720.42, bar train loss 212.754, len train loss 4.314, col train loss 138.979\n",
      "epoch 729: avg test  loss 74045.73, bar  test loss 91.523, len  test loss 1.849, col  test loss 60.033\n"
     ]
    },
    {
     "name": "stderr",
     "output_type": "stream",
     "text": [
      "Epoch 730: 272batch [00:11, 23.95batch/s, loss=70922.0]\n"
     ]
    },
    {
     "name": "stdout",
     "output_type": "stream",
     "text": [
      "epoch 730: avg train loss 73709.35, bar train loss 212.711, len train loss 4.315, col train loss 138.940\n",
      "epoch 730: avg test  loss 74054.45, bar  test loss 91.459, len  test loss 1.852, col  test loss 59.928\n"
     ]
    },
    {
     "name": "stderr",
     "output_type": "stream",
     "text": [
      "Epoch 731: 272batch [00:11, 23.38batch/s, loss=7.1e+4]\n"
     ]
    },
    {
     "name": "stdout",
     "output_type": "stream",
     "text": [
      "epoch 731: avg train loss 73715.25, bar train loss 212.718, len train loss 4.314, col train loss 138.935\n",
      "epoch 731: avg test  loss 74048.97, bar  test loss 91.436, len  test loss 1.851, col  test loss 59.962\n"
     ]
    },
    {
     "name": "stderr",
     "output_type": "stream",
     "text": [
      "Epoch 732: 272batch [00:11, 23.67batch/s, loss=7.58e+4]\n"
     ]
    },
    {
     "name": "stdout",
     "output_type": "stream",
     "text": [
      "epoch 732: avg train loss 73717.91, bar train loss 212.724, len train loss 4.312, col train loss 138.913\n",
      "epoch 732: avg test  loss 74068.21, bar  test loss 91.590, len  test loss 1.853, col  test loss 60.098\n"
     ]
    },
    {
     "name": "stderr",
     "output_type": "stream",
     "text": [
      "Epoch 733: 272batch [00:11, 23.83batch/s, loss=7.52e+4]\n"
     ]
    },
    {
     "name": "stdout",
     "output_type": "stream",
     "text": [
      "epoch 733: avg train loss 73701.41, bar train loss 212.682, len train loss 4.313, col train loss 138.894\n",
      "epoch 733: avg test  loss 74035.34, bar  test loss 91.451, len  test loss 1.848, col  test loss 59.872\n"
     ]
    },
    {
     "name": "stderr",
     "output_type": "stream",
     "text": [
      "Epoch 734: 272batch [00:11, 23.77batch/s, loss=6.79e+4]\n"
     ]
    },
    {
     "name": "stdout",
     "output_type": "stream",
     "text": [
      "epoch 734: avg train loss 73706.23, bar train loss 212.704, len train loss 4.314, col train loss 138.889\n",
      "epoch 734: avg test  loss 74017.57, bar  test loss 91.434, len  test loss 1.850, col  test loss 59.975\n"
     ]
    },
    {
     "name": "stderr",
     "output_type": "stream",
     "text": [
      "Epoch 735: 272batch [00:11, 23.57batch/s, loss=7.8e+4]\n"
     ]
    },
    {
     "name": "stdout",
     "output_type": "stream",
     "text": [
      "epoch 735: avg train loss 73698.72, bar train loss 212.655, len train loss 4.314, col train loss 138.890\n",
      "epoch 735: avg test  loss 74013.50, bar  test loss 91.411, len  test loss 1.849, col  test loss 59.862\n"
     ]
    },
    {
     "name": "stderr",
     "output_type": "stream",
     "text": [
      "Epoch 736: 272batch [00:11, 23.85batch/s, loss=7.45e+4]\n"
     ]
    },
    {
     "name": "stdout",
     "output_type": "stream",
     "text": [
      "epoch 736: avg train loss 73700.82, bar train loss 212.662, len train loss 4.311, col train loss 138.842\n",
      "epoch 736: avg test  loss 73994.52, bar  test loss 91.442, len  test loss 1.850, col  test loss 59.889\n"
     ]
    },
    {
     "name": "stderr",
     "output_type": "stream",
     "text": [
      "Epoch 737: 272batch [00:11, 24.16batch/s, loss=7.32e+4]\n"
     ]
    },
    {
     "name": "stdout",
     "output_type": "stream",
     "text": [
      "epoch 737: avg train loss 73704.57, bar train loss 212.667, len train loss 4.313, col train loss 138.875\n",
      "epoch 737: avg test  loss 74030.96, bar  test loss 91.481, len  test loss 1.854, col  test loss 59.908\n"
     ]
    },
    {
     "name": "stderr",
     "output_type": "stream",
     "text": [
      "Epoch 738: 272batch [00:11, 24.29batch/s, loss=7e+4]\n"
     ]
    },
    {
     "name": "stdout",
     "output_type": "stream",
     "text": [
      "epoch 738: avg train loss 73702.42, bar train loss 212.656, len train loss 4.313, col train loss 138.830\n",
      "epoch 738: avg test  loss 74042.66, bar  test loss 91.549, len  test loss 1.851, col  test loss 59.906\n"
     ]
    },
    {
     "name": "stderr",
     "output_type": "stream",
     "text": [
      "Epoch 739: 272batch [00:11, 24.36batch/s, loss=7.61e+4]\n"
     ]
    },
    {
     "name": "stdout",
     "output_type": "stream",
     "text": [
      "epoch 739: avg train loss 73691.38, bar train loss 212.629, len train loss 4.313, col train loss 138.835\n",
      "epoch 739: avg test  loss 74025.17, bar  test loss 91.598, len  test loss 1.853, col  test loss 60.024\n"
     ]
    },
    {
     "name": "stderr",
     "output_type": "stream",
     "text": [
      "Epoch 740: 272batch [00:11, 24.36batch/s, loss=8.24e+4]\n"
     ]
    },
    {
     "name": "stdout",
     "output_type": "stream",
     "text": [
      "epoch 740: avg train loss 73704.42, bar train loss 212.687, len train loss 4.313, col train loss 138.804\n",
      "epoch 740: avg test  loss 74036.80, bar  test loss 91.671, len  test loss 1.851, col  test loss 60.083\n"
     ]
    },
    {
     "name": "stderr",
     "output_type": "stream",
     "text": [
      "Epoch 741: 272batch [00:11, 24.20batch/s, loss=6.82e+4]\n"
     ]
    },
    {
     "name": "stdout",
     "output_type": "stream",
     "text": [
      "epoch 741: avg train loss 73684.19, bar train loss 212.671, len train loss 4.311, col train loss 138.787\n",
      "epoch 741: avg test  loss 73987.11, bar  test loss 91.497, len  test loss 1.848, col  test loss 59.933\n"
     ]
    },
    {
     "name": "stderr",
     "output_type": "stream",
     "text": [
      "Epoch 742: 272batch [00:11, 23.88batch/s, loss=7.2e+4]\n"
     ]
    },
    {
     "name": "stdout",
     "output_type": "stream",
     "text": [
      "epoch 742: avg train loss 73685.96, bar train loss 212.655, len train loss 4.312, col train loss 138.781\n",
      "epoch 742: avg test  loss 74000.86, bar  test loss 91.460, len  test loss 1.851, col  test loss 59.826\n"
     ]
    },
    {
     "name": "stderr",
     "output_type": "stream",
     "text": [
      "Epoch 743: 272batch [00:11, 24.05batch/s, loss=8.32e+4]\n"
     ]
    },
    {
     "name": "stdout",
     "output_type": "stream",
     "text": [
      "epoch 743: avg train loss 73675.76, bar train loss 212.580, len train loss 4.313, col train loss 138.735\n",
      "epoch 743: avg test  loss 74068.05, bar  test loss 91.792, len  test loss 1.849, col  test loss 60.115\n"
     ]
    },
    {
     "name": "stderr",
     "output_type": "stream",
     "text": [
      "Epoch 744: 272batch [00:11, 24.31batch/s, loss=7.09e+4]\n"
     ]
    },
    {
     "name": "stdout",
     "output_type": "stream",
     "text": [
      "epoch 744: avg train loss 73681.79, bar train loss 212.611, len train loss 4.313, col train loss 138.775\n",
      "epoch 744: avg test  loss 73981.80, bar  test loss 91.508, len  test loss 1.849, col  test loss 59.844\n"
     ]
    },
    {
     "name": "stderr",
     "output_type": "stream",
     "text": [
      "Epoch 745: 272batch [00:11, 24.28batch/s, loss=7.09e+4]\n"
     ]
    },
    {
     "name": "stdout",
     "output_type": "stream",
     "text": [
      "epoch 745: avg train loss 73676.90, bar train loss 212.615, len train loss 4.315, col train loss 138.719\n",
      "epoch 745: avg test  loss 73995.92, bar  test loss 91.510, len  test loss 1.853, col  test loss 59.892\n"
     ]
    },
    {
     "name": "stderr",
     "output_type": "stream",
     "text": [
      "Epoch 746: 272batch [00:11, 24.20batch/s, loss=7.57e+4]\n"
     ]
    },
    {
     "name": "stdout",
     "output_type": "stream",
     "text": [
      "epoch 746: avg train loss 73684.05, bar train loss 212.615, len train loss 4.313, col train loss 138.749\n",
      "epoch 746: avg test  loss 74031.23, bar  test loss 91.495, len  test loss 1.852, col  test loss 59.865\n"
     ]
    },
    {
     "name": "stderr",
     "output_type": "stream",
     "text": [
      "Epoch 747: 272batch [00:11, 24.17batch/s, loss=7.12e+4]\n"
     ]
    },
    {
     "name": "stdout",
     "output_type": "stream",
     "text": [
      "epoch 747: avg train loss 73676.28, bar train loss 212.599, len train loss 4.314, col train loss 138.693\n",
      "epoch 747: avg test  loss 74012.57, bar  test loss 91.564, len  test loss 1.848, col  test loss 59.914\n"
     ]
    },
    {
     "name": "stderr",
     "output_type": "stream",
     "text": [
      "Epoch 748: 272batch [00:11, 24.32batch/s, loss=7.39e+4]\n"
     ]
    },
    {
     "name": "stdout",
     "output_type": "stream",
     "text": [
      "epoch 748: avg train loss 73670.75, bar train loss 212.566, len train loss 4.311, col train loss 138.692\n",
      "epoch 748: avg test  loss 73995.66, bar  test loss 91.472, len  test loss 1.851, col  test loss 59.873\n"
     ]
    },
    {
     "name": "stderr",
     "output_type": "stream",
     "text": [
      "Epoch 749: 272batch [00:11, 24.24batch/s, loss=7.21e+4]\n"
     ]
    },
    {
     "name": "stdout",
     "output_type": "stream",
     "text": [
      "epoch 749: avg train loss 73670.12, bar train loss 212.557, len train loss 4.313, col train loss 138.695\n",
      "epoch 749: avg test  loss 74020.32, bar  test loss 91.346, len  test loss 1.847, col  test loss 59.789\n"
     ]
    },
    {
     "name": "stderr",
     "output_type": "stream",
     "text": [
      "Epoch 750: 272batch [00:11, 24.22batch/s, loss=7.35e+4]\n"
     ]
    },
    {
     "name": "stdout",
     "output_type": "stream",
     "text": [
      "epoch 750: avg train loss 73668.97, bar train loss 212.562, len train loss 4.311, col train loss 138.702\n",
      "epoch 750: avg test  loss 74045.76, bar  test loss 91.555, len  test loss 1.850, col  test loss 59.982\n"
     ]
    },
    {
     "name": "stderr",
     "output_type": "stream",
     "text": [
      "Epoch 751: 272batch [00:11, 24.09batch/s, loss=7.21e+4]\n"
     ]
    },
    {
     "name": "stdout",
     "output_type": "stream",
     "text": [
      "epoch 751: avg train loss 73666.58, bar train loss 212.539, len train loss 4.314, col train loss 138.693\n",
      "epoch 751: avg test  loss 74013.00, bar  test loss 91.224, len  test loss 1.850, col  test loss 59.743\n"
     ]
    },
    {
     "name": "stderr",
     "output_type": "stream",
     "text": [
      "Epoch 752: 272batch [00:11, 24.02batch/s, loss=7.24e+4]\n"
     ]
    },
    {
     "name": "stdout",
     "output_type": "stream",
     "text": [
      "epoch 752: avg train loss 73671.07, bar train loss 212.566, len train loss 4.315, col train loss 138.655\n",
      "epoch 752: avg test  loss 74011.11, bar  test loss 91.379, len  test loss 1.854, col  test loss 59.816\n"
     ]
    },
    {
     "name": "stderr",
     "output_type": "stream",
     "text": [
      "Epoch 753: 272batch [00:11, 23.83batch/s, loss=7.14e+4]\n"
     ]
    },
    {
     "name": "stdout",
     "output_type": "stream",
     "text": [
      "epoch 753: avg train loss 73663.59, bar train loss 212.552, len train loss 4.312, col train loss 138.623\n",
      "epoch 753: avg test  loss 73982.03, bar  test loss 91.371, len  test loss 1.850, col  test loss 59.839\n"
     ]
    },
    {
     "name": "stderr",
     "output_type": "stream",
     "text": [
      "Epoch 754: 272batch [00:11, 23.80batch/s, loss=7.32e+4]\n"
     ]
    },
    {
     "name": "stdout",
     "output_type": "stream",
     "text": [
      "epoch 754: avg train loss 73649.07, bar train loss 212.538, len train loss 4.314, col train loss 138.606\n",
      "epoch 754: avg test  loss 74023.12, bar  test loss 91.348, len  test loss 1.848, col  test loss 59.844\n"
     ]
    },
    {
     "name": "stderr",
     "output_type": "stream",
     "text": [
      "Epoch 755: 272batch [00:11, 23.61batch/s, loss=6.9e+4]\n"
     ]
    },
    {
     "name": "stdout",
     "output_type": "stream",
     "text": [
      "epoch 755: avg train loss 73650.31, bar train loss 212.549, len train loss 4.311, col train loss 138.631\n",
      "epoch 755: avg test  loss 74024.73, bar  test loss 91.458, len  test loss 1.853, col  test loss 59.852\n"
     ]
    },
    {
     "name": "stderr",
     "output_type": "stream",
     "text": [
      "Epoch 756: 272batch [00:11, 23.46batch/s, loss=7.31e+4]\n"
     ]
    },
    {
     "name": "stdout",
     "output_type": "stream",
     "text": [
      "epoch 756: avg train loss 73652.65, bar train loss 212.531, len train loss 4.313, col train loss 138.626\n",
      "epoch 756: avg test  loss 73995.09, bar  test loss 91.327, len  test loss 1.848, col  test loss 59.708\n"
     ]
    },
    {
     "name": "stderr",
     "output_type": "stream",
     "text": [
      "Epoch 757: 272batch [00:11, 23.50batch/s, loss=7.74e+4]\n"
     ]
    },
    {
     "name": "stdout",
     "output_type": "stream",
     "text": [
      "epoch 757: avg train loss 73647.16, bar train loss 212.521, len train loss 4.313, col train loss 138.580\n",
      "epoch 757: avg test  loss 73984.09, bar  test loss 91.515, len  test loss 1.853, col  test loss 59.907\n"
     ]
    },
    {
     "name": "stderr",
     "output_type": "stream",
     "text": [
      "Epoch 758: 272batch [00:11, 23.37batch/s, loss=7.24e+4]\n"
     ]
    },
    {
     "name": "stdout",
     "output_type": "stream",
     "text": [
      "epoch 758: avg train loss 73646.00, bar train loss 212.510, len train loss 4.314, col train loss 138.570\n",
      "epoch 758: avg test  loss 74038.53, bar  test loss 91.536, len  test loss 1.848, col  test loss 59.934\n"
     ]
    },
    {
     "name": "stderr",
     "output_type": "stream",
     "text": [
      "Epoch 759: 272batch [00:11, 23.78batch/s, loss=8e+4]\n"
     ]
    },
    {
     "name": "stdout",
     "output_type": "stream",
     "text": [
      "epoch 759: avg train loss 73651.56, bar train loss 212.475, len train loss 4.311, col train loss 138.546\n",
      "epoch 759: avg test  loss 74015.93, bar  test loss 91.464, len  test loss 1.851, col  test loss 59.831\n"
     ]
    },
    {
     "name": "stderr",
     "output_type": "stream",
     "text": [
      "Epoch 760: 272batch [00:11, 23.72batch/s, loss=7.58e+4]\n"
     ]
    },
    {
     "name": "stdout",
     "output_type": "stream",
     "text": [
      "epoch 760: avg train loss 73641.23, bar train loss 212.488, len train loss 4.313, col train loss 138.562\n",
      "epoch 760: avg test  loss 73956.41, bar  test loss 91.358, len  test loss 1.851, col  test loss 59.756\n"
     ]
    },
    {
     "name": "stderr",
     "output_type": "stream",
     "text": [
      "Epoch 761: 272batch [00:11, 23.85batch/s, loss=7.34e+4]\n"
     ]
    },
    {
     "name": "stdout",
     "output_type": "stream",
     "text": [
      "epoch 761: avg train loss 73643.55, bar train loss 212.499, len train loss 4.315, col train loss 138.542\n",
      "epoch 761: avg test  loss 73978.62, bar  test loss 91.435, len  test loss 1.852, col  test loss 59.829\n"
     ]
    },
    {
     "name": "stderr",
     "output_type": "stream",
     "text": [
      "Epoch 762: 272batch [00:11, 24.06batch/s, loss=7.45e+4]\n"
     ]
    },
    {
     "name": "stdout",
     "output_type": "stream",
     "text": [
      "epoch 762: avg train loss 73631.40, bar train loss 212.440, len train loss 4.312, col train loss 138.544\n",
      "epoch 762: avg test  loss 73971.17, bar  test loss 91.209, len  test loss 1.850, col  test loss 59.686\n"
     ]
    },
    {
     "name": "stderr",
     "output_type": "stream",
     "text": [
      "Epoch 763: 272batch [00:11, 24.12batch/s, loss=7.33e+4]\n"
     ]
    },
    {
     "name": "stdout",
     "output_type": "stream",
     "text": [
      "epoch 763: avg train loss 73634.30, bar train loss 212.482, len train loss 4.313, col train loss 138.533\n",
      "epoch 763: avg test  loss 73970.66, bar  test loss 91.501, len  test loss 1.853, col  test loss 59.864\n"
     ]
    },
    {
     "name": "stderr",
     "output_type": "stream",
     "text": [
      "Epoch 764: 272batch [00:11, 23.96batch/s, loss=7.16e+4]\n"
     ]
    },
    {
     "name": "stdout",
     "output_type": "stream",
     "text": [
      "epoch 764: avg train loss 73625.91, bar train loss 212.472, len train loss 4.313, col train loss 138.486\n",
      "epoch 764: avg test  loss 73949.45, bar  test loss 91.441, len  test loss 1.852, col  test loss 59.845\n"
     ]
    },
    {
     "name": "stderr",
     "output_type": "stream",
     "text": [
      "Epoch 765: 272batch [00:11, 24.16batch/s, loss=6.56e+4]\n"
     ]
    },
    {
     "name": "stdout",
     "output_type": "stream",
     "text": [
      "epoch 765: avg train loss 73636.14, bar train loss 212.459, len train loss 4.312, col train loss 138.515\n",
      "epoch 765: avg test  loss 73934.28, bar  test loss 91.316, len  test loss 1.850, col  test loss 59.718\n"
     ]
    },
    {
     "name": "stderr",
     "output_type": "stream",
     "text": [
      "Epoch 766: 272batch [00:11, 23.98batch/s, loss=7.71e+4]\n"
     ]
    },
    {
     "name": "stdout",
     "output_type": "stream",
     "text": [
      "epoch 766: avg train loss 73642.48, bar train loss 212.456, len train loss 4.314, col train loss 138.508\n",
      "epoch 766: avg test  loss 73980.49, bar  test loss 91.393, len  test loss 1.848, col  test loss 59.904\n"
     ]
    },
    {
     "name": "stderr",
     "output_type": "stream",
     "text": [
      "Epoch 767: 272batch [00:11, 24.09batch/s, loss=6.88e+4]\n"
     ]
    },
    {
     "name": "stdout",
     "output_type": "stream",
     "text": [
      "epoch 767: avg train loss 73628.39, bar train loss 212.443, len train loss 4.313, col train loss 138.510\n",
      "epoch 767: avg test  loss 73956.83, bar  test loss 91.418, len  test loss 1.852, col  test loss 59.767\n"
     ]
    },
    {
     "name": "stderr",
     "output_type": "stream",
     "text": [
      "Epoch 768: 272batch [00:11, 24.13batch/s, loss=7.16e+4]\n"
     ]
    },
    {
     "name": "stdout",
     "output_type": "stream",
     "text": [
      "epoch 768: avg train loss 73629.52, bar train loss 212.429, len train loss 4.314, col train loss 138.495\n",
      "epoch 768: avg test  loss 73962.33, bar  test loss 91.393, len  test loss 1.850, col  test loss 59.787\n"
     ]
    },
    {
     "name": "stderr",
     "output_type": "stream",
     "text": [
      "Epoch 769: 272batch [00:11, 23.97batch/s, loss=7.14e+4]\n"
     ]
    },
    {
     "name": "stdout",
     "output_type": "stream",
     "text": [
      "epoch 769: avg train loss 73624.83, bar train loss 212.415, len train loss 4.313, col train loss 138.468\n",
      "epoch 769: avg test  loss 73931.22, bar  test loss 91.350, len  test loss 1.852, col  test loss 59.789\n"
     ]
    },
    {
     "name": "stderr",
     "output_type": "stream",
     "text": [
      "Epoch 770: 272batch [00:11, 24.11batch/s, loss=6.88e+4]\n"
     ]
    },
    {
     "name": "stdout",
     "output_type": "stream",
     "text": [
      "epoch 770: avg train loss 73621.48, bar train loss 212.400, len train loss 4.313, col train loss 138.441\n",
      "epoch 770: avg test  loss 73961.08, bar  test loss 91.353, len  test loss 1.852, col  test loss 59.705\n"
     ]
    },
    {
     "name": "stderr",
     "output_type": "stream",
     "text": [
      "Epoch 771: 272batch [00:11, 23.66batch/s, loss=7.19e+4]\n"
     ]
    },
    {
     "name": "stdout",
     "output_type": "stream",
     "text": [
      "epoch 771: avg train loss 73627.59, bar train loss 212.450, len train loss 4.315, col train loss 138.451\n",
      "epoch 771: avg test  loss 73982.98, bar  test loss 91.298, len  test loss 1.851, col  test loss 59.725\n"
     ]
    },
    {
     "name": "stderr",
     "output_type": "stream",
     "text": [
      "Epoch 772: 272batch [00:11, 23.51batch/s, loss=6.51e+4]\n"
     ]
    },
    {
     "name": "stdout",
     "output_type": "stream",
     "text": [
      "epoch 772: avg train loss 73621.16, bar train loss 212.401, len train loss 4.314, col train loss 138.458\n",
      "epoch 772: avg test  loss 73958.24, bar  test loss 91.342, len  test loss 1.849, col  test loss 59.682\n"
     ]
    },
    {
     "name": "stderr",
     "output_type": "stream",
     "text": [
      "Epoch 773: 272batch [00:11, 23.66batch/s, loss=7.3e+4]\n"
     ]
    },
    {
     "name": "stdout",
     "output_type": "stream",
     "text": [
      "epoch 773: avg train loss 73624.81, bar train loss 212.431, len train loss 4.313, col train loss 138.473\n",
      "epoch 773: avg test  loss 73952.61, bar  test loss 91.291, len  test loss 1.852, col  test loss 59.702\n"
     ]
    },
    {
     "name": "stderr",
     "output_type": "stream",
     "text": [
      "Epoch 774: 272batch [00:11, 23.58batch/s, loss=6.8e+4]\n"
     ]
    },
    {
     "name": "stdout",
     "output_type": "stream",
     "text": [
      "epoch 774: avg train loss 73613.86, bar train loss 212.363, len train loss 4.315, col train loss 138.410\n",
      "epoch 774: avg test  loss 73916.45, bar  test loss 91.289, len  test loss 1.850, col  test loss 59.759\n"
     ]
    },
    {
     "name": "stderr",
     "output_type": "stream",
     "text": [
      "Epoch 775: 272batch [00:11, 23.61batch/s, loss=7.54e+4]\n"
     ]
    },
    {
     "name": "stdout",
     "output_type": "stream",
     "text": [
      "epoch 775: avg train loss 73616.47, bar train loss 212.376, len train loss 4.313, col train loss 138.408\n",
      "epoch 775: avg test  loss 73966.83, bar  test loss 91.426, len  test loss 1.848, col  test loss 59.811\n"
     ]
    },
    {
     "name": "stderr",
     "output_type": "stream",
     "text": [
      "Epoch 776: 272batch [00:11, 23.66batch/s, loss=7.67e+4]\n"
     ]
    },
    {
     "name": "stdout",
     "output_type": "stream",
     "text": [
      "epoch 776: avg train loss 73612.28, bar train loss 212.371, len train loss 4.312, col train loss 138.394\n",
      "epoch 776: avg test  loss 73955.26, bar  test loss 91.483, len  test loss 1.851, col  test loss 59.760\n"
     ]
    },
    {
     "name": "stderr",
     "output_type": "stream",
     "text": [
      "Epoch 777: 272batch [00:11, 23.79batch/s, loss=7.26e+4]\n"
     ]
    },
    {
     "name": "stdout",
     "output_type": "stream",
     "text": [
      "epoch 777: avg train loss 73599.77, bar train loss 212.345, len train loss 4.314, col train loss 138.365\n",
      "epoch 777: avg test  loss 73991.27, bar  test loss 91.553, len  test loss 1.856, col  test loss 59.812\n"
     ]
    },
    {
     "name": "stderr",
     "output_type": "stream",
     "text": [
      "Epoch 778: 272batch [00:11, 23.92batch/s, loss=7.79e+4]\n"
     ]
    },
    {
     "name": "stdout",
     "output_type": "stream",
     "text": [
      "epoch 778: avg train loss 73601.46, bar train loss 212.362, len train loss 4.315, col train loss 138.369\n",
      "epoch 778: avg test  loss 73962.23, bar  test loss 91.413, len  test loss 1.851, col  test loss 59.709\n"
     ]
    },
    {
     "name": "stderr",
     "output_type": "stream",
     "text": [
      "Epoch 779: 272batch [00:11, 24.01batch/s, loss=7.14e+4]\n"
     ]
    },
    {
     "name": "stdout",
     "output_type": "stream",
     "text": [
      "epoch 779: avg train loss 73607.99, bar train loss 212.352, len train loss 4.315, col train loss 138.362\n",
      "epoch 779: avg test  loss 73939.33, bar  test loss 91.315, len  test loss 1.852, col  test loss 59.699\n"
     ]
    },
    {
     "name": "stderr",
     "output_type": "stream",
     "text": [
      "Epoch 780: 272batch [00:11, 23.69batch/s, loss=7.04e+4]\n"
     ]
    },
    {
     "name": "stdout",
     "output_type": "stream",
     "text": [
      "epoch 780: avg train loss 73598.73, bar train loss 212.344, len train loss 4.314, col train loss 138.371\n",
      "epoch 780: avg test  loss 73936.59, bar  test loss 91.342, len  test loss 1.851, col  test loss 59.607\n"
     ]
    },
    {
     "name": "stderr",
     "output_type": "stream",
     "text": [
      "Epoch 781: 272batch [00:11, 23.26batch/s, loss=6.93e+4]\n"
     ]
    },
    {
     "name": "stdout",
     "output_type": "stream",
     "text": [
      "epoch 781: avg train loss 73598.99, bar train loss 212.341, len train loss 4.313, col train loss 138.341\n",
      "epoch 781: avg test  loss 73925.32, bar  test loss 91.446, len  test loss 1.849, col  test loss 59.836\n"
     ]
    },
    {
     "name": "stderr",
     "output_type": "stream",
     "text": [
      "Epoch 782: 272batch [00:11, 23.55batch/s, loss=7.32e+4]\n"
     ]
    },
    {
     "name": "stdout",
     "output_type": "stream",
     "text": [
      "epoch 782: avg train loss 73606.41, bar train loss 212.346, len train loss 4.313, col train loss 138.339\n",
      "epoch 782: avg test  loss 73949.59, bar  test loss 91.411, len  test loss 1.850, col  test loss 59.659\n"
     ]
    },
    {
     "name": "stderr",
     "output_type": "stream",
     "text": [
      "Epoch 783: 272batch [00:11, 23.52batch/s, loss=6.33e+4]\n"
     ]
    },
    {
     "name": "stdout",
     "output_type": "stream",
     "text": [
      "epoch 783: avg train loss 73598.29, bar train loss 212.314, len train loss 4.314, col train loss 138.302\n",
      "epoch 783: avg test  loss 73934.91, bar  test loss 91.350, len  test loss 1.852, col  test loss 59.671\n"
     ]
    },
    {
     "name": "stderr",
     "output_type": "stream",
     "text": [
      "Epoch 784: 272batch [00:11, 23.76batch/s, loss=7.84e+4]\n"
     ]
    },
    {
     "name": "stdout",
     "output_type": "stream",
     "text": [
      "epoch 784: avg train loss 73596.32, bar train loss 212.323, len train loss 4.314, col train loss 138.317\n",
      "epoch 784: avg test  loss 73981.34, bar  test loss 91.408, len  test loss 1.853, col  test loss 59.819\n"
     ]
    },
    {
     "name": "stderr",
     "output_type": "stream",
     "text": [
      "Epoch 785: 272batch [00:11, 23.51batch/s, loss=7.98e+4]\n"
     ]
    },
    {
     "name": "stdout",
     "output_type": "stream",
     "text": [
      "epoch 785: avg train loss 73592.11, bar train loss 212.311, len train loss 4.312, col train loss 138.321\n",
      "epoch 785: avg test  loss 73937.34, bar  test loss 91.354, len  test loss 1.851, col  test loss 59.737\n"
     ]
    },
    {
     "name": "stderr",
     "output_type": "stream",
     "text": [
      "Epoch 786: 272batch [00:11, 23.69batch/s, loss=7.1e+4]\n"
     ]
    },
    {
     "name": "stdout",
     "output_type": "stream",
     "text": [
      "epoch 786: avg train loss 73591.49, bar train loss 212.297, len train loss 4.314, col train loss 138.323\n",
      "epoch 786: avg test  loss 73914.12, bar  test loss 91.399, len  test loss 1.850, col  test loss 59.716\n"
     ]
    },
    {
     "name": "stderr",
     "output_type": "stream",
     "text": [
      "Epoch 787: 272batch [00:11, 23.78batch/s, loss=6.98e+4]\n"
     ]
    },
    {
     "name": "stdout",
     "output_type": "stream",
     "text": [
      "epoch 787: avg train loss 73583.31, bar train loss 212.294, len train loss 4.314, col train loss 138.274\n",
      "epoch 787: avg test  loss 73940.10, bar  test loss 91.157, len  test loss 1.850, col  test loss 59.609\n"
     ]
    },
    {
     "name": "stderr",
     "output_type": "stream",
     "text": [
      "Epoch 788: 272batch [00:11, 23.74batch/s, loss=7.37e+4]\n"
     ]
    },
    {
     "name": "stdout",
     "output_type": "stream",
     "text": [
      "epoch 788: avg train loss 73592.90, bar train loss 212.327, len train loss 4.316, col train loss 138.274\n",
      "epoch 788: avg test  loss 73965.56, bar  test loss 91.503, len  test loss 1.850, col  test loss 59.883\n"
     ]
    },
    {
     "name": "stderr",
     "output_type": "stream",
     "text": [
      "Epoch 789: 272batch [00:11, 23.83batch/s, loss=7.72e+4]\n"
     ]
    },
    {
     "name": "stdout",
     "output_type": "stream",
     "text": [
      "epoch 789: avg train loss 73582.69, bar train loss 212.263, len train loss 4.313, col train loss 138.282\n",
      "epoch 789: avg test  loss 73906.56, bar  test loss 91.233, len  test loss 1.850, col  test loss 59.684\n"
     ]
    },
    {
     "name": "stderr",
     "output_type": "stream",
     "text": [
      "Epoch 790: 272batch [00:11, 23.36batch/s, loss=7.69e+4]\n"
     ]
    },
    {
     "name": "stdout",
     "output_type": "stream",
     "text": [
      "epoch 790: avg train loss 73589.97, bar train loss 212.266, len train loss 4.313, col train loss 138.287\n",
      "epoch 790: avg test  loss 73915.55, bar  test loss 91.270, len  test loss 1.851, col  test loss 59.618\n"
     ]
    },
    {
     "name": "stderr",
     "output_type": "stream",
     "text": [
      "Epoch 791: 272batch [00:11, 23.42batch/s, loss=7.09e+4]\n"
     ]
    },
    {
     "name": "stdout",
     "output_type": "stream",
     "text": [
      "epoch 791: avg train loss 73586.03, bar train loss 212.257, len train loss 4.313, col train loss 138.299\n",
      "epoch 791: avg test  loss 73938.37, bar  test loss 91.474, len  test loss 1.855, col  test loss 59.894\n"
     ]
    },
    {
     "name": "stderr",
     "output_type": "stream",
     "text": [
      "Epoch 792: 272batch [00:11, 23.57batch/s, loss=6.65e+4]\n"
     ]
    },
    {
     "name": "stdout",
     "output_type": "stream",
     "text": [
      "epoch 792: avg train loss 73584.21, bar train loss 212.277, len train loss 4.314, col train loss 138.260\n",
      "epoch 792: avg test  loss 73916.65, bar  test loss 91.140, len  test loss 1.847, col  test loss 59.483\n"
     ]
    },
    {
     "name": "stderr",
     "output_type": "stream",
     "text": [
      "Epoch 793: 272batch [00:11, 22.99batch/s, loss=7.47e+4]\n"
     ]
    },
    {
     "name": "stdout",
     "output_type": "stream",
     "text": [
      "epoch 793: avg train loss 73581.88, bar train loss 212.267, len train loss 4.313, col train loss 138.248\n",
      "epoch 793: avg test  loss 73924.48, bar  test loss 91.370, len  test loss 1.851, col  test loss 59.727\n"
     ]
    },
    {
     "name": "stderr",
     "output_type": "stream",
     "text": [
      "Epoch 794: 272batch [00:11, 23.43batch/s, loss=7.16e+4]\n"
     ]
    },
    {
     "name": "stdout",
     "output_type": "stream",
     "text": [
      "epoch 794: avg train loss 73581.52, bar train loss 212.265, len train loss 4.314, col train loss 138.231\n",
      "epoch 794: avg test  loss 73909.59, bar  test loss 91.328, len  test loss 1.853, col  test loss 59.703\n"
     ]
    },
    {
     "name": "stderr",
     "output_type": "stream",
     "text": [
      "Epoch 795: 272batch [00:11, 23.60batch/s, loss=7.82e+4]\n"
     ]
    },
    {
     "name": "stdout",
     "output_type": "stream",
     "text": [
      "epoch 795: avg train loss 73578.62, bar train loss 212.228, len train loss 4.312, col train loss 138.223\n",
      "epoch 795: avg test  loss 73896.31, bar  test loss 91.354, len  test loss 1.856, col  test loss 59.660\n"
     ]
    },
    {
     "name": "stderr",
     "output_type": "stream",
     "text": [
      "Epoch 796: 272batch [00:11, 23.66batch/s, loss=7.73e+4]\n"
     ]
    },
    {
     "name": "stdout",
     "output_type": "stream",
     "text": [
      "epoch 796: avg train loss 73582.05, bar train loss 212.268, len train loss 4.316, col train loss 138.228\n",
      "epoch 796: avg test  loss 73956.39, bar  test loss 91.239, len  test loss 1.850, col  test loss 59.588\n"
     ]
    },
    {
     "name": "stderr",
     "output_type": "stream",
     "text": [
      "Epoch 797: 272batch [00:11, 23.76batch/s, loss=7.5e+4]\n"
     ]
    },
    {
     "name": "stdout",
     "output_type": "stream",
     "text": [
      "epoch 797: avg train loss 73570.56, bar train loss 212.231, len train loss 4.313, col train loss 138.202\n",
      "epoch 797: avg test  loss 73905.89, bar  test loss 91.367, len  test loss 1.851, col  test loss 59.679\n"
     ]
    },
    {
     "name": "stderr",
     "output_type": "stream",
     "text": [
      "Epoch 798: 272batch [00:11, 23.73batch/s, loss=73649.0]\n"
     ]
    },
    {
     "name": "stdout",
     "output_type": "stream",
     "text": [
      "epoch 798: avg train loss 73573.98, bar train loss 212.258, len train loss 4.315, col train loss 138.197\n",
      "epoch 798: avg test  loss 73911.77, bar  test loss 91.414, len  test loss 1.851, col  test loss 59.713\n"
     ]
    },
    {
     "name": "stderr",
     "output_type": "stream",
     "text": [
      "Epoch 799: 272batch [00:11, 23.81batch/s, loss=7.56e+4]\n"
     ]
    },
    {
     "name": "stdout",
     "output_type": "stream",
     "text": [
      "epoch 799: avg train loss 73572.86, bar train loss 212.265, len train loss 4.315, col train loss 138.198\n",
      "epoch 799: avg test  loss 73928.17, bar  test loss 91.412, len  test loss 1.849, col  test loss 59.670\n"
     ]
    },
    {
     "name": "stderr",
     "output_type": "stream",
     "text": [
      "Epoch 800: 272batch [00:11, 23.70batch/s, loss=7.73e+4]\n"
     ]
    },
    {
     "name": "stdout",
     "output_type": "stream",
     "text": [
      "epoch 800: avg train loss 73568.03, bar train loss 212.222, len train loss 4.314, col train loss 138.174\n",
      "epoch 800: avg test  loss 73930.17, bar  test loss 91.430, len  test loss 1.852, col  test loss 59.749\n"
     ]
    },
    {
     "name": "stderr",
     "output_type": "stream",
     "text": [
      "/usr/local/lib/python3.7/dist-packages/ipykernel_launcher.py:12: RuntimeWarning: More than 20 figures have been opened. Figures created through the pyplot interface (`matplotlib.pyplot.figure`) are retained until explicitly closed and may consume too much memory. (To control this warning, see the rcParam `figure.max_open_warning`).\n",
      "  if sys.path[0] == '':\n",
      "Epoch 801: 272batch [00:11, 23.37batch/s, loss=7.8e+4]\n"
     ]
    },
    {
     "name": "stdout",
     "output_type": "stream",
     "text": [
      "epoch 801: avg train loss 73567.91, bar train loss 212.226, len train loss 4.315, col train loss 138.184\n",
      "epoch 801: avg test  loss 73913.07, bar  test loss 91.315, len  test loss 1.851, col  test loss 59.591\n"
     ]
    },
    {
     "name": "stderr",
     "output_type": "stream",
     "text": [
      "Epoch 802: 272batch [00:11, 23.67batch/s, loss=7.8e+4]\n"
     ]
    },
    {
     "name": "stdout",
     "output_type": "stream",
     "text": [
      "epoch 802: avg train loss 73569.38, bar train loss 212.256, len train loss 4.315, col train loss 138.185\n",
      "epoch 802: avg test  loss 73913.07, bar  test loss 91.345, len  test loss 1.850, col  test loss 59.645\n"
     ]
    },
    {
     "name": "stderr",
     "output_type": "stream",
     "text": [
      "Epoch 803: 272batch [00:11, 23.58batch/s, loss=7.63e+4]\n"
     ]
    },
    {
     "name": "stdout",
     "output_type": "stream",
     "text": [
      "epoch 803: avg train loss 73567.86, bar train loss 212.193, len train loss 4.315, col train loss 138.188\n",
      "epoch 803: avg test  loss 73906.74, bar  test loss 91.178, len  test loss 1.853, col  test loss 59.571\n"
     ]
    },
    {
     "name": "stderr",
     "output_type": "stream",
     "text": [
      "Epoch 804: 272batch [00:11, 23.46batch/s, loss=7.23e+4]\n"
     ]
    },
    {
     "name": "stdout",
     "output_type": "stream",
     "text": [
      "epoch 804: avg train loss 73564.59, bar train loss 212.233, len train loss 4.316, col train loss 138.191\n",
      "epoch 804: avg test  loss 73907.30, bar  test loss 91.394, len  test loss 1.854, col  test loss 59.626\n"
     ]
    },
    {
     "name": "stderr",
     "output_type": "stream",
     "text": [
      "Epoch 805: 272batch [00:11, 23.56batch/s, loss=7.65e+4]\n"
     ]
    },
    {
     "name": "stdout",
     "output_type": "stream",
     "text": [
      "epoch 805: avg train loss 73561.79, bar train loss 212.198, len train loss 4.312, col train loss 138.158\n",
      "epoch 805: avg test  loss 73918.97, bar  test loss 91.363, len  test loss 1.849, col  test loss 59.657\n"
     ]
    },
    {
     "name": "stderr",
     "output_type": "stream",
     "text": [
      "/usr/local/lib/python3.7/dist-packages/ipykernel_launcher.py:11: RuntimeWarning: More than 20 figures have been opened. Figures created through the pyplot interface (`matplotlib.pyplot.figure`) are retained until explicitly closed and may consume too much memory. (To control this warning, see the rcParam `figure.max_open_warning`).\n",
      "  # This is added back by InteractiveShellApp.init_path()\n",
      "Epoch 806: 272batch [00:11, 23.72batch/s, loss=7.13e+4]\n"
     ]
    },
    {
     "name": "stdout",
     "output_type": "stream",
     "text": [
      "epoch 806: avg train loss 73562.92, bar train loss 212.183, len train loss 4.314, col train loss 138.145\n",
      "epoch 806: avg test  loss 73900.94, bar  test loss 91.362, len  test loss 1.848, col  test loss 59.702\n"
     ]
    },
    {
     "name": "stderr",
     "output_type": "stream",
     "text": [
      "Epoch 807: 272batch [00:11, 23.65batch/s, loss=6.83e+4]\n"
     ]
    },
    {
     "name": "stdout",
     "output_type": "stream",
     "text": [
      "epoch 807: avg train loss 73560.16, bar train loss 212.162, len train loss 4.313, col train loss 138.120\n",
      "epoch 807: avg test  loss 73887.60, bar  test loss 91.305, len  test loss 1.852, col  test loss 59.669\n"
     ]
    },
    {
     "name": "stderr",
     "output_type": "stream",
     "text": [
      "Epoch 808: 272batch [00:11, 23.83batch/s, loss=7.29e+4]\n"
     ]
    },
    {
     "name": "stdout",
     "output_type": "stream",
     "text": [
      "epoch 808: avg train loss 73556.89, bar train loss 212.166, len train loss 4.315, col train loss 138.130\n",
      "epoch 808: avg test  loss 73907.31, bar  test loss 91.311, len  test loss 1.853, col  test loss 59.609\n"
     ]
    },
    {
     "name": "stderr",
     "output_type": "stream",
     "text": [
      "Epoch 809: 272batch [00:11, 23.66batch/s, loss=7.61e+4]\n"
     ]
    },
    {
     "name": "stdout",
     "output_type": "stream",
     "text": [
      "epoch 809: avg train loss 73551.28, bar train loss 212.166, len train loss 4.313, col train loss 138.086\n",
      "epoch 809: avg test  loss 73910.45, bar  test loss 91.292, len  test loss 1.850, col  test loss 59.691\n"
     ]
    },
    {
     "name": "stderr",
     "output_type": "stream",
     "text": [
      "Epoch 810: 272batch [00:11, 23.68batch/s, loss=7.99e+4]\n"
     ]
    },
    {
     "name": "stdout",
     "output_type": "stream",
     "text": [
      "epoch 810: avg train loss 73557.64, bar train loss 212.173, len train loss 4.311, col train loss 138.122\n",
      "epoch 810: avg test  loss 73908.62, bar  test loss 91.407, len  test loss 1.849, col  test loss 59.597\n"
     ]
    },
    {
     "name": "stderr",
     "output_type": "stream",
     "text": [
      "Epoch 811: 272batch [00:11, 23.59batch/s, loss=8e+4]\n"
     ]
    },
    {
     "name": "stdout",
     "output_type": "stream",
     "text": [
      "epoch 811: avg train loss 73552.85, bar train loss 212.180, len train loss 4.310, col train loss 138.108\n",
      "epoch 811: avg test  loss 73890.79, bar  test loss 91.170, len  test loss 1.850, col  test loss 59.512\n"
     ]
    },
    {
     "name": "stderr",
     "output_type": "stream",
     "text": [
      "Epoch 812: 272batch [00:11, 23.57batch/s, loss=7.5e+4]\n"
     ]
    },
    {
     "name": "stdout",
     "output_type": "stream",
     "text": [
      "epoch 812: avg train loss 73546.73, bar train loss 212.163, len train loss 4.313, col train loss 138.052\n",
      "epoch 812: avg test  loss 73890.15, bar  test loss 91.126, len  test loss 1.853, col  test loss 59.498\n"
     ]
    },
    {
     "name": "stderr",
     "output_type": "stream",
     "text": [
      "Epoch 813: 272batch [00:11, 23.56batch/s, loss=7.56e+4]\n"
     ]
    },
    {
     "name": "stdout",
     "output_type": "stream",
     "text": [
      "epoch 813: avg train loss 73548.11, bar train loss 212.143, len train loss 4.314, col train loss 138.067\n",
      "epoch 813: avg test  loss 73910.80, bar  test loss 91.323, len  test loss 1.851, col  test loss 59.628\n"
     ]
    },
    {
     "name": "stderr",
     "output_type": "stream",
     "text": [
      "Epoch 814: 272batch [00:11, 23.63batch/s, loss=7.19e+4]\n"
     ]
    },
    {
     "name": "stdout",
     "output_type": "stream",
     "text": [
      "epoch 814: avg train loss 73551.87, bar train loss 212.139, len train loss 4.314, col train loss 138.090\n",
      "epoch 814: avg test  loss 73890.80, bar  test loss 91.111, len  test loss 1.849, col  test loss 59.466\n"
     ]
    },
    {
     "name": "stderr",
     "output_type": "stream",
     "text": [
      "Epoch 815: 272batch [00:11, 23.63batch/s, loss=7.64e+4]\n"
     ]
    },
    {
     "name": "stdout",
     "output_type": "stream",
     "text": [
      "epoch 815: avg train loss 73533.52, bar train loss 212.100, len train loss 4.313, col train loss 138.027\n",
      "epoch 815: avg test  loss 73877.21, bar  test loss 91.256, len  test loss 1.854, col  test loss 59.563\n"
     ]
    },
    {
     "name": "stderr",
     "output_type": "stream",
     "text": [
      "Epoch 816: 272batch [00:11, 23.58batch/s, loss=6.96e+4]\n"
     ]
    },
    {
     "name": "stdout",
     "output_type": "stream",
     "text": [
      "epoch 816: avg train loss 73542.67, bar train loss 212.104, len train loss 4.312, col train loss 138.028\n",
      "epoch 816: avg test  loss 73886.22, bar  test loss 91.214, len  test loss 1.851, col  test loss 59.470\n"
     ]
    },
    {
     "name": "stderr",
     "output_type": "stream",
     "text": [
      "Epoch 817: 272batch [00:11, 23.62batch/s, loss=7.52e+4]\n"
     ]
    },
    {
     "name": "stdout",
     "output_type": "stream",
     "text": [
      "epoch 817: avg train loss 73552.02, bar train loss 212.143, len train loss 4.313, col train loss 138.095\n",
      "epoch 817: avg test  loss 73896.09, bar  test loss 91.425, len  test loss 1.851, col  test loss 59.804\n"
     ]
    },
    {
     "name": "stderr",
     "output_type": "stream",
     "text": [
      "Epoch 818: 272batch [00:11, 23.71batch/s, loss=7.19e+4]\n"
     ]
    },
    {
     "name": "stdout",
     "output_type": "stream",
     "text": [
      "epoch 818: avg train loss 73542.92, bar train loss 212.135, len train loss 4.312, col train loss 138.059\n",
      "epoch 818: avg test  loss 73896.63, bar  test loss 91.338, len  test loss 1.851, col  test loss 59.672\n"
     ]
    },
    {
     "name": "stderr",
     "output_type": "stream",
     "text": [
      "Epoch 819: 272batch [00:11, 23.77batch/s, loss=8.08e+4]\n"
     ]
    },
    {
     "name": "stdout",
     "output_type": "stream",
     "text": [
      "epoch 819: avg train loss 73534.42, bar train loss 212.100, len train loss 4.314, col train loss 138.009\n",
      "epoch 819: avg test  loss 73854.64, bar  test loss 91.115, len  test loss 1.853, col  test loss 59.498\n"
     ]
    },
    {
     "name": "stderr",
     "output_type": "stream",
     "text": [
      "Epoch 820: 272batch [00:11, 23.07batch/s, loss=7.48e+4]\n"
     ]
    },
    {
     "name": "stdout",
     "output_type": "stream",
     "text": [
      "epoch 820: avg train loss 73544.84, bar train loss 212.125, len train loss 4.312, col train loss 138.092\n",
      "epoch 820: avg test  loss 73906.84, bar  test loss 91.369, len  test loss 1.850, col  test loss 59.643\n"
     ]
    },
    {
     "name": "stderr",
     "output_type": "stream",
     "text": [
      "Epoch 821: 272batch [00:11, 22.98batch/s, loss=7.52e+4]\n"
     ]
    },
    {
     "name": "stdout",
     "output_type": "stream",
     "text": [
      "epoch 821: avg train loss 73542.79, bar train loss 212.117, len train loss 4.312, col train loss 138.026\n",
      "epoch 821: avg test  loss 73873.92, bar  test loss 91.266, len  test loss 1.851, col  test loss 59.474\n"
     ]
    },
    {
     "name": "stderr",
     "output_type": "stream",
     "text": [
      "Epoch 822: 272batch [00:11, 23.22batch/s, loss=7.16e+4]\n"
     ]
    },
    {
     "name": "stdout",
     "output_type": "stream",
     "text": [
      "epoch 822: avg train loss 73541.30, bar train loss 212.132, len train loss 4.313, col train loss 138.049\n",
      "epoch 822: avg test  loss 73868.72, bar  test loss 91.134, len  test loss 1.850, col  test loss 59.455\n"
     ]
    },
    {
     "name": "stderr",
     "output_type": "stream",
     "text": [
      "Epoch 823: 272batch [00:11, 22.92batch/s, loss=7.87e+4]\n"
     ]
    },
    {
     "name": "stdout",
     "output_type": "stream",
     "text": [
      "epoch 823: avg train loss 73533.94, bar train loss 212.104, len train loss 4.313, col train loss 138.024\n",
      "epoch 823: avg test  loss 73871.19, bar  test loss 91.150, len  test loss 1.850, col  test loss 59.484\n"
     ]
    },
    {
     "name": "stderr",
     "output_type": "stream",
     "text": [
      "Epoch 824: 272batch [00:11, 23.11batch/s, loss=7.33e+4]\n"
     ]
    },
    {
     "name": "stdout",
     "output_type": "stream",
     "text": [
      "epoch 824: avg train loss 73529.57, bar train loss 212.086, len train loss 4.314, col train loss 137.992\n",
      "epoch 824: avg test  loss 73849.45, bar  test loss 91.295, len  test loss 1.853, col  test loss 59.569\n"
     ]
    },
    {
     "name": "stderr",
     "output_type": "stream",
     "text": [
      "Epoch 825: 272batch [00:11, 23.43batch/s, loss=7.72e+4]\n"
     ]
    },
    {
     "name": "stdout",
     "output_type": "stream",
     "text": [
      "epoch 825: avg train loss 73519.89, bar train loss 212.029, len train loss 4.311, col train loss 137.965\n",
      "epoch 825: avg test  loss 73917.59, bar  test loss 91.493, len  test loss 1.854, col  test loss 59.745\n"
     ]
    },
    {
     "name": "stderr",
     "output_type": "stream",
     "text": [
      "Epoch 826: 272batch [00:11, 23.29batch/s, loss=6.81e+4]\n"
     ]
    },
    {
     "name": "stdout",
     "output_type": "stream",
     "text": [
      "epoch 826: avg train loss 73532.25, bar train loss 212.096, len train loss 4.312, col train loss 137.979\n",
      "epoch 826: avg test  loss 73865.68, bar  test loss 91.334, len  test loss 1.855, col  test loss 59.612\n"
     ]
    },
    {
     "name": "stderr",
     "output_type": "stream",
     "text": [
      "Epoch 827: 272batch [00:11, 23.66batch/s, loss=7.48e+4]\n"
     ]
    },
    {
     "name": "stdout",
     "output_type": "stream",
     "text": [
      "epoch 827: avg train loss 73525.30, bar train loss 212.048, len train loss 4.314, col train loss 137.977\n",
      "epoch 827: avg test  loss 73895.72, bar  test loss 91.248, len  test loss 1.847, col  test loss 59.547\n"
     ]
    },
    {
     "name": "stderr",
     "output_type": "stream",
     "text": [
      "Epoch 828: 272batch [00:11, 23.70batch/s, loss=7.37e+4]\n"
     ]
    },
    {
     "name": "stdout",
     "output_type": "stream",
     "text": [
      "epoch 828: avg train loss 73522.98, bar train loss 212.054, len train loss 4.313, col train loss 137.958\n",
      "epoch 828: avg test  loss 73895.91, bar  test loss 91.048, len  test loss 1.854, col  test loss 59.518\n"
     ]
    },
    {
     "name": "stderr",
     "output_type": "stream",
     "text": [
      "Epoch 829: 272batch [00:11, 23.59batch/s, loss=7.59e+4]\n"
     ]
    },
    {
     "name": "stdout",
     "output_type": "stream",
     "text": [
      "epoch 829: avg train loss 73523.48, bar train loss 212.023, len train loss 4.314, col train loss 137.983\n",
      "epoch 829: avg test  loss 73871.35, bar  test loss 91.284, len  test loss 1.850, col  test loss 59.642\n"
     ]
    },
    {
     "name": "stderr",
     "output_type": "stream",
     "text": [
      "Epoch 830: 272batch [00:11, 23.63batch/s, loss=7e+4]\n"
     ]
    },
    {
     "name": "stdout",
     "output_type": "stream",
     "text": [
      "epoch 830: avg train loss 73527.74, bar train loss 212.101, len train loss 4.313, col train loss 138.005\n",
      "epoch 830: avg test  loss 73912.03, bar  test loss 91.357, len  test loss 1.854, col  test loss 59.637\n"
     ]
    },
    {
     "name": "stderr",
     "output_type": "stream",
     "text": [
      "Epoch 831: 272batch [00:11, 23.57batch/s, loss=7.67e+4]\n"
     ]
    },
    {
     "name": "stdout",
     "output_type": "stream",
     "text": [
      "epoch 831: avg train loss 73525.73, bar train loss 212.038, len train loss 4.312, col train loss 137.922\n",
      "epoch 831: avg test  loss 73863.08, bar  test loss 91.228, len  test loss 1.852, col  test loss 59.472\n"
     ]
    },
    {
     "name": "stderr",
     "output_type": "stream",
     "text": [
      "Epoch 832: 272batch [00:11, 23.49batch/s, loss=6.79e+4]\n"
     ]
    },
    {
     "name": "stdout",
     "output_type": "stream",
     "text": [
      "epoch 832: avg train loss 73520.17, bar train loss 212.018, len train loss 4.313, col train loss 137.960\n",
      "epoch 832: avg test  loss 73853.16, bar  test loss 91.069, len  test loss 1.850, col  test loss 59.343\n"
     ]
    },
    {
     "name": "stderr",
     "output_type": "stream",
     "text": [
      "Epoch 833: 272batch [00:11, 23.64batch/s, loss=7.42e+4]\n"
     ]
    },
    {
     "name": "stdout",
     "output_type": "stream",
     "text": [
      "epoch 833: avg train loss 73519.09, bar train loss 212.042, len train loss 4.314, col train loss 137.920\n",
      "epoch 833: avg test  loss 73846.58, bar  test loss 91.174, len  test loss 1.851, col  test loss 59.515\n"
     ]
    },
    {
     "name": "stderr",
     "output_type": "stream",
     "text": [
      "Epoch 834: 272batch [00:11, 23.62batch/s, loss=7.91e+4]\n"
     ]
    },
    {
     "name": "stdout",
     "output_type": "stream",
     "text": [
      "epoch 834: avg train loss 73506.95, bar train loss 212.025, len train loss 4.314, col train loss 137.896\n",
      "epoch 834: avg test  loss 73839.33, bar  test loss 91.111, len  test loss 1.850, col  test loss 59.485\n"
     ]
    },
    {
     "name": "stderr",
     "output_type": "stream",
     "text": [
      "Epoch 835: 272batch [00:11, 23.48batch/s, loss=6.87e+4]\n"
     ]
    },
    {
     "name": "stdout",
     "output_type": "stream",
     "text": [
      "epoch 835: avg train loss 73512.73, bar train loss 212.006, len train loss 4.312, col train loss 137.928\n",
      "epoch 835: avg test  loss 73852.09, bar  test loss 91.291, len  test loss 1.851, col  test loss 59.572\n"
     ]
    },
    {
     "name": "stderr",
     "output_type": "stream",
     "text": [
      "Epoch 836: 272batch [00:11, 23.67batch/s, loss=7.22e+4]\n"
     ]
    },
    {
     "name": "stdout",
     "output_type": "stream",
     "text": [
      "epoch 836: avg train loss 73513.76, bar train loss 212.053, len train loss 4.314, col train loss 137.928\n",
      "epoch 836: avg test  loss 73828.05, bar  test loss 91.045, len  test loss 1.850, col  test loss 59.409\n"
     ]
    },
    {
     "name": "stderr",
     "output_type": "stream",
     "text": [
      "Epoch 837: 272batch [00:11, 23.59batch/s, loss=7.12e+4]\n"
     ]
    },
    {
     "name": "stdout",
     "output_type": "stream",
     "text": [
      "epoch 837: avg train loss 73513.69, bar train loss 212.035, len train loss 4.315, col train loss 137.940\n",
      "epoch 837: avg test  loss 73850.62, bar  test loss 91.260, len  test loss 1.851, col  test loss 59.517\n"
     ]
    },
    {
     "name": "stderr",
     "output_type": "stream",
     "text": [
      "Epoch 838: 272batch [00:11, 23.50batch/s, loss=7.55e+4]\n"
     ]
    },
    {
     "name": "stdout",
     "output_type": "stream",
     "text": [
      "epoch 838: avg train loss 73515.38, bar train loss 212.026, len train loss 4.315, col train loss 137.890\n",
      "epoch 838: avg test  loss 73854.68, bar  test loss 91.324, len  test loss 1.852, col  test loss 59.618\n"
     ]
    },
    {
     "name": "stderr",
     "output_type": "stream",
     "text": [
      "Epoch 839: 272batch [00:11, 23.59batch/s, loss=7.54e+4]\n"
     ]
    },
    {
     "name": "stdout",
     "output_type": "stream",
     "text": [
      "epoch 839: avg train loss 73505.38, bar train loss 211.971, len train loss 4.314, col train loss 137.905\n",
      "epoch 839: avg test  loss 73851.08, bar  test loss 91.372, len  test loss 1.850, col  test loss 59.604\n"
     ]
    },
    {
     "name": "stderr",
     "output_type": "stream",
     "text": [
      "Epoch 840: 272batch [00:11, 23.57batch/s, loss=7.14e+4]\n"
     ]
    },
    {
     "name": "stdout",
     "output_type": "stream",
     "text": [
      "epoch 840: avg train loss 73508.00, bar train loss 212.000, len train loss 4.313, col train loss 137.871\n",
      "epoch 840: avg test  loss 73826.74, bar  test loss 91.225, len  test loss 1.848, col  test loss 59.549\n"
     ]
    },
    {
     "name": "stderr",
     "output_type": "stream",
     "text": [
      "Epoch 841: 272batch [00:11, 23.43batch/s, loss=7.35e+4]\n"
     ]
    },
    {
     "name": "stdout",
     "output_type": "stream",
     "text": [
      "epoch 841: avg train loss 73498.62, bar train loss 211.982, len train loss 4.313, col train loss 137.857\n",
      "epoch 841: avg test  loss 73857.58, bar  test loss 91.215, len  test loss 1.851, col  test loss 59.560\n"
     ]
    },
    {
     "name": "stderr",
     "output_type": "stream",
     "text": [
      "Epoch 842: 272batch [00:11, 23.44batch/s, loss=7.94e+4]\n"
     ]
    },
    {
     "name": "stdout",
     "output_type": "stream",
     "text": [
      "epoch 842: avg train loss 73500.74, bar train loss 211.987, len train loss 4.315, col train loss 137.846\n",
      "epoch 842: avg test  loss 73866.66, bar  test loss 91.332, len  test loss 1.855, col  test loss 59.630\n"
     ]
    },
    {
     "name": "stderr",
     "output_type": "stream",
     "text": [
      "Epoch 843: 272batch [00:11, 23.06batch/s, loss=7.11e+4]\n"
     ]
    },
    {
     "name": "stdout",
     "output_type": "stream",
     "text": [
      "epoch 843: avg train loss 73498.59, bar train loss 211.977, len train loss 4.313, col train loss 137.853\n",
      "epoch 843: avg test  loss 73830.66, bar  test loss 91.225, len  test loss 1.850, col  test loss 59.646\n"
     ]
    },
    {
     "name": "stderr",
     "output_type": "stream",
     "text": [
      "Epoch 844: 272batch [00:11, 23.48batch/s, loss=6.83e+4]\n"
     ]
    },
    {
     "name": "stdout",
     "output_type": "stream",
     "text": [
      "epoch 844: avg train loss 73500.85, bar train loss 211.970, len train loss 4.311, col train loss 137.816\n",
      "epoch 844: avg test  loss 73849.69, bar  test loss 91.174, len  test loss 1.849, col  test loss 59.554\n"
     ]
    },
    {
     "name": "stderr",
     "output_type": "stream",
     "text": [
      "Epoch 845: 272batch [00:11, 23.39batch/s, loss=7.63e+4]\n"
     ]
    },
    {
     "name": "stdout",
     "output_type": "stream",
     "text": [
      "epoch 845: avg train loss 73496.16, bar train loss 211.985, len train loss 4.314, col train loss 137.871\n",
      "epoch 845: avg test  loss 73799.23, bar  test loss 91.129, len  test loss 1.850, col  test loss 59.433\n"
     ]
    },
    {
     "name": "stderr",
     "output_type": "stream",
     "text": [
      "Epoch 846: 272batch [00:11, 23.34batch/s, loss=7.6e+4]\n"
     ]
    },
    {
     "name": "stdout",
     "output_type": "stream",
     "text": [
      "epoch 846: avg train loss 73496.30, bar train loss 211.948, len train loss 4.314, col train loss 137.825\n",
      "epoch 846: avg test  loss 73818.99, bar  test loss 91.059, len  test loss 1.850, col  test loss 59.386\n"
     ]
    },
    {
     "name": "stderr",
     "output_type": "stream",
     "text": [
      "Epoch 847: 272batch [00:11, 23.52batch/s, loss=7.65e+4]\n"
     ]
    },
    {
     "name": "stdout",
     "output_type": "stream",
     "text": [
      "epoch 847: avg train loss 73489.84, bar train loss 211.918, len train loss 4.314, col train loss 137.780\n",
      "epoch 847: avg test  loss 73880.55, bar  test loss 91.156, len  test loss 1.854, col  test loss 59.411\n"
     ]
    },
    {
     "name": "stderr",
     "output_type": "stream",
     "text": [
      "Epoch 848: 272batch [00:11, 23.61batch/s, loss=7.23e+4]\n"
     ]
    },
    {
     "name": "stdout",
     "output_type": "stream",
     "text": [
      "epoch 848: avg train loss 73498.13, bar train loss 211.926, len train loss 4.314, col train loss 137.803\n",
      "epoch 848: avg test  loss 73859.45, bar  test loss 91.245, len  test loss 1.852, col  test loss 59.526\n"
     ]
    },
    {
     "name": "stderr",
     "output_type": "stream",
     "text": [
      "Epoch 849: 272batch [00:11, 23.67batch/s, loss=7.03e+4]\n"
     ]
    },
    {
     "name": "stdout",
     "output_type": "stream",
     "text": [
      "epoch 849: avg train loss 73489.48, bar train loss 211.965, len train loss 4.313, col train loss 137.792\n",
      "epoch 849: avg test  loss 73842.90, bar  test loss 91.200, len  test loss 1.852, col  test loss 59.490\n"
     ]
    },
    {
     "name": "stderr",
     "output_type": "stream",
     "text": [
      "Epoch 850: 272batch [00:11, 23.51batch/s, loss=7.37e+4]\n"
     ]
    },
    {
     "name": "stdout",
     "output_type": "stream",
     "text": [
      "epoch 850: avg train loss 73492.76, bar train loss 211.985, len train loss 4.313, col train loss 137.789\n",
      "epoch 850: avg test  loss 73851.66, bar  test loss 91.245, len  test loss 1.848, col  test loss 59.537\n"
     ]
    },
    {
     "name": "stderr",
     "output_type": "stream",
     "text": [
      "Epoch 851: 272batch [00:11, 23.53batch/s, loss=7.15e+4]\n"
     ]
    },
    {
     "name": "stdout",
     "output_type": "stream",
     "text": [
      "epoch 851: avg train loss 73482.91, bar train loss 211.931, len train loss 4.314, col train loss 137.798\n",
      "epoch 851: avg test  loss 73893.69, bar  test loss 91.381, len  test loss 1.848, col  test loss 59.622\n"
     ]
    },
    {
     "name": "stderr",
     "output_type": "stream",
     "text": [
      "Epoch 852: 272batch [00:11, 23.45batch/s, loss=7.29e+4]\n"
     ]
    },
    {
     "name": "stdout",
     "output_type": "stream",
     "text": [
      "epoch 852: avg train loss 73494.52, bar train loss 211.939, len train loss 4.313, col train loss 137.769\n",
      "epoch 852: avg test  loss 73845.45, bar  test loss 91.147, len  test loss 1.851, col  test loss 59.506\n"
     ]
    },
    {
     "name": "stderr",
     "output_type": "stream",
     "text": [
      "Epoch 853: 272batch [00:11, 23.54batch/s, loss=7.58e+4]\n"
     ]
    },
    {
     "name": "stdout",
     "output_type": "stream",
     "text": [
      "epoch 853: avg train loss 73484.65, bar train loss 211.922, len train loss 4.313, col train loss 137.783\n",
      "epoch 853: avg test  loss 73818.74, bar  test loss 91.230, len  test loss 1.852, col  test loss 59.468\n"
     ]
    },
    {
     "name": "stderr",
     "output_type": "stream",
     "text": [
      "Epoch 854: 272batch [00:11, 23.55batch/s, loss=7.03e+4]\n"
     ]
    },
    {
     "name": "stdout",
     "output_type": "stream",
     "text": [
      "epoch 854: avg train loss 73490.30, bar train loss 211.909, len train loss 4.312, col train loss 137.791\n",
      "epoch 854: avg test  loss 73813.02, bar  test loss 91.197, len  test loss 1.850, col  test loss 59.509\n"
     ]
    },
    {
     "name": "stderr",
     "output_type": "stream",
     "text": [
      "Epoch 855: 272batch [00:11, 23.57batch/s, loss=7.33e+4]\n"
     ]
    },
    {
     "name": "stdout",
     "output_type": "stream",
     "text": [
      "epoch 855: avg train loss 73478.05, bar train loss 211.898, len train loss 4.313, col train loss 137.764\n",
      "epoch 855: avg test  loss 73826.95, bar  test loss 91.091, len  test loss 1.851, col  test loss 59.407\n"
     ]
    },
    {
     "name": "stderr",
     "output_type": "stream",
     "text": [
      "Epoch 856: 272batch [00:11, 23.53batch/s, loss=7.13e+4]\n"
     ]
    },
    {
     "name": "stdout",
     "output_type": "stream",
     "text": [
      "epoch 856: avg train loss 73484.97, bar train loss 211.918, len train loss 4.315, col train loss 137.767\n",
      "epoch 856: avg test  loss 73824.37, bar  test loss 91.233, len  test loss 1.856, col  test loss 59.505\n"
     ]
    },
    {
     "name": "stderr",
     "output_type": "stream",
     "text": [
      "Epoch 857: 272batch [00:11, 23.42batch/s, loss=8e+4]\n"
     ]
    },
    {
     "name": "stdout",
     "output_type": "stream",
     "text": [
      "epoch 857: avg train loss 73488.34, bar train loss 211.920, len train loss 4.314, col train loss 137.799\n",
      "epoch 857: avg test  loss 73820.74, bar  test loss 91.324, len  test loss 1.855, col  test loss 59.582\n"
     ]
    },
    {
     "name": "stderr",
     "output_type": "stream",
     "text": [
      "Epoch 858: 272batch [00:11, 23.40batch/s, loss=7.4e+4]\n"
     ]
    },
    {
     "name": "stdout",
     "output_type": "stream",
     "text": [
      "epoch 858: avg train loss 73472.05, bar train loss 211.850, len train loss 4.313, col train loss 137.717\n",
      "epoch 858: avg test  loss 73860.96, bar  test loss 91.389, len  test loss 1.854, col  test loss 59.630\n"
     ]
    },
    {
     "name": "stderr",
     "output_type": "stream",
     "text": [
      "Epoch 859: 272batch [00:11, 23.64batch/s, loss=7.3e+4]\n"
     ]
    },
    {
     "name": "stdout",
     "output_type": "stream",
     "text": [
      "epoch 859: avg train loss 73473.31, bar train loss 211.909, len train loss 4.315, col train loss 137.719\n",
      "epoch 859: avg test  loss 73848.26, bar  test loss 91.176, len  test loss 1.850, col  test loss 59.382\n"
     ]
    },
    {
     "name": "stderr",
     "output_type": "stream",
     "text": [
      "Epoch 860: 272batch [00:11, 23.48batch/s, loss=7.37e+4]\n"
     ]
    },
    {
     "name": "stdout",
     "output_type": "stream",
     "text": [
      "epoch 860: avg train loss 73482.38, bar train loss 211.910, len train loss 4.313, col train loss 137.723\n",
      "epoch 860: avg test  loss 73802.95, bar  test loss 91.097, len  test loss 1.851, col  test loss 59.429\n"
     ]
    },
    {
     "name": "stderr",
     "output_type": "stream",
     "text": [
      "Epoch 861: 272batch [00:11, 23.56batch/s, loss=7.46e+4]\n"
     ]
    },
    {
     "name": "stdout",
     "output_type": "stream",
     "text": [
      "epoch 861: avg train loss 73468.55, bar train loss 211.837, len train loss 4.314, col train loss 137.702\n",
      "epoch 861: avg test  loss 73881.99, bar  test loss 91.194, len  test loss 1.848, col  test loss 59.485\n"
     ]
    },
    {
     "name": "stderr",
     "output_type": "stream",
     "text": [
      "Epoch 862: 272batch [00:11, 23.72batch/s, loss=7.4e+4]\n"
     ]
    },
    {
     "name": "stdout",
     "output_type": "stream",
     "text": [
      "epoch 862: avg train loss 73475.92, bar train loss 211.897, len train loss 4.314, col train loss 137.727\n",
      "epoch 862: avg test  loss 73790.69, bar  test loss 91.191, len  test loss 1.851, col  test loss 59.473\n"
     ]
    },
    {
     "name": "stderr",
     "output_type": "stream",
     "text": [
      "Epoch 863: 272batch [00:11, 23.69batch/s, loss=7.29e+4]\n"
     ]
    },
    {
     "name": "stdout",
     "output_type": "stream",
     "text": [
      "epoch 863: avg train loss 73479.16, bar train loss 211.919, len train loss 4.314, col train loss 137.748\n",
      "epoch 863: avg test  loss 73908.92, bar  test loss 91.316, len  test loss 1.852, col  test loss 59.537\n"
     ]
    },
    {
     "name": "stderr",
     "output_type": "stream",
     "text": [
      "Epoch 864: 272batch [00:11, 23.68batch/s, loss=7.44e+4]\n"
     ]
    },
    {
     "name": "stdout",
     "output_type": "stream",
     "text": [
      "epoch 864: avg train loss 73473.39, bar train loss 211.862, len train loss 4.313, col train loss 137.720\n",
      "epoch 864: avg test  loss 73818.95, bar  test loss 91.246, len  test loss 1.851, col  test loss 59.536\n"
     ]
    },
    {
     "name": "stderr",
     "output_type": "stream",
     "text": [
      "Epoch 865: 272batch [00:11, 23.60batch/s, loss=6.86e+4]\n"
     ]
    },
    {
     "name": "stdout",
     "output_type": "stream",
     "text": [
      "epoch 865: avg train loss 73468.83, bar train loss 211.876, len train loss 4.312, col train loss 137.703\n",
      "epoch 865: avg test  loss 73825.91, bar  test loss 91.172, len  test loss 1.855, col  test loss 59.470\n"
     ]
    },
    {
     "name": "stderr",
     "output_type": "stream",
     "text": [
      "Epoch 866: 272batch [00:11, 23.31batch/s, loss=7.39e+4]\n"
     ]
    },
    {
     "name": "stdout",
     "output_type": "stream",
     "text": [
      "epoch 866: avg train loss 73474.08, bar train loss 211.903, len train loss 4.314, col train loss 137.677\n",
      "epoch 866: avg test  loss 73843.37, bar  test loss 91.360, len  test loss 1.854, col  test loss 59.648\n"
     ]
    },
    {
     "name": "stderr",
     "output_type": "stream",
     "text": [
      "Epoch 867: 272batch [00:11, 23.42batch/s, loss=7.6e+4]\n"
     ]
    },
    {
     "name": "stdout",
     "output_type": "stream",
     "text": [
      "epoch 867: avg train loss 73470.00, bar train loss 211.836, len train loss 4.313, col train loss 137.685\n",
      "epoch 867: avg test  loss 73819.70, bar  test loss 91.174, len  test loss 1.853, col  test loss 59.456\n"
     ]
    },
    {
     "name": "stderr",
     "output_type": "stream",
     "text": [
      "Epoch 868: 272batch [00:11, 23.54batch/s, loss=6.85e+4]\n"
     ]
    },
    {
     "name": "stdout",
     "output_type": "stream",
     "text": [
      "epoch 868: avg train loss 73473.75, bar train loss 211.875, len train loss 4.316, col train loss 137.687\n",
      "epoch 868: avg test  loss 73821.31, bar  test loss 91.291, len  test loss 1.854, col  test loss 59.581\n"
     ]
    },
    {
     "name": "stderr",
     "output_type": "stream",
     "text": [
      "Epoch 869: 272batch [00:11, 23.23batch/s, loss=7.58e+4]\n"
     ]
    },
    {
     "name": "stdout",
     "output_type": "stream",
     "text": [
      "epoch 869: avg train loss 73460.20, bar train loss 211.851, len train loss 4.313, col train loss 137.671\n",
      "epoch 869: avg test  loss 73861.77, bar  test loss 91.370, len  test loss 1.854, col  test loss 59.600\n"
     ]
    },
    {
     "name": "stderr",
     "output_type": "stream",
     "text": [
      "Epoch 870: 272batch [00:11, 23.18batch/s, loss=7.61e+4]\n"
     ]
    },
    {
     "name": "stdout",
     "output_type": "stream",
     "text": [
      "epoch 870: avg train loss 73465.18, bar train loss 211.861, len train loss 4.313, col train loss 137.689\n",
      "epoch 870: avg test  loss 73811.70, bar  test loss 91.227, len  test loss 1.854, col  test loss 59.409\n"
     ]
    },
    {
     "name": "stderr",
     "output_type": "stream",
     "text": [
      "Epoch 871: 272batch [00:11, 22.79batch/s, loss=7.28e+4]\n"
     ]
    },
    {
     "name": "stdout",
     "output_type": "stream",
     "text": [
      "epoch 871: avg train loss 73463.43, bar train loss 211.843, len train loss 4.312, col train loss 137.664\n",
      "epoch 871: avg test  loss 73842.64, bar  test loss 91.231, len  test loss 1.854, col  test loss 59.433\n"
     ]
    },
    {
     "name": "stderr",
     "output_type": "stream",
     "text": [
      "Epoch 872: 272batch [00:11, 23.36batch/s, loss=7.68e+4]\n"
     ]
    },
    {
     "name": "stdout",
     "output_type": "stream",
     "text": [
      "epoch 872: avg train loss 73466.03, bar train loss 211.849, len train loss 4.314, col train loss 137.657\n",
      "epoch 872: avg test  loss 73804.40, bar  test loss 91.177, len  test loss 1.850, col  test loss 59.461\n"
     ]
    },
    {
     "name": "stderr",
     "output_type": "stream",
     "text": [
      "Epoch 873: 272batch [00:11, 23.25batch/s, loss=7.07e+4]\n"
     ]
    },
    {
     "name": "stdout",
     "output_type": "stream",
     "text": [
      "epoch 873: avg train loss 73457.55, bar train loss 211.801, len train loss 4.316, col train loss 137.654\n",
      "epoch 873: avg test  loss 73786.28, bar  test loss 91.056, len  test loss 1.853, col  test loss 59.391\n"
     ]
    },
    {
     "name": "stderr",
     "output_type": "stream",
     "text": [
      "Epoch 874: 272batch [00:11, 23.31batch/s, loss=7.93e+4]\n"
     ]
    },
    {
     "name": "stdout",
     "output_type": "stream",
     "text": [
      "epoch 874: avg train loss 73459.98, bar train loss 211.815, len train loss 4.312, col train loss 137.644\n",
      "epoch 874: avg test  loss 73842.02, bar  test loss 91.086, len  test loss 1.847, col  test loss 59.447\n"
     ]
    },
    {
     "name": "stderr",
     "output_type": "stream",
     "text": [
      "Epoch 875: 272batch [00:11, 23.39batch/s, loss=7.1e+4]\n"
     ]
    },
    {
     "name": "stdout",
     "output_type": "stream",
     "text": [
      "epoch 875: avg train loss 73461.07, bar train loss 211.831, len train loss 4.313, col train loss 137.646\n",
      "epoch 875: avg test  loss 73814.39, bar  test loss 91.036, len  test loss 1.850, col  test loss 59.258\n"
     ]
    },
    {
     "name": "stderr",
     "output_type": "stream",
     "text": [
      "Epoch 876: 272batch [00:11, 23.35batch/s, loss=7.9e+4]\n"
     ]
    },
    {
     "name": "stdout",
     "output_type": "stream",
     "text": [
      "epoch 876: avg train loss 73469.55, bar train loss 211.861, len train loss 4.312, col train loss 137.659\n",
      "epoch 876: avg test  loss 73827.97, bar  test loss 91.226, len  test loss 1.854, col  test loss 59.440\n"
     ]
    },
    {
     "name": "stderr",
     "output_type": "stream",
     "text": [
      "Epoch 877: 272batch [00:11, 23.46batch/s, loss=7.44e+4]\n"
     ]
    },
    {
     "name": "stdout",
     "output_type": "stream",
     "text": [
      "epoch 877: avg train loss 73454.85, bar train loss 211.819, len train loss 4.313, col train loss 137.608\n",
      "epoch 877: avg test  loss 73812.38, bar  test loss 91.236, len  test loss 1.850, col  test loss 59.534\n"
     ]
    },
    {
     "name": "stderr",
     "output_type": "stream",
     "text": [
      "Epoch 878: 272batch [00:11, 23.31batch/s, loss=6.72e+4]\n"
     ]
    },
    {
     "name": "stdout",
     "output_type": "stream",
     "text": [
      "epoch 878: avg train loss 73447.38, bar train loss 211.779, len train loss 4.312, col train loss 137.635\n",
      "epoch 878: avg test  loss 73790.40, bar  test loss 91.090, len  test loss 1.851, col  test loss 59.374\n"
     ]
    },
    {
     "name": "stderr",
     "output_type": "stream",
     "text": [
      "Epoch 879: 272batch [00:11, 23.11batch/s, loss=6.99e+4]\n"
     ]
    },
    {
     "name": "stdout",
     "output_type": "stream",
     "text": [
      "epoch 879: avg train loss 73458.99, bar train loss 211.834, len train loss 4.314, col train loss 137.642\n",
      "epoch 879: avg test  loss 73835.27, bar  test loss 91.148, len  test loss 1.851, col  test loss 59.476\n"
     ]
    },
    {
     "name": "stderr",
     "output_type": "stream",
     "text": [
      "Epoch 880: 272batch [00:11, 23.15batch/s, loss=8.02e+4]\n"
     ]
    },
    {
     "name": "stdout",
     "output_type": "stream",
     "text": [
      "epoch 880: avg train loss 73459.84, bar train loss 211.817, len train loss 4.314, col train loss 137.638\n",
      "epoch 880: avg test  loss 73801.41, bar  test loss 90.992, len  test loss 1.849, col  test loss 59.356\n"
     ]
    },
    {
     "name": "stderr",
     "output_type": "stream",
     "text": [
      "Epoch 881: 272batch [00:11, 23.23batch/s, loss=7.13e+4]\n"
     ]
    },
    {
     "name": "stdout",
     "output_type": "stream",
     "text": [
      "epoch 881: avg train loss 73450.94, bar train loss 211.804, len train loss 4.313, col train loss 137.617\n",
      "epoch 881: avg test  loss 73816.66, bar  test loss 91.329, len  test loss 1.853, col  test loss 59.482\n"
     ]
    },
    {
     "name": "stderr",
     "output_type": "stream",
     "text": [
      "Epoch 882: 272batch [00:11, 22.90batch/s, loss=7.84e+4]\n"
     ]
    },
    {
     "name": "stdout",
     "output_type": "stream",
     "text": [
      "epoch 882: avg train loss 73442.16, bar train loss 211.771, len train loss 4.313, col train loss 137.583\n",
      "epoch 882: avg test  loss 73782.07, bar  test loss 91.103, len  test loss 1.852, col  test loss 59.368\n"
     ]
    },
    {
     "name": "stderr",
     "output_type": "stream",
     "text": [
      "Epoch 883: 272batch [00:11, 23.14batch/s, loss=7.31e+4]\n"
     ]
    },
    {
     "name": "stdout",
     "output_type": "stream",
     "text": [
      "epoch 883: avg train loss 73450.95, bar train loss 211.767, len train loss 4.312, col train loss 137.626\n",
      "epoch 883: avg test  loss 73766.65, bar  test loss 91.117, len  test loss 1.852, col  test loss 59.425\n"
     ]
    },
    {
     "name": "stderr",
     "output_type": "stream",
     "text": [
      "Epoch 884: 272batch [00:11, 23.51batch/s, loss=7.75e+4]\n"
     ]
    },
    {
     "name": "stdout",
     "output_type": "stream",
     "text": [
      "epoch 884: avg train loss 73446.13, bar train loss 211.757, len train loss 4.313, col train loss 137.594\n",
      "epoch 884: avg test  loss 73826.98, bar  test loss 91.131, len  test loss 1.848, col  test loss 59.515\n"
     ]
    },
    {
     "name": "stderr",
     "output_type": "stream",
     "text": [
      "Epoch 885: 272batch [00:11, 23.57batch/s, loss=6.63e+4]\n"
     ]
    },
    {
     "name": "stdout",
     "output_type": "stream",
     "text": [
      "epoch 885: avg train loss 73449.73, bar train loss 211.780, len train loss 4.311, col train loss 137.602\n",
      "epoch 885: avg test  loss 73789.85, bar  test loss 90.957, len  test loss 1.852, col  test loss 59.293\n"
     ]
    },
    {
     "name": "stderr",
     "output_type": "stream",
     "text": [
      "Epoch 886: 272batch [00:11, 23.36batch/s, loss=7.53e+4]\n"
     ]
    },
    {
     "name": "stdout",
     "output_type": "stream",
     "text": [
      "epoch 886: avg train loss 73444.28, bar train loss 211.787, len train loss 4.315, col train loss 137.571\n",
      "epoch 886: avg test  loss 73801.27, bar  test loss 91.273, len  test loss 1.852, col  test loss 59.554\n"
     ]
    },
    {
     "name": "stderr",
     "output_type": "stream",
     "text": [
      "Epoch 887: 272batch [00:11, 23.35batch/s, loss=7.02e+4]\n"
     ]
    },
    {
     "name": "stdout",
     "output_type": "stream",
     "text": [
      "epoch 887: avg train loss 73446.03, bar train loss 211.810, len train loss 4.313, col train loss 137.589\n",
      "epoch 887: avg test  loss 73808.80, bar  test loss 91.164, len  test loss 1.849, col  test loss 59.474\n"
     ]
    },
    {
     "name": "stderr",
     "output_type": "stream",
     "text": [
      "Epoch 888: 272batch [00:11, 23.13batch/s, loss=7.19e+4]\n"
     ]
    },
    {
     "name": "stdout",
     "output_type": "stream",
     "text": [
      "epoch 888: avg train loss 73441.52, bar train loss 211.744, len train loss 4.313, col train loss 137.578\n",
      "epoch 888: avg test  loss 73832.91, bar  test loss 91.131, len  test loss 1.847, col  test loss 59.429\n"
     ]
    },
    {
     "name": "stderr",
     "output_type": "stream",
     "text": [
      "Epoch 889: 272batch [00:11, 23.41batch/s, loss=7.84e+4]\n"
     ]
    },
    {
     "name": "stdout",
     "output_type": "stream",
     "text": [
      "epoch 889: avg train loss 73450.76, bar train loss 211.748, len train loss 4.315, col train loss 137.608\n",
      "epoch 889: avg test  loss 73783.45, bar  test loss 91.131, len  test loss 1.848, col  test loss 59.400\n"
     ]
    },
    {
     "name": "stderr",
     "output_type": "stream",
     "text": [
      "Epoch 890: 272batch [00:11, 23.27batch/s, loss=6.98e+4]\n"
     ]
    },
    {
     "name": "stdout",
     "output_type": "stream",
     "text": [
      "epoch 890: avg train loss 73443.77, bar train loss 211.754, len train loss 4.314, col train loss 137.543\n",
      "epoch 890: avg test  loss 73834.90, bar  test loss 91.331, len  test loss 1.851, col  test loss 59.460\n"
     ]
    },
    {
     "name": "stderr",
     "output_type": "stream",
     "text": [
      "Epoch 891: 272batch [00:11, 23.39batch/s, loss=8e+4]\n"
     ]
    },
    {
     "name": "stdout",
     "output_type": "stream",
     "text": [
      "epoch 891: avg train loss 73438.79, bar train loss 211.764, len train loss 4.314, col train loss 137.541\n",
      "epoch 891: avg test  loss 73802.88, bar  test loss 91.257, len  test loss 1.849, col  test loss 59.486\n"
     ]
    },
    {
     "name": "stderr",
     "output_type": "stream",
     "text": [
      "Epoch 892: 272batch [00:11, 23.55batch/s, loss=7.35e+4]\n"
     ]
    },
    {
     "name": "stdout",
     "output_type": "stream",
     "text": [
      "epoch 892: avg train loss 73439.23, bar train loss 211.726, len train loss 4.314, col train loss 137.529\n",
      "epoch 892: avg test  loss 73795.27, bar  test loss 91.054, len  test loss 1.851, col  test loss 59.442\n"
     ]
    },
    {
     "name": "stderr",
     "output_type": "stream",
     "text": [
      "Epoch 893: 272batch [00:11, 23.51batch/s, loss=6.73e+4]\n"
     ]
    },
    {
     "name": "stdout",
     "output_type": "stream",
     "text": [
      "epoch 893: avg train loss 73437.66, bar train loss 211.736, len train loss 4.314, col train loss 137.547\n",
      "epoch 893: avg test  loss 73781.31, bar  test loss 91.057, len  test loss 1.849, col  test loss 59.382\n"
     ]
    },
    {
     "name": "stderr",
     "output_type": "stream",
     "text": [
      "Epoch 894: 272batch [00:11, 23.51batch/s, loss=7.71e+4]\n"
     ]
    },
    {
     "name": "stdout",
     "output_type": "stream",
     "text": [
      "epoch 894: avg train loss 73440.40, bar train loss 211.761, len train loss 4.315, col train loss 137.533\n",
      "epoch 894: avg test  loss 73804.37, bar  test loss 91.267, len  test loss 1.855, col  test loss 59.490\n"
     ]
    },
    {
     "name": "stderr",
     "output_type": "stream",
     "text": [
      "Epoch 895: 272batch [00:11, 23.38batch/s, loss=6.95e+4]\n"
     ]
    },
    {
     "name": "stdout",
     "output_type": "stream",
     "text": [
      "epoch 895: avg train loss 73438.09, bar train loss 211.741, len train loss 4.315, col train loss 137.547\n",
      "epoch 895: avg test  loss 73789.65, bar  test loss 91.103, len  test loss 1.853, col  test loss 59.367\n"
     ]
    },
    {
     "name": "stderr",
     "output_type": "stream",
     "text": [
      "Epoch 896: 272batch [00:11, 23.13batch/s, loss=7.37e+4]\n"
     ]
    },
    {
     "name": "stdout",
     "output_type": "stream",
     "text": [
      "epoch 896: avg train loss 73432.23, bar train loss 211.727, len train loss 4.312, col train loss 137.520\n",
      "epoch 896: avg test  loss 73768.23, bar  test loss 91.034, len  test loss 1.850, col  test loss 59.333\n"
     ]
    },
    {
     "name": "stderr",
     "output_type": "stream",
     "text": [
      "Epoch 897: 272batch [00:11, 23.36batch/s, loss=7.69e+4]\n"
     ]
    },
    {
     "name": "stdout",
     "output_type": "stream",
     "text": [
      "epoch 897: avg train loss 73433.25, bar train loss 211.693, len train loss 4.313, col train loss 137.515\n",
      "epoch 897: avg test  loss 73798.38, bar  test loss 91.083, len  test loss 1.854, col  test loss 59.371\n"
     ]
    },
    {
     "name": "stderr",
     "output_type": "stream",
     "text": [
      "Epoch 898: 272batch [00:11, 23.35batch/s, loss=6.76e+4]\n"
     ]
    },
    {
     "name": "stdout",
     "output_type": "stream",
     "text": [
      "epoch 898: avg train loss 73426.04, bar train loss 211.704, len train loss 4.312, col train loss 137.502\n",
      "epoch 898: avg test  loss 73771.04, bar  test loss 91.086, len  test loss 1.852, col  test loss 59.359\n"
     ]
    },
    {
     "name": "stderr",
     "output_type": "stream",
     "text": [
      "Epoch 899: 272batch [00:11, 23.37batch/s, loss=7.39e+4]\n"
     ]
    },
    {
     "name": "stdout",
     "output_type": "stream",
     "text": [
      "epoch 899: avg train loss 73425.91, bar train loss 211.695, len train loss 4.313, col train loss 137.509\n",
      "epoch 899: avg test  loss 73756.03, bar  test loss 90.950, len  test loss 1.848, col  test loss 59.293\n"
     ]
    },
    {
     "name": "stderr",
     "output_type": "stream",
     "text": [
      "Epoch 900: 272batch [00:11, 23.31batch/s, loss=7.32e+4]\n"
     ]
    },
    {
     "name": "stdout",
     "output_type": "stream",
     "text": [
      "epoch 900: avg train loss 73428.43, bar train loss 211.692, len train loss 4.313, col train loss 137.525\n",
      "epoch 900: avg test  loss 73815.11, bar  test loss 90.997, len  test loss 1.851, col  test loss 59.309\n"
     ]
    },
    {
     "name": "stderr",
     "output_type": "stream",
     "text": [
      "Epoch 901: 272batch [00:11, 23.26batch/s, loss=7.22e+4]\n"
     ]
    },
    {
     "name": "stdout",
     "output_type": "stream",
     "text": [
      "epoch 901: avg train loss 73420.30, bar train loss 211.678, len train loss 4.314, col train loss 137.511\n",
      "epoch 901: avg test  loss 73778.61, bar  test loss 91.116, len  test loss 1.850, col  test loss 59.430\n"
     ]
    },
    {
     "name": "stderr",
     "output_type": "stream",
     "text": [
      "Epoch 902: 272batch [00:11, 23.57batch/s, loss=7.18e+4]\n"
     ]
    },
    {
     "name": "stdout",
     "output_type": "stream",
     "text": [
      "epoch 902: avg train loss 73426.47, bar train loss 211.662, len train loss 4.314, col train loss 137.488\n",
      "epoch 902: avg test  loss 73807.61, bar  test loss 90.993, len  test loss 1.850, col  test loss 59.358\n"
     ]
    },
    {
     "name": "stderr",
     "output_type": "stream",
     "text": [
      "Epoch 903: 272batch [00:11, 23.19batch/s, loss=7.29e+4]\n"
     ]
    },
    {
     "name": "stdout",
     "output_type": "stream",
     "text": [
      "epoch 903: avg train loss 73417.90, bar train loss 211.645, len train loss 4.314, col train loss 137.468\n",
      "epoch 903: avg test  loss 73751.12, bar  test loss 90.932, len  test loss 1.850, col  test loss 59.182\n"
     ]
    },
    {
     "name": "stderr",
     "output_type": "stream",
     "text": [
      "Epoch 904: 272batch [00:11, 23.49batch/s, loss=7.04e+4]\n"
     ]
    },
    {
     "name": "stdout",
     "output_type": "stream",
     "text": [
      "epoch 904: avg train loss 73430.59, bar train loss 211.710, len train loss 4.313, col train loss 137.488\n",
      "epoch 904: avg test  loss 73779.41, bar  test loss 91.052, len  test loss 1.853, col  test loss 59.232\n"
     ]
    },
    {
     "name": "stderr",
     "output_type": "stream",
     "text": [
      "Epoch 905: 272batch [00:11, 23.12batch/s, loss=7.41e+4]\n"
     ]
    },
    {
     "name": "stdout",
     "output_type": "stream",
     "text": [
      "epoch 905: avg train loss 73418.16, bar train loss 211.654, len train loss 4.313, col train loss 137.445\n",
      "epoch 905: avg test  loss 73752.86, bar  test loss 91.075, len  test loss 1.850, col  test loss 59.381\n"
     ]
    },
    {
     "name": "stderr",
     "output_type": "stream",
     "text": [
      "Epoch 906: 272batch [00:11, 23.21batch/s, loss=7.92e+4]\n"
     ]
    },
    {
     "name": "stdout",
     "output_type": "stream",
     "text": [
      "epoch 906: avg train loss 73421.27, bar train loss 211.666, len train loss 4.315, col train loss 137.495\n",
      "epoch 906: avg test  loss 73786.99, bar  test loss 91.126, len  test loss 1.854, col  test loss 59.498\n"
     ]
    },
    {
     "name": "stderr",
     "output_type": "stream",
     "text": [
      "Epoch 907: 272batch [00:11, 23.32batch/s, loss=7.89e+4]\n"
     ]
    },
    {
     "name": "stdout",
     "output_type": "stream",
     "text": [
      "epoch 907: avg train loss 73423.32, bar train loss 211.693, len train loss 4.313, col train loss 137.471\n",
      "epoch 907: avg test  loss 73785.81, bar  test loss 91.110, len  test loss 1.851, col  test loss 59.367\n"
     ]
    },
    {
     "name": "stderr",
     "output_type": "stream",
     "text": [
      "Epoch 908: 272batch [00:11, 23.18batch/s, loss=7.33e+4]\n"
     ]
    },
    {
     "name": "stdout",
     "output_type": "stream",
     "text": [
      "epoch 908: avg train loss 73427.52, bar train loss 211.684, len train loss 4.315, col train loss 137.460\n",
      "epoch 908: avg test  loss 73735.51, bar  test loss 91.136, len  test loss 1.852, col  test loss 59.376\n"
     ]
    },
    {
     "name": "stderr",
     "output_type": "stream",
     "text": [
      "Epoch 909: 272batch [00:11, 23.01batch/s, loss=7.05e+4]\n"
     ]
    },
    {
     "name": "stdout",
     "output_type": "stream",
     "text": [
      "epoch 909: avg train loss 73415.72, bar train loss 211.679, len train loss 4.313, col train loss 137.453\n",
      "epoch 909: avg test  loss 73776.96, bar  test loss 91.096, len  test loss 1.850, col  test loss 59.373\n"
     ]
    },
    {
     "name": "stderr",
     "output_type": "stream",
     "text": [
      "Epoch 910: 272batch [00:11, 23.36batch/s, loss=7.51e+4]\n"
     ]
    },
    {
     "name": "stdout",
     "output_type": "stream",
     "text": [
      "epoch 910: avg train loss 73416.20, bar train loss 211.648, len train loss 4.315, col train loss 137.427\n",
      "epoch 910: avg test  loss 73768.34, bar  test loss 90.944, len  test loss 1.852, col  test loss 59.240\n"
     ]
    },
    {
     "name": "stderr",
     "output_type": "stream",
     "text": [
      "Epoch 911: 272batch [00:11, 23.43batch/s, loss=7.44e+4]\n"
     ]
    },
    {
     "name": "stdout",
     "output_type": "stream",
     "text": [
      "epoch 911: avg train loss 73413.54, bar train loss 211.676, len train loss 4.313, col train loss 137.429\n",
      "epoch 911: avg test  loss 73783.95, bar  test loss 91.219, len  test loss 1.855, col  test loss 59.439\n"
     ]
    },
    {
     "name": "stderr",
     "output_type": "stream",
     "text": [
      "Epoch 912: 272batch [00:11, 23.37batch/s, loss=6.33e+4]\n"
     ]
    },
    {
     "name": "stdout",
     "output_type": "stream",
     "text": [
      "epoch 912: avg train loss 73417.41, bar train loss 211.649, len train loss 4.313, col train loss 137.435\n",
      "epoch 912: avg test  loss 73735.77, bar  test loss 91.087, len  test loss 1.851, col  test loss 59.336\n"
     ]
    },
    {
     "name": "stderr",
     "output_type": "stream",
     "text": [
      "Epoch 913: 272batch [00:11, 23.53batch/s, loss=7.27e+4]\n"
     ]
    },
    {
     "name": "stdout",
     "output_type": "stream",
     "text": [
      "epoch 913: avg train loss 73414.52, bar train loss 211.642, len train loss 4.315, col train loss 137.416\n",
      "epoch 913: avg test  loss 73762.66, bar  test loss 91.007, len  test loss 1.851, col  test loss 59.380\n"
     ]
    },
    {
     "name": "stderr",
     "output_type": "stream",
     "text": [
      "Epoch 914: 272batch [00:11, 23.33batch/s, loss=7.91e+4]\n"
     ]
    },
    {
     "name": "stdout",
     "output_type": "stream",
     "text": [
      "epoch 914: avg train loss 73414.64, bar train loss 211.654, len train loss 4.314, col train loss 137.450\n",
      "epoch 914: avg test  loss 73783.20, bar  test loss 91.140, len  test loss 1.853, col  test loss 59.360\n"
     ]
    },
    {
     "name": "stderr",
     "output_type": "stream",
     "text": [
      "Epoch 915: 272batch [00:11, 23.46batch/s, loss=7.6e+4]\n"
     ]
    },
    {
     "name": "stdout",
     "output_type": "stream",
     "text": [
      "epoch 915: avg train loss 73413.49, bar train loss 211.657, len train loss 4.313, col train loss 137.434\n",
      "epoch 915: avg test  loss 73771.88, bar  test loss 91.189, len  test loss 1.851, col  test loss 59.420\n"
     ]
    },
    {
     "name": "stderr",
     "output_type": "stream",
     "text": [
      "Epoch 916: 272batch [00:11, 23.37batch/s, loss=6.85e+4]\n"
     ]
    },
    {
     "name": "stdout",
     "output_type": "stream",
     "text": [
      "epoch 916: avg train loss 73406.70, bar train loss 211.619, len train loss 4.315, col train loss 137.443\n",
      "epoch 916: avg test  loss 73762.98, bar  test loss 91.210, len  test loss 1.852, col  test loss 59.494\n"
     ]
    },
    {
     "name": "stderr",
     "output_type": "stream",
     "text": [
      "Epoch 917: 272batch [00:11, 23.40batch/s, loss=7.11e+4]\n"
     ]
    },
    {
     "name": "stdout",
     "output_type": "stream",
     "text": [
      "epoch 917: avg train loss 73409.95, bar train loss 211.622, len train loss 4.314, col train loss 137.412\n",
      "epoch 917: avg test  loss 73737.79, bar  test loss 91.056, len  test loss 1.852, col  test loss 59.384\n"
     ]
    },
    {
     "name": "stderr",
     "output_type": "stream",
     "text": [
      "Epoch 918: 272batch [00:11, 23.42batch/s, loss=8.82e+4]\n"
     ]
    },
    {
     "name": "stdout",
     "output_type": "stream",
     "text": [
      "epoch 918: avg train loss 73399.73, bar train loss 211.590, len train loss 4.313, col train loss 137.394\n",
      "epoch 918: avg test  loss 73748.00, bar  test loss 91.112, len  test loss 1.851, col  test loss 59.318\n"
     ]
    },
    {
     "name": "stderr",
     "output_type": "stream",
     "text": [
      "Epoch 919: 272batch [00:11, 23.34batch/s, loss=7.87e+4]\n"
     ]
    },
    {
     "name": "stdout",
     "output_type": "stream",
     "text": [
      "epoch 919: avg train loss 73397.23, bar train loss 211.586, len train loss 4.316, col train loss 137.353\n",
      "epoch 919: avg test  loss 73749.04, bar  test loss 91.015, len  test loss 1.851, col  test loss 59.337\n"
     ]
    },
    {
     "name": "stderr",
     "output_type": "stream",
     "text": [
      "Epoch 920: 272batch [00:11, 23.44batch/s, loss=6.77e+4]\n"
     ]
    },
    {
     "name": "stdout",
     "output_type": "stream",
     "text": [
      "epoch 920: avg train loss 73399.59, bar train loss 211.576, len train loss 4.315, col train loss 137.377\n",
      "epoch 920: avg test  loss 73780.55, bar  test loss 91.121, len  test loss 1.850, col  test loss 59.360\n"
     ]
    },
    {
     "name": "stderr",
     "output_type": "stream",
     "text": [
      "Epoch 921: 272batch [00:11, 22.99batch/s, loss=7.1e+4]\n"
     ]
    },
    {
     "name": "stdout",
     "output_type": "stream",
     "text": [
      "epoch 921: avg train loss 73403.65, bar train loss 211.634, len train loss 4.314, col train loss 137.395\n",
      "epoch 921: avg test  loss 73752.90, bar  test loss 90.977, len  test loss 1.852, col  test loss 59.372\n"
     ]
    },
    {
     "name": "stderr",
     "output_type": "stream",
     "text": [
      "Epoch 922: 272batch [00:11, 23.27batch/s, loss=7.41e+4]\n"
     ]
    },
    {
     "name": "stdout",
     "output_type": "stream",
     "text": [
      "epoch 922: avg train loss 73393.56, bar train loss 211.600, len train loss 4.312, col train loss 137.393\n",
      "epoch 922: avg test  loss 73757.40, bar  test loss 91.034, len  test loss 1.849, col  test loss 59.277\n"
     ]
    },
    {
     "name": "stderr",
     "output_type": "stream",
     "text": [
      "Epoch 923: 272batch [00:11, 23.32batch/s, loss=7.65e+4]\n"
     ]
    },
    {
     "name": "stdout",
     "output_type": "stream",
     "text": [
      "epoch 923: avg train loss 73405.59, bar train loss 211.608, len train loss 4.313, col train loss 137.383\n",
      "epoch 923: avg test  loss 73791.45, bar  test loss 91.021, len  test loss 1.851, col  test loss 59.318\n"
     ]
    },
    {
     "name": "stderr",
     "output_type": "stream",
     "text": [
      "Epoch 924: 272batch [00:11, 23.62batch/s, loss=6.81e+4]\n"
     ]
    },
    {
     "name": "stdout",
     "output_type": "stream",
     "text": [
      "epoch 924: avg train loss 73405.38, bar train loss 211.626, len train loss 4.314, col train loss 137.392\n",
      "epoch 924: avg test  loss 73778.13, bar  test loss 91.256, len  test loss 1.857, col  test loss 59.423\n"
     ]
    },
    {
     "name": "stderr",
     "output_type": "stream",
     "text": [
      "Epoch 925: 272batch [00:11, 23.52batch/s, loss=7.23e+4]\n"
     ]
    },
    {
     "name": "stdout",
     "output_type": "stream",
     "text": [
      "epoch 925: avg train loss 73401.65, bar train loss 211.612, len train loss 4.312, col train loss 137.359\n",
      "epoch 925: avg test  loss 73757.91, bar  test loss 91.304, len  test loss 1.853, col  test loss 59.476\n"
     ]
    },
    {
     "name": "stderr",
     "output_type": "stream",
     "text": [
      "Epoch 926: 272batch [00:11, 23.13batch/s, loss=7.13e+4]\n"
     ]
    },
    {
     "name": "stdout",
     "output_type": "stream",
     "text": [
      "epoch 926: avg train loss 73397.26, bar train loss 211.599, len train loss 4.315, col train loss 137.342\n",
      "epoch 926: avg test  loss 73783.62, bar  test loss 91.065, len  test loss 1.852, col  test loss 59.317\n"
     ]
    },
    {
     "name": "stderr",
     "output_type": "stream",
     "text": [
      "Epoch 927: 272batch [00:11, 23.12batch/s, loss=7.05e+4]\n"
     ]
    },
    {
     "name": "stdout",
     "output_type": "stream",
     "text": [
      "epoch 927: avg train loss 73395.55, bar train loss 211.598, len train loss 4.313, col train loss 137.354\n",
      "epoch 927: avg test  loss 73761.54, bar  test loss 91.040, len  test loss 1.854, col  test loss 59.354\n"
     ]
    },
    {
     "name": "stderr",
     "output_type": "stream",
     "text": [
      "Epoch 928: 272batch [00:11, 22.78batch/s, loss=7.73e+4]\n"
     ]
    },
    {
     "name": "stdout",
     "output_type": "stream",
     "text": [
      "epoch 928: avg train loss 73400.93, bar train loss 211.590, len train loss 4.313, col train loss 137.374\n",
      "epoch 928: avg test  loss 73780.73, bar  test loss 90.926, len  test loss 1.849, col  test loss 59.273\n"
     ]
    },
    {
     "name": "stderr",
     "output_type": "stream",
     "text": [
      "Epoch 929: 272batch [00:11, 23.09batch/s, loss=7.69e+4]\n"
     ]
    },
    {
     "name": "stdout",
     "output_type": "stream",
     "text": [
      "epoch 929: avg train loss 73399.16, bar train loss 211.571, len train loss 4.312, col train loss 137.332\n",
      "epoch 929: avg test  loss 73723.90, bar  test loss 91.047, len  test loss 1.847, col  test loss 59.325\n"
     ]
    },
    {
     "name": "stderr",
     "output_type": "stream",
     "text": [
      "Epoch 930: 272batch [00:11, 23.05batch/s, loss=7.07e+4]\n"
     ]
    },
    {
     "name": "stdout",
     "output_type": "stream",
     "text": [
      "epoch 930: avg train loss 73396.27, bar train loss 211.573, len train loss 4.313, col train loss 137.330\n",
      "epoch 930: avg test  loss 73734.81, bar  test loss 91.080, len  test loss 1.852, col  test loss 59.374\n"
     ]
    },
    {
     "name": "stderr",
     "output_type": "stream",
     "text": [
      "Epoch 931: 272batch [00:12, 22.31batch/s, loss=7.62e+4]\n"
     ]
    },
    {
     "name": "stdout",
     "output_type": "stream",
     "text": [
      "epoch 931: avg train loss 73396.05, bar train loss 211.588, len train loss 4.313, col train loss 137.365\n",
      "epoch 931: avg test  loss 73749.75, bar  test loss 91.039, len  test loss 1.853, col  test loss 59.390\n"
     ]
    },
    {
     "name": "stderr",
     "output_type": "stream",
     "text": [
      "Epoch 932: 272batch [00:12, 22.60batch/s, loss=7.49e+4]\n"
     ]
    },
    {
     "name": "stdout",
     "output_type": "stream",
     "text": [
      "epoch 932: avg train loss 73387.99, bar train loss 211.550, len train loss 4.314, col train loss 137.338\n",
      "epoch 932: avg test  loss 73732.54, bar  test loss 91.084, len  test loss 1.857, col  test loss 59.316\n"
     ]
    },
    {
     "name": "stderr",
     "output_type": "stream",
     "text": [
      "Epoch 933: 272batch [00:11, 23.10batch/s, loss=7.47e+4]\n"
     ]
    },
    {
     "name": "stdout",
     "output_type": "stream",
     "text": [
      "epoch 933: avg train loss 73389.62, bar train loss 211.575, len train loss 4.313, col train loss 137.332\n",
      "epoch 933: avg test  loss 73743.09, bar  test loss 90.898, len  test loss 1.849, col  test loss 59.207\n"
     ]
    },
    {
     "name": "stderr",
     "output_type": "stream",
     "text": [
      "Epoch 934: 272batch [00:11, 23.11batch/s, loss=7.41e+4]\n"
     ]
    },
    {
     "name": "stdout",
     "output_type": "stream",
     "text": [
      "epoch 934: avg train loss 73388.08, bar train loss 211.570, len train loss 4.312, col train loss 137.298\n",
      "epoch 934: avg test  loss 73715.07, bar  test loss 91.066, len  test loss 1.850, col  test loss 59.303\n"
     ]
    },
    {
     "name": "stderr",
     "output_type": "stream",
     "text": [
      "Epoch 935: 272batch [00:11, 22.96batch/s, loss=7.72e+4]\n"
     ]
    },
    {
     "name": "stdout",
     "output_type": "stream",
     "text": [
      "epoch 935: avg train loss 73395.43, bar train loss 211.548, len train loss 4.314, col train loss 137.319\n",
      "epoch 935: avg test  loss 73745.77, bar  test loss 91.131, len  test loss 1.849, col  test loss 59.424\n"
     ]
    },
    {
     "name": "stderr",
     "output_type": "stream",
     "text": [
      "Epoch 936: 272batch [00:11, 23.06batch/s, loss=7.16e+4]\n"
     ]
    },
    {
     "name": "stdout",
     "output_type": "stream",
     "text": [
      "epoch 936: avg train loss 73383.90, bar train loss 211.552, len train loss 4.313, col train loss 137.325\n",
      "epoch 936: avg test  loss 73738.51, bar  test loss 91.077, len  test loss 1.852, col  test loss 59.298\n"
     ]
    },
    {
     "name": "stderr",
     "output_type": "stream",
     "text": [
      "Epoch 937: 272batch [00:11, 23.29batch/s, loss=7.35e+4]\n"
     ]
    },
    {
     "name": "stdout",
     "output_type": "stream",
     "text": [
      "epoch 937: avg train loss 73386.77, bar train loss 211.577, len train loss 4.316, col train loss 137.291\n",
      "epoch 937: avg test  loss 73769.07, bar  test loss 91.228, len  test loss 1.857, col  test loss 59.591\n"
     ]
    },
    {
     "name": "stderr",
     "output_type": "stream",
     "text": [
      "Epoch 938: 272batch [00:11, 23.29batch/s, loss=7.32e+4]\n"
     ]
    },
    {
     "name": "stdout",
     "output_type": "stream",
     "text": [
      "epoch 938: avg train loss 73389.77, bar train loss 211.556, len train loss 4.313, col train loss 137.296\n",
      "epoch 938: avg test  loss 73750.41, bar  test loss 91.056, len  test loss 1.851, col  test loss 59.196\n"
     ]
    },
    {
     "name": "stderr",
     "output_type": "stream",
     "text": [
      "Epoch 939: 272batch [00:11, 23.40batch/s, loss=7.08e+4]\n"
     ]
    },
    {
     "name": "stdout",
     "output_type": "stream",
     "text": [
      "epoch 939: avg train loss 73383.05, bar train loss 211.528, len train loss 4.312, col train loss 137.291\n",
      "epoch 939: avg test  loss 73756.34, bar  test loss 91.199, len  test loss 1.853, col  test loss 59.475\n"
     ]
    },
    {
     "name": "stderr",
     "output_type": "stream",
     "text": [
      "Epoch 940: 272batch [00:11, 23.30batch/s, loss=6.93e+4]\n"
     ]
    },
    {
     "name": "stdout",
     "output_type": "stream",
     "text": [
      "epoch 940: avg train loss 73389.60, bar train loss 211.537, len train loss 4.312, col train loss 137.322\n",
      "epoch 940: avg test  loss 73739.18, bar  test loss 90.927, len  test loss 1.852, col  test loss 59.237\n"
     ]
    },
    {
     "name": "stderr",
     "output_type": "stream",
     "text": [
      "Epoch 941: 272batch [00:11, 23.16batch/s, loss=7.68e+4]\n"
     ]
    },
    {
     "name": "stdout",
     "output_type": "stream",
     "text": [
      "epoch 941: avg train loss 73376.95, bar train loss 211.517, len train loss 4.312, col train loss 137.264\n",
      "epoch 941: avg test  loss 73736.73, bar  test loss 91.098, len  test loss 1.850, col  test loss 59.415\n"
     ]
    },
    {
     "name": "stderr",
     "output_type": "stream",
     "text": [
      "Epoch 942: 272batch [00:11, 23.02batch/s, loss=6.87e+4]\n"
     ]
    },
    {
     "name": "stdout",
     "output_type": "stream",
     "text": [
      "epoch 942: avg train loss 73377.55, bar train loss 211.497, len train loss 4.313, col train loss 137.276\n",
      "epoch 942: avg test  loss 73737.02, bar  test loss 91.018, len  test loss 1.851, col  test loss 59.283\n"
     ]
    },
    {
     "name": "stderr",
     "output_type": "stream",
     "text": [
      "Epoch 943: 272batch [00:11, 22.89batch/s, loss=7.21e+4]\n"
     ]
    },
    {
     "name": "stdout",
     "output_type": "stream",
     "text": [
      "epoch 943: avg train loss 73380.77, bar train loss 211.519, len train loss 4.312, col train loss 137.284\n",
      "epoch 943: avg test  loss 73691.07, bar  test loss 90.930, len  test loss 1.850, col  test loss 59.230\n"
     ]
    },
    {
     "name": "stderr",
     "output_type": "stream",
     "text": [
      "Epoch 944: 272batch [00:11, 22.95batch/s, loss=7.54e+4]\n"
     ]
    },
    {
     "name": "stdout",
     "output_type": "stream",
     "text": [
      "epoch 944: avg train loss 73377.40, bar train loss 211.534, len train loss 4.315, col train loss 137.296\n",
      "epoch 944: avg test  loss 73715.06, bar  test loss 90.914, len  test loss 1.849, col  test loss 59.230\n"
     ]
    },
    {
     "name": "stderr",
     "output_type": "stream",
     "text": [
      "Epoch 945: 272batch [00:11, 22.76batch/s, loss=7.13e+4]\n"
     ]
    },
    {
     "name": "stdout",
     "output_type": "stream",
     "text": [
      "epoch 945: avg train loss 73386.62, bar train loss 211.535, len train loss 4.313, col train loss 137.247\n",
      "epoch 945: avg test  loss 73731.57, bar  test loss 90.883, len  test loss 1.851, col  test loss 59.168\n"
     ]
    },
    {
     "name": "stderr",
     "output_type": "stream",
     "text": [
      "Epoch 946: 272batch [00:11, 22.97batch/s, loss=6.88e+4]\n"
     ]
    },
    {
     "name": "stdout",
     "output_type": "stream",
     "text": [
      "epoch 946: avg train loss 73374.38, bar train loss 211.491, len train loss 4.312, col train loss 137.223\n",
      "epoch 946: avg test  loss 73790.02, bar  test loss 91.143, len  test loss 1.850, col  test loss 59.319\n"
     ]
    },
    {
     "name": "stderr",
     "output_type": "stream",
     "text": [
      "Epoch 947: 272batch [00:11, 23.11batch/s, loss=7.7e+4]\n"
     ]
    },
    {
     "name": "stdout",
     "output_type": "stream",
     "text": [
      "epoch 947: avg train loss 73367.51, bar train loss 211.501, len train loss 4.313, col train loss 137.286\n",
      "epoch 947: avg test  loss 73769.23, bar  test loss 91.179, len  test loss 1.853, col  test loss 59.386\n"
     ]
    },
    {
     "name": "stderr",
     "output_type": "stream",
     "text": [
      "Epoch 948: 272batch [00:11, 23.19batch/s, loss=7.21e+4]\n"
     ]
    },
    {
     "name": "stdout",
     "output_type": "stream",
     "text": [
      "epoch 948: avg train loss 73378.66, bar train loss 211.496, len train loss 4.317, col train loss 137.265\n",
      "epoch 948: avg test  loss 73756.39, bar  test loss 91.198, len  test loss 1.852, col  test loss 59.473\n"
     ]
    },
    {
     "name": "stderr",
     "output_type": "stream",
     "text": [
      "Epoch 949: 272batch [00:11, 23.07batch/s, loss=7.15e+4]\n"
     ]
    },
    {
     "name": "stdout",
     "output_type": "stream",
     "text": [
      "epoch 949: avg train loss 73372.66, bar train loss 211.524, len train loss 4.316, col train loss 137.251\n",
      "epoch 949: avg test  loss 73742.81, bar  test loss 91.207, len  test loss 1.850, col  test loss 59.451\n"
     ]
    },
    {
     "name": "stderr",
     "output_type": "stream",
     "text": [
      "Epoch 950: 272batch [00:11, 23.11batch/s, loss=7.01e+4]\n"
     ]
    },
    {
     "name": "stdout",
     "output_type": "stream",
     "text": [
      "epoch 950: avg train loss 73371.98, bar train loss 211.491, len train loss 4.315, col train loss 137.270\n",
      "epoch 950: avg test  loss 73743.20, bar  test loss 91.034, len  test loss 1.849, col  test loss 59.309\n"
     ]
    },
    {
     "name": "stderr",
     "output_type": "stream",
     "text": [
      "Epoch 951: 272batch [00:11, 23.01batch/s, loss=7.68e+4]\n"
     ]
    },
    {
     "name": "stdout",
     "output_type": "stream",
     "text": [
      "epoch 951: avg train loss 73377.70, bar train loss 211.520, len train loss 4.313, col train loss 137.268\n",
      "epoch 951: avg test  loss 73718.56, bar  test loss 91.030, len  test loss 1.849, col  test loss 59.274\n"
     ]
    },
    {
     "name": "stderr",
     "output_type": "stream",
     "text": [
      "Epoch 952: 272batch [00:11, 23.19batch/s, loss=7.41e+4]\n"
     ]
    },
    {
     "name": "stdout",
     "output_type": "stream",
     "text": [
      "epoch 952: avg train loss 73366.13, bar train loss 211.460, len train loss 4.314, col train loss 137.209\n",
      "epoch 952: avg test  loss 73764.18, bar  test loss 91.216, len  test loss 1.851, col  test loss 59.495\n"
     ]
    },
    {
     "name": "stderr",
     "output_type": "stream",
     "text": [
      "Epoch 953: 272batch [00:11, 23.33batch/s, loss=7.22e+4]\n"
     ]
    },
    {
     "name": "stdout",
     "output_type": "stream",
     "text": [
      "epoch 953: avg train loss 73367.43, bar train loss 211.459, len train loss 4.315, col train loss 137.245\n",
      "epoch 953: avg test  loss 73728.36, bar  test loss 90.941, len  test loss 1.849, col  test loss 59.173\n"
     ]
    },
    {
     "name": "stderr",
     "output_type": "stream",
     "text": [
      "Epoch 954: 272batch [00:11, 23.08batch/s, loss=7.55e+4]\n"
     ]
    },
    {
     "name": "stdout",
     "output_type": "stream",
     "text": [
      "epoch 954: avg train loss 73372.67, bar train loss 211.514, len train loss 4.315, col train loss 137.253\n",
      "epoch 954: avg test  loss 73727.66, bar  test loss 91.114, len  test loss 1.850, col  test loss 59.268\n"
     ]
    },
    {
     "name": "stderr",
     "output_type": "stream",
     "text": [
      "Epoch 955: 272batch [00:12, 22.40batch/s, loss=7.82e+4]\n"
     ]
    },
    {
     "name": "stdout",
     "output_type": "stream",
     "text": [
      "epoch 955: avg train loss 73360.89, bar train loss 211.448, len train loss 4.313, col train loss 137.186\n",
      "epoch 955: avg test  loss 73759.02, bar  test loss 91.236, len  test loss 1.856, col  test loss 59.452\n"
     ]
    },
    {
     "name": "stderr",
     "output_type": "stream",
     "text": [
      "Epoch 956: 272batch [00:11, 22.82batch/s, loss=7.18e+4]\n"
     ]
    },
    {
     "name": "stdout",
     "output_type": "stream",
     "text": [
      "epoch 956: avg train loss 73379.63, bar train loss 211.493, len train loss 4.314, col train loss 137.274\n",
      "epoch 956: avg test  loss 73734.18, bar  test loss 91.067, len  test loss 1.851, col  test loss 59.315\n"
     ]
    },
    {
     "name": "stderr",
     "output_type": "stream",
     "text": [
      "Epoch 957: 272batch [00:12, 22.64batch/s, loss=6.81e+4]\n"
     ]
    },
    {
     "name": "stdout",
     "output_type": "stream",
     "text": [
      "epoch 957: avg train loss 73372.50, bar train loss 211.509, len train loss 4.315, col train loss 137.245\n",
      "epoch 957: avg test  loss 73750.23, bar  test loss 91.095, len  test loss 1.854, col  test loss 59.259\n"
     ]
    },
    {
     "name": "stderr",
     "output_type": "stream",
     "text": [
      "Epoch 958: 272batch [00:12, 22.53batch/s, loss=7.37e+4]\n"
     ]
    },
    {
     "name": "stdout",
     "output_type": "stream",
     "text": [
      "epoch 958: avg train loss 73363.95, bar train loss 211.460, len train loss 4.314, col train loss 137.233\n",
      "epoch 958: avg test  loss 73749.11, bar  test loss 91.093, len  test loss 1.851, col  test loss 59.419\n"
     ]
    },
    {
     "name": "stderr",
     "output_type": "stream",
     "text": [
      "Epoch 959: 272batch [00:12, 22.39batch/s, loss=7.8e+4]\n"
     ]
    },
    {
     "name": "stdout",
     "output_type": "stream",
     "text": [
      "epoch 959: avg train loss 73360.27, bar train loss 211.461, len train loss 4.314, col train loss 137.186\n",
      "epoch 959: avg test  loss 73715.14, bar  test loss 90.902, len  test loss 1.847, col  test loss 59.243\n"
     ]
    },
    {
     "name": "stderr",
     "output_type": "stream",
     "text": [
      "Epoch 960: 272batch [00:12, 22.42batch/s, loss=7.51e+4]\n"
     ]
    },
    {
     "name": "stdout",
     "output_type": "stream",
     "text": [
      "epoch 960: avg train loss 73361.94, bar train loss 211.474, len train loss 4.313, col train loss 137.206\n",
      "epoch 960: avg test  loss 73714.39, bar  test loss 91.013, len  test loss 1.851, col  test loss 59.286\n"
     ]
    },
    {
     "name": "stderr",
     "output_type": "stream",
     "text": [
      "Epoch 961: 272batch [00:12, 22.56batch/s, loss=7.61e+4]\n"
     ]
    },
    {
     "name": "stdout",
     "output_type": "stream",
     "text": [
      "epoch 961: avg train loss 73360.70, bar train loss 211.445, len train loss 4.315, col train loss 137.208\n",
      "epoch 961: avg test  loss 73735.44, bar  test loss 90.872, len  test loss 1.852, col  test loss 59.196\n"
     ]
    },
    {
     "name": "stderr",
     "output_type": "stream",
     "text": [
      "Epoch 962: 272batch [00:11, 22.68batch/s, loss=7.93e+4]\n"
     ]
    },
    {
     "name": "stdout",
     "output_type": "stream",
     "text": [
      "epoch 962: avg train loss 73356.06, bar train loss 211.444, len train loss 4.314, col train loss 137.161\n",
      "epoch 962: avg test  loss 73711.84, bar  test loss 90.896, len  test loss 1.853, col  test loss 59.189\n"
     ]
    },
    {
     "name": "stderr",
     "output_type": "stream",
     "text": [
      "Epoch 963: 272batch [00:11, 22.67batch/s, loss=6.55e+4]\n"
     ]
    },
    {
     "name": "stdout",
     "output_type": "stream",
     "text": [
      "epoch 963: avg train loss 73359.48, bar train loss 211.458, len train loss 4.315, col train loss 137.216\n",
      "epoch 963: avg test  loss 73790.28, bar  test loss 90.960, len  test loss 1.850, col  test loss 59.290\n"
     ]
    },
    {
     "name": "stderr",
     "output_type": "stream",
     "text": [
      "Epoch 964: 272batch [00:11, 22.95batch/s, loss=7.41e+4]\n"
     ]
    },
    {
     "name": "stdout",
     "output_type": "stream",
     "text": [
      "epoch 964: avg train loss 73351.12, bar train loss 211.439, len train loss 4.313, col train loss 137.162\n",
      "epoch 964: avg test  loss 73782.79, bar  test loss 91.274, len  test loss 1.851, col  test loss 59.312\n"
     ]
    },
    {
     "name": "stderr",
     "output_type": "stream",
     "text": [
      "Epoch 965: 272batch [00:12, 22.63batch/s, loss=8.21e+4]\n"
     ]
    },
    {
     "name": "stdout",
     "output_type": "stream",
     "text": [
      "epoch 965: avg train loss 73359.95, bar train loss 211.440, len train loss 4.315, col train loss 137.178\n",
      "epoch 965: avg test  loss 73706.36, bar  test loss 91.100, len  test loss 1.852, col  test loss 59.341\n"
     ]
    },
    {
     "name": "stderr",
     "output_type": "stream",
     "text": [
      "Epoch 966: 272batch [00:12, 22.64batch/s, loss=6.98e+4]\n"
     ]
    },
    {
     "name": "stdout",
     "output_type": "stream",
     "text": [
      "epoch 966: avg train loss 73358.15, bar train loss 211.441, len train loss 4.314, col train loss 137.154\n",
      "epoch 966: avg test  loss 73742.97, bar  test loss 90.969, len  test loss 1.850, col  test loss 59.190\n"
     ]
    },
    {
     "name": "stderr",
     "output_type": "stream",
     "text": [
      "Epoch 967: 272batch [00:11, 22.73batch/s, loss=7.61e+4]\n"
     ]
    },
    {
     "name": "stdout",
     "output_type": "stream",
     "text": [
      "epoch 967: avg train loss 73356.32, bar train loss 211.406, len train loss 4.314, col train loss 137.197\n",
      "epoch 967: avg test  loss 73753.08, bar  test loss 91.133, len  test loss 1.854, col  test loss 59.235\n"
     ]
    },
    {
     "name": "stderr",
     "output_type": "stream",
     "text": [
      "Epoch 968: 272batch [00:11, 22.78batch/s, loss=7.56e+4]\n"
     ]
    },
    {
     "name": "stdout",
     "output_type": "stream",
     "text": [
      "epoch 968: avg train loss 73360.72, bar train loss 211.448, len train loss 4.314, col train loss 137.159\n",
      "epoch 968: avg test  loss 73741.14, bar  test loss 91.139, len  test loss 1.854, col  test loss 59.377\n"
     ]
    },
    {
     "name": "stderr",
     "output_type": "stream",
     "text": [
      "Epoch 969: 272batch [00:11, 23.08batch/s, loss=6.63e+4]\n"
     ]
    },
    {
     "name": "stdout",
     "output_type": "stream",
     "text": [
      "epoch 969: avg train loss 73357.09, bar train loss 211.411, len train loss 4.315, col train loss 137.202\n",
      "epoch 969: avg test  loss 73703.59, bar  test loss 90.997, len  test loss 1.852, col  test loss 59.279\n"
     ]
    },
    {
     "name": "stderr",
     "output_type": "stream",
     "text": [
      "Epoch 970: 272batch [00:11, 22.97batch/s, loss=7.03e+4]\n"
     ]
    },
    {
     "name": "stdout",
     "output_type": "stream",
     "text": [
      "epoch 970: avg train loss 73348.87, bar train loss 211.405, len train loss 4.315, col train loss 137.155\n",
      "epoch 970: avg test  loss 73757.88, bar  test loss 91.064, len  test loss 1.855, col  test loss 59.328\n"
     ]
    },
    {
     "name": "stderr",
     "output_type": "stream",
     "text": [
      "Epoch 971: 272batch [00:11, 23.16batch/s, loss=7.21e+4]\n"
     ]
    },
    {
     "name": "stdout",
     "output_type": "stream",
     "text": [
      "epoch 971: avg train loss 73358.73, bar train loss 211.423, len train loss 4.312, col train loss 137.172\n",
      "epoch 971: avg test  loss 73721.98, bar  test loss 90.875, len  test loss 1.851, col  test loss 59.232\n"
     ]
    },
    {
     "name": "stderr",
     "output_type": "stream",
     "text": [
      "Epoch 972: 272batch [00:11, 23.28batch/s, loss=7.33e+4]\n"
     ]
    },
    {
     "name": "stdout",
     "output_type": "stream",
     "text": [
      "epoch 972: avg train loss 73346.07, bar train loss 211.382, len train loss 4.313, col train loss 137.151\n",
      "epoch 972: avg test  loss 73688.72, bar  test loss 91.043, len  test loss 1.849, col  test loss 59.262\n"
     ]
    },
    {
     "name": "stderr",
     "output_type": "stream",
     "text": [
      "Epoch 973: 272batch [00:11, 22.98batch/s, loss=7.42e+4]\n"
     ]
    },
    {
     "name": "stdout",
     "output_type": "stream",
     "text": [
      "epoch 973: avg train loss 73348.56, bar train loss 211.411, len train loss 4.314, col train loss 137.133\n",
      "epoch 973: avg test  loss 73723.23, bar  test loss 91.081, len  test loss 1.854, col  test loss 59.290\n"
     ]
    },
    {
     "name": "stderr",
     "output_type": "stream",
     "text": [
      "Epoch 974: 272batch [00:11, 22.91batch/s, loss=6.56e+4]\n"
     ]
    },
    {
     "name": "stdout",
     "output_type": "stream",
     "text": [
      "epoch 974: avg train loss 73346.84, bar train loss 211.380, len train loss 4.315, col train loss 137.124\n",
      "epoch 974: avg test  loss 73708.23, bar  test loss 90.898, len  test loss 1.849, col  test loss 59.241\n"
     ]
    },
    {
     "name": "stderr",
     "output_type": "stream",
     "text": [
      "Epoch 975: 272batch [00:11, 22.81batch/s, loss=7.33e+4]\n"
     ]
    },
    {
     "name": "stdout",
     "output_type": "stream",
     "text": [
      "epoch 975: avg train loss 73347.82, bar train loss 211.403, len train loss 4.314, col train loss 137.139\n",
      "epoch 975: avg test  loss 73711.22, bar  test loss 90.814, len  test loss 1.852, col  test loss 59.124\n"
     ]
    },
    {
     "name": "stderr",
     "output_type": "stream",
     "text": [
      "Epoch 976: 272batch [00:11, 22.76batch/s, loss=6.46e+4]\n"
     ]
    },
    {
     "name": "stdout",
     "output_type": "stream",
     "text": [
      "epoch 976: avg train loss 73349.30, bar train loss 211.406, len train loss 4.315, col train loss 137.126\n",
      "epoch 976: avg test  loss 73695.52, bar  test loss 90.937, len  test loss 1.849, col  test loss 59.204\n"
     ]
    },
    {
     "name": "stderr",
     "output_type": "stream",
     "text": [
      "Epoch 977: 272batch [00:11, 22.86batch/s, loss=6.66e+4]\n"
     ]
    },
    {
     "name": "stdout",
     "output_type": "stream",
     "text": [
      "epoch 977: avg train loss 73341.30, bar train loss 211.403, len train loss 4.313, col train loss 137.118\n",
      "epoch 977: avg test  loss 73725.14, bar  test loss 90.871, len  test loss 1.849, col  test loss 59.053\n"
     ]
    },
    {
     "name": "stderr",
     "output_type": "stream",
     "text": [
      "Epoch 978: 272batch [00:11, 23.18batch/s, loss=7.36e+4]\n"
     ]
    },
    {
     "name": "stdout",
     "output_type": "stream",
     "text": [
      "epoch 978: avg train loss 73344.24, bar train loss 211.371, len train loss 4.314, col train loss 137.105\n",
      "epoch 978: avg test  loss 73690.59, bar  test loss 90.966, len  test loss 1.853, col  test loss 59.252\n"
     ]
    },
    {
     "name": "stderr",
     "output_type": "stream",
     "text": [
      "Epoch 979: 272batch [00:11, 23.23batch/s, loss=7.81e+4]\n"
     ]
    },
    {
     "name": "stdout",
     "output_type": "stream",
     "text": [
      "epoch 979: avg train loss 73342.27, bar train loss 211.413, len train loss 4.315, col train loss 137.122\n",
      "epoch 979: avg test  loss 73724.89, bar  test loss 90.916, len  test loss 1.851, col  test loss 59.145\n"
     ]
    },
    {
     "name": "stderr",
     "output_type": "stream",
     "text": [
      "Epoch 980: 272batch [00:11, 23.13batch/s, loss=7.43e+4]\n"
     ]
    },
    {
     "name": "stdout",
     "output_type": "stream",
     "text": [
      "epoch 980: avg train loss 73340.35, bar train loss 211.382, len train loss 4.313, col train loss 137.074\n",
      "epoch 980: avg test  loss 73691.70, bar  test loss 90.966, len  test loss 1.851, col  test loss 59.210\n"
     ]
    },
    {
     "name": "stderr",
     "output_type": "stream",
     "text": [
      "Epoch 981: 272batch [00:11, 23.22batch/s, loss=6.45e+4]\n"
     ]
    },
    {
     "name": "stdout",
     "output_type": "stream",
     "text": [
      "epoch 981: avg train loss 73344.33, bar train loss 211.391, len train loss 4.314, col train loss 137.094\n",
      "epoch 981: avg test  loss 73704.28, bar  test loss 90.862, len  test loss 1.854, col  test loss 59.119\n"
     ]
    },
    {
     "name": "stderr",
     "output_type": "stream",
     "text": [
      "Epoch 982: 272batch [00:11, 23.28batch/s, loss=7.86e+4]\n"
     ]
    },
    {
     "name": "stdout",
     "output_type": "stream",
     "text": [
      "epoch 982: avg train loss 73334.54, bar train loss 211.344, len train loss 4.313, col train loss 137.077\n",
      "epoch 982: avg test  loss 73746.41, bar  test loss 90.975, len  test loss 1.854, col  test loss 59.273\n"
     ]
    },
    {
     "name": "stderr",
     "output_type": "stream",
     "text": [
      "Epoch 983: 272batch [00:11, 23.37batch/s, loss=7.44e+4]\n"
     ]
    },
    {
     "name": "stdout",
     "output_type": "stream",
     "text": [
      "epoch 983: avg train loss 73348.75, bar train loss 211.396, len train loss 4.313, col train loss 137.097\n",
      "epoch 983: avg test  loss 73683.97, bar  test loss 90.992, len  test loss 1.853, col  test loss 59.292\n"
     ]
    },
    {
     "name": "stderr",
     "output_type": "stream",
     "text": [
      "Epoch 984: 272batch [00:11, 23.29batch/s, loss=7.97e+4]\n"
     ]
    },
    {
     "name": "stdout",
     "output_type": "stream",
     "text": [
      "epoch 984: avg train loss 73338.31, bar train loss 211.373, len train loss 4.316, col train loss 137.089\n",
      "epoch 984: avg test  loss 73697.57, bar  test loss 90.705, len  test loss 1.850, col  test loss 59.095\n"
     ]
    },
    {
     "name": "stderr",
     "output_type": "stream",
     "text": [
      "Epoch 985: 272batch [00:11, 23.26batch/s, loss=7.28e+4]\n"
     ]
    },
    {
     "name": "stdout",
     "output_type": "stream",
     "text": [
      "epoch 985: avg train loss 73339.88, bar train loss 211.374, len train loss 4.314, col train loss 137.094\n",
      "epoch 985: avg test  loss 73720.87, bar  test loss 90.993, len  test loss 1.851, col  test loss 59.152\n"
     ]
    },
    {
     "name": "stderr",
     "output_type": "stream",
     "text": [
      "Epoch 986: 272batch [00:11, 22.94batch/s, loss=7.92e+4]\n"
     ]
    },
    {
     "name": "stdout",
     "output_type": "stream",
     "text": [
      "epoch 986: avg train loss 73338.09, bar train loss 211.334, len train loss 4.314, col train loss 137.077\n",
      "epoch 986: avg test  loss 73718.18, bar  test loss 91.002, len  test loss 1.852, col  test loss 59.283\n"
     ]
    },
    {
     "name": "stderr",
     "output_type": "stream",
     "text": [
      "Epoch 987: 272batch [00:11, 22.97batch/s, loss=7.7e+4]\n"
     ]
    },
    {
     "name": "stdout",
     "output_type": "stream",
     "text": [
      "epoch 987: avg train loss 73336.80, bar train loss 211.362, len train loss 4.313, col train loss 137.102\n",
      "epoch 987: avg test  loss 73732.66, bar  test loss 90.870, len  test loss 1.851, col  test loss 59.225\n"
     ]
    },
    {
     "name": "stderr",
     "output_type": "stream",
     "text": [
      "Epoch 988: 272batch [00:12, 22.49batch/s, loss=6.77e+4]\n"
     ]
    },
    {
     "name": "stdout",
     "output_type": "stream",
     "text": [
      "epoch 988: avg train loss 73334.52, bar train loss 211.368, len train loss 4.314, col train loss 137.103\n",
      "epoch 988: avg test  loss 73711.02, bar  test loss 90.919, len  test loss 1.851, col  test loss 59.127\n"
     ]
    },
    {
     "name": "stderr",
     "output_type": "stream",
     "text": [
      "Epoch 989: 272batch [00:11, 22.73batch/s, loss=7.3e+4]\n"
     ]
    },
    {
     "name": "stdout",
     "output_type": "stream",
     "text": [
      "epoch 989: avg train loss 73343.88, bar train loss 211.398, len train loss 4.315, col train loss 137.073\n",
      "epoch 989: avg test  loss 73689.34, bar  test loss 91.058, len  test loss 1.849, col  test loss 59.212\n"
     ]
    },
    {
     "name": "stderr",
     "output_type": "stream",
     "text": [
      "Epoch 990: 272batch [00:11, 23.09batch/s, loss=6.8e+4]\n"
     ]
    },
    {
     "name": "stdout",
     "output_type": "stream",
     "text": [
      "epoch 990: avg train loss 73331.44, bar train loss 211.338, len train loss 4.315, col train loss 137.055\n",
      "epoch 990: avg test  loss 73715.20, bar  test loss 90.849, len  test loss 1.855, col  test loss 59.174\n"
     ]
    },
    {
     "name": "stderr",
     "output_type": "stream",
     "text": [
      "Epoch 991: 272batch [00:11, 23.07batch/s, loss=7.65e+4]\n"
     ]
    },
    {
     "name": "stdout",
     "output_type": "stream",
     "text": [
      "epoch 991: avg train loss 73324.32, bar train loss 211.357, len train loss 4.315, col train loss 137.073\n",
      "epoch 991: avg test  loss 73708.45, bar  test loss 90.944, len  test loss 1.849, col  test loss 59.113\n"
     ]
    },
    {
     "name": "stderr",
     "output_type": "stream",
     "text": [
      "Epoch 992: 272batch [00:12, 22.61batch/s, loss=7.27e+4]\n"
     ]
    },
    {
     "name": "stdout",
     "output_type": "stream",
     "text": [
      "epoch 992: avg train loss 73336.65, bar train loss 211.358, len train loss 4.316, col train loss 137.054\n",
      "epoch 992: avg test  loss 73692.24, bar  test loss 90.894, len  test loss 1.852, col  test loss 59.082\n"
     ]
    },
    {
     "name": "stderr",
     "output_type": "stream",
     "text": [
      "Epoch 993: 272batch [00:11, 22.67batch/s, loss=7.02e+4]\n"
     ]
    },
    {
     "name": "stdout",
     "output_type": "stream",
     "text": [
      "epoch 993: avg train loss 73337.84, bar train loss 211.371, len train loss 4.314, col train loss 137.051\n",
      "epoch 993: avg test  loss 73694.73, bar  test loss 90.934, len  test loss 1.847, col  test loss 59.199\n"
     ]
    },
    {
     "name": "stderr",
     "output_type": "stream",
     "text": [
      "Epoch 994: 272batch [00:11, 22.74batch/s, loss=6.9e+4]\n"
     ]
    },
    {
     "name": "stdout",
     "output_type": "stream",
     "text": [
      "epoch 994: avg train loss 73326.39, bar train loss 211.352, len train loss 4.315, col train loss 137.048\n",
      "epoch 994: avg test  loss 73682.73, bar  test loss 91.112, len  test loss 1.853, col  test loss 59.280\n"
     ]
    },
    {
     "name": "stderr",
     "output_type": "stream",
     "text": [
      "Epoch 995: 272batch [00:11, 22.98batch/s, loss=7.05e+4]\n"
     ]
    },
    {
     "name": "stdout",
     "output_type": "stream",
     "text": [
      "epoch 995: avg train loss 73328.26, bar train loss 211.340, len train loss 4.315, col train loss 137.044\n",
      "epoch 995: avg test  loss 73748.52, bar  test loss 90.960, len  test loss 1.852, col  test loss 59.204\n"
     ]
    },
    {
     "name": "stderr",
     "output_type": "stream",
     "text": [
      "Epoch 996: 272batch [00:11, 22.87batch/s, loss=7.47e+4]\n"
     ]
    },
    {
     "name": "stdout",
     "output_type": "stream",
     "text": [
      "epoch 996: avg train loss 73336.80, bar train loss 211.373, len train loss 4.314, col train loss 137.059\n",
      "epoch 996: avg test  loss 73698.27, bar  test loss 91.070, len  test loss 1.852, col  test loss 59.302\n"
     ]
    },
    {
     "name": "stderr",
     "output_type": "stream",
     "text": [
      "Epoch 997: 272batch [00:11, 23.11batch/s, loss=7.47e+4]\n"
     ]
    },
    {
     "name": "stdout",
     "output_type": "stream",
     "text": [
      "epoch 997: avg train loss 73317.43, bar train loss 211.310, len train loss 4.316, col train loss 137.016\n",
      "epoch 997: avg test  loss 73716.41, bar  test loss 91.163, len  test loss 1.852, col  test loss 59.372\n"
     ]
    },
    {
     "name": "stderr",
     "output_type": "stream",
     "text": [
      "Epoch 998: 272batch [00:11, 22.97batch/s, loss=7.75e+4]\n"
     ]
    },
    {
     "name": "stdout",
     "output_type": "stream",
     "text": [
      "epoch 998: avg train loss 73322.45, bar train loss 211.308, len train loss 4.315, col train loss 137.027\n",
      "epoch 998: avg test  loss 73703.09, bar  test loss 91.071, len  test loss 1.849, col  test loss 59.245\n"
     ]
    },
    {
     "name": "stderr",
     "output_type": "stream",
     "text": [
      "Epoch 999: 272batch [00:11, 22.97batch/s, loss=7.51e+4]\n"
     ]
    },
    {
     "name": "stdout",
     "output_type": "stream",
     "text": [
      "epoch 999: avg train loss 73323.70, bar train loss 211.290, len train loss 4.316, col train loss 137.017\n",
      "epoch 999: avg test  loss 73702.59, bar  test loss 90.781, len  test loss 1.849, col  test loss 59.100\n"
     ]
    },
    {
     "name": "stderr",
     "output_type": "stream",
     "text": [
      "Epoch 1000: 272batch [00:11, 23.02batch/s, loss=7.27e+4]\n"
     ]
    },
    {
     "name": "stdout",
     "output_type": "stream",
     "text": [
      "epoch 1000: avg train loss 73325.08, bar train loss 211.306, len train loss 4.316, col train loss 137.037\n",
      "epoch 1000: avg test  loss 73673.21, bar  test loss 91.059, len  test loss 1.853, col  test loss 59.290\n"
     ]
    },
    {
     "data": {
      "text/plain": [
       "<Figure size 5760x1440 with 0 Axes>"
      ]
     },
     "metadata": {},
     "output_type": "display_data"
    },
    {
     "data": {
      "text/plain": [
       "<Figure size 5760x1440 with 0 Axes>"
      ]
     },
     "metadata": {},
     "output_type": "display_data"
    },
    {
     "data": {
      "text/plain": [
       "<Figure size 5760x1440 with 0 Axes>"
      ]
     },
     "metadata": {},
     "output_type": "display_data"
    },
    {
     "data": {
      "text/plain": [
       "<Figure size 5760x1440 with 0 Axes>"
      ]
     },
     "metadata": {},
     "output_type": "display_data"
    },
    {
     "data": {
      "text/plain": [
       "<Figure size 5760x1440 with 0 Axes>"
      ]
     },
     "metadata": {},
     "output_type": "display_data"
    },
    {
     "data": {
      "text/plain": [
       "<Figure size 5760x1440 with 0 Axes>"
      ]
     },
     "metadata": {},
     "output_type": "display_data"
    },
    {
     "data": {
      "text/plain": [
       "<Figure size 5760x1440 with 0 Axes>"
      ]
     },
     "metadata": {},
     "output_type": "display_data"
    },
    {
     "data": {
      "text/plain": [
       "<Figure size 5760x1440 with 0 Axes>"
      ]
     },
     "metadata": {},
     "output_type": "display_data"
    },
    {
     "data": {
      "text/plain": [
       "<Figure size 5760x1440 with 0 Axes>"
      ]
     },
     "metadata": {},
     "output_type": "display_data"
    },
    {
     "data": {
      "text/plain": [
       "<Figure size 5760x1440 with 0 Axes>"
      ]
     },
     "metadata": {},
     "output_type": "display_data"
    },
    {
     "data": {
      "text/plain": [
       "<Figure size 5760x1440 with 0 Axes>"
      ]
     },
     "metadata": {},
     "output_type": "display_data"
    },
    {
     "data": {
      "text/plain": [
       "<Figure size 5760x1440 with 0 Axes>"
      ]
     },
     "metadata": {},
     "output_type": "display_data"
    },
    {
     "data": {
      "text/plain": [
       "<Figure size 5760x1440 with 0 Axes>"
      ]
     },
     "metadata": {},
     "output_type": "display_data"
    },
    {
     "data": {
      "text/plain": [
       "<Figure size 5760x1440 with 0 Axes>"
      ]
     },
     "metadata": {},
     "output_type": "display_data"
    },
    {
     "data": {
      "text/plain": [
       "<Figure size 5760x1440 with 0 Axes>"
      ]
     },
     "metadata": {},
     "output_type": "display_data"
    },
    {
     "data": {
      "text/plain": [
       "<Figure size 5760x1440 with 0 Axes>"
      ]
     },
     "metadata": {},
     "output_type": "display_data"
    },
    {
     "data": {
      "text/plain": [
       "<Figure size 5760x1440 with 0 Axes>"
      ]
     },
     "metadata": {},
     "output_type": "display_data"
    },
    {
     "data": {
      "text/plain": [
       "<Figure size 5760x1440 with 0 Axes>"
      ]
     },
     "metadata": {},
     "output_type": "display_data"
    },
    {
     "data": {
      "text/plain": [
       "<Figure size 5760x1440 with 0 Axes>"
      ]
     },
     "metadata": {},
     "output_type": "display_data"
    },
    {
     "data": {
      "text/plain": [
       "<Figure size 5760x1440 with 0 Axes>"
      ]
     },
     "metadata": {},
     "output_type": "display_data"
    },
    {
     "data": {
      "text/plain": [
       "<Figure size 5760x1440 with 0 Axes>"
      ]
     },
     "metadata": {},
     "output_type": "display_data"
    },
    {
     "data": {
      "text/plain": [
       "<Figure size 5760x1440 with 0 Axes>"
      ]
     },
     "metadata": {},
     "output_type": "display_data"
    },
    {
     "data": {
      "text/plain": [
       "<Figure size 5760x1440 with 0 Axes>"
      ]
     },
     "metadata": {},
     "output_type": "display_data"
    },
    {
     "data": {
      "text/plain": [
       "<Figure size 5760x1440 with 0 Axes>"
      ]
     },
     "metadata": {},
     "output_type": "display_data"
    },
    {
     "data": {
      "text/plain": [
       "<Figure size 5760x1440 with 0 Axes>"
      ]
     },
     "metadata": {},
     "output_type": "display_data"
    },
    {
     "data": {
      "text/plain": [
       "<Figure size 5760x1440 with 0 Axes>"
      ]
     },
     "metadata": {},
     "output_type": "display_data"
    },
    {
     "data": {
      "text/plain": [
       "<Figure size 5760x1440 with 0 Axes>"
      ]
     },
     "metadata": {},
     "output_type": "display_data"
    },
    {
     "data": {
      "text/plain": [
       "<Figure size 5760x1440 with 0 Axes>"
      ]
     },
     "metadata": {},
     "output_type": "display_data"
    },
    {
     "data": {
      "text/plain": [
       "<Figure size 5760x1440 with 0 Axes>"
      ]
     },
     "metadata": {},
     "output_type": "display_data"
    },
    {
     "data": {
      "text/plain": [
       "<Figure size 5760x1440 with 0 Axes>"
      ]
     },
     "metadata": {},
     "output_type": "display_data"
    },
    {
     "data": {
      "text/plain": [
       "<Figure size 5760x1440 with 0 Axes>"
      ]
     },
     "metadata": {},
     "output_type": "display_data"
    },
    {
     "data": {
      "text/plain": [
       "<Figure size 5760x1440 with 0 Axes>"
      ]
     },
     "metadata": {},
     "output_type": "display_data"
    },
    {
     "data": {
      "text/plain": [
       "<Figure size 5760x1440 with 0 Axes>"
      ]
     },
     "metadata": {},
     "output_type": "display_data"
    },
    {
     "data": {
      "text/plain": [
       "<Figure size 5760x1440 with 0 Axes>"
      ]
     },
     "metadata": {},
     "output_type": "display_data"
    },
    {
     "data": {
      "text/plain": [
       "<Figure size 5760x1440 with 0 Axes>"
      ]
     },
     "metadata": {},
     "output_type": "display_data"
    },
    {
     "data": {
      "text/plain": [
       "<Figure size 5760x1440 with 0 Axes>"
      ]
     },
     "metadata": {},
     "output_type": "display_data"
    },
    {
     "data": {
      "text/plain": [
       "<Figure size 5760x1440 with 0 Axes>"
      ]
     },
     "metadata": {},
     "output_type": "display_data"
    },
    {
     "data": {
      "text/plain": [
       "<Figure size 5760x1440 with 0 Axes>"
      ]
     },
     "metadata": {},
     "output_type": "display_data"
    },
    {
     "data": {
      "text/plain": [
       "<Figure size 5760x1440 with 0 Axes>"
      ]
     },
     "metadata": {},
     "output_type": "display_data"
    },
    {
     "data": {
      "text/plain": [
       "<Figure size 5760x1440 with 0 Axes>"
      ]
     },
     "metadata": {},
     "output_type": "display_data"
    },
    {
     "data": {
      "text/plain": [
       "<Figure size 5760x1440 with 0 Axes>"
      ]
     },
     "metadata": {},
     "output_type": "display_data"
    },
    {
     "data": {
      "text/plain": [
       "<Figure size 5760x1440 with 0 Axes>"
      ]
     },
     "metadata": {},
     "output_type": "display_data"
    },
    {
     "data": {
      "text/plain": [
       "<Figure size 5760x1440 with 0 Axes>"
      ]
     },
     "metadata": {},
     "output_type": "display_data"
    },
    {
     "data": {
      "text/plain": [
       "<Figure size 5760x1440 with 0 Axes>"
      ]
     },
     "metadata": {},
     "output_type": "display_data"
    },
    {
     "data": {
      "text/plain": [
       "<Figure size 5760x1440 with 0 Axes>"
      ]
     },
     "metadata": {},
     "output_type": "display_data"
    },
    {
     "data": {
      "text/plain": [
       "<Figure size 5760x1440 with 0 Axes>"
      ]
     },
     "metadata": {},
     "output_type": "display_data"
    },
    {
     "data": {
      "text/plain": [
       "<Figure size 5760x1440 with 0 Axes>"
      ]
     },
     "metadata": {},
     "output_type": "display_data"
    },
    {
     "data": {
      "text/plain": [
       "<Figure size 5760x1440 with 0 Axes>"
      ]
     },
     "metadata": {},
     "output_type": "display_data"
    },
    {
     "data": {
      "text/plain": [
       "<Figure size 5760x1440 with 0 Axes>"
      ]
     },
     "metadata": {},
     "output_type": "display_data"
    },
    {
     "data": {
      "text/plain": [
       "<Figure size 5760x1440 with 0 Axes>"
      ]
     },
     "metadata": {},
     "output_type": "display_data"
    },
    {
     "data": {
      "text/plain": [
       "<Figure size 5760x1440 with 0 Axes>"
      ]
     },
     "metadata": {},
     "output_type": "display_data"
    },
    {
     "data": {
      "text/plain": [
       "<Figure size 5760x1440 with 0 Axes>"
      ]
     },
     "metadata": {},
     "output_type": "display_data"
    },
    {
     "data": {
      "text/plain": [
       "<Figure size 5760x1440 with 0 Axes>"
      ]
     },
     "metadata": {},
     "output_type": "display_data"
    },
    {
     "data": {
      "text/plain": [
       "<Figure size 5760x1440 with 0 Axes>"
      ]
     },
     "metadata": {},
     "output_type": "display_data"
    },
    {
     "data": {
      "text/plain": [
       "<Figure size 5760x1440 with 0 Axes>"
      ]
     },
     "metadata": {},
     "output_type": "display_data"
    },
    {
     "data": {
      "text/plain": [
       "<Figure size 5760x1440 with 0 Axes>"
      ]
     },
     "metadata": {},
     "output_type": "display_data"
    },
    {
     "data": {
      "text/plain": [
       "<Figure size 5760x1440 with 0 Axes>"
      ]
     },
     "metadata": {},
     "output_type": "display_data"
    },
    {
     "data": {
      "text/plain": [
       "<Figure size 5760x1440 with 0 Axes>"
      ]
     },
     "metadata": {},
     "output_type": "display_data"
    },
    {
     "data": {
      "text/plain": [
       "<Figure size 5760x1440 with 0 Axes>"
      ]
     },
     "metadata": {},
     "output_type": "display_data"
    },
    {
     "data": {
      "text/plain": [
       "<Figure size 5760x1440 with 0 Axes>"
      ]
     },
     "metadata": {},
     "output_type": "display_data"
    }
   ],
   "source": [
    "lss, lss_t = train(default_args, train_loader, test_loader, diva, optimizer, 1000, 700, save_folder=\"VAE1\")"
   ]
  },
  {
   "cell_type": "code",
   "execution_count": null,
   "metadata": {
    "id": "c4r_UyPUGXqT"
   },
   "outputs": [],
   "source": [
    "def plot_loss_acc(lss, lss_t, yacc, yacc_t):\n",
    "    fig,ax = plt.subplots()\n",
    "    ax.plot(lss, label=\"train loss\")\n",
    "    ax.plot(lss_t, label = \"test loss\")\n",
    "    ax1 = ax.twinx()\n",
    "    ax1.plot(yacc, label = \"train accuracy\", ls='--')\n",
    "    ax1.plot(yacc_t, label = \"test accuracy\", ls='--')\n",
    "\n",
    "    lines, labels = ax.get_legend_handles_labels()\n",
    "    lines2, labels2 = ax1.get_legend_handles_labels()\n",
    "\n",
    "    ax1.legend(lines + lines2, labels + labels2)"
   ]
  },
  {
   "cell_type": "code",
   "execution_count": null,
   "metadata": {
    "colab": {
     "base_uri": "https://localhost:8080/",
     "height": 266
    },
    "executionInfo": {
     "elapsed": 857,
     "status": "ok",
     "timestamp": 1645822416415,
     "user": {
      "displayName": "Marko Petkovic",
      "photoUrl": "https://lh3.googleusercontent.com/a-/AOh14Gijd0e9r3I1vRZVN6DEwl16XpJxxS1oSAKunOnfZQ=s64",
      "userId": "11987583535390684770"
     },
     "user_tz": -60
    },
    "id": "fTFZZmoguwtU",
    "outputId": "540c8c1f-99d7-4931-c102-7c96747243aa"
   },
   "outputs": [
    {
     "data": {
      "image/png": "[encoded data removed]",
      "text/plain": [
       "<Figure size 432x288 with 2 Axes>"
      ]
     },
     "metadata": {},
     "output_type": "display_data"
    }
   ],
   "source": [
    "plot_loss_acc(lss+lss2, lss_t+lss_t2, yacc+yacc2, yacc_t+yacc_t2)"
   ]
  },
  {
   "cell_type": "code",
   "execution_count": null,
   "metadata": {
    "colab": {
     "base_uri": "https://localhost:8080/",
     "height": 265
    },
    "executionInfo": {
     "elapsed": 557,
     "status": "ok",
     "timestamp": 1645623855467,
     "user": {
      "displayName": "Marko Petkovic",
      "photoUrl": "https://lh3.googleusercontent.com/a/default-user=s64",
      "userId": "04006351469182865246"
     },
     "user_tz": -60
    },
    "id": "mq2FG26TznE1",
    "outputId": "152eddd3-a440-4b25-c437-498efb0a7ffe"
   },
   "outputs": [
    {
     "data": {
      "image/png": "[encoded data removed]",
      "text/plain": [
       "<Figure size 432x288 with 2 Axes>"
      ]
     },
     "metadata": {},
     "output_type": "display_data"
    }
   ],
   "source": [
    "plot_loss_acc(lss3, lss_t3, yacc3, yacc_t3)"
   ]
  },
  {
   "cell_type": "code",
   "execution_count": null,
   "metadata": {
    "id": "9FyP02qPdgso"
   },
   "outputs": [],
   "source": [
    "def plot_change_latent_var(diva, lat_space=\"y\", var_idx=[0,1,2,3,4,5,6,7], step = 5):\n",
    "    a = next(enumerate(test_loader))\n",
    "    with torch.no_grad():\n",
    "        diva.eval()\n",
    "        d = a[1][2][:len(var_idx)].to(DEVICE).float()\n",
    "        x = a[1][0][:len(var_idx)].to(DEVICE).float()\n",
    "        y = a[1][1][:len(var_idx)].to(DEVICE).float()\n",
    "\n",
    "        zx, zx_sc = diva.qzx(x)\n",
    "        zy, zy_sc = diva.qzy(x)\n",
    "        zd, zd_sc =  diva.qzd(x)\n",
    "\n",
    "        print(torch.max(zy), torch.min(zy), \"sdmax:\", torch.max(zy_sc))\n",
    "\n",
    "        out = change(zx, zy, zd, var_idx, lat_space, diva, step)\n",
    "    \n",
    "    fig, ax = plt.subplots(ncols=out.shape[0],nrows=len(var_idx),figsize=(10*4*out.shape[0],10*len(var_idx)))\n",
    "    for i in range(out.shape[0]):\n",
    "      for j in range(len(var_idx)):\n",
    "        ax[j,i].imshow(out[i,j])"
   ]
  },
  {
   "cell_type": "code",
   "execution_count": null,
   "metadata": {
    "id": "x6kJu1APenFe"
   },
   "outputs": [],
   "source": [
    "def change(zx, zy, zd, idx, lat = \"y\", model=diva, step = 2):\n",
    "    \n",
    "    dif = np.arange(-30,15,step)\n",
    "    print(torch.max(zy), torch.min(zy))\n",
    "    out = np.zeros((dif.shape[0], len(idx), 25, 100 ,3))  \n",
    "    #print(zy.shape, dif.shape[0])\n",
    "    for i in range(dif.shape[0]):\n",
    "      for j in range(len(idx)):\n",
    "        if lat == \"y\":\n",
    "            zy[j,idx] = dif[i]\n",
    "        elif lat == \"x\":\n",
    "            zx[j,idx] = dif[i]\n",
    "        elif lat == \"d\":\n",
    "            zd[j,idx] = dif[i]\n",
    "        len_, bar, col = model.px(zd[j],zx[j],zy[j])\n",
    "        out[i,j] = model.px.reconstruct_image(len_[None,:], bar, col)\n",
    "    \n",
    "    return out\n",
    "\n"
   ]
  },
  {
   "cell_type": "code",
   "execution_count": null,
   "metadata": {
    "colab": {
     "base_uri": "https://localhost:8080/",
     "height": 243
    },
    "executionInfo": {
     "elapsed": 33513,
     "status": "ok",
     "timestamp": 1645623900042,
     "user": {
      "displayName": "Marko Petkovic",
      "photoUrl": "https://lh3.googleusercontent.com/a/default-user=s64",
      "userId": "04006351469182865246"
     },
     "user_tz": -60
    },
    "id": "4U1JHmTKh0cE",
    "outputId": "b0a1850e-9f0d-4163-813b-8686f4bb05fc"
   },
   "outputs": [
    {
     "name": "stdout",
     "output_type": "stream",
     "text": [
      "tensor(14.6182, device='cuda:0') tensor(-24.0759, device='cuda:0') sdmax: tensor(1.8670e-06, device='cuda:0')\n",
      "tensor(14.6182, device='cuda:0') tensor(-24.0759, device='cuda:0')\n"
     ]
    },
    {
     "name": "stderr",
     "output_type": "stream",
     "text": [
      "/usr/local/lib/python3.7/dist-packages/torch/nn/modules/container.py:141: UserWarning: Implicit dimension choice for softmax has been deprecated. Change the call to include dim=X as an argument.\n",
      "  input = module(input)\n"
     ]
    },
    {
     "data": {
      "image/png": "[encoded data removed]",
      "text/plain": [
       "<Figure size 25920x5760 with 72 Axes>"
      ]
     },
     "metadata": {},
     "output_type": "display_data"
    }
   ],
   "source": [
    "plot_change_latent_var(diva)"
   ]
  },
  {
   "cell_type": "code",
   "execution_count": null,
   "metadata": {
    "id": "cpZoRZMGHcui"
   },
   "outputs": [],
   "source": [
    "fig,ax = plt.subplots()\n",
    "ax.plot(np.arange(50,120), [i.cpu().detach().numpy() for i in lss2], label=\"train loss\")\n",
    "ax.plot(np.arange(50,120), [i.cpu().detach().numpy() for i in lss_t2], label = \"testloss\")\n",
    "ax1 = ax.twinx()\n",
    "ax1.plot(np.arange(50,120), yacc2, label = \"train\")\n",
    "ax1.plot(np.arange(50,120), yacc_t2, label = \"test\")\n",
    "\n",
    "plt.legend()"
   ]
  },
  {
   "cell_type": "code",
   "execution_count": null,
   "metadata": {
    "colab": {
     "base_uri": "https://localhost:8080/",
     "height": 283
    },
    "executionInfo": {
     "elapsed": 681,
     "status": "ok",
     "timestamp": 1645563980004,
     "user": {
      "displayName": "Marko Petkovic",
      "photoUrl": "https://lh3.googleusercontent.com/a-/AOh14Gijd0e9r3I1vRZVN6DEwl16XpJxxS1oSAKunOnfZQ=s64",
      "userId": "11987583535390684770"
     },
     "user_tz": -60
    },
    "id": "OQMW85JXM6oO",
    "outputId": "dd28a6c2-0024-498e-d571-c705ee67fbd6"
   },
   "outputs": [
    {
     "data": {
      "text/plain": [
       "<matplotlib.legend.Legend at 0x7f445c35d950>"
      ]
     },
     "execution_count": 156,
     "metadata": {},
     "output_type": "execute_result"
    },
    {
     "data": {
      "image/png": "[encoded data removed]",
      "text/plain": [
       "<Figure size 432x288 with 2 Axes>"
      ]
     },
     "metadata": {},
     "output_type": "display_data"
    }
   ],
   "source": [
    "fig,ax = plt.subplots()\n",
    "ax.plot(np.arange(120,180), [i.cpu().detach().numpy() for i in lss3], label=\"train loss\")\n",
    "ax.plot(np.arange(120,180), [i.cpu().detach().numpy() for i in lss_t3], label = \"testloss\")\n",
    "ax1 = ax.twinx()\n",
    "ax1.plot(np.arange(120,180), yacc3, label = \"train\",c='green')\n",
    "ax1.plot(np.arange(120,180), yacc_t3, label = \"test\")\n",
    "\n",
    "plt.legend()"
   ]
  },
  {
   "cell_type": "markdown",
   "metadata": {
    "id": "whsgNltzXDhK"
   },
   "source": [
    "# Model Evaluation"
   ]
  },
  {
   "cell_type": "markdown",
   "metadata": {
    "id": "VfcwhSNIjqIE"
   },
   "source": [
    "## Sampling from trained model"
   ]
  },
  {
   "cell_type": "code",
   "execution_count": null,
   "metadata": {
    "id": "4NWGV4Xd7bn8"
   },
   "outputs": [],
   "source": []
  },
  {
   "cell_type": "code",
   "execution_count": null,
   "metadata": {
    "id": "3z5XA4QI1Mb1"
   },
   "outputs": [],
   "source": [
    "def plot_latent_space(lat_space=\"y\"):\n",
    "    '''\n",
    "    lat_space: y, d, x\n",
    "    '''\n",
    "\n",
    "    "
   ]
  },
  {
   "cell_type": "code",
   "execution_count": null,
   "metadata": {
    "colab": {
     "base_uri": "https://localhost:8080/",
     "height": 336
    },
    "executionInfo": {
     "elapsed": 1897,
     "status": "ok",
     "timestamp": 1645556291755,
     "user": {
      "displayName": "Marko Petkovic",
      "photoUrl": "https://lh3.googleusercontent.com/a-/AOh14Gijd0e9r3I1vRZVN6DEwl16XpJxxS1oSAKunOnfZQ=s64",
      "userId": "11987583535390684770"
     },
     "user_tz": -60
    },
    "id": "USZ7nIDugT1S",
    "outputId": "174d53bb-845f-458b-ca85-9d749c9c0865"
   },
   "outputs": [
    {
     "data": {
      "text/plain": [
       "<Figure size 1440x5760 with 0 Axes>"
      ]
     },
     "metadata": {},
     "output_type": "display_data"
    },
    {
     "data": {
      "image/png": "[encoded data removed]",
      "text/plain": [
       "<Figure size 432x288 with 20 Axes>"
      ]
     },
     "metadata": {},
     "output_type": "display_data"
    }
   ],
   "source": [
    "plot(x, out, 0)"
   ]
  },
  {
   "cell_type": "code",
   "execution_count": null,
   "metadata": {
    "colab": {
     "base_uri": "https://localhost:8080/",
     "height": 230
    },
    "executionInfo": {
     "elapsed": 1646,
     "status": "ok",
     "timestamp": 1645550689935,
     "user": {
      "displayName": "Marko Petkovic",
      "photoUrl": "https://lh3.googleusercontent.com/a-/AOh14Gijd0e9r3I1vRZVN6DEwl16XpJxxS1oSAKunOnfZQ=s64",
      "userId": "11987583535390684770"
     },
     "user_tz": -60
    },
    "id": "OE3qVVFFLaPm",
    "outputId": "93953e16-3bda-464b-b765-3aedb9fbe428"
   },
   "outputs": [
    {
     "data": {
      "image/png": "[encoded data removed]",
      "text/plain": [
       "<Figure size 432x288 with 9 Axes>"
      ]
     },
     "metadata": {},
     "output_type": "display_data"
    }
   ],
   "source": [
    "fig, ax = plt.subplots(nrows=3, ncols=3)\n",
    "for i in range(9):\n",
    "  ax[i//3, i%3].imshow(x[i].cpu().permute(1,2,0))\n",
    "  \n",
    "plt.savefig('divastamporg.png')"
   ]
  },
  {
   "cell_type": "code",
   "execution_count": null,
   "metadata": {
    "id": "RRQU05xQEx28"
   },
   "outputs": [],
   "source": []
  }
 ],
 "metadata": {
  "accelerator": "GPU",
  "colab": {
   "collapsed_sections": [],
   "name": "StampVAE (Beta)",
   "provenance": []
  },
  "kernelspec": {
   "display_name": "Python 3",
   "language": "python",
   "name": "python3"
  },
  "language_info": {
   "codemirror_mode": {
    "name": "ipython",
    "version": 3
   },
   "file_extension": ".py",
   "mimetype": "text/x-python",
   "name": "python",
   "nbconvert_exporter": "python",
   "pygments_lexer": "ipython3",
   "version": "3.7.6"
  }
 },
 "nbformat": 4,
 "nbformat_minor": 1
}
