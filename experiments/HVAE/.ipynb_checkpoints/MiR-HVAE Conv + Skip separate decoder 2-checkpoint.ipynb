{
 "cells": [
  {
   "cell_type": "code",
   "execution_count": 1,
   "metadata": {
    "executionInfo": {
     "elapsed": 6,
     "status": "ok",
     "timestamp": 1647023261840,
     "user": {
      "displayName": "Marko Petkovic",
      "photoUrl": "https://lh3.googleusercontent.com/a-/AOh14Gijd0e9r3I1vRZVN6DEwl16XpJxxS1oSAKunOnfZQ=s64",
      "userId": "11987583535390684770"
     },
     "user_tz": -60
    },
    "id": "UuXEtFCubCjx"
   },
   "outputs": [],
   "source": [
    "link = 'D:/users/Marko/downloads/mirna/'"
   ]
  },
  {
   "cell_type": "markdown",
   "metadata": {
    "id": "MgMR4QspjvRl"
   },
   "source": [
    "# Imports"
   ]
  },
  {
   "cell_type": "code",
   "execution_count": 2,
   "metadata": {
    "executionInfo": {
     "elapsed": 5,
     "status": "ok",
     "timestamp": 1647023261840,
     "user": {
      "displayName": "Marko Petkovic",
      "photoUrl": "https://lh3.googleusercontent.com/a-/AOh14Gijd0e9r3I1vRZVN6DEwl16XpJxxS1oSAKunOnfZQ=s64",
      "userId": "11987583535390684770"
     },
     "user_tz": -60
    },
    "id": "aXljY6Cp4zU-"
   },
   "outputs": [],
   "source": [
    "%load_ext tensorboard"
   ]
  },
  {
   "cell_type": "code",
   "execution_count": 3,
   "metadata": {
    "colab": {
     "base_uri": "https://localhost:8080/"
    },
    "executionInfo": {
     "elapsed": 31000,
     "status": "ok",
     "timestamp": 1647023292835,
     "user": {
      "displayName": "Marko Petkovic",
      "photoUrl": "https://lh3.googleusercontent.com/a-/AOh14Gijd0e9r3I1vRZVN6DEwl16XpJxxS1oSAKunOnfZQ=s64",
      "userId": "11987583535390684770"
     },
     "user_tz": -60
    },
    "id": "VgKU5wNzDK4F",
    "outputId": "2edd95bf-9577-4772-eeca-95c5d32cf026"
   },
   "outputs": [],
   "source": [
    "import sys\n",
    "#sys.path.insert(0,'/content/drive/MyDrive/Marko/master')\n",
    "sys.path.insert(0, link)\n",
    "import numpy as np\n",
    "import matplotlib.pyplot as plt\n",
    "\n",
    "#import tensorflow as tf\n",
    "\n",
    "import torch\n",
    "import torch.optim as optim\n",
    "import torch.nn as nn\n",
    "import torch.distributions as dist\n",
    "\n",
    "from torch.nn import functional as F\n",
    "from torchinfo import summary\n",
    "from torch.utils.tensorboard import SummaryWriter\n",
    "from torch.utils.data import Dataset, DataLoader\n",
    "from torch.autograd import Variable\n",
    "\n",
    "from sklearn.preprocessing import OneHotEncoder\n",
    "\n",
    "from tqdm import tqdm\n",
    "from tqdm import trange\n",
    "\n",
    "import datetime\n",
    "import math\n",
    "\n",
    "\n",
    "writer = SummaryWriter(f\"{link}/saved_models/new/HVAE3/tensorboard\")"
   ]
  },
  {
   "cell_type": "code",
   "execution_count": 4,
   "metadata": {
    "executionInfo": {
     "elapsed": 6,
     "status": "ok",
     "timestamp": 1647023292836,
     "user": {
      "displayName": "Marko Petkovic",
      "photoUrl": "https://lh3.googleusercontent.com/a-/AOh14Gijd0e9r3I1vRZVN6DEwl16XpJxxS1oSAKunOnfZQ=s64",
      "userId": "11987583535390684770"
     },
     "user_tz": -60
    },
    "id": "HuLsYxyh6_ZM"
   },
   "outputs": [],
   "source": [
    "DEVICE = torch.device(\"cuda\" if torch.cuda.is_available() else \"cpu\")"
   ]
  },
  {
   "cell_type": "code",
   "execution_count": 5,
   "metadata": {},
   "outputs": [
    {
     "data": {
      "text/plain": [
       "device(type='cuda')"
      ]
     },
     "execution_count": 5,
     "metadata": {},
     "output_type": "execute_result"
    }
   ],
   "source": [
    "DEVICE"
   ]
  },
  {
   "cell_type": "markdown",
   "metadata": {
    "id": "axFkNf0cjx2V"
   },
   "source": [
    "# Model Classes"
   ]
  },
  {
   "cell_type": "code",
   "execution_count": 6,
   "metadata": {
    "executionInfo": {
     "elapsed": 6,
     "status": "ok",
     "timestamp": 1647023292836,
     "user": {
      "displayName": "Marko Petkovic",
      "photoUrl": "https://lh3.googleusercontent.com/a-/AOh14Gijd0e9r3I1vRZVN6DEwl16XpJxxS1oSAKunOnfZQ=s64",
      "userId": "11987583535390684770"
     },
     "user_tz": -60
    },
    "id": "ae7NZhZGj7Zi"
   },
   "outputs": [],
   "source": [
    "class diva_args:\n",
    "\n",
    "    def __init__(self, z1_dim=1000, z2_dim=1000, d_dim=45, x_dim=7500, y_dim=2,\n",
    "                 h_dim = 600, h2_dim = 600, number_components = 500,\n",
    "                 beta=1, rec_alpha = 100, rec_beta = 20, \n",
    "                 rec_gamma = 1, warmup = 1, prewarmup = 1):\n",
    "\n",
    "        self.z1_dim = z1_dim\n",
    "        self.z2_dim = z2_dim\n",
    "        self.d_dim = d_dim\n",
    "        self.x_dim = x_dim\n",
    "        self.y_dim = y_dim\n",
    "        \n",
    "        self.h_dim = h_dim\n",
    "        self.h2_dim = h2_dim\n",
    "        \n",
    "        self.number_components = number_components\n",
    "        \n",
    "        self.beta = beta\n",
    "        self.rec_alpha = rec_alpha\n",
    "        self.rec_beta = rec_beta\n",
    "        self.rec_gamma = rec_gamma\n",
    "        self.warmup = warmup\n",
    "        self.prewarmup = prewarmup\n"
   ]
  },
  {
   "cell_type": "markdown",
   "metadata": {
    "id": "tb1vH-a1j7Rf"
   },
   "source": [
    "## Dataset Class"
   ]
  },
  {
   "cell_type": "code",
   "execution_count": 7,
   "metadata": {
    "executionInfo": {
     "elapsed": 328,
     "status": "ok",
     "timestamp": 1647023293159,
     "user": {
      "displayName": "Marko Petkovic",
      "photoUrl": "https://lh3.googleusercontent.com/a-/AOh14Gijd0e9r3I1vRZVN6DEwl16XpJxxS1oSAKunOnfZQ=s64",
      "userId": "11987583535390684770"
     },
     "user_tz": -60
    },
    "id": "D6ouvuZX3WPs"
   },
   "outputs": [],
   "source": [
    "class MicroRNADataset(Dataset):\n",
    "\n",
    "    def __init__(self, ds='train', create_encodings=False, use_subset=False):\n",
    "        \n",
    "        # loading images\n",
    "        self.images = np.load(f'{link}/data/modmirbase_{ds}_images.npz')['arr_0']/255\n",
    "        \n",
    "        \n",
    "        # loading labels\n",
    "        print('Loading Labels! (~10s)')     \n",
    "        ohe = OneHotEncoder(categories='auto', sparse=False)\n",
    "        labels = np.load(f'{link}/data/modmirbase_{ds}_labels.npz')['arr_0']\n",
    "        self.labels = ohe.fit_transform(labels)\n",
    "        \n",
    "        # loading encoded images\n",
    "        print(\"loading encodings\")\n",
    "        if create_encodings:\n",
    "            x_len, x_bar, x_col = self.get_encoded_values(self.images, ds)\n",
    "        else:\n",
    "            x_len = np.load(f'{link}/data/modmirbase_{ds}_images_len3.npz')\n",
    "            x_bar = np.load(f'{link}/data/modmirbase_{ds}_images_bar3.npz')\n",
    "            x_col = np.load(f'{link}/data/modmirbase_{ds}_images_col3.npz')\n",
    "        \n",
    "        self.x_len = x_len\n",
    "        self.x_bar = x_bar\n",
    "        self.x_col = x_col\n",
    "        \n",
    "        \n",
    "        self.mountain = np.load(f'{link}/data/modmirbase_{ds}_mountain.npy')\n",
    "        \n",
    "        \n",
    "        # loading names\n",
    "        print('Loading Names! (~5s)')\n",
    "        names =  np.load(f'{link}/data/modmirbase_{ds}_names.npz')['arr_0']\n",
    "        names = [i.decode('utf-8') for i in names]\n",
    "        self.species = ['mmu', 'prd', 'hsa', 'ptr', 'efu', 'cbn', 'gma', 'pma',\n",
    "                        'cel', 'gga', 'ipu', 'ptc', 'mdo', 'cgr', 'bta', 'cin', \n",
    "                        'ppy', 'ssc', 'ath', 'cfa', 'osa', 'mtr', 'gra', 'mml',\n",
    "                        'stu', 'bdi', 'rno', 'oan', 'dre', 'aca', 'eca', 'chi',\n",
    "                        'bmo', 'ggo', 'aly', 'dps', 'mdm', 'ame', 'ppc', 'ssa',\n",
    "                        'ppt', 'tca', 'dme', 'sbi']\n",
    "        # assigning a species label to each observation from species\n",
    "        # with more than 200 observations from past research\n",
    "        self.names = []\n",
    "        for i in names:\n",
    "            append = False\n",
    "            for j in self.species:\n",
    "                if j in i.lower():\n",
    "                    self.names.append(j)\n",
    "                    append = True\n",
    "                    break\n",
    "            if not append:\n",
    "                if 'random' in i.lower() or i.isdigit():\n",
    "                    self.names.append('hsa')\n",
    "                else:\n",
    "                    self.names.append('notfound')\n",
    "        \n",
    "        # performing one hot encoding\n",
    "        ohe = OneHotEncoder(categories='auto', sparse=False)\n",
    "        \n",
    "       \n",
    "        \n",
    "        self.names_ohe = ohe.fit_transform(np.array(self.names).reshape(-1,1))\n",
    "          \n",
    "        if use_subset:    \n",
    "            idxes = [i == 'hsa' and np.random.choice([True, False]) for i in self.names]\n",
    "            self.names_ohe = self.names_ohe[idxes]\n",
    "            self.labels = self.labels[idxes]\n",
    "            self.images = self.images[idxes]\n",
    "            self.x_len = self.x_len[idxes]\n",
    "            self.x_col = self.x_col[idxes]\n",
    "            self.x_bar = self.x_bar[idxes]\n",
    "            self.mountain = self.mountain[idxes]\n",
    "    \n",
    "    def __len__(self):\n",
    "        return(self.images.shape[0])\n",
    "\n",
    "    def __getitem__(self, idx):\n",
    "        d = self.names_ohe[idx]\n",
    "        y = self.labels[idx]\n",
    "        x = self.images[idx]\n",
    "        x = np.transpose(x, (2,0,1))\n",
    "        x_len = self.x_len[idx]\n",
    "        x_col = self.x_col[idx]\n",
    "        x_bar = self.x_bar[idx]\n",
    "        mount = self.mountain[idx]                        \n",
    "        return (x, y, d, x_len, x_col, x_bar, mount)\n",
    "\n",
    "\n",
    "    def get_encoded_values(self, x, ds):\n",
    "        \"\"\"\n",
    "        given an image or batch of images\n",
    "        returns length of strand, length of bars and colors of bars\n",
    "        \"\"\"\n",
    "        n = x.shape[0]\n",
    "        x = np.transpose(x, (0,3,1,2))\n",
    "        out_len = np.zeros((n), dtype=np.uint8)\n",
    "        out_col = np.zeros((n,5,2,100), dtype=np.uint8)\n",
    "        out_bar = np.zeros((n,2,100), dtype=np.uint8)\n",
    "\n",
    "        for i in range(n):\n",
    "            if i % 100 == 0:\n",
    "                print(f'at {i} out of {n}')\n",
    "            rna_len = 0\n",
    "            broke = False\n",
    "            for j in range(100):\n",
    "                if (x[i,:,12,j] == np.array([1,1,1])).all():\n",
    "                    out_len[i] = rna_len\n",
    "                    broke = True\n",
    "                    break\n",
    "                else:\n",
    "                    rna_len += 1\n",
    "                    # check color of bars\n",
    "                    out_col[i, self.get_color(x[i,:,12,j]), 0, j] = 1 \n",
    "                    out_col[i, self.get_color(x[i,:,13,j]), 1, j] = 1\n",
    "                    # check length of bars\n",
    "                    len1 = 0\n",
    "                    # loop until white pixel\n",
    "                    while not (x[i,:,12-len1,j] == np.array([1.,1.,1.])).all():\n",
    "                        len1 += 1\n",
    "                        if 13-len1 == 0:\n",
    "                            break\n",
    "                    out_bar[i, 0, j] = len1\n",
    "\n",
    "                    len2 = 0\n",
    "                    while not (x[i,:,13+len2,j] == np.array([1.,1.,1.])).all():\n",
    "                        len2 += 1\n",
    "                        if 13+len2 == 25:\n",
    "                            break\n",
    "                    out_bar[i, 1, j] = len2\n",
    "            if not broke:\n",
    "                out_len[i] = rna_len\n",
    "\n",
    "\n",
    "        with open(f'{link}/data/modmirbase_{ds}_images_len3.npz', 'wb') as f:\n",
    "            np.save(f, out_len)\n",
    "        with open(f'{link}/data/modmirbase_{ds}_images_col3.npz', 'wb') as f:\n",
    "            np.save(f, out_col)\n",
    "        with open(f'{link}/data/modmirbase_{ds}_images_bar3.npz', 'wb') as f:\n",
    "            np.save(f, out_bar)\n",
    "        \n",
    "\n",
    "        return out_len, out_bar, out_col\n",
    "\n",
    "    def get_color(self, pixel):\n",
    "        \"\"\"\n",
    "        returns the encoded value for a pixel\n",
    "        \"\"\"\n",
    "        if (pixel == np.array([0,0,0])).all():  \n",
    "            return 0 # black\n",
    "        elif (pixel == np.array([1,0,0])).all():  \n",
    "            return 1 # red\n",
    "        elif (pixel == np.array([0,0,1])).all():  \n",
    "            return 2 # blue\n",
    "        elif (pixel == np.array([0,1,0])).all():  \n",
    "            return 3 # green\n",
    "        elif (pixel == np.array([1,1,0])).all():  \n",
    "            return 4 # yellow\n",
    "        else:\n",
    "            print(\"Something wrong!\")\n"
   ]
  },
  {
   "cell_type": "markdown",
   "metadata": {
    "id": "Xxj-WGXMj-Ne"
   },
   "source": [
    "## Decoder classes"
   ]
  },
  {
   "cell_type": "code",
   "execution_count": 8,
   "metadata": {
    "executionInfo": {
     "elapsed": 5,
     "status": "ok",
     "timestamp": 1647023293160,
     "user": {
      "displayName": "Marko Petkovic",
      "photoUrl": "https://lh3.googleusercontent.com/a-/AOh14Gijd0e9r3I1vRZVN6DEwl16XpJxxS1oSAKunOnfZQ=s64",
      "userId": "11987583535390684770"
     },
     "user_tz": -60
    },
    "id": "RKizJuchX9uG"
   },
   "outputs": [],
   "source": [
    "# Decoders\n",
    "class px(nn.Module):\n",
    "    def __init__(self, d_dim, x_dim, y_dim, z1_dim, z2_dim, \n",
    "                 h_dim, h2_dim, dim0=2000, dim1=1200, dim2=400):\n",
    "        super(px, self).__init__()\n",
    "\n",
    "        \n",
    "        # p(z1|z2)\n",
    "        \n",
    "        self.p_z1 = nn.Sequential(nn.Linear(z2_dim+200, h2_dim),\n",
    "                                  nn.ReLU(),\n",
    "                                  nn.Linear(h2_dim, h2_dim),\n",
    "                                  nn.ReLU())\n",
    "        self.mu_z1 = nn.Sequential(nn.Linear(h2_dim, z1_dim))\n",
    "        self.si_z1 = nn.Sequential(nn.Linear(h2_dim, z1_dim), nn.Softplus())\n",
    "        \n",
    "        \n",
    "        # p(x|z1,z2,m)\n",
    "        \n",
    "        self.px_z1 = nn.Sequential(nn.Linear(z1_dim, h_dim),\n",
    "                                   nn.ReLU())\n",
    "        self.px_z2 = nn.Sequential(nn.Linear(z2_dim+200, h_dim),\n",
    "                                   nn.ReLU())\n",
    "        # seperate decoders for length of RNA, color and size of bars\n",
    "        self.fc_col = nn.Sequential(nn.Linear(2*h_dim, 600),\n",
    "                                    nn.ReLU())\n",
    "        self.dc_col1 = nn.Sequential(nn.ConvTranspose2d(in_channels=12, out_channels=36, \n",
    "                                                       kernel_size=4, stride=(2,2), padding=(1,1)),  \n",
    "                                     nn.ReLU())\n",
    "        self.dc_col2 = nn.Sequential(nn.ConvTranspose2d(in_channels=36, out_channels=36,\n",
    "                                                       kernel_size=3, stride=(1,1), padding=(1,1)),\n",
    "                                     nn.ReLU())\n",
    "        self.dc_col3 = nn.Sequential(nn.ConvTranspose2d(in_channels=36, out_channels=72,\n",
    "                                                        kernel_size=3, stride=(1,1), padding=(1,1)),\n",
    "                                     nn.ReLU())\n",
    "        self.dc_col4 = nn.Sequential(nn.ConvTranspose2d(in_channels=72, out_channels=72,\n",
    "                                                        kernel_size=3, stride=(1,1), padding=(1,1)),\n",
    "                                     nn.ReLU())\n",
    "        self.dc_col5 = nn.Sequential(nn.ConvTranspose2d(in_channels=72, out_channels=5,\n",
    "                                                        kernel_size=3, stride=(1,1), padding=(1,1)),\n",
    "                                     nn.ReLU(),\n",
    "                                     nn.Conv2d(in_channels=5, out_channels=5, kernel_size=1, stride=1, padding=0),\n",
    "                                     nn.Softmax(dim=1))\n",
    "        \n",
    "        self.fc_bar = nn.Sequential(nn.Linear(2*h_dim, dim1),  \n",
    "                                    nn.ReLU(),\n",
    "                                    nn.Linear(dim1, dim2),\n",
    "                                    nn.ReLU(),\n",
    "                                    nn.Dropout(0.2))\n",
    "        \n",
    "        self.fc_len = nn.Sequential(nn.Linear(2*h_dim, dim1),  \n",
    "                                    nn.ReLU(),\n",
    "                                    nn.Linear(dim1, dim2),\n",
    "                                    nn.ReLU(),\n",
    "                                    nn.Dropout(0.2))\n",
    "#         self.fc3 = nn.Sequential(nn.Linear(dim1, dim2, bias=False),\n",
    "#                                  nn.ReLU())\n",
    "        \n",
    "        # Predicting length and color of each bar\n",
    "        #self.color = nn.Sequential(nn.Conv1d(1,5, kernel_size=1, bias=False), \n",
    "                                  # nn.Softmax(dim=1))\n",
    "\n",
    "        \n",
    "        # Predicting the length of each bar\n",
    "        self.length_bar_top = nn.Sequential(nn.Linear(dim2,100), nn.Softplus())\n",
    "        self.length_bar_bot = nn.Sequential(nn.Linear(dim2,100), nn.Softplus())\n",
    "        #self.length_bar_scale = nn.Sequential(nn.Conv1d(100, 1, kernel_size = 3, padding = 'same', bias=False), nn.Sigmoid())\n",
    "        \n",
    "        # Predicting length of the RNA strand\n",
    "        self.length_RNA = nn.Sequential(nn.Linear(dim2,400), nn.ReLU(),nn.Linear(400,1), nn.Softplus())\n",
    "        #self.length_RNA_scale = nn.Sequential(nn.Linear(400,1, bias=False), nn.Sigmoid())\n",
    "        \n",
    "    def forward(self, z1, mz2):\n",
    "        \n",
    "        # p(z1|z2)\n",
    "        pz1 = self.p_z1(mz2)\n",
    "        pz1_m = self.mu_z1(pz1)\n",
    "        pz1_s = self.si_z1(pz1)\n",
    "        \n",
    "        # p(x|z1,z2,m)\n",
    "        hz1 = self.px_z1(z1)\n",
    "        hz2 = self.px_z2(mz2)\n",
    "        h = torch.cat([hz1,hz2],1)\n",
    "        \n",
    "        len_RNA = self.fc_len(h)\n",
    "        len_RNA = self.length_RNA(len_RNA)\n",
    "        len_RNA_sc = nn.Parameter(torch.tensor([1.])).to(DEVICE)\n",
    "\n",
    "        \n",
    "        len_bar = self.fc_bar(h)\n",
    "        len_bar = torch.cat([self.length_bar_top(len_bar)[:,None,:],self.length_bar_bot(len_bar)[:,None,:]], dim=1) \n",
    "        len_bar_sc = nn.Parameter(torch.tensor([1.])).to(DEVICE)\n",
    "\n",
    "        col = self.fc_col(h)\n",
    "        col = col.reshape(-1,12,1,50)\n",
    "        col1 = self.dc_col1(col)\n",
    "        col2 = self.dc_col2(col1) + col1\n",
    "        col3 = self.dc_col3(col2)\n",
    "        col4 = self.dc_col4(col3) + col3\n",
    "        col_bar = self.dc_col5(col4)\n",
    "        \n",
    "        \n",
    "        return len_RNA, len_RNA_sc, len_bar, len_bar_sc, col_bar, pz1_m, pz1_s\n",
    "\n",
    "    def reconstruct_image(self, len_RNA, var_RNA, len_bar, var_bar ,col_bar, sample=False):\n",
    "        \"\"\"\n",
    "        reconstructs RNA image given output from decoder\n",
    "        even indexes of len_bar and col_bar   -> top\n",
    "        uneven indexes of len_bar and col_bar -> bottom\n",
    "        function does not support sampling yet\n",
    "        color reconstructions: 0: black\n",
    "                               1: red\n",
    "                               2: blue\n",
    "                               3: green\n",
    "                               4: yellow\n",
    "        \"\"\"\n",
    "        color_dict = {\n",
    "                  0: np.array([0,0,0]), # black\n",
    "                  1: np.array([1,0,0]), # red\n",
    "                  3: np.array([0,1,0]), # green\n",
    "                  2: np.array([0,0,1]), # blue\n",
    "                  4: np.array([1,1,0])  # yellow\n",
    "                  }\n",
    "    \n",
    "        \n",
    "        len_RNA = len_RNA.cpu().numpy()\n",
    "        var_RNA = var_RNA.cpu().numpy()\n",
    "        #.reshape((100,))\n",
    "        len_bar = len_bar.cpu().numpy()\n",
    "        var_bar = var_bar.cpu().numpy()\n",
    "        col_bar = col_bar.cpu().numpy()\n",
    "        n = len_RNA.shape[0]\n",
    "        output = np.ones((n,25,100,3))\n",
    "\n",
    "        for i in range(n):\n",
    "            if sample:\n",
    "                limit = int(np.round(np.random.normal(loc=len_RNA[i], scale=var_RNA[i])))\n",
    "            else:\n",
    "                limit = int(np.round(len_RNA[i]))\n",
    "            limit = min(100, limit)\n",
    "            for j in range(limit):\n",
    "                if sample:\n",
    "                    _len_bar_1 = int(np.round(np.random.normal(loc=len_bar[i,0,j], scale=var_bar[i,0,j])))\n",
    "                    _len_bar_2 = int(np.round(np.random.normal(loc=len_bar[i,1,j], scale=var_bar[i,1,j])))\n",
    "                    _col_bar_1 = np.random.choice(np.arange(5), p = col_bar[i, :, 2*j])\n",
    "                    _col_bar_2 = np.random.choice(np.arange(5), p = col_bar[i,:, 2*j+1])\n",
    "                else:\n",
    "                    _len_bar_1 = int(np.round(len_bar[i,0,j])) \n",
    "                    _len_bar_2 = int(np.round(len_bar[i,1,j]))\n",
    "                    _col_bar_1 = np.argmax(col_bar[i,:,0,j])\n",
    "                    _col_bar_2 = np.argmax(col_bar[i,:,1,j])\n",
    "                \n",
    "                h1 = max(0,13-_len_bar_1)\n",
    "                # paint upper bar\n",
    "                output[i, h1:13, j] = color_dict[_col_bar_1]\n",
    "                h2 = min(25,13+_len_bar_2)\n",
    "                # paint lower bar\n",
    "                output[i, 13:h2, j] = color_dict[_col_bar_2]\n",
    "        \n",
    "        \n",
    "        return output\n"
   ]
  },
  {
   "cell_type": "code",
   "execution_count": 9,
   "metadata": {},
   "outputs": [
    {
     "data": {
      "text/plain": [
       "3"
      ]
     },
     "execution_count": 9,
     "metadata": {},
     "output_type": "execute_result"
    }
   ],
   "source": [
    "int(np.round(3.7, 0))\n",
    "int(3.7)"
   ]
  },
  {
   "cell_type": "code",
   "execution_count": 10,
   "metadata": {
    "executionInfo": {
     "elapsed": 4,
     "status": "ok",
     "timestamp": 1647023293160,
     "user": {
      "displayName": "Marko Petkovic",
      "photoUrl": "https://lh3.googleusercontent.com/a-/AOh14Gijd0e9r3I1vRZVN6DEwl16XpJxxS1oSAKunOnfZQ=s64",
      "userId": "11987583535390684770"
     },
     "user_tz": -60
    },
    "id": "1y8G2S1zxzTH"
   },
   "outputs": [
    {
     "data": {
      "text/plain": [
       "==========================================================================================\n",
       "Layer (type:depth-idx)                   Output Shape              Param #\n",
       "==========================================================================================\n",
       "px                                       --                        --\n",
       "├─Sequential: 1-1                        [1, 500]                  --\n",
       "│    └─Linear: 2-1                       [1, 500]                  350,500\n",
       "│    └─ReLU: 2-2                         [1, 500]                  --\n",
       "│    └─Linear: 2-3                       [1, 500]                  250,500\n",
       "│    └─ReLU: 2-4                         [1, 500]                  --\n",
       "├─Sequential: 1-2                        [1, 500]                  --\n",
       "│    └─Linear: 2-5                       [1, 500]                  250,500\n",
       "├─Sequential: 1-3                        [1, 500]                  --\n",
       "│    └─Linear: 2-6                       [1, 500]                  250,500\n",
       "│    └─Softplus: 2-7                     [1, 500]                  --\n",
       "├─Sequential: 1-4                        [1, 500]                  --\n",
       "│    └─Linear: 2-8                       [1, 500]                  250,500\n",
       "│    └─ReLU: 2-9                         [1, 500]                  --\n",
       "├─Sequential: 1-5                        [1, 500]                  --\n",
       "│    └─Linear: 2-10                      [1, 500]                  350,500\n",
       "│    └─ReLU: 2-11                        [1, 500]                  --\n",
       "├─Sequential: 1-6                        [1, 400]                  --\n",
       "│    └─Linear: 2-12                      [1, 1200]                 1,201,200\n",
       "│    └─ReLU: 2-13                        [1, 1200]                 --\n",
       "│    └─Linear: 2-14                      [1, 400]                  480,400\n",
       "│    └─ReLU: 2-15                        [1, 400]                  --\n",
       "│    └─Dropout: 2-16                     [1, 400]                  --\n",
       "├─Sequential: 1-7                        [1, 1]                    --\n",
       "│    └─Linear: 2-17                      [1, 400]                  160,400\n",
       "│    └─ReLU: 2-18                        [1, 400]                  --\n",
       "│    └─Linear: 2-19                      [1, 1]                    401\n",
       "│    └─Softplus: 2-20                    [1, 1]                    --\n",
       "├─Sequential: 1-8                        [1, 400]                  --\n",
       "│    └─Linear: 2-21                      [1, 1200]                 1,201,200\n",
       "│    └─ReLU: 2-22                        [1, 1200]                 --\n",
       "│    └─Linear: 2-23                      [1, 400]                  480,400\n",
       "│    └─ReLU: 2-24                        [1, 400]                  --\n",
       "│    └─Dropout: 2-25                     [1, 400]                  --\n",
       "├─Sequential: 1-9                        [1, 100]                  --\n",
       "│    └─Linear: 2-26                      [1, 100]                  40,100\n",
       "│    └─Softplus: 2-27                    [1, 100]                  --\n",
       "├─Sequential: 1-10                       [1, 100]                  --\n",
       "│    └─Linear: 2-28                      [1, 100]                  40,100\n",
       "│    └─Softplus: 2-29                    [1, 100]                  --\n",
       "├─Sequential: 1-11                       [1, 600]                  --\n",
       "│    └─Linear: 2-30                      [1, 600]                  600,600\n",
       "│    └─ReLU: 2-31                        [1, 600]                  --\n",
       "├─Sequential: 1-12                       [1, 36, 2, 100]           --\n",
       "│    └─ConvTranspose2d: 2-32             [1, 36, 2, 100]           6,948\n",
       "│    └─ReLU: 2-33                        [1, 36, 2, 100]           --\n",
       "├─Sequential: 1-13                       [1, 36, 2, 100]           --\n",
       "│    └─ConvTranspose2d: 2-34             [1, 36, 2, 100]           11,700\n",
       "│    └─ReLU: 2-35                        [1, 36, 2, 100]           --\n",
       "├─Sequential: 1-14                       [1, 72, 2, 100]           --\n",
       "│    └─ConvTranspose2d: 2-36             [1, 72, 2, 100]           23,400\n",
       "│    └─ReLU: 2-37                        [1, 72, 2, 100]           --\n",
       "├─Sequential: 1-15                       [1, 72, 2, 100]           --\n",
       "│    └─ConvTranspose2d: 2-38             [1, 72, 2, 100]           46,728\n",
       "│    └─ReLU: 2-39                        [1, 72, 2, 100]           --\n",
       "├─Sequential: 1-16                       [1, 5, 2, 100]            --\n",
       "│    └─ConvTranspose2d: 2-40             [1, 5, 2, 100]            3,245\n",
       "│    └─ReLU: 2-41                        [1, 5, 2, 100]            --\n",
       "│    └─Conv2d: 2-42                      [1, 5, 2, 100]            30\n",
       "│    └─Softmax: 2-43                     [1, 5, 2, 100]            --\n",
       "==========================================================================================\n",
       "Total params: 5,999,852\n",
       "Trainable params: 5,999,852\n",
       "Non-trainable params: 0\n",
       "Total mult-adds (M): 24.32\n",
       "==========================================================================================\n",
       "Input size (MB): 0.00\n",
       "Forward/backward pass size (MB): 0.42\n",
       "Params size (MB): 24.00\n",
       "Estimated Total Size (MB): 24.43\n",
       "=========================================================================================="
      ]
     },
     "execution_count": 10,
     "metadata": {},
     "output_type": "execute_result"
    }
   ],
   "source": [
    "# pzy_ = pzy(45, 7500, 2, 32,32,32)\n",
    "# summary(pzy_, (1,2))\n",
    "pzy_ = px(45, 7500, 2, 500,500,500,500)\n",
    "summary(pzy_, [(1,500),(1,700)])"
   ]
  },
  {
   "cell_type": "markdown",
   "metadata": {
    "id": "YmNnZWXvkCDP"
   },
   "source": [
    "## Endcoder Classes"
   ]
  },
  {
   "cell_type": "code",
   "execution_count": 11,
   "metadata": {
    "executionInfo": {
     "elapsed": 5,
     "status": "ok",
     "timestamp": 1647013220008,
     "user": {
      "displayName": "Marko Petkovic",
      "photoUrl": "https://lh3.googleusercontent.com/a-/AOh14Gijd0e9r3I1vRZVN6DEwl16XpJxxS1oSAKunOnfZQ=s64",
      "userId": "11987583535390684770"
     },
     "user_tz": -60
    },
    "id": "tt82wvITwg4j"
   },
   "outputs": [],
   "source": [
    "#pzy_.reconstruct_image(torch.zeros((1,100)), torch.zeros((1,13,200)), torch.zeros(1,5,200)).shape"
   ]
  },
  {
   "cell_type": "code",
   "execution_count": 12,
   "metadata": {
    "executionInfo": {
     "elapsed": 313,
     "status": "ok",
     "timestamp": 1647023293469,
     "user": {
      "displayName": "Marko Petkovic",
      "photoUrl": "https://lh3.googleusercontent.com/a-/AOh14Gijd0e9r3I1vRZVN6DEwl16XpJxxS1oSAKunOnfZQ=s64",
      "userId": "11987583535390684770"
     },
     "user_tz": -60
    },
    "id": "78ZFH8gYl_-z"
   },
   "outputs": [],
   "source": [
    "class qz(nn.Module):\n",
    "    def __init__(self, d_dim, x_dim, y_dim, z1_dim ,z2_dim, h_dim, h2_dim):\n",
    "        super(qz, self).__init__()\n",
    "\n",
    "        # q(z2 | x)\n",
    "        self.encoder_z2 = nn.Sequential(\n",
    "            nn.Conv2d(3, 32, kernel_size=3, stride=1, padding = 'valid',bias=False),\n",
    "            nn.ReLU(),\n",
    "            nn.Conv2d(32, 64, kernel_size=3, stride=1, padding = 'valid',bias=False),\n",
    "            nn.ReLU(),\n",
    "            nn.MaxPool2d(2, 2),\n",
    "            nn.Conv2d(64, 128, kernel_size=3, stride=1, padding = 'valid', bias=False),\n",
    "            nn.ReLU(), \n",
    "#             nn.Conv2d(128, 128, kernel_size=3, stride=1, padding = 'same', bias=False),\n",
    "#             nn.ReLU(), \n",
    "            nn.MaxPool2d(2, 2),\n",
    "            nn.Conv2d(128, 256, kernel_size=3, stride=1, bias=False),\n",
    "            nn.ReLU(), \n",
    "            nn.MaxPool2d(2, 2),\n",
    "        )\n",
    "        \n",
    "        self.mu_z2 = nn.Sequential(nn.Linear(2560, z2_dim))\n",
    "        self.si_z2 = nn.Sequential(nn.Linear(2560, z2_dim), nn.Softplus())\n",
    "        \n",
    "        \n",
    "        # q(z1 | x, z2)\n",
    "        self.encoder_z1 = nn.Sequential(\n",
    "            nn.Conv2d(3, 32, kernel_size=3, stride=1, padding = 'valid',bias=False),\n",
    "            nn.ReLU(),\n",
    "            nn.Conv2d(32, 64, kernel_size=3, stride=1, padding = 'valid',bias=False),\n",
    "            nn.ReLU(),\n",
    "            nn.MaxPool2d(2, 2),\n",
    "            nn.Conv2d(64, 128, kernel_size=3, stride=1, padding = 'valid', bias=False),\n",
    "            nn.ReLU(), \n",
    "#             nn.Conv2d(128, 128, kernel_size=3, stride=1, padding = 'same', bias=False),\n",
    "#             nn.ReLU(), \n",
    "            nn.MaxPool2d(2, 2),\n",
    "            nn.Conv2d(128, 256, kernel_size=3, stride=1, bias=False),\n",
    "            nn.ReLU(), \n",
    "            nn.MaxPool2d(2, 2),\n",
    "        )\n",
    "        \n",
    "        self.fc_z2 = nn.Sequential(nn.Linear(z2_dim+200, h_dim), nn.ReLU())\n",
    "        self.fc_z1 = nn.Sequential(nn.Linear(2560, h_dim), nn.ReLU())\n",
    "        \n",
    "        self.fc_z1_z2 = nn.Sequential(nn.Linear(2*h_dim, h2_dim), nn.ReLU())\n",
    "        \n",
    "        self.mu_z1 = nn.Sequential(nn.Linear(h2_dim, z1_dim))\n",
    "        self.si_z1 = nn.Sequential(nn.Linear(h2_dim, z1_dim), nn.Softplus())\n",
    "\n",
    "#         torch.nn.init.xavier_uniform_(self.encoder[0].weight)\n",
    "#         torch.nn.init.xavier_uniform_(self.encoder[3].weight)\n",
    "#         torch.nn.init.xavier_uniform_(self.fc11[0].weight)\n",
    "#         self.fc11[0].bias.data.zero_()\n",
    "#         torch.nn.init.xavier_uniform_(self.fc12[0].weight)\n",
    "#         self.fc12[0].bias.data.zero_()\n",
    "    \n",
    "    def q_z2(self, x):\n",
    "        z2 = self.encoder_z2(x)\n",
    "        z2 = z2.view(-1, 2560)\n",
    "        z2_m = self.mu_z2(z2) \n",
    "        z2_s = self.si_z2(z2)\n",
    "        \n",
    "        return z2_m, z2_s\n",
    "    \n",
    "    def forward(self, x, m):\n",
    "        \n",
    "        # q(z2 | x) & m\n",
    "        z2_m, z2_s = self.q_z2(x)\n",
    "        # reparameterization trick\n",
    "        qz2 = dist.Normal(z2_m, z2_s)\n",
    "        z2 = qz2.rsample()\n",
    "        # z2 & m\n",
    "        mz2 = torch.cat([z2, m],1)\n",
    "        \n",
    "        \n",
    "        \n",
    "        # q(z1 | x, z2, m)\n",
    "        z1 = self.encoder_z1(x)\n",
    "        z1 = z1.view(-1, 2560)\n",
    "        z1 = self.fc_z1(z1)\n",
    "        \n",
    "        mz2_ = self.fc_z2(mz2)\n",
    "        \n",
    "        z1 = torch.cat([mz2_, z1],1)\n",
    "        z1 = self.fc_z1_z2(z1)\n",
    "        z1_m = self.mu_z1(z1)\n",
    "        z1_s = self.si_z1(z1)\n",
    "        \n",
    "        qz1 = dist.Normal(z1_m, z1_s)\n",
    "        z1 = qz1.rsample()\n",
    "        \n",
    "        \n",
    "        #z_loc = self.fc11(h)\n",
    "        #z_scale = self.fc12(h) + 1e-7\n",
    "\n",
    "        return z1, z2, mz2, z1_m, z1_s, z2_m, z2_s\n",
    "\n",
    "\n"
   ]
  },
  {
   "cell_type": "code",
   "execution_count": 13,
   "metadata": {},
   "outputs": [
    {
     "data": {
      "text/plain": [
       "tensor([[1, 2, 3, 1, 3],\n",
       "        [4, 5, 6, 4, 6]])"
      ]
     },
     "execution_count": 13,
     "metadata": {},
     "output_type": "execute_result"
    }
   ],
   "source": [
    "a = torch.tensor([[1,2,3],[4,5,6]])\n",
    "b = torch.tensor([[1,3],[4,6]])\n",
    "\n",
    "torch.cat([a,b],1)"
   ]
  },
  {
   "cell_type": "code",
   "execution_count": 14,
   "metadata": {},
   "outputs": [
    {
     "data": {
      "text/plain": [
       "==========================================================================================\n",
       "Layer (type:depth-idx)                   Output Shape              Param #\n",
       "==========================================================================================\n",
       "qz                                       --                        --\n",
       "├─Sequential: 1-1                        [1, 256, 1, 10]           --\n",
       "│    └─Conv2d: 2-1                       [1, 32, 23, 98]           864\n",
       "│    └─ReLU: 2-2                         [1, 32, 23, 98]           --\n",
       "│    └─Conv2d: 2-3                       [1, 64, 21, 96]           18,432\n",
       "│    └─ReLU: 2-4                         [1, 64, 21, 96]           --\n",
       "│    └─MaxPool2d: 2-5                    [1, 64, 10, 48]           --\n",
       "│    └─Conv2d: 2-6                       [1, 128, 8, 46]           73,728\n",
       "│    └─ReLU: 2-7                         [1, 128, 8, 46]           --\n",
       "│    └─MaxPool2d: 2-8                    [1, 128, 4, 23]           --\n",
       "│    └─Conv2d: 2-9                       [1, 256, 2, 21]           294,912\n",
       "│    └─ReLU: 2-10                        [1, 256, 2, 21]           --\n",
       "│    └─MaxPool2d: 2-11                   [1, 256, 1, 10]           --\n",
       "├─Sequential: 1-2                        [1, 500]                  --\n",
       "│    └─Linear: 2-12                      [1, 500]                  1,280,500\n",
       "├─Sequential: 1-3                        [1, 500]                  --\n",
       "│    └─Linear: 2-13                      [1, 500]                  1,280,500\n",
       "│    └─Softplus: 2-14                    [1, 500]                  --\n",
       "├─Sequential: 1-4                        [1, 256, 1, 10]           --\n",
       "│    └─Conv2d: 2-15                      [1, 32, 23, 98]           864\n",
       "│    └─ReLU: 2-16                        [1, 32, 23, 98]           --\n",
       "│    └─Conv2d: 2-17                      [1, 64, 21, 96]           18,432\n",
       "│    └─ReLU: 2-18                        [1, 64, 21, 96]           --\n",
       "│    └─MaxPool2d: 2-19                   [1, 64, 10, 48]           --\n",
       "│    └─Conv2d: 2-20                      [1, 128, 8, 46]           73,728\n",
       "│    └─ReLU: 2-21                        [1, 128, 8, 46]           --\n",
       "│    └─MaxPool2d: 2-22                   [1, 128, 4, 23]           --\n",
       "│    └─Conv2d: 2-23                      [1, 256, 2, 21]           294,912\n",
       "│    └─ReLU: 2-24                        [1, 256, 2, 21]           --\n",
       "│    └─MaxPool2d: 2-25                   [1, 256, 1, 10]           --\n",
       "├─Sequential: 1-5                        [1, 400]                  --\n",
       "│    └─Linear: 2-26                      [1, 400]                  1,024,400\n",
       "│    └─ReLU: 2-27                        [1, 400]                  --\n",
       "├─Sequential: 1-6                        [1, 400]                  --\n",
       "│    └─Linear: 2-28                      [1, 400]                  280,400\n",
       "│    └─ReLU: 2-29                        [1, 400]                  --\n",
       "├─Sequential: 1-7                        [1, 400]                  --\n",
       "│    └─Linear: 2-30                      [1, 400]                  320,400\n",
       "│    └─ReLU: 2-31                        [1, 400]                  --\n",
       "├─Sequential: 1-8                        [1, 10]                   --\n",
       "│    └─Linear: 2-32                      [1, 10]                   4,010\n",
       "├─Sequential: 1-9                        [1, 10]                   --\n",
       "│    └─Linear: 2-33                      [1, 10]                   4,010\n",
       "│    └─Softplus: 2-34                    [1, 10]                   --\n",
       "==========================================================================================\n",
       "Total params: 4,970,092\n",
       "Trainable params: 4,970,092\n",
       "Non-trainable params: 0\n",
       "Total mult-adds (M): 161.44\n",
       "==========================================================================================\n",
       "Input size (MB): 0.03\n",
       "Forward/backward pass size (MB): 4.16\n",
       "Params size (MB): 19.88\n",
       "Estimated Total Size (MB): 24.07\n",
       "=========================================================================================="
      ]
     },
     "execution_count": 14,
     "metadata": {},
     "output_type": "execute_result"
    }
   ],
   "source": [
    "enc = qz(128,10,10,10,500,400,400)\n",
    "enc(torch.zeros((1,3,25,100)), torch.zeros((1,200)))\n",
    "summary(enc, [(1,3,25,100),(1,200)])"
   ]
  },
  {
   "cell_type": "code",
   "execution_count": 15,
   "metadata": {},
   "outputs": [],
   "source": [
    "def log_Normal_diag(x, mean, std, average=False, dim=None):\n",
    "    log_var = 2*torch.log(std)\n",
    "    log_normal = -0.5 * ( log_var + torch.pow( x - mean, 2 ) / torch.exp( log_var ) )\n",
    "    if average:\n",
    "        return torch.mean( log_normal, dim )\n",
    "    else:\n",
    "        return torch.sum( log_normal, dim )"
   ]
  },
  {
   "cell_type": "markdown",
   "metadata": {
    "id": "vn_gJdNSkH_V"
   },
   "source": [
    "## Full model class"
   ]
  },
  {
   "cell_type": "code",
   "execution_count": 16,
   "metadata": {
    "executionInfo": {
     "elapsed": 10,
     "status": "ok",
     "timestamp": 1647023293470,
     "user": {
      "displayName": "Marko Petkovic",
      "photoUrl": "https://lh3.googleusercontent.com/a-/AOh14Gijd0e9r3I1vRZVN6DEwl16XpJxxS1oSAKunOnfZQ=s64",
      "userId": "11987583535390684770"
     },
     "user_tz": -60
    },
    "id": "BgR5BnQN1WWG"
   },
   "outputs": [],
   "source": [
    "class HVAE(nn.Module):\n",
    "    def __init__(self, args):\n",
    "        super(HVAE, self).__init__()\n",
    "        self.z1_dim = args.z1_dim\n",
    "        self.z2_dim = args.z2_dim\n",
    "        self.d_dim = args.d_dim\n",
    "        self.x_dim = args.x_dim\n",
    "        self.y_dim = args.y_dim\n",
    "        self.h_dim = args.h_dim\n",
    "        self.h2_dim = args.h2_dim\n",
    "        self.number_components = args.number_components\n",
    "        \n",
    "        #d_dim, x_dim, y_dim, z1_dim ,z2_dim, h_dim, h2_dim\n",
    "        self.px = px(self.d_dim, self.x_dim, self.y_dim, self.z1_dim, self.z2_dim, \n",
    "                     self.h_dim, self.h2_dim)\n",
    "        \n",
    "        self.qz = qz(self.d_dim, self.x_dim, self.y_dim, self.z1_dim, self.z2_dim, \n",
    "                     self.h_dim, self.h2_dim)\n",
    "        \n",
    "\n",
    "        self.beta = args.beta\n",
    "        \n",
    "        self.rec_alpha = args.rec_alpha\n",
    "        self.rec_beta = args.rec_beta\n",
    "        self.rec_gamma = args.rec_gamma\n",
    "\n",
    "        self.warmup = args.warmup\n",
    "        self.prewarmup = args.prewarmup\n",
    "        \n",
    "        self.add_pseudoinputs()\n",
    "        \n",
    "        self.lqz1 = []\n",
    "        self.lqz2 = []\n",
    "        self.lpz1 = []\n",
    "        self.lpz2 = []\n",
    "        \n",
    "        self.bar = []\n",
    "        self.len = []\n",
    "        self.col = []\n",
    "        \n",
    "        self.cuda()\n",
    "\n",
    "    def forward(self, d, x, y, m):\n",
    "        # Encode\n",
    "        z1, z2, mz2, z1_m, z1_s, z2_m, z2_s = self.qz(x, m)\n",
    "        # Decode\n",
    "        x_len, x_len_scale, x_bar, x_bar_scale, x_col, pz1_m, pz1_s = self.px(z1, mz2)\n",
    "        \n",
    "        return x_len, x_len_scale, x_bar, x_bar_scale, x_col, z1, z2, z1_m, z1_s, z2_m, z2_s, pz1_m, pz1_s\n",
    "    \n",
    "    \n",
    "    def log_p_z2(self, z2):\n",
    "        C = self.number_components\n",
    "        \n",
    "        X = self.means(self.idle_input).view(-1,3,25,100)\n",
    "        \n",
    "        pz2_m, pz2_s = self.qz.q_z2(X)\n",
    "        \n",
    "        z_expand = z2.unsqueeze(1)\n",
    "        means = pz2_m.unsqueeze(0)\n",
    "        stds = pz2_s.unsqueeze(0)\n",
    "        \n",
    "        a = log_Normal_diag(z_expand, means, stds, dim=2) - math.log(C)\n",
    "        a_max, _ = torch.max(a,1)\n",
    "        \n",
    "        log_prior = (a_max + torch.log(torch.sum(torch.exp(a-a_max.unsqueeze(1)),1)))\n",
    "        \n",
    "        return log_prior\n",
    "    \n",
    "    def loss_function(self, d, x, y, m, out_len, out_bar, out_col):\n",
    "        \n",
    "        x_len, x_len_scale, x_bar, x_bar_scale, x_col, z1, z2, z1_m, z1_s, z2_m, z2_s, pz1_m, pz1_s = self.forward(d, x, y, m)\n",
    "        \n",
    "        # Reconstruction Loss\n",
    "        mask = (1 - F.one_hot(torch.round(out_len).to(torch.int64)-1, 100).cumsum(dim=1)[:,None,None,:])\n",
    "        mask1 = (1 - F.one_hot(torch.round(out_len).to(torch.int64)-1, 100).cumsum(dim=1)[:,None,:]).repeat(1,2,1)\n",
    "\n",
    "        x_col = mask.repeat(1,5,2,1)*x_col\n",
    "        \n",
    "#         x_gap = x_col[:,0,:]\n",
    "#         x_nuc = x_col[:,1:,:]\n",
    "                \n",
    "        \n",
    "        \n",
    "        dist_len = dist.Normal(x_len, x_len_scale+1e-7)\n",
    "        log_len = dist_len.log_prob(out_len[:,None]).mean()\n",
    "        \n",
    "        \n",
    "        mse_bar = ((((x_bar - out_bar)**2)*mask1).sum(dim=(1,2))/(mask1.sum(dim=(1,2)))).sum()#.detach().item()\n",
    "        \n",
    "        max_bar = torch.argmax(x_col, dim=1)\n",
    "        sort_bar = torch.argsort(out_col, dim=1)\n",
    "        acc_bar = (((max_bar==sort_bar[:,0,:,:])*mask1).sum((1,2))/out_len).sum()\n",
    "        acc_bar2 = (((max_bar==sort_bar[:,1,:,:])*mask1).sum((1,2))/out_len).sum() + acc_bar\n",
    "        acc_bar3 = (((max_bar==sort_bar[:,2,:,:])*mask1).sum((1,2))/out_len).sum() + acc_bar2\n",
    "        acc_bar4 = (((max_bar==sort_bar[:,3,:,:])*mask1).sum((1,2))/out_len).sum() + acc_bar3\n",
    "        acc_bar5 = (((max_bar==sort_bar[:,4,:,:])*mask1).sum((1,2))/out_len).sum() + acc_bar4\n",
    "        #acc_bar2 = (((max_bar==torch.argsort(out_col, dim=1)[:,1,:,:])*mask1).sum((1,2))/out_len).sum() + acc_bar\n",
    "        \n",
    "        RE_len = -log_len\n",
    "        RE_bar = mse_bar#-log_bar\n",
    "        RE_col = F.cross_entropy(x_col, out_col, reduction='sum')\n",
    "          \n",
    "            \n",
    "        # KL loss\n",
    "        KL_p_z1 = log_Normal_diag(z1, pz1_m, pz1_s, dim=1).sum()\n",
    "        KL_q_z1 = log_Normal_diag(z1, z1_m, z1_s, dim=1).sum()\n",
    "        KL_p_z2 = self.log_p_z2(z2).sum()\n",
    "        KL_q_z2 = log_Normal_diag(z2, z2_m, z2_s, dim=1).sum()\n",
    "        KL = -(KL_p_z1 + KL_p_z2 - KL_q_z1 - KL_q_z2)\n",
    "        #print(KL_p_z1.shape,KL_p_z2.shape,KL_q_z1.shape,KL_q_z2.shape)\n",
    "        \n",
    "        \n",
    "#         self.lpz1.append(KL_p_z1.detach().item())\n",
    "#         self.lpz2.append(KL_p_z2.detach().item())\n",
    "#         self.lqz1.append(KL_q_z1.detach().item())\n",
    "#         self.lqz2.append(KL_q_z2.detach().item())\n",
    "        \n",
    "#         self.bar.append(RE_bar.detach())\n",
    "#         self.col.append(RE_col.detach())\n",
    "#         self.len.append(RE_len.detach())\n",
    "        \n",
    "        \n",
    "        return self.rec_alpha * RE_len \\\n",
    "                  + self.rec_beta * RE_bar \\\n",
    "                  + self.rec_gamma * RE_col \\\n",
    "                  + self.beta * KL, \\\n",
    "                  RE_bar, RE_len, RE_col, mse_bar, acc_bar, acc_bar2, acc_bar3, acc_bar4, acc_bar5\n",
    "    \n",
    "    \n",
    "    \n",
    "    def add_pseudoinputs(self):\n",
    "        # TODO: rework pseudo generation based on reconstruction\n",
    "        nonlinearity = nn.Hardtanh(min_val=0.0, max_val=1.0)\n",
    "        self.means = nn.Sequential(nn.Linear(self.number_components, 3*25*100, bias=False), nonlinearity)\n",
    "        self.idle_input = Variable(torch.eye(self.number_components, self.number_components), requires_grad=False).to(DEVICE)"
   ]
  },
  {
   "cell_type": "code",
   "execution_count": 17,
   "metadata": {},
   "outputs": [
    {
     "data": {
      "text/plain": [
       "tensor(-50.9189)"
      ]
     },
     "execution_count": 17,
     "metadata": {},
     "output_type": "execute_result"
    }
   ],
   "source": [
    "a = dist.Normal(0,1)\n",
    "a.log_prob(torch.tensor(10))"
   ]
  },
  {
   "cell_type": "code",
   "execution_count": 18,
   "metadata": {},
   "outputs": [
    {
     "data": {
      "text/plain": [
       "==========================================================================================\n",
       "Layer (type:depth-idx)                   Output Shape              Param #\n",
       "==========================================================================================\n",
       "HVAE                                     --                        --\n",
       "├─px: 1-1                                --                        (recursive)\n",
       "│    └─Sequential: 2-1                   --                        (recursive)\n",
       "│    │    └─Linear: 3-1                  --                        (recursive)\n",
       "│    │    └─ReLU: 3-2                    --                        --\n",
       "│    │    └─Linear: 3-3                  --                        (recursive)\n",
       "│    │    └─ReLU: 3-4                    --                        --\n",
       "│    └─Sequential: 2-2                   --                        (recursive)\n",
       "│    │    └─Linear: 3-5                  --                        (recursive)\n",
       "│    └─Sequential: 2-3                   --                        (recursive)\n",
       "│    │    └─Linear: 3-6                  --                        (recursive)\n",
       "│    │    └─Softplus: 3-7                --                        --\n",
       "│    └─Sequential: 2-4                   --                        (recursive)\n",
       "│    │    └─Linear: 3-8                  --                        (recursive)\n",
       "│    │    └─ReLU: 3-9                    --                        --\n",
       "│    └─Sequential: 2-5                   --                        (recursive)\n",
       "│    │    └─Linear: 3-10                 --                        (recursive)\n",
       "│    │    └─ReLU: 3-11                   --                        --\n",
       "│    └─Sequential: 2-6                   --                        (recursive)\n",
       "│    │    └─Linear: 3-12                 --                        (recursive)\n",
       "│    │    └─ReLU: 3-13                   --                        --\n",
       "│    └─Sequential: 2-7                   --                        (recursive)\n",
       "│    │    └─ConvTranspose2d: 3-14        --                        (recursive)\n",
       "│    │    └─ReLU: 3-15                   --                        --\n",
       "│    └─Sequential: 2-8                   --                        (recursive)\n",
       "│    │    └─ConvTranspose2d: 3-16        --                        (recursive)\n",
       "│    │    └─ReLU: 3-17                   --                        --\n",
       "│    └─Sequential: 2-9                   --                        (recursive)\n",
       "│    │    └─ConvTranspose2d: 3-18        --                        (recursive)\n",
       "│    │    └─ReLU: 3-19                   --                        --\n",
       "│    └─Sequential: 2-10                  --                        (recursive)\n",
       "│    │    └─ConvTranspose2d: 3-20        --                        (recursive)\n",
       "│    │    └─ReLU: 3-21                   --                        --\n",
       "│    └─Sequential: 2-11                  --                        (recursive)\n",
       "│    │    └─ConvTranspose2d: 3-22        --                        (recursive)\n",
       "│    │    └─ReLU: 3-23                   --                        --\n",
       "│    │    └─Conv2d: 3-24                 --                        (recursive)\n",
       "│    │    └─Softmax: 3-25                --                        --\n",
       "│    └─Sequential: 2-12                  --                        (recursive)\n",
       "│    │    └─Linear: 3-26                 --                        (recursive)\n",
       "│    │    └─ReLU: 3-27                   --                        --\n",
       "│    │    └─Linear: 3-28                 --                        (recursive)\n",
       "│    │    └─ReLU: 3-29                   --                        --\n",
       "│    │    └─Dropout: 3-30                --                        --\n",
       "│    └─Sequential: 2-13                  --                        (recursive)\n",
       "│    │    └─Linear: 3-31                 --                        (recursive)\n",
       "│    │    └─ReLU: 3-32                   --                        --\n",
       "│    │    └─Linear: 3-33                 --                        (recursive)\n",
       "│    │    └─ReLU: 3-34                   --                        --\n",
       "│    │    └─Dropout: 3-35                --                        --\n",
       "│    └─Sequential: 2-14                  --                        (recursive)\n",
       "│    │    └─Linear: 3-36                 --                        (recursive)\n",
       "│    │    └─Softplus: 3-37               --                        --\n",
       "│    └─Sequential: 2-15                  --                        (recursive)\n",
       "│    │    └─Linear: 3-38                 --                        (recursive)\n",
       "│    │    └─Softplus: 3-39               --                        --\n",
       "│    └─Sequential: 2-16                  --                        (recursive)\n",
       "│    │    └─Linear: 3-40                 --                        (recursive)\n",
       "│    │    └─ReLU: 3-41                   --                        --\n",
       "│    │    └─Linear: 3-42                 --                        (recursive)\n",
       "│    │    └─Softplus: 3-43               --                        --\n",
       "├─qz: 1-2                                [1, 1000]                 --\n",
       "│    └─Sequential: 2-17                  [1, 256, 1, 10]           --\n",
       "│    │    └─Conv2d: 3-44                 [1, 32, 23, 98]           864\n",
       "│    │    └─ReLU: 3-45                   [1, 32, 23, 98]           --\n",
       "│    │    └─Conv2d: 3-46                 [1, 64, 21, 96]           18,432\n",
       "│    │    └─ReLU: 3-47                   [1, 64, 21, 96]           --\n",
       "│    │    └─MaxPool2d: 3-48              [1, 64, 10, 48]           --\n",
       "│    │    └─Conv2d: 3-49                 [1, 128, 8, 46]           73,728\n",
       "│    │    └─ReLU: 3-50                   [1, 128, 8, 46]           --\n",
       "│    │    └─MaxPool2d: 3-51              [1, 128, 4, 23]           --\n",
       "│    │    └─Conv2d: 3-52                 [1, 256, 2, 21]           294,912\n",
       "│    │    └─ReLU: 3-53                   [1, 256, 2, 21]           --\n",
       "│    │    └─MaxPool2d: 3-54              [1, 256, 1, 10]           --\n",
       "│    └─Sequential: 2-18                  [1, 1000]                 --\n",
       "│    │    └─Linear: 3-55                 [1, 1000]                 2,561,000\n",
       "│    └─Sequential: 2-19                  [1, 1000]                 --\n",
       "│    │    └─Linear: 3-56                 [1, 1000]                 2,561,000\n",
       "│    │    └─Softplus: 3-57               [1, 1000]                 --\n",
       "│    └─Sequential: 2-20                  [1, 256, 1, 10]           --\n",
       "│    │    └─Conv2d: 3-58                 [1, 32, 23, 98]           864\n",
       "│    │    └─ReLU: 3-59                   [1, 32, 23, 98]           --\n",
       "│    │    └─Conv2d: 3-60                 [1, 64, 21, 96]           18,432\n",
       "│    │    └─ReLU: 3-61                   [1, 64, 21, 96]           --\n",
       "│    │    └─MaxPool2d: 3-62              [1, 64, 10, 48]           --\n",
       "│    │    └─Conv2d: 3-63                 [1, 128, 8, 46]           73,728\n",
       "│    │    └─ReLU: 3-64                   [1, 128, 8, 46]           --\n",
       "│    │    └─MaxPool2d: 3-65              [1, 128, 4, 23]           --\n",
       "│    │    └─Conv2d: 3-66                 [1, 256, 2, 21]           294,912\n",
       "│    │    └─ReLU: 3-67                   [1, 256, 2, 21]           --\n",
       "│    │    └─MaxPool2d: 3-68              [1, 256, 1, 10]           --\n",
       "│    └─Sequential: 2-21                  [1, 600]                  --\n",
       "│    │    └─Linear: 3-69                 [1, 600]                  1,536,600\n",
       "│    │    └─ReLU: 3-70                   [1, 600]                  --\n",
       "│    └─Sequential: 2-22                  [1, 600]                  --\n",
       "│    │    └─Linear: 3-71                 [1, 600]                  720,600\n",
       "│    │    └─ReLU: 3-72                   [1, 600]                  --\n",
       "│    └─Sequential: 2-23                  [1, 600]                  --\n",
       "│    │    └─Linear: 3-73                 [1, 600]                  720,600\n",
       "│    │    └─ReLU: 3-74                   [1, 600]                  --\n",
       "│    └─Sequential: 2-24                  [1, 1000]                 --\n",
       "│    │    └─Linear: 3-75                 [1, 1000]                 601,000\n",
       "│    └─Sequential: 2-25                  [1, 1000]                 --\n",
       "│    │    └─Linear: 3-76                 [1, 1000]                 601,000\n",
       "│    │    └─Softplus: 3-77               [1, 1000]                 --\n",
       "├─px: 1-3                                [1, 1]                    --\n",
       "│    └─Sequential: 2-26                  [1, 600]                  --\n",
       "│    │    └─Linear: 3-78                 [1, 600]                  720,600\n",
       "│    │    └─ReLU: 3-79                   [1, 600]                  --\n",
       "│    │    └─Linear: 3-80                 [1, 600]                  360,600\n",
       "│    │    └─ReLU: 3-81                   [1, 600]                  --\n",
       "│    └─Sequential: 2-27                  [1, 1000]                 --\n",
       "│    │    └─Linear: 3-82                 [1, 1000]                 601,000\n",
       "│    └─Sequential: 2-28                  [1, 1000]                 --\n",
       "│    │    └─Linear: 3-83                 [1, 1000]                 601,000\n",
       "│    │    └─Softplus: 3-84               [1, 1000]                 --\n",
       "│    └─Sequential: 2-29                  [1, 600]                  --\n",
       "│    │    └─Linear: 3-85                 [1, 600]                  600,600\n",
       "│    │    └─ReLU: 3-86                   [1, 600]                  --\n",
       "│    └─Sequential: 2-30                  [1, 600]                  --\n",
       "│    │    └─Linear: 3-87                 [1, 600]                  720,600\n",
       "│    │    └─ReLU: 3-88                   [1, 600]                  --\n",
       "│    └─Sequential: 2-31                  [1, 400]                  --\n",
       "│    │    └─Linear: 3-89                 [1, 1200]                 1,441,200\n",
       "│    │    └─ReLU: 3-90                   [1, 1200]                 --\n",
       "│    │    └─Linear: 3-91                 [1, 400]                  480,400\n",
       "│    │    └─ReLU: 3-92                   [1, 400]                  --\n",
       "│    │    └─Dropout: 3-93                [1, 400]                  --\n",
       "│    └─Sequential: 2-32                  [1, 1]                    --\n",
       "│    │    └─Linear: 3-94                 [1, 400]                  160,400\n",
       "│    │    └─ReLU: 3-95                   [1, 400]                  --\n",
       "│    │    └─Linear: 3-96                 [1, 1]                    401\n",
       "│    │    └─Softplus: 3-97               [1, 1]                    --\n",
       "│    └─Sequential: 2-33                  [1, 400]                  --\n",
       "│    │    └─Linear: 3-98                 [1, 1200]                 1,441,200\n",
       "│    │    └─ReLU: 3-99                   [1, 1200]                 --\n",
       "│    │    └─Linear: 3-100                [1, 400]                  480,400\n",
       "│    │    └─ReLU: 3-101                  [1, 400]                  --\n",
       "│    │    └─Dropout: 3-102               [1, 400]                  --\n",
       "│    └─Sequential: 2-34                  [1, 100]                  --\n",
       "│    │    └─Linear: 3-103                [1, 100]                  40,100\n",
       "│    │    └─Softplus: 3-104              [1, 100]                  --\n",
       "│    └─Sequential: 2-35                  [1, 100]                  --\n",
       "│    │    └─Linear: 3-105                [1, 100]                  40,100\n",
       "│    │    └─Softplus: 3-106              [1, 100]                  --\n",
       "│    └─Sequential: 2-36                  [1, 600]                  --\n",
       "│    │    └─Linear: 3-107                [1, 600]                  720,600\n",
       "│    │    └─ReLU: 3-108                  [1, 600]                  --\n",
       "│    └─Sequential: 2-37                  [1, 36, 2, 100]           --\n",
       "│    │    └─ConvTranspose2d: 3-109       [1, 36, 2, 100]           6,948\n",
       "│    │    └─ReLU: 3-110                  [1, 36, 2, 100]           --\n",
       "│    └─Sequential: 2-38                  [1, 36, 2, 100]           --\n",
       "│    │    └─ConvTranspose2d: 3-111       [1, 36, 2, 100]           11,700\n",
       "│    │    └─ReLU: 3-112                  [1, 36, 2, 100]           --\n",
       "│    └─Sequential: 2-39                  [1, 72, 2, 100]           --\n",
       "│    │    └─ConvTranspose2d: 3-113       [1, 72, 2, 100]           23,400\n",
       "│    │    └─ReLU: 3-114                  [1, 72, 2, 100]           --\n",
       "│    └─Sequential: 2-40                  [1, 72, 2, 100]           --\n",
       "│    │    └─ConvTranspose2d: 3-115       [1, 72, 2, 100]           46,728\n",
       "│    │    └─ReLU: 3-116                  [1, 72, 2, 100]           --\n",
       "│    └─Sequential: 2-41                  [1, 5, 2, 100]            --\n",
       "│    │    └─ConvTranspose2d: 3-117       [1, 5, 2, 100]            3,245\n",
       "│    │    └─ReLU: 3-118                  [1, 5, 2, 100]            --\n",
       "│    │    └─Conv2d: 3-119                [1, 5, 2, 100]            30\n",
       "│    │    └─Softmax: 3-120               [1, 5, 2, 100]            --\n",
       "==========================================================================================\n",
       "Total params: 18,578,924\n",
       "Trainable params: 18,578,924\n",
       "Non-trainable params: 0\n",
       "Total mult-adds (M): 193.37\n",
       "==========================================================================================\n",
       "Input size (MB): 0.03\n",
       "Forward/backward pass size (MB): 4.62\n",
       "Params size (MB): 74.32\n",
       "Estimated Total Size (MB): 78.97\n",
       "=========================================================================================="
      ]
     },
     "execution_count": 18,
     "metadata": {},
     "output_type": "execute_result"
    }
   ],
   "source": [
    "default_args = diva_args()\n",
    "enc = HVAE(default_args)\n",
    "summary(enc,[ (1,1),(1,3,25,100),(1,1),(1,200)])"
   ]
  },
  {
   "cell_type": "markdown",
   "metadata": {
    "id": "LdOsLfYJjBBe"
   },
   "source": [
    "# Training the model"
   ]
  },
  {
   "cell_type": "markdown",
   "metadata": {
    "id": "rH1E5J-ps3GD"
   },
   "source": [
    "## Loading dataset"
   ]
  },
  {
   "cell_type": "code",
   "execution_count": 19,
   "metadata": {
    "colab": {
     "base_uri": "https://localhost:8080/"
    },
    "executionInfo": {
     "elapsed": 16152,
     "status": "ok",
     "timestamp": 1647023309618,
     "user": {
      "displayName": "Marko Petkovic",
      "photoUrl": "https://lh3.googleusercontent.com/a-/AOh14Gijd0e9r3I1vRZVN6DEwl16XpJxxS1oSAKunOnfZQ=s64",
      "userId": "11987583535390684770"
     },
     "user_tz": -60
    },
    "id": "myflmDPxjV40",
    "outputId": "0befed1a-e175-47eb-e1c0-f9f28da53d7c"
   },
   "outputs": [
    {
     "name": "stdout",
     "output_type": "stream",
     "text": [
      "Loading Labels! (~10s)\n",
      "loading encodings\n",
      "Loading Names! (~5s)\n"
     ]
    }
   ],
   "source": [
    "RNA_dataset = MicroRNADataset(create_encodings=False)"
   ]
  },
  {
   "cell_type": "code",
   "execution_count": 20,
   "metadata": {
    "colab": {
     "base_uri": "https://localhost:8080/"
    },
    "executionInfo": {
     "elapsed": 7139,
     "status": "ok",
     "timestamp": 1647023316754,
     "user": {
      "displayName": "Marko Petkovic",
      "photoUrl": "https://lh3.googleusercontent.com/a-/AOh14Gijd0e9r3I1vRZVN6DEwl16XpJxxS1oSAKunOnfZQ=s64",
      "userId": "11987583535390684770"
     },
     "user_tz": -60
    },
    "id": "ut2P5RSaMoDR",
    "outputId": "eafab284-1376-4f62-c8c9-bb8e87351bd4"
   },
   "outputs": [
    {
     "name": "stdout",
     "output_type": "stream",
     "text": [
      "Loading Labels! (~10s)\n",
      "loading encodings\n",
      "Loading Names! (~5s)\n"
     ]
    }
   ],
   "source": [
    "RNA_dataset_test = MicroRNADataset('test', create_encodings=False)"
   ]
  },
  {
   "cell_type": "code",
   "execution_count": 21,
   "metadata": {},
   "outputs": [
    {
     "data": {
      "text/plain": [
       "((34721, 2, 100), (34721, 5, 2, 100))"
      ]
     },
     "execution_count": 21,
     "metadata": {},
     "output_type": "execute_result"
    }
   ],
   "source": [
    "RNA_dataset.x_bar.shape, RNA_dataset.x_col.shape "
   ]
  },
  {
   "cell_type": "code",
   "execution_count": 22,
   "metadata": {
    "executionInfo": {
     "elapsed": 12,
     "status": "ok",
     "timestamp": 1647023316754,
     "user": {
      "displayName": "Marko Petkovic",
      "photoUrl": "https://lh3.googleusercontent.com/a-/AOh14Gijd0e9r3I1vRZVN6DEwl16XpJxxS1oSAKunOnfZQ=s64",
      "userId": "11987583535390684770"
     },
     "user_tz": -60
    },
    "id": "eVGq463Y2m20"
   },
   "outputs": [],
   "source": [
    "def train_single_epoch(train_loader, model, optimizer, epoch):\n",
    "    model.train()\n",
    "    train_loss = 0\n",
    "    epoch_bar_loss = 0\n",
    "    epoch_col_loss = 0\n",
    "    epoch_len_loss = 0\n",
    "    no_batches = 0\n",
    "    train_corr = 0\n",
    "    mse_bar = 0\n",
    "    acc_bar = 0\n",
    "    acc_bar2 = 0\n",
    "    pbar = tqdm(enumerate(train_loader), unit=\"batch\", \n",
    "                                     desc=f'Epoch {epoch}')\n",
    "    for batch_idx, (x, y, d, x_len, x_col, x_bar, m) in pbar:\n",
    "        # To device\n",
    "        x, y, d , x_len, x_bar, x_col, m= x.to(DEVICE), y.to(DEVICE), d.to(DEVICE), x_len.to(DEVICE), x_bar.to(DEVICE), x_col.to(DEVICE), m.to(DEVICE)\n",
    "\n",
    "        optimizer.zero_grad()\n",
    "        loss, bar_loss, len_loss, col_loss, mse, acc, acc2, acc3, acc4, acc5 = model.loss_function(d.float(), x.float(), y.float(), m.float(), x_len.float(), x_bar.float(), x_col.float())\n",
    "      \n",
    "        loss.backward()\n",
    "        optimizer.step()\n",
    "        pbar.set_postfix(loss=loss.item()/x.shape[0])\n",
    "        train_loss += loss\n",
    "        epoch_bar_loss += bar_loss\n",
    "        epoch_col_loss += col_loss\n",
    "        epoch_len_loss += len_loss\n",
    "        mse_bar += mse\n",
    "        acc_bar += acc\n",
    "        acc_bar2 += acc2\n",
    "        no_batches += 1\n",
    "\n",
    "    train_loss /= len(train_loader.dataset)\n",
    "    epoch_bar_loss /= len(train_loader.dataset)\n",
    "    epoch_len_loss /= len(train_loader.dataset)\n",
    "    epoch_col_loss /= len(train_loader.dataset)\n",
    "    acc_bar /= len(train_loader.dataset)\n",
    "    acc_bar2 /= len(train_loader.dataset)\n",
    "    mse_bar /= len(train_loader.dataset)\n",
    "    \n",
    "    return train_loss, epoch_bar_loss, epoch_len_loss, epoch_col_loss, mse_bar, acc_bar, acc_bar2, acc3, acc4, acc5 "
   ]
  },
  {
   "cell_type": "code",
   "execution_count": 23,
   "metadata": {
    "executionInfo": {
     "elapsed": 12,
     "status": "ok",
     "timestamp": 1647023316755,
     "user": {
      "displayName": "Marko Petkovic",
      "photoUrl": "https://lh3.googleusercontent.com/a-/AOh14Gijd0e9r3I1vRZVN6DEwl16XpJxxS1oSAKunOnfZQ=s64",
      "userId": "11987583535390684770"
     },
     "user_tz": -60
    },
    "id": "dT7E0C3nM3qh"
   },
   "outputs": [],
   "source": [
    "def test_single_epoch(test_loader, model, epoch):\n",
    "    model.eval()\n",
    "    test_loss = 0\n",
    "    epoch_bar_loss = 0\n",
    "    epoch_col_loss = 0\n",
    "    epoch_len_loss = 0\n",
    "    mse_bar = 0\n",
    "    acc_bar = 0   \n",
    "    acc_bar2 = 0\n",
    "    with torch.no_grad():\n",
    "        for batch_idx, (x,y,d,x_len,x_col,x_bar, m) in enumerate(test_loader):\n",
    "            x, y, d, x_len, x_bar, x_col, m = x.to(DEVICE), y.to(DEVICE), d.to(DEVICE), x_len.to(DEVICE), x_bar.to(DEVICE), x_col.to(DEVICE), m.to(DEVICE)\n",
    "            loss, bar_loss, len_loss, col_loss, mse, acc, acc2, acc3, acc4, acc5  = model.loss_function(d.float(), x.float(), y.float(),m.float(),x_len.float(),x_bar.float(),x_col.float())\n",
    "            test_loss += loss\n",
    "            epoch_bar_loss += bar_loss\n",
    "            epoch_col_loss += col_loss\n",
    "            epoch_len_loss += len_loss\n",
    "            mse_bar += mse\n",
    "            acc_bar += acc\n",
    "            acc_bar2 += acc2\n",
    "    test_loss /= len(test_loader.dataset)\n",
    "    epoch_bar_loss /= len(test_loader.dataset)\n",
    "    epoch_len_loss /= len(test_loader.dataset)\n",
    "    epoch_col_loss /= len(test_loader.dataset)\n",
    "    acc_bar /= len(test_loader.dataset)\n",
    "    acc_bar2 /= len(test_loader.dataset)\n",
    "    mse_bar /= len(test_loader.dataset)\n",
    "    \n",
    "    return test_loss, epoch_bar_loss, epoch_len_loss, epoch_col_loss, mse_bar, acc_bar, acc_bar2, acc3, acc4, acc5 \n",
    "  "
   ]
  },
  {
   "cell_type": "code",
   "execution_count": 24,
   "metadata": {
    "executionInfo": {
     "elapsed": 11,
     "status": "ok",
     "timestamp": 1647023316755,
     "user": {
      "displayName": "Marko Petkovic",
      "photoUrl": "https://lh3.googleusercontent.com/a-/AOh14Gijd0e9r3I1vRZVN6DEwl16XpJxxS1oSAKunOnfZQ=s64",
      "userId": "11987583535390684770"
     },
     "user_tz": -60
    },
    "id": "npLjVGs0jHYn"
   },
   "outputs": [],
   "source": [
    "def train(args, train_loader, test_loader, diva, optimizer, end_epoch, start_epoch=0, save_folder='sd_1.0.0',save_interval=5):\n",
    "    \n",
    "    epoch_loss_sup = []\n",
    "    test_loss = []\n",
    "    \n",
    "    for epoch in range(start_epoch+1, end_epoch+1):\n",
    "        diva.beta = min([args.beta, args.beta * (epoch - args.prewarmup * 1.) / (args.warmup)])\n",
    "        if epoch< args.prewarmup:\n",
    "            diva.beta = args.beta/args.prewarmup\n",
    "        train_loss, avg_loss_bar, avg_loss_len, avg_loss_col, mtr, atr, atr2, atr3, atr4, atr5  = train_single_epoch(train_loader, diva, optimizer, epoch)\n",
    "        str_loss_sup = train_loss\n",
    "        epoch_loss_sup.append(train_loss)\n",
    "        str_print = \"epoch {}: avg train loss {:.2f}\".format(epoch, str_loss_sup)\n",
    "        str_print += \", bar train loss {:.3f}\".format(avg_loss_bar)\n",
    "        str_print += \", len train loss {:.3f}\".format(avg_loss_len)\n",
    "        str_print += \", col train loss {:.3f}\".format(avg_loss_col)\n",
    "        print(str_print)\n",
    "\n",
    "        rec_loss_train = diva.rec_alpha * avg_loss_len + diva.rec_beta * avg_loss_bar + diva.rec_gamma * avg_loss_col\n",
    "        dis_loss_train = train_loss - rec_loss_train\n",
    "\n",
    "        test_lss, avg_loss_bar_test, avg_loss_len_test, avg_loss_col_test, mte, ate, ate2, ate3, ate4, ate5  = test_single_epoch(test_loader, diva, epoch)\n",
    "        test_loss.append(test_lss)\n",
    "       \n",
    "        str_print = \"epoch {}: avg test  loss {:.2f}\".format(epoch, test_lss)\n",
    "        str_print += \", bar  test loss {:.3f}\".format(avg_loss_bar_test)\n",
    "        str_print += \", len  test loss {:.3f}\".format(avg_loss_len_test)\n",
    "        str_print += \", col  test loss {:.3f}\".format(avg_loss_col_test)\n",
    "        print(str_print)\n",
    "\n",
    "        rec_loss_test = diva.rec_alpha * avg_loss_len_test + diva.rec_beta * avg_loss_bar_test + diva.rec_gamma * avg_loss_col_test\n",
    "        dis_loss_test = test_lss - rec_loss_test\n",
    "\n",
    "        if writer is not None:\n",
    "            \n",
    "            writer.add_scalars(\"Total_Loss\", {'train': train_loss, 'test': test_lss} ,epoch)\n",
    "            writer.add_scalars(\"Reconstruction_vs_Disentanglement\",{'rec':rec_loss_train, 'dis':dis_loss_train}, epoch)\n",
    "            writer.add_scalars(\"bar_mse\",{'train': mtr, 'test':mte}, epoch)\n",
    "            writer.add_scalars(\"bar_acc\",{'train-top1': atr, 'test-top1':ate,\n",
    "                                          'train-top2': atr2, 'test-top2':ate2,\n",
    "                                          'train-top3': atr3, 'test-top3':ate3,\n",
    "                                          'train-top4': atr4, 'test-top4':ate4,\n",
    "                                          'train-top5': atr4, 'test-top5':ate4\n",
    "                                         }, epoch)\n",
    "\n",
    "        if epoch % save_interval == 0:\n",
    "            save_reconstructions(epoch, test_loader, diva, name=save_folder)\n",
    "            save_reconstructions(epoch, train_loader, diva, name=save_folder, estr='tr')\n",
    "        \n",
    "        \n",
    "        if epoch % 50 == 0:\n",
    "            torch.save(diva.state_dict(), f'{link}/saved_models/{save_folder}/checkpoints/{epoch}.pth')\n",
    "\n",
    "    if writer is not None:\n",
    "        writer.flush()\n",
    "\n",
    "    epoch_loss_sup = [i.detach().cpu().numpy() for i in epoch_loss_sup]\n",
    "    test_loss = [i.detach().cpu().numpy() for i in test_loss]\n",
    "    return epoch_loss_sup, test_loss"
   ]
  },
  {
   "cell_type": "code",
   "execution_count": 25,
   "metadata": {
    "executionInfo": {
     "elapsed": 9,
     "status": "ok",
     "timestamp": 1647023317082,
     "user": {
      "displayName": "Marko Petkovic",
      "photoUrl": "https://lh3.googleusercontent.com/a-/AOh14Gijd0e9r3I1vRZVN6DEwl16XpJxxS1oSAKunOnfZQ=s64",
      "userId": "11987583535390684770"
     },
     "user_tz": -60
    },
    "id": "XxN8U8YK0Qi1"
   },
   "outputs": [],
   "source": [
    "def save_reconstructions(epoch, test_loader, diva, name='diva', estr=''):\n",
    "    a = next(enumerate(test_loader))\n",
    "    with torch.no_grad():\n",
    "        diva.eval()\n",
    "        d = a[1][2][:10].to(DEVICE).float()\n",
    "        x = a[1][0][:10].to(DEVICE).float()\n",
    "        y = a[1][1][:10].to(DEVICE).float()\n",
    "        m = a[1][-1][:10].to(DEVICE).float()\n",
    "        x_1, x_1var, x_2, x_2var, x_3 ,z1, z2, z1_m, z1_s, z2_m, z2_s, pz1_m, pz1_s = diva(d,x,y,m)\n",
    "        out = diva.px.reconstruct_image(x_1, x_1var, x_2, x_2var, x_3)\n",
    "\n",
    "    plt.figure(figsize=(80,20))\n",
    "    fig, ax = plt.subplots(nrows=10, ncols=2)\n",
    "\n",
    "    ax[0,0].set_title(\"Original\")\n",
    "    ax[0,1].set_title(\"Reconstructed\")\n",
    "\n",
    "    for i in range(10):\n",
    "        ax[i, 1].imshow(out[i])\n",
    "        ax[i, 0].imshow(x[i].cpu().permute(1,2,0))\n",
    "        ax[i, 0].xaxis.set_visible(False)\n",
    "        ax[i, 0].yaxis.set_visible(False)\n",
    "        ax[i, 1].xaxis.set_visible(False)\n",
    "        ax[i, 1].yaxis.set_visible(False)\n",
    "    fig.tight_layout(pad=0.1)\n",
    "    plt.savefig(f'{link}/saved_models/{name}/reconstructions/e{epoch}{estr}.png')\n",
    "    plt.close('all')"
   ]
  },
  {
   "cell_type": "code",
   "execution_count": 26,
   "metadata": {
    "colab": {
     "base_uri": "https://localhost:8080/"
    },
    "executionInfo": {
     "elapsed": 8,
     "status": "ok",
     "timestamp": 1647023317082,
     "user": {
      "displayName": "Marko Petkovic",
      "photoUrl": "https://lh3.googleusercontent.com/a-/AOh14Gijd0e9r3I1vRZVN6DEwl16XpJxxS1oSAKunOnfZQ=s64",
      "userId": "11987583535390684770"
     },
     "user_tz": -60
    },
    "id": "YVAD-Mjwh7yq",
    "outputId": "f330c11c-e358-41af-9ef4-bc36c146f907"
   },
   "outputs": [
    {
     "data": {
      "text/plain": [
       "device(type='cuda')"
      ]
     },
     "execution_count": 26,
     "metadata": {},
     "output_type": "execute_result"
    }
   ],
   "source": [
    "DEVICE"
   ]
  },
  {
   "cell_type": "markdown",
   "metadata": {
    "id": "nI4-NzHxjmci"
   },
   "source": [
    "## Model Training"
   ]
  },
  {
   "cell_type": "code",
   "execution_count": 27,
   "metadata": {
    "executionInfo": {
     "elapsed": 4,
     "status": "ok",
     "timestamp": 1647023317083,
     "user": {
      "displayName": "Marko Petkovic",
      "photoUrl": "https://lh3.googleusercontent.com/a-/AOh14Gijd0e9r3I1vRZVN6DEwl16XpJxxS1oSAKunOnfZQ=s64",
      "userId": "11987583535390684770"
     },
     "user_tz": -60
    },
    "id": "sJE0HTJE1ayP"
   },
   "outputs": [],
   "source": [
    "default_args = diva_args(prewarmup=0, number_components=50)"
   ]
  },
  {
   "cell_type": "code",
   "execution_count": 28,
   "metadata": {
    "colab": {
     "base_uri": "https://localhost:8080/",
     "height": 0
    },
    "executionInfo": {
     "elapsed": 1182,
     "status": "error",
     "timestamp": 1647023318262,
     "user": {
      "displayName": "Marko Petkovic",
      "photoUrl": "https://lh3.googleusercontent.com/a-/AOh14Gijd0e9r3I1vRZVN6DEwl16XpJxxS1oSAKunOnfZQ=s64",
      "userId": "11987583535390684770"
     },
     "user_tz": -60
    },
    "id": "kxIMSeUD1949",
    "outputId": "45991358-df3b-4e61-9d8a-c48b71b9fa49"
   },
   "outputs": [],
   "source": [
    "diva = HVAE(default_args).to(DEVICE)"
   ]
  },
  {
   "cell_type": "code",
   "execution_count": 29,
   "metadata": {
    "executionInfo": {
     "elapsed": 6,
     "status": "aborted",
     "timestamp": 1647023318259,
     "user": {
      "displayName": "Marko Petkovic",
      "photoUrl": "https://lh3.googleusercontent.com/a-/AOh14Gijd0e9r3I1vRZVN6DEwl16XpJxxS1oSAKunOnfZQ=s64",
      "userId": "11987583535390684770"
     },
     "user_tz": -60
    },
    "id": "PUHyoMi7iwJC"
   },
   "outputs": [
    {
     "data": {
      "text/plain": [
       "<All keys matched successfully>"
      ]
     },
     "execution_count": 29,
     "metadata": {},
     "output_type": "execute_result"
    }
   ],
   "source": [
    "diva.load_state_dict(torch.load(f'{link}/saved_models/new/HVAE3/checkpoints/100.pth'))"
   ]
  },
  {
   "cell_type": "code",
   "execution_count": 30,
   "metadata": {
    "executionInfo": {
     "elapsed": 6,
     "status": "aborted",
     "timestamp": 1647023318260,
     "user": {
      "displayName": "Marko Petkovic",
      "photoUrl": "https://lh3.googleusercontent.com/a-/AOh14Gijd0e9r3I1vRZVN6DEwl16XpJxxS1oSAKunOnfZQ=s64",
      "userId": "11987583535390684770"
     },
     "user_tz": -60
    },
    "id": "48B39rFl79Yh"
   },
   "outputs": [],
   "source": [
    "train_loader = DataLoader(RNA_dataset, batch_size=128, shuffle=True)\n",
    "test_loader = DataLoader(RNA_dataset_test, batch_size=128)"
   ]
  },
  {
   "cell_type": "code",
   "execution_count": 31,
   "metadata": {
    "executionInfo": {
     "elapsed": 7,
     "status": "aborted",
     "timestamp": 1647023318261,
     "user": {
      "displayName": "Marko Petkovic",
      "photoUrl": "https://lh3.googleusercontent.com/a-/AOh14Gijd0e9r3I1vRZVN6DEwl16XpJxxS1oSAKunOnfZQ=s64",
      "userId": "11987583535390684770"
     },
     "user_tz": -60
    },
    "id": "J6y2Ek2677z1"
   },
   "outputs": [],
   "source": [
    "#optimizer = optim.SGD(diva.parameters(), lr=0.00001, momentum=0.1, nesterov=True)\n",
    "optimizer = optim.Adam(diva.parameters(), lr=0.001)"
   ]
  },
  {
   "cell_type": "code",
   "execution_count": 32,
   "metadata": {},
   "outputs": [
    {
     "data": {
      "text/plain": [
       "(10, 100)"
      ]
     },
     "execution_count": 32,
     "metadata": {},
     "output_type": "execute_result"
    }
   ],
   "source": [
    "RNA_dataset.x_len.min(), RNA_dataset.x_len.max()"
   ]
  },
  {
   "cell_type": "code",
   "execution_count": 33,
   "metadata": {},
   "outputs": [],
   "source": [
    "writer.flush()"
   ]
  },
  {
   "cell_type": "code",
   "execution_count": 34,
   "metadata": {},
   "outputs": [],
   "source": [
    "#diva.rec_gamma = 3"
   ]
  },
  {
   "cell_type": "code",
   "execution_count": 35,
   "metadata": {
    "executionInfo": {
     "elapsed": 7,
     "status": "aborted",
     "timestamp": 1647023318261,
     "user": {
      "displayName": "Marko Petkovic",
      "photoUrl": "https://lh3.googleusercontent.com/a-/AOh14Gijd0e9r3I1vRZVN6DEwl16XpJxxS1oSAKunOnfZQ=s64",
      "userId": "11987583535390684770"
     },
     "user_tz": -60
    },
    "id": "vQGakzXN6V-Y",
    "scrolled": false
   },
   "outputs": [
    {
     "data": {
      "text/plain": [
       "Reusing TensorBoard on port 6006 (pid 14624), started 1:49:53 ago. (Use '!kill 14624' to kill it.)"
      ]
     },
     "metadata": {},
     "output_type": "display_data"
    },
    {
     "data": {
      "text/html": [
       "\n",
       "      <iframe id=\"tensorboard-frame-34c4a688cc58dc8a\" width=\"100%\" height=\"800\" frameborder=\"0\">\n",
       "      </iframe>\n",
       "      <script>\n",
       "        (function() {\n",
       "          const frame = document.getElementById(\"tensorboard-frame-34c4a688cc58dc8a\");\n",
       "          const url = new URL(\"/\", window.location);\n",
       "          const port = 6006;\n",
       "          if (port) {\n",
       "            url.port = port;\n",
       "          }\n",
       "          frame.src = url;\n",
       "        })();\n",
       "      </script>\n",
       "    "
      ],
      "text/plain": [
       "<IPython.core.display.HTML object>"
      ]
     },
     "metadata": {},
     "output_type": "display_data"
    }
   ],
   "source": [
    "%tensorboard  --logdir=\"D:/users/Marko/downloads/mirna/saved_models/new/HVAE3/tensorboard/\""
   ]
  },
  {
   "cell_type": "code",
   "execution_count": 36,
   "metadata": {
    "executionInfo": {
     "elapsed": 8,
     "status": "aborted",
     "timestamp": 1647023318262,
     "user": {
      "displayName": "Marko Petkovic",
      "photoUrl": "https://lh3.googleusercontent.com/a-/AOh14Gijd0e9r3I1vRZVN6DEwl16XpJxxS1oSAKunOnfZQ=s64",
      "userId": "11987583535390684770"
     },
     "user_tz": -60
    },
    "id": "0m47XoL87oLs",
    "scrolled": true
   },
   "outputs": [
    {
     "name": "stderr",
     "output_type": "stream",
     "text": [
      "Epoch 136: 272batch [00:33,  8.15batch/s, loss=201]\n"
     ]
    },
    {
     "name": "stdout",
     "output_type": "stream",
     "text": [
      "epoch 136: avg train loss 211.55, bar train loss 2.507, len train loss 0.019, col train loss 153.775\n",
      "epoch 136: avg test  loss 272.60, bar  test loss 3.243, len  test loss 0.431, col  test loss 159.984\n"
     ]
    },
    {
     "name": "stderr",
     "output_type": "stream",
     "text": [
      "Epoch 137: 272batch [00:31,  8.69batch/s, loss=228]\n"
     ]
    },
    {
     "name": "stdout",
     "output_type": "stream",
     "text": [
      "epoch 137: avg train loss 209.77, bar train loss 2.486, len train loss 0.019, col train loss 153.594\n"
     ]
    },
    {
     "name": "stderr",
     "output_type": "stream",
     "text": [
      "Epoch 138: 1batch [00:00,  8.93batch/s, loss=207]"
     ]
    },
    {
     "name": "stdout",
     "output_type": "stream",
     "text": [
      "epoch 137: avg test  loss 275.81, bar  test loss 3.256, len  test loss 0.451, col  test loss 159.969\n"
     ]
    },
    {
     "name": "stderr",
     "output_type": "stream",
     "text": [
      "Epoch 138: 272batch [00:30,  8.86batch/s, loss=230]\n"
     ]
    },
    {
     "name": "stdout",
     "output_type": "stream",
     "text": [
      "epoch 138: avg train loss 209.52, bar train loss 2.479, len train loss 0.019, col train loss 153.518\n"
     ]
    },
    {
     "name": "stderr",
     "output_type": "stream",
     "text": [
      "Epoch 139: 1batch [00:00,  8.93batch/s, loss=208]"
     ]
    },
    {
     "name": "stdout",
     "output_type": "stream",
     "text": [
      "epoch 138: avg test  loss 282.35, bar  test loss 3.274, len  test loss 0.523, col  test loss 160.085\n"
     ]
    },
    {
     "name": "stderr",
     "output_type": "stream",
     "text": [
      "Epoch 139: 272batch [00:30,  8.99batch/s, loss=210]\n"
     ]
    },
    {
     "name": "stdout",
     "output_type": "stream",
     "text": [
      "epoch 139: avg train loss 209.13, bar train loss 2.468, len train loss 0.018, col train loss 153.461\n"
     ]
    },
    {
     "name": "stderr",
     "output_type": "stream",
     "text": [
      "Epoch 140: 1batch [00:00,  8.93batch/s, loss=206]"
     ]
    },
    {
     "name": "stdout",
     "output_type": "stream",
     "text": [
      "epoch 139: avg test  loss 274.60, bar  test loss 3.263, len  test loss 0.443, col  test loss 160.063\n"
     ]
    },
    {
     "name": "stderr",
     "output_type": "stream",
     "text": [
      "Epoch 140: 272batch [00:30,  8.93batch/s, loss=240]\n"
     ]
    },
    {
     "name": "stdout",
     "output_type": "stream",
     "text": [
      "epoch 140: avg train loss 209.00, bar train loss 2.461, len train loss 0.019, col train loss 153.432\n",
      "epoch 140: avg test  loss 270.94, bar  test loss 3.278, len  test loss 0.408, col  test loss 160.121\n"
     ]
    },
    {
     "name": "stderr",
     "output_type": "stream",
     "text": [
      "Epoch 141: 272batch [00:30,  8.78batch/s, loss=211]\n"
     ]
    },
    {
     "name": "stdout",
     "output_type": "stream",
     "text": [
      "epoch 141: avg train loss 208.93, bar train loss 2.461, len train loss 0.019, col train loss 153.377\n"
     ]
    },
    {
     "name": "stderr",
     "output_type": "stream",
     "text": [
      "Epoch 142: 1batch [00:00,  8.93batch/s, loss=212]"
     ]
    },
    {
     "name": "stdout",
     "output_type": "stream",
     "text": [
      "epoch 141: avg test  loss 284.45, bar  test loss 3.305, len  test loss 0.537, col  test loss 160.156\n"
     ]
    },
    {
     "name": "stderr",
     "output_type": "stream",
     "text": [
      "Epoch 142: 272batch [00:31,  8.72batch/s, loss=211]\n"
     ]
    },
    {
     "name": "stdout",
     "output_type": "stream",
     "text": [
      "epoch 142: avg train loss 208.64, bar train loss 2.453, len train loss 0.019, col train loss 153.342\n"
     ]
    },
    {
     "name": "stderr",
     "output_type": "stream",
     "text": [
      "Epoch 143: 1batch [00:00,  8.00batch/s, loss=206]"
     ]
    },
    {
     "name": "stdout",
     "output_type": "stream",
     "text": [
      "epoch 142: avg test  loss 273.16, bar  test loss 3.280, len  test loss 0.429, col  test loss 160.144\n"
     ]
    },
    {
     "name": "stderr",
     "output_type": "stream",
     "text": [
      "Epoch 143: 272batch [00:30,  8.78batch/s, loss=219]\n"
     ]
    },
    {
     "name": "stdout",
     "output_type": "stream",
     "text": [
      "epoch 143: avg train loss 208.25, bar train loss 2.445, len train loss 0.017, col train loss 153.258\n"
     ]
    },
    {
     "name": "stderr",
     "output_type": "stream",
     "text": [
      "Epoch 144: 1batch [00:00,  9.01batch/s, loss=205]"
     ]
    },
    {
     "name": "stdout",
     "output_type": "stream",
     "text": [
      "epoch 143: avg test  loss 277.71, bar  test loss 3.314, len  test loss 0.467, col  test loss 160.151\n"
     ]
    },
    {
     "name": "stderr",
     "output_type": "stream",
     "text": [
      "Epoch 144: 272batch [00:30,  8.93batch/s, loss=210]\n"
     ]
    },
    {
     "name": "stdout",
     "output_type": "stream",
     "text": [
      "epoch 144: avg train loss 208.11, bar train loss 2.439, len train loss 0.018, col train loss 153.238\n"
     ]
    },
    {
     "name": "stderr",
     "output_type": "stream",
     "text": [
      "Epoch 145: 1batch [00:00,  8.77batch/s, loss=212]"
     ]
    },
    {
     "name": "stdout",
     "output_type": "stream",
     "text": [
      "epoch 144: avg test  loss 282.10, bar  test loss 3.316, len  test loss 0.512, col  test loss 160.234\n"
     ]
    },
    {
     "name": "stderr",
     "output_type": "stream",
     "text": [
      "Epoch 145: 272batch [00:31,  8.72batch/s, loss=208]\n"
     ]
    },
    {
     "name": "stdout",
     "output_type": "stream",
     "text": [
      "epoch 145: avg train loss 208.00, bar train loss 2.438, len train loss 0.017, col train loss 153.182\n",
      "epoch 145: avg test  loss 265.04, bar  test loss 3.307, len  test loss 0.342, col  test loss 160.356\n"
     ]
    },
    {
     "name": "stderr",
     "output_type": "stream",
     "text": [
      "Epoch 146: 272batch [00:31,  8.68batch/s, loss=207]\n"
     ]
    },
    {
     "name": "stdout",
     "output_type": "stream",
     "text": [
      "epoch 146: avg train loss 207.78, bar train loss 2.429, len train loss 0.018, col train loss 153.141\n"
     ]
    },
    {
     "name": "stderr",
     "output_type": "stream",
     "text": [
      "Epoch 147: 1batch [00:00,  8.06batch/s, loss=205]"
     ]
    },
    {
     "name": "stdout",
     "output_type": "stream",
     "text": [
      "epoch 146: avg test  loss 281.58, bar  test loss 3.300, len  test loss 0.499, col  test loss 160.329\n"
     ]
    },
    {
     "name": "stderr",
     "output_type": "stream",
     "text": [
      "Epoch 147: 272batch [00:30,  8.78batch/s, loss=221]\n"
     ]
    },
    {
     "name": "stdout",
     "output_type": "stream",
     "text": [
      "epoch 147: avg train loss 207.74, bar train loss 2.428, len train loss 0.018, col train loss 153.125\n"
     ]
    },
    {
     "name": "stderr",
     "output_type": "stream",
     "text": [
      "Epoch 148: 1batch [00:00,  8.40batch/s, loss=210]"
     ]
    },
    {
     "name": "stdout",
     "output_type": "stream",
     "text": [
      "epoch 147: avg test  loss 273.86, bar  test loss 3.305, len  test loss 0.433, col  test loss 160.318\n"
     ]
    },
    {
     "name": "stderr",
     "output_type": "stream",
     "text": [
      "Epoch 148: 272batch [00:30,  8.85batch/s, loss=200]\n"
     ]
    },
    {
     "name": "stdout",
     "output_type": "stream",
     "text": [
      "epoch 148: avg train loss 207.42, bar train loss 2.419, len train loss 0.018, col train loss 153.038\n"
     ]
    },
    {
     "name": "stderr",
     "output_type": "stream",
     "text": [
      "Epoch 149: 1batch [00:00,  9.01batch/s, loss=211]"
     ]
    },
    {
     "name": "stdout",
     "output_type": "stream",
     "text": [
      "epoch 148: avg test  loss 274.59, bar  test loss 3.307, len  test loss 0.439, col  test loss 160.425\n"
     ]
    },
    {
     "name": "stderr",
     "output_type": "stream",
     "text": [
      "Epoch 149: 272batch [00:30,  9.04batch/s, loss=209]\n"
     ]
    },
    {
     "name": "stdout",
     "output_type": "stream",
     "text": [
      "epoch 149: avg train loss 207.20, bar train loss 2.409, len train loss 0.018, col train loss 153.025\n"
     ]
    },
    {
     "name": "stderr",
     "output_type": "stream",
     "text": [
      "Epoch 150: 1batch [00:00,  9.09batch/s, loss=205]"
     ]
    },
    {
     "name": "stdout",
     "output_type": "stream",
     "text": [
      "epoch 149: avg test  loss 274.94, bar  test loss 3.352, len  test loss 0.435, col  test loss 160.319\n"
     ]
    },
    {
     "name": "stderr",
     "output_type": "stream",
     "text": [
      "Epoch 150: 272batch [00:30,  8.95batch/s, loss=210]\n"
     ]
    },
    {
     "name": "stdout",
     "output_type": "stream",
     "text": [
      "epoch 150: avg train loss 207.06, bar train loss 2.410, len train loss 0.017, col train loss 152.968\n",
      "epoch 150: avg test  loss 274.99, bar  test loss 3.332, len  test loss 0.434, col  test loss 160.407\n"
     ]
    },
    {
     "name": "stderr",
     "output_type": "stream",
     "text": [
      "Epoch 151: 272batch [00:30,  9.00batch/s, loss=209]\n"
     ]
    },
    {
     "name": "stdout",
     "output_type": "stream",
     "text": [
      "epoch 151: avg train loss 206.90, bar train loss 2.401, len train loss 0.018, col train loss 152.922\n"
     ]
    },
    {
     "name": "stderr",
     "output_type": "stream",
     "text": [
      "Epoch 152: 1batch [00:00,  8.85batch/s, loss=209]"
     ]
    },
    {
     "name": "stdout",
     "output_type": "stream",
     "text": [
      "epoch 151: avg test  loss 275.69, bar  test loss 3.333, len  test loss 0.447, col  test loss 160.351\n"
     ]
    },
    {
     "name": "stderr",
     "output_type": "stream",
     "text": [
      "Epoch 152: 272batch [00:30,  8.82batch/s, loss=209]\n"
     ]
    },
    {
     "name": "stdout",
     "output_type": "stream",
     "text": [
      "epoch 152: avg train loss 206.74, bar train loss 2.399, len train loss 0.017, col train loss 152.886\n"
     ]
    },
    {
     "name": "stderr",
     "output_type": "stream",
     "text": [
      "Epoch 153: 1batch [00:00,  8.93batch/s, loss=204]"
     ]
    },
    {
     "name": "stdout",
     "output_type": "stream",
     "text": [
      "epoch 152: avg test  loss 272.26, bar  test loss 3.328, len  test loss 0.411, col  test loss 160.456\n"
     ]
    },
    {
     "name": "stderr",
     "output_type": "stream",
     "text": [
      "Epoch 153: 272batch [00:30,  8.95batch/s, loss=208]\n"
     ]
    },
    {
     "name": "stdout",
     "output_type": "stream",
     "text": [
      "epoch 153: avg train loss 206.38, bar train loss 2.385, len train loss 0.017, col train loss 152.827\n"
     ]
    },
    {
     "name": "stderr",
     "output_type": "stream",
     "text": [
      "Epoch 154: 1batch [00:00,  8.77batch/s, loss=210]"
     ]
    },
    {
     "name": "stdout",
     "output_type": "stream",
     "text": [
      "epoch 153: avg test  loss 282.39, bar  test loss 3.385, len  test loss 0.500, col  test loss 160.505\n"
     ]
    },
    {
     "name": "stderr",
     "output_type": "stream",
     "text": [
      "Epoch 154: 272batch [00:30,  8.84batch/s, loss=205]\n"
     ]
    },
    {
     "name": "stdout",
     "output_type": "stream",
     "text": [
      "epoch 154: avg train loss 206.26, bar train loss 2.384, len train loss 0.017, col train loss 152.778\n"
     ]
    },
    {
     "name": "stderr",
     "output_type": "stream",
     "text": [
      "Epoch 155: 1batch [00:00,  8.70batch/s, loss=206]"
     ]
    },
    {
     "name": "stdout",
     "output_type": "stream",
     "text": [
      "epoch 154: avg test  loss 277.08, bar  test loss 3.317, len  test loss 0.459, col  test loss 160.378\n"
     ]
    },
    {
     "name": "stderr",
     "output_type": "stream",
     "text": [
      "Epoch 155: 272batch [00:31,  8.63batch/s, loss=226]\n"
     ]
    },
    {
     "name": "stdout",
     "output_type": "stream",
     "text": [
      "epoch 155: avg train loss 206.26, bar train loss 2.383, len train loss 0.017, col train loss 152.758\n",
      "epoch 155: avg test  loss 282.16, bar  test loss 3.352, len  test loss 0.508, col  test loss 160.509\n"
     ]
    },
    {
     "name": "stderr",
     "output_type": "stream",
     "text": [
      "Epoch 156: 272batch [00:30,  8.93batch/s, loss=211]\n"
     ]
    },
    {
     "name": "stdout",
     "output_type": "stream",
     "text": [
      "epoch 156: avg train loss 206.03, bar train loss 2.375, len train loss 0.017, col train loss 152.711\n"
     ]
    },
    {
     "name": "stderr",
     "output_type": "stream",
     "text": [
      "Epoch 157: 1batch [00:00,  8.85batch/s, loss=198]"
     ]
    },
    {
     "name": "stdout",
     "output_type": "stream",
     "text": [
      "epoch 156: avg test  loss 279.10, bar  test loss 3.346, len  test loss 0.476, col  test loss 160.521\n"
     ]
    },
    {
     "name": "stderr",
     "output_type": "stream",
     "text": [
      "Epoch 157: 272batch [00:30,  8.91batch/s, loss=199]\n"
     ]
    },
    {
     "name": "stdout",
     "output_type": "stream",
     "text": [
      "epoch 157: avg train loss 205.91, bar train loss 2.375, len train loss 0.017, col train loss 152.679\n"
     ]
    },
    {
     "name": "stderr",
     "output_type": "stream",
     "text": [
      "Epoch 158: 1batch [00:00,  8.77batch/s, loss=199]"
     ]
    },
    {
     "name": "stdout",
     "output_type": "stream",
     "text": [
      "epoch 157: avg test  loss 279.96, bar  test loss 3.349, len  test loss 0.482, col  test loss 160.536\n"
     ]
    },
    {
     "name": "stderr",
     "output_type": "stream",
     "text": [
      "Epoch 158: 272batch [00:31,  8.74batch/s, loss=209]\n"
     ]
    },
    {
     "name": "stdout",
     "output_type": "stream",
     "text": [
      "epoch 158: avg train loss 205.70, bar train loss 2.364, len train loss 0.017, col train loss 152.629\n"
     ]
    },
    {
     "name": "stderr",
     "output_type": "stream",
     "text": [
      "Epoch 159: 1batch [00:00,  8.62batch/s, loss=205]"
     ]
    },
    {
     "name": "stdout",
     "output_type": "stream",
     "text": [
      "epoch 158: avg test  loss 274.72, bar  test loss 3.363, len  test loss 0.417, col  test loss 160.507\n"
     ]
    },
    {
     "name": "stderr",
     "output_type": "stream",
     "text": [
      "Epoch 159: 272batch [00:30,  8.84batch/s, loss=214]\n"
     ]
    },
    {
     "name": "stdout",
     "output_type": "stream",
     "text": [
      "epoch 159: avg train loss 205.88, bar train loss 2.365, len train loss 0.018, col train loss 152.641\n"
     ]
    },
    {
     "name": "stderr",
     "output_type": "stream",
     "text": [
      "Epoch 160: 1batch [00:00,  8.62batch/s, loss=203]"
     ]
    },
    {
     "name": "stdout",
     "output_type": "stream",
     "text": [
      "epoch 159: avg test  loss 274.25, bar  test loss 3.342, len  test loss 0.427, col  test loss 160.455\n"
     ]
    },
    {
     "name": "stderr",
     "output_type": "stream",
     "text": [
      "Epoch 160: 272batch [00:31,  8.77batch/s, loss=231]\n"
     ]
    },
    {
     "name": "stdout",
     "output_type": "stream",
     "text": [
      "epoch 160: avg train loss 205.36, bar train loss 2.355, len train loss 0.017, col train loss 152.531\n",
      "epoch 160: avg test  loss 280.33, bar  test loss 3.345, len  test loss 0.482, col  test loss 160.499\n"
     ]
    },
    {
     "name": "stderr",
     "output_type": "stream",
     "text": [
      "Epoch 161: 272batch [00:30,  8.82batch/s, loss=215]\n"
     ]
    },
    {
     "name": "stdout",
     "output_type": "stream",
     "text": [
      "epoch 161: avg train loss 205.22, bar train loss 2.353, len train loss 0.016, col train loss 152.505\n"
     ]
    },
    {
     "name": "stderr",
     "output_type": "stream",
     "text": [
      "Epoch 162: 1batch [00:00,  8.93batch/s, loss=214]"
     ]
    },
    {
     "name": "stdout",
     "output_type": "stream",
     "text": [
      "epoch 161: avg test  loss 275.44, bar  test loss 3.365, len  test loss 0.435, col  test loss 160.549\n"
     ]
    },
    {
     "name": "stderr",
     "output_type": "stream",
     "text": [
      "Epoch 162: 272batch [00:30,  8.80batch/s, loss=203]\n"
     ]
    },
    {
     "name": "stdout",
     "output_type": "stream",
     "text": [
      "epoch 162: avg train loss 204.89, bar train loss 2.344, len train loss 0.016, col train loss 152.432\n"
     ]
    },
    {
     "name": "stderr",
     "output_type": "stream",
     "text": [
      "Epoch 163: 1batch [00:00,  8.77batch/s, loss=210]"
     ]
    },
    {
     "name": "stdout",
     "output_type": "stream",
     "text": [
      "epoch 162: avg test  loss 276.95, bar  test loss 3.375, len  test loss 0.440, col  test loss 160.606\n"
     ]
    },
    {
     "name": "stderr",
     "output_type": "stream",
     "text": [
      "Epoch 163: 272batch [00:30,  8.82batch/s, loss=216]\n"
     ]
    },
    {
     "name": "stdout",
     "output_type": "stream",
     "text": [
      "epoch 163: avg train loss 205.00, bar train loss 2.345, len train loss 0.017, col train loss 152.429\n"
     ]
    },
    {
     "name": "stderr",
     "output_type": "stream",
     "text": [
      "Epoch 164: 1batch [00:00,  8.70batch/s, loss=208]"
     ]
    },
    {
     "name": "stdout",
     "output_type": "stream",
     "text": [
      "epoch 163: avg test  loss 287.18, bar  test loss 3.387, len  test loss 0.546, col  test loss 160.660\n"
     ]
    },
    {
     "name": "stderr",
     "output_type": "stream",
     "text": [
      "Epoch 164: 272batch [00:30,  8.88batch/s, loss=221]\n"
     ]
    },
    {
     "name": "stdout",
     "output_type": "stream",
     "text": [
      "epoch 164: avg train loss 204.81, bar train loss 2.338, len train loss 0.017, col train loss 152.410\n"
     ]
    },
    {
     "name": "stderr",
     "output_type": "stream",
     "text": [
      "Epoch 165: 1batch [00:00,  8.85batch/s, loss=195]"
     ]
    },
    {
     "name": "stdout",
     "output_type": "stream",
     "text": [
      "epoch 164: avg test  loss 279.88, bar  test loss 3.389, len  test loss 0.477, col  test loss 160.580\n"
     ]
    },
    {
     "name": "stderr",
     "output_type": "stream",
     "text": [
      "Epoch 165: 272batch [00:30,  8.85batch/s, loss=204]\n"
     ]
    },
    {
     "name": "stdout",
     "output_type": "stream",
     "text": [
      "epoch 165: avg train loss 204.80, bar train loss 2.339, len train loss 0.017, col train loss 152.349\n",
      "epoch 165: avg test  loss 279.37, bar  test loss 3.392, len  test loss 0.470, col  test loss 160.665\n"
     ]
    },
    {
     "name": "stderr",
     "output_type": "stream",
     "text": [
      "Epoch 166: 272batch [00:30,  8.87batch/s, loss=205]\n"
     ]
    },
    {
     "name": "stdout",
     "output_type": "stream",
     "text": [
      "epoch 166: avg train loss 204.50, bar train loss 2.332, len train loss 0.016, col train loss 152.300\n"
     ]
    },
    {
     "name": "stderr",
     "output_type": "stream",
     "text": [
      "Epoch 167: 1batch [00:00,  8.70batch/s, loss=194]"
     ]
    },
    {
     "name": "stdout",
     "output_type": "stream",
     "text": [
      "epoch 166: avg test  loss 284.26, bar  test loss 3.389, len  test loss 0.519, col  test loss 160.613\n"
     ]
    },
    {
     "name": "stderr",
     "output_type": "stream",
     "text": [
      "Epoch 167: 272batch [00:30,  8.85batch/s, loss=219]\n"
     ]
    },
    {
     "name": "stdout",
     "output_type": "stream",
     "text": [
      "epoch 167: avg train loss 204.45, bar train loss 2.330, len train loss 0.016, col train loss 152.279\n"
     ]
    },
    {
     "name": "stderr",
     "output_type": "stream",
     "text": [
      "Epoch 168: 1batch [00:00,  8.33batch/s, loss=206]"
     ]
    },
    {
     "name": "stdout",
     "output_type": "stream",
     "text": [
      "epoch 167: avg test  loss 282.33, bar  test loss 3.404, len  test loss 0.478, col  test loss 160.663\n"
     ]
    },
    {
     "name": "stderr",
     "output_type": "stream",
     "text": [
      "Epoch 168: 272batch [00:30,  8.86batch/s, loss=193]\n"
     ]
    },
    {
     "name": "stdout",
     "output_type": "stream",
     "text": [
      "epoch 168: avg train loss 204.39, bar train loss 2.329, len train loss 0.016, col train loss 152.248\n"
     ]
    },
    {
     "name": "stderr",
     "output_type": "stream",
     "text": [
      "Epoch 169: 1batch [00:00,  8.77batch/s, loss=202]"
     ]
    },
    {
     "name": "stdout",
     "output_type": "stream",
     "text": [
      "epoch 168: avg test  loss 282.26, bar  test loss 3.406, len  test loss 0.495, col  test loss 160.688\n"
     ]
    },
    {
     "name": "stderr",
     "output_type": "stream",
     "text": [
      "Epoch 169: 272batch [00:30,  8.84batch/s, loss=205]\n"
     ]
    },
    {
     "name": "stdout",
     "output_type": "stream",
     "text": [
      "epoch 169: avg train loss 204.42, bar train loss 2.326, len train loss 0.017, col train loss 152.263\n"
     ]
    },
    {
     "name": "stderr",
     "output_type": "stream",
     "text": [
      "Epoch 170: 1batch [00:00,  8.62batch/s, loss=208]"
     ]
    },
    {
     "name": "stdout",
     "output_type": "stream",
     "text": [
      "epoch 169: avg test  loss 284.50, bar  test loss 3.410, len  test loss 0.516, col  test loss 160.691\n"
     ]
    },
    {
     "name": "stderr",
     "output_type": "stream",
     "text": [
      "Epoch 170: 272batch [00:30,  8.84batch/s, loss=214]\n"
     ]
    },
    {
     "name": "stdout",
     "output_type": "stream",
     "text": [
      "epoch 170: avg train loss 203.99, bar train loss 2.314, len train loss 0.016, col train loss 152.163\n",
      "epoch 170: avg test  loss 279.82, bar  test loss 3.394, len  test loss 0.463, col  test loss 160.768\n"
     ]
    },
    {
     "name": "stderr",
     "output_type": "stream",
     "text": [
      "Epoch 171: 272batch [00:31,  8.64batch/s, loss=218]\n"
     ]
    },
    {
     "name": "stdout",
     "output_type": "stream",
     "text": [
      "epoch 171: avg train loss 203.93, bar train loss 2.312, len train loss 0.017, col train loss 152.144\n"
     ]
    },
    {
     "name": "stderr",
     "output_type": "stream",
     "text": [
      "Epoch 172: 1batch [00:00,  8.70batch/s, loss=210]"
     ]
    },
    {
     "name": "stdout",
     "output_type": "stream",
     "text": [
      "epoch 171: avg test  loss 277.59, bar  test loss 3.415, len  test loss 0.449, col  test loss 160.764\n"
     ]
    },
    {
     "name": "stderr",
     "output_type": "stream",
     "text": [
      "Epoch 172: 272batch [00:30,  8.85batch/s, loss=203]\n"
     ]
    },
    {
     "name": "stdout",
     "output_type": "stream",
     "text": [
      "epoch 172: avg train loss 203.91, bar train loss 2.311, len train loss 0.017, col train loss 152.125\n"
     ]
    },
    {
     "name": "stderr",
     "output_type": "stream",
     "text": [
      "Epoch 173: 1batch [00:00,  8.62batch/s, loss=208]"
     ]
    },
    {
     "name": "stdout",
     "output_type": "stream",
     "text": [
      "epoch 172: avg test  loss 278.49, bar  test loss 3.398, len  test loss 0.460, col  test loss 160.692\n"
     ]
    },
    {
     "name": "stderr",
     "output_type": "stream",
     "text": [
      "Epoch 173: 272batch [00:30,  8.81batch/s, loss=213]\n"
     ]
    },
    {
     "name": "stdout",
     "output_type": "stream",
     "text": [
      "epoch 173: avg train loss 203.61, bar train loss 2.305, len train loss 0.016, col train loss 152.067\n"
     ]
    },
    {
     "name": "stderr",
     "output_type": "stream",
     "text": [
      "Epoch 174: 1batch [00:00,  8.13batch/s, loss=209]"
     ]
    },
    {
     "name": "stdout",
     "output_type": "stream",
     "text": [
      "epoch 173: avg test  loss 283.25, bar  test loss 3.412, len  test loss 0.496, col  test loss 160.831\n"
     ]
    },
    {
     "name": "stderr",
     "output_type": "stream",
     "text": [
      "Epoch 174: 272batch [00:30,  8.81batch/s, loss=198]\n"
     ]
    },
    {
     "name": "stdout",
     "output_type": "stream",
     "text": [
      "epoch 174: avg train loss 203.62, bar train loss 2.305, len train loss 0.016, col train loss 152.027\n"
     ]
    },
    {
     "name": "stderr",
     "output_type": "stream",
     "text": [
      "Epoch 175: 1batch [00:00,  6.85batch/s, loss=204]"
     ]
    },
    {
     "name": "stdout",
     "output_type": "stream",
     "text": [
      "epoch 174: avg test  loss 285.15, bar  test loss 3.429, len  test loss 0.512, col  test loss 160.745\n"
     ]
    },
    {
     "name": "stderr",
     "output_type": "stream",
     "text": [
      "Epoch 175: 272batch [00:32,  8.34batch/s, loss=214]\n"
     ]
    },
    {
     "name": "stdout",
     "output_type": "stream",
     "text": [
      "epoch 175: avg train loss 203.44, bar train loss 2.300, len train loss 0.016, col train loss 152.016\n",
      "epoch 175: avg test  loss 279.09, bar  test loss 3.400, len  test loss 0.461, col  test loss 160.824\n"
     ]
    },
    {
     "name": "stderr",
     "output_type": "stream",
     "text": [
      "Epoch 176: 272batch [00:30,  8.81batch/s, loss=215]\n"
     ]
    },
    {
     "name": "stdout",
     "output_type": "stream",
     "text": [
      "epoch 176: avg train loss 203.52, bar train loss 2.303, len train loss 0.016, col train loss 151.983\n"
     ]
    },
    {
     "name": "stderr",
     "output_type": "stream",
     "text": [
      "Epoch 177: 1batch [00:00,  8.77batch/s, loss=204]"
     ]
    },
    {
     "name": "stdout",
     "output_type": "stream",
     "text": [
      "epoch 176: avg test  loss 276.50, bar  test loss 3.424, len  test loss 0.435, col  test loss 160.784\n"
     ]
    },
    {
     "name": "stderr",
     "output_type": "stream",
     "text": [
      "Epoch 177: 272batch [00:30,  8.82batch/s, loss=201]\n"
     ]
    },
    {
     "name": "stdout",
     "output_type": "stream",
     "text": [
      "epoch 177: avg train loss 203.12, bar train loss 2.287, len train loss 0.016, col train loss 151.937\n"
     ]
    },
    {
     "name": "stderr",
     "output_type": "stream",
     "text": [
      "Epoch 178: 1batch [00:00,  8.33batch/s, loss=197]"
     ]
    },
    {
     "name": "stdout",
     "output_type": "stream",
     "text": [
      "epoch 177: avg test  loss 275.49, bar  test loss 3.408, len  test loss 0.428, col  test loss 160.713\n"
     ]
    },
    {
     "name": "stderr",
     "output_type": "stream",
     "text": [
      "Epoch 178: 272batch [00:30,  8.79batch/s, loss=227]\n"
     ]
    },
    {
     "name": "stdout",
     "output_type": "stream",
     "text": [
      "epoch 178: avg train loss 203.05, bar train loss 2.287, len train loss 0.016, col train loss 151.904\n"
     ]
    },
    {
     "name": "stderr",
     "output_type": "stream",
     "text": [
      "Epoch 179: 1batch [00:00,  8.62batch/s, loss=199]"
     ]
    },
    {
     "name": "stdout",
     "output_type": "stream",
     "text": [
      "epoch 178: avg test  loss 279.80, bar  test loss 3.443, len  test loss 0.460, col  test loss 160.811\n"
     ]
    },
    {
     "name": "stderr",
     "output_type": "stream",
     "text": [
      "Epoch 179: 272batch [00:30,  8.83batch/s, loss=215]\n"
     ]
    },
    {
     "name": "stdout",
     "output_type": "stream",
     "text": [
      "epoch 179: avg train loss 203.03, bar train loss 2.285, len train loss 0.016, col train loss 151.863\n"
     ]
    },
    {
     "name": "stderr",
     "output_type": "stream",
     "text": [
      "Epoch 180: 1batch [00:00,  8.62batch/s, loss=211]"
     ]
    },
    {
     "name": "stdout",
     "output_type": "stream",
     "text": [
      "epoch 179: avg test  loss 279.15, bar  test loss 3.447, len  test loss 0.429, col  test loss 160.857\n"
     ]
    },
    {
     "name": "stderr",
     "output_type": "stream",
     "text": [
      "Epoch 180: 272batch [00:30,  8.83batch/s, loss=218]\n"
     ]
    },
    {
     "name": "stdout",
     "output_type": "stream",
     "text": [
      "epoch 180: avg train loss 202.99, bar train loss 2.284, len train loss 0.015, col train loss 151.872\n",
      "epoch 180: avg test  loss 279.07, bar  test loss 3.433, len  test loss 0.453, col  test loss 160.832\n"
     ]
    },
    {
     "name": "stderr",
     "output_type": "stream",
     "text": [
      "Epoch 181: 272batch [00:30,  8.82batch/s, loss=222]\n"
     ]
    },
    {
     "name": "stdout",
     "output_type": "stream",
     "text": [
      "epoch 181: avg train loss 202.80, bar train loss 2.281, len train loss 0.015, col train loss 151.804\n"
     ]
    },
    {
     "name": "stderr",
     "output_type": "stream",
     "text": [
      "Epoch 182: 1batch [00:00,  8.85batch/s, loss=198]"
     ]
    },
    {
     "name": "stdout",
     "output_type": "stream",
     "text": [
      "epoch 181: avg test  loss 281.48, bar  test loss 3.432, len  test loss 0.479, col  test loss 160.867\n"
     ]
    },
    {
     "name": "stderr",
     "output_type": "stream",
     "text": [
      "Epoch 182: 272batch [00:30,  8.83batch/s, loss=209]\n"
     ]
    },
    {
     "name": "stdout",
     "output_type": "stream",
     "text": [
      "epoch 182: avg train loss 202.60, bar train loss 2.274, len train loss 0.015, col train loss 151.768\n"
     ]
    },
    {
     "name": "stderr",
     "output_type": "stream",
     "text": [
      "Epoch 183: 1batch [00:00,  8.70batch/s, loss=199]"
     ]
    },
    {
     "name": "stdout",
     "output_type": "stream",
     "text": [
      "epoch 182: avg test  loss 282.46, bar  test loss 3.434, len  test loss 0.493, col  test loss 160.854\n"
     ]
    },
    {
     "name": "stderr",
     "output_type": "stream",
     "text": [
      "Epoch 183: 272batch [00:30,  8.84batch/s, loss=206]\n"
     ]
    },
    {
     "name": "stdout",
     "output_type": "stream",
     "text": [
      "epoch 183: avg train loss 202.45, bar train loss 2.269, len train loss 0.016, col train loss 151.753\n"
     ]
    },
    {
     "name": "stderr",
     "output_type": "stream",
     "text": [
      "Epoch 184: 1batch [00:00,  8.85batch/s, loss=205]"
     ]
    },
    {
     "name": "stdout",
     "output_type": "stream",
     "text": [
      "epoch 183: avg test  loss 279.72, bar  test loss 3.439, len  test loss 0.463, col  test loss 160.982\n"
     ]
    },
    {
     "name": "stderr",
     "output_type": "stream",
     "text": [
      "Epoch 184: 272batch [00:30,  8.87batch/s, loss=194]\n"
     ]
    },
    {
     "name": "stdout",
     "output_type": "stream",
     "text": [
      "epoch 184: avg train loss 202.44, bar train loss 2.270, len train loss 0.015, col train loss 151.723\n"
     ]
    },
    {
     "name": "stderr",
     "output_type": "stream",
     "text": [
      "Epoch 185: 1batch [00:00,  8.62batch/s, loss=210]"
     ]
    },
    {
     "name": "stdout",
     "output_type": "stream",
     "text": [
      "epoch 184: avg test  loss 281.17, bar  test loss 3.450, len  test loss 0.475, col  test loss 160.913\n"
     ]
    },
    {
     "name": "stderr",
     "output_type": "stream",
     "text": [
      "Epoch 185: 272batch [00:40,  6.72batch/s, loss=232]\n"
     ]
    },
    {
     "name": "stdout",
     "output_type": "stream",
     "text": [
      "epoch 185: avg train loss 202.40, bar train loss 2.270, len train loss 0.016, col train loss 151.699\n",
      "epoch 185: avg test  loss 285.14, bar  test loss 3.451, len  test loss 0.514, col  test loss 160.904\n"
     ]
    },
    {
     "name": "stderr",
     "output_type": "stream",
     "text": [
      "Epoch 186: 272batch [00:34,  7.83batch/s, loss=189]\n"
     ]
    },
    {
     "name": "stdout",
     "output_type": "stream",
     "text": [
      "epoch 186: avg train loss 202.14, bar train loss 2.260, len train loss 0.016, col train loss 151.639\n"
     ]
    },
    {
     "name": "stderr",
     "output_type": "stream",
     "text": [
      "Epoch 187: 1batch [00:00,  6.45batch/s, loss=202]"
     ]
    },
    {
     "name": "stdout",
     "output_type": "stream",
     "text": [
      "epoch 186: avg test  loss 278.72, bar  test loss 3.457, len  test loss 0.452, col  test loss 160.994\n"
     ]
    },
    {
     "name": "stderr",
     "output_type": "stream",
     "text": [
      "Epoch 187: 272batch [00:43,  6.22batch/s, loss=202]\n"
     ]
    },
    {
     "name": "stdout",
     "output_type": "stream",
     "text": [
      "epoch 187: avg train loss 201.90, bar train loss 2.254, len train loss 0.015, col train loss 151.591\n"
     ]
    },
    {
     "name": "stderr",
     "output_type": "stream",
     "text": [
      "Epoch 188: 1batch [00:00,  7.14batch/s, loss=198]"
     ]
    },
    {
     "name": "stdout",
     "output_type": "stream",
     "text": [
      "epoch 187: avg test  loss 287.08, bar  test loss 3.465, len  test loss 0.530, col  test loss 161.006\n"
     ]
    },
    {
     "name": "stderr",
     "output_type": "stream",
     "text": [
      "Epoch 188: 272batch [00:44,  6.15batch/s, loss=227]\n"
     ]
    },
    {
     "name": "stdout",
     "output_type": "stream",
     "text": [
      "epoch 188: avg train loss 202.01, bar train loss 2.259, len train loss 0.016, col train loss 151.580\n"
     ]
    },
    {
     "name": "stderr",
     "output_type": "stream",
     "text": [
      "Epoch 189: 1batch [00:00,  5.92batch/s, loss=202]"
     ]
    },
    {
     "name": "stdout",
     "output_type": "stream",
     "text": [
      "epoch 188: avg test  loss 285.12, bar  test loss 3.472, len  test loss 0.486, col  test loss 161.064\n"
     ]
    },
    {
     "name": "stderr",
     "output_type": "stream",
     "text": [
      "Epoch 189: 272batch [00:43,  6.21batch/s, loss=209]\n"
     ]
    },
    {
     "name": "stdout",
     "output_type": "stream",
     "text": [
      "epoch 189: avg train loss 202.10, bar train loss 2.262, len train loss 0.016, col train loss 151.548\n"
     ]
    },
    {
     "name": "stderr",
     "output_type": "stream",
     "text": [
      "\r",
      "Epoch 190: 0batch [00:00, ?batch/s]"
     ]
    },
    {
     "name": "stdout",
     "output_type": "stream",
     "text": [
      "epoch 189: avg test  loss 282.73, bar  test loss 3.449, len  test loss 0.491, col  test loss 160.927\n"
     ]
    },
    {
     "name": "stderr",
     "output_type": "stream",
     "text": [
      "Epoch 190: 272batch [00:43,  6.20batch/s, loss=197]\n"
     ]
    },
    {
     "name": "stdout",
     "output_type": "stream",
     "text": [
      "epoch 190: avg train loss 201.94, bar train loss 2.259, len train loss 0.015, col train loss 151.510\n",
      "epoch 190: avg test  loss 282.63, bar  test loss 3.478, len  test loss 0.485, col  test loss 161.047\n"
     ]
    },
    {
     "name": "stderr",
     "output_type": "stream",
     "text": [
      "Epoch 191: 272batch [00:44,  6.13batch/s, loss=199]\n"
     ]
    },
    {
     "name": "stdout",
     "output_type": "stream",
     "text": [
      "epoch 191: avg train loss 201.52, bar train loss 2.242, len train loss 0.015, col train loss 151.500\n"
     ]
    },
    {
     "name": "stderr",
     "output_type": "stream",
     "text": [
      "Epoch 192: 1batch [00:00,  6.33batch/s, loss=201]"
     ]
    },
    {
     "name": "stdout",
     "output_type": "stream",
     "text": [
      "epoch 191: avg test  loss 284.99, bar  test loss 3.456, len  test loss 0.512, col  test loss 160.931\n"
     ]
    },
    {
     "name": "stderr",
     "output_type": "stream",
     "text": [
      "Epoch 192: 272batch [00:50,  5.40batch/s, loss=197]\n"
     ]
    },
    {
     "name": "stdout",
     "output_type": "stream",
     "text": [
      "epoch 192: avg train loss 201.42, bar train loss 2.239, len train loss 0.015, col train loss 151.459\n"
     ]
    },
    {
     "name": "stderr",
     "output_type": "stream",
     "text": [
      "Epoch 193: 1batch [00:00,  6.54batch/s, loss=197]"
     ]
    },
    {
     "name": "stdout",
     "output_type": "stream",
     "text": [
      "epoch 192: avg test  loss 280.14, bar  test loss 3.493, len  test loss 0.457, col  test loss 160.984\n"
     ]
    },
    {
     "name": "stderr",
     "output_type": "stream",
     "text": [
      "Epoch 193: 272batch [00:41,  6.56batch/s, loss=205]\n"
     ]
    },
    {
     "name": "stdout",
     "output_type": "stream",
     "text": [
      "epoch 193: avg train loss 201.72, bar train loss 2.247, len train loss 0.016, col train loss 151.476\n"
     ]
    },
    {
     "name": "stderr",
     "output_type": "stream",
     "text": [
      "Epoch 194: 1batch [00:00,  5.95batch/s, loss=208]"
     ]
    },
    {
     "name": "stdout",
     "output_type": "stream",
     "text": [
      "epoch 193: avg test  loss 283.69, bar  test loss 3.479, len  test loss 0.484, col  test loss 161.058\n"
     ]
    },
    {
     "name": "stderr",
     "output_type": "stream",
     "text": [
      "Epoch 194: 272batch [00:39,  6.81batch/s, loss=214]\n"
     ]
    },
    {
     "name": "stdout",
     "output_type": "stream",
     "text": [
      "epoch 194: avg train loss 201.41, bar train loss 2.240, len train loss 0.015, col train loss 151.424\n"
     ]
    },
    {
     "name": "stderr",
     "output_type": "stream",
     "text": [
      "Epoch 195: 1batch [00:00,  6.54batch/s, loss=208]"
     ]
    },
    {
     "name": "stdout",
     "output_type": "stream",
     "text": [
      "epoch 194: avg test  loss 280.98, bar  test loss 3.465, len  test loss 0.460, col  test loss 160.970\n"
     ]
    },
    {
     "name": "stderr",
     "output_type": "stream",
     "text": [
      "Epoch 195: 272batch [00:42,  6.43batch/s, loss=219]\n"
     ]
    },
    {
     "name": "stdout",
     "output_type": "stream",
     "text": [
      "epoch 195: avg train loss 201.26, bar train loss 2.237, len train loss 0.015, col train loss 151.390\n",
      "epoch 195: avg test  loss 285.00, bar  test loss 3.502, len  test loss 0.503, col  test loss 161.036\n"
     ]
    },
    {
     "name": "stderr",
     "output_type": "stream",
     "text": [
      "Epoch 196: 272batch [00:44,  6.14batch/s, loss=213]\n"
     ]
    },
    {
     "name": "stdout",
     "output_type": "stream",
     "text": [
      "epoch 196: avg train loss 201.21, bar train loss 2.234, len train loss 0.015, col train loss 151.364\n"
     ]
    },
    {
     "name": "stderr",
     "output_type": "stream",
     "text": [
      "Epoch 197: 1batch [00:00,  5.99batch/s, loss=203]"
     ]
    },
    {
     "name": "stdout",
     "output_type": "stream",
     "text": [
      "epoch 196: avg test  loss 283.78, bar  test loss 3.491, len  test loss 0.493, col  test loss 161.002\n"
     ]
    },
    {
     "name": "stderr",
     "output_type": "stream",
     "text": [
      "Epoch 197: 272batch [00:43,  6.24batch/s, loss=212]\n"
     ]
    },
    {
     "name": "stdout",
     "output_type": "stream",
     "text": [
      "epoch 197: avg train loss 201.11, bar train loss 2.233, len train loss 0.015, col train loss 151.311\n"
     ]
    },
    {
     "name": "stderr",
     "output_type": "stream",
     "text": [
      "Epoch 198: 1batch [00:00,  6.21batch/s, loss=199]"
     ]
    },
    {
     "name": "stdout",
     "output_type": "stream",
     "text": [
      "epoch 197: avg test  loss 281.04, bar  test loss 3.499, len  test loss 0.465, col  test loss 161.081\n"
     ]
    },
    {
     "name": "stderr",
     "output_type": "stream",
     "text": [
      "Epoch 198: 272batch [00:40,  6.73batch/s, loss=213]\n"
     ]
    },
    {
     "name": "stdout",
     "output_type": "stream",
     "text": [
      "epoch 198: avg train loss 201.00, bar train loss 2.227, len train loss 0.015, col train loss 151.306\n"
     ]
    },
    {
     "name": "stderr",
     "output_type": "stream",
     "text": [
      "Epoch 199: 1batch [00:00,  5.88batch/s, loss=192]"
     ]
    },
    {
     "name": "stdout",
     "output_type": "stream",
     "text": [
      "epoch 198: avg test  loss 284.11, bar  test loss 3.521, len  test loss 0.480, col  test loss 161.145\n"
     ]
    },
    {
     "name": "stderr",
     "output_type": "stream",
     "text": [
      "Epoch 199: 272batch [00:41,  6.62batch/s, loss=196]\n"
     ]
    },
    {
     "name": "stdout",
     "output_type": "stream",
     "text": [
      "epoch 199: avg train loss 201.10, bar train loss 2.228, len train loss 0.016, col train loss 151.314\n"
     ]
    },
    {
     "name": "stderr",
     "output_type": "stream",
     "text": [
      "Epoch 200: 1batch [00:00,  6.67batch/s, loss=192]"
     ]
    },
    {
     "name": "stdout",
     "output_type": "stream",
     "text": [
      "epoch 199: avg test  loss 283.88, bar  test loss 3.497, len  test loss 0.490, col  test loss 161.174\n"
     ]
    },
    {
     "name": "stderr",
     "output_type": "stream",
     "text": [
      "Epoch 200: 272batch [00:39,  6.85batch/s, loss=201]\n"
     ]
    },
    {
     "name": "stdout",
     "output_type": "stream",
     "text": [
      "epoch 200: avg train loss 200.80, bar train loss 2.223, len train loss 0.015, col train loss 151.269\n",
      "epoch 200: avg test  loss 284.70, bar  test loss 3.512, len  test loss 0.497, col  test loss 161.073\n"
     ]
    },
    {
     "name": "stderr",
     "output_type": "stream",
     "text": [
      "Epoch 201: 272batch [00:41,  6.60batch/s, loss=212]\n"
     ]
    },
    {
     "name": "stdout",
     "output_type": "stream",
     "text": [
      "epoch 201: avg train loss 200.64, bar train loss 2.219, len train loss 0.014, col train loss 151.210\n"
     ]
    },
    {
     "name": "stderr",
     "output_type": "stream",
     "text": [
      "Epoch 202: 1batch [00:00,  7.81batch/s, loss=201]"
     ]
    },
    {
     "name": "stdout",
     "output_type": "stream",
     "text": [
      "epoch 201: avg test  loss 280.92, bar  test loss 3.494, len  test loss 0.464, col  test loss 161.220\n"
     ]
    },
    {
     "name": "stderr",
     "output_type": "stream",
     "text": [
      "Epoch 202: 272batch [00:41,  6.62batch/s, loss=211]\n"
     ]
    },
    {
     "name": "stdout",
     "output_type": "stream",
     "text": [
      "epoch 202: avg train loss 200.64, bar train loss 2.221, len train loss 0.014, col train loss 151.199\n"
     ]
    },
    {
     "name": "stderr",
     "output_type": "stream",
     "text": [
      "\r",
      "Epoch 203: 0batch [00:00, ?batch/s]"
     ]
    },
    {
     "name": "stdout",
     "output_type": "stream",
     "text": [
      "epoch 202: avg test  loss 285.46, bar  test loss 3.493, len  test loss 0.491, col  test loss 161.163\n"
     ]
    },
    {
     "name": "stderr",
     "output_type": "stream",
     "text": [
      "Epoch 203: 272batch [00:45,  6.04batch/s, loss=209]\n"
     ]
    },
    {
     "name": "stdout",
     "output_type": "stream",
     "text": [
      "epoch 203: avg train loss 200.68, bar train loss 2.221, len train loss 0.015, col train loss 151.164\n"
     ]
    },
    {
     "name": "stderr",
     "output_type": "stream",
     "text": [
      "\r",
      "Epoch 204: 0batch [00:00, ?batch/s]"
     ]
    },
    {
     "name": "stdout",
     "output_type": "stream",
     "text": [
      "epoch 203: avg test  loss 283.33, bar  test loss 3.495, len  test loss 0.483, col  test loss 161.161\n"
     ]
    },
    {
     "name": "stderr",
     "output_type": "stream",
     "text": [
      "Epoch 204: 272batch [00:44,  6.08batch/s, loss=199]\n"
     ]
    },
    {
     "name": "stdout",
     "output_type": "stream",
     "text": [
      "epoch 204: avg train loss 200.55, bar train loss 2.212, len train loss 0.016, col train loss 151.155\n"
     ]
    },
    {
     "name": "stderr",
     "output_type": "stream",
     "text": [
      "Epoch 205: 1batch [00:00,  7.14batch/s, loss=196]"
     ]
    },
    {
     "name": "stdout",
     "output_type": "stream",
     "text": [
      "epoch 204: avg test  loss 278.61, bar  test loss 3.511, len  test loss 0.420, col  test loss 161.165\n"
     ]
    },
    {
     "name": "stderr",
     "output_type": "stream",
     "text": [
      "Epoch 205: 272batch [00:44,  6.11batch/s, loss=189]\n"
     ]
    },
    {
     "name": "stdout",
     "output_type": "stream",
     "text": [
      "epoch 205: avg train loss 200.61, bar train loss 2.216, len train loss 0.015, col train loss 151.164\n",
      "epoch 205: avg test  loss 285.01, bar  test loss 3.509, len  test loss 0.483, col  test loss 161.185\n"
     ]
    },
    {
     "name": "stderr",
     "output_type": "stream",
     "text": [
      "Epoch 206: 272batch [00:41,  6.49batch/s, loss=197]\n"
     ]
    },
    {
     "name": "stdout",
     "output_type": "stream",
     "text": [
      "epoch 206: avg train loss 200.37, bar train loss 2.211, len train loss 0.014, col train loss 151.118\n"
     ]
    },
    {
     "name": "stderr",
     "output_type": "stream",
     "text": [
      "Epoch 207: 1batch [00:00,  6.99batch/s, loss=195]"
     ]
    },
    {
     "name": "stdout",
     "output_type": "stream",
     "text": [
      "epoch 206: avg test  loss 281.88, bar  test loss 3.508, len  test loss 0.471, col  test loss 161.165\n"
     ]
    },
    {
     "name": "stderr",
     "output_type": "stream",
     "text": [
      "Epoch 207: 272batch [00:44,  6.13batch/s, loss=210]\n"
     ]
    },
    {
     "name": "stdout",
     "output_type": "stream",
     "text": [
      "epoch 207: avg train loss 200.11, bar train loss 2.205, len train loss 0.014, col train loss 151.061\n"
     ]
    },
    {
     "name": "stderr",
     "output_type": "stream",
     "text": [
      "Epoch 208: 1batch [00:00,  6.33batch/s, loss=202]"
     ]
    },
    {
     "name": "stdout",
     "output_type": "stream",
     "text": [
      "epoch 207: avg test  loss 278.55, bar  test loss 3.516, len  test loss 0.417, col  test loss 161.085\n"
     ]
    },
    {
     "name": "stderr",
     "output_type": "stream",
     "text": [
      "Epoch 208: 272batch [00:41,  6.54batch/s, loss=196]\n"
     ]
    },
    {
     "name": "stdout",
     "output_type": "stream",
     "text": [
      "epoch 208: avg train loss 200.29, bar train loss 2.209, len train loss 0.015, col train loss 151.068\n"
     ]
    },
    {
     "name": "stderr",
     "output_type": "stream",
     "text": [
      "\r",
      "Epoch 209: 0batch [00:00, ?batch/s]"
     ]
    },
    {
     "name": "stdout",
     "output_type": "stream",
     "text": [
      "epoch 208: avg test  loss 284.20, bar  test loss 3.521, len  test loss 0.491, col  test loss 161.223\n"
     ]
    },
    {
     "name": "stderr",
     "output_type": "stream",
     "text": [
      "Epoch 209: 272batch [00:41,  6.55batch/s, loss=199]\n"
     ]
    },
    {
     "name": "stdout",
     "output_type": "stream",
     "text": [
      "epoch 209: avg train loss 200.10, bar train loss 2.204, len train loss 0.015, col train loss 151.044\n"
     ]
    },
    {
     "name": "stderr",
     "output_type": "stream",
     "text": [
      "Epoch 210: 1batch [00:00,  6.45batch/s, loss=193]"
     ]
    },
    {
     "name": "stdout",
     "output_type": "stream",
     "text": [
      "epoch 209: avg test  loss 283.16, bar  test loss 3.528, len  test loss 0.479, col  test loss 161.257\n"
     ]
    },
    {
     "name": "stderr",
     "output_type": "stream",
     "text": [
      "Epoch 210: 272batch [00:40,  6.66batch/s, loss=196]\n"
     ]
    },
    {
     "name": "stdout",
     "output_type": "stream",
     "text": [
      "epoch 210: avg train loss 200.00, bar train loss 2.200, len train loss 0.015, col train loss 150.998\n",
      "epoch 210: avg test  loss 281.21, bar  test loss 3.519, len  test loss 0.459, col  test loss 161.211\n"
     ]
    },
    {
     "name": "stderr",
     "output_type": "stream",
     "text": [
      "Epoch 211: 272batch [00:41,  6.49batch/s, loss=186]\n"
     ]
    },
    {
     "name": "stdout",
     "output_type": "stream",
     "text": [
      "epoch 211: avg train loss 199.89, bar train loss 2.199, len train loss 0.014, col train loss 150.975\n"
     ]
    },
    {
     "name": "stderr",
     "output_type": "stream",
     "text": [
      "Epoch 212: 1batch [00:00,  7.81batch/s, loss=203]"
     ]
    },
    {
     "name": "stdout",
     "output_type": "stream",
     "text": [
      "epoch 211: avg test  loss 293.95, bar  test loss 3.530, len  test loss 0.574, col  test loss 161.303\n"
     ]
    },
    {
     "name": "stderr",
     "output_type": "stream",
     "text": [
      "Epoch 212: 272batch [00:38,  7.01batch/s, loss=203]\n"
     ]
    },
    {
     "name": "stdout",
     "output_type": "stream",
     "text": [
      "epoch 212: avg train loss 199.91, bar train loss 2.198, len train loss 0.014, col train loss 150.992\n"
     ]
    },
    {
     "name": "stderr",
     "output_type": "stream",
     "text": [
      "Epoch 213: 1batch [00:00,  7.19batch/s, loss=207]"
     ]
    },
    {
     "name": "stdout",
     "output_type": "stream",
     "text": [
      "epoch 212: avg test  loss 286.50, bar  test loss 3.530, len  test loss 0.488, col  test loss 161.252\n"
     ]
    },
    {
     "name": "stderr",
     "output_type": "stream",
     "text": [
      "Epoch 213: 272batch [00:40,  6.70batch/s, loss=235]\n"
     ]
    },
    {
     "name": "stdout",
     "output_type": "stream",
     "text": [
      "epoch 213: avg train loss 199.98, bar train loss 2.199, len train loss 0.015, col train loss 150.970\n"
     ]
    },
    {
     "name": "stderr",
     "output_type": "stream",
     "text": [
      "Epoch 214: 1batch [00:00,  5.95batch/s, loss=200]"
     ]
    },
    {
     "name": "stdout",
     "output_type": "stream",
     "text": [
      "epoch 213: avg test  loss 282.41, bar  test loss 3.526, len  test loss 0.472, col  test loss 161.239\n"
     ]
    },
    {
     "name": "stderr",
     "output_type": "stream",
     "text": [
      "Epoch 214: 272batch [00:38,  7.02batch/s, loss=208]\n"
     ]
    },
    {
     "name": "stdout",
     "output_type": "stream",
     "text": [
      "epoch 214: avg train loss 199.78, bar train loss 2.196, len train loss 0.015, col train loss 150.936\n"
     ]
    },
    {
     "name": "stderr",
     "output_type": "stream",
     "text": [
      "Epoch 215: 1batch [00:00,  7.30batch/s, loss=199]"
     ]
    },
    {
     "name": "stdout",
     "output_type": "stream",
     "text": [
      "epoch 214: avg test  loss 281.26, bar  test loss 3.540, len  test loss 0.459, col  test loss 161.238\n"
     ]
    },
    {
     "name": "stderr",
     "output_type": "stream",
     "text": [
      "Epoch 215: 272batch [00:42,  6.42batch/s, loss=215]\n"
     ]
    },
    {
     "name": "stdout",
     "output_type": "stream",
     "text": [
      "epoch 215: avg train loss 199.64, bar train loss 2.192, len train loss 0.015, col train loss 150.868\n",
      "epoch 215: avg test  loss 286.16, bar  test loss 3.532, len  test loss 0.498, col  test loss 161.314\n"
     ]
    },
    {
     "name": "stderr",
     "output_type": "stream",
     "text": [
      "Epoch 216: 272batch [00:42,  6.44batch/s, loss=224]\n"
     ]
    },
    {
     "name": "stdout",
     "output_type": "stream",
     "text": [
      "epoch 216: avg train loss 199.56, bar train loss 2.189, len train loss 0.014, col train loss 150.845\n"
     ]
    },
    {
     "name": "stderr",
     "output_type": "stream",
     "text": [
      "\r",
      "Epoch 217: 0batch [00:00, ?batch/s]"
     ]
    },
    {
     "name": "stdout",
     "output_type": "stream",
     "text": [
      "epoch 216: avg test  loss 275.49, bar  test loss 3.543, len  test loss 0.399, col  test loss 161.320\n"
     ]
    },
    {
     "name": "stderr",
     "output_type": "stream",
     "text": [
      "Epoch 217: 272batch [00:47,  5.74batch/s, loss=190]\n"
     ]
    },
    {
     "name": "stdout",
     "output_type": "stream",
     "text": [
      "epoch 217: avg train loss 199.39, bar train loss 2.183, len train loss 0.014, col train loss 150.856\n"
     ]
    },
    {
     "name": "stderr",
     "output_type": "stream",
     "text": [
      "Epoch 218: 1batch [00:00,  7.14batch/s, loss=198]"
     ]
    },
    {
     "name": "stdout",
     "output_type": "stream",
     "text": [
      "epoch 217: avg test  loss 283.90, bar  test loss 3.532, len  test loss 0.481, col  test loss 161.252\n"
     ]
    },
    {
     "name": "stderr",
     "output_type": "stream",
     "text": [
      "Epoch 218: 272batch [00:39,  6.83batch/s, loss=215]\n"
     ]
    },
    {
     "name": "stdout",
     "output_type": "stream",
     "text": [
      "epoch 218: avg train loss 199.41, bar train loss 2.184, len train loss 0.014, col train loss 150.828\n"
     ]
    },
    {
     "name": "stderr",
     "output_type": "stream",
     "text": [
      "Epoch 219: 1batch [00:00,  8.13batch/s, loss=196]"
     ]
    },
    {
     "name": "stdout",
     "output_type": "stream",
     "text": [
      "epoch 218: avg test  loss 289.47, bar  test loss 3.550, len  test loss 0.536, col  test loss 161.328\n"
     ]
    },
    {
     "name": "stderr",
     "output_type": "stream",
     "text": [
      "Epoch 219: 272batch [00:44,  6.09batch/s, loss=199]\n"
     ]
    },
    {
     "name": "stdout",
     "output_type": "stream",
     "text": [
      "epoch 219: avg train loss 199.36, bar train loss 2.184, len train loss 0.014, col train loss 150.806\n"
     ]
    },
    {
     "name": "stderr",
     "output_type": "stream",
     "text": [
      "Epoch 220: 1batch [00:00,  7.41batch/s, loss=201]"
     ]
    },
    {
     "name": "stdout",
     "output_type": "stream",
     "text": [
      "epoch 219: avg test  loss 286.98, bar  test loss 3.559, len  test loss 0.508, col  test loss 161.281\n"
     ]
    },
    {
     "name": "stderr",
     "output_type": "stream",
     "text": [
      "Epoch 220: 272batch [00:41,  6.56batch/s, loss=204]\n"
     ]
    },
    {
     "name": "stdout",
     "output_type": "stream",
     "text": [
      "epoch 220: avg train loss 199.21, bar train loss 2.181, len train loss 0.014, col train loss 150.773\n",
      "epoch 220: avg test  loss 284.71, bar  test loss 3.536, len  test loss 0.486, col  test loss 161.316\n"
     ]
    },
    {
     "name": "stderr",
     "output_type": "stream",
     "text": [
      "Epoch 221: 272batch [00:37,  7.17batch/s, loss=199]\n"
     ]
    },
    {
     "name": "stdout",
     "output_type": "stream",
     "text": [
      "epoch 221: avg train loss 199.32, bar train loss 2.181, len train loss 0.014, col train loss 150.745\n"
     ]
    },
    {
     "name": "stderr",
     "output_type": "stream",
     "text": [
      "Epoch 222: 1batch [00:00,  6.41batch/s, loss=197]"
     ]
    },
    {
     "name": "stdout",
     "output_type": "stream",
     "text": [
      "epoch 221: avg test  loss 287.27, bar  test loss 3.553, len  test loss 0.513, col  test loss 161.295\n"
     ]
    },
    {
     "name": "stderr",
     "output_type": "stream",
     "text": [
      "Epoch 222: 272batch [00:38,  7.02batch/s, loss=216]\n"
     ]
    },
    {
     "name": "stdout",
     "output_type": "stream",
     "text": [
      "epoch 222: avg train loss 199.09, bar train loss 2.178, len train loss 0.014, col train loss 150.714\n"
     ]
    },
    {
     "name": "stderr",
     "output_type": "stream",
     "text": [
      "Epoch 223: 1batch [00:00,  6.54batch/s, loss=194]"
     ]
    },
    {
     "name": "stdout",
     "output_type": "stream",
     "text": [
      "epoch 222: avg test  loss 280.24, bar  test loss 3.562, len  test loss 0.440, col  test loss 161.295\n"
     ]
    },
    {
     "name": "stderr",
     "output_type": "stream",
     "text": [
      "Epoch 223: 272batch [00:39,  6.84batch/s, loss=193]\n"
     ]
    },
    {
     "name": "stdout",
     "output_type": "stream",
     "text": [
      "epoch 223: avg train loss 199.20, bar train loss 2.180, len train loss 0.014, col train loss 150.740\n"
     ]
    },
    {
     "name": "stderr",
     "output_type": "stream",
     "text": [
      "Epoch 224: 1batch [00:00,  6.62batch/s, loss=198]"
     ]
    },
    {
     "name": "stdout",
     "output_type": "stream",
     "text": [
      "epoch 223: avg test  loss 286.84, bar  test loss 3.543, len  test loss 0.511, col  test loss 161.365\n"
     ]
    },
    {
     "name": "stderr",
     "output_type": "stream",
     "text": [
      "Epoch 224: 272batch [00:41,  6.55batch/s, loss=201]\n"
     ]
    },
    {
     "name": "stdout",
     "output_type": "stream",
     "text": [
      "epoch 224: avg train loss 199.06, bar train loss 2.175, len train loss 0.014, col train loss 150.688\n"
     ]
    },
    {
     "name": "stderr",
     "output_type": "stream",
     "text": [
      "\r",
      "Epoch 225: 0batch [00:00, ?batch/s]"
     ]
    },
    {
     "name": "stdout",
     "output_type": "stream",
     "text": [
      "epoch 224: avg test  loss 282.85, bar  test loss 3.565, len  test loss 0.464, col  test loss 161.332\n"
     ]
    },
    {
     "name": "stderr",
     "output_type": "stream",
     "text": [
      "Epoch 225: 272batch [00:32,  8.45batch/s, loss=194]\n"
     ]
    },
    {
     "name": "stdout",
     "output_type": "stream",
     "text": [
      "epoch 225: avg train loss 198.92, bar train loss 2.173, len train loss 0.014, col train loss 150.647\n",
      "epoch 225: avg test  loss 284.82, bar  test loss 3.570, len  test loss 0.483, col  test loss 161.367\n"
     ]
    },
    {
     "name": "stderr",
     "output_type": "stream",
     "text": [
      "Epoch 226: 272batch [00:32,  8.38batch/s, loss=205]\n"
     ]
    },
    {
     "name": "stdout",
     "output_type": "stream",
     "text": [
      "epoch 226: avg train loss 198.91, bar train loss 2.171, len train loss 0.014, col train loss 150.656\n"
     ]
    },
    {
     "name": "stderr",
     "output_type": "stream",
     "text": [
      "Epoch 227: 1batch [00:00,  7.94batch/s, loss=194]"
     ]
    },
    {
     "name": "stdout",
     "output_type": "stream",
     "text": [
      "epoch 226: avg test  loss 283.95, bar  test loss 3.564, len  test loss 0.475, col  test loss 161.515\n"
     ]
    },
    {
     "name": "stderr",
     "output_type": "stream",
     "text": [
      "Epoch 227: 272batch [00:31,  8.64batch/s, loss=209]\n"
     ]
    },
    {
     "name": "stdout",
     "output_type": "stream",
     "text": [
      "epoch 227: avg train loss 198.88, bar train loss 2.170, len train loss 0.014, col train loss 150.651\n"
     ]
    },
    {
     "name": "stderr",
     "output_type": "stream",
     "text": [
      "Epoch 228: 1batch [00:00,  8.70batch/s, loss=188]"
     ]
    },
    {
     "name": "stdout",
     "output_type": "stream",
     "text": [
      "epoch 227: avg test  loss 285.94, bar  test loss 3.572, len  test loss 0.498, col  test loss 161.359\n"
     ]
    },
    {
     "name": "stderr",
     "output_type": "stream",
     "text": [
      "Epoch 228: 272batch [00:31,  8.71batch/s, loss=209]\n"
     ]
    },
    {
     "name": "stdout",
     "output_type": "stream",
     "text": [
      "epoch 228: avg train loss 198.82, bar train loss 2.171, len train loss 0.014, col train loss 150.602\n"
     ]
    },
    {
     "name": "stderr",
     "output_type": "stream",
     "text": [
      "Epoch 229: 1batch [00:00,  8.55batch/s, loss=191]"
     ]
    },
    {
     "name": "stdout",
     "output_type": "stream",
     "text": [
      "epoch 228: avg test  loss 285.43, bar  test loss 3.578, len  test loss 0.487, col  test loss 161.412\n"
     ]
    },
    {
     "name": "stderr",
     "output_type": "stream",
     "text": [
      "Epoch 229: 272batch [00:31,  8.56batch/s, loss=218]\n"
     ]
    },
    {
     "name": "stdout",
     "output_type": "stream",
     "text": [
      "epoch 229: avg train loss 198.69, bar train loss 2.164, len train loss 0.014, col train loss 150.587\n"
     ]
    },
    {
     "name": "stderr",
     "output_type": "stream",
     "text": [
      "Epoch 230: 1batch [00:00,  8.55batch/s, loss=208]"
     ]
    },
    {
     "name": "stdout",
     "output_type": "stream",
     "text": [
      "epoch 229: avg test  loss 284.68, bar  test loss 3.577, len  test loss 0.484, col  test loss 161.347\n"
     ]
    },
    {
     "name": "stderr",
     "output_type": "stream",
     "text": [
      "Epoch 230: 272batch [00:32,  8.25batch/s, loss=182]\n"
     ]
    },
    {
     "name": "stdout",
     "output_type": "stream",
     "text": [
      "epoch 230: avg train loss 198.56, bar train loss 2.162, len train loss 0.014, col train loss 150.554\n",
      "epoch 230: avg test  loss 281.91, bar  test loss 3.589, len  test loss 0.452, col  test loss 161.428\n"
     ]
    },
    {
     "name": "stderr",
     "output_type": "stream",
     "text": [
      "Epoch 231: 272batch [00:34,  7.84batch/s, loss=184]\n"
     ]
    },
    {
     "name": "stdout",
     "output_type": "stream",
     "text": [
      "epoch 231: avg train loss 198.59, bar train loss 2.165, len train loss 0.014, col train loss 150.542\n"
     ]
    },
    {
     "name": "stderr",
     "output_type": "stream",
     "text": [
      "Epoch 232: 1batch [00:00,  7.87batch/s, loss=190]"
     ]
    },
    {
     "name": "stdout",
     "output_type": "stream",
     "text": [
      "epoch 231: avg test  loss 287.45, bar  test loss 3.578, len  test loss 0.508, col  test loss 161.496\n"
     ]
    },
    {
     "name": "stderr",
     "output_type": "stream",
     "text": [
      "Epoch 232: 272batch [00:35,  7.63batch/s, loss=206]\n"
     ]
    },
    {
     "name": "stdout",
     "output_type": "stream",
     "text": [
      "epoch 232: avg train loss 198.41, bar train loss 2.158, len train loss 0.014, col train loss 150.529\n"
     ]
    },
    {
     "name": "stderr",
     "output_type": "stream",
     "text": [
      "Epoch 233: 1batch [00:00,  6.29batch/s, loss=191]"
     ]
    },
    {
     "name": "stdout",
     "output_type": "stream",
     "text": [
      "epoch 232: avg test  loss 284.91, bar  test loss 3.574, len  test loss 0.485, col  test loss 161.365\n"
     ]
    },
    {
     "name": "stderr",
     "output_type": "stream",
     "text": [
      "Epoch 233: 272batch [00:42,  6.35batch/s, loss=204]\n"
     ]
    },
    {
     "name": "stdout",
     "output_type": "stream",
     "text": [
      "epoch 233: avg train loss 198.49, bar train loss 2.163, len train loss 0.014, col train loss 150.484\n"
     ]
    },
    {
     "name": "stderr",
     "output_type": "stream",
     "text": [
      "Epoch 234: 1batch [00:00,  6.21batch/s, loss=193]"
     ]
    },
    {
     "name": "stdout",
     "output_type": "stream",
     "text": [
      "epoch 233: avg test  loss 286.85, bar  test loss 3.570, len  test loss 0.508, col  test loss 161.353\n"
     ]
    },
    {
     "name": "stderr",
     "output_type": "stream",
     "text": [
      "Epoch 234: 272batch [00:32,  8.50batch/s, loss=208]\n"
     ]
    },
    {
     "name": "stdout",
     "output_type": "stream",
     "text": [
      "epoch 234: avg train loss 198.19, bar train loss 2.153, len train loss 0.014, col train loss 150.459\n"
     ]
    },
    {
     "name": "stderr",
     "output_type": "stream",
     "text": [
      "Epoch 235: 1batch [00:00,  8.70batch/s, loss=206]"
     ]
    },
    {
     "name": "stdout",
     "output_type": "stream",
     "text": [
      "epoch 234: avg test  loss 289.00, bar  test loss 3.592, len  test loss 0.524, col  test loss 161.398\n"
     ]
    },
    {
     "name": "stderr",
     "output_type": "stream",
     "text": [
      "Epoch 235: 272batch [00:31,  8.72batch/s, loss=224]\n"
     ]
    },
    {
     "name": "stdout",
     "output_type": "stream",
     "text": [
      "epoch 235: avg train loss 198.23, bar train loss 2.155, len train loss 0.013, col train loss 150.447\n",
      "epoch 235: avg test  loss 290.41, bar  test loss 3.591, len  test loss 0.534, col  test loss 161.443\n"
     ]
    },
    {
     "name": "stderr",
     "output_type": "stream",
     "text": [
      "Epoch 236: 272batch [00:31,  8.68batch/s, loss=193]\n"
     ]
    },
    {
     "name": "stdout",
     "output_type": "stream",
     "text": [
      "epoch 236: avg train loss 198.30, bar train loss 2.156, len train loss 0.014, col train loss 150.424\n"
     ]
    },
    {
     "name": "stderr",
     "output_type": "stream",
     "text": [
      "Epoch 237: 1batch [00:00,  8.77batch/s, loss=195]"
     ]
    },
    {
     "name": "stdout",
     "output_type": "stream",
     "text": [
      "epoch 236: avg test  loss 291.37, bar  test loss 3.585, len  test loss 0.546, col  test loss 161.497\n"
     ]
    },
    {
     "name": "stderr",
     "output_type": "stream",
     "text": [
      "Epoch 237: 272batch [00:31,  8.70batch/s, loss=216]\n"
     ]
    },
    {
     "name": "stdout",
     "output_type": "stream",
     "text": [
      "epoch 237: avg train loss 198.09, bar train loss 2.148, len train loss 0.014, col train loss 150.417\n"
     ]
    },
    {
     "name": "stderr",
     "output_type": "stream",
     "text": [
      "Epoch 238: 1batch [00:00,  6.76batch/s, loss=198]"
     ]
    },
    {
     "name": "stdout",
     "output_type": "stream",
     "text": [
      "epoch 237: avg test  loss 284.27, bar  test loss 3.599, len  test loss 0.476, col  test loss 161.553\n"
     ]
    },
    {
     "name": "stderr",
     "output_type": "stream",
     "text": [
      "Epoch 238: 272batch [00:38,  7.03batch/s, loss=188]\n"
     ]
    },
    {
     "name": "stdout",
     "output_type": "stream",
     "text": [
      "epoch 238: avg train loss 198.11, bar train loss 2.153, len train loss 0.013, col train loss 150.388\n"
     ]
    },
    {
     "name": "stderr",
     "output_type": "stream",
     "text": [
      "Epoch 239: 1batch [00:00,  8.20batch/s, loss=188]"
     ]
    },
    {
     "name": "stdout",
     "output_type": "stream",
     "text": [
      "epoch 238: avg test  loss 289.13, bar  test loss 3.584, len  test loss 0.523, col  test loss 161.425\n"
     ]
    },
    {
     "name": "stderr",
     "output_type": "stream",
     "text": [
      "Epoch 239: 272batch [00:38,  6.99batch/s, loss=202]\n"
     ]
    },
    {
     "name": "stdout",
     "output_type": "stream",
     "text": [
      "epoch 239: avg train loss 197.89, bar train loss 2.144, len train loss 0.013, col train loss 150.356\n"
     ]
    },
    {
     "name": "stderr",
     "output_type": "stream",
     "text": [
      "Epoch 240: 1batch [00:00,  6.54batch/s, loss=206]"
     ]
    },
    {
     "name": "stdout",
     "output_type": "stream",
     "text": [
      "epoch 239: avg test  loss 286.38, bar  test loss 3.602, len  test loss 0.484, col  test loss 161.416\n"
     ]
    },
    {
     "name": "stderr",
     "output_type": "stream",
     "text": [
      "Epoch 240: 272batch [00:34,  7.79batch/s, loss=207]\n"
     ]
    },
    {
     "name": "stdout",
     "output_type": "stream",
     "text": [
      "epoch 240: avg train loss 198.12, bar train loss 2.153, len train loss 0.013, col train loss 150.369\n",
      "epoch 240: avg test  loss 282.83, bar  test loss 3.602, len  test loss 0.458, col  test loss 161.391\n"
     ]
    },
    {
     "name": "stderr",
     "output_type": "stream",
     "text": [
      "Epoch 241: 272batch [00:42,  6.47batch/s, loss=214]\n"
     ]
    },
    {
     "name": "stdout",
     "output_type": "stream",
     "text": [
      "epoch 241: avg train loss 198.08, bar train loss 2.151, len train loss 0.014, col train loss 150.355\n"
     ]
    },
    {
     "name": "stderr",
     "output_type": "stream",
     "text": [
      "Epoch 242: 1batch [00:00,  7.87batch/s, loss=188]"
     ]
    },
    {
     "name": "stdout",
     "output_type": "stream",
     "text": [
      "epoch 241: avg test  loss 282.19, bar  test loss 3.598, len  test loss 0.454, col  test loss 161.504\n"
     ]
    },
    {
     "name": "stderr",
     "output_type": "stream",
     "text": [
      "Epoch 242: 272batch [00:38,  7.02batch/s, loss=218]\n"
     ]
    },
    {
     "name": "stdout",
     "output_type": "stream",
     "text": [
      "epoch 242: avg train loss 197.91, bar train loss 2.146, len train loss 0.013, col train loss 150.322\n"
     ]
    },
    {
     "name": "stderr",
     "output_type": "stream",
     "text": [
      "Epoch 243: 1batch [00:00,  6.71batch/s, loss=195]"
     ]
    },
    {
     "name": "stdout",
     "output_type": "stream",
     "text": [
      "epoch 242: avg test  loss 286.06, bar  test loss 3.602, len  test loss 0.481, col  test loss 161.417\n"
     ]
    },
    {
     "name": "stderr",
     "output_type": "stream",
     "text": [
      "Epoch 243: 272batch [00:43,  6.22batch/s, loss=185]\n"
     ]
    },
    {
     "name": "stdout",
     "output_type": "stream",
     "text": [
      "epoch 243: avg train loss 197.82, bar train loss 2.140, len train loss 0.014, col train loss 150.306\n"
     ]
    },
    {
     "name": "stderr",
     "output_type": "stream",
     "text": [
      "\r",
      "Epoch 244: 0batch [00:00, ?batch/s]"
     ]
    },
    {
     "name": "stdout",
     "output_type": "stream",
     "text": [
      "epoch 243: avg test  loss 283.05, bar  test loss 3.586, len  test loss 0.460, col  test loss 161.575\n"
     ]
    },
    {
     "name": "stderr",
     "output_type": "stream",
     "text": [
      "Epoch 244: 272batch [00:43,  6.21batch/s, loss=187]\n"
     ]
    },
    {
     "name": "stdout",
     "output_type": "stream",
     "text": [
      "epoch 244: avg train loss 197.68, bar train loss 2.140, len train loss 0.013, col train loss 150.265\n"
     ]
    },
    {
     "name": "stderr",
     "output_type": "stream",
     "text": [
      "\r",
      "Epoch 245: 0batch [00:00, ?batch/s]"
     ]
    },
    {
     "name": "stdout",
     "output_type": "stream",
     "text": [
      "epoch 244: avg test  loss 283.18, bar  test loss 3.644, len  test loss 0.456, col  test loss 161.494\n"
     ]
    },
    {
     "name": "stderr",
     "output_type": "stream",
     "text": [
      "Epoch 245: 272batch [00:45,  6.03batch/s, loss=213]\n"
     ]
    },
    {
     "name": "stdout",
     "output_type": "stream",
     "text": [
      "epoch 245: avg train loss 197.76, bar train loss 2.144, len train loss 0.013, col train loss 150.264\n",
      "epoch 245: avg test  loss 287.50, bar  test loss 3.612, len  test loss 0.502, col  test loss 161.614\n"
     ]
    },
    {
     "name": "stderr",
     "output_type": "stream",
     "text": [
      "Epoch 246: 272batch [00:45,  5.98batch/s, loss=198]\n"
     ]
    },
    {
     "name": "stdout",
     "output_type": "stream",
     "text": [
      "epoch 246: avg train loss 197.54, bar train loss 2.133, len train loss 0.014, col train loss 150.233\n"
     ]
    },
    {
     "name": "stderr",
     "output_type": "stream",
     "text": [
      "\r",
      "Epoch 247: 0batch [00:00, ?batch/s]"
     ]
    },
    {
     "name": "stdout",
     "output_type": "stream",
     "text": [
      "epoch 246: avg test  loss 282.81, bar  test loss 3.600, len  test loss 0.458, col  test loss 161.560\n"
     ]
    },
    {
     "name": "stderr",
     "output_type": "stream",
     "text": [
      "Epoch 247: 272batch [00:43,  6.31batch/s, loss=191]\n"
     ]
    },
    {
     "name": "stdout",
     "output_type": "stream",
     "text": [
      "epoch 247: avg train loss 197.41, bar train loss 2.132, len train loss 0.013, col train loss 150.177\n"
     ]
    },
    {
     "name": "stderr",
     "output_type": "stream",
     "text": [
      "\r",
      "Epoch 248: 0batch [00:00, ?batch/s]"
     ]
    },
    {
     "name": "stdout",
     "output_type": "stream",
     "text": [
      "epoch 247: avg test  loss 282.91, bar  test loss 3.613, len  test loss 0.460, col  test loss 161.566\n"
     ]
    },
    {
     "name": "stderr",
     "output_type": "stream",
     "text": [
      "Epoch 248: 272batch [00:45,  5.97batch/s, loss=195]\n"
     ]
    },
    {
     "name": "stdout",
     "output_type": "stream",
     "text": [
      "epoch 248: avg train loss 197.53, bar train loss 2.135, len train loss 0.014, col train loss 150.192\n"
     ]
    },
    {
     "name": "stderr",
     "output_type": "stream",
     "text": [
      "\r",
      "Epoch 249: 0batch [00:00, ?batch/s]"
     ]
    },
    {
     "name": "stdout",
     "output_type": "stream",
     "text": [
      "epoch 248: avg test  loss 282.29, bar  test loss 3.608, len  test loss 0.432, col  test loss 161.533\n"
     ]
    },
    {
     "name": "stderr",
     "output_type": "stream",
     "text": [
      "Epoch 249: 272batch [00:49,  5.50batch/s, loss=200]\n"
     ]
    },
    {
     "name": "stdout",
     "output_type": "stream",
     "text": [
      "epoch 249: avg train loss 197.43, bar train loss 2.131, len train loss 0.013, col train loss 150.176\n"
     ]
    },
    {
     "name": "stderr",
     "output_type": "stream",
     "text": [
      "\r",
      "Epoch 250: 0batch [00:00, ?batch/s]"
     ]
    },
    {
     "name": "stdout",
     "output_type": "stream",
     "text": [
      "epoch 249: avg test  loss 290.02, bar  test loss 3.627, len  test loss 0.518, col  test loss 161.567\n"
     ]
    },
    {
     "name": "stderr",
     "output_type": "stream",
     "text": [
      "Epoch 250: 272batch [00:43,  6.21batch/s, loss=219]\n"
     ]
    },
    {
     "name": "stdout",
     "output_type": "stream",
     "text": [
      "epoch 250: avg train loss 197.37, bar train loss 2.128, len train loss 0.013, col train loss 150.213\n",
      "epoch 250: avg test  loss 279.39, bar  test loss 3.603, len  test loss 0.421, col  test loss 161.536\n"
     ]
    },
    {
     "name": "stderr",
     "output_type": "stream",
     "text": [
      "Epoch 251: 272batch [00:43,  6.25batch/s, loss=196]\n"
     ]
    },
    {
     "name": "stdout",
     "output_type": "stream",
     "text": [
      "epoch 251: avg train loss 197.26, bar train loss 2.128, len train loss 0.013, col train loss 150.141\n"
     ]
    },
    {
     "name": "stderr",
     "output_type": "stream",
     "text": [
      "Epoch 252: 1batch [00:00,  6.25batch/s, loss=205]"
     ]
    },
    {
     "name": "stdout",
     "output_type": "stream",
     "text": [
      "epoch 251: avg test  loss 285.46, bar  test loss 3.626, len  test loss 0.479, col  test loss 161.579\n"
     ]
    },
    {
     "name": "stderr",
     "output_type": "stream",
     "text": [
      "Epoch 252: 272batch [00:45,  5.99batch/s, loss=203]\n"
     ]
    },
    {
     "name": "stdout",
     "output_type": "stream",
     "text": [
      "epoch 252: avg train loss 197.31, bar train loss 2.129, len train loss 0.013, col train loss 150.152\n"
     ]
    },
    {
     "name": "stderr",
     "output_type": "stream",
     "text": [
      "Epoch 253: 1batch [00:00,  7.75batch/s, loss=200]"
     ]
    },
    {
     "name": "stdout",
     "output_type": "stream",
     "text": [
      "epoch 252: avg test  loss 286.26, bar  test loss 3.640, len  test loss 0.484, col  test loss 161.627\n"
     ]
    },
    {
     "name": "stderr",
     "output_type": "stream",
     "text": [
      "Epoch 253: 272batch [00:44,  6.07batch/s, loss=225]\n"
     ]
    },
    {
     "name": "stdout",
     "output_type": "stream",
     "text": [
      "epoch 253: avg train loss 197.39, bar train loss 2.133, len train loss 0.013, col train loss 150.121\n"
     ]
    },
    {
     "name": "stderr",
     "output_type": "stream",
     "text": [
      "Epoch 254: 0batch [00:00, ?batch/s, loss=200]"
     ]
    },
    {
     "name": "stdout",
     "output_type": "stream",
     "text": [
      "epoch 253: avg test  loss 281.31, bar  test loss 3.633, len  test loss 0.437, col  test loss 161.527\n"
     ]
    },
    {
     "name": "stderr",
     "output_type": "stream",
     "text": [
      "Epoch 254: 272batch [00:49,  5.47batch/s, loss=215]\n"
     ]
    },
    {
     "name": "stdout",
     "output_type": "stream",
     "text": [
      "epoch 254: avg train loss 197.20, bar train loss 2.126, len train loss 0.013, col train loss 150.079\n"
     ]
    },
    {
     "name": "stderr",
     "output_type": "stream",
     "text": [
      "Epoch 255: 1batch [00:00,  6.45batch/s, loss=198]"
     ]
    },
    {
     "name": "stdout",
     "output_type": "stream",
     "text": [
      "epoch 254: avg test  loss 286.39, bar  test loss 3.647, len  test loss 0.487, col  test loss 161.627\n"
     ]
    },
    {
     "name": "stderr",
     "output_type": "stream",
     "text": [
      "Epoch 255: 272batch [00:44,  6.15batch/s, loss=202]\n"
     ]
    },
    {
     "name": "stdout",
     "output_type": "stream",
     "text": [
      "epoch 255: avg train loss 197.11, bar train loss 2.126, len train loss 0.013, col train loss 150.075\n",
      "epoch 255: avg test  loss 285.77, bar  test loss 3.627, len  test loss 0.483, col  test loss 161.640\n"
     ]
    },
    {
     "name": "stderr",
     "output_type": "stream",
     "text": [
      "Epoch 256: 272batch [00:48,  5.66batch/s, loss=206]\n"
     ]
    },
    {
     "name": "stdout",
     "output_type": "stream",
     "text": [
      "epoch 256: avg train loss 197.29, bar train loss 2.128, len train loss 0.014, col train loss 150.104\n"
     ]
    },
    {
     "name": "stderr",
     "output_type": "stream",
     "text": [
      "Epoch 257: 1batch [00:00,  6.21batch/s, loss=195]"
     ]
    },
    {
     "name": "stdout",
     "output_type": "stream",
     "text": [
      "epoch 256: avg test  loss 285.55, bar  test loss 3.630, len  test loss 0.482, col  test loss 161.631\n"
     ]
    },
    {
     "name": "stderr",
     "output_type": "stream",
     "text": [
      "Epoch 257: 272batch [00:43,  6.27batch/s, loss=207]\n"
     ]
    },
    {
     "name": "stdout",
     "output_type": "stream",
     "text": [
      "epoch 257: avg train loss 197.08, bar train loss 2.125, len train loss 0.013, col train loss 150.023\n"
     ]
    },
    {
     "name": "stderr",
     "output_type": "stream",
     "text": [
      "Epoch 258: 1batch [00:00,  7.14batch/s, loss=196]"
     ]
    },
    {
     "name": "stdout",
     "output_type": "stream",
     "text": [
      "epoch 257: avg test  loss 287.78, bar  test loss 3.639, len  test loss 0.502, col  test loss 161.626\n"
     ]
    },
    {
     "name": "stderr",
     "output_type": "stream",
     "text": [
      "Epoch 258: 272batch [00:42,  6.43batch/s, loss=199]\n"
     ]
    },
    {
     "name": "stdout",
     "output_type": "stream",
     "text": [
      "epoch 258: avg train loss 197.06, bar train loss 2.125, len train loss 0.013, col train loss 150.012\n"
     ]
    },
    {
     "name": "stderr",
     "output_type": "stream",
     "text": [
      "Epoch 259: 1batch [00:00,  5.88batch/s, loss=197]"
     ]
    },
    {
     "name": "stdout",
     "output_type": "stream",
     "text": [
      "epoch 258: avg test  loss 286.59, bar  test loss 3.636, len  test loss 0.479, col  test loss 161.630\n"
     ]
    },
    {
     "name": "stderr",
     "output_type": "stream",
     "text": [
      "Epoch 259: 272batch [00:41,  6.51batch/s, loss=215]\n"
     ]
    },
    {
     "name": "stdout",
     "output_type": "stream",
     "text": [
      "epoch 259: avg train loss 197.01, bar train loss 2.122, len train loss 0.013, col train loss 150.011\n"
     ]
    },
    {
     "name": "stderr",
     "output_type": "stream",
     "text": [
      "Epoch 260: 1batch [00:00,  7.69batch/s, loss=195]"
     ]
    },
    {
     "name": "stdout",
     "output_type": "stream",
     "text": [
      "epoch 259: avg test  loss 283.03, bar  test loss 3.631, len  test loss 0.456, col  test loss 161.622\n"
     ]
    },
    {
     "name": "stderr",
     "output_type": "stream",
     "text": [
      "Epoch 260: 272batch [00:40,  6.71batch/s, loss=216]\n"
     ]
    },
    {
     "name": "stdout",
     "output_type": "stream",
     "text": [
      "epoch 260: avg train loss 196.90, bar train loss 2.121, len train loss 0.013, col train loss 149.966\n",
      "epoch 260: avg test  loss 285.03, bar  test loss 3.628, len  test loss 0.474, col  test loss 161.683\n"
     ]
    },
    {
     "name": "stderr",
     "output_type": "stream",
     "text": [
      "Epoch 261: 272batch [00:43,  6.25batch/s, loss=210]\n"
     ]
    },
    {
     "name": "stdout",
     "output_type": "stream",
     "text": [
      "epoch 261: avg train loss 196.77, bar train loss 2.114, len train loss 0.013, col train loss 149.976\n"
     ]
    },
    {
     "name": "stderr",
     "output_type": "stream",
     "text": [
      "\r",
      "Epoch 262: 0batch [00:00, ?batch/s]"
     ]
    },
    {
     "name": "stdout",
     "output_type": "stream",
     "text": [
      "epoch 261: avg test  loss 286.11, bar  test loss 3.642, len  test loss 0.476, col  test loss 161.762\n"
     ]
    },
    {
     "name": "stderr",
     "output_type": "stream",
     "text": [
      "Epoch 262: 272batch [00:42,  6.34batch/s, loss=202]\n"
     ]
    },
    {
     "name": "stdout",
     "output_type": "stream",
     "text": [
      "epoch 262: avg train loss 196.82, bar train loss 2.116, len train loss 0.013, col train loss 149.989\n"
     ]
    },
    {
     "name": "stderr",
     "output_type": "stream",
     "text": [
      "Epoch 263: 1batch [00:00,  6.58batch/s, loss=199]"
     ]
    },
    {
     "name": "stdout",
     "output_type": "stream",
     "text": [
      "epoch 262: avg test  loss 288.13, bar  test loss 3.639, len  test loss 0.499, col  test loss 161.609\n"
     ]
    },
    {
     "name": "stderr",
     "output_type": "stream",
     "text": [
      "Epoch 263: 272batch [00:43,  6.27batch/s, loss=210]\n"
     ]
    },
    {
     "name": "stdout",
     "output_type": "stream",
     "text": [
      "epoch 263: avg train loss 196.78, bar train loss 2.119, len train loss 0.013, col train loss 149.912\n"
     ]
    },
    {
     "name": "stderr",
     "output_type": "stream",
     "text": [
      "Epoch 264: 1batch [00:00,  6.29batch/s, loss=195]"
     ]
    },
    {
     "name": "stdout",
     "output_type": "stream",
     "text": [
      "epoch 263: avg test  loss 288.98, bar  test loss 3.642, len  test loss 0.507, col  test loss 161.664\n"
     ]
    },
    {
     "name": "stderr",
     "output_type": "stream",
     "text": [
      "Epoch 264: 272batch [00:41,  6.48batch/s, loss=203]\n"
     ]
    },
    {
     "name": "stdout",
     "output_type": "stream",
     "text": [
      "epoch 264: avg train loss 196.74, bar train loss 2.116, len train loss 0.012, col train loss 149.929\n"
     ]
    },
    {
     "name": "stderr",
     "output_type": "stream",
     "text": [
      "Epoch 265: 1batch [00:00,  6.54batch/s, loss=197]"
     ]
    },
    {
     "name": "stdout",
     "output_type": "stream",
     "text": [
      "epoch 264: avg test  loss 290.08, bar  test loss 3.649, len  test loss 0.521, col  test loss 161.691\n"
     ]
    },
    {
     "name": "stderr",
     "output_type": "stream",
     "text": [
      "Epoch 265: 272batch [00:40,  6.66batch/s, loss=201]\n"
     ]
    },
    {
     "name": "stdout",
     "output_type": "stream",
     "text": [
      "epoch 265: avg train loss 196.63, bar train loss 2.111, len train loss 0.013, col train loss 149.911\n",
      "epoch 265: avg test  loss 285.70, bar  test loss 3.655, len  test loss 0.472, col  test loss 161.737\n"
     ]
    },
    {
     "name": "stderr",
     "output_type": "stream",
     "text": [
      "Epoch 266: 272batch [00:44,  6.11batch/s, loss=201]\n"
     ]
    },
    {
     "name": "stdout",
     "output_type": "stream",
     "text": [
      "epoch 266: avg train loss 196.69, bar train loss 2.114, len train loss 0.013, col train loss 149.860\n"
     ]
    },
    {
     "name": "stderr",
     "output_type": "stream",
     "text": [
      "Epoch 267: 1batch [00:00,  6.13batch/s, loss=183]"
     ]
    },
    {
     "name": "stdout",
     "output_type": "stream",
     "text": [
      "epoch 266: avg test  loss 282.80, bar  test loss 3.647, len  test loss 0.449, col  test loss 161.722\n"
     ]
    },
    {
     "name": "stderr",
     "output_type": "stream",
     "text": [
      "Epoch 267: 272batch [00:41,  6.63batch/s, loss=196]\n"
     ]
    },
    {
     "name": "stdout",
     "output_type": "stream",
     "text": [
      "epoch 267: avg train loss 196.53, bar train loss 2.108, len train loss 0.013, col train loss 149.867\n"
     ]
    },
    {
     "name": "stderr",
     "output_type": "stream",
     "text": [
      "Epoch 268: 1batch [00:00,  7.63batch/s, loss=196]"
     ]
    },
    {
     "name": "stdout",
     "output_type": "stream",
     "text": [
      "epoch 267: avg test  loss 283.43, bar  test loss 3.635, len  test loss 0.459, col  test loss 161.615\n"
     ]
    },
    {
     "name": "stderr",
     "output_type": "stream",
     "text": [
      "Epoch 268: 272batch [00:42,  6.39batch/s, loss=195]\n"
     ]
    },
    {
     "name": "stdout",
     "output_type": "stream",
     "text": [
      "epoch 268: avg train loss 196.58, bar train loss 2.115, len train loss 0.012, col train loss 149.857\n"
     ]
    },
    {
     "name": "stderr",
     "output_type": "stream",
     "text": [
      "Epoch 269: 1batch [00:00,  6.13batch/s, loss=203]"
     ]
    },
    {
     "name": "stdout",
     "output_type": "stream",
     "text": [
      "epoch 268: avg test  loss 280.70, bar  test loss 3.646, len  test loss 0.425, col  test loss 161.766\n"
     ]
    },
    {
     "name": "stderr",
     "output_type": "stream",
     "text": [
      "Epoch 269: 272batch [00:48,  5.66batch/s, loss=194]\n"
     ]
    },
    {
     "name": "stdout",
     "output_type": "stream",
     "text": [
      "epoch 269: avg train loss 196.40, bar train loss 2.103, len train loss 0.013, col train loss 149.879\n"
     ]
    },
    {
     "name": "stderr",
     "output_type": "stream",
     "text": [
      "\r",
      "Epoch 270: 0batch [00:00, ?batch/s]"
     ]
    },
    {
     "name": "stdout",
     "output_type": "stream",
     "text": [
      "epoch 269: avg test  loss 285.22, bar  test loss 3.644, len  test loss 0.475, col  test loss 161.608\n"
     ]
    },
    {
     "name": "stderr",
     "output_type": "stream",
     "text": [
      "Epoch 270: 272batch [00:45,  5.95batch/s, loss=214]\n"
     ]
    },
    {
     "name": "stdout",
     "output_type": "stream",
     "text": [
      "epoch 270: avg train loss 196.31, bar train loss 2.101, len train loss 0.012, col train loss 149.847\n",
      "epoch 270: avg test  loss 281.43, bar  test loss 3.661, len  test loss 0.434, col  test loss 161.725\n"
     ]
    },
    {
     "name": "stderr",
     "output_type": "stream",
     "text": [
      "Epoch 271: 272batch [00:45,  6.04batch/s, loss=200]\n"
     ]
    },
    {
     "name": "stdout",
     "output_type": "stream",
     "text": [
      "epoch 271: avg train loss 196.36, bar train loss 2.105, len train loss 0.013, col train loss 149.811\n"
     ]
    },
    {
     "name": "stderr",
     "output_type": "stream",
     "text": [
      "\r",
      "Epoch 272: 0batch [00:00, ?batch/s]"
     ]
    },
    {
     "name": "stdout",
     "output_type": "stream",
     "text": [
      "epoch 271: avg test  loss 288.57, bar  test loss 3.649, len  test loss 0.503, col  test loss 161.751\n"
     ]
    },
    {
     "name": "stderr",
     "output_type": "stream",
     "text": [
      "Epoch 272: 272batch [00:46,  5.82batch/s, loss=214]\n"
     ]
    },
    {
     "name": "stdout",
     "output_type": "stream",
     "text": [
      "epoch 272: avg train loss 196.44, bar train loss 2.108, len train loss 0.013, col train loss 149.835\n"
     ]
    },
    {
     "name": "stderr",
     "output_type": "stream",
     "text": [
      "\r",
      "Epoch 273: 0batch [00:00, ?batch/s]"
     ]
    },
    {
     "name": "stdout",
     "output_type": "stream",
     "text": [
      "epoch 272: avg test  loss 288.22, bar  test loss 3.646, len  test loss 0.502, col  test loss 161.670\n"
     ]
    },
    {
     "name": "stderr",
     "output_type": "stream",
     "text": [
      "Epoch 273: 272batch [00:46,  5.81batch/s, loss=185]\n"
     ]
    },
    {
     "name": "stdout",
     "output_type": "stream",
     "text": [
      "epoch 273: avg train loss 196.15, bar train loss 2.100, len train loss 0.012, col train loss 149.741\n"
     ]
    },
    {
     "name": "stderr",
     "output_type": "stream",
     "text": [
      "Epoch 274: 1batch [00:00,  6.29batch/s, loss=199]"
     ]
    },
    {
     "name": "stdout",
     "output_type": "stream",
     "text": [
      "epoch 273: avg test  loss 284.82, bar  test loss 3.650, len  test loss 0.463, col  test loss 161.692\n"
     ]
    },
    {
     "name": "stderr",
     "output_type": "stream",
     "text": [
      "Epoch 274: 272batch [00:43,  6.30batch/s, loss=196]\n"
     ]
    },
    {
     "name": "stdout",
     "output_type": "stream",
     "text": [
      "epoch 274: avg train loss 196.10, bar train loss 2.097, len train loss 0.012, col train loss 149.753\n"
     ]
    },
    {
     "name": "stderr",
     "output_type": "stream",
     "text": [
      "Epoch 275: 1batch [00:00,  6.25batch/s, loss=195]"
     ]
    },
    {
     "name": "stdout",
     "output_type": "stream",
     "text": [
      "epoch 274: avg test  loss 283.41, bar  test loss 3.689, len  test loss 0.448, col  test loss 161.690\n"
     ]
    },
    {
     "name": "stderr",
     "output_type": "stream",
     "text": [
      "Epoch 275: 272batch [00:43,  6.27batch/s, loss=192]\n"
     ]
    },
    {
     "name": "stdout",
     "output_type": "stream",
     "text": [
      "epoch 275: avg train loss 196.05, bar train loss 2.096, len train loss 0.012, col train loss 149.742\n",
      "epoch 275: avg test  loss 289.53, bar  test loss 3.690, len  test loss 0.506, col  test loss 161.877\n"
     ]
    },
    {
     "name": "stderr",
     "output_type": "stream",
     "text": [
      "Epoch 276: 272batch [00:45,  5.99batch/s, loss=206]\n"
     ]
    },
    {
     "name": "stdout",
     "output_type": "stream",
     "text": [
      "epoch 276: avg train loss 196.07, bar train loss 2.097, len train loss 0.012, col train loss 149.717\n"
     ]
    },
    {
     "name": "stderr",
     "output_type": "stream",
     "text": [
      "Epoch 277: 1batch [00:00,  5.95batch/s, loss=203]"
     ]
    },
    {
     "name": "stdout",
     "output_type": "stream",
     "text": [
      "epoch 276: avg test  loss 284.29, bar  test loss 3.672, len  test loss 0.458, col  test loss 161.676\n"
     ]
    },
    {
     "name": "stderr",
     "output_type": "stream",
     "text": [
      "Epoch 277: 272batch [00:44,  6.14batch/s, loss=193]\n"
     ]
    },
    {
     "name": "stdout",
     "output_type": "stream",
     "text": [
      "epoch 277: avg train loss 196.15, bar train loss 2.100, len train loss 0.013, col train loss 149.742\n"
     ]
    },
    {
     "name": "stderr",
     "output_type": "stream",
     "text": [
      "Epoch 278: 1batch [00:00,  6.10batch/s, loss=200]"
     ]
    },
    {
     "name": "stdout",
     "output_type": "stream",
     "text": [
      "epoch 277: avg test  loss 281.43, bar  test loss 3.669, len  test loss 0.427, col  test loss 161.738\n"
     ]
    },
    {
     "name": "stderr",
     "output_type": "stream",
     "text": [
      "Epoch 278: 272batch [00:42,  6.36batch/s, loss=200]\n"
     ]
    },
    {
     "name": "stdout",
     "output_type": "stream",
     "text": [
      "epoch 278: avg train loss 195.98, bar train loss 2.096, len train loss 0.012, col train loss 149.706\n"
     ]
    },
    {
     "name": "stderr",
     "output_type": "stream",
     "text": [
      "Epoch 279: 1batch [00:00,  5.88batch/s, loss=196]"
     ]
    },
    {
     "name": "stdout",
     "output_type": "stream",
     "text": [
      "epoch 278: avg test  loss 288.57, bar  test loss 3.675, len  test loss 0.493, col  test loss 161.800\n"
     ]
    },
    {
     "name": "stderr",
     "output_type": "stream",
     "text": [
      "Epoch 279: 272batch [00:42,  6.46batch/s, loss=202]\n"
     ]
    },
    {
     "name": "stdout",
     "output_type": "stream",
     "text": [
      "epoch 279: avg train loss 195.98, bar train loss 2.094, len train loss 0.012, col train loss 149.688\n"
     ]
    },
    {
     "name": "stderr",
     "output_type": "stream",
     "text": [
      "\r",
      "Epoch 280: 0batch [00:00, ?batch/s]"
     ]
    },
    {
     "name": "stdout",
     "output_type": "stream",
     "text": [
      "epoch 279: avg test  loss 296.63, bar  test loss 3.657, len  test loss 0.576, col  test loss 161.706\n"
     ]
    },
    {
     "name": "stderr",
     "output_type": "stream",
     "text": [
      "Epoch 280: 272batch [00:45,  5.93batch/s, loss=203]\n"
     ]
    },
    {
     "name": "stdout",
     "output_type": "stream",
     "text": [
      "epoch 280: avg train loss 196.04, bar train loss 2.097, len train loss 0.013, col train loss 149.675\n",
      "epoch 280: avg test  loss 290.43, bar  test loss 3.674, len  test loss 0.518, col  test loss 161.768\n"
     ]
    },
    {
     "name": "stderr",
     "output_type": "stream",
     "text": [
      "Epoch 281: 272batch [00:43,  6.28batch/s, loss=198]\n"
     ]
    },
    {
     "name": "stdout",
     "output_type": "stream",
     "text": [
      "epoch 281: avg train loss 195.83, bar train loss 2.090, len train loss 0.013, col train loss 149.647\n"
     ]
    },
    {
     "name": "stderr",
     "output_type": "stream",
     "text": [
      "Epoch 282: 1batch [00:00,  7.75batch/s, loss=189]"
     ]
    },
    {
     "name": "stdout",
     "output_type": "stream",
     "text": [
      "epoch 281: avg test  loss 285.13, bar  test loss 3.676, len  test loss 0.466, col  test loss 161.689\n"
     ]
    },
    {
     "name": "stderr",
     "output_type": "stream",
     "text": [
      "Epoch 282: 272batch [00:44,  6.08batch/s, loss=188]\n"
     ]
    },
    {
     "name": "stdout",
     "output_type": "stream",
     "text": [
      "epoch 282: avg train loss 196.12, bar train loss 2.102, len train loss 0.012, col train loss 149.671\n"
     ]
    },
    {
     "name": "stderr",
     "output_type": "stream",
     "text": [
      "Epoch 283: 1batch [00:00,  6.25batch/s, loss=199]"
     ]
    },
    {
     "name": "stdout",
     "output_type": "stream",
     "text": [
      "epoch 282: avg test  loss 288.10, bar  test loss 3.687, len  test loss 0.493, col  test loss 161.812\n"
     ]
    },
    {
     "name": "stderr",
     "output_type": "stream",
     "text": [
      "Epoch 283: 272batch [00:42,  6.47batch/s, loss=202]\n"
     ]
    },
    {
     "name": "stdout",
     "output_type": "stream",
     "text": [
      "epoch 283: avg train loss 195.93, bar train loss 2.093, len train loss 0.012, col train loss 149.661\n"
     ]
    },
    {
     "name": "stderr",
     "output_type": "stream",
     "text": [
      "Epoch 284: 1batch [00:00,  6.37batch/s, loss=189]"
     ]
    },
    {
     "name": "stdout",
     "output_type": "stream",
     "text": [
      "epoch 283: avg test  loss 285.53, bar  test loss 3.684, len  test loss 0.471, col  test loss 161.775\n"
     ]
    },
    {
     "name": "stderr",
     "output_type": "stream",
     "text": [
      "Epoch 284: 272batch [00:45,  5.98batch/s, loss=201]\n"
     ]
    },
    {
     "name": "stdout",
     "output_type": "stream",
     "text": [
      "epoch 284: avg train loss 195.82, bar train loss 2.091, len train loss 0.012, col train loss 149.619\n"
     ]
    },
    {
     "name": "stderr",
     "output_type": "stream",
     "text": [
      "Epoch 285: 1batch [00:00,  6.37batch/s, loss=190]"
     ]
    },
    {
     "name": "stdout",
     "output_type": "stream",
     "text": [
      "epoch 284: avg test  loss 288.19, bar  test loss 3.682, len  test loss 0.497, col  test loss 161.790\n"
     ]
    },
    {
     "name": "stderr",
     "output_type": "stream",
     "text": [
      "Epoch 285: 272batch [00:40,  6.66batch/s, loss=210]\n"
     ]
    },
    {
     "name": "stdout",
     "output_type": "stream",
     "text": [
      "epoch 285: avg train loss 195.75, bar train loss 2.087, len train loss 0.012, col train loss 149.653\n",
      "epoch 285: avg test  loss 284.87, bar  test loss 3.679, len  test loss 0.463, col  test loss 161.745\n"
     ]
    },
    {
     "name": "stderr",
     "output_type": "stream",
     "text": [
      "Epoch 286: 272batch [00:41,  6.54batch/s, loss=202]\n"
     ]
    },
    {
     "name": "stdout",
     "output_type": "stream",
     "text": [
      "epoch 286: avg train loss 195.60, bar train loss 2.084, len train loss 0.012, col train loss 149.605\n"
     ]
    },
    {
     "name": "stderr",
     "output_type": "stream",
     "text": [
      "Epoch 287: 1batch [00:00,  6.67batch/s, loss=197]"
     ]
    },
    {
     "name": "stdout",
     "output_type": "stream",
     "text": [
      "epoch 286: avg test  loss 288.69, bar  test loss 3.678, len  test loss 0.501, col  test loss 161.749\n"
     ]
    },
    {
     "name": "stderr",
     "output_type": "stream",
     "text": [
      "Epoch 287: 272batch [00:42,  6.44batch/s, loss=201]\n"
     ]
    },
    {
     "name": "stdout",
     "output_type": "stream",
     "text": [
      "epoch 287: avg train loss 195.54, bar train loss 2.084, len train loss 0.012, col train loss 149.547\n"
     ]
    },
    {
     "name": "stderr",
     "output_type": "stream",
     "text": [
      "Epoch 288: 1batch [00:00,  7.04batch/s, loss=194]"
     ]
    },
    {
     "name": "stdout",
     "output_type": "stream",
     "text": [
      "epoch 287: avg test  loss 286.84, bar  test loss 3.699, len  test loss 0.479, col  test loss 161.833\n"
     ]
    },
    {
     "name": "stderr",
     "output_type": "stream",
     "text": [
      "Epoch 288: 272batch [00:39,  6.91batch/s, loss=224]\n"
     ]
    },
    {
     "name": "stdout",
     "output_type": "stream",
     "text": [
      "epoch 288: avg train loss 195.51, bar train loss 2.080, len train loss 0.012, col train loss 149.563\n"
     ]
    },
    {
     "name": "stderr",
     "output_type": "stream",
     "text": [
      "Epoch 289: 1batch [00:00,  6.25batch/s, loss=204]"
     ]
    },
    {
     "name": "stdout",
     "output_type": "stream",
     "text": [
      "epoch 288: avg test  loss 287.98, bar  test loss 3.701, len  test loss 0.485, col  test loss 161.802\n"
     ]
    },
    {
     "name": "stderr",
     "output_type": "stream",
     "text": [
      "Epoch 289: 272batch [00:40,  6.68batch/s, loss=187]\n"
     ]
    },
    {
     "name": "stdout",
     "output_type": "stream",
     "text": [
      "epoch 289: avg train loss 195.55, bar train loss 2.084, len train loss 0.012, col train loss 149.524\n"
     ]
    },
    {
     "name": "stderr",
     "output_type": "stream",
     "text": [
      "Epoch 290: 1batch [00:00,  7.14batch/s, loss=195]"
     ]
    },
    {
     "name": "stdout",
     "output_type": "stream",
     "text": [
      "epoch 289: avg test  loss 287.34, bar  test loss 3.686, len  test loss 0.487, col  test loss 161.731\n"
     ]
    },
    {
     "name": "stderr",
     "output_type": "stream",
     "text": [
      "Epoch 290: 272batch [00:39,  6.81batch/s, loss=203]\n"
     ]
    },
    {
     "name": "stdout",
     "output_type": "stream",
     "text": [
      "epoch 290: avg train loss 195.44, bar train loss 2.083, len train loss 0.012, col train loss 149.506\n",
      "epoch 290: avg test  loss 288.23, bar  test loss 3.701, len  test loss 0.491, col  test loss 161.824\n"
     ]
    },
    {
     "name": "stderr",
     "output_type": "stream",
     "text": [
      "Epoch 291: 272batch [00:50,  5.41batch/s, loss=209]\n"
     ]
    },
    {
     "name": "stdout",
     "output_type": "stream",
     "text": [
      "epoch 291: avg train loss 195.49, bar train loss 2.086, len train loss 0.012, col train loss 149.530\n"
     ]
    },
    {
     "name": "stderr",
     "output_type": "stream",
     "text": [
      "Epoch 292: 1batch [00:00,  6.17batch/s, loss=194]"
     ]
    },
    {
     "name": "stdout",
     "output_type": "stream",
     "text": [
      "epoch 291: avg test  loss 286.85, bar  test loss 3.701, len  test loss 0.475, col  test loss 161.876\n"
     ]
    },
    {
     "name": "stderr",
     "output_type": "stream",
     "text": [
      "Epoch 292: 272batch [00:48,  5.66batch/s, loss=190]\n"
     ]
    },
    {
     "name": "stdout",
     "output_type": "stream",
     "text": [
      "epoch 292: avg train loss 195.42, bar train loss 2.081, len train loss 0.012, col train loss 149.501\n"
     ]
    },
    {
     "name": "stderr",
     "output_type": "stream",
     "text": [
      "Epoch 293: 1batch [00:00,  6.90batch/s, loss=192]"
     ]
    },
    {
     "name": "stdout",
     "output_type": "stream",
     "text": [
      "epoch 292: avg test  loss 282.93, bar  test loss 3.676, len  test loss 0.444, col  test loss 161.759\n"
     ]
    },
    {
     "name": "stderr",
     "output_type": "stream",
     "text": [
      "Epoch 293: 272batch [00:47,  5.68batch/s, loss=206]\n"
     ]
    },
    {
     "name": "stdout",
     "output_type": "stream",
     "text": [
      "epoch 293: avg train loss 195.51, bar train loss 2.084, len train loss 0.012, col train loss 149.513\n"
     ]
    },
    {
     "name": "stderr",
     "output_type": "stream",
     "text": [
      "Epoch 294: 1batch [00:00,  6.80batch/s, loss=200]"
     ]
    },
    {
     "name": "stdout",
     "output_type": "stream",
     "text": [
      "epoch 293: avg test  loss 287.65, bar  test loss 3.691, len  test loss 0.488, col  test loss 161.840\n"
     ]
    },
    {
     "name": "stderr",
     "output_type": "stream",
     "text": [
      "Epoch 294: 272batch [00:41,  6.49batch/s, loss=207]\n"
     ]
    },
    {
     "name": "stdout",
     "output_type": "stream",
     "text": [
      "epoch 294: avg train loss 195.51, bar train loss 2.082, len train loss 0.012, col train loss 149.544\n"
     ]
    },
    {
     "name": "stderr",
     "output_type": "stream",
     "text": [
      "Epoch 295: 1batch [00:00,  6.17batch/s, loss=195]"
     ]
    },
    {
     "name": "stdout",
     "output_type": "stream",
     "text": [
      "epoch 294: avg test  loss 287.05, bar  test loss 3.704, len  test loss 0.479, col  test loss 161.811\n"
     ]
    },
    {
     "name": "stderr",
     "output_type": "stream",
     "text": [
      "Epoch 295: 272batch [00:48,  5.58batch/s, loss=190]\n"
     ]
    },
    {
     "name": "stdout",
     "output_type": "stream",
     "text": [
      "epoch 295: avg train loss 195.25, bar train loss 2.078, len train loss 0.012, col train loss 149.445\n",
      "epoch 295: avg test  loss 287.56, bar  test loss 3.688, len  test loss 0.488, col  test loss 161.781\n"
     ]
    },
    {
     "name": "stderr",
     "output_type": "stream",
     "text": [
      "Epoch 296: 272batch [00:46,  5.81batch/s, loss=216]\n"
     ]
    },
    {
     "name": "stdout",
     "output_type": "stream",
     "text": [
      "epoch 296: avg train loss 195.35, bar train loss 2.082, len train loss 0.012, col train loss 149.457\n"
     ]
    },
    {
     "name": "stderr",
     "output_type": "stream",
     "text": [
      "Epoch 297: 1batch [00:00,  6.54batch/s, loss=193]"
     ]
    },
    {
     "name": "stdout",
     "output_type": "stream",
     "text": [
      "epoch 296: avg test  loss 286.73, bar  test loss 3.694, len  test loss 0.479, col  test loss 161.869\n"
     ]
    },
    {
     "name": "stderr",
     "output_type": "stream",
     "text": [
      "Epoch 297: 272batch [00:49,  5.52batch/s, loss=198]\n"
     ]
    },
    {
     "name": "stdout",
     "output_type": "stream",
     "text": [
      "epoch 297: avg train loss 195.31, bar train loss 2.078, len train loss 0.012, col train loss 149.441\n"
     ]
    },
    {
     "name": "stderr",
     "output_type": "stream",
     "text": [
      "Epoch 298: 1batch [00:00,  6.06batch/s, loss=194]"
     ]
    },
    {
     "name": "stdout",
     "output_type": "stream",
     "text": [
      "epoch 297: avg test  loss 283.61, bar  test loss 3.681, len  test loss 0.447, col  test loss 161.904\n"
     ]
    },
    {
     "name": "stderr",
     "output_type": "stream",
     "text": [
      "Epoch 298: 272batch [00:51,  5.29batch/s, loss=187]\n"
     ]
    },
    {
     "name": "stdout",
     "output_type": "stream",
     "text": [
      "epoch 298: avg train loss 195.36, bar train loss 2.079, len train loss 0.012, col train loss 149.486\n"
     ]
    },
    {
     "name": "stderr",
     "output_type": "stream",
     "text": [
      "Epoch 299: 1batch [00:00,  6.45batch/s, loss=201]"
     ]
    },
    {
     "name": "stdout",
     "output_type": "stream",
     "text": [
      "epoch 298: avg test  loss 288.30, bar  test loss 3.701, len  test loss 0.489, col  test loss 161.847\n"
     ]
    },
    {
     "name": "stderr",
     "output_type": "stream",
     "text": [
      "Epoch 299: 272batch [00:54,  5.02batch/s, loss=191]\n"
     ]
    },
    {
     "name": "stdout",
     "output_type": "stream",
     "text": [
      "epoch 299: avg train loss 195.16, bar train loss 2.073, len train loss 0.012, col train loss 149.427\n"
     ]
    },
    {
     "name": "stderr",
     "output_type": "stream",
     "text": [
      "\r",
      "Epoch 300: 0batch [00:00, ?batch/s]"
     ]
    },
    {
     "name": "stdout",
     "output_type": "stream",
     "text": [
      "epoch 299: avg test  loss 286.72, bar  test loss 3.695, len  test loss 0.477, col  test loss 161.841\n"
     ]
    },
    {
     "name": "stderr",
     "output_type": "stream",
     "text": [
      "Epoch 300: 272batch [00:54,  5.01batch/s, loss=204]\n"
     ]
    },
    {
     "name": "stdout",
     "output_type": "stream",
     "text": [
      "epoch 300: avg train loss 195.15, bar train loss 2.072, len train loss 0.012, col train loss 149.420\n",
      "epoch 300: avg test  loss 284.51, bar  test loss 3.706, len  test loss 0.451, col  test loss 161.794\n"
     ]
    },
    {
     "name": "stderr",
     "output_type": "stream",
     "text": [
      "Epoch 301: 272batch [00:48,  5.59batch/s, loss=206]\n"
     ]
    },
    {
     "name": "stdout",
     "output_type": "stream",
     "text": [
      "epoch 301: avg train loss 195.01, bar train loss 2.069, len train loss 0.012, col train loss 149.388\n"
     ]
    },
    {
     "name": "stderr",
     "output_type": "stream",
     "text": [
      "\r",
      "Epoch 302: 0batch [00:00, ?batch/s]"
     ]
    },
    {
     "name": "stdout",
     "output_type": "stream",
     "text": [
      "epoch 301: avg test  loss 289.46, bar  test loss 3.712, len  test loss 0.503, col  test loss 161.883\n"
     ]
    },
    {
     "name": "stderr",
     "output_type": "stream",
     "text": [
      "Epoch 302: 272batch [00:44,  6.09batch/s, loss=211]\n"
     ]
    },
    {
     "name": "stdout",
     "output_type": "stream",
     "text": [
      "epoch 302: avg train loss 195.12, bar train loss 2.073, len train loss 0.012, col train loss 149.409\n"
     ]
    },
    {
     "name": "stderr",
     "output_type": "stream",
     "text": [
      "Epoch 303: 1batch [00:00,  6.21batch/s, loss=199]"
     ]
    },
    {
     "name": "stdout",
     "output_type": "stream",
     "text": [
      "epoch 302: avg test  loss 286.84, bar  test loss 3.717, len  test loss 0.476, col  test loss 161.855\n"
     ]
    },
    {
     "name": "stderr",
     "output_type": "stream",
     "text": [
      "Epoch 303: 272batch [00:43,  6.26batch/s, loss=197]\n"
     ]
    },
    {
     "name": "stdout",
     "output_type": "stream",
     "text": [
      "epoch 303: avg train loss 195.02, bar train loss 2.071, len train loss 0.012, col train loss 149.346\n"
     ]
    },
    {
     "name": "stderr",
     "output_type": "stream",
     "text": [
      "Epoch 304: 1batch [00:00,  6.41batch/s, loss=199]"
     ]
    },
    {
     "name": "stdout",
     "output_type": "stream",
     "text": [
      "epoch 303: avg test  loss 287.28, bar  test loss 3.707, len  test loss 0.471, col  test loss 161.794\n"
     ]
    },
    {
     "name": "stderr",
     "output_type": "stream",
     "text": [
      "Epoch 304: 272batch [00:48,  5.59batch/s, loss=189]\n"
     ]
    },
    {
     "name": "stdout",
     "output_type": "stream",
     "text": [
      "epoch 304: avg train loss 194.93, bar train loss 2.069, len train loss 0.012, col train loss 149.338\n"
     ]
    },
    {
     "name": "stderr",
     "output_type": "stream",
     "text": [
      "Epoch 305: 1batch [00:00,  6.17batch/s, loss=199]"
     ]
    },
    {
     "name": "stdout",
     "output_type": "stream",
     "text": [
      "epoch 304: avg test  loss 287.96, bar  test loss 3.725, len  test loss 0.486, col  test loss 161.839\n"
     ]
    },
    {
     "name": "stderr",
     "output_type": "stream",
     "text": [
      "Epoch 305: 272batch [00:41,  6.58batch/s, loss=197]\n"
     ]
    },
    {
     "name": "stdout",
     "output_type": "stream",
     "text": [
      "epoch 305: avg train loss 195.09, bar train loss 2.072, len train loss 0.012, col train loss 149.379\n",
      "epoch 305: avg test  loss 289.93, bar  test loss 3.715, len  test loss 0.508, col  test loss 161.871\n"
     ]
    },
    {
     "name": "stderr",
     "output_type": "stream",
     "text": [
      "Epoch 306: 272batch [00:41,  6.63batch/s, loss=211]\n"
     ]
    },
    {
     "name": "stdout",
     "output_type": "stream",
     "text": [
      "epoch 306: avg train loss 194.88, bar train loss 2.067, len train loss 0.012, col train loss 149.315\n"
     ]
    },
    {
     "name": "stderr",
     "output_type": "stream",
     "text": [
      "Epoch 307: 1batch [00:00,  6.37batch/s, loss=187]"
     ]
    },
    {
     "name": "stdout",
     "output_type": "stream",
     "text": [
      "epoch 306: avg test  loss 290.27, bar  test loss 3.713, len  test loss 0.510, col  test loss 161.824\n"
     ]
    },
    {
     "name": "stderr",
     "output_type": "stream",
     "text": [
      "Epoch 307: 272batch [00:47,  5.78batch/s, loss=199]\n"
     ]
    },
    {
     "name": "stdout",
     "output_type": "stream",
     "text": [
      "epoch 307: avg train loss 194.90, bar train loss 2.068, len train loss 0.012, col train loss 149.335\n"
     ]
    },
    {
     "name": "stderr",
     "output_type": "stream",
     "text": [
      "\r",
      "Epoch 308: 0batch [00:00, ?batch/s]"
     ]
    },
    {
     "name": "stdout",
     "output_type": "stream",
     "text": [
      "epoch 307: avg test  loss 289.60, bar  test loss 3.697, len  test loss 0.496, col  test loss 161.826\n"
     ]
    },
    {
     "name": "stderr",
     "output_type": "stream",
     "text": [
      "Epoch 308: 272batch [00:48,  5.65batch/s, loss=199]\n"
     ]
    },
    {
     "name": "stdout",
     "output_type": "stream",
     "text": [
      "epoch 308: avg train loss 194.90, bar train loss 2.067, len train loss 0.012, col train loss 149.352\n"
     ]
    },
    {
     "name": "stderr",
     "output_type": "stream",
     "text": [
      "Epoch 309: 1batch [00:00,  6.41batch/s, loss=197]"
     ]
    },
    {
     "name": "stdout",
     "output_type": "stream",
     "text": [
      "epoch 308: avg test  loss 287.51, bar  test loss 3.710, len  test loss 0.484, col  test loss 161.846\n"
     ]
    },
    {
     "name": "stderr",
     "output_type": "stream",
     "text": [
      "Epoch 309: 272batch [00:44,  6.17batch/s, loss=208]\n"
     ]
    },
    {
     "name": "stdout",
     "output_type": "stream",
     "text": [
      "epoch 309: avg train loss 194.76, bar train loss 2.063, len train loss 0.012, col train loss 149.270\n"
     ]
    },
    {
     "name": "stderr",
     "output_type": "stream",
     "text": [
      "Epoch 310: 1batch [00:00,  6.10batch/s, loss=196]"
     ]
    },
    {
     "name": "stdout",
     "output_type": "stream",
     "text": [
      "epoch 309: avg test  loss 284.89, bar  test loss 3.711, len  test loss 0.457, col  test loss 161.892\n"
     ]
    },
    {
     "name": "stderr",
     "output_type": "stream",
     "text": [
      "Epoch 310: 272batch [00:45,  5.99batch/s, loss=190]\n"
     ]
    },
    {
     "name": "stdout",
     "output_type": "stream",
     "text": [
      "epoch 310: avg train loss 194.61, bar train loss 2.060, len train loss 0.011, col train loss 149.248\n",
      "epoch 310: avg test  loss 286.84, bar  test loss 3.717, len  test loss 0.469, col  test loss 161.848\n"
     ]
    },
    {
     "name": "stderr",
     "output_type": "stream",
     "text": [
      "Epoch 311: 272batch [00:51,  5.33batch/s, loss=214]\n"
     ]
    },
    {
     "name": "stdout",
     "output_type": "stream",
     "text": [
      "epoch 311: avg train loss 194.69, bar train loss 2.061, len train loss 0.011, col train loss 149.295\n"
     ]
    },
    {
     "name": "stderr",
     "output_type": "stream",
     "text": [
      "\r",
      "Epoch 312: 0batch [00:00, ?batch/s]"
     ]
    },
    {
     "name": "stdout",
     "output_type": "stream",
     "text": [
      "epoch 311: avg test  loss 288.87, bar  test loss 3.741, len  test loss 0.493, col  test loss 161.931\n"
     ]
    },
    {
     "name": "stderr",
     "output_type": "stream",
     "text": [
      "Epoch 312: 272batch [00:44,  6.08batch/s, loss=197]\n"
     ]
    },
    {
     "name": "stdout",
     "output_type": "stream",
     "text": [
      "epoch 312: avg train loss 194.61, bar train loss 2.061, len train loss 0.012, col train loss 149.224\n"
     ]
    },
    {
     "name": "stderr",
     "output_type": "stream",
     "text": [
      "Epoch 313: 1batch [00:00,  6.80batch/s, loss=194]"
     ]
    },
    {
     "name": "stdout",
     "output_type": "stream",
     "text": [
      "epoch 312: avg test  loss 287.64, bar  test loss 3.734, len  test loss 0.480, col  test loss 161.926\n"
     ]
    },
    {
     "name": "stderr",
     "output_type": "stream",
     "text": [
      "Epoch 313: 272batch [00:46,  5.82batch/s, loss=202]\n"
     ]
    },
    {
     "name": "stdout",
     "output_type": "stream",
     "text": [
      "epoch 313: avg train loss 194.65, bar train loss 2.062, len train loss 0.012, col train loss 149.254\n"
     ]
    },
    {
     "name": "stderr",
     "output_type": "stream",
     "text": [
      "Epoch 314: 1batch [00:00,  6.67batch/s, loss=196]"
     ]
    },
    {
     "name": "stdout",
     "output_type": "stream",
     "text": [
      "epoch 313: avg test  loss 288.47, bar  test loss 3.739, len  test loss 0.482, col  test loss 161.856\n"
     ]
    },
    {
     "name": "stderr",
     "output_type": "stream",
     "text": [
      "Epoch 314: 272batch [00:49,  5.45batch/s, loss=201]\n"
     ]
    },
    {
     "name": "stdout",
     "output_type": "stream",
     "text": [
      "epoch 314: avg train loss 194.63, bar train loss 2.060, len train loss 0.012, col train loss 149.211\n"
     ]
    },
    {
     "name": "stderr",
     "output_type": "stream",
     "text": [
      "Epoch 315: 1batch [00:00,  7.69batch/s, loss=191]"
     ]
    },
    {
     "name": "stdout",
     "output_type": "stream",
     "text": [
      "epoch 314: avg test  loss 293.28, bar  test loss 3.715, len  test loss 0.536, col  test loss 161.873\n"
     ]
    },
    {
     "name": "stderr",
     "output_type": "stream",
     "text": [
      "Epoch 315: 272batch [00:49,  5.49batch/s, loss=197]\n"
     ]
    },
    {
     "name": "stdout",
     "output_type": "stream",
     "text": [
      "epoch 315: avg train loss 194.50, bar train loss 2.059, len train loss 0.011, col train loss 149.187\n",
      "epoch 315: avg test  loss 287.67, bar  test loss 3.726, len  test loss 0.483, col  test loss 161.862\n"
     ]
    },
    {
     "name": "stderr",
     "output_type": "stream",
     "text": [
      "Epoch 316: 272batch [00:45,  5.94batch/s, loss=206]\n"
     ]
    },
    {
     "name": "stdout",
     "output_type": "stream",
     "text": [
      "epoch 316: avg train loss 194.41, bar train loss 2.053, len train loss 0.011, col train loss 149.221\n"
     ]
    },
    {
     "name": "stderr",
     "output_type": "stream",
     "text": [
      "\r",
      "Epoch 317: 0batch [00:00, ?batch/s]"
     ]
    },
    {
     "name": "stdout",
     "output_type": "stream",
     "text": [
      "epoch 316: avg test  loss 288.53, bar  test loss 3.739, len  test loss 0.489, col  test loss 161.937\n"
     ]
    },
    {
     "name": "stderr",
     "output_type": "stream",
     "text": [
      "Epoch 317: 272batch [00:49,  5.52batch/s, loss=206]\n"
     ]
    },
    {
     "name": "stdout",
     "output_type": "stream",
     "text": [
      "epoch 317: avg train loss 194.51, bar train loss 2.057, len train loss 0.012, col train loss 149.194\n"
     ]
    },
    {
     "name": "stderr",
     "output_type": "stream",
     "text": [
      "\r",
      "Epoch 318: 0batch [00:00, ?batch/s]"
     ]
    },
    {
     "name": "stdout",
     "output_type": "stream",
     "text": [
      "epoch 317: avg test  loss 290.40, bar  test loss 3.720, len  test loss 0.507, col  test loss 161.914\n"
     ]
    },
    {
     "name": "stderr",
     "output_type": "stream",
     "text": [
      "Epoch 318: 272batch [00:50,  5.35batch/s, loss=203]\n"
     ]
    },
    {
     "name": "stdout",
     "output_type": "stream",
     "text": [
      "epoch 318: avg train loss 194.60, bar train loss 2.059, len train loss 0.012, col train loss 149.215\n"
     ]
    },
    {
     "name": "stderr",
     "output_type": "stream",
     "text": [
      "\r",
      "Epoch 319: 0batch [00:00, ?batch/s]"
     ]
    },
    {
     "name": "stdout",
     "output_type": "stream",
     "text": [
      "epoch 318: avg test  loss 287.91, bar  test loss 3.734, len  test loss 0.483, col  test loss 161.997\n"
     ]
    },
    {
     "name": "stderr",
     "output_type": "stream",
     "text": [
      "Epoch 319: 272batch [00:46,  5.88batch/s, loss=199]\n"
     ]
    },
    {
     "name": "stdout",
     "output_type": "stream",
     "text": [
      "epoch 319: avg train loss 194.32, bar train loss 2.049, len train loss 0.012, col train loss 149.173\n"
     ]
    },
    {
     "name": "stderr",
     "output_type": "stream",
     "text": [
      "\r",
      "Epoch 320: 0batch [00:00, ?batch/s]"
     ]
    },
    {
     "name": "stdout",
     "output_type": "stream",
     "text": [
      "epoch 319: avg test  loss 285.77, bar  test loss 3.742, len  test loss 0.457, col  test loss 161.923\n"
     ]
    },
    {
     "name": "stderr",
     "output_type": "stream",
     "text": [
      "Epoch 320: 272batch [00:50,  5.40batch/s, loss=219]\n"
     ]
    },
    {
     "name": "stdout",
     "output_type": "stream",
     "text": [
      "epoch 320: avg train loss 194.41, bar train loss 2.055, len train loss 0.011, col train loss 149.172\n",
      "epoch 320: avg test  loss 287.88, bar  test loss 3.733, len  test loss 0.483, col  test loss 161.925\n"
     ]
    },
    {
     "name": "stderr",
     "output_type": "stream",
     "text": [
      "Epoch 321: 272batch [00:48,  5.58batch/s, loss=200]\n"
     ]
    },
    {
     "name": "stdout",
     "output_type": "stream",
     "text": [
      "epoch 321: avg train loss 194.40, bar train loss 2.051, len train loss 0.012, col train loss 149.174\n"
     ]
    },
    {
     "name": "stderr",
     "output_type": "stream",
     "text": [
      "Epoch 322: 1batch [00:00,  6.21batch/s, loss=201]"
     ]
    },
    {
     "name": "stdout",
     "output_type": "stream",
     "text": [
      "epoch 321: avg test  loss 293.40, bar  test loss 3.736, len  test loss 0.538, col  test loss 161.870\n"
     ]
    },
    {
     "name": "stderr",
     "output_type": "stream",
     "text": [
      "Epoch 322: 272batch [00:40,  6.74batch/s, loss=180]\n"
     ]
    },
    {
     "name": "stdout",
     "output_type": "stream",
     "text": [
      "epoch 322: avg train loss 194.37, bar train loss 2.057, len train loss 0.011, col train loss 149.112\n"
     ]
    },
    {
     "name": "stderr",
     "output_type": "stream",
     "text": [
      "Epoch 323: 1batch [00:00,  6.41batch/s, loss=189]"
     ]
    },
    {
     "name": "stdout",
     "output_type": "stream",
     "text": [
      "epoch 322: avg test  loss 286.01, bar  test loss 3.742, len  test loss 0.461, col  test loss 161.955\n"
     ]
    },
    {
     "name": "stderr",
     "output_type": "stream",
     "text": [
      "Epoch 323: 272batch [00:47,  5.76batch/s, loss=195]\n"
     ]
    },
    {
     "name": "stdout",
     "output_type": "stream",
     "text": [
      "epoch 323: avg train loss 194.30, bar train loss 2.053, len train loss 0.011, col train loss 149.117\n"
     ]
    },
    {
     "name": "stderr",
     "output_type": "stream",
     "text": [
      "\r",
      "Epoch 324: 0batch [00:00, ?batch/s]"
     ]
    },
    {
     "name": "stdout",
     "output_type": "stream",
     "text": [
      "epoch 323: avg test  loss 289.39, bar  test loss 3.767, len  test loss 0.488, col  test loss 161.929\n"
     ]
    },
    {
     "name": "stderr",
     "output_type": "stream",
     "text": [
      "Epoch 324: 272batch [00:54,  4.96batch/s, loss=192]\n"
     ]
    },
    {
     "name": "stdout",
     "output_type": "stream",
     "text": [
      "epoch 324: avg train loss 194.31, bar train loss 2.053, len train loss 0.011, col train loss 149.123\n"
     ]
    },
    {
     "name": "stderr",
     "output_type": "stream",
     "text": [
      "Epoch 325: 1batch [00:00,  6.14batch/s, loss=194]"
     ]
    },
    {
     "name": "stdout",
     "output_type": "stream",
     "text": [
      "epoch 324: avg test  loss 289.49, bar  test loss 3.744, len  test loss 0.494, col  test loss 162.032\n"
     ]
    },
    {
     "name": "stderr",
     "output_type": "stream",
     "text": [
      "Epoch 325: 272batch [00:51,  5.31batch/s, loss=193]\n"
     ]
    },
    {
     "name": "stdout",
     "output_type": "stream",
     "text": [
      "epoch 325: avg train loss 194.29, bar train loss 2.051, len train loss 0.011, col train loss 149.137\n",
      "epoch 325: avg test  loss 288.00, bar  test loss 3.746, len  test loss 0.480, col  test loss 162.075\n"
     ]
    },
    {
     "name": "stderr",
     "output_type": "stream",
     "text": [
      "Epoch 326: 272batch [00:52,  5.23batch/s, loss=186]\n"
     ]
    },
    {
     "name": "stdout",
     "output_type": "stream",
     "text": [
      "epoch 326: avg train loss 194.22, bar train loss 2.047, len train loss 0.012, col train loss 149.126\n"
     ]
    },
    {
     "name": "stderr",
     "output_type": "stream",
     "text": [
      "\r",
      "Epoch 327: 0batch [00:00, ?batch/s]"
     ]
    },
    {
     "name": "stdout",
     "output_type": "stream",
     "text": [
      "epoch 326: avg test  loss 286.87, bar  test loss 3.733, len  test loss 0.474, col  test loss 161.924\n"
     ]
    },
    {
     "name": "stderr",
     "output_type": "stream",
     "text": [
      "Epoch 327: 272batch [00:54,  4.96batch/s, loss=198]\n"
     ]
    },
    {
     "name": "stdout",
     "output_type": "stream",
     "text": [
      "epoch 327: avg train loss 194.04, bar train loss 2.043, len train loss 0.012, col train loss 149.035\n"
     ]
    },
    {
     "name": "stderr",
     "output_type": "stream",
     "text": [
      "\r",
      "Epoch 328: 0batch [00:00, ?batch/s]"
     ]
    },
    {
     "name": "stdout",
     "output_type": "stream",
     "text": [
      "epoch 327: avg test  loss 286.09, bar  test loss 3.754, len  test loss 0.462, col  test loss 161.849\n"
     ]
    },
    {
     "name": "stderr",
     "output_type": "stream",
     "text": [
      "Epoch 328: 272batch [00:50,  5.44batch/s, loss=207]\n"
     ]
    },
    {
     "name": "stdout",
     "output_type": "stream",
     "text": [
      "epoch 328: avg train loss 194.16, bar train loss 2.050, len train loss 0.011, col train loss 149.047\n"
     ]
    },
    {
     "name": "stderr",
     "output_type": "stream",
     "text": [
      "\r",
      "Epoch 329: 0batch [00:00, ?batch/s]"
     ]
    },
    {
     "name": "stdout",
     "output_type": "stream",
     "text": [
      "epoch 328: avg test  loss 291.65, bar  test loss 3.741, len  test loss 0.518, col  test loss 162.063\n"
     ]
    },
    {
     "name": "stderr",
     "output_type": "stream",
     "text": [
      "Epoch 329: 272batch [00:52,  5.20batch/s, loss=210]\n"
     ]
    },
    {
     "name": "stdout",
     "output_type": "stream",
     "text": [
      "epoch 329: avg train loss 194.21, bar train loss 2.049, len train loss 0.011, col train loss 149.102\n"
     ]
    },
    {
     "name": "stderr",
     "output_type": "stream",
     "text": [
      "\r",
      "Epoch 330: 0batch [00:00, ?batch/s]"
     ]
    },
    {
     "name": "stdout",
     "output_type": "stream",
     "text": [
      "epoch 329: avg test  loss 285.99, bar  test loss 3.746, len  test loss 0.462, col  test loss 161.992\n"
     ]
    },
    {
     "name": "stderr",
     "output_type": "stream",
     "text": [
      "Epoch 330: 272batch [00:53,  5.13batch/s, loss=201]\n"
     ]
    },
    {
     "name": "stdout",
     "output_type": "stream",
     "text": [
      "epoch 330: avg train loss 194.14, bar train loss 2.047, len train loss 0.011, col train loss 149.063\n",
      "epoch 330: avg test  loss 290.38, bar  test loss 3.780, len  test loss 0.493, col  test loss 162.011\n"
     ]
    },
    {
     "name": "stderr",
     "output_type": "stream",
     "text": [
      "Epoch 331: 272batch [00:55,  4.91batch/s, loss=193]\n"
     ]
    },
    {
     "name": "stdout",
     "output_type": "stream",
     "text": [
      "epoch 331: avg train loss 194.26, bar train loss 2.051, len train loss 0.012, col train loss 149.118\n"
     ]
    },
    {
     "name": "stderr",
     "output_type": "stream",
     "text": [
      "Epoch 332: 1batch [00:00,  6.67batch/s, loss=193]"
     ]
    },
    {
     "name": "stdout",
     "output_type": "stream",
     "text": [
      "epoch 331: avg test  loss 287.88, bar  test loss 3.756, len  test loss 0.477, col  test loss 161.950\n"
     ]
    },
    {
     "name": "stderr",
     "output_type": "stream",
     "text": [
      "Epoch 332: 272batch [00:53,  5.09batch/s, loss=197]\n"
     ]
    },
    {
     "name": "stdout",
     "output_type": "stream",
     "text": [
      "epoch 332: avg train loss 194.08, bar train loss 2.048, len train loss 0.011, col train loss 149.036\n"
     ]
    },
    {
     "name": "stderr",
     "output_type": "stream",
     "text": [
      "\r",
      "Epoch 333: 0batch [00:00, ?batch/s]"
     ]
    },
    {
     "name": "stdout",
     "output_type": "stream",
     "text": [
      "epoch 332: avg test  loss 287.94, bar  test loss 3.756, len  test loss 0.477, col  test loss 162.086\n"
     ]
    },
    {
     "name": "stderr",
     "output_type": "stream",
     "text": [
      "Epoch 333: 272batch [00:53,  5.04batch/s, loss=198]\n"
     ]
    },
    {
     "name": "stdout",
     "output_type": "stream",
     "text": [
      "epoch 333: avg train loss 194.09, bar train loss 2.047, len train loss 0.011, col train loss 149.043\n"
     ]
    },
    {
     "name": "stderr",
     "output_type": "stream",
     "text": [
      "\r",
      "Epoch 334: 0batch [00:00, ?batch/s]"
     ]
    },
    {
     "name": "stdout",
     "output_type": "stream",
     "text": [
      "epoch 333: avg test  loss 290.82, bar  test loss 3.759, len  test loss 0.507, col  test loss 162.033\n"
     ]
    },
    {
     "name": "stderr",
     "output_type": "stream",
     "text": [
      "Epoch 334: 272batch [00:52,  5.16batch/s, loss=214]\n"
     ]
    },
    {
     "name": "stdout",
     "output_type": "stream",
     "text": [
      "epoch 334: avg train loss 194.02, bar train loss 2.049, len train loss 0.011, col train loss 148.963\n"
     ]
    },
    {
     "name": "stderr",
     "output_type": "stream",
     "text": [
      "Epoch 335: 1batch [00:00,  6.49batch/s, loss=186]"
     ]
    },
    {
     "name": "stdout",
     "output_type": "stream",
     "text": [
      "epoch 334: avg test  loss 286.77, bar  test loss 3.772, len  test loss 0.465, col  test loss 161.987\n"
     ]
    },
    {
     "name": "stderr",
     "output_type": "stream",
     "text": [
      "Epoch 335: 272batch [01:02,  4.34batch/s, loss=209]\n"
     ]
    },
    {
     "name": "stdout",
     "output_type": "stream",
     "text": [
      "epoch 335: avg train loss 193.93, bar train loss 2.039, len train loss 0.012, col train loss 149.005\n",
      "epoch 335: avg test  loss 284.69, bar  test loss 3.762, len  test loss 0.444, col  test loss 161.990\n"
     ]
    },
    {
     "name": "stderr",
     "output_type": "stream",
     "text": [
      "Epoch 336: 272batch [00:43,  6.30batch/s, loss=195]\n"
     ]
    },
    {
     "name": "stdout",
     "output_type": "stream",
     "text": [
      "epoch 336: avg train loss 193.97, bar train loss 2.044, len train loss 0.011, col train loss 148.990\n"
     ]
    },
    {
     "name": "stderr",
     "output_type": "stream",
     "text": [
      "Epoch 337: 1batch [00:00,  6.45batch/s, loss=198]"
     ]
    },
    {
     "name": "stdout",
     "output_type": "stream",
     "text": [
      "epoch 336: avg test  loss 291.13, bar  test loss 3.758, len  test loss 0.509, col  test loss 161.957\n"
     ]
    },
    {
     "name": "stderr",
     "output_type": "stream",
     "text": [
      "Epoch 337: 272batch [00:41,  6.51batch/s, loss=199]\n"
     ]
    },
    {
     "name": "stdout",
     "output_type": "stream",
     "text": [
      "epoch 337: avg train loss 193.85, bar train loss 2.041, len train loss 0.011, col train loss 148.985\n"
     ]
    },
    {
     "name": "stderr",
     "output_type": "stream",
     "text": [
      "\r",
      "Epoch 338: 0batch [00:00, ?batch/s]"
     ]
    },
    {
     "name": "stdout",
     "output_type": "stream",
     "text": [
      "epoch 337: avg test  loss 286.73, bar  test loss 3.753, len  test loss 0.469, col  test loss 161.953\n"
     ]
    },
    {
     "name": "stderr",
     "output_type": "stream",
     "text": [
      "Epoch 338: 272batch [00:49,  5.53batch/s, loss=209]\n"
     ]
    },
    {
     "name": "stdout",
     "output_type": "stream",
     "text": [
      "epoch 338: avg train loss 193.80, bar train loss 2.038, len train loss 0.011, col train loss 148.986\n"
     ]
    },
    {
     "name": "stderr",
     "output_type": "stream",
     "text": [
      "Epoch 339: 1batch [00:00,  6.13batch/s, loss=189]"
     ]
    },
    {
     "name": "stdout",
     "output_type": "stream",
     "text": [
      "epoch 338: avg test  loss 288.55, bar  test loss 3.750, len  test loss 0.487, col  test loss 161.974\n"
     ]
    },
    {
     "name": "stderr",
     "output_type": "stream",
     "text": [
      "Epoch 339: 272batch [00:55,  4.92batch/s, loss=215]\n"
     ]
    },
    {
     "name": "stdout",
     "output_type": "stream",
     "text": [
      "epoch 339: avg train loss 193.79, bar train loss 2.039, len train loss 0.011, col train loss 148.954\n"
     ]
    },
    {
     "name": "stderr",
     "output_type": "stream",
     "text": [
      "Epoch 340: 1batch [00:00,  7.30batch/s, loss=192]"
     ]
    },
    {
     "name": "stdout",
     "output_type": "stream",
     "text": [
      "epoch 339: avg test  loss 288.06, bar  test loss 3.750, len  test loss 0.480, col  test loss 162.004\n"
     ]
    },
    {
     "name": "stderr",
     "output_type": "stream",
     "text": [
      "Epoch 340: 272batch [00:47,  5.68batch/s, loss=188]\n"
     ]
    },
    {
     "name": "stdout",
     "output_type": "stream",
     "text": [
      "epoch 340: avg train loss 193.66, bar train loss 2.031, len train loss 0.011, col train loss 148.969\n",
      "epoch 340: avg test  loss 287.06, bar  test loss 3.754, len  test loss 0.466, col  test loss 162.090\n"
     ]
    },
    {
     "name": "stderr",
     "output_type": "stream",
     "text": [
      "Epoch 341: 272batch [00:45,  6.01batch/s, loss=202]\n"
     ]
    },
    {
     "name": "stdout",
     "output_type": "stream",
     "text": [
      "epoch 341: avg train loss 193.83, bar train loss 2.040, len train loss 0.011, col train loss 148.964\n"
     ]
    },
    {
     "name": "stderr",
     "output_type": "stream",
     "text": [
      "\r",
      "Epoch 342: 0batch [00:00, ?batch/s]"
     ]
    },
    {
     "name": "stdout",
     "output_type": "stream",
     "text": [
      "epoch 341: avg test  loss 287.26, bar  test loss 3.745, len  test loss 0.475, col  test loss 161.979\n"
     ]
    },
    {
     "name": "stderr",
     "output_type": "stream",
     "text": [
      "Epoch 342: 272batch [00:51,  5.25batch/s, loss=206]\n"
     ]
    },
    {
     "name": "stdout",
     "output_type": "stream",
     "text": [
      "epoch 342: avg train loss 193.79, bar train loss 2.042, len train loss 0.011, col train loss 148.911\n"
     ]
    },
    {
     "name": "stderr",
     "output_type": "stream",
     "text": [
      "\r",
      "Epoch 343: 0batch [00:00, ?batch/s]"
     ]
    },
    {
     "name": "stdout",
     "output_type": "stream",
     "text": [
      "epoch 342: avg test  loss 289.43, bar  test loss 3.749, len  test loss 0.487, col  test loss 162.033\n"
     ]
    },
    {
     "name": "stderr",
     "output_type": "stream",
     "text": [
      "Epoch 343: 272batch [00:46,  5.79batch/s, loss=194]\n"
     ]
    },
    {
     "name": "stdout",
     "output_type": "stream",
     "text": [
      "epoch 343: avg train loss 193.62, bar train loss 2.034, len train loss 0.011, col train loss 148.914\n"
     ]
    },
    {
     "name": "stderr",
     "output_type": "stream",
     "text": [
      "Epoch 344: 1batch [00:00,  6.71batch/s, loss=193]"
     ]
    },
    {
     "name": "stdout",
     "output_type": "stream",
     "text": [
      "epoch 343: avg test  loss 287.93, bar  test loss 3.755, len  test loss 0.476, col  test loss 161.957\n"
     ]
    },
    {
     "name": "stderr",
     "output_type": "stream",
     "text": [
      "Epoch 344: 272batch [00:40,  6.70batch/s, loss=197]\n"
     ]
    },
    {
     "name": "stdout",
     "output_type": "stream",
     "text": [
      "epoch 344: avg train loss 193.65, bar train loss 2.036, len train loss 0.011, col train loss 148.887\n"
     ]
    },
    {
     "name": "stderr",
     "output_type": "stream",
     "text": [
      "Epoch 345: 1batch [00:00,  6.37batch/s, loss=195]"
     ]
    },
    {
     "name": "stdout",
     "output_type": "stream",
     "text": [
      "epoch 344: avg test  loss 292.63, bar  test loss 3.769, len  test loss 0.522, col  test loss 162.005\n"
     ]
    },
    {
     "name": "stderr",
     "output_type": "stream",
     "text": [
      "Epoch 345: 272batch [00:52,  5.17batch/s, loss=201]\n"
     ]
    },
    {
     "name": "stdout",
     "output_type": "stream",
     "text": [
      "epoch 345: avg train loss 193.72, bar train loss 2.036, len train loss 0.012, col train loss 148.927\n",
      "epoch 345: avg test  loss 288.61, bar  test loss 3.767, len  test loss 0.477, col  test loss 162.000\n"
     ]
    },
    {
     "name": "stderr",
     "output_type": "stream",
     "text": [
      "Epoch 346: 272batch [00:53,  5.10batch/s, loss=194]\n"
     ]
    },
    {
     "name": "stdout",
     "output_type": "stream",
     "text": [
      "epoch 346: avg train loss 193.67, bar train loss 2.038, len train loss 0.011, col train loss 148.875\n"
     ]
    },
    {
     "name": "stderr",
     "output_type": "stream",
     "text": [
      "Epoch 347: 0batch [00:00, ?batch/s, loss=187]"
     ]
    },
    {
     "name": "stdout",
     "output_type": "stream",
     "text": [
      "epoch 346: avg test  loss 291.05, bar  test loss 3.754, len  test loss 0.508, col  test loss 161.977\n"
     ]
    },
    {
     "name": "stderr",
     "output_type": "stream",
     "text": [
      "Epoch 347: 272batch [00:50,  5.42batch/s, loss=198]\n"
     ]
    },
    {
     "name": "stdout",
     "output_type": "stream",
     "text": [
      "epoch 347: avg train loss 193.59, bar train loss 2.034, len train loss 0.011, col train loss 148.883\n"
     ]
    },
    {
     "name": "stderr",
     "output_type": "stream",
     "text": [
      "\r",
      "Epoch 348: 0batch [00:00, ?batch/s]"
     ]
    },
    {
     "name": "stdout",
     "output_type": "stream",
     "text": [
      "epoch 347: avg test  loss 291.97, bar  test loss 3.759, len  test loss 0.518, col  test loss 162.012\n"
     ]
    },
    {
     "name": "stderr",
     "output_type": "stream",
     "text": [
      "Epoch 348: 272batch [00:53,  5.08batch/s, loss=203]\n"
     ]
    },
    {
     "name": "stdout",
     "output_type": "stream",
     "text": [
      "epoch 348: avg train loss 193.56, bar train loss 2.036, len train loss 0.011, col train loss 148.855\n"
     ]
    },
    {
     "name": "stderr",
     "output_type": "stream",
     "text": [
      "Epoch 349: 0batch [00:00, ?batch/s, loss=186]"
     ]
    },
    {
     "name": "stdout",
     "output_type": "stream",
     "text": [
      "epoch 348: avg test  loss 287.51, bar  test loss 3.763, len  test loss 0.471, col  test loss 161.996\n"
     ]
    },
    {
     "name": "stderr",
     "output_type": "stream",
     "text": [
      "Epoch 349: 272batch [00:48,  5.62batch/s, loss=203]\n"
     ]
    },
    {
     "name": "stdout",
     "output_type": "stream",
     "text": [
      "epoch 349: avg train loss 193.50, bar train loss 2.033, len train loss 0.011, col train loss 148.863\n"
     ]
    },
    {
     "name": "stderr",
     "output_type": "stream",
     "text": [
      "Epoch 350: 1batch [00:00,  7.58batch/s, loss=190]"
     ]
    },
    {
     "name": "stdout",
     "output_type": "stream",
     "text": [
      "epoch 349: avg test  loss 288.05, bar  test loss 3.780, len  test loss 0.473, col  test loss 162.018\n"
     ]
    },
    {
     "name": "stderr",
     "output_type": "stream",
     "text": [
      "Epoch 350: 272batch [00:39,  6.83batch/s, loss=194]\n"
     ]
    },
    {
     "name": "stdout",
     "output_type": "stream",
     "text": [
      "epoch 350: avg train loss 193.45, bar train loss 2.031, len train loss 0.011, col train loss 148.841\n",
      "epoch 350: avg test  loss 291.23, bar  test loss 3.785, len  test loss 0.506, col  test loss 162.068\n"
     ]
    },
    {
     "name": "stderr",
     "output_type": "stream",
     "text": [
      "Epoch 351: 272batch [00:42,  6.39batch/s, loss=201]\n"
     ]
    },
    {
     "name": "stdout",
     "output_type": "stream",
     "text": [
      "epoch 351: avg train loss 193.39, bar train loss 2.029, len train loss 0.011, col train loss 148.805\n"
     ]
    },
    {
     "name": "stderr",
     "output_type": "stream",
     "text": [
      "\r",
      "Epoch 352: 0batch [00:00, ?batch/s]"
     ]
    },
    {
     "name": "stdout",
     "output_type": "stream",
     "text": [
      "epoch 351: avg test  loss 290.51, bar  test loss 3.764, len  test loss 0.500, col  test loss 161.989\n"
     ]
    },
    {
     "name": "stderr",
     "output_type": "stream",
     "text": [
      "Epoch 352: 272batch [00:48,  5.57batch/s, loss=205]\n"
     ]
    },
    {
     "name": "stdout",
     "output_type": "stream",
     "text": [
      "epoch 352: avg train loss 193.41, bar train loss 2.029, len train loss 0.011, col train loss 148.846\n"
     ]
    },
    {
     "name": "stderr",
     "output_type": "stream",
     "text": [
      "\r",
      "Epoch 353: 0batch [00:00, ?batch/s]"
     ]
    },
    {
     "name": "stdout",
     "output_type": "stream",
     "text": [
      "epoch 352: avg test  loss 287.82, bar  test loss 3.800, len  test loss 0.466, col  test loss 162.087\n"
     ]
    },
    {
     "name": "stderr",
     "output_type": "stream",
     "text": [
      "Epoch 353: 272batch [00:49,  5.53batch/s, loss=181]\n"
     ]
    },
    {
     "name": "stdout",
     "output_type": "stream",
     "text": [
      "epoch 353: avg train loss 193.48, bar train loss 2.032, len train loss 0.011, col train loss 148.841\n"
     ]
    },
    {
     "name": "stderr",
     "output_type": "stream",
     "text": [
      "\r",
      "Epoch 354: 0batch [00:00, ?batch/s]"
     ]
    },
    {
     "name": "stdout",
     "output_type": "stream",
     "text": [
      "epoch 353: avg test  loss 286.76, bar  test loss 3.772, len  test loss 0.462, col  test loss 161.983\n"
     ]
    },
    {
     "name": "stderr",
     "output_type": "stream",
     "text": [
      "Epoch 354: 272batch [00:53,  5.04batch/s, loss=190]\n"
     ]
    },
    {
     "name": "stdout",
     "output_type": "stream",
     "text": [
      "epoch 354: avg train loss 193.38, bar train loss 2.026, len train loss 0.011, col train loss 148.834\n"
     ]
    },
    {
     "name": "stderr",
     "output_type": "stream",
     "text": [
      "\r",
      "Epoch 355: 0batch [00:00, ?batch/s]"
     ]
    },
    {
     "name": "stdout",
     "output_type": "stream",
     "text": [
      "epoch 354: avg test  loss 288.66, bar  test loss 3.775, len  test loss 0.478, col  test loss 161.986\n"
     ]
    },
    {
     "name": "stderr",
     "output_type": "stream",
     "text": [
      "Epoch 355: 272batch [00:52,  5.21batch/s, loss=194]\n"
     ]
    },
    {
     "name": "stdout",
     "output_type": "stream",
     "text": [
      "epoch 355: avg train loss 193.43, bar train loss 2.029, len train loss 0.011, col train loss 148.827\n",
      "epoch 355: avg test  loss 288.07, bar  test loss 3.779, len  test loss 0.474, col  test loss 162.115\n"
     ]
    },
    {
     "name": "stderr",
     "output_type": "stream",
     "text": [
      "Epoch 356: 272batch [00:52,  5.17batch/s, loss=192]\n"
     ]
    },
    {
     "name": "stdout",
     "output_type": "stream",
     "text": [
      "epoch 356: avg train loss 193.45, bar train loss 2.030, len train loss 0.011, col train loss 148.798\n"
     ]
    },
    {
     "name": "stderr",
     "output_type": "stream",
     "text": [
      "Epoch 357: 1batch [00:00,  6.54batch/s, loss=194]"
     ]
    },
    {
     "name": "stdout",
     "output_type": "stream",
     "text": [
      "epoch 356: avg test  loss 288.37, bar  test loss 3.766, len  test loss 0.481, col  test loss 162.001\n"
     ]
    },
    {
     "name": "stderr",
     "output_type": "stream",
     "text": [
      "Epoch 357: 272batch [00:54,  4.97batch/s, loss=201]\n"
     ]
    },
    {
     "name": "stdout",
     "output_type": "stream",
     "text": [
      "epoch 357: avg train loss 193.30, bar train loss 2.030, len train loss 0.011, col train loss 148.762\n"
     ]
    },
    {
     "name": "stderr",
     "output_type": "stream",
     "text": [
      "\r",
      "Epoch 358: 0batch [00:00, ?batch/s]"
     ]
    },
    {
     "name": "stdout",
     "output_type": "stream",
     "text": [
      "epoch 357: avg test  loss 288.88, bar  test loss 3.770, len  test loss 0.485, col  test loss 162.110\n"
     ]
    },
    {
     "name": "stderr",
     "output_type": "stream",
     "text": [
      "Epoch 358: 272batch [00:53,  5.04batch/s, loss=204]\n"
     ]
    },
    {
     "name": "stdout",
     "output_type": "stream",
     "text": [
      "epoch 358: avg train loss 193.29, bar train loss 2.027, len train loss 0.011, col train loss 148.780\n"
     ]
    },
    {
     "name": "stderr",
     "output_type": "stream",
     "text": [
      "Epoch 359: 1batch [00:00,  6.54batch/s, loss=192]"
     ]
    },
    {
     "name": "stdout",
     "output_type": "stream",
     "text": [
      "epoch 358: avg test  loss 288.29, bar  test loss 3.799, len  test loss 0.475, col  test loss 162.030\n"
     ]
    },
    {
     "name": "stderr",
     "output_type": "stream",
     "text": [
      "Epoch 359: 272batch [00:56,  4.81batch/s, loss=213]\n"
     ]
    },
    {
     "name": "stdout",
     "output_type": "stream",
     "text": [
      "epoch 359: avg train loss 193.42, bar train loss 2.032, len train loss 0.011, col train loss 148.777\n"
     ]
    },
    {
     "name": "stderr",
     "output_type": "stream",
     "text": [
      "\r",
      "Epoch 360: 0batch [00:00, ?batch/s]"
     ]
    },
    {
     "name": "stdout",
     "output_type": "stream",
     "text": [
      "epoch 359: avg test  loss 291.14, bar  test loss 3.786, len  test loss 0.505, col  test loss 162.060\n"
     ]
    },
    {
     "name": "stderr",
     "output_type": "stream",
     "text": [
      "Epoch 360: 272batch [00:54,  4.95batch/s, loss=224]\n"
     ]
    },
    {
     "name": "stdout",
     "output_type": "stream",
     "text": [
      "epoch 360: avg train loss 193.30, bar train loss 2.027, len train loss 0.011, col train loss 148.764\n",
      "epoch 360: avg test  loss 290.27, bar  test loss 3.768, len  test loss 0.497, col  test loss 162.094\n"
     ]
    },
    {
     "name": "stderr",
     "output_type": "stream",
     "text": [
      "Epoch 361: 272batch [00:54,  5.02batch/s, loss=196]\n"
     ]
    },
    {
     "name": "stdout",
     "output_type": "stream",
     "text": [
      "epoch 361: avg train loss 193.37, bar train loss 2.028, len train loss 0.011, col train loss 148.804\n"
     ]
    },
    {
     "name": "stderr",
     "output_type": "stream",
     "text": [
      "\r",
      "Epoch 362: 0batch [00:00, ?batch/s]"
     ]
    },
    {
     "name": "stdout",
     "output_type": "stream",
     "text": [
      "epoch 361: avg test  loss 284.47, bar  test loss 3.795, len  test loss 0.436, col  test loss 162.082\n"
     ]
    },
    {
     "name": "stderr",
     "output_type": "stream",
     "text": [
      "Epoch 362: 272batch [00:53,  5.12batch/s, loss=189]\n"
     ]
    },
    {
     "name": "stdout",
     "output_type": "stream",
     "text": [
      "epoch 362: avg train loss 193.18, bar train loss 2.022, len train loss 0.011, col train loss 148.735\n"
     ]
    },
    {
     "name": "stderr",
     "output_type": "stream",
     "text": [
      "\r",
      "Epoch 363: 0batch [00:00, ?batch/s]"
     ]
    },
    {
     "name": "stdout",
     "output_type": "stream",
     "text": [
      "epoch 362: avg test  loss 287.84, bar  test loss 3.810, len  test loss 0.465, col  test loss 162.086\n"
     ]
    },
    {
     "name": "stderr",
     "output_type": "stream",
     "text": [
      "Epoch 363: 272batch [00:52,  5.21batch/s, loss=195]\n"
     ]
    },
    {
     "name": "stdout",
     "output_type": "stream",
     "text": [
      "epoch 363: avg train loss 193.04, bar train loss 2.020, len train loss 0.011, col train loss 148.674\n"
     ]
    },
    {
     "name": "stderr",
     "output_type": "stream",
     "text": [
      "\r",
      "Epoch 364: 0batch [00:00, ?batch/s]"
     ]
    },
    {
     "name": "stdout",
     "output_type": "stream",
     "text": [
      "epoch 363: avg test  loss 289.34, bar  test loss 3.805, len  test loss 0.482, col  test loss 162.092\n"
     ]
    },
    {
     "name": "stderr",
     "output_type": "stream",
     "text": [
      "Epoch 364: 272batch [00:53,  5.07batch/s, loss=191]\n"
     ]
    },
    {
     "name": "stdout",
     "output_type": "stream",
     "text": [
      "epoch 364: avg train loss 193.09, bar train loss 2.021, len train loss 0.011, col train loss 148.729\n"
     ]
    },
    {
     "name": "stderr",
     "output_type": "stream",
     "text": [
      "\r",
      "Epoch 365: 0batch [00:00, ?batch/s]"
     ]
    },
    {
     "name": "stdout",
     "output_type": "stream",
     "text": [
      "epoch 364: avg test  loss 289.00, bar  test loss 3.794, len  test loss 0.480, col  test loss 162.071\n"
     ]
    },
    {
     "name": "stderr",
     "output_type": "stream",
     "text": [
      "Epoch 365: 272batch [00:51,  5.29batch/s, loss=196]\n"
     ]
    },
    {
     "name": "stdout",
     "output_type": "stream",
     "text": [
      "epoch 365: avg train loss 193.20, bar train loss 2.024, len train loss 0.011, col train loss 148.754\n",
      "epoch 365: avg test  loss 286.85, bar  test loss 3.796, len  test loss 0.460, col  test loss 162.059\n"
     ]
    },
    {
     "name": "stderr",
     "output_type": "stream",
     "text": [
      "Epoch 366: 272batch [00:50,  5.37batch/s, loss=185]\n"
     ]
    },
    {
     "name": "stdout",
     "output_type": "stream",
     "text": [
      "epoch 366: avg train loss 193.21, bar train loss 2.024, len train loss 0.011, col train loss 148.749\n"
     ]
    },
    {
     "name": "stderr",
     "output_type": "stream",
     "text": [
      "Epoch 367: 1batch [00:00,  7.04batch/s, loss=182]"
     ]
    },
    {
     "name": "stdout",
     "output_type": "stream",
     "text": [
      "epoch 366: avg test  loss 288.46, bar  test loss 3.800, len  test loss 0.475, col  test loss 162.096\n"
     ]
    },
    {
     "name": "stderr",
     "output_type": "stream",
     "text": [
      "Epoch 367: 272batch [00:49,  5.45batch/s, loss=209]\n"
     ]
    },
    {
     "name": "stdout",
     "output_type": "stream",
     "text": [
      "epoch 367: avg train loss 193.19, bar train loss 2.022, len train loss 0.012, col train loss 148.724\n"
     ]
    },
    {
     "name": "stderr",
     "output_type": "stream",
     "text": [
      "\r",
      "Epoch 368: 0batch [00:00, ?batch/s]"
     ]
    },
    {
     "name": "stdout",
     "output_type": "stream",
     "text": [
      "epoch 367: avg test  loss 292.94, bar  test loss 3.798, len  test loss 0.520, col  test loss 162.206\n"
     ]
    },
    {
     "name": "stderr",
     "output_type": "stream",
     "text": [
      "Epoch 368: 272batch [00:52,  5.17batch/s, loss=187]\n"
     ]
    },
    {
     "name": "stdout",
     "output_type": "stream",
     "text": [
      "epoch 368: avg train loss 192.87, bar train loss 2.013, len train loss 0.011, col train loss 148.657\n"
     ]
    },
    {
     "name": "stderr",
     "output_type": "stream",
     "text": [
      "Epoch 369: 1batch [00:00,  6.67batch/s, loss=191]"
     ]
    },
    {
     "name": "stdout",
     "output_type": "stream",
     "text": [
      "epoch 368: avg test  loss 288.44, bar  test loss 3.797, len  test loss 0.475, col  test loss 162.118\n"
     ]
    },
    {
     "name": "stderr",
     "output_type": "stream",
     "text": [
      "Epoch 369: 272batch [00:39,  6.87batch/s, loss=208]\n"
     ]
    },
    {
     "name": "stdout",
     "output_type": "stream",
     "text": [
      "epoch 369: avg train loss 192.95, bar train loss 2.017, len train loss 0.011, col train loss 148.665\n"
     ]
    },
    {
     "name": "stderr",
     "output_type": "stream",
     "text": [
      "\r",
      "Epoch 370: 0batch [00:00, ?batch/s]"
     ]
    },
    {
     "name": "stdout",
     "output_type": "stream",
     "text": [
      "epoch 369: avg test  loss 290.91, bar  test loss 3.812, len  test loss 0.496, col  test loss 162.087\n"
     ]
    },
    {
     "name": "stderr",
     "output_type": "stream",
     "text": [
      "Epoch 370: 272batch [00:37,  7.18batch/s, loss=185]\n"
     ]
    },
    {
     "name": "stdout",
     "output_type": "stream",
     "text": [
      "epoch 370: avg train loss 192.96, bar train loss 2.018, len train loss 0.011, col train loss 148.667\n",
      "epoch 370: avg test  loss 287.88, bar  test loss 3.802, len  test loss 0.469, col  test loss 162.102\n"
     ]
    },
    {
     "name": "stderr",
     "output_type": "stream",
     "text": [
      "Epoch 371: 272batch [00:32,  8.28batch/s, loss=189]\n"
     ]
    },
    {
     "name": "stdout",
     "output_type": "stream",
     "text": [
      "epoch 371: avg train loss 192.96, bar train loss 2.019, len train loss 0.011, col train loss 148.639\n"
     ]
    },
    {
     "name": "stderr",
     "output_type": "stream",
     "text": [
      "Epoch 372: 1batch [00:00,  8.20batch/s, loss=196]"
     ]
    },
    {
     "name": "stdout",
     "output_type": "stream",
     "text": [
      "epoch 371: avg test  loss 290.02, bar  test loss 3.806, len  test loss 0.490, col  test loss 162.077\n"
     ]
    },
    {
     "name": "stderr",
     "output_type": "stream",
     "text": [
      "Epoch 372: 272batch [00:32,  8.48batch/s, loss=200]\n"
     ]
    },
    {
     "name": "stdout",
     "output_type": "stream",
     "text": [
      "epoch 372: avg train loss 193.03, bar train loss 2.019, len train loss 0.011, col train loss 148.659\n"
     ]
    },
    {
     "name": "stderr",
     "output_type": "stream",
     "text": [
      "Epoch 373: 1batch [00:00,  8.13batch/s, loss=203]"
     ]
    },
    {
     "name": "stdout",
     "output_type": "stream",
     "text": [
      "epoch 372: avg test  loss 289.12, bar  test loss 3.814, len  test loss 0.478, col  test loss 162.148\n"
     ]
    },
    {
     "name": "stderr",
     "output_type": "stream",
     "text": [
      "Epoch 373: 272batch [00:31,  8.52batch/s, loss=198]\n"
     ]
    },
    {
     "name": "stdout",
     "output_type": "stream",
     "text": [
      "epoch 373: avg train loss 192.95, bar train loss 2.017, len train loss 0.011, col train loss 148.663\n"
     ]
    },
    {
     "name": "stderr",
     "output_type": "stream",
     "text": [
      "\r",
      "Epoch 374: 0batch [00:00, ?batch/s]"
     ]
    },
    {
     "name": "stdout",
     "output_type": "stream",
     "text": [
      "epoch 373: avg test  loss 291.36, bar  test loss 3.823, len  test loss 0.498, col  test loss 162.157\n"
     ]
    },
    {
     "name": "stderr",
     "output_type": "stream",
     "text": [
      "Epoch 374: 272batch [00:32,  8.43batch/s, loss=189]\n"
     ]
    },
    {
     "name": "stdout",
     "output_type": "stream",
     "text": [
      "epoch 374: avg train loss 192.97, bar train loss 2.018, len train loss 0.011, col train loss 148.655\n"
     ]
    },
    {
     "name": "stderr",
     "output_type": "stream",
     "text": [
      "Epoch 375: 1batch [00:00,  8.00batch/s, loss=201]"
     ]
    },
    {
     "name": "stdout",
     "output_type": "stream",
     "text": [
      "epoch 374: avg test  loss 288.98, bar  test loss 3.804, len  test loss 0.479, col  test loss 162.203\n"
     ]
    },
    {
     "name": "stderr",
     "output_type": "stream",
     "text": [
      "Epoch 375: 272batch [00:31,  8.50batch/s, loss=206]\n"
     ]
    },
    {
     "name": "stdout",
     "output_type": "stream",
     "text": [
      "epoch 375: avg train loss 192.93, bar train loss 2.016, len train loss 0.011, col train loss 148.626\n",
      "epoch 375: avg test  loss 289.69, bar  test loss 3.825, len  test loss 0.483, col  test loss 162.101\n"
     ]
    },
    {
     "name": "stderr",
     "output_type": "stream",
     "text": [
      "Epoch 376: 272batch [00:32,  8.48batch/s, loss=190]\n"
     ]
    },
    {
     "name": "stdout",
     "output_type": "stream",
     "text": [
      "epoch 376: avg train loss 193.01, bar train loss 2.020, len train loss 0.011, col train loss 148.652\n"
     ]
    },
    {
     "name": "stderr",
     "output_type": "stream",
     "text": [
      "Epoch 377: 1batch [00:00,  8.06batch/s, loss=197]"
     ]
    },
    {
     "name": "stdout",
     "output_type": "stream",
     "text": [
      "epoch 376: avg test  loss 289.85, bar  test loss 3.805, len  test loss 0.488, col  test loss 162.146\n"
     ]
    },
    {
     "name": "stderr",
     "output_type": "stream",
     "text": [
      "Epoch 377: 272batch [00:32,  8.27batch/s, loss=190]\n"
     ]
    },
    {
     "name": "stdout",
     "output_type": "stream",
     "text": [
      "epoch 377: avg train loss 192.90, bar train loss 2.018, len train loss 0.011, col train loss 148.596\n"
     ]
    },
    {
     "name": "stderr",
     "output_type": "stream",
     "text": [
      "Epoch 378: 1batch [00:00,  8.13batch/s, loss=189]"
     ]
    },
    {
     "name": "stdout",
     "output_type": "stream",
     "text": [
      "epoch 377: avg test  loss 289.51, bar  test loss 3.812, len  test loss 0.483, col  test loss 162.154\n"
     ]
    },
    {
     "name": "stderr",
     "output_type": "stream",
     "text": [
      "Epoch 378: 272batch [00:33,  8.04batch/s, loss=196]\n"
     ]
    },
    {
     "name": "stdout",
     "output_type": "stream",
     "text": [
      "epoch 378: avg train loss 192.68, bar train loss 2.010, len train loss 0.011, col train loss 148.564\n"
     ]
    },
    {
     "name": "stderr",
     "output_type": "stream",
     "text": [
      "Epoch 379: 1batch [00:00,  8.40batch/s, loss=186]"
     ]
    },
    {
     "name": "stdout",
     "output_type": "stream",
     "text": [
      "epoch 378: avg test  loss 294.80, bar  test loss 3.794, len  test loss 0.540, col  test loss 162.112\n"
     ]
    },
    {
     "name": "stderr",
     "output_type": "stream",
     "text": [
      "Epoch 379: 272batch [00:35,  7.63batch/s, loss=214]\n"
     ]
    },
    {
     "name": "stdout",
     "output_type": "stream",
     "text": [
      "epoch 379: avg train loss 192.76, bar train loss 2.014, len train loss 0.011, col train loss 148.562\n"
     ]
    },
    {
     "name": "stderr",
     "output_type": "stream",
     "text": [
      "\r",
      "Epoch 380: 0batch [00:00, ?batch/s]"
     ]
    },
    {
     "name": "stdout",
     "output_type": "stream",
     "text": [
      "epoch 379: avg test  loss 293.50, bar  test loss 3.804, len  test loss 0.522, col  test loss 162.226\n"
     ]
    },
    {
     "name": "stderr",
     "output_type": "stream",
     "text": [
      "Epoch 380: 272batch [00:45,  5.99batch/s, loss=197]\n"
     ]
    },
    {
     "name": "stdout",
     "output_type": "stream",
     "text": [
      "epoch 380: avg train loss 192.87, bar train loss 2.018, len train loss 0.011, col train loss 148.601\n",
      "epoch 380: avg test  loss 293.77, bar  test loss 3.825, len  test loss 0.524, col  test loss 162.117\n"
     ]
    },
    {
     "name": "stderr",
     "output_type": "stream",
     "text": [
      "Epoch 381: 272batch [00:46,  5.89batch/s, loss=184]\n"
     ]
    },
    {
     "name": "stdout",
     "output_type": "stream",
     "text": [
      "epoch 381: avg train loss 192.72, bar train loss 2.013, len train loss 0.010, col train loss 148.581\n"
     ]
    },
    {
     "name": "stderr",
     "output_type": "stream",
     "text": [
      "\r",
      "Epoch 382: 0batch [00:00, ?batch/s]"
     ]
    },
    {
     "name": "stdout",
     "output_type": "stream",
     "text": [
      "epoch 381: avg test  loss 292.09, bar  test loss 3.827, len  test loss 0.505, col  test loss 162.104\n"
     ]
    },
    {
     "name": "stderr",
     "output_type": "stream",
     "text": [
      "Epoch 382: 272batch [00:46,  5.80batch/s, loss=191]\n"
     ]
    },
    {
     "name": "stdout",
     "output_type": "stream",
     "text": [
      "epoch 382: avg train loss 192.73, bar train loss 2.011, len train loss 0.011, col train loss 148.577\n"
     ]
    },
    {
     "name": "stderr",
     "output_type": "stream",
     "text": [
      "Epoch 383: 0batch [00:00, ?batch/s, loss=192]"
     ]
    },
    {
     "name": "stdout",
     "output_type": "stream",
     "text": [
      "epoch 382: avg test  loss 286.59, bar  test loss 3.824, len  test loss 0.449, col  test loss 162.246\n"
     ]
    },
    {
     "name": "stderr",
     "output_type": "stream",
     "text": [
      "Epoch 383: 272batch [00:42,  6.39batch/s, loss=185]\n"
     ]
    },
    {
     "name": "stdout",
     "output_type": "stream",
     "text": [
      "epoch 383: avg train loss 192.72, bar train loss 2.012, len train loss 0.011, col train loss 148.558\n"
     ]
    },
    {
     "name": "stderr",
     "output_type": "stream",
     "text": [
      "Epoch 384: 1batch [00:00,  6.45batch/s, loss=193]"
     ]
    },
    {
     "name": "stdout",
     "output_type": "stream",
     "text": [
      "epoch 383: avg test  loss 288.89, bar  test loss 3.817, len  test loss 0.475, col  test loss 162.142\n"
     ]
    },
    {
     "name": "stderr",
     "output_type": "stream",
     "text": [
      "Epoch 384: 272batch [00:45,  5.95batch/s, loss=203]\n"
     ]
    },
    {
     "name": "stdout",
     "output_type": "stream",
     "text": [
      "epoch 384: avg train loss 192.70, bar train loss 2.013, len train loss 0.011, col train loss 148.549\n"
     ]
    },
    {
     "name": "stderr",
     "output_type": "stream",
     "text": [
      "\r",
      "Epoch 385: 0batch [00:00, ?batch/s]"
     ]
    },
    {
     "name": "stdout",
     "output_type": "stream",
     "text": [
      "epoch 384: avg test  loss 293.39, bar  test loss 3.829, len  test loss 0.518, col  test loss 162.147\n"
     ]
    },
    {
     "name": "stderr",
     "output_type": "stream",
     "text": [
      "Epoch 385: 272batch [00:47,  5.71batch/s, loss=207]\n"
     ]
    },
    {
     "name": "stdout",
     "output_type": "stream",
     "text": [
      "epoch 385: avg train loss 192.70, bar train loss 2.011, len train loss 0.011, col train loss 148.540\n",
      "epoch 385: avg test  loss 289.43, bar  test loss 3.836, len  test loss 0.476, col  test loss 162.078\n"
     ]
    },
    {
     "name": "stderr",
     "output_type": "stream",
     "text": [
      "Epoch 386: 272batch [00:43,  6.25batch/s, loss=186]\n"
     ]
    },
    {
     "name": "stdout",
     "output_type": "stream",
     "text": [
      "epoch 386: avg train loss 192.71, bar train loss 2.013, len train loss 0.010, col train loss 148.558\n"
     ]
    },
    {
     "name": "stderr",
     "output_type": "stream",
     "text": [
      "Epoch 387: 1batch [00:00,  5.81batch/s, loss=199]"
     ]
    },
    {
     "name": "stdout",
     "output_type": "stream",
     "text": [
      "epoch 386: avg test  loss 288.22, bar  test loss 3.801, len  test loss 0.472, col  test loss 162.083\n"
     ]
    },
    {
     "name": "stderr",
     "output_type": "stream",
     "text": [
      "Epoch 387: 272batch [00:45,  5.93batch/s, loss=200]\n"
     ]
    },
    {
     "name": "stdout",
     "output_type": "stream",
     "text": [
      "epoch 387: avg train loss 192.66, bar train loss 2.013, len train loss 0.011, col train loss 148.501\n"
     ]
    },
    {
     "name": "stderr",
     "output_type": "stream",
     "text": [
      "Epoch 388: 1batch [00:00,  6.58batch/s, loss=192]"
     ]
    },
    {
     "name": "stdout",
     "output_type": "stream",
     "text": [
      "epoch 387: avg test  loss 286.65, bar  test loss 3.837, len  test loss 0.448, col  test loss 162.140\n"
     ]
    },
    {
     "name": "stderr",
     "output_type": "stream",
     "text": [
      "Epoch 388: 272batch [00:43,  6.31batch/s, loss=207]\n"
     ]
    },
    {
     "name": "stdout",
     "output_type": "stream",
     "text": [
      "epoch 388: avg train loss 192.51, bar train loss 2.005, len train loss 0.011, col train loss 148.499\n"
     ]
    },
    {
     "name": "stderr",
     "output_type": "stream",
     "text": [
      "\r",
      "Epoch 389: 0batch [00:00, ?batch/s]"
     ]
    },
    {
     "name": "stdout",
     "output_type": "stream",
     "text": [
      "epoch 388: avg test  loss 288.91, bar  test loss 3.809, len  test loss 0.471, col  test loss 162.171\n"
     ]
    },
    {
     "name": "stderr",
     "output_type": "stream",
     "text": [
      "Epoch 389: 272batch [00:43,  6.32batch/s, loss=190]\n"
     ]
    },
    {
     "name": "stdout",
     "output_type": "stream",
     "text": [
      "epoch 389: avg train loss 192.68, bar train loss 2.014, len train loss 0.011, col train loss 148.510\n"
     ]
    },
    {
     "name": "stderr",
     "output_type": "stream",
     "text": [
      "Epoch 390: 1batch [00:00,  6.54batch/s, loss=193]"
     ]
    },
    {
     "name": "stdout",
     "output_type": "stream",
     "text": [
      "epoch 389: avg test  loss 294.90, bar  test loss 3.824, len  test loss 0.534, col  test loss 162.152\n"
     ]
    },
    {
     "name": "stderr",
     "output_type": "stream",
     "text": [
      "Epoch 390: 272batch [00:43,  6.19batch/s, loss=178]\n"
     ]
    },
    {
     "name": "stdout",
     "output_type": "stream",
     "text": [
      "epoch 390: avg train loss 192.57, bar train loss 2.008, len train loss 0.011, col train loss 148.497\n",
      "epoch 390: avg test  loss 289.79, bar  test loss 3.832, len  test loss 0.482, col  test loss 162.222\n"
     ]
    },
    {
     "name": "stderr",
     "output_type": "stream",
     "text": [
      "Epoch 391: 272batch [00:44,  6.13batch/s, loss=205]\n"
     ]
    },
    {
     "name": "stdout",
     "output_type": "stream",
     "text": [
      "epoch 391: avg train loss 192.65, bar train loss 2.008, len train loss 0.011, col train loss 148.549\n"
     ]
    },
    {
     "name": "stderr",
     "output_type": "stream",
     "text": [
      "\r",
      "Epoch 392: 0batch [00:00, ?batch/s]"
     ]
    },
    {
     "name": "stdout",
     "output_type": "stream",
     "text": [
      "epoch 391: avg test  loss 293.51, bar  test loss 3.827, len  test loss 0.521, col  test loss 162.129\n"
     ]
    },
    {
     "name": "stderr",
     "output_type": "stream",
     "text": [
      "Epoch 392: 272batch [00:51,  5.29batch/s, loss=203]\n"
     ]
    },
    {
     "name": "stdout",
     "output_type": "stream",
     "text": [
      "epoch 392: avg train loss 192.49, bar train loss 2.006, len train loss 0.011, col train loss 148.472\n"
     ]
    },
    {
     "name": "stderr",
     "output_type": "stream",
     "text": [
      "\r",
      "Epoch 393: 0batch [00:00, ?batch/s]"
     ]
    },
    {
     "name": "stdout",
     "output_type": "stream",
     "text": [
      "epoch 392: avg test  loss 290.39, bar  test loss 3.826, len  test loss 0.488, col  test loss 162.219\n"
     ]
    },
    {
     "name": "stderr",
     "output_type": "stream",
     "text": [
      "Epoch 393: 272batch [00:44,  6.13batch/s, loss=200]\n"
     ]
    },
    {
     "name": "stdout",
     "output_type": "stream",
     "text": [
      "epoch 393: avg train loss 192.55, bar train loss 2.010, len train loss 0.011, col train loss 148.454\n"
     ]
    },
    {
     "name": "stderr",
     "output_type": "stream",
     "text": [
      "Epoch 394: 1batch [00:00,  6.76batch/s, loss=203]"
     ]
    },
    {
     "name": "stdout",
     "output_type": "stream",
     "text": [
      "epoch 393: avg test  loss 289.69, bar  test loss 3.836, len  test loss 0.480, col  test loss 162.132\n"
     ]
    },
    {
     "name": "stderr",
     "output_type": "stream",
     "text": [
      "Epoch 394: 272batch [00:42,  6.37batch/s, loss=189]\n"
     ]
    },
    {
     "name": "stdout",
     "output_type": "stream",
     "text": [
      "epoch 394: avg train loss 192.47, bar train loss 2.004, len train loss 0.011, col train loss 148.461\n"
     ]
    },
    {
     "name": "stderr",
     "output_type": "stream",
     "text": [
      "Epoch 395: 1batch [00:00,  6.29batch/s, loss=196]"
     ]
    },
    {
     "name": "stdout",
     "output_type": "stream",
     "text": [
      "epoch 394: avg test  loss 289.73, bar  test loss 3.841, len  test loss 0.480, col  test loss 162.227\n"
     ]
    },
    {
     "name": "stderr",
     "output_type": "stream",
     "text": [
      "Epoch 395: 272batch [00:40,  6.71batch/s, loss=198]\n"
     ]
    },
    {
     "name": "stdout",
     "output_type": "stream",
     "text": [
      "epoch 395: avg train loss 192.61, bar train loss 2.011, len train loss 0.011, col train loss 148.477\n",
      "epoch 395: avg test  loss 288.27, bar  test loss 3.834, len  test loss 0.466, col  test loss 162.153\n"
     ]
    },
    {
     "name": "stderr",
     "output_type": "stream",
     "text": [
      "Epoch 396: 272batch [00:40,  6.66batch/s, loss=188]\n"
     ]
    },
    {
     "name": "stdout",
     "output_type": "stream",
     "text": [
      "epoch 396: avg train loss 192.43, bar train loss 2.004, len train loss 0.011, col train loss 148.458\n"
     ]
    },
    {
     "name": "stderr",
     "output_type": "stream",
     "text": [
      "Epoch 397: 1batch [00:00,  6.10batch/s, loss=189]"
     ]
    },
    {
     "name": "stdout",
     "output_type": "stream",
     "text": [
      "epoch 396: avg test  loss 291.72, bar  test loss 3.826, len  test loss 0.499, col  test loss 162.189\n"
     ]
    },
    {
     "name": "stderr",
     "output_type": "stream",
     "text": [
      "Epoch 397: 272batch [00:42,  6.40batch/s, loss=197]\n"
     ]
    },
    {
     "name": "stdout",
     "output_type": "stream",
     "text": [
      "epoch 397: avg train loss 192.31, bar train loss 2.000, len train loss 0.011, col train loss 148.440\n"
     ]
    },
    {
     "name": "stderr",
     "output_type": "stream",
     "text": [
      "Epoch 398: 1batch [00:00,  6.25batch/s, loss=191]"
     ]
    },
    {
     "name": "stdout",
     "output_type": "stream",
     "text": [
      "epoch 397: avg test  loss 294.10, bar  test loss 3.835, len  test loss 0.523, col  test loss 162.261\n"
     ]
    },
    {
     "name": "stderr",
     "output_type": "stream",
     "text": [
      "Epoch 398: 272batch [00:40,  6.67batch/s, loss=174]\n"
     ]
    },
    {
     "name": "stdout",
     "output_type": "stream",
     "text": [
      "epoch 398: avg train loss 192.37, bar train loss 2.006, len train loss 0.010, col train loss 148.416\n"
     ]
    },
    {
     "name": "stderr",
     "output_type": "stream",
     "text": [
      "\r",
      "Epoch 399: 0batch [00:00, ?batch/s]"
     ]
    },
    {
     "name": "stdout",
     "output_type": "stream",
     "text": [
      "epoch 398: avg test  loss 293.32, bar  test loss 3.858, len  test loss 0.512, col  test loss 162.224\n"
     ]
    },
    {
     "name": "stderr",
     "output_type": "stream",
     "text": [
      "Epoch 399: 272batch [00:51,  5.32batch/s, loss=193]\n"
     ]
    },
    {
     "name": "stdout",
     "output_type": "stream",
     "text": [
      "epoch 399: avg train loss 192.41, bar train loss 2.006, len train loss 0.011, col train loss 148.423\n"
     ]
    },
    {
     "name": "stderr",
     "output_type": "stream",
     "text": [
      "\r",
      "Epoch 400: 0batch [00:00, ?batch/s]"
     ]
    },
    {
     "name": "stdout",
     "output_type": "stream",
     "text": [
      "epoch 399: avg test  loss 292.65, bar  test loss 3.833, len  test loss 0.508, col  test loss 162.269\n"
     ]
    },
    {
     "name": "stderr",
     "output_type": "stream",
     "text": [
      "Epoch 400: 272batch [00:45,  5.92batch/s, loss=197]\n"
     ]
    },
    {
     "name": "stdout",
     "output_type": "stream",
     "text": [
      "epoch 400: avg train loss 192.50, bar train loss 2.008, len train loss 0.011, col train loss 148.451\n",
      "epoch 400: avg test  loss 288.56, bar  test loss 3.823, len  test loss 0.469, col  test loss 162.231\n"
     ]
    },
    {
     "name": "stderr",
     "output_type": "stream",
     "text": [
      "Epoch 401: 272batch [00:49,  5.50batch/s, loss=200]\n"
     ]
    },
    {
     "name": "stdout",
     "output_type": "stream",
     "text": [
      "epoch 401: avg train loss 192.35, bar train loss 2.004, len train loss 0.011, col train loss 148.399\n"
     ]
    },
    {
     "name": "stderr",
     "output_type": "stream",
     "text": [
      "Epoch 402: 1batch [00:00,  6.06batch/s, loss=194]"
     ]
    },
    {
     "name": "stdout",
     "output_type": "stream",
     "text": [
      "epoch 401: avg test  loss 289.48, bar  test loss 3.836, len  test loss 0.477, col  test loss 162.242\n"
     ]
    },
    {
     "name": "stderr",
     "output_type": "stream",
     "text": [
      "Epoch 402: 272batch [00:48,  5.64batch/s, loss=187]\n"
     ]
    },
    {
     "name": "stdout",
     "output_type": "stream",
     "text": [
      "epoch 402: avg train loss 192.37, bar train loss 2.005, len train loss 0.010, col train loss 148.408\n"
     ]
    },
    {
     "name": "stderr",
     "output_type": "stream",
     "text": [
      "\r",
      "Epoch 403: 0batch [00:00, ?batch/s]"
     ]
    },
    {
     "name": "stdout",
     "output_type": "stream",
     "text": [
      "epoch 402: avg test  loss 290.14, bar  test loss 3.840, len  test loss 0.482, col  test loss 162.177\n"
     ]
    },
    {
     "name": "stderr",
     "output_type": "stream",
     "text": [
      "Epoch 403: 272batch [00:51,  5.25batch/s, loss=195]\n"
     ]
    },
    {
     "name": "stdout",
     "output_type": "stream",
     "text": [
      "epoch 403: avg train loss 192.33, bar train loss 2.002, len train loss 0.011, col train loss 148.413\n"
     ]
    },
    {
     "name": "stderr",
     "output_type": "stream",
     "text": [
      "\r",
      "Epoch 404: 0batch [00:00, ?batch/s]"
     ]
    },
    {
     "name": "stdout",
     "output_type": "stream",
     "text": [
      "epoch 403: avg test  loss 289.92, bar  test loss 3.839, len  test loss 0.480, col  test loss 162.190\n"
     ]
    },
    {
     "name": "stderr",
     "output_type": "stream",
     "text": [
      "Epoch 404: 272batch [00:50,  5.34batch/s, loss=200]\n"
     ]
    },
    {
     "name": "stdout",
     "output_type": "stream",
     "text": [
      "epoch 404: avg train loss 192.32, bar train loss 2.003, len train loss 0.010, col train loss 148.394\n"
     ]
    },
    {
     "name": "stderr",
     "output_type": "stream",
     "text": [
      "\r",
      "Epoch 405: 0batch [00:00, ?batch/s]"
     ]
    },
    {
     "name": "stdout",
     "output_type": "stream",
     "text": [
      "epoch 404: avg test  loss 290.98, bar  test loss 3.828, len  test loss 0.488, col  test loss 162.173\n"
     ]
    },
    {
     "name": "stderr",
     "output_type": "stream",
     "text": [
      "Epoch 405: 272batch [00:50,  5.40batch/s, loss=205]\n"
     ]
    },
    {
     "name": "stdout",
     "output_type": "stream",
     "text": [
      "epoch 405: avg train loss 192.18, bar train loss 2.000, len train loss 0.010, col train loss 148.347\n",
      "epoch 405: avg test  loss 288.85, bar  test loss 3.840, len  test loss 0.469, col  test loss 162.220\n"
     ]
    },
    {
     "name": "stderr",
     "output_type": "stream",
     "text": [
      "Epoch 406: 272batch [00:53,  5.05batch/s, loss=192]\n"
     ]
    },
    {
     "name": "stdout",
     "output_type": "stream",
     "text": [
      "epoch 406: avg train loss 192.30, bar train loss 2.004, len train loss 0.010, col train loss 148.377\n"
     ]
    },
    {
     "name": "stderr",
     "output_type": "stream",
     "text": [
      "Epoch 407: 1batch [00:00,  7.25batch/s, loss=189]"
     ]
    },
    {
     "name": "stdout",
     "output_type": "stream",
     "text": [
      "epoch 406: avg test  loss 292.99, bar  test loss 3.836, len  test loss 0.511, col  test loss 162.253\n"
     ]
    },
    {
     "name": "stderr",
     "output_type": "stream",
     "text": [
      "Epoch 407: 272batch [00:48,  5.63batch/s, loss=185]\n"
     ]
    },
    {
     "name": "stdout",
     "output_type": "stream",
     "text": [
      "epoch 407: avg train loss 192.19, bar train loss 2.000, len train loss 0.011, col train loss 148.342\n"
     ]
    },
    {
     "name": "stderr",
     "output_type": "stream",
     "text": [
      "\r",
      "Epoch 408: 0batch [00:00, ?batch/s]"
     ]
    },
    {
     "name": "stdout",
     "output_type": "stream",
     "text": [
      "epoch 407: avg test  loss 291.44, bar  test loss 3.847, len  test loss 0.494, col  test loss 162.166\n"
     ]
    },
    {
     "name": "stderr",
     "output_type": "stream",
     "text": [
      "Epoch 408: 272batch [00:51,  5.27batch/s, loss=212]\n"
     ]
    },
    {
     "name": "stdout",
     "output_type": "stream",
     "text": [
      "epoch 408: avg train loss 192.20, bar train loss 1.995, len train loss 0.011, col train loss 148.351\n"
     ]
    },
    {
     "name": "stderr",
     "output_type": "stream",
     "text": [
      "\r",
      "Epoch 409: 0batch [00:00, ?batch/s]"
     ]
    },
    {
     "name": "stdout",
     "output_type": "stream",
     "text": [
      "epoch 408: avg test  loss 286.70, bar  test loss 3.846, len  test loss 0.447, col  test loss 162.279\n"
     ]
    },
    {
     "name": "stderr",
     "output_type": "stream",
     "text": [
      "Epoch 409: 272batch [00:50,  5.38batch/s, loss=193]\n"
     ]
    },
    {
     "name": "stdout",
     "output_type": "stream",
     "text": [
      "epoch 409: avg train loss 192.39, bar train loss 2.002, len train loss 0.011, col train loss 148.433\n"
     ]
    },
    {
     "name": "stderr",
     "output_type": "stream",
     "text": [
      "\r",
      "Epoch 410: 0batch [00:00, ?batch/s]"
     ]
    },
    {
     "name": "stdout",
     "output_type": "stream",
     "text": [
      "epoch 409: avg test  loss 292.56, bar  test loss 3.832, len  test loss 0.504, col  test loss 162.155\n"
     ]
    },
    {
     "name": "stderr",
     "output_type": "stream",
     "text": [
      "Epoch 410: 272batch [00:52,  5.13batch/s, loss=214]\n"
     ]
    },
    {
     "name": "stdout",
     "output_type": "stream",
     "text": [
      "epoch 410: avg train loss 192.31, bar train loss 2.002, len train loss 0.011, col train loss 148.365\n",
      "epoch 410: avg test  loss 289.60, bar  test loss 3.859, len  test loss 0.475, col  test loss 162.162\n"
     ]
    },
    {
     "name": "stderr",
     "output_type": "stream",
     "text": [
      "Epoch 411: 272batch [00:52,  5.14batch/s, loss=203]\n"
     ]
    },
    {
     "name": "stdout",
     "output_type": "stream",
     "text": [
      "epoch 411: avg train loss 192.10, bar train loss 1.995, len train loss 0.011, col train loss 148.347\n"
     ]
    },
    {
     "name": "stderr",
     "output_type": "stream",
     "text": [
      "\r",
      "Epoch 412: 0batch [00:00, ?batch/s]"
     ]
    },
    {
     "name": "stdout",
     "output_type": "stream",
     "text": [
      "epoch 411: avg test  loss 292.98, bar  test loss 3.848, len  test loss 0.510, col  test loss 162.240\n"
     ]
    },
    {
     "name": "stderr",
     "output_type": "stream",
     "text": [
      "Epoch 412: 272batch [00:51,  5.26batch/s, loss=182]\n"
     ]
    },
    {
     "name": "stdout",
     "output_type": "stream",
     "text": [
      "epoch 412: avg train loss 192.00, bar train loss 1.996, len train loss 0.010, col train loss 148.276\n"
     ]
    },
    {
     "name": "stderr",
     "output_type": "stream",
     "text": [
      "\r",
      "Epoch 413: 0batch [00:00, ?batch/s]"
     ]
    },
    {
     "name": "stdout",
     "output_type": "stream",
     "text": [
      "epoch 412: avg test  loss 289.96, bar  test loss 3.856, len  test loss 0.478, col  test loss 162.278\n"
     ]
    },
    {
     "name": "stderr",
     "output_type": "stream",
     "text": [
      "Epoch 413: 272batch [00:52,  5.15batch/s, loss=191]\n"
     ]
    },
    {
     "name": "stdout",
     "output_type": "stream",
     "text": [
      "epoch 413: avg train loss 192.00, bar train loss 1.996, len train loss 0.010, col train loss 148.275\n"
     ]
    },
    {
     "name": "stderr",
     "output_type": "stream",
     "text": [
      "Epoch 414: 1batch [00:00,  6.25batch/s, loss=196]"
     ]
    },
    {
     "name": "stdout",
     "output_type": "stream",
     "text": [
      "epoch 413: avg test  loss 290.42, bar  test loss 3.853, len  test loss 0.483, col  test loss 162.217\n"
     ]
    },
    {
     "name": "stderr",
     "output_type": "stream",
     "text": [
      "Epoch 414: 272batch [00:49,  5.46batch/s, loss=197]\n"
     ]
    },
    {
     "name": "stdout",
     "output_type": "stream",
     "text": [
      "epoch 414: avg train loss 192.04, bar train loss 1.994, len train loss 0.011, col train loss 148.317\n"
     ]
    },
    {
     "name": "stderr",
     "output_type": "stream",
     "text": [
      "Epoch 415: 1batch [00:00,  6.71batch/s, loss=183]"
     ]
    },
    {
     "name": "stdout",
     "output_type": "stream",
     "text": [
      "epoch 414: avg test  loss 290.14, bar  test loss 3.852, len  test loss 0.481, col  test loss 162.236\n"
     ]
    },
    {
     "name": "stderr",
     "output_type": "stream",
     "text": [
      "Epoch 415: 272batch [00:42,  6.38batch/s, loss=186]\n"
     ]
    },
    {
     "name": "stdout",
     "output_type": "stream",
     "text": [
      "epoch 415: avg train loss 192.01, bar train loss 1.996, len train loss 0.010, col train loss 148.295\n",
      "epoch 415: avg test  loss 289.59, bar  test loss 3.860, len  test loss 0.474, col  test loss 162.260\n"
     ]
    },
    {
     "name": "stderr",
     "output_type": "stream",
     "text": [
      "Epoch 416: 272batch [00:43,  6.21batch/s, loss=200]\n"
     ]
    },
    {
     "name": "stdout",
     "output_type": "stream",
     "text": [
      "epoch 416: avg train loss 192.12, bar train loss 2.001, len train loss 0.010, col train loss 148.295\n"
     ]
    },
    {
     "name": "stderr",
     "output_type": "stream",
     "text": [
      "\r",
      "Epoch 417: 0batch [00:00, ?batch/s]"
     ]
    },
    {
     "name": "stdout",
     "output_type": "stream",
     "text": [
      "epoch 416: avg test  loss 292.48, bar  test loss 3.860, len  test loss 0.503, col  test loss 162.266\n"
     ]
    },
    {
     "name": "stderr",
     "output_type": "stream",
     "text": [
      "Epoch 417: 272batch [00:51,  5.25batch/s, loss=199]\n"
     ]
    },
    {
     "name": "stdout",
     "output_type": "stream",
     "text": [
      "epoch 417: avg train loss 192.04, bar train loss 1.997, len train loss 0.010, col train loss 148.284\n"
     ]
    },
    {
     "name": "stderr",
     "output_type": "stream",
     "text": [
      "\r",
      "Epoch 418: 0batch [00:00, ?batch/s]"
     ]
    },
    {
     "name": "stdout",
     "output_type": "stream",
     "text": [
      "epoch 417: avg test  loss 291.29, bar  test loss 3.859, len  test loss 0.491, col  test loss 162.241\n"
     ]
    },
    {
     "name": "stderr",
     "output_type": "stream",
     "text": [
      "Epoch 418: 272batch [00:50,  5.38batch/s, loss=172]\n"
     ]
    },
    {
     "name": "stdout",
     "output_type": "stream",
     "text": [
      "epoch 418: avg train loss 191.95, bar train loss 1.993, len train loss 0.010, col train loss 148.271\n"
     ]
    },
    {
     "name": "stderr",
     "output_type": "stream",
     "text": [
      "\r",
      "Epoch 419: 0batch [00:00, ?batch/s]"
     ]
    },
    {
     "name": "stdout",
     "output_type": "stream",
     "text": [
      "epoch 418: avg test  loss 291.07, bar  test loss 3.877, len  test loss 0.485, col  test loss 162.290\n"
     ]
    },
    {
     "name": "stderr",
     "output_type": "stream",
     "text": [
      "Epoch 419: 272batch [00:49,  5.53batch/s, loss=198]\n"
     ]
    },
    {
     "name": "stdout",
     "output_type": "stream",
     "text": [
      "epoch 419: avg train loss 191.96, bar train loss 1.991, len train loss 0.011, col train loss 148.281\n"
     ]
    },
    {
     "name": "stderr",
     "output_type": "stream",
     "text": [
      "\r",
      "Epoch 420: 0batch [00:00, ?batch/s]"
     ]
    },
    {
     "name": "stdout",
     "output_type": "stream",
     "text": [
      "epoch 419: avg test  loss 290.77, bar  test loss 3.847, len  test loss 0.487, col  test loss 162.281\n"
     ]
    },
    {
     "name": "stderr",
     "output_type": "stream",
     "text": [
      "Epoch 420: 272batch [00:48,  5.58batch/s, loss=195]\n"
     ]
    },
    {
     "name": "stdout",
     "output_type": "stream",
     "text": [
      "epoch 420: avg train loss 191.89, bar train loss 1.990, len train loss 0.010, col train loss 148.290\n",
      "epoch 420: avg test  loss 289.85, bar  test loss 3.851, len  test loss 0.477, col  test loss 162.180\n"
     ]
    },
    {
     "name": "stderr",
     "output_type": "stream",
     "text": [
      "Epoch 421: 272batch [00:54,  4.96batch/s, loss=191]\n"
     ]
    },
    {
     "name": "stdout",
     "output_type": "stream",
     "text": [
      "epoch 421: avg train loss 191.90, bar train loss 1.992, len train loss 0.010, col train loss 148.268\n"
     ]
    },
    {
     "name": "stderr",
     "output_type": "stream",
     "text": [
      "Epoch 422: 1batch [00:00,  6.10batch/s, loss=190]"
     ]
    },
    {
     "name": "stdout",
     "output_type": "stream",
     "text": [
      "epoch 421: avg test  loss 290.41, bar  test loss 3.879, len  test loss 0.479, col  test loss 162.267\n"
     ]
    },
    {
     "name": "stderr",
     "output_type": "stream",
     "text": [
      "Epoch 422: 272batch [00:43,  6.30batch/s, loss=189]\n"
     ]
    },
    {
     "name": "stdout",
     "output_type": "stream",
     "text": [
      "epoch 422: avg train loss 191.91, bar train loss 1.993, len train loss 0.010, col train loss 148.231\n"
     ]
    },
    {
     "name": "stderr",
     "output_type": "stream",
     "text": [
      "Epoch 423: 1batch [00:00,  6.62batch/s, loss=192]"
     ]
    },
    {
     "name": "stdout",
     "output_type": "stream",
     "text": [
      "epoch 422: avg test  loss 289.08, bar  test loss 3.868, len  test loss 0.468, col  test loss 162.233\n"
     ]
    },
    {
     "name": "stderr",
     "output_type": "stream",
     "text": [
      "Epoch 423: 272batch [00:43,  6.33batch/s, loss=194]\n"
     ]
    },
    {
     "name": "stdout",
     "output_type": "stream",
     "text": [
      "epoch 423: avg train loss 191.93, bar train loss 1.993, len train loss 0.011, col train loss 148.218\n"
     ]
    },
    {
     "name": "stderr",
     "output_type": "stream",
     "text": [
      "Epoch 424: 1batch [00:00,  6.45batch/s, loss=179]"
     ]
    },
    {
     "name": "stdout",
     "output_type": "stream",
     "text": [
      "epoch 423: avg test  loss 290.35, bar  test loss 3.852, len  test loss 0.482, col  test loss 162.266\n"
     ]
    },
    {
     "name": "stderr",
     "output_type": "stream",
     "text": [
      "Epoch 424: 272batch [00:41,  6.60batch/s, loss=187]\n"
     ]
    },
    {
     "name": "stdout",
     "output_type": "stream",
     "text": [
      "epoch 424: avg train loss 192.01, bar train loss 1.996, len train loss 0.011, col train loss 148.249\n"
     ]
    },
    {
     "name": "stderr",
     "output_type": "stream",
     "text": [
      "Epoch 425: 1batch [00:00,  6.33batch/s, loss=195]"
     ]
    },
    {
     "name": "stdout",
     "output_type": "stream",
     "text": [
      "epoch 424: avg test  loss 294.24, bar  test loss 3.863, len  test loss 0.520, col  test loss 162.259\n"
     ]
    },
    {
     "name": "stderr",
     "output_type": "stream",
     "text": [
      "Epoch 425: 272batch [00:44,  6.07batch/s, loss=204]\n"
     ]
    },
    {
     "name": "stdout",
     "output_type": "stream",
     "text": [
      "epoch 425: avg train loss 191.76, bar train loss 1.989, len train loss 0.010, col train loss 148.207\n",
      "epoch 425: avg test  loss 291.48, bar  test loss 3.878, len  test loss 0.488, col  test loss 162.325\n"
     ]
    },
    {
     "name": "stderr",
     "output_type": "stream",
     "text": [
      "Epoch 426: 272batch [00:42,  6.47batch/s, loss=197]\n"
     ]
    },
    {
     "name": "stdout",
     "output_type": "stream",
     "text": [
      "epoch 426: avg train loss 191.85, bar train loss 1.990, len train loss 0.010, col train loss 148.238\n"
     ]
    },
    {
     "name": "stderr",
     "output_type": "stream",
     "text": [
      "Epoch 427: 0batch [00:00, ?batch/s, loss=187]"
     ]
    },
    {
     "name": "stdout",
     "output_type": "stream",
     "text": [
      "epoch 426: avg test  loss 291.93, bar  test loss 3.886, len  test loss 0.492, col  test loss 162.280\n"
     ]
    },
    {
     "name": "stderr",
     "output_type": "stream",
     "text": [
      "Epoch 427: 272batch [00:50,  5.42batch/s, loss=180]\n"
     ]
    },
    {
     "name": "stdout",
     "output_type": "stream",
     "text": [
      "epoch 427: avg train loss 191.84, bar train loss 1.992, len train loss 0.010, col train loss 148.211\n"
     ]
    },
    {
     "name": "stderr",
     "output_type": "stream",
     "text": [
      "Epoch 428: 1batch [00:00,  6.54batch/s, loss=190]"
     ]
    },
    {
     "name": "stdout",
     "output_type": "stream",
     "text": [
      "epoch 427: avg test  loss 293.88, bar  test loss 3.874, len  test loss 0.513, col  test loss 162.231\n"
     ]
    },
    {
     "name": "stderr",
     "output_type": "stream",
     "text": [
      "Epoch 428: 219batch [00:29,  7.35batch/s, loss=199]\n"
     ]
    },
    {
     "ename": "KeyboardInterrupt",
     "evalue": "",
     "output_type": "error",
     "traceback": [
      "\u001b[1;31m---------------------------------------------------------------------------\u001b[0m",
      "\u001b[1;31mKeyboardInterrupt\u001b[0m                         Traceback (most recent call last)",
      "\u001b[1;32m<ipython-input-36-3bc27847d1d3>\u001b[0m in \u001b[0;36m<module>\u001b[1;34m\u001b[0m\n\u001b[1;32m----> 1\u001b[1;33m \u001b[0mlss\u001b[0m\u001b[1;33m,\u001b[0m \u001b[0mlss_t\u001b[0m \u001b[1;33m=\u001b[0m \u001b[0mtrain\u001b[0m\u001b[1;33m(\u001b[0m\u001b[0mdefault_args\u001b[0m\u001b[1;33m,\u001b[0m \u001b[0mtrain_loader\u001b[0m\u001b[1;33m,\u001b[0m \u001b[0mtest_loader\u001b[0m\u001b[1;33m,\u001b[0m \u001b[0mdiva\u001b[0m\u001b[1;33m,\u001b[0m \u001b[0moptimizer\u001b[0m\u001b[1;33m,\u001b[0m \u001b[1;36m500\u001b[0m\u001b[1;33m,\u001b[0m \u001b[1;36m135\u001b[0m\u001b[1;33m,\u001b[0m \u001b[0msave_folder\u001b[0m\u001b[1;33m=\u001b[0m\u001b[1;34m\"new/HVAE3\"\u001b[0m\u001b[1;33m,\u001b[0m\u001b[0msave_interval\u001b[0m\u001b[1;33m=\u001b[0m\u001b[1;36m5\u001b[0m\u001b[1;33m)\u001b[0m\u001b[1;33m\u001b[0m\u001b[1;33m\u001b[0m\u001b[0m\n\u001b[0m",
      "\u001b[1;32m<ipython-input-24-a96c3ee08324>\u001b[0m in \u001b[0;36mtrain\u001b[1;34m(args, train_loader, test_loader, diva, optimizer, end_epoch, start_epoch, save_folder, save_interval)\u001b[0m\n\u001b[0;32m      8\u001b[0m         \u001b[1;32mif\u001b[0m \u001b[0mepoch\u001b[0m\u001b[1;33m<\u001b[0m \u001b[0margs\u001b[0m\u001b[1;33m.\u001b[0m\u001b[0mprewarmup\u001b[0m\u001b[1;33m:\u001b[0m\u001b[1;33m\u001b[0m\u001b[1;33m\u001b[0m\u001b[0m\n\u001b[0;32m      9\u001b[0m             \u001b[0mdiva\u001b[0m\u001b[1;33m.\u001b[0m\u001b[0mbeta\u001b[0m \u001b[1;33m=\u001b[0m \u001b[0margs\u001b[0m\u001b[1;33m.\u001b[0m\u001b[0mbeta\u001b[0m\u001b[1;33m/\u001b[0m\u001b[0margs\u001b[0m\u001b[1;33m.\u001b[0m\u001b[0mprewarmup\u001b[0m\u001b[1;33m\u001b[0m\u001b[1;33m\u001b[0m\u001b[0m\n\u001b[1;32m---> 10\u001b[1;33m         \u001b[0mtrain_loss\u001b[0m\u001b[1;33m,\u001b[0m \u001b[0mavg_loss_bar\u001b[0m\u001b[1;33m,\u001b[0m \u001b[0mavg_loss_len\u001b[0m\u001b[1;33m,\u001b[0m \u001b[0mavg_loss_col\u001b[0m\u001b[1;33m,\u001b[0m \u001b[0mmtr\u001b[0m\u001b[1;33m,\u001b[0m \u001b[0matr\u001b[0m\u001b[1;33m,\u001b[0m \u001b[0matr2\u001b[0m\u001b[1;33m,\u001b[0m \u001b[0matr3\u001b[0m\u001b[1;33m,\u001b[0m \u001b[0matr4\u001b[0m\u001b[1;33m,\u001b[0m \u001b[0matr5\u001b[0m  \u001b[1;33m=\u001b[0m \u001b[0mtrain_single_epoch\u001b[0m\u001b[1;33m(\u001b[0m\u001b[0mtrain_loader\u001b[0m\u001b[1;33m,\u001b[0m \u001b[0mdiva\u001b[0m\u001b[1;33m,\u001b[0m \u001b[0moptimizer\u001b[0m\u001b[1;33m,\u001b[0m \u001b[0mepoch\u001b[0m\u001b[1;33m)\u001b[0m\u001b[1;33m\u001b[0m\u001b[1;33m\u001b[0m\u001b[0m\n\u001b[0m\u001b[0;32m     11\u001b[0m         \u001b[0mstr_loss_sup\u001b[0m \u001b[1;33m=\u001b[0m \u001b[0mtrain_loss\u001b[0m\u001b[1;33m\u001b[0m\u001b[1;33m\u001b[0m\u001b[0m\n\u001b[0;32m     12\u001b[0m         \u001b[0mepoch_loss_sup\u001b[0m\u001b[1;33m.\u001b[0m\u001b[0mappend\u001b[0m\u001b[1;33m(\u001b[0m\u001b[0mtrain_loss\u001b[0m\u001b[1;33m)\u001b[0m\u001b[1;33m\u001b[0m\u001b[1;33m\u001b[0m\u001b[0m\n",
      "\u001b[1;32m<ipython-input-22-0ad6b52131d0>\u001b[0m in \u001b[0;36mtrain_single_epoch\u001b[1;34m(train_loader, model, optimizer, epoch)\u001b[0m\n\u001b[0;32m     12\u001b[0m     pbar = tqdm(enumerate(train_loader), unit=\"batch\", \n\u001b[0;32m     13\u001b[0m                                      desc=f'Epoch {epoch}')\n\u001b[1;32m---> 14\u001b[1;33m     \u001b[1;32mfor\u001b[0m \u001b[0mbatch_idx\u001b[0m\u001b[1;33m,\u001b[0m \u001b[1;33m(\u001b[0m\u001b[0mx\u001b[0m\u001b[1;33m,\u001b[0m \u001b[0my\u001b[0m\u001b[1;33m,\u001b[0m \u001b[0md\u001b[0m\u001b[1;33m,\u001b[0m \u001b[0mx_len\u001b[0m\u001b[1;33m,\u001b[0m \u001b[0mx_col\u001b[0m\u001b[1;33m,\u001b[0m \u001b[0mx_bar\u001b[0m\u001b[1;33m,\u001b[0m \u001b[0mm\u001b[0m\u001b[1;33m)\u001b[0m \u001b[1;32min\u001b[0m \u001b[0mpbar\u001b[0m\u001b[1;33m:\u001b[0m\u001b[1;33m\u001b[0m\u001b[1;33m\u001b[0m\u001b[0m\n\u001b[0m\u001b[0;32m     15\u001b[0m         \u001b[1;31m# To device\u001b[0m\u001b[1;33m\u001b[0m\u001b[1;33m\u001b[0m\u001b[1;33m\u001b[0m\u001b[0m\n\u001b[0;32m     16\u001b[0m         \u001b[0mx\u001b[0m\u001b[1;33m,\u001b[0m \u001b[0my\u001b[0m\u001b[1;33m,\u001b[0m \u001b[0md\u001b[0m \u001b[1;33m,\u001b[0m \u001b[0mx_len\u001b[0m\u001b[1;33m,\u001b[0m \u001b[0mx_bar\u001b[0m\u001b[1;33m,\u001b[0m \u001b[0mx_col\u001b[0m\u001b[1;33m,\u001b[0m \u001b[0mm\u001b[0m\u001b[1;33m=\u001b[0m \u001b[0mx\u001b[0m\u001b[1;33m.\u001b[0m\u001b[0mto\u001b[0m\u001b[1;33m(\u001b[0m\u001b[0mDEVICE\u001b[0m\u001b[1;33m)\u001b[0m\u001b[1;33m,\u001b[0m \u001b[0my\u001b[0m\u001b[1;33m.\u001b[0m\u001b[0mto\u001b[0m\u001b[1;33m(\u001b[0m\u001b[0mDEVICE\u001b[0m\u001b[1;33m)\u001b[0m\u001b[1;33m,\u001b[0m \u001b[0md\u001b[0m\u001b[1;33m.\u001b[0m\u001b[0mto\u001b[0m\u001b[1;33m(\u001b[0m\u001b[0mDEVICE\u001b[0m\u001b[1;33m)\u001b[0m\u001b[1;33m,\u001b[0m \u001b[0mx_len\u001b[0m\u001b[1;33m.\u001b[0m\u001b[0mto\u001b[0m\u001b[1;33m(\u001b[0m\u001b[0mDEVICE\u001b[0m\u001b[1;33m)\u001b[0m\u001b[1;33m,\u001b[0m \u001b[0mx_bar\u001b[0m\u001b[1;33m.\u001b[0m\u001b[0mto\u001b[0m\u001b[1;33m(\u001b[0m\u001b[0mDEVICE\u001b[0m\u001b[1;33m)\u001b[0m\u001b[1;33m,\u001b[0m \u001b[0mx_col\u001b[0m\u001b[1;33m.\u001b[0m\u001b[0mto\u001b[0m\u001b[1;33m(\u001b[0m\u001b[0mDEVICE\u001b[0m\u001b[1;33m)\u001b[0m\u001b[1;33m,\u001b[0m \u001b[0mm\u001b[0m\u001b[1;33m.\u001b[0m\u001b[0mto\u001b[0m\u001b[1;33m(\u001b[0m\u001b[0mDEVICE\u001b[0m\u001b[1;33m)\u001b[0m\u001b[1;33m\u001b[0m\u001b[1;33m\u001b[0m\u001b[0m\n",
      "\u001b[1;32mD:\\Users\\Marko\\Anaconda3\\lib\\site-packages\\tqdm\\std.py\u001b[0m in \u001b[0;36m__iter__\u001b[1;34m(self)\u001b[0m\n\u001b[0;32m   1127\u001b[0m \u001b[1;33m\u001b[0m\u001b[0m\n\u001b[0;32m   1128\u001b[0m         \u001b[1;32mtry\u001b[0m\u001b[1;33m:\u001b[0m\u001b[1;33m\u001b[0m\u001b[1;33m\u001b[0m\u001b[0m\n\u001b[1;32m-> 1129\u001b[1;33m             \u001b[1;32mfor\u001b[0m \u001b[0mobj\u001b[0m \u001b[1;32min\u001b[0m \u001b[0miterable\u001b[0m\u001b[1;33m:\u001b[0m\u001b[1;33m\u001b[0m\u001b[1;33m\u001b[0m\u001b[0m\n\u001b[0m\u001b[0;32m   1130\u001b[0m                 \u001b[1;32myield\u001b[0m \u001b[0mobj\u001b[0m\u001b[1;33m\u001b[0m\u001b[1;33m\u001b[0m\u001b[0m\n\u001b[0;32m   1131\u001b[0m                 \u001b[1;31m# Update and possibly print the progressbar.\u001b[0m\u001b[1;33m\u001b[0m\u001b[1;33m\u001b[0m\u001b[1;33m\u001b[0m\u001b[0m\n",
      "\u001b[1;32mD:\\Users\\Marko\\Anaconda3\\lib\\site-packages\\torch\\utils\\data\\dataloader.py\u001b[0m in \u001b[0;36m__next__\u001b[1;34m(self)\u001b[0m\n\u001b[0;32m    528\u001b[0m             \u001b[1;32mif\u001b[0m \u001b[0mself\u001b[0m\u001b[1;33m.\u001b[0m\u001b[0m_sampler_iter\u001b[0m \u001b[1;32mis\u001b[0m \u001b[1;32mNone\u001b[0m\u001b[1;33m:\u001b[0m\u001b[1;33m\u001b[0m\u001b[1;33m\u001b[0m\u001b[0m\n\u001b[0;32m    529\u001b[0m                 \u001b[0mself\u001b[0m\u001b[1;33m.\u001b[0m\u001b[0m_reset\u001b[0m\u001b[1;33m(\u001b[0m\u001b[1;33m)\u001b[0m\u001b[1;33m\u001b[0m\u001b[1;33m\u001b[0m\u001b[0m\n\u001b[1;32m--> 530\u001b[1;33m             \u001b[0mdata\u001b[0m \u001b[1;33m=\u001b[0m \u001b[0mself\u001b[0m\u001b[1;33m.\u001b[0m\u001b[0m_next_data\u001b[0m\u001b[1;33m(\u001b[0m\u001b[1;33m)\u001b[0m\u001b[1;33m\u001b[0m\u001b[1;33m\u001b[0m\u001b[0m\n\u001b[0m\u001b[0;32m    531\u001b[0m             \u001b[0mself\u001b[0m\u001b[1;33m.\u001b[0m\u001b[0m_num_yielded\u001b[0m \u001b[1;33m+=\u001b[0m \u001b[1;36m1\u001b[0m\u001b[1;33m\u001b[0m\u001b[1;33m\u001b[0m\u001b[0m\n\u001b[0;32m    532\u001b[0m             \u001b[1;32mif\u001b[0m \u001b[0mself\u001b[0m\u001b[1;33m.\u001b[0m\u001b[0m_dataset_kind\u001b[0m \u001b[1;33m==\u001b[0m \u001b[0m_DatasetKind\u001b[0m\u001b[1;33m.\u001b[0m\u001b[0mIterable\u001b[0m \u001b[1;32mand\u001b[0m\u001b[0;31m \u001b[0m\u001b[0;31m\\\u001b[0m\u001b[1;33m\u001b[0m\u001b[1;33m\u001b[0m\u001b[0m\n",
      "\u001b[1;32mD:\\Users\\Marko\\Anaconda3\\lib\\site-packages\\torch\\utils\\data\\dataloader.py\u001b[0m in \u001b[0;36m_next_data\u001b[1;34m(self)\u001b[0m\n\u001b[0;32m    568\u001b[0m     \u001b[1;32mdef\u001b[0m \u001b[0m_next_data\u001b[0m\u001b[1;33m(\u001b[0m\u001b[0mself\u001b[0m\u001b[1;33m)\u001b[0m\u001b[1;33m:\u001b[0m\u001b[1;33m\u001b[0m\u001b[1;33m\u001b[0m\u001b[0m\n\u001b[0;32m    569\u001b[0m         \u001b[0mindex\u001b[0m \u001b[1;33m=\u001b[0m \u001b[0mself\u001b[0m\u001b[1;33m.\u001b[0m\u001b[0m_next_index\u001b[0m\u001b[1;33m(\u001b[0m\u001b[1;33m)\u001b[0m  \u001b[1;31m# may raise StopIteration\u001b[0m\u001b[1;33m\u001b[0m\u001b[1;33m\u001b[0m\u001b[0m\n\u001b[1;32m--> 570\u001b[1;33m         \u001b[0mdata\u001b[0m \u001b[1;33m=\u001b[0m \u001b[0mself\u001b[0m\u001b[1;33m.\u001b[0m\u001b[0m_dataset_fetcher\u001b[0m\u001b[1;33m.\u001b[0m\u001b[0mfetch\u001b[0m\u001b[1;33m(\u001b[0m\u001b[0mindex\u001b[0m\u001b[1;33m)\u001b[0m  \u001b[1;31m# may raise StopIteration\u001b[0m\u001b[1;33m\u001b[0m\u001b[1;33m\u001b[0m\u001b[0m\n\u001b[0m\u001b[0;32m    571\u001b[0m         \u001b[1;32mif\u001b[0m \u001b[0mself\u001b[0m\u001b[1;33m.\u001b[0m\u001b[0m_pin_memory\u001b[0m\u001b[1;33m:\u001b[0m\u001b[1;33m\u001b[0m\u001b[1;33m\u001b[0m\u001b[0m\n\u001b[0;32m    572\u001b[0m             \u001b[0mdata\u001b[0m \u001b[1;33m=\u001b[0m \u001b[0m_utils\u001b[0m\u001b[1;33m.\u001b[0m\u001b[0mpin_memory\u001b[0m\u001b[1;33m.\u001b[0m\u001b[0mpin_memory\u001b[0m\u001b[1;33m(\u001b[0m\u001b[0mdata\u001b[0m\u001b[1;33m)\u001b[0m\u001b[1;33m\u001b[0m\u001b[1;33m\u001b[0m\u001b[0m\n",
      "\u001b[1;32mD:\\Users\\Marko\\Anaconda3\\lib\\site-packages\\torch\\utils\\data\\_utils\\fetch.py\u001b[0m in \u001b[0;36mfetch\u001b[1;34m(self, possibly_batched_index)\u001b[0m\n\u001b[0;32m     50\u001b[0m         \u001b[1;32melse\u001b[0m\u001b[1;33m:\u001b[0m\u001b[1;33m\u001b[0m\u001b[1;33m\u001b[0m\u001b[0m\n\u001b[0;32m     51\u001b[0m             \u001b[0mdata\u001b[0m \u001b[1;33m=\u001b[0m \u001b[0mself\u001b[0m\u001b[1;33m.\u001b[0m\u001b[0mdataset\u001b[0m\u001b[1;33m[\u001b[0m\u001b[0mpossibly_batched_index\u001b[0m\u001b[1;33m]\u001b[0m\u001b[1;33m\u001b[0m\u001b[1;33m\u001b[0m\u001b[0m\n\u001b[1;32m---> 52\u001b[1;33m         \u001b[1;32mreturn\u001b[0m \u001b[0mself\u001b[0m\u001b[1;33m.\u001b[0m\u001b[0mcollate_fn\u001b[0m\u001b[1;33m(\u001b[0m\u001b[0mdata\u001b[0m\u001b[1;33m)\u001b[0m\u001b[1;33m\u001b[0m\u001b[1;33m\u001b[0m\u001b[0m\n\u001b[0m",
      "\u001b[1;32mD:\\Users\\Marko\\Anaconda3\\lib\\site-packages\\torch\\utils\\data\\_utils\\collate.py\u001b[0m in \u001b[0;36mdefault_collate\u001b[1;34m(batch)\u001b[0m\n\u001b[0;32m    170\u001b[0m \u001b[1;33m\u001b[0m\u001b[0m\n\u001b[0;32m    171\u001b[0m         \u001b[1;32mif\u001b[0m \u001b[0misinstance\u001b[0m\u001b[1;33m(\u001b[0m\u001b[0melem\u001b[0m\u001b[1;33m,\u001b[0m \u001b[0mtuple\u001b[0m\u001b[1;33m)\u001b[0m\u001b[1;33m:\u001b[0m\u001b[1;33m\u001b[0m\u001b[1;33m\u001b[0m\u001b[0m\n\u001b[1;32m--> 172\u001b[1;33m             \u001b[1;32mreturn\u001b[0m \u001b[1;33m[\u001b[0m\u001b[0mdefault_collate\u001b[0m\u001b[1;33m(\u001b[0m\u001b[0msamples\u001b[0m\u001b[1;33m)\u001b[0m \u001b[1;32mfor\u001b[0m \u001b[0msamples\u001b[0m \u001b[1;32min\u001b[0m \u001b[0mtransposed\u001b[0m\u001b[1;33m]\u001b[0m  \u001b[1;31m# Backwards compatibility.\u001b[0m\u001b[1;33m\u001b[0m\u001b[1;33m\u001b[0m\u001b[0m\n\u001b[0m\u001b[0;32m    173\u001b[0m         \u001b[1;32melse\u001b[0m\u001b[1;33m:\u001b[0m\u001b[1;33m\u001b[0m\u001b[1;33m\u001b[0m\u001b[0m\n\u001b[0;32m    174\u001b[0m             \u001b[1;32mtry\u001b[0m\u001b[1;33m:\u001b[0m\u001b[1;33m\u001b[0m\u001b[1;33m\u001b[0m\u001b[0m\n",
      "\u001b[1;32mD:\\Users\\Marko\\Anaconda3\\lib\\site-packages\\torch\\utils\\data\\_utils\\collate.py\u001b[0m in \u001b[0;36m<listcomp>\u001b[1;34m(.0)\u001b[0m\n\u001b[0;32m    170\u001b[0m \u001b[1;33m\u001b[0m\u001b[0m\n\u001b[0;32m    171\u001b[0m         \u001b[1;32mif\u001b[0m \u001b[0misinstance\u001b[0m\u001b[1;33m(\u001b[0m\u001b[0melem\u001b[0m\u001b[1;33m,\u001b[0m \u001b[0mtuple\u001b[0m\u001b[1;33m)\u001b[0m\u001b[1;33m:\u001b[0m\u001b[1;33m\u001b[0m\u001b[1;33m\u001b[0m\u001b[0m\n\u001b[1;32m--> 172\u001b[1;33m             \u001b[1;32mreturn\u001b[0m \u001b[1;33m[\u001b[0m\u001b[0mdefault_collate\u001b[0m\u001b[1;33m(\u001b[0m\u001b[0msamples\u001b[0m\u001b[1;33m)\u001b[0m \u001b[1;32mfor\u001b[0m \u001b[0msamples\u001b[0m \u001b[1;32min\u001b[0m \u001b[0mtransposed\u001b[0m\u001b[1;33m]\u001b[0m  \u001b[1;31m# Backwards compatibility.\u001b[0m\u001b[1;33m\u001b[0m\u001b[1;33m\u001b[0m\u001b[0m\n\u001b[0m\u001b[0;32m    173\u001b[0m         \u001b[1;32melse\u001b[0m\u001b[1;33m:\u001b[0m\u001b[1;33m\u001b[0m\u001b[1;33m\u001b[0m\u001b[0m\n\u001b[0;32m    174\u001b[0m             \u001b[1;32mtry\u001b[0m\u001b[1;33m:\u001b[0m\u001b[1;33m\u001b[0m\u001b[1;33m\u001b[0m\u001b[0m\n",
      "\u001b[1;32mD:\\Users\\Marko\\Anaconda3\\lib\\site-packages\\torch\\utils\\data\\_utils\\collate.py\u001b[0m in \u001b[0;36mdefault_collate\u001b[1;34m(batch)\u001b[0m\n\u001b[0;32m    144\u001b[0m                 \u001b[1;32mraise\u001b[0m \u001b[0mTypeError\u001b[0m\u001b[1;33m(\u001b[0m\u001b[0mdefault_collate_err_msg_format\u001b[0m\u001b[1;33m.\u001b[0m\u001b[0mformat\u001b[0m\u001b[1;33m(\u001b[0m\u001b[0melem\u001b[0m\u001b[1;33m.\u001b[0m\u001b[0mdtype\u001b[0m\u001b[1;33m)\u001b[0m\u001b[1;33m)\u001b[0m\u001b[1;33m\u001b[0m\u001b[1;33m\u001b[0m\u001b[0m\n\u001b[0;32m    145\u001b[0m \u001b[1;33m\u001b[0m\u001b[0m\n\u001b[1;32m--> 146\u001b[1;33m             \u001b[1;32mreturn\u001b[0m \u001b[0mdefault_collate\u001b[0m\u001b[1;33m(\u001b[0m\u001b[1;33m[\u001b[0m\u001b[0mtorch\u001b[0m\u001b[1;33m.\u001b[0m\u001b[0mas_tensor\u001b[0m\u001b[1;33m(\u001b[0m\u001b[0mb\u001b[0m\u001b[1;33m)\u001b[0m \u001b[1;32mfor\u001b[0m \u001b[0mb\u001b[0m \u001b[1;32min\u001b[0m \u001b[0mbatch\u001b[0m\u001b[1;33m]\u001b[0m\u001b[1;33m)\u001b[0m\u001b[1;33m\u001b[0m\u001b[1;33m\u001b[0m\u001b[0m\n\u001b[0m\u001b[0;32m    147\u001b[0m         \u001b[1;32melif\u001b[0m \u001b[0melem\u001b[0m\u001b[1;33m.\u001b[0m\u001b[0mshape\u001b[0m \u001b[1;33m==\u001b[0m \u001b[1;33m(\u001b[0m\u001b[1;33m)\u001b[0m\u001b[1;33m:\u001b[0m  \u001b[1;31m# scalars\u001b[0m\u001b[1;33m\u001b[0m\u001b[1;33m\u001b[0m\u001b[0m\n\u001b[0;32m    148\u001b[0m             \u001b[1;32mreturn\u001b[0m \u001b[0mtorch\u001b[0m\u001b[1;33m.\u001b[0m\u001b[0mas_tensor\u001b[0m\u001b[1;33m(\u001b[0m\u001b[0mbatch\u001b[0m\u001b[1;33m)\u001b[0m\u001b[1;33m\u001b[0m\u001b[1;33m\u001b[0m\u001b[0m\n",
      "\u001b[1;32mD:\\Users\\Marko\\Anaconda3\\lib\\site-packages\\torch\\utils\\data\\_utils\\collate.py\u001b[0m in \u001b[0;36mdefault_collate\u001b[1;34m(batch)\u001b[0m\n\u001b[0;32m    136\u001b[0m             \u001b[0mstorage\u001b[0m \u001b[1;33m=\u001b[0m \u001b[0melem\u001b[0m\u001b[1;33m.\u001b[0m\u001b[0mstorage\u001b[0m\u001b[1;33m(\u001b[0m\u001b[1;33m)\u001b[0m\u001b[1;33m.\u001b[0m\u001b[0m_new_shared\u001b[0m\u001b[1;33m(\u001b[0m\u001b[0mnumel\u001b[0m\u001b[1;33m)\u001b[0m\u001b[1;33m\u001b[0m\u001b[1;33m\u001b[0m\u001b[0m\n\u001b[0;32m    137\u001b[0m             \u001b[0mout\u001b[0m \u001b[1;33m=\u001b[0m \u001b[0melem\u001b[0m\u001b[1;33m.\u001b[0m\u001b[0mnew\u001b[0m\u001b[1;33m(\u001b[0m\u001b[0mstorage\u001b[0m\u001b[1;33m)\u001b[0m\u001b[1;33m.\u001b[0m\u001b[0mresize_\u001b[0m\u001b[1;33m(\u001b[0m\u001b[0mlen\u001b[0m\u001b[1;33m(\u001b[0m\u001b[0mbatch\u001b[0m\u001b[1;33m)\u001b[0m\u001b[1;33m,\u001b[0m \u001b[1;33m*\u001b[0m\u001b[0mlist\u001b[0m\u001b[1;33m(\u001b[0m\u001b[0melem\u001b[0m\u001b[1;33m.\u001b[0m\u001b[0msize\u001b[0m\u001b[1;33m(\u001b[0m\u001b[1;33m)\u001b[0m\u001b[1;33m)\u001b[0m\u001b[1;33m)\u001b[0m\u001b[1;33m\u001b[0m\u001b[1;33m\u001b[0m\u001b[0m\n\u001b[1;32m--> 138\u001b[1;33m         \u001b[1;32mreturn\u001b[0m \u001b[0mtorch\u001b[0m\u001b[1;33m.\u001b[0m\u001b[0mstack\u001b[0m\u001b[1;33m(\u001b[0m\u001b[0mbatch\u001b[0m\u001b[1;33m,\u001b[0m \u001b[1;36m0\u001b[0m\u001b[1;33m,\u001b[0m \u001b[0mout\u001b[0m\u001b[1;33m=\u001b[0m\u001b[0mout\u001b[0m\u001b[1;33m)\u001b[0m\u001b[1;33m\u001b[0m\u001b[1;33m\u001b[0m\u001b[0m\n\u001b[0m\u001b[0;32m    139\u001b[0m     \u001b[1;32melif\u001b[0m \u001b[0melem_type\u001b[0m\u001b[1;33m.\u001b[0m\u001b[0m__module__\u001b[0m \u001b[1;33m==\u001b[0m \u001b[1;34m'numpy'\u001b[0m \u001b[1;32mand\u001b[0m \u001b[0melem_type\u001b[0m\u001b[1;33m.\u001b[0m\u001b[0m__name__\u001b[0m \u001b[1;33m!=\u001b[0m \u001b[1;34m'str_'\u001b[0m\u001b[0;31m \u001b[0m\u001b[0;31m\\\u001b[0m\u001b[1;33m\u001b[0m\u001b[1;33m\u001b[0m\u001b[0m\n\u001b[0;32m    140\u001b[0m             \u001b[1;32mand\u001b[0m \u001b[0melem_type\u001b[0m\u001b[1;33m.\u001b[0m\u001b[0m__name__\u001b[0m \u001b[1;33m!=\u001b[0m \u001b[1;34m'string_'\u001b[0m\u001b[1;33m:\u001b[0m\u001b[1;33m\u001b[0m\u001b[1;33m\u001b[0m\u001b[0m\n",
      "\u001b[1;31mKeyboardInterrupt\u001b[0m: "
     ]
    }
   ],
   "source": [
    "lss, lss_t = train(default_args, train_loader, test_loader, diva, optimizer, 500, 135, save_folder=\"new/HVAE3\",save_interval=5)"
   ]
  },
  {
   "cell_type": "code",
   "execution_count": null,
   "metadata": {},
   "outputs": [],
   "source": [
    "lss, lss_t = train(default_args, train_loader, test_loader, diva, optimizer, 1000,500,save_folder=\"new/HVAE2\",save_interval=5)"
   ]
  },
  {
   "cell_type": "code",
   "execution_count": null,
   "metadata": {},
   "outputs": [],
   "source": []
  },
  {
   "cell_type": "code",
   "execution_count": null,
   "metadata": {},
   "outputs": [],
   "source": []
  },
  {
   "cell_type": "code",
   "execution_count": null,
   "metadata": {},
   "outputs": [],
   "source": []
  },
  {
   "cell_type": "code",
   "execution_count": null,
   "metadata": {},
   "outputs": [],
   "source": []
  },
  {
   "cell_type": "code",
   "execution_count": null,
   "metadata": {
    "colab": {
     "base_uri": "https://localhost:8080/",
     "height": 1000
    },
    "executionInfo": {
     "elapsed": 4182003,
     "status": "ok",
     "timestamp": 1647010362327,
     "user": {
      "displayName": "Marko Petkovic",
      "photoUrl": "https://lh3.googleusercontent.com/a-/AOh14Gijd0e9r3I1vRZVN6DEwl16XpJxxS1oSAKunOnfZQ=s64",
      "userId": "11987583535390684770"
     },
     "user_tz": -60
    },
    "id": "NprX9l7G73MJ",
    "outputId": "e970b2ef-1d7d-4702-dd1f-3bb4b59c0326"
   },
   "outputs": [],
   "source": [
    "lss2, lss_t2 = train(default_args, train_loader, test_loader, diva, optimizer, 1000, 500, save_folder=\"VAEFC\")"
   ]
  },
  {
   "cell_type": "code",
   "execution_count": null,
   "metadata": {
    "scrolled": true
   },
   "outputs": [],
   "source": [
    "lss, lss_t = train(default_args, train_loader, test_loader, diva, optimizer, 1600, 1000, save_folder=\"VAEFC\")"
   ]
  },
  {
   "cell_type": "code",
   "execution_count": null,
   "metadata": {
    "id": "c4r_UyPUGXqT"
   },
   "outputs": [],
   "source": [
    "def plot_loss_acc(lss, lss_t):\n",
    "    fig,ax = plt.subplots()\n",
    "    ax.plot(lss, label=\"train loss\")\n",
    "    ax.plot(lss_t, label = \"test loss\")\n",
    "    #ax1 = ax.twinx()\n",
    "    #ax1.plot(yacc, label = \"train accuracy\", ls='--')\n",
    "    #ax1.plot(yacc_t, label = \"test accuracy\", ls='--')\n",
    "\n",
    "    lines, labels = ax.get_legend_handles_labels()\n",
    "    #lines2, labels2 = ax1.get_legend_handles_labels()\n",
    "\n",
    "    ax.legend(lines, labels)"
   ]
  },
  {
   "cell_type": "code",
   "execution_count": null,
   "metadata": {
    "colab": {
     "base_uri": "https://localhost:8080/",
     "height": 266
    },
    "executionInfo": {
     "elapsed": 857,
     "status": "ok",
     "timestamp": 1645822416415,
     "user": {
      "displayName": "Marko Petkovic",
      "photoUrl": "https://lh3.googleusercontent.com/a-/AOh14Gijd0e9r3I1vRZVN6DEwl16XpJxxS1oSAKunOnfZQ=s64",
      "userId": "11987583535390684770"
     },
     "user_tz": -60
    },
    "id": "fTFZZmoguwtU",
    "outputId": "540c8c1f-99d7-4931-c102-7c96747243aa"
   },
   "outputs": [],
   "source": [
    "plot_loss_acc(lss, lss_t)"
   ]
  },
  {
   "cell_type": "code",
   "execution_count": null,
   "metadata": {
    "colab": {
     "base_uri": "https://localhost:8080/",
     "height": 265
    },
    "executionInfo": {
     "elapsed": 557,
     "status": "ok",
     "timestamp": 1645623855467,
     "user": {
      "displayName": "Marko Petkovic",
      "photoUrl": "https://lh3.googleusercontent.com/a/default-user=s64",
      "userId": "04006351469182865246"
     },
     "user_tz": -60
    },
    "id": "mq2FG26TznE1",
    "outputId": "152eddd3-a440-4b25-c437-498efb0a7ffe"
   },
   "outputs": [],
   "source": [
    "plot_loss_acc(lss3, lss_t3, yacc3, yacc_t3)"
   ]
  },
  {
   "cell_type": "code",
   "execution_count": null,
   "metadata": {
    "id": "9FyP02qPdgso"
   },
   "outputs": [],
   "source": [
    "def plot_change_latent_var(diva, lat_space=\"y\", var_idx=[0,1,2,3,4,5,6,7], step = 5):\n",
    "    a = next(enumerate(test_loader))\n",
    "    with torch.no_grad():\n",
    "        diva.eval()\n",
    "        d = a[1][2][:len(var_idx)].to(DEVICE).float()\n",
    "        x = a[1][0][:len(var_idx)].to(DEVICE).float()\n",
    "        y = a[1][1][:len(var_idx)].to(DEVICE).float()\n",
    "\n",
    "        zx, zx_sc = diva.qzx(x)\n",
    "        zy, zy_sc = diva.qzy(x)\n",
    "        zd, zd_sc =  diva.qzd(x)\n",
    "\n",
    "        print(torch.max(zy), torch.min(zy), \"sdmax:\", torch.max(zy_sc))\n",
    "\n",
    "        out = change(zx, zy, zd, var_idx, lat_space, diva, step)\n",
    "    \n",
    "    fig, ax = plt.subplots(ncols=out.shape[0],nrows=len(var_idx),figsize=(10*4*out.shape[0],10*len(var_idx)))\n",
    "    for i in range(out.shape[0]):\n",
    "      for j in range(len(var_idx)):\n",
    "        ax[j,i].imshow(out[i,j])"
   ]
  },
  {
   "cell_type": "code",
   "execution_count": null,
   "metadata": {
    "id": "x6kJu1APenFe"
   },
   "outputs": [],
   "source": [
    "def change(zx, zy, zd, idx, lat = \"y\", model=diva, step = 2):\n",
    "    \n",
    "    dif = np.arange(-30,15,step)\n",
    "    print(torch.max(zy), torch.min(zy))\n",
    "    out = np.zeros((dif.shape[0], len(idx), 25, 100 ,3))  \n",
    "    #print(zy.shape, dif.shape[0])\n",
    "    for i in range(dif.shape[0]):\n",
    "      for j in range(len(idx)):\n",
    "        if lat == \"y\":\n",
    "            zy[j,idx] = dif[i]\n",
    "        elif lat == \"x\":\n",
    "            zx[j,idx] = dif[i]\n",
    "        elif lat == \"d\":\n",
    "            zd[j,idx] = dif[i]\n",
    "        len_, bar, col = model.px(zd[j],zx[j],zy[j])\n",
    "        out[i,j] = model.px.reconstruct_image(len_[None,:], bar, col)\n",
    "    \n",
    "    return out\n",
    "\n"
   ]
  },
  {
   "cell_type": "code",
   "execution_count": null,
   "metadata": {
    "colab": {
     "base_uri": "https://localhost:8080/",
     "height": 243
    },
    "executionInfo": {
     "elapsed": 33513,
     "status": "ok",
     "timestamp": 1645623900042,
     "user": {
      "displayName": "Marko Petkovic",
      "photoUrl": "https://lh3.googleusercontent.com/a/default-user=s64",
      "userId": "04006351469182865246"
     },
     "user_tz": -60
    },
    "id": "4U1JHmTKh0cE",
    "outputId": "b0a1850e-9f0d-4163-813b-8686f4bb05fc"
   },
   "outputs": [],
   "source": [
    "plot_change_latent_var(diva)"
   ]
  },
  {
   "cell_type": "code",
   "execution_count": null,
   "metadata": {
    "id": "cpZoRZMGHcui"
   },
   "outputs": [],
   "source": [
    "fig,ax = plt.subplots()\n",
    "ax.plot(np.arange(50,120), [i.cpu().detach().numpy() for i in lss2], label=\"train loss\")\n",
    "ax.plot(np.arange(50,120), [i.cpu().detach().numpy() for i in lss_t2], label = \"testloss\")\n",
    "ax1 = ax.twinx()\n",
    "ax1.plot(np.arange(50,120), yacc2, label = \"train\")\n",
    "ax1.plot(np.arange(50,120), yacc_t2, label = \"test\")\n",
    "\n",
    "plt.legend()"
   ]
  },
  {
   "cell_type": "code",
   "execution_count": null,
   "metadata": {
    "colab": {
     "base_uri": "https://localhost:8080/",
     "height": 283
    },
    "executionInfo": {
     "elapsed": 681,
     "status": "ok",
     "timestamp": 1645563980004,
     "user": {
      "displayName": "Marko Petkovic",
      "photoUrl": "https://lh3.googleusercontent.com/a-/AOh14Gijd0e9r3I1vRZVN6DEwl16XpJxxS1oSAKunOnfZQ=s64",
      "userId": "11987583535390684770"
     },
     "user_tz": -60
    },
    "id": "OQMW85JXM6oO",
    "outputId": "dd28a6c2-0024-498e-d571-c705ee67fbd6"
   },
   "outputs": [],
   "source": [
    "fig,ax = plt.subplots()\n",
    "ax.plot(np.arange(120,180), [i.cpu().detach().numpy() for i in lss3], label=\"train loss\")\n",
    "ax.plot(np.arange(120,180), [i.cpu().detach().numpy() for i in lss_t3], label = \"testloss\")\n",
    "ax1 = ax.twinx()\n",
    "ax1.plot(np.arange(120,180), yacc3, label = \"train\",c='green')\n",
    "ax1.plot(np.arange(120,180), yacc_t3, label = \"test\")\n",
    "\n",
    "plt.legend()"
   ]
  },
  {
   "cell_type": "markdown",
   "metadata": {
    "id": "whsgNltzXDhK"
   },
   "source": [
    "# Model Evaluation"
   ]
  },
  {
   "cell_type": "markdown",
   "metadata": {
    "id": "VfcwhSNIjqIE"
   },
   "source": [
    "## Sampling from trained model"
   ]
  },
  {
   "cell_type": "code",
   "execution_count": null,
   "metadata": {
    "id": "4NWGV4Xd7bn8"
   },
   "outputs": [],
   "source": []
  },
  {
   "cell_type": "code",
   "execution_count": null,
   "metadata": {
    "id": "3z5XA4QI1Mb1"
   },
   "outputs": [],
   "source": [
    "def plot_latent_space(lat_space=\"y\"):\n",
    "    '''\n",
    "    lat_space: y, d, x\n",
    "    '''\n",
    "\n",
    "    "
   ]
  },
  {
   "cell_type": "code",
   "execution_count": null,
   "metadata": {
    "colab": {
     "base_uri": "https://localhost:8080/",
     "height": 336
    },
    "executionInfo": {
     "elapsed": 1897,
     "status": "ok",
     "timestamp": 1645556291755,
     "user": {
      "displayName": "Marko Petkovic",
      "photoUrl": "https://lh3.googleusercontent.com/a-/AOh14Gijd0e9r3I1vRZVN6DEwl16XpJxxS1oSAKunOnfZQ=s64",
      "userId": "11987583535390684770"
     },
     "user_tz": -60
    },
    "id": "USZ7nIDugT1S",
    "outputId": "174d53bb-845f-458b-ca85-9d749c9c0865"
   },
   "outputs": [],
   "source": [
    "plot(x, out, 0)"
   ]
  },
  {
   "cell_type": "code",
   "execution_count": null,
   "metadata": {
    "colab": {
     "base_uri": "https://localhost:8080/",
     "height": 230
    },
    "executionInfo": {
     "elapsed": 1646,
     "status": "ok",
     "timestamp": 1645550689935,
     "user": {
      "displayName": "Marko Petkovic",
      "photoUrl": "https://lh3.googleusercontent.com/a-/AOh14Gijd0e9r3I1vRZVN6DEwl16XpJxxS1oSAKunOnfZQ=s64",
      "userId": "11987583535390684770"
     },
     "user_tz": -60
    },
    "id": "OE3qVVFFLaPm",
    "outputId": "93953e16-3bda-464b-b765-3aedb9fbe428"
   },
   "outputs": [],
   "source": [
    "fig, ax = plt.subplots(nrows=3, ncols=3)\n",
    "for i in range(9):\n",
    "  ax[i//3, i%3].imshow(x[i].cpu().permute(1,2,0))\n",
    "  \n",
    "plt.savefig('divastamporg.png')"
   ]
  },
  {
   "cell_type": "code",
   "execution_count": null,
   "metadata": {
    "id": "RRQU05xQEx28"
   },
   "outputs": [],
   "source": []
  }
 ],
 "metadata": {
  "accelerator": "GPU",
  "colab": {
   "collapsed_sections": [],
   "name": "StampVAE (Beta)",
   "provenance": []
  },
  "kernelspec": {
   "display_name": "Python 3",
   "language": "python",
   "name": "python3"
  },
  "language_info": {
   "codemirror_mode": {
    "name": "ipython",
    "version": 3
   },
   "file_extension": ".py",
   "mimetype": "text/x-python",
   "name": "python",
   "nbconvert_exporter": "python",
   "pygments_lexer": "ipython3",
   "version": "3.7.6"
  }
 },
 "nbformat": 4,
 "nbformat_minor": 1
}
