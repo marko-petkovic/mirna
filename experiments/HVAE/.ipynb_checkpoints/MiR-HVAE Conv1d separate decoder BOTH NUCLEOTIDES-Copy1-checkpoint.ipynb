{
 "cells": [
  {
   "cell_type": "code",
   "execution_count": 1,
   "metadata": {
    "executionInfo": {
     "elapsed": 6,
     "status": "ok",
     "timestamp": 1647023261840,
     "user": {
      "displayName": "Marko Petkovic",
      "photoUrl": "https://lh3.googleusercontent.com/a-/AOh14Gijd0e9r3I1vRZVN6DEwl16XpJxxS1oSAKunOnfZQ=s64",
      "userId": "11987583535390684770"
     },
     "user_tz": -60
    },
    "id": "UuXEtFCubCjx"
   },
   "outputs": [],
   "source": [
    "link = 'D:/users/Marko/downloads/mirna/'"
   ]
  },
  {
   "cell_type": "markdown",
   "metadata": {
    "id": "MgMR4QspjvRl"
   },
   "source": [
    "# Imports"
   ]
  },
  {
   "cell_type": "code",
   "execution_count": 2,
   "metadata": {
    "executionInfo": {
     "elapsed": 5,
     "status": "ok",
     "timestamp": 1647023261840,
     "user": {
      "displayName": "Marko Petkovic",
      "photoUrl": "https://lh3.googleusercontent.com/a-/AOh14Gijd0e9r3I1vRZVN6DEwl16XpJxxS1oSAKunOnfZQ=s64",
      "userId": "11987583535390684770"
     },
     "user_tz": -60
    },
    "id": "aXljY6Cp4zU-"
   },
   "outputs": [],
   "source": [
    "%load_ext tensorboard"
   ]
  },
  {
   "cell_type": "code",
   "execution_count": 3,
   "metadata": {
    "colab": {
     "base_uri": "https://localhost:8080/"
    },
    "executionInfo": {
     "elapsed": 31000,
     "status": "ok",
     "timestamp": 1647023292835,
     "user": {
      "displayName": "Marko Petkovic",
      "photoUrl": "https://lh3.googleusercontent.com/a-/AOh14Gijd0e9r3I1vRZVN6DEwl16XpJxxS1oSAKunOnfZQ=s64",
      "userId": "11987583535390684770"
     },
     "user_tz": -60
    },
    "id": "VgKU5wNzDK4F",
    "outputId": "2edd95bf-9577-4772-eeca-95c5d32cf026"
   },
   "outputs": [],
   "source": [
    "import sys\n",
    "#sys.path.insert(0,'/content/drive/MyDrive/Marko/master')\n",
    "sys.path.insert(0, link)\n",
    "import numpy as np\n",
    "import matplotlib.pyplot as plt\n",
    "\n",
    "#import tensorflow as tf\n",
    "\n",
    "import torch\n",
    "import torch.optim as optim\n",
    "import torch.nn as nn\n",
    "import torch.distributions as dist\n",
    "\n",
    "from torch.nn import functional as F\n",
    "from torchinfo import summary\n",
    "from torch.utils.tensorboard import SummaryWriter\n",
    "from torch.utils.data import Dataset, DataLoader\n",
    "from torch.autograd import Variable\n",
    "\n",
    "from sklearn.preprocessing import OneHotEncoder\n",
    "\n",
    "from tqdm import tqdm\n",
    "from tqdm import trange\n",
    "\n",
    "import datetime\n",
    "import math\n",
    "\n",
    "\n",
    "writer = SummaryWriter(f\"{link}/saved_models/new/DOUBLEHVAE/tensorboard\")"
   ]
  },
  {
   "cell_type": "code",
   "execution_count": 4,
   "metadata": {
    "executionInfo": {
     "elapsed": 6,
     "status": "ok",
     "timestamp": 1647023292836,
     "user": {
      "displayName": "Marko Petkovic",
      "photoUrl": "https://lh3.googleusercontent.com/a-/AOh14Gijd0e9r3I1vRZVN6DEwl16XpJxxS1oSAKunOnfZQ=s64",
      "userId": "11987583535390684770"
     },
     "user_tz": -60
    },
    "id": "HuLsYxyh6_ZM"
   },
   "outputs": [],
   "source": [
    "DEVICE = torch.device(\"cuda\" if torch.cuda.is_available() else \"cpu\")"
   ]
  },
  {
   "cell_type": "code",
   "execution_count": 5,
   "metadata": {
    "scrolled": true
   },
   "outputs": [
    {
     "data": {
      "text/plain": [
       "device(type='cuda')"
      ]
     },
     "execution_count": 5,
     "metadata": {},
     "output_type": "execute_result"
    }
   ],
   "source": [
    "DEVICE"
   ]
  },
  {
   "cell_type": "markdown",
   "metadata": {
    "id": "axFkNf0cjx2V"
   },
   "source": [
    "# Model Classes"
   ]
  },
  {
   "cell_type": "code",
   "execution_count": 6,
   "metadata": {
    "executionInfo": {
     "elapsed": 6,
     "status": "ok",
     "timestamp": 1647023292836,
     "user": {
      "displayName": "Marko Petkovic",
      "photoUrl": "https://lh3.googleusercontent.com/a-/AOh14Gijd0e9r3I1vRZVN6DEwl16XpJxxS1oSAKunOnfZQ=s64",
      "userId": "11987583535390684770"
     },
     "user_tz": -60
    },
    "id": "ae7NZhZGj7Zi"
   },
   "outputs": [],
   "source": [
    "class diva_args:\n",
    "\n",
    "    def __init__(self, z1_dim=256, z2_dim=256, d_dim=45, x_dim=7500, y_dim=2,\n",
    "                 h_dim = 256, h2_dim = 256, number_components = 500,\n",
    "                 beta=1, rec_alpha = 100, rec_beta = 20, \n",
    "                 rec_gamma = 1, warmup = 1, prewarmup = 1):\n",
    "\n",
    "        self.z1_dim = z1_dim\n",
    "        self.z2_dim = z2_dim\n",
    "        self.d_dim = d_dim\n",
    "        self.x_dim = x_dim\n",
    "        self.y_dim = y_dim\n",
    "        \n",
    "        self.h_dim = h_dim\n",
    "        self.h2_dim = h2_dim\n",
    "        \n",
    "        self.number_components = number_components\n",
    "        \n",
    "        self.beta = beta\n",
    "        self.rec_alpha = rec_alpha\n",
    "        self.rec_beta = rec_beta\n",
    "        self.rec_gamma = rec_gamma\n",
    "        self.warmup = warmup\n",
    "        self.prewarmup = prewarmup\n"
   ]
  },
  {
   "cell_type": "markdown",
   "metadata": {
    "id": "tb1vH-a1j7Rf"
   },
   "source": [
    "## Dataset Class"
   ]
  },
  {
   "cell_type": "code",
   "execution_count": 7,
   "metadata": {
    "executionInfo": {
     "elapsed": 328,
     "status": "ok",
     "timestamp": 1647023293159,
     "user": {
      "displayName": "Marko Petkovic",
      "photoUrl": "https://lh3.googleusercontent.com/a-/AOh14Gijd0e9r3I1vRZVN6DEwl16XpJxxS1oSAKunOnfZQ=s64",
      "userId": "11987583535390684770"
     },
     "user_tz": -60
    },
    "id": "D6ouvuZX3WPs"
   },
   "outputs": [],
   "source": [
    "class MicroRNADataset(Dataset):\n",
    "\n",
    "    def __init__(self, ds='train', create_encodings=False, use_subset=False):\n",
    "        \n",
    "        # loading images\n",
    "        self.images = np.load(f'{link}/data/modmirbase_{ds}_images.npz')['arr_0']/255\n",
    "        \n",
    "        \n",
    "        # loading labels\n",
    "        print('Loading Labels! (~10s)')     \n",
    "        ohe = OneHotEncoder(categories='auto', sparse=False)\n",
    "        labels = np.load(f'{link}/data/modmirbase_{ds}_labels.npz')['arr_0']\n",
    "        self.labels = ohe.fit_transform(labels)\n",
    "        \n",
    "        # loading encoded images\n",
    "        print(\"loading encodings\")\n",
    "        if create_encodings:\n",
    "            x_len, x_bar, x_col = self.get_encoded_values(self.images, ds)\n",
    "        else:\n",
    "            x_len = np.load(f'{link}/data/modmirbase_{ds}_images_len4.npz')\n",
    "            x_bar = np.load(f'{link}/data/modmirbase_{ds}_images_bar4.npz')\n",
    "            x_col = np.load(f'{link}/data/modmirbase_{ds}_images_col4.npz')\n",
    "        \n",
    "        self.x_len = x_len\n",
    "        self.x_bar = x_bar\n",
    "        self.x_col = x_col\n",
    "        \n",
    "        \n",
    "        self.mountain = np.load(f'{link}/data/modmirbase_{ds}_mountain.npy')\n",
    "        \n",
    "        \n",
    "        # loading names\n",
    "        print('Loading Names! (~5s)')\n",
    "        names =  np.load(f'{link}/data/modmirbase_{ds}_names.npz')['arr_0']\n",
    "        names = [i.decode('utf-8') for i in names]\n",
    "        self.species = ['mmu', 'prd', 'hsa', 'ptr', 'efu', 'cbn', 'gma', 'pma',\n",
    "                        'cel', 'gga', 'ipu', 'ptc', 'mdo', 'cgr', 'bta', 'cin', \n",
    "                        'ppy', 'ssc', 'ath', 'cfa', 'osa', 'mtr', 'gra', 'mml',\n",
    "                        'stu', 'bdi', 'rno', 'oan', 'dre', 'aca', 'eca', 'chi',\n",
    "                        'bmo', 'ggo', 'aly', 'dps', 'mdm', 'ame', 'ppc', 'ssa',\n",
    "                        'ppt', 'tca', 'dme', 'sbi']\n",
    "        # assigning a species label to each observation from species\n",
    "        # with more than 200 observations from past research\n",
    "        self.names = []\n",
    "        for i in names:\n",
    "            append = False\n",
    "            for j in self.species:\n",
    "                if j in i.lower():\n",
    "                    self.names.append(j)\n",
    "                    append = True\n",
    "                    break\n",
    "            if not append:\n",
    "                if 'random' in i.lower() or i.isdigit():\n",
    "                    self.names.append('hsa')\n",
    "                else:\n",
    "                    self.names.append('notfound')\n",
    "        \n",
    "        # performing one hot encoding\n",
    "        ohe = OneHotEncoder(categories='auto', sparse=False)\n",
    "        \n",
    "       \n",
    "        \n",
    "        self.names_ohe = ohe.fit_transform(np.array(self.names).reshape(-1,1))\n",
    "          \n",
    "        if use_subset:    \n",
    "            idxes = [i == 'hsa' and np.random.choice([True, False]) for i in self.names]\n",
    "            self.names_ohe = self.names_ohe[idxes]\n",
    "            self.labels = self.labels[idxes]\n",
    "            self.images = self.images[idxes]\n",
    "            self.x_len = self.x_len[idxes]\n",
    "            self.x_col = self.x_col[idxes]\n",
    "            self.x_bar = self.x_bar[idxes]\n",
    "            self.mountain = self.mountain[idxes]\n",
    "    \n",
    "    def __len__(self):\n",
    "        return(self.images.shape[0])\n",
    "\n",
    "    def __getitem__(self, idx):\n",
    "        d = self.names_ohe[idx]\n",
    "        y = self.labels[idx]\n",
    "        x = self.images[idx]\n",
    "        x = np.transpose(x, (2,0,1))\n",
    "        x_len = self.x_len[idx]\n",
    "        x_col = self.x_col[idx]\n",
    "        x_bar = self.x_bar[idx]\n",
    "        mount = self.mountain[idx]                        \n",
    "        return (x, y, d, x_len, x_col, x_bar, mount)\n",
    "\n",
    "\n",
    "    def get_encoded_values(self, x, ds):\n",
    "        \"\"\"\n",
    "        given an image or batch of images\n",
    "        returns length of strand, length of bars and colors of bars\n",
    "        \"\"\"\n",
    "        n = x.shape[0]\n",
    "        x = np.transpose(x, (0,3,1,2))\n",
    "        out_len = np.zeros((n), dtype=np.uint8)\n",
    "        out_col = np.zeros((n,25,100), dtype=np.uint8)\n",
    "        out_bar = np.zeros((n,2,100), dtype=np.uint8)\n",
    "\n",
    "        for i in range(n):\n",
    "            if i % 100 == 0:\n",
    "                print(f'at {i} out of {n}')\n",
    "            rna_len = 0\n",
    "            broke = False\n",
    "            for j in range(100):\n",
    "                if (x[i,:,12,j] == np.array([1,1,1])).all():\n",
    "                    out_len[i] = rna_len\n",
    "                    broke = True\n",
    "                    break\n",
    "                else:\n",
    "                    rna_len += 1\n",
    "                    # check color of bars\n",
    "                    out_col[i, self.get_color(x,i,j),j] = 1 \n",
    "                    #out_col[i, self.get_color(x[i,:,13,j]), 1, j] = 1\n",
    "                    # check length of bars\n",
    "                    len1 = 0\n",
    "                    # loop until white pixel\n",
    "                    while not (x[i,:,12-len1,j] == np.array([1.,1.,1.])).all():\n",
    "                        len1 += 1\n",
    "                        if 13-len1 == 0:\n",
    "                            break\n",
    "                    out_bar[i, 0, j] = len1\n",
    "\n",
    "                    len2 = 0\n",
    "                    while not (x[i,:,13+len2,j] == np.array([1.,1.,1.])).all():\n",
    "                        len2 += 1\n",
    "                        if 13+len2 == 25:\n",
    "                            break\n",
    "                    out_bar[i, 1, j] = len2\n",
    "            if not broke:\n",
    "                out_len[i] = rna_len\n",
    "\n",
    "\n",
    "        with open(f'{link}/data/modmirbase_{ds}_images_len4.npz', 'wb') as f:\n",
    "            np.save(f, out_len)\n",
    "        with open(f'{link}/data/modmirbase_{ds}_images_col4.npz', 'wb') as f:\n",
    "            np.save(f, out_col)\n",
    "        with open(f'{link}/data/modmirbase_{ds}_images_bar4.npz', 'wb') as f:\n",
    "            np.save(f, out_bar)\n",
    "        \n",
    "\n",
    "        return out_len, out_bar, out_col\n",
    "\n",
    "    def get_color(self, x, i, j):\n",
    "        \n",
    "        col = self._get_color(x[i,:,12,j])+self._get_color(x[i,:,13,j])\n",
    "        if col == '00':\n",
    "            return 0\n",
    "        if col == '01':\n",
    "            return 1\n",
    "        if col == '02':\n",
    "            return 2\n",
    "        if col == '03':\n",
    "            return 3\n",
    "        if col == '04':\n",
    "            return 4\n",
    "        if col == '10':\n",
    "            return 5\n",
    "        if col == '11':\n",
    "            return 6\n",
    "        if col == '12':\n",
    "            return 7\n",
    "        if col == '13':\n",
    "            return 8\n",
    "        if col == '14':\n",
    "            return 9\n",
    "        if col == '20':\n",
    "            return 10\n",
    "        if col == '21':\n",
    "            return 11\n",
    "        if col == '22':\n",
    "            return 12\n",
    "        if col == '23':\n",
    "            return 13\n",
    "        if col == '24':\n",
    "            return 14\n",
    "        if col == '30':\n",
    "            return 15\n",
    "        if col == '31':\n",
    "            return 16\n",
    "        if col == '32':\n",
    "            return 17\n",
    "        if col == '33':\n",
    "            return 18\n",
    "        if col == '34':\n",
    "            return 19\n",
    "        if col == '40':\n",
    "            return 20\n",
    "        if col == '41':\n",
    "            return 21\n",
    "        if col == '42':\n",
    "            return 22\n",
    "        if col == '43':\n",
    "            return 23\n",
    "        if col == '44':\n",
    "            return 24\n",
    "        \n",
    "        \n",
    "    \n",
    "    def _get_color(self, pixel):\n",
    "        \"\"\"\n",
    "        returns the encoded value for a pixel\n",
    "        \"\"\"\n",
    "        if (pixel == np.array([0,0,0])).all():  \n",
    "            return \"0\" # black\n",
    "        elif (pixel == np.array([1,0,0])).all():  \n",
    "            return \"1\" # red\n",
    "        elif (pixel == np.array([0,0,1])).all():  \n",
    "            return \"2\" # blue\n",
    "        elif (pixel == np.array([0,1,0])).all():  \n",
    "            return \"3\" # green\n",
    "        elif (pixel == np.array([1,1,0])).all():  \n",
    "            return \"4\" # yellow\n",
    "        else:\n",
    "            print(\"Something wrong!\")\n"
   ]
  },
  {
   "cell_type": "markdown",
   "metadata": {
    "id": "Xxj-WGXMj-Ne"
   },
   "source": [
    "## Decoder classes"
   ]
  },
  {
   "cell_type": "code",
   "execution_count": 8,
   "metadata": {
    "executionInfo": {
     "elapsed": 5,
     "status": "ok",
     "timestamp": 1647023293160,
     "user": {
      "displayName": "Marko Petkovic",
      "photoUrl": "https://lh3.googleusercontent.com/a-/AOh14Gijd0e9r3I1vRZVN6DEwl16XpJxxS1oSAKunOnfZQ=s64",
      "userId": "11987583535390684770"
     },
     "user_tz": -60
    },
    "id": "RKizJuchX9uG"
   },
   "outputs": [],
   "source": [
    "# Decoders\n",
    "class px(nn.Module):\n",
    "    def __init__(self, d_dim, x_dim, y_dim, z1_dim, z2_dim, \n",
    "                 h_dim, h2_dim, dim0=2000, dim1=128, dim2=64):\n",
    "        super(px, self).__init__()\n",
    "\n",
    "        \n",
    "        # p(z1|z2)\n",
    "        \n",
    "        self.p_z1 = nn.Sequential(nn.Linear(z2_dim+200, h2_dim),\n",
    "                                  nn.ReLU(),\n",
    "                                  nn.Linear(h2_dim, h2_dim),\n",
    "                                  nn.ReLU())\n",
    "        self.mu_z1 = nn.Sequential(nn.Linear(h2_dim, z1_dim))\n",
    "        self.si_z1 = nn.Sequential(nn.Linear(h2_dim, z1_dim), nn.Softplus())\n",
    "        \n",
    "        \n",
    "        # p(x|z1,z2,m)\n",
    "        \n",
    "        self.px_z1 = nn.Sequential(nn.Linear(z1_dim, h_dim),\n",
    "                                   nn.ReLU())\n",
    "        self.px_z2 = nn.Sequential(nn.Linear(z2_dim+200, h_dim),\n",
    "                                   nn.ReLU())\n",
    "        # seperate decoders for length of RNA, color and size of bars\n",
    "        self.fc_col = nn.Sequential(nn.Linear(2*h_dim, 600),\n",
    "                                    nn.ReLU())\n",
    "        self.fc_col1 = nn.Sequential(nn.Linear(600,2500))\n",
    "        \n",
    "        self.fc_bar = nn.Sequential(nn.Linear(2*h_dim, dim1),  \n",
    "                                    nn.ReLU(),\n",
    "                                    nn.Linear(dim1, dim2),\n",
    "                                    nn.ReLU(),\n",
    "                                    nn.Dropout(0.4))\n",
    "        \n",
    "        self.fc_len = nn.Sequential(nn.Linear(2*h_dim, dim1),  \n",
    "                                    nn.ReLU(),\n",
    "                                    nn.Linear(dim1, dim2),\n",
    "                                    nn.ReLU(),\n",
    "                                    nn.Dropout(0.4))\n",
    "#         self.fc3 = nn.Sequential(nn.Linear(dim1, dim2, bias=False),\n",
    "#                                  nn.ReLU())\n",
    "        \n",
    "        # Predicting length and color of each bar\n",
    "        #self.color = nn.Sequential(nn.Conv1d(1,5, kernel_size=1, bias=False), \n",
    "                                  # nn.Softmax(dim=1))\n",
    "\n",
    "        \n",
    "        # Predicting the length of each bar\n",
    "        self.length_bar_top = nn.Sequential(nn.Linear(dim2,100), nn.Softplus())\n",
    "        self.length_bar_bot = nn.Sequential(nn.Linear(dim2,100), nn.Softplus())\n",
    "        #self.length_bar_scale = nn.Sequential(nn.Conv1d(100, 1, kernel_size = 3, padding = 'same', bias=False), nn.Sigmoid())\n",
    "        \n",
    "        # Predicting length of the RNA strand\n",
    "        self.length_RNA = nn.Sequential(nn.Linear(dim2,400), nn.ReLU(),nn.Linear(400,1), nn.Softplus())\n",
    "        #self.length_RNA_scale = nn.Sequential(nn.Linear(400,1, bias=False), nn.Sigmoid())\n",
    "        \n",
    "    def forward(self, z1, mz2):\n",
    "        \n",
    "        # p(z1|z2)\n",
    "        pz1 = self.p_z1(mz2)\n",
    "        pz1_m = self.mu_z1(pz1)\n",
    "        pz1_s = self.si_z1(pz1)\n",
    "        \n",
    "        # p(x|z1,z2,m)\n",
    "        hz1 = self.px_z1(z1)\n",
    "        hz2 = self.px_z2(mz2)\n",
    "        h = torch.cat([hz1,hz2],1)\n",
    "        \n",
    "        len_RNA = self.fc_len(h)\n",
    "        len_RNA = self.length_RNA(len_RNA)\n",
    "        len_RNA_sc = nn.Parameter(torch.tensor([1.])).to(DEVICE)\n",
    "\n",
    "        \n",
    "        len_bar = self.fc_bar(h)\n",
    "        len_bar = torch.cat([self.length_bar_top(len_bar)[:,None,:],self.length_bar_bot(len_bar)[:,None,:]], dim=1) \n",
    "        len_bar_sc = nn.Parameter(torch.tensor([1.])).to(DEVICE)\n",
    "\n",
    "        col = self.fc_col(h)\n",
    "        col = self.fc_col1(col).reshape(-1,25,100)\n",
    "        col_bar = nn.Softmax(dim=1)(col)\n",
    "        \n",
    "        return len_RNA, len_RNA_sc, len_bar, len_bar_sc, col_bar, pz1_m, pz1_s\n",
    "\n",
    "    def reconstruct_image(self, len_RNA, var_RNA, len_bar, var_bar ,col_bar, sample=False):\n",
    "        \"\"\"\n",
    "        reconstructs RNA image given output from decoder\n",
    "        even indexes of len_bar and col_bar   -> top\n",
    "        uneven indexes of len_bar and col_bar -> bottom\n",
    "        function does not support sampling yet\n",
    "        color reconstructions: 0: black\n",
    "                               1: red\n",
    "                               2: blue\n",
    "                               3: green\n",
    "                               4: yellow\n",
    "        \"\"\"\n",
    "        color_dict = {\n",
    "                  0: np.array([0,0,0]), # black\n",
    "                  1: np.array([1,0,0]), # red\n",
    "                  3: np.array([0,1,0]), # green\n",
    "                  2: np.array([0,0,1]), # blue\n",
    "                  4: np.array([1,1,0])  # yellow\n",
    "                  }\n",
    "    \n",
    "        _color_dict =  {0: (0,0),\n",
    "                        1: (0,1),\n",
    "                        2: (0,2),\n",
    "                        3: (0,3),\n",
    "                        4: (0,4),\n",
    "                        5: (1,0),\n",
    "                        6: (1,1),\n",
    "                        7: (1,2),\n",
    "                        8: (1,3),\n",
    "                        9: (1,4),\n",
    "                        10: (1,0),\n",
    "                        11: (2,1),\n",
    "                        12: (2,2),\n",
    "                        13: (2,3),\n",
    "                        14: (2,4),\n",
    "                        15: (2,0),\n",
    "                        16: (3,1),\n",
    "                        17: (3,2),\n",
    "                        18: (3,3),\n",
    "                        19: (3,4),\n",
    "                        20: (3,0),\n",
    "                        21: (4,1),\n",
    "                        22: (4,2),\n",
    "                        23: (4,3),\n",
    "                        24: (4,4),\n",
    "                        }       \n",
    "        len_RNA = len_RNA.cpu().numpy()\n",
    "        var_RNA = var_RNA.cpu().numpy()\n",
    "        #.reshape((100,))\n",
    "        len_bar = len_bar.cpu().numpy()\n",
    "        var_bar = var_bar.cpu().numpy()\n",
    "        col_bar = col_bar.cpu().numpy()\n",
    "        n = len_RNA.shape[0]\n",
    "        output = np.ones((n,25,100,3))\n",
    "\n",
    "        for i in range(n):\n",
    "            if sample:\n",
    "                limit = int(np.round(np.random.normal(loc=len_RNA[i], scale=var_RNA[i])))\n",
    "            else:\n",
    "                limit = int(np.round(len_RNA[i]))\n",
    "            limit = min(100, limit)\n",
    "            for j in range(limit):\n",
    "                if sample:\n",
    "                    _len_bar_1 = int(np.round(np.random.normal(loc=len_bar[i,0,j], scale=var_bar[i,0,j])))\n",
    "                    _len_bar_2 = int(np.round(np.random.normal(loc=len_bar[i,1,j], scale=var_bar[i,1,j])))\n",
    "                    _col_bar_1 = np.random.choice(np.arange(5), p = col_bar[i, :, 2*j])\n",
    "                    _col_bar_2 = np.random.choice(np.arange(5), p = col_bar[i,:, 2*j+1])\n",
    "                else:\n",
    "                    _len_bar_1 = int(np.round(len_bar[i,0,j])) \n",
    "                    _len_bar_2 = int(np.round(len_bar[i,1,j]))\n",
    "                    _col_bar_1, _col_bar_2 = _color_dict[np.argmax(col_bar[i,:,j])]\n",
    "                    \n",
    "                h1 = max(0,13-_len_bar_1)\n",
    "                # paint upper bar\n",
    "                output[i, h1:13, j] = color_dict[_col_bar_1]\n",
    "                h2 = min(25,13+_len_bar_2)\n",
    "                # paint lower bar\n",
    "                output[i, 13:h2, j] = color_dict[_col_bar_2]\n",
    "        \n",
    "        \n",
    "        return output\n"
   ]
  },
  {
   "cell_type": "code",
   "execution_count": 9,
   "metadata": {},
   "outputs": [
    {
     "data": {
      "text/plain": [
       "3"
      ]
     },
     "execution_count": 9,
     "metadata": {},
     "output_type": "execute_result"
    }
   ],
   "source": [
    "int(np.round(3.7, 0))\n",
    "int(3.7)"
   ]
  },
  {
   "cell_type": "code",
   "execution_count": 10,
   "metadata": {
    "executionInfo": {
     "elapsed": 4,
     "status": "ok",
     "timestamp": 1647023293160,
     "user": {
      "displayName": "Marko Petkovic",
      "photoUrl": "https://lh3.googleusercontent.com/a-/AOh14Gijd0e9r3I1vRZVN6DEwl16XpJxxS1oSAKunOnfZQ=s64",
      "userId": "11987583535390684770"
     },
     "user_tz": -60
    },
    "id": "1y8G2S1zxzTH"
   },
   "outputs": [
    {
     "data": {
      "text/plain": [
       "==========================================================================================\n",
       "Layer (type:depth-idx)                   Output Shape              Param #\n",
       "==========================================================================================\n",
       "px                                       --                        --\n",
       "├─Sequential: 1-1                        [1, 500]                  --\n",
       "│    └─Linear: 2-1                       [1, 500]                  350,500\n",
       "│    └─ReLU: 2-2                         [1, 500]                  --\n",
       "│    └─Linear: 2-3                       [1, 500]                  250,500\n",
       "│    └─ReLU: 2-4                         [1, 500]                  --\n",
       "├─Sequential: 1-2                        [1, 500]                  --\n",
       "│    └─Linear: 2-5                       [1, 500]                  250,500\n",
       "├─Sequential: 1-3                        [1, 500]                  --\n",
       "│    └─Linear: 2-6                       [1, 500]                  250,500\n",
       "│    └─Softplus: 2-7                     [1, 500]                  --\n",
       "├─Sequential: 1-4                        [1, 500]                  --\n",
       "│    └─Linear: 2-8                       [1, 500]                  250,500\n",
       "│    └─ReLU: 2-9                         [1, 500]                  --\n",
       "├─Sequential: 1-5                        [1, 500]                  --\n",
       "│    └─Linear: 2-10                      [1, 500]                  350,500\n",
       "│    └─ReLU: 2-11                        [1, 500]                  --\n",
       "├─Sequential: 1-6                        [1, 64]                   --\n",
       "│    └─Linear: 2-12                      [1, 128]                  128,128\n",
       "│    └─ReLU: 2-13                        [1, 128]                  --\n",
       "│    └─Linear: 2-14                      [1, 64]                   8,256\n",
       "│    └─ReLU: 2-15                        [1, 64]                   --\n",
       "│    └─Dropout: 2-16                     [1, 64]                   --\n",
       "├─Sequential: 1-7                        [1, 1]                    --\n",
       "│    └─Linear: 2-17                      [1, 400]                  26,000\n",
       "│    └─ReLU: 2-18                        [1, 400]                  --\n",
       "│    └─Linear: 2-19                      [1, 1]                    401\n",
       "│    └─Softplus: 2-20                    [1, 1]                    --\n",
       "├─Sequential: 1-8                        [1, 64]                   --\n",
       "│    └─Linear: 2-21                      [1, 128]                  128,128\n",
       "│    └─ReLU: 2-22                        [1, 128]                  --\n",
       "│    └─Linear: 2-23                      [1, 64]                   8,256\n",
       "│    └─ReLU: 2-24                        [1, 64]                   --\n",
       "│    └─Dropout: 2-25                     [1, 64]                   --\n",
       "├─Sequential: 1-9                        [1, 100]                  --\n",
       "│    └─Linear: 2-26                      [1, 100]                  6,500\n",
       "│    └─Softplus: 2-27                    [1, 100]                  --\n",
       "├─Sequential: 1-10                       [1, 100]                  --\n",
       "│    └─Linear: 2-28                      [1, 100]                  6,500\n",
       "│    └─Softplus: 2-29                    [1, 100]                  --\n",
       "├─Sequential: 1-11                       [1, 600]                  --\n",
       "│    └─Linear: 2-30                      [1, 600]                  600,600\n",
       "│    └─ReLU: 2-31                        [1, 600]                  --\n",
       "├─Sequential: 1-12                       [1, 2500]                 --\n",
       "│    └─Linear: 2-32                      [1, 2500]                 1,502,500\n",
       "==========================================================================================\n",
       "Total params: 4,118,269\n",
       "Trainable params: 4,118,269\n",
       "Non-trainable params: 0\n",
       "Total mult-adds (M): 4.12\n",
       "==========================================================================================\n",
       "Input size (MB): 0.00\n",
       "Forward/backward pass size (MB): 0.06\n",
       "Params size (MB): 16.47\n",
       "Estimated Total Size (MB): 16.53\n",
       "=========================================================================================="
      ]
     },
     "execution_count": 10,
     "metadata": {},
     "output_type": "execute_result"
    }
   ],
   "source": [
    "# pzy_ = pzy(45, 7500, 2, 32,32,32)\n",
    "# summary(pzy_, (1,2))\n",
    "pzy_ = px(45, 7500, 2, 500,500,500,500)\n",
    "summary(pzy_, [(1,500),(1,700)])"
   ]
  },
  {
   "cell_type": "markdown",
   "metadata": {
    "id": "YmNnZWXvkCDP"
   },
   "source": [
    "## Endcoder Classes"
   ]
  },
  {
   "cell_type": "code",
   "execution_count": 11,
   "metadata": {
    "executionInfo": {
     "elapsed": 5,
     "status": "ok",
     "timestamp": 1647013220008,
     "user": {
      "displayName": "Marko Petkovic",
      "photoUrl": "https://lh3.googleusercontent.com/a-/AOh14Gijd0e9r3I1vRZVN6DEwl16XpJxxS1oSAKunOnfZQ=s64",
      "userId": "11987583535390684770"
     },
     "user_tz": -60
    },
    "id": "tt82wvITwg4j"
   },
   "outputs": [],
   "source": [
    "#pzy_.reconstruct_image(torch.zeros((1,100)), torch.zeros((1,13,200)), torch.zeros(1,5,200)).shape"
   ]
  },
  {
   "cell_type": "code",
   "execution_count": 12,
   "metadata": {
    "executionInfo": {
     "elapsed": 313,
     "status": "ok",
     "timestamp": 1647023293469,
     "user": {
      "displayName": "Marko Petkovic",
      "photoUrl": "https://lh3.googleusercontent.com/a-/AOh14Gijd0e9r3I1vRZVN6DEwl16XpJxxS1oSAKunOnfZQ=s64",
      "userId": "11987583535390684770"
     },
     "user_tz": -60
    },
    "id": "78ZFH8gYl_-z"
   },
   "outputs": [],
   "source": [
    "class qz(nn.Module):\n",
    "    def __init__(self, d_dim, x_dim, y_dim, z1_dim ,z2_dim, h_dim, h2_dim):\n",
    "        super(qz, self).__init__()\n",
    "\n",
    "        # q(z2 | x)\n",
    "        self.encoder_z2 = nn.Sequential(\n",
    "            nn.Conv2d(3, 48, kernel_size=3, stride=1, padding = 'same'),\n",
    "            nn.ReLU(),\n",
    "            nn.Conv2d(48, 48, kernel_size=3, stride=1, padding = 'same'),\n",
    "            nn.ReLU(),\n",
    "            nn.MaxPool2d(2, 2),\n",
    "            nn.Conv2d(48, 60, kernel_size=3, stride=1, padding = 'same'),\n",
    "            nn.ReLU(),\n",
    "            nn.Conv2d(60, 60, kernel_size=3, stride=1, padding = 'same'),\n",
    "            nn.ReLU(),\n",
    "#             nn.Conv2d(128, 128, kernel_size=3, stride=1, padding = 'same', bias=False),\n",
    "#             nn.ReLU(), \n",
    "            nn.MaxPool2d(2, 2),\n",
    "            nn.Conv2d(60, 72, kernel_size=3, stride=1, padding = 'same'),\n",
    "            nn.ReLU(), \n",
    "            nn.Conv2d(72, 72, kernel_size=3, stride=1, padding = 'same'),\n",
    "            nn.ReLU(), \n",
    "            nn.MaxPool2d(2, 2),\n",
    "        )\n",
    "        \n",
    "        self.mu_z2 = nn.Sequential(nn.Linear(2592, z2_dim))\n",
    "        self.si_z2 = nn.Sequential(nn.Linear(2592, z2_dim), nn.Softplus())\n",
    "        \n",
    "        \n",
    "        # q(z1 | x, z2)\n",
    "        self.encoder_z1 = nn.Sequential(\n",
    "            nn.Conv2d(3, 48, kernel_size=3, stride=1, padding = 'same'),\n",
    "            nn.ReLU(),\n",
    "            nn.Conv2d(48, 48, kernel_size=3, stride=1, padding = 'same'),\n",
    "            nn.ReLU(),\n",
    "            nn.MaxPool2d(2, 2),\n",
    "            nn.Conv2d(48, 60, kernel_size=3, stride=1, padding = 'same'),\n",
    "            nn.ReLU(),\n",
    "            nn.Conv2d(60, 60, kernel_size=3, stride=1, padding = 'same'),\n",
    "            nn.ReLU(),\n",
    "#             nn.Conv2d(128, 128, kernel_size=3, stride=1, padding = 'same', bias=False),\n",
    "#             nn.ReLU(), \n",
    "            nn.MaxPool2d(2, 2),\n",
    "            nn.Conv2d(60, 72, kernel_size=3, stride=1, padding = 'same'),\n",
    "            nn.ReLU(), \n",
    "            nn.Conv2d(72, 72, kernel_size=3, stride=1, padding = 'same'),\n",
    "            nn.ReLU(), \n",
    "            nn.MaxPool2d(2, 2),\n",
    "        )\n",
    "        \n",
    "        self.fc_z2 = nn.Sequential(nn.Linear(z2_dim+200, h_dim), nn.ReLU())\n",
    "        self.fc_z1 = nn.Sequential(nn.Linear(2592, h_dim), nn.ReLU())\n",
    "        \n",
    "        self.fc_z1_z2 = nn.Sequential(nn.Linear(2*h_dim, h2_dim), nn.ReLU())\n",
    "        \n",
    "        self.mu_z1 = nn.Sequential(nn.Linear(h2_dim, z1_dim))\n",
    "        self.si_z1 = nn.Sequential(nn.Linear(h2_dim, z1_dim), nn.Softplus())\n",
    "\n",
    "#         torch.nn.init.xavier_uniform_(self.encoder[0].weight)\n",
    "#         torch.nn.init.xavier_uniform_(self.encoder[3].weight)\n",
    "#         torch.nn.init.xavier_uniform_(self.fc11[0].weight)\n",
    "#         self.fc11[0].bias.data.zero_()\n",
    "#         torch.nn.init.xavier_uniform_(self.fc12[0].weight)\n",
    "#         self.fc12[0].bias.data.zero_()\n",
    "    \n",
    "    def q_z2(self, x):\n",
    "        z2 = self.encoder_z2(x)\n",
    "        z2 = z2.view(-1, 2592)\n",
    "        z2_m = self.mu_z2(z2) \n",
    "        z2_s = self.si_z2(z2)\n",
    "        \n",
    "        return z2_m, z2_s\n",
    "    \n",
    "    def forward(self, x, m):\n",
    "        \n",
    "        # q(z2 | x) & m\n",
    "        z2_m, z2_s = self.q_z2(x)\n",
    "        # reparameterization trick\n",
    "        qz2 = dist.Normal(z2_m, z2_s)\n",
    "        z2 = qz2.rsample()\n",
    "        # z2 & m\n",
    "        mz2 = torch.cat([z2, m],1)\n",
    "        \n",
    "        \n",
    "        \n",
    "        # q(z1 | x, z2, m)\n",
    "        z1 = self.encoder_z1(x)\n",
    "        z1 = z1.view(-1, 2592)\n",
    "        z1 = self.fc_z1(z1)\n",
    "        \n",
    "        mz2_ = self.fc_z2(mz2)\n",
    "        \n",
    "        z1 = torch.cat([mz2_, z1],1)\n",
    "        z1 = self.fc_z1_z2(z1)\n",
    "        z1_m = self.mu_z1(z1)\n",
    "        z1_s = self.si_z1(z1)\n",
    "        \n",
    "        qz1 = dist.Normal(z1_m, z1_s)\n",
    "        z1 = qz1.rsample()\n",
    "        \n",
    "        \n",
    "        #z_loc = self.fc11(h)\n",
    "        #z_scale = self.fc12(h) + 1e-7\n",
    "\n",
    "        return z1, z2, mz2, z1_m, z1_s, z2_m, z2_s\n",
    "\n",
    "\n"
   ]
  },
  {
   "cell_type": "code",
   "execution_count": 13,
   "metadata": {},
   "outputs": [
    {
     "data": {
      "text/plain": [
       "tensor([[1, 2, 3, 1, 3],\n",
       "        [4, 5, 6, 4, 6]])"
      ]
     },
     "execution_count": 13,
     "metadata": {},
     "output_type": "execute_result"
    }
   ],
   "source": [
    "a = torch.tensor([[1,2,3],[4,5,6]])\n",
    "b = torch.tensor([[1,3],[4,6]])\n",
    "\n",
    "torch.cat([a,b],1)"
   ]
  },
  {
   "cell_type": "code",
   "execution_count": 14,
   "metadata": {},
   "outputs": [
    {
     "data": {
      "text/plain": [
       "==========================================================================================\n",
       "Layer (type:depth-idx)                   Output Shape              Param #\n",
       "==========================================================================================\n",
       "qz                                       --                        --\n",
       "├─Sequential: 1-1                        [1, 72, 3, 12]            --\n",
       "│    └─Conv2d: 2-1                       [1, 48, 25, 100]          1,344\n",
       "│    └─ReLU: 2-2                         [1, 48, 25, 100]          --\n",
       "│    └─Conv2d: 2-3                       [1, 48, 25, 100]          20,784\n",
       "│    └─ReLU: 2-4                         [1, 48, 25, 100]          --\n",
       "│    └─MaxPool2d: 2-5                    [1, 48, 12, 50]           --\n",
       "│    └─Conv2d: 2-6                       [1, 60, 12, 50]           25,980\n",
       "│    └─ReLU: 2-7                         [1, 60, 12, 50]           --\n",
       "│    └─Conv2d: 2-8                       [1, 60, 12, 50]           32,460\n",
       "│    └─ReLU: 2-9                         [1, 60, 12, 50]           --\n",
       "│    └─MaxPool2d: 2-10                   [1, 60, 6, 25]            --\n",
       "│    └─Conv2d: 2-11                      [1, 72, 6, 25]            38,952\n",
       "│    └─ReLU: 2-12                        [1, 72, 6, 25]            --\n",
       "│    └─Conv2d: 2-13                      [1, 72, 6, 25]            46,728\n",
       "│    └─ReLU: 2-14                        [1, 72, 6, 25]            --\n",
       "│    └─MaxPool2d: 2-15                   [1, 72, 3, 12]            --\n",
       "├─Sequential: 1-2                        [1, 256]                  --\n",
       "│    └─Linear: 2-16                      [1, 256]                  663,808\n",
       "├─Sequential: 1-3                        [1, 256]                  --\n",
       "│    └─Linear: 2-17                      [1, 256]                  663,808\n",
       "│    └─Softplus: 2-18                    [1, 256]                  --\n",
       "├─Sequential: 1-4                        [1, 72, 3, 12]            --\n",
       "│    └─Conv2d: 2-19                      [1, 48, 25, 100]          1,344\n",
       "│    └─ReLU: 2-20                        [1, 48, 25, 100]          --\n",
       "│    └─Conv2d: 2-21                      [1, 48, 25, 100]          20,784\n",
       "│    └─ReLU: 2-22                        [1, 48, 25, 100]          --\n",
       "│    └─MaxPool2d: 2-23                   [1, 48, 12, 50]           --\n",
       "│    └─Conv2d: 2-24                      [1, 60, 12, 50]           25,980\n",
       "│    └─ReLU: 2-25                        [1, 60, 12, 50]           --\n",
       "│    └─Conv2d: 2-26                      [1, 60, 12, 50]           32,460\n",
       "│    └─ReLU: 2-27                        [1, 60, 12, 50]           --\n",
       "│    └─MaxPool2d: 2-28                   [1, 60, 6, 25]            --\n",
       "│    └─Conv2d: 2-29                      [1, 72, 6, 25]            38,952\n",
       "│    └─ReLU: 2-30                        [1, 72, 6, 25]            --\n",
       "│    └─Conv2d: 2-31                      [1, 72, 6, 25]            46,728\n",
       "│    └─ReLU: 2-32                        [1, 72, 6, 25]            --\n",
       "│    └─MaxPool2d: 2-33                   [1, 72, 3, 12]            --\n",
       "├─Sequential: 1-5                        [1, 256]                  --\n",
       "│    └─Linear: 2-34                      [1, 256]                  663,808\n",
       "│    └─ReLU: 2-35                        [1, 256]                  --\n",
       "├─Sequential: 1-6                        [1, 256]                  --\n",
       "│    └─Linear: 2-36                      [1, 256]                  116,992\n",
       "│    └─ReLU: 2-37                        [1, 256]                  --\n",
       "├─Sequential: 1-7                        [1, 256]                  --\n",
       "│    └─Linear: 2-38                      [1, 256]                  131,328\n",
       "│    └─ReLU: 2-39                        [1, 256]                  --\n",
       "├─Sequential: 1-8                        [1, 256]                  --\n",
       "│    └─Linear: 2-40                      [1, 256]                  65,792\n",
       "├─Sequential: 1-9                        [1, 256]                  --\n",
       "│    └─Linear: 2-41                      [1, 256]                  65,792\n",
       "│    └─Softplus: 2-42                    [1, 256]                  --\n",
       "==========================================================================================\n",
       "Total params: 2,703,824\n",
       "Trainable params: 2,703,824\n",
       "Non-trainable params: 0\n",
       "Total mult-adds (M): 208.84\n",
       "==========================================================================================\n",
       "Input size (MB): 0.03\n",
       "Forward/backward pass size (MB): 5.35\n",
       "Params size (MB): 10.82\n",
       "Estimated Total Size (MB): 16.20\n",
       "=========================================================================================="
      ]
     },
     "execution_count": 14,
     "metadata": {},
     "output_type": "execute_result"
    }
   ],
   "source": [
    "enc = qz(128,10,10,256,256,256,256)\n",
    "enc(torch.zeros((1,3,25,100)), torch.zeros((1,200)))\n",
    "summary(enc, [(1,3,25,100),(1,200)])"
   ]
  },
  {
   "cell_type": "code",
   "execution_count": 15,
   "metadata": {},
   "outputs": [],
   "source": [
    "def log_Normal_diag(x, mean, std, average=False, dim=None):\n",
    "    log_var = 2*torch.log(std)\n",
    "    log_normal = -0.5 * ( log_var + torch.pow( x - mean, 2 ) / torch.exp( log_var ) )\n",
    "    if average:\n",
    "        return torch.mean( log_normal, dim )\n",
    "    else:\n",
    "        return torch.sum( log_normal, dim )"
   ]
  },
  {
   "cell_type": "markdown",
   "metadata": {
    "id": "vn_gJdNSkH_V"
   },
   "source": [
    "## Full model class"
   ]
  },
  {
   "cell_type": "code",
   "execution_count": 16,
   "metadata": {
    "executionInfo": {
     "elapsed": 10,
     "status": "ok",
     "timestamp": 1647023293470,
     "user": {
      "displayName": "Marko Petkovic",
      "photoUrl": "https://lh3.googleusercontent.com/a-/AOh14Gijd0e9r3I1vRZVN6DEwl16XpJxxS1oSAKunOnfZQ=s64",
      "userId": "11987583535390684770"
     },
     "user_tz": -60
    },
    "id": "BgR5BnQN1WWG"
   },
   "outputs": [],
   "source": [
    "class HVAE(nn.Module):\n",
    "    def __init__(self, args):\n",
    "        super(HVAE, self).__init__()\n",
    "        self.z1_dim = args.z1_dim\n",
    "        self.z2_dim = args.z2_dim\n",
    "        self.d_dim = args.d_dim\n",
    "        self.x_dim = args.x_dim\n",
    "        self.y_dim = args.y_dim\n",
    "        self.h_dim = args.h_dim\n",
    "        self.h2_dim = args.h2_dim\n",
    "        self.number_components = args.number_components\n",
    "        \n",
    "        #d_dim, x_dim, y_dim, z1_dim ,z2_dim, h_dim, h2_dim\n",
    "        self.px = px(self.d_dim, self.x_dim, self.y_dim, self.z1_dim, self.z2_dim, \n",
    "                     self.h_dim, self.h2_dim)\n",
    "        \n",
    "        self.qz = qz(self.d_dim, self.x_dim, self.y_dim, self.z1_dim, self.z2_dim, \n",
    "                     self.h_dim, self.h2_dim)\n",
    "        \n",
    "\n",
    "        self.beta = args.beta\n",
    "        \n",
    "        self.rec_alpha = args.rec_alpha\n",
    "        self.rec_beta = args.rec_beta\n",
    "        self.rec_gamma = args.rec_gamma\n",
    "\n",
    "        self.warmup = args.warmup\n",
    "        self.prewarmup = args.prewarmup\n",
    "        \n",
    "        self.add_pseudoinputs()\n",
    "        \n",
    "        self.lqz1 = []\n",
    "        self.lqz2 = []\n",
    "        self.lpz1 = []\n",
    "        self.lpz2 = []\n",
    "        \n",
    "        self.bar = []\n",
    "        self.len = []\n",
    "        self.col = []\n",
    "        \n",
    "        self.cuda()\n",
    "\n",
    "    def forward(self, d, x, y, m):\n",
    "        # Encode\n",
    "        z1, z2, mz2, z1_m, z1_s, z2_m, z2_s = self.qz(x, m)\n",
    "        # Decode\n",
    "        x_len, x_len_scale, x_bar, x_bar_scale, x_col, pz1_m, pz1_s = self.px(z1, mz2)\n",
    "        \n",
    "        return x_len, x_len_scale, x_bar, x_bar_scale, x_col, z1, z2, z1_m, z1_s, z2_m, z2_s, pz1_m, pz1_s\n",
    "    \n",
    "    \n",
    "    def log_p_z2(self, z2):\n",
    "        C = self.number_components\n",
    "        \n",
    "        X = self.means(self.idle_input).view(-1,3,25,100)\n",
    "        \n",
    "        pz2_m, pz2_s = self.qz.q_z2(X)\n",
    "        \n",
    "        z_expand = z2.unsqueeze(1)\n",
    "        means = pz2_m.unsqueeze(0)\n",
    "        stds = pz2_s.unsqueeze(0)\n",
    "        \n",
    "        a = log_Normal_diag(z_expand, means, stds, dim=2) - math.log(C)\n",
    "        a_max, _ = torch.max(a,1)\n",
    "        \n",
    "        log_prior = (a_max + torch.log(torch.sum(torch.exp(a-a_max.unsqueeze(1)),1)))\n",
    "        \n",
    "        return log_prior\n",
    "    \n",
    "    def loss_function(self, d, x, y, m, out_len, out_bar, out_col):\n",
    "        \n",
    "        x_len, x_len_scale, x_bar, x_bar_scale, x_col, z1, z2, z1_m, z1_s, z2_m, z2_s, pz1_m, pz1_s = self.forward(d, x, y, m)\n",
    "        \n",
    "        # Reconstruction Loss\n",
    "        mask = (1 - (F.one_hot(torch.round(out_len).to(torch.int64), 101).cumsum(dim=2)))[:,:,:-1].repeat(1,25,1)\n",
    "        mask1 = (1 - (F.one_hot(torch.round(out_len).to(torch.int64), 101).cumsum(dim=2)))[:,:,:-1].repeat(1,2,1)\n",
    "\n",
    "        x_col = mask*x_col\n",
    "        \n",
    "    \n",
    "        dist_len = dist.Normal(x_len, x_len_scale+1e-7)\n",
    "        log_len = dist_len.log_prob(out_len[:,None]).mean()\n",
    "        \n",
    "        \n",
    "        mse_bar = F.mse_loss(x_bar*mask1, out_bar)\n",
    "        #((((x_bar - out_bar)**2)*mask1).sum(dim=(1,2))/(mask1.sum(dim=(1,2)))).sum()#.detach().item()\n",
    "        \n",
    "        max_bar = torch.argmax(x_col, dim=1)\n",
    "        sort_bar = torch.argsort(out_col, dim=1)\n",
    "        acc_bar = 0#(((max_bar==sort_bar[:,0,:,:])*mask1).sum((1,2))/mask1.sum((1,2))).sum()\n",
    "        acc_bar2 = 1#(((max_bar==sort_bar[:,1,:,:])*mask1).sum((1,2))/mask1.sum((1,2))).sum() + acc_bar\n",
    "        acc_bar3 = 1#(((max_bar==sort_bar[:,2,:,:])*mask1).sum((1,2))/mask1.sum((1,2))).sum() + acc_bar2\n",
    "        acc_bar4 = 1#(((max_bar==sort_bar[:,3,:,:])*mask1).sum((1,2))/mask1.sum((1,2))).sum() + acc_bar3\n",
    "        acc_bar5 = 1#(((max_bar==sort_bar[:,4,:,:])*mask1).sum((1,2))/mask1.sum((1,2))).sum() + acc_bar4\n",
    "       \n",
    "        RE_len = -log_len\n",
    "        RE_bar = mse_bar#-log_bar\n",
    "        RE_col = F.cross_entropy(x_col, out_col, reduction='sum')\n",
    "          \n",
    "            \n",
    "        # KL loss\n",
    "        KL_p_z1 = log_Normal_diag(z1, pz1_m, pz1_s, dim=1).sum()\n",
    "        KL_q_z1 = log_Normal_diag(z1, z1_m, z1_s, dim=1).sum()\n",
    "        KL_p_z2 = self.log_p_z2(z2).sum()\n",
    "        KL_q_z2 = log_Normal_diag(z2, z2_m, z2_s, dim=1).sum()\n",
    "        KL = -(KL_p_z1 + KL_p_z2 - KL_q_z1 - KL_q_z2)\n",
    "        \n",
    "        \n",
    "        return self.rec_alpha * RE_len \\\n",
    "                  + self.rec_beta * RE_bar \\\n",
    "                  + self.rec_gamma * RE_col \\\n",
    "                  + self.beta * KL, \\\n",
    "                  RE_bar, RE_len, RE_col, mse_bar, acc_bar, acc_bar2, acc_bar3, acc_bar4, acc_bar5\n",
    "    \n",
    "    \n",
    "    \n",
    "    def add_pseudoinputs(self):\n",
    "        # TODO: rework pseudo generation based on reconstruction\n",
    "        nonlinearity = nn.Hardtanh(min_val=0.0, max_val=1.0)\n",
    "        self.means = nn.Sequential(nn.Linear(self.number_components, 3*25*100, bias=False), nonlinearity)\n",
    "        self.idle_input = Variable(torch.eye(self.number_components, self.number_components), requires_grad=False).to(DEVICE)"
   ]
  },
  {
   "cell_type": "code",
   "execution_count": 17,
   "metadata": {},
   "outputs": [
    {
     "data": {
      "text/plain": [
       "tensor(-50.9189)"
      ]
     },
     "execution_count": 17,
     "metadata": {},
     "output_type": "execute_result"
    }
   ],
   "source": [
    "a = dist.Normal(0,1)\n",
    "a.log_prob(torch.tensor(10))"
   ]
  },
  {
   "cell_type": "code",
   "execution_count": 18,
   "metadata": {
    "scrolled": false
   },
   "outputs": [
    {
     "data": {
      "text/plain": [
       "==========================================================================================\n",
       "Layer (type:depth-idx)                   Output Shape              Param #\n",
       "==========================================================================================\n",
       "HVAE                                     --                        --\n",
       "├─px: 1-1                                --                        (recursive)\n",
       "│    └─Sequential: 2-1                   --                        (recursive)\n",
       "│    │    └─Linear: 3-1                  --                        (recursive)\n",
       "│    │    └─ReLU: 3-2                    --                        --\n",
       "│    │    └─Linear: 3-3                  --                        (recursive)\n",
       "│    │    └─ReLU: 3-4                    --                        --\n",
       "│    └─Sequential: 2-2                   --                        (recursive)\n",
       "│    │    └─Linear: 3-5                  --                        (recursive)\n",
       "│    └─Sequential: 2-3                   --                        (recursive)\n",
       "│    │    └─Linear: 3-6                  --                        (recursive)\n",
       "│    │    └─Softplus: 3-7                --                        --\n",
       "│    └─Sequential: 2-4                   --                        (recursive)\n",
       "│    │    └─Linear: 3-8                  --                        (recursive)\n",
       "│    │    └─ReLU: 3-9                    --                        --\n",
       "│    └─Sequential: 2-5                   --                        (recursive)\n",
       "│    │    └─Linear: 3-10                 --                        (recursive)\n",
       "│    │    └─ReLU: 3-11                   --                        --\n",
       "│    └─Sequential: 2-6                   --                        (recursive)\n",
       "│    │    └─Linear: 3-12                 --                        (recursive)\n",
       "│    │    └─ReLU: 3-13                   --                        --\n",
       "│    └─Sequential: 2-7                   --                        (recursive)\n",
       "│    │    └─Linear: 3-14                 --                        (recursive)\n",
       "│    └─Sequential: 2-8                   --                        (recursive)\n",
       "│    │    └─Linear: 3-15                 --                        (recursive)\n",
       "│    │    └─ReLU: 3-16                   --                        --\n",
       "│    │    └─Linear: 3-17                 --                        (recursive)\n",
       "│    │    └─ReLU: 3-18                   --                        --\n",
       "│    │    └─Dropout: 3-19                --                        --\n",
       "│    └─Sequential: 2-9                   --                        (recursive)\n",
       "│    │    └─Linear: 3-20                 --                        (recursive)\n",
       "│    │    └─ReLU: 3-21                   --                        --\n",
       "│    │    └─Linear: 3-22                 --                        (recursive)\n",
       "│    │    └─ReLU: 3-23                   --                        --\n",
       "│    │    └─Dropout: 3-24                --                        --\n",
       "│    └─Sequential: 2-10                  --                        (recursive)\n",
       "│    │    └─Linear: 3-25                 --                        (recursive)\n",
       "│    │    └─Softplus: 3-26               --                        --\n",
       "│    └─Sequential: 2-11                  --                        (recursive)\n",
       "│    │    └─Linear: 3-27                 --                        (recursive)\n",
       "│    │    └─Softplus: 3-28               --                        --\n",
       "│    └─Sequential: 2-12                  --                        (recursive)\n",
       "│    │    └─Linear: 3-29                 --                        (recursive)\n",
       "│    │    └─ReLU: 3-30                   --                        --\n",
       "│    │    └─Linear: 3-31                 --                        (recursive)\n",
       "│    │    └─Softplus: 3-32               --                        --\n",
       "├─qz: 1-2                                [1, 256]                  --\n",
       "│    └─Sequential: 2-13                  [1, 72, 3, 12]            --\n",
       "│    │    └─Conv2d: 3-33                 [1, 48, 25, 100]          1,344\n",
       "│    │    └─ReLU: 3-34                   [1, 48, 25, 100]          --\n",
       "│    │    └─Conv2d: 3-35                 [1, 48, 25, 100]          20,784\n",
       "│    │    └─ReLU: 3-36                   [1, 48, 25, 100]          --\n",
       "│    │    └─MaxPool2d: 3-37              [1, 48, 12, 50]           --\n",
       "│    │    └─Conv2d: 3-38                 [1, 60, 12, 50]           25,980\n",
       "│    │    └─ReLU: 3-39                   [1, 60, 12, 50]           --\n",
       "│    │    └─Conv2d: 3-40                 [1, 60, 12, 50]           32,460\n",
       "│    │    └─ReLU: 3-41                   [1, 60, 12, 50]           --\n",
       "│    │    └─MaxPool2d: 3-42              [1, 60, 6, 25]            --\n",
       "│    │    └─Conv2d: 3-43                 [1, 72, 6, 25]            38,952\n",
       "│    │    └─ReLU: 3-44                   [1, 72, 6, 25]            --\n",
       "│    │    └─Conv2d: 3-45                 [1, 72, 6, 25]            46,728\n",
       "│    │    └─ReLU: 3-46                   [1, 72, 6, 25]            --\n",
       "│    │    └─MaxPool2d: 3-47              [1, 72, 3, 12]            --\n",
       "│    └─Sequential: 2-14                  [1, 256]                  --\n",
       "│    │    └─Linear: 3-48                 [1, 256]                  663,808\n",
       "│    └─Sequential: 2-15                  [1, 256]                  --\n",
       "│    │    └─Linear: 3-49                 [1, 256]                  663,808\n",
       "│    │    └─Softplus: 3-50               [1, 256]                  --\n",
       "│    └─Sequential: 2-16                  [1, 72, 3, 12]            --\n",
       "│    │    └─Conv2d: 3-51                 [1, 48, 25, 100]          1,344\n",
       "│    │    └─ReLU: 3-52                   [1, 48, 25, 100]          --\n",
       "│    │    └─Conv2d: 3-53                 [1, 48, 25, 100]          20,784\n",
       "│    │    └─ReLU: 3-54                   [1, 48, 25, 100]          --\n",
       "│    │    └─MaxPool2d: 3-55              [1, 48, 12, 50]           --\n",
       "│    │    └─Conv2d: 3-56                 [1, 60, 12, 50]           25,980\n",
       "│    │    └─ReLU: 3-57                   [1, 60, 12, 50]           --\n",
       "│    │    └─Conv2d: 3-58                 [1, 60, 12, 50]           32,460\n",
       "│    │    └─ReLU: 3-59                   [1, 60, 12, 50]           --\n",
       "│    │    └─MaxPool2d: 3-60              [1, 60, 6, 25]            --\n",
       "│    │    └─Conv2d: 3-61                 [1, 72, 6, 25]            38,952\n",
       "│    │    └─ReLU: 3-62                   [1, 72, 6, 25]            --\n",
       "│    │    └─Conv2d: 3-63                 [1, 72, 6, 25]            46,728\n",
       "│    │    └─ReLU: 3-64                   [1, 72, 6, 25]            --\n",
       "│    │    └─MaxPool2d: 3-65              [1, 72, 3, 12]            --\n",
       "│    └─Sequential: 2-17                  [1, 256]                  --\n",
       "│    │    └─Linear: 3-66                 [1, 256]                  663,808\n",
       "│    │    └─ReLU: 3-67                   [1, 256]                  --\n",
       "│    └─Sequential: 2-18                  [1, 256]                  --\n",
       "│    │    └─Linear: 3-68                 [1, 256]                  116,992\n",
       "│    │    └─ReLU: 3-69                   [1, 256]                  --\n",
       "│    └─Sequential: 2-19                  [1, 256]                  --\n",
       "│    │    └─Linear: 3-70                 [1, 256]                  131,328\n",
       "│    │    └─ReLU: 3-71                   [1, 256]                  --\n",
       "│    └─Sequential: 2-20                  [1, 256]                  --\n",
       "│    │    └─Linear: 3-72                 [1, 256]                  65,792\n",
       "│    └─Sequential: 2-21                  [1, 256]                  --\n",
       "│    │    └─Linear: 3-73                 [1, 256]                  65,792\n",
       "│    │    └─Softplus: 3-74               [1, 256]                  --\n",
       "├─px: 1-3                                [1, 1]                    --\n",
       "│    └─Sequential: 2-22                  [1, 256]                  --\n",
       "│    │    └─Linear: 3-75                 [1, 256]                  116,992\n",
       "│    │    └─ReLU: 3-76                   [1, 256]                  --\n",
       "│    │    └─Linear: 3-77                 [1, 256]                  65,792\n",
       "│    │    └─ReLU: 3-78                   [1, 256]                  --\n",
       "│    └─Sequential: 2-23                  [1, 256]                  --\n",
       "│    │    └─Linear: 3-79                 [1, 256]                  65,792\n",
       "│    └─Sequential: 2-24                  [1, 256]                  --\n",
       "│    │    └─Linear: 3-80                 [1, 256]                  65,792\n",
       "│    │    └─Softplus: 3-81               [1, 256]                  --\n",
       "│    └─Sequential: 2-25                  [1, 256]                  --\n",
       "│    │    └─Linear: 3-82                 [1, 256]                  65,792\n",
       "│    │    └─ReLU: 3-83                   [1, 256]                  --\n",
       "│    └─Sequential: 2-26                  [1, 256]                  --\n",
       "│    │    └─Linear: 3-84                 [1, 256]                  116,992\n",
       "│    │    └─ReLU: 3-85                   [1, 256]                  --\n",
       "│    └─Sequential: 2-27                  [1, 64]                   --\n",
       "│    │    └─Linear: 3-86                 [1, 128]                  65,664\n",
       "│    │    └─ReLU: 3-87                   [1, 128]                  --\n",
       "│    │    └─Linear: 3-88                 [1, 64]                   8,256\n",
       "│    │    └─ReLU: 3-89                   [1, 64]                   --\n",
       "│    │    └─Dropout: 3-90                [1, 64]                   --\n",
       "│    └─Sequential: 2-28                  [1, 1]                    --\n",
       "│    │    └─Linear: 3-91                 [1, 400]                  26,000\n",
       "│    │    └─ReLU: 3-92                   [1, 400]                  --\n",
       "│    │    └─Linear: 3-93                 [1, 1]                    401\n",
       "│    │    └─Softplus: 3-94               [1, 1]                    --\n",
       "│    └─Sequential: 2-29                  [1, 64]                   --\n",
       "│    │    └─Linear: 3-95                 [1, 128]                  65,664\n",
       "│    │    └─ReLU: 3-96                   [1, 128]                  --\n",
       "│    │    └─Linear: 3-97                 [1, 64]                   8,256\n",
       "│    │    └─ReLU: 3-98                   [1, 64]                   --\n",
       "│    │    └─Dropout: 3-99                [1, 64]                   --\n",
       "│    └─Sequential: 2-30                  [1, 100]                  --\n",
       "│    │    └─Linear: 3-100                [1, 100]                  6,500\n",
       "│    │    └─Softplus: 3-101              [1, 100]                  --\n",
       "│    └─Sequential: 2-31                  [1, 100]                  --\n",
       "│    │    └─Linear: 3-102                [1, 100]                  6,500\n",
       "│    │    └─Softplus: 3-103              [1, 100]                  --\n",
       "│    └─Sequential: 2-32                  [1, 600]                  --\n",
       "│    │    └─Linear: 3-104                [1, 600]                  307,800\n",
       "│    │    └─ReLU: 3-105                  [1, 600]                  --\n",
       "│    └─Sequential: 2-33                  [1, 2500]                 --\n",
       "│    │    └─Linear: 3-106                [1, 2500]                 1,502,500\n",
       "==========================================================================================\n",
       "Total params: 5,198,517\n",
       "Trainable params: 5,198,517\n",
       "Non-trainable params: 0\n",
       "Total mult-adds (M): 211.34\n",
       "==========================================================================================\n",
       "Input size (MB): 0.03\n",
       "Forward/backward pass size (MB): 5.40\n",
       "Params size (MB): 20.79\n",
       "Estimated Total Size (MB): 26.22\n",
       "=========================================================================================="
      ]
     },
     "execution_count": 18,
     "metadata": {},
     "output_type": "execute_result"
    }
   ],
   "source": [
    "default_args = diva_args()\n",
    "enc = HVAE(default_args)\n",
    "summary(enc,[ (1,1),(1,3,25,100),(1,1),(1,200)])"
   ]
  },
  {
   "cell_type": "markdown",
   "metadata": {
    "id": "LdOsLfYJjBBe"
   },
   "source": [
    "# Training the model"
   ]
  },
  {
   "cell_type": "markdown",
   "metadata": {
    "id": "rH1E5J-ps3GD"
   },
   "source": [
    "## Loading dataset"
   ]
  },
  {
   "cell_type": "code",
   "execution_count": 19,
   "metadata": {
    "colab": {
     "base_uri": "https://localhost:8080/"
    },
    "executionInfo": {
     "elapsed": 16152,
     "status": "ok",
     "timestamp": 1647023309618,
     "user": {
      "displayName": "Marko Petkovic",
      "photoUrl": "https://lh3.googleusercontent.com/a-/AOh14Gijd0e9r3I1vRZVN6DEwl16XpJxxS1oSAKunOnfZQ=s64",
      "userId": "11987583535390684770"
     },
     "user_tz": -60
    },
    "id": "myflmDPxjV40",
    "outputId": "0befed1a-e175-47eb-e1c0-f9f28da53d7c"
   },
   "outputs": [
    {
     "name": "stdout",
     "output_type": "stream",
     "text": [
      "Loading Labels! (~10s)\n",
      "loading encodings\n",
      "Loading Names! (~5s)\n"
     ]
    }
   ],
   "source": [
    "RNA_dataset = MicroRNADataset(create_encodings=False)"
   ]
  },
  {
   "cell_type": "code",
   "execution_count": 20,
   "metadata": {
    "colab": {
     "base_uri": "https://localhost:8080/"
    },
    "executionInfo": {
     "elapsed": 7139,
     "status": "ok",
     "timestamp": 1647023316754,
     "user": {
      "displayName": "Marko Petkovic",
      "photoUrl": "https://lh3.googleusercontent.com/a-/AOh14Gijd0e9r3I1vRZVN6DEwl16XpJxxS1oSAKunOnfZQ=s64",
      "userId": "11987583535390684770"
     },
     "user_tz": -60
    },
    "id": "ut2P5RSaMoDR",
    "outputId": "eafab284-1376-4f62-c8c9-bb8e87351bd4"
   },
   "outputs": [
    {
     "name": "stdout",
     "output_type": "stream",
     "text": [
      "Loading Labels! (~10s)\n",
      "loading encodings\n",
      "Loading Names! (~5s)\n"
     ]
    }
   ],
   "source": [
    "RNA_dataset_test = MicroRNADataset('test', create_encodings=False)"
   ]
  },
  {
   "cell_type": "code",
   "execution_count": 21,
   "metadata": {},
   "outputs": [
    {
     "data": {
      "text/plain": [
       "<matplotlib.image.AxesImage at 0x1f1cf773748>"
      ]
     },
     "execution_count": 21,
     "metadata": {},
     "output_type": "execute_result"
    },
    {
     "data": {
      "image/png": "[encoded data removed]",
      "text/plain": [
       "<Figure size 432x288 with 1 Axes>"
      ]
     },
     "metadata": {
      "needs_background": "light"
     },
     "output_type": "display_data"
    }
   ],
   "source": [
    "plt.imshow(RNA_dataset.x_col[0])"
   ]
  },
  {
   "cell_type": "code",
   "execution_count": 28,
   "metadata": {},
   "outputs": [
    {
     "data": {
      "text/plain": [
       "<matplotlib.image.AxesImage at 0x1f1d90a5688>"
      ]
     },
     "execution_count": 28,
     "metadata": {},
     "output_type": "execute_result"
    },
    {
     "data": {
      "image/png": "[encoded data removed]",
      "text/plain": [
       "<Figure size 432x288 with 1 Axes>"
      ]
     },
     "metadata": {
      "needs_background": "light"
     },
     "output_type": "display_data"
    }
   ],
   "source": [
    "plt.imshow(RNA_dataset.x_col[1])"
   ]
  },
  {
   "cell_type": "code",
   "execution_count": 29,
   "metadata": {},
   "outputs": [
    {
     "data": {
      "text/plain": [
       "<matplotlib.image.AxesImage at 0x1f1d90cca88>"
      ]
     },
     "execution_count": 29,
     "metadata": {},
     "output_type": "execute_result"
    },
    {
     "data": {
      "image/png": "[encoded data removed]",
      "text/plain": [
       "<Figure size 432x288 with 1 Axes>"
      ]
     },
     "metadata": {
      "needs_background": "light"
     },
     "output_type": "display_data"
    }
   ],
   "source": [
    "plt.imshow(RNA_dataset.x_col[2])"
   ]
  },
  {
   "cell_type": "code",
   "execution_count": 70,
   "metadata": {},
   "outputs": [],
   "source": [
    "ln = torch.tensor(RNA_dataset.x_len[60:63].reshape(3,1).astype('float64'))"
   ]
  },
  {
   "cell_type": "code",
   "execution_count": 71,
   "metadata": {},
   "outputs": [],
   "source": [
    "mask = (1 - (F.one_hot(torch.round(ln).to(torch.int64), 101).cumsum(dim=2)))[:,:,:-1].repeat(1,25,1)"
   ]
  },
  {
   "cell_type": "code",
   "execution_count": 62,
   "metadata": {},
   "outputs": [
    {
     "data": {
      "text/plain": [
       "62"
      ]
     },
     "execution_count": 62,
     "metadata": {},
     "output_type": "execute_result"
    }
   ],
   "source": [
    "RNA_dataset.x_len.argmax()"
   ]
  },
  {
   "cell_type": "code",
   "execution_count": 59,
   "metadata": {},
   "outputs": [
    {
     "data": {
      "text/plain": [
       "torch.Size([3, 25, 100])"
      ]
     },
     "execution_count": 59,
     "metadata": {},
     "output_type": "execute_result"
    }
   ],
   "source": [
    "mask.shape\n",
    "#F.one_hot(torch.round(ln).to(torch.int64)-1, 100).cumsum(dim=2)"
   ]
  },
  {
   "cell_type": "code",
   "execution_count": 74,
   "metadata": {},
   "outputs": [
    {
     "data": {
      "text/plain": [
       "<matplotlib.image.AxesImage at 0x1f1e6bfd508>"
      ]
     },
     "execution_count": 74,
     "metadata": {},
     "output_type": "execute_result"
    },
    {
     "data": {
      "image/png": "[encoded data removed]",
      "text/plain": [
       "<Figure size 432x288 with 1 Axes>"
      ]
     },
     "metadata": {
      "needs_background": "light"
     },
     "output_type": "display_data"
    }
   ],
   "source": [
    "plt.imshow(mask[0])"
   ]
  },
  {
   "cell_type": "code",
   "execution_count": 76,
   "metadata": {},
   "outputs": [
    {
     "data": {
      "text/plain": [
       "tensor(2500)"
      ]
     },
     "execution_count": 76,
     "metadata": {},
     "output_type": "execute_result"
    }
   ],
   "source": [
    "mask[2].sum()"
   ]
  },
  {
   "cell_type": "code",
   "execution_count": 21,
   "metadata": {},
   "outputs": [
    {
     "data": {
      "text/plain": [
       "((34721, 2, 100), (34721, 25, 100))"
      ]
     },
     "execution_count": 21,
     "metadata": {},
     "output_type": "execute_result"
    }
   ],
   "source": [
    "RNA_dataset.x_bar.shape, RNA_dataset.x_col.shape "
   ]
  },
  {
   "cell_type": "code",
   "execution_count": 22,
   "metadata": {
    "executionInfo": {
     "elapsed": 12,
     "status": "ok",
     "timestamp": 1647023316754,
     "user": {
      "displayName": "Marko Petkovic",
      "photoUrl": "https://lh3.googleusercontent.com/a-/AOh14Gijd0e9r3I1vRZVN6DEwl16XpJxxS1oSAKunOnfZQ=s64",
      "userId": "11987583535390684770"
     },
     "user_tz": -60
    },
    "id": "eVGq463Y2m20"
   },
   "outputs": [],
   "source": [
    "def train_single_epoch(train_loader, model, optimizer, epoch):\n",
    "    model.train()\n",
    "    train_loss = 0\n",
    "    epoch_bar_loss = 0\n",
    "    epoch_col_loss = 0\n",
    "    epoch_len_loss = 0\n",
    "    no_batches = 0\n",
    "    train_corr = 0\n",
    "    mse_bar = 0\n",
    "    acc_bar = 0\n",
    "    acc_bar2 = 0\n",
    "    acc_bar3 = 0\n",
    "    acc_bar4 = 0\n",
    "    acc_bar5 = 0\n",
    "    pbar = tqdm(enumerate(train_loader), unit=\"batch\", \n",
    "                                     desc=f'Epoch {epoch}')\n",
    "    for batch_idx, (x, y, d, x_len, x_col, x_bar, m) in pbar:\n",
    "        # To device\n",
    "        x, y, d , x_len, x_bar, x_col, m= x.to(DEVICE), y.to(DEVICE), d.to(DEVICE), x_len.to(DEVICE), x_bar.to(DEVICE), x_col.to(DEVICE), m.to(DEVICE)\n",
    "\n",
    "        optimizer.zero_grad()\n",
    "        loss, bar_loss, len_loss, col_loss, mse, acc, acc2, acc3, acc4, acc5 = model.loss_function(d.float(), x.float(), y.float(), m.float(), x_len.float(), x_bar.float(), x_col.float())\n",
    "      \n",
    "        loss.backward()\n",
    "        optimizer.step()\n",
    "        pbar.set_postfix(loss=loss.item()/x.shape[0])\n",
    "        train_loss += loss\n",
    "        epoch_bar_loss += bar_loss\n",
    "        epoch_col_loss += col_loss\n",
    "        epoch_len_loss += len_loss\n",
    "        mse_bar += mse\n",
    "        acc_bar += acc\n",
    "        acc_bar2 += acc2\n",
    "        acc_bar3 += acc3\n",
    "        acc_bar4 += acc4\n",
    "        acc_bar5 += acc5\n",
    "        no_batches += 1\n",
    "\n",
    "    train_loss /= len(train_loader.dataset)\n",
    "    epoch_bar_loss /= len(train_loader.dataset)\n",
    "    epoch_len_loss /= len(train_loader.dataset)\n",
    "    epoch_col_loss /= len(train_loader.dataset)\n",
    "    acc_bar /= len(train_loader.dataset)\n",
    "    acc_bar2 /= len(train_loader.dataset)\n",
    "    acc_bar3 /= len(train_loader.dataset)\n",
    "    acc_bar4 /= len(train_loader.dataset)\n",
    "    acc_bar5 /= len(train_loader.dataset)\n",
    "    mse_bar /= len(train_loader.dataset)\n",
    "    \n",
    "    return train_loss, epoch_bar_loss, epoch_len_loss, epoch_col_loss, mse_bar, acc_bar, acc_bar2, acc_bar3, acc_bar4, acc_bar5 "
   ]
  },
  {
   "cell_type": "code",
   "execution_count": 23,
   "metadata": {
    "executionInfo": {
     "elapsed": 12,
     "status": "ok",
     "timestamp": 1647023316755,
     "user": {
      "displayName": "Marko Petkovic",
      "photoUrl": "https://lh3.googleusercontent.com/a-/AOh14Gijd0e9r3I1vRZVN6DEwl16XpJxxS1oSAKunOnfZQ=s64",
      "userId": "11987583535390684770"
     },
     "user_tz": -60
    },
    "id": "dT7E0C3nM3qh"
   },
   "outputs": [],
   "source": [
    "def test_single_epoch(test_loader, model, epoch):\n",
    "    model.eval()\n",
    "    test_loss = 0\n",
    "    epoch_bar_loss = 0\n",
    "    epoch_col_loss = 0\n",
    "    epoch_len_loss = 0\n",
    "    mse_bar = 0\n",
    "    acc_bar = 0   \n",
    "    acc_bar2 = 0\n",
    "    acc_bar3 = 0\n",
    "    acc_bar4 = 0\n",
    "    acc_bar5 = 0\n",
    "    with torch.no_grad():\n",
    "        for batch_idx, (x,y,d,x_len,x_col,x_bar, m) in enumerate(test_loader):\n",
    "            x, y, d, x_len, x_bar, x_col, m = x.to(DEVICE), y.to(DEVICE), d.to(DEVICE), x_len.to(DEVICE), x_bar.to(DEVICE), x_col.to(DEVICE), m.to(DEVICE)\n",
    "            loss, bar_loss, len_loss, col_loss, mse, acc, acc2, acc3, acc4, acc5  = model.loss_function(d.float(), x.float(), y.float(),m.float(),x_len.float(),x_bar.float(),x_col.float())\n",
    "            test_loss += loss\n",
    "            epoch_bar_loss += bar_loss\n",
    "            epoch_col_loss += col_loss\n",
    "            epoch_len_loss += len_loss\n",
    "            mse_bar += mse\n",
    "            acc_bar += acc\n",
    "            acc_bar2 += acc2\n",
    "            acc_bar3 += acc3\n",
    "            acc_bar4 += acc4\n",
    "            acc_bar5 += acc5\n",
    "    test_loss /= len(test_loader.dataset)\n",
    "    epoch_bar_loss /= len(test_loader.dataset)\n",
    "    epoch_len_loss /= len(test_loader.dataset)\n",
    "    epoch_col_loss /= len(test_loader.dataset)\n",
    "    acc_bar /= len(test_loader.dataset)\n",
    "    acc_bar2 /= len(test_loader.dataset)\n",
    "    acc_bar3 /= len(test_loader.dataset)\n",
    "    acc_bar4 /= len(test_loader.dataset)\n",
    "    acc_bar5 /= len(test_loader.dataset)\n",
    "    mse_bar /= len(test_loader.dataset)\n",
    "    \n",
    "    return test_loss, epoch_bar_loss, epoch_len_loss, epoch_col_loss, mse_bar, acc_bar, acc_bar2, acc_bar3, acc_bar4, acc_bar5 \n",
    "  "
   ]
  },
  {
   "cell_type": "code",
   "execution_count": 24,
   "metadata": {
    "executionInfo": {
     "elapsed": 11,
     "status": "ok",
     "timestamp": 1647023316755,
     "user": {
      "displayName": "Marko Petkovic",
      "photoUrl": "https://lh3.googleusercontent.com/a-/AOh14Gijd0e9r3I1vRZVN6DEwl16XpJxxS1oSAKunOnfZQ=s64",
      "userId": "11987583535390684770"
     },
     "user_tz": -60
    },
    "id": "npLjVGs0jHYn"
   },
   "outputs": [],
   "source": [
    "def train(args, train_loader, test_loader, diva, optimizer, end_epoch, start_epoch=0, save_folder='sd_1.0.0',save_interval=5):\n",
    "    \n",
    "    epoch_loss_sup = []\n",
    "    test_loss = []\n",
    "    \n",
    "    for epoch in range(start_epoch+1, end_epoch+1):\n",
    "        diva.beta = min([args.beta, args.beta * (epoch - args.prewarmup * 1.) / (args.warmup)])\n",
    "        if epoch< args.prewarmup:\n",
    "            diva.beta = args.beta/args.prewarmup\n",
    "        train_loss, avg_loss_bar, avg_loss_len, avg_loss_col, mtr, atr, atr2, atr3, atr4, atr5  = train_single_epoch(train_loader, diva, optimizer, epoch)\n",
    "        str_loss_sup = train_loss\n",
    "        epoch_loss_sup.append(train_loss)\n",
    "        str_print = \"epoch {}: avg train loss {:.2f}\".format(epoch, str_loss_sup)\n",
    "        str_print += \", bar train loss {:.3f}\".format(avg_loss_bar)\n",
    "        str_print += \", len train loss {:.3f}\".format(avg_loss_len)\n",
    "        str_print += \", col train loss {:.3f}\".format(avg_loss_col)\n",
    "        print(str_print)\n",
    "\n",
    "        rec_loss_train = diva.rec_alpha * avg_loss_len + diva.rec_beta * avg_loss_bar + diva.rec_gamma * avg_loss_col\n",
    "        dis_loss_train = train_loss - rec_loss_train\n",
    "\n",
    "        test_lss, avg_loss_bar_test, avg_loss_len_test, avg_loss_col_test, mte, ate, ate2, ate3, ate4, ate5  = test_single_epoch(test_loader, diva, epoch)\n",
    "        test_loss.append(test_lss)\n",
    "       \n",
    "        str_print = \"epoch {}: avg test  loss {:.2f}\".format(epoch, test_lss)\n",
    "        str_print += \", bar  test loss {:.3f}\".format(avg_loss_bar_test)\n",
    "        str_print += \", len  test loss {:.3f}\".format(avg_loss_len_test)\n",
    "        str_print += \", col  test loss {:.3f}\".format(avg_loss_col_test)\n",
    "        print(str_print)\n",
    "\n",
    "        rec_loss_test = diva.rec_alpha * avg_loss_len_test + diva.rec_beta * avg_loss_bar_test + diva.rec_gamma * avg_loss_col_test\n",
    "        dis_loss_test = test_lss - rec_loss_test\n",
    "\n",
    "        if writer is not None:\n",
    "            \n",
    "            writer.add_scalars(\"Total_Loss\", {'train': train_loss, 'test': test_lss} ,epoch)\n",
    "            writer.add_scalars(\"Reconstruction_vs_Disentanglement\",{'rec':rec_loss_train, 'dis':dis_loss_train}, epoch)\n",
    "            writer.add_scalars(\"bar_mse\",{'train': mtr, 'test':mte}, epoch)\n",
    "            writer.add_scalars(\"coll loss\", {'train':avg_loss_col, 'test':avg_loss_col_test}, epoch)\n",
    "#             writer.add_scalars(\"bar_acc\",{'train-top1': atr, 'test-top1':ate,\n",
    "#                                           'train-top2': atr2, 'test-top2':ate2,\n",
    "#                                           'train-top3': atr3, 'test-top3':ate3,\n",
    "#                                           'train-top4': atr4, 'test-top4':ate4,\n",
    "#                                           'train-top5': atr4, 'test-top5':ate4\n",
    "#                                          }, epoch)\n",
    "\n",
    "        if epoch % save_interval == 0:\n",
    "            save_reconstructions(epoch, test_loader, diva, name=save_folder)\n",
    "            save_reconstructions(epoch, train_loader, diva, name=save_folder, estr='tr')\n",
    "        \n",
    "        \n",
    "        if epoch % 50 == 0:\n",
    "            torch.save(diva.state_dict(), f'{link}/saved_models/{save_folder}/checkpoints/{epoch}.pth')\n",
    "\n",
    "    if writer is not None:\n",
    "        writer.flush()\n",
    "\n",
    "    epoch_loss_sup = [i.detach().cpu().numpy() for i in epoch_loss_sup]\n",
    "    test_loss = [i.detach().cpu().numpy() for i in test_loss]\n",
    "    return epoch_loss_sup, test_loss"
   ]
  },
  {
   "cell_type": "code",
   "execution_count": 25,
   "metadata": {
    "executionInfo": {
     "elapsed": 9,
     "status": "ok",
     "timestamp": 1647023317082,
     "user": {
      "displayName": "Marko Petkovic",
      "photoUrl": "https://lh3.googleusercontent.com/a-/AOh14Gijd0e9r3I1vRZVN6DEwl16XpJxxS1oSAKunOnfZQ=s64",
      "userId": "11987583535390684770"
     },
     "user_tz": -60
    },
    "id": "XxN8U8YK0Qi1"
   },
   "outputs": [],
   "source": [
    "def save_reconstructions(epoch, test_loader, diva, name='diva', estr=''):\n",
    "    a = next(enumerate(test_loader))\n",
    "    with torch.no_grad():\n",
    "        diva.eval()\n",
    "        d = a[1][2][:10].to(DEVICE).float()\n",
    "        x = a[1][0][:10].to(DEVICE).float()\n",
    "        y = a[1][1][:10].to(DEVICE).float()\n",
    "        m = a[1][-1][:10].to(DEVICE).float()\n",
    "        x_1, x_1var, x_2, x_2var, x_3 ,z1, z2, z1_m, z1_s, z2_m, z2_s, pz1_m, pz1_s = diva(d,x,y,m)\n",
    "        out = diva.px.reconstruct_image(x_1, x_1var, x_2, x_2var, x_3)\n",
    "\n",
    "    plt.figure(figsize=(80,20))\n",
    "    fig, ax = plt.subplots(nrows=10, ncols=2)\n",
    "\n",
    "    ax[0,0].set_title(\"Original\")\n",
    "    ax[0,1].set_title(\"Reconstructed\")\n",
    "\n",
    "    for i in range(10):\n",
    "        ax[i, 1].imshow(out[i])\n",
    "        ax[i, 0].imshow(x[i].cpu().permute(1,2,0))\n",
    "        ax[i, 0].xaxis.set_visible(False)\n",
    "        ax[i, 0].yaxis.set_visible(False)\n",
    "        ax[i, 1].xaxis.set_visible(False)\n",
    "        ax[i, 1].yaxis.set_visible(False)\n",
    "    fig.tight_layout(pad=0.1)\n",
    "    plt.savefig(f'{link}/saved_models/{name}/reconstructions/e{epoch}{estr}.png')\n",
    "    plt.close('all')"
   ]
  },
  {
   "cell_type": "code",
   "execution_count": 26,
   "metadata": {
    "colab": {
     "base_uri": "https://localhost:8080/"
    },
    "executionInfo": {
     "elapsed": 8,
     "status": "ok",
     "timestamp": 1647023317082,
     "user": {
      "displayName": "Marko Petkovic",
      "photoUrl": "https://lh3.googleusercontent.com/a-/AOh14Gijd0e9r3I1vRZVN6DEwl16XpJxxS1oSAKunOnfZQ=s64",
      "userId": "11987583535390684770"
     },
     "user_tz": -60
    },
    "id": "YVAD-Mjwh7yq",
    "outputId": "f330c11c-e358-41af-9ef4-bc36c146f907"
   },
   "outputs": [
    {
     "data": {
      "text/plain": [
       "device(type='cuda')"
      ]
     },
     "execution_count": 26,
     "metadata": {},
     "output_type": "execute_result"
    }
   ],
   "source": [
    "DEVICE"
   ]
  },
  {
   "cell_type": "markdown",
   "metadata": {
    "id": "nI4-NzHxjmci"
   },
   "source": [
    "## Model Training"
   ]
  },
  {
   "cell_type": "code",
   "execution_count": 27,
   "metadata": {
    "executionInfo": {
     "elapsed": 4,
     "status": "ok",
     "timestamp": 1647023317083,
     "user": {
      "displayName": "Marko Petkovic",
      "photoUrl": "https://lh3.googleusercontent.com/a-/AOh14Gijd0e9r3I1vRZVN6DEwl16XpJxxS1oSAKunOnfZQ=s64",
      "userId": "11987583535390684770"
     },
     "user_tz": -60
    },
    "id": "sJE0HTJE1ayP"
   },
   "outputs": [],
   "source": [
    "default_args = diva_args(prewarmup=0, number_components=50, z1_dim=256, z2_dim=256)"
   ]
  },
  {
   "cell_type": "code",
   "execution_count": 28,
   "metadata": {
    "colab": {
     "base_uri": "https://localhost:8080/",
     "height": 0
    },
    "executionInfo": {
     "elapsed": 1182,
     "status": "error",
     "timestamp": 1647023318262,
     "user": {
      "displayName": "Marko Petkovic",
      "photoUrl": "https://lh3.googleusercontent.com/a-/AOh14Gijd0e9r3I1vRZVN6DEwl16XpJxxS1oSAKunOnfZQ=s64",
      "userId": "11987583535390684770"
     },
     "user_tz": -60
    },
    "id": "kxIMSeUD1949",
    "outputId": "45991358-df3b-4e61-9d8a-c48b71b9fa49"
   },
   "outputs": [],
   "source": [
    "diva = HVAE(default_args).to(DEVICE)"
   ]
  },
  {
   "cell_type": "code",
   "execution_count": 29,
   "metadata": {
    "executionInfo": {
     "elapsed": 6,
     "status": "aborted",
     "timestamp": 1647023318259,
     "user": {
      "displayName": "Marko Petkovic",
      "photoUrl": "https://lh3.googleusercontent.com/a-/AOh14Gijd0e9r3I1vRZVN6DEwl16XpJxxS1oSAKunOnfZQ=s64",
      "userId": "11987583535390684770"
     },
     "user_tz": -60
    },
    "id": "PUHyoMi7iwJC"
   },
   "outputs": [
    {
     "data": {
      "text/plain": [
       "<All keys matched successfully>"
      ]
     },
     "execution_count": 29,
     "metadata": {},
     "output_type": "execute_result"
    }
   ],
   "source": [
    "diva.load_state_dict(torch.load(f'{link}/saved_models/new/DOUBLEHVAE/checkpoints/250.pth'))"
   ]
  },
  {
   "cell_type": "code",
   "execution_count": 30,
   "metadata": {
    "executionInfo": {
     "elapsed": 6,
     "status": "aborted",
     "timestamp": 1647023318260,
     "user": {
      "displayName": "Marko Petkovic",
      "photoUrl": "https://lh3.googleusercontent.com/a-/AOh14Gijd0e9r3I1vRZVN6DEwl16XpJxxS1oSAKunOnfZQ=s64",
      "userId": "11987583535390684770"
     },
     "user_tz": -60
    },
    "id": "48B39rFl79Yh"
   },
   "outputs": [],
   "source": [
    "train_loader = DataLoader(RNA_dataset, batch_size=128, shuffle=True)\n",
    "test_loader = DataLoader(RNA_dataset_test, batch_size=128)"
   ]
  },
  {
   "cell_type": "code",
   "execution_count": 31,
   "metadata": {
    "executionInfo": {
     "elapsed": 7,
     "status": "aborted",
     "timestamp": 1647023318261,
     "user": {
      "displayName": "Marko Petkovic",
      "photoUrl": "https://lh3.googleusercontent.com/a-/AOh14Gijd0e9r3I1vRZVN6DEwl16XpJxxS1oSAKunOnfZQ=s64",
      "userId": "11987583535390684770"
     },
     "user_tz": -60
    },
    "id": "J6y2Ek2677z1"
   },
   "outputs": [],
   "source": [
    "#optimizer = optim.SGD(diva.parameters(), lr=0.00001, momentum=0.1, nesterov=True)\n",
    "optimizer = optim.Adam(diva.parameters(), lr=0.001)"
   ]
  },
  {
   "cell_type": "code",
   "execution_count": 32,
   "metadata": {},
   "outputs": [
    {
     "data": {
      "text/plain": [
       "(10, 100)"
      ]
     },
     "execution_count": 32,
     "metadata": {},
     "output_type": "execute_result"
    }
   ],
   "source": [
    "RNA_dataset.x_len.min(), RNA_dataset.x_len.max()"
   ]
  },
  {
   "cell_type": "code",
   "execution_count": 33,
   "metadata": {},
   "outputs": [],
   "source": [
    "writer.flush()"
   ]
  },
  {
   "cell_type": "code",
   "execution_count": 34,
   "metadata": {},
   "outputs": [],
   "source": [
    "#diva.rec_gamma = 3"
   ]
  },
  {
   "cell_type": "code",
   "execution_count": 35,
   "metadata": {
    "executionInfo": {
     "elapsed": 7,
     "status": "aborted",
     "timestamp": 1647023318261,
     "user": {
      "displayName": "Marko Petkovic",
      "photoUrl": "https://lh3.googleusercontent.com/a-/AOh14Gijd0e9r3I1vRZVN6DEwl16XpJxxS1oSAKunOnfZQ=s64",
      "userId": "11987583535390684770"
     },
     "user_tz": -60
    },
    "id": "vQGakzXN6V-Y",
    "scrolled": false
   },
   "outputs": [
    {
     "data": {
      "text/plain": [
       "Reusing TensorBoard on port 6006 (pid 14644), started 8:45:02 ago. (Use '!kill 14644' to kill it.)"
      ]
     },
     "metadata": {},
     "output_type": "display_data"
    },
    {
     "data": {
      "text/html": [
       "\n",
       "      <iframe id=\"tensorboard-frame-b218b346af3d4b2\" width=\"100%\" height=\"800\" frameborder=\"0\">\n",
       "      </iframe>\n",
       "      <script>\n",
       "        (function() {\n",
       "          const frame = document.getElementById(\"tensorboard-frame-b218b346af3d4b2\");\n",
       "          const url = new URL(\"/\", window.location);\n",
       "          const port = 6006;\n",
       "          if (port) {\n",
       "            url.port = port;\n",
       "          }\n",
       "          frame.src = url;\n",
       "        })();\n",
       "      </script>\n",
       "    "
      ],
      "text/plain": [
       "<IPython.core.display.HTML object>"
      ]
     },
     "metadata": {},
     "output_type": "display_data"
    }
   ],
   "source": [
    "%tensorboard  --logdir=\"D:/users/Marko/downloads/mirna/saved_models/new/DOUBLEHVAE/tensorboard/\""
   ]
  },
  {
   "cell_type": "code",
   "execution_count": 36,
   "metadata": {
    "executionInfo": {
     "elapsed": 8,
     "status": "aborted",
     "timestamp": 1647023318262,
     "user": {
      "displayName": "Marko Petkovic",
      "photoUrl": "https://lh3.googleusercontent.com/a-/AOh14Gijd0e9r3I1vRZVN6DEwl16XpJxxS1oSAKunOnfZQ=s64",
      "userId": "11987583535390684770"
     },
     "user_tz": -60
    },
    "id": "0m47XoL87oLs",
    "scrolled": true
   },
   "outputs": [
    {
     "name": "stderr",
     "output_type": "stream",
     "text": [
      "Epoch 284: 272batch [01:13,  3.68batch/s, loss=279]\n"
     ]
    },
    {
     "name": "stdout",
     "output_type": "stream",
     "text": [
      "epoch 284: avg train loss 270.34, bar train loss 5.172, len train loss 0.017, col train loss 161.369\n",
      "epoch 284: avg test  loss 370.96, bar  test loss 4.191, len  test loss 1.193, col  test loss 164.089\n"
     ]
    },
    {
     "name": "stderr",
     "output_type": "stream",
     "text": [
      "Epoch 285: 272batch [00:32,  8.31batch/s, loss=299]\n"
     ]
    },
    {
     "name": "stdout",
     "output_type": "stream",
     "text": [
      "epoch 285: avg train loss 270.27, bar train loss 5.171, len train loss 0.016, col train loss 161.355\n",
      "epoch 285: avg test  loss 365.99, bar  test loss 4.148, len  test loss 1.151, col  test loss 164.065\n"
     ]
    },
    {
     "name": "stderr",
     "output_type": "stream",
     "text": [
      "Epoch 286: 272batch [00:32,  8.32batch/s, loss=288]\n"
     ]
    },
    {
     "name": "stdout",
     "output_type": "stream",
     "text": [
      "epoch 286: avg train loss 270.31, bar train loss 5.171, len train loss 0.016, col train loss 161.354\n"
     ]
    },
    {
     "name": "stderr",
     "output_type": "stream",
     "text": [
      "Epoch 287: 1batch [00:00,  8.13batch/s, loss=281]"
     ]
    },
    {
     "name": "stdout",
     "output_type": "stream",
     "text": [
      "epoch 286: avg test  loss 366.41, bar  test loss 4.168, len  test loss 1.151, col  test loss 164.070\n"
     ]
    },
    {
     "name": "stderr",
     "output_type": "stream",
     "text": [
      "Epoch 287: 272batch [00:32,  8.32batch/s, loss=260]\n"
     ]
    },
    {
     "name": "stdout",
     "output_type": "stream",
     "text": [
      "epoch 287: avg train loss 270.16, bar train loss 5.166, len train loss 0.016, col train loss 161.350\n"
     ]
    },
    {
     "name": "stderr",
     "output_type": "stream",
     "text": [
      "Epoch 288: 1batch [00:00,  8.20batch/s, loss=252]"
     ]
    },
    {
     "name": "stdout",
     "output_type": "stream",
     "text": [
      "epoch 287: avg test  loss 364.69, bar  test loss 4.219, len  test loss 1.126, col  test loss 164.092\n"
     ]
    },
    {
     "name": "stderr",
     "output_type": "stream",
     "text": [
      "Epoch 288: 272batch [00:32,  8.32batch/s, loss=261]\n"
     ]
    },
    {
     "name": "stdout",
     "output_type": "stream",
     "text": [
      "epoch 288: avg train loss 269.93, bar train loss 5.154, len train loss 0.016, col train loss 161.333\n"
     ]
    },
    {
     "name": "stderr",
     "output_type": "stream",
     "text": [
      "Epoch 289: 1batch [00:00,  8.13batch/s, loss=273]"
     ]
    },
    {
     "name": "stdout",
     "output_type": "stream",
     "text": [
      "epoch 288: avg test  loss 363.05, bar  test loss 4.175, len  test loss 1.117, col  test loss 164.080\n"
     ]
    },
    {
     "name": "stderr",
     "output_type": "stream",
     "text": [
      "Epoch 289: 272batch [00:32,  8.32batch/s, loss=275]\n"
     ]
    },
    {
     "name": "stdout",
     "output_type": "stream",
     "text": [
      "epoch 289: avg train loss 270.10, bar train loss 5.161, len train loss 0.017, col train loss 161.341\n"
     ]
    },
    {
     "name": "stderr",
     "output_type": "stream",
     "text": [
      "Epoch 290: 1batch [00:00,  8.20batch/s, loss=287]"
     ]
    },
    {
     "name": "stdout",
     "output_type": "stream",
     "text": [
      "epoch 289: avg test  loss 365.36, bar  test loss 4.222, len  test loss 1.129, col  test loss 164.077\n"
     ]
    },
    {
     "name": "stderr",
     "output_type": "stream",
     "text": [
      "Epoch 290: 272batch [00:32,  8.32batch/s, loss=284]\n"
     ]
    },
    {
     "name": "stdout",
     "output_type": "stream",
     "text": [
      "epoch 290: avg train loss 269.82, bar train loss 5.149, len train loss 0.017, col train loss 161.329\n",
      "epoch 290: avg test  loss 367.65, bar  test loss 4.253, len  test loss 1.144, col  test loss 164.067\n"
     ]
    },
    {
     "name": "stderr",
     "output_type": "stream",
     "text": [
      "Epoch 291: 272batch [00:32,  8.30batch/s, loss=261]\n"
     ]
    },
    {
     "name": "stdout",
     "output_type": "stream",
     "text": [
      "epoch 291: avg train loss 270.09, bar train loss 5.163, len train loss 0.016, col train loss 161.319\n"
     ]
    },
    {
     "name": "stderr",
     "output_type": "stream",
     "text": [
      "Epoch 292: 1batch [00:00,  8.20batch/s, loss=272]"
     ]
    },
    {
     "name": "stdout",
     "output_type": "stream",
     "text": [
      "epoch 291: avg test  loss 364.42, bar  test loss 4.264, len  test loss 1.112, col  test loss 164.073\n"
     ]
    },
    {
     "name": "stderr",
     "output_type": "stream",
     "text": [
      "Epoch 292: 272batch [00:32,  8.30batch/s, loss=299]\n"
     ]
    },
    {
     "name": "stdout",
     "output_type": "stream",
     "text": [
      "epoch 292: avg train loss 270.09, bar train loss 5.163, len train loss 0.016, col train loss 161.313\n"
     ]
    },
    {
     "name": "stderr",
     "output_type": "stream",
     "text": [
      "Epoch 293: 1batch [00:00,  8.20batch/s, loss=276]"
     ]
    },
    {
     "name": "stdout",
     "output_type": "stream",
     "text": [
      "epoch 292: avg test  loss 361.15, bar  test loss 4.202, len  test loss 1.089, col  test loss 164.069\n"
     ]
    },
    {
     "name": "stderr",
     "output_type": "stream",
     "text": [
      "Epoch 293: 272batch [00:32,  8.29batch/s, loss=265]\n"
     ]
    },
    {
     "name": "stdout",
     "output_type": "stream",
     "text": [
      "epoch 293: avg train loss 269.69, bar train loss 5.141, len train loss 0.017, col train loss 161.315\n"
     ]
    },
    {
     "name": "stderr",
     "output_type": "stream",
     "text": [
      "Epoch 294: 1batch [00:00,  8.20batch/s, loss=266]"
     ]
    },
    {
     "name": "stdout",
     "output_type": "stream",
     "text": [
      "epoch 293: avg test  loss 364.62, bar  test loss 4.179, len  test loss 1.129, col  test loss 164.083\n"
     ]
    },
    {
     "name": "stderr",
     "output_type": "stream",
     "text": [
      "Epoch 294: 272batch [00:32,  8.30batch/s, loss=284]\n"
     ]
    },
    {
     "name": "stdout",
     "output_type": "stream",
     "text": [
      "epoch 294: avg train loss 270.18, bar train loss 5.168, len train loss 0.016, col train loss 161.318\n"
     ]
    },
    {
     "name": "stderr",
     "output_type": "stream",
     "text": [
      "Epoch 295: 1batch [00:00,  8.26batch/s, loss=273]"
     ]
    },
    {
     "name": "stdout",
     "output_type": "stream",
     "text": [
      "epoch 294: avg test  loss 358.76, bar  test loss 4.213, len  test loss 1.066, col  test loss 164.083\n"
     ]
    },
    {
     "name": "stderr",
     "output_type": "stream",
     "text": [
      "Epoch 295: 272batch [00:32,  8.30batch/s, loss=292]\n"
     ]
    },
    {
     "name": "stdout",
     "output_type": "stream",
     "text": [
      "epoch 295: avg train loss 269.87, bar train loss 5.155, len train loss 0.016, col train loss 161.298\n",
      "epoch 295: avg test  loss 369.69, bar  test loss 4.169, len  test loss 1.186, col  test loss 164.117\n"
     ]
    },
    {
     "name": "stderr",
     "output_type": "stream",
     "text": [
      "Epoch 296: 272batch [00:32,  8.30batch/s, loss=268]\n"
     ]
    },
    {
     "name": "stdout",
     "output_type": "stream",
     "text": [
      "epoch 296: avg train loss 269.96, bar train loss 5.160, len train loss 0.016, col train loss 161.298\n"
     ]
    },
    {
     "name": "stderr",
     "output_type": "stream",
     "text": [
      "Epoch 297: 1batch [00:00,  8.26batch/s, loss=262]"
     ]
    },
    {
     "name": "stdout",
     "output_type": "stream",
     "text": [
      "epoch 296: avg test  loss 368.87, bar  test loss 4.226, len  test loss 1.163, col  test loss 164.095\n"
     ]
    },
    {
     "name": "stderr",
     "output_type": "stream",
     "text": [
      "Epoch 297: 272batch [00:32,  8.29batch/s, loss=265]\n"
     ]
    },
    {
     "name": "stdout",
     "output_type": "stream",
     "text": [
      "epoch 297: avg train loss 269.90, bar train loss 5.156, len train loss 0.016, col train loss 161.290\n"
     ]
    },
    {
     "name": "stderr",
     "output_type": "stream",
     "text": [
      "Epoch 298: 1batch [00:00,  8.33batch/s, loss=269]"
     ]
    },
    {
     "name": "stdout",
     "output_type": "stream",
     "text": [
      "epoch 297: avg test  loss 365.70, bar  test loss 4.199, len  test loss 1.137, col  test loss 164.069\n"
     ]
    },
    {
     "name": "stderr",
     "output_type": "stream",
     "text": [
      "Epoch 298: 272batch [00:32,  8.29batch/s, loss=275]\n"
     ]
    },
    {
     "name": "stdout",
     "output_type": "stream",
     "text": [
      "epoch 298: avg train loss 270.23, bar train loss 5.170, len train loss 0.017, col train loss 161.299\n"
     ]
    },
    {
     "name": "stderr",
     "output_type": "stream",
     "text": [
      "Epoch 299: 1batch [00:00,  8.06batch/s, loss=281]"
     ]
    },
    {
     "name": "stdout",
     "output_type": "stream",
     "text": [
      "epoch 298: avg test  loss 361.07, bar  test loss 4.167, len  test loss 1.096, col  test loss 164.073\n"
     ]
    },
    {
     "name": "stderr",
     "output_type": "stream",
     "text": [
      "Epoch 299: 272batch [00:32,  8.29batch/s, loss=253]\n"
     ]
    },
    {
     "name": "stdout",
     "output_type": "stream",
     "text": [
      "epoch 299: avg train loss 270.12, bar train loss 5.169, len train loss 0.016, col train loss 161.291\n"
     ]
    },
    {
     "name": "stderr",
     "output_type": "stream",
     "text": [
      "Epoch 300: 1batch [00:00,  8.20batch/s, loss=263]"
     ]
    },
    {
     "name": "stdout",
     "output_type": "stream",
     "text": [
      "epoch 299: avg test  loss 359.28, bar  test loss 4.198, len  test loss 1.072, col  test loss 164.077\n"
     ]
    },
    {
     "name": "stderr",
     "output_type": "stream",
     "text": [
      "Epoch 300: 272batch [00:32,  8.26batch/s, loss=278]\n"
     ]
    },
    {
     "name": "stdout",
     "output_type": "stream",
     "text": [
      "epoch 300: avg train loss 270.18, bar train loss 5.170, len train loss 0.016, col train loss 161.293\n",
      "epoch 300: avg test  loss 362.38, bar  test loss 4.232, len  test loss 1.098, col  test loss 164.077\n"
     ]
    },
    {
     "name": "stderr",
     "output_type": "stream",
     "text": [
      "Epoch 301: 272batch [00:32,  8.25batch/s, loss=272]\n"
     ]
    },
    {
     "name": "stdout",
     "output_type": "stream",
     "text": [
      "epoch 301: avg train loss 269.60, bar train loss 5.143, len train loss 0.016, col train loss 161.271\n"
     ]
    },
    {
     "name": "stderr",
     "output_type": "stream",
     "text": [
      "Epoch 302: 1batch [00:00,  8.20batch/s, loss=271]"
     ]
    },
    {
     "name": "stdout",
     "output_type": "stream",
     "text": [
      "epoch 301: avg test  loss 366.45, bar  test loss 4.179, len  test loss 1.150, col  test loss 164.096\n"
     ]
    },
    {
     "name": "stderr",
     "output_type": "stream",
     "text": [
      "Epoch 302: 272batch [00:32,  8.24batch/s, loss=273]\n"
     ]
    },
    {
     "name": "stdout",
     "output_type": "stream",
     "text": [
      "epoch 302: avg train loss 269.81, bar train loss 5.151, len train loss 0.016, col train loss 161.276\n"
     ]
    },
    {
     "name": "stderr",
     "output_type": "stream",
     "text": [
      "Epoch 303: 1batch [00:00,  8.20batch/s, loss=264]"
     ]
    },
    {
     "name": "stdout",
     "output_type": "stream",
     "text": [
      "epoch 302: avg test  loss 359.37, bar  test loss 4.145, len  test loss 1.085, col  test loss 164.086\n"
     ]
    },
    {
     "name": "stderr",
     "output_type": "stream",
     "text": [
      "Epoch 303: 272batch [00:32,  8.24batch/s, loss=253]\n"
     ]
    },
    {
     "name": "stdout",
     "output_type": "stream",
     "text": [
      "epoch 303: avg train loss 269.86, bar train loss 5.155, len train loss 0.016, col train loss 161.269\n"
     ]
    },
    {
     "name": "stderr",
     "output_type": "stream",
     "text": [
      "Epoch 304: 1batch [00:00,  8.20batch/s, loss=264]"
     ]
    },
    {
     "name": "stdout",
     "output_type": "stream",
     "text": [
      "epoch 303: avg test  loss 358.33, bar  test loss 4.237, len  test loss 1.059, col  test loss 164.072\n"
     ]
    },
    {
     "name": "stderr",
     "output_type": "stream",
     "text": [
      "Epoch 304: 272batch [00:33,  8.24batch/s, loss=281]\n"
     ]
    },
    {
     "name": "stdout",
     "output_type": "stream",
     "text": [
      "epoch 304: avg train loss 269.65, bar train loss 5.144, len train loss 0.016, col train loss 161.271\n"
     ]
    },
    {
     "name": "stderr",
     "output_type": "stream",
     "text": [
      "Epoch 305: 1batch [00:00,  8.20batch/s, loss=274]"
     ]
    },
    {
     "name": "stdout",
     "output_type": "stream",
     "text": [
      "epoch 304: avg test  loss 357.58, bar  test loss 4.201, len  test loss 1.055, col  test loss 164.087\n"
     ]
    },
    {
     "name": "stderr",
     "output_type": "stream",
     "text": [
      "Epoch 305: 272batch [00:33,  8.24batch/s, loss=283]\n"
     ]
    },
    {
     "name": "stdout",
     "output_type": "stream",
     "text": [
      "epoch 305: avg train loss 270.00, bar train loss 5.159, len train loss 0.017, col train loss 161.278\n",
      "epoch 305: avg test  loss 370.99, bar  test loss 4.228, len  test loss 1.185, col  test loss 164.091\n"
     ]
    },
    {
     "name": "stderr",
     "output_type": "stream",
     "text": [
      "Epoch 306: 272batch [00:32,  8.25batch/s, loss=254]\n"
     ]
    },
    {
     "name": "stdout",
     "output_type": "stream",
     "text": [
      "epoch 306: avg train loss 269.91, bar train loss 5.158, len train loss 0.016, col train loss 161.269\n"
     ]
    },
    {
     "name": "stderr",
     "output_type": "stream",
     "text": [
      "Epoch 307: 1batch [00:00,  8.06batch/s, loss=258]"
     ]
    },
    {
     "name": "stdout",
     "output_type": "stream",
     "text": [
      "epoch 306: avg test  loss 359.68, bar  test loss 4.179, len  test loss 1.081, col  test loss 164.077\n"
     ]
    },
    {
     "name": "stderr",
     "output_type": "stream",
     "text": [
      "Epoch 307: 272batch [00:32,  8.25batch/s, loss=303]\n"
     ]
    },
    {
     "name": "stdout",
     "output_type": "stream",
     "text": [
      "epoch 307: avg train loss 269.95, bar train loss 5.160, len train loss 0.016, col train loss 161.247\n"
     ]
    },
    {
     "name": "stderr",
     "output_type": "stream",
     "text": [
      "Epoch 308: 1batch [00:00,  8.20batch/s, loss=272]"
     ]
    },
    {
     "name": "stdout",
     "output_type": "stream",
     "text": [
      "epoch 307: avg test  loss 353.67, bar  test loss 4.159, len  test loss 1.027, col  test loss 164.057\n"
     ]
    },
    {
     "name": "stderr",
     "output_type": "stream",
     "text": [
      "Epoch 308: 272batch [00:33,  8.24batch/s, loss=259]\n"
     ]
    },
    {
     "name": "stdout",
     "output_type": "stream",
     "text": [
      "epoch 308: avg train loss 269.61, bar train loss 5.145, len train loss 0.016, col train loss 161.254\n"
     ]
    },
    {
     "name": "stderr",
     "output_type": "stream",
     "text": [
      "Epoch 309: 1batch [00:00,  8.13batch/s, loss=275]"
     ]
    },
    {
     "name": "stdout",
     "output_type": "stream",
     "text": [
      "epoch 308: avg test  loss 357.30, bar  test loss 4.186, len  test loss 1.055, col  test loss 164.074\n"
     ]
    },
    {
     "name": "stderr",
     "output_type": "stream",
     "text": [
      "Epoch 309: 272batch [00:33,  8.24batch/s, loss=274]\n"
     ]
    },
    {
     "name": "stdout",
     "output_type": "stream",
     "text": [
      "epoch 309: avg train loss 269.77, bar train loss 5.152, len train loss 0.016, col train loss 161.257\n"
     ]
    },
    {
     "name": "stderr",
     "output_type": "stream",
     "text": [
      "Epoch 310: 1batch [00:00,  8.13batch/s, loss=279]"
     ]
    },
    {
     "name": "stdout",
     "output_type": "stream",
     "text": [
      "epoch 309: avg test  loss 363.43, bar  test loss 4.130, len  test loss 1.127, col  test loss 164.069\n"
     ]
    },
    {
     "name": "stderr",
     "output_type": "stream",
     "text": [
      "Epoch 310: 272batch [00:33,  8.23batch/s, loss=309]\n"
     ]
    },
    {
     "name": "stdout",
     "output_type": "stream",
     "text": [
      "epoch 310: avg train loss 269.63, bar train loss 5.147, len train loss 0.016, col train loss 161.240\n",
      "epoch 310: avg test  loss 356.07, bar  test loss 4.222, len  test loss 1.037, col  test loss 164.105\n"
     ]
    },
    {
     "name": "stderr",
     "output_type": "stream",
     "text": [
      "Epoch 311: 272batch [00:33,  8.23batch/s, loss=275]\n"
     ]
    },
    {
     "name": "stdout",
     "output_type": "stream",
     "text": [
      "epoch 311: avg train loss 269.54, bar train loss 5.139, len train loss 0.016, col train loss 161.260\n"
     ]
    },
    {
     "name": "stderr",
     "output_type": "stream",
     "text": [
      "Epoch 312: 1batch [00:00,  8.26batch/s, loss=256]"
     ]
    },
    {
     "name": "stdout",
     "output_type": "stream",
     "text": [
      "epoch 311: avg test  loss 358.66, bar  test loss 4.177, len  test loss 1.072, col  test loss 164.083\n"
     ]
    },
    {
     "name": "stderr",
     "output_type": "stream",
     "text": [
      "Epoch 312: 272batch [00:33,  8.23batch/s, loss=276]\n"
     ]
    },
    {
     "name": "stdout",
     "output_type": "stream",
     "text": [
      "epoch 312: avg train loss 269.25, bar train loss 5.128, len train loss 0.016, col train loss 161.246\n"
     ]
    },
    {
     "name": "stderr",
     "output_type": "stream",
     "text": [
      "Epoch 313: 1batch [00:00,  8.20batch/s, loss=271]"
     ]
    },
    {
     "name": "stdout",
     "output_type": "stream",
     "text": [
      "epoch 312: avg test  loss 357.59, bar  test loss 4.206, len  test loss 1.055, col  test loss 164.097\n"
     ]
    },
    {
     "name": "stderr",
     "output_type": "stream",
     "text": [
      "Epoch 313: 272batch [00:33,  8.22batch/s, loss=250]\n"
     ]
    },
    {
     "name": "stdout",
     "output_type": "stream",
     "text": [
      "epoch 313: avg train loss 269.74, bar train loss 5.154, len train loss 0.016, col train loss 161.225\n"
     ]
    },
    {
     "name": "stderr",
     "output_type": "stream",
     "text": [
      "Epoch 314: 1batch [00:00,  8.26batch/s, loss=274]"
     ]
    },
    {
     "name": "stdout",
     "output_type": "stream",
     "text": [
      "epoch 313: avg test  loss 360.97, bar  test loss 4.140, len  test loss 1.102, col  test loss 164.066\n"
     ]
    },
    {
     "name": "stderr",
     "output_type": "stream",
     "text": [
      "Epoch 314: 272batch [00:33,  8.21batch/s, loss=272]\n"
     ]
    },
    {
     "name": "stdout",
     "output_type": "stream",
     "text": [
      "epoch 314: avg train loss 269.32, bar train loss 5.132, len train loss 0.016, col train loss 161.227\n"
     ]
    },
    {
     "name": "stderr",
     "output_type": "stream",
     "text": [
      "Epoch 315: 1batch [00:00,  8.13batch/s, loss=261]"
     ]
    },
    {
     "name": "stdout",
     "output_type": "stream",
     "text": [
      "epoch 314: avg test  loss 353.68, bar  test loss 4.174, len  test loss 1.022, col  test loss 164.093\n"
     ]
    },
    {
     "name": "stderr",
     "output_type": "stream",
     "text": [
      "Epoch 315: 272batch [00:33,  8.20batch/s, loss=283]\n"
     ]
    },
    {
     "name": "stdout",
     "output_type": "stream",
     "text": [
      "epoch 315: avg train loss 269.18, bar train loss 5.125, len train loss 0.016, col train loss 161.228\n",
      "epoch 315: avg test  loss 356.72, bar  test loss 4.188, len  test loss 1.050, col  test loss 164.063\n"
     ]
    },
    {
     "name": "stderr",
     "output_type": "stream",
     "text": [
      "Epoch 316: 272batch [00:33,  8.20batch/s, loss=271]\n"
     ]
    },
    {
     "name": "stdout",
     "output_type": "stream",
     "text": [
      "epoch 316: avg train loss 268.91, bar train loss 5.111, len train loss 0.016, col train loss 161.217\n"
     ]
    },
    {
     "name": "stderr",
     "output_type": "stream",
     "text": [
      "Epoch 317: 1batch [00:00,  8.13batch/s, loss=271]"
     ]
    },
    {
     "name": "stdout",
     "output_type": "stream",
     "text": [
      "epoch 316: avg test  loss 362.74, bar  test loss 4.211, len  test loss 1.105, col  test loss 164.099\n"
     ]
    },
    {
     "name": "stderr",
     "output_type": "stream",
     "text": [
      "Epoch 317: 272batch [00:33,  8.19batch/s, loss=257]\n"
     ]
    },
    {
     "name": "stdout",
     "output_type": "stream",
     "text": [
      "epoch 317: avg train loss 269.18, bar train loss 5.126, len train loss 0.016, col train loss 161.221\n"
     ]
    },
    {
     "name": "stderr",
     "output_type": "stream",
     "text": [
      "Epoch 318: 1batch [00:00,  8.13batch/s, loss=271]"
     ]
    },
    {
     "name": "stdout",
     "output_type": "stream",
     "text": [
      "epoch 317: avg test  loss 358.19, bar  test loss 4.189, len  test loss 1.065, col  test loss 164.080\n"
     ]
    },
    {
     "name": "stderr",
     "output_type": "stream",
     "text": [
      "Epoch 318: 272batch [00:33,  8.19batch/s, loss=278]\n"
     ]
    },
    {
     "name": "stdout",
     "output_type": "stream",
     "text": [
      "epoch 318: avg train loss 269.47, bar train loss 5.140, len train loss 0.016, col train loss 161.205\n"
     ]
    },
    {
     "name": "stderr",
     "output_type": "stream",
     "text": [
      "Epoch 319: 1batch [00:00,  8.06batch/s, loss=260]"
     ]
    },
    {
     "name": "stdout",
     "output_type": "stream",
     "text": [
      "epoch 318: avg test  loss 361.58, bar  test loss 4.201, len  test loss 1.095, col  test loss 164.080\n"
     ]
    },
    {
     "name": "stderr",
     "output_type": "stream",
     "text": [
      "Epoch 319: 272batch [00:33,  8.19batch/s, loss=265]\n"
     ]
    },
    {
     "name": "stdout",
     "output_type": "stream",
     "text": [
      "epoch 319: avg train loss 269.23, bar train loss 5.127, len train loss 0.016, col train loss 161.217\n"
     ]
    },
    {
     "name": "stderr",
     "output_type": "stream",
     "text": [
      "Epoch 320: 1batch [00:00,  8.20batch/s, loss=267]"
     ]
    },
    {
     "name": "stdout",
     "output_type": "stream",
     "text": [
      "epoch 319: avg test  loss 361.97, bar  test loss 4.159, len  test loss 1.108, col  test loss 164.080\n"
     ]
    },
    {
     "name": "stderr",
     "output_type": "stream",
     "text": [
      "Epoch 320: 272batch [00:33,  8.18batch/s, loss=278]\n"
     ]
    },
    {
     "name": "stdout",
     "output_type": "stream",
     "text": [
      "epoch 320: avg train loss 269.13, bar train loss 5.123, len train loss 0.016, col train loss 161.206\n",
      "epoch 320: avg test  loss 349.86, bar  test loss 4.173, len  test loss 0.984, col  test loss 164.075\n"
     ]
    },
    {
     "name": "stderr",
     "output_type": "stream",
     "text": [
      "Epoch 321: 272batch [00:33,  8.19batch/s, loss=276]\n"
     ]
    },
    {
     "name": "stdout",
     "output_type": "stream",
     "text": [
      "epoch 321: avg train loss 269.26, bar train loss 5.130, len train loss 0.016, col train loss 161.204\n"
     ]
    },
    {
     "name": "stderr",
     "output_type": "stream",
     "text": [
      "Epoch 322: 1batch [00:00,  8.20batch/s, loss=271]"
     ]
    },
    {
     "name": "stdout",
     "output_type": "stream",
     "text": [
      "epoch 321: avg test  loss 356.47, bar  test loss 4.188, len  test loss 1.050, col  test loss 164.101\n"
     ]
    },
    {
     "name": "stderr",
     "output_type": "stream",
     "text": [
      "Epoch 322: 272batch [00:33,  8.17batch/s, loss=262]\n"
     ]
    },
    {
     "name": "stdout",
     "output_type": "stream",
     "text": [
      "epoch 322: avg train loss 269.38, bar train loss 5.138, len train loss 0.016, col train loss 161.196\n"
     ]
    },
    {
     "name": "stderr",
     "output_type": "stream",
     "text": [
      "Epoch 323: 1batch [00:00,  8.13batch/s, loss=270]"
     ]
    },
    {
     "name": "stdout",
     "output_type": "stream",
     "text": [
      "epoch 322: avg test  loss 356.64, bar  test loss 4.178, len  test loss 1.052, col  test loss 164.074\n"
     ]
    },
    {
     "name": "stderr",
     "output_type": "stream",
     "text": [
      "Epoch 323: 272batch [00:33,  8.17batch/s, loss=261]\n"
     ]
    },
    {
     "name": "stdout",
     "output_type": "stream",
     "text": [
      "epoch 323: avg train loss 269.33, bar train loss 5.136, len train loss 0.016, col train loss 161.187\n"
     ]
    },
    {
     "name": "stderr",
     "output_type": "stream",
     "text": [
      "Epoch 324: 1batch [00:00,  7.87batch/s, loss=265]"
     ]
    },
    {
     "name": "stdout",
     "output_type": "stream",
     "text": [
      "epoch 323: avg test  loss 352.59, bar  test loss 4.200, len  test loss 1.006, col  test loss 164.066\n"
     ]
    },
    {
     "name": "stderr",
     "output_type": "stream",
     "text": [
      "Epoch 324: 272batch [00:33,  8.17batch/s, loss=283]\n"
     ]
    },
    {
     "name": "stdout",
     "output_type": "stream",
     "text": [
      "epoch 324: avg train loss 269.06, bar train loss 5.123, len train loss 0.016, col train loss 161.192\n"
     ]
    },
    {
     "name": "stderr",
     "output_type": "stream",
     "text": [
      "Epoch 325: 1batch [00:00,  8.13batch/s, loss=261]"
     ]
    },
    {
     "name": "stdout",
     "output_type": "stream",
     "text": [
      "epoch 324: avg test  loss 361.11, bar  test loss 4.203, len  test loss 1.092, col  test loss 164.081\n"
     ]
    },
    {
     "name": "stderr",
     "output_type": "stream",
     "text": [
      "Epoch 325: 272batch [00:33,  8.17batch/s, loss=274]\n"
     ]
    },
    {
     "name": "stdout",
     "output_type": "stream",
     "text": [
      "epoch 325: avg train loss 269.13, bar train loss 5.121, len train loss 0.016, col train loss 161.191\n",
      "epoch 325: avg test  loss 345.49, bar  test loss 4.242, len  test loss 0.928, col  test loss 164.080\n"
     ]
    },
    {
     "name": "stderr",
     "output_type": "stream",
     "text": [
      "Epoch 326: 272batch [00:33,  8.16batch/s, loss=278]\n"
     ]
    },
    {
     "name": "stdout",
     "output_type": "stream",
     "text": [
      "epoch 326: avg train loss 269.23, bar train loss 5.129, len train loss 0.016, col train loss 161.186\n"
     ]
    },
    {
     "name": "stderr",
     "output_type": "stream",
     "text": [
      "Epoch 327: 1batch [00:00,  8.13batch/s, loss=271]"
     ]
    },
    {
     "name": "stdout",
     "output_type": "stream",
     "text": [
      "epoch 326: avg test  loss 358.25, bar  test loss 4.168, len  test loss 1.069, col  test loss 164.115\n"
     ]
    },
    {
     "name": "stderr",
     "output_type": "stream",
     "text": [
      "Epoch 327: 272batch [00:33,  8.15batch/s, loss=276]\n"
     ]
    },
    {
     "name": "stdout",
     "output_type": "stream",
     "text": [
      "epoch 327: avg train loss 269.14, bar train loss 5.127, len train loss 0.016, col train loss 161.177\n"
     ]
    },
    {
     "name": "stderr",
     "output_type": "stream",
     "text": [
      "Epoch 328: 1batch [00:00,  8.20batch/s, loss=262]"
     ]
    },
    {
     "name": "stdout",
     "output_type": "stream",
     "text": [
      "epoch 327: avg test  loss 349.44, bar  test loss 4.157, len  test loss 0.985, col  test loss 164.071\n"
     ]
    },
    {
     "name": "stderr",
     "output_type": "stream",
     "text": [
      "Epoch 328: 272batch [00:33,  8.15batch/s, loss=294]\n"
     ]
    },
    {
     "name": "stdout",
     "output_type": "stream",
     "text": [
      "epoch 328: avg train loss 269.05, bar train loss 5.123, len train loss 0.016, col train loss 161.170\n"
     ]
    },
    {
     "name": "stderr",
     "output_type": "stream",
     "text": [
      "Epoch 329: 1batch [00:00,  8.13batch/s, loss=265]"
     ]
    },
    {
     "name": "stdout",
     "output_type": "stream",
     "text": [
      "epoch 328: avg test  loss 347.99, bar  test loss 4.157, len  test loss 0.969, col  test loss 164.060\n"
     ]
    },
    {
     "name": "stderr",
     "output_type": "stream",
     "text": [
      "Epoch 329: 272batch [00:33,  8.15batch/s, loss=271]\n"
     ]
    },
    {
     "name": "stdout",
     "output_type": "stream",
     "text": [
      "epoch 329: avg train loss 269.37, bar train loss 5.139, len train loss 0.016, col train loss 161.163\n"
     ]
    },
    {
     "name": "stderr",
     "output_type": "stream",
     "text": [
      "Epoch 330: 1batch [00:00,  8.06batch/s, loss=273]"
     ]
    },
    {
     "name": "stdout",
     "output_type": "stream",
     "text": [
      "epoch 329: avg test  loss 348.98, bar  test loss 4.158, len  test loss 0.976, col  test loss 164.076\n"
     ]
    },
    {
     "name": "stderr",
     "output_type": "stream",
     "text": [
      "Epoch 330: 272batch [00:33,  8.15batch/s, loss=277]\n"
     ]
    },
    {
     "name": "stdout",
     "output_type": "stream",
     "text": [
      "epoch 330: avg train loss 269.27, bar train loss 5.133, len train loss 0.016, col train loss 161.158\n",
      "epoch 330: avg test  loss 360.29, bar  test loss 4.139, len  test loss 1.094, col  test loss 164.083\n"
     ]
    },
    {
     "name": "stderr",
     "output_type": "stream",
     "text": [
      "Epoch 331: 272batch [00:33,  8.14batch/s, loss=276]\n"
     ]
    },
    {
     "name": "stdout",
     "output_type": "stream",
     "text": [
      "epoch 331: avg train loss 269.12, bar train loss 5.126, len train loss 0.016, col train loss 161.165\n"
     ]
    },
    {
     "name": "stderr",
     "output_type": "stream",
     "text": [
      "Epoch 332: 1batch [00:00,  7.94batch/s, loss=271]"
     ]
    },
    {
     "name": "stdout",
     "output_type": "stream",
     "text": [
      "epoch 331: avg test  loss 350.17, bar  test loss 4.154, len  test loss 0.994, col  test loss 164.083\n"
     ]
    },
    {
     "name": "stderr",
     "output_type": "stream",
     "text": [
      "Epoch 332: 272batch [00:33,  8.13batch/s, loss=283]\n"
     ]
    },
    {
     "name": "stdout",
     "output_type": "stream",
     "text": [
      "epoch 332: avg train loss 269.08, bar train loss 5.126, len train loss 0.016, col train loss 161.162\n"
     ]
    },
    {
     "name": "stderr",
     "output_type": "stream",
     "text": [
      "Epoch 333: 1batch [00:00,  8.13batch/s, loss=278]"
     ]
    },
    {
     "name": "stdout",
     "output_type": "stream",
     "text": [
      "epoch 332: avg test  loss 355.13, bar  test loss 4.216, len  test loss 1.030, col  test loss 164.101\n"
     ]
    },
    {
     "name": "stderr",
     "output_type": "stream",
     "text": [
      "Epoch 333: 272batch [00:33,  8.13batch/s, loss=287]\n"
     ]
    },
    {
     "name": "stdout",
     "output_type": "stream",
     "text": [
      "epoch 333: avg train loss 268.66, bar train loss 5.101, len train loss 0.016, col train loss 161.153\n"
     ]
    },
    {
     "name": "stderr",
     "output_type": "stream",
     "text": [
      "Epoch 334: 1batch [00:00,  8.20batch/s, loss=269]"
     ]
    },
    {
     "name": "stdout",
     "output_type": "stream",
     "text": [
      "epoch 333: avg test  loss 358.92, bar  test loss 4.200, len  test loss 1.070, col  test loss 164.097\n"
     ]
    },
    {
     "name": "stderr",
     "output_type": "stream",
     "text": [
      "Epoch 334: 272batch [00:33,  8.12batch/s, loss=271]\n"
     ]
    },
    {
     "name": "stdout",
     "output_type": "stream",
     "text": [
      "epoch 334: avg train loss 268.92, bar train loss 5.118, len train loss 0.016, col train loss 161.152\n"
     ]
    },
    {
     "name": "stderr",
     "output_type": "stream",
     "text": [
      "Epoch 335: 1batch [00:00,  8.00batch/s, loss=263]"
     ]
    },
    {
     "name": "stdout",
     "output_type": "stream",
     "text": [
      "epoch 334: avg test  loss 356.64, bar  test loss 4.252, len  test loss 1.038, col  test loss 164.083\n"
     ]
    },
    {
     "name": "stderr",
     "output_type": "stream",
     "text": [
      "Epoch 335: 272batch [00:33,  8.11batch/s, loss=276]\n"
     ]
    },
    {
     "name": "stdout",
     "output_type": "stream",
     "text": [
      "epoch 335: avg train loss 269.17, bar train loss 5.131, len train loss 0.016, col train loss 161.157\n",
      "epoch 335: avg test  loss 349.18, bar  test loss 4.190, len  test loss 0.971, col  test loss 164.068\n"
     ]
    },
    {
     "name": "stderr",
     "output_type": "stream",
     "text": [
      "Epoch 336: 272batch [00:33,  8.10batch/s, loss=272]\n"
     ]
    },
    {
     "name": "stdout",
     "output_type": "stream",
     "text": [
      "epoch 336: avg train loss 268.98, bar train loss 5.121, len train loss 0.016, col train loss 161.144\n"
     ]
    },
    {
     "name": "stderr",
     "output_type": "stream",
     "text": [
      "Epoch 337: 1batch [00:00,  8.00batch/s, loss=269]"
     ]
    },
    {
     "name": "stdout",
     "output_type": "stream",
     "text": [
      "epoch 336: avg test  loss 351.02, bar  test loss 4.141, len  test loss 1.002, col  test loss 164.084\n"
     ]
    },
    {
     "name": "stderr",
     "output_type": "stream",
     "text": [
      "Epoch 337: 272batch [00:33,  8.08batch/s, loss=272]\n"
     ]
    },
    {
     "name": "stdout",
     "output_type": "stream",
     "text": [
      "epoch 337: avg train loss 269.02, bar train loss 5.125, len train loss 0.016, col train loss 161.139\n"
     ]
    },
    {
     "name": "stderr",
     "output_type": "stream",
     "text": [
      "Epoch 338: 1batch [00:00,  8.00batch/s, loss=260]"
     ]
    },
    {
     "name": "stdout",
     "output_type": "stream",
     "text": [
      "epoch 337: avg test  loss 346.80, bar  test loss 4.157, len  test loss 0.958, col  test loss 164.092\n"
     ]
    },
    {
     "name": "stderr",
     "output_type": "stream",
     "text": [
      "Epoch 338: 272batch [00:33,  8.07batch/s, loss=284]\n"
     ]
    },
    {
     "name": "stdout",
     "output_type": "stream",
     "text": [
      "epoch 338: avg train loss 268.93, bar train loss 5.118, len train loss 0.016, col train loss 161.136\n"
     ]
    },
    {
     "name": "stderr",
     "output_type": "stream",
     "text": [
      "Epoch 339: 1batch [00:00,  8.00batch/s, loss=263]"
     ]
    },
    {
     "name": "stdout",
     "output_type": "stream",
     "text": [
      "epoch 338: avg test  loss 345.47, bar  test loss 4.154, len  test loss 0.942, col  test loss 164.093\n"
     ]
    },
    {
     "name": "stderr",
     "output_type": "stream",
     "text": [
      "Epoch 339: 272batch [00:33,  8.06batch/s, loss=291]\n"
     ]
    },
    {
     "name": "stdout",
     "output_type": "stream",
     "text": [
      "epoch 339: avg train loss 268.80, bar train loss 5.113, len train loss 0.016, col train loss 161.136\n"
     ]
    },
    {
     "name": "stderr",
     "output_type": "stream",
     "text": [
      "Epoch 340: 1batch [00:00,  8.06batch/s, loss=272]"
     ]
    },
    {
     "name": "stdout",
     "output_type": "stream",
     "text": [
      "epoch 339: avg test  loss 353.26, bar  test loss 4.147, len  test loss 1.025, col  test loss 164.087\n"
     ]
    },
    {
     "name": "stderr",
     "output_type": "stream",
     "text": [
      "Epoch 340: 272batch [00:33,  8.06batch/s, loss=276]\n"
     ]
    },
    {
     "name": "stdout",
     "output_type": "stream",
     "text": [
      "epoch 340: avg train loss 268.82, bar train loss 5.116, len train loss 0.015, col train loss 161.133\n",
      "epoch 340: avg test  loss 346.77, bar  test loss 4.185, len  test loss 0.951, col  test loss 164.083\n"
     ]
    },
    {
     "name": "stderr",
     "output_type": "stream",
     "text": [
      "Epoch 341: 272batch [00:33,  8.06batch/s, loss=296]\n"
     ]
    },
    {
     "name": "stdout",
     "output_type": "stream",
     "text": [
      "epoch 341: avg train loss 268.87, bar train loss 5.118, len train loss 0.016, col train loss 161.120\n"
     ]
    },
    {
     "name": "stderr",
     "output_type": "stream",
     "text": [
      "Epoch 342: 1batch [00:00,  8.00batch/s, loss=280]"
     ]
    },
    {
     "name": "stdout",
     "output_type": "stream",
     "text": [
      "epoch 341: avg test  loss 346.74, bar  test loss 4.135, len  test loss 0.961, col  test loss 164.103\n"
     ]
    },
    {
     "name": "stderr",
     "output_type": "stream",
     "text": [
      "Epoch 342: 272batch [00:33,  8.06batch/s, loss=268]\n"
     ]
    },
    {
     "name": "stdout",
     "output_type": "stream",
     "text": [
      "epoch 342: avg train loss 268.78, bar train loss 5.111, len train loss 0.016, col train loss 161.120\n"
     ]
    },
    {
     "name": "stderr",
     "output_type": "stream",
     "text": [
      "Epoch 343: 1batch [00:00,  7.81batch/s, loss=263]"
     ]
    },
    {
     "name": "stdout",
     "output_type": "stream",
     "text": [
      "epoch 342: avg test  loss 351.59, bar  test loss 4.115, len  test loss 1.013, col  test loss 164.096\n"
     ]
    },
    {
     "name": "stderr",
     "output_type": "stream",
     "text": [
      "Epoch 343: 272batch [00:33,  8.04batch/s, loss=275]\n"
     ]
    },
    {
     "name": "stdout",
     "output_type": "stream",
     "text": [
      "epoch 343: avg train loss 268.90, bar train loss 5.118, len train loss 0.016, col train loss 161.119\n"
     ]
    },
    {
     "name": "stderr",
     "output_type": "stream",
     "text": [
      "Epoch 344: 1batch [00:00,  8.00batch/s, loss=273]"
     ]
    },
    {
     "name": "stdout",
     "output_type": "stream",
     "text": [
      "epoch 343: avg test  loss 343.37, bar  test loss 4.122, len  test loss 0.928, col  test loss 164.087\n"
     ]
    },
    {
     "name": "stderr",
     "output_type": "stream",
     "text": [
      "Epoch 344: 272batch [00:33,  8.03batch/s, loss=275]\n"
     ]
    },
    {
     "name": "stdout",
     "output_type": "stream",
     "text": [
      "epoch 344: avg train loss 268.92, bar train loss 5.121, len train loss 0.016, col train loss 161.131\n"
     ]
    },
    {
     "name": "stderr",
     "output_type": "stream",
     "text": [
      "Epoch 345: 1batch [00:00,  8.00batch/s, loss=269]"
     ]
    },
    {
     "name": "stdout",
     "output_type": "stream",
     "text": [
      "epoch 344: avg test  loss 351.48, bar  test loss 4.158, len  test loss 1.003, col  test loss 164.073\n"
     ]
    },
    {
     "name": "stderr",
     "output_type": "stream",
     "text": [
      "Epoch 345: 272batch [00:33,  8.02batch/s, loss=269]\n"
     ]
    },
    {
     "name": "stdout",
     "output_type": "stream",
     "text": [
      "epoch 345: avg train loss 269.12, bar train loss 5.132, len train loss 0.016, col train loss 161.112\n",
      "epoch 345: avg test  loss 345.81, bar  test loss 4.166, len  test loss 0.946, col  test loss 164.100\n"
     ]
    },
    {
     "name": "stderr",
     "output_type": "stream",
     "text": [
      "Epoch 346: 272batch [00:33,  8.02batch/s, loss=270]\n"
     ]
    },
    {
     "name": "stdout",
     "output_type": "stream",
     "text": [
      "epoch 346: avg train loss 269.06, bar train loss 5.126, len train loss 0.016, col train loss 161.114\n"
     ]
    },
    {
     "name": "stderr",
     "output_type": "stream",
     "text": [
      "Epoch 347: 1batch [00:00,  7.81batch/s, loss=274]"
     ]
    },
    {
     "name": "stdout",
     "output_type": "stream",
     "text": [
      "epoch 346: avg test  loss 356.00, bar  test loss 4.170, len  test loss 1.046, col  test loss 164.074\n"
     ]
    },
    {
     "name": "stderr",
     "output_type": "stream",
     "text": [
      "Epoch 347: 272batch [00:33,  8.01batch/s, loss=289]\n"
     ]
    },
    {
     "name": "stdout",
     "output_type": "stream",
     "text": [
      "epoch 347: avg train loss 269.03, bar train loss 5.127, len train loss 0.016, col train loss 161.112\n"
     ]
    },
    {
     "name": "stderr",
     "output_type": "stream",
     "text": [
      "Epoch 348: 1batch [00:00,  7.87batch/s, loss=256]"
     ]
    },
    {
     "name": "stdout",
     "output_type": "stream",
     "text": [
      "epoch 347: avg test  loss 353.44, bar  test loss 4.203, len  test loss 1.016, col  test loss 164.079\n"
     ]
    },
    {
     "name": "stderr",
     "output_type": "stream",
     "text": [
      "Epoch 348: 272batch [00:33,  8.01batch/s, loss=265]\n"
     ]
    },
    {
     "name": "stdout",
     "output_type": "stream",
     "text": [
      "epoch 348: avg train loss 268.86, bar train loss 5.118, len train loss 0.016, col train loss 161.114\n"
     ]
    },
    {
     "name": "stderr",
     "output_type": "stream",
     "text": [
      "Epoch 349: 1batch [00:00,  7.87batch/s, loss=265]"
     ]
    },
    {
     "name": "stdout",
     "output_type": "stream",
     "text": [
      "epoch 348: avg test  loss 341.98, bar  test loss 4.144, len  test loss 0.910, col  test loss 164.070\n"
     ]
    },
    {
     "name": "stderr",
     "output_type": "stream",
     "text": [
      "Epoch 349: 272batch [00:33,  8.01batch/s, loss=268]\n"
     ]
    },
    {
     "name": "stdout",
     "output_type": "stream",
     "text": [
      "epoch 349: avg train loss 269.09, bar train loss 5.131, len train loss 0.015, col train loss 161.107\n"
     ]
    },
    {
     "name": "stderr",
     "output_type": "stream",
     "text": [
      "Epoch 350: 1batch [00:00,  7.63batch/s, loss=265]"
     ]
    },
    {
     "name": "stdout",
     "output_type": "stream",
     "text": [
      "epoch 349: avg test  loss 344.81, bar  test loss 4.164, len  test loss 0.934, col  test loss 164.089\n"
     ]
    },
    {
     "name": "stderr",
     "output_type": "stream",
     "text": [
      "Epoch 350: 272batch [00:34,  7.99batch/s, loss=273]\n"
     ]
    },
    {
     "name": "stdout",
     "output_type": "stream",
     "text": [
      "epoch 350: avg train loss 268.90, bar train loss 5.118, len train loss 0.016, col train loss 161.101\n",
      "epoch 350: avg test  loss 351.09, bar  test loss 4.206, len  test loss 0.990, col  test loss 164.092\n"
     ]
    },
    {
     "name": "stderr",
     "output_type": "stream",
     "text": [
      "Epoch 351: 272batch [00:34,  7.98batch/s, loss=276]\n"
     ]
    },
    {
     "name": "stdout",
     "output_type": "stream",
     "text": [
      "epoch 351: avg train loss 268.75, bar train loss 5.114, len train loss 0.016, col train loss 161.094\n"
     ]
    },
    {
     "name": "stderr",
     "output_type": "stream",
     "text": [
      "Epoch 352: 1batch [00:00,  7.94batch/s, loss=261]"
     ]
    },
    {
     "name": "stdout",
     "output_type": "stream",
     "text": [
      "epoch 351: avg test  loss 352.13, bar  test loss 4.152, len  test loss 1.013, col  test loss 164.083\n"
     ]
    },
    {
     "name": "stderr",
     "output_type": "stream",
     "text": [
      "Epoch 352: 272batch [00:34,  7.98batch/s, loss=264]\n"
     ]
    },
    {
     "name": "stdout",
     "output_type": "stream",
     "text": [
      "epoch 352: avg train loss 268.96, bar train loss 5.123, len train loss 0.016, col train loss 161.085\n"
     ]
    },
    {
     "name": "stderr",
     "output_type": "stream",
     "text": [
      "Epoch 353: 1batch [00:00,  7.87batch/s, loss=273]"
     ]
    },
    {
     "name": "stdout",
     "output_type": "stream",
     "text": [
      "epoch 352: avg test  loss 350.94, bar  test loss 4.169, len  test loss 0.997, col  test loss 164.099\n"
     ]
    },
    {
     "name": "stderr",
     "output_type": "stream",
     "text": [
      "Epoch 353: 272batch [00:34,  7.97batch/s, loss=292]\n"
     ]
    },
    {
     "name": "stdout",
     "output_type": "stream",
     "text": [
      "epoch 353: avg train loss 268.99, bar train loss 5.126, len train loss 0.016, col train loss 161.088\n"
     ]
    },
    {
     "name": "stderr",
     "output_type": "stream",
     "text": [
      "Epoch 354: 1batch [00:00,  7.87batch/s, loss=274]"
     ]
    },
    {
     "name": "stdout",
     "output_type": "stream",
     "text": [
      "epoch 353: avg test  loss 345.37, bar  test loss 4.190, len  test loss 0.940, col  test loss 164.102\n"
     ]
    },
    {
     "name": "stderr",
     "output_type": "stream",
     "text": [
      "Epoch 354: 272batch [00:34,  7.94batch/s, loss=297]\n"
     ]
    },
    {
     "name": "stdout",
     "output_type": "stream",
     "text": [
      "epoch 354: avg train loss 268.85, bar train loss 5.118, len train loss 0.016, col train loss 161.086\n"
     ]
    },
    {
     "name": "stderr",
     "output_type": "stream",
     "text": [
      "Epoch 355: 1batch [00:00,  8.00batch/s, loss=258]"
     ]
    },
    {
     "name": "stdout",
     "output_type": "stream",
     "text": [
      "epoch 354: avg test  loss 349.64, bar  test loss 4.211, len  test loss 0.975, col  test loss 164.078\n"
     ]
    },
    {
     "name": "stderr",
     "output_type": "stream",
     "text": [
      "Epoch 355: 272batch [00:34,  7.91batch/s, loss=261]\n"
     ]
    },
    {
     "name": "stdout",
     "output_type": "stream",
     "text": [
      "epoch 355: avg train loss 268.64, bar train loss 5.109, len train loss 0.015, col train loss 161.084\n",
      "epoch 355: avg test  loss 352.76, bar  test loss 4.159, len  test loss 1.015, col  test loss 164.061\n"
     ]
    },
    {
     "name": "stderr",
     "output_type": "stream",
     "text": [
      "Epoch 356: 272batch [00:34,  7.92batch/s, loss=287]\n"
     ]
    },
    {
     "name": "stdout",
     "output_type": "stream",
     "text": [
      "epoch 356: avg train loss 268.74, bar train loss 5.114, len train loss 0.016, col train loss 161.085\n"
     ]
    },
    {
     "name": "stderr",
     "output_type": "stream",
     "text": [
      "Epoch 357: 1batch [00:00,  7.81batch/s, loss=270]"
     ]
    },
    {
     "name": "stdout",
     "output_type": "stream",
     "text": [
      "epoch 356: avg test  loss 347.07, bar  test loss 4.178, len  test loss 0.958, col  test loss 164.102\n"
     ]
    },
    {
     "name": "stderr",
     "output_type": "stream",
     "text": [
      "Epoch 357: 272batch [00:34,  7.90batch/s, loss=277]\n"
     ]
    },
    {
     "name": "stdout",
     "output_type": "stream",
     "text": [
      "epoch 357: avg train loss 268.45, bar train loss 5.101, len train loss 0.015, col train loss 161.081\n"
     ]
    },
    {
     "name": "stderr",
     "output_type": "stream",
     "text": [
      "Epoch 358: 1batch [00:00,  7.69batch/s, loss=265]"
     ]
    },
    {
     "name": "stdout",
     "output_type": "stream",
     "text": [
      "epoch 357: avg test  loss 351.83, bar  test loss 4.148, len  test loss 1.009, col  test loss 164.106\n"
     ]
    },
    {
     "name": "stderr",
     "output_type": "stream",
     "text": [
      "Epoch 358: 272batch [00:34,  7.90batch/s, loss=285]\n"
     ]
    },
    {
     "name": "stdout",
     "output_type": "stream",
     "text": [
      "epoch 358: avg train loss 268.82, bar train loss 5.118, len train loss 0.016, col train loss 161.070\n"
     ]
    },
    {
     "name": "stderr",
     "output_type": "stream",
     "text": [
      "Epoch 359: 1batch [00:00,  7.94batch/s, loss=261]"
     ]
    },
    {
     "name": "stdout",
     "output_type": "stream",
     "text": [
      "epoch 358: avg test  loss 344.44, bar  test loss 4.173, len  test loss 0.930, col  test loss 164.095\n"
     ]
    },
    {
     "name": "stderr",
     "output_type": "stream",
     "text": [
      "Epoch 359: 272batch [00:34,  7.87batch/s, loss=243]\n"
     ]
    },
    {
     "name": "stdout",
     "output_type": "stream",
     "text": [
      "epoch 359: avg train loss 268.61, bar train loss 5.109, len train loss 0.015, col train loss 161.069\n"
     ]
    },
    {
     "name": "stderr",
     "output_type": "stream",
     "text": [
      "Epoch 360: 1batch [00:00,  7.87batch/s, loss=266]"
     ]
    },
    {
     "name": "stdout",
     "output_type": "stream",
     "text": [
      "epoch 359: avg test  loss 348.73, bar  test loss 4.253, len  test loss 0.959, col  test loss 164.093\n"
     ]
    },
    {
     "name": "stderr",
     "output_type": "stream",
     "text": [
      "Epoch 360: 272batch [00:34,  7.86batch/s, loss=275]\n"
     ]
    },
    {
     "name": "stdout",
     "output_type": "stream",
     "text": [
      "epoch 360: avg train loss 268.38, bar train loss 5.097, len train loss 0.016, col train loss 161.061\n",
      "epoch 360: avg test  loss 338.77, bar  test loss 4.187, len  test loss 0.871, col  test loss 164.100\n"
     ]
    },
    {
     "name": "stderr",
     "output_type": "stream",
     "text": [
      "Epoch 361: 272batch [00:34,  7.85batch/s, loss=283]\n"
     ]
    },
    {
     "name": "stdout",
     "output_type": "stream",
     "text": [
      "epoch 361: avg train loss 268.50, bar train loss 5.102, len train loss 0.016, col train loss 161.071\n"
     ]
    },
    {
     "name": "stderr",
     "output_type": "stream",
     "text": [
      "Epoch 362: 1batch [00:00,  7.81batch/s, loss=277]"
     ]
    },
    {
     "name": "stdout",
     "output_type": "stream",
     "text": [
      "epoch 361: avg test  loss 350.62, bar  test loss 4.146, len  test loss 0.997, col  test loss 164.078\n"
     ]
    },
    {
     "name": "stderr",
     "output_type": "stream",
     "text": [
      "Epoch 362: 272batch [00:34,  7.84batch/s, loss=282]\n"
     ]
    },
    {
     "name": "stdout",
     "output_type": "stream",
     "text": [
      "epoch 362: avg train loss 268.58, bar train loss 5.102, len train loss 0.017, col train loss 161.067\n"
     ]
    },
    {
     "name": "stderr",
     "output_type": "stream",
     "text": [
      "Epoch 363: 1batch [00:00,  7.52batch/s, loss=266]"
     ]
    },
    {
     "name": "stdout",
     "output_type": "stream",
     "text": [
      "epoch 362: avg test  loss 347.64, bar  test loss 4.180, len  test loss 0.962, col  test loss 164.085\n"
     ]
    },
    {
     "name": "stderr",
     "output_type": "stream",
     "text": [
      "Epoch 363: 272batch [00:34,  7.80batch/s, loss=284]\n"
     ]
    },
    {
     "name": "stdout",
     "output_type": "stream",
     "text": [
      "epoch 363: avg train loss 268.67, bar train loss 5.111, len train loss 0.016, col train loss 161.059\n"
     ]
    },
    {
     "name": "stderr",
     "output_type": "stream",
     "text": [
      "Epoch 364: 1batch [00:00,  7.69batch/s, loss=269]"
     ]
    },
    {
     "name": "stdout",
     "output_type": "stream",
     "text": [
      "epoch 363: avg test  loss 350.88, bar  test loss 4.170, len  test loss 0.995, col  test loss 164.081\n"
     ]
    },
    {
     "name": "stderr",
     "output_type": "stream",
     "text": [
      "Epoch 364: 272batch [00:34,  7.77batch/s, loss=307]\n"
     ]
    },
    {
     "name": "stdout",
     "output_type": "stream",
     "text": [
      "epoch 364: avg train loss 268.44, bar train loss 5.101, len train loss 0.016, col train loss 161.061\n"
     ]
    },
    {
     "name": "stderr",
     "output_type": "stream",
     "text": [
      "Epoch 365: 1batch [00:00,  7.58batch/s, loss=257]"
     ]
    },
    {
     "name": "stdout",
     "output_type": "stream",
     "text": [
      "epoch 364: avg test  loss 346.02, bar  test loss 4.190, len  test loss 0.943, col  test loss 164.096\n"
     ]
    },
    {
     "name": "stderr",
     "output_type": "stream",
     "text": [
      "Epoch 365: 272batch [00:34,  7.80batch/s, loss=278]\n"
     ]
    },
    {
     "name": "stdout",
     "output_type": "stream",
     "text": [
      "epoch 365: avg train loss 268.56, bar train loss 5.108, len train loss 0.015, col train loss 161.048\n",
      "epoch 365: avg test  loss 345.93, bar  test loss 4.136, len  test loss 0.951, col  test loss 164.083\n"
     ]
    },
    {
     "name": "stderr",
     "output_type": "stream",
     "text": [
      "Epoch 366: 272batch [00:34,  7.79batch/s, loss=285]\n"
     ]
    },
    {
     "name": "stdout",
     "output_type": "stream",
     "text": [
      "epoch 366: avg train loss 268.75, bar train loss 5.117, len train loss 0.015, col train loss 161.051\n"
     ]
    },
    {
     "name": "stderr",
     "output_type": "stream",
     "text": [
      "Epoch 367: 1batch [00:00,  7.75batch/s, loss=273]"
     ]
    },
    {
     "name": "stdout",
     "output_type": "stream",
     "text": [
      "epoch 366: avg test  loss 343.93, bar  test loss 4.153, len  test loss 0.929, col  test loss 164.085\n"
     ]
    },
    {
     "name": "stderr",
     "output_type": "stream",
     "text": [
      "Epoch 367: 272batch [00:35,  7.75batch/s, loss=262]\n"
     ]
    },
    {
     "name": "stdout",
     "output_type": "stream",
     "text": [
      "epoch 367: avg train loss 268.45, bar train loss 5.103, len train loss 0.015, col train loss 161.041\n"
     ]
    },
    {
     "name": "stderr",
     "output_type": "stream",
     "text": [
      "Epoch 368: 1batch [00:00,  7.63batch/s, loss=275]"
     ]
    },
    {
     "name": "stdout",
     "output_type": "stream",
     "text": [
      "epoch 367: avg test  loss 338.47, bar  test loss 4.170, len  test loss 0.874, col  test loss 164.102\n"
     ]
    },
    {
     "name": "stderr",
     "output_type": "stream",
     "text": [
      "Epoch 368: 272batch [00:35,  7.72batch/s, loss=283]\n"
     ]
    },
    {
     "name": "stdout",
     "output_type": "stream",
     "text": [
      "epoch 368: avg train loss 268.81, bar train loss 5.119, len train loss 0.015, col train loss 161.052\n"
     ]
    },
    {
     "name": "stderr",
     "output_type": "stream",
     "text": [
      "Epoch 369: 1batch [00:00,  7.63batch/s, loss=256]"
     ]
    },
    {
     "name": "stdout",
     "output_type": "stream",
     "text": [
      "epoch 368: avg test  loss 341.94, bar  test loss 4.162, len  test loss 0.909, col  test loss 164.084\n"
     ]
    },
    {
     "name": "stderr",
     "output_type": "stream",
     "text": [
      "Epoch 369: 272batch [00:35,  7.71batch/s, loss=284]\n"
     ]
    },
    {
     "name": "stdout",
     "output_type": "stream",
     "text": [
      "epoch 369: avg train loss 268.69, bar train loss 5.113, len train loss 0.016, col train loss 161.040\n"
     ]
    },
    {
     "name": "stderr",
     "output_type": "stream",
     "text": [
      "Epoch 370: 1batch [00:00,  7.81batch/s, loss=266]"
     ]
    },
    {
     "name": "stdout",
     "output_type": "stream",
     "text": [
      "epoch 369: avg test  loss 339.51, bar  test loss 4.159, len  test loss 0.884, col  test loss 164.085\n"
     ]
    },
    {
     "name": "stderr",
     "output_type": "stream",
     "text": [
      "Epoch 370: 272batch [00:35,  7.68batch/s, loss=272]\n"
     ]
    },
    {
     "name": "stdout",
     "output_type": "stream",
     "text": [
      "epoch 370: avg train loss 268.70, bar train loss 5.115, len train loss 0.016, col train loss 161.042\n",
      "epoch 370: avg test  loss 341.44, bar  test loss 4.157, len  test loss 0.902, col  test loss 164.100\n"
     ]
    },
    {
     "name": "stderr",
     "output_type": "stream",
     "text": [
      "Epoch 371: 272batch [00:35,  7.69batch/s, loss=276]\n"
     ]
    },
    {
     "name": "stdout",
     "output_type": "stream",
     "text": [
      "epoch 371: avg train loss 268.53, bar train loss 5.108, len train loss 0.015, col train loss 161.042\n"
     ]
    },
    {
     "name": "stderr",
     "output_type": "stream",
     "text": [
      "Epoch 372: 1batch [00:00,  7.58batch/s, loss=274]"
     ]
    },
    {
     "name": "stdout",
     "output_type": "stream",
     "text": [
      "epoch 371: avg test  loss 341.76, bar  test loss 4.159, len  test loss 0.906, col  test loss 164.085\n"
     ]
    },
    {
     "name": "stderr",
     "output_type": "stream",
     "text": [
      "Epoch 372: 272batch [00:35,  7.66batch/s, loss=257]\n"
     ]
    },
    {
     "name": "stdout",
     "output_type": "stream",
     "text": [
      "epoch 372: avg train loss 268.74, bar train loss 5.118, len train loss 0.016, col train loss 161.024\n"
     ]
    },
    {
     "name": "stderr",
     "output_type": "stream",
     "text": [
      "Epoch 373: 1batch [00:00,  7.63batch/s, loss=269]"
     ]
    },
    {
     "name": "stdout",
     "output_type": "stream",
     "text": [
      "epoch 372: avg test  loss 344.88, bar  test loss 4.224, len  test loss 0.927, col  test loss 164.090\n"
     ]
    },
    {
     "name": "stderr",
     "output_type": "stream",
     "text": [
      "Epoch 373: 272batch [00:35,  7.62batch/s, loss=277]\n"
     ]
    },
    {
     "name": "stdout",
     "output_type": "stream",
     "text": [
      "epoch 373: avg train loss 268.44, bar train loss 5.102, len train loss 0.016, col train loss 161.023\n"
     ]
    },
    {
     "name": "stderr",
     "output_type": "stream",
     "text": [
      "Epoch 374: 1batch [00:00,  7.58batch/s, loss=262]"
     ]
    },
    {
     "name": "stdout",
     "output_type": "stream",
     "text": [
      "epoch 373: avg test  loss 350.09, bar  test loss 4.174, len  test loss 0.988, col  test loss 164.099\n"
     ]
    },
    {
     "name": "stderr",
     "output_type": "stream",
     "text": [
      "Epoch 374: 272batch [00:35,  7.60batch/s, loss=284]\n"
     ]
    },
    {
     "name": "stdout",
     "output_type": "stream",
     "text": [
      "epoch 374: avg train loss 268.55, bar train loss 5.108, len train loss 0.016, col train loss 161.024\n"
     ]
    },
    {
     "name": "stderr",
     "output_type": "stream",
     "text": [
      "Epoch 375: 1batch [00:00,  7.63batch/s, loss=257]"
     ]
    },
    {
     "name": "stdout",
     "output_type": "stream",
     "text": [
      "epoch 374: avg test  loss 345.06, bar  test loss 4.183, len  test loss 0.935, col  test loss 164.084\n"
     ]
    },
    {
     "name": "stderr",
     "output_type": "stream",
     "text": [
      "Epoch 375: 272batch [00:35,  7.59batch/s, loss=270]\n"
     ]
    },
    {
     "name": "stdout",
     "output_type": "stream",
     "text": [
      "epoch 375: avg train loss 268.49, bar train loss 5.107, len train loss 0.015, col train loss 161.025\n",
      "epoch 375: avg test  loss 347.70, bar  test loss 4.239, len  test loss 0.954, col  test loss 164.114\n"
     ]
    },
    {
     "name": "stderr",
     "output_type": "stream",
     "text": [
      "Epoch 376: 272batch [00:35,  7.61batch/s, loss=275]\n"
     ]
    },
    {
     "name": "stdout",
     "output_type": "stream",
     "text": [
      "epoch 376: avg train loss 268.55, bar train loss 5.108, len train loss 0.016, col train loss 161.032\n"
     ]
    },
    {
     "name": "stderr",
     "output_type": "stream",
     "text": [
      "Epoch 377: 1batch [00:00,  7.52batch/s, loss=253]"
     ]
    },
    {
     "name": "stdout",
     "output_type": "stream",
     "text": [
      "epoch 376: avg test  loss 342.13, bar  test loss 4.175, len  test loss 0.907, col  test loss 164.094\n"
     ]
    },
    {
     "name": "stderr",
     "output_type": "stream",
     "text": [
      "Epoch 377: 272batch [00:35,  7.59batch/s, loss=287]\n"
     ]
    },
    {
     "name": "stdout",
     "output_type": "stream",
     "text": [
      "epoch 377: avg train loss 268.39, bar train loss 5.102, len train loss 0.015, col train loss 161.016\n"
     ]
    },
    {
     "name": "stderr",
     "output_type": "stream",
     "text": [
      "Epoch 378: 1batch [00:00,  7.63batch/s, loss=257]"
     ]
    },
    {
     "name": "stdout",
     "output_type": "stream",
     "text": [
      "epoch 377: avg test  loss 339.24, bar  test loss 4.160, len  test loss 0.882, col  test loss 164.110\n"
     ]
    },
    {
     "name": "stderr",
     "output_type": "stream",
     "text": [
      "Epoch 378: 272batch [00:35,  7.56batch/s, loss=291]\n"
     ]
    },
    {
     "name": "stdout",
     "output_type": "stream",
     "text": [
      "epoch 378: avg train loss 268.64, bar train loss 5.111, len train loss 0.016, col train loss 161.023\n"
     ]
    },
    {
     "name": "stderr",
     "output_type": "stream",
     "text": [
      "Epoch 379: 1batch [00:00,  7.52batch/s, loss=272]"
     ]
    },
    {
     "name": "stdout",
     "output_type": "stream",
     "text": [
      "epoch 378: avg test  loss 344.05, bar  test loss 4.176, len  test loss 0.928, col  test loss 164.089\n"
     ]
    },
    {
     "name": "stderr",
     "output_type": "stream",
     "text": [
      "Epoch 379: 272batch [00:36,  7.54batch/s, loss=266]\n"
     ]
    },
    {
     "name": "stdout",
     "output_type": "stream",
     "text": [
      "epoch 379: avg train loss 268.62, bar train loss 5.115, len train loss 0.015, col train loss 161.011\n"
     ]
    },
    {
     "name": "stderr",
     "output_type": "stream",
     "text": [
      "Epoch 380: 1batch [00:00,  7.63batch/s, loss=271]"
     ]
    },
    {
     "name": "stdout",
     "output_type": "stream",
     "text": [
      "epoch 379: avg test  loss 339.44, bar  test loss 4.157, len  test loss 0.886, col  test loss 164.096\n"
     ]
    },
    {
     "name": "stderr",
     "output_type": "stream",
     "text": [
      "Epoch 380: 272batch [00:36,  7.51batch/s, loss=259]\n"
     ]
    },
    {
     "name": "stdout",
     "output_type": "stream",
     "text": [
      "epoch 380: avg train loss 268.61, bar train loss 5.112, len train loss 0.016, col train loss 161.012\n",
      "epoch 380: avg test  loss 344.42, bar  test loss 4.155, len  test loss 0.934, col  test loss 164.082\n"
     ]
    },
    {
     "name": "stderr",
     "output_type": "stream",
     "text": [
      "Epoch 381: 272batch [00:36,  7.52batch/s, loss=255]\n"
     ]
    },
    {
     "name": "stdout",
     "output_type": "stream",
     "text": [
      "epoch 381: avg train loss 268.44, bar train loss 5.104, len train loss 0.015, col train loss 161.022\n"
     ]
    },
    {
     "name": "stderr",
     "output_type": "stream",
     "text": [
      "Epoch 382: 1batch [00:00,  7.30batch/s, loss=275]"
     ]
    },
    {
     "name": "stdout",
     "output_type": "stream",
     "text": [
      "epoch 381: avg test  loss 346.45, bar  test loss 4.246, len  test loss 0.936, col  test loss 164.103\n"
     ]
    },
    {
     "name": "stderr",
     "output_type": "stream",
     "text": [
      "Epoch 382: 272batch [00:36,  7.48batch/s, loss=254]\n"
     ]
    },
    {
     "name": "stdout",
     "output_type": "stream",
     "text": [
      "epoch 382: avg train loss 268.69, bar train loss 5.117, len train loss 0.016, col train loss 161.008\n"
     ]
    },
    {
     "name": "stderr",
     "output_type": "stream",
     "text": [
      "Epoch 383: 1batch [00:00,  7.58batch/s, loss=278]"
     ]
    },
    {
     "name": "stdout",
     "output_type": "stream",
     "text": [
      "epoch 382: avg test  loss 345.31, bar  test loss 4.146, len  test loss 0.945, col  test loss 164.089\n"
     ]
    },
    {
     "name": "stderr",
     "output_type": "stream",
     "text": [
      "Epoch 383: 272batch [00:36,  7.47batch/s, loss=275]\n"
     ]
    },
    {
     "name": "stdout",
     "output_type": "stream",
     "text": [
      "epoch 383: avg train loss 268.63, bar train loss 5.114, len train loss 0.015, col train loss 161.015\n"
     ]
    },
    {
     "name": "stderr",
     "output_type": "stream",
     "text": [
      "Epoch 384: 1batch [00:00,  7.52batch/s, loss=267]"
     ]
    },
    {
     "name": "stdout",
     "output_type": "stream",
     "text": [
      "epoch 383: avg test  loss 336.93, bar  test loss 4.142, len  test loss 0.862, col  test loss 164.086\n"
     ]
    },
    {
     "name": "stderr",
     "output_type": "stream",
     "text": [
      "Epoch 384: 272batch [00:36,  7.46batch/s, loss=266]\n"
     ]
    },
    {
     "name": "stdout",
     "output_type": "stream",
     "text": [
      "epoch 384: avg train loss 268.72, bar train loss 5.118, len train loss 0.016, col train loss 161.002\n"
     ]
    },
    {
     "name": "stderr",
     "output_type": "stream",
     "text": [
      "Epoch 385: 1batch [00:00,  7.46batch/s, loss=280]"
     ]
    },
    {
     "name": "stdout",
     "output_type": "stream",
     "text": [
      "epoch 384: avg test  loss 332.98, bar  test loss 4.129, len  test loss 0.826, col  test loss 164.103\n"
     ]
    },
    {
     "name": "stderr",
     "output_type": "stream",
     "text": [
      "Epoch 385: 272batch [00:36,  7.44batch/s, loss=282]\n"
     ]
    },
    {
     "name": "stdout",
     "output_type": "stream",
     "text": [
      "epoch 385: avg train loss 268.48, bar train loss 5.107, len train loss 0.016, col train loss 160.994\n",
      "epoch 385: avg test  loss 342.75, bar  test loss 4.167, len  test loss 0.916, col  test loss 164.113\n"
     ]
    },
    {
     "name": "stderr",
     "output_type": "stream",
     "text": [
      "Epoch 386: 272batch [00:36,  7.43batch/s, loss=256]\n"
     ]
    },
    {
     "name": "stdout",
     "output_type": "stream",
     "text": [
      "epoch 386: avg train loss 268.39, bar train loss 5.104, len train loss 0.015, col train loss 160.991\n"
     ]
    },
    {
     "name": "stderr",
     "output_type": "stream",
     "text": [
      "Epoch 387: 1batch [00:00,  7.41batch/s, loss=261]"
     ]
    },
    {
     "name": "stdout",
     "output_type": "stream",
     "text": [
      "epoch 386: avg test  loss 345.19, bar  test loss 4.221, len  test loss 0.932, col  test loss 164.113\n"
     ]
    },
    {
     "name": "stderr",
     "output_type": "stream",
     "text": [
      "Epoch 387: 272batch [00:36,  7.42batch/s, loss=260]\n"
     ]
    },
    {
     "name": "stdout",
     "output_type": "stream",
     "text": [
      "epoch 387: avg train loss 268.35, bar train loss 5.101, len train loss 0.015, col train loss 160.998\n"
     ]
    },
    {
     "name": "stderr",
     "output_type": "stream",
     "text": [
      "Epoch 388: 1batch [00:00,  7.58batch/s, loss=276]"
     ]
    },
    {
     "name": "stdout",
     "output_type": "stream",
     "text": [
      "epoch 387: avg test  loss 339.28, bar  test loss 4.229, len  test loss 0.868, col  test loss 164.096\n"
     ]
    },
    {
     "name": "stderr",
     "output_type": "stream",
     "text": [
      "Epoch 388: 272batch [00:36,  7.40batch/s, loss=259]\n"
     ]
    },
    {
     "name": "stdout",
     "output_type": "stream",
     "text": [
      "epoch 388: avg train loss 268.81, bar train loss 5.124, len train loss 0.015, col train loss 160.994\n"
     ]
    },
    {
     "name": "stderr",
     "output_type": "stream",
     "text": [
      "Epoch 389: 1batch [00:00,  7.41batch/s, loss=264]"
     ]
    },
    {
     "name": "stdout",
     "output_type": "stream",
     "text": [
      "epoch 388: avg test  loss 341.73, bar  test loss 4.184, len  test loss 0.902, col  test loss 164.101\n"
     ]
    },
    {
     "name": "stderr",
     "output_type": "stream",
     "text": [
      "Epoch 389: 272batch [00:36,  7.36batch/s, loss=261]\n"
     ]
    },
    {
     "name": "stdout",
     "output_type": "stream",
     "text": [
      "epoch 389: avg train loss 268.57, bar train loss 5.114, len train loss 0.015, col train loss 160.986\n"
     ]
    },
    {
     "name": "stderr",
     "output_type": "stream",
     "text": [
      "Epoch 390: 1batch [00:00,  7.30batch/s, loss=274]"
     ]
    },
    {
     "name": "stdout",
     "output_type": "stream",
     "text": [
      "epoch 389: avg test  loss 341.45, bar  test loss 4.207, len  test loss 0.896, col  test loss 164.119\n"
     ]
    },
    {
     "name": "stderr",
     "output_type": "stream",
     "text": [
      "Epoch 390: 272batch [00:37,  7.33batch/s, loss=275]\n"
     ]
    },
    {
     "name": "stdout",
     "output_type": "stream",
     "text": [
      "epoch 390: avg train loss 268.54, bar train loss 5.110, len train loss 0.016, col train loss 160.985\n",
      "epoch 390: avg test  loss 344.81, bar  test loss 4.195, len  test loss 0.930, col  test loss 164.104\n"
     ]
    },
    {
     "name": "stderr",
     "output_type": "stream",
     "text": [
      "Epoch 391: 272batch [00:37,  7.29batch/s, loss=265]\n"
     ]
    },
    {
     "name": "stdout",
     "output_type": "stream",
     "text": [
      "epoch 391: avg train loss 268.24, bar train loss 5.097, len train loss 0.015, col train loss 160.979\n"
     ]
    },
    {
     "name": "stderr",
     "output_type": "stream",
     "text": [
      "Epoch 392: 1batch [00:00,  7.35batch/s, loss=262]"
     ]
    },
    {
     "name": "stdout",
     "output_type": "stream",
     "text": [
      "epoch 391: avg test  loss 336.52, bar  test loss 4.211, len  test loss 0.843, col  test loss 164.079\n"
     ]
    },
    {
     "name": "stderr",
     "output_type": "stream",
     "text": [
      "Epoch 392: 272batch [00:36,  7.39batch/s, loss=247]\n"
     ]
    },
    {
     "name": "stdout",
     "output_type": "stream",
     "text": [
      "epoch 392: avg train loss 268.31, bar train loss 5.103, len train loss 0.015, col train loss 160.983\n"
     ]
    },
    {
     "name": "stderr",
     "output_type": "stream",
     "text": [
      "Epoch 393: 1batch [00:00,  6.99batch/s, loss=256]"
     ]
    },
    {
     "name": "stdout",
     "output_type": "stream",
     "text": [
      "epoch 392: avg test  loss 343.88, bar  test loss 4.167, len  test loss 0.928, col  test loss 164.099\n"
     ]
    },
    {
     "name": "stderr",
     "output_type": "stream",
     "text": [
      "Epoch 393: 272batch [00:36,  7.36batch/s, loss=302]\n"
     ]
    },
    {
     "name": "stdout",
     "output_type": "stream",
     "text": [
      "epoch 393: avg train loss 268.49, bar train loss 5.111, len train loss 0.015, col train loss 160.975\n"
     ]
    },
    {
     "name": "stderr",
     "output_type": "stream",
     "text": [
      "Epoch 394: 1batch [00:00,  7.14batch/s, loss=268]"
     ]
    },
    {
     "name": "stdout",
     "output_type": "stream",
     "text": [
      "epoch 393: avg test  loss 344.74, bar  test loss 4.196, len  test loss 0.931, col  test loss 164.104\n"
     ]
    },
    {
     "name": "stderr",
     "output_type": "stream",
     "text": [
      "Epoch 394: 272batch [00:37,  7.31batch/s, loss=293]\n"
     ]
    },
    {
     "name": "stdout",
     "output_type": "stream",
     "text": [
      "epoch 394: avg train loss 268.38, bar train loss 5.103, len train loss 0.015, col train loss 160.978\n"
     ]
    },
    {
     "name": "stderr",
     "output_type": "stream",
     "text": [
      "Epoch 395: 1batch [00:00,  7.30batch/s, loss=266]"
     ]
    },
    {
     "name": "stdout",
     "output_type": "stream",
     "text": [
      "epoch 394: avg test  loss 337.48, bar  test loss 4.148, len  test loss 0.866, col  test loss 164.077\n"
     ]
    },
    {
     "name": "stderr",
     "output_type": "stream",
     "text": [
      "Epoch 395: 272batch [00:37,  7.31batch/s, loss=277]\n"
     ]
    },
    {
     "name": "stdout",
     "output_type": "stream",
     "text": [
      "epoch 395: avg train loss 268.53, bar train loss 5.112, len train loss 0.015, col train loss 160.979\n",
      "epoch 395: avg test  loss 340.50, bar  test loss 4.185, len  test loss 0.890, col  test loss 164.101\n"
     ]
    },
    {
     "name": "stderr",
     "output_type": "stream",
     "text": [
      "Epoch 396: 272batch [00:37,  7.32batch/s, loss=267]\n"
     ]
    },
    {
     "name": "stdout",
     "output_type": "stream",
     "text": [
      "epoch 396: avg train loss 268.45, bar train loss 5.108, len train loss 0.015, col train loss 160.980\n"
     ]
    },
    {
     "name": "stderr",
     "output_type": "stream",
     "text": [
      "Epoch 397: 1batch [00:00,  7.52batch/s, loss=258]"
     ]
    },
    {
     "name": "stdout",
     "output_type": "stream",
     "text": [
      "epoch 396: avg test  loss 340.77, bar  test loss 4.164, len  test loss 0.896, col  test loss 164.070\n"
     ]
    },
    {
     "name": "stderr",
     "output_type": "stream",
     "text": [
      "Epoch 397: 272batch [00:37,  7.31batch/s, loss=264]\n"
     ]
    },
    {
     "name": "stdout",
     "output_type": "stream",
     "text": [
      "epoch 397: avg train loss 268.22, bar train loss 5.096, len train loss 0.015, col train loss 160.966\n"
     ]
    },
    {
     "name": "stderr",
     "output_type": "stream",
     "text": [
      "Epoch 398: 1batch [00:00,  7.46batch/s, loss=258]"
     ]
    },
    {
     "name": "stdout",
     "output_type": "stream",
     "text": [
      "epoch 397: avg test  loss 341.31, bar  test loss 4.146, len  test loss 0.904, col  test loss 164.090\n"
     ]
    },
    {
     "name": "stderr",
     "output_type": "stream",
     "text": [
      "Epoch 398: 272batch [00:37,  7.28batch/s, loss=258]\n"
     ]
    },
    {
     "name": "stdout",
     "output_type": "stream",
     "text": [
      "epoch 398: avg train loss 268.38, bar train loss 5.104, len train loss 0.015, col train loss 160.975\n"
     ]
    },
    {
     "name": "stderr",
     "output_type": "stream",
     "text": [
      "Epoch 399: 1batch [00:00,  7.30batch/s, loss=281]"
     ]
    },
    {
     "name": "stdout",
     "output_type": "stream",
     "text": [
      "epoch 398: avg test  loss 346.95, bar  test loss 4.135, len  test loss 0.965, col  test loss 164.104\n"
     ]
    },
    {
     "name": "stderr",
     "output_type": "stream",
     "text": [
      "Epoch 399: 272batch [00:37,  7.26batch/s, loss=293]\n"
     ]
    },
    {
     "name": "stdout",
     "output_type": "stream",
     "text": [
      "epoch 399: avg train loss 268.46, bar train loss 5.106, len train loss 0.016, col train loss 160.980\n"
     ]
    },
    {
     "name": "stderr",
     "output_type": "stream",
     "text": [
      "Epoch 400: 1batch [00:00,  6.99batch/s, loss=265]"
     ]
    },
    {
     "name": "stdout",
     "output_type": "stream",
     "text": [
      "epoch 399: avg test  loss 336.88, bar  test loss 4.118, len  test loss 0.866, col  test loss 164.110\n"
     ]
    },
    {
     "name": "stderr",
     "output_type": "stream",
     "text": [
      "Epoch 400: 272batch [00:37,  7.24batch/s, loss=258]\n"
     ]
    },
    {
     "name": "stdout",
     "output_type": "stream",
     "text": [
      "epoch 400: avg train loss 268.42, bar train loss 5.108, len train loss 0.015, col train loss 160.959\n",
      "epoch 400: avg test  loss 335.86, bar  test loss 4.147, len  test loss 0.850, col  test loss 164.095\n"
     ]
    },
    {
     "name": "stderr",
     "output_type": "stream",
     "text": [
      "Epoch 401: 272batch [00:37,  7.22batch/s, loss=238]\n"
     ]
    },
    {
     "name": "stdout",
     "output_type": "stream",
     "text": [
      "epoch 401: avg train loss 268.38, bar train loss 5.105, len train loss 0.015, col train loss 160.957\n"
     ]
    },
    {
     "name": "stderr",
     "output_type": "stream",
     "text": [
      "Epoch 402: 1batch [00:00,  7.19batch/s, loss=251]"
     ]
    },
    {
     "name": "stdout",
     "output_type": "stream",
     "text": [
      "epoch 401: avg test  loss 335.39, bar  test loss 4.166, len  test loss 0.843, col  test loss 164.091\n"
     ]
    },
    {
     "name": "stderr",
     "output_type": "stream",
     "text": [
      "Epoch 402: 272batch [00:37,  7.21batch/s, loss=271]\n"
     ]
    },
    {
     "name": "stdout",
     "output_type": "stream",
     "text": [
      "epoch 402: avg train loss 268.35, bar train loss 5.105, len train loss 0.015, col train loss 160.951\n"
     ]
    },
    {
     "name": "stderr",
     "output_type": "stream",
     "text": [
      "Epoch 403: 1batch [00:00,  7.46batch/s, loss=263]"
     ]
    },
    {
     "name": "stdout",
     "output_type": "stream",
     "text": [
      "epoch 402: avg test  loss 338.02, bar  test loss 4.147, len  test loss 0.872, col  test loss 164.081\n"
     ]
    },
    {
     "name": "stderr",
     "output_type": "stream",
     "text": [
      "Epoch 403: 272batch [00:37,  7.19batch/s, loss=255]\n"
     ]
    },
    {
     "name": "stdout",
     "output_type": "stream",
     "text": [
      "epoch 403: avg train loss 268.41, bar train loss 5.104, len train loss 0.016, col train loss 160.961\n"
     ]
    },
    {
     "name": "stderr",
     "output_type": "stream",
     "text": [
      "Epoch 404: 1batch [00:00,  7.69batch/s, loss=268]"
     ]
    },
    {
     "name": "stdout",
     "output_type": "stream",
     "text": [
      "epoch 403: avg test  loss 342.02, bar  test loss 4.185, len  test loss 0.904, col  test loss 164.116\n"
     ]
    },
    {
     "name": "stderr",
     "output_type": "stream",
     "text": [
      "Epoch 404: 272batch [00:37,  7.17batch/s, loss=258]\n"
     ]
    },
    {
     "name": "stdout",
     "output_type": "stream",
     "text": [
      "epoch 404: avg train loss 268.23, bar train loss 5.097, len train loss 0.015, col train loss 160.964\n"
     ]
    },
    {
     "name": "stderr",
     "output_type": "stream",
     "text": [
      "Epoch 405: 1batch [00:00,  7.14batch/s, loss=255]"
     ]
    },
    {
     "name": "stdout",
     "output_type": "stream",
     "text": [
      "epoch 404: avg test  loss 340.77, bar  test loss 4.202, len  test loss 0.888, col  test loss 164.100\n"
     ]
    },
    {
     "name": "stderr",
     "output_type": "stream",
     "text": [
      "Epoch 405: 272batch [00:38,  7.15batch/s, loss=278]\n"
     ]
    },
    {
     "name": "stdout",
     "output_type": "stream",
     "text": [
      "epoch 405: avg train loss 268.46, bar train loss 5.108, len train loss 0.016, col train loss 160.945\n",
      "epoch 405: avg test  loss 334.29, bar  test loss 4.158, len  test loss 0.833, col  test loss 164.103\n"
     ]
    },
    {
     "name": "stderr",
     "output_type": "stream",
     "text": [
      "Epoch 406: 272batch [00:37,  7.16batch/s, loss=263]\n"
     ]
    },
    {
     "name": "stdout",
     "output_type": "stream",
     "text": [
      "epoch 406: avg train loss 268.25, bar train loss 5.099, len train loss 0.015, col train loss 160.948\n"
     ]
    },
    {
     "name": "stderr",
     "output_type": "stream",
     "text": [
      "Epoch 407: 1batch [00:00,  6.85batch/s, loss=269]"
     ]
    },
    {
     "name": "stdout",
     "output_type": "stream",
     "text": [
      "epoch 406: avg test  loss 339.05, bar  test loss 4.184, len  test loss 0.876, col  test loss 164.111\n"
     ]
    },
    {
     "name": "stderr",
     "output_type": "stream",
     "text": [
      "Epoch 407: 272batch [00:38,  7.14batch/s, loss=266]\n"
     ]
    },
    {
     "name": "stdout",
     "output_type": "stream",
     "text": [
      "epoch 407: avg train loss 268.13, bar train loss 5.094, len train loss 0.015, col train loss 160.940\n"
     ]
    },
    {
     "name": "stderr",
     "output_type": "stream",
     "text": [
      "Epoch 408: 1batch [00:00,  7.04batch/s, loss=255]"
     ]
    },
    {
     "name": "stdout",
     "output_type": "stream",
     "text": [
      "epoch 407: avg test  loss 334.20, bar  test loss 4.151, len  test loss 0.834, col  test loss 164.103\n"
     ]
    },
    {
     "name": "stderr",
     "output_type": "stream",
     "text": [
      "Epoch 408: 272batch [00:38,  7.12batch/s, loss=262]\n"
     ]
    },
    {
     "name": "stdout",
     "output_type": "stream",
     "text": [
      "epoch 408: avg train loss 268.25, bar train loss 5.100, len train loss 0.015, col train loss 160.945\n"
     ]
    },
    {
     "name": "stderr",
     "output_type": "stream",
     "text": [
      "Epoch 409: 1batch [00:00,  7.19batch/s, loss=265]"
     ]
    },
    {
     "name": "stdout",
     "output_type": "stream",
     "text": [
      "epoch 408: avg test  loss 338.61, bar  test loss 4.117, len  test loss 0.883, col  test loss 164.100\n"
     ]
    },
    {
     "name": "stderr",
     "output_type": "stream",
     "text": [
      "Epoch 409: 272batch [00:38,  7.10batch/s, loss=257]\n"
     ]
    },
    {
     "name": "stdout",
     "output_type": "stream",
     "text": [
      "epoch 409: avg train loss 268.35, bar train loss 5.105, len train loss 0.015, col train loss 160.945\n"
     ]
    },
    {
     "name": "stderr",
     "output_type": "stream",
     "text": [
      "Epoch 410: 1batch [00:00,  7.14batch/s, loss=261]"
     ]
    },
    {
     "name": "stdout",
     "output_type": "stream",
     "text": [
      "epoch 409: avg test  loss 345.82, bar  test loss 4.210, len  test loss 0.937, col  test loss 164.103\n"
     ]
    },
    {
     "name": "stderr",
     "output_type": "stream",
     "text": [
      "Epoch 410: 272batch [00:38,  7.09batch/s, loss=276]\n"
     ]
    },
    {
     "name": "stdout",
     "output_type": "stream",
     "text": [
      "epoch 410: avg train loss 268.32, bar train loss 5.103, len train loss 0.016, col train loss 160.935\n",
      "epoch 410: avg test  loss 335.28, bar  test loss 4.142, len  test loss 0.847, col  test loss 164.119\n"
     ]
    },
    {
     "name": "stderr",
     "output_type": "stream",
     "text": [
      "Epoch 411: 272batch [00:38,  7.09batch/s, loss=274]\n"
     ]
    },
    {
     "name": "stdout",
     "output_type": "stream",
     "text": [
      "epoch 411: avg train loss 268.09, bar train loss 5.093, len train loss 0.016, col train loss 160.941\n"
     ]
    },
    {
     "name": "stderr",
     "output_type": "stream",
     "text": [
      "Epoch 412: 1batch [00:00,  7.09batch/s, loss=272]"
     ]
    },
    {
     "name": "stdout",
     "output_type": "stream",
     "text": [
      "epoch 411: avg test  loss 337.18, bar  test loss 4.162, len  test loss 0.859, col  test loss 164.091\n"
     ]
    },
    {
     "name": "stderr",
     "output_type": "stream",
     "text": [
      "Epoch 412: 272batch [00:38,  7.06batch/s, loss=272]\n"
     ]
    },
    {
     "name": "stdout",
     "output_type": "stream",
     "text": [
      "epoch 412: avg train loss 268.11, bar train loss 5.090, len train loss 0.016, col train loss 160.928\n"
     ]
    },
    {
     "name": "stderr",
     "output_type": "stream",
     "text": [
      "Epoch 413: 1batch [00:00,  7.25batch/s, loss=271]"
     ]
    },
    {
     "name": "stdout",
     "output_type": "stream",
     "text": [
      "epoch 412: avg test  loss 332.69, bar  test loss 4.166, len  test loss 0.816, col  test loss 164.102\n"
     ]
    },
    {
     "name": "stderr",
     "output_type": "stream",
     "text": [
      "Epoch 413: 272batch [00:38,  7.03batch/s, loss=269]\n"
     ]
    },
    {
     "name": "stdout",
     "output_type": "stream",
     "text": [
      "epoch 413: avg train loss 268.16, bar train loss 5.097, len train loss 0.015, col train loss 160.928\n"
     ]
    },
    {
     "name": "stderr",
     "output_type": "stream",
     "text": [
      "Epoch 414: 1batch [00:00,  7.41batch/s, loss=246]"
     ]
    },
    {
     "name": "stdout",
     "output_type": "stream",
     "text": [
      "epoch 413: avg test  loss 336.17, bar  test loss 4.205, len  test loss 0.843, col  test loss 164.104\n"
     ]
    },
    {
     "name": "stderr",
     "output_type": "stream",
     "text": [
      "Epoch 414: 272batch [00:38,  7.02batch/s, loss=283]\n"
     ]
    },
    {
     "name": "stdout",
     "output_type": "stream",
     "text": [
      "epoch 414: avg train loss 268.11, bar train loss 5.093, len train loss 0.015, col train loss 160.929\n"
     ]
    },
    {
     "name": "stderr",
     "output_type": "stream",
     "text": [
      "Epoch 415: 1batch [00:00,  7.09batch/s, loss=271]"
     ]
    },
    {
     "name": "stdout",
     "output_type": "stream",
     "text": [
      "epoch 414: avg test  loss 337.00, bar  test loss 4.164, len  test loss 0.857, col  test loss 164.102\n"
     ]
    },
    {
     "name": "stderr",
     "output_type": "stream",
     "text": [
      "Epoch 415: 272batch [00:38,  7.01batch/s, loss=276]\n"
     ]
    },
    {
     "name": "stdout",
     "output_type": "stream",
     "text": [
      "epoch 415: avg train loss 268.19, bar train loss 5.100, len train loss 0.015, col train loss 160.926\n",
      "epoch 415: avg test  loss 333.30, bar  test loss 4.164, len  test loss 0.820, col  test loss 164.089\n"
     ]
    },
    {
     "name": "stderr",
     "output_type": "stream",
     "text": [
      "Epoch 416: 272batch [00:38,  7.01batch/s, loss=284]\n"
     ]
    },
    {
     "name": "stdout",
     "output_type": "stream",
     "text": [
      "epoch 416: avg train loss 268.20, bar train loss 5.098, len train loss 0.015, col train loss 160.920\n"
     ]
    },
    {
     "name": "stderr",
     "output_type": "stream",
     "text": [
      "Epoch 417: 1batch [00:00,  7.04batch/s, loss=265]"
     ]
    },
    {
     "name": "stdout",
     "output_type": "stream",
     "text": [
      "epoch 416: avg test  loss 335.99, bar  test loss 4.160, len  test loss 0.850, col  test loss 164.092\n"
     ]
    },
    {
     "name": "stderr",
     "output_type": "stream",
     "text": [
      "Epoch 417: 272batch [00:38,  6.99batch/s, loss=264]\n"
     ]
    },
    {
     "name": "stdout",
     "output_type": "stream",
     "text": [
      "epoch 417: avg train loss 268.27, bar train loss 5.103, len train loss 0.015, col train loss 160.917\n"
     ]
    },
    {
     "name": "stderr",
     "output_type": "stream",
     "text": [
      "Epoch 418: 1batch [00:00,  7.09batch/s, loss=271]"
     ]
    },
    {
     "name": "stdout",
     "output_type": "stream",
     "text": [
      "epoch 417: avg test  loss 336.18, bar  test loss 4.206, len  test loss 0.844, col  test loss 164.118\n"
     ]
    },
    {
     "name": "stderr",
     "output_type": "stream",
     "text": [
      "Epoch 418: 272batch [00:38,  6.98batch/s, loss=279]\n"
     ]
    },
    {
     "name": "stdout",
     "output_type": "stream",
     "text": [
      "epoch 418: avg train loss 268.29, bar train loss 5.101, len train loss 0.015, col train loss 160.921\n"
     ]
    },
    {
     "name": "stderr",
     "output_type": "stream",
     "text": [
      "Epoch 419: 1batch [00:00,  6.99batch/s, loss=259]"
     ]
    },
    {
     "name": "stdout",
     "output_type": "stream",
     "text": [
      "epoch 418: avg test  loss 338.67, bar  test loss 4.140, len  test loss 0.879, col  test loss 164.107\n"
     ]
    },
    {
     "name": "stderr",
     "output_type": "stream",
     "text": [
      "Epoch 419: 272batch [00:39,  6.97batch/s, loss=255]\n"
     ]
    },
    {
     "name": "stdout",
     "output_type": "stream",
     "text": [
      "epoch 419: avg train loss 268.12, bar train loss 5.095, len train loss 0.015, col train loss 160.921\n"
     ]
    },
    {
     "name": "stderr",
     "output_type": "stream",
     "text": [
      "Epoch 420: 1batch [00:00,  6.90batch/s, loss=255]"
     ]
    },
    {
     "name": "stdout",
     "output_type": "stream",
     "text": [
      "epoch 419: avg test  loss 334.33, bar  test loss 4.193, len  test loss 0.828, col  test loss 164.099\n"
     ]
    },
    {
     "name": "stderr",
     "output_type": "stream",
     "text": [
      "Epoch 420: 272batch [00:39,  6.95batch/s, loss=258]\n"
     ]
    },
    {
     "name": "stdout",
     "output_type": "stream",
     "text": [
      "epoch 420: avg train loss 268.11, bar train loss 5.096, len train loss 0.015, col train loss 160.913\n",
      "epoch 420: avg test  loss 331.79, bar  test loss 4.131, len  test loss 0.814, col  test loss 164.095\n"
     ]
    },
    {
     "name": "stderr",
     "output_type": "stream",
     "text": [
      "Epoch 421: 272batch [00:39,  6.94batch/s, loss=285]\n"
     ]
    },
    {
     "name": "stdout",
     "output_type": "stream",
     "text": [
      "epoch 421: avg train loss 268.34, bar train loss 5.105, len train loss 0.015, col train loss 160.917\n"
     ]
    },
    {
     "name": "stderr",
     "output_type": "stream",
     "text": [
      "Epoch 422: 1batch [00:00,  7.19batch/s, loss=277]"
     ]
    },
    {
     "name": "stdout",
     "output_type": "stream",
     "text": [
      "epoch 421: avg test  loss 342.20, bar  test loss 4.221, len  test loss 0.898, col  test loss 164.105\n"
     ]
    },
    {
     "name": "stderr",
     "output_type": "stream",
     "text": [
      "Epoch 422: 272batch [00:39,  6.93batch/s, loss=261]\n"
     ]
    },
    {
     "name": "stdout",
     "output_type": "stream",
     "text": [
      "epoch 422: avg train loss 268.05, bar train loss 5.091, len train loss 0.015, col train loss 160.911\n"
     ]
    },
    {
     "name": "stderr",
     "output_type": "stream",
     "text": [
      "Epoch 423: 1batch [00:00,  7.14batch/s, loss=265]"
     ]
    },
    {
     "name": "stdout",
     "output_type": "stream",
     "text": [
      "epoch 422: avg test  loss 338.69, bar  test loss 4.146, len  test loss 0.879, col  test loss 164.095\n"
     ]
    },
    {
     "name": "stderr",
     "output_type": "stream",
     "text": [
      "Epoch 423: 272batch [00:39,  6.90batch/s, loss=264]\n"
     ]
    },
    {
     "name": "stdout",
     "output_type": "stream",
     "text": [
      "epoch 423: avg train loss 268.23, bar train loss 5.103, len train loss 0.015, col train loss 160.892\n"
     ]
    },
    {
     "name": "stderr",
     "output_type": "stream",
     "text": [
      "Epoch 424: 1batch [00:00,  6.54batch/s, loss=264]"
     ]
    },
    {
     "name": "stdout",
     "output_type": "stream",
     "text": [
      "epoch 423: avg test  loss 335.05, bar  test loss 4.164, len  test loss 0.842, col  test loss 164.116\n"
     ]
    },
    {
     "name": "stderr",
     "output_type": "stream",
     "text": [
      "Epoch 424: 272batch [00:39,  6.90batch/s, loss=268]\n"
     ]
    },
    {
     "name": "stdout",
     "output_type": "stream",
     "text": [
      "epoch 424: avg train loss 268.35, bar train loss 5.110, len train loss 0.015, col train loss 160.891\n"
     ]
    },
    {
     "name": "stderr",
     "output_type": "stream",
     "text": [
      "Epoch 425: 1batch [00:00,  6.90batch/s, loss=267]"
     ]
    },
    {
     "name": "stdout",
     "output_type": "stream",
     "text": [
      "epoch 424: avg test  loss 335.49, bar  test loss 4.173, len  test loss 0.842, col  test loss 164.106\n"
     ]
    },
    {
     "name": "stderr",
     "output_type": "stream",
     "text": [
      "Epoch 425: 272batch [00:39,  6.86batch/s, loss=265]\n"
     ]
    },
    {
     "name": "stdout",
     "output_type": "stream",
     "text": [
      "epoch 425: avg train loss 268.29, bar train loss 5.107, len train loss 0.015, col train loss 160.904\n",
      "epoch 425: avg test  loss 333.97, bar  test loss 4.186, len  test loss 0.824, col  test loss 164.094\n"
     ]
    },
    {
     "name": "stderr",
     "output_type": "stream",
     "text": [
      "Epoch 426: 272batch [00:39,  6.91batch/s, loss=318]\n"
     ]
    },
    {
     "name": "stdout",
     "output_type": "stream",
     "text": [
      "epoch 426: avg train loss 268.47, bar train loss 5.111, len train loss 0.016, col train loss 160.890\n"
     ]
    },
    {
     "name": "stderr",
     "output_type": "stream",
     "text": [
      "Epoch 427: 1batch [00:00,  6.90batch/s, loss=268]"
     ]
    },
    {
     "name": "stdout",
     "output_type": "stream",
     "text": [
      "epoch 426: avg test  loss 331.43, bar  test loss 4.164, len  test loss 0.802, col  test loss 164.083\n"
     ]
    },
    {
     "name": "stderr",
     "output_type": "stream",
     "text": [
      "Epoch 427: 272batch [00:39,  6.90batch/s, loss=278]\n"
     ]
    },
    {
     "name": "stdout",
     "output_type": "stream",
     "text": [
      "epoch 427: avg train loss 268.09, bar train loss 5.096, len train loss 0.015, col train loss 160.894\n"
     ]
    },
    {
     "name": "stderr",
     "output_type": "stream",
     "text": [
      "Epoch 428: 1batch [00:00,  7.14batch/s, loss=277]"
     ]
    },
    {
     "name": "stdout",
     "output_type": "stream",
     "text": [
      "epoch 427: avg test  loss 336.49, bar  test loss 4.153, len  test loss 0.858, col  test loss 164.118\n"
     ]
    },
    {
     "name": "stderr",
     "output_type": "stream",
     "text": [
      "Epoch 428: 272batch [00:39,  6.89batch/s, loss=250]\n"
     ]
    },
    {
     "name": "stdout",
     "output_type": "stream",
     "text": [
      "epoch 428: avg train loss 268.09, bar train loss 5.096, len train loss 0.015, col train loss 160.895\n"
     ]
    },
    {
     "name": "stderr",
     "output_type": "stream",
     "text": [
      "Epoch 429: 1batch [00:00,  7.04batch/s, loss=267]"
     ]
    },
    {
     "name": "stdout",
     "output_type": "stream",
     "text": [
      "epoch 428: avg test  loss 331.91, bar  test loss 4.143, len  test loss 0.811, col  test loss 164.115\n"
     ]
    },
    {
     "name": "stderr",
     "output_type": "stream",
     "text": [
      "Epoch 429: 272batch [00:39,  6.88batch/s, loss=277]\n"
     ]
    },
    {
     "name": "stdout",
     "output_type": "stream",
     "text": [
      "epoch 429: avg train loss 268.16, bar train loss 5.099, len train loss 0.015, col train loss 160.891\n"
     ]
    },
    {
     "name": "stderr",
     "output_type": "stream",
     "text": [
      "Epoch 430: 1batch [00:00,  7.14batch/s, loss=264]"
     ]
    },
    {
     "name": "stdout",
     "output_type": "stream",
     "text": [
      "epoch 429: avg test  loss 336.76, bar  test loss 4.142, len  test loss 0.863, col  test loss 164.096\n"
     ]
    },
    {
     "name": "stderr",
     "output_type": "stream",
     "text": [
      "Epoch 430: 272batch [00:39,  6.85batch/s, loss=280]\n"
     ]
    },
    {
     "name": "stdout",
     "output_type": "stream",
     "text": [
      "epoch 430: avg train loss 268.25, bar train loss 5.102, len train loss 0.016, col train loss 160.903\n",
      "epoch 430: avg test  loss 330.68, bar  test loss 4.175, len  test loss 0.793, col  test loss 164.107\n"
     ]
    },
    {
     "name": "stderr",
     "output_type": "stream",
     "text": [
      "Epoch 431: 272batch [00:39,  6.83batch/s, loss=286]\n"
     ]
    },
    {
     "name": "stdout",
     "output_type": "stream",
     "text": [
      "epoch 431: avg train loss 268.05, bar train loss 5.094, len train loss 0.015, col train loss 160.882\n"
     ]
    },
    {
     "name": "stderr",
     "output_type": "stream",
     "text": [
      "Epoch 432: 1batch [00:00,  7.04batch/s, loss=260]"
     ]
    },
    {
     "name": "stdout",
     "output_type": "stream",
     "text": [
      "epoch 431: avg test  loss 337.28, bar  test loss 4.177, len  test loss 0.859, col  test loss 164.115\n"
     ]
    },
    {
     "name": "stderr",
     "output_type": "stream",
     "text": [
      "Epoch 432: 272batch [00:39,  6.82batch/s, loss=261]\n"
     ]
    },
    {
     "name": "stdout",
     "output_type": "stream",
     "text": [
      "epoch 432: avg train loss 268.11, bar train loss 5.097, len train loss 0.015, col train loss 160.887\n"
     ]
    },
    {
     "name": "stderr",
     "output_type": "stream",
     "text": [
      "Epoch 433: 1batch [00:00,  7.04batch/s, loss=254]"
     ]
    },
    {
     "name": "stdout",
     "output_type": "stream",
     "text": [
      "epoch 432: avg test  loss 334.33, bar  test loss 4.194, len  test loss 0.828, col  test loss 164.102\n"
     ]
    },
    {
     "name": "stderr",
     "output_type": "stream",
     "text": [
      "Epoch 433: 272batch [00:39,  6.81batch/s, loss=267]\n"
     ]
    },
    {
     "name": "stdout",
     "output_type": "stream",
     "text": [
      "epoch 433: avg train loss 267.96, bar train loss 5.091, len train loss 0.015, col train loss 160.880\n"
     ]
    },
    {
     "name": "stderr",
     "output_type": "stream",
     "text": [
      "Epoch 434: 1batch [00:00,  7.09batch/s, loss=268]"
     ]
    },
    {
     "name": "stdout",
     "output_type": "stream",
     "text": [
      "epoch 433: avg test  loss 333.49, bar  test loss 4.138, len  test loss 0.830, col  test loss 164.089\n"
     ]
    },
    {
     "name": "stderr",
     "output_type": "stream",
     "text": [
      "Epoch 434: 272batch [00:39,  6.81batch/s, loss=268]\n"
     ]
    },
    {
     "name": "stdout",
     "output_type": "stream",
     "text": [
      "epoch 434: avg train loss 268.17, bar train loss 5.101, len train loss 0.015, col train loss 160.882\n"
     ]
    },
    {
     "name": "stderr",
     "output_type": "stream",
     "text": [
      "Epoch 435: 1batch [00:00,  6.85batch/s, loss=264]"
     ]
    },
    {
     "name": "stdout",
     "output_type": "stream",
     "text": [
      "epoch 434: avg test  loss 330.65, bar  test loss 4.138, len  test loss 0.803, col  test loss 164.101\n"
     ]
    },
    {
     "name": "stderr",
     "output_type": "stream",
     "text": [
      "Epoch 435: 272batch [00:40,  6.80batch/s, loss=265]\n"
     ]
    },
    {
     "name": "stdout",
     "output_type": "stream",
     "text": [
      "epoch 435: avg train loss 268.09, bar train loss 5.099, len train loss 0.015, col train loss 160.869\n",
      "epoch 435: avg test  loss 330.95, bar  test loss 4.134, len  test loss 0.804, col  test loss 164.118\n"
     ]
    },
    {
     "name": "stderr",
     "output_type": "stream",
     "text": [
      "Epoch 436: 272batch [00:39,  6.80batch/s, loss=262]\n"
     ]
    },
    {
     "name": "stdout",
     "output_type": "stream",
     "text": [
      "epoch 436: avg train loss 268.03, bar train loss 5.094, len train loss 0.015, col train loss 160.883\n"
     ]
    },
    {
     "name": "stderr",
     "output_type": "stream",
     "text": [
      "Epoch 437: 1batch [00:00,  6.99batch/s, loss=259]"
     ]
    },
    {
     "name": "stdout",
     "output_type": "stream",
     "text": [
      "epoch 436: avg test  loss 332.57, bar  test loss 4.160, len  test loss 0.817, col  test loss 164.110\n"
     ]
    },
    {
     "name": "stderr",
     "output_type": "stream",
     "text": [
      "Epoch 437: 272batch [00:40,  6.78batch/s, loss=294]\n"
     ]
    },
    {
     "name": "stdout",
     "output_type": "stream",
     "text": [
      "epoch 437: avg train loss 268.20, bar train loss 5.101, len train loss 0.016, col train loss 160.880\n"
     ]
    },
    {
     "name": "stderr",
     "output_type": "stream",
     "text": [
      "Epoch 438: 1batch [00:00,  6.80batch/s, loss=258]"
     ]
    },
    {
     "name": "stdout",
     "output_type": "stream",
     "text": [
      "epoch 437: avg test  loss 332.67, bar  test loss 4.202, len  test loss 0.809, col  test loss 164.118\n"
     ]
    },
    {
     "name": "stderr",
     "output_type": "stream",
     "text": [
      "Epoch 438: 272batch [00:40,  6.76batch/s, loss=272]\n"
     ]
    },
    {
     "name": "stdout",
     "output_type": "stream",
     "text": [
      "epoch 438: avg train loss 268.09, bar train loss 5.098, len train loss 0.015, col train loss 160.873\n"
     ]
    },
    {
     "name": "stderr",
     "output_type": "stream",
     "text": [
      "Epoch 439: 1batch [00:00,  6.99batch/s, loss=265]"
     ]
    },
    {
     "name": "stdout",
     "output_type": "stream",
     "text": [
      "epoch 438: avg test  loss 330.71, bar  test loss 4.196, len  test loss 0.790, col  test loss 164.098\n"
     ]
    },
    {
     "name": "stderr",
     "output_type": "stream",
     "text": [
      "Epoch 439: 272batch [00:40,  6.74batch/s, loss=286]\n"
     ]
    },
    {
     "name": "stdout",
     "output_type": "stream",
     "text": [
      "epoch 439: avg train loss 267.83, bar train loss 5.085, len train loss 0.015, col train loss 160.868\n"
     ]
    },
    {
     "name": "stderr",
     "output_type": "stream",
     "text": [
      "Epoch 440: 1batch [00:00,  6.76batch/s, loss=266]"
     ]
    },
    {
     "name": "stdout",
     "output_type": "stream",
     "text": [
      "epoch 439: avg test  loss 332.53, bar  test loss 4.158, len  test loss 0.814, col  test loss 164.107\n"
     ]
    },
    {
     "name": "stderr",
     "output_type": "stream",
     "text": [
      "Epoch 440: 272batch [00:40,  6.73batch/s, loss=275]\n"
     ]
    },
    {
     "name": "stdout",
     "output_type": "stream",
     "text": [
      "epoch 440: avg train loss 268.14, bar train loss 5.102, len train loss 0.015, col train loss 160.868\n",
      "epoch 440: avg test  loss 331.87, bar  test loss 4.124, len  test loss 0.812, col  test loss 164.078\n"
     ]
    },
    {
     "name": "stderr",
     "output_type": "stream",
     "text": [
      "Epoch 441: 272batch [00:40,  6.75batch/s, loss=288]\n"
     ]
    },
    {
     "name": "stdout",
     "output_type": "stream",
     "text": [
      "epoch 441: avg train loss 267.91, bar train loss 5.091, len train loss 0.015, col train loss 160.855\n"
     ]
    },
    {
     "name": "stderr",
     "output_type": "stream",
     "text": [
      "Epoch 442: 1batch [00:00,  6.90batch/s, loss=268]"
     ]
    },
    {
     "name": "stdout",
     "output_type": "stream",
     "text": [
      "epoch 441: avg test  loss 335.35, bar  test loss 4.135, len  test loss 0.848, col  test loss 164.101\n"
     ]
    },
    {
     "name": "stderr",
     "output_type": "stream",
     "text": [
      "Epoch 442: 272batch [00:40,  6.73batch/s, loss=280]\n"
     ]
    },
    {
     "name": "stdout",
     "output_type": "stream",
     "text": [
      "epoch 442: avg train loss 267.78, bar train loss 5.084, len train loss 0.015, col train loss 160.865\n"
     ]
    },
    {
     "name": "stderr",
     "output_type": "stream",
     "text": [
      "Epoch 443: 1batch [00:00,  6.80batch/s, loss=266]"
     ]
    },
    {
     "name": "stdout",
     "output_type": "stream",
     "text": [
      "epoch 442: avg test  loss 332.20, bar  test loss 4.145, len  test loss 0.814, col  test loss 164.085\n"
     ]
    },
    {
     "name": "stderr",
     "output_type": "stream",
     "text": [
      "Epoch 443: 272batch [00:40,  6.71batch/s, loss=268]\n"
     ]
    },
    {
     "name": "stdout",
     "output_type": "stream",
     "text": [
      "epoch 443: avg train loss 268.52, bar train loss 5.108, len train loss 0.016, col train loss 160.889\n"
     ]
    },
    {
     "name": "stderr",
     "output_type": "stream",
     "text": [
      "Epoch 444: 1batch [00:00,  7.04batch/s, loss=281]"
     ]
    },
    {
     "name": "stdout",
     "output_type": "stream",
     "text": [
      "epoch 443: avg test  loss 329.19, bar  test loss 4.171, len  test loss 0.776, col  test loss 164.089\n"
     ]
    },
    {
     "name": "stderr",
     "output_type": "stream",
     "text": [
      "Epoch 444: 272batch [00:40,  6.71batch/s, loss=267]\n"
     ]
    },
    {
     "name": "stdout",
     "output_type": "stream",
     "text": [
      "epoch 444: avg train loss 268.12, bar train loss 5.097, len train loss 0.015, col train loss 160.878\n"
     ]
    },
    {
     "name": "stderr",
     "output_type": "stream",
     "text": [
      "Epoch 445: 1batch [00:00,  6.67batch/s, loss=268]"
     ]
    },
    {
     "name": "stdout",
     "output_type": "stream",
     "text": [
      "epoch 444: avg test  loss 326.20, bar  test loss 4.163, len  test loss 0.751, col  test loss 164.129\n"
     ]
    },
    {
     "name": "stderr",
     "output_type": "stream",
     "text": [
      "Epoch 445: 272batch [00:40,  6.69batch/s, loss=269]\n"
     ]
    },
    {
     "name": "stdout",
     "output_type": "stream",
     "text": [
      "epoch 445: avg train loss 268.25, bar train loss 5.103, len train loss 0.016, col train loss 160.866\n",
      "epoch 445: avg test  loss 335.45, bar  test loss 4.217, len  test loss 0.834, col  test loss 164.111\n"
     ]
    },
    {
     "name": "stderr",
     "output_type": "stream",
     "text": [
      "Epoch 446: 272batch [00:40,  6.67batch/s, loss=245]\n"
     ]
    },
    {
     "name": "stdout",
     "output_type": "stream",
     "text": [
      "epoch 446: avg train loss 268.01, bar train loss 5.095, len train loss 0.015, col train loss 160.843\n"
     ]
    },
    {
     "name": "stderr",
     "output_type": "stream",
     "text": [
      "Epoch 447: 1batch [00:00,  6.85batch/s, loss=285]"
     ]
    },
    {
     "name": "stdout",
     "output_type": "stream",
     "text": [
      "epoch 446: avg test  loss 336.20, bar  test loss 4.179, len  test loss 0.847, col  test loss 164.119\n"
     ]
    },
    {
     "name": "stderr",
     "output_type": "stream",
     "text": [
      "Epoch 447: 272batch [00:40,  6.67batch/s, loss=261]\n"
     ]
    },
    {
     "name": "stdout",
     "output_type": "stream",
     "text": [
      "epoch 447: avg train loss 267.73, bar train loss 5.081, len train loss 0.015, col train loss 160.859\n"
     ]
    },
    {
     "name": "stderr",
     "output_type": "stream",
     "text": [
      "Epoch 448: 1batch [00:00,  6.85batch/s, loss=260]"
     ]
    },
    {
     "name": "stdout",
     "output_type": "stream",
     "text": [
      "epoch 447: avg test  loss 328.35, bar  test loss 4.121, len  test loss 0.780, col  test loss 164.098\n"
     ]
    },
    {
     "name": "stderr",
     "output_type": "stream",
     "text": [
      "Epoch 448: 272batch [00:40,  6.66batch/s, loss=271]\n"
     ]
    },
    {
     "name": "stdout",
     "output_type": "stream",
     "text": [
      "epoch 448: avg train loss 267.98, bar train loss 5.094, len train loss 0.015, col train loss 160.848\n"
     ]
    },
    {
     "name": "stderr",
     "output_type": "stream",
     "text": [
      "Epoch 449: 1batch [00:00,  6.62batch/s, loss=274]"
     ]
    },
    {
     "name": "stdout",
     "output_type": "stream",
     "text": [
      "epoch 448: avg test  loss 331.02, bar  test loss 4.150, len  test loss 0.803, col  test loss 164.103\n"
     ]
    },
    {
     "name": "stderr",
     "output_type": "stream",
     "text": [
      "Epoch 449: 272batch [00:40,  6.66batch/s, loss=261]\n"
     ]
    },
    {
     "name": "stdout",
     "output_type": "stream",
     "text": [
      "epoch 449: avg train loss 267.98, bar train loss 5.094, len train loss 0.015, col train loss 160.847\n"
     ]
    },
    {
     "name": "stderr",
     "output_type": "stream",
     "text": [
      "Epoch 450: 1batch [00:00,  6.80batch/s, loss=261]"
     ]
    },
    {
     "name": "stdout",
     "output_type": "stream",
     "text": [
      "epoch 449: avg test  loss 332.98, bar  test loss 4.194, len  test loss 0.812, col  test loss 164.091\n"
     ]
    },
    {
     "name": "stderr",
     "output_type": "stream",
     "text": [
      "Epoch 450: 272batch [00:40,  6.65batch/s, loss=263]\n"
     ]
    },
    {
     "name": "stdout",
     "output_type": "stream",
     "text": [
      "epoch 450: avg train loss 268.07, bar train loss 5.097, len train loss 0.015, col train loss 160.858\n",
      "epoch 450: avg test  loss 333.14, bar  test loss 4.213, len  test loss 0.810, col  test loss 164.109\n"
     ]
    },
    {
     "name": "stderr",
     "output_type": "stream",
     "text": [
      "Epoch 451: 272batch [00:40,  6.64batch/s, loss=295]\n"
     ]
    },
    {
     "name": "stdout",
     "output_type": "stream",
     "text": [
      "epoch 451: avg train loss 268.03, bar train loss 5.095, len train loss 0.015, col train loss 160.854\n"
     ]
    },
    {
     "name": "stderr",
     "output_type": "stream",
     "text": [
      "Epoch 452: 1batch [00:00,  6.85batch/s, loss=269]"
     ]
    },
    {
     "name": "stdout",
     "output_type": "stream",
     "text": [
      "epoch 451: avg test  loss 322.44, bar  test loss 4.177, len  test loss 0.710, col  test loss 164.100\n"
     ]
    },
    {
     "name": "stderr",
     "output_type": "stream",
     "text": [
      "Epoch 452: 272batch [00:41,  6.62batch/s, loss=260]\n"
     ]
    },
    {
     "name": "stdout",
     "output_type": "stream",
     "text": [
      "epoch 452: avg train loss 267.97, bar train loss 5.091, len train loss 0.016, col train loss 160.850\n"
     ]
    },
    {
     "name": "stderr",
     "output_type": "stream",
     "text": [
      "Epoch 453: 1batch [00:00,  6.71batch/s, loss=276]"
     ]
    },
    {
     "name": "stdout",
     "output_type": "stream",
     "text": [
      "epoch 452: avg test  loss 331.77, bar  test loss 4.211, len  test loss 0.797, col  test loss 164.095\n"
     ]
    },
    {
     "name": "stderr",
     "output_type": "stream",
     "text": [
      "Epoch 453: 272batch [00:41,  6.63batch/s, loss=264]\n"
     ]
    },
    {
     "name": "stdout",
     "output_type": "stream",
     "text": [
      "epoch 453: avg train loss 267.95, bar train loss 5.093, len train loss 0.015, col train loss 160.833\n"
     ]
    },
    {
     "name": "stderr",
     "output_type": "stream",
     "text": [
      "Epoch 454: 1batch [00:00,  6.71batch/s, loss=266]"
     ]
    },
    {
     "name": "stdout",
     "output_type": "stream",
     "text": [
      "epoch 453: avg test  loss 329.22, bar  test loss 4.120, len  test loss 0.785, col  test loss 164.079\n"
     ]
    },
    {
     "name": "stderr",
     "output_type": "stream",
     "text": [
      "Epoch 454: 272batch [00:41,  6.58batch/s, loss=267]\n"
     ]
    },
    {
     "name": "stdout",
     "output_type": "stream",
     "text": [
      "epoch 454: avg train loss 267.86, bar train loss 5.090, len train loss 0.015, col train loss 160.826\n"
     ]
    },
    {
     "name": "stderr",
     "output_type": "stream",
     "text": [
      "Epoch 455: 1batch [00:00,  6.80batch/s, loss=259]"
     ]
    },
    {
     "name": "stdout",
     "output_type": "stream",
     "text": [
      "epoch 454: avg test  loss 327.08, bar  test loss 4.160, len  test loss 0.761, col  test loss 164.101\n"
     ]
    },
    {
     "name": "stderr",
     "output_type": "stream",
     "text": [
      "Epoch 455: 272batch [00:41,  6.59batch/s, loss=274]\n"
     ]
    },
    {
     "name": "stdout",
     "output_type": "stream",
     "text": [
      "epoch 455: avg train loss 267.97, bar train loss 5.095, len train loss 0.015, col train loss 160.838\n",
      "epoch 455: avg test  loss 331.08, bar  test loss 4.173, len  test loss 0.796, col  test loss 164.097\n"
     ]
    },
    {
     "name": "stderr",
     "output_type": "stream",
     "text": [
      "Epoch 456: 272batch [00:41,  6.57batch/s, loss=257]\n"
     ]
    },
    {
     "name": "stdout",
     "output_type": "stream",
     "text": [
      "epoch 456: avg train loss 267.88, bar train loss 5.089, len train loss 0.015, col train loss 160.839\n"
     ]
    },
    {
     "name": "stderr",
     "output_type": "stream",
     "text": [
      "Epoch 457: 1batch [00:00,  6.99batch/s, loss=263]"
     ]
    },
    {
     "name": "stdout",
     "output_type": "stream",
     "text": [
      "epoch 456: avg test  loss 330.88, bar  test loss 4.159, len  test loss 0.799, col  test loss 164.102\n"
     ]
    },
    {
     "name": "stderr",
     "output_type": "stream",
     "text": [
      "Epoch 457: 272batch [00:41,  6.56batch/s, loss=259]\n"
     ]
    },
    {
     "name": "stdout",
     "output_type": "stream",
     "text": [
      "epoch 457: avg train loss 268.08, bar train loss 5.099, len train loss 0.015, col train loss 160.831\n"
     ]
    },
    {
     "name": "stderr",
     "output_type": "stream",
     "text": [
      "Epoch 458: 1batch [00:00,  6.99batch/s, loss=270]"
     ]
    },
    {
     "name": "stdout",
     "output_type": "stream",
     "text": [
      "epoch 457: avg test  loss 329.10, bar  test loss 4.144, len  test loss 0.782, col  test loss 164.101\n"
     ]
    },
    {
     "name": "stderr",
     "output_type": "stream",
     "text": [
      "Epoch 458: 272batch [00:41,  6.59batch/s, loss=274]\n"
     ]
    },
    {
     "name": "stdout",
     "output_type": "stream",
     "text": [
      "epoch 458: avg train loss 267.91, bar train loss 5.091, len train loss 0.015, col train loss 160.836\n"
     ]
    },
    {
     "name": "stderr",
     "output_type": "stream",
     "text": [
      "Epoch 459: 1batch [00:00,  6.90batch/s, loss=259]"
     ]
    },
    {
     "name": "stdout",
     "output_type": "stream",
     "text": [
      "epoch 458: avg test  loss 324.91, bar  test loss 4.157, len  test loss 0.740, col  test loss 164.100\n"
     ]
    },
    {
     "name": "stderr",
     "output_type": "stream",
     "text": [
      "Epoch 459: 272batch [00:41,  6.58batch/s, loss=260]\n"
     ]
    },
    {
     "name": "stdout",
     "output_type": "stream",
     "text": [
      "epoch 459: avg train loss 267.64, bar train loss 5.079, len train loss 0.015, col train loss 160.829\n"
     ]
    },
    {
     "name": "stderr",
     "output_type": "stream",
     "text": [
      "Epoch 460: 1batch [00:00,  6.85batch/s, loss=265]"
     ]
    },
    {
     "name": "stdout",
     "output_type": "stream",
     "text": [
      "epoch 459: avg test  loss 325.45, bar  test loss 4.158, len  test loss 0.746, col  test loss 164.106\n"
     ]
    },
    {
     "name": "stderr",
     "output_type": "stream",
     "text": [
      "Epoch 460: 272batch [00:41,  6.55batch/s, loss=274]\n"
     ]
    },
    {
     "name": "stdout",
     "output_type": "stream",
     "text": [
      "epoch 460: avg train loss 267.84, bar train loss 5.089, len train loss 0.015, col train loss 160.812\n",
      "epoch 460: avg test  loss 330.63, bar  test loss 4.146, len  test loss 0.800, col  test loss 164.083\n"
     ]
    },
    {
     "name": "stderr",
     "output_type": "stream",
     "text": [
      "Epoch 461: 272batch [00:41,  6.59batch/s, loss=248]\n"
     ]
    },
    {
     "name": "stdout",
     "output_type": "stream",
     "text": [
      "epoch 461: avg train loss 267.63, bar train loss 5.077, len train loss 0.015, col train loss 160.811\n"
     ]
    },
    {
     "name": "stderr",
     "output_type": "stream",
     "text": [
      "Epoch 462: 1batch [00:00,  7.14batch/s, loss=257]"
     ]
    },
    {
     "name": "stdout",
     "output_type": "stream",
     "text": [
      "epoch 461: avg test  loss 330.08, bar  test loss 4.124, len  test loss 0.798, col  test loss 164.074\n"
     ]
    },
    {
     "name": "stderr",
     "output_type": "stream",
     "text": [
      "Epoch 462: 272batch [00:40,  6.68batch/s, loss=269]\n"
     ]
    },
    {
     "name": "stdout",
     "output_type": "stream",
     "text": [
      "epoch 462: avg train loss 267.80, bar train loss 5.087, len train loss 0.015, col train loss 160.821\n"
     ]
    },
    {
     "name": "stderr",
     "output_type": "stream",
     "text": [
      "Epoch 463: 1batch [00:00,  6.85batch/s, loss=267]"
     ]
    },
    {
     "name": "stdout",
     "output_type": "stream",
     "text": [
      "epoch 462: avg test  loss 330.64, bar  test loss 4.207, len  test loss 0.787, col  test loss 164.112\n"
     ]
    },
    {
     "name": "stderr",
     "output_type": "stream",
     "text": [
      "Epoch 463: 272batch [00:40,  6.67batch/s, loss=265]\n"
     ]
    },
    {
     "name": "stdout",
     "output_type": "stream",
     "text": [
      "epoch 463: avg train loss 267.53, bar train loss 5.074, len train loss 0.015, col train loss 160.815\n"
     ]
    },
    {
     "name": "stderr",
     "output_type": "stream",
     "text": [
      "Epoch 464: 1batch [00:00,  7.09batch/s, loss=258]"
     ]
    },
    {
     "name": "stdout",
     "output_type": "stream",
     "text": [
      "epoch 463: avg test  loss 336.25, bar  test loss 4.214, len  test loss 0.840, col  test loss 164.127\n"
     ]
    },
    {
     "name": "stderr",
     "output_type": "stream",
     "text": [
      "Epoch 464: 272batch [00:40,  6.65batch/s, loss=285]\n"
     ]
    },
    {
     "name": "stdout",
     "output_type": "stream",
     "text": [
      "epoch 464: avg train loss 267.87, bar train loss 5.092, len train loss 0.015, col train loss 160.822\n"
     ]
    },
    {
     "name": "stderr",
     "output_type": "stream",
     "text": [
      "Epoch 465: 1batch [00:00,  6.76batch/s, loss=283]"
     ]
    },
    {
     "name": "stdout",
     "output_type": "stream",
     "text": [
      "epoch 464: avg test  loss 325.54, bar  test loss 4.156, len  test loss 0.744, col  test loss 164.086\n"
     ]
    },
    {
     "name": "stderr",
     "output_type": "stream",
     "text": [
      "Epoch 465: 272batch [00:41,  6.63batch/s, loss=257]\n"
     ]
    },
    {
     "name": "stdout",
     "output_type": "stream",
     "text": [
      "epoch 465: avg train loss 267.83, bar train loss 5.088, len train loss 0.015, col train loss 160.816\n",
      "epoch 465: avg test  loss 326.33, bar  test loss 4.164, len  test loss 0.753, col  test loss 164.100\n"
     ]
    },
    {
     "name": "stderr",
     "output_type": "stream",
     "text": [
      "Epoch 466: 272batch [00:41,  6.62batch/s, loss=292]\n"
     ]
    },
    {
     "name": "stdout",
     "output_type": "stream",
     "text": [
      "epoch 466: avg train loss 267.89, bar train loss 5.090, len train loss 0.015, col train loss 160.818\n"
     ]
    },
    {
     "name": "stderr",
     "output_type": "stream",
     "text": [
      "Epoch 467: 1batch [00:00,  6.80batch/s, loss=274]"
     ]
    },
    {
     "name": "stdout",
     "output_type": "stream",
     "text": [
      "epoch 466: avg test  loss 331.22, bar  test loss 4.132, len  test loss 0.807, col  test loss 164.091\n"
     ]
    },
    {
     "name": "stderr",
     "output_type": "stream",
     "text": [
      "Epoch 467: 272batch [00:41,  6.63batch/s, loss=292]\n"
     ]
    },
    {
     "name": "stdout",
     "output_type": "stream",
     "text": [
      "epoch 467: avg train loss 267.73, bar train loss 5.085, len train loss 0.015, col train loss 160.805\n"
     ]
    },
    {
     "name": "stderr",
     "output_type": "stream",
     "text": [
      "Epoch 468: 1batch [00:00,  7.04batch/s, loss=276]"
     ]
    },
    {
     "name": "stdout",
     "output_type": "stream",
     "text": [
      "epoch 467: avg test  loss 332.13, bar  test loss 4.216, len  test loss 0.799, col  test loss 164.082\n"
     ]
    },
    {
     "name": "stderr",
     "output_type": "stream",
     "text": [
      "Epoch 468: 272batch [00:41,  6.55batch/s, loss=259]\n"
     ]
    },
    {
     "name": "stdout",
     "output_type": "stream",
     "text": [
      "epoch 468: avg train loss 267.85, bar train loss 5.090, len train loss 0.015, col train loss 160.807\n"
     ]
    },
    {
     "name": "stderr",
     "output_type": "stream",
     "text": [
      "Epoch 469: 1batch [00:00,  7.04batch/s, loss=262]"
     ]
    },
    {
     "name": "stdout",
     "output_type": "stream",
     "text": [
      "epoch 468: avg test  loss 326.00, bar  test loss 4.166, len  test loss 0.751, col  test loss 164.074\n"
     ]
    },
    {
     "name": "stderr",
     "output_type": "stream",
     "text": [
      "Epoch 469: 272batch [00:41,  6.63batch/s, loss=268]\n"
     ]
    },
    {
     "name": "stdout",
     "output_type": "stream",
     "text": [
      "epoch 469: avg train loss 267.91, bar train loss 5.093, len train loss 0.015, col train loss 160.802\n"
     ]
    },
    {
     "name": "stderr",
     "output_type": "stream",
     "text": [
      "Epoch 470: 1batch [00:00,  6.90batch/s, loss=274]"
     ]
    },
    {
     "name": "stdout",
     "output_type": "stream",
     "text": [
      "epoch 469: avg test  loss 333.68, bar  test loss 4.188, len  test loss 0.823, col  test loss 164.104\n"
     ]
    },
    {
     "name": "stderr",
     "output_type": "stream",
     "text": [
      "Epoch 470: 272batch [00:41,  6.54batch/s, loss=295]\n"
     ]
    },
    {
     "name": "stdout",
     "output_type": "stream",
     "text": [
      "epoch 470: avg train loss 267.86, bar train loss 5.089, len train loss 0.015, col train loss 160.806\n",
      "epoch 470: avg test  loss 327.15, bar  test loss 4.167, len  test loss 0.760, col  test loss 164.084\n"
     ]
    },
    {
     "name": "stderr",
     "output_type": "stream",
     "text": [
      "Epoch 471: 272batch [00:41,  6.63batch/s, loss=271]\n"
     ]
    },
    {
     "name": "stdout",
     "output_type": "stream",
     "text": [
      "epoch 471: avg train loss 267.76, bar train loss 5.087, len train loss 0.015, col train loss 160.810\n"
     ]
    },
    {
     "name": "stderr",
     "output_type": "stream",
     "text": [
      "Epoch 472: 1batch [00:00,  6.62batch/s, loss=272]"
     ]
    },
    {
     "name": "stdout",
     "output_type": "stream",
     "text": [
      "epoch 471: avg test  loss 327.31, bar  test loss 4.164, len  test loss 0.761, col  test loss 164.075\n"
     ]
    },
    {
     "name": "stderr",
     "output_type": "stream",
     "text": [
      "Epoch 472: 272batch [00:41,  6.62batch/s, loss=274]\n"
     ]
    },
    {
     "name": "stdout",
     "output_type": "stream",
     "text": [
      "epoch 472: avg train loss 268.03, bar train loss 5.100, len train loss 0.015, col train loss 160.799\n"
     ]
    },
    {
     "name": "stderr",
     "output_type": "stream",
     "text": [
      "Epoch 473: 1batch [00:00,  6.67batch/s, loss=266]"
     ]
    },
    {
     "name": "stdout",
     "output_type": "stream",
     "text": [
      "epoch 472: avg test  loss 329.03, bar  test loss 4.148, len  test loss 0.781, col  test loss 164.095\n"
     ]
    },
    {
     "name": "stderr",
     "output_type": "stream",
     "text": [
      "Epoch 473: 272batch [00:41,  6.62batch/s, loss=269]\n"
     ]
    },
    {
     "name": "stdout",
     "output_type": "stream",
     "text": [
      "epoch 473: avg train loss 267.90, bar train loss 5.091, len train loss 0.015, col train loss 160.802\n"
     ]
    },
    {
     "name": "stderr",
     "output_type": "stream",
     "text": [
      "Epoch 474: 0batch [00:00, ?batch/s, loss=261]"
     ]
    },
    {
     "name": "stdout",
     "output_type": "stream",
     "text": [
      "epoch 473: avg test  loss 326.51, bar  test loss 4.166, len  test loss 0.754, col  test loss 164.086\n"
     ]
    },
    {
     "name": "stderr",
     "output_type": "stream",
     "text": [
      "Epoch 474: 272batch [00:41,  6.59batch/s, loss=270]\n"
     ]
    },
    {
     "name": "stdout",
     "output_type": "stream",
     "text": [
      "epoch 474: avg train loss 267.61, bar train loss 5.078, len train loss 0.015, col train loss 160.795\n"
     ]
    },
    {
     "name": "stderr",
     "output_type": "stream",
     "text": [
      "\r",
      "Epoch 475: 0batch [00:00, ?batch/s]"
     ]
    },
    {
     "name": "stdout",
     "output_type": "stream",
     "text": [
      "epoch 474: avg test  loss 325.65, bar  test loss 4.143, len  test loss 0.749, col  test loss 164.082\n"
     ]
    },
    {
     "name": "stderr",
     "output_type": "stream",
     "text": [
      "Epoch 475: 272batch [00:41,  6.58batch/s, loss=299]\n"
     ]
    },
    {
     "name": "stdout",
     "output_type": "stream",
     "text": [
      "epoch 475: avg train loss 267.71, bar train loss 5.084, len train loss 0.015, col train loss 160.789\n",
      "epoch 475: avg test  loss 331.44, bar  test loss 4.158, len  test loss 0.806, col  test loss 164.115\n"
     ]
    },
    {
     "name": "stderr",
     "output_type": "stream",
     "text": [
      "Epoch 476: 272batch [00:41,  6.58batch/s, loss=260]\n"
     ]
    },
    {
     "name": "stdout",
     "output_type": "stream",
     "text": [
      "epoch 476: avg train loss 267.98, bar train loss 5.096, len train loss 0.015, col train loss 160.793\n"
     ]
    },
    {
     "name": "stderr",
     "output_type": "stream",
     "text": [
      "Epoch 477: 0batch [00:00, ?batch/s, loss=255]"
     ]
    },
    {
     "name": "stdout",
     "output_type": "stream",
     "text": [
      "epoch 476: avg test  loss 330.49, bar  test loss 4.140, len  test loss 0.799, col  test loss 164.101\n"
     ]
    },
    {
     "name": "stderr",
     "output_type": "stream",
     "text": [
      "Epoch 477: 272batch [00:41,  6.55batch/s, loss=283]\n"
     ]
    },
    {
     "name": "stdout",
     "output_type": "stream",
     "text": [
      "epoch 477: avg train loss 268.05, bar train loss 5.102, len train loss 0.015, col train loss 160.781\n"
     ]
    },
    {
     "name": "stderr",
     "output_type": "stream",
     "text": [
      "Epoch 478: 1batch [00:00,  6.29batch/s, loss=275]"
     ]
    },
    {
     "name": "stdout",
     "output_type": "stream",
     "text": [
      "epoch 477: avg test  loss 325.01, bar  test loss 4.144, len  test loss 0.744, col  test loss 164.102\n"
     ]
    },
    {
     "name": "stderr",
     "output_type": "stream",
     "text": [
      "Epoch 478: 272batch [00:41,  6.57batch/s, loss=284]\n"
     ]
    },
    {
     "name": "stdout",
     "output_type": "stream",
     "text": [
      "epoch 478: avg train loss 267.54, bar train loss 5.078, len train loss 0.015, col train loss 160.781\n"
     ]
    },
    {
     "name": "stderr",
     "output_type": "stream",
     "text": [
      "Epoch 479: 1batch [00:00,  7.04batch/s, loss=270]"
     ]
    },
    {
     "name": "stdout",
     "output_type": "stream",
     "text": [
      "epoch 478: avg test  loss 323.27, bar  test loss 4.125, len  test loss 0.729, col  test loss 164.089\n"
     ]
    },
    {
     "name": "stderr",
     "output_type": "stream",
     "text": [
      "Epoch 479: 272batch [00:41,  6.55batch/s, loss=303]\n"
     ]
    },
    {
     "name": "stdout",
     "output_type": "stream",
     "text": [
      "epoch 479: avg train loss 268.02, bar train loss 5.100, len train loss 0.015, col train loss 160.784\n"
     ]
    },
    {
     "name": "stderr",
     "output_type": "stream",
     "text": [
      "Epoch 480: 1batch [00:00,  6.49batch/s, loss=254]"
     ]
    },
    {
     "name": "stdout",
     "output_type": "stream",
     "text": [
      "epoch 479: avg test  loss 333.43, bar  test loss 4.184, len  test loss 0.821, col  test loss 164.095\n"
     ]
    },
    {
     "name": "stderr",
     "output_type": "stream",
     "text": [
      "Epoch 480: 272batch [00:41,  6.54batch/s, loss=257]\n"
     ]
    },
    {
     "name": "stdout",
     "output_type": "stream",
     "text": [
      "epoch 480: avg train loss 267.91, bar train loss 5.094, len train loss 0.015, col train loss 160.788\n",
      "epoch 480: avg test  loss 323.94, bar  test loss 4.178, len  test loss 0.723, col  test loss 164.107\n"
     ]
    },
    {
     "name": "stderr",
     "output_type": "stream",
     "text": [
      "Epoch 481: 272batch [00:41,  6.51batch/s, loss=275]\n"
     ]
    },
    {
     "name": "stdout",
     "output_type": "stream",
     "text": [
      "epoch 481: avg train loss 267.64, bar train loss 5.080, len train loss 0.015, col train loss 160.773\n"
     ]
    },
    {
     "name": "stderr",
     "output_type": "stream",
     "text": [
      "Epoch 482: 1batch [00:00,  6.90batch/s, loss=286]"
     ]
    },
    {
     "name": "stdout",
     "output_type": "stream",
     "text": [
      "epoch 481: avg test  loss 326.43, bar  test loss 4.092, len  test loss 0.764, col  test loss 164.092\n"
     ]
    },
    {
     "name": "stderr",
     "output_type": "stream",
     "text": [
      "Epoch 482: 272batch [00:41,  6.50batch/s, loss=301]\n"
     ]
    },
    {
     "name": "stdout",
     "output_type": "stream",
     "text": [
      "epoch 482: avg train loss 267.85, bar train loss 5.091, len train loss 0.015, col train loss 160.785\n"
     ]
    },
    {
     "name": "stderr",
     "output_type": "stream",
     "text": [
      "Epoch 483: 1batch [00:00,  6.76batch/s, loss=274]"
     ]
    },
    {
     "name": "stdout",
     "output_type": "stream",
     "text": [
      "epoch 482: avg test  loss 329.01, bar  test loss 4.190, len  test loss 0.776, col  test loss 164.097\n"
     ]
    },
    {
     "name": "stderr",
     "output_type": "stream",
     "text": [
      "Epoch 483: 272batch [00:41,  6.50batch/s, loss=290]\n"
     ]
    },
    {
     "name": "stdout",
     "output_type": "stream",
     "text": [
      "epoch 483: avg train loss 267.62, bar train loss 5.078, len train loss 0.015, col train loss 160.772\n"
     ]
    },
    {
     "name": "stderr",
     "output_type": "stream",
     "text": [
      "Epoch 484: 1batch [00:00,  6.25batch/s, loss=263]"
     ]
    },
    {
     "name": "stdout",
     "output_type": "stream",
     "text": [
      "epoch 483: avg test  loss 324.33, bar  test loss 4.162, len  test loss 0.734, col  test loss 164.103\n"
     ]
    },
    {
     "name": "stderr",
     "output_type": "stream",
     "text": [
      "Epoch 484: 272batch [00:42,  6.47batch/s, loss=278]\n"
     ]
    },
    {
     "name": "stdout",
     "output_type": "stream",
     "text": [
      "epoch 484: avg train loss 267.90, bar train loss 5.093, len train loss 0.015, col train loss 160.781\n"
     ]
    },
    {
     "name": "stderr",
     "output_type": "stream",
     "text": [
      "Epoch 485: 1batch [00:00,  6.67batch/s, loss=261]"
     ]
    },
    {
     "name": "stdout",
     "output_type": "stream",
     "text": [
      "epoch 484: avg test  loss 328.91, bar  test loss 4.144, len  test loss 0.782, col  test loss 164.096\n"
     ]
    },
    {
     "name": "stderr",
     "output_type": "stream",
     "text": [
      "Epoch 485: 272batch [00:42,  6.47batch/s, loss=269]\n"
     ]
    },
    {
     "name": "stdout",
     "output_type": "stream",
     "text": [
      "epoch 485: avg train loss 267.83, bar train loss 5.091, len train loss 0.015, col train loss 160.769\n",
      "epoch 485: avg test  loss 319.47, bar  test loss 4.139, len  test loss 0.689, col  test loss 164.108\n"
     ]
    },
    {
     "name": "stderr",
     "output_type": "stream",
     "text": [
      "Epoch 486: 272batch [00:42,  6.47batch/s, loss=282]\n"
     ]
    },
    {
     "name": "stdout",
     "output_type": "stream",
     "text": [
      "epoch 486: avg train loss 267.69, bar train loss 5.086, len train loss 0.015, col train loss 160.767\n"
     ]
    },
    {
     "name": "stderr",
     "output_type": "stream",
     "text": [
      "Epoch 487: 1batch [00:00,  6.85batch/s, loss=273]"
     ]
    },
    {
     "name": "stdout",
     "output_type": "stream",
     "text": [
      "epoch 486: avg test  loss 325.93, bar  test loss 4.189, len  test loss 0.743, col  test loss 164.103\n"
     ]
    },
    {
     "name": "stderr",
     "output_type": "stream",
     "text": [
      "Epoch 487: 272batch [00:42,  6.45batch/s, loss=260]\n"
     ]
    },
    {
     "name": "stdout",
     "output_type": "stream",
     "text": [
      "epoch 487: avg train loss 267.43, bar train loss 5.073, len train loss 0.015, col train loss 160.771\n"
     ]
    },
    {
     "name": "stderr",
     "output_type": "stream",
     "text": [
      "Epoch 488: 0batch [00:00, ?batch/s, loss=275]"
     ]
    },
    {
     "name": "stdout",
     "output_type": "stream",
     "text": [
      "epoch 487: avg test  loss 323.56, bar  test loss 4.204, len  test loss 0.718, col  test loss 164.088\n"
     ]
    },
    {
     "name": "stderr",
     "output_type": "stream",
     "text": [
      "Epoch 488: 272batch [00:42,  6.44batch/s, loss=247]\n"
     ]
    },
    {
     "name": "stdout",
     "output_type": "stream",
     "text": [
      "epoch 488: avg train loss 267.62, bar train loss 5.083, len train loss 0.015, col train loss 160.760\n"
     ]
    },
    {
     "name": "stderr",
     "output_type": "stream",
     "text": [
      "Epoch 489: 0batch [00:00, ?batch/s, loss=259]"
     ]
    },
    {
     "name": "stdout",
     "output_type": "stream",
     "text": [
      "epoch 488: avg test  loss 325.74, bar  test loss 4.166, len  test loss 0.746, col  test loss 164.113\n"
     ]
    },
    {
     "name": "stderr",
     "output_type": "stream",
     "text": [
      "Epoch 489: 272batch [00:42,  6.44batch/s, loss=272]\n"
     ]
    },
    {
     "name": "stdout",
     "output_type": "stream",
     "text": [
      "epoch 489: avg train loss 267.77, bar train loss 5.091, len train loss 0.015, col train loss 160.760\n"
     ]
    },
    {
     "name": "stderr",
     "output_type": "stream",
     "text": [
      "Epoch 490: 1batch [00:00,  6.67batch/s, loss=268]"
     ]
    },
    {
     "name": "stdout",
     "output_type": "stream",
     "text": [
      "epoch 489: avg test  loss 324.04, bar  test loss 4.099, len  test loss 0.743, col  test loss 164.093\n"
     ]
    },
    {
     "name": "stderr",
     "output_type": "stream",
     "text": [
      "Epoch 490: 272batch [00:42,  6.43batch/s, loss=276]\n"
     ]
    },
    {
     "name": "stdout",
     "output_type": "stream",
     "text": [
      "epoch 490: avg train loss 267.69, bar train loss 5.086, len train loss 0.015, col train loss 160.764\n",
      "epoch 490: avg test  loss 323.18, bar  test loss 4.123, len  test loss 0.729, col  test loss 164.105\n"
     ]
    },
    {
     "name": "stderr",
     "output_type": "stream",
     "text": [
      "Epoch 491: 272batch [00:42,  6.43batch/s, loss=267]\n"
     ]
    },
    {
     "name": "stdout",
     "output_type": "stream",
     "text": [
      "epoch 491: avg train loss 267.86, bar train loss 5.093, len train loss 0.015, col train loss 160.762\n"
     ]
    },
    {
     "name": "stderr",
     "output_type": "stream",
     "text": [
      "Epoch 492: 0batch [00:00, ?batch/s, loss=261]"
     ]
    },
    {
     "name": "stdout",
     "output_type": "stream",
     "text": [
      "epoch 491: avg test  loss 322.69, bar  test loss 4.143, len  test loss 0.719, col  test loss 164.086\n"
     ]
    },
    {
     "name": "stderr",
     "output_type": "stream",
     "text": [
      "Epoch 492: 272batch [00:42,  6.41batch/s, loss=281]\n"
     ]
    },
    {
     "name": "stdout",
     "output_type": "stream",
     "text": [
      "epoch 492: avg train loss 267.64, bar train loss 5.084, len train loss 0.015, col train loss 160.749\n"
     ]
    },
    {
     "name": "stderr",
     "output_type": "stream",
     "text": [
      "Epoch 493: 1batch [00:00,  6.62batch/s, loss=267]"
     ]
    },
    {
     "name": "stdout",
     "output_type": "stream",
     "text": [
      "epoch 492: avg test  loss 324.05, bar  test loss 4.090, len  test loss 0.746, col  test loss 164.099\n"
     ]
    },
    {
     "name": "stderr",
     "output_type": "stream",
     "text": [
      "Epoch 493: 272batch [00:42,  6.40batch/s, loss=303]\n"
     ]
    },
    {
     "name": "stdout",
     "output_type": "stream",
     "text": [
      "epoch 493: avg train loss 267.67, bar train loss 5.084, len train loss 0.015, col train loss 160.752\n"
     ]
    },
    {
     "name": "stderr",
     "output_type": "stream",
     "text": [
      "Epoch 494: 1batch [00:00,  6.49batch/s, loss=263]"
     ]
    },
    {
     "name": "stdout",
     "output_type": "stream",
     "text": [
      "epoch 493: avg test  loss 324.09, bar  test loss 4.104, len  test loss 0.742, col  test loss 164.112\n"
     ]
    },
    {
     "name": "stderr",
     "output_type": "stream",
     "text": [
      "Epoch 494: 272batch [00:42,  6.39batch/s, loss=268]\n"
     ]
    },
    {
     "name": "stdout",
     "output_type": "stream",
     "text": [
      "epoch 494: avg train loss 267.58, bar train loss 5.079, len train loss 0.015, col train loss 160.754\n"
     ]
    },
    {
     "name": "stderr",
     "output_type": "stream",
     "text": [
      "Epoch 495: 1batch [00:00,  6.58batch/s, loss=271]"
     ]
    },
    {
     "name": "stdout",
     "output_type": "stream",
     "text": [
      "epoch 494: avg test  loss 325.39, bar  test loss 4.196, len  test loss 0.735, col  test loss 164.100\n"
     ]
    },
    {
     "name": "stderr",
     "output_type": "stream",
     "text": [
      "Epoch 495: 272batch [00:42,  6.38batch/s, loss=299]\n"
     ]
    },
    {
     "name": "stdout",
     "output_type": "stream",
     "text": [
      "epoch 495: avg train loss 267.53, bar train loss 5.080, len train loss 0.015, col train loss 160.758\n",
      "epoch 495: avg test  loss 327.86, bar  test loss 4.173, len  test loss 0.766, col  test loss 164.099\n"
     ]
    },
    {
     "name": "stderr",
     "output_type": "stream",
     "text": [
      "Epoch 496: 272batch [00:42,  6.37batch/s, loss=257]\n"
     ]
    },
    {
     "name": "stdout",
     "output_type": "stream",
     "text": [
      "epoch 496: avg train loss 267.90, bar train loss 5.094, len train loss 0.015, col train loss 160.775\n"
     ]
    },
    {
     "name": "stderr",
     "output_type": "stream",
     "text": [
      "Epoch 497: 1batch [00:00,  6.58batch/s, loss=282]"
     ]
    },
    {
     "name": "stdout",
     "output_type": "stream",
     "text": [
      "epoch 496: avg test  loss 320.61, bar  test loss 4.223, len  test loss 0.684, col  test loss 164.103\n"
     ]
    },
    {
     "name": "stderr",
     "output_type": "stream",
     "text": [
      "Epoch 497: 272batch [00:42,  6.37batch/s, loss=262]\n"
     ]
    },
    {
     "name": "stdout",
     "output_type": "stream",
     "text": [
      "epoch 497: avg train loss 267.53, bar train loss 5.077, len train loss 0.015, col train loss 160.752\n"
     ]
    },
    {
     "name": "stderr",
     "output_type": "stream",
     "text": [
      "Epoch 498: 0batch [00:00, ?batch/s, loss=279]"
     ]
    },
    {
     "name": "stdout",
     "output_type": "stream",
     "text": [
      "epoch 497: avg test  loss 325.91, bar  test loss 4.141, len  test loss 0.755, col  test loss 164.112\n"
     ]
    },
    {
     "name": "stderr",
     "output_type": "stream",
     "text": [
      "Epoch 498: 272batch [00:42,  6.37batch/s, loss=283]\n"
     ]
    },
    {
     "name": "stdout",
     "output_type": "stream",
     "text": [
      "epoch 498: avg train loss 267.49, bar train loss 5.077, len train loss 0.015, col train loss 160.740\n"
     ]
    },
    {
     "name": "stderr",
     "output_type": "stream",
     "text": [
      "Epoch 499: 1batch [00:00,  6.94batch/s, loss=266]"
     ]
    },
    {
     "name": "stdout",
     "output_type": "stream",
     "text": [
      "epoch 498: avg test  loss 322.14, bar  test loss 4.115, len  test loss 0.720, col  test loss 164.110\n"
     ]
    },
    {
     "name": "stderr",
     "output_type": "stream",
     "text": [
      "Epoch 499: 272batch [00:42,  6.34batch/s, loss=266]\n"
     ]
    },
    {
     "name": "stdout",
     "output_type": "stream",
     "text": [
      "epoch 499: avg train loss 267.86, bar train loss 5.092, len train loss 0.015, col train loss 160.740\n"
     ]
    },
    {
     "name": "stderr",
     "output_type": "stream",
     "text": [
      "Epoch 500: 1batch [00:00,  6.94batch/s, loss=268]"
     ]
    },
    {
     "name": "stdout",
     "output_type": "stream",
     "text": [
      "epoch 499: avg test  loss 325.19, bar  test loss 4.157, len  test loss 0.741, col  test loss 164.097\n"
     ]
    },
    {
     "name": "stderr",
     "output_type": "stream",
     "text": [
      "Epoch 500: 272batch [00:42,  6.35batch/s, loss=277]\n"
     ]
    },
    {
     "name": "stdout",
     "output_type": "stream",
     "text": [
      "epoch 500: avg train loss 267.55, bar train loss 5.078, len train loss 0.015, col train loss 160.740\n",
      "epoch 500: avg test  loss 323.71, bar  test loss 4.147, len  test loss 0.730, col  test loss 164.101\n"
     ]
    },
    {
     "name": "stderr",
     "output_type": "stream",
     "text": [
      "Epoch 501: 272batch [00:42,  6.34batch/s, loss=248]\n"
     ]
    },
    {
     "name": "stdout",
     "output_type": "stream",
     "text": [
      "epoch 501: avg train loss 267.44, bar train loss 5.074, len train loss 0.015, col train loss 160.755\n"
     ]
    },
    {
     "name": "stderr",
     "output_type": "stream",
     "text": [
      "Epoch 502: 0batch [00:00, ?batch/s, loss=263]"
     ]
    },
    {
     "name": "stdout",
     "output_type": "stream",
     "text": [
      "epoch 501: avg test  loss 324.11, bar  test loss 4.155, len  test loss 0.731, col  test loss 164.092\n"
     ]
    },
    {
     "name": "stderr",
     "output_type": "stream",
     "text": [
      "Epoch 502: 272batch [00:42,  6.33batch/s, loss=293]\n"
     ]
    },
    {
     "name": "stdout",
     "output_type": "stream",
     "text": [
      "epoch 502: avg train loss 267.58, bar train loss 5.083, len train loss 0.015, col train loss 160.736\n"
     ]
    },
    {
     "name": "stderr",
     "output_type": "stream",
     "text": [
      "Epoch 503: 0batch [00:00, ?batch/s, loss=266]"
     ]
    },
    {
     "name": "stdout",
     "output_type": "stream",
     "text": [
      "epoch 502: avg test  loss 319.94, bar  test loss 4.133, len  test loss 0.694, col  test loss 164.094\n"
     ]
    },
    {
     "name": "stderr",
     "output_type": "stream",
     "text": [
      "Epoch 503: 272batch [00:42,  6.33batch/s, loss=268]\n"
     ]
    },
    {
     "name": "stdout",
     "output_type": "stream",
     "text": [
      "epoch 503: avg train loss 267.27, bar train loss 5.067, len train loss 0.015, col train loss 160.751\n"
     ]
    },
    {
     "name": "stderr",
     "output_type": "stream",
     "text": [
      "Epoch 504: 1batch [00:00,  6.90batch/s, loss=267]"
     ]
    },
    {
     "name": "stdout",
     "output_type": "stream",
     "text": [
      "epoch 503: avg test  loss 320.36, bar  test loss 4.098, len  test loss 0.706, col  test loss 164.087\n"
     ]
    },
    {
     "name": "stderr",
     "output_type": "stream",
     "text": [
      "Epoch 504: 272batch [00:43,  6.31batch/s, loss=294]\n"
     ]
    },
    {
     "name": "stdout",
     "output_type": "stream",
     "text": [
      "epoch 504: avg train loss 267.51, bar train loss 5.077, len train loss 0.015, col train loss 160.731\n"
     ]
    },
    {
     "name": "stderr",
     "output_type": "stream",
     "text": [
      "Epoch 505: 1batch [00:00,  6.67batch/s, loss=277]"
     ]
    },
    {
     "name": "stdout",
     "output_type": "stream",
     "text": [
      "epoch 504: avg test  loss 325.73, bar  test loss 4.160, len  test loss 0.747, col  test loss 164.096\n"
     ]
    },
    {
     "name": "stderr",
     "output_type": "stream",
     "text": [
      "Epoch 505: 272batch [00:43,  6.31batch/s, loss=256]\n"
     ]
    },
    {
     "name": "stdout",
     "output_type": "stream",
     "text": [
      "epoch 505: avg train loss 267.48, bar train loss 5.078, len train loss 0.015, col train loss 160.737\n",
      "epoch 505: avg test  loss 324.23, bar  test loss 4.177, len  test loss 0.729, col  test loss 164.103\n"
     ]
    },
    {
     "name": "stderr",
     "output_type": "stream",
     "text": [
      "Epoch 506: 272batch [00:43,  6.29batch/s, loss=272]\n"
     ]
    },
    {
     "name": "stdout",
     "output_type": "stream",
     "text": [
      "epoch 506: avg train loss 267.77, bar train loss 5.091, len train loss 0.015, col train loss 160.738\n"
     ]
    },
    {
     "name": "stderr",
     "output_type": "stream",
     "text": [
      "Epoch 507: 0batch [00:00, ?batch/s, loss=271]"
     ]
    },
    {
     "name": "stdout",
     "output_type": "stream",
     "text": [
      "epoch 506: avg test  loss 319.91, bar  test loss 4.135, len  test loss 0.692, col  test loss 164.091\n"
     ]
    },
    {
     "name": "stderr",
     "output_type": "stream",
     "text": [
      "Epoch 507: 272batch [00:43,  6.30batch/s, loss=295]\n"
     ]
    },
    {
     "name": "stdout",
     "output_type": "stream",
     "text": [
      "epoch 507: avg train loss 267.63, bar train loss 5.083, len train loss 0.015, col train loss 160.728\n"
     ]
    },
    {
     "name": "stderr",
     "output_type": "stream",
     "text": [
      "Epoch 508: 0batch [00:00, ?batch/s, loss=264]"
     ]
    },
    {
     "name": "stdout",
     "output_type": "stream",
     "text": [
      "epoch 507: avg test  loss 321.23, bar  test loss 4.153, len  test loss 0.704, col  test loss 164.101\n"
     ]
    },
    {
     "name": "stderr",
     "output_type": "stream",
     "text": [
      "Epoch 508: 272batch [00:43,  6.29batch/s, loss=290]\n"
     ]
    },
    {
     "name": "stdout",
     "output_type": "stream",
     "text": [
      "epoch 508: avg train loss 267.51, bar train loss 5.079, len train loss 0.015, col train loss 160.726\n"
     ]
    },
    {
     "name": "stderr",
     "output_type": "stream",
     "text": [
      "Epoch 509: 1batch [00:00,  6.58batch/s, loss=265]"
     ]
    },
    {
     "name": "stdout",
     "output_type": "stream",
     "text": [
      "epoch 508: avg test  loss 327.81, bar  test loss 4.142, len  test loss 0.773, col  test loss 164.105\n"
     ]
    },
    {
     "name": "stderr",
     "output_type": "stream",
     "text": [
      "Epoch 509: 272batch [00:43,  6.29batch/s, loss=277]\n"
     ]
    },
    {
     "name": "stdout",
     "output_type": "stream",
     "text": [
      "epoch 509: avg train loss 267.80, bar train loss 5.093, len train loss 0.015, col train loss 160.721\n"
     ]
    },
    {
     "name": "stderr",
     "output_type": "stream",
     "text": [
      "Epoch 510: 0batch [00:00, ?batch/s, loss=275]"
     ]
    },
    {
     "name": "stdout",
     "output_type": "stream",
     "text": [
      "epoch 509: avg test  loss 323.66, bar  test loss 4.185, len  test loss 0.721, col  test loss 164.087\n"
     ]
    },
    {
     "name": "stderr",
     "output_type": "stream",
     "text": [
      "Epoch 510: 272batch [00:43,  6.29batch/s, loss=277]\n"
     ]
    },
    {
     "name": "stdout",
     "output_type": "stream",
     "text": [
      "epoch 510: avg train loss 267.69, bar train loss 5.088, len train loss 0.015, col train loss 160.724\n",
      "epoch 510: avg test  loss 322.15, bar  test loss 4.153, len  test loss 0.713, col  test loss 164.130\n"
     ]
    },
    {
     "name": "stderr",
     "output_type": "stream",
     "text": [
      "Epoch 511: 272batch [00:43,  6.26batch/s, loss=270]\n"
     ]
    },
    {
     "name": "stdout",
     "output_type": "stream",
     "text": [
      "epoch 511: avg train loss 267.51, bar train loss 5.079, len train loss 0.015, col train loss 160.733\n"
     ]
    },
    {
     "name": "stderr",
     "output_type": "stream",
     "text": [
      "Epoch 512: 0batch [00:00, ?batch/s, loss=276]"
     ]
    },
    {
     "name": "stdout",
     "output_type": "stream",
     "text": [
      "epoch 511: avg test  loss 325.09, bar  test loss 4.134, len  test loss 0.744, col  test loss 164.085\n"
     ]
    },
    {
     "name": "stderr",
     "output_type": "stream",
     "text": [
      "Epoch 512: 272batch [00:43,  6.29batch/s, loss=259]\n"
     ]
    },
    {
     "name": "stdout",
     "output_type": "stream",
     "text": [
      "epoch 512: avg train loss 267.55, bar train loss 5.080, len train loss 0.015, col train loss 160.724\n"
     ]
    },
    {
     "name": "stderr",
     "output_type": "stream",
     "text": [
      "Epoch 513: 0batch [00:00, ?batch/s, loss=270]"
     ]
    },
    {
     "name": "stdout",
     "output_type": "stream",
     "text": [
      "epoch 512: avg test  loss 325.17, bar  test loss 4.135, len  test loss 0.744, col  test loss 164.089\n"
     ]
    },
    {
     "name": "stderr",
     "output_type": "stream",
     "text": [
      "Epoch 513: 272batch [00:43,  6.28batch/s, loss=268]\n"
     ]
    },
    {
     "name": "stdout",
     "output_type": "stream",
     "text": [
      "epoch 513: avg train loss 267.45, bar train loss 5.075, len train loss 0.015, col train loss 160.712\n"
     ]
    },
    {
     "name": "stderr",
     "output_type": "stream",
     "text": [
      "Epoch 514: 0batch [00:00, ?batch/s, loss=261]"
     ]
    },
    {
     "name": "stdout",
     "output_type": "stream",
     "text": [
      "epoch 513: avg test  loss 320.80, bar  test loss 4.159, len  test loss 0.699, col  test loss 164.111\n"
     ]
    },
    {
     "name": "stderr",
     "output_type": "stream",
     "text": [
      "Epoch 514: 272batch [00:44,  6.16batch/s, loss=276]\n"
     ]
    },
    {
     "name": "stdout",
     "output_type": "stream",
     "text": [
      "epoch 514: avg train loss 267.69, bar train loss 5.090, len train loss 0.015, col train loss 160.711\n"
     ]
    },
    {
     "name": "stderr",
     "output_type": "stream",
     "text": [
      "Epoch 515: 0batch [00:00, ?batch/s, loss=278]"
     ]
    },
    {
     "name": "stdout",
     "output_type": "stream",
     "text": [
      "epoch 514: avg test  loss 323.04, bar  test loss 4.164, len  test loss 0.721, col  test loss 164.110\n"
     ]
    },
    {
     "name": "stderr",
     "output_type": "stream",
     "text": [
      "Epoch 515: 272batch [00:44,  6.10batch/s, loss=267]\n"
     ]
    },
    {
     "name": "stdout",
     "output_type": "stream",
     "text": [
      "epoch 515: avg train loss 267.61, bar train loss 5.083, len train loss 0.015, col train loss 160.719\n",
      "epoch 515: avg test  loss 322.00, bar  test loss 4.177, len  test loss 0.709, col  test loss 164.106\n"
     ]
    },
    {
     "name": "stderr",
     "output_type": "stream",
     "text": [
      "Epoch 516: 272batch [00:44,  6.11batch/s, loss=264]\n"
     ]
    },
    {
     "name": "stdout",
     "output_type": "stream",
     "text": [
      "epoch 516: avg train loss 267.44, bar train loss 5.077, len train loss 0.015, col train loss 160.711\n"
     ]
    },
    {
     "name": "stderr",
     "output_type": "stream",
     "text": [
      "Epoch 517: 1batch [00:00,  6.49batch/s, loss=270]"
     ]
    },
    {
     "name": "stdout",
     "output_type": "stream",
     "text": [
      "epoch 516: avg test  loss 324.02, bar  test loss 4.087, len  test loss 0.743, col  test loss 164.090\n"
     ]
    },
    {
     "name": "stderr",
     "output_type": "stream",
     "text": [
      "Epoch 517: 272batch [00:44,  6.15batch/s, loss=271]\n"
     ]
    },
    {
     "name": "stdout",
     "output_type": "stream",
     "text": [
      "epoch 517: avg train loss 267.30, bar train loss 5.070, len train loss 0.015, col train loss 160.701\n"
     ]
    },
    {
     "name": "stderr",
     "output_type": "stream",
     "text": [
      "Epoch 518: 0batch [00:00, ?batch/s, loss=266]"
     ]
    },
    {
     "name": "stdout",
     "output_type": "stream",
     "text": [
      "epoch 517: avg test  loss 321.28, bar  test loss 4.136, len  test loss 0.707, col  test loss 164.104\n"
     ]
    },
    {
     "name": "stderr",
     "output_type": "stream",
     "text": [
      "Epoch 518: 272batch [00:44,  6.13batch/s, loss=280]\n"
     ]
    },
    {
     "name": "stdout",
     "output_type": "stream",
     "text": [
      "epoch 518: avg train loss 267.52, bar train loss 5.079, len train loss 0.015, col train loss 160.719\n"
     ]
    },
    {
     "name": "stderr",
     "output_type": "stream",
     "text": [
      "Epoch 519: 1batch [00:00,  6.62batch/s, loss=275]"
     ]
    },
    {
     "name": "stdout",
     "output_type": "stream",
     "text": [
      "epoch 518: avg test  loss 323.11, bar  test loss 4.146, len  test loss 0.725, col  test loss 164.101\n"
     ]
    },
    {
     "name": "stderr",
     "output_type": "stream",
     "text": [
      "Epoch 519: 272batch [00:44,  6.12batch/s, loss=280]\n"
     ]
    },
    {
     "name": "stdout",
     "output_type": "stream",
     "text": [
      "epoch 519: avg train loss 267.61, bar train loss 5.086, len train loss 0.015, col train loss 160.707\n"
     ]
    },
    {
     "name": "stderr",
     "output_type": "stream",
     "text": [
      "Epoch 520: 0batch [00:00, ?batch/s, loss=259]"
     ]
    },
    {
     "name": "stdout",
     "output_type": "stream",
     "text": [
      "epoch 519: avg test  loss 324.53, bar  test loss 4.117, len  test loss 0.744, col  test loss 164.115\n"
     ]
    },
    {
     "name": "stderr",
     "output_type": "stream",
     "text": [
      "Epoch 520: 272batch [00:44,  6.06batch/s, loss=274]\n"
     ]
    },
    {
     "name": "stdout",
     "output_type": "stream",
     "text": [
      "epoch 520: avg train loss 267.60, bar train loss 5.083, len train loss 0.015, col train loss 160.716\n",
      "epoch 520: avg test  loss 322.48, bar  test loss 4.140, len  test loss 0.719, col  test loss 164.112\n"
     ]
    },
    {
     "name": "stderr",
     "output_type": "stream",
     "text": [
      "Epoch 521: 272batch [00:44,  6.05batch/s, loss=296]\n"
     ]
    },
    {
     "name": "stdout",
     "output_type": "stream",
     "text": [
      "epoch 521: avg train loss 267.19, bar train loss 5.065, len train loss 0.015, col train loss 160.707\n"
     ]
    },
    {
     "name": "stderr",
     "output_type": "stream",
     "text": [
      "\r",
      "Epoch 522: 0batch [00:00, ?batch/s]"
     ]
    },
    {
     "name": "stdout",
     "output_type": "stream",
     "text": [
      "epoch 521: avg test  loss 322.55, bar  test loss 4.259, len  test loss 0.695, col  test loss 164.104\n"
     ]
    },
    {
     "name": "stderr",
     "output_type": "stream",
     "text": [
      "Epoch 522: 272batch [00:45,  6.02batch/s, loss=261]\n"
     ]
    },
    {
     "name": "stdout",
     "output_type": "stream",
     "text": [
      "epoch 522: avg train loss 267.63, bar train loss 5.084, len train loss 0.015, col train loss 160.704\n"
     ]
    },
    {
     "name": "stderr",
     "output_type": "stream",
     "text": [
      "Epoch 523: 0batch [00:00, ?batch/s, loss=275]"
     ]
    },
    {
     "name": "stdout",
     "output_type": "stream",
     "text": [
      "epoch 522: avg test  loss 319.13, bar  test loss 4.193, len  test loss 0.676, col  test loss 164.113\n"
     ]
    },
    {
     "name": "stderr",
     "output_type": "stream",
     "text": [
      "Epoch 523: 272batch [00:44,  6.05batch/s, loss=299]\n"
     ]
    },
    {
     "name": "stdout",
     "output_type": "stream",
     "text": [
      "epoch 523: avg train loss 267.67, bar train loss 5.089, len train loss 0.015, col train loss 160.705\n"
     ]
    },
    {
     "name": "stderr",
     "output_type": "stream",
     "text": [
      "Epoch 524: 0batch [00:00, ?batch/s, loss=270]"
     ]
    },
    {
     "name": "stdout",
     "output_type": "stream",
     "text": [
      "epoch 523: avg test  loss 319.95, bar  test loss 4.114, len  test loss 0.697, col  test loss 164.094\n"
     ]
    },
    {
     "name": "stderr",
     "output_type": "stream",
     "text": [
      "Epoch 524: 272batch [00:44,  6.12batch/s, loss=266]\n"
     ]
    },
    {
     "name": "stdout",
     "output_type": "stream",
     "text": [
      "epoch 524: avg train loss 267.70, bar train loss 5.091, len train loss 0.015, col train loss 160.693\n"
     ]
    },
    {
     "name": "stderr",
     "output_type": "stream",
     "text": [
      "Epoch 525: 1batch [00:00,  6.85batch/s, loss=263]"
     ]
    },
    {
     "name": "stdout",
     "output_type": "stream",
     "text": [
      "epoch 524: avg test  loss 321.07, bar  test loss 4.164, len  test loss 0.698, col  test loss 164.108\n"
     ]
    },
    {
     "name": "stderr",
     "output_type": "stream",
     "text": [
      "Epoch 525: 272batch [00:44,  6.08batch/s, loss=273]\n"
     ]
    },
    {
     "name": "stdout",
     "output_type": "stream",
     "text": [
      "epoch 525: avg train loss 267.74, bar train loss 5.090, len train loss 0.015, col train loss 160.707\n",
      "epoch 525: avg test  loss 321.18, bar  test loss 4.150, len  test loss 0.704, col  test loss 164.101\n"
     ]
    },
    {
     "name": "stderr",
     "output_type": "stream",
     "text": [
      "Epoch 526: 272batch [00:44,  6.06batch/s, loss=286]\n"
     ]
    },
    {
     "name": "stdout",
     "output_type": "stream",
     "text": [
      "epoch 526: avg train loss 267.56, bar train loss 5.082, len train loss 0.015, col train loss 160.689\n"
     ]
    },
    {
     "name": "stderr",
     "output_type": "stream",
     "text": [
      "\r",
      "Epoch 527: 0batch [00:00, ?batch/s]"
     ]
    },
    {
     "name": "stdout",
     "output_type": "stream",
     "text": [
      "epoch 526: avg test  loss 318.73, bar  test loss 4.203, len  test loss 0.668, col  test loss 164.099\n"
     ]
    },
    {
     "name": "stderr",
     "output_type": "stream",
     "text": [
      "Epoch 527: 272batch [00:44,  6.09batch/s, loss=257]\n"
     ]
    },
    {
     "name": "stdout",
     "output_type": "stream",
     "text": [
      "epoch 527: avg train loss 267.47, bar train loss 5.080, len train loss 0.015, col train loss 160.675\n"
     ]
    },
    {
     "name": "stderr",
     "output_type": "stream",
     "text": [
      "Epoch 528: 0batch [00:00, ?batch/s, loss=271]"
     ]
    },
    {
     "name": "stdout",
     "output_type": "stream",
     "text": [
      "epoch 527: avg test  loss 318.40, bar  test loss 4.146, len  test loss 0.674, col  test loss 164.090\n"
     ]
    },
    {
     "name": "stderr",
     "output_type": "stream",
     "text": [
      "Epoch 528: 272batch [00:44,  6.10batch/s, loss=282]\n"
     ]
    },
    {
     "name": "stdout",
     "output_type": "stream",
     "text": [
      "epoch 528: avg train loss 267.42, bar train loss 5.075, len train loss 0.015, col train loss 160.694\n"
     ]
    },
    {
     "name": "stderr",
     "output_type": "stream",
     "text": [
      "Epoch 529: 0batch [00:00, ?batch/s, loss=271]"
     ]
    },
    {
     "name": "stdout",
     "output_type": "stream",
     "text": [
      "epoch 528: avg test  loss 320.18, bar  test loss 4.117, len  test loss 0.699, col  test loss 164.106\n"
     ]
    },
    {
     "name": "stderr",
     "output_type": "stream",
     "text": [
      "Epoch 529: 272batch [00:44,  6.14batch/s, loss=286]\n"
     ]
    },
    {
     "name": "stdout",
     "output_type": "stream",
     "text": [
      "epoch 529: avg train loss 267.21, bar train loss 5.067, len train loss 0.015, col train loss 160.681\n"
     ]
    },
    {
     "name": "stderr",
     "output_type": "stream",
     "text": [
      "Epoch 530: 0batch [00:00, ?batch/s, loss=281]"
     ]
    },
    {
     "name": "stdout",
     "output_type": "stream",
     "text": [
      "epoch 529: avg test  loss 322.50, bar  test loss 4.140, len  test loss 0.720, col  test loss 164.120\n"
     ]
    },
    {
     "name": "stderr",
     "output_type": "stream",
     "text": [
      "Epoch 530: 272batch [00:44,  6.15batch/s, loss=286]\n"
     ]
    },
    {
     "name": "stdout",
     "output_type": "stream",
     "text": [
      "epoch 530: avg train loss 267.55, bar train loss 5.083, len train loss 0.015, col train loss 160.681\n",
      "epoch 530: avg test  loss 324.56, bar  test loss 4.217, len  test loss 0.725, col  test loss 164.098\n"
     ]
    },
    {
     "name": "stderr",
     "output_type": "stream",
     "text": [
      "Epoch 531: 272batch [00:44,  6.14batch/s, loss=259]\n"
     ]
    },
    {
     "name": "stdout",
     "output_type": "stream",
     "text": [
      "epoch 531: avg train loss 267.40, bar train loss 5.077, len train loss 0.015, col train loss 160.688\n"
     ]
    },
    {
     "name": "stderr",
     "output_type": "stream",
     "text": [
      "Epoch 532: 0batch [00:00, ?batch/s, loss=270]"
     ]
    },
    {
     "name": "stdout",
     "output_type": "stream",
     "text": [
      "epoch 531: avg test  loss 319.74, bar  test loss 4.115, len  test loss 0.697, col  test loss 164.099\n"
     ]
    },
    {
     "name": "stderr",
     "output_type": "stream",
     "text": [
      "Epoch 532: 272batch [00:44,  6.13batch/s, loss=269]\n"
     ]
    },
    {
     "name": "stdout",
     "output_type": "stream",
     "text": [
      "epoch 532: avg train loss 267.39, bar train loss 5.075, len train loss 0.015, col train loss 160.678\n"
     ]
    },
    {
     "name": "stderr",
     "output_type": "stream",
     "text": [
      "Epoch 533: 0batch [00:00, ?batch/s, loss=275]"
     ]
    },
    {
     "name": "stdout",
     "output_type": "stream",
     "text": [
      "epoch 532: avg test  loss 322.29, bar  test loss 4.102, len  test loss 0.724, col  test loss 164.118\n"
     ]
    },
    {
     "name": "stderr",
     "output_type": "stream",
     "text": [
      "Epoch 533: 272batch [00:44,  6.14batch/s, loss=272]\n"
     ]
    },
    {
     "name": "stdout",
     "output_type": "stream",
     "text": [
      "epoch 533: avg train loss 267.57, bar train loss 5.087, len train loss 0.014, col train loss 160.686\n"
     ]
    },
    {
     "name": "stderr",
     "output_type": "stream",
     "text": [
      "Epoch 534: 0batch [00:00, ?batch/s, loss=258]"
     ]
    },
    {
     "name": "stdout",
     "output_type": "stream",
     "text": [
      "epoch 533: avg test  loss 324.31, bar  test loss 4.206, len  test loss 0.724, col  test loss 164.106\n"
     ]
    },
    {
     "name": "stderr",
     "output_type": "stream",
     "text": [
      "Epoch 534: 272batch [00:44,  6.13batch/s, loss=309]\n"
     ]
    },
    {
     "name": "stdout",
     "output_type": "stream",
     "text": [
      "epoch 534: avg train loss 267.53, bar train loss 5.083, len train loss 0.015, col train loss 160.672\n"
     ]
    },
    {
     "name": "stderr",
     "output_type": "stream",
     "text": [
      "Epoch 535: 0batch [00:00, ?batch/s, loss=259]"
     ]
    },
    {
     "name": "stdout",
     "output_type": "stream",
     "text": [
      "epoch 534: avg test  loss 321.59, bar  test loss 4.161, len  test loss 0.706, col  test loss 164.115\n"
     ]
    },
    {
     "name": "stderr",
     "output_type": "stream",
     "text": [
      "Epoch 535: 272batch [00:44,  6.12batch/s, loss=263]\n"
     ]
    },
    {
     "name": "stdout",
     "output_type": "stream",
     "text": [
      "epoch 535: avg train loss 267.11, bar train loss 5.063, len train loss 0.015, col train loss 160.680\n",
      "epoch 535: avg test  loss 324.30, bar  test loss 4.180, len  test loss 0.730, col  test loss 164.108\n"
     ]
    },
    {
     "name": "stderr",
     "output_type": "stream",
     "text": [
      "Epoch 536: 272batch [00:44,  6.12batch/s, loss=277]\n"
     ]
    },
    {
     "name": "stdout",
     "output_type": "stream",
     "text": [
      "epoch 536: avg train loss 267.32, bar train loss 5.072, len train loss 0.015, col train loss 160.675\n"
     ]
    },
    {
     "name": "stderr",
     "output_type": "stream",
     "text": [
      "Epoch 537: 0batch [00:00, ?batch/s, loss=270]"
     ]
    },
    {
     "name": "stdout",
     "output_type": "stream",
     "text": [
      "epoch 536: avg test  loss 323.81, bar  test loss 4.124, len  test loss 0.736, col  test loss 164.108\n"
     ]
    },
    {
     "name": "stderr",
     "output_type": "stream",
     "text": [
      "Epoch 537: 272batch [00:44,  6.11batch/s, loss=267]\n"
     ]
    },
    {
     "name": "stdout",
     "output_type": "stream",
     "text": [
      "epoch 537: avg train loss 267.29, bar train loss 5.072, len train loss 0.015, col train loss 160.669\n"
     ]
    },
    {
     "name": "stderr",
     "output_type": "stream",
     "text": [
      "Epoch 538: 0batch [00:00, ?batch/s, loss=262]"
     ]
    },
    {
     "name": "stdout",
     "output_type": "stream",
     "text": [
      "epoch 537: avg test  loss 318.43, bar  test loss 4.115, len  test loss 0.683, col  test loss 164.101\n"
     ]
    },
    {
     "name": "stderr",
     "output_type": "stream",
     "text": [
      "Epoch 538: 272batch [00:44,  6.11batch/s, loss=270]\n"
     ]
    },
    {
     "name": "stdout",
     "output_type": "stream",
     "text": [
      "epoch 538: avg train loss 267.59, bar train loss 5.086, len train loss 0.015, col train loss 160.671\n"
     ]
    },
    {
     "name": "stderr",
     "output_type": "stream",
     "text": [
      "\r",
      "Epoch 539: 0batch [00:00, ?batch/s]"
     ]
    },
    {
     "name": "stdout",
     "output_type": "stream",
     "text": [
      "epoch 538: avg test  loss 322.37, bar  test loss 4.149, len  test loss 0.717, col  test loss 164.113\n"
     ]
    },
    {
     "name": "stderr",
     "output_type": "stream",
     "text": [
      "Epoch 539: 272batch [00:44,  6.09batch/s, loss=283]\n"
     ]
    },
    {
     "name": "stdout",
     "output_type": "stream",
     "text": [
      "epoch 539: avg train loss 267.38, bar train loss 5.079, len train loss 0.015, col train loss 160.658\n"
     ]
    },
    {
     "name": "stderr",
     "output_type": "stream",
     "text": [
      "Epoch 540: 0batch [00:00, ?batch/s, loss=263]"
     ]
    },
    {
     "name": "stdout",
     "output_type": "stream",
     "text": [
      "epoch 539: avg test  loss 322.48, bar  test loss 4.130, len  test loss 0.721, col  test loss 164.121\n"
     ]
    },
    {
     "name": "stderr",
     "output_type": "stream",
     "text": [
      "Epoch 540: 272batch [00:44,  6.09batch/s, loss=280]\n"
     ]
    },
    {
     "name": "stdout",
     "output_type": "stream",
     "text": [
      "epoch 540: avg train loss 267.39, bar train loss 5.077, len train loss 0.015, col train loss 160.666\n",
      "epoch 540: avg test  loss 322.91, bar  test loss 4.117, len  test loss 0.726, col  test loss 164.093\n"
     ]
    },
    {
     "name": "stderr",
     "output_type": "stream",
     "text": [
      "Epoch 541: 272batch [00:44,  6.09batch/s, loss=270]\n"
     ]
    },
    {
     "name": "stdout",
     "output_type": "stream",
     "text": [
      "epoch 541: avg train loss 267.38, bar train loss 5.077, len train loss 0.015, col train loss 160.661\n"
     ]
    },
    {
     "name": "stderr",
     "output_type": "stream",
     "text": [
      "Epoch 542: 0batch [00:00, ?batch/s, loss=268]"
     ]
    },
    {
     "name": "stdout",
     "output_type": "stream",
     "text": [
      "epoch 541: avg test  loss 321.27, bar  test loss 4.129, len  test loss 0.709, col  test loss 164.106\n"
     ]
    },
    {
     "name": "stderr",
     "output_type": "stream",
     "text": [
      "Epoch 542: 272batch [00:44,  6.08batch/s, loss=278]\n"
     ]
    },
    {
     "name": "stdout",
     "output_type": "stream",
     "text": [
      "epoch 542: avg train loss 267.32, bar train loss 5.075, len train loss 0.014, col train loss 160.657\n"
     ]
    },
    {
     "name": "stderr",
     "output_type": "stream",
     "text": [
      "Epoch 543: 0batch [00:00, ?batch/s, loss=262]"
     ]
    },
    {
     "name": "stdout",
     "output_type": "stream",
     "text": [
      "epoch 542: avg test  loss 317.90, bar  test loss 4.165, len  test loss 0.668, col  test loss 164.108\n"
     ]
    },
    {
     "name": "stderr",
     "output_type": "stream",
     "text": [
      "Epoch 543: 272batch [00:44,  6.08batch/s, loss=270]\n"
     ]
    },
    {
     "name": "stdout",
     "output_type": "stream",
     "text": [
      "epoch 543: avg train loss 267.33, bar train loss 5.074, len train loss 0.015, col train loss 160.656\n"
     ]
    },
    {
     "name": "stderr",
     "output_type": "stream",
     "text": [
      "Epoch 544: 0batch [00:00, ?batch/s, loss=269]"
     ]
    },
    {
     "name": "stdout",
     "output_type": "stream",
     "text": [
      "epoch 543: avg test  loss 314.85, bar  test loss 4.148, len  test loss 0.640, col  test loss 164.111\n"
     ]
    },
    {
     "name": "stderr",
     "output_type": "stream",
     "text": [
      "Epoch 544: 272batch [00:44,  6.07batch/s, loss=262]\n"
     ]
    },
    {
     "name": "stdout",
     "output_type": "stream",
     "text": [
      "epoch 544: avg train loss 267.13, bar train loss 5.066, len train loss 0.014, col train loss 160.649\n"
     ]
    },
    {
     "name": "stderr",
     "output_type": "stream",
     "text": [
      "Epoch 545: 1batch [00:00,  6.62batch/s, loss=262]"
     ]
    },
    {
     "name": "stdout",
     "output_type": "stream",
     "text": [
      "epoch 544: avg test  loss 322.58, bar  test loss 4.133, len  test loss 0.722, col  test loss 164.112\n"
     ]
    },
    {
     "name": "stderr",
     "output_type": "stream",
     "text": [
      "Epoch 545: 272batch [00:44,  6.07batch/s, loss=259]\n"
     ]
    },
    {
     "name": "stdout",
     "output_type": "stream",
     "text": [
      "epoch 545: avg train loss 267.42, bar train loss 5.079, len train loss 0.015, col train loss 160.654\n",
      "epoch 545: avg test  loss 316.89, bar  test loss 4.133, len  test loss 0.666, col  test loss 164.117\n"
     ]
    },
    {
     "name": "stderr",
     "output_type": "stream",
     "text": [
      "Epoch 546: 272batch [00:45,  6.04batch/s, loss=238]\n"
     ]
    },
    {
     "name": "stdout",
     "output_type": "stream",
     "text": [
      "epoch 546: avg train loss 267.48, bar train loss 5.082, len train loss 0.015, col train loss 160.662\n"
     ]
    },
    {
     "name": "stderr",
     "output_type": "stream",
     "text": [
      "Epoch 547: 0batch [00:00, ?batch/s, loss=266]"
     ]
    },
    {
     "name": "stdout",
     "output_type": "stream",
     "text": [
      "epoch 546: avg test  loss 318.75, bar  test loss 4.097, len  test loss 0.688, col  test loss 164.111\n"
     ]
    },
    {
     "name": "stderr",
     "output_type": "stream",
     "text": [
      "Epoch 547: 272batch [00:45,  6.01batch/s, loss=306]\n"
     ]
    },
    {
     "name": "stdout",
     "output_type": "stream",
     "text": [
      "epoch 547: avg train loss 267.28, bar train loss 5.072, len train loss 0.015, col train loss 160.661\n"
     ]
    },
    {
     "name": "stderr",
     "output_type": "stream",
     "text": [
      "\r",
      "Epoch 548: 0batch [00:00, ?batch/s]"
     ]
    },
    {
     "name": "stdout",
     "output_type": "stream",
     "text": [
      "epoch 547: avg test  loss 319.13, bar  test loss 4.186, len  test loss 0.676, col  test loss 164.105\n"
     ]
    },
    {
     "name": "stderr",
     "output_type": "stream",
     "text": [
      "Epoch 548: 272batch [00:45,  6.02batch/s, loss=279]\n"
     ]
    },
    {
     "name": "stdout",
     "output_type": "stream",
     "text": [
      "epoch 548: avg train loss 267.45, bar train loss 5.080, len train loss 0.015, col train loss 160.654\n"
     ]
    },
    {
     "name": "stderr",
     "output_type": "stream",
     "text": [
      "Epoch 549: 0batch [00:00, ?batch/s, loss=259]"
     ]
    },
    {
     "name": "stdout",
     "output_type": "stream",
     "text": [
      "epoch 548: avg test  loss 322.25, bar  test loss 4.145, len  test loss 0.712, col  test loss 164.097\n"
     ]
    },
    {
     "name": "stderr",
     "output_type": "stream",
     "text": [
      "Epoch 549: 272batch [00:45,  6.02batch/s, loss=267]\n"
     ]
    },
    {
     "name": "stdout",
     "output_type": "stream",
     "text": [
      "epoch 549: avg train loss 267.30, bar train loss 5.073, len train loss 0.015, col train loss 160.649\n"
     ]
    },
    {
     "name": "stderr",
     "output_type": "stream",
     "text": [
      "\r",
      "Epoch 550: 0batch [00:00, ?batch/s]"
     ]
    },
    {
     "name": "stdout",
     "output_type": "stream",
     "text": [
      "epoch 549: avg test  loss 317.84, bar  test loss 4.130, len  test loss 0.673, col  test loss 164.098\n"
     ]
    },
    {
     "name": "stderr",
     "output_type": "stream",
     "text": [
      "Epoch 550: 272batch [00:45,  6.00batch/s, loss=283]\n"
     ]
    },
    {
     "name": "stdout",
     "output_type": "stream",
     "text": [
      "epoch 550: avg train loss 267.33, bar train loss 5.076, len train loss 0.015, col train loss 160.640\n",
      "epoch 550: avg test  loss 320.64, bar  test loss 4.132, len  test loss 0.702, col  test loss 164.096\n"
     ]
    },
    {
     "name": "stderr",
     "output_type": "stream",
     "text": [
      "Epoch 551: 272batch [00:45,  6.00batch/s, loss=266]\n"
     ]
    },
    {
     "name": "stdout",
     "output_type": "stream",
     "text": [
      "epoch 551: avg train loss 267.39, bar train loss 5.079, len train loss 0.015, col train loss 160.639\n"
     ]
    },
    {
     "name": "stderr",
     "output_type": "stream",
     "text": [
      "Epoch 552: 0batch [00:00, ?batch/s, loss=265]"
     ]
    },
    {
     "name": "stdout",
     "output_type": "stream",
     "text": [
      "epoch 551: avg test  loss 320.03, bar  test loss 4.156, len  test loss 0.691, col  test loss 164.090\n"
     ]
    },
    {
     "name": "stderr",
     "output_type": "stream",
     "text": [
      "Epoch 552: 272batch [00:45,  6.02batch/s, loss=268]\n"
     ]
    },
    {
     "name": "stdout",
     "output_type": "stream",
     "text": [
      "epoch 552: avg train loss 267.33, bar train loss 5.076, len train loss 0.015, col train loss 160.641\n"
     ]
    },
    {
     "name": "stderr",
     "output_type": "stream",
     "text": [
      "\r",
      "Epoch 553: 0batch [00:00, ?batch/s]"
     ]
    },
    {
     "name": "stdout",
     "output_type": "stream",
     "text": [
      "epoch 552: avg test  loss 322.91, bar  test loss 4.181, len  test loss 0.716, col  test loss 164.116\n"
     ]
    },
    {
     "name": "stderr",
     "output_type": "stream",
     "text": [
      "Epoch 553: 272batch [00:45,  6.01batch/s, loss=272]\n"
     ]
    },
    {
     "name": "stdout",
     "output_type": "stream",
     "text": [
      "epoch 553: avg train loss 267.23, bar train loss 5.071, len train loss 0.015, col train loss 160.645\n"
     ]
    },
    {
     "name": "stderr",
     "output_type": "stream",
     "text": [
      "Epoch 554: 0batch [00:00, ?batch/s, loss=263]"
     ]
    },
    {
     "name": "stdout",
     "output_type": "stream",
     "text": [
      "epoch 553: avg test  loss 315.76, bar  test loss 4.086, len  test loss 0.662, col  test loss 164.110\n"
     ]
    },
    {
     "name": "stderr",
     "output_type": "stream",
     "text": [
      "Epoch 554: 272batch [00:45,  6.00batch/s, loss=273]\n"
     ]
    },
    {
     "name": "stdout",
     "output_type": "stream",
     "text": [
      "epoch 554: avg train loss 267.23, bar train loss 5.071, len train loss 0.015, col train loss 160.639\n"
     ]
    },
    {
     "name": "stderr",
     "output_type": "stream",
     "text": [
      "Epoch 555: 0batch [00:00, ?batch/s, loss=256]"
     ]
    },
    {
     "name": "stdout",
     "output_type": "stream",
     "text": [
      "epoch 554: avg test  loss 318.64, bar  test loss 4.151, len  test loss 0.678, col  test loss 164.118\n"
     ]
    },
    {
     "name": "stderr",
     "output_type": "stream",
     "text": [
      "Epoch 555: 272batch [00:45,  5.99batch/s, loss=273]\n"
     ]
    },
    {
     "name": "stdout",
     "output_type": "stream",
     "text": [
      "epoch 555: avg train loss 267.44, bar train loss 5.082, len train loss 0.015, col train loss 160.633\n",
      "epoch 555: avg test  loss 317.80, bar  test loss 4.134, len  test loss 0.676, col  test loss 164.126\n"
     ]
    },
    {
     "name": "stderr",
     "output_type": "stream",
     "text": [
      "Epoch 556: 272batch [00:45,  5.99batch/s, loss=267]\n"
     ]
    },
    {
     "name": "stdout",
     "output_type": "stream",
     "text": [
      "epoch 556: avg train loss 267.08, bar train loss 5.065, len train loss 0.015, col train loss 160.636\n"
     ]
    },
    {
     "name": "stderr",
     "output_type": "stream",
     "text": [
      "Epoch 557: 0batch [00:00, ?batch/s, loss=258]"
     ]
    },
    {
     "name": "stdout",
     "output_type": "stream",
     "text": [
      "epoch 556: avg test  loss 317.02, bar  test loss 4.096, len  test loss 0.672, col  test loss 164.101\n"
     ]
    },
    {
     "name": "stderr",
     "output_type": "stream",
     "text": [
      "Epoch 557: 272batch [00:45,  5.98batch/s, loss=260]\n"
     ]
    },
    {
     "name": "stdout",
     "output_type": "stream",
     "text": [
      "epoch 557: avg train loss 267.24, bar train loss 5.074, len train loss 0.014, col train loss 160.630\n"
     ]
    },
    {
     "name": "stderr",
     "output_type": "stream",
     "text": [
      "Epoch 558: 0batch [00:00, ?batch/s, loss=273]"
     ]
    },
    {
     "name": "stdout",
     "output_type": "stream",
     "text": [
      "epoch 557: avg test  loss 322.16, bar  test loss 4.139, len  test loss 0.716, col  test loss 164.100\n"
     ]
    },
    {
     "name": "stderr",
     "output_type": "stream",
     "text": [
      "Epoch 558: 272batch [00:45,  5.97batch/s, loss=267]\n"
     ]
    },
    {
     "name": "stdout",
     "output_type": "stream",
     "text": [
      "epoch 558: avg train loss 267.38, bar train loss 5.080, len train loss 0.015, col train loss 160.633\n"
     ]
    },
    {
     "name": "stderr",
     "output_type": "stream",
     "text": [
      "Epoch 559: 0batch [00:00, ?batch/s, loss=268]"
     ]
    },
    {
     "name": "stdout",
     "output_type": "stream",
     "text": [
      "epoch 558: avg test  loss 317.58, bar  test loss 4.142, len  test loss 0.670, col  test loss 164.112\n"
     ]
    },
    {
     "name": "stderr",
     "output_type": "stream",
     "text": [
      "Epoch 559: 272batch [00:45,  5.96batch/s, loss=291]\n"
     ]
    },
    {
     "name": "stdout",
     "output_type": "stream",
     "text": [
      "epoch 559: avg train loss 267.36, bar train loss 5.079, len train loss 0.014, col train loss 160.629\n"
     ]
    },
    {
     "name": "stderr",
     "output_type": "stream",
     "text": [
      "Epoch 560: 0batch [00:00, ?batch/s, loss=274]"
     ]
    },
    {
     "name": "stdout",
     "output_type": "stream",
     "text": [
      "epoch 559: avg test  loss 318.31, bar  test loss 4.180, len  test loss 0.670, col  test loss 164.112\n"
     ]
    },
    {
     "name": "stderr",
     "output_type": "stream",
     "text": [
      "Epoch 560: 272batch [00:45,  5.95batch/s, loss=287]\n"
     ]
    },
    {
     "name": "stdout",
     "output_type": "stream",
     "text": [
      "epoch 560: avg train loss 267.20, bar train loss 5.069, len train loss 0.015, col train loss 160.625\n",
      "epoch 560: avg test  loss 316.99, bar  test loss 4.205, len  test loss 0.650, col  test loss 164.109\n"
     ]
    },
    {
     "name": "stderr",
     "output_type": "stream",
     "text": [
      "Epoch 561: 272batch [00:45,  5.94batch/s, loss=279]\n"
     ]
    },
    {
     "name": "stdout",
     "output_type": "stream",
     "text": [
      "epoch 561: avg train loss 267.05, bar train loss 5.064, len train loss 0.014, col train loss 160.615\n"
     ]
    },
    {
     "name": "stderr",
     "output_type": "stream",
     "text": [
      "\r",
      "Epoch 562: 0batch [00:00, ?batch/s]"
     ]
    },
    {
     "name": "stdout",
     "output_type": "stream",
     "text": [
      "epoch 561: avg test  loss 315.59, bar  test loss 4.212, len  test loss 0.637, col  test loss 164.115\n"
     ]
    },
    {
     "name": "stderr",
     "output_type": "stream",
     "text": [
      "Epoch 562: 272batch [00:45,  5.94batch/s, loss=290]\n"
     ]
    },
    {
     "name": "stdout",
     "output_type": "stream",
     "text": [
      "epoch 562: avg train loss 267.21, bar train loss 5.072, len train loss 0.015, col train loss 160.617\n"
     ]
    },
    {
     "name": "stderr",
     "output_type": "stream",
     "text": [
      "\r",
      "Epoch 563: 0batch [00:00, ?batch/s]"
     ]
    },
    {
     "name": "stdout",
     "output_type": "stream",
     "text": [
      "epoch 562: avg test  loss 318.14, bar  test loss 4.141, len  test loss 0.675, col  test loss 164.085\n"
     ]
    },
    {
     "name": "stderr",
     "output_type": "stream",
     "text": [
      "Epoch 563: 272batch [00:45,  5.94batch/s, loss=262]\n"
     ]
    },
    {
     "name": "stdout",
     "output_type": "stream",
     "text": [
      "epoch 563: avg train loss 267.30, bar train loss 5.075, len train loss 0.015, col train loss 160.624\n"
     ]
    },
    {
     "name": "stderr",
     "output_type": "stream",
     "text": [
      "Epoch 564: 0batch [00:00, ?batch/s, loss=273]"
     ]
    },
    {
     "name": "stdout",
     "output_type": "stream",
     "text": [
      "epoch 563: avg test  loss 323.20, bar  test loss 4.130, len  test loss 0.728, col  test loss 164.117\n"
     ]
    },
    {
     "name": "stderr",
     "output_type": "stream",
     "text": [
      "Epoch 564: 272batch [00:45,  5.93batch/s, loss=269]\n"
     ]
    },
    {
     "name": "stdout",
     "output_type": "stream",
     "text": [
      "epoch 564: avg train loss 267.58, bar train loss 5.091, len train loss 0.014, col train loss 160.628\n"
     ]
    },
    {
     "name": "stderr",
     "output_type": "stream",
     "text": [
      "Epoch 565: 0batch [00:00, ?batch/s, loss=280]"
     ]
    },
    {
     "name": "stdout",
     "output_type": "stream",
     "text": [
      "epoch 564: avg test  loss 325.18, bar  test loss 4.173, len  test loss 0.737, col  test loss 164.105\n"
     ]
    },
    {
     "name": "stderr",
     "output_type": "stream",
     "text": [
      "Epoch 565: 272batch [00:45,  5.93batch/s, loss=277]\n"
     ]
    },
    {
     "name": "stdout",
     "output_type": "stream",
     "text": [
      "epoch 565: avg train loss 267.32, bar train loss 5.076, len train loss 0.015, col train loss 160.630\n",
      "epoch 565: avg test  loss 316.62, bar  test loss 4.136, len  test loss 0.661, col  test loss 164.117\n"
     ]
    },
    {
     "name": "stderr",
     "output_type": "stream",
     "text": [
      "Epoch 566: 272batch [00:46,  5.89batch/s, loss=298]\n"
     ]
    },
    {
     "name": "stdout",
     "output_type": "stream",
     "text": [
      "epoch 566: avg train loss 267.16, bar train loss 5.070, len train loss 0.014, col train loss 160.610\n"
     ]
    },
    {
     "name": "stderr",
     "output_type": "stream",
     "text": [
      "Epoch 567: 0batch [00:00, ?batch/s, loss=264]"
     ]
    },
    {
     "name": "stdout",
     "output_type": "stream",
     "text": [
      "epoch 566: avg test  loss 320.61, bar  test loss 4.108, len  test loss 0.705, col  test loss 164.085\n"
     ]
    },
    {
     "name": "stderr",
     "output_type": "stream",
     "text": [
      "Epoch 567: 272batch [00:46,  5.90batch/s, loss=252]\n"
     ]
    },
    {
     "name": "stdout",
     "output_type": "stream",
     "text": [
      "epoch 567: avg train loss 267.13, bar train loss 5.069, len train loss 0.015, col train loss 160.607\n"
     ]
    },
    {
     "name": "stderr",
     "output_type": "stream",
     "text": [
      "Epoch 568: 0batch [00:00, ?batch/s, loss=259]"
     ]
    },
    {
     "name": "stdout",
     "output_type": "stream",
     "text": [
      "epoch 567: avg test  loss 320.87, bar  test loss 4.121, len  test loss 0.705, col  test loss 164.108\n"
     ]
    },
    {
     "name": "stderr",
     "output_type": "stream",
     "text": [
      "Epoch 568: 272batch [00:45,  5.92batch/s, loss=272]\n"
     ]
    },
    {
     "name": "stdout",
     "output_type": "stream",
     "text": [
      "epoch 568: avg train loss 267.59, bar train loss 5.089, len train loss 0.015, col train loss 160.619\n"
     ]
    },
    {
     "name": "stderr",
     "output_type": "stream",
     "text": [
      "Epoch 569: 0batch [00:00, ?batch/s, loss=260]"
     ]
    },
    {
     "name": "stdout",
     "output_type": "stream",
     "text": [
      "epoch 568: avg test  loss 323.11, bar  test loss 4.165, len  test loss 0.721, col  test loss 164.104\n"
     ]
    },
    {
     "name": "stderr",
     "output_type": "stream",
     "text": [
      "Epoch 569: 272batch [00:46,  5.90batch/s, loss=272]\n"
     ]
    },
    {
     "name": "stdout",
     "output_type": "stream",
     "text": [
      "epoch 569: avg train loss 266.90, bar train loss 5.057, len train loss 0.014, col train loss 160.605\n"
     ]
    },
    {
     "name": "stderr",
     "output_type": "stream",
     "text": [
      "Epoch 570: 0batch [00:00, ?batch/s, loss=255]"
     ]
    },
    {
     "name": "stdout",
     "output_type": "stream",
     "text": [
      "epoch 569: avg test  loss 318.15, bar  test loss 4.185, len  test loss 0.667, col  test loss 164.109\n"
     ]
    },
    {
     "name": "stderr",
     "output_type": "stream",
     "text": [
      "Epoch 570: 272batch [00:46,  5.89batch/s, loss=275]\n"
     ]
    },
    {
     "name": "stdout",
     "output_type": "stream",
     "text": [
      "epoch 570: avg train loss 267.22, bar train loss 5.075, len train loss 0.014, col train loss 160.609\n",
      "epoch 570: avg test  loss 320.33, bar  test loss 4.159, len  test loss 0.693, col  test loss 164.124\n"
     ]
    },
    {
     "name": "stderr",
     "output_type": "stream",
     "text": [
      "Epoch 571: 272batch [00:46,  5.90batch/s, loss=257]\n"
     ]
    },
    {
     "name": "stdout",
     "output_type": "stream",
     "text": [
      "epoch 571: avg train loss 267.00, bar train loss 5.062, len train loss 0.014, col train loss 160.601\n"
     ]
    },
    {
     "name": "stderr",
     "output_type": "stream",
     "text": [
      "\r",
      "Epoch 572: 0batch [00:00, ?batch/s]"
     ]
    },
    {
     "name": "stdout",
     "output_type": "stream",
     "text": [
      "epoch 571: avg test  loss 320.76, bar  test loss 4.138, len  test loss 0.702, col  test loss 164.103\n"
     ]
    },
    {
     "name": "stderr",
     "output_type": "stream",
     "text": [
      "Epoch 572: 272batch [00:46,  5.88batch/s, loss=255]\n"
     ]
    },
    {
     "name": "stdout",
     "output_type": "stream",
     "text": [
      "epoch 572: avg train loss 266.85, bar train loss 5.051, len train loss 0.015, col train loss 160.608\n"
     ]
    },
    {
     "name": "stderr",
     "output_type": "stream",
     "text": [
      "Epoch 573: 0batch [00:00, ?batch/s, loss=254]"
     ]
    },
    {
     "name": "stdout",
     "output_type": "stream",
     "text": [
      "epoch 572: avg test  loss 319.38, bar  test loss 4.148, len  test loss 0.686, col  test loss 164.098\n"
     ]
    },
    {
     "name": "stderr",
     "output_type": "stream",
     "text": [
      "Epoch 573: 272batch [00:46,  5.87batch/s, loss=292]\n"
     ]
    },
    {
     "name": "stdout",
     "output_type": "stream",
     "text": [
      "epoch 573: avg train loss 267.11, bar train loss 5.067, len train loss 0.015, col train loss 160.602\n"
     ]
    },
    {
     "name": "stderr",
     "output_type": "stream",
     "text": [
      "Epoch 574: 0batch [00:00, ?batch/s, loss=271]"
     ]
    },
    {
     "name": "stdout",
     "output_type": "stream",
     "text": [
      "epoch 573: avg test  loss 316.17, bar  test loss 4.129, len  test loss 0.658, col  test loss 164.099\n"
     ]
    },
    {
     "name": "stderr",
     "output_type": "stream",
     "text": [
      "Epoch 574: 272batch [00:46,  5.85batch/s, loss=264]\n"
     ]
    },
    {
     "name": "stdout",
     "output_type": "stream",
     "text": [
      "epoch 574: avg train loss 267.15, bar train loss 5.069, len train loss 0.015, col train loss 160.600\n"
     ]
    },
    {
     "name": "stderr",
     "output_type": "stream",
     "text": [
      "Epoch 575: 0batch [00:00, ?batch/s, loss=261]"
     ]
    },
    {
     "name": "stdout",
     "output_type": "stream",
     "text": [
      "epoch 574: avg test  loss 321.77, bar  test loss 4.161, len  test loss 0.708, col  test loss 164.098\n"
     ]
    },
    {
     "name": "stderr",
     "output_type": "stream",
     "text": [
      "Epoch 575: 272batch [00:46,  5.86batch/s, loss=249]\n"
     ]
    },
    {
     "name": "stdout",
     "output_type": "stream",
     "text": [
      "epoch 575: avg train loss 267.24, bar train loss 5.075, len train loss 0.015, col train loss 160.597\n",
      "epoch 575: avg test  loss 320.40, bar  test loss 4.155, len  test loss 0.696, col  test loss 164.101\n"
     ]
    },
    {
     "name": "stderr",
     "output_type": "stream",
     "text": [
      "Epoch 576: 272batch [00:46,  5.81batch/s, loss=306]\n"
     ]
    },
    {
     "name": "stdout",
     "output_type": "stream",
     "text": [
      "epoch 576: avg train loss 267.10, bar train loss 5.068, len train loss 0.014, col train loss 160.591\n"
     ]
    },
    {
     "name": "stderr",
     "output_type": "stream",
     "text": [
      "Epoch 577: 0batch [00:00, ?batch/s, loss=276]"
     ]
    },
    {
     "name": "stdout",
     "output_type": "stream",
     "text": [
      "epoch 576: avg test  loss 318.95, bar  test loss 4.130, len  test loss 0.686, col  test loss 164.099\n"
     ]
    },
    {
     "name": "stderr",
     "output_type": "stream",
     "text": [
      "Epoch 577: 272batch [00:46,  5.79batch/s, loss=284]\n"
     ]
    },
    {
     "name": "stdout",
     "output_type": "stream",
     "text": [
      "epoch 577: avg train loss 267.43, bar train loss 5.086, len train loss 0.014, col train loss 160.603\n"
     ]
    },
    {
     "name": "stderr",
     "output_type": "stream",
     "text": [
      "Epoch 578: 0batch [00:00, ?batch/s, loss=279]"
     ]
    },
    {
     "name": "stdout",
     "output_type": "stream",
     "text": [
      "epoch 577: avg test  loss 322.04, bar  test loss 4.129, len  test loss 0.716, col  test loss 164.121\n"
     ]
    },
    {
     "name": "stderr",
     "output_type": "stream",
     "text": [
      "Epoch 578: 272batch [00:46,  5.81batch/s, loss=271]\n"
     ]
    },
    {
     "name": "stdout",
     "output_type": "stream",
     "text": [
      "epoch 578: avg train loss 267.28, bar train loss 5.075, len train loss 0.015, col train loss 160.587\n"
     ]
    },
    {
     "name": "stderr",
     "output_type": "stream",
     "text": [
      "Epoch 579: 0batch [00:00, ?batch/s, loss=254]"
     ]
    },
    {
     "name": "stdout",
     "output_type": "stream",
     "text": [
      "epoch 578: avg test  loss 317.92, bar  test loss 4.174, len  test loss 0.666, col  test loss 164.090\n"
     ]
    },
    {
     "name": "stderr",
     "output_type": "stream",
     "text": [
      "Epoch 579: 272batch [00:46,  5.82batch/s, loss=284]\n"
     ]
    },
    {
     "name": "stdout",
     "output_type": "stream",
     "text": [
      "epoch 579: avg train loss 266.95, bar train loss 5.058, len train loss 0.015, col train loss 160.588\n"
     ]
    },
    {
     "name": "stderr",
     "output_type": "stream",
     "text": [
      "Epoch 580: 0batch [00:00, ?batch/s, loss=265]"
     ]
    },
    {
     "name": "stdout",
     "output_type": "stream",
     "text": [
      "epoch 579: avg test  loss 319.95, bar  test loss 4.152, len  test loss 0.690, col  test loss 164.115\n"
     ]
    },
    {
     "name": "stderr",
     "output_type": "stream",
     "text": [
      "Epoch 580: 272batch [00:46,  5.80batch/s, loss=266]\n"
     ]
    },
    {
     "name": "stdout",
     "output_type": "stream",
     "text": [
      "epoch 580: avg train loss 267.06, bar train loss 5.068, len train loss 0.014, col train loss 160.584\n",
      "epoch 580: avg test  loss 318.52, bar  test loss 4.138, len  test loss 0.678, col  test loss 164.089\n"
     ]
    },
    {
     "name": "stderr",
     "output_type": "stream",
     "text": [
      "Epoch 581: 272batch [00:46,  5.79batch/s, loss=265]\n"
     ]
    },
    {
     "name": "stdout",
     "output_type": "stream",
     "text": [
      "epoch 581: avg train loss 267.10, bar train loss 5.070, len train loss 0.014, col train loss 160.581\n"
     ]
    },
    {
     "name": "stderr",
     "output_type": "stream",
     "text": [
      "Epoch 582: 0batch [00:00, ?batch/s, loss=280]"
     ]
    },
    {
     "name": "stdout",
     "output_type": "stream",
     "text": [
      "epoch 581: avg test  loss 320.24, bar  test loss 4.155, len  test loss 0.693, col  test loss 164.097\n"
     ]
    },
    {
     "name": "stderr",
     "output_type": "stream",
     "text": [
      "Epoch 582: 272batch [00:46,  5.80batch/s, loss=267]\n"
     ]
    },
    {
     "name": "stdout",
     "output_type": "stream",
     "text": [
      "epoch 582: avg train loss 267.23, bar train loss 5.075, len train loss 0.015, col train loss 160.591\n"
     ]
    },
    {
     "name": "stderr",
     "output_type": "stream",
     "text": [
      "Epoch 583: 0batch [00:00, ?batch/s, loss=264]"
     ]
    },
    {
     "name": "stdout",
     "output_type": "stream",
     "text": [
      "epoch 582: avg test  loss 318.95, bar  test loss 4.142, len  test loss 0.684, col  test loss 164.134\n"
     ]
    },
    {
     "name": "stderr",
     "output_type": "stream",
     "text": [
      "Epoch 583: 272batch [00:47,  5.77batch/s, loss=279]\n"
     ]
    },
    {
     "name": "stdout",
     "output_type": "stream",
     "text": [
      "epoch 583: avg train loss 267.00, bar train loss 5.062, len train loss 0.015, col train loss 160.589\n"
     ]
    },
    {
     "name": "stderr",
     "output_type": "stream",
     "text": [
      "\r",
      "Epoch 584: 0batch [00:00, ?batch/s]"
     ]
    },
    {
     "name": "stdout",
     "output_type": "stream",
     "text": [
      "epoch 583: avg test  loss 317.22, bar  test loss 4.129, len  test loss 0.668, col  test loss 164.093\n"
     ]
    },
    {
     "name": "stderr",
     "output_type": "stream",
     "text": [
      "Epoch 584: 272batch [00:47,  5.77batch/s, loss=272]\n"
     ]
    },
    {
     "name": "stdout",
     "output_type": "stream",
     "text": [
      "epoch 584: avg train loss 267.02, bar train loss 5.065, len train loss 0.015, col train loss 160.585\n"
     ]
    },
    {
     "name": "stderr",
     "output_type": "stream",
     "text": [
      "Epoch 585: 0batch [00:00, ?batch/s, loss=272]"
     ]
    },
    {
     "name": "stdout",
     "output_type": "stream",
     "text": [
      "epoch 584: avg test  loss 321.90, bar  test loss 4.128, len  test loss 0.714, col  test loss 164.098\n"
     ]
    },
    {
     "name": "stderr",
     "output_type": "stream",
     "text": [
      "Epoch 585: 272batch [00:47,  5.78batch/s, loss=259]\n"
     ]
    },
    {
     "name": "stdout",
     "output_type": "stream",
     "text": [
      "epoch 585: avg train loss 267.29, bar train loss 5.078, len train loss 0.015, col train loss 160.583\n",
      "epoch 585: avg test  loss 324.48, bar  test loss 4.127, len  test loss 0.740, col  test loss 164.096\n"
     ]
    },
    {
     "name": "stderr",
     "output_type": "stream",
     "text": [
      "Epoch 586: 272batch [00:47,  5.78batch/s, loss=265]\n"
     ]
    },
    {
     "name": "stdout",
     "output_type": "stream",
     "text": [
      "epoch 586: avg train loss 267.18, bar train loss 5.071, len train loss 0.015, col train loss 160.579\n"
     ]
    },
    {
     "name": "stderr",
     "output_type": "stream",
     "text": [
      "\r",
      "Epoch 587: 0batch [00:00, ?batch/s]"
     ]
    },
    {
     "name": "stdout",
     "output_type": "stream",
     "text": [
      "epoch 586: avg test  loss 318.16, bar  test loss 4.179, len  test loss 0.669, col  test loss 164.107\n"
     ]
    },
    {
     "name": "stderr",
     "output_type": "stream",
     "text": [
      "Epoch 587: 272batch [00:47,  5.75batch/s, loss=259]\n"
     ]
    },
    {
     "name": "stdout",
     "output_type": "stream",
     "text": [
      "epoch 587: avg train loss 267.09, bar train loss 5.066, len train loss 0.015, col train loss 160.586\n"
     ]
    },
    {
     "name": "stderr",
     "output_type": "stream",
     "text": [
      "Epoch 588: 0batch [00:00, ?batch/s, loss=273]"
     ]
    },
    {
     "name": "stdout",
     "output_type": "stream",
     "text": [
      "epoch 587: avg test  loss 320.02, bar  test loss 4.139, len  test loss 0.694, col  test loss 164.106\n"
     ]
    },
    {
     "name": "stderr",
     "output_type": "stream",
     "text": [
      "Epoch 588: 272batch [00:47,  5.76batch/s, loss=299]\n"
     ]
    },
    {
     "name": "stdout",
     "output_type": "stream",
     "text": [
      "epoch 588: avg train loss 267.26, bar train loss 5.075, len train loss 0.015, col train loss 160.588\n"
     ]
    },
    {
     "name": "stderr",
     "output_type": "stream",
     "text": [
      "\r",
      "Epoch 589: 0batch [00:00, ?batch/s]"
     ]
    },
    {
     "name": "stdout",
     "output_type": "stream",
     "text": [
      "epoch 588: avg test  loss 321.43, bar  test loss 4.127, len  test loss 0.711, col  test loss 164.115\n"
     ]
    },
    {
     "name": "stderr",
     "output_type": "stream",
     "text": [
      "Epoch 589: 272batch [00:47,  5.74batch/s, loss=268]\n"
     ]
    },
    {
     "name": "stdout",
     "output_type": "stream",
     "text": [
      "epoch 589: avg train loss 267.16, bar train loss 5.072, len train loss 0.014, col train loss 160.580\n"
     ]
    },
    {
     "name": "stderr",
     "output_type": "stream",
     "text": [
      "Epoch 590: 0batch [00:00, ?batch/s, loss=267]"
     ]
    },
    {
     "name": "stdout",
     "output_type": "stream",
     "text": [
      "epoch 589: avg test  loss 318.49, bar  test loss 4.162, len  test loss 0.675, col  test loss 164.118\n"
     ]
    },
    {
     "name": "stderr",
     "output_type": "stream",
     "text": [
      "Epoch 590: 272batch [00:47,  5.75batch/s, loss=302]\n"
     ]
    },
    {
     "name": "stdout",
     "output_type": "stream",
     "text": [
      "epoch 590: avg train loss 267.21, bar train loss 5.074, len train loss 0.015, col train loss 160.571\n",
      "epoch 590: avg test  loss 318.73, bar  test loss 4.152, len  test loss 0.679, col  test loss 164.088\n"
     ]
    },
    {
     "name": "stderr",
     "output_type": "stream",
     "text": [
      "Epoch 591: 272batch [00:47,  5.73batch/s, loss=289]\n"
     ]
    },
    {
     "name": "stdout",
     "output_type": "stream",
     "text": [
      "epoch 591: avg train loss 267.14, bar train loss 5.073, len train loss 0.015, col train loss 160.567\n"
     ]
    },
    {
     "name": "stderr",
     "output_type": "stream",
     "text": [
      "Epoch 592: 0batch [00:00, ?batch/s, loss=266]"
     ]
    },
    {
     "name": "stdout",
     "output_type": "stream",
     "text": [
      "epoch 591: avg test  loss 319.89, bar  test loss 4.151, len  test loss 0.689, col  test loss 164.089\n"
     ]
    },
    {
     "name": "stderr",
     "output_type": "stream",
     "text": [
      "Epoch 592: 272batch [00:47,  5.72batch/s, loss=286]\n"
     ]
    },
    {
     "name": "stdout",
     "output_type": "stream",
     "text": [
      "epoch 592: avg train loss 267.09, bar train loss 5.066, len train loss 0.015, col train loss 160.574\n"
     ]
    },
    {
     "name": "stderr",
     "output_type": "stream",
     "text": [
      "Epoch 593: 0batch [00:00, ?batch/s, loss=267]"
     ]
    },
    {
     "name": "stdout",
     "output_type": "stream",
     "text": [
      "epoch 592: avg test  loss 319.83, bar  test loss 4.116, len  test loss 0.694, col  test loss 164.103\n"
     ]
    },
    {
     "name": "stderr",
     "output_type": "stream",
     "text": [
      "Epoch 593: 272batch [00:47,  5.71batch/s, loss=240]\n"
     ]
    },
    {
     "name": "stdout",
     "output_type": "stream",
     "text": [
      "epoch 593: avg train loss 267.07, bar train loss 5.067, len train loss 0.015, col train loss 160.577\n"
     ]
    },
    {
     "name": "stderr",
     "output_type": "stream",
     "text": [
      "\r",
      "Epoch 594: 0batch [00:00, ?batch/s]"
     ]
    },
    {
     "name": "stdout",
     "output_type": "stream",
     "text": [
      "epoch 593: avg test  loss 316.11, bar  test loss 4.148, len  test loss 0.652, col  test loss 164.106\n"
     ]
    },
    {
     "name": "stderr",
     "output_type": "stream",
     "text": [
      "Epoch 594: 272batch [00:47,  5.70batch/s, loss=285]\n"
     ]
    },
    {
     "name": "stdout",
     "output_type": "stream",
     "text": [
      "epoch 594: avg train loss 267.15, bar train loss 5.073, len train loss 0.014, col train loss 160.573\n"
     ]
    },
    {
     "name": "stderr",
     "output_type": "stream",
     "text": [
      "Epoch 595: 0batch [00:00, ?batch/s, loss=272]"
     ]
    },
    {
     "name": "stdout",
     "output_type": "stream",
     "text": [
      "epoch 594: avg test  loss 327.83, bar  test loss 4.167, len  test loss 0.768, col  test loss 164.111\n"
     ]
    },
    {
     "name": "stderr",
     "output_type": "stream",
     "text": [
      "Epoch 595: 272batch [00:47,  5.71batch/s, loss=266]\n"
     ]
    },
    {
     "name": "stdout",
     "output_type": "stream",
     "text": [
      "epoch 595: avg train loss 267.39, bar train loss 5.085, len train loss 0.014, col train loss 160.572\n",
      "epoch 595: avg test  loss 315.48, bar  test loss 4.108, len  test loss 0.656, col  test loss 164.117\n"
     ]
    },
    {
     "name": "stderr",
     "output_type": "stream",
     "text": [
      "Epoch 596: 272batch [00:47,  5.70batch/s, loss=269]\n"
     ]
    },
    {
     "name": "stdout",
     "output_type": "stream",
     "text": [
      "epoch 596: avg train loss 267.15, bar train loss 5.072, len train loss 0.015, col train loss 160.572\n"
     ]
    },
    {
     "name": "stderr",
     "output_type": "stream",
     "text": [
      "Epoch 597: 0batch [00:00, ?batch/s, loss=272]"
     ]
    },
    {
     "name": "stdout",
     "output_type": "stream",
     "text": [
      "epoch 596: avg test  loss 315.66, bar  test loss 4.131, len  test loss 0.651, col  test loss 164.107\n"
     ]
    },
    {
     "name": "stderr",
     "output_type": "stream",
     "text": [
      "Epoch 597: 272batch [00:47,  5.69batch/s, loss=304]\n"
     ]
    },
    {
     "name": "stdout",
     "output_type": "stream",
     "text": [
      "epoch 597: avg train loss 267.15, bar train loss 5.071, len train loss 0.015, col train loss 160.569\n"
     ]
    },
    {
     "name": "stderr",
     "output_type": "stream",
     "text": [
      "\r",
      "Epoch 598: 0batch [00:00, ?batch/s]"
     ]
    },
    {
     "name": "stdout",
     "output_type": "stream",
     "text": [
      "epoch 597: avg test  loss 317.55, bar  test loss 4.155, len  test loss 0.666, col  test loss 164.110\n"
     ]
    },
    {
     "name": "stderr",
     "output_type": "stream",
     "text": [
      "Epoch 598: 272batch [00:47,  5.69batch/s, loss=276]\n"
     ]
    },
    {
     "name": "stdout",
     "output_type": "stream",
     "text": [
      "epoch 598: avg train loss 267.00, bar train loss 5.066, len train loss 0.014, col train loss 160.566\n"
     ]
    },
    {
     "name": "stderr",
     "output_type": "stream",
     "text": [
      "\r",
      "Epoch 599: 0batch [00:00, ?batch/s]"
     ]
    },
    {
     "name": "stdout",
     "output_type": "stream",
     "text": [
      "epoch 598: avg test  loss 314.78, bar  test loss 4.124, len  test loss 0.643, col  test loss 164.098\n"
     ]
    },
    {
     "name": "stderr",
     "output_type": "stream",
     "text": [
      "Epoch 599: 272batch [00:47,  5.67batch/s, loss=285]\n"
     ]
    },
    {
     "name": "stdout",
     "output_type": "stream",
     "text": [
      "epoch 599: avg train loss 267.07, bar train loss 5.068, len train loss 0.015, col train loss 160.562\n"
     ]
    },
    {
     "name": "stderr",
     "output_type": "stream",
     "text": [
      "\r",
      "Epoch 600: 0batch [00:00, ?batch/s]"
     ]
    },
    {
     "name": "stdout",
     "output_type": "stream",
     "text": [
      "epoch 599: avg test  loss 322.96, bar  test loss 4.137, len  test loss 0.725, col  test loss 164.106\n"
     ]
    },
    {
     "name": "stderr",
     "output_type": "stream",
     "text": [
      "Epoch 600: 272batch [00:47,  5.67batch/s, loss=284]\n"
     ]
    },
    {
     "name": "stdout",
     "output_type": "stream",
     "text": [
      "epoch 600: avg train loss 266.64, bar train loss 5.047, len train loss 0.015, col train loss 160.549\n",
      "epoch 600: avg test  loss 317.44, bar  test loss 4.143, len  test loss 0.669, col  test loss 164.105\n"
     ]
    },
    {
     "name": "stderr",
     "output_type": "stream",
     "text": [
      "Epoch 601: 272batch [00:48,  5.66batch/s, loss=270]\n"
     ]
    },
    {
     "name": "stdout",
     "output_type": "stream",
     "text": [
      "epoch 601: avg train loss 266.91, bar train loss 5.061, len train loss 0.015, col train loss 160.556\n"
     ]
    },
    {
     "name": "stderr",
     "output_type": "stream",
     "text": [
      "Epoch 602: 0batch [00:00, ?batch/s, loss=266]"
     ]
    },
    {
     "name": "stdout",
     "output_type": "stream",
     "text": [
      "epoch 601: avg test  loss 320.80, bar  test loss 4.116, len  test loss 0.707, col  test loss 164.122\n"
     ]
    },
    {
     "name": "stderr",
     "output_type": "stream",
     "text": [
      "Epoch 602: 272batch [00:47,  5.72batch/s, loss=255]\n"
     ]
    },
    {
     "name": "stdout",
     "output_type": "stream",
     "text": [
      "epoch 602: avg train loss 266.52, bar train loss 5.043, len train loss 0.014, col train loss 160.556\n"
     ]
    },
    {
     "name": "stderr",
     "output_type": "stream",
     "text": [
      "\r",
      "Epoch 603: 0batch [00:00, ?batch/s]"
     ]
    },
    {
     "name": "stdout",
     "output_type": "stream",
     "text": [
      "epoch 602: avg test  loss 321.31, bar  test loss 4.114, len  test loss 0.712, col  test loss 164.098\n"
     ]
    },
    {
     "name": "stderr",
     "output_type": "stream",
     "text": [
      "Epoch 603: 272batch [00:47,  5.68batch/s, loss=275]\n"
     ]
    },
    {
     "name": "stdout",
     "output_type": "stream",
     "text": [
      "epoch 603: avg train loss 266.88, bar train loss 5.057, len train loss 0.015, col train loss 160.550\n"
     ]
    },
    {
     "name": "stderr",
     "output_type": "stream",
     "text": [
      "\r",
      "Epoch 604: 0batch [00:00, ?batch/s]"
     ]
    },
    {
     "name": "stdout",
     "output_type": "stream",
     "text": [
      "epoch 603: avg test  loss 317.44, bar  test loss 4.112, len  test loss 0.675, col  test loss 164.098\n"
     ]
    },
    {
     "name": "stderr",
     "output_type": "stream",
     "text": [
      "Epoch 604: 272batch [00:47,  5.67batch/s, loss=264]\n"
     ]
    },
    {
     "name": "stdout",
     "output_type": "stream",
     "text": [
      "epoch 604: avg train loss 266.82, bar train loss 5.057, len train loss 0.014, col train loss 160.550\n"
     ]
    },
    {
     "name": "stderr",
     "output_type": "stream",
     "text": [
      "\r",
      "Epoch 605: 0batch [00:00, ?batch/s]"
     ]
    },
    {
     "name": "stdout",
     "output_type": "stream",
     "text": [
      "epoch 604: avg test  loss 318.05, bar  test loss 4.148, len  test loss 0.673, col  test loss 164.106\n"
     ]
    },
    {
     "name": "stderr",
     "output_type": "stream",
     "text": [
      "Epoch 605: 272batch [00:47,  5.67batch/s, loss=256]\n"
     ]
    },
    {
     "name": "stdout",
     "output_type": "stream",
     "text": [
      "epoch 605: avg train loss 266.68, bar train loss 5.050, len train loss 0.015, col train loss 160.554\n",
      "epoch 605: avg test  loss 318.21, bar  test loss 4.138, len  test loss 0.676, col  test loss 164.130\n"
     ]
    },
    {
     "name": "stderr",
     "output_type": "stream",
     "text": [
      "Epoch 606: 272batch [00:48,  5.65batch/s, loss=285]\n"
     ]
    },
    {
     "name": "stdout",
     "output_type": "stream",
     "text": [
      "epoch 606: avg train loss 266.55, bar train loss 5.041, len train loss 0.015, col train loss 160.554\n"
     ]
    },
    {
     "name": "stderr",
     "output_type": "stream",
     "text": [
      "\r",
      "Epoch 607: 0batch [00:00, ?batch/s]"
     ]
    },
    {
     "name": "stdout",
     "output_type": "stream",
     "text": [
      "epoch 606: avg test  loss 312.74, bar  test loss 4.109, len  test loss 0.628, col  test loss 164.119\n"
     ]
    },
    {
     "name": "stderr",
     "output_type": "stream",
     "text": [
      "Epoch 607: 272batch [00:48,  5.66batch/s, loss=273]\n"
     ]
    },
    {
     "name": "stdout",
     "output_type": "stream",
     "text": [
      "epoch 607: avg train loss 266.67, bar train loss 5.050, len train loss 0.014, col train loss 160.552\n"
     ]
    },
    {
     "name": "stderr",
     "output_type": "stream",
     "text": [
      "\r",
      "Epoch 608: 0batch [00:00, ?batch/s]"
     ]
    },
    {
     "name": "stdout",
     "output_type": "stream",
     "text": [
      "epoch 607: avg test  loss 314.78, bar  test loss 4.135, len  test loss 0.643, col  test loss 164.112\n"
     ]
    },
    {
     "name": "stderr",
     "output_type": "stream",
     "text": [
      "Epoch 608: 272batch [00:48,  5.63batch/s, loss=288]\n"
     ]
    },
    {
     "name": "stdout",
     "output_type": "stream",
     "text": [
      "epoch 608: avg train loss 266.67, bar train loss 5.048, len train loss 0.015, col train loss 160.551\n"
     ]
    },
    {
     "name": "stderr",
     "output_type": "stream",
     "text": [
      "Epoch 609: 0batch [00:00, ?batch/s, loss=269]"
     ]
    },
    {
     "name": "stdout",
     "output_type": "stream",
     "text": [
      "epoch 608: avg test  loss 316.26, bar  test loss 4.152, len  test loss 0.653, col  test loss 164.109\n"
     ]
    },
    {
     "name": "stderr",
     "output_type": "stream",
     "text": [
      "Epoch 609: 272batch [00:48,  5.63batch/s, loss=297]\n"
     ]
    },
    {
     "name": "stdout",
     "output_type": "stream",
     "text": [
      "epoch 609: avg train loss 266.83, bar train loss 5.058, len train loss 0.014, col train loss 160.546\n"
     ]
    },
    {
     "name": "stderr",
     "output_type": "stream",
     "text": [
      "Epoch 610: 0batch [00:00, ?batch/s, loss=260]"
     ]
    },
    {
     "name": "stdout",
     "output_type": "stream",
     "text": [
      "epoch 609: avg test  loss 318.40, bar  test loss 4.132, len  test loss 0.679, col  test loss 164.105\n"
     ]
    },
    {
     "name": "stderr",
     "output_type": "stream",
     "text": [
      "Epoch 610: 272batch [00:48,  5.63batch/s, loss=281]\n"
     ]
    },
    {
     "name": "stdout",
     "output_type": "stream",
     "text": [
      "epoch 610: avg train loss 266.54, bar train loss 5.044, len train loss 0.014, col train loss 160.544\n",
      "epoch 610: avg test  loss 319.40, bar  test loss 4.113, len  test loss 0.695, col  test loss 164.123\n"
     ]
    },
    {
     "name": "stderr",
     "output_type": "stream",
     "text": [
      "Epoch 611: 272batch [00:48,  5.61batch/s, loss=251]\n"
     ]
    },
    {
     "name": "stdout",
     "output_type": "stream",
     "text": [
      "epoch 611: avg train loss 266.54, bar train loss 5.043, len train loss 0.014, col train loss 160.556\n"
     ]
    },
    {
     "name": "stderr",
     "output_type": "stream",
     "text": [
      "Epoch 612: 0batch [00:00, ?batch/s, loss=261]"
     ]
    },
    {
     "name": "stdout",
     "output_type": "stream",
     "text": [
      "epoch 611: avg test  loss 317.15, bar  test loss 4.107, len  test loss 0.672, col  test loss 164.086\n"
     ]
    },
    {
     "name": "stderr",
     "output_type": "stream",
     "text": [
      "Epoch 612: 272batch [00:48,  5.63batch/s, loss=301]\n"
     ]
    },
    {
     "name": "stdout",
     "output_type": "stream",
     "text": [
      "epoch 612: avg train loss 266.60, bar train loss 5.044, len train loss 0.015, col train loss 160.562\n"
     ]
    },
    {
     "name": "stderr",
     "output_type": "stream",
     "text": [
      "\r",
      "Epoch 613: 0batch [00:00, ?batch/s]"
     ]
    },
    {
     "name": "stdout",
     "output_type": "stream",
     "text": [
      "epoch 612: avg test  loss 312.71, bar  test loss 4.157, len  test loss 0.617, col  test loss 164.096\n"
     ]
    },
    {
     "name": "stderr",
     "output_type": "stream",
     "text": [
      "Epoch 613: 272batch [00:48,  5.60batch/s, loss=271]\n"
     ]
    },
    {
     "name": "stdout",
     "output_type": "stream",
     "text": [
      "epoch 613: avg train loss 266.75, bar train loss 5.052, len train loss 0.015, col train loss 160.542\n"
     ]
    },
    {
     "name": "stderr",
     "output_type": "stream",
     "text": [
      "\r",
      "Epoch 614: 0batch [00:00, ?batch/s]"
     ]
    },
    {
     "name": "stdout",
     "output_type": "stream",
     "text": [
      "epoch 613: avg test  loss 318.78, bar  test loss 4.153, len  test loss 0.679, col  test loss 164.104\n"
     ]
    },
    {
     "name": "stderr",
     "output_type": "stream",
     "text": [
      "Epoch 614: 272batch [00:48,  5.61batch/s, loss=257]\n"
     ]
    },
    {
     "name": "stdout",
     "output_type": "stream",
     "text": [
      "epoch 614: avg train loss 266.66, bar train loss 5.048, len train loss 0.015, col train loss 160.541\n"
     ]
    },
    {
     "name": "stderr",
     "output_type": "stream",
     "text": [
      "\r",
      "Epoch 615: 0batch [00:00, ?batch/s]"
     ]
    },
    {
     "name": "stdout",
     "output_type": "stream",
     "text": [
      "epoch 614: avg test  loss 322.35, bar  test loss 4.165, len  test loss 0.713, col  test loss 164.109\n"
     ]
    },
    {
     "name": "stderr",
     "output_type": "stream",
     "text": [
      "Epoch 615: 272batch [00:48,  5.59batch/s, loss=287]\n"
     ]
    },
    {
     "name": "stdout",
     "output_type": "stream",
     "text": [
      "epoch 615: avg train loss 266.56, bar train loss 5.044, len train loss 0.014, col train loss 160.549\n",
      "epoch 615: avg test  loss 317.72, bar  test loss 4.120, len  test loss 0.675, col  test loss 164.119\n"
     ]
    },
    {
     "name": "stderr",
     "output_type": "stream",
     "text": [
      "Epoch 616: 272batch [00:48,  5.58batch/s, loss=271]\n"
     ]
    },
    {
     "name": "stdout",
     "output_type": "stream",
     "text": [
      "epoch 616: avg train loss 266.50, bar train loss 5.041, len train loss 0.014, col train loss 160.534\n"
     ]
    },
    {
     "name": "stderr",
     "output_type": "stream",
     "text": [
      "Epoch 617: 0batch [00:00, ?batch/s, loss=249]"
     ]
    },
    {
     "name": "stdout",
     "output_type": "stream",
     "text": [
      "epoch 616: avg test  loss 317.09, bar  test loss 4.137, len  test loss 0.666, col  test loss 164.098\n"
     ]
    },
    {
     "name": "stderr",
     "output_type": "stream",
     "text": [
      "Epoch 617: 272batch [00:48,  5.60batch/s, loss=279]\n"
     ]
    },
    {
     "name": "stdout",
     "output_type": "stream",
     "text": [
      "epoch 617: avg train loss 266.67, bar train loss 5.050, len train loss 0.015, col train loss 160.529\n"
     ]
    },
    {
     "name": "stderr",
     "output_type": "stream",
     "text": [
      "\r",
      "Epoch 618: 0batch [00:00, ?batch/s]"
     ]
    },
    {
     "name": "stdout",
     "output_type": "stream",
     "text": [
      "epoch 617: avg test  loss 319.15, bar  test loss 4.160, len  test loss 0.683, col  test loss 164.089\n"
     ]
    },
    {
     "name": "stderr",
     "output_type": "stream",
     "text": [
      "Epoch 618: 272batch [00:48,  5.59batch/s, loss=290]\n"
     ]
    },
    {
     "name": "stdout",
     "output_type": "stream",
     "text": [
      "epoch 618: avg train loss 266.80, bar train loss 5.056, len train loss 0.015, col train loss 160.532\n"
     ]
    },
    {
     "name": "stderr",
     "output_type": "stream",
     "text": [
      "\r",
      "Epoch 619: 0batch [00:00, ?batch/s]"
     ]
    },
    {
     "name": "stdout",
     "output_type": "stream",
     "text": [
      "epoch 618: avg test  loss 318.98, bar  test loss 4.143, len  test loss 0.683, col  test loss 164.081\n"
     ]
    },
    {
     "name": "stderr",
     "output_type": "stream",
     "text": [
      "Epoch 619: 272batch [00:48,  5.58batch/s, loss=287]\n"
     ]
    },
    {
     "name": "stdout",
     "output_type": "stream",
     "text": [
      "epoch 619: avg train loss 266.37, bar train loss 5.037, len train loss 0.014, col train loss 160.537\n"
     ]
    },
    {
     "name": "stderr",
     "output_type": "stream",
     "text": [
      "\r",
      "Epoch 620: 0batch [00:00, ?batch/s]"
     ]
    },
    {
     "name": "stdout",
     "output_type": "stream",
     "text": [
      "epoch 619: avg test  loss 315.04, bar  test loss 4.166, len  test loss 0.641, col  test loss 164.089\n"
     ]
    },
    {
     "name": "stderr",
     "output_type": "stream",
     "text": [
      "Epoch 620: 272batch [00:48,  5.56batch/s, loss=288]\n"
     ]
    },
    {
     "name": "stdout",
     "output_type": "stream",
     "text": [
      "epoch 620: avg train loss 266.61, bar train loss 5.048, len train loss 0.014, col train loss 160.533\n",
      "epoch 620: avg test  loss 315.81, bar  test loss 4.153, len  test loss 0.648, col  test loss 164.090\n"
     ]
    },
    {
     "name": "stderr",
     "output_type": "stream",
     "text": [
      "Epoch 621: 272batch [00:48,  5.56batch/s, loss=262]\n"
     ]
    },
    {
     "name": "stdout",
     "output_type": "stream",
     "text": [
      "epoch 621: avg train loss 266.70, bar train loss 5.051, len train loss 0.014, col train loss 160.537\n"
     ]
    },
    {
     "name": "stderr",
     "output_type": "stream",
     "text": [
      "\r",
      "Epoch 622: 0batch [00:00, ?batch/s]"
     ]
    },
    {
     "name": "stdout",
     "output_type": "stream",
     "text": [
      "epoch 621: avg test  loss 316.49, bar  test loss 4.120, len  test loss 0.662, col  test loss 164.095\n"
     ]
    },
    {
     "name": "stderr",
     "output_type": "stream",
     "text": [
      "Epoch 622: 272batch [00:49,  5.55batch/s, loss=271]\n"
     ]
    },
    {
     "name": "stdout",
     "output_type": "stream",
     "text": [
      "epoch 622: avg train loss 266.78, bar train loss 5.056, len train loss 0.015, col train loss 160.530\n"
     ]
    },
    {
     "name": "stderr",
     "output_type": "stream",
     "text": [
      "\r",
      "Epoch 623: 0batch [00:00, ?batch/s]"
     ]
    },
    {
     "name": "stdout",
     "output_type": "stream",
     "text": [
      "epoch 622: avg test  loss 320.83, bar  test loss 4.103, len  test loss 0.710, col  test loss 164.101\n"
     ]
    },
    {
     "name": "stderr",
     "output_type": "stream",
     "text": [
      "Epoch 623: 272batch [00:49,  5.55batch/s, loss=275]\n"
     ]
    },
    {
     "name": "stdout",
     "output_type": "stream",
     "text": [
      "epoch 623: avg train loss 266.25, bar train loss 5.031, len train loss 0.015, col train loss 160.532\n"
     ]
    },
    {
     "name": "stderr",
     "output_type": "stream",
     "text": [
      "\r",
      "Epoch 624: 0batch [00:00, ?batch/s]"
     ]
    },
    {
     "name": "stdout",
     "output_type": "stream",
     "text": [
      "epoch 623: avg test  loss 317.22, bar  test loss 4.165, len  test loss 0.663, col  test loss 164.118\n"
     ]
    },
    {
     "name": "stderr",
     "output_type": "stream",
     "text": [
      "Epoch 624: 272batch [00:49,  5.54batch/s, loss=256]\n"
     ]
    },
    {
     "name": "stdout",
     "output_type": "stream",
     "text": [
      "epoch 624: avg train loss 266.55, bar train loss 5.045, len train loss 0.014, col train loss 160.534\n"
     ]
    },
    {
     "name": "stderr",
     "output_type": "stream",
     "text": [
      "Epoch 625: 0batch [00:00, ?batch/s, loss=276]"
     ]
    },
    {
     "name": "stdout",
     "output_type": "stream",
     "text": [
      "epoch 624: avg test  loss 317.15, bar  test loss 4.136, len  test loss 0.667, col  test loss 164.122\n"
     ]
    },
    {
     "name": "stderr",
     "output_type": "stream",
     "text": [
      "Epoch 625: 272batch [00:49,  5.52batch/s, loss=257]\n"
     ]
    },
    {
     "name": "stdout",
     "output_type": "stream",
     "text": [
      "epoch 625: avg train loss 266.55, bar train loss 5.047, len train loss 0.014, col train loss 160.530\n",
      "epoch 625: avg test  loss 318.51, bar  test loss 4.113, len  test loss 0.685, col  test loss 164.083\n"
     ]
    },
    {
     "name": "stderr",
     "output_type": "stream",
     "text": [
      "Epoch 626: 272batch [00:49,  5.51batch/s, loss=262]\n"
     ]
    },
    {
     "name": "stdout",
     "output_type": "stream",
     "text": [
      "epoch 626: avg train loss 266.45, bar train loss 5.041, len train loss 0.014, col train loss 160.522\n"
     ]
    },
    {
     "name": "stderr",
     "output_type": "stream",
     "text": [
      "\r",
      "Epoch 627: 0batch [00:00, ?batch/s]"
     ]
    },
    {
     "name": "stdout",
     "output_type": "stream",
     "text": [
      "epoch 626: avg test  loss 315.99, bar  test loss 4.128, len  test loss 0.657, col  test loss 164.114\n"
     ]
    },
    {
     "name": "stderr",
     "output_type": "stream",
     "text": [
      "Epoch 627: 272batch [00:49,  5.53batch/s, loss=252]\n"
     ]
    },
    {
     "name": "stdout",
     "output_type": "stream",
     "text": [
      "epoch 627: avg train loss 266.44, bar train loss 5.038, len train loss 0.015, col train loss 160.537\n"
     ]
    },
    {
     "name": "stderr",
     "output_type": "stream",
     "text": [
      "Epoch 628: 0batch [00:00, ?batch/s, loss=283]"
     ]
    },
    {
     "name": "stdout",
     "output_type": "stream",
     "text": [
      "epoch 627: avg test  loss 315.99, bar  test loss 4.107, len  test loss 0.659, col  test loss 164.088\n"
     ]
    },
    {
     "name": "stderr",
     "output_type": "stream",
     "text": [
      "Epoch 628: 272batch [00:49,  5.50batch/s, loss=285]\n"
     ]
    },
    {
     "name": "stdout",
     "output_type": "stream",
     "text": [
      "epoch 628: avg train loss 266.56, bar train loss 5.043, len train loss 0.015, col train loss 160.519\n"
     ]
    },
    {
     "name": "stderr",
     "output_type": "stream",
     "text": [
      "Epoch 629: 0batch [00:00, ?batch/s, loss=277]"
     ]
    },
    {
     "name": "stdout",
     "output_type": "stream",
     "text": [
      "epoch 628: avg test  loss 318.53, bar  test loss 4.119, len  test loss 0.683, col  test loss 164.097\n"
     ]
    },
    {
     "name": "stderr",
     "output_type": "stream",
     "text": [
      "Epoch 629: 272batch [00:49,  5.52batch/s, loss=280]\n"
     ]
    },
    {
     "name": "stdout",
     "output_type": "stream",
     "text": [
      "epoch 629: avg train loss 266.40, bar train loss 5.039, len train loss 0.014, col train loss 160.520\n"
     ]
    },
    {
     "name": "stderr",
     "output_type": "stream",
     "text": [
      "\r",
      "Epoch 630: 0batch [00:00, ?batch/s]"
     ]
    },
    {
     "name": "stdout",
     "output_type": "stream",
     "text": [
      "epoch 629: avg test  loss 313.38, bar  test loss 4.136, len  test loss 0.630, col  test loss 164.113\n"
     ]
    },
    {
     "name": "stderr",
     "output_type": "stream",
     "text": [
      "Epoch 630: 272batch [00:49,  5.52batch/s, loss=302]\n"
     ]
    },
    {
     "name": "stdout",
     "output_type": "stream",
     "text": [
      "epoch 630: avg train loss 266.22, bar train loss 5.031, len train loss 0.014, col train loss 160.517\n",
      "epoch 630: avg test  loss 319.20, bar  test loss 4.116, len  test loss 0.690, col  test loss 164.099\n"
     ]
    },
    {
     "name": "stderr",
     "output_type": "stream",
     "text": [
      "Epoch 631: 272batch [00:49,  5.50batch/s, loss=268]\n"
     ]
    },
    {
     "name": "stdout",
     "output_type": "stream",
     "text": [
      "epoch 631: avg train loss 266.63, bar train loss 5.050, len train loss 0.014, col train loss 160.531\n"
     ]
    },
    {
     "name": "stderr",
     "output_type": "stream",
     "text": [
      "\r",
      "Epoch 632: 0batch [00:00, ?batch/s]"
     ]
    },
    {
     "name": "stdout",
     "output_type": "stream",
     "text": [
      "epoch 631: avg test  loss 317.90, bar  test loss 4.161, len  test loss 0.670, col  test loss 164.100\n"
     ]
    },
    {
     "name": "stderr",
     "output_type": "stream",
     "text": [
      "Epoch 632: 272batch [00:49,  5.49batch/s, loss=266]\n"
     ]
    },
    {
     "name": "stdout",
     "output_type": "stream",
     "text": [
      "epoch 632: avg train loss 266.61, bar train loss 5.049, len train loss 0.014, col train loss 160.514\n"
     ]
    },
    {
     "name": "stderr",
     "output_type": "stream",
     "text": [
      "\r",
      "Epoch 633: 0batch [00:00, ?batch/s]"
     ]
    },
    {
     "name": "stdout",
     "output_type": "stream",
     "text": [
      "epoch 632: avg test  loss 314.62, bar  test loss 4.126, len  test loss 0.643, col  test loss 164.093\n"
     ]
    },
    {
     "name": "stderr",
     "output_type": "stream",
     "text": [
      "Epoch 633: 272batch [00:49,  5.48batch/s, loss=267]\n"
     ]
    },
    {
     "name": "stdout",
     "output_type": "stream",
     "text": [
      "epoch 633: avg train loss 266.46, bar train loss 5.042, len train loss 0.014, col train loss 160.512\n"
     ]
    },
    {
     "name": "stderr",
     "output_type": "stream",
     "text": [
      "\r",
      "Epoch 634: 0batch [00:00, ?batch/s]"
     ]
    },
    {
     "name": "stdout",
     "output_type": "stream",
     "text": [
      "epoch 633: avg test  loss 317.17, bar  test loss 4.157, len  test loss 0.661, col  test loss 164.094\n"
     ]
    },
    {
     "name": "stderr",
     "output_type": "stream",
     "text": [
      "Epoch 634: 272batch [00:49,  5.48batch/s, loss=293]\n"
     ]
    },
    {
     "name": "stdout",
     "output_type": "stream",
     "text": [
      "epoch 634: avg train loss 266.49, bar train loss 5.044, len train loss 0.014, col train loss 160.503\n"
     ]
    },
    {
     "name": "stderr",
     "output_type": "stream",
     "text": [
      "\r",
      "Epoch 635: 0batch [00:00, ?batch/s]"
     ]
    },
    {
     "name": "stdout",
     "output_type": "stream",
     "text": [
      "epoch 634: avg test  loss 315.71, bar  test loss 4.189, len  test loss 0.642, col  test loss 164.114\n"
     ]
    },
    {
     "name": "stderr",
     "output_type": "stream",
     "text": [
      "Epoch 635: 272batch [00:49,  5.47batch/s, loss=276]\n"
     ]
    },
    {
     "name": "stdout",
     "output_type": "stream",
     "text": [
      "epoch 635: avg train loss 266.40, bar train loss 5.038, len train loss 0.015, col train loss 160.522\n",
      "epoch 635: avg test  loss 309.91, bar  test loss 4.099, len  test loss 0.602, col  test loss 164.090\n"
     ]
    },
    {
     "name": "stderr",
     "output_type": "stream",
     "text": [
      "Epoch 636: 272batch [00:49,  5.45batch/s, loss=281]\n"
     ]
    },
    {
     "name": "stdout",
     "output_type": "stream",
     "text": [
      "epoch 636: avg train loss 266.49, bar train loss 5.044, len train loss 0.014, col train loss 160.512\n"
     ]
    },
    {
     "name": "stderr",
     "output_type": "stream",
     "text": [
      "\r",
      "Epoch 637: 0batch [00:00, ?batch/s]"
     ]
    },
    {
     "name": "stdout",
     "output_type": "stream",
     "text": [
      "epoch 636: avg test  loss 314.60, bar  test loss 4.124, len  test loss 0.644, col  test loss 164.084\n"
     ]
    },
    {
     "name": "stderr",
     "output_type": "stream",
     "text": [
      "Epoch 637: 272batch [00:50,  5.35batch/s, loss=266]\n"
     ]
    },
    {
     "name": "stdout",
     "output_type": "stream",
     "text": [
      "epoch 637: avg train loss 266.56, bar train loss 5.047, len train loss 0.014, col train loss 160.515\n"
     ]
    },
    {
     "name": "stderr",
     "output_type": "stream",
     "text": [
      "\r",
      "Epoch 638: 0batch [00:00, ?batch/s]"
     ]
    },
    {
     "name": "stdout",
     "output_type": "stream",
     "text": [
      "epoch 637: avg test  loss 320.08, bar  test loss 4.137, len  test loss 0.695, col  test loss 164.092\n"
     ]
    },
    {
     "name": "stderr",
     "output_type": "stream",
     "text": [
      "Epoch 638: 272batch [00:49,  5.47batch/s, loss=273]\n"
     ]
    },
    {
     "name": "stdout",
     "output_type": "stream",
     "text": [
      "epoch 638: avg train loss 266.60, bar train loss 5.047, len train loss 0.015, col train loss 160.516\n"
     ]
    },
    {
     "name": "stderr",
     "output_type": "stream",
     "text": [
      "\r",
      "Epoch 639: 0batch [00:00, ?batch/s]"
     ]
    },
    {
     "name": "stdout",
     "output_type": "stream",
     "text": [
      "epoch 638: avg test  loss 319.29, bar  test loss 4.124, len  test loss 0.691, col  test loss 164.095\n"
     ]
    },
    {
     "name": "stderr",
     "output_type": "stream",
     "text": [
      "Epoch 639: 272batch [00:49,  5.44batch/s, loss=256]\n"
     ]
    },
    {
     "name": "stdout",
     "output_type": "stream",
     "text": [
      "epoch 639: avg train loss 266.67, bar train loss 5.051, len train loss 0.015, col train loss 160.513\n"
     ]
    },
    {
     "name": "stderr",
     "output_type": "stream",
     "text": [
      "\r",
      "Epoch 640: 0batch [00:00, ?batch/s]"
     ]
    },
    {
     "name": "stdout",
     "output_type": "stream",
     "text": [
      "epoch 639: avg test  loss 315.25, bar  test loss 4.090, len  test loss 0.658, col  test loss 164.094\n"
     ]
    },
    {
     "name": "stderr",
     "output_type": "stream",
     "text": [
      "Epoch 640: 272batch [00:49,  5.45batch/s, loss=263]\n"
     ]
    },
    {
     "name": "stdout",
     "output_type": "stream",
     "text": [
      "epoch 640: avg train loss 266.48, bar train loss 5.042, len train loss 0.014, col train loss 160.514\n",
      "epoch 640: avg test  loss 315.38, bar  test loss 4.106, len  test loss 0.654, col  test loss 164.083\n"
     ]
    },
    {
     "name": "stderr",
     "output_type": "stream",
     "text": [
      "Epoch 641: 272batch [00:49,  5.45batch/s, loss=269]\n"
     ]
    },
    {
     "name": "stdout",
     "output_type": "stream",
     "text": [
      "epoch 641: avg train loss 266.71, bar train loss 5.055, len train loss 0.014, col train loss 160.508\n"
     ]
    },
    {
     "name": "stderr",
     "output_type": "stream",
     "text": [
      "\r",
      "Epoch 642: 0batch [00:00, ?batch/s]"
     ]
    },
    {
     "name": "stdout",
     "output_type": "stream",
     "text": [
      "epoch 641: avg test  loss 317.51, bar  test loss 4.111, len  test loss 0.676, col  test loss 164.112\n"
     ]
    },
    {
     "name": "stderr",
     "output_type": "stream",
     "text": [
      "Epoch 642: 272batch [00:50,  5.40batch/s, loss=289]\n"
     ]
    },
    {
     "name": "stdout",
     "output_type": "stream",
     "text": [
      "epoch 642: avg train loss 266.59, bar train loss 5.047, len train loss 0.015, col train loss 160.499\n"
     ]
    },
    {
     "name": "stderr",
     "output_type": "stream",
     "text": [
      "\r",
      "Epoch 643: 0batch [00:00, ?batch/s]"
     ]
    },
    {
     "name": "stdout",
     "output_type": "stream",
     "text": [
      "epoch 642: avg test  loss 315.61, bar  test loss 4.114, len  test loss 0.656, col  test loss 164.093\n"
     ]
    },
    {
     "name": "stderr",
     "output_type": "stream",
     "text": [
      "Epoch 643: 272batch [00:50,  5.41batch/s, loss=262]\n"
     ]
    },
    {
     "name": "stdout",
     "output_type": "stream",
     "text": [
      "epoch 643: avg train loss 266.52, bar train loss 5.045, len train loss 0.015, col train loss 160.506\n"
     ]
    },
    {
     "name": "stderr",
     "output_type": "stream",
     "text": [
      "\r",
      "Epoch 644: 0batch [00:00, ?batch/s]"
     ]
    },
    {
     "name": "stdout",
     "output_type": "stream",
     "text": [
      "epoch 643: avg test  loss 318.91, bar  test loss 4.118, len  test loss 0.687, col  test loss 164.106\n"
     ]
    },
    {
     "name": "stderr",
     "output_type": "stream",
     "text": [
      "Epoch 644: 272batch [00:50,  5.35batch/s, loss=270]\n"
     ]
    },
    {
     "name": "stdout",
     "output_type": "stream",
     "text": [
      "epoch 644: avg train loss 266.51, bar train loss 5.046, len train loss 0.014, col train loss 160.495\n"
     ]
    },
    {
     "name": "stderr",
     "output_type": "stream",
     "text": [
      "\r",
      "Epoch 645: 0batch [00:00, ?batch/s]"
     ]
    },
    {
     "name": "stdout",
     "output_type": "stream",
     "text": [
      "epoch 644: avg test  loss 316.11, bar  test loss 4.189, len  test loss 0.646, col  test loss 164.103\n"
     ]
    },
    {
     "name": "stderr",
     "output_type": "stream",
     "text": [
      "Epoch 645: 272batch [00:50,  5.42batch/s, loss=255]\n"
     ]
    },
    {
     "name": "stdout",
     "output_type": "stream",
     "text": [
      "epoch 645: avg train loss 266.14, bar train loss 5.028, len train loss 0.014, col train loss 160.493\n",
      "epoch 645: avg test  loss 319.01, bar  test loss 4.115, len  test loss 0.691, col  test loss 164.093\n"
     ]
    },
    {
     "name": "stderr",
     "output_type": "stream",
     "text": [
      "Epoch 646: 272batch [00:50,  5.42batch/s, loss=287]\n"
     ]
    },
    {
     "name": "stdout",
     "output_type": "stream",
     "text": [
      "epoch 646: avg train loss 266.36, bar train loss 5.039, len train loss 0.014, col train loss 160.499\n"
     ]
    },
    {
     "name": "stderr",
     "output_type": "stream",
     "text": [
      "\r",
      "Epoch 647: 0batch [00:00, ?batch/s]"
     ]
    },
    {
     "name": "stdout",
     "output_type": "stream",
     "text": [
      "epoch 646: avg test  loss 313.24, bar  test loss 4.110, len  test loss 0.632, col  test loss 164.106\n"
     ]
    },
    {
     "name": "stderr",
     "output_type": "stream",
     "text": [
      "Epoch 647: 272batch [00:50,  5.42batch/s, loss=291]\n"
     ]
    },
    {
     "name": "stdout",
     "output_type": "stream",
     "text": [
      "epoch 647: avg train loss 266.37, bar train loss 5.040, len train loss 0.014, col train loss 160.498\n"
     ]
    },
    {
     "name": "stderr",
     "output_type": "stream",
     "text": [
      "\r",
      "Epoch 648: 0batch [00:00, ?batch/s]"
     ]
    },
    {
     "name": "stdout",
     "output_type": "stream",
     "text": [
      "epoch 647: avg test  loss 317.06, bar  test loss 4.143, len  test loss 0.663, col  test loss 164.099\n"
     ]
    },
    {
     "name": "stderr",
     "output_type": "stream",
     "text": [
      "Epoch 648: 272batch [00:50,  5.39batch/s, loss=296]\n"
     ]
    },
    {
     "name": "stdout",
     "output_type": "stream",
     "text": [
      "epoch 648: avg train loss 266.35, bar train loss 5.035, len train loss 0.015, col train loss 160.501\n"
     ]
    },
    {
     "name": "stderr",
     "output_type": "stream",
     "text": [
      "\r",
      "Epoch 649: 0batch [00:00, ?batch/s]"
     ]
    },
    {
     "name": "stdout",
     "output_type": "stream",
     "text": [
      "epoch 648: avg test  loss 315.88, bar  test loss 4.147, len  test loss 0.650, col  test loss 164.099\n"
     ]
    },
    {
     "name": "stderr",
     "output_type": "stream",
     "text": [
      "Epoch 649: 272batch [00:50,  5.41batch/s, loss=261]\n"
     ]
    },
    {
     "name": "stdout",
     "output_type": "stream",
     "text": [
      "epoch 649: avg train loss 266.47, bar train loss 5.042, len train loss 0.015, col train loss 160.499\n"
     ]
    },
    {
     "name": "stderr",
     "output_type": "stream",
     "text": [
      "\r",
      "Epoch 650: 0batch [00:00, ?batch/s]"
     ]
    },
    {
     "name": "stdout",
     "output_type": "stream",
     "text": [
      "epoch 649: avg test  loss 315.04, bar  test loss 4.161, len  test loss 0.643, col  test loss 164.116\n"
     ]
    },
    {
     "name": "stderr",
     "output_type": "stream",
     "text": [
      "Epoch 650: 272batch [00:50,  5.40batch/s, loss=276]\n"
     ]
    },
    {
     "name": "stdout",
     "output_type": "stream",
     "text": [
      "epoch 650: avg train loss 266.34, bar train loss 5.038, len train loss 0.014, col train loss 160.488\n",
      "epoch 650: avg test  loss 314.69, bar  test loss 4.177, len  test loss 0.633, col  test loss 164.115\n"
     ]
    },
    {
     "name": "stderr",
     "output_type": "stream",
     "text": [
      "Epoch 651: 272batch [00:50,  5.40batch/s, loss=285]\n"
     ]
    },
    {
     "name": "stdout",
     "output_type": "stream",
     "text": [
      "epoch 651: avg train loss 266.24, bar train loss 5.032, len train loss 0.014, col train loss 160.493\n"
     ]
    },
    {
     "name": "stderr",
     "output_type": "stream",
     "text": [
      "\r",
      "Epoch 652: 0batch [00:00, ?batch/s]"
     ]
    },
    {
     "name": "stdout",
     "output_type": "stream",
     "text": [
      "epoch 651: avg test  loss 315.64, bar  test loss 4.122, len  test loss 0.653, col  test loss 164.104\n"
     ]
    },
    {
     "name": "stderr",
     "output_type": "stream",
     "text": [
      "Epoch 652: 272batch [00:50,  5.38batch/s, loss=264]\n"
     ]
    },
    {
     "name": "stdout",
     "output_type": "stream",
     "text": [
      "epoch 652: avg train loss 266.20, bar train loss 5.028, len train loss 0.015, col train loss 160.496\n"
     ]
    },
    {
     "name": "stderr",
     "output_type": "stream",
     "text": [
      "\r",
      "Epoch 653: 0batch [00:00, ?batch/s]"
     ]
    },
    {
     "name": "stdout",
     "output_type": "stream",
     "text": [
      "epoch 652: avg test  loss 315.01, bar  test loss 4.119, len  test loss 0.651, col  test loss 164.107\n"
     ]
    },
    {
     "name": "stderr",
     "output_type": "stream",
     "text": [
      "Epoch 653: 272batch [00:50,  5.38batch/s, loss=268]\n"
     ]
    },
    {
     "name": "stdout",
     "output_type": "stream",
     "text": [
      "epoch 653: avg train loss 266.53, bar train loss 5.047, len train loss 0.014, col train loss 160.502\n"
     ]
    },
    {
     "name": "stderr",
     "output_type": "stream",
     "text": [
      "Epoch 654: 0batch [00:00, ?batch/s, loss=260]"
     ]
    },
    {
     "name": "stdout",
     "output_type": "stream",
     "text": [
      "epoch 653: avg test  loss 315.36, bar  test loss 4.121, len  test loss 0.651, col  test loss 164.120\n"
     ]
    },
    {
     "name": "stderr",
     "output_type": "stream",
     "text": [
      "Epoch 654: 272batch [00:50,  5.38batch/s, loss=285]\n"
     ]
    },
    {
     "name": "stdout",
     "output_type": "stream",
     "text": [
      "epoch 654: avg train loss 266.37, bar train loss 5.039, len train loss 0.014, col train loss 160.496\n"
     ]
    },
    {
     "name": "stderr",
     "output_type": "stream",
     "text": [
      "\r",
      "Epoch 655: 0batch [00:00, ?batch/s]"
     ]
    },
    {
     "name": "stdout",
     "output_type": "stream",
     "text": [
      "epoch 654: avg test  loss 319.66, bar  test loss 4.156, len  test loss 0.686, col  test loss 164.098\n"
     ]
    },
    {
     "name": "stderr",
     "output_type": "stream",
     "text": [
      "Epoch 655: 272batch [00:50,  5.36batch/s, loss=292]\n"
     ]
    },
    {
     "name": "stdout",
     "output_type": "stream",
     "text": [
      "epoch 655: avg train loss 266.21, bar train loss 5.029, len train loss 0.015, col train loss 160.491\n",
      "epoch 655: avg test  loss 318.95, bar  test loss 4.135, len  test loss 0.684, col  test loss 164.094\n"
     ]
    },
    {
     "name": "stderr",
     "output_type": "stream",
     "text": [
      "Epoch 656: 272batch [00:50,  5.36batch/s, loss=262]\n"
     ]
    },
    {
     "name": "stdout",
     "output_type": "stream",
     "text": [
      "epoch 656: avg train loss 266.25, bar train loss 5.034, len train loss 0.014, col train loss 160.482\n"
     ]
    },
    {
     "name": "stderr",
     "output_type": "stream",
     "text": [
      "Epoch 657: 0batch [00:00, ?batch/s, loss=271]"
     ]
    },
    {
     "name": "stdout",
     "output_type": "stream",
     "text": [
      "epoch 656: avg test  loss 320.98, bar  test loss 4.131, len  test loss 0.705, col  test loss 164.116\n"
     ]
    },
    {
     "name": "stderr",
     "output_type": "stream",
     "text": [
      "Epoch 657: 272batch [00:50,  5.36batch/s, loss=280]\n"
     ]
    },
    {
     "name": "stdout",
     "output_type": "stream",
     "text": [
      "epoch 657: avg train loss 266.36, bar train loss 5.039, len train loss 0.014, col train loss 160.470\n"
     ]
    },
    {
     "name": "stderr",
     "output_type": "stream",
     "text": [
      "\r",
      "Epoch 658: 0batch [00:00, ?batch/s]"
     ]
    },
    {
     "name": "stdout",
     "output_type": "stream",
     "text": [
      "epoch 657: avg test  loss 321.06, bar  test loss 4.170, len  test loss 0.700, col  test loss 164.113\n"
     ]
    },
    {
     "name": "stderr",
     "output_type": "stream",
     "text": [
      "Epoch 658: 272batch [00:51,  5.31batch/s, loss=273]\n"
     ]
    },
    {
     "name": "stdout",
     "output_type": "stream",
     "text": [
      "epoch 658: avg train loss 266.09, bar train loss 5.026, len train loss 0.014, col train loss 160.477\n"
     ]
    },
    {
     "name": "stderr",
     "output_type": "stream",
     "text": [
      "\r",
      "Epoch 659: 0batch [00:00, ?batch/s]"
     ]
    },
    {
     "name": "stdout",
     "output_type": "stream",
     "text": [
      "epoch 658: avg test  loss 319.47, bar  test loss 4.119, len  test loss 0.694, col  test loss 164.098\n"
     ]
    },
    {
     "name": "stderr",
     "output_type": "stream",
     "text": [
      "Epoch 659: 272batch [00:50,  5.34batch/s, loss=284]\n"
     ]
    },
    {
     "name": "stdout",
     "output_type": "stream",
     "text": [
      "epoch 659: avg train loss 266.48, bar train loss 5.045, len train loss 0.014, col train loss 160.492\n"
     ]
    },
    {
     "name": "stderr",
     "output_type": "stream",
     "text": [
      "\r",
      "Epoch 660: 0batch [00:00, ?batch/s]"
     ]
    },
    {
     "name": "stdout",
     "output_type": "stream",
     "text": [
      "epoch 659: avg test  loss 313.94, bar  test loss 4.159, len  test loss 0.630, col  test loss 164.111\n"
     ]
    },
    {
     "name": "stderr",
     "output_type": "stream",
     "text": [
      "Epoch 660: 272batch [00:51,  5.33batch/s, loss=300]\n"
     ]
    },
    {
     "name": "stdout",
     "output_type": "stream",
     "text": [
      "epoch 660: avg train loss 266.11, bar train loss 5.027, len train loss 0.014, col train loss 160.482\n",
      "epoch 660: avg test  loss 318.86, bar  test loss 4.132, len  test loss 0.686, col  test loss 164.117\n"
     ]
    },
    {
     "name": "stderr",
     "output_type": "stream",
     "text": [
      "Epoch 661: 272batch [00:50,  5.35batch/s, loss=267]\n"
     ]
    },
    {
     "name": "stdout",
     "output_type": "stream",
     "text": [
      "epoch 661: avg train loss 266.26, bar train loss 5.033, len train loss 0.015, col train loss 160.493\n"
     ]
    },
    {
     "name": "stderr",
     "output_type": "stream",
     "text": [
      "\r",
      "Epoch 662: 0batch [00:00, ?batch/s]"
     ]
    },
    {
     "name": "stdout",
     "output_type": "stream",
     "text": [
      "epoch 661: avg test  loss 319.27, bar  test loss 4.117, len  test loss 0.690, col  test loss 164.082\n"
     ]
    },
    {
     "name": "stderr",
     "output_type": "stream",
     "text": [
      "Epoch 662: 272batch [00:51,  5.30batch/s, loss=265]\n"
     ]
    },
    {
     "name": "stdout",
     "output_type": "stream",
     "text": [
      "epoch 662: avg train loss 266.48, bar train loss 5.043, len train loss 0.014, col train loss 160.479\n"
     ]
    },
    {
     "name": "stderr",
     "output_type": "stream",
     "text": [
      "\r",
      "Epoch 663: 0batch [00:00, ?batch/s]"
     ]
    },
    {
     "name": "stdout",
     "output_type": "stream",
     "text": [
      "epoch 662: avg test  loss 315.88, bar  test loss 4.161, len  test loss 0.651, col  test loss 164.114\n"
     ]
    },
    {
     "name": "stderr",
     "output_type": "stream",
     "text": [
      "Epoch 663: 272batch [00:51,  5.31batch/s, loss=274]\n"
     ]
    },
    {
     "name": "stdout",
     "output_type": "stream",
     "text": [
      "epoch 663: avg train loss 266.42, bar train loss 5.044, len train loss 0.014, col train loss 160.472\n"
     ]
    },
    {
     "name": "stderr",
     "output_type": "stream",
     "text": [
      "\r",
      "Epoch 664: 0batch [00:00, ?batch/s]"
     ]
    },
    {
     "name": "stdout",
     "output_type": "stream",
     "text": [
      "epoch 663: avg test  loss 317.11, bar  test loss 4.166, len  test loss 0.659, col  test loss 164.095\n"
     ]
    },
    {
     "name": "stderr",
     "output_type": "stream",
     "text": [
      "Epoch 664: 272batch [00:51,  5.30batch/s, loss=288]\n"
     ]
    },
    {
     "name": "stdout",
     "output_type": "stream",
     "text": [
      "epoch 664: avg train loss 266.33, bar train loss 5.037, len train loss 0.014, col train loss 160.481\n"
     ]
    },
    {
     "name": "stderr",
     "output_type": "stream",
     "text": [
      "\r",
      "Epoch 665: 0batch [00:00, ?batch/s]"
     ]
    },
    {
     "name": "stdout",
     "output_type": "stream",
     "text": [
      "epoch 664: avg test  loss 315.21, bar  test loss 4.173, len  test loss 0.639, col  test loss 164.119\n"
     ]
    },
    {
     "name": "stderr",
     "output_type": "stream",
     "text": [
      "Epoch 665: 272batch [00:51,  5.29batch/s, loss=277]\n"
     ]
    },
    {
     "name": "stdout",
     "output_type": "stream",
     "text": [
      "epoch 665: avg train loss 266.40, bar train loss 5.041, len train loss 0.014, col train loss 160.472\n",
      "epoch 665: avg test  loss 318.54, bar  test loss 4.154, len  test loss 0.677, col  test loss 164.105\n"
     ]
    },
    {
     "name": "stderr",
     "output_type": "stream",
     "text": [
      "Epoch 666: 272batch [00:51,  5.29batch/s, loss=277]\n"
     ]
    },
    {
     "name": "stdout",
     "output_type": "stream",
     "text": [
      "epoch 666: avg train loss 266.42, bar train loss 5.042, len train loss 0.014, col train loss 160.472\n"
     ]
    },
    {
     "name": "stderr",
     "output_type": "stream",
     "text": [
      "Epoch 667: 0batch [00:00, ?batch/s, loss=259]"
     ]
    },
    {
     "name": "stdout",
     "output_type": "stream",
     "text": [
      "epoch 666: avg test  loss 321.35, bar  test loss 4.133, len  test loss 0.710, col  test loss 164.115\n"
     ]
    },
    {
     "name": "stderr",
     "output_type": "stream",
     "text": [
      "Epoch 667: 272batch [00:51,  5.33batch/s, loss=270]\n"
     ]
    },
    {
     "name": "stdout",
     "output_type": "stream",
     "text": [
      "epoch 667: avg train loss 265.97, bar train loss 5.018, len train loss 0.014, col train loss 160.468\n"
     ]
    },
    {
     "name": "stderr",
     "output_type": "stream",
     "text": [
      "\r",
      "Epoch 668: 0batch [00:00, ?batch/s]"
     ]
    },
    {
     "name": "stdout",
     "output_type": "stream",
     "text": [
      "epoch 667: avg test  loss 319.28, bar  test loss 4.172, len  test loss 0.683, col  test loss 164.112\n"
     ]
    },
    {
     "name": "stderr",
     "output_type": "stream",
     "text": [
      "Epoch 668: 272batch [00:51,  5.30batch/s, loss=277]\n"
     ]
    },
    {
     "name": "stdout",
     "output_type": "stream",
     "text": [
      "epoch 668: avg train loss 266.14, bar train loss 5.028, len train loss 0.014, col train loss 160.472\n"
     ]
    },
    {
     "name": "stderr",
     "output_type": "stream",
     "text": [
      "\r",
      "Epoch 669: 0batch [00:00, ?batch/s]"
     ]
    },
    {
     "name": "stdout",
     "output_type": "stream",
     "text": [
      "epoch 668: avg test  loss 317.63, bar  test loss 4.153, len  test loss 0.666, col  test loss 164.084\n"
     ]
    },
    {
     "name": "stderr",
     "output_type": "stream",
     "text": [
      "Epoch 669: 272batch [00:51,  5.28batch/s, loss=266]\n"
     ]
    },
    {
     "name": "stdout",
     "output_type": "stream",
     "text": [
      "epoch 669: avg train loss 266.43, bar train loss 5.043, len train loss 0.014, col train loss 160.464\n"
     ]
    },
    {
     "name": "stderr",
     "output_type": "stream",
     "text": [
      "\r",
      "Epoch 670: 0batch [00:00, ?batch/s]"
     ]
    },
    {
     "name": "stdout",
     "output_type": "stream",
     "text": [
      "epoch 669: avg test  loss 319.66, bar  test loss 4.171, len  test loss 0.683, col  test loss 164.127\n"
     ]
    },
    {
     "name": "stderr",
     "output_type": "stream",
     "text": [
      "Epoch 670: 272batch [00:51,  5.28batch/s, loss=271]\n"
     ]
    },
    {
     "name": "stdout",
     "output_type": "stream",
     "text": [
      "epoch 670: avg train loss 266.09, bar train loss 5.028, len train loss 0.014, col train loss 160.474\n",
      "epoch 670: avg test  loss 319.06, bar  test loss 4.177, len  test loss 0.678, col  test loss 164.111\n"
     ]
    },
    {
     "name": "stderr",
     "output_type": "stream",
     "text": [
      "Epoch 671: 272batch [00:51,  5.29batch/s, loss=275]\n"
     ]
    },
    {
     "name": "stdout",
     "output_type": "stream",
     "text": [
      "epoch 671: avg train loss 266.50, bar train loss 5.046, len train loss 0.014, col train loss 160.489\n"
     ]
    },
    {
     "name": "stderr",
     "output_type": "stream",
     "text": [
      "\r",
      "Epoch 672: 0batch [00:00, ?batch/s]"
     ]
    },
    {
     "name": "stdout",
     "output_type": "stream",
     "text": [
      "epoch 671: avg test  loss 318.51, bar  test loss 4.188, len  test loss 0.671, col  test loss 164.131\n"
     ]
    },
    {
     "name": "stderr",
     "output_type": "stream",
     "text": [
      "Epoch 672: 272batch [00:51,  5.24batch/s, loss=286]\n"
     ]
    },
    {
     "name": "stdout",
     "output_type": "stream",
     "text": [
      "epoch 672: avg train loss 266.04, bar train loss 5.027, len train loss 0.014, col train loss 160.459\n"
     ]
    },
    {
     "name": "stderr",
     "output_type": "stream",
     "text": [
      "\r",
      "Epoch 673: 0batch [00:00, ?batch/s]"
     ]
    },
    {
     "name": "stdout",
     "output_type": "stream",
     "text": [
      "epoch 672: avg test  loss 316.10, bar  test loss 4.153, len  test loss 0.653, col  test loss 164.101\n"
     ]
    },
    {
     "name": "stderr",
     "output_type": "stream",
     "text": [
      "Epoch 673: 272batch [00:51,  5.26batch/s, loss=273]\n"
     ]
    },
    {
     "name": "stdout",
     "output_type": "stream",
     "text": [
      "epoch 673: avg train loss 266.16, bar train loss 5.031, len train loss 0.014, col train loss 160.478\n"
     ]
    },
    {
     "name": "stderr",
     "output_type": "stream",
     "text": [
      "\r",
      "Epoch 674: 0batch [00:00, ?batch/s]"
     ]
    },
    {
     "name": "stdout",
     "output_type": "stream",
     "text": [
      "epoch 673: avg test  loss 319.81, bar  test loss 4.192, len  test loss 0.682, col  test loss 164.113\n"
     ]
    },
    {
     "name": "stderr",
     "output_type": "stream",
     "text": [
      "Epoch 674: 272batch [00:51,  5.26batch/s, loss=281]\n"
     ]
    },
    {
     "name": "stdout",
     "output_type": "stream",
     "text": [
      "epoch 674: avg train loss 266.06, bar train loss 5.026, len train loss 0.014, col train loss 160.469\n"
     ]
    },
    {
     "name": "stderr",
     "output_type": "stream",
     "text": [
      "\r",
      "Epoch 675: 0batch [00:00, ?batch/s]"
     ]
    },
    {
     "name": "stdout",
     "output_type": "stream",
     "text": [
      "epoch 674: avg test  loss 314.06, bar  test loss 4.129, len  test loss 0.638, col  test loss 164.108\n"
     ]
    },
    {
     "name": "stderr",
     "output_type": "stream",
     "text": [
      "Epoch 675: 272batch [00:52,  5.23batch/s, loss=267]\n"
     ]
    },
    {
     "name": "stdout",
     "output_type": "stream",
     "text": [
      "epoch 675: avg train loss 266.08, bar train loss 5.028, len train loss 0.014, col train loss 160.459\n",
      "epoch 675: avg test  loss 319.24, bar  test loss 4.106, len  test loss 0.693, col  test loss 164.102\n"
     ]
    },
    {
     "name": "stderr",
     "output_type": "stream",
     "text": [
      "Epoch 676: 272batch [00:51,  5.26batch/s, loss=263]\n"
     ]
    },
    {
     "name": "stdout",
     "output_type": "stream",
     "text": [
      "epoch 676: avg train loss 266.19, bar train loss 5.032, len train loss 0.014, col train loss 160.464\n"
     ]
    },
    {
     "name": "stderr",
     "output_type": "stream",
     "text": [
      "\r",
      "Epoch 677: 0batch [00:00, ?batch/s]"
     ]
    },
    {
     "name": "stdout",
     "output_type": "stream",
     "text": [
      "epoch 676: avg test  loss 316.93, bar  test loss 4.101, len  test loss 0.670, col  test loss 164.092\n"
     ]
    },
    {
     "name": "stderr",
     "output_type": "stream",
     "text": [
      "Epoch 677: 272batch [00:51,  5.25batch/s, loss=253]\n"
     ]
    },
    {
     "name": "stdout",
     "output_type": "stream",
     "text": [
      "epoch 677: avg train loss 266.20, bar train loss 5.035, len train loss 0.014, col train loss 160.465\n"
     ]
    },
    {
     "name": "stderr",
     "output_type": "stream",
     "text": [
      "\r",
      "Epoch 678: 0batch [00:00, ?batch/s]"
     ]
    },
    {
     "name": "stdout",
     "output_type": "stream",
     "text": [
      "epoch 677: avg test  loss 318.83, bar  test loss 4.103, len  test loss 0.690, col  test loss 164.101\n"
     ]
    },
    {
     "name": "stderr",
     "output_type": "stream",
     "text": [
      "Epoch 678: 272batch [00:52,  5.23batch/s, loss=275]\n"
     ]
    },
    {
     "name": "stdout",
     "output_type": "stream",
     "text": [
      "epoch 678: avg train loss 266.34, bar train loss 5.041, len train loss 0.014, col train loss 160.465\n"
     ]
    },
    {
     "name": "stderr",
     "output_type": "stream",
     "text": [
      "\r",
      "Epoch 679: 0batch [00:00, ?batch/s]"
     ]
    },
    {
     "name": "stdout",
     "output_type": "stream",
     "text": [
      "epoch 678: avg test  loss 316.04, bar  test loss 4.138, len  test loss 0.653, col  test loss 164.108\n"
     ]
    },
    {
     "name": "stderr",
     "output_type": "stream",
     "text": [
      "Epoch 679: 272batch [00:52,  5.17batch/s, loss=260]\n"
     ]
    },
    {
     "name": "stdout",
     "output_type": "stream",
     "text": [
      "epoch 679: avg train loss 266.03, bar train loss 5.024, len train loss 0.014, col train loss 160.456\n"
     ]
    },
    {
     "name": "stderr",
     "output_type": "stream",
     "text": [
      "\r",
      "Epoch 680: 0batch [00:00, ?batch/s]"
     ]
    },
    {
     "name": "stdout",
     "output_type": "stream",
     "text": [
      "epoch 679: avg test  loss 313.46, bar  test loss 4.169, len  test loss 0.624, col  test loss 164.111\n"
     ]
    },
    {
     "name": "stderr",
     "output_type": "stream",
     "text": [
      "Epoch 680: 272batch [00:52,  5.23batch/s, loss=272]\n"
     ]
    },
    {
     "name": "stdout",
     "output_type": "stream",
     "text": [
      "epoch 680: avg train loss 266.30, bar train loss 5.038, len train loss 0.014, col train loss 160.461\n",
      "epoch 680: avg test  loss 313.67, bar  test loss 4.113, len  test loss 0.637, col  test loss 164.122\n"
     ]
    },
    {
     "name": "stderr",
     "output_type": "stream",
     "text": [
      "Epoch 681: 272batch [00:52,  5.22batch/s, loss=248]\n"
     ]
    },
    {
     "name": "stdout",
     "output_type": "stream",
     "text": [
      "epoch 681: avg train loss 266.29, bar train loss 5.038, len train loss 0.014, col train loss 160.456\n"
     ]
    },
    {
     "name": "stderr",
     "output_type": "stream",
     "text": [
      "\r",
      "Epoch 682: 0batch [00:00, ?batch/s]"
     ]
    },
    {
     "name": "stdout",
     "output_type": "stream",
     "text": [
      "epoch 681: avg test  loss 318.74, bar  test loss 4.140, len  test loss 0.681, col  test loss 164.120\n"
     ]
    },
    {
     "name": "stderr",
     "output_type": "stream",
     "text": [
      "Epoch 682: 272batch [00:52,  5.22batch/s, loss=253]\n"
     ]
    },
    {
     "name": "stdout",
     "output_type": "stream",
     "text": [
      "epoch 682: avg train loss 266.56, bar train loss 5.047, len train loss 0.015, col train loss 160.458\n"
     ]
    },
    {
     "name": "stderr",
     "output_type": "stream",
     "text": [
      "\r",
      "Epoch 683: 0batch [00:00, ?batch/s]"
     ]
    },
    {
     "name": "stdout",
     "output_type": "stream",
     "text": [
      "epoch 682: avg test  loss 318.61, bar  test loss 4.125, len  test loss 0.685, col  test loss 164.109\n"
     ]
    },
    {
     "name": "stderr",
     "output_type": "stream",
     "text": [
      "Epoch 683: 272batch [00:52,  5.22batch/s, loss=268]\n"
     ]
    },
    {
     "name": "stdout",
     "output_type": "stream",
     "text": [
      "epoch 683: avg train loss 266.44, bar train loss 5.045, len train loss 0.014, col train loss 160.449\n"
     ]
    },
    {
     "name": "stderr",
     "output_type": "stream",
     "text": [
      "\r",
      "Epoch 684: 0batch [00:00, ?batch/s]"
     ]
    },
    {
     "name": "stdout",
     "output_type": "stream",
     "text": [
      "epoch 683: avg test  loss 322.18, bar  test loss 4.170, len  test loss 0.708, col  test loss 164.084\n"
     ]
    },
    {
     "name": "stderr",
     "output_type": "stream",
     "text": [
      "Epoch 684: 272batch [00:52,  5.21batch/s, loss=293]\n"
     ]
    },
    {
     "name": "stdout",
     "output_type": "stream",
     "text": [
      "epoch 684: avg train loss 266.42, bar train loss 5.045, len train loss 0.014, col train loss 160.440\n"
     ]
    },
    {
     "name": "stderr",
     "output_type": "stream",
     "text": [
      "\r",
      "Epoch 685: 0batch [00:00, ?batch/s]"
     ]
    },
    {
     "name": "stdout",
     "output_type": "stream",
     "text": [
      "epoch 684: avg test  loss 318.60, bar  test loss 4.129, len  test loss 0.682, col  test loss 164.106\n"
     ]
    },
    {
     "name": "stderr",
     "output_type": "stream",
     "text": [
      "Epoch 685: 272batch [00:52,  5.21batch/s, loss=249]\n"
     ]
    },
    {
     "name": "stdout",
     "output_type": "stream",
     "text": [
      "epoch 685: avg train loss 266.22, bar train loss 5.034, len train loss 0.014, col train loss 160.443\n",
      "epoch 685: avg test  loss 318.58, bar  test loss 4.173, len  test loss 0.673, col  test loss 164.114\n"
     ]
    },
    {
     "name": "stderr",
     "output_type": "stream",
     "text": [
      "Epoch 686: 272batch [00:52,  5.21batch/s, loss=284]\n"
     ]
    },
    {
     "name": "stdout",
     "output_type": "stream",
     "text": [
      "epoch 686: avg train loss 266.12, bar train loss 5.031, len train loss 0.014, col train loss 160.445\n"
     ]
    },
    {
     "name": "stderr",
     "output_type": "stream",
     "text": [
      "\r",
      "Epoch 687: 0batch [00:00, ?batch/s]"
     ]
    },
    {
     "name": "stdout",
     "output_type": "stream",
     "text": [
      "epoch 686: avg test  loss 319.05, bar  test loss 4.192, len  test loss 0.676, col  test loss 164.113\n"
     ]
    },
    {
     "name": "stderr",
     "output_type": "stream",
     "text": [
      "Epoch 687: 272batch [00:52,  5.20batch/s, loss=260]\n"
     ]
    },
    {
     "name": "stdout",
     "output_type": "stream",
     "text": [
      "epoch 687: avg train loss 266.34, bar train loss 5.040, len train loss 0.014, col train loss 160.454\n"
     ]
    },
    {
     "name": "stderr",
     "output_type": "stream",
     "text": [
      "\r",
      "Epoch 688: 0batch [00:00, ?batch/s]"
     ]
    },
    {
     "name": "stdout",
     "output_type": "stream",
     "text": [
      "epoch 687: avg test  loss 318.95, bar  test loss 4.127, len  test loss 0.687, col  test loss 164.131\n"
     ]
    },
    {
     "name": "stderr",
     "output_type": "stream",
     "text": [
      "Epoch 688: 272batch [00:52,  5.20batch/s, loss=270]\n"
     ]
    },
    {
     "name": "stdout",
     "output_type": "stream",
     "text": [
      "epoch 688: avg train loss 266.29, bar train loss 5.038, len train loss 0.014, col train loss 160.451\n"
     ]
    },
    {
     "name": "stderr",
     "output_type": "stream",
     "text": [
      "\r",
      "Epoch 689: 0batch [00:00, ?batch/s]"
     ]
    },
    {
     "name": "stdout",
     "output_type": "stream",
     "text": [
      "epoch 688: avg test  loss 316.25, bar  test loss 4.086, len  test loss 0.666, col  test loss 164.109\n"
     ]
    },
    {
     "name": "stderr",
     "output_type": "stream",
     "text": [
      "Epoch 689: 272batch [00:52,  5.17batch/s, loss=262]\n"
     ]
    },
    {
     "name": "stdout",
     "output_type": "stream",
     "text": [
      "epoch 689: avg train loss 266.37, bar train loss 5.041, len train loss 0.014, col train loss 160.448\n"
     ]
    },
    {
     "name": "stderr",
     "output_type": "stream",
     "text": [
      "\r",
      "Epoch 690: 0batch [00:00, ?batch/s]"
     ]
    },
    {
     "name": "stdout",
     "output_type": "stream",
     "text": [
      "epoch 689: avg test  loss 316.20, bar  test loss 4.133, len  test loss 0.656, col  test loss 164.100\n"
     ]
    },
    {
     "name": "stderr",
     "output_type": "stream",
     "text": [
      "Epoch 690: 272batch [00:52,  5.19batch/s, loss=281]\n"
     ]
    },
    {
     "name": "stdout",
     "output_type": "stream",
     "text": [
      "epoch 690: avg train loss 266.60, bar train loss 5.052, len train loss 0.015, col train loss 160.443\n",
      "epoch 690: avg test  loss 318.34, bar  test loss 4.124, len  test loss 0.681, col  test loss 164.100\n"
     ]
    },
    {
     "name": "stderr",
     "output_type": "stream",
     "text": [
      "Epoch 691: 272batch [00:52,  5.15batch/s, loss=272]\n"
     ]
    },
    {
     "name": "stdout",
     "output_type": "stream",
     "text": [
      "epoch 691: avg train loss 266.06, bar train loss 5.028, len train loss 0.014, col train loss 160.446\n"
     ]
    },
    {
     "name": "stderr",
     "output_type": "stream",
     "text": [
      "\r",
      "Epoch 692: 0batch [00:00, ?batch/s]"
     ]
    },
    {
     "name": "stdout",
     "output_type": "stream",
     "text": [
      "epoch 691: avg test  loss 314.63, bar  test loss 4.113, len  test loss 0.648, col  test loss 164.117\n"
     ]
    },
    {
     "name": "stderr",
     "output_type": "stream",
     "text": [
      "Epoch 692: 272batch [00:52,  5.18batch/s, loss=259]\n"
     ]
    },
    {
     "name": "stdout",
     "output_type": "stream",
     "text": [
      "epoch 692: avg train loss 266.48, bar train loss 5.049, len train loss 0.014, col train loss 160.446\n"
     ]
    },
    {
     "name": "stderr",
     "output_type": "stream",
     "text": [
      "\r",
      "Epoch 693: 0batch [00:00, ?batch/s]"
     ]
    },
    {
     "name": "stdout",
     "output_type": "stream",
     "text": [
      "epoch 692: avg test  loss 317.45, bar  test loss 4.176, len  test loss 0.662, col  test loss 164.124\n"
     ]
    },
    {
     "name": "stderr",
     "output_type": "stream",
     "text": [
      "Epoch 693: 272batch [00:52,  5.18batch/s, loss=268]\n"
     ]
    },
    {
     "name": "stdout",
     "output_type": "stream",
     "text": [
      "epoch 693: avg train loss 266.29, bar train loss 5.037, len train loss 0.014, col train loss 160.447\n"
     ]
    },
    {
     "name": "stderr",
     "output_type": "stream",
     "text": [
      "\r",
      "Epoch 694: 0batch [00:00, ?batch/s]"
     ]
    },
    {
     "name": "stdout",
     "output_type": "stream",
     "text": [
      "epoch 693: avg test  loss 313.83, bar  test loss 4.094, len  test loss 0.641, col  test loss 164.110\n"
     ]
    },
    {
     "name": "stderr",
     "output_type": "stream",
     "text": [
      "Epoch 694: 272batch [00:52,  5.15batch/s, loss=274]\n"
     ]
    },
    {
     "name": "stdout",
     "output_type": "stream",
     "text": [
      "epoch 694: avg train loss 266.14, bar train loss 5.030, len train loss 0.014, col train loss 160.437\n"
     ]
    },
    {
     "name": "stderr",
     "output_type": "stream",
     "text": [
      "\r",
      "Epoch 695: 0batch [00:00, ?batch/s]"
     ]
    },
    {
     "name": "stdout",
     "output_type": "stream",
     "text": [
      "epoch 694: avg test  loss 315.56, bar  test loss 4.195, len  test loss 0.640, col  test loss 164.119\n"
     ]
    },
    {
     "name": "stderr",
     "output_type": "stream",
     "text": [
      "Epoch 695: 272batch [00:52,  5.16batch/s, loss=268]\n"
     ]
    },
    {
     "name": "stdout",
     "output_type": "stream",
     "text": [
      "epoch 695: avg train loss 266.34, bar train loss 5.040, len train loss 0.014, col train loss 160.449\n",
      "epoch 695: avg test  loss 316.68, bar  test loss 4.136, len  test loss 0.664, col  test loss 164.132\n"
     ]
    },
    {
     "name": "stderr",
     "output_type": "stream",
     "text": [
      "Epoch 696: 272batch [00:52,  5.16batch/s, loss=262]\n"
     ]
    },
    {
     "name": "stdout",
     "output_type": "stream",
     "text": [
      "epoch 696: avg train loss 266.21, bar train loss 5.034, len train loss 0.014, col train loss 160.435\n"
     ]
    },
    {
     "name": "stderr",
     "output_type": "stream",
     "text": [
      "\r",
      "Epoch 697: 0batch [00:00, ?batch/s]"
     ]
    },
    {
     "name": "stdout",
     "output_type": "stream",
     "text": [
      "epoch 696: avg test  loss 320.37, bar  test loss 4.192, len  test loss 0.689, col  test loss 164.111\n"
     ]
    },
    {
     "name": "stderr",
     "output_type": "stream",
     "text": [
      "Epoch 697: 272batch [00:52,  5.15batch/s, loss=271]\n"
     ]
    },
    {
     "name": "stdout",
     "output_type": "stream",
     "text": [
      "epoch 697: avg train loss 266.27, bar train loss 5.040, len train loss 0.014, col train loss 160.435\n"
     ]
    },
    {
     "name": "stderr",
     "output_type": "stream",
     "text": [
      "\r",
      "Epoch 698: 0batch [00:00, ?batch/s]"
     ]
    },
    {
     "name": "stdout",
     "output_type": "stream",
     "text": [
      "epoch 697: avg test  loss 312.82, bar  test loss 4.160, len  test loss 0.621, col  test loss 164.129\n"
     ]
    },
    {
     "name": "stderr",
     "output_type": "stream",
     "text": [
      "Epoch 698: 272batch [00:52,  5.14batch/s, loss=265]\n"
     ]
    },
    {
     "name": "stdout",
     "output_type": "stream",
     "text": [
      "epoch 698: avg train loss 266.11, bar train loss 5.031, len train loss 0.014, col train loss 160.431\n"
     ]
    },
    {
     "name": "stderr",
     "output_type": "stream",
     "text": [
      "\r",
      "Epoch 699: 0batch [00:00, ?batch/s]"
     ]
    },
    {
     "name": "stdout",
     "output_type": "stream",
     "text": [
      "epoch 698: avg test  loss 318.01, bar  test loss 4.146, len  test loss 0.674, col  test loss 164.100\n"
     ]
    },
    {
     "name": "stderr",
     "output_type": "stream",
     "text": [
      "Epoch 699: 272batch [00:52,  5.13batch/s, loss=246]\n"
     ]
    },
    {
     "name": "stdout",
     "output_type": "stream",
     "text": [
      "epoch 699: avg train loss 266.42, bar train loss 5.048, len train loss 0.014, col train loss 160.428\n"
     ]
    },
    {
     "name": "stderr",
     "output_type": "stream",
     "text": [
      "\r",
      "Epoch 700: 0batch [00:00, ?batch/s]"
     ]
    },
    {
     "name": "stdout",
     "output_type": "stream",
     "text": [
      "epoch 699: avg test  loss 320.41, bar  test loss 4.105, len  test loss 0.704, col  test loss 164.105\n"
     ]
    },
    {
     "name": "stderr",
     "output_type": "stream",
     "text": [
      "Epoch 700: 272batch [00:53,  5.12batch/s, loss=271]\n"
     ]
    },
    {
     "name": "stdout",
     "output_type": "stream",
     "text": [
      "epoch 700: avg train loss 266.02, bar train loss 5.026, len train loss 0.014, col train loss 160.427\n",
      "epoch 700: avg test  loss 317.28, bar  test loss 4.138, len  test loss 0.668, col  test loss 164.110\n"
     ]
    },
    {
     "name": "stderr",
     "output_type": "stream",
     "text": [
      "Epoch 701: 272batch [00:53,  5.13batch/s, loss=261]\n"
     ]
    },
    {
     "name": "stdout",
     "output_type": "stream",
     "text": [
      "epoch 701: avg train loss 266.17, bar train loss 5.036, len train loss 0.014, col train loss 160.420\n"
     ]
    },
    {
     "name": "stderr",
     "output_type": "stream",
     "text": [
      "\r",
      "Epoch 702: 0batch [00:00, ?batch/s]"
     ]
    },
    {
     "name": "stdout",
     "output_type": "stream",
     "text": [
      "epoch 701: avg test  loss 317.48, bar  test loss 4.148, len  test loss 0.668, col  test loss 164.100\n"
     ]
    },
    {
     "name": "stderr",
     "output_type": "stream",
     "text": [
      "Epoch 702: 272batch [00:53,  5.12batch/s, loss=279]\n"
     ]
    },
    {
     "name": "stdout",
     "output_type": "stream",
     "text": [
      "epoch 702: avg train loss 266.20, bar train loss 5.034, len train loss 0.014, col train loss 160.433\n"
     ]
    },
    {
     "name": "stderr",
     "output_type": "stream",
     "text": [
      "\r",
      "Epoch 703: 0batch [00:00, ?batch/s]"
     ]
    },
    {
     "name": "stdout",
     "output_type": "stream",
     "text": [
      "epoch 702: avg test  loss 314.24, bar  test loss 4.128, len  test loss 0.641, col  test loss 164.115\n"
     ]
    },
    {
     "name": "stderr",
     "output_type": "stream",
     "text": [
      "Epoch 703: 272batch [00:53,  5.12batch/s, loss=265]\n"
     ]
    },
    {
     "name": "stdout",
     "output_type": "stream",
     "text": [
      "epoch 703: avg train loss 265.99, bar train loss 5.024, len train loss 0.014, col train loss 160.418\n"
     ]
    },
    {
     "name": "stderr",
     "output_type": "stream",
     "text": [
      "\r",
      "Epoch 704: 0batch [00:00, ?batch/s]"
     ]
    },
    {
     "name": "stdout",
     "output_type": "stream",
     "text": [
      "epoch 703: avg test  loss 316.33, bar  test loss 4.156, len  test loss 0.654, col  test loss 164.122\n"
     ]
    },
    {
     "name": "stderr",
     "output_type": "stream",
     "text": [
      "Epoch 704: 272batch [00:53,  5.11batch/s, loss=274]\n"
     ]
    },
    {
     "name": "stdout",
     "output_type": "stream",
     "text": [
      "epoch 704: avg train loss 266.08, bar train loss 5.029, len train loss 0.014, col train loss 160.426\n"
     ]
    },
    {
     "name": "stderr",
     "output_type": "stream",
     "text": [
      "\r",
      "Epoch 705: 0batch [00:00, ?batch/s]"
     ]
    },
    {
     "name": "stdout",
     "output_type": "stream",
     "text": [
      "epoch 704: avg test  loss 315.17, bar  test loss 4.146, len  test loss 0.644, col  test loss 164.091\n"
     ]
    },
    {
     "name": "stderr",
     "output_type": "stream",
     "text": [
      "Epoch 705: 272batch [00:53,  5.11batch/s, loss=264]\n"
     ]
    },
    {
     "name": "stdout",
     "output_type": "stream",
     "text": [
      "epoch 705: avg train loss 266.26, bar train loss 5.037, len train loss 0.015, col train loss 160.430\n",
      "epoch 705: avg test  loss 311.73, bar  test loss 4.120, len  test loss 0.616, col  test loss 164.122\n"
     ]
    },
    {
     "name": "stderr",
     "output_type": "stream",
     "text": [
      "Epoch 706: 272batch [00:53,  5.12batch/s, loss=257]\n"
     ]
    },
    {
     "name": "stdout",
     "output_type": "stream",
     "text": [
      "epoch 706: avg train loss 266.23, bar train loss 5.035, len train loss 0.014, col train loss 160.426\n"
     ]
    },
    {
     "name": "stderr",
     "output_type": "stream",
     "text": [
      "Epoch 707: 0batch [00:00, ?batch/s, loss=268]"
     ]
    },
    {
     "name": "stdout",
     "output_type": "stream",
     "text": [
      "epoch 706: avg test  loss 318.08, bar  test loss 4.119, len  test loss 0.680, col  test loss 164.124\n"
     ]
    },
    {
     "name": "stderr",
     "output_type": "stream",
     "text": [
      "Epoch 707: 272batch [00:53,  5.13batch/s, loss=282]\n"
     ]
    },
    {
     "name": "stdout",
     "output_type": "stream",
     "text": [
      "epoch 707: avg train loss 266.16, bar train loss 5.032, len train loss 0.015, col train loss 160.428\n"
     ]
    },
    {
     "name": "stderr",
     "output_type": "stream",
     "text": [
      "\r",
      "Epoch 708: 0batch [00:00, ?batch/s]"
     ]
    },
    {
     "name": "stdout",
     "output_type": "stream",
     "text": [
      "epoch 707: avg test  loss 313.89, bar  test loss 4.145, len  test loss 0.634, col  test loss 164.117\n"
     ]
    },
    {
     "name": "stderr",
     "output_type": "stream",
     "text": [
      "Epoch 708: 272batch [00:53,  5.11batch/s, loss=271]\n"
     ]
    },
    {
     "name": "stdout",
     "output_type": "stream",
     "text": [
      "epoch 708: avg train loss 266.21, bar train loss 5.032, len train loss 0.015, col train loss 160.426\n"
     ]
    },
    {
     "name": "stderr",
     "output_type": "stream",
     "text": [
      "\r",
      "Epoch 709: 0batch [00:00, ?batch/s]"
     ]
    },
    {
     "name": "stdout",
     "output_type": "stream",
     "text": [
      "epoch 708: avg test  loss 312.72, bar  test loss 4.083, len  test loss 0.632, col  test loss 164.115\n"
     ]
    },
    {
     "name": "stderr",
     "output_type": "stream",
     "text": [
      "Epoch 709: 272batch [00:53,  5.08batch/s, loss=279]\n"
     ]
    },
    {
     "name": "stdout",
     "output_type": "stream",
     "text": [
      "epoch 709: avg train loss 266.28, bar train loss 5.037, len train loss 0.014, col train loss 160.436\n"
     ]
    },
    {
     "name": "stderr",
     "output_type": "stream",
     "text": [
      "\r",
      "Epoch 710: 0batch [00:00, ?batch/s]"
     ]
    },
    {
     "name": "stdout",
     "output_type": "stream",
     "text": [
      "epoch 709: avg test  loss 316.79, bar  test loss 4.146, len  test loss 0.662, col  test loss 164.114\n"
     ]
    },
    {
     "name": "stderr",
     "output_type": "stream",
     "text": [
      "Epoch 710: 272batch [00:53,  5.10batch/s, loss=243]\n"
     ]
    },
    {
     "name": "stdout",
     "output_type": "stream",
     "text": [
      "epoch 710: avg train loss 265.96, bar train loss 5.021, len train loss 0.015, col train loss 160.442\n",
      "epoch 710: avg test  loss 314.66, bar  test loss 4.144, len  test loss 0.640, col  test loss 164.108\n"
     ]
    },
    {
     "name": "stderr",
     "output_type": "stream",
     "text": [
      "Epoch 711: 272batch [00:53,  5.08batch/s, loss=255]\n"
     ]
    },
    {
     "name": "stdout",
     "output_type": "stream",
     "text": [
      "epoch 711: avg train loss 266.24, bar train loss 5.036, len train loss 0.014, col train loss 160.411\n"
     ]
    },
    {
     "name": "stderr",
     "output_type": "stream",
     "text": [
      "\r",
      "Epoch 712: 0batch [00:00, ?batch/s]"
     ]
    },
    {
     "name": "stdout",
     "output_type": "stream",
     "text": [
      "epoch 711: avg test  loss 313.95, bar  test loss 4.160, len  test loss 0.629, col  test loss 164.105\n"
     ]
    },
    {
     "name": "stderr",
     "output_type": "stream",
     "text": [
      "Epoch 712: 272batch [00:53,  5.07batch/s, loss=285]\n"
     ]
    },
    {
     "name": "stdout",
     "output_type": "stream",
     "text": [
      "epoch 712: avg train loss 266.32, bar train loss 5.042, len train loss 0.014, col train loss 160.411\n"
     ]
    },
    {
     "name": "stderr",
     "output_type": "stream",
     "text": [
      "\r",
      "Epoch 713: 0batch [00:00, ?batch/s]"
     ]
    },
    {
     "name": "stdout",
     "output_type": "stream",
     "text": [
      "epoch 712: avg test  loss 312.22, bar  test loss 4.095, len  test loss 0.626, col  test loss 164.118\n"
     ]
    },
    {
     "name": "stderr",
     "output_type": "stream",
     "text": [
      "Epoch 713: 272batch [00:53,  5.08batch/s, loss=258]\n"
     ]
    },
    {
     "name": "stdout",
     "output_type": "stream",
     "text": [
      "epoch 713: avg train loss 266.13, bar train loss 5.033, len train loss 0.014, col train loss 160.415\n"
     ]
    },
    {
     "name": "stderr",
     "output_type": "stream",
     "text": [
      "\r",
      "Epoch 714: 0batch [00:00, ?batch/s]"
     ]
    },
    {
     "name": "stdout",
     "output_type": "stream",
     "text": [
      "epoch 713: avg test  loss 314.37, bar  test loss 4.123, len  test loss 0.642, col  test loss 164.113\n"
     ]
    },
    {
     "name": "stderr",
     "output_type": "stream",
     "text": [
      "Epoch 714: 272batch [00:53,  5.05batch/s, loss=266]\n"
     ]
    },
    {
     "name": "stdout",
     "output_type": "stream",
     "text": [
      "epoch 714: avg train loss 266.00, bar train loss 5.025, len train loss 0.014, col train loss 160.436\n"
     ]
    },
    {
     "name": "stderr",
     "output_type": "stream",
     "text": [
      "\r",
      "Epoch 715: 0batch [00:00, ?batch/s]"
     ]
    },
    {
     "name": "stdout",
     "output_type": "stream",
     "text": [
      "epoch 714: avg test  loss 318.33, bar  test loss 4.123, len  test loss 0.684, col  test loss 164.127\n"
     ]
    },
    {
     "name": "stderr",
     "output_type": "stream",
     "text": [
      "Epoch 715: 272batch [00:53,  5.06batch/s, loss=273]\n"
     ]
    },
    {
     "name": "stdout",
     "output_type": "stream",
     "text": [
      "epoch 715: avg train loss 266.53, bar train loss 5.053, len train loss 0.014, col train loss 160.416\n",
      "epoch 715: avg test  loss 312.83, bar  test loss 4.107, len  test loss 0.628, col  test loss 164.101\n"
     ]
    },
    {
     "name": "stderr",
     "output_type": "stream",
     "text": [
      "Epoch 716: 272batch [00:53,  5.07batch/s, loss=253]\n"
     ]
    },
    {
     "name": "stdout",
     "output_type": "stream",
     "text": [
      "epoch 716: avg train loss 266.24, bar train loss 5.037, len train loss 0.014, col train loss 160.406\n"
     ]
    },
    {
     "name": "stderr",
     "output_type": "stream",
     "text": [
      "\r",
      "Epoch 717: 0batch [00:00, ?batch/s]"
     ]
    },
    {
     "name": "stdout",
     "output_type": "stream",
     "text": [
      "epoch 716: avg test  loss 314.15, bar  test loss 4.092, len  test loss 0.645, col  test loss 164.112\n"
     ]
    },
    {
     "name": "stderr",
     "output_type": "stream",
     "text": [
      "Epoch 717: 272batch [00:54,  5.00batch/s, loss=278]\n"
     ]
    },
    {
     "name": "stdout",
     "output_type": "stream",
     "text": [
      "epoch 717: avg train loss 266.22, bar train loss 5.038, len train loss 0.014, col train loss 160.412\n"
     ]
    },
    {
     "name": "stderr",
     "output_type": "stream",
     "text": [
      "\r",
      "Epoch 718: 0batch [00:00, ?batch/s]"
     ]
    },
    {
     "name": "stdout",
     "output_type": "stream",
     "text": [
      "epoch 717: avg test  loss 316.93, bar  test loss 4.125, len  test loss 0.666, col  test loss 164.103\n"
     ]
    },
    {
     "name": "stderr",
     "output_type": "stream",
     "text": [
      "Epoch 718: 272batch [00:53,  5.04batch/s, loss=279]\n"
     ]
    },
    {
     "name": "stdout",
     "output_type": "stream",
     "text": [
      "epoch 718: avg train loss 266.12, bar train loss 5.032, len train loss 0.014, col train loss 160.396\n"
     ]
    },
    {
     "name": "stderr",
     "output_type": "stream",
     "text": [
      "\r",
      "Epoch 719: 0batch [00:00, ?batch/s]"
     ]
    },
    {
     "name": "stdout",
     "output_type": "stream",
     "text": [
      "epoch 718: avg test  loss 309.27, bar  test loss 4.125, len  test loss 0.591, col  test loss 164.106\n"
     ]
    },
    {
     "name": "stderr",
     "output_type": "stream",
     "text": [
      "Epoch 719: 272batch [00:54,  5.03batch/s, loss=265]\n"
     ]
    },
    {
     "name": "stdout",
     "output_type": "stream",
     "text": [
      "epoch 719: avg train loss 266.02, bar train loss 5.027, len train loss 0.014, col train loss 160.403\n"
     ]
    },
    {
     "name": "stderr",
     "output_type": "stream",
     "text": [
      "\r",
      "Epoch 720: 0batch [00:00, ?batch/s]"
     ]
    },
    {
     "name": "stdout",
     "output_type": "stream",
     "text": [
      "epoch 719: avg test  loss 317.71, bar  test loss 4.128, len  test loss 0.674, col  test loss 164.112\n"
     ]
    },
    {
     "name": "stderr",
     "output_type": "stream",
     "text": [
      "Epoch 720: 272batch [00:54,  5.03batch/s, loss=265]\n"
     ]
    },
    {
     "name": "stdout",
     "output_type": "stream",
     "text": [
      "epoch 720: avg train loss 266.19, bar train loss 5.036, len train loss 0.014, col train loss 160.411\n",
      "epoch 720: avg test  loss 315.97, bar  test loss 4.144, len  test loss 0.654, col  test loss 164.100\n"
     ]
    },
    {
     "name": "stderr",
     "output_type": "stream",
     "text": [
      "Epoch 721: 272batch [00:54,  5.01batch/s, loss=273]\n"
     ]
    },
    {
     "name": "stdout",
     "output_type": "stream",
     "text": [
      "epoch 721: avg train loss 265.78, bar train loss 5.016, len train loss 0.014, col train loss 160.395\n"
     ]
    },
    {
     "name": "stderr",
     "output_type": "stream",
     "text": [
      "\r",
      "Epoch 722: 0batch [00:00, ?batch/s]"
     ]
    },
    {
     "name": "stdout",
     "output_type": "stream",
     "text": [
      "epoch 721: avg test  loss 317.32, bar  test loss 4.134, len  test loss 0.668, col  test loss 164.100\n"
     ]
    },
    {
     "name": "stderr",
     "output_type": "stream",
     "text": [
      "Epoch 722: 272batch [00:54,  5.03batch/s, loss=287]\n"
     ]
    },
    {
     "name": "stdout",
     "output_type": "stream",
     "text": [
      "epoch 722: avg train loss 266.22, bar train loss 5.040, len train loss 0.014, col train loss 160.391\n"
     ]
    },
    {
     "name": "stderr",
     "output_type": "stream",
     "text": [
      "\r",
      "Epoch 723: 0batch [00:00, ?batch/s]"
     ]
    },
    {
     "name": "stdout",
     "output_type": "stream",
     "text": [
      "epoch 722: avg test  loss 313.89, bar  test loss 4.113, len  test loss 0.636, col  test loss 164.116\n"
     ]
    },
    {
     "name": "stderr",
     "output_type": "stream",
     "text": [
      "Epoch 723: 272batch [00:54,  5.02batch/s, loss=304]\n"
     ]
    },
    {
     "name": "stdout",
     "output_type": "stream",
     "text": [
      "epoch 723: avg train loss 266.12, bar train loss 5.037, len train loss 0.014, col train loss 160.385\n"
     ]
    },
    {
     "name": "stderr",
     "output_type": "stream",
     "text": [
      "\r",
      "Epoch 724: 0batch [00:00, ?batch/s]"
     ]
    },
    {
     "name": "stdout",
     "output_type": "stream",
     "text": [
      "epoch 723: avg test  loss 315.12, bar  test loss 4.167, len  test loss 0.642, col  test loss 164.116\n"
     ]
    },
    {
     "name": "stderr",
     "output_type": "stream",
     "text": [
      "Epoch 724: 272batch [00:54,  5.01batch/s, loss=264]\n"
     ]
    },
    {
     "name": "stdout",
     "output_type": "stream",
     "text": [
      "epoch 724: avg train loss 265.74, bar train loss 5.015, len train loss 0.014, col train loss 160.397\n"
     ]
    },
    {
     "name": "stderr",
     "output_type": "stream",
     "text": [
      "\r",
      "Epoch 725: 0batch [00:00, ?batch/s]"
     ]
    },
    {
     "name": "stdout",
     "output_type": "stream",
     "text": [
      "epoch 724: avg test  loss 313.21, bar  test loss 4.151, len  test loss 0.625, col  test loss 164.127\n"
     ]
    },
    {
     "name": "stderr",
     "output_type": "stream",
     "text": [
      "Epoch 725: 272batch [00:54,  5.00batch/s, loss=272]\n"
     ]
    },
    {
     "name": "stdout",
     "output_type": "stream",
     "text": [
      "epoch 725: avg train loss 266.44, bar train loss 5.050, len train loss 0.014, col train loss 160.409\n",
      "epoch 725: avg test  loss 316.18, bar  test loss 4.144, len  test loss 0.658, col  test loss 164.116\n"
     ]
    },
    {
     "name": "stderr",
     "output_type": "stream",
     "text": [
      "Epoch 726: 272batch [00:54,  4.96batch/s, loss=286]\n"
     ]
    },
    {
     "name": "stdout",
     "output_type": "stream",
     "text": [
      "epoch 726: avg train loss 265.90, bar train loss 5.025, len train loss 0.014, col train loss 160.394\n"
     ]
    },
    {
     "name": "stderr",
     "output_type": "stream",
     "text": [
      "\r",
      "Epoch 727: 0batch [00:00, ?batch/s]"
     ]
    },
    {
     "name": "stdout",
     "output_type": "stream",
     "text": [
      "epoch 726: avg test  loss 317.99, bar  test loss 4.169, len  test loss 0.667, col  test loss 164.104\n"
     ]
    },
    {
     "name": "stderr",
     "output_type": "stream",
     "text": [
      "Epoch 727: 272batch [00:54,  4.99batch/s, loss=267]\n"
     ]
    },
    {
     "name": "stdout",
     "output_type": "stream",
     "text": [
      "epoch 727: avg train loss 266.17, bar train loss 5.036, len train loss 0.014, col train loss 160.395\n"
     ]
    },
    {
     "name": "stderr",
     "output_type": "stream",
     "text": [
      "\r",
      "Epoch 728: 0batch [00:00, ?batch/s]"
     ]
    },
    {
     "name": "stdout",
     "output_type": "stream",
     "text": [
      "epoch 727: avg test  loss 319.70, bar  test loss 4.144, len  test loss 0.690, col  test loss 164.122\n"
     ]
    },
    {
     "name": "stderr",
     "output_type": "stream",
     "text": [
      "Epoch 728: 272batch [00:54,  4.99batch/s, loss=269]\n"
     ]
    },
    {
     "name": "stdout",
     "output_type": "stream",
     "text": [
      "epoch 728: avg train loss 266.30, bar train loss 5.044, len train loss 0.014, col train loss 160.398\n"
     ]
    },
    {
     "name": "stderr",
     "output_type": "stream",
     "text": [
      "\r",
      "Epoch 729: 0batch [00:00, ?batch/s]"
     ]
    },
    {
     "name": "stdout",
     "output_type": "stream",
     "text": [
      "epoch 728: avg test  loss 312.74, bar  test loss 4.095, len  test loss 0.631, col  test loss 164.111\n"
     ]
    },
    {
     "name": "stderr",
     "output_type": "stream",
     "text": [
      "Epoch 729: 272batch [00:54,  4.99batch/s, loss=268]\n"
     ]
    },
    {
     "name": "stdout",
     "output_type": "stream",
     "text": [
      "epoch 729: avg train loss 266.04, bar train loss 5.028, len train loss 0.014, col train loss 160.405\n"
     ]
    },
    {
     "name": "stderr",
     "output_type": "stream",
     "text": [
      "\r",
      "Epoch 730: 0batch [00:00, ?batch/s]"
     ]
    },
    {
     "name": "stdout",
     "output_type": "stream",
     "text": [
      "epoch 729: avg test  loss 316.26, bar  test loss 4.151, len  test loss 0.654, col  test loss 164.118\n"
     ]
    },
    {
     "name": "stderr",
     "output_type": "stream",
     "text": [
      "Epoch 730: 272batch [00:54,  4.96batch/s, loss=280]\n"
     ]
    },
    {
     "name": "stdout",
     "output_type": "stream",
     "text": [
      "epoch 730: avg train loss 266.23, bar train loss 5.039, len train loss 0.014, col train loss 160.399\n",
      "epoch 730: avg test  loss 315.85, bar  test loss 4.115, len  test loss 0.661, col  test loss 164.120\n"
     ]
    },
    {
     "name": "stderr",
     "output_type": "stream",
     "text": [
      "Epoch 731: 272batch [00:54,  4.98batch/s, loss=283]\n"
     ]
    },
    {
     "name": "stdout",
     "output_type": "stream",
     "text": [
      "epoch 731: avg train loss 266.28, bar train loss 5.041, len train loss 0.014, col train loss 160.399\n"
     ]
    },
    {
     "name": "stderr",
     "output_type": "stream",
     "text": [
      "\r",
      "Epoch 732: 0batch [00:00, ?batch/s]"
     ]
    },
    {
     "name": "stdout",
     "output_type": "stream",
     "text": [
      "epoch 731: avg test  loss 318.31, bar  test loss 4.114, len  test loss 0.684, col  test loss 164.097\n"
     ]
    },
    {
     "name": "stderr",
     "output_type": "stream",
     "text": [
      "Epoch 732: 272batch [00:54,  4.96batch/s, loss=267]\n"
     ]
    },
    {
     "name": "stdout",
     "output_type": "stream",
     "text": [
      "epoch 732: avg train loss 266.11, bar train loss 5.034, len train loss 0.014, col train loss 160.393\n"
     ]
    },
    {
     "name": "stderr",
     "output_type": "stream",
     "text": [
      "\r",
      "Epoch 733: 0batch [00:00, ?batch/s]"
     ]
    },
    {
     "name": "stdout",
     "output_type": "stream",
     "text": [
      "epoch 732: avg test  loss 318.52, bar  test loss 4.113, len  test loss 0.684, col  test loss 164.113\n"
     ]
    },
    {
     "name": "stderr",
     "output_type": "stream",
     "text": [
      "Epoch 733: 272batch [00:55,  4.88batch/s, loss=284]\n"
     ]
    },
    {
     "name": "stdout",
     "output_type": "stream",
     "text": [
      "epoch 733: avg train loss 266.17, bar train loss 5.036, len train loss 0.014, col train loss 160.389\n"
     ]
    },
    {
     "name": "stderr",
     "output_type": "stream",
     "text": [
      "\r",
      "Epoch 734: 0batch [00:00, ?batch/s]"
     ]
    },
    {
     "name": "stdout",
     "output_type": "stream",
     "text": [
      "epoch 733: avg test  loss 317.62, bar  test loss 4.178, len  test loss 0.663, col  test loss 164.117\n"
     ]
    },
    {
     "name": "stderr",
     "output_type": "stream",
     "text": [
      "Epoch 734: 272batch [00:55,  4.94batch/s, loss=268]\n"
     ]
    },
    {
     "name": "stdout",
     "output_type": "stream",
     "text": [
      "epoch 734: avg train loss 265.81, bar train loss 5.020, len train loss 0.014, col train loss 160.387\n"
     ]
    },
    {
     "name": "stderr",
     "output_type": "stream",
     "text": [
      "\r",
      "Epoch 735: 0batch [00:00, ?batch/s]"
     ]
    },
    {
     "name": "stdout",
     "output_type": "stream",
     "text": [
      "epoch 734: avg test  loss 316.33, bar  test loss 4.116, len  test loss 0.662, col  test loss 164.098\n"
     ]
    },
    {
     "name": "stderr",
     "output_type": "stream",
     "text": [
      "Epoch 735: 272batch [00:55,  4.94batch/s, loss=276]\n"
     ]
    },
    {
     "name": "stdout",
     "output_type": "stream",
     "text": [
      "epoch 735: avg train loss 266.00, bar train loss 5.031, len train loss 0.014, col train loss 160.377\n",
      "epoch 735: avg test  loss 317.02, bar  test loss 4.139, len  test loss 0.667, col  test loss 164.107\n"
     ]
    },
    {
     "name": "stderr",
     "output_type": "stream",
     "text": [
      "Epoch 736: 272batch [00:55,  4.92batch/s, loss=262]\n"
     ]
    },
    {
     "name": "stdout",
     "output_type": "stream",
     "text": [
      "epoch 736: avg train loss 266.32, bar train loss 5.044, len train loss 0.014, col train loss 160.391\n"
     ]
    },
    {
     "name": "stderr",
     "output_type": "stream",
     "text": [
      "\r",
      "Epoch 737: 0batch [00:00, ?batch/s]"
     ]
    },
    {
     "name": "stdout",
     "output_type": "stream",
     "text": [
      "epoch 736: avg test  loss 312.42, bar  test loss 4.117, len  test loss 0.623, col  test loss 164.115\n"
     ]
    },
    {
     "name": "stderr",
     "output_type": "stream",
     "text": [
      "Epoch 737: 272batch [00:55,  4.92batch/s, loss=270]\n"
     ]
    },
    {
     "name": "stdout",
     "output_type": "stream",
     "text": [
      "epoch 737: avg train loss 266.05, bar train loss 5.031, len train loss 0.014, col train loss 160.388\n"
     ]
    },
    {
     "name": "stderr",
     "output_type": "stream",
     "text": [
      "\r",
      "Epoch 738: 0batch [00:00, ?batch/s]"
     ]
    },
    {
     "name": "stdout",
     "output_type": "stream",
     "text": [
      "epoch 737: avg test  loss 316.79, bar  test loss 4.170, len  test loss 0.656, col  test loss 164.100\n"
     ]
    },
    {
     "name": "stderr",
     "output_type": "stream",
     "text": [
      "Epoch 738: 272batch [00:55,  4.93batch/s, loss=279]\n"
     ]
    },
    {
     "name": "stdout",
     "output_type": "stream",
     "text": [
      "epoch 738: avg train loss 265.95, bar train loss 5.025, len train loss 0.014, col train loss 160.381\n"
     ]
    },
    {
     "name": "stderr",
     "output_type": "stream",
     "text": [
      "\r",
      "Epoch 739: 0batch [00:00, ?batch/s]"
     ]
    },
    {
     "name": "stdout",
     "output_type": "stream",
     "text": [
      "epoch 738: avg test  loss 313.35, bar  test loss 4.105, len  test loss 0.635, col  test loss 164.121\n"
     ]
    },
    {
     "name": "stderr",
     "output_type": "stream",
     "text": [
      "Epoch 739: 272batch [00:55,  4.92batch/s, loss=271]\n"
     ]
    },
    {
     "name": "stdout",
     "output_type": "stream",
     "text": [
      "epoch 739: avg train loss 265.99, bar train loss 5.030, len train loss 0.014, col train loss 160.382\n"
     ]
    },
    {
     "name": "stderr",
     "output_type": "stream",
     "text": [
      "\r",
      "Epoch 740: 0batch [00:00, ?batch/s]"
     ]
    },
    {
     "name": "stdout",
     "output_type": "stream",
     "text": [
      "epoch 739: avg test  loss 312.88, bar  test loss 4.131, len  test loss 0.626, col  test loss 164.102\n"
     ]
    },
    {
     "name": "stderr",
     "output_type": "stream",
     "text": [
      "Epoch 740: 272batch [00:55,  4.94batch/s, loss=281]\n"
     ]
    },
    {
     "name": "stdout",
     "output_type": "stream",
     "text": [
      "epoch 740: avg train loss 265.92, bar train loss 5.024, len train loss 0.014, col train loss 160.385\n",
      "epoch 740: avg test  loss 313.66, bar  test loss 4.169, len  test loss 0.627, col  test loss 164.120\n"
     ]
    },
    {
     "name": "stderr",
     "output_type": "stream",
     "text": [
      "Epoch 741: 272batch [00:55,  4.92batch/s, loss=282]\n"
     ]
    },
    {
     "name": "stdout",
     "output_type": "stream",
     "text": [
      "epoch 741: avg train loss 266.01, bar train loss 5.027, len train loss 0.015, col train loss 160.383\n"
     ]
    },
    {
     "name": "stderr",
     "output_type": "stream",
     "text": [
      "\r",
      "Epoch 742: 0batch [00:00, ?batch/s]"
     ]
    },
    {
     "name": "stdout",
     "output_type": "stream",
     "text": [
      "epoch 741: avg test  loss 310.20, bar  test loss 4.129, len  test loss 0.599, col  test loss 164.106\n"
     ]
    },
    {
     "name": "stderr",
     "output_type": "stream",
     "text": [
      "Epoch 742: 272batch [00:55,  4.94batch/s, loss=287]\n"
     ]
    },
    {
     "name": "stdout",
     "output_type": "stream",
     "text": [
      "epoch 742: avg train loss 266.09, bar train loss 5.034, len train loss 0.014, col train loss 160.374\n"
     ]
    },
    {
     "name": "stderr",
     "output_type": "stream",
     "text": [
      "\r",
      "Epoch 743: 0batch [00:00, ?batch/s]"
     ]
    },
    {
     "name": "stdout",
     "output_type": "stream",
     "text": [
      "epoch 742: avg test  loss 313.49, bar  test loss 4.081, len  test loss 0.640, col  test loss 164.109\n"
     ]
    },
    {
     "name": "stderr",
     "output_type": "stream",
     "text": [
      "Epoch 743: 272batch [00:55,  4.89batch/s, loss=281]\n"
     ]
    },
    {
     "name": "stdout",
     "output_type": "stream",
     "text": [
      "epoch 743: avg train loss 266.28, bar train loss 5.043, len train loss 0.014, col train loss 160.379\n"
     ]
    },
    {
     "name": "stderr",
     "output_type": "stream",
     "text": [
      "\r",
      "Epoch 744: 0batch [00:00, ?batch/s]"
     ]
    },
    {
     "name": "stdout",
     "output_type": "stream",
     "text": [
      "epoch 743: avg test  loss 313.22, bar  test loss 4.142, len  test loss 0.627, col  test loss 164.118\n"
     ]
    },
    {
     "name": "stderr",
     "output_type": "stream",
     "text": [
      "Epoch 744: 272batch [00:55,  4.92batch/s, loss=283]\n"
     ]
    },
    {
     "name": "stdout",
     "output_type": "stream",
     "text": [
      "epoch 744: avg train loss 266.04, bar train loss 5.032, len train loss 0.014, col train loss 160.374\n"
     ]
    },
    {
     "name": "stderr",
     "output_type": "stream",
     "text": [
      "\r",
      "Epoch 745: 0batch [00:00, ?batch/s]"
     ]
    },
    {
     "name": "stdout",
     "output_type": "stream",
     "text": [
      "epoch 744: avg test  loss 315.21, bar  test loss 4.134, len  test loss 0.645, col  test loss 164.107\n"
     ]
    },
    {
     "name": "stderr",
     "output_type": "stream",
     "text": [
      "Epoch 745: 272batch [00:55,  4.90batch/s, loss=255]\n"
     ]
    },
    {
     "name": "stdout",
     "output_type": "stream",
     "text": [
      "epoch 745: avg train loss 266.00, bar train loss 5.028, len train loss 0.014, col train loss 160.376\n",
      "epoch 745: avg test  loss 314.48, bar  test loss 4.098, len  test loss 0.649, col  test loss 164.105\n"
     ]
    },
    {
     "name": "stderr",
     "output_type": "stream",
     "text": [
      "Epoch 746: 272batch [00:55,  4.90batch/s, loss=285]\n"
     ]
    },
    {
     "name": "stdout",
     "output_type": "stream",
     "text": [
      "epoch 746: avg train loss 266.15, bar train loss 5.037, len train loss 0.014, col train loss 160.376\n"
     ]
    },
    {
     "name": "stderr",
     "output_type": "stream",
     "text": [
      "Epoch 747: 0batch [00:00, ?batch/s, loss=265]"
     ]
    },
    {
     "name": "stdout",
     "output_type": "stream",
     "text": [
      "epoch 746: avg test  loss 316.47, bar  test loss 4.113, len  test loss 0.666, col  test loss 164.107\n"
     ]
    },
    {
     "name": "stderr",
     "output_type": "stream",
     "text": [
      "Epoch 747: 272batch [00:55,  4.91batch/s, loss=269]\n"
     ]
    },
    {
     "name": "stdout",
     "output_type": "stream",
     "text": [
      "epoch 747: avg train loss 266.06, bar train loss 5.032, len train loss 0.014, col train loss 160.381\n"
     ]
    },
    {
     "name": "stderr",
     "output_type": "stream",
     "text": [
      "\r",
      "Epoch 748: 0batch [00:00, ?batch/s]"
     ]
    },
    {
     "name": "stdout",
     "output_type": "stream",
     "text": [
      "epoch 747: avg test  loss 315.51, bar  test loss 4.112, len  test loss 0.656, col  test loss 164.107\n"
     ]
    },
    {
     "name": "stderr",
     "output_type": "stream",
     "text": [
      "Epoch 748: 272batch [00:55,  4.88batch/s, loss=268]\n"
     ]
    },
    {
     "name": "stdout",
     "output_type": "stream",
     "text": [
      "epoch 748: avg train loss 265.95, bar train loss 5.028, len train loss 0.014, col train loss 160.372\n"
     ]
    },
    {
     "name": "stderr",
     "output_type": "stream",
     "text": [
      "\r",
      "Epoch 749: 0batch [00:00, ?batch/s]"
     ]
    },
    {
     "name": "stdout",
     "output_type": "stream",
     "text": [
      "epoch 748: avg test  loss 312.95, bar  test loss 4.160, len  test loss 0.619, col  test loss 164.099\n"
     ]
    },
    {
     "name": "stderr",
     "output_type": "stream",
     "text": [
      "Epoch 749: 272batch [00:55,  4.86batch/s, loss=296]\n"
     ]
    },
    {
     "name": "stdout",
     "output_type": "stream",
     "text": [
      "epoch 749: avg train loss 266.39, bar train loss 5.047, len train loss 0.015, col train loss 160.364\n"
     ]
    },
    {
     "name": "stderr",
     "output_type": "stream",
     "text": [
      "\r",
      "Epoch 750: 0batch [00:00, ?batch/s]"
     ]
    },
    {
     "name": "stdout",
     "output_type": "stream",
     "text": [
      "epoch 749: avg test  loss 313.72, bar  test loss 4.167, len  test loss 0.626, col  test loss 164.108\n"
     ]
    },
    {
     "name": "stderr",
     "output_type": "stream",
     "text": [
      "Epoch 750: 272batch [00:55,  4.87batch/s, loss=305]\n"
     ]
    },
    {
     "name": "stdout",
     "output_type": "stream",
     "text": [
      "epoch 750: avg train loss 266.03, bar train loss 5.030, len train loss 0.014, col train loss 160.368\n",
      "epoch 750: avg test  loss 314.08, bar  test loss 4.076, len  test loss 0.648, col  test loss 164.101\n"
     ]
    },
    {
     "name": "stderr",
     "output_type": "stream",
     "text": [
      "Epoch 751: 272batch [00:55,  4.87batch/s, loss=285]\n"
     ]
    },
    {
     "name": "stdout",
     "output_type": "stream",
     "text": [
      "epoch 751: avg train loss 265.95, bar train loss 5.026, len train loss 0.015, col train loss 160.368\n"
     ]
    },
    {
     "name": "stderr",
     "output_type": "stream",
     "text": [
      "\r",
      "Epoch 752: 0batch [00:00, ?batch/s]"
     ]
    },
    {
     "name": "stdout",
     "output_type": "stream",
     "text": [
      "epoch 751: avg test  loss 315.30, bar  test loss 4.140, len  test loss 0.647, col  test loss 164.100\n"
     ]
    },
    {
     "name": "stderr",
     "output_type": "stream",
     "text": [
      "Epoch 752: 272batch [00:55,  4.86batch/s, loss=275]\n"
     ]
    },
    {
     "name": "stdout",
     "output_type": "stream",
     "text": [
      "epoch 752: avg train loss 265.80, bar train loss 5.020, len train loss 0.014, col train loss 160.368\n"
     ]
    },
    {
     "name": "stderr",
     "output_type": "stream",
     "text": [
      "\r",
      "Epoch 753: 0batch [00:00, ?batch/s]"
     ]
    },
    {
     "name": "stdout",
     "output_type": "stream",
     "text": [
      "epoch 752: avg test  loss 318.54, bar  test loss 4.142, len  test loss 0.680, col  test loss 164.115\n"
     ]
    },
    {
     "name": "stderr",
     "output_type": "stream",
     "text": [
      "Epoch 753: 272batch [00:55,  4.88batch/s, loss=258]\n"
     ]
    },
    {
     "name": "stdout",
     "output_type": "stream",
     "text": [
      "epoch 753: avg train loss 265.77, bar train loss 5.020, len train loss 0.014, col train loss 160.354\n"
     ]
    },
    {
     "name": "stderr",
     "output_type": "stream",
     "text": [
      "\r",
      "Epoch 754: 0batch [00:00, ?batch/s]"
     ]
    },
    {
     "name": "stdout",
     "output_type": "stream",
     "text": [
      "epoch 753: avg test  loss 315.70, bar  test loss 4.205, len  test loss 0.636, col  test loss 164.118\n"
     ]
    },
    {
     "name": "stderr",
     "output_type": "stream",
     "text": [
      "Epoch 754: 272batch [00:55,  4.87batch/s, loss=269]\n"
     ]
    },
    {
     "name": "stdout",
     "output_type": "stream",
     "text": [
      "epoch 754: avg train loss 266.04, bar train loss 5.030, len train loss 0.014, col train loss 160.381\n"
     ]
    },
    {
     "name": "stderr",
     "output_type": "stream",
     "text": [
      "\r",
      "Epoch 755: 0batch [00:00, ?batch/s]"
     ]
    },
    {
     "name": "stdout",
     "output_type": "stream",
     "text": [
      "epoch 754: avg test  loss 316.60, bar  test loss 4.156, len  test loss 0.658, col  test loss 164.118\n"
     ]
    },
    {
     "name": "stderr",
     "output_type": "stream",
     "text": [
      "Epoch 755: 272batch [00:55,  4.87batch/s, loss=270]\n"
     ]
    },
    {
     "name": "stdout",
     "output_type": "stream",
     "text": [
      "epoch 755: avg train loss 265.82, bar train loss 5.022, len train loss 0.014, col train loss 160.365\n",
      "epoch 755: avg test  loss 314.28, bar  test loss 4.153, len  test loss 0.635, col  test loss 164.111\n"
     ]
    },
    {
     "name": "stderr",
     "output_type": "stream",
     "text": [
      "Epoch 756: 272batch [00:55,  4.86batch/s, loss=291]\n"
     ]
    },
    {
     "name": "stdout",
     "output_type": "stream",
     "text": [
      "epoch 756: avg train loss 266.15, bar train loss 5.038, len train loss 0.014, col train loss 160.353\n"
     ]
    },
    {
     "name": "stderr",
     "output_type": "stream",
     "text": [
      "\r",
      "Epoch 757: 0batch [00:00, ?batch/s]"
     ]
    },
    {
     "name": "stdout",
     "output_type": "stream",
     "text": [
      "epoch 756: avg test  loss 314.45, bar  test loss 4.112, len  test loss 0.646, col  test loss 164.116\n"
     ]
    },
    {
     "name": "stderr",
     "output_type": "stream",
     "text": [
      "Epoch 757: 272batch [00:55,  4.87batch/s, loss=290]\n"
     ]
    },
    {
     "name": "stdout",
     "output_type": "stream",
     "text": [
      "epoch 757: avg train loss 265.95, bar train loss 5.026, len train loss 0.014, col train loss 160.369\n"
     ]
    },
    {
     "name": "stderr",
     "output_type": "stream",
     "text": [
      "\r",
      "Epoch 758: 0batch [00:00, ?batch/s]"
     ]
    },
    {
     "name": "stdout",
     "output_type": "stream",
     "text": [
      "epoch 757: avg test  loss 314.40, bar  test loss 4.125, len  test loss 0.645, col  test loss 164.123\n"
     ]
    },
    {
     "name": "stderr",
     "output_type": "stream",
     "text": [
      "Epoch 758: 272batch [00:56,  4.82batch/s, loss=260]\n"
     ]
    },
    {
     "name": "stdout",
     "output_type": "stream",
     "text": [
      "epoch 758: avg train loss 266.10, bar train loss 5.034, len train loss 0.014, col train loss 160.350\n"
     ]
    },
    {
     "name": "stderr",
     "output_type": "stream",
     "text": [
      "\r",
      "Epoch 759: 0batch [00:00, ?batch/s]"
     ]
    },
    {
     "name": "stdout",
     "output_type": "stream",
     "text": [
      "epoch 758: avg test  loss 313.63, bar  test loss 4.155, len  test loss 0.627, col  test loss 164.118\n"
     ]
    },
    {
     "name": "stderr",
     "output_type": "stream",
     "text": [
      "Epoch 759: 272batch [00:56,  4.84batch/s, loss=251]\n"
     ]
    },
    {
     "name": "stdout",
     "output_type": "stream",
     "text": [
      "epoch 759: avg train loss 266.14, bar train loss 5.038, len train loss 0.014, col train loss 160.348\n"
     ]
    },
    {
     "name": "stderr",
     "output_type": "stream",
     "text": [
      "\r",
      "Epoch 760: 0batch [00:00, ?batch/s]"
     ]
    },
    {
     "name": "stdout",
     "output_type": "stream",
     "text": [
      "epoch 759: avg test  loss 317.69, bar  test loss 4.162, len  test loss 0.667, col  test loss 164.107\n"
     ]
    },
    {
     "name": "stderr",
     "output_type": "stream",
     "text": [
      "Epoch 760: 272batch [00:56,  4.82batch/s, loss=265]\n"
     ]
    },
    {
     "name": "stdout",
     "output_type": "stream",
     "text": [
      "epoch 760: avg train loss 266.04, bar train loss 5.033, len train loss 0.014, col train loss 160.349\n",
      "epoch 760: avg test  loss 313.59, bar  test loss 4.130, len  test loss 0.633, col  test loss 164.119\n"
     ]
    },
    {
     "name": "stderr",
     "output_type": "stream",
     "text": [
      "Epoch 761: 272batch [00:56,  4.83batch/s, loss=246]\n"
     ]
    },
    {
     "name": "stdout",
     "output_type": "stream",
     "text": [
      "epoch 761: avg train loss 266.03, bar train loss 5.034, len train loss 0.014, col train loss 160.338\n"
     ]
    },
    {
     "name": "stderr",
     "output_type": "stream",
     "text": [
      "\r",
      "Epoch 762: 0batch [00:00, ?batch/s]"
     ]
    },
    {
     "name": "stdout",
     "output_type": "stream",
     "text": [
      "epoch 761: avg test  loss 315.39, bar  test loss 4.146, len  test loss 0.648, col  test loss 164.122\n"
     ]
    },
    {
     "name": "stderr",
     "output_type": "stream",
     "text": [
      "Epoch 762: 272batch [00:56,  4.83batch/s, loss=277]\n"
     ]
    },
    {
     "name": "stdout",
     "output_type": "stream",
     "text": [
      "epoch 762: avg train loss 265.89, bar train loss 5.026, len train loss 0.014, col train loss 160.343\n"
     ]
    },
    {
     "name": "stderr",
     "output_type": "stream",
     "text": [
      "\r",
      "Epoch 763: 0batch [00:00, ?batch/s]"
     ]
    },
    {
     "name": "stdout",
     "output_type": "stream",
     "text": [
      "epoch 762: avg test  loss 315.29, bar  test loss 4.127, len  test loss 0.650, col  test loss 164.104\n"
     ]
    },
    {
     "name": "stderr",
     "output_type": "stream",
     "text": [
      "Epoch 763: 272batch [00:56,  4.81batch/s, loss=290]\n"
     ]
    },
    {
     "name": "stdout",
     "output_type": "stream",
     "text": [
      "epoch 763: avg train loss 265.90, bar train loss 5.028, len train loss 0.014, col train loss 160.353\n"
     ]
    },
    {
     "name": "stderr",
     "output_type": "stream",
     "text": [
      "\r",
      "Epoch 764: 0batch [00:00, ?batch/s]"
     ]
    },
    {
     "name": "stdout",
     "output_type": "stream",
     "text": [
      "epoch 763: avg test  loss 319.08, bar  test loss 4.152, len  test loss 0.683, col  test loss 164.107\n"
     ]
    },
    {
     "name": "stderr",
     "output_type": "stream",
     "text": [
      "Epoch 764: 272batch [00:56,  4.80batch/s, loss=272]\n"
     ]
    },
    {
     "name": "stdout",
     "output_type": "stream",
     "text": [
      "epoch 764: avg train loss 266.15, bar train loss 5.037, len train loss 0.014, col train loss 160.350\n"
     ]
    },
    {
     "name": "stderr",
     "output_type": "stream",
     "text": [
      "\r",
      "Epoch 765: 0batch [00:00, ?batch/s]"
     ]
    },
    {
     "name": "stdout",
     "output_type": "stream",
     "text": [
      "epoch 764: avg test  loss 314.13, bar  test loss 4.091, len  test loss 0.643, col  test loss 164.119\n"
     ]
    },
    {
     "name": "stderr",
     "output_type": "stream",
     "text": [
      "Epoch 765: 272batch [00:56,  4.78batch/s, loss=271]\n"
     ]
    },
    {
     "name": "stdout",
     "output_type": "stream",
     "text": [
      "epoch 765: avg train loss 266.10, bar train loss 5.037, len train loss 0.014, col train loss 160.345\n",
      "epoch 765: avg test  loss 314.14, bar  test loss 4.124, len  test loss 0.639, col  test loss 164.109\n"
     ]
    },
    {
     "name": "stderr",
     "output_type": "stream",
     "text": [
      "Epoch 766: 272batch [00:56,  4.79batch/s, loss=269]\n"
     ]
    },
    {
     "name": "stdout",
     "output_type": "stream",
     "text": [
      "epoch 766: avg train loss 266.01, bar train loss 5.033, len train loss 0.014, col train loss 160.340\n"
     ]
    },
    {
     "name": "stderr",
     "output_type": "stream",
     "text": [
      "\r",
      "Epoch 767: 0batch [00:00, ?batch/s]"
     ]
    },
    {
     "name": "stdout",
     "output_type": "stream",
     "text": [
      "epoch 766: avg test  loss 318.47, bar  test loss 4.080, len  test loss 0.690, col  test loss 164.120\n"
     ]
    },
    {
     "name": "stderr",
     "output_type": "stream",
     "text": [
      "Epoch 767: 272batch [00:56,  4.80batch/s, loss=286]\n"
     ]
    },
    {
     "name": "stdout",
     "output_type": "stream",
     "text": [
      "epoch 767: avg train loss 266.12, bar train loss 5.034, len train loss 0.014, col train loss 160.355\n"
     ]
    },
    {
     "name": "stderr",
     "output_type": "stream",
     "text": [
      "\r",
      "Epoch 768: 0batch [00:00, ?batch/s]"
     ]
    },
    {
     "name": "stdout",
     "output_type": "stream",
     "text": [
      "epoch 767: avg test  loss 314.93, bar  test loss 4.109, len  test loss 0.652, col  test loss 164.130\n"
     ]
    },
    {
     "name": "stderr",
     "output_type": "stream",
     "text": [
      "Epoch 768: 272batch [00:56,  4.79batch/s, loss=279]\n"
     ]
    },
    {
     "name": "stdout",
     "output_type": "stream",
     "text": [
      "epoch 768: avg train loss 265.97, bar train loss 5.029, len train loss 0.014, col train loss 160.348\n"
     ]
    },
    {
     "name": "stderr",
     "output_type": "stream",
     "text": [
      "\r",
      "Epoch 769: 0batch [00:00, ?batch/s]"
     ]
    },
    {
     "name": "stdout",
     "output_type": "stream",
     "text": [
      "epoch 768: avg test  loss 311.09, bar  test loss 4.093, len  test loss 0.615, col  test loss 164.118\n"
     ]
    },
    {
     "name": "stderr",
     "output_type": "stream",
     "text": [
      "Epoch 769: 272batch [00:56,  4.78batch/s, loss=285]\n"
     ]
    },
    {
     "name": "stdout",
     "output_type": "stream",
     "text": [
      "epoch 769: avg train loss 266.11, bar train loss 5.037, len train loss 0.014, col train loss 160.344\n"
     ]
    },
    {
     "name": "stderr",
     "output_type": "stream",
     "text": [
      "\r",
      "Epoch 770: 0batch [00:00, ?batch/s]"
     ]
    },
    {
     "name": "stdout",
     "output_type": "stream",
     "text": [
      "epoch 769: avg test  loss 313.64, bar  test loss 4.117, len  test loss 0.635, col  test loss 164.094\n"
     ]
    },
    {
     "name": "stderr",
     "output_type": "stream",
     "text": [
      "Epoch 770: 272batch [00:56,  4.78batch/s, loss=248]\n"
     ]
    },
    {
     "name": "stdout",
     "output_type": "stream",
     "text": [
      "epoch 770: avg train loss 265.84, bar train loss 5.025, len train loss 0.014, col train loss 160.329\n",
      "epoch 770: avg test  loss 312.58, bar  test loss 4.116, len  test loss 0.626, col  test loss 164.103\n"
     ]
    },
    {
     "name": "stderr",
     "output_type": "stream",
     "text": [
      "Epoch 771: 272batch [00:57,  4.77batch/s, loss=277]\n"
     ]
    },
    {
     "name": "stdout",
     "output_type": "stream",
     "text": [
      "epoch 771: avg train loss 266.11, bar train loss 5.038, len train loss 0.014, col train loss 160.337\n"
     ]
    },
    {
     "name": "stderr",
     "output_type": "stream",
     "text": [
      "\r",
      "Epoch 772: 0batch [00:00, ?batch/s]"
     ]
    },
    {
     "name": "stdout",
     "output_type": "stream",
     "text": [
      "epoch 771: avg test  loss 317.06, bar  test loss 4.185, len  test loss 0.657, col  test loss 164.109\n"
     ]
    },
    {
     "name": "stderr",
     "output_type": "stream",
     "text": [
      "Epoch 772: 272batch [00:56,  4.79batch/s, loss=254]\n"
     ]
    },
    {
     "name": "stdout",
     "output_type": "stream",
     "text": [
      "epoch 772: avg train loss 266.03, bar train loss 5.033, len train loss 0.014, col train loss 160.346\n"
     ]
    },
    {
     "name": "stderr",
     "output_type": "stream",
     "text": [
      "\r",
      "Epoch 773: 0batch [00:00, ?batch/s]"
     ]
    },
    {
     "name": "stdout",
     "output_type": "stream",
     "text": [
      "epoch 772: avg test  loss 313.33, bar  test loss 4.119, len  test loss 0.633, col  test loss 164.138\n"
     ]
    },
    {
     "name": "stderr",
     "output_type": "stream",
     "text": [
      "Epoch 773: 272batch [00:57,  4.74batch/s, loss=262]\n"
     ]
    },
    {
     "name": "stdout",
     "output_type": "stream",
     "text": [
      "epoch 773: avg train loss 265.68, bar train loss 5.017, len train loss 0.014, col train loss 160.348\n"
     ]
    },
    {
     "name": "stderr",
     "output_type": "stream",
     "text": [
      "\r",
      "Epoch 774: 0batch [00:00, ?batch/s]"
     ]
    },
    {
     "name": "stdout",
     "output_type": "stream",
     "text": [
      "epoch 773: avg test  loss 314.42, bar  test loss 4.171, len  test loss 0.633, col  test loss 164.114\n"
     ]
    },
    {
     "name": "stderr",
     "output_type": "stream",
     "text": [
      "Epoch 774: 272batch [00:57,  4.76batch/s, loss=267]\n"
     ]
    },
    {
     "name": "stdout",
     "output_type": "stream",
     "text": [
      "epoch 774: avg train loss 266.08, bar train loss 5.035, len train loss 0.014, col train loss 160.334\n"
     ]
    },
    {
     "name": "stderr",
     "output_type": "stream",
     "text": [
      "\r",
      "Epoch 775: 0batch [00:00, ?batch/s]"
     ]
    },
    {
     "name": "stdout",
     "output_type": "stream",
     "text": [
      "epoch 774: avg test  loss 313.23, bar  test loss 4.097, len  test loss 0.635, col  test loss 164.103\n"
     ]
    },
    {
     "name": "stderr",
     "output_type": "stream",
     "text": [
      "Epoch 775: 272batch [00:57,  4.75batch/s, loss=261]\n"
     ]
    },
    {
     "name": "stdout",
     "output_type": "stream",
     "text": [
      "epoch 775: avg train loss 266.07, bar train loss 5.033, len train loss 0.014, col train loss 160.349\n",
      "epoch 775: avg test  loss 311.16, bar  test loss 4.132, len  test loss 0.608, col  test loss 164.108\n"
     ]
    },
    {
     "name": "stderr",
     "output_type": "stream",
     "text": [
      "Epoch 776: 272batch [00:56,  4.78batch/s, loss=375]\n"
     ]
    },
    {
     "name": "stdout",
     "output_type": "stream",
     "text": [
      "epoch 776: avg train loss 265.98, bar train loss 5.026, len train loss 0.015, col train loss 160.329\n"
     ]
    },
    {
     "name": "stderr",
     "output_type": "stream",
     "text": [
      "\r",
      "Epoch 777: 0batch [00:00, ?batch/s]"
     ]
    },
    {
     "name": "stdout",
     "output_type": "stream",
     "text": [
      "epoch 776: avg test  loss 312.78, bar  test loss 4.111, len  test loss 0.629, col  test loss 164.104\n"
     ]
    },
    {
     "name": "stderr",
     "output_type": "stream",
     "text": [
      "Epoch 777: 272batch [00:57,  4.75batch/s, loss=275]\n"
     ]
    },
    {
     "name": "stdout",
     "output_type": "stream",
     "text": [
      "epoch 777: avg train loss 265.84, bar train loss 5.026, len train loss 0.014, col train loss 160.330\n"
     ]
    },
    {
     "name": "stderr",
     "output_type": "stream",
     "text": [
      "\r",
      "Epoch 778: 0batch [00:00, ?batch/s]"
     ]
    },
    {
     "name": "stdout",
     "output_type": "stream",
     "text": [
      "epoch 777: avg test  loss 316.42, bar  test loss 4.156, len  test loss 0.656, col  test loss 164.093\n"
     ]
    },
    {
     "name": "stderr",
     "output_type": "stream",
     "text": [
      "Epoch 778: 272batch [00:57,  4.75batch/s, loss=268]\n"
     ]
    },
    {
     "name": "stdout",
     "output_type": "stream",
     "text": [
      "epoch 778: avg train loss 265.80, bar train loss 5.023, len train loss 0.014, col train loss 160.326\n"
     ]
    },
    {
     "name": "stderr",
     "output_type": "stream",
     "text": [
      "\r",
      "Epoch 779: 0batch [00:00, ?batch/s]"
     ]
    },
    {
     "name": "stdout",
     "output_type": "stream",
     "text": [
      "epoch 778: avg test  loss 317.84, bar  test loss 4.129, len  test loss 0.676, col  test loss 164.114\n"
     ]
    },
    {
     "name": "stderr",
     "output_type": "stream",
     "text": [
      "Epoch 779: 272batch [00:57,  4.73batch/s, loss=272]\n"
     ]
    },
    {
     "name": "stdout",
     "output_type": "stream",
     "text": [
      "epoch 779: avg train loss 265.96, bar train loss 5.031, len train loss 0.014, col train loss 160.332\n"
     ]
    },
    {
     "name": "stderr",
     "output_type": "stream",
     "text": [
      "\r",
      "Epoch 780: 0batch [00:00, ?batch/s]"
     ]
    },
    {
     "name": "stdout",
     "output_type": "stream",
     "text": [
      "epoch 779: avg test  loss 318.07, bar  test loss 4.169, len  test loss 0.670, col  test loss 164.108\n"
     ]
    },
    {
     "name": "stderr",
     "output_type": "stream",
     "text": [
      "Epoch 780: 272batch [00:58,  4.65batch/s, loss=293]\n"
     ]
    },
    {
     "name": "stdout",
     "output_type": "stream",
     "text": [
      "epoch 780: avg train loss 266.00, bar train loss 5.032, len train loss 0.014, col train loss 160.325\n",
      "epoch 780: avg test  loss 311.86, bar  test loss 4.124, len  test loss 0.616, col  test loss 164.114\n"
     ]
    },
    {
     "name": "stderr",
     "output_type": "stream",
     "text": [
      "Epoch 781: 272batch [00:57,  4.74batch/s, loss=261]\n"
     ]
    },
    {
     "name": "stdout",
     "output_type": "stream",
     "text": [
      "epoch 781: avg train loss 265.91, bar train loss 5.029, len train loss 0.014, col train loss 160.327\n"
     ]
    },
    {
     "name": "stderr",
     "output_type": "stream",
     "text": [
      "\r",
      "Epoch 782: 0batch [00:00, ?batch/s]"
     ]
    },
    {
     "name": "stdout",
     "output_type": "stream",
     "text": [
      "epoch 781: avg test  loss 317.59, bar  test loss 4.086, len  test loss 0.679, col  test loss 164.104\n"
     ]
    },
    {
     "name": "stderr",
     "output_type": "stream",
     "text": [
      "Epoch 782: 272batch [00:57,  4.75batch/s, loss=272]\n"
     ]
    },
    {
     "name": "stdout",
     "output_type": "stream",
     "text": [
      "epoch 782: avg train loss 266.05, bar train loss 5.033, len train loss 0.014, col train loss 160.331\n"
     ]
    },
    {
     "name": "stderr",
     "output_type": "stream",
     "text": [
      "Epoch 783: 0batch [00:00, ?batch/s, loss=268]"
     ]
    },
    {
     "name": "stdout",
     "output_type": "stream",
     "text": [
      "epoch 782: avg test  loss 315.87, bar  test loss 4.156, len  test loss 0.648, col  test loss 164.125\n"
     ]
    },
    {
     "name": "stderr",
     "output_type": "stream",
     "text": [
      "Epoch 783: 272batch [00:57,  4.73batch/s, loss=290]\n"
     ]
    },
    {
     "name": "stdout",
     "output_type": "stream",
     "text": [
      "epoch 783: avg train loss 265.76, bar train loss 5.022, len train loss 0.014, col train loss 160.320\n"
     ]
    },
    {
     "name": "stderr",
     "output_type": "stream",
     "text": [
      "\r",
      "Epoch 784: 0batch [00:00, ?batch/s]"
     ]
    },
    {
     "name": "stdout",
     "output_type": "stream",
     "text": [
      "epoch 783: avg test  loss 316.78, bar  test loss 4.122, len  test loss 0.666, col  test loss 164.114\n"
     ]
    },
    {
     "name": "stderr",
     "output_type": "stream",
     "text": [
      "Epoch 784: 272batch [00:57,  4.72batch/s, loss=260]\n"
     ]
    },
    {
     "name": "stdout",
     "output_type": "stream",
     "text": [
      "epoch 784: avg train loss 265.94, bar train loss 5.031, len train loss 0.014, col train loss 160.315\n"
     ]
    },
    {
     "name": "stderr",
     "output_type": "stream",
     "text": [
      "\r",
      "Epoch 785: 0batch [00:00, ?batch/s]"
     ]
    },
    {
     "name": "stdout",
     "output_type": "stream",
     "text": [
      "epoch 784: avg test  loss 317.52, bar  test loss 4.137, len  test loss 0.670, col  test loss 164.118\n"
     ]
    },
    {
     "name": "stderr",
     "output_type": "stream",
     "text": [
      "Epoch 785: 272batch [00:57,  4.75batch/s, loss=268]\n"
     ]
    },
    {
     "name": "stdout",
     "output_type": "stream",
     "text": [
      "epoch 785: avg train loss 265.83, bar train loss 5.026, len train loss 0.014, col train loss 160.314\n",
      "epoch 785: avg test  loss 317.95, bar  test loss 4.127, len  test loss 0.677, col  test loss 164.109\n"
     ]
    },
    {
     "name": "stderr",
     "output_type": "stream",
     "text": [
      "Epoch 786: 272batch [00:57,  4.74batch/s, loss=243]\n"
     ]
    },
    {
     "name": "stdout",
     "output_type": "stream",
     "text": [
      "epoch 786: avg train loss 265.72, bar train loss 5.018, len train loss 0.014, col train loss 160.316\n"
     ]
    },
    {
     "name": "stderr",
     "output_type": "stream",
     "text": [
      "\r",
      "Epoch 787: 0batch [00:00, ?batch/s]"
     ]
    },
    {
     "name": "stdout",
     "output_type": "stream",
     "text": [
      "epoch 786: avg test  loss 311.87, bar  test loss 4.120, len  test loss 0.618, col  test loss 164.126\n"
     ]
    },
    {
     "name": "stderr",
     "output_type": "stream",
     "text": [
      "Epoch 787: 272batch [00:57,  4.73batch/s, loss=272]\n"
     ]
    },
    {
     "name": "stdout",
     "output_type": "stream",
     "text": [
      "epoch 787: avg train loss 265.93, bar train loss 5.030, len train loss 0.014, col train loss 160.322\n"
     ]
    },
    {
     "name": "stderr",
     "output_type": "stream",
     "text": [
      "\r",
      "Epoch 788: 0batch [00:00, ?batch/s]"
     ]
    },
    {
     "name": "stdout",
     "output_type": "stream",
     "text": [
      "epoch 787: avg test  loss 310.70, bar  test loss 4.120, len  test loss 0.606, col  test loss 164.105\n"
     ]
    },
    {
     "name": "stderr",
     "output_type": "stream",
     "text": [
      "Epoch 788: 272batch [00:57,  4.72batch/s, loss=271]\n"
     ]
    },
    {
     "name": "stdout",
     "output_type": "stream",
     "text": [
      "epoch 788: avg train loss 265.88, bar train loss 5.027, len train loss 0.014, col train loss 160.307\n"
     ]
    },
    {
     "name": "stderr",
     "output_type": "stream",
     "text": [
      "\r",
      "Epoch 789: 0batch [00:00, ?batch/s]"
     ]
    },
    {
     "name": "stdout",
     "output_type": "stream",
     "text": [
      "epoch 788: avg test  loss 313.47, bar  test loss 4.149, len  test loss 0.628, col  test loss 164.107\n"
     ]
    },
    {
     "name": "stderr",
     "output_type": "stream",
     "text": [
      "Epoch 789: 272batch [00:57,  4.73batch/s, loss=270]\n"
     ]
    },
    {
     "name": "stdout",
     "output_type": "stream",
     "text": [
      "epoch 789: avg train loss 266.07, bar train loss 5.037, len train loss 0.014, col train loss 160.327\n"
     ]
    },
    {
     "name": "stderr",
     "output_type": "stream",
     "text": [
      "\r",
      "Epoch 790: 0batch [00:00, ?batch/s]"
     ]
    },
    {
     "name": "stdout",
     "output_type": "stream",
     "text": [
      "epoch 789: avg test  loss 320.71, bar  test loss 4.133, len  test loss 0.705, col  test loss 164.115\n"
     ]
    },
    {
     "name": "stderr",
     "output_type": "stream",
     "text": [
      "Epoch 790: 272batch [01:02,  4.38batch/s, loss=267]\n"
     ]
    },
    {
     "name": "stdout",
     "output_type": "stream",
     "text": [
      "epoch 790: avg train loss 265.80, bar train loss 5.022, len train loss 0.014, col train loss 160.332\n",
      "epoch 790: avg test  loss 313.24, bar  test loss 4.130, len  test loss 0.630, col  test loss 164.132\n"
     ]
    },
    {
     "name": "stderr",
     "output_type": "stream",
     "text": [
      "Epoch 791: 272batch [01:00,  4.50batch/s, loss=238]\n"
     ]
    },
    {
     "name": "stdout",
     "output_type": "stream",
     "text": [
      "epoch 791: avg train loss 266.04, bar train loss 5.035, len train loss 0.014, col train loss 160.316\n"
     ]
    },
    {
     "name": "stderr",
     "output_type": "stream",
     "text": [
      "\r",
      "Epoch 792: 0batch [00:00, ?batch/s]"
     ]
    },
    {
     "name": "stdout",
     "output_type": "stream",
     "text": [
      "epoch 791: avg test  loss 310.37, bar  test loss 4.130, len  test loss 0.602, col  test loss 164.106\n"
     ]
    },
    {
     "name": "stderr",
     "output_type": "stream",
     "text": [
      "Epoch 792: 272batch [01:00,  4.49batch/s, loss=276]\n"
     ]
    },
    {
     "name": "stdout",
     "output_type": "stream",
     "text": [
      "epoch 792: avg train loss 265.84, bar train loss 5.026, len train loss 0.014, col train loss 160.316\n"
     ]
    },
    {
     "name": "stderr",
     "output_type": "stream",
     "text": [
      "\r",
      "Epoch 793: 0batch [00:00, ?batch/s]"
     ]
    },
    {
     "name": "stdout",
     "output_type": "stream",
     "text": [
      "epoch 792: avg test  loss 313.01, bar  test loss 4.097, len  test loss 0.632, col  test loss 164.101\n"
     ]
    },
    {
     "name": "stderr",
     "output_type": "stream",
     "text": [
      "Epoch 793: 272batch [01:00,  4.50batch/s, loss=269]\n"
     ]
    },
    {
     "name": "stdout",
     "output_type": "stream",
     "text": [
      "epoch 793: avg train loss 266.02, bar train loss 5.033, len train loss 0.014, col train loss 160.314\n"
     ]
    },
    {
     "name": "stderr",
     "output_type": "stream",
     "text": [
      "\r",
      "Epoch 794: 0batch [00:00, ?batch/s]"
     ]
    },
    {
     "name": "stdout",
     "output_type": "stream",
     "text": [
      "epoch 793: avg test  loss 317.86, bar  test loss 4.142, len  test loss 0.672, col  test loss 164.110\n"
     ]
    },
    {
     "name": "stderr",
     "output_type": "stream",
     "text": [
      "Epoch 794: 272batch [01:00,  4.47batch/s, loss=284]\n"
     ]
    },
    {
     "name": "stdout",
     "output_type": "stream",
     "text": [
      "epoch 794: avg train loss 266.02, bar train loss 5.036, len train loss 0.014, col train loss 160.302\n"
     ]
    },
    {
     "name": "stderr",
     "output_type": "stream",
     "text": [
      "\r",
      "Epoch 795: 0batch [00:00, ?batch/s]"
     ]
    },
    {
     "name": "stdout",
     "output_type": "stream",
     "text": [
      "epoch 794: avg test  loss 319.31, bar  test loss 4.149, len  test loss 0.685, col  test loss 164.117\n"
     ]
    },
    {
     "name": "stderr",
     "output_type": "stream",
     "text": [
      "Epoch 795: 272batch [01:01,  4.44batch/s, loss=266]\n"
     ]
    },
    {
     "name": "stdout",
     "output_type": "stream",
     "text": [
      "epoch 795: avg train loss 266.22, bar train loss 5.044, len train loss 0.014, col train loss 160.320\n",
      "epoch 795: avg test  loss 318.25, bar  test loss 4.114, len  test loss 0.684, col  test loss 164.115\n"
     ]
    },
    {
     "name": "stderr",
     "output_type": "stream",
     "text": [
      "Epoch 796: 272batch [01:01,  4.45batch/s, loss=283]\n"
     ]
    },
    {
     "name": "stdout",
     "output_type": "stream",
     "text": [
      "epoch 796: avg train loss 265.93, bar train loss 5.031, len train loss 0.014, col train loss 160.315\n"
     ]
    },
    {
     "name": "stderr",
     "output_type": "stream",
     "text": [
      "\r",
      "Epoch 797: 0batch [00:00, ?batch/s]"
     ]
    },
    {
     "name": "stdout",
     "output_type": "stream",
     "text": [
      "epoch 796: avg test  loss 314.92, bar  test loss 4.109, len  test loss 0.650, col  test loss 164.117\n"
     ]
    },
    {
     "name": "stderr",
     "output_type": "stream",
     "text": [
      "Epoch 797: 272batch [01:01,  4.44batch/s, loss=266]\n"
     ]
    },
    {
     "name": "stdout",
     "output_type": "stream",
     "text": [
      "epoch 797: avg train loss 265.57, bar train loss 5.012, len train loss 0.014, col train loss 160.299\n"
     ]
    },
    {
     "name": "stderr",
     "output_type": "stream",
     "text": [
      "\r",
      "Epoch 798: 0batch [00:00, ?batch/s]"
     ]
    },
    {
     "name": "stdout",
     "output_type": "stream",
     "text": [
      "epoch 797: avg test  loss 309.88, bar  test loss 4.123, len  test loss 0.597, col  test loss 164.105\n"
     ]
    },
    {
     "name": "stderr",
     "output_type": "stream",
     "text": [
      "Epoch 798: 272batch [01:01,  4.45batch/s, loss=262]\n"
     ]
    },
    {
     "name": "stdout",
     "output_type": "stream",
     "text": [
      "epoch 798: avg train loss 265.84, bar train loss 5.024, len train loss 0.014, col train loss 160.309\n"
     ]
    },
    {
     "name": "stderr",
     "output_type": "stream",
     "text": [
      "\r",
      "Epoch 799: 0batch [00:00, ?batch/s]"
     ]
    },
    {
     "name": "stdout",
     "output_type": "stream",
     "text": [
      "epoch 798: avg test  loss 312.50, bar  test loss 4.149, len  test loss 0.619, col  test loss 164.112\n"
     ]
    },
    {
     "name": "stderr",
     "output_type": "stream",
     "text": [
      "Epoch 799: 272batch [01:00,  4.47batch/s, loss=281]\n"
     ]
    },
    {
     "name": "stdout",
     "output_type": "stream",
     "text": [
      "epoch 799: avg train loss 265.78, bar train loss 5.025, len train loss 0.014, col train loss 160.309\n"
     ]
    },
    {
     "name": "stderr",
     "output_type": "stream",
     "text": [
      "\r",
      "Epoch 800: 0batch [00:00, ?batch/s]"
     ]
    },
    {
     "name": "stdout",
     "output_type": "stream",
     "text": [
      "epoch 799: avg test  loss 315.38, bar  test loss 4.204, len  test loss 0.635, col  test loss 164.101\n"
     ]
    },
    {
     "name": "stderr",
     "output_type": "stream",
     "text": [
      "Epoch 800: 272batch [01:00,  4.48batch/s, loss=279]\n"
     ]
    },
    {
     "name": "stdout",
     "output_type": "stream",
     "text": [
      "epoch 800: avg train loss 266.04, bar train loss 5.033, len train loss 0.014, col train loss 160.324\n",
      "epoch 800: avg test  loss 319.99, bar  test loss 4.193, len  test loss 0.683, col  test loss 164.108\n"
     ]
    },
    {
     "name": "stderr",
     "output_type": "stream",
     "text": [
      "Epoch 801: 272batch [01:01,  4.46batch/s, loss=264]\n"
     ]
    },
    {
     "name": "stdout",
     "output_type": "stream",
     "text": [
      "epoch 801: avg train loss 265.96, bar train loss 5.030, len train loss 0.015, col train loss 160.321\n"
     ]
    },
    {
     "name": "stderr",
     "output_type": "stream",
     "text": [
      "\r",
      "Epoch 802: 0batch [00:00, ?batch/s]"
     ]
    },
    {
     "name": "stdout",
     "output_type": "stream",
     "text": [
      "epoch 801: avg test  loss 316.73, bar  test loss 4.134, len  test loss 0.663, col  test loss 164.112\n"
     ]
    },
    {
     "name": "stderr",
     "output_type": "stream",
     "text": [
      "Epoch 802: 272batch [01:01,  4.45batch/s, loss=292]\n"
     ]
    },
    {
     "name": "stdout",
     "output_type": "stream",
     "text": [
      "epoch 802: avg train loss 265.77, bar train loss 5.022, len train loss 0.014, col train loss 160.308\n"
     ]
    },
    {
     "name": "stderr",
     "output_type": "stream",
     "text": [
      "\r",
      "Epoch 803: 0batch [00:00, ?batch/s]"
     ]
    },
    {
     "name": "stdout",
     "output_type": "stream",
     "text": [
      "epoch 802: avg test  loss 314.73, bar  test loss 4.113, len  test loss 0.649, col  test loss 164.115\n"
     ]
    },
    {
     "name": "stderr",
     "output_type": "stream",
     "text": [
      "Epoch 803: 272batch [01:01,  4.44batch/s, loss=279]\n"
     ]
    },
    {
     "name": "stdout",
     "output_type": "stream",
     "text": [
      "epoch 803: avg train loss 266.08, bar train loss 5.038, len train loss 0.014, col train loss 160.290\n"
     ]
    },
    {
     "name": "stderr",
     "output_type": "stream",
     "text": [
      "\r",
      "Epoch 804: 0batch [00:00, ?batch/s]"
     ]
    },
    {
     "name": "stdout",
     "output_type": "stream",
     "text": [
      "epoch 803: avg test  loss 312.52, bar  test loss 4.152, len  test loss 0.619, col  test loss 164.124\n"
     ]
    },
    {
     "name": "stderr",
     "output_type": "stream",
     "text": [
      "Epoch 804: 272batch [01:01,  4.44batch/s, loss=261]\n"
     ]
    },
    {
     "name": "stdout",
     "output_type": "stream",
     "text": [
      "epoch 804: avg train loss 265.88, bar train loss 5.027, len train loss 0.014, col train loss 160.303\n"
     ]
    },
    {
     "name": "stderr",
     "output_type": "stream",
     "text": [
      "\r",
      "Epoch 805: 0batch [00:00, ?batch/s]"
     ]
    },
    {
     "name": "stdout",
     "output_type": "stream",
     "text": [
      "epoch 804: avg test  loss 312.83, bar  test loss 4.107, len  test loss 0.630, col  test loss 164.101\n"
     ]
    },
    {
     "name": "stderr",
     "output_type": "stream",
     "text": [
      "Epoch 805: 272batch [01:01,  4.44batch/s, loss=254]\n"
     ]
    },
    {
     "name": "stdout",
     "output_type": "stream",
     "text": [
      "epoch 805: avg train loss 266.07, bar train loss 5.040, len train loss 0.014, col train loss 160.296\n",
      "epoch 805: avg test  loss 318.81, bar  test loss 4.130, len  test loss 0.687, col  test loss 164.110\n"
     ]
    },
    {
     "name": "stderr",
     "output_type": "stream",
     "text": [
      "Epoch 806: 272batch [01:01,  4.44batch/s, loss=266]\n"
     ]
    },
    {
     "name": "stdout",
     "output_type": "stream",
     "text": [
      "epoch 806: avg train loss 265.96, bar train loss 5.033, len train loss 0.014, col train loss 160.298\n"
     ]
    },
    {
     "name": "stderr",
     "output_type": "stream",
     "text": [
      "\r",
      "Epoch 807: 0batch [00:00, ?batch/s]"
     ]
    },
    {
     "name": "stdout",
     "output_type": "stream",
     "text": [
      "epoch 806: avg test  loss 309.19, bar  test loss 4.127, len  test loss 0.587, col  test loss 164.110\n"
     ]
    },
    {
     "name": "stderr",
     "output_type": "stream",
     "text": [
      "Epoch 807: 272batch [01:01,  4.45batch/s, loss=278]\n"
     ]
    },
    {
     "name": "stdout",
     "output_type": "stream",
     "text": [
      "epoch 807: avg train loss 265.75, bar train loss 5.022, len train loss 0.014, col train loss 160.297\n"
     ]
    },
    {
     "name": "stderr",
     "output_type": "stream",
     "text": [
      "\r",
      "Epoch 808: 0batch [00:00, ?batch/s]"
     ]
    },
    {
     "name": "stdout",
     "output_type": "stream",
     "text": [
      "epoch 807: avg test  loss 316.67, bar  test loss 4.181, len  test loss 0.652, col  test loss 164.116\n"
     ]
    },
    {
     "name": "stderr",
     "output_type": "stream",
     "text": [
      "Epoch 808: 272batch [01:01,  4.43batch/s, loss=285]\n"
     ]
    },
    {
     "name": "stdout",
     "output_type": "stream",
     "text": [
      "epoch 808: avg train loss 266.00, bar train loss 5.036, len train loss 0.014, col train loss 160.290\n"
     ]
    },
    {
     "name": "stderr",
     "output_type": "stream",
     "text": [
      "\r",
      "Epoch 809: 0batch [00:00, ?batch/s]"
     ]
    },
    {
     "name": "stdout",
     "output_type": "stream",
     "text": [
      "epoch 808: avg test  loss 312.46, bar  test loss 4.151, len  test loss 0.617, col  test loss 164.103\n"
     ]
    },
    {
     "name": "stderr",
     "output_type": "stream",
     "text": [
      "Epoch 809: 272batch [01:01,  4.43batch/s, loss=288]\n"
     ]
    },
    {
     "name": "stdout",
     "output_type": "stream",
     "text": [
      "epoch 809: avg train loss 265.68, bar train loss 5.020, len train loss 0.014, col train loss 160.291\n"
     ]
    },
    {
     "name": "stderr",
     "output_type": "stream",
     "text": [
      "\r",
      "Epoch 810: 0batch [00:00, ?batch/s]"
     ]
    },
    {
     "name": "stdout",
     "output_type": "stream",
     "text": [
      "epoch 809: avg test  loss 313.36, bar  test loss 4.149, len  test loss 0.626, col  test loss 164.112\n"
     ]
    },
    {
     "name": "stderr",
     "output_type": "stream",
     "text": [
      "Epoch 810: 272batch [01:01,  4.43batch/s, loss=264]\n"
     ]
    },
    {
     "name": "stdout",
     "output_type": "stream",
     "text": [
      "epoch 810: avg train loss 265.78, bar train loss 5.026, len train loss 0.014, col train loss 160.293\n",
      "epoch 810: avg test  loss 316.93, bar  test loss 4.167, len  test loss 0.659, col  test loss 164.119\n"
     ]
    },
    {
     "name": "stderr",
     "output_type": "stream",
     "text": [
      "Epoch 811: 272batch [01:01,  4.43batch/s, loss=260]\n"
     ]
    },
    {
     "name": "stdout",
     "output_type": "stream",
     "text": [
      "epoch 811: avg train loss 265.96, bar train loss 5.031, len train loss 0.014, col train loss 160.295\n"
     ]
    },
    {
     "name": "stderr",
     "output_type": "stream",
     "text": [
      "\r",
      "Epoch 812: 0batch [00:00, ?batch/s]"
     ]
    },
    {
     "name": "stdout",
     "output_type": "stream",
     "text": [
      "epoch 811: avg test  loss 315.54, bar  test loss 4.186, len  test loss 0.642, col  test loss 164.138\n"
     ]
    },
    {
     "name": "stderr",
     "output_type": "stream",
     "text": [
      "Epoch 812: 272batch [01:01,  4.41batch/s, loss=264]\n"
     ]
    },
    {
     "name": "stdout",
     "output_type": "stream",
     "text": [
      "epoch 812: avg train loss 265.76, bar train loss 5.021, len train loss 0.014, col train loss 160.301\n"
     ]
    },
    {
     "name": "stderr",
     "output_type": "stream",
     "text": [
      "\r",
      "Epoch 813: 0batch [00:00, ?batch/s]"
     ]
    },
    {
     "name": "stdout",
     "output_type": "stream",
     "text": [
      "epoch 812: avg test  loss 315.08, bar  test loss 4.158, len  test loss 0.642, col  test loss 164.106\n"
     ]
    },
    {
     "name": "stderr",
     "output_type": "stream",
     "text": [
      "Epoch 813: 272batch [01:01,  4.41batch/s, loss=290]\n"
     ]
    },
    {
     "name": "stdout",
     "output_type": "stream",
     "text": [
      "epoch 813: avg train loss 265.87, bar train loss 5.030, len train loss 0.014, col train loss 160.298\n"
     ]
    },
    {
     "name": "stderr",
     "output_type": "stream",
     "text": [
      "\r",
      "Epoch 814: 0batch [00:00, ?batch/s]"
     ]
    },
    {
     "name": "stdout",
     "output_type": "stream",
     "text": [
      "epoch 813: avg test  loss 311.99, bar  test loss 4.155, len  test loss 0.612, col  test loss 164.124\n"
     ]
    },
    {
     "name": "stderr",
     "output_type": "stream",
     "text": [
      "Epoch 814: 272batch [01:01,  4.40batch/s, loss=276]\n"
     ]
    },
    {
     "name": "stdout",
     "output_type": "stream",
     "text": [
      "epoch 814: avg train loss 265.74, bar train loss 5.024, len train loss 0.014, col train loss 160.280\n"
     ]
    },
    {
     "name": "stderr",
     "output_type": "stream",
     "text": [
      "\r",
      "Epoch 815: 0batch [00:00, ?batch/s]"
     ]
    },
    {
     "name": "stdout",
     "output_type": "stream",
     "text": [
      "epoch 814: avg test  loss 314.05, bar  test loss 4.140, len  test loss 0.636, col  test loss 164.134\n"
     ]
    },
    {
     "name": "stderr",
     "output_type": "stream",
     "text": [
      "Epoch 815: 272batch [01:01,  4.40batch/s, loss=265]\n"
     ]
    },
    {
     "name": "stdout",
     "output_type": "stream",
     "text": [
      "epoch 815: avg train loss 265.99, bar train loss 5.035, len train loss 0.014, col train loss 160.301\n",
      "epoch 815: avg test  loss 315.71, bar  test loss 4.150, len  test loss 0.650, col  test loss 164.109\n"
     ]
    },
    {
     "name": "stderr",
     "output_type": "stream",
     "text": [
      "Epoch 816: 272batch [01:01,  4.39batch/s, loss=265]\n"
     ]
    },
    {
     "name": "stdout",
     "output_type": "stream",
     "text": [
      "epoch 816: avg train loss 265.96, bar train loss 5.034, len train loss 0.014, col train loss 160.290\n"
     ]
    },
    {
     "name": "stderr",
     "output_type": "stream",
     "text": [
      "\r",
      "Epoch 817: 0batch [00:00, ?batch/s]"
     ]
    },
    {
     "name": "stdout",
     "output_type": "stream",
     "text": [
      "epoch 816: avg test  loss 318.25, bar  test loss 4.158, len  test loss 0.673, col  test loss 164.113\n"
     ]
    },
    {
     "name": "stderr",
     "output_type": "stream",
     "text": [
      "Epoch 817: 272batch [01:01,  4.39batch/s, loss=296]\n"
     ]
    },
    {
     "name": "stdout",
     "output_type": "stream",
     "text": [
      "epoch 817: avg train loss 265.84, bar train loss 5.028, len train loss 0.014, col train loss 160.286\n"
     ]
    },
    {
     "name": "stderr",
     "output_type": "stream",
     "text": [
      "\r",
      "Epoch 818: 0batch [00:00, ?batch/s]"
     ]
    },
    {
     "name": "stdout",
     "output_type": "stream",
     "text": [
      "epoch 817: avg test  loss 310.43, bar  test loss 4.132, len  test loss 0.599, col  test loss 164.102\n"
     ]
    },
    {
     "name": "stderr",
     "output_type": "stream",
     "text": [
      "Epoch 818: 272batch [01:02,  4.37batch/s, loss=281]\n"
     ]
    },
    {
     "name": "stdout",
     "output_type": "stream",
     "text": [
      "epoch 818: avg train loss 265.75, bar train loss 5.021, len train loss 0.014, col train loss 160.286\n"
     ]
    },
    {
     "name": "stderr",
     "output_type": "stream",
     "text": [
      "\r",
      "Epoch 819: 0batch [00:00, ?batch/s]"
     ]
    },
    {
     "name": "stdout",
     "output_type": "stream",
     "text": [
      "epoch 818: avg test  loss 315.78, bar  test loss 4.171, len  test loss 0.649, col  test loss 164.128\n"
     ]
    },
    {
     "name": "stderr",
     "output_type": "stream",
     "text": [
      "Epoch 819: 272batch [01:02,  4.37batch/s, loss=269]\n"
     ]
    },
    {
     "name": "stdout",
     "output_type": "stream",
     "text": [
      "epoch 819: avg train loss 265.81, bar train loss 5.025, len train loss 0.014, col train loss 160.292\n"
     ]
    },
    {
     "name": "stderr",
     "output_type": "stream",
     "text": [
      "\r",
      "Epoch 820: 0batch [00:00, ?batch/s]"
     ]
    },
    {
     "name": "stdout",
     "output_type": "stream",
     "text": [
      "epoch 819: avg test  loss 312.41, bar  test loss 4.099, len  test loss 0.628, col  test loss 164.112\n"
     ]
    },
    {
     "name": "stderr",
     "output_type": "stream",
     "text": [
      "Epoch 820: 272batch [01:02,  4.37batch/s, loss=264]\n"
     ]
    },
    {
     "name": "stdout",
     "output_type": "stream",
     "text": [
      "epoch 820: avg train loss 265.93, bar train loss 5.031, len train loss 0.014, col train loss 160.295\n",
      "epoch 820: avg test  loss 313.30, bar  test loss 4.173, len  test loss 0.624, col  test loss 164.110\n"
     ]
    },
    {
     "name": "stderr",
     "output_type": "stream",
     "text": [
      "Epoch 821: 272batch [01:02,  4.35batch/s, loss=246]\n"
     ]
    },
    {
     "name": "stdout",
     "output_type": "stream",
     "text": [
      "epoch 821: avg train loss 265.67, bar train loss 5.018, len train loss 0.014, col train loss 160.286\n"
     ]
    },
    {
     "name": "stderr",
     "output_type": "stream",
     "text": [
      "\r",
      "Epoch 822: 0batch [00:00, ?batch/s]"
     ]
    },
    {
     "name": "stdout",
     "output_type": "stream",
     "text": [
      "epoch 821: avg test  loss 310.13, bar  test loss 4.090, len  test loss 0.605, col  test loss 164.103\n"
     ]
    },
    {
     "name": "stderr",
     "output_type": "stream",
     "text": [
      "Epoch 822: 272batch [01:02,  4.37batch/s, loss=281]\n"
     ]
    },
    {
     "name": "stdout",
     "output_type": "stream",
     "text": [
      "epoch 822: avg train loss 265.86, bar train loss 5.028, len train loss 0.014, col train loss 160.283\n"
     ]
    },
    {
     "name": "stderr",
     "output_type": "stream",
     "text": [
      "\r",
      "Epoch 823: 0batch [00:00, ?batch/s]"
     ]
    },
    {
     "name": "stdout",
     "output_type": "stream",
     "text": [
      "epoch 822: avg test  loss 310.93, bar  test loss 4.171, len  test loss 0.598, col  test loss 164.115\n"
     ]
    },
    {
     "name": "stderr",
     "output_type": "stream",
     "text": [
      "Epoch 823: 272batch [01:02,  4.36batch/s, loss=263]\n"
     ]
    },
    {
     "name": "stdout",
     "output_type": "stream",
     "text": [
      "epoch 823: avg train loss 265.92, bar train loss 5.031, len train loss 0.014, col train loss 160.280\n"
     ]
    },
    {
     "name": "stderr",
     "output_type": "stream",
     "text": [
      "\r",
      "Epoch 824: 0batch [00:00, ?batch/s]"
     ]
    },
    {
     "name": "stdout",
     "output_type": "stream",
     "text": [
      "epoch 823: avg test  loss 317.98, bar  test loss 4.144, len  test loss 0.675, col  test loss 164.115\n"
     ]
    },
    {
     "name": "stderr",
     "output_type": "stream",
     "text": [
      "Epoch 824: 272batch [01:02,  4.33batch/s, loss=247]\n"
     ]
    },
    {
     "name": "stdout",
     "output_type": "stream",
     "text": [
      "epoch 824: avg train loss 265.79, bar train loss 5.026, len train loss 0.014, col train loss 160.280\n"
     ]
    },
    {
     "name": "stderr",
     "output_type": "stream",
     "text": [
      "\r",
      "Epoch 825: 0batch [00:00, ?batch/s]"
     ]
    },
    {
     "name": "stdout",
     "output_type": "stream",
     "text": [
      "epoch 824: avg test  loss 312.72, bar  test loss 4.178, len  test loss 0.615, col  test loss 164.113\n"
     ]
    },
    {
     "name": "stderr",
     "output_type": "stream",
     "text": [
      "Epoch 825: 272batch [01:02,  4.34batch/s, loss=266]\n"
     ]
    },
    {
     "name": "stdout",
     "output_type": "stream",
     "text": [
      "epoch 825: avg train loss 265.58, bar train loss 5.016, len train loss 0.014, col train loss 160.273\n",
      "epoch 825: avg test  loss 316.89, bar  test loss 4.167, len  test loss 0.657, col  test loss 164.102\n"
     ]
    },
    {
     "name": "stderr",
     "output_type": "stream",
     "text": [
      "Epoch 826: 272batch [01:02,  4.32batch/s, loss=264]\n"
     ]
    },
    {
     "name": "stdout",
     "output_type": "stream",
     "text": [
      "epoch 826: avg train loss 265.74, bar train loss 5.024, len train loss 0.014, col train loss 160.268\n"
     ]
    },
    {
     "name": "stderr",
     "output_type": "stream",
     "text": [
      "\r",
      "Epoch 827: 0batch [00:00, ?batch/s]"
     ]
    },
    {
     "name": "stdout",
     "output_type": "stream",
     "text": [
      "epoch 826: avg test  loss 316.23, bar  test loss 4.101, len  test loss 0.665, col  test loss 164.119\n"
     ]
    },
    {
     "name": "stderr",
     "output_type": "stream",
     "text": [
      "Epoch 827: 272batch [01:02,  4.34batch/s, loss=282]\n"
     ]
    },
    {
     "name": "stdout",
     "output_type": "stream",
     "text": [
      "epoch 827: avg train loss 265.64, bar train loss 5.021, len train loss 0.014, col train loss 160.270\n"
     ]
    },
    {
     "name": "stderr",
     "output_type": "stream",
     "text": [
      "\r",
      "Epoch 828: 0batch [00:00, ?batch/s]"
     ]
    },
    {
     "name": "stdout",
     "output_type": "stream",
     "text": [
      "epoch 827: avg test  loss 313.66, bar  test loss 4.144, len  test loss 0.631, col  test loss 164.108\n"
     ]
    },
    {
     "name": "stderr",
     "output_type": "stream",
     "text": [
      "Epoch 828: 272batch [01:02,  4.33batch/s, loss=258]\n"
     ]
    },
    {
     "name": "stdout",
     "output_type": "stream",
     "text": [
      "epoch 828: avg train loss 265.72, bar train loss 5.022, len train loss 0.014, col train loss 160.275\n"
     ]
    },
    {
     "name": "stderr",
     "output_type": "stream",
     "text": [
      "\r",
      "Epoch 829: 0batch [00:00, ?batch/s]"
     ]
    },
    {
     "name": "stdout",
     "output_type": "stream",
     "text": [
      "epoch 828: avg test  loss 314.25, bar  test loss 4.167, len  test loss 0.633, col  test loss 164.126\n"
     ]
    },
    {
     "name": "stderr",
     "output_type": "stream",
     "text": [
      "Epoch 829: 272batch [01:02,  4.32batch/s, loss=257]\n"
     ]
    },
    {
     "name": "stdout",
     "output_type": "stream",
     "text": [
      "epoch 829: avg train loss 265.77, bar train loss 5.024, len train loss 0.014, col train loss 160.282\n"
     ]
    },
    {
     "name": "stderr",
     "output_type": "stream",
     "text": [
      "\r",
      "Epoch 830: 0batch [00:00, ?batch/s]"
     ]
    },
    {
     "name": "stdout",
     "output_type": "stream",
     "text": [
      "epoch 829: avg test  loss 315.46, bar  test loss 4.133, len  test loss 0.651, col  test loss 164.116\n"
     ]
    },
    {
     "name": "stderr",
     "output_type": "stream",
     "text": [
      "Epoch 830: 272batch [01:03,  4.31batch/s, loss=259]\n"
     ]
    },
    {
     "name": "stdout",
     "output_type": "stream",
     "text": [
      "epoch 830: avg train loss 265.94, bar train loss 5.034, len train loss 0.014, col train loss 160.273\n",
      "epoch 830: avg test  loss 311.49, bar  test loss 4.133, len  test loss 0.612, col  test loss 164.126\n"
     ]
    },
    {
     "name": "stderr",
     "output_type": "stream",
     "text": [
      "Epoch 831: 272batch [01:02,  4.33batch/s, loss=298]\n"
     ]
    },
    {
     "name": "stdout",
     "output_type": "stream",
     "text": [
      "epoch 831: avg train loss 266.19, bar train loss 5.045, len train loss 0.014, col train loss 160.271\n"
     ]
    },
    {
     "name": "stderr",
     "output_type": "stream",
     "text": [
      "\r",
      "Epoch 832: 0batch [00:00, ?batch/s]"
     ]
    },
    {
     "name": "stdout",
     "output_type": "stream",
     "text": [
      "epoch 831: avg test  loss 311.97, bar  test loss 4.110, len  test loss 0.622, col  test loss 164.122\n"
     ]
    },
    {
     "name": "stderr",
     "output_type": "stream",
     "text": [
      "Epoch 832: 272batch [01:03,  4.31batch/s, loss=264]\n"
     ]
    },
    {
     "name": "stdout",
     "output_type": "stream",
     "text": [
      "epoch 832: avg train loss 265.72, bar train loss 5.024, len train loss 0.014, col train loss 160.260\n"
     ]
    },
    {
     "name": "stderr",
     "output_type": "stream",
     "text": [
      "\r",
      "Epoch 833: 0batch [00:00, ?batch/s]"
     ]
    },
    {
     "name": "stdout",
     "output_type": "stream",
     "text": [
      "epoch 832: avg test  loss 310.93, bar  test loss 4.110, len  test loss 0.610, col  test loss 164.115\n"
     ]
    },
    {
     "name": "stderr",
     "output_type": "stream",
     "text": [
      "Epoch 833: 272batch [01:04,  4.24batch/s, loss=257]\n"
     ]
    },
    {
     "name": "stdout",
     "output_type": "stream",
     "text": [
      "epoch 833: avg train loss 265.61, bar train loss 5.017, len train loss 0.014, col train loss 160.266\n"
     ]
    },
    {
     "name": "stderr",
     "output_type": "stream",
     "text": [
      "Epoch 834: 0batch [00:00, ?batch/s, loss=264]"
     ]
    },
    {
     "name": "stdout",
     "output_type": "stream",
     "text": [
      "epoch 833: avg test  loss 311.18, bar  test loss 4.151, len  test loss 0.605, col  test loss 164.123\n"
     ]
    },
    {
     "name": "stderr",
     "output_type": "stream",
     "text": [
      "Epoch 834: 272batch [01:00,  4.46batch/s, loss=272]\n"
     ]
    },
    {
     "name": "stdout",
     "output_type": "stream",
     "text": [
      "epoch 834: avg train loss 265.59, bar train loss 5.016, len train loss 0.014, col train loss 160.278\n"
     ]
    },
    {
     "name": "stderr",
     "output_type": "stream",
     "text": [
      "\r",
      "Epoch 835: 0batch [00:00, ?batch/s]"
     ]
    },
    {
     "name": "stdout",
     "output_type": "stream",
     "text": [
      "epoch 834: avg test  loss 312.79, bar  test loss 4.166, len  test loss 0.617, col  test loss 164.103\n"
     ]
    },
    {
     "name": "stderr",
     "output_type": "stream",
     "text": [
      "Epoch 835: 272batch [01:00,  4.48batch/s, loss=284]\n"
     ]
    },
    {
     "name": "stdout",
     "output_type": "stream",
     "text": [
      "epoch 835: avg train loss 265.79, bar train loss 5.026, len train loss 0.014, col train loss 160.276\n",
      "epoch 835: avg test  loss 316.32, bar  test loss 4.086, len  test loss 0.668, col  test loss 164.117\n"
     ]
    },
    {
     "name": "stderr",
     "output_type": "stream",
     "text": [
      "Epoch 836: 272batch [01:00,  4.47batch/s, loss=281]\n"
     ]
    },
    {
     "name": "stdout",
     "output_type": "stream",
     "text": [
      "epoch 836: avg train loss 265.67, bar train loss 5.020, len train loss 0.014, col train loss 160.270\n"
     ]
    },
    {
     "name": "stderr",
     "output_type": "stream",
     "text": [
      "\r",
      "Epoch 837: 0batch [00:00, ?batch/s]"
     ]
    },
    {
     "name": "stdout",
     "output_type": "stream",
     "text": [
      "epoch 836: avg test  loss 310.92, bar  test loss 4.154, len  test loss 0.601, col  test loss 164.100\n"
     ]
    },
    {
     "name": "stderr",
     "output_type": "stream",
     "text": [
      "Epoch 837: 272batch [01:00,  4.48batch/s, loss=272]\n"
     ]
    },
    {
     "name": "stdout",
     "output_type": "stream",
     "text": [
      "epoch 837: avg train loss 265.62, bar train loss 5.016, len train loss 0.014, col train loss 160.267\n"
     ]
    },
    {
     "name": "stderr",
     "output_type": "stream",
     "text": [
      "\r",
      "Epoch 838: 0batch [00:00, ?batch/s]"
     ]
    },
    {
     "name": "stdout",
     "output_type": "stream",
     "text": [
      "epoch 837: avg test  loss 312.52, bar  test loss 4.119, len  test loss 0.624, col  test loss 164.116\n"
     ]
    },
    {
     "name": "stderr",
     "output_type": "stream",
     "text": [
      "Epoch 838: 272batch [01:00,  4.49batch/s, loss=275]\n"
     ]
    },
    {
     "name": "stdout",
     "output_type": "stream",
     "text": [
      "epoch 838: avg train loss 265.72, bar train loss 5.023, len train loss 0.014, col train loss 160.264\n"
     ]
    },
    {
     "name": "stderr",
     "output_type": "stream",
     "text": [
      "\r",
      "Epoch 839: 0batch [00:00, ?batch/s]"
     ]
    },
    {
     "name": "stdout",
     "output_type": "stream",
     "text": [
      "epoch 838: avg test  loss 319.35, bar  test loss 4.151, len  test loss 0.687, col  test loss 164.116\n"
     ]
    },
    {
     "name": "stderr",
     "output_type": "stream",
     "text": [
      "Epoch 839: 272batch [01:00,  4.49batch/s, loss=274]\n"
     ]
    },
    {
     "name": "stdout",
     "output_type": "stream",
     "text": [
      "epoch 839: avg train loss 265.92, bar train loss 5.034, len train loss 0.014, col train loss 160.268\n"
     ]
    },
    {
     "name": "stderr",
     "output_type": "stream",
     "text": [
      "\r",
      "Epoch 840: 0batch [00:00, ?batch/s]"
     ]
    },
    {
     "name": "stdout",
     "output_type": "stream",
     "text": [
      "epoch 839: avg test  loss 314.29, bar  test loss 4.131, len  test loss 0.641, col  test loss 164.119\n"
     ]
    },
    {
     "name": "stderr",
     "output_type": "stream",
     "text": [
      "Epoch 840: 272batch [01:00,  4.46batch/s, loss=277]\n"
     ]
    },
    {
     "name": "stdout",
     "output_type": "stream",
     "text": [
      "epoch 840: avg train loss 265.82, bar train loss 5.027, len train loss 0.014, col train loss 160.263\n",
      "epoch 840: avg test  loss 312.25, bar  test loss 4.174, len  test loss 0.610, col  test loss 164.116\n"
     ]
    },
    {
     "name": "stderr",
     "output_type": "stream",
     "text": [
      "Epoch 841: 272batch [01:01,  4.45batch/s, loss=272]\n"
     ]
    },
    {
     "name": "stdout",
     "output_type": "stream",
     "text": [
      "epoch 841: avg train loss 266.04, bar train loss 5.038, len train loss 0.014, col train loss 160.266\n"
     ]
    },
    {
     "name": "stderr",
     "output_type": "stream",
     "text": [
      "\r",
      "Epoch 842: 0batch [00:00, ?batch/s]"
     ]
    },
    {
     "name": "stdout",
     "output_type": "stream",
     "text": [
      "epoch 841: avg test  loss 315.95, bar  test loss 4.125, len  test loss 0.659, col  test loss 164.135\n"
     ]
    },
    {
     "name": "stderr",
     "output_type": "stream",
     "text": [
      "Epoch 842: 272batch [01:01,  4.45batch/s, loss=273]\n"
     ]
    },
    {
     "name": "stdout",
     "output_type": "stream",
     "text": [
      "epoch 842: avg train loss 265.67, bar train loss 5.021, len train loss 0.014, col train loss 160.260\n"
     ]
    },
    {
     "name": "stderr",
     "output_type": "stream",
     "text": [
      "\r",
      "Epoch 843: 0batch [00:00, ?batch/s]"
     ]
    },
    {
     "name": "stdout",
     "output_type": "stream",
     "text": [
      "epoch 842: avg test  loss 311.83, bar  test loss 4.129, len  test loss 0.616, col  test loss 164.117\n"
     ]
    },
    {
     "name": "stderr",
     "output_type": "stream",
     "text": [
      "Epoch 843: 272batch [01:01,  4.45batch/s, loss=250]\n"
     ]
    },
    {
     "name": "stdout",
     "output_type": "stream",
     "text": [
      "epoch 843: avg train loss 265.75, bar train loss 5.025, len train loss 0.014, col train loss 160.271\n"
     ]
    },
    {
     "name": "stderr",
     "output_type": "stream",
     "text": [
      "\r",
      "Epoch 844: 0batch [00:00, ?batch/s]"
     ]
    },
    {
     "name": "stdout",
     "output_type": "stream",
     "text": [
      "epoch 843: avg test  loss 312.77, bar  test loss 4.193, len  test loss 0.614, col  test loss 164.142\n"
     ]
    },
    {
     "name": "stderr",
     "output_type": "stream",
     "text": [
      "Epoch 844: 272batch [01:01,  4.45batch/s, loss=293]\n"
     ]
    },
    {
     "name": "stdout",
     "output_type": "stream",
     "text": [
      "epoch 844: avg train loss 265.86, bar train loss 5.031, len train loss 0.014, col train loss 160.267\n"
     ]
    },
    {
     "name": "stderr",
     "output_type": "stream",
     "text": [
      "\r",
      "Epoch 845: 0batch [00:00, ?batch/s]"
     ]
    },
    {
     "name": "stdout",
     "output_type": "stream",
     "text": [
      "epoch 844: avg test  loss 310.77, bar  test loss 4.130, len  test loss 0.605, col  test loss 164.106\n"
     ]
    },
    {
     "name": "stderr",
     "output_type": "stream",
     "text": [
      "Epoch 845: 272batch [01:01,  4.45batch/s, loss=301]\n"
     ]
    },
    {
     "name": "stdout",
     "output_type": "stream",
     "text": [
      "epoch 845: avg train loss 265.86, bar train loss 5.031, len train loss 0.014, col train loss 160.248\n",
      "epoch 845: avg test  loss 314.26, bar  test loss 4.150, len  test loss 0.637, col  test loss 164.139\n"
     ]
    },
    {
     "name": "stderr",
     "output_type": "stream",
     "text": [
      "Epoch 846: 272batch [01:01,  4.43batch/s, loss=272]\n"
     ]
    },
    {
     "name": "stdout",
     "output_type": "stream",
     "text": [
      "epoch 846: avg train loss 265.81, bar train loss 5.030, len train loss 0.014, col train loss 160.250\n"
     ]
    },
    {
     "name": "stderr",
     "output_type": "stream",
     "text": [
      "\r",
      "Epoch 847: 0batch [00:00, ?batch/s]"
     ]
    },
    {
     "name": "stdout",
     "output_type": "stream",
     "text": [
      "epoch 846: avg test  loss 315.26, bar  test loss 4.163, len  test loss 0.643, col  test loss 164.136\n"
     ]
    },
    {
     "name": "stderr",
     "output_type": "stream",
     "text": [
      "Epoch 847: 272batch [01:00,  4.46batch/s, loss=265]\n"
     ]
    },
    {
     "name": "stdout",
     "output_type": "stream",
     "text": [
      "epoch 847: avg train loss 265.68, bar train loss 5.022, len train loss 0.014, col train loss 160.255\n"
     ]
    },
    {
     "name": "stderr",
     "output_type": "stream",
     "text": [
      "\r",
      "Epoch 848: 0batch [00:00, ?batch/s]"
     ]
    },
    {
     "name": "stdout",
     "output_type": "stream",
     "text": [
      "epoch 847: avg test  loss 313.94, bar  test loss 4.121, len  test loss 0.637, col  test loss 164.124\n"
     ]
    },
    {
     "name": "stderr",
     "output_type": "stream",
     "text": [
      "Epoch 848: 272batch [01:01,  4.40batch/s, loss=292]\n"
     ]
    },
    {
     "name": "stdout",
     "output_type": "stream",
     "text": [
      "epoch 848: avg train loss 266.15, bar train loss 5.044, len train loss 0.014, col train loss 160.253\n"
     ]
    },
    {
     "name": "stderr",
     "output_type": "stream",
     "text": [
      "\r",
      "Epoch 849: 0batch [00:00, ?batch/s]"
     ]
    },
    {
     "name": "stdout",
     "output_type": "stream",
     "text": [
      "epoch 848: avg test  loss 316.57, bar  test loss 4.149, len  test loss 0.658, col  test loss 164.116\n"
     ]
    },
    {
     "name": "stderr",
     "output_type": "stream",
     "text": [
      "Epoch 849: 272batch [01:01,  4.43batch/s, loss=266]\n"
     ]
    },
    {
     "name": "stdout",
     "output_type": "stream",
     "text": [
      "epoch 849: avg train loss 265.60, bar train loss 5.019, len train loss 0.014, col train loss 160.251\n"
     ]
    },
    {
     "name": "stderr",
     "output_type": "stream",
     "text": [
      "\r",
      "Epoch 850: 0batch [00:00, ?batch/s]"
     ]
    },
    {
     "name": "stdout",
     "output_type": "stream",
     "text": [
      "epoch 849: avg test  loss 309.23, bar  test loss 4.123, len  test loss 0.591, col  test loss 164.104\n"
     ]
    },
    {
     "name": "stderr",
     "output_type": "stream",
     "text": [
      "Epoch 850: 272batch [01:01,  4.44batch/s, loss=270]\n"
     ]
    },
    {
     "name": "stdout",
     "output_type": "stream",
     "text": [
      "epoch 850: avg train loss 265.77, bar train loss 5.025, len train loss 0.014, col train loss 160.260\n",
      "epoch 850: avg test  loss 310.01, bar  test loss 4.124, len  test loss 0.598, col  test loss 164.126\n"
     ]
    },
    {
     "name": "stderr",
     "output_type": "stream",
     "text": [
      "Epoch 851: 272batch [01:01,  4.39batch/s, loss=291]\n"
     ]
    },
    {
     "name": "stdout",
     "output_type": "stream",
     "text": [
      "epoch 851: avg train loss 265.52, bar train loss 5.014, len train loss 0.014, col train loss 160.245\n"
     ]
    },
    {
     "name": "stderr",
     "output_type": "stream",
     "text": [
      "\r",
      "Epoch 852: 0batch [00:00, ?batch/s]"
     ]
    },
    {
     "name": "stdout",
     "output_type": "stream",
     "text": [
      "epoch 851: avg test  loss 313.25, bar  test loss 4.149, len  test loss 0.626, col  test loss 164.111\n"
     ]
    },
    {
     "name": "stderr",
     "output_type": "stream",
     "text": [
      "Epoch 852: 272batch [01:01,  4.43batch/s, loss=272]\n"
     ]
    },
    {
     "name": "stdout",
     "output_type": "stream",
     "text": [
      "epoch 852: avg train loss 265.56, bar train loss 5.016, len train loss 0.014, col train loss 160.254\n"
     ]
    },
    {
     "name": "stderr",
     "output_type": "stream",
     "text": [
      "\r",
      "Epoch 853: 0batch [00:00, ?batch/s]"
     ]
    },
    {
     "name": "stdout",
     "output_type": "stream",
     "text": [
      "epoch 852: avg test  loss 312.80, bar  test loss 4.129, len  test loss 0.626, col  test loss 164.115\n"
     ]
    },
    {
     "name": "stderr",
     "output_type": "stream",
     "text": [
      "Epoch 853: 272batch [01:01,  4.40batch/s, loss=275]\n"
     ]
    },
    {
     "name": "stdout",
     "output_type": "stream",
     "text": [
      "epoch 853: avg train loss 265.75, bar train loss 5.027, len train loss 0.014, col train loss 160.238\n"
     ]
    },
    {
     "name": "stderr",
     "output_type": "stream",
     "text": [
      "\r",
      "Epoch 854: 0batch [00:00, ?batch/s]"
     ]
    },
    {
     "name": "stdout",
     "output_type": "stream",
     "text": [
      "epoch 853: avg test  loss 311.61, bar  test loss 4.130, len  test loss 0.612, col  test loss 164.123\n"
     ]
    },
    {
     "name": "stderr",
     "output_type": "stream",
     "text": [
      "Epoch 854: 272batch [01:01,  4.39batch/s, loss=274]\n"
     ]
    },
    {
     "name": "stdout",
     "output_type": "stream",
     "text": [
      "epoch 854: avg train loss 265.71, bar train loss 5.023, len train loss 0.014, col train loss 160.250\n"
     ]
    },
    {
     "name": "stderr",
     "output_type": "stream",
     "text": [
      "\r",
      "Epoch 855: 0batch [00:00, ?batch/s]"
     ]
    },
    {
     "name": "stdout",
     "output_type": "stream",
     "text": [
      "epoch 854: avg test  loss 314.56, bar  test loss 4.117, len  test loss 0.645, col  test loss 164.123\n"
     ]
    },
    {
     "name": "stderr",
     "output_type": "stream",
     "text": [
      "Epoch 855: 272batch [01:01,  4.40batch/s, loss=260]\n"
     ]
    },
    {
     "name": "stdout",
     "output_type": "stream",
     "text": [
      "epoch 855: avg train loss 265.71, bar train loss 5.024, len train loss 0.014, col train loss 160.247\n",
      "epoch 855: avg test  loss 314.71, bar  test loss 4.122, len  test loss 0.645, col  test loss 164.115\n"
     ]
    },
    {
     "name": "stderr",
     "output_type": "stream",
     "text": [
      "Epoch 856: 272batch [01:01,  4.40batch/s, loss=268]\n"
     ]
    },
    {
     "name": "stdout",
     "output_type": "stream",
     "text": [
      "epoch 856: avg train loss 265.91, bar train loss 5.034, len train loss 0.014, col train loss 160.257\n"
     ]
    },
    {
     "name": "stderr",
     "output_type": "stream",
     "text": [
      "\r",
      "Epoch 857: 0batch [00:00, ?batch/s]"
     ]
    },
    {
     "name": "stdout",
     "output_type": "stream",
     "text": [
      "epoch 856: avg test  loss 315.15, bar  test loss 4.147, len  test loss 0.646, col  test loss 164.133\n"
     ]
    },
    {
     "name": "stderr",
     "output_type": "stream",
     "text": [
      "Epoch 857: 272batch [01:01,  4.40batch/s, loss=244]\n"
     ]
    },
    {
     "name": "stdout",
     "output_type": "stream",
     "text": [
      "epoch 857: avg train loss 265.96, bar train loss 5.037, len train loss 0.014, col train loss 160.245\n"
     ]
    },
    {
     "name": "stderr",
     "output_type": "stream",
     "text": [
      "\r",
      "Epoch 858: 0batch [00:00, ?batch/s]"
     ]
    },
    {
     "name": "stdout",
     "output_type": "stream",
     "text": [
      "epoch 857: avg test  loss 312.51, bar  test loss 4.112, len  test loss 0.625, col  test loss 164.124\n"
     ]
    },
    {
     "name": "stderr",
     "output_type": "stream",
     "text": [
      "Epoch 858: 272batch [01:02,  4.37batch/s, loss=284]\n"
     ]
    },
    {
     "name": "stdout",
     "output_type": "stream",
     "text": [
      "epoch 858: avg train loss 265.72, bar train loss 5.026, len train loss 0.014, col train loss 160.231\n"
     ]
    },
    {
     "name": "stderr",
     "output_type": "stream",
     "text": [
      "\r",
      "Epoch 859: 0batch [00:00, ?batch/s]"
     ]
    },
    {
     "name": "stdout",
     "output_type": "stream",
     "text": [
      "epoch 858: avg test  loss 316.95, bar  test loss 4.135, len  test loss 0.664, col  test loss 164.120\n"
     ]
    },
    {
     "name": "stderr",
     "output_type": "stream",
     "text": [
      "Epoch 859: 272batch [01:01,  4.40batch/s, loss=272]\n"
     ]
    },
    {
     "name": "stdout",
     "output_type": "stream",
     "text": [
      "epoch 859: avg train loss 265.66, bar train loss 5.022, len train loss 0.014, col train loss 160.239\n"
     ]
    },
    {
     "name": "stderr",
     "output_type": "stream",
     "text": [
      "\r",
      "Epoch 860: 0batch [00:00, ?batch/s]"
     ]
    },
    {
     "name": "stdout",
     "output_type": "stream",
     "text": [
      "epoch 859: avg test  loss 311.23, bar  test loss 4.099, len  test loss 0.615, col  test loss 164.127\n"
     ]
    },
    {
     "name": "stderr",
     "output_type": "stream",
     "text": [
      "Epoch 860: 272batch [01:01,  4.41batch/s, loss=279]\n"
     ]
    },
    {
     "name": "stdout",
     "output_type": "stream",
     "text": [
      "epoch 860: avg train loss 265.82, bar train loss 5.030, len train loss 0.014, col train loss 160.238\n",
      "epoch 860: avg test  loss 314.37, bar  test loss 4.105, len  test loss 0.644, col  test loss 164.107\n"
     ]
    },
    {
     "name": "stderr",
     "output_type": "stream",
     "text": [
      "Epoch 861: 272batch [01:02,  4.35batch/s, loss=246]\n"
     ]
    },
    {
     "name": "stdout",
     "output_type": "stream",
     "text": [
      "epoch 861: avg train loss 265.91, bar train loss 5.035, len train loss 0.014, col train loss 160.235\n"
     ]
    },
    {
     "name": "stderr",
     "output_type": "stream",
     "text": [
      "\r",
      "Epoch 862: 0batch [00:00, ?batch/s]"
     ]
    },
    {
     "name": "stdout",
     "output_type": "stream",
     "text": [
      "epoch 861: avg test  loss 318.30, bar  test loss 4.186, len  test loss 0.669, col  test loss 164.106\n"
     ]
    },
    {
     "name": "stderr",
     "output_type": "stream",
     "text": [
      "Epoch 862: 272batch [01:02,  4.37batch/s, loss=261]\n"
     ]
    },
    {
     "name": "stdout",
     "output_type": "stream",
     "text": [
      "epoch 862: avg train loss 266.09, bar train loss 5.042, len train loss 0.014, col train loss 160.241\n"
     ]
    },
    {
     "name": "stderr",
     "output_type": "stream",
     "text": [
      "\r",
      "Epoch 863: 0batch [00:00, ?batch/s]"
     ]
    },
    {
     "name": "stdout",
     "output_type": "stream",
     "text": [
      "epoch 862: avg test  loss 313.00, bar  test loss 4.151, len  test loss 0.622, col  test loss 164.099\n"
     ]
    },
    {
     "name": "stderr",
     "output_type": "stream",
     "text": [
      "Epoch 863: 272batch [01:02,  4.38batch/s, loss=307]\n"
     ]
    },
    {
     "name": "stdout",
     "output_type": "stream",
     "text": [
      "epoch 863: avg train loss 265.45, bar train loss 5.012, len train loss 0.014, col train loss 160.220\n"
     ]
    },
    {
     "name": "stderr",
     "output_type": "stream",
     "text": [
      "\r",
      "Epoch 864: 0batch [00:00, ?batch/s]"
     ]
    },
    {
     "name": "stdout",
     "output_type": "stream",
     "text": [
      "epoch 863: avg test  loss 315.69, bar  test loss 4.155, len  test loss 0.647, col  test loss 164.111\n"
     ]
    },
    {
     "name": "stderr",
     "output_type": "stream",
     "text": [
      "Epoch 864: 272batch [01:02,  4.36batch/s, loss=282]\n"
     ]
    },
    {
     "name": "stdout",
     "output_type": "stream",
     "text": [
      "epoch 864: avg train loss 265.75, bar train loss 5.026, len train loss 0.014, col train loss 160.230\n"
     ]
    },
    {
     "name": "stderr",
     "output_type": "stream",
     "text": [
      "\r",
      "Epoch 865: 0batch [00:00, ?batch/s]"
     ]
    },
    {
     "name": "stdout",
     "output_type": "stream",
     "text": [
      "epoch 864: avg test  loss 312.58, bar  test loss 4.161, len  test loss 0.617, col  test loss 164.119\n"
     ]
    },
    {
     "name": "stderr",
     "output_type": "stream",
     "text": [
      "Epoch 865: 272batch [01:02,  4.38batch/s, loss=257]\n"
     ]
    },
    {
     "name": "stdout",
     "output_type": "stream",
     "text": [
      "epoch 865: avg train loss 265.57, bar train loss 5.017, len train loss 0.014, col train loss 160.245\n",
      "epoch 865: avg test  loss 317.66, bar  test loss 4.139, len  test loss 0.672, col  test loss 164.122\n"
     ]
    },
    {
     "name": "stderr",
     "output_type": "stream",
     "text": [
      "Epoch 866: 272batch [01:02,  4.37batch/s, loss=272]\n"
     ]
    },
    {
     "name": "stdout",
     "output_type": "stream",
     "text": [
      "epoch 866: avg train loss 265.68, bar train loss 5.021, len train loss 0.014, col train loss 160.229\n"
     ]
    },
    {
     "name": "stderr",
     "output_type": "stream",
     "text": [
      "\r",
      "Epoch 867: 0batch [00:00, ?batch/s]"
     ]
    },
    {
     "name": "stdout",
     "output_type": "stream",
     "text": [
      "epoch 866: avg test  loss 315.55, bar  test loss 4.177, len  test loss 0.643, col  test loss 164.129\n"
     ]
    },
    {
     "name": "stderr",
     "output_type": "stream",
     "text": [
      "Epoch 867: 272batch [01:02,  4.36batch/s, loss=241]\n"
     ]
    },
    {
     "name": "stdout",
     "output_type": "stream",
     "text": [
      "epoch 867: avg train loss 265.71, bar train loss 5.024, len train loss 0.014, col train loss 160.242\n"
     ]
    },
    {
     "name": "stderr",
     "output_type": "stream",
     "text": [
      "\r",
      "Epoch 868: 0batch [00:00, ?batch/s]"
     ]
    },
    {
     "name": "stdout",
     "output_type": "stream",
     "text": [
      "epoch 867: avg test  loss 317.34, bar  test loss 4.178, len  test loss 0.661, col  test loss 164.138\n"
     ]
    },
    {
     "name": "stderr",
     "output_type": "stream",
     "text": [
      "Epoch 868: 272batch [01:02,  4.34batch/s, loss=262]\n"
     ]
    },
    {
     "name": "stdout",
     "output_type": "stream",
     "text": [
      "epoch 868: avg train loss 265.70, bar train loss 5.024, len train loss 0.014, col train loss 160.224\n"
     ]
    },
    {
     "name": "stderr",
     "output_type": "stream",
     "text": [
      "\r",
      "Epoch 869: 0batch [00:00, ?batch/s]"
     ]
    },
    {
     "name": "stdout",
     "output_type": "stream",
     "text": [
      "epoch 868: avg test  loss 319.45, bar  test loss 4.176, len  test loss 0.681, col  test loss 164.107\n"
     ]
    },
    {
     "name": "stderr",
     "output_type": "stream",
     "text": [
      "Epoch 869: 272batch [01:02,  4.36batch/s, loss=243]\n"
     ]
    },
    {
     "name": "stdout",
     "output_type": "stream",
     "text": [
      "epoch 869: avg train loss 265.79, bar train loss 5.030, len train loss 0.014, col train loss 160.220\n"
     ]
    },
    {
     "name": "stderr",
     "output_type": "stream",
     "text": [
      "\r",
      "Epoch 870: 0batch [00:00, ?batch/s]"
     ]
    },
    {
     "name": "stdout",
     "output_type": "stream",
     "text": [
      "epoch 869: avg test  loss 317.53, bar  test loss 4.197, len  test loss 0.659, col  test loss 164.124\n"
     ]
    },
    {
     "name": "stderr",
     "output_type": "stream",
     "text": [
      "Epoch 870: 272batch [01:02,  4.34batch/s, loss=265]\n"
     ]
    },
    {
     "name": "stdout",
     "output_type": "stream",
     "text": [
      "epoch 870: avg train loss 265.79, bar train loss 5.029, len train loss 0.014, col train loss 160.238\n",
      "epoch 870: avg test  loss 310.68, bar  test loss 4.173, len  test loss 0.597, col  test loss 164.134\n"
     ]
    },
    {
     "name": "stderr",
     "output_type": "stream",
     "text": [
      "Epoch 871: 272batch [01:02,  4.36batch/s, loss=263]\n"
     ]
    },
    {
     "name": "stdout",
     "output_type": "stream",
     "text": [
      "epoch 871: avg train loss 265.73, bar train loss 5.026, len train loss 0.014, col train loss 160.231\n"
     ]
    },
    {
     "name": "stderr",
     "output_type": "stream",
     "text": [
      "\r",
      "Epoch 872: 0batch [00:00, ?batch/s]"
     ]
    },
    {
     "name": "stdout",
     "output_type": "stream",
     "text": [
      "epoch 871: avg test  loss 312.29, bar  test loss 4.066, len  test loss 0.630, col  test loss 164.101\n"
     ]
    },
    {
     "name": "stderr",
     "output_type": "stream",
     "text": [
      "Epoch 872: 272batch [01:02,  4.35batch/s, loss=258]\n"
     ]
    },
    {
     "name": "stdout",
     "output_type": "stream",
     "text": [
      "epoch 872: avg train loss 265.85, bar train loss 5.033, len train loss 0.014, col train loss 160.238\n"
     ]
    },
    {
     "name": "stderr",
     "output_type": "stream",
     "text": [
      "\r",
      "Epoch 873: 0batch [00:00, ?batch/s]"
     ]
    },
    {
     "name": "stdout",
     "output_type": "stream",
     "text": [
      "epoch 872: avg test  loss 314.11, bar  test loss 4.097, len  test loss 0.645, col  test loss 164.116\n"
     ]
    },
    {
     "name": "stderr",
     "output_type": "stream",
     "text": [
      "Epoch 873: 272batch [01:03,  4.31batch/s, loss=249]\n"
     ]
    },
    {
     "name": "stdout",
     "output_type": "stream",
     "text": [
      "epoch 873: avg train loss 265.75, bar train loss 5.028, len train loss 0.014, col train loss 160.224\n"
     ]
    },
    {
     "name": "stderr",
     "output_type": "stream",
     "text": [
      "\r",
      "Epoch 874: 0batch [00:00, ?batch/s]"
     ]
    },
    {
     "name": "stdout",
     "output_type": "stream",
     "text": [
      "epoch 873: avg test  loss 315.44, bar  test loss 4.092, len  test loss 0.658, col  test loss 164.119\n"
     ]
    },
    {
     "name": "stderr",
     "output_type": "stream",
     "text": [
      "Epoch 874: 272batch [01:02,  4.32batch/s, loss=272]\n"
     ]
    },
    {
     "name": "stdout",
     "output_type": "stream",
     "text": [
      "epoch 874: avg train loss 265.67, bar train loss 5.024, len train loss 0.014, col train loss 160.224\n"
     ]
    },
    {
     "name": "stderr",
     "output_type": "stream",
     "text": [
      "\r",
      "Epoch 875: 0batch [00:00, ?batch/s]"
     ]
    },
    {
     "name": "stdout",
     "output_type": "stream",
     "text": [
      "epoch 874: avg test  loss 312.23, bar  test loss 4.094, len  test loss 0.628, col  test loss 164.149\n"
     ]
    },
    {
     "name": "stderr",
     "output_type": "stream",
     "text": [
      "Epoch 875: 272batch [01:03,  4.31batch/s, loss=292]\n"
     ]
    },
    {
     "name": "stdout",
     "output_type": "stream",
     "text": [
      "epoch 875: avg train loss 265.31, bar train loss 5.007, len train loss 0.014, col train loss 160.227\n",
      "epoch 875: avg test  loss 313.59, bar  test loss 4.121, len  test loss 0.635, col  test loss 164.102\n"
     ]
    },
    {
     "name": "stderr",
     "output_type": "stream",
     "text": [
      "Epoch 876: 272batch [01:03,  4.29batch/s, loss=281]\n"
     ]
    },
    {
     "name": "stdout",
     "output_type": "stream",
     "text": [
      "epoch 876: avg train loss 265.85, bar train loss 5.033, len train loss 0.014, col train loss 160.225\n"
     ]
    },
    {
     "name": "stderr",
     "output_type": "stream",
     "text": [
      "\r",
      "Epoch 877: 0batch [00:00, ?batch/s]"
     ]
    },
    {
     "name": "stdout",
     "output_type": "stream",
     "text": [
      "epoch 876: avg test  loss 311.43, bar  test loss 4.131, len  test loss 0.612, col  test loss 164.106\n"
     ]
    },
    {
     "name": "stderr",
     "output_type": "stream",
     "text": [
      "Epoch 877: 272batch [01:02,  4.33batch/s, loss=250]\n"
     ]
    },
    {
     "name": "stdout",
     "output_type": "stream",
     "text": [
      "epoch 877: avg train loss 265.58, bar train loss 5.020, len train loss 0.014, col train loss 160.222\n"
     ]
    },
    {
     "name": "stderr",
     "output_type": "stream",
     "text": [
      "\r",
      "Epoch 878: 0batch [00:00, ?batch/s]"
     ]
    },
    {
     "name": "stdout",
     "output_type": "stream",
     "text": [
      "epoch 877: avg test  loss 312.23, bar  test loss 4.145, len  test loss 0.617, col  test loss 164.118\n"
     ]
    },
    {
     "name": "stderr",
     "output_type": "stream",
     "text": [
      "Epoch 878: 272batch [01:03,  4.30batch/s, loss=289]\n"
     ]
    },
    {
     "name": "stdout",
     "output_type": "stream",
     "text": [
      "epoch 878: avg train loss 265.53, bar train loss 5.016, len train loss 0.014, col train loss 160.217\n"
     ]
    },
    {
     "name": "stderr",
     "output_type": "stream",
     "text": [
      "\r",
      "Epoch 879: 0batch [00:00, ?batch/s]"
     ]
    },
    {
     "name": "stdout",
     "output_type": "stream",
     "text": [
      "epoch 878: avg test  loss 317.17, bar  test loss 4.154, len  test loss 0.664, col  test loss 164.114\n"
     ]
    },
    {
     "name": "stderr",
     "output_type": "stream",
     "text": [
      "Epoch 879: 272batch [01:03,  4.30batch/s, loss=271]\n"
     ]
    },
    {
     "name": "stdout",
     "output_type": "stream",
     "text": [
      "epoch 879: avg train loss 265.67, bar train loss 5.024, len train loss 0.014, col train loss 160.212\n"
     ]
    },
    {
     "name": "stderr",
     "output_type": "stream",
     "text": [
      "\r",
      "Epoch 880: 0batch [00:00, ?batch/s]"
     ]
    },
    {
     "name": "stdout",
     "output_type": "stream",
     "text": [
      "epoch 879: avg test  loss 312.30, bar  test loss 4.131, len  test loss 0.618, col  test loss 164.105\n"
     ]
    },
    {
     "name": "stderr",
     "output_type": "stream",
     "text": [
      "Epoch 880: 272batch [01:03,  4.29batch/s, loss=251]\n"
     ]
    },
    {
     "name": "stdout",
     "output_type": "stream",
     "text": [
      "epoch 880: avg train loss 265.68, bar train loss 5.025, len train loss 0.014, col train loss 160.220\n",
      "epoch 880: avg test  loss 313.45, bar  test loss 4.125, len  test loss 0.633, col  test loss 164.121\n"
     ]
    },
    {
     "name": "stderr",
     "output_type": "stream",
     "text": [
      "Epoch 881: 272batch [01:03,  4.27batch/s, loss=268]\n"
     ]
    },
    {
     "name": "stdout",
     "output_type": "stream",
     "text": [
      "epoch 881: avg train loss 265.55, bar train loss 5.019, len train loss 0.014, col train loss 160.222\n"
     ]
    },
    {
     "name": "stderr",
     "output_type": "stream",
     "text": [
      "\r",
      "Epoch 882: 0batch [00:00, ?batch/s]"
     ]
    },
    {
     "name": "stdout",
     "output_type": "stream",
     "text": [
      "epoch 881: avg test  loss 314.64, bar  test loss 4.131, len  test loss 0.642, col  test loss 164.117\n"
     ]
    },
    {
     "name": "stderr",
     "output_type": "stream",
     "text": [
      "Epoch 882: 272batch [01:03,  4.29batch/s, loss=288]\n"
     ]
    },
    {
     "name": "stdout",
     "output_type": "stream",
     "text": [
      "epoch 882: avg train loss 265.77, bar train loss 5.029, len train loss 0.014, col train loss 160.223\n"
     ]
    },
    {
     "name": "stderr",
     "output_type": "stream",
     "text": [
      "\r",
      "Epoch 883: 0batch [00:00, ?batch/s]"
     ]
    },
    {
     "name": "stdout",
     "output_type": "stream",
     "text": [
      "epoch 882: avg test  loss 312.04, bar  test loss 4.113, len  test loss 0.620, col  test loss 164.111\n"
     ]
    },
    {
     "name": "stderr",
     "output_type": "stream",
     "text": [
      "Epoch 883: 272batch [01:03,  4.30batch/s, loss=278]\n"
     ]
    },
    {
     "name": "stdout",
     "output_type": "stream",
     "text": [
      "epoch 883: avg train loss 265.86, bar train loss 5.031, len train loss 0.014, col train loss 160.229\n"
     ]
    },
    {
     "name": "stderr",
     "output_type": "stream",
     "text": [
      "\r",
      "Epoch 884: 0batch [00:00, ?batch/s]"
     ]
    },
    {
     "name": "stdout",
     "output_type": "stream",
     "text": [
      "epoch 883: avg test  loss 313.40, bar  test loss 4.129, len  test loss 0.629, col  test loss 164.115\n"
     ]
    },
    {
     "name": "stderr",
     "output_type": "stream",
     "text": [
      "Epoch 884: 272batch [01:03,  4.29batch/s, loss=266]\n"
     ]
    },
    {
     "name": "stdout",
     "output_type": "stream",
     "text": [
      "epoch 884: avg train loss 265.72, bar train loss 5.027, len train loss 0.014, col train loss 160.224\n"
     ]
    },
    {
     "name": "stderr",
     "output_type": "stream",
     "text": [
      "\r",
      "Epoch 885: 0batch [00:00, ?batch/s]"
     ]
    },
    {
     "name": "stdout",
     "output_type": "stream",
     "text": [
      "epoch 884: avg test  loss 314.24, bar  test loss 4.087, len  test loss 0.649, col  test loss 164.118\n"
     ]
    },
    {
     "name": "stderr",
     "output_type": "stream",
     "text": [
      "Epoch 885: 272batch [01:03,  4.26batch/s, loss=269]\n"
     ]
    },
    {
     "name": "stdout",
     "output_type": "stream",
     "text": [
      "epoch 885: avg train loss 265.49, bar train loss 5.012, len train loss 0.014, col train loss 160.223\n",
      "epoch 885: avg test  loss 309.32, bar  test loss 4.137, len  test loss 0.589, col  test loss 164.127\n"
     ]
    },
    {
     "name": "stderr",
     "output_type": "stream",
     "text": [
      "Epoch 886: 272batch [01:04,  4.24batch/s, loss=259]\n"
     ]
    },
    {
     "name": "stdout",
     "output_type": "stream",
     "text": [
      "epoch 886: avg train loss 265.51, bar train loss 5.014, len train loss 0.014, col train loss 160.236\n"
     ]
    },
    {
     "name": "stderr",
     "output_type": "stream",
     "text": [
      "\r",
      "Epoch 887: 0batch [00:00, ?batch/s]"
     ]
    },
    {
     "name": "stdout",
     "output_type": "stream",
     "text": [
      "epoch 886: avg test  loss 316.36, bar  test loss 4.129, len  test loss 0.662, col  test loss 164.104\n"
     ]
    },
    {
     "name": "stderr",
     "output_type": "stream",
     "text": [
      "Epoch 887: 272batch [01:04,  4.24batch/s, loss=274]\n"
     ]
    },
    {
     "name": "stdout",
     "output_type": "stream",
     "text": [
      "epoch 887: avg train loss 265.45, bar train loss 5.014, len train loss 0.014, col train loss 160.213\n"
     ]
    },
    {
     "name": "stderr",
     "output_type": "stream",
     "text": [
      "\r",
      "Epoch 888: 0batch [00:00, ?batch/s]"
     ]
    },
    {
     "name": "stdout",
     "output_type": "stream",
     "text": [
      "epoch 887: avg test  loss 316.69, bar  test loss 4.143, len  test loss 0.663, col  test loss 164.140\n"
     ]
    },
    {
     "name": "stderr",
     "output_type": "stream",
     "text": [
      "Epoch 888: 272batch [01:04,  4.24batch/s, loss=270]\n"
     ]
    },
    {
     "name": "stdout",
     "output_type": "stream",
     "text": [
      "epoch 888: avg train loss 265.79, bar train loss 5.028, len train loss 0.014, col train loss 160.219\n"
     ]
    },
    {
     "name": "stderr",
     "output_type": "stream",
     "text": [
      "\r",
      "Epoch 889: 0batch [00:00, ?batch/s]"
     ]
    },
    {
     "name": "stdout",
     "output_type": "stream",
     "text": [
      "epoch 888: avg test  loss 315.67, bar  test loss 4.102, len  test loss 0.660, col  test loss 164.114\n"
     ]
    },
    {
     "name": "stderr",
     "output_type": "stream",
     "text": [
      "Epoch 889: 272batch [01:04,  4.24batch/s, loss=259]\n"
     ]
    },
    {
     "name": "stdout",
     "output_type": "stream",
     "text": [
      "epoch 889: avg train loss 265.64, bar train loss 5.023, len train loss 0.014, col train loss 160.211\n"
     ]
    },
    {
     "name": "stderr",
     "output_type": "stream",
     "text": [
      "\r",
      "Epoch 890: 0batch [00:00, ?batch/s]"
     ]
    },
    {
     "name": "stdout",
     "output_type": "stream",
     "text": [
      "epoch 889: avg test  loss 313.31, bar  test loss 4.156, len  test loss 0.624, col  test loss 164.108\n"
     ]
    },
    {
     "name": "stderr",
     "output_type": "stream",
     "text": [
      "Epoch 890: 272batch [01:04,  4.24batch/s, loss=266]\n"
     ]
    },
    {
     "name": "stdout",
     "output_type": "stream",
     "text": [
      "epoch 890: avg train loss 265.43, bar train loss 5.014, len train loss 0.014, col train loss 160.215\n",
      "epoch 890: avg test  loss 315.02, bar  test loss 4.128, len  test loss 0.645, col  test loss 164.130\n"
     ]
    },
    {
     "name": "stderr",
     "output_type": "stream",
     "text": [
      "Epoch 891: 272batch [01:03,  4.28batch/s, loss=280]\n"
     ]
    },
    {
     "name": "stdout",
     "output_type": "stream",
     "text": [
      "epoch 891: avg train loss 265.79, bar train loss 5.031, len train loss 0.014, col train loss 160.205\n"
     ]
    },
    {
     "name": "stderr",
     "output_type": "stream",
     "text": [
      "\r",
      "Epoch 892: 0batch [00:00, ?batch/s]"
     ]
    },
    {
     "name": "stdout",
     "output_type": "stream",
     "text": [
      "epoch 891: avg test  loss 313.78, bar  test loss 4.144, len  test loss 0.632, col  test loss 164.114\n"
     ]
    },
    {
     "name": "stderr",
     "output_type": "stream",
     "text": [
      "Epoch 892: 272batch [01:03,  4.26batch/s, loss=259]\n"
     ]
    },
    {
     "name": "stdout",
     "output_type": "stream",
     "text": [
      "epoch 892: avg train loss 265.52, bar train loss 5.018, len train loss 0.014, col train loss 160.211\n"
     ]
    },
    {
     "name": "stderr",
     "output_type": "stream",
     "text": [
      "\r",
      "Epoch 893: 0batch [00:00, ?batch/s]"
     ]
    },
    {
     "name": "stdout",
     "output_type": "stream",
     "text": [
      "epoch 892: avg test  loss 316.02, bar  test loss 4.111, len  test loss 0.661, col  test loss 164.134\n"
     ]
    },
    {
     "name": "stderr",
     "output_type": "stream",
     "text": [
      "Epoch 893: 272batch [01:04,  4.23batch/s, loss=273]\n"
     ]
    },
    {
     "name": "stdout",
     "output_type": "stream",
     "text": [
      "epoch 893: avg train loss 265.54, bar train loss 5.018, len train loss 0.014, col train loss 160.208\n"
     ]
    },
    {
     "name": "stderr",
     "output_type": "stream",
     "text": [
      "\r",
      "Epoch 894: 0batch [00:00, ?batch/s]"
     ]
    },
    {
     "name": "stdout",
     "output_type": "stream",
     "text": [
      "epoch 893: avg test  loss 312.17, bar  test loss 4.086, len  test loss 0.626, col  test loss 164.112\n"
     ]
    },
    {
     "name": "stderr",
     "output_type": "stream",
     "text": [
      "Epoch 894: 272batch [01:03,  4.26batch/s, loss=279]\n"
     ]
    },
    {
     "name": "stdout",
     "output_type": "stream",
     "text": [
      "epoch 894: avg train loss 265.58, bar train loss 5.022, len train loss 0.014, col train loss 160.214\n"
     ]
    },
    {
     "name": "stderr",
     "output_type": "stream",
     "text": [
      "\r",
      "Epoch 895: 0batch [00:00, ?batch/s]"
     ]
    },
    {
     "name": "stdout",
     "output_type": "stream",
     "text": [
      "epoch 894: avg test  loss 314.39, bar  test loss 4.085, len  test loss 0.650, col  test loss 164.118\n"
     ]
    },
    {
     "name": "stderr",
     "output_type": "stream",
     "text": [
      "Epoch 895: 272batch [01:04,  4.22batch/s, loss=258]\n"
     ]
    },
    {
     "name": "stdout",
     "output_type": "stream",
     "text": [
      "epoch 895: avg train loss 265.70, bar train loss 5.027, len train loss 0.014, col train loss 160.208\n",
      "epoch 895: avg test  loss 315.48, bar  test loss 4.162, len  test loss 0.645, col  test loss 164.109\n"
     ]
    },
    {
     "name": "stderr",
     "output_type": "stream",
     "text": [
      "Epoch 896: 272batch [01:04,  4.20batch/s, loss=271]\n"
     ]
    },
    {
     "name": "stdout",
     "output_type": "stream",
     "text": [
      "epoch 896: avg train loss 265.66, bar train loss 5.024, len train loss 0.014, col train loss 160.209\n"
     ]
    },
    {
     "name": "stderr",
     "output_type": "stream",
     "text": [
      "\r",
      "Epoch 897: 0batch [00:00, ?batch/s]"
     ]
    },
    {
     "name": "stdout",
     "output_type": "stream",
     "text": [
      "epoch 896: avg test  loss 316.08, bar  test loss 4.136, len  test loss 0.655, col  test loss 164.112\n"
     ]
    },
    {
     "name": "stderr",
     "output_type": "stream",
     "text": [
      "Epoch 897: 272batch [01:03,  4.25batch/s, loss=257]\n"
     ]
    },
    {
     "name": "stdout",
     "output_type": "stream",
     "text": [
      "epoch 897: avg train loss 265.78, bar train loss 5.028, len train loss 0.014, col train loss 160.202\n"
     ]
    },
    {
     "name": "stderr",
     "output_type": "stream",
     "text": [
      "\r",
      "Epoch 898: 0batch [00:00, ?batch/s]"
     ]
    },
    {
     "name": "stdout",
     "output_type": "stream",
     "text": [
      "epoch 897: avg test  loss 314.76, bar  test loss 4.177, len  test loss 0.635, col  test loss 164.118\n"
     ]
    },
    {
     "name": "stderr",
     "output_type": "stream",
     "text": [
      "Epoch 898: 272batch [01:03,  4.26batch/s, loss=256]\n"
     ]
    },
    {
     "name": "stdout",
     "output_type": "stream",
     "text": [
      "epoch 898: avg train loss 265.78, bar train loss 5.031, len train loss 0.014, col train loss 160.209\n"
     ]
    },
    {
     "name": "stderr",
     "output_type": "stream",
     "text": [
      "\r",
      "Epoch 899: 0batch [00:00, ?batch/s]"
     ]
    },
    {
     "name": "stdout",
     "output_type": "stream",
     "text": [
      "epoch 898: avg test  loss 308.52, bar  test loss 4.143, len  test loss 0.581, col  test loss 164.116\n"
     ]
    },
    {
     "name": "stderr",
     "output_type": "stream",
     "text": [
      "Epoch 899: 272batch [01:04,  4.22batch/s, loss=270]\n"
     ]
    },
    {
     "name": "stdout",
     "output_type": "stream",
     "text": [
      "epoch 899: avg train loss 265.84, bar train loss 5.032, len train loss 0.014, col train loss 160.212\n"
     ]
    },
    {
     "name": "stderr",
     "output_type": "stream",
     "text": [
      "\r",
      "Epoch 900: 0batch [00:00, ?batch/s]"
     ]
    },
    {
     "name": "stdout",
     "output_type": "stream",
     "text": [
      "epoch 899: avg test  loss 309.76, bar  test loss 4.159, len  test loss 0.588, col  test loss 164.101\n"
     ]
    },
    {
     "name": "stderr",
     "output_type": "stream",
     "text": [
      "Epoch 900: 272batch [01:04,  4.22batch/s, loss=274]\n"
     ]
    },
    {
     "name": "stdout",
     "output_type": "stream",
     "text": [
      "epoch 900: avg train loss 265.82, bar train loss 5.031, len train loss 0.014, col train loss 160.214\n",
      "epoch 900: avg test  loss 310.25, bar  test loss 4.093, len  test loss 0.606, col  test loss 164.109\n"
     ]
    },
    {
     "name": "stderr",
     "output_type": "stream",
     "text": [
      "Epoch 901: 272batch [01:04,  4.22batch/s, loss=274]\n"
     ]
    },
    {
     "name": "stdout",
     "output_type": "stream",
     "text": [
      "epoch 901: avg train loss 265.86, bar train loss 5.033, len train loss 0.014, col train loss 160.210\n"
     ]
    },
    {
     "name": "stderr",
     "output_type": "stream",
     "text": [
      "\r",
      "Epoch 902: 0batch [00:00, ?batch/s]"
     ]
    },
    {
     "name": "stdout",
     "output_type": "stream",
     "text": [
      "epoch 901: avg test  loss 312.35, bar  test loss 4.126, len  test loss 0.621, col  test loss 164.121\n"
     ]
    },
    {
     "name": "stderr",
     "output_type": "stream",
     "text": [
      "Epoch 902: 272batch [01:04,  4.23batch/s, loss=266]\n"
     ]
    },
    {
     "name": "stdout",
     "output_type": "stream",
     "text": [
      "epoch 902: avg train loss 265.65, bar train loss 5.026, len train loss 0.014, col train loss 160.201\n"
     ]
    },
    {
     "name": "stderr",
     "output_type": "stream",
     "text": [
      "\r",
      "Epoch 903: 0batch [00:00, ?batch/s]"
     ]
    },
    {
     "name": "stdout",
     "output_type": "stream",
     "text": [
      "epoch 902: avg test  loss 310.49, bar  test loss 4.100, len  test loss 0.608, col  test loss 164.116\n"
     ]
    },
    {
     "name": "stderr",
     "output_type": "stream",
     "text": [
      "Epoch 903: 272batch [01:04,  4.20batch/s, loss=278]\n"
     ]
    },
    {
     "name": "stdout",
     "output_type": "stream",
     "text": [
      "epoch 903: avg train loss 265.62, bar train loss 5.023, len train loss 0.014, col train loss 160.195\n"
     ]
    },
    {
     "name": "stderr",
     "output_type": "stream",
     "text": [
      "\r",
      "Epoch 904: 0batch [00:00, ?batch/s]"
     ]
    },
    {
     "name": "stdout",
     "output_type": "stream",
     "text": [
      "epoch 903: avg test  loss 314.39, bar  test loss 4.148, len  test loss 0.636, col  test loss 164.101\n"
     ]
    },
    {
     "name": "stderr",
     "output_type": "stream",
     "text": [
      "Epoch 904: 272batch [01:04,  4.20batch/s, loss=277]\n"
     ]
    },
    {
     "name": "stdout",
     "output_type": "stream",
     "text": [
      "epoch 904: avg train loss 265.72, bar train loss 5.028, len train loss 0.014, col train loss 160.207\n"
     ]
    },
    {
     "name": "stderr",
     "output_type": "stream",
     "text": [
      "\r",
      "Epoch 905: 0batch [00:00, ?batch/s]"
     ]
    },
    {
     "name": "stdout",
     "output_type": "stream",
     "text": [
      "epoch 904: avg test  loss 312.65, bar  test loss 4.095, len  test loss 0.629, col  test loss 164.111\n"
     ]
    },
    {
     "name": "stderr",
     "output_type": "stream",
     "text": [
      "Epoch 905: 272batch [01:04,  4.20batch/s, loss=271]\n"
     ]
    },
    {
     "name": "stdout",
     "output_type": "stream",
     "text": [
      "epoch 905: avg train loss 265.74, bar train loss 5.030, len train loss 0.014, col train loss 160.210\n",
      "epoch 905: avg test  loss 314.69, bar  test loss 4.131, len  test loss 0.643, col  test loss 164.109\n"
     ]
    },
    {
     "name": "stderr",
     "output_type": "stream",
     "text": [
      "Epoch 906: 272batch [01:04,  4.20batch/s, loss=259]\n"
     ]
    },
    {
     "name": "stdout",
     "output_type": "stream",
     "text": [
      "epoch 906: avg train loss 265.64, bar train loss 5.025, len train loss 0.014, col train loss 160.209\n"
     ]
    },
    {
     "name": "stderr",
     "output_type": "stream",
     "text": [
      "\r",
      "Epoch 907: 0batch [00:00, ?batch/s]"
     ]
    },
    {
     "name": "stdout",
     "output_type": "stream",
     "text": [
      "epoch 906: avg test  loss 312.81, bar  test loss 4.148, len  test loss 0.624, col  test loss 164.132\n"
     ]
    },
    {
     "name": "stderr",
     "output_type": "stream",
     "text": [
      "Epoch 907: 272batch [01:04,  4.22batch/s, loss=267]\n"
     ]
    },
    {
     "name": "stdout",
     "output_type": "stream",
     "text": [
      "epoch 907: avg train loss 265.72, bar train loss 5.029, len train loss 0.014, col train loss 160.190\n"
     ]
    },
    {
     "name": "stderr",
     "output_type": "stream",
     "text": [
      "\r",
      "Epoch 908: 0batch [00:00, ?batch/s]"
     ]
    },
    {
     "name": "stdout",
     "output_type": "stream",
     "text": [
      "epoch 907: avg test  loss 316.91, bar  test loss 4.138, len  test loss 0.666, col  test loss 164.118\n"
     ]
    },
    {
     "name": "stderr",
     "output_type": "stream",
     "text": [
      "Epoch 908: 272batch [01:04,  4.20batch/s, loss=267]\n"
     ]
    },
    {
     "name": "stdout",
     "output_type": "stream",
     "text": [
      "epoch 908: avg train loss 265.68, bar train loss 5.024, len train loss 0.014, col train loss 160.212\n"
     ]
    },
    {
     "name": "stderr",
     "output_type": "stream",
     "text": [
      "\r",
      "Epoch 909: 0batch [00:00, ?batch/s]"
     ]
    },
    {
     "name": "stdout",
     "output_type": "stream",
     "text": [
      "epoch 908: avg test  loss 313.03, bar  test loss 4.146, len  test loss 0.624, col  test loss 164.118\n"
     ]
    },
    {
     "name": "stderr",
     "output_type": "stream",
     "text": [
      "Epoch 909: 272batch [01:04,  4.20batch/s, loss=262]\n"
     ]
    },
    {
     "name": "stdout",
     "output_type": "stream",
     "text": [
      "epoch 909: avg train loss 265.34, bar train loss 5.010, len train loss 0.014, col train loss 160.198\n"
     ]
    },
    {
     "name": "stderr",
     "output_type": "stream",
     "text": [
      "\r",
      "Epoch 910: 0batch [00:00, ?batch/s]"
     ]
    },
    {
     "name": "stdout",
     "output_type": "stream",
     "text": [
      "epoch 909: avg test  loss 309.53, bar  test loss 4.147, len  test loss 0.590, col  test loss 164.119\n"
     ]
    },
    {
     "name": "stderr",
     "output_type": "stream",
     "text": [
      "Epoch 910: 272batch [01:05,  4.17batch/s, loss=265]\n"
     ]
    },
    {
     "name": "stdout",
     "output_type": "stream",
     "text": [
      "epoch 910: avg train loss 265.54, bar train loss 5.017, len train loss 0.014, col train loss 160.197\n",
      "epoch 910: avg test  loss 314.26, bar  test loss 4.152, len  test loss 0.636, col  test loss 164.123\n"
     ]
    },
    {
     "name": "stderr",
     "output_type": "stream",
     "text": [
      "Epoch 911: 272batch [01:04,  4.21batch/s, loss=272]\n"
     ]
    },
    {
     "name": "stdout",
     "output_type": "stream",
     "text": [
      "epoch 911: avg train loss 265.48, bar train loss 5.017, len train loss 0.014, col train loss 160.194\n"
     ]
    },
    {
     "name": "stderr",
     "output_type": "stream",
     "text": [
      "\r",
      "Epoch 912: 0batch [00:00, ?batch/s]"
     ]
    },
    {
     "name": "stdout",
     "output_type": "stream",
     "text": [
      "epoch 911: avg test  loss 313.34, bar  test loss 4.120, len  test loss 0.633, col  test loss 164.115\n"
     ]
    },
    {
     "name": "stderr",
     "output_type": "stream",
     "text": [
      "Epoch 912: 272batch [01:04,  4.19batch/s, loss=251]\n"
     ]
    },
    {
     "name": "stdout",
     "output_type": "stream",
     "text": [
      "epoch 912: avg train loss 265.80, bar train loss 5.033, len train loss 0.014, col train loss 160.184\n"
     ]
    },
    {
     "name": "stderr",
     "output_type": "stream",
     "text": [
      "\r",
      "Epoch 913: 0batch [00:00, ?batch/s]"
     ]
    },
    {
     "name": "stdout",
     "output_type": "stream",
     "text": [
      "epoch 912: avg test  loss 313.71, bar  test loss 4.152, len  test loss 0.631, col  test loss 164.116\n"
     ]
    },
    {
     "name": "stderr",
     "output_type": "stream",
     "text": [
      "Epoch 913: 272batch [01:04,  4.19batch/s, loss=267]\n"
     ]
    },
    {
     "name": "stdout",
     "output_type": "stream",
     "text": [
      "epoch 913: avg train loss 265.57, bar train loss 5.021, len train loss 0.014, col train loss 160.211\n"
     ]
    },
    {
     "name": "stderr",
     "output_type": "stream",
     "text": [
      "\r",
      "Epoch 914: 0batch [00:00, ?batch/s]"
     ]
    },
    {
     "name": "stdout",
     "output_type": "stream",
     "text": [
      "epoch 913: avg test  loss 309.88, bar  test loss 4.102, len  test loss 0.602, col  test loss 164.111\n"
     ]
    },
    {
     "name": "stderr",
     "output_type": "stream",
     "text": [
      "Epoch 914: 272batch [01:05,  4.18batch/s, loss=277]\n"
     ]
    },
    {
     "name": "stdout",
     "output_type": "stream",
     "text": [
      "epoch 914: avg train loss 265.52, bar train loss 5.018, len train loss 0.014, col train loss 160.200\n"
     ]
    },
    {
     "name": "stderr",
     "output_type": "stream",
     "text": [
      "\r",
      "Epoch 915: 0batch [00:00, ?batch/s]"
     ]
    },
    {
     "name": "stdout",
     "output_type": "stream",
     "text": [
      "epoch 914: avg test  loss 313.82, bar  test loss 4.138, len  test loss 0.633, col  test loss 164.120\n"
     ]
    },
    {
     "name": "stderr",
     "output_type": "stream",
     "text": [
      "Epoch 915: 272batch [01:04,  4.19batch/s, loss=274]\n"
     ]
    },
    {
     "name": "stdout",
     "output_type": "stream",
     "text": [
      "epoch 915: avg train loss 265.33, bar train loss 5.010, len train loss 0.014, col train loss 160.171\n",
      "epoch 915: avg test  loss 317.91, bar  test loss 4.099, len  test loss 0.681, col  test loss 164.096\n"
     ]
    },
    {
     "name": "stderr",
     "output_type": "stream",
     "text": [
      "Epoch 916: 272batch [01:04,  4.19batch/s, loss=275]\n"
     ]
    },
    {
     "name": "stdout",
     "output_type": "stream",
     "text": [
      "epoch 916: avg train loss 265.62, bar train loss 5.024, len train loss 0.014, col train loss 160.184\n"
     ]
    },
    {
     "name": "stderr",
     "output_type": "stream",
     "text": [
      "\r",
      "Epoch 917: 0batch [00:00, ?batch/s]"
     ]
    },
    {
     "name": "stdout",
     "output_type": "stream",
     "text": [
      "epoch 916: avg test  loss 316.90, bar  test loss 4.166, len  test loss 0.657, col  test loss 164.116\n"
     ]
    },
    {
     "name": "stderr",
     "output_type": "stream",
     "text": [
      "Epoch 917: 272batch [01:04,  4.19batch/s, loss=252]\n"
     ]
    },
    {
     "name": "stdout",
     "output_type": "stream",
     "text": [
      "epoch 917: avg train loss 265.82, bar train loss 5.034, len train loss 0.014, col train loss 160.195\n"
     ]
    },
    {
     "name": "stderr",
     "output_type": "stream",
     "text": [
      "\r",
      "Epoch 918: 0batch [00:00, ?batch/s]"
     ]
    },
    {
     "name": "stdout",
     "output_type": "stream",
     "text": [
      "epoch 917: avg test  loss 313.49, bar  test loss 4.115, len  test loss 0.635, col  test loss 164.113\n"
     ]
    },
    {
     "name": "stderr",
     "output_type": "stream",
     "text": [
      "Epoch 918: 272batch [01:05,  4.16batch/s, loss=248]\n"
     ]
    },
    {
     "name": "stdout",
     "output_type": "stream",
     "text": [
      "epoch 918: avg train loss 265.93, bar train loss 5.038, len train loss 0.014, col train loss 160.191\n"
     ]
    },
    {
     "name": "stderr",
     "output_type": "stream",
     "text": [
      "\r",
      "Epoch 919: 0batch [00:00, ?batch/s]"
     ]
    },
    {
     "name": "stdout",
     "output_type": "stream",
     "text": [
      "epoch 918: avg test  loss 319.65, bar  test loss 4.178, len  test loss 0.684, col  test loss 164.119\n"
     ]
    },
    {
     "name": "stderr",
     "output_type": "stream",
     "text": [
      "Epoch 919: 272batch [01:05,  4.18batch/s, loss=270]\n"
     ]
    },
    {
     "name": "stdout",
     "output_type": "stream",
     "text": [
      "epoch 919: avg train loss 265.97, bar train loss 5.040, len train loss 0.014, col train loss 160.199\n"
     ]
    },
    {
     "name": "stderr",
     "output_type": "stream",
     "text": [
      "\r",
      "Epoch 920: 0batch [00:00, ?batch/s]"
     ]
    },
    {
     "name": "stdout",
     "output_type": "stream",
     "text": [
      "epoch 919: avg test  loss 316.19, bar  test loss 4.111, len  test loss 0.662, col  test loss 164.105\n"
     ]
    },
    {
     "name": "stderr",
     "output_type": "stream",
     "text": [
      "Epoch 920: 272batch [01:05,  4.18batch/s, loss=267]\n"
     ]
    },
    {
     "name": "stdout",
     "output_type": "stream",
     "text": [
      "epoch 920: avg train loss 265.39, bar train loss 5.012, len train loss 0.014, col train loss 160.188\n",
      "epoch 920: avg test  loss 316.15, bar  test loss 4.151, len  test loss 0.653, col  test loss 164.118\n"
     ]
    },
    {
     "name": "stderr",
     "output_type": "stream",
     "text": [
      "Epoch 921: 272batch [01:05,  4.15batch/s, loss=277]\n"
     ]
    },
    {
     "name": "stdout",
     "output_type": "stream",
     "text": [
      "epoch 921: avg train loss 265.64, bar train loss 5.025, len train loss 0.014, col train loss 160.197\n"
     ]
    },
    {
     "name": "stderr",
     "output_type": "stream",
     "text": [
      "\r",
      "Epoch 922: 0batch [00:00, ?batch/s]"
     ]
    },
    {
     "name": "stdout",
     "output_type": "stream",
     "text": [
      "epoch 921: avg test  loss 316.66, bar  test loss 4.159, len  test loss 0.656, col  test loss 164.115\n"
     ]
    },
    {
     "name": "stderr",
     "output_type": "stream",
     "text": [
      "Epoch 922: 272batch [01:05,  4.16batch/s, loss=269]\n"
     ]
    },
    {
     "name": "stdout",
     "output_type": "stream",
     "text": [
      "epoch 922: avg train loss 265.67, bar train loss 5.026, len train loss 0.014, col train loss 160.183\n"
     ]
    },
    {
     "name": "stderr",
     "output_type": "stream",
     "text": [
      "\r",
      "Epoch 923: 0batch [00:00, ?batch/s]"
     ]
    },
    {
     "name": "stdout",
     "output_type": "stream",
     "text": [
      "epoch 922: avg test  loss 314.48, bar  test loss 4.113, len  test loss 0.646, col  test loss 164.121\n"
     ]
    },
    {
     "name": "stderr",
     "output_type": "stream",
     "text": [
      "Epoch 923: 272batch [01:05,  4.17batch/s, loss=257]\n"
     ]
    },
    {
     "name": "stdout",
     "output_type": "stream",
     "text": [
      "epoch 923: avg train loss 265.45, bar train loss 5.017, len train loss 0.014, col train loss 160.190\n"
     ]
    },
    {
     "name": "stderr",
     "output_type": "stream",
     "text": [
      "\r",
      "Epoch 924: 0batch [00:00, ?batch/s]"
     ]
    },
    {
     "name": "stdout",
     "output_type": "stream",
     "text": [
      "epoch 923: avg test  loss 319.59, bar  test loss 4.140, len  test loss 0.692, col  test loss 164.131\n"
     ]
    },
    {
     "name": "stderr",
     "output_type": "stream",
     "text": [
      "Epoch 924: 272batch [01:05,  4.15batch/s, loss=273]\n"
     ]
    },
    {
     "name": "stdout",
     "output_type": "stream",
     "text": [
      "epoch 924: avg train loss 265.53, bar train loss 5.020, len train loss 0.014, col train loss 160.187\n"
     ]
    },
    {
     "name": "stderr",
     "output_type": "stream",
     "text": [
      "\r",
      "Epoch 925: 0batch [00:00, ?batch/s]"
     ]
    },
    {
     "name": "stdout",
     "output_type": "stream",
     "text": [
      "epoch 924: avg test  loss 314.62, bar  test loss 4.164, len  test loss 0.637, col  test loss 164.115\n"
     ]
    },
    {
     "name": "stderr",
     "output_type": "stream",
     "text": [
      "Epoch 925: 272batch [01:05,  4.15batch/s, loss=257]\n"
     ]
    },
    {
     "name": "stdout",
     "output_type": "stream",
     "text": [
      "epoch 925: avg train loss 265.77, bar train loss 5.030, len train loss 0.014, col train loss 160.186\n",
      "epoch 925: avg test  loss 316.41, bar  test loss 4.120, len  test loss 0.663, col  test loss 164.115\n"
     ]
    },
    {
     "name": "stderr",
     "output_type": "stream",
     "text": [
      "Epoch 926: 272batch [01:05,  4.17batch/s, loss=274]\n"
     ]
    },
    {
     "name": "stdout",
     "output_type": "stream",
     "text": [
      "epoch 926: avg train loss 265.35, bar train loss 5.008, len train loss 0.014, col train loss 160.188\n"
     ]
    },
    {
     "name": "stderr",
     "output_type": "stream",
     "text": [
      "\r",
      "Epoch 927: 0batch [00:00, ?batch/s]"
     ]
    },
    {
     "name": "stdout",
     "output_type": "stream",
     "text": [
      "epoch 926: avg test  loss 314.34, bar  test loss 4.121, len  test loss 0.643, col  test loss 164.139\n"
     ]
    },
    {
     "name": "stderr",
     "output_type": "stream",
     "text": [
      "Epoch 927: 272batch [01:05,  4.15batch/s, loss=264]\n"
     ]
    },
    {
     "name": "stdout",
     "output_type": "stream",
     "text": [
      "epoch 927: avg train loss 265.45, bar train loss 5.017, len train loss 0.014, col train loss 160.187\n"
     ]
    },
    {
     "name": "stderr",
     "output_type": "stream",
     "text": [
      "\r",
      "Epoch 928: 0batch [00:00, ?batch/s]"
     ]
    },
    {
     "name": "stdout",
     "output_type": "stream",
     "text": [
      "epoch 927: avg test  loss 314.77, bar  test loss 4.150, len  test loss 0.640, col  test loss 164.111\n"
     ]
    },
    {
     "name": "stderr",
     "output_type": "stream",
     "text": [
      "Epoch 928: 272batch [01:05,  4.16batch/s, loss=257]\n"
     ]
    },
    {
     "name": "stdout",
     "output_type": "stream",
     "text": [
      "epoch 928: avg train loss 265.40, bar train loss 5.014, len train loss 0.014, col train loss 160.181\n"
     ]
    },
    {
     "name": "stderr",
     "output_type": "stream",
     "text": [
      "\r",
      "Epoch 929: 0batch [00:00, ?batch/s]"
     ]
    },
    {
     "name": "stdout",
     "output_type": "stream",
     "text": [
      "epoch 928: avg test  loss 315.07, bar  test loss 4.157, len  test loss 0.644, col  test loss 164.121\n"
     ]
    },
    {
     "name": "stderr",
     "output_type": "stream",
     "text": [
      "Epoch 929: 272batch [01:05,  4.15batch/s, loss=265]\n"
     ]
    },
    {
     "name": "stdout",
     "output_type": "stream",
     "text": [
      "epoch 929: avg train loss 265.54, bar train loss 5.021, len train loss 0.014, col train loss 160.186\n"
     ]
    },
    {
     "name": "stderr",
     "output_type": "stream",
     "text": [
      "\r",
      "Epoch 930: 0batch [00:00, ?batch/s]"
     ]
    },
    {
     "name": "stdout",
     "output_type": "stream",
     "text": [
      "epoch 929: avg test  loss 312.54, bar  test loss 4.115, len  test loss 0.627, col  test loss 164.130\n"
     ]
    },
    {
     "name": "stderr",
     "output_type": "stream",
     "text": [
      "Epoch 930: 272batch [01:05,  4.16batch/s, loss=265]\n"
     ]
    },
    {
     "name": "stdout",
     "output_type": "stream",
     "text": [
      "epoch 930: avg train loss 265.43, bar train loss 5.014, len train loss 0.014, col train loss 160.185\n",
      "epoch 930: avg test  loss 315.76, bar  test loss 4.161, len  test loss 0.648, col  test loss 164.113\n"
     ]
    },
    {
     "name": "stderr",
     "output_type": "stream",
     "text": [
      "Epoch 931: 272batch [01:05,  4.14batch/s, loss=259]\n"
     ]
    },
    {
     "name": "stdout",
     "output_type": "stream",
     "text": [
      "epoch 931: avg train loss 265.47, bar train loss 5.015, len train loss 0.014, col train loss 160.186\n"
     ]
    },
    {
     "name": "stderr",
     "output_type": "stream",
     "text": [
      "\r",
      "Epoch 932: 0batch [00:00, ?batch/s]"
     ]
    },
    {
     "name": "stdout",
     "output_type": "stream",
     "text": [
      "epoch 931: avg test  loss 317.05, bar  test loss 4.126, len  test loss 0.668, col  test loss 164.121\n"
     ]
    },
    {
     "name": "stderr",
     "output_type": "stream",
     "text": [
      "Epoch 932: 272batch [01:05,  4.12batch/s, loss=276]\n"
     ]
    },
    {
     "name": "stdout",
     "output_type": "stream",
     "text": [
      "epoch 932: avg train loss 265.56, bar train loss 5.022, len train loss 0.014, col train loss 160.182\n"
     ]
    },
    {
     "name": "stderr",
     "output_type": "stream",
     "text": [
      "\r",
      "Epoch 933: 0batch [00:00, ?batch/s]"
     ]
    },
    {
     "name": "stdout",
     "output_type": "stream",
     "text": [
      "epoch 932: avg test  loss 313.79, bar  test loss 4.154, len  test loss 0.633, col  test loss 164.113\n"
     ]
    },
    {
     "name": "stderr",
     "output_type": "stream",
     "text": [
      "Epoch 933: 272batch [01:05,  4.15batch/s, loss=280]\n"
     ]
    },
    {
     "name": "stdout",
     "output_type": "stream",
     "text": [
      "epoch 933: avg train loss 265.60, bar train loss 5.024, len train loss 0.014, col train loss 160.180\n"
     ]
    },
    {
     "name": "stderr",
     "output_type": "stream",
     "text": [
      "\r",
      "Epoch 934: 0batch [00:00, ?batch/s]"
     ]
    },
    {
     "name": "stdout",
     "output_type": "stream",
     "text": [
      "epoch 933: avg test  loss 314.58, bar  test loss 4.108, len  test loss 0.647, col  test loss 164.104\n"
     ]
    },
    {
     "name": "stderr",
     "output_type": "stream",
     "text": [
      "Epoch 934: 272batch [01:05,  4.14batch/s, loss=274]\n"
     ]
    },
    {
     "name": "stdout",
     "output_type": "stream",
     "text": [
      "epoch 934: avg train loss 265.72, bar train loss 5.030, len train loss 0.014, col train loss 160.176\n"
     ]
    },
    {
     "name": "stderr",
     "output_type": "stream",
     "text": [
      "\r",
      "Epoch 935: 0batch [00:00, ?batch/s]"
     ]
    },
    {
     "name": "stdout",
     "output_type": "stream",
     "text": [
      "epoch 934: avg test  loss 313.97, bar  test loss 4.140, len  test loss 0.635, col  test loss 164.113\n"
     ]
    },
    {
     "name": "stderr",
     "output_type": "stream",
     "text": [
      "Epoch 935: 272batch [01:06,  4.12batch/s, loss=291]\n"
     ]
    },
    {
     "name": "stdout",
     "output_type": "stream",
     "text": [
      "epoch 935: avg train loss 265.30, bar train loss 5.010, len train loss 0.014, col train loss 160.166\n",
      "epoch 935: avg test  loss 316.56, bar  test loss 4.109, len  test loss 0.665, col  test loss 164.124\n"
     ]
    },
    {
     "name": "stderr",
     "output_type": "stream",
     "text": [
      "Epoch 936: 272batch [01:06,  4.07batch/s, loss=289]\n"
     ]
    },
    {
     "name": "stdout",
     "output_type": "stream",
     "text": [
      "epoch 936: avg train loss 265.66, bar train loss 5.026, len train loss 0.014, col train loss 160.185\n"
     ]
    },
    {
     "name": "stderr",
     "output_type": "stream",
     "text": [
      "\r",
      "Epoch 937: 0batch [00:00, ?batch/s]"
     ]
    },
    {
     "name": "stdout",
     "output_type": "stream",
     "text": [
      "epoch 936: avg test  loss 318.70, bar  test loss 4.122, len  test loss 0.687, col  test loss 164.135\n"
     ]
    },
    {
     "name": "stderr",
     "output_type": "stream",
     "text": [
      "Epoch 937: 272batch [01:06,  4.09batch/s, loss=268]\n"
     ]
    },
    {
     "name": "stdout",
     "output_type": "stream",
     "text": [
      "epoch 937: avg train loss 265.47, bar train loss 5.015, len train loss 0.014, col train loss 160.187\n"
     ]
    },
    {
     "name": "stderr",
     "output_type": "stream",
     "text": [
      "\r",
      "Epoch 938: 0batch [00:00, ?batch/s]"
     ]
    },
    {
     "name": "stdout",
     "output_type": "stream",
     "text": [
      "epoch 937: avg test  loss 316.45, bar  test loss 4.175, len  test loss 0.652, col  test loss 164.109\n"
     ]
    },
    {
     "name": "stderr",
     "output_type": "stream",
     "text": [
      "Epoch 938: 272batch [01:05,  4.13batch/s, loss=288]\n"
     ]
    },
    {
     "name": "stdout",
     "output_type": "stream",
     "text": [
      "epoch 938: avg train loss 265.52, bar train loss 5.018, len train loss 0.014, col train loss 160.181\n"
     ]
    },
    {
     "name": "stderr",
     "output_type": "stream",
     "text": [
      "\r",
      "Epoch 939: 0batch [00:00, ?batch/s]"
     ]
    },
    {
     "name": "stdout",
     "output_type": "stream",
     "text": [
      "epoch 938: avg test  loss 309.68, bar  test loss 4.153, len  test loss 0.590, col  test loss 164.116\n"
     ]
    },
    {
     "name": "stderr",
     "output_type": "stream",
     "text": [
      "Epoch 939: 272batch [01:06,  4.12batch/s, loss=266]\n"
     ]
    },
    {
     "name": "stdout",
     "output_type": "stream",
     "text": [
      "epoch 939: avg train loss 265.44, bar train loss 5.017, len train loss 0.014, col train loss 160.173\n"
     ]
    },
    {
     "name": "stderr",
     "output_type": "stream",
     "text": [
      "\r",
      "Epoch 940: 0batch [00:00, ?batch/s]"
     ]
    },
    {
     "name": "stdout",
     "output_type": "stream",
     "text": [
      "epoch 939: avg test  loss 315.82, bar  test loss 4.138, len  test loss 0.653, col  test loss 164.112\n"
     ]
    },
    {
     "name": "stderr",
     "output_type": "stream",
     "text": [
      "Epoch 940: 272batch [01:06,  4.11batch/s, loss=284]\n"
     ]
    },
    {
     "name": "stdout",
     "output_type": "stream",
     "text": [
      "epoch 940: avg train loss 265.73, bar train loss 5.031, len train loss 0.014, col train loss 160.189\n",
      "epoch 940: avg test  loss 317.12, bar  test loss 4.112, len  test loss 0.672, col  test loss 164.113\n"
     ]
    },
    {
     "name": "stderr",
     "output_type": "stream",
     "text": [
      "Epoch 941: 272batch [01:06,  4.11batch/s, loss=289]\n"
     ]
    },
    {
     "name": "stdout",
     "output_type": "stream",
     "text": [
      "epoch 941: avg train loss 265.55, bar train loss 5.018, len train loss 0.014, col train loss 160.184\n"
     ]
    },
    {
     "name": "stderr",
     "output_type": "stream",
     "text": [
      "\r",
      "Epoch 942: 0batch [00:00, ?batch/s]"
     ]
    },
    {
     "name": "stdout",
     "output_type": "stream",
     "text": [
      "epoch 941: avg test  loss 319.46, bar  test loss 4.150, len  test loss 0.687, col  test loss 164.123\n"
     ]
    },
    {
     "name": "stderr",
     "output_type": "stream",
     "text": [
      "Epoch 942: 272batch [01:06,  4.12batch/s, loss=262]\n"
     ]
    },
    {
     "name": "stdout",
     "output_type": "stream",
     "text": [
      "epoch 942: avg train loss 265.76, bar train loss 5.030, len train loss 0.014, col train loss 160.169\n"
     ]
    },
    {
     "name": "stderr",
     "output_type": "stream",
     "text": [
      "\r",
      "Epoch 943: 0batch [00:00, ?batch/s]"
     ]
    },
    {
     "name": "stdout",
     "output_type": "stream",
     "text": [
      "epoch 942: avg test  loss 314.44, bar  test loss 4.112, len  test loss 0.645, col  test loss 164.119\n"
     ]
    },
    {
     "name": "stderr",
     "output_type": "stream",
     "text": [
      "Epoch 943: 272batch [01:06,  4.12batch/s, loss=241]\n"
     ]
    },
    {
     "name": "stdout",
     "output_type": "stream",
     "text": [
      "epoch 943: avg train loss 265.33, bar train loss 5.011, len train loss 0.014, col train loss 160.174\n"
     ]
    },
    {
     "name": "stderr",
     "output_type": "stream",
     "text": [
      "\r",
      "Epoch 944: 0batch [00:00, ?batch/s]"
     ]
    },
    {
     "name": "stdout",
     "output_type": "stream",
     "text": [
      "epoch 943: avg test  loss 314.20, bar  test loss 4.168, len  test loss 0.632, col  test loss 164.118\n"
     ]
    },
    {
     "name": "stderr",
     "output_type": "stream",
     "text": [
      "Epoch 944: 272batch [01:06,  4.12batch/s, loss=240]\n"
     ]
    },
    {
     "name": "stdout",
     "output_type": "stream",
     "text": [
      "epoch 944: avg train loss 265.55, bar train loss 5.023, len train loss 0.014, col train loss 160.162\n"
     ]
    },
    {
     "name": "stderr",
     "output_type": "stream",
     "text": [
      "\r",
      "Epoch 945: 0batch [00:00, ?batch/s]"
     ]
    },
    {
     "name": "stdout",
     "output_type": "stream",
     "text": [
      "epoch 944: avg test  loss 314.39, bar  test loss 4.129, len  test loss 0.641, col  test loss 164.102\n"
     ]
    },
    {
     "name": "stderr",
     "output_type": "stream",
     "text": [
      "Epoch 945: 272batch [01:06,  4.10batch/s, loss=290]\n"
     ]
    },
    {
     "name": "stdout",
     "output_type": "stream",
     "text": [
      "epoch 945: avg train loss 265.56, bar train loss 5.024, len train loss 0.014, col train loss 160.161\n",
      "epoch 945: avg test  loss 313.90, bar  test loss 4.101, len  test loss 0.642, col  test loss 164.132\n"
     ]
    },
    {
     "name": "stderr",
     "output_type": "stream",
     "text": [
      "Epoch 946: 272batch [01:06,  4.09batch/s, loss=244]\n"
     ]
    },
    {
     "name": "stdout",
     "output_type": "stream",
     "text": [
      "epoch 946: avg train loss 265.58, bar train loss 5.022, len train loss 0.014, col train loss 160.179\n"
     ]
    },
    {
     "name": "stderr",
     "output_type": "stream",
     "text": [
      "\r",
      "Epoch 947: 0batch [00:00, ?batch/s]"
     ]
    },
    {
     "name": "stdout",
     "output_type": "stream",
     "text": [
      "epoch 946: avg test  loss 311.08, bar  test loss 4.112, len  test loss 0.610, col  test loss 164.129\n"
     ]
    },
    {
     "name": "stderr",
     "output_type": "stream",
     "text": [
      "Epoch 947: 272batch [01:06,  4.10batch/s, loss=266]\n"
     ]
    },
    {
     "name": "stdout",
     "output_type": "stream",
     "text": [
      "epoch 947: avg train loss 265.29, bar train loss 5.009, len train loss 0.014, col train loss 160.174\n"
     ]
    },
    {
     "name": "stderr",
     "output_type": "stream",
     "text": [
      "\r",
      "Epoch 948: 0batch [00:00, ?batch/s]"
     ]
    },
    {
     "name": "stdout",
     "output_type": "stream",
     "text": [
      "epoch 947: avg test  loss 312.22, bar  test loss 4.152, len  test loss 0.613, col  test loss 164.114\n"
     ]
    },
    {
     "name": "stderr",
     "output_type": "stream",
     "text": [
      "Epoch 948: 272batch [01:07,  4.06batch/s, loss=275]\n"
     ]
    },
    {
     "name": "stdout",
     "output_type": "stream",
     "text": [
      "epoch 948: avg train loss 265.66, bar train loss 5.025, len train loss 0.014, col train loss 160.170\n"
     ]
    },
    {
     "name": "stderr",
     "output_type": "stream",
     "text": [
      "\r",
      "Epoch 949: 0batch [00:00, ?batch/s]"
     ]
    },
    {
     "name": "stdout",
     "output_type": "stream",
     "text": [
      "epoch 948: avg test  loss 311.87, bar  test loss 4.123, len  test loss 0.617, col  test loss 164.117\n"
     ]
    },
    {
     "name": "stderr",
     "output_type": "stream",
     "text": [
      "Epoch 949: 272batch [01:06,  4.09batch/s, loss=257]\n"
     ]
    },
    {
     "name": "stdout",
     "output_type": "stream",
     "text": [
      "epoch 949: avg train loss 265.23, bar train loss 5.006, len train loss 0.014, col train loss 160.167\n"
     ]
    },
    {
     "name": "stderr",
     "output_type": "stream",
     "text": [
      "\r",
      "Epoch 950: 0batch [00:00, ?batch/s]"
     ]
    },
    {
     "name": "stdout",
     "output_type": "stream",
     "text": [
      "epoch 949: avg test  loss 313.49, bar  test loss 4.147, len  test loss 0.630, col  test loss 164.122\n"
     ]
    },
    {
     "name": "stderr",
     "output_type": "stream",
     "text": [
      "Epoch 950: 272batch [01:06,  4.07batch/s, loss=265]\n"
     ]
    },
    {
     "name": "stdout",
     "output_type": "stream",
     "text": [
      "epoch 950: avg train loss 265.60, bar train loss 5.023, len train loss 0.014, col train loss 160.175\n",
      "epoch 950: avg test  loss 316.11, bar  test loss 4.134, len  test loss 0.658, col  test loss 164.115\n"
     ]
    },
    {
     "name": "stderr",
     "output_type": "stream",
     "text": [
      "Epoch 951: 272batch [01:07,  4.05batch/s, loss=246]\n"
     ]
    },
    {
     "name": "stdout",
     "output_type": "stream",
     "text": [
      "epoch 951: avg train loss 265.71, bar train loss 5.031, len train loss 0.014, col train loss 160.158\n"
     ]
    },
    {
     "name": "stderr",
     "output_type": "stream",
     "text": [
      "\r",
      "Epoch 952: 0batch [00:00, ?batch/s]"
     ]
    },
    {
     "name": "stdout",
     "output_type": "stream",
     "text": [
      "epoch 951: avg test  loss 315.43, bar  test loss 4.174, len  test loss 0.643, col  test loss 164.119\n"
     ]
    },
    {
     "name": "stderr",
     "output_type": "stream",
     "text": [
      "Epoch 952: 272batch [01:06,  4.08batch/s, loss=282]\n"
     ]
    },
    {
     "name": "stdout",
     "output_type": "stream",
     "text": [
      "epoch 952: avg train loss 265.62, bar train loss 5.027, len train loss 0.014, col train loss 160.165\n"
     ]
    },
    {
     "name": "stderr",
     "output_type": "stream",
     "text": [
      "\r",
      "Epoch 953: 0batch [00:00, ?batch/s]"
     ]
    },
    {
     "name": "stdout",
     "output_type": "stream",
     "text": [
      "epoch 952: avg test  loss 317.42, bar  test loss 4.196, len  test loss 0.658, col  test loss 164.117\n"
     ]
    },
    {
     "name": "stderr",
     "output_type": "stream",
     "text": [
      "Epoch 953: 272batch [01:06,  4.07batch/s, loss=260]\n"
     ]
    },
    {
     "name": "stdout",
     "output_type": "stream",
     "text": [
      "epoch 953: avg train loss 265.62, bar train loss 5.024, len train loss 0.014, col train loss 160.167\n"
     ]
    },
    {
     "name": "stderr",
     "output_type": "stream",
     "text": [
      "\r",
      "Epoch 954: 0batch [00:00, ?batch/s]"
     ]
    },
    {
     "name": "stdout",
     "output_type": "stream",
     "text": [
      "epoch 953: avg test  loss 315.88, bar  test loss 4.122, len  test loss 0.660, col  test loss 164.124\n"
     ]
    },
    {
     "name": "stderr",
     "output_type": "stream",
     "text": [
      "Epoch 954: 272batch [01:07,  4.05batch/s, loss=252]\n"
     ]
    },
    {
     "name": "stdout",
     "output_type": "stream",
     "text": [
      "epoch 954: avg train loss 265.84, bar train loss 5.035, len train loss 0.014, col train loss 160.169\n"
     ]
    },
    {
     "name": "stderr",
     "output_type": "stream",
     "text": [
      "\r",
      "Epoch 955: 0batch [00:00, ?batch/s]"
     ]
    },
    {
     "name": "stdout",
     "output_type": "stream",
     "text": [
      "epoch 954: avg test  loss 315.80, bar  test loss 4.127, len  test loss 0.656, col  test loss 164.124\n"
     ]
    },
    {
     "name": "stderr",
     "output_type": "stream",
     "text": [
      "Epoch 955: 272batch [01:07,  4.03batch/s, loss=272]\n"
     ]
    },
    {
     "name": "stdout",
     "output_type": "stream",
     "text": [
      "epoch 955: avg train loss 265.55, bar train loss 5.022, len train loss 0.014, col train loss 160.168\n",
      "epoch 955: avg test  loss 313.84, bar  test loss 4.126, len  test loss 0.635, col  test loss 164.113\n"
     ]
    },
    {
     "name": "stderr",
     "output_type": "stream",
     "text": [
      "Epoch 956: 272batch [01:07,  4.02batch/s, loss=268]\n"
     ]
    },
    {
     "name": "stdout",
     "output_type": "stream",
     "text": [
      "epoch 956: avg train loss 265.36, bar train loss 5.014, len train loss 0.014, col train loss 160.163\n"
     ]
    },
    {
     "name": "stderr",
     "output_type": "stream",
     "text": [
      "\r",
      "Epoch 957: 0batch [00:00, ?batch/s]"
     ]
    },
    {
     "name": "stdout",
     "output_type": "stream",
     "text": [
      "epoch 956: avg test  loss 313.05, bar  test loss 4.144, len  test loss 0.624, col  test loss 164.115\n"
     ]
    },
    {
     "name": "stderr",
     "output_type": "stream",
     "text": [
      "Epoch 957: 272batch [01:07,  4.03batch/s, loss=283]\n"
     ]
    },
    {
     "name": "stdout",
     "output_type": "stream",
     "text": [
      "epoch 957: avg train loss 265.61, bar train loss 5.025, len train loss 0.014, col train loss 160.163\n"
     ]
    },
    {
     "name": "stderr",
     "output_type": "stream",
     "text": [
      "\r",
      "Epoch 958: 0batch [00:00, ?batch/s]"
     ]
    },
    {
     "name": "stdout",
     "output_type": "stream",
     "text": [
      "epoch 957: avg test  loss 313.96, bar  test loss 4.114, len  test loss 0.641, col  test loss 164.125\n"
     ]
    },
    {
     "name": "stderr",
     "output_type": "stream",
     "text": [
      "Epoch 958: 272batch [01:07,  4.06batch/s, loss=271]\n"
     ]
    },
    {
     "name": "stdout",
     "output_type": "stream",
     "text": [
      "epoch 958: avg train loss 265.38, bar train loss 5.012, len train loss 0.014, col train loss 160.170\n"
     ]
    },
    {
     "name": "stderr",
     "output_type": "stream",
     "text": [
      "\r",
      "Epoch 959: 0batch [00:00, ?batch/s]"
     ]
    },
    {
     "name": "stdout",
     "output_type": "stream",
     "text": [
      "epoch 958: avg test  loss 313.09, bar  test loss 4.145, len  test loss 0.625, col  test loss 164.118\n"
     ]
    },
    {
     "name": "stderr",
     "output_type": "stream",
     "text": [
      "Epoch 959: 272batch [01:07,  4.06batch/s, loss=279]\n"
     ]
    },
    {
     "name": "stdout",
     "output_type": "stream",
     "text": [
      "epoch 959: avg train loss 265.52, bar train loss 5.019, len train loss 0.014, col train loss 160.162\n"
     ]
    },
    {
     "name": "stderr",
     "output_type": "stream",
     "text": [
      "\r",
      "Epoch 960: 0batch [00:00, ?batch/s]"
     ]
    },
    {
     "name": "stdout",
     "output_type": "stream",
     "text": [
      "epoch 959: avg test  loss 312.11, bar  test loss 4.145, len  test loss 0.614, col  test loss 164.153\n"
     ]
    },
    {
     "name": "stderr",
     "output_type": "stream",
     "text": [
      "Epoch 960: 272batch [01:06,  4.06batch/s, loss=262]\n"
     ]
    },
    {
     "name": "stdout",
     "output_type": "stream",
     "text": [
      "epoch 960: avg train loss 265.59, bar train loss 5.026, len train loss 0.014, col train loss 160.173\n",
      "epoch 960: avg test  loss 315.81, bar  test loss 4.147, len  test loss 0.652, col  test loss 164.127\n"
     ]
    },
    {
     "name": "stderr",
     "output_type": "stream",
     "text": [
      "Epoch 961: 272batch [01:07,  4.04batch/s, loss=261]\n"
     ]
    },
    {
     "name": "stdout",
     "output_type": "stream",
     "text": [
      "epoch 961: avg train loss 265.35, bar train loss 5.013, len train loss 0.014, col train loss 160.152\n"
     ]
    },
    {
     "name": "stderr",
     "output_type": "stream",
     "text": [
      "\r",
      "Epoch 962: 0batch [00:00, ?batch/s]"
     ]
    },
    {
     "name": "stdout",
     "output_type": "stream",
     "text": [
      "epoch 961: avg test  loss 311.29, bar  test loss 4.135, len  test loss 0.609, col  test loss 164.119\n"
     ]
    },
    {
     "name": "stderr",
     "output_type": "stream",
     "text": [
      "Epoch 962: 272batch [01:07,  4.05batch/s, loss=282]\n"
     ]
    },
    {
     "name": "stdout",
     "output_type": "stream",
     "text": [
      "epoch 962: avg train loss 265.35, bar train loss 5.013, len train loss 0.014, col train loss 160.163\n"
     ]
    },
    {
     "name": "stderr",
     "output_type": "stream",
     "text": [
      "\r",
      "Epoch 963: 0batch [00:00, ?batch/s]"
     ]
    },
    {
     "name": "stdout",
     "output_type": "stream",
     "text": [
      "epoch 962: avg test  loss 314.50, bar  test loss 4.132, len  test loss 0.643, col  test loss 164.135\n"
     ]
    },
    {
     "name": "stderr",
     "output_type": "stream",
     "text": [
      "Epoch 963: 272batch [01:07,  4.04batch/s, loss=301]\n"
     ]
    },
    {
     "name": "stdout",
     "output_type": "stream",
     "text": [
      "epoch 963: avg train loss 265.50, bar train loss 5.021, len train loss 0.014, col train loss 160.146\n"
     ]
    },
    {
     "name": "stderr",
     "output_type": "stream",
     "text": [
      "\r",
      "Epoch 964: 0batch [00:00, ?batch/s]"
     ]
    },
    {
     "name": "stdout",
     "output_type": "stream",
     "text": [
      "epoch 963: avg test  loss 314.75, bar  test loss 4.133, len  test loss 0.644, col  test loss 164.124\n"
     ]
    },
    {
     "name": "stderr",
     "output_type": "stream",
     "text": [
      "Epoch 964: 272batch [01:07,  4.01batch/s, loss=259]\n"
     ]
    },
    {
     "name": "stdout",
     "output_type": "stream",
     "text": [
      "epoch 964: avg train loss 265.79, bar train loss 5.035, len train loss 0.014, col train loss 160.161\n"
     ]
    },
    {
     "name": "stderr",
     "output_type": "stream",
     "text": [
      "\r",
      "Epoch 965: 0batch [00:00, ?batch/s]"
     ]
    },
    {
     "name": "stdout",
     "output_type": "stream",
     "text": [
      "epoch 964: avg test  loss 312.39, bar  test loss 4.126, len  test loss 0.622, col  test loss 164.117\n"
     ]
    },
    {
     "name": "stderr",
     "output_type": "stream",
     "text": [
      "Epoch 965: 272batch [01:07,  4.02batch/s, loss=273]\n"
     ]
    },
    {
     "name": "stdout",
     "output_type": "stream",
     "text": [
      "epoch 965: avg train loss 265.38, bar train loss 5.014, len train loss 0.014, col train loss 160.152\n",
      "epoch 965: avg test  loss 311.74, bar  test loss 4.113, len  test loss 0.618, col  test loss 164.126\n"
     ]
    },
    {
     "name": "stderr",
     "output_type": "stream",
     "text": [
      "Epoch 966: 272batch [01:07,  4.02batch/s, loss=275]\n"
     ]
    },
    {
     "name": "stdout",
     "output_type": "stream",
     "text": [
      "epoch 966: avg train loss 265.58, bar train loss 5.024, len train loss 0.014, col train loss 160.158\n"
     ]
    },
    {
     "name": "stderr",
     "output_type": "stream",
     "text": [
      "\r",
      "Epoch 967: 0batch [00:00, ?batch/s]"
     ]
    },
    {
     "name": "stdout",
     "output_type": "stream",
     "text": [
      "epoch 966: avg test  loss 316.21, bar  test loss 4.123, len  test loss 0.662, col  test loss 164.118\n"
     ]
    },
    {
     "name": "stderr",
     "output_type": "stream",
     "text": [
      "Epoch 967: 272batch [01:08,  4.00batch/s, loss=261]\n"
     ]
    },
    {
     "name": "stdout",
     "output_type": "stream",
     "text": [
      "epoch 967: avg train loss 265.41, bar train loss 5.017, len train loss 0.014, col train loss 160.144\n"
     ]
    },
    {
     "name": "stderr",
     "output_type": "stream",
     "text": [
      "\r",
      "Epoch 968: 0batch [00:00, ?batch/s]"
     ]
    },
    {
     "name": "stdout",
     "output_type": "stream",
     "text": [
      "epoch 967: avg test  loss 313.75, bar  test loss 4.161, len  test loss 0.628, col  test loss 164.110\n"
     ]
    },
    {
     "name": "stderr",
     "output_type": "stream",
     "text": [
      "Epoch 968: 272batch [01:07,  4.03batch/s, loss=263]\n"
     ]
    },
    {
     "name": "stdout",
     "output_type": "stream",
     "text": [
      "epoch 968: avg train loss 265.21, bar train loss 5.005, len train loss 0.014, col train loss 160.151\n"
     ]
    },
    {
     "name": "stderr",
     "output_type": "stream",
     "text": [
      "\r",
      "Epoch 969: 0batch [00:00, ?batch/s]"
     ]
    },
    {
     "name": "stdout",
     "output_type": "stream",
     "text": [
      "epoch 968: avg test  loss 316.13, bar  test loss 4.144, len  test loss 0.656, col  test loss 164.125\n"
     ]
    },
    {
     "name": "stderr",
     "output_type": "stream",
     "text": [
      "Epoch 969: 272batch [01:07,  4.03batch/s, loss=268]\n"
     ]
    },
    {
     "name": "stdout",
     "output_type": "stream",
     "text": [
      "epoch 969: avg train loss 265.84, bar train loss 5.035, len train loss 0.014, col train loss 160.163\n"
     ]
    },
    {
     "name": "stderr",
     "output_type": "stream",
     "text": [
      "\r",
      "Epoch 970: 0batch [00:00, ?batch/s]"
     ]
    },
    {
     "name": "stdout",
     "output_type": "stream",
     "text": [
      "epoch 969: avg test  loss 314.86, bar  test loss 4.119, len  test loss 0.647, col  test loss 164.117\n"
     ]
    },
    {
     "name": "stderr",
     "output_type": "stream",
     "text": [
      "Epoch 970: 272batch [01:07,  4.02batch/s, loss=270]\n"
     ]
    },
    {
     "name": "stdout",
     "output_type": "stream",
     "text": [
      "epoch 970: avg train loss 265.68, bar train loss 5.028, len train loss 0.014, col train loss 160.155\n",
      "epoch 970: avg test  loss 313.49, bar  test loss 4.146, len  test loss 0.629, col  test loss 164.119\n"
     ]
    },
    {
     "name": "stderr",
     "output_type": "stream",
     "text": [
      "Epoch 971: 272batch [01:07,  4.03batch/s, loss=266]\n"
     ]
    },
    {
     "name": "stdout",
     "output_type": "stream",
     "text": [
      "epoch 971: avg train loss 265.51, bar train loss 5.022, len train loss 0.014, col train loss 160.143\n"
     ]
    },
    {
     "name": "stderr",
     "output_type": "stream",
     "text": [
      "\r",
      "Epoch 972: 0batch [00:00, ?batch/s]"
     ]
    },
    {
     "name": "stdout",
     "output_type": "stream",
     "text": [
      "epoch 971: avg test  loss 313.16, bar  test loss 4.150, len  test loss 0.624, col  test loss 164.125\n"
     ]
    },
    {
     "name": "stderr",
     "output_type": "stream",
     "text": [
      "Epoch 972: 272batch [01:08,  4.00batch/s, loss=267]\n"
     ]
    },
    {
     "name": "stdout",
     "output_type": "stream",
     "text": [
      "epoch 972: avg train loss 265.58, bar train loss 5.022, len train loss 0.014, col train loss 160.157\n"
     ]
    },
    {
     "name": "stderr",
     "output_type": "stream",
     "text": [
      "\r",
      "Epoch 973: 0batch [00:00, ?batch/s]"
     ]
    },
    {
     "name": "stdout",
     "output_type": "stream",
     "text": [
      "epoch 972: avg test  loss 316.65, bar  test loss 4.150, len  test loss 0.660, col  test loss 164.121\n"
     ]
    },
    {
     "name": "stderr",
     "output_type": "stream",
     "text": [
      "Epoch 973: 272batch [01:07,  4.02batch/s, loss=261]\n"
     ]
    },
    {
     "name": "stdout",
     "output_type": "stream",
     "text": [
      "epoch 973: avg train loss 265.42, bar train loss 5.018, len train loss 0.014, col train loss 160.145\n"
     ]
    },
    {
     "name": "stderr",
     "output_type": "stream",
     "text": [
      "\r",
      "Epoch 974: 0batch [00:00, ?batch/s]"
     ]
    },
    {
     "name": "stdout",
     "output_type": "stream",
     "text": [
      "epoch 973: avg test  loss 312.48, bar  test loss 4.137, len  test loss 0.623, col  test loss 164.136\n"
     ]
    },
    {
     "name": "stderr",
     "output_type": "stream",
     "text": [
      "Epoch 974: 272batch [01:07,  4.03batch/s, loss=295]\n"
     ]
    },
    {
     "name": "stdout",
     "output_type": "stream",
     "text": [
      "epoch 974: avg train loss 265.36, bar train loss 5.014, len train loss 0.014, col train loss 160.158\n"
     ]
    },
    {
     "name": "stderr",
     "output_type": "stream",
     "text": [
      "\r",
      "Epoch 975: 0batch [00:00, ?batch/s]"
     ]
    },
    {
     "name": "stdout",
     "output_type": "stream",
     "text": [
      "epoch 974: avg test  loss 312.29, bar  test loss 4.120, len  test loss 0.622, col  test loss 164.119\n"
     ]
    },
    {
     "name": "stderr",
     "output_type": "stream",
     "text": [
      "Epoch 975: 272batch [01:08,  3.98batch/s, loss=271]\n"
     ]
    },
    {
     "name": "stdout",
     "output_type": "stream",
     "text": [
      "epoch 975: avg train loss 265.13, bar train loss 5.002, len train loss 0.014, col train loss 160.151\n",
      "epoch 975: avg test  loss 312.93, bar  test loss 4.160, len  test loss 0.621, col  test loss 164.142\n"
     ]
    },
    {
     "name": "stderr",
     "output_type": "stream",
     "text": [
      "Epoch 976: 272batch [01:08,  3.99batch/s, loss=251]\n"
     ]
    },
    {
     "name": "stdout",
     "output_type": "stream",
     "text": [
      "epoch 976: avg train loss 265.52, bar train loss 5.022, len train loss 0.014, col train loss 160.131\n"
     ]
    },
    {
     "name": "stderr",
     "output_type": "stream",
     "text": [
      "\r",
      "Epoch 977: 0batch [00:00, ?batch/s]"
     ]
    },
    {
     "name": "stdout",
     "output_type": "stream",
     "text": [
      "epoch 976: avg test  loss 315.97, bar  test loss 4.137, len  test loss 0.655, col  test loss 164.128\n"
     ]
    },
    {
     "name": "stderr",
     "output_type": "stream",
     "text": [
      "Epoch 977: 272batch [01:07,  4.01batch/s, loss=260]\n"
     ]
    },
    {
     "name": "stdout",
     "output_type": "stream",
     "text": [
      "epoch 977: avg train loss 265.67, bar train loss 5.027, len train loss 0.014, col train loss 160.159\n"
     ]
    },
    {
     "name": "stderr",
     "output_type": "stream",
     "text": [
      "\r",
      "Epoch 978: 0batch [00:00, ?batch/s]"
     ]
    },
    {
     "name": "stdout",
     "output_type": "stream",
     "text": [
      "epoch 977: avg test  loss 316.09, bar  test loss 4.144, len  test loss 0.655, col  test loss 164.125\n"
     ]
    },
    {
     "name": "stderr",
     "output_type": "stream",
     "text": [
      "Epoch 978: 272batch [01:08,  3.99batch/s, loss=240]\n"
     ]
    },
    {
     "name": "stdout",
     "output_type": "stream",
     "text": [
      "epoch 978: avg train loss 265.28, bar train loss 5.011, len train loss 0.014, col train loss 160.146\n"
     ]
    },
    {
     "name": "stderr",
     "output_type": "stream",
     "text": [
      "\r",
      "Epoch 979: 0batch [00:00, ?batch/s]"
     ]
    },
    {
     "name": "stdout",
     "output_type": "stream",
     "text": [
      "epoch 978: avg test  loss 315.32, bar  test loss 4.127, len  test loss 0.651, col  test loss 164.107\n"
     ]
    },
    {
     "name": "stderr",
     "output_type": "stream",
     "text": [
      "Epoch 979: 272batch [01:07,  4.01batch/s, loss=254]\n"
     ]
    },
    {
     "name": "stdout",
     "output_type": "stream",
     "text": [
      "epoch 979: avg train loss 265.23, bar train loss 5.005, len train loss 0.014, col train loss 160.153\n"
     ]
    },
    {
     "name": "stderr",
     "output_type": "stream",
     "text": [
      "\r",
      "Epoch 980: 0batch [00:00, ?batch/s]"
     ]
    },
    {
     "name": "stdout",
     "output_type": "stream",
     "text": [
      "epoch 979: avg test  loss 310.46, bar  test loss 4.128, len  test loss 0.602, col  test loss 164.123\n"
     ]
    },
    {
     "name": "stderr",
     "output_type": "stream",
     "text": [
      "Epoch 980: 272batch [01:08,  3.99batch/s, loss=286]\n"
     ]
    },
    {
     "name": "stdout",
     "output_type": "stream",
     "text": [
      "epoch 980: avg train loss 265.37, bar train loss 5.013, len train loss 0.014, col train loss 160.156\n",
      "epoch 980: avg test  loss 315.64, bar  test loss 4.136, len  test loss 0.652, col  test loss 164.127\n"
     ]
    },
    {
     "name": "stderr",
     "output_type": "stream",
     "text": [
      "Epoch 981: 272batch [01:08,  3.97batch/s, loss=255]\n"
     ]
    },
    {
     "name": "stdout",
     "output_type": "stream",
     "text": [
      "epoch 981: avg train loss 265.42, bar train loss 5.017, len train loss 0.014, col train loss 160.144\n"
     ]
    },
    {
     "name": "stderr",
     "output_type": "stream",
     "text": [
      "\r",
      "Epoch 982: 0batch [00:00, ?batch/s]"
     ]
    },
    {
     "name": "stdout",
     "output_type": "stream",
     "text": [
      "epoch 981: avg test  loss 313.28, bar  test loss 4.130, len  test loss 0.632, col  test loss 164.120\n"
     ]
    },
    {
     "name": "stderr",
     "output_type": "stream",
     "text": [
      "Epoch 982: 272batch [01:07,  4.01batch/s, loss=274]\n"
     ]
    },
    {
     "name": "stdout",
     "output_type": "stream",
     "text": [
      "epoch 982: avg train loss 265.17, bar train loss 5.005, len train loss 0.014, col train loss 160.146\n"
     ]
    },
    {
     "name": "stderr",
     "output_type": "stream",
     "text": [
      "\r",
      "Epoch 983: 0batch [00:00, ?batch/s]"
     ]
    },
    {
     "name": "stdout",
     "output_type": "stream",
     "text": [
      "epoch 982: avg test  loss 312.03, bar  test loss 4.203, len  test loss 0.602, col  test loss 164.111\n"
     ]
    },
    {
     "name": "stderr",
     "output_type": "stream",
     "text": [
      "Epoch 983: 272batch [01:08,  3.99batch/s, loss=255]\n"
     ]
    },
    {
     "name": "stdout",
     "output_type": "stream",
     "text": [
      "epoch 983: avg train loss 265.26, bar train loss 5.011, len train loss 0.014, col train loss 160.138\n"
     ]
    },
    {
     "name": "stderr",
     "output_type": "stream",
     "text": [
      "\r",
      "Epoch 984: 0batch [00:00, ?batch/s]"
     ]
    },
    {
     "name": "stdout",
     "output_type": "stream",
     "text": [
      "epoch 983: avg test  loss 312.54, bar  test loss 4.097, len  test loss 0.630, col  test loss 164.131\n"
     ]
    },
    {
     "name": "stderr",
     "output_type": "stream",
     "text": [
      "Epoch 984: 272batch [01:08,  3.95batch/s, loss=280]\n"
     ]
    },
    {
     "name": "stdout",
     "output_type": "stream",
     "text": [
      "epoch 984: avg train loss 265.08, bar train loss 5.004, len train loss 0.014, col train loss 160.129\n"
     ]
    },
    {
     "name": "stderr",
     "output_type": "stream",
     "text": [
      "\r",
      "Epoch 985: 0batch [00:00, ?batch/s]"
     ]
    },
    {
     "name": "stdout",
     "output_type": "stream",
     "text": [
      "epoch 984: avg test  loss 312.90, bar  test loss 4.112, len  test loss 0.629, col  test loss 164.117\n"
     ]
    },
    {
     "name": "stderr",
     "output_type": "stream",
     "text": [
      "Epoch 985: 272batch [01:09,  3.92batch/s, loss=275]\n"
     ]
    },
    {
     "name": "stdout",
     "output_type": "stream",
     "text": [
      "epoch 985: avg train loss 265.48, bar train loss 5.019, len train loss 0.014, col train loss 160.142\n",
      "epoch 985: avg test  loss 316.17, bar  test loss 4.151, len  test loss 0.654, col  test loss 164.135\n"
     ]
    },
    {
     "name": "stderr",
     "output_type": "stream",
     "text": [
      "Epoch 986: 272batch [01:11,  3.83batch/s, loss=253]\n"
     ]
    },
    {
     "name": "stdout",
     "output_type": "stream",
     "text": [
      "epoch 986: avg train loss 265.38, bar train loss 5.016, len train loss 0.014, col train loss 160.140\n"
     ]
    },
    {
     "name": "stderr",
     "output_type": "stream",
     "text": [
      "\r",
      "Epoch 987: 0batch [00:00, ?batch/s]"
     ]
    },
    {
     "name": "stdout",
     "output_type": "stream",
     "text": [
      "epoch 986: avg test  loss 313.85, bar  test loss 4.107, len  test loss 0.638, col  test loss 164.122\n"
     ]
    },
    {
     "name": "stderr",
     "output_type": "stream",
     "text": [
      "Epoch 987: 272batch [01:10,  3.86batch/s, loss=269]\n"
     ]
    },
    {
     "name": "stdout",
     "output_type": "stream",
     "text": [
      "epoch 987: avg train loss 265.63, bar train loss 5.027, len train loss 0.014, col train loss 160.143\n"
     ]
    },
    {
     "name": "stderr",
     "output_type": "stream",
     "text": [
      "\r",
      "Epoch 988: 0batch [00:00, ?batch/s]"
     ]
    },
    {
     "name": "stdout",
     "output_type": "stream",
     "text": [
      "epoch 987: avg test  loss 314.34, bar  test loss 4.134, len  test loss 0.641, col  test loss 164.119\n"
     ]
    },
    {
     "name": "stderr",
     "output_type": "stream",
     "text": [
      "Epoch 988: 272batch [01:20,  3.37batch/s, loss=263]\n"
     ]
    },
    {
     "name": "stdout",
     "output_type": "stream",
     "text": [
      "epoch 988: avg train loss 265.62, bar train loss 5.027, len train loss 0.014, col train loss 160.133\n"
     ]
    },
    {
     "name": "stderr",
     "output_type": "stream",
     "text": [
      "\r",
      "Epoch 989: 0batch [00:00, ?batch/s]"
     ]
    },
    {
     "name": "stdout",
     "output_type": "stream",
     "text": [
      "epoch 988: avg test  loss 313.25, bar  test loss 4.109, len  test loss 0.633, col  test loss 164.150\n"
     ]
    },
    {
     "name": "stderr",
     "output_type": "stream",
     "text": [
      "Epoch 989: 272batch [01:25,  3.16batch/s, loss=281]\n"
     ]
    },
    {
     "name": "stdout",
     "output_type": "stream",
     "text": [
      "epoch 989: avg train loss 265.41, bar train loss 5.014, len train loss 0.014, col train loss 160.141\n"
     ]
    },
    {
     "name": "stderr",
     "output_type": "stream",
     "text": [
      "\r",
      "Epoch 990: 0batch [00:00, ?batch/s]"
     ]
    },
    {
     "name": "stdout",
     "output_type": "stream",
     "text": [
      "epoch 989: avg test  loss 318.48, bar  test loss 4.114, len  test loss 0.682, col  test loss 164.135\n"
     ]
    },
    {
     "name": "stderr",
     "output_type": "stream",
     "text": [
      "Epoch 990: 272batch [01:23,  3.27batch/s, loss=261]\n"
     ]
    },
    {
     "name": "stdout",
     "output_type": "stream",
     "text": [
      "epoch 990: avg train loss 265.62, bar train loss 5.025, len train loss 0.014, col train loss 160.151\n",
      "epoch 990: avg test  loss 318.69, bar  test loss 4.149, len  test loss 0.680, col  test loss 164.144\n"
     ]
    },
    {
     "name": "stderr",
     "output_type": "stream",
     "text": [
      "Epoch 991: 272batch [01:22,  3.29batch/s, loss=240]\n"
     ]
    },
    {
     "name": "stdout",
     "output_type": "stream",
     "text": [
      "epoch 991: avg train loss 265.34, bar train loss 5.013, len train loss 0.014, col train loss 160.150\n"
     ]
    },
    {
     "name": "stderr",
     "output_type": "stream",
     "text": [
      "\r",
      "Epoch 992: 0batch [00:00, ?batch/s]"
     ]
    },
    {
     "name": "stdout",
     "output_type": "stream",
     "text": [
      "epoch 991: avg test  loss 314.63, bar  test loss 4.127, len  test loss 0.644, col  test loss 164.131\n"
     ]
    },
    {
     "name": "stderr",
     "output_type": "stream",
     "text": [
      "Epoch 992: 272batch [01:16,  3.56batch/s, loss=285]\n"
     ]
    },
    {
     "name": "stdout",
     "output_type": "stream",
     "text": [
      "epoch 992: avg train loss 265.29, bar train loss 5.012, len train loss 0.014, col train loss 160.135\n"
     ]
    },
    {
     "name": "stderr",
     "output_type": "stream",
     "text": [
      "\r",
      "Epoch 993: 0batch [00:00, ?batch/s]"
     ]
    },
    {
     "name": "stdout",
     "output_type": "stream",
     "text": [
      "epoch 992: avg test  loss 314.30, bar  test loss 4.108, len  test loss 0.645, col  test loss 164.108\n"
     ]
    },
    {
     "name": "stderr",
     "output_type": "stream",
     "text": [
      "Epoch 993: 272batch [01:12,  3.75batch/s, loss=268]\n"
     ]
    },
    {
     "name": "stdout",
     "output_type": "stream",
     "text": [
      "epoch 993: avg train loss 265.65, bar train loss 5.028, len train loss 0.014, col train loss 160.142\n"
     ]
    },
    {
     "name": "stderr",
     "output_type": "stream",
     "text": [
      "\r",
      "Epoch 994: 0batch [00:00, ?batch/s]"
     ]
    },
    {
     "name": "stdout",
     "output_type": "stream",
     "text": [
      "epoch 993: avg test  loss 318.32, bar  test loss 4.170, len  test loss 0.673, col  test loss 164.108\n"
     ]
    },
    {
     "name": "stderr",
     "output_type": "stream",
     "text": [
      "Epoch 994: 272batch [01:15,  3.59batch/s, loss=264]\n"
     ]
    },
    {
     "name": "stdout",
     "output_type": "stream",
     "text": [
      "epoch 994: avg train loss 265.51, bar train loss 5.021, len train loss 0.014, col train loss 160.138\n"
     ]
    },
    {
     "name": "stderr",
     "output_type": "stream",
     "text": [
      "\r",
      "Epoch 995: 0batch [00:00, ?batch/s]"
     ]
    },
    {
     "name": "stdout",
     "output_type": "stream",
     "text": [
      "epoch 994: avg test  loss 311.86, bar  test loss 4.123, len  test loss 0.617, col  test loss 164.108\n"
     ]
    },
    {
     "name": "stderr",
     "output_type": "stream",
     "text": [
      "Epoch 995: 272batch [01:15,  3.60batch/s, loss=258]\n"
     ]
    },
    {
     "name": "stdout",
     "output_type": "stream",
     "text": [
      "epoch 995: avg train loss 265.32, bar train loss 5.014, len train loss 0.014, col train loss 160.131\n",
      "epoch 995: avg test  loss 318.10, bar  test loss 4.151, len  test loss 0.675, col  test loss 164.156\n"
     ]
    },
    {
     "name": "stderr",
     "output_type": "stream",
     "text": [
      "Epoch 996: 272batch [01:12,  3.74batch/s, loss=267]\n"
     ]
    },
    {
     "name": "stdout",
     "output_type": "stream",
     "text": [
      "epoch 996: avg train loss 265.34, bar train loss 5.014, len train loss 0.014, col train loss 160.123\n"
     ]
    },
    {
     "name": "stderr",
     "output_type": "stream",
     "text": [
      "\r",
      "Epoch 997: 0batch [00:00, ?batch/s]"
     ]
    },
    {
     "name": "stdout",
     "output_type": "stream",
     "text": [
      "epoch 996: avg test  loss 316.37, bar  test loss 4.114, len  test loss 0.665, col  test loss 164.126\n"
     ]
    },
    {
     "name": "stderr",
     "output_type": "stream",
     "text": [
      "Epoch 997: 272batch [01:15,  3.63batch/s, loss=274]\n"
     ]
    },
    {
     "name": "stdout",
     "output_type": "stream",
     "text": [
      "epoch 997: avg train loss 265.43, bar train loss 5.019, len train loss 0.014, col train loss 160.135\n"
     ]
    },
    {
     "name": "stderr",
     "output_type": "stream",
     "text": [
      "\r",
      "Epoch 998: 0batch [00:00, ?batch/s]"
     ]
    },
    {
     "name": "stdout",
     "output_type": "stream",
     "text": [
      "epoch 997: avg test  loss 311.97, bar  test loss 4.122, len  test loss 0.618, col  test loss 164.111\n"
     ]
    },
    {
     "name": "stderr",
     "output_type": "stream",
     "text": [
      "Epoch 998: 272batch [01:20,  3.40batch/s, loss=274]\n"
     ]
    },
    {
     "name": "stdout",
     "output_type": "stream",
     "text": [
      "epoch 998: avg train loss 265.40, bar train loss 5.017, len train loss 0.014, col train loss 160.134\n"
     ]
    },
    {
     "name": "stderr",
     "output_type": "stream",
     "text": [
      "\r",
      "Epoch 999: 0batch [00:00, ?batch/s]"
     ]
    },
    {
     "name": "stdout",
     "output_type": "stream",
     "text": [
      "epoch 998: avg test  loss 313.96, bar  test loss 4.094, len  test loss 0.644, col  test loss 164.113\n"
     ]
    },
    {
     "name": "stderr",
     "output_type": "stream",
     "text": [
      "Epoch 999: 272batch [01:20,  3.39batch/s, loss=277]\n"
     ]
    },
    {
     "name": "stdout",
     "output_type": "stream",
     "text": [
      "epoch 999: avg train loss 265.58, bar train loss 5.025, len train loss 0.014, col train loss 160.141\n"
     ]
    },
    {
     "name": "stderr",
     "output_type": "stream",
     "text": [
      "\r",
      "Epoch 1000: 0batch [00:00, ?batch/s]"
     ]
    },
    {
     "name": "stdout",
     "output_type": "stream",
     "text": [
      "epoch 999: avg test  loss 315.25, bar  test loss 4.181, len  test loss 0.639, col  test loss 164.125\n"
     ]
    },
    {
     "name": "stderr",
     "output_type": "stream",
     "text": [
      "Epoch 1000: 272batch [01:18,  3.44batch/s, loss=245]\n"
     ]
    },
    {
     "name": "stdout",
     "output_type": "stream",
     "text": [
      "epoch 1000: avg train loss 265.40, bar train loss 5.015, len train loss 0.014, col train loss 160.139\n",
      "epoch 1000: avg test  loss 317.54, bar  test loss 4.138, len  test loss 0.669, col  test loss 164.127\n"
     ]
    }
   ],
   "source": [
    "lss, lss_t = train(default_args, train_loader, test_loader, diva, optimizer, 1000, 283, save_folder=\"new/DOUBLEHVAE\",save_interval=5)"
   ]
  },
  {
   "cell_type": "code",
   "execution_count": 37,
   "metadata": {},
   "outputs": [
    {
     "name": "stderr",
     "output_type": "stream",
     "text": [
      "Epoch 274: 272batch [00:47,  5.74batch/s, loss=274]\n"
     ]
    },
    {
     "name": "stdout",
     "output_type": "stream",
     "text": [
      "epoch 274: avg train loss 269.38, bar train loss 5.133, len train loss 0.016, col train loss 161.255\n"
     ]
    },
    {
     "name": "stderr",
     "output_type": "stream",
     "text": [
      "Epoch 275: 0batch [00:00, ?batch/s, loss=264]"
     ]
    },
    {
     "name": "stdout",
     "output_type": "stream",
     "text": [
      "epoch 274: avg test  loss 363.31, bar  test loss 4.182, len  test loss 1.117, col  test loss 164.096\n"
     ]
    },
    {
     "name": "stderr",
     "output_type": "stream",
     "text": [
      "Epoch 275: 272batch [00:45,  5.97batch/s, loss=293]\n"
     ]
    },
    {
     "name": "stdout",
     "output_type": "stream",
     "text": [
      "epoch 275: avg train loss 269.41, bar train loss 5.134, len train loss 0.016, col train loss 161.251\n",
      "epoch 275: avg test  loss 357.99, bar  test loss 4.150, len  test loss 1.069, col  test loss 164.077\n"
     ]
    },
    {
     "name": "stderr",
     "output_type": "stream",
     "text": [
      "Epoch 276: 272batch [00:46,  5.84batch/s, loss=287]\n"
     ]
    },
    {
     "name": "stdout",
     "output_type": "stream",
     "text": [
      "epoch 276: avg train loss 269.29, bar train loss 5.128, len train loss 0.016, col train loss 161.250\n"
     ]
    },
    {
     "name": "stderr",
     "output_type": "stream",
     "text": [
      "\r",
      "Epoch 277: 0batch [00:00, ?batch/s]"
     ]
    },
    {
     "name": "stdout",
     "output_type": "stream",
     "text": [
      "epoch 276: avg test  loss 362.54, bar  test loss 4.165, len  test loss 1.113, col  test loss 164.086\n"
     ]
    },
    {
     "name": "stderr",
     "output_type": "stream",
     "text": [
      "Epoch 277: 272batch [00:46,  5.89batch/s, loss=296]\n"
     ]
    },
    {
     "name": "stdout",
     "output_type": "stream",
     "text": [
      "epoch 277: avg train loss 269.45, bar train loss 5.137, len train loss 0.016, col train loss 161.244\n"
     ]
    },
    {
     "name": "stderr",
     "output_type": "stream",
     "text": [
      "\r",
      "Epoch 278: 0batch [00:00, ?batch/s]"
     ]
    },
    {
     "name": "stdout",
     "output_type": "stream",
     "text": [
      "epoch 277: avg test  loss 352.86, bar  test loss 4.140, len  test loss 1.020, col  test loss 164.089\n"
     ]
    },
    {
     "name": "stderr",
     "output_type": "stream",
     "text": [
      "Epoch 278: 272batch [00:45,  6.01batch/s, loss=270]\n"
     ]
    },
    {
     "name": "stdout",
     "output_type": "stream",
     "text": [
      "epoch 278: avg train loss 269.48, bar train loss 5.138, len train loss 0.016, col train loss 161.241\n"
     ]
    },
    {
     "name": "stderr",
     "output_type": "stream",
     "text": [
      "\r",
      "Epoch 279: 0batch [00:00, ?batch/s]"
     ]
    },
    {
     "name": "stdout",
     "output_type": "stream",
     "text": [
      "epoch 278: avg test  loss 354.71, bar  test loss 4.146, len  test loss 1.042, col  test loss 164.100\n"
     ]
    },
    {
     "name": "stderr",
     "output_type": "stream",
     "text": [
      "Epoch 279: 272batch [00:45,  5.95batch/s, loss=274]\n"
     ]
    },
    {
     "name": "stdout",
     "output_type": "stream",
     "text": [
      "epoch 279: avg train loss 269.49, bar train loss 5.140, len train loss 0.016, col train loss 161.235\n"
     ]
    },
    {
     "name": "stderr",
     "output_type": "stream",
     "text": [
      "Epoch 280: 0batch [00:00, ?batch/s, loss=261]"
     ]
    },
    {
     "name": "stdout",
     "output_type": "stream",
     "text": [
      "epoch 279: avg test  loss 359.60, bar  test loss 4.141, len  test loss 1.088, col  test loss 164.071\n"
     ]
    },
    {
     "name": "stderr",
     "output_type": "stream",
     "text": [
      "Epoch 280: 272batch [00:47,  5.78batch/s, loss=276]\n"
     ]
    },
    {
     "name": "stdout",
     "output_type": "stream",
     "text": [
      "epoch 280: avg train loss 269.19, bar train loss 5.126, len train loss 0.016, col train loss 161.230\n",
      "epoch 280: avg test  loss 357.69, bar  test loss 4.200, len  test loss 1.057, col  test loss 164.082\n"
     ]
    },
    {
     "name": "stderr",
     "output_type": "stream",
     "text": [
      "Epoch 281: 272batch [00:47,  5.78batch/s, loss=279]\n"
     ]
    },
    {
     "name": "stdout",
     "output_type": "stream",
     "text": [
      "epoch 281: avg train loss 269.17, bar train loss 5.124, len train loss 0.016, col train loss 161.232\n"
     ]
    },
    {
     "name": "stderr",
     "output_type": "stream",
     "text": [
      "Epoch 282: 0batch [00:00, ?batch/s, loss=271]"
     ]
    },
    {
     "name": "stdout",
     "output_type": "stream",
     "text": [
      "epoch 281: avg test  loss 352.22, bar  test loss 4.161, len  test loss 1.008, col  test loss 164.074\n"
     ]
    },
    {
     "name": "stderr",
     "output_type": "stream",
     "text": [
      "Epoch 282: 272batch [00:46,  5.84batch/s, loss=281]\n"
     ]
    },
    {
     "name": "stdout",
     "output_type": "stream",
     "text": [
      "epoch 282: avg train loss 269.12, bar train loss 5.120, len train loss 0.016, col train loss 161.220\n"
     ]
    },
    {
     "name": "stderr",
     "output_type": "stream",
     "text": [
      "\r",
      "Epoch 283: 0batch [00:00, ?batch/s]"
     ]
    },
    {
     "name": "stdout",
     "output_type": "stream",
     "text": [
      "epoch 282: avg test  loss 353.63, bar  test loss 4.169, len  test loss 1.025, col  test loss 164.101\n"
     ]
    },
    {
     "name": "stderr",
     "output_type": "stream",
     "text": [
      "Epoch 283: 272batch [00:46,  5.81batch/s, loss=266]\n"
     ]
    },
    {
     "name": "stdout",
     "output_type": "stream",
     "text": [
      "epoch 283: avg train loss 269.36, bar train loss 5.133, len train loss 0.016, col train loss 161.225\n"
     ]
    },
    {
     "name": "stderr",
     "output_type": "stream",
     "text": [
      "Epoch 284: 0batch [00:00, ?batch/s, loss=276]"
     ]
    },
    {
     "name": "stdout",
     "output_type": "stream",
     "text": [
      "epoch 283: avg test  loss 355.84, bar  test loss 4.214, len  test loss 1.036, col  test loss 164.085\n"
     ]
    },
    {
     "name": "stderr",
     "output_type": "stream",
     "text": [
      "Epoch 284: 174batch [00:30,  5.78batch/s, loss=279]\n"
     ]
    },
    {
     "ename": "RuntimeError",
     "evalue": "[enforce fail at C:\\actions-runner\\_work\\pytorch\\pytorch\\builder\\windows\\pytorch\\c10\\core\\impl\\alloc_cpu.cpp:81] data. DefaultCPUAllocator: not enough memory: you tried to allocate 7680000 bytes.",
     "output_type": "error",
     "traceback": [
      "\u001b[1;31m---------------------------------------------------------------------------\u001b[0m",
      "\u001b[1;31mRuntimeError\u001b[0m                              Traceback (most recent call last)",
      "\u001b[1;32m<ipython-input-37-15115fcaec9f>\u001b[0m in \u001b[0;36m<module>\u001b[1;34m\u001b[0m\n\u001b[1;32m----> 1\u001b[1;33m \u001b[0mlss\u001b[0m\u001b[1;33m,\u001b[0m \u001b[0mlss_t\u001b[0m \u001b[1;33m=\u001b[0m \u001b[0mtrain\u001b[0m\u001b[1;33m(\u001b[0m\u001b[0mdefault_args\u001b[0m\u001b[1;33m,\u001b[0m \u001b[0mtrain_loader\u001b[0m\u001b[1;33m,\u001b[0m \u001b[0mtest_loader\u001b[0m\u001b[1;33m,\u001b[0m \u001b[0mdiva\u001b[0m\u001b[1;33m,\u001b[0m \u001b[0moptimizer\u001b[0m\u001b[1;33m,\u001b[0m \u001b[1;36m1000\u001b[0m\u001b[1;33m,\u001b[0m\u001b[1;36m273\u001b[0m\u001b[1;33m,\u001b[0m\u001b[0msave_folder\u001b[0m\u001b[1;33m=\u001b[0m\u001b[1;34m\"new/DOUBLEHVAE\"\u001b[0m\u001b[1;33m,\u001b[0m\u001b[0msave_interval\u001b[0m\u001b[1;33m=\u001b[0m\u001b[1;36m5\u001b[0m\u001b[1;33m)\u001b[0m\u001b[1;33m\u001b[0m\u001b[1;33m\u001b[0m\u001b[0m\n\u001b[0m",
      "\u001b[1;32m<ipython-input-26-296b913ea79f>\u001b[0m in \u001b[0;36mtrain\u001b[1;34m(args, train_loader, test_loader, diva, optimizer, end_epoch, start_epoch, save_folder, save_interval)\u001b[0m\n\u001b[0;32m      8\u001b[0m         \u001b[1;32mif\u001b[0m \u001b[0mepoch\u001b[0m\u001b[1;33m<\u001b[0m \u001b[0margs\u001b[0m\u001b[1;33m.\u001b[0m\u001b[0mprewarmup\u001b[0m\u001b[1;33m:\u001b[0m\u001b[1;33m\u001b[0m\u001b[1;33m\u001b[0m\u001b[0m\n\u001b[0;32m      9\u001b[0m             \u001b[0mdiva\u001b[0m\u001b[1;33m.\u001b[0m\u001b[0mbeta\u001b[0m \u001b[1;33m=\u001b[0m \u001b[0margs\u001b[0m\u001b[1;33m.\u001b[0m\u001b[0mbeta\u001b[0m\u001b[1;33m/\u001b[0m\u001b[0margs\u001b[0m\u001b[1;33m.\u001b[0m\u001b[0mprewarmup\u001b[0m\u001b[1;33m\u001b[0m\u001b[1;33m\u001b[0m\u001b[0m\n\u001b[1;32m---> 10\u001b[1;33m         \u001b[0mtrain_loss\u001b[0m\u001b[1;33m,\u001b[0m \u001b[0mavg_loss_bar\u001b[0m\u001b[1;33m,\u001b[0m \u001b[0mavg_loss_len\u001b[0m\u001b[1;33m,\u001b[0m \u001b[0mavg_loss_col\u001b[0m\u001b[1;33m,\u001b[0m \u001b[0mmtr\u001b[0m\u001b[1;33m,\u001b[0m \u001b[0matr\u001b[0m\u001b[1;33m,\u001b[0m \u001b[0matr2\u001b[0m\u001b[1;33m,\u001b[0m \u001b[0matr3\u001b[0m\u001b[1;33m,\u001b[0m \u001b[0matr4\u001b[0m\u001b[1;33m,\u001b[0m \u001b[0matr5\u001b[0m  \u001b[1;33m=\u001b[0m \u001b[0mtrain_single_epoch\u001b[0m\u001b[1;33m(\u001b[0m\u001b[0mtrain_loader\u001b[0m\u001b[1;33m,\u001b[0m \u001b[0mdiva\u001b[0m\u001b[1;33m,\u001b[0m \u001b[0moptimizer\u001b[0m\u001b[1;33m,\u001b[0m \u001b[0mepoch\u001b[0m\u001b[1;33m)\u001b[0m\u001b[1;33m\u001b[0m\u001b[1;33m\u001b[0m\u001b[0m\n\u001b[0m\u001b[0;32m     11\u001b[0m         \u001b[0mstr_loss_sup\u001b[0m \u001b[1;33m=\u001b[0m \u001b[0mtrain_loss\u001b[0m\u001b[1;33m\u001b[0m\u001b[1;33m\u001b[0m\u001b[0m\n\u001b[0;32m     12\u001b[0m         \u001b[0mepoch_loss_sup\u001b[0m\u001b[1;33m.\u001b[0m\u001b[0mappend\u001b[0m\u001b[1;33m(\u001b[0m\u001b[0mtrain_loss\u001b[0m\u001b[1;33m)\u001b[0m\u001b[1;33m\u001b[0m\u001b[1;33m\u001b[0m\u001b[0m\n",
      "\u001b[1;32m<ipython-input-24-0c804d7af293>\u001b[0m in \u001b[0;36mtrain_single_epoch\u001b[1;34m(train_loader, model, optimizer, epoch)\u001b[0m\n\u001b[0;32m     15\u001b[0m     pbar = tqdm(enumerate(train_loader), unit=\"batch\", \n\u001b[0;32m     16\u001b[0m                                      desc=f'Epoch {epoch}')\n\u001b[1;32m---> 17\u001b[1;33m     \u001b[1;32mfor\u001b[0m \u001b[0mbatch_idx\u001b[0m\u001b[1;33m,\u001b[0m \u001b[1;33m(\u001b[0m\u001b[0mx\u001b[0m\u001b[1;33m,\u001b[0m \u001b[0my\u001b[0m\u001b[1;33m,\u001b[0m \u001b[0md\u001b[0m\u001b[1;33m,\u001b[0m \u001b[0mx_len\u001b[0m\u001b[1;33m,\u001b[0m \u001b[0mx_col\u001b[0m\u001b[1;33m,\u001b[0m \u001b[0mx_bar\u001b[0m\u001b[1;33m,\u001b[0m \u001b[0mm\u001b[0m\u001b[1;33m)\u001b[0m \u001b[1;32min\u001b[0m \u001b[0mpbar\u001b[0m\u001b[1;33m:\u001b[0m\u001b[1;33m\u001b[0m\u001b[1;33m\u001b[0m\u001b[0m\n\u001b[0m\u001b[0;32m     18\u001b[0m         \u001b[1;31m# To device\u001b[0m\u001b[1;33m\u001b[0m\u001b[1;33m\u001b[0m\u001b[1;33m\u001b[0m\u001b[0m\n\u001b[0;32m     19\u001b[0m         \u001b[0mx\u001b[0m\u001b[1;33m,\u001b[0m \u001b[0my\u001b[0m\u001b[1;33m,\u001b[0m \u001b[0md\u001b[0m \u001b[1;33m,\u001b[0m \u001b[0mx_len\u001b[0m\u001b[1;33m,\u001b[0m \u001b[0mx_bar\u001b[0m\u001b[1;33m,\u001b[0m \u001b[0mx_col\u001b[0m\u001b[1;33m,\u001b[0m \u001b[0mm\u001b[0m\u001b[1;33m=\u001b[0m \u001b[0mx\u001b[0m\u001b[1;33m.\u001b[0m\u001b[0mto\u001b[0m\u001b[1;33m(\u001b[0m\u001b[0mDEVICE\u001b[0m\u001b[1;33m)\u001b[0m\u001b[1;33m,\u001b[0m \u001b[0my\u001b[0m\u001b[1;33m.\u001b[0m\u001b[0mto\u001b[0m\u001b[1;33m(\u001b[0m\u001b[0mDEVICE\u001b[0m\u001b[1;33m)\u001b[0m\u001b[1;33m,\u001b[0m \u001b[0md\u001b[0m\u001b[1;33m.\u001b[0m\u001b[0mto\u001b[0m\u001b[1;33m(\u001b[0m\u001b[0mDEVICE\u001b[0m\u001b[1;33m)\u001b[0m\u001b[1;33m,\u001b[0m \u001b[0mx_len\u001b[0m\u001b[1;33m.\u001b[0m\u001b[0mto\u001b[0m\u001b[1;33m(\u001b[0m\u001b[0mDEVICE\u001b[0m\u001b[1;33m)\u001b[0m\u001b[1;33m,\u001b[0m \u001b[0mx_bar\u001b[0m\u001b[1;33m.\u001b[0m\u001b[0mto\u001b[0m\u001b[1;33m(\u001b[0m\u001b[0mDEVICE\u001b[0m\u001b[1;33m)\u001b[0m\u001b[1;33m,\u001b[0m \u001b[0mx_col\u001b[0m\u001b[1;33m.\u001b[0m\u001b[0mto\u001b[0m\u001b[1;33m(\u001b[0m\u001b[0mDEVICE\u001b[0m\u001b[1;33m)\u001b[0m\u001b[1;33m,\u001b[0m \u001b[0mm\u001b[0m\u001b[1;33m.\u001b[0m\u001b[0mto\u001b[0m\u001b[1;33m(\u001b[0m\u001b[0mDEVICE\u001b[0m\u001b[1;33m)\u001b[0m\u001b[1;33m\u001b[0m\u001b[1;33m\u001b[0m\u001b[0m\n",
      "\u001b[1;32mD:\\Users\\Marko\\Anaconda3\\lib\\site-packages\\tqdm\\std.py\u001b[0m in \u001b[0;36m__iter__\u001b[1;34m(self)\u001b[0m\n\u001b[0;32m   1127\u001b[0m \u001b[1;33m\u001b[0m\u001b[0m\n\u001b[0;32m   1128\u001b[0m         \u001b[1;32mtry\u001b[0m\u001b[1;33m:\u001b[0m\u001b[1;33m\u001b[0m\u001b[1;33m\u001b[0m\u001b[0m\n\u001b[1;32m-> 1129\u001b[1;33m             \u001b[1;32mfor\u001b[0m \u001b[0mobj\u001b[0m \u001b[1;32min\u001b[0m \u001b[0miterable\u001b[0m\u001b[1;33m:\u001b[0m\u001b[1;33m\u001b[0m\u001b[1;33m\u001b[0m\u001b[0m\n\u001b[0m\u001b[0;32m   1130\u001b[0m                 \u001b[1;32myield\u001b[0m \u001b[0mobj\u001b[0m\u001b[1;33m\u001b[0m\u001b[1;33m\u001b[0m\u001b[0m\n\u001b[0;32m   1131\u001b[0m                 \u001b[1;31m# Update and possibly print the progressbar.\u001b[0m\u001b[1;33m\u001b[0m\u001b[1;33m\u001b[0m\u001b[1;33m\u001b[0m\u001b[0m\n",
      "\u001b[1;32mD:\\Users\\Marko\\Anaconda3\\lib\\site-packages\\torch\\utils\\data\\dataloader.py\u001b[0m in \u001b[0;36m__next__\u001b[1;34m(self)\u001b[0m\n\u001b[0;32m    528\u001b[0m             \u001b[1;32mif\u001b[0m \u001b[0mself\u001b[0m\u001b[1;33m.\u001b[0m\u001b[0m_sampler_iter\u001b[0m \u001b[1;32mis\u001b[0m \u001b[1;32mNone\u001b[0m\u001b[1;33m:\u001b[0m\u001b[1;33m\u001b[0m\u001b[1;33m\u001b[0m\u001b[0m\n\u001b[0;32m    529\u001b[0m                 \u001b[0mself\u001b[0m\u001b[1;33m.\u001b[0m\u001b[0m_reset\u001b[0m\u001b[1;33m(\u001b[0m\u001b[1;33m)\u001b[0m\u001b[1;33m\u001b[0m\u001b[1;33m\u001b[0m\u001b[0m\n\u001b[1;32m--> 530\u001b[1;33m             \u001b[0mdata\u001b[0m \u001b[1;33m=\u001b[0m \u001b[0mself\u001b[0m\u001b[1;33m.\u001b[0m\u001b[0m_next_data\u001b[0m\u001b[1;33m(\u001b[0m\u001b[1;33m)\u001b[0m\u001b[1;33m\u001b[0m\u001b[1;33m\u001b[0m\u001b[0m\n\u001b[0m\u001b[0;32m    531\u001b[0m             \u001b[0mself\u001b[0m\u001b[1;33m.\u001b[0m\u001b[0m_num_yielded\u001b[0m \u001b[1;33m+=\u001b[0m \u001b[1;36m1\u001b[0m\u001b[1;33m\u001b[0m\u001b[1;33m\u001b[0m\u001b[0m\n\u001b[0;32m    532\u001b[0m             \u001b[1;32mif\u001b[0m \u001b[0mself\u001b[0m\u001b[1;33m.\u001b[0m\u001b[0m_dataset_kind\u001b[0m \u001b[1;33m==\u001b[0m \u001b[0m_DatasetKind\u001b[0m\u001b[1;33m.\u001b[0m\u001b[0mIterable\u001b[0m \u001b[1;32mand\u001b[0m\u001b[0;31m \u001b[0m\u001b[0;31m\\\u001b[0m\u001b[1;33m\u001b[0m\u001b[1;33m\u001b[0m\u001b[0m\n",
      "\u001b[1;32mD:\\Users\\Marko\\Anaconda3\\lib\\site-packages\\torch\\utils\\data\\dataloader.py\u001b[0m in \u001b[0;36m_next_data\u001b[1;34m(self)\u001b[0m\n\u001b[0;32m    568\u001b[0m     \u001b[1;32mdef\u001b[0m \u001b[0m_next_data\u001b[0m\u001b[1;33m(\u001b[0m\u001b[0mself\u001b[0m\u001b[1;33m)\u001b[0m\u001b[1;33m:\u001b[0m\u001b[1;33m\u001b[0m\u001b[1;33m\u001b[0m\u001b[0m\n\u001b[0;32m    569\u001b[0m         \u001b[0mindex\u001b[0m \u001b[1;33m=\u001b[0m \u001b[0mself\u001b[0m\u001b[1;33m.\u001b[0m\u001b[0m_next_index\u001b[0m\u001b[1;33m(\u001b[0m\u001b[1;33m)\u001b[0m  \u001b[1;31m# may raise StopIteration\u001b[0m\u001b[1;33m\u001b[0m\u001b[1;33m\u001b[0m\u001b[0m\n\u001b[1;32m--> 570\u001b[1;33m         \u001b[0mdata\u001b[0m \u001b[1;33m=\u001b[0m \u001b[0mself\u001b[0m\u001b[1;33m.\u001b[0m\u001b[0m_dataset_fetcher\u001b[0m\u001b[1;33m.\u001b[0m\u001b[0mfetch\u001b[0m\u001b[1;33m(\u001b[0m\u001b[0mindex\u001b[0m\u001b[1;33m)\u001b[0m  \u001b[1;31m# may raise StopIteration\u001b[0m\u001b[1;33m\u001b[0m\u001b[1;33m\u001b[0m\u001b[0m\n\u001b[0m\u001b[0;32m    571\u001b[0m         \u001b[1;32mif\u001b[0m \u001b[0mself\u001b[0m\u001b[1;33m.\u001b[0m\u001b[0m_pin_memory\u001b[0m\u001b[1;33m:\u001b[0m\u001b[1;33m\u001b[0m\u001b[1;33m\u001b[0m\u001b[0m\n\u001b[0;32m    572\u001b[0m             \u001b[0mdata\u001b[0m \u001b[1;33m=\u001b[0m \u001b[0m_utils\u001b[0m\u001b[1;33m.\u001b[0m\u001b[0mpin_memory\u001b[0m\u001b[1;33m.\u001b[0m\u001b[0mpin_memory\u001b[0m\u001b[1;33m(\u001b[0m\u001b[0mdata\u001b[0m\u001b[1;33m)\u001b[0m\u001b[1;33m\u001b[0m\u001b[1;33m\u001b[0m\u001b[0m\n",
      "\u001b[1;32mD:\\Users\\Marko\\Anaconda3\\lib\\site-packages\\torch\\utils\\data\\_utils\\fetch.py\u001b[0m in \u001b[0;36mfetch\u001b[1;34m(self, possibly_batched_index)\u001b[0m\n\u001b[0;32m     50\u001b[0m         \u001b[1;32melse\u001b[0m\u001b[1;33m:\u001b[0m\u001b[1;33m\u001b[0m\u001b[1;33m\u001b[0m\u001b[0m\n\u001b[0;32m     51\u001b[0m             \u001b[0mdata\u001b[0m \u001b[1;33m=\u001b[0m \u001b[0mself\u001b[0m\u001b[1;33m.\u001b[0m\u001b[0mdataset\u001b[0m\u001b[1;33m[\u001b[0m\u001b[0mpossibly_batched_index\u001b[0m\u001b[1;33m]\u001b[0m\u001b[1;33m\u001b[0m\u001b[1;33m\u001b[0m\u001b[0m\n\u001b[1;32m---> 52\u001b[1;33m         \u001b[1;32mreturn\u001b[0m \u001b[0mself\u001b[0m\u001b[1;33m.\u001b[0m\u001b[0mcollate_fn\u001b[0m\u001b[1;33m(\u001b[0m\u001b[0mdata\u001b[0m\u001b[1;33m)\u001b[0m\u001b[1;33m\u001b[0m\u001b[1;33m\u001b[0m\u001b[0m\n\u001b[0m",
      "\u001b[1;32mD:\\Users\\Marko\\Anaconda3\\lib\\site-packages\\torch\\utils\\data\\_utils\\collate.py\u001b[0m in \u001b[0;36mdefault_collate\u001b[1;34m(batch)\u001b[0m\n\u001b[0;32m    170\u001b[0m \u001b[1;33m\u001b[0m\u001b[0m\n\u001b[0;32m    171\u001b[0m         \u001b[1;32mif\u001b[0m \u001b[0misinstance\u001b[0m\u001b[1;33m(\u001b[0m\u001b[0melem\u001b[0m\u001b[1;33m,\u001b[0m \u001b[0mtuple\u001b[0m\u001b[1;33m)\u001b[0m\u001b[1;33m:\u001b[0m\u001b[1;33m\u001b[0m\u001b[1;33m\u001b[0m\u001b[0m\n\u001b[1;32m--> 172\u001b[1;33m             \u001b[1;32mreturn\u001b[0m \u001b[1;33m[\u001b[0m\u001b[0mdefault_collate\u001b[0m\u001b[1;33m(\u001b[0m\u001b[0msamples\u001b[0m\u001b[1;33m)\u001b[0m \u001b[1;32mfor\u001b[0m \u001b[0msamples\u001b[0m \u001b[1;32min\u001b[0m \u001b[0mtransposed\u001b[0m\u001b[1;33m]\u001b[0m  \u001b[1;31m# Backwards compatibility.\u001b[0m\u001b[1;33m\u001b[0m\u001b[1;33m\u001b[0m\u001b[0m\n\u001b[0m\u001b[0;32m    173\u001b[0m         \u001b[1;32melse\u001b[0m\u001b[1;33m:\u001b[0m\u001b[1;33m\u001b[0m\u001b[1;33m\u001b[0m\u001b[0m\n\u001b[0;32m    174\u001b[0m             \u001b[1;32mtry\u001b[0m\u001b[1;33m:\u001b[0m\u001b[1;33m\u001b[0m\u001b[1;33m\u001b[0m\u001b[0m\n",
      "\u001b[1;32mD:\\Users\\Marko\\Anaconda3\\lib\\site-packages\\torch\\utils\\data\\_utils\\collate.py\u001b[0m in \u001b[0;36m<listcomp>\u001b[1;34m(.0)\u001b[0m\n\u001b[0;32m    170\u001b[0m \u001b[1;33m\u001b[0m\u001b[0m\n\u001b[0;32m    171\u001b[0m         \u001b[1;32mif\u001b[0m \u001b[0misinstance\u001b[0m\u001b[1;33m(\u001b[0m\u001b[0melem\u001b[0m\u001b[1;33m,\u001b[0m \u001b[0mtuple\u001b[0m\u001b[1;33m)\u001b[0m\u001b[1;33m:\u001b[0m\u001b[1;33m\u001b[0m\u001b[1;33m\u001b[0m\u001b[0m\n\u001b[1;32m--> 172\u001b[1;33m             \u001b[1;32mreturn\u001b[0m \u001b[1;33m[\u001b[0m\u001b[0mdefault_collate\u001b[0m\u001b[1;33m(\u001b[0m\u001b[0msamples\u001b[0m\u001b[1;33m)\u001b[0m \u001b[1;32mfor\u001b[0m \u001b[0msamples\u001b[0m \u001b[1;32min\u001b[0m \u001b[0mtransposed\u001b[0m\u001b[1;33m]\u001b[0m  \u001b[1;31m# Backwards compatibility.\u001b[0m\u001b[1;33m\u001b[0m\u001b[1;33m\u001b[0m\u001b[0m\n\u001b[0m\u001b[0;32m    173\u001b[0m         \u001b[1;32melse\u001b[0m\u001b[1;33m:\u001b[0m\u001b[1;33m\u001b[0m\u001b[1;33m\u001b[0m\u001b[0m\n\u001b[0;32m    174\u001b[0m             \u001b[1;32mtry\u001b[0m\u001b[1;33m:\u001b[0m\u001b[1;33m\u001b[0m\u001b[1;33m\u001b[0m\u001b[0m\n",
      "\u001b[1;32mD:\\Users\\Marko\\Anaconda3\\lib\\site-packages\\torch\\utils\\data\\_utils\\collate.py\u001b[0m in \u001b[0;36mdefault_collate\u001b[1;34m(batch)\u001b[0m\n\u001b[0;32m    144\u001b[0m                 \u001b[1;32mraise\u001b[0m \u001b[0mTypeError\u001b[0m\u001b[1;33m(\u001b[0m\u001b[0mdefault_collate_err_msg_format\u001b[0m\u001b[1;33m.\u001b[0m\u001b[0mformat\u001b[0m\u001b[1;33m(\u001b[0m\u001b[0melem\u001b[0m\u001b[1;33m.\u001b[0m\u001b[0mdtype\u001b[0m\u001b[1;33m)\u001b[0m\u001b[1;33m)\u001b[0m\u001b[1;33m\u001b[0m\u001b[1;33m\u001b[0m\u001b[0m\n\u001b[0;32m    145\u001b[0m \u001b[1;33m\u001b[0m\u001b[0m\n\u001b[1;32m--> 146\u001b[1;33m             \u001b[1;32mreturn\u001b[0m \u001b[0mdefault_collate\u001b[0m\u001b[1;33m(\u001b[0m\u001b[1;33m[\u001b[0m\u001b[0mtorch\u001b[0m\u001b[1;33m.\u001b[0m\u001b[0mas_tensor\u001b[0m\u001b[1;33m(\u001b[0m\u001b[0mb\u001b[0m\u001b[1;33m)\u001b[0m \u001b[1;32mfor\u001b[0m \u001b[0mb\u001b[0m \u001b[1;32min\u001b[0m \u001b[0mbatch\u001b[0m\u001b[1;33m]\u001b[0m\u001b[1;33m)\u001b[0m\u001b[1;33m\u001b[0m\u001b[1;33m\u001b[0m\u001b[0m\n\u001b[0m\u001b[0;32m    147\u001b[0m         \u001b[1;32melif\u001b[0m \u001b[0melem\u001b[0m\u001b[1;33m.\u001b[0m\u001b[0mshape\u001b[0m \u001b[1;33m==\u001b[0m \u001b[1;33m(\u001b[0m\u001b[1;33m)\u001b[0m\u001b[1;33m:\u001b[0m  \u001b[1;31m# scalars\u001b[0m\u001b[1;33m\u001b[0m\u001b[1;33m\u001b[0m\u001b[0m\n\u001b[0;32m    148\u001b[0m             \u001b[1;32mreturn\u001b[0m \u001b[0mtorch\u001b[0m\u001b[1;33m.\u001b[0m\u001b[0mas_tensor\u001b[0m\u001b[1;33m(\u001b[0m\u001b[0mbatch\u001b[0m\u001b[1;33m)\u001b[0m\u001b[1;33m\u001b[0m\u001b[1;33m\u001b[0m\u001b[0m\n",
      "\u001b[1;32mD:\\Users\\Marko\\Anaconda3\\lib\\site-packages\\torch\\utils\\data\\_utils\\collate.py\u001b[0m in \u001b[0;36mdefault_collate\u001b[1;34m(batch)\u001b[0m\n\u001b[0;32m    136\u001b[0m             \u001b[0mstorage\u001b[0m \u001b[1;33m=\u001b[0m \u001b[0melem\u001b[0m\u001b[1;33m.\u001b[0m\u001b[0mstorage\u001b[0m\u001b[1;33m(\u001b[0m\u001b[1;33m)\u001b[0m\u001b[1;33m.\u001b[0m\u001b[0m_new_shared\u001b[0m\u001b[1;33m(\u001b[0m\u001b[0mnumel\u001b[0m\u001b[1;33m)\u001b[0m\u001b[1;33m\u001b[0m\u001b[1;33m\u001b[0m\u001b[0m\n\u001b[0;32m    137\u001b[0m             \u001b[0mout\u001b[0m \u001b[1;33m=\u001b[0m \u001b[0melem\u001b[0m\u001b[1;33m.\u001b[0m\u001b[0mnew\u001b[0m\u001b[1;33m(\u001b[0m\u001b[0mstorage\u001b[0m\u001b[1;33m)\u001b[0m\u001b[1;33m.\u001b[0m\u001b[0mresize_\u001b[0m\u001b[1;33m(\u001b[0m\u001b[0mlen\u001b[0m\u001b[1;33m(\u001b[0m\u001b[0mbatch\u001b[0m\u001b[1;33m)\u001b[0m\u001b[1;33m,\u001b[0m \u001b[1;33m*\u001b[0m\u001b[0mlist\u001b[0m\u001b[1;33m(\u001b[0m\u001b[0melem\u001b[0m\u001b[1;33m.\u001b[0m\u001b[0msize\u001b[0m\u001b[1;33m(\u001b[0m\u001b[1;33m)\u001b[0m\u001b[1;33m)\u001b[0m\u001b[1;33m)\u001b[0m\u001b[1;33m\u001b[0m\u001b[1;33m\u001b[0m\u001b[0m\n\u001b[1;32m--> 138\u001b[1;33m         \u001b[1;32mreturn\u001b[0m \u001b[0mtorch\u001b[0m\u001b[1;33m.\u001b[0m\u001b[0mstack\u001b[0m\u001b[1;33m(\u001b[0m\u001b[0mbatch\u001b[0m\u001b[1;33m,\u001b[0m \u001b[1;36m0\u001b[0m\u001b[1;33m,\u001b[0m \u001b[0mout\u001b[0m\u001b[1;33m=\u001b[0m\u001b[0mout\u001b[0m\u001b[1;33m)\u001b[0m\u001b[1;33m\u001b[0m\u001b[1;33m\u001b[0m\u001b[0m\n\u001b[0m\u001b[0;32m    139\u001b[0m     \u001b[1;32melif\u001b[0m \u001b[0melem_type\u001b[0m\u001b[1;33m.\u001b[0m\u001b[0m__module__\u001b[0m \u001b[1;33m==\u001b[0m \u001b[1;34m'numpy'\u001b[0m \u001b[1;32mand\u001b[0m \u001b[0melem_type\u001b[0m\u001b[1;33m.\u001b[0m\u001b[0m__name__\u001b[0m \u001b[1;33m!=\u001b[0m \u001b[1;34m'str_'\u001b[0m\u001b[0;31m \u001b[0m\u001b[0;31m\\\u001b[0m\u001b[1;33m\u001b[0m\u001b[1;33m\u001b[0m\u001b[0m\n\u001b[0;32m    140\u001b[0m             \u001b[1;32mand\u001b[0m \u001b[0melem_type\u001b[0m\u001b[1;33m.\u001b[0m\u001b[0m__name__\u001b[0m \u001b[1;33m!=\u001b[0m \u001b[1;34m'string_'\u001b[0m\u001b[1;33m:\u001b[0m\u001b[1;33m\u001b[0m\u001b[1;33m\u001b[0m\u001b[0m\n",
      "\u001b[1;31mRuntimeError\u001b[0m: [enforce fail at C:\\actions-runner\\_work\\pytorch\\pytorch\\builder\\windows\\pytorch\\c10\\core\\impl\\alloc_cpu.cpp:81] data. DefaultCPUAllocator: not enough memory: you tried to allocate 7680000 bytes."
     ]
    }
   ],
   "source": [
    "lss, lss_t = train(default_args, train_loader, test_loader, diva, optimizer, 1000,273,save_folder=\"new/DOUBLEHVAE\",save_interval=5)"
   ]
  },
  {
   "cell_type": "code",
   "execution_count": null,
   "metadata": {},
   "outputs": [],
   "source": []
  },
  {
   "cell_type": "code",
   "execution_count": null,
   "metadata": {},
   "outputs": [],
   "source": []
  },
  {
   "cell_type": "code",
   "execution_count": null,
   "metadata": {},
   "outputs": [],
   "source": []
  },
  {
   "cell_type": "code",
   "execution_count": null,
   "metadata": {},
   "outputs": [],
   "source": []
  },
  {
   "cell_type": "code",
   "execution_count": null,
   "metadata": {
    "colab": {
     "base_uri": "https://localhost:8080/",
     "height": 1000
    },
    "executionInfo": {
     "elapsed": 4182003,
     "status": "ok",
     "timestamp": 1647010362327,
     "user": {
      "displayName": "Marko Petkovic",
      "photoUrl": "https://lh3.googleusercontent.com/a-/AOh14Gijd0e9r3I1vRZVN6DEwl16XpJxxS1oSAKunOnfZQ=s64",
      "userId": "11987583535390684770"
     },
     "user_tz": -60
    },
    "id": "NprX9l7G73MJ",
    "outputId": "e970b2ef-1d7d-4702-dd1f-3bb4b59c0326"
   },
   "outputs": [],
   "source": [
    "lss2, lss_t2 = train(default_args, train_loader, test_loader, diva, optimizer, 1000, 500, save_folder=\"VAEFC\")"
   ]
  },
  {
   "cell_type": "code",
   "execution_count": null,
   "metadata": {
    "scrolled": true
   },
   "outputs": [],
   "source": [
    "lss, lss_t = train(default_args, train_loader, test_loader, diva, optimizer, 1600, 1000, save_folder=\"VAEFC\")"
   ]
  },
  {
   "cell_type": "code",
   "execution_count": null,
   "metadata": {
    "id": "c4r_UyPUGXqT"
   },
   "outputs": [],
   "source": [
    "def plot_loss_acc(lss, lss_t):\n",
    "    fig,ax = plt.subplots()\n",
    "    ax.plot(lss, label=\"train loss\")\n",
    "    ax.plot(lss_t, label = \"test loss\")\n",
    "    #ax1 = ax.twinx()\n",
    "    #ax1.plot(yacc, label = \"train accuracy\", ls='--')\n",
    "    #ax1.plot(yacc_t, label = \"test accuracy\", ls='--')\n",
    "\n",
    "    lines, labels = ax.get_legend_handles_labels()\n",
    "    #lines2, labels2 = ax1.get_legend_handles_labels()\n",
    "\n",
    "    ax.legend(lines, labels)"
   ]
  },
  {
   "cell_type": "code",
   "execution_count": null,
   "metadata": {
    "colab": {
     "base_uri": "https://localhost:8080/",
     "height": 266
    },
    "executionInfo": {
     "elapsed": 857,
     "status": "ok",
     "timestamp": 1645822416415,
     "user": {
      "displayName": "Marko Petkovic",
      "photoUrl": "https://lh3.googleusercontent.com/a-/AOh14Gijd0e9r3I1vRZVN6DEwl16XpJxxS1oSAKunOnfZQ=s64",
      "userId": "11987583535390684770"
     },
     "user_tz": -60
    },
    "id": "fTFZZmoguwtU",
    "outputId": "540c8c1f-99d7-4931-c102-7c96747243aa"
   },
   "outputs": [],
   "source": [
    "plot_loss_acc(lss, lss_t)"
   ]
  },
  {
   "cell_type": "code",
   "execution_count": null,
   "metadata": {
    "colab": {
     "base_uri": "https://localhost:8080/",
     "height": 265
    },
    "executionInfo": {
     "elapsed": 557,
     "status": "ok",
     "timestamp": 1645623855467,
     "user": {
      "displayName": "Marko Petkovic",
      "photoUrl": "https://lh3.googleusercontent.com/a/default-user=s64",
      "userId": "04006351469182865246"
     },
     "user_tz": -60
    },
    "id": "mq2FG26TznE1",
    "outputId": "152eddd3-a440-4b25-c437-498efb0a7ffe"
   },
   "outputs": [],
   "source": [
    "plot_loss_acc(lss3, lss_t3, yacc3, yacc_t3)"
   ]
  },
  {
   "cell_type": "code",
   "execution_count": null,
   "metadata": {
    "id": "9FyP02qPdgso"
   },
   "outputs": [],
   "source": [
    "def plot_change_latent_var(diva, lat_space=\"y\", var_idx=[0,1,2,3,4,5,6,7], step = 5):\n",
    "    a = next(enumerate(test_loader))\n",
    "    with torch.no_grad():\n",
    "        diva.eval()\n",
    "        d = a[1][2][:len(var_idx)].to(DEVICE).float()\n",
    "        x = a[1][0][:len(var_idx)].to(DEVICE).float()\n",
    "        y = a[1][1][:len(var_idx)].to(DEVICE).float()\n",
    "\n",
    "        zx, zx_sc = diva.qzx(x)\n",
    "        zy, zy_sc = diva.qzy(x)\n",
    "        zd, zd_sc =  diva.qzd(x)\n",
    "\n",
    "        print(torch.max(zy), torch.min(zy), \"sdmax:\", torch.max(zy_sc))\n",
    "\n",
    "        out = change(zx, zy, zd, var_idx, lat_space, diva, step)\n",
    "    \n",
    "    fig, ax = plt.subplots(ncols=out.shape[0],nrows=len(var_idx),figsize=(10*4*out.shape[0],10*len(var_idx)))\n",
    "    for i in range(out.shape[0]):\n",
    "      for j in range(len(var_idx)):\n",
    "        ax[j,i].imshow(out[i,j])"
   ]
  },
  {
   "cell_type": "code",
   "execution_count": null,
   "metadata": {
    "id": "x6kJu1APenFe"
   },
   "outputs": [],
   "source": [
    "def change(zx, zy, zd, idx, lat = \"y\", model=diva, step = 2):\n",
    "    \n",
    "    dif = np.arange(-30,15,step)\n",
    "    print(torch.max(zy), torch.min(zy))\n",
    "    out = np.zeros((dif.shape[0], len(idx), 25, 100 ,3))  \n",
    "    #print(zy.shape, dif.shape[0])\n",
    "    for i in range(dif.shape[0]):\n",
    "      for j in range(len(idx)):\n",
    "        if lat == \"y\":\n",
    "            zy[j,idx] = dif[i]\n",
    "        elif lat == \"x\":\n",
    "            zx[j,idx] = dif[i]\n",
    "        elif lat == \"d\":\n",
    "            zd[j,idx] = dif[i]\n",
    "        len_, bar, col = model.px(zd[j],zx[j],zy[j])\n",
    "        out[i,j] = model.px.reconstruct_image(len_[None,:], bar, col)\n",
    "    \n",
    "    return out\n",
    "\n"
   ]
  },
  {
   "cell_type": "code",
   "execution_count": null,
   "metadata": {
    "colab": {
     "base_uri": "https://localhost:8080/",
     "height": 243
    },
    "executionInfo": {
     "elapsed": 33513,
     "status": "ok",
     "timestamp": 1645623900042,
     "user": {
      "displayName": "Marko Petkovic",
      "photoUrl": "https://lh3.googleusercontent.com/a/default-user=s64",
      "userId": "04006351469182865246"
     },
     "user_tz": -60
    },
    "id": "4U1JHmTKh0cE",
    "outputId": "b0a1850e-9f0d-4163-813b-8686f4bb05fc"
   },
   "outputs": [],
   "source": [
    "plot_change_latent_var(diva)"
   ]
  },
  {
   "cell_type": "code",
   "execution_count": null,
   "metadata": {
    "id": "cpZoRZMGHcui"
   },
   "outputs": [],
   "source": [
    "fig,ax = plt.subplots()\n",
    "ax.plot(np.arange(50,120), [i.cpu().detach().numpy() for i in lss2], label=\"train loss\")\n",
    "ax.plot(np.arange(50,120), [i.cpu().detach().numpy() for i in lss_t2], label = \"testloss\")\n",
    "ax1 = ax.twinx()\n",
    "ax1.plot(np.arange(50,120), yacc2, label = \"train\")\n",
    "ax1.plot(np.arange(50,120), yacc_t2, label = \"test\")\n",
    "\n",
    "plt.legend()"
   ]
  },
  {
   "cell_type": "code",
   "execution_count": null,
   "metadata": {
    "colab": {
     "base_uri": "https://localhost:8080/",
     "height": 283
    },
    "executionInfo": {
     "elapsed": 681,
     "status": "ok",
     "timestamp": 1645563980004,
     "user": {
      "displayName": "Marko Petkovic",
      "photoUrl": "https://lh3.googleusercontent.com/a-/AOh14Gijd0e9r3I1vRZVN6DEwl16XpJxxS1oSAKunOnfZQ=s64",
      "userId": "11987583535390684770"
     },
     "user_tz": -60
    },
    "id": "OQMW85JXM6oO",
    "outputId": "dd28a6c2-0024-498e-d571-c705ee67fbd6"
   },
   "outputs": [],
   "source": [
    "fig,ax = plt.subplots()\n",
    "ax.plot(np.arange(120,180), [i.cpu().detach().numpy() for i in lss3], label=\"train loss\")\n",
    "ax.plot(np.arange(120,180), [i.cpu().detach().numpy() for i in lss_t3], label = \"testloss\")\n",
    "ax1 = ax.twinx()\n",
    "ax1.plot(np.arange(120,180), yacc3, label = \"train\",c='green')\n",
    "ax1.plot(np.arange(120,180), yacc_t3, label = \"test\")\n",
    "\n",
    "plt.legend()"
   ]
  },
  {
   "cell_type": "markdown",
   "metadata": {
    "id": "whsgNltzXDhK"
   },
   "source": [
    "# Model Evaluation"
   ]
  },
  {
   "cell_type": "markdown",
   "metadata": {
    "id": "VfcwhSNIjqIE"
   },
   "source": [
    "## Sampling from trained model"
   ]
  },
  {
   "cell_type": "code",
   "execution_count": null,
   "metadata": {
    "id": "4NWGV4Xd7bn8"
   },
   "outputs": [],
   "source": []
  },
  {
   "cell_type": "code",
   "execution_count": null,
   "metadata": {
    "id": "3z5XA4QI1Mb1"
   },
   "outputs": [],
   "source": [
    "def plot_latent_space(lat_space=\"y\"):\n",
    "    '''\n",
    "    lat_space: y, d, x\n",
    "    '''\n",
    "\n",
    "    "
   ]
  },
  {
   "cell_type": "code",
   "execution_count": null,
   "metadata": {
    "colab": {
     "base_uri": "https://localhost:8080/",
     "height": 336
    },
    "executionInfo": {
     "elapsed": 1897,
     "status": "ok",
     "timestamp": 1645556291755,
     "user": {
      "displayName": "Marko Petkovic",
      "photoUrl": "https://lh3.googleusercontent.com/a-/AOh14Gijd0e9r3I1vRZVN6DEwl16XpJxxS1oSAKunOnfZQ=s64",
      "userId": "11987583535390684770"
     },
     "user_tz": -60
    },
    "id": "USZ7nIDugT1S",
    "outputId": "174d53bb-845f-458b-ca85-9d749c9c0865"
   },
   "outputs": [],
   "source": [
    "plot(x, out, 0)"
   ]
  },
  {
   "cell_type": "code",
   "execution_count": null,
   "metadata": {
    "colab": {
     "base_uri": "https://localhost:8080/",
     "height": 230
    },
    "executionInfo": {
     "elapsed": 1646,
     "status": "ok",
     "timestamp": 1645550689935,
     "user": {
      "displayName": "Marko Petkovic",
      "photoUrl": "https://lh3.googleusercontent.com/a-/AOh14Gijd0e9r3I1vRZVN6DEwl16XpJxxS1oSAKunOnfZQ=s64",
      "userId": "11987583535390684770"
     },
     "user_tz": -60
    },
    "id": "OE3qVVFFLaPm",
    "outputId": "93953e16-3bda-464b-b765-3aedb9fbe428"
   },
   "outputs": [],
   "source": [
    "fig, ax = plt.subplots(nrows=3, ncols=3)\n",
    "for i in range(9):\n",
    "  ax[i//3, i%3].imshow(x[i].cpu().permute(1,2,0))\n",
    "  \n",
    "plt.savefig('divastamporg.png')"
   ]
  },
  {
   "cell_type": "code",
   "execution_count": null,
   "metadata": {
    "id": "RRQU05xQEx28"
   },
   "outputs": [],
   "source": []
  }
 ],
 "metadata": {
  "accelerator": "GPU",
  "colab": {
   "collapsed_sections": [],
   "name": "StampVAE (Beta)",
   "provenance": []
  },
  "kernelspec": {
   "display_name": "Python 3",
   "language": "python",
   "name": "python3"
  },
  "language_info": {
   "codemirror_mode": {
    "name": "ipython",
    "version": 3
   },
   "file_extension": ".py",
   "mimetype": "text/x-python",
   "name": "python",
   "nbconvert_exporter": "python",
   "pygments_lexer": "ipython3",
   "version": "3.7.6"
  }
 },
 "nbformat": 4,
 "nbformat_minor": 1
}
