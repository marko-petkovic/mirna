{
 "cells": [
  {
   "cell_type": "code",
   "execution_count": 1,
   "metadata": {
    "executionInfo": {
     "elapsed": 6,
     "status": "ok",
     "timestamp": 1647023261840,
     "user": {
      "displayName": "Marko Petkovic",
      "photoUrl": "https://lh3.googleusercontent.com/a-/AOh14Gijd0e9r3I1vRZVN6DEwl16XpJxxS1oSAKunOnfZQ=s64",
      "userId": "11987583535390684770"
     },
     "user_tz": -60
    },
    "id": "UuXEtFCubCjx"
   },
   "outputs": [],
   "source": [
    "link = 'D:/users/Marko/downloads/mirna/'"
   ]
  },
  {
   "cell_type": "markdown",
   "metadata": {
    "id": "MgMR4QspjvRl"
   },
   "source": [
    "# Imports"
   ]
  },
  {
   "cell_type": "code",
   "execution_count": 2,
   "metadata": {
    "executionInfo": {
     "elapsed": 5,
     "status": "ok",
     "timestamp": 1647023261840,
     "user": {
      "displayName": "Marko Petkovic",
      "photoUrl": "https://lh3.googleusercontent.com/a-/AOh14Gijd0e9r3I1vRZVN6DEwl16XpJxxS1oSAKunOnfZQ=s64",
      "userId": "11987583535390684770"
     },
     "user_tz": -60
    },
    "id": "aXljY6Cp4zU-"
   },
   "outputs": [],
   "source": [
    "%load_ext tensorboard"
   ]
  },
  {
   "cell_type": "code",
   "execution_count": 3,
   "metadata": {
    "colab": {
     "base_uri": "https://localhost:8080/"
    },
    "executionInfo": {
     "elapsed": 31000,
     "status": "ok",
     "timestamp": 1647023292835,
     "user": {
      "displayName": "Marko Petkovic",
      "photoUrl": "https://lh3.googleusercontent.com/a-/AOh14Gijd0e9r3I1vRZVN6DEwl16XpJxxS1oSAKunOnfZQ=s64",
      "userId": "11987583535390684770"
     },
     "user_tz": -60
    },
    "id": "VgKU5wNzDK4F",
    "outputId": "2edd95bf-9577-4772-eeca-95c5d32cf026"
   },
   "outputs": [],
   "source": [
    "import sys\n",
    "#sys.path.insert(0,'/content/drive/MyDrive/Marko/master')\n",
    "sys.path.insert(0, link)\n",
    "import numpy as np\n",
    "import matplotlib.pyplot as plt\n",
    "\n",
    "#import tensorflow as tf\n",
    "\n",
    "import torch\n",
    "import torch.optim as optim\n",
    "import torch.nn as nn\n",
    "import torch.distributions as dist\n",
    "\n",
    "from torch.nn import functional as F\n",
    "from torchinfo import summary\n",
    "from torch.utils.tensorboard import SummaryWriter\n",
    "from torch.utils.data import Dataset, DataLoader\n",
    "from torch.autograd import Variable\n",
    "\n",
    "from sklearn.preprocessing import OneHotEncoder\n",
    "\n",
    "from tqdm import tqdm\n",
    "from tqdm import trange\n",
    "\n",
    "import datetime\n",
    "import math\n",
    "\n",
    "\n",
    "writer = SummaryWriter(f\"{link}/saved_models/new/RHVAE/tensorboard\")"
   ]
  },
  {
   "cell_type": "code",
   "execution_count": 4,
   "metadata": {
    "executionInfo": {
     "elapsed": 6,
     "status": "ok",
     "timestamp": 1647023292836,
     "user": {
      "displayName": "Marko Petkovic",
      "photoUrl": "https://lh3.googleusercontent.com/a-/AOh14Gijd0e9r3I1vRZVN6DEwl16XpJxxS1oSAKunOnfZQ=s64",
      "userId": "11987583535390684770"
     },
     "user_tz": -60
    },
    "id": "HuLsYxyh6_ZM"
   },
   "outputs": [],
   "source": [
    "DEVICE = torch.device(\"cuda\" if torch.cuda.is_available() else \"cpu\")"
   ]
  },
  {
   "cell_type": "code",
   "execution_count": 5,
   "metadata": {
    "scrolled": true
   },
   "outputs": [
    {
     "data": {
      "text/plain": [
       "device(type='cuda')"
      ]
     },
     "execution_count": 5,
     "metadata": {},
     "output_type": "execute_result"
    }
   ],
   "source": [
    "DEVICE"
   ]
  },
  {
   "cell_type": "markdown",
   "metadata": {
    "id": "axFkNf0cjx2V"
   },
   "source": [
    "# Model Classes"
   ]
  },
  {
   "cell_type": "code",
   "execution_count": 6,
   "metadata": {
    "executionInfo": {
     "elapsed": 6,
     "status": "ok",
     "timestamp": 1647023292836,
     "user": {
      "displayName": "Marko Petkovic",
      "photoUrl": "https://lh3.googleusercontent.com/a-/AOh14Gijd0e9r3I1vRZVN6DEwl16XpJxxS1oSAKunOnfZQ=s64",
      "userId": "11987583535390684770"
     },
     "user_tz": -60
    },
    "id": "ae7NZhZGj7Zi"
   },
   "outputs": [],
   "source": [
    "class diva_args:\n",
    "\n",
    "    def __init__(self, z1_dim=256, z2_dim=256, d_dim=45, x_dim=7500, y_dim=2,\n",
    "                 h_dim = 256, h2_dim = 256, number_components = 500,\n",
    "                 beta=1, rec_beta = 20, \n",
    "                 rec_gamma = 1, warmup = 1, prewarmup = 1):\n",
    "\n",
    "        self.z1_dim = z1_dim\n",
    "        self.z2_dim = z2_dim\n",
    "        self.d_dim = d_dim\n",
    "        self.x_dim = x_dim\n",
    "        self.y_dim = y_dim\n",
    "        \n",
    "        self.h_dim = h_dim\n",
    "        self.h2_dim = h2_dim\n",
    "        \n",
    "        self.number_components = number_components\n",
    "        \n",
    "        self.beta = beta\n",
    "        self.rec_beta = rec_beta\n",
    "        self.rec_gamma = rec_gamma\n",
    "        self.warmup = warmup\n",
    "        self.prewarmup = prewarmup\n"
   ]
  },
  {
   "cell_type": "markdown",
   "metadata": {
    "id": "tb1vH-a1j7Rf"
   },
   "source": [
    "## Dataset Class"
   ]
  },
  {
   "cell_type": "code",
   "execution_count": 7,
   "metadata": {
    "executionInfo": {
     "elapsed": 328,
     "status": "ok",
     "timestamp": 1647023293159,
     "user": {
      "displayName": "Marko Petkovic",
      "photoUrl": "https://lh3.googleusercontent.com/a-/AOh14Gijd0e9r3I1vRZVN6DEwl16XpJxxS1oSAKunOnfZQ=s64",
      "userId": "11987583535390684770"
     },
     "user_tz": -60
    },
    "id": "D6ouvuZX3WPs"
   },
   "outputs": [],
   "source": [
    "class MicroRNADataset(Dataset):\n",
    "\n",
    "    def __init__(self, ds='train', create_encodings=False, use_subset=False):\n",
    "        \n",
    "        # loading images\n",
    "        self.images = np.load(f'{link}/data/modmirbase_{ds}_images.npz')['arr_0']/255\n",
    "        \n",
    "        \n",
    "        # loading labels\n",
    "        print('Loading Labels! (~10s)')     \n",
    "        ohe = OneHotEncoder(categories='auto', sparse=False)\n",
    "        labels = np.load(f'{link}/data/modmirbase_{ds}_labels.npz')['arr_0']\n",
    "        self.labels = ohe.fit_transform(labels)\n",
    "        \n",
    "        # loading encoded images\n",
    "        print(\"loading encodings\")\n",
    "        if create_encodings:\n",
    "            x = self.get_encoded_values(self.images, ds)\n",
    "        else:\n",
    "            x = np.load(f'{link}/data/modmirbase_{ds}_images_RNN.npz')\n",
    "        \n",
    "        self.x = x\n",
    "        \n",
    "        self.mountain = np.load(f'{link}/data/modmirbase_{ds}_mountain.npy')\n",
    "        \n",
    "        \n",
    "        # loading names\n",
    "        print('Loading Names! (~5s)')\n",
    "        names =  np.load(f'{link}/data/modmirbase_{ds}_names.npz')['arr_0']\n",
    "        names = [i.decode('utf-8') for i in names]\n",
    "        self.species = ['mmu', 'prd', 'hsa', 'ptr', 'efu', 'cbn', 'gma', 'pma',\n",
    "                        'cel', 'gga', 'ipu', 'ptc', 'mdo', 'cgr', 'bta', 'cin', \n",
    "                        'ppy', 'ssc', 'ath', 'cfa', 'osa', 'mtr', 'gra', 'mml',\n",
    "                        'stu', 'bdi', 'rno', 'oan', 'dre', 'aca', 'eca', 'chi',\n",
    "                        'bmo', 'ggo', 'aly', 'dps', 'mdm', 'ame', 'ppc', 'ssa',\n",
    "                        'ppt', 'tca', 'dme', 'sbi']\n",
    "        # assigning a species label to each observation from species\n",
    "        # with more than 200 observations from past research\n",
    "        self.names = []\n",
    "        for i in names:\n",
    "            append = False\n",
    "            for j in self.species:\n",
    "                if j in i.lower():\n",
    "                    self.names.append(j)\n",
    "                    append = True\n",
    "                    break\n",
    "            if not append:\n",
    "                if 'random' in i.lower() or i.isdigit():\n",
    "                    self.names.append('hsa')\n",
    "                else:\n",
    "                    self.names.append('notfound')\n",
    "        \n",
    "        # performing one hot encoding\n",
    "        ohe = OneHotEncoder(categories='auto', sparse=False)\n",
    "        \n",
    "       \n",
    "        \n",
    "        self.names_ohe = ohe.fit_transform(np.array(self.names).reshape(-1,1))\n",
    "          \n",
    "        if use_subset:    \n",
    "            idxes = [i == 'hsa' and np.random.choice([True, False]) for i in self.names]\n",
    "            self.names_ohe = self.names_ohe[idxes]\n",
    "            self.labels = self.labels[idxes]\n",
    "            self.images = self.images[idxes]\n",
    "            self.x = self.x[idxes]\n",
    "            self.mountain = self.mountain[idxes]\n",
    "    \n",
    "    def __len__(self):\n",
    "        return(self.images.shape[0])\n",
    "\n",
    "    def __getitem__(self, idx):\n",
    "        d = self.names_ohe[idx]\n",
    "        y = self.labels[idx]\n",
    "        x = self.images[idx]\n",
    "        x = np.transpose(x, (2,0,1))\n",
    "        x2 = self.x[idx]\n",
    "        mount = self.mountain[idx]                        \n",
    "        return (x, y, d, x2, mount)\n",
    "\n",
    "\n",
    "    def get_encoded_values(self, x, ds):\n",
    "        \"\"\"\n",
    "        given an image or batch of images\n",
    "        returns length of strand, length of bars and colors of bars\n",
    "        idx 0 - 5: color top bar\n",
    "        idx 6 - 11: color bot bar\n",
    "        idx 12: length top bar\n",
    "        idx 13: length bot bar\n",
    "        \"\"\"\n",
    "        n = x.shape[0]\n",
    "        x = np.transpose(x, (0,3,1,2))\n",
    "        out = np.zeros((n,100,14), dtype=np.uint8)\n",
    "        \n",
    "        for i in range(n):\n",
    "            if i % 100 == 0:\n",
    "                print(f'at {i} out of {n}')\n",
    "            for j in range(100):\n",
    "                \n",
    "                # check color of top bar\n",
    "                col = self.get_color(x[i,:,12,j])\n",
    "                out[i, j, col] = 1\n",
    "                if col < 5:\n",
    "                # check length of top bar\n",
    "                    len1 = 0\n",
    "                    # loop until white pixel\n",
    "                    while not (x[i,:,12-len1,j] == np.array([1.,1.,1.])).all():\n",
    "                        len1 += 1\n",
    "                        if 13-len1 == 0:\n",
    "                            break\n",
    "                    out[i, j, 12] = len1\n",
    "\n",
    "                # check color of bottom bar\n",
    "                col = self.get_color(x[i,:,13,j])\n",
    "                out[i, j, col+6] = 1\n",
    "                if col < 5:\n",
    "                    len2 = 0\n",
    "                    while not (x[i,:,13+len2,j] == np.array([1.,1.,1.])).all():\n",
    "                        len2 += 1\n",
    "                        if 13+len2 == 25:\n",
    "                            break\n",
    "                    out[i, j, 13] = len2\n",
    "\n",
    "        with open(f'{link}/data/modmirbase_{ds}_images_RNN.npz', 'wb') as f:\n",
    "            np.save(f, out)\n",
    "        \n",
    "        \n",
    "\n",
    "        return out\n",
    "\n",
    "        \n",
    "        \n",
    "    \n",
    "    def get_color(self, pixel):\n",
    "        \"\"\"\n",
    "        returns the encoded value for a pixel\n",
    "        \"\"\"\n",
    "        if (pixel == np.array([0,0,0])).all():  \n",
    "            return 0 # black\n",
    "        elif (pixel == np.array([1,0,0])).all():  \n",
    "            return 1 # red\n",
    "        elif (pixel == np.array([0,0,1])).all():  \n",
    "            return 2 # blue\n",
    "        elif (pixel == np.array([0,1,0])).all():  \n",
    "            return 3 # green\n",
    "        elif (pixel == np.array([1,1,0])).all():  \n",
    "            return 4 # yellow\n",
    "        elif (pixel == np.array([1,1,1])).all():\n",
    "            return 5 # white\n",
    "        else:\n",
    "            print(\"Something wrong!\")\n"
   ]
  },
  {
   "cell_type": "markdown",
   "metadata": {
    "id": "Xxj-WGXMj-Ne"
   },
   "source": [
    "## Decoder classes"
   ]
  },
  {
   "cell_type": "code",
   "execution_count": 8,
   "metadata": {
    "executionInfo": {
     "elapsed": 5,
     "status": "ok",
     "timestamp": 1647023293160,
     "user": {
      "displayName": "Marko Petkovic",
      "photoUrl": "https://lh3.googleusercontent.com/a-/AOh14Gijd0e9r3I1vRZVN6DEwl16XpJxxS1oSAKunOnfZQ=s64",
      "userId": "11987583535390684770"
     },
     "user_tz": -60
    },
    "id": "RKizJuchX9uG"
   },
   "outputs": [],
   "source": [
    "# Decoders\n",
    "class px(nn.Module):\n",
    "    def __init__(self, d_dim, x_dim, y_dim, z1_dim, z2_dim, \n",
    "                 h_dim, h2_dim, dim0=2000, dim1=800, dim2=400):\n",
    "        super(px, self).__init__()\n",
    "\n",
    "        \n",
    "        # p(z1|z2)\n",
    "        \n",
    "        self.p_z1 = nn.Sequential(nn.Linear(z2_dim+200, h2_dim),\n",
    "                                  nn.ReLU(),\n",
    "                                  nn.Linear(h2_dim, h2_dim),\n",
    "                                  nn.ReLU())\n",
    "        self.mu_z1 = nn.Sequential(nn.Linear(h2_dim, z1_dim))\n",
    "        self.si_z1 = nn.Sequential(nn.Linear(h2_dim, z1_dim), nn.Softplus())\n",
    "        \n",
    "        \n",
    "        # p(x|z1,z2,m)\n",
    "        \n",
    "        self.px_z1 = nn.Sequential(nn.Linear(z1_dim, h_dim),\n",
    "                                   nn.ReLU())\n",
    "        self.px_z2 = nn.Sequential(nn.Linear(z2_dim+200, h_dim),\n",
    "                                   nn.ReLU())\n",
    "        # seperate decoders for length of RNA, color and size of bars\n",
    "        self.fc = nn.Sequential(nn.Linear(2*h_dim, 14),\n",
    "                                    nn.ReLU())\n",
    "        \n",
    "        self.rnn1 = nn.LSTM(14, 64, num_layers=2, batch_first=True)\n",
    "        self.rnn2 = nn.LSTM(64,128, num_layers=2, batch_first=True)\n",
    "        self.fc2 = nn.Sequential(nn.Linear(128, 128), nn.ReLU(), nn.Dropout(0.4), nn.Linear(128,14))\n",
    "        #self.f1 = nn.Linear(64, 14)\n",
    "        \n",
    "        \n",
    "        \n",
    "        \n",
    "    def forward(self, z1, mz2, x2):\n",
    "        \n",
    "        # p(z1|z2)\n",
    "        pz1 = self.p_z1(mz2)\n",
    "        pz1_m = self.mu_z1(pz1)\n",
    "        pz1_s = self.si_z1(pz1)\n",
    "        \n",
    "        # p(x|z1,z2,m)\n",
    "        hz1 = self.px_z1(z1)\n",
    "        hz2 = self.px_z2(mz2)\n",
    "        h = torch.cat([hz1,hz2],1)\n",
    "        h = self.fc(h).unsqueeze(1)\n",
    "        \n",
    "        bs = x2.shape[0]\n",
    "        \n",
    "        x2 = x2[:,:-1,:]\n",
    "        # initial input\n",
    "        zeros = torch.zeros((bs, 1, 14)).to(DEVICE)\n",
    "        \n",
    "        inputs = torch.cat([h, zeros, x2], dim=1)\n",
    "        rnn_o, rnn_s = self.rnn1(inputs)\n",
    "        rnn_o, rnn_s = self.rnn2(rnn_o)\n",
    "        output = self.fc2(rnn_o)[:, 1:]\n",
    "        \n",
    "        #output[:,:,:6] = nn.Softmax(dim=2)(output[:,:,:6])\n",
    "        \n",
    "        #output[:,:,6:12] = nn.Softmax(dim=2)(output[:,:,6:12])\n",
    "        \n",
    "        return output, pz1_m, pz1_s\n",
    "        \n",
    "        \n",
    "    def reconstruct_image(self, out, sample=False):\n",
    "        \"\"\"\n",
    "        reconstructs RNA image given output from decoder\n",
    "        even indexes of len_bar and col_bar   -> top\n",
    "        uneven indexes of len_bar and col_bar -> bottom\n",
    "        function does not support sampling yet\n",
    "        color reconstructions: 0: black\n",
    "                               1: red\n",
    "                               2: blue\n",
    "                               3: green\n",
    "                               4: yellow\n",
    "        \"\"\"\n",
    "        color_dict = {\n",
    "                  0: np.array([0,0,0]), # black\n",
    "                  1: np.array([1,0,0]), # red\n",
    "                  3: np.array([0,1,0]), # green\n",
    "                  2: np.array([0,0,1]), # blue\n",
    "                  4: np.array([1,1,0]), # yellow\n",
    "                  5: np.array([1,1,1])  # white\n",
    "                  }\n",
    "        \n",
    "        out = out.cpu().numpy()\n",
    "        n = out.shape[0]\n",
    "        output = np.ones((n,25,100,3))\n",
    "\n",
    "        white = np.array([1,1,1])\n",
    "        \n",
    "        for i in range(n):\n",
    "            for j in range(100):\n",
    "                col1 = color_dict[np.argmax(out[i,j,:6])]\n",
    "                col2 = color_dict[np.argmax(out[i,j,6:12])]\n",
    "                len1 = out[i,j,12]\n",
    "                len2 = out[i,j,13]\n",
    "                    \n",
    "                \n",
    "                h1 = max(0,13-round(len1))\n",
    "                # paint upper bar\n",
    "                output[i, h1:13, j] = col1\n",
    "                h2 = min(25,13+round(len2))\n",
    "                # paint lower bar\n",
    "                output[i, 13:h2, j] = col2\n",
    "        \n",
    "        \n",
    "        return output\n"
   ]
  },
  {
   "cell_type": "code",
   "execution_count": 9,
   "metadata": {},
   "outputs": [
    {
     "data": {
      "text/plain": [
       "(4, 3)"
      ]
     },
     "execution_count": 9,
     "metadata": {},
     "output_type": "execute_result"
    }
   ],
   "source": [
    "int(np.round(3.7, 0)),int(3.7)"
   ]
  },
  {
   "cell_type": "code",
   "execution_count": 10,
   "metadata": {
    "executionInfo": {
     "elapsed": 4,
     "status": "ok",
     "timestamp": 1647023293160,
     "user": {
      "displayName": "Marko Petkovic",
      "photoUrl": "https://lh3.googleusercontent.com/a-/AOh14Gijd0e9r3I1vRZVN6DEwl16XpJxxS1oSAKunOnfZQ=s64",
      "userId": "11987583535390684770"
     },
     "user_tz": -60
    },
    "id": "1y8G2S1zxzTH"
   },
   "outputs": [
    {
     "data": {
      "text/plain": [
       "==========================================================================================\n",
       "Layer (type:depth-idx)                   Output Shape              Param #\n",
       "==========================================================================================\n",
       "px                                       --                        --\n",
       "├─Sequential: 1-1                        [1, 256]                  --\n",
       "│    └─Linear: 2-1                       [1, 256]                  116,992\n",
       "│    └─ReLU: 2-2                         [1, 256]                  --\n",
       "│    └─Linear: 2-3                       [1, 256]                  65,792\n",
       "│    └─ReLU: 2-4                         [1, 256]                  --\n",
       "├─Sequential: 1-2                        [1, 256]                  --\n",
       "│    └─Linear: 2-5                       [1, 256]                  65,792\n",
       "├─Sequential: 1-3                        [1, 256]                  --\n",
       "│    └─Linear: 2-6                       [1, 256]                  65,792\n",
       "│    └─Softplus: 2-7                     [1, 256]                  --\n",
       "├─Sequential: 1-4                        [1, 256]                  --\n",
       "│    └─Linear: 2-8                       [1, 256]                  65,792\n",
       "│    └─ReLU: 2-9                         [1, 256]                  --\n",
       "├─Sequential: 1-5                        [1, 256]                  --\n",
       "│    └─Linear: 2-10                      [1, 256]                  116,992\n",
       "│    └─ReLU: 2-11                        [1, 256]                  --\n",
       "├─Sequential: 1-6                        [1, 14]                   --\n",
       "│    └─Linear: 2-12                      [1, 14]                   7,182\n",
       "│    └─ReLU: 2-13                        [1, 14]                   --\n",
       "├─LSTM: 1-7                              [1, 101, 64]              53,760\n",
       "├─LSTM: 1-8                              [1, 101, 128]             231,424\n",
       "├─Sequential: 1-9                        [1, 101, 14]              --\n",
       "│    └─Linear: 2-14                      [1, 101, 128]             16,512\n",
       "│    └─ReLU: 2-15                        [1, 101, 128]             --\n",
       "│    └─Dropout: 2-16                     [1, 101, 128]             --\n",
       "│    └─Linear: 2-17                      [1, 101, 14]              1,806\n",
       "==========================================================================================\n",
       "Total params: 807,836\n",
       "Trainable params: 807,836\n",
       "Non-trainable params: 0\n",
       "Total mult-adds (M): 29.33\n",
       "==========================================================================================\n",
       "Input size (MB): 0.01\n",
       "Forward/backward pass size (MB): 0.28\n",
       "Params size (MB): 3.23\n",
       "Estimated Total Size (MB): 3.52\n",
       "=========================================================================================="
      ]
     },
     "execution_count": 10,
     "metadata": {},
     "output_type": "execute_result"
    }
   ],
   "source": [
    "# pzy_ = pzy(45, 7500, 2, 32,32,32)\n",
    "# summary(pzy_, (1,2))\n",
    "pzy_ = px(45, 7500, 2, 256,256,256,256)\n",
    "summary(pzy_, [(1,256),(1,456),(1,100,14)])"
   ]
  },
  {
   "cell_type": "markdown",
   "metadata": {
    "id": "YmNnZWXvkCDP"
   },
   "source": [
    "## Endcoder Classes"
   ]
  },
  {
   "cell_type": "code",
   "execution_count": 11,
   "metadata": {
    "executionInfo": {
     "elapsed": 5,
     "status": "ok",
     "timestamp": 1647013220008,
     "user": {
      "displayName": "Marko Petkovic",
      "photoUrl": "https://lh3.googleusercontent.com/a-/AOh14Gijd0e9r3I1vRZVN6DEwl16XpJxxS1oSAKunOnfZQ=s64",
      "userId": "11987583535390684770"
     },
     "user_tz": -60
    },
    "id": "tt82wvITwg4j"
   },
   "outputs": [],
   "source": [
    "#pzy_.reconstruct_image(torch.zeros((1,100)), torch.zeros((1,13,200)), torch.zeros(1,5,200)).shape"
   ]
  },
  {
   "cell_type": "code",
   "execution_count": 12,
   "metadata": {
    "executionInfo": {
     "elapsed": 313,
     "status": "ok",
     "timestamp": 1647023293469,
     "user": {
      "displayName": "Marko Petkovic",
      "photoUrl": "https://lh3.googleusercontent.com/a-/AOh14Gijd0e9r3I1vRZVN6DEwl16XpJxxS1oSAKunOnfZQ=s64",
      "userId": "11987583535390684770"
     },
     "user_tz": -60
    },
    "id": "78ZFH8gYl_-z"
   },
   "outputs": [],
   "source": [
    "class qz(nn.Module):\n",
    "    def __init__(self, d_dim, x_dim, y_dim, z1_dim ,z2_dim, h_dim, h2_dim):\n",
    "        super(qz, self).__init__()\n",
    "\n",
    "        # q(z2 | x)\n",
    "        self.encoder_z2 = nn.Sequential(\n",
    "            nn.Conv2d(3, 48, kernel_size=3, stride=1, padding = 'same'),\n",
    "            nn.ReLU(),\n",
    "            nn.Conv2d(48, 48, kernel_size=3, stride=1, padding = 'same'),\n",
    "            nn.ReLU(),\n",
    "            nn.MaxPool2d(2, 2),\n",
    "            nn.Conv2d(48, 60, kernel_size=3, stride=1, padding = 'same'),\n",
    "            nn.ReLU(),\n",
    "            nn.Conv2d(60, 60, kernel_size=3, stride=1, padding = 'same'),\n",
    "            nn.ReLU(),\n",
    "            nn.MaxPool2d(2, 2),\n",
    "            nn.Conv2d(60, 72, kernel_size=3, stride=1, padding = 'same'),\n",
    "            nn.ReLU(), \n",
    "            nn.Conv2d(72, 72, kernel_size=3, stride=1, padding = 'same'),\n",
    "            nn.ReLU(), \n",
    "            nn.MaxPool2d(2, 2),\n",
    "        )\n",
    "        \n",
    "        self.mu_z2 = nn.Sequential(nn.Linear(2592, z2_dim))\n",
    "        self.si_z2 = nn.Sequential(nn.Linear(2592, z2_dim), nn.Softplus())\n",
    "        \n",
    "        \n",
    "        # q(z1 | x, z2)\n",
    "        self.encoder_z1 = nn.Sequential(\n",
    "            nn.Conv2d(3, 48, kernel_size=3, stride=1, padding = 'same'),\n",
    "            nn.ReLU(),\n",
    "            nn.Conv2d(48, 48, kernel_size=3, stride=1, padding = 'same'),\n",
    "            nn.ReLU(),\n",
    "            nn.MaxPool2d(2, 2),\n",
    "            nn.Conv2d(48, 60, kernel_size=3, stride=1, padding = 'same'),\n",
    "            nn.ReLU(),\n",
    "            nn.Conv2d(60, 60, kernel_size=3, stride=1, padding = 'same'),\n",
    "            nn.ReLU(),\n",
    "            nn.MaxPool2d(2, 2),\n",
    "            nn.Conv2d(60, 72, kernel_size=3, stride=1, padding = 'same'),\n",
    "            nn.ReLU(), \n",
    "            nn.Conv2d(72, 72, kernel_size=3, stride=1, padding = 'same'),\n",
    "            nn.ReLU(), \n",
    "            nn.MaxPool2d(2, 2),\n",
    "        )\n",
    "        \n",
    "        self.fc_z2 = nn.Sequential(nn.Linear(z2_dim+200, h_dim), nn.ReLU())\n",
    "        self.fc_z1 = nn.Sequential(nn.Linear(2592, h_dim), nn.ReLU())\n",
    "        \n",
    "        self.fc_z1_z2 = nn.Sequential(nn.Linear(2*h_dim, h2_dim), nn.ReLU())\n",
    "        \n",
    "        self.mu_z1 = nn.Sequential(nn.Linear(h2_dim, z1_dim))\n",
    "        self.si_z1 = nn.Sequential(nn.Linear(h2_dim, z1_dim), nn.Softplus())\n",
    "\n",
    "    \n",
    "    def q_z2(self, x):\n",
    "        z2 = self.encoder_z2(x)\n",
    "        z2 = z2.view(-1, 2592)\n",
    "        z2_m = self.mu_z2(z2) \n",
    "        z2_s = self.si_z2(z2)\n",
    "        \n",
    "        return z2_m, z2_s\n",
    "    \n",
    "    def forward(self, x, m):\n",
    "        \n",
    "        # q(z2 | x) & m\n",
    "        z2_m, z2_s = self.q_z2(x)\n",
    "        # reparameterization trick\n",
    "        qz2 = dist.Normal(z2_m, z2_s)\n",
    "        z2 = qz2.rsample()\n",
    "        # z2 & m\n",
    "        mz2 = torch.cat([z2, m],1)\n",
    "        \n",
    "        \n",
    "        \n",
    "        # q(z1 | x, z2, m)\n",
    "        z1 = self.encoder_z1(x)\n",
    "        z1 = z1.view(-1, 2592)\n",
    "        z1 = self.fc_z1(z1)\n",
    "        \n",
    "        mz2_ = self.fc_z2(mz2)\n",
    "        \n",
    "        z1 = torch.cat([mz2_, z1],1)\n",
    "        z1 = self.fc_z1_z2(z1)\n",
    "        z1_m = self.mu_z1(z1)\n",
    "        z1_s = self.si_z1(z1)\n",
    "        \n",
    "        qz1 = dist.Normal(z1_m, z1_s)\n",
    "        z1 = qz1.rsample()\n",
    "        \n",
    "        \n",
    "        #z_loc = self.fc11(h)\n",
    "        #z_scale = self.fc12(h) + 1e-7\n",
    "\n",
    "        return z1, z2, mz2, z1_m, z1_s, z2_m, z2_s\n",
    "\n",
    "\n"
   ]
  },
  {
   "cell_type": "code",
   "execution_count": 13,
   "metadata": {},
   "outputs": [
    {
     "data": {
      "text/plain": [
       "tensor([[1, 2, 3, 1, 3],\n",
       "        [4, 5, 6, 4, 6]])"
      ]
     },
     "execution_count": 13,
     "metadata": {},
     "output_type": "execute_result"
    }
   ],
   "source": [
    "a = torch.tensor([[1,2,3],[4,5,6]])\n",
    "b = torch.tensor([[1,3],[4,6]])\n",
    "\n",
    "torch.cat([a,b],1)"
   ]
  },
  {
   "cell_type": "code",
   "execution_count": 14,
   "metadata": {},
   "outputs": [
    {
     "data": {
      "text/plain": [
       "==========================================================================================\n",
       "Layer (type:depth-idx)                   Output Shape              Param #\n",
       "==========================================================================================\n",
       "qz                                       --                        --\n",
       "├─Sequential: 1-1                        [1, 72, 3, 12]            --\n",
       "│    └─Conv2d: 2-1                       [1, 48, 25, 100]          1,344\n",
       "│    └─ReLU: 2-2                         [1, 48, 25, 100]          --\n",
       "│    └─Conv2d: 2-3                       [1, 48, 25, 100]          20,784\n",
       "│    └─ReLU: 2-4                         [1, 48, 25, 100]          --\n",
       "│    └─MaxPool2d: 2-5                    [1, 48, 12, 50]           --\n",
       "│    └─Conv2d: 2-6                       [1, 60, 12, 50]           25,980\n",
       "│    └─ReLU: 2-7                         [1, 60, 12, 50]           --\n",
       "│    └─Conv2d: 2-8                       [1, 60, 12, 50]           32,460\n",
       "│    └─ReLU: 2-9                         [1, 60, 12, 50]           --\n",
       "│    └─MaxPool2d: 2-10                   [1, 60, 6, 25]            --\n",
       "│    └─Conv2d: 2-11                      [1, 72, 6, 25]            38,952\n",
       "│    └─ReLU: 2-12                        [1, 72, 6, 25]            --\n",
       "│    └─Conv2d: 2-13                      [1, 72, 6, 25]            46,728\n",
       "│    └─ReLU: 2-14                        [1, 72, 6, 25]            --\n",
       "│    └─MaxPool2d: 2-15                   [1, 72, 3, 12]            --\n",
       "├─Sequential: 1-2                        [1, 256]                  --\n",
       "│    └─Linear: 2-16                      [1, 256]                  663,808\n",
       "├─Sequential: 1-3                        [1, 256]                  --\n",
       "│    └─Linear: 2-17                      [1, 256]                  663,808\n",
       "│    └─Softplus: 2-18                    [1, 256]                  --\n",
       "├─Sequential: 1-4                        [1, 72, 3, 12]            --\n",
       "│    └─Conv2d: 2-19                      [1, 48, 25, 100]          1,344\n",
       "│    └─ReLU: 2-20                        [1, 48, 25, 100]          --\n",
       "│    └─Conv2d: 2-21                      [1, 48, 25, 100]          20,784\n",
       "│    └─ReLU: 2-22                        [1, 48, 25, 100]          --\n",
       "│    └─MaxPool2d: 2-23                   [1, 48, 12, 50]           --\n",
       "│    └─Conv2d: 2-24                      [1, 60, 12, 50]           25,980\n",
       "│    └─ReLU: 2-25                        [1, 60, 12, 50]           --\n",
       "│    └─Conv2d: 2-26                      [1, 60, 12, 50]           32,460\n",
       "│    └─ReLU: 2-27                        [1, 60, 12, 50]           --\n",
       "│    └─MaxPool2d: 2-28                   [1, 60, 6, 25]            --\n",
       "│    └─Conv2d: 2-29                      [1, 72, 6, 25]            38,952\n",
       "│    └─ReLU: 2-30                        [1, 72, 6, 25]            --\n",
       "│    └─Conv2d: 2-31                      [1, 72, 6, 25]            46,728\n",
       "│    └─ReLU: 2-32                        [1, 72, 6, 25]            --\n",
       "│    └─MaxPool2d: 2-33                   [1, 72, 3, 12]            --\n",
       "├─Sequential: 1-5                        [1, 256]                  --\n",
       "│    └─Linear: 2-34                      [1, 256]                  663,808\n",
       "│    └─ReLU: 2-35                        [1, 256]                  --\n",
       "├─Sequential: 1-6                        [1, 256]                  --\n",
       "│    └─Linear: 2-36                      [1, 256]                  116,992\n",
       "│    └─ReLU: 2-37                        [1, 256]                  --\n",
       "├─Sequential: 1-7                        [1, 256]                  --\n",
       "│    └─Linear: 2-38                      [1, 256]                  131,328\n",
       "│    └─ReLU: 2-39                        [1, 256]                  --\n",
       "├─Sequential: 1-8                        [1, 256]                  --\n",
       "│    └─Linear: 2-40                      [1, 256]                  65,792\n",
       "├─Sequential: 1-9                        [1, 256]                  --\n",
       "│    └─Linear: 2-41                      [1, 256]                  65,792\n",
       "│    └─Softplus: 2-42                    [1, 256]                  --\n",
       "==========================================================================================\n",
       "Total params: 2,703,824\n",
       "Trainable params: 2,703,824\n",
       "Non-trainable params: 0\n",
       "Total mult-adds (M): 208.84\n",
       "==========================================================================================\n",
       "Input size (MB): 0.03\n",
       "Forward/backward pass size (MB): 5.35\n",
       "Params size (MB): 10.82\n",
       "Estimated Total Size (MB): 16.20\n",
       "=========================================================================================="
      ]
     },
     "execution_count": 14,
     "metadata": {},
     "output_type": "execute_result"
    }
   ],
   "source": [
    "enc = qz(128,10,10,256,256,256,256)\n",
    "enc(torch.zeros((1,3,25,100)), torch.zeros((1,200)))\n",
    "summary(enc, [(1,3,25,100),(1,200)])"
   ]
  },
  {
   "cell_type": "code",
   "execution_count": 15,
   "metadata": {},
   "outputs": [],
   "source": [
    "def log_Normal_diag(x, mean, std, average=False, dim=None):\n",
    "    log_var = 2*torch.log(std)\n",
    "    log_normal = -0.5 * ( log_var + torch.pow( x - mean, 2 ) / torch.exp( log_var ) )\n",
    "    if average:\n",
    "        return torch.mean( log_normal, dim )\n",
    "    else:\n",
    "        return torch.sum( log_normal, dim )"
   ]
  },
  {
   "cell_type": "markdown",
   "metadata": {
    "id": "vn_gJdNSkH_V"
   },
   "source": [
    "## Full model class"
   ]
  },
  {
   "cell_type": "code",
   "execution_count": 16,
   "metadata": {
    "executionInfo": {
     "elapsed": 10,
     "status": "ok",
     "timestamp": 1647023293470,
     "user": {
      "displayName": "Marko Petkovic",
      "photoUrl": "https://lh3.googleusercontent.com/a-/AOh14Gijd0e9r3I1vRZVN6DEwl16XpJxxS1oSAKunOnfZQ=s64",
      "userId": "11987583535390684770"
     },
     "user_tz": -60
    },
    "id": "BgR5BnQN1WWG"
   },
   "outputs": [],
   "source": [
    "class RHVAE(nn.Module):\n",
    "    def __init__(self, args):\n",
    "        super(RHVAE, self).__init__()\n",
    "        self.z1_dim = args.z1_dim\n",
    "        self.z2_dim = args.z2_dim\n",
    "        self.d_dim = args.d_dim\n",
    "        self.x_dim = args.x_dim\n",
    "        self.y_dim = args.y_dim\n",
    "        self.h_dim = args.h_dim\n",
    "        self.h2_dim = args.h2_dim\n",
    "        self.number_components = args.number_components\n",
    "        \n",
    "        #d_dim, x_dim, y_dim, z1_dim ,z2_dim, h_dim, h2_dim\n",
    "        self.px = px(self.d_dim, self.x_dim, self.y_dim, self.z1_dim, self.z2_dim, \n",
    "                     self.h_dim, self.h2_dim)\n",
    "        \n",
    "        self.qz = qz(self.d_dim, self.x_dim, self.y_dim, self.z1_dim, self.z2_dim, \n",
    "                     self.h_dim, self.h2_dim)\n",
    "        \n",
    "\n",
    "        self.beta = args.beta\n",
    "        \n",
    "        #self.rec_alpha = args.rec_alpha\n",
    "        self.rec_beta = args.rec_beta\n",
    "        self.rec_gamma = args.rec_gamma\n",
    "\n",
    "        self.warmup = args.warmup\n",
    "        self.prewarmup = args.prewarmup\n",
    "        \n",
    "        self.add_pseudoinputs()\n",
    "        \n",
    "        self.lqz1 = []\n",
    "        self.lqz2 = []\n",
    "        self.lpz1 = []\n",
    "        self.lpz2 = []\n",
    "        \n",
    "        self.bar = []\n",
    "        self.len = []\n",
    "        self.col = []\n",
    "        \n",
    "        self.cuda()\n",
    "\n",
    "    def forward(self, d, x, y, m, x2):\n",
    "        # Encode\n",
    "        z1, z2, mz2, z1_m, z1_s, z2_m, z2_s = self.qz(x, m)\n",
    "        # Decode\n",
    "        x2_hat, pz1_m, pz1_s = self.px(z1, mz2, x2)\n",
    "        \n",
    "        return x2_hat, z1, z2, z1_m, z1_s, z2_m, z2_s, pz1_m, pz1_s\n",
    "    \n",
    "    \n",
    "    def log_p_z2(self, z2):\n",
    "        C = self.number_components\n",
    "        \n",
    "        X = self.means(self.idle_input).view(-1,3,25,100)\n",
    "        \n",
    "        pz2_m, pz2_s = self.qz.q_z2(X)\n",
    "        \n",
    "        z_expand = z2.unsqueeze(1)\n",
    "        means = pz2_m.unsqueeze(0)\n",
    "        stds = pz2_s.unsqueeze(0)\n",
    "        \n",
    "        a = log_Normal_diag(z_expand, means, stds, dim=2) - math.log(C)\n",
    "        a_max, _ = torch.max(a,1)\n",
    "        \n",
    "        log_prior = (a_max + torch.log(torch.sum(torch.exp(a-a_max.unsqueeze(1)),1)))\n",
    "        \n",
    "        return log_prior\n",
    "    \n",
    "    def loss_function(self, d, x, y, m, x2):\n",
    "        \n",
    "        x2_hat, z1, z2, z1_m, z1_s, z2_m, z2_s, pz1_m, pz1_s = self.forward(d, x, y, m, x2)\n",
    "        \n",
    "        # Reconstruction Loss\n",
    "        x_rec_hat = x2_hat.permute((0,2,1))\n",
    "        x_rec = x2.permute((0,2,1))\n",
    "        \n",
    "        rec = nn.CrossEntropyLoss()(x_rec_hat[:,:6,:], x_rec[:,:6,:]) + nn.CrossEntropyLoss()(x_rec_hat[:,6:12,:], x_rec[:,6:12,:])\n",
    "        #rec = F.cross_entropy(x_rec[:,:6,:], x_rec_hat[:,:6,:], reduction='sum') + F.cross_entropy(x_rec[:,6:12,:], x_rec_hat[:,6:12,:], reduction='sum')\n",
    "\n",
    "        \n",
    "        mse_bar = F.mse_loss(x2_hat[:,:,12:], x2[:,:,12:], reduction='mean')\n",
    "\n",
    "        acc_bar = 0\n",
    "        acc_bar2 = 1\n",
    "        acc_bar3 = 1\n",
    "        acc_bar4 = 1\n",
    "        acc_bar5 = 1\n",
    "        \n",
    "        RE_bar = mse_bar\n",
    "        RE_col = rec\n",
    "          \n",
    "            \n",
    "        # KL loss\n",
    "        KL_p_z1 = log_Normal_diag(z1, pz1_m, pz1_s, dim=1).sum()\n",
    "        KL_q_z1 = log_Normal_diag(z1, z1_m, z1_s, dim=1).sum()\n",
    "        KL_p_z2 = self.log_p_z2(z2).sum()\n",
    "        KL_q_z2 = log_Normal_diag(z2, z2_m, z2_s, dim=1).sum()\n",
    "        KL = -(KL_p_z1 + KL_p_z2 - KL_q_z1 - KL_q_z2)\n",
    "        \n",
    "        return self.rec_beta * RE_bar \\\n",
    "                  + self.rec_gamma * RE_col \\\n",
    "                  + self.beta * KL, \\\n",
    "                  RE_bar, RE_col, mse_bar, acc_bar, acc_bar2, acc_bar3, acc_bar4, acc_bar5\n",
    "    \n",
    "    \n",
    "    \n",
    "    def add_pseudoinputs(self):\n",
    "        # TODO: rework pseudo generation based on reconstruction\n",
    "        nonlinearity = nn.Hardtanh(min_val=0.0, max_val=1.0)\n",
    "        self.means = nn.Sequential(nn.Linear(self.number_components, 3*25*100, bias=False), nonlinearity)\n",
    "        self.idle_input = Variable(torch.eye(self.number_components, self.number_components), requires_grad=False).to(DEVICE)"
   ]
  },
  {
   "cell_type": "code",
   "execution_count": 17,
   "metadata": {},
   "outputs": [
    {
     "data": {
      "text/plain": [
       "tensor(-50.9189)"
      ]
     },
     "execution_count": 17,
     "metadata": {},
     "output_type": "execute_result"
    }
   ],
   "source": [
    "a = dist.Normal(0,1)\n",
    "a.log_prob(torch.tensor(10))"
   ]
  },
  {
   "cell_type": "code",
   "execution_count": 18,
   "metadata": {
    "scrolled": false
   },
   "outputs": [
    {
     "data": {
      "text/plain": [
       "==========================================================================================\n",
       "Layer (type:depth-idx)                   Output Shape              Param #\n",
       "==========================================================================================\n",
       "RHVAE                                    --                        --\n",
       "├─px: 1-1                                --                        (recursive)\n",
       "│    └─Sequential: 2-1                   --                        (recursive)\n",
       "│    │    └─Linear: 3-1                  --                        (recursive)\n",
       "│    │    └─ReLU: 3-2                    --                        --\n",
       "│    │    └─Linear: 3-3                  --                        (recursive)\n",
       "│    │    └─ReLU: 3-4                    --                        --\n",
       "│    └─Sequential: 2-2                   --                        (recursive)\n",
       "│    │    └─Linear: 3-5                  --                        (recursive)\n",
       "│    └─Sequential: 2-3                   --                        (recursive)\n",
       "│    │    └─Linear: 3-6                  --                        (recursive)\n",
       "│    │    └─Softplus: 3-7                --                        --\n",
       "│    └─Sequential: 2-4                   --                        (recursive)\n",
       "│    │    └─Linear: 3-8                  --                        (recursive)\n",
       "│    │    └─ReLU: 3-9                    --                        --\n",
       "│    └─Sequential: 2-5                   --                        (recursive)\n",
       "│    │    └─Linear: 3-10                 --                        (recursive)\n",
       "│    │    └─ReLU: 3-11                   --                        --\n",
       "│    └─Sequential: 2-6                   --                        (recursive)\n",
       "│    │    └─Linear: 3-12                 --                        (recursive)\n",
       "│    │    └─ReLU: 3-13                   --                        --\n",
       "│    └─LSTM: 2-7                         --                        (recursive)\n",
       "│    └─LSTM: 2-8                         --                        (recursive)\n",
       "│    └─Sequential: 2-9                   --                        (recursive)\n",
       "│    │    └─Linear: 3-14                 --                        (recursive)\n",
       "│    │    └─ReLU: 3-15                   --                        --\n",
       "│    │    └─Dropout: 3-16                --                        --\n",
       "│    │    └─Linear: 3-17                 --                        (recursive)\n",
       "├─qz: 1-2                                [1, 256]                  --\n",
       "│    └─Sequential: 2-10                  [1, 72, 3, 12]            --\n",
       "│    │    └─Conv2d: 3-18                 [1, 48, 25, 100]          1,344\n",
       "│    │    └─ReLU: 3-19                   [1, 48, 25, 100]          --\n",
       "│    │    └─Conv2d: 3-20                 [1, 48, 25, 100]          20,784\n",
       "│    │    └─ReLU: 3-21                   [1, 48, 25, 100]          --\n",
       "│    │    └─MaxPool2d: 3-22              [1, 48, 12, 50]           --\n",
       "│    │    └─Conv2d: 3-23                 [1, 60, 12, 50]           25,980\n",
       "│    │    └─ReLU: 3-24                   [1, 60, 12, 50]           --\n",
       "│    │    └─Conv2d: 3-25                 [1, 60, 12, 50]           32,460\n",
       "│    │    └─ReLU: 3-26                   [1, 60, 12, 50]           --\n",
       "│    │    └─MaxPool2d: 3-27              [1, 60, 6, 25]            --\n",
       "│    │    └─Conv2d: 3-28                 [1, 72, 6, 25]            38,952\n",
       "│    │    └─ReLU: 3-29                   [1, 72, 6, 25]            --\n",
       "│    │    └─Conv2d: 3-30                 [1, 72, 6, 25]            46,728\n",
       "│    │    └─ReLU: 3-31                   [1, 72, 6, 25]            --\n",
       "│    │    └─MaxPool2d: 3-32              [1, 72, 3, 12]            --\n",
       "│    └─Sequential: 2-11                  [1, 256]                  --\n",
       "│    │    └─Linear: 3-33                 [1, 256]                  663,808\n",
       "│    └─Sequential: 2-12                  [1, 256]                  --\n",
       "│    │    └─Linear: 3-34                 [1, 256]                  663,808\n",
       "│    │    └─Softplus: 3-35               [1, 256]                  --\n",
       "│    └─Sequential: 2-13                  [1, 72, 3, 12]            --\n",
       "│    │    └─Conv2d: 3-36                 [1, 48, 25, 100]          1,344\n",
       "│    │    └─ReLU: 3-37                   [1, 48, 25, 100]          --\n",
       "│    │    └─Conv2d: 3-38                 [1, 48, 25, 100]          20,784\n",
       "│    │    └─ReLU: 3-39                   [1, 48, 25, 100]          --\n",
       "│    │    └─MaxPool2d: 3-40              [1, 48, 12, 50]           --\n",
       "│    │    └─Conv2d: 3-41                 [1, 60, 12, 50]           25,980\n",
       "│    │    └─ReLU: 3-42                   [1, 60, 12, 50]           --\n",
       "│    │    └─Conv2d: 3-43                 [1, 60, 12, 50]           32,460\n",
       "│    │    └─ReLU: 3-44                   [1, 60, 12, 50]           --\n",
       "│    │    └─MaxPool2d: 3-45              [1, 60, 6, 25]            --\n",
       "│    │    └─Conv2d: 3-46                 [1, 72, 6, 25]            38,952\n",
       "│    │    └─ReLU: 3-47                   [1, 72, 6, 25]            --\n",
       "│    │    └─Conv2d: 3-48                 [1, 72, 6, 25]            46,728\n",
       "│    │    └─ReLU: 3-49                   [1, 72, 6, 25]            --\n",
       "│    │    └─MaxPool2d: 3-50              [1, 72, 3, 12]            --\n",
       "│    └─Sequential: 2-14                  [1, 256]                  --\n",
       "│    │    └─Linear: 3-51                 [1, 256]                  663,808\n",
       "│    │    └─ReLU: 3-52                   [1, 256]                  --\n",
       "│    └─Sequential: 2-15                  [1, 256]                  --\n",
       "│    │    └─Linear: 3-53                 [1, 256]                  116,992\n",
       "│    │    └─ReLU: 3-54                   [1, 256]                  --\n",
       "│    └─Sequential: 2-16                  [1, 256]                  --\n",
       "│    │    └─Linear: 3-55                 [1, 256]                  131,328\n",
       "│    │    └─ReLU: 3-56                   [1, 256]                  --\n",
       "│    └─Sequential: 2-17                  [1, 256]                  --\n",
       "│    │    └─Linear: 3-57                 [1, 256]                  65,792\n",
       "│    └─Sequential: 2-18                  [1, 256]                  --\n",
       "│    │    └─Linear: 3-58                 [1, 256]                  65,792\n",
       "│    │    └─Softplus: 3-59               [1, 256]                  --\n",
       "├─px: 1-3                                [1, 100, 14]              --\n",
       "│    └─Sequential: 2-19                  [1, 256]                  --\n",
       "│    │    └─Linear: 3-60                 [1, 256]                  116,992\n",
       "│    │    └─ReLU: 3-61                   [1, 256]                  --\n",
       "│    │    └─Linear: 3-62                 [1, 256]                  65,792\n",
       "│    │    └─ReLU: 3-63                   [1, 256]                  --\n",
       "│    └─Sequential: 2-20                  [1, 256]                  --\n",
       "│    │    └─Linear: 3-64                 [1, 256]                  65,792\n",
       "│    └─Sequential: 2-21                  [1, 256]                  --\n",
       "│    │    └─Linear: 3-65                 [1, 256]                  65,792\n",
       "│    │    └─Softplus: 3-66               [1, 256]                  --\n",
       "│    └─Sequential: 2-22                  [1, 256]                  --\n",
       "│    │    └─Linear: 3-67                 [1, 256]                  65,792\n",
       "│    │    └─ReLU: 3-68                   [1, 256]                  --\n",
       "│    └─Sequential: 2-23                  [1, 256]                  --\n",
       "│    │    └─Linear: 3-69                 [1, 256]                  116,992\n",
       "│    │    └─ReLU: 3-70                   [1, 256]                  --\n",
       "│    └─Sequential: 2-24                  [1, 14]                   --\n",
       "│    │    └─Linear: 3-71                 [1, 14]                   7,182\n",
       "│    │    └─ReLU: 3-72                   [1, 14]                   --\n",
       "│    └─LSTM: 2-25                        [1, 101, 64]              53,760\n",
       "│    └─LSTM: 2-26                        [1, 101, 128]             231,424\n",
       "│    └─Sequential: 2-27                  [1, 101, 14]              --\n",
       "│    │    └─Linear: 3-73                 [1, 101, 128]             16,512\n",
       "│    │    └─ReLU: 3-74                   [1, 101, 128]             --\n",
       "│    │    └─Dropout: 3-75                [1, 101, 128]             --\n",
       "│    │    └─Linear: 3-76                 [1, 101, 14]              1,806\n",
       "==========================================================================================\n",
       "Total params: 3,511,660\n",
       "Trainable params: 3,511,660\n",
       "Non-trainable params: 0\n",
       "Total mult-adds (M): 238.17\n",
       "==========================================================================================\n",
       "Input size (MB): 0.04\n",
       "Forward/backward pass size (MB): 5.63\n",
       "Params size (MB): 14.05\n",
       "Estimated Total Size (MB): 19.72\n",
       "=========================================================================================="
      ]
     },
     "execution_count": 18,
     "metadata": {},
     "output_type": "execute_result"
    }
   ],
   "source": [
    "default_args = diva_args()\n",
    "enc = RHVAE(default_args)\n",
    "summary(enc,[ (1,1),(1,3,25,100),(1,1),(1,200),(1,100,14)])"
   ]
  },
  {
   "cell_type": "markdown",
   "metadata": {
    "id": "LdOsLfYJjBBe"
   },
   "source": [
    "# Training the model"
   ]
  },
  {
   "cell_type": "markdown",
   "metadata": {
    "id": "rH1E5J-ps3GD"
   },
   "source": [
    "## Loading dataset"
   ]
  },
  {
   "cell_type": "code",
   "execution_count": 19,
   "metadata": {
    "colab": {
     "base_uri": "https://localhost:8080/"
    },
    "executionInfo": {
     "elapsed": 16152,
     "status": "ok",
     "timestamp": 1647023309618,
     "user": {
      "displayName": "Marko Petkovic",
      "photoUrl": "https://lh3.googleusercontent.com/a-/AOh14Gijd0e9r3I1vRZVN6DEwl16XpJxxS1oSAKunOnfZQ=s64",
      "userId": "11987583535390684770"
     },
     "user_tz": -60
    },
    "id": "myflmDPxjV40",
    "outputId": "0befed1a-e175-47eb-e1c0-f9f28da53d7c"
   },
   "outputs": [
    {
     "name": "stdout",
     "output_type": "stream",
     "text": [
      "Loading Labels! (~10s)\n",
      "loading encodings\n",
      "Loading Names! (~5s)\n"
     ]
    }
   ],
   "source": [
    "RNA_dataset = MicroRNADataset(create_encodings=False)"
   ]
  },
  {
   "cell_type": "code",
   "execution_count": 20,
   "metadata": {
    "colab": {
     "base_uri": "https://localhost:8080/"
    },
    "executionInfo": {
     "elapsed": 7139,
     "status": "ok",
     "timestamp": 1647023316754,
     "user": {
      "displayName": "Marko Petkovic",
      "photoUrl": "https://lh3.googleusercontent.com/a-/AOh14Gijd0e9r3I1vRZVN6DEwl16XpJxxS1oSAKunOnfZQ=s64",
      "userId": "11987583535390684770"
     },
     "user_tz": -60
    },
    "id": "ut2P5RSaMoDR",
    "outputId": "eafab284-1376-4f62-c8c9-bb8e87351bd4"
   },
   "outputs": [
    {
     "name": "stdout",
     "output_type": "stream",
     "text": [
      "Loading Labels! (~10s)\n",
      "loading encodings\n",
      "Loading Names! (~5s)\n"
     ]
    }
   ],
   "source": [
    "RNA_dataset_test = MicroRNADataset('test', create_encodings=False)"
   ]
  },
  {
   "cell_type": "code",
   "execution_count": 21,
   "metadata": {},
   "outputs": [],
   "source": [
    "#RNA_dataset.x_bar.shape, RNA_dataset.x_col.shape "
   ]
  },
  {
   "cell_type": "code",
   "execution_count": 22,
   "metadata": {
    "executionInfo": {
     "elapsed": 12,
     "status": "ok",
     "timestamp": 1647023316754,
     "user": {
      "displayName": "Marko Petkovic",
      "photoUrl": "https://lh3.googleusercontent.com/a-/AOh14Gijd0e9r3I1vRZVN6DEwl16XpJxxS1oSAKunOnfZQ=s64",
      "userId": "11987583535390684770"
     },
     "user_tz": -60
    },
    "id": "eVGq463Y2m20"
   },
   "outputs": [],
   "source": [
    "def train_single_epoch(train_loader, model, optimizer, epoch):\n",
    "    model.train()\n",
    "    train_loss = 0\n",
    "    epoch_bar_loss = 0\n",
    "    epoch_col_loss = 0\n",
    "    no_batches = 0\n",
    "    train_corr = 0\n",
    "    mse_bar = 0\n",
    "    acc_bar = 0\n",
    "    acc_bar2 = 0\n",
    "    acc_bar3 = 0\n",
    "    acc_bar4 = 0\n",
    "    acc_bar5 = 0\n",
    "    pbar = tqdm(enumerate(train_loader), unit=\"batch\", \n",
    "                                     desc=f'Epoch {epoch}')\n",
    "    for batch_idx, (x, y, d, x2, m) in pbar:\n",
    "        # To device\n",
    "        x, y, d , x2, m= x.to(DEVICE), y.to(DEVICE), d.to(DEVICE), x2.to(DEVICE), m.to(DEVICE)\n",
    "\n",
    "        optimizer.zero_grad()\n",
    "        loss, bar_loss, col_loss, mse, acc, acc2, acc3, acc4, acc5 = model.loss_function(d.float(), x.float(), y.float(), m.float(), x2.float())\n",
    "      \n",
    "        loss.backward()\n",
    "        optimizer.step()\n",
    "        pbar.set_postfix(loss=loss.item()/x.shape[0])\n",
    "        train_loss += loss\n",
    "        epoch_bar_loss += bar_loss\n",
    "        epoch_col_loss += col_loss\n",
    "        mse_bar += mse\n",
    "        acc_bar += acc\n",
    "        acc_bar2 += acc2\n",
    "        acc_bar3 += acc3\n",
    "        acc_bar4 += acc4\n",
    "        acc_bar5 += acc5\n",
    "        no_batches += 1\n",
    "\n",
    "    train_loss /= len(train_loader.dataset)\n",
    "    epoch_bar_loss /= len(train_loader.dataset)\n",
    "    epoch_col_loss /= len(train_loader.dataset)\n",
    "    acc_bar /= len(train_loader.dataset)\n",
    "    acc_bar2 /= len(train_loader.dataset)\n",
    "    acc_bar3 /= len(train_loader.dataset)\n",
    "    acc_bar4 /= len(train_loader.dataset)\n",
    "    acc_bar5 /= len(train_loader.dataset)\n",
    "    mse_bar /= len(train_loader.dataset)\n",
    "    \n",
    "    pbar.set_postfix(loss=train_loss)\n",
    "    \n",
    "    return train_loss, epoch_bar_loss, epoch_col_loss, mse_bar, acc_bar, acc_bar2, acc_bar3, acc_bar4, acc_bar5 "
   ]
  },
  {
   "cell_type": "code",
   "execution_count": 23,
   "metadata": {
    "executionInfo": {
     "elapsed": 12,
     "status": "ok",
     "timestamp": 1647023316755,
     "user": {
      "displayName": "Marko Petkovic",
      "photoUrl": "https://lh3.googleusercontent.com/a-/AOh14Gijd0e9r3I1vRZVN6DEwl16XpJxxS1oSAKunOnfZQ=s64",
      "userId": "11987583535390684770"
     },
     "user_tz": -60
    },
    "id": "dT7E0C3nM3qh"
   },
   "outputs": [],
   "source": [
    "def test_single_epoch(test_loader, model, epoch):\n",
    "    model.eval()\n",
    "    test_loss = 0\n",
    "    epoch_bar_loss = 0\n",
    "    epoch_col_loss = 0\n",
    "    mse_bar = 0\n",
    "    acc_bar = 0   \n",
    "    acc_bar2 = 0\n",
    "    acc_bar3 = 0\n",
    "    acc_bar4 = 0\n",
    "    acc_bar5 = 0\n",
    "    with torch.no_grad():\n",
    "        for batch_idx, (x,y,d,x2, m) in enumerate(test_loader):\n",
    "            x, y, d, x2, m = x.to(DEVICE), y.to(DEVICE), d.to(DEVICE), x2.to(DEVICE), m.to(DEVICE)\n",
    "            loss, bar_loss, col_loss, mse, acc, acc2, acc3, acc4, acc5  = model.loss_function(d.float(), x.float(), y.float(),m.float(),x2.float())\n",
    "            test_loss += loss\n",
    "            epoch_bar_loss += bar_loss\n",
    "            epoch_col_loss += col_loss\n",
    "            mse_bar += mse\n",
    "            acc_bar += acc\n",
    "            acc_bar2 += acc2\n",
    "            acc_bar3 += acc3\n",
    "            acc_bar4 += acc4\n",
    "            acc_bar5 += acc5\n",
    "    test_loss /= len(test_loader.dataset)\n",
    "    epoch_bar_loss /= len(test_loader.dataset)\n",
    "    epoch_col_loss /= len(test_loader.dataset)\n",
    "    acc_bar /= len(test_loader.dataset)\n",
    "    acc_bar2 /= len(test_loader.dataset)\n",
    "    acc_bar3 /= len(test_loader.dataset)\n",
    "    acc_bar4 /= len(test_loader.dataset)\n",
    "    acc_bar5 /= len(test_loader.dataset)\n",
    "    mse_bar /= len(test_loader.dataset)\n",
    "    \n",
    "    return test_loss, epoch_bar_loss, epoch_col_loss, mse_bar, acc_bar, acc_bar2, acc_bar3, acc_bar4, acc_bar5 \n",
    "  "
   ]
  },
  {
   "cell_type": "code",
   "execution_count": 24,
   "metadata": {
    "executionInfo": {
     "elapsed": 11,
     "status": "ok",
     "timestamp": 1647023316755,
     "user": {
      "displayName": "Marko Petkovic",
      "photoUrl": "https://lh3.googleusercontent.com/a-/AOh14Gijd0e9r3I1vRZVN6DEwl16XpJxxS1oSAKunOnfZQ=s64",
      "userId": "11987583535390684770"
     },
     "user_tz": -60
    },
    "id": "npLjVGs0jHYn"
   },
   "outputs": [],
   "source": [
    "def train(args, train_loader, test_loader, diva, optimizer, end_epoch, start_epoch=0, save_folder='sd_1.0.0',save_interval=5):\n",
    "    \n",
    "    epoch_loss_sup = []\n",
    "    test_loss = []\n",
    "    \n",
    "    for epoch in range(start_epoch+1, end_epoch+1):\n",
    "        diva.beta = min([args.beta, args.beta * (epoch - args.prewarmup * 1.) / (args.warmup)])\n",
    "        if epoch< args.prewarmup:\n",
    "            diva.beta = args.beta/args.prewarmup\n",
    "        train_loss, avg_loss_bar, avg_loss_col, mtr, atr, atr2, atr3, atr4, atr5  = train_single_epoch(train_loader, diva, optimizer, epoch)\n",
    "        str_loss_sup = train_loss\n",
    "        epoch_loss_sup.append(train_loss)\n",
    "        str_print = \"epoch {}: avg train loss {:.2f}\".format(epoch, str_loss_sup)\n",
    "        str_print += \", bar train loss {:.3f}\".format(avg_loss_bar)\n",
    "        str_print += \", col train loss {:.3f}\".format(avg_loss_col)\n",
    "        print(str_print)\n",
    "\n",
    "        rec_loss_train = diva.rec_beta * avg_loss_bar + diva.rec_gamma * avg_loss_col\n",
    "        dis_loss_train = train_loss - rec_loss_train\n",
    "\n",
    "        test_lss, avg_loss_bar_test, avg_loss_col_test, mte, ate, ate2, ate3, ate4, ate5  = test_single_epoch(test_loader, diva, epoch)\n",
    "        test_loss.append(test_lss)\n",
    "       \n",
    "        str_print = \"epoch {}: avg test  loss {:.2f}\".format(epoch, test_lss)\n",
    "        str_print += \", bar  test loss {:.3f}\".format(avg_loss_bar_test)\n",
    "        str_print += \", col  test loss {:.3f}\".format(avg_loss_col_test)\n",
    "        print(str_print)\n",
    "\n",
    "        rec_loss_test = diva.rec_beta * avg_loss_bar_test + diva.rec_gamma * avg_loss_col_test\n",
    "        dis_loss_test = test_lss - rec_loss_test\n",
    "\n",
    "        if writer is not None:\n",
    "            \n",
    "            writer.add_scalars(\"Total_Loss\", {'train': train_loss, 'test': test_lss} ,epoch)\n",
    "            writer.add_scalars(\"Reconstruction_vs_Disentanglement\",{'rec':rec_loss_train, 'dis':dis_loss_train}, epoch)\n",
    "            writer.add_scalars(\"bar_mse\",{'train': mtr, 'test':mte}, epoch)\n",
    "            writer.add_scalars(\"coll loss\", {'train':avg_loss_col, 'test':avg_loss_col_test}, epoch)\n",
    "#             writer.add_scalars(\"bar_acc\",{'train-top1': atr, 'test-top1':ate,\n",
    "#                                           'train-top2': atr2, 'test-top2':ate2,\n",
    "#                                           'train-top3': atr3, 'test-top3':ate3,\n",
    "#                                           'train-top4': atr4, 'test-top4':ate4,\n",
    "#                                           'train-top5': atr4, 'test-top5':ate4\n",
    "#                                          }, epoch)\n",
    "\n",
    "        if epoch % save_interval == 0:\n",
    "            save_reconstructions(epoch, test_loader, diva, name=save_folder)\n",
    "            save_reconstructions(epoch, train_loader, diva, name=save_folder, estr='tr')\n",
    "        \n",
    "        \n",
    "        if epoch % 50 == 0:\n",
    "            torch.save(diva.state_dict(), f'{link}/saved_models/{save_folder}/checkpoints/{epoch}.pth')\n",
    "\n",
    "    if writer is not None:\n",
    "        writer.flush()\n",
    "\n",
    "    epoch_loss_sup = [i.detach().cpu().numpy() for i in epoch_loss_sup]\n",
    "    test_loss = [i.detach().cpu().numpy() for i in test_loss]\n",
    "    return epoch_loss_sup, test_loss"
   ]
  },
  {
   "cell_type": "code",
   "execution_count": 25,
   "metadata": {
    "executionInfo": {
     "elapsed": 9,
     "status": "ok",
     "timestamp": 1647023317082,
     "user": {
      "displayName": "Marko Petkovic",
      "photoUrl": "https://lh3.googleusercontent.com/a-/AOh14Gijd0e9r3I1vRZVN6DEwl16XpJxxS1oSAKunOnfZQ=s64",
      "userId": "11987583535390684770"
     },
     "user_tz": -60
    },
    "id": "XxN8U8YK0Qi1"
   },
   "outputs": [],
   "source": [
    "def save_reconstructions(epoch, test_loader, diva, name='diva', estr=''):\n",
    "    a = next(enumerate(test_loader))\n",
    "    with torch.no_grad():\n",
    "        diva.eval()\n",
    "        d = a[1][2][:10].to(DEVICE).float()\n",
    "        x = a[1][0][:10].to(DEVICE).float()\n",
    "        y = a[1][1][:10].to(DEVICE).float()\n",
    "        x2 = a[1][3][:10].to(DEVICE).float()\n",
    "        m = a[1][-1][:10].to(DEVICE).float()\n",
    "        x2_hat ,z1, z2, z1_m, z1_s, z2_m, z2_s, pz1_m, pz1_s = diva(d,x,y,m,x2)\n",
    "        out = diva.px.reconstruct_image(x2_hat)\n",
    "\n",
    "    plt.figure(figsize=(80,20))\n",
    "    fig, ax = plt.subplots(nrows=10, ncols=2)\n",
    "\n",
    "    ax[0,0].set_title(\"Original\")\n",
    "    ax[0,1].set_title(\"Reconstructed\")\n",
    "\n",
    "    for i in range(10):\n",
    "        ax[i, 1].imshow(out[i])\n",
    "        ax[i, 0].imshow(x[i].cpu().permute(1,2,0))\n",
    "        ax[i, 0].xaxis.set_visible(False)\n",
    "        ax[i, 0].yaxis.set_visible(False)\n",
    "        ax[i, 1].xaxis.set_visible(False)\n",
    "        ax[i, 1].yaxis.set_visible(False)\n",
    "    fig.tight_layout(pad=0.1)\n",
    "    plt.savefig(f'{link}/saved_models/{name}/reconstructions/e{epoch}{estr}.png')\n",
    "    plt.close('all')"
   ]
  },
  {
   "cell_type": "code",
   "execution_count": 26,
   "metadata": {
    "colab": {
     "base_uri": "https://localhost:8080/"
    },
    "executionInfo": {
     "elapsed": 8,
     "status": "ok",
     "timestamp": 1647023317082,
     "user": {
      "displayName": "Marko Petkovic",
      "photoUrl": "https://lh3.googleusercontent.com/a-/AOh14Gijd0e9r3I1vRZVN6DEwl16XpJxxS1oSAKunOnfZQ=s64",
      "userId": "11987583535390684770"
     },
     "user_tz": -60
    },
    "id": "YVAD-Mjwh7yq",
    "outputId": "f330c11c-e358-41af-9ef4-bc36c146f907"
   },
   "outputs": [
    {
     "data": {
      "text/plain": [
       "device(type='cuda')"
      ]
     },
     "execution_count": 26,
     "metadata": {},
     "output_type": "execute_result"
    }
   ],
   "source": [
    "DEVICE"
   ]
  },
  {
   "cell_type": "markdown",
   "metadata": {
    "id": "nI4-NzHxjmci"
   },
   "source": [
    "## Model Training"
   ]
  },
  {
   "cell_type": "code",
   "execution_count": 27,
   "metadata": {
    "executionInfo": {
     "elapsed": 4,
     "status": "ok",
     "timestamp": 1647023317083,
     "user": {
      "displayName": "Marko Petkovic",
      "photoUrl": "https://lh3.googleusercontent.com/a-/AOh14Gijd0e9r3I1vRZVN6DEwl16XpJxxS1oSAKunOnfZQ=s64",
      "userId": "11987583535390684770"
     },
     "user_tz": -60
    },
    "id": "sJE0HTJE1ayP"
   },
   "outputs": [],
   "source": [
    "default_args = diva_args(prewarmup=0, number_components=50, z1_dim=256, z2_dim=256)"
   ]
  },
  {
   "cell_type": "code",
   "execution_count": 28,
   "metadata": {
    "colab": {
     "base_uri": "https://localhost:8080/",
     "height": 0
    },
    "executionInfo": {
     "elapsed": 1182,
     "status": "error",
     "timestamp": 1647023318262,
     "user": {
      "displayName": "Marko Petkovic",
      "photoUrl": "https://lh3.googleusercontent.com/a-/AOh14Gijd0e9r3I1vRZVN6DEwl16XpJxxS1oSAKunOnfZQ=s64",
      "userId": "11987583535390684770"
     },
     "user_tz": -60
    },
    "id": "kxIMSeUD1949",
    "outputId": "45991358-df3b-4e61-9d8a-c48b71b9fa49"
   },
   "outputs": [],
   "source": [
    "diva = RHVAE(default_args).to(DEVICE)"
   ]
  },
  {
   "cell_type": "code",
   "execution_count": 29,
   "metadata": {
    "executionInfo": {
     "elapsed": 6,
     "status": "aborted",
     "timestamp": 1647023318259,
     "user": {
      "displayName": "Marko Petkovic",
      "photoUrl": "https://lh3.googleusercontent.com/a-/AOh14Gijd0e9r3I1vRZVN6DEwl16XpJxxS1oSAKunOnfZQ=s64",
      "userId": "11987583535390684770"
     },
     "user_tz": -60
    },
    "id": "PUHyoMi7iwJC"
   },
   "outputs": [],
   "source": [
    "#diva.load_state_dict(torch.load(f'{link}/saved_models/new/HVAE3/checkpoints/100.pth'))"
   ]
  },
  {
   "cell_type": "code",
   "execution_count": 30,
   "metadata": {
    "executionInfo": {
     "elapsed": 6,
     "status": "aborted",
     "timestamp": 1647023318260,
     "user": {
      "displayName": "Marko Petkovic",
      "photoUrl": "https://lh3.googleusercontent.com/a-/AOh14Gijd0e9r3I1vRZVN6DEwl16XpJxxS1oSAKunOnfZQ=s64",
      "userId": "11987583535390684770"
     },
     "user_tz": -60
    },
    "id": "48B39rFl79Yh"
   },
   "outputs": [],
   "source": [
    "train_loader = DataLoader(RNA_dataset, batch_size=128, shuffle=True)\n",
    "test_loader = DataLoader(RNA_dataset_test, batch_size=128)"
   ]
  },
  {
   "cell_type": "code",
   "execution_count": 31,
   "metadata": {
    "executionInfo": {
     "elapsed": 7,
     "status": "aborted",
     "timestamp": 1647023318261,
     "user": {
      "displayName": "Marko Petkovic",
      "photoUrl": "https://lh3.googleusercontent.com/a-/AOh14Gijd0e9r3I1vRZVN6DEwl16XpJxxS1oSAKunOnfZQ=s64",
      "userId": "11987583535390684770"
     },
     "user_tz": -60
    },
    "id": "J6y2Ek2677z1"
   },
   "outputs": [],
   "source": [
    "#optimizer = optim.SGD(diva.parameters(), lr=0.00001, momentum=0.1, nesterov=True)\n",
    "optimizer = optim.Adam(diva.parameters(), lr=0.001)"
   ]
  },
  {
   "cell_type": "code",
   "execution_count": 32,
   "metadata": {},
   "outputs": [],
   "source": [
    "#RNA_dataset.x_len.min(), RNA_dataset.x_len.max()"
   ]
  },
  {
   "cell_type": "code",
   "execution_count": 33,
   "metadata": {},
   "outputs": [],
   "source": [
    "writer.flush()"
   ]
  },
  {
   "cell_type": "code",
   "execution_count": 34,
   "metadata": {},
   "outputs": [],
   "source": [
    "#diva.rec_gamma = 3"
   ]
  },
  {
   "cell_type": "code",
   "execution_count": 35,
   "metadata": {
    "executionInfo": {
     "elapsed": 7,
     "status": "aborted",
     "timestamp": 1647023318261,
     "user": {
      "displayName": "Marko Petkovic",
      "photoUrl": "https://lh3.googleusercontent.com/a-/AOh14Gijd0e9r3I1vRZVN6DEwl16XpJxxS1oSAKunOnfZQ=s64",
      "userId": "11987583535390684770"
     },
     "user_tz": -60
    },
    "id": "vQGakzXN6V-Y",
    "scrolled": false
   },
   "outputs": [
    {
     "data": {
      "text/plain": [
       "Reusing TensorBoard on port 6006 (pid 18760), started 1:03:36 ago. (Use '!kill 18760' to kill it.)"
      ]
     },
     "metadata": {},
     "output_type": "display_data"
    },
    {
     "data": {
      "text/html": [
       "\n",
       "      <iframe id=\"tensorboard-frame-46b8b0bcb683f098\" width=\"100%\" height=\"800\" frameborder=\"0\">\n",
       "      </iframe>\n",
       "      <script>\n",
       "        (function() {\n",
       "          const frame = document.getElementById(\"tensorboard-frame-46b8b0bcb683f098\");\n",
       "          const url = new URL(\"/\", window.location);\n",
       "          const port = 6006;\n",
       "          if (port) {\n",
       "            url.port = port;\n",
       "          }\n",
       "          frame.src = url;\n",
       "        })();\n",
       "      </script>\n",
       "    "
      ],
      "text/plain": [
       "<IPython.core.display.HTML object>"
      ]
     },
     "metadata": {},
     "output_type": "display_data"
    }
   ],
   "source": [
    "%tensorboard  --logdir=\"D:/users/Marko/downloads/mirna/saved_models/new/RHVAE/tensorboard/\""
   ]
  },
  {
   "cell_type": "code",
   "execution_count": null,
   "metadata": {
    "executionInfo": {
     "elapsed": 8,
     "status": "aborted",
     "timestamp": 1647023318262,
     "user": {
      "displayName": "Marko Petkovic",
      "photoUrl": "https://lh3.googleusercontent.com/a-/AOh14Gijd0e9r3I1vRZVN6DEwl16XpJxxS1oSAKunOnfZQ=s64",
      "userId": "11987583535390684770"
     },
     "user_tz": -60
    },
    "id": "0m47XoL87oLs",
    "scrolled": true
   },
   "outputs": [
    {
     "name": "stderr",
     "output_type": "stream",
     "text": [
      "Epoch 1: 272batch [00:37,  7.21batch/s, loss=1.79] \n"
     ]
    },
    {
     "name": "stdout",
     "output_type": "stream",
     "text": [
      "epoch 1: avg train loss 1.01, bar train loss 0.042, col train loss 0.017\n",
      "epoch 1: avg test  loss 0.46, bar  test loss 0.020, col  test loss 0.013\n"
     ]
    },
    {
     "name": "stderr",
     "output_type": "stream",
     "text": [
      "Epoch 2: 272batch [00:37,  7.24batch/s, loss=1.75] \n"
     ]
    },
    {
     "name": "stdout",
     "output_type": "stream",
     "text": [
      "epoch 2: avg train loss 0.48, bar train loss 0.022, col train loss 0.013\n"
     ]
    },
    {
     "name": "stderr",
     "output_type": "stream",
     "text": [
      "Epoch 3: 1batch [00:00,  7.30batch/s, loss=0.506]"
     ]
    },
    {
     "name": "stdout",
     "output_type": "stream",
     "text": [
      "epoch 2: avg test  loss 0.44, bar  test loss 0.019, col  test loss 0.013\n"
     ]
    },
    {
     "name": "stderr",
     "output_type": "stream",
     "text": [
      "Epoch 3: 272batch [00:37,  7.21batch/s, loss=1.74] \n"
     ]
    },
    {
     "name": "stdout",
     "output_type": "stream",
     "text": [
      "epoch 3: avg train loss 0.47, bar train loss 0.021, col train loss 0.013\n"
     ]
    },
    {
     "name": "stderr",
     "output_type": "stream",
     "text": [
      "Epoch 4: 1batch [00:00,  7.30batch/s, loss=0.476]"
     ]
    },
    {
     "name": "stdout",
     "output_type": "stream",
     "text": [
      "epoch 3: avg test  loss 0.41, bar  test loss 0.019, col  test loss 0.013\n"
     ]
    },
    {
     "name": "stderr",
     "output_type": "stream",
     "text": [
      "Epoch 4: 272batch [00:37,  7.26batch/s, loss=1.82] \n"
     ]
    },
    {
     "name": "stdout",
     "output_type": "stream",
     "text": [
      "epoch 4: avg train loss 0.46, bar train loss 0.021, col train loss 0.013\n"
     ]
    },
    {
     "name": "stderr",
     "output_type": "stream",
     "text": [
      "Epoch 5: 1batch [00:00,  7.25batch/s, loss=0.451]"
     ]
    },
    {
     "name": "stdout",
     "output_type": "stream",
     "text": [
      "epoch 4: avg test  loss 0.41, bar  test loss 0.019, col  test loss 0.013\n"
     ]
    },
    {
     "name": "stderr",
     "output_type": "stream",
     "text": [
      "Epoch 5: 272batch [00:37,  7.17batch/s, loss=1.78] \n"
     ]
    },
    {
     "name": "stdout",
     "output_type": "stream",
     "text": [
      "epoch 5: avg train loss 0.45, bar train loss 0.020, col train loss 0.013\n",
      "epoch 5: avg test  loss 0.41, bar  test loss 0.018, col  test loss 0.012\n"
     ]
    },
    {
     "name": "stderr",
     "output_type": "stream",
     "text": [
      "Epoch 6: 272batch [00:38,  7.15batch/s, loss=1.66] \n"
     ]
    },
    {
     "name": "stdout",
     "output_type": "stream",
     "text": [
      "epoch 6: avg train loss 0.44, bar train loss 0.020, col train loss 0.013\n"
     ]
    },
    {
     "name": "stderr",
     "output_type": "stream",
     "text": [
      "Epoch 7: 1batch [00:00,  7.30batch/s, loss=0.436]"
     ]
    },
    {
     "name": "stdout",
     "output_type": "stream",
     "text": [
      "epoch 6: avg test  loss 0.40, bar  test loss 0.018, col  test loss 0.012\n"
     ]
    },
    {
     "name": "stderr",
     "output_type": "stream",
     "text": [
      "Epoch 7: 272batch [00:37,  7.24batch/s, loss=1.93] \n"
     ]
    },
    {
     "name": "stdout",
     "output_type": "stream",
     "text": [
      "epoch 7: avg train loss 0.45, bar train loss 0.020, col train loss 0.013\n"
     ]
    },
    {
     "name": "stderr",
     "output_type": "stream",
     "text": [
      "Epoch 8: 1batch [00:00,  7.30batch/s, loss=0.429]"
     ]
    },
    {
     "name": "stdout",
     "output_type": "stream",
     "text": [
      "epoch 7: avg test  loss 0.39, bar  test loss 0.018, col  test loss 0.012\n"
     ]
    },
    {
     "name": "stderr",
     "output_type": "stream",
     "text": [
      "Epoch 8: 272batch [00:37,  7.19batch/s, loss=1.73] \n"
     ]
    },
    {
     "name": "stdout",
     "output_type": "stream",
     "text": [
      "epoch 8: avg train loss 0.43, bar train loss 0.019, col train loss 0.013\n"
     ]
    },
    {
     "name": "stderr",
     "output_type": "stream",
     "text": [
      "Epoch 9: 1batch [00:00,  6.85batch/s, loss=0.459]"
     ]
    },
    {
     "name": "stdout",
     "output_type": "stream",
     "text": [
      "epoch 8: avg test  loss 0.38, bar  test loss 0.017, col  test loss 0.012\n"
     ]
    },
    {
     "name": "stderr",
     "output_type": "stream",
     "text": [
      "Epoch 9: 272batch [00:38,  7.14batch/s, loss=1.63] \n"
     ]
    },
    {
     "name": "stdout",
     "output_type": "stream",
     "text": [
      "epoch 9: avg train loss 0.42, bar train loss 0.019, col train loss 0.012\n"
     ]
    },
    {
     "name": "stderr",
     "output_type": "stream",
     "text": [
      "Epoch 10: 1batch [00:00,  7.19batch/s, loss=0.452]"
     ]
    },
    {
     "name": "stdout",
     "output_type": "stream",
     "text": [
      "epoch 9: avg test  loss 0.39, bar  test loss 0.017, col  test loss 0.012\n"
     ]
    },
    {
     "name": "stderr",
     "output_type": "stream",
     "text": [
      "Epoch 10: 272batch [00:37,  7.16batch/s, loss=1.62] \n"
     ]
    },
    {
     "name": "stdout",
     "output_type": "stream",
     "text": [
      "epoch 10: avg train loss 0.42, bar train loss 0.019, col train loss 0.012\n",
      "epoch 10: avg test  loss 0.38, bar  test loss 0.017, col  test loss 0.012\n"
     ]
    },
    {
     "name": "stderr",
     "output_type": "stream",
     "text": [
      "Epoch 11: 272batch [00:38,  7.15batch/s, loss=1.47] \n"
     ]
    },
    {
     "name": "stdout",
     "output_type": "stream",
     "text": [
      "epoch 11: avg train loss 0.41, bar train loss 0.019, col train loss 0.012\n"
     ]
    },
    {
     "name": "stderr",
     "output_type": "stream",
     "text": [
      "Epoch 12: 1batch [00:00,  7.25batch/s, loss=0.398]"
     ]
    },
    {
     "name": "stdout",
     "output_type": "stream",
     "text": [
      "epoch 11: avg test  loss 0.38, bar  test loss 0.017, col  test loss 0.012\n"
     ]
    },
    {
     "name": "stderr",
     "output_type": "stream",
     "text": [
      "Epoch 12: 272batch [00:37,  7.18batch/s, loss=1.65] \n"
     ]
    },
    {
     "name": "stdout",
     "output_type": "stream",
     "text": [
      "epoch 12: avg train loss 0.41, bar train loss 0.018, col train loss 0.012\n"
     ]
    },
    {
     "name": "stderr",
     "output_type": "stream",
     "text": [
      "Epoch 13: 1batch [00:00,  7.30batch/s, loss=0.419]"
     ]
    },
    {
     "name": "stdout",
     "output_type": "stream",
     "text": [
      "epoch 12: avg test  loss 0.37, bar  test loss 0.017, col  test loss 0.012\n"
     ]
    },
    {
     "name": "stderr",
     "output_type": "stream",
     "text": [
      "Epoch 13: 272batch [00:38,  7.14batch/s, loss=1.45] \n"
     ]
    },
    {
     "name": "stdout",
     "output_type": "stream",
     "text": [
      "epoch 13: avg train loss 0.40, bar train loss 0.018, col train loss 0.012\n"
     ]
    },
    {
     "name": "stderr",
     "output_type": "stream",
     "text": [
      "Epoch 14: 1batch [00:00,  7.30batch/s, loss=0.412]"
     ]
    },
    {
     "name": "stdout",
     "output_type": "stream",
     "text": [
      "epoch 13: avg test  loss 0.37, bar  test loss 0.016, col  test loss 0.012\n"
     ]
    },
    {
     "name": "stderr",
     "output_type": "stream",
     "text": [
      "Epoch 14: 272batch [00:37,  7.19batch/s, loss=1.48] \n"
     ]
    },
    {
     "name": "stdout",
     "output_type": "stream",
     "text": [
      "epoch 14: avg train loss 0.40, bar train loss 0.018, col train loss 0.012\n"
     ]
    },
    {
     "name": "stderr",
     "output_type": "stream",
     "text": [
      "Epoch 15: 1batch [00:00,  7.25batch/s, loss=0.444]"
     ]
    },
    {
     "name": "stdout",
     "output_type": "stream",
     "text": [
      "epoch 14: avg test  loss 0.37, bar  test loss 0.016, col  test loss 0.012\n"
     ]
    },
    {
     "name": "stderr",
     "output_type": "stream",
     "text": [
      "Epoch 15: 272batch [00:37,  7.22batch/s, loss=1.38] \n"
     ]
    },
    {
     "name": "stdout",
     "output_type": "stream",
     "text": [
      "epoch 15: avg train loss 0.39, bar train loss 0.018, col train loss 0.012\n",
      "epoch 15: avg test  loss 0.37, bar  test loss 0.016, col  test loss 0.012\n"
     ]
    },
    {
     "name": "stderr",
     "output_type": "stream",
     "text": [
      "Epoch 16: 272batch [00:37,  7.22batch/s, loss=1.45] \n"
     ]
    },
    {
     "name": "stdout",
     "output_type": "stream",
     "text": [
      "epoch 16: avg train loss 0.39, bar train loss 0.017, col train loss 0.012\n"
     ]
    },
    {
     "name": "stderr",
     "output_type": "stream",
     "text": [
      "Epoch 17: 1batch [00:00,  7.25batch/s, loss=0.396]"
     ]
    },
    {
     "name": "stdout",
     "output_type": "stream",
     "text": [
      "epoch 16: avg test  loss 0.36, bar  test loss 0.016, col  test loss 0.012\n"
     ]
    },
    {
     "name": "stderr",
     "output_type": "stream",
     "text": [
      "Epoch 17: 272batch [00:38,  7.15batch/s, loss=1.23] \n"
     ]
    },
    {
     "name": "stdout",
     "output_type": "stream",
     "text": [
      "epoch 17: avg train loss 0.39, bar train loss 0.017, col train loss 0.012\n"
     ]
    },
    {
     "name": "stderr",
     "output_type": "stream",
     "text": [
      "Epoch 18: 1batch [00:00,  7.14batch/s, loss=0.369]"
     ]
    },
    {
     "name": "stdout",
     "output_type": "stream",
     "text": [
      "epoch 17: avg test  loss 0.36, bar  test loss 0.016, col  test loss 0.012\n"
     ]
    },
    {
     "name": "stderr",
     "output_type": "stream",
     "text": [
      "Epoch 18: 272batch [00:38,  7.13batch/s, loss=1.51] \n"
     ]
    },
    {
     "name": "stdout",
     "output_type": "stream",
     "text": [
      "epoch 18: avg train loss 0.38, bar train loss 0.017, col train loss 0.012\n"
     ]
    },
    {
     "name": "stderr",
     "output_type": "stream",
     "text": [
      "Epoch 19: 1batch [00:00,  7.25batch/s, loss=0.367]"
     ]
    },
    {
     "name": "stdout",
     "output_type": "stream",
     "text": [
      "epoch 18: avg test  loss 0.36, bar  test loss 0.016, col  test loss 0.012\n"
     ]
    },
    {
     "name": "stderr",
     "output_type": "stream",
     "text": [
      "Epoch 19: 272batch [00:37,  7.16batch/s, loss=1.43] \n"
     ]
    },
    {
     "name": "stdout",
     "output_type": "stream",
     "text": [
      "epoch 19: avg train loss 0.38, bar train loss 0.017, col train loss 0.012\n"
     ]
    },
    {
     "name": "stderr",
     "output_type": "stream",
     "text": [
      "Epoch 20: 1batch [00:00,  7.25batch/s, loss=0.378]"
     ]
    },
    {
     "name": "stdout",
     "output_type": "stream",
     "text": [
      "epoch 19: avg test  loss 0.35, bar  test loss 0.016, col  test loss 0.012\n"
     ]
    },
    {
     "name": "stderr",
     "output_type": "stream",
     "text": [
      "Epoch 20: 272batch [00:38,  7.14batch/s, loss=1.4]  \n"
     ]
    },
    {
     "name": "stdout",
     "output_type": "stream",
     "text": [
      "epoch 20: avg train loss 0.38, bar train loss 0.017, col train loss 0.012\n",
      "epoch 20: avg test  loss 0.35, bar  test loss 0.016, col  test loss 0.012\n"
     ]
    },
    {
     "name": "stderr",
     "output_type": "stream",
     "text": [
      "Epoch 21: 272batch [00:38,  7.11batch/s, loss=1.38] \n"
     ]
    },
    {
     "name": "stdout",
     "output_type": "stream",
     "text": [
      "epoch 21: avg train loss 0.37, bar train loss 0.017, col train loss 0.012\n"
     ]
    },
    {
     "name": "stderr",
     "output_type": "stream",
     "text": [
      "Epoch 22: 1batch [00:00,  7.04batch/s, loss=0.388]"
     ]
    },
    {
     "name": "stdout",
     "output_type": "stream",
     "text": [
      "epoch 21: avg test  loss 0.35, bar  test loss 0.015, col  test loss 0.012\n"
     ]
    },
    {
     "name": "stderr",
     "output_type": "stream",
     "text": [
      "Epoch 22: 272batch [00:38,  7.11batch/s, loss=1.34] \n"
     ]
    },
    {
     "name": "stdout",
     "output_type": "stream",
     "text": [
      "epoch 22: avg train loss 0.37, bar train loss 0.017, col train loss 0.012\n"
     ]
    },
    {
     "name": "stderr",
     "output_type": "stream",
     "text": [
      "Epoch 23: 1batch [00:00,  7.19batch/s, loss=0.38]"
     ]
    },
    {
     "name": "stdout",
     "output_type": "stream",
     "text": [
      "epoch 22: avg test  loss 0.35, bar  test loss 0.016, col  test loss 0.012\n"
     ]
    },
    {
     "name": "stderr",
     "output_type": "stream",
     "text": [
      "Epoch 23: 272batch [00:37,  7.21batch/s, loss=1.3]  \n"
     ]
    },
    {
     "name": "stdout",
     "output_type": "stream",
     "text": [
      "epoch 23: avg train loss 0.37, bar train loss 0.017, col train loss 0.012\n"
     ]
    },
    {
     "name": "stderr",
     "output_type": "stream",
     "text": [
      "Epoch 24: 1batch [00:00,  7.19batch/s, loss=0.367]"
     ]
    },
    {
     "name": "stdout",
     "output_type": "stream",
     "text": [
      "epoch 23: avg test  loss 0.35, bar  test loss 0.015, col  test loss 0.012\n"
     ]
    },
    {
     "name": "stderr",
     "output_type": "stream",
     "text": [
      "Epoch 24: 272batch [00:38,  7.12batch/s, loss=1.33] \n"
     ]
    },
    {
     "name": "stdout",
     "output_type": "stream",
     "text": [
      "epoch 24: avg train loss 0.37, bar train loss 0.016, col train loss 0.012\n"
     ]
    },
    {
     "name": "stderr",
     "output_type": "stream",
     "text": [
      "Epoch 25: 1batch [00:00,  7.19batch/s, loss=0.41]"
     ]
    },
    {
     "name": "stdout",
     "output_type": "stream",
     "text": [
      "epoch 24: avg test  loss 0.36, bar  test loss 0.016, col  test loss 0.012\n"
     ]
    },
    {
     "name": "stderr",
     "output_type": "stream",
     "text": [
      "Epoch 25: 272batch [00:38,  7.11batch/s, loss=1.42] \n"
     ]
    },
    {
     "name": "stdout",
     "output_type": "stream",
     "text": [
      "epoch 25: avg train loss 0.37, bar train loss 0.016, col train loss 0.012\n",
      "epoch 25: avg test  loss 0.35, bar  test loss 0.016, col  test loss 0.012\n"
     ]
    },
    {
     "name": "stderr",
     "output_type": "stream",
     "text": [
      "Epoch 26: 272batch [00:38,  7.07batch/s, loss=1.41] \n"
     ]
    },
    {
     "name": "stdout",
     "output_type": "stream",
     "text": [
      "epoch 26: avg train loss 0.36, bar train loss 0.016, col train loss 0.012\n"
     ]
    },
    {
     "name": "stderr",
     "output_type": "stream",
     "text": [
      "Epoch 27: 1batch [00:00,  7.19batch/s, loss=0.345]"
     ]
    },
    {
     "name": "stdout",
     "output_type": "stream",
     "text": [
      "epoch 26: avg test  loss 0.35, bar  test loss 0.015, col  test loss 0.012\n"
     ]
    },
    {
     "name": "stderr",
     "output_type": "stream",
     "text": [
      "Epoch 27: 272batch [00:38,  7.09batch/s, loss=1.49] \n"
     ]
    },
    {
     "name": "stdout",
     "output_type": "stream",
     "text": [
      "epoch 27: avg train loss 0.36, bar train loss 0.016, col train loss 0.012\n"
     ]
    },
    {
     "name": "stderr",
     "output_type": "stream",
     "text": [
      "Epoch 28: 1batch [00:00,  7.09batch/s, loss=0.391]"
     ]
    },
    {
     "name": "stdout",
     "output_type": "stream",
     "text": [
      "epoch 27: avg test  loss 0.35, bar  test loss 0.015, col  test loss 0.012\n"
     ]
    },
    {
     "name": "stderr",
     "output_type": "stream",
     "text": [
      "Epoch 28: 272batch [00:37,  7.17batch/s, loss=1.35] \n"
     ]
    },
    {
     "name": "stdout",
     "output_type": "stream",
     "text": [
      "epoch 28: avg train loss 0.36, bar train loss 0.016, col train loss 0.012\n"
     ]
    },
    {
     "name": "stderr",
     "output_type": "stream",
     "text": [
      "Epoch 29: 1batch [00:00,  6.62batch/s, loss=0.402]"
     ]
    },
    {
     "name": "stdout",
     "output_type": "stream",
     "text": [
      "epoch 28: avg test  loss 0.35, bar  test loss 0.015, col  test loss 0.012\n"
     ]
    },
    {
     "name": "stderr",
     "output_type": "stream",
     "text": [
      "Epoch 29: 272batch [00:38,  7.07batch/s, loss=1.23] \n"
     ]
    },
    {
     "name": "stdout",
     "output_type": "stream",
     "text": [
      "epoch 29: avg train loss 0.36, bar train loss 0.016, col train loss 0.012\n"
     ]
    },
    {
     "name": "stderr",
     "output_type": "stream",
     "text": [
      "Epoch 30: 1batch [00:00,  6.99batch/s, loss=0.354]"
     ]
    },
    {
     "name": "stdout",
     "output_type": "stream",
     "text": [
      "epoch 29: avg test  loss 0.34, bar  test loss 0.015, col  test loss 0.012\n"
     ]
    },
    {
     "name": "stderr",
     "output_type": "stream",
     "text": [
      "Epoch 30: 272batch [00:38,  7.04batch/s, loss=1.26] \n"
     ]
    },
    {
     "name": "stdout",
     "output_type": "stream",
     "text": [
      "epoch 30: avg train loss 0.36, bar train loss 0.016, col train loss 0.012\n",
      "epoch 30: avg test  loss 0.34, bar  test loss 0.015, col  test loss 0.012\n"
     ]
    },
    {
     "name": "stderr",
     "output_type": "stream",
     "text": [
      "Epoch 31: 272batch [00:38,  7.09batch/s, loss=1.34] \n"
     ]
    },
    {
     "name": "stdout",
     "output_type": "stream",
     "text": [
      "epoch 31: avg train loss 0.36, bar train loss 0.016, col train loss 0.012\n"
     ]
    },
    {
     "name": "stderr",
     "output_type": "stream",
     "text": [
      "Epoch 32: 1batch [00:00,  7.14batch/s, loss=0.378]"
     ]
    },
    {
     "name": "stdout",
     "output_type": "stream",
     "text": [
      "epoch 31: avg test  loss 0.33, bar  test loss 0.015, col  test loss 0.012\n"
     ]
    },
    {
     "name": "stderr",
     "output_type": "stream",
     "text": [
      "Epoch 32: 272batch [00:38,  7.05batch/s, loss=1.29] \n"
     ]
    },
    {
     "name": "stdout",
     "output_type": "stream",
     "text": [
      "epoch 32: avg train loss 0.35, bar train loss 0.016, col train loss 0.012\n"
     ]
    },
    {
     "name": "stderr",
     "output_type": "stream",
     "text": [
      "Epoch 33: 1batch [00:00,  7.14batch/s, loss=0.376]"
     ]
    },
    {
     "name": "stdout",
     "output_type": "stream",
     "text": [
      "epoch 32: avg test  loss 0.34, bar  test loss 0.015, col  test loss 0.012\n"
     ]
    },
    {
     "name": "stderr",
     "output_type": "stream",
     "text": [
      "Epoch 33: 272batch [00:38,  7.10batch/s, loss=1.34] \n"
     ]
    },
    {
     "name": "stdout",
     "output_type": "stream",
     "text": [
      "epoch 33: avg train loss 0.35, bar train loss 0.016, col train loss 0.012\n"
     ]
    },
    {
     "name": "stderr",
     "output_type": "stream",
     "text": [
      "Epoch 34: 1batch [00:00,  7.14batch/s, loss=0.332]"
     ]
    },
    {
     "name": "stdout",
     "output_type": "stream",
     "text": [
      "epoch 33: avg test  loss 0.34, bar  test loss 0.015, col  test loss 0.012\n"
     ]
    },
    {
     "name": "stderr",
     "output_type": "stream",
     "text": [
      "Epoch 34: 272batch [00:38,  7.06batch/s, loss=1.3]  \n"
     ]
    },
    {
     "name": "stdout",
     "output_type": "stream",
     "text": [
      "epoch 34: avg train loss 0.35, bar train loss 0.016, col train loss 0.012\n"
     ]
    },
    {
     "name": "stderr",
     "output_type": "stream",
     "text": [
      "Epoch 35: 1batch [00:00,  7.19batch/s, loss=0.317]"
     ]
    },
    {
     "name": "stdout",
     "output_type": "stream",
     "text": [
      "epoch 34: avg test  loss 0.33, bar  test loss 0.015, col  test loss 0.012\n"
     ]
    },
    {
     "name": "stderr",
     "output_type": "stream",
     "text": [
      "Epoch 35: 272batch [00:38,  7.06batch/s, loss=1.38] \n"
     ]
    },
    {
     "name": "stdout",
     "output_type": "stream",
     "text": [
      "epoch 35: avg train loss 0.35, bar train loss 0.015, col train loss 0.012\n",
      "epoch 35: avg test  loss 0.33, bar  test loss 0.015, col  test loss 0.012\n"
     ]
    },
    {
     "name": "stderr",
     "output_type": "stream",
     "text": [
      "Epoch 36: 272batch [00:38,  7.06batch/s, loss=1.24] \n"
     ]
    },
    {
     "name": "stdout",
     "output_type": "stream",
     "text": [
      "epoch 36: avg train loss 0.35, bar train loss 0.015, col train loss 0.012\n"
     ]
    },
    {
     "name": "stderr",
     "output_type": "stream",
     "text": [
      "Epoch 37: 1batch [00:00,  7.19batch/s, loss=0.373]"
     ]
    },
    {
     "name": "stdout",
     "output_type": "stream",
     "text": [
      "epoch 36: avg test  loss 0.33, bar  test loss 0.014, col  test loss 0.012\n"
     ]
    },
    {
     "name": "stderr",
     "output_type": "stream",
     "text": [
      "Epoch 37: 272batch [00:38,  7.08batch/s, loss=1.34] \n"
     ]
    },
    {
     "name": "stdout",
     "output_type": "stream",
     "text": [
      "epoch 37: avg train loss 0.35, bar train loss 0.015, col train loss 0.012\n"
     ]
    },
    {
     "name": "stderr",
     "output_type": "stream",
     "text": [
      "Epoch 38: 1batch [00:00,  6.99batch/s, loss=0.328]"
     ]
    },
    {
     "name": "stdout",
     "output_type": "stream",
     "text": [
      "epoch 37: avg test  loss 0.34, bar  test loss 0.015, col  test loss 0.012\n"
     ]
    },
    {
     "name": "stderr",
     "output_type": "stream",
     "text": [
      "Epoch 38: 272batch [00:38,  7.00batch/s, loss=1.28] \n"
     ]
    },
    {
     "name": "stdout",
     "output_type": "stream",
     "text": [
      "epoch 38: avg train loss 0.34, bar train loss 0.015, col train loss 0.012\n"
     ]
    },
    {
     "name": "stderr",
     "output_type": "stream",
     "text": [
      "Epoch 39: 1batch [00:00,  7.04batch/s, loss=0.332]"
     ]
    },
    {
     "name": "stdout",
     "output_type": "stream",
     "text": [
      "epoch 38: avg test  loss 0.33, bar  test loss 0.014, col  test loss 0.012\n"
     ]
    },
    {
     "name": "stderr",
     "output_type": "stream",
     "text": [
      "Epoch 39: 272batch [00:38,  7.01batch/s, loss=1.3]  \n"
     ]
    },
    {
     "name": "stdout",
     "output_type": "stream",
     "text": [
      "epoch 39: avg train loss 0.35, bar train loss 0.015, col train loss 0.012\n"
     ]
    },
    {
     "name": "stderr",
     "output_type": "stream",
     "text": [
      "Epoch 40: 1batch [00:00,  7.04batch/s, loss=0.345]"
     ]
    },
    {
     "name": "stdout",
     "output_type": "stream",
     "text": [
      "epoch 39: avg test  loss 0.33, bar  test loss 0.015, col  test loss 0.012\n"
     ]
    },
    {
     "name": "stderr",
     "output_type": "stream",
     "text": [
      "Epoch 40: 272batch [00:38,  7.01batch/s, loss=1.13] \n"
     ]
    },
    {
     "name": "stdout",
     "output_type": "stream",
     "text": [
      "epoch 40: avg train loss 0.34, bar train loss 0.015, col train loss 0.012\n",
      "epoch 40: avg test  loss 0.32, bar  test loss 0.014, col  test loss 0.012\n"
     ]
    },
    {
     "name": "stderr",
     "output_type": "stream",
     "text": [
      "Epoch 41: 272batch [00:38,  7.02batch/s, loss=1.29] \n"
     ]
    },
    {
     "name": "stdout",
     "output_type": "stream",
     "text": [
      "epoch 41: avg train loss 0.34, bar train loss 0.015, col train loss 0.012\n"
     ]
    },
    {
     "name": "stderr",
     "output_type": "stream",
     "text": [
      "Epoch 42: 1batch [00:00,  6.99batch/s, loss=0.298]"
     ]
    },
    {
     "name": "stdout",
     "output_type": "stream",
     "text": [
      "epoch 41: avg test  loss 0.33, bar  test loss 0.014, col  test loss 0.012\n"
     ]
    },
    {
     "name": "stderr",
     "output_type": "stream",
     "text": [
      "Epoch 42: 272batch [00:38,  7.01batch/s, loss=1.32] \n"
     ]
    },
    {
     "name": "stdout",
     "output_type": "stream",
     "text": [
      "epoch 42: avg train loss 0.34, bar train loss 0.015, col train loss 0.012\n"
     ]
    },
    {
     "name": "stderr",
     "output_type": "stream",
     "text": [
      "Epoch 43: 1batch [00:00,  7.09batch/s, loss=0.369]"
     ]
    },
    {
     "name": "stdout",
     "output_type": "stream",
     "text": [
      "epoch 42: avg test  loss 0.33, bar  test loss 0.014, col  test loss 0.012\n"
     ]
    },
    {
     "name": "stderr",
     "output_type": "stream",
     "text": [
      "Epoch 43: 272batch [00:38,  7.02batch/s, loss=1.1]  \n"
     ]
    },
    {
     "name": "stdout",
     "output_type": "stream",
     "text": [
      "epoch 43: avg train loss 0.34, bar train loss 0.015, col train loss 0.012\n"
     ]
    },
    {
     "name": "stderr",
     "output_type": "stream",
     "text": [
      "Epoch 44: 1batch [00:00,  7.04batch/s, loss=0.349]"
     ]
    },
    {
     "name": "stdout",
     "output_type": "stream",
     "text": [
      "epoch 43: avg test  loss 0.33, bar  test loss 0.015, col  test loss 0.012\n"
     ]
    },
    {
     "name": "stderr",
     "output_type": "stream",
     "text": [
      "Epoch 44: 272batch [00:39,  6.88batch/s, loss=1.21] \n"
     ]
    },
    {
     "name": "stdout",
     "output_type": "stream",
     "text": [
      "epoch 44: avg train loss 0.34, bar train loss 0.015, col train loss 0.012\n"
     ]
    },
    {
     "name": "stderr",
     "output_type": "stream",
     "text": [
      "Epoch 45: 1batch [00:00,  6.94batch/s, loss=0.292]"
     ]
    },
    {
     "name": "stdout",
     "output_type": "stream",
     "text": [
      "epoch 44: avg test  loss 0.32, bar  test loss 0.014, col  test loss 0.012\n"
     ]
    },
    {
     "name": "stderr",
     "output_type": "stream",
     "text": [
      "Epoch 45: 272batch [00:39,  6.97batch/s, loss=1.1]  \n"
     ]
    },
    {
     "name": "stdout",
     "output_type": "stream",
     "text": [
      "epoch 45: avg train loss 0.34, bar train loss 0.015, col train loss 0.012\n",
      "epoch 45: avg test  loss 0.33, bar  test loss 0.014, col  test loss 0.012\n"
     ]
    },
    {
     "name": "stderr",
     "output_type": "stream",
     "text": [
      "Epoch 46: 272batch [00:39,  6.88batch/s, loss=1.11] \n"
     ]
    },
    {
     "name": "stdout",
     "output_type": "stream",
     "text": [
      "epoch 46: avg train loss 0.33, bar train loss 0.015, col train loss 0.012\n"
     ]
    },
    {
     "name": "stderr",
     "output_type": "stream",
     "text": [
      "Epoch 47: 1batch [00:00,  6.54batch/s, loss=0.291]"
     ]
    },
    {
     "name": "stdout",
     "output_type": "stream",
     "text": [
      "epoch 46: avg test  loss 0.32, bar  test loss 0.014, col  test loss 0.012\n"
     ]
    },
    {
     "name": "stderr",
     "output_type": "stream",
     "text": [
      "Epoch 47: 269batch [00:39,  6.75batch/s, loss=0.343]"
     ]
    }
   ],
   "source": [
    "lss, lss_t = train(default_args, train_loader, test_loader, diva, optimizer, 500, 0, save_folder=\"new/RHVAE\",save_interval=5)"
   ]
  },
  {
   "cell_type": "code",
   "execution_count": null,
   "metadata": {},
   "outputs": [],
   "source": [
    "#lss, lss_t = train(default_args, train_loader, test_loader, diva, optimizer, 1000,500,save_folder=\"new/HVAE2\",save_interval=5)"
   ]
  },
  {
   "cell_type": "code",
   "execution_count": null,
   "metadata": {},
   "outputs": [],
   "source": []
  },
  {
   "cell_type": "code",
   "execution_count": null,
   "metadata": {},
   "outputs": [],
   "source": []
  },
  {
   "cell_type": "code",
   "execution_count": null,
   "metadata": {},
   "outputs": [],
   "source": []
  },
  {
   "cell_type": "code",
   "execution_count": null,
   "metadata": {},
   "outputs": [],
   "source": []
  },
  {
   "cell_type": "code",
   "execution_count": null,
   "metadata": {
    "colab": {
     "base_uri": "https://localhost:8080/",
     "height": 1000
    },
    "executionInfo": {
     "elapsed": 4182003,
     "status": "ok",
     "timestamp": 1647010362327,
     "user": {
      "displayName": "Marko Petkovic",
      "photoUrl": "https://lh3.googleusercontent.com/a-/AOh14Gijd0e9r3I1vRZVN6DEwl16XpJxxS1oSAKunOnfZQ=s64",
      "userId": "11987583535390684770"
     },
     "user_tz": -60
    },
    "id": "NprX9l7G73MJ",
    "outputId": "e970b2ef-1d7d-4702-dd1f-3bb4b59c0326"
   },
   "outputs": [],
   "source": [
    "lss2, lss_t2 = train(default_args, train_loader, test_loader, diva, optimizer, 1000, 500, save_folder=\"VAEFC\")"
   ]
  },
  {
   "cell_type": "code",
   "execution_count": null,
   "metadata": {
    "scrolled": true
   },
   "outputs": [],
   "source": [
    "lss, lss_t = train(default_args, train_loader, test_loader, diva, optimizer, 1600, 1000, save_folder=\"VAEFC\")"
   ]
  },
  {
   "cell_type": "code",
   "execution_count": null,
   "metadata": {
    "id": "c4r_UyPUGXqT"
   },
   "outputs": [],
   "source": [
    "def plot_loss_acc(lss, lss_t):\n",
    "    fig,ax = plt.subplots()\n",
    "    ax.plot(lss, label=\"train loss\")\n",
    "    ax.plot(lss_t, label = \"test loss\")\n",
    "    #ax1 = ax.twinx()\n",
    "    #ax1.plot(yacc, label = \"train accuracy\", ls='--')\n",
    "    #ax1.plot(yacc_t, label = \"test accuracy\", ls='--')\n",
    "\n",
    "    lines, labels = ax.get_legend_handles_labels()\n",
    "    #lines2, labels2 = ax1.get_legend_handles_labels()\n",
    "\n",
    "    ax.legend(lines, labels)"
   ]
  },
  {
   "cell_type": "code",
   "execution_count": null,
   "metadata": {
    "colab": {
     "base_uri": "https://localhost:8080/",
     "height": 266
    },
    "executionInfo": {
     "elapsed": 857,
     "status": "ok",
     "timestamp": 1645822416415,
     "user": {
      "displayName": "Marko Petkovic",
      "photoUrl": "https://lh3.googleusercontent.com/a-/AOh14Gijd0e9r3I1vRZVN6DEwl16XpJxxS1oSAKunOnfZQ=s64",
      "userId": "11987583535390684770"
     },
     "user_tz": -60
    },
    "id": "fTFZZmoguwtU",
    "outputId": "540c8c1f-99d7-4931-c102-7c96747243aa"
   },
   "outputs": [],
   "source": [
    "plot_loss_acc(lss, lss_t)"
   ]
  },
  {
   "cell_type": "code",
   "execution_count": null,
   "metadata": {
    "colab": {
     "base_uri": "https://localhost:8080/",
     "height": 265
    },
    "executionInfo": {
     "elapsed": 557,
     "status": "ok",
     "timestamp": 1645623855467,
     "user": {
      "displayName": "Marko Petkovic",
      "photoUrl": "https://lh3.googleusercontent.com/a/default-user=s64",
      "userId": "04006351469182865246"
     },
     "user_tz": -60
    },
    "id": "mq2FG26TznE1",
    "outputId": "152eddd3-a440-4b25-c437-498efb0a7ffe"
   },
   "outputs": [],
   "source": [
    "plot_loss_acc(lss3, lss_t3, yacc3, yacc_t3)"
   ]
  },
  {
   "cell_type": "code",
   "execution_count": null,
   "metadata": {
    "id": "9FyP02qPdgso"
   },
   "outputs": [],
   "source": [
    "def plot_change_latent_var(diva, lat_space=\"y\", var_idx=[0,1,2,3,4,5,6,7], step = 5):\n",
    "    a = next(enumerate(test_loader))\n",
    "    with torch.no_grad():\n",
    "        diva.eval()\n",
    "        d = a[1][2][:len(var_idx)].to(DEVICE).float()\n",
    "        x = a[1][0][:len(var_idx)].to(DEVICE).float()\n",
    "        y = a[1][1][:len(var_idx)].to(DEVICE).float()\n",
    "\n",
    "        zx, zx_sc = diva.qzx(x)\n",
    "        zy, zy_sc = diva.qzy(x)\n",
    "        zd, zd_sc =  diva.qzd(x)\n",
    "\n",
    "        print(torch.max(zy), torch.min(zy), \"sdmax:\", torch.max(zy_sc))\n",
    "\n",
    "        out = change(zx, zy, zd, var_idx, lat_space, diva, step)\n",
    "    \n",
    "    fig, ax = plt.subplots(ncols=out.shape[0],nrows=len(var_idx),figsize=(10*4*out.shape[0],10*len(var_idx)))\n",
    "    for i in range(out.shape[0]):\n",
    "      for j in range(len(var_idx)):\n",
    "        ax[j,i].imshow(out[i,j])"
   ]
  },
  {
   "cell_type": "code",
   "execution_count": null,
   "metadata": {
    "id": "x6kJu1APenFe"
   },
   "outputs": [],
   "source": [
    "def change(zx, zy, zd, idx, lat = \"y\", model=diva, step = 2):\n",
    "    \n",
    "    dif = np.arange(-30,15,step)\n",
    "    print(torch.max(zy), torch.min(zy))\n",
    "    out = np.zeros((dif.shape[0], len(idx), 25, 100 ,3))  \n",
    "    #print(zy.shape, dif.shape[0])\n",
    "    for i in range(dif.shape[0]):\n",
    "      for j in range(len(idx)):\n",
    "        if lat == \"y\":\n",
    "            zy[j,idx] = dif[i]\n",
    "        elif lat == \"x\":\n",
    "            zx[j,idx] = dif[i]\n",
    "        elif lat == \"d\":\n",
    "            zd[j,idx] = dif[i]\n",
    "        len_, bar, col = model.px(zd[j],zx[j],zy[j])\n",
    "        out[i,j] = model.px.reconstruct_image(len_[None,:], bar, col)\n",
    "    \n",
    "    return out\n",
    "\n"
   ]
  },
  {
   "cell_type": "code",
   "execution_count": null,
   "metadata": {
    "colab": {
     "base_uri": "https://localhost:8080/",
     "height": 243
    },
    "executionInfo": {
     "elapsed": 33513,
     "status": "ok",
     "timestamp": 1645623900042,
     "user": {
      "displayName": "Marko Petkovic",
      "photoUrl": "https://lh3.googleusercontent.com/a/default-user=s64",
      "userId": "04006351469182865246"
     },
     "user_tz": -60
    },
    "id": "4U1JHmTKh0cE",
    "outputId": "b0a1850e-9f0d-4163-813b-8686f4bb05fc"
   },
   "outputs": [],
   "source": [
    "plot_change_latent_var(diva)"
   ]
  },
  {
   "cell_type": "code",
   "execution_count": null,
   "metadata": {
    "id": "cpZoRZMGHcui"
   },
   "outputs": [],
   "source": [
    "fig,ax = plt.subplots()\n",
    "ax.plot(np.arange(50,120), [i.cpu().detach().numpy() for i in lss2], label=\"train loss\")\n",
    "ax.plot(np.arange(50,120), [i.cpu().detach().numpy() for i in lss_t2], label = \"testloss\")\n",
    "ax1 = ax.twinx()\n",
    "ax1.plot(np.arange(50,120), yacc2, label = \"train\")\n",
    "ax1.plot(np.arange(50,120), yacc_t2, label = \"test\")\n",
    "\n",
    "plt.legend()"
   ]
  },
  {
   "cell_type": "code",
   "execution_count": null,
   "metadata": {
    "colab": {
     "base_uri": "https://localhost:8080/",
     "height": 283
    },
    "executionInfo": {
     "elapsed": 681,
     "status": "ok",
     "timestamp": 1645563980004,
     "user": {
      "displayName": "Marko Petkovic",
      "photoUrl": "https://lh3.googleusercontent.com/a-/AOh14Gijd0e9r3I1vRZVN6DEwl16XpJxxS1oSAKunOnfZQ=s64",
      "userId": "11987583535390684770"
     },
     "user_tz": -60
    },
    "id": "OQMW85JXM6oO",
    "outputId": "dd28a6c2-0024-498e-d571-c705ee67fbd6"
   },
   "outputs": [],
   "source": [
    "fig,ax = plt.subplots()\n",
    "ax.plot(np.arange(120,180), [i.cpu().detach().numpy() for i in lss3], label=\"train loss\")\n",
    "ax.plot(np.arange(120,180), [i.cpu().detach().numpy() for i in lss_t3], label = \"testloss\")\n",
    "ax1 = ax.twinx()\n",
    "ax1.plot(np.arange(120,180), yacc3, label = \"train\",c='green')\n",
    "ax1.plot(np.arange(120,180), yacc_t3, label = \"test\")\n",
    "\n",
    "plt.legend()"
   ]
  },
  {
   "cell_type": "markdown",
   "metadata": {
    "id": "whsgNltzXDhK"
   },
   "source": [
    "# Model Evaluation"
   ]
  },
  {
   "cell_type": "markdown",
   "metadata": {
    "id": "VfcwhSNIjqIE"
   },
   "source": [
    "## Sampling from trained model"
   ]
  },
  {
   "cell_type": "code",
   "execution_count": null,
   "metadata": {
    "id": "4NWGV4Xd7bn8"
   },
   "outputs": [],
   "source": []
  },
  {
   "cell_type": "code",
   "execution_count": null,
   "metadata": {
    "id": "3z5XA4QI1Mb1"
   },
   "outputs": [],
   "source": [
    "def plot_latent_space(lat_space=\"y\"):\n",
    "    '''\n",
    "    lat_space: y, d, x\n",
    "    '''\n",
    "\n",
    "    "
   ]
  },
  {
   "cell_type": "code",
   "execution_count": null,
   "metadata": {
    "colab": {
     "base_uri": "https://localhost:8080/",
     "height": 336
    },
    "executionInfo": {
     "elapsed": 1897,
     "status": "ok",
     "timestamp": 1645556291755,
     "user": {
      "displayName": "Marko Petkovic",
      "photoUrl": "https://lh3.googleusercontent.com/a-/AOh14Gijd0e9r3I1vRZVN6DEwl16XpJxxS1oSAKunOnfZQ=s64",
      "userId": "11987583535390684770"
     },
     "user_tz": -60
    },
    "id": "USZ7nIDugT1S",
    "outputId": "174d53bb-845f-458b-ca85-9d749c9c0865"
   },
   "outputs": [],
   "source": [
    "plot(x, out, 0)"
   ]
  },
  {
   "cell_type": "code",
   "execution_count": null,
   "metadata": {
    "colab": {
     "base_uri": "https://localhost:8080/",
     "height": 230
    },
    "executionInfo": {
     "elapsed": 1646,
     "status": "ok",
     "timestamp": 1645550689935,
     "user": {
      "displayName": "Marko Petkovic",
      "photoUrl": "https://lh3.googleusercontent.com/a-/AOh14Gijd0e9r3I1vRZVN6DEwl16XpJxxS1oSAKunOnfZQ=s64",
      "userId": "11987583535390684770"
     },
     "user_tz": -60
    },
    "id": "OE3qVVFFLaPm",
    "outputId": "93953e16-3bda-464b-b765-3aedb9fbe428"
   },
   "outputs": [],
   "source": [
    "fig, ax = plt.subplots(nrows=3, ncols=3)\n",
    "for i in range(9):\n",
    "  ax[i//3, i%3].imshow(x[i].cpu().permute(1,2,0))\n",
    "  \n",
    "plt.savefig('divastamporg.png')"
   ]
  },
  {
   "cell_type": "code",
   "execution_count": null,
   "metadata": {
    "id": "RRQU05xQEx28"
   },
   "outputs": [],
   "source": []
  }
 ],
 "metadata": {
  "accelerator": "GPU",
  "colab": {
   "collapsed_sections": [],
   "name": "StampVAE (Beta)",
   "provenance": []
  },
  "kernelspec": {
   "display_name": "Python 3",
   "language": "python",
   "name": "python3"
  },
  "language_info": {
   "codemirror_mode": {
    "name": "ipython",
    "version": 3
   },
   "file_extension": ".py",
   "mimetype": "text/x-python",
   "name": "python",
   "nbconvert_exporter": "python",
   "pygments_lexer": "ipython3",
   "version": "3.7.6"
  }
 },
 "nbformat": 4,
 "nbformat_minor": 1
}
