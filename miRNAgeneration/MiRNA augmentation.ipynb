{
 "cells": [
  {
   "cell_type": "code",
   "execution_count": 1,
   "metadata": {},
   "outputs": [],
   "source": [
    "import random\n",
    "import sys\n",
    "import os\n",
    "import time\n",
    "\n",
    "import numpy as np\n",
    "import matplotlib.pyplot as plt\n",
    "\n",
    "from tqdm import tqdm\n"
   ]
  },
  {
   "cell_type": "code",
   "execution_count": 2,
   "metadata": {},
   "outputs": [],
   "source": [
    "from mirna_augmentor import *"
   ]
  },
  {
   "cell_type": "code",
   "execution_count": 3,
   "metadata": {},
   "outputs": [
    {
     "name": "stderr",
     "output_type": "stream",
     "text": [
      "100%|███████████████████████████████████████████████████████████████████████████| 34721/34721 [00:58<00:00, 588.75it/s]\n"
     ]
    }
   ],
   "source": [
    "aug = Augmentor()"
   ]
  },
  {
   "cell_type": "code",
   "execution_count": 4,
   "metadata": {},
   "outputs": [
    {
     "data": {
      "text/plain": [
       "<matplotlib.image.AxesImage at 0x2397fe54408>"
      ]
     },
     "execution_count": 4,
     "metadata": {},
     "output_type": "execute_result"
    },
    {
     "data": {
      "image/png": "[encoded data removed]",
      "text/plain": [
       "<Figure size 432x288 with 1 Axes>"
      ]
     },
     "metadata": {
      "needs_background": "light"
     },
     "output_type": "display_data"
    }
   ],
   "source": [
    "plt.imshow(aug.augment_mirna(0))"
   ]
  },
  {
   "cell_type": "code",
   "execution_count": 7,
   "metadata": {},
   "outputs": [
    {
     "name": "stderr",
     "output_type": "stream",
     "text": [
      "100%|███████████████████████████████████████████████████████████████████████████| 34721/34721 [05:34<00:00, 103.91it/s]\n"
     ]
    }
   ],
   "source": [
    "aug.generate_augmented_mirna('newrna/augmentor_default_2/', 10)"
   ]
  },
  {
   "cell_type": "code",
   "execution_count": 10,
   "metadata": {},
   "outputs": [],
   "source": [
    "link = 'D:/users/Marko/downloads/mirna/'"
   ]
  },
  {
   "cell_type": "code",
   "execution_count": 11,
   "metadata": {},
   "outputs": [],
   "source": [
    "images = np.load(f'{link}/data/modmirbase_train_images.npz')['arr_0']/255"
   ]
  },
  {
   "cell_type": "code",
   "execution_count": 12,
   "metadata": {},
   "outputs": [],
   "source": [
    "x_len = np.load(f'{link}/data/modmirbase_train_images_len.npz')\n",
    "x_bar = np.load(f'{link}/data/modmirbase_train_images_bar.npz')"
   ]
  },
  {
   "cell_type": "code",
   "execution_count": 13,
   "metadata": {},
   "outputs": [],
   "source": [
    "x_len_max = np.argmax(x_len, 1)"
   ]
  },
  {
   "cell_type": "code",
   "execution_count": 14,
   "metadata": {},
   "outputs": [],
   "source": [
    "x_bar_max = np.argmax(x_bar, 1)"
   ]
  },
  {
   "cell_type": "code",
   "execution_count": 15,
   "metadata": {},
   "outputs": [],
   "source": [
    "length_table = {('A','U'):2,('U','A'):2,('C','G'):1,\n",
    "                    ('G','C'):1,('G','U'):3,('U','G'):3,\n",
    "                    ('A','A'):4,('A','G'):4,('A','C'):4,\n",
    "                    ('C','C'):4,('C','U'):4,('C','A'):4,\n",
    "                    ('U','C'):4,('U','U'):4,('G','A'):4,\n",
    "                    ('G','G'):1,('A','Z'):1,('Z','A'):1,\n",
    "                    ('U','Z'):1,('Z','U'):1,('C','Z'):1,\n",
    "                    ('Z','C'):1,('G','Z'):1,('Z','G'):1,\n",
    "                    ('Z','Z'):1}"
   ]
  },
  {
   "cell_type": "code",
   "execution_count": 16,
   "metadata": {},
   "outputs": [
    {
     "data": {
      "image/png": "[encoded data removed]",
      "text/plain": [
       "<Figure size 432x288 with 1 Axes>"
      ]
     },
     "metadata": {
      "needs_background": "light"
     },
     "output_type": "display_data"
    }
   ],
   "source": [
    "plt.hist(x_bar_max.flatten(), bins = np.arange(0,14,1));"
   ]
  },
  {
   "cell_type": "code",
   "execution_count": 17,
   "metadata": {},
   "outputs": [
    {
     "data": {
      "image/png": "[encoded data removed]",
      "text/plain": [
       "<Figure size 432x288 with 1 Axes>"
      ]
     },
     "metadata": {
      "needs_background": "light"
     },
     "output_type": "display_data"
    }
   ],
   "source": [
    "plt.hist(x_len_max, bins=np.arange(0,101,1));"
   ]
  },
  {
   "cell_type": "code",
   "execution_count": 18,
   "metadata": {},
   "outputs": [],
   "source": [
    "def get_color(pixel):\n",
    "    \"\"\"\n",
    "    returns the encoded value for a pixel\n",
    "    \"\"\"\n",
    "    if (pixel == np.array([0,0,0])).all():  \n",
    "        return 'Z' # black\n",
    "    elif (pixel == np.array([1,0,0])).all():  \n",
    "        return 'G' # red\n",
    "    elif (pixel == np.array([0,0,1])).all():  \n",
    "        return 'C' # blue\n",
    "    elif (pixel == np.array([0,1,0])).all():  \n",
    "        return 'U' # green\n",
    "    elif (pixel == np.array([1,1,0])).all():  \n",
    "        return 'A' # yellow\n",
    "    else:\n",
    "        print(\"Something wrong!\")"
   ]
  },
  {
   "cell_type": "code",
   "execution_count": 19,
   "metadata": {},
   "outputs": [],
   "source": [
    "def get_pixel(color):\n",
    "    \"\"\"\n",
    "    returns the encoded value for a pixel\n",
    "    \"\"\"\n",
    "    if color == 'Z': \n",
    "        return np.array([0,0,0])\n",
    "    elif color == 'G':\n",
    "        return np.array([1,0,0])\n",
    "    elif color == 'C':\n",
    "        return np.array([0,0,1])\n",
    "    elif color == 'U': \n",
    "        return np.array([0,1,0])\n",
    "    elif color == 'A':\n",
    "        return np.array([1,1,0])\n",
    "    else:\n",
    "        print(\"Something wrong!\")"
   ]
  },
  {
   "cell_type": "code",
   "execution_count": 20,
   "metadata": {},
   "outputs": [
    {
     "name": "stderr",
     "output_type": "stream",
     "text": [
      "100%|███████████████████████████████████████████████████████████████████████████| 34721/34721 [01:02<00:00, 559.40it/s]\n"
     ]
    }
   ],
   "source": [
    "top = []\n",
    "bot = []\n",
    "top_bonds = []\n",
    "bot_bonds = []\n",
    "for i in tqdm(range(images.shape[0])):\n",
    "    topstr=''\n",
    "    botstr=''\n",
    "    top_bond = []\n",
    "    bot_bond = []\n",
    "    for j in range(x_len_max[i]+1):\n",
    "        top_col = get_color(images[i,12,j])\n",
    "        bot_col = get_color(images[i,13,j])\n",
    "\n",
    "        topstr+=top_col\n",
    "        botstr+=bot_col\n",
    "        \n",
    "        if top_col == 'Z':\n",
    "            top_bond.append('-')\n",
    "        elif x_bar_max[i, 2*j] == length_table[top_col, bot_col]:\n",
    "            top_bond.append('|')\n",
    "        else:\n",
    "            top_bond.append('.')\n",
    "        \n",
    "        if bot_col == 'Z':\n",
    "            bot_bond.append('-')\n",
    "        elif x_bar_max[i, 1+2*j] == length_table[top_col, bot_col]:\n",
    "            bot_bond.append('|')\n",
    "        else:\n",
    "            bot_bond.append('.')\n",
    "    top.append(topstr)\n",
    "    bot.append(botstr)\n",
    "    top_bonds.append(top_bond)\n",
    "    bot_bonds.append(bot_bond)"
   ]
  },
  {
   "cell_type": "code",
   "execution_count": 21,
   "metadata": {},
   "outputs": [],
   "source": [
    "def swap_nucleotides(top, bot, top_bond, bot_bond, lent, prob=.2):\n",
    "    for i in range(8,lent):\n",
    "        if np.random.uniform() < prob:\n",
    "            top[i], bot[i] = bot[i],top[i]\n",
    "            top_bond[i], bot_bond[i] = bot_bond[i], top_bond[i]\n",
    "    \n",
    "    return top, bot, top_bond, bot_bond"
   ]
  },
  {
   "cell_type": "code",
   "execution_count": 22,
   "metadata": {},
   "outputs": [],
   "source": [
    "def change_gap(top, bot, top_bond, bot_bond, lent, prob_fill=.2, prob_remove=.2):\n",
    "    for i in range(8,lent):\n",
    "        if top[i] != 'Z' and bot[i] != 'Z':\n",
    "            if np.random.uniform() < prob_remove:\n",
    "                if np.random.uniform() < .5:\n",
    "                    top[i] = \"Z\"\n",
    "                    top_bond[i] = '-'\n",
    "                    bot_bond[i] = '.'\n",
    "                else:\n",
    "                    bot[i] = \"Z\"\n",
    "                    top_bond[i] = '.'\n",
    "                    bot_bond[i] = '-'\n",
    "\n",
    "        else:\n",
    "            if top[i] == \"Z\" and np.random.uniform() < prob_fill:\n",
    "                top[i] = get_matching_color(bot[i])\n",
    "                # we are getting a matching color -> always results in good bond\n",
    "                top_bond[i] = '|'\n",
    "                bot_bond[i] = '|'\n",
    "\n",
    "            if bot[i] == \"Z\" and np.random.uniform() < prob_fill:\n",
    "                bot[i] = get_matching_color(top[i])\n",
    "                top_bond[i] = '|'\n",
    "                bot_bond[i] = '|'\n",
    "    return top, bot, top_bond, bot_bond"
   ]
  },
  {
   "cell_type": "code",
   "execution_count": 23,
   "metadata": {},
   "outputs": [],
   "source": [
    "def change_bond(top, bot, top_bond, bot_bond, lent, prob_make_strong=.1, prob_make_weak=.1):\n",
    "    for i in range(8, lent):\n",
    "        if is_strong_bond(top[i],bot[i]):\n",
    "            if np.random.uniform() < prob_make_weak:\n",
    "                top[i], bot[i] = get_weak_bond()\n",
    "                top_bond[i] = '.'\n",
    "                bot_bond[i] = '.'\n",
    "        else:\n",
    "            if np.random.uniform() < prob_make_strong:\n",
    "                top[i], bot[i] = get_strong_bond()\n",
    "                top_bond[i] = '|'\n",
    "                bot_bond[i] = '|'\n",
    "    return top, bot, top_bond, bot_bond"
   ]
  },
  {
   "cell_type": "code",
   "execution_count": 24,
   "metadata": {},
   "outputs": [],
   "source": [
    "def mix_chunks(top, bot, top_bond, bot_bond, lent, prob=.3, prob_reverse=.3,chunk_length=9):\n",
    "    chunks = []\n",
    "    chunk_idx = np.arange((lent-8)//chunk_length+1)\n",
    "    shuffle_list=[]\n",
    "    shuffle_dict={}\n",
    "    \n",
    "    for i in chunk_idx:\n",
    "        shuffle_dict[i] = i\n",
    "        if np.random.uniform()<prob_reverse:\n",
    "            chunks.append(np.arange(8+i*chunk_length, min(8+(i+1)*chunk_length, lent+1))[::-1])\n",
    "        else:\n",
    "            chunks.append(np.arange(8+i*chunk_length, min(8+(i+1)*chunk_length, lent+1)))\n",
    "        if np.random.uniform()<prob:\n",
    "            shuffle_list.append(i)\n",
    "    shuf = shuffle_list.copy()\n",
    "    random.shuffle(shuf)\n",
    "    \n",
    "    for i in range(len(shuffle_list)):\n",
    "        shuffle_dict[shuffle_list[i]] = shuf[i] \n",
    "    \n",
    "    chunks = [chunks[i] for i in shuffle_dict.values()]\n",
    "    \n",
    "    order = [i for i in range(8)]+[i for item in chunks for i in item]\n",
    "    print(len(order), len(top))\n",
    "    top = [top[i] for i in order]\n",
    "    bot = [bot[i] for i in order]\n",
    "    \n",
    "    top_bond = [top_bond[i] for i in order]\n",
    "    bot_bond = [bot_bond[i] for i in order]\n",
    "    return top, bot, top_bond, bot_bond"
   ]
  },
  {
   "cell_type": "code",
   "execution_count": 25,
   "metadata": {},
   "outputs": [],
   "source": [
    "def get_matching_color(nt):\n",
    "    if nt == 'A':\n",
    "        return 'U'\n",
    "    if nt == 'U':\n",
    "        return np.random.choice(['A','G'], p=[.7,.3])\n",
    "    if nt == 'C':\n",
    "        return 'G'\n",
    "    if nt == 'G':\n",
    "        return np.random.choice(['C','U'], p=[.8,.2])\n",
    "    if nt == 'Z':\n",
    "        return 'Z'"
   ]
  },
  {
   "cell_type": "code",
   "execution_count": 26,
   "metadata": {},
   "outputs": [],
   "source": [
    "def is_strong_bond(nt1, nt2):\n",
    "    if (nt1 == 'A' and nt2 == 'U') or (nt1 == 'U' and nt2 == 'A'):\n",
    "        return True\n",
    "    elif (nt1 == 'C' and nt2 == 'G') or (nt1 == 'G' and nt2 == 'C'):\n",
    "        return True\n",
    "    elif (nt1 == 'U' and nt2 == 'G') or (nt1 == 'G' and nt2 == 'U'):\n",
    "        return True\n",
    "    else:\n",
    "        return False"
   ]
  },
  {
   "cell_type": "code",
   "execution_count": 27,
   "metadata": {},
   "outputs": [],
   "source": [
    "def get_weak_bond():\n",
    "    choices = [('A','A'),('A','G'),('A','C'),('C','C'),('C','U'),('C','A'),('U','C'),('U','U'),('G','A'),('G','G')]\n",
    "    return choices[np.random.choice(len(choices))]"
   ]
  },
  {
   "cell_type": "code",
   "execution_count": 28,
   "metadata": {},
   "outputs": [],
   "source": [
    "def get_strong_bond():\n",
    "    choices = [('A','U'),('U','A'),('C','G'),('G','C'),('G','U'),('U','G')]\n",
    "    return choices[np.random.choice(len(choices))]"
   ]
  },
  {
   "cell_type": "code",
   "execution_count": 29,
   "metadata": {},
   "outputs": [],
   "source": [
    "def reconstruct_image(top, bot, top_bond, bot_bond, rna_length):\n",
    "\n",
    "    image = np.ones((25,100,3))\n",
    "    for i in range(len(top)):\n",
    "        lnt = length_table[(top[i],bot[i])]\n",
    "        \n",
    "        lnt_top = calc_length(top, bot, top_bond, bot_bond, lnt, i, 'top', rna_length)\n",
    "        lnt_bot = calc_length(top, bot, top_bond, bot_bond, lnt, i, 'bot', rna_length)\n",
    "        \n",
    "        \n",
    "        image[max(12-lnt_top,0):13,i] = get_pixel(top[i])\n",
    "        image[13:min(13+lnt_bot+1,25),i] = get_pixel(bot[i])\n",
    "    return image\n",
    "    \n",
    "    "
   ]
  },
  {
   "cell_type": "code",
   "execution_count": 30,
   "metadata": {},
   "outputs": [],
   "source": [
    "def calc_length(top, bot, top_bond, bot_bond, lnt, pos, strand, rna_length):\n",
    "    if strand == 'top':\n",
    "        strand = top_bond\n",
    "    else:\n",
    "        strand = bot_bond\n",
    "\n",
    "    if strand[pos] == '.':\n",
    "        tr = pos - 1\n",
    "        tl = pos + 1\n",
    "\n",
    "\n",
    "        \n",
    "        while tr >= 0 and strand[tr] == '.':\n",
    "            tr -= 1\n",
    "        while tl <= rna_length and strand[tl] =='.':\n",
    "            tl += 1\n",
    "\n",
    "        dots = tr+tl+1\n",
    "        mid = dots/2\n",
    "        p = pos - tr\n",
    "\n",
    "        if p > mid:\n",
    "            k = dots+1\n",
    "            while k > p:\n",
    "                lnt += 2\n",
    "                k -= 1\n",
    "        else:\n",
    "            k = 1\n",
    "            while k <= p:\n",
    "                lnt += 2\n",
    "                k += 1\n",
    "    return lnt"
   ]
  },
  {
   "cell_type": "code",
   "execution_count": 43,
   "metadata": {},
   "outputs": [
    {
     "data": {
      "text/plain": [
       "dtype('float64')"
      ]
     },
     "execution_count": 43,
     "metadata": {},
     "output_type": "execute_result"
    }
   ],
   "source": [
    "images.dtype"
   ]
  },
  {
   "cell_type": "code",
   "execution_count": 31,
   "metadata": {},
   "outputs": [
    {
     "data": {
      "text/plain": [
       "<matplotlib.image.AxesImage at 0x1be128d3808>"
      ]
     },
     "execution_count": 31,
     "metadata": {},
     "output_type": "execute_result"
    },
    {
     "data": {
      "image/png": "[encoded data removed]",
      "text/plain": [
       "<Figure size 432x288 with 1 Axes>"
      ]
     },
     "metadata": {
      "needs_background": "light"
     },
     "output_type": "display_data"
    }
   ],
   "source": [
    "plt.imshow(reconstruct_image(top[110], bot[110], top_bonds[110], bot_bonds[110],  x_len_max[110]))"
   ]
  },
  {
   "cell_type": "code",
   "execution_count": 36,
   "metadata": {},
   "outputs": [
    {
     "name": "stdout",
     "output_type": "stream",
     "text": [
      "62 62\n"
     ]
    },
    {
     "data": {
      "text/plain": [
       "<matplotlib.image.AxesImage at 0x1be12809688>"
      ]
     },
     "execution_count": 36,
     "metadata": {},
     "output_type": "execute_result"
    },
    {
     "data": {
      "image/png": "[encoded data removed]",
      "text/plain": [
       "<Figure size 432x288 with 1 Axes>"
      ]
     },
     "metadata": {
      "needs_background": "light"
     },
     "output_type": "display_data"
    }
   ],
   "source": [
    "plt.imshow(augment_mirna(10))"
   ]
  },
  {
   "cell_type": "code",
   "execution_count": 37,
   "metadata": {},
   "outputs": [
    {
     "data": {
      "text/plain": [
       "<matplotlib.image.AxesImage at 0x1be148c8588>"
      ]
     },
     "execution_count": 37,
     "metadata": {},
     "output_type": "execute_result"
    },
    {
     "data": {
      "image/png": "[encoded data removed]",
      "text/plain": [
       "<Figure size 432x288 with 1 Axes>"
      ]
     },
     "metadata": {
      "needs_background": "light"
     },
     "output_type": "display_data"
    }
   ],
   "source": [
    "plt.imshow(images[10])"
   ]
  },
  {
   "cell_type": "code",
   "execution_count": null,
   "metadata": {},
   "outputs": [],
   "source": [
    "print(top_bonds[10][-10:]), print(bot_bonds[10][-10:])"
   ]
  },
  {
   "cell_type": "code",
   "execution_count": 33,
   "metadata": {},
   "outputs": [],
   "source": [
    "def augment_mirna(idx):\n",
    "    lent = x_len_max[idx]\n",
    "    tn = list(top[idx])\n",
    "    bn = list(bot[idx])\n",
    "    tb = top_bonds[idx].copy()\n",
    "    bb = bot_bonds[idx].copy()\n",
    "    \n",
    "    tn,bn,tb,bb = swap_nucleotides(tn,bn,tb,bb,lent)\n",
    "    tn,bn,tb,bb = change_gap(tn,bn,tb,bb,lent)\n",
    "    tn,bn,tb,bb = change_bond(tn,bn,tb,bb,lent)\n",
    "    tn,bn,tb,bb = mix_chunks(tn,bn,tb,bb,lent)\n",
    "    rec = reconstruct_image(tn,bn,tb,bb,lent)\n",
    "    \n",
    "    return rec"
   ]
  },
  {
   "cell_type": "code",
   "execution_count": null,
   "metadata": {},
   "outputs": [],
   "source": [
    "print(top[0])\n",
    "print(bot[0])\n",
    "\n",
    "lent = x_len_max[0]\n",
    "\n",
    "tn, bn = swap_nucleotides(list(top[0]),list(bot[0]),top_bonds,lent,0.2)\n",
    "tn, bn = change_gap(tn,bn,lent,0.2)\n",
    "tn, bn = change_bond(tn,bn,lent,0.15)\n",
    "print(\"\".join(tn))\n",
    "print(\"\".join(bn))"
   ]
  },
  {
   "cell_type": "code",
   "execution_count": null,
   "metadata": {},
   "outputs": [],
   "source": [
    "weird = images[(x_len_max == 99)]"
   ]
  },
  {
   "cell_type": "code",
   "execution_count": null,
   "metadata": {},
   "outputs": [],
   "source": [
    "#x_len[(x_len_max == 0)][0]"
   ]
  },
  {
   "cell_type": "code",
   "execution_count": null,
   "metadata": {},
   "outputs": [],
   "source": [
    "plt.imshow(weird[0])"
   ]
  },
  {
   "cell_type": "code",
   "execution_count": null,
   "metadata": {},
   "outputs": [],
   "source": []
  },
  {
   "cell_type": "code",
   "execution_count": null,
   "metadata": {},
   "outputs": [],
   "source": []
  }
 ],
 "metadata": {
  "kernelspec": {
   "display_name": "Python 3",
   "language": "python",
   "name": "python3"
  },
  "language_info": {
   "codemirror_mode": {
    "name": "ipython",
    "version": 3
   },
   "file_extension": ".py",
   "mimetype": "text/x-python",
   "name": "python",
   "nbconvert_exporter": "python",
   "pygments_lexer": "ipython3",
   "version": "3.7.6"
  }
 },
 "nbformat": 4,
 "nbformat_minor": 4
}
