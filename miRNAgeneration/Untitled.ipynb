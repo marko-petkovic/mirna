{
 "cells": [
  {
   "cell_type": "code",
   "execution_count": 1,
   "metadata": {},
   "outputs": [],
   "source": [
    "import sci\n",
    "import numpy as np"
   ]
  },
  {
   "cell_type": "code",
   "execution_count": 4,
   "metadata": {},
   "outputs": [
    {
     "name": "stdout",
     "output_type": "stream",
     "text": [
      "Collecting giotto-tda\n",
      "  Downloading giotto_tda-0.5.1-cp37-cp37m-win_amd64.whl (1.3 MB)\n",
      "Collecting pyflagser>=0.4.3\n",
      "  Downloading pyflagser-0.4.4-cp37-cp37m-win_amd64.whl (360 kB)\n",
      "Requirement already satisfied: plotly>=4.8.2 in d:\\users\\marko\\anaconda3\\lib\\site-packages (from giotto-tda) (4.14.3)\n",
      "Requirement already satisfied: ipywidgets>=7.5.1 in d:\\users\\marko\\anaconda3\\lib\\site-packages (from giotto-tda) (7.5.1)\n",
      "Collecting scipy>=1.5.0\n",
      "  Downloading scipy-1.7.3-cp37-cp37m-win_amd64.whl (34.1 MB)\n",
      "Collecting python-igraph>=0.8.2\n",
      "  Downloading python_igraph-0.9.9-py3-none-any.whl (9.1 kB)\n",
      "Collecting scikit-learn>=0.23.1\n",
      "  Downloading scikit_learn-1.0.2-cp37-cp37m-win_amd64.whl (7.1 MB)\n",
      "Collecting joblib>=0.16.0\n",
      "  Downloading joblib-1.1.0-py2.py3-none-any.whl (306 kB)\n",
      "Requirement already satisfied: numpy>=1.19.1 in c:\\users\\marko\\appdata\\roaming\\python\\python37\\site-packages (from giotto-tda) (1.19.2)\n",
      "Requirement already satisfied: six in c:\\users\\marko\\appdata\\roaming\\python\\python37\\site-packages (from plotly>=4.8.2->giotto-tda) (1.15.0)\n",
      "Requirement already satisfied: retrying>=1.3.3 in c:\\users\\marko\\appdata\\roaming\\python\\python37\\site-packages (from plotly>=4.8.2->giotto-tda) (1.3.3)\n",
      "Requirement already satisfied: traitlets>=4.3.1 in d:\\users\\marko\\anaconda3\\lib\\site-packages (from ipywidgets>=7.5.1->giotto-tda) (4.3.3)\n",
      "Requirement already satisfied: ipython>=4.0.0; python_version >= \"3.3\" in d:\\users\\marko\\anaconda3\\lib\\site-packages (from ipywidgets>=7.5.1->giotto-tda) (7.13.0)\n",
      "Requirement already satisfied: ipykernel>=4.5.1 in d:\\users\\marko\\anaconda3\\lib\\site-packages (from ipywidgets>=7.5.1->giotto-tda) (5.1.4)\n",
      "Requirement already satisfied: nbformat>=4.2.0 in d:\\users\\marko\\anaconda3\\lib\\site-packages (from ipywidgets>=7.5.1->giotto-tda) (5.0.6)\n",
      "Requirement already satisfied: widgetsnbextension~=3.5.0 in d:\\users\\marko\\anaconda3\\lib\\site-packages (from ipywidgets>=7.5.1->giotto-tda) (3.5.1)\n",
      "Collecting igraph==0.9.9\n",
      "  Downloading igraph-0.9.9-cp37-cp37m-win_amd64.whl (2.8 MB)\n",
      "Requirement already satisfied: threadpoolctl>=2.0.0 in d:\\users\\marko\\anaconda3\\lib\\site-packages (from scikit-learn>=0.23.1->giotto-tda) (2.1.0)\n",
      "Requirement already satisfied: ipython-genutils in d:\\users\\marko\\anaconda3\\lib\\site-packages (from traitlets>=4.3.1->ipywidgets>=7.5.1->giotto-tda) (0.2.0)\n",
      "Requirement already satisfied: decorator in d:\\users\\marko\\anaconda3\\lib\\site-packages (from traitlets>=4.3.1->ipywidgets>=7.5.1->giotto-tda) (4.4.2)\n",
      "Requirement already satisfied: pygments in d:\\users\\marko\\anaconda3\\lib\\site-packages (from ipython>=4.0.0; python_version >= \"3.3\"->ipywidgets>=7.5.1->giotto-tda) (2.6.1)\n",
      "Requirement already satisfied: prompt-toolkit!=3.0.0,!=3.0.1,<3.1.0,>=2.0.0 in d:\\users\\marko\\anaconda3\\lib\\site-packages (from ipython>=4.0.0; python_version >= \"3.3\"->ipywidgets>=7.5.1->giotto-tda) (3.0.4)\n",
      "Requirement already satisfied: colorama; sys_platform == \"win32\" in d:\\users\\marko\\anaconda3\\lib\\site-packages (from ipython>=4.0.0; python_version >= \"3.3\"->ipywidgets>=7.5.1->giotto-tda) (0.4.3)\n",
      "Requirement already satisfied: setuptools>=18.5 in c:\\users\\marko\\appdata\\roaming\\python\\python37\\site-packages (from ipython>=4.0.0; python_version >= \"3.3\"->ipywidgets>=7.5.1->giotto-tda) (41.4.0)\n",
      "Requirement already satisfied: jedi>=0.10 in d:\\users\\marko\\anaconda3\\lib\\site-packages (from ipython>=4.0.0; python_version >= \"3.3\"->ipywidgets>=7.5.1->giotto-tda) (0.17.0)\n",
      "Requirement already satisfied: backcall in d:\\users\\marko\\anaconda3\\lib\\site-packages (from ipython>=4.0.0; python_version >= \"3.3\"->ipywidgets>=7.5.1->giotto-tda) (0.1.0)\n",
      "Requirement already satisfied: pickleshare in d:\\users\\marko\\anaconda3\\lib\\site-packages (from ipython>=4.0.0; python_version >= \"3.3\"->ipywidgets>=7.5.1->giotto-tda) (0.7.5)\n",
      "Requirement already satisfied: tornado>=4.2 in d:\\users\\marko\\anaconda3\\lib\\site-packages (from ipykernel>=4.5.1->ipywidgets>=7.5.1->giotto-tda) (6.1)\n",
      "Requirement already satisfied: jupyter-client in d:\\users\\marko\\anaconda3\\lib\\site-packages (from ipykernel>=4.5.1->ipywidgets>=7.5.1->giotto-tda) (6.1.3)\n",
      "Requirement already satisfied: jsonschema!=2.5.0,>=2.4 in d:\\users\\marko\\anaconda3\\lib\\site-packages (from nbformat>=4.2.0->ipywidgets>=7.5.1->giotto-tda) (3.2.0)\n",
      "Requirement already satisfied: jupyter-core in d:\\users\\marko\\anaconda3\\lib\\site-packages (from nbformat>=4.2.0->ipywidgets>=7.5.1->giotto-tda) (4.6.3)\n",
      "Requirement already satisfied: notebook>=4.4.1 in d:\\users\\marko\\anaconda3\\lib\\site-packages (from widgetsnbextension~=3.5.0->ipywidgets>=7.5.1->giotto-tda) (6.0.3)\n",
      "Collecting texttable>=1.6.2\n",
      "  Downloading texttable-1.6.4-py2.py3-none-any.whl (10 kB)\n",
      "Requirement already satisfied: wcwidth in d:\\users\\marko\\anaconda3\\lib\\site-packages (from prompt-toolkit!=3.0.0,!=3.0.1,<3.1.0,>=2.0.0->ipython>=4.0.0; python_version >= \"3.3\"->ipywidgets>=7.5.1->giotto-tda) (0.1.9)\n",
      "Requirement already satisfied: parso>=0.7.0 in d:\\users\\marko\\anaconda3\\lib\\site-packages (from jedi>=0.10->ipython>=4.0.0; python_version >= \"3.3\"->ipywidgets>=7.5.1->giotto-tda) (0.7.0)\n",
      "Requirement already satisfied: python-dateutil>=2.1 in d:\\users\\marko\\anaconda3\\lib\\site-packages (from jupyter-client->ipykernel>=4.5.1->ipywidgets>=7.5.1->giotto-tda) (2.8.1)\n",
      "Requirement already satisfied: pyzmq>=13 in d:\\users\\marko\\anaconda3\\lib\\site-packages (from jupyter-client->ipykernel>=4.5.1->ipywidgets>=7.5.1->giotto-tda) (18.1.1)\n",
      "Requirement already satisfied: attrs>=17.4.0 in d:\\users\\marko\\anaconda3\\lib\\site-packages (from jsonschema!=2.5.0,>=2.4->nbformat>=4.2.0->ipywidgets>=7.5.1->giotto-tda) (19.3.0)\n",
      "Requirement already satisfied: importlib-metadata; python_version < \"3.8\" in d:\\users\\marko\\anaconda3\\lib\\site-packages (from jsonschema!=2.5.0,>=2.4->nbformat>=4.2.0->ipywidgets>=7.5.1->giotto-tda) (1.5.0)\n",
      "Requirement already satisfied: pyrsistent>=0.14.0 in d:\\users\\marko\\anaconda3\\lib\\site-packages (from jsonschema!=2.5.0,>=2.4->nbformat>=4.2.0->ipywidgets>=7.5.1->giotto-tda) (0.16.0)\n",
      "Requirement already satisfied: pywin32>=1.0; sys_platform == \"win32\" in d:\\users\\marko\\anaconda3\\lib\\site-packages (from jupyter-core->nbformat>=4.2.0->ipywidgets>=7.5.1->giotto-tda) (227)\n",
      "Requirement already satisfied: prometheus-client in d:\\users\\marko\\anaconda3\\lib\\site-packages (from notebook>=4.4.1->widgetsnbextension~=3.5.0->ipywidgets>=7.5.1->giotto-tda) (0.7.1)\n",
      "Requirement already satisfied: nbconvert in d:\\users\\marko\\anaconda3\\lib\\site-packages (from notebook>=4.4.1->widgetsnbextension~=3.5.0->ipywidgets>=7.5.1->giotto-tda) (5.6.1)\n",
      "Requirement already satisfied: jinja2 in d:\\users\\marko\\anaconda3\\lib\\site-packages (from notebook>=4.4.1->widgetsnbextension~=3.5.0->ipywidgets>=7.5.1->giotto-tda) (2.11.2)\n",
      "Requirement already satisfied: Send2Trash in d:\\users\\marko\\anaconda3\\lib\\site-packages (from notebook>=4.4.1->widgetsnbextension~=3.5.0->ipywidgets>=7.5.1->giotto-tda) (1.5.0)\n",
      "Requirement already satisfied: terminado>=0.8.1 in d:\\users\\marko\\anaconda3\\lib\\site-packages (from notebook>=4.4.1->widgetsnbextension~=3.5.0->ipywidgets>=7.5.1->giotto-tda) (0.8.3)\n",
      "Requirement already satisfied: zipp>=0.5 in d:\\users\\marko\\anaconda3\\lib\\site-packages (from importlib-metadata; python_version < \"3.8\"->jsonschema!=2.5.0,>=2.4->nbformat>=4.2.0->ipywidgets>=7.5.1->giotto-tda) (3.1.0)\n",
      "Requirement already satisfied: entrypoints>=0.2.2 in d:\\users\\marko\\anaconda3\\lib\\site-packages (from nbconvert->notebook>=4.4.1->widgetsnbextension~=3.5.0->ipywidgets>=7.5.1->giotto-tda) (0.3)\n",
      "Requirement already satisfied: mistune<2,>=0.8.1 in d:\\users\\marko\\anaconda3\\lib\\site-packages (from nbconvert->notebook>=4.4.1->widgetsnbextension~=3.5.0->ipywidgets>=7.5.1->giotto-tda) (0.8.4)\n",
      "Requirement already satisfied: defusedxml in d:\\users\\marko\\anaconda3\\lib\\site-packages (from nbconvert->notebook>=4.4.1->widgetsnbextension~=3.5.0->ipywidgets>=7.5.1->giotto-tda) (0.6.0)\n",
      "Requirement already satisfied: testpath in d:\\users\\marko\\anaconda3\\lib\\site-packages (from nbconvert->notebook>=4.4.1->widgetsnbextension~=3.5.0->ipywidgets>=7.5.1->giotto-tda) (0.4.4)\n",
      "Requirement already satisfied: bleach in d:\\users\\marko\\anaconda3\\lib\\site-packages (from nbconvert->notebook>=4.4.1->widgetsnbextension~=3.5.0->ipywidgets>=7.5.1->giotto-tda) (3.1.4)\n",
      "Requirement already satisfied: pandocfilters>=1.4.1 in d:\\users\\marko\\anaconda3\\lib\\site-packages (from nbconvert->notebook>=4.4.1->widgetsnbextension~=3.5.0->ipywidgets>=7.5.1->giotto-tda) (1.4.2)\n",
      "Requirement already satisfied: MarkupSafe>=0.23 in d:\\users\\marko\\anaconda3\\lib\\site-packages (from jinja2->notebook>=4.4.1->widgetsnbextension~=3.5.0->ipywidgets>=7.5.1->giotto-tda) (1.1.1)\n",
      "Requirement already satisfied: webencodings in d:\\users\\marko\\anaconda3\\lib\\site-packages (from bleach->nbconvert->notebook>=4.4.1->widgetsnbextension~=3.5.0->ipywidgets>=7.5.1->giotto-tda) (0.5.1)\n",
      "Installing collected packages: scipy, pyflagser, texttable, igraph, python-igraph, joblib, scikit-learn, giotto-tda\n",
      "  Attempting uninstall: scipy\n",
      "    Found existing installation: scipy 1.4.1\n",
      "    Uninstalling scipy-1.4.1:\n",
      "      Successfully uninstalled scipy-1.4.1\n"
     ]
    },
    {
     "name": "stderr",
     "output_type": "stream",
     "text": [
      "ERROR: Could not install packages due to an EnvironmentError: [WinError 5] Access is denied: 'd:\\\\users\\\\marko\\\\anaconda3\\\\lib\\\\site-packages\\\\scipy\\\\~lib\\\\messagestream.cp37-win_amd64.pyd'\n",
      "Consider using the `--user` option or check the permissions.\n",
      "\n"
     ]
    }
   ],
   "source": [
    "!pip install giotto-tda"
   ]
  },
  {
   "cell_type": "code",
   "execution_count": 2,
   "metadata": {},
   "outputs": [],
   "source": [
    "link = 'D:/users/Marko/downloads/mirna/'"
   ]
  },
  {
   "cell_type": "code",
   "execution_count": 3,
   "metadata": {},
   "outputs": [],
   "source": [
    "x_bar = np.load(f'{link}/data/modmirbase_train_images_bar2.npz')\n",
    "labels = np.load(f'{link}/data/modmirbase_train_labels.npz')['arr_0']"
   ]
  },
  {
   "cell_type": "code",
   "execution_count": null,
   "metadata": {},
   "outputs": [],
   "source": []
  }
 ],
 "metadata": {
  "kernelspec": {
   "display_name": "Python 3",
   "language": "python",
   "name": "python3"
  },
  "language_info": {
   "codemirror_mode": {
    "name": "ipython",
    "version": 3
   },
   "file_extension": ".py",
   "mimetype": "text/x-python",
   "name": "python",
   "nbconvert_exporter": "python",
   "pygments_lexer": "ipython3",
   "version": "3.7.6"
  }
 },
 "nbformat": 4,
 "nbformat_minor": 4
}
