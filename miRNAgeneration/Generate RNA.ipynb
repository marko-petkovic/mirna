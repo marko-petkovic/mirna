{
 "cells": [
  {
   "cell_type": "code",
   "execution_count": 8,
   "metadata": {},
   "outputs": [],
   "source": [
    "import random\n",
    "import sys\n",
    "import os\n",
    "import time\n",
    "from subprocess import Popen, PIPE\n",
    "from pyfaidx import Fasta"
   ]
  },
  {
   "cell_type": "code",
   "execution_count": 2,
   "metadata": {},
   "outputs": [
    {
     "data": {
      "text/plain": [
       "193"
      ]
     },
     "execution_count": 2,
     "metadata": {},
     "output_type": "execute_result"
    }
   ],
   "source": [
    "random.randint(75,200)"
   ]
  },
  {
   "cell_type": "code",
   "execution_count": 9,
   "metadata": {},
   "outputs": [],
   "source": [
    "HAIRPIN_IMAGE_GENERATOR_JAR = './hairpin_image_generator/ImageCalc.jar'"
   ]
  },
  {
   "cell_type": "code",
   "execution_count": 14,
   "metadata": {},
   "outputs": [],
   "source": [
    "def create_random_rna(k=200):\n",
    "    return \"\".join(random.choices([\"A\",\"U\",\"C\",\"G\"], k=k))\n",
    "\n",
    "\n",
    "def create_rna_file(n=100, filename=\"sequences.fasta\"):\n",
    "    with open(filename, 'w') as f:\n",
    "        for i in range(n):\n",
    "            seq_name = f'random-seq-{i}'\n",
    "            seq = create_random_rna(random.randint(70,150))\n",
    "            \n",
    "            f.write(f'>{seq_name}\\n')\n",
    "            f.write(f'{seq}\\n')\n",
    "                    \n",
    "                \n"
   ]
  },
  {
   "cell_type": "code",
   "execution_count": 15,
   "metadata": {},
   "outputs": [],
   "source": [
    "def generate_hairpin_images(fasta_filename, data_directory):\n",
    "    \n",
    "    # create directory for new hairpin images\n",
    "    images_directory = data_directory + \"/images\"\n",
    "    try:\n",
    "        if not os.path.exists(images_directory):\n",
    "            os.makedirs(images_directory)\n",
    "    except OSError:\n",
    "        print ('Error: Creating directory {}'.format(images_directory))\n",
    "        sys.exit(1)\n",
    "\n",
    "    # generate new hairpin images\n",
    "    sequences = Fasta(fasta_filename)\n",
    "    seq_fold_dict = {}\n",
    "    for key in sequences.keys():\n",
    "        sequence = str(sequences[key][:].seq)\n",
    "        fold = generate_hairpin_image(sequence, key, images_directory)\n",
    "        seq_fold_dict[key] = (sequence, fold)\n",
    "\n",
    "    return seq_fold_dict\n",
    "\n",
    "def generate_hairpin_image(sequence, sequence_identifier, output_directory):\n",
    "\n",
    "    hairpin_image_name = output_directory + \"/\" + sequence_identifier + '.png'\n",
    "    process = Popen(['java', '-jar', HAIRPIN_IMAGE_GENERATOR_JAR, '-o', \n",
    "    \thairpin_image_name, '-s', sequence], stdout=PIPE, stderr=PIPE)\n",
    "    stdout, stderr = process.communicate()\n",
    "\n",
    "    if not stderr.decode('utf-8'): # hairpin image was generated\n",
    "        stdout = stdout.decode('utf-8')\n",
    "        fold_info = stdout.split('\\n')[1]\n",
    "        fold = fold_info.split(':')[1].strip()\n",
    "    else: # hairpin image was not generated\n",
    "        msg = \"Cannot generate a hairpin image for {}.\\nError message: {}\"\n",
    "        raise Exception(msg.format(sequence, stderr.decode('utf-8'))) \n",
    "        \n",
    "    return fold"
   ]
  },
  {
   "cell_type": "code",
   "execution_count": 18,
   "metadata": {},
   "outputs": [
    {
     "name": "stdout",
     "output_type": "stream",
     "text": [
      "0.06099700927734375\n"
     ]
    }
   ],
   "source": [
    "start=time.time()\n",
    "create_rna_file(n=2000)\n",
    "print(time.time()-start)"
   ]
  },
  {
   "cell_type": "code",
   "execution_count": 19,
   "metadata": {},
   "outputs": [
    {
     "name": "stdout",
     "output_type": "stream",
     "text": [
      "540.1252851486206\n"
     ]
    }
   ],
   "source": [
    "start = time.time()\n",
    "_ = generate_hairpin_images(\"sequences.fasta\", \"newrna/\")\n",
    "print(time.time()-start)"
   ]
  },
  {
   "cell_type": "code",
   "execution_count": null,
   "metadata": {},
   "outputs": [],
   "source": []
  }
 ],
 "metadata": {
  "kernelspec": {
   "display_name": "Python 3",
   "language": "python",
   "name": "python3"
  },
  "language_info": {
   "codemirror_mode": {
    "name": "ipython",
    "version": 3
   },
   "file_extension": ".py",
   "mimetype": "text/x-python",
   "name": "python",
   "nbconvert_exporter": "python",
   "pygments_lexer": "ipython3",
   "version": "3.7.6"
  }
 },
 "nbformat": 4,
 "nbformat_minor": 4
}
