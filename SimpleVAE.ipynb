{
  "cells": [
    {
      "cell_type": "markdown",
      "metadata": {
        "id": "view-in-github",
        "colab_type": "text"
      },
      "source": [
        "<a href=\"https://colab.research.google.com/github/merkelmauer/mirna/blob/main/SimpleVAE.ipynb\" target=\"_parent\"><img src=\"https://colab.research.google.com/assets/colab-badge.svg\" alt=\"Open In Colab\"/></a>"
      ]
    },
    {
      "cell_type": "code",
      "execution_count": null,
      "metadata": {
        "colab": {
          "base_uri": "https://localhost:8080/"
        },
        "id": "4D7JeCpd2Nep",
        "outputId": "7cb36c58-4188-418b-8d0a-8ca545cbec7a"
      },
      "outputs": [
        {
          "output_type": "stream",
          "name": "stdout",
          "text": [
            "Requirement already satisfied: torchinfo in /usr/local/lib/python3.7/dist-packages (1.6.2)\n",
            "Requirement already satisfied: torchvision in /usr/local/lib/python3.7/dist-packages (0.11.1+cu111)\n",
            "Requirement already satisfied: numpy in /usr/local/lib/python3.7/dist-packages (from torchvision) (1.19.5)\n",
            "Requirement already satisfied: torch==1.10.0 in /usr/local/lib/python3.7/dist-packages (from torchvision) (1.10.0+cu111)\n",
            "Requirement already satisfied: pillow!=8.3.0,>=5.3.0 in /usr/local/lib/python3.7/dist-packages (from torchvision) (7.1.2)\n",
            "Requirement already satisfied: typing-extensions in /usr/local/lib/python3.7/dist-packages (from torch==1.10.0->torchvision) (3.10.0.2)\n",
            "Requirement already satisfied: tensorboard in /usr/local/lib/python3.7/dist-packages (2.7.0)\n",
            "Requirement already satisfied: grpcio>=1.24.3 in /usr/local/lib/python3.7/dist-packages (from tensorboard) (1.43.0)\n",
            "Requirement already satisfied: absl-py>=0.4 in /usr/local/lib/python3.7/dist-packages (from tensorboard) (0.12.0)\n",
            "Requirement already satisfied: protobuf>=3.6.0 in /usr/local/lib/python3.7/dist-packages (from tensorboard) (3.17.3)\n",
            "Requirement already satisfied: setuptools>=41.0.0 in /usr/local/lib/python3.7/dist-packages (from tensorboard) (57.4.0)\n",
            "Requirement already satisfied: werkzeug>=0.11.15 in /usr/local/lib/python3.7/dist-packages (from tensorboard) (1.0.1)\n",
            "Requirement already satisfied: wheel>=0.26 in /usr/local/lib/python3.7/dist-packages (from tensorboard) (0.37.1)\n",
            "Requirement already satisfied: requests<3,>=2.21.0 in /usr/local/lib/python3.7/dist-packages (from tensorboard) (2.23.0)\n",
            "Requirement already satisfied: tensorboard-data-server<0.7.0,>=0.6.0 in /usr/local/lib/python3.7/dist-packages (from tensorboard) (0.6.1)\n",
            "Requirement already satisfied: google-auth-oauthlib<0.5,>=0.4.1 in /usr/local/lib/python3.7/dist-packages (from tensorboard) (0.4.6)\n",
            "Requirement already satisfied: tensorboard-plugin-wit>=1.6.0 in /usr/local/lib/python3.7/dist-packages (from tensorboard) (1.8.1)\n",
            "Requirement already satisfied: numpy>=1.12.0 in /usr/local/lib/python3.7/dist-packages (from tensorboard) (1.19.5)\n",
            "Requirement already satisfied: markdown>=2.6.8 in /usr/local/lib/python3.7/dist-packages (from tensorboard) (3.3.6)\n",
            "Requirement already satisfied: google-auth<3,>=1.6.3 in /usr/local/lib/python3.7/dist-packages (from tensorboard) (1.35.0)\n",
            "Requirement already satisfied: six in /usr/local/lib/python3.7/dist-packages (from absl-py>=0.4->tensorboard) (1.15.0)\n",
            "Requirement already satisfied: rsa<5,>=3.1.4 in /usr/local/lib/python3.7/dist-packages (from google-auth<3,>=1.6.3->tensorboard) (4.8)\n",
            "Requirement already satisfied: cachetools<5.0,>=2.0.0 in /usr/local/lib/python3.7/dist-packages (from google-auth<3,>=1.6.3->tensorboard) (4.2.4)\n",
            "Requirement already satisfied: pyasn1-modules>=0.2.1 in /usr/local/lib/python3.7/dist-packages (from google-auth<3,>=1.6.3->tensorboard) (0.2.8)\n",
            "Requirement already satisfied: requests-oauthlib>=0.7.0 in /usr/local/lib/python3.7/dist-packages (from google-auth-oauthlib<0.5,>=0.4.1->tensorboard) (1.3.0)\n",
            "Requirement already satisfied: importlib-metadata>=4.4 in /usr/local/lib/python3.7/dist-packages (from markdown>=2.6.8->tensorboard) (4.10.0)\n",
            "Requirement already satisfied: zipp>=0.5 in /usr/local/lib/python3.7/dist-packages (from importlib-metadata>=4.4->markdown>=2.6.8->tensorboard) (3.7.0)\n",
            "Requirement already satisfied: typing-extensions>=3.6.4 in /usr/local/lib/python3.7/dist-packages (from importlib-metadata>=4.4->markdown>=2.6.8->tensorboard) (3.10.0.2)\n",
            "Requirement already satisfied: pyasn1<0.5.0,>=0.4.6 in /usr/local/lib/python3.7/dist-packages (from pyasn1-modules>=0.2.1->google-auth<3,>=1.6.3->tensorboard) (0.4.8)\n",
            "Requirement already satisfied: idna<3,>=2.5 in /usr/local/lib/python3.7/dist-packages (from requests<3,>=2.21.0->tensorboard) (2.10)\n",
            "Requirement already satisfied: urllib3!=1.25.0,!=1.25.1,<1.26,>=1.21.1 in /usr/local/lib/python3.7/dist-packages (from requests<3,>=2.21.0->tensorboard) (1.24.3)\n",
            "Requirement already satisfied: certifi>=2017.4.17 in /usr/local/lib/python3.7/dist-packages (from requests<3,>=2.21.0->tensorboard) (2021.10.8)\n",
            "Requirement already satisfied: chardet<4,>=3.0.2 in /usr/local/lib/python3.7/dist-packages (from requests<3,>=2.21.0->tensorboard) (3.0.4)\n",
            "Requirement already satisfied: oauthlib>=3.0.0 in /usr/local/lib/python3.7/dist-packages (from requests-oauthlib>=0.7.0->google-auth-oauthlib<0.5,>=0.4.1->tensorboard) (3.1.1)\n"
          ]
        }
      ],
      "source": [
        "!pip install torchinfo\n",
        "!pip install torchvision\n",
        "!pip install tensorboard"
      ]
    },
    {
      "cell_type": "code",
      "source": [
        "link = '/content/drive/MyDrive/master'"
      ],
      "metadata": {
        "id": "4dy2BXayokxP"
      },
      "execution_count": null,
      "outputs": []
    },
    {
      "cell_type": "markdown",
      "source": [
        "# Imports"
      ],
      "metadata": {
        "id": "MgMR4QspjvRl"
      }
    },
    {
      "cell_type": "code",
      "execution_count": null,
      "metadata": {
        "colab": {
          "base_uri": "https://localhost:8080/"
        },
        "id": "VgKU5wNzDK4F",
        "outputId": "fbc6cf07-4dbf-4cfd-8869-790f7dbefdbe"
      },
      "outputs": [
        {
          "output_type": "stream",
          "name": "stdout",
          "text": [
            "Drive already mounted at /content/drive; to attempt to forcibly remount, call drive.mount(\"/content/drive\", force_remount=True).\n"
          ]
        }
      ],
      "source": [
        "import sys\n",
        "#sys.path.insert(0,'/content/drive/MyDrive/Marko/master')\n",
        "sys.path.insert(0, link)\n",
        "import numpy as np\n",
        "import matplotlib.pyplot as plt\n",
        "\n",
        "\n",
        "import torch\n",
        "import torch.optim as optim\n",
        "import torch.nn as nn\n",
        "import torch.distributions as dist\n",
        "\n",
        "from torch.nn import functional as F\n",
        "from torchinfo import summary\n",
        "from torch.utils.tensorboard import SummaryWriter\n",
        "from torch.utils.data import Dataset, DataLoader\n",
        "\n",
        "from sklearn.preprocessing import OneHotEncoder\n",
        "\n",
        "from tqdm import tqdm\n",
        "from tqdm import trange\n",
        "\n",
        "writer = SummaryWriter()\n",
        "\n",
        "\n",
        "from google.colab import drive\n",
        "drive.mount('/content/drive')"
      ]
    },
    {
      "cell_type": "code",
      "execution_count": null,
      "metadata": {
        "id": "HuLsYxyh6_ZM"
      },
      "outputs": [],
      "source": [
        "DEVICE = torch.device(\"cuda\" if torch.cuda.is_available() else \"cpu\")"
      ]
    },
    {
      "cell_type": "markdown",
      "source": [
        "# Model Classes"
      ],
      "metadata": {
        "id": "axFkNf0cjx2V"
      }
    },
    {
      "cell_type": "code",
      "execution_count": null,
      "metadata": {
        "id": "ae7NZhZGj7Zi"
      },
      "outputs": [],
      "source": [
        "class diva_args:\n",
        "\n",
        "    def __init__(self, z_dim=128, d_dim=45, x_dim=15000, y_dim=2,\n",
        "                 aux_loss_multiplier_y=10, aux_loss_multiplier_d=0,\n",
        "                 beta=1\n",
        "                 ):\n",
        "\n",
        "        self.z_dim = z_dim\n",
        "        self.d_dim = d_dim\n",
        "        self.x_dim = x_dim\n",
        "        self.y_dim = y_dim\n",
        "        self.aux_loss_multiplier_y = aux_loss_multiplier_y\n",
        "        self.aux_loss_multiplier_d = aux_loss_multiplier_d\n",
        "        self.beta = beta"
      ]
    },
    {
      "cell_type": "markdown",
      "source": [
        "## Dataset Class"
      ],
      "metadata": {
        "id": "tb1vH-a1j7Rf"
      }
    },
    {
      "cell_type": "code",
      "execution_count": null,
      "metadata": {
        "id": "D6ouvuZX3WPs"
      },
      "outputs": [],
      "source": [
        "class MicroRNADataset(Dataset):\n",
        "\n",
        "    def __init__(self, cat_data=True, ds='train'):\n",
        "        \n",
        "        # loading images\n",
        "        \n",
        "        if not cat_data:\n",
        "            print('Loading and Converting Images! (~90min)')\n",
        "            images = np.load(f'/{link}/modmirbase_{ds}_images.npz')['arr_0']/255\n",
        "            self.images = self.im2col(images, ds)\n",
        "        else:\n",
        "            print('Loading Converted Images (~1min)')\n",
        "            self.images = np.load(f'/{link}/modmirbase_{ds}_images_wbrgby.npz')#['arr_0']\n",
        "        \n",
        "        \n",
        "        # loading labels\n",
        "        print('Loading Labels! (~10s)')     \n",
        "        ohe = OneHotEncoder(categories='auto', sparse=False)\n",
        "        labels = np.load(f'/{link}/modmirbase_{ds}_labels.npz')['arr_0']\n",
        "        self.labels = ohe.fit_transform(labels)\n",
        "        \n",
        "        \n",
        "        # loading names\n",
        "        print('Loading Names! (~5s)')\n",
        "        names =  np.load(f'/{link}/modmirbase_{ds}_names.npz')['arr_0']\n",
        "        names = [i.decode('utf-8') for i in names]\n",
        "        self.species = ['mmu', 'prd', 'hsa', 'ptr', 'efu', 'cbn', 'gma', 'pma',\n",
        "                        'cel', 'gga', 'ipu', 'ptc', 'mdo', 'cgr', 'bta', 'cin', \n",
        "                        'ppy', 'ssc', 'ath', 'cfa', 'osa', 'mtr', 'gra', 'mml',\n",
        "                        'stu', 'bdi', 'rno', 'oan', 'dre', 'aca', 'eca', 'chi',\n",
        "                        'bmo', 'ggo', 'aly', 'dps', 'mdm', 'ame', 'ppc', 'ssa',\n",
        "                        'ppt', 'tca', 'dme', 'sbi']\n",
        "        # assigning a species label to each observation from species\n",
        "        # with more than 200 observations from past research\n",
        "        self.names = []\n",
        "        for i in names:\n",
        "            append = False\n",
        "            for j in self.species:\n",
        "                if j in i.lower():\n",
        "                    self.names.append(j)\n",
        "                    append = True\n",
        "                    break\n",
        "            if not append:\n",
        "                if 'random' in i.lower() or i.isdigit():\n",
        "                    self.names.append('hsa')\n",
        "                else:\n",
        "                    self.names.append('notfound')\n",
        "        \n",
        "        # performing one hot encoding\n",
        "        ohe = OneHotEncoder(categories='auto', sparse=False)\n",
        "        self.names_ohe = ohe.fit_transform(np.array(self.names).reshape(-1,1))\n",
        "      \n",
        "    def __len__(self):\n",
        "        return(self.images.shape[0])\n",
        "\n",
        "    def __getitem__(self, idx):\n",
        "        d = self.names_ohe[idx]\n",
        "        y = self.labels[idx]\n",
        "        x = self.images[idx]\n",
        "        x = np.transpose(x, (2,0,1))\n",
        "        return (x, y, d)\n",
        "\n",
        "    def im2col(self, images, ds):\n",
        "        \"\"\"\n",
        "        One hot encodes images\n",
        "        0: black\n",
        "        1: white\n",
        "        2: red\n",
        "        3: green\n",
        "        4: blue\n",
        "        5: yellow\n",
        "        \"\"\"\n",
        "        out_shape = (images.shape[0],images.shape[1],images.shape[2],6)\n",
        "        out_array = np.zeros(out_shape)\n",
        "        for i in range(out_array.shape[0]):\n",
        "            print(f'at image {i} out of {out_array.shape[0]}!')\n",
        "            for j in range(out_array.shape[1]):\n",
        "                for k in range(out_array.shape[2]):\n",
        "                    #print(images[i,j,k].shape, images[i,j,k])\n",
        "                    curr = images[i,j,k]\n",
        "                    if (curr==np.array([0,0,0])).all():\n",
        "                        out_array[i,j,k,0] = 1\n",
        "                    elif (curr==np.array([1,1,1])).all():\n",
        "                        out_array[i,j,k,1] = 1\n",
        "                    elif (curr==np.array([1,0,0])).all():\n",
        "                        out_array[i,j,k,2] = 1\n",
        "                    elif (curr==np.array([0,1,0])).all():\n",
        "                        out_array[i,j,k,3] = 1\n",
        "                    elif (curr==np.array([0,0,1])).all():\n",
        "                        out_array[i,j,k,4] = 1\n",
        "                    elif (curr==np.array([1,1,0])).all():\n",
        "                        out_array[i,j,k,5] = 1\n",
        "                    else:\n",
        "                        print(\"big error!!!\")\n",
        "        print('saving new file!')\n",
        "        with open(f'/{link}/modmirbase_{ds}_images_wbrgby.npz', 'wb') as f:\n",
        "            np.save(f, out_array)\n",
        "        return out_array\n",
        "                    \n",
        "                    "
      ]
    },
    {
      "cell_type": "markdown",
      "source": [
        "## Decoder classes"
      ],
      "metadata": {
        "id": "Xxj-WGXMj-Ne"
      }
    },
    {
      "cell_type": "code",
      "execution_count": null,
      "metadata": {
        "id": "RKizJuchX9uG"
      },
      "outputs": [],
      "source": [
        "# Decoders\n",
        "class px(nn.Module):\n",
        "    def __init__(self, d_dim, x_dim, y_dim, z_dim):\n",
        "        super(px, self).__init__()\n",
        "\n",
        "        self.fc1 = nn.Sequential(nn.Linear(z_dim, 128, bias=False),\n",
        "                                 nn.ReLU())\n",
        "        self.up1 = nn.Upsample(scale_factor=5)\n",
        "        self.de1 = nn.Sequential(nn.ConvTranspose2d(32, 64, kernel_size=5, stride=1, padding=2, bias=False),\n",
        "                                 nn.ReLU())\n",
        "        self.up2 = nn.Upsample(scale_factor=5)\n",
        "        self.de2 = nn.Sequential(nn.ConvTranspose2d(64, 128, kernel_size=5, stride=1, padding=2, bias=False),\n",
        "                                 nn.ReLU())\n",
        "        self.de3 = nn.Sequential(nn.Conv2d(128, 6, kernel_size=1, stride=1),\n",
        "                                 nn.Softmax(dim=1))\n",
        "\n",
        "        torch.nn.init.xavier_uniform_(self.fc1[0].weight)\n",
        "        torch.nn.init.xavier_uniform_(self.de1[0].weight)\n",
        "        torch.nn.init.xavier_uniform_(self.de2[0].weight)\n",
        "        torch.nn.init.xavier_uniform_(self.de3[0].weight)\n",
        "        self.de3[0].bias.data.zero_()\n",
        "\n",
        "    def forward(self, z):\n",
        "        h = self.fc1(z)\n",
        "        h = h.view(-1, 32, 1, 4)\n",
        "        h = self.up1(h)\n",
        "        h = self.de1(h)\n",
        "        h = self.up2(h)\n",
        "        h = self.de2(h)\n",
        "        loc_img = self.de3(h)\n",
        "\n",
        "        return loc_img"
      ]
    },
    {
      "cell_type": "code",
      "execution_count": null,
      "metadata": {
        "id": "1y8G2S1zxzTH",
        "colab": {
          "base_uri": "https://localhost:8080/"
        },
        "outputId": "3779af50-5db2-4620-bb94-d58c1553dedb"
      },
      "outputs": [
        {
          "output_type": "execute_result",
          "data": {
            "text/plain": [
              "==========================================================================================\n",
              "Layer (type:depth-idx)                   Output Shape              Param #\n",
              "==========================================================================================\n",
              "px                                       --                        --\n",
              "├─Sequential: 1-1                        [1, 128]                  --\n",
              "│    └─Linear: 2-1                       [1, 128]                  16,384\n",
              "│    └─ReLU: 2-2                         [1, 128]                  --\n",
              "├─Upsample: 1-2                          [1, 32, 5, 20]            --\n",
              "├─Sequential: 1-3                        [1, 64, 5, 20]            --\n",
              "│    └─ConvTranspose2d: 2-3              [1, 64, 5, 20]            51,200\n",
              "│    └─ReLU: 2-4                         [1, 64, 5, 20]            --\n",
              "├─Upsample: 1-4                          [1, 64, 25, 100]          --\n",
              "├─Sequential: 1-5                        [1, 128, 25, 100]         --\n",
              "│    └─ConvTranspose2d: 2-5              [1, 128, 25, 100]         204,800\n",
              "│    └─ReLU: 2-6                         [1, 128, 25, 100]         --\n",
              "├─Sequential: 1-6                        [1, 6, 25, 100]           --\n",
              "│    └─Conv2d: 2-7                       [1, 6, 25, 100]           774\n",
              "│    └─Softmax: 2-8                      [1, 6, 25, 100]           --\n",
              "==========================================================================================\n",
              "Total params: 273,158\n",
              "Trainable params: 273,158\n",
              "Non-trainable params: 0\n",
              "Total mult-adds (M): 519.07\n",
              "==========================================================================================\n",
              "Input size (MB): 0.00\n",
              "Forward/backward pass size (MB): 2.73\n",
              "Params size (MB): 1.09\n",
              "Estimated Total Size (MB): 3.83\n",
              "=========================================================================================="
            ]
          },
          "metadata": {},
          "execution_count": 8
        }
      ],
      "source": [
        "# pzy_ = pzy(45, 7500, 2, 32,32,32)\n",
        "# summary(pzy_, (1,2))\n",
        "pzy_ = px(0, 75000, 0, 128)\n",
        "summary(pzy_, (1,128))"
      ]
    },
    {
      "cell_type": "markdown",
      "source": [
        "## Endcoder Classes"
      ],
      "metadata": {
        "id": "YmNnZWXvkCDP"
      }
    },
    {
      "cell_type": "code",
      "execution_count": null,
      "metadata": {
        "id": "78ZFH8gYl_-z"
      },
      "outputs": [],
      "source": [
        "# Encoders\n",
        "class qz(nn.Module):\n",
        "    def __init__(self, d_dim, x_dim, y_dim, z_dim):\n",
        "        super(qz, self).__init__()\n",
        "\n",
        "        self.encoder = nn.Sequential(\n",
        "            nn.Conv2d(6, 16, kernel_size=5, stride=1, bias=False),\n",
        "            nn.ReLU(),\n",
        "            nn.MaxPool2d(2, 2),\n",
        "            nn.Conv2d(16, 32, kernel_size=5, stride=1, bias=False),\n",
        "            nn.ReLU(), \n",
        "            nn.MaxPool2d(2, 2),\n",
        "        )\n",
        "\n",
        "        self.fc11 = nn.Sequential(nn.Linear(2112, z_dim))\n",
        "        self.fc12 = nn.Sequential(nn.Linear(2112, z_dim), nn.Softplus())\n",
        "\n",
        "        torch.nn.init.xavier_uniform_(self.encoder[0].weight)\n",
        "        torch.nn.init.xavier_uniform_(self.encoder[3].weight)\n",
        "        torch.nn.init.xavier_uniform_(self.fc11[0].weight)\n",
        "        self.fc11[0].bias.data.zero_()\n",
        "        torch.nn.init.xavier_uniform_(self.fc12[0].weight)\n",
        "        self.fc12[0].bias.data.zero_()\n",
        "\n",
        "    def forward(self, x):\n",
        "        h = self.encoder(x)\n",
        "        h = h.view(-1, 2112)\n",
        "        zd_loc = self.fc11(h)\n",
        "        zd_scale = self.fc12(h) + 1e-7\n",
        "\n",
        "        return zd_loc, zd_scale\n"
      ]
    },
    {
      "cell_type": "code",
      "source": [
        "_qz = qz(0, 75000, 0, 128)\n",
        "summary(_qz, (1,6,25,100))"
      ],
      "metadata": {
        "colab": {
          "base_uri": "https://localhost:8080/"
        },
        "id": "P_1MOlRzGaPR",
        "outputId": "439407a6-5093-4fc1-ecdb-1158c7b39bf8"
      },
      "execution_count": null,
      "outputs": [
        {
          "output_type": "execute_result",
          "data": {
            "text/plain": [
              "==========================================================================================\n",
              "Layer (type:depth-idx)                   Output Shape              Param #\n",
              "==========================================================================================\n",
              "qz                                       --                        --\n",
              "├─Sequential: 1-1                        [1, 32, 3, 22]            --\n",
              "│    └─Conv2d: 2-1                       [1, 16, 21, 96]           2,400\n",
              "│    └─ReLU: 2-2                         [1, 16, 21, 96]           --\n",
              "│    └─MaxPool2d: 2-3                    [1, 16, 10, 48]           --\n",
              "│    └─Conv2d: 2-4                       [1, 32, 6, 44]            12,800\n",
              "│    └─ReLU: 2-5                         [1, 32, 6, 44]            --\n",
              "│    └─MaxPool2d: 2-6                    [1, 32, 3, 22]            --\n",
              "├─Sequential: 1-2                        [1, 128]                  --\n",
              "│    └─Linear: 2-7                       [1, 128]                  270,464\n",
              "├─Sequential: 1-3                        [1, 128]                  --\n",
              "│    └─Linear: 2-8                       [1, 128]                  270,464\n",
              "│    └─Softplus: 2-9                     [1, 128]                  --\n",
              "==========================================================================================\n",
              "Total params: 556,128\n",
              "Trainable params: 556,128\n",
              "Non-trainable params: 0\n",
              "Total mult-adds (M): 8.76\n",
              "==========================================================================================\n",
              "Input size (MB): 0.06\n",
              "Forward/backward pass size (MB): 0.33\n",
              "Params size (MB): 2.22\n",
              "Estimated Total Size (MB): 2.61\n",
              "=========================================================================================="
            ]
          },
          "metadata": {},
          "execution_count": 10
        }
      ]
    },
    {
      "cell_type": "markdown",
      "source": [
        "## Auxiliary predictors classes"
      ],
      "metadata": {
        "id": "601pquQEkE6-"
      }
    },
    {
      "cell_type": "code",
      "execution_count": null,
      "metadata": {
        "id": "XhIOunSHcc9b"
      },
      "outputs": [],
      "source": [
        "# Auxiliary tasks\n",
        "class qd(nn.Module):\n",
        "    def __init__(self, d_dim, x_dim, y_dim, z_dim):\n",
        "        super(qd, self).__init__()\n",
        "\n",
        "        self.fc1 = nn.Linear(z_dim, d_dim)\n",
        "\n",
        "        torch.nn.init.xavier_uniform_(self.fc1.weight)\n",
        "        self.fc1.bias.data.zero_()\n",
        "\n",
        "    def forward(self, zd):\n",
        "        h = F.relu(zd)\n",
        "        loc_d = self.fc1(h)\n",
        "\n",
        "        return loc_d\n",
        "\n",
        "\n",
        "class qy(nn.Module):\n",
        "    def __init__(self, d_dim, x_dim, y_dim, z_dim):\n",
        "        super(qy, self).__init__()\n",
        "\n",
        "        self.fc1 = nn.Linear(z_dim, y_dim)\n",
        "\n",
        "        torch.nn.init.xavier_uniform_(self.fc1.weight)\n",
        "        self.fc1.bias.data.zero_()\n",
        "\n",
        "    def forward(self, zy):\n",
        "        h = F.relu(zy)\n",
        "        loc_y = self.fc1(h)\n",
        "\n",
        "        return loc_y"
      ]
    },
    {
      "cell_type": "markdown",
      "source": [
        "## Full model class"
      ],
      "metadata": {
        "id": "vn_gJdNSkH_V"
      }
    },
    {
      "cell_type": "code",
      "execution_count": null,
      "metadata": {
        "id": "BgR5BnQN1WWG"
      },
      "outputs": [],
      "source": [
        "class VAE(nn.Module):\n",
        "    def __init__(self, args):\n",
        "        super(VAE, self).__init__()\n",
        "        self.z_dim = args.z_dim\n",
        "        self.d_dim = args.d_dim\n",
        "        self.x_dim = args.x_dim\n",
        "        self.y_dim = args.y_dim\n",
        "\n",
        "        self.px = px(self.d_dim, self.x_dim, self.y_dim, self.z_dim)\n",
        "\n",
        "        self.qz = qz(self.d_dim, self.x_dim, self.y_dim, self.z_dim)\n",
        "\n",
        "        self.qd = qd(self.d_dim, self.x_dim, self.y_dim, self.z_dim)\n",
        "        self.qy = qy(self.d_dim, self.x_dim, self.y_dim, self.z_dim)\n",
        "\n",
        "        self.aux_loss_multiplier_y = args.aux_loss_multiplier_y\n",
        "        self.aux_loss_multiplier_d = args.aux_loss_multiplier_d\n",
        "\n",
        "        self.beta = args.beta\n",
        "\n",
        "        self.cuda()\n",
        "\n",
        "    def forward(self, d, x, y):\n",
        "        # Encode\n",
        "        z_q_loc, z_q_scale = self.qz(x)\n",
        "\n",
        "        # Reparameterization trick\n",
        "        qz = dist.Normal(z_q_loc, z_q_scale)\n",
        "        z_q = qz.rsample()\n",
        "\n",
        "        # Decode\n",
        "        x_recon = self.px(z_q)\n",
        "\n",
        "        # Priors\n",
        "        z_p_loc, z_p_scale = torch.zeros(z_q.size()[0], self.z_dim).cuda(),\\\n",
        "                               torch.ones(z_q.size()[0], self.z_dim).cuda()\n",
        "        pz = dist.Normal(z_p_loc, z_p_scale)\n",
        "\n",
        "        # Auxiliary losses\n",
        "        d_hat = self.qd(z_q)\n",
        "        y_hat = self.qy(z_q)\n",
        "\n",
        "        return x_recon, d_hat, y_hat, qz, pz, z_q\n",
        "\n",
        "    def loss_function(self, d, x, y):\n",
        "        x_recon, d_hat, y_hat, qz, pz, z_q = self.forward(d, x, y)\n",
        "\n",
        "        x_recon = x_recon.view(-1, 6)\n",
        "        x_target = x.view(-1, 6)\n",
        "        CE_x = F.cross_entropy(x_recon, x_target, reduction='sum')\n",
        "\n",
        "        KL_z = torch.sum(pz.log_prob(z_q) - qz.log_prob(z_q))\n",
        "\n",
        "        _, d_target = d.max(dim=1)\n",
        "        CE_d = F.cross_entropy(d_hat, d_target, reduction='sum')\n",
        "\n",
        "        _, y_target = y.max(dim=1)\n",
        "        CE_y = F.cross_entropy(y_hat, y_target, reduction='sum')\n",
        "\n",
        "        return CE_x - self.beta * KL_z + self.aux_loss_multiplier_d * CE_d + self.aux_loss_multiplier_y * CE_y, CE_y\n",
        "\n",
        "    def classifier(self, x):\n",
        "        \"\"\"\n",
        "        classify an image (or a batch of images)\n",
        "        :param xs: a batch of scaled vectors of pixels from an image\n",
        "        :return: a batch of the corresponding class labels (as one-hots)\n",
        "        \"\"\"\n",
        "        with torch.no_grad():\n",
        "            z_q_loc, z_q_scale = self.qz(x)\n",
        "            z = z_q_loc\n",
        "            alpha = F.softmax(self.qd(z), dim=1)\n",
        "\n",
        "            # get the index (digit) that corresponds to\n",
        "            # the maximum predicted class probability\n",
        "            res, ind = torch.topk(alpha, 1)\n",
        "\n",
        "            # convert the digit(s) to one-hot tensor(s)\n",
        "            d = x.new_zeros(alpha.size())\n",
        "            d = d.scatter_(1, ind, 1.0)\n",
        "\n",
        "            alpha = F.softmax(self.qy(z), dim=1)\n",
        "\n",
        "            # get the index (digit) that corresponds to\n",
        "            # the maximum predicted class probability\n",
        "            res, ind = torch.topk(alpha, 1)\n",
        "\n",
        "            # convert the digit(s) to one-hot tensor(s)\n",
        "            y = x.new_zeros(alpha.size())\n",
        "            y = y.scatter_(1, ind, 1.0)\n",
        "\n",
        "        return d, y"
      ]
    },
    {
      "cell_type": "markdown",
      "source": [
        "# Training the model"
      ],
      "metadata": {
        "id": "LdOsLfYJjBBe"
      }
    },
    {
      "cell_type": "markdown",
      "source": [
        "## Initializing model"
      ],
      "metadata": {
        "id": "R_H_mVMUszt2"
      }
    },
    {
      "cell_type": "code",
      "execution_count": null,
      "metadata": {
        "id": "sJE0HTJE1ayP"
      },
      "outputs": [],
      "source": [
        "default_args = diva_args()"
      ]
    },
    {
      "cell_type": "code",
      "execution_count": null,
      "metadata": {
        "id": "kxIMSeUD1949"
      },
      "outputs": [],
      "source": [
        "vae = VAE(default_args).to(DEVICE)"
      ]
    },
    {
      "cell_type": "code",
      "source": [
        "#diva.load_state_dict(torch.load(f'{link}/diva_v2.5.pth'))"
      ],
      "metadata": {
        "id": "s5C6mSJTDLtu"
      },
      "execution_count": null,
      "outputs": []
    },
    {
      "cell_type": "markdown",
      "source": [
        "## Loading dataset"
      ],
      "metadata": {
        "id": "rH1E5J-ps3GD"
      }
    },
    {
      "cell_type": "code",
      "source": [
        "RNA_dataset = MicroRNADataset()\n"
      ],
      "metadata": {
        "colab": {
          "base_uri": "https://localhost:8080/"
        },
        "id": "myflmDPxjV40",
        "outputId": "a4c7717e-089e-48ec-c1b8-b4a09e6b556c"
      },
      "execution_count": null,
      "outputs": [
        {
          "output_type": "stream",
          "name": "stdout",
          "text": [
            "Loading Converted Images (~1min)\n",
            "Loading Labels! (~10s)\n",
            "Loading Names! (~5s)\n"
          ]
        }
      ]
    },
    {
      "cell_type": "code",
      "source": [
        "RNA_dataset_test = MicroRNADataset('test')"
      ],
      "metadata": {
        "id": "ut2P5RSaMoDR",
        "colab": {
          "base_uri": "https://localhost:8080/"
        },
        "outputId": "1d31a3fc-6645-4576-e967-82c014160c3e"
      },
      "execution_count": null,
      "outputs": [
        {
          "output_type": "stream",
          "name": "stdout",
          "text": [
            "Loading Converted Images (~1min)\n",
            "Loading Labels! (~10s)\n",
            "Loading Names! (~5s)\n"
          ]
        }
      ]
    },
    {
      "cell_type": "code",
      "execution_count": null,
      "metadata": {
        "id": "XZ3JG664vsnE"
      },
      "outputs": [],
      "source": [
        "#summary(diva, [(1,45),(1,6,25,100),(1,2)])"
      ]
    },
    {
      "cell_type": "markdown",
      "source": [
        "## Training functions"
      ],
      "metadata": {
        "id": "YdYaqWvbjN26"
      }
    },
    {
      "cell_type": "code",
      "execution_count": null,
      "metadata": {
        "id": "eVGq463Y2m20"
      },
      "outputs": [],
      "source": [
        "def train_single_epoch(train_loader, model, optimizer, epoch):\n",
        "    model.train()\n",
        "    train_loss = 0\n",
        "    epoch_class_y_loss = 0\n",
        "\n",
        "    no_batches = 0\n",
        "    pbar = tqdm(enumerate(train_loader), unit=\"batch\", \n",
        "                                     desc=f'Epoch {epoch}')\n",
        "    for batch_idx, (x, y, d) in pbar:\n",
        "        # To device\n",
        "        # print(x)\n",
        "        # print(y)\n",
        "        # print(d)\n",
        "        x, y, d = x.to(DEVICE), y.to(DEVICE), d.to(DEVICE)\n",
        "\n",
        "        # if (epoch % 50 == 0) and (batch_idx == 1):\n",
        "        #     save_reconstructions(model, d, x, y)\n",
        "\n",
        "        optimizer.zero_grad()\n",
        "        loss, class_y_loss = model.loss_function(d.float(), x.float(), y.float())\n",
        "        _, y_pred = model.classifier(x.float())\n",
        "        acc = ((y == y_pred).all(axis=1)*1.0).mean().item()\n",
        "        writer.add_scalar(\"Loss/train\", loss, epoch)\n",
        "        writer.add_scalar(\"y_loss/train\", class_y_loss, epoch)\n",
        "        writer.add_scalar(\"y_acc/train\", acc, epoch)\n",
        "        loss.backward()\n",
        "        optimizer.step()\n",
        "        pbar.set_postfix(loss=loss.item()/x.shape[0], \n",
        "                         y_loss = class_y_loss.item()/x.shape[0])\n",
        "        train_loss += loss\n",
        "        epoch_class_y_loss += class_y_loss\n",
        "        no_batches += 1\n",
        "        # print(f'finished batch {no_batches}!')\n",
        "        # if no_batches == 25:\n",
        "        #     break\n",
        "\n",
        "    train_loss /= len(train_loader.dataset)\n",
        "    epoch_class_y_loss /= len(train_loader.dataset)\n",
        "\n",
        "    return train_loss, epoch_class_y_loss"
      ]
    },
    {
      "cell_type": "code",
      "source": [
        "def test_single_epoch(test_loader, model, epoch):\n",
        "    model.eval()\n",
        "    test_loss = 0\n",
        "    epoch_class_y_loss = 0\n",
        "    test_corr = 0\n",
        "        \n",
        "    with torch.no_grad():\n",
        "        for batch_idx, (x,y,d) in enumerate(test_loader):\n",
        "            x, y, d = x.to(DEVICE), y.to(DEVICE), d.to(DEVICE)\n",
        "            loss, class_y_loss = model.loss_function(d.float(), x.float(), y.float())\n",
        "            _, y_pred = model.classifier(x.float())\n",
        "            test_corr += (y == y_pred).all(axis=1).sum().item()\n",
        "            acc = ((y == y_pred).all(axis=1)*1.).mean().item()\n",
        "            \n",
        "            writer.add_scalar(\"Loss/test\", loss, epoch)\n",
        "            writer.add_scalar(\"y_loss/test\", class_y_loss, epoch)\n",
        "            writer.add_scalar(\"y_acc/test\", acc, epoch)\n",
        "            test_loss += loss\n",
        "            epoch_class_y_loss += class_y_loss\n",
        "    test_loss /= len(test_loader.dataset)\n",
        "    epoch_class_y_loss /= len(test_loader.dataset)\n",
        "    acc = test_corr/len(test_loader.dataset)\n",
        "\n",
        "    return test_loss, epoch_class_y_loss, acc\n",
        "  "
      ],
      "metadata": {
        "id": "dT7E0C3nM3qh"
      },
      "execution_count": null,
      "outputs": []
    },
    {
      "cell_type": "code",
      "source": [
        "def train(train_loader, diva, optimizer, end_epoch, start_epoch=0):\n",
        "    epoch_loss_sup = []\n",
        "    epoch_loss_y = []\n",
        "\n",
        "    y_loss_test = []\n",
        "    test_loss = []\n",
        "    test_acc_lst = []\n",
        "\n",
        "    for epoch in range(start_epoch+1, end_epoch+1):\n",
        "        avg_epoch_losses_sup, avg_epoch_class_y_loss = train_single_epoch(train_loader, diva, optimizer, epoch)\n",
        "        str_loss_sup = avg_epoch_losses_sup\n",
        "        epoch_loss_sup.append(avg_epoch_losses_sup)\n",
        "        epoch_loss_y.append(avg_epoch_class_y_loss)\n",
        "        str_print = \"epoch {}: avg train loss {}\".format(epoch, str_loss_sup)\n",
        "        str_print += \", class y train loss {}\".format(avg_epoch_class_y_loss)\n",
        "        print(str_print)\n",
        "\n",
        "        test_lss, epoch_class_y_loss_test, test_acc = test_single_epoch(test_loader, diva, epoch)\n",
        "        test_loss.append(test_lss)\n",
        "        y_loss_test.append(epoch_class_y_loss_test)\n",
        "        test_acc_lst.append(test_acc)\n",
        "        str_print = \"epoch {}: avg test loss {}\".format(epoch, test_lss)\n",
        "        str_print += \", class y test loss {}\".format(epoch_class_y_loss_test)\n",
        "        str_print += \", test accuracy {}\".format(test_acc)\n",
        "        print(str_print)\n",
        "        \n",
        "    writer.flush()\n",
        "    return epoch_loss_sup, epoch_loss_y"
      ],
      "metadata": {
        "id": "npLjVGs0jHYn"
      },
      "execution_count": null,
      "outputs": []
    },
    {
      "cell_type": "markdown",
      "source": [
        "## Model Training"
      ],
      "metadata": {
        "id": "nI4-NzHxjmci"
      }
    },
    {
      "cell_type": "code",
      "execution_count": null,
      "metadata": {
        "id": "48B39rFl79Yh"
      },
      "outputs": [],
      "source": [
        "train_loader = DataLoader(RNA_dataset, batch_size=128, shuffle=True)\n",
        "test_loader = DataLoader(RNA_dataset_test, batch_size=128)"
      ]
    },
    {
      "cell_type": "code",
      "source": [
        "# diva.eval()\n",
        "# x,y,d = next(enumerate(train_loader))[1]\n",
        "# x = x.to(DEVICE)\n",
        "# d_pred, y_pred = diva.classifier(x.float())"
      ],
      "metadata": {
        "id": "wYUc05O-WJIX"
      },
      "execution_count": null,
      "outputs": []
    },
    {
      "cell_type": "code",
      "source": [
        "# (y_pred == y.to(DEVICE)).all(axis=1).sum().item()"
      ],
      "metadata": {
        "id": "Xu00DTXnYY-Z"
      },
      "execution_count": null,
      "outputs": []
    },
    {
      "cell_type": "code",
      "execution_count": null,
      "metadata": {
        "id": "J6y2Ek2677z1"
      },
      "outputs": [],
      "source": [
        "optimizer = optim.Adam(vae.parameters(), lr=0.001)"
      ]
    },
    {
      "cell_type": "code",
      "source": [
        ""
      ],
      "metadata": {
        "id": "25t-KQho0_Ym"
      },
      "execution_count": null,
      "outputs": []
    },
    {
      "cell_type": "code",
      "execution_count": null,
      "metadata": {
        "id": "0m47XoL87oLs",
        "colab": {
          "base_uri": "https://localhost:8080/"
        },
        "outputId": "9e4bbe6b-8ba0-4887-ff03-2298cc6fe186"
      },
      "outputs": [
        {
          "output_type": "stream",
          "name": "stderr",
          "text": [
            "Epoch 101: 272batch [01:01,  4.44batch/s, loss=4.43e+3, y_loss=0.0906]\n"
          ]
        },
        {
          "output_type": "stream",
          "name": "stdout",
          "text": [
            "epoch 101: avg train loss 4426.2548828125, class y train loss 0.12601345777511597\n",
            "epoch 101: avg test loss 4426.0830078125, class y test loss 0.11172561347484589, test accuracy 0.9718902105354108\n"
          ]
        },
        {
          "output_type": "stream",
          "name": "stderr",
          "text": [
            "Epoch 102: 272batch [01:01,  4.41batch/s, loss=4.42e+3, y_loss=0.108]\n"
          ]
        },
        {
          "output_type": "stream",
          "name": "stdout",
          "text": [
            "epoch 102: avg train loss 4426.07568359375, class y train loss 0.11901376396417618\n",
            "epoch 102: avg test loss 4425.7841796875, class y test loss 0.12876425683498383, test accuracy 0.94979983295412\n"
          ]
        },
        {
          "output_type": "stream",
          "name": "stderr",
          "text": [
            "Epoch 103: 272batch [01:01,  4.39batch/s, loss=4.43e+3, y_loss=0.318]\n"
          ]
        },
        {
          "output_type": "stream",
          "name": "stdout",
          "text": [
            "epoch 103: avg train loss 4425.94677734375, class y train loss 0.121357262134552\n",
            "epoch 103: avg test loss 4425.85302734375, class y test loss 0.1182638555765152, test accuracy 0.9616370496241468\n"
          ]
        },
        {
          "output_type": "stream",
          "name": "stderr",
          "text": [
            "Epoch 104: 272batch [01:01,  4.39batch/s, loss=4.43e+3, y_loss=0.22]\n"
          ]
        },
        {
          "output_type": "stream",
          "name": "stdout",
          "text": [
            "epoch 104: avg train loss 4425.94970703125, class y train loss 0.11878436803817749\n",
            "epoch 104: avg test loss 4425.7333984375, class y test loss 0.12917672097682953, test accuracy 0.9741942916390657\n"
          ]
        },
        {
          "output_type": "stream",
          "name": "stderr",
          "text": [
            "Epoch 105: 272batch [01:01,  4.40batch/s, loss=4.43e+3, y_loss=0.148]\n"
          ]
        },
        {
          "output_type": "stream",
          "name": "stdout",
          "text": [
            "epoch 105: avg train loss 4425.8095703125, class y train loss 0.11919622868299484\n",
            "epoch 105: avg test loss 4426.09228515625, class y test loss 0.11068164557218552, test accuracy 0.9642003398519627\n"
          ]
        },
        {
          "output_type": "stream",
          "name": "stderr",
          "text": [
            "Epoch 106: 272batch [01:01,  4.40batch/s, loss=4.43e+3, y_loss=0.129]\n"
          ]
        },
        {
          "output_type": "stream",
          "name": "stdout",
          "text": [
            "epoch 106: avg train loss 4425.828125, class y train loss 0.11820089817047119\n",
            "epoch 106: avg test loss 4425.69677734375, class y test loss 0.12283945828676224, test accuracy 0.9551568215201175\n"
          ]
        },
        {
          "output_type": "stream",
          "name": "stderr",
          "text": [
            "Epoch 107: 272batch [01:01,  4.39batch/s, loss=4.43e+3, y_loss=0.0988]\n"
          ]
        },
        {
          "output_type": "stream",
          "name": "stdout",
          "text": [
            "epoch 107: avg train loss 4425.81005859375, class y train loss 0.11867193877696991\n",
            "epoch 107: avg test loss 4425.3935546875, class y test loss 0.10917624086141586, test accuracy 0.9726678379078944\n"
          ]
        },
        {
          "output_type": "stream",
          "name": "stderr",
          "text": [
            "Epoch 108: 272batch [01:01,  4.40batch/s, loss=4.43e+3, y_loss=0.248]\n"
          ]
        },
        {
          "output_type": "stream",
          "name": "stdout",
          "text": [
            "epoch 108: avg train loss 4425.6591796875, class y train loss 0.11851505935192108\n",
            "epoch 108: avg test loss 4425.3701171875, class y test loss 0.11738640069961548, test accuracy 0.9673396503556925\n"
          ]
        },
        {
          "output_type": "stream",
          "name": "stderr",
          "text": [
            "Epoch 109: 272batch [01:01,  4.39batch/s, loss=4.42e+3, y_loss=0.0316]\n"
          ]
        },
        {
          "output_type": "stream",
          "name": "stdout",
          "text": [
            "epoch 109: avg train loss 4425.5146484375, class y train loss 0.11892436444759369\n",
            "epoch 109: avg test loss 4425.388671875, class y test loss 0.10728367418050766, test accuracy 0.9716598024250453\n"
          ]
        },
        {
          "output_type": "stream",
          "name": "stderr",
          "text": [
            "Epoch 110: 272batch [01:01,  4.41batch/s, loss=4.42e+3, y_loss=0.0256]\n"
          ]
        },
        {
          "output_type": "stream",
          "name": "stdout",
          "text": [
            "epoch 110: avg train loss 4425.47119140625, class y train loss 0.11580397188663483\n",
            "epoch 110: avg test loss 4425.27490234375, class y test loss 0.10953828692436218, test accuracy 0.9631635033553181\n"
          ]
        },
        {
          "output_type": "stream",
          "name": "stderr",
          "text": [
            "Epoch 111: 272batch [01:01,  4.41batch/s, loss=4.43e+3, y_loss=0.26]\n"
          ]
        },
        {
          "output_type": "stream",
          "name": "stdout",
          "text": [
            "epoch 111: avg train loss 4425.47802734375, class y train loss 0.11586325615644455\n",
            "epoch 111: avg test loss 4424.9765625, class y test loss 0.11575073003768921, test accuracy 0.9675988594798537\n"
          ]
        },
        {
          "output_type": "stream",
          "name": "stderr",
          "text": [
            "Epoch 112: 272batch [01:01,  4.40batch/s, loss=4.43e+3, y_loss=0.147]\n"
          ]
        },
        {
          "output_type": "stream",
          "name": "stdout",
          "text": [
            "epoch 112: avg train loss 4425.3671875, class y train loss 0.11685682088136673\n",
            "epoch 112: avg test loss 4425.33740234375, class y test loss 0.11339357495307922, test accuracy 0.9594481725756747\n"
          ]
        },
        {
          "output_type": "stream",
          "name": "stderr",
          "text": [
            "Epoch 113: 272batch [01:01,  4.40batch/s, loss=4.43e+3, y_loss=0.0424]\n"
          ]
        },
        {
          "output_type": "stream",
          "name": "stdout",
          "text": [
            "epoch 113: avg train loss 4425.2998046875, class y train loss 0.11858968436717987\n",
            "epoch 113: avg test loss 4425.1015625, class y test loss 0.11065749824047089, test accuracy 0.9660724057486824\n"
          ]
        },
        {
          "output_type": "stream",
          "name": "stderr",
          "text": [
            "Epoch 114: 272batch [01:01,  4.41batch/s, loss=4.43e+3, y_loss=0.374]\n"
          ]
        },
        {
          "output_type": "stream",
          "name": "stdout",
          "text": [
            "epoch 114: avg train loss 4425.1943359375, class y train loss 0.11775655299425125\n",
            "epoch 114: avg test loss 4424.931640625, class y test loss 0.10444515198469162, test accuracy 0.9659860027072953\n"
          ]
        },
        {
          "output_type": "stream",
          "name": "stderr",
          "text": [
            "Epoch 115: 272batch [01:01,  4.40batch/s, loss=4.42e+3, y_loss=0.0431]\n"
          ]
        },
        {
          "output_type": "stream",
          "name": "stdout",
          "text": [
            "epoch 115: avg train loss 4425.1259765625, class y train loss 0.11550169438123703\n",
            "epoch 115: avg test loss 4424.69287109375, class y test loss 0.10795298963785172, test accuracy 0.9728118429768727\n"
          ]
        },
        {
          "output_type": "stream",
          "name": "stderr",
          "text": [
            "Epoch 116: 272batch [01:01,  4.39batch/s, loss=4.42e+3, y_loss=0.0177]\n"
          ]
        },
        {
          "output_type": "stream",
          "name": "stdout",
          "text": [
            "epoch 116: avg train loss 4425.15087890625, class y train loss 0.11712789535522461\n",
            "epoch 116: avg test loss 4425.97802734375, class y test loss 0.10626400262117386, test accuracy 0.969672532473143\n"
          ]
        },
        {
          "output_type": "stream",
          "name": "stderr",
          "text": [
            "Epoch 117: 272batch [01:01,  4.40batch/s, loss=4.44e+3, y_loss=0.224]\n"
          ]
        },
        {
          "output_type": "stream",
          "name": "stdout",
          "text": [
            "epoch 117: avg train loss 4424.91796875, class y train loss 0.11442460119724274\n",
            "epoch 117: avg test loss 4425.07568359375, class y test loss 0.10752453655004501, test accuracy 0.9699317415973042\n"
          ]
        },
        {
          "output_type": "stream",
          "name": "stderr",
          "text": [
            "Epoch 118: 272batch [01:01,  4.40batch/s, loss=4.41e+3, y_loss=0.1]\n"
          ]
        },
        {
          "output_type": "stream",
          "name": "stdout",
          "text": [
            "epoch 118: avg train loss 4424.8935546875, class y train loss 0.11469559371471405\n",
            "epoch 118: avg test loss 4424.853515625, class y test loss 0.11707602441310883, test accuracy 0.9552720255753002\n"
          ]
        },
        {
          "output_type": "stream",
          "name": "stderr",
          "text": [
            "Epoch 119: 272batch [01:01,  4.40batch/s, loss=4.42e+3, y_loss=0.0848]\n"
          ]
        },
        {
          "output_type": "stream",
          "name": "stdout",
          "text": [
            "epoch 119: avg train loss 4424.9599609375, class y train loss 0.11540640145540237\n",
            "epoch 119: avg test loss 4424.88134765625, class y test loss 0.11634693294763565, test accuracy 0.9593329685204919\n"
          ]
        },
        {
          "output_type": "stream",
          "name": "stderr",
          "text": [
            "Epoch 120: 272batch [01:01,  4.40batch/s, loss=4.42e+3, y_loss=0.0335]\n"
          ]
        },
        {
          "output_type": "stream",
          "name": "stdout",
          "text": [
            "epoch 120: avg train loss 4424.791015625, class y train loss 0.11367254704236984\n",
            "epoch 120: avg test loss 4424.40478515625, class y test loss 0.10415253043174744, test accuracy 0.9737334754183348\n"
          ]
        }
      ],
      "source": [
        "lss, eplss = train(train_loader, vae, optimizer, 120, 100)"
      ]
    },
    {
      "cell_type": "code",
      "source": [
        "#!tensorboard --logdir=runs"
      ],
      "metadata": {
        "id": "S6KKD9fmL3n_"
      },
      "execution_count": null,
      "outputs": []
    },
    {
      "cell_type": "code",
      "execution_count": null,
      "metadata": {
        "id": "14_0zzMCtR7Y"
      },
      "outputs": [],
      "source": [
        "torch.save(vae.state_dict(), f'{link}/vae_v1.2.pth')"
      ]
    },
    {
      "cell_type": "markdown",
      "source": [
        "# Model Evaluation"
      ],
      "metadata": {
        "id": "whsgNltzXDhK"
      }
    },
    {
      "cell_type": "markdown",
      "source": [
        "## Sampling from trained model"
      ],
      "metadata": {
        "id": "VfcwhSNIjqIE"
      }
    },
    {
      "cell_type": "code",
      "execution_count": null,
      "metadata": {
        "id": "JaSz6PSlII26"
      },
      "outputs": [],
      "source": [
        "def sample(x, mean=False):\n",
        "    \"\"\"\n",
        "    takes sample for each pixel given probabilities\n",
        "    input: reconstructed x (shape: -1,6,25,100)\n",
        "    output: sample from x (shape: -1,25,100,3)\n",
        "    \"\"\"\n",
        "    color_dict = {1: np.array([1,1,1]), # white\n",
        "                  0: np.array([0,0,0]), # black\n",
        "                  2: np.array([1,0,0]), # red\n",
        "                  3: np.array([0,1,0]), # green\n",
        "                  4: np.array([0,0,1]), # blue\n",
        "                  5: np.array([1,1,0])  # yellow\n",
        "                  }\n",
        "    out = np.zeros((x.shape[0],x.shape[2],x.shape[3], 3))\n",
        "    for i in range(x.shape[0]):\n",
        "      for j in range(x.shape[2]):\n",
        "        for k in range(x.shape[3]):\n",
        "          p = x[i,:,j,k]\n",
        "          p = p.astype(np.float64)\n",
        "          p += 1e-7\n",
        "          #print(p)\n",
        "          p /= p.sum()\n",
        "          #print(p, sum(p))\n",
        "          if not mean:\n",
        "            pix = np.random.choice(np.arange(6), p=p)\n",
        "          else:\n",
        "            pix = np.argmax(p)\n",
        "          out[i,j,k] = color_dict[pix]\n",
        "    return out"
      ]
    },
    {
      "cell_type": "code",
      "execution_count": null,
      "metadata": {
        "id": "0DMiSSjWMSzh"
      },
      "outputs": [],
      "source": [
        "def decode(x):\n",
        "    \"\"\"\n",
        "    gives image in pixels given x\n",
        "    input: training x (shape: -1,6,25,100)\n",
        "    output:  x (shape: -1,25,100,3)\n",
        "    \"\"\"\n",
        "    color_dict = {1: np.array([1,1,1]), # white\n",
        "              0: np.array([0,0,0]), # black\n",
        "              2: np.array([1,0,0]), # red\n",
        "              3: np.array([0,1,0]), # green\n",
        "              4: np.array([0,0,1]), # blue\n",
        "              5: np.array([1,1,0])  # yellow\n",
        "              }\n",
        "    out = np.zeros((x.shape[0],x.shape[2],x.shape[3], 3))\n",
        "    for i in range(x.shape[0]):\n",
        "      for j in range(x.shape[2]):\n",
        "        for k in range(x.shape[3]):\n",
        "          for l in range(6):\n",
        "            if x[i,l,j,k] == 1:\n",
        "              out[i,j,k] = color_dict[l]\n",
        "    return out"
      ]
    },
    {
      "cell_type": "code",
      "execution_count": null,
      "metadata": {
        "id": "blYW4SMZG4fv"
      },
      "outputs": [],
      "source": [
        "a = next(enumerate(train_loader))"
      ]
    },
    {
      "cell_type": "code",
      "execution_count": null,
      "metadata": {
        "id": "ahb9oyxiHHdY",
        "colab": {
          "base_uri": "https://localhost:8080/"
        },
        "outputId": "fe46a616-6dad-4c78-bb6c-5fa35702cac0"
      },
      "outputs": [
        {
          "output_type": "execute_result",
          "data": {
            "text/plain": [
              "[torch.Size([128, 6, 25, 100]), torch.Size([128, 2]), torch.Size([128, 45])]"
            ]
          },
          "metadata": {},
          "execution_count": 64
        }
      ],
      "source": [
        "[h.shape for h in a[1]]"
      ]
    },
    {
      "cell_type": "code",
      "execution_count": null,
      "metadata": {
        "id": "deiEYKxlmphu"
      },
      "outputs": [],
      "source": [
        "with torch.no_grad():\n",
        "    vae.eval()\n",
        "    d = a[1][2][:9].to(DEVICE).float()\n",
        "    x = a[1][0][:9].to(DEVICE).float()\n",
        "    y = a[1][1][:9].to(DEVICE).float()\n",
        "    x_recon, _, _, _, _, _ = vae(d,x,y)\n",
        "    sample_x = sample(x_recon.cpu().numpy(), True)"
      ]
    },
    {
      "cell_type": "code",
      "execution_count": null,
      "metadata": {
        "id": "4NWGV4Xd7bn8",
        "colab": {
          "base_uri": "https://localhost:8080/",
          "height": 247
        },
        "outputId": "b47a6953-ff2e-47cb-ff88-b41561cb2928"
      },
      "outputs": [
        {
          "output_type": "display_data",
          "data": {
            "text/plain": [
              "<Figure size 3600x3600 with 0 Axes>"
            ]
          },
          "metadata": {}
        },
        {
          "output_type": "display_data",
          "data": {
            "image/png": "[encoded data removed]",
            "text/plain": [
              "<Figure size 432x288 with 9 Axes>"
            ]
          },
          "metadata": {
            "needs_background": "light"
          }
        }
      ],
      "source": [
        "plt.figure(figsize=(50,50))\n",
        "fig, ax = plt.subplots(nrows=3, ncols=3)\n",
        "for i in range(9):\n",
        "  ax[i//3, i%3].imshow(sample_x[i])"
      ]
    },
    {
      "cell_type": "code",
      "execution_count": null,
      "metadata": {
        "id": "OE3qVVFFLaPm",
        "colab": {
          "base_uri": "https://localhost:8080/",
          "height": 230
        },
        "outputId": "b7e4ef66-2209-4c0a-fbff-bf933e5b8333"
      },
      "outputs": [
        {
          "output_type": "display_data",
          "data": {
            "image/png": "[encoded data removed]",
            "text/plain": [
              "<Figure size 432x288 with 9 Axes>"
            ]
          },
          "metadata": {
            "needs_background": "light"
          }
        }
      ],
      "source": [
        "x_true = decode(x)\n",
        "fig, ax = plt.subplots(nrows=3, ncols=3)\n",
        "for i in range(9):\n",
        "  ax[i//3, i%3].imshow(x_true[i])"
      ]
    },
    {
      "cell_type": "code",
      "execution_count": null,
      "metadata": {
        "id": "yxJBjKXcMLlj"
      },
      "outputs": [],
      "source": [
        ""
      ]
    }
  ],
  "metadata": {
    "accelerator": "GPU",
    "colab": {
      "collapsed_sections": [],
      "name": "SimpleVAE",
      "provenance": [],
      "include_colab_link": true
    },
    "kernelspec": {
      "display_name": "Python 3",
      "name": "python3"
    },
    "language_info": {
      "name": "python"
    }
  },
  "nbformat": 4,
  "nbformat_minor": 0
}