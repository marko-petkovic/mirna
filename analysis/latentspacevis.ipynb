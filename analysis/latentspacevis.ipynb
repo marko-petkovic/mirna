{
 "cells": [
  {
   "cell_type": "code",
   "execution_count": 1,
   "metadata": {},
   "outputs": [],
   "source": [
    "folder = \"D:/users/marko/downloads/mirna/analysis\"\n",
    "folder2 = \"D:/users/marko/downloads/mirna/models\"\n",
    "folder3 = \"D:/users/marko/downloads/mirna/\""
   ]
  },
  {
   "cell_type": "code",
   "execution_count": 2,
   "metadata": {},
   "outputs": [],
   "source": [
    "model_code = \"2fh6vyi6\""
   ]
  },
  {
   "cell_type": "markdown",
   "metadata": {
    "tags": []
   },
   "source": [
    "# library imports"
   ]
  },
  {
   "cell_type": "code",
   "execution_count": 3,
   "metadata": {},
   "outputs": [],
   "source": [
    "import numpy as np\n",
    "import pandas as pd\n",
    "import sys \n",
    "import os \n",
    "import io\n",
    "import wandb\n",
    "import torch\n",
    "\n",
    "sys.path.insert(0, folder)\n",
    "sys.path.insert(0, folder2)\n",
    "os.chdir(folder)\n",
    "os.makedirs(f\"{folder}/latspaces/{model_code}/\", exist_ok=True)\n",
    "\n",
    "\n",
    "from concepts import *\n",
    "from utils import *\n",
    "from model import *\n",
    "from dataset import *\n",
    "\n",
    "from tqdm import tqdm\n",
    "\n",
    "import plotly.graph_objs as go\n",
    "from ipywidgets import HTML, Image, Layout, interactive, \\\n",
    "                       RadioButtons, HBox, VBox, interact\n",
    "import PIL.Image\n",
    "from graphviz import Digraph, Source\n",
    "\n",
    "from sklearn.manifold import TSNE\n",
    "import matplotlib.pyplot as plt\n",
    "\n",
    "from sklearn.svm import LinearSVC, SVC\n",
    "from sklearn.linear_model import LogisticRegression\n",
    "\n",
    "from scipy.stats import pearsonr, spearmanr, kendalltau\n"
   ]
  },
  {
   "cell_type": "code",
   "execution_count": 4,
   "metadata": {},
   "outputs": [],
   "source": [
    "# connect with wandb and access run\n",
    "api = wandb.Api(api_key='46d1be10d4e9900dd55fb752c4ecaa4ca0341b20')\n",
    "run = api.run(f\"generativemirna/final_experiments_thesis/{model_code}\")"
   ]
  },
  {
   "cell_type": "code",
   "execution_count": 8,
   "metadata": {},
   "outputs": [],
   "source": [
    "\n",
    "class Args:\n",
    "    \n",
    "    def __init__(self, args, conv=False):\n",
    "        if conv:\n",
    "            setattr(self, 'sttng', 'conv') \n",
    "        for i in args:\n",
    "            setattr(self, i, args[i])"
   ]
  },
  {
   "cell_type": "code",
   "execution_count": 9,
   "metadata": {},
   "outputs": [],
   "source": [
    "args = Args(run.config, True)\n",
    "args = process_args(args)"
   ]
  },
  {
   "cell_type": "code",
   "execution_count": 10,
   "metadata": {},
   "outputs": [
    {
     "data": {
      "text/plain": [
       "<All keys matched successfully>"
      ]
     },
     "execution_count": 10,
     "metadata": {},
     "output_type": "execute_result"
    }
   ],
   "source": [
    "if args.model_type == 'vae':\n",
    "    model = MIRVAE(args).to('cuda')\n",
    "elif args.model_type == 'diva':\n",
    "    model = MIRDIVA(args).to('cuda')\n",
    "\n",
    "model.load_state_dict(torch.load('D:/users/marko/downloads/mirna/thesis_experiments/diva_iaf/checkpoints/200.pth'))"
   ]
  },
  {
   "cell_type": "code",
   "execution_count": 11,
   "metadata": {},
   "outputs": [
    {
     "name": "stdout",
     "output_type": "stream",
     "text": [
      "Loading Labels! (~10s)\n",
      "Loading Names! (~5s)\n",
      "Loading Labels! (~10s)\n",
      "Loading Names! (~5s)\n"
     ]
    }
   ],
   "source": [
    "train_loader = get_data_loader(folder3, 'train', analysis=True)\n",
    "test_loader = get_data_loader(folder3, 'test', analysis=True)"
   ]
  },
  {
   "cell_type": "code",
   "execution_count": null,
   "metadata": {},
   "outputs": [],
   "source": [
    "concepts_train = pd.read_csv(f'{folder3}/data/concepts_tr.csv')\n",
    "concepts_test = pd.read_csv(f'{folder3}/data/concepts_te.csv')\n",
    "\n",
    "# concepts_train = create_annotated_df(train_loader.dataset.images*255, train_loader.dataset.labels.argmax(1))\n",
    "# concepts_test = create_annotated_df(test_loader.dataset.images*255, test_loader.dataset.labels.argmax(1))\n",
    "\n",
    "# concepts_train.to_csv(f'{folder3}/data/concepts_tr.csv')\n",
    "# concepts_test.to_csv(f'{folder3}/data/concepts_te.csv')\n",
    "\n",
    "concepts_train['loop_length'].fillna(0, inplace=True)\n",
    "concepts_train['loop_width'].fillna(0, inplace=True)\n",
    "concepts_train.replace(['upper','lower'], [1,-1], inplace=True)\n",
    "concepts_train.fillna(-1, inplace=True)\n",
    "\n",
    "concepts_test['loop_length'].fillna(0, inplace=True)\n",
    "concepts_test['loop_width'].fillna(0, inplace=True)\n",
    "concepts_test.replace(['upper','lower'], [1,-1], inplace=True)\n",
    "concepts_test.fillna(-1, inplace=True)"
   ]
  },
  {
   "cell_type": "code",
   "execution_count": null,
   "metadata": {},
   "outputs": [],
   "source": [
    "z_tr, x_hat_tr, x_tr = model_analysis(model, args, train_loader)\n",
    "z_te, x_hat_te, x_te = model_analysis(model, args, test_loader)"
   ]
  },
  {
   "cell_type": "code",
   "execution_count": 11,
   "metadata": {},
   "outputs": [],
   "source": [
    "latent_space_m = TSNE().fit_transform(z_te['m'])"
   ]
  },
  {
   "cell_type": "code",
   "execution_count": 12,
   "metadata": {},
   "outputs": [],
   "source": [
    "fig = go.FigureWidget(\n",
    "    data=[\n",
    "        dict(\n",
    "            type='scattergl',\n",
    "            x=latent_space_m[:,0],\n",
    "            y=latent_space_m[:,1],\n",
    "            mode='markers',\n",
    "            marker = dict(color=np.argmax(test_loader.dataset.labels,1),\n",
    "                          size=4),\n",
    "          \n",
    "        )\n",
    "    ],\n",
    "    \n",
    "    layout=dict(height=500, width=750)\n",
    ")"
   ]
  },
  {
   "cell_type": "code",
   "execution_count": 13,
   "metadata": {},
   "outputs": [],
   "source": [
    "def set_color(column):\n",
    "    fig.data[0].marker.color = concepts_test[column]*1"
   ]
  },
  {
   "cell_type": "code",
   "execution_count": 14,
   "metadata": {},
   "outputs": [
    {
     "data": {
      "application/vnd.jupyter.widget-view+json": {
       "model_id": "3f89cb57a6ab4f31a875670162ee235f",
       "version_major": 2,
       "version_minor": 0
      },
      "text/plain": [
       "interactive(children=(RadioButtons(description='column', options=('class_label', 'presence_terminal_loop', 'st…"
      ]
     },
     "metadata": {},
     "output_type": "display_data"
    }
   ],
   "source": [
    "radio = RadioButtons(options=concepts_test.columns[2:])\n",
    "radiowidget = interact(set_color, column=radio)"
   ]
  },
  {
   "cell_type": "code",
   "execution_count": 15,
   "metadata": {},
   "outputs": [],
   "source": [
    "def compress_to_bytes(data, fmt):\n",
    "    \"\"\"\n",
    "    Helper function to compress image data via PIL/Pillow.\n",
    "    \"\"\"\n",
    "    data = data.repeat(10, axis=0).repeat(10, axis=1)\n",
    "    buff = io.BytesIO()\n",
    "    img = PIL.Image.fromarray(np.uint8(data*255))    \n",
    "    img.save(buff, format=fmt)\n",
    "    \n",
    "    return buff.getvalue()\n",
    "\n",
    "def hover_fn(trace, points, state):\n",
    "\n",
    "    ind = points.point_inds[0]\n",
    "\n",
    "    \n",
    "    # Update image widget\n",
    "    im = compress_to_bytes(test_loader.dataset.images[ind],'png')\n",
    "    image_widget.value = im\n",
    "    details.value = pd.DataFrame({'name':[test_loader.dataset.names[ind]], 'class':[test_loader.dataset.labels.argmax(1)[ind]]}).to_html(col_space={'name':250,'class':50})\n",
    "    \n",
    "details = HTML()\n",
    "details.value = pd.DataFrame({'name':[test_loader.dataset.names[0]], 'class':[test_loader.dataset.labels.argmax(1)[0]]}).to_html(col_space={'name':250,'class':50})"
   ]
  },
  {
   "cell_type": "code",
   "execution_count": 16,
   "metadata": {},
   "outputs": [],
   "source": [
    "fig.data[0].on_hover(hover_fn)"
   ]
  },
  {
   "cell_type": "code",
   "execution_count": 17,
   "metadata": {},
   "outputs": [],
   "source": [
    "fmt='png'\n",
    "im = compress_to_bytes(test_loader.dataset.images[0],fmt)\n",
    "image_widget = Image(\n",
    "    value=im,\n",
    "    layout=Layout(height='250px', width='1000px')\n",
    ")"
   ]
  },
  {
   "cell_type": "code",
   "execution_count": 18,
   "metadata": {},
   "outputs": [
    {
     "data": {
      "application/vnd.jupyter.widget-view+json": {
       "model_id": "9605f428e04e4d1599f198bd20124963",
       "version_major": 2,
       "version_minor": 0
      },
      "text/plain": [
       "VBox(children=(HBox(children=(FigureWidget({\n",
       "    'data': [{'marker': {'color': array([0, 0, 1, ..., 1, 0, 0], …"
      ]
     },
     "metadata": {},
     "output_type": "display_data"
    }
   ],
   "source": [
    "VBox([HBox([fig, \n",
    "      radio]), HBox([image_widget]), details])"
   ]
  },
  {
   "cell_type": "code",
   "execution_count": 19,
   "metadata": {},
   "outputs": [],
   "source": [
    "from decisiontree import Tree"
   ]
  },
  {
   "cell_type": "code",
   "execution_count": 20,
   "metadata": {},
   "outputs": [],
   "source": [
    "\n",
    "thresholds = {'start_loop_upperhalf_col':[3,7,15,30,45],\n",
    "              'highest_point_loop_upperhalf_col':[3,7,9,15,30,45],\n",
    "              'gap_start':[2,8,20,40],\n",
    "              'palindrome_score':[.25,.5,.6,.7,.8,.9],\n",
    "              'large_asymmetric_bulge':[2,4,8,10,20,40,60],\n",
    "              'largest_asym_bulge_sequence_location':[5,20,40,60,80],\n",
    "              'stem_begin':[15,35,45,55,60,75],\n",
    "              'stem_end':[3,5,8,12,20,30,40],\n",
    "              'stem_length':[10,20,30,35,40,45,50,55,60,70,80,90],\n",
    "              'total_length':[20,30,40,50,60,70,80,90],\n",
    "              'base_pairs_in_stem':[.1,.3,.5,.7,.9],\n",
    "              'base_pairs_wobbles_in_stem':[.1,.3,.5,.7,.9],\n",
    "              'loop_width':[2,8,20,45],\n",
    "              \n",
    "              }"
   ]
  },
  {
   "cell_type": "code",
   "execution_count": 21,
   "metadata": {},
   "outputs": [],
   "source": [
    "dtc = Tree(thresholds, max_depth=5, cls=LinearSVC,\n",
    "           cls_args=dict(dual=False))"
   ]
  },
  {
   "cell_type": "code",
   "execution_count": 22,
   "metadata": {},
   "outputs": [],
   "source": [
    "dtc.fit(z_tr['m'], train_loader.dataset.labels.argmax(1).flatten(), concepts_train[concepts_train.columns[3:]], prune=True)"
   ]
  },
  {
   "cell_type": "code",
   "execution_count": 23,
   "metadata": {},
   "outputs": [
    {
     "data": {
      "text/plain": [
       "0.9453644768295844"
      ]
     },
     "execution_count": 23,
     "metadata": {},
     "output_type": "execute_result"
    }
   ],
   "source": [
    "dtc.score(z_tr['m'], train_loader.dataset.labels.argmax(1).flatten())"
   ]
  },
  {
   "cell_type": "code",
   "execution_count": 24,
   "metadata": {},
   "outputs": [
    {
     "data": {
      "text/plain": [
       "0.9143202741751226"
      ]
     },
     "execution_count": 24,
     "metadata": {},
     "output_type": "execute_result"
    }
   ],
   "source": [
    "dtc.score(z_te['m'], test_loader.dataset.labels.argmax(1).flatten())"
   ]
  },
  {
   "cell_type": "code",
   "execution_count": 25,
   "metadata": {},
   "outputs": [
    {
     "data": {
      "text/plain": [
       "'dtc_new_.png'"
      ]
     },
     "execution_count": 25,
     "metadata": {},
     "output_type": "execute_result"
    }
   ],
   "source": [
    "g = dtc.plot_tree()\n",
    "g.render('dtc_new_', format='png')"
   ]
  },
  {
   "cell_type": "code",
   "execution_count": 26,
   "metadata": {},
   "outputs": [],
   "source": [
    "def plot_latent_space(z, c):\n",
    "    plt.scatter(z[:,0], z[:,1], c=c, s=.1)"
   ]
  },
  {
   "cell_type": "code",
   "execution_count": 27,
   "metadata": {},
   "outputs": [
    {
     "data": {
      "image/png": "[encoded data removed]",
      "text/plain": [
       "<Figure size 432x288 with 1 Axes>"
      ]
     },
     "metadata": {
      "needs_background": "light"
     },
     "output_type": "display_data"
    }
   ],
   "source": [
    "plot_latent_space(latent_space_m,test_loader.dataset.labels.argmax(1).flatten())"
   ]
  },
  {
   "cell_type": "code",
   "execution_count": 28,
   "metadata": {},
   "outputs": [],
   "source": [
    "def calculate_error_statistics(x, x_hat):\n",
    "    '''\n",
    "    function which calculates all reconstruction statistics\n",
    "    '''\n",
    "    correct_nt = correct_nucleotides(x, x_hat)\n",
    "    correct_sh = correct_shape(x, x_hat)\n",
    "    correct_le = correct_length(x, x_hat)\n",
    "    return correct_nt, correct_sh, correct_le\n",
    "    \n",
    "def correct_nucleotides(x, x_hat):\n",
    "    '''\n",
    "    calculates which nucleotides are correct\n",
    "    '''\n",
    "    return x[:,:,12:14]==x_hat[:,:,12:14]\n",
    "\n",
    "def correct_shape(x, x_hat):\n",
    "    '''\n",
    "    calculates how correct the shape is\n",
    "    '''\n",
    "    x, x_hat = x.sum((1,2)), x_hat.sum((1,2))\n",
    "    return x == x_hat\n",
    "\n",
    "def correct_length(x, x_hat):\n",
    "    '''\n",
    "    calculates which part of the length of the reconstruction is correct\n",
    "    '''\n",
    "    x, x_hat = x[:,:,12:13].sum(1), x_hat[:,:,12:13].sum(1) \n",
    "    return x == x_hat"
   ]
  },
  {
   "cell_type": "code",
   "execution_count": 29,
   "metadata": {},
   "outputs": [],
   "source": [
    "nt, sh, le = calculate_error_statistics(test_loader.dataset.images_cat, x_hat_te)"
   ]
  },
  {
   "cell_type": "code",
   "execution_count": 30,
   "metadata": {},
   "outputs": [
    {
     "data": {
      "text/plain": [
       "0.9957745447214569"
      ]
     },
     "execution_count": 30,
     "metadata": {},
     "output_type": "execute_result"
    }
   ],
   "source": [
    "nt.mean()"
   ]
  },
  {
   "cell_type": "code",
   "execution_count": 31,
   "metadata": {},
   "outputs": [
    {
     "data": {
      "text/plain": [
       "<matplotlib.image.AxesImage at 0x216e707e808>"
      ]
     },
     "execution_count": 31,
     "metadata": {},
     "output_type": "execute_result"
    },
    {
     "data": {
      "image/png": "[encoded data removed]",
      "text/plain": [
       "<Figure size 432x288 with 1 Axes>"
      ]
     },
     "metadata": {
      "needs_background": "light"
     },
     "output_type": "display_data"
    }
   ],
   "source": [
    "plt.imshow(nt.prod(axis=1).mean(0))"
   ]
  },
  {
   "cell_type": "code",
   "execution_count": 32,
   "metadata": {},
   "outputs": [
    {
     "data": {
      "text/plain": [
       "<matplotlib.image.AxesImage at 0x216e7639848>"
      ]
     },
     "execution_count": 32,
     "metadata": {},
     "output_type": "execute_result"
    },
    {
     "data": {
      "image/png": "[encoded data removed]",
      "text/plain": [
       "<Figure size 432x288 with 1 Axes>"
      ]
     },
     "metadata": {
      "needs_background": "light"
     },
     "output_type": "display_data"
    }
   ],
   "source": [
    "plt.imshow([[0,1]])"
   ]
  },
  {
   "cell_type": "code",
   "execution_count": null,
   "metadata": {},
   "outputs": [],
   "source": [
    "nt.mean()"
   ]
  },
  {
   "cell_type": "code",
   "execution_count": 71,
   "metadata": {},
   "outputs": [
    {
     "data": {
      "text/plain": [
       "0"
      ]
     },
     "execution_count": 71,
     "metadata": {},
     "output_type": "execute_result"
    }
   ],
   "source": [
    "np.prod([True,False])"
   ]
  },
  {
   "cell_type": "code",
   "execution_count": 12,
   "metadata": {},
   "outputs": [],
   "source": [
    "err = 1 - (x_te ==  x_hat_te).prod(1)"
   ]
  },
  {
   "cell_type": "code",
   "execution_count": 13,
   "metadata": {},
   "outputs": [
    {
     "data": {
      "text/plain": [
       "1"
      ]
     },
     "execution_count": 13,
     "metadata": {},
     "output_type": "execute_result"
    }
   ],
   "source": [
    "err.max()"
   ]
  },
  {
   "cell_type": "code",
   "execution_count": 22,
   "metadata": {},
   "outputs": [
    {
     "data": {
      "text/plain": [
       "<matplotlib.image.AxesImage at 0x19a07a36448>"
      ]
     },
     "execution_count": 22,
     "metadata": {},
     "output_type": "execute_result"
    },
    {
     "data": {
      "image/png": "[encoded data removed]",
      "text/plain": [
       "<Figure size 432x288 with 1 Axes>"
      ]
     },
     "metadata": {
      "needs_background": "light"
     },
     "output_type": "display_data"
    }
   ],
   "source": [
    "plt.imshow(x_te.sum(1).mean(0))"
   ]
  },
  {
   "cell_type": "code",
   "execution_count": 30,
   "metadata": {},
   "outputs": [
    {
     "data": {
      "text/plain": [
       "917"
      ]
     },
     "execution_count": 30,
     "metadata": {},
     "output_type": "execute_result"
    }
   ],
   "source": [
    "err.sum(0).max()"
   ]
  },
  {
   "cell_type": "code",
   "execution_count": 29,
   "metadata": {},
   "outputs": [
    {
     "data": {
      "text/plain": [
       "<matplotlib.image.AxesImage at 0x19a09736a08>"
      ]
     },
     "execution_count": 29,
     "metadata": {},
     "output_type": "execute_result"
    },
    {
     "data": {
      "image/png": "[encoded data removed]",
      "text/plain": [
       "<Figure size 432x288 with 1 Axes>"
      ]
     },
     "metadata": {
      "needs_background": "light"
     },
     "output_type": "display_data"
    }
   ],
   "source": [
    "plt.imshow(err.sum(0))"
   ]
  },
  {
   "cell_type": "code",
   "execution_count": 16,
   "metadata": {},
   "outputs": [
    {
     "data": {
      "text/plain": [
       "<matplotlib.image.AxesImage at 0x199ffa0d708>"
      ]
     },
     "execution_count": 16,
     "metadata": {},
     "output_type": "execute_result"
    },
    {
     "data": {
      "image/png": "[encoded data removed]",
      "text/plain": [
       "<Figure size 432x288 with 1 Axes>"
      ]
     },
     "metadata": {
      "needs_background": "light"
     },
     "output_type": "display_data"
    }
   ],
   "source": [
    "plt.imshow(x_te[1].sum(0))"
   ]
  },
  {
   "cell_type": "code",
   "execution_count": 17,
   "metadata": {},
   "outputs": [
    {
     "data": {
      "text/plain": [
       "<matplotlib.image.AxesImage at 0x19a01b83dc8>"
      ]
     },
     "execution_count": 17,
     "metadata": {},
     "output_type": "execute_result"
    },
    {
     "data": {
      "image/png": "[encoded data removed]",
      "text/plain": [
       "<Figure size 432x288 with 1 Axes>"
      ]
     },
     "metadata": {
      "needs_background": "light"
     },
     "output_type": "display_data"
    }
   ],
   "source": [
    "plt.imshow(x_hat_te[1].sum(0))"
   ]
  },
  {
   "cell_type": "code",
   "execution_count": 32,
   "metadata": {},
   "outputs": [
    {
     "data": {
      "text/plain": [
       "tensor([[1, 2, 3, 4]])"
      ]
     },
     "execution_count": 32,
     "metadata": {},
     "output_type": "execute_result"
    }
   ],
   "source": [
    "torch.nn.functional.one_hot(torch.tensor([[1,2,3,4]])).argmax(2)"
   ]
  },
  {
   "cell_type": "code",
   "execution_count": 39,
   "metadata": {},
   "outputs": [
    {
     "data": {
      "text/plain": [
       "0        1.0\n",
       "1        0.0\n",
       "2        1.0\n",
       "3        1.0\n",
       "4        1.0\n",
       "        ... \n",
       "14876    1.0\n",
       "14877    0.0\n",
       "14878    1.0\n",
       "14879    0.0\n",
       "14880    0.0\n",
       "Name: presence_terminal_loop, Length: 14881, dtype: float64"
      ]
     },
     "execution_count": 39,
     "metadata": {},
     "output_type": "execute_result"
    }
   ],
   "source": [
    "concepts_test[concepts_test.columns[3:]]['presence_terminal_loop']*1.0"
   ]
  },
  {
   "cell_type": "code",
   "execution_count": 42,
   "metadata": {},
   "outputs": [
    {
     "data": {
      "text/plain": [
       "array([[1., 1.],\n",
       "       [1., 1.]])"
      ]
     },
     "execution_count": 42,
     "metadata": {},
     "output_type": "execute_result"
    }
   ],
   "source": [
    "np.corrcoef([1,2,3],[2,3,4])"
   ]
  },
  {
   "cell_type": "code",
   "execution_count": 45,
   "metadata": {},
   "outputs": [
    {
     "data": {
      "text/plain": [
       "(34721, 64)"
      ]
     },
     "execution_count": 45,
     "metadata": {},
     "output_type": "execute_result"
    }
   ],
   "source": [
    "z_tr['m'].shape"
   ]
  },
  {
   "cell_type": "code",
   "execution_count": 61,
   "metadata": {},
   "outputs": [],
   "source": [
    "def get_top_cor(col, z, top = 4):\n",
    "    cor = np.zeros((z.shape[1],))\n",
    "    \n",
    "    for i in range(z.shape[1]):\n",
    "        cor[i] = spearmanr(z[:,i], col)[0]\n",
    "    \n",
    "    cor_abs = np.abs(cor)\n",
    "    idx = np.argsort(cor_abs)[::-1][:top]\n",
    "    \n",
    "    return cor[idx], idx"
   ]
  },
  {
   "cell_type": "code",
   "execution_count": 62,
   "metadata": {},
   "outputs": [
    {
     "name": "stdout",
     "output_type": "stream",
     "text": [
      "presence_terminal_loop: [-0.54687578 -0.50568814 -0.45718716  0.45261115] [15 10  9 34]\n",
      "start_loop_upperhalf_col: [-0.65116231 -0.52158547 -0.50579834 -0.4633974 ] [27 39 10 21]\n",
      "highest_point_loop_upperhalf_row: [-0.6620911  -0.50639063 -0.48075549  0.47229618] [15 17 42 35]\n",
      "highest_point_loop_upperhalf_col: [-0.64572885 -0.52348993 -0.50901481 -0.46551387] [27 39 10 21]\n",
      "loop_length: [-0.64187847 -0.51660843 -0.50713847 -0.41934945] [27 10 39 21]\n",
      "loop_width: [-0.65116231 -0.52158547 -0.50579834 -0.4633974 ] [27 39 10 21]\n",
      "gap_start: [ 0.56781736  0.48840642  0.45208274 -0.4488866 ] [15 10  9 34]\n",
      "palindrome_score: [-0.63248715 -0.62971146  0.56356037  0.52986915] [10  9 34 51]\n",
      "asymmetric: [ 0.46174392  0.45604996  0.43211848 -0.41560638] [ 9 15 10 34]\n",
      "large_asymmetric_bulge: [ 0.46340681  0.45254556  0.43460824 -0.39885986] [ 9 15 10 34]\n",
      "largest_asym_bulge_strand_location: [ 0.25868761  0.25235021  0.24705214 -0.23442684] [15  9 10 34]\n",
      "largest_asym_bulge_sequence_location: [ 0.32660371  0.32437604  0.32335133 -0.28605467] [15  9 10 51]\n",
      "stem_begin: [ 0.6387639  -0.61595818 -0.61013735 -0.60734943] [31 55 36 54]\n",
      "stem_end: [-0.65116231 -0.52158547 -0.50579834 -0.4633974 ] [27 39 10 21]\n",
      "stem_length: [ 0.62090317 -0.54650827 -0.53056359 -0.49019954] [31 55 36 40]\n",
      "total_length: [ 0.6387639  -0.61595818 -0.61013735 -0.60734943] [31 55 36 54]\n",
      "base_pairs_in_stem: [-0.6468304  -0.63589937  0.58176747  0.55257197] [ 9 10 34 51]\n",
      "base_pairs_wobbles_in_stem: [-0.67169798 -0.64822581  0.59636118 -0.56732096] [ 9 10 34 15]\n",
      "AU_pair_begin_maturemiRNA: [-0.31634052 -0.30329215  0.2786972   0.27033738] [10  9 34 51]\n",
      "UGU: [-0.21053571 -0.21017088 -0.20815646 -0.20058824] [10 39 27  9]\n"
     ]
    }
   ],
   "source": [
    "for i in concepts_test.columns[3:]:\n",
    "    c, idx = get_top_cor(concepts_test[i]*1.0, zm)\n",
    "    print(f'{i}: {c} {idx}')"
   ]
  },
  {
   "cell_type": "code",
   "execution_count": 53,
   "metadata": {},
   "outputs": [
    {
     "name": "stdout",
     "output_type": "stream",
     "text": [
      "0 0.14011964418587936\n",
      "1 -0.027015324318706783\n",
      "2 0.1991583660723179\n",
      "3 -0.1049297130229704\n",
      "4 0.19832440820562253\n",
      "5 0.13287836359825936\n",
      "6 0.23466439947330586\n",
      "7 0.06334974325076338\n",
      "8 0.11674723201531483\n",
      "9 -0.4452833409510196\n",
      "10 -0.49608752979514387\n",
      "11 -0.36696632878720475\n",
      "12 0.05617992704115656\n",
      "13 -0.21357974586073614\n",
      "14 -0.059297594591091296\n",
      "15 -0.5293271054006033\n",
      "16 -0.10842481273624902\n",
      "17 -0.14224310932137238\n",
      "18 -0.033417921989922314\n",
      "19 -0.014186637399854735\n",
      "20 0.004550212165171738\n",
      "21 -0.24378098776032134\n",
      "22 0.054195609586182504\n",
      "23 -0.33691611951137923\n",
      "24 0.1258934180680727\n",
      "25 0.2398785066049379\n",
      "26 0.07796792355533294\n",
      "27 -0.4389409531723619\n",
      "28 0.030841717516145298\n",
      "29 0.12956302422331903\n",
      "30 0.003635947117515877\n",
      "31 0.0809915116192387\n",
      "32 0.14813465536844542\n",
      "33 -0.0004301033636026912\n",
      "34 0.4520972377860495\n",
      "35 0.3125245503842604\n",
      "36 0.04955017393051441\n",
      "37 0.19405270375429307\n",
      "38 0.13333841816924402\n",
      "39 -0.30401115862723893\n",
      "40 0.08990965571294034\n",
      "41 0.1646053626676956\n",
      "42 -0.254237682789763\n",
      "43 0.037390315605388094\n",
      "44 -0.15390415427862578\n",
      "45 0.2593021776173232\n",
      "46 0.02987021140821348\n",
      "47 -0.3610428066580111\n",
      "48 -0.1310297315518193\n",
      "49 0.10174028731234531\n",
      "50 -0.19446100341956768\n",
      "51 0.38333553721640345\n",
      "52 0.019744374923797364\n",
      "53 -0.09029207958130177\n",
      "54 0.034503601953752835\n",
      "55 -0.11475312354587709\n",
      "56 -0.38973530984018256\n",
      "57 0.10874683766112865\n",
      "58 0.06577691589066627\n",
      "59 -0.2936180479443579\n",
      "60 0.03447924917574624\n",
      "61 0.18842440448261016\n",
      "62 0.004094250489115476\n",
      "63 -0.2037320425137561\n"
     ]
    }
   ],
   "source": [
    "zm = z_te['m']\n",
    "for i in range(z_te['m'].shape[1]):\n",
    "    print(f'{i} {pearsonr(zm[:,i], concepts_test[concepts_test.columns[3:]].presence_terminal_loop*1.0)[0]}')"
   ]
  },
  {
   "cell_type": "code",
   "execution_count": 51,
   "metadata": {},
   "outputs": [
    {
     "data": {
      "text/plain": [
       "((34721,), (14881,))"
      ]
     },
     "execution_count": 51,
     "metadata": {},
     "output_type": "execute_result"
    }
   ],
   "source": [
    "zm[:,i].shape, (concepts_test[concepts_test.columns[3:]].presence_terminal_loop*1.0).shape"
   ]
  },
  {
   "cell_type": "code",
   "execution_count": null,
   "metadata": {},
   "outputs": [],
   "source": []
  }
 ],
 "metadata": {
  "kernelspec": {
   "display_name": "Python 3",
   "language": "python",
   "name": "python3"
  },
  "language_info": {
   "codemirror_mode": {
    "name": "ipython",
    "version": 3
   },
   "file_extension": ".py",
   "mimetype": "text/x-python",
   "name": "python",
   "nbconvert_exporter": "python",
   "pygments_lexer": "ipython3",
   "version": "3.7.6"
  }
 },
 "nbformat": 4,
 "nbformat_minor": 4
}
